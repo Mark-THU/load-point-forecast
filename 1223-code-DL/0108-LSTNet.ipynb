{
 "cells": [
  {
   "cell_type": "markdown",
   "id": "4f563853",
   "metadata": {},
   "source": [
    "# LSTNet for forecast"
   ]
  },
  {
   "cell_type": "markdown",
   "id": "80eba2b2",
   "metadata": {},
   "source": [
    "**modified versions**\n",
    "1. 实现"
   ]
  },
  {
   "cell_type": "code",
   "execution_count": 1,
   "id": "d6e0b393",
   "metadata": {
    "ExecuteTime": {
     "end_time": "2022-01-08T03:23:50.892204Z",
     "start_time": "2022-01-08T03:23:49.932493Z"
    }
   },
   "outputs": [],
   "source": [
    "import pandas as pd\n",
    "import numpy as np\n",
    "import matplotlib.pyplot as plt\n",
    "import pdb\n",
    "import torch\n",
    "import torch.nn as nn\n",
    "import random\n",
    "\n",
    "from sklearn.preprocessing import MinMaxScaler\n",
    "from sklearn.model_selection import train_test_split, TimeSeriesSplit\n",
    "from torch.autograd import Variable\n",
    "from torch.utils.data import TensorDataset, DataLoader\n",
    "from tqdm import tqdm\n",
    "from torchsummary import summary\n",
    "\n",
    "if torch.cuda.is_available():  \n",
    "    dev = \"cuda:0\" \n",
    "else:  \n",
    "    dev = \"cpu\"\n",
    "device = torch.device(dev)"
   ]
  },
  {
   "cell_type": "code",
   "execution_count": 2,
   "id": "f25886a3",
   "metadata": {
    "ExecuteTime": {
     "end_time": "2022-01-08T03:23:50.901289Z",
     "start_time": "2022-01-08T03:23:50.895561Z"
    }
   },
   "outputs": [],
   "source": [
    "def random_seed_set(seed):\n",
    "    np.random.seed(seed)\n",
    "    torch.random.manual_seed(seed)\n",
    "    torch.cuda.random.manual_seed(seed)\n",
    "    torch.backends.cudnn.benchmark = False\n",
    "    torch.backends.cudnn.deterministic = True"
   ]
  },
  {
   "cell_type": "markdown",
   "id": "0fda0c1c",
   "metadata": {},
   "source": [
    "## load data"
   ]
  },
  {
   "cell_type": "code",
   "execution_count": 3,
   "id": "9ff14f66",
   "metadata": {
    "ExecuteTime": {
     "end_time": "2022-01-08T03:23:50.990210Z",
     "start_time": "2022-01-08T03:23:50.903348Z"
    }
   },
   "outputs": [],
   "source": [
    "url = '../data/beijing.csv'\n",
    "data = pd.read_csv(url, sep=',', index_col='time')\n",
    "data.index = pd.to_datetime(data.index)"
   ]
  },
  {
   "cell_type": "markdown",
   "id": "56e6e021",
   "metadata": {},
   "source": [
    "## normalization"
   ]
  },
  {
   "cell_type": "code",
   "execution_count": 4,
   "id": "ff1f7918",
   "metadata": {
    "ExecuteTime": {
     "end_time": "2022-01-08T03:23:50.995681Z",
     "start_time": "2022-01-08T03:23:50.992291Z"
    }
   },
   "outputs": [],
   "source": [
    "def normalization(data):\n",
    "    \"\"\"\n",
    "    data: original data with load\n",
    "    return: normalized data, scaler of load\n",
    "    \"\"\"\n",
    "    scaler = MinMaxScaler()\n",
    "    normalized_data = scaler.fit_transform(data)\n",
    "    scaler_y = MinMaxScaler()\n",
    "    scaler_y.fit_transform(data[[data.columns[-1]]])\n",
    "    return normalized_data, scaler, scaler_y"
   ]
  },
  {
   "cell_type": "markdown",
   "id": "c4f12627",
   "metadata": {
    "ExecuteTime": {
     "end_time": "2021-12-22T07:45:44.192666Z",
     "start_time": "2021-12-22T07:45:44.188985Z"
    }
   },
   "source": [
    "## build supervised dataset"
   ]
  },
  {
   "cell_type": "code",
   "execution_count": 5,
   "id": "dadd2b0a",
   "metadata": {
    "ExecuteTime": {
     "end_time": "2022-01-08T03:23:51.001364Z",
     "start_time": "2022-01-08T03:23:50.997329Z"
    }
   },
   "outputs": [],
   "source": [
    "def series_to_supervise(data, seq_len, target_len):\n",
    "    \"\"\"\n",
    "    convert series data to supervised data\n",
    "    :param data: original data\n",
    "    :param seq_len: length of input sequence\n",
    "    :param target_len: length of ouput sequence\n",
    "    :return: return two ndarrays-- input and output in format suitable to feed to RNN\n",
    "    \"\"\"\n",
    "    dim_0 = data.shape[0] - seq_len - target_len + 1\n",
    "    dim_1 = data.shape[1]\n",
    "    x = np.zeros((dim_0, seq_len, dim_1))\n",
    "    y = np.zeros((dim_0, target_len))\n",
    "    for i in range(dim_0):\n",
    "        x[i] = data[i:i + seq_len]\n",
    "        y[i] = data[i + seq_len:i + seq_len + target_len, -1]\n",
    "    print(\"supervised data: shape of x: {}, shape of y: {}\".format(x.shape, y.shape))\n",
    "    return x, y"
   ]
  },
  {
   "cell_type": "markdown",
   "id": "9fa981ab",
   "metadata": {},
   "source": [
    "## 5-folds TimeSeriesSplit"
   ]
  },
  {
   "cell_type": "code",
   "execution_count": 6,
   "id": "d506b01c",
   "metadata": {
    "ExecuteTime": {
     "end_time": "2022-01-08T03:23:51.006328Z",
     "start_time": "2022-01-08T03:23:51.002795Z"
    }
   },
   "outputs": [],
   "source": [
    "def time_series_split(X, Y, n_split=5):\n",
    "    \"\"\"\n",
    "    X: features, size * seq_len * feature_num\n",
    "    Y: labels, size * target_len\n",
    "    return: list of train_x, test_x, train_y, test_y\n",
    "    \"\"\"\n",
    "    tscv = TimeSeriesSplit(n_splits=n_split)\n",
    "    train_x_list = list()\n",
    "    valid_x_list = list()\n",
    "    train_y_list = list()\n",
    "    valid_y_list = list()\n",
    "    for train_index, valid_index in tscv.split(X):\n",
    "        train_x_list.append(X[train_index])\n",
    "        train_y_list.append(Y[train_index])\n",
    "        valid_x_list.append(X[valid_index])\n",
    "        valid_y_list.append(Y[valid_index])\n",
    "    return train_x_list, train_y_list, valid_x_list, valid_y_list"
   ]
  },
  {
   "cell_type": "markdown",
   "id": "3b2b96dc",
   "metadata": {},
   "source": [
    "## LSTNet model"
   ]
  },
  {
   "cell_type": "markdown",
   "id": "48c4af67",
   "metadata": {},
   "source": [
    "### define model"
   ]
  },
  {
   "cell_type": "code",
   "execution_count": 41,
   "id": "a62a7d5b",
   "metadata": {
    "ExecuteTime": {
     "end_time": "2022-01-08T04:28:30.967640Z",
     "start_time": "2022-01-08T04:28:30.766316Z"
    }
   },
   "outputs": [],
   "source": [
    "class LSTNet(nn.Module):\n",
    "    def __init__(self,\n",
    "                 seq_len=72,\n",
    "                 tar_len=24,\n",
    "                 input_size=16,\n",
    "                 n_layers=2,\n",
    "                 hidR=64,\n",
    "                 hidC=64,\n",
    "                 hidS=32,\n",
    "                 Ck=3,\n",
    "                 skip=24,\n",
    "                 hw=48,\n",
    "                 drop_prob=0.1):\n",
    "        super(LSTNet, self).__init__()\n",
    "\n",
    "        # parameters\n",
    "        self.tar_len = tar_len\n",
    "        self.hidC = hidC\n",
    "        self.pt = int((seq_len + 3 - Ck) / skip)\n",
    "        self.skip = skip\n",
    "        self.hw = hw\n",
    "        # layers\n",
    "        self.cnn = nn.Sequential(\n",
    "            nn.Conv2d(1, hidC, kernel_size=(Ck, input_size), padding=(1, 0)),\n",
    "            nn.ReLU())\n",
    "        self.rnn = nn.GRU(hidC, hidR, num_layers=n_layers)\n",
    "        self.dropout = nn.Dropout(drop_prob)\n",
    "        self.rnn_skip = nn.GRU(hidC, hidS, num_layers=n_layers)\n",
    "        self.highway = nn.Linear(hw, tar_len)\n",
    "        self.fc = nn.Sequential()\n",
    "        \n",
    "        input_size = hidR + hidS\n",
    "        i = 0\n",
    "        while (input_size > 8):\n",
    "            self.fc.add_module('linear{}'.format(i),\n",
    "                               nn.Linear(input_size, round(input_size / 2)))\n",
    "            self.fc.add_module('relu{}'.format(i), nn.ReLU())\n",
    "            input_size = round(input_size / 2)\n",
    "            i += 1\n",
    "        self.fc.add_module('linear{}'.format(i), nn.Linear(input_size, 1))\n",
    "\n",
    "    def forward(self, X):\n",
    "        \"\"\"\n",
    "        X shape (batch_size, seq_len, input_size)\n",
    "        \"\"\"\n",
    "        batch_size = X.shape[0]\n",
    "\n",
    "        ### CNN\n",
    "        cnn_input = X.unsqueeze(1)\n",
    "        # X shape (batch_size, 1, seq_len, input_size)\n",
    "        cnn_out = self.dropout(self.cnn(cnn_input).squeeze(3))\n",
    "        # cnn_out shape (batch_size, hidC, seq_len+3-Ck[seq_len])\n",
    "        ### CNN\n",
    "\n",
    "        ### RNN\n",
    "        rnn_input = cnn_out.permute(2, 0, 1).contiguous()\n",
    "        # rnn_input shape (seq_len, batch_size, hidC)\n",
    "\n",
    "        rnn_out, _ = self.rnn(rnn_input)\n",
    "        # rnn_out shape (seq_len, batch_size, hidR)\n",
    "\n",
    "        rnn_out = rnn_out[-self.tar_len:, :, :]\n",
    "        rnn_out = self.dropout(rnn_out)\n",
    "        # rnn_out shape (tar_len, batch_size, hidR)\n",
    "        ### RNN\n",
    "\n",
    "        ### RNN_SKIP\n",
    "        rnn_skip_input = cnn_out[:, :, -int(self.pt * self.skip):]\n",
    "        # rnn_skip_input shape (batch_size, hidC, seq_len)\n",
    "\n",
    "        rnn_skip_input = rnn_skip_input.reshape(batch_size, self.hidC, self.pt,\n",
    "                                                self.skip)\n",
    "        rnn_skip_input = rnn_skip_input.permute(2, 0, 3, 1).contiguous()\n",
    "        # rnn_skip_input shape (self.pt, batch_size, self.skip, self.hidC)\n",
    "\n",
    "        rnn_skip_input = rnn_skip_input.reshape(self.pt,\n",
    "                                                batch_size * self.skip,\n",
    "                                                self.hidC)\n",
    "        _, rnn_skip_output = self.rnn_skip(rnn_skip_input)\n",
    "        # rnn_skip_output shape (n_layers, batch_size * self.skip, self.hidS)\n",
    "\n",
    "        rnn_skip_output = rnn_skip_output[-1].reshape(self.skip, batch_size,\n",
    "                                                      -1)\n",
    "        # rnn_skip_output shape (self.skip[tar_len], batch_size, hidS)\n",
    "        ### RNN_SKIP\n",
    "\n",
    "        ### highway\n",
    "        hw_input = X[:, -self.hw:, -1]\n",
    "        # hw_input shape (batch_size, hw)\n",
    "\n",
    "        hw_out = self.highway(hw_input)\n",
    "        # hw_out shape (batch_size, tar_len)\n",
    "\n",
    "        ### Concat rnn_out and rnn_skip_out\n",
    "        \n",
    "        rnns_out = torch.cat((rnn_out, rnn_skip_output), dim=-1)\n",
    "        # rnns_out shape (tar_len, batch_size, hidR + hidS)\n",
    "        rnns_out = self.fc(rnns_out).reshape(batch_size, -1)\n",
    "        # rnns_out shape (batch_size, tar_len)\n",
    "        ### highway\n",
    "\n",
    "        #***这里的处理值得商榷，一般都是concat+linear***\n",
    "        output = hw_out + rnns_out\n",
    "        # output shape (batch_size, tar_len)\n",
    "\n",
    "        return torch.tanh(output)"
   ]
  },
  {
   "cell_type": "markdown",
   "id": "fcacdff0",
   "metadata": {},
   "source": [
    "### test model"
   ]
  },
  {
   "cell_type": "code",
   "execution_count": 42,
   "id": "ecc71a5b",
   "metadata": {
    "ExecuteTime": {
     "end_time": "2022-01-08T04:28:32.237421Z",
     "start_time": "2022-01-08T04:28:32.204485Z"
    }
   },
   "outputs": [
    {
     "name": "stdout",
     "output_type": "stream",
     "text": [
      "torch.Size([10, 24])\n",
      "----------------------------------------------------------------\n",
      "        Layer (type)               Output Shape         Param #\n",
      "================================================================\n",
      "            Conv2d-1            [-1, 64, 72, 1]           3,136\n",
      "              ReLU-2            [-1, 64, 72, 1]               0\n",
      "           Dropout-3               [-1, 64, 72]               0\n",
      "               GRU-4  [[-1, 2, 64], [-1, 2, 64]]               0\n",
      "           Dropout-5                [-1, 2, 64]               0\n",
      "               GRU-6  [[-1, 48, 32], [-1, 48, 32]]               0\n",
      "            Linear-7                   [-1, 24]           1,176\n",
      "            Linear-8                [-1, 2, 48]           4,656\n",
      "              ReLU-9                [-1, 2, 48]               0\n",
      "           Linear-10                [-1, 2, 24]           1,176\n",
      "             ReLU-11                [-1, 2, 24]               0\n",
      "           Linear-12                [-1, 2, 12]             300\n",
      "             ReLU-13                [-1, 2, 12]               0\n",
      "           Linear-14                 [-1, 2, 6]              78\n",
      "             ReLU-15                 [-1, 2, 6]               0\n",
      "           Linear-16                 [-1, 2, 1]               7\n",
      "================================================================\n",
      "Total params: 10,529\n",
      "Trainable params: 10,529\n",
      "Non-trainable params: 0\n",
      "----------------------------------------------------------------\n",
      "Input size (MB): 0.00\n",
      "Forward/backward pass size (MB): 18.02\n",
      "Params size (MB): 0.04\n",
      "Estimated Total Size (MB): 18.06\n",
      "----------------------------------------------------------------\n"
     ]
    }
   ],
   "source": [
    "model = LSTNet().to(device)\n",
    "X = torch.randn(10, 72, 16).to(device)\n",
    "out = model(X)\n",
    "print(out.shape)\n",
    "summary(model, (72, 16))"
   ]
  },
  {
   "cell_type": "markdown",
   "id": "11257392",
   "metadata": {
    "ExecuteTime": {
     "end_time": "2021-12-22T08:30:19.661769Z",
     "start_time": "2021-12-22T08:30:19.656770Z"
    }
   },
   "source": [
    "## model training for HPO"
   ]
  },
  {
   "cell_type": "code",
   "execution_count": 43,
   "id": "93f13f09",
   "metadata": {
    "ExecuteTime": {
     "end_time": "2022-01-08T04:28:49.645102Z",
     "start_time": "2022-01-08T04:28:49.622094Z"
    }
   },
   "outputs": [],
   "source": [
    "def train_model_hpo(train_x_list, train_y_list, valid_x_list, valid_y_list,\n",
    "                    input_size, output_size, mse_thresh, batch_size, lr,\n",
    "                    number_epoch, hidden_dim, n_layers, drop_prob, weight_decay):\n",
    "    valid_loss_list = []\n",
    "    for num in range(len(train_x_list)):\n",
    "        while (1):\n",
    "            model = LSTNet()\n",
    "            model.to(device=device)\n",
    "            criterion = nn.MSELoss()\n",
    "            optimizer = torch.optim.Adam(model.parameters(), lr=lr, weight_decay=weight_decay)\n",
    "            scheduler = torch.optim.lr_scheduler.StepLR(optimizer, 1, gamma=0.98)\n",
    "            valid_loss_min = np.Inf\n",
    "            print('cross-validation dataset {}'.format(num))\n",
    "            train_x = train_x_list[num]\n",
    "            train_y = train_y_list[num]\n",
    "            valid_x = valid_x_list[num]\n",
    "            valid_y = valid_y_list[num]\n",
    "            train_dataset = TensorDataset(torch.FloatTensor(train_x),\n",
    "                                          torch.FloatTensor(train_y))\n",
    "            valid_dataset = TensorDataset(torch.FloatTensor(valid_x),\n",
    "                                          torch.FloatTensor(valid_y))\n",
    "            train_loader = DataLoader(dataset=train_dataset,\n",
    "                                      batch_size=batch_size,\n",
    "                                      shuffle=True,\n",
    "                                      drop_last=False)\n",
    "            valid_loader = DataLoader(dataset=valid_dataset,\n",
    "                                      batch_size=batch_size,\n",
    "                                      shuffle=True,\n",
    "                                      drop_last=False)\n",
    "            num_without_imp = 0\n",
    "            # training process\n",
    "            for epoch in range(1, number_epoch + 1):\n",
    "                loop = tqdm(enumerate(train_loader),\n",
    "                            total=len(train_loader),\n",
    "                            leave=True, ncols=100)\n",
    "                for i, (inputs, labels) in loop:\n",
    "                    inputs = inputs.to(device=device)\n",
    "                    labels = labels.to(device=device)\n",
    "                    optimizer.zero_grad()\n",
    "                    outputs = model(inputs)\n",
    "                    loss = criterion(outputs, labels)\n",
    "                    loss.backward()\n",
    "                    optimizer.step()\n",
    "                    if i % 5 == 0:\n",
    "                        num_without_imp = num_without_imp + 1\n",
    "                        valid_losses = list()\n",
    "                        model.eval()\n",
    "                        for inp, lab in valid_loader:\n",
    "                            inp = inp.to(device)\n",
    "                            lab = lab.to(device)\n",
    "                            out = model(inp)\n",
    "                            valid_loss = criterion(out, lab)\n",
    "                            valid_losses.append(valid_loss.item())\n",
    "\n",
    "                        model.train()\n",
    "                        loop.set_description(\"Epoch: {}/{}\".format(\n",
    "                            epoch, number_epoch))\n",
    "                        loop.set_postfix(train_loss=loss.item(),\n",
    "                                         valid_loss=np.mean(valid_losses))\n",
    "                        if np.mean(valid_losses) < valid_loss_min:\n",
    "                            num_without_imp = 0\n",
    "                            valid_loss_min = np.mean(valid_losses)\n",
    "                scheduler.step()\n",
    "                if num_without_imp >= 50:\n",
    "#                     break\n",
    "                    pass\n",
    "            if valid_loss_min < mse_thresh:\n",
    "                valid_loss_list.append(valid_loss_min)\n",
    "                break\n",
    "    return np.mean(valid_loss_list)"
   ]
  },
  {
   "cell_type": "markdown",
   "id": "31edce7f",
   "metadata": {},
   "source": [
    "## hyper-parameters config"
   ]
  },
  {
   "cell_type": "code",
   "execution_count": 44,
   "id": "22dcc335",
   "metadata": {
    "ExecuteTime": {
     "end_time": "2022-01-08T04:28:55.641294Z",
     "start_time": "2022-01-08T04:28:55.630292Z"
    }
   },
   "outputs": [],
   "source": [
    "seq_len = 72\n",
    "target_len = 24\n",
    "mse_thresh = 0.05\n",
    "\n",
    "\n",
    "def model_config():\n",
    "    batch_sizes = [256]\n",
    "    lrs = [0.01]\n",
    "    number_epochs = [30]\n",
    "    hidden_dims = [128]\n",
    "    n_layers = [2]\n",
    "    drop_prob = [0]\n",
    "    weight_decays = [0]\n",
    "    configs = list()\n",
    "    for i in batch_sizes:\n",
    "        for j in lrs:\n",
    "            for k in number_epochs:\n",
    "                for l in hidden_dims:\n",
    "                    for m in n_layers:\n",
    "                        for n in drop_prob:\n",
    "                            for o in weight_decays:\n",
    "                                configs.append({\n",
    "                                    'batch_size': i,\n",
    "                                    'lr': j,\n",
    "                                    'number_epoch': k,\n",
    "                                    'hidden_dim': l,\n",
    "                                    'n_layers': m,\n",
    "                                    'drop_prob': n,\n",
    "                                    'weight_decay': o,\n",
    "                                })\n",
    "    return configs"
   ]
  },
  {
   "cell_type": "markdown",
   "id": "c1977a7a",
   "metadata": {},
   "source": [
    "## random search for HPO"
   ]
  },
  {
   "cell_type": "code",
   "execution_count": 45,
   "id": "755e5caa",
   "metadata": {
    "ExecuteTime": {
     "end_time": "2022-01-08T04:28:59.220018Z",
     "start_time": "2022-01-08T04:28:59.204463Z"
    }
   },
   "outputs": [],
   "source": [
    "def run_model_hpo(seq_len=seq_len,\n",
    "                  target_len=target_len,\n",
    "                  mse_thresh=mse_thresh):\n",
    "    train_data = data[:int(0.8 * len(data))]\n",
    "    train_data, _, _ = normalization(train_data)\n",
    "    train_x, train_y = series_to_supervise(train_data, seq_len, target_len)\n",
    "    train_x_list, train_y_list, valid_x_list, valid_y_list = time_series_split(\n",
    "        train_x, train_y)\n",
    "    #     with enough data\n",
    "    train_x_list = train_x_list[-1:]\n",
    "    train_y_list = train_y_list[-1:]\n",
    "    valid_x_list = valid_x_list[-1:]\n",
    "    valid_y_list = valid_y_list[-1:]\n",
    "\n",
    "    configs = model_config()\n",
    "    records = []\n",
    "    input_size = train_x.shape[2]\n",
    "    output_size = target_len\n",
    "    for i in range(1):\n",
    "        config = random.choice(configs)\n",
    "        configs.remove(config)\n",
    "        batch_size = config['batch_size']\n",
    "        lr = config['lr']\n",
    "        number_epoch = config['number_epoch']\n",
    "        hidden_dim = config['hidden_dim']\n",
    "        n_layers = config['n_layers']\n",
    "        drop_prob = config['drop_prob']\n",
    "        weight_decay = config['weight_decay']\n",
    "        print(\n",
    "            \"model config: batch_size-{}, lr-{}, number_epoch-{}, hidden_dim-{}, n_layers-{},drop_prob-{},weight_decay-{}\"\n",
    "            .format(batch_size, lr, number_epoch, hidden_dim, n_layers,\n",
    "                    drop_prob, weight_decay))\n",
    "        valid_loss = train_model_hpo(train_x_list, train_y_list, valid_x_list,\n",
    "                                     valid_y_list, input_size, output_size,\n",
    "                                     mse_thresh, batch_size, lr, number_epoch,\n",
    "                                     hidden_dim, n_layers, drop_prob, weight_decay)\n",
    "        records.append({\n",
    "            'batch_size': batch_size,\n",
    "            'lr': lr,\n",
    "            'number_epoch': number_epoch,\n",
    "            'hidden_dim': hidden_dim,\n",
    "            'n_layers': n_layers,\n",
    "            'drop_prob': drop_prob,\n",
    "            'weight_decay': weight_decay,\n",
    "            'valid_loss': valid_loss\n",
    "        })\n",
    "    return records"
   ]
  },
  {
   "cell_type": "markdown",
   "id": "2995a30c",
   "metadata": {},
   "source": [
    "## run random search"
   ]
  },
  {
   "cell_type": "code",
   "execution_count": 23,
   "id": "c529ce1a",
   "metadata": {
    "ExecuteTime": {
     "end_time": "2022-01-02T11:42:14.894838Z",
     "start_time": "2022-01-02T11:41:11.658334Z"
    }
   },
   "outputs": [
    {
     "name": "stdout",
     "output_type": "stream",
     "text": [
      "supervised data: shape of x: (25232, 72, 16), shape of y: (25232, 24)\n",
      "model config: batch_size-256, lr-0.01, number_epoch-30, hidden_dim-128, n_layers-2,drop_prob-0,weight_decay-0\n",
      "cross-validation dataset 0\n"
     ]
    },
    {
     "name": "stderr",
     "output_type": "stream",
     "text": [
      "Epoch: 1/30: 100%|████████████| 83/83 [00:02<00:00, 40.93it/s, train_loss=0.0377, valid_loss=0.0428]\n",
      "Epoch: 2/30: 100%|█████████████| 83/83 [00:02<00:00, 38.04it/s, train_loss=0.0303, valid_loss=0.035]\n",
      "Epoch: 3/30: 100%|████████████| 83/83 [00:02<00:00, 40.82it/s, train_loss=0.0163, valid_loss=0.0267]\n",
      "Epoch: 4/30: 100%|████████████| 83/83 [00:02<00:00, 39.29it/s, train_loss=0.0119, valid_loss=0.0191]\n",
      "Epoch: 5/30: 100%|██████████| 83/83 [00:02<00:00, 40.61it/s, train_loss=0.00492, valid_loss=0.00736]\n",
      "Epoch: 6/30: 100%|███████████| 83/83 [00:02<00:00, 39.89it/s, train_loss=0.0032, valid_loss=0.00449]\n",
      "Epoch: 7/30: 100%|███████████| 83/83 [00:02<00:00, 40.49it/s, train_loss=0.0024, valid_loss=0.00368]\n",
      "Epoch: 8/30: 100%|██████████| 83/83 [00:02<00:00, 38.91it/s, train_loss=0.00277, valid_loss=0.00446]\n",
      "Epoch: 9/30: 100%|██████████| 83/83 [00:02<00:00, 39.73it/s, train_loss=0.00266, valid_loss=0.00343]\n",
      "Epoch: 10/30: 100%|█████████| 83/83 [00:02<00:00, 40.84it/s, train_loss=0.00223, valid_loss=0.00363]\n",
      "Epoch: 11/30: 100%|█████████| 83/83 [00:02<00:00, 39.07it/s, train_loss=0.00191, valid_loss=0.00317]\n",
      "Epoch: 12/30: 100%|██████████| 83/83 [00:02<00:00, 40.79it/s, train_loss=0.0028, valid_loss=0.00346]\n",
      "Epoch: 13/30: 100%|█████████| 83/83 [00:02<00:00, 39.91it/s, train_loss=0.00197, valid_loss=0.00323]\n",
      "Epoch: 14/30: 100%|█████████| 83/83 [00:02<00:00, 40.95it/s, train_loss=0.00198, valid_loss=0.00283]\n",
      "Epoch: 15/30: 100%|█████████| 83/83 [00:02<00:00, 39.18it/s, train_loss=0.00187, valid_loss=0.00321]\n",
      "Epoch: 16/30: 100%|█████████| 83/83 [00:02<00:00, 40.23it/s, train_loss=0.00193, valid_loss=0.00271]\n",
      "Epoch: 17/30: 100%|█████████| 83/83 [00:02<00:00, 39.43it/s, train_loss=0.00219, valid_loss=0.00279]\n",
      "Epoch: 18/30: 100%|█████████| 83/83 [00:02<00:00, 40.57it/s, train_loss=0.00209, valid_loss=0.00272]\n",
      "Epoch: 19/30: 100%|█████████| 83/83 [00:02<00:00, 39.45it/s, train_loss=0.00189, valid_loss=0.00263]\n",
      "Epoch: 20/30: 100%|█████████| 83/83 [00:02<00:00, 40.94it/s, train_loss=0.00201, valid_loss=0.00243]\n",
      "Epoch: 21/30: 100%|█████████| 83/83 [00:02<00:00, 41.17it/s, train_loss=0.00179, valid_loss=0.00313]\n",
      "Epoch: 22/30: 100%|█████████| 83/83 [00:02<00:00, 39.96it/s, train_loss=0.00174, valid_loss=0.00276]\n",
      "Epoch: 23/30: 100%|█████████| 83/83 [00:02<00:00, 41.26it/s, train_loss=0.00162, valid_loss=0.00279]\n",
      "Epoch: 24/30: 100%|██████████| 83/83 [00:02<00:00, 40.15it/s, train_loss=0.0015, valid_loss=0.00339]\n",
      "Epoch: 25/30: 100%|█████████| 83/83 [00:02<00:00, 37.78it/s, train_loss=0.00155, valid_loss=0.00284]\n",
      "Epoch: 26/30: 100%|█████████| 83/83 [00:02<00:00, 34.97it/s, train_loss=0.00175, valid_loss=0.00268]\n",
      "Epoch: 27/30: 100%|█████████| 83/83 [00:02<00:00, 39.81it/s, train_loss=0.00145, valid_loss=0.00235]\n",
      "Epoch: 28/30: 100%|█████████| 83/83 [00:02<00:00, 39.39it/s, train_loss=0.00157, valid_loss=0.00228]\n",
      "Epoch: 29/30: 100%|█████████| 83/83 [00:02<00:00, 40.47it/s, train_loss=0.00164, valid_loss=0.00234]\n",
      "Epoch: 30/30: 100%|█████████| 83/83 [00:02<00:00, 39.19it/s, train_loss=0.00146, valid_loss=0.00227]\n"
     ]
    }
   ],
   "source": [
    "random_seed_set(16)\n",
    "records = run_model_hpo()"
   ]
  },
  {
   "cell_type": "markdown",
   "id": "c0aeb78f",
   "metadata": {
    "ExecuteTime": {
     "end_time": "2021-12-22T08:52:06.844501Z",
     "start_time": "2021-12-22T08:52:06.830928Z"
    }
   },
   "source": [
    "## find the best hyper-parameters"
   ]
  },
  {
   "cell_type": "code",
   "execution_count": 24,
   "id": "23875dc6",
   "metadata": {
    "ExecuteTime": {
     "end_time": "2022-01-02T11:43:24.981530Z",
     "start_time": "2022-01-02T11:43:24.955644Z"
    }
   },
   "outputs": [
    {
     "data": {
      "text/html": [
       "<div>\n",
       "<style scoped>\n",
       "    .dataframe tbody tr th:only-of-type {\n",
       "        vertical-align: middle;\n",
       "    }\n",
       "\n",
       "    .dataframe tbody tr th {\n",
       "        vertical-align: top;\n",
       "    }\n",
       "\n",
       "    .dataframe thead th {\n",
       "        text-align: right;\n",
       "    }\n",
       "</style>\n",
       "<table border=\"1\" class=\"dataframe\">\n",
       "  <thead>\n",
       "    <tr style=\"text-align: right;\">\n",
       "      <th></th>\n",
       "      <th>batch_size</th>\n",
       "      <th>lr</th>\n",
       "      <th>number_epoch</th>\n",
       "      <th>hidden_dim</th>\n",
       "      <th>n_layers</th>\n",
       "      <th>drop_prob</th>\n",
       "      <th>weight_decay</th>\n",
       "      <th>valid_loss</th>\n",
       "    </tr>\n",
       "  </thead>\n",
       "  <tbody>\n",
       "    <tr>\n",
       "      <th>0</th>\n",
       "      <td>256</td>\n",
       "      <td>0.01</td>\n",
       "      <td>30</td>\n",
       "      <td>128</td>\n",
       "      <td>2</td>\n",
       "      <td>0</td>\n",
       "      <td>0</td>\n",
       "      <td>0.002251</td>\n",
       "    </tr>\n",
       "  </tbody>\n",
       "</table>\n",
       "</div>"
      ],
      "text/plain": [
       "   batch_size    lr  number_epoch  hidden_dim  n_layers  drop_prob  \\\n",
       "0         256  0.01            30         128         2          0   \n",
       "\n",
       "   weight_decay  valid_loss  \n",
       "0             0    0.002251  "
      ]
     },
     "execution_count": 24,
     "metadata": {},
     "output_type": "execute_result"
    }
   ],
   "source": [
    "records = pd.DataFrame(records).sort_values(by='valid_loss')\n",
    "records.to_csv('./records/LSTNet_records.csv', mode='a', index=False, header=False)\n",
    "records"
   ]
  },
  {
   "cell_type": "markdown",
   "id": "e5ef26ab",
   "metadata": {},
   "source": [
    "## retrain a model"
   ]
  },
  {
   "cell_type": "code",
   "execution_count": 47,
   "id": "01b388de",
   "metadata": {
    "ExecuteTime": {
     "end_time": "2022-01-08T04:29:38.226956Z",
     "start_time": "2022-01-08T04:29:38.204169Z"
    }
   },
   "outputs": [],
   "source": [
    "def train_model(train_x, train_y, valid_x, valid_y, input_size, output_size,\n",
    "                mse_thresh, batch_size, lr, number_epoch, hidden_dim, n_layers,\n",
    "                drop_prob, weight_decay):\n",
    "    while (1):\n",
    "        model = LSTNet()\n",
    "        model.to(device=device)\n",
    "        criterion = nn.MSELoss()\n",
    "        optimizer = torch.optim.Adam(model.parameters(), lr=lr, weight_decay=weight_decay)\n",
    "        scheduler = torch.optim.lr_scheduler.StepLR(optimizer, 1, gamma=0.98)\n",
    "        valid_loss_min = np.Inf\n",
    "        train_dataset = TensorDataset(torch.FloatTensor(train_x),\n",
    "                                      torch.FloatTensor(train_y))\n",
    "        valid_dataset = TensorDataset(torch.FloatTensor(valid_x),\n",
    "                                      torch.FloatTensor(valid_y))\n",
    "        train_loader = DataLoader(dataset=train_dataset,\n",
    "                                  batch_size=batch_size,\n",
    "                                  shuffle=True,\n",
    "                                  drop_last=False)\n",
    "        valid_loader = DataLoader(dataset=valid_dataset,\n",
    "                                  batch_size=batch_size,\n",
    "                                  shuffle=True,\n",
    "                                  drop_last=False)\n",
    "        num_without_imp = 0\n",
    "        train_loss_list = []\n",
    "        valid_loss_list = []\n",
    "        # training process\n",
    "        for epoch in range(1, number_epoch + 1):\n",
    "            loop = tqdm(enumerate(train_loader),\n",
    "                        total=len(train_loader),\n",
    "                        leave=True, ncols=100)\n",
    "            for i, (inputs, labels) in loop:\n",
    "                inputs = inputs.to(device=device)\n",
    "                labels = labels.to(device=device)\n",
    "                optimizer.zero_grad()\n",
    "                outputs = model(inputs)\n",
    "                loss = criterion(outputs, labels)\n",
    "                loss.backward()\n",
    "                optimizer.step()\n",
    "                if i % 5 == 0:\n",
    "                    num_without_imp = num_without_imp + 1\n",
    "                    valid_losses = list()\n",
    "                    model.eval()\n",
    "                    for inp, lab in valid_loader:\n",
    "                        inp = inp.to(device)\n",
    "                        lab = lab.to(device)\n",
    "                        out = model(inp)\n",
    "                        valid_loss = criterion(out, lab)\n",
    "                        valid_losses.append(valid_loss.item())\n",
    "\n",
    "                    model.train()\n",
    "                    loop.set_description(\"Epoch: {}/{}\".format(\n",
    "                        epoch, number_epoch))\n",
    "                    loop.set_postfix(train_loss=loss.item(),\n",
    "                                     valid_loss=np.mean(valid_losses))\n",
    "                    \n",
    "                    train_loss_list.append(loss.item())\n",
    "                    valid_loss_list.append(np.mean(valid_losses))\n",
    "                    if np.mean(valid_losses) < valid_loss_min:\n",
    "                        num_without_imp = 0\n",
    "                        torch.save(model.state_dict(),\n",
    "                                   './model/LSTNet_state_dict.pt')\n",
    "                        valid_loss_min = np.mean(valid_losses)\n",
    "            scheduler.step()\n",
    "        if valid_loss_min < mse_thresh:\n",
    "            break\n",
    "    return model, train_loss_list, valid_loss_list"
   ]
  },
  {
   "cell_type": "markdown",
   "id": "29f13a22",
   "metadata": {},
   "source": [
    "## test results"
   ]
  },
  {
   "cell_type": "code",
   "execution_count": 48,
   "id": "79883eb6",
   "metadata": {
    "ExecuteTime": {
     "end_time": "2022-01-08T04:29:47.038893Z",
     "start_time": "2022-01-08T04:29:47.024047Z"
    }
   },
   "outputs": [],
   "source": [
    "def test_model(model, test_x, test_y, scaler_y, batch_size):\n",
    "    test_dataset = TensorDataset(torch.FloatTensor(test_x),\n",
    "                                 torch.FloatTensor(test_y))\n",
    "    test_loader = DataLoader(dataset=test_dataset,\n",
    "                             batch_size=batch_size,\n",
    "                             shuffle=False,\n",
    "                             drop_last=False)\n",
    "    model.load_state_dict(torch.load('./model/LSTNet_state_dict.pt'))\n",
    "    y_pred = []\n",
    "    y_true = []\n",
    "    with torch.no_grad():\n",
    "        for inputs, label in test_loader:\n",
    "            inputs = inputs.to(device)\n",
    "            label = label.to(device)\n",
    "            outputs = model(inputs)\n",
    "            y_pred += outputs.cpu().numpy().flatten().tolist()\n",
    "            y_true += label.cpu().numpy().flatten().tolist()\n",
    "    y_pred = np.array(y_pred).reshape(-1, 1)\n",
    "    y_true = np.array(y_true).reshape(-1, 1)\n",
    "#     pdb.set_trace()\n",
    "    load_pred = scaler_y.inverse_transform(y_pred)\n",
    "    load_true = scaler_y.inverse_transform(y_true)\n",
    "    MAPE = np.mean(np.abs(load_true - load_pred) / load_true)\n",
    "    MAE = np.mean(np.abs(load_true - load_pred))\n",
    "    RMSE = np.sqrt(np.mean(np.square(load_true - load_pred)))\n",
    "    return MAPE, MAE, RMSE, load_pred, load_true"
   ]
  },
  {
   "cell_type": "markdown",
   "id": "787f3e04",
   "metadata": {},
   "source": [
    "## run model retraining"
   ]
  },
  {
   "cell_type": "code",
   "execution_count": 49,
   "id": "17568d80",
   "metadata": {
    "ExecuteTime": {
     "end_time": "2022-01-08T04:29:53.820339Z",
     "start_time": "2022-01-08T04:29:53.803194Z"
    }
   },
   "outputs": [],
   "source": [
    "def run_model_retraining(seq_len=seq_len,\n",
    "                         target_len=target_len,\n",
    "                         mse_thresh=mse_thresh):\n",
    "    train_data = data[:int(0.8 * len(data))]\n",
    "    #     train_data = data[:-800]\n",
    "    train_data, scaler, scaler_y = normalization(train_data)\n",
    "    train_x, train_y = series_to_supervise(train_data, seq_len, target_len)\n",
    "\n",
    "    valid_x = train_x[int(0.8 * len(train_x)):]\n",
    "    valid_y = train_y[int(0.8 * len(train_y)):]\n",
    "    train_x = train_x[:int(0.8 * len(train_x))]\n",
    "    train_y = train_y[:int(0.8 * len(train_y))]\n",
    "    input_size = train_x.shape[2]\n",
    "    output_size = target_len\n",
    "\n",
    "    #     hyper-parameters define\n",
    "    batch_size = 256\n",
    "    lr = 0.01\n",
    "    number_epoch = 80\n",
    "    hidden_dim = 128\n",
    "    n_layers = 1\n",
    "    drop_prob = 0\n",
    "    weight_decay = 1e-5\n",
    "    mse_thresh = 0.01\n",
    "\n",
    "    model, train_loss_list, valid_loss_list = train_model(\n",
    "        train_x, train_y, valid_x, valid_y, input_size, output_size,\n",
    "        mse_thresh, batch_size, lr, number_epoch, hidden_dim, n_layers,\n",
    "        drop_prob, weight_decay)\n",
    "    \n",
    "    # plot training process\n",
    "    plt.plot(train_loss_list[10:], 'm', label='train_loss')\n",
    "    plt.plot(valid_loss_list[10:], 'g', label='valid_loss')\n",
    "    plt.grid('both')\n",
    "    plt.legend()\n",
    "    \n",
    "    # test\n",
    "    test_data = data[int(0.8 * len(data)):]\n",
    "    #     test_data = data[-800:]\n",
    "    test_data = scaler.transform(test_data)\n",
    "    test_x, test_y = series_to_supervise(test_data, seq_len, target_len)\n",
    "    MAPE, MAE, RMSE, load_pred, load_true = test_model(model, test_x, test_y,\n",
    "                                                       scaler_y, batch_size)\n",
    "    return MAPE, MAE, RMSE, load_pred, load_true"
   ]
  },
  {
   "cell_type": "code",
   "execution_count": 50,
   "id": "56484460",
   "metadata": {
    "ExecuteTime": {
     "end_time": "2022-01-08T04:34:09.707455Z",
     "start_time": "2022-01-08T04:29:56.827304Z"
    }
   },
   "outputs": [
    {
     "name": "stdout",
     "output_type": "stream",
     "text": [
      "supervised data: shape of x: (25232, 72, 16), shape of y: (25232, 24)\n"
     ]
    },
    {
     "name": "stderr",
     "output_type": "stream",
     "text": [
      "Epoch: 1/80: 100%|██████████| 79/79 [00:03<00:00, 21.29it/s, train_loss=0.00567, valid_loss=0.00647]\n",
      "Epoch: 2/80: 100%|██████████| 79/79 [00:03<00:00, 25.19it/s, train_loss=0.00316, valid_loss=0.00365]\n",
      "Epoch: 3/80: 100%|███████████| 79/79 [00:03<00:00, 25.44it/s, train_loss=0.00255, valid_loss=0.0032]\n",
      "Epoch: 4/80: 100%|██████████| 79/79 [00:03<00:00, 25.54it/s, train_loss=0.00211, valid_loss=0.00304]\n",
      "Epoch: 5/80: 100%|██████████| 79/79 [00:03<00:00, 24.65it/s, train_loss=0.00213, valid_loss=0.00294]\n",
      "Epoch: 6/80: 100%|███████████| 79/79 [00:03<00:00, 25.76it/s, train_loss=0.0022, valid_loss=0.00286]\n",
      "Epoch: 7/80: 100%|██████████| 79/79 [00:03<00:00, 25.21it/s, train_loss=0.00187, valid_loss=0.00279]\n",
      "Epoch: 8/80: 100%|██████████| 79/79 [00:03<00:00, 25.40it/s, train_loss=0.00202, valid_loss=0.00276]\n",
      "Epoch: 9/80: 100%|███████████| 79/79 [00:03<00:00, 24.43it/s, train_loss=0.00195, valid_loss=0.0027]\n",
      "Epoch: 10/80: 100%|█████████| 79/79 [00:03<00:00, 25.94it/s, train_loss=0.00195, valid_loss=0.00267]\n",
      "Epoch: 11/80: 100%|█████████| 79/79 [00:03<00:00, 25.75it/s, train_loss=0.00201, valid_loss=0.00266]\n",
      "Epoch: 12/80: 100%|█████████| 79/79 [00:03<00:00, 25.53it/s, train_loss=0.00218, valid_loss=0.00264]\n",
      "Epoch: 13/80: 100%|█████████| 79/79 [00:03<00:00, 24.61it/s, train_loss=0.00186, valid_loss=0.00261]\n",
      "Epoch: 14/80: 100%|█████████| 79/79 [00:03<00:00, 25.20it/s, train_loss=0.00209, valid_loss=0.00261]\n",
      "Epoch: 15/80: 100%|██████████| 79/79 [00:03<00:00, 25.55it/s, train_loss=0.0016, valid_loss=0.00257]\n",
      "Epoch: 16/80: 100%|█████████| 79/79 [00:03<00:00, 25.45it/s, train_loss=0.00213, valid_loss=0.00259]\n",
      "Epoch: 17/80: 100%|█████████| 79/79 [00:03<00:00, 24.32it/s, train_loss=0.00199, valid_loss=0.00258]\n",
      "Epoch: 18/80: 100%|██████████| 79/79 [00:03<00:00, 25.13it/s, train_loss=0.0019, valid_loss=0.00254]\n",
      "Epoch: 19/80: 100%|█████████| 79/79 [00:03<00:00, 25.14it/s, train_loss=0.00193, valid_loss=0.00253]\n",
      "Epoch: 20/80: 100%|█████████| 79/79 [00:03<00:00, 25.45it/s, train_loss=0.00201, valid_loss=0.00252]\n",
      "Epoch: 21/80: 100%|███████████| 79/79 [00:03<00:00, 24.13it/s, train_loss=0.0018, valid_loss=0.0025]\n",
      "Epoch: 22/80: 100%|██████████| 79/79 [00:03<00:00, 25.52it/s, train_loss=0.0015, valid_loss=0.00251]\n",
      "Epoch: 23/80: 100%|█████████| 79/79 [00:03<00:00, 25.09it/s, train_loss=0.00192, valid_loss=0.00248]\n",
      "Epoch: 24/80: 100%|█████████| 79/79 [00:03<00:00, 25.19it/s, train_loss=0.00178, valid_loss=0.00251]\n",
      "Epoch: 25/80: 100%|█████████| 79/79 [00:03<00:00, 24.25it/s, train_loss=0.00187, valid_loss=0.00249]\n",
      "Epoch: 26/80: 100%|█████████| 79/79 [00:03<00:00, 25.39it/s, train_loss=0.00198, valid_loss=0.00247]\n",
      "Epoch: 27/80: 100%|█████████| 79/79 [00:03<00:00, 25.40it/s, train_loss=0.00183, valid_loss=0.00247]\n",
      "Epoch: 28/80: 100%|██████████| 79/79 [00:03<00:00, 25.20it/s, train_loss=0.00195, valid_loss=0.0025]\n",
      "Epoch: 29/80: 100%|██████████| 79/79 [00:03<00:00, 24.03it/s, train_loss=0.0022, valid_loss=0.00248]\n",
      "Epoch: 30/80: 100%|█████████| 79/79 [00:03<00:00, 25.50it/s, train_loss=0.00169, valid_loss=0.00249]\n",
      "Epoch: 31/80: 100%|█████████| 79/79 [00:03<00:00, 25.60it/s, train_loss=0.00185, valid_loss=0.00245]\n",
      "Epoch: 32/80: 100%|█████████| 79/79 [00:03<00:00, 25.45it/s, train_loss=0.00189, valid_loss=0.00246]\n",
      "Epoch: 33/80: 100%|█████████| 79/79 [00:03<00:00, 24.78it/s, train_loss=0.00175, valid_loss=0.00244]\n",
      "Epoch: 34/80: 100%|█████████| 79/79 [00:03<00:00, 25.54it/s, train_loss=0.00189, valid_loss=0.00247]\n",
      "Epoch: 35/80: 100%|█████████| 79/79 [00:03<00:00, 25.23it/s, train_loss=0.00191, valid_loss=0.00245]\n",
      "Epoch: 36/80: 100%|█████████| 79/79 [00:03<00:00, 25.36it/s, train_loss=0.00199, valid_loss=0.00249]\n",
      "Epoch: 37/80: 100%|█████████| 79/79 [00:03<00:00, 25.51it/s, train_loss=0.00168, valid_loss=0.00251]\n",
      "Epoch: 38/80: 100%|█████████| 79/79 [00:03<00:00, 24.59it/s, train_loss=0.00188, valid_loss=0.00243]\n",
      "Epoch: 39/80: 100%|█████████| 79/79 [00:03<00:00, 25.43it/s, train_loss=0.00188, valid_loss=0.00245]\n",
      "Epoch: 40/80: 100%|█████████| 79/79 [00:03<00:00, 24.74it/s, train_loss=0.00175, valid_loss=0.00242]\n",
      "Epoch: 41/80: 100%|█████████| 79/79 [00:03<00:00, 25.63it/s, train_loss=0.00177, valid_loss=0.00244]\n",
      "Epoch: 42/80: 100%|█████████| 79/79 [00:03<00:00, 24.27it/s, train_loss=0.00218, valid_loss=0.00243]\n",
      "Epoch: 43/80: 100%|█████████| 79/79 [00:03<00:00, 25.67it/s, train_loss=0.00182, valid_loss=0.00243]\n",
      "Epoch: 44/80: 100%|█████████| 79/79 [00:03<00:00, 25.36it/s, train_loss=0.00197, valid_loss=0.00245]\n",
      "Epoch: 45/80: 100%|█████████| 79/79 [00:03<00:00, 25.56it/s, train_loss=0.00181, valid_loss=0.00241]\n",
      "Epoch: 46/80: 100%|█████████| 79/79 [00:03<00:00, 24.34it/s, train_loss=0.00169, valid_loss=0.00242]\n",
      "Epoch: 47/80: 100%|██████████| 79/79 [00:03<00:00, 25.33it/s, train_loss=0.00182, valid_loss=0.0025]\n",
      "Epoch: 48/80: 100%|█████████| 79/79 [00:03<00:00, 25.18it/s, train_loss=0.00211, valid_loss=0.00242]\n",
      "Epoch: 49/80: 100%|█████████| 79/79 [00:03<00:00, 25.22it/s, train_loss=0.00216, valid_loss=0.00247]\n",
      "Epoch: 50/80: 100%|█████████| 79/79 [00:03<00:00, 24.22it/s, train_loss=0.00187, valid_loss=0.00243]\n",
      "Epoch: 51/80: 100%|█████████| 79/79 [00:03<00:00, 25.16it/s, train_loss=0.00206, valid_loss=0.00242]\n",
      "Epoch: 52/80: 100%|██████████| 79/79 [00:03<00:00, 25.27it/s, train_loss=0.00177, valid_loss=0.0024]\n",
      "Epoch: 53/80: 100%|█████████| 79/79 [00:03<00:00, 25.23it/s, train_loss=0.00198, valid_loss=0.00245]\n",
      "Epoch: 54/80: 100%|█████████| 79/79 [00:03<00:00, 24.11it/s, train_loss=0.00193, valid_loss=0.00247]\n",
      "Epoch: 55/80: 100%|█████████| 79/79 [00:03<00:00, 25.45it/s, train_loss=0.00204, valid_loss=0.00242]\n",
      "Epoch: 56/80: 100%|█████████| 79/79 [00:03<00:00, 25.19it/s, train_loss=0.00163, valid_loss=0.00247]\n",
      "Epoch: 57/80: 100%|██████████| 79/79 [00:03<00:00, 25.16it/s, train_loss=0.00178, valid_loss=0.0024]\n",
      "Epoch: 58/80: 100%|█████████| 79/79 [00:03<00:00, 24.52it/s, train_loss=0.00175, valid_loss=0.00241]\n",
      "Epoch: 59/80: 100%|███████████| 79/79 [00:03<00:00, 25.25it/s, train_loss=0.0018, valid_loss=0.0024]\n",
      "Epoch: 60/80: 100%|██████████| 79/79 [00:03<00:00, 25.52it/s, train_loss=0.00173, valid_loss=0.0024]\n",
      "Epoch: 61/80: 100%|█████████| 79/79 [00:03<00:00, 25.56it/s, train_loss=0.00213, valid_loss=0.00242]\n",
      "Epoch: 62/80: 100%|█████████| 79/79 [00:03<00:00, 24.52it/s, train_loss=0.00198, valid_loss=0.00259]\n",
      "Epoch: 63/80: 100%|█████████| 79/79 [00:03<00:00, 25.55it/s, train_loss=0.00178, valid_loss=0.00241]\n",
      "Epoch: 64/80: 100%|█████████| 79/79 [00:03<00:00, 25.62it/s, train_loss=0.00176, valid_loss=0.00239]\n",
      "Epoch: 65/80: 100%|█████████| 79/79 [00:03<00:00, 25.62it/s, train_loss=0.00187, valid_loss=0.00244]\n",
      "Epoch: 66/80: 100%|█████████| 79/79 [00:03<00:00, 24.15it/s, train_loss=0.00188, valid_loss=0.00242]\n",
      "Epoch: 67/80: 100%|█████████| 79/79 [00:03<00:00, 25.19it/s, train_loss=0.00197, valid_loss=0.00243]\n",
      "Epoch: 68/80: 100%|█████████| 79/79 [00:03<00:00, 25.64it/s, train_loss=0.00201, valid_loss=0.00244]\n",
      "Epoch: 69/80: 100%|█████████| 79/79 [00:03<00:00, 25.60it/s, train_loss=0.00167, valid_loss=0.00247]\n",
      "Epoch: 70/80: 100%|███████████| 79/79 [00:03<00:00, 25.42it/s, train_loss=0.0019, valid_loss=0.0024]\n",
      "Epoch: 71/80: 100%|██████████| 79/79 [00:03<00:00, 24.38it/s, train_loss=0.00184, valid_loss=0.0024]\n",
      "Epoch: 72/80: 100%|█████████| 79/79 [00:03<00:00, 25.50it/s, train_loss=0.00213, valid_loss=0.00239]\n",
      "Epoch: 73/80: 100%|█████████| 79/79 [00:03<00:00, 25.36it/s, train_loss=0.00184, valid_loss=0.00239]\n",
      "Epoch: 74/80: 100%|█████████| 79/79 [00:03<00:00, 25.21it/s, train_loss=0.00167, valid_loss=0.00241]\n",
      "Epoch: 75/80: 100%|█████████| 79/79 [00:03<00:00, 24.33it/s, train_loss=0.00167, valid_loss=0.00241]\n",
      "Epoch: 76/80: 100%|██████████| 79/79 [00:03<00:00, 25.05it/s, train_loss=0.00224, valid_loss=0.0024]\n",
      "Epoch: 77/80: 100%|█████████| 79/79 [00:03<00:00, 25.31it/s, train_loss=0.00141, valid_loss=0.00241]\n",
      "Epoch: 78/80: 100%|██████████| 79/79 [00:03<00:00, 25.29it/s, train_loss=0.00158, valid_loss=0.0024]\n",
      "Epoch: 79/80: 100%|█████████| 79/79 [00:03<00:00, 24.18it/s, train_loss=0.00164, valid_loss=0.00239]\n",
      "Epoch: 80/80: 100%|█████████| 79/79 [00:03<00:00, 25.05it/s, train_loss=0.00193, valid_loss=0.00246]\n"
     ]
    },
    {
     "name": "stdout",
     "output_type": "stream",
     "text": [
      "supervised data: shape of x: (6237, 72, 16), shape of y: (6237, 24)\n",
      "MAPE:0.039679875331971655, MAE:523.6529378633697, RMSE:738.005409563209\n"
     ]
    },
    {
     "data": {
      "image/png": "[encoded data removed]",
      "text/plain": [
       "<Figure size 432x288 with 1 Axes>"
      ]
     },
     "metadata": {
      "needs_background": "light"
     },
     "output_type": "display_data"
    }
   ],
   "source": [
    "random_seed_set(16)\n",
    "MAPE, MAE, RMSE, load_pred, load_true = run_model_retraining()\n",
    "print('MAPE:{}, MAE:{}, RMSE:{}'.format(MAPE, MAE, RMSE))"
   ]
  },
  {
   "cell_type": "code",
   "execution_count": 51,
   "id": "d6efa334",
   "metadata": {
    "ExecuteTime": {
     "end_time": "2022-01-08T05:17:09.705171Z",
     "start_time": "2022-01-08T05:17:09.698666Z"
    }
   },
   "outputs": [
    {
     "name": "stdout",
     "output_type": "stream",
     "text": [
      "MAPE:0.039679875331971655, MAE:523.6529378633697, RMSE:738.005409563209\n"
     ]
    }
   ],
   "source": [
    "print('MAPE:{}, MAE:{}, RMSE:{}'.format(MAPE, MAE, RMSE))"
   ]
  },
  {
   "cell_type": "markdown",
   "id": "596163c8",
   "metadata": {},
   "source": [
    "## figure plot"
   ]
  },
  {
   "cell_type": "code",
   "execution_count": 52,
   "id": "196fae4d",
   "metadata": {
    "ExecuteTime": {
     "end_time": "2022-01-08T05:17:11.991774Z",
     "start_time": "2022-01-08T05:17:11.832112Z"
    }
   },
   "outputs": [
    {
     "data": {
      "text/plain": [
       "(0.0, 19441.794848801554)"
      ]
     },
     "execution_count": 52,
     "metadata": {},
     "output_type": "execute_result"
    },
    {
     "data": {
      "image/png": "[encoded data removed]",
      "text/plain": [
       "<Figure size 1440x720 with 1 Axes>"
      ]
     },
     "metadata": {
      "needs_background": "light"
     },
     "output_type": "display_data"
    }
   ],
   "source": [
    "plt.figure(figsize=(20, 10))\n",
    "load_pred = load_pred.reshape(-1, target_len)\n",
    "load_true = load_true.reshape(-1, target_len)\n",
    "plt.plot(load_pred[:240,0], 'm')\n",
    "plt.plot(load_true[:240,0], 'g')\n",
    "plt.ylim(0)"
   ]
  }
 ],
 "metadata": {
  "kernelspec": {
   "display_name": "Python 3 (ipykernel)",
   "language": "python",
   "name": "python3"
  },
  "language_info": {
   "codemirror_mode": {
    "name": "ipython",
    "version": 3
   },
   "file_extension": ".py",
   "mimetype": "text/x-python",
   "name": "python",
   "nbconvert_exporter": "python",
   "pygments_lexer": "ipython3",
   "version": "3.8.12"
  },
  "toc": {
   "base_numbering": 1,
   "nav_menu": {},
   "number_sections": true,
   "sideBar": true,
   "skip_h1_title": false,
   "title_cell": "Table of Contents",
   "title_sidebar": "Contents",
   "toc_cell": false,
   "toc_position": {
    "height": "calc(100% - 180px)",
    "left": "10px",
    "top": "150px",
    "width": "374.391px"
   },
   "toc_section_display": true,
   "toc_window_display": true
  },
  "varInspector": {
   "cols": {
    "lenName": 16,
    "lenType": 16,
    "lenVar": 40
   },
   "kernels_config": {
    "python": {
     "delete_cmd_postfix": "",
     "delete_cmd_prefix": "del ",
     "library": "var_list.py",
     "varRefreshCmd": "print(var_dic_list())"
    },
    "r": {
     "delete_cmd_postfix": ") ",
     "delete_cmd_prefix": "rm(",
     "library": "var_list.r",
     "varRefreshCmd": "cat(var_dic_list()) "
    }
   },
   "oldHeight": 320.844,
   "position": {
    "height": "342.844px",
    "left": "1482px",
    "right": "20px",
    "top": "127px",
    "width": "350px"
   },
   "types_to_exclude": [
    "module",
    "function",
    "builtin_function_or_method",
    "instance",
    "_Feature"
   ],
   "varInspector_section_display": "block",
   "window_display": false
  }
 },
 "nbformat": 4,
 "nbformat_minor": 5
}
