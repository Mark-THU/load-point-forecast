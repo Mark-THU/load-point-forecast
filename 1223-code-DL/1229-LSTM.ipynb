{
 "cells": [
  {
   "cell_type": "markdown",
   "id": "ca0909ba",
   "metadata": {},
   "source": [
    "# LSTM for forecast"
   ]
  },
  {
   "cell_type": "markdown",
   "id": "3a2b7f90",
   "metadata": {},
   "source": [
    "1. 实现"
   ]
  },
  {
   "cell_type": "code",
   "execution_count": 1,
   "id": "3987cf65",
   "metadata": {
    "ExecuteTime": {
     "end_time": "2022-01-09T08:15:13.131435Z",
     "start_time": "2022-01-09T08:15:12.119015Z"
    }
   },
   "outputs": [],
   "source": [
    "import pandas as pd\n",
    "import numpy as np\n",
    "import matplotlib.pyplot as plt\n",
    "import pdb\n",
    "import torch\n",
    "import torch.nn as nn\n",
    "import random\n",
    "\n",
    "from sklearn.preprocessing import MinMaxScaler\n",
    "from sklearn.model_selection import train_test_split, TimeSeriesSplit\n",
    "from torch.autograd import Variable\n",
    "from torch.utils.data import TensorDataset, DataLoader\n",
    "from tqdm import tqdm\n",
    "from xgboost import XGBRegressor\n",
    "\n",
    "np.random.seed(0)\n",
    "torch.cuda.manual_seed(0)\n",
    "torch.manual_seed(0)\n",
    "if torch.cuda.is_available():  \n",
    "    dev = \"cuda:0\" \n",
    "else:  \n",
    "    dev = \"cpu\"\n",
    "device = torch.device(dev)"
   ]
  },
  {
   "cell_type": "markdown",
   "id": "5c88e5ba",
   "metadata": {},
   "source": [
    "## load data"
   ]
  },
  {
   "cell_type": "code",
   "execution_count": 2,
   "id": "8bddde09",
   "metadata": {
    "ExecuteTime": {
     "end_time": "2022-01-09T08:15:13.182661Z",
     "start_time": "2022-01-09T08:15:13.133186Z"
    }
   },
   "outputs": [],
   "source": [
    "url = '../data/beijing.csv'\n",
    "data = pd.read_csv(url, sep=',', index_col='time')\n",
    "data.index = pd.to_datetime(data.index)"
   ]
  },
  {
   "cell_type": "markdown",
   "id": "368aa1e7",
   "metadata": {},
   "source": [
    "## normalization"
   ]
  },
  {
   "cell_type": "code",
   "execution_count": 3,
   "id": "6ed7f131",
   "metadata": {
    "ExecuteTime": {
     "end_time": "2022-01-09T08:15:13.187588Z",
     "start_time": "2022-01-09T08:15:13.184351Z"
    }
   },
   "outputs": [],
   "source": [
    "def normalization(data):\n",
    "    \"\"\"\n",
    "    data: original data with load\n",
    "    return: normalized data, scaler of load\n",
    "    \"\"\"\n",
    "    scaler = MinMaxScaler()\n",
    "    normalized_data = scaler.fit_transform(data)\n",
    "    scaler_y = MinMaxScaler()\n",
    "    scaler_y.fit_transform(data[[data.columns[-1]]])\n",
    "    return normalized_data, scaler, scaler_y"
   ]
  },
  {
   "cell_type": "markdown",
   "id": "54d6c94b",
   "metadata": {
    "ExecuteTime": {
     "end_time": "2021-12-22T07:45:44.192666Z",
     "start_time": "2021-12-22T07:45:44.188985Z"
    }
   },
   "source": [
    "## build supervised dataset"
   ]
  },
  {
   "cell_type": "code",
   "execution_count": 4,
   "id": "e0abfb3b",
   "metadata": {
    "ExecuteTime": {
     "end_time": "2022-01-09T08:15:13.193138Z",
     "start_time": "2022-01-09T08:15:13.189281Z"
    }
   },
   "outputs": [],
   "source": [
    "def series_to_supervise(data, seq_len, target_len):\n",
    "    \"\"\"\n",
    "    convert series data to supervised data\n",
    "    :param data: original data\n",
    "    :param seq_len: length of input sequence\n",
    "    :param target_len: length of ouput sequence\n",
    "    :return: return two ndarrays-- input and output in format suitable to feed to LSTM\n",
    "    \"\"\"\n",
    "    dim_0 = data.shape[0] - seq_len - target_len + 1\n",
    "    dim_1 = data.shape[1]\n",
    "    x = np.zeros((dim_0, seq_len, dim_1))\n",
    "    y = np.zeros((dim_0, target_len))\n",
    "    for i in range(dim_0):\n",
    "        x[i] = data[i:i + seq_len]\n",
    "        y[i] = data[i + seq_len:i + seq_len + target_len, -1]\n",
    "    print(\"supervised data: shape of x: {}, shape of y: {}\".format(x.shape, y.shape))\n",
    "    return x, y"
   ]
  },
  {
   "cell_type": "markdown",
   "id": "2cdb1a52",
   "metadata": {},
   "source": [
    "## 5-folds TimeSeriesSplit"
   ]
  },
  {
   "cell_type": "code",
   "execution_count": 5,
   "id": "d47b1b4b",
   "metadata": {
    "ExecuteTime": {
     "end_time": "2022-01-09T08:15:13.197936Z",
     "start_time": "2022-01-09T08:15:13.194386Z"
    }
   },
   "outputs": [],
   "source": [
    "def time_series_split(X, Y, n_split=5):\n",
    "    \"\"\"\n",
    "    X: features, size * seq_len * feature_num\n",
    "    Y: labels, size * target_len\n",
    "    return: list of train_x, test_x, train_y, test_y\n",
    "    \"\"\"\n",
    "    tscv = TimeSeriesSplit(n_splits=n_split)\n",
    "    train_x_list = list()\n",
    "    valid_x_list = list()\n",
    "    train_y_list = list()\n",
    "    valid_y_list = list()\n",
    "    for train_index, valid_index in tscv.split(X):\n",
    "        train_x_list.append(X[train_index])\n",
    "        train_y_list.append(Y[train_index])\n",
    "        valid_x_list.append(X[valid_index])\n",
    "        valid_y_list.append(Y[valid_index])\n",
    "    return train_x_list, train_y_list, valid_x_list, valid_y_list"
   ]
  },
  {
   "cell_type": "markdown",
   "id": "6d25128d",
   "metadata": {},
   "source": [
    "## LSTM model"
   ]
  },
  {
   "cell_type": "code",
   "execution_count": 6,
   "id": "7b8116d8",
   "metadata": {
    "ExecuteTime": {
     "end_time": "2022-01-09T08:15:13.204723Z",
     "start_time": "2022-01-09T08:15:13.199423Z"
    }
   },
   "outputs": [],
   "source": [
    "class LSTM(nn.Module):\n",
    "    def __init__(self, input_size, output_size, hidden_dim, n_layers,\n",
    "                 drop_prob):\n",
    "        super(LSTM, self).__init__()\n",
    "        # model parameters\n",
    "        self.hidden_dim = hidden_dim\n",
    "        self.n_layers = n_layers\n",
    "        self.output_size = output_size\n",
    "        # layes\n",
    "        self.lstm = nn.LSTM(input_size=input_size,\n",
    "                            hidden_size=hidden_dim,\n",
    "                            num_layers=n_layers,\n",
    "                            batch_first=True,\n",
    "                            dropout=drop_prob)\n",
    "        self.fc = nn.Sequential()\n",
    "        \n",
    "        input_size = hidden_dim\n",
    "        i = 0\n",
    "        while (input_size > 8):\n",
    "            self.fc.add_module('linear{}'.format(i), nn.Linear(input_size, round(input_size / 2)))\n",
    "            self.fc.add_module('relu{}'.format(i), nn.ReLU())\n",
    "            input_size = round(input_size / 2)\n",
    "            i += 1\n",
    "        self.fc.add_module('linear{}'.format(i), nn.Linear(input_size, 1))\n",
    "\n",
    "    # predict using outputs of the last 24 steps\n",
    "    def forward(self, x):\n",
    "\n",
    "        lstm_out, hidden = self.lstm(x)\n",
    "        lstm_out = lstm_out[:, -self.output_size:, :]\n",
    "\n",
    "        out = self.fc(lstm_out)\n",
    "\n",
    "        out = out.reshape(x.shape[0], -1)\n",
    "\n",
    "        return out"
   ]
  },
  {
   "cell_type": "markdown",
   "id": "b28c4c94",
   "metadata": {
    "ExecuteTime": {
     "end_time": "2021-12-22T08:30:19.661769Z",
     "start_time": "2021-12-22T08:30:19.656770Z"
    }
   },
   "source": [
    "## model training for HPO"
   ]
  },
  {
   "cell_type": "code",
   "execution_count": 7,
   "id": "5a3b1b82",
   "metadata": {
    "ExecuteTime": {
     "end_time": "2022-01-09T08:15:13.215958Z",
     "start_time": "2022-01-09T08:15:13.206159Z"
    }
   },
   "outputs": [],
   "source": [
    "def train_model_hpo(train_x_list, train_y_list, valid_x_list, valid_y_list,\n",
    "                    input_size, output_size, mse_thresh, batch_size, lr,\n",
    "                    number_epoch, hidden_dim, n_layers, drop_prob, weight_decay):\n",
    "    valid_loss_list = []\n",
    "    for num in range(len(train_x_list)):\n",
    "        while (1):\n",
    "            model = LSTM(input_size, output_size, hidden_dim, n_layers,\n",
    "                           drop_prob)\n",
    "            model.to(device=device)\n",
    "            criterion = nn.MSELoss()\n",
    "            optimizer = torch.optim.Adam(model.parameters(), lr=lr, weight_decay=weight_decay)\n",
    "            scheduler = torch.optim.lr_scheduler.StepLR(optimizer, 1, gamma=0.98)\n",
    "            valid_loss_min = np.Inf\n",
    "            print('cross-validation dataset {}'.format(num))\n",
    "            train_x = train_x_list[num]\n",
    "            train_y = train_y_list[num]\n",
    "            valid_x = valid_x_list[num]\n",
    "            valid_y = valid_y_list[num]\n",
    "            train_dataset = TensorDataset(torch.FloatTensor(train_x),\n",
    "                                          torch.FloatTensor(train_y))\n",
    "            valid_dataset = TensorDataset(torch.FloatTensor(valid_x),\n",
    "                                          torch.FloatTensor(valid_y))\n",
    "            train_loader = DataLoader(dataset=train_dataset,\n",
    "                                      batch_size=batch_size,\n",
    "                                      shuffle=True,\n",
    "                                      drop_last=False)\n",
    "            valid_loader = DataLoader(dataset=valid_dataset,\n",
    "                                      batch_size=batch_size,\n",
    "                                      shuffle=True,\n",
    "                                      drop_last=False)\n",
    "            num_without_imp = 0\n",
    "            # training process\n",
    "            for epoch in range(1, number_epoch + 1):\n",
    "                loop = tqdm(enumerate(train_loader),\n",
    "                            total=len(train_loader),\n",
    "                            leave=True)\n",
    "                for i, (inputs, labels) in loop:\n",
    "                    inputs = inputs.to(device=device)\n",
    "                    labels = labels.to(device=device)\n",
    "                    optimizer.zero_grad()\n",
    "                    outputs = model(inputs)\n",
    "                    loss = criterion(outputs, labels)\n",
    "                    loss.backward()\n",
    "                    optimizer.step()\n",
    "                    if i % 5 == 0:\n",
    "                        num_without_imp = num_without_imp + 1\n",
    "                        valid_losses = list()\n",
    "                        model.eval()\n",
    "                        for inp, lab in valid_loader:\n",
    "                            inp = inp.to(device)\n",
    "                            lab = lab.to(device)\n",
    "                            out = model(inp)\n",
    "                            valid_loss = criterion(out, lab)\n",
    "                            valid_losses.append(valid_loss.item())\n",
    "\n",
    "                        model.train()\n",
    "                        loop.set_description(\"Epoch: {}/{}\".format(\n",
    "                            epoch, number_epoch))\n",
    "                        loop.set_postfix(train_loss=loss.item(),\n",
    "                                         valid_loss=np.mean(valid_losses))\n",
    "                        if np.mean(valid_losses) < valid_loss_min:\n",
    "                            num_without_imp = 0\n",
    "                            valid_loss_min = np.mean(valid_losses)\n",
    "                scheduler.step()\n",
    "                if num_without_imp >= 50:\n",
    "#                     break\n",
    "                    pass\n",
    "            if valid_loss_min < mse_thresh:\n",
    "                valid_loss_list.append(valid_loss_min)\n",
    "                break\n",
    "    return np.mean(valid_loss_list)"
   ]
  },
  {
   "cell_type": "markdown",
   "id": "5b1a50b9",
   "metadata": {},
   "source": [
    "## hyper-parameters config"
   ]
  },
  {
   "cell_type": "code",
   "execution_count": 8,
   "id": "e8d7c6d6",
   "metadata": {
    "ExecuteTime": {
     "end_time": "2022-01-09T08:15:13.221327Z",
     "start_time": "2022-01-09T08:15:13.216973Z"
    }
   },
   "outputs": [],
   "source": [
    "seq_len = 72\n",
    "target_len = 24\n",
    "mse_thresh = 0.05\n",
    "\n",
    "\n",
    "def model_config():\n",
    "    batch_sizes = [256]\n",
    "    lrs = [0.01]\n",
    "    number_epochs = [30]\n",
    "    hidden_dims = [64, 128, 256]\n",
    "    n_layers = [2, 3]\n",
    "    drop_prob = [0]\n",
    "    weight_decays = [0]\n",
    "    configs = list()\n",
    "    for i in batch_sizes:\n",
    "        for j in lrs:\n",
    "            for k in number_epochs:\n",
    "                for l in hidden_dims:\n",
    "                    for m in n_layers:\n",
    "                        for n in drop_prob:\n",
    "                            for o in weight_decays:\n",
    "                                configs.append({\n",
    "                                    'batch_size': i,\n",
    "                                    'lr': j,\n",
    "                                    'number_epoch': k,\n",
    "                                    'hidden_dim': l,\n",
    "                                    'n_layers': m,\n",
    "                                    'drop_prob': n,\n",
    "                                    'weight_decay': o,\n",
    "                                })\n",
    "    return configs"
   ]
  },
  {
   "cell_type": "markdown",
   "id": "c883d48b",
   "metadata": {},
   "source": [
    "## random search for HPO"
   ]
  },
  {
   "cell_type": "code",
   "execution_count": 9,
   "id": "e52da5ff",
   "metadata": {
    "ExecuteTime": {
     "end_time": "2022-01-09T08:15:13.228371Z",
     "start_time": "2022-01-09T08:15:13.222440Z"
    }
   },
   "outputs": [],
   "source": [
    "def run_model_hpo(seq_len=seq_len,\n",
    "                  target_len=target_len,\n",
    "                  mse_thresh=mse_thresh):\n",
    "    train_data = data[:int(0.8 * len(data))]\n",
    "    train_data, _, _ = normalization(train_data)\n",
    "    train_x, train_y = series_to_supervise(train_data, seq_len, target_len)\n",
    "    train_x_list, train_y_list, valid_x_list, valid_y_list = time_series_split(\n",
    "        train_x, train_y)\n",
    "    #     with enough data\n",
    "    train_x_list = train_x_list[-1:]\n",
    "    train_y_list = train_y_list[-1:]\n",
    "    valid_x_list = valid_x_list[-1:]\n",
    "    valid_y_list = valid_y_list[-1:]\n",
    "\n",
    "    configs = model_config()\n",
    "    records = []\n",
    "    input_size = train_x.shape[2]\n",
    "    output_size = target_len\n",
    "    for i in range(6):\n",
    "        config = random.choice(configs)\n",
    "        configs.remove(config)\n",
    "        batch_size = config['batch_size']\n",
    "        lr = config['lr']\n",
    "        number_epoch = config['number_epoch']\n",
    "        hidden_dim = config['hidden_dim']\n",
    "        n_layers = config['n_layers']\n",
    "        drop_prob = config['drop_prob']\n",
    "        weight_decay = config['weight_decay']\n",
    "        print(\n",
    "            \"model config: batch_size-{}, lr-{}, number_epoch-{}, hidden_dim-{}, n_layers-{},drop_prob-{},weight_decay-{}\"\n",
    "            .format(batch_size, lr, number_epoch, hidden_dim, n_layers,\n",
    "                    drop_prob, weight_decay))\n",
    "        valid_loss = train_model_hpo(train_x_list, train_y_list, valid_x_list,\n",
    "                                     valid_y_list, input_size, output_size,\n",
    "                                     mse_thresh, batch_size, lr, number_epoch,\n",
    "                                     hidden_dim, n_layers, drop_prob, weight_decay)\n",
    "        records.append({\n",
    "            'batch_size': batch_size,\n",
    "            'lr': lr,\n",
    "            'number_epoch': number_epoch,\n",
    "            'hidden_dim': hidden_dim,\n",
    "            'n_layers': n_layers,\n",
    "            'drop_prob': drop_prob,\n",
    "            'weight_decay': weight_decay,\n",
    "            'valid_loss': valid_loss\n",
    "        })\n",
    "    return records"
   ]
  },
  {
   "cell_type": "markdown",
   "id": "da3ba1b9",
   "metadata": {},
   "source": [
    "## run random search"
   ]
  },
  {
   "cell_type": "code",
   "execution_count": 15,
   "id": "8503f596",
   "metadata": {
    "ExecuteTime": {
     "end_time": "2021-12-29T12:30:40.887308Z",
     "start_time": "2021-12-29T12:21:41.768493Z"
    }
   },
   "outputs": [
    {
     "name": "stdout",
     "output_type": "stream",
     "text": [
      "supervised data: shape of x: (25232, 72, 16), shape of y: (25232, 24)\n",
      "model config: batch_size-256, lr-0.01, number_epoch-30, hidden_dim-64, n_layers-2,drop_prob-0,weight_decay-0\n",
      "cross-validation dataset 0\n"
     ]
    },
    {
     "name": "stderr",
     "output_type": "stream",
     "text": [
      "Epoch: 1/30: 100%|██████████| 83/83 [00:03<00:00, 22.58it/s, train_loss=0.00635, valid_loss=0.00776]\n",
      "Epoch: 2/30: 100%|██████████| 83/83 [00:02<00:00, 32.64it/s, train_loss=0.00163, valid_loss=0.00317]\n",
      "Epoch: 3/30: 100%|██████████| 83/83 [00:02<00:00, 35.80it/s, train_loss=0.00163, valid_loss=0.0035] \n",
      "Epoch: 4/30: 100%|██████████| 83/83 [00:01<00:00, 51.87it/s, train_loss=0.00212, valid_loss=0.00273]\n",
      "Epoch: 5/30: 100%|██████████| 83/83 [00:01<00:00, 52.00it/s, train_loss=0.00154, valid_loss=0.00284]\n",
      "Epoch: 6/30: 100%|██████████| 83/83 [00:01<00:00, 49.68it/s, train_loss=0.00153, valid_loss=0.00272]\n",
      "Epoch: 7/30: 100%|██████████| 83/83 [00:01<00:00, 51.54it/s, train_loss=0.00148, valid_loss=0.00264]\n",
      "Epoch: 8/30: 100%|██████████| 83/83 [00:01<00:00, 49.53it/s, train_loss=0.00123, valid_loss=0.0027] \n",
      "Epoch: 9/30: 100%|██████████| 83/83 [00:01<00:00, 51.76it/s, train_loss=0.00122, valid_loss=0.00254] \n",
      "Epoch: 10/30: 100%|██████████| 83/83 [00:01<00:00, 51.80it/s, train_loss=0.00154, valid_loss=0.00283]\n",
      "Epoch: 11/30: 100%|██████████| 83/83 [00:01<00:00, 49.76it/s, train_loss=0.00185, valid_loss=0.00256]\n",
      "Epoch: 12/30: 100%|██████████| 83/83 [00:01<00:00, 51.89it/s, train_loss=0.00106, valid_loss=0.00256]\n",
      "Epoch: 13/30: 100%|██████████| 83/83 [00:01<00:00, 51.87it/s, train_loss=0.00114, valid_loss=0.00283] \n",
      "Epoch: 14/30: 100%|██████████| 83/83 [00:01<00:00, 49.35it/s, train_loss=0.000897, valid_loss=0.00262]\n",
      "Epoch: 15/30: 100%|██████████| 83/83 [00:01<00:00, 51.98it/s, train_loss=0.00136, valid_loss=0.00262]\n",
      "Epoch: 16/30: 100%|██████████| 83/83 [00:01<00:00, 49.86it/s, train_loss=0.00132, valid_loss=0.0027] \n",
      "Epoch: 17/30: 100%|██████████| 83/83 [00:01<00:00, 51.84it/s, train_loss=0.000985, valid_loss=0.00262]\n",
      "Epoch: 18/30: 100%|██████████| 83/83 [00:01<00:00, 52.07it/s, train_loss=0.00131, valid_loss=0.00269] \n",
      "Epoch: 19/30: 100%|██████████| 83/83 [00:01<00:00, 49.93it/s, train_loss=0.000943, valid_loss=0.00275]\n",
      "Epoch: 20/30: 100%|██████████| 83/83 [00:01<00:00, 51.97it/s, train_loss=0.000884, valid_loss=0.00292]\n",
      "Epoch: 21/30: 100%|██████████| 83/83 [00:01<00:00, 49.97it/s, train_loss=0.000757, valid_loss=0.0031] \n",
      "Epoch: 22/30: 100%|██████████| 83/83 [00:01<00:00, 51.88it/s, train_loss=0.000791, valid_loss=0.00335]\n",
      "Epoch: 23/30: 100%|██████████| 83/83 [00:01<00:00, 52.10it/s, train_loss=0.000537, valid_loss=0.00341]\n",
      "Epoch: 24/30: 100%|██████████| 83/83 [00:01<00:00, 49.81it/s, train_loss=0.000535, valid_loss=0.00355]\n",
      "Epoch: 25/30: 100%|██████████| 83/83 [00:01<00:00, 52.00it/s, train_loss=0.000475, valid_loss=0.00326]\n",
      "Epoch: 26/30: 100%|██████████| 83/83 [00:01<00:00, 51.85it/s, train_loss=0.000379, valid_loss=0.00356]\n",
      "Epoch: 27/30: 100%|██████████| 83/83 [00:01<00:00, 49.60it/s, train_loss=0.000376, valid_loss=0.00344]\n",
      "Epoch: 28/30: 100%|██████████| 83/83 [00:01<00:00, 51.68it/s, train_loss=0.000337, valid_loss=0.00354]\n",
      "Epoch: 29/30: 100%|██████████| 83/83 [00:01<00:00, 49.60it/s, train_loss=0.000328, valid_loss=0.00348]\n",
      "Epoch: 30/30: 100%|██████████| 83/83 [00:01<00:00, 51.96it/s, train_loss=0.000328, valid_loss=0.00378]\n"
     ]
    },
    {
     "name": "stdout",
     "output_type": "stream",
     "text": [
      "model config: batch_size-256, lr-0.01, number_epoch-30, hidden_dim-128, n_layers-2,drop_prob-0,weight_decay-0\n",
      "cross-validation dataset 0\n"
     ]
    },
    {
     "name": "stderr",
     "output_type": "stream",
     "text": [
      "Epoch: 1/30: 100%|██████████| 83/83 [00:02<00:00, 33.46it/s, train_loss=0.00394, valid_loss=0.00464]\n",
      "Epoch: 2/30: 100%|██████████| 83/83 [00:02<00:00, 32.62it/s, train_loss=0.00166, valid_loss=0.00333]\n",
      "Epoch: 3/30: 100%|██████████| 83/83 [00:02<00:00, 33.56it/s, train_loss=0.00164, valid_loss=0.00351]\n",
      "Epoch: 4/30: 100%|██████████| 83/83 [00:02<00:00, 32.53it/s, train_loss=0.00138, valid_loss=0.0029] \n",
      "Epoch: 5/30: 100%|██████████| 83/83 [00:02<00:00, 33.60it/s, train_loss=0.00188, valid_loss=0.00254]\n",
      "Epoch: 6/30: 100%|██████████| 83/83 [00:02<00:00, 32.50it/s, train_loss=0.00131, valid_loss=0.00271]\n",
      "Epoch: 7/30: 100%|██████████| 83/83 [00:02<00:00, 31.32it/s, train_loss=0.00145, valid_loss=0.00257]\n",
      "Epoch: 8/30: 100%|██████████| 83/83 [00:02<00:00, 32.26it/s, train_loss=0.00113, valid_loss=0.00262] \n",
      "Epoch: 9/30: 100%|██████████| 83/83 [00:02<00:00, 31.51it/s, train_loss=0.000925, valid_loss=0.00309]\n",
      "Epoch: 10/30: 100%|██████████| 83/83 [00:02<00:00, 32.34it/s, train_loss=0.000905, valid_loss=0.00311]\n",
      "Epoch: 11/30: 100%|██████████| 83/83 [00:02<00:00, 32.11it/s, train_loss=0.000969, valid_loss=0.00286]\n",
      "Epoch: 12/30: 100%|██████████| 83/83 [00:02<00:00, 31.79it/s, train_loss=0.0006, valid_loss=0.00289]  \n",
      "Epoch: 13/30: 100%|██████████| 83/83 [00:02<00:00, 32.28it/s, train_loss=0.000593, valid_loss=0.00293]\n",
      "Epoch: 14/30: 100%|██████████| 83/83 [00:02<00:00, 32.23it/s, train_loss=0.000459, valid_loss=0.00315]\n",
      "Epoch: 15/30: 100%|██████████| 83/83 [00:02<00:00, 31.52it/s, train_loss=0.000269, valid_loss=0.00325]\n",
      "Epoch: 16/30: 100%|██████████| 83/83 [00:02<00:00, 32.00it/s, train_loss=0.000267, valid_loss=0.00327]\n",
      "Epoch: 17/30: 100%|██████████| 83/83 [00:02<00:00, 31.30it/s, train_loss=0.00034, valid_loss=0.00312] \n",
      "Epoch: 18/30: 100%|██████████| 83/83 [00:02<00:00, 32.12it/s, train_loss=0.000172, valid_loss=0.00328]\n",
      "Epoch: 19/30: 100%|██████████| 83/83 [00:02<00:00, 32.29it/s, train_loss=0.000143, valid_loss=0.00345]\n",
      "Epoch: 20/30: 100%|██████████| 83/83 [00:02<00:00, 31.38it/s, train_loss=0.000133, valid_loss=0.0035] \n",
      "Epoch: 21/30: 100%|██████████| 83/83 [00:02<00:00, 32.37it/s, train_loss=0.000109, valid_loss=0.00361]\n",
      "Epoch: 22/30: 100%|██████████| 83/83 [00:02<00:00, 31.58it/s, train_loss=8.26e-5, valid_loss=0.00358] \n",
      "Epoch: 23/30: 100%|██████████| 83/83 [00:02<00:00, 32.61it/s, train_loss=7.45e-5, valid_loss=0.00356] \n",
      "Epoch: 24/30: 100%|██████████| 83/83 [00:02<00:00, 32.28it/s, train_loss=6.86e-5, valid_loss=0.00348]\n",
      "Epoch: 25/30: 100%|██████████| 83/83 [00:02<00:00, 31.67it/s, train_loss=5.7e-5, valid_loss=0.00359] \n",
      "Epoch: 26/30: 100%|██████████| 83/83 [00:02<00:00, 32.69it/s, train_loss=5.43e-5, valid_loss=0.0036] \n",
      "Epoch: 27/30: 100%|██████████| 83/83 [00:02<00:00, 31.60it/s, train_loss=5.11e-5, valid_loss=0.00366]\n",
      "Epoch: 28/30: 100%|██████████| 83/83 [00:02<00:00, 32.44it/s, train_loss=4.8e-5, valid_loss=0.00358] \n",
      "Epoch: 29/30: 100%|██████████| 83/83 [00:02<00:00, 32.06it/s, train_loss=4.63e-5, valid_loss=0.00362]\n",
      "Epoch: 30/30: 100%|██████████| 83/83 [00:02<00:00, 31.52it/s, train_loss=5.55e-5, valid_loss=0.00364]\n"
     ]
    },
    {
     "name": "stdout",
     "output_type": "stream",
     "text": [
      "model config: batch_size-256, lr-0.01, number_epoch-30, hidden_dim-256, n_layers-3,drop_prob-0,weight_decay-0\n",
      "cross-validation dataset 0\n"
     ]
    },
    {
     "name": "stderr",
     "output_type": "stream",
     "text": [
      "Epoch: 1/30: 100%|██████████| 83/83 [00:03<00:00, 23.22it/s, train_loss=0.0328, valid_loss=0.035] \n",
      "Epoch: 2/30: 100%|██████████| 83/83 [00:03<00:00, 23.19it/s, train_loss=0.0309, valid_loss=0.0353]\n",
      "Epoch: 3/30: 100%|██████████| 83/83 [00:03<00:00, 22.87it/s, train_loss=0.0298, valid_loss=0.0357]\n",
      "Epoch: 4/30: 100%|██████████| 83/83 [00:03<00:00, 23.17it/s, train_loss=0.0319, valid_loss=0.0351]\n",
      "Epoch: 5/30: 100%|██████████| 83/83 [00:03<00:00, 22.73it/s, train_loss=0.032, valid_loss=0.0355] \n",
      "Epoch: 6/30: 100%|██████████| 83/83 [00:03<00:00, 23.72it/s, train_loss=0.0299, valid_loss=0.0357]\n",
      "Epoch: 7/30: 100%|██████████| 83/83 [00:03<00:00, 23.36it/s, train_loss=0.0304, valid_loss=0.0351]\n",
      "Epoch: 8/30: 100%|██████████| 83/83 [00:03<00:00, 22.48it/s, train_loss=0.0309, valid_loss=0.036] \n",
      "Epoch: 9/30: 100%|██████████| 83/83 [00:03<00:00, 23.33it/s, train_loss=0.0287, valid_loss=0.0351]\n",
      "Epoch: 10/30: 100%|██████████| 83/83 [00:03<00:00, 21.00it/s, train_loss=0.0325, valid_loss=0.0351]\n",
      "Epoch: 11/30: 100%|██████████| 83/83 [00:04<00:00, 19.23it/s, train_loss=0.0314, valid_loss=0.0351]\n",
      "Epoch: 12/30: 100%|██████████| 83/83 [00:04<00:00, 19.18it/s, train_loss=0.0329, valid_loss=0.0353]\n",
      "Epoch: 13/30: 100%|██████████| 83/83 [00:04<00:00, 19.14it/s, train_loss=0.0297, valid_loss=0.0349]\n",
      "Epoch: 14/30: 100%|██████████| 83/83 [00:04<00:00, 19.37it/s, train_loss=0.0329, valid_loss=0.0349]\n",
      "Epoch: 15/30: 100%|██████████| 83/83 [00:04<00:00, 19.28it/s, train_loss=0.0306, valid_loss=0.0357]\n",
      "Epoch: 16/30: 100%|██████████| 83/83 [00:04<00:00, 18.93it/s, train_loss=0.0292, valid_loss=0.0349]\n",
      "Epoch: 17/30: 100%|██████████| 83/83 [00:04<00:00, 19.38it/s, train_loss=0.0316, valid_loss=0.0348]\n",
      "Epoch: 18/30: 100%|██████████| 83/83 [00:04<00:00, 19.13it/s, train_loss=0.0302, valid_loss=0.0349]\n",
      "Epoch: 19/30: 100%|██████████| 83/83 [00:04<00:00, 19.52it/s, train_loss=0.033, valid_loss=0.035]  \n",
      "Epoch: 20/30: 100%|██████████| 83/83 [00:04<00:00, 19.39it/s, train_loss=0.0295, valid_loss=0.0352]\n",
      "Epoch: 21/30: 100%|██████████| 83/83 [00:04<00:00, 19.04it/s, train_loss=0.0303, valid_loss=0.0348]\n",
      "Epoch: 22/30: 100%|██████████| 83/83 [00:04<00:00, 19.10it/s, train_loss=0.0304, valid_loss=0.0355]\n",
      "Epoch: 23/30: 100%|██████████| 83/83 [00:04<00:00, 19.30it/s, train_loss=0.0299, valid_loss=0.0348]\n",
      "Epoch: 24/30: 100%|██████████| 83/83 [00:04<00:00, 19.60it/s, train_loss=0.0282, valid_loss=0.0357]\n",
      "Epoch: 25/30: 100%|██████████| 83/83 [00:04<00:00, 19.40it/s, train_loss=0.0305, valid_loss=0.035] \n",
      "Epoch: 26/30: 100%|██████████| 83/83 [00:04<00:00, 19.09it/s, train_loss=0.0311, valid_loss=0.0356]\n",
      "Epoch: 27/30: 100%|██████████| 83/83 [00:04<00:00, 19.45it/s, train_loss=0.0288, valid_loss=0.0353]\n",
      "Epoch: 28/30: 100%|██████████| 83/83 [00:04<00:00, 19.21it/s, train_loss=0.0307, valid_loss=0.0352]\n",
      "Epoch: 29/30: 100%|██████████| 83/83 [00:04<00:00, 19.12it/s, train_loss=0.03, valid_loss=0.0352]  \n",
      "Epoch: 30/30: 100%|██████████| 83/83 [00:04<00:00, 19.48it/s, train_loss=0.031, valid_loss=0.035]  \n"
     ]
    },
    {
     "name": "stdout",
     "output_type": "stream",
     "text": [
      "model config: batch_size-256, lr-0.01, number_epoch-30, hidden_dim-128, n_layers-3,drop_prob-0,weight_decay-0\n",
      "cross-validation dataset 0\n"
     ]
    },
    {
     "name": "stderr",
     "output_type": "stream",
     "text": [
      "Epoch: 1/30: 100%|██████████| 83/83 [00:03<00:00, 22.51it/s, train_loss=0.0331, valid_loss=0.0354]\n",
      "Epoch: 2/30: 100%|██████████| 83/83 [00:03<00:00, 23.11it/s, train_loss=0.0304, valid_loss=0.0353]\n",
      "Epoch: 3/30: 100%|██████████| 83/83 [00:03<00:00, 23.02it/s, train_loss=0.0309, valid_loss=0.0355]\n",
      "Epoch: 4/30: 100%|██████████| 83/83 [00:03<00:00, 22.68it/s, train_loss=0.0334, valid_loss=0.0355]\n",
      "Epoch: 5/30: 100%|██████████| 83/83 [00:03<00:00, 23.29it/s, train_loss=0.0315, valid_loss=0.0348]\n",
      "Epoch: 6/30: 100%|██████████| 83/83 [00:03<00:00, 22.46it/s, train_loss=0.031, valid_loss=0.0352] \n",
      "Epoch: 7/30: 100%|██████████| 83/83 [00:03<00:00, 22.76it/s, train_loss=0.0313, valid_loss=0.0359]\n",
      "Epoch: 8/30: 100%|██████████| 83/83 [00:03<00:00, 23.12it/s, train_loss=0.0309, valid_loss=0.0358]\n",
      "Epoch: 9/30: 100%|██████████| 83/83 [00:03<00:00, 22.64it/s, train_loss=0.03, valid_loss=0.0346]  \n",
      "Epoch: 10/30: 100%|██████████| 83/83 [00:03<00:00, 23.26it/s, train_loss=0.0317, valid_loss=0.0351]\n",
      "Epoch: 11/30: 100%|██████████| 83/83 [00:03<00:00, 22.79it/s, train_loss=0.0293, valid_loss=0.035] \n",
      "Epoch: 12/30: 100%|██████████| 83/83 [00:03<00:00, 23.24it/s, train_loss=0.0299, valid_loss=0.0351]\n",
      "Epoch: 13/30: 100%|██████████| 83/83 [00:03<00:00, 23.42it/s, train_loss=0.0297, valid_loss=0.0351]\n",
      "Epoch: 14/30: 100%|██████████| 83/83 [00:03<00:00, 22.60it/s, train_loss=0.0328, valid_loss=0.035] \n",
      "Epoch: 15/30: 100%|██████████| 83/83 [00:03<00:00, 23.16it/s, train_loss=0.0315, valid_loss=0.0356]\n",
      "Epoch: 16/30: 100%|██████████| 83/83 [00:03<00:00, 23.06it/s, train_loss=0.0329, valid_loss=0.0357]\n",
      "Epoch: 17/30: 100%|██████████| 83/83 [00:03<00:00, 22.91it/s, train_loss=0.0297, valid_loss=0.035] \n",
      "Epoch: 18/30: 100%|██████████| 83/83 [00:03<00:00, 22.93it/s, train_loss=0.0337, valid_loss=0.0354]\n",
      "Epoch: 19/30: 100%|██████████| 83/83 [00:03<00:00, 22.70it/s, train_loss=0.029, valid_loss=0.0351] \n",
      "Epoch: 20/30: 100%|██████████| 83/83 [00:03<00:00, 22.74it/s, train_loss=0.0297, valid_loss=0.0351]\n",
      "Epoch: 21/30: 100%|██████████| 83/83 [00:03<00:00, 23.26it/s, train_loss=0.0326, valid_loss=0.0347]\n",
      "Epoch: 22/30: 100%|██████████| 83/83 [00:03<00:00, 22.78it/s, train_loss=0.0298, valid_loss=0.0352]\n",
      "Epoch: 23/30: 100%|██████████| 83/83 [00:03<00:00, 23.57it/s, train_loss=0.0317, valid_loss=0.0353]\n",
      "Epoch: 24/30: 100%|██████████| 83/83 [00:03<00:00, 22.67it/s, train_loss=0.034, valid_loss=0.0351] \n",
      "Epoch: 25/30: 100%|██████████| 83/83 [00:03<00:00, 23.64it/s, train_loss=0.034, valid_loss=0.0354] \n",
      "Epoch: 26/30: 100%|██████████| 83/83 [00:03<00:00, 25.71it/s, train_loss=0.0327, valid_loss=0.0354]\n",
      "Epoch: 27/30: 100%|██████████| 83/83 [00:03<00:00, 25.56it/s, train_loss=0.0307, valid_loss=0.0348]\n",
      "Epoch: 28/30: 100%|██████████| 83/83 [00:03<00:00, 26.05it/s, train_loss=0.0299, valid_loss=0.0354]\n",
      "Epoch: 29/30: 100%|██████████| 83/83 [00:03<00:00, 26.02it/s, train_loss=0.0288, valid_loss=0.0355]\n",
      "Epoch: 30/30: 100%|██████████| 83/83 [00:03<00:00, 25.40it/s, train_loss=0.0307, valid_loss=0.0356]\n"
     ]
    },
    {
     "name": "stdout",
     "output_type": "stream",
     "text": [
      "model config: batch_size-256, lr-0.01, number_epoch-30, hidden_dim-64, n_layers-3,drop_prob-0,weight_decay-0\n",
      "cross-validation dataset 0\n"
     ]
    },
    {
     "name": "stderr",
     "output_type": "stream",
     "text": [
      "Epoch: 1/30: 100%|██████████| 83/83 [00:03<00:00, 25.70it/s, train_loss=0.0317, valid_loss=0.0348]\n",
      "Epoch: 2/30: 100%|██████████| 83/83 [00:03<00:00, 25.26it/s, train_loss=0.0323, valid_loss=0.0353]\n",
      "Epoch: 3/30: 100%|██████████| 83/83 [00:03<00:00, 25.53it/s, train_loss=0.0317, valid_loss=0.0353]\n",
      "Epoch: 4/30: 100%|██████████| 83/83 [00:03<00:00, 25.50it/s, train_loss=0.032, valid_loss=0.0352] \n",
      "Epoch: 5/30: 100%|██████████| 83/83 [00:03<00:00, 25.36it/s, train_loss=0.0317, valid_loss=0.0358]\n",
      "Epoch: 6/30: 100%|██████████| 83/83 [00:03<00:00, 25.70it/s, train_loss=0.00658, valid_loss=0.00795]\n",
      "Epoch: 7/30: 100%|██████████| 83/83 [00:03<00:00, 25.18it/s, train_loss=0.00283, valid_loss=0.00332]\n",
      "Epoch: 8/30: 100%|██████████| 83/83 [00:03<00:00, 25.67it/s, train_loss=0.00202, valid_loss=0.00333]\n",
      "Epoch: 9/30: 100%|██████████| 83/83 [00:03<00:00, 25.59it/s, train_loss=0.00182, valid_loss=0.00302]\n",
      "Epoch: 10/30: 100%|██████████| 83/83 [00:03<00:00, 24.72it/s, train_loss=0.0015, valid_loss=0.00266] \n",
      "Epoch: 11/30: 100%|██████████| 83/83 [00:03<00:00, 25.61it/s, train_loss=0.00189, valid_loss=0.00257]\n",
      "Epoch: 12/30: 100%|██████████| 83/83 [00:03<00:00, 26.20it/s, train_loss=0.00156, valid_loss=0.0027] \n",
      "Epoch: 13/30: 100%|██████████| 83/83 [00:03<00:00, 25.07it/s, train_loss=0.00134, valid_loss=0.00261]\n",
      "Epoch: 14/30: 100%|██████████| 83/83 [00:03<00:00, 25.74it/s, train_loss=0.00202, valid_loss=0.00255]\n",
      "Epoch: 15/30: 100%|██████████| 83/83 [00:03<00:00, 25.22it/s, train_loss=0.0014, valid_loss=0.00261] \n",
      "Epoch: 16/30: 100%|██████████| 83/83 [00:03<00:00, 25.59it/s, train_loss=0.00123, valid_loss=0.00253]\n",
      "Epoch: 17/30: 100%|██████████| 83/83 [00:03<00:00, 26.01it/s, train_loss=0.0013, valid_loss=0.0025]  \n",
      "Epoch: 18/30: 100%|██████████| 83/83 [00:03<00:00, 25.01it/s, train_loss=0.00177, valid_loss=0.00254]\n",
      "Epoch: 19/30: 100%|██████████| 83/83 [00:03<00:00, 25.64it/s, train_loss=0.0013, valid_loss=0.00257] \n",
      "Epoch: 20/30: 100%|██████████| 83/83 [00:03<00:00, 25.39it/s, train_loss=0.00157, valid_loss=0.00254]\n",
      "Epoch: 21/30: 100%|██████████| 83/83 [00:03<00:00, 25.77it/s, train_loss=0.00142, valid_loss=0.00282]\n",
      "Epoch: 22/30: 100%|██████████| 83/83 [00:03<00:00, 25.50it/s, train_loss=0.00122, valid_loss=0.00266]\n",
      "Epoch: 23/30: 100%|██████████| 83/83 [00:03<00:00, 25.19it/s, train_loss=0.00113, valid_loss=0.00278]\n",
      "Epoch: 24/30: 100%|██████████| 83/83 [00:03<00:00, 25.73it/s, train_loss=0.00116, valid_loss=0.0025]  \n",
      "Epoch: 25/30: 100%|██████████| 83/83 [00:03<00:00, 25.55it/s, train_loss=0.0014, valid_loss=0.00276]  \n",
      "Epoch: 26/30: 100%|██████████| 83/83 [00:03<00:00, 25.40it/s, train_loss=0.00116, valid_loss=0.00277]\n",
      "Epoch: 27/30: 100%|██████████| 83/83 [00:03<00:00, 25.72it/s, train_loss=0.00102, valid_loss=0.00281]\n",
      "Epoch: 28/30: 100%|██████████| 83/83 [00:03<00:00, 25.09it/s, train_loss=0.00112, valid_loss=0.0026]  \n",
      "Epoch: 29/30: 100%|██████████| 83/83 [00:03<00:00, 25.40it/s, train_loss=0.00108, valid_loss=0.0028]  \n",
      "Epoch: 30/30: 100%|██████████| 83/83 [00:03<00:00, 25.71it/s, train_loss=0.00113, valid_loss=0.0028]  \n"
     ]
    },
    {
     "name": "stdout",
     "output_type": "stream",
     "text": [
      "model config: batch_size-256, lr-0.01, number_epoch-30, hidden_dim-256, n_layers-2,drop_prob-0,weight_decay-0\n",
      "cross-validation dataset 0\n"
     ]
    },
    {
     "name": "stderr",
     "output_type": "stream",
     "text": [
      "Epoch: 1/30: 100%|██████████| 83/83 [00:02<00:00, 30.04it/s, train_loss=0.0341, valid_loss=0.0347]\n",
      "Epoch: 2/30: 100%|██████████| 83/83 [00:02<00:00, 31.30it/s, train_loss=0.0302, valid_loss=0.0355]\n",
      "Epoch: 3/30: 100%|██████████| 83/83 [00:02<00:00, 30.40it/s, train_loss=0.0304, valid_loss=0.0353]\n",
      "Epoch: 4/30: 100%|██████████| 83/83 [00:02<00:00, 32.12it/s, train_loss=0.0292, valid_loss=0.0364]\n",
      "Epoch: 5/30: 100%|██████████| 83/83 [00:02<00:00, 32.23it/s, train_loss=0.0313, valid_loss=0.0352]\n",
      "Epoch: 6/30: 100%|██████████| 83/83 [00:02<00:00, 30.45it/s, train_loss=0.0311, valid_loss=0.0363]\n",
      "Epoch: 7/30: 100%|██████████| 83/83 [00:02<00:00, 32.01it/s, train_loss=0.0305, valid_loss=0.0357]\n",
      "Epoch: 8/30: 100%|██████████| 83/83 [00:02<00:00, 27.68it/s, train_loss=0.0336, valid_loss=0.0396]\n",
      "Epoch: 9/30: 100%|██████████| 83/83 [00:02<00:00, 31.59it/s, train_loss=0.0291, valid_loss=0.0348]\n",
      "Epoch: 10/30: 100%|██████████| 83/83 [00:02<00:00, 29.25it/s, train_loss=0.0296, valid_loss=0.0355]\n",
      "Epoch: 11/30: 100%|██████████| 83/83 [00:02<00:00, 30.85it/s, train_loss=0.032, valid_loss=0.0357] \n",
      "Epoch: 12/30: 100%|██████████| 83/83 [00:02<00:00, 30.79it/s, train_loss=0.0315, valid_loss=0.0351]\n",
      "Epoch: 13/30: 100%|██████████| 83/83 [00:02<00:00, 32.49it/s, train_loss=0.0302, valid_loss=0.0353]\n",
      "Epoch: 14/30: 100%|██████████| 83/83 [00:02<00:00, 29.80it/s, train_loss=0.0303, valid_loss=0.0352]\n",
      "Epoch: 15/30: 100%|██████████| 83/83 [00:02<00:00, 30.74it/s, train_loss=0.0326, valid_loss=0.035] \n",
      "Epoch: 16/30: 100%|██████████| 83/83 [00:02<00:00, 31.38it/s, train_loss=0.0312, valid_loss=0.0356]\n",
      "Epoch: 17/30: 100%|██████████| 83/83 [00:02<00:00, 32.58it/s, train_loss=0.031, valid_loss=0.0333] \n",
      "Epoch: 18/30: 100%|██████████| 83/83 [00:02<00:00, 32.25it/s, train_loss=0.0313, valid_loss=0.0361]\n",
      "Epoch: 19/30: 100%|██████████| 83/83 [00:02<00:00, 31.44it/s, train_loss=0.0291, valid_loss=0.0347]\n",
      "Epoch: 20/30: 100%|██████████| 83/83 [00:02<00:00, 32.25it/s, train_loss=0.0294, valid_loss=0.035] \n",
      "Epoch: 21/30: 100%|██████████| 83/83 [00:02<00:00, 31.47it/s, train_loss=0.0314, valid_loss=0.0354]\n",
      "Epoch: 22/30: 100%|██████████| 83/83 [00:02<00:00, 32.06it/s, train_loss=0.0277, valid_loss=0.0354]\n",
      "Epoch: 23/30: 100%|██████████| 83/83 [00:02<00:00, 32.70it/s, train_loss=0.0306, valid_loss=0.0347]\n",
      "Epoch: 24/30: 100%|██████████| 83/83 [00:02<00:00, 31.46it/s, train_loss=0.031, valid_loss=0.0355] \n",
      "Epoch: 25/30: 100%|██████████| 83/83 [00:02<00:00, 32.51it/s, train_loss=0.0316, valid_loss=0.0351]\n",
      "Epoch: 26/30: 100%|██████████| 83/83 [00:02<00:00, 31.42it/s, train_loss=0.0304, valid_loss=0.0351]\n",
      "Epoch: 27/30: 100%|██████████| 83/83 [00:02<00:00, 32.37it/s, train_loss=0.0328, valid_loss=0.0352]\n",
      "Epoch: 28/30: 100%|██████████| 83/83 [00:02<00:00, 31.91it/s, train_loss=0.0344, valid_loss=0.0351]\n",
      "Epoch: 29/30: 100%|██████████| 83/83 [00:02<00:00, 31.45it/s, train_loss=0.0312, valid_loss=0.0358]\n",
      "Epoch: 30/30: 100%|██████████| 83/83 [00:02<00:00, 32.20it/s, train_loss=0.0296, valid_loss=0.0349]\n"
     ]
    }
   ],
   "source": [
    "torch.random.manual_seed(0)\n",
    "torch.cuda.random.manual_seed(0)\n",
    "records = run_model_hpo()"
   ]
  },
  {
   "cell_type": "markdown",
   "id": "ddeb16b8",
   "metadata": {
    "ExecuteTime": {
     "end_time": "2021-12-22T08:52:06.844501Z",
     "start_time": "2021-12-22T08:52:06.830928Z"
    }
   },
   "source": [
    "## find the best hyper-parameters"
   ]
  },
  {
   "cell_type": "code",
   "execution_count": 16,
   "id": "a205acd1",
   "metadata": {
    "ExecuteTime": {
     "end_time": "2021-12-29T12:31:38.253463Z",
     "start_time": "2021-12-29T12:31:38.225481Z"
    }
   },
   "outputs": [
    {
     "data": {
      "text/html": [
       "<div>\n",
       "<style scoped>\n",
       "    .dataframe tbody tr th:only-of-type {\n",
       "        vertical-align: middle;\n",
       "    }\n",
       "\n",
       "    .dataframe tbody tr th {\n",
       "        vertical-align: top;\n",
       "    }\n",
       "\n",
       "    .dataframe thead th {\n",
       "        text-align: right;\n",
       "    }\n",
       "</style>\n",
       "<table border=\"1\" class=\"dataframe\">\n",
       "  <thead>\n",
       "    <tr style=\"text-align: right;\">\n",
       "      <th></th>\n",
       "      <th>batch_size</th>\n",
       "      <th>lr</th>\n",
       "      <th>number_epoch</th>\n",
       "      <th>hidden_dim</th>\n",
       "      <th>n_layers</th>\n",
       "      <th>drop_prob</th>\n",
       "      <th>weight_decay</th>\n",
       "      <th>valid_loss</th>\n",
       "    </tr>\n",
       "  </thead>\n",
       "  <tbody>\n",
       "    <tr>\n",
       "      <th>1</th>\n",
       "      <td>256</td>\n",
       "      <td>0.01</td>\n",
       "      <td>30</td>\n",
       "      <td>128</td>\n",
       "      <td>2</td>\n",
       "      <td>0</td>\n",
       "      <td>0</td>\n",
       "      <td>0.002356</td>\n",
       "    </tr>\n",
       "    <tr>\n",
       "      <th>0</th>\n",
       "      <td>256</td>\n",
       "      <td>0.01</td>\n",
       "      <td>30</td>\n",
       "      <td>64</td>\n",
       "      <td>2</td>\n",
       "      <td>0</td>\n",
       "      <td>0</td>\n",
       "      <td>0.002439</td>\n",
       "    </tr>\n",
       "    <tr>\n",
       "      <th>4</th>\n",
       "      <td>256</td>\n",
       "      <td>0.01</td>\n",
       "      <td>30</td>\n",
       "      <td>64</td>\n",
       "      <td>3</td>\n",
       "      <td>0</td>\n",
       "      <td>0</td>\n",
       "      <td>0.002467</td>\n",
       "    </tr>\n",
       "    <tr>\n",
       "      <th>5</th>\n",
       "      <td>256</td>\n",
       "      <td>0.01</td>\n",
       "      <td>30</td>\n",
       "      <td>256</td>\n",
       "      <td>2</td>\n",
       "      <td>0</td>\n",
       "      <td>0</td>\n",
       "      <td>0.019121</td>\n",
       "    </tr>\n",
       "    <tr>\n",
       "      <th>3</th>\n",
       "      <td>256</td>\n",
       "      <td>0.01</td>\n",
       "      <td>30</td>\n",
       "      <td>128</td>\n",
       "      <td>3</td>\n",
       "      <td>0</td>\n",
       "      <td>0</td>\n",
       "      <td>0.034462</td>\n",
       "    </tr>\n",
       "    <tr>\n",
       "      <th>2</th>\n",
       "      <td>256</td>\n",
       "      <td>0.01</td>\n",
       "      <td>30</td>\n",
       "      <td>256</td>\n",
       "      <td>3</td>\n",
       "      <td>0</td>\n",
       "      <td>0</td>\n",
       "      <td>0.034503</td>\n",
       "    </tr>\n",
       "  </tbody>\n",
       "</table>\n",
       "</div>"
      ],
      "text/plain": [
       "   batch_size    lr  number_epoch  hidden_dim  n_layers  drop_prob  \\\n",
       "1         256  0.01            30         128         2          0   \n",
       "0         256  0.01            30          64         2          0   \n",
       "4         256  0.01            30          64         3          0   \n",
       "5         256  0.01            30         256         2          0   \n",
       "3         256  0.01            30         128         3          0   \n",
       "2         256  0.01            30         256         3          0   \n",
       "\n",
       "   weight_decay  valid_loss  \n",
       "1             0    0.002356  \n",
       "0             0    0.002439  \n",
       "4             0    0.002467  \n",
       "5             0    0.019121  \n",
       "3             0    0.034462  \n",
       "2             0    0.034503  "
      ]
     },
     "execution_count": 16,
     "metadata": {},
     "output_type": "execute_result"
    }
   ],
   "source": [
    "records = pd.DataFrame(records).sort_values(by='valid_loss')\n",
    "records.to_csv('./records/LSTM_records.csv', mode='a', index=False, header=False)\n",
    "records"
   ]
  },
  {
   "cell_type": "markdown",
   "id": "3dc0f6a7",
   "metadata": {},
   "source": [
    "## retrain a model"
   ]
  },
  {
   "cell_type": "code",
   "execution_count": 14,
   "id": "dc70adbd",
   "metadata": {
    "ExecuteTime": {
     "end_time": "2022-01-09T08:15:45.108882Z",
     "start_time": "2022-01-09T08:15:45.084860Z"
    }
   },
   "outputs": [],
   "source": [
    "def train_model(train_x, train_y, valid_x, valid_y, input_size, output_size,\n",
    "                mse_thresh, batch_size, lr, number_epoch, hidden_dim, n_layers,\n",
    "                drop_prob, weight_decay):\n",
    "    while (1):\n",
    "        model = LSTM(input_size, output_size, hidden_dim, n_layers,\n",
    "                       drop_prob)\n",
    "        model.to(device=device)\n",
    "        criterion = nn.MSELoss()\n",
    "        optimizer = torch.optim.Adam(model.parameters(), lr=lr, weight_decay=weight_decay)\n",
    "        scheduler = torch.optim.lr_scheduler.StepLR(optimizer, 1, gamma=0.98)\n",
    "        valid_loss_min = np.Inf\n",
    "        train_dataset = TensorDataset(torch.FloatTensor(train_x),\n",
    "                                      torch.FloatTensor(train_y))\n",
    "        valid_dataset = TensorDataset(torch.FloatTensor(valid_x),\n",
    "                                      torch.FloatTensor(valid_y))\n",
    "        train_loader = DataLoader(dataset=train_dataset,\n",
    "                                  batch_size=batch_size,\n",
    "                                  shuffle=True,\n",
    "                                  drop_last=False)\n",
    "        valid_loader = DataLoader(dataset=valid_dataset,\n",
    "                                  batch_size=batch_size,\n",
    "                                  shuffle=True,\n",
    "                                  drop_last=False)\n",
    "        num_without_imp = 0\n",
    "        train_loss_list = []\n",
    "        valid_loss_list = []\n",
    "        # training process\n",
    "        for epoch in range(1, number_epoch + 1):\n",
    "            loop = tqdm(enumerate(train_loader),\n",
    "                        total=len(train_loader),\n",
    "                        leave=True, ncols=100)\n",
    "            for i, (inputs, labels) in loop:\n",
    "                inputs = inputs.to(device=device)\n",
    "                labels = labels.to(device=device)\n",
    "                optimizer.zero_grad()\n",
    "                outputs = model(inputs)\n",
    "                loss = criterion(outputs, labels)\n",
    "                loss.backward()\n",
    "                optimizer.step()\n",
    "                if i % 5 == 0:\n",
    "                    num_without_imp = num_without_imp + 1\n",
    "                    valid_losses = list()\n",
    "                    model.eval()\n",
    "                    for inp, lab in valid_loader:\n",
    "                        inp = inp.to(device)\n",
    "                        lab = lab.to(device)\n",
    "                        out = model(inp)\n",
    "                        valid_loss = criterion(out, lab)\n",
    "                        valid_losses.append(valid_loss.item())\n",
    "\n",
    "                    model.train()\n",
    "                    loop.set_description(\"Epoch: {}/{}\".format(\n",
    "                        epoch, number_epoch))\n",
    "                    loop.set_postfix(train_loss=loss.item(),\n",
    "                                     valid_loss=np.mean(valid_losses))\n",
    "                    \n",
    "                    train_loss_list.append(loss.item())\n",
    "                    valid_loss_list.append(np.mean(valid_losses))\n",
    "                    if np.mean(valid_losses) < valid_loss_min:\n",
    "                        num_without_imp = 0\n",
    "                        torch.save(model.state_dict(),\n",
    "                                   './model/LSTM_state_dict.pt')\n",
    "                        valid_loss_min = np.mean(valid_losses)\n",
    "            scheduler.step()\n",
    "        if valid_loss_min < mse_thresh:\n",
    "            break\n",
    "    return model, train_loss_list, valid_loss_list"
   ]
  },
  {
   "cell_type": "markdown",
   "id": "d9d169ee",
   "metadata": {},
   "source": [
    "## test results"
   ]
  },
  {
   "cell_type": "code",
   "execution_count": 11,
   "id": "377b5622",
   "metadata": {
    "ExecuteTime": {
     "end_time": "2022-01-09T08:15:16.862729Z",
     "start_time": "2022-01-09T08:15:16.844829Z"
    }
   },
   "outputs": [],
   "source": [
    "def test_model(model, test_x, test_y, scaler_y, batch_size):\n",
    "    test_dataset = TensorDataset(torch.FloatTensor(test_x),\n",
    "                                 torch.FloatTensor(test_y))\n",
    "    test_loader = DataLoader(dataset=test_dataset,\n",
    "                             batch_size=batch_size,\n",
    "                             shuffle=False,\n",
    "                             drop_last=False)\n",
    "    model.load_state_dict(torch.load('./model/LSTM_state_dict.pt'))\n",
    "    y_pred = []\n",
    "    y_true = []\n",
    "    with torch.no_grad():\n",
    "        for inputs, label in test_loader:\n",
    "            inputs = inputs.to(device)\n",
    "            label = label.to(device)\n",
    "            outputs = model(inputs)\n",
    "            y_pred += outputs.cpu().numpy().flatten().tolist()\n",
    "            y_true += label.cpu().numpy().flatten().tolist()\n",
    "    y_pred = np.array(y_pred).reshape(-1, 1)\n",
    "    y_true = np.array(y_true).reshape(-1, 1)\n",
    "#     pdb.set_trace()\n",
    "    load_pred = scaler_y.inverse_transform(y_pred)\n",
    "    load_true = scaler_y.inverse_transform(y_true)\n",
    "    \n",
    "    mean_pred = np.mean(load_pred)\n",
    "    mean_true = np.mean(load_true)\n",
    "    MAPE = np.mean(np.abs(load_true - load_pred) / load_true)\n",
    "    SMAPE = 2 * np.mean(\n",
    "        np.abs(load_true - load_pred) / (load_true + load_pred))\n",
    "    MAE = np.mean(np.abs(load_true - load_pred))\n",
    "    RMSE = np.sqrt(np.mean(np.square(load_true - load_pred)))\n",
    "    RRSE = np.sqrt(np.sum(np.square(load_true - load_pred))) / np.sqrt(\n",
    "        np.sum(np.square(load_true - mean_true)))\n",
    "    CORR = np.mean(\n",
    "        np.sum((load_true - mean_true) * (load_pred - mean_pred)) /\n",
    "        np.sqrt(np.sum(\n",
    "            (load_true - mean_true)**2 * (load_pred - mean_pred)**2)))\n",
    "    return MAPE, SMAPE, MAE, RMSE, RRSE, CORR, load_pred, load_true"
   ]
  },
  {
   "cell_type": "markdown",
   "id": "37ba7a36",
   "metadata": {},
   "source": [
    "## run model retraining"
   ]
  },
  {
   "cell_type": "code",
   "execution_count": 12,
   "id": "03905cad",
   "metadata": {
    "ExecuteTime": {
     "end_time": "2022-01-09T08:15:17.804677Z",
     "start_time": "2022-01-09T08:15:17.788633Z"
    }
   },
   "outputs": [],
   "source": [
    "def run_model_retraining(seq_len=seq_len,\n",
    "                         target_len=target_len,\n",
    "                         mse_thresh=mse_thresh):\n",
    "    train_data = data[:int(0.8 * len(data))]\n",
    "    #     train_data = data[:-800]\n",
    "    train_data, scaler, scaler_y = normalization(train_data)\n",
    "    train_x, train_y = series_to_supervise(train_data, seq_len, target_len)\n",
    "\n",
    "    valid_x = train_x[int(0.8 * len(train_x)):]\n",
    "    valid_y = train_y[int(0.8 * len(train_y)):]\n",
    "    train_x = train_x[:int(0.8 * len(train_x))]\n",
    "    train_y = train_y[:int(0.8 * len(train_y))]\n",
    "    input_size = train_x.shape[2]\n",
    "    output_size = target_len\n",
    "\n",
    "    #     hyper-parameters define\n",
    "    batch_size = 512\n",
    "    lr = 0.01\n",
    "    number_epoch = 80\n",
    "    hidden_dim = 128\n",
    "    n_layers = 2\n",
    "    drop_prob = 0\n",
    "    weight_decay = 0\n",
    "    mse_thresh = 0.01\n",
    "\n",
    "    model, train_loss_list, valid_loss_list = train_model(\n",
    "        train_x, train_y, valid_x, valid_y, input_size, output_size,\n",
    "        mse_thresh, batch_size, lr, number_epoch, hidden_dim, n_layers,\n",
    "        drop_prob, weight_decay)\n",
    "    \n",
    "    # plot training process\n",
    "    plt.plot(train_loss_list[10:], 'm', label='train_loss')\n",
    "    plt.plot(valid_loss_list[10:], 'g', label='valid_loss')\n",
    "    plt.grid('both')\n",
    "    plt.legend()\n",
    "    \n",
    "    # test\n",
    "    test_data = data[int(0.8 * len(data)):]\n",
    "    #     test_data = data[-800:]\n",
    "    test_data = scaler.transform(test_data)\n",
    "    test_x, test_y = series_to_supervise(test_data, seq_len, target_len)\n",
    "    MAPE, SMAPE, MAE, RMSE, RRSE, CORR, load_pred, load_true = test_model(model, test_x, test_y,\n",
    "                                                       scaler_y, batch_size)\n",
    "    return MAPE, SMAPE, MAE, RMSE, RRSE, CORR, load_pred, load_true"
   ]
  },
  {
   "cell_type": "code",
   "execution_count": 15,
   "id": "0ff99ba8",
   "metadata": {
    "ExecuteTime": {
     "end_time": "2022-01-09T08:17:29.330808Z",
     "start_time": "2022-01-09T08:15:49.325410Z"
    }
   },
   "outputs": [
    {
     "name": "stdout",
     "output_type": "stream",
     "text": [
      "supervised data: shape of x: (25232, 72, 16), shape of y: (25232, 24)\n"
     ]
    },
    {
     "name": "stderr",
     "output_type": "stream",
     "text": [
      "Epoch: 1/80: 100%|████████████| 40/40 [00:01<00:00, 32.93it/s, train_loss=0.0299, valid_loss=0.0339]\n",
      "Epoch: 2/80: 100%|████████████| 40/40 [00:01<00:00, 30.24it/s, train_loss=0.0316, valid_loss=0.0339]\n",
      "Epoch: 3/80: 100%|████████████| 40/40 [00:01<00:00, 32.39it/s, train_loss=0.0316, valid_loss=0.0337]\n",
      "Epoch: 4/80: 100%|████████████| 40/40 [00:01<00:00, 30.58it/s, train_loss=0.0301, valid_loss=0.0331]\n",
      "Epoch: 5/80: 100%|████████████| 40/40 [00:01<00:00, 33.33it/s, train_loss=0.0316, valid_loss=0.0347]\n",
      "Epoch: 6/80: 100%|████████████| 40/40 [00:01<00:00, 30.62it/s, train_loss=0.0192, valid_loss=0.0122]\n",
      "Epoch: 7/80: 100%|██████████| 40/40 [00:01<00:00, 32.10it/s, train_loss=0.00249, valid_loss=0.00371]\n",
      "Epoch: 8/80: 100%|█████████████| 40/40 [00:01<00:00, 31.92it/s, train_loss=0.0021, valid_loss=0.003]\n",
      "Epoch: 9/80: 100%|██████████| 40/40 [00:01<00:00, 33.97it/s, train_loss=0.00206, valid_loss=0.00364]\n",
      "Epoch: 10/80: 100%|█████████| 40/40 [00:01<00:00, 34.34it/s, train_loss=0.00179, valid_loss=0.00287]\n",
      "Epoch: 11/80: 100%|█████████| 40/40 [00:01<00:00, 32.49it/s, train_loss=0.00196, valid_loss=0.00285]\n",
      "Epoch: 12/80: 100%|█████████| 40/40 [00:01<00:00, 34.16it/s, train_loss=0.00172, valid_loss=0.00279]\n",
      "Epoch: 13/80: 100%|█████████| 40/40 [00:01<00:00, 33.00it/s, train_loss=0.00187, valid_loss=0.00249]\n",
      "Epoch: 14/80: 100%|█████████| 40/40 [00:01<00:00, 32.44it/s, train_loss=0.00152, valid_loss=0.00255]\n",
      "Epoch: 15/80: 100%|█████████| 40/40 [00:01<00:00, 30.45it/s, train_loss=0.00179, valid_loss=0.00247]\n",
      "Epoch: 16/80: 100%|█████████| 40/40 [00:01<00:00, 34.34it/s, train_loss=0.00152, valid_loss=0.00237]\n",
      "Epoch: 17/80: 100%|█████████| 40/40 [00:01<00:00, 32.60it/s, train_loss=0.00138, valid_loss=0.00234]\n",
      "Epoch: 18/80: 100%|█████████| 40/40 [00:01<00:00, 30.37it/s, train_loss=0.00151, valid_loss=0.00264]\n",
      "Epoch: 19/80: 100%|█████████| 40/40 [00:01<00:00, 32.33it/s, train_loss=0.00141, valid_loss=0.00241]\n",
      "Epoch: 20/80: 100%|██████████| 40/40 [00:01<00:00, 32.28it/s, train_loss=0.0015, valid_loss=0.00234]\n",
      "Epoch: 21/80: 100%|█████████| 40/40 [00:01<00:00, 33.84it/s, train_loss=0.00137, valid_loss=0.00239]\n",
      "Epoch: 22/80: 100%|█████████| 40/40 [00:01<00:00, 31.01it/s, train_loss=0.00146, valid_loss=0.00239]\n",
      "Epoch: 23/80: 100%|█████████| 40/40 [00:01<00:00, 32.03it/s, train_loss=0.00127, valid_loss=0.00237]\n",
      "Epoch: 24/80: 100%|███████████| 40/40 [00:01<00:00, 34.36it/s, train_loss=0.0013, valid_loss=0.0023]\n",
      "Epoch: 25/80: 100%|██████████| 40/40 [00:01<00:00, 31.89it/s, train_loss=0.00115, valid_loss=0.0023]\n",
      "Epoch: 26/80: 100%|█████████| 40/40 [00:01<00:00, 33.03it/s, train_loss=0.00127, valid_loss=0.00224]\n",
      "Epoch: 27/80: 100%|█████████| 40/40 [00:01<00:00, 31.93it/s, train_loss=0.00116, valid_loss=0.00236]\n",
      "Epoch: 28/80: 100%|██████████| 40/40 [00:01<00:00, 31.59it/s, train_loss=0.00139, valid_loss=0.0025]\n",
      "Epoch: 29/80: 100%|████████| 40/40 [00:01<00:00, 30.99it/s, train_loss=0.000996, valid_loss=0.00262]\n",
      "Epoch: 30/80: 100%|██████████| 40/40 [00:01<00:00, 34.49it/s, train_loss=0.0012, valid_loss=0.00251]\n",
      "Epoch: 31/80: 100%|█████████| 40/40 [00:01<00:00, 32.45it/s, train_loss=0.00114, valid_loss=0.00259]\n",
      "Epoch: 32/80: 100%|█████████| 40/40 [00:01<00:00, 33.57it/s, train_loss=0.00111, valid_loss=0.00278]\n",
      "Epoch: 33/80: 100%|█████████| 40/40 [00:01<00:00, 33.62it/s, train_loss=0.00103, valid_loss=0.00267]\n",
      "Epoch: 34/80: 100%|█████████| 40/40 [00:01<00:00, 33.01it/s, train_loss=0.00104, valid_loss=0.00266]\n",
      "Epoch: 35/80: 100%|████████| 40/40 [00:01<00:00, 33.77it/s, train_loss=0.000924, valid_loss=0.00282]\n",
      "Epoch: 36/80: 100%|████████| 40/40 [00:01<00:00, 32.58it/s, train_loss=0.000936, valid_loss=0.00249]\n",
      "Epoch: 37/80: 100%|████████| 40/40 [00:01<00:00, 32.85it/s, train_loss=0.000921, valid_loss=0.00279]\n",
      "Epoch: 38/80: 100%|██████████| 40/40 [00:01<00:00, 32.39it/s, train_loss=0.00086, valid_loss=0.0028]\n",
      "Epoch: 39/80: 100%|█████████| 40/40 [00:01<00:00, 34.16it/s, train_loss=0.00118, valid_loss=0.00251]\n",
      "Epoch: 40/80: 100%|████████| 40/40 [00:01<00:00, 31.95it/s, train_loss=0.000938, valid_loss=0.00265]\n",
      "Epoch: 41/80: 100%|████████| 40/40 [00:01<00:00, 31.53it/s, train_loss=0.000896, valid_loss=0.00258]\n",
      "Epoch: 42/80: 100%|████████| 40/40 [00:01<00:00, 33.32it/s, train_loss=0.000771, valid_loss=0.00257]\n",
      "Epoch: 43/80: 100%|████████| 40/40 [00:01<00:00, 32.29it/s, train_loss=0.000719, valid_loss=0.00253]\n",
      "Epoch: 44/80: 100%|█████████| 40/40 [00:01<00:00, 33.12it/s, train_loss=0.00068, valid_loss=0.00263]\n",
      "Epoch: 45/80: 100%|████████| 40/40 [00:01<00:00, 31.19it/s, train_loss=0.000651, valid_loss=0.00258]\n",
      "Epoch: 46/80: 100%|████████| 40/40 [00:01<00:00, 33.69it/s, train_loss=0.000682, valid_loss=0.00278]\n",
      "Epoch: 47/80: 100%|████████| 40/40 [00:01<00:00, 32.15it/s, train_loss=0.000628, valid_loss=0.00265]\n",
      "Epoch: 48/80: 100%|████████| 40/40 [00:01<00:00, 33.48it/s, train_loss=0.000617, valid_loss=0.00277]\n",
      "Epoch: 49/80: 100%|█████████| 40/40 [00:01<00:00, 29.92it/s, train_loss=0.000503, valid_loss=0.0027]\n",
      "Epoch: 50/80: 100%|████████| 40/40 [00:01<00:00, 33.50it/s, train_loss=0.000524, valid_loss=0.00265]\n",
      "Epoch: 51/80: 100%|████████| 40/40 [00:01<00:00, 33.94it/s, train_loss=0.000521, valid_loss=0.00273]\n",
      "Epoch: 52/80: 100%|████████| 40/40 [00:01<00:00, 28.91it/s, train_loss=0.000532, valid_loss=0.00268]\n",
      "Epoch: 53/80: 100%|████████| 40/40 [00:01<00:00, 31.72it/s, train_loss=0.000582, valid_loss=0.00266]\n",
      "Epoch: 54/80: 100%|████████| 40/40 [00:01<00:00, 29.46it/s, train_loss=0.000457, valid_loss=0.00277]\n",
      "Epoch: 55/80: 100%|████████| 40/40 [00:01<00:00, 31.83it/s, train_loss=0.000448, valid_loss=0.00267]\n",
      "Epoch: 56/80: 100%|████████| 40/40 [00:01<00:00, 29.81it/s, train_loss=0.000459, valid_loss=0.00269]\n",
      "Epoch: 57/80: 100%|████████| 40/40 [00:01<00:00, 31.93it/s, train_loss=0.000446, valid_loss=0.00269]\n",
      "Epoch: 58/80: 100%|████████| 40/40 [00:01<00:00, 30.63it/s, train_loss=0.000392, valid_loss=0.00272]\n",
      "Epoch: 59/80: 100%|████████| 40/40 [00:01<00:00, 30.96it/s, train_loss=0.000348, valid_loss=0.00283]\n",
      "Epoch: 60/80: 100%|████████| 40/40 [00:01<00:00, 30.73it/s, train_loss=0.000342, valid_loss=0.00287]\n",
      "Epoch: 61/80: 100%|████████| 40/40 [00:01<00:00, 31.21it/s, train_loss=0.000367, valid_loss=0.00288]\n",
      "Epoch: 62/80: 100%|████████| 40/40 [00:01<00:00, 30.87it/s, train_loss=0.000371, valid_loss=0.00283]\n",
      "Epoch: 63/80: 100%|████████| 40/40 [00:01<00:00, 30.11it/s, train_loss=0.000313, valid_loss=0.00277]\n",
      "Epoch: 64/80: 100%|████████| 40/40 [00:01<00:00, 31.54it/s, train_loss=0.000304, valid_loss=0.00283]\n",
      "Epoch: 65/80: 100%|████████| 40/40 [00:01<00:00, 30.28it/s, train_loss=0.000287, valid_loss=0.00286]\n",
      "Epoch: 66/80: 100%|████████| 40/40 [00:01<00:00, 31.59it/s, train_loss=0.000266, valid_loss=0.00289]\n",
      "Epoch: 67/80: 100%|████████| 40/40 [00:01<00:00, 30.31it/s, train_loss=0.000245, valid_loss=0.00299]\n",
      "Epoch: 68/80: 100%|████████| 40/40 [00:01<00:00, 31.65it/s, train_loss=0.000263, valid_loss=0.00291]\n",
      "Epoch: 69/80: 100%|████████| 40/40 [00:01<00:00, 33.20it/s, train_loss=0.000236, valid_loss=0.00291]\n",
      "Epoch: 70/80: 100%|████████| 40/40 [00:01<00:00, 33.47it/s, train_loss=0.000274, valid_loss=0.00287]\n",
      "Epoch: 71/80: 100%|█████████| 40/40 [00:01<00:00, 33.97it/s, train_loss=0.00023, valid_loss=0.00288]\n",
      "Epoch: 72/80: 100%|████████| 40/40 [00:01<00:00, 32.96it/s, train_loss=0.000218, valid_loss=0.00294]\n",
      "Epoch: 73/80: 100%|████████| 40/40 [00:01<00:00, 33.69it/s, train_loss=0.000207, valid_loss=0.00302]\n",
      "Epoch: 74/80: 100%|████████| 40/40 [00:01<00:00, 32.77it/s, train_loss=0.000192, valid_loss=0.00304]\n",
      "Epoch: 75/80: 100%|████████| 40/40 [00:01<00:00, 34.30it/s, train_loss=0.000209, valid_loss=0.00299]\n",
      "Epoch: 76/80: 100%|████████| 40/40 [00:01<00:00, 32.44it/s, train_loss=0.000178, valid_loss=0.00299]\n",
      "Epoch: 77/80: 100%|████████| 40/40 [00:01<00:00, 34.31it/s, train_loss=0.000167, valid_loss=0.00297]\n",
      "Epoch: 78/80: 100%|████████| 40/40 [00:01<00:00, 34.18it/s, train_loss=0.000168, valid_loss=0.00304]\n",
      "Epoch: 79/80: 100%|████████| 40/40 [00:01<00:00, 32.64it/s, train_loss=0.000174, valid_loss=0.00302]\n",
      "Epoch: 80/80: 100%|████████| 40/40 [00:01<00:00, 33.00it/s, train_loss=0.000153, valid_loss=0.00306]\n"
     ]
    },
    {
     "name": "stdout",
     "output_type": "stream",
     "text": [
      "supervised data: shape of x: (6237, 72, 16), shape of y: (6237, 24)\n",
      "MAPE:0.036662,SMAPE:0.036339,MAE:478.826866,RMSE:708.689894,RRSE:0.219272,CORR:258.646905\n"
     ]
    },
    {
     "data": {
      "image/png": "[encoded data removed]",
      "text/plain": [
       "<Figure size 432x288 with 1 Axes>"
      ]
     },
     "metadata": {
      "needs_background": "light"
     },
     "output_type": "display_data"
    }
   ],
   "source": [
    "torch.random.manual_seed(0)\n",
    "torch.cuda.random.manual_seed(0)\n",
    "MAPE, SMAPE, MAE, RMSE, RRSE, CORR, load_pred, load_true = run_model_retraining()\n",
    "print('MAPE:{:.6f},SMAPE:{:.6f},MAE:{:.6f},RMSE:{:.6f},RRSE:{:.6f},CORR:{:.6f}'.format(MAPE, SMAPE, MAE, RMSE, RRSE, CORR))"
   ]
  },
  {
   "cell_type": "code",
   "execution_count": null,
   "id": "6e244f41",
   "metadata": {
    "ExecuteTime": {
     "end_time": "2022-01-09T08:15:29.561194Z",
     "start_time": "2022-01-09T08:15:29.561185Z"
    }
   },
   "outputs": [],
   "source": [
    "print('MAPE:{:.6f},SMAPE:{:.6f},MAE:{:.6f},RMSE:{:.6f},RRSE:{:.6f},CORR:{:.6f}'.format(MAPE, SMAPE, MAE, RMSE, RRSE, CORR))"
   ]
  },
  {
   "cell_type": "markdown",
   "id": "ded8e819",
   "metadata": {},
   "source": [
    "## figure plot"
   ]
  },
  {
   "cell_type": "code",
   "execution_count": null,
   "id": "508c3efa",
   "metadata": {
    "ExecuteTime": {
     "end_time": "2022-01-09T08:15:29.562244Z",
     "start_time": "2022-01-09T08:15:29.562235Z"
    }
   },
   "outputs": [],
   "source": [
    "plt.figure(figsize=(20, 10))\n",
    "load_pred = load_pred.reshape(-1, target_len)\n",
    "load_true = load_true.reshape(-1, target_len)\n",
    "plt.plot(load_pred[:240,0], 'r')\n",
    "plt.plot(load_true[:240,0], 'g')\n",
    "plt.ylim(0)"
   ]
  }
 ],
 "metadata": {
  "kernelspec": {
   "display_name": "Python 3 (ipykernel)",
   "language": "python",
   "name": "python3"
  },
  "language_info": {
   "codemirror_mode": {
    "name": "ipython",
    "version": 3
   },
   "file_extension": ".py",
   "mimetype": "text/x-python",
   "name": "python",
   "nbconvert_exporter": "python",
   "pygments_lexer": "ipython3",
   "version": "3.8.12"
  },
  "toc": {
   "base_numbering": 1,
   "nav_menu": {},
   "number_sections": true,
   "sideBar": true,
   "skip_h1_title": false,
   "title_cell": "Table of Contents",
   "title_sidebar": "Contents",
   "toc_cell": false,
   "toc_position": {
    "height": "calc(100% - 180px)",
    "left": "10px",
    "top": "150px",
    "width": "374.391px"
   },
   "toc_section_display": true,
   "toc_window_display": true
  },
  "varInspector": {
   "cols": {
    "lenName": 16,
    "lenType": 16,
    "lenVar": 40
   },
   "kernels_config": {
    "python": {
     "delete_cmd_postfix": "",
     "delete_cmd_prefix": "del ",
     "library": "var_list.py",
     "varRefreshCmd": "print(var_dic_list())"
    },
    "r": {
     "delete_cmd_postfix": ") ",
     "delete_cmd_prefix": "rm(",
     "library": "var_list.r",
     "varRefreshCmd": "cat(var_dic_list()) "
    }
   },
   "oldHeight": 320.844,
   "position": {
    "height": "342.844px",
    "left": "1482px",
    "right": "20px",
    "top": "127px",
    "width": "350px"
   },
   "types_to_exclude": [
    "module",
    "function",
    "builtin_function_or_method",
    "instance",
    "_Feature"
   ],
   "varInspector_section_display": "block",
   "window_display": false
  }
 },
 "nbformat": 4,
 "nbformat_minor": 5
}
