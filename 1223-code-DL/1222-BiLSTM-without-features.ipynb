{
 "cells": [
  {
   "cell_type": "markdown",
   "id": "7a8a62bb",
   "metadata": {},
   "source": [
    "# BiLSTM for forecast without features"
   ]
  },
  {
   "cell_type": "code",
   "execution_count": 1,
   "id": "3ee40337",
   "metadata": {
    "ExecuteTime": {
     "end_time": "2021-12-29T12:13:48.754695Z",
     "start_time": "2021-12-29T12:13:47.714510Z"
    }
   },
   "outputs": [],
   "source": [
    "import pandas as pd\n",
    "import numpy as np\n",
    "import matplotlib.pyplot as plt\n",
    "import pdb\n",
    "import torch\n",
    "import torch.nn as nn\n",
    "import random\n",
    "\n",
    "from sklearn.preprocessing import MinMaxScaler\n",
    "from sklearn.model_selection import train_test_split, TimeSeriesSplit\n",
    "from torch.autograd import Variable\n",
    "from torch.utils.data import TensorDataset, DataLoader\n",
    "from tqdm import tqdm\n",
    "from xgboost import XGBRegressor\n",
    "\n",
    "np.random.seed(0)\n",
    "torch.manual_seed(0)\n",
    "torch.cuda.manual_seed(0)\n",
    "if torch.cuda.is_available():  \n",
    "    dev = \"cuda:0\" \n",
    "else:  \n",
    "    dev = \"cpu\"\n",
    "device = torch.device(dev)"
   ]
  },
  {
   "cell_type": "markdown",
   "id": "f32b1efd",
   "metadata": {},
   "source": [
    "## load data"
   ]
  },
  {
   "cell_type": "code",
   "execution_count": 2,
   "id": "5b6ec833",
   "metadata": {
    "ExecuteTime": {
     "end_time": "2021-12-29T12:13:48.814887Z",
     "start_time": "2021-12-29T12:13:48.757729Z"
    }
   },
   "outputs": [],
   "source": [
    "url = '../data/beijing.csv'\n",
    "data = pd.read_csv(url, sep=',', index_col='time')\n",
    "data.index = pd.to_datetime(data.index)\n",
    "data = data[['load']]"
   ]
  },
  {
   "cell_type": "markdown",
   "id": "f3b418f6",
   "metadata": {},
   "source": [
    "## normalization"
   ]
  },
  {
   "cell_type": "code",
   "execution_count": 3,
   "id": "9dcb16a6",
   "metadata": {
    "ExecuteTime": {
     "end_time": "2021-12-29T12:13:48.822832Z",
     "start_time": "2021-12-29T12:13:48.818001Z"
    }
   },
   "outputs": [],
   "source": [
    "def normalization(data):\n",
    "    \"\"\"\n",
    "    data: original data with load\n",
    "    return: normalized data, scaler of load\n",
    "    \"\"\"\n",
    "    scaler = MinMaxScaler()\n",
    "    normalized_data = scaler.fit_transform(data)\n",
    "    scaler_y = MinMaxScaler()\n",
    "    scaler_y.fit_transform(data[[data.columns[-1]]])\n",
    "    return normalized_data, scaler, scaler_y"
   ]
  },
  {
   "cell_type": "markdown",
   "id": "53c5f4c2",
   "metadata": {
    "ExecuteTime": {
     "end_time": "2021-12-22T07:45:44.192666Z",
     "start_time": "2021-12-22T07:45:44.188985Z"
    }
   },
   "source": [
    "## build supervised dataset"
   ]
  },
  {
   "cell_type": "code",
   "execution_count": 4,
   "id": "01ca7491",
   "metadata": {
    "ExecuteTime": {
     "end_time": "2021-12-29T12:13:48.831178Z",
     "start_time": "2021-12-29T12:13:48.825724Z"
    }
   },
   "outputs": [],
   "source": [
    "def series_to_supervise(data, seq_len, target_len):\n",
    "    \"\"\"\n",
    "    convert series data to supervised data\n",
    "    :param data: original data\n",
    "    :param seq_len: length of input sequence\n",
    "    :param target_len: length of ouput sequence\n",
    "    :return: return two ndarrays-- input and output in format suitable to feed to LSTM\n",
    "    \"\"\"\n",
    "    dim_0 = data.shape[0] - seq_len - target_len + 1\n",
    "    dim_1 = data.shape[1]\n",
    "    x = np.zeros((dim_0, seq_len, dim_1))\n",
    "    y = np.zeros((dim_0, target_len))\n",
    "    for i in range(dim_0):\n",
    "        x[i] = data[i:i + seq_len]\n",
    "        y[i] = data[i + seq_len:i + seq_len + target_len, -1]\n",
    "    print(\"supervised data: shape of x: {}, shape of y: {}\".format(x.shape, y.shape))\n",
    "    return x, y"
   ]
  },
  {
   "cell_type": "markdown",
   "id": "d6f8401d",
   "metadata": {},
   "source": [
    "## 5-folds TimeSeriesSplit"
   ]
  },
  {
   "cell_type": "code",
   "execution_count": 5,
   "id": "b223e353",
   "metadata": {
    "ExecuteTime": {
     "end_time": "2021-12-29T12:13:48.838193Z",
     "start_time": "2021-12-29T12:13:48.833383Z"
    }
   },
   "outputs": [],
   "source": [
    "def time_series_split(X, Y, n_split=5):\n",
    "    \"\"\"\n",
    "    X: features, size * seq_len * feature_num\n",
    "    Y: labels, size * target_len\n",
    "    return: list of train_x, test_x, train_y, test_y\n",
    "    \"\"\"\n",
    "    tscv = TimeSeriesSplit(n_splits=n_split)\n",
    "    train_x_list = list()\n",
    "    valid_x_list = list()\n",
    "    train_y_list = list()\n",
    "    valid_y_list = list()\n",
    "    for train_index, valid_index in tscv.split(X):\n",
    "        train_x_list.append(X[train_index])\n",
    "        train_y_list.append(Y[train_index])\n",
    "        valid_x_list.append(X[valid_index])\n",
    "        valid_y_list.append(Y[valid_index])\n",
    "    return train_x_list, train_y_list, valid_x_list, valid_y_list"
   ]
  },
  {
   "cell_type": "markdown",
   "id": "af034db4",
   "metadata": {},
   "source": [
    "## BiLSTM model"
   ]
  },
  {
   "cell_type": "code",
   "execution_count": 6,
   "id": "1829c0f3",
   "metadata": {
    "ExecuteTime": {
     "end_time": "2021-12-29T12:13:48.848108Z",
     "start_time": "2021-12-29T12:13:48.840698Z"
    }
   },
   "outputs": [],
   "source": [
    "class BiLSTM(nn.Module):\n",
    "    def __init__(self, input_size, output_size, hidden_dim, n_layers,\n",
    "                 drop_prob):\n",
    "        super(BiLSTM, self).__init__()\n",
    "        # model parameters\n",
    "        self.hidden_dim = hidden_dim\n",
    "        self.n_layers = n_layers\n",
    "        self.output_size = output_size\n",
    "        # layes\n",
    "        self.lstm = nn.LSTM(input_size=input_size,\n",
    "                            hidden_size=hidden_dim,\n",
    "                            num_layers=n_layers,\n",
    "                            batch_first=True,\n",
    "                            dropout=drop_prob,\n",
    "                            bidirectional=True)\n",
    "        self.fc = nn.Sequential()\n",
    "        \n",
    "        input_size = hidden_dim * 2\n",
    "        i = 0\n",
    "        while(input_size > 8):\n",
    "            self.fc.add_module('linear{}'.format(i), nn.Linear(input_size, round(input_size / 2)))\n",
    "            self.fc.add_module('relu{}'.format(i), nn.ReLU())\n",
    "            input_size = round(input_size / 2)\n",
    "            i += 1\n",
    "        self.fc.add_module('linear{}'.format(i), nn.Linear(input_size, 1))\n",
    "\n",
    "    def forward(self, x):\n",
    "\n",
    "        lstm_out, hidden = self.lstm(x)\n",
    "        lstm_out = lstm_out[:, -self.output_size:, :]\n",
    "\n",
    "        out = self.fc(lstm_out)\n",
    "\n",
    "        out = out.reshape(x.shape[0], -1)\n",
    "\n",
    "        return out"
   ]
  },
  {
   "cell_type": "markdown",
   "id": "21f7a9dc",
   "metadata": {
    "ExecuteTime": {
     "end_time": "2021-12-22T08:30:19.661769Z",
     "start_time": "2021-12-22T08:30:19.656770Z"
    }
   },
   "source": [
    "## model training for HPO"
   ]
  },
  {
   "cell_type": "code",
   "execution_count": 7,
   "id": "452077d3",
   "metadata": {
    "ExecuteTime": {
     "end_time": "2021-12-29T12:13:48.860610Z",
     "start_time": "2021-12-29T12:13:48.850350Z"
    }
   },
   "outputs": [],
   "source": [
    "def train_model_hpo(train_x_list, train_y_list, valid_x_list, valid_y_list,\n",
    "                    input_size, output_size, mse_thresh, batch_size, lr,\n",
    "                    number_epoch, hidden_dim, n_layers, drop_prob, weight_decay):\n",
    "    valid_loss_list = []\n",
    "    for num in range(len(train_x_list)):\n",
    "        while (1):\n",
    "            model = BiLSTM(input_size, output_size, hidden_dim, n_layers,\n",
    "                           drop_prob)\n",
    "            model.to(device=device)\n",
    "            criterion = nn.MSELoss()\n",
    "            optimizer = torch.optim.Adam(model.parameters(), lr=lr, weight_decay=weight_decay)\n",
    "            scheduler = torch.optim.lr_scheduler.StepLR(optimizer, 1, gamma=0.98)\n",
    "            valid_loss_min = np.Inf\n",
    "            print('cross-validation dataset {}'.format(num))\n",
    "            train_x = train_x_list[num]\n",
    "            train_y = train_y_list[num]\n",
    "            valid_x = valid_x_list[num]\n",
    "            valid_y = valid_y_list[num]\n",
    "            train_dataset = TensorDataset(torch.FloatTensor(train_x),\n",
    "                                          torch.FloatTensor(train_y))\n",
    "            valid_dataset = TensorDataset(torch.FloatTensor(valid_x),\n",
    "                                          torch.FloatTensor(valid_y))\n",
    "            train_loader = DataLoader(dataset=train_dataset,\n",
    "                                      batch_size=batch_size,\n",
    "                                      shuffle=True,\n",
    "                                      drop_last=False)\n",
    "            valid_loader = DataLoader(dataset=valid_dataset,\n",
    "                                      batch_size=batch_size,\n",
    "                                      shuffle=True,\n",
    "                                      drop_last=False)\n",
    "            num_without_imp = 0\n",
    "            # training process\n",
    "            for epoch in range(1, number_epoch + 1):\n",
    "                loop = tqdm(enumerate(train_loader),\n",
    "                            total=len(train_loader),\n",
    "                            leave=True)\n",
    "                for i, (inputs, labels) in loop:\n",
    "                    inputs = inputs.to(device=device)\n",
    "                    labels = labels.to(device=device)\n",
    "                    optimizer.zero_grad()\n",
    "                    outputs = model(inputs)\n",
    "                    loss = criterion(outputs, labels)\n",
    "                    loss.backward()\n",
    "                    optimizer.step()\n",
    "                    if i % 5 == 0:\n",
    "                        num_without_imp = num_without_imp + 1\n",
    "                        valid_losses = list()\n",
    "                        model.eval()\n",
    "                        for inp, lab in valid_loader:\n",
    "                            inp = inp.to(device)\n",
    "                            lab = lab.to(device)\n",
    "                            out = model(inp)\n",
    "                            valid_loss = criterion(out, lab)\n",
    "                            valid_losses.append(valid_loss.item())\n",
    "\n",
    "                        model.train()\n",
    "                        loop.set_description(\"Epoch: {}/{}\".format(\n",
    "                            epoch, number_epoch))\n",
    "                        loop.set_postfix(train_loss=loss.item(),\n",
    "                                         valid_loss=np.mean(valid_losses))\n",
    "                        if np.mean(valid_losses) < valid_loss_min:\n",
    "                            num_without_imp = 0\n",
    "                            valid_loss_min = np.mean(valid_losses)\n",
    "                scheduler.step()\n",
    "                if num_without_imp >= 50:\n",
    "                    pass\n",
    "#                     break\n",
    "\n",
    "            if valid_loss_min < mse_thresh:\n",
    "                valid_loss_list.append(valid_loss_min)\n",
    "                break\n",
    "    return np.mean(valid_loss_list)"
   ]
  },
  {
   "cell_type": "markdown",
   "id": "907d8d2b",
   "metadata": {},
   "source": [
    "## hyper-parameters config"
   ]
  },
  {
   "cell_type": "code",
   "execution_count": 8,
   "id": "5a59f207",
   "metadata": {
    "ExecuteTime": {
     "end_time": "2021-12-29T12:13:48.875206Z",
     "start_time": "2021-12-29T12:13:48.865933Z"
    }
   },
   "outputs": [],
   "source": [
    "seq_len = 72\n",
    "target_len = 24\n",
    "mse_thresh = 0.05\n",
    "\n",
    "\n",
    "def model_config():\n",
    "    batch_sizes = [512]\n",
    "    lrs = [0.01]\n",
    "    number_epochs = [30]\n",
    "    hidden_dims = [32]\n",
    "    n_layers = [2, 3, 4]\n",
    "    drop_prob = [0]\n",
    "    weight_decays = [0]\n",
    "    configs = list()\n",
    "    for i in batch_sizes:\n",
    "        for j in lrs:\n",
    "            for k in number_epochs:\n",
    "                for l in hidden_dims:\n",
    "                    for m in n_layers:\n",
    "                        for n in drop_prob:\n",
    "                            for o in weight_decays:\n",
    "                                configs.append({\n",
    "                                    'batch_size': i,\n",
    "                                    'lr': j,\n",
    "                                    'number_epoch': k,\n",
    "                                    'hidden_dim': l,\n",
    "                                    'n_layers': m,\n",
    "                                    'drop_prob': n,\n",
    "                                    'weight_decay': o,\n",
    "                                })\n",
    "    return configs"
   ]
  },
  {
   "cell_type": "markdown",
   "id": "8ce42a2a",
   "metadata": {},
   "source": [
    "## random search for HPO"
   ]
  },
  {
   "cell_type": "code",
   "execution_count": 9,
   "id": "19278caf",
   "metadata": {
    "ExecuteTime": {
     "end_time": "2021-12-29T12:13:48.889617Z",
     "start_time": "2021-12-29T12:13:48.878806Z"
    }
   },
   "outputs": [],
   "source": [
    "def run_model_hpo(seq_len=seq_len,\n",
    "                  target_len=target_len,\n",
    "                  mse_thresh=mse_thresh):\n",
    "    train_data = data[:int(0.8 * len(data))]\n",
    "    train_data, _, _ = normalization(train_data)\n",
    "    train_x, train_y = series_to_supervise(train_data, seq_len, target_len)\n",
    "    train_x_list, train_y_list, valid_x_list, valid_y_list = time_series_split(\n",
    "        train_x, train_y)\n",
    "    #     with enough data\n",
    "    train_x_list = train_x_list[-1:]\n",
    "    train_y_list = train_y_list[-1:]\n",
    "    valid_x_list = valid_x_list[-1:]\n",
    "    valid_y_list = valid_y_list[-1:]\n",
    "\n",
    "    configs = model_config()\n",
    "    records = []\n",
    "    input_size = train_x.shape[2]\n",
    "    output_size = target_len\n",
    "    for i in range(3):\n",
    "        config = random.choice(configs)\n",
    "        configs.remove(config)\n",
    "        batch_size = config['batch_size']\n",
    "        lr = config['lr']\n",
    "        number_epoch = config['number_epoch']\n",
    "        hidden_dim = config['hidden_dim']\n",
    "        n_layers = config['n_layers']\n",
    "        drop_prob = config['drop_prob']\n",
    "        weight_decay = config['weight_decay']\n",
    "        print(\n",
    "            \"model config: batch_size-{}, lr-{}, number_epoch-{}, hidden_dim-{}, n_layers-{},drop_prob-{},weight_decay-{}\"\n",
    "            .format(batch_size, lr, number_epoch, hidden_dim, n_layers,\n",
    "                    drop_prob, weight_decay))\n",
    "        valid_loss = train_model_hpo(train_x_list, train_y_list, valid_x_list,\n",
    "                                     valid_y_list, input_size, output_size,\n",
    "                                     mse_thresh, batch_size, lr, number_epoch,\n",
    "                                     hidden_dim, n_layers, drop_prob, weight_decay)\n",
    "        records.append({\n",
    "            'batch_size': batch_size,\n",
    "            'lr': lr,\n",
    "            'number_epoch': number_epoch,\n",
    "            'hidden_dim': hidden_dim,\n",
    "            'n_layers': n_layers,\n",
    "            'drop_prob': drop_prob,\n",
    "            'weight_decay': weight_decay,\n",
    "            'valid_loss': valid_loss\n",
    "        })\n",
    "    return records"
   ]
  },
  {
   "cell_type": "markdown",
   "id": "85d7f679",
   "metadata": {},
   "source": [
    "## run random search"
   ]
  },
  {
   "cell_type": "code",
   "execution_count": 19,
   "id": "09eb1e3d",
   "metadata": {
    "ExecuteTime": {
     "end_time": "2021-12-29T11:57:40.875708Z",
     "start_time": "2021-12-29T11:54:56.113268Z"
    },
    "scrolled": true
   },
   "outputs": [
    {
     "name": "stdout",
     "output_type": "stream",
     "text": [
      "supervised data: shape of x: (25232, 72, 1), shape of y: (25232, 24)\n",
      "model config: batch_size-512, lr-0.01, number_epoch-30, hidden_dim-32, n_layers-4,drop_prob-0,weight_decay-0\n",
      "cross-validation dataset 0\n"
     ]
    },
    {
     "name": "stderr",
     "output_type": "stream",
     "text": [
      "Epoch: 1/30: 100%|██████████| 42/42 [00:02<00:00, 18.61it/s, train_loss=0.0315, valid_loss=0.0366]\n",
      "Epoch: 2/30: 100%|██████████| 42/42 [00:02<00:00, 18.91it/s, train_loss=0.0314, valid_loss=0.035] \n",
      "Epoch: 3/30: 100%|██████████| 42/42 [00:02<00:00, 17.61it/s, train_loss=0.0314, valid_loss=0.0362]\n",
      "Epoch: 4/30: 100%|██████████| 42/42 [00:02<00:00, 18.25it/s, train_loss=0.0301, valid_loss=0.0359]\n",
      "Epoch: 5/30: 100%|██████████| 42/42 [00:02<00:00, 19.61it/s, train_loss=0.0307, valid_loss=0.0355]\n",
      "Epoch: 6/30: 100%|██████████| 42/42 [00:02<00:00, 18.62it/s, train_loss=0.0198, valid_loss=0.0216]\n",
      "Epoch: 7/30: 100%|██████████| 42/42 [00:02<00:00, 18.90it/s, train_loss=0.0029, valid_loss=0.00392] \n",
      "Epoch: 8/30: 100%|██████████| 42/42 [00:02<00:00, 19.25it/s, train_loss=0.00304, valid_loss=0.00353]\n",
      "Epoch: 9/30: 100%|██████████| 42/42 [00:02<00:00, 18.27it/s, train_loss=0.00272, valid_loss=0.00359]\n",
      "Epoch: 10/30: 100%|██████████| 42/42 [00:02<00:00, 19.11it/s, train_loss=0.00239, valid_loss=0.00341]\n",
      "Epoch: 11/30: 100%|██████████| 42/42 [00:02<00:00, 19.67it/s, train_loss=0.00232, valid_loss=0.00356]\n",
      "Epoch: 12/30: 100%|██████████| 42/42 [00:02<00:00, 17.78it/s, train_loss=0.00229, valid_loss=0.0034] \n",
      "Epoch: 13/30: 100%|██████████| 42/42 [00:02<00:00, 19.49it/s, train_loss=0.00234, valid_loss=0.00344]\n",
      "Epoch: 14/30: 100%|██████████| 42/42 [00:02<00:00, 19.46it/s, train_loss=0.00289, valid_loss=0.00353]\n",
      "Epoch: 15/30: 100%|██████████| 42/42 [00:02<00:00, 18.68it/s, train_loss=0.00231, valid_loss=0.00347]\n",
      "Epoch: 16/30: 100%|██████████| 42/42 [00:02<00:00, 19.93it/s, train_loss=0.00197, valid_loss=0.00336]\n",
      "Epoch: 17/30: 100%|██████████| 42/42 [00:02<00:00, 19.61it/s, train_loss=0.00203, valid_loss=0.00332]\n",
      "Epoch: 18/30: 100%|██████████| 42/42 [00:02<00:00, 18.71it/s, train_loss=0.00218, valid_loss=0.00327]\n",
      "Epoch: 19/30: 100%|██████████| 42/42 [00:02<00:00, 19.93it/s, train_loss=0.00193, valid_loss=0.00342]\n",
      "Epoch: 20/30: 100%|██████████| 42/42 [00:02<00:00, 19.47it/s, train_loss=0.00204, valid_loss=0.00322]\n",
      "Epoch: 21/30: 100%|██████████| 42/42 [00:02<00:00, 19.10it/s, train_loss=0.0021, valid_loss=0.00318] \n",
      "Epoch: 22/30: 100%|██████████| 42/42 [00:02<00:00, 19.78it/s, train_loss=0.00189, valid_loss=0.00313]\n",
      "Epoch: 23/30: 100%|██████████| 42/42 [00:02<00:00, 19.06it/s, train_loss=0.00196, valid_loss=0.003]  \n",
      "Epoch: 24/30: 100%|██████████| 42/42 [00:02<00:00, 19.86it/s, train_loss=0.00175, valid_loss=0.00293]\n",
      "Epoch: 25/30: 100%|██████████| 42/42 [00:02<00:00, 19.75it/s, train_loss=0.00199, valid_loss=0.0033] \n",
      "Epoch: 26/30: 100%|██████████| 42/42 [00:02<00:00, 18.81it/s, train_loss=0.00208, valid_loss=0.00287]\n",
      "Epoch: 27/30: 100%|██████████| 42/42 [00:02<00:00, 19.98it/s, train_loss=0.00197, valid_loss=0.00288]\n",
      "Epoch: 28/30: 100%|██████████| 42/42 [00:02<00:00, 19.79it/s, train_loss=0.0018, valid_loss=0.0029]  \n",
      "Epoch: 29/30: 100%|██████████| 42/42 [00:02<00:00, 19.75it/s, train_loss=0.00208, valid_loss=0.00264]\n",
      "Epoch: 30/30: 100%|██████████| 42/42 [00:02<00:00, 19.75it/s, train_loss=0.0014, valid_loss=0.00251] \n"
     ]
    },
    {
     "name": "stdout",
     "output_type": "stream",
     "text": [
      "model config: batch_size-512, lr-0.01, number_epoch-30, hidden_dim-32, n_layers-3,drop_prob-0,weight_decay-0\n",
      "cross-validation dataset 0\n"
     ]
    },
    {
     "name": "stderr",
     "output_type": "stream",
     "text": [
      "Epoch: 1/30: 100%|██████████| 42/42 [00:01<00:00, 23.40it/s, train_loss=0.00594, valid_loss=0.00612]\n",
      "Epoch: 2/30: 100%|██████████| 42/42 [00:01<00:00, 22.29it/s, train_loss=0.00235, valid_loss=0.00347]\n",
      "Epoch: 3/30: 100%|██████████| 42/42 [00:01<00:00, 22.90it/s, train_loss=0.00232, valid_loss=0.00336]\n",
      "Epoch: 4/30: 100%|██████████| 42/42 [00:01<00:00, 23.10it/s, train_loss=0.00207, valid_loss=0.00334]\n",
      "Epoch: 5/30: 100%|██████████| 42/42 [00:01<00:00, 23.17it/s, train_loss=0.00184, valid_loss=0.00325]\n",
      "Epoch: 6/30: 100%|██████████| 42/42 [00:01<00:00, 23.33it/s, train_loss=0.00208, valid_loss=0.00336]\n",
      "Epoch: 7/30: 100%|██████████| 42/42 [00:01<00:00, 22.15it/s, train_loss=0.00217, valid_loss=0.00328]\n",
      "Epoch: 8/30: 100%|██████████| 42/42 [00:01<00:00, 23.08it/s, train_loss=0.00203, valid_loss=0.00329]\n",
      "Epoch: 9/30: 100%|██████████| 42/42 [00:01<00:00, 23.13it/s, train_loss=0.00196, valid_loss=0.00336]\n",
      "Epoch: 10/30: 100%|██████████| 42/42 [00:01<00:00, 23.32it/s, train_loss=0.00228, valid_loss=0.00327]\n",
      "Epoch: 11/30: 100%|██████████| 42/42 [00:01<00:00, 23.60it/s, train_loss=0.00224, valid_loss=0.00327]\n",
      "Epoch: 12/30: 100%|██████████| 42/42 [00:01<00:00, 23.19it/s, train_loss=0.002, valid_loss=0.00349]  \n",
      "Epoch: 13/30: 100%|██████████| 42/42 [00:01<00:00, 22.32it/s, train_loss=0.00223, valid_loss=0.00325]\n",
      "Epoch: 14/30: 100%|██████████| 42/42 [00:01<00:00, 23.28it/s, train_loss=0.00192, valid_loss=0.00328]\n",
      "Epoch: 15/30: 100%|██████████| 42/42 [00:01<00:00, 23.05it/s, train_loss=0.00218, valid_loss=0.00325]\n",
      "Epoch: 16/30: 100%|██████████| 42/42 [00:01<00:00, 22.27it/s, train_loss=0.00226, valid_loss=0.00328]\n",
      "Epoch: 17/30: 100%|██████████| 42/42 [00:01<00:00, 23.29it/s, train_loss=0.00226, valid_loss=0.00338]\n",
      "Epoch: 18/30: 100%|██████████| 42/42 [00:01<00:00, 23.45it/s, train_loss=0.00204, valid_loss=0.00321]\n",
      "Epoch: 19/30: 100%|██████████| 42/42 [00:01<00:00, 23.18it/s, train_loss=0.00213, valid_loss=0.00336]\n",
      "Epoch: 20/30: 100%|██████████| 42/42 [00:01<00:00, 22.76it/s, train_loss=0.00197, valid_loss=0.00313]\n",
      "Epoch: 21/30: 100%|██████████| 42/42 [00:01<00:00, 21.90it/s, train_loss=0.00212, valid_loss=0.00342]\n",
      "Epoch: 22/30: 100%|██████████| 42/42 [00:01<00:00, 23.15it/s, train_loss=0.00196, valid_loss=0.0032] \n",
      "Epoch: 23/30: 100%|██████████| 42/42 [00:01<00:00, 23.25it/s, train_loss=0.00182, valid_loss=0.00321]\n",
      "Epoch: 24/30: 100%|██████████| 42/42 [00:01<00:00, 22.72it/s, train_loss=0.0017, valid_loss=0.00316] \n",
      "Epoch: 25/30: 100%|██████████| 42/42 [00:01<00:00, 23.01it/s, train_loss=0.00188, valid_loss=0.00331]\n",
      "Epoch: 26/30: 100%|██████████| 42/42 [00:01<00:00, 23.21it/s, train_loss=0.00216, valid_loss=0.00312]\n",
      "Epoch: 27/30: 100%|██████████| 42/42 [00:01<00:00, 22.20it/s, train_loss=0.00177, valid_loss=0.00321]\n",
      "Epoch: 28/30: 100%|██████████| 42/42 [00:01<00:00, 23.35it/s, train_loss=0.0018, valid_loss=0.00321] \n",
      "Epoch: 29/30: 100%|██████████| 42/42 [00:01<00:00, 23.64it/s, train_loss=0.00207, valid_loss=0.00308]\n",
      "Epoch: 30/30: 100%|██████████| 42/42 [00:01<00:00, 23.48it/s, train_loss=0.00208, valid_loss=0.00313]\n"
     ]
    },
    {
     "name": "stdout",
     "output_type": "stream",
     "text": [
      "model config: batch_size-512, lr-0.01, number_epoch-30, hidden_dim-32, n_layers-2,drop_prob-0,weight_decay-0\n",
      "cross-validation dataset 0\n"
     ]
    },
    {
     "name": "stderr",
     "output_type": "stream",
     "text": [
      "Epoch: 1/30: 100%|██████████| 42/42 [00:01<00:00, 29.41it/s, train_loss=0.00775, valid_loss=0.00657]\n",
      "Epoch: 2/30: 100%|██████████| 42/42 [00:01<00:00, 28.97it/s, train_loss=0.00265, valid_loss=0.00369]\n",
      "Epoch: 3/30: 100%|██████████| 42/42 [00:01<00:00, 28.60it/s, train_loss=0.00255, valid_loss=0.00346]\n",
      "Epoch: 4/30: 100%|██████████| 42/42 [00:01<00:00, 28.67it/s, train_loss=0.00205, valid_loss=0.00341]\n",
      "Epoch: 5/30: 100%|██████████| 42/42 [00:01<00:00, 29.84it/s, train_loss=0.00233, valid_loss=0.00336]\n",
      "Epoch: 6/30: 100%|██████████| 42/42 [00:01<00:00, 26.94it/s, train_loss=0.00217, valid_loss=0.00321]\n",
      "Epoch: 7/30: 100%|██████████| 42/42 [00:01<00:00, 29.52it/s, train_loss=0.00217, valid_loss=0.00329]\n",
      "Epoch: 8/30: 100%|██████████| 42/42 [00:01<00:00, 29.27it/s, train_loss=0.00176, valid_loss=0.00355]\n",
      "Epoch: 9/30: 100%|██████████| 42/42 [00:01<00:00, 29.60it/s, train_loss=0.00211, valid_loss=0.00335]\n",
      "Epoch: 10/30: 100%|██████████| 42/42 [00:01<00:00, 28.90it/s, train_loss=0.00226, valid_loss=0.00322]\n",
      "Epoch: 11/30: 100%|██████████| 42/42 [00:01<00:00, 29.59it/s, train_loss=0.00187, valid_loss=0.00321]\n",
      "Epoch: 12/30: 100%|██████████| 42/42 [00:01<00:00, 27.20it/s, train_loss=0.00217, valid_loss=0.00324]\n",
      "Epoch: 13/30: 100%|██████████| 42/42 [00:01<00:00, 29.27it/s, train_loss=0.00224, valid_loss=0.00331]\n",
      "Epoch: 14/30: 100%|██████████| 42/42 [00:01<00:00, 28.35it/s, train_loss=0.00206, valid_loss=0.00324]\n",
      "Epoch: 15/30: 100%|██████████| 42/42 [00:01<00:00, 29.22it/s, train_loss=0.00205, valid_loss=0.00321]\n",
      "Epoch: 16/30: 100%|██████████| 42/42 [00:01<00:00, 29.79it/s, train_loss=0.00207, valid_loss=0.00329]\n",
      "Epoch: 17/30: 100%|██████████| 42/42 [00:01<00:00, 27.76it/s, train_loss=0.00194, valid_loss=0.00321]\n",
      "Epoch: 18/30: 100%|██████████| 42/42 [00:01<00:00, 28.97it/s, train_loss=0.00178, valid_loss=0.00323]\n",
      "Epoch: 19/30: 100%|██████████| 42/42 [00:01<00:00, 28.79it/s, train_loss=0.00196, valid_loss=0.00311]\n",
      "Epoch: 20/30: 100%|██████████| 42/42 [00:01<00:00, 28.72it/s, train_loss=0.00229, valid_loss=0.00326]\n",
      "Epoch: 21/30: 100%|██████████| 42/42 [00:01<00:00, 29.79it/s, train_loss=0.00188, valid_loss=0.00316]\n",
      "Epoch: 22/30: 100%|██████████| 42/42 [00:01<00:00, 27.14it/s, train_loss=0.00196, valid_loss=0.00312]\n",
      "Epoch: 23/30: 100%|██████████| 42/42 [00:01<00:00, 28.68it/s, train_loss=0.0021, valid_loss=0.00308] \n",
      "Epoch: 24/30: 100%|██████████| 42/42 [00:01<00:00, 29.15it/s, train_loss=0.00183, valid_loss=0.00313]\n",
      "Epoch: 25/30: 100%|██████████| 42/42 [00:01<00:00, 28.06it/s, train_loss=0.0021, valid_loss=0.00304] \n",
      "Epoch: 26/30: 100%|██████████| 42/42 [00:01<00:00, 28.00it/s, train_loss=0.00186, valid_loss=0.00317]\n",
      "Epoch: 27/30: 100%|██████████| 42/42 [00:01<00:00, 28.91it/s, train_loss=0.00175, valid_loss=0.00319]\n",
      "Epoch: 28/30: 100%|██████████| 42/42 [00:01<00:00, 28.71it/s, train_loss=0.00177, valid_loss=0.00304]\n",
      "Epoch: 29/30: 100%|██████████| 42/42 [00:01<00:00, 28.89it/s, train_loss=0.00183, valid_loss=0.00291]\n",
      "Epoch: 30/30: 100%|██████████| 42/42 [00:01<00:00, 28.99it/s, train_loss=0.00176, valid_loss=0.00298]\n"
     ]
    }
   ],
   "source": [
    "records = run_model_hpo()"
   ]
  },
  {
   "cell_type": "markdown",
   "id": "83d8757f",
   "metadata": {
    "ExecuteTime": {
     "end_time": "2021-12-22T08:52:06.844501Z",
     "start_time": "2021-12-22T08:52:06.830928Z"
    }
   },
   "source": [
    "## find the best hyper-parameters"
   ]
  },
  {
   "cell_type": "code",
   "execution_count": 20,
   "id": "a7f6f104",
   "metadata": {
    "ExecuteTime": {
     "end_time": "2021-12-29T11:58:19.422927Z",
     "start_time": "2021-12-29T11:58:19.395901Z"
    }
   },
   "outputs": [
    {
     "data": {
      "text/html": [
       "<div>\n",
       "<style scoped>\n",
       "    .dataframe tbody tr th:only-of-type {\n",
       "        vertical-align: middle;\n",
       "    }\n",
       "\n",
       "    .dataframe tbody tr th {\n",
       "        vertical-align: top;\n",
       "    }\n",
       "\n",
       "    .dataframe thead th {\n",
       "        text-align: right;\n",
       "    }\n",
       "</style>\n",
       "<table border=\"1\" class=\"dataframe\">\n",
       "  <thead>\n",
       "    <tr style=\"text-align: right;\">\n",
       "      <th></th>\n",
       "      <th>batch_size</th>\n",
       "      <th>lr</th>\n",
       "      <th>number_epoch</th>\n",
       "      <th>hidden_dim</th>\n",
       "      <th>n_layers</th>\n",
       "      <th>drop_prob</th>\n",
       "      <th>weight_decay</th>\n",
       "      <th>valid_loss</th>\n",
       "    </tr>\n",
       "  </thead>\n",
       "  <tbody>\n",
       "    <tr>\n",
       "      <th>0</th>\n",
       "      <td>512</td>\n",
       "      <td>0.01</td>\n",
       "      <td>30</td>\n",
       "      <td>32</td>\n",
       "      <td>4</td>\n",
       "      <td>0</td>\n",
       "      <td>0</td>\n",
       "      <td>0.002511</td>\n",
       "    </tr>\n",
       "    <tr>\n",
       "      <th>2</th>\n",
       "      <td>512</td>\n",
       "      <td>0.01</td>\n",
       "      <td>30</td>\n",
       "      <td>32</td>\n",
       "      <td>2</td>\n",
       "      <td>0</td>\n",
       "      <td>0</td>\n",
       "      <td>0.002906</td>\n",
       "    </tr>\n",
       "    <tr>\n",
       "      <th>1</th>\n",
       "      <td>512</td>\n",
       "      <td>0.01</td>\n",
       "      <td>30</td>\n",
       "      <td>32</td>\n",
       "      <td>3</td>\n",
       "      <td>0</td>\n",
       "      <td>0</td>\n",
       "      <td>0.003039</td>\n",
       "    </tr>\n",
       "  </tbody>\n",
       "</table>\n",
       "</div>"
      ],
      "text/plain": [
       "   batch_size    lr  number_epoch  hidden_dim  n_layers  drop_prob  \\\n",
       "0         512  0.01            30          32         4          0   \n",
       "2         512  0.01            30          32         2          0   \n",
       "1         512  0.01            30          32         3          0   \n",
       "\n",
       "   weight_decay  valid_loss  \n",
       "0             0    0.002511  \n",
       "2             0    0.002906  \n",
       "1             0    0.003039  "
      ]
     },
     "execution_count": 20,
     "metadata": {},
     "output_type": "execute_result"
    }
   ],
   "source": [
    "records = pd.DataFrame(records).sort_values(by='valid_loss')\n",
    "records.to_csv('./records/BiLSTM_records_without_features.csv', mode='a', index=False, header=False)\n",
    "records"
   ]
  },
  {
   "cell_type": "markdown",
   "id": "8332dc63",
   "metadata": {},
   "source": [
    "## retrain a model"
   ]
  },
  {
   "cell_type": "code",
   "execution_count": 10,
   "id": "0ac40cea",
   "metadata": {
    "ExecuteTime": {
     "end_time": "2021-12-29T12:13:51.149981Z",
     "start_time": "2021-12-29T12:13:51.129755Z"
    }
   },
   "outputs": [],
   "source": [
    "def train_model(train_x, train_y, valid_x, valid_y, input_size, output_size,\n",
    "                mse_thresh, batch_size, lr, number_epoch, hidden_dim, n_layers,\n",
    "                drop_prob, weight_decay):\n",
    "    while (1):\n",
    "        model = BiLSTM(input_size, output_size, hidden_dim, n_layers,\n",
    "                       drop_prob)\n",
    "        model.to(device=device)\n",
    "        criterion = nn.MSELoss()\n",
    "        optimizer = torch.optim.Adam(model.parameters(), lr=lr, weight_decay=weight_decay)\n",
    "        scheduler = torch.optim.lr_scheduler.StepLR(optimizer, 1, gamma=0.98)\n",
    "        valid_loss_min = np.Inf\n",
    "        train_dataset = TensorDataset(torch.FloatTensor(train_x),\n",
    "                                      torch.FloatTensor(train_y))\n",
    "        valid_dataset = TensorDataset(torch.FloatTensor(valid_x),\n",
    "                                      torch.FloatTensor(valid_y))\n",
    "        train_loader = DataLoader(dataset=train_dataset,\n",
    "                                  batch_size=batch_size,\n",
    "                                  shuffle=True,\n",
    "                                  drop_last=False)\n",
    "        valid_loader = DataLoader(dataset=valid_dataset,\n",
    "                                  batch_size=batch_size,\n",
    "                                  shuffle=True,\n",
    "                                  drop_last=False)\n",
    "        num_without_imp = 0\n",
    "        train_loss_list = []\n",
    "        valid_loss_list = []\n",
    "        # training process\n",
    "        for epoch in range(1, number_epoch + 1):\n",
    "            loop = tqdm(enumerate(train_loader),\n",
    "                        total=len(train_loader),\n",
    "                        leave=True)\n",
    "            for i, (inputs, labels) in loop:\n",
    "                inputs = inputs.to(device=device)\n",
    "                labels = labels.to(device=device)\n",
    "                optimizer.zero_grad()\n",
    "                outputs = model(inputs)\n",
    "                loss = criterion(outputs, labels)\n",
    "                loss.backward()\n",
    "                optimizer.step()\n",
    "                if i % 5 == 0:\n",
    "                    num_without_imp = num_without_imp + 1\n",
    "                    valid_losses = list()\n",
    "                    model.eval()\n",
    "                    for inp, lab in valid_loader:\n",
    "                        inp = inp.to(device)\n",
    "                        lab = lab.to(device)\n",
    "                        out = model(inp)\n",
    "                        valid_loss = criterion(out, lab)\n",
    "                        valid_losses.append(valid_loss.item())\n",
    "\n",
    "                    model.train()\n",
    "                    loop.set_description(\"Epoch: {}/{}\".format(\n",
    "                        epoch, number_epoch))\n",
    "                    loop.set_postfix(train_loss=loss.item(),\n",
    "                                     valid_loss=np.mean(valid_losses))\n",
    "                    \n",
    "                    train_loss_list.append(loss.item())\n",
    "                    valid_loss_list.append(np.mean(valid_losses))\n",
    "                    if np.mean(valid_losses) < valid_loss_min:\n",
    "                        num_without_imp = 0\n",
    "                        torch.save(model.state_dict(),\n",
    "                                   './model/BiLSTM_without_features_state_dict.pt')\n",
    "                        valid_loss_min = np.mean(valid_losses)\n",
    "            scheduler.step()\n",
    "        if valid_loss_min < mse_thresh:\n",
    "            break\n",
    "    return model, train_loss_list, valid_loss_list"
   ]
  },
  {
   "cell_type": "markdown",
   "id": "5c91c39d",
   "metadata": {},
   "source": [
    "## test results"
   ]
  },
  {
   "cell_type": "code",
   "execution_count": 15,
   "id": "e38e2a30",
   "metadata": {
    "ExecuteTime": {
     "end_time": "2021-12-29T12:14:08.141332Z",
     "start_time": "2021-12-29T12:14:08.128597Z"
    }
   },
   "outputs": [],
   "source": [
    "def test_model(model, test_x, test_y, scaler_y, batch_size):\n",
    "    test_dataset = TensorDataset(torch.FloatTensor(test_x),\n",
    "                                 torch.FloatTensor(test_y))\n",
    "    test_loader = DataLoader(dataset=test_dataset,\n",
    "                             batch_size=batch_size,\n",
    "                             shuffle=False,\n",
    "                             drop_last=False)\n",
    "    model.load_state_dict(torch.load('./model/BiLSTM_without_features_state_dict.pt'))\n",
    "    y_pred = []\n",
    "    y_true = []\n",
    "    with torch.no_grad():\n",
    "        for inputs, label in test_loader:\n",
    "            inputs = inputs.to(device)\n",
    "            label = label.to(device)\n",
    "            outputs = model(inputs)\n",
    "            y_pred += outputs.cpu().numpy().flatten().tolist()\n",
    "            y_true += label.cpu().numpy().flatten().tolist()\n",
    "    y_pred = np.array(y_pred).reshape(-1, 1)\n",
    "    y_true = np.array(y_true).reshape(-1, 1)\n",
    "#     pdb.set_trace()\n",
    "    load_pred = scaler_y.inverse_transform(y_pred)\n",
    "    load_true = scaler_y.inverse_transform(y_true)\n",
    "    MAPE = np.mean(np.abs(load_true - load_pred) / load_true)\n",
    "    MAE = np.mean(np.abs(load_true - load_pred))\n",
    "    RMSE = np.sqrt(np.mean(np.square(load_true - load_pred)))\n",
    "    return MAPE, MAE, RMSE, load_pred, load_true"
   ]
  },
  {
   "cell_type": "markdown",
   "id": "70523329",
   "metadata": {},
   "source": [
    "## run model retraining"
   ]
  },
  {
   "cell_type": "code",
   "execution_count": 18,
   "id": "5f1cee69",
   "metadata": {
    "ExecuteTime": {
     "end_time": "2021-12-29T12:23:54.384053Z",
     "start_time": "2021-12-29T12:23:54.375691Z"
    }
   },
   "outputs": [],
   "source": [
    "def run_model_retraining(seq_len=seq_len,\n",
    "                         target_len=target_len,\n",
    "                         mse_thresh=mse_thresh):\n",
    "    train_data = data[:int(0.8 * len(data))]\n",
    "    #     train_data = data[:-800]\n",
    "    train_data, scaler, scaler_y = normalization(train_data)\n",
    "    train_x, train_y = series_to_supervise(train_data, seq_len, target_len)\n",
    "\n",
    "    valid_x = train_x[int(0.8 * len(train_x)):]\n",
    "    valid_y = train_y[int(0.8 * len(train_y)):]\n",
    "    train_x = train_x[:int(0.8 * len(train_x))]\n",
    "    train_y = train_y[:int(0.8 * len(train_y))]\n",
    "    input_size = train_x.shape[2]\n",
    "    output_size = target_len\n",
    "\n",
    "    #     hyper-parameters define\n",
    "    batch_size = 512\n",
    "    lr = 0.01\n",
    "    number_epoch = 80\n",
    "    hidden_dim = 32\n",
    "    n_layers = 4\n",
    "    drop_prob = 0\n",
    "    weight_decay = 0\n",
    "    mse_thresh = 0.01\n",
    "\n",
    "    model, train_loss_list, valid_loss_list = train_model(\n",
    "        train_x, train_y, valid_x, valid_y, input_size, output_size,\n",
    "        mse_thresh, batch_size, lr, number_epoch, hidden_dim, n_layers,\n",
    "        drop_prob, weight_decay)\n",
    "    \n",
    "    # plot training process\n",
    "    plt.plot(train_loss_list[10:], 'm', label='train_loss')\n",
    "    plt.plot(valid_loss_list[10:], 'g', label='valid_loss')\n",
    "    plt.grid('both')\n",
    "    plt.legend()\n",
    "    \n",
    "    # test\n",
    "    test_data = data[int(0.8 * len(data)):]\n",
    "    #     test_data = data[-800:]\n",
    "    test_data = scaler.transform(test_data)\n",
    "    test_x, test_y = series_to_supervise(test_data, seq_len, target_len)\n",
    "    MAPE, MAE, RMSE, load_pred, load_true = test_model(model, test_x, test_y,\n",
    "                                                       scaler_y, batch_size)\n",
    "    return MAPE, MAE, RMSE, load_pred, load_true"
   ]
  },
  {
   "cell_type": "code",
   "execution_count": 20,
   "id": "16456eec",
   "metadata": {
    "ExecuteTime": {
     "end_time": "2021-12-29T12:27:27.311006Z",
     "start_time": "2021-12-29T12:24:28.623870Z"
    }
   },
   "outputs": [
    {
     "name": "stdout",
     "output_type": "stream",
     "text": [
      "supervised data: shape of x: (25232, 72, 1), shape of y: (25232, 24)\n"
     ]
    },
    {
     "name": "stderr",
     "output_type": "stream",
     "text": [
      "Epoch: 1/80: 100%|██████████| 40/40 [00:02<00:00, 17.07it/s, train_loss=0.0332, valid_loss=0.0349]\n",
      "Epoch: 2/80: 100%|██████████| 40/40 [00:02<00:00, 18.06it/s, train_loss=0.031, valid_loss=0.034]  \n",
      "Epoch: 3/80: 100%|██████████| 40/40 [00:02<00:00, 17.48it/s, train_loss=0.0299, valid_loss=0.0339]\n",
      "Epoch: 4/80: 100%|██████████| 40/40 [00:02<00:00, 17.19it/s, train_loss=0.0305, valid_loss=0.034] \n",
      "Epoch: 5/80: 100%|██████████| 40/40 [00:02<00:00, 17.28it/s, train_loss=0.0296, valid_loss=0.034] \n",
      "Epoch: 6/80: 100%|██████████| 40/40 [00:02<00:00, 17.95it/s, train_loss=0.0308, valid_loss=0.0339]\n",
      "Epoch: 7/80: 100%|██████████| 40/40 [00:02<00:00, 17.09it/s, train_loss=0.0321, valid_loss=0.0339]\n",
      "Epoch: 8/80: 100%|██████████| 40/40 [00:02<00:00, 17.69it/s, train_loss=0.0313, valid_loss=0.0339]\n",
      "Epoch: 9/80: 100%|██████████| 40/40 [00:02<00:00, 17.00it/s, train_loss=0.0313, valid_loss=0.0339]\n",
      "Epoch: 10/80: 100%|██████████| 40/40 [00:02<00:00, 17.57it/s, train_loss=0.028, valid_loss=0.0328] \n",
      "Epoch: 11/80: 100%|██████████| 40/40 [00:02<00:00, 17.52it/s, train_loss=0.00416, valid_loss=0.00513]\n",
      "Epoch: 12/80: 100%|██████████| 40/40 [00:02<00:00, 17.19it/s, train_loss=0.0023, valid_loss=0.00334] \n",
      "Epoch: 13/80: 100%|██████████| 40/40 [00:02<00:00, 17.46it/s, train_loss=0.00206, valid_loss=0.00308]\n",
      "Epoch: 14/80: 100%|██████████| 40/40 [00:02<00:00, 17.55it/s, train_loss=0.00212, valid_loss=0.00301]\n",
      "Epoch: 15/80: 100%|██████████| 40/40 [00:02<00:00, 17.17it/s, train_loss=0.00244, valid_loss=0.00308]\n",
      "Epoch: 16/80: 100%|██████████| 40/40 [00:02<00:00, 17.53it/s, train_loss=0.00224, valid_loss=0.00302]\n",
      "Epoch: 17/80: 100%|██████████| 40/40 [00:02<00:00, 16.89it/s, train_loss=0.00208, valid_loss=0.00299]\n",
      "Epoch: 18/80: 100%|██████████| 40/40 [00:02<00:00, 17.54it/s, train_loss=0.00217, valid_loss=0.00325]\n",
      "Epoch: 19/80: 100%|██████████| 40/40 [00:02<00:00, 17.82it/s, train_loss=0.00187, valid_loss=0.00319]\n",
      "Epoch: 20/80: 100%|██████████| 40/40 [00:02<00:00, 17.03it/s, train_loss=0.00203, valid_loss=0.00308]\n",
      "Epoch: 21/80: 100%|██████████| 40/40 [00:02<00:00, 17.66it/s, train_loss=0.00207, valid_loss=0.00349]\n",
      "Epoch: 22/80: 100%|██████████| 40/40 [00:02<00:00, 17.07it/s, train_loss=0.00221, valid_loss=0.003]  \n",
      "Epoch: 23/80: 100%|██████████| 40/40 [00:02<00:00, 17.50it/s, train_loss=0.00188, valid_loss=0.00306]\n",
      "Epoch: 24/80: 100%|██████████| 40/40 [00:02<00:00, 17.85it/s, train_loss=0.00232, valid_loss=0.00304]\n",
      "Epoch: 25/80: 100%|██████████| 40/40 [00:02<00:00, 17.27it/s, train_loss=0.0021, valid_loss=0.00302] \n",
      "Epoch: 26/80: 100%|██████████| 40/40 [00:02<00:00, 17.70it/s, train_loss=0.00204, valid_loss=0.00297]\n",
      "Epoch: 27/80: 100%|██████████| 40/40 [00:02<00:00, 17.55it/s, train_loss=0.00183, valid_loss=0.00305]\n",
      "Epoch: 28/80: 100%|██████████| 40/40 [00:02<00:00, 17.21it/s, train_loss=0.00212, valid_loss=0.00304]\n",
      "Epoch: 29/80: 100%|██████████| 40/40 [00:02<00:00, 17.38it/s, train_loss=0.00191, valid_loss=0.00295]\n",
      "Epoch: 30/80: 100%|██████████| 40/40 [00:02<00:00, 17.51it/s, train_loss=0.00206, valid_loss=0.00296]\n",
      "Epoch: 31/80: 100%|██████████| 40/40 [00:02<00:00, 17.62it/s, train_loss=0.00217, valid_loss=0.00331]\n",
      "Epoch: 32/80: 100%|██████████| 40/40 [00:02<00:00, 17.47it/s, train_loss=0.0022, valid_loss=0.00312] \n",
      "Epoch: 33/80: 100%|██████████| 40/40 [00:02<00:00, 17.04it/s, train_loss=0.00207, valid_loss=0.0029] \n",
      "Epoch: 34/80: 100%|██████████| 40/40 [00:02<00:00, 18.02it/s, train_loss=0.00229, valid_loss=0.00291]\n",
      "Epoch: 35/80: 100%|██████████| 40/40 [00:02<00:00, 16.76it/s, train_loss=0.00209, valid_loss=0.00294]\n",
      "Epoch: 36/80: 100%|██████████| 40/40 [00:02<00:00, 17.51it/s, train_loss=0.00196, valid_loss=0.00301]\n",
      "Epoch: 37/80: 100%|██████████| 40/40 [00:02<00:00, 17.53it/s, train_loss=0.00222, valid_loss=0.00313]\n",
      "Epoch: 38/80: 100%|██████████| 40/40 [00:02<00:00, 17.07it/s, train_loss=0.0022, valid_loss=0.00291] \n",
      "Epoch: 39/80: 100%|██████████| 40/40 [00:02<00:00, 17.93it/s, train_loss=0.00188, valid_loss=0.00291]\n",
      "Epoch: 40/80: 100%|██████████| 40/40 [00:02<00:00, 18.20it/s, train_loss=0.00187, valid_loss=0.00272]\n",
      "Epoch: 41/80: 100%|██████████| 40/40 [00:02<00:00, 18.76it/s, train_loss=0.00193, valid_loss=0.00267]\n",
      "Epoch: 42/80: 100%|██████████| 40/40 [00:02<00:00, 18.70it/s, train_loss=0.00189, valid_loss=0.0026] \n",
      "Epoch: 43/80: 100%|██████████| 40/40 [00:02<00:00, 18.14it/s, train_loss=0.00171, valid_loss=0.00262]\n",
      "Epoch: 44/80: 100%|██████████| 40/40 [00:02<00:00, 18.96it/s, train_loss=0.00195, valid_loss=0.00265]\n",
      "Epoch: 45/80: 100%|██████████| 40/40 [00:02<00:00, 18.84it/s, train_loss=0.00175, valid_loss=0.00249]\n",
      "Epoch: 46/80: 100%|██████████| 40/40 [00:02<00:00, 17.96it/s, train_loss=0.00158, valid_loss=0.00247]\n",
      "Epoch: 47/80: 100%|██████████| 40/40 [00:02<00:00, 19.02it/s, train_loss=0.00147, valid_loss=0.00246]\n",
      "Epoch: 48/80: 100%|██████████| 40/40 [00:02<00:00, 18.40it/s, train_loss=0.00151, valid_loss=0.0024] \n",
      "Epoch: 49/80: 100%|██████████| 40/40 [00:02<00:00, 18.35it/s, train_loss=0.00161, valid_loss=0.0023] \n",
      "Epoch: 50/80: 100%|██████████| 40/40 [00:02<00:00, 18.68it/s, train_loss=0.00173, valid_loss=0.00231]\n",
      "Epoch: 51/80: 100%|██████████| 40/40 [00:02<00:00, 18.31it/s, train_loss=0.00152, valid_loss=0.00228]\n",
      "Epoch: 52/80: 100%|██████████| 40/40 [00:02<00:00, 18.65it/s, train_loss=0.00152, valid_loss=0.00223]\n",
      "Epoch: 53/80: 100%|██████████| 40/40 [00:02<00:00, 18.64it/s, train_loss=0.00169, valid_loss=0.00236]\n",
      "Epoch: 54/80: 100%|██████████| 40/40 [00:02<00:00, 18.34it/s, train_loss=0.00164, valid_loss=0.00233]\n",
      "Epoch: 55/80: 100%|██████████| 40/40 [00:02<00:00, 18.78it/s, train_loss=0.00154, valid_loss=0.00216]\n",
      "Epoch: 56/80: 100%|██████████| 40/40 [00:02<00:00, 18.85it/s, train_loss=0.00148, valid_loss=0.00246]\n",
      "Epoch: 57/80: 100%|██████████| 40/40 [00:02<00:00, 18.04it/s, train_loss=0.00158, valid_loss=0.00215]\n",
      "Epoch: 58/80: 100%|██████████| 40/40 [00:02<00:00, 18.73it/s, train_loss=0.00158, valid_loss=0.00252]\n",
      "Epoch: 59/80: 100%|██████████| 40/40 [00:02<00:00, 18.71it/s, train_loss=0.00139, valid_loss=0.00255]\n",
      "Epoch: 60/80: 100%|██████████| 40/40 [00:02<00:00, 18.19it/s, train_loss=0.00147, valid_loss=0.00235]\n",
      "Epoch: 61/80: 100%|██████████| 40/40 [00:02<00:00, 18.93it/s, train_loss=0.00148, valid_loss=0.00243]\n",
      "Epoch: 62/80: 100%|██████████| 40/40 [00:02<00:00, 18.25it/s, train_loss=0.00151, valid_loss=0.0023] \n",
      "Epoch: 63/80: 100%|██████████| 40/40 [00:02<00:00, 18.49it/s, train_loss=0.00135, valid_loss=0.00251]\n",
      "Epoch: 64/80: 100%|██████████| 40/40 [00:02<00:00, 18.76it/s, train_loss=0.00157, valid_loss=0.00223]\n",
      "Epoch: 65/80: 100%|██████████| 40/40 [00:02<00:00, 18.24it/s, train_loss=0.00168, valid_loss=0.00235]\n",
      "Epoch: 66/80: 100%|██████████| 40/40 [00:02<00:00, 18.52it/s, train_loss=0.00133, valid_loss=0.00212]\n",
      "Epoch: 67/80: 100%|██████████| 40/40 [00:02<00:00, 18.70it/s, train_loss=0.00132, valid_loss=0.00231]\n",
      "Epoch: 68/80: 100%|██████████| 40/40 [00:02<00:00, 18.25it/s, train_loss=0.00131, valid_loss=0.0025] \n",
      "Epoch: 69/80: 100%|██████████| 40/40 [00:02<00:00, 19.01it/s, train_loss=0.00132, valid_loss=0.00225]\n",
      "Epoch: 70/80: 100%|██████████| 40/40 [00:02<00:00, 18.29it/s, train_loss=0.00143, valid_loss=0.00231]\n",
      "Epoch: 71/80: 100%|██████████| 40/40 [00:02<00:00, 18.73it/s, train_loss=0.00135, valid_loss=0.00227]\n",
      "Epoch: 72/80: 100%|██████████| 40/40 [00:02<00:00, 18.62it/s, train_loss=0.00123, valid_loss=0.00232]\n",
      "Epoch: 73/80: 100%|██████████| 40/40 [00:02<00:00, 18.11it/s, train_loss=0.00127, valid_loss=0.0022] \n",
      "Epoch: 74/80: 100%|██████████| 40/40 [00:02<00:00, 18.84it/s, train_loss=0.00131, valid_loss=0.00247]\n",
      "Epoch: 75/80: 100%|██████████| 40/40 [00:02<00:00, 18.76it/s, train_loss=0.0012, valid_loss=0.00248] \n",
      "Epoch: 76/80: 100%|██████████| 40/40 [00:02<00:00, 17.97it/s, train_loss=0.00136, valid_loss=0.0024] \n",
      "Epoch: 77/80: 100%|██████████| 40/40 [00:02<00:00, 18.69it/s, train_loss=0.00134, valid_loss=0.00271]\n",
      "Epoch: 78/80: 100%|██████████| 40/40 [00:02<00:00, 18.74it/s, train_loss=0.00127, valid_loss=0.00292]\n",
      "Epoch: 79/80: 100%|██████████| 40/40 [00:02<00:00, 18.31it/s, train_loss=0.00113, valid_loss=0.00292]\n",
      "Epoch: 80/80: 100%|██████████| 40/40 [00:02<00:00, 18.36it/s, train_loss=0.0013, valid_loss=0.00276] \n"
     ]
    },
    {
     "name": "stdout",
     "output_type": "stream",
     "text": [
      "supervised data: shape of x: (6237, 72, 1), shape of y: (6237, 24)\n",
      "MAPE:0.03589121050205029, MAE:470.6214299938829, RMSE:686.944568251118\n"
     ]
    },
    {
     "data": {
      "image/png": "[encoded data removed]",
      "text/plain": [
       "<Figure size 432x288 with 1 Axes>"
      ]
     },
     "metadata": {
      "needs_background": "light"
     },
     "output_type": "display_data"
    }
   ],
   "source": [
    "torch.random.manual_seed(0)\n",
    "torch.cuda.random.manual_seed(0)\n",
    "MAPE, MAE, RMSE, load_pred, load_true = run_model_retraining()\n",
    "print('MAPE:{}, MAE:{}, RMSE:{}'.format(MAPE, MAE, RMSE))"
   ]
  },
  {
   "cell_type": "code",
   "execution_count": 21,
   "id": "814513a5",
   "metadata": {
    "ExecuteTime": {
     "end_time": "2021-12-29T12:28:08.473239Z",
     "start_time": "2021-12-29T12:28:08.467655Z"
    }
   },
   "outputs": [
    {
     "name": "stdout",
     "output_type": "stream",
     "text": [
      "MAPE:0.03589121050205029, MAE:470.6214299938829, RMSE:686.944568251118\n"
     ]
    }
   ],
   "source": [
    "print('MAPE:{}, MAE:{}, RMSE:{}'.format(MAPE, MAE, RMSE))"
   ]
  },
  {
   "cell_type": "markdown",
   "id": "f02bc0a5",
   "metadata": {},
   "source": [
    "## figure plot"
   ]
  },
  {
   "cell_type": "code",
   "execution_count": 22,
   "id": "9869138f",
   "metadata": {
    "ExecuteTime": {
     "end_time": "2021-12-29T12:28:34.051384Z",
     "start_time": "2021-12-29T12:28:33.906499Z"
    }
   },
   "outputs": [
    {
     "data": {
      "text/plain": [
       "(0.0, 19677.178696098417)"
      ]
     },
     "execution_count": 22,
     "metadata": {},
     "output_type": "execute_result"
    },
    {
     "data": {
      "image/png": "[encoded data removed]",
      "text/plain": [
       "<Figure size 1440x720 with 1 Axes>"
      ]
     },
     "metadata": {
      "needs_background": "light"
     },
     "output_type": "display_data"
    }
   ],
   "source": [
    "plt.figure(figsize=(20, 10))\n",
    "load_pred = load_pred.reshape(-1, target_len)\n",
    "load_true = load_true.reshape(-1, target_len)\n",
    "plt.plot(load_pred[:240,0], 'r')\n",
    "plt.plot(load_true[:240,0], 'g')\n",
    "plt.ylim(0)"
   ]
  }
 ],
 "metadata": {
  "kernelspec": {
   "display_name": "Python 3",
   "language": "python",
   "name": "python3"
  },
  "language_info": {
   "codemirror_mode": {
    "name": "ipython",
    "version": 3
   },
   "file_extension": ".py",
   "mimetype": "text/x-python",
   "name": "python",
   "nbconvert_exporter": "python",
   "pygments_lexer": "ipython3",
   "version": "3.8.12"
  },
  "toc": {
   "base_numbering": 1,
   "nav_menu": {},
   "number_sections": true,
   "sideBar": true,
   "skip_h1_title": false,
   "title_cell": "Table of Contents",
   "title_sidebar": "Contents",
   "toc_cell": false,
   "toc_position": {
    "height": "calc(100% - 180px)",
    "left": "10px",
    "top": "150px",
    "width": "374.391px"
   },
   "toc_section_display": true,
   "toc_window_display": true
  },
  "varInspector": {
   "cols": {
    "lenName": 16,
    "lenType": 16,
    "lenVar": 40
   },
   "kernels_config": {
    "python": {
     "delete_cmd_postfix": "",
     "delete_cmd_prefix": "del ",
     "library": "var_list.py",
     "varRefreshCmd": "print(var_dic_list())"
    },
    "r": {
     "delete_cmd_postfix": ") ",
     "delete_cmd_prefix": "rm(",
     "library": "var_list.r",
     "varRefreshCmd": "cat(var_dic_list()) "
    }
   },
   "oldHeight": 320.844,
   "position": {
    "height": "342.844px",
    "left": "1482px",
    "right": "20px",
    "top": "127px",
    "width": "350px"
   },
   "types_to_exclude": [
    "module",
    "function",
    "builtin_function_or_method",
    "instance",
    "_Feature"
   ],
   "varInspector_section_display": "block",
   "window_display": false
  }
 },
 "nbformat": 4,
 "nbformat_minor": 5
}
