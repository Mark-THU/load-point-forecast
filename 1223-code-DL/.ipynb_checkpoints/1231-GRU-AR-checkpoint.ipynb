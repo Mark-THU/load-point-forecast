{
 "cells": [
  {
   "cell_type": "markdown",
   "id": "b6760fcb",
   "metadata": {},
   "source": [
    "# GRU for AutoRegression forecast"
   ]
  },
  {
   "cell_type": "markdown",
   "id": "1b99add5",
   "metadata": {},
   "source": [
    "**modified versions**\n",
    "1. 修正了RNN回归预测的逻辑结构"
   ]
  },
  {
   "cell_type": "code",
   "execution_count": 1,
   "id": "ab701777",
   "metadata": {
    "ExecuteTime": {
     "end_time": "2022-01-09T08:24:39.991050Z",
     "start_time": "2022-01-09T08:24:39.047058Z"
    }
   },
   "outputs": [],
   "source": [
    "import pandas as pd\n",
    "import numpy as np\n",
    "import matplotlib.pyplot as plt\n",
    "import pdb\n",
    "import torch\n",
    "import torch.nn as nn\n",
    "import random\n",
    "\n",
    "from sklearn.preprocessing import MinMaxScaler\n",
    "from sklearn.model_selection import train_test_split, TimeSeriesSplit\n",
    "from torch.autograd import Variable\n",
    "from torch.utils.data import TensorDataset, DataLoader\n",
    "from tqdm import tqdm\n",
    "from xgboost import XGBRegressor\n",
    "from torchsummary import summary\n",
    "\n",
    "if torch.cuda.is_available():  \n",
    "    dev = \"cuda:0\" \n",
    "else:  \n",
    "    dev = \"cpu\"\n",
    "device = torch.device(dev)"
   ]
  },
  {
   "cell_type": "code",
   "execution_count": 2,
   "id": "a74c7ce0",
   "metadata": {
    "ExecuteTime": {
     "end_time": "2022-01-09T08:24:39.995870Z",
     "start_time": "2022-01-09T08:24:39.993040Z"
    }
   },
   "outputs": [],
   "source": [
    "def random_seed_set(seed):\n",
    "    np.random.seed(seed)\n",
    "    torch.random.manual_seed(seed)\n",
    "    torch.cuda.random.manual_seed(seed)\n",
    "#     torch.backends.cudnn.benchmark = False\n",
    "#     torch.backends.cudnn.deterministic = True"
   ]
  },
  {
   "cell_type": "markdown",
   "id": "1b1e141f",
   "metadata": {},
   "source": [
    "## load data"
   ]
  },
  {
   "cell_type": "code",
   "execution_count": 3,
   "id": "5c50b0c3",
   "metadata": {
    "ExecuteTime": {
     "end_time": "2022-01-09T08:24:40.045434Z",
     "start_time": "2022-01-09T08:24:39.997080Z"
    }
   },
   "outputs": [],
   "source": [
    "url = '../data/beijing.csv'\n",
    "data = pd.read_csv(url, sep=',', index_col='time')\n",
    "data.index = pd.to_datetime(data.index)"
   ]
  },
  {
   "cell_type": "markdown",
   "id": "5983b6c6",
   "metadata": {},
   "source": [
    "## normalization"
   ]
  },
  {
   "cell_type": "code",
   "execution_count": 4,
   "id": "5d83e76f",
   "metadata": {
    "ExecuteTime": {
     "end_time": "2022-01-09T08:24:40.050504Z",
     "start_time": "2022-01-09T08:24:40.047287Z"
    }
   },
   "outputs": [],
   "source": [
    "def normalization(data):\n",
    "    \"\"\"\n",
    "    data: original data with load\n",
    "    return: normalized data, scaler of load\n",
    "    \"\"\"\n",
    "    scaler = MinMaxScaler()\n",
    "    normalized_data = scaler.fit_transform(data)\n",
    "    scaler_y = MinMaxScaler()\n",
    "    scaler_y.fit_transform(data[[data.columns[-1]]])\n",
    "    return normalized_data, scaler, scaler_y"
   ]
  },
  {
   "cell_type": "markdown",
   "id": "77586dff",
   "metadata": {
    "ExecuteTime": {
     "end_time": "2021-12-22T07:45:44.192666Z",
     "start_time": "2021-12-22T07:45:44.188985Z"
    }
   },
   "source": [
    "## build supervised dataset"
   ]
  },
  {
   "cell_type": "code",
   "execution_count": 5,
   "id": "28cb7301",
   "metadata": {
    "ExecuteTime": {
     "end_time": "2022-01-09T08:24:40.055353Z",
     "start_time": "2022-01-09T08:24:40.051696Z"
    }
   },
   "outputs": [],
   "source": [
    "def series_to_supervise(data, seq_len, target_len):\n",
    "    \"\"\"\n",
    "    convert series data to supervised data\n",
    "    :param data: original data\n",
    "    :param seq_len: length of input sequence\n",
    "    :param target_len: length of ouput sequence\n",
    "    :return: return two ndarrays-- input and output in format suitable to feed to RNN\n",
    "    \"\"\"\n",
    "    dim_0 = data.shape[0] - seq_len - target_len + 1\n",
    "    dim_1 = data.shape[1]\n",
    "    x = np.zeros((dim_0, seq_len, dim_1))\n",
    "    y = np.zeros((dim_0, target_len, dim_1))\n",
    "    for i in range(dim_0):\n",
    "        x[i] = data[i:i + seq_len]\n",
    "        y[i] = data[i + seq_len:i + seq_len + target_len]\n",
    "    print(\"supervised data: shape of x: {}, shape of y: {}\".format(x.shape, y.shape))\n",
    "    return x, y"
   ]
  },
  {
   "cell_type": "markdown",
   "id": "17ae28dc",
   "metadata": {},
   "source": [
    "## 5-folds TimeSeriesSplit"
   ]
  },
  {
   "cell_type": "code",
   "execution_count": 6,
   "id": "c5ecff68",
   "metadata": {
    "ExecuteTime": {
     "end_time": "2022-01-09T08:24:40.060089Z",
     "start_time": "2022-01-09T08:24:40.056401Z"
    }
   },
   "outputs": [],
   "source": [
    "def time_series_split(X, Y, n_split=5):\n",
    "    \"\"\"\n",
    "    X: features, size * seq_len * feature_num\n",
    "    Y: labels, size * target_len\n",
    "    return: list of train_x, test_x, train_y, test_y\n",
    "    \"\"\"\n",
    "    tscv = TimeSeriesSplit(n_splits=n_split)\n",
    "    train_x_list = list()\n",
    "    valid_x_list = list()\n",
    "    train_y_list = list()\n",
    "    valid_y_list = list()\n",
    "    for train_index, valid_index in tscv.split(X):\n",
    "        train_x_list.append(X[train_index])\n",
    "        train_y_list.append(Y[train_index])\n",
    "        valid_x_list.append(X[valid_index])\n",
    "        valid_y_list.append(Y[valid_index])\n",
    "    return train_x_list, train_y_list, valid_x_list, valid_y_list"
   ]
  },
  {
   "cell_type": "markdown",
   "id": "51f73225",
   "metadata": {},
   "source": [
    "## GRU model"
   ]
  },
  {
   "cell_type": "markdown",
   "id": "31fab893",
   "metadata": {},
   "source": [
    "### define model"
   ]
  },
  {
   "cell_type": "code",
   "execution_count": 7,
   "id": "a1164820",
   "metadata": {
    "ExecuteTime": {
     "end_time": "2022-01-09T08:24:40.068353Z",
     "start_time": "2022-01-09T08:24:40.061374Z"
    }
   },
   "outputs": [],
   "source": [
    "class GRU(nn.Module):\n",
    "    def __init__(self, input_size, output_size, hidden_dim, n_layers,\n",
    "                 drop_prob):\n",
    "        super(GRU, self).__init__()\n",
    "        # model parameters\n",
    "        self.hidden_dim = hidden_dim\n",
    "        self.n_layers = n_layers\n",
    "        self.output_size = output_size\n",
    "        # layes\n",
    "        self.gru = nn.GRU(input_size=input_size,\n",
    "                          hidden_size=hidden_dim,\n",
    "                          num_layers=n_layers,\n",
    "                          dropout=drop_prob,\n",
    "                          bidirectional=False)\n",
    "        self.fc = nn.Sequential()\n",
    "\n",
    "        input_size = hidden_dim\n",
    "        i = 0\n",
    "        while (input_size > 8):\n",
    "            self.fc.add_module('linear{}'.format(i),\n",
    "                               nn.Linear(input_size, round(input_size / 2)))\n",
    "            self.fc.add_module('relu{}'.format(i), nn.ReLU())\n",
    "            input_size = round(input_size / 2)\n",
    "            i += 1\n",
    "        self.fc.add_module('linear{}'.format(i), nn.Linear(input_size, 1))\n",
    "\n",
    "    # predict using outputs of the last 24 steps\n",
    "    def forward(self, XY_p, X_f):\n",
    "        # XY_p shape (batch_size, seq_len, cov_num + 1)\n",
    "        # X_f shape (batch_size, tar_len, cov_num)\n",
    "\n",
    "        outputs = []\n",
    "\n",
    "        inputs = XY_p\n",
    "        # inputs shape (batch_size, seq_len, cov_num + 1)\n",
    "\n",
    "        inputs = torch.transpose(inputs, 0, 1)\n",
    "        # inputs shape (seq_len, batch_size, cov_num + 1)\n",
    "\n",
    "        gru_out, hidden = self.gru(inputs)\n",
    "        # gru_out shape (seq_len, batch_size, hiddem_dim)\n",
    "        # hidden shape (n_layers, batch_size, hidden_dim)\n",
    "\n",
    "        output = self.fc(gru_out[-1:, :, :])\n",
    "        outputs.append(output)\n",
    "        # output shape (1, batch_size, 1)\n",
    "\n",
    "        X_f = torch.transpose(X_f, 0, 1)\n",
    "        # X_f shape (tar_len, batch_size, cov_num)\n",
    "        \n",
    "        for i in range(X_f.shape[0] - 1):\n",
    "            input = torch.cat((X_f[i:i + 1, :, :], output.detach()), dim=2)\n",
    "            # input shape (1, batch_size, cov_num + 1)\n",
    "            \n",
    "            output, hidden = self.gru(input, hidden)\n",
    "            # output shape (1, batch_size, hidden_dim)\n",
    "            \n",
    "            output = self.fc(output)\n",
    "            # output shape (1, batch_size, 1)\n",
    "            \n",
    "            outputs.append(output)\n",
    "        \n",
    "        outputs = torch.cat(outputs, dim=2).squeeze(0)\n",
    "        # outputs shape (batch_size, tar_len)\n",
    "        \n",
    "        return outputs"
   ]
  },
  {
   "cell_type": "markdown",
   "id": "9d99c23e",
   "metadata": {
    "ExecuteTime": {
     "end_time": "2022-01-06T02:56:33.064920Z",
     "start_time": "2022-01-06T02:56:33.060617Z"
    }
   },
   "source": [
    "### test model"
   ]
  },
  {
   "cell_type": "code",
   "execution_count": 8,
   "id": "68898473",
   "metadata": {
    "ExecuteTime": {
     "end_time": "2022-01-09T08:24:40.125209Z",
     "start_time": "2022-01-09T08:24:40.069564Z"
    }
   },
   "outputs": [
    {
     "data": {
      "text/plain": [
       "torch.Size([10, 24])"
      ]
     },
     "execution_count": 8,
     "metadata": {},
     "output_type": "execute_result"
    }
   ],
   "source": [
    "model = GRU(16, 24, 32, 2, 0.1)\n",
    "XY_p = torch.randn(10, 72, 16)\n",
    "X_f = torch.randn(10, 24, 15)\n",
    "outputs = model(XY_p, X_f)\n",
    "outputs.shape"
   ]
  },
  {
   "cell_type": "markdown",
   "id": "94cc1a61",
   "metadata": {
    "ExecuteTime": {
     "end_time": "2021-12-22T08:30:19.661769Z",
     "start_time": "2021-12-22T08:30:19.656770Z"
    }
   },
   "source": [
    "## model training for HPO"
   ]
  },
  {
   "cell_type": "code",
   "execution_count": 9,
   "id": "30a2ecb3",
   "metadata": {
    "ExecuteTime": {
     "end_time": "2022-01-09T08:24:40.135722Z",
     "start_time": "2022-01-09T08:24:40.126274Z"
    }
   },
   "outputs": [],
   "source": [
    "def train_model_hpo(train_x_list, train_y_list, valid_x_list, valid_y_list,\n",
    "                    input_size, output_size, mse_thresh, batch_size, lr,\n",
    "                    number_epoch, hidden_dim, n_layers, drop_prob, weight_decay):\n",
    "    valid_loss_list = []\n",
    "    for num in range(len(train_x_list)):\n",
    "        while (1):\n",
    "            model = GRU(input_size, output_size, hidden_dim, n_layers,\n",
    "                           drop_prob)\n",
    "            model.to(device=device)\n",
    "            criterion = nn.MSELoss()\n",
    "            optimizer = torch.optim.Adam(model.parameters(), lr=lr, weight_decay=weight_decay)\n",
    "            scheduler = torch.optim.lr_scheduler.StepLR(optimizer, 1, gamma=0.98)\n",
    "            valid_loss_min = np.Inf\n",
    "            print('cross-validation dataset {}'.format(num))\n",
    "            train_x = train_x_list[num]\n",
    "            train_y = train_y_list[num]\n",
    "            valid_x = valid_x_list[num]\n",
    "            valid_y = valid_y_list[num]\n",
    "            train_dataset = TensorDataset(torch.FloatTensor(train_x),\n",
    "                                          torch.FloatTensor(train_y))\n",
    "            valid_dataset = TensorDataset(torch.FloatTensor(valid_x),\n",
    "                                          torch.FloatTensor(valid_y))\n",
    "            train_loader = DataLoader(dataset=train_dataset,\n",
    "                                      batch_size=batch_size,\n",
    "                                      shuffle=True,\n",
    "                                      drop_last=False)\n",
    "            valid_loader = DataLoader(dataset=valid_dataset,\n",
    "                                      batch_size=batch_size,\n",
    "                                      shuffle=True,\n",
    "                                      drop_last=False)\n",
    "            num_without_imp = 0\n",
    "            # training process\n",
    "            for epoch in range(1, number_epoch + 1):\n",
    "                loop = tqdm(enumerate(train_loader),\n",
    "                            total=len(train_loader),\n",
    "                            leave=True, ncols=100)\n",
    "                for i, (inputs, labels) in loop:\n",
    "                    inputs = inputs.to(device=device)\n",
    "                    labels = labels.to(device=device)\n",
    "                    optimizer.zero_grad()\n",
    "                    outputs = model(inputs, labels[:, :, :-1])\n",
    "                    loss = criterion(outputs, labels[:, :, -1])\n",
    "                    loss.backward()\n",
    "                    optimizer.step()\n",
    "                    if i % 5 == 0:\n",
    "                        num_without_imp = num_without_imp + 1\n",
    "                        valid_losses = list()\n",
    "                        model.eval()\n",
    "                        for inp, lab in valid_loader:\n",
    "                            inp = inp.to(device)\n",
    "                            lab = lab.to(device)\n",
    "                            out = model(inp, lab[:, :, :-1])\n",
    "                            valid_loss = criterion(out, lab[:, :, -1])\n",
    "                            valid_losses.append(valid_loss.item())\n",
    "\n",
    "                        model.train()\n",
    "                        loop.set_description(\"Epoch: {}/{}\".format(\n",
    "                            epoch, number_epoch))\n",
    "                        loop.set_postfix(train_loss=loss.item(),\n",
    "                                         valid_loss=np.mean(valid_losses))\n",
    "                        if np.mean(valid_losses) < valid_loss_min:\n",
    "                            num_without_imp = 0\n",
    "                            valid_loss_min = np.mean(valid_losses)\n",
    "                scheduler.step()\n",
    "                if num_without_imp >= 50:\n",
    "#                     break\n",
    "                    pass\n",
    "            if valid_loss_min < mse_thresh:\n",
    "                valid_loss_list.append(valid_loss_min)\n",
    "                break\n",
    "    return np.mean(valid_loss_list)"
   ]
  },
  {
   "cell_type": "markdown",
   "id": "17c26b2c",
   "metadata": {},
   "source": [
    "## hyper-parameters config"
   ]
  },
  {
   "cell_type": "code",
   "execution_count": 10,
   "id": "5891f3b2",
   "metadata": {
    "ExecuteTime": {
     "end_time": "2022-01-09T08:24:40.141457Z",
     "start_time": "2022-01-09T08:24:40.137498Z"
    }
   },
   "outputs": [],
   "source": [
    "seq_len = 72\n",
    "target_len = 24\n",
    "mse_thresh = 0.05\n",
    "\n",
    "\n",
    "def model_config():\n",
    "    batch_sizes = [256]\n",
    "    lrs = [0.01]\n",
    "    number_epochs = [30]\n",
    "    hidden_dims = [64, 128, 256]\n",
    "    n_layers = [2, 3]\n",
    "    drop_prob = [0]\n",
    "    weight_decays = [0]\n",
    "    configs = list()\n",
    "    for i in batch_sizes:\n",
    "        for j in lrs:\n",
    "            for k in number_epochs:\n",
    "                for l in hidden_dims:\n",
    "                    for m in n_layers:\n",
    "                        for n in drop_prob:\n",
    "                            for o in weight_decays:\n",
    "                                configs.append({\n",
    "                                    'batch_size': i,\n",
    "                                    'lr': j,\n",
    "                                    'number_epoch': k,\n",
    "                                    'hidden_dim': l,\n",
    "                                    'n_layers': m,\n",
    "                                    'drop_prob': n,\n",
    "                                    'weight_decay': o,\n",
    "                                })\n",
    "    return configs"
   ]
  },
  {
   "cell_type": "markdown",
   "id": "29df6927",
   "metadata": {},
   "source": [
    "## random search for HPO"
   ]
  },
  {
   "cell_type": "code",
   "execution_count": 11,
   "id": "34117c1a",
   "metadata": {
    "ExecuteTime": {
     "end_time": "2022-01-09T08:24:40.148316Z",
     "start_time": "2022-01-09T08:24:40.142660Z"
    }
   },
   "outputs": [],
   "source": [
    "def run_model_hpo(seq_len=seq_len,\n",
    "                  target_len=target_len,\n",
    "                  mse_thresh=mse_thresh):\n",
    "    train_data = data[:int(0.8 * len(data))]\n",
    "    train_data, _, _ = normalization(train_data)\n",
    "    train_x, train_y = series_to_supervise(train_data, seq_len, target_len)\n",
    "    train_x_list, train_y_list, valid_x_list, valid_y_list = time_series_split(\n",
    "        train_x, train_y)\n",
    "    #     with enough data\n",
    "    train_x_list = train_x_list[-1:]\n",
    "    train_y_list = train_y_list[-1:]\n",
    "    valid_x_list = valid_x_list[-1:]\n",
    "    valid_y_list = valid_y_list[-1:]\n",
    "\n",
    "    configs = model_config()\n",
    "    records = []\n",
    "    input_size = train_x.shape[2]\n",
    "    output_size = target_len\n",
    "    for i in range(6):\n",
    "        config = random.choice(configs)\n",
    "        configs.remove(config)\n",
    "        batch_size = config['batch_size']\n",
    "        lr = config['lr']\n",
    "        number_epoch = config['number_epoch']\n",
    "        hidden_dim = config['hidden_dim']\n",
    "        n_layers = config['n_layers']\n",
    "        drop_prob = config['drop_prob']\n",
    "        weight_decay = config['weight_decay']\n",
    "        print(\n",
    "            \"model config: batch_size-{}, lr-{}, number_epoch-{}, hidden_dim-{}, n_layers-{},drop_prob-{},weight_decay-{}\"\n",
    "            .format(batch_size, lr, number_epoch, hidden_dim, n_layers,\n",
    "                    drop_prob, weight_decay))\n",
    "        valid_loss = train_model_hpo(train_x_list, train_y_list, valid_x_list,\n",
    "                                     valid_y_list, input_size, output_size,\n",
    "                                     mse_thresh, batch_size, lr, number_epoch,\n",
    "                                     hidden_dim, n_layers, drop_prob, weight_decay)\n",
    "        records.append({\n",
    "            'batch_size': batch_size,\n",
    "            'lr': lr,\n",
    "            'number_epoch': number_epoch,\n",
    "            'hidden_dim': hidden_dim,\n",
    "            'n_layers': n_layers,\n",
    "            'drop_prob': drop_prob,\n",
    "            'weight_decay': weight_decay,\n",
    "            'valid_loss': valid_loss\n",
    "        })\n",
    "    return records"
   ]
  },
  {
   "cell_type": "markdown",
   "id": "a20d5656",
   "metadata": {},
   "source": [
    "## run random search"
   ]
  },
  {
   "cell_type": "code",
   "execution_count": 23,
   "id": "127efbf4",
   "metadata": {
    "ExecuteTime": {
     "end_time": "2022-01-06T03:32:45.170439Z",
     "start_time": "2022-01-06T03:08:15.710165Z"
    }
   },
   "outputs": [
    {
     "name": "stdout",
     "output_type": "stream",
     "text": [
      "supervised data: shape of x: (25232, 72, 16), shape of y: (25232, 24, 16)\n",
      "model config: batch_size-256, lr-0.01, number_epoch-30, hidden_dim-128, n_layers-3,drop_prob-0,weight_decay-0\n",
      "cross-validation dataset 0\n"
     ]
    },
    {
     "name": "stderr",
     "output_type": "stream",
     "text": [
      "Epoch: 1/30: 100%|████████████| 83/83 [00:10<00:00,  7.84it/s, train_loss=0.0336, valid_loss=0.0349]\n",
      "Epoch: 2/30: 100%|████████████| 83/83 [00:09<00:00,  8.62it/s, train_loss=0.0224, valid_loss=0.0318]\n",
      "Epoch: 3/30: 100%|████████████| 83/83 [00:09<00:00,  8.68it/s, train_loss=0.0181, valid_loss=0.0316]\n",
      "Epoch: 4/30: 100%|██████████| 83/83 [00:09<00:00,  8.65it/s, train_loss=0.00478, valid_loss=0.00701]\n",
      "Epoch: 5/30: 100%|██████████| 83/83 [00:09<00:00,  8.75it/s, train_loss=0.00181, valid_loss=0.00282]\n",
      "Epoch: 6/30: 100%|███████████| 83/83 [00:09<00:00,  8.92it/s, train_loss=0.00128, valid_loss=0.0018]\n",
      "Epoch: 7/30: 100%|█████████| 83/83 [00:09<00:00,  8.72it/s, train_loss=0.000943, valid_loss=0.00182]\n",
      "Epoch: 8/30: 100%|█████████| 83/83 [00:09<00:00,  8.95it/s, train_loss=0.000654, valid_loss=0.00163]\n",
      "Epoch: 9/30: 100%|█████████| 83/83 [00:09<00:00,  9.13it/s, train_loss=0.000643, valid_loss=0.00146]\n",
      "Epoch: 10/30: 100%|████████| 83/83 [00:09<00:00,  9.08it/s, train_loss=0.000468, valid_loss=0.00155]\n",
      "Epoch: 11/30: 100%|████████| 83/83 [00:09<00:00,  9.07it/s, train_loss=0.000633, valid_loss=0.00176]\n",
      "Epoch: 12/30: 100%|████████| 83/83 [00:09<00:00,  8.85it/s, train_loss=0.000501, valid_loss=0.00136]\n",
      "Epoch: 13/30: 100%|████████| 83/83 [00:09<00:00,  8.94it/s, train_loss=0.000325, valid_loss=0.00151]\n",
      "Epoch: 14/30: 100%|█████████| 83/83 [00:09<00:00,  9.04it/s, train_loss=0.00033, valid_loss=0.00126]\n",
      "Epoch: 15/30: 100%|█████████| 83/83 [00:09<00:00,  9.07it/s, train_loss=0.00025, valid_loss=0.00144]\n",
      "Epoch: 16/30: 100%|█████████| 83/83 [00:09<00:00,  9.05it/s, train_loss=0.00021, valid_loss=0.00143]\n",
      "Epoch: 17/30: 100%|████████| 83/83 [00:09<00:00,  8.89it/s, train_loss=0.000195, valid_loss=0.00148]\n",
      "Epoch: 18/30: 100%|█████████| 83/83 [00:09<00:00,  8.92it/s, train_loss=0.00023, valid_loss=0.00149]\n",
      "Epoch: 19/30: 100%|████████| 83/83 [00:09<00:00,  8.90it/s, train_loss=0.000195, valid_loss=0.00149]\n",
      "Epoch: 20/30: 100%|████████| 83/83 [00:09<00:00,  8.89it/s, train_loss=0.000173, valid_loss=0.00166]\n",
      "Epoch: 21/30: 100%|████████| 83/83 [00:09<00:00,  8.91it/s, train_loss=0.000193, valid_loss=0.00159]\n",
      "Epoch: 22/30: 100%|████████| 83/83 [00:09<00:00,  8.86it/s, train_loss=0.000136, valid_loss=0.00175]\n",
      "Epoch: 23/30: 100%|████████| 83/83 [00:09<00:00,  8.82it/s, train_loss=0.000149, valid_loss=0.00167]\n",
      "Epoch: 24/30: 100%|████████| 83/83 [00:09<00:00,  9.06it/s, train_loss=0.000134, valid_loss=0.00159]\n",
      "Epoch: 25/30: 100%|████████| 83/83 [00:09<00:00,  8.93it/s, train_loss=0.000108, valid_loss=0.00169]\n",
      "Epoch: 26/30: 100%|████████| 83/83 [00:09<00:00,  8.86it/s, train_loss=0.000103, valid_loss=0.00166]\n",
      "Epoch: 27/30: 100%|████████| 83/83 [00:09<00:00,  9.03it/s, train_loss=0.000108, valid_loss=0.00165]\n",
      "Epoch: 28/30: 100%|████████| 83/83 [00:09<00:00,  8.89it/s, train_loss=0.000105, valid_loss=0.00163]\n",
      "Epoch: 29/30: 100%|████████| 83/83 [00:09<00:00,  8.91it/s, train_loss=0.000117, valid_loss=0.00172]\n",
      "Epoch: 30/30: 100%|█████████| 83/83 [00:09<00:00,  8.88it/s, train_loss=0.000171, valid_loss=0.0019]\n"
     ]
    },
    {
     "name": "stdout",
     "output_type": "stream",
     "text": [
      "model config: batch_size-256, lr-0.01, number_epoch-30, hidden_dim-64, n_layers-2,drop_prob-0,weight_decay-0\n",
      "cross-validation dataset 0\n"
     ]
    },
    {
     "name": "stderr",
     "output_type": "stream",
     "text": [
      "Epoch: 1/30: 100%|████████████| 83/83 [00:07<00:00, 11.48it/s, train_loss=0.0309, valid_loss=0.0352]\n",
      "Epoch: 2/30: 100%|███████████| 83/83 [00:07<00:00, 11.54it/s, train_loss=0.00863, valid_loss=0.0142]\n",
      "Epoch: 3/30: 100%|██████████| 83/83 [00:07<00:00, 11.53it/s, train_loss=0.00291, valid_loss=0.00365]\n",
      "Epoch: 4/30: 100%|██████████| 83/83 [00:07<00:00, 11.45it/s, train_loss=0.00221, valid_loss=0.00247]\n",
      "Epoch: 5/30: 100%|███████████| 83/83 [00:07<00:00, 11.42it/s, train_loss=0.0011, valid_loss=0.00186]\n",
      "Epoch: 6/30: 100%|█████████| 83/83 [00:07<00:00, 11.24it/s, train_loss=0.000912, valid_loss=0.00194]\n",
      "Epoch: 7/30: 100%|█████████| 83/83 [00:07<00:00, 11.23it/s, train_loss=0.000649, valid_loss=0.00146]\n",
      "Epoch: 8/30: 100%|█████████| 83/83 [00:07<00:00, 11.21it/s, train_loss=0.000665, valid_loss=0.00138]\n",
      "Epoch: 9/30: 100%|█████████| 83/83 [00:07<00:00, 10.98it/s, train_loss=0.000633, valid_loss=0.00134]\n",
      "Epoch: 10/30: 100%|████████| 83/83 [00:07<00:00, 11.28it/s, train_loss=0.000627, valid_loss=0.00129]\n",
      "Epoch: 11/30: 100%|█████████| 83/83 [00:07<00:00, 11.35it/s, train_loss=0.000611, valid_loss=0.0013]\n",
      "Epoch: 12/30: 100%|████████| 83/83 [00:07<00:00, 11.06it/s, train_loss=0.000612, valid_loss=0.00136]\n",
      "Epoch: 13/30: 100%|████████| 83/83 [00:07<00:00, 11.36it/s, train_loss=0.000481, valid_loss=0.00145]\n",
      "Epoch: 14/30: 100%|████████| 83/83 [00:07<00:00, 11.35it/s, train_loss=0.000428, valid_loss=0.00148]\n",
      "Epoch: 15/30: 100%|█████████| 83/83 [00:07<00:00, 11.42it/s, train_loss=0.00041, valid_loss=0.00143]\n",
      "Epoch: 16/30: 100%|█████████| 83/83 [00:07<00:00, 11.15it/s, train_loss=0.000411, valid_loss=0.0014]\n",
      "Epoch: 17/30: 100%|████████| 83/83 [00:07<00:00, 11.16it/s, train_loss=0.000407, valid_loss=0.00126]\n",
      "Epoch: 18/30: 100%|█████████| 83/83 [00:07<00:00, 11.08it/s, train_loss=0.00034, valid_loss=0.00129]\n",
      "Epoch: 19/30: 100%|█████████| 83/83 [00:07<00:00, 11.21it/s, train_loss=0.000459, valid_loss=0.0014]\n",
      "Epoch: 20/30: 100%|████████| 83/83 [00:07<00:00, 11.41it/s, train_loss=0.000306, valid_loss=0.00134]\n",
      "Epoch: 21/30: 100%|████████| 83/83 [00:07<00:00, 11.27it/s, train_loss=0.000361, valid_loss=0.00141]\n",
      "Epoch: 22/30: 100%|████████| 83/83 [00:07<00:00, 11.22it/s, train_loss=0.000314, valid_loss=0.00135]\n",
      "Epoch: 23/30: 100%|████████| 83/83 [00:07<00:00, 11.32it/s, train_loss=0.000316, valid_loss=0.00141]\n",
      "Epoch: 24/30: 100%|████████| 83/83 [00:07<00:00, 11.20it/s, train_loss=0.000291, valid_loss=0.00151]\n",
      "Epoch: 25/30: 100%|█████████| 83/83 [00:07<00:00, 11.00it/s, train_loss=0.000304, valid_loss=0.0016]\n",
      "Epoch: 26/30: 100%|████████| 83/83 [00:07<00:00, 11.17it/s, train_loss=0.000352, valid_loss=0.00153]\n",
      "Epoch: 27/30: 100%|████████| 83/83 [00:07<00:00, 11.17it/s, train_loss=0.000398, valid_loss=0.00175]\n",
      "Epoch: 28/30: 100%|█████████| 83/83 [00:07<00:00, 11.29it/s, train_loss=0.00027, valid_loss=0.00166]\n",
      "Epoch: 29/30: 100%|████████| 83/83 [00:07<00:00, 11.14it/s, train_loss=0.000265, valid_loss=0.00171]\n",
      "Epoch: 30/30: 100%|████████| 83/83 [00:07<00:00, 11.42it/s, train_loss=0.000216, valid_loss=0.00163]\n"
     ]
    },
    {
     "name": "stdout",
     "output_type": "stream",
     "text": [
      "model config: batch_size-256, lr-0.01, number_epoch-30, hidden_dim-128, n_layers-2,drop_prob-0,weight_decay-0\n",
      "cross-validation dataset 0\n"
     ]
    },
    {
     "name": "stderr",
     "output_type": "stream",
     "text": [
      "Epoch: 1/30: 100%|████████████| 83/83 [00:08<00:00, 10.08it/s, train_loss=0.0293, valid_loss=0.0342]\n",
      "Epoch: 2/30: 100%|██████████| 83/83 [00:08<00:00,  9.84it/s, train_loss=0.00484, valid_loss=0.00679]\n",
      "Epoch: 3/30: 100%|██████████| 83/83 [00:08<00:00,  9.91it/s, train_loss=0.00306, valid_loss=0.00348]\n",
      "Epoch: 4/30: 100%|███████████| 83/83 [00:08<00:00,  9.83it/s, train_loss=0.0021, valid_loss=0.00283]\n",
      "Epoch: 5/30: 100%|███████████| 83/83 [00:08<00:00,  9.97it/s, train_loss=0.00106, valid_loss=0.0014]\n",
      "Epoch: 6/30: 100%|█████████| 83/83 [00:08<00:00,  9.93it/s, train_loss=0.000754, valid_loss=0.00142]\n",
      "Epoch: 7/30: 100%|██████████| 83/83 [00:08<00:00,  9.86it/s, train_loss=0.000757, valid_loss=0.0014]\n",
      "Epoch: 8/30: 100%|█████████| 83/83 [00:08<00:00,  9.67it/s, train_loss=0.000703, valid_loss=0.00173]\n",
      "Epoch: 9/30: 100%|█████████| 83/83 [00:08<00:00,  9.78it/s, train_loss=0.000485, valid_loss=0.00186]\n",
      "Epoch: 10/30: 100%|████████| 83/83 [00:08<00:00,  9.89it/s, train_loss=0.000535, valid_loss=0.00145]\n",
      "Epoch: 11/30: 100%|█████████| 83/83 [00:08<00:00,  9.67it/s, train_loss=0.00036, valid_loss=0.00139]\n",
      "Epoch: 12/30: 100%|█████████| 83/83 [00:08<00:00,  9.83it/s, train_loss=0.00041, valid_loss=0.00154]\n",
      "Epoch: 13/30: 100%|████████| 83/83 [00:08<00:00,  9.97it/s, train_loss=0.000247, valid_loss=0.00139]\n",
      "Epoch: 14/30: 100%|█████████| 83/83 [00:08<00:00, 10.08it/s, train_loss=0.000249, valid_loss=0.0015]\n",
      "Epoch: 15/30: 100%|████████| 83/83 [00:08<00:00, 10.02it/s, train_loss=0.000181, valid_loss=0.00162]\n",
      "Epoch: 16/30: 100%|████████| 83/83 [00:08<00:00, 10.26it/s, train_loss=0.000281, valid_loss=0.00161]\n",
      "Epoch: 17/30: 100%|████████| 83/83 [00:08<00:00, 10.15it/s, train_loss=0.000169, valid_loss=0.00163]\n",
      "Epoch: 18/30: 100%|█████████| 83/83 [00:08<00:00, 10.06it/s, train_loss=0.000193, valid_loss=0.0017]\n",
      "Epoch: 19/30: 100%|█████████| 83/83 [00:08<00:00, 10.11it/s, train_loss=0.00016, valid_loss=0.00169]\n",
      "Epoch: 20/30: 100%|█████████| 83/83 [00:08<00:00, 10.19it/s, train_loss=0.000167, valid_loss=0.0019]\n",
      "Epoch: 21/30: 100%|████████| 83/83 [00:08<00:00, 10.03it/s, train_loss=0.000215, valid_loss=0.00171]\n",
      "Epoch: 22/30: 100%|████████| 83/83 [00:08<00:00, 10.19it/s, train_loss=0.000147, valid_loss=0.00181]\n",
      "Epoch: 23/30: 100%|████████| 83/83 [00:08<00:00, 10.04it/s, train_loss=0.000123, valid_loss=0.00167]\n",
      "Epoch: 24/30: 100%|████████| 83/83 [00:08<00:00,  9.92it/s, train_loss=0.000129, valid_loss=0.00166]\n",
      "Epoch: 25/30: 100%|████████| 83/83 [00:07<00:00, 10.39it/s, train_loss=0.000132, valid_loss=0.00164]\n",
      "Epoch: 26/30: 100%|████████| 83/83 [00:07<00:00, 11.17it/s, train_loss=0.000133, valid_loss=0.00174]\n",
      "Epoch: 27/30: 100%|████████| 83/83 [00:07<00:00, 11.11it/s, train_loss=0.000113, valid_loss=0.00169]\n",
      "Epoch: 28/30: 100%|████████| 83/83 [00:07<00:00, 11.06it/s, train_loss=0.000102, valid_loss=0.00173]\n",
      "Epoch: 29/30: 100%|█████████| 83/83 [00:07<00:00, 11.31it/s, train_loss=0.00012, valid_loss=0.00182]\n",
      "Epoch: 30/30: 100%|█████████| 83/83 [00:07<00:00, 11.19it/s, train_loss=8.22e-5, valid_loss=0.00176]\n"
     ]
    },
    {
     "name": "stdout",
     "output_type": "stream",
     "text": [
      "model config: batch_size-256, lr-0.01, number_epoch-30, hidden_dim-256, n_layers-3,drop_prob-0,weight_decay-0\n",
      "cross-validation dataset 0\n"
     ]
    },
    {
     "name": "stderr",
     "output_type": "stream",
     "text": [
      "Epoch: 1/30: 100%|████████████| 83/83 [00:08<00:00,  9.46it/s, train_loss=0.0328, valid_loss=0.0354]\n",
      "Epoch: 2/30: 100%|██████████████| 83/83 [00:08<00:00,  9.52it/s, train_loss=0.03, valid_loss=0.0364]\n",
      "Epoch: 3/30: 100%|█████████████| 83/83 [00:08<00:00,  9.41it/s, train_loss=0.0237, valid_loss=0.039]\n",
      "Epoch: 4/30: 100%|████████████| 83/83 [00:08<00:00,  9.60it/s, train_loss=0.0188, valid_loss=0.0305]\n",
      "Epoch: 5/30: 100%|████████████| 83/83 [00:08<00:00,  9.66it/s, train_loss=0.0124, valid_loss=0.0254]\n",
      "Epoch: 6/30: 100%|█████████████| 83/83 [00:08<00:00,  9.55it/s, train_loss=0.011, valid_loss=0.0187]\n",
      "Epoch: 7/30: 100%|█████████████| 83/83 [00:08<00:00,  9.46it/s, train_loss=0.0133, valid_loss=0.017]\n",
      "Epoch: 8/30: 100%|███████████| 83/83 [00:08<00:00,  9.60it/s, train_loss=0.00785, valid_loss=0.0136]\n",
      "Epoch: 9/30: 100%|████████████| 83/83 [00:08<00:00,  9.47it/s, train_loss=0.0077, valid_loss=0.0124]\n",
      "Epoch: 10/30: 100%|██████████| 83/83 [00:08<00:00,  9.45it/s, train_loss=0.00709, valid_loss=0.0117]\n",
      "Epoch: 11/30: 100%|██████████| 83/83 [00:08<00:00,  9.60it/s, train_loss=0.00741, valid_loss=0.0131]\n",
      "Epoch: 12/30: 100%|█████████| 83/83 [00:08<00:00,  9.56it/s, train_loss=0.00599, valid_loss=0.00775]\n",
      "Epoch: 13/30: 100%|██████████| 83/83 [00:08<00:00,  9.57it/s, train_loss=0.00582, valid_loss=0.0176]\n",
      "Epoch: 14/30: 100%|██████████| 83/83 [00:08<00:00,  9.36it/s, train_loss=0.00531, valid_loss=0.0085]\n",
      "Epoch: 15/30: 100%|█████████| 83/83 [00:08<00:00,  9.50it/s, train_loss=0.00483, valid_loss=0.00755]\n",
      "Epoch: 16/30: 100%|█████████| 83/83 [00:08<00:00,  9.42it/s, train_loss=0.00422, valid_loss=0.00684]\n",
      "Epoch: 17/30: 100%|█████████| 83/83 [00:09<00:00,  9.22it/s, train_loss=0.00714, valid_loss=0.00801]\n",
      "Epoch: 18/30: 100%|█████████| 83/83 [00:08<00:00,  9.55it/s, train_loss=0.00386, valid_loss=0.00556]\n",
      "Epoch: 19/30: 100%|█████████| 83/83 [00:08<00:00,  9.50it/s, train_loss=0.00365, valid_loss=0.00499]\n",
      "Epoch: 20/30: 100%|█████████| 83/83 [00:08<00:00,  9.37it/s, train_loss=0.00448, valid_loss=0.00684]\n",
      "Epoch: 21/30: 100%|███████████| 83/83 [00:08<00:00,  9.37it/s, train_loss=0.003, valid_loss=0.00381]\n",
      "Epoch: 22/30: 100%|█████████| 83/83 [00:08<00:00,  9.54it/s, train_loss=0.00417, valid_loss=0.00474]\n",
      "Epoch: 23/30: 100%|█████████| 83/83 [00:08<00:00,  9.27it/s, train_loss=0.00296, valid_loss=0.00477]\n",
      "Epoch: 24/30: 100%|█████████| 83/83 [00:08<00:00,  9.42it/s, train_loss=0.00329, valid_loss=0.00511]\n",
      "Epoch: 25/30: 100%|█████████| 83/83 [00:08<00:00,  9.61it/s, train_loss=0.00233, valid_loss=0.00614]\n",
      "Epoch: 26/30: 100%|██████████| 83/83 [00:08<00:00,  9.42it/s, train_loss=0.0031, valid_loss=0.00505]\n",
      "Epoch: 27/30: 100%|█████████| 83/83 [00:08<00:00,  9.37it/s, train_loss=0.00235, valid_loss=0.00538]\n",
      "Epoch: 28/30: 100%|█████████| 83/83 [00:08<00:00,  9.48it/s, train_loss=0.00205, valid_loss=0.00282]\n",
      "Epoch: 29/30: 100%|██████████| 83/83 [00:08<00:00,  9.62it/s, train_loss=0.00183, valid_loss=0.0027]\n",
      "Epoch: 30/30: 100%|██████████| 83/83 [00:08<00:00,  9.29it/s, train_loss=0.0013, valid_loss=0.00281]\n"
     ]
    },
    {
     "name": "stdout",
     "output_type": "stream",
     "text": [
      "model config: batch_size-256, lr-0.01, number_epoch-30, hidden_dim-64, n_layers-3,drop_prob-0,weight_decay-0\n",
      "cross-validation dataset 0\n"
     ]
    },
    {
     "name": "stderr",
     "output_type": "stream",
     "text": [
      "Epoch: 1/30: 100%|███████████| 83/83 [00:07<00:00, 11.78it/s, train_loss=0.00593, valid_loss=0.0114]\n",
      "Epoch: 2/30: 100%|██████████| 83/83 [00:07<00:00, 11.78it/s, train_loss=0.00144, valid_loss=0.00223]\n",
      "Epoch: 3/30: 100%|██████████| 83/83 [00:07<00:00, 11.63it/s, train_loss=0.000828, valid_loss=0.0013]\n",
      "Epoch: 4/30: 100%|█████████| 83/83 [00:07<00:00, 11.84it/s, train_loss=0.000841, valid_loss=0.00165]\n",
      "Epoch: 5/30: 100%|█████████| 83/83 [00:07<00:00, 11.82it/s, train_loss=0.000707, valid_loss=0.00167]\n",
      "Epoch: 6/30: 100%|█████████| 83/83 [00:07<00:00, 11.68it/s, train_loss=0.000618, valid_loss=0.00138]\n",
      "Epoch: 7/30: 100%|█████████| 83/83 [00:07<00:00, 11.75it/s, train_loss=0.000491, valid_loss=0.00145]\n",
      "Epoch: 8/30: 100%|█████████| 83/83 [00:07<00:00, 11.76it/s, train_loss=0.000521, valid_loss=0.00205]\n",
      "Epoch: 9/30: 100%|█████████| 83/83 [00:07<00:00, 11.47it/s, train_loss=0.000274, valid_loss=0.00197]\n",
      "Epoch: 10/30: 100%|████████| 83/83 [00:07<00:00, 11.68it/s, train_loss=0.000329, valid_loss=0.00181]\n",
      "Epoch: 11/30: 100%|██████████| 83/83 [00:07<00:00, 11.77it/s, train_loss=0.000301, valid_loss=0.002]\n",
      "Epoch: 12/30: 100%|████████| 83/83 [00:07<00:00, 11.79it/s, train_loss=0.000191, valid_loss=0.00209]\n",
      "Epoch: 13/30: 100%|████████| 83/83 [00:07<00:00, 11.51it/s, train_loss=0.000226, valid_loss=0.00194]\n",
      "Epoch: 14/30: 100%|████████| 83/83 [00:07<00:00, 11.48it/s, train_loss=0.000206, valid_loss=0.00188]\n",
      "Epoch: 15/30: 100%|████████| 83/83 [00:07<00:00, 11.77it/s, train_loss=0.000145, valid_loss=0.00189]\n",
      "Epoch: 16/30: 100%|████████| 83/83 [00:07<00:00, 11.57it/s, train_loss=0.000151, valid_loss=0.00187]\n",
      "Epoch: 17/30: 100%|████████| 83/83 [00:07<00:00, 11.72it/s, train_loss=0.000157, valid_loss=0.00192]\n",
      "Epoch: 18/30: 100%|████████| 83/83 [00:07<00:00, 11.66it/s, train_loss=0.000132, valid_loss=0.00225]\n",
      "Epoch: 19/30: 100%|████████| 83/83 [00:07<00:00, 11.42it/s, train_loss=0.000116, valid_loss=0.00223]\n",
      "Epoch: 20/30: 100%|████████| 83/83 [00:07<00:00, 11.74it/s, train_loss=0.000105, valid_loss=0.00224]\n",
      "Epoch: 21/30: 100%|█████████| 83/83 [00:07<00:00, 11.51it/s, train_loss=9.21e-5, valid_loss=0.00202]\n",
      "Epoch: 22/30: 100%|████████████| 83/83 [00:07<00:00, 11.72it/s, train_loss=9e-5, valid_loss=0.00207]\n",
      "Epoch: 23/30: 100%|█████████| 83/83 [00:07<00:00, 11.64it/s, train_loss=9.38e-5, valid_loss=0.00215]\n",
      "Epoch: 24/30: 100%|█████████| 83/83 [00:07<00:00, 11.71it/s, train_loss=7.95e-5, valid_loss=0.00208]\n",
      "Epoch: 25/30: 100%|█████████| 83/83 [00:07<00:00, 11.51it/s, train_loss=7.15e-5, valid_loss=0.00212]\n",
      "Epoch: 26/30: 100%|█████████| 83/83 [00:07<00:00, 11.54it/s, train_loss=8.66e-5, valid_loss=0.00199]\n",
      "Epoch: 27/30: 100%|█████████| 83/83 [00:07<00:00, 11.56it/s, train_loss=7.06e-5, valid_loss=0.00208]\n",
      "Epoch: 28/30: 100%|█████████| 83/83 [00:07<00:00, 11.79it/s, train_loss=6.24e-5, valid_loss=0.00207]\n",
      "Epoch: 29/30: 100%|█████████| 83/83 [00:07<00:00, 11.48it/s, train_loss=5.42e-5, valid_loss=0.00212]\n",
      "Epoch: 30/30: 100%|█████████| 83/83 [00:07<00:00, 11.67it/s, train_loss=5.39e-5, valid_loss=0.00207]\n"
     ]
    },
    {
     "name": "stdout",
     "output_type": "stream",
     "text": [
      "model config: batch_size-256, lr-0.01, number_epoch-30, hidden_dim-256, n_layers-2,drop_prob-0,weight_decay-0\n",
      "cross-validation dataset 0\n"
     ]
    },
    {
     "name": "stderr",
     "output_type": "stream",
     "text": [
      "Epoch: 1/30: 100%|█████████████| 83/83 [00:08<00:00, 10.25it/s, train_loss=0.0309, valid_loss=0.035]\n",
      "Epoch: 2/30: 100%|████████████| 83/83 [00:08<00:00, 10.28it/s, train_loss=0.0319, valid_loss=0.0351]\n",
      "Epoch: 3/30: 100%|████████████| 83/83 [00:08<00:00, 10.34it/s, train_loss=0.0306, valid_loss=0.0353]\n",
      "Epoch: 4/30: 100%|████████████| 83/83 [00:08<00:00, 10.25it/s, train_loss=0.0319, valid_loss=0.0351]\n",
      "Epoch: 5/30: 100%|████████████| 83/83 [00:08<00:00,  9.98it/s, train_loss=0.0302, valid_loss=0.0352]\n",
      "Epoch: 6/30: 100%|████████████| 83/83 [00:08<00:00, 10.23it/s, train_loss=0.0312, valid_loss=0.0351]\n",
      "Epoch: 7/30: 100%|█████████████| 83/83 [00:08<00:00, 10.24it/s, train_loss=0.028, valid_loss=0.0354]\n",
      "Epoch: 8/30: 100%|████████████| 83/83 [00:08<00:00, 10.20it/s, train_loss=0.0301, valid_loss=0.0356]\n",
      "Epoch: 9/30: 100%|█████████████| 83/83 [00:08<00:00, 10.25it/s, train_loss=0.0301, valid_loss=0.035]\n",
      "Epoch: 10/30: 100%|███████████| 83/83 [00:08<00:00, 10.27it/s, train_loss=0.0326, valid_loss=0.0349]\n",
      "Epoch: 11/30: 100%|███████████| 83/83 [00:07<00:00, 10.38it/s, train_loss=0.0317, valid_loss=0.0353]\n",
      "Epoch: 12/30: 100%|████████████| 83/83 [00:08<00:00, 10.14it/s, train_loss=0.0324, valid_loss=0.035]\n",
      "Epoch: 13/30: 100%|███████████| 83/83 [00:08<00:00, 10.17it/s, train_loss=0.0323, valid_loss=0.0348]\n",
      "Epoch: 14/30: 100%|████████████| 83/83 [00:08<00:00, 10.32it/s, train_loss=0.0307, valid_loss=0.036]\n",
      "Epoch: 15/30: 100%|███████████| 83/83 [00:08<00:00, 10.13it/s, train_loss=0.0342, valid_loss=0.0357]\n",
      "Epoch: 16/30: 100%|███████████| 83/83 [00:08<00:00, 10.30it/s, train_loss=0.0291, valid_loss=0.0357]\n",
      "Epoch: 17/30: 100%|███████████| 83/83 [00:08<00:00, 10.31it/s, train_loss=0.0284, valid_loss=0.0348]\n",
      "Epoch: 18/30: 100%|███████████| 83/83 [00:08<00:00, 10.05it/s, train_loss=0.0317, valid_loss=0.0356]\n",
      "Epoch: 19/30: 100%|███████████| 83/83 [00:08<00:00, 10.33it/s, train_loss=0.0346, valid_loss=0.0351]\n",
      "Epoch: 20/30: 100%|███████████| 83/83 [00:08<00:00, 10.34it/s, train_loss=0.0314, valid_loss=0.0352]\n",
      "Epoch: 21/30: 100%|███████████| 83/83 [00:08<00:00, 10.20it/s, train_loss=0.0309, valid_loss=0.0355]\n",
      "Epoch: 22/30: 100%|███████████| 83/83 [00:08<00:00, 10.33it/s, train_loss=0.0309, valid_loss=0.0351]\n",
      "Epoch: 23/30: 100%|███████████| 83/83 [00:08<00:00, 10.30it/s, train_loss=0.0329, valid_loss=0.0354]\n",
      "Epoch: 24/30: 100%|████████████| 83/83 [00:08<00:00, 10.33it/s, train_loss=0.027, valid_loss=0.0355]\n",
      "Epoch: 25/30: 100%|███████████| 83/83 [00:08<00:00, 10.18it/s, train_loss=0.0324, valid_loss=0.0352]\n",
      "Epoch: 26/30: 100%|███████████| 83/83 [00:08<00:00, 10.34it/s, train_loss=0.0294, valid_loss=0.0351]\n",
      "Epoch: 27/30: 100%|███████████| 83/83 [00:08<00:00, 10.33it/s, train_loss=0.0318, valid_loss=0.0347]\n",
      "Epoch: 28/30: 100%|████████████| 83/83 [00:08<00:00, 10.21it/s, train_loss=0.032, valid_loss=0.0353]\n",
      "Epoch: 29/30: 100%|███████████| 83/83 [00:07<00:00, 10.38it/s, train_loss=0.0315, valid_loss=0.0353]\n",
      "Epoch: 30/30: 100%|███████████| 83/83 [00:07<00:00, 10.43it/s, train_loss=0.0284, valid_loss=0.0352]\n"
     ]
    }
   ],
   "source": [
    "random_seed_set(16)\n",
    "records = run_model_hpo()"
   ]
  },
  {
   "cell_type": "markdown",
   "id": "12970fa1",
   "metadata": {
    "ExecuteTime": {
     "end_time": "2021-12-22T08:52:06.844501Z",
     "start_time": "2021-12-22T08:52:06.830928Z"
    }
   },
   "source": [
    "## find the best hyper-parameters"
   ]
  },
  {
   "cell_type": "code",
   "execution_count": 24,
   "id": "c7c6d0c6",
   "metadata": {
    "ExecuteTime": {
     "end_time": "2022-01-06T03:34:28.347414Z",
     "start_time": "2022-01-06T03:34:28.317066Z"
    }
   },
   "outputs": [
    {
     "data": {
      "text/html": [
       "<div>\n",
       "<style scoped>\n",
       "    .dataframe tbody tr th:only-of-type {\n",
       "        vertical-align: middle;\n",
       "    }\n",
       "\n",
       "    .dataframe tbody tr th {\n",
       "        vertical-align: top;\n",
       "    }\n",
       "\n",
       "    .dataframe thead th {\n",
       "        text-align: right;\n",
       "    }\n",
       "</style>\n",
       "<table border=\"1\" class=\"dataframe\">\n",
       "  <thead>\n",
       "    <tr style=\"text-align: right;\">\n",
       "      <th></th>\n",
       "      <th>batch_size</th>\n",
       "      <th>lr</th>\n",
       "      <th>number_epoch</th>\n",
       "      <th>hidden_dim</th>\n",
       "      <th>n_layers</th>\n",
       "      <th>drop_prob</th>\n",
       "      <th>weight_decay</th>\n",
       "      <th>valid_loss</th>\n",
       "    </tr>\n",
       "  </thead>\n",
       "  <tbody>\n",
       "    <tr>\n",
       "      <th>1</th>\n",
       "      <td>256</td>\n",
       "      <td>0.01</td>\n",
       "      <td>30</td>\n",
       "      <td>64</td>\n",
       "      <td>2</td>\n",
       "      <td>0</td>\n",
       "      <td>0</td>\n",
       "      <td>0.001116</td>\n",
       "    </tr>\n",
       "    <tr>\n",
       "      <th>4</th>\n",
       "      <td>256</td>\n",
       "      <td>0.01</td>\n",
       "      <td>30</td>\n",
       "      <td>64</td>\n",
       "      <td>3</td>\n",
       "      <td>0</td>\n",
       "      <td>0</td>\n",
       "      <td>0.001196</td>\n",
       "    </tr>\n",
       "    <tr>\n",
       "      <th>0</th>\n",
       "      <td>256</td>\n",
       "      <td>0.01</td>\n",
       "      <td>30</td>\n",
       "      <td>128</td>\n",
       "      <td>3</td>\n",
       "      <td>0</td>\n",
       "      <td>0</td>\n",
       "      <td>0.001244</td>\n",
       "    </tr>\n",
       "    <tr>\n",
       "      <th>2</th>\n",
       "      <td>256</td>\n",
       "      <td>0.01</td>\n",
       "      <td>30</td>\n",
       "      <td>128</td>\n",
       "      <td>2</td>\n",
       "      <td>0</td>\n",
       "      <td>0</td>\n",
       "      <td>0.001301</td>\n",
       "    </tr>\n",
       "    <tr>\n",
       "      <th>3</th>\n",
       "      <td>256</td>\n",
       "      <td>0.01</td>\n",
       "      <td>30</td>\n",
       "      <td>256</td>\n",
       "      <td>3</td>\n",
       "      <td>0</td>\n",
       "      <td>0</td>\n",
       "      <td>0.002440</td>\n",
       "    </tr>\n",
       "    <tr>\n",
       "      <th>5</th>\n",
       "      <td>256</td>\n",
       "      <td>0.01</td>\n",
       "      <td>30</td>\n",
       "      <td>256</td>\n",
       "      <td>2</td>\n",
       "      <td>0</td>\n",
       "      <td>0</td>\n",
       "      <td>0.034524</td>\n",
       "    </tr>\n",
       "  </tbody>\n",
       "</table>\n",
       "</div>"
      ],
      "text/plain": [
       "   batch_size    lr  number_epoch  hidden_dim  n_layers  drop_prob  \\\n",
       "1         256  0.01            30          64         2          0   \n",
       "4         256  0.01            30          64         3          0   \n",
       "0         256  0.01            30         128         3          0   \n",
       "2         256  0.01            30         128         2          0   \n",
       "3         256  0.01            30         256         3          0   \n",
       "5         256  0.01            30         256         2          0   \n",
       "\n",
       "   weight_decay  valid_loss  \n",
       "1             0    0.001116  \n",
       "4             0    0.001196  \n",
       "0             0    0.001244  \n",
       "2             0    0.001301  \n",
       "3             0    0.002440  \n",
       "5             0    0.034524  "
      ]
     },
     "execution_count": 24,
     "metadata": {},
     "output_type": "execute_result"
    }
   ],
   "source": [
    "records = pd.DataFrame(records).sort_values(by='valid_loss')\n",
    "records.to_csv('./records/GRU_AR_records.csv', mode='a', index=False, header=False)\n",
    "records"
   ]
  },
  {
   "cell_type": "markdown",
   "id": "c206c377",
   "metadata": {},
   "source": [
    "## retrain a model"
   ]
  },
  {
   "cell_type": "code",
   "execution_count": 12,
   "id": "c7dcd186",
   "metadata": {
    "ExecuteTime": {
     "end_time": "2022-01-09T08:24:46.448323Z",
     "start_time": "2022-01-09T08:24:46.424671Z"
    }
   },
   "outputs": [],
   "source": [
    "def train_model(train_x, train_y, valid_x, valid_y, input_size, output_size,\n",
    "                mse_thresh, batch_size, lr, number_epoch, hidden_dim, n_layers,\n",
    "                drop_prob, weight_decay):\n",
    "    while (1):\n",
    "        model = GRU(input_size, output_size, hidden_dim, n_layers,\n",
    "                       drop_prob)\n",
    "        model.to(device=device)\n",
    "        criterion = nn.MSELoss()\n",
    "        optimizer = torch.optim.Adam(model.parameters(), lr=lr, weight_decay=weight_decay)\n",
    "        scheduler = torch.optim.lr_scheduler.StepLR(optimizer, 1, gamma=0.98)\n",
    "        valid_loss_min = np.Inf\n",
    "        train_dataset = TensorDataset(torch.FloatTensor(train_x),\n",
    "                                      torch.FloatTensor(train_y))\n",
    "        valid_dataset = TensorDataset(torch.FloatTensor(valid_x),\n",
    "                                      torch.FloatTensor(valid_y))\n",
    "        train_loader = DataLoader(dataset=train_dataset,\n",
    "                                  batch_size=batch_size,\n",
    "                                  shuffle=True,\n",
    "                                  drop_last=False)\n",
    "        valid_loader = DataLoader(dataset=valid_dataset,\n",
    "                                  batch_size=batch_size,\n",
    "                                  shuffle=True,\n",
    "                                  drop_last=False)\n",
    "        num_without_imp = 0\n",
    "        train_loss_list = []\n",
    "        valid_loss_list = []\n",
    "        # training process\n",
    "        for epoch in range(1, number_epoch + 1):\n",
    "            loop = tqdm(enumerate(train_loader),\n",
    "                        total=len(train_loader),\n",
    "                        leave=True, ncols=100)\n",
    "            for i, (inputs, labels) in loop:\n",
    "                inputs = inputs.to(device=device)\n",
    "                labels = labels.to(device=device)\n",
    "                optimizer.zero_grad()\n",
    "                outputs = model(inputs, labels[:, :, :-1])\n",
    "                loss = criterion(outputs, labels[:, :, -1])\n",
    "                loss.backward()\n",
    "                optimizer.step()\n",
    "                if i % 5 == 0:\n",
    "                    num_without_imp = num_without_imp + 1\n",
    "                    valid_losses = list()\n",
    "                    model.eval()\n",
    "                    for inp, lab in valid_loader:\n",
    "                        inp = inp.to(device)\n",
    "                        lab = lab.to(device)\n",
    "                        outs = model(inp, lab[:, :, :-1])\n",
    "                        valid_loss = criterion(outs, lab[:, :, -1])\n",
    "                        valid_losses.append(valid_loss.item())\n",
    "\n",
    "                    model.train()\n",
    "                    loop.set_description(\"Epoch: {}/{}\".format(\n",
    "                        epoch, number_epoch))\n",
    "                    loop.set_postfix(train_loss=loss.item(),\n",
    "                                     valid_loss=np.mean(valid_losses))\n",
    "                    \n",
    "                    train_loss_list.append(loss.item())\n",
    "                    valid_loss_list.append(np.mean(valid_losses))\n",
    "                    if np.mean(valid_losses) < valid_loss_min:\n",
    "                        num_without_imp = 0\n",
    "                        torch.save(model.state_dict(),\n",
    "                                   './model/GRU_AR_state_dict.pt')\n",
    "                        valid_loss_min = np.mean(valid_losses)\n",
    "            scheduler.step()\n",
    "        if valid_loss_min < mse_thresh:\n",
    "            break\n",
    "    return model, train_loss_list, valid_loss_list"
   ]
  },
  {
   "cell_type": "markdown",
   "id": "b77552fb",
   "metadata": {},
   "source": [
    "## test results"
   ]
  },
  {
   "cell_type": "code",
   "execution_count": 13,
   "id": "fcebcc0f",
   "metadata": {
    "ExecuteTime": {
     "end_time": "2022-01-09T08:24:46.462405Z",
     "start_time": "2022-01-09T08:24:46.451081Z"
    }
   },
   "outputs": [],
   "source": [
    "def test_model(model, test_x, test_y, target_len, scaler_y, batch_size):\n",
    "    test_dataset = TensorDataset(torch.FloatTensor(test_x),\n",
    "                                 torch.FloatTensor(test_y))\n",
    "    test_loader = DataLoader(dataset=test_dataset,\n",
    "                             batch_size=batch_size,\n",
    "                             shuffle=False,\n",
    "                             drop_last=False)\n",
    "    model.load_state_dict(torch.load('./model/GRU_AR_state_dict.pt'))\n",
    "    y_pred = []\n",
    "    y_true = []\n",
    "    with torch.no_grad():\n",
    "        model.eval()\n",
    "        for inputs, labels in test_loader:\n",
    "            inputs = inputs.to(device)\n",
    "            labels = labels.to(device)\n",
    "            outputs = model(inputs, labels[:, :, :-1])\n",
    "            y_pred += outputs.flatten().tolist()\n",
    "            y_true += labels[:, :, -1].cpu().numpy().flatten().tolist()\n",
    "    y_pred = np.array(y_pred).reshape(-1, 1)\n",
    "    y_true = np.array(y_true).reshape(-1, 1)\n",
    "    #     pdb.set_trace()\n",
    "    load_pred = scaler_y.inverse_transform(y_pred)\n",
    "    load_true = scaler_y.inverse_transform(y_true)\n",
    "    mean_pred = np.mean(load_pred)\n",
    "    mean_true = np.mean(load_true)\n",
    "    MAPE = np.mean(np.abs(load_true - load_pred) / load_true)\n",
    "    SMAPE = 2 * np.mean(\n",
    "        np.abs(load_true - load_pred) / (load_true + load_pred))\n",
    "    MAE = np.mean(np.abs(load_true - load_pred))\n",
    "    RMSE = np.sqrt(np.mean(np.square(load_true - load_pred)))\n",
    "    RRSE = np.sqrt(np.sum(np.square(load_true - load_pred))) / np.sqrt(\n",
    "        np.sum(np.square(load_true - mean_true)))\n",
    "    CORR = np.mean(\n",
    "        np.sum((load_true - mean_true) * (load_pred - mean_pred)) /\n",
    "        np.sqrt(np.sum(\n",
    "            (load_true - mean_true)**2 * (load_pred - mean_pred)**2)))\n",
    "    return MAPE, SMAPE, MAE, RMSE, RRSE, CORR, load_pred, load_true"
   ]
  },
  {
   "cell_type": "markdown",
   "id": "fb86c804",
   "metadata": {},
   "source": [
    "## run model retraining"
   ]
  },
  {
   "cell_type": "code",
   "execution_count": 14,
   "id": "503e4d78",
   "metadata": {
    "ExecuteTime": {
     "end_time": "2022-01-09T08:24:46.471878Z",
     "start_time": "2022-01-09T08:24:46.463892Z"
    }
   },
   "outputs": [],
   "source": [
    "def run_model_retraining(seq_len=seq_len,\n",
    "                         target_len=target_len,\n",
    "                         mse_thresh=mse_thresh):\n",
    "    train_data = data[:int(0.8 * len(data))]\n",
    "    #     train_data = data[:-800]\n",
    "    train_data, scaler, scaler_y = normalization(train_data)\n",
    "    train_x, train_y = series_to_supervise(train_data, seq_len, target_len)\n",
    "\n",
    "    valid_x = train_x[int(0.8 * len(train_x)):]\n",
    "    valid_y = train_y[int(0.8 * len(train_y)):]\n",
    "    train_x = train_x[:int(0.8 * len(train_x))]\n",
    "    train_y = train_y[:int(0.8 * len(train_y))]\n",
    "    input_size = train_x.shape[2]\n",
    "    output_size = target_len\n",
    "\n",
    "    #     hyper-parameters define\n",
    "    batch_size = 256\n",
    "    lr = 0.01\n",
    "    number_epoch = 80\n",
    "    hidden_dim = 64 # 128\n",
    "    n_layers = 2 # 3\n",
    "    drop_prob = 0\n",
    "    weight_decay = 0\n",
    "    mse_thresh = 0.01\n",
    "\n",
    "    model, train_loss_list, valid_loss_list = train_model(\n",
    "        train_x, train_y, valid_x, valid_y, input_size, output_size,\n",
    "        mse_thresh, batch_size, lr, number_epoch, hidden_dim, n_layers,\n",
    "        drop_prob, weight_decay)\n",
    "\n",
    "    # plot training process\n",
    "    plt.plot(train_loss_list[10:], 'm', label='train_loss')\n",
    "    plt.plot(valid_loss_list[10:], 'g', label='valid_loss')\n",
    "    plt.grid('both')\n",
    "    plt.legend()\n",
    "\n",
    "    # test\n",
    "    test_data = data[int(0.8 * len(data)):]\n",
    "    #     test_data = data[-800:]\n",
    "    test_data = scaler.transform(test_data)\n",
    "    test_x, test_y = series_to_supervise(test_data, seq_len, target_len)\n",
    "    MAPE, SMAPE, MAE, RMSE, RRSE, CORR, load_pred, load_true = test_model(model, test_x, test_y,\n",
    "                                                       target_len, scaler_y,\n",
    "                                                       batch_size)\n",
    "    return MAPE, SMAPE, MAE, RMSE, RRSE, CORR, load_pred, load_true"
   ]
  },
  {
   "cell_type": "code",
   "execution_count": 15,
   "id": "87166bbc",
   "metadata": {
    "ExecuteTime": {
     "end_time": "2022-01-09T08:35:26.781465Z",
     "start_time": "2022-01-09T08:24:46.473871Z"
    }
   },
   "outputs": [
    {
     "name": "stdout",
     "output_type": "stream",
     "text": [
      "supervised data: shape of x: (25232, 72, 16), shape of y: (25232, 24, 16)\n"
     ]
    },
    {
     "name": "stderr",
     "output_type": "stream",
     "text": [
      "Epoch: 1/80: 100%|████████████| 79/79 [00:08<00:00,  9.56it/s, train_loss=0.0314, valid_loss=0.0341]\n",
      "Epoch: 2/80: 100%|████████████| 79/79 [00:07<00:00, 10.74it/s, train_loss=0.0151, valid_loss=0.0245]\n",
      "Epoch: 3/80: 100%|██████████| 79/79 [00:07<00:00, 10.73it/s, train_loss=0.00466, valid_loss=0.00648]\n",
      "Epoch: 4/80: 100%|██████████| 79/79 [00:07<00:00, 10.79it/s, train_loss=0.00277, valid_loss=0.00375]\n",
      "Epoch: 5/80: 100%|██████████| 79/79 [00:07<00:00, 11.02it/s, train_loss=0.00356, valid_loss=0.00288]\n",
      "Epoch: 6/80: 100%|██████████| 79/79 [00:07<00:00, 10.88it/s, train_loss=0.00154, valid_loss=0.00312]\n",
      "Epoch: 7/80: 100%|██████████| 79/79 [00:07<00:00, 10.95it/s, train_loss=0.00102, valid_loss=0.00208]\n",
      "Epoch: 8/80: 100%|█████████| 79/79 [00:07<00:00, 10.73it/s, train_loss=0.000706, valid_loss=0.00136]\n",
      "Epoch: 9/80: 100%|█████████| 79/79 [00:07<00:00, 10.61it/s, train_loss=0.000958, valid_loss=0.00169]\n",
      "Epoch: 10/80: 100%|████████| 79/79 [00:07<00:00, 10.75it/s, train_loss=0.000847, valid_loss=0.00136]\n",
      "Epoch: 11/80: 100%|████████| 79/79 [00:07<00:00, 10.53it/s, train_loss=0.000604, valid_loss=0.00143]\n",
      "Epoch: 12/80: 100%|████████| 79/79 [00:07<00:00, 10.49it/s, train_loss=0.000721, valid_loss=0.00145]\n",
      "Epoch: 13/80: 100%|████████| 79/79 [00:07<00:00, 10.84it/s, train_loss=0.000709, valid_loss=0.00129]\n",
      "Epoch: 14/80: 100%|████████| 79/79 [00:07<00:00, 10.84it/s, train_loss=0.000548, valid_loss=0.00121]\n",
      "Epoch: 15/80: 100%|█████████| 79/79 [00:07<00:00, 10.61it/s, train_loss=0.00067, valid_loss=0.00145]\n",
      "Epoch: 16/80: 100%|████████| 79/79 [00:07<00:00, 10.90it/s, train_loss=0.000525, valid_loss=0.00113]\n",
      "Epoch: 17/80: 100%|█████████| 79/79 [00:07<00:00, 10.54it/s, train_loss=0.000509, valid_loss=0.0013]\n",
      "Epoch: 18/80: 100%|████████| 79/79 [00:07<00:00, 10.04it/s, train_loss=0.000511, valid_loss=0.00145]\n",
      "Epoch: 19/80: 100%|████████| 79/79 [00:08<00:00,  9.47it/s, train_loss=0.000466, valid_loss=0.00123]\n",
      "Epoch: 20/80: 100%|████████| 79/79 [00:07<00:00,  9.89it/s, train_loss=0.000477, valid_loss=0.00125]\n",
      "Epoch: 21/80: 100%|████████| 79/79 [00:07<00:00,  9.95it/s, train_loss=0.000408, valid_loss=0.00128]\n",
      "Epoch: 22/80: 100%|████████| 79/79 [00:07<00:00, 10.04it/s, train_loss=0.000444, valid_loss=0.00144]\n",
      "Epoch: 23/80: 100%|█████████| 79/79 [00:07<00:00,  9.96it/s, train_loss=0.000383, valid_loss=0.0013]\n",
      "Epoch: 24/80: 100%|████████| 79/79 [00:07<00:00, 10.02it/s, train_loss=0.000437, valid_loss=0.00156]\n",
      "Epoch: 25/80: 100%|████████| 79/79 [00:07<00:00, 10.01it/s, train_loss=0.000367, valid_loss=0.00138]\n",
      "Epoch: 26/80: 100%|████████| 79/79 [00:07<00:00, 10.21it/s, train_loss=0.000465, valid_loss=0.00146]\n",
      "Epoch: 27/80: 100%|████████| 79/79 [00:07<00:00,  9.98it/s, train_loss=0.000312, valid_loss=0.00135]\n",
      "Epoch: 28/80: 100%|████████| 79/79 [00:07<00:00,  9.90it/s, train_loss=0.000277, valid_loss=0.00158]\n",
      "Epoch: 29/80: 100%|████████| 79/79 [00:08<00:00,  9.44it/s, train_loss=0.000326, valid_loss=0.00147]\n",
      "Epoch: 30/80: 100%|████████| 79/79 [00:08<00:00,  9.45it/s, train_loss=0.000308, valid_loss=0.00148]\n",
      "Epoch: 31/80: 100%|████████| 79/79 [00:08<00:00,  9.46it/s, train_loss=0.000284, valid_loss=0.00138]\n",
      "Epoch: 32/80: 100%|████████| 79/79 [00:08<00:00,  9.52it/s, train_loss=0.000295, valid_loss=0.00143]\n",
      "Epoch: 33/80: 100%|████████| 79/79 [00:08<00:00,  9.49it/s, train_loss=0.000294, valid_loss=0.00141]\n",
      "Epoch: 34/80: 100%|████████| 79/79 [00:08<00:00,  9.64it/s, train_loss=0.000254, valid_loss=0.00152]\n",
      "Epoch: 35/80: 100%|████████| 79/79 [00:07<00:00, 10.15it/s, train_loss=0.000256, valid_loss=0.00167]\n",
      "Epoch: 36/80: 100%|████████| 79/79 [00:07<00:00, 10.85it/s, train_loss=0.000259, valid_loss=0.00139]\n",
      "Epoch: 37/80: 100%|█████████| 79/79 [00:07<00:00, 10.37it/s, train_loss=0.00026, valid_loss=0.00153]\n",
      "Epoch: 38/80: 100%|████████| 79/79 [00:07<00:00, 10.69it/s, train_loss=0.000245, valid_loss=0.00184]\n",
      "Epoch: 39/80: 100%|████████| 79/79 [00:07<00:00, 10.46it/s, train_loss=0.000188, valid_loss=0.00152]\n",
      "Epoch: 40/80: 100%|████████| 79/79 [00:07<00:00, 10.13it/s, train_loss=0.000235, valid_loss=0.00152]\n",
      "Epoch: 41/80: 100%|████████| 79/79 [00:07<00:00, 10.64it/s, train_loss=0.000207, valid_loss=0.00177]\n",
      "Epoch: 42/80: 100%|████████| 79/79 [00:07<00:00, 10.67it/s, train_loss=0.000187, valid_loss=0.00154]\n",
      "Epoch: 43/80: 100%|█████████| 79/79 [00:07<00:00, 10.25it/s, train_loss=0.000164, valid_loss=0.0016]\n",
      "Epoch: 44/80: 100%|█████████| 79/79 [00:07<00:00, 10.42it/s, train_loss=0.00021, valid_loss=0.00174]\n",
      "Epoch: 45/80: 100%|████████| 79/79 [00:07<00:00, 10.21it/s, train_loss=0.000272, valid_loss=0.00166]\n",
      "Epoch: 46/80: 100%|████████| 79/79 [00:07<00:00, 10.16it/s, train_loss=0.000224, valid_loss=0.00165]\n",
      "Epoch: 47/80: 100%|████████| 79/79 [00:07<00:00, 10.47it/s, train_loss=0.000192, valid_loss=0.00188]\n",
      "Epoch: 48/80: 100%|████████| 79/79 [00:07<00:00,  9.92it/s, train_loss=0.000173, valid_loss=0.00174]\n",
      "Epoch: 49/80: 100%|██████████| 79/79 [00:08<00:00,  9.76it/s, train_loss=0.00016, valid_loss=0.0018]\n",
      "Epoch: 50/80: 100%|█████████| 79/79 [00:08<00:00,  9.74it/s, train_loss=0.00017, valid_loss=0.00179]\n",
      "Epoch: 51/80: 100%|█████████| 79/79 [00:07<00:00, 10.01it/s, train_loss=0.00026, valid_loss=0.00175]\n",
      "Epoch: 52/80: 100%|████████| 79/79 [00:07<00:00,  9.97it/s, train_loss=0.000189, valid_loss=0.00196]\n",
      "Epoch: 53/80: 100%|████████| 79/79 [00:07<00:00,  9.99it/s, train_loss=0.000182, valid_loss=0.00179]\n",
      "Epoch: 54/80: 100%|█████████| 79/79 [00:08<00:00,  9.55it/s, train_loss=0.000163, valid_loss=0.0019]\n",
      "Epoch: 55/80: 100%|████████| 79/79 [00:08<00:00,  9.28it/s, train_loss=0.000152, valid_loss=0.00194]\n",
      "Epoch: 56/80: 100%|████████| 79/79 [00:08<00:00,  9.18it/s, train_loss=0.000149, valid_loss=0.00193]\n",
      "Epoch: 57/80: 100%|████████| 79/79 [00:08<00:00,  9.32it/s, train_loss=0.000176, valid_loss=0.00197]\n",
      "Epoch: 58/80: 100%|████████| 79/79 [00:08<00:00,  9.31it/s, train_loss=0.000163, valid_loss=0.00193]\n",
      "Epoch: 59/80: 100%|████████| 79/79 [00:08<00:00,  9.31it/s, train_loss=0.000136, valid_loss=0.00202]\n",
      "Epoch: 60/80: 100%|████████| 79/79 [00:08<00:00,  9.09it/s, train_loss=0.000129, valid_loss=0.00194]\n",
      "Epoch: 61/80: 100%|████████| 79/79 [00:08<00:00,  9.32it/s, train_loss=0.000129, valid_loss=0.00206]\n",
      "Epoch: 62/80: 100%|████████| 79/79 [00:08<00:00,  9.27it/s, train_loss=0.000121, valid_loss=0.00208]\n",
      "Epoch: 63/80: 100%|████████| 79/79 [00:08<00:00,  9.26it/s, train_loss=0.000135, valid_loss=0.00203]\n",
      "Epoch: 64/80: 100%|████████| 79/79 [00:08<00:00,  9.27it/s, train_loss=0.000139, valid_loss=0.00214]\n",
      "Epoch: 65/80: 100%|████████| 79/79 [00:08<00:00,  9.46it/s, train_loss=0.000124, valid_loss=0.00213]\n",
      "Epoch: 66/80: 100%|████████| 79/79 [00:08<00:00,  9.14it/s, train_loss=0.000147, valid_loss=0.00205]\n",
      "Epoch: 67/80: 100%|████████| 79/79 [00:08<00:00,  9.32it/s, train_loss=0.000129, valid_loss=0.00205]\n",
      "Epoch: 68/80: 100%|█████████| 79/79 [00:08<00:00,  9.07it/s, train_loss=0.000116, valid_loss=0.0021]\n",
      "Epoch: 69/80: 100%|████████| 79/79 [00:08<00:00,  9.34it/s, train_loss=0.000115, valid_loss=0.00207]\n",
      "Epoch: 70/80: 100%|████████| 79/79 [00:08<00:00,  9.43it/s, train_loss=0.000117, valid_loss=0.00209]\n",
      "Epoch: 71/80: 100%|████████| 79/79 [00:08<00:00,  9.37it/s, train_loss=0.000131, valid_loss=0.00216]\n",
      "Epoch: 72/80: 100%|████████| 79/79 [00:08<00:00,  9.85it/s, train_loss=0.000106, valid_loss=0.00215]\n",
      "Epoch: 73/80: 100%|██████████| 79/79 [00:08<00:00,  9.85it/s, train_loss=0.0001, valid_loss=0.00223]\n",
      "Epoch: 74/80: 100%|████████| 79/79 [00:08<00:00,  9.49it/s, train_loss=0.000126, valid_loss=0.00216]\n",
      "Epoch: 75/80: 100%|████████| 79/79 [00:08<00:00,  9.83it/s, train_loss=0.000107, valid_loss=0.00221]\n",
      "Epoch: 76/80: 100%|████████| 79/79 [00:08<00:00,  9.60it/s, train_loss=0.000108, valid_loss=0.00222]\n",
      "Epoch: 77/80: 100%|██████████| 79/79 [00:08<00:00,  9.38it/s, train_loss=0.0001, valid_loss=0.00215]\n",
      "Epoch: 78/80: 100%|████████| 79/79 [00:08<00:00,  9.33it/s, train_loss=0.000101, valid_loss=0.00227]\n",
      "Epoch: 79/80: 100%|████████| 79/79 [00:08<00:00,  9.32it/s, train_loss=0.000103, valid_loss=0.00222]\n",
      "Epoch: 80/80: 100%|████████| 79/79 [00:08<00:00,  9.40it/s, train_loss=0.000109, valid_loss=0.00224]\n"
     ]
    },
    {
     "name": "stdout",
     "output_type": "stream",
     "text": [
      "supervised data: shape of x: (6237, 72, 16), shape of y: (6237, 24, 16)\n",
      "MAPE:0.036362,SMAPE:0.036293,MAE:466.259637,RMSE:627.722378,RRSE:0.194220,CORR:259.378966\n"
     ]
    },
    {
     "data": {
      "image/png": "[encoded data removed]",
      "text/plain": [
       "<Figure size 432x288 with 1 Axes>"
      ]
     },
     "metadata": {
      "needs_background": "light"
     },
     "output_type": "display_data"
    }
   ],
   "source": [
    "random_seed_set(16)\n",
    "MAPE, SMAPE, MAE, RMSE, RRSE, CORR, load_pred, load_true = run_model_retraining()\n",
    "print('MAPE:{:.6f},SMAPE:{:.6f},MAE:{:.6f},RMSE:{:.6f},RRSE:{:.6f},CORR:{:.6f}'.format(MAPE, SMAPE, MAE, RMSE, RRSE, CORR))"
   ]
  },
  {
   "cell_type": "code",
   "execution_count": 16,
   "id": "ea981bee",
   "metadata": {
    "ExecuteTime": {
     "end_time": "2022-01-09T08:35:26.787041Z",
     "start_time": "2022-01-09T08:35:26.782988Z"
    }
   },
   "outputs": [
    {
     "name": "stdout",
     "output_type": "stream",
     "text": [
      "MAPE:0.036362,SMAPE:0.036293,MAE:466.259637,RMSE:627.722378,RRSE:0.194220,CORR:259.378966\n"
     ]
    }
   ],
   "source": [
    "print('MAPE:{:.6f},SMAPE:{:.6f},MAE:{:.6f},RMSE:{:.6f},RRSE:{:.6f},CORR:{:.6f}'.format(MAPE, SMAPE, MAE, RMSE, RRSE, CORR))"
   ]
  },
  {
   "cell_type": "markdown",
   "id": "b8158e63",
   "metadata": {},
   "source": [
    "## figure plot"
   ]
  },
  {
   "cell_type": "code",
   "execution_count": 17,
   "id": "4b9c51c7",
   "metadata": {
    "ExecuteTime": {
     "end_time": "2022-01-09T08:35:26.938878Z",
     "start_time": "2022-01-09T08:35:26.788410Z"
    }
   },
   "outputs": [
    {
     "data": {
      "text/plain": [
       "(0.0, 19473.707381740423)"
      ]
     },
     "execution_count": 17,
     "metadata": {},
     "output_type": "execute_result"
    },
    {
     "data": {
      "image/png": "[encoded data removed]",
      "text/plain": [
       "<Figure size 1440x720 with 1 Axes>"
      ]
     },
     "metadata": {
      "needs_background": "light"
     },
     "output_type": "display_data"
    }
   ],
   "source": [
    "\n",
    "plt.figure(figsize=(20, 10))\n",
    "load_pred = load_pred.reshape(-1, target_len)\n",
    "load_true = load_true.reshape(-1, target_len)\n",
    "plt.plot(load_pred[:240,23], 'm')\n",
    "plt.plot(load_true[:240,23], 'g')\n",
    "plt.ylim(0)"
   ]
  }
 ],
 "metadata": {
  "kernelspec": {
   "display_name": "Python 3 (ipykernel)",
   "language": "python",
   "name": "python3"
  },
  "language_info": {
   "codemirror_mode": {
    "name": "ipython",
    "version": 3
   },
   "file_extension": ".py",
   "mimetype": "text/x-python",
   "name": "python",
   "nbconvert_exporter": "python",
   "pygments_lexer": "ipython3",
   "version": "3.8.12"
  },
  "toc": {
   "base_numbering": 1,
   "nav_menu": {},
   "number_sections": true,
   "sideBar": true,
   "skip_h1_title": false,
   "title_cell": "Table of Contents",
   "title_sidebar": "Contents",
   "toc_cell": false,
   "toc_position": {
    "height": "calc(100% - 180px)",
    "left": "10px",
    "top": "150px",
    "width": "374.391px"
   },
   "toc_section_display": true,
   "toc_window_display": true
  },
  "varInspector": {
   "cols": {
    "lenName": 16,
    "lenType": 16,
    "lenVar": 40
   },
   "kernels_config": {
    "python": {
     "delete_cmd_postfix": "",
     "delete_cmd_prefix": "del ",
     "library": "var_list.py",
     "varRefreshCmd": "print(var_dic_list())"
    },
    "r": {
     "delete_cmd_postfix": ") ",
     "delete_cmd_prefix": "rm(",
     "library": "var_list.r",
     "varRefreshCmd": "cat(var_dic_list()) "
    }
   },
   "oldHeight": 320.844,
   "position": {
    "height": "342.844px",
    "left": "1482px",
    "right": "20px",
    "top": "127px",
    "width": "350px"
   },
   "types_to_exclude": [
    "module",
    "function",
    "builtin_function_or_method",
    "instance",
    "_Feature"
   ],
   "varInspector_section_display": "block",
   "window_display": false
  }
 },
 "nbformat": 4,
 "nbformat_minor": 5
}
