{
 "cells": [
  {
   "cell_type": "markdown",
   "id": "995136fe",
   "metadata": {},
   "source": [
    "# BiLSTM for forecast"
   ]
  },
  {
   "cell_type": "code",
   "execution_count": 2,
   "id": "7bfb79e5",
   "metadata": {
    "ExecuteTime": {
     "end_time": "2021-12-25T15:35:17.817356Z",
     "start_time": "2021-12-25T15:35:17.806569Z"
    }
   },
   "outputs": [],
   "source": [
    "import pandas as pd\n",
    "import numpy as np\n",
    "import matplotlib.pyplot as plt\n",
    "import pdb\n",
    "import torch\n",
    "import torch.nn as nn\n",
    "import random\n",
    "\n",
    "from sklearn.preprocessing import MinMaxScaler\n",
    "from sklearn.model_selection import train_test_split, TimeSeriesSplit\n",
    "from torch.autograd import Variable\n",
    "from torch.utils.data import TensorDataset, DataLoader\n",
    "from tqdm import tqdm\n",
    "from xgboost import XGBRegressor\n",
    "\n",
    "np.random.seed(0)\n",
    "if torch.cuda.is_available():  \n",
    "    dev = \"cuda:0\" \n",
    "    torch.cuda.manual_seed(0)\n",
    "else:  \n",
    "    dev = \"cpu\"\n",
    "    torch.manual_seed(0)\n",
    "device = torch.device(dev)"
   ]
  },
  {
   "cell_type": "markdown",
   "id": "be2248cd",
   "metadata": {},
   "source": [
    "## load data"
   ]
  },
  {
   "cell_type": "code",
   "execution_count": 16,
   "id": "12d754ea",
   "metadata": {
    "ExecuteTime": {
     "end_time": "2021-12-25T15:36:36.360807Z",
     "start_time": "2021-12-25T15:36:36.295709Z"
    }
   },
   "outputs": [],
   "source": [
    "url = '../data/beijing.csv'\n",
    "data = pd.read_csv(url, sep=',', index_col='time')\n",
    "data.index = pd.to_datetime(data.index)"
   ]
  },
  {
   "cell_type": "markdown",
   "id": "c6fab314",
   "metadata": {},
   "source": [
    "## normalization"
   ]
  },
  {
   "cell_type": "code",
   "execution_count": 4,
   "id": "99cc8709",
   "metadata": {
    "ExecuteTime": {
     "end_time": "2021-12-25T15:35:17.896592Z",
     "start_time": "2021-12-25T15:35:17.893728Z"
    }
   },
   "outputs": [],
   "source": [
    "def normalization(data):\n",
    "    \"\"\"\n",
    "    data: original data with load\n",
    "    return: normalized data, scaler of load\n",
    "    \"\"\"\n",
    "    scaler = MinMaxScaler()\n",
    "    normalized_data = scaler.fit_transform(data)\n",
    "    scaler_y = MinMaxScaler()\n",
    "    scaler_y.fit_transform(data[[data.columns[-1]]])\n",
    "    return normalized_data, scaler, scaler_y"
   ]
  },
  {
   "cell_type": "markdown",
   "id": "5aaf171a",
   "metadata": {
    "ExecuteTime": {
     "end_time": "2021-12-22T07:45:44.192666Z",
     "start_time": "2021-12-22T07:45:44.188985Z"
    }
   },
   "source": [
    "## build supervised dataset"
   ]
  },
  {
   "cell_type": "code",
   "execution_count": 5,
   "id": "f95ebc9f",
   "metadata": {
    "ExecuteTime": {
     "end_time": "2021-12-25T15:35:17.901243Z",
     "start_time": "2021-12-25T15:35:17.897875Z"
    }
   },
   "outputs": [],
   "source": [
    "def series_to_supervise(data, seq_len, target_len):\n",
    "    \"\"\"\n",
    "    convert series data to supervised data\n",
    "    :param data: original data\n",
    "    :param seq_len: length of input sequence\n",
    "    :param target_len: length of ouput sequence\n",
    "    :return: return two ndarrays-- input and output in format suitable to feed to LSTM\n",
    "    \"\"\"\n",
    "    dim_0 = data.shape[0] - seq_len - target_len + 1\n",
    "    dim_1 = data.shape[1]\n",
    "    x = np.zeros((dim_0, seq_len, dim_1))\n",
    "    y = np.zeros((dim_0, target_len))\n",
    "    for i in range(dim_0):\n",
    "        x[i] = data[i:i + seq_len]\n",
    "        y[i] = data[i + seq_len:i + seq_len + target_len, -1]\n",
    "    print(\"supervised data: shape of x: {}, shape of y: {}\".format(x.shape, y.shape))\n",
    "    return x, y"
   ]
  },
  {
   "cell_type": "markdown",
   "id": "fe740701",
   "metadata": {},
   "source": [
    "## 5-folds TimeSeriesSplit"
   ]
  },
  {
   "cell_type": "code",
   "execution_count": 6,
   "id": "986f6fb2",
   "metadata": {
    "ExecuteTime": {
     "end_time": "2021-12-25T15:35:17.905560Z",
     "start_time": "2021-12-25T15:35:17.902283Z"
    }
   },
   "outputs": [],
   "source": [
    "def time_series_split(X, Y, n_split=5):\n",
    "    \"\"\"\n",
    "    X: features, size * seq_len * feature_num\n",
    "    Y: labels, size * target_len\n",
    "    return: list of train_x, test_x, train_y, test_y\n",
    "    \"\"\"\n",
    "    tscv = TimeSeriesSplit(n_splits=n_split)\n",
    "    train_x_list = list()\n",
    "    valid_x_list = list()\n",
    "    train_y_list = list()\n",
    "    valid_y_list = list()\n",
    "    for train_index, valid_index in tscv.split(X):\n",
    "        train_x_list.append(X[train_index])\n",
    "        train_y_list.append(Y[train_index])\n",
    "        valid_x_list.append(X[valid_index])\n",
    "        valid_y_list.append(Y[valid_index])\n",
    "    return train_x_list, train_y_list, valid_x_list, valid_y_list"
   ]
  },
  {
   "cell_type": "markdown",
   "id": "5e64265b",
   "metadata": {},
   "source": [
    "## BiLSTM model"
   ]
  },
  {
   "cell_type": "code",
   "execution_count": 7,
   "id": "bee6b01e",
   "metadata": {
    "ExecuteTime": {
     "end_time": "2021-12-25T15:35:17.912106Z",
     "start_time": "2021-12-25T15:35:17.906651Z"
    }
   },
   "outputs": [],
   "source": [
    "class BiLSTM(nn.Module):\n",
    "    def __init__(self, input_size, output_size, hidden_dim, n_layers,\n",
    "                 drop_prob):\n",
    "        super(BiLSTM, self).__init__()\n",
    "        # model parameters\n",
    "        self.hidden_dim = hidden_dim\n",
    "        self.n_layers = n_layers\n",
    "        self.output_size = output_size\n",
    "        # layes\n",
    "        self.lstm = nn.LSTM(input_size=input_size,\n",
    "                            hidden_size=hidden_dim,\n",
    "                            num_layers=n_layers,\n",
    "                            batch_first=True,\n",
    "                            dropout=drop_prob,\n",
    "                            bidirectional=True)\n",
    "        self.fc = nn.Sequential(nn.Linear(hidden_dim * 2, 30), nn.ReLU(),\n",
    "                                nn.Linear(30, 1))\n",
    "        self.relu = nn.ReLU()\n",
    "\n",
    "    def forward(self, x):\n",
    "        batch_size = x.size(0)\n",
    "        hidden = self.init_hidden(batch_size)\n",
    "\n",
    "        lstm_out, hidden = self.lstm(x, hidden)\n",
    "        lstm_out = lstm_out[:, -self.output_size:, :]\n",
    "\n",
    "        out = self.fc(lstm_out)\n",
    "        out = self.relu(out)\n",
    "\n",
    "        out = out.view(batch_size, -1)\n",
    "\n",
    "        return out\n",
    "\n",
    "    def init_hidden(self, batch_size):\n",
    "        hidden = (torch.zeros(self.n_layers*2, batch_size,\n",
    "                              self.hidden_dim).to(device),\n",
    "                  torch.zeros(self.n_layers*2, batch_size,\n",
    "                              self.hidden_dim).to(device))\n",
    "        return hidden"
   ]
  },
  {
   "cell_type": "markdown",
   "id": "66ec3942",
   "metadata": {
    "ExecuteTime": {
     "end_time": "2021-12-22T08:30:19.661769Z",
     "start_time": "2021-12-22T08:30:19.656770Z"
    }
   },
   "source": [
    "## model training for HPO"
   ]
  },
  {
   "cell_type": "code",
   "execution_count": 8,
   "id": "6cb16a09",
   "metadata": {
    "ExecuteTime": {
     "end_time": "2021-12-25T15:35:17.921512Z",
     "start_time": "2021-12-25T15:35:17.913436Z"
    }
   },
   "outputs": [],
   "source": [
    "def train_model_hpo(train_x_list, train_y_list, valid_x_list, valid_y_list,\n",
    "                    input_size, output_size, mse_thresh, batch_size, lr,\n",
    "                    number_epoch, hidden_dim, n_layers, drop_prob, weight_decay):\n",
    "    valid_loss_list = []\n",
    "    for num in range(len(train_x_list)):\n",
    "        while (1):\n",
    "            model = BiLSTM(input_size, output_size, hidden_dim, n_layers,\n",
    "                           drop_prob)\n",
    "            model.to(device=device)\n",
    "            criterion = nn.MSELoss()\n",
    "            optimizer = torch.optim.Adam(model.parameters(), lr=lr, weight_decay=weight_decay)\n",
    "            scheduler = torch.optim.lr_scheduler.StepLR(optimizer, 1, gamma=0.98)\n",
    "            valid_loss_min = np.Inf\n",
    "            print('cross-validation dataset {}'.format(num))\n",
    "            train_x = train_x_list[num]\n",
    "            train_y = train_y_list[num]\n",
    "            valid_x = valid_x_list[num]\n",
    "            valid_y = valid_y_list[num]\n",
    "            train_dataset = TensorDataset(torch.FloatTensor(train_x),\n",
    "                                          torch.FloatTensor(train_y))\n",
    "            valid_dataset = TensorDataset(torch.FloatTensor(valid_x),\n",
    "                                          torch.FloatTensor(valid_y))\n",
    "            train_loader = DataLoader(dataset=train_dataset,\n",
    "                                      batch_size=batch_size,\n",
    "                                      shuffle=True,\n",
    "                                      drop_last=False)\n",
    "            valid_loader = DataLoader(dataset=valid_dataset,\n",
    "                                      batch_size=batch_size,\n",
    "                                      shuffle=True,\n",
    "                                      drop_last=False)\n",
    "            num_without_imp = 0\n",
    "            # training process\n",
    "            for epoch in range(1, number_epoch + 1):\n",
    "                loop = tqdm(enumerate(train_loader),\n",
    "                            total=len(train_loader),\n",
    "                            leave=True)\n",
    "                for i, (inputs, labels) in loop:\n",
    "                    inputs = inputs.to(device=device)\n",
    "                    labels = labels.to(device=device)\n",
    "                    optimizer.zero_grad()\n",
    "                    outputs = model(inputs)\n",
    "                    loss = criterion(outputs, labels)\n",
    "                    loss.backward()\n",
    "                    optimizer.step()\n",
    "                    if i % 5 == 0:\n",
    "                        num_without_imp = num_without_imp + 1\n",
    "                        valid_losses = list()\n",
    "                        model.eval()\n",
    "                        for inp, lab in valid_loader:\n",
    "                            inp = inp.to(device)\n",
    "                            lab = lab.to(device)\n",
    "                            out = model(inp)\n",
    "                            valid_loss = criterion(out, lab)\n",
    "                            valid_losses.append(valid_loss.item())\n",
    "\n",
    "                        model.train()\n",
    "                        loop.set_description(\"Epoch: {}/{}\".format(\n",
    "                            epoch, number_epoch))\n",
    "                        loop.set_postfix(train_loss=loss.item(),\n",
    "                                         valid_loss=np.mean(valid_losses))\n",
    "                        if np.mean(valid_losses) < valid_loss_min:\n",
    "                            num_without_imp = 0\n",
    "                            valid_loss_min = np.mean(valid_losses)\n",
    "                scheduler.step()\n",
    "                if num_without_imp >= 50:\n",
    "                    break\n",
    "            if valid_loss_min < mse_thresh:\n",
    "                valid_loss_list.append(valid_loss_min)\n",
    "                break\n",
    "    return np.mean(valid_loss_list)"
   ]
  },
  {
   "cell_type": "markdown",
   "id": "4da26635",
   "metadata": {},
   "source": [
    "## hyper-parameters config"
   ]
  },
  {
   "cell_type": "code",
   "execution_count": 18,
   "id": "d54c7b92",
   "metadata": {
    "ExecuteTime": {
     "end_time": "2021-12-25T15:55:05.223144Z",
     "start_time": "2021-12-25T15:55:05.217724Z"
    }
   },
   "outputs": [],
   "source": [
    "seq_len = 72\n",
    "target_len = 24\n",
    "mse_thresh = 0.05\n",
    "\n",
    "\n",
    "def model_config():\n",
    "    batch_sizes = [256, 512]\n",
    "    lrs = [0.01, 0.005, 0.001]\n",
    "    number_epochs = [50]\n",
    "    hidden_dims = [150, 100, 120]\n",
    "    n_layers = [2, 3]\n",
    "    drop_prob = [0.2, 0.4, 0.6]\n",
    "    weight_decays = [1e-8, 1e-7, 1e-6]\n",
    "    configs = list()\n",
    "    for i in batch_sizes:\n",
    "        for j in lrs:\n",
    "            for k in number_epochs:\n",
    "                for l in hidden_dims:\n",
    "                    for m in n_layers:\n",
    "                        for n in drop_prob:\n",
    "                            for o in weight_decays:\n",
    "                                configs.append({\n",
    "                                    'batch_size': i,\n",
    "                                    'lr': j,\n",
    "                                    'number_epoch': k,\n",
    "                                    'hidden_dim': l,\n",
    "                                    'n_layers': m,\n",
    "                                    'drop_prob': n,\n",
    "                                    'weight_decay': o,\n",
    "                                })\n",
    "    return configs"
   ]
  },
  {
   "cell_type": "markdown",
   "id": "a58c5c13",
   "metadata": {},
   "source": [
    "## random search for HPO"
   ]
  },
  {
   "cell_type": "code",
   "execution_count": 19,
   "id": "db24898a",
   "metadata": {
    "ExecuteTime": {
     "end_time": "2021-12-25T15:55:20.869608Z",
     "start_time": "2021-12-25T15:55:20.862649Z"
    }
   },
   "outputs": [],
   "source": [
    "def run_model_hpo(seq_len=seq_len,\n",
    "                  target_len=target_len,\n",
    "                  mse_thresh=mse_thresh):\n",
    "    train_data = data[:int(0.8 * len(data))]\n",
    "    train_data, _, _ = normalization(train_data)\n",
    "    train_x, train_y = series_to_supervise(train_data, seq_len, target_len)\n",
    "    train_x_list, train_y_list, valid_x_list, valid_y_list = time_series_split(\n",
    "        train_x, train_y)\n",
    "    #     with enough data\n",
    "    #     train_x_list = train_x_list[-1:]\n",
    "    #     train_y_list = train_y_list[-1:]\n",
    "    #     valid_x_list = valid_x_list[-1:]\n",
    "    #     valid_y_list = valid_y_list[-1:]\n",
    "\n",
    "    configs = model_config()\n",
    "    records = []\n",
    "    input_size = train_x.shape[2]\n",
    "    output_size = target_len\n",
    "    for i in range(30):\n",
    "        config = random.choice(configs)\n",
    "        configs.remove(config)\n",
    "        batch_size = config['batch_size']\n",
    "        lr = config['lr']\n",
    "        number_epoch = config['number_epoch']\n",
    "        hidden_dim = config['hidden_dim']\n",
    "        n_layers = config['n_layers']\n",
    "        drop_prob = config['drop_prob']\n",
    "        weight_decay = config['weight_decay']\n",
    "        print(\n",
    "            \"model config: batch_size-{}, lr-{}, number_epoch-{}, hidden_dim-{}, n_layers-{},drop_prob-{},weight_decay-{}\"\n",
    "            .format(batch_size, lr, number_epoch, hidden_dim, n_layers,\n",
    "                    drop_prob, weight_decay))\n",
    "        valid_loss = train_model_hpo(train_x_list, train_y_list, valid_x_list,\n",
    "                                     valid_y_list, input_size, output_size,\n",
    "                                     mse_thresh, batch_size, lr, number_epoch,\n",
    "                                     hidden_dim, n_layers, drop_prob, weight_decay)\n",
    "        records.append({\n",
    "            'batch_size': batch_size,\n",
    "            'lr': lr,\n",
    "            'number_epoch': number_epoch,\n",
    "            'hidden_dim': hidden_dim,\n",
    "            'n_layers': n_layers,\n",
    "            'drop_prob': drop_prob,\n",
    "            'weight_decay': weight_decay,\n",
    "            'valid_loss': valid_loss\n",
    "        })\n",
    "    return records"
   ]
  },
  {
   "cell_type": "markdown",
   "id": "0d933171",
   "metadata": {},
   "source": [
    "## run random search"
   ]
  },
  {
   "cell_type": "code",
   "execution_count": 20,
   "id": "03e3e1b3",
   "metadata": {
    "ExecuteTime": {
     "end_time": "2021-12-25T19:52:13.530819Z",
     "start_time": "2021-12-25T15:55:22.704175Z"
    }
   },
   "outputs": [
    {
     "name": "stdout",
     "output_type": "stream",
     "text": [
      "supervised data: shape of x: (25232, 72, 16), shape of y: (25232, 24)\n",
      "model config: batch_size-512, lr-0.001, number_epoch-50, hidden_dim-150, n_layers-2,drop_prob-0.4,weight_decay-1e-07\n",
      "cross-validation dataset 0\n"
     ]
    },
    {
     "name": "stderr",
     "output_type": "stream",
     "text": [
      "Epoch: 1/50: 100%|██████████| 9/9 [00:00<00:00, 15.56it/s, train_loss=0.0215, valid_loss=0.0322]\n",
      "Epoch: 2/50: 100%|██████████| 9/9 [00:00<00:00, 15.43it/s, train_loss=0.018, valid_loss=0.0457] \n",
      "Epoch: 3/50: 100%|██████████| 9/9 [00:00<00:00, 21.18it/s, train_loss=0.0134, valid_loss=0.0336]\n",
      "Epoch: 4/50: 100%|██████████| 9/9 [00:00<00:00, 20.33it/s, train_loss=0.011, valid_loss=0.0418] \n",
      "Epoch: 5/50: 100%|██████████| 9/9 [00:00<00:00, 21.05it/s, train_loss=0.00809, valid_loss=0.0457]\n",
      "Epoch: 6/50: 100%|██████████| 9/9 [00:00<00:00, 20.26it/s, train_loss=0.00537, valid_loss=0.0222]\n",
      "Epoch: 7/50: 100%|██████████| 9/9 [00:00<00:00, 21.00it/s, train_loss=0.0041, valid_loss=0.0158] \n",
      "Epoch: 8/50: 100%|██████████| 9/9 [00:00<00:00, 17.42it/s, train_loss=0.00343, valid_loss=0.0116]\n",
      "Epoch: 9/50: 100%|██████████| 9/9 [00:00<00:00, 21.05it/s, train_loss=0.00275, valid_loss=0.00656]\n",
      "Epoch: 10/50: 100%|██████████| 9/9 [00:00<00:00, 20.11it/s, train_loss=0.00249, valid_loss=0.00588]\n",
      "Epoch: 11/50: 100%|██████████| 9/9 [00:00<00:00, 21.00it/s, train_loss=0.00218, valid_loss=0.00619]\n",
      "Epoch: 12/50: 100%|██████████| 9/9 [00:00<00:00, 20.40it/s, train_loss=0.00197, valid_loss=0.00577]\n",
      "Epoch: 13/50: 100%|██████████| 9/9 [00:00<00:00, 21.09it/s, train_loss=0.00207, valid_loss=0.00623]\n",
      "Epoch: 14/50: 100%|██████████| 9/9 [00:00<00:00, 20.34it/s, train_loss=0.00192, valid_loss=0.00576]\n",
      "Epoch: 15/50: 100%|██████████| 9/9 [00:00<00:00, 20.85it/s, train_loss=0.00177, valid_loss=0.00543]\n",
      "Epoch: 16/50: 100%|██████████| 9/9 [00:00<00:00, 20.81it/s, train_loss=0.00197, valid_loss=0.00524]\n",
      "Epoch: 17/50: 100%|██████████| 9/9 [00:00<00:00, 16.41it/s, train_loss=0.00177, valid_loss=0.00506]\n",
      "Epoch: 18/50: 100%|██████████| 9/9 [00:00<00:00, 20.58it/s, train_loss=0.00163, valid_loss=0.00545]\n",
      "Epoch: 19/50: 100%|██████████| 9/9 [00:00<00:00, 20.58it/s, train_loss=0.00155, valid_loss=0.00558]\n",
      "Epoch: 20/50: 100%|██████████| 9/9 [00:00<00:00, 20.76it/s, train_loss=0.00151, valid_loss=0.00702]\n",
      "Epoch: 21/50: 100%|██████████| 9/9 [00:00<00:00, 20.17it/s, train_loss=0.00151, valid_loss=0.00785]\n",
      "Epoch: 22/50: 100%|██████████| 9/9 [00:00<00:00, 20.99it/s, train_loss=0.00146, valid_loss=0.00963]\n",
      "Epoch: 23/50: 100%|██████████| 9/9 [00:00<00:00, 17.60it/s, train_loss=0.00147, valid_loss=0.0127] \n",
      "Epoch: 24/50: 100%|██████████| 9/9 [00:00<00:00, 20.83it/s, train_loss=0.00137, valid_loss=0.0137]\n",
      "Epoch: 25/50: 100%|██████████| 9/9 [00:00<00:00, 19.83it/s, train_loss=0.0013, valid_loss=0.0156] \n",
      "Epoch: 26/50: 100%|██████████| 9/9 [00:00<00:00, 20.84it/s, train_loss=0.00123, valid_loss=0.0183]\n",
      "Epoch: 27/50: 100%|██████████| 9/9 [00:00<00:00, 19.69it/s, train_loss=0.00116, valid_loss=0.0236]\n",
      "Epoch: 28/50: 100%|██████████| 9/9 [00:00<00:00, 21.54it/s, train_loss=0.00119, valid_loss=0.0262]\n",
      "Epoch: 29/50: 100%|██████████| 9/9 [00:00<00:00, 21.23it/s, train_loss=0.00113, valid_loss=0.0202]\n",
      "Epoch: 30/50: 100%|██████████| 9/9 [00:00<00:00, 20.80it/s, train_loss=0.00125, valid_loss=0.0224]\n",
      "Epoch: 31/50: 100%|██████████| 9/9 [00:00<00:00, 17.28it/s, train_loss=0.00117, valid_loss=0.0231]\n",
      "Epoch: 32/50: 100%|██████████| 9/9 [00:00<00:00, 21.10it/s, train_loss=0.00111, valid_loss=0.0302]\n",
      "Epoch: 33/50: 100%|██████████| 9/9 [00:00<00:00, 20.18it/s, train_loss=0.00112, valid_loss=0.0298]\n",
      "Epoch: 34/50: 100%|██████████| 9/9 [00:00<00:00, 20.35it/s, train_loss=0.000999, valid_loss=0.0377]\n",
      "Epoch: 35/50: 100%|██████████| 9/9 [00:00<00:00, 20.48it/s, train_loss=0.00107, valid_loss=0.044] \n",
      "Epoch: 36/50: 100%|██████████| 9/9 [00:00<00:00, 20.97it/s, train_loss=0.00107, valid_loss=0.0374]\n",
      "Epoch: 37/50: 100%|██████████| 9/9 [00:00<00:00, 20.30it/s, train_loss=0.00102, valid_loss=0.038] \n",
      "Epoch: 38/50: 100%|██████████| 9/9 [00:00<00:00, 19.14it/s, train_loss=0.000951, valid_loss=0.041]\n",
      "Epoch: 39/50: 100%|██████████| 9/9 [00:00<00:00, 14.94it/s, train_loss=0.000904, valid_loss=0.0494]\n",
      "Epoch: 40/50: 100%|██████████| 9/9 [00:00<00:00, 21.25it/s, train_loss=0.000967, valid_loss=0.0678]\n",
      "Epoch: 41/50: 100%|██████████| 9/9 [00:00<00:00, 20.33it/s, train_loss=0.000881, valid_loss=0.064]\n",
      "Epoch: 42/50: 100%|██████████| 9/9 [00:00<00:00, 18.78it/s, train_loss=0.000916, valid_loss=0.0639]\n"
     ]
    },
    {
     "name": "stdout",
     "output_type": "stream",
     "text": [
      "cross-validation dataset 1\n"
     ]
    },
    {
     "name": "stderr",
     "output_type": "stream",
     "text": [
      "Epoch: 1/50: 100%|██████████| 17/17 [00:00<00:00, 19.71it/s, train_loss=0.14, valid_loss=0.163] \n",
      "Epoch: 2/50: 100%|██████████| 17/17 [00:00<00:00, 19.46it/s, train_loss=0.141, valid_loss=0.162]\n",
      "Epoch: 3/50: 100%|██████████| 17/17 [00:00<00:00, 19.82it/s, train_loss=0.137, valid_loss=0.163]\n",
      "Epoch: 4/50: 100%|██████████| 17/17 [00:00<00:00, 20.03it/s, train_loss=0.14, valid_loss=0.16]  \n",
      "Epoch: 5/50: 100%|██████████| 17/17 [00:00<00:00, 18.14it/s, train_loss=0.14, valid_loss=0.163] \n",
      "Epoch: 6/50: 100%|██████████| 17/17 [00:00<00:00, 19.82it/s, train_loss=0.139, valid_loss=0.163]\n",
      "Epoch: 7/50: 100%|██████████| 17/17 [00:00<00:00, 20.22it/s, train_loss=0.139, valid_loss=0.163]\n",
      "Epoch: 8/50: 100%|██████████| 17/17 [00:00<00:00, 19.72it/s, train_loss=0.143, valid_loss=0.164]\n",
      "Epoch: 9/50: 100%|██████████| 17/17 [00:00<00:00, 20.00it/s, train_loss=0.138, valid_loss=0.164]\n",
      "Epoch: 10/50: 100%|██████████| 17/17 [00:00<00:00, 18.20it/s, train_loss=0.143, valid_loss=0.162]\n",
      "Epoch: 11/50: 100%|██████████| 17/17 [00:00<00:00, 19.93it/s, train_loss=0.145, valid_loss=0.162]\n",
      "Epoch: 12/50: 100%|██████████| 17/17 [00:00<00:00, 20.03it/s, train_loss=0.139, valid_loss=0.162]\n",
      "Epoch: 13/50: 100%|██████████| 17/17 [00:00<00:00, 20.04it/s, train_loss=0.145, valid_loss=0.162]\n",
      "Epoch: 14/50: 100%|██████████| 17/17 [00:00<00:00, 20.18it/s, train_loss=0.141, valid_loss=0.163]\n",
      "Epoch: 15/50: 100%|██████████| 17/17 [00:00<00:00, 18.37it/s, train_loss=0.147, valid_loss=0.162]\n",
      "Epoch: 16/50: 100%|██████████| 17/17 [00:00<00:00, 19.78it/s, train_loss=0.136, valid_loss=0.162]\n",
      "Epoch: 17/50: 100%|██████████| 17/17 [00:00<00:00, 19.94it/s, train_loss=0.138, valid_loss=0.163]\n"
     ]
    },
    {
     "name": "stdout",
     "output_type": "stream",
     "text": [
      "cross-validation dataset 1\n"
     ]
    },
    {
     "name": "stderr",
     "output_type": "stream",
     "text": [
      "Epoch: 1/50: 100%|██████████| 17/17 [00:00<00:00, 19.74it/s, train_loss=0.139, valid_loss=0.164]\n",
      "Epoch: 2/50: 100%|██████████| 17/17 [00:00<00:00, 18.07it/s, train_loss=0.136, valid_loss=0.162]\n",
      "Epoch: 3/50: 100%|██████████| 17/17 [00:00<00:00, 17.73it/s, train_loss=0.141, valid_loss=0.163]\n",
      "Epoch: 4/50: 100%|██████████| 17/17 [00:00<00:00, 20.00it/s, train_loss=0.145, valid_loss=0.163]\n",
      "Epoch: 5/50: 100%|██████████| 17/17 [00:00<00:00, 20.01it/s, train_loss=0.143, valid_loss=0.162]\n",
      "Epoch: 6/50: 100%|██████████| 17/17 [00:00<00:00, 19.68it/s, train_loss=0.143, valid_loss=0.162]\n",
      "Epoch: 7/50: 100%|██████████| 17/17 [00:00<00:00, 17.43it/s, train_loss=0.139, valid_loss=0.163]\n",
      "Epoch: 8/50: 100%|██████████| 17/17 [00:00<00:00, 17.70it/s, train_loss=0.144, valid_loss=0.162]\n",
      "Epoch: 9/50: 100%|██████████| 17/17 [00:00<00:00, 19.97it/s, train_loss=0.146, valid_loss=0.162]\n",
      "Epoch: 10/50: 100%|██████████| 17/17 [00:00<00:00, 19.46it/s, train_loss=0.142, valid_loss=0.162]\n",
      "Epoch: 11/50: 100%|██████████| 17/17 [00:00<00:00, 22.00it/s, train_loss=0.139, valid_loss=0.164]\n",
      "Epoch: 12/50: 100%|██████████| 17/17 [00:00<00:00, 19.56it/s, train_loss=0.139, valid_loss=0.162]\n",
      "Epoch: 13/50: 100%|██████████| 17/17 [00:00<00:00, 21.32it/s, train_loss=0.138, valid_loss=0.162]\n",
      "Epoch: 14/50: 100%|██████████| 17/17 [00:00<00:00, 19.35it/s, train_loss=0.145, valid_loss=0.163]\n"
     ]
    },
    {
     "name": "stdout",
     "output_type": "stream",
     "text": [
      "cross-validation dataset 1\n"
     ]
    },
    {
     "name": "stderr",
     "output_type": "stream",
     "text": [
      "Epoch: 1/50: 100%|██████████| 17/17 [00:00<00:00, 19.73it/s, train_loss=0.141, valid_loss=0.162]\n",
      "Epoch: 2/50: 100%|██████████| 17/17 [00:00<00:00, 19.81it/s, train_loss=0.144, valid_loss=0.161]\n",
      "Epoch: 3/50: 100%|██████████| 17/17 [00:00<00:00, 19.99it/s, train_loss=0.142, valid_loss=0.162]\n",
      "Epoch: 4/50: 100%|██████████| 17/17 [00:00<00:00, 19.95it/s, train_loss=0.142, valid_loss=0.161]\n",
      "Epoch: 5/50: 100%|██████████| 17/17 [00:00<00:00, 19.55it/s, train_loss=0.142, valid_loss=0.162]\n",
      "Epoch: 6/50: 100%|██████████| 17/17 [00:00<00:00, 17.58it/s, train_loss=0.149, valid_loss=0.163]\n",
      "Epoch: 7/50: 100%|██████████| 17/17 [00:00<00:00, 19.82it/s, train_loss=0.139, valid_loss=0.162]\n",
      "Epoch: 8/50: 100%|██████████| 17/17 [00:00<00:00, 19.80it/s, train_loss=0.137, valid_loss=0.162]\n",
      "Epoch: 9/50: 100%|██████████| 17/17 [00:00<00:00, 19.98it/s, train_loss=0.15, valid_loss=0.163] \n",
      "Epoch: 10/50: 100%|██████████| 17/17 [00:00<00:00, 19.88it/s, train_loss=0.144, valid_loss=0.162]\n",
      "Epoch: 11/50: 100%|██████████| 17/17 [00:00<00:00, 18.05it/s, train_loss=0.142, valid_loss=0.164]\n",
      "Epoch: 12/50: 100%|██████████| 17/17 [00:00<00:00, 19.97it/s, train_loss=0.144, valid_loss=0.161]\n",
      "Epoch: 13/50: 100%|██████████| 17/17 [00:00<00:00, 18.27it/s, train_loss=0.138, valid_loss=0.164]\n",
      "Epoch: 14/50: 100%|██████████| 17/17 [00:00<00:00, 19.69it/s, train_loss=0.141, valid_loss=0.161]\n"
     ]
    },
    {
     "name": "stdout",
     "output_type": "stream",
     "text": [
      "cross-validation dataset 1\n"
     ]
    },
    {
     "name": "stderr",
     "output_type": "stream",
     "text": [
      "Epoch: 1/50: 100%|██████████| 17/17 [00:00<00:00, 19.68it/s, train_loss=0.141, valid_loss=0.162]\n",
      "Epoch: 2/50: 100%|██████████| 17/17 [00:00<00:00, 17.22it/s, train_loss=0.143, valid_loss=0.162]\n",
      "Epoch: 3/50: 100%|██████████| 17/17 [00:00<00:00, 19.83it/s, train_loss=0.144, valid_loss=0.163]\n",
      "Epoch: 4/50: 100%|██████████| 17/17 [00:00<00:00, 19.79it/s, train_loss=0.144, valid_loss=0.162]\n",
      "Epoch: 5/50: 100%|██████████| 17/17 [00:00<00:00, 19.62it/s, train_loss=0.143, valid_loss=0.163]\n",
      "Epoch: 6/50: 100%|██████████| 17/17 [00:00<00:00, 20.14it/s, train_loss=0.14, valid_loss=0.163]\n",
      "Epoch: 7/50: 100%|██████████| 17/17 [00:00<00:00, 17.75it/s, train_loss=0.141, valid_loss=0.162]\n",
      "Epoch: 8/50: 100%|██████████| 17/17 [00:00<00:00, 19.64it/s, train_loss=0.136, valid_loss=0.163]\n",
      "Epoch: 9/50: 100%|██████████| 17/17 [00:00<00:00, 19.99it/s, train_loss=0.14, valid_loss=0.161] \n",
      "Epoch: 10/50: 100%|██████████| 17/17 [00:00<00:00, 19.99it/s, train_loss=0.135, valid_loss=0.164]\n",
      "Epoch: 11/50: 100%|██████████| 17/17 [00:00<00:00, 19.84it/s, train_loss=0.147, valid_loss=0.163]\n",
      "Epoch: 12/50: 100%|██████████| 17/17 [00:00<00:00, 19.87it/s, train_loss=0.145, valid_loss=0.161]\n",
      "Epoch: 13/50: 100%|██████████| 17/17 [00:00<00:00, 18.16it/s, train_loss=0.142, valid_loss=0.16] \n",
      "Epoch: 14/50: 100%|██████████| 17/17 [00:00<00:00, 19.71it/s, train_loss=0.141, valid_loss=0.162]\n",
      "Epoch: 15/50: 100%|██████████| 17/17 [00:00<00:00, 19.69it/s, train_loss=0.142, valid_loss=0.164]\n",
      "Epoch: 16/50: 100%|██████████| 17/17 [00:00<00:00, 20.05it/s, train_loss=0.143, valid_loss=0.162]\n",
      "Epoch: 17/50: 100%|██████████| 17/17 [00:00<00:00, 19.78it/s, train_loss=0.144, valid_loss=0.163]\n",
      "Epoch: 18/50: 100%|██████████| 17/17 [00:00<00:00, 18.11it/s, train_loss=0.137, valid_loss=0.161]\n",
      "Epoch: 19/50: 100%|██████████| 17/17 [00:00<00:00, 19.89it/s, train_loss=0.14, valid_loss=0.163] \n",
      "Epoch: 20/50: 100%|██████████| 17/17 [00:00<00:00, 19.83it/s, train_loss=0.137, valid_loss=0.162]\n",
      "Epoch: 21/50: 100%|██████████| 17/17 [00:00<00:00, 19.53it/s, train_loss=0.137, valid_loss=0.162]\n",
      "Epoch: 22/50: 100%|██████████| 17/17 [00:00<00:00, 19.93it/s, train_loss=0.143, valid_loss=0.161]\n",
      "Epoch: 23/50: 100%|██████████| 17/17 [00:00<00:00, 18.04it/s, train_loss=0.147, valid_loss=0.163]\n"
     ]
    },
    {
     "name": "stdout",
     "output_type": "stream",
     "text": [
      "cross-validation dataset 1\n"
     ]
    },
    {
     "name": "stderr",
     "output_type": "stream",
     "text": [
      "Epoch: 1/50: 100%|██████████| 17/17 [00:00<00:00, 19.15it/s, train_loss=0.0226, valid_loss=0.0255]\n",
      "Epoch: 2/50: 100%|██████████| 17/17 [00:00<00:00, 19.61it/s, train_loss=0.0112, valid_loss=0.0102]\n",
      "Epoch: 3/50: 100%|██████████| 17/17 [00:00<00:00, 19.31it/s, train_loss=0.00446, valid_loss=0.00533]\n",
      "Epoch: 4/50: 100%|██████████| 17/17 [00:00<00:00, 19.43it/s, train_loss=0.00366, valid_loss=0.00413]\n",
      "Epoch: 5/50: 100%|██████████| 17/17 [00:00<00:00, 18.29it/s, train_loss=0.00313, valid_loss=0.00292]\n",
      "Epoch: 6/50: 100%|██████████| 17/17 [00:00<00:00, 19.72it/s, train_loss=0.00307, valid_loss=0.00256]\n",
      "Epoch: 7/50: 100%|██████████| 17/17 [00:00<00:00, 19.65it/s, train_loss=0.00251, valid_loss=0.00218]\n",
      "Epoch: 8/50: 100%|██████████| 17/17 [00:00<00:00, 19.70it/s, train_loss=0.00259, valid_loss=0.00212]\n",
      "Epoch: 9/50: 100%|██████████| 17/17 [00:00<00:00, 19.75it/s, train_loss=0.00261, valid_loss=0.00202]\n",
      "Epoch: 10/50: 100%|██████████| 17/17 [00:00<00:00, 17.94it/s, train_loss=0.00218, valid_loss=0.00188]\n",
      "Epoch: 11/50: 100%|██████████| 17/17 [00:00<00:00, 17.22it/s, train_loss=0.00238, valid_loss=0.00195]\n",
      "Epoch: 12/50: 100%|██████████| 17/17 [00:00<00:00, 19.50it/s, train_loss=0.00212, valid_loss=0.00181]\n",
      "Epoch: 13/50: 100%|██████████| 17/17 [00:00<00:00, 20.01it/s, train_loss=0.00221, valid_loss=0.00198]\n",
      "Epoch: 14/50: 100%|██████████| 17/17 [00:00<00:00, 19.84it/s, train_loss=0.00199, valid_loss=0.00183]\n",
      "Epoch: 15/50: 100%|██████████| 17/17 [00:00<00:00, 18.12it/s, train_loss=0.00212, valid_loss=0.00241]\n",
      "Epoch: 16/50: 100%|██████████| 17/17 [00:00<00:00, 19.82it/s, train_loss=0.00194, valid_loss=0.00164]\n",
      "Epoch: 17/50: 100%|██████████| 17/17 [00:00<00:00, 19.91it/s, train_loss=0.00166, valid_loss=0.00151]\n",
      "Epoch: 18/50: 100%|██████████| 17/17 [00:00<00:00, 19.72it/s, train_loss=0.00173, valid_loss=0.00169]\n",
      "Epoch: 19/50: 100%|██████████| 17/17 [00:00<00:00, 19.62it/s, train_loss=0.00152, valid_loss=0.00178]\n",
      "Epoch: 20/50: 100%|██████████| 17/17 [00:00<00:00, 18.54it/s, train_loss=0.00155, valid_loss=0.00168]\n",
      "Epoch: 21/50: 100%|██████████| 17/17 [00:00<00:00, 19.80it/s, train_loss=0.00167, valid_loss=0.00147]\n",
      "Epoch: 22/50: 100%|██████████| 17/17 [00:00<00:00, 19.44it/s, train_loss=0.00162, valid_loss=0.00175]\n",
      "Epoch: 23/50: 100%|██████████| 17/17 [00:00<00:00, 19.47it/s, train_loss=0.00144, valid_loss=0.00142]\n",
      "Epoch: 24/50: 100%|██████████| 17/17 [00:00<00:00, 19.92it/s, train_loss=0.00144, valid_loss=0.00137]\n",
      "Epoch: 25/50: 100%|██████████| 17/17 [00:00<00:00, 18.18it/s, train_loss=0.00156, valid_loss=0.00169]\n",
      "Epoch: 26/50: 100%|██████████| 17/17 [00:00<00:00, 19.03it/s, train_loss=0.00127, valid_loss=0.00155]\n",
      "Epoch: 27/50: 100%|██████████| 17/17 [00:00<00:00, 19.50it/s, train_loss=0.00127, valid_loss=0.00143]\n",
      "Epoch: 28/50: 100%|██████████| 17/17 [00:00<00:00, 19.75it/s, train_loss=0.00152, valid_loss=0.00148]\n",
      "Epoch: 29/50: 100%|██████████| 17/17 [00:00<00:00, 19.64it/s, train_loss=0.00129, valid_loss=0.00145]\n",
      "Epoch: 30/50: 100%|██████████| 17/17 [00:00<00:00, 18.49it/s, train_loss=0.00113, valid_loss=0.00134]\n",
      "Epoch: 31/50: 100%|██████████| 17/17 [00:00<00:00, 19.60it/s, train_loss=0.00119, valid_loss=0.00137]\n",
      "Epoch: 32/50: 100%|██████████| 17/17 [00:00<00:00, 19.77it/s, train_loss=0.00109, valid_loss=0.0014]\n",
      "Epoch: 33/50: 100%|██████████| 17/17 [00:00<00:00, 19.33it/s, train_loss=0.00103, valid_loss=0.00141]\n",
      "Epoch: 34/50: 100%|██████████| 17/17 [00:00<00:00, 19.83it/s, train_loss=0.00103, valid_loss=0.00139]\n",
      "Epoch: 35/50: 100%|██████████| 17/17 [00:00<00:00, 19.75it/s, train_loss=0.000998, valid_loss=0.00141]\n",
      "Epoch: 36/50: 100%|██████████| 17/17 [00:00<00:00, 17.74it/s, train_loss=0.001, valid_loss=0.00142]   \n",
      "Epoch: 37/50: 100%|██████████| 17/17 [00:00<00:00, 19.21it/s, train_loss=0.000906, valid_loss=0.00142]\n",
      "Epoch: 38/50: 100%|██████████| 17/17 [00:00<00:00, 19.11it/s, train_loss=0.000952, valid_loss=0.00143]\n",
      "Epoch: 39/50: 100%|██████████| 17/17 [00:00<00:00, 19.72it/s, train_loss=0.000949, valid_loss=0.00144]\n",
      "Epoch: 40/50: 100%|██████████| 17/17 [00:01<00:00, 15.63it/s, train_loss=0.000852, valid_loss=0.00154]\n"
     ]
    },
    {
     "name": "stdout",
     "output_type": "stream",
     "text": [
      "cross-validation dataset 2\n"
     ]
    },
    {
     "name": "stderr",
     "output_type": "stream",
     "text": [
      "Epoch: 1/50: 100%|██████████| 25/25 [00:01<00:00, 14.75it/s, train_loss=0.022, valid_loss=0.031] \n",
      "Epoch: 2/50: 100%|██████████| 25/25 [00:01<00:00, 20.78it/s, train_loss=0.00585, valid_loss=0.00997]\n",
      "Epoch: 3/50: 100%|██████████| 25/25 [00:01<00:00, 21.05it/s, train_loss=0.00319, valid_loss=0.00435]\n",
      "Epoch: 4/50: 100%|██████████| 25/25 [00:01<00:00, 19.14it/s, train_loss=0.00287, valid_loss=0.00367]\n",
      "Epoch: 5/50: 100%|██████████| 25/25 [00:01<00:00, 16.44it/s, train_loss=0.00224, valid_loss=0.00345]\n",
      "Epoch: 6/50: 100%|██████████| 25/25 [00:01<00:00, 17.16it/s, train_loss=0.00243, valid_loss=0.00327]\n",
      "Epoch: 7/50: 100%|██████████| 25/25 [00:01<00:00, 15.35it/s, train_loss=0.00237, valid_loss=0.00324]\n",
      "Epoch: 8/50: 100%|██████████| 25/25 [00:02<00:00, 10.93it/s, train_loss=0.00226, valid_loss=0.00321]\n",
      "Epoch: 9/50: 100%|██████████| 25/25 [00:02<00:00, 10.54it/s, train_loss=0.0023, valid_loss=0.00323] \n",
      "Epoch: 10/50: 100%|██████████| 25/25 [00:02<00:00, 11.06it/s, train_loss=0.00178, valid_loss=0.00299]\n",
      "Epoch: 11/50: 100%|██████████| 25/25 [00:02<00:00, 10.36it/s, train_loss=0.00182, valid_loss=0.00288]\n",
      "Epoch: 12/50: 100%|██████████| 25/25 [00:02<00:00, 11.08it/s, train_loss=0.00153, valid_loss=0.00281]\n",
      "Epoch: 13/50: 100%|██████████| 25/25 [00:02<00:00, 10.42it/s, train_loss=0.00171, valid_loss=0.00292]\n",
      "Epoch: 14/50: 100%|██████████| 25/25 [00:02<00:00, 11.24it/s, train_loss=0.00155, valid_loss=0.00302]\n",
      "Epoch: 15/50: 100%|██████████| 25/25 [00:02<00:00, 11.47it/s, train_loss=0.00144, valid_loss=0.00282]\n",
      "Epoch: 16/50: 100%|██████████| 25/25 [00:02<00:00, 10.97it/s, train_loss=0.00134, valid_loss=0.00295]\n",
      "Epoch: 17/50: 100%|██████████| 25/25 [00:02<00:00, 10.90it/s, train_loss=0.00153, valid_loss=0.00414]\n",
      "Epoch: 18/50: 100%|██████████| 25/25 [00:02<00:00, 11.41it/s, train_loss=0.00153, valid_loss=0.00289]\n",
      "Epoch: 19/50: 100%|██████████| 25/25 [00:02<00:00, 10.58it/s, train_loss=0.00127, valid_loss=0.00334]\n",
      "Epoch: 20/50: 100%|██████████| 25/25 [00:02<00:00, 11.32it/s, train_loss=0.00144, valid_loss=0.00281]\n",
      "Epoch: 21/50: 100%|██████████| 25/25 [00:02<00:00, 10.81it/s, train_loss=0.00134, valid_loss=0.00297]\n",
      "Epoch: 22/50: 100%|██████████| 25/25 [00:02<00:00, 11.13it/s, train_loss=0.00104, valid_loss=0.00307]\n",
      "Epoch: 23/50: 100%|██████████| 25/25 [00:02<00:00, 10.65it/s, train_loss=0.00122, valid_loss=0.00313]\n"
     ]
    },
    {
     "name": "stdout",
     "output_type": "stream",
     "text": [
      "cross-validation dataset 3\n"
     ]
    },
    {
     "name": "stderr",
     "output_type": "stream",
     "text": [
      "Epoch: 1/50: 100%|██████████| 33/33 [00:03<00:00, 10.66it/s, train_loss=0.156, valid_loss=0.191]\n",
      "Epoch: 2/50: 100%|██████████| 33/33 [00:03<00:00, 10.80it/s, train_loss=0.152, valid_loss=0.191]\n",
      "Epoch: 3/50: 100%|██████████| 33/33 [00:03<00:00, 10.25it/s, train_loss=0.165, valid_loss=0.191]\n",
      "Epoch: 4/50: 100%|██████████| 33/33 [00:03<00:00, 10.85it/s, train_loss=0.159, valid_loss=0.191]\n",
      "Epoch: 5/50: 100%|██████████| 33/33 [00:03<00:00, 10.45it/s, train_loss=0.154, valid_loss=0.193]\n",
      "Epoch: 6/50: 100%|██████████| 33/33 [00:03<00:00, 10.40it/s, train_loss=0.163, valid_loss=0.19] \n",
      "Epoch: 7/50: 100%|██████████| 33/33 [00:03<00:00, 10.49it/s, train_loss=0.158, valid_loss=0.191]\n",
      "Epoch: 8/50: 100%|██████████| 33/33 [00:03<00:00, 10.83it/s, train_loss=0.165, valid_loss=0.191]\n"
     ]
    },
    {
     "name": "stdout",
     "output_type": "stream",
     "text": [
      "cross-validation dataset 3\n"
     ]
    },
    {
     "name": "stderr",
     "output_type": "stream",
     "text": [
      "Epoch: 1/50: 100%|██████████| 33/33 [00:02<00:00, 11.13it/s, train_loss=0.0178, valid_loss=0.0196]\n",
      "Epoch: 2/50: 100%|██████████| 33/33 [00:03<00:00, 10.58it/s, train_loss=0.00405, valid_loss=0.00532]\n",
      "Epoch: 3/50: 100%|██████████| 33/33 [00:02<00:00, 11.12it/s, train_loss=0.00319, valid_loss=0.00213]\n",
      "Epoch: 4/50: 100%|██████████| 33/33 [00:03<00:00, 10.86it/s, train_loss=0.00272, valid_loss=0.00168]\n",
      "Epoch: 5/50: 100%|██████████| 33/33 [00:03<00:00, 10.98it/s, train_loss=0.00253, valid_loss=0.00188]\n",
      "Epoch: 6/50: 100%|██████████| 33/33 [00:03<00:00, 10.53it/s, train_loss=0.00235, valid_loss=0.00165]\n",
      "Epoch: 7/50: 100%|██████████| 33/33 [00:02<00:00, 11.33it/s, train_loss=0.0023, valid_loss=0.00133] \n",
      "Epoch: 8/50: 100%|██████████| 33/33 [00:03<00:00, 10.69it/s, train_loss=0.00194, valid_loss=0.0012] \n",
      "Epoch: 9/50: 100%|██████████| 33/33 [00:03<00:00, 10.86it/s, train_loss=0.00211, valid_loss=0.0012] \n",
      "Epoch: 10/50: 100%|██████████| 33/33 [00:02<00:00, 11.20it/s, train_loss=0.00196, valid_loss=0.00111]\n",
      "Epoch: 11/50: 100%|██████████| 33/33 [00:03<00:00, 10.76it/s, train_loss=0.00184, valid_loss=0.00108]\n",
      "Epoch: 12/50: 100%|██████████| 33/33 [00:03<00:00, 10.78it/s, train_loss=0.00192, valid_loss=0.00129]\n",
      "Epoch: 13/50: 100%|██████████| 33/33 [00:03<00:00, 10.50it/s, train_loss=0.00168, valid_loss=0.00112]\n",
      "Epoch: 14/50: 100%|██████████| 33/33 [00:03<00:00, 10.77it/s, train_loss=0.00155, valid_loss=0.00128]\n",
      "Epoch: 15/50: 100%|██████████| 33/33 [00:03<00:00, 10.51it/s, train_loss=0.00152, valid_loss=0.00128]\n",
      "Epoch: 16/50: 100%|██████████| 33/33 [00:03<00:00, 10.34it/s, train_loss=0.00156, valid_loss=0.00106]\n",
      "Epoch: 17/50: 100%|██████████| 33/33 [00:03<00:00, 10.63it/s, train_loss=0.00143, valid_loss=0.000965]\n",
      "Epoch: 18/50: 100%|██████████| 33/33 [00:03<00:00, 10.86it/s, train_loss=0.00149, valid_loss=0.000979]\n",
      "Epoch: 19/50: 100%|██████████| 33/33 [00:02<00:00, 11.21it/s, train_loss=0.00134, valid_loss=0.00116] \n",
      "Epoch: 20/50: 100%|██████████| 33/33 [00:02<00:00, 11.10it/s, train_loss=0.00124, valid_loss=0.00101] \n",
      "Epoch: 21/50: 100%|██████████| 33/33 [00:03<00:00, 10.59it/s, train_loss=0.0012, valid_loss=0.000986] \n",
      "Epoch: 22/50: 100%|██████████| 33/33 [00:03<00:00, 10.82it/s, train_loss=0.00117, valid_loss=0.00103] \n",
      "Epoch: 23/50: 100%|██████████| 33/33 [00:03<00:00, 10.81it/s, train_loss=0.00115, valid_loss=0.000978]\n",
      "Epoch: 24/50: 100%|██████████| 33/33 [00:02<00:00, 11.06it/s, train_loss=0.00106, valid_loss=0.00103] \n",
      "Epoch: 25/50: 100%|██████████| 33/33 [00:02<00:00, 11.23it/s, train_loss=0.000944, valid_loss=0.000975]\n",
      "Epoch: 26/50: 100%|██████████| 33/33 [00:03<00:00, 10.69it/s, train_loss=0.000972, valid_loss=0.001]   \n",
      "Epoch: 27/50: 100%|██████████| 33/33 [00:02<00:00, 11.06it/s, train_loss=0.000987, valid_loss=0.000967]\n",
      "Epoch: 28/50: 100%|██████████| 33/33 [00:03<00:00, 10.94it/s, train_loss=0.000867, valid_loss=0.000954]\n",
      "Epoch: 29/50: 100%|██████████| 33/33 [00:03<00:00, 10.42it/s, train_loss=0.000907, valid_loss=0.00109]\n",
      "Epoch: 30/50: 100%|██████████| 33/33 [00:03<00:00, 10.50it/s, train_loss=0.000877, valid_loss=0.00107] \n",
      "Epoch: 31/50: 100%|██████████| 33/33 [00:03<00:00, 10.09it/s, train_loss=0.000797, valid_loss=0.00103] \n",
      "Epoch: 32/50: 100%|██████████| 33/33 [00:03<00:00, 10.76it/s, train_loss=0.00076, valid_loss=0.00101] \n"
     ]
    },
    {
     "name": "stdout",
     "output_type": "stream",
     "text": [
      "cross-validation dataset 4\n"
     ]
    },
    {
     "name": "stderr",
     "output_type": "stream",
     "text": [
      "Epoch: 1/50: 100%|██████████| 42/42 [00:03<00:00, 10.61it/s, train_loss=0.16, valid_loss=0.187] \n",
      "Epoch: 2/50: 100%|██████████| 42/42 [00:03<00:00, 10.82it/s, train_loss=0.166, valid_loss=0.19] \n",
      "Epoch: 3/50: 100%|██████████| 42/42 [00:03<00:00, 10.79it/s, train_loss=0.17, valid_loss=0.188] \n",
      "Epoch: 4/50: 100%|██████████| 42/42 [00:03<00:00, 10.85it/s, train_loss=0.167, valid_loss=0.188]\n",
      "Epoch: 5/50: 100%|██████████| 42/42 [00:03<00:00, 10.77it/s, train_loss=0.168, valid_loss=0.187]\n",
      "Epoch: 6/50: 100%|██████████| 42/42 [00:03<00:00, 10.86it/s, train_loss=0.173, valid_loss=0.189]\n",
      "Epoch: 7/50: 100%|██████████| 42/42 [00:03<00:00, 10.98it/s, train_loss=0.16, valid_loss=0.19]  \n",
      "Epoch: 8/50: 100%|██████████| 42/42 [00:03<00:00, 10.60it/s, train_loss=0.166, valid_loss=0.189]\n"
     ]
    },
    {
     "name": "stdout",
     "output_type": "stream",
     "text": [
      "cross-validation dataset 4\n"
     ]
    },
    {
     "name": "stderr",
     "output_type": "stream",
     "text": [
      "Epoch: 1/50: 100%|██████████| 42/42 [00:03<00:00, 10.74it/s, train_loss=0.0109, valid_loss=0.0154]\n",
      "Epoch: 2/50: 100%|██████████| 42/42 [00:03<00:00, 10.54it/s, train_loss=0.00352, valid_loss=0.00516]\n",
      "Epoch: 3/50: 100%|██████████| 42/42 [00:03<00:00, 11.05it/s, train_loss=0.00279, valid_loss=0.00385]\n",
      "Epoch: 4/50: 100%|██████████| 42/42 [00:03<00:00, 10.72it/s, train_loss=0.00251, valid_loss=0.00342]\n",
      "Epoch: 5/50: 100%|██████████| 42/42 [00:03<00:00, 10.58it/s, train_loss=0.00261, valid_loss=0.00353]\n",
      "Epoch: 6/50: 100%|██████████| 42/42 [00:03<00:00, 10.52it/s, train_loss=0.00225, valid_loss=0.00323]\n",
      "Epoch: 7/50: 100%|██████████| 42/42 [00:03<00:00, 10.75it/s, train_loss=0.00216, valid_loss=0.0031] \n",
      "Epoch: 8/50: 100%|██████████| 42/42 [00:03<00:00, 10.86it/s, train_loss=0.00217, valid_loss=0.00298]\n",
      "Epoch: 9/50: 100%|██████████| 42/42 [00:03<00:00, 10.65it/s, train_loss=0.00191, valid_loss=0.00312]\n",
      "Epoch: 10/50: 100%|██████████| 42/42 [00:03<00:00, 10.90it/s, train_loss=0.00198, valid_loss=0.003]  \n",
      "Epoch: 11/50: 100%|██████████| 42/42 [00:03<00:00, 10.80it/s, train_loss=0.00186, valid_loss=0.00285]\n",
      "Epoch: 12/50: 100%|██████████| 42/42 [00:04<00:00, 10.47it/s, train_loss=0.00188, valid_loss=0.00291]\n",
      "Epoch: 13/50: 100%|██████████| 42/42 [00:03<00:00, 10.95it/s, train_loss=0.00149, valid_loss=0.00276]\n",
      "Epoch: 14/50: 100%|██████████| 42/42 [00:03<00:00, 10.77it/s, train_loss=0.00165, valid_loss=0.0029] \n",
      "Epoch: 15/50: 100%|██████████| 42/42 [00:03<00:00, 10.76it/s, train_loss=0.00164, valid_loss=0.00271]\n",
      "Epoch: 16/50: 100%|██████████| 42/42 [00:03<00:00, 10.91it/s, train_loss=0.00164, valid_loss=0.00266]\n",
      "Epoch: 17/50: 100%|██████████| 42/42 [00:03<00:00, 10.98it/s, train_loss=0.00163, valid_loss=0.0026] \n",
      "Epoch: 18/50: 100%|██████████| 42/42 [00:03<00:00, 11.10it/s, train_loss=0.00166, valid_loss=0.00279]\n",
      "Epoch: 19/50: 100%|██████████| 42/42 [00:03<00:00, 10.92it/s, train_loss=0.00136, valid_loss=0.00274]\n",
      "Epoch: 20/50: 100%|██████████| 42/42 [00:03<00:00, 10.83it/s, train_loss=0.00139, valid_loss=0.00258]\n",
      "Epoch: 21/50: 100%|██████████| 42/42 [00:03<00:00, 11.04it/s, train_loss=0.00146, valid_loss=0.00263]\n",
      "Epoch: 22/50: 100%|██████████| 42/42 [00:03<00:00, 10.88it/s, train_loss=0.00142, valid_loss=0.00266]\n",
      "Epoch: 23/50: 100%|██████████| 42/42 [00:03<00:00, 10.68it/s, train_loss=0.00122, valid_loss=0.00248]\n",
      "Epoch: 24/50: 100%|██████████| 42/42 [00:04<00:00, 10.15it/s, train_loss=0.00119, valid_loss=0.00266]\n",
      "Epoch: 25/50: 100%|██████████| 42/42 [00:03<00:00, 10.80it/s, train_loss=0.0011, valid_loss=0.00269] \n",
      "Epoch: 26/50: 100%|██████████| 42/42 [00:04<00:00, 10.40it/s, train_loss=0.0012, valid_loss=0.00249] \n",
      "Epoch: 27/50: 100%|██████████| 42/42 [00:04<00:00, 10.41it/s, train_loss=0.00127, valid_loss=0.00265]\n",
      "Epoch: 28/50: 100%|██████████| 42/42 [00:03<00:00, 10.78it/s, train_loss=0.00113, valid_loss=0.00261]\n",
      "Epoch: 29/50: 100%|██████████| 42/42 [00:03<00:00, 11.16it/s, train_loss=0.0013, valid_loss=0.00236] \n",
      "Epoch: 30/50: 100%|██████████| 42/42 [00:03<00:00, 10.84it/s, train_loss=0.00108, valid_loss=0.00281]\n",
      "Epoch: 31/50: 100%|██████████| 42/42 [00:04<00:00, 10.10it/s, train_loss=0.00117, valid_loss=0.00269]\n",
      "Epoch: 32/50: 100%|██████████| 42/42 [00:03<00:00, 10.82it/s, train_loss=0.000974, valid_loss=0.00255]\n",
      "Epoch: 33/50: 100%|██████████| 42/42 [00:03<00:00, 10.81it/s, train_loss=0.0011, valid_loss=0.00265]  \n",
      "Epoch: 34/50: 100%|██████████| 42/42 [00:04<00:00,  9.91it/s, train_loss=0.000993, valid_loss=0.00257]\n",
      "Epoch: 35/50: 100%|██████████| 42/42 [00:03<00:00, 10.79it/s, train_loss=0.00104, valid_loss=0.00255] \n",
      "Epoch: 36/50: 100%|██████████| 42/42 [00:03<00:00, 10.79it/s, train_loss=0.000972, valid_loss=0.0028] \n"
     ]
    },
    {
     "name": "stdout",
     "output_type": "stream",
     "text": [
      "model config: batch_size-512, lr-0.005, number_epoch-50, hidden_dim-100, n_layers-3,drop_prob-0.2,weight_decay-1e-07\n",
      "cross-validation dataset 0\n"
     ]
    },
    {
     "name": "stderr",
     "output_type": "stream",
     "text": [
      "Epoch: 1/50: 100%|██████████| 9/9 [00:00<00:00, 11.31it/s, train_loss=0.0367, valid_loss=0.0657]\n",
      "Epoch: 2/50: 100%|██████████| 9/9 [00:00<00:00, 11.54it/s, train_loss=0.0183, valid_loss=0.0375]\n",
      "Epoch: 3/50: 100%|██████████| 9/9 [00:00<00:00, 11.27it/s, train_loss=0.0114, valid_loss=0.0699]\n",
      "Epoch: 4/50: 100%|██████████| 9/9 [00:00<00:00, 10.18it/s, train_loss=0.00662, valid_loss=0.0396]\n",
      "Epoch: 5/50: 100%|██████████| 9/9 [00:00<00:00, 11.71it/s, train_loss=0.00371, valid_loss=0.0281]\n",
      "Epoch: 6/50: 100%|██████████| 9/9 [00:00<00:00, 11.38it/s, train_loss=0.00349, valid_loss=0.0114]\n",
      "Epoch: 7/50: 100%|██████████| 9/9 [00:00<00:00, 11.39it/s, train_loss=0.00245, valid_loss=0.00586]\n",
      "Epoch: 8/50: 100%|██████████| 9/9 [00:00<00:00, 11.58it/s, train_loss=0.00227, valid_loss=0.00491]\n",
      "Epoch: 9/50: 100%|██████████| 9/9 [00:00<00:00, 11.39it/s, train_loss=0.00194, valid_loss=0.00643]\n",
      "Epoch: 10/50: 100%|██████████| 9/9 [00:00<00:00, 11.81it/s, train_loss=0.00183, valid_loss=0.00763]\n",
      "Epoch: 11/50: 100%|██████████| 9/9 [00:00<00:00, 11.41it/s, train_loss=0.00202, valid_loss=0.00752]\n",
      "Epoch: 12/50: 100%|██████████| 9/9 [00:00<00:00, 11.34it/s, train_loss=0.00206, valid_loss=0.00678]\n",
      "Epoch: 13/50: 100%|██████████| 9/9 [00:00<00:00, 11.34it/s, train_loss=0.00168, valid_loss=0.00659]\n",
      "Epoch: 14/50: 100%|██████████| 9/9 [00:00<00:00, 11.64it/s, train_loss=0.00161, valid_loss=0.0088] \n",
      "Epoch: 15/50: 100%|██████████| 9/9 [00:00<00:00, 11.34it/s, train_loss=0.00149, valid_loss=0.00813]\n",
      "Epoch: 16/50: 100%|██████████| 9/9 [00:00<00:00, 11.15it/s, train_loss=0.00134, valid_loss=0.00953]\n",
      "Epoch: 17/50: 100%|██████████| 9/9 [00:00<00:00, 11.17it/s, train_loss=0.00139, valid_loss=0.0105]\n",
      "Epoch: 18/50: 100%|██████████| 9/9 [00:00<00:00, 10.76it/s, train_loss=0.00138, valid_loss=0.00711]\n",
      "Epoch: 19/50: 100%|██████████| 9/9 [00:00<00:00, 11.46it/s, train_loss=0.00119, valid_loss=0.011]\n",
      "Epoch: 20/50: 100%|██████████| 9/9 [00:00<00:00, 11.47it/s, train_loss=0.00112, valid_loss=0.00897]\n",
      "Epoch: 21/50: 100%|██████████| 9/9 [00:00<00:00, 11.60it/s, train_loss=0.00127, valid_loss=0.00927]\n",
      "Epoch: 22/50: 100%|██████████| 9/9 [00:00<00:00, 11.35it/s, train_loss=0.0011, valid_loss=0.0108] \n",
      "Epoch: 23/50: 100%|██████████| 9/9 [00:00<00:00, 11.49it/s, train_loss=0.0011, valid_loss=0.00796] \n",
      "Epoch: 24/50: 100%|██████████| 9/9 [00:00<00:00, 11.35it/s, train_loss=0.0011, valid_loss=0.00879]\n",
      "Epoch: 25/50: 100%|██████████| 9/9 [00:00<00:00, 11.38it/s, train_loss=0.00119, valid_loss=0.0105] \n",
      "Epoch: 26/50: 100%|██████████| 9/9 [00:00<00:00, 10.18it/s, train_loss=0.00103, valid_loss=0.00925]\n",
      "Epoch: 27/50: 100%|██████████| 9/9 [00:00<00:00, 11.38it/s, train_loss=0.00104, valid_loss=0.012] \n",
      "Epoch: 28/50: 100%|██████████| 9/9 [00:00<00:00, 11.41it/s, train_loss=0.000914, valid_loss=0.0116]\n",
      "Epoch: 29/50: 100%|██████████| 9/9 [00:00<00:00, 11.37it/s, train_loss=0.000936, valid_loss=0.0111]\n",
      "Epoch: 30/50: 100%|██████████| 9/9 [00:00<00:00, 11.42it/s, train_loss=0.000916, valid_loss=0.0102]\n",
      "Epoch: 31/50: 100%|██████████| 9/9 [00:00<00:00, 11.47it/s, train_loss=0.000882, valid_loss=0.0115]\n",
      "Epoch: 32/50: 100%|██████████| 9/9 [00:01<00:00,  8.47it/s, train_loss=0.000859, valid_loss=0.0151]\n",
      "Epoch: 33/50: 100%|██████████| 9/9 [00:00<00:00, 11.22it/s, train_loss=0.000821, valid_loss=0.0161]\n"
     ]
    },
    {
     "name": "stdout",
     "output_type": "stream",
     "text": [
      "cross-validation dataset 1\n"
     ]
    },
    {
     "name": "stderr",
     "output_type": "stream",
     "text": [
      "Epoch: 1/50: 100%|██████████| 17/17 [00:01<00:00, 11.38it/s, train_loss=0.148, valid_loss=0.16] \n",
      "Epoch: 2/50: 100%|██████████| 17/17 [00:01<00:00, 11.20it/s, train_loss=0.145, valid_loss=0.162]\n",
      "Epoch: 3/50: 100%|██████████| 17/17 [00:01<00:00, 10.40it/s, train_loss=0.138, valid_loss=0.163]\n",
      "Epoch: 4/50: 100%|██████████| 17/17 [00:01<00:00, 10.90it/s, train_loss=0.141, valid_loss=0.163]\n",
      "Epoch: 5/50: 100%|██████████| 17/17 [00:01<00:00, 10.95it/s, train_loss=0.146, valid_loss=0.161]\n",
      "Epoch: 6/50: 100%|██████████| 17/17 [00:01<00:00, 11.22it/s, train_loss=0.143, valid_loss=0.162]\n",
      "Epoch: 7/50: 100%|██████████| 17/17 [00:01<00:00, 10.98it/s, train_loss=0.135, valid_loss=0.161]\n",
      "Epoch: 8/50: 100%|██████████| 17/17 [00:01<00:00, 10.56it/s, train_loss=0.147, valid_loss=0.163]\n",
      "Epoch: 9/50: 100%|██████████| 17/17 [00:01<00:00, 10.99it/s, train_loss=0.139, valid_loss=0.164]\n",
      "Epoch: 10/50: 100%|██████████| 17/17 [00:01<00:00, 11.02it/s, train_loss=0.139, valid_loss=0.161]\n",
      "Epoch: 11/50: 100%|██████████| 17/17 [00:01<00:00,  9.28it/s, train_loss=0.0959, valid_loss=0.055]\n",
      "Epoch: 12/50: 100%|██████████| 17/17 [00:01<00:00, 10.89it/s, train_loss=0.0258, valid_loss=0.0292]\n",
      "Epoch: 13/50: 100%|██████████| 17/17 [00:01<00:00, 11.03it/s, train_loss=0.0251, valid_loss=0.0277]\n",
      "Epoch: 14/50: 100%|██████████| 17/17 [00:01<00:00, 10.98it/s, train_loss=0.0246, valid_loss=0.0282]\n",
      "Epoch: 15/50: 100%|██████████| 17/17 [00:01<00:00, 11.24it/s, train_loss=0.0244, valid_loss=0.0284]\n",
      "Epoch: 16/50: 100%|██████████| 17/17 [00:01<00:00, 11.09it/s, train_loss=0.0248, valid_loss=0.028] \n",
      "Epoch: 17/50: 100%|██████████| 17/17 [00:01<00:00,  9.34it/s, train_loss=0.0245, valid_loss=0.0283]\n",
      "Epoch: 18/50: 100%|██████████| 17/17 [00:01<00:00, 11.08it/s, train_loss=0.0243, valid_loss=0.0287]\n",
      "Epoch: 19/50: 100%|██████████| 17/17 [00:01<00:00, 10.69it/s, train_loss=0.025, valid_loss=0.0292]\n",
      "Epoch: 20/50: 100%|██████████| 17/17 [00:01<00:00, 11.28it/s, train_loss=0.0263, valid_loss=0.0288]\n",
      "Epoch: 21/50: 100%|██████████| 17/17 [00:01<00:00, 11.12it/s, train_loss=0.0245, valid_loss=0.0282]\n",
      "Epoch: 22/50: 100%|██████████| 17/17 [00:01<00:00, 10.90it/s, train_loss=0.0207, valid_loss=0.0319]\n",
      "Epoch: 23/50: 100%|██████████| 17/17 [00:01<00:00, 11.36it/s, train_loss=0.0145, valid_loss=0.0278]\n",
      "Epoch: 24/50: 100%|██████████| 17/17 [00:01<00:00, 10.11it/s, train_loss=0.0107, valid_loss=0.0173]\n",
      "Epoch: 25/50: 100%|██████████| 17/17 [00:01<00:00, 11.03it/s, train_loss=0.00559, valid_loss=0.00758]\n",
      "Epoch: 26/50: 100%|██████████| 17/17 [00:01<00:00, 10.86it/s, train_loss=0.00471, valid_loss=0.00349]\n",
      "Epoch: 27/50: 100%|██████████| 17/17 [00:01<00:00, 10.88it/s, train_loss=0.00371, valid_loss=0.0028] \n",
      "Epoch: 28/50: 100%|██████████| 17/17 [00:01<00:00, 10.99it/s, train_loss=0.00365, valid_loss=0.00288]\n",
      "Epoch: 29/50: 100%|██████████| 17/17 [00:01<00:00, 10.66it/s, train_loss=0.00412, valid_loss=0.00352]\n",
      "Epoch: 30/50: 100%|██████████| 17/17 [00:01<00:00, 11.04it/s, train_loss=0.00366, valid_loss=0.00226]\n",
      "Epoch: 31/50: 100%|██████████| 17/17 [00:01<00:00, 10.88it/s, train_loss=0.0032, valid_loss=0.00213] \n",
      "Epoch: 32/50: 100%|██████████| 17/17 [00:01<00:00, 10.68it/s, train_loss=0.0031, valid_loss=0.00215] \n",
      "Epoch: 33/50: 100%|██████████| 17/17 [00:01<00:00, 10.46it/s, train_loss=0.00325, valid_loss=0.00208]\n",
      "Epoch: 34/50: 100%|██████████| 17/17 [00:01<00:00, 10.37it/s, train_loss=0.003, valid_loss=0.00199] \n",
      "Epoch: 35/50: 100%|██████████| 17/17 [00:01<00:00, 10.49it/s, train_loss=0.00281, valid_loss=0.00228]\n",
      "Epoch: 36/50: 100%|██████████| 17/17 [00:01<00:00, 10.32it/s, train_loss=0.00291, valid_loss=0.00198]\n",
      "Epoch: 37/50: 100%|██████████| 17/17 [00:01<00:00, 10.93it/s, train_loss=0.00278, valid_loss=0.00233]\n",
      "Epoch: 38/50: 100%|██████████| 17/17 [00:01<00:00, 11.11it/s, train_loss=0.00282, valid_loss=0.0021] \n",
      "Epoch: 39/50: 100%|██████████| 17/17 [00:01<00:00, 10.64it/s, train_loss=0.00294, valid_loss=0.0019] \n",
      "Epoch: 40/50: 100%|██████████| 17/17 [00:01<00:00, 10.74it/s, train_loss=0.0029, valid_loss=0.00182] \n",
      "Epoch: 41/50: 100%|██████████| 17/17 [00:01<00:00, 10.91it/s, train_loss=0.00304, valid_loss=0.00183]\n",
      "Epoch: 42/50: 100%|██████████| 17/17 [00:01<00:00, 10.95it/s, train_loss=0.00261, valid_loss=0.00171]\n",
      "Epoch: 43/50: 100%|██████████| 17/17 [00:01<00:00, 11.04it/s, train_loss=0.0027, valid_loss=0.00207] \n",
      "Epoch: 44/50: 100%|██████████| 17/17 [00:01<00:00, 11.52it/s, train_loss=0.00273, valid_loss=0.00172]\n",
      "Epoch: 45/50: 100%|██████████| 17/17 [00:01<00:00, 10.11it/s, train_loss=0.00226, valid_loss=0.00168]\n",
      "Epoch: 46/50: 100%|██████████| 17/17 [00:01<00:00, 10.97it/s, train_loss=0.00265, valid_loss=0.00163]\n",
      "Epoch: 47/50: 100%|██████████| 17/17 [00:01<00:00, 11.13it/s, train_loss=0.00217, valid_loss=0.00165]\n",
      "Epoch: 48/50: 100%|██████████| 17/17 [00:01<00:00, 11.28it/s, train_loss=0.00262, valid_loss=0.00162]\n",
      "Epoch: 49/50: 100%|██████████| 17/17 [00:01<00:00, 11.14it/s, train_loss=0.0027, valid_loss=0.00161] \n",
      "Epoch: 50/50: 100%|██████████| 17/17 [00:01<00:00, 10.63it/s, train_loss=0.00235, valid_loss=0.00159]\n"
     ]
    },
    {
     "name": "stdout",
     "output_type": "stream",
     "text": [
      "cross-validation dataset 2\n"
     ]
    },
    {
     "name": "stderr",
     "output_type": "stream",
     "text": [
      "Epoch: 1/50: 100%|██████████| 25/25 [00:02<00:00, 11.91it/s, train_loss=0.0254, valid_loss=0.0365]\n",
      "Epoch: 2/50: 100%|██████████| 25/25 [00:02<00:00, 11.79it/s, train_loss=0.00538, valid_loss=0.00784]\n",
      "Epoch: 3/50: 100%|██████████| 25/25 [00:02<00:00, 11.57it/s, train_loss=0.00259, valid_loss=0.00385]\n",
      "Epoch: 4/50: 100%|██████████| 25/25 [00:02<00:00, 10.18it/s, train_loss=0.00237, valid_loss=0.00332]\n",
      "Epoch: 5/50: 100%|██████████| 25/25 [00:02<00:00, 11.53it/s, train_loss=0.00196, valid_loss=0.00309]\n",
      "Epoch: 6/50: 100%|██████████| 25/25 [00:02<00:00, 10.92it/s, train_loss=0.00187, valid_loss=0.00334]\n",
      "Epoch: 7/50: 100%|██████████| 25/25 [00:02<00:00, 11.71it/s, train_loss=0.00206, valid_loss=0.00308]\n",
      "Epoch: 8/50: 100%|██████████| 25/25 [00:02<00:00, 11.08it/s, train_loss=0.00182, valid_loss=0.00308]\n",
      "Epoch: 9/50: 100%|██████████| 25/25 [00:02<00:00, 11.85it/s, train_loss=0.00191, valid_loss=0.00282]\n",
      "Epoch: 10/50: 100%|██████████| 25/25 [00:02<00:00, 11.34it/s, train_loss=0.00153, valid_loss=0.00337]\n",
      "Epoch: 11/50: 100%|██████████| 25/25 [00:02<00:00, 11.69it/s, train_loss=0.00146, valid_loss=0.00292]\n",
      "Epoch: 12/50: 100%|██████████| 25/25 [00:02<00:00, 10.94it/s, train_loss=0.00152, valid_loss=0.0037] \n",
      "Epoch: 13/50: 100%|██████████| 25/25 [00:02<00:00, 11.71it/s, train_loss=0.0015, valid_loss=0.00347] \n",
      "Epoch: 14/50: 100%|██████████| 25/25 [00:02<00:00, 11.30it/s, train_loss=0.00128, valid_loss=0.00324]\n",
      "Epoch: 15/50: 100%|██████████| 25/25 [00:02<00:00, 11.85it/s, train_loss=0.00118, valid_loss=0.0043] \n",
      "Epoch: 16/50: 100%|██████████| 25/25 [00:02<00:00, 11.19it/s, train_loss=0.00117, valid_loss=0.00354]\n",
      "Epoch: 17/50: 100%|██████████| 25/25 [00:02<00:00, 11.93it/s, train_loss=0.00105, valid_loss=0.0036]\n",
      "Epoch: 18/50: 100%|██████████| 25/25 [00:02<00:00, 11.94it/s, train_loss=0.00107, valid_loss=0.00444] \n",
      "Epoch: 19/50: 100%|██████████| 25/25 [00:02<00:00, 11.95it/s, train_loss=0.000983, valid_loss=0.00432]\n",
      "Epoch: 20/50: 100%|██████████| 25/25 [00:02<00:00, 11.68it/s, train_loss=0.000805, valid_loss=0.00447]\n",
      "Epoch: 21/50: 100%|██████████| 25/25 [00:02<00:00, 10.83it/s, train_loss=0.000805, valid_loss=0.00488]\n",
      "Epoch: 22/50: 100%|██████████| 25/25 [00:02<00:00, 11.82it/s, train_loss=0.00101, valid_loss=0.00415] \n",
      "Epoch: 23/50: 100%|██████████| 25/25 [00:02<00:00, 11.94it/s, train_loss=0.000756, valid_loss=0.00529]\n",
      "Epoch: 24/50: 100%|██████████| 25/25 [00:02<00:00, 11.52it/s, train_loss=0.000735, valid_loss=0.00548]\n",
      "Epoch: 25/50: 100%|██████████| 25/25 [00:02<00:00, 11.38it/s, train_loss=0.000662, valid_loss=0.00691]\n"
     ]
    },
    {
     "name": "stdout",
     "output_type": "stream",
     "text": [
      "cross-validation dataset 3\n"
     ]
    },
    {
     "name": "stderr",
     "output_type": "stream",
     "text": [
      "Epoch: 1/50: 100%|██████████| 33/33 [00:02<00:00, 11.26it/s, train_loss=0.0219, valid_loss=0.0229]\n",
      "Epoch: 2/50: 100%|██████████| 33/33 [00:02<00:00, 11.24it/s, train_loss=0.0046, valid_loss=0.00392] \n",
      "Epoch: 3/50: 100%|██████████| 33/33 [00:02<00:00, 11.70it/s, train_loss=0.003, valid_loss=0.00226]  \n",
      "Epoch: 4/50: 100%|██████████| 33/33 [00:02<00:00, 11.53it/s, train_loss=0.00241, valid_loss=0.00165]\n",
      "Epoch: 5/50: 100%|██████████| 33/33 [00:02<00:00, 11.66it/s, train_loss=0.00221, valid_loss=0.00164]\n",
      "Epoch: 6/50: 100%|██████████| 33/33 [00:02<00:00, 11.71it/s, train_loss=0.00226, valid_loss=0.00139]\n",
      "Epoch: 7/50: 100%|██████████| 33/33 [00:02<00:00, 11.43it/s, train_loss=0.00188, valid_loss=0.00133]\n",
      "Epoch: 8/50: 100%|██████████| 33/33 [00:02<00:00, 11.54it/s, train_loss=0.00223, valid_loss=0.00118]\n",
      "Epoch: 9/50: 100%|██████████| 33/33 [00:02<00:00, 11.98it/s, train_loss=0.00182, valid_loss=0.00101]\n",
      "Epoch: 10/50: 100%|██████████| 33/33 [00:03<00:00, 10.89it/s, train_loss=0.00169, valid_loss=0.000967]\n",
      "Epoch: 11/50: 100%|██████████| 33/33 [00:02<00:00, 11.48it/s, train_loss=0.00168, valid_loss=0.000961]\n",
      "Epoch: 12/50: 100%|██████████| 33/33 [00:02<00:00, 11.58it/s, train_loss=0.00176, valid_loss=0.00101] \n",
      "Epoch: 13/50: 100%|██████████| 33/33 [00:02<00:00, 11.57it/s, train_loss=0.00187, valid_loss=0.00109] \n",
      "Epoch: 14/50: 100%|██████████| 33/33 [00:02<00:00, 11.17it/s, train_loss=0.00161, valid_loss=0.00112]\n",
      "Epoch: 15/50: 100%|██████████| 33/33 [00:02<00:00, 11.60it/s, train_loss=0.00143, valid_loss=0.000924]\n",
      "Epoch: 16/50: 100%|██████████| 33/33 [00:02<00:00, 11.69it/s, train_loss=0.00156, valid_loss=0.000953]\n",
      "Epoch: 17/50: 100%|██████████| 33/33 [00:02<00:00, 11.29it/s, train_loss=0.0017, valid_loss=0.00118]  \n",
      "Epoch: 18/50: 100%|██████████| 33/33 [00:02<00:00, 11.41it/s, train_loss=0.00133, valid_loss=0.00091] \n",
      "Epoch: 19/50: 100%|██████████| 33/33 [00:03<00:00, 10.92it/s, train_loss=0.00159, valid_loss=0.000924]\n",
      "Epoch: 20/50: 100%|██████████| 33/33 [00:02<00:00, 11.19it/s, train_loss=0.00135, valid_loss=0.000988]\n",
      "Epoch: 21/50: 100%|██████████| 33/33 [00:02<00:00, 11.12it/s, train_loss=0.00147, valid_loss=0.00103] \n",
      "Epoch: 22/50: 100%|██████████| 33/33 [00:03<00:00, 10.21it/s, train_loss=0.00116, valid_loss=0.000847]\n",
      "Epoch: 23/50: 100%|██████████| 33/33 [00:03<00:00, 10.81it/s, train_loss=0.00124, valid_loss=0.000921]\n",
      "Epoch: 24/50: 100%|██████████| 33/33 [00:02<00:00, 11.62it/s, train_loss=0.00143, valid_loss=0.00101] \n",
      "Epoch: 25/50: 100%|██████████| 33/33 [00:02<00:00, 11.57it/s, train_loss=0.00106, valid_loss=0.000868]\n",
      "Epoch: 26/50: 100%|██████████| 33/33 [00:02<00:00, 11.41it/s, train_loss=0.00124, valid_loss=0.000881] \n",
      "Epoch: 27/50: 100%|██████████| 33/33 [00:02<00:00, 11.12it/s, train_loss=0.00107, valid_loss=0.000916]\n",
      "Epoch: 28/50: 100%|██████████| 33/33 [00:02<00:00, 11.85it/s, train_loss=0.00113, valid_loss=0.000854]\n"
     ]
    },
    {
     "name": "stdout",
     "output_type": "stream",
     "text": [
      "cross-validation dataset 4\n"
     ]
    },
    {
     "name": "stderr",
     "output_type": "stream",
     "text": [
      "Epoch: 1/50: 100%|██████████| 42/42 [00:03<00:00, 11.41it/s, train_loss=0.00686, valid_loss=0.00921]\n",
      "Epoch: 2/50: 100%|██████████| 42/42 [00:03<00:00, 11.58it/s, train_loss=0.00268, valid_loss=0.00337]\n",
      "Epoch: 3/50: 100%|██████████| 42/42 [00:03<00:00, 11.38it/s, train_loss=0.00208, valid_loss=0.00327]\n",
      "Epoch: 4/50: 100%|██████████| 42/42 [00:03<00:00, 11.40it/s, train_loss=0.00207, valid_loss=0.00297]\n",
      "Epoch: 5/50: 100%|██████████| 42/42 [00:03<00:00, 11.35it/s, train_loss=0.00189, valid_loss=0.0029] \n",
      "Epoch: 6/50: 100%|██████████| 42/42 [00:03<00:00, 11.48it/s, train_loss=0.00177, valid_loss=0.00269]\n",
      "Epoch: 7/50: 100%|██████████| 42/42 [00:03<00:00, 11.30it/s, train_loss=0.00145, valid_loss=0.0025] \n",
      "Epoch: 8/50: 100%|██████████| 42/42 [00:03<00:00, 11.41it/s, train_loss=0.00126, valid_loss=0.00239]\n",
      "Epoch: 9/50: 100%|██████████| 42/42 [00:03<00:00, 11.40it/s, train_loss=0.00131, valid_loss=0.0025] \n",
      "Epoch: 10/50: 100%|██████████| 42/42 [00:03<00:00, 10.65it/s, train_loss=0.00139, valid_loss=0.00265]\n",
      "Epoch: 11/50: 100%|██████████| 42/42 [00:03<00:00, 11.45it/s, train_loss=0.00108, valid_loss=0.00245]\n",
      "Epoch: 12/50: 100%|██████████| 42/42 [00:03<00:00, 11.58it/s, train_loss=0.00105, valid_loss=0.00253]\n",
      "Epoch: 13/50: 100%|██████████| 42/42 [00:03<00:00, 11.34it/s, train_loss=0.0011, valid_loss=0.00249] \n"
     ]
    },
    {
     "name": "stdout",
     "output_type": "stream",
     "text": [
      "model config: batch_size-256, lr-0.005, number_epoch-50, hidden_dim-100, n_layers-2,drop_prob-0.4,weight_decay-1e-08\n",
      "cross-validation dataset 0\n"
     ]
    },
    {
     "name": "stderr",
     "output_type": "stream",
     "text": [
      "Epoch: 1/50: 100%|██████████| 17/17 [00:01<00:00, 14.05it/s, train_loss=0.0184, valid_loss=0.0482]\n",
      "Epoch: 2/50: 100%|██████████| 17/17 [00:01<00:00, 12.88it/s, train_loss=0.0104, valid_loss=0.0381]\n",
      "Epoch: 3/50: 100%|██████████| 17/17 [00:01<00:00, 12.83it/s, train_loss=0.00413, valid_loss=0.0356]\n",
      "Epoch: 4/50: 100%|██████████| 17/17 [00:01<00:00, 14.11it/s, train_loss=0.0028, valid_loss=0.00745]\n",
      "Epoch: 5/50: 100%|██████████| 17/17 [00:01<00:00, 13.18it/s, train_loss=0.00236, valid_loss=0.00445]\n",
      "Epoch: 6/50: 100%|██████████| 17/17 [00:01<00:00, 13.95it/s, train_loss=0.00192, valid_loss=0.00463]\n",
      "Epoch: 7/50: 100%|██████████| 17/17 [00:01<00:00, 13.63it/s, train_loss=0.00165, valid_loss=0.00613]\n",
      "Epoch: 8/50: 100%|██████████| 17/17 [00:01<00:00, 13.95it/s, train_loss=0.00178, valid_loss=0.00555]\n",
      "Epoch: 9/50: 100%|██████████| 17/17 [00:01<00:00, 11.15it/s, train_loss=0.00166, valid_loss=0.00561]\n",
      "Epoch: 10/50: 100%|██████████| 17/17 [00:01<00:00, 13.75it/s, train_loss=0.00164, valid_loss=0.00751]\n",
      "Epoch: 11/50: 100%|██████████| 17/17 [00:01<00:00, 13.59it/s, train_loss=0.00176, valid_loss=0.0127]\n",
      "Epoch: 12/50: 100%|██████████| 17/17 [00:01<00:00, 13.61it/s, train_loss=0.00129, valid_loss=0.01]  \n",
      "Epoch: 13/50: 100%|██████████| 17/17 [00:01<00:00, 13.60it/s, train_loss=0.00124, valid_loss=0.0127]\n",
      "Epoch: 14/50: 100%|██████████| 17/17 [00:01<00:00, 13.71it/s, train_loss=0.00113, valid_loss=0.015] \n",
      "Epoch: 15/50: 100%|██████████| 17/17 [00:01<00:00, 11.43it/s, train_loss=0.00119, valid_loss=0.021] \n",
      "Epoch: 16/50: 100%|██████████| 17/17 [00:01<00:00, 13.55it/s, train_loss=0.00104, valid_loss=0.0211] \n",
      "Epoch: 17/50: 100%|██████████| 17/17 [00:01<00:00, 13.43it/s, train_loss=0.000991, valid_loss=0.0228]\n",
      "Epoch: 18/50: 100%|██████████| 17/17 [00:01<00:00, 13.70it/s, train_loss=0.000996, valid_loss=0.0182]\n",
      "Epoch: 19/50: 100%|██████████| 17/17 [00:01<00:00, 13.88it/s, train_loss=0.000898, valid_loss=0.02]  \n",
      "Epoch: 20/50: 100%|██████████| 17/17 [00:01<00:00, 13.71it/s, train_loss=0.00097, valid_loss=0.0192]\n"
     ]
    },
    {
     "name": "stdout",
     "output_type": "stream",
     "text": [
      "cross-validation dataset 1\n"
     ]
    },
    {
     "name": "stderr",
     "output_type": "stream",
     "text": [
      "Epoch: 1/50: 100%|██████████| 33/33 [00:02<00:00, 13.77it/s, train_loss=0.146, valid_loss=0.161]\n",
      "Epoch: 2/50: 100%|██████████| 33/33 [00:02<00:00, 14.41it/s, train_loss=0.145, valid_loss=0.162]\n",
      "Epoch: 3/50: 100%|██████████| 33/33 [00:02<00:00, 14.02it/s, train_loss=0.142, valid_loss=0.162]\n",
      "Epoch: 4/50: 100%|██████████| 33/33 [00:02<00:00, 12.88it/s, train_loss=0.142, valid_loss=0.163]\n",
      "Epoch: 5/50: 100%|██████████| 33/33 [00:02<00:00, 15.00it/s, train_loss=0.142, valid_loss=0.162]\n",
      "Epoch: 6/50: 100%|██████████| 33/33 [00:02<00:00, 14.86it/s, train_loss=0.143, valid_loss=0.162]\n",
      "Epoch: 7/50: 100%|██████████| 33/33 [00:02<00:00, 14.87it/s, train_loss=0.137, valid_loss=0.163]\n",
      "Epoch: 8/50: 100%|██████████| 33/33 [00:02<00:00, 13.64it/s, train_loss=0.146, valid_loss=0.163]\n",
      "Epoch: 9/50: 100%|██████████| 33/33 [00:02<00:00, 14.39it/s, train_loss=0.151, valid_loss=0.162]\n",
      "Epoch: 10/50: 100%|██████████| 33/33 [00:02<00:00, 13.09it/s, train_loss=0.134, valid_loss=0.162]\n",
      "Epoch: 11/50: 100%|██████████| 33/33 [00:02<00:00, 13.58it/s, train_loss=0.143, valid_loss=0.162]\n",
      "Epoch: 12/50: 100%|██████████| 33/33 [00:02<00:00, 14.56it/s, train_loss=0.137, valid_loss=0.162]\n"
     ]
    },
    {
     "name": "stdout",
     "output_type": "stream",
     "text": [
      "cross-validation dataset 1\n"
     ]
    },
    {
     "name": "stderr",
     "output_type": "stream",
     "text": [
      "Epoch: 1/50: 100%|██████████| 33/33 [00:02<00:00, 13.76it/s, train_loss=0.00817, valid_loss=0.00672]\n",
      "Epoch: 2/50: 100%|██████████| 33/33 [00:02<00:00, 14.62it/s, train_loss=0.00308, valid_loss=0.00249]\n",
      "Epoch: 3/50: 100%|██████████| 33/33 [00:02<00:00, 14.50it/s, train_loss=0.00312, valid_loss=0.00215]\n",
      "Epoch: 4/50: 100%|██████████| 33/33 [00:02<00:00, 14.45it/s, train_loss=0.00256, valid_loss=0.00175]\n",
      "Epoch: 5/50: 100%|██████████| 33/33 [00:02<00:00, 14.86it/s, train_loss=0.0022, valid_loss=0.00172] \n",
      "Epoch: 6/50: 100%|██████████| 33/33 [00:02<00:00, 14.12it/s, train_loss=0.00227, valid_loss=0.00191]\n",
      "Epoch: 7/50: 100%|██████████| 33/33 [00:02<00:00, 14.90it/s, train_loss=0.00189, valid_loss=0.00167]\n",
      "Epoch: 8/50: 100%|██████████| 33/33 [00:02<00:00, 15.33it/s, train_loss=0.00156, valid_loss=0.00166]\n",
      "Epoch: 9/50: 100%|██████████| 33/33 [00:02<00:00, 14.00it/s, train_loss=0.00177, valid_loss=0.0014] \n",
      "Epoch: 10/50: 100%|██████████| 33/33 [00:02<00:00, 14.43it/s, train_loss=0.00159, valid_loss=0.00151]\n",
      "Epoch: 11/50: 100%|██████████| 33/33 [00:02<00:00, 13.67it/s, train_loss=0.00161, valid_loss=0.00152]\n",
      "Epoch: 12/50: 100%|██████████| 33/33 [00:02<00:00, 14.65it/s, train_loss=0.00145, valid_loss=0.0015] \n",
      "Epoch: 13/50: 100%|██████████| 33/33 [00:02<00:00, 14.19it/s, train_loss=0.00147, valid_loss=0.00167]\n",
      "Epoch: 14/50: 100%|██████████| 33/33 [00:02<00:00, 14.58it/s, train_loss=0.00116, valid_loss=0.0019]  \n",
      "Epoch: 15/50: 100%|██████████| 33/33 [00:02<00:00, 14.62it/s, train_loss=0.000923, valid_loss=0.0017] \n",
      "Epoch: 16/50: 100%|██████████| 33/33 [00:02<00:00, 13.59it/s, train_loss=0.000858, valid_loss=0.00177]\n",
      "Epoch: 17/50: 100%|██████████| 33/33 [00:02<00:00, 14.46it/s, train_loss=0.000821, valid_loss=0.00204]\n",
      "Epoch: 18/50: 100%|██████████| 33/33 [00:02<00:00, 14.53it/s, train_loss=0.000692, valid_loss=0.00222]\n",
      "Epoch: 19/50: 100%|██████████| 33/33 [00:02<00:00, 14.74it/s, train_loss=0.00063, valid_loss=0.00178] \n"
     ]
    },
    {
     "name": "stdout",
     "output_type": "stream",
     "text": [
      "cross-validation dataset 2\n"
     ]
    },
    {
     "name": "stderr",
     "output_type": "stream",
     "text": [
      "Epoch: 1/50: 100%|██████████| 50/50 [00:03<00:00, 15.14it/s, train_loss=0.00287, valid_loss=0.00414]\n",
      "Epoch: 2/50: 100%|██████████| 50/50 [00:03<00:00, 15.68it/s, train_loss=0.00209, valid_loss=0.00318]\n",
      "Epoch: 3/50: 100%|██████████| 50/50 [00:03<00:00, 15.54it/s, train_loss=0.00202, valid_loss=0.00327]\n",
      "Epoch: 4/50: 100%|██████████| 50/50 [00:03<00:00, 15.77it/s, train_loss=0.00169, valid_loss=0.00287]\n",
      "Epoch: 5/50: 100%|██████████| 50/50 [00:03<00:00, 13.95it/s, train_loss=0.00154, valid_loss=0.00343]\n",
      "Epoch: 6/50: 100%|██████████| 50/50 [00:03<00:00, 14.94it/s, train_loss=0.00149, valid_loss=0.00305]\n",
      "Epoch: 7/50: 100%|██████████| 50/50 [00:03<00:00, 14.98it/s, train_loss=0.00109, valid_loss=0.00294]\n",
      "Epoch: 8/50: 100%|██████████| 50/50 [00:03<00:00, 15.28it/s, train_loss=0.001, valid_loss=0.00404]  \n",
      "Epoch: 9/50: 100%|██████████| 50/50 [00:03<00:00, 14.41it/s, train_loss=0.00122, valid_loss=0.00291] \n",
      "Epoch: 10/50: 100%|██████████| 50/50 [00:03<00:00, 15.23it/s, train_loss=0.00109, valid_loss=0.00399] \n",
      "Epoch: 11/50: 100%|██████████| 50/50 [00:03<00:00, 15.24it/s, train_loss=0.00117, valid_loss=0.00332] \n",
      "Epoch: 12/50: 100%|██████████| 50/50 [00:03<00:00, 14.05it/s, train_loss=0.00125, valid_loss=0.00369]\n"
     ]
    },
    {
     "name": "stdout",
     "output_type": "stream",
     "text": [
      "cross-validation dataset 3\n"
     ]
    },
    {
     "name": "stderr",
     "output_type": "stream",
     "text": [
      "Epoch: 1/50: 100%|██████████| 66/66 [00:04<00:00, 14.78it/s, train_loss=0.00357, valid_loss=0.00235]\n",
      "Epoch: 2/50: 100%|██████████| 66/66 [00:04<00:00, 14.55it/s, train_loss=0.00259, valid_loss=0.00145]\n",
      "Epoch: 3/50: 100%|██████████| 66/66 [00:04<00:00, 13.80it/s, train_loss=0.00176, valid_loss=0.00103]\n",
      "Epoch: 4/50: 100%|██████████| 66/66 [00:04<00:00, 14.41it/s, train_loss=0.00173, valid_loss=0.00338] \n",
      "Epoch: 5/50: 100%|██████████| 66/66 [00:04<00:00, 15.08it/s, train_loss=0.00152, valid_loss=0.00128] \n",
      "Epoch: 6/50: 100%|██████████| 66/66 [00:04<00:00, 14.43it/s, train_loss=0.00148, valid_loss=0.00106] \n",
      "Epoch: 7/50: 100%|██████████| 66/66 [00:04<00:00, 14.40it/s, train_loss=0.00168, valid_loss=0.00114] \n",
      "Epoch: 8/50: 100%|██████████| 66/66 [00:04<00:00, 14.01it/s, train_loss=0.00138, valid_loss=0.00105] \n",
      "Epoch: 9/50: 100%|██████████| 66/66 [00:04<00:00, 14.55it/s, train_loss=0.00124, valid_loss=0.00112] \n",
      "Epoch: 10/50: 100%|██████████| 66/66 [00:04<00:00, 14.23it/s, train_loss=0.0012, valid_loss=0.00103]  \n",
      "Epoch: 11/50: 100%|██████████| 66/66 [00:04<00:00, 14.74it/s, train_loss=0.000971, valid_loss=0.000954]\n"
     ]
    },
    {
     "name": "stdout",
     "output_type": "stream",
     "text": [
      "cross-validation dataset 4\n"
     ]
    },
    {
     "name": "stderr",
     "output_type": "stream",
     "text": [
      "Epoch: 1/50: 100%|██████████| 83/83 [00:05<00:00, 14.74it/s, train_loss=0.00272, valid_loss=0.00372]\n",
      "Epoch: 2/50: 100%|██████████| 83/83 [00:05<00:00, 14.42it/s, train_loss=0.00205, valid_loss=0.00301]\n",
      "Epoch: 3/50: 100%|██████████| 83/83 [00:05<00:00, 15.51it/s, train_loss=0.00162, valid_loss=0.00285]\n",
      "Epoch: 4/50: 100%|██████████| 83/83 [00:05<00:00, 14.78it/s, train_loss=0.00188, valid_loss=0.0027] \n",
      "Epoch: 5/50: 100%|██████████| 83/83 [00:05<00:00, 14.71it/s, train_loss=0.00146, valid_loss=0.00258]\n",
      "Epoch: 6/50: 100%|██████████| 83/83 [00:05<00:00, 15.20it/s, train_loss=0.00158, valid_loss=0.00291]\n",
      "Epoch: 7/50: 100%|██████████| 83/83 [00:05<00:00, 15.48it/s, train_loss=0.00127, valid_loss=0.00272]\n",
      "Epoch: 8/50: 100%|██████████| 83/83 [00:05<00:00, 14.76it/s, train_loss=0.00131, valid_loss=0.00242]\n",
      "Epoch: 9/50: 100%|██████████| 83/83 [00:05<00:00, 14.41it/s, train_loss=0.00119, valid_loss=0.00242]\n",
      "Epoch: 10/50: 100%|██████████| 83/83 [00:05<00:00, 15.26it/s, train_loss=0.00117, valid_loss=0.00253]\n",
      "Epoch: 11/50: 100%|██████████| 83/83 [00:05<00:00, 15.28it/s, train_loss=0.000995, valid_loss=0.00244]\n",
      "Epoch: 12/50: 100%|██████████| 83/83 [00:05<00:00, 14.97it/s, train_loss=0.000749, valid_loss=0.00287]\n"
     ]
    },
    {
     "name": "stdout",
     "output_type": "stream",
     "text": [
      "model config: batch_size-512, lr-0.01, number_epoch-50, hidden_dim-120, n_layers-2,drop_prob-0.6,weight_decay-1e-08\n",
      "cross-validation dataset 0\n"
     ]
    },
    {
     "name": "stderr",
     "output_type": "stream",
     "text": [
      "Epoch: 1/50: 100%|██████████| 9/9 [00:00<00:00, 13.63it/s, train_loss=0.108, valid_loss=0.174]\n",
      "Epoch: 2/50: 100%|██████████| 9/9 [00:00<00:00, 15.73it/s, train_loss=0.104, valid_loss=0.177]\n",
      "Epoch: 3/50: 100%|██████████| 9/9 [00:00<00:00, 15.18it/s, train_loss=0.108, valid_loss=0.176]\n",
      "Epoch: 4/50: 100%|██████████| 9/9 [00:00<00:00, 15.01it/s, train_loss=0.109, valid_loss=0.176]\n",
      "Epoch: 5/50: 100%|██████████| 9/9 [00:00<00:00, 15.55it/s, train_loss=0.108, valid_loss=0.175]\n",
      "Epoch: 6/50: 100%|██████████| 9/9 [00:00<00:00, 15.19it/s, train_loss=0.11, valid_loss=0.176]  \n",
      "Epoch: 7/50: 100%|██████████| 9/9 [00:00<00:00, 14.92it/s, train_loss=0.109, valid_loss=0.174]\n",
      "Epoch: 8/50: 100%|██████████| 9/9 [00:00<00:00, 14.88it/s, train_loss=0.104, valid_loss=0.174]\n",
      "Epoch: 9/50: 100%|██████████| 9/9 [00:00<00:00, 11.08it/s, train_loss=0.108, valid_loss=0.175]\n",
      "Epoch: 10/50: 100%|██████████| 9/9 [00:00<00:00, 15.30it/s, train_loss=0.108, valid_loss=0.176]\n",
      "Epoch: 11/50: 100%|██████████| 9/9 [00:00<00:00, 15.08it/s, train_loss=0.108, valid_loss=0.175]\n",
      "Epoch: 12/50: 100%|██████████| 9/9 [00:00<00:00, 15.50it/s, train_loss=0.106, valid_loss=0.176]\n",
      "Epoch: 13/50: 100%|██████████| 9/9 [00:00<00:00, 15.46it/s, train_loss=0.108, valid_loss=0.175]\n",
      "Epoch: 14/50: 100%|██████████| 9/9 [00:00<00:00, 15.45it/s, train_loss=0.105, valid_loss=0.172]\n",
      "Epoch: 15/50: 100%|██████████| 9/9 [00:00<00:00, 15.42it/s, train_loss=0.107, valid_loss=0.175]\n",
      "Epoch: 16/50: 100%|██████████| 9/9 [00:00<00:00, 13.18it/s, train_loss=0.109, valid_loss=0.175]\n",
      "Epoch: 17/50: 100%|██████████| 9/9 [00:00<00:00, 15.15it/s, train_loss=0.107, valid_loss=0.176]\n",
      "Epoch: 18/50: 100%|██████████| 9/9 [00:00<00:00, 13.89it/s, train_loss=0.106, valid_loss=0.174]\n",
      "Epoch: 19/50: 100%|██████████| 9/9 [00:00<00:00, 16.21it/s, train_loss=0.107, valid_loss=0.174]\n",
      "Epoch: 20/50: 100%|██████████| 9/9 [00:00<00:00, 15.42it/s, train_loss=0.109, valid_loss=0.173]\n",
      "Epoch: 21/50: 100%|██████████| 9/9 [00:00<00:00, 14.68it/s, train_loss=0.109, valid_loss=0.175]\n",
      "Epoch: 22/50: 100%|██████████| 9/9 [00:00<00:00, 14.82it/s, train_loss=0.108, valid_loss=0.174]\n",
      "Epoch: 23/50: 100%|██████████| 9/9 [00:00<00:00, 12.49it/s, train_loss=0.109, valid_loss=0.175]\n",
      "Epoch: 24/50: 100%|██████████| 9/9 [00:00<00:00, 13.58it/s, train_loss=0.104, valid_loss=0.177]\n",
      "Epoch: 25/50: 100%|██████████| 9/9 [00:00<00:00, 15.05it/s, train_loss=0.11, valid_loss=0.175] \n",
      "Epoch: 26/50: 100%|██████████| 9/9 [00:00<00:00, 15.60it/s, train_loss=0.106, valid_loss=0.175]\n",
      "Epoch: 27/50: 100%|██████████| 9/9 [00:00<00:00, 15.28it/s, train_loss=0.107, valid_loss=0.175]\n",
      "Epoch: 28/50: 100%|██████████| 9/9 [00:00<00:00, 15.46it/s, train_loss=0.112, valid_loss=0.175]\n",
      "Epoch: 29/50: 100%|██████████| 9/9 [00:00<00:00, 15.41it/s, train_loss=0.107, valid_loss=0.174]\n",
      "Epoch: 30/50: 100%|██████████| 9/9 [00:00<00:00, 15.49it/s, train_loss=0.109, valid_loss=0.175]\n",
      "Epoch: 31/50: 100%|██████████| 9/9 [00:00<00:00, 14.98it/s, train_loss=0.108, valid_loss=0.175]\n",
      "Epoch: 32/50: 100%|██████████| 9/9 [00:00<00:00, 15.23it/s, train_loss=0.104, valid_loss=0.175]\n",
      "Epoch: 33/50: 100%|██████████| 9/9 [00:00<00:00, 15.58it/s, train_loss=0.107, valid_loss=0.176]\n",
      "Epoch: 34/50: 100%|██████████| 9/9 [00:00<00:00, 15.11it/s, train_loss=0.108, valid_loss=0.176]\n",
      "Epoch: 35/50: 100%|██████████| 9/9 [00:00<00:00, 15.15it/s, train_loss=0.113, valid_loss=0.176]\n",
      "Epoch: 36/50: 100%|██████████| 9/9 [00:00<00:00, 15.54it/s, train_loss=0.107, valid_loss=0.174]\n",
      "Epoch: 37/50: 100%|██████████| 9/9 [00:00<00:00, 13.87it/s, train_loss=0.107, valid_loss=0.177]\n",
      "Epoch: 38/50: 100%|██████████| 9/9 [00:00<00:00, 12.47it/s, train_loss=0.107, valid_loss=0.176]\n",
      "Epoch: 39/50: 100%|██████████| 9/9 [00:00<00:00, 15.22it/s, train_loss=0.109, valid_loss=0.175]\n"
     ]
    },
    {
     "name": "stdout",
     "output_type": "stream",
     "text": [
      "cross-validation dataset 0\n"
     ]
    },
    {
     "name": "stderr",
     "output_type": "stream",
     "text": [
      "Epoch: 1/50: 100%|██████████| 9/9 [00:00<00:00, 13.00it/s, train_loss=0.0228, valid_loss=0.0781]\n",
      "Epoch: 2/50: 100%|██████████| 9/9 [00:00<00:00, 15.29it/s, train_loss=0.0208, valid_loss=0.0516]\n",
      "Epoch: 3/50: 100%|██████████| 9/9 [00:00<00:00, 14.80it/s, train_loss=0.014, valid_loss=0.0407] \n",
      "Epoch: 4/50: 100%|██████████| 9/9 [00:00<00:00, 15.16it/s, train_loss=0.011, valid_loss=0.0348]\n",
      "Epoch: 5/50: 100%|██████████| 9/9 [00:00<00:00, 14.85it/s, train_loss=0.00717, valid_loss=0.0556]\n",
      "Epoch: 6/50: 100%|██████████| 9/9 [00:00<00:00, 15.16it/s, train_loss=0.00515, valid_loss=0.025] \n",
      "Epoch: 7/50: 100%|██████████| 9/9 [00:00<00:00, 14.85it/s, train_loss=0.00405, valid_loss=0.0136]\n",
      "Epoch: 8/50: 100%|██████████| 9/9 [00:00<00:00, 14.81it/s, train_loss=0.00328, valid_loss=0.00873]\n",
      "Epoch: 9/50: 100%|██████████| 9/9 [00:00<00:00, 13.38it/s, train_loss=0.00319, valid_loss=0.00549]\n",
      "Epoch: 10/50: 100%|██████████| 9/9 [00:00<00:00, 15.07it/s, train_loss=0.00247, valid_loss=0.00584]\n",
      "Epoch: 11/50: 100%|██████████| 9/9 [00:00<00:00, 15.07it/s, train_loss=0.00214, valid_loss=0.00525]\n",
      "Epoch: 12/50: 100%|██████████| 9/9 [00:00<00:00, 13.49it/s, train_loss=0.00206, valid_loss=0.00555]\n",
      "Epoch: 13/50: 100%|██████████| 9/9 [00:00<00:00, 15.05it/s, train_loss=0.00205, valid_loss=0.00547]\n",
      "Epoch: 14/50: 100%|██████████| 9/9 [00:00<00:00, 14.67it/s, train_loss=0.00223, valid_loss=0.00614]\n",
      "Epoch: 15/50: 100%|██████████| 9/9 [00:00<00:00, 15.56it/s, train_loss=0.00184, valid_loss=0.00526]\n",
      "Epoch: 16/50: 100%|██████████| 9/9 [00:00<00:00, 15.17it/s, train_loss=0.00182, valid_loss=0.0061]\n",
      "Epoch: 17/50: 100%|██████████| 9/9 [00:00<00:00, 14.10it/s, train_loss=0.00186, valid_loss=0.00535]\n",
      "Epoch: 18/50: 100%|██████████| 9/9 [00:00<00:00, 15.14it/s, train_loss=0.00179, valid_loss=0.00543]\n",
      "Epoch: 19/50: 100%|██████████| 9/9 [00:00<00:00, 14.70it/s, train_loss=0.0017, valid_loss=0.00558] \n",
      "Epoch: 20/50: 100%|██████████| 9/9 [00:00<00:00, 14.96it/s, train_loss=0.00173, valid_loss=0.00691]\n",
      "Epoch: 21/50: 100%|██████████| 9/9 [00:00<00:00, 14.33it/s, train_loss=0.0016, valid_loss=0.00505] \n",
      "Epoch: 22/50: 100%|██████████| 9/9 [00:00<00:00, 15.41it/s, train_loss=0.00159, valid_loss=0.00565]\n",
      "Epoch: 23/50: 100%|██████████| 9/9 [00:00<00:00, 15.37it/s, train_loss=0.00151, valid_loss=0.00771]\n",
      "Epoch: 24/50: 100%|██████████| 9/9 [00:00<00:00, 13.38it/s, train_loss=0.00141, valid_loss=0.00779]\n",
      "Epoch: 25/50: 100%|██████████| 9/9 [00:00<00:00, 15.51it/s, train_loss=0.00145, valid_loss=0.0111] \n",
      "Epoch: 26/50: 100%|██████████| 9/9 [00:00<00:00, 15.69it/s, train_loss=0.00171, valid_loss=0.00605]\n",
      "Epoch: 27/50: 100%|██████████| 9/9 [00:00<00:00, 14.54it/s, train_loss=0.00135, valid_loss=0.0102]\n",
      "Epoch: 28/50: 100%|██████████| 9/9 [00:00<00:00, 15.36it/s, train_loss=0.00142, valid_loss=0.00753]\n",
      "Epoch: 29/50: 100%|██████████| 9/9 [00:00<00:00, 15.22it/s, train_loss=0.00144, valid_loss=0.00694]\n",
      "Epoch: 30/50: 100%|██████████| 9/9 [00:00<00:00, 15.32it/s, train_loss=0.0013, valid_loss=0.0109]  \n",
      "Epoch: 31/50: 100%|██████████| 9/9 [00:00<00:00, 14.63it/s, train_loss=0.00133, valid_loss=0.00845]\n",
      "Epoch: 32/50: 100%|██████████| 9/9 [00:00<00:00, 13.61it/s, train_loss=0.00121, valid_loss=0.0106]\n",
      "Epoch: 33/50: 100%|██████████| 9/9 [00:00<00:00, 14.88it/s, train_loss=0.00135, valid_loss=0.00906]\n",
      "Epoch: 34/50: 100%|██████████| 9/9 [00:00<00:00, 14.83it/s, train_loss=0.00123, valid_loss=0.0098] \n",
      "Epoch: 35/50: 100%|██████████| 9/9 [00:00<00:00, 15.11it/s, train_loss=0.00116, valid_loss=0.0111] \n",
      "Epoch: 36/50: 100%|██████████| 9/9 [00:00<00:00, 15.22it/s, train_loss=0.00142, valid_loss=0.00862]\n",
      "Epoch: 37/50: 100%|██████████| 9/9 [00:00<00:00, 15.31it/s, train_loss=0.00123, valid_loss=0.0114] \n",
      "Epoch: 38/50: 100%|██████████| 9/9 [00:00<00:00, 15.40it/s, train_loss=0.0012, valid_loss=0.00938]\n",
      "Epoch: 39/50: 100%|██████████| 9/9 [00:00<00:00, 15.26it/s, train_loss=0.00105, valid_loss=0.0121] \n"
     ]
    },
    {
     "name": "stdout",
     "output_type": "stream",
     "text": [
      "cross-validation dataset 1\n"
     ]
    },
    {
     "name": "stderr",
     "output_type": "stream",
     "text": [
      "Epoch: 1/50: 100%|██████████| 17/17 [00:01<00:00, 14.50it/s, train_loss=0.0199, valid_loss=0.0235]\n",
      "Epoch: 2/50: 100%|██████████| 17/17 [00:01<00:00, 14.74it/s, train_loss=0.0181, valid_loss=0.0155]\n",
      "Epoch: 3/50: 100%|██████████| 17/17 [00:01<00:00, 13.54it/s, train_loss=0.00757, valid_loss=0.00674]\n",
      "Epoch: 4/50: 100%|██████████| 17/17 [00:01<00:00, 14.52it/s, train_loss=0.00503, valid_loss=0.00299]\n",
      "Epoch: 5/50: 100%|██████████| 17/17 [00:01<00:00, 14.44it/s, train_loss=0.00258, valid_loss=0.00281]\n",
      "Epoch: 6/50: 100%|██████████| 17/17 [00:01<00:00, 15.10it/s, train_loss=0.00263, valid_loss=0.0022] \n",
      "Epoch: 7/50: 100%|██████████| 17/17 [00:01<00:00, 14.47it/s, train_loss=0.00224, valid_loss=0.0023] \n",
      "Epoch: 8/50: 100%|██████████| 17/17 [00:01<00:00, 13.58it/s, train_loss=0.0026, valid_loss=0.00215] \n",
      "Epoch: 9/50: 100%|██████████| 17/17 [00:01<00:00, 14.94it/s, train_loss=0.00273, valid_loss=0.00181]\n",
      "Epoch: 10/50: 100%|██████████| 17/17 [00:01<00:00, 14.60it/s, train_loss=0.00281, valid_loss=0.00182]\n",
      "Epoch: 11/50: 100%|██████████| 17/17 [00:01<00:00, 14.48it/s, train_loss=0.00261, valid_loss=0.0018] \n",
      "Epoch: 12/50: 100%|██████████| 17/17 [00:01<00:00, 14.84it/s, train_loss=0.00233, valid_loss=0.00207]\n",
      "Epoch: 13/50: 100%|██████████| 17/17 [00:01<00:00, 13.68it/s, train_loss=0.00212, valid_loss=0.00174]\n",
      "Epoch: 14/50: 100%|██████████| 17/17 [00:01<00:00, 14.86it/s, train_loss=0.00194, valid_loss=0.00173]\n",
      "Epoch: 15/50: 100%|██████████| 17/17 [00:01<00:00, 12.03it/s, train_loss=0.00185, valid_loss=0.00165]\n",
      "Epoch: 16/50: 100%|██████████| 17/17 [00:01<00:00, 14.61it/s, train_loss=0.00166, valid_loss=0.00192]\n",
      "Epoch: 17/50: 100%|██████████| 17/17 [00:01<00:00, 14.94it/s, train_loss=0.0019, valid_loss=0.00193] \n",
      "Epoch: 18/50: 100%|██████████| 17/17 [00:01<00:00, 13.66it/s, train_loss=0.0021, valid_loss=0.00168] \n",
      "Epoch: 19/50: 100%|██████████| 17/17 [00:01<00:00, 14.10it/s, train_loss=0.00174, valid_loss=0.00169]\n",
      "Epoch: 20/50: 100%|██████████| 17/17 [00:01<00:00, 14.80it/s, train_loss=0.00168, valid_loss=0.00156]\n",
      "Epoch: 21/50: 100%|██████████| 17/17 [00:01<00:00, 14.81it/s, train_loss=0.00169, valid_loss=0.00178]\n",
      "Epoch: 22/50: 100%|██████████| 17/17 [00:01<00:00, 11.50it/s, train_loss=0.00139, valid_loss=0.00173]\n",
      "Epoch: 23/50: 100%|██████████| 17/17 [00:01<00:00, 13.87it/s, train_loss=0.00138, valid_loss=0.00165]\n",
      "Epoch: 24/50: 100%|██████████| 17/17 [00:01<00:00, 12.98it/s, train_loss=0.00137, valid_loss=0.00164]\n",
      "Epoch: 25/50: 100%|██████████| 17/17 [00:01<00:00, 14.49it/s, train_loss=0.00127, valid_loss=0.00187]\n",
      "Epoch: 26/50: 100%|██████████| 17/17 [00:01<00:00, 14.64it/s, train_loss=0.00131, valid_loss=0.00198]\n",
      "Epoch: 27/50: 100%|██████████| 17/17 [00:01<00:00, 15.01it/s, train_loss=0.00156, valid_loss=0.00157]\n",
      "Epoch: 28/50: 100%|██████████| 17/17 [00:01<00:00, 14.96it/s, train_loss=0.00124, valid_loss=0.00156]\n",
      "Epoch: 29/50: 100%|██████████| 17/17 [00:01<00:00, 11.75it/s, train_loss=0.00118, valid_loss=0.00162]\n",
      "Epoch: 30/50: 100%|██████████| 17/17 [00:01<00:00, 14.77it/s, train_loss=0.00143, valid_loss=0.00153]\n",
      "Epoch: 31/50: 100%|██████████| 17/17 [00:01<00:00, 14.39it/s, train_loss=0.00105, valid_loss=0.00179]\n",
      "Epoch: 32/50: 100%|██████████| 17/17 [00:01<00:00, 14.68it/s, train_loss=0.000883, valid_loss=0.0017]\n",
      "Epoch: 33/50: 100%|██████████| 17/17 [00:01<00:00, 14.64it/s, train_loss=0.000987, valid_loss=0.00175]\n",
      "Epoch: 34/50: 100%|██████████| 17/17 [00:01<00:00, 14.08it/s, train_loss=0.000928, valid_loss=0.00182]\n",
      "Epoch: 35/50: 100%|██████████| 17/17 [00:01<00:00, 14.66it/s, train_loss=0.000816, valid_loss=0.00205]\n"
     ]
    },
    {
     "name": "stdout",
     "output_type": "stream",
     "text": [
      "cross-validation dataset 2\n"
     ]
    },
    {
     "name": "stderr",
     "output_type": "stream",
     "text": [
      "Epoch: 1/50: 100%|██████████| 25/25 [00:01<00:00, 13.62it/s, train_loss=0.0219, valid_loss=0.0258]\n",
      "Epoch: 2/50: 100%|██████████| 25/25 [00:01<00:00, 15.50it/s, train_loss=0.00767, valid_loss=0.0161]\n",
      "Epoch: 3/50: 100%|██████████| 25/25 [00:01<00:00, 15.90it/s, train_loss=0.00398, valid_loss=0.00437]\n",
      "Epoch: 4/50: 100%|██████████| 25/25 [00:01<00:00, 15.48it/s, train_loss=0.00248, valid_loss=0.00356]\n",
      "Epoch: 5/50: 100%|██████████| 25/25 [00:01<00:00, 16.08it/s, train_loss=0.00251, valid_loss=0.00326]\n",
      "Epoch: 6/50: 100%|██████████| 25/25 [00:01<00:00, 15.20it/s, train_loss=0.00247, valid_loss=0.00311]\n",
      "Epoch: 7/50: 100%|██████████| 25/25 [00:01<00:00, 15.76it/s, train_loss=0.002, valid_loss=0.00319]  \n",
      "Epoch: 8/50: 100%|██████████| 25/25 [00:01<00:00, 14.90it/s, train_loss=0.00213, valid_loss=0.00298]\n",
      "Epoch: 9/50: 100%|██████████| 25/25 [00:01<00:00, 15.70it/s, train_loss=0.00203, valid_loss=0.00293]\n",
      "Epoch: 10/50: 100%|██████████| 25/25 [00:01<00:00, 16.03it/s, train_loss=0.00208, valid_loss=0.00307]\n",
      "Epoch: 11/50: 100%|██████████| 25/25 [00:01<00:00, 15.84it/s, train_loss=0.00213, valid_loss=0.00341]\n",
      "Epoch: 12/50: 100%|██████████| 25/25 [00:01<00:00, 14.24it/s, train_loss=0.00227, valid_loss=0.00283]\n",
      "Epoch: 13/50: 100%|██████████| 25/25 [00:01<00:00, 15.68it/s, train_loss=0.00182, valid_loss=0.00279]\n",
      "Epoch: 14/50: 100%|██████████| 25/25 [00:01<00:00, 16.28it/s, train_loss=0.0019, valid_loss=0.00319] \n",
      "Epoch: 15/50: 100%|██████████| 25/25 [00:01<00:00, 16.00it/s, train_loss=0.00184, valid_loss=0.00307]\n",
      "Epoch: 16/50: 100%|██████████| 25/25 [00:01<00:00, 14.98it/s, train_loss=0.00194, valid_loss=0.0029] \n",
      "Epoch: 17/50: 100%|██████████| 25/25 [00:01<00:00, 13.85it/s, train_loss=0.002, valid_loss=0.00293]  \n",
      "Epoch: 18/50: 100%|██████████| 25/25 [00:01<00:00, 15.83it/s, train_loss=0.0017, valid_loss=0.00291] \n",
      "Epoch: 19/50: 100%|██████████| 25/25 [00:01<00:00, 15.83it/s, train_loss=0.00205, valid_loss=0.00349]\n",
      "Epoch: 20/50: 100%|██████████| 25/25 [00:01<00:00, 14.91it/s, train_loss=0.00153, valid_loss=0.00318]\n",
      "Epoch: 21/50: 100%|██████████| 25/25 [00:01<00:00, 15.53it/s, train_loss=0.00151, valid_loss=0.0037] \n",
      "Epoch: 22/50: 100%|██████████| 25/25 [00:01<00:00, 14.23it/s, train_loss=0.00145, valid_loss=0.00382]\n",
      "Epoch: 23/50: 100%|██████████| 25/25 [00:01<00:00, 15.78it/s, train_loss=0.00145, valid_loss=0.00339]\n",
      "Epoch: 24/50: 100%|██████████| 25/25 [00:01<00:00, 15.28it/s, train_loss=0.00133, valid_loss=0.00349]\n"
     ]
    },
    {
     "name": "stdout",
     "output_type": "stream",
     "text": [
      "cross-validation dataset 3\n"
     ]
    },
    {
     "name": "stderr",
     "output_type": "stream",
     "text": [
      "Epoch: 1/50: 100%|██████████| 33/33 [00:02<00:00, 15.45it/s, train_loss=0.026, valid_loss=0.0306] \n",
      "Epoch: 2/50: 100%|██████████| 33/33 [00:02<00:00, 15.12it/s, train_loss=0.00586, valid_loss=0.0056] \n",
      "Epoch: 3/50: 100%|██████████| 33/33 [00:02<00:00, 13.28it/s, train_loss=0.00315, valid_loss=0.00198]\n",
      "Epoch: 4/50: 100%|██████████| 33/33 [00:02<00:00, 14.84it/s, train_loss=0.00287, valid_loss=0.00154]\n",
      "Epoch: 5/50: 100%|██████████| 33/33 [00:02<00:00, 15.56it/s, train_loss=0.00252, valid_loss=0.00162]\n",
      "Epoch: 6/50: 100%|██████████| 33/33 [00:02<00:00, 14.34it/s, train_loss=0.00237, valid_loss=0.00151]\n",
      "Epoch: 7/50: 100%|██████████| 33/33 [00:02<00:00, 15.18it/s, train_loss=0.00229, valid_loss=0.00169]\n",
      "Epoch: 8/50: 100%|██████████| 33/33 [00:02<00:00, 14.98it/s, train_loss=0.00219, valid_loss=0.00118]\n",
      "Epoch: 9/50: 100%|██████████| 33/33 [00:02<00:00, 15.33it/s, train_loss=0.0022, valid_loss=0.00172] \n",
      "Epoch: 10/50: 100%|██████████| 33/33 [00:02<00:00, 14.26it/s, train_loss=0.0021, valid_loss=0.00148] \n",
      "Epoch: 11/50: 100%|██████████| 33/33 [00:02<00:00, 15.24it/s, train_loss=0.0018, valid_loss=0.00119]  \n",
      "Epoch: 12/50: 100%|██████████| 33/33 [00:02<00:00, 15.27it/s, train_loss=0.00165, valid_loss=0.00133]\n",
      "Epoch: 13/50: 100%|██████████| 33/33 [00:02<00:00, 15.26it/s, train_loss=0.00196, valid_loss=0.00105] \n",
      "Epoch: 14/50: 100%|██████████| 33/33 [00:02<00:00, 15.29it/s, train_loss=0.00177, valid_loss=0.000985]\n",
      "Epoch: 15/50: 100%|██████████| 33/33 [00:02<00:00, 15.44it/s, train_loss=0.00151, valid_loss=0.00129] \n",
      "Epoch: 16/50: 100%|██████████| 33/33 [00:02<00:00, 15.79it/s, train_loss=0.00153, valid_loss=0.000893]\n",
      "Epoch: 17/50: 100%|██████████| 33/33 [00:02<00:00, 15.13it/s, train_loss=0.00199, valid_loss=0.00142] \n",
      "Epoch: 18/50: 100%|██████████| 33/33 [00:02<00:00, 14.80it/s, train_loss=0.00174, valid_loss=0.000882]\n",
      "Epoch: 19/50: 100%|██████████| 33/33 [00:02<00:00, 15.40it/s, train_loss=0.00179, valid_loss=0.000993]\n",
      "Epoch: 20/50: 100%|██████████| 33/33 [00:02<00:00, 15.66it/s, train_loss=0.00147, valid_loss=0.00107] \n",
      "Epoch: 21/50: 100%|██████████| 33/33 [00:02<00:00, 15.58it/s, train_loss=0.00149, valid_loss=0.000914]\n",
      "Epoch: 22/50: 100%|██████████| 33/33 [00:02<00:00, 15.42it/s, train_loss=0.00157, valid_loss=0.00132] \n",
      "Epoch: 23/50: 100%|██████████| 33/33 [00:02<00:00, 15.08it/s, train_loss=0.00159, valid_loss=0.000941]\n",
      "Epoch: 24/50: 100%|██████████| 33/33 [00:02<00:00, 15.73it/s, train_loss=0.00143, valid_loss=0.00128] \n",
      "Epoch: 25/50: 100%|██████████| 33/33 [00:02<00:00, 15.78it/s, train_loss=0.00172, valid_loss=0.00137]\n"
     ]
    },
    {
     "name": "stdout",
     "output_type": "stream",
     "text": [
      "cross-validation dataset 4\n"
     ]
    },
    {
     "name": "stderr",
     "output_type": "stream",
     "text": [
      "Epoch: 1/50: 100%|██████████| 42/42 [00:03<00:00, 13.91it/s, train_loss=0.154, valid_loss=0.188]\n",
      "Epoch: 2/50: 100%|██████████| 42/42 [00:02<00:00, 14.86it/s, train_loss=0.163, valid_loss=0.189]\n",
      "Epoch: 3/50: 100%|██████████| 42/42 [00:02<00:00, 14.50it/s, train_loss=0.166, valid_loss=0.188]\n",
      "Epoch: 4/50: 100%|██████████| 42/42 [00:02<00:00, 15.88it/s, train_loss=0.163, valid_loss=0.189]\n",
      "Epoch: 5/50: 100%|██████████| 42/42 [00:02<00:00, 15.88it/s, train_loss=0.167, valid_loss=0.188]\n",
      "Epoch: 6/50: 100%|██████████| 42/42 [00:02<00:00, 15.32it/s, train_loss=0.157, valid_loss=0.189]\n",
      "Epoch: 7/50: 100%|██████████| 42/42 [00:02<00:00, 15.90it/s, train_loss=0.154, valid_loss=0.188]\n",
      "Epoch: 8/50: 100%|██████████| 42/42 [00:02<00:00, 15.36it/s, train_loss=0.173, valid_loss=0.188]\n",
      "Epoch: 9/50: 100%|██████████| 42/42 [00:02<00:00, 15.71it/s, train_loss=0.167, valid_loss=0.189]\n",
      "Epoch: 10/50: 100%|██████████| 42/42 [00:02<00:00, 15.14it/s, train_loss=0.165, valid_loss=0.189]\n",
      "Epoch: 11/50: 100%|██████████| 42/42 [00:02<00:00, 15.75it/s, train_loss=0.167, valid_loss=0.19] \n",
      "Epoch: 12/50: 100%|██████████| 42/42 [00:02<00:00, 14.88it/s, train_loss=0.162, valid_loss=0.189]\n",
      "Epoch: 13/50: 100%|██████████| 42/42 [00:02<00:00, 14.78it/s, train_loss=0.169, valid_loss=0.188]\n"
     ]
    },
    {
     "name": "stdout",
     "output_type": "stream",
     "text": [
      "cross-validation dataset 4\n"
     ]
    },
    {
     "name": "stderr",
     "output_type": "stream",
     "text": [
      "Epoch: 1/50: 100%|██████████| 42/42 [00:02<00:00, 15.80it/s, train_loss=0.161, valid_loss=0.188]\n",
      "Epoch: 2/50: 100%|██████████| 42/42 [00:02<00:00, 16.58it/s, train_loss=0.0186, valid_loss=0.017] \n",
      "Epoch: 3/50: 100%|██████████| 42/42 [00:03<00:00, 13.89it/s, train_loss=0.00504, valid_loss=0.0053] \n",
      "Epoch: 4/50: 100%|██████████| 42/42 [00:02<00:00, 15.72it/s, train_loss=0.00333, valid_loss=0.00424]\n",
      "Epoch: 5/50: 100%|██████████| 42/42 [00:02<00:00, 15.32it/s, train_loss=0.00274, valid_loss=0.00347]\n",
      "Epoch: 6/50: 100%|██████████| 42/42 [00:02<00:00, 15.96it/s, train_loss=0.00219, valid_loss=0.00318]\n",
      "Epoch: 7/50: 100%|██████████| 42/42 [00:02<00:00, 15.59it/s, train_loss=0.00252, valid_loss=0.00336]\n",
      "Epoch: 8/50: 100%|██████████| 42/42 [00:02<00:00, 15.11it/s, train_loss=0.00223, valid_loss=0.00302]\n",
      "Epoch: 9/50: 100%|██████████| 42/42 [00:02<00:00, 14.96it/s, train_loss=0.00192, valid_loss=0.00317]\n",
      "Epoch: 10/50: 100%|██████████| 42/42 [00:02<00:00, 15.64it/s, train_loss=0.00177, valid_loss=0.00277]\n",
      "Epoch: 11/50: 100%|██████████| 42/42 [00:02<00:00, 14.74it/s, train_loss=0.0017, valid_loss=0.00266] \n",
      "Epoch: 12/50: 100%|██████████| 42/42 [00:02<00:00, 14.51it/s, train_loss=0.00164, valid_loss=0.00259]\n",
      "Epoch: 13/50: 100%|██████████| 42/42 [00:02<00:00, 15.56it/s, train_loss=0.00172, valid_loss=0.00283]\n",
      "Epoch: 14/50: 100%|██████████| 42/42 [00:02<00:00, 15.38it/s, train_loss=0.00145, valid_loss=0.00257]\n",
      "Epoch: 15/50: 100%|██████████| 42/42 [00:02<00:00, 15.07it/s, train_loss=0.00157, valid_loss=0.00252]\n",
      "Epoch: 16/50: 100%|██████████| 42/42 [00:02<00:00, 14.04it/s, train_loss=0.00131, valid_loss=0.00234]\n",
      "Epoch: 17/50: 100%|██████████| 42/42 [00:02<00:00, 15.56it/s, train_loss=0.00122, valid_loss=0.00254]\n",
      "Epoch: 18/50: 100%|██████████| 42/42 [00:02<00:00, 15.25it/s, train_loss=0.00138, valid_loss=0.00262]\n",
      "Epoch: 19/50: 100%|██████████| 42/42 [00:02<00:00, 15.81it/s, train_loss=0.00128, valid_loss=0.00277]\n",
      "Epoch: 20/50: 100%|██████████| 42/42 [00:02<00:00, 15.61it/s, train_loss=0.00123, valid_loss=0.00272]\n",
      "Epoch: 21/50: 100%|██████████| 42/42 [00:02<00:00, 15.23it/s, train_loss=0.00135, valid_loss=0.00261]\n",
      "Epoch: 22/50: 100%|██████████| 42/42 [00:02<00:00, 14.37it/s, train_loss=0.00138, valid_loss=0.00285]\n"
     ]
    },
    {
     "name": "stdout",
     "output_type": "stream",
     "text": [
      "model config: batch_size-512, lr-0.001, number_epoch-50, hidden_dim-120, n_layers-3,drop_prob-0.6,weight_decay-1e-08\n",
      "cross-validation dataset 0\n"
     ]
    },
    {
     "name": "stderr",
     "output_type": "stream",
     "text": [
      "Epoch: 1/50: 100%|██████████| 9/9 [00:00<00:00, 10.82it/s, train_loss=0.109, valid_loss=0.175]\n",
      "Epoch: 2/50: 100%|██████████| 9/9 [00:00<00:00, 10.76it/s, train_loss=0.107, valid_loss=0.176]\n",
      "Epoch: 3/50: 100%|██████████| 9/9 [00:00<00:00, 10.84it/s, train_loss=0.108, valid_loss=0.176]\n",
      "Epoch: 4/50: 100%|██████████| 9/9 [00:00<00:00, 10.90it/s, train_loss=0.113, valid_loss=0.175]\n",
      "Epoch: 5/50: 100%|██████████| 9/9 [00:00<00:00, 10.73it/s, train_loss=0.105, valid_loss=0.174]\n",
      "Epoch: 6/50: 100%|██████████| 9/9 [00:00<00:00, 10.74it/s, train_loss=0.104, valid_loss=0.174]\n",
      "Epoch: 7/50: 100%|██████████| 9/9 [00:00<00:00, 10.89it/s, train_loss=0.107, valid_loss=0.175]\n",
      "Epoch: 8/50: 100%|██████████| 9/9 [00:00<00:00,  9.78it/s, train_loss=0.107, valid_loss=0.175]\n",
      "Epoch: 9/50: 100%|██████████| 9/9 [00:00<00:00,  9.05it/s, train_loss=0.107, valid_loss=0.174]\n",
      "Epoch: 10/50: 100%|██████████| 9/9 [00:00<00:00, 10.91it/s, train_loss=0.109, valid_loss=0.175]\n",
      "Epoch: 11/50: 100%|██████████| 9/9 [00:00<00:00, 10.82it/s, train_loss=0.108, valid_loss=0.175]\n",
      "Epoch: 12/50: 100%|██████████| 9/9 [00:00<00:00, 10.78it/s, train_loss=0.102, valid_loss=0.177]\n",
      "Epoch: 13/50: 100%|██████████| 9/9 [00:00<00:00, 10.81it/s, train_loss=0.109, valid_loss=0.176]\n",
      "Epoch: 14/50: 100%|██████████| 9/9 [00:00<00:00, 11.52it/s, train_loss=0.11, valid_loss=0.175] \n",
      "Epoch: 15/50: 100%|██████████| 9/9 [00:00<00:00, 11.18it/s, train_loss=0.106, valid_loss=0.175]\n",
      "Epoch: 16/50: 100%|██████████| 9/9 [00:00<00:00, 11.24it/s, train_loss=0.106, valid_loss=0.175]\n",
      "Epoch: 17/50: 100%|██████████| 9/9 [00:00<00:00, 10.23it/s, train_loss=0.107, valid_loss=0.176]\n",
      "Epoch: 18/50: 100%|██████████| 9/9 [00:00<00:00, 10.79it/s, train_loss=0.104, valid_loss=0.176]\n",
      "Epoch: 19/50: 100%|██████████| 9/9 [00:00<00:00, 12.67it/s, train_loss=0.109, valid_loss=0.177]\n",
      "Epoch: 20/50: 100%|██████████| 9/9 [00:00<00:00, 10.93it/s, train_loss=0.112, valid_loss=0.173]\n",
      "Epoch: 21/50: 100%|██████████| 9/9 [00:00<00:00, 10.76it/s, train_loss=0.105, valid_loss=0.175]\n",
      "Epoch: 22/50: 100%|██████████| 9/9 [00:00<00:00, 11.09it/s, train_loss=0.11, valid_loss=0.176] \n",
      "Epoch: 23/50: 100%|██████████| 9/9 [00:00<00:00, 11.12it/s, train_loss=0.107, valid_loss=0.175]\n",
      "Epoch: 24/50: 100%|██████████| 9/9 [00:00<00:00, 10.90it/s, train_loss=0.106, valid_loss=0.177]\n",
      "Epoch: 25/50: 100%|██████████| 9/9 [00:00<00:00, 12.15it/s, train_loss=0.108, valid_loss=0.175]\n",
      "Epoch: 26/50: 100%|██████████| 9/9 [00:00<00:00, 10.92it/s, train_loss=0.106, valid_loss=0.173]\n",
      "Epoch: 27/50: 100%|██████████| 9/9 [00:00<00:00, 11.56it/s, train_loss=0.107, valid_loss=0.175]\n",
      "Epoch: 28/50: 100%|██████████| 9/9 [00:00<00:00, 11.12it/s, train_loss=0.109, valid_loss=0.173]\n",
      "Epoch: 29/50: 100%|██████████| 9/9 [00:00<00:00, 11.19it/s, train_loss=0.11, valid_loss=0.175] \n",
      "Epoch: 30/50: 100%|██████████| 9/9 [00:00<00:00, 11.86it/s, train_loss=0.109, valid_loss=0.175]\n",
      "Epoch: 31/50: 100%|██████████| 9/9 [00:00<00:00, 11.57it/s, train_loss=0.106, valid_loss=0.176]\n"
     ]
    },
    {
     "name": "stdout",
     "output_type": "stream",
     "text": [
      "cross-validation dataset 0\n"
     ]
    },
    {
     "name": "stderr",
     "output_type": "stream",
     "text": [
      "Epoch: 1/50: 100%|██████████| 9/9 [00:00<00:00, 10.47it/s, train_loss=0.0193, valid_loss=0.0353]\n",
      "Epoch: 2/50: 100%|██████████| 9/9 [00:00<00:00, 11.29it/s, train_loss=0.0199, valid_loss=0.0436]\n",
      "Epoch: 3/50: 100%|██████████| 9/9 [00:00<00:00, 10.88it/s, train_loss=0.0162, valid_loss=0.0398]\n",
      "Epoch: 4/50: 100%|██████████| 9/9 [00:00<00:00, 10.95it/s, train_loss=0.0135, valid_loss=0.0347]\n",
      "Epoch: 5/50: 100%|██████████| 9/9 [00:00<00:00, 10.86it/s, train_loss=0.0104, valid_loss=0.0503]\n",
      "Epoch: 6/50: 100%|██████████| 9/9 [00:00<00:00, 10.94it/s, train_loss=0.00742, valid_loss=0.0321]\n",
      "Epoch: 7/50: 100%|██████████| 9/9 [00:00<00:00, 11.04it/s, train_loss=0.00475, valid_loss=0.0111]\n",
      "Epoch: 8/50: 100%|██████████| 9/9 [00:00<00:00, 10.86it/s, train_loss=0.00385, valid_loss=0.00989]\n",
      "Epoch: 9/50: 100%|██████████| 9/9 [00:00<00:00, 11.60it/s, train_loss=0.00341, valid_loss=0.00857]\n",
      "Epoch: 10/50: 100%|██████████| 9/9 [00:00<00:00, 10.75it/s, train_loss=0.00294, valid_loss=0.00748]\n",
      "Epoch: 11/50: 100%|██████████| 9/9 [00:00<00:00, 10.72it/s, train_loss=0.00296, valid_loss=0.00657]\n",
      "Epoch: 12/50: 100%|██████████| 9/9 [00:00<00:00, 11.50it/s, train_loss=0.00273, valid_loss=0.00823]\n",
      "Epoch: 13/50: 100%|██████████| 9/9 [00:00<00:00, 11.20it/s, train_loss=0.00237, valid_loss=0.00956]\n",
      "Epoch: 14/50: 100%|██████████| 9/9 [00:00<00:00, 11.23it/s, train_loss=0.0021, valid_loss=0.00772] \n",
      "Epoch: 15/50: 100%|██████████| 9/9 [00:00<00:00, 11.32it/s, train_loss=0.00212, valid_loss=0.00958]\n",
      "Epoch: 16/50: 100%|██████████| 9/9 [00:00<00:00, 10.27it/s, train_loss=0.0021, valid_loss=0.00793]\n",
      "Epoch: 17/50: 100%|██████████| 9/9 [00:00<00:00, 11.29it/s, train_loss=0.00206, valid_loss=0.00732]\n",
      "Epoch: 18/50: 100%|██████████| 9/9 [00:00<00:00, 10.87it/s, train_loss=0.00208, valid_loss=0.00633]\n",
      "Epoch: 19/50: 100%|██████████| 9/9 [00:00<00:00, 10.74it/s, train_loss=0.002, valid_loss=0.00823]  \n",
      "Epoch: 20/50: 100%|██████████| 9/9 [00:00<00:00, 10.89it/s, train_loss=0.0019, valid_loss=0.00835] \n",
      "Epoch: 21/50: 100%|██████████| 9/9 [00:00<00:00, 11.31it/s, train_loss=0.00181, valid_loss=0.00755]\n",
      "Epoch: 22/50: 100%|██████████| 9/9 [00:00<00:00, 10.68it/s, train_loss=0.00168, valid_loss=0.00741]\n",
      "Epoch: 23/50: 100%|██████████| 9/9 [00:00<00:00, 10.81it/s, train_loss=0.00166, valid_loss=0.00703]\n",
      "Epoch: 24/50: 100%|██████████| 9/9 [00:00<00:00, 10.01it/s, train_loss=0.0016, valid_loss=0.00744] \n",
      "Epoch: 25/50: 100%|██████████| 9/9 [00:00<00:00, 11.06it/s, train_loss=0.00163, valid_loss=0.00695]\n",
      "Epoch: 26/50: 100%|██████████| 9/9 [00:00<00:00, 11.02it/s, train_loss=0.00159, valid_loss=0.00824]\n",
      "Epoch: 27/50: 100%|██████████| 9/9 [00:00<00:00, 11.33it/s, train_loss=0.00153, valid_loss=0.00978]\n",
      "Epoch: 28/50: 100%|██████████| 9/9 [00:00<00:00, 11.04it/s, train_loss=0.00161, valid_loss=0.00894]\n",
      "Epoch: 29/50: 100%|██████████| 9/9 [00:00<00:00, 11.50it/s, train_loss=0.00152, valid_loss=0.00922]\n",
      "Epoch: 30/50: 100%|██████████| 9/9 [00:00<00:00, 10.84it/s, train_loss=0.0014, valid_loss=0.00904] \n",
      "Epoch: 31/50: 100%|██████████| 9/9 [00:00<00:00, 11.19it/s, train_loss=0.00132, valid_loss=0.0105]\n",
      "Epoch: 32/50: 100%|██████████| 9/9 [00:00<00:00, 12.10it/s, train_loss=0.00136, valid_loss=0.0106] \n",
      "Epoch: 33/50: 100%|██████████| 9/9 [00:00<00:00, 11.28it/s, train_loss=0.00131, valid_loss=0.0106]\n",
      "Epoch: 34/50: 100%|██████████| 9/9 [00:00<00:00, 11.26it/s, train_loss=0.00129, valid_loss=0.0118]\n",
      "Epoch: 35/50: 100%|██████████| 9/9 [00:00<00:00, 11.20it/s, train_loss=0.00131, valid_loss=0.0129]\n",
      "Epoch: 36/50: 100%|██████████| 9/9 [00:00<00:00, 11.10it/s, train_loss=0.00134, valid_loss=0.0134]\n"
     ]
    },
    {
     "name": "stdout",
     "output_type": "stream",
     "text": [
      "cross-validation dataset 1\n"
     ]
    },
    {
     "name": "stderr",
     "output_type": "stream",
     "text": [
      "Epoch: 1/50: 100%|██████████| 17/17 [00:01<00:00, 10.38it/s, train_loss=0.141, valid_loss=0.163]\n",
      "Epoch: 2/50: 100%|██████████| 17/17 [00:01<00:00, 10.89it/s, train_loss=0.138, valid_loss=0.164]\n",
      "Epoch: 3/50: 100%|██████████| 17/17 [00:01<00:00, 10.99it/s, train_loss=0.137, valid_loss=0.163]\n",
      "Epoch: 4/50: 100%|██████████| 17/17 [00:01<00:00, 10.99it/s, train_loss=0.141, valid_loss=0.164]\n",
      "Epoch: 5/50: 100%|██████████| 17/17 [00:01<00:00, 10.77it/s, train_loss=0.145, valid_loss=0.163]\n",
      "Epoch: 6/50: 100%|██████████| 17/17 [00:01<00:00, 10.63it/s, train_loss=0.141, valid_loss=0.163]\n",
      "Epoch: 7/50: 100%|██████████| 17/17 [00:01<00:00,  9.87it/s, train_loss=0.137, valid_loss=0.163]\n",
      "Epoch: 8/50: 100%|██████████| 17/17 [00:01<00:00, 10.46it/s, train_loss=0.139, valid_loss=0.162]\n",
      "Epoch: 9/50: 100%|██████████| 17/17 [00:01<00:00, 10.42it/s, train_loss=0.149, valid_loss=0.163]\n",
      "Epoch: 10/50: 100%|██████████| 17/17 [00:01<00:00, 11.09it/s, train_loss=0.145, valid_loss=0.162]\n",
      "Epoch: 11/50: 100%|██████████| 17/17 [00:01<00:00, 10.81it/s, train_loss=0.149, valid_loss=0.164]\n",
      "Epoch: 12/50: 100%|██████████| 17/17 [00:01<00:00,  9.93it/s, train_loss=0.146, valid_loss=0.161]\n",
      "Epoch: 13/50: 100%|██████████| 17/17 [00:01<00:00, 10.80it/s, train_loss=0.138, valid_loss=0.164]\n",
      "Epoch: 14/50: 100%|██████████| 17/17 [00:01<00:00, 10.74it/s, train_loss=0.137, valid_loss=0.163]\n",
      "Epoch: 15/50: 100%|██████████| 17/17 [00:01<00:00,  9.39it/s, train_loss=0.15, valid_loss=0.162] \n",
      "Epoch: 16/50: 100%|██████████| 17/17 [00:01<00:00, 10.45it/s, train_loss=0.146, valid_loss=0.162]\n",
      "Epoch: 17/50: 100%|██████████| 17/17 [00:01<00:00, 10.13it/s, train_loss=0.14, valid_loss=0.162]\n",
      "Epoch: 18/50: 100%|██████████| 17/17 [00:01<00:00, 10.85it/s, train_loss=0.141, valid_loss=0.162]\n",
      "Epoch: 19/50: 100%|██████████| 17/17 [00:01<00:00, 10.83it/s, train_loss=0.136, valid_loss=0.163]\n",
      "Epoch: 20/50: 100%|██████████| 17/17 [00:01<00:00, 11.20it/s, train_loss=0.138, valid_loss=0.162]\n",
      "Epoch: 21/50: 100%|██████████| 17/17 [00:01<00:00, 10.43it/s, train_loss=0.14, valid_loss=0.162] \n",
      "Epoch: 22/50: 100%|██████████| 17/17 [00:01<00:00, 10.40it/s, train_loss=0.137, valid_loss=0.163]\n"
     ]
    },
    {
     "name": "stdout",
     "output_type": "stream",
     "text": [
      "cross-validation dataset 1\n"
     ]
    },
    {
     "name": "stderr",
     "output_type": "stream",
     "text": [
      "Epoch: 1/50: 100%|██████████| 17/17 [00:01<00:00,  9.96it/s, train_loss=0.0247, valid_loss=0.0274]\n",
      "Epoch: 2/50: 100%|██████████| 17/17 [00:01<00:00, 10.65it/s, train_loss=0.0222, valid_loss=0.0222]\n",
      "Epoch: 3/50: 100%|██████████| 17/17 [00:01<00:00, 10.50it/s, train_loss=0.00724, valid_loss=0.00638]\n",
      "Epoch: 4/50: 100%|██████████| 17/17 [00:01<00:00, 10.56it/s, train_loss=0.0048, valid_loss=0.00426] \n",
      "Epoch: 5/50: 100%|██████████| 17/17 [00:01<00:00, 10.46it/s, train_loss=0.0041, valid_loss=0.00343] \n",
      "Epoch: 6/50: 100%|██████████| 17/17 [00:01<00:00, 10.02it/s, train_loss=0.00358, valid_loss=0.00284]\n",
      "Epoch: 7/50: 100%|██████████| 17/17 [00:01<00:00, 10.60it/s, train_loss=0.00344, valid_loss=0.00245]\n",
      "Epoch: 8/50: 100%|██████████| 17/17 [00:01<00:00, 10.87it/s, train_loss=0.00319, valid_loss=0.00246]\n",
      "Epoch: 9/50: 100%|██████████| 17/17 [00:01<00:00, 10.33it/s, train_loss=0.00276, valid_loss=0.00229]\n",
      "Epoch: 10/50: 100%|██████████| 17/17 [00:01<00:00, 10.42it/s, train_loss=0.0028, valid_loss=0.00214]\n",
      "Epoch: 11/50: 100%|██████████| 17/17 [00:01<00:00, 10.16it/s, train_loss=0.00272, valid_loss=0.00206]\n",
      "Epoch: 12/50: 100%|██████████| 17/17 [00:01<00:00,  9.72it/s, train_loss=0.00242, valid_loss=0.00208]\n",
      "Epoch: 13/50: 100%|██████████| 17/17 [00:01<00:00, 10.29it/s, train_loss=0.00265, valid_loss=0.00198]\n",
      "Epoch: 14/50: 100%|██████████| 17/17 [00:01<00:00, 10.46it/s, train_loss=0.00248, valid_loss=0.00196]\n",
      "Epoch: 15/50: 100%|██████████| 17/17 [00:01<00:00,  9.24it/s, train_loss=0.00244, valid_loss=0.002]  \n",
      "Epoch: 16/50: 100%|██████████| 17/17 [00:01<00:00, 10.47it/s, train_loss=0.00235, valid_loss=0.00185]\n",
      "Epoch: 17/50: 100%|██████████| 17/17 [00:01<00:00, 10.39it/s, train_loss=0.0023, valid_loss=0.00196] \n",
      "Epoch: 18/50: 100%|██████████| 17/17 [00:01<00:00, 10.75it/s, train_loss=0.00217, valid_loss=0.00197]\n",
      "Epoch: 19/50: 100%|██████████| 17/17 [00:01<00:00, 10.67it/s, train_loss=0.002, valid_loss=0.00189]  \n",
      "Epoch: 20/50: 100%|██████████| 17/17 [00:01<00:00, 10.24it/s, train_loss=0.00184, valid_loss=0.00209]\n",
      "Epoch: 21/50: 100%|██████████| 17/17 [00:01<00:00, 10.95it/s, train_loss=0.00186, valid_loss=0.00213]\n",
      "Epoch: 22/50: 100%|██████████| 17/17 [00:01<00:00, 10.53it/s, train_loss=0.00193, valid_loss=0.00186]\n",
      "Epoch: 23/50: 100%|██████████| 17/17 [00:01<00:00, 10.84it/s, train_loss=0.00185, valid_loss=0.00183]\n",
      "Epoch: 24/50: 100%|██████████| 17/17 [00:01<00:00, 10.47it/s, train_loss=0.00158, valid_loss=0.00224]\n",
      "Epoch: 25/50: 100%|██████████| 17/17 [00:01<00:00, 10.53it/s, train_loss=0.00175, valid_loss=0.00176]\n",
      "Epoch: 26/50: 100%|██████████| 17/17 [00:01<00:00, 10.92it/s, train_loss=0.00168, valid_loss=0.00181]\n",
      "Epoch: 27/50: 100%|██████████| 17/17 [00:01<00:00, 10.12it/s, train_loss=0.00147, valid_loss=0.002]  \n",
      "Epoch: 28/50: 100%|██████████| 17/17 [00:01<00:00, 10.57it/s, train_loss=0.00158, valid_loss=0.00199]\n",
      "Epoch: 29/50: 100%|██████████| 17/17 [00:01<00:00, 10.57it/s, train_loss=0.00178, valid_loss=0.00196]\n",
      "Epoch: 30/50: 100%|██████████| 17/17 [00:01<00:00, 10.37it/s, train_loss=0.00149, valid_loss=0.0021] \n",
      "Epoch: 31/50: 100%|██████████| 17/17 [00:01<00:00, 10.29it/s, train_loss=0.00155, valid_loss=0.00197]\n",
      "Epoch: 32/50: 100%|██████████| 17/17 [00:01<00:00, 10.59it/s, train_loss=0.00124, valid_loss=0.00195]\n",
      "Epoch: 33/50: 100%|██████████| 17/17 [00:01<00:00,  9.98it/s, train_loss=0.00145, valid_loss=0.00203]\n",
      "Epoch: 34/50: 100%|██████████| 17/17 [00:01<00:00, 10.56it/s, train_loss=0.00136, valid_loss=0.00189]\n",
      "Epoch: 35/50: 100%|██████████| 17/17 [00:01<00:00, 10.46it/s, train_loss=0.00136, valid_loss=0.00172]\n",
      "Epoch: 36/50: 100%|██████████| 17/17 [00:01<00:00, 10.41it/s, train_loss=0.00127, valid_loss=0.00194]\n",
      "Epoch: 37/50: 100%|██████████| 17/17 [00:01<00:00, 10.55it/s, train_loss=0.00121, valid_loss=0.00181]\n",
      "Epoch: 38/50: 100%|██████████| 17/17 [00:01<00:00, 10.08it/s, train_loss=0.00126, valid_loss=0.00199]\n",
      "Epoch: 39/50: 100%|██████████| 17/17 [00:01<00:00, 10.75it/s, train_loss=0.00112, valid_loss=0.00206]\n",
      "Epoch: 40/50: 100%|██████████| 17/17 [00:01<00:00, 10.69it/s, train_loss=0.00115, valid_loss=0.00182]\n",
      "Epoch: 41/50: 100%|██████████| 17/17 [00:01<00:00, 10.65it/s, train_loss=0.0012, valid_loss=0.00247] \n"
     ]
    },
    {
     "name": "stdout",
     "output_type": "stream",
     "text": [
      "cross-validation dataset 2\n"
     ]
    },
    {
     "name": "stderr",
     "output_type": "stream",
     "text": [
      "Epoch: 1/50: 100%|██████████| 25/25 [00:02<00:00, 11.53it/s, train_loss=0.0256, valid_loss=0.0347]\n",
      "Epoch: 2/50: 100%|██████████| 25/25 [00:02<00:00, 11.01it/s, train_loss=0.00902, valid_loss=0.0153]\n",
      "Epoch: 3/50: 100%|██████████| 25/25 [00:02<00:00, 10.81it/s, train_loss=0.00453, valid_loss=0.00571]\n",
      "Epoch: 4/50: 100%|██████████| 25/25 [00:02<00:00, 10.73it/s, train_loss=0.00344, valid_loss=0.00426]\n",
      "Epoch: 5/50: 100%|██████████| 25/25 [00:02<00:00, 10.33it/s, train_loss=0.00303, valid_loss=0.00384]\n",
      "Epoch: 6/50: 100%|██████████| 25/25 [00:02<00:00, 10.38it/s, train_loss=0.00248, valid_loss=0.00374]\n",
      "Epoch: 7/50: 100%|██████████| 25/25 [00:02<00:00, 10.91it/s, train_loss=0.00236, valid_loss=0.00341]\n",
      "Epoch: 8/50: 100%|██████████| 25/25 [00:02<00:00, 10.75it/s, train_loss=0.00233, valid_loss=0.00334]\n",
      "Epoch: 9/50: 100%|██████████| 25/25 [00:02<00:00, 10.73it/s, train_loss=0.0024, valid_loss=0.00326] \n",
      "Epoch: 10/50: 100%|██████████| 25/25 [00:02<00:00,  9.95it/s, train_loss=0.00208, valid_loss=0.0031] \n",
      "Epoch: 11/50: 100%|██████████| 25/25 [00:02<00:00, 10.74it/s, train_loss=0.00228, valid_loss=0.00307]\n",
      "Epoch: 12/50: 100%|██████████| 25/25 [00:02<00:00, 10.87it/s, train_loss=0.00192, valid_loss=0.00293]\n",
      "Epoch: 13/50: 100%|██████████| 25/25 [00:02<00:00, 10.90it/s, train_loss=0.00199, valid_loss=0.00294]\n",
      "Epoch: 14/50: 100%|██████████| 25/25 [00:02<00:00,  9.96it/s, train_loss=0.00161, valid_loss=0.00284]\n",
      "Epoch: 15/50: 100%|██████████| 25/25 [00:02<00:00, 10.66it/s, train_loss=0.00168, valid_loss=0.0028] \n",
      "Epoch: 16/50: 100%|██████████| 25/25 [00:02<00:00, 11.06it/s, train_loss=0.00192, valid_loss=0.00287]\n",
      "Epoch: 17/50: 100%|██████████| 25/25 [00:02<00:00, 10.67it/s, train_loss=0.00161, valid_loss=0.00282]\n",
      "Epoch: 18/50: 100%|██████████| 25/25 [00:02<00:00,  9.77it/s, train_loss=0.0018, valid_loss=0.00305] \n",
      "Epoch: 19/50: 100%|██████████| 25/25 [00:02<00:00, 10.49it/s, train_loss=0.00155, valid_loss=0.00276]\n",
      "Epoch: 20/50: 100%|██████████| 25/25 [00:02<00:00, 10.36it/s, train_loss=0.0014, valid_loss=0.00289] \n",
      "Epoch: 21/50: 100%|██████████| 25/25 [00:02<00:00, 10.42it/s, train_loss=0.00134, valid_loss=0.00319]\n",
      "Epoch: 22/50: 100%|██████████| 25/25 [00:02<00:00,  9.95it/s, train_loss=0.00143, valid_loss=0.00333]\n",
      "Epoch: 23/50: 100%|██████████| 25/25 [00:02<00:00, 10.38it/s, train_loss=0.00129, valid_loss=0.00357]\n",
      "Epoch: 24/50: 100%|██████████| 25/25 [00:02<00:00, 10.46it/s, train_loss=0.00137, valid_loss=0.00328]\n",
      "Epoch: 25/50: 100%|██████████| 25/25 [00:02<00:00, 10.45it/s, train_loss=0.00127, valid_loss=0.00352]\n"
     ]
    },
    {
     "name": "stdout",
     "output_type": "stream",
     "text": [
      "cross-validation dataset 3\n"
     ]
    },
    {
     "name": "stderr",
     "output_type": "stream",
     "text": [
      "Epoch: 1/50: 100%|██████████| 33/33 [00:03<00:00,  9.46it/s, train_loss=0.0258, valid_loss=0.0284]\n",
      "Epoch: 2/50: 100%|██████████| 33/33 [00:03<00:00, 10.08it/s, train_loss=0.00542, valid_loss=0.00495]\n",
      "Epoch: 3/50: 100%|██████████| 33/33 [00:03<00:00,  9.84it/s, train_loss=0.00402, valid_loss=0.00299]\n",
      "Epoch: 4/50: 100%|██████████| 33/33 [00:03<00:00,  9.90it/s, train_loss=0.00307, valid_loss=0.00204]\n",
      "Epoch: 5/50: 100%|██████████| 33/33 [00:03<00:00,  9.77it/s, train_loss=0.00312, valid_loss=0.00204]\n",
      "Epoch: 6/50: 100%|██████████| 33/33 [00:03<00:00, 10.10it/s, train_loss=0.00286, valid_loss=0.00254]\n",
      "Epoch: 7/50: 100%|██████████| 33/33 [00:03<00:00,  9.10it/s, train_loss=0.0027, valid_loss=0.00172] \n",
      "Epoch: 8/50: 100%|██████████| 33/33 [00:03<00:00, 10.10it/s, train_loss=0.00229, valid_loss=0.00153]\n",
      "Epoch: 9/50: 100%|██████████| 33/33 [00:03<00:00, 10.10it/s, train_loss=0.00216, valid_loss=0.00143]\n",
      "Epoch: 10/50: 100%|██████████| 33/33 [00:03<00:00,  9.75it/s, train_loss=0.00204, valid_loss=0.00148]\n",
      "Epoch: 11/50: 100%|██████████| 33/33 [00:03<00:00, 10.21it/s, train_loss=0.00223, valid_loss=0.00144]\n",
      "Epoch: 12/50: 100%|██████████| 33/33 [00:03<00:00, 10.35it/s, train_loss=0.00237, valid_loss=0.00138]\n",
      "Epoch: 13/50: 100%|██████████| 33/33 [00:03<00:00, 10.41it/s, train_loss=0.00184, valid_loss=0.00127]\n",
      "Epoch: 14/50: 100%|██████████| 33/33 [00:03<00:00,  9.76it/s, train_loss=0.00171, valid_loss=0.00158]\n",
      "Epoch: 15/50: 100%|██████████| 33/33 [00:03<00:00,  9.92it/s, train_loss=0.00157, valid_loss=0.00111]\n",
      "Epoch: 16/50: 100%|██████████| 33/33 [00:03<00:00,  9.24it/s, train_loss=0.00172, valid_loss=0.00119]\n",
      "Epoch: 17/50: 100%|██████████| 33/33 [00:03<00:00, 10.36it/s, train_loss=0.00153, valid_loss=0.00125]\n",
      "Epoch: 18/50: 100%|██████████| 33/33 [00:03<00:00,  9.83it/s, train_loss=0.00176, valid_loss=0.00106]\n",
      "Epoch: 19/50: 100%|██████████| 33/33 [00:03<00:00, 10.03it/s, train_loss=0.00152, valid_loss=0.0013] \n",
      "Epoch: 20/50: 100%|██████████| 33/33 [00:03<00:00, 10.04it/s, train_loss=0.00141, valid_loss=0.00129]\n",
      "Epoch: 21/50: 100%|██████████| 33/33 [00:03<00:00, 10.75it/s, train_loss=0.00141, valid_loss=0.00116]\n",
      "Epoch: 22/50: 100%|██████████| 33/33 [00:03<00:00,  9.62it/s, train_loss=0.00137, valid_loss=0.00109]\n",
      "Epoch: 23/50: 100%|██████████| 33/33 [00:03<00:00, 10.20it/s, train_loss=0.00123, valid_loss=0.00106]\n",
      "Epoch: 24/50: 100%|██████████| 33/33 [00:03<00:00, 10.03it/s, train_loss=0.00145, valid_loss=0.00105]\n",
      "Epoch: 25/50: 100%|██████████| 33/33 [00:03<00:00,  9.45it/s, train_loss=0.00124, valid_loss=0.00101]\n",
      "Epoch: 26/50: 100%|██████████| 33/33 [00:03<00:00, 10.70it/s, train_loss=0.00124, valid_loss=0.00117]\n",
      "Epoch: 27/50: 100%|██████████| 33/33 [00:03<00:00, 10.06it/s, train_loss=0.00115, valid_loss=0.00108]\n",
      "Epoch: 28/50: 100%|██████████| 33/33 [00:03<00:00, 10.00it/s, train_loss=0.0011, valid_loss=0.00111] \n",
      "Epoch: 29/50: 100%|██████████| 33/33 [00:03<00:00, 10.28it/s, train_loss=0.00115, valid_loss=0.00121]\n",
      "Epoch: 30/50: 100%|██████████| 33/33 [00:03<00:00, 10.40it/s, train_loss=0.00117, valid_loss=0.00138]\n",
      "Epoch: 31/50: 100%|██████████| 33/33 [00:03<00:00, 10.04it/s, train_loss=0.00108, valid_loss=0.00139]\n",
      "Epoch: 32/50: 100%|██████████| 33/33 [00:03<00:00, 10.47it/s, train_loss=0.000972, valid_loss=0.00115]\n",
      "Epoch: 33/50: 100%|██████████| 33/33 [00:03<00:00, 10.05it/s, train_loss=0.000989, valid_loss=0.00132]\n"
     ]
    },
    {
     "name": "stdout",
     "output_type": "stream",
     "text": [
      "cross-validation dataset 4\n"
     ]
    },
    {
     "name": "stderr",
     "output_type": "stream",
     "text": [
      "Epoch: 1/50: 100%|██████████| 42/42 [00:04<00:00, 10.31it/s, train_loss=0.176, valid_loss=0.189]\n",
      "Epoch: 2/50: 100%|██████████| 42/42 [00:04<00:00, 10.24it/s, train_loss=0.16, valid_loss=0.189] \n",
      "Epoch: 3/50: 100%|██████████| 42/42 [00:04<00:00, 10.24it/s, train_loss=0.17, valid_loss=0.189] \n",
      "Epoch: 4/50: 100%|██████████| 42/42 [00:04<00:00, 10.46it/s, train_loss=0.172, valid_loss=0.19] \n",
      "Epoch: 5/50: 100%|██████████| 42/42 [00:04<00:00,  9.79it/s, train_loss=0.162, valid_loss=0.19] \n",
      "Epoch: 6/50: 100%|██████████| 42/42 [00:04<00:00, 10.31it/s, train_loss=0.167, valid_loss=0.188]\n",
      "Epoch: 7/50: 100%|██████████| 42/42 [00:04<00:00, 10.25it/s, train_loss=0.162, valid_loss=0.188]\n",
      "Epoch: 8/50: 100%|██████████| 42/42 [00:04<00:00,  9.91it/s, train_loss=0.167, valid_loss=0.189]\n",
      "Epoch: 9/50: 100%|██████████| 42/42 [00:03<00:00, 10.82it/s, train_loss=0.17, valid_loss=0.19]  \n",
      "Epoch: 10/50: 100%|██████████| 42/42 [00:04<00:00,  9.72it/s, train_loss=0.167, valid_loss=0.189]\n"
     ]
    },
    {
     "name": "stdout",
     "output_type": "stream",
     "text": [
      "cross-validation dataset 4\n"
     ]
    },
    {
     "name": "stderr",
     "output_type": "stream",
     "text": [
      "Epoch: 1/50: 100%|██████████| 42/42 [00:03<00:00, 10.72it/s, train_loss=0.171, valid_loss=0.188]\n",
      "Epoch: 2/50: 100%|██████████| 42/42 [00:04<00:00, 10.43it/s, train_loss=0.16, valid_loss=0.189] \n",
      "Epoch: 3/50: 100%|██████████| 42/42 [00:04<00:00, 10.08it/s, train_loss=0.165, valid_loss=0.188]\n",
      "Epoch: 4/50: 100%|██████████| 42/42 [00:04<00:00,  9.96it/s, train_loss=0.161, valid_loss=0.188]\n",
      "Epoch: 5/50: 100%|██████████| 42/42 [00:04<00:00, 10.41it/s, train_loss=0.171, valid_loss=0.189]\n",
      "Epoch: 6/50: 100%|██████████| 42/42 [00:04<00:00, 10.15it/s, train_loss=0.16, valid_loss=0.189] \n",
      "Epoch: 7/50: 100%|██████████| 42/42 [00:04<00:00, 10.19it/s, train_loss=0.154, valid_loss=0.188]\n",
      "Epoch: 8/50: 100%|██████████| 42/42 [00:03<00:00, 10.68it/s, train_loss=0.165, valid_loss=0.189]\n",
      "Epoch: 9/50: 100%|██████████| 42/42 [00:03<00:00, 10.54it/s, train_loss=0.17, valid_loss=0.188] \n"
     ]
    },
    {
     "name": "stdout",
     "output_type": "stream",
     "text": [
      "cross-validation dataset 4\n"
     ]
    },
    {
     "name": "stderr",
     "output_type": "stream",
     "text": [
      "Epoch: 1/50: 100%|██████████| 42/42 [00:03<00:00, 10.54it/s, train_loss=0.167, valid_loss=0.188]\n",
      "Epoch: 2/50: 100%|██████████| 42/42 [00:04<00:00, 10.33it/s, train_loss=0.166, valid_loss=0.188]\n",
      "Epoch: 3/50: 100%|██████████| 42/42 [00:03<00:00, 10.75it/s, train_loss=0.173, valid_loss=0.189]\n",
      "Epoch: 4/50: 100%|██████████| 42/42 [00:03<00:00, 10.53it/s, train_loss=0.171, valid_loss=0.19] \n",
      "Epoch: 5/50: 100%|██████████| 42/42 [00:03<00:00, 10.76it/s, train_loss=0.165, valid_loss=0.189]\n",
      "Epoch: 6/50: 100%|██████████| 42/42 [00:03<00:00, 10.76it/s, train_loss=0.168, valid_loss=0.189]\n",
      "Epoch: 7/50: 100%|██████████| 42/42 [00:03<00:00, 10.62it/s, train_loss=0.171, valid_loss=0.191]\n",
      "Epoch: 8/50: 100%|██████████| 42/42 [00:04<00:00, 10.18it/s, train_loss=0.163, valid_loss=0.188]\n",
      "Epoch: 9/50: 100%|██████████| 42/42 [00:03<00:00, 10.54it/s, train_loss=0.162, valid_loss=0.189]\n"
     ]
    },
    {
     "name": "stdout",
     "output_type": "stream",
     "text": [
      "cross-validation dataset 4\n"
     ]
    },
    {
     "name": "stderr",
     "output_type": "stream",
     "text": [
      "Epoch: 1/50: 100%|██████████| 42/42 [00:04<00:00,  9.59it/s, train_loss=0.00706, valid_loss=0.00919]\n",
      "Epoch: 2/50: 100%|██████████| 42/42 [00:04<00:00,  9.88it/s, train_loss=0.00334, valid_loss=0.00438]\n",
      "Epoch: 3/50: 100%|██████████| 42/42 [00:04<00:00, 10.17it/s, train_loss=0.00259, valid_loss=0.00362]\n",
      "Epoch: 4/50: 100%|██████████| 42/42 [00:04<00:00, 10.34it/s, train_loss=0.00231, valid_loss=0.00327]\n",
      "Epoch: 5/50: 100%|██████████| 42/42 [00:04<00:00,  9.85it/s, train_loss=0.00205, valid_loss=0.0031] \n",
      "Epoch: 6/50: 100%|██████████| 42/42 [00:04<00:00, 10.14it/s, train_loss=0.00204, valid_loss=0.00297]\n",
      "Epoch: 7/50: 100%|██████████| 42/42 [00:04<00:00, 10.00it/s, train_loss=0.00203, valid_loss=0.0029] \n",
      "Epoch: 8/50: 100%|██████████| 42/42 [00:04<00:00, 10.09it/s, train_loss=0.0018, valid_loss=0.00351] \n",
      "Epoch: 9/50: 100%|██████████| 42/42 [00:03<00:00, 10.57it/s, train_loss=0.00165, valid_loss=0.00279]\n",
      "Epoch: 10/50: 100%|██████████| 42/42 [00:04<00:00, 10.06it/s, train_loss=0.00169, valid_loss=0.00271]\n",
      "Epoch: 11/50: 100%|██████████| 42/42 [00:04<00:00, 10.09it/s, train_loss=0.00163, valid_loss=0.0026] \n",
      "Epoch: 12/50: 100%|██████████| 42/42 [00:04<00:00,  9.77it/s, train_loss=0.00175, valid_loss=0.00253]\n",
      "Epoch: 13/50: 100%|██████████| 42/42 [00:04<00:00, 10.08it/s, train_loss=0.00138, valid_loss=0.00254]\n",
      "Epoch: 14/50: 100%|██████████| 42/42 [00:04<00:00, 10.14it/s, train_loss=0.00152, valid_loss=0.00272]\n",
      "Epoch: 15/50: 100%|██████████| 42/42 [00:04<00:00, 10.17it/s, train_loss=0.00123, valid_loss=0.00294]\n",
      "Epoch: 16/50: 100%|██████████| 42/42 [00:04<00:00, 10.05it/s, train_loss=0.00135, valid_loss=0.00236]\n",
      "Epoch: 17/50: 100%|██████████| 42/42 [00:04<00:00, 10.37it/s, train_loss=0.00119, valid_loss=0.00261]\n",
      "Epoch: 18/50: 100%|██████████| 42/42 [00:03<00:00, 10.68it/s, train_loss=0.0012, valid_loss=0.00227] \n",
      "Epoch: 19/50: 100%|██████████| 42/42 [00:03<00:00, 10.67it/s, train_loss=0.00122, valid_loss=0.00244]\n",
      "Epoch: 20/50: 100%|██████████| 42/42 [00:04<00:00, 10.22it/s, train_loss=0.00119, valid_loss=0.00263]\n",
      "Epoch: 21/50: 100%|██████████| 42/42 [00:03<00:00, 10.56it/s, train_loss=0.000989, valid_loss=0.00244]\n"
     ]
    },
    {
     "name": "stdout",
     "output_type": "stream",
     "text": [
      "model config: batch_size-256, lr-0.005, number_epoch-50, hidden_dim-150, n_layers-3,drop_prob-0.4,weight_decay-1e-07\n",
      "cross-validation dataset 0\n"
     ]
    },
    {
     "name": "stderr",
     "output_type": "stream",
     "text": [
      "Epoch: 1/50: 100%|██████████| 17/17 [00:02<00:00,  7.05it/s, train_loss=0.108, valid_loss=0.175]\n",
      "Epoch: 2/50: 100%|██████████| 17/17 [00:01<00:00,  8.57it/s, train_loss=0.104, valid_loss=0.175]\n",
      "Epoch: 3/50: 100%|██████████| 17/17 [00:02<00:00,  8.29it/s, train_loss=0.11, valid_loss=0.175] \n",
      "Epoch: 4/50: 100%|██████████| 17/17 [00:02<00:00,  8.19it/s, train_loss=0.108, valid_loss=0.175]\n",
      "Epoch: 5/50: 100%|██████████| 17/17 [00:02<00:00,  8.09it/s, train_loss=0.112, valid_loss=0.175]\n",
      "Epoch: 6/50: 100%|██████████| 17/17 [00:02<00:00,  7.67it/s, train_loss=0.105, valid_loss=0.175]\n",
      "Epoch: 7/50: 100%|██████████| 17/17 [00:02<00:00,  8.04it/s, train_loss=0.107, valid_loss=0.175]\n",
      "Epoch: 8/50: 100%|██████████| 17/17 [00:02<00:00,  7.95it/s, train_loss=0.113, valid_loss=0.175]\n",
      "Epoch: 9/50: 100%|██████████| 17/17 [00:02<00:00,  7.94it/s, train_loss=0.112, valid_loss=0.175]\n",
      "Epoch: 10/50: 100%|██████████| 17/17 [00:02<00:00,  7.94it/s, train_loss=0.11, valid_loss=0.175] \n",
      "Epoch: 11/50: 100%|██████████| 17/17 [00:02<00:00,  8.26it/s, train_loss=0.115, valid_loss=0.175] \n",
      "Epoch: 12/50: 100%|██████████| 17/17 [00:02<00:00,  8.27it/s, train_loss=0.104, valid_loss=0.175]\n",
      "Epoch: 13/50: 100%|██████████| 17/17 [00:02<00:00,  8.33it/s, train_loss=0.104, valid_loss=0.175]\n",
      "Epoch: 14/50: 100%|██████████| 17/17 [00:02<00:00,  7.92it/s, train_loss=0.11, valid_loss=0.175] \n",
      "Epoch: 15/50: 100%|██████████| 17/17 [00:02<00:00,  8.24it/s, train_loss=0.107, valid_loss=0.175]\n",
      "Epoch: 16/50: 100%|██████████| 17/17 [00:02<00:00,  7.82it/s, train_loss=0.111, valid_loss=0.176]\n",
      "Epoch: 17/50: 100%|██████████| 17/17 [00:02<00:00,  8.42it/s, train_loss=0.102, valid_loss=0.176]\n",
      "Epoch: 18/50: 100%|██████████| 17/17 [00:02<00:00,  7.96it/s, train_loss=0.0203, valid_loss=0.0352]\n",
      "Epoch: 19/50: 100%|██████████| 17/17 [00:02<00:00,  7.58it/s, train_loss=0.0173, valid_loss=0.0352]\n",
      "Epoch: 20/50: 100%|██████████| 17/17 [00:02<00:00,  7.81it/s, train_loss=0.0169, valid_loss=0.0383]\n",
      "Epoch: 21/50: 100%|██████████| 17/17 [00:02<00:00,  7.97it/s, train_loss=0.0159, valid_loss=0.0394]\n",
      "Epoch: 22/50: 100%|██████████| 17/17 [00:02<00:00,  7.87it/s, train_loss=0.0177, valid_loss=0.0388]\n",
      "Epoch: 23/50: 100%|██████████| 17/17 [00:02<00:00,  7.68it/s, train_loss=0.0175, valid_loss=0.0379]\n",
      "Epoch: 24/50: 100%|██████████| 17/17 [00:02<00:00,  8.01it/s, train_loss=0.0172, valid_loss=0.0365]\n",
      "Epoch: 25/50: 100%|██████████| 17/17 [00:02<00:00,  7.62it/s, train_loss=0.0168, valid_loss=0.0381]\n",
      "Epoch: 26/50: 100%|██████████| 17/17 [00:02<00:00,  7.92it/s, train_loss=0.0167, valid_loss=0.0403]\n",
      "Epoch: 27/50: 100%|██████████| 17/17 [00:02<00:00,  8.02it/s, train_loss=0.0162, valid_loss=0.0375]\n",
      "Epoch: 28/50: 100%|██████████| 17/17 [00:02<00:00,  8.46it/s, train_loss=0.0173, valid_loss=0.0366]\n",
      "Epoch: 29/50: 100%|██████████| 17/17 [00:01<00:00,  8.54it/s, train_loss=0.0162, valid_loss=0.0393]\n",
      "Epoch: 30/50: 100%|██████████| 17/17 [00:02<00:00,  7.98it/s, train_loss=0.0162, valid_loss=0.0385]\n",
      "Epoch: 31/50: 100%|██████████| 17/17 [00:02<00:00,  7.93it/s, train_loss=0.0166, valid_loss=0.0373]\n",
      "Epoch: 32/50: 100%|██████████| 17/17 [00:02<00:00,  7.70it/s, train_loss=0.0176, valid_loss=0.0364]\n"
     ]
    },
    {
     "name": "stdout",
     "output_type": "stream",
     "text": [
      "cross-validation dataset 1\n"
     ]
    },
    {
     "name": "stderr",
     "output_type": "stream",
     "text": [
      "Epoch: 1/50: 100%|██████████| 33/33 [00:03<00:00,  8.40it/s, train_loss=0.143, valid_loss=0.163]\n",
      "Epoch: 2/50: 100%|██████████| 33/33 [00:03<00:00,  8.92it/s, train_loss=0.139, valid_loss=0.163]\n",
      "Epoch: 3/50: 100%|██████████| 33/33 [00:03<00:00,  8.53it/s, train_loss=0.137, valid_loss=0.162]\n",
      "Epoch: 4/50: 100%|██████████| 33/33 [00:03<00:00,  8.89it/s, train_loss=0.143, valid_loss=0.163]\n",
      "Epoch: 5/50: 100%|██████████| 33/33 [00:03<00:00,  8.81it/s, train_loss=0.132, valid_loss=0.152]\n",
      "Epoch: 6/50: 100%|██████████| 33/33 [00:03<00:00,  8.69it/s, train_loss=0.0261, valid_loss=0.0305]\n",
      "Epoch: 7/50: 100%|██████████| 33/33 [00:03<00:00,  8.74it/s, train_loss=0.026, valid_loss=0.0285] \n",
      "Epoch: 8/50: 100%|██████████| 33/33 [00:03<00:00,  8.51it/s, train_loss=0.0268, valid_loss=0.0289]\n",
      "Epoch: 9/50: 100%|██████████| 33/33 [00:03<00:00,  8.78it/s, train_loss=0.0242, valid_loss=0.0281]\n",
      "Epoch: 10/50: 100%|██████████| 33/33 [00:04<00:00,  8.06it/s, train_loss=0.0232, valid_loss=0.0282]\n",
      "Epoch: 11/50: 100%|██████████| 33/33 [00:03<00:00,  8.63it/s, train_loss=0.0292, valid_loss=0.0284]\n",
      "Epoch: 12/50: 100%|██████████| 33/33 [00:03<00:00,  8.49it/s, train_loss=0.0263, valid_loss=0.0287]\n",
      "Epoch: 13/50: 100%|██████████| 33/33 [00:03<00:00,  8.71it/s, train_loss=0.0273, valid_loss=0.0285]\n",
      "Epoch: 14/50: 100%|██████████| 33/33 [00:03<00:00,  8.84it/s, train_loss=0.0262, valid_loss=0.0284]\n",
      "Epoch: 15/50: 100%|██████████| 33/33 [00:03<00:00,  8.80it/s, train_loss=0.0249, valid_loss=0.0284]\n",
      "Epoch: 16/50: 100%|██████████| 33/33 [00:03<00:00,  8.72it/s, train_loss=0.0234, valid_loss=0.0284]\n",
      "Epoch: 17/50: 100%|██████████| 33/33 [00:03<00:00,  8.28it/s, train_loss=0.0252, valid_loss=0.0292]\n"
     ]
    },
    {
     "name": "stdout",
     "output_type": "stream",
     "text": [
      "cross-validation dataset 2\n"
     ]
    },
    {
     "name": "stderr",
     "output_type": "stream",
     "text": [
      "Epoch: 1/50: 100%|██████████| 50/50 [00:05<00:00,  8.56it/s, train_loss=0.145, valid_loss=0.194]\n",
      "Epoch: 2/50: 100%|██████████| 50/50 [00:05<00:00,  8.81it/s, train_loss=0.0264, valid_loss=0.0424]\n",
      "Epoch: 3/50: 100%|██████████| 50/50 [00:05<00:00,  8.61it/s, train_loss=0.0283, valid_loss=0.0382]\n",
      "Epoch: 4/50: 100%|██████████| 50/50 [00:05<00:00,  8.93it/s, train_loss=0.0268, valid_loss=0.0423]\n",
      "Epoch: 5/50: 100%|██████████| 50/50 [00:05<00:00,  8.76it/s, train_loss=0.0253, valid_loss=0.0392]\n",
      "Epoch: 6/50: 100%|██████████| 50/50 [00:05<00:00,  9.09it/s, train_loss=0.0271, valid_loss=0.0408]\n",
      "Epoch: 7/50: 100%|██████████| 50/50 [00:05<00:00,  9.06it/s, train_loss=0.0267, valid_loss=0.0403]\n"
     ]
    },
    {
     "name": "stdout",
     "output_type": "stream",
     "text": [
      "cross-validation dataset 3\n"
     ]
    },
    {
     "name": "stderr",
     "output_type": "stream",
     "text": [
      "Epoch: 1/50: 100%|██████████| 66/66 [00:07<00:00,  8.38it/s, train_loss=0.00469, valid_loss=0.00463]\n",
      "Epoch: 2/50: 100%|██████████| 66/66 [00:07<00:00,  8.41it/s, train_loss=0.00263, valid_loss=0.00204]\n",
      "Epoch: 3/50: 100%|██████████| 66/66 [00:08<00:00,  8.19it/s, train_loss=0.00239, valid_loss=0.00187]\n",
      "Epoch: 4/50: 100%|██████████| 66/66 [00:07<00:00,  8.75it/s, train_loss=0.00237, valid_loss=0.00128]\n",
      "Epoch: 5/50: 100%|██████████| 66/66 [00:07<00:00,  8.55it/s, train_loss=0.0023, valid_loss=0.00124] \n",
      "Epoch: 6/50: 100%|██████████| 66/66 [00:07<00:00,  8.46it/s, train_loss=0.00164, valid_loss=0.00108] \n",
      "Epoch: 7/50: 100%|██████████| 66/66 [00:07<00:00,  8.51it/s, train_loss=0.00149, valid_loss=0.000984]\n",
      "Epoch: 8/50: 100%|██████████| 66/66 [00:08<00:00,  8.03it/s, train_loss=0.00186, valid_loss=0.000976]\n",
      "Epoch: 9/50: 100%|██████████| 66/66 [00:07<00:00,  8.50it/s, train_loss=0.00146, valid_loss=0.00136] \n",
      "Epoch: 10/50: 100%|██████████| 66/66 [00:07<00:00,  8.31it/s, train_loss=0.00155, valid_loss=0.00162] \n",
      "Epoch: 11/50: 100%|██████████| 66/66 [00:07<00:00,  8.79it/s, train_loss=0.00124, valid_loss=0.00131] \n",
      "Epoch: 12/50: 100%|██████████| 66/66 [00:07<00:00,  8.85it/s, train_loss=0.00137, valid_loss=0.00138] \n",
      "Epoch: 13/50: 100%|██████████| 66/66 [00:08<00:00,  8.15it/s, train_loss=0.0013, valid_loss=0.00105]  \n",
      "Epoch: 14/50: 100%|██████████| 66/66 [00:07<00:00,  8.67it/s, train_loss=0.00122, valid_loss=0.000875]\n"
     ]
    },
    {
     "name": "stdout",
     "output_type": "stream",
     "text": [
      "cross-validation dataset 4\n"
     ]
    },
    {
     "name": "stderr",
     "output_type": "stream",
     "text": [
      "Epoch: 1/50: 100%|██████████| 83/83 [00:09<00:00,  8.93it/s, train_loss=0.00306, valid_loss=0.00368]\n",
      "Epoch: 2/50: 100%|██████████| 83/83 [00:09<00:00,  8.88it/s, train_loss=0.00204, valid_loss=0.00293]\n",
      "Epoch: 3/50: 100%|██████████| 83/83 [00:09<00:00,  8.74it/s, train_loss=0.00158, valid_loss=0.00279]\n",
      "Epoch: 4/50: 100%|██████████| 83/83 [00:09<00:00,  8.76it/s, train_loss=0.00193, valid_loss=0.00257]\n",
      "Epoch: 5/50: 100%|██████████| 83/83 [00:09<00:00,  8.96it/s, train_loss=0.00155, valid_loss=0.00292]\n",
      "Epoch: 6/50: 100%|██████████| 83/83 [00:09<00:00,  8.50it/s, train_loss=0.00132, valid_loss=0.00264]\n",
      "Epoch: 7/50: 100%|██████████| 83/83 [00:09<00:00,  8.38it/s, train_loss=0.0014, valid_loss=0.0029]  \n",
      "Epoch: 8/50: 100%|██████████| 83/83 [00:09<00:00,  8.36it/s, train_loss=0.00117, valid_loss=0.00276]\n",
      "Epoch: 9/50: 100%|██████████| 83/83 [00:09<00:00,  8.76it/s, train_loss=0.00119, valid_loss=0.00273]\n",
      "Epoch: 10/50: 100%|██████████| 83/83 [00:09<00:00,  8.70it/s, train_loss=0.00131, valid_loss=0.00274] \n",
      "Epoch: 11/50: 100%|██████████| 83/83 [00:09<00:00,  8.61it/s, train_loss=0.00105, valid_loss=0.00265] \n"
     ]
    },
    {
     "name": "stdout",
     "output_type": "stream",
     "text": [
      "model config: batch_size-256, lr-0.001, number_epoch-50, hidden_dim-100, n_layers-3,drop_prob-0.2,weight_decay-1e-06\n",
      "cross-validation dataset 0\n"
     ]
    },
    {
     "name": "stderr",
     "output_type": "stream",
     "text": [
      "Epoch: 1/50: 100%|██████████| 17/17 [00:01<00:00, 10.62it/s, train_loss=0.111, valid_loss=0.175]\n",
      "Epoch: 2/50: 100%|██████████| 17/17 [00:01<00:00, 10.92it/s, train_loss=0.109, valid_loss=0.175]\n",
      "Epoch: 3/50: 100%|██████████| 17/17 [00:01<00:00,  9.84it/s, train_loss=0.11, valid_loss=0.175] \n",
      "Epoch: 4/50: 100%|██████████| 17/17 [00:01<00:00, 10.54it/s, train_loss=0.105, valid_loss=0.175]\n",
      "Epoch: 5/50: 100%|██████████| 17/17 [00:01<00:00, 10.87it/s, train_loss=0.106, valid_loss=0.175]\n",
      "Epoch: 6/50: 100%|██████████| 17/17 [00:01<00:00, 11.04it/s, train_loss=0.108, valid_loss=0.175]\n",
      "Epoch: 7/50: 100%|██████████| 17/17 [00:01<00:00, 11.41it/s, train_loss=0.0931, valid_loss=0.134]\n",
      "Epoch: 8/50: 100%|██████████| 17/17 [00:01<00:00, 11.34it/s, train_loss=0.0228, valid_loss=0.0318]\n",
      "Epoch: 9/50: 100%|██████████| 17/17 [00:01<00:00, 11.34it/s, train_loss=0.0166, valid_loss=0.0355]\n",
      "Epoch: 10/50: 100%|██████████| 17/17 [00:01<00:00, 11.80it/s, train_loss=0.0166, valid_loss=0.0387]\n",
      "Epoch: 11/50: 100%|██████████| 17/17 [00:01<00:00, 11.90it/s, train_loss=0.0165, valid_loss=0.0396]\n",
      "Epoch: 12/50: 100%|██████████| 17/17 [00:01<00:00, 11.79it/s, train_loss=0.0158, valid_loss=0.0379]\n",
      "Epoch: 13/50: 100%|██████████| 17/17 [00:01<00:00, 11.85it/s, train_loss=0.0142, valid_loss=0.0401]\n",
      "Epoch: 14/50: 100%|██████████| 17/17 [00:01<00:00, 11.46it/s, train_loss=0.0116, valid_loss=0.0851]\n",
      "Epoch: 15/50: 100%|██████████| 17/17 [00:01<00:00, 11.01it/s, train_loss=0.00785, valid_loss=0.0566]\n",
      "Epoch: 16/50: 100%|██████████| 17/17 [00:01<00:00, 11.65it/s, train_loss=0.00393, valid_loss=0.0212]\n",
      "Epoch: 17/50: 100%|██████████| 17/17 [00:01<00:00, 11.56it/s, train_loss=0.0038, valid_loss=0.00941]\n",
      "Epoch: 18/50: 100%|██████████| 17/17 [00:01<00:00, 11.51it/s, train_loss=0.00332, valid_loss=0.00891]\n",
      "Epoch: 19/50: 100%|██████████| 17/17 [00:01<00:00, 11.44it/s, train_loss=0.00306, valid_loss=0.00681]\n",
      "Epoch: 20/50: 100%|██████████| 17/17 [00:01<00:00, 11.48it/s, train_loss=0.00299, valid_loss=0.0059] \n",
      "Epoch: 21/50: 100%|██████████| 17/17 [00:01<00:00, 11.37it/s, train_loss=0.0027, valid_loss=0.0054]  \n",
      "Epoch: 22/50: 100%|██████████| 17/17 [00:01<00:00, 11.46it/s, train_loss=0.00287, valid_loss=0.00552]\n",
      "Epoch: 23/50: 100%|██████████| 17/17 [00:01<00:00, 10.83it/s, train_loss=0.00247, valid_loss=0.00548]\n",
      "Epoch: 24/50: 100%|██████████| 17/17 [00:01<00:00, 11.39it/s, train_loss=0.00216, valid_loss=0.00572]\n",
      "Epoch: 25/50: 100%|██████████| 17/17 [00:01<00:00, 11.29it/s, train_loss=0.00208, valid_loss=0.00569]\n",
      "Epoch: 26/50: 100%|██████████| 17/17 [00:01<00:00, 11.49it/s, train_loss=0.002, valid_loss=0.00566]  \n",
      "Epoch: 27/50: 100%|██████████| 17/17 [00:01<00:00, 11.45it/s, train_loss=0.00177, valid_loss=0.00587]\n",
      "Epoch: 28/50: 100%|██████████| 17/17 [00:01<00:00, 11.62it/s, train_loss=0.002, valid_loss=0.00567]  \n",
      "Epoch: 29/50: 100%|██████████| 17/17 [00:01<00:00, 11.55it/s, train_loss=0.00187, valid_loss=0.00578]\n",
      "Epoch: 30/50: 100%|██████████| 17/17 [00:01<00:00, 11.45it/s, train_loss=0.00191, valid_loss=0.00481]\n",
      "Epoch: 31/50: 100%|██████████| 17/17 [00:01<00:00, 11.41it/s, train_loss=0.00197, valid_loss=0.00617]\n",
      "Epoch: 32/50: 100%|██████████| 17/17 [00:01<00:00, 10.55it/s, train_loss=0.00187, valid_loss=0.0049] \n",
      "Epoch: 33/50: 100%|██████████| 17/17 [00:01<00:00, 10.75it/s, train_loss=0.00173, valid_loss=0.00485]\n",
      "Epoch: 34/50: 100%|██████████| 17/17 [00:01<00:00, 11.73it/s, train_loss=0.00167, valid_loss=0.00512]\n",
      "Epoch: 35/50: 100%|██████████| 17/17 [00:01<00:00, 12.01it/s, train_loss=0.00146, valid_loss=0.00515]\n",
      "Epoch: 36/50: 100%|██████████| 17/17 [00:01<00:00, 12.02it/s, train_loss=0.00162, valid_loss=0.00496]\n",
      "Epoch: 37/50: 100%|██████████| 17/17 [00:01<00:00, 11.95it/s, train_loss=0.00177, valid_loss=0.00468]\n",
      "Epoch: 38/50: 100%|██████████| 17/17 [00:01<00:00, 11.92it/s, train_loss=0.00169, valid_loss=0.00481]\n",
      "Epoch: 39/50: 100%|██████████| 17/17 [00:01<00:00, 10.47it/s, train_loss=0.00169, valid_loss=0.00503]\n",
      "Epoch: 40/50: 100%|██████████| 17/17 [00:01<00:00, 11.51it/s, train_loss=0.00146, valid_loss=0.00482]\n",
      "Epoch: 41/50: 100%|██████████| 17/17 [00:01<00:00, 11.39it/s, train_loss=0.00158, valid_loss=0.00462]\n",
      "Epoch: 42/50: 100%|██████████| 17/17 [00:01<00:00, 10.93it/s, train_loss=0.00167, valid_loss=0.00457]\n",
      "Epoch: 43/50: 100%|██████████| 17/17 [00:01<00:00, 11.49it/s, train_loss=0.00159, valid_loss=0.00462]\n",
      "Epoch: 44/50: 100%|██████████| 17/17 [00:01<00:00, 11.54it/s, train_loss=0.00155, valid_loss=0.00436]\n",
      "Epoch: 45/50: 100%|██████████| 17/17 [00:01<00:00, 11.20it/s, train_loss=0.0017, valid_loss=0.00451] \n",
      "Epoch: 46/50: 100%|██████████| 17/17 [00:01<00:00, 11.31it/s, train_loss=0.00155, valid_loss=0.00425]\n",
      "Epoch: 47/50: 100%|██████████| 17/17 [00:01<00:00, 11.31it/s, train_loss=0.00173, valid_loss=0.0042] \n",
      "Epoch: 48/50: 100%|██████████| 17/17 [00:01<00:00, 11.31it/s, train_loss=0.00153, valid_loss=0.00478]\n",
      "Epoch: 49/50: 100%|██████████| 17/17 [00:01<00:00, 11.28it/s, train_loss=0.00165, valid_loss=0.00408]\n",
      "Epoch: 50/50: 100%|██████████| 17/17 [00:01<00:00, 11.45it/s, train_loss=0.00146, valid_loss=0.00421]\n"
     ]
    },
    {
     "name": "stdout",
     "output_type": "stream",
     "text": [
      "cross-validation dataset 1\n"
     ]
    },
    {
     "name": "stderr",
     "output_type": "stream",
     "text": [
      "Epoch: 1/50: 100%|██████████| 33/33 [00:02<00:00, 11.49it/s, train_loss=0.147, valid_loss=0.162]\n",
      "Epoch: 2/50: 100%|██████████| 33/33 [00:02<00:00, 12.40it/s, train_loss=0.149, valid_loss=0.162]\n",
      "Epoch: 3/50: 100%|██████████| 33/33 [00:02<00:00, 12.11it/s, train_loss=0.142, valid_loss=0.163]\n",
      "Epoch: 4/50: 100%|██████████| 33/33 [00:02<00:00, 12.23it/s, train_loss=0.134, valid_loss=0.161]\n",
      "Epoch: 5/50: 100%|██████████| 33/33 [00:02<00:00, 12.50it/s, train_loss=0.152, valid_loss=0.162]\n",
      "Epoch: 6/50: 100%|██████████| 33/33 [00:02<00:00, 12.14it/s, train_loss=0.142, valid_loss=0.163]\n",
      "Epoch: 7/50: 100%|██████████| 33/33 [00:02<00:00, 11.47it/s, train_loss=0.138, valid_loss=0.162]\n",
      "Epoch: 8/50: 100%|██████████| 33/33 [00:02<00:00, 11.80it/s, train_loss=0.134, valid_loss=0.161]\n",
      "Epoch: 9/50: 100%|██████████| 33/33 [00:02<00:00, 11.93it/s, train_loss=0.0423, valid_loss=0.0327]\n",
      "Epoch: 10/50: 100%|██████████| 33/33 [00:02<00:00, 12.01it/s, train_loss=0.0282, valid_loss=0.0278]\n",
      "Epoch: 11/50: 100%|██████████| 33/33 [00:02<00:00, 12.04it/s, train_loss=0.0242, valid_loss=0.0287]\n",
      "Epoch: 12/50: 100%|██████████| 33/33 [00:02<00:00, 12.37it/s, train_loss=0.0274, valid_loss=0.0277]\n",
      "Epoch: 13/50: 100%|██████████| 33/33 [00:02<00:00, 12.18it/s, train_loss=0.0148, valid_loss=0.0112]\n",
      "Epoch: 14/50: 100%|██████████| 33/33 [00:02<00:00, 11.65it/s, train_loss=0.00607, valid_loss=0.0053] \n",
      "Epoch: 15/50: 100%|██████████| 33/33 [00:02<00:00, 12.07it/s, train_loss=0.0057, valid_loss=0.006]   \n",
      "Epoch: 16/50: 100%|██████████| 33/33 [00:02<00:00, 11.64it/s, train_loss=0.00456, valid_loss=0.00461]\n",
      "Epoch: 17/50: 100%|██████████| 33/33 [00:02<00:00, 11.29it/s, train_loss=0.0045, valid_loss=0.00472] \n",
      "Epoch: 18/50: 100%|██████████| 33/33 [00:02<00:00, 12.39it/s, train_loss=0.0037, valid_loss=0.00346] \n",
      "Epoch: 19/50: 100%|██████████| 33/33 [00:02<00:00, 12.40it/s, train_loss=0.0034, valid_loss=0.00313] \n",
      "Epoch: 20/50: 100%|██████████| 33/33 [00:02<00:00, 11.17it/s, train_loss=0.00307, valid_loss=0.00288]\n",
      "Epoch: 21/50: 100%|██████████| 33/33 [00:02<00:00, 12.03it/s, train_loss=0.00323, valid_loss=0.00275]\n",
      "Epoch: 22/50: 100%|██████████| 33/33 [00:02<00:00, 12.44it/s, train_loss=0.00318, valid_loss=0.0024] \n",
      "Epoch: 23/50: 100%|██████████| 33/33 [00:02<00:00, 12.42it/s, train_loss=0.00284, valid_loss=0.00223]\n",
      "Epoch: 24/50: 100%|██████████| 33/33 [00:02<00:00, 11.12it/s, train_loss=0.00284, valid_loss=0.00222]\n",
      "Epoch: 25/50: 100%|██████████| 33/33 [00:02<00:00, 11.95it/s, train_loss=0.00285, valid_loss=0.00197]\n",
      "Epoch: 26/50: 100%|██████████| 33/33 [00:02<00:00, 11.75it/s, train_loss=0.00268, valid_loss=0.00194]\n",
      "Epoch: 27/50: 100%|██████████| 33/33 [00:02<00:00, 12.08it/s, train_loss=0.00291, valid_loss=0.00188]\n",
      "Epoch: 28/50: 100%|██████████| 33/33 [00:02<00:00, 12.11it/s, train_loss=0.00255, valid_loss=0.00184]\n",
      "Epoch: 29/50: 100%|██████████| 33/33 [00:02<00:00, 12.07it/s, train_loss=0.00277, valid_loss=0.00191]\n",
      "Epoch: 30/50: 100%|██████████| 33/33 [00:02<00:00, 11.69it/s, train_loss=0.00232, valid_loss=0.00184]\n",
      "Epoch: 31/50: 100%|██████████| 33/33 [00:02<00:00, 12.06it/s, train_loss=0.00246, valid_loss=0.0017] \n",
      "Epoch: 32/50: 100%|██████████| 33/33 [00:02<00:00, 11.63it/s, train_loss=0.00244, valid_loss=0.00179]\n",
      "Epoch: 33/50: 100%|██████████| 33/33 [00:02<00:00, 11.94it/s, train_loss=0.00282, valid_loss=0.00182]\n",
      "Epoch: 34/50: 100%|██████████| 33/33 [00:02<00:00, 12.14it/s, train_loss=0.00218, valid_loss=0.00171]\n",
      "Epoch: 35/50: 100%|██████████| 33/33 [00:02<00:00, 12.19it/s, train_loss=0.00266, valid_loss=0.00159]\n",
      "Epoch: 36/50: 100%|██████████| 33/33 [00:02<00:00, 12.17it/s, train_loss=0.00225, valid_loss=0.00164]\n",
      "Epoch: 37/50: 100%|██████████| 33/33 [00:02<00:00, 11.66it/s, train_loss=0.0023, valid_loss=0.00159] \n",
      "Epoch: 38/50: 100%|██████████| 33/33 [00:02<00:00, 12.04it/s, train_loss=0.00223, valid_loss=0.00151]\n",
      "Epoch: 39/50: 100%|██████████| 33/33 [00:02<00:00, 12.14it/s, train_loss=0.00208, valid_loss=0.00149]\n",
      "Epoch: 40/50: 100%|██████████| 33/33 [00:02<00:00, 12.10it/s, train_loss=0.00201, valid_loss=0.0015] \n",
      "Epoch: 41/50: 100%|██████████| 33/33 [00:02<00:00, 12.07it/s, train_loss=0.00213, valid_loss=0.00146]\n",
      "Epoch: 42/50: 100%|██████████| 33/33 [00:02<00:00, 11.59it/s, train_loss=0.00198, valid_loss=0.00147]\n",
      "Epoch: 43/50: 100%|██████████| 33/33 [00:02<00:00, 12.03it/s, train_loss=0.00241, valid_loss=0.00137]\n",
      "Epoch: 44/50: 100%|██████████| 33/33 [00:02<00:00, 11.97it/s, train_loss=0.00195, valid_loss=0.00133]\n",
      "Epoch: 45/50: 100%|██████████| 33/33 [00:02<00:00, 11.97it/s, train_loss=0.00185, valid_loss=0.00135]\n",
      "Epoch: 46/50: 100%|██████████| 33/33 [00:02<00:00, 11.75it/s, train_loss=0.00223, valid_loss=0.00128]\n",
      "Epoch: 47/50: 100%|██████████| 33/33 [00:02<00:00, 11.99it/s, train_loss=0.00211, valid_loss=0.00136]\n",
      "Epoch: 48/50: 100%|██████████| 33/33 [00:02<00:00, 12.49it/s, train_loss=0.0019, valid_loss=0.00128] \n",
      "Epoch: 49/50: 100%|██████████| 33/33 [00:02<00:00, 12.05it/s, train_loss=0.00172, valid_loss=0.00144]\n",
      "Epoch: 50/50: 100%|██████████| 33/33 [00:02<00:00, 11.65it/s, train_loss=0.00164, valid_loss=0.00135]\n"
     ]
    },
    {
     "name": "stdout",
     "output_type": "stream",
     "text": [
      "cross-validation dataset 2\n"
     ]
    },
    {
     "name": "stderr",
     "output_type": "stream",
     "text": [
      "Epoch: 1/50: 100%|██████████| 50/50 [00:04<00:00, 11.90it/s, train_loss=0.155, valid_loss=0.194]\n",
      "Epoch: 2/50: 100%|██████████| 50/50 [00:04<00:00, 11.80it/s, train_loss=0.137, valid_loss=0.194]\n",
      "Epoch: 3/50: 100%|██████████| 50/50 [00:04<00:00, 12.38it/s, train_loss=0.146, valid_loss=0.194]\n",
      "Epoch: 4/50: 100%|██████████| 50/50 [00:04<00:00, 12.40it/s, train_loss=0.0241, valid_loss=0.0423]\n",
      "Epoch: 5/50: 100%|██████████| 50/50 [00:04<00:00, 10.97it/s, train_loss=0.0275, valid_loss=0.0401]\n",
      "Epoch: 6/50: 100%|██████████| 50/50 [00:04<00:00, 10.93it/s, train_loss=0.0273, valid_loss=0.0399]\n",
      "Epoch: 7/50: 100%|██████████| 50/50 [00:03<00:00, 12.68it/s, train_loss=0.0252, valid_loss=0.0391]\n",
      "Epoch: 8/50: 100%|██████████| 50/50 [00:03<00:00, 12.59it/s, train_loss=0.0195, valid_loss=0.0358]\n",
      "Epoch: 9/50: 100%|██████████| 50/50 [00:03<00:00, 12.78it/s, train_loss=0.0115, valid_loss=0.019] \n",
      "Epoch: 10/50: 100%|██████████| 50/50 [00:03<00:00, 12.85it/s, train_loss=0.00465, valid_loss=0.00954]\n",
      "Epoch: 11/50: 100%|██████████| 50/50 [00:03<00:00, 12.66it/s, train_loss=0.00393, valid_loss=0.00505]\n",
      "Epoch: 12/50: 100%|██████████| 50/50 [00:03<00:00, 12.60it/s, train_loss=0.00275, valid_loss=0.00456]\n",
      "Epoch: 13/50: 100%|██████████| 50/50 [00:03<00:00, 12.84it/s, train_loss=0.00268, valid_loss=0.0035] \n",
      "Epoch: 14/50: 100%|██████████| 50/50 [00:03<00:00, 12.85it/s, train_loss=0.00214, valid_loss=0.00372]\n",
      "Epoch: 15/50: 100%|██████████| 50/50 [00:03<00:00, 12.51it/s, train_loss=0.00216, valid_loss=0.00311]\n",
      "Epoch: 16/50: 100%|██████████| 50/50 [00:03<00:00, 12.51it/s, train_loss=0.00256, valid_loss=0.00305]\n",
      "Epoch: 17/50: 100%|██████████| 50/50 [00:03<00:00, 12.98it/s, train_loss=0.002, valid_loss=0.00315]  \n",
      "Epoch: 18/50: 100%|██████████| 50/50 [00:04<00:00, 12.31it/s, train_loss=0.00243, valid_loss=0.00291]\n",
      "Epoch: 19/50: 100%|██████████| 50/50 [00:04<00:00, 12.29it/s, train_loss=0.00205, valid_loss=0.00292]\n",
      "Epoch: 20/50: 100%|██████████| 50/50 [00:04<00:00, 12.37it/s, train_loss=0.00208, valid_loss=0.00287]\n",
      "Epoch: 21/50: 100%|██████████| 50/50 [00:03<00:00, 12.63it/s, train_loss=0.00191, valid_loss=0.0029] \n",
      "Epoch: 22/50: 100%|██████████| 50/50 [00:04<00:00, 12.20it/s, train_loss=0.00218, valid_loss=0.00287]\n",
      "Epoch: 23/50: 100%|██████████| 50/50 [00:04<00:00, 12.15it/s, train_loss=0.00182, valid_loss=0.00283]\n",
      "Epoch: 24/50: 100%|██████████| 50/50 [00:04<00:00, 11.80it/s, train_loss=0.00183, valid_loss=0.0028] \n",
      "Epoch: 25/50: 100%|██████████| 50/50 [00:03<00:00, 12.51it/s, train_loss=0.00216, valid_loss=0.00277]\n",
      "Epoch: 26/50: 100%|██████████| 50/50 [00:04<00:00, 12.20it/s, train_loss=0.00189, valid_loss=0.00275]\n",
      "Epoch: 27/50: 100%|██████████| 50/50 [00:04<00:00, 12.25it/s, train_loss=0.00167, valid_loss=0.00272]\n",
      "Epoch: 28/50: 100%|██████████| 50/50 [00:04<00:00, 12.46it/s, train_loss=0.00173, valid_loss=0.00285]\n",
      "Epoch: 29/50: 100%|██████████| 50/50 [00:04<00:00, 12.05it/s, train_loss=0.00142, valid_loss=0.00269]\n",
      "Epoch: 30/50: 100%|██████████| 50/50 [00:04<00:00, 12.35it/s, train_loss=0.0018, valid_loss=0.00271] \n",
      "Epoch: 31/50: 100%|██████████| 50/50 [00:03<00:00, 12.63it/s, train_loss=0.00162, valid_loss=0.00269]\n",
      "Epoch: 32/50: 100%|██████████| 50/50 [00:04<00:00, 12.40it/s, train_loss=0.00177, valid_loss=0.00266]\n",
      "Epoch: 33/50: 100%|██████████| 50/50 [00:04<00:00, 12.47it/s, train_loss=0.00156, valid_loss=0.00267]\n",
      "Epoch: 34/50: 100%|██████████| 50/50 [00:04<00:00, 12.30it/s, train_loss=0.00171, valid_loss=0.00265]\n",
      "Epoch: 35/50: 100%|██████████| 50/50 [00:04<00:00, 12.11it/s, train_loss=0.00172, valid_loss=0.00269]\n",
      "Epoch: 36/50: 100%|██████████| 50/50 [00:04<00:00, 10.67it/s, train_loss=0.00192, valid_loss=0.00267]\n",
      "Epoch: 37/50: 100%|██████████| 50/50 [00:04<00:00, 12.10it/s, train_loss=0.00186, valid_loss=0.00271]\n",
      "Epoch: 38/50: 100%|██████████| 50/50 [00:04<00:00, 11.28it/s, train_loss=0.00151, valid_loss=0.00269]\n",
      "Epoch: 39/50: 100%|██████████| 50/50 [00:04<00:00, 11.36it/s, train_loss=0.0016, valid_loss=0.00264] \n",
      "Epoch: 40/50: 100%|██████████| 50/50 [00:04<00:00, 11.53it/s, train_loss=0.00137, valid_loss=0.0027] \n",
      "Epoch: 41/50: 100%|██████████| 50/50 [00:04<00:00, 11.26it/s, train_loss=0.00134, valid_loss=0.00275]\n",
      "Epoch: 42/50: 100%|██████████| 50/50 [00:04<00:00, 10.90it/s, train_loss=0.00172, valid_loss=0.00263]\n",
      "Epoch: 43/50: 100%|██████████| 50/50 [00:04<00:00, 10.34it/s, train_loss=0.00165, valid_loss=0.0026] \n"
     ]
    },
    {
     "name": "stdout",
     "output_type": "stream",
     "text": [
      "cross-validation dataset 3\n"
     ]
    },
    {
     "name": "stderr",
     "output_type": "stream",
     "text": [
      "Epoch: 1/50: 100%|██████████| 66/66 [00:06<00:00, 10.51it/s, train_loss=0.155, valid_loss=0.191]\n",
      "Epoch: 2/50: 100%|██████████| 66/66 [00:06<00:00, 10.96it/s, train_loss=0.167, valid_loss=0.191]\n",
      "Epoch: 3/50: 100%|██████████| 66/66 [00:06<00:00, 10.75it/s, train_loss=0.157, valid_loss=0.19] \n",
      "Epoch: 4/50: 100%|██████████| 66/66 [00:06<00:00,  9.74it/s, train_loss=0.154, valid_loss=0.191]\n",
      "Epoch: 5/50: 100%|██████████| 66/66 [00:06<00:00, 10.19it/s, train_loss=0.168, valid_loss=0.19] \n"
     ]
    },
    {
     "name": "stdout",
     "output_type": "stream",
     "text": [
      "cross-validation dataset 3\n"
     ]
    },
    {
     "name": "stderr",
     "output_type": "stream",
     "text": [
      "Epoch: 1/50: 100%|██████████| 66/66 [00:06<00:00, 10.45it/s, train_loss=0.159, valid_loss=0.19] \n",
      "Epoch: 2/50: 100%|██████████| 66/66 [00:06<00:00, 10.31it/s, train_loss=0.15, valid_loss=0.191] \n",
      "Epoch: 3/50: 100%|██████████| 66/66 [00:06<00:00,  9.76it/s, train_loss=0.157, valid_loss=0.191]\n",
      "Epoch: 4/50: 100%|██████████| 66/66 [00:06<00:00, 10.70it/s, train_loss=0.0296, valid_loss=0.0351]\n",
      "Epoch: 5/50: 100%|██████████| 66/66 [00:06<00:00, 10.17it/s, train_loss=0.00528, valid_loss=0.00439]\n",
      "Epoch: 6/50: 100%|██████████| 66/66 [00:06<00:00, 10.36it/s, train_loss=0.00316, valid_loss=0.00187]\n",
      "Epoch: 7/50: 100%|██████████| 66/66 [00:06<00:00, 10.74it/s, train_loss=0.00247, valid_loss=0.00178]\n",
      "Epoch: 8/50: 100%|██████████| 66/66 [00:06<00:00, 10.59it/s, train_loss=0.00283, valid_loss=0.0013] \n",
      "Epoch: 9/50: 100%|██████████| 66/66 [00:06<00:00, 10.21it/s, train_loss=0.00214, valid_loss=0.00127]\n",
      "Epoch: 10/50: 100%|██████████| 66/66 [00:06<00:00, 10.88it/s, train_loss=0.0029, valid_loss=0.00126] \n",
      "Epoch: 11/50: 100%|██████████| 66/66 [00:05<00:00, 11.06it/s, train_loss=0.0018, valid_loss=0.00119] \n",
      "Epoch: 12/50: 100%|██████████| 66/66 [00:06<00:00, 10.74it/s, train_loss=0.00214, valid_loss=0.00119]\n",
      "Epoch: 13/50: 100%|██████████| 66/66 [00:05<00:00, 11.03it/s, train_loss=0.00207, valid_loss=0.00114]\n",
      "Epoch: 14/50: 100%|██████████| 66/66 [00:06<00:00, 10.06it/s, train_loss=0.00185, valid_loss=0.00112]\n",
      "Epoch: 15/50: 100%|██████████| 66/66 [00:05<00:00, 11.15it/s, train_loss=0.00202, valid_loss=0.00114]\n",
      "Epoch: 16/50: 100%|██████████| 66/66 [00:05<00:00, 11.83it/s, train_loss=0.002, valid_loss=0.0011]    \n",
      "Epoch: 17/50: 100%|██████████| 66/66 [00:05<00:00, 11.05it/s, train_loss=0.00175, valid_loss=0.000962]\n",
      "Epoch: 18/50: 100%|██████████| 66/66 [00:05<00:00, 11.15it/s, train_loss=0.00136, valid_loss=0.000996]\n",
      "Epoch: 19/50: 100%|██████████| 66/66 [00:05<00:00, 11.03it/s, train_loss=0.00175, valid_loss=0.00102] \n",
      "Epoch: 20/50: 100%|██████████| 66/66 [00:06<00:00, 10.94it/s, train_loss=0.00134, valid_loss=0.00089] \n",
      "Epoch: 21/50: 100%|██████████| 66/66 [00:06<00:00, 10.94it/s, train_loss=0.00198, valid_loss=0.00126] \n",
      "Epoch: 22/50: 100%|██████████| 66/66 [00:06<00:00, 10.59it/s, train_loss=0.0018, valid_loss=0.000873] \n",
      "Epoch: 23/50: 100%|██████████| 66/66 [00:06<00:00, 10.88it/s, train_loss=0.00158, valid_loss=0.000946]\n",
      "Epoch: 24/50: 100%|██████████| 66/66 [00:05<00:00, 11.13it/s, train_loss=0.00196, valid_loss=0.000905]\n",
      "Epoch: 25/50: 100%|██████████| 66/66 [00:06<00:00, 10.78it/s, train_loss=0.00176, valid_loss=0.000853]\n",
      "Epoch: 26/50: 100%|██████████| 66/66 [00:05<00:00, 11.22it/s, train_loss=0.00166, valid_loss=0.00124] \n",
      "Epoch: 27/50: 100%|██████████| 66/66 [00:05<00:00, 11.04it/s, train_loss=0.00236, valid_loss=0.000964]\n",
      "Epoch: 28/50: 100%|██████████| 66/66 [00:06<00:00, 10.58it/s, train_loss=0.00211, valid_loss=0.00089] \n",
      "Epoch: 29/50: 100%|██████████| 66/66 [00:06<00:00, 10.75it/s, train_loss=0.00164, valid_loss=0.00088] \n",
      "Epoch: 30/50: 100%|██████████| 66/66 [00:06<00:00, 10.71it/s, train_loss=0.00145, valid_loss=0.000893]\n",
      "Epoch: 31/50: 100%|██████████| 66/66 [00:06<00:00, 10.77it/s, train_loss=0.00215, valid_loss=0.000819]\n",
      "Epoch: 32/50: 100%|██████████| 66/66 [00:06<00:00, 10.85it/s, train_loss=0.00167, valid_loss=0.001]   \n",
      "Epoch: 33/50: 100%|██████████| 66/66 [00:06<00:00, 10.28it/s, train_loss=0.00164, valid_loss=0.000844]\n",
      "Epoch: 34/50: 100%|██████████| 66/66 [00:06<00:00, 10.61it/s, train_loss=0.0017, valid_loss=0.00104]  \n",
      "Epoch: 35/50: 100%|██████████| 66/66 [00:05<00:00, 11.02it/s, train_loss=0.00167, valid_loss=0.000949]\n",
      "Epoch: 36/50: 100%|██████████| 66/66 [00:06<00:00, 10.46it/s, train_loss=0.00136, valid_loss=0.000867]\n",
      "Epoch: 37/50: 100%|██████████| 66/66 [00:06<00:00, 10.24it/s, train_loss=0.00153, valid_loss=0.000794]\n",
      "Epoch: 38/50: 100%|██████████| 66/66 [00:05<00:00, 11.05it/s, train_loss=0.00177, valid_loss=0.000826]\n",
      "Epoch: 39/50: 100%|██████████| 66/66 [00:06<00:00, 10.76it/s, train_loss=0.00172, valid_loss=0.000937]\n",
      "Epoch: 40/50: 100%|██████████| 66/66 [00:06<00:00, 10.50it/s, train_loss=0.00181, valid_loss=0.000966]\n",
      "Epoch: 41/50: 100%|██████████| 66/66 [00:06<00:00, 10.94it/s, train_loss=0.00158, valid_loss=0.000994]\n",
      "Epoch: 42/50: 100%|██████████| 66/66 [00:06<00:00, 10.85it/s, train_loss=0.00153, valid_loss=0.000859]\n"
     ]
    },
    {
     "name": "stdout",
     "output_type": "stream",
     "text": [
      "cross-validation dataset 4\n"
     ]
    },
    {
     "name": "stderr",
     "output_type": "stream",
     "text": [
      "Epoch: 1/50: 100%|██████████| 83/83 [00:07<00:00, 10.79it/s, train_loss=0.00375, valid_loss=0.00468]\n",
      "Epoch: 2/50: 100%|██████████| 83/83 [00:08<00:00, 10.23it/s, train_loss=0.00218, valid_loss=0.00342]\n",
      "Epoch: 3/50: 100%|██████████| 83/83 [00:07<00:00, 11.17it/s, train_loss=0.00235, valid_loss=0.00305]\n",
      "Epoch: 4/50: 100%|██████████| 83/83 [00:06<00:00, 11.95it/s, train_loss=0.00178, valid_loss=0.00277]\n",
      "Epoch: 5/50: 100%|██████████| 83/83 [00:07<00:00, 10.82it/s, train_loss=0.00172, valid_loss=0.00287]\n",
      "Epoch: 6/50: 100%|██████████| 83/83 [00:07<00:00, 10.71it/s, train_loss=0.00154, valid_loss=0.00293]\n",
      "Epoch: 7/50: 100%|██████████| 83/83 [00:07<00:00, 10.69it/s, train_loss=0.00146, valid_loss=0.00269]\n",
      "Epoch: 8/50: 100%|██████████| 83/83 [00:07<00:00, 11.43it/s, train_loss=0.00123, valid_loss=0.00276]\n",
      "Epoch: 9/50: 100%|██████████| 83/83 [00:07<00:00, 11.56it/s, train_loss=0.00145, valid_loss=0.0028] \n",
      "Epoch: 10/50: 100%|██████████| 83/83 [00:07<00:00, 11.00it/s, train_loss=0.00136, valid_loss=0.00265]\n",
      "Epoch: 11/50: 100%|██████████| 83/83 [00:08<00:00, 10.16it/s, train_loss=0.00127, valid_loss=0.00259]\n",
      "Epoch: 12/50: 100%|██████████| 83/83 [00:07<00:00, 10.96it/s, train_loss=0.00111, valid_loss=0.00288]\n",
      "Epoch: 13/50: 100%|██████████| 83/83 [00:07<00:00, 10.78it/s, train_loss=0.00115, valid_loss=0.00266] \n",
      "Epoch: 14/50: 100%|██████████| 83/83 [00:07<00:00, 11.20it/s, train_loss=0.00101, valid_loss=0.00265] \n",
      "Epoch: 15/50: 100%|██████████| 83/83 [00:07<00:00, 10.93it/s, train_loss=0.000867, valid_loss=0.00346]\n",
      "Epoch: 16/50: 100%|██████████| 83/83 [00:07<00:00, 10.59it/s, train_loss=0.000962, valid_loss=0.00281]\n",
      "Epoch: 17/50: 100%|██████████| 83/83 [00:07<00:00, 10.74it/s, train_loss=0.000751, valid_loss=0.00286]\n",
      "Epoch: 18/50: 100%|██████████| 83/83 [00:07<00:00, 11.02it/s, train_loss=0.000705, valid_loss=0.00304]\n",
      "Epoch: 19/50: 100%|██████████| 83/83 [00:07<00:00, 11.17it/s, train_loss=0.000809, valid_loss=0.00336]\n"
     ]
    },
    {
     "name": "stdout",
     "output_type": "stream",
     "text": [
      "model config: batch_size-512, lr-0.001, number_epoch-50, hidden_dim-100, n_layers-2,drop_prob-0.2,weight_decay-1e-08\n",
      "cross-validation dataset 0\n"
     ]
    },
    {
     "name": "stderr",
     "output_type": "stream",
     "text": [
      "Epoch: 1/50: 100%|██████████| 9/9 [00:00<00:00, 14.45it/s, train_loss=0.113, valid_loss=0.175]\n",
      "Epoch: 2/50: 100%|██████████| 9/9 [00:00<00:00, 13.89it/s, train_loss=0.107, valid_loss=0.174]\n",
      "Epoch: 3/50: 100%|██████████| 9/9 [00:00<00:00, 12.89it/s, train_loss=0.108, valid_loss=0.175]\n",
      "Epoch: 4/50: 100%|██████████| 9/9 [00:00<00:00, 15.27it/s, train_loss=0.11, valid_loss=0.175] \n",
      "Epoch: 5/50: 100%|██████████| 9/9 [00:00<00:00, 12.93it/s, train_loss=0.104, valid_loss=0.175]\n",
      "Epoch: 6/50: 100%|██████████| 9/9 [00:00<00:00, 15.85it/s, train_loss=0.107, valid_loss=0.176]\n",
      "Epoch: 7/50: 100%|██████████| 9/9 [00:00<00:00, 14.34it/s, train_loss=0.109, valid_loss=0.176]\n",
      "Epoch: 8/50: 100%|██████████| 9/9 [00:00<00:00, 14.56it/s, train_loss=0.106, valid_loss=0.175]\n",
      "Epoch: 9/50: 100%|██████████| 9/9 [00:00<00:00, 15.30it/s, train_loss=0.11, valid_loss=0.174] \n",
      "Epoch: 10/50: 100%|██████████| 9/9 [00:00<00:00, 14.68it/s, train_loss=0.112, valid_loss=0.177]\n",
      "Epoch: 11/50: 100%|██████████| 9/9 [00:00<00:00, 14.49it/s, train_loss=0.11, valid_loss=0.176] \n",
      "Epoch: 12/50: 100%|██████████| 9/9 [00:00<00:00, 14.14it/s, train_loss=0.11, valid_loss=0.175] \n",
      "Epoch: 13/50: 100%|██████████| 9/9 [00:00<00:00, 13.69it/s, train_loss=0.109, valid_loss=0.175]\n",
      "Epoch: 14/50: 100%|██████████| 9/9 [00:00<00:00, 14.42it/s, train_loss=0.108, valid_loss=0.175]\n",
      "Epoch: 15/50: 100%|██████████| 9/9 [00:00<00:00, 14.87it/s, train_loss=0.108, valid_loss=0.174]\n",
      "Epoch: 16/50: 100%|██████████| 9/9 [00:00<00:00, 15.15it/s, train_loss=0.111, valid_loss=0.173]\n",
      "Epoch: 17/50: 100%|██████████| 9/9 [00:00<00:00, 14.04it/s, train_loss=0.103, valid_loss=0.174]\n",
      "Epoch: 18/50: 100%|██████████| 9/9 [00:00<00:00, 12.81it/s, train_loss=0.107, valid_loss=0.177]\n",
      "Epoch: 19/50: 100%|██████████| 9/9 [00:00<00:00, 14.38it/s, train_loss=0.108, valid_loss=0.175]\n",
      "Epoch: 20/50: 100%|██████████| 9/9 [00:00<00:00, 14.20it/s, train_loss=0.112, valid_loss=0.176]\n",
      "Epoch: 21/50: 100%|██████████| 9/9 [00:00<00:00, 14.48it/s, train_loss=0.108, valid_loss=0.174]\n",
      "Epoch: 22/50: 100%|██████████| 9/9 [00:00<00:00, 13.84it/s, train_loss=0.107, valid_loss=0.176]\n",
      "Epoch: 23/50: 100%|██████████| 9/9 [00:00<00:00, 13.89it/s, train_loss=0.106, valid_loss=0.176]\n",
      "Epoch: 24/50: 100%|██████████| 9/9 [00:00<00:00, 13.59it/s, train_loss=0.109, valid_loss=0.174]\n",
      "Epoch: 25/50: 100%|██████████| 9/9 [00:00<00:00, 14.26it/s, train_loss=0.11, valid_loss=0.176] \n",
      "Epoch: 26/50: 100%|██████████| 9/9 [00:00<00:00, 12.09it/s, train_loss=0.106, valid_loss=0.176]\n",
      "Epoch: 27/50: 100%|██████████| 9/9 [00:00<00:00, 13.61it/s, train_loss=0.106, valid_loss=0.175]\n",
      "Epoch: 28/50: 100%|██████████| 9/9 [00:00<00:00, 13.48it/s, train_loss=0.112, valid_loss=0.175]\n",
      "Epoch: 29/50: 100%|██████████| 9/9 [00:00<00:00, 13.60it/s, train_loss=0.108, valid_loss=0.174]\n",
      "Epoch: 30/50: 100%|██████████| 9/9 [00:00<00:00, 14.19it/s, train_loss=0.11, valid_loss=0.177] \n",
      "Epoch: 31/50: 100%|██████████| 9/9 [00:00<00:00, 14.21it/s, train_loss=0.11, valid_loss=0.175] \n",
      "Epoch: 32/50: 100%|██████████| 9/9 [00:00<00:00, 14.59it/s, train_loss=0.107, valid_loss=0.176]\n",
      "Epoch: 33/50: 100%|██████████| 9/9 [00:00<00:00, 15.80it/s, train_loss=0.108, valid_loss=0.176]\n",
      "Epoch: 34/50: 100%|██████████| 9/9 [00:00<00:00, 10.14it/s, train_loss=0.106, valid_loss=0.174]\n",
      "Epoch: 35/50: 100%|██████████| 9/9 [00:00<00:00, 13.73it/s, train_loss=0.106, valid_loss=0.176]\n",
      "Epoch: 36/50: 100%|██████████| 9/9 [00:00<00:00, 14.34it/s, train_loss=0.109, valid_loss=0.175]\n",
      "Epoch: 37/50: 100%|██████████| 9/9 [00:00<00:00, 14.16it/s, train_loss=0.0992, valid_loss=0.175]\n",
      "Epoch: 38/50: 100%|██████████| 9/9 [00:00<00:00, 14.32it/s, train_loss=0.106, valid_loss=0.175]\n",
      "Epoch: 39/50: 100%|██████████| 9/9 [00:00<00:00, 14.70it/s, train_loss=0.105, valid_loss=0.176]\n",
      "Epoch: 40/50: 100%|██████████| 9/9 [00:00<00:00, 14.36it/s, train_loss=0.105, valid_loss=0.175]\n",
      "Epoch: 41/50: 100%|██████████| 9/9 [00:00<00:00, 14.40it/s, train_loss=0.109, valid_loss=0.174]\n"
     ]
    },
    {
     "name": "stdout",
     "output_type": "stream",
     "text": [
      "cross-validation dataset 0\n"
     ]
    },
    {
     "name": "stderr",
     "output_type": "stream",
     "text": [
      "Epoch: 1/50: 100%|██████████| 9/9 [00:00<00:00, 11.49it/s, train_loss=0.0388, valid_loss=0.0532]\n",
      "Epoch: 2/50: 100%|██████████| 9/9 [00:00<00:00, 13.55it/s, train_loss=0.0186, valid_loss=0.0467]\n",
      "Epoch: 3/50: 100%|██████████| 9/9 [00:00<00:00, 14.42it/s, train_loss=0.0157, valid_loss=0.0316]\n",
      "Epoch: 4/50: 100%|██████████| 9/9 [00:00<00:00, 14.55it/s, train_loss=0.0139, valid_loss=0.0423]\n",
      "Epoch: 5/50: 100%|██████████| 9/9 [00:00<00:00, 14.07it/s, train_loss=0.0121, valid_loss=0.0378]\n",
      "Epoch: 6/50: 100%|██████████| 9/9 [00:00<00:00, 14.05it/s, train_loss=0.00937, valid_loss=0.052]\n",
      "Epoch: 7/50: 100%|██████████| 9/9 [00:00<00:00, 11.32it/s, train_loss=0.00791, valid_loss=0.0444]\n",
      "Epoch: 8/50: 100%|██████████| 9/9 [00:00<00:00, 14.17it/s, train_loss=0.00611, valid_loss=0.0302]\n",
      "Epoch: 9/50: 100%|██████████| 9/9 [00:00<00:00, 14.08it/s, train_loss=0.00496, valid_loss=0.0179]\n",
      "Epoch: 10/50: 100%|██████████| 9/9 [00:00<00:00, 14.20it/s, train_loss=0.00378, valid_loss=0.0124]\n",
      "Epoch: 11/50: 100%|██████████| 9/9 [00:00<00:00, 14.13it/s, train_loss=0.00332, valid_loss=0.00831]\n",
      "Epoch: 12/50: 100%|██████████| 9/9 [00:00<00:00, 13.79it/s, train_loss=0.00277, valid_loss=0.00662]\n",
      "Epoch: 13/50: 100%|██████████| 9/9 [00:00<00:00, 15.16it/s, train_loss=0.00253, valid_loss=0.00592]\n",
      "Epoch: 14/50: 100%|██████████| 9/9 [00:00<00:00, 14.81it/s, train_loss=0.0025, valid_loss=0.00571] \n",
      "Epoch: 15/50: 100%|██████████| 9/9 [00:00<00:00, 14.14it/s, train_loss=0.00229, valid_loss=0.0057] \n",
      "Epoch: 16/50: 100%|██████████| 9/9 [00:00<00:00, 13.52it/s, train_loss=0.00227, valid_loss=0.00623]\n",
      "Epoch: 17/50: 100%|██████████| 9/9 [00:00<00:00, 14.34it/s, train_loss=0.00218, valid_loss=0.0069] \n",
      "Epoch: 18/50: 100%|██████████| 9/9 [00:00<00:00, 16.57it/s, train_loss=0.00202, valid_loss=0.00709]\n",
      "Epoch: 19/50: 100%|██████████| 9/9 [00:00<00:00, 15.11it/s, train_loss=0.00191, valid_loss=0.00765]\n",
      "Epoch: 20/50: 100%|██████████| 9/9 [00:00<00:00, 15.54it/s, train_loss=0.00189, valid_loss=0.00786]\n",
      "Epoch: 21/50: 100%|██████████| 9/9 [00:00<00:00, 15.10it/s, train_loss=0.00193, valid_loss=0.00799]\n",
      "Epoch: 22/50: 100%|██████████| 9/9 [00:00<00:00, 16.99it/s, train_loss=0.00204, valid_loss=0.00892]\n",
      "Epoch: 23/50: 100%|██████████| 9/9 [00:00<00:00, 15.83it/s, train_loss=0.00182, valid_loss=0.0095] \n",
      "Epoch: 24/50: 100%|██████████| 9/9 [00:00<00:00, 14.80it/s, train_loss=0.00179, valid_loss=0.00889]\n",
      "Epoch: 25/50: 100%|██████████| 9/9 [00:00<00:00, 11.76it/s, train_loss=0.0017, valid_loss=0.00886]\n",
      "Epoch: 26/50: 100%|██████████| 9/9 [00:00<00:00, 13.54it/s, train_loss=0.0017, valid_loss=0.00942] \n",
      "Epoch: 27/50: 100%|██████████| 9/9 [00:00<00:00, 15.43it/s, train_loss=0.00163, valid_loss=0.00958]\n",
      "Epoch: 28/50: 100%|██████████| 9/9 [00:00<00:00, 14.18it/s, train_loss=0.00153, valid_loss=0.0114] \n",
      "Epoch: 29/50: 100%|██████████| 9/9 [00:00<00:00, 11.71it/s, train_loss=0.00149, valid_loss=0.00988]\n",
      "Epoch: 30/50: 100%|██████████| 9/9 [00:00<00:00, 12.31it/s, train_loss=0.00157, valid_loss=0.00854]\n",
      "Epoch: 31/50: 100%|██████████| 9/9 [00:00<00:00, 10.38it/s, train_loss=0.00153, valid_loss=0.00893]\n",
      "Epoch: 32/50: 100%|██████████| 9/9 [00:00<00:00, 13.77it/s, train_loss=0.00158, valid_loss=0.0102] \n",
      "Epoch: 33/50: 100%|██████████| 9/9 [00:00<00:00, 10.31it/s, train_loss=0.00145, valid_loss=0.0114] \n",
      "Epoch: 34/50: 100%|██████████| 9/9 [00:00<00:00, 12.33it/s, train_loss=0.00143, valid_loss=0.0101] \n",
      "Epoch: 35/50: 100%|██████████| 9/9 [00:00<00:00, 14.43it/s, train_loss=0.00142, valid_loss=0.0086]\n",
      "Epoch: 36/50: 100%|██████████| 9/9 [00:00<00:00, 15.71it/s, train_loss=0.00136, valid_loss=0.00972]\n",
      "Epoch: 37/50: 100%|██████████| 9/9 [00:00<00:00, 15.18it/s, train_loss=0.00136, valid_loss=0.00916]\n",
      "Epoch: 38/50: 100%|██████████| 9/9 [00:00<00:00, 14.98it/s, train_loss=0.00142, valid_loss=0.0101]\n",
      "Epoch: 39/50: 100%|██████████| 9/9 [00:00<00:00, 11.57it/s, train_loss=0.00129, valid_loss=0.00897]\n",
      "Epoch: 40/50: 100%|██████████| 9/9 [00:00<00:00, 14.67it/s, train_loss=0.00126, valid_loss=0.00964]\n"
     ]
    },
    {
     "name": "stdout",
     "output_type": "stream",
     "text": [
      "cross-validation dataset 1\n"
     ]
    },
    {
     "name": "stderr",
     "output_type": "stream",
     "text": [
      "Epoch: 1/50: 100%|██████████| 17/17 [00:01<00:00, 12.83it/s, train_loss=0.0264, valid_loss=0.0318]\n",
      "Epoch: 2/50: 100%|██████████| 17/17 [00:01<00:00, 13.80it/s, train_loss=0.017, valid_loss=0.019]  \n",
      "Epoch: 3/50: 100%|██████████| 17/17 [00:01<00:00, 13.64it/s, train_loss=0.00681, valid_loss=0.00832]\n",
      "Epoch: 4/50: 100%|██████████| 17/17 [00:01<00:00, 12.98it/s, train_loss=0.00443, valid_loss=0.00387]\n",
      "Epoch: 5/50: 100%|██████████| 17/17 [00:01<00:00, 11.98it/s, train_loss=0.00394, valid_loss=0.00322]\n",
      "Epoch: 6/50: 100%|██████████| 17/17 [00:01<00:00, 12.67it/s, train_loss=0.00306, valid_loss=0.00271]\n",
      "Epoch: 7/50: 100%|██████████| 17/17 [00:01<00:00, 12.54it/s, train_loss=0.00289, valid_loss=0.0024] \n",
      "Epoch: 8/50: 100%|██████████| 17/17 [00:01<00:00, 12.25it/s, train_loss=0.00284, valid_loss=0.00222]\n",
      "Epoch: 9/50: 100%|██████████| 17/17 [00:01<00:00, 11.27it/s, train_loss=0.00269, valid_loss=0.00225]\n",
      "Epoch: 10/50: 100%|██████████| 17/17 [00:01<00:00, 10.33it/s, train_loss=0.00241, valid_loss=0.00218]\n",
      "Epoch: 11/50: 100%|██████████| 17/17 [00:01<00:00, 14.34it/s, train_loss=0.00264, valid_loss=0.00192]\n",
      "Epoch: 12/50: 100%|██████████| 17/17 [00:01<00:00, 14.32it/s, train_loss=0.00242, valid_loss=0.00207]\n",
      "Epoch: 13/50: 100%|██████████| 17/17 [00:01<00:00, 14.41it/s, train_loss=0.00228, valid_loss=0.00253]\n",
      "Epoch: 14/50: 100%|██████████| 17/17 [00:01<00:00, 12.60it/s, train_loss=0.00225, valid_loss=0.00224]\n",
      "Epoch: 15/50: 100%|██████████| 17/17 [00:01<00:00, 12.97it/s, train_loss=0.00213, valid_loss=0.00184]\n",
      "Epoch: 16/50: 100%|██████████| 17/17 [00:01<00:00, 14.28it/s, train_loss=0.00228, valid_loss=0.00179]\n",
      "Epoch: 17/50: 100%|██████████| 17/17 [00:01<00:00, 11.67it/s, train_loss=0.0021, valid_loss=0.00173] \n",
      "Epoch: 18/50: 100%|██████████| 17/17 [00:01<00:00, 13.90it/s, train_loss=0.00202, valid_loss=0.00176]\n",
      "Epoch: 19/50: 100%|██████████| 17/17 [00:01<00:00, 13.77it/s, train_loss=0.00188, valid_loss=0.00181]\n",
      "Epoch: 20/50: 100%|██████████| 17/17 [00:01<00:00, 13.21it/s, train_loss=0.00175, valid_loss=0.00179]\n",
      "Epoch: 21/50: 100%|██████████| 17/17 [00:01<00:00, 13.65it/s, train_loss=0.00193, valid_loss=0.00194]\n",
      "Epoch: 22/50: 100%|██████████| 17/17 [00:01<00:00, 13.70it/s, train_loss=0.00179, valid_loss=0.00181]\n",
      "Epoch: 23/50: 100%|██████████| 17/17 [00:01<00:00, 13.23it/s, train_loss=0.00182, valid_loss=0.00191]\n",
      "Epoch: 24/50: 100%|██████████| 17/17 [00:01<00:00, 13.67it/s, train_loss=0.0018, valid_loss=0.00184] \n",
      "Epoch: 25/50: 100%|██████████| 17/17 [00:01<00:00, 12.95it/s, train_loss=0.0017, valid_loss=0.0018]  \n",
      "Epoch: 26/50: 100%|██████████| 17/17 [00:01<00:00, 13.89it/s, train_loss=0.0016, valid_loss=0.00158] \n",
      "Epoch: 27/50: 100%|██████████| 17/17 [00:01<00:00, 14.36it/s, train_loss=0.00148, valid_loss=0.00154]\n",
      "Epoch: 28/50: 100%|██████████| 17/17 [00:01<00:00, 13.81it/s, train_loss=0.00164, valid_loss=0.00153]\n",
      "Epoch: 29/50: 100%|██████████| 17/17 [00:01<00:00, 13.77it/s, train_loss=0.00183, valid_loss=0.00162]\n",
      "Epoch: 30/50: 100%|██████████| 17/17 [00:01<00:00, 12.95it/s, train_loss=0.00153, valid_loss=0.00146]\n",
      "Epoch: 31/50: 100%|██████████| 17/17 [00:01<00:00, 13.97it/s, train_loss=0.00141, valid_loss=0.00158]\n",
      "Epoch: 32/50: 100%|██████████| 17/17 [00:01<00:00, 15.51it/s, train_loss=0.00147, valid_loss=0.00172]\n",
      "Epoch: 33/50: 100%|██████████| 17/17 [00:01<00:00, 14.04it/s, train_loss=0.00159, valid_loss=0.00158]\n",
      "Epoch: 34/50: 100%|██████████| 17/17 [00:01<00:00, 14.14it/s, train_loss=0.00151, valid_loss=0.00151]\n",
      "Epoch: 35/50: 100%|██████████| 17/17 [00:01<00:00, 13.09it/s, train_loss=0.0015, valid_loss=0.00169] \n",
      "Epoch: 36/50: 100%|██████████| 17/17 [00:01<00:00, 13.72it/s, train_loss=0.00142, valid_loss=0.00146]\n",
      "Epoch: 37/50: 100%|██████████| 17/17 [00:01<00:00, 13.62it/s, train_loss=0.00129, valid_loss=0.00163]\n",
      "Epoch: 38/50: 100%|██████████| 17/17 [00:01<00:00, 13.90it/s, train_loss=0.00147, valid_loss=0.00166]\n",
      "Epoch: 39/50: 100%|██████████| 17/17 [00:01<00:00, 12.51it/s, train_loss=0.00128, valid_loss=0.0015] \n",
      "Epoch: 40/50: 100%|██████████| 17/17 [00:01<00:00, 11.11it/s, train_loss=0.00127, valid_loss=0.00158]\n",
      "Epoch: 41/50: 100%|██████████| 17/17 [00:01<00:00, 13.70it/s, train_loss=0.00107, valid_loss=0.00172]\n",
      "Epoch: 42/50: 100%|██████████| 17/17 [00:01<00:00, 14.07it/s, train_loss=0.00114, valid_loss=0.00169]\n",
      "Epoch: 43/50: 100%|██████████| 17/17 [00:01<00:00, 12.91it/s, train_loss=0.00101, valid_loss=0.00167]\n",
      "Epoch: 44/50: 100%|██████████| 17/17 [00:01<00:00, 11.64it/s, train_loss=0.0011, valid_loss=0.00151] \n",
      "Epoch: 45/50: 100%|██████████| 17/17 [00:01<00:00, 10.68it/s, train_loss=0.00102, valid_loss=0.00162] \n",
      "Epoch: 46/50: 100%|██████████| 17/17 [00:01<00:00, 12.13it/s, train_loss=0.00103, valid_loss=0.00159]\n",
      "Epoch: 47/50: 100%|██████████| 17/17 [00:01<00:00, 11.57it/s, train_loss=0.000959, valid_loss=0.00151]\n",
      "Epoch: 48/50: 100%|██████████| 17/17 [00:01<00:00, 12.20it/s, train_loss=0.00101, valid_loss=0.00156]\n"
     ]
    },
    {
     "name": "stdout",
     "output_type": "stream",
     "text": [
      "cross-validation dataset 2\n"
     ]
    },
    {
     "name": "stderr",
     "output_type": "stream",
     "text": [
      "Epoch: 1/50: 100%|██████████| 25/25 [00:01<00:00, 13.59it/s, train_loss=0.0256, valid_loss=0.0341]\n",
      "Epoch: 2/50: 100%|██████████| 25/25 [00:02<00:00, 12.03it/s, train_loss=0.0146, valid_loss=0.026] \n",
      "Epoch: 3/50: 100%|██████████| 25/25 [00:01<00:00, 12.54it/s, train_loss=0.0045, valid_loss=0.00634] \n",
      "Epoch: 4/50: 100%|██████████| 25/25 [00:01<00:00, 13.10it/s, train_loss=0.00359, valid_loss=0.00484]\n",
      "Epoch: 5/50: 100%|██████████| 25/25 [00:01<00:00, 13.08it/s, train_loss=0.00258, valid_loss=0.00391]\n",
      "Epoch: 6/50: 100%|██████████| 25/25 [00:02<00:00, 11.98it/s, train_loss=0.00262, valid_loss=0.00357]\n",
      "Epoch: 7/50: 100%|██████████| 25/25 [00:02<00:00, 12.06it/s, train_loss=0.00218, valid_loss=0.00336]\n",
      "Epoch: 8/50: 100%|██████████| 25/25 [00:02<00:00, 12.32it/s, train_loss=0.00244, valid_loss=0.00357]\n",
      "Epoch: 9/50: 100%|██████████| 25/25 [00:02<00:00, 11.40it/s, train_loss=0.00198, valid_loss=0.00334]\n",
      "Epoch: 10/50: 100%|██████████| 25/25 [00:02<00:00, 12.48it/s, train_loss=0.00197, valid_loss=0.0035] \n",
      "Epoch: 11/50: 100%|██████████| 25/25 [00:01<00:00, 12.68it/s, train_loss=0.00166, valid_loss=0.0031] \n",
      "Epoch: 12/50: 100%|██████████| 25/25 [00:01<00:00, 13.83it/s, train_loss=0.00176, valid_loss=0.00331]\n",
      "Epoch: 13/50: 100%|██████████| 25/25 [00:01<00:00, 14.87it/s, train_loss=0.00193, valid_loss=0.00301]\n",
      "Epoch: 14/50: 100%|██████████| 25/25 [00:01<00:00, 13.13it/s, train_loss=0.00161, valid_loss=0.00328]\n",
      "Epoch: 15/50: 100%|██████████| 25/25 [00:01<00:00, 13.41it/s, train_loss=0.00167, valid_loss=0.00308]\n",
      "Epoch: 16/50: 100%|██████████| 25/25 [00:01<00:00, 13.63it/s, train_loss=0.00162, valid_loss=0.00321]\n",
      "Epoch: 17/50: 100%|██████████| 25/25 [00:01<00:00, 13.31it/s, train_loss=0.00169, valid_loss=0.00293]\n",
      "Epoch: 18/50: 100%|██████████| 25/25 [00:01<00:00, 14.42it/s, train_loss=0.00138, valid_loss=0.00281]\n",
      "Epoch: 19/50: 100%|██████████| 25/25 [00:01<00:00, 14.67it/s, train_loss=0.00167, valid_loss=0.00302]\n",
      "Epoch: 20/50: 100%|██████████| 25/25 [00:01<00:00, 12.84it/s, train_loss=0.00156, valid_loss=0.00279]\n",
      "Epoch: 21/50: 100%|██████████| 25/25 [00:02<00:00, 12.47it/s, train_loss=0.00143, valid_loss=0.00348]\n",
      "Epoch: 22/50: 100%|██████████| 25/25 [00:01<00:00, 13.24it/s, train_loss=0.00159, valid_loss=0.00363]\n",
      "Epoch: 23/50: 100%|██████████| 25/25 [00:01<00:00, 14.33it/s, train_loss=0.00146, valid_loss=0.00335]\n",
      "Epoch: 24/50: 100%|██████████| 25/25 [00:02<00:00, 12.05it/s, train_loss=0.0013, valid_loss=0.00344] \n",
      "Epoch: 25/50: 100%|██████████| 25/25 [00:01<00:00, 14.74it/s, train_loss=0.00129, valid_loss=0.00399]\n",
      "Epoch: 26/50: 100%|██████████| 25/25 [00:01<00:00, 13.23it/s, train_loss=0.00129, valid_loss=0.00414]\n",
      "Epoch: 27/50: 100%|██████████| 25/25 [00:02<00:00, 12.10it/s, train_loss=0.00122, valid_loss=0.00395]\n",
      "Epoch: 28/50: 100%|██████████| 25/25 [00:01<00:00, 14.10it/s, train_loss=0.00132, valid_loss=0.00455]\n",
      "Epoch: 29/50: 100%|██████████| 25/25 [00:01<00:00, 14.21it/s, train_loss=0.00121, valid_loss=0.00463]\n",
      "Epoch: 30/50: 100%|██████████| 25/25 [00:01<00:00, 13.49it/s, train_loss=0.00106, valid_loss=0.00471]\n"
     ]
    },
    {
     "name": "stdout",
     "output_type": "stream",
     "text": [
      "cross-validation dataset 3\n"
     ]
    },
    {
     "name": "stderr",
     "output_type": "stream",
     "text": [
      "Epoch: 1/50: 100%|██████████| 33/33 [00:02<00:00, 12.02it/s, train_loss=0.155, valid_loss=0.191]\n",
      "Epoch: 2/50: 100%|██████████| 33/33 [00:02<00:00, 12.90it/s, train_loss=0.162, valid_loss=0.192]\n",
      "Epoch: 3/50: 100%|██████████| 33/33 [00:02<00:00, 14.77it/s, train_loss=0.157, valid_loss=0.191]\n",
      "Epoch: 4/50: 100%|██████████| 33/33 [00:02<00:00, 13.62it/s, train_loss=0.158, valid_loss=0.19] \n",
      "Epoch: 5/50: 100%|██████████| 33/33 [00:01<00:00, 17.05it/s, train_loss=0.167, valid_loss=0.191]\n",
      "Epoch: 6/50: 100%|██████████| 33/33 [00:02<00:00, 16.07it/s, train_loss=0.149, valid_loss=0.191]\n",
      "Epoch: 7/50: 100%|██████████| 33/33 [00:02<00:00, 14.50it/s, train_loss=0.167, valid_loss=0.192]\n",
      "Epoch: 8/50: 100%|██████████| 33/33 [00:02<00:00, 14.90it/s, train_loss=0.161, valid_loss=0.189]\n",
      "Epoch: 9/50: 100%|██████████| 33/33 [00:02<00:00, 13.12it/s, train_loss=0.162, valid_loss=0.19] \n",
      "Epoch: 10/50: 100%|██████████| 33/33 [00:02<00:00, 14.32it/s, train_loss=0.157, valid_loss=0.19]\n",
      "Epoch: 11/50: 100%|██████████| 33/33 [00:02<00:00, 13.92it/s, train_loss=0.157, valid_loss=0.189]\n",
      "Epoch: 12/50: 100%|██████████| 33/33 [00:02<00:00, 15.30it/s, train_loss=0.16, valid_loss=0.192] \n",
      "Epoch: 13/50: 100%|██████████| 33/33 [00:02<00:00, 16.40it/s, train_loss=0.161, valid_loss=0.19] \n"
     ]
    },
    {
     "name": "stdout",
     "output_type": "stream",
     "text": [
      "cross-validation dataset 3\n"
     ]
    },
    {
     "name": "stderr",
     "output_type": "stream",
     "text": [
      "Epoch: 1/50: 100%|██████████| 33/33 [00:02<00:00, 14.87it/s, train_loss=0.0129, valid_loss=0.0123]\n",
      "Epoch: 2/50: 100%|██████████| 33/33 [00:02<00:00, 15.57it/s, train_loss=0.00405, valid_loss=0.0048] \n",
      "Epoch: 3/50: 100%|██████████| 33/33 [00:02<00:00, 15.43it/s, train_loss=0.00291, valid_loss=0.00272]\n",
      "Epoch: 4/50: 100%|██████████| 33/33 [00:02<00:00, 15.12it/s, train_loss=0.00284, valid_loss=0.00219]\n",
      "Epoch: 5/50: 100%|██████████| 33/33 [00:02<00:00, 14.58it/s, train_loss=0.00249, valid_loss=0.00234]\n",
      "Epoch: 6/50: 100%|██████████| 33/33 [00:02<00:00, 14.82it/s, train_loss=0.00245, valid_loss=0.00214]\n",
      "Epoch: 7/50: 100%|██████████| 33/33 [00:02<00:00, 15.70it/s, train_loss=0.00258, valid_loss=0.0014] \n",
      "Epoch: 8/50: 100%|██████████| 33/33 [00:02<00:00, 13.25it/s, train_loss=0.00253, valid_loss=0.00128]\n",
      "Epoch: 9/50: 100%|██████████| 33/33 [00:02<00:00, 15.60it/s, train_loss=0.00222, valid_loss=0.00123]\n",
      "Epoch: 10/50: 100%|██████████| 33/33 [00:02<00:00, 14.93it/s, train_loss=0.00166, valid_loss=0.0011] \n",
      "Epoch: 11/50: 100%|██████████| 33/33 [00:02<00:00, 14.55it/s, train_loss=0.00205, valid_loss=0.00106]\n",
      "Epoch: 12/50: 100%|██████████| 33/33 [00:02<00:00, 14.16it/s, train_loss=0.0019, valid_loss=0.00102] \n",
      "Epoch: 13/50: 100%|██████████| 33/33 [00:02<00:00, 15.94it/s, train_loss=0.00157, valid_loss=0.000991]\n",
      "Epoch: 14/50: 100%|██████████| 33/33 [00:02<00:00, 15.01it/s, train_loss=0.00171, valid_loss=0.000979]\n",
      "Epoch: 15/50: 100%|██████████| 33/33 [00:02<00:00, 14.51it/s, train_loss=0.0015, valid_loss=0.00119]  \n",
      "Epoch: 16/50: 100%|██████████| 33/33 [00:02<00:00, 16.03it/s, train_loss=0.0016, valid_loss=0.00102]  \n",
      "Epoch: 17/50: 100%|██████████| 33/33 [00:02<00:00, 15.57it/s, train_loss=0.00147, valid_loss=0.000999]\n",
      "Epoch: 18/50: 100%|██████████| 33/33 [00:02<00:00, 14.99it/s, train_loss=0.00151, valid_loss=0.00102] \n",
      "Epoch: 19/50: 100%|██████████| 33/33 [00:02<00:00, 15.46it/s, train_loss=0.00134, valid_loss=0.00117]\n",
      "Epoch: 20/50: 100%|██████████| 33/33 [00:02<00:00, 14.35it/s, train_loss=0.00148, valid_loss=0.000974]\n",
      "Epoch: 21/50: 100%|██████████| 33/33 [00:02<00:00, 12.31it/s, train_loss=0.00121, valid_loss=0.000971]\n",
      "Epoch: 22/50: 100%|██████████| 33/33 [00:02<00:00, 14.65it/s, train_loss=0.00133, valid_loss=0.00112] \n",
      "Epoch: 23/50: 100%|██████████| 33/33 [00:02<00:00, 12.74it/s, train_loss=0.00123, valid_loss=0.00097] \n",
      "Epoch: 24/50: 100%|██████████| 33/33 [00:02<00:00, 15.30it/s, train_loss=0.00119, valid_loss=0.00098] \n",
      "Epoch: 25/50: 100%|██████████| 33/33 [00:02<00:00, 15.09it/s, train_loss=0.00111, valid_loss=0.00109] \n",
      "Epoch: 26/50: 100%|██████████| 33/33 [00:02<00:00, 14.66it/s, train_loss=0.00108, valid_loss=0.00101]\n",
      "Epoch: 27/50: 100%|██████████| 33/33 [00:02<00:00, 13.14it/s, train_loss=0.00111, valid_loss=0.000973]\n",
      "Epoch: 28/50: 100%|██████████| 33/33 [00:02<00:00, 15.75it/s, train_loss=0.001, valid_loss=0.00101]   \n",
      "Epoch: 29/50: 100%|██████████| 33/33 [00:02<00:00, 15.09it/s, train_loss=0.00103, valid_loss=0.00107] \n"
     ]
    },
    {
     "name": "stdout",
     "output_type": "stream",
     "text": [
      "cross-validation dataset 4\n"
     ]
    },
    {
     "name": "stderr",
     "output_type": "stream",
     "text": [
      "Epoch: 1/50: 100%|██████████| 42/42 [00:02<00:00, 14.98it/s, train_loss=0.167, valid_loss=0.188]\n",
      "Epoch: 2/50: 100%|██████████| 42/42 [00:03<00:00, 12.70it/s, train_loss=0.159, valid_loss=0.19] \n",
      "Epoch: 3/50: 100%|██████████| 42/42 [00:03<00:00, 13.18it/s, train_loss=0.169, valid_loss=0.189]\n",
      "Epoch: 4/50: 100%|██████████| 42/42 [00:03<00:00, 12.92it/s, train_loss=0.165, valid_loss=0.188]\n",
      "Epoch: 5/50: 100%|██████████| 42/42 [00:03<00:00, 12.29it/s, train_loss=0.171, valid_loss=0.188]\n",
      "Epoch: 6/50: 100%|██████████| 42/42 [00:02<00:00, 14.26it/s, train_loss=0.168, valid_loss=0.189]\n",
      "Epoch: 7/50: 100%|██████████| 42/42 [00:03<00:00, 12.18it/s, train_loss=0.167, valid_loss=0.189]\n"
     ]
    },
    {
     "name": "stdout",
     "output_type": "stream",
     "text": [
      "cross-validation dataset 4\n"
     ]
    },
    {
     "name": "stderr",
     "output_type": "stream",
     "text": [
      "Epoch: 1/50: 100%|██████████| 42/42 [00:03<00:00, 13.95it/s, train_loss=0.0223, valid_loss=0.0236]\n",
      "Epoch: 2/50: 100%|██████████| 42/42 [00:03<00:00, 13.08it/s, train_loss=0.00384, valid_loss=0.00538]\n",
      "Epoch: 3/50: 100%|██████████| 42/42 [00:02<00:00, 14.53it/s, train_loss=0.00259, valid_loss=0.00389]\n",
      "Epoch: 4/50: 100%|██████████| 42/42 [00:02<00:00, 14.78it/s, train_loss=0.00259, valid_loss=0.00361]\n",
      "Epoch: 5/50: 100%|██████████| 42/42 [00:03<00:00, 13.16it/s, train_loss=0.0025, valid_loss=0.0034]  \n",
      "Epoch: 6/50: 100%|██████████| 42/42 [00:02<00:00, 15.31it/s, train_loss=0.00238, valid_loss=0.00319]\n",
      "Epoch: 7/50: 100%|██████████| 42/42 [00:02<00:00, 15.56it/s, train_loss=0.00185, valid_loss=0.00326]\n",
      "Epoch: 8/50: 100%|██████████| 42/42 [00:03<00:00, 13.78it/s, train_loss=0.00178, valid_loss=0.00297]\n",
      "Epoch: 9/50: 100%|██████████| 42/42 [00:03<00:00, 13.31it/s, train_loss=0.00177, valid_loss=0.00289]\n",
      "Epoch: 10/50: 100%|██████████| 42/42 [00:03<00:00, 13.71it/s, train_loss=0.0019, valid_loss=0.00301] \n",
      "Epoch: 11/50: 100%|██████████| 42/42 [00:03<00:00, 13.67it/s, train_loss=0.00173, valid_loss=0.00279]\n",
      "Epoch: 12/50: 100%|██████████| 42/42 [00:02<00:00, 14.63it/s, train_loss=0.00172, valid_loss=0.00278]\n",
      "Epoch: 13/50: 100%|██████████| 42/42 [00:03<00:00, 13.87it/s, train_loss=0.0014, valid_loss=0.00284] \n",
      "Epoch: 14/50: 100%|██████████| 42/42 [00:02<00:00, 15.08it/s, train_loss=0.00165, valid_loss=0.00277]\n",
      "Epoch: 15/50: 100%|██████████| 42/42 [00:03<00:00, 11.87it/s, train_loss=0.00159, valid_loss=0.00276]\n",
      "Epoch: 16/50: 100%|██████████| 42/42 [00:03<00:00, 13.79it/s, train_loss=0.00141, valid_loss=0.00272]\n",
      "Epoch: 17/50: 100%|██████████| 42/42 [00:02<00:00, 14.36it/s, train_loss=0.00137, valid_loss=0.00269]\n",
      "Epoch: 18/50: 100%|██████████| 42/42 [00:02<00:00, 15.10it/s, train_loss=0.00129, valid_loss=0.00283]\n",
      "Epoch: 19/50: 100%|██████████| 42/42 [00:03<00:00, 13.92it/s, train_loss=0.00137, valid_loss=0.00268]\n"
     ]
    },
    {
     "name": "stdout",
     "output_type": "stream",
     "text": [
      "model config: batch_size-256, lr-0.01, number_epoch-50, hidden_dim-100, n_layers-3,drop_prob-0.6,weight_decay-1e-08\n",
      "cross-validation dataset 0\n"
     ]
    },
    {
     "name": "stderr",
     "output_type": "stream",
     "text": [
      "Epoch: 1/50: 100%|██████████| 17/17 [00:01<00:00,  9.21it/s, train_loss=0.106, valid_loss=0.175]\n",
      "Epoch: 2/50: 100%|██████████| 17/17 [00:01<00:00,  9.20it/s, train_loss=0.107, valid_loss=0.175]\n",
      "Epoch: 3/50: 100%|██████████| 17/17 [00:01<00:00,  8.55it/s, train_loss=0.111, valid_loss=0.175]\n",
      "Epoch: 4/50: 100%|██████████| 17/17 [00:01<00:00,  9.59it/s, train_loss=0.11, valid_loss=0.175] \n",
      "Epoch: 5/50: 100%|██████████| 17/17 [00:01<00:00,  9.80it/s, train_loss=0.104, valid_loss=0.175]\n",
      "Epoch: 6/50: 100%|██████████| 17/17 [00:01<00:00, 10.05it/s, train_loss=0.108, valid_loss=0.175]\n",
      "Epoch: 7/50: 100%|██████████| 17/17 [00:02<00:00,  8.13it/s, train_loss=0.112, valid_loss=0.175]\n",
      "Epoch: 8/50: 100%|██████████| 17/17 [00:01<00:00, 10.97it/s, train_loss=0.112, valid_loss=0.175]\n",
      "Epoch: 9/50: 100%|██████████| 17/17 [00:01<00:00,  9.82it/s, train_loss=0.104, valid_loss=0.175]\n",
      "Epoch: 10/50: 100%|██████████| 17/17 [00:01<00:00, 11.04it/s, train_loss=0.111, valid_loss=0.175]\n",
      "Epoch: 11/50: 100%|██████████| 17/17 [00:01<00:00,  8.54it/s, train_loss=0.107, valid_loss=0.175]\n",
      "Epoch: 12/50: 100%|██████████| 17/17 [00:01<00:00,  8.69it/s, train_loss=0.114, valid_loss=0.175]\n",
      "Epoch: 13/50: 100%|██████████| 17/17 [00:01<00:00,  9.45it/s, train_loss=0.102, valid_loss=0.175]\n",
      "Epoch: 14/50: 100%|██████████| 17/17 [00:01<00:00,  8.51it/s, train_loss=0.103, valid_loss=0.175]\n",
      "Epoch: 15/50: 100%|██████████| 17/17 [00:01<00:00,  9.87it/s, train_loss=0.102, valid_loss=0.175]\n",
      "Epoch: 16/50: 100%|██████████| 17/17 [00:02<00:00,  8.49it/s, train_loss=0.112, valid_loss=0.176]\n"
     ]
    },
    {
     "name": "stdout",
     "output_type": "stream",
     "text": [
      "cross-validation dataset 0\n"
     ]
    },
    {
     "name": "stderr",
     "output_type": "stream",
     "text": [
      "Epoch: 1/50: 100%|██████████| 17/17 [00:01<00:00,  8.91it/s, train_loss=0.0165, valid_loss=0.0461]\n",
      "Epoch: 2/50: 100%|██████████| 17/17 [00:01<00:00,  8.76it/s, train_loss=0.00678, valid_loss=0.0397]\n",
      "Epoch: 3/50: 100%|██████████| 17/17 [00:01<00:00, 10.79it/s, train_loss=0.00451, valid_loss=0.0197]\n",
      "Epoch: 4/50: 100%|██████████| 17/17 [00:01<00:00,  9.55it/s, train_loss=0.00355, valid_loss=0.00745]\n",
      "Epoch: 5/50: 100%|██████████| 17/17 [00:02<00:00,  8.36it/s, train_loss=0.00241, valid_loss=0.00694]\n",
      "Epoch: 6/50: 100%|██████████| 17/17 [00:01<00:00,  8.66it/s, train_loss=0.00222, valid_loss=0.00452]\n",
      "Epoch: 7/50: 100%|██████████| 17/17 [00:01<00:00,  9.29it/s, train_loss=0.00211, valid_loss=0.00545]\n",
      "Epoch: 8/50: 100%|██████████| 17/17 [00:01<00:00,  8.94it/s, train_loss=0.00179, valid_loss=0.00525]\n",
      "Epoch: 9/50: 100%|██████████| 17/17 [00:02<00:00,  6.77it/s, train_loss=0.00204, valid_loss=0.00589]\n",
      "Epoch: 10/50: 100%|██████████| 17/17 [00:02<00:00,  6.96it/s, train_loss=0.00185, valid_loss=0.00631]\n",
      "Epoch: 11/50: 100%|██████████| 17/17 [00:02<00:00,  8.05it/s, train_loss=0.00154, valid_loss=0.00991]\n",
      "Epoch: 12/50: 100%|██████████| 17/17 [00:01<00:00,  9.03it/s, train_loss=0.00161, valid_loss=0.00942]\n",
      "Epoch: 13/50: 100%|██████████| 17/17 [00:01<00:00,  9.06it/s, train_loss=0.00138, valid_loss=0.00999]\n",
      "Epoch: 14/50: 100%|██████████| 17/17 [00:02<00:00,  8.16it/s, train_loss=0.00144, valid_loss=0.0093] \n",
      "Epoch: 15/50: 100%|██████████| 17/17 [00:02<00:00,  8.45it/s, train_loss=0.00144, valid_loss=0.0123]\n",
      "Epoch: 16/50: 100%|██████████| 17/17 [00:02<00:00,  7.62it/s, train_loss=0.00136, valid_loss=0.00817]\n",
      "Epoch: 17/50: 100%|██████████| 17/17 [00:02<00:00,  8.33it/s, train_loss=0.00136, valid_loss=0.0128] \n",
      "Epoch: 18/50: 100%|██████████| 17/17 [00:01<00:00,  8.93it/s, train_loss=0.00111, valid_loss=0.00981]\n",
      "Epoch: 19/50: 100%|██████████| 17/17 [00:02<00:00,  8.23it/s, train_loss=0.00108, valid_loss=0.00623]\n",
      "Epoch: 20/50: 100%|██████████| 17/17 [00:02<00:00,  7.99it/s, train_loss=0.00135, valid_loss=0.00954]\n"
     ]
    },
    {
     "name": "stdout",
     "output_type": "stream",
     "text": [
      "cross-validation dataset 1\n"
     ]
    },
    {
     "name": "stderr",
     "output_type": "stream",
     "text": [
      "Epoch: 1/50: 100%|██████████| 33/33 [00:03<00:00, 10.98it/s, train_loss=0.0107, valid_loss=0.0126]\n",
      "Epoch: 2/50: 100%|██████████| 33/33 [00:02<00:00, 11.12it/s, train_loss=0.00348, valid_loss=0.00248]\n",
      "Epoch: 3/50: 100%|██████████| 33/33 [00:03<00:00,  9.46it/s, train_loss=0.00329, valid_loss=0.00226]\n",
      "Epoch: 4/50: 100%|██████████| 33/33 [00:03<00:00,  9.35it/s, train_loss=0.00324, valid_loss=0.00174]\n",
      "Epoch: 5/50: 100%|██████████| 33/33 [00:04<00:00,  6.79it/s, train_loss=0.00243, valid_loss=0.00184]\n",
      "Epoch: 6/50: 100%|██████████| 33/33 [00:03<00:00,  9.42it/s, train_loss=0.00265, valid_loss=0.00173]\n",
      "Epoch: 7/50: 100%|██████████| 33/33 [00:03<00:00,  8.33it/s, train_loss=0.00239, valid_loss=0.00181]\n",
      "Epoch: 8/50: 100%|██████████| 33/33 [00:03<00:00,  8.33it/s, train_loss=0.00205, valid_loss=0.00179]\n",
      "Epoch: 9/50: 100%|██████████| 33/33 [00:04<00:00,  8.14it/s, train_loss=0.00192, valid_loss=0.00161]\n",
      "Epoch: 10/50: 100%|██████████| 33/33 [00:04<00:00,  7.72it/s, train_loss=0.00236, valid_loss=0.00183]\n",
      "Epoch: 11/50: 100%|██████████| 33/33 [00:03<00:00,  9.17it/s, train_loss=0.00195, valid_loss=0.00158]\n",
      "Epoch: 12/50: 100%|██████████| 33/33 [00:03<00:00, 10.03it/s, train_loss=0.00147, valid_loss=0.00136]\n",
      "Epoch: 13/50: 100%|██████████| 33/33 [00:03<00:00, 10.11it/s, train_loss=0.00162, valid_loss=0.00134]\n",
      "Epoch: 14/50: 100%|██████████| 33/33 [00:03<00:00,  9.08it/s, train_loss=0.00139, valid_loss=0.00135]\n",
      "Epoch: 15/50: 100%|██████████| 33/33 [00:03<00:00,  9.72it/s, train_loss=0.00142, valid_loss=0.00132]\n",
      "Epoch: 16/50: 100%|██████████| 33/33 [00:03<00:00,  9.22it/s, train_loss=0.00143, valid_loss=0.00143]\n",
      "Epoch: 17/50: 100%|██████████| 33/33 [00:03<00:00,  9.86it/s, train_loss=0.00154, valid_loss=0.00206]\n",
      "Epoch: 18/50: 100%|██████████| 33/33 [00:03<00:00,  9.45it/s, train_loss=0.00124, valid_loss=0.00151]\n",
      "Epoch: 19/50: 100%|██████████| 33/33 [00:03<00:00,  9.98it/s, train_loss=0.00126, valid_loss=0.00149]\n",
      "Epoch: 20/50: 100%|██████████| 33/33 [00:03<00:00, 10.82it/s, train_loss=0.00115, valid_loss=0.00142]\n",
      "Epoch: 21/50: 100%|██████████| 33/33 [00:02<00:00, 11.88it/s, train_loss=0.00139, valid_loss=0.00137] \n"
     ]
    },
    {
     "name": "stdout",
     "output_type": "stream",
     "text": [
      "cross-validation dataset 2\n"
     ]
    },
    {
     "name": "stderr",
     "output_type": "stream",
     "text": [
      "Epoch: 1/50: 100%|██████████| 50/50 [00:04<00:00, 11.71it/s, train_loss=0.00716, valid_loss=0.00886]\n",
      "Epoch: 2/50: 100%|██████████| 50/50 [00:04<00:00, 11.89it/s, train_loss=0.00332, valid_loss=0.00378]\n",
      "Epoch: 3/50: 100%|██████████| 50/50 [00:04<00:00, 11.79it/s, train_loss=0.00304, valid_loss=0.00331]\n",
      "Epoch: 4/50: 100%|██████████| 50/50 [00:04<00:00, 12.02it/s, train_loss=0.00228, valid_loss=0.00297]\n",
      "Epoch: 5/50: 100%|██████████| 50/50 [00:04<00:00, 10.79it/s, train_loss=0.00175, valid_loss=0.00286]\n",
      "Epoch: 6/50: 100%|██████████| 50/50 [00:05<00:00,  9.21it/s, train_loss=0.00175, valid_loss=0.00275]\n",
      "Epoch: 7/50: 100%|██████████| 50/50 [00:05<00:00,  9.69it/s, train_loss=0.00175, valid_loss=0.00279]\n",
      "Epoch: 8/50: 100%|██████████| 50/50 [00:05<00:00,  9.42it/s, train_loss=0.00153, valid_loss=0.00278]\n",
      "Epoch: 9/50: 100%|██████████| 50/50 [00:05<00:00,  9.03it/s, train_loss=0.00165, valid_loss=0.00319]\n",
      "Epoch: 10/50: 100%|██████████| 50/50 [00:04<00:00, 10.09it/s, train_loss=0.00164, valid_loss=0.00292]\n",
      "Epoch: 11/50: 100%|██████████| 50/50 [00:04<00:00, 11.02it/s, train_loss=0.00165, valid_loss=0.00289]\n",
      "Epoch: 12/50: 100%|██████████| 50/50 [00:04<00:00, 10.82it/s, train_loss=0.00139, valid_loss=0.00288]\n",
      "Epoch: 13/50: 100%|██████████| 50/50 [00:04<00:00, 10.09it/s, train_loss=0.00148, valid_loss=0.00322]\n",
      "Epoch: 14/50: 100%|██████████| 50/50 [00:04<00:00, 11.49it/s, train_loss=0.00136, valid_loss=0.00297]\n",
      "Epoch: 15/50: 100%|██████████| 50/50 [00:04<00:00, 11.18it/s, train_loss=0.00139, valid_loss=0.00343]\n",
      "Epoch: 16/50: 100%|██████████| 50/50 [00:04<00:00, 10.18it/s, train_loss=0.00149, valid_loss=0.00357]\n",
      "Epoch: 17/50: 100%|██████████| 50/50 [00:05<00:00,  9.68it/s, train_loss=0.00129, valid_loss=0.00313]\n",
      "Epoch: 18/50: 100%|██████████| 50/50 [00:04<00:00, 10.80it/s, train_loss=0.0015, valid_loss=0.0038]  \n",
      "Epoch: 19/50: 100%|██████████| 50/50 [00:04<00:00, 11.93it/s, train_loss=0.00132, valid_loss=0.00329]\n",
      "Epoch: 20/50: 100%|██████████| 50/50 [00:05<00:00,  8.87it/s, train_loss=0.00114, valid_loss=0.00413]\n",
      "Epoch: 21/50: 100%|██████████| 50/50 [00:05<00:00,  9.78it/s, train_loss=0.00107, valid_loss=0.00378]\n",
      "Epoch: 22/50: 100%|██████████| 50/50 [00:04<00:00, 11.22it/s, train_loss=0.00114, valid_loss=0.00351]\n"
     ]
    },
    {
     "name": "stdout",
     "output_type": "stream",
     "text": [
      "cross-validation dataset 3\n"
     ]
    },
    {
     "name": "stderr",
     "output_type": "stream",
     "text": [
      "Epoch: 1/50: 100%|██████████| 66/66 [00:05<00:00, 11.34it/s, train_loss=0.00353, valid_loss=0.00293]\n",
      "Epoch: 2/50: 100%|██████████| 66/66 [00:06<00:00, 10.86it/s, train_loss=0.00291, valid_loss=0.00143]\n",
      "Epoch: 3/50: 100%|██████████| 66/66 [00:06<00:00, 10.82it/s, train_loss=0.00186, valid_loss=0.00123]\n",
      "Epoch: 4/50: 100%|██████████| 66/66 [00:06<00:00,  9.69it/s, train_loss=0.00235, valid_loss=0.00113] \n",
      "Epoch: 5/50: 100%|██████████| 66/66 [00:05<00:00, 11.10it/s, train_loss=0.00212, valid_loss=0.000937]\n",
      "Epoch: 6/50: 100%|██████████| 66/66 [00:06<00:00, 10.49it/s, train_loss=0.00158, valid_loss=0.00173] \n",
      "Epoch: 7/50: 100%|██████████| 66/66 [00:06<00:00, 10.99it/s, train_loss=0.00165, valid_loss=0.000923]\n",
      "Epoch: 8/50: 100%|██████████| 66/66 [00:06<00:00,  9.62it/s, train_loss=0.00134, valid_loss=0.00154] \n",
      "Epoch: 9/50: 100%|██████████| 66/66 [00:06<00:00,  9.89it/s, train_loss=0.00162, valid_loss=0.000888]\n",
      "Epoch: 10/50: 100%|██████████| 66/66 [00:06<00:00,  9.52it/s, train_loss=0.0011, valid_loss=0.00121]  \n"
     ]
    },
    {
     "name": "stdout",
     "output_type": "stream",
     "text": [
      "cross-validation dataset 4\n"
     ]
    },
    {
     "name": "stderr",
     "output_type": "stream",
     "text": [
      "Epoch: 1/50: 100%|██████████| 83/83 [00:08<00:00, 10.02it/s, train_loss=0.16, valid_loss=0.188] \n",
      "Epoch: 2/50: 100%|██████████| 83/83 [00:08<00:00,  9.73it/s, train_loss=0.163, valid_loss=0.189]\n",
      "Epoch: 3/50: 100%|██████████| 83/83 [00:07<00:00, 10.93it/s, train_loss=0.168, valid_loss=0.189]\n",
      "Epoch: 4/50: 100%|██████████| 83/83 [00:07<00:00, 11.44it/s, train_loss=0.156, valid_loss=0.189]\n"
     ]
    },
    {
     "name": "stdout",
     "output_type": "stream",
     "text": [
      "cross-validation dataset 4\n"
     ]
    },
    {
     "name": "stderr",
     "output_type": "stream",
     "text": [
      "Epoch: 1/50: 100%|██████████| 83/83 [00:07<00:00, 10.86it/s, train_loss=0.166, valid_loss=0.189]\n",
      "Epoch: 2/50: 100%|██████████| 83/83 [00:08<00:00,  9.34it/s, train_loss=0.177, valid_loss=0.189]\n",
      "Epoch: 3/50: 100%|██████████| 83/83 [00:08<00:00, 10.32it/s, train_loss=0.163, valid_loss=0.188]\n",
      "Epoch: 4/50: 100%|██████████| 83/83 [00:07<00:00, 11.48it/s, train_loss=0.166, valid_loss=0.189]\n",
      "Epoch: 5/50: 100%|██████████| 83/83 [00:08<00:00,  9.76it/s, train_loss=0.15, valid_loss=0.189] \n"
     ]
    },
    {
     "name": "stdout",
     "output_type": "stream",
     "text": [
      "cross-validation dataset 4\n"
     ]
    },
    {
     "name": "stderr",
     "output_type": "stream",
     "text": [
      "Epoch: 1/50: 100%|██████████| 83/83 [00:08<00:00, 10.23it/s, train_loss=0.00329, valid_loss=0.00365]\n",
      "Epoch: 2/50: 100%|██████████| 83/83 [00:08<00:00, 10.37it/s, train_loss=0.00269, valid_loss=0.00319]\n",
      "Epoch: 3/50: 100%|██████████| 83/83 [00:07<00:00, 11.24it/s, train_loss=0.00218, valid_loss=0.00296]\n",
      "Epoch: 4/50: 100%|██████████| 83/83 [00:07<00:00, 10.64it/s, train_loss=0.00189, valid_loss=0.00286]\n",
      "Epoch: 5/50: 100%|██████████| 83/83 [00:06<00:00, 12.04it/s, train_loss=0.002, valid_loss=0.00262]  \n",
      "Epoch: 6/50: 100%|██████████| 83/83 [00:08<00:00, 10.06it/s, train_loss=0.00221, valid_loss=0.00272]\n",
      "Epoch: 7/50: 100%|██████████| 83/83 [00:07<00:00, 10.74it/s, train_loss=0.00161, valid_loss=0.00307]\n",
      "Epoch: 8/50: 100%|██████████| 83/83 [00:07<00:00, 10.65it/s, train_loss=0.0015, valid_loss=0.00267] \n",
      "Epoch: 9/50: 100%|██████████| 83/83 [00:07<00:00, 10.44it/s, train_loss=0.00166, valid_loss=0.0025] \n",
      "Epoch: 10/50: 100%|██████████| 83/83 [00:07<00:00, 11.28it/s, train_loss=0.00151, valid_loss=0.0027] \n",
      "Epoch: 11/50: 100%|██████████| 83/83 [00:07<00:00, 10.73it/s, train_loss=0.00112, valid_loss=0.00263] \n",
      "Epoch: 12/50: 100%|██████████| 83/83 [00:08<00:00,  9.34it/s, train_loss=0.00117, valid_loss=0.00265]\n",
      "Epoch: 13/50: 100%|██████████| 83/83 [00:08<00:00,  9.69it/s, train_loss=0.00106, valid_loss=0.00256] \n",
      "Epoch: 14/50: 100%|██████████| 83/83 [00:09<00:00,  9.04it/s, train_loss=0.00102, valid_loss=0.00244] \n",
      "Epoch: 15/50: 100%|██████████| 83/83 [00:08<00:00, 10.08it/s, train_loss=0.0013, valid_loss=0.00282]  \n",
      "Epoch: 16/50: 100%|██████████| 83/83 [00:07<00:00, 11.07it/s, train_loss=0.00109, valid_loss=0.00274] \n",
      "Epoch: 17/50: 100%|██████████| 83/83 [00:07<00:00, 11.83it/s, train_loss=0.00108, valid_loss=0.00282] \n"
     ]
    },
    {
     "name": "stdout",
     "output_type": "stream",
     "text": [
      "model config: batch_size-256, lr-0.01, number_epoch-50, hidden_dim-100, n_layers-2,drop_prob-0.6,weight_decay-1e-08\n",
      "cross-validation dataset 0\n"
     ]
    },
    {
     "name": "stderr",
     "output_type": "stream",
     "text": [
      "Epoch: 1/50: 100%|██████████| 17/17 [00:01<00:00, 13.16it/s, train_loss=0.0141, valid_loss=0.0424]\n",
      "Epoch: 2/50: 100%|██████████| 17/17 [00:01<00:00, 13.55it/s, train_loss=0.00696, valid_loss=0.0386]\n",
      "Epoch: 3/50: 100%|██████████| 17/17 [00:01<00:00, 13.74it/s, train_loss=0.00452, valid_loss=0.0164]\n",
      "Epoch: 4/50: 100%|██████████| 17/17 [00:01<00:00, 12.95it/s, train_loss=0.0028, valid_loss=0.00833] \n",
      "Epoch: 5/50: 100%|██████████| 17/17 [00:01<00:00, 13.63it/s, train_loss=0.00276, valid_loss=0.00506]\n",
      "Epoch: 6/50: 100%|██████████| 17/17 [00:01<00:00, 13.10it/s, train_loss=0.002, valid_loss=0.00496]  \n",
      "Epoch: 7/50: 100%|██████████| 17/17 [00:01<00:00, 10.28it/s, train_loss=0.00234, valid_loss=0.00574]\n",
      "Epoch: 8/50: 100%|██████████| 17/17 [00:01<00:00, 12.05it/s, train_loss=0.002, valid_loss=0.00484]  \n",
      "Epoch: 9/50: 100%|██████████| 17/17 [00:01<00:00, 13.48it/s, train_loss=0.00184, valid_loss=0.00481]\n",
      "Epoch: 10/50: 100%|██████████| 17/17 [00:01<00:00, 13.71it/s, train_loss=0.00158, valid_loss=0.00659]\n",
      "Epoch: 11/50: 100%|██████████| 17/17 [00:01<00:00, 13.64it/s, train_loss=0.00144, valid_loss=0.00568]\n",
      "Epoch: 12/50: 100%|██████████| 17/17 [00:01<00:00, 13.56it/s, train_loss=0.00149, valid_loss=0.00778]\n",
      "Epoch: 13/50: 100%|██████████| 17/17 [00:01<00:00, 12.66it/s, train_loss=0.00143, valid_loss=0.00791]\n",
      "Epoch: 14/50: 100%|██████████| 17/17 [00:01<00:00, 13.35it/s, train_loss=0.00137, valid_loss=0.00701]\n",
      "Epoch: 15/50: 100%|██████████| 17/17 [00:01<00:00, 13.73it/s, train_loss=0.00169, valid_loss=0.00706]\n",
      "Epoch: 16/50: 100%|██████████| 17/17 [00:01<00:00, 12.62it/s, train_loss=0.00148, valid_loss=0.00841]\n",
      "Epoch: 17/50: 100%|██████████| 17/17 [00:01<00:00, 12.00it/s, train_loss=0.00147, valid_loss=0.00561]\n",
      "Epoch: 18/50: 100%|██████████| 17/17 [00:01<00:00,  9.52it/s, train_loss=0.00128, valid_loss=0.00803]\n",
      "Epoch: 19/50: 100%|██████████| 17/17 [00:01<00:00, 11.80it/s, train_loss=0.00118, valid_loss=0.00739]\n",
      "Epoch: 20/50: 100%|██████████| 17/17 [00:01<00:00, 11.05it/s, train_loss=0.00128, valid_loss=0.00818]\n",
      "Epoch: 21/50: 100%|██████████| 17/17 [00:01<00:00, 12.04it/s, train_loss=0.000965, valid_loss=0.00672]\n"
     ]
    },
    {
     "name": "stdout",
     "output_type": "stream",
     "text": [
      "cross-validation dataset 1\n"
     ]
    },
    {
     "name": "stderr",
     "output_type": "stream",
     "text": [
      "Epoch: 1/50: 100%|██████████| 33/33 [00:02<00:00, 11.20it/s, train_loss=0.138, valid_loss=0.162]\n",
      "Epoch: 2/50: 100%|██████████| 33/33 [00:02<00:00, 14.00it/s, train_loss=0.139, valid_loss=0.162]\n",
      "Epoch: 3/50: 100%|██████████| 33/33 [00:02<00:00, 12.04it/s, train_loss=0.14, valid_loss=0.162] \n",
      "Epoch: 4/50: 100%|██████████| 33/33 [00:02<00:00, 12.64it/s, train_loss=0.148, valid_loss=0.162]\n",
      "Epoch: 5/50: 100%|██████████| 33/33 [00:02<00:00, 14.85it/s, train_loss=0.143, valid_loss=0.162]\n",
      "Epoch: 6/50: 100%|██████████| 33/33 [00:02<00:00, 14.00it/s, train_loss=0.146, valid_loss=0.162]\n",
      "Epoch: 7/50: 100%|██████████| 33/33 [00:02<00:00, 14.14it/s, train_loss=0.135, valid_loss=0.162]\n",
      "Epoch: 8/50: 100%|██████████| 33/33 [00:02<00:00, 14.47it/s, train_loss=0.149, valid_loss=0.162]\n",
      "Epoch: 9/50: 100%|██████████| 33/33 [00:02<00:00, 13.53it/s, train_loss=0.144, valid_loss=0.162]\n",
      "Epoch: 10/50: 100%|██████████| 33/33 [00:02<00:00, 11.30it/s, train_loss=0.136, valid_loss=0.162]\n",
      "Epoch: 11/50: 100%|██████████| 33/33 [00:02<00:00, 13.61it/s, train_loss=0.134, valid_loss=0.162]\n"
     ]
    },
    {
     "name": "stdout",
     "output_type": "stream",
     "text": [
      "cross-validation dataset 1\n"
     ]
    },
    {
     "name": "stderr",
     "output_type": "stream",
     "text": [
      "Epoch: 1/50: 100%|██████████| 33/33 [00:02<00:00, 14.41it/s, train_loss=0.134, valid_loss=0.162]\n",
      "Epoch: 2/50: 100%|██████████| 33/33 [00:02<00:00, 13.95it/s, train_loss=0.138, valid_loss=0.162]\n",
      "Epoch: 3/50: 100%|██████████| 33/33 [00:02<00:00, 13.58it/s, train_loss=0.138, valid_loss=0.162]\n",
      "Epoch: 4/50: 100%|██████████| 33/33 [00:02<00:00, 12.76it/s, train_loss=0.135, valid_loss=0.162]\n",
      "Epoch: 5/50: 100%|██████████| 33/33 [00:02<00:00, 12.64it/s, train_loss=0.146, valid_loss=0.162]\n",
      "Epoch: 6/50: 100%|██████████| 33/33 [00:02<00:00, 12.71it/s, train_loss=0.136, valid_loss=0.163]\n",
      "Epoch: 7/50: 100%|██████████| 33/33 [00:02<00:00, 14.05it/s, train_loss=0.143, valid_loss=0.162]\n",
      "Epoch: 8/50: 100%|██████████| 33/33 [00:02<00:00, 11.40it/s, train_loss=0.149, valid_loss=0.162]\n",
      "Epoch: 9/50: 100%|██████████| 33/33 [00:02<00:00, 13.15it/s, train_loss=0.142, valid_loss=0.162]\n",
      "Epoch: 10/50: 100%|██████████| 33/33 [00:02<00:00, 13.70it/s, train_loss=0.14, valid_loss=0.162] \n",
      "Epoch: 11/50: 100%|██████████| 33/33 [00:02<00:00, 13.63it/s, train_loss=0.145, valid_loss=0.162]\n",
      "Epoch: 12/50: 100%|██████████| 33/33 [00:02<00:00, 11.05it/s, train_loss=0.133, valid_loss=0.162]\n",
      "Epoch: 13/50: 100%|██████████| 33/33 [00:02<00:00, 11.45it/s, train_loss=0.138, valid_loss=0.162]\n",
      "Epoch: 14/50: 100%|██████████| 33/33 [00:02<00:00, 11.64it/s, train_loss=0.151, valid_loss=0.163]\n",
      "Epoch: 15/50: 100%|██████████| 33/33 [00:02<00:00, 12.34it/s, train_loss=0.139, valid_loss=0.162]\n"
     ]
    },
    {
     "name": "stdout",
     "output_type": "stream",
     "text": [
      "cross-validation dataset 1\n"
     ]
    },
    {
     "name": "stderr",
     "output_type": "stream",
     "text": [
      "Epoch: 1/50: 100%|██████████| 33/33 [00:02<00:00, 14.04it/s, train_loss=0.148, valid_loss=0.162]\n",
      "Epoch: 2/50: 100%|██████████| 33/33 [00:02<00:00, 13.16it/s, train_loss=0.14, valid_loss=0.162] \n",
      "Epoch: 3/50: 100%|██████████| 33/33 [00:03<00:00, 10.83it/s, train_loss=0.134, valid_loss=0.162]\n",
      "Epoch: 4/50: 100%|██████████| 33/33 [00:02<00:00, 12.62it/s, train_loss=0.141, valid_loss=0.162]\n",
      "Epoch: 5/50: 100%|██████████| 33/33 [00:02<00:00, 14.02it/s, train_loss=0.155, valid_loss=0.162]\n",
      "Epoch: 6/50: 100%|██████████| 33/33 [00:02<00:00, 13.44it/s, train_loss=0.135, valid_loss=0.163]\n",
      "Epoch: 7/50: 100%|██████████| 33/33 [00:02<00:00, 12.34it/s, train_loss=0.148, valid_loss=0.162]\n",
      "Epoch: 8/50: 100%|██████████| 33/33 [00:02<00:00, 11.76it/s, train_loss=0.148, valid_loss=0.162]\n"
     ]
    },
    {
     "name": "stdout",
     "output_type": "stream",
     "text": [
      "cross-validation dataset 1\n"
     ]
    },
    {
     "name": "stderr",
     "output_type": "stream",
     "text": [
      "Epoch: 1/50: 100%|██████████| 33/33 [00:02<00:00, 14.56it/s, train_loss=0.00886, valid_loss=0.0159]\n",
      "Epoch: 2/50: 100%|██████████| 33/33 [00:02<00:00, 14.62it/s, train_loss=0.0032, valid_loss=0.00258] \n",
      "Epoch: 3/50: 100%|██████████| 33/33 [00:02<00:00, 14.75it/s, train_loss=0.00275, valid_loss=0.00204]\n",
      "Epoch: 4/50: 100%|██████████| 33/33 [00:02<00:00, 13.47it/s, train_loss=0.00199, valid_loss=0.00168]\n",
      "Epoch: 5/50: 100%|██████████| 33/33 [00:02<00:00, 13.16it/s, train_loss=0.00195, valid_loss=0.00181]\n",
      "Epoch: 6/50: 100%|██████████| 33/33 [00:02<00:00, 14.55it/s, train_loss=0.00256, valid_loss=0.00151]\n",
      "Epoch: 7/50: 100%|██████████| 33/33 [00:02<00:00, 14.06it/s, train_loss=0.00194, valid_loss=0.00154]\n",
      "Epoch: 8/50: 100%|██████████| 33/33 [00:02<00:00, 13.34it/s, train_loss=0.00224, valid_loss=0.00166]\n",
      "Epoch: 9/50: 100%|██████████| 33/33 [00:02<00:00, 13.39it/s, train_loss=0.00188, valid_loss=0.00149]\n",
      "Epoch: 10/50: 100%|██████████| 33/33 [00:02<00:00, 12.48it/s, train_loss=0.00149, valid_loss=0.00126]\n",
      "Epoch: 11/50: 100%|██████████| 33/33 [00:03<00:00, 10.36it/s, train_loss=0.00145, valid_loss=0.00148]\n",
      "Epoch: 12/50: 100%|██████████| 33/33 [00:02<00:00, 11.81it/s, train_loss=0.0018, valid_loss=0.00154] \n",
      "Epoch: 13/50: 100%|██████████| 33/33 [00:02<00:00, 11.75it/s, train_loss=0.00124, valid_loss=0.00159]\n",
      "Epoch: 14/50: 100%|██████████| 33/33 [00:02<00:00, 14.25it/s, train_loss=0.00153, valid_loss=0.00155]\n",
      "Epoch: 15/50: 100%|██████████| 33/33 [00:02<00:00, 13.42it/s, train_loss=0.00131, valid_loss=0.00131]\n",
      "Epoch: 16/50: 100%|██████████| 33/33 [00:02<00:00, 14.78it/s, train_loss=0.000996, valid_loss=0.00131]\n",
      "Epoch: 17/50: 100%|██████████| 33/33 [00:02<00:00, 14.23it/s, train_loss=0.00116, valid_loss=0.00149]\n",
      "Epoch: 18/50: 100%|██████████| 33/33 [00:02<00:00, 13.98it/s, train_loss=0.00107, valid_loss=0.00153] \n"
     ]
    },
    {
     "name": "stdout",
     "output_type": "stream",
     "text": [
      "cross-validation dataset 2\n"
     ]
    },
    {
     "name": "stderr",
     "output_type": "stream",
     "text": [
      "Epoch: 1/50: 100%|██████████| 50/50 [00:03<00:00, 14.94it/s, train_loss=0.00494, valid_loss=0.00549]\n",
      "Epoch: 2/50: 100%|██████████| 50/50 [00:03<00:00, 13.05it/s, train_loss=0.00253, valid_loss=0.00321]\n",
      "Epoch: 3/50: 100%|██████████| 50/50 [00:03<00:00, 15.35it/s, train_loss=0.00208, valid_loss=0.00296]\n",
      "Epoch: 4/50: 100%|██████████| 50/50 [00:03<00:00, 15.26it/s, train_loss=0.0018, valid_loss=0.00317] \n",
      "Epoch: 5/50: 100%|██████████| 50/50 [00:03<00:00, 15.00it/s, train_loss=0.00183, valid_loss=0.00275]\n",
      "Epoch: 6/50: 100%|██████████| 50/50 [00:03<00:00, 15.59it/s, train_loss=0.00215, valid_loss=0.00416]\n",
      "Epoch: 7/50: 100%|██████████| 50/50 [00:03<00:00, 15.08it/s, train_loss=0.00148, valid_loss=0.00271]\n",
      "Epoch: 8/50: 100%|██████████| 50/50 [00:03<00:00, 14.54it/s, train_loss=0.00135, valid_loss=0.00255]\n",
      "Epoch: 9/50: 100%|██████████| 50/50 [00:04<00:00, 12.16it/s, train_loss=0.00126, valid_loss=0.00284]\n",
      "Epoch: 10/50: 100%|██████████| 50/50 [00:04<00:00, 12.24it/s, train_loss=0.00111, valid_loss=0.00353]\n",
      "Epoch: 11/50: 100%|██████████| 50/50 [00:04<00:00, 11.06it/s, train_loss=0.00109, valid_loss=0.00342]\n",
      "Epoch: 12/50: 100%|██████████| 50/50 [00:04<00:00, 11.84it/s, train_loss=0.00115, valid_loss=0.00305]\n",
      "Epoch: 13/50: 100%|██████████| 50/50 [00:03<00:00, 15.57it/s, train_loss=0.00146, valid_loss=0.00308] \n",
      "Epoch: 14/50: 100%|██████████| 50/50 [00:03<00:00, 15.23it/s, train_loss=0.00104, valid_loss=0.0036] \n",
      "Epoch: 15/50: 100%|██████████| 50/50 [00:04<00:00, 12.34it/s, train_loss=0.00107, valid_loss=0.00302] \n",
      "Epoch: 16/50: 100%|██████████| 50/50 [00:03<00:00, 12.73it/s, train_loss=0.00107, valid_loss=0.00334] \n",
      "Epoch: 17/50: 100%|██████████| 50/50 [00:03<00:00, 13.39it/s, train_loss=0.000888, valid_loss=0.0035] \n",
      "Epoch: 18/50: 100%|██████████| 50/50 [00:03<00:00, 14.05it/s, train_loss=0.00109, valid_loss=0.00377] \n"
     ]
    },
    {
     "name": "stdout",
     "output_type": "stream",
     "text": [
      "cross-validation dataset 3\n"
     ]
    },
    {
     "name": "stderr",
     "output_type": "stream",
     "text": [
      "Epoch: 1/50: 100%|██████████| 66/66 [00:04<00:00, 14.06it/s, train_loss=0.00406, valid_loss=0.00239]\n",
      "Epoch: 2/50: 100%|██████████| 66/66 [00:05<00:00, 13.05it/s, train_loss=0.00259, valid_loss=0.00193]\n",
      "Epoch: 3/50: 100%|██████████| 66/66 [00:04<00:00, 14.50it/s, train_loss=0.00273, valid_loss=0.00127]\n",
      "Epoch: 4/50: 100%|██████████| 66/66 [00:04<00:00, 13.93it/s, train_loss=0.00206, valid_loss=0.00121]\n",
      "Epoch: 5/50: 100%|██████████| 66/66 [00:05<00:00, 13.09it/s, train_loss=0.00213, valid_loss=0.0011] \n",
      "Epoch: 6/50: 100%|██████████| 66/66 [00:05<00:00, 12.73it/s, train_loss=0.00167, valid_loss=0.00247]\n",
      "Epoch: 7/50: 100%|██████████| 66/66 [00:05<00:00, 12.76it/s, train_loss=0.00144, valid_loss=0.0012] \n",
      "Epoch: 8/50: 100%|██████████| 66/66 [00:04<00:00, 14.37it/s, train_loss=0.00243, valid_loss=0.000935]\n",
      "Epoch: 9/50: 100%|██████████| 66/66 [00:04<00:00, 13.30it/s, train_loss=0.00116, valid_loss=0.0018]  \n",
      "Epoch: 10/50: 100%|██████████| 66/66 [00:05<00:00, 12.15it/s, train_loss=0.00129, valid_loss=0.00143] \n",
      "Epoch: 11/50: 100%|██████████| 66/66 [00:05<00:00, 11.23it/s, train_loss=0.00171, valid_loss=0.00217] \n",
      "Epoch: 12/50: 100%|██████████| 66/66 [00:05<00:00, 13.01it/s, train_loss=0.00126, valid_loss=0.00299] \n",
      "Epoch: 13/50: 100%|██████████| 66/66 [00:04<00:00, 13.33it/s, train_loss=0.00162, valid_loss=0.00104] \n",
      "Epoch: 14/50: 100%|██████████| 66/66 [00:04<00:00, 14.01it/s, train_loss=0.00108, valid_loss=0.000966]\n",
      "Epoch: 15/50: 100%|██████████| 66/66 [00:04<00:00, 13.29it/s, train_loss=0.00113, valid_loss=0.0017]  \n",
      "Epoch: 16/50: 100%|██████████| 66/66 [00:05<00:00, 12.25it/s, train_loss=0.000871, valid_loss=0.00125]\n"
     ]
    },
    {
     "name": "stdout",
     "output_type": "stream",
     "text": [
      "cross-validation dataset 4\n"
     ]
    },
    {
     "name": "stderr",
     "output_type": "stream",
     "text": [
      "Epoch: 1/50: 100%|██████████| 83/83 [00:06<00:00, 13.51it/s, train_loss=0.0033, valid_loss=0.00366] \n",
      "Epoch: 2/50: 100%|██████████| 83/83 [00:05<00:00, 14.72it/s, train_loss=0.00234, valid_loss=0.00316]\n",
      "Epoch: 3/50: 100%|██████████| 83/83 [00:06<00:00, 13.38it/s, train_loss=0.00202, valid_loss=0.00318]\n",
      "Epoch: 4/50: 100%|██████████| 83/83 [00:06<00:00, 12.10it/s, train_loss=0.00171, valid_loss=0.00269]\n",
      "Epoch: 5/50: 100%|██████████| 83/83 [00:06<00:00, 12.31it/s, train_loss=0.00139, valid_loss=0.00256]\n",
      "Epoch: 6/50: 100%|██████████| 83/83 [00:06<00:00, 11.86it/s, train_loss=0.00151, valid_loss=0.00282]\n",
      "Epoch: 7/50: 100%|██████████| 83/83 [00:05<00:00, 13.97it/s, train_loss=0.00207, valid_loss=0.0024]  \n",
      "Epoch: 8/50: 100%|██████████| 83/83 [00:05<00:00, 14.80it/s, train_loss=0.00162, valid_loss=0.00338]\n",
      "Epoch: 9/50: 100%|██████████| 83/83 [00:06<00:00, 12.98it/s, train_loss=0.00141, valid_loss=0.00276]\n",
      "Epoch: 10/50: 100%|██████████| 83/83 [00:06<00:00, 12.95it/s, train_loss=0.00114, valid_loss=0.00252]\n",
      "Epoch: 11/50: 100%|██████████| 83/83 [00:06<00:00, 13.37it/s, train_loss=0.000958, valid_loss=0.00256]\n",
      "Epoch: 12/50: 100%|██████████| 83/83 [00:06<00:00, 12.36it/s, train_loss=0.00118, valid_loss=0.00245] \n",
      "Epoch: 13/50: 100%|██████████| 83/83 [00:06<00:00, 11.94it/s, train_loss=0.00109, valid_loss=0.00277] \n",
      "Epoch: 14/50: 100%|██████████| 83/83 [00:06<00:00, 12.94it/s, train_loss=0.0012, valid_loss=0.00239]  \n",
      "Epoch: 15/50: 100%|██████████| 83/83 [00:05<00:00, 13.88it/s, train_loss=0.000833, valid_loss=0.00266]\n",
      "Epoch: 16/50: 100%|██████████| 83/83 [00:06<00:00, 13.37it/s, train_loss=0.000871, valid_loss=0.00264]\n",
      "Epoch: 17/50: 100%|██████████| 83/83 [00:05<00:00, 13.97it/s, train_loss=0.000936, valid_loss=0.00278]\n"
     ]
    },
    {
     "name": "stdout",
     "output_type": "stream",
     "text": [
      "model config: batch_size-512, lr-0.001, number_epoch-50, hidden_dim-120, n_layers-3,drop_prob-0.4,weight_decay-1e-08\n",
      "cross-validation dataset 0\n"
     ]
    },
    {
     "name": "stderr",
     "output_type": "stream",
     "text": [
      "Epoch: 1/50: 100%|██████████| 9/9 [00:00<00:00,  9.52it/s, train_loss=0.109, valid_loss=0.174]\n",
      "Epoch: 2/50: 100%|██████████| 9/9 [00:00<00:00,  9.66it/s, train_loss=0.105, valid_loss=0.176]\n",
      "Epoch: 3/50: 100%|██████████| 9/9 [00:00<00:00,  9.17it/s, train_loss=0.105, valid_loss=0.176]\n",
      "Epoch: 4/50: 100%|██████████| 9/9 [00:00<00:00,  9.13it/s, train_loss=0.108, valid_loss=0.175]\n",
      "Epoch: 5/50: 100%|██████████| 9/9 [00:00<00:00,  9.80it/s, train_loss=0.105, valid_loss=0.175]\n",
      "Epoch: 6/50: 100%|██████████| 9/9 [00:01<00:00,  8.86it/s, train_loss=0.108, valid_loss=0.175]\n",
      "Epoch: 7/50: 100%|██████████| 9/9 [00:00<00:00,  9.11it/s, train_loss=0.104, valid_loss=0.175]\n",
      "Epoch: 8/50: 100%|██████████| 9/9 [00:00<00:00,  9.58it/s, train_loss=0.109, valid_loss=0.176]\n",
      "Epoch: 9/50: 100%|██████████| 9/9 [00:00<00:00, 10.57it/s, train_loss=0.104, valid_loss=0.175]\n",
      "Epoch: 10/50: 100%|██████████| 9/9 [00:00<00:00, 10.47it/s, train_loss=0.106, valid_loss=0.176]\n",
      "Epoch: 11/50: 100%|██████████| 9/9 [00:00<00:00,  9.68it/s, train_loss=0.107, valid_loss=0.176]\n",
      "Epoch: 12/50: 100%|██████████| 9/9 [00:00<00:00, 10.19it/s, train_loss=0.103, valid_loss=0.175]\n",
      "Epoch: 13/50: 100%|██████████| 9/9 [00:00<00:00, 10.07it/s, train_loss=0.106, valid_loss=0.175]\n",
      "Epoch: 14/50: 100%|██████████| 9/9 [00:00<00:00,  9.57it/s, train_loss=0.107, valid_loss=0.175]\n",
      "Epoch: 15/50: 100%|██████████| 9/9 [00:00<00:00,  9.69it/s, train_loss=0.109, valid_loss=0.174]\n",
      "Epoch: 16/50: 100%|██████████| 9/9 [00:01<00:00,  8.63it/s, train_loss=0.111, valid_loss=0.175]\n",
      "Epoch: 17/50: 100%|██████████| 9/9 [00:00<00:00,  9.19it/s, train_loss=0.109, valid_loss=0.174]\n",
      "Epoch: 18/50: 100%|██████████| 9/9 [00:00<00:00, 10.64it/s, train_loss=0.106, valid_loss=0.175]\n",
      "Epoch: 19/50: 100%|██████████| 9/9 [00:00<00:00, 10.46it/s, train_loss=0.108, valid_loss=0.175]\n",
      "Epoch: 20/50: 100%|██████████| 9/9 [00:00<00:00, 10.28it/s, train_loss=0.108, valid_loss=0.175]\n",
      "Epoch: 21/50: 100%|██████████| 9/9 [00:00<00:00, 10.51it/s, train_loss=0.104, valid_loss=0.174]\n",
      "Epoch: 22/50: 100%|██████████| 9/9 [00:00<00:00, 10.46it/s, train_loss=0.106, valid_loss=0.175]\n",
      "Epoch: 23/50: 100%|██████████| 9/9 [00:00<00:00, 10.51it/s, train_loss=0.106, valid_loss=0.175]\n",
      "Epoch: 24/50: 100%|██████████| 9/9 [00:00<00:00, 10.08it/s, train_loss=0.105, valid_loss=0.176]\n",
      "Epoch: 25/50: 100%|██████████| 9/9 [00:00<00:00,  9.11it/s, train_loss=0.108, valid_loss=0.175]\n",
      "Epoch: 26/50: 100%|██████████| 9/9 [00:00<00:00,  9.04it/s, train_loss=0.107, valid_loss=0.176]\n",
      "Epoch: 27/50: 100%|██████████| 9/9 [00:00<00:00,  9.67it/s, train_loss=0.108, valid_loss=0.174]\n",
      "Epoch: 28/50: 100%|██████████| 9/9 [00:00<00:00,  9.25it/s, train_loss=0.107, valid_loss=0.174]\n",
      "Epoch: 29/50: 100%|██████████| 9/9 [00:00<00:00,  9.95it/s, train_loss=0.104, valid_loss=0.175]\n",
      "Epoch: 30/50: 100%|██████████| 9/9 [00:00<00:00,  9.81it/s, train_loss=0.108, valid_loss=0.175]\n",
      "Epoch: 31/50: 100%|██████████| 9/9 [00:00<00:00, 10.18it/s, train_loss=0.11, valid_loss=0.174] \n",
      "Epoch: 32/50: 100%|██████████| 9/9 [00:01<00:00,  8.87it/s, train_loss=0.108, valid_loss=0.175]\n",
      "Epoch: 33/50: 100%|██████████| 9/9 [00:00<00:00,  9.95it/s, train_loss=0.102, valid_loss=0.176]\n",
      "Epoch: 34/50: 100%|██████████| 9/9 [00:00<00:00, 10.54it/s, train_loss=0.106, valid_loss=0.175]\n",
      "Epoch: 35/50: 100%|██████████| 9/9 [00:00<00:00, 10.76it/s, train_loss=0.107, valid_loss=0.175]\n",
      "Epoch: 36/50: 100%|██████████| 9/9 [00:00<00:00, 10.50it/s, train_loss=0.109, valid_loss=0.174]\n",
      "Epoch: 37/50: 100%|██████████| 9/9 [00:00<00:00, 10.52it/s, train_loss=0.107, valid_loss=0.175]\n",
      "Epoch: 38/50: 100%|██████████| 9/9 [00:00<00:00, 11.22it/s, train_loss=0.103, valid_loss=0.174]\n",
      "Epoch: 39/50: 100%|██████████| 9/9 [00:00<00:00,  9.42it/s, train_loss=0.106, valid_loss=0.176]\n",
      "Epoch: 40/50: 100%|██████████| 9/9 [00:00<00:00, 10.53it/s, train_loss=0.11, valid_loss=0.175] \n",
      "Epoch: 41/50: 100%|██████████| 9/9 [00:00<00:00, 10.19it/s, train_loss=0.11, valid_loss=0.175] \n",
      "Epoch: 42/50: 100%|██████████| 9/9 [00:00<00:00, 10.53it/s, train_loss=0.107, valid_loss=0.176]\n",
      "Epoch: 43/50: 100%|██████████| 9/9 [00:00<00:00, 10.61it/s, train_loss=0.105, valid_loss=0.176]\n",
      "Epoch: 44/50: 100%|██████████| 9/9 [00:00<00:00, 10.43it/s, train_loss=0.114, valid_loss=0.175]\n",
      "Epoch: 45/50: 100%|██████████| 9/9 [00:00<00:00, 10.75it/s, train_loss=0.106, valid_loss=0.176]\n",
      "Epoch: 46/50: 100%|██████████| 9/9 [00:00<00:00,  9.59it/s, train_loss=0.107, valid_loss=0.174]\n",
      "Epoch: 47/50: 100%|██████████| 9/9 [00:00<00:00, 10.46it/s, train_loss=0.107, valid_loss=0.175]\n",
      "Epoch: 48/50: 100%|██████████| 9/9 [00:01<00:00,  7.72it/s, train_loss=0.111, valid_loss=0.174]\n",
      "Epoch: 49/50: 100%|██████████| 9/9 [00:01<00:00,  8.95it/s, train_loss=0.11, valid_loss=0.174] \n",
      "Epoch: 50/50: 100%|██████████| 9/9 [00:00<00:00,  9.05it/s, train_loss=0.106, valid_loss=0.175]\n"
     ]
    },
    {
     "name": "stdout",
     "output_type": "stream",
     "text": [
      "cross-validation dataset 0\n"
     ]
    },
    {
     "name": "stderr",
     "output_type": "stream",
     "text": [
      "Epoch: 1/50: 100%|██████████| 9/9 [00:00<00:00,  9.41it/s, train_loss=0.108, valid_loss=0.175]\n",
      "Epoch: 2/50: 100%|██████████| 9/9 [00:01<00:00,  8.04it/s, train_loss=0.107, valid_loss=0.174]\n",
      "Epoch: 3/50: 100%|██████████| 9/9 [00:00<00:00,  9.52it/s, train_loss=0.105, valid_loss=0.176]\n",
      "Epoch: 4/50: 100%|██████████| 9/9 [00:01<00:00,  8.81it/s, train_loss=0.108, valid_loss=0.175]\n",
      "Epoch: 5/50: 100%|██████████| 9/9 [00:01<00:00,  8.66it/s, train_loss=0.104, valid_loss=0.175]\n",
      "Epoch: 6/50: 100%|██████████| 9/9 [00:01<00:00,  8.43it/s, train_loss=0.11, valid_loss=0.175] \n",
      "Epoch: 7/50: 100%|██████████| 9/9 [00:00<00:00,  9.02it/s, train_loss=0.106, valid_loss=0.174]\n",
      "Epoch: 8/50: 100%|██████████| 9/9 [00:01<00:00,  8.99it/s, train_loss=0.106, valid_loss=0.174]\n",
      "Epoch: 9/50: 100%|██████████| 9/9 [00:00<00:00,  9.65it/s, train_loss=0.11, valid_loss=0.176] \n",
      "Epoch: 10/50: 100%|██████████| 9/9 [00:00<00:00,  9.15it/s, train_loss=0.111, valid_loss=0.174]\n",
      "Epoch: 11/50: 100%|██████████| 9/9 [00:01<00:00,  8.87it/s, train_loss=0.109, valid_loss=0.174]\n",
      "Epoch: 12/50: 100%|██████████| 9/9 [00:00<00:00,  9.38it/s, train_loss=0.107, valid_loss=0.175]\n",
      "Epoch: 13/50: 100%|██████████| 9/9 [00:00<00:00,  9.48it/s, train_loss=0.109, valid_loss=0.175]\n",
      "Epoch: 14/50: 100%|██████████| 9/9 [00:00<00:00,  9.26it/s, train_loss=0.104, valid_loss=0.174]\n",
      "Epoch: 15/50: 100%|██████████| 9/9 [00:00<00:00,  9.87it/s, train_loss=0.106, valid_loss=0.176]\n",
      "Epoch: 16/50: 100%|██████████| 9/9 [00:00<00:00,  9.79it/s, train_loss=0.108, valid_loss=0.175]\n",
      "Epoch: 17/50: 100%|██████████| 9/9 [00:01<00:00,  8.68it/s, train_loss=0.109, valid_loss=0.176]\n",
      "Epoch: 18/50: 100%|██████████| 9/9 [00:00<00:00,  9.92it/s, train_loss=0.107, valid_loss=0.176]\n",
      "Epoch: 19/50: 100%|██████████| 9/9 [00:00<00:00, 10.67it/s, train_loss=0.105, valid_loss=0.176]\n",
      "Epoch: 20/50: 100%|██████████| 9/9 [00:00<00:00,  9.44it/s, train_loss=0.109, valid_loss=0.175]\n",
      "Epoch: 21/50: 100%|██████████| 9/9 [00:00<00:00,  9.72it/s, train_loss=0.107, valid_loss=0.175]\n",
      "Epoch: 22/50: 100%|██████████| 9/9 [00:00<00:00, 10.23it/s, train_loss=0.107, valid_loss=0.174]\n",
      "Epoch: 23/50: 100%|██████████| 9/9 [00:00<00:00,  9.13it/s, train_loss=0.106, valid_loss=0.176]\n",
      "Epoch: 24/50: 100%|██████████| 9/9 [00:00<00:00, 11.58it/s, train_loss=0.103, valid_loss=0.175]\n",
      "Epoch: 25/50: 100%|██████████| 9/9 [00:00<00:00,  9.52it/s, train_loss=0.112, valid_loss=0.175]\n",
      "Epoch: 26/50: 100%|██████████| 9/9 [00:00<00:00,  9.99it/s, train_loss=0.104, valid_loss=0.174]\n",
      "Epoch: 27/50: 100%|██████████| 9/9 [00:00<00:00, 10.46it/s, train_loss=0.106, valid_loss=0.175]\n",
      "Epoch: 28/50: 100%|██████████| 9/9 [00:00<00:00,  9.72it/s, train_loss=0.107, valid_loss=0.176]\n",
      "Epoch: 29/50: 100%|██████████| 9/9 [00:00<00:00, 10.98it/s, train_loss=0.108, valid_loss=0.175]\n",
      "Epoch: 30/50: 100%|██████████| 9/9 [00:00<00:00, 10.94it/s, train_loss=0.107, valid_loss=0.175]\n",
      "Epoch: 31/50: 100%|██████████| 9/9 [00:00<00:00, 10.67it/s, train_loss=0.104, valid_loss=0.175]\n",
      "Epoch: 32/50: 100%|██████████| 9/9 [00:00<00:00,  9.68it/s, train_loss=0.107, valid_loss=0.175]\n",
      "Epoch: 33/50: 100%|██████████| 9/9 [00:00<00:00, 10.56it/s, train_loss=0.105, valid_loss=0.174]\n",
      "Epoch: 34/50: 100%|██████████| 9/9 [00:00<00:00, 10.54it/s, train_loss=0.108, valid_loss=0.175]\n",
      "Epoch: 35/50: 100%|██████████| 9/9 [00:00<00:00, 10.53it/s, train_loss=0.108, valid_loss=0.176]\n",
      "Epoch: 36/50: 100%|██████████| 9/9 [00:00<00:00, 11.34it/s, train_loss=0.105, valid_loss=0.176]\n",
      "Epoch: 37/50: 100%|██████████| 9/9 [00:00<00:00, 10.09it/s, train_loss=0.106, valid_loss=0.175]\n",
      "Epoch: 38/50: 100%|██████████| 9/9 [00:00<00:00, 10.16it/s, train_loss=0.106, valid_loss=0.174]\n",
      "Epoch: 39/50: 100%|██████████| 9/9 [00:00<00:00, 10.10it/s, train_loss=0.106, valid_loss=0.175]\n",
      "Epoch: 40/50: 100%|██████████| 9/9 [00:00<00:00,  9.15it/s, train_loss=0.112, valid_loss=0.174]\n",
      "Epoch: 41/50: 100%|██████████| 9/9 [00:00<00:00,  9.07it/s, train_loss=0.102, valid_loss=0.174]\n",
      "Epoch: 42/50: 100%|██████████| 9/9 [00:00<00:00,  9.96it/s, train_loss=0.108, valid_loss=0.174]\n",
      "Epoch: 43/50: 100%|██████████| 9/9 [00:00<00:00,  9.13it/s, train_loss=0.104, valid_loss=0.175]\n",
      "Epoch: 44/50: 100%|██████████| 9/9 [00:01<00:00,  8.74it/s, train_loss=0.106, valid_loss=0.175]\n",
      "Epoch: 45/50: 100%|██████████| 9/9 [00:00<00:00, 10.43it/s, train_loss=0.106, valid_loss=0.174]\n"
     ]
    },
    {
     "name": "stdout",
     "output_type": "stream",
     "text": [
      "cross-validation dataset 0\n"
     ]
    },
    {
     "name": "stderr",
     "output_type": "stream",
     "text": [
      "Epoch: 1/50: 100%|██████████| 9/9 [00:00<00:00, 10.87it/s, train_loss=0.106, valid_loss=0.176]\n",
      "Epoch: 2/50: 100%|██████████| 9/9 [00:00<00:00, 10.53it/s, train_loss=0.102, valid_loss=0.175]\n",
      "Epoch: 3/50: 100%|██████████| 9/9 [00:00<00:00, 10.79it/s, train_loss=0.106, valid_loss=0.174]\n",
      "Epoch: 4/50: 100%|██████████| 9/9 [00:00<00:00, 10.50it/s, train_loss=0.109, valid_loss=0.175]\n",
      "Epoch: 5/50: 100%|██████████| 9/9 [00:00<00:00, 10.56it/s, train_loss=0.107, valid_loss=0.175]\n",
      "Epoch: 6/50: 100%|██████████| 9/9 [00:00<00:00,  9.99it/s, train_loss=0.108, valid_loss=0.173]\n",
      "Epoch: 7/50: 100%|██████████| 9/9 [00:00<00:00, 10.57it/s, train_loss=0.11, valid_loss=0.175]\n",
      "Epoch: 8/50: 100%|██████████| 9/9 [00:00<00:00, 10.47it/s, train_loss=0.112, valid_loss=0.175]\n",
      "Epoch: 9/50: 100%|██████████| 9/9 [00:00<00:00, 10.61it/s, train_loss=0.111, valid_loss=0.175]\n",
      "Epoch: 10/50: 100%|██████████| 9/9 [00:00<00:00, 10.51it/s, train_loss=0.108, valid_loss=0.173]\n",
      "Epoch: 11/50: 100%|██████████| 9/9 [00:00<00:00, 10.57it/s, train_loss=0.107, valid_loss=0.176] \n",
      "Epoch: 12/50: 100%|██████████| 9/9 [00:00<00:00, 10.06it/s, train_loss=0.103, valid_loss=0.174]\n",
      "Epoch: 13/50: 100%|██████████| 9/9 [00:00<00:00, 10.37it/s, train_loss=0.108, valid_loss=0.174]\n",
      "Epoch: 14/50: 100%|██████████| 9/9 [00:00<00:00, 10.70it/s, train_loss=0.109, valid_loss=0.176]\n",
      "Epoch: 15/50: 100%|██████████| 9/9 [00:00<00:00, 10.87it/s, train_loss=0.105, valid_loss=0.174]\n",
      "Epoch: 16/50: 100%|██████████| 9/9 [00:00<00:00, 10.89it/s, train_loss=0.11, valid_loss=0.174]\n",
      "Epoch: 17/50: 100%|██████████| 9/9 [00:00<00:00, 10.32it/s, train_loss=0.108, valid_loss=0.174]\n",
      "Epoch: 18/50: 100%|██████████| 9/9 [00:00<00:00, 10.40it/s, train_loss=0.107, valid_loss=0.175]\n",
      "Epoch: 19/50: 100%|██████████| 9/9 [00:01<00:00,  8.48it/s, train_loss=0.108, valid_loss=0.176]\n",
      "Epoch: 20/50: 100%|██████████| 9/9 [00:01<00:00,  8.79it/s, train_loss=0.112, valid_loss=0.175]\n",
      "Epoch: 21/50: 100%|██████████| 9/9 [00:00<00:00,  9.02it/s, train_loss=0.108, valid_loss=0.174]\n",
      "Epoch: 22/50: 100%|██████████| 9/9 [00:01<00:00,  8.27it/s, train_loss=0.106, valid_loss=0.175]\n",
      "Epoch: 23/50: 100%|██████████| 9/9 [00:01<00:00,  8.84it/s, train_loss=0.107, valid_loss=0.172]\n",
      "Epoch: 24/50: 100%|██████████| 9/9 [00:00<00:00,  9.09it/s, train_loss=0.105, valid_loss=0.174]\n",
      "Epoch: 25/50: 100%|██████████| 9/9 [00:00<00:00,  9.70it/s, train_loss=0.11, valid_loss=0.176] \n",
      "Epoch: 26/50: 100%|██████████| 9/9 [00:01<00:00,  8.82it/s, train_loss=0.106, valid_loss=0.176]\n",
      "Epoch: 27/50: 100%|██████████| 9/9 [00:00<00:00,  9.38it/s, train_loss=0.109, valid_loss=0.175]\n",
      "Epoch: 28/50: 100%|██████████| 9/9 [00:00<00:00, 10.19it/s, train_loss=0.112, valid_loss=0.174]\n",
      "Epoch: 29/50: 100%|██████████| 9/9 [00:01<00:00,  8.29it/s, train_loss=0.107, valid_loss=0.175]\n",
      "Epoch: 30/50: 100%|██████████| 9/9 [00:00<00:00,  9.19it/s, train_loss=0.109, valid_loss=0.176]\n",
      "Epoch: 31/50: 100%|██████████| 9/9 [00:00<00:00, 10.61it/s, train_loss=0.104, valid_loss=0.175]\n",
      "Epoch: 32/50: 100%|██████████| 9/9 [00:00<00:00,  9.14it/s, train_loss=0.105, valid_loss=0.174]\n",
      "Epoch: 33/50: 100%|██████████| 9/9 [00:00<00:00,  9.39it/s, train_loss=0.107, valid_loss=0.176]\n",
      "Epoch: 34/50: 100%|██████████| 9/9 [00:01<00:00,  8.70it/s, train_loss=0.108, valid_loss=0.174]\n",
      "Epoch: 35/50: 100%|██████████| 9/9 [00:00<00:00, 10.36it/s, train_loss=0.11, valid_loss=0.175] \n",
      "Epoch: 36/50: 100%|██████████| 9/9 [00:01<00:00,  8.90it/s, train_loss=0.105, valid_loss=0.177]\n",
      "Epoch: 37/50: 100%|██████████| 9/9 [00:00<00:00,  9.94it/s, train_loss=0.111, valid_loss=0.175]\n",
      "Epoch: 38/50: 100%|██████████| 9/9 [00:00<00:00,  9.40it/s, train_loss=0.111, valid_loss=0.173]\n",
      "Epoch: 39/50: 100%|██████████| 9/9 [00:01<00:00,  8.67it/s, train_loss=0.105, valid_loss=0.175]\n",
      "Epoch: 40/50: 100%|██████████| 9/9 [00:00<00:00, 11.57it/s, train_loss=0.107, valid_loss=0.175]\n",
      "Epoch: 41/50: 100%|██████████| 9/9 [00:00<00:00, 10.60it/s, train_loss=0.106, valid_loss=0.176]\n",
      "Epoch: 42/50: 100%|██████████| 9/9 [00:00<00:00, 10.96it/s, train_loss=0.11, valid_loss=0.175] \n",
      "Epoch: 43/50: 100%|██████████| 9/9 [00:00<00:00, 10.57it/s, train_loss=0.107, valid_loss=0.174]\n",
      "Epoch: 44/50: 100%|██████████| 9/9 [00:00<00:00, 11.29it/s, train_loss=0.108, valid_loss=0.176]\n",
      "Epoch: 45/50: 100%|██████████| 9/9 [00:00<00:00,  9.26it/s, train_loss=0.106, valid_loss=0.177]\n",
      "Epoch: 46/50: 100%|██████████| 9/9 [00:00<00:00,  9.65it/s, train_loss=0.108, valid_loss=0.175]\n",
      "Epoch: 47/50: 100%|██████████| 9/9 [00:00<00:00,  9.65it/s, train_loss=0.106, valid_loss=0.176]\n",
      "Epoch: 48/50: 100%|██████████| 9/9 [00:00<00:00, 10.45it/s, train_loss=0.106, valid_loss=0.174]\n",
      "Epoch: 49/50: 100%|██████████| 9/9 [00:00<00:00, 10.45it/s, train_loss=0.107, valid_loss=0.174]\n",
      "Epoch: 50/50: 100%|██████████| 9/9 [00:00<00:00, 10.25it/s, train_loss=0.109, valid_loss=0.176]\n"
     ]
    },
    {
     "name": "stdout",
     "output_type": "stream",
     "text": [
      "cross-validation dataset 0\n"
     ]
    },
    {
     "name": "stderr",
     "output_type": "stream",
     "text": [
      "Epoch: 1/50: 100%|██████████| 9/9 [00:00<00:00,  9.48it/s, train_loss=0.0226, valid_loss=0.0335]\n",
      "Epoch: 2/50: 100%|██████████| 9/9 [00:00<00:00, 10.66it/s, train_loss=0.0155, valid_loss=0.0371]\n",
      "Epoch: 3/50: 100%|██████████| 9/9 [00:01<00:00,  8.42it/s, train_loss=0.0142, valid_loss=0.0445]\n",
      "Epoch: 4/50: 100%|██████████| 9/9 [00:00<00:00,  9.75it/s, train_loss=0.0103, valid_loss=0.0655]\n",
      "Epoch: 5/50: 100%|██████████| 9/9 [00:00<00:00, 10.63it/s, train_loss=0.00638, valid_loss=0.033] \n",
      "Epoch: 6/50: 100%|██████████| 9/9 [00:00<00:00, 10.60it/s, train_loss=0.00488, valid_loss=0.0237]\n",
      "Epoch: 7/50: 100%|██████████| 9/9 [00:00<00:00, 10.69it/s, train_loss=0.00364, valid_loss=0.0211]\n",
      "Epoch: 8/50: 100%|██████████| 9/9 [00:00<00:00, 10.83it/s, train_loss=0.00324, valid_loss=0.00943]\n",
      "Epoch: 9/50: 100%|██████████| 9/9 [00:00<00:00,  9.85it/s, train_loss=0.00267, valid_loss=0.00606]\n",
      "Epoch: 10/50: 100%|██████████| 9/9 [00:00<00:00,  9.65it/s, train_loss=0.0024, valid_loss=0.00542] \n",
      "Epoch: 11/50: 100%|██████████| 9/9 [00:00<00:00, 10.52it/s, train_loss=0.00211, valid_loss=0.00767]\n",
      "Epoch: 12/50: 100%|██████████| 9/9 [00:00<00:00, 10.45it/s, train_loss=0.00192, valid_loss=0.00696]\n",
      "Epoch: 13/50: 100%|██████████| 9/9 [00:00<00:00,  9.43it/s, train_loss=0.00192, valid_loss=0.00746]\n",
      "Epoch: 14/50: 100%|██████████| 9/9 [00:00<00:00,  9.69it/s, train_loss=0.00187, valid_loss=0.00794]\n",
      "Epoch: 15/50: 100%|██████████| 9/9 [00:00<00:00,  9.50it/s, train_loss=0.00184, valid_loss=0.00734]\n",
      "Epoch: 16/50: 100%|██████████| 9/9 [00:00<00:00, 10.58it/s, train_loss=0.00176, valid_loss=0.00845]\n",
      "Epoch: 17/50: 100%|██████████| 9/9 [00:00<00:00, 10.53it/s, train_loss=0.00158, valid_loss=0.00634]\n",
      "Epoch: 18/50: 100%|██████████| 9/9 [00:00<00:00,  9.83it/s, train_loss=0.00159, valid_loss=0.00832]\n",
      "Epoch: 19/50: 100%|██████████| 9/9 [00:00<00:00, 10.16it/s, train_loss=0.00145, valid_loss=0.00815]\n",
      "Epoch: 20/50: 100%|██████████| 9/9 [00:00<00:00, 10.49it/s, train_loss=0.0015, valid_loss=0.00882]\n",
      "Epoch: 21/50: 100%|██████████| 9/9 [00:00<00:00, 10.70it/s, train_loss=0.00147, valid_loss=0.0126]\n",
      "Epoch: 22/50: 100%|██████████| 9/9 [00:00<00:00, 10.76it/s, train_loss=0.00148, valid_loss=0.0106]\n",
      "Epoch: 23/50: 100%|██████████| 9/9 [00:00<00:00, 11.53it/s, train_loss=0.00147, valid_loss=0.0103]\n",
      "Epoch: 24/50: 100%|██████████| 9/9 [00:00<00:00, 10.81it/s, train_loss=0.00142, valid_loss=0.00997]\n",
      "Epoch: 25/50: 100%|██████████| 9/9 [00:00<00:00, 11.35it/s, train_loss=0.00133, valid_loss=0.0109]\n",
      "Epoch: 26/50: 100%|██████████| 9/9 [00:00<00:00, 10.79it/s, train_loss=0.00125, valid_loss=0.0137]\n",
      "Epoch: 27/50: 100%|██████████| 9/9 [00:00<00:00, 10.70it/s, train_loss=0.00133, valid_loss=0.0163]\n",
      "Epoch: 28/50: 100%|██████████| 9/9 [00:00<00:00, 11.08it/s, train_loss=0.00123, valid_loss=0.0199]\n",
      "Epoch: 29/50: 100%|██████████| 9/9 [00:00<00:00,  9.12it/s, train_loss=0.00123, valid_loss=0.017] \n",
      "Epoch: 30/50: 100%|██████████| 9/9 [00:00<00:00, 10.62it/s, train_loss=0.00121, valid_loss=0.0187]\n",
      "Epoch: 31/50: 100%|██████████| 9/9 [00:00<00:00,  9.06it/s, train_loss=0.00123, valid_loss=0.0198]\n",
      "Epoch: 32/50: 100%|██████████| 9/9 [00:00<00:00, 10.18it/s, train_loss=0.00117, valid_loss=0.018] \n",
      "Epoch: 33/50: 100%|██████████| 9/9 [00:01<00:00,  8.41it/s, train_loss=0.00121, valid_loss=0.0191]\n",
      "Epoch: 34/50: 100%|██████████| 9/9 [00:00<00:00,  9.52it/s, train_loss=0.00107, valid_loss=0.0195]\n",
      "Epoch: 35/50: 100%|██████████| 9/9 [00:00<00:00,  9.96it/s, train_loss=0.00104, valid_loss=0.0328]\n",
      "Epoch: 36/50: 100%|██████████| 9/9 [00:00<00:00,  9.01it/s, train_loss=0.00116, valid_loss=0.0241]\n"
     ]
    },
    {
     "name": "stdout",
     "output_type": "stream",
     "text": [
      "cross-validation dataset 1\n"
     ]
    },
    {
     "name": "stderr",
     "output_type": "stream",
     "text": [
      "Epoch: 1/50: 100%|██████████| 17/17 [00:01<00:00,  9.16it/s, train_loss=0.0252, valid_loss=0.0269]\n",
      "Epoch: 2/50: 100%|██████████| 17/17 [00:01<00:00,  9.66it/s, train_loss=0.0172, valid_loss=0.0181]\n",
      "Epoch: 3/50: 100%|██████████| 17/17 [00:01<00:00,  9.48it/s, train_loss=0.00558, valid_loss=0.00609]\n",
      "Epoch: 4/50: 100%|██████████| 17/17 [00:01<00:00, 10.18it/s, train_loss=0.00426, valid_loss=0.00371]\n",
      "Epoch: 5/50: 100%|██████████| 17/17 [00:01<00:00,  8.53it/s, train_loss=0.00355, valid_loss=0.00316]\n",
      "Epoch: 6/50: 100%|██████████| 17/17 [00:01<00:00, 10.40it/s, train_loss=0.00337, valid_loss=0.00268]\n",
      "Epoch: 7/50: 100%|██████████| 17/17 [00:01<00:00,  9.64it/s, train_loss=0.00294, valid_loss=0.00348]\n",
      "Epoch: 8/50: 100%|██████████| 17/17 [00:01<00:00,  8.59it/s, train_loss=0.00258, valid_loss=0.00319]\n",
      "Epoch: 9/50: 100%|██████████| 17/17 [00:01<00:00,  8.87it/s, train_loss=0.00295, valid_loss=0.00255]\n",
      "Epoch: 10/50: 100%|██████████| 17/17 [00:01<00:00,  9.31it/s, train_loss=0.00218, valid_loss=0.00218]\n",
      "Epoch: 11/50: 100%|██████████| 17/17 [00:01<00:00,  9.59it/s, train_loss=0.00221, valid_loss=0.00225]\n",
      "Epoch: 12/50: 100%|██████████| 17/17 [00:01<00:00, 10.21it/s, train_loss=0.00215, valid_loss=0.00226]\n",
      "Epoch: 13/50: 100%|██████████| 17/17 [00:01<00:00,  9.34it/s, train_loss=0.00211, valid_loss=0.00274]\n",
      "Epoch: 14/50: 100%|██████████| 17/17 [00:01<00:00, 10.34it/s, train_loss=0.00211, valid_loss=0.00267]\n",
      "Epoch: 15/50: 100%|██████████| 17/17 [00:01<00:00, 10.29it/s, train_loss=0.00219, valid_loss=0.00305]\n",
      "Epoch: 16/50: 100%|██████████| 17/17 [00:01<00:00, 10.17it/s, train_loss=0.00194, valid_loss=0.00287]\n",
      "Epoch: 17/50: 100%|██████████| 17/17 [00:01<00:00,  9.79it/s, train_loss=0.00198, valid_loss=0.00241]\n",
      "Epoch: 18/50: 100%|██████████| 17/17 [00:01<00:00, 10.01it/s, train_loss=0.00171, valid_loss=0.00212]\n",
      "Epoch: 19/50: 100%|██████████| 17/17 [00:01<00:00,  9.47it/s, train_loss=0.00164, valid_loss=0.00244]\n",
      "Epoch: 20/50: 100%|██████████| 17/17 [00:01<00:00,  8.68it/s, train_loss=0.00176, valid_loss=0.00295]\n",
      "Epoch: 21/50: 100%|██████████| 17/17 [00:01<00:00,  9.29it/s, train_loss=0.00168, valid_loss=0.00305]\n",
      "Epoch: 22/50: 100%|██████████| 17/17 [00:01<00:00,  9.95it/s, train_loss=0.00169, valid_loss=0.00258]\n",
      "Epoch: 23/50: 100%|██████████| 17/17 [00:01<00:00,  9.08it/s, train_loss=0.00163, valid_loss=0.00239]\n",
      "Epoch: 24/50: 100%|██████████| 17/17 [00:01<00:00,  9.62it/s, train_loss=0.00163, valid_loss=0.00255]\n",
      "Epoch: 25/50: 100%|██████████| 17/17 [00:01<00:00,  8.83it/s, train_loss=0.00147, valid_loss=0.00245]\n",
      "Epoch: 26/50: 100%|██████████| 17/17 [00:02<00:00,  8.14it/s, train_loss=0.00149, valid_loss=0.00281]\n",
      "Epoch: 27/50: 100%|██████████| 17/17 [00:01<00:00, 10.18it/s, train_loss=0.00146, valid_loss=0.00219]\n",
      "Epoch: 28/50: 100%|██████████| 17/17 [00:01<00:00,  9.58it/s, train_loss=0.00146, valid_loss=0.00201]\n",
      "Epoch: 29/50: 100%|██████████| 17/17 [00:01<00:00,  9.34it/s, train_loss=0.0014, valid_loss=0.00278] \n",
      "Epoch: 30/50: 100%|██████████| 17/17 [00:01<00:00, 10.23it/s, train_loss=0.00123, valid_loss=0.00206]\n",
      "Epoch: 31/50: 100%|██████████| 17/17 [00:01<00:00, 10.74it/s, train_loss=0.00116, valid_loss=0.00221]\n",
      "Epoch: 32/50: 100%|██████████| 17/17 [00:01<00:00,  9.98it/s, train_loss=0.0011, valid_loss=0.00287] \n",
      "Epoch: 33/50: 100%|██████████| 17/17 [00:01<00:00, 10.07it/s, train_loss=0.00113, valid_loss=0.00351]\n",
      "Epoch: 34/50: 100%|██████████| 17/17 [00:01<00:00,  9.64it/s, train_loss=0.00113, valid_loss=0.00294]\n",
      "Epoch: 35/50: 100%|██████████| 17/17 [00:01<00:00,  9.19it/s, train_loss=0.00107, valid_loss=0.00273]\n",
      "Epoch: 36/50: 100%|██████████| 17/17 [00:01<00:00,  9.27it/s, train_loss=0.00103, valid_loss=0.00238] \n",
      "Epoch: 37/50: 100%|██████████| 17/17 [00:01<00:00, 10.23it/s, train_loss=0.00102, valid_loss=0.00254]\n",
      "Epoch: 38/50: 100%|██████████| 17/17 [00:01<00:00,  8.88it/s, train_loss=0.000903, valid_loss=0.0029] \n",
      "Epoch: 39/50: 100%|██████████| 17/17 [00:01<00:00,  9.78it/s, train_loss=0.000971, valid_loss=0.00342]\n",
      "Epoch: 40/50: 100%|██████████| 17/17 [00:01<00:00,  8.80it/s, train_loss=0.000812, valid_loss=0.0034] \n",
      "Epoch: 41/50: 100%|██████████| 17/17 [00:01<00:00,  8.87it/s, train_loss=0.000885, valid_loss=0.00349]\n",
      "Epoch: 42/50: 100%|██████████| 17/17 [00:01<00:00,  8.82it/s, train_loss=0.000886, valid_loss=0.00297]\n",
      "Epoch: 43/50: 100%|██████████| 17/17 [00:01<00:00,  9.54it/s, train_loss=0.000777, valid_loss=0.00331]\n"
     ]
    },
    {
     "name": "stdout",
     "output_type": "stream",
     "text": [
      "cross-validation dataset 2\n"
     ]
    },
    {
     "name": "stderr",
     "output_type": "stream",
     "text": [
      "Epoch: 1/50: 100%|██████████| 25/25 [00:02<00:00, 10.59it/s, train_loss=0.0258, valid_loss=0.035] \n",
      "Epoch: 2/50: 100%|██████████| 25/25 [00:02<00:00, 11.17it/s, train_loss=0.00718, valid_loss=0.0169]\n",
      "Epoch: 3/50: 100%|██████████| 25/25 [00:02<00:00, 11.00it/s, train_loss=0.00405, valid_loss=0.00574]\n",
      "Epoch: 4/50: 100%|██████████| 25/25 [00:02<00:00, 11.10it/s, train_loss=0.00319, valid_loss=0.00413]\n",
      "Epoch: 5/50: 100%|██████████| 25/25 [00:02<00:00,  9.44it/s, train_loss=0.00251, valid_loss=0.00371]\n",
      "Epoch: 6/50: 100%|██████████| 25/25 [00:02<00:00,  8.88it/s, train_loss=0.00231, valid_loss=0.00334]\n",
      "Epoch: 7/50: 100%|██████████| 25/25 [00:02<00:00,  9.33it/s, train_loss=0.00223, valid_loss=0.00321]\n",
      "Epoch: 8/50: 100%|██████████| 25/25 [00:02<00:00,  9.66it/s, train_loss=0.00232, valid_loss=0.00317]\n",
      "Epoch: 9/50: 100%|██████████| 25/25 [00:02<00:00,  9.22it/s, train_loss=0.00209, valid_loss=0.00323]\n",
      "Epoch: 10/50: 100%|██████████| 25/25 [00:02<00:00, 10.22it/s, train_loss=0.00192, valid_loss=0.00302]\n",
      "Epoch: 11/50: 100%|██████████| 25/25 [00:02<00:00, 10.69it/s, train_loss=0.00175, valid_loss=0.00287]\n",
      "Epoch: 12/50: 100%|██████████| 25/25 [00:02<00:00,  9.77it/s, train_loss=0.00199, valid_loss=0.00296]\n",
      "Epoch: 13/50: 100%|██████████| 25/25 [00:02<00:00,  9.25it/s, train_loss=0.00185, valid_loss=0.00306]\n",
      "Epoch: 14/50: 100%|██████████| 25/25 [00:02<00:00, 11.02it/s, train_loss=0.00181, valid_loss=0.00283]\n",
      "Epoch: 15/50: 100%|██████████| 25/25 [00:02<00:00,  9.81it/s, train_loss=0.00144, valid_loss=0.00427]\n",
      "Epoch: 16/50: 100%|██████████| 25/25 [00:02<00:00, 10.18it/s, train_loss=0.00154, valid_loss=0.00311]\n",
      "Epoch: 17/50: 100%|██████████| 25/25 [00:02<00:00, 10.02it/s, train_loss=0.0018, valid_loss=0.00326] \n",
      "Epoch: 18/50: 100%|██████████| 25/25 [00:02<00:00, 10.70it/s, train_loss=0.00136, valid_loss=0.00313]\n",
      "Epoch: 19/50: 100%|██████████| 25/25 [00:02<00:00, 10.28it/s, train_loss=0.00166, valid_loss=0.00363]\n",
      "Epoch: 20/50: 100%|██████████| 25/25 [00:02<00:00, 10.67it/s, train_loss=0.00134, valid_loss=0.00361]\n",
      "Epoch: 21/50: 100%|██████████| 25/25 [00:02<00:00,  9.85it/s, train_loss=0.00146, valid_loss=0.00431]\n",
      "Epoch: 22/50: 100%|██████████| 25/25 [00:02<00:00,  9.74it/s, train_loss=0.00132, valid_loss=0.00422]\n"
     ]
    },
    {
     "name": "stdout",
     "output_type": "stream",
     "text": [
      "cross-validation dataset 3\n"
     ]
    },
    {
     "name": "stderr",
     "output_type": "stream",
     "text": [
      "Epoch: 1/50: 100%|██████████| 33/33 [00:03<00:00, 10.23it/s, train_loss=0.0152, valid_loss=0.0129]\n",
      "Epoch: 2/50: 100%|██████████| 33/33 [00:03<00:00,  9.14it/s, train_loss=0.00485, valid_loss=0.00511]\n",
      "Epoch: 3/50: 100%|██████████| 33/33 [00:03<00:00, 10.25it/s, train_loss=0.00351, valid_loss=0.00241]\n",
      "Epoch: 4/50: 100%|██████████| 33/33 [00:03<00:00, 10.17it/s, train_loss=0.00291, valid_loss=0.0018] \n",
      "Epoch: 5/50: 100%|██████████| 33/33 [00:03<00:00,  9.51it/s, train_loss=0.00258, valid_loss=0.00165]\n",
      "Epoch: 6/50: 100%|██████████| 33/33 [00:03<00:00,  9.39it/s, train_loss=0.00221, valid_loss=0.00165]\n",
      "Epoch: 7/50: 100%|██████████| 33/33 [00:03<00:00, 10.44it/s, train_loss=0.00248, valid_loss=0.0014] \n",
      "Epoch: 8/50: 100%|██████████| 33/33 [00:03<00:00, 10.31it/s, train_loss=0.00212, valid_loss=0.0019] \n",
      "Epoch: 9/50: 100%|██████████| 33/33 [00:03<00:00,  9.88it/s, train_loss=0.00203, valid_loss=0.00136]\n",
      "Epoch: 10/50: 100%|██████████| 33/33 [00:03<00:00,  9.34it/s, train_loss=0.00215, valid_loss=0.00158]\n",
      "Epoch: 11/50: 100%|██████████| 33/33 [00:03<00:00, 10.55it/s, train_loss=0.00202, valid_loss=0.00119]\n",
      "Epoch: 12/50: 100%|██████████| 33/33 [00:03<00:00,  9.90it/s, train_loss=0.00191, valid_loss=0.00108]\n",
      "Epoch: 13/50: 100%|██████████| 33/33 [00:03<00:00,  9.15it/s, train_loss=0.00156, valid_loss=0.00115]\n",
      "Epoch: 14/50: 100%|██████████| 33/33 [00:03<00:00, 10.01it/s, train_loss=0.00154, valid_loss=0.0013] \n",
      "Epoch: 15/50: 100%|██████████| 33/33 [00:03<00:00,  8.89it/s, train_loss=0.00163, valid_loss=0.00104]\n",
      "Epoch: 16/50: 100%|██████████| 33/33 [00:03<00:00, 10.82it/s, train_loss=0.00142, valid_loss=0.000989]\n",
      "Epoch: 17/50: 100%|██████████| 33/33 [00:03<00:00, 10.30it/s, train_loss=0.00177, valid_loss=0.00096]\n",
      "Epoch: 18/50: 100%|██████████| 33/33 [00:03<00:00,  9.87it/s, train_loss=0.00154, valid_loss=0.00142] \n",
      "Epoch: 19/50: 100%|██████████| 33/33 [00:03<00:00,  9.87it/s, train_loss=0.00128, valid_loss=0.000972]\n",
      "Epoch: 20/50: 100%|██████████| 33/33 [00:03<00:00, 10.54it/s, train_loss=0.00134, valid_loss=0.000996]\n",
      "Epoch: 21/50: 100%|██████████| 33/33 [00:03<00:00, 10.21it/s, train_loss=0.00108, valid_loss=0.0011]  \n",
      "Epoch: 22/50: 100%|██████████| 33/33 [00:03<00:00,  9.91it/s, train_loss=0.00113, valid_loss=0.000946]\n",
      "Epoch: 23/50: 100%|██████████| 33/33 [00:03<00:00,  8.40it/s, train_loss=0.00115, valid_loss=0.00106] \n",
      "Epoch: 24/50: 100%|██████████| 33/33 [00:03<00:00,  9.70it/s, train_loss=0.00106, valid_loss=0.00106] \n",
      "Epoch: 25/50: 100%|██████████| 33/33 [00:03<00:00, 10.42it/s, train_loss=0.00108, valid_loss=0.000953] \n",
      "Epoch: 26/50: 100%|██████████| 33/33 [00:03<00:00,  9.29it/s, train_loss=0.000945, valid_loss=0.000966]\n",
      "Epoch: 27/50: 100%|██████████| 33/33 [00:03<00:00,  9.36it/s, train_loss=0.000892, valid_loss=0.00101] \n",
      "Epoch: 28/50: 100%|██████████| 33/33 [00:03<00:00,  9.37it/s, train_loss=0.000918, valid_loss=0.00103] \n",
      "Epoch: 29/50: 100%|██████████| 33/33 [00:03<00:00, 10.45it/s, train_loss=0.000862, valid_loss=0.00102] \n",
      "Epoch: 30/50: 100%|██████████| 33/33 [00:03<00:00, 10.50it/s, train_loss=0.000753, valid_loss=0.00102] \n",
      "Epoch: 31/50: 100%|██████████| 33/33 [00:03<00:00, 10.79it/s, train_loss=0.000785, valid_loss=0.000988]\n",
      "Epoch: 32/50: 100%|██████████| 33/33 [00:03<00:00, 10.11it/s, train_loss=0.000692, valid_loss=0.00103] \n",
      "Epoch: 33/50: 100%|██████████| 33/33 [00:03<00:00,  9.62it/s, train_loss=0.000713, valid_loss=0.00101] \n"
     ]
    },
    {
     "name": "stdout",
     "output_type": "stream",
     "text": [
      "cross-validation dataset 4\n"
     ]
    },
    {
     "name": "stderr",
     "output_type": "stream",
     "text": [
      "Epoch: 1/50: 100%|██████████| 42/42 [00:04<00:00, 10.12it/s, train_loss=0.178, valid_loss=0.189]\n",
      "Epoch: 2/50: 100%|██████████| 42/42 [00:04<00:00,  9.96it/s, train_loss=0.156, valid_loss=0.19] \n",
      "Epoch: 3/50: 100%|██████████| 42/42 [00:04<00:00, 10.29it/s, train_loss=0.165, valid_loss=0.189]\n",
      "Epoch: 4/50: 100%|██████████| 42/42 [00:04<00:00,  9.04it/s, train_loss=0.165, valid_loss=0.188]\n",
      "Epoch: 5/50: 100%|██████████| 42/42 [00:04<00:00,  9.11it/s, train_loss=0.172, valid_loss=0.187]\n",
      "Epoch: 6/50: 100%|██████████| 42/42 [00:04<00:00,  9.76it/s, train_loss=0.158, valid_loss=0.187]\n"
     ]
    },
    {
     "name": "stdout",
     "output_type": "stream",
     "text": [
      "cross-validation dataset 4\n"
     ]
    },
    {
     "name": "stderr",
     "output_type": "stream",
     "text": [
      "Epoch: 1/50: 100%|██████████| 42/42 [00:04<00:00, 10.09it/s, train_loss=0.166, valid_loss=0.189]\n",
      "Epoch: 2/50: 100%|██████████| 42/42 [00:04<00:00, 10.33it/s, train_loss=0.166, valid_loss=0.189]\n",
      "Epoch: 3/50: 100%|██████████| 42/42 [00:04<00:00,  9.55it/s, train_loss=0.165, valid_loss=0.188]\n",
      "Epoch: 4/50: 100%|██████████| 42/42 [00:04<00:00,  9.35it/s, train_loss=0.165, valid_loss=0.19] \n",
      "Epoch: 5/50: 100%|██████████| 42/42 [00:04<00:00,  9.71it/s, train_loss=0.155, valid_loss=0.189]\n",
      "Epoch: 6/50: 100%|██████████| 42/42 [00:04<00:00,  9.59it/s, train_loss=0.166, valid_loss=0.188]\n",
      "Epoch: 7/50: 100%|██████████| 42/42 [00:04<00:00,  9.56it/s, train_loss=0.17, valid_loss=0.187] \n",
      "Epoch: 8/50: 100%|██████████| 42/42 [00:04<00:00, 10.14it/s, train_loss=0.162, valid_loss=0.189]\n",
      "Epoch: 9/50: 100%|██████████| 42/42 [00:04<00:00,  9.79it/s, train_loss=0.156, valid_loss=0.189]\n",
      "Epoch: 10/50: 100%|██████████| 42/42 [00:04<00:00,  9.81it/s, train_loss=0.167, valid_loss=0.189]\n",
      "Epoch: 11/50: 100%|██████████| 42/42 [00:04<00:00,  9.50it/s, train_loss=0.157, valid_loss=0.188]\n",
      "Epoch: 12/50: 100%|██████████| 42/42 [00:03<00:00, 10.75it/s, train_loss=0.17, valid_loss=0.19]  \n",
      "Epoch: 13/50: 100%|██████████| 42/42 [00:04<00:00, 10.14it/s, train_loss=0.162, valid_loss=0.189]\n"
     ]
    },
    {
     "name": "stdout",
     "output_type": "stream",
     "text": [
      "cross-validation dataset 4\n"
     ]
    },
    {
     "name": "stderr",
     "output_type": "stream",
     "text": [
      "Epoch: 1/50: 100%|██████████| 42/42 [00:04<00:00,  9.45it/s, train_loss=0.168, valid_loss=0.188]\n",
      "Epoch: 2/50: 100%|██████████| 42/42 [00:04<00:00,  9.03it/s, train_loss=0.161, valid_loss=0.188]\n",
      "Epoch: 3/50: 100%|██████████| 42/42 [00:04<00:00,  9.51it/s, train_loss=0.167, valid_loss=0.189]\n",
      "Epoch: 4/50: 100%|██████████| 42/42 [00:04<00:00,  9.72it/s, train_loss=0.167, valid_loss=0.188]\n",
      "Epoch: 5/50: 100%|██████████| 42/42 [00:04<00:00,  9.33it/s, train_loss=0.164, valid_loss=0.188]\n",
      "Epoch: 6/50: 100%|██████████| 42/42 [00:04<00:00,  9.65it/s, train_loss=0.17, valid_loss=0.189] \n",
      "Epoch: 7/50: 100%|██████████| 42/42 [00:04<00:00,  9.93it/s, train_loss=0.167, valid_loss=0.19] \n",
      "Epoch: 8/50: 100%|██████████| 42/42 [00:04<00:00,  8.71it/s, train_loss=0.17, valid_loss=0.19]  \n",
      "Epoch: 9/50: 100%|██████████| 42/42 [00:04<00:00,  9.49it/s, train_loss=0.161, valid_loss=0.188]\n",
      "Epoch: 10/50: 100%|██████████| 42/42 [00:03<00:00, 10.86it/s, train_loss=0.16, valid_loss=0.189] \n",
      "Epoch: 11/50: 100%|██████████| 42/42 [00:04<00:00,  9.60it/s, train_loss=0.165, valid_loss=0.187]\n",
      "Epoch: 12/50: 100%|██████████| 42/42 [00:04<00:00,  9.69it/s, train_loss=0.172, valid_loss=0.188]\n"
     ]
    },
    {
     "name": "stdout",
     "output_type": "stream",
     "text": [
      "cross-validation dataset 4\n"
     ]
    },
    {
     "name": "stderr",
     "output_type": "stream",
     "text": [
      "Epoch: 1/50: 100%|██████████| 42/42 [00:04<00:00, 10.06it/s, train_loss=0.0264, valid_loss=0.0299]\n",
      "Epoch: 2/50: 100%|██████████| 42/42 [00:03<00:00, 10.58it/s, train_loss=0.00463, valid_loss=0.00629]\n",
      "Epoch: 3/50: 100%|██████████| 42/42 [00:04<00:00, 10.29it/s, train_loss=0.00304, valid_loss=0.0041] \n",
      "Epoch: 4/50: 100%|██████████| 42/42 [00:04<00:00, 10.02it/s, train_loss=0.00255, valid_loss=0.00362]\n",
      "Epoch: 5/50: 100%|██████████| 42/42 [00:04<00:00, 10.22it/s, train_loss=0.0026, valid_loss=0.00335] \n",
      "Epoch: 6/50: 100%|██████████| 42/42 [00:04<00:00, 10.38it/s, train_loss=0.00219, valid_loss=0.00331]\n",
      "Epoch: 7/50: 100%|██████████| 42/42 [00:04<00:00,  9.85it/s, train_loss=0.00241, valid_loss=0.00304]\n",
      "Epoch: 8/50: 100%|██████████| 42/42 [00:04<00:00,  9.55it/s, train_loss=0.00212, valid_loss=0.00301]\n",
      "Epoch: 9/50: 100%|██████████| 42/42 [00:04<00:00,  9.72it/s, train_loss=0.00184, valid_loss=0.00296]\n",
      "Epoch: 10/50: 100%|██████████| 42/42 [00:04<00:00,  9.13it/s, train_loss=0.00198, valid_loss=0.00285]\n",
      "Epoch: 11/50: 100%|██████████| 42/42 [00:04<00:00,  8.93it/s, train_loss=0.00173, valid_loss=0.00376]\n",
      "Epoch: 12/50: 100%|██████████| 42/42 [00:04<00:00,  9.86it/s, train_loss=0.00196, valid_loss=0.00303]\n",
      "Epoch: 13/50: 100%|██████████| 42/42 [00:04<00:00, 10.00it/s, train_loss=0.00161, valid_loss=0.00284]\n",
      "Epoch: 14/50: 100%|██████████| 42/42 [00:04<00:00, 10.01it/s, train_loss=0.00174, valid_loss=0.00305]\n",
      "Epoch: 15/50: 100%|██████████| 42/42 [00:04<00:00,  8.65it/s, train_loss=0.00166, valid_loss=0.00275]\n",
      "Epoch: 16/50: 100%|██████████| 42/42 [00:04<00:00,  8.79it/s, train_loss=0.0016, valid_loss=0.0026]  \n",
      "Epoch: 17/50: 100%|██████████| 42/42 [00:04<00:00,  9.69it/s, train_loss=0.00151, valid_loss=0.00265]\n",
      "Epoch: 18/50: 100%|██████████| 42/42 [00:04<00:00, 10.10it/s, train_loss=0.00155, valid_loss=0.00267]\n",
      "Epoch: 19/50: 100%|██████████| 42/42 [00:04<00:00,  9.08it/s, train_loss=0.00162, valid_loss=0.00262]\n",
      "Epoch: 20/50: 100%|██████████| 42/42 [00:04<00:00,  9.07it/s, train_loss=0.00124, valid_loss=0.00257]\n",
      "Epoch: 21/50: 100%|██████████| 42/42 [00:04<00:00,  9.66it/s, train_loss=0.00133, valid_loss=0.00275]\n",
      "Epoch: 22/50: 100%|██████████| 42/42 [00:04<00:00,  9.80it/s, train_loss=0.00124, valid_loss=0.00244]\n",
      "Epoch: 23/50: 100%|██████████| 42/42 [00:04<00:00,  9.14it/s, train_loss=0.00126, valid_loss=0.0025] \n",
      "Epoch: 24/50: 100%|██████████| 42/42 [00:03<00:00, 10.54it/s, train_loss=0.00109, valid_loss=0.0026] \n",
      "Epoch: 25/50: 100%|██████████| 42/42 [00:04<00:00,  8.97it/s, train_loss=0.00113, valid_loss=0.00293]\n",
      "Epoch: 26/50: 100%|██████████| 42/42 [00:04<00:00, 10.03it/s, train_loss=0.0012, valid_loss=0.00255] \n",
      "Epoch: 27/50: 100%|██████████| 42/42 [00:04<00:00,  9.88it/s, train_loss=0.00122, valid_loss=0.00264]\n",
      "Epoch: 28/50: 100%|██████████| 42/42 [00:04<00:00,  9.40it/s, train_loss=0.00105, valid_loss=0.00277]\n",
      "Epoch: 29/50: 100%|██████████| 42/42 [00:04<00:00,  9.87it/s, train_loss=0.0011, valid_loss=0.00268]  \n",
      "Epoch: 30/50: 100%|██████████| 42/42 [00:04<00:00,  8.40it/s, train_loss=0.000868, valid_loss=0.00257]\n",
      "Epoch: 31/50: 100%|██████████| 42/42 [00:04<00:00,  9.70it/s, train_loss=0.00103, valid_loss=0.00251] \n",
      "Epoch: 32/50: 100%|██████████| 42/42 [00:04<00:00,  9.87it/s, train_loss=0.000947, valid_loss=0.00271]\n"
     ]
    },
    {
     "name": "stdout",
     "output_type": "stream",
     "text": [
      "model config: batch_size-256, lr-0.005, number_epoch-50, hidden_dim-120, n_layers-3,drop_prob-0.6,weight_decay-1e-08\n",
      "cross-validation dataset 0\n"
     ]
    },
    {
     "name": "stderr",
     "output_type": "stream",
     "text": [
      "Epoch: 1/50: 100%|██████████| 17/17 [00:01<00:00,  9.92it/s, train_loss=0.0141, valid_loss=0.0569]\n",
      "Epoch: 2/50: 100%|██████████| 17/17 [00:01<00:00,  9.71it/s, train_loss=0.00557, valid_loss=0.0331]\n",
      "Epoch: 3/50: 100%|██████████| 17/17 [00:01<00:00, 10.37it/s, train_loss=0.00257, valid_loss=0.0107]\n",
      "Epoch: 4/50: 100%|██████████| 17/17 [00:02<00:00,  8.19it/s, train_loss=0.00232, valid_loss=0.00599]\n",
      "Epoch: 5/50: 100%|██████████| 17/17 [00:01<00:00,  9.44it/s, train_loss=0.00185, valid_loss=0.00684]\n",
      "Epoch: 6/50: 100%|██████████| 17/17 [00:02<00:00,  7.36it/s, train_loss=0.00154, valid_loss=0.0183] \n",
      "Epoch: 7/50: 100%|██████████| 17/17 [00:02<00:00,  6.81it/s, train_loss=0.00165, valid_loss=0.013]  \n",
      "Epoch: 8/50: 100%|██████████| 17/17 [00:01<00:00,  8.74it/s, train_loss=0.00135, valid_loss=0.00816]\n",
      "Epoch: 9/50: 100%|██████████| 17/17 [00:01<00:00,  8.58it/s, train_loss=0.00133, valid_loss=0.0108]\n",
      "Epoch: 10/50: 100%|██████████| 17/17 [00:01<00:00,  9.47it/s, train_loss=0.00114, valid_loss=0.0093] \n",
      "Epoch: 11/50: 100%|██████████| 17/17 [00:01<00:00,  8.85it/s, train_loss=0.00104, valid_loss=0.0143]\n",
      "Epoch: 12/50: 100%|██████████| 17/17 [00:01<00:00,  8.56it/s, train_loss=0.00112, valid_loss=0.0149]\n",
      "Epoch: 13/50: 100%|██████████| 17/17 [00:01<00:00, 10.04it/s, train_loss=0.00115, valid_loss=0.0116]\n",
      "Epoch: 14/50: 100%|██████████| 17/17 [00:01<00:00, 10.58it/s, train_loss=0.000966, valid_loss=0.0119]\n",
      "Epoch: 15/50: 100%|██████████| 17/17 [00:01<00:00, 10.78it/s, train_loss=0.000947, valid_loss=0.0124]\n",
      "Epoch: 16/50: 100%|██████████| 17/17 [00:01<00:00, 10.86it/s, train_loss=0.000833, valid_loss=0.0142]\n"
     ]
    },
    {
     "name": "stdout",
     "output_type": "stream",
     "text": [
      "cross-validation dataset 1\n"
     ]
    },
    {
     "name": "stderr",
     "output_type": "stream",
     "text": [
      "Epoch: 1/50: 100%|██████████| 33/33 [00:03<00:00, 10.90it/s, train_loss=0.00877, valid_loss=0.0082]\n",
      "Epoch: 2/50: 100%|██████████| 33/33 [00:03<00:00,  9.47it/s, train_loss=0.00329, valid_loss=0.00258]\n",
      "Epoch: 3/50: 100%|██████████| 33/33 [00:03<00:00,  9.58it/s, train_loss=0.00283, valid_loss=0.00198]\n",
      "Epoch: 4/50: 100%|██████████| 33/33 [00:03<00:00, 10.79it/s, train_loss=0.00255, valid_loss=0.00203]\n",
      "Epoch: 5/50: 100%|██████████| 33/33 [00:03<00:00,  9.46it/s, train_loss=0.00222, valid_loss=0.0018] \n",
      "Epoch: 6/50: 100%|██████████| 33/33 [00:03<00:00,  9.18it/s, train_loss=0.00263, valid_loss=0.00163]\n",
      "Epoch: 7/50: 100%|██████████| 33/33 [00:03<00:00,  9.12it/s, train_loss=0.00231, valid_loss=0.0016] \n",
      "Epoch: 8/50: 100%|██████████| 33/33 [00:03<00:00,  9.20it/s, train_loss=0.00174, valid_loss=0.00137]\n",
      "Epoch: 9/50: 100%|██████████| 33/33 [00:02<00:00, 11.47it/s, train_loss=0.00194, valid_loss=0.00138]\n",
      "Epoch: 10/50: 100%|██████████| 33/33 [00:03<00:00, 10.03it/s, train_loss=0.00167, valid_loss=0.00179]\n",
      "Epoch: 11/50: 100%|██████████| 33/33 [00:03<00:00, 10.81it/s, train_loss=0.00142, valid_loss=0.00133]\n",
      "Epoch: 12/50: 100%|██████████| 33/33 [00:02<00:00, 11.30it/s, train_loss=0.00128, valid_loss=0.00149]\n",
      "Epoch: 13/50: 100%|██████████| 33/33 [00:03<00:00, 10.90it/s, train_loss=0.00124, valid_loss=0.00154]\n",
      "Epoch: 14/50: 100%|██████████| 33/33 [00:03<00:00,  8.74it/s, train_loss=0.00117, valid_loss=0.00187]\n",
      "Epoch: 15/50: 100%|██████████| 33/33 [00:03<00:00, 10.32it/s, train_loss=0.00116, valid_loss=0.00174]\n",
      "Epoch: 16/50: 100%|██████████| 33/33 [00:03<00:00,  8.62it/s, train_loss=0.00122, valid_loss=0.00164]\n",
      "Epoch: 17/50: 100%|██████████| 33/33 [00:03<00:00,  9.86it/s, train_loss=0.00091, valid_loss=0.00198] \n"
     ]
    },
    {
     "name": "stdout",
     "output_type": "stream",
     "text": [
      "cross-validation dataset 2\n"
     ]
    },
    {
     "name": "stderr",
     "output_type": "stream",
     "text": [
      "Epoch: 1/50: 100%|██████████| 50/50 [00:04<00:00, 10.41it/s, train_loss=0.00539, valid_loss=0.00568]\n",
      "Epoch: 2/50: 100%|██████████| 50/50 [00:05<00:00,  9.23it/s, train_loss=0.0026, valid_loss=0.00405] \n",
      "Epoch: 3/50: 100%|██████████| 50/50 [00:05<00:00,  9.93it/s, train_loss=0.00182, valid_loss=0.00331]\n",
      "Epoch: 4/50: 100%|██████████| 50/50 [00:05<00:00,  9.89it/s, train_loss=0.0021, valid_loss=0.00464] \n",
      "Epoch: 5/50: 100%|██████████| 50/50 [00:05<00:00,  9.85it/s, train_loss=0.00153, valid_loss=0.00322]\n",
      "Epoch: 6/50: 100%|██████████| 50/50 [00:05<00:00,  9.99it/s, train_loss=0.00171, valid_loss=0.00414]\n",
      "Epoch: 7/50: 100%|██████████| 50/50 [00:06<00:00,  8.29it/s, train_loss=0.00128, valid_loss=0.00413]\n",
      "Epoch: 8/50: 100%|██████████| 50/50 [00:05<00:00,  9.62it/s, train_loss=0.00139, valid_loss=0.00546]\n",
      "Epoch: 9/50: 100%|██████████| 50/50 [00:05<00:00,  9.70it/s, train_loss=0.00103, valid_loss=0.00371]\n",
      "Epoch: 10/50: 100%|██████████| 50/50 [00:05<00:00,  9.86it/s, train_loss=0.00109, valid_loss=0.00344] \n",
      "Epoch: 11/50: 100%|██████████| 50/50 [00:04<00:00, 10.44it/s, train_loss=0.00148, valid_loss=0.00451]\n",
      "Epoch: 12/50: 100%|██████████| 50/50 [00:04<00:00, 10.93it/s, train_loss=0.000913, valid_loss=0.00412]\n"
     ]
    },
    {
     "name": "stdout",
     "output_type": "stream",
     "text": [
      "cross-validation dataset 3\n"
     ]
    },
    {
     "name": "stderr",
     "output_type": "stream",
     "text": [
      "Epoch: 1/50: 100%|██████████| 66/66 [00:06<00:00, 10.48it/s, train_loss=0.00579, valid_loss=0.00488]\n",
      "Epoch: 2/50: 100%|██████████| 66/66 [00:06<00:00,  9.78it/s, train_loss=0.00282, valid_loss=0.00161]\n",
      "Epoch: 3/50: 100%|██████████| 66/66 [00:06<00:00, 10.68it/s, train_loss=0.00263, valid_loss=0.00136]\n",
      "Epoch: 4/50: 100%|██████████| 66/66 [00:06<00:00, 10.60it/s, train_loss=0.00292, valid_loss=0.0013] \n",
      "Epoch: 5/50: 100%|██████████| 66/66 [00:06<00:00, 10.31it/s, train_loss=0.00217, valid_loss=0.00128]\n",
      "Epoch: 6/50: 100%|██████████| 66/66 [00:06<00:00, 10.53it/s, train_loss=0.00252, valid_loss=0.00114] \n",
      "Epoch: 7/50: 100%|██████████| 66/66 [00:06<00:00, 10.58it/s, train_loss=0.00182, valid_loss=0.00137]\n",
      "Epoch: 8/50: 100%|██████████| 66/66 [00:05<00:00, 11.07it/s, train_loss=0.00169, valid_loss=0.00119] \n",
      "Epoch: 9/50: 100%|██████████| 66/66 [00:06<00:00, 10.89it/s, train_loss=0.00147, valid_loss=0.00122] \n",
      "Epoch: 10/50: 100%|██████████| 66/66 [00:06<00:00, 10.30it/s, train_loss=0.00137, valid_loss=0.00156] \n",
      "Epoch: 11/50: 100%|██████████| 66/66 [00:06<00:00, 10.61it/s, train_loss=0.00134, valid_loss=0.00145] \n",
      "Epoch: 12/50: 100%|██████████| 66/66 [00:05<00:00, 11.43it/s, train_loss=0.00135, valid_loss=0.00139] \n",
      "Epoch: 13/50: 100%|██████████| 66/66 [00:07<00:00,  8.89it/s, train_loss=0.00118, valid_loss=0.00148] \n",
      "Epoch: 14/50: 100%|██████████| 66/66 [00:06<00:00, 10.36it/s, train_loss=0.00115, valid_loss=0.00108] \n"
     ]
    },
    {
     "name": "stdout",
     "output_type": "stream",
     "text": [
      "cross-validation dataset 4\n"
     ]
    },
    {
     "name": "stderr",
     "output_type": "stream",
     "text": [
      "Epoch: 1/50: 100%|██████████| 83/83 [00:08<00:00, 10.18it/s, train_loss=0.00363, valid_loss=0.00407]\n",
      "Epoch: 2/50: 100%|██████████| 83/83 [00:07<00:00, 10.54it/s, train_loss=0.00253, valid_loss=0.00331]\n",
      "Epoch: 3/50: 100%|██████████| 83/83 [00:07<00:00, 10.55it/s, train_loss=0.00242, valid_loss=0.00305]\n",
      "Epoch: 4/50: 100%|██████████| 83/83 [00:08<00:00,  9.74it/s, train_loss=0.00188, valid_loss=0.00298]\n",
      "Epoch: 5/50: 100%|██████████| 83/83 [00:07<00:00, 11.12it/s, train_loss=0.00263, valid_loss=0.00273]\n",
      "Epoch: 6/50: 100%|██████████| 83/83 [00:08<00:00, 10.09it/s, train_loss=0.00152, valid_loss=0.00263]\n",
      "Epoch: 7/50: 100%|██████████| 83/83 [00:07<00:00, 10.74it/s, train_loss=0.00131, valid_loss=0.00262]\n",
      "Epoch: 8/50: 100%|██████████| 83/83 [00:08<00:00,  9.36it/s, train_loss=0.0014, valid_loss=0.00256] \n",
      "Epoch: 9/50: 100%|██████████| 83/83 [00:08<00:00, 10.26it/s, train_loss=0.00162, valid_loss=0.00244]\n",
      "Epoch: 10/50: 100%|██████████| 83/83 [00:08<00:00,  9.90it/s, train_loss=0.00122, valid_loss=0.00256]\n",
      "Epoch: 11/50: 100%|██████████| 83/83 [00:08<00:00, 10.26it/s, train_loss=0.0011, valid_loss=0.00238] \n",
      "Epoch: 12/50: 100%|██████████| 83/83 [00:08<00:00, 10.21it/s, train_loss=0.00117, valid_loss=0.00281]\n",
      "Epoch: 13/50: 100%|██████████| 83/83 [00:08<00:00, 10.00it/s, train_loss=0.00117, valid_loss=0.00262]\n",
      "Epoch: 14/50: 100%|██████████| 83/83 [00:07<00:00, 10.88it/s, train_loss=0.00108, valid_loss=0.00233] \n",
      "Epoch: 15/50: 100%|██████████| 83/83 [00:07<00:00, 10.73it/s, train_loss=0.00112, valid_loss=0.00253] \n",
      "Epoch: 16/50: 100%|██████████| 83/83 [00:07<00:00, 11.58it/s, train_loss=0.000998, valid_loss=0.00239]\n",
      "Epoch: 17/50: 100%|██████████| 83/83 [00:06<00:00, 11.94it/s, train_loss=0.000892, valid_loss=0.00239]\n",
      "Epoch: 18/50: 100%|██████████| 83/83 [00:06<00:00, 12.00it/s, train_loss=0.00102, valid_loss=0.00287] \n",
      "Epoch: 19/50: 100%|██████████| 83/83 [00:06<00:00, 12.18it/s, train_loss=0.000956, valid_loss=0.00255]\n",
      "Epoch: 20/50: 100%|██████████| 83/83 [00:06<00:00, 12.15it/s, train_loss=0.000866, valid_loss=0.00274]\n",
      "Epoch: 21/50: 100%|██████████| 83/83 [00:06<00:00, 12.06it/s, train_loss=0.000726, valid_loss=0.00281]\n"
     ]
    },
    {
     "name": "stdout",
     "output_type": "stream",
     "text": [
      "model config: batch_size-256, lr-0.005, number_epoch-50, hidden_dim-100, n_layers-3,drop_prob-0.6,weight_decay-1e-07\n",
      "cross-validation dataset 0\n"
     ]
    },
    {
     "name": "stderr",
     "output_type": "stream",
     "text": [
      "Epoch: 1/50: 100%|██████████| 17/17 [00:01<00:00, 11.65it/s, train_loss=0.112, valid_loss=0.174]\n",
      "Epoch: 2/50: 100%|██████████| 17/17 [00:01<00:00, 11.40it/s, train_loss=0.112, valid_loss=0.175]\n",
      "Epoch: 3/50: 100%|██████████| 17/17 [00:01<00:00, 10.49it/s, train_loss=0.109, valid_loss=0.176]\n",
      "Epoch: 4/50: 100%|██████████| 17/17 [00:01<00:00, 11.34it/s, train_loss=0.103, valid_loss=0.172]\n",
      "Epoch: 5/50: 100%|██████████| 17/17 [00:01<00:00, 11.09it/s, train_loss=0.0192, valid_loss=0.0452]\n",
      "Epoch: 6/50: 100%|██████████| 17/17 [00:01<00:00, 10.93it/s, train_loss=0.0179, valid_loss=0.0361]\n",
      "Epoch: 7/50: 100%|██████████| 17/17 [00:01<00:00, 11.43it/s, train_loss=0.0165, valid_loss=0.0363]\n",
      "Epoch: 8/50: 100%|██████████| 17/17 [00:01<00:00, 11.70it/s, train_loss=0.016, valid_loss=0.0371] \n",
      "Epoch: 9/50: 100%|██████████| 17/17 [00:01<00:00, 11.52it/s, train_loss=0.0165, valid_loss=0.034] \n",
      "Epoch: 10/50: 100%|██████████| 17/17 [00:01<00:00, 11.54it/s, train_loss=0.00735, valid_loss=0.0564]\n",
      "Epoch: 11/50: 100%|██████████| 17/17 [00:01<00:00, 11.78it/s, train_loss=0.00464, valid_loss=0.0276]\n",
      "Epoch: 12/50: 100%|██████████| 17/17 [00:01<00:00, 11.47it/s, train_loss=0.00348, valid_loss=0.0118]\n",
      "Epoch: 13/50: 100%|██████████| 17/17 [00:01<00:00, 11.35it/s, train_loss=0.00209, valid_loss=0.00558]\n",
      "Epoch: 14/50: 100%|██████████| 17/17 [00:01<00:00, 11.58it/s, train_loss=0.00211, valid_loss=0.00498]\n",
      "Epoch: 15/50: 100%|██████████| 17/17 [00:01<00:00, 10.79it/s, train_loss=0.0019, valid_loss=0.00707] \n",
      "Epoch: 16/50: 100%|██████████| 17/17 [00:01<00:00, 11.44it/s, train_loss=0.00221, valid_loss=0.007] \n",
      "Epoch: 17/50: 100%|██████████| 17/17 [00:01<00:00, 11.45it/s, train_loss=0.00182, valid_loss=0.00511]\n",
      "Epoch: 18/50: 100%|██████████| 17/17 [00:01<00:00, 11.40it/s, train_loss=0.0018, valid_loss=0.00939] \n",
      "Epoch: 19/50: 100%|██████████| 17/17 [00:01<00:00, 11.48it/s, train_loss=0.00153, valid_loss=0.00944]\n",
      "Epoch: 20/50: 100%|██████████| 17/17 [00:01<00:00, 11.21it/s, train_loss=0.00157, valid_loss=0.011]  \n",
      "Epoch: 21/50: 100%|██████████| 17/17 [00:01<00:00, 11.37it/s, train_loss=0.00156, valid_loss=0.0146]\n",
      "Epoch: 22/50: 100%|██████████| 17/17 [00:01<00:00, 10.57it/s, train_loss=0.00162, valid_loss=0.012]\n",
      "Epoch: 23/50: 100%|██████████| 17/17 [00:01<00:00, 11.37it/s, train_loss=0.00148, valid_loss=0.0127]\n",
      "Epoch: 24/50: 100%|██████████| 17/17 [00:01<00:00, 11.59it/s, train_loss=0.0013, valid_loss=0.0125] \n",
      "Epoch: 25/50: 100%|██████████| 17/17 [00:01<00:00, 11.11it/s, train_loss=0.00126, valid_loss=0.0121]\n",
      "Epoch: 26/50: 100%|██████████| 17/17 [00:01<00:00, 11.68it/s, train_loss=0.00124, valid_loss=0.0132]\n"
     ]
    },
    {
     "name": "stdout",
     "output_type": "stream",
     "text": [
      "cross-validation dataset 1\n"
     ]
    },
    {
     "name": "stderr",
     "output_type": "stream",
     "text": [
      "Epoch: 1/50: 100%|██████████| 33/33 [00:02<00:00, 12.10it/s, train_loss=0.132, valid_loss=0.162]\n",
      "Epoch: 2/50: 100%|██████████| 33/33 [00:02<00:00, 11.39it/s, train_loss=0.0287, valid_loss=0.0277]\n",
      "Epoch: 3/50: 100%|██████████| 33/33 [00:03<00:00, 10.38it/s, train_loss=0.026, valid_loss=0.028]  \n",
      "Epoch: 4/50: 100%|██████████| 33/33 [00:03<00:00, 10.40it/s, train_loss=0.00819, valid_loss=0.0101]\n",
      "Epoch: 5/50: 100%|██████████| 33/33 [00:02<00:00, 11.10it/s, train_loss=0.00307, valid_loss=0.00305]\n",
      "Epoch: 6/50: 100%|██████████| 33/33 [00:02<00:00, 12.15it/s, train_loss=0.00303, valid_loss=0.00215]\n",
      "Epoch: 7/50: 100%|██████████| 33/33 [00:02<00:00, 12.12it/s, train_loss=0.00269, valid_loss=0.00201]\n",
      "Epoch: 8/50: 100%|██████████| 33/33 [00:02<00:00, 12.10it/s, train_loss=0.00254, valid_loss=0.0019] \n",
      "Epoch: 9/50: 100%|██████████| 33/33 [00:02<00:00, 12.17it/s, train_loss=0.00253, valid_loss=0.00181]\n",
      "Epoch: 10/50: 100%|██████████| 33/33 [00:03<00:00, 10.31it/s, train_loss=0.00223, valid_loss=0.00155]\n",
      "Epoch: 11/50: 100%|██████████| 33/33 [00:02<00:00, 11.73it/s, train_loss=0.00217, valid_loss=0.00229]\n",
      "Epoch: 12/50: 100%|██████████| 33/33 [00:02<00:00, 11.99it/s, train_loss=0.00234, valid_loss=0.00142]\n",
      "Epoch: 13/50: 100%|██████████| 33/33 [00:03<00:00, 10.79it/s, train_loss=0.00238, valid_loss=0.00153]\n",
      "Epoch: 14/50: 100%|██████████| 33/33 [00:03<00:00, 10.42it/s, train_loss=0.00217, valid_loss=0.00154]\n",
      "Epoch: 15/50: 100%|██████████| 33/33 [00:03<00:00, 10.67it/s, train_loss=0.00243, valid_loss=0.00148]\n",
      "Epoch: 16/50: 100%|██████████| 33/33 [00:02<00:00, 11.24it/s, train_loss=0.00242, valid_loss=0.00141]\n",
      "Epoch: 17/50: 100%|██████████| 33/33 [00:02<00:00, 11.09it/s, train_loss=0.00175, valid_loss=0.00132]\n",
      "Epoch: 18/50: 100%|██████████| 33/33 [00:03<00:00,  9.85it/s, train_loss=0.00154, valid_loss=0.00155]\n",
      "Epoch: 19/50: 100%|██████████| 33/33 [00:03<00:00,  9.89it/s, train_loss=0.00169, valid_loss=0.00145]\n",
      "Epoch: 20/50: 100%|██████████| 33/33 [00:02<00:00, 11.10it/s, train_loss=0.00171, valid_loss=0.00133]\n",
      "Epoch: 21/50: 100%|██████████| 33/33 [00:02<00:00, 11.37it/s, train_loss=0.00129, valid_loss=0.00135]\n",
      "Epoch: 22/50: 100%|██████████| 33/33 [00:02<00:00, 11.35it/s, train_loss=0.00144, valid_loss=0.00126]\n",
      "Epoch: 23/50: 100%|██████████| 33/33 [00:02<00:00, 11.85it/s, train_loss=0.00164, valid_loss=0.00145]\n",
      "Epoch: 24/50: 100%|██████████| 33/33 [00:02<00:00, 12.05it/s, train_loss=0.00127, valid_loss=0.00127]\n",
      "Epoch: 25/50: 100%|██████████| 33/33 [00:02<00:00, 12.01it/s, train_loss=0.00151, valid_loss=0.00139]\n",
      "Epoch: 26/50: 100%|██████████| 33/33 [00:02<00:00, 12.06it/s, train_loss=0.00165, valid_loss=0.00121]\n",
      "Epoch: 27/50: 100%|██████████| 33/33 [00:02<00:00, 11.93it/s, train_loss=0.00149, valid_loss=0.00125]\n",
      "Epoch: 28/50: 100%|██████████| 33/33 [00:03<00:00, 10.72it/s, train_loss=0.00157, valid_loss=0.00131]\n",
      "Epoch: 29/50: 100%|██████████| 33/33 [00:03<00:00,  9.79it/s, train_loss=0.00149, valid_loss=0.00142]\n",
      "Epoch: 30/50: 100%|██████████| 33/33 [00:03<00:00,  9.61it/s, train_loss=0.00116, valid_loss=0.0014] \n",
      "Epoch: 31/50: 100%|██████████| 33/33 [00:03<00:00, 10.13it/s, train_loss=0.00119, valid_loss=0.00136]\n",
      "Epoch: 32/50: 100%|██████████| 33/33 [00:02<00:00, 11.75it/s, train_loss=0.00135, valid_loss=0.00139]\n",
      "Epoch: 33/50: 100%|██████████| 33/33 [00:02<00:00, 11.01it/s, train_loss=0.00101, valid_loss=0.00139]\n",
      "Epoch: 34/50: 100%|██████████| 33/33 [00:02<00:00, 11.73it/s, train_loss=0.00117, valid_loss=0.00154]\n",
      "Epoch: 35/50: 100%|██████████| 33/33 [00:02<00:00, 11.04it/s, train_loss=0.0013, valid_loss=0.00144] \n"
     ]
    },
    {
     "name": "stdout",
     "output_type": "stream",
     "text": [
      "cross-validation dataset 2\n"
     ]
    },
    {
     "name": "stderr",
     "output_type": "stream",
     "text": [
      "Epoch: 1/50: 100%|██████████| 50/50 [00:04<00:00, 10.38it/s, train_loss=0.0136, valid_loss=0.0256]\n",
      "Epoch: 2/50: 100%|██████████| 50/50 [00:04<00:00, 10.33it/s, train_loss=0.00319, valid_loss=0.00367]\n",
      "Epoch: 3/50: 100%|██████████| 50/50 [00:04<00:00, 11.88it/s, train_loss=0.00237, valid_loss=0.0031] \n",
      "Epoch: 4/50: 100%|██████████| 50/50 [00:04<00:00, 11.88it/s, train_loss=0.00228, valid_loss=0.00312]\n",
      "Epoch: 5/50: 100%|██████████| 50/50 [00:04<00:00, 12.49it/s, train_loss=0.00203, valid_loss=0.00374]\n",
      "Epoch: 6/50: 100%|██████████| 50/50 [00:04<00:00, 12.47it/s, train_loss=0.00164, valid_loss=0.00307]\n",
      "Epoch: 7/50: 100%|██████████| 50/50 [00:04<00:00, 11.90it/s, train_loss=0.00173, valid_loss=0.00299]\n",
      "Epoch: 8/50: 100%|██████████| 50/50 [00:04<00:00, 11.91it/s, train_loss=0.0014, valid_loss=0.00268] \n",
      "Epoch: 9/50: 100%|██████████| 50/50 [00:04<00:00, 11.23it/s, train_loss=0.00153, valid_loss=0.00291]\n",
      "Epoch: 10/50: 100%|██████████| 50/50 [00:04<00:00, 12.00it/s, train_loss=0.00124, valid_loss=0.00319]\n",
      "Epoch: 11/50: 100%|██████████| 50/50 [00:04<00:00, 11.83it/s, train_loss=0.00119, valid_loss=0.00326]\n",
      "Epoch: 12/50: 100%|██████████| 50/50 [00:04<00:00, 12.42it/s, train_loss=0.00108, valid_loss=0.00354]\n",
      "Epoch: 13/50: 100%|██████████| 50/50 [00:04<00:00, 11.87it/s, train_loss=0.00117, valid_loss=0.00393]\n"
     ]
    },
    {
     "name": "stdout",
     "output_type": "stream",
     "text": [
      "cross-validation dataset 3\n"
     ]
    },
    {
     "name": "stderr",
     "output_type": "stream",
     "text": [
      "Epoch: 1/50: 100%|██████████| 66/66 [00:05<00:00, 11.69it/s, train_loss=0.00373, valid_loss=0.00348]\n",
      "Epoch: 2/50: 100%|██████████| 66/66 [00:05<00:00, 12.01it/s, train_loss=0.00285, valid_loss=0.00243]\n",
      "Epoch: 3/50: 100%|██████████| 66/66 [00:05<00:00, 12.07it/s, train_loss=0.00288, valid_loss=0.0014] \n",
      "Epoch: 4/50: 100%|██████████| 66/66 [00:06<00:00, 10.22it/s, train_loss=0.00213, valid_loss=0.00138]\n",
      "Epoch: 5/50: 100%|██████████| 66/66 [00:05<00:00, 11.52it/s, train_loss=0.00197, valid_loss=0.00181]\n",
      "Epoch: 6/50: 100%|██████████| 66/66 [00:05<00:00, 11.21it/s, train_loss=0.00177, valid_loss=0.000996]\n",
      "Epoch: 7/50: 100%|██████████| 66/66 [00:05<00:00, 11.20it/s, train_loss=0.00175, valid_loss=0.00115]\n",
      "Epoch: 8/50: 100%|██████████| 66/66 [00:05<00:00, 12.04it/s, train_loss=0.00148, valid_loss=0.00154]\n",
      "Epoch: 9/50: 100%|██████████| 66/66 [00:05<00:00, 11.72it/s, train_loss=0.00144, valid_loss=0.00139] \n",
      "Epoch: 10/50: 100%|██████████| 66/66 [00:05<00:00, 12.06it/s, train_loss=0.00186, valid_loss=0.00115] \n",
      "Epoch: 11/50: 100%|██████████| 66/66 [00:05<00:00, 11.67it/s, train_loss=0.00148, valid_loss=0.00149]\n",
      "Epoch: 12/50: 100%|██████████| 66/66 [00:05<00:00, 11.88it/s, train_loss=0.00119, valid_loss=0.00126]\n"
     ]
    },
    {
     "name": "stdout",
     "output_type": "stream",
     "text": [
      "cross-validation dataset 4\n"
     ]
    },
    {
     "name": "stderr",
     "output_type": "stream",
     "text": [
      "Epoch: 1/50: 100%|██████████| 83/83 [00:06<00:00, 12.12it/s, train_loss=0.165, valid_loss=0.189]\n",
      "Epoch: 2/50: 100%|██████████| 83/83 [00:08<00:00, 10.09it/s, train_loss=0.166, valid_loss=0.189]\n",
      "Epoch: 3/50: 100%|██████████| 83/83 [00:09<00:00,  9.22it/s, train_loss=0.0329, valid_loss=0.0348]\n",
      "Epoch: 4/50: 100%|██████████| 83/83 [00:08<00:00,  9.42it/s, train_loss=0.0314, valid_loss=0.0352]\n",
      "Epoch: 5/50: 100%|██████████| 83/83 [00:08<00:00,  9.57it/s, train_loss=0.0315, valid_loss=0.0353]\n",
      "Epoch: 6/50: 100%|██████████| 83/83 [00:08<00:00,  9.80it/s, train_loss=0.0315, valid_loss=0.0345]\n",
      "Epoch: 7/50: 100%|██████████| 83/83 [00:07<00:00, 10.70it/s, train_loss=0.0306, valid_loss=0.0359]\n"
     ]
    },
    {
     "name": "stdout",
     "output_type": "stream",
     "text": [
      "model config: batch_size-512, lr-0.005, number_epoch-50, hidden_dim-150, n_layers-3,drop_prob-0.4,weight_decay-1e-08\n",
      "cross-validation dataset 0\n"
     ]
    },
    {
     "name": "stderr",
     "output_type": "stream",
     "text": [
      "Epoch: 1/50: 100%|██████████| 9/9 [00:01<00:00,  6.85it/s, train_loss=0.0243, valid_loss=0.0487]\n",
      "Epoch: 2/50: 100%|██████████| 9/9 [00:01<00:00,  6.90it/s, train_loss=0.0148, valid_loss=0.041] \n",
      "Epoch: 3/50: 100%|██████████| 9/9 [00:01<00:00,  7.19it/s, train_loss=0.00854, valid_loss=0.0425]\n",
      "Epoch: 4/50: 100%|██████████| 9/9 [00:01<00:00,  7.70it/s, train_loss=0.00477, valid_loss=0.0303]\n",
      "Epoch: 5/50: 100%|██████████| 9/9 [00:01<00:00,  7.62it/s, train_loss=0.00374, valid_loss=0.0148]\n",
      "Epoch: 6/50: 100%|██████████| 9/9 [00:01<00:00,  7.21it/s, train_loss=0.00266, valid_loss=0.00728]\n",
      "Epoch: 7/50: 100%|██████████| 9/9 [00:01<00:00,  6.89it/s, train_loss=0.00254, valid_loss=0.00517]\n",
      "Epoch: 8/50: 100%|██████████| 9/9 [00:01<00:00,  7.21it/s, train_loss=0.0021, valid_loss=0.00462]\n",
      "Epoch: 9/50: 100%|██████████| 9/9 [00:01<00:00,  7.20it/s, train_loss=0.00185, valid_loss=0.0043] \n",
      "Epoch: 10/50: 100%|██████████| 9/9 [00:01<00:00,  7.08it/s, train_loss=0.0016, valid_loss=0.00531] \n",
      "Epoch: 11/50: 100%|██████████| 9/9 [00:01<00:00,  7.17it/s, train_loss=0.00159, valid_loss=0.00517]\n",
      "Epoch: 12/50: 100%|██████████| 9/9 [00:01<00:00,  7.46it/s, train_loss=0.00151, valid_loss=0.00601]\n",
      "Epoch: 13/50: 100%|██████████| 9/9 [00:01<00:00,  6.37it/s, train_loss=0.00155, valid_loss=0.00568]\n",
      "Epoch: 14/50: 100%|██████████| 9/9 [00:01<00:00,  7.13it/s, train_loss=0.0014, valid_loss=0.00602] \n",
      "Epoch: 15/50: 100%|██████████| 9/9 [00:01<00:00,  7.11it/s, train_loss=0.00152, valid_loss=0.00503]\n",
      "Epoch: 16/50: 100%|██████████| 9/9 [00:01<00:00,  7.51it/s, train_loss=0.0013, valid_loss=0.00865]\n",
      "Epoch: 17/50: 100%|██████████| 9/9 [00:01<00:00,  6.96it/s, train_loss=0.0013, valid_loss=0.00865] \n",
      "Epoch: 18/50: 100%|██████████| 9/9 [00:01<00:00,  6.86it/s, train_loss=0.0011, valid_loss=0.00942]\n",
      "Epoch: 19/50: 100%|██████████| 9/9 [00:01<00:00,  6.39it/s, train_loss=0.00106, valid_loss=0.00882]\n",
      "Epoch: 20/50: 100%|██████████| 9/9 [00:01<00:00,  7.21it/s, train_loss=0.000998, valid_loss=0.00745]\n",
      "Epoch: 21/50: 100%|██████████| 9/9 [00:01<00:00,  7.13it/s, train_loss=0.0011, valid_loss=0.00971]\n",
      "Epoch: 22/50: 100%|██████████| 9/9 [00:01<00:00,  6.70it/s, train_loss=0.00105, valid_loss=0.0102] \n",
      "Epoch: 23/50: 100%|██████████| 9/9 [00:01<00:00,  7.31it/s, train_loss=0.00138, valid_loss=0.00682]\n",
      "Epoch: 24/50: 100%|██████████| 9/9 [00:01<00:00,  7.64it/s, train_loss=0.0011, valid_loss=0.00638]\n",
      "Epoch: 25/50: 100%|██████████| 9/9 [00:01<00:00,  7.12it/s, train_loss=0.00103, valid_loss=0.0106] \n",
      "Epoch: 26/50: 100%|██████████| 9/9 [00:01<00:00,  6.98it/s, train_loss=0.00103, valid_loss=0.00897] \n",
      "Epoch: 27/50: 100%|██████████| 9/9 [00:01<00:00,  7.13it/s, train_loss=0.000804, valid_loss=0.0101] \n",
      "Epoch: 28/50: 100%|██████████| 9/9 [00:01<00:00,  6.71it/s, train_loss=0.000816, valid_loss=0.0111]\n",
      "Epoch: 29/50: 100%|██████████| 9/9 [00:01<00:00,  6.95it/s, train_loss=0.000878, valid_loss=0.0143]\n",
      "Epoch: 30/50: 100%|██████████| 9/9 [00:01<00:00,  7.08it/s, train_loss=0.000802, valid_loss=0.0105]\n",
      "Epoch: 31/50: 100%|██████████| 9/9 [00:01<00:00,  6.75it/s, train_loss=0.000825, valid_loss=0.0157]\n",
      "Epoch: 32/50: 100%|██████████| 9/9 [00:01<00:00,  7.04it/s, train_loss=0.000672, valid_loss=0.0113]\n",
      "Epoch: 33/50: 100%|██████████| 9/9 [00:01<00:00,  7.20it/s, train_loss=0.000796, valid_loss=0.0133]\n",
      "Epoch: 34/50: 100%|██████████| 9/9 [00:01<00:00,  6.58it/s, train_loss=0.000769, valid_loss=0.0119]\n",
      "Epoch: 35/50: 100%|██████████| 9/9 [00:01<00:00,  7.50it/s, train_loss=0.000746, valid_loss=0.0125]\n"
     ]
    },
    {
     "name": "stdout",
     "output_type": "stream",
     "text": [
      "cross-validation dataset 1\n"
     ]
    },
    {
     "name": "stderr",
     "output_type": "stream",
     "text": [
      "Epoch: 1/50: 100%|██████████| 17/17 [00:02<00:00,  6.31it/s, train_loss=0.0258, valid_loss=0.027] \n",
      "Epoch: 2/50: 100%|██████████| 17/17 [00:02<00:00,  6.74it/s, train_loss=0.0145, valid_loss=0.0148]\n",
      "Epoch: 3/50: 100%|██████████| 17/17 [00:02<00:00,  6.24it/s, train_loss=0.00489, valid_loss=0.00449]\n",
      "Epoch: 4/50: 100%|██████████| 17/17 [00:02<00:00,  7.39it/s, train_loss=0.00372, valid_loss=0.00303]\n",
      "Epoch: 5/50: 100%|██████████| 17/17 [00:02<00:00,  6.93it/s, train_loss=0.003, valid_loss=0.00225]  \n",
      "Epoch: 6/50: 100%|██████████| 17/17 [00:02<00:00,  7.01it/s, train_loss=0.00279, valid_loss=0.00223]\n",
      "Epoch: 7/50: 100%|██████████| 17/17 [00:02<00:00,  6.37it/s, train_loss=0.00229, valid_loss=0.00241]\n",
      "Epoch: 8/50: 100%|██████████| 17/17 [00:02<00:00,  6.77it/s, train_loss=0.00254, valid_loss=0.00235]\n",
      "Epoch: 9/50: 100%|██████████| 17/17 [00:02<00:00,  6.54it/s, train_loss=0.00207, valid_loss=0.00195]\n",
      "Epoch: 10/50: 100%|██████████| 17/17 [00:02<00:00,  7.80it/s, train_loss=0.00263, valid_loss=0.00165]\n",
      "Epoch: 11/50: 100%|██████████| 17/17 [00:02<00:00,  6.76it/s, train_loss=0.00202, valid_loss=0.00204]\n",
      "Epoch: 12/50: 100%|██████████| 17/17 [00:02<00:00,  6.22it/s, train_loss=0.00228, valid_loss=0.00162]\n",
      "Epoch: 13/50: 100%|██████████| 17/17 [00:02<00:00,  6.32it/s, train_loss=0.002, valid_loss=0.00163]  \n",
      "Epoch: 14/50: 100%|██████████| 17/17 [00:02<00:00,  6.41it/s, train_loss=0.00187, valid_loss=0.00148]\n",
      "Epoch: 15/50: 100%|██████████| 17/17 [00:02<00:00,  6.71it/s, train_loss=0.00191, valid_loss=0.00133]\n",
      "Epoch: 16/50: 100%|██████████| 17/17 [00:02<00:00,  6.02it/s, train_loss=0.0021, valid_loss=0.00177] \n",
      "Epoch: 17/50: 100%|██████████| 17/17 [00:02<00:00,  6.22it/s, train_loss=0.00188, valid_loss=0.00141]\n",
      "Epoch: 18/50: 100%|██████████| 17/17 [00:02<00:00,  6.42it/s, train_loss=0.00149, valid_loss=0.0014] \n",
      "Epoch: 19/50: 100%|██████████| 17/17 [00:02<00:00,  6.58it/s, train_loss=0.00158, valid_loss=0.00127]\n",
      "Epoch: 20/50: 100%|██████████| 17/17 [00:02<00:00,  6.49it/s, train_loss=0.00171, valid_loss=0.00129]\n",
      "Epoch: 21/50: 100%|██████████| 17/17 [00:02<00:00,  6.73it/s, train_loss=0.00148, valid_loss=0.0013] \n",
      "Epoch: 22/50: 100%|██████████| 17/17 [00:02<00:00,  7.15it/s, train_loss=0.00161, valid_loss=0.00134]\n",
      "Epoch: 23/50: 100%|██████████| 17/17 [00:02<00:00,  7.31it/s, train_loss=0.00139, valid_loss=0.00131]\n",
      "Epoch: 24/50: 100%|██████████| 17/17 [00:02<00:00,  7.16it/s, train_loss=0.00147, valid_loss=0.00116]\n",
      "Epoch: 25/50: 100%|██████████| 17/17 [00:02<00:00,  7.30it/s, train_loss=0.00127, valid_loss=0.00129]\n",
      "Epoch: 26/50: 100%|██████████| 17/17 [00:02<00:00,  6.83it/s, train_loss=0.00124, valid_loss=0.00129]\n",
      "Epoch: 27/50: 100%|██████████| 17/17 [00:02<00:00,  6.78it/s, train_loss=0.00121, valid_loss=0.00174]\n",
      "Epoch: 28/50: 100%|██████████| 17/17 [00:02<00:00,  6.31it/s, train_loss=0.0013, valid_loss=0.00133] \n",
      "Epoch: 29/50: 100%|██████████| 17/17 [00:02<00:00,  6.21it/s, train_loss=0.00134, valid_loss=0.00123]\n",
      "Epoch: 30/50: 100%|██████████| 17/17 [00:02<00:00,  6.57it/s, train_loss=0.00106, valid_loss=0.00135]\n",
      "Epoch: 31/50: 100%|██████████| 17/17 [00:02<00:00,  6.79it/s, train_loss=0.000984, valid_loss=0.00122]\n",
      "Epoch: 32/50: 100%|██████████| 17/17 [00:02<00:00,  6.73it/s, train_loss=0.001, valid_loss=0.00125]   \n",
      "Epoch: 33/50: 100%|██████████| 17/17 [00:02<00:00,  6.98it/s, train_loss=0.00107, valid_loss=0.00124] \n",
      "Epoch: 34/50: 100%|██████████| 17/17 [00:02<00:00,  6.87it/s, train_loss=0.000891, valid_loss=0.00128]\n",
      "Epoch: 35/50: 100%|██████████| 17/17 [00:02<00:00,  6.72it/s, train_loss=0.000977, valid_loss=0.00127]\n",
      "Epoch: 36/50: 100%|██████████| 17/17 [00:02<00:00,  6.79it/s, train_loss=0.00085, valid_loss=0.00132] \n",
      "Epoch: 37/50: 100%|██████████| 17/17 [00:02<00:00,  6.61it/s, train_loss=0.000801, valid_loss=0.00142]\n"
     ]
    },
    {
     "name": "stdout",
     "output_type": "stream",
     "text": [
      "cross-validation dataset 2\n"
     ]
    },
    {
     "name": "stderr",
     "output_type": "stream",
     "text": [
      "Epoch: 1/50: 100%|██████████| 25/25 [00:03<00:00,  6.45it/s, train_loss=0.147, valid_loss=0.192]\n",
      "Epoch: 2/50: 100%|██████████| 25/25 [00:03<00:00,  6.84it/s, train_loss=0.143, valid_loss=0.193]\n",
      "Epoch: 3/50: 100%|██████████| 25/25 [00:03<00:00,  6.76it/s, train_loss=0.154, valid_loss=0.196]\n",
      "Epoch: 4/50: 100%|██████████| 25/25 [00:03<00:00,  6.98it/s, train_loss=0.149, valid_loss=0.195]\n",
      "Epoch: 5/50: 100%|██████████| 25/25 [00:03<00:00,  7.11it/s, train_loss=0.151, valid_loss=0.195]\n",
      "Epoch: 6/50: 100%|██████████| 25/25 [00:03<00:00,  7.15it/s, train_loss=0.151, valid_loss=0.194]\n",
      "Epoch: 7/50: 100%|██████████| 25/25 [00:03<00:00,  7.11it/s, train_loss=0.152, valid_loss=0.193]\n",
      "Epoch: 8/50: 100%|██████████| 25/25 [00:03<00:00,  7.03it/s, train_loss=0.145, valid_loss=0.193]\n",
      "Epoch: 9/50: 100%|██████████| 25/25 [00:03<00:00,  6.38it/s, train_loss=0.156, valid_loss=0.194]\n",
      "Epoch: 10/50: 100%|██████████| 25/25 [00:03<00:00,  6.66it/s, train_loss=0.157, valid_loss=0.195]\n",
      "Epoch: 11/50: 100%|██████████| 25/25 [00:03<00:00,  7.07it/s, train_loss=0.15, valid_loss=0.196] \n",
      "Epoch: 12/50: 100%|██████████| 25/25 [00:03<00:00,  6.82it/s, train_loss=0.143, valid_loss=0.195]\n",
      "Epoch: 13/50: 100%|██████████| 25/25 [00:03<00:00,  6.81it/s, train_loss=0.148, valid_loss=0.195]\n",
      "Epoch: 14/50: 100%|██████████| 25/25 [00:03<00:00,  7.24it/s, train_loss=0.149, valid_loss=0.195]\n",
      "Epoch: 15/50: 100%|██████████| 25/25 [00:03<00:00,  6.85it/s, train_loss=0.152, valid_loss=0.195]\n",
      "Epoch: 16/50: 100%|██████████| 25/25 [00:03<00:00,  6.62it/s, train_loss=0.151, valid_loss=0.195]\n",
      "Epoch: 17/50: 100%|██████████| 25/25 [00:03<00:00,  7.07it/s, train_loss=0.147, valid_loss=0.195]\n",
      "Epoch: 18/50: 100%|██████████| 25/25 [00:03<00:00,  6.95it/s, train_loss=0.148, valid_loss=0.194]\n",
      "Epoch: 19/50: 100%|██████████| 25/25 [00:03<00:00,  7.01it/s, train_loss=0.151, valid_loss=0.195]\n",
      "Epoch: 20/50: 100%|██████████| 25/25 [00:03<00:00,  6.75it/s, train_loss=0.146, valid_loss=0.194]\n"
     ]
    },
    {
     "name": "stdout",
     "output_type": "stream",
     "text": [
      "cross-validation dataset 2\n"
     ]
    },
    {
     "name": "stderr",
     "output_type": "stream",
     "text": [
      "Epoch: 1/50: 100%|██████████| 25/25 [00:03<00:00,  6.95it/s, train_loss=0.0278, valid_loss=0.0374]\n",
      "Epoch: 2/50: 100%|██████████| 25/25 [00:03<00:00,  7.07it/s, train_loss=0.0102, valid_loss=0.0114]\n",
      "Epoch: 3/50: 100%|██████████| 25/25 [00:03<00:00,  6.82it/s, train_loss=0.00417, valid_loss=0.00497]\n",
      "Epoch: 4/50: 100%|██████████| 25/25 [00:03<00:00,  7.07it/s, train_loss=0.00264, valid_loss=0.00383]\n",
      "Epoch: 5/50: 100%|██████████| 25/25 [00:03<00:00,  6.65it/s, train_loss=0.00259, valid_loss=0.00327]\n",
      "Epoch: 6/50: 100%|██████████| 25/25 [00:03<00:00,  6.37it/s, train_loss=0.0022, valid_loss=0.00325] \n",
      "Epoch: 7/50: 100%|██████████| 25/25 [00:03<00:00,  7.06it/s, train_loss=0.00212, valid_loss=0.00342]\n",
      "Epoch: 8/50: 100%|██████████| 25/25 [00:03<00:00,  6.58it/s, train_loss=0.00199, valid_loss=0.00298]\n",
      "Epoch: 9/50: 100%|██████████| 25/25 [00:03<00:00,  6.91it/s, train_loss=0.00182, valid_loss=0.00298]\n",
      "Epoch: 10/50: 100%|██████████| 25/25 [00:03<00:00,  6.94it/s, train_loss=0.00192, valid_loss=0.00335]\n",
      "Epoch: 11/50: 100%|██████████| 25/25 [00:03<00:00,  6.67it/s, train_loss=0.00161, valid_loss=0.0039] \n",
      "Epoch: 12/50: 100%|██████████| 25/25 [00:03<00:00,  6.40it/s, train_loss=0.00182, valid_loss=0.00289]\n",
      "Epoch: 13/50: 100%|██████████| 25/25 [00:03<00:00,  6.46it/s, train_loss=0.00144, valid_loss=0.00302]\n",
      "Epoch: 14/50: 100%|██████████| 25/25 [00:03<00:00,  6.87it/s, train_loss=0.00166, valid_loss=0.00362]\n",
      "Epoch: 15/50: 100%|██████████| 25/25 [00:03<00:00,  6.88it/s, train_loss=0.00163, valid_loss=0.00301]\n",
      "Epoch: 16/50: 100%|██████████| 25/25 [00:03<00:00,  6.85it/s, train_loss=0.00123, valid_loss=0.00295]\n",
      "Epoch: 17/50: 100%|██████████| 25/25 [00:03<00:00,  6.55it/s, train_loss=0.00133, valid_loss=0.00329]\n",
      "Epoch: 18/50: 100%|██████████| 25/25 [00:03<00:00,  6.82it/s, train_loss=0.00156, valid_loss=0.00351]\n",
      "Epoch: 19/50: 100%|██████████| 25/25 [00:03<00:00,  7.34it/s, train_loss=0.00132, valid_loss=0.00394]\n",
      "Epoch: 20/50: 100%|██████████| 25/25 [00:03<00:00,  7.15it/s, train_loss=0.00122, valid_loss=0.00321]\n",
      "Epoch: 21/50: 100%|██████████| 25/25 [00:03<00:00,  7.25it/s, train_loss=0.00135, valid_loss=0.00319]\n",
      "Epoch: 22/50: 100%|██████████| 25/25 [00:03<00:00,  7.36it/s, train_loss=0.00143, valid_loss=0.00294]\n",
      "Epoch: 23/50: 100%|██████████| 25/25 [00:03<00:00,  7.44it/s, train_loss=0.00126, valid_loss=0.00397]\n",
      "Epoch: 24/50: 100%|██████████| 25/25 [00:03<00:00,  6.98it/s, train_loss=0.00121, valid_loss=0.00299]\n",
      "Epoch: 25/50: 100%|██████████| 25/25 [00:03<00:00,  7.24it/s, train_loss=0.00105, valid_loss=0.00282]\n",
      "Epoch: 26/50: 100%|██████████| 25/25 [00:03<00:00,  7.10it/s, train_loss=0.00109, valid_loss=0.00365] \n",
      "Epoch: 27/50: 100%|██████████| 25/25 [00:03<00:00,  7.16it/s, train_loss=0.00118, valid_loss=0.00279] \n",
      "Epoch: 28/50: 100%|██████████| 25/25 [00:03<00:00,  7.36it/s, train_loss=0.000977, valid_loss=0.0037]\n",
      "Epoch: 29/50: 100%|██████████| 25/25 [00:03<00:00,  7.69it/s, train_loss=0.000975, valid_loss=0.00381]\n",
      "Epoch: 30/50: 100%|██████████| 25/25 [00:03<00:00,  6.59it/s, train_loss=0.00115, valid_loss=0.00299]\n"
     ]
    },
    {
     "name": "stdout",
     "output_type": "stream",
     "text": [
      "cross-validation dataset 3\n"
     ]
    },
    {
     "name": "stderr",
     "output_type": "stream",
     "text": [
      "Epoch: 1/50: 100%|██████████| 33/33 [00:04<00:00,  6.68it/s, train_loss=0.0259, valid_loss=0.0304]\n",
      "Epoch: 2/50: 100%|██████████| 33/33 [00:05<00:00,  6.50it/s, train_loss=0.00369, valid_loss=0.00333]\n",
      "Epoch: 3/50: 100%|██████████| 33/33 [00:04<00:00,  6.69it/s, train_loss=0.00316, valid_loss=0.0017] \n",
      "Epoch: 4/50: 100%|██████████| 33/33 [00:04<00:00,  6.74it/s, train_loss=0.00241, valid_loss=0.00145]\n",
      "Epoch: 5/50: 100%|██████████| 33/33 [00:04<00:00,  6.95it/s, train_loss=0.00235, valid_loss=0.00128]\n",
      "Epoch: 6/50: 100%|██████████| 33/33 [00:04<00:00,  6.73it/s, train_loss=0.00272, valid_loss=0.00116]\n",
      "Epoch: 7/50: 100%|██████████| 33/33 [00:05<00:00,  6.57it/s, train_loss=0.00197, valid_loss=0.00102]\n",
      "Epoch: 8/50: 100%|██████████| 33/33 [00:05<00:00,  6.26it/s, train_loss=0.00181, valid_loss=0.00123] \n",
      "Epoch: 9/50: 100%|██████████| 33/33 [00:04<00:00,  6.61it/s, train_loss=0.00206, valid_loss=0.00111] \n",
      "Epoch: 10/50: 100%|██████████| 33/33 [00:04<00:00,  6.70it/s, train_loss=0.00164, valid_loss=0.0009]  \n",
      "Epoch: 11/50: 100%|██████████| 33/33 [00:04<00:00,  6.85it/s, train_loss=0.00168, valid_loss=0.000853]\n",
      "Epoch: 12/50: 100%|██████████| 33/33 [00:05<00:00,  6.54it/s, train_loss=0.00166, valid_loss=0.00136] \n",
      "Epoch: 13/50: 100%|██████████| 33/33 [00:04<00:00,  6.68it/s, train_loss=0.00129, valid_loss=0.00136] \n",
      "Epoch: 14/50: 100%|██████████| 33/33 [00:05<00:00,  6.56it/s, train_loss=0.00183, valid_loss=0.001]  \n",
      "Epoch: 15/50: 100%|██████████| 33/33 [00:04<00:00,  6.87it/s, train_loss=0.00164, valid_loss=0.00129] \n",
      "Epoch: 16/50: 100%|██████████| 33/33 [00:04<00:00,  6.73it/s, train_loss=0.00161, valid_loss=0.000901]\n",
      "Epoch: 17/50: 100%|██████████| 33/33 [00:04<00:00,  6.88it/s, train_loss=0.00129, valid_loss=0.00124] \n",
      "Epoch: 18/50: 100%|██████████| 33/33 [00:04<00:00,  6.79it/s, train_loss=0.00135, valid_loss=0.00103] \n",
      "Epoch: 19/50: 100%|██████████| 33/33 [00:04<00:00,  6.65it/s, train_loss=0.00118, valid_loss=0.000924]\n",
      "Epoch: 20/50: 100%|██████████| 33/33 [00:04<00:00,  6.92it/s, train_loss=0.00129, valid_loss=0.000899]\n",
      "Epoch: 21/50: 100%|██████████| 33/33 [00:04<00:00,  6.83it/s, train_loss=0.00145, valid_loss=0.00113] \n",
      "Epoch: 22/50: 100%|██████████| 33/33 [00:04<00:00,  6.73it/s, train_loss=0.00174, valid_loss=0.00155] \n",
      "Epoch: 23/50: 100%|██████████| 33/33 [00:05<00:00,  6.58it/s, train_loss=0.00151, valid_loss=0.000993]\n",
      "Epoch: 24/50: 100%|██████████| 33/33 [00:05<00:00,  6.45it/s, train_loss=0.00133, valid_loss=0.00103] \n",
      "Epoch: 25/50: 100%|██████████| 33/33 [00:05<00:00,  6.23it/s, train_loss=0.00113, valid_loss=0.00105]\n",
      "Epoch: 26/50: 100%|██████████| 33/33 [00:05<00:00,  6.53it/s, train_loss=0.0011, valid_loss=0.000964] \n",
      "Epoch: 27/50: 100%|██████████| 33/33 [00:05<00:00,  6.25it/s, train_loss=0.00119, valid_loss=0.000967]\n"
     ]
    },
    {
     "name": "stdout",
     "output_type": "stream",
     "text": [
      "cross-validation dataset 4\n"
     ]
    },
    {
     "name": "stderr",
     "output_type": "stream",
     "text": [
      "Epoch: 1/50: 100%|██████████| 42/42 [00:05<00:00,  7.01it/s, train_loss=0.16, valid_loss=0.188] \n",
      "Epoch: 2/50: 100%|██████████| 42/42 [00:06<00:00,  6.40it/s, train_loss=0.161, valid_loss=0.189]\n",
      "Epoch: 3/50: 100%|██████████| 42/42 [00:06<00:00,  6.32it/s, train_loss=0.165, valid_loss=0.189]\n",
      "Epoch: 4/50: 100%|██████████| 42/42 [00:06<00:00,  6.66it/s, train_loss=0.171, valid_loss=0.189]\n",
      "Epoch: 5/50: 100%|██████████| 42/42 [00:06<00:00,  6.49it/s, train_loss=0.173, valid_loss=0.188]\n",
      "Epoch: 6/50: 100%|██████████| 42/42 [00:06<00:00,  6.94it/s, train_loss=0.16, valid_loss=0.189] \n",
      "Epoch: 7/50: 100%|██████████| 42/42 [00:06<00:00,  6.54it/s, train_loss=0.165, valid_loss=0.188]\n",
      "Epoch: 8/50: 100%|██████████| 42/42 [00:06<00:00,  6.61it/s, train_loss=0.165, valid_loss=0.188]\n",
      "Epoch: 9/50: 100%|██████████| 42/42 [00:06<00:00,  6.70it/s, train_loss=0.167, valid_loss=0.189]\n",
      "Epoch: 10/50: 100%|██████████| 42/42 [00:06<00:00,  6.74it/s, train_loss=0.165, valid_loss=0.19] \n",
      "Epoch: 11/50: 100%|██████████| 42/42 [00:06<00:00,  6.37it/s, train_loss=0.159, valid_loss=0.19] \n"
     ]
    },
    {
     "name": "stdout",
     "output_type": "stream",
     "text": [
      "cross-validation dataset 4\n"
     ]
    },
    {
     "name": "stderr",
     "output_type": "stream",
     "text": [
      "Epoch: 1/50: 100%|██████████| 42/42 [00:06<00:00,  6.55it/s, train_loss=0.00443, valid_loss=0.00516]\n",
      "Epoch: 2/50: 100%|██████████| 42/42 [00:06<00:00,  6.53it/s, train_loss=0.00313, valid_loss=0.00432]\n",
      "Epoch: 3/50: 100%|██████████| 42/42 [00:06<00:00,  6.53it/s, train_loss=0.00238, valid_loss=0.00346]\n",
      "Epoch: 4/50: 100%|██████████| 42/42 [00:06<00:00,  6.69it/s, train_loss=0.00235, valid_loss=0.0032] \n",
      "Epoch: 5/50: 100%|██████████| 42/42 [00:06<00:00,  6.49it/s, train_loss=0.00207, valid_loss=0.00297]\n",
      "Epoch: 6/50: 100%|██████████| 42/42 [00:06<00:00,  6.71it/s, train_loss=0.00177, valid_loss=0.00285]\n",
      "Epoch: 7/50: 100%|██████████| 42/42 [00:06<00:00,  6.60it/s, train_loss=0.00171, valid_loss=0.00268]\n",
      "Epoch: 8/50: 100%|██████████| 42/42 [00:06<00:00,  6.56it/s, train_loss=0.00161, valid_loss=0.00254]\n",
      "Epoch: 9/50: 100%|██████████| 42/42 [00:06<00:00,  6.45it/s, train_loss=0.00155, valid_loss=0.00256]\n",
      "Epoch: 10/50: 100%|██████████| 42/42 [00:06<00:00,  6.01it/s, train_loss=0.00172, valid_loss=0.00249]\n",
      "Epoch: 11/50: 100%|██████████| 42/42 [00:06<00:00,  6.47it/s, train_loss=0.00126, valid_loss=0.00248]\n",
      "Epoch: 12/50: 100%|██████████| 42/42 [00:06<00:00,  6.62it/s, train_loss=0.00141, valid_loss=0.0024] \n",
      "Epoch: 13/50: 100%|██████████| 42/42 [00:06<00:00,  6.47it/s, train_loss=0.00131, valid_loss=0.00259]\n",
      "Epoch: 14/50: 100%|██████████| 42/42 [00:06<00:00,  6.37it/s, train_loss=0.00132, valid_loss=0.00257]\n",
      "Epoch: 15/50: 100%|██████████| 42/42 [00:06<00:00,  6.82it/s, train_loss=0.00122, valid_loss=0.00237]\n",
      "Epoch: 16/50: 100%|██████████| 42/42 [00:06<00:00,  6.65it/s, train_loss=0.0012, valid_loss=0.00233] \n",
      "Epoch: 17/50: 100%|██████████| 42/42 [00:06<00:00,  6.71it/s, train_loss=0.00127, valid_loss=0.00234]\n",
      "Epoch: 18/50: 100%|██████████| 42/42 [00:06<00:00,  6.62it/s, train_loss=0.00117, valid_loss=0.00233]\n",
      "Epoch: 19/50: 100%|██████████| 42/42 [00:06<00:00,  6.86it/s, train_loss=0.00113, valid_loss=0.00237]\n",
      "Epoch: 20/50: 100%|██████████| 42/42 [00:06<00:00,  6.53it/s, train_loss=0.00115, valid_loss=0.00224]\n",
      "Epoch: 21/50: 100%|██████████| 42/42 [00:06<00:00,  6.67it/s, train_loss=0.00116, valid_loss=0.00226]\n",
      "Epoch: 22/50: 100%|██████████| 42/42 [00:06<00:00,  6.63it/s, train_loss=0.00133, valid_loss=0.0023] \n",
      "Epoch: 23/50: 100%|██████████| 42/42 [00:06<00:00,  6.87it/s, train_loss=0.00108, valid_loss=0.00226]\n",
      "Epoch: 24/50: 100%|██████████| 42/42 [00:06<00:00,  6.77it/s, train_loss=0.000995, valid_loss=0.0024] \n",
      "Epoch: 25/50: 100%|██████████| 42/42 [00:06<00:00,  6.64it/s, train_loss=0.00105, valid_loss=0.00256] \n",
      "Epoch: 26/50: 100%|██████████| 42/42 [00:06<00:00,  6.56it/s, train_loss=0.00101, valid_loss=0.00244] \n",
      "Epoch: 27/50: 100%|██████████| 42/42 [00:06<00:00,  6.65it/s, train_loss=0.000925, valid_loss=0.00333]\n",
      "Epoch: 28/50: 100%|██████████| 42/42 [00:06<00:00,  6.41it/s, train_loss=0.000892, valid_loss=0.00397]\n"
     ]
    },
    {
     "name": "stdout",
     "output_type": "stream",
     "text": [
      "model config: batch_size-512, lr-0.005, number_epoch-50, hidden_dim-100, n_layers-3,drop_prob-0.4,weight_decay-1e-08\n",
      "cross-validation dataset 0\n"
     ]
    },
    {
     "name": "stderr",
     "output_type": "stream",
     "text": [
      "Epoch: 1/50: 100%|██████████| 9/9 [00:00<00:00,  9.35it/s, train_loss=0.107, valid_loss=0.175]\n",
      "Epoch: 2/50: 100%|██████████| 9/9 [00:00<00:00,  9.54it/s, train_loss=0.108, valid_loss=0.175]\n",
      "Epoch: 3/50: 100%|██████████| 9/9 [00:00<00:00, 11.18it/s, train_loss=0.107, valid_loss=0.176]\n",
      "Epoch: 4/50: 100%|██████████| 9/9 [00:00<00:00, 10.26it/s, train_loss=0.104, valid_loss=0.178]\n",
      "Epoch: 5/50: 100%|██████████| 9/9 [00:01<00:00,  8.20it/s, train_loss=0.11, valid_loss=0.177] \n",
      "Epoch: 6/50: 100%|██████████| 9/9 [00:00<00:00, 10.01it/s, train_loss=0.107, valid_loss=0.176]\n",
      "Epoch: 7/50: 100%|██████████| 9/9 [00:00<00:00,  9.91it/s, train_loss=0.11, valid_loss=0.175] \n",
      "Epoch: 8/50: 100%|██████████| 9/9 [00:00<00:00,  9.15it/s, train_loss=0.11, valid_loss=0.175] \n",
      "Epoch: 9/50: 100%|██████████| 9/9 [00:00<00:00,  9.85it/s, train_loss=0.107, valid_loss=0.176]\n",
      "Epoch: 10/50: 100%|██████████| 9/9 [00:00<00:00,  9.86it/s, train_loss=0.107, valid_loss=0.175]\n",
      "Epoch: 11/50: 100%|██████████| 9/9 [00:00<00:00,  9.37it/s, train_loss=0.11, valid_loss=0.176] \n",
      "Epoch: 12/50: 100%|██████████| 9/9 [00:00<00:00,  9.38it/s, train_loss=0.103, valid_loss=0.177]\n",
      "Epoch: 13/50: 100%|██████████| 9/9 [00:00<00:00,  9.06it/s, train_loss=0.11, valid_loss=0.176] \n",
      "Epoch: 14/50: 100%|██████████| 9/9 [00:00<00:00,  9.94it/s, train_loss=0.111, valid_loss=0.175]\n",
      "Epoch: 15/50: 100%|██████████| 9/9 [00:00<00:00,  9.12it/s, train_loss=0.109, valid_loss=0.176]\n",
      "Epoch: 16/50: 100%|██████████| 9/9 [00:00<00:00,  9.99it/s, train_loss=0.109, valid_loss=0.177]\n",
      "Epoch: 17/50: 100%|██████████| 9/9 [00:00<00:00, 10.02it/s, train_loss=0.109, valid_loss=0.174]\n",
      "Epoch: 18/50: 100%|██████████| 9/9 [00:00<00:00, 11.02it/s, train_loss=0.111, valid_loss=0.174]\n",
      "Epoch: 19/50: 100%|██████████| 9/9 [00:00<00:00, 10.20it/s, train_loss=0.106, valid_loss=0.176]\n",
      "Epoch: 20/50: 100%|██████████| 9/9 [00:00<00:00, 10.24it/s, train_loss=0.108, valid_loss=0.174]\n",
      "Epoch: 21/50: 100%|██████████| 9/9 [00:00<00:00,  9.93it/s, train_loss=0.106, valid_loss=0.174]\n",
      "Epoch: 22/50: 100%|██████████| 9/9 [00:00<00:00, 10.27it/s, train_loss=0.108, valid_loss=0.176]\n",
      "Epoch: 23/50: 100%|██████████| 9/9 [00:00<00:00, 10.13it/s, train_loss=0.11, valid_loss=0.174] \n",
      "Epoch: 24/50: 100%|██████████| 9/9 [00:00<00:00,  9.26it/s, train_loss=0.108, valid_loss=0.177]\n",
      "Epoch: 25/50: 100%|██████████| 9/9 [00:00<00:00,  9.04it/s, train_loss=0.107, valid_loss=0.175]\n",
      "Epoch: 26/50: 100%|██████████| 9/9 [00:00<00:00,  9.50it/s, train_loss=0.108, valid_loss=0.174]\n"
     ]
    },
    {
     "name": "stdout",
     "output_type": "stream",
     "text": [
      "cross-validation dataset 0\n"
     ]
    },
    {
     "name": "stderr",
     "output_type": "stream",
     "text": [
      "Epoch: 1/50: 100%|██████████| 9/9 [00:00<00:00,  9.49it/s, train_loss=0.106, valid_loss=0.176]\n",
      "Epoch: 2/50: 100%|██████████| 9/9 [00:00<00:00,  9.33it/s, train_loss=0.109, valid_loss=0.176]\n",
      "Epoch: 3/50: 100%|██████████| 9/9 [00:00<00:00,  9.60it/s, train_loss=0.11, valid_loss=0.174] \n",
      "Epoch: 4/50: 100%|██████████| 9/9 [00:00<00:00,  9.05it/s, train_loss=0.107, valid_loss=0.175]\n",
      "Epoch: 5/50: 100%|██████████| 9/9 [00:01<00:00,  8.44it/s, train_loss=0.109, valid_loss=0.173]\n",
      "Epoch: 6/50: 100%|██████████| 9/9 [00:00<00:00,  9.62it/s, train_loss=0.11, valid_loss=0.176] \n",
      "Epoch: 7/50: 100%|██████████| 9/9 [00:00<00:00,  9.43it/s, train_loss=0.109, valid_loss=0.175]\n",
      "Epoch: 8/50: 100%|██████████| 9/9 [00:00<00:00,  9.91it/s, train_loss=0.107, valid_loss=0.174]\n",
      "Epoch: 9/50: 100%|██████████| 9/9 [00:00<00:00,  9.59it/s, train_loss=0.107, valid_loss=0.174]\n",
      "Epoch: 10/50: 100%|██████████| 9/9 [00:00<00:00,  9.65it/s, train_loss=0.107, valid_loss=0.176]\n",
      "Epoch: 11/50: 100%|██████████| 9/9 [00:00<00:00, 10.83it/s, train_loss=0.108, valid_loss=0.176]\n",
      "Epoch: 12/50: 100%|██████████| 9/9 [00:00<00:00, 10.24it/s, train_loss=0.109, valid_loss=0.176]\n",
      "Epoch: 13/50: 100%|██████████| 9/9 [00:00<00:00, 11.13it/s, train_loss=0.11, valid_loss=0.173] \n",
      "Epoch: 14/50: 100%|██████████| 9/9 [00:00<00:00,  9.55it/s, train_loss=0.108, valid_loss=0.176]\n",
      "Epoch: 15/50: 100%|██████████| 9/9 [00:00<00:00,  9.03it/s, train_loss=0.114, valid_loss=0.175]\n",
      "Epoch: 16/50: 100%|██████████| 9/9 [00:01<00:00,  8.70it/s, train_loss=0.111, valid_loss=0.176]\n",
      "Epoch: 17/50: 100%|██████████| 9/9 [00:01<00:00,  8.36it/s, train_loss=0.106, valid_loss=0.176]\n",
      "Epoch: 18/50: 100%|██████████| 9/9 [00:00<00:00,  9.86it/s, train_loss=0.108, valid_loss=0.176]\n",
      "Epoch: 19/50: 100%|██████████| 9/9 [00:00<00:00,  9.42it/s, train_loss=0.105, valid_loss=0.174]\n",
      "Epoch: 20/50: 100%|██████████| 9/9 [00:00<00:00, 11.32it/s, train_loss=0.108, valid_loss=0.174]\n",
      "Epoch: 21/50: 100%|██████████| 9/9 [00:00<00:00, 10.81it/s, train_loss=0.106, valid_loss=0.174]\n",
      "Epoch: 22/50: 100%|██████████| 9/9 [00:00<00:00, 10.93it/s, train_loss=0.11, valid_loss=0.175] \n",
      "Epoch: 23/50: 100%|██████████| 9/9 [00:00<00:00, 10.90it/s, train_loss=0.106, valid_loss=0.175]\n",
      "Epoch: 24/50: 100%|██████████| 9/9 [00:00<00:00, 10.67it/s, train_loss=0.108, valid_loss=0.174]\n",
      "Epoch: 25/50: 100%|██████████| 9/9 [00:00<00:00, 11.21it/s, train_loss=0.106, valid_loss=0.174]\n",
      "Epoch: 26/50: 100%|██████████| 9/9 [00:00<00:00, 10.01it/s, train_loss=0.108, valid_loss=0.175]\n",
      "Epoch: 27/50: 100%|██████████| 9/9 [00:00<00:00, 10.71it/s, train_loss=0.107, valid_loss=0.175]\n",
      "Epoch: 28/50: 100%|██████████| 9/9 [00:00<00:00, 10.90it/s, train_loss=0.109, valid_loss=0.176]\n",
      "Epoch: 29/50: 100%|██████████| 9/9 [00:00<00:00, 10.85it/s, train_loss=0.11, valid_loss=0.174] \n",
      "Epoch: 30/50: 100%|██████████| 9/9 [00:00<00:00, 10.84it/s, train_loss=0.107, valid_loss=0.175]\n",
      "Epoch: 31/50: 100%|██████████| 9/9 [00:00<00:00, 10.99it/s, train_loss=0.106, valid_loss=0.175]\n",
      "Epoch: 32/50: 100%|██████████| 9/9 [00:00<00:00,  9.30it/s, train_loss=0.11, valid_loss=0.177] \n",
      "Epoch: 33/50: 100%|██████████| 9/9 [00:00<00:00,  9.65it/s, train_loss=0.108, valid_loss=0.175]\n",
      "Epoch: 34/50: 100%|██████████| 9/9 [00:00<00:00,  9.66it/s, train_loss=0.112, valid_loss=0.176]\n",
      "Epoch: 35/50: 100%|██████████| 9/9 [00:00<00:00,  9.59it/s, train_loss=0.106, valid_loss=0.178]\n",
      "Epoch: 36/50: 100%|██████████| 9/9 [00:00<00:00,  9.90it/s, train_loss=0.107, valid_loss=0.174]\n"
     ]
    },
    {
     "name": "stdout",
     "output_type": "stream",
     "text": [
      "cross-validation dataset 0\n"
     ]
    },
    {
     "name": "stderr",
     "output_type": "stream",
     "text": [
      "Epoch: 1/50: 100%|██████████| 9/9 [00:00<00:00, 10.77it/s, train_loss=0.103, valid_loss=0.176]\n",
      "Epoch: 2/50: 100%|██████████| 9/9 [00:00<00:00, 11.38it/s, train_loss=0.112, valid_loss=0.174]\n",
      "Epoch: 3/50: 100%|██████████| 9/9 [00:00<00:00, 10.01it/s, train_loss=0.11, valid_loss=0.176] \n",
      "Epoch: 4/50: 100%|██████████| 9/9 [00:00<00:00, 10.21it/s, train_loss=0.111, valid_loss=0.173]\n",
      "Epoch: 5/50: 100%|██████████| 9/9 [00:00<00:00, 10.44it/s, train_loss=0.105, valid_loss=0.176]\n",
      "Epoch: 6/50: 100%|██████████| 9/9 [00:00<00:00,  9.08it/s, train_loss=0.105, valid_loss=0.175]\n",
      "Epoch: 7/50: 100%|██████████| 9/9 [00:00<00:00,  9.77it/s, train_loss=0.105, valid_loss=0.176]\n",
      "Epoch: 8/50: 100%|██████████| 9/9 [00:00<00:00,  9.35it/s, train_loss=0.106, valid_loss=0.175]\n",
      "Epoch: 9/50: 100%|██████████| 9/9 [00:00<00:00,  9.48it/s, train_loss=0.104, valid_loss=0.176]\n",
      "Epoch: 10/50: 100%|██████████| 9/9 [00:00<00:00, 11.13it/s, train_loss=0.108, valid_loss=0.175]\n",
      "Epoch: 11/50: 100%|██████████| 9/9 [00:00<00:00, 10.86it/s, train_loss=0.107, valid_loss=0.174]\n",
      "Epoch: 12/50: 100%|██████████| 9/9 [00:00<00:00,  9.87it/s, train_loss=0.104, valid_loss=0.174]\n",
      "Epoch: 13/50: 100%|██████████| 9/9 [00:00<00:00,  9.98it/s, train_loss=0.105, valid_loss=0.174]\n",
      "Epoch: 14/50: 100%|██████████| 9/9 [00:00<00:00,  9.49it/s, train_loss=0.11, valid_loss=0.174] \n",
      "Epoch: 15/50: 100%|██████████| 9/9 [00:00<00:00,  9.75it/s, train_loss=0.106, valid_loss=0.173]\n",
      "Epoch: 16/50: 100%|██████████| 9/9 [00:00<00:00, 10.83it/s, train_loss=0.111, valid_loss=0.175]\n",
      "Epoch: 17/50: 100%|██████████| 9/9 [00:00<00:00, 11.11it/s, train_loss=0.107, valid_loss=0.174]\n",
      "Epoch: 18/50: 100%|██████████| 9/9 [00:00<00:00, 11.45it/s, train_loss=0.104, valid_loss=0.173]\n",
      "Epoch: 19/50: 100%|██████████| 9/9 [00:00<00:00, 10.96it/s, train_loss=0.107, valid_loss=0.173]\n",
      "Epoch: 20/50: 100%|██████████| 9/9 [00:00<00:00, 11.37it/s, train_loss=0.108, valid_loss=0.176]\n",
      "Epoch: 21/50: 100%|██████████| 9/9 [00:00<00:00,  9.98it/s, train_loss=0.111, valid_loss=0.174]\n",
      "Epoch: 22/50: 100%|██████████| 9/9 [00:00<00:00,  9.82it/s, train_loss=0.108, valid_loss=0.176]\n",
      "Epoch: 23/50: 100%|██████████| 9/9 [00:00<00:00, 10.21it/s, train_loss=0.11, valid_loss=0.174] \n",
      "Epoch: 24/50: 100%|██████████| 9/9 [00:00<00:00,  9.92it/s, train_loss=0.112, valid_loss=0.174]\n",
      "Epoch: 25/50: 100%|██████████| 9/9 [00:00<00:00, 10.84it/s, train_loss=0.11, valid_loss=0.175] \n",
      "Epoch: 26/50: 100%|██████████| 9/9 [00:00<00:00, 10.84it/s, train_loss=0.115, valid_loss=0.175]\n",
      "Epoch: 27/50: 100%|██████████| 9/9 [00:00<00:00, 10.82it/s, train_loss=0.103, valid_loss=0.177]\n",
      "Epoch: 28/50: 100%|██████████| 9/9 [00:00<00:00, 10.90it/s, train_loss=0.107, valid_loss=0.174]\n",
      "Epoch: 29/50: 100%|██████████| 9/9 [00:00<00:00, 10.17it/s, train_loss=0.114, valid_loss=0.174]\n"
     ]
    },
    {
     "name": "stdout",
     "output_type": "stream",
     "text": [
      "cross-validation dataset 0\n"
     ]
    },
    {
     "name": "stderr",
     "output_type": "stream",
     "text": [
      "Epoch: 1/50: 100%|██████████| 9/9 [00:00<00:00,  9.56it/s, train_loss=0.0172, valid_loss=0.0347]\n",
      "Epoch: 2/50: 100%|██████████| 9/9 [00:00<00:00, 10.24it/s, train_loss=0.0103, valid_loss=0.0455]\n",
      "Epoch: 3/50: 100%|██████████| 9/9 [00:01<00:00,  8.88it/s, train_loss=0.00737, valid_loss=0.0228]\n",
      "Epoch: 4/50: 100%|██████████| 9/9 [00:01<00:00,  8.48it/s, train_loss=0.0045, valid_loss=0.0165] \n",
      "Epoch: 5/50: 100%|██████████| 9/9 [00:00<00:00, 10.79it/s, train_loss=0.00316, valid_loss=0.00824]\n",
      "Epoch: 6/50: 100%|██████████| 9/9 [00:01<00:00,  8.81it/s, train_loss=0.00221, valid_loss=0.00668]\n",
      "Epoch: 7/50: 100%|██████████| 9/9 [00:00<00:00,  9.14it/s, train_loss=0.00231, valid_loss=0.014] \n",
      "Epoch: 8/50: 100%|██████████| 9/9 [00:00<00:00,  9.73it/s, train_loss=0.00212, valid_loss=0.00818]\n",
      "Epoch: 9/50: 100%|██████████| 9/9 [00:00<00:00, 10.32it/s, train_loss=0.00192, valid_loss=0.00769]\n",
      "Epoch: 10/50: 100%|██████████| 9/9 [00:00<00:00, 10.94it/s, train_loss=0.00174, valid_loss=0.0111] \n",
      "Epoch: 11/50: 100%|██████████| 9/9 [00:00<00:00, 10.56it/s, train_loss=0.00162, valid_loss=0.0142]\n",
      "Epoch: 12/50: 100%|██████████| 9/9 [00:01<00:00,  8.99it/s, train_loss=0.00146, valid_loss=0.013] \n",
      "Epoch: 13/50: 100%|██████████| 9/9 [00:00<00:00,  9.34it/s, train_loss=0.00147, valid_loss=0.0167]\n",
      "Epoch: 14/50: 100%|██████████| 9/9 [00:01<00:00,  8.17it/s, train_loss=0.00148, valid_loss=0.0126]\n",
      "Epoch: 15/50: 100%|██████████| 9/9 [00:00<00:00, 10.66it/s, train_loss=0.00126, valid_loss=0.0115]\n",
      "Epoch: 16/50: 100%|██████████| 9/9 [00:00<00:00, 10.57it/s, train_loss=0.00128, valid_loss=0.0129]\n",
      "Epoch: 17/50: 100%|██████████| 9/9 [00:00<00:00, 10.34it/s, train_loss=0.00111, valid_loss=0.0113]\n",
      "Epoch: 18/50: 100%|██████████| 9/9 [00:00<00:00, 10.04it/s, train_loss=0.00109, valid_loss=0.0117]\n",
      "Epoch: 19/50: 100%|██████████| 9/9 [00:00<00:00,  9.98it/s, train_loss=0.00115, valid_loss=0.0128] \n",
      "Epoch: 20/50: 100%|██████████| 9/9 [00:00<00:00,  9.25it/s, train_loss=0.000932, valid_loss=0.0142]\n",
      "Epoch: 21/50: 100%|██████████| 9/9 [00:00<00:00,  9.28it/s, train_loss=0.000918, valid_loss=0.0138]\n",
      "Epoch: 22/50: 100%|██████████| 9/9 [00:00<00:00,  9.34it/s, train_loss=0.000975, valid_loss=0.0131]\n",
      "Epoch: 23/50: 100%|██████████| 9/9 [00:00<00:00, 10.68it/s, train_loss=0.000834, valid_loss=0.0137]\n",
      "Epoch: 24/50: 100%|██████████| 9/9 [00:01<00:00,  8.42it/s, train_loss=0.000888, valid_loss=0.0175]\n",
      "Epoch: 25/50: 100%|██████████| 9/9 [00:00<00:00,  9.08it/s, train_loss=0.000853, valid_loss=0.0209]\n",
      "Epoch: 26/50: 100%|██████████| 9/9 [00:00<00:00,  9.83it/s, train_loss=0.000804, valid_loss=0.0182]\n",
      "Epoch: 27/50: 100%|██████████| 9/9 [00:00<00:00,  9.53it/s, train_loss=0.00072, valid_loss=0.0204] \n",
      "Epoch: 28/50: 100%|██████████| 9/9 [00:00<00:00,  9.08it/s, train_loss=0.000721, valid_loss=0.0187]\n",
      "Epoch: 29/50: 100%|██████████| 9/9 [00:00<00:00,  9.43it/s, train_loss=0.000622, valid_loss=0.0182]\n",
      "Epoch: 30/50: 100%|██████████| 9/9 [00:00<00:00,  9.42it/s, train_loss=0.000663, valid_loss=0.0249]\n",
      "Epoch: 31/50: 100%|██████████| 9/9 [00:00<00:00,  9.90it/s, train_loss=0.000601, valid_loss=0.026] \n"
     ]
    },
    {
     "name": "stdout",
     "output_type": "stream",
     "text": [
      "cross-validation dataset 1\n"
     ]
    },
    {
     "name": "stderr",
     "output_type": "stream",
     "text": [
      "Epoch: 1/50: 100%|██████████| 17/17 [00:01<00:00, 10.29it/s, train_loss=0.031, valid_loss=0.0354] \n",
      "Epoch: 2/50: 100%|██████████| 17/17 [00:01<00:00, 10.32it/s, train_loss=0.0209, valid_loss=0.0226]\n",
      "Epoch: 3/50: 100%|██████████| 17/17 [00:01<00:00, 10.10it/s, train_loss=0.00647, valid_loss=0.00624]\n",
      "Epoch: 4/50: 100%|██████████| 17/17 [00:02<00:00,  8.44it/s, train_loss=0.00427, valid_loss=0.00338]\n",
      "Epoch: 5/50: 100%|██████████| 17/17 [00:01<00:00,  9.20it/s, train_loss=0.00358, valid_loss=0.00273]\n",
      "Epoch: 6/50: 100%|██████████| 17/17 [00:01<00:00, 10.09it/s, train_loss=0.00268, valid_loss=0.00228]\n",
      "Epoch: 7/50: 100%|██████████| 17/17 [00:01<00:00,  9.95it/s, train_loss=0.00275, valid_loss=0.00211]\n",
      "Epoch: 8/50: 100%|██████████| 17/17 [00:01<00:00,  9.83it/s, train_loss=0.00222, valid_loss=0.00199]\n",
      "Epoch: 9/50: 100%|██████████| 17/17 [00:01<00:00, 10.11it/s, train_loss=0.00246, valid_loss=0.00188]\n",
      "Epoch: 10/50: 100%|██████████| 17/17 [00:01<00:00,  9.27it/s, train_loss=0.00216, valid_loss=0.00188]\n",
      "Epoch: 11/50: 100%|██████████| 17/17 [00:01<00:00,  8.76it/s, train_loss=0.00204, valid_loss=0.00179]\n",
      "Epoch: 12/50: 100%|██████████| 17/17 [00:01<00:00,  9.57it/s, train_loss=0.00219, valid_loss=0.00183]\n",
      "Epoch: 13/50: 100%|██████████| 17/17 [00:01<00:00, 10.83it/s, train_loss=0.00205, valid_loss=0.00173]\n",
      "Epoch: 14/50: 100%|██████████| 17/17 [00:01<00:00,  8.69it/s, train_loss=0.00232, valid_loss=0.00154]\n",
      "Epoch: 15/50: 100%|██████████| 17/17 [00:02<00:00,  8.18it/s, train_loss=0.00211, valid_loss=0.00161]\n",
      "Epoch: 16/50: 100%|██████████| 17/17 [00:01<00:00,  8.59it/s, train_loss=0.00189, valid_loss=0.00164]\n",
      "Epoch: 17/50: 100%|██████████| 17/17 [00:01<00:00, 10.55it/s, train_loss=0.00174, valid_loss=0.00149]\n",
      "Epoch: 18/50: 100%|██████████| 17/17 [00:01<00:00, 10.40it/s, train_loss=0.00183, valid_loss=0.00141]\n",
      "Epoch: 19/50: 100%|██████████| 17/17 [00:01<00:00,  9.13it/s, train_loss=0.00186, valid_loss=0.00139]\n",
      "Epoch: 20/50: 100%|██████████| 17/17 [00:01<00:00,  9.61it/s, train_loss=0.00166, valid_loss=0.00158]\n",
      "Epoch: 21/50: 100%|██████████| 17/17 [00:01<00:00, 10.39it/s, train_loss=0.00182, valid_loss=0.00151]\n",
      "Epoch: 22/50: 100%|██████████| 17/17 [00:01<00:00, 11.53it/s, train_loss=0.0019, valid_loss=0.00148] \n",
      "Epoch: 23/50: 100%|██████████| 17/17 [00:01<00:00, 10.00it/s, train_loss=0.00145, valid_loss=0.00176]\n",
      "Epoch: 24/50: 100%|██████████| 17/17 [00:01<00:00, 10.13it/s, train_loss=0.00161, valid_loss=0.00143]\n",
      "Epoch: 25/50: 100%|██████████| 17/17 [00:01<00:00, 10.66it/s, train_loss=0.00148, valid_loss=0.00145]\n",
      "Epoch: 26/50: 100%|██████████| 17/17 [00:01<00:00,  9.26it/s, train_loss=0.00144, valid_loss=0.00168]\n",
      "Epoch: 27/50: 100%|██████████| 17/17 [00:01<00:00,  9.67it/s, train_loss=0.00159, valid_loss=0.00179]\n",
      "Epoch: 28/50: 100%|██████████| 17/17 [00:01<00:00, 10.97it/s, train_loss=0.00151, valid_loss=0.00162]\n",
      "Epoch: 29/50: 100%|██████████| 17/17 [00:01<00:00, 10.21it/s, train_loss=0.00125, valid_loss=0.00166]\n",
      "Epoch: 30/50: 100%|██████████| 17/17 [00:01<00:00,  9.05it/s, train_loss=0.00126, valid_loss=0.00223]\n",
      "Epoch: 31/50: 100%|██████████| 17/17 [00:01<00:00,  9.55it/s, train_loss=0.00128, valid_loss=0.00174]\n",
      "Epoch: 32/50: 100%|██████████| 17/17 [00:01<00:00,  9.88it/s, train_loss=0.00136, valid_loss=0.00191]\n"
     ]
    },
    {
     "name": "stdout",
     "output_type": "stream",
     "text": [
      "cross-validation dataset 2\n"
     ]
    },
    {
     "name": "stderr",
     "output_type": "stream",
     "text": [
      "Epoch: 1/50: 100%|██████████| 25/25 [00:02<00:00, 10.05it/s, train_loss=0.148, valid_loss=0.193]\n",
      "Epoch: 2/50: 100%|██████████| 25/25 [00:02<00:00,  9.97it/s, train_loss=0.145, valid_loss=0.194]\n",
      "Epoch: 3/50: 100%|██████████| 25/25 [00:02<00:00, 10.48it/s, train_loss=0.146, valid_loss=0.196]\n",
      "Epoch: 4/50: 100%|██████████| 25/25 [00:02<00:00,  9.70it/s, train_loss=0.143, valid_loss=0.194]\n",
      "Epoch: 5/50: 100%|██████████| 25/25 [00:02<00:00, 11.24it/s, train_loss=0.157, valid_loss=0.194]\n",
      "Epoch: 6/50: 100%|██████████| 25/25 [00:02<00:00, 10.88it/s, train_loss=0.146, valid_loss=0.195]\n",
      "Epoch: 7/50: 100%|██████████| 25/25 [00:02<00:00, 11.07it/s, train_loss=0.155, valid_loss=0.193]\n",
      "Epoch: 8/50: 100%|██████████| 25/25 [00:02<00:00, 10.88it/s, train_loss=0.151, valid_loss=0.195]\n",
      "Epoch: 9/50: 100%|██████████| 25/25 [00:02<00:00,  9.76it/s, train_loss=0.143, valid_loss=0.193]\n",
      "Epoch: 10/50: 100%|██████████| 25/25 [00:02<00:00,  9.43it/s, train_loss=0.15, valid_loss=0.194] \n",
      "Epoch: 11/50: 100%|██████████| 25/25 [00:02<00:00, 10.95it/s, train_loss=0.148, valid_loss=0.196]\n"
     ]
    },
    {
     "name": "stdout",
     "output_type": "stream",
     "text": [
      "cross-validation dataset 2\n"
     ]
    },
    {
     "name": "stderr",
     "output_type": "stream",
     "text": [
      "Epoch: 1/50: 100%|██████████| 25/25 [00:02<00:00, 11.80it/s, train_loss=0.0285, valid_loss=0.0349]\n",
      "Epoch: 2/50: 100%|██████████| 25/25 [00:02<00:00, 10.81it/s, train_loss=0.00873, valid_loss=0.0101]\n",
      "Epoch: 3/50: 100%|██████████| 25/25 [00:02<00:00,  9.79it/s, train_loss=0.00386, valid_loss=0.00504]\n",
      "Epoch: 4/50: 100%|██████████| 25/25 [00:02<00:00, 11.22it/s, train_loss=0.00256, valid_loss=0.00374]\n",
      "Epoch: 5/50: 100%|██████████| 25/25 [00:02<00:00, 10.93it/s, train_loss=0.00235, valid_loss=0.00332]\n",
      "Epoch: 6/50: 100%|██████████| 25/25 [00:02<00:00, 10.83it/s, train_loss=0.00247, valid_loss=0.00373]\n",
      "Epoch: 7/50: 100%|██████████| 25/25 [00:02<00:00,  9.43it/s, train_loss=0.00222, valid_loss=0.00333]\n",
      "Epoch: 8/50: 100%|██████████| 25/25 [00:02<00:00, 10.20it/s, train_loss=0.00212, valid_loss=0.00323]\n",
      "Epoch: 9/50: 100%|██████████| 25/25 [00:02<00:00,  9.92it/s, train_loss=0.00201, valid_loss=0.00328]\n",
      "Epoch: 10/50: 100%|██████████| 25/25 [00:02<00:00, 10.99it/s, train_loss=0.00217, valid_loss=0.00361]\n",
      "Epoch: 11/50: 100%|██████████| 25/25 [00:02<00:00, 10.91it/s, train_loss=0.00202, valid_loss=0.0037] \n",
      "Epoch: 12/50: 100%|██████████| 25/25 [00:02<00:00, 11.25it/s, train_loss=0.0019, valid_loss=0.00337] \n",
      "Epoch: 13/50: 100%|██████████| 25/25 [00:02<00:00, 11.98it/s, train_loss=0.00188, valid_loss=0.00281]\n",
      "Epoch: 14/50: 100%|██████████| 25/25 [00:02<00:00, 11.19it/s, train_loss=0.00172, valid_loss=0.00297]\n",
      "Epoch: 15/50: 100%|██████████| 25/25 [00:02<00:00, 11.09it/s, train_loss=0.00205, valid_loss=0.00354]\n",
      "Epoch: 16/50: 100%|██████████| 25/25 [00:02<00:00, 11.17it/s, train_loss=0.00209, valid_loss=0.00278]\n",
      "Epoch: 17/50: 100%|██████████| 25/25 [00:02<00:00, 10.68it/s, train_loss=0.00171, valid_loss=0.00349]\n",
      "Epoch: 18/50: 100%|██████████| 25/25 [00:02<00:00, 10.55it/s, train_loss=0.00162, valid_loss=0.00319]\n",
      "Epoch: 19/50: 100%|██████████| 25/25 [00:02<00:00, 10.13it/s, train_loss=0.00143, valid_loss=0.00312]\n",
      "Epoch: 20/50: 100%|██████████| 25/25 [00:02<00:00, 11.08it/s, train_loss=0.00153, valid_loss=0.00344]\n",
      "Epoch: 21/50: 100%|██████████| 25/25 [00:02<00:00, 11.04it/s, train_loss=0.00158, valid_loss=0.00322]\n",
      "Epoch: 22/50: 100%|██████████| 25/25 [00:02<00:00, 10.98it/s, train_loss=0.0014, valid_loss=0.00276] \n",
      "Epoch: 23/50: 100%|██████████| 25/25 [00:02<00:00,  8.94it/s, train_loss=0.00126, valid_loss=0.00392]\n",
      "Epoch: 24/50: 100%|██████████| 25/25 [00:02<00:00, 11.76it/s, train_loss=0.00138, valid_loss=0.00358]\n",
      "Epoch: 25/50: 100%|██████████| 25/25 [00:02<00:00, 10.01it/s, train_loss=0.00131, valid_loss=0.00499]\n"
     ]
    },
    {
     "name": "stdout",
     "output_type": "stream",
     "text": [
      "cross-validation dataset 3\n"
     ]
    },
    {
     "name": "stderr",
     "output_type": "stream",
     "text": [
      "Epoch: 1/50: 100%|██████████| 33/33 [00:03<00:00, 10.34it/s, train_loss=0.168, valid_loss=0.191]\n",
      "Epoch: 2/50: 100%|██████████| 33/33 [00:03<00:00, 10.95it/s, train_loss=0.157, valid_loss=0.191]\n",
      "Epoch: 3/50: 100%|██████████| 33/33 [00:03<00:00,  9.89it/s, train_loss=0.157, valid_loss=0.192]\n",
      "Epoch: 4/50: 100%|██████████| 33/33 [00:02<00:00, 11.52it/s, train_loss=0.163, valid_loss=0.189]\n",
      "Epoch: 5/50: 100%|██████████| 33/33 [00:02<00:00, 11.01it/s, train_loss=0.163, valid_loss=0.194]\n",
      "Epoch: 6/50: 100%|██████████| 33/33 [00:03<00:00, 10.15it/s, train_loss=0.152, valid_loss=0.191]\n",
      "Epoch: 7/50: 100%|██████████| 33/33 [00:03<00:00, 10.90it/s, train_loss=0.153, valid_loss=0.192]\n",
      "Epoch: 8/50: 100%|██████████| 33/33 [00:03<00:00, 10.41it/s, train_loss=0.164, valid_loss=0.19] \n",
      "Epoch: 9/50: 100%|██████████| 33/33 [00:03<00:00, 10.91it/s, train_loss=0.169, valid_loss=0.191]\n",
      "Epoch: 10/50: 100%|██████████| 33/33 [00:03<00:00, 10.65it/s, train_loss=0.163, valid_loss=0.19] \n",
      "Epoch: 11/50: 100%|██████████| 33/33 [00:02<00:00, 11.33it/s, train_loss=0.158, valid_loss=0.193]\n",
      "Epoch: 12/50: 100%|██████████| 33/33 [00:03<00:00, 10.85it/s, train_loss=0.159, valid_loss=0.19] \n",
      "Epoch: 13/50: 100%|██████████| 33/33 [00:03<00:00, 10.19it/s, train_loss=0.164, valid_loss=0.191]\n",
      "Epoch: 14/50: 100%|██████████| 33/33 [00:03<00:00, 10.19it/s, train_loss=0.159, valid_loss=0.192]\n",
      "Epoch: 15/50: 100%|██████████| 33/33 [00:03<00:00,  9.89it/s, train_loss=0.168, valid_loss=0.189]\n",
      "Epoch: 16/50: 100%|██████████| 33/33 [00:03<00:00, 10.10it/s, train_loss=0.167, valid_loss=0.19] \n",
      "Epoch: 17/50: 100%|██████████| 33/33 [00:02<00:00, 11.45it/s, train_loss=0.158, valid_loss=0.193]\n",
      "Epoch: 18/50: 100%|██████████| 33/33 [00:03<00:00, 10.36it/s, train_loss=0.16, valid_loss=0.189] \n",
      "Epoch: 19/50: 100%|██████████| 33/33 [00:03<00:00,  9.94it/s, train_loss=0.161, valid_loss=0.19] \n",
      "Epoch: 20/50: 100%|██████████| 33/33 [00:03<00:00, 10.26it/s, train_loss=0.163, valid_loss=0.191]\n",
      "Epoch: 21/50: 100%|██████████| 33/33 [00:03<00:00, 10.93it/s, train_loss=0.151, valid_loss=0.191]\n",
      "Epoch: 22/50: 100%|██████████| 33/33 [00:02<00:00, 11.12it/s, train_loss=0.173, valid_loss=0.191]\n",
      "Epoch: 23/50: 100%|██████████| 33/33 [00:03<00:00,  9.91it/s, train_loss=0.16, valid_loss=0.192] \n",
      "Epoch: 24/50: 100%|██████████| 33/33 [00:03<00:00, 10.55it/s, train_loss=0.162, valid_loss=0.191]\n",
      "Epoch: 25/50: 100%|██████████| 33/33 [00:02<00:00, 11.55it/s, train_loss=0.157, valid_loss=0.19] \n"
     ]
    },
    {
     "name": "stdout",
     "output_type": "stream",
     "text": [
      "cross-validation dataset 3\n"
     ]
    },
    {
     "name": "stderr",
     "output_type": "stream",
     "text": [
      "Epoch: 1/50: 100%|██████████| 33/33 [00:03<00:00,  9.40it/s, train_loss=0.16, valid_loss=0.191] \n",
      "Epoch: 2/50: 100%|██████████| 33/33 [00:03<00:00,  9.49it/s, train_loss=0.156, valid_loss=0.191]\n",
      "Epoch: 3/50: 100%|██████████| 33/33 [00:03<00:00,  9.64it/s, train_loss=0.163, valid_loss=0.193]\n",
      "Epoch: 4/50: 100%|██████████| 33/33 [00:03<00:00, 10.27it/s, train_loss=0.152, valid_loss=0.191]\n",
      "Epoch: 5/50: 100%|██████████| 33/33 [00:03<00:00,  9.51it/s, train_loss=0.16, valid_loss=0.19]  \n",
      "Epoch: 6/50: 100%|██████████| 33/33 [00:03<00:00,  9.75it/s, train_loss=0.166, valid_loss=0.191]\n",
      "Epoch: 7/50: 100%|██████████| 33/33 [00:03<00:00, 10.27it/s, train_loss=0.162, valid_loss=0.192]\n",
      "Epoch: 8/50: 100%|██████████| 33/33 [00:02<00:00, 11.26it/s, train_loss=0.154, valid_loss=0.192]\n",
      "Epoch: 9/50: 100%|██████████| 33/33 [00:03<00:00, 10.39it/s, train_loss=0.158, valid_loss=0.191]\n",
      "Epoch: 10/50: 100%|██████████| 33/33 [00:03<00:00, 10.92it/s, train_loss=0.164, valid_loss=0.189]\n"
     ]
    },
    {
     "name": "stdout",
     "output_type": "stream",
     "text": [
      "cross-validation dataset 3\n"
     ]
    },
    {
     "name": "stderr",
     "output_type": "stream",
     "text": [
      "Epoch: 1/50: 100%|██████████| 33/33 [00:02<00:00, 11.57it/s, train_loss=0.165, valid_loss=0.19] \n",
      "Epoch: 2/50: 100%|██████████| 33/33 [00:03<00:00,  9.59it/s, train_loss=0.154, valid_loss=0.19] \n",
      "Epoch: 3/50: 100%|██████████| 33/33 [00:03<00:00,  9.88it/s, train_loss=0.154, valid_loss=0.192]\n",
      "Epoch: 4/50: 100%|██████████| 33/33 [00:02<00:00, 11.07it/s, train_loss=0.151, valid_loss=0.193]\n",
      "Epoch: 5/50: 100%|██████████| 33/33 [00:02<00:00, 11.27it/s, train_loss=0.161, valid_loss=0.19] \n",
      "Epoch: 6/50: 100%|██████████| 33/33 [00:03<00:00, 10.22it/s, train_loss=0.162, valid_loss=0.191]\n",
      "Epoch: 7/50: 100%|██████████| 33/33 [00:03<00:00, 10.32it/s, train_loss=0.158, valid_loss=0.19] \n",
      "Epoch: 8/50: 100%|██████████| 33/33 [00:03<00:00, 10.52it/s, train_loss=0.163, valid_loss=0.191]\n",
      "Epoch: 9/50: 100%|██████████| 33/33 [00:03<00:00, 10.62it/s, train_loss=0.154, valid_loss=0.19] \n",
      "Epoch: 10/50: 100%|██████████| 33/33 [00:03<00:00,  9.32it/s, train_loss=0.154, valid_loss=0.192]\n",
      "Epoch: 11/50: 100%|██████████| 33/33 [00:03<00:00,  9.83it/s, train_loss=0.162, valid_loss=0.191]\n",
      "Epoch: 12/50: 100%|██████████| 33/33 [00:03<00:00, 10.23it/s, train_loss=0.161, valid_loss=0.189]\n",
      "Epoch: 13/50: 100%|██████████| 33/33 [00:02<00:00, 11.10it/s, train_loss=0.164, valid_loss=0.19] \n",
      "Epoch: 14/50: 100%|██████████| 33/33 [00:02<00:00, 11.49it/s, train_loss=0.156, valid_loss=0.189]\n"
     ]
    },
    {
     "name": "stdout",
     "output_type": "stream",
     "text": [
      "cross-validation dataset 3\n"
     ]
    },
    {
     "name": "stderr",
     "output_type": "stream",
     "text": [
      "Epoch: 1/50: 100%|██████████| 33/33 [00:03<00:00, 10.68it/s, train_loss=0.158, valid_loss=0.191]\n",
      "Epoch: 2/50: 100%|██████████| 33/33 [00:03<00:00, 10.85it/s, train_loss=0.154, valid_loss=0.19] \n",
      "Epoch: 3/50: 100%|██████████| 33/33 [00:03<00:00, 10.31it/s, train_loss=0.159, valid_loss=0.189]\n",
      "Epoch: 4/50: 100%|██████████| 33/33 [00:03<00:00, 10.49it/s, train_loss=0.167, valid_loss=0.19] \n",
      "Epoch: 5/50: 100%|██████████| 33/33 [00:03<00:00, 10.92it/s, train_loss=0.152, valid_loss=0.192]\n",
      "Epoch: 6/50: 100%|██████████| 33/33 [00:03<00:00,  9.83it/s, train_loss=0.156, valid_loss=0.19] \n",
      "Epoch: 7/50: 100%|██████████| 33/33 [00:03<00:00, 10.54it/s, train_loss=0.162, valid_loss=0.19] \n",
      "Epoch: 8/50: 100%|██████████| 33/33 [00:03<00:00,  9.79it/s, train_loss=0.166, valid_loss=0.191]\n",
      "Epoch: 9/50: 100%|██████████| 33/33 [00:03<00:00,  9.02it/s, train_loss=0.161, valid_loss=0.192]\n",
      "Epoch: 10/50: 100%|██████████| 33/33 [00:03<00:00,  9.64it/s, train_loss=0.159, valid_loss=0.191]\n",
      "Epoch: 11/50: 100%|██████████| 33/33 [00:03<00:00, 10.87it/s, train_loss=0.161, valid_loss=0.19] \n",
      "Epoch: 12/50: 100%|██████████| 33/33 [00:02<00:00, 11.14it/s, train_loss=0.16, valid_loss=0.193] \n"
     ]
    },
    {
     "name": "stdout",
     "output_type": "stream",
     "text": [
      "cross-validation dataset 3\n"
     ]
    },
    {
     "name": "stderr",
     "output_type": "stream",
     "text": [
      "Epoch: 1/50: 100%|██████████| 33/33 [00:03<00:00, 10.55it/s, train_loss=0.159, valid_loss=0.191]\n",
      "Epoch: 2/50: 100%|██████████| 33/33 [00:02<00:00, 11.30it/s, train_loss=0.152, valid_loss=0.19] \n",
      "Epoch: 3/50: 100%|██████████| 33/33 [00:02<00:00, 11.47it/s, train_loss=0.159, valid_loss=0.189]\n",
      "Epoch: 4/50: 100%|██████████| 33/33 [00:03<00:00, 10.62it/s, train_loss=0.162, valid_loss=0.19] \n",
      "Epoch: 5/50: 100%|██████████| 33/33 [00:02<00:00, 11.12it/s, train_loss=0.154, valid_loss=0.191]\n",
      "Epoch: 6/50: 100%|██████████| 33/33 [00:03<00:00, 10.24it/s, train_loss=0.161, valid_loss=0.19] \n",
      "Epoch: 7/50: 100%|██████████| 33/33 [00:03<00:00, 10.65it/s, train_loss=0.155, valid_loss=0.192]\n",
      "Epoch: 8/50: 100%|██████████| 33/33 [00:03<00:00,  9.99it/s, train_loss=0.157, valid_loss=0.19] \n",
      "Epoch: 9/50: 100%|██████████| 33/33 [00:03<00:00,  9.23it/s, train_loss=0.168, valid_loss=0.188]\n",
      "Epoch: 10/50: 100%|██████████| 33/33 [00:03<00:00, 10.20it/s, train_loss=0.154, valid_loss=0.188]\n",
      "Epoch: 11/50: 100%|██████████| 33/33 [00:03<00:00, 10.37it/s, train_loss=0.154, valid_loss=0.19] \n",
      "Epoch: 12/50: 100%|██████████| 33/33 [00:03<00:00,  9.89it/s, train_loss=0.156, valid_loss=0.191]\n",
      "Epoch: 13/50: 100%|██████████| 33/33 [00:03<00:00,  9.88it/s, train_loss=0.17, valid_loss=0.19]  \n",
      "Epoch: 14/50: 100%|██████████| 33/33 [00:03<00:00, 10.88it/s, train_loss=0.164, valid_loss=0.192]\n",
      "Epoch: 15/50: 100%|██████████| 33/33 [00:03<00:00, 10.54it/s, train_loss=0.158, valid_loss=0.191]\n",
      "Epoch: 16/50: 100%|██████████| 33/33 [00:03<00:00,  9.67it/s, train_loss=0.16, valid_loss=0.192] \n",
      "Epoch: 17/50: 100%|██████████| 33/33 [00:03<00:00, 10.76it/s, train_loss=0.149, valid_loss=0.189]\n"
     ]
    },
    {
     "name": "stdout",
     "output_type": "stream",
     "text": [
      "cross-validation dataset 3\n"
     ]
    },
    {
     "name": "stderr",
     "output_type": "stream",
     "text": [
      "Epoch: 1/50: 100%|██████████| 33/33 [00:03<00:00,  9.92it/s, train_loss=0.162, valid_loss=0.19] \n",
      "Epoch: 2/50: 100%|██████████| 33/33 [00:03<00:00,  9.96it/s, train_loss=0.17, valid_loss=0.191] \n",
      "Epoch: 3/50: 100%|██████████| 33/33 [00:03<00:00,  9.89it/s, train_loss=0.166, valid_loss=0.191]\n",
      "Epoch: 4/50: 100%|██████████| 33/33 [00:03<00:00, 10.30it/s, train_loss=0.164, valid_loss=0.191]\n",
      "Epoch: 5/50: 100%|██████████| 33/33 [00:03<00:00, 10.16it/s, train_loss=0.165, valid_loss=0.192]\n",
      "Epoch: 6/50: 100%|██████████| 33/33 [00:03<00:00, 10.32it/s, train_loss=0.161, valid_loss=0.19] \n",
      "Epoch: 7/50: 100%|██████████| 33/33 [00:03<00:00, 10.73it/s, train_loss=0.16, valid_loss=0.192] \n",
      "Epoch: 8/50: 100%|██████████| 33/33 [00:02<00:00, 11.31it/s, train_loss=0.161, valid_loss=0.19] \n",
      "Epoch: 9/50: 100%|██████████| 33/33 [00:03<00:00, 10.47it/s, train_loss=0.16, valid_loss=0.19]  \n",
      "Epoch: 10/50: 100%|██████████| 33/33 [00:03<00:00,  9.38it/s, train_loss=0.154, valid_loss=0.19] \n",
      "Epoch: 11/50: 100%|██████████| 33/33 [00:03<00:00, 10.06it/s, train_loss=0.161, valid_loss=0.191]\n",
      "Epoch: 12/50: 100%|██████████| 33/33 [00:03<00:00,  9.73it/s, train_loss=0.161, valid_loss=0.191]\n",
      "Epoch: 13/50: 100%|██████████| 33/33 [00:03<00:00, 10.55it/s, train_loss=0.155, valid_loss=0.191]\n",
      "Epoch: 14/50: 100%|██████████| 33/33 [00:02<00:00, 11.07it/s, train_loss=0.162, valid_loss=0.192]\n",
      "Epoch: 15/50: 100%|██████████| 33/33 [00:03<00:00, 10.77it/s, train_loss=0.161, valid_loss=0.191]\n",
      "Epoch: 16/50: 100%|██████████| 33/33 [00:02<00:00, 11.25it/s, train_loss=0.157, valid_loss=0.193]\n",
      "Epoch: 17/50: 100%|██████████| 33/33 [00:03<00:00, 10.66it/s, train_loss=0.165, valid_loss=0.193]\n",
      "Epoch: 18/50: 100%|██████████| 33/33 [00:03<00:00, 11.00it/s, train_loss=0.157, valid_loss=0.193]\n",
      "Epoch: 19/50: 100%|██████████| 33/33 [00:03<00:00, 10.63it/s, train_loss=0.161, valid_loss=0.192]\n"
     ]
    },
    {
     "name": "stdout",
     "output_type": "stream",
     "text": [
      "cross-validation dataset 3\n"
     ]
    },
    {
     "name": "stderr",
     "output_type": "stream",
     "text": [
      "Epoch: 1/50: 100%|██████████| 33/33 [00:03<00:00, 10.41it/s, train_loss=0.0215, valid_loss=0.0135]\n",
      "Epoch: 2/50: 100%|██████████| 33/33 [00:02<00:00, 11.14it/s, train_loss=0.004, valid_loss=0.00316]  \n",
      "Epoch: 3/50: 100%|██████████| 33/33 [00:02<00:00, 11.46it/s, train_loss=0.00315, valid_loss=0.00225]\n",
      "Epoch: 4/50: 100%|██████████| 33/33 [00:02<00:00, 11.07it/s, train_loss=0.00266, valid_loss=0.00159]\n",
      "Epoch: 5/50: 100%|██████████| 33/33 [00:03<00:00,  9.56it/s, train_loss=0.00275, valid_loss=0.00149]\n",
      "Epoch: 6/50: 100%|██████████| 33/33 [00:03<00:00, 10.06it/s, train_loss=0.00267, valid_loss=0.00146]\n",
      "Epoch: 7/50: 100%|██████████| 33/33 [00:03<00:00, 10.56it/s, train_loss=0.00267, valid_loss=0.0018] \n",
      "Epoch: 8/50: 100%|██████████| 33/33 [00:03<00:00,  9.68it/s, train_loss=0.00222, valid_loss=0.00148]\n",
      "Epoch: 9/50: 100%|██████████| 33/33 [00:03<00:00, 10.62it/s, train_loss=0.00219, valid_loss=0.00108]\n",
      "Epoch: 10/50: 100%|██████████| 33/33 [00:02<00:00, 11.30it/s, train_loss=0.00203, valid_loss=0.00147] \n",
      "Epoch: 11/50: 100%|██████████| 33/33 [00:02<00:00, 11.06it/s, train_loss=0.00187, valid_loss=0.0012]  \n",
      "Epoch: 12/50: 100%|██████████| 33/33 [00:02<00:00, 11.06it/s, train_loss=0.00186, valid_loss=0.000925]\n",
      "Epoch: 13/50: 100%|██████████| 33/33 [00:03<00:00, 10.76it/s, train_loss=0.00169, valid_loss=0.00126] \n",
      "Epoch: 14/50: 100%|██████████| 33/33 [00:02<00:00, 11.07it/s, train_loss=0.00174, valid_loss=0.00125]\n",
      "Epoch: 15/50: 100%|██████████| 33/33 [00:03<00:00, 10.96it/s, train_loss=0.00162, valid_loss=0.00131]\n",
      "Epoch: 16/50: 100%|██████████| 33/33 [00:02<00:00, 11.37it/s, train_loss=0.00164, valid_loss=0.00125] \n",
      "Epoch: 17/50: 100%|██████████| 33/33 [00:03<00:00, 10.30it/s, train_loss=0.00145, valid_loss=0.000967]\n",
      "Epoch: 18/50: 100%|██████████| 33/33 [00:03<00:00, 10.85it/s, train_loss=0.00141, valid_loss=0.00104] \n",
      "Epoch: 19/50: 100%|██████████| 33/33 [00:03<00:00, 10.84it/s, train_loss=0.00146, valid_loss=0.00105]\n",
      "Epoch: 20/50: 100%|██████████| 33/33 [00:03<00:00, 10.28it/s, train_loss=0.00126, valid_loss=0.000928]\n"
     ]
    },
    {
     "name": "stdout",
     "output_type": "stream",
     "text": [
      "cross-validation dataset 4\n"
     ]
    },
    {
     "name": "stderr",
     "output_type": "stream",
     "text": [
      "Epoch: 1/50: 100%|██████████| 42/42 [00:04<00:00, 10.25it/s, train_loss=0.00908, valid_loss=0.0107]\n",
      "Epoch: 2/50: 100%|██████████| 42/42 [00:04<00:00, 10.43it/s, train_loss=0.00299, valid_loss=0.00381]\n",
      "Epoch: 3/50: 100%|██████████| 42/42 [00:03<00:00, 10.76it/s, train_loss=0.00224, valid_loss=0.00365]\n",
      "Epoch: 4/50: 100%|██████████| 42/42 [00:03<00:00, 10.80it/s, train_loss=0.00212, valid_loss=0.00313]\n",
      "Epoch: 5/50: 100%|██████████| 42/42 [00:04<00:00,  9.88it/s, train_loss=0.00235, valid_loss=0.00325]\n",
      "Epoch: 6/50: 100%|██████████| 42/42 [00:03<00:00, 10.66it/s, train_loss=0.00209, valid_loss=0.003]  \n",
      "Epoch: 7/50: 100%|██████████| 42/42 [00:03<00:00, 10.64it/s, train_loss=0.00185, valid_loss=0.00289]\n",
      "Epoch: 8/50: 100%|██████████| 42/42 [00:04<00:00, 10.27it/s, train_loss=0.00174, valid_loss=0.00278]\n",
      "Epoch: 9/50: 100%|██████████| 42/42 [00:04<00:00, 10.07it/s, train_loss=0.00158, valid_loss=0.00283]\n",
      "Epoch: 10/50: 100%|██████████| 42/42 [00:04<00:00, 10.38it/s, train_loss=0.00139, valid_loss=0.00265]\n",
      "Epoch: 11/50: 100%|██████████| 42/42 [00:03<00:00, 10.75it/s, train_loss=0.00144, valid_loss=0.00252]\n",
      "Epoch: 12/50: 100%|██████████| 42/42 [00:04<00:00, 10.06it/s, train_loss=0.00136, valid_loss=0.00245]\n",
      "Epoch: 13/50: 100%|██████████| 42/42 [00:04<00:00, 10.22it/s, train_loss=0.00143, valid_loss=0.00233]\n",
      "Epoch: 14/50: 100%|██████████| 42/42 [00:04<00:00, 10.28it/s, train_loss=0.00135, valid_loss=0.00249]\n",
      "Epoch: 15/50: 100%|██████████| 42/42 [00:04<00:00, 10.46it/s, train_loss=0.00123, valid_loss=0.00251]\n",
      "Epoch: 16/50: 100%|██████████| 42/42 [00:04<00:00, 10.20it/s, train_loss=0.00121, valid_loss=0.00221]\n",
      "Epoch: 17/50: 100%|██████████| 42/42 [00:03<00:00, 10.76it/s, train_loss=0.00117, valid_loss=0.00246]\n",
      "Epoch: 18/50: 100%|██████████| 42/42 [00:04<00:00, 10.00it/s, train_loss=0.0011, valid_loss=0.00264] \n",
      "Epoch: 19/50: 100%|██████████| 42/42 [00:04<00:00,  9.75it/s, train_loss=0.00117, valid_loss=0.00274]\n",
      "Epoch: 20/50: 100%|██████████| 42/42 [00:04<00:00,  9.36it/s, train_loss=0.00104, valid_loss=0.00245] \n",
      "Epoch: 21/50: 100%|██████████| 42/42 [00:03<00:00, 11.24it/s, train_loss=0.00105, valid_loss=0.00242] \n",
      "Epoch: 22/50: 100%|██████████| 42/42 [00:03<00:00, 11.40it/s, train_loss=0.000841, valid_loss=0.00244]\n"
     ]
    },
    {
     "name": "stdout",
     "output_type": "stream",
     "text": [
      "model config: batch_size-512, lr-0.001, number_epoch-50, hidden_dim-150, n_layers-2,drop_prob-0.4,weight_decay-1e-06\n",
      "cross-validation dataset 0\n"
     ]
    },
    {
     "name": "stderr",
     "output_type": "stream",
     "text": [
      "Epoch: 1/50: 100%|██████████| 9/9 [00:00<00:00, 11.63it/s, train_loss=0.108, valid_loss=0.175]\n",
      "Epoch: 2/50: 100%|██████████| 9/9 [00:00<00:00, 10.59it/s, train_loss=0.107, valid_loss=0.174]\n",
      "Epoch: 3/50: 100%|██████████| 9/9 [00:00<00:00, 10.67it/s, train_loss=0.107, valid_loss=0.175]\n",
      "Epoch: 4/50: 100%|██████████| 9/9 [00:00<00:00, 10.46it/s, train_loss=0.108, valid_loss=0.173]\n",
      "Epoch: 5/50: 100%|██████████| 9/9 [00:00<00:00, 11.70it/s, train_loss=0.106, valid_loss=0.177]\n",
      "Epoch: 6/50: 100%|██████████| 9/9 [00:00<00:00,  9.86it/s, train_loss=0.11, valid_loss=0.175] \n",
      "Epoch: 7/50: 100%|██████████| 9/9 [00:00<00:00,  9.33it/s, train_loss=0.11, valid_loss=0.176] \n",
      "Epoch: 8/50: 100%|██████████| 9/9 [00:00<00:00,  9.81it/s, train_loss=0.112, valid_loss=0.175]\n",
      "Epoch: 9/50: 100%|██████████| 9/9 [00:00<00:00, 10.96it/s, train_loss=0.11, valid_loss=0.175] \n",
      "Epoch: 10/50: 100%|██████████| 9/9 [00:00<00:00, 10.60it/s, train_loss=0.108, valid_loss=0.175]\n",
      "Epoch: 11/50: 100%|██████████| 9/9 [00:00<00:00,  9.14it/s, train_loss=0.11, valid_loss=0.175] \n",
      "Epoch: 12/50: 100%|██████████| 9/9 [00:01<00:00,  8.62it/s, train_loss=0.106, valid_loss=0.175]\n",
      "Epoch: 13/50: 100%|██████████| 9/9 [00:00<00:00, 10.74it/s, train_loss=0.104, valid_loss=0.174]\n",
      "Epoch: 14/50: 100%|██████████| 9/9 [00:00<00:00,  9.94it/s, train_loss=0.102, valid_loss=0.174]\n",
      "Epoch: 15/50: 100%|██████████| 9/9 [00:00<00:00, 11.83it/s, train_loss=0.104, valid_loss=0.176]\n",
      "Epoch: 16/50: 100%|██████████| 9/9 [00:00<00:00, 10.25it/s, train_loss=0.106, valid_loss=0.175]\n",
      "Epoch: 17/50: 100%|██████████| 9/9 [00:00<00:00, 10.69it/s, train_loss=0.105, valid_loss=0.176]\n",
      "Epoch: 18/50: 100%|██████████| 9/9 [00:00<00:00, 10.78it/s, train_loss=0.111, valid_loss=0.176]\n",
      "Epoch: 19/50: 100%|██████████| 9/9 [00:00<00:00, 10.09it/s, train_loss=0.106, valid_loss=0.175]\n",
      "Epoch: 20/50: 100%|██████████| 9/9 [00:00<00:00,  9.80it/s, train_loss=0.109, valid_loss=0.175]\n",
      "Epoch: 21/50: 100%|██████████| 9/9 [00:00<00:00,  9.67it/s, train_loss=0.103, valid_loss=0.175]\n",
      "Epoch: 22/50: 100%|██████████| 9/9 [00:00<00:00,  9.32it/s, train_loss=0.107, valid_loss=0.176]\n",
      "Epoch: 23/50: 100%|██████████| 9/9 [00:00<00:00, 10.22it/s, train_loss=0.106, valid_loss=0.174]\n",
      "Epoch: 24/50: 100%|██████████| 9/9 [00:00<00:00, 10.37it/s, train_loss=0.113, valid_loss=0.175]\n",
      "Epoch: 25/50: 100%|██████████| 9/9 [00:00<00:00,  9.43it/s, train_loss=0.106, valid_loss=0.175]\n",
      "Epoch: 26/50: 100%|██████████| 9/9 [00:00<00:00, 10.43it/s, train_loss=0.111, valid_loss=0.175]\n",
      "Epoch: 27/50: 100%|██████████| 9/9 [00:00<00:00,  9.03it/s, train_loss=0.11, valid_loss=0.177] \n",
      "Epoch: 28/50: 100%|██████████| 9/9 [00:00<00:00, 11.16it/s, train_loss=0.105, valid_loss=0.176]\n",
      "Epoch: 29/50: 100%|██████████| 9/9 [00:00<00:00, 10.51it/s, train_loss=0.106, valid_loss=0.175]\n"
     ]
    },
    {
     "name": "stdout",
     "output_type": "stream",
     "text": [
      "cross-validation dataset 0\n"
     ]
    },
    {
     "name": "stderr",
     "output_type": "stream",
     "text": [
      "Epoch: 1/50: 100%|██████████| 9/9 [00:00<00:00, 10.68it/s, train_loss=0.0215, valid_loss=0.0309]\n",
      "Epoch: 2/50: 100%|██████████| 9/9 [00:00<00:00, 10.87it/s, train_loss=0.014, valid_loss=0.0372] \n",
      "Epoch: 3/50: 100%|██████████| 9/9 [00:00<00:00, 10.64it/s, train_loss=0.0118, valid_loss=0.0469]\n",
      "Epoch: 4/50: 100%|██████████| 9/9 [00:00<00:00, 10.35it/s, train_loss=0.00851, valid_loss=0.0589]\n",
      "Epoch: 5/50: 100%|██████████| 9/9 [00:00<00:00, 10.60it/s, train_loss=0.00557, valid_loss=0.0252]\n",
      "Epoch: 6/50: 100%|██████████| 9/9 [00:00<00:00, 10.77it/s, train_loss=0.00428, valid_loss=0.0126]\n",
      "Epoch: 7/50: 100%|██████████| 9/9 [00:00<00:00, 11.38it/s, train_loss=0.0033, valid_loss=0.0102] \n",
      "Epoch: 8/50: 100%|██████████| 9/9 [00:00<00:00, 13.96it/s, train_loss=0.00262, valid_loss=0.00615]\n",
      "Epoch: 9/50: 100%|██████████| 9/9 [00:00<00:00,  9.74it/s, train_loss=0.0024, valid_loss=0.00723] \n",
      "Epoch: 10/50: 100%|██████████| 9/9 [00:00<00:00,  9.35it/s, train_loss=0.00228, valid_loss=0.00915]\n",
      "Epoch: 11/50: 100%|██████████| 9/9 [00:00<00:00, 10.59it/s, train_loss=0.00214, valid_loss=0.00988]\n",
      "Epoch: 12/50: 100%|██████████| 9/9 [00:00<00:00, 10.42it/s, train_loss=0.00191, valid_loss=0.00833]\n",
      "Epoch: 13/50: 100%|██████████| 9/9 [00:00<00:00, 10.70it/s, train_loss=0.00194, valid_loss=0.00807]\n",
      "Epoch: 14/50: 100%|██████████| 9/9 [00:00<00:00, 10.83it/s, train_loss=0.00182, valid_loss=0.00814]\n",
      "Epoch: 15/50: 100%|██████████| 9/9 [00:00<00:00, 10.73it/s, train_loss=0.00182, valid_loss=0.00747]\n",
      "Epoch: 16/50: 100%|██████████| 9/9 [00:00<00:00, 11.09it/s, train_loss=0.00161, valid_loss=0.00776]\n",
      "Epoch: 17/50: 100%|██████████| 9/9 [00:00<00:00, 10.44it/s, train_loss=0.00174, valid_loss=0.00844]\n",
      "Epoch: 18/50: 100%|██████████| 9/9 [00:00<00:00, 10.59it/s, train_loss=0.00177, valid_loss=0.00994]\n",
      "Epoch: 19/50: 100%|██████████| 9/9 [00:00<00:00, 10.57it/s, train_loss=0.00172, valid_loss=0.012] \n",
      "Epoch: 20/50: 100%|██████████| 9/9 [00:00<00:00,  9.59it/s, train_loss=0.0015, valid_loss=0.00933]\n",
      "Epoch: 21/50: 100%|██████████| 9/9 [00:00<00:00,  9.30it/s, train_loss=0.00147, valid_loss=0.0105]\n",
      "Epoch: 22/50: 100%|██████████| 9/9 [00:00<00:00,  9.11it/s, train_loss=0.00141, valid_loss=0.0153]\n",
      "Epoch: 23/50: 100%|██████████| 9/9 [00:01<00:00,  8.54it/s, train_loss=0.00141, valid_loss=0.0128]\n",
      "Epoch: 24/50: 100%|██████████| 9/9 [00:00<00:00, 10.67it/s, train_loss=0.00135, valid_loss=0.014] \n",
      "Epoch: 25/50: 100%|██████████| 9/9 [00:00<00:00, 10.65it/s, train_loss=0.00131, valid_loss=0.0136]\n",
      "Epoch: 26/50: 100%|██████████| 9/9 [00:00<00:00,  9.88it/s, train_loss=0.00134, valid_loss=0.0193]\n",
      "Epoch: 27/50: 100%|██████████| 9/9 [00:00<00:00, 10.55it/s, train_loss=0.00131, valid_loss=0.0222]\n",
      "Epoch: 28/50: 100%|██████████| 9/9 [00:00<00:00, 11.08it/s, train_loss=0.00128, valid_loss=0.0274]\n",
      "Epoch: 29/50: 100%|██████████| 9/9 [00:00<00:00,  9.59it/s, train_loss=0.0012, valid_loss=0.0315] \n",
      "Epoch: 30/50: 100%|██████████| 9/9 [00:00<00:00, 10.77it/s, train_loss=0.00115, valid_loss=0.0275]\n",
      "Epoch: 31/50: 100%|██████████| 9/9 [00:00<00:00, 10.85it/s, train_loss=0.00126, valid_loss=0.0402]\n",
      "Epoch: 32/50: 100%|██████████| 9/9 [00:00<00:00, 12.41it/s, train_loss=0.00114, valid_loss=0.0685]\n",
      "Epoch: 33/50: 100%|██████████| 9/9 [00:00<00:00, 11.08it/s, train_loss=0.00118, valid_loss=0.052] \n"
     ]
    },
    {
     "name": "stdout",
     "output_type": "stream",
     "text": [
      "cross-validation dataset 1\n"
     ]
    },
    {
     "name": "stderr",
     "output_type": "stream",
     "text": [
      "Epoch: 1/50: 100%|██████████| 17/17 [00:01<00:00,  9.99it/s, train_loss=0.0238, valid_loss=0.0272]\n",
      "Epoch: 2/50: 100%|██████████| 17/17 [00:01<00:00, 10.54it/s, train_loss=0.0181, valid_loss=0.0207]\n",
      "Epoch: 3/50: 100%|██████████| 17/17 [00:01<00:00, 10.08it/s, train_loss=0.0067, valid_loss=0.00563] \n",
      "Epoch: 4/50: 100%|██████████| 17/17 [00:01<00:00,  8.95it/s, train_loss=0.00487, valid_loss=0.00437]\n",
      "Epoch: 5/50: 100%|██████████| 17/17 [00:01<00:00, 10.25it/s, train_loss=0.00363, valid_loss=0.00322]\n",
      "Epoch: 6/50: 100%|██████████| 17/17 [00:01<00:00,  9.45it/s, train_loss=0.00328, valid_loss=0.00273]\n",
      "Epoch: 7/50: 100%|██████████| 17/17 [00:01<00:00, 10.38it/s, train_loss=0.00323, valid_loss=0.00248]\n",
      "Epoch: 8/50: 100%|██████████| 17/17 [00:01<00:00, 10.72it/s, train_loss=0.00298, valid_loss=0.00231]\n",
      "Epoch: 9/50: 100%|██████████| 17/17 [00:01<00:00,  9.97it/s, train_loss=0.00269, valid_loss=0.00214]\n",
      "Epoch: 10/50: 100%|██████████| 17/17 [00:01<00:00,  9.65it/s, train_loss=0.00258, valid_loss=0.00232]\n",
      "Epoch: 11/50: 100%|██████████| 17/17 [00:01<00:00,  9.16it/s, train_loss=0.00253, valid_loss=0.00208]\n",
      "Epoch: 12/50: 100%|██████████| 17/17 [00:01<00:00,  8.75it/s, train_loss=0.00259, valid_loss=0.00196]\n",
      "Epoch: 13/50: 100%|██████████| 17/17 [00:01<00:00,  8.75it/s, train_loss=0.00244, valid_loss=0.00195]\n",
      "Epoch: 14/50: 100%|██████████| 17/17 [00:01<00:00,  8.85it/s, train_loss=0.00232, valid_loss=0.00178]\n",
      "Epoch: 15/50: 100%|██████████| 17/17 [00:01<00:00,  9.86it/s, train_loss=0.00214, valid_loss=0.00171]\n",
      "Epoch: 16/50: 100%|██████████| 17/17 [00:01<00:00,  9.40it/s, train_loss=0.00222, valid_loss=0.00166]\n",
      "Epoch: 17/50: 100%|██████████| 17/17 [00:01<00:00,  9.64it/s, train_loss=0.00221, valid_loss=0.00171]\n",
      "Epoch: 18/50: 100%|██████████| 17/17 [00:01<00:00, 10.13it/s, train_loss=0.00194, valid_loss=0.00164]\n",
      "Epoch: 19/50: 100%|██████████| 17/17 [00:01<00:00,  9.28it/s, train_loss=0.00236, valid_loss=0.00164]\n",
      "Epoch: 20/50: 100%|██████████| 17/17 [00:01<00:00,  8.63it/s, train_loss=0.00243, valid_loss=0.0016] \n",
      "Epoch: 21/50: 100%|██████████| 17/17 [00:01<00:00,  8.72it/s, train_loss=0.0021, valid_loss=0.00155] \n",
      "Epoch: 22/50: 100%|██████████| 17/17 [00:01<00:00,  8.94it/s, train_loss=0.00197, valid_loss=0.00161]\n",
      "Epoch: 23/50: 100%|██████████| 17/17 [00:01<00:00,  9.86it/s, train_loss=0.00166, valid_loss=0.00161]\n",
      "Epoch: 24/50: 100%|██████████| 17/17 [00:01<00:00,  8.99it/s, train_loss=0.00192, valid_loss=0.00165]\n",
      "Epoch: 25/50: 100%|██████████| 17/17 [00:01<00:00, 10.90it/s, train_loss=0.00149, valid_loss=0.00157]\n",
      "Epoch: 26/50: 100%|██████████| 17/17 [00:01<00:00, 10.02it/s, train_loss=0.00165, valid_loss=0.00158]\n",
      "Epoch: 27/50: 100%|██████████| 17/17 [00:01<00:00,  9.11it/s, train_loss=0.00186, valid_loss=0.00157]\n",
      "Epoch: 28/50: 100%|██████████| 17/17 [00:01<00:00, 10.18it/s, train_loss=0.00158, valid_loss=0.0015] \n",
      "Epoch: 29/50: 100%|██████████| 17/17 [00:01<00:00, 10.68it/s, train_loss=0.00155, valid_loss=0.00155]\n",
      "Epoch: 30/50: 100%|██████████| 17/17 [00:01<00:00, 10.71it/s, train_loss=0.0016, valid_loss=0.00151] \n",
      "Epoch: 31/50: 100%|██████████| 17/17 [00:01<00:00,  9.63it/s, train_loss=0.00163, valid_loss=0.00156]\n",
      "Epoch: 32/50: 100%|██████████| 17/17 [00:01<00:00, 10.46it/s, train_loss=0.00188, valid_loss=0.00157]\n",
      "Epoch: 33/50: 100%|██████████| 17/17 [00:01<00:00,  9.61it/s, train_loss=0.00163, valid_loss=0.00148]\n",
      "Epoch: 34/50: 100%|██████████| 17/17 [00:01<00:00, 10.13it/s, train_loss=0.00165, valid_loss=0.00151]\n",
      "Epoch: 35/50: 100%|██████████| 17/17 [00:01<00:00,  9.86it/s, train_loss=0.00139, valid_loss=0.0015] \n",
      "Epoch: 36/50: 100%|██████████| 17/17 [00:01<00:00, 10.32it/s, train_loss=0.00136, valid_loss=0.00155]\n",
      "Epoch: 37/50: 100%|██████████| 17/17 [00:01<00:00,  9.85it/s, train_loss=0.00139, valid_loss=0.00153]\n",
      "Epoch: 38/50: 100%|██████████| 17/17 [00:01<00:00,  9.58it/s, train_loss=0.00133, valid_loss=0.0016] \n",
      "Epoch: 39/50: 100%|██████████| 17/17 [00:01<00:00,  9.60it/s, train_loss=0.00136, valid_loss=0.0015] \n",
      "Epoch: 40/50: 100%|██████████| 17/17 [00:01<00:00,  9.99it/s, train_loss=0.00132, valid_loss=0.00149]\n",
      "Epoch: 41/50: 100%|██████████| 17/17 [00:01<00:00,  8.96it/s, train_loss=0.00129, valid_loss=0.00149]\n",
      "Epoch: 42/50: 100%|██████████| 17/17 [00:01<00:00, 11.30it/s, train_loss=0.00126, valid_loss=0.00156]\n",
      "Epoch: 43/50: 100%|██████████| 17/17 [00:01<00:00, 10.36it/s, train_loss=0.00119, valid_loss=0.00163]\n",
      "Epoch: 44/50: 100%|██████████| 17/17 [00:01<00:00,  9.95it/s, train_loss=0.00136, valid_loss=0.00155]\n",
      "Epoch: 45/50: 100%|██████████| 17/17 [00:01<00:00,  9.77it/s, train_loss=0.00109, valid_loss=0.00154]\n",
      "Epoch: 46/50: 100%|██████████| 17/17 [00:01<00:00, 10.10it/s, train_loss=0.00109, valid_loss=0.00161]\n",
      "Epoch: 47/50: 100%|██████████| 17/17 [00:02<00:00,  8.49it/s, train_loss=0.00108, valid_loss=0.0016]\n"
     ]
    },
    {
     "name": "stdout",
     "output_type": "stream",
     "text": [
      "cross-validation dataset 2\n"
     ]
    },
    {
     "name": "stderr",
     "output_type": "stream",
     "text": [
      "Epoch: 1/50: 100%|██████████| 25/25 [00:02<00:00,  9.70it/s, train_loss=0.0227, valid_loss=0.0312]\n",
      "Epoch: 2/50: 100%|██████████| 25/25 [00:02<00:00, 11.21it/s, train_loss=0.00577, valid_loss=0.00949]\n",
      "Epoch: 3/50: 100%|██████████| 25/25 [00:02<00:00, 10.35it/s, train_loss=0.00398, valid_loss=0.00502]\n",
      "Epoch: 4/50: 100%|██████████| 25/25 [00:01<00:00, 13.02it/s, train_loss=0.00285, valid_loss=0.00407]\n",
      "Epoch: 5/50: 100%|██████████| 25/25 [00:02<00:00, 10.07it/s, train_loss=0.00251, valid_loss=0.0037] \n",
      "Epoch: 6/50: 100%|██████████| 25/25 [00:02<00:00, 11.18it/s, train_loss=0.00242, valid_loss=0.0035]\n",
      "Epoch: 7/50: 100%|██████████| 25/25 [00:02<00:00, 10.58it/s, train_loss=0.00224, valid_loss=0.00333]\n",
      "Epoch: 8/50: 100%|██████████| 25/25 [00:02<00:00, 10.80it/s, train_loss=0.00226, valid_loss=0.00365]\n",
      "Epoch: 9/50: 100%|██████████| 25/25 [00:02<00:00, 10.06it/s, train_loss=0.00217, valid_loss=0.00361]\n",
      "Epoch: 10/50: 100%|██████████| 25/25 [00:02<00:00,  9.96it/s, train_loss=0.00234, valid_loss=0.00354]\n",
      "Epoch: 11/50: 100%|██████████| 25/25 [00:02<00:00, 10.68it/s, train_loss=0.00192, valid_loss=0.00337]\n",
      "Epoch: 12/50: 100%|██████████| 25/25 [00:02<00:00, 10.28it/s, train_loss=0.00195, valid_loss=0.00322]\n",
      "Epoch: 13/50: 100%|██████████| 25/25 [00:02<00:00,  8.77it/s, train_loss=0.00186, valid_loss=0.00295]\n",
      "Epoch: 14/50: 100%|██████████| 25/25 [00:02<00:00,  9.94it/s, train_loss=0.00194, valid_loss=0.00329]\n",
      "Epoch: 15/50: 100%|██████████| 25/25 [00:02<00:00, 10.83it/s, train_loss=0.00185, valid_loss=0.00301]\n",
      "Epoch: 16/50: 100%|██████████| 25/25 [00:02<00:00, 10.82it/s, train_loss=0.00157, valid_loss=0.00285]\n",
      "Epoch: 17/50: 100%|██████████| 25/25 [00:02<00:00, 10.27it/s, train_loss=0.00147, valid_loss=0.00276]\n",
      "Epoch: 18/50: 100%|██████████| 25/25 [00:02<00:00, 10.35it/s, train_loss=0.00159, valid_loss=0.0027] \n",
      "Epoch: 19/50: 100%|██████████| 25/25 [00:02<00:00, 10.83it/s, train_loss=0.00158, valid_loss=0.00269]\n",
      "Epoch: 20/50: 100%|██████████| 25/25 [00:02<00:00, 10.64it/s, train_loss=0.00148, valid_loss=0.00266]\n",
      "Epoch: 21/50: 100%|██████████| 25/25 [00:02<00:00, 10.34it/s, train_loss=0.00161, valid_loss=0.00307]\n",
      "Epoch: 22/50: 100%|██████████| 25/25 [00:02<00:00, 11.12it/s, train_loss=0.00169, valid_loss=0.00288]\n",
      "Epoch: 23/50: 100%|██████████| 25/25 [00:02<00:00, 10.79it/s, train_loss=0.00129, valid_loss=0.00279]\n",
      "Epoch: 24/50: 100%|██████████| 25/25 [00:02<00:00, 11.63it/s, train_loss=0.00142, valid_loss=0.00294]\n",
      "Epoch: 25/50: 100%|██████████| 25/25 [00:02<00:00,  8.72it/s, train_loss=0.00144, valid_loss=0.00297]\n",
      "Epoch: 26/50: 100%|██████████| 25/25 [00:02<00:00, 10.31it/s, train_loss=0.00121, valid_loss=0.00322]\n",
      "Epoch: 27/50: 100%|██████████| 25/25 [00:02<00:00, 10.72it/s, train_loss=0.0012, valid_loss=0.00332] \n",
      "Epoch: 28/50: 100%|██████████| 25/25 [00:02<00:00, 10.96it/s, train_loss=0.00123, valid_loss=0.00319]\n",
      "Epoch: 29/50: 100%|██████████| 25/25 [00:02<00:00, 10.15it/s, train_loss=0.00115, valid_loss=0.00396]\n",
      "Epoch: 30/50: 100%|██████████| 25/25 [00:02<00:00, 10.74it/s, train_loss=0.00114, valid_loss=0.00396]\n",
      "Epoch: 31/50: 100%|██████████| 25/25 [00:02<00:00, 10.08it/s, train_loss=0.00117, valid_loss=0.00398]\n",
      "Epoch: 32/50: 100%|██████████| 25/25 [00:02<00:00,  9.37it/s, train_loss=0.00101, valid_loss=0.00385]\n"
     ]
    },
    {
     "name": "stdout",
     "output_type": "stream",
     "text": [
      "cross-validation dataset 3\n"
     ]
    },
    {
     "name": "stderr",
     "output_type": "stream",
     "text": [
      "Epoch: 1/50: 100%|██████████| 33/33 [00:03<00:00, 10.73it/s, train_loss=0.0227, valid_loss=0.0254]\n",
      "Epoch: 2/50: 100%|██████████| 33/33 [00:03<00:00, 10.07it/s, train_loss=0.00518, valid_loss=0.00457]\n",
      "Epoch: 3/50: 100%|██████████| 33/33 [00:03<00:00,  9.98it/s, train_loss=0.00334, valid_loss=0.00291]\n",
      "Epoch: 4/50: 100%|██████████| 33/33 [00:03<00:00,  9.54it/s, train_loss=0.00272, valid_loss=0.00185]\n",
      "Epoch: 5/50: 100%|██████████| 33/33 [00:03<00:00, 10.44it/s, train_loss=0.00321, valid_loss=0.00171]\n",
      "Epoch: 6/50: 100%|██████████| 33/33 [00:03<00:00, 10.04it/s, train_loss=0.00246, valid_loss=0.00161]\n",
      "Epoch: 7/50: 100%|██████████| 33/33 [00:03<00:00, 10.35it/s, train_loss=0.00236, valid_loss=0.00164]\n",
      "Epoch: 8/50: 100%|██████████| 33/33 [00:03<00:00, 10.55it/s, train_loss=0.00225, valid_loss=0.00135]\n",
      "Epoch: 9/50: 100%|██████████| 33/33 [00:03<00:00, 10.76it/s, train_loss=0.00226, valid_loss=0.00123]\n",
      "Epoch: 10/50: 100%|██████████| 33/33 [00:03<00:00, 10.14it/s, train_loss=0.00228, valid_loss=0.00122]\n",
      "Epoch: 11/50: 100%|██████████| 33/33 [00:03<00:00, 10.09it/s, train_loss=0.00188, valid_loss=0.00115]\n",
      "Epoch: 12/50: 100%|██████████| 33/33 [00:03<00:00, 10.06it/s, train_loss=0.00172, valid_loss=0.00136]\n",
      "Epoch: 13/50: 100%|██████████| 33/33 [00:03<00:00, 10.74it/s, train_loss=0.0019, valid_loss=0.00111] \n",
      "Epoch: 14/50: 100%|██████████| 33/33 [00:03<00:00, 10.30it/s, train_loss=0.0019, valid_loss=0.00116] \n",
      "Epoch: 15/50: 100%|██████████| 33/33 [00:03<00:00, 10.47it/s, train_loss=0.00165, valid_loss=0.00132]\n",
      "Epoch: 16/50: 100%|██████████| 33/33 [00:03<00:00, 10.53it/s, train_loss=0.00172, valid_loss=0.00107]\n",
      "Epoch: 17/50: 100%|██████████| 33/33 [00:03<00:00, 10.45it/s, train_loss=0.00176, valid_loss=0.00106]\n",
      "Epoch: 18/50: 100%|██████████| 33/33 [00:03<00:00,  9.70it/s, train_loss=0.00156, valid_loss=0.00105]\n",
      "Epoch: 19/50: 100%|██████████| 33/33 [00:02<00:00, 11.00it/s, train_loss=0.00154, valid_loss=0.00107]\n",
      "Epoch: 20/50: 100%|██████████| 33/33 [00:03<00:00,  9.37it/s, train_loss=0.00158, valid_loss=0.00108] \n",
      "Epoch: 21/50: 100%|██████████| 33/33 [00:03<00:00, 10.13it/s, train_loss=0.0014, valid_loss=0.000997] \n",
      "Epoch: 22/50: 100%|██████████| 33/33 [00:02<00:00, 11.83it/s, train_loss=0.00154, valid_loss=0.000981]\n",
      "Epoch: 23/50: 100%|██████████| 33/33 [00:02<00:00, 11.26it/s, train_loss=0.00125, valid_loss=0.001]  \n",
      "Epoch: 24/50: 100%|██████████| 33/33 [00:03<00:00, 10.72it/s, train_loss=0.00126, valid_loss=0.00106] \n",
      "Epoch: 25/50: 100%|██████████| 33/33 [00:03<00:00,  9.93it/s, train_loss=0.00126, valid_loss=0.00103] \n",
      "Epoch: 26/50: 100%|██████████| 33/33 [00:03<00:00, 10.40it/s, train_loss=0.00122, valid_loss=0.00102]\n",
      "Epoch: 27/50: 100%|██████████| 33/33 [00:03<00:00,  9.61it/s, train_loss=0.00113, valid_loss=0.00103] \n",
      "Epoch: 28/50: 100%|██████████| 33/33 [00:03<00:00,  9.85it/s, train_loss=0.00115, valid_loss=0.000985]\n",
      "Epoch: 29/50: 100%|██████████| 33/33 [00:03<00:00,  9.89it/s, train_loss=0.00103, valid_loss=0.00105]\n",
      "Epoch: 30/50: 100%|██████████| 33/33 [00:03<00:00,  9.54it/s, train_loss=0.00131, valid_loss=0.0011] \n",
      "Epoch: 31/50: 100%|██████████| 33/33 [00:03<00:00, 10.52it/s, train_loss=0.0011, valid_loss=0.00102]  \n",
      "Epoch: 32/50: 100%|██████████| 33/33 [00:03<00:00, 10.80it/s, train_loss=0.00108, valid_loss=0.00101] \n",
      "Epoch: 33/50: 100%|██████████| 33/33 [00:03<00:00, 10.65it/s, train_loss=0.00101, valid_loss=0.00104]\n",
      "Epoch: 34/50: 100%|██████████| 33/33 [00:03<00:00, 10.75it/s, train_loss=0.00115, valid_loss=0.00103] \n"
     ]
    },
    {
     "name": "stdout",
     "output_type": "stream",
     "text": [
      "cross-validation dataset 4\n"
     ]
    },
    {
     "name": "stderr",
     "output_type": "stream",
     "text": [
      "Epoch: 1/50: 100%|██████████| 42/42 [00:04<00:00,  9.09it/s, train_loss=0.0117, valid_loss=0.0131]\n",
      "Epoch: 2/50: 100%|██████████| 42/42 [00:04<00:00,  9.29it/s, train_loss=0.00353, valid_loss=0.00493]\n",
      "Epoch: 3/50: 100%|██████████| 42/42 [00:04<00:00,  9.63it/s, train_loss=0.00264, valid_loss=0.00368]\n",
      "Epoch: 4/50: 100%|██████████| 42/42 [00:04<00:00, 10.24it/s, train_loss=0.00262, valid_loss=0.00332]\n",
      "Epoch: 5/50: 100%|██████████| 42/42 [00:04<00:00, 10.48it/s, train_loss=0.00232, valid_loss=0.00329]\n",
      "Epoch: 6/50: 100%|██████████| 42/42 [00:04<00:00, 10.45it/s, train_loss=0.00228, valid_loss=0.00318]\n",
      "Epoch: 7/50: 100%|██████████| 42/42 [00:03<00:00, 11.19it/s, train_loss=0.00213, valid_loss=0.00302]\n",
      "Epoch: 8/50: 100%|██████████| 42/42 [00:04<00:00,  9.83it/s, train_loss=0.00195, valid_loss=0.0031] \n",
      "Epoch: 9/50: 100%|██████████| 42/42 [00:03<00:00, 10.70it/s, train_loss=0.00199, valid_loss=0.00307]\n",
      "Epoch: 10/50: 100%|██████████| 42/42 [00:03<00:00, 11.42it/s, train_loss=0.00176, valid_loss=0.00315]\n",
      "Epoch: 11/50: 100%|██████████| 42/42 [00:04<00:00, 10.42it/s, train_loss=0.00151, valid_loss=0.0028] \n",
      "Epoch: 12/50: 100%|██████████| 42/42 [00:04<00:00, 10.04it/s, train_loss=0.00163, valid_loss=0.00267]\n",
      "Epoch: 13/50: 100%|██████████| 42/42 [00:04<00:00, 10.45it/s, train_loss=0.00152, valid_loss=0.00273]\n",
      "Epoch: 14/50: 100%|██████████| 42/42 [00:04<00:00, 10.03it/s, train_loss=0.00158, valid_loss=0.00296]\n",
      "Epoch: 15/50: 100%|██████████| 42/42 [00:03<00:00, 10.58it/s, train_loss=0.00134, valid_loss=0.00322]\n",
      "Epoch: 16/50: 100%|██████████| 42/42 [00:03<00:00, 11.36it/s, train_loss=0.00141, valid_loss=0.00252]\n",
      "Epoch: 17/50: 100%|██████████| 42/42 [00:03<00:00, 11.50it/s, train_loss=0.00126, valid_loss=0.00242]\n",
      "Epoch: 18/50: 100%|██████████| 42/42 [00:03<00:00, 11.12it/s, train_loss=0.00132, valid_loss=0.00246]\n",
      "Epoch: 19/50: 100%|██████████| 42/42 [00:03<00:00, 11.41it/s, train_loss=0.00114, valid_loss=0.00254]\n",
      "Epoch: 20/50: 100%|██████████| 42/42 [00:03<00:00, 10.67it/s, train_loss=0.0012, valid_loss=0.00254] \n",
      "Epoch: 21/50: 100%|██████████| 42/42 [00:04<00:00, 10.12it/s, train_loss=0.00114, valid_loss=0.00267]\n",
      "Epoch: 22/50: 100%|██████████| 42/42 [00:03<00:00, 10.65it/s, train_loss=0.00118, valid_loss=0.00249]\n",
      "Epoch: 23/50: 100%|██████████| 42/42 [00:03<00:00, 10.99it/s, train_loss=0.00104, valid_loss=0.00263]\n"
     ]
    },
    {
     "name": "stdout",
     "output_type": "stream",
     "text": [
      "model config: batch_size-512, lr-0.001, number_epoch-50, hidden_dim-150, n_layers-3,drop_prob-0.4,weight_decay-1e-06\n",
      "cross-validation dataset 0\n"
     ]
    },
    {
     "name": "stderr",
     "output_type": "stream",
     "text": [
      "Epoch: 1/50: 100%|██████████| 9/9 [00:01<00:00,  7.80it/s, train_loss=0.108, valid_loss=0.174]\n",
      "Epoch: 2/50: 100%|██████████| 9/9 [00:01<00:00,  7.65it/s, train_loss=0.106, valid_loss=0.175]\n",
      "Epoch: 3/50: 100%|██████████| 9/9 [00:01<00:00,  7.45it/s, train_loss=0.11, valid_loss=0.175] \n",
      "Epoch: 4/50: 100%|██████████| 9/9 [00:01<00:00,  7.16it/s, train_loss=0.11, valid_loss=0.174] \n",
      "Epoch: 5/50: 100%|██████████| 9/9 [00:01<00:00,  7.68it/s, train_loss=0.107, valid_loss=0.176]\n",
      "Epoch: 6/50: 100%|██████████| 9/9 [00:01<00:00,  7.55it/s, train_loss=0.104, valid_loss=0.174]\n",
      "Epoch: 7/50: 100%|██████████| 9/9 [00:01<00:00,  7.43it/s, train_loss=0.111, valid_loss=0.175]\n",
      "Epoch: 8/50: 100%|██████████| 9/9 [00:01<00:00,  7.93it/s, train_loss=0.105, valid_loss=0.173]\n",
      "Epoch: 9/50: 100%|██████████| 9/9 [00:01<00:00,  8.01it/s, train_loss=0.108, valid_loss=0.174]\n",
      "Epoch: 10/50: 100%|██████████| 9/9 [00:01<00:00,  7.90it/s, train_loss=0.107, valid_loss=0.177]\n",
      "Epoch: 11/50: 100%|██████████| 9/9 [00:01<00:00,  7.90it/s, train_loss=0.106, valid_loss=0.175]\n",
      "Epoch: 12/50: 100%|██████████| 9/9 [00:01<00:00,  6.97it/s, train_loss=0.108, valid_loss=0.175]\n",
      "Epoch: 13/50: 100%|██████████| 9/9 [00:01<00:00,  7.19it/s, train_loss=0.104, valid_loss=0.175]\n",
      "Epoch: 14/50: 100%|██████████| 9/9 [00:01<00:00,  7.53it/s, train_loss=0.11, valid_loss=0.174]\n",
      "Epoch: 15/50: 100%|██████████| 9/9 [00:01<00:00,  7.16it/s, train_loss=0.108, valid_loss=0.176]\n",
      "Epoch: 16/50: 100%|██████████| 9/9 [00:01<00:00,  6.52it/s, train_loss=0.108, valid_loss=0.174]\n",
      "Epoch: 17/50: 100%|██████████| 9/9 [00:01<00:00,  7.91it/s, train_loss=0.106, valid_loss=0.175]\n",
      "Epoch: 18/50: 100%|██████████| 9/9 [00:01<00:00,  7.93it/s, train_loss=0.107, valid_loss=0.174]\n",
      "Epoch: 19/50: 100%|██████████| 9/9 [00:01<00:00,  7.27it/s, train_loss=0.106, valid_loss=0.175]\n",
      "Epoch: 20/50: 100%|██████████| 9/9 [00:01<00:00,  6.49it/s, train_loss=0.109, valid_loss=0.176]\n",
      "Epoch: 21/50: 100%|██████████| 9/9 [00:01<00:00,  7.34it/s, train_loss=0.11, valid_loss=0.175]\n",
      "Epoch: 22/50: 100%|██████████| 9/9 [00:01<00:00,  8.62it/s, train_loss=0.114, valid_loss=0.175]\n",
      "Epoch: 23/50: 100%|██████████| 9/9 [00:01<00:00,  7.91it/s, train_loss=0.107, valid_loss=0.175]\n",
      "Epoch: 24/50: 100%|██████████| 9/9 [00:01<00:00,  7.07it/s, train_loss=0.11, valid_loss=0.175] \n",
      "Epoch: 25/50: 100%|██████████| 9/9 [00:01<00:00,  7.72it/s, train_loss=0.109, valid_loss=0.175]\n",
      "Epoch: 26/50: 100%|██████████| 9/9 [00:01<00:00,  7.64it/s, train_loss=0.111, valid_loss=0.176]\n",
      "Epoch: 27/50: 100%|██████████| 9/9 [00:01<00:00,  7.56it/s, train_loss=0.108, valid_loss=0.174]\n",
      "Epoch: 28/50: 100%|██████████| 9/9 [00:01<00:00,  7.79it/s, train_loss=0.106, valid_loss=0.175]\n",
      "Epoch: 29/50: 100%|██████████| 9/9 [00:01<00:00,  7.86it/s, train_loss=0.109, valid_loss=0.175]\n",
      "Epoch: 30/50: 100%|██████████| 9/9 [00:01<00:00,  7.63it/s, train_loss=0.108, valid_loss=0.175]\n",
      "Epoch: 31/50: 100%|██████████| 9/9 [00:01<00:00,  7.59it/s, train_loss=0.109, valid_loss=0.173]\n",
      "Epoch: 32/50: 100%|██████████| 9/9 [00:01<00:00,  7.42it/s, train_loss=0.113, valid_loss=0.175]\n",
      "Epoch: 33/50: 100%|██████████| 9/9 [00:01<00:00,  7.67it/s, train_loss=0.105, valid_loss=0.175]\n"
     ]
    },
    {
     "name": "stdout",
     "output_type": "stream",
     "text": [
      "cross-validation dataset 0\n"
     ]
    },
    {
     "name": "stderr",
     "output_type": "stream",
     "text": [
      "Epoch: 1/50: 100%|██████████| 9/9 [00:01<00:00,  7.80it/s, train_loss=0.0343, valid_loss=0.0323]\n",
      "Epoch: 2/50: 100%|██████████| 9/9 [00:01<00:00,  7.99it/s, train_loss=0.0163, valid_loss=0.0368]\n",
      "Epoch: 3/50: 100%|██████████| 9/9 [00:01<00:00,  7.83it/s, train_loss=0.0158, valid_loss=0.0428]\n",
      "Epoch: 4/50: 100%|██████████| 9/9 [00:01<00:00,  7.93it/s, train_loss=0.0125, valid_loss=0.0448]\n",
      "Epoch: 5/50: 100%|██████████| 9/9 [00:01<00:00,  7.51it/s, train_loss=0.00852, valid_loss=0.0611]\n",
      "Epoch: 6/50: 100%|██████████| 9/9 [00:01<00:00,  7.73it/s, train_loss=0.00574, valid_loss=0.0261]\n",
      "Epoch: 7/50: 100%|██████████| 9/9 [00:01<00:00,  8.01it/s, train_loss=0.00398, valid_loss=0.0199]\n",
      "Epoch: 8/50: 100%|██████████| 9/9 [00:01<00:00,  7.87it/s, train_loss=0.00367, valid_loss=0.0137]\n",
      "Epoch: 9/50: 100%|██████████| 9/9 [00:01<00:00,  7.72it/s, train_loss=0.00278, valid_loss=0.00638]\n",
      "Epoch: 10/50: 100%|██████████| 9/9 [00:01<00:00,  7.47it/s, train_loss=0.00258, valid_loss=0.00569]\n",
      "Epoch: 11/50: 100%|██████████| 9/9 [00:01<00:00,  7.57it/s, train_loss=0.00222, valid_loss=0.00575]\n",
      "Epoch: 12/50: 100%|██████████| 9/9 [00:01<00:00,  7.56it/s, train_loss=0.00229, valid_loss=0.00853]\n",
      "Epoch: 13/50: 100%|██████████| 9/9 [00:01<00:00,  8.14it/s, train_loss=0.00192, valid_loss=0.00751]\n",
      "Epoch: 14/50: 100%|██████████| 9/9 [00:01<00:00,  7.48it/s, train_loss=0.00177, valid_loss=0.00744]\n",
      "Epoch: 15/50: 100%|██████████| 9/9 [00:01<00:00,  7.59it/s, train_loss=0.0019, valid_loss=0.00756] \n",
      "Epoch: 16/50: 100%|██████████| 9/9 [00:01<00:00,  7.16it/s, train_loss=0.00197, valid_loss=0.00689]\n",
      "Epoch: 17/50: 100%|██████████| 9/9 [00:01<00:00,  7.59it/s, train_loss=0.00171, valid_loss=0.00678]\n",
      "Epoch: 18/50: 100%|██████████| 9/9 [00:01<00:00,  7.47it/s, train_loss=0.00173, valid_loss=0.00677]\n",
      "Epoch: 19/50: 100%|██████████| 9/9 [00:01<00:00,  8.04it/s, train_loss=0.00156, valid_loss=0.00802]\n",
      "Epoch: 20/50: 100%|██████████| 9/9 [00:01<00:00,  7.81it/s, train_loss=0.00151, valid_loss=0.0076] \n",
      "Epoch: 21/50: 100%|██████████| 9/9 [00:01<00:00,  7.64it/s, train_loss=0.00144, valid_loss=0.0104] \n",
      "Epoch: 22/50: 100%|██████████| 9/9 [00:01<00:00,  7.80it/s, train_loss=0.00146, valid_loss=0.00787]\n",
      "Epoch: 23/50: 100%|██████████| 9/9 [00:01<00:00,  8.33it/s, train_loss=0.00139, valid_loss=0.0093] \n",
      "Epoch: 24/50: 100%|██████████| 9/9 [00:01<00:00,  7.59it/s, train_loss=0.00151, valid_loss=0.0105] \n",
      "Epoch: 25/50: 100%|██████████| 9/9 [00:01<00:00,  7.74it/s, train_loss=0.00138, valid_loss=0.00933]\n",
      "Epoch: 26/50: 100%|██████████| 9/9 [00:01<00:00,  7.82it/s, train_loss=0.00133, valid_loss=0.0111] \n",
      "Epoch: 27/50: 100%|██████████| 9/9 [00:01<00:00,  7.66it/s, train_loss=0.00119, valid_loss=0.0104]\n",
      "Epoch: 28/50: 100%|██████████| 9/9 [00:01<00:00,  6.89it/s, train_loss=0.00126, valid_loss=0.0117]\n",
      "Epoch: 29/50: 100%|██████████| 9/9 [00:01<00:00,  7.25it/s, train_loss=0.00124, valid_loss=0.0117]\n",
      "Epoch: 30/50: 100%|██████████| 9/9 [00:01<00:00,  7.94it/s, train_loss=0.00128, valid_loss=0.00903]\n",
      "Epoch: 31/50: 100%|██████████| 9/9 [00:01<00:00,  7.96it/s, train_loss=0.00139, valid_loss=0.0126]\n",
      "Epoch: 32/50: 100%|██████████| 9/9 [00:00<00:00,  9.31it/s, train_loss=0.00136, valid_loss=0.0114] \n",
      "Epoch: 33/50: 100%|██████████| 9/9 [00:01<00:00,  7.77it/s, train_loss=0.00129, valid_loss=0.0106] \n",
      "Epoch: 34/50: 100%|██████████| 9/9 [00:01<00:00,  7.82it/s, train_loss=0.00123, valid_loss=0.00874]\n",
      "Epoch: 35/50: 100%|██████████| 9/9 [00:01<00:00,  8.49it/s, train_loss=0.0011, valid_loss=0.00897] \n"
     ]
    },
    {
     "name": "stdout",
     "output_type": "stream",
     "text": [
      "cross-validation dataset 1\n"
     ]
    },
    {
     "name": "stderr",
     "output_type": "stream",
     "text": [
      "Epoch: 1/50: 100%|██████████| 17/17 [00:02<00:00,  7.85it/s, train_loss=0.143, valid_loss=0.163]\n",
      "Epoch: 2/50: 100%|██████████| 17/17 [00:02<00:00,  8.06it/s, train_loss=0.138, valid_loss=0.162]\n",
      "Epoch: 3/50: 100%|██████████| 17/17 [00:02<00:00,  7.34it/s, train_loss=0.136, valid_loss=0.162]\n",
      "Epoch: 4/50: 100%|██████████| 17/17 [00:01<00:00,  8.55it/s, train_loss=0.142, valid_loss=0.162]\n",
      "Epoch: 5/50: 100%|██████████| 17/17 [00:02<00:00,  7.25it/s, train_loss=0.148, valid_loss=0.163]\n",
      "Epoch: 6/50: 100%|██████████| 17/17 [00:02<00:00,  8.31it/s, train_loss=0.137, valid_loss=0.162]\n",
      "Epoch: 7/50: 100%|██████████| 17/17 [00:02<00:00,  7.43it/s, train_loss=0.00255, valid_loss=0.00208]\n",
      "Epoch: 8/50: 100%|██████████| 17/17 [00:02<00:00,  6.69it/s, train_loss=0.00235, valid_loss=0.00193]\n",
      "Epoch: 9/50: 100%|██████████| 17/17 [00:02<00:00,  6.86it/s, train_loss=0.00255, valid_loss=0.00212]\n",
      "Epoch: 10/50: 100%|██████████| 17/17 [00:02<00:00,  7.33it/s, train_loss=0.00214, valid_loss=0.00178]\n",
      "Epoch: 11/50: 100%|██████████| 17/17 [00:02<00:00,  7.03it/s, train_loss=0.00223, valid_loss=0.00171]\n",
      "Epoch: 12/50: 100%|██████████| 17/17 [00:02<00:00,  6.78it/s, train_loss=0.00249, valid_loss=0.0017] \n",
      "Epoch: 13/50: 100%|██████████| 17/17 [00:02<00:00,  7.07it/s, train_loss=0.00208, valid_loss=0.00164]\n",
      "Epoch: 14/50: 100%|██████████| 17/17 [00:02<00:00,  6.53it/s, train_loss=0.00208, valid_loss=0.00172]\n",
      "Epoch: 15/50: 100%|██████████| 17/17 [00:02<00:00,  7.13it/s, train_loss=0.00202, valid_loss=0.00175]\n",
      "Epoch: 16/50: 100%|██████████| 17/17 [00:02<00:00,  7.41it/s, train_loss=0.00236, valid_loss=0.00171]\n",
      "Epoch: 17/50: 100%|██████████| 17/17 [00:02<00:00,  6.83it/s, train_loss=0.00213, valid_loss=0.00163]\n",
      "Epoch: 18/50: 100%|██████████| 17/17 [00:02<00:00,  7.00it/s, train_loss=0.00175, valid_loss=0.00162]\n",
      "Epoch: 19/50: 100%|██████████| 17/17 [00:02<00:00,  6.77it/s, train_loss=0.00181, valid_loss=0.00162]\n",
      "Epoch: 20/50: 100%|██████████| 17/17 [00:02<00:00,  8.04it/s, train_loss=0.00173, valid_loss=0.00168]\n",
      "Epoch: 21/50: 100%|██████████| 17/17 [00:02<00:00,  7.97it/s, train_loss=0.00165, valid_loss=0.00165]\n",
      "Epoch: 22/50: 100%|██████████| 17/17 [00:02<00:00,  7.04it/s, train_loss=0.0016, valid_loss=0.00161] \n",
      "Epoch: 23/50: 100%|██████████| 17/17 [00:02<00:00,  7.40it/s, train_loss=0.00167, valid_loss=0.00168]\n",
      "Epoch: 24/50: 100%|██████████| 17/17 [00:02<00:00,  7.79it/s, train_loss=0.00158, valid_loss=0.00169]\n",
      "Epoch: 25/50: 100%|██████████| 17/17 [00:02<00:00,  6.58it/s, train_loss=0.00156, valid_loss=0.00159]\n",
      "Epoch: 26/50: 100%|██████████| 17/17 [00:02<00:00,  7.05it/s, train_loss=0.00128, valid_loss=0.00158]\n",
      "Epoch: 27/50: 100%|██████████| 17/17 [00:02<00:00,  6.83it/s, train_loss=0.00151, valid_loss=0.00155]\n",
      "Epoch: 28/50: 100%|██████████| 17/17 [00:02<00:00,  6.79it/s, train_loss=0.00145, valid_loss=0.00153]\n",
      "Epoch: 29/50: 100%|██████████| 17/17 [00:02<00:00,  6.81it/s, train_loss=0.00135, valid_loss=0.00147]\n",
      "Epoch: 30/50: 100%|██████████| 17/17 [00:02<00:00,  6.50it/s, train_loss=0.00143, valid_loss=0.00144]\n",
      "Epoch: 31/50: 100%|██████████| 17/17 [00:02<00:00,  6.95it/s, train_loss=0.00134, valid_loss=0.00143]\n",
      "Epoch: 32/50: 100%|██████████| 17/17 [00:02<00:00,  7.14it/s, train_loss=0.00123, valid_loss=0.00135]\n",
      "Epoch: 33/50: 100%|██████████| 17/17 [00:02<00:00,  7.65it/s, train_loss=0.00124, valid_loss=0.00134]\n",
      "Epoch: 34/50: 100%|██████████| 17/17 [00:02<00:00,  7.47it/s, train_loss=0.00115, valid_loss=0.00135]\n",
      "Epoch: 35/50: 100%|██████████| 17/17 [00:02<00:00,  7.89it/s, train_loss=0.00114, valid_loss=0.00136]\n",
      "Epoch: 36/50: 100%|██████████| 17/17 [00:02<00:00,  6.92it/s, train_loss=0.00111, valid_loss=0.00146]\n",
      "Epoch: 37/50: 100%|██████████| 17/17 [00:02<00:00,  7.38it/s, train_loss=0.00109, valid_loss=0.00138]\n",
      "Epoch: 38/50: 100%|██████████| 17/17 [00:02<00:00,  7.86it/s, train_loss=0.000936, valid_loss=0.00144]\n",
      "Epoch: 39/50: 100%|██████████| 17/17 [00:02<00:00,  7.61it/s, train_loss=0.000943, valid_loss=0.00169]\n",
      "Epoch: 40/50: 100%|██████████| 17/17 [00:02<00:00,  8.00it/s, train_loss=0.000942, valid_loss=0.0016] \n",
      "Epoch: 41/50: 100%|██████████| 17/17 [00:02<00:00,  7.74it/s, train_loss=0.000869, valid_loss=0.00155]\n",
      "Epoch: 42/50: 100%|██████████| 17/17 [00:02<00:00,  7.63it/s, train_loss=0.000856, valid_loss=0.00157]\n",
      "Epoch: 43/50: 100%|██████████| 17/17 [00:02<00:00,  7.62it/s, train_loss=0.000884, valid_loss=0.00166]\n",
      "Epoch: 44/50: 100%|██████████| 17/17 [00:02<00:00,  7.65it/s, train_loss=0.000811, valid_loss=0.00184]\n",
      "Epoch: 45/50: 100%|██████████| 17/17 [00:02<00:00,  7.57it/s, train_loss=0.000797, valid_loss=0.00163]\n",
      "Epoch: 46/50: 100%|██████████| 17/17 [00:02<00:00,  7.50it/s, train_loss=0.000838, valid_loss=0.0017]\n"
     ]
    },
    {
     "name": "stdout",
     "output_type": "stream",
     "text": [
      "cross-validation dataset 2\n"
     ]
    },
    {
     "name": "stderr",
     "output_type": "stream",
     "text": [
      "Epoch: 1/50: 100%|██████████| 25/25 [00:03<00:00,  7.95it/s, train_loss=0.0248, valid_loss=0.0393]\n",
      "Epoch: 2/50: 100%|██████████| 25/25 [00:03<00:00,  7.85it/s, train_loss=0.0072, valid_loss=0.0106]\n",
      "Epoch: 3/50: 100%|██████████| 25/25 [00:03<00:00,  7.66it/s, train_loss=0.00385, valid_loss=0.00558]\n",
      "Epoch: 4/50: 100%|██████████| 25/25 [00:03<00:00,  8.21it/s, train_loss=0.00286, valid_loss=0.00388]\n",
      "Epoch: 5/50: 100%|██████████| 25/25 [00:03<00:00,  7.63it/s, train_loss=0.0028, valid_loss=0.00346] \n",
      "Epoch: 6/50: 100%|██████████| 25/25 [00:02<00:00,  8.38it/s, train_loss=0.00283, valid_loss=0.00348]\n",
      "Epoch: 7/50: 100%|██████████| 25/25 [00:03<00:00,  7.82it/s, train_loss=0.00243, valid_loss=0.00321]\n",
      "Epoch: 8/50: 100%|██████████| 25/25 [00:03<00:00,  7.57it/s, train_loss=0.00235, valid_loss=0.00338]\n",
      "Epoch: 9/50: 100%|██████████| 25/25 [00:03<00:00,  7.56it/s, train_loss=0.00191, valid_loss=0.00319]\n",
      "Epoch: 10/50: 100%|██████████| 25/25 [00:03<00:00,  7.29it/s, train_loss=0.00184, valid_loss=0.00308]\n",
      "Epoch: 11/50: 100%|██████████| 25/25 [00:03<00:00,  7.93it/s, train_loss=0.00194, valid_loss=0.00334]\n",
      "Epoch: 12/50: 100%|██████████| 25/25 [00:03<00:00,  8.26it/s, train_loss=0.00182, valid_loss=0.00309]\n",
      "Epoch: 13/50: 100%|██████████| 25/25 [00:03<00:00,  7.83it/s, train_loss=0.00177, valid_loss=0.00284]\n",
      "Epoch: 14/50: 100%|██████████| 25/25 [00:03<00:00,  7.83it/s, train_loss=0.00204, valid_loss=0.00317]\n",
      "Epoch: 15/50: 100%|██████████| 25/25 [00:03<00:00,  7.42it/s, train_loss=0.00197, valid_loss=0.0028]\n",
      "Epoch: 16/50: 100%|██████████| 25/25 [00:03<00:00,  7.56it/s, train_loss=0.00158, valid_loss=0.00304]\n",
      "Epoch: 17/50: 100%|██████████| 25/25 [00:03<00:00,  7.70it/s, train_loss=0.00177, valid_loss=0.00277]\n",
      "Epoch: 18/50: 100%|██████████| 25/25 [00:03<00:00,  7.75it/s, train_loss=0.0015, valid_loss=0.00269] \n",
      "Epoch: 19/50: 100%|██████████| 25/25 [00:03<00:00,  7.68it/s, train_loss=0.00153, valid_loss=0.00348]\n",
      "Epoch: 20/50: 100%|██████████| 25/25 [00:03<00:00,  7.59it/s, train_loss=0.00139, valid_loss=0.00318]\n",
      "Epoch: 21/50: 100%|██████████| 25/25 [00:03<00:00,  7.61it/s, train_loss=0.00136, valid_loss=0.00304]\n",
      "Epoch: 22/50: 100%|██████████| 25/25 [00:03<00:00,  7.53it/s, train_loss=0.00141, valid_loss=0.00323]\n",
      "Epoch: 23/50: 100%|██████████| 25/25 [00:03<00:00,  7.08it/s, train_loss=0.00156, valid_loss=0.00285]\n",
      "Epoch: 24/50: 100%|██████████| 25/25 [00:03<00:00,  7.31it/s, train_loss=0.00142, valid_loss=0.00305]\n",
      "Epoch: 25/50: 100%|██████████| 25/25 [00:03<00:00,  7.63it/s, train_loss=0.0012, valid_loss=0.00295] \n",
      "Epoch: 26/50: 100%|██████████| 25/25 [00:03<00:00,  7.51it/s, train_loss=0.00123, valid_loss=0.00318]\n",
      "Epoch: 27/50: 100%|██████████| 25/25 [00:03<00:00,  7.65it/s, train_loss=0.00105, valid_loss=0.00339]\n",
      "Epoch: 28/50: 100%|██████████| 25/25 [00:03<00:00,  8.20it/s, train_loss=0.00122, valid_loss=0.00338]\n",
      "Epoch: 29/50: 100%|██████████| 25/25 [00:03<00:00,  7.77it/s, train_loss=0.00117, valid_loss=0.00343]\n"
     ]
    },
    {
     "name": "stdout",
     "output_type": "stream",
     "text": [
      "cross-validation dataset 3\n"
     ]
    },
    {
     "name": "stderr",
     "output_type": "stream",
     "text": [
      "Epoch: 1/50: 100%|██████████| 33/33 [00:04<00:00,  7.58it/s, train_loss=0.15, valid_loss=0.191] \n",
      "Epoch: 2/50: 100%|██████████| 33/33 [00:04<00:00,  7.33it/s, train_loss=0.166, valid_loss=0.19] \n",
      "Epoch: 3/50: 100%|██████████| 33/33 [00:04<00:00,  7.40it/s, train_loss=0.158, valid_loss=0.193]\n",
      "Epoch: 4/50: 100%|██████████| 33/33 [00:04<00:00,  7.58it/s, train_loss=0.156, valid_loss=0.191]\n",
      "Epoch: 5/50: 100%|██████████| 33/33 [00:04<00:00,  7.48it/s, train_loss=0.161, valid_loss=0.189]\n",
      "Epoch: 6/50: 100%|██████████| 33/33 [00:04<00:00,  7.58it/s, train_loss=0.16, valid_loss=0.192] \n",
      "Epoch: 7/50: 100%|██████████| 33/33 [00:04<00:00,  7.47it/s, train_loss=0.155, valid_loss=0.19] \n",
      "Epoch: 8/50: 100%|██████████| 33/33 [00:04<00:00,  7.96it/s, train_loss=0.161, valid_loss=0.192]\n",
      "Epoch: 9/50: 100%|██████████| 33/33 [00:04<00:00,  7.55it/s, train_loss=0.155, valid_loss=0.192]\n",
      "Epoch: 10/50: 100%|██████████| 33/33 [00:04<00:00,  7.45it/s, train_loss=0.165, valid_loss=0.191]\n",
      "Epoch: 11/50: 100%|██████████| 33/33 [00:04<00:00,  7.51it/s, train_loss=0.161, valid_loss=0.193]\n"
     ]
    },
    {
     "name": "stdout",
     "output_type": "stream",
     "text": [
      "cross-validation dataset 3\n"
     ]
    },
    {
     "name": "stderr",
     "output_type": "stream",
     "text": [
      "Epoch: 1/50: 100%|██████████| 33/33 [00:04<00:00,  7.48it/s, train_loss=0.016, valid_loss=0.0147] \n",
      "Epoch: 2/50: 100%|██████████| 33/33 [00:03<00:00,  8.31it/s, train_loss=0.00397, valid_loss=0.00445]\n",
      "Epoch: 3/50: 100%|██████████| 33/33 [00:04<00:00,  7.55it/s, train_loss=0.0028, valid_loss=0.00186] \n",
      "Epoch: 4/50: 100%|██████████| 33/33 [00:04<00:00,  7.33it/s, train_loss=0.00251, valid_loss=0.0016] \n",
      "Epoch: 5/50: 100%|██████████| 33/33 [00:04<00:00,  7.16it/s, train_loss=0.00253, valid_loss=0.00154]\n",
      "Epoch: 6/50: 100%|██████████| 33/33 [00:04<00:00,  7.74it/s, train_loss=0.00233, valid_loss=0.00146]\n",
      "Epoch: 7/50: 100%|██████████| 33/33 [00:04<00:00,  7.09it/s, train_loss=0.00229, valid_loss=0.00131]\n",
      "Epoch: 8/50: 100%|██████████| 33/33 [00:04<00:00,  7.30it/s, train_loss=0.00203, valid_loss=0.00112]\n",
      "Epoch: 9/50: 100%|██████████| 33/33 [00:04<00:00,  7.69it/s, train_loss=0.00175, valid_loss=0.00111]\n",
      "Epoch: 10/50: 100%|██████████| 33/33 [00:04<00:00,  7.50it/s, train_loss=0.00179, valid_loss=0.00104]\n",
      "Epoch: 11/50: 100%|██████████| 33/33 [00:04<00:00,  7.66it/s, train_loss=0.00173, valid_loss=0.00119]\n",
      "Epoch: 12/50: 100%|██████████| 33/33 [00:04<00:00,  7.39it/s, train_loss=0.00169, valid_loss=0.00104]\n",
      "Epoch: 13/50: 100%|██████████| 33/33 [00:04<00:00,  7.50it/s, train_loss=0.00159, valid_loss=0.00106]\n",
      "Epoch: 14/50: 100%|██████████| 33/33 [00:04<00:00,  7.63it/s, train_loss=0.00163, valid_loss=0.001]   \n",
      "Epoch: 15/50: 100%|██████████| 33/33 [00:04<00:00,  7.39it/s, train_loss=0.00167, valid_loss=0.000976]\n",
      "Epoch: 16/50: 100%|██████████| 33/33 [00:04<00:00,  7.55it/s, train_loss=0.00146, valid_loss=0.00107] \n",
      "Epoch: 17/50: 100%|██████████| 33/33 [00:04<00:00,  7.44it/s, train_loss=0.00149, valid_loss=0.00101] \n",
      "Epoch: 18/50: 100%|██████████| 33/33 [00:04<00:00,  7.10it/s, train_loss=0.00132, valid_loss=0.000977]\n",
      "Epoch: 19/50: 100%|██████████| 33/33 [00:04<00:00,  6.86it/s, train_loss=0.00144, valid_loss=0.000984]\n",
      "Epoch: 20/50: 100%|██████████| 33/33 [00:04<00:00,  7.12it/s, train_loss=0.00122, valid_loss=0.00094] \n",
      "Epoch: 21/50: 100%|██████████| 33/33 [00:04<00:00,  7.50it/s, train_loss=0.00118, valid_loss=0.000962]\n",
      "Epoch: 22/50: 100%|██████████| 33/33 [00:04<00:00,  7.55it/s, train_loss=0.0012, valid_loss=0.000918] \n",
      "Epoch: 23/50: 100%|██████████| 33/33 [00:04<00:00,  7.30it/s, train_loss=0.00107, valid_loss=0.000898]\n",
      "Epoch: 24/50: 100%|██████████| 33/33 [00:04<00:00,  7.18it/s, train_loss=0.00105, valid_loss=0.000973]\n",
      "Epoch: 25/50: 100%|██████████| 33/33 [00:04<00:00,  7.20it/s, train_loss=0.000979, valid_loss=0.000992]\n",
      "Epoch: 26/50: 100%|██████████| 33/33 [00:04<00:00,  7.93it/s, train_loss=0.00112, valid_loss=0.000917] \n",
      "Epoch: 27/50: 100%|██████████| 33/33 [00:04<00:00,  8.17it/s, train_loss=0.000901, valid_loss=0.00106] \n",
      "Epoch: 28/50: 100%|██████████| 33/33 [00:04<00:00,  7.89it/s, train_loss=0.000918, valid_loss=0.000977]\n",
      "Epoch: 29/50: 100%|██████████| 33/33 [00:04<00:00,  7.88it/s, train_loss=0.00108, valid_loss=0.00096]  \n",
      "Epoch: 30/50: 100%|██████████| 33/33 [00:04<00:00,  8.06it/s, train_loss=0.000952, valid_loss=0.000893]\n",
      "Epoch: 31/50: 100%|██████████| 33/33 [00:04<00:00,  7.59it/s, train_loss=0.000812, valid_loss=0.000909]\n",
      "Epoch: 32/50: 100%|██████████| 33/33 [00:04<00:00,  7.63it/s, train_loss=0.000848, valid_loss=0.00096] IOPub message rate exceeded.\n",
      "The notebook server will temporarily stop sending output\n",
      "to the client in order to avoid crashing it.\n",
      "To change this limit, set the config variable\n",
      "`--NotebookApp.iopub_msg_rate_limit`.\n",
      "\n",
      "Current values:\n",
      "NotebookApp.iopub_msg_rate_limit=1000.0 (msgs/sec)\n",
      "NotebookApp.rate_limit_window=3.0 (secs)\n",
      "\n",
      "Epoch: 24/50: 100%|██████████| 17/17 [00:01<00:00, 12.87it/s, train_loss=0.00168, valid_loss=0.00595]\n",
      "Epoch: 25/50: 100%|██████████| 17/17 [00:01<00:00, 13.12it/s, train_loss=0.00156, valid_loss=0.00744]\n",
      "Epoch: 26/50: 100%|██████████| 17/17 [00:01<00:00, 13.62it/s, train_loss=0.00171, valid_loss=0.00616]\n",
      "Epoch: 27/50: 100%|██████████| 17/17 [00:01<00:00, 13.27it/s, train_loss=0.00142, valid_loss=0.00892]\n",
      "Epoch: 28/50: 100%|██████████| 17/17 [00:01<00:00, 12.16it/s, train_loss=0.00166, valid_loss=0.00493]\n"
     ]
    },
    {
     "name": "stdout",
     "output_type": "stream",
     "text": [
      "cross-validation dataset 1\n"
     ]
    },
    {
     "name": "stderr",
     "output_type": "stream",
     "text": [
      "Epoch: 1/50: 100%|██████████| 33/33 [00:02<00:00, 14.29it/s, train_loss=0.134, valid_loss=0.162]\n",
      "Epoch: 2/50: 100%|██████████| 33/33 [00:02<00:00, 11.75it/s, train_loss=0.143, valid_loss=0.162]\n",
      "Epoch: 3/50: 100%|██████████| 33/33 [00:03<00:00, 10.58it/s, train_loss=0.138, valid_loss=0.162]\n",
      "Epoch: 4/50: 100%|██████████| 33/33 [00:02<00:00, 12.67it/s, train_loss=0.0804, valid_loss=0.0816]\n",
      "Epoch: 5/50: 100%|██████████| 33/33 [00:02<00:00, 11.20it/s, train_loss=0.0243, valid_loss=0.0293]\n",
      "Epoch: 6/50: 100%|██████████| 33/33 [00:02<00:00, 12.34it/s, train_loss=0.0242, valid_loss=0.0289]\n",
      "Epoch: 7/50: 100%|██████████| 33/33 [00:02<00:00, 13.67it/s, train_loss=0.0167, valid_loss=0.0226]\n",
      "Epoch: 8/50: 100%|██████████| 33/33 [00:02<00:00, 13.55it/s, train_loss=0.00662, valid_loss=0.00591]\n",
      "Epoch: 9/50: 100%|██████████| 33/33 [00:02<00:00, 14.02it/s, train_loss=0.00469, valid_loss=0.0034] \n",
      "Epoch: 10/50: 100%|██████████| 33/33 [00:02<00:00, 14.25it/s, train_loss=0.00318, valid_loss=0.00295]\n",
      "Epoch: 11/50: 100%|██████████| 33/33 [00:02<00:00, 14.11it/s, train_loss=0.00309, valid_loss=0.00239]\n",
      "Epoch: 12/50: 100%|██████████| 33/33 [00:02<00:00, 12.29it/s, train_loss=0.00277, valid_loss=0.00196]\n",
      "Epoch: 13/50: 100%|██████████| 33/33 [00:02<00:00, 13.57it/s, train_loss=0.00285, valid_loss=0.00192]\n",
      "Epoch: 14/50: 100%|██████████| 33/33 [00:02<00:00, 14.09it/s, train_loss=0.0022, valid_loss=0.00179] \n",
      "Epoch: 15/50: 100%|██████████| 33/33 [00:02<00:00, 12.81it/s, train_loss=0.00243, valid_loss=0.00181]\n",
      "Epoch: 16/50: 100%|██████████| 33/33 [00:02<00:00, 11.16it/s, train_loss=0.00241, valid_loss=0.00166]\n",
      "Epoch: 17/50: 100%|██████████| 33/33 [00:02<00:00, 14.10it/s, train_loss=0.00197, valid_loss=0.00156]\n",
      "Epoch: 18/50: 100%|██████████| 33/33 [00:02<00:00, 12.44it/s, train_loss=0.00188, valid_loss=0.00172]\n",
      "Epoch: 19/50: 100%|██████████| 33/33 [00:02<00:00, 11.11it/s, train_loss=0.00245, valid_loss=0.00142]\n",
      "Epoch: 20/50: 100%|██████████| 33/33 [00:02<00:00, 11.88it/s, train_loss=0.00177, valid_loss=0.00141]\n",
      "Epoch: 21/50: 100%|██████████| 33/33 [00:02<00:00, 11.43it/s, train_loss=0.00203, valid_loss=0.0013] \n",
      "Epoch: 22/50: 100%|██████████| 33/33 [00:02<00:00, 11.37it/s, train_loss=0.00193, valid_loss=0.00143]\n",
      "Epoch: 23/50: 100%|██████████| 33/33 [00:02<00:00, 11.65it/s, train_loss=0.00179, valid_loss=0.00145]\n",
      "Epoch: 24/50: 100%|██████████| 33/33 [00:02<00:00, 11.62it/s, train_loss=0.00163, valid_loss=0.00132]\n",
      "Epoch: 25/50: 100%|██████████| 33/33 [00:02<00:00, 15.10it/s, train_loss=0.00135, valid_loss=0.00144]\n",
      "Epoch: 26/50: 100%|██████████| 33/33 [00:02<00:00, 14.57it/s, train_loss=0.00137, valid_loss=0.00164]\n",
      "Epoch: 27/50: 100%|██████████| 33/33 [00:02<00:00, 11.27it/s, train_loss=0.00158, valid_loss=0.00161]\n",
      "Epoch: 28/50: 100%|██████████| 33/33 [00:02<00:00, 11.60it/s, train_loss=0.00131, valid_loss=0.00163]\n",
      "Epoch: 29/50: 100%|██████████| 33/33 [00:02<00:00, 11.38it/s, train_loss=0.0013, valid_loss=0.0015]  \n",
      "Epoch: 30/50: 100%|██████████| 33/33 [00:02<00:00, 11.03it/s, train_loss=0.00124, valid_loss=0.00171]\n",
      "Epoch: 31/50: 100%|██████████| 33/33 [00:02<00:00, 11.37it/s, train_loss=0.00109, valid_loss=0.00207]\n",
      "Epoch: 32/50: 100%|██████████| 33/33 [00:02<00:00, 11.64it/s, train_loss=0.00117, valid_loss=0.00167]\n"
     ]
    },
    {
     "name": "stdout",
     "output_type": "stream",
     "text": [
      "cross-validation dataset 2\n"
     ]
    },
    {
     "name": "stderr",
     "output_type": "stream",
     "text": [
      "Epoch: 1/50: 100%|██████████| 50/50 [00:03<00:00, 13.53it/s, train_loss=0.146, valid_loss=0.194]\n",
      "Epoch: 2/50: 100%|██████████| 50/50 [00:03<00:00, 14.56it/s, train_loss=0.0261, valid_loss=0.0405]\n",
      "Epoch: 3/50: 100%|██████████| 50/50 [00:03<00:00, 14.75it/s, train_loss=0.00378, valid_loss=0.00499]\n",
      "Epoch: 4/50: 100%|██████████| 50/50 [00:03<00:00, 13.75it/s, train_loss=0.00308, valid_loss=0.00313]\n",
      "Epoch: 5/50: 100%|██████████| 50/50 [00:03<00:00, 14.51it/s, train_loss=0.00209, valid_loss=0.00301]\n",
      "Epoch: 6/50: 100%|██████████| 50/50 [00:03<00:00, 14.60it/s, train_loss=0.00211, valid_loss=0.00289]\n",
      "Epoch: 7/50: 100%|██████████| 50/50 [00:03<00:00, 13.98it/s, train_loss=0.0017, valid_loss=0.00286] \n",
      "Epoch: 8/50: 100%|██████████| 50/50 [00:04<00:00, 12.04it/s, train_loss=0.00172, valid_loss=0.00322]\n",
      "Epoch: 9/50: 100%|██████████| 50/50 [00:03<00:00, 13.00it/s, train_loss=0.00154, valid_loss=0.00281]\n",
      "Epoch: 10/50: 100%|██████████| 50/50 [00:04<00:00, 12.03it/s, train_loss=0.00184, valid_loss=0.00277]\n",
      "Epoch: 11/50: 100%|██████████| 50/50 [00:03<00:00, 12.91it/s, train_loss=0.0014, valid_loss=0.00271] \n",
      "Epoch: 12/50: 100%|██████████| 50/50 [00:03<00:00, 12.90it/s, train_loss=0.00156, valid_loss=0.00278]\n",
      "Epoch: 13/50: 100%|██████████| 50/50 [00:03<00:00, 13.07it/s, train_loss=0.00152, valid_loss=0.00293]\n",
      "Epoch: 14/50: 100%|██████████| 50/50 [00:03<00:00, 12.97it/s, train_loss=0.00152, valid_loss=0.00283]\n",
      "Epoch: 15/50: 100%|██████████| 50/50 [00:04<00:00, 11.40it/s, train_loss=0.00148, valid_loss=0.0027] \n",
      "Epoch: 16/50: 100%|██████████| 50/50 [00:03<00:00, 14.05it/s, train_loss=0.00122, valid_loss=0.00262]\n",
      "Epoch: 17/50: 100%|██████████| 50/50 [00:03<00:00, 13.16it/s, train_loss=0.00143, valid_loss=0.00254]\n",
      "Epoch: 18/50: 100%|██████████| 50/50 [00:03<00:00, 13.82it/s, train_loss=0.00145, valid_loss=0.00273]\n",
      "Epoch: 19/50: 100%|██████████| 50/50 [00:03<00:00, 13.50it/s, train_loss=0.00143, valid_loss=0.00265]\n"
     ]
    },
    {
     "name": "stdout",
     "output_type": "stream",
     "text": [
      "cross-validation dataset 3\n"
     ]
    },
    {
     "name": "stderr",
     "output_type": "stream",
     "text": [
      "Epoch: 1/50: 100%|██████████| 66/66 [00:04<00:00, 13.31it/s, train_loss=0.00387, valid_loss=0.00339]\n",
      "Epoch: 2/50: 100%|██████████| 66/66 [00:05<00:00, 12.45it/s, train_loss=0.00365, valid_loss=0.00167]\n",
      "Epoch: 3/50: 100%|██████████| 66/66 [00:04<00:00, 14.01it/s, train_loss=0.00205, valid_loss=0.00155]\n",
      "Epoch: 4/50: 100%|██████████| 66/66 [00:04<00:00, 14.11it/s, train_loss=0.00219, valid_loss=0.00132]\n",
      "Epoch: 5/50: 100%|██████████| 66/66 [00:04<00:00, 13.79it/s, train_loss=0.00202, valid_loss=0.0012] \n",
      "Epoch: 6/50: 100%|██████████| 66/66 [00:04<00:00, 13.85it/s, train_loss=0.00151, valid_loss=0.00096] \n",
      "Epoch: 7/50: 100%|██████████| 66/66 [00:04<00:00, 14.25it/s, train_loss=0.00186, valid_loss=0.00113] \n",
      "Epoch: 8/50: 100%|██████████| 66/66 [00:04<00:00, 14.09it/s, train_loss=0.00154, valid_loss=0.00111] \n",
      "Epoch: 9/50: 100%|██████████| 66/66 [00:05<00:00, 12.54it/s, train_loss=0.00172, valid_loss=0.00149]\n",
      "Epoch: 10/50: 100%|██████████| 66/66 [00:05<00:00, 11.13it/s, train_loss=0.00128, valid_loss=0.0013] \n",
      "Epoch: 11/50: 100%|██████████| 66/66 [00:05<00:00, 11.55it/s, train_loss=0.00136, valid_loss=0.0014] \n",
      "Epoch: 12/50: 100%|██████████| 66/66 [00:05<00:00, 12.31it/s, train_loss=0.00141, valid_loss=0.00129]\n"
     ]
    },
    {
     "name": "stdout",
     "output_type": "stream",
     "text": [
      "cross-validation dataset 4\n"
     ]
    },
    {
     "name": "stderr",
     "output_type": "stream",
     "text": [
      "Epoch: 1/50: 100%|██████████| 83/83 [00:06<00:00, 12.03it/s, train_loss=0.0753, valid_loss=0.0735]\n",
      "Epoch: 2/50: 100%|██████████| 83/83 [00:06<00:00, 12.34it/s, train_loss=0.0268, valid_loss=0.0341]\n",
      "Epoch: 3/50: 100%|██████████| 83/83 [00:06<00:00, 12.18it/s, train_loss=0.00406, valid_loss=0.00473]\n",
      "Epoch: 4/50: 100%|██████████| 83/83 [00:06<00:00, 13.18it/s, train_loss=0.00409, valid_loss=0.00346]\n",
      "Epoch: 5/50: 100%|██████████| 83/83 [00:06<00:00, 12.03it/s, train_loss=0.00255, valid_loss=0.00387]\n",
      "Epoch: 6/50: 100%|██████████| 83/83 [00:06<00:00, 13.80it/s, train_loss=0.00218, valid_loss=0.00338]\n",
      "Epoch: 7/50: 100%|██████████| 83/83 [00:05<00:00, 14.49it/s, train_loss=0.00255, valid_loss=0.00327]\n",
      "Epoch: 8/50: 100%|██████████| 83/83 [00:06<00:00, 13.70it/s, train_loss=0.00214, valid_loss=0.00305]\n",
      "Epoch: 9/50: 100%|██████████| 83/83 [00:06<00:00, 12.12it/s, train_loss=0.00172, valid_loss=0.00265]\n",
      "Epoch: 10/50: 100%|██████████| 83/83 [00:06<00:00, 13.14it/s, train_loss=0.00201, valid_loss=0.00286]\n",
      "Epoch: 11/50: 100%|██████████| 83/83 [00:06<00:00, 12.71it/s, train_loss=0.00157, valid_loss=0.00258]\n",
      "Epoch: 12/50: 100%|██████████| 83/83 [00:06<00:00, 12.48it/s, train_loss=0.00169, valid_loss=0.00269]\n",
      "Epoch: 13/50:  24%|██▍       | 20/83 [00:01<00:04, 15.02it/s, train_loss=0.00136, valid_loss=0.0026] IOPub message rate exceeded.\n",
      "The notebook server will temporarily stop sending output\n",
      "to the client in order to avoid crashing it.\n",
      "To change this limit, set the config variable\n",
      "`--NotebookApp.iopub_msg_rate_limit`.\n",
      "\n",
      "Current values:\n",
      "NotebookApp.iopub_msg_rate_limit=1000.0 (msgs/sec)\n",
      "NotebookApp.rate_limit_window=3.0 (secs)\n",
      "\n",
      "\n",
      "Epoch: 8/50: 100%|██████████| 66/66 [00:06<00:00, 10.29it/s, train_loss=0.00162, valid_loss=0.00102] \n",
      "Epoch: 9/50: 100%|██████████| 66/66 [00:05<00:00, 11.28it/s, train_loss=0.00145, valid_loss=0.00164]\n",
      "Epoch: 10/50: 100%|██████████| 66/66 [00:06<00:00, 10.86it/s, train_loss=0.00207, valid_loss=0.00116]\n",
      "Epoch: 11/50: 100%|██████████| 66/66 [00:07<00:00,  9.13it/s, train_loss=0.00145, valid_loss=0.00127] \n",
      "Epoch: 12/50: 100%|██████████| 66/66 [00:05<00:00, 11.05it/s, train_loss=0.00166, valid_loss=0.00097] \n"
     ]
    },
    {
     "name": "stdout",
     "output_type": "stream",
     "text": [
      "cross-validation dataset 4\n"
     ]
    },
    {
     "name": "stderr",
     "output_type": "stream",
     "text": [
      "Epoch: 1/50: 100%|██████████| 83/83 [00:08<00:00,  9.53it/s, train_loss=0.00298, valid_loss=0.0035] \n",
      "Epoch: 2/50: 100%|██████████| 83/83 [00:07<00:00, 10.81it/s, train_loss=0.00225, valid_loss=0.0031] \n",
      "Epoch: 3/50: 100%|██████████| 83/83 [00:08<00:00, 10.01it/s, train_loss=0.0021, valid_loss=0.00279] \n",
      "Epoch: 4/50: 100%|██████████| 83/83 [00:06<00:00, 12.08it/s, train_loss=0.00184, valid_loss=0.00267]\n",
      "Epoch: 5/50: 100%|██████████| 83/83 [00:07<00:00, 11.20it/s, train_loss=0.00186, valid_loss=0.00271]\n",
      "Epoch: 6/50: 100%|██████████| 83/83 [00:06<00:00, 12.36it/s, train_loss=0.00175, valid_loss=0.00281]\n",
      "Epoch: 7/50: 100%|██████████| 83/83 [00:06<00:00, 12.90it/s, train_loss=0.00147, valid_loss=0.00291]\n",
      "Epoch: 8/50: 100%|██████████| 83/83 [00:07<00:00, 11.51it/s, train_loss=0.00167, valid_loss=0.00251]\n",
      "Epoch: 9/50: 100%|██████████| 83/83 [00:06<00:00, 12.58it/s, train_loss=0.00127, valid_loss=0.00292]\n",
      "Epoch: 10/50: 100%|██████████| 83/83 [00:07<00:00, 11.71it/s, train_loss=0.00125, valid_loss=0.00225]\n",
      "Epoch: 11/50: 100%|██████████| 83/83 [00:07<00:00, 10.96it/s, train_loss=0.000952, valid_loss=0.0023] \n",
      "Epoch: 12/50: 100%|██████████| 83/83 [00:07<00:00, 11.74it/s, train_loss=0.000969, valid_loss=0.00248]\n",
      "Epoch: 13/50: 100%|██████████| 83/83 [00:06<00:00, 12.61it/s, train_loss=0.000967, valid_loss=0.00249]\n",
      "Epoch: 14/50: 100%|██████████| 83/83 [00:07<00:00, 11.51it/s, train_loss=0.000933, valid_loss=0.0025] \n",
      "Epoch: 15/50: 100%|██████████| 83/83 [00:07<00:00, 11.74it/s, train_loss=0.000835, valid_loss=0.00249]\n"
     ]
    },
    {
     "name": "stdout",
     "output_type": "stream",
     "text": [
      "model config: batch_size-512, lr-0.005, number_epoch-50, hidden_dim-100, n_layers-2,drop_prob-0.4,weight_decay-1e-07\n",
      "cross-validation dataset 0\n"
     ]
    },
    {
     "name": "stderr",
     "output_type": "stream",
     "text": [
      "Epoch: 1/50: 100%|██████████| 9/9 [00:00<00:00, 11.48it/s, train_loss=0.108, valid_loss=0.175]\n",
      "Epoch: 2/50: 100%|██████████| 9/9 [00:00<00:00, 12.54it/s, train_loss=0.109, valid_loss=0.174]\n",
      "Epoch: 3/50: 100%|██████████| 9/9 [00:00<00:00, 15.27it/s, train_loss=0.102, valid_loss=0.176]\n",
      "Epoch: 4/50: 100%|██████████| 9/9 [00:00<00:00, 14.81it/s, train_loss=0.11, valid_loss=0.175] \n",
      "Epoch: 5/50: 100%|██████████| 9/9 [00:00<00:00, 14.13it/s, train_loss=0.106, valid_loss=0.176]\n",
      "Epoch: 6/50: 100%|██████████| 9/9 [00:00<00:00, 14.95it/s, train_loss=0.106, valid_loss=0.175]\n",
      "Epoch: 7/50: 100%|██████████| 9/9 [00:00<00:00, 13.06it/s, train_loss=0.114, valid_loss=0.176]\n",
      "Epoch: 8/50: 100%|██████████| 9/9 [00:00<00:00, 14.34it/s, train_loss=0.111, valid_loss=0.175]\n",
      "Epoch: 9/50: 100%|██████████| 9/9 [00:00<00:00, 16.10it/s, train_loss=0.108, valid_loss=0.174]\n",
      "Epoch: 10/50: 100%|██████████| 9/9 [00:00<00:00, 13.09it/s, train_loss=0.113, valid_loss=0.175]\n",
      "Epoch: 11/50: 100%|██████████| 9/9 [00:00<00:00, 18.50it/s, train_loss=0.108, valid_loss=0.176]\n",
      "Epoch: 12/50: 100%|██████████| 9/9 [00:00<00:00, 11.84it/s, train_loss=0.107, valid_loss=0.175]\n",
      "Epoch: 13/50: 100%|██████████| 9/9 [00:00<00:00, 15.34it/s, train_loss=0.11, valid_loss=0.176] \n",
      "Epoch: 14/50: 100%|██████████| 9/9 [00:00<00:00, 16.82it/s, train_loss=0.106, valid_loss=0.176]\n",
      "Epoch: 15/50: 100%|██████████| 9/9 [00:00<00:00, 16.30it/s, train_loss=0.109, valid_loss=0.175]\n",
      "Epoch: 16/50: 100%|██████████| 9/9 [00:00<00:00, 16.00it/s, train_loss=0.106, valid_loss=0.175]\n",
      "Epoch: 17/50: 100%|██████████| 9/9 [00:00<00:00, 16.67it/s, train_loss=0.104, valid_loss=0.173]\n",
      "Epoch: 18/50: 100%|██████████| 9/9 [00:00<00:00, 15.58it/s, train_loss=0.11, valid_loss=0.175] \n",
      "Epoch: 19/50: 100%|██████████| 9/9 [00:00<00:00, 16.62it/s, train_loss=0.109, valid_loss=0.175]\n",
      "Epoch: 20/50: 100%|██████████| 9/9 [00:00<00:00, 15.72it/s, train_loss=0.107, valid_loss=0.173]\n",
      "Epoch: 21/50: 100%|██████████| 9/9 [00:00<00:00, 18.97it/s, train_loss=0.106, valid_loss=0.174]\n",
      "Epoch: 22/50: 100%|██████████| 9/9 [00:00<00:00, 16.52it/s, train_loss=0.108, valid_loss=0.175]\n",
      "Epoch: 23/50: 100%|██████████| 9/9 [00:00<00:00, 13.18it/s, train_loss=0.108, valid_loss=0.174]\n",
      "Epoch: 24/50: 100%|██████████| 9/9 [00:00<00:00, 16.94it/s, train_loss=0.109, valid_loss=0.174]\n",
      "Epoch: 25/50: 100%|██████████| 9/9 [00:00<00:00, 16.07it/s, train_loss=0.105, valid_loss=0.173]\n",
      "Epoch: 26/50: 100%|██████████| 9/9 [00:00<00:00, 15.04it/s, train_loss=0.105, valid_loss=0.175]\n",
      "Epoch: 27/50: 100%|██████████| 9/9 [00:00<00:00, 14.37it/s, train_loss=0.107, valid_loss=0.174]\n",
      "Epoch: 28/50: 100%|██████████| 9/9 [00:00<00:00, 14.88it/s, train_loss=0.11, valid_loss=0.175] \n",
      "Epoch: 29/50: 100%|██████████| 9/9 [00:00<00:00, 15.83it/s, train_loss=0.107, valid_loss=0.176]\n",
      "Epoch: 30/50: 100%|██████████| 9/9 [00:00<00:00, 17.55it/s, train_loss=0.11, valid_loss=0.175] \n",
      "Epoch: 31/50: 100%|██████████| 9/9 [00:00<00:00, 12.89it/s, train_loss=0.107, valid_loss=0.177]\n",
      "Epoch: 32/50: 100%|██████████| 9/9 [00:00<00:00, 12.83it/s, train_loss=0.11, valid_loss=0.174] \n",
      "Epoch: 33/50: 100%|██████████| 9/9 [00:00<00:00, 15.75it/s, train_loss=0.107, valid_loss=0.175]\n",
      "Epoch: 34/50: 100%|██████████| 9/9 [00:00<00:00, 15.92it/s, train_loss=0.108, valid_loss=0.175]\n",
      "Epoch: 35/50: 100%|██████████| 9/9 [00:00<00:00, 16.29it/s, train_loss=0.11, valid_loss=0.174]\n",
      "Epoch: 36/50: 100%|██████████| 9/9 [00:00<00:00, 16.15it/s, train_loss=0.109, valid_loss=0.176]\n",
      "Epoch: 37/50: 100%|██████████| 9/9 [00:00<00:00, 15.90it/s, train_loss=0.113, valid_loss=0.174]\n",
      "Epoch: 38/50: 100%|██████████| 9/9 [00:00<00:00, 16.07it/s, train_loss=0.109, valid_loss=0.175]\n",
      "Epoch: 39/50: 100%|██████████| 9/9 [00:00<00:00, 10.13it/s, train_loss=0.109, valid_loss=0.175]\n"
     ]
    },
    {
     "name": "stdout",
     "output_type": "stream",
     "text": [
      "cross-validation dataset 0\n"
     ]
    },
    {
     "name": "stderr",
     "output_type": "stream",
     "text": [
      "Epoch: 1/50: 100%|██████████| 9/9 [00:00<00:00, 14.91it/s, train_loss=0.104, valid_loss=0.175]\n",
      "Epoch: 2/50: 100%|██████████| 9/9 [00:00<00:00, 14.09it/s, train_loss=0.109, valid_loss=0.175]\n",
      "Epoch: 3/50: 100%|██████████| 9/9 [00:00<00:00, 12.52it/s, train_loss=0.111, valid_loss=0.175]\n",
      "Epoch: 4/50: 100%|██████████| 9/9 [00:00<00:00, 14.44it/s, train_loss=0.105, valid_loss=0.175]\n",
      "Epoch: 5/50: 100%|██████████| 9/9 [00:00<00:00, 15.31it/s, train_loss=0.108, valid_loss=0.176]\n",
      "Epoch: 6/50: 100%|██████████| 9/9 [00:00<00:00, 15.02it/s, train_loss=0.105, valid_loss=0.176]\n",
      "Epoch: 7/50: 100%|██████████| 9/9 [00:00<00:00, 16.86it/s, train_loss=0.105, valid_loss=0.175]\n",
      "Epoch: 8/50: 100%|██████████| 9/9 [00:00<00:00, 12.30it/s, train_loss=0.113, valid_loss=0.176]\n",
      "Epoch: 9/50: 100%|██████████| 9/9 [00:00<00:00, 16.78it/s, train_loss=0.09, valid_loss=0.118] \n",
      "Epoch: 10/50: 100%|██████████| 9/9 [00:00<00:00, 16.85it/s, train_loss=0.0188, valid_loss=0.043] \n",
      "Epoch: 11/50: 100%|██████████| 9/9 [00:00<00:00, 16.65it/s, train_loss=0.0168, valid_loss=0.0397]\n",
      "Epoch: 12/50: 100%|██████████| 9/9 [00:00<00:00, 16.41it/s, train_loss=0.0154, valid_loss=0.0385]\n",
      "Epoch: 13/50: 100%|██████████| 9/9 [00:00<00:00, 15.58it/s, train_loss=0.0124, valid_loss=0.0484]\n",
      "Epoch: 14/50: 100%|██████████| 9/9 [00:00<00:00, 14.42it/s, train_loss=0.00647, valid_loss=0.0418]\n",
      "Epoch: 15/50: 100%|██████████| 9/9 [00:00<00:00, 15.08it/s, train_loss=0.00439, valid_loss=0.0256]\n",
      "Epoch: 16/50: 100%|██████████| 9/9 [00:00<00:00, 14.42it/s, train_loss=0.00335, valid_loss=0.0167]\n",
      "Epoch: 17/50: 100%|██████████| 9/9 [00:00<00:00, 15.62it/s, train_loss=0.00256, valid_loss=0.00738]\n",
      "Epoch: 18/50: 100%|██████████| 9/9 [00:00<00:00, 15.71it/s, train_loss=0.00232, valid_loss=0.00522]\n",
      "Epoch: 19/50: 100%|██████████| 9/9 [00:00<00:00, 15.10it/s, train_loss=0.00187, valid_loss=0.00404]\n",
      "Epoch: 20/50: 100%|██████████| 9/9 [00:00<00:00, 16.21it/s, train_loss=0.00172, valid_loss=0.00375]\n",
      "Epoch: 21/50: 100%|██████████| 9/9 [00:00<00:00, 16.77it/s, train_loss=0.0017, valid_loss=0.00494] \n",
      "Epoch: 22/50: 100%|██████████| 9/9 [00:00<00:00, 15.76it/s, train_loss=0.00168, valid_loss=0.00408]\n",
      "Epoch: 23/50: 100%|██████████| 9/9 [00:00<00:00, 13.90it/s, train_loss=0.00182, valid_loss=0.0046] \n",
      "Epoch: 24/50: 100%|██████████| 9/9 [00:00<00:00, 13.67it/s, train_loss=0.0017, valid_loss=0.0039] \n",
      "Epoch: 25/50: 100%|██████████| 9/9 [00:00<00:00, 15.54it/s, train_loss=0.00148, valid_loss=0.00534]\n",
      "Epoch: 26/50: 100%|██████████| 9/9 [00:00<00:00, 15.63it/s, train_loss=0.0016, valid_loss=0.0044]  \n",
      "Epoch: 27/50: 100%|██████████| 9/9 [00:00<00:00, 16.23it/s, train_loss=0.00156, valid_loss=0.00413]\n",
      "Epoch: 28/50: 100%|██████████| 9/9 [00:00<00:00, 16.66it/s, train_loss=0.00166, valid_loss=0.00458]\n",
      "Epoch: 29/50: 100%|██████████| 9/9 [00:00<00:00, 14.93it/s, train_loss=0.00175, valid_loss=0.00493]\n",
      "Epoch: 30/50: 100%|██████████| 9/9 [00:00<00:00, 15.82it/s, train_loss=0.00159, valid_loss=0.00614]\n",
      "Epoch: 31/50: 100%|██████████| 9/9 [00:00<00:00, 15.09it/s, train_loss=0.00153, valid_loss=0.00607]\n",
      "Epoch: 32/50: 100%|██████████| 9/9 [00:00<00:00, 13.92it/s, train_loss=0.00143, valid_loss=0.00513]\n",
      "Epoch: 33/50: 100%|██████████| 9/9 [00:00<00:00, 14.96it/s, train_loss=0.00153, valid_loss=0.00582]\n",
      "Epoch: 34/50: 100%|██████████| 9/9 [00:00<00:00, 11.38it/s, train_loss=0.00162, valid_loss=0.00514]\n",
      "Epoch: 35/50: 100%|██████████| 9/9 [00:00<00:00, 13.74it/s, train_loss=0.00138, valid_loss=0.0056] \n",
      "Epoch: 36/50: 100%|██████████| 9/9 [00:00<00:00, 14.27it/s, train_loss=0.00146, valid_loss=0.00681]\n",
      "Epoch: 37/50: 100%|██████████| 9/9 [00:00<00:00, 13.43it/s, train_loss=0.00144, valid_loss=0.00697]\n",
      "Epoch: 38/50: 100%|██████████| 9/9 [00:00<00:00, 14.21it/s, train_loss=0.00127, valid_loss=0.00718]\n",
      "Epoch: 39/50: 100%|██████████| 9/9 [00:00<00:00, 13.43it/s, train_loss=0.00136, valid_loss=0.00915]\n",
      "Epoch: 40/50: 100%|██████████| 9/9 [00:00<00:00, 12.62it/s, train_loss=0.00134, valid_loss=0.00954]\n",
      "Epoch: 41/50: 100%|██████████| 9/9 [00:00<00:00, 12.82it/s, train_loss=0.0012, valid_loss=0.00927]\n",
      "Epoch: 42/50: 100%|██████████| 9/9 [00:00<00:00, 21.21it/s, train_loss=0.00123, valid_loss=0.00973]\n",
      "Epoch: 43/50: 100%|██████████| 9/9 [00:00<00:00, 15.90it/s, train_loss=0.0011, valid_loss=0.011]  \n",
      "Epoch: 44/50: 100%|██████████| 9/9 [00:00<00:00, 15.90it/s, train_loss=0.00117, valid_loss=0.0116] \n",
      "Epoch: 45/50: 100%|██████████| 9/9 [00:00<00:00, 19.03it/s, train_loss=0.00126, valid_loss=0.0131]\n"
     ]
    },
    {
     "name": "stdout",
     "output_type": "stream",
     "text": [
      "cross-validation dataset 1\n"
     ]
    },
    {
     "name": "stderr",
     "output_type": "stream",
     "text": [
      "Epoch: 1/50: 100%|██████████| 17/17 [00:01<00:00, 16.01it/s, train_loss=0.0245, valid_loss=0.032] \n",
      "Epoch: 2/50: 100%|██████████| 17/17 [00:01<00:00, 15.82it/s, train_loss=0.0155, valid_loss=0.017] \n",
      "Epoch: 3/50: 100%|██████████| 17/17 [00:01<00:00, 14.30it/s, train_loss=0.00558, valid_loss=0.00477]\n",
      "Epoch: 4/50: 100%|██████████| 17/17 [00:01<00:00, 13.42it/s, train_loss=0.00328, valid_loss=0.00325]\n",
      "Epoch: 5/50: 100%|██████████| 17/17 [00:01<00:00, 14.77it/s, train_loss=0.00287, valid_loss=0.00228]\n",
      "Epoch: 6/50: 100%|██████████| 17/17 [00:01<00:00, 12.60it/s, train_loss=0.00279, valid_loss=0.00198]\n",
      "Epoch: 7/50: 100%|██████████| 17/17 [00:01<00:00, 15.72it/s, train_loss=0.00265, valid_loss=0.00188]\n",
      "Epoch: 8/50: 100%|██████████| 17/17 [00:01<00:00, 15.58it/s, train_loss=0.00262, valid_loss=0.00186]\n",
      "Epoch: 9/50: 100%|██████████| 17/17 [00:01<00:00, 14.90it/s, train_loss=0.00252, valid_loss=0.00167]\n",
      "Epoch: 10/50: 100%|██████████| 17/17 [00:01<00:00, 15.53it/s, train_loss=0.00234, valid_loss=0.00177]\n",
      "Epoch: 11/50: 100%|██████████| 17/17 [00:01<00:00, 15.38it/s, train_loss=0.00254, valid_loss=0.00162]\n",
      "Epoch: 12/50: 100%|██████████| 17/17 [00:01<00:00, 14.04it/s, train_loss=0.00174, valid_loss=0.00155]\n",
      "Epoch: 13/50: 100%|██████████| 17/17 [00:01<00:00, 15.21it/s, train_loss=0.0019, valid_loss=0.00172] \n",
      "Epoch: 14/50: 100%|██████████| 17/17 [00:00<00:00, 17.03it/s, train_loss=0.00225, valid_loss=0.00161]\n",
      "Epoch: 15/50: 100%|██████████| 17/17 [00:01<00:00, 15.73it/s, train_loss=0.00166, valid_loss=0.00134]\n",
      "Epoch: 16/50: 100%|██████████| 17/17 [00:01<00:00, 16.88it/s, train_loss=0.00172, valid_loss=0.00138]\n",
      "Epoch: 17/50: 100%|██████████| 17/17 [00:01<00:00, 14.21it/s, train_loss=0.0017, valid_loss=0.00144] \n",
      "Epoch: 18/50: 100%|██████████| 17/17 [00:01<00:00, 16.36it/s, train_loss=0.00165, valid_loss=0.00146]\n",
      "Epoch: 19/50: 100%|██████████| 17/17 [00:01<00:00, 15.24it/s, train_loss=0.0016, valid_loss=0.00132] \n",
      "Epoch: 20/50: 100%|██████████| 17/17 [00:01<00:00, 15.18it/s, train_loss=0.00161, valid_loss=0.00127]\n",
      "Epoch: 21/50: 100%|██████████| 17/17 [00:01<00:00, 16.69it/s, train_loss=0.00157, valid_loss=0.00141]\n",
      "Epoch: 22/50: 100%|██████████| 17/17 [00:01<00:00, 12.52it/s, train_loss=0.00162, valid_loss=0.00136]\n",
      "Epoch: 23/50: 100%|██████████| 17/17 [00:01<00:00, 13.38it/s, train_loss=0.00151, valid_loss=0.00131]\n",
      "Epoch: 24/50: 100%|██████████| 17/17 [00:01<00:00, 15.82it/s, train_loss=0.00141, valid_loss=0.00134]\n",
      "Epoch: 25/50: 100%|██████████| 17/17 [00:01<00:00, 15.63it/s, train_loss=0.00143, valid_loss=0.00167]\n",
      "Epoch: 26/50: 100%|██████████| 17/17 [00:01<00:00, 15.89it/s, train_loss=0.00135, valid_loss=0.00159]\n",
      "Epoch: 27/50: 100%|██████████| 17/17 [00:01<00:00, 15.55it/s, train_loss=0.00136, valid_loss=0.00139]\n",
      "Epoch: 28/50: 100%|██████████| 17/17 [00:01<00:00, 14.12it/s, train_loss=0.00137, valid_loss=0.00144]\n",
      "Epoch: 29/50: 100%|██████████| 17/17 [00:01<00:00, 15.55it/s, train_loss=0.00132, valid_loss=0.00132]\n",
      "Epoch: 30/50: 100%|██████████| 17/17 [00:01<00:00, 14.97it/s, train_loss=0.00133, valid_loss=0.00144]\n",
      "Epoch: 31/50: 100%|██████████| 17/17 [00:01<00:00, 15.41it/s, train_loss=0.00121, valid_loss=0.00136]\n",
      "Epoch: 32/50: 100%|██████████| 17/17 [00:00<00:00, 18.32it/s, train_loss=0.00129, valid_loss=0.00138]\n",
      "Epoch: 33/50: 100%|██████████| 17/17 [00:01<00:00, 14.56it/s, train_loss=0.00129, valid_loss=0.00138]\n",
      "Epoch: 34/50: 100%|██████████| 17/17 [00:01<00:00, 14.91it/s, train_loss=0.00112, valid_loss=0.00151]\n",
      "Epoch: 35/50: 100%|██████████| 17/17 [00:00<00:00, 17.07it/s, train_loss=0.00106, valid_loss=0.00147]\n"
     ]
    },
    {
     "name": "stdout",
     "output_type": "stream",
     "text": [
      "cross-validation dataset 2\n"
     ]
    },
    {
     "name": "stderr",
     "output_type": "stream",
     "text": [
      "Epoch: 1/50: 100%|██████████| 25/25 [00:01<00:00, 16.46it/s, train_loss=0.0224, valid_loss=0.0309]\n",
      "Epoch: 2/50: 100%|██████████| 25/25 [00:01<00:00, 14.39it/s, train_loss=0.00567, valid_loss=0.012] \n",
      "Epoch: 3/50: 100%|██████████| 25/25 [00:01<00:00, 16.55it/s, train_loss=0.00323, valid_loss=0.0038] \n",
      "Epoch: 4/50: 100%|██████████| 25/25 [00:01<00:00, 17.30it/s, train_loss=0.00231, valid_loss=0.00322]\n",
      "Epoch: 5/50: 100%|██████████| 25/25 [00:01<00:00, 16.43it/s, train_loss=0.0023, valid_loss=0.00332] \n",
      "Epoch: 6/50: 100%|██████████| 25/25 [00:01<00:00, 15.57it/s, train_loss=0.00225, valid_loss=0.00297]\n",
      "Epoch: 7/50: 100%|██████████| 25/25 [00:01<00:00, 15.88it/s, train_loss=0.00196, valid_loss=0.00294]\n",
      "Epoch: 8/50: 100%|██████████| 25/25 [00:01<00:00, 15.78it/s, train_loss=0.00201, valid_loss=0.00338]\n",
      "Epoch: 9/50: 100%|██████████| 25/25 [00:01<00:00, 16.69it/s, train_loss=0.00192, valid_loss=0.00276]\n",
      "Epoch: 10/50: 100%|██████████| 25/25 [00:01<00:00, 16.30it/s, train_loss=0.00174, valid_loss=0.00288]\n",
      "Epoch: 11/50: 100%|██████████| 25/25 [00:01<00:00, 16.44it/s, train_loss=0.00165, valid_loss=0.00315]\n",
      "Epoch: 12/50: 100%|██████████| 25/25 [00:01<00:00, 17.75it/s, train_loss=0.00158, valid_loss=0.00247]\n",
      "Epoch: 13/50: 100%|██████████| 25/25 [00:01<00:00, 16.42it/s, train_loss=0.00165, valid_loss=0.00258]\n",
      "Epoch: 14/50: 100%|██████████| 25/25 [00:01<00:00, 13.50it/s, train_loss=0.00129, valid_loss=0.00306]\n",
      "Epoch: 15/50: 100%|██████████| 25/25 [00:01<00:00, 12.77it/s, train_loss=0.00167, valid_loss=0.00262]IOPub message rate exceeded.\n",
      "The notebook server will temporarily stop sending output\n",
      "to the client in order to avoid crashing it.\n",
      "To change this limit, set the config variable\n",
      "`--NotebookApp.iopub_msg_rate_limit`.\n",
      "\n",
      "Current values:\n",
      "NotebookApp.iopub_msg_rate_limit=1000.0 (msgs/sec)\n",
      "NotebookApp.rate_limit_window=3.0 (secs)\n",
      "\n",
      "Epoch: 14/50: 100%|██████████| 17/17 [00:02<00:00,  7.60it/s, train_loss=0.00183, valid_loss=0.00729]\n",
      "Epoch: 15/50: 100%|██████████| 17/17 [00:02<00:00,  8.37it/s, train_loss=0.00172, valid_loss=0.00638]\n",
      "Epoch: 16/50: 100%|██████████| 17/17 [00:02<00:00,  8.27it/s, train_loss=0.0016, valid_loss=0.00694] \n",
      "Epoch: 17/50: 100%|██████████| 17/17 [00:02<00:00,  8.20it/s, train_loss=0.00172, valid_loss=0.00995]\n",
      "Epoch: 18/50: 100%|██████████| 17/17 [00:02<00:00,  7.96it/s, train_loss=0.00158, valid_loss=0.0105] \n",
      "Epoch: 19/50: 100%|██████████| 17/17 [00:02<00:00,  8.18it/s, train_loss=0.00154, valid_loss=0.00994]\n",
      "Epoch: 20/50: 100%|██████████| 17/17 [00:02<00:00,  8.49it/s, train_loss=0.0014, valid_loss=0.0115] \n",
      "Epoch: 21/50: 100%|██████████| 17/17 [00:01<00:00,  8.66it/s, train_loss=0.00155, valid_loss=0.0118]\n",
      "Epoch: 22/50: 100%|██████████| 17/17 [00:02<00:00,  8.18it/s, train_loss=0.00133, valid_loss=0.0135]\n"
     ]
    },
    {
     "name": "stdout",
     "output_type": "stream",
     "text": [
      "cross-validation dataset 1\n"
     ]
    },
    {
     "name": "stderr",
     "output_type": "stream",
     "text": [
      "Epoch: 1/50: 100%|██████████| 33/33 [00:03<00:00,  8.94it/s, train_loss=0.143, valid_loss=0.162]\n",
      "Epoch: 2/50: 100%|██████████| 33/33 [00:03<00:00,  8.75it/s, train_loss=0.145, valid_loss=0.163]\n",
      "Epoch: 3/50: 100%|██████████| 33/33 [00:03<00:00,  8.37it/s, train_loss=0.131, valid_loss=0.163]\n",
      "Epoch: 4/50: 100%|██████████| 33/33 [00:04<00:00,  7.88it/s, train_loss=0.135, valid_loss=0.163]\n",
      "Epoch: 5/50: 100%|██████████| 33/33 [00:03<00:00,  8.65it/s, train_loss=0.137, valid_loss=0.162]\n",
      "Epoch: 6/50: 100%|██████████| 33/33 [00:04<00:00,  7.72it/s, train_loss=0.145, valid_loss=0.162]\n",
      "Epoch: 7/50: 100%|██████████| 33/33 [00:04<00:00,  7.25it/s, train_loss=0.144, valid_loss=0.162]\n",
      "Epoch: 8/50: 100%|██████████| 33/33 [00:04<00:00,  7.75it/s, train_loss=0.152, valid_loss=0.163]\n",
      "Epoch: 9/50: 100%|██████████| 33/33 [00:04<00:00,  7.87it/s, train_loss=0.14, valid_loss=0.163] \n",
      "Epoch: 10/50: 100%|██████████| 33/33 [00:03<00:00,  8.80it/s, train_loss=0.15, valid_loss=0.163] \n",
      "Epoch: 11/50: 100%|██████████| 33/33 [00:04<00:00,  8.07it/s, train_loss=0.149, valid_loss=0.162]\n",
      "Epoch: 12/50: 100%|██████████| 33/33 [00:04<00:00,  7.62it/s, train_loss=0.148, valid_loss=0.162]\n",
      "Epoch: 13/50: 100%|██████████| 33/33 [00:04<00:00,  8.05it/s, train_loss=0.145, valid_loss=0.163]\n",
      "Epoch: 14/50: 100%|██████████| 33/33 [00:04<00:00,  7.14it/s, train_loss=0.148, valid_loss=0.163]\n"
     ]
    },
    {
     "name": "stdout",
     "output_type": "stream",
     "text": [
      "cross-validation dataset 1\n"
     ]
    },
    {
     "name": "stderr",
     "output_type": "stream",
     "text": [
      "Epoch: 1/50: 100%|██████████| 33/33 [00:03<00:00,  8.43it/s, train_loss=0.0251, valid_loss=0.0282]\n",
      "Epoch: 2/50: 100%|██████████| 33/33 [00:04<00:00,  7.81it/s, train_loss=0.0103, valid_loss=0.00726]\n",
      "Epoch: 3/50: 100%|██████████| 33/33 [00:04<00:00,  7.68it/s, train_loss=0.0042, valid_loss=0.00283] \n",
      "Epoch: 4/50: 100%|██████████| 33/33 [00:03<00:00,  8.77it/s, train_loss=0.0027, valid_loss=0.00232] \n",
      "Epoch: 5/50: 100%|██████████| 33/33 [00:03<00:00,  8.28it/s, train_loss=0.00278, valid_loss=0.00185]\n",
      "Epoch: 6/50: 100%|██████████| 33/33 [00:03<00:00,  8.93it/s, train_loss=0.00295, valid_loss=0.00186]\n",
      "Epoch: 7/50: 100%|██████████| 33/33 [00:03<00:00,  9.13it/s, train_loss=0.00239, valid_loss=0.00255]\n",
      "Epoch: 8/50: 100%|██████████| 33/33 [00:04<00:00,  7.77it/s, train_loss=0.00274, valid_loss=0.00176]\n",
      "Epoch: 9/50: 100%|██████████| 33/33 [00:04<00:00,  7.74it/s, train_loss=0.00181, valid_loss=0.00163]\n",
      "Epoch: 10/50: 100%|██████████| 33/33 [00:04<00:00,  8.09it/s, train_loss=0.00189, valid_loss=0.00169]\n",
      "Epoch: 11/50: 100%|██████████| 33/33 [00:04<00:00,  7.33it/s, train_loss=0.00174, valid_loss=0.00153]\n",
      "Epoch: 12/50: 100%|██████████| 33/33 [00:03<00:00,  8.51it/s, train_loss=0.00171, valid_loss=0.00139]\n",
      "Epoch: 13/50: 100%|██████████| 33/33 [00:04<00:00,  7.94it/s, train_loss=0.00218, valid_loss=0.00136]\n",
      "Epoch: 14/50: 100%|██████████| 33/33 [00:04<00:00,  7.44it/s, train_loss=0.00177, valid_loss=0.0013] \n",
      "Epoch: 15/50: 100%|██████████| 33/33 [00:03<00:00,  8.43it/s, train_loss=0.00145, valid_loss=0.00126]\n",
      "Epoch: 16/50: 100%|██████████| 33/33 [00:03<00:00,  8.27it/s, train_loss=0.00171, valid_loss=0.00139]\n",
      "Epoch: 17/50: 100%|██████████| 33/33 [00:04<00:00,  8.07it/s, train_loss=0.00209, valid_loss=0.00154]\n",
      "Epoch: 18/50: 100%|██████████| 33/33 [00:03<00:00,  8.39it/s, train_loss=0.00141, valid_loss=0.00146]\n",
      "Epoch: 19/50: 100%|██████████| 33/33 [00:03<00:00,  8.40it/s, train_loss=0.00147, valid_loss=0.00129]\n",
      "Epoch: 20/50: 100%|██████████| 33/33 [00:03<00:00,  8.50it/s, train_loss=0.00204, valid_loss=0.00142]\n",
      "Epoch: 21/50: 100%|██████████| 33/33 [00:03<00:00,  8.47it/s, train_loss=0.00145, valid_loss=0.00147]\n",
      "Epoch: 22/50: 100%|██████████| 33/33 [00:03<00:00,  8.37it/s, train_loss=0.00157, valid_loss=0.00138]\n",
      "Epoch: 23/50: 100%|██████████| 33/33 [00:03<00:00,  8.89it/s, train_loss=0.00133, valid_loss=0.0015] \n"
     ]
    },
    {
     "name": "stdout",
     "output_type": "stream",
     "text": [
      "cross-validation dataset 2\n"
     ]
    },
    {
     "name": "stderr",
     "output_type": "stream",
     "text": [
      "Epoch: 1/50: 100%|██████████| 50/50 [00:05<00:00,  8.43it/s, train_loss=0.0288, valid_loss=0.034] \n",
      "Epoch: 2/50: 100%|██████████| 50/50 [00:05<00:00,  9.41it/s, train_loss=0.00596, valid_loss=0.0112]\n",
      "Epoch: 3/50: 100%|██████████| 50/50 [00:06<00:00,  7.84it/s, train_loss=0.00286, valid_loss=0.00415]\n",
      "Epoch: 4/50: 100%|██████████| 50/50 [00:05<00:00,  8.50it/s, train_loss=0.00264, valid_loss=0.00415]\n",
      "Epoch: 5/50: 100%|██████████| 50/50 [00:06<00:00,  7.92it/s, train_loss=0.00215, valid_loss=0.0031] \n",
      "Epoch: 6/50: 100%|██████████| 50/50 [00:06<00:00,  7.87it/s, train_loss=0.00179, valid_loss=0.0031] \n",
      "Epoch: 7/50: 100%|██████████| 50/50 [00:06<00:00,  7.96it/s, train_loss=0.00183, valid_loss=0.00311]\n",
      "Epoch: 8/50: 100%|██████████| 50/50 [00:06<00:00,  7.93it/s, train_loss=0.00137, valid_loss=0.00308]\n",
      "Epoch: 9/50: 100%|██████████| 50/50 [00:06<00:00,  8.12it/s, train_loss=0.00156, valid_loss=0.00345]\n",
      "Epoch: 10/50: 100%|██████████| 50/50 [00:06<00:00,  8.07it/s, train_loss=0.00156, valid_loss=0.00268]\n",
      "Epoch: 11/50: 100%|██████████| 50/50 [00:06<00:00,  7.68it/s, train_loss=0.00106, valid_loss=0.00262]\n",
      "Epoch: 12/50: 100%|██████████| 50/50 [00:05<00:00,  8.54it/s, train_loss=0.00171, valid_loss=0.00259]\n",
      "Epoch: 13/50: 100%|██████████| 50/50 [00:06<00:00,  7.86it/s, train_loss=0.00125, valid_loss=0.00295]\n",
      "Epoch: 14/50: 100%|██████████| 50/50 [00:06<00:00,  8.20it/s, train_loss=0.00153, valid_loss=0.00301]\n",
      "Epoch: 15/50: 100%|██████████| 50/50 [00:05<00:00,  9.06it/s, train_loss=0.00115, valid_loss=0.00281]\n",
      "Epoch: 16/50: 100%|██████████| 50/50 [00:05<00:00,  8.77it/s, train_loss=0.00113, valid_loss=0.00276]\n",
      "Epoch: 17/50: 100%|██████████| 50/50 [00:05<00:00,  8.40it/s, train_loss=0.00161, valid_loss=0.00444]\n",
      "Epoch: 18/50: 100%|██████████| 50/50 [00:05<00:00,  9.21it/s, train_loss=0.000981, valid_loss=0.0032] \n"
     ]
    },
    {
     "name": "stdout",
     "output_type": "stream",
     "text": [
      "cross-validation dataset 3\n"
     ]
    },
    {
     "name": "stderr",
     "output_type": "stream",
     "text": [
      "Epoch: 1/50: 100%|██████████| 66/66 [00:07<00:00,  8.50it/s, train_loss=0.0151, valid_loss=0.0047] \n",
      "Epoch: 2/50: 100%|██████████| 66/66 [00:07<00:00,  8.65it/s, train_loss=0.00357, valid_loss=0.00209]\n",
      "Epoch: 3/50: 100%|██████████| 66/66 [00:07<00:00,  8.86it/s, train_loss=0.00264, valid_loss=0.00278]\n",
      "Epoch: 4/50: 100%|██████████| 66/66 [00:07<00:00,  8.58it/s, train_loss=0.0028, valid_loss=0.00206] \n",
      "Epoch: 5/50: 100%|██████████| 66/66 [00:07<00:00,  8.53it/s, train_loss=0.00404, valid_loss=0.00214]\n",
      "Epoch: 6/50: 100%|██████████| 66/66 [00:08<00:00,  8.12it/s, train_loss=0.0058, valid_loss=0.00309] \n",
      "Epoch: 7/50: 100%|██████████| 66/66 [00:08<00:00,  7.41it/s, train_loss=0.00264, valid_loss=0.00131]\n",
      "Epoch: 8/50: 100%|██████████| 66/66 [00:08<00:00,  7.38it/s, train_loss=0.00253, valid_loss=0.00107]\n",
      "Epoch: 9/50: 100%|██████████| 66/66 [00:09<00:00,  7.11it/s, train_loss=0.00176, valid_loss=0.00101] \n",
      "Epoch: 10/50: 100%|██████████| 66/66 [00:08<00:00,  7.77it/s, train_loss=0.00171, valid_loss=0.00155] \n",
      "Epoch: 11/50: 100%|██████████| 66/66 [00:07<00:00,  8.78it/s, train_loss=0.00195, valid_loss=0.00107] \n",
      "Epoch: 12/50: 100%|██████████| 66/66 [00:07<00:00,  8.37it/s, train_loss=0.0017, valid_loss=0.00106]  \n",
      "Epoch: 13/50: 100%|██████████| 66/66 [00:07<00:00,  8.93it/s, train_loss=0.00174, valid_loss=0.0013]  \n",
      "Epoch: 14/50: 100%|██████████| 66/66 [00:07<00:00,  8.60it/s, train_loss=0.0016, valid_loss=0.000921] \n",
      "Epoch: 15/50: 100%|██████████| 66/66 [00:08<00:00,  8.04it/s, train_loss=0.00343, valid_loss=0.00109] \n",
      "Epoch: 16/50: 100%|██████████| 66/66 [00:07<00:00,  8.40it/s, train_loss=0.00171, valid_loss=0.00147] \n",
      "Epoch: 17/50:  23%|██▎       | 15/66 [00:01<00:05, 10.17it/s, train_loss=0.00145, valid_loss=0.00117]IOPub message rate exceeded.\n",
      "The notebook server will temporarily stop sending output\n",
      "to the client in order to avoid crashing it.\n",
      "To change this limit, set the config variable\n",
      "`--NotebookApp.iopub_msg_rate_limit`.\n",
      "\n",
      "Current values:\n",
      "NotebookApp.iopub_msg_rate_limit=1000.0 (msgs/sec)\n",
      "NotebookApp.rate_limit_window=3.0 (secs)\n",
      "\n",
      "\n",
      "Epoch: 2/50: 100%|██████████| 33/33 [00:04<00:00,  7.64it/s, train_loss=0.00519, valid_loss=0.00472]\n",
      "Epoch: 3/50: 100%|██████████| 33/33 [00:03<00:00,  8.80it/s, train_loss=0.00333, valid_loss=0.00248]\n",
      "Epoch: 4/50: 100%|██████████| 33/33 [00:04<00:00,  7.81it/s, train_loss=0.00218, valid_loss=0.00243]\n",
      "Epoch: 5/50: 100%|██████████| 33/33 [00:03<00:00,  8.74it/s, train_loss=0.00248, valid_loss=0.00186]\n",
      "Epoch: 6/50: 100%|██████████| 33/33 [00:04<00:00,  7.99it/s, train_loss=0.00262, valid_loss=0.00169]\n",
      "Epoch: 7/50: 100%|██████████| 33/33 [00:04<00:00,  7.62it/s, train_loss=0.00206, valid_loss=0.00164]\n",
      "Epoch: 8/50: 100%|██████████| 33/33 [00:04<00:00,  7.94it/s, train_loss=0.00256, valid_loss=0.00152]\n",
      "Epoch: 9/50: 100%|██████████| 33/33 [00:03<00:00,  8.81it/s, train_loss=0.00207, valid_loss=0.00156]\n",
      "Epoch: 10/50: 100%|██████████| 33/33 [00:03<00:00,  8.60it/s, train_loss=0.00173, valid_loss=0.0014] \n",
      "Epoch: 11/50: 100%|██████████| 33/33 [00:03<00:00,  8.48it/s, train_loss=0.00195, valid_loss=0.00159]\n",
      "Epoch: 12/50: 100%|██████████| 33/33 [00:03<00:00,  8.30it/s, train_loss=0.00218, valid_loss=0.00131]\n",
      "Epoch: 13/50: 100%|██████████| 33/33 [00:04<00:00,  7.77it/s, train_loss=0.00173, valid_loss=0.00124]\n",
      "Epoch: 14/50: 100%|██████████| 33/33 [00:04<00:00,  7.34it/s, train_loss=0.00181, valid_loss=0.00131]\n",
      "Epoch: 15/50: 100%|██████████| 33/33 [00:04<00:00,  7.13it/s, train_loss=0.00142, valid_loss=0.00136]\n",
      "Epoch: 16/50: 100%|██████████| 33/33 [00:04<00:00,  7.78it/s, train_loss=0.00137, valid_loss=0.00127]\n",
      "Epoch: 17/50: 100%|██████████| 33/33 [00:03<00:00,  8.78it/s, train_loss=0.00141, valid_loss=0.00142]\n",
      "Epoch: 18/50: 100%|██████████| 33/33 [00:03<00:00,  8.76it/s, train_loss=0.00137, valid_loss=0.00157]\n",
      "Epoch: 19/50: 100%|██████████| 33/33 [00:04<00:00,  7.61it/s, train_loss=0.00125, valid_loss=0.00146]\n",
      "Epoch: 20/50: 100%|██████████| 33/33 [00:04<00:00,  7.52it/s, train_loss=0.00107, valid_loss=0.00162]\n",
      "Epoch: 21/50: 100%|██████████| 33/33 [00:04<00:00,  7.66it/s, train_loss=0.00123, valid_loss=0.00139]\n"
     ]
    },
    {
     "name": "stdout",
     "output_type": "stream",
     "text": [
      "cross-validation dataset 2\n"
     ]
    },
    {
     "name": "stderr",
     "output_type": "stream",
     "text": [
      "Epoch: 1/50: 100%|██████████| 50/50 [00:05<00:00,  9.11it/s, train_loss=0.00952, valid_loss=0.015]\n",
      "Epoch: 2/50: 100%|██████████| 50/50 [00:05<00:00,  9.22it/s, train_loss=0.0042, valid_loss=0.00374] \n",
      "Epoch: 3/50: 100%|██████████| 50/50 [00:05<00:00,  9.13it/s, train_loss=0.00266, valid_loss=0.00331]\n",
      "Epoch: 4/50: 100%|██████████| 50/50 [00:05<00:00,  9.29it/s, train_loss=0.002, valid_loss=0.00295]  \n",
      "Epoch: 5/50: 100%|██████████| 50/50 [00:05<00:00,  9.09it/s, train_loss=0.00233, valid_loss=0.00294]\n",
      "Epoch: 6/50: 100%|██████████| 50/50 [00:05<00:00,  9.40it/s, train_loss=0.00226, valid_loss=0.00315]\n",
      "Epoch: 7/50: 100%|██████████| 50/50 [00:06<00:00,  8.19it/s, train_loss=0.00186, valid_loss=0.00288]\n",
      "Epoch: 8/50: 100%|██████████| 50/50 [00:06<00:00,  8.09it/s, train_loss=0.00182, valid_loss=0.00278]\n",
      "Epoch: 9/50: 100%|██████████| 50/50 [00:06<00:00,  7.98it/s, train_loss=0.00172, valid_loss=0.00284]\n",
      "Epoch: 10/50: 100%|██████████| 50/50 [00:06<00:00,  8.21it/s, train_loss=0.00146, valid_loss=0.00321]\n",
      "Epoch: 11/50: 100%|██████████| 50/50 [00:06<00:00,  8.07it/s, train_loss=0.00149, valid_loss=0.00335]\n",
      "Epoch: 12/50: 100%|██████████| 50/50 [00:05<00:00,  8.51it/s, train_loss=0.00211, valid_loss=0.0036] \n",
      "Epoch: 13/50: 100%|██████████| 50/50 [00:05<00:00,  8.96it/s, train_loss=0.00156, valid_loss=0.00303]\n",
      "Epoch: 14/50: 100%|██████████| 50/50 [00:05<00:00,  8.42it/s, train_loss=0.00148, valid_loss=0.0031] \n",
      "Epoch: 15/50: 100%|██████████| 50/50 [00:05<00:00,  8.80it/s, train_loss=0.00131, valid_loss=0.0034] \n",
      "Epoch: 16/50: 100%|██████████| 50/50 [00:05<00:00,  9.08it/s, train_loss=0.00152, valid_loss=0.00306]\n",
      "Epoch: 17/50: 100%|██████████| 50/50 [00:05<00:00,  8.87it/s, train_loss=0.00135, valid_loss=0.00402]\n",
      "Epoch: 18/50: 100%|██████████| 50/50 [00:05<00:00,  8.73it/s, train_loss=0.00109, valid_loss=0.00321]\n",
      "Epoch: 19/50: 100%|██████████| 50/50 [00:05<00:00,  8.50it/s, train_loss=0.00119, valid_loss=0.00328]\n",
      "Epoch: 20/50: 100%|██████████| 50/50 [00:05<00:00,  8.61it/s, train_loss=0.0011, valid_loss=0.00348] \n",
      "Epoch: 21/50: 100%|██████████| 50/50 [00:05<00:00,  9.00it/s, train_loss=0.00127, valid_loss=0.00348] \n"
     ]
    },
    {
     "name": "stdout",
     "output_type": "stream",
     "text": [
      "cross-validation dataset 3\n"
     ]
    },
    {
     "name": "stderr",
     "output_type": "stream",
     "text": [
      "Epoch: 1/50: 100%|██████████| 66/66 [00:08<00:00,  7.80it/s, train_loss=0.00443, valid_loss=0.00596]\n",
      "Epoch: 2/50: 100%|██████████| 66/66 [00:08<00:00,  7.69it/s, train_loss=0.00263, valid_loss=0.0017] \n",
      "Epoch: 3/50: 100%|██████████| 66/66 [00:08<00:00,  7.53it/s, train_loss=0.00215, valid_loss=0.00134]\n",
      "Epoch: 4/50: 100%|██████████| 66/66 [00:07<00:00,  8.71it/s, train_loss=0.00196, valid_loss=0.00122]\n",
      "Epoch: 5/50: 100%|██████████| 66/66 [00:07<00:00,  8.68it/s, train_loss=0.00175, valid_loss=0.00128] \n",
      "Epoch: 6/50: 100%|██████████| 66/66 [00:07<00:00,  8.42it/s, train_loss=0.00142, valid_loss=0.00105] \n",
      "Epoch: 7/50: 100%|██████████| 66/66 [00:07<00:00,  8.81it/s, train_loss=0.0016, valid_loss=0.00113]  \n",
      "Epoch: 8/50: 100%|██████████| 66/66 [00:07<00:00,  8.63it/s, train_loss=0.0017, valid_loss=0.000851] \n",
      "Epoch: 9/50: 100%|██████████| 66/66 [00:07<00:00,  8.84it/s, train_loss=0.00164, valid_loss=0.00159] \n",
      "Epoch: 10/50: 100%|██████████| 66/66 [00:07<00:00,  8.59it/s, train_loss=0.00158, valid_loss=0.0011]  \n",
      "Epoch: 11/50: 100%|██████████| 66/66 [00:08<00:00,  8.20it/s, train_loss=0.00133, valid_loss=0.00132] \n",
      "Epoch: 12/50: 100%|██████████| 66/66 [00:08<00:00,  7.79it/s, train_loss=0.00122, valid_loss=0.000995]\n",
      "Epoch: 13/50: 100%|██████████| 66/66 [00:07<00:00,  8.35it/s, train_loss=0.00154, valid_loss=0.00103]  \n",
      "Epoch: 14/50: 100%|██████████| 66/66 [00:07<00:00,  8.46it/s, train_loss=0.00132, valid_loss=0.000933] \n",
      "Epoch: 15/50: 100%|██████████| 66/66 [00:08<00:00,  8.23it/s, train_loss=0.00119, valid_loss=0.000854] \n",
      "Epoch: 16/50: 100%|██████████| 66/66 [00:08<00:00,  7.52it/s, train_loss=0.000889, valid_loss=0.000838]\n"
     ]
    },
    {
     "name": "stdout",
     "output_type": "stream",
     "text": [
      "cross-validation dataset 4\n"
     ]
    },
    {
     "name": "stderr",
     "output_type": "stream",
     "text": [
      "Epoch: 1/50: 100%|██████████| 83/83 [00:10<00:00,  8.06it/s, train_loss=0.00247, valid_loss=0.00348]\n",
      "Epoch: 2/50: 100%|██████████| 83/83 [00:10<00:00,  7.73it/s, train_loss=0.0022, valid_loss=0.00279] \n",
      "Epoch: 3/50: 100%|██████████| 83/83 [00:10<00:00,  8.08it/s, train_loss=0.0015, valid_loss=0.00263] \n",
      "Epoch: 4/50: 100%|██████████| 83/83 [00:10<00:00,  8.02it/s, train_loss=0.00155, valid_loss=0.00265]\n",
      "Epoch: 5/50: 100%|██████████| 83/83 [00:10<00:00,  8.16it/s, train_loss=0.00129, valid_loss=0.00269]\n",
      "Epoch: 6/50: 100%|██████████| 83/83 [00:09<00:00,  8.56it/s, train_loss=0.00172, valid_loss=0.0025] \n",
      "Epoch: 7/50: 100%|██████████| 83/83 [00:09<00:00,  9.01it/s, train_loss=0.00173, valid_loss=0.00258]\n",
      "Epoch: 8/50:  89%|████████▉ | 74/83 [00:09<00:00, 10.28it/s, train_loss=0.00122, valid_loss=0.00274]IOPub message rate exceeded.\n",
      "The notebook server will temporarily stop sending output\n",
      "to the client in order to avoid crashing it.\n",
      "To change this limit, set the config variable\n",
      "`--NotebookApp.iopub_msg_rate_limit`.\n",
      "\n",
      "Current values:\n",
      "NotebookApp.iopub_msg_rate_limit=1000.0 (msgs/sec)\n",
      "NotebookApp.rate_limit_window=3.0 (secs)\n",
      "\n"
     ]
    }
   ],
   "source": [
    "records = run_model_hpo()"
   ]
  },
  {
   "cell_type": "markdown",
   "id": "dda7f706",
   "metadata": {
    "ExecuteTime": {
     "end_time": "2021-12-22T08:52:06.844501Z",
     "start_time": "2021-12-22T08:52:06.830928Z"
    }
   },
   "source": [
    "## find the best hyper-parameters"
   ]
  },
  {
   "cell_type": "code",
   "execution_count": 21,
   "id": "7927c9ad",
   "metadata": {
    "ExecuteTime": {
     "end_time": "2021-12-26T04:58:38.397895Z",
     "start_time": "2021-12-26T04:58:38.372820Z"
    }
   },
   "outputs": [
    {
     "data": {
      "text/html": [
       "<div>\n",
       "<style scoped>\n",
       "    .dataframe tbody tr th:only-of-type {\n",
       "        vertical-align: middle;\n",
       "    }\n",
       "\n",
       "    .dataframe tbody tr th {\n",
       "        vertical-align: top;\n",
       "    }\n",
       "\n",
       "    .dataframe thead th {\n",
       "        text-align: right;\n",
       "    }\n",
       "</style>\n",
       "<table border=\"1\" class=\"dataframe\">\n",
       "  <thead>\n",
       "    <tr style=\"text-align: right;\">\n",
       "      <th></th>\n",
       "      <th>batch_size</th>\n",
       "      <th>lr</th>\n",
       "      <th>number_epoch</th>\n",
       "      <th>hidden_dim</th>\n",
       "      <th>n_layers</th>\n",
       "      <th>drop_prob</th>\n",
       "      <th>weight_decay</th>\n",
       "      <th>valid_loss</th>\n",
       "    </tr>\n",
       "  </thead>\n",
       "  <tbody>\n",
       "    <tr>\n",
       "      <th>23</th>\n",
       "      <td>512</td>\n",
       "      <td>0.005</td>\n",
       "      <td>50</td>\n",
       "      <td>100</td>\n",
       "      <td>2</td>\n",
       "      <td>0.4</td>\n",
       "      <td>1.000000e-07</td>\n",
       "      <td>0.002107</td>\n",
       "    </tr>\n",
       "    <tr>\n",
       "      <th>28</th>\n",
       "      <td>256</td>\n",
       "      <td>0.010</td>\n",
       "      <td>50</td>\n",
       "      <td>100</td>\n",
       "      <td>2</td>\n",
       "      <td>0.4</td>\n",
       "      <td>1.000000e-08</td>\n",
       "      <td>0.002157</td>\n",
       "    </tr>\n",
       "    <tr>\n",
       "      <th>9</th>\n",
       "      <td>256</td>\n",
       "      <td>0.010</td>\n",
       "      <td>50</td>\n",
       "      <td>100</td>\n",
       "      <td>2</td>\n",
       "      <td>0.6</td>\n",
       "      <td>1.000000e-08</td>\n",
       "      <td>0.002187</td>\n",
       "    </tr>\n",
       "    <tr>\n",
       "      <th>6</th>\n",
       "      <td>256</td>\n",
       "      <td>0.001</td>\n",
       "      <td>50</td>\n",
       "      <td>100</td>\n",
       "      <td>3</td>\n",
       "      <td>0.2</td>\n",
       "      <td>1.000000e-06</td>\n",
       "      <td>0.002187</td>\n",
       "    </tr>\n",
       "    <tr>\n",
       "      <th>13</th>\n",
       "      <td>512</td>\n",
       "      <td>0.005</td>\n",
       "      <td>50</td>\n",
       "      <td>150</td>\n",
       "      <td>3</td>\n",
       "      <td>0.4</td>\n",
       "      <td>1.000000e-08</td>\n",
       "      <td>0.002197</td>\n",
       "    </tr>\n",
       "    <tr>\n",
       "      <th>24</th>\n",
       "      <td>256</td>\n",
       "      <td>0.005</td>\n",
       "      <td>50</td>\n",
       "      <td>150</td>\n",
       "      <td>2</td>\n",
       "      <td>0.4</td>\n",
       "      <td>1.000000e-08</td>\n",
       "      <td>0.002218</td>\n",
       "    </tr>\n",
       "    <tr>\n",
       "      <th>8</th>\n",
       "      <td>256</td>\n",
       "      <td>0.010</td>\n",
       "      <td>50</td>\n",
       "      <td>100</td>\n",
       "      <td>3</td>\n",
       "      <td>0.6</td>\n",
       "      <td>1.000000e-08</td>\n",
       "      <td>0.002223</td>\n",
       "    </tr>\n",
       "    <tr>\n",
       "      <th>25</th>\n",
       "      <td>256</td>\n",
       "      <td>0.010</td>\n",
       "      <td>50</td>\n",
       "      <td>150</td>\n",
       "      <td>3</td>\n",
       "      <td>0.6</td>\n",
       "      <td>1.000000e-08</td>\n",
       "      <td>0.002226</td>\n",
       "    </tr>\n",
       "    <tr>\n",
       "      <th>22</th>\n",
       "      <td>256</td>\n",
       "      <td>0.010</td>\n",
       "      <td>50</td>\n",
       "      <td>100</td>\n",
       "      <td>3</td>\n",
       "      <td>0.6</td>\n",
       "      <td>1.000000e-07</td>\n",
       "      <td>0.002234</td>\n",
       "    </tr>\n",
       "    <tr>\n",
       "      <th>2</th>\n",
       "      <td>256</td>\n",
       "      <td>0.005</td>\n",
       "      <td>50</td>\n",
       "      <td>100</td>\n",
       "      <td>2</td>\n",
       "      <td>0.4</td>\n",
       "      <td>1.000000e-08</td>\n",
       "      <td>0.002245</td>\n",
       "    </tr>\n",
       "    <tr>\n",
       "      <th>27</th>\n",
       "      <td>256</td>\n",
       "      <td>0.005</td>\n",
       "      <td>50</td>\n",
       "      <td>150</td>\n",
       "      <td>3</td>\n",
       "      <td>0.4</td>\n",
       "      <td>1.000000e-06</td>\n",
       "      <td>0.002263</td>\n",
       "    </tr>\n",
       "    <tr>\n",
       "      <th>21</th>\n",
       "      <td>256</td>\n",
       "      <td>0.005</td>\n",
       "      <td>50</td>\n",
       "      <td>120</td>\n",
       "      <td>2</td>\n",
       "      <td>0.2</td>\n",
       "      <td>1.000000e-06</td>\n",
       "      <td>0.002278</td>\n",
       "    </tr>\n",
       "    <tr>\n",
       "      <th>17</th>\n",
       "      <td>256</td>\n",
       "      <td>0.005</td>\n",
       "      <td>50</td>\n",
       "      <td>100</td>\n",
       "      <td>3</td>\n",
       "      <td>0.2</td>\n",
       "      <td>1.000000e-06</td>\n",
       "      <td>0.002321</td>\n",
       "    </tr>\n",
       "    <tr>\n",
       "      <th>18</th>\n",
       "      <td>256</td>\n",
       "      <td>0.005</td>\n",
       "      <td>50</td>\n",
       "      <td>120</td>\n",
       "      <td>2</td>\n",
       "      <td>0.6</td>\n",
       "      <td>1.000000e-07</td>\n",
       "      <td>0.002365</td>\n",
       "    </tr>\n",
       "    <tr>\n",
       "      <th>19</th>\n",
       "      <td>256</td>\n",
       "      <td>0.005</td>\n",
       "      <td>50</td>\n",
       "      <td>120</td>\n",
       "      <td>2</td>\n",
       "      <td>0.4</td>\n",
       "      <td>1.000000e-07</td>\n",
       "      <td>0.002371</td>\n",
       "    </tr>\n",
       "    <tr>\n",
       "      <th>29</th>\n",
       "      <td>256</td>\n",
       "      <td>0.005</td>\n",
       "      <td>50</td>\n",
       "      <td>100</td>\n",
       "      <td>3</td>\n",
       "      <td>0.4</td>\n",
       "      <td>1.000000e-06</td>\n",
       "      <td>0.002423</td>\n",
       "    </tr>\n",
       "    <tr>\n",
       "      <th>3</th>\n",
       "      <td>512</td>\n",
       "      <td>0.010</td>\n",
       "      <td>50</td>\n",
       "      <td>120</td>\n",
       "      <td>2</td>\n",
       "      <td>0.6</td>\n",
       "      <td>1.000000e-08</td>\n",
       "      <td>0.002440</td>\n",
       "    </tr>\n",
       "    <tr>\n",
       "      <th>20</th>\n",
       "      <td>512</td>\n",
       "      <td>0.005</td>\n",
       "      <td>50</td>\n",
       "      <td>100</td>\n",
       "      <td>3</td>\n",
       "      <td>0.4</td>\n",
       "      <td>1.000000e-06</td>\n",
       "      <td>0.002445</td>\n",
       "    </tr>\n",
       "    <tr>\n",
       "      <th>0</th>\n",
       "      <td>512</td>\n",
       "      <td>0.001</td>\n",
       "      <td>50</td>\n",
       "      <td>150</td>\n",
       "      <td>2</td>\n",
       "      <td>0.4</td>\n",
       "      <td>1.000000e-07</td>\n",
       "      <td>0.002455</td>\n",
       "    </tr>\n",
       "    <tr>\n",
       "      <th>1</th>\n",
       "      <td>512</td>\n",
       "      <td>0.005</td>\n",
       "      <td>50</td>\n",
       "      <td>100</td>\n",
       "      <td>3</td>\n",
       "      <td>0.2</td>\n",
       "      <td>1.000000e-07</td>\n",
       "      <td>0.002465</td>\n",
       "    </tr>\n",
       "    <tr>\n",
       "      <th>26</th>\n",
       "      <td>512</td>\n",
       "      <td>0.005</td>\n",
       "      <td>50</td>\n",
       "      <td>120</td>\n",
       "      <td>2</td>\n",
       "      <td>0.4</td>\n",
       "      <td>1.000000e-08</td>\n",
       "      <td>0.002524</td>\n",
       "    </tr>\n",
       "    <tr>\n",
       "      <th>16</th>\n",
       "      <td>512</td>\n",
       "      <td>0.001</td>\n",
       "      <td>50</td>\n",
       "      <td>150</td>\n",
       "      <td>3</td>\n",
       "      <td>0.4</td>\n",
       "      <td>1.000000e-06</td>\n",
       "      <td>0.002530</td>\n",
       "    </tr>\n",
       "    <tr>\n",
       "      <th>11</th>\n",
       "      <td>256</td>\n",
       "      <td>0.005</td>\n",
       "      <td>50</td>\n",
       "      <td>120</td>\n",
       "      <td>3</td>\n",
       "      <td>0.6</td>\n",
       "      <td>1.000000e-08</td>\n",
       "      <td>0.002583</td>\n",
       "    </tr>\n",
       "    <tr>\n",
       "      <th>10</th>\n",
       "      <td>512</td>\n",
       "      <td>0.001</td>\n",
       "      <td>50</td>\n",
       "      <td>120</td>\n",
       "      <td>3</td>\n",
       "      <td>0.4</td>\n",
       "      <td>1.000000e-08</td>\n",
       "      <td>0.002668</td>\n",
       "    </tr>\n",
       "    <tr>\n",
       "      <th>7</th>\n",
       "      <td>512</td>\n",
       "      <td>0.001</td>\n",
       "      <td>50</td>\n",
       "      <td>100</td>\n",
       "      <td>2</td>\n",
       "      <td>0.2</td>\n",
       "      <td>1.000000e-08</td>\n",
       "      <td>0.002685</td>\n",
       "    </tr>\n",
       "    <tr>\n",
       "      <th>15</th>\n",
       "      <td>512</td>\n",
       "      <td>0.001</td>\n",
       "      <td>50</td>\n",
       "      <td>150</td>\n",
       "      <td>2</td>\n",
       "      <td>0.4</td>\n",
       "      <td>1.000000e-06</td>\n",
       "      <td>0.002712</td>\n",
       "    </tr>\n",
       "    <tr>\n",
       "      <th>14</th>\n",
       "      <td>512</td>\n",
       "      <td>0.005</td>\n",
       "      <td>50</td>\n",
       "      <td>100</td>\n",
       "      <td>3</td>\n",
       "      <td>0.4</td>\n",
       "      <td>1.000000e-08</td>\n",
       "      <td>0.002742</td>\n",
       "    </tr>\n",
       "    <tr>\n",
       "      <th>4</th>\n",
       "      <td>512</td>\n",
       "      <td>0.001</td>\n",
       "      <td>50</td>\n",
       "      <td>120</td>\n",
       "      <td>3</td>\n",
       "      <td>0.6</td>\n",
       "      <td>1.000000e-08</td>\n",
       "      <td>0.002772</td>\n",
       "    </tr>\n",
       "    <tr>\n",
       "      <th>12</th>\n",
       "      <td>256</td>\n",
       "      <td>0.005</td>\n",
       "      <td>50</td>\n",
       "      <td>100</td>\n",
       "      <td>3</td>\n",
       "      <td>0.6</td>\n",
       "      <td>1.000000e-07</td>\n",
       "      <td>0.008770</td>\n",
       "    </tr>\n",
       "    <tr>\n",
       "      <th>5</th>\n",
       "      <td>256</td>\n",
       "      <td>0.005</td>\n",
       "      <td>50</td>\n",
       "      <td>150</td>\n",
       "      <td>3</td>\n",
       "      <td>0.4</td>\n",
       "      <td>1.000000e-07</td>\n",
       "      <td>0.020735</td>\n",
       "    </tr>\n",
       "  </tbody>\n",
       "</table>\n",
       "</div>"
      ],
      "text/plain": [
       "    batch_size     lr  number_epoch  hidden_dim  n_layers  drop_prob  \\\n",
       "23         512  0.005            50         100         2        0.4   \n",
       "28         256  0.010            50         100         2        0.4   \n",
       "9          256  0.010            50         100         2        0.6   \n",
       "6          256  0.001            50         100         3        0.2   \n",
       "13         512  0.005            50         150         3        0.4   \n",
       "24         256  0.005            50         150         2        0.4   \n",
       "8          256  0.010            50         100         3        0.6   \n",
       "25         256  0.010            50         150         3        0.6   \n",
       "22         256  0.010            50         100         3        0.6   \n",
       "2          256  0.005            50         100         2        0.4   \n",
       "27         256  0.005            50         150         3        0.4   \n",
       "21         256  0.005            50         120         2        0.2   \n",
       "17         256  0.005            50         100         3        0.2   \n",
       "18         256  0.005            50         120         2        0.6   \n",
       "19         256  0.005            50         120         2        0.4   \n",
       "29         256  0.005            50         100         3        0.4   \n",
       "3          512  0.010            50         120         2        0.6   \n",
       "20         512  0.005            50         100         3        0.4   \n",
       "0          512  0.001            50         150         2        0.4   \n",
       "1          512  0.005            50         100         3        0.2   \n",
       "26         512  0.005            50         120         2        0.4   \n",
       "16         512  0.001            50         150         3        0.4   \n",
       "11         256  0.005            50         120         3        0.6   \n",
       "10         512  0.001            50         120         3        0.4   \n",
       "7          512  0.001            50         100         2        0.2   \n",
       "15         512  0.001            50         150         2        0.4   \n",
       "14         512  0.005            50         100         3        0.4   \n",
       "4          512  0.001            50         120         3        0.6   \n",
       "12         256  0.005            50         100         3        0.6   \n",
       "5          256  0.005            50         150         3        0.4   \n",
       "\n",
       "    weight_decay  valid_loss  \n",
       "23  1.000000e-07    0.002107  \n",
       "28  1.000000e-08    0.002157  \n",
       "9   1.000000e-08    0.002187  \n",
       "6   1.000000e-06    0.002187  \n",
       "13  1.000000e-08    0.002197  \n",
       "24  1.000000e-08    0.002218  \n",
       "8   1.000000e-08    0.002223  \n",
       "25  1.000000e-08    0.002226  \n",
       "22  1.000000e-07    0.002234  \n",
       "2   1.000000e-08    0.002245  \n",
       "27  1.000000e-06    0.002263  \n",
       "21  1.000000e-06    0.002278  \n",
       "17  1.000000e-06    0.002321  \n",
       "18  1.000000e-07    0.002365  \n",
       "19  1.000000e-07    0.002371  \n",
       "29  1.000000e-06    0.002423  \n",
       "3   1.000000e-08    0.002440  \n",
       "20  1.000000e-06    0.002445  \n",
       "0   1.000000e-07    0.002455  \n",
       "1   1.000000e-07    0.002465  \n",
       "26  1.000000e-08    0.002524  \n",
       "16  1.000000e-06    0.002530  \n",
       "11  1.000000e-08    0.002583  \n",
       "10  1.000000e-08    0.002668  \n",
       "7   1.000000e-08    0.002685  \n",
       "15  1.000000e-06    0.002712  \n",
       "14  1.000000e-08    0.002742  \n",
       "4   1.000000e-08    0.002772  \n",
       "12  1.000000e-07    0.008770  \n",
       "5   1.000000e-07    0.020735  "
      ]
     },
     "execution_count": 21,
     "metadata": {},
     "output_type": "execute_result"
    }
   ],
   "source": [
    "records = pd.DataFrame(records).sort_values(by='valid_loss')\n",
    "records.to_csv('./records/BiLSTM_records.csv', mode='a', index=False, header=False)\n",
    "records"
   ]
  },
  {
   "cell_type": "markdown",
   "id": "3ed44858",
   "metadata": {},
   "source": [
    "## retrain a model"
   ]
  },
  {
   "cell_type": "code",
   "execution_count": 23,
   "id": "ab16b809",
   "metadata": {
    "ExecuteTime": {
     "end_time": "2021-12-26T04:58:57.381027Z",
     "start_time": "2021-12-26T04:58:57.370335Z"
    }
   },
   "outputs": [],
   "source": [
    "def train_model(train_x, train_y, valid_x, valid_y, input_size, output_size,\n",
    "                mse_thresh, batch_size, lr, number_epoch, hidden_dim, n_layers,\n",
    "                drop_prob, weight_decay):\n",
    "    while (1):\n",
    "        model = BiLSTM(input_size, output_size, hidden_dim, n_layers,\n",
    "                       drop_prob)\n",
    "        model.to(device=device)\n",
    "        criterion = nn.MSELoss()\n",
    "        optimizer = torch.optim.Adam(model.parameters(), lr=lr, weight_decay=weight_decay)\n",
    "        scheduler = torch.optim.lr_scheduler.StepLR(optimizer, 1, gamma=0.98)\n",
    "        valid_loss_min = np.Inf\n",
    "        train_dataset = TensorDataset(torch.FloatTensor(train_x),\n",
    "                                      torch.FloatTensor(train_y))\n",
    "        valid_dataset = TensorDataset(torch.FloatTensor(valid_x),\n",
    "                                      torch.FloatTensor(valid_y))\n",
    "        train_loader = DataLoader(dataset=train_dataset,\n",
    "                                  batch_size=batch_size,\n",
    "                                  shuffle=True,\n",
    "                                  drop_last=False)\n",
    "        valid_loader = DataLoader(dataset=valid_dataset,\n",
    "                                  batch_size=batch_size,\n",
    "                                  shuffle=True,\n",
    "                                  drop_last=False)\n",
    "        num_without_imp = 0\n",
    "        # training process\n",
    "        for epoch in range(1, number_epoch + 1):\n",
    "            loop = tqdm(enumerate(train_loader),\n",
    "                        total=len(train_loader),\n",
    "                        leave=True)\n",
    "            for i, (inputs, labels) in loop:\n",
    "                inputs = inputs.to(device=device)\n",
    "                labels = labels.to(device=device)\n",
    "                optimizer.zero_grad()\n",
    "                outputs = model(inputs)\n",
    "                loss = criterion(outputs, labels)\n",
    "                loss.backward()\n",
    "                optimizer.step()\n",
    "                if i % 5 == 0:\n",
    "                    num_without_imp = num_without_imp + 1\n",
    "                    valid_losses = list()\n",
    "                    model.eval()\n",
    "                    for inp, lab in valid_loader:\n",
    "                        inp = inp.to(device)\n",
    "                        lab = lab.to(device)\n",
    "                        out = model(inp)\n",
    "                        valid_loss = criterion(out, lab)\n",
    "                        valid_losses.append(valid_loss.item())\n",
    "\n",
    "                    model.train()\n",
    "                    loop.set_description(\"Epoch: {}/{}\".format(\n",
    "                        epoch, number_epoch))\n",
    "                    loop.set_postfix(train_loss=loss.item(),\n",
    "                                     valid_loss=np.mean(valid_losses))\n",
    "                    if np.mean(valid_losses) < valid_loss_min:\n",
    "                        num_without_imp = 0\n",
    "                        torch.save(model.state_dict(),\n",
    "                                   './model/BiLSTM_state_dict.pt')\n",
    "                        valid_loss_min = np.mean(valid_losses)\n",
    "            scheduler.step()\n",
    "        if valid_loss_min < mse_thresh:\n",
    "            break\n",
    "    \n",
    "    return model"
   ]
  },
  {
   "cell_type": "markdown",
   "id": "22fffca5",
   "metadata": {},
   "source": [
    "## test results"
   ]
  },
  {
   "cell_type": "code",
   "execution_count": 24,
   "id": "9d6b4393",
   "metadata": {
    "ExecuteTime": {
     "end_time": "2021-12-26T04:59:00.082506Z",
     "start_time": "2021-12-26T04:59:00.075733Z"
    }
   },
   "outputs": [],
   "source": [
    "def test_model(model, test_x, test_y, scaler_y, batch_size):\n",
    "    test_dataset = TensorDataset(torch.FloatTensor(test_x),\n",
    "                                 torch.FloatTensor(test_y))\n",
    "    test_loader = DataLoader(dataset=test_dataset,\n",
    "                             batch_size=batch_size,\n",
    "                             shuffle=False,\n",
    "                             drop_last=False)\n",
    "    model.load_state_dict(torch.load('./model/BiLSTM_state_dict.pt'))\n",
    "    y_pred = []\n",
    "    y_true = []\n",
    "    with torch.no_grad():\n",
    "        for inputs, label in test_loader:\n",
    "            inputs = inputs.to(device)\n",
    "            label = label.to(device)\n",
    "            outputs = model(inputs)\n",
    "            y_pred += outputs.cpu().numpy().flatten().tolist()\n",
    "            y_true += label.cpu().numpy().flatten().tolist()\n",
    "    y_pred = np.array(y_pred).reshape(-1, 1)\n",
    "    y_true = np.array(y_true).reshape(-1, 1)\n",
    "#     pdb.set_trace()\n",
    "    load_pred = scaler_y.inverse_transform(y_pred)\n",
    "    load_true = scaler_y.inverse_transform(y_true)\n",
    "    MAPE = np.mean(np.abs(load_true - load_pred) / load_true)\n",
    "    MAE = np.mean(np.abs(load_true - load_pred))\n",
    "    RMSE = np.sqrt(np.mean(np.square(load_true - load_pred)))\n",
    "    return MAPE, MAE, RMSE, load_pred, load_true"
   ]
  },
  {
   "cell_type": "markdown",
   "id": "2f10db1e",
   "metadata": {},
   "source": [
    "## run model retraining"
   ]
  },
  {
   "cell_type": "code",
   "execution_count": 25,
   "id": "10682213",
   "metadata": {
    "ExecuteTime": {
     "end_time": "2021-12-26T04:59:29.772781Z",
     "start_time": "2021-12-26T04:59:29.765825Z"
    }
   },
   "outputs": [],
   "source": [
    "def run_model_retraining(seq_len=seq_len,\n",
    "                         target_len=target_len,\n",
    "                         mse_thresh=mse_thresh):\n",
    "    train_data = data[:int(0.8 * len(data))]\n",
    "#     train_data = data[:-800]\n",
    "    train_data, scaler, scaler_y = normalization(train_data)\n",
    "    train_x, train_y = series_to_supervise(train_data, seq_len, target_len)\n",
    "    \n",
    "    valid_x = train_x[int(0.8 * len(train_x)):]\n",
    "    valid_y = train_y[int(0.8 * len(train_y)):]\n",
    "    train_x = train_x[:int(0.8 * len(train_x))]\n",
    "    train_y = train_y[:int(0.8 * len(train_y))]\n",
    "    input_size = train_x.shape[2]\n",
    "    output_size = target_len\n",
    "    \n",
    "#     hyper-parameters define\n",
    "    batch_size =512\n",
    "    lr = 0.005\n",
    "    number_epoch = 80\n",
    "    hidden_dim = 100\n",
    "    n_layers = 2\n",
    "    drop_prob = 0.4\n",
    "    weight_decay = 1e-7\n",
    "    mse_thresh = 0.01\n",
    "\n",
    "    model = train_model(train_x, train_y, valid_x, valid_y,\n",
    "                    input_size, output_size, mse_thresh, batch_size, lr,\n",
    "                    number_epoch, hidden_dim, n_layers, drop_prob, weight_decay)\n",
    "    test_data = data[int(0.8*len(data)):]\n",
    "#     test_data = data[-800:]\n",
    "    test_data = scaler.transform(test_data)\n",
    "    test_x, test_y = series_to_supervise(test_data, seq_len, target_len)\n",
    "    MAPE, MAE, RMSE, load_pred, load_true = test_model(model, test_x, test_y, scaler_y, batch_size)\n",
    "    return MAPE, MAE, RMSE, load_pred, load_true"
   ]
  },
  {
   "cell_type": "code",
   "execution_count": 26,
   "id": "79d10cc0",
   "metadata": {
    "ExecuteTime": {
     "end_time": "2021-12-26T05:01:52.675242Z",
     "start_time": "2021-12-26T04:59:31.618685Z"
    }
   },
   "outputs": [
    {
     "name": "stdout",
     "output_type": "stream",
     "text": [
      "supervised data: shape of x: (25232, 72, 16), shape of y: (25232, 24)\n"
     ]
    },
    {
     "name": "stderr",
     "output_type": "stream",
     "text": [
      "Epoch: 1/80: 100%|██████████| 40/40 [00:01<00:00, 20.61it/s, train_loss=0.164, valid_loss=0.171]\n",
      "Epoch: 2/80: 100%|██████████| 40/40 [00:01<00:00, 21.06it/s, train_loss=0.0324, valid_loss=0.0347]\n",
      "Epoch: 3/80: 100%|██████████| 40/40 [00:01<00:00, 20.77it/s, train_loss=0.029, valid_loss=0.0328] \n",
      "Epoch: 4/80: 100%|██████████| 40/40 [00:01<00:00, 20.20it/s, train_loss=0.00703, valid_loss=0.00612]\n",
      "Epoch: 5/80: 100%|██████████| 40/40 [00:01<00:00, 21.48it/s, train_loss=0.00357, valid_loss=0.0037] \n",
      "Epoch: 6/80: 100%|██████████| 40/40 [00:01<00:00, 21.56it/s, train_loss=0.00242, valid_loss=0.00319]\n",
      "Epoch: 7/80: 100%|██████████| 40/40 [00:01<00:00, 20.24it/s, train_loss=0.00237, valid_loss=0.0031] \n",
      "Epoch: 8/80: 100%|██████████| 40/40 [00:01<00:00, 21.56it/s, train_loss=0.00232, valid_loss=0.00275]\n",
      "Epoch: 9/80: 100%|██████████| 40/40 [00:01<00:00, 20.68it/s, train_loss=0.00202, valid_loss=0.00267]\n",
      "Epoch: 10/80: 100%|██████████| 40/40 [00:01<00:00, 21.99it/s, train_loss=0.00195, valid_loss=0.00278]\n",
      "Epoch: 11/80: 100%|██████████| 40/40 [00:01<00:00, 20.05it/s, train_loss=0.00169, valid_loss=0.00243]\n",
      "Epoch: 12/80: 100%|██████████| 40/40 [00:01<00:00, 20.98it/s, train_loss=0.00172, valid_loss=0.00247]\n",
      "Epoch: 13/80: 100%|██████████| 40/40 [00:02<00:00, 17.68it/s, train_loss=0.00193, valid_loss=0.00232]\n",
      "Epoch: 14/80: 100%|██████████| 40/40 [00:02<00:00, 17.57it/s, train_loss=0.00169, valid_loss=0.0023] \n",
      "Epoch: 15/80: 100%|██████████| 40/40 [00:02<00:00, 16.37it/s, train_loss=0.00149, valid_loss=0.00243]\n",
      "Epoch: 16/80: 100%|██████████| 40/40 [00:02<00:00, 17.37it/s, train_loss=0.00166, valid_loss=0.0023] \n",
      "Epoch: 17/80: 100%|██████████| 40/40 [00:02<00:00, 17.33it/s, train_loss=0.00163, valid_loss=0.0023] \n",
      "Epoch: 18/80: 100%|██████████| 40/40 [00:02<00:00, 16.84it/s, train_loss=0.00153, valid_loss=0.00232]\n",
      "Epoch: 19/80: 100%|██████████| 40/40 [00:02<00:00, 17.33it/s, train_loss=0.00138, valid_loss=0.00223]\n",
      "Epoch: 20/80: 100%|██████████| 40/40 [00:02<00:00, 15.55it/s, train_loss=0.0014, valid_loss=0.00229] \n",
      "Epoch: 21/80: 100%|██████████| 40/40 [00:02<00:00, 17.29it/s, train_loss=0.00158, valid_loss=0.00228]\n",
      "Epoch: 22/80: 100%|██████████| 40/40 [00:02<00:00, 16.52it/s, train_loss=0.00135, valid_loss=0.00237]\n",
      "Epoch: 23/80: 100%|██████████| 40/40 [00:02<00:00, 18.77it/s, train_loss=0.00136, valid_loss=0.00229]\n",
      "Epoch: 24/80: 100%|██████████| 40/40 [00:01<00:00, 20.45it/s, train_loss=0.00169, valid_loss=0.00218]\n",
      "Epoch: 25/80: 100%|██████████| 40/40 [00:01<00:00, 20.46it/s, train_loss=0.0012, valid_loss=0.00223] \n",
      "Epoch: 26/80: 100%|██████████| 40/40 [00:02<00:00, 16.62it/s, train_loss=0.00156, valid_loss=0.00213]\n",
      "Epoch: 27/80: 100%|██████████| 40/40 [00:02<00:00, 17.56it/s, train_loss=0.0012, valid_loss=0.00257] \n",
      "Epoch: 28/80: 100%|██████████| 40/40 [00:02<00:00, 16.89it/s, train_loss=0.00133, valid_loss=0.00206]\n",
      "Epoch: 29/80: 100%|██████████| 40/40 [00:02<00:00, 17.92it/s, train_loss=0.00126, valid_loss=0.0021] \n",
      "Epoch: 30/80: 100%|██████████| 40/40 [00:02<00:00, 16.58it/s, train_loss=0.00123, valid_loss=0.00213]\n",
      "Epoch: 31/80: 100%|██████████| 40/40 [00:02<00:00, 17.79it/s, train_loss=0.00103, valid_loss=0.00202]\n",
      "Epoch: 32/80: 100%|██████████| 40/40 [00:02<00:00, 17.38it/s, train_loss=0.00116, valid_loss=0.00204]\n",
      "Epoch: 33/80: 100%|██████████| 40/40 [00:02<00:00, 16.65it/s, train_loss=0.00137, valid_loss=0.00207]\n",
      "Epoch: 34/80: 100%|██████████| 40/40 [00:02<00:00, 17.19it/s, train_loss=0.00109, valid_loss=0.0021] \n",
      "Epoch: 35/80: 100%|██████████| 40/40 [00:02<00:00, 17.82it/s, train_loss=0.00134, valid_loss=0.00203]\n",
      "Epoch: 36/80: 100%|██████████| 40/40 [00:01<00:00, 23.71it/s, train_loss=0.00114, valid_loss=0.00204]\n",
      "Epoch: 37/80: 100%|██████████| 40/40 [00:01<00:00, 25.12it/s, train_loss=0.00122, valid_loss=0.00201]\n",
      "Epoch: 38/80: 100%|██████████| 40/40 [00:01<00:00, 24.38it/s, train_loss=0.00104, valid_loss=0.00226]\n",
      "Epoch: 39/80: 100%|██████████| 40/40 [00:01<00:00, 23.93it/s, train_loss=0.00102, valid_loss=0.0022]  \n",
      "Epoch: 40/80: 100%|██████████| 40/40 [00:01<00:00, 30.20it/s, train_loss=0.001, valid_loss=0.002]    \n",
      "Epoch: 41/80: 100%|██████████| 40/40 [00:01<00:00, 24.39it/s, train_loss=0.00102, valid_loss=0.00203] \n",
      "Epoch: 42/80: 100%|██████████| 40/40 [00:01<00:00, 22.95it/s, train_loss=0.000959, valid_loss=0.00233]\n",
      "Epoch: 43/80: 100%|██████████| 40/40 [00:01<00:00, 22.47it/s, train_loss=0.000952, valid_loss=0.00213]\n",
      "Epoch: 44/80: 100%|██████████| 40/40 [00:01<00:00, 21.85it/s, train_loss=0.000947, valid_loss=0.00209]\n",
      "Epoch: 45/80: 100%|██████████| 40/40 [00:01<00:00, 30.27it/s, train_loss=0.000901, valid_loss=0.00211]\n",
      "Epoch: 46/80: 100%|██████████| 40/40 [00:01<00:00, 29.03it/s, train_loss=0.000883, valid_loss=0.00215]\n",
      "Epoch: 47/80: 100%|██████████| 40/40 [00:01<00:00, 30.80it/s, train_loss=0.000893, valid_loss=0.00199]\n",
      "Epoch: 48/80: 100%|██████████| 40/40 [00:01<00:00, 28.89it/s, train_loss=0.000926, valid_loss=0.0021] \n",
      "Epoch: 49/80: 100%|██████████| 40/40 [00:01<00:00, 30.75it/s, train_loss=0.000806, valid_loss=0.002]  \n",
      "Epoch: 50/80: 100%|██████████| 40/40 [00:01<00:00, 29.02it/s, train_loss=0.000798, valid_loss=0.00203]\n",
      "Epoch: 51/80: 100%|██████████| 40/40 [00:01<00:00, 30.72it/s, train_loss=0.000799, valid_loss=0.00201]\n",
      "Epoch: 52/80: 100%|██████████| 40/40 [00:01<00:00, 29.10it/s, train_loss=0.000744, valid_loss=0.00201]\n",
      "Epoch: 53/80: 100%|██████████| 40/40 [00:01<00:00, 30.58it/s, train_loss=0.000859, valid_loss=0.00204]\n",
      "Epoch: 54/80: 100%|██████████| 40/40 [00:01<00:00, 28.84it/s, train_loss=0.000759, valid_loss=0.002]  \n",
      "Epoch: 55/80: 100%|██████████| 40/40 [00:01<00:00, 30.81it/s, train_loss=0.000758, valid_loss=0.002]  \n",
      "Epoch: 56/80: 100%|██████████| 40/40 [00:01<00:00, 28.92it/s, train_loss=0.000722, valid_loss=0.00201]\n",
      "Epoch: 57/80: 100%|██████████| 40/40 [00:01<00:00, 30.78it/s, train_loss=0.000723, valid_loss=0.00214]\n",
      "Epoch: 58/80: 100%|██████████| 40/40 [00:01<00:00, 28.84it/s, train_loss=0.000743, valid_loss=0.00192]\n",
      "Epoch: 59/80: 100%|██████████| 40/40 [00:01<00:00, 30.71it/s, train_loss=0.000675, valid_loss=0.00208]\n",
      "Epoch: 60/80: 100%|██████████| 40/40 [00:01<00:00, 30.83it/s, train_loss=0.000691, valid_loss=0.00195]\n",
      "Epoch: 61/80: 100%|██████████| 40/40 [00:01<00:00, 29.04it/s, train_loss=0.000615, valid_loss=0.00199]\n",
      "Epoch: 62/80: 100%|██████████| 40/40 [00:01<00:00, 30.69it/s, train_loss=0.000648, valid_loss=0.00199]\n",
      "Epoch: 63/80: 100%|██████████| 40/40 [00:01<00:00, 28.85it/s, train_loss=0.000672, valid_loss=0.00202]\n",
      "Epoch: 64/80: 100%|██████████| 40/40 [00:01<00:00, 30.58it/s, train_loss=0.000612, valid_loss=0.002]  \n",
      "Epoch: 65/80: 100%|██████████| 40/40 [00:01<00:00, 29.01it/s, train_loss=0.000654, valid_loss=0.00201]\n",
      "Epoch: 66/80: 100%|██████████| 40/40 [00:01<00:00, 30.64it/s, train_loss=0.000581, valid_loss=0.00206]\n",
      "Epoch: 67/80: 100%|██████████| 40/40 [00:01<00:00, 28.94it/s, train_loss=0.000638, valid_loss=0.002]  \n",
      "Epoch: 68/80: 100%|██████████| 40/40 [00:01<00:00, 30.69it/s, train_loss=0.000676, valid_loss=0.00204]\n",
      "Epoch: 69/80: 100%|██████████| 40/40 [00:01<00:00, 28.94it/s, train_loss=0.000562, valid_loss=0.00204]\n",
      "Epoch: 70/80: 100%|██████████| 40/40 [00:01<00:00, 30.62it/s, train_loss=0.000634, valid_loss=0.00202]\n",
      "Epoch: 71/80: 100%|██████████| 40/40 [00:01<00:00, 28.99it/s, train_loss=0.000609, valid_loss=0.00215]\n",
      "Epoch: 72/80: 100%|██████████| 40/40 [00:01<00:00, 30.21it/s, train_loss=0.000585, valid_loss=0.00211]\n",
      "Epoch: 73/80: 100%|██████████| 40/40 [00:01<00:00, 26.97it/s, train_loss=0.000531, valid_loss=0.00212]\n",
      "Epoch: 74/80: 100%|██████████| 40/40 [00:01<00:00, 25.34it/s, train_loss=0.000514, valid_loss=0.00208]\n",
      "Epoch: 75/80: 100%|██████████| 40/40 [00:01<00:00, 27.28it/s, train_loss=0.000511, valid_loss=0.00214]\n",
      "Epoch: 76/80: 100%|██████████| 40/40 [00:01<00:00, 25.36it/s, train_loss=0.000519, valid_loss=0.00213]\n",
      "Epoch: 77/80: 100%|██████████| 40/40 [00:01<00:00, 27.19it/s, train_loss=0.000556, valid_loss=0.0022] \n",
      "Epoch: 78/80: 100%|██████████| 40/40 [00:01<00:00, 25.69it/s, train_loss=0.000531, valid_loss=0.00213]\n",
      "Epoch: 79/80: 100%|██████████| 40/40 [00:01<00:00, 27.33it/s, train_loss=0.000505, valid_loss=0.0022] \n",
      "Epoch: 80/80: 100%|██████████| 40/40 [00:01<00:00, 25.75it/s, train_loss=0.000484, valid_loss=0.0023] \n"
     ]
    },
    {
     "name": "stdout",
     "output_type": "stream",
     "text": [
      "supervised data: shape of x: (6237, 72, 16), shape of y: (6237, 24)\n",
      "MAPE:0.0384057963665871, MAE:501.0451122660703, RMSE:738.5504601430696\n"
     ]
    }
   ],
   "source": [
    "MAPE, MAE, RMSE, load_pred, load_true = run_model_retraining()\n",
    "print('MAPE:{}, MAE:{}, RMSE:{}'.format(MAPE, MAE, RMSE))"
   ]
  },
  {
   "cell_type": "code",
   "execution_count": 27,
   "id": "159c2fd4",
   "metadata": {
    "ExecuteTime": {
     "end_time": "2021-12-26T05:14:17.177690Z",
     "start_time": "2021-12-26T05:14:17.169202Z"
    }
   },
   "outputs": [
    {
     "name": "stdout",
     "output_type": "stream",
     "text": [
      "MAPE:0.0384057963665871, MAE:501.0451122660703, RMSE:738.5504601430696\n"
     ]
    }
   ],
   "source": [
    "print('MAPE:{}, MAE:{}, RMSE:{}'.format(MAPE, MAE, RMSE))"
   ]
  },
  {
   "cell_type": "markdown",
   "id": "f7267f49",
   "metadata": {},
   "source": [
    "## figure plot"
   ]
  },
  {
   "cell_type": "code",
   "execution_count": 15,
   "id": "4ba54eb2",
   "metadata": {
    "ExecuteTime": {
     "end_time": "2021-12-25T15:36:16.048895Z",
     "start_time": "2021-12-25T15:36:15.867339Z"
    }
   },
   "outputs": [
    {
     "data": {
      "text/plain": [
       "(0.0, 17137.91528822088)"
      ]
     },
     "execution_count": 15,
     "metadata": {},
     "output_type": "execute_result"
    },
    {
     "data": {
      "image/png": "[encoded data removed]",
      "text/plain": [
       "<Figure size 1440x720 with 1 Axes>"
      ]
     },
     "metadata": {
      "needs_background": "light"
     },
     "output_type": "display_data"
    }
   ],
   "source": [
    "plt.figure(figsize=(20, 10))\n",
    "load_pred = load_pred.reshape(-1, target_len)\n",
    "load_true = load_true.reshape(-1, target_len)\n",
    "plt.plot(load_pred[:240,0], 'r')\n",
    "plt.plot(load_true[:240,0], 'g')\n",
    "plt.ylim(0)"
   ]
  }
 ],
 "metadata": {
  "kernelspec": {
   "display_name": "Python 3",
   "language": "python",
   "name": "python3"
  },
  "language_info": {
   "codemirror_mode": {
    "name": "ipython",
    "version": 3
   },
   "file_extension": ".py",
   "mimetype": "text/x-python",
   "name": "python",
   "nbconvert_exporter": "python",
   "pygments_lexer": "ipython3",
   "version": "3.8.12"
  },
  "toc": {
   "base_numbering": 1,
   "nav_menu": {},
   "number_sections": true,
   "sideBar": true,
   "skip_h1_title": false,
   "title_cell": "Table of Contents",
   "title_sidebar": "Contents",
   "toc_cell": false,
   "toc_position": {
    "height": "calc(100% - 180px)",
    "left": "10px",
    "top": "150px",
    "width": "374.391px"
   },
   "toc_section_display": true,
   "toc_window_display": true
  },
  "varInspector": {
   "cols": {
    "lenName": 16,
    "lenType": 16,
    "lenVar": 40
   },
   "kernels_config": {
    "python": {
     "delete_cmd_postfix": "",
     "delete_cmd_prefix": "del ",
     "library": "var_list.py",
     "varRefreshCmd": "print(var_dic_list())"
    },
    "r": {
     "delete_cmd_postfix": ") ",
     "delete_cmd_prefix": "rm(",
     "library": "var_list.r",
     "varRefreshCmd": "cat(var_dic_list()) "
    }
   },
   "types_to_exclude": [
    "module",
    "function",
    "builtin_function_or_method",
    "instance",
    "_Feature"
   ],
   "window_display": false
  }
 },
 "nbformat": 4,
 "nbformat_minor": 5
}
