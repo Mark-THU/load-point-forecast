{
 "cells": [
  {
   "cell_type": "markdown",
   "id": "e01b08f5",
   "metadata": {},
   "source": [
    "# Transformer for forecast"
   ]
  },
  {
   "cell_type": "code",
   "execution_count": 1,
   "id": "5d142113",
   "metadata": {
    "ExecuteTime": {
     "end_time": "2021-12-25T15:57:19.379004Z",
     "start_time": "2021-12-25T15:57:17.481053Z"
    }
   },
   "outputs": [],
   "source": [
    "import pandas as pd\n",
    "import numpy as np\n",
    "import matplotlib.pyplot as plt\n",
    "import pdb\n",
    "import torch\n",
    "import torch.nn as nn\n",
    "import torch.nn.functional as F\n",
    "import random\n",
    "import math\n",
    "\n",
    "from sklearn.preprocessing import MinMaxScaler\n",
    "from sklearn.model_selection import train_test_split, TimeSeriesSplit\n",
    "from torch.autograd import Variable\n",
    "from torch.utils.data import TensorDataset, DataLoader\n",
    "from tqdm import tqdm\n",
    "from xgboost import XGBRegressor\n",
    "if torch.cuda.is_available():  \n",
    "    dev = \"cuda:0\" \n",
    "else:  \n",
    "    dev = \"cpu\"\n",
    "device = torch.device(dev)"
   ]
  },
  {
   "cell_type": "markdown",
   "id": "5b8b2c07",
   "metadata": {},
   "source": [
    "## load data"
   ]
  },
  {
   "cell_type": "code",
   "execution_count": 2,
   "id": "8d36d2ab",
   "metadata": {
    "ExecuteTime": {
     "end_time": "2021-12-25T15:57:19.472936Z",
     "start_time": "2021-12-25T15:57:19.381482Z"
    }
   },
   "outputs": [],
   "source": [
    "url = '../data/beijing.csv'\n",
    "data = pd.read_csv(url, sep=',', index_col='time')"
   ]
  },
  {
   "cell_type": "markdown",
   "id": "2f4f2d25",
   "metadata": {},
   "source": [
    "## normalization"
   ]
  },
  {
   "cell_type": "code",
   "execution_count": 3,
   "id": "f5258784",
   "metadata": {
    "ExecuteTime": {
     "end_time": "2021-12-25T15:57:19.480180Z",
     "start_time": "2021-12-25T15:57:19.475869Z"
    }
   },
   "outputs": [],
   "source": [
    "def normalization(data):\n",
    "    \"\"\"\n",
    "    data: original data with load\n",
    "    return: normalized data, scaler of load\n",
    "    \"\"\"\n",
    "    scaler = MinMaxScaler()\n",
    "    normalized_data = scaler.fit_transform(data)\n",
    "    scaler_y = MinMaxScaler()\n",
    "    scaler_y.fit_transform(data[[data.columns[-1]]])\n",
    "    return normalized_data, scaler, scaler_y"
   ]
  },
  {
   "cell_type": "markdown",
   "id": "1e4ab1da",
   "metadata": {
    "ExecuteTime": {
     "end_time": "2021-12-22T07:45:44.192666Z",
     "start_time": "2021-12-22T07:45:44.188985Z"
    }
   },
   "source": [
    "## build supervised dataset"
   ]
  },
  {
   "cell_type": "code",
   "execution_count": 4,
   "id": "f75e3ed0",
   "metadata": {
    "ExecuteTime": {
     "end_time": "2021-12-25T15:57:19.488851Z",
     "start_time": "2021-12-25T15:57:19.482907Z"
    }
   },
   "outputs": [],
   "source": [
    "def series_to_supervise(data, seq_len, target_len):\n",
    "    \"\"\"\n",
    "    convert series data to supervised data\n",
    "    :param data: original data\n",
    "    :param seq_len: length of input sequence\n",
    "    :param target_len: length of ouput sequence\n",
    "    :return: return two ndarrays-- input and output in format suitable to feed to LSTM\n",
    "    \"\"\"\n",
    "    dim_0 = data.shape[0] - seq_len - target_len + 1\n",
    "    dim_1 = data.shape[1]\n",
    "    x = np.zeros((dim_0, seq_len + target_len, dim_1))\n",
    "    y = np.zeros((dim_0, target_len))\n",
    "    for i in range(dim_0):\n",
    "        x[i] = data[i:i + seq_len + target_len]\n",
    "        y[i] = data[i + seq_len:i + seq_len + target_len, -1]\n",
    "    print(\"supervised data: shape of x: {}, shape of y: {}\".format(\n",
    "        x.shape, y.shape))\n",
    "    return x, y"
   ]
  },
  {
   "cell_type": "markdown",
   "id": "697852fb",
   "metadata": {},
   "source": [
    "## 5-folds TimeSeriesSplit"
   ]
  },
  {
   "cell_type": "code",
   "execution_count": 5,
   "id": "e6655a43",
   "metadata": {
    "ExecuteTime": {
     "end_time": "2021-12-25T15:57:19.496179Z",
     "start_time": "2021-12-25T15:57:19.491014Z"
    }
   },
   "outputs": [],
   "source": [
    "def time_series_split(X, Y, n_split=5):\n",
    "    \"\"\"\n",
    "    X: features, size * seq_len * feature_num\n",
    "    Y: labels, size * target_len\n",
    "    return: list of train_x, test_x, train_y, test_y\n",
    "    \"\"\"\n",
    "    tscv = TimeSeriesSplit(n_splits=n_split)\n",
    "    train_x_list = list()\n",
    "    valid_x_list = list()\n",
    "    train_y_list = list()\n",
    "    valid_y_list = list()\n",
    "    for train_index, valid_index in tscv.split(X):\n",
    "        train_x_list.append(X[train_index])\n",
    "        train_y_list.append(Y[train_index])\n",
    "        valid_x_list.append(X[valid_index])\n",
    "        valid_y_list.append(Y[valid_index])\n",
    "    return train_x_list, train_y_list, valid_x_list, valid_y_list"
   ]
  },
  {
   "cell_type": "markdown",
   "id": "59f6f86e",
   "metadata": {},
   "source": [
    "## Transform model"
   ]
  },
  {
   "cell_type": "markdown",
   "id": "a696f7c0",
   "metadata": {},
   "source": [
    "### PositionalEncoding"
   ]
  },
  {
   "cell_type": "code",
   "execution_count": 6,
   "id": "ba2a3b5d",
   "metadata": {
    "ExecuteTime": {
     "end_time": "2021-12-25T15:57:19.505665Z",
     "start_time": "2021-12-25T15:57:19.498368Z"
    }
   },
   "outputs": [],
   "source": [
    "class PositionalEncoding(nn.Module):\n",
    "    def __init__(self, d_model, dropout=0.1, max_len=5000):\n",
    "        super(PositionalEncoding, self).__init__()\n",
    "        self.dropout = nn.Dropout(p=dropout)\n",
    "\n",
    "        pe = torch.zeros(max_len, d_model)\n",
    "        position = torch.arange(0, max_len, dtype=torch.float).unsqueeze(1)\n",
    "        div_term = torch.exp(\n",
    "            torch.arange(0, d_model, 2).float() *\n",
    "            (-math.log(10000.0) / d_model))\n",
    "        pe[:, 0::2] = torch.sin(position * div_term)\n",
    "        pe[:, 1::2] = torch.cos(position * div_term)\n",
    "        pe = pe.unsqueeze(0).transpose(0, 1)\n",
    "        self.register_buffer('pe', pe)\n",
    "\n",
    "    def forward(self, x):\n",
    "        x = x + self.pe[:x.size(0), :]\n",
    "        return self.dropout(x)"
   ]
  },
  {
   "cell_type": "markdown",
   "id": "484ae37f",
   "metadata": {},
   "source": [
    "### generate mask"
   ]
  },
  {
   "cell_type": "code",
   "execution_count": 7,
   "id": "7c38184f",
   "metadata": {
    "ExecuteTime": {
     "end_time": "2021-12-25T15:57:19.513735Z",
     "start_time": "2021-12-25T15:57:19.508625Z"
    }
   },
   "outputs": [],
   "source": [
    "def generate_square_subsequent_mask(sz):\n",
    "    \"\"\"\n",
    "    Generate a square mask for the sequence. The masked positions are filled with float(‘-inf’). Unmasked positions are filled with float(0.0).\n",
    "    \"\"\"\n",
    "    mask = (torch.triu(torch.ones(sz, sz)) == 1).transpose(0, 1)\n",
    "    mask = mask.float().masked_fill(mask == 0, float('-inf')).masked_fill(\n",
    "        mask == 1, float(0.0))\n",
    "    return mask.to(device)"
   ]
  },
  {
   "cell_type": "markdown",
   "id": "3041dd5e",
   "metadata": {
    "ExecuteTime": {
     "end_time": "2021-12-22T13:06:00.226758Z",
     "start_time": "2021-12-22T13:06:00.223732Z"
    }
   },
   "source": [
    "### transformer"
   ]
  },
  {
   "cell_type": "code",
   "execution_count": 8,
   "id": "2cd00d7b",
   "metadata": {
    "ExecuteTime": {
     "end_time": "2021-12-25T15:57:19.525561Z",
     "start_time": "2021-12-25T15:57:19.517054Z"
    }
   },
   "outputs": [],
   "source": [
    "class Transformer(nn.Module):\n",
    "    def __init__(self, input_size, d_model, nhead, n_layers, drop_prob):\n",
    "        super(Transformer, self).__init__()\n",
    "        self.embedding = nn.Sequential(nn.Linear(input_size, d_model),\n",
    "                                       nn.ReLU())\n",
    "        self.pe = PositionalEncoding(d_model=d_model)\n",
    "        self.transformer = nn.Transformer(d_model=d_model,\n",
    "                                          nhead=nhead,\n",
    "                                          num_encoder_layers=n_layers,\n",
    "                                          num_decoder_layers=n_layers,\n",
    "                                          dim_feedforward=4 * d_model,\n",
    "                                          dropout=drop_prob,\n",
    "                                          batch_first=True)\n",
    "        self.out = nn.Linear(d_model, 1)\n",
    "\n",
    "    def forward(self, src, tgt, is_tgt_mask=True):\n",
    "        src = self.embedding(src)\n",
    "        tgt = self.embedding(tgt)\n",
    "        src = self.pe(src)\n",
    "        tgt = self.pe(tgt)\n",
    "        if is_tgt_mask:\n",
    "            tgt_mask = generate_square_subsequent_mask(tgt.shape[1])\n",
    "            output = self.transformer(src, tgt, tgt_mask=tgt_mask)\n",
    "        else:\n",
    "            output = self.transformer(src, tgt)\n",
    "        output = self.out(output)\n",
    "        return output"
   ]
  },
  {
   "cell_type": "markdown",
   "id": "22788385",
   "metadata": {
    "ExecuteTime": {
     "end_time": "2021-12-22T08:30:19.661769Z",
     "start_time": "2021-12-22T08:30:19.656770Z"
    }
   },
   "source": [
    "## model training for HPO"
   ]
  },
  {
   "cell_type": "code",
   "execution_count": 9,
   "id": "6ce1bede",
   "metadata": {
    "ExecuteTime": {
     "end_time": "2021-12-25T15:57:19.550269Z",
     "start_time": "2021-12-25T15:57:19.528448Z"
    },
    "code_folding": []
   },
   "outputs": [],
   "source": [
    "def train_model_hpo(train_x_list, train_y_list, valid_x_list, valid_y_list,\n",
    "                    input_size, seq_len, target_len, mse_thresh, d_model,\n",
    "                    nhead, n_layers, number_epoch, batch_size, lr, drop_prob):\n",
    "    valid_loss_list = []\n",
    "    for num in range(len(train_x_list)):\n",
    "        while (1):\n",
    "            model = Transformer(input_size, d_model, nhead, n_layers,\n",
    "                                drop_prob)\n",
    "            model = model.to(device)\n",
    "            criterion = nn.MSELoss()\n",
    "            optimizer = torch.optim.Adam(model.parameters(), lr=lr)\n",
    "            scheduler = torch.optim.lr_scheduler.StepLR(optimizer,\n",
    "                                                        step_size=20,\n",
    "                                                        gamma=0.5)\n",
    "            valid_loss_min = np.Inf\n",
    "            print('train dataset {}'.format(num))\n",
    "            train_x = train_x_list[num]\n",
    "            train_y = train_y_list[num]\n",
    "            valid_x = valid_x_list[num]\n",
    "            valid_y = valid_y_list[num]\n",
    "            train_dataset = TensorDataset(torch.FloatTensor(train_x),\n",
    "                                          torch.FloatTensor(train_y))\n",
    "            valid_dataset = TensorDataset(torch.FloatTensor(valid_x),\n",
    "                                          torch.FloatTensor(valid_y))\n",
    "\n",
    "            train_loader = DataLoader(dataset=train_dataset,\n",
    "                                      batch_size=batch_size,\n",
    "                                      shuffle=True,\n",
    "                                      drop_last=True)\n",
    "            valid_loader = DataLoader(dataset=valid_dataset,\n",
    "                                      batch_size=batch_size,\n",
    "                                      shuffle=True,\n",
    "                                      drop_last=True)\n",
    "            train_losses = list()\n",
    "\n",
    "            num_without_imp = 0\n",
    "\n",
    "            #train\n",
    "            for epoch in range(1, number_epoch + 1):\n",
    "                loop = tqdm(enumerate(train_loader),\n",
    "                            total=len(train_loader),\n",
    "                            leave=True)\n",
    "                for i, (inputs, labels) in loop:\n",
    "                    model.train()\n",
    "                    inputs = inputs.to(device)\n",
    "                    labels = labels.to(device)\n",
    "                    optimizer.zero_grad()\n",
    "                    # train\n",
    "                    # pdb.set_trace()\n",
    "                    input_tensor = inputs[:, :seq_len, :]\n",
    "                    target_tensor = inputs[:, seq_len - 1:seq_len +\n",
    "                                           target_len - 1, :]\n",
    "                    outputs = model(input_tensor, target_tensor).squeeze()\n",
    "                    loss = criterion(outputs, labels)\n",
    "                    train_losses.append(loss.item)\n",
    "                    loss.backward()\n",
    "                    optimizer.step()\n",
    "\n",
    "                    # eval\n",
    "                    if i % 5 == 0:\n",
    "                        num_without_imp = num_without_imp + 1\n",
    "                        valid_losses = list()\n",
    "                        model.eval()\n",
    "                        for inp, lab in valid_loader:\n",
    "                            inp = inp.to(device)\n",
    "                            lab = lab.to(device)\n",
    "                            input_tensor = inp[:, 0:seq_len, :]\n",
    "                            target_tensor = inp[:, seq_len:, :-1]\n",
    "                            decoder_input = input_tensor[:, -1, :].unsqueeze(1)\n",
    "                            for t in range(target_len):\n",
    "                                decoder_output = model(input_tensor,\n",
    "                                                       decoder_input,\n",
    "                                                       is_tgt_mask=False)\n",
    "                                decoder_input_add = torch.cat(\n",
    "                                    (target_tensor[:, :t + 1, :],\n",
    "                                     decoder_output.detach()), 2)\n",
    "                                decoder_input = torch.cat(\n",
    "                                    (input_tensor[:, -1, :].unsqueeze(1),\n",
    "                                     decoder_input_add), 1)\n",
    "                            valid_loss = criterion(decoder_output.squeeze(),\n",
    "                                                   lab)\n",
    "                            valid_losses.append(valid_loss.item())\n",
    "                        model.train()\n",
    "                        loop.set_description(\"Epoch: {}/{}...\".format(\n",
    "                            epoch, number_epoch))\n",
    "                        loop.set_postfix(train_loss=loss.item(),\n",
    "                                         valid_loss=np.mean(valid_losses))\n",
    "                        if np.mean(valid_losses) < valid_loss_min:\n",
    "                            num_without_imp = 0\n",
    "                            valid_loss_min = np.mean(valid_losses)\n",
    "                scheduler.step()\n",
    "                if num_without_imp > 50:\n",
    "                    break\n",
    "            if valid_loss_min < mse_thresh:\n",
    "                valid_loss_list.append(valid_loss_min)\n",
    "                break\n",
    "    return np.mean(valid_loss_list)"
   ]
  },
  {
   "cell_type": "markdown",
   "id": "f7cc117f",
   "metadata": {},
   "source": [
    "## hyper-parameters config"
   ]
  },
  {
   "cell_type": "code",
   "execution_count": 10,
   "id": "f7c93f99",
   "metadata": {
    "ExecuteTime": {
     "end_time": "2021-12-25T15:57:19.558819Z",
     "start_time": "2021-12-25T15:57:19.552253Z"
    }
   },
   "outputs": [],
   "source": [
    "seq_len = 72\n",
    "target_len = 24\n",
    "mse_thresh = 0.05\n",
    "\n",
    "\n",
    "def model_config():\n",
    "    batch_sizes = [512, 256]\n",
    "    lrs = [0.01, 0.05, 0.1]\n",
    "    number_epochs = [40]\n",
    "    d_models = [128, 256, 64]\n",
    "    n_layers = [1, 2, 3]\n",
    "    drop_prob = [0.2, 0.4, 0.5]\n",
    "    nhead = [2, 4, 8]\n",
    "    configs = list()\n",
    "    for i in batch_sizes:\n",
    "        for j in lrs:\n",
    "            for k in number_epochs:\n",
    "                for l in d_models:\n",
    "                    for m in n_layers:\n",
    "                        for n in drop_prob:\n",
    "                            for o in nhead:\n",
    "                                configs.append({\n",
    "                                    'batch_size': i,\n",
    "                                    'lr': j,\n",
    "                                    'number_epoch': k,\n",
    "                                    'd_model': l,\n",
    "                                    'n_layers': m,\n",
    "                                    'drop_prob': n,\n",
    "                                    'nhead': o\n",
    "                                })\n",
    "    return configs"
   ]
  },
  {
   "cell_type": "markdown",
   "id": "5466c4e7",
   "metadata": {},
   "source": [
    "## random search for HPO"
   ]
  },
  {
   "cell_type": "code",
   "execution_count": 11,
   "id": "1e76cbd0",
   "metadata": {
    "ExecuteTime": {
     "end_time": "2021-12-25T15:57:19.570040Z",
     "start_time": "2021-12-25T15:57:19.560701Z"
    }
   },
   "outputs": [],
   "source": [
    "def run_model_hpo(seq_len=seq_len,\n",
    "                  target_len=target_len,\n",
    "                  mse_thresh=mse_thresh):\n",
    "    train_data = data[:int(0.8 * len(data))]\n",
    "    train_data, _, _ = normalization(train_data)\n",
    "    train_x, train_y = series_to_supervise(train_data, seq_len, target_len)\n",
    "    train_x_list, train_y_list, valid_x_list, valid_y_list = time_series_split(\n",
    "        train_x, train_y)\n",
    "    #         with enough data\n",
    "    #     train_x_list = train_x_list[-1:]\n",
    "    #     train_y_list = train_y_list[-1:]\n",
    "    #     valid_x_list = valid_x_list[-1:]\n",
    "    #     valid_y_list = valid_y_list[-1:]\n",
    "\n",
    "    configs = model_config()\n",
    "    records = []\n",
    "    input_size = train_x.shape[2]\n",
    "    for i in range(10):\n",
    "        config = random.choice(configs)\n",
    "        configs.remove(config)\n",
    "        batch_size = config['batch_size']\n",
    "        lr = config['lr']\n",
    "        number_epoch = config['number_epoch']\n",
    "        d_model = config['d_model']\n",
    "        n_layers = config['n_layers']\n",
    "        drop_prob = config['drop_prob']\n",
    "        nhead = config['nhead']\n",
    "        print(\n",
    "            \"model config: batch_size-{}, lr-{}, number_epoch-{}, d_model-{}, n_layers-{},drop_prob-{},nhead-{}\"\n",
    "            .format(batch_size, lr, number_epoch, d_model, n_layers, drop_prob,\n",
    "                    nhead))\n",
    "        valid_loss = train_model_hpo(train_x_list, train_y_list, valid_x_list,\n",
    "                                     valid_y_list, input_size, seq_len,\n",
    "                                     target_len, mse_thresh, d_model, nhead,\n",
    "                                     n_layers, number_epoch, batch_size, lr,\n",
    "                                     drop_prob)\n",
    "        records.append({\n",
    "            'batch_size': batch_size,\n",
    "            'lr': lr,\n",
    "            'number_epoch': number_epoch,\n",
    "            'd_model': d_model,\n",
    "            'n_layers': n_layers,\n",
    "            'drop_prob': drop_prob,            \n",
    "            'nhead': nhead,\n",
    "            'valid_loss': valid_loss,\n",
    "        })\n",
    "    return records"
   ]
  },
  {
   "cell_type": "markdown",
   "id": "0d853a0b",
   "metadata": {},
   "source": [
    "## run random search"
   ]
  },
  {
   "cell_type": "code",
   "execution_count": 12,
   "id": "51fc6e53",
   "metadata": {
    "ExecuteTime": {
     "end_time": "2021-12-25T20:31:30.632404Z",
     "start_time": "2021-12-25T15:57:22.558823Z"
    }
   },
   "outputs": [
    {
     "name": "stdout",
     "output_type": "stream",
     "text": [
      "supervised data: shape of x: (25232, 96, 16), shape of y: (25232, 24)\n",
      "model config: batch_size-256, lr-0.01, number_epoch-40, d_model-256, n_layers-3,drop_prob-0.4,nhead-2\n",
      "train dataset 0\n"
     ]
    },
    {
     "name": "stderr",
     "output_type": "stream",
     "text": [
      "Epoch: 1/40...: 100%|██████████| 16/16 [00:38<00:00,  2.39s/it, train_loss=0.285, valid_loss=0.226] \n",
      "Epoch: 2/40...: 100%|██████████| 16/16 [00:35<00:00,  2.25s/it, train_loss=0.104, valid_loss=0.121]  \n",
      "Epoch: 3/40...: 100%|██████████| 16/16 [00:37<00:00,  2.35s/it, train_loss=0.04, valid_loss=0.0488]  \n",
      "Epoch: 4/40...: 100%|██████████| 16/16 [00:35<00:00,  2.24s/it, train_loss=0.0276, valid_loss=0.0344]\n",
      "Epoch: 5/40...: 100%|██████████| 16/16 [00:37<00:00,  2.34s/it, train_loss=0.0207, valid_loss=0.0322]\n",
      "Epoch: 6/40...: 100%|██████████| 16/16 [00:36<00:00,  2.27s/it, train_loss=0.0212, valid_loss=0.0324]\n",
      "Epoch: 7/40...: 100%|██████████| 16/16 [00:37<00:00,  2.34s/it, train_loss=0.02, valid_loss=0.0323]  \n",
      "Epoch: 8/40...: 100%|██████████| 16/16 [00:36<00:00,  2.27s/it, train_loss=0.0207, valid_loss=0.0322]\n",
      "Epoch: 9/40...: 100%|██████████| 16/16 [00:37<00:00,  2.33s/it, train_loss=0.019, valid_loss=0.0323] \n",
      "Epoch: 10/40...: 100%|██████████| 16/16 [00:36<00:00,  2.26s/it, train_loss=0.0182, valid_loss=0.0328]\n",
      "Epoch: 11/40...: 100%|██████████| 16/16 [00:35<00:00,  2.19s/it, train_loss=0.0184, valid_loss=0.0322]\n",
      "Epoch: 12/40...: 100%|██████████| 16/16 [00:35<00:00,  2.19s/it, train_loss=0.019, valid_loss=0.0322] \n",
      "Epoch: 13/40...: 100%|██████████| 16/16 [00:36<00:00,  2.25s/it, train_loss=0.0176, valid_loss=0.0325]\n",
      "Epoch: 14/40...: 100%|██████████| 16/16 [00:36<00:00,  2.27s/it, train_loss=0.0177, valid_loss=0.0323]\n",
      "Epoch: 15/40...: 100%|██████████| 16/16 [00:35<00:00,  2.23s/it, train_loss=0.0183, valid_loss=0.0323]\n",
      "Epoch: 16/40...: 100%|██████████| 16/16 [00:35<00:00,  2.24s/it, train_loss=0.0185, valid_loss=0.0323]\n",
      "Epoch: 17/40...: 100%|██████████| 16/16 [00:36<00:00,  2.26s/it, train_loss=0.0181, valid_loss=0.0326]\n",
      "Epoch: 18/40...: 100%|██████████| 16/16 [00:31<00:00,  1.99s/it, train_loss=0.018, valid_loss=0.0322] \n",
      "Epoch: 19/40...: 100%|██████████| 16/16 [00:30<00:00,  1.91s/it, train_loss=0.0181, valid_loss=0.0329]\n",
      "Epoch: 20/40...: 100%|██████████| 16/16 [00:31<00:00,  1.94s/it, train_loss=0.0172, valid_loss=0.0321]\n",
      "Epoch: 21/40...: 100%|██████████| 16/16 [00:30<00:00,  1.91s/it, train_loss=0.018, valid_loss=0.0322]\n",
      "Epoch: 22/40...: 100%|██████████| 16/16 [00:31<00:00,  1.96s/it, train_loss=0.0171, valid_loss=0.0324]\n",
      "Epoch: 23/40...: 100%|██████████| 16/16 [00:31<00:00,  1.95s/it, train_loss=0.017, valid_loss=0.0324] \n"
     ]
    },
    {
     "name": "stdout",
     "output_type": "stream",
     "text": [
      "train dataset 1\n"
     ]
    },
    {
     "name": "stderr",
     "output_type": "stream",
     "text": [
      "Epoch: 1/40...: 100%|██████████| 32/32 [00:53<00:00,  1.68s/it, train_loss=0.079, valid_loss=0.161]  \n",
      "Epoch: 2/40...: 100%|██████████| 32/32 [00:58<00:00,  1.83s/it, train_loss=0.0383, valid_loss=0.0424]\n",
      "Epoch: 3/40...: 100%|██████████| 32/32 [00:59<00:00,  1.87s/it, train_loss=0.0323, valid_loss=0.0318]\n",
      "Epoch: 4/40...: 100%|██████████| 32/32 [01:00<00:00,  1.88s/it, train_loss=0.0287, valid_loss=0.0314]\n",
      "Epoch: 5/40...: 100%|██████████| 32/32 [00:58<00:00,  1.84s/it, train_loss=0.0296, valid_loss=0.0351]\n",
      "Epoch: 6/40...: 100%|██████████| 32/32 [00:59<00:00,  1.87s/it, train_loss=0.0293, valid_loss=0.0322]\n",
      "Epoch: 7/40...: 100%|██████████| 32/32 [01:02<00:00,  1.95s/it, train_loss=0.0272, valid_loss=0.0323]\n",
      "Epoch: 8/40...: 100%|██████████| 32/32 [01:03<00:00,  1.97s/it, train_loss=0.0284, valid_loss=0.0335]\n",
      "Epoch: 9/40...: 100%|██████████| 32/32 [01:04<00:00,  2.03s/it, train_loss=0.0245, valid_loss=0.0298]\n",
      "Epoch: 10/40...: 100%|██████████| 32/32 [01:09<00:00,  2.19s/it, train_loss=0.0276, valid_loss=0.0305]\n"
     ]
    },
    {
     "name": "stdout",
     "output_type": "stream",
     "text": [
      "train dataset 2\n"
     ]
    },
    {
     "name": "stderr",
     "output_type": "stream",
     "text": [
      "Epoch: 1/40...: 100%|██████████| 49/49 [01:37<00:00,  2.00s/it, train_loss=0.0536, valid_loss=0.0394]\n",
      "Epoch: 2/40...: 100%|██████████| 49/49 [01:35<00:00,  1.94s/it, train_loss=0.0334, valid_loss=0.0384]\n",
      "Epoch: 3/40...: 100%|██████████| 49/49 [01:35<00:00,  1.96s/it, train_loss=0.0319, valid_loss=0.038] \n",
      "Epoch: 4/40...: 100%|██████████| 49/49 [01:35<00:00,  1.94s/it, train_loss=0.0286, valid_loss=0.0385]\n",
      "Epoch: 5/40...: 100%|██████████| 49/49 [01:36<00:00,  1.97s/it, train_loss=0.0279, valid_loss=0.0376]\n",
      "Epoch: 6/40...: 100%|██████████| 49/49 [01:35<00:00,  1.94s/it, train_loss=0.0272, valid_loss=0.0383]\n",
      "Epoch: 7/40...: 100%|██████████| 49/49 [01:33<00:00,  1.91s/it, train_loss=0.0266, valid_loss=0.0381]\n",
      "Epoch: 8/40...: 100%|██████████| 49/49 [01:29<00:00,  1.83s/it, train_loss=0.0262, valid_loss=0.0395]\n",
      "Epoch: 9/40...: 100%|██████████| 49/49 [01:30<00:00,  1.84s/it, train_loss=0.0287, valid_loss=0.038] \n",
      "Epoch: 10/40...: 100%|██████████| 49/49 [01:30<00:00,  1.85s/it, train_loss=0.0251, valid_loss=0.0381]\n",
      "Epoch: 11/40...: 100%|██████████| 49/49 [01:28<00:00,  1.81s/it, train_loss=0.0274, valid_loss=0.0378]\n",
      "Epoch: 12/40...: 100%|██████████| 49/49 [01:37<00:00,  1.98s/it, train_loss=0.0273, valid_loss=0.039] \n",
      "Epoch: 13/40...: 100%|██████████| 49/49 [01:34<00:00,  1.93s/it, train_loss=0.0271, valid_loss=0.0407]\n",
      "Epoch: 14/40...: 100%|██████████| 49/49 [01:34<00:00,  1.93s/it, train_loss=0.0262, valid_loss=0.0385]\n"
     ]
    },
    {
     "name": "stdout",
     "output_type": "stream",
     "text": [
      "train dataset 3\n"
     ]
    },
    {
     "name": "stderr",
     "output_type": "stream",
     "text": [
      "Epoch: 1/40...: 100%|██████████| 65/65 [02:02<00:00,  1.88s/it, train_loss=0.0412, valid_loss=0.0342]\n",
      "Epoch: 2/40...: 100%|██████████| 65/65 [01:59<00:00,  1.84s/it, train_loss=0.0345, valid_loss=0.036] \n",
      "Epoch: 3/40...: 100%|██████████| 65/65 [01:58<00:00,  1.82s/it, train_loss=0.0329, valid_loss=0.0354]\n",
      "Epoch: 4/40...: 100%|██████████| 65/65 [01:50<00:00,  1.70s/it, train_loss=0.0309, valid_loss=0.0385]\n",
      "Epoch: 5/40...: 100%|██████████| 65/65 [01:47<00:00,  1.65s/it, train_loss=0.0322, valid_loss=0.0398]\n",
      "Epoch: 6/40...: 100%|██████████| 65/65 [01:48<00:00,  1.66s/it, train_loss=0.0278, valid_loss=0.0359]\n",
      "Epoch: 7/40...: 100%|██████████| 65/65 [01:49<00:00,  1.69s/it, train_loss=0.0302, valid_loss=0.0358]\n",
      "Epoch: 8/40...: 100%|██████████| 65/65 [01:50<00:00,  1.70s/it, train_loss=0.0322, valid_loss=0.0344]\n",
      "Epoch: 9/40...: 100%|██████████| 65/65 [01:49<00:00,  1.69s/it, train_loss=0.0286, valid_loss=0.0353]\n"
     ]
    },
    {
     "name": "stdout",
     "output_type": "stream",
     "text": [
      "train dataset 4\n"
     ]
    },
    {
     "name": "stderr",
     "output_type": "stream",
     "text": [
      "Epoch: 1/40...: 100%|██████████| 82/82 [02:15<00:00,  1.65s/it, train_loss=0.0389, valid_loss=0.0375]\n",
      "Epoch: 2/40...: 100%|██████████| 82/82 [02:14<00:00,  1.64s/it, train_loss=0.0328, valid_loss=0.0379]\n",
      "Epoch: 3/40...: 100%|██████████| 82/82 [02:16<00:00,  1.66s/it, train_loss=0.0312, valid_loss=0.038] \n",
      "Epoch: 4/40...: 100%|██████████| 82/82 [02:30<00:00,  1.84s/it, train_loss=0.033, valid_loss=0.038]  \n"
     ]
    },
    {
     "name": "stdout",
     "output_type": "stream",
     "text": [
      "model config: batch_size-512, lr-0.05, number_epoch-40, d_model-128, n_layers-2,drop_prob-0.2,nhead-8\n",
      "train dataset 0\n"
     ]
    },
    {
     "name": "stderr",
     "output_type": "stream",
     "text": [
      "Epoch: 1/40...: 100%|██████████| 8/8 [00:08<00:00,  1.03s/it, train_loss=0.233, valid_loss=1.43]\n",
      "Epoch: 2/40...: 100%|██████████| 8/8 [00:08<00:00,  1.04s/it, train_loss=0.631, valid_loss=0.407]\n",
      "Epoch: 3/40...: 100%|██████████| 8/8 [00:08<00:00,  1.05s/it, train_loss=0.0884, valid_loss=0.0322]\n",
      "Epoch: 4/40...: 100%|██████████| 8/8 [00:08<00:00,  1.09s/it, train_loss=0.034, valid_loss=0.0324]\n",
      "Epoch: 5/40...: 100%|██████████| 8/8 [00:08<00:00,  1.01s/it, train_loss=0.0211, valid_loss=0.049]\n",
      "Epoch: 6/40...: 100%|██████████| 8/8 [00:08<00:00,  1.02s/it, train_loss=0.0212, valid_loss=0.0382]\n",
      "Epoch: 7/40...: 100%|██████████| 8/8 [00:08<00:00,  1.03s/it, train_loss=0.0233, valid_loss=0.045] \n",
      "Epoch: 8/40...: 100%|██████████| 8/8 [00:08<00:00,  1.06s/it, train_loss=0.0232, valid_loss=0.0343]\n",
      "Epoch: 9/40...: 100%|██████████| 8/8 [00:08<00:00,  1.07s/it, train_loss=0.021, valid_loss=0.0358] \n",
      "Epoch: 10/40...: 100%|██████████| 8/8 [00:08<00:00,  1.06s/it, train_loss=0.0202, valid_loss=0.0322]\n",
      "Epoch: 11/40...: 100%|██████████| 8/8 [00:08<00:00,  1.01s/it, train_loss=0.0193, valid_loss=0.0326]\n",
      "Epoch: 12/40...: 100%|██████████| 8/8 [00:08<00:00,  1.09s/it, train_loss=0.0185, valid_loss=0.0333]\n",
      "Epoch: 13/40...: 100%|██████████| 8/8 [00:08<00:00,  1.06s/it, train_loss=0.0188, valid_loss=0.0322]\n",
      "Epoch: 14/40...: 100%|██████████| 8/8 [00:08<00:00,  1.01s/it, train_loss=0.0175, valid_loss=0.0331]\n",
      "Epoch: 15/40...: 100%|██████████| 8/8 [00:08<00:00,  1.10s/it, train_loss=0.0189, valid_loss=0.0326]\n",
      "Epoch: 16/40...: 100%|██████████| 8/8 [00:08<00:00,  1.05s/it, train_loss=0.0183, valid_loss=0.0324]\n",
      "Epoch: 17/40...: 100%|██████████| 8/8 [00:08<00:00,  1.02s/it, train_loss=0.018, valid_loss=0.0329] \n",
      "Epoch: 18/40...: 100%|██████████| 8/8 [00:08<00:00,  1.04s/it, train_loss=0.0187, valid_loss=0.0326]\n",
      "Epoch: 19/40...: 100%|██████████| 8/8 [00:08<00:00,  1.06s/it, train_loss=0.0184, valid_loss=0.0324]\n",
      "Epoch: 20/40...: 100%|██████████| 8/8 [00:08<00:00,  1.09s/it, train_loss=0.0189, valid_loss=0.0328]\n",
      "Epoch: 21/40...: 100%|██████████| 8/8 [00:08<00:00,  1.06s/it, train_loss=0.0183, valid_loss=0.0326]\n",
      "Epoch: 22/40...: 100%|██████████| 8/8 [00:08<00:00,  1.08s/it, train_loss=0.0182, valid_loss=0.0325]\n",
      "Epoch: 23/40...: 100%|██████████| 8/8 [00:08<00:00,  1.04s/it, train_loss=0.0175, valid_loss=0.0327]\n",
      "Epoch: 24/40...: 100%|██████████| 8/8 [00:08<00:00,  1.09s/it, train_loss=0.0182, valid_loss=0.0326]\n",
      "Epoch: 25/40...: 100%|██████████| 8/8 [00:08<00:00,  1.08s/it, train_loss=0.0179, valid_loss=0.0326]\n",
      "Epoch: 26/40...: 100%|██████████| 8/8 [00:08<00:00,  1.06s/it, train_loss=0.0182, valid_loss=0.0326]\n",
      "Epoch: 27/40...: 100%|██████████| 8/8 [00:08<00:00,  1.06s/it, train_loss=0.0178, valid_loss=0.0325]\n",
      "Epoch: 28/40...: 100%|██████████| 8/8 [00:08<00:00,  1.08s/it, train_loss=0.0178, valid_loss=0.0326]\n",
      "Epoch: 29/40...: 100%|██████████| 8/8 [00:08<00:00,  1.08s/it, train_loss=0.0181, valid_loss=0.0325]\n",
      "Epoch: 30/40...: 100%|██████████| 8/8 [00:08<00:00,  1.05s/it, train_loss=0.0178, valid_loss=0.0328]\n",
      "Epoch: 31/40...: 100%|██████████| 8/8 [00:08<00:00,  1.05s/it, train_loss=0.0165, valid_loss=0.0325]\n",
      "Epoch: 32/40...: 100%|██████████| 8/8 [00:08<00:00,  1.04s/it, train_loss=0.0173, valid_loss=0.0326]\n",
      "Epoch: 33/40...: 100%|██████████| 8/8 [00:08<00:00,  1.11s/it, train_loss=0.0174, valid_loss=0.0326]\n",
      "Epoch: 34/40...: 100%|██████████| 8/8 [00:08<00:00,  1.07s/it, train_loss=0.0185, valid_loss=0.0326]\n"
     ]
    },
    {
     "name": "stdout",
     "output_type": "stream",
     "text": [
      "train dataset 1\n"
     ]
    },
    {
     "name": "stderr",
     "output_type": "stream",
     "text": [
      "Epoch: 1/40...: 100%|██████████| 16/16 [00:16<00:00,  1.02s/it, train_loss=0.114, valid_loss=0.0294]\n",
      "Epoch: 2/40...: 100%|██████████| 16/16 [00:16<00:00,  1.06s/it, train_loss=0.0981, valid_loss=0.113] \n",
      "Epoch: 3/40...: 100%|██████████| 16/16 [00:16<00:00,  1.04s/it, train_loss=0.0343, valid_loss=0.0278]\n",
      "Epoch: 4/40...: 100%|██████████| 16/16 [00:17<00:00,  1.07s/it, train_loss=0.0336, valid_loss=0.0277]\n",
      "Epoch: 5/40...: 100%|██████████| 16/16 [00:16<00:00,  1.05s/it, train_loss=0.0304, valid_loss=0.0296]\n",
      "Epoch: 6/40...: 100%|██████████| 16/16 [00:16<00:00,  1.03s/it, train_loss=0.0297, valid_loss=0.0295]\n",
      "Epoch: 7/40...: 100%|██████████| 16/16 [00:16<00:00,  1.03s/it, train_loss=0.0283, valid_loss=0.0289]\n",
      "Epoch: 8/40...: 100%|██████████| 16/16 [00:16<00:00,  1.05s/it, train_loss=0.0276, valid_loss=0.0297]\n",
      "Epoch: 9/40...: 100%|██████████| 16/16 [00:17<00:00,  1.06s/it, train_loss=0.0276, valid_loss=0.029] \n",
      "Epoch: 10/40...: 100%|██████████| 16/16 [00:17<00:00,  1.07s/it, train_loss=0.0291, valid_loss=0.0308]\n",
      "Epoch: 11/40...: 100%|██████████| 16/16 [00:16<00:00,  1.01s/it, train_loss=0.027, valid_loss=0.0292] \n",
      "Epoch: 12/40...: 100%|██████████| 16/16 [00:16<00:00,  1.00s/it, train_loss=0.028, valid_loss=0.029] \n",
      "Epoch: 13/40...: 100%|██████████| 16/16 [00:16<00:00,  1.05s/it, train_loss=0.0265, valid_loss=0.0285]\n",
      "Epoch: 14/40...: 100%|██████████| 16/16 [00:16<00:00,  1.06s/it, train_loss=0.0278, valid_loss=0.0296]\n",
      "Epoch: 15/40...: 100%|██████████| 16/16 [00:16<00:00,  1.04s/it, train_loss=0.026, valid_loss=0.0295] \n",
      "Epoch: 16/40...: 100%|██████████| 16/16 [00:16<00:00,  1.04s/it, train_loss=0.0267, valid_loss=0.0288]\n",
      "Epoch: 17/40...: 100%|██████████| 16/16 [00:15<00:00,  1.04it/s, train_loss=0.0268, valid_loss=0.0305]\n"
     ]
    },
    {
     "name": "stdout",
     "output_type": "stream",
     "text": [
      "train dataset 2\n"
     ]
    },
    {
     "name": "stderr",
     "output_type": "stream",
     "text": [
      "Epoch: 1/40...: 100%|██████████| 24/24 [00:20<00:00,  1.18it/s, train_loss=0.124, valid_loss=0.0416]\n",
      "Epoch: 2/40...: 100%|██████████| 24/24 [00:19<00:00,  1.21it/s, train_loss=0.0577, valid_loss=0.131]\n",
      "Epoch: 3/40...: 100%|██████████| 24/24 [00:20<00:00,  1.18it/s, train_loss=0.0378, valid_loss=0.107] \n",
      "Epoch: 4/40...: 100%|██████████| 24/24 [00:20<00:00,  1.20it/s, train_loss=0.0343, valid_loss=0.118]\n",
      "Epoch: 5/40...: 100%|██████████| 24/24 [00:19<00:00,  1.21it/s, train_loss=0.0328, valid_loss=0.108] \n",
      "Epoch: 6/40...: 100%|██████████| 24/24 [00:19<00:00,  1.24it/s, train_loss=0.0329, valid_loss=0.077] \n",
      "Epoch: 7/40...: 100%|██████████| 24/24 [00:20<00:00,  1.18it/s, train_loss=0.0313, valid_loss=0.0584]\n",
      "Epoch: 8/40...: 100%|██████████| 24/24 [00:20<00:00,  1.16it/s, train_loss=0.0332, valid_loss=0.0852]\n",
      "Epoch: 9/40...: 100%|██████████| 24/24 [00:20<00:00,  1.15it/s, train_loss=0.0279, valid_loss=0.0711]\n",
      "Epoch: 10/40...: 100%|██████████| 24/24 [00:21<00:00,  1.14it/s, train_loss=0.03, valid_loss=0.0761]  \n",
      "Epoch: 11/40...: 100%|██████████| 24/24 [00:20<00:00,  1.16it/s, train_loss=0.0306, valid_loss=0.0605]\n",
      "Epoch: 12/40...: 100%|██████████| 24/24 [00:20<00:00,  1.19it/s, train_loss=0.0285, valid_loss=0.0716]\n"
     ]
    },
    {
     "name": "stdout",
     "output_type": "stream",
     "text": [
      "train dataset 3\n"
     ]
    },
    {
     "name": "stderr",
     "output_type": "stream",
     "text": [
      "Epoch: 1/40...: 100%|██████████| 32/32 [00:28<00:00,  1.12it/s, train_loss=0.0372, valid_loss=0.0367]\n",
      "Epoch: 2/40...: 100%|██████████| 32/32 [00:28<00:00,  1.12it/s, train_loss=0.0351, valid_loss=0.0352]\n",
      "Epoch: 3/40...: 100%|██████████| 32/32 [00:28<00:00,  1.13it/s, train_loss=0.0306, valid_loss=0.0344]\n",
      "Epoch: 4/40...: 100%|██████████| 32/32 [00:29<00:00,  1.08it/s, train_loss=0.0296, valid_loss=0.0342]\n",
      "Epoch: 5/40...: 100%|██████████| 32/32 [00:30<00:00,  1.03it/s, train_loss=0.0306, valid_loss=0.0342]\n",
      "Epoch: 6/40...: 100%|██████████| 32/32 [00:30<00:00,  1.06it/s, train_loss=0.0292, valid_loss=0.0345]\n",
      "Epoch: 7/40...: 100%|██████████| 32/32 [00:29<00:00,  1.09it/s, train_loss=0.0315, valid_loss=0.0345]\n",
      "Epoch: 8/40...: 100%|██████████| 32/32 [00:28<00:00,  1.11it/s, train_loss=0.0312, valid_loss=0.0343]\n",
      "Epoch: 9/40...: 100%|██████████| 32/32 [00:29<00:00,  1.08it/s, train_loss=0.031, valid_loss=0.0342] \n",
      "Epoch: 10/40...: 100%|██████████| 32/32 [00:27<00:00,  1.15it/s, train_loss=0.0288, valid_loss=0.0341]\n",
      "Epoch: 11/40...: 100%|██████████| 32/32 [00:29<00:00,  1.08it/s, train_loss=0.0295, valid_loss=0.0342]\n",
      "Epoch: 12/40...: 100%|██████████| 32/32 [00:30<00:00,  1.07it/s, train_loss=0.0295, valid_loss=0.0342]\n",
      "Epoch: 13/40...: 100%|██████████| 32/32 [00:28<00:00,  1.11it/s, train_loss=0.0317, valid_loss=0.0342]\n",
      "Epoch: 14/40...: 100%|██████████| 32/32 [00:29<00:00,  1.08it/s, train_loss=0.0287, valid_loss=0.0344]\n",
      "Epoch: 15/40...: 100%|██████████| 32/32 [00:29<00:00,  1.09it/s, train_loss=0.0293, valid_loss=0.0342]\n",
      "Epoch: 16/40...: 100%|██████████| 32/32 [00:29<00:00,  1.10it/s, train_loss=0.0288, valid_loss=0.0341]\n",
      "Epoch: 17/40...: 100%|██████████| 32/32 [00:34<00:00,  1.07s/it, train_loss=0.0317, valid_loss=0.0342]\n",
      "Epoch: 18/40...: 100%|██████████| 32/32 [00:33<00:00,  1.06s/it, train_loss=0.0307, valid_loss=0.0347]\n"
     ]
    },
    {
     "name": "stdout",
     "output_type": "stream",
     "text": [
      "train dataset 4\n"
     ]
    },
    {
     "name": "stderr",
     "output_type": "stream",
     "text": [
      "Epoch: 1/40...: 100%|██████████| 41/41 [00:43<00:00,  1.07s/it, train_loss=0.0465, valid_loss=0.0372]\n",
      "Epoch: 2/40...: 100%|██████████| 41/41 [00:44<00:00,  1.08s/it, train_loss=0.0306, valid_loss=0.0345]\n",
      "Epoch: 3/40...: 100%|██████████| 41/41 [00:44<00:00,  1.07s/it, train_loss=0.0307, valid_loss=0.0346]\n",
      "Epoch: 4/40...: 100%|██████████| 41/41 [00:44<00:00,  1.07s/it, train_loss=0.0308, valid_loss=0.0345]\n",
      "Epoch: 5/40...: 100%|██████████| 41/41 [00:44<00:00,  1.08s/it, train_loss=0.0306, valid_loss=0.0346]\n",
      "Epoch: 6/40...: 100%|██████████| 41/41 [00:45<00:00,  1.10s/it, train_loss=0.0333, valid_loss=0.0346]\n",
      "Epoch: 7/40...: 100%|██████████| 41/41 [00:45<00:00,  1.12s/it, train_loss=0.0313, valid_loss=0.0348]\n",
      "Epoch: 8/40...: 100%|██████████| 41/41 [00:46<00:00,  1.13s/it, train_loss=0.0308, valid_loss=0.0347]\n",
      "Epoch: 9/40...: 100%|██████████| 41/41 [00:45<00:00,  1.11s/it, train_loss=0.0301, valid_loss=0.0346]\n",
      "Epoch: 10/40...: 100%|██████████| 41/41 [00:45<00:00,  1.11s/it, train_loss=0.0327, valid_loss=0.0349]\n",
      "Epoch: 11/40...: 100%|██████████| 41/41 [00:45<00:00,  1.11s/it, train_loss=0.0314, valid_loss=0.0345]\n",
      "Epoch: 12/40...: 100%|██████████| 41/41 [00:45<00:00,  1.11s/it, train_loss=0.0291, valid_loss=0.0346]\n",
      "Epoch: 13/40...: 100%|██████████| 41/41 [00:46<00:00,  1.13s/it, train_loss=0.0312, valid_loss=0.0346]\n",
      "Epoch: 14/40...: 100%|██████████| 41/41 [00:46<00:00,  1.13s/it, train_loss=0.031, valid_loss=0.0346] \n",
      "Epoch: 15/40...: 100%|██████████| 41/41 [00:41<00:00,  1.00s/it, train_loss=0.0298, valid_loss=0.0345]\n",
      "Epoch: 16/40...: 100%|██████████| 41/41 [00:39<00:00,  1.05it/s, train_loss=0.033, valid_loss=0.0345] \n",
      "Epoch: 17/40...: 100%|██████████| 41/41 [00:38<00:00,  1.07it/s, train_loss=0.0298, valid_loss=0.0344]\n",
      "Epoch: 18/40...: 100%|██████████| 41/41 [00:37<00:00,  1.09it/s, train_loss=0.0308, valid_loss=0.0346]\n"
     ]
    },
    {
     "name": "stdout",
     "output_type": "stream",
     "text": [
      "model config: batch_size-256, lr-0.05, number_epoch-40, d_model-128, n_layers-2,drop_prob-0.2,nhead-2\n",
      "train dataset 0\n"
     ]
    },
    {
     "name": "stderr",
     "output_type": "stream",
     "text": [
      "Epoch: 1/40...: 100%|██████████| 16/16 [00:12<00:00,  1.23it/s, train_loss=0.0987, valid_loss=0.192]\n",
      "Epoch: 2/40...: 100%|██████████| 16/16 [00:13<00:00,  1.14it/s, train_loss=0.055, valid_loss=0.0482]\n",
      "Epoch: 3/40...: 100%|██████████| 16/16 [00:14<00:00,  1.14it/s, train_loss=0.0367, valid_loss=0.0973]\n",
      "Epoch: 4/40...: 100%|██████████| 16/16 [00:14<00:00,  1.14it/s, train_loss=0.0251, valid_loss=0.041]\n",
      "Epoch: 5/40...: 100%|██████████| 16/16 [00:14<00:00,  1.14it/s, train_loss=0.0219, valid_loss=0.0596]\n",
      "Epoch: 6/40...: 100%|██████████| 16/16 [00:14<00:00,  1.11it/s, train_loss=0.0213, valid_loss=0.0545]\n",
      "Epoch: 7/40...: 100%|██████████| 16/16 [00:14<00:00,  1.13it/s, train_loss=0.0213, valid_loss=0.0542]\n",
      "Epoch: 8/40...: 100%|██████████| 16/16 [00:14<00:00,  1.13it/s, train_loss=0.0203, valid_loss=0.0535]\n",
      "Epoch: 9/40...: 100%|██████████| 16/16 [00:14<00:00,  1.11it/s, train_loss=0.0207, valid_loss=0.0542]\n",
      "Epoch: 10/40...: 100%|██████████| 16/16 [00:14<00:00,  1.13it/s, train_loss=0.0192, valid_loss=0.051] \n",
      "Epoch: 11/40...: 100%|██████████| 16/16 [00:14<00:00,  1.12it/s, train_loss=0.0194, valid_loss=0.0541]\n",
      "Epoch: 12/40...: 100%|██████████| 16/16 [00:14<00:00,  1.13it/s, train_loss=0.0185, valid_loss=0.0528]\n",
      "Epoch: 13/40...: 100%|██████████| 16/16 [00:13<00:00,  1.17it/s, train_loss=0.0178, valid_loss=0.0493]\n",
      "Epoch: 14/40...: 100%|██████████| 16/16 [00:13<00:00,  1.19it/s, train_loss=0.0187, valid_loss=0.0495]\n",
      "Epoch: 15/40...: 100%|██████████| 16/16 [00:14<00:00,  1.13it/s, train_loss=0.0171, valid_loss=0.0526]\n"
     ]
    },
    {
     "name": "stdout",
     "output_type": "stream",
     "text": [
      "train dataset 1\n"
     ]
    },
    {
     "name": "stderr",
     "output_type": "stream",
     "text": [
      "Epoch: 1/40...: 100%|██████████| 32/32 [00:24<00:00,  1.31it/s, train_loss=0.0981, valid_loss=0.0665]\n",
      "Epoch: 2/40...: 100%|██████████| 32/32 [00:24<00:00,  1.30it/s, train_loss=0.0312, valid_loss=0.0367]\n",
      "Epoch: 3/40...: 100%|██████████| 32/32 [00:23<00:00,  1.35it/s, train_loss=0.0285, valid_loss=0.0292]\n",
      "Epoch: 4/40...: 100%|██████████| 32/32 [00:24<00:00,  1.29it/s, train_loss=0.0249, valid_loss=0.0293]\n",
      "Epoch: 5/40...: 100%|██████████| 32/32 [00:24<00:00,  1.30it/s, train_loss=0.0295, valid_loss=0.0296]\n",
      "Epoch: 6/40...: 100%|██████████| 32/32 [00:24<00:00,  1.30it/s, train_loss=0.0288, valid_loss=0.0289]\n",
      "Epoch: 7/40...: 100%|██████████| 32/32 [00:24<00:00,  1.29it/s, train_loss=0.0272, valid_loss=0.0281]\n",
      "Epoch: 8/40...: 100%|██████████| 32/32 [00:24<00:00,  1.30it/s, train_loss=0.0292, valid_loss=0.0279]\n",
      "Epoch: 9/40...: 100%|██████████| 32/32 [00:24<00:00,  1.33it/s, train_loss=0.0256, valid_loss=0.0292]\n",
      "Epoch: 10/40...: 100%|██████████| 32/32 [00:25<00:00,  1.27it/s, train_loss=0.0269, valid_loss=0.0284]\n",
      "Epoch: 11/40...: 100%|██████████| 32/32 [00:24<00:00,  1.31it/s, train_loss=0.0242, valid_loss=0.0283]\n",
      "Epoch: 12/40...: 100%|██████████| 32/32 [00:24<00:00,  1.29it/s, train_loss=0.0277, valid_loss=0.029] \n",
      "Epoch: 13/40...: 100%|██████████| 32/32 [00:24<00:00,  1.28it/s, train_loss=0.0278, valid_loss=0.0295]\n",
      "Epoch: 14/40...: 100%|██████████| 32/32 [00:24<00:00,  1.33it/s, train_loss=0.0254, valid_loss=0.0282]\n",
      "Epoch: 15/40...: 100%|██████████| 32/32 [00:24<00:00,  1.30it/s, train_loss=0.0237, valid_loss=0.0289]\n",
      "Epoch: 16/40...: 100%|██████████| 32/32 [00:24<00:00,  1.29it/s, train_loss=0.0266, valid_loss=0.0278]\n"
     ]
    },
    {
     "name": "stdout",
     "output_type": "stream",
     "text": [
      "train dataset 2\n"
     ]
    },
    {
     "name": "stderr",
     "output_type": "stream",
     "text": [
      "Epoch: 1/40...: 100%|██████████| 49/49 [00:35<00:00,  1.38it/s, train_loss=0.0365, valid_loss=0.0377]\n",
      "Epoch: 2/40...: 100%|██████████| 49/49 [00:35<00:00,  1.40it/s, train_loss=0.0286, valid_loss=0.0377]\n",
      "Epoch: 3/40...: 100%|██████████| 49/49 [00:36<00:00,  1.36it/s, train_loss=0.0278, valid_loss=0.0382]\n",
      "Epoch: 4/40...: 100%|██████████| 49/49 [00:36<00:00,  1.36it/s, train_loss=0.0293, valid_loss=0.0376]\n",
      "Epoch: 5/40...: 100%|██████████| 49/49 [00:35<00:00,  1.38it/s, train_loss=0.0258, valid_loss=0.038] \n",
      "Epoch: 6/40...: 100%|██████████| 49/49 [00:35<00:00,  1.39it/s, train_loss=0.025, valid_loss=0.0379] \n",
      "Epoch: 7/40...: 100%|██████████| 49/49 [00:36<00:00,  1.34it/s, train_loss=0.0252, valid_loss=0.0379]\n",
      "Epoch: 8/40...: 100%|██████████| 49/49 [00:34<00:00,  1.42it/s, train_loss=0.0259, valid_loss=0.0377]\n",
      "Epoch: 9/40...: 100%|██████████| 49/49 [00:33<00:00,  1.45it/s, train_loss=0.029, valid_loss=0.0376] \n",
      "Epoch: 10/40...: 100%|██████████| 49/49 [00:34<00:00,  1.40it/s, train_loss=0.027, valid_loss=0.038]  \n",
      "Epoch: 11/40...: 100%|██████████| 49/49 [00:34<00:00,  1.42it/s, train_loss=0.0304, valid_loss=0.0393]\n"
     ]
    },
    {
     "name": "stdout",
     "output_type": "stream",
     "text": [
      "train dataset 3\n"
     ]
    },
    {
     "name": "stderr",
     "output_type": "stream",
     "text": [
      "Epoch: 1/40...: 100%|██████████| 65/65 [00:46<00:00,  1.40it/s, train_loss=0.0364, valid_loss=0.035] \n",
      "Epoch: 2/40...: 100%|██████████| 65/65 [00:48<00:00,  1.34it/s, train_loss=0.0308, valid_loss=0.0342]\n",
      "Epoch: 3/40...: 100%|██████████| 65/65 [00:46<00:00,  1.38it/s, train_loss=0.0318, valid_loss=0.0343]\n",
      "Epoch: 4/40...: 100%|██████████| 65/65 [00:46<00:00,  1.39it/s, train_loss=0.0318, valid_loss=0.0342]\n",
      "Epoch: 7/40...: 100%|██████████| 65/65 [00:47<00:00,  1.36it/s, train_loss=0.0303, valid_loss=0.0345]\n",
      "Epoch: 8/40...: 100%|██████████| 65/65 [00:47<00:00,  1.38it/s, train_loss=0.0313, valid_loss=0.0359]\n",
      "Epoch: 9/40...: 100%|██████████| 65/65 [00:47<00:00,  1.38it/s, train_loss=0.0291, valid_loss=0.0347]\n"
     ]
    },
    {
     "name": "stdout",
     "output_type": "stream",
     "text": [
      "train dataset 4\n"
     ]
    },
    {
     "name": "stderr",
     "output_type": "stream",
     "text": [
      "Epoch: 1/40...: 100%|██████████| 82/82 [01:04<00:00,  1.28it/s, train_loss=0.0311, valid_loss=0.0349]\n",
      "Epoch: 2/40...: 100%|██████████| 82/82 [01:04<00:00,  1.26it/s, train_loss=0.0313, valid_loss=0.0345]\n",
      "Epoch: 3/40...: 100%|██████████| 82/82 [01:03<00:00,  1.29it/s, train_loss=0.0322, valid_loss=0.0346]\n",
      "Epoch: 4/40...: 100%|██████████| 82/82 [01:04<00:00,  1.28it/s, train_loss=0.0315, valid_loss=0.0345]\n",
      "Epoch: 5/40...: 100%|██████████| 82/82 [01:04<00:00,  1.27it/s, train_loss=0.0281, valid_loss=0.0358]\n",
      "Epoch: 6/40...: 100%|██████████| 82/82 [01:04<00:00,  1.28it/s, train_loss=0.0314, valid_loss=0.0348]\n",
      "Epoch: 7/40...: 100%|██████████| 82/82 [00:58<00:00,  1.41it/s, train_loss=0.0321, valid_loss=0.0345]\n"
     ]
    },
    {
     "name": "stdout",
     "output_type": "stream",
     "text": [
      "model config: batch_size-512, lr-0.1, number_epoch-40, d_model-64, n_layers-2,drop_prob-0.5,nhead-8\n",
      "train dataset 0\n"
     ]
    },
    {
     "name": "stderr",
     "output_type": "stream",
     "text": [
      "Epoch: 1/40...: 100%|██████████| 8/8 [00:05<00:00,  1.41it/s, train_loss=0.262, valid_loss=0.0388]\n",
      "Epoch: 2/40...: 100%|██████████| 8/8 [00:05<00:00,  1.40it/s, train_loss=0.0422, valid_loss=0.0615]\n",
      "Epoch: 3/40...: 100%|██████████| 8/8 [00:05<00:00,  1.36it/s, train_loss=0.0317, valid_loss=0.037] \n",
      "Epoch: 4/40...: 100%|██████████| 8/8 [00:05<00:00,  1.39it/s, train_loss=0.0259, valid_loss=0.0324]\n",
      "Epoch: 5/40...: 100%|██████████| 8/8 [00:06<00:00,  1.32it/s, train_loss=0.0228, valid_loss=0.0327]\n",
      "Epoch: 6/40...: 100%|██████████| 8/8 [00:06<00:00,  1.30it/s, train_loss=0.0206, valid_loss=0.0324]\n",
      "Epoch: 7/40...: 100%|██████████| 8/8 [00:05<00:00,  1.43it/s, train_loss=0.0202, valid_loss=0.0322]\n",
      "Epoch: 8/40...: 100%|██████████| 8/8 [00:06<00:00,  1.32it/s, train_loss=0.0183, valid_loss=0.0323]\n",
      "Epoch: 9/40...: 100%|██████████| 8/8 [00:06<00:00,  1.27it/s, train_loss=0.0179, valid_loss=0.0322]\n",
      "Epoch: 10/40...: 100%|██████████| 8/8 [00:06<00:00,  1.29it/s, train_loss=0.0177, valid_loss=0.0324]\n",
      "Epoch: 11/40...: 100%|██████████| 8/8 [00:06<00:00,  1.32it/s, train_loss=0.0175, valid_loss=0.0329]\n",
      "Epoch: 12/40...: 100%|██████████| 8/8 [00:06<00:00,  1.33it/s, train_loss=0.0181, valid_loss=0.0324]\n",
      "Epoch: 13/40...: 100%|██████████| 8/8 [00:05<00:00,  1.34it/s, train_loss=0.018, valid_loss=0.0322] \n",
      "Epoch: 14/40...: 100%|██████████| 8/8 [00:05<00:00,  1.39it/s, train_loss=0.0175, valid_loss=0.0328]\n",
      "Epoch: 15/40...: 100%|██████████| 8/8 [00:05<00:00,  1.37it/s, train_loss=0.0173, valid_loss=0.033] \n",
      "Epoch: 16/40...: 100%|██████████| 8/8 [00:06<00:00,  1.32it/s, train_loss=0.0175, valid_loss=0.0323]\n",
      "Epoch: 17/40...: 100%|██████████| 8/8 [00:06<00:00,  1.29it/s, train_loss=0.0174, valid_loss=0.0327]\n",
      "Epoch: 18/40...: 100%|██████████| 8/8 [00:06<00:00,  1.27it/s, train_loss=0.0171, valid_loss=0.033] \n",
      "Epoch: 19/40...: 100%|██████████| 8/8 [00:06<00:00,  1.29it/s, train_loss=0.0183, valid_loss=0.0333]\n",
      "Epoch: 20/40...: 100%|██████████| 8/8 [00:06<00:00,  1.24it/s, train_loss=0.0171, valid_loss=0.0331]\n",
      "Epoch: 21/40...: 100%|██████████| 8/8 [00:06<00:00,  1.33it/s, train_loss=0.0175, valid_loss=0.0325]\n",
      "Epoch: 22/40...: 100%|██████████| 8/8 [00:05<00:00,  1.43it/s, train_loss=0.0172, valid_loss=0.0334]\n",
      "Epoch: 23/40...: 100%|██████████| 8/8 [00:05<00:00,  1.44it/s, train_loss=0.0165, valid_loss=0.0332]\n",
      "Epoch: 24/40...: 100%|██████████| 8/8 [00:05<00:00,  1.34it/s, train_loss=0.0169, valid_loss=0.0336]\n",
      "Epoch: 25/40...: 100%|██████████| 8/8 [00:05<00:00,  1.36it/s, train_loss=0.017, valid_loss=0.0342] \n",
      "Epoch: 26/40...: 100%|██████████| 8/8 [00:05<00:00,  1.36it/s, train_loss=0.0177, valid_loss=0.0326]\n",
      "Epoch: 27/40...: 100%|██████████| 8/8 [00:05<00:00,  1.39it/s, train_loss=0.017, valid_loss=0.0332] \n",
      "Epoch: 28/40...: 100%|██████████| 8/8 [00:05<00:00,  1.43it/s, train_loss=0.0174, valid_loss=0.0343]\n",
      "Epoch: 29/40...: 100%|██████████| 8/8 [00:05<00:00,  1.39it/s, train_loss=0.0173, valid_loss=0.0328]\n",
      "Epoch: 30/40...: 100%|██████████| 8/8 [00:05<00:00,  1.40it/s, train_loss=0.0171, valid_loss=0.0341]\n",
      "Epoch: 31/40...: 100%|██████████| 8/8 [00:05<00:00,  1.35it/s, train_loss=0.0173, valid_loss=0.0327]\n"
     ]
    },
    {
     "name": "stdout",
     "output_type": "stream",
     "text": [
      "train dataset 1\n"
     ]
    },
    {
     "name": "stderr",
     "output_type": "stream",
     "text": [
      "Epoch: 1/40...: 100%|██████████| 16/16 [00:11<00:00,  1.42it/s, train_loss=0.14, valid_loss=0.776]\n",
      "Epoch: 2/40...: 100%|██████████| 16/16 [00:11<00:00,  1.42it/s, train_loss=0.132, valid_loss=0.314]  \n",
      "Epoch: 3/40...: 100%|██████████| 16/16 [00:12<00:00,  1.32it/s, train_loss=0.0371, valid_loss=0.0652]\n",
      "Epoch: 4/40...: 100%|██████████| 16/16 [00:12<00:00,  1.29it/s, train_loss=0.0341, valid_loss=0.05]  \n",
      "Epoch: 5/40...: 100%|██████████| 16/16 [00:11<00:00,  1.36it/s, train_loss=0.03, valid_loss=0.0608] \n",
      "Epoch: 6/40...: 100%|██████████| 16/16 [00:11<00:00,  1.41it/s, train_loss=0.0283, valid_loss=0.0593]\n",
      "Epoch: 7/40...: 100%|██████████| 16/16 [00:11<00:00,  1.35it/s, train_loss=0.0283, valid_loss=0.0502]\n",
      "Epoch: 8/40...: 100%|██████████| 16/16 [00:11<00:00,  1.36it/s, train_loss=0.0279, valid_loss=0.0463]\n",
      "Epoch: 9/40...: 100%|██████████| 16/16 [00:11<00:00,  1.38it/s, train_loss=0.0269, valid_loss=0.0485]\n",
      "Epoch: 10/40...: 100%|██████████| 16/16 [00:11<00:00,  1.44it/s, train_loss=0.0281, valid_loss=0.0421]\n",
      "Epoch: 11/40...: 100%|██████████| 16/16 [00:11<00:00,  1.34it/s, train_loss=0.0271, valid_loss=0.0397]\n",
      "Epoch: 12/40...: 100%|██████████| 16/16 [00:11<00:00,  1.34it/s, train_loss=0.0266, valid_loss=0.0367]\n",
      "Epoch: 13/40...: 100%|██████████| 16/16 [00:11<00:00,  1.39it/s, train_loss=0.0277, valid_loss=0.038] \n",
      "Epoch: 14/40...: 100%|██████████| 16/16 [00:11<00:00,  1.35it/s, train_loss=0.0258, valid_loss=0.0344]\n",
      "Epoch: 15/40...: 100%|██████████| 16/16 [00:11<00:00,  1.37it/s, train_loss=0.0279, valid_loss=0.0325]\n"
     ]
    },
    {
     "name": "stdout",
     "output_type": "stream",
     "text": [
      "train dataset 2\n"
     ]
    },
    {
     "name": "stderr",
     "output_type": "stream",
     "text": [
      "Epoch: 1/40...: 100%|██████████| 24/24 [00:14<00:00,  1.68it/s, train_loss=0.261, valid_loss=0.229]\n",
      "Epoch: 2/40...: 100%|██████████| 24/24 [00:13<00:00,  1.72it/s, train_loss=0.0556, valid_loss=0.0461]\n",
      "Epoch: 3/40...: 100%|██████████| 24/24 [00:13<00:00,  1.78it/s, train_loss=0.0295, valid_loss=0.0379]\n",
      "Epoch: 4/40...: 100%|██████████| 24/24 [00:13<00:00,  1.75it/s, train_loss=0.0278, valid_loss=0.0378]\n",
      "Epoch: 5/40...: 100%|██████████| 24/24 [00:13<00:00,  1.72it/s, train_loss=0.0281, valid_loss=0.0375]\n",
      "Epoch: 6/40...: 100%|██████████| 24/24 [00:13<00:00,  1.76it/s, train_loss=0.0268, valid_loss=0.0375]\n",
      "Epoch: 7/40...: 100%|██████████| 24/24 [00:14<00:00,  1.68it/s, train_loss=0.0264, valid_loss=0.0379]\n",
      "Epoch: 8/40...: 100%|██████████| 24/24 [00:14<00:00,  1.68it/s, train_loss=0.027, valid_loss=0.0383] \n",
      "Epoch: 9/40...: 100%|██████████| 24/24 [00:14<00:00,  1.71it/s, train_loss=0.0268, valid_loss=0.0394]\n",
      "Epoch: 10/40...: 100%|██████████| 24/24 [00:14<00:00,  1.71it/s, train_loss=0.0262, valid_loss=0.0388]\n",
      "Epoch: 11/40...: 100%|██████████| 24/24 [00:13<00:00,  1.82it/s, train_loss=0.0268, valid_loss=0.0382]\n",
      "Epoch: 12/40...: 100%|██████████| 24/24 [00:14<00:00,  1.67it/s, train_loss=0.0279, valid_loss=0.0385]\n",
      "Epoch: 13/40...: 100%|██████████| 24/24 [00:14<00:00,  1.65it/s, train_loss=0.027, valid_loss=0.0386] \n",
      "Epoch: 14/40...: 100%|██████████| 24/24 [00:13<00:00,  1.72it/s, train_loss=0.0279, valid_loss=0.0386]\n",
      "Epoch: 15/40...: 100%|██████████| 24/24 [00:14<00:00,  1.66it/s, train_loss=0.0282, valid_loss=0.0389]\n",
      "Epoch: 16/40...: 100%|██████████| 24/24 [00:13<00:00,  1.75it/s, train_loss=0.0253, valid_loss=0.0389]\n",
      "Epoch: 17/40...: 100%|██████████| 24/24 [00:15<00:00,  1.58it/s, train_loss=0.0261, valid_loss=0.0394]\n"
     ]
    },
    {
     "name": "stdout",
     "output_type": "stream",
     "text": [
      "train dataset 3\n"
     ]
    },
    {
     "name": "stderr",
     "output_type": "stream",
     "text": [
      "Epoch: 1/40...: 100%|██████████| 32/32 [00:20<00:00,  1.55it/s, train_loss=0.0665, valid_loss=0.0397]\n",
      "Epoch: 2/40...: 100%|██████████| 32/32 [00:19<00:00,  1.65it/s, train_loss=0.0408, valid_loss=0.0371]\n",
      "Epoch: 3/40...: 100%|██████████| 32/32 [00:19<00:00,  1.65it/s, train_loss=0.0324, valid_loss=0.0398]\n",
      "Epoch: 4/40...: 100%|██████████| 32/32 [00:19<00:00,  1.64it/s, train_loss=0.0324, valid_loss=0.0404]\n",
      "Epoch: 5/40...: 100%|██████████| 32/32 [00:19<00:00,  1.67it/s, train_loss=0.0319, valid_loss=0.0381]\n",
      "Epoch: 6/40...: 100%|██████████| 32/32 [00:19<00:00,  1.63it/s, train_loss=0.0319, valid_loss=0.0372]\n",
      "Epoch: 7/40...: 100%|██████████| 32/32 [00:18<00:00,  1.75it/s, train_loss=0.0313, valid_loss=0.0364]\n",
      "Epoch: 8/40...: 100%|██████████| 32/32 [00:19<00:00,  1.61it/s, train_loss=0.0316, valid_loss=0.0365]\n",
      "Epoch: 9/40...: 100%|██████████| 32/32 [00:19<00:00,  1.65it/s, train_loss=0.0315, valid_loss=0.0356]\n"
     ]
    },
    {
     "name": "stdout",
     "output_type": "stream",
     "text": [
      "train dataset 4\n"
     ]
    },
    {
     "name": "stderr",
     "output_type": "stream",
     "text": [
      "Epoch: 1/40...: 100%|██████████| 41/41 [00:24<00:00,  1.66it/s, train_loss=0.0651, valid_loss=0.0469]\n",
      "Epoch: 2/40...: 100%|██████████| 41/41 [00:25<00:00,  1.58it/s, train_loss=0.0378, valid_loss=0.0346]\n",
      "Epoch: 3/40...: 100%|██████████| 41/41 [00:24<00:00,  1.66it/s, train_loss=0.033, valid_loss=0.0347] \n",
      "Epoch: 4/40...: 100%|██████████| 41/41 [00:25<00:00,  1.60it/s, train_loss=0.0334, valid_loss=0.0346]\n",
      "Epoch: 5/40...: 100%|██████████| 41/41 [00:26<00:00,  1.57it/s, train_loss=0.0319, valid_loss=0.0347]\n",
      "Epoch: 6/40...: 100%|██████████| 41/41 [00:25<00:00,  1.62it/s, train_loss=0.0317, valid_loss=0.0347]\n",
      "Epoch: 7/40...: 100%|██████████| 41/41 [00:24<00:00,  1.68it/s, train_loss=0.0345, valid_loss=0.0348]\n",
      "Epoch: 8/40...: 100%|██████████| 41/41 [00:24<00:00,  1.70it/s, train_loss=0.0307, valid_loss=0.0346]\n",
      "Epoch: 9/40...: 100%|██████████| 41/41 [00:22<00:00,  1.79it/s, train_loss=0.0316, valid_loss=0.0348]\n",
      "Epoch: 10/40...: 100%|██████████| 41/41 [00:22<00:00,  1.81it/s, train_loss=0.032, valid_loss=0.0351] \n",
      "Epoch: 11/40...: 100%|██████████| 41/41 [00:23<00:00,  1.71it/s, train_loss=0.03, valid_loss=0.035]   \n",
      "Epoch: 12/40...: 100%|██████████| 41/41 [00:26<00:00,  1.56it/s, train_loss=0.0318, valid_loss=0.035] \n",
      "Epoch: 13/40...: 100%|██████████| 41/41 [00:26<00:00,  1.53it/s, train_loss=0.0322, valid_loss=0.0346]\n",
      "Epoch: 14/40...: 100%|██████████| 41/41 [00:26<00:00,  1.56it/s, train_loss=0.0314, valid_loss=0.0351]\n",
      "Epoch: 15/40...: 100%|██████████| 41/41 [00:26<00:00,  1.52it/s, train_loss=0.0303, valid_loss=0.0355]\n"
     ]
    },
    {
     "name": "stdout",
     "output_type": "stream",
     "text": [
      "model config: batch_size-256, lr-0.05, number_epoch-40, d_model-64, n_layers-2,drop_prob-0.5,nhead-8\n",
      "train dataset 0\n"
     ]
    },
    {
     "name": "stderr",
     "output_type": "stream",
     "text": [
      "Epoch: 1/40...: 100%|██████████| 16/16 [00:12<00:00,  1.24it/s, train_loss=0.0365, valid_loss=0.138]\n",
      "Epoch: 2/40...: 100%|██████████| 16/16 [00:12<00:00,  1.30it/s, train_loss=0.0218, valid_loss=0.0391]\n",
      "Epoch: 3/40...: 100%|██████████| 16/16 [00:12<00:00,  1.30it/s, train_loss=0.019, valid_loss=0.0486] \n",
      "Epoch: 4/40...: 100%|██████████| 16/16 [00:12<00:00,  1.28it/s, train_loss=0.018, valid_loss=0.0515] \n",
      "Epoch: 5/40...: 100%|██████████| 16/16 [00:12<00:00,  1.30it/s, train_loss=0.0184, valid_loss=0.046] \n",
      "Epoch: 6/40...: 100%|██████████| 16/16 [00:12<00:00,  1.32it/s, train_loss=0.0175, valid_loss=0.051] \n",
      "Epoch: 7/40...: 100%|██████████| 16/16 [00:12<00:00,  1.28it/s, train_loss=0.0179, valid_loss=0.0504]\n",
      "Epoch: 8/40...: 100%|██████████| 16/16 [00:12<00:00,  1.29it/s, train_loss=0.0173, valid_loss=0.0437]\n",
      "Epoch: 9/40...: 100%|██████████| 16/16 [00:12<00:00,  1.31it/s, train_loss=0.0169, valid_loss=0.0473]\n",
      "Epoch: 10/40...: 100%|██████████| 16/16 [00:12<00:00,  1.32it/s, train_loss=0.0163, valid_loss=0.0432]\n",
      "Epoch: 11/40...: 100%|██████████| 16/16 [00:11<00:00,  1.39it/s, train_loss=0.0182, valid_loss=0.0449]\n",
      "Epoch: 12/40...: 100%|██████████| 16/16 [00:12<00:00,  1.28it/s, train_loss=0.017, valid_loss=0.0446] \n",
      "Epoch: 13/40...: 100%|██████████| 16/16 [00:12<00:00,  1.29it/s, train_loss=0.0176, valid_loss=0.0409]\n",
      "Epoch: 14/40...: 100%|██████████| 16/16 [00:12<00:00,  1.27it/s, train_loss=0.0183, valid_loss=0.0421]\n"
     ]
    },
    {
     "name": "stdout",
     "output_type": "stream",
     "text": [
      "train dataset 1\n"
     ]
    },
    {
     "name": "stderr",
     "output_type": "stream",
     "text": [
      "Epoch: 1/40...: 100%|██████████| 32/32 [00:21<00:00,  1.48it/s, train_loss=0.0377, valid_loss=0.0303]\n",
      "Epoch: 2/40...: 100%|██████████| 32/32 [00:21<00:00,  1.51it/s, train_loss=0.0277, valid_loss=0.0334]\n",
      "Epoch: 3/40...: 100%|██████████| 32/32 [00:21<00:00,  1.48it/s, train_loss=0.0269, valid_loss=0.0316]\n",
      "Epoch: 4/40...: 100%|██████████| 32/32 [00:21<00:00,  1.52it/s, train_loss=0.0276, valid_loss=0.0319]\n",
      "Epoch: 5/40...: 100%|██████████| 32/32 [00:20<00:00,  1.55it/s, train_loss=0.0275, valid_loss=0.0298]\n",
      "Epoch: 6/40...: 100%|██████████| 32/32 [00:19<00:00,  1.60it/s, train_loss=0.0276, valid_loss=0.0282]\n",
      "Epoch: 7/40...: 100%|██████████| 32/32 [00:20<00:00,  1.57it/s, train_loss=0.026, valid_loss=0.0291] \n",
      "Epoch: 8/40...:  97%|█████████▋| 31/32 [00:20<00:00,  1.41it/s, train_loss=0.0265, valid_loss=0.0289]IOPub message rate exceeded.\n",
      "The notebook server will temporarily stop sending output\n",
      "to the client in order to avoid crashing it.\n",
      "To change this limit, set the config variable\n",
      "`--NotebookApp.iopub_msg_rate_limit`.\n",
      "\n",
      "Current values:\n",
      "NotebookApp.iopub_msg_rate_limit=1000.0 (msgs/sec)\n",
      "NotebookApp.rate_limit_window=3.0 (secs)\n",
      "\n",
      "Epoch: 15/40...: 100%|██████████| 32/32 [00:09<00:00,  3.44it/s, train_loss=0.0309, valid_loss=0.035] \n",
      "Epoch: 16/40...: 100%|██████████| 32/32 [00:08<00:00,  3.60it/s, train_loss=0.0301, valid_loss=0.0346]\n",
      "Epoch: 17/40...: 100%|██████████| 32/32 [00:08<00:00,  3.59it/s, train_loss=0.0312, valid_loss=0.0344]\n",
      "Epoch: 18/40...: 100%|██████████| 32/32 [00:08<00:00,  3.64it/s, train_loss=0.0296, valid_loss=0.0357]\n",
      "Epoch: 19/40...: 100%|██████████| 32/32 [00:08<00:00,  3.64it/s, train_loss=0.0317, valid_loss=0.0347]\n"
     ]
    },
    {
     "name": "stdout",
     "output_type": "stream",
     "text": [
      "train dataset 4\n"
     ]
    },
    {
     "name": "stderr",
     "output_type": "stream",
     "text": [
      "Epoch: 1/40...: 100%|██████████| 41/41 [00:11<00:00,  3.51it/s, train_loss=0.0425, valid_loss=0.0372]\n",
      "Epoch: 2/40...: 100%|██████████| 41/41 [00:11<00:00,  3.55it/s, train_loss=0.0392, valid_loss=0.0513]\n",
      "Epoch: 3/40...: 100%|██████████| 41/41 [00:11<00:00,  3.55it/s, train_loss=0.0348, valid_loss=0.0384]\n",
      "Epoch: 4/40...: 100%|██████████| 41/41 [00:11<00:00,  3.66it/s, train_loss=0.0324, valid_loss=0.0431]\n",
      "Epoch: 5/40...: 100%|██████████| 41/41 [00:11<00:00,  3.65it/s, train_loss=0.0345, valid_loss=0.0348]\n",
      "Epoch: 6/40...: 100%|██████████| 41/41 [00:11<00:00,  3.65it/s, train_loss=0.034, valid_loss=0.037]  \n",
      "Epoch: 7/40...: 100%|██████████| 41/41 [00:10<00:00,  3.78it/s, train_loss=0.0345, valid_loss=0.0361]\n"
     ]
    },
    {
     "name": "stdout",
     "output_type": "stream",
     "text": [
      "model config: batch_size-256, lr-0.1, number_epoch-40, d_model-128, n_layers-3,drop_prob-0.5,nhead-4\n",
      "train dataset 0\n"
     ]
    },
    {
     "name": "stderr",
     "output_type": "stream",
     "text": [
      "Epoch: 1/40...: 100%|██████████| 16/16 [00:15<00:00,  1.01it/s, train_loss=0.976, valid_loss=3.78]\n",
      "Epoch: 2/40...: 100%|██████████| 16/16 [00:15<00:00,  1.01it/s, train_loss=0.155, valid_loss=1.72] \n",
      "Epoch: 3/40...: 100%|██████████| 16/16 [00:15<00:00,  1.00it/s, train_loss=0.046, valid_loss=0.888]\n",
      "Epoch: 4/40...: 100%|██████████| 16/16 [00:16<00:00,  1.00s/it, train_loss=0.0434, valid_loss=0.977]\n",
      "Epoch: 5/40...: 100%|██████████| 16/16 [00:17<00:00,  1.07s/it, train_loss=0.0334, valid_loss=1.06] \n",
      "Epoch: 6/40...: 100%|██████████| 16/16 [00:16<00:00,  1.01s/it, train_loss=0.0303, valid_loss=0.899]\n",
      "Epoch: 7/40...: 100%|██████████| 16/16 [00:16<00:00,  1.00s/it, train_loss=0.028, valid_loss=0.821] \n",
      "Epoch: 8/40...: 100%|██████████| 16/16 [00:16<00:00,  1.04s/it, train_loss=0.0256, valid_loss=0.75] \n",
      "Epoch: 9/40...: 100%|██████████| 16/16 [00:16<00:00,  1.05s/it, train_loss=0.0256, valid_loss=0.715]\n",
      "Epoch: 10/40...: 100%|██████████| 16/16 [00:15<00:00,  1.00it/s, train_loss=0.0247, valid_loss=0.601]\n",
      "Epoch: 11/40...: 100%|██████████| 16/16 [00:16<00:00,  1.03s/it, train_loss=0.0235, valid_loss=0.577]\n",
      "Epoch: 12/40...: 100%|██████████| 16/16 [00:16<00:00,  1.04s/it, train_loss=0.0222, valid_loss=0.524]\n",
      "Epoch: 13/40...: 100%|██████████| 16/16 [00:16<00:00,  1.04s/it, train_loss=0.0225, valid_loss=0.495]\n",
      "Epoch: 14/40...: 100%|██████████| 16/16 [00:16<00:00,  1.03s/it, train_loss=0.0208, valid_loss=0.472]\n",
      "Epoch: 15/40...: 100%|██████████| 16/16 [00:16<00:00,  1.05s/it, train_loss=0.0208, valid_loss=0.412]\n"
     ]
    },
    {
     "name": "stdout",
     "output_type": "stream",
     "text": [
      "train dataset 0\n"
     ]
    },
    {
     "name": "stderr",
     "output_type": "stream",
     "text": [
      "Epoch: 1/40...: 100%|██████████| 16/16 [00:16<00:00,  1.04s/it, train_loss=1.62, valid_loss=4.45]\n",
      "Epoch: 2/40...: 100%|██████████| 16/16 [00:16<00:00,  1.03s/it, train_loss=0.391, valid_loss=0.856]\n",
      "Epoch: 3/40...: 100%|██████████| 16/16 [00:17<00:00,  1.06s/it, train_loss=0.0529, valid_loss=0.0717]\n",
      "Epoch: 4/40...: 100%|██████████| 16/16 [00:16<00:00,  1.05s/it, train_loss=0.0437, valid_loss=0.144]\n",
      "Epoch: 5/40...: 100%|██████████| 16/16 [00:10<00:00,  1.49it/s, train_loss=0.0314, valid_loss=0.21] \n",
      "Epoch: 6/40...: 100%|██████████| 16/16 [00:10<00:00,  1.49it/s, train_loss=0.0278, valid_loss=0.129]\n",
      "Epoch: 7/40...: 100%|██████████| 16/16 [00:10<00:00,  1.49it/s, train_loss=0.0265, valid_loss=0.139]\n",
      "Epoch: 8/40...: 100%|██████████| 16/16 [00:10<00:00,  1.49it/s, train_loss=0.0257, valid_loss=0.114]\n",
      "Epoch: 9/40...: 100%|██████████| 16/16 [00:10<00:00,  1.49it/s, train_loss=0.0242, valid_loss=0.104]\n",
      "Epoch: 10/40...: 100%|██████████| 16/16 [00:10<00:00,  1.49it/s, train_loss=0.0231, valid_loss=0.0927]\n",
      "Epoch: 11/40...: 100%|██████████| 16/16 [00:10<00:00,  1.49it/s, train_loss=0.0228, valid_loss=0.0892]\n",
      "Epoch: 12/40...: 100%|██████████| 16/16 [00:10<00:00,  1.49it/s, train_loss=0.0225, valid_loss=0.0787]\n",
      "Epoch: 13/40...: 100%|██████████| 16/16 [00:10<00:00,  1.49it/s, train_loss=0.0214, valid_loss=0.069]\n",
      "Epoch: 14/40...: 100%|██████████| 16/16 [00:10<00:00,  1.50it/s, train_loss=0.0216, valid_loss=0.0755]\n",
      "Epoch: 15/40...: 100%|██████████| 16/16 [00:10<00:00,  1.49it/s, train_loss=0.0214, valid_loss=0.0568]\n",
      "Epoch: 16/40...: 100%|██████████| 16/16 [00:10<00:00,  1.50it/s, train_loss=0.0212, valid_loss=0.0579]\n"
     ]
    },
    {
     "name": "stdout",
     "output_type": "stream",
     "text": [
      "train dataset 1\n"
     ]
    },
    {
     "name": "stderr",
     "output_type": "stream",
     "text": [
      "Epoch: 1/40...: 100%|██████████| 32/32 [00:18<00:00,  1.70it/s, train_loss=0.0369, valid_loss=0.0849]\n",
      "Epoch: 2/40...: 100%|██████████| 32/32 [00:18<00:00,  1.70it/s, train_loss=0.036, valid_loss=0.0361] \n",
      "Epoch: 3/40...: 100%|██████████| 32/32 [00:18<00:00,  1.70it/s, train_loss=0.0286, valid_loss=0.0279]\n",
      "Epoch: 4/40...: 100%|██████████| 32/32 [00:18<00:00,  1.70it/s, train_loss=0.0278, valid_loss=0.028] \n",
      "Epoch: 5/40...: 100%|██████████| 32/32 [00:18<00:00,  1.69it/s, train_loss=0.0243, valid_loss=0.028] \n",
      "Epoch: 6/40...: 100%|██████████| 32/32 [00:18<00:00,  1.70it/s, train_loss=0.0268, valid_loss=0.0278]\n",
      "Epoch: 7/40...: 100%|██████████| 32/32 [00:18<00:00,  1.70it/s, train_loss=0.0242, valid_loss=0.0276]\n",
      "Epoch: 8/40...: 100%|██████████| 32/32 [00:18<00:00,  1.69it/s, train_loss=0.0274, valid_loss=0.0277]\n",
      "Epoch: 9/40...: 100%|██████████| 32/32 [00:18<00:00,  1.70it/s, train_loss=0.0266, valid_loss=0.0279]\n",
      "Epoch: 10/40...: 100%|██████████| 32/32 [00:18<00:00,  1.69it/s, train_loss=0.0267, valid_loss=0.0278]\n",
      "Epoch: 11/40...: 100%|██████████| 32/32 [00:18<00:00,  1.70it/s, train_loss=0.0302, valid_loss=0.0285]\n",
      "Epoch: 12/40...: 100%|██████████| 32/32 [00:18<00:00,  1.70it/s, train_loss=0.0265, valid_loss=0.0277]\n",
      "Epoch: 13/40...: 100%|██████████| 32/32 [00:18<00:00,  1.70it/s, train_loss=0.0258, valid_loss=0.0279]\n"
     ]
    },
    {
     "name": "stdout",
     "output_type": "stream",
     "text": [
      "train dataset 2\n"
     ]
    },
    {
     "name": "stderr",
     "output_type": "stream",
     "text": [
      "Epoch: 1/40...: 100%|██████████| 49/49 [00:27<00:00,  1.80it/s, train_loss=0.117, valid_loss=0.0921] \n",
      "Epoch: 2/40...: 100%|██████████| 49/49 [00:27<00:00,  1.81it/s, train_loss=0.0392, valid_loss=0.0454]\n",
      "Epoch: 3/40...: 100%|██████████| 49/49 [00:27<00:00,  1.81it/s, train_loss=0.0341, valid_loss=0.0408]\n",
      "Epoch: 4/40...: 100%|██████████| 49/49 [00:27<00:00,  1.81it/s, train_loss=0.0316, valid_loss=0.0391]\n",
      "Epoch: 5/40...: 100%|██████████| 49/49 [00:27<00:00,  1.81it/s, train_loss=0.0304, valid_loss=0.0418]\n",
      "Epoch: 6/40...: 100%|██████████| 49/49 [00:27<00:00,  1.81it/s, train_loss=0.0301, valid_loss=0.0407]\n",
      "Epoch: 7/40...: 100%|██████████| 49/49 [00:27<00:00,  1.81it/s, train_loss=0.0297, valid_loss=0.0394]\n"
     ]
    },
    {
     "name": "stdout",
     "output_type": "stream",
     "text": [
      "train dataset 3\n"
     ]
    },
    {
     "name": "stderr",
     "output_type": "stream",
     "text": [
      "Epoch: 1/40...: 100%|██████████| 65/65 [00:35<00:00,  1.84it/s, train_loss=0.0568, valid_loss=0.501]\n",
      "Epoch: 2/40...: 100%|██████████| 65/65 [00:35<00:00,  1.84it/s, train_loss=0.0324, valid_loss=0.168]\n",
      "Epoch: 3/40...: 100%|██████████| 65/65 [00:35<00:00,  1.85it/s, train_loss=0.03, valid_loss=0.101]   \n",
      "Epoch: 4/40...: 100%|██████████| 65/65 [00:35<00:00,  1.84it/s, train_loss=0.03, valid_loss=0.0695]  \n"
     ]
    },
    {
     "name": "stdout",
     "output_type": "stream",
     "text": [
      "train dataset 4\n"
     ]
    },
    {
     "name": "stderr",
     "output_type": "stream",
     "text": [
      "Epoch: 1/40...: 100%|██████████| 82/82 [00:45<00:00,  1.79it/s, train_loss=0.0553, valid_loss=0.596]\n",
      "Epoch: 2/40...: 100%|██████████| 82/82 [00:45<00:00,  1.78it/s, train_loss=0.0399, valid_loss=0.302]\n",
      "Epoch: 3/40...: 100%|██████████| 82/82 [00:45<00:00,  1.79it/s, train_loss=0.0371, valid_loss=0.172]\n",
      "Epoch: 4/40...: 100%|██████████| 82/82 [00:45<00:00,  1.78it/s, train_loss=0.0321, valid_loss=0.117]\n"
     ]
    }
   ],
   "source": [
    "records = run_model_hpo()"
   ]
  },
  {
   "cell_type": "markdown",
   "id": "b6a6b830",
   "metadata": {
    "ExecuteTime": {
     "end_time": "2021-12-22T08:52:06.844501Z",
     "start_time": "2021-12-22T08:52:06.830928Z"
    }
   },
   "source": [
    "## find the best hyper-parameters"
   ]
  },
  {
   "cell_type": "code",
   "execution_count": 16,
   "id": "d6fe4dac",
   "metadata": {
    "ExecuteTime": {
     "end_time": "2021-12-26T04:57:20.210109Z",
     "start_time": "2021-12-26T04:57:20.189331Z"
    }
   },
   "outputs": [
    {
     "data": {
      "text/html": [
       "<div>\n",
       "<style scoped>\n",
       "    .dataframe tbody tr th:only-of-type {\n",
       "        vertical-align: middle;\n",
       "    }\n",
       "\n",
       "    .dataframe tbody tr th {\n",
       "        vertical-align: top;\n",
       "    }\n",
       "\n",
       "    .dataframe thead th {\n",
       "        text-align: right;\n",
       "    }\n",
       "</style>\n",
       "<table border=\"1\" class=\"dataframe\">\n",
       "  <thead>\n",
       "    <tr style=\"text-align: right;\">\n",
       "      <th></th>\n",
       "      <th>batch_size</th>\n",
       "      <th>lr</th>\n",
       "      <th>number_epoch</th>\n",
       "      <th>d_model</th>\n",
       "      <th>n_layers</th>\n",
       "      <th>drop_prob</th>\n",
       "      <th>nhead</th>\n",
       "      <th>valid_loss</th>\n",
       "    </tr>\n",
       "  </thead>\n",
       "  <tbody>\n",
       "    <tr>\n",
       "      <th>7</th>\n",
       "      <td>256</td>\n",
       "      <td>0.10</td>\n",
       "      <td>40</td>\n",
       "      <td>64</td>\n",
       "      <td>1</td>\n",
       "      <td>0.5</td>\n",
       "      <td>8</td>\n",
       "      <td>0.033100</td>\n",
       "    </tr>\n",
       "    <tr>\n",
       "      <th>2</th>\n",
       "      <td>256</td>\n",
       "      <td>0.05</td>\n",
       "      <td>40</td>\n",
       "      <td>128</td>\n",
       "      <td>2</td>\n",
       "      <td>0.2</td>\n",
       "      <td>2</td>\n",
       "      <td>0.033140</td>\n",
       "    </tr>\n",
       "    <tr>\n",
       "      <th>0</th>\n",
       "      <td>256</td>\n",
       "      <td>0.01</td>\n",
       "      <td>40</td>\n",
       "      <td>256</td>\n",
       "      <td>3</td>\n",
       "      <td>0.4</td>\n",
       "      <td>2</td>\n",
       "      <td>0.033247</td>\n",
       "    </tr>\n",
       "    <tr>\n",
       "      <th>4</th>\n",
       "      <td>256</td>\n",
       "      <td>0.05</td>\n",
       "      <td>40</td>\n",
       "      <td>64</td>\n",
       "      <td>2</td>\n",
       "      <td>0.5</td>\n",
       "      <td>8</td>\n",
       "      <td>0.033285</td>\n",
       "    </tr>\n",
       "    <tr>\n",
       "      <th>8</th>\n",
       "      <td>512</td>\n",
       "      <td>0.10</td>\n",
       "      <td>40</td>\n",
       "      <td>64</td>\n",
       "      <td>1</td>\n",
       "      <td>0.2</td>\n",
       "      <td>8</td>\n",
       "      <td>0.033293</td>\n",
       "    </tr>\n",
       "    <tr>\n",
       "      <th>5</th>\n",
       "      <td>512</td>\n",
       "      <td>0.05</td>\n",
       "      <td>40</td>\n",
       "      <td>128</td>\n",
       "      <td>1</td>\n",
       "      <td>0.2</td>\n",
       "      <td>2</td>\n",
       "      <td>0.033314</td>\n",
       "    </tr>\n",
       "    <tr>\n",
       "      <th>3</th>\n",
       "      <td>512</td>\n",
       "      <td>0.10</td>\n",
       "      <td>40</td>\n",
       "      <td>64</td>\n",
       "      <td>2</td>\n",
       "      <td>0.5</td>\n",
       "      <td>8</td>\n",
       "      <td>0.033779</td>\n",
       "    </tr>\n",
       "    <tr>\n",
       "      <th>6</th>\n",
       "      <td>512</td>\n",
       "      <td>0.01</td>\n",
       "      <td>40</td>\n",
       "      <td>128</td>\n",
       "      <td>3</td>\n",
       "      <td>0.5</td>\n",
       "      <td>8</td>\n",
       "      <td>0.033783</td>\n",
       "    </tr>\n",
       "    <tr>\n",
       "      <th>1</th>\n",
       "      <td>512</td>\n",
       "      <td>0.05</td>\n",
       "      <td>40</td>\n",
       "      <td>128</td>\n",
       "      <td>2</td>\n",
       "      <td>0.2</td>\n",
       "      <td>8</td>\n",
       "      <td>0.033976</td>\n",
       "    </tr>\n",
       "    <tr>\n",
       "      <th>9</th>\n",
       "      <td>256</td>\n",
       "      <td>0.10</td>\n",
       "      <td>40</td>\n",
       "      <td>128</td>\n",
       "      <td>3</td>\n",
       "      <td>0.5</td>\n",
       "      <td>4</td>\n",
       "      <td>0.036417</td>\n",
       "    </tr>\n",
       "  </tbody>\n",
       "</table>\n",
       "</div>"
      ],
      "text/plain": [
       "   batch_size    lr  number_epoch  d_model  n_layers  drop_prob  nhead  \\\n",
       "7         256  0.10            40       64         1        0.5      8   \n",
       "2         256  0.05            40      128         2        0.2      2   \n",
       "0         256  0.01            40      256         3        0.4      2   \n",
       "4         256  0.05            40       64         2        0.5      8   \n",
       "8         512  0.10            40       64         1        0.2      8   \n",
       "5         512  0.05            40      128         1        0.2      2   \n",
       "3         512  0.10            40       64         2        0.5      8   \n",
       "6         512  0.01            40      128         3        0.5      8   \n",
       "1         512  0.05            40      128         2        0.2      8   \n",
       "9         256  0.10            40      128         3        0.5      4   \n",
       "\n",
       "   valid_loss  \n",
       "7    0.033100  \n",
       "2    0.033140  \n",
       "0    0.033247  \n",
       "4    0.033285  \n",
       "8    0.033293  \n",
       "5    0.033314  \n",
       "3    0.033779  \n",
       "6    0.033783  \n",
       "1    0.033976  \n",
       "9    0.036417  "
      ]
     },
     "execution_count": 16,
     "metadata": {},
     "output_type": "execute_result"
    }
   ],
   "source": [
    "records = pd.DataFrame(records).sort_values(by='valid_loss')\n",
    "records.to_csv('./records/transformer_records.csv', mode='a', index=False, header=False)\n",
    "records"
   ]
  },
  {
   "cell_type": "markdown",
   "id": "1dacfef8",
   "metadata": {},
   "source": [
    "## retrain a model"
   ]
  },
  {
   "cell_type": "code",
   "execution_count": 17,
   "id": "9ae785c7",
   "metadata": {
    "ExecuteTime": {
     "end_time": "2021-12-26T05:01:26.511951Z",
     "start_time": "2021-12-26T05:01:26.484039Z"
    },
    "code_folding": []
   },
   "outputs": [],
   "source": [
    "def train_model(train_x, train_y, valid_x, valid_y, input_size, seq_len,\n",
    "                target_len, mse_thresh, d_model, nhead, n_layers, number_epoch,\n",
    "                batch_size, lr, drop_prob):\n",
    "    while (1):\n",
    "        model = Transformer(input_size, d_model, nhead, n_layers, drop_prob)\n",
    "        model = model.to(device)\n",
    "        criterion = nn.MSELoss()\n",
    "        optimizer = torch.optim.Adam(model.parameters(), lr=lr)\n",
    "        scheduler = torch.optim.lr_scheduler.StepLR(optimizer, 1, gamma=0.98)\n",
    "        valid_loss_min = np.Inf\n",
    "        train_dataset = TensorDataset(torch.FloatTensor(train_x),\n",
    "                                      torch.FloatTensor(train_y))\n",
    "        valid_dataset = TensorDataset(torch.FloatTensor(valid_x),\n",
    "                                      torch.FloatTensor(valid_y))\n",
    "\n",
    "        train_loader = DataLoader(dataset=train_dataset,\n",
    "                                  batch_size=batch_size,\n",
    "                                  shuffle=True,\n",
    "                                  drop_last=True)\n",
    "        valid_loader = DataLoader(dataset=valid_dataset,\n",
    "                                  batch_size=batch_size,\n",
    "                                  shuffle=True,\n",
    "                                  drop_last=True)\n",
    "        train_losses = list()\n",
    "\n",
    "        num_without_imp = 0\n",
    "\n",
    "        #train\n",
    "        for epoch in range(1, number_epoch + 1):\n",
    "            loop = tqdm(enumerate(train_loader),\n",
    "                        total=len(train_loader),\n",
    "                        leave=True)\n",
    "            for i, (inputs, labels) in loop:\n",
    "                model.train()\n",
    "                inputs = inputs.to(device)\n",
    "                labels = labels.to(device)\n",
    "                optimizer.zero_grad()\n",
    "                # train\n",
    "                # pdb.set_trace()\n",
    "                input_tensor = inputs[:, :seq_len, :]\n",
    "                target_tensor = inputs[:,\n",
    "                                       seq_len - 1:seq_len + target_len - 1, :]\n",
    "                outputs = model(input_tensor, target_tensor).squeeze()\n",
    "                loss = criterion(outputs, labels)\n",
    "                train_losses.append(loss.item)\n",
    "                loss.backward()\n",
    "                optimizer.step()\n",
    "\n",
    "                # eval\n",
    "                if i % 5 == 0:\n",
    "                    num_without_imp = num_without_imp + 1\n",
    "                    valid_losses = list()\n",
    "                    model.eval()\n",
    "                    for inp, lab in valid_loader:\n",
    "                        inp = inp.to(device)\n",
    "                        lab = lab.to(device)\n",
    "                        input_tensor = inp[:, 0:seq_len, :]\n",
    "                        target_tensor = inp[:, seq_len:, :-1]\n",
    "                        decoder_input = input_tensor[:, -1, :].unsqueeze(1)\n",
    "                        for t in range(target_len):\n",
    "                            decoder_output = model(input_tensor,\n",
    "                                                   decoder_input,\n",
    "                                                   is_tgt_mask=False)\n",
    "                            decoder_input_add = torch.cat(\n",
    "                                (target_tensor[:, :t + 1, :],\n",
    "                                 decoder_output.detach()), 2)\n",
    "                            decoder_input = torch.cat(\n",
    "                                (input_tensor[:, -1, :].unsqueeze(1),\n",
    "                                 decoder_input_add), 1)\n",
    "                        valid_loss = criterion(decoder_output.squeeze(), lab)\n",
    "                        valid_losses.append(valid_loss.item())\n",
    "                    model.train()\n",
    "                    loop.set_description(\"Epoch: {}/{}...\".format(\n",
    "                        epoch, number_epoch))\n",
    "                    loop.set_postfix(train_loss=loss.item(),\n",
    "                                     valid_loss=np.mean(valid_losses))\n",
    "                    if np.mean(valid_losses) < valid_loss_min:\n",
    "                        num_without_imp = 0\n",
    "                        torch.save(model.state_dict(),\n",
    "                                   \"./model/transformer_state_dict.pt\")\n",
    "                        valid_loss_min = np.mean(valid_losses)\n",
    "            scheduler.step()\n",
    "        if valid_loss_min < mse_thresh:\n",
    "            break\n",
    "    return model"
   ]
  },
  {
   "cell_type": "markdown",
   "id": "8b1e85a2",
   "metadata": {},
   "source": [
    "## test results"
   ]
  },
  {
   "cell_type": "code",
   "execution_count": 18,
   "id": "5b19f545",
   "metadata": {
    "ExecuteTime": {
     "end_time": "2021-12-26T05:01:28.414226Z",
     "start_time": "2021-12-26T05:01:28.405809Z"
    },
    "code_folding": []
   },
   "outputs": [],
   "source": [
    "def test_model(model, test_x, test_y, scaler_y, seq_len, target_len,\n",
    "               batch_size):\n",
    "    test_dataset = TensorDataset(torch.FloatTensor(test_x),\n",
    "                                 torch.FloatTensor(test_y))\n",
    "    test_loader = DataLoader(dataset=test_dataset,\n",
    "                             batch_size=batch_size,\n",
    "                             shuffle=False,\n",
    "                             drop_last=True)\n",
    "    model.load_state_dict(torch.load('./model/transformer_state_dict.pt'))\n",
    "    y_pred = []\n",
    "    y_true = []\n",
    "    with torch.no_grad():\n",
    "        for inp, lab in test_loader:\n",
    "            inp = inp.to(device)\n",
    "            lab = lab.to(device)\n",
    "            input_tensor = inp[:, 0:seq_len, :]\n",
    "            target_tensor = inp[:, seq_len:, :-1]\n",
    "            decoder_input = input_tensor[:, -1, :].unsqueeze(1)\n",
    "            for t in range(target_len):\n",
    "                decoder_output = model(input_tensor,\n",
    "                                       decoder_input,\n",
    "                                       is_tgt_mask=False)\n",
    "                decoder_input_add = torch.cat(\n",
    "                    (target_tensor[:, :t+1, :],\n",
    "                     decoder_output.detach()), 2)\n",
    "                decoder_input = torch.cat((input_tensor[:, -1, :].unsqueeze(1), decoder_input_add), 1)\n",
    "            y_pred += decoder_output.cpu().numpy().flatten().tolist()\n",
    "            y_true += lab.cpu().numpy().flatten().tolist()\n",
    "    y_pred = np.array(y_pred).reshape(-1, 1)\n",
    "    y_true = np.array(y_true).reshape(-1, 1)\n",
    "    #     pdb.set_trace()\n",
    "    load_pred = scaler_y.inverse_transform(y_pred)\n",
    "    load_true = scaler_y.inverse_transform(y_true)\n",
    "    MAPE = np.mean(np.abs(load_true - load_pred) / load_true)\n",
    "    MAE = np.mean(np.abs(load_true - load_pred))\n",
    "    RMSE = np.sqrt(np.mean(np.square(load_true - load_pred)))\n",
    "    return MAPE, MAE, RMSE, load_pred, load_true"
   ]
  },
  {
   "cell_type": "markdown",
   "id": "4738ec12",
   "metadata": {},
   "source": [
    "## run model retraining"
   ]
  },
  {
   "cell_type": "code",
   "execution_count": 19,
   "id": "b8c9b038",
   "metadata": {
    "ExecuteTime": {
     "end_time": "2021-12-26T05:04:03.947105Z",
     "start_time": "2021-12-26T05:04:03.933653Z"
    }
   },
   "outputs": [],
   "source": [
    "def run_model_retraining(seq_len=seq_len,\n",
    "                         target_len=target_len,\n",
    "                         mse_thresh=mse_thresh):\n",
    "    train_data = data[:int(0.8 * len(data))]\n",
    "    train_data, scaler, scaler_y = normalization(train_data)\n",
    "    train_x, train_y = series_to_supervise(train_data, seq_len, target_len)\n",
    "\n",
    "    valid_x = train_x[int(0.8 * len(train_x)):]\n",
    "    valid_y = train_y[int(0.8 * len(train_y)):]\n",
    "    train_x = train_x[:int(0.8 * len(train_x))]\n",
    "    train_y = train_y[:int(0.8 * len(train_y))]\n",
    "    input_size = train_x.shape[2]\n",
    "\n",
    "    #     hyper-parameters define\n",
    "    batch_size = 512\n",
    "    lr = 0.005\n",
    "    number_epoch = 80\n",
    "    d_model = 32\n",
    "    n_layers = 2\n",
    "    drop_prob = 0.1\n",
    "    nhead = 4\n",
    "    mse_thresh = 0.1\n",
    "    \n",
    "\n",
    "    model = train_model(train_x, train_y, valid_x, valid_y, input_size,\n",
    "                        seq_len, target_len, mse_thresh, d_model, nhead,\n",
    "                        n_layers, number_epoch, batch_size, lr, drop_prob)\n",
    "    test_data = data[int(0.8 * len(data)):]\n",
    "    test_data = scaler.transform(test_data)\n",
    "    test_x, test_y = series_to_supervise(test_data, seq_len, target_len)\n",
    "    MAPE, MAE, RMSE, load_pred, load_true = test_model(model, test_x, test_y,\n",
    "                                                       scaler_y, seq_len,\n",
    "                                                       target_len, batch_size)\n",
    "    return MAPE, MAE, RMSE, load_pred, load_true"
   ]
  },
  {
   "cell_type": "code",
   "execution_count": null,
   "id": "33f7771a",
   "metadata": {
    "ExecuteTime": {
     "start_time": "2021-12-26T05:04:11.887Z"
    }
   },
   "outputs": [
    {
     "name": "stdout",
     "output_type": "stream",
     "text": [
      "supervised data: shape of x: (25232, 96, 16), shape of y: (25232, 24)\n"
     ]
    },
    {
     "name": "stderr",
     "output_type": "stream",
     "text": [
      "Epoch: 1/80...: 100%|██████████| 39/39 [00:09<00:00,  4.25it/s, train_loss=0.0371, valid_loss=0.0344]\n",
      "Epoch: 2/80...: 100%|██████████| 39/39 [00:09<00:00,  4.25it/s, train_loss=0.0354, valid_loss=0.0337]\n",
      "Epoch: 3/80...: 100%|██████████| 39/39 [00:09<00:00,  4.19it/s, train_loss=0.0355, valid_loss=0.034] \n",
      "Epoch: 4/80...: 100%|██████████| 39/39 [00:09<00:00,  4.22it/s, train_loss=0.0318, valid_loss=0.0338]\n",
      "Epoch: 5/80...: 100%|██████████| 39/39 [00:09<00:00,  4.21it/s, train_loss=0.0329, valid_loss=0.0339]\n",
      "Epoch: 6/80...: 100%|██████████| 39/39 [00:09<00:00,  4.24it/s, train_loss=0.0323, valid_loss=0.034] \n",
      "Epoch: 7/80...: 100%|██████████| 39/39 [00:09<00:00,  4.24it/s, train_loss=0.0334, valid_loss=0.0342]\n",
      "Epoch: 8/80...: 100%|██████████| 39/39 [00:09<00:00,  4.19it/s, train_loss=0.0314, valid_loss=0.034] \n",
      "Epoch: 9/80...: 100%|██████████| 39/39 [00:09<00:00,  4.24it/s, train_loss=0.0317, valid_loss=0.0341]\n",
      "Epoch: 10/80...: 100%|██████████| 39/39 [00:09<00:00,  4.23it/s, train_loss=0.0324, valid_loss=0.034] \n",
      "Epoch: 11/80...: 100%|██████████| 39/39 [00:09<00:00,  4.24it/s, train_loss=0.0315, valid_loss=0.0338]\n",
      "Epoch: 12/80...: 100%|██████████| 39/39 [00:09<00:00,  4.22it/s, train_loss=0.0309, valid_loss=0.034] \n",
      "Epoch: 13/80...: 100%|██████████| 39/39 [00:09<00:00,  4.20it/s, train_loss=0.0331, valid_loss=0.034]\n",
      "Epoch: 14/80...: 100%|██████████| 39/39 [00:09<00:00,  4.24it/s, train_loss=0.0322, valid_loss=0.0338]\n",
      "Epoch: 15/80...: 100%|██████████| 39/39 [00:09<00:00,  4.23it/s, train_loss=0.0311, valid_loss=0.034] \n",
      "Epoch: 16/80...:  44%|████▎     | 17/39 [00:04<00:05,  3.70it/s, train_loss=0.0341, valid_loss=0.034]"
     ]
    }
   ],
   "source": [
    "MAPE, MAE, RMSE, load_pred, load_true = run_model_retraining()"
   ]
  },
  {
   "cell_type": "code",
   "execution_count": 31,
   "id": "b50eba53",
   "metadata": {
    "ExecuteTime": {
     "end_time": "2021-12-23T02:22:49.817741Z",
     "start_time": "2021-12-23T02:22:49.811891Z"
    }
   },
   "outputs": [
    {
     "name": "stdout",
     "output_type": "stream",
     "text": [
      "MAPE:0.2232526992827288, MAE:2672.5231712681248, RMSE:3231.7767602151034\n"
     ]
    }
   ],
   "source": [
    "print('MAPE:{}, MAE:{}, RMSE:{}'.format(MAPE, MAE, RMSE))"
   ]
  },
  {
   "cell_type": "markdown",
   "id": "fac19feb",
   "metadata": {},
   "source": [
    "## figure plot"
   ]
  },
  {
   "cell_type": "code",
   "execution_count": 32,
   "id": "dcf1d86c",
   "metadata": {
    "ExecuteTime": {
     "end_time": "2021-12-23T02:22:52.457116Z",
     "start_time": "2021-12-23T02:22:52.306368Z"
    }
   },
   "outputs": [
    {
     "data": {
      "text/plain": [
       "[<matplotlib.lines.Line2D at 0x7ff8cc2cd850>]"
      ]
     },
     "execution_count": 32,
     "metadata": {},
     "output_type": "execute_result"
    },
    {
     "data": {
      "image/png": "[encoded data removed]",
      "text/plain": [
       "<Figure size 1440x720 with 1 Axes>"
      ]
     },
     "metadata": {
      "needs_background": "light"
     },
     "output_type": "display_data"
    }
   ],
   "source": [
    "plt.figure(figsize=(20, 10))\n",
    "load_pred = load_pred.reshape(-1, 24)\n",
    "load_true = load_true.reshape(-1, 24)\n",
    "plt.plot(load_pred[:240, 0], 'r')\n",
    "plt.plot(load_true[:240, 0], 'g')"
   ]
  }
 ],
 "metadata": {
  "kernelspec": {
   "display_name": "Python 3",
   "language": "python",
   "name": "python3"
  },
  "language_info": {
   "codemirror_mode": {
    "name": "ipython",
    "version": 3
   },
   "file_extension": ".py",
   "mimetype": "text/x-python",
   "name": "python",
   "nbconvert_exporter": "python",
   "pygments_lexer": "ipython3",
   "version": "3.8.12"
  },
  "toc": {
   "base_numbering": 1,
   "nav_menu": {},
   "number_sections": true,
   "sideBar": true,
   "skip_h1_title": false,
   "title_cell": "Table of Contents",
   "title_sidebar": "Contents",
   "toc_cell": false,
   "toc_position": {
    "height": "calc(100% - 180px)",
    "left": "10px",
    "top": "150px",
    "width": "374.391px"
   },
   "toc_section_display": true,
   "toc_window_display": true
  },
  "varInspector": {
   "cols": {
    "lenName": 16,
    "lenType": 16,
    "lenVar": 40
   },
   "kernels_config": {
    "python": {
     "delete_cmd_postfix": "",
     "delete_cmd_prefix": "del ",
     "library": "var_list.py",
     "varRefreshCmd": "print(var_dic_list())"
    },
    "r": {
     "delete_cmd_postfix": ") ",
     "delete_cmd_prefix": "rm(",
     "library": "var_list.r",
     "varRefreshCmd": "cat(var_dic_list()) "
    }
   },
   "types_to_exclude": [
    "module",
    "function",
    "builtin_function_or_method",
    "instance",
    "_Feature"
   ],
   "window_display": false
  }
 },
 "nbformat": 4,
 "nbformat_minor": 5
}
