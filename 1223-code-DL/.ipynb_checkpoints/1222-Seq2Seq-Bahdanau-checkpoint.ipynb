{
 "cells": [
  {
   "cell_type": "markdown",
   "id": "a2addc0b",
   "metadata": {},
   "source": [
    "# Seq2Seq for forecast"
   ]
  },
  {
   "cell_type": "code",
   "execution_count": 21,
   "id": "ef846773",
   "metadata": {
    "ExecuteTime": {
     "end_time": "2021-12-31T13:27:06.720441Z",
     "start_time": "2021-12-31T13:27:06.710629Z"
    }
   },
   "outputs": [],
   "source": [
    "import pandas as pd\n",
    "import numpy as np\n",
    "import matplotlib.pyplot as plt\n",
    "import pdb\n",
    "import torch\n",
    "import torch.nn as nn\n",
    "import torch.nn.functional as F\n",
    "import random\n",
    "import math\n",
    "\n",
    "from sklearn.preprocessing import MinMaxScaler\n",
    "from sklearn.model_selection import train_test_split, TimeSeriesSplit\n",
    "from torch.autograd import Variable\n",
    "from torch.utils.data import TensorDataset, DataLoader\n",
    "from tqdm import tqdm\n",
    "from xgboost import XGBRegressor\n",
    "if torch.cuda.is_available():  \n",
    "    dev = \"cuda:0\" \n",
    "else:  \n",
    "    dev = \"cpu\"\n",
    "device = torch.device(dev)"
   ]
  },
  {
   "cell_type": "code",
   "execution_count": 2,
   "id": "fcf6f823",
   "metadata": {
    "ExecuteTime": {
     "end_time": "2021-12-31T13:02:49.187019Z",
     "start_time": "2021-12-31T13:02:49.181284Z"
    }
   },
   "outputs": [],
   "source": [
    "def random_seed_set(seed):\n",
    "    np.random.seed(seed)\n",
    "    torch.random.manual_seed(seed)\n",
    "    torch.cuda.random.manual_seed(seed)\n",
    "#     torch.backends.cudnn.benchmark = False\n",
    "#     torch.backends.cudnn.deterministic = True"
   ]
  },
  {
   "cell_type": "markdown",
   "id": "d7224ca6",
   "metadata": {},
   "source": [
    "## load data"
   ]
  },
  {
   "cell_type": "code",
   "execution_count": 3,
   "id": "8b326558",
   "metadata": {
    "ExecuteTime": {
     "end_time": "2021-12-31T13:02:50.968918Z",
     "start_time": "2021-12-31T13:02:50.899901Z"
    }
   },
   "outputs": [],
   "source": [
    "url = '../data/beijing.csv'\n",
    "data = pd.read_csv(url, sep=',', index_col='time')"
   ]
  },
  {
   "cell_type": "markdown",
   "id": "7744627f",
   "metadata": {},
   "source": [
    "## normalization"
   ]
  },
  {
   "cell_type": "code",
   "execution_count": 4,
   "id": "a2ecea0e",
   "metadata": {
    "ExecuteTime": {
     "end_time": "2021-12-31T13:02:53.119542Z",
     "start_time": "2021-12-31T13:02:53.112446Z"
    }
   },
   "outputs": [],
   "source": [
    "def normalization(data):\n",
    "    \"\"\"\n",
    "    data: original data with load\n",
    "    return: normalized data, scaler of load\n",
    "    \"\"\"\n",
    "    scaler = MinMaxScaler()\n",
    "    normalized_data = scaler.fit_transform(data)\n",
    "    scaler_y = MinMaxScaler()\n",
    "    scaler_y.fit_transform(data[[data.columns[-1]]])\n",
    "    return normalized_data, scaler, scaler_y"
   ]
  },
  {
   "cell_type": "markdown",
   "id": "87c1341f",
   "metadata": {
    "ExecuteTime": {
     "end_time": "2021-12-22T07:45:44.192666Z",
     "start_time": "2021-12-22T07:45:44.188985Z"
    }
   },
   "source": [
    "## build supervised dataset"
   ]
  },
  {
   "cell_type": "code",
   "execution_count": 38,
   "id": "285e0386",
   "metadata": {
    "ExecuteTime": {
     "end_time": "2021-12-31T14:42:06.770253Z",
     "start_time": "2021-12-31T14:42:06.755042Z"
    }
   },
   "outputs": [],
   "source": [
    "def series_to_supervise(data, seq_len, target_len):\n",
    "    \"\"\"\n",
    "    convert series data to supervised data\n",
    "    :param data: original data\n",
    "    :param seq_len: length of input sequence\n",
    "    :param target_len: length of ouput sequence\n",
    "    :return: return two ndarrays-- input and output in format suitable to feed to RNN\n",
    "    \"\"\"\n",
    "    dim_0 = data.shape[0] - seq_len - target_len + 1\n",
    "    dim_1 = data.shape[1]\n",
    "    x = np.zeros((dim_0, seq_len, dim_1))\n",
    "    y = np.zeros((dim_0, target_len, dim_1))\n",
    "    for i in range(dim_0):\n",
    "        x[i] = data[i:i + seq_len]\n",
    "        y[i] = data[i + seq_len:i + seq_len + target_len]\n",
    "    print(\"supervised data: shape of x: {}, shape of y: {}\".format(\n",
    "        x.shape, y.shape))\n",
    "    return x, y"
   ]
  },
  {
   "cell_type": "markdown",
   "id": "e065959b",
   "metadata": {},
   "source": [
    "## 5-folds TimeSeriesSplit"
   ]
  },
  {
   "cell_type": "code",
   "execution_count": 6,
   "id": "2a0b4915",
   "metadata": {
    "ExecuteTime": {
     "end_time": "2021-12-31T13:02:56.443574Z",
     "start_time": "2021-12-31T13:02:56.434742Z"
    }
   },
   "outputs": [],
   "source": [
    "def time_series_split(X, Y, n_split=5):\n",
    "    \"\"\"\n",
    "    X: features, size * seq_len * feature_num\n",
    "    Y: labels, size * target_len\n",
    "    return: list of train_x, test_x, train_y, test_y\n",
    "    \"\"\"\n",
    "    tscv = TimeSeriesSplit(n_splits=n_split)\n",
    "    train_x_list = list()\n",
    "    valid_x_list = list()\n",
    "    train_y_list = list()\n",
    "    valid_y_list = list()\n",
    "    for train_index, valid_index in tscv.split(X):\n",
    "        train_x_list.append(X[train_index])\n",
    "        train_y_list.append(Y[train_index])\n",
    "        valid_x_list.append(X[valid_index])\n",
    "        valid_y_list.append(Y[valid_index])\n",
    "    return train_x_list, train_y_list, valid_x_list, valid_y_list"
   ]
  },
  {
   "cell_type": "markdown",
   "id": "e0fc914f",
   "metadata": {},
   "source": [
    "## Seq2Seq model"
   ]
  },
  {
   "cell_type": "markdown",
   "id": "cef34020",
   "metadata": {},
   "source": [
    "### Encoder"
   ]
  },
  {
   "cell_type": "code",
   "execution_count": 24,
   "id": "64c59a89",
   "metadata": {
    "ExecuteTime": {
     "end_time": "2021-12-31T13:39:25.573352Z",
     "start_time": "2021-12-31T13:39:25.562202Z"
    }
   },
   "outputs": [],
   "source": [
    "class Encoder(nn.Module):\n",
    "    def __init__(self, input_size, hidden_dim, n_layers, drop_prob):\n",
    "        super(Encoder, self).__init__()\n",
    "        # 初始化hidden_state参数\n",
    "        self.hidden_dim = hidden_dim\n",
    "        self.n_layers = n_layers\n",
    "        # 定义层\n",
    "        self.rnn = nn.GRU(input_size,\n",
    "                           hidden_dim,\n",
    "                           n_layers,\n",
    "                           bidirectional=False,\n",
    "                           dropout=drop_prob)\n",
    "\n",
    "    def forward(self, x):\n",
    "        # 输入'X'的形状：(`batch_size`, `num_steps`, `input_size`)\n",
    "        # RNN中，第一个维度对应时间步\n",
    "        x = torch.transpose(x, 0, 1)\n",
    "        rnn_out, state = self.rnn(x)\n",
    "        return rnn_out, state"
   ]
  },
  {
   "cell_type": "markdown",
   "id": "9927d4a3",
   "metadata": {
    "ExecuteTime": {
     "end_time": "2021-12-31T13:15:30.991666Z",
     "start_time": "2021-12-31T13:15:30.987285Z"
    }
   },
   "source": [
    "### Additive Attention"
   ]
  },
  {
   "cell_type": "code",
   "execution_count": 8,
   "id": "6c95e03f",
   "metadata": {
    "ExecuteTime": {
     "end_time": "2021-12-31T13:20:01.923647Z",
     "start_time": "2021-12-31T13:20:01.909927Z"
    }
   },
   "outputs": [],
   "source": [
    "class AdditiveAttention(nn.Module):\n",
    "    \"\"\"加性注意力\"\"\"\n",
    "    def __init__(self, key_size, query_size, num_hiddens, dropout, **kwargs):\n",
    "        super(AdditiveAttention, self).__init__(**kwargs)\n",
    "        self.W_k = nn.Linear(key_size, num_hiddens, bias=False)\n",
    "        self.W_q = nn.Linear(query_size, num_hiddens, bias=False)\n",
    "        self.w_v = nn.Linear(num_hiddens, 1, bias=False)\n",
    "        self.dropout = nn.Dropout(dropout)\n",
    "\n",
    "    def forward(self, queries, keys, values):\n",
    "        queries, keys = self.W_q(queries), self.W_k(keys)\n",
    "        # 在维度扩展后，\n",
    "        # `queries` 的形状：(`batch_size`，查询的个数，1，`num_hidden`)\n",
    "        # `key` 的形状：(`batch_size`，1，“键－值”对的个数，`num_hiddens`)\n",
    "        # 使用广播方式进行求和\n",
    "        features = queries.unsqueeze(2) + keys.unsqueeze(1)\n",
    "        features = torch.tanh(features)\n",
    "        # `self.w_v` 仅有一个输出，因此从形状中移除最后那个维度。\n",
    "        # `scores` 的形状：(`batch_size`，查询的个数，“键-值”对的个数)\n",
    "        scores = self.w_v(features).squeeze(-1)\n",
    "        self.attention_weights = nn.functional.softmax(scores, dim=-1)\n",
    "        # `values` 的形状：(`batch_size`，“键－值”对的个数，值的维度)\n",
    "        return torch.bmm(self.dropout(self.attention_weights), values)"
   ]
  },
  {
   "cell_type": "markdown",
   "id": "3c1fe328",
   "metadata": {},
   "source": [
    "### DotProductAttentioin"
   ]
  },
  {
   "cell_type": "code",
   "execution_count": 27,
   "id": "fd56f30d",
   "metadata": {
    "ExecuteTime": {
     "end_time": "2021-12-31T14:10:27.691730Z",
     "start_time": "2021-12-31T14:10:27.674181Z"
    }
   },
   "outputs": [],
   "source": [
    "class DotProductAttention(nn.Module):\n",
    "    \"\"\"缩放点积注意力\"\"\"\n",
    "    def __init__(self, dropout, **kwargs):\n",
    "        super(DotProductAttention, self).__init__(**kwargs)\n",
    "        self.dropout = nn.Dropout(dropout)\n",
    "\n",
    "    # `queries` 的形状：(`batch_size`，查询的个数，`d`)\n",
    "    # `keys` 的形状：(`batch_size`，“键－值”对的个数，`d`)\n",
    "    # `values` 的形状：(`batch_size`，“键－值”对的个数，值的维度)\n",
    "    # `valid_lens` 的形状: (`batch_size`，) 或者 (`batch_size`，查询的个数)\n",
    "    def forward(self, queries, keys, values):\n",
    "        d = queries.shape[-1]\n",
    "        # 设置 `transpose_b=True` 为了交换 `keys` 的最后两个维度\n",
    "        scores = torch.bmm(queries, keys.transpose(1,2)) / math.sqrt(d)\n",
    "        self.attention_weights = nn.functional.softmax(scores, dim=-1)\n",
    "        return torch.bmm(self.dropout(self.attention_weights), values)"
   ]
  },
  {
   "cell_type": "markdown",
   "id": "252e431c",
   "metadata": {},
   "source": [
    "### Decoder"
   ]
  },
  {
   "cell_type": "code",
   "execution_count": 59,
   "id": "15ab4a45",
   "metadata": {
    "ExecuteTime": {
     "end_time": "2021-12-31T15:15:10.863313Z",
     "start_time": "2021-12-31T15:15:10.844141Z"
    }
   },
   "outputs": [],
   "source": [
    "class AttnDecoder(nn.Module):\n",
    "    def __init__(self, input_size, hidden_dim, n_layers, drop_prob):\n",
    "        super(AttnDecoder, self).__init__()\n",
    "        \n",
    "        self.attention = AdditiveAttention(hidden_dim, hidden_dim, hidden_dim, drop_prob)\n",
    "        self.rnn = nn.GRU(input_size + hidden_dim, hidden_dim, n_layers, dropout=drop_prob)\n",
    "        self.fc = nn.Sequential()\n",
    "        \n",
    "        input_size = hidden_dim\n",
    "        i = 0\n",
    "        while (input_size > 8):\n",
    "            self.fc.add_module('linear{}'.format(i),\n",
    "                               nn.Linear(input_size, round(input_size / 2)))\n",
    "            self.fc.add_module('relu{}'.format(i), nn.ReLU())\n",
    "            input_size = round(input_size / 2)\n",
    "            i += 1\n",
    "        self.fc.add_module('linear{}'.format(i), nn.Linear(input_size, 1))\n",
    "        \n",
    "    \n",
    "    def forward(self, inputs, encoder_outputs, encoder_state):\n",
    "        \"\"\"\n",
    "        :inputs 形状为(batch_size, target_len, input_size)\n",
    "        :encoder_outputs 形状为(seq_len, batch_size, hidden_dim)\n",
    "        :encoder_state 形状为(n_layers, batch_size, hidden_dim)\n",
    "        \"\"\"\n",
    "        # inputs 变形为（target_len, batch_size, input_size）\n",
    "        inputs = torch.transpose(inputs, 0, 1)\n",
    "        # encoder_outputs 变形为 (batch_size, seq_len, hidden_dim)\n",
    "        encoder_outputs = torch.transpose(encoder_outputs, 0, 1)\n",
    "        # decoder_state 需要用encoder_state初始化\n",
    "        decoder_state = encoder_state\n",
    "        outputs = []\n",
    "        \n",
    "        for i, x in enumerate(inputs):\n",
    "            # query shape is (batch_size, 1, hidden_dim)\n",
    "            query = torch.unsqueeze(decoder_state[-1], dim=1)\n",
    "            context = self.attention(query, encoder_outputs, encoder_outputs)\n",
    "            # training process is different from eval process\n",
    "            if i and self.training:\n",
    "                x[:, -1:] = out.detach()\n",
    "            # x shape is (batch_size, 1, hidden_dim + input_size)\n",
    "            x = torch.cat((context, torch.unsqueeze(x, dim=1)), dim=-1)\n",
    "            # x reshape to (1, batch_size, hidden_dim + input_size)\n",
    "            x = torch.transpose(x, 0, 1)\n",
    "            # out shape (1, batch_size, hidden_dim)\n",
    "            out, decoder_state = self.rnn(x, decoder_state)\n",
    "            # out shape (batch_size, 1)\n",
    "            out = self.fc(out.squeeze(dim=0))\n",
    "            outputs.append(out)\n",
    "        # outputs shape (batch_size, target_len)\n",
    "        outputs = torch.cat(outputs, dim=1)\n",
    "        return outputs"
   ]
  },
  {
   "cell_type": "markdown",
   "id": "b475752b",
   "metadata": {},
   "source": [
    "### Seq2Seq_Attn"
   ]
  },
  {
   "cell_type": "code",
   "execution_count": 35,
   "id": "79e29c74",
   "metadata": {
    "ExecuteTime": {
     "end_time": "2021-12-31T14:35:13.817667Z",
     "start_time": "2021-12-31T14:35:13.808088Z"
    }
   },
   "outputs": [],
   "source": [
    "class Seq2Seq_Attn(nn.Module):\n",
    "    def __init__(self, input_size, hidden_dim, n_layers, drop_prob):\n",
    "        super(Seq2Seq_Attn, self).__init__()\n",
    "        self.encoder = Encoder(input_size, hidden_dim, n_layers, drop_prob)\n",
    "        self.decoder = AttnDecoder(input_size, hidden_dim, n_layers, drop_prob)\n",
    "    \n",
    "    def forward(self, encoder_inputs, decoder_inputs):\n",
    "        # encoder_inputs shape (batch_size, seq_len, input_size)\n",
    "        # decoder_inputs shape (batch_size, target_len, input_size)\n",
    "        encoder_outputs, encoder_state = self.encoder(encoder_inputs)\n",
    "        outputs = self.decoder(decoder_inputs, encoder_outputs, encoder_state)\n",
    "        return outputs"
   ]
  },
  {
   "cell_type": "markdown",
   "id": "12e60f1a",
   "metadata": {
    "ExecuteTime": {
     "end_time": "2021-12-22T08:30:19.661769Z",
     "start_time": "2021-12-22T08:30:19.656770Z"
    }
   },
   "source": [
    "## model training for HPO"
   ]
  },
  {
   "cell_type": "code",
   "execution_count": 51,
   "id": "d91882f5",
   "metadata": {
    "ExecuteTime": {
     "end_time": "2021-12-31T14:52:12.469190Z",
     "start_time": "2021-12-31T14:52:12.441158Z"
    },
    "code_folding": []
   },
   "outputs": [],
   "source": [
    "def train_model_hpo(train_x_list,\n",
    "                    train_y_list,\n",
    "                    valid_x_list,\n",
    "                    valid_y_list,\n",
    "                    input_size,\n",
    "                    seq_len,\n",
    "                    target_len,\n",
    "                    mse_thresh,\n",
    "                    hidden_dim,\n",
    "                    n_layers,\n",
    "                    number_epoch,\n",
    "                    batch_size,\n",
    "                    lr,\n",
    "                    drop_prob,\n",
    "                    weight_decay):\n",
    "    valid_loss_list = []\n",
    "    for num in range(len(train_x_list)):\n",
    "        while (1):\n",
    "            model = Seq2Seq_Attn(input_size, hidden_dim, n_layers, drop_prob)\n",
    "            model = model.to(device)\n",
    "            criterion = nn.MSELoss()\n",
    "            optimizer = torch.optim.Adam(model.parameters(), lr=lr, weight_decay=weight_decay)\n",
    "            scheduler = torch.optim.lr_scheduler.StepLR(optimizer, 1, gamma=0.98)\n",
    "            valid_loss_min = np.Inf\n",
    "            print('train dataset {}'.format(num))\n",
    "            train_x = train_x_list[num]\n",
    "            train_y = train_y_list[num]\n",
    "            valid_x = valid_x_list[num]\n",
    "            valid_y = valid_y_list[num]\n",
    "            train_dataset = TensorDataset(torch.FloatTensor(train_x),\n",
    "                                          torch.FloatTensor(train_y))\n",
    "            valid_dataset = TensorDataset(torch.FloatTensor(valid_x),\n",
    "                                          torch.FloatTensor(valid_y))\n",
    "\n",
    "            train_loader = DataLoader(dataset=train_dataset,\n",
    "                                      batch_size=batch_size,\n",
    "                                      shuffle=True,\n",
    "                                      drop_last=True)\n",
    "            valid_loader = DataLoader(dataset=valid_dataset,\n",
    "                                      batch_size=batch_size,\n",
    "                                      shuffle=True,\n",
    "                                      drop_last=True)\n",
    "            train_losses = list()\n",
    "\n",
    "            num_without_imp = 0\n",
    "\n",
    "            #train\n",
    "            for epoch in range(1, number_epoch + 1):\n",
    "                loop = tqdm(enumerate(train_loader),\n",
    "                            total=len(train_loader),\n",
    "                            leave=True, ncols=100)\n",
    "                for i, (inputs, labels) in loop:\n",
    "                    inputs = inputs.to(device)\n",
    "                    labels = labels.to(device)\n",
    "                    optimizer.zero_grad()\n",
    "                    encoder_inputs = inputs\n",
    "                    decoder_inputs = torch.cat((inputs[:, -1:, :], labels[:, :-1, :]), dim=1)\n",
    "                    outputs = model(encoder_inputs, decoder_inputs)                                \n",
    "                    loss = criterion(outputs, labels[:, :, -1])\n",
    "                    train_losses.append(loss.item)\n",
    "                    loss.backward()\n",
    "                    optimizer.step()\n",
    "\n",
    "                    # eval\n",
    "                    if i % 5 == 0:\n",
    "                        num_without_imp = num_without_imp + 1\n",
    "                        valid_losses = list()\n",
    "                        model.eval()\n",
    "                        for inp, lab in valid_loader:\n",
    "                            inp = inp.to(device)\n",
    "                            lab = lab.to(device)\n",
    "                            encoder_inp = inp\n",
    "                            decoder_inp = torch.cat((inp[:, -1:, :], lab[:, :-1, :]), dim=1)\n",
    "                            out = model(encoder_inp, decoder_inp)\n",
    "                            valid_loss = criterion(out, lab[:, :, -1])\n",
    "                            valid_losses.append(valid_loss.item())\n",
    "                        model.train()\n",
    "                        loop.set_description(\"Epoch: {}/{}...\".format(\n",
    "                            epoch, number_epoch))\n",
    "                        loop.set_postfix(train_loss=loss.item(),\n",
    "                                         valid_loss=np.mean(valid_losses))\n",
    "                        if np.mean(valid_losses) < valid_loss_min:\n",
    "                            num_without_imp = 0\n",
    "                            valid_loss_min = np.mean(valid_losses)\n",
    "                if num_without_imp > 50:\n",
    "                    break\n",
    "                scheduler.step()\n",
    "            if valid_loss_min < mse_thresh:\n",
    "                valid_loss_list.append(valid_loss_min)\n",
    "                break\n",
    "    return np.mean(valid_loss_list)"
   ]
  },
  {
   "cell_type": "markdown",
   "id": "9739d3b6",
   "metadata": {},
   "source": [
    "## hyper-parameters config"
   ]
  },
  {
   "cell_type": "code",
   "execution_count": 48,
   "id": "96846bfa",
   "metadata": {
    "ExecuteTime": {
     "end_time": "2021-12-31T14:51:39.455088Z",
     "start_time": "2021-12-31T14:51:39.442818Z"
    }
   },
   "outputs": [],
   "source": [
    "seq_len = 72\n",
    "target_len = 24\n",
    "mse_thresh = 0.05\n",
    "\n",
    "\n",
    "def model_config():\n",
    "    batch_sizes = [256]\n",
    "    lrs = [0.01]\n",
    "    number_epochs = [40]\n",
    "    hidden_dims = [80]\n",
    "    n_layers = [3]\n",
    "    drop_prob = [0]\n",
    "    weight_decays = [0]\n",
    "    configs = list()\n",
    "    for i in batch_sizes:\n",
    "        for j in lrs:\n",
    "            for k in number_epochs:\n",
    "                for l in hidden_dims:\n",
    "                    for m in n_layers:\n",
    "                        for n in drop_prob:\n",
    "                            for o in weight_decays:\n",
    "                                configs.append({\n",
    "                                    'batch_size': i,\n",
    "                                    'lr': j,\n",
    "                                    'number_epoch': k,\n",
    "                                    'hidden_dim': l,\n",
    "                                    'n_layers': m,\n",
    "                                    'drop_prob': n,\n",
    "                                    'weight_decay': o\n",
    "                                })\n",
    "    return configs"
   ]
  },
  {
   "cell_type": "markdown",
   "id": "b237f1c8",
   "metadata": {},
   "source": [
    "## random search for HPO"
   ]
  },
  {
   "cell_type": "code",
   "execution_count": 53,
   "id": "3f7598e1",
   "metadata": {
    "ExecuteTime": {
     "end_time": "2021-12-31T14:52:27.509313Z",
     "start_time": "2021-12-31T14:52:27.491891Z"
    }
   },
   "outputs": [],
   "source": [
    "def run_model_hpo(seq_len=seq_len,\n",
    "                  target_len=target_len,\n",
    "                  mse_thresh=mse_thresh):\n",
    "    train_data = data[:int(0.8 * len(data))]\n",
    "    train_data, _, _ = normalization(train_data)\n",
    "    train_x, train_y = series_to_supervise(train_data, seq_len, target_len)\n",
    "    train_x_list, train_y_list, valid_x_list, valid_y_list = time_series_split(\n",
    "        train_x, train_y)\n",
    "    #         with enough data\n",
    "    train_x_list = train_x_list[-1:]\n",
    "    train_y_list = train_y_list[-1:]\n",
    "    valid_x_list = valid_x_list[-1:]\n",
    "    valid_y_list = valid_y_list[-1:]\n",
    "\n",
    "    configs = model_config()\n",
    "    records = []\n",
    "    input_size = train_x.shape[2]\n",
    "    for i in range(1):\n",
    "        config = random.choice(configs)\n",
    "        configs.remove(config)\n",
    "        batch_size = config['batch_size']\n",
    "        lr = config['lr']\n",
    "        number_epoch = config['number_epoch']\n",
    "        hidden_dim = config['hidden_dim']\n",
    "        n_layers = config['n_layers']\n",
    "        drop_prob = config['drop_prob']\n",
    "        weight_decay = config['weight_decay']\n",
    "        print(\n",
    "            \"model config: batch_size-{}, lr-{}, number_epoch-{}, hidden_dim-{}, n_layers-{},drop_prob-{},weight_decay-{}\"\n",
    "            .format(batch_size, lr, number_epoch, hidden_dim, n_layers,\n",
    "                    drop_prob, weight_decay))\n",
    "        valid_loss = train_model_hpo(\n",
    "            train_x_list,\n",
    "            train_y_list,\n",
    "            valid_x_list,\n",
    "            valid_y_list,\n",
    "            input_size,\n",
    "            seq_len,\n",
    "            target_len,\n",
    "            mse_thresh,\n",
    "            hidden_dim,\n",
    "            n_layers,\n",
    "            number_epoch,\n",
    "            batch_size,\n",
    "            lr,\n",
    "            drop_prob,\n",
    "            weight_decay,\n",
    "        )\n",
    "        records.append({\n",
    "            'batch_size': batch_size,\n",
    "            'lr': lr,\n",
    "            'number_epoch': number_epoch,\n",
    "            'hidden_dim': hidden_dim,\n",
    "            'n_layers': n_layers,\n",
    "            'drop_prob': drop_prob,\n",
    "            'weight_decay': weight_decay,\n",
    "            'valid_loss': valid_loss\n",
    "        })\n",
    "    return records"
   ]
  },
  {
   "cell_type": "markdown",
   "id": "fdc116f2",
   "metadata": {},
   "source": [
    "## run random search"
   ]
  },
  {
   "cell_type": "code",
   "execution_count": 54,
   "id": "a4dc542d",
   "metadata": {
    "ExecuteTime": {
     "end_time": "2021-12-31T14:54:21.924097Z",
     "start_time": "2021-12-31T14:52:30.148027Z"
    },
    "scrolled": true
   },
   "outputs": [
    {
     "name": "stdout",
     "output_type": "stream",
     "text": [
      "supervised data: shape of x: (25232, 72, 16), shape of y: (25232, 24, 16)\n",
      "model config: batch_size-256, lr-0.01, number_epoch-40, hidden_dim-80, n_layers-3,drop_prob-0,weight_decay-0\n",
      "train dataset 0\n"
     ]
    },
    {
     "name": "stderr",
     "output_type": "stream",
     "text": [
      "Epoch: 1/40...: 100%|█████████| 82/82 [00:06<00:00, 12.18it/s, train_loss=0.0297, valid_loss=0.0347]\n",
      "Epoch: 2/40...: 100%|█████████| 82/82 [00:06<00:00, 12.21it/s, train_loss=0.0312, valid_loss=0.0349]\n",
      "Epoch: 3/40...: 100%|██████████| 82/82 [00:06<00:00, 11.75it/s, train_loss=0.0289, valid_loss=0.036]\n",
      "Epoch: 4/40...: 100%|█████████| 82/82 [00:06<00:00, 12.21it/s, train_loss=0.0146, valid_loss=0.0257]\n",
      "Epoch: 5/40...: 100%|█████████| 82/82 [00:06<00:00, 12.23it/s, train_loss=0.0098, valid_loss=0.0157]\n",
      "Epoch: 6/40...: 100%|███████| 82/82 [00:06<00:00, 12.20it/s, train_loss=0.00382, valid_loss=0.00585]\n",
      "Epoch: 7/40...: 100%|███████| 82/82 [00:06<00:00, 12.21it/s, train_loss=0.00328, valid_loss=0.00527]\n",
      "Epoch: 8/40...: 100%|███████| 82/82 [00:07<00:00, 10.55it/s, train_loss=0.00223, valid_loss=0.00304]\n",
      "Epoch: 9/40...: 100%|███████| 82/82 [00:07<00:00, 10.69it/s, train_loss=0.00113, valid_loss=0.00173]\n",
      "Epoch: 10/40...: 100%|████| 82/82 [00:07<00:00, 10.77it/s, train_loss=0.000495, valid_loss=0.000755]\n",
      "Epoch: 11/40...: 100%|████| 82/82 [00:07<00:00, 10.88it/s, train_loss=0.000397, valid_loss=0.000541]\n",
      "Epoch: 12/40...: 100%|████| 82/82 [00:07<00:00, 10.34it/s, train_loss=0.000894, valid_loss=0.000832]\n",
      "Epoch: 13/40...: 100%|████| 82/82 [00:07<00:00, 10.65it/s, train_loss=0.000305, valid_loss=0.000619]\n",
      "Epoch: 14/40...: 100%|████| 82/82 [00:07<00:00, 10.60it/s, train_loss=0.000274, valid_loss=0.000403]\n",
      "Epoch: 15/40...: 100%|████| 82/82 [00:07<00:00, 10.86it/s, train_loss=0.000273, valid_loss=0.000389]\n",
      "Epoch: 16/40...:  30%|█▏  | 25/82 [00:02<00:05, 10.74it/s, train_loss=0.000246, valid_loss=0.000372]\n"
     ]
    },
    {
     "ename": "KeyboardInterrupt",
     "evalue": "",
     "output_type": "error",
     "traceback": [
      "\u001b[0;31m---------------------------------------------------------------------------\u001b[0m",
      "\u001b[0;31mKeyboardInterrupt\u001b[0m                         Traceback (most recent call last)",
      "\u001b[0;32m/tmp/ipykernel_79541/1238912210.py\u001b[0m in \u001b[0;36m<module>\u001b[0;34m\u001b[0m\n\u001b[1;32m      1\u001b[0m \u001b[0mrandom_seed_set\u001b[0m\u001b[0;34m(\u001b[0m\u001b[0;36m42\u001b[0m\u001b[0;34m)\u001b[0m\u001b[0;34m\u001b[0m\u001b[0;34m\u001b[0m\u001b[0m\n\u001b[0;32m----> 2\u001b[0;31m \u001b[0mrecords\u001b[0m \u001b[0;34m=\u001b[0m \u001b[0mrun_model_hpo\u001b[0m\u001b[0;34m(\u001b[0m\u001b[0;34m)\u001b[0m\u001b[0;34m\u001b[0m\u001b[0;34m\u001b[0m\u001b[0m\n\u001b[0m",
      "\u001b[0;32m/tmp/ipykernel_79541/2818356250.py\u001b[0m in \u001b[0;36mrun_model_hpo\u001b[0;34m(seq_len, target_len, mse_thresh)\u001b[0m\n\u001b[1;32m     30\u001b[0m             .format(batch_size, lr, number_epoch, hidden_dim, n_layers,\n\u001b[1;32m     31\u001b[0m                     drop_prob, weight_decay))\n\u001b[0;32m---> 32\u001b[0;31m         valid_loss = train_model_hpo(\n\u001b[0m\u001b[1;32m     33\u001b[0m             \u001b[0mtrain_x_list\u001b[0m\u001b[0;34m,\u001b[0m\u001b[0;34m\u001b[0m\u001b[0;34m\u001b[0m\u001b[0m\n\u001b[1;32m     34\u001b[0m             \u001b[0mtrain_y_list\u001b[0m\u001b[0;34m,\u001b[0m\u001b[0;34m\u001b[0m\u001b[0;34m\u001b[0m\u001b[0m\n",
      "\u001b[0;32m/tmp/ipykernel_79541/98846059.py\u001b[0m in \u001b[0;36mtrain_model_hpo\u001b[0;34m(train_x_list, train_y_list, valid_x_list, valid_y_list, input_size, seq_len, target_len, mse_thresh, hidden_dim, n_layers, number_epoch, batch_size, lr, drop_prob, weight_decay)\u001b[0m\n\u001b[1;32m     67\u001b[0m                         \u001b[0mvalid_losses\u001b[0m \u001b[0;34m=\u001b[0m \u001b[0mlist\u001b[0m\u001b[0;34m(\u001b[0m\u001b[0;34m)\u001b[0m\u001b[0;34m\u001b[0m\u001b[0;34m\u001b[0m\u001b[0m\n\u001b[1;32m     68\u001b[0m                         \u001b[0mmodel\u001b[0m\u001b[0;34m.\u001b[0m\u001b[0meval\u001b[0m\u001b[0;34m(\u001b[0m\u001b[0;34m)\u001b[0m\u001b[0;34m\u001b[0m\u001b[0;34m\u001b[0m\u001b[0m\n\u001b[0;32m---> 69\u001b[0;31m                         \u001b[0;32mfor\u001b[0m \u001b[0minp\u001b[0m\u001b[0;34m,\u001b[0m \u001b[0mlab\u001b[0m \u001b[0;32min\u001b[0m \u001b[0mvalid_loader\u001b[0m\u001b[0;34m:\u001b[0m\u001b[0;34m\u001b[0m\u001b[0;34m\u001b[0m\u001b[0m\n\u001b[0m\u001b[1;32m     70\u001b[0m                             \u001b[0minp\u001b[0m \u001b[0;34m=\u001b[0m \u001b[0minp\u001b[0m\u001b[0;34m.\u001b[0m\u001b[0mto\u001b[0m\u001b[0;34m(\u001b[0m\u001b[0mdevice\u001b[0m\u001b[0;34m)\u001b[0m\u001b[0;34m\u001b[0m\u001b[0;34m\u001b[0m\u001b[0m\n\u001b[1;32m     71\u001b[0m                             \u001b[0mlab\u001b[0m \u001b[0;34m=\u001b[0m \u001b[0mlab\u001b[0m\u001b[0;34m.\u001b[0m\u001b[0mto\u001b[0m\u001b[0;34m(\u001b[0m\u001b[0mdevice\u001b[0m\u001b[0;34m)\u001b[0m\u001b[0;34m\u001b[0m\u001b[0;34m\u001b[0m\u001b[0m\n",
      "\u001b[0;32m/home/nslab/miniconda3/envs/pytorch/lib/python3.8/site-packages/torch/utils/data/dataloader.py\u001b[0m in \u001b[0;36m__next__\u001b[0;34m(self)\u001b[0m\n\u001b[1;32m    519\u001b[0m             \u001b[0;32mif\u001b[0m \u001b[0mself\u001b[0m\u001b[0;34m.\u001b[0m\u001b[0m_sampler_iter\u001b[0m \u001b[0;32mis\u001b[0m \u001b[0;32mNone\u001b[0m\u001b[0;34m:\u001b[0m\u001b[0;34m\u001b[0m\u001b[0;34m\u001b[0m\u001b[0m\n\u001b[1;32m    520\u001b[0m                 \u001b[0mself\u001b[0m\u001b[0;34m.\u001b[0m\u001b[0m_reset\u001b[0m\u001b[0;34m(\u001b[0m\u001b[0;34m)\u001b[0m\u001b[0;34m\u001b[0m\u001b[0;34m\u001b[0m\u001b[0m\n\u001b[0;32m--> 521\u001b[0;31m             \u001b[0mdata\u001b[0m \u001b[0;34m=\u001b[0m \u001b[0mself\u001b[0m\u001b[0;34m.\u001b[0m\u001b[0m_next_data\u001b[0m\u001b[0;34m(\u001b[0m\u001b[0;34m)\u001b[0m\u001b[0;34m\u001b[0m\u001b[0;34m\u001b[0m\u001b[0m\n\u001b[0m\u001b[1;32m    522\u001b[0m             \u001b[0mself\u001b[0m\u001b[0;34m.\u001b[0m\u001b[0m_num_yielded\u001b[0m \u001b[0;34m+=\u001b[0m \u001b[0;36m1\u001b[0m\u001b[0;34m\u001b[0m\u001b[0;34m\u001b[0m\u001b[0m\n\u001b[1;32m    523\u001b[0m             \u001b[0;32mif\u001b[0m \u001b[0mself\u001b[0m\u001b[0;34m.\u001b[0m\u001b[0m_dataset_kind\u001b[0m \u001b[0;34m==\u001b[0m \u001b[0m_DatasetKind\u001b[0m\u001b[0;34m.\u001b[0m\u001b[0mIterable\u001b[0m \u001b[0;32mand\u001b[0m\u001b[0;31m \u001b[0m\u001b[0;31m\\\u001b[0m\u001b[0;34m\u001b[0m\u001b[0;34m\u001b[0m\u001b[0m\n",
      "\u001b[0;32m/home/nslab/miniconda3/envs/pytorch/lib/python3.8/site-packages/torch/utils/data/dataloader.py\u001b[0m in \u001b[0;36m_next_data\u001b[0;34m(self)\u001b[0m\n\u001b[1;32m    559\u001b[0m     \u001b[0;32mdef\u001b[0m \u001b[0m_next_data\u001b[0m\u001b[0;34m(\u001b[0m\u001b[0mself\u001b[0m\u001b[0;34m)\u001b[0m\u001b[0;34m:\u001b[0m\u001b[0;34m\u001b[0m\u001b[0;34m\u001b[0m\u001b[0m\n\u001b[1;32m    560\u001b[0m         \u001b[0mindex\u001b[0m \u001b[0;34m=\u001b[0m \u001b[0mself\u001b[0m\u001b[0;34m.\u001b[0m\u001b[0m_next_index\u001b[0m\u001b[0;34m(\u001b[0m\u001b[0;34m)\u001b[0m  \u001b[0;31m# may raise StopIteration\u001b[0m\u001b[0;34m\u001b[0m\u001b[0;34m\u001b[0m\u001b[0m\n\u001b[0;32m--> 561\u001b[0;31m         \u001b[0mdata\u001b[0m \u001b[0;34m=\u001b[0m \u001b[0mself\u001b[0m\u001b[0;34m.\u001b[0m\u001b[0m_dataset_fetcher\u001b[0m\u001b[0;34m.\u001b[0m\u001b[0mfetch\u001b[0m\u001b[0;34m(\u001b[0m\u001b[0mindex\u001b[0m\u001b[0;34m)\u001b[0m  \u001b[0;31m# may raise StopIteration\u001b[0m\u001b[0;34m\u001b[0m\u001b[0;34m\u001b[0m\u001b[0m\n\u001b[0m\u001b[1;32m    562\u001b[0m         \u001b[0;32mif\u001b[0m \u001b[0mself\u001b[0m\u001b[0;34m.\u001b[0m\u001b[0m_pin_memory\u001b[0m\u001b[0;34m:\u001b[0m\u001b[0;34m\u001b[0m\u001b[0;34m\u001b[0m\u001b[0m\n\u001b[1;32m    563\u001b[0m             \u001b[0mdata\u001b[0m \u001b[0;34m=\u001b[0m \u001b[0m_utils\u001b[0m\u001b[0;34m.\u001b[0m\u001b[0mpin_memory\u001b[0m\u001b[0;34m.\u001b[0m\u001b[0mpin_memory\u001b[0m\u001b[0;34m(\u001b[0m\u001b[0mdata\u001b[0m\u001b[0;34m)\u001b[0m\u001b[0;34m\u001b[0m\u001b[0;34m\u001b[0m\u001b[0m\n",
      "\u001b[0;32m/home/nslab/miniconda3/envs/pytorch/lib/python3.8/site-packages/torch/utils/data/_utils/fetch.py\u001b[0m in \u001b[0;36mfetch\u001b[0;34m(self, possibly_batched_index)\u001b[0m\n\u001b[1;32m     42\u001b[0m     \u001b[0;32mdef\u001b[0m \u001b[0mfetch\u001b[0m\u001b[0;34m(\u001b[0m\u001b[0mself\u001b[0m\u001b[0;34m,\u001b[0m \u001b[0mpossibly_batched_index\u001b[0m\u001b[0;34m)\u001b[0m\u001b[0;34m:\u001b[0m\u001b[0;34m\u001b[0m\u001b[0;34m\u001b[0m\u001b[0m\n\u001b[1;32m     43\u001b[0m         \u001b[0;32mif\u001b[0m \u001b[0mself\u001b[0m\u001b[0;34m.\u001b[0m\u001b[0mauto_collation\u001b[0m\u001b[0;34m:\u001b[0m\u001b[0;34m\u001b[0m\u001b[0;34m\u001b[0m\u001b[0m\n\u001b[0;32m---> 44\u001b[0;31m             \u001b[0mdata\u001b[0m \u001b[0;34m=\u001b[0m \u001b[0;34m[\u001b[0m\u001b[0mself\u001b[0m\u001b[0;34m.\u001b[0m\u001b[0mdataset\u001b[0m\u001b[0;34m[\u001b[0m\u001b[0midx\u001b[0m\u001b[0;34m]\u001b[0m \u001b[0;32mfor\u001b[0m \u001b[0midx\u001b[0m \u001b[0;32min\u001b[0m \u001b[0mpossibly_batched_index\u001b[0m\u001b[0;34m]\u001b[0m\u001b[0;34m\u001b[0m\u001b[0;34m\u001b[0m\u001b[0m\n\u001b[0m\u001b[1;32m     45\u001b[0m         \u001b[0;32melse\u001b[0m\u001b[0;34m:\u001b[0m\u001b[0;34m\u001b[0m\u001b[0;34m\u001b[0m\u001b[0m\n\u001b[1;32m     46\u001b[0m             \u001b[0mdata\u001b[0m \u001b[0;34m=\u001b[0m \u001b[0mself\u001b[0m\u001b[0;34m.\u001b[0m\u001b[0mdataset\u001b[0m\u001b[0;34m[\u001b[0m\u001b[0mpossibly_batched_index\u001b[0m\u001b[0;34m]\u001b[0m\u001b[0;34m\u001b[0m\u001b[0;34m\u001b[0m\u001b[0m\n",
      "\u001b[0;32m/home/nslab/miniconda3/envs/pytorch/lib/python3.8/site-packages/torch/utils/data/_utils/fetch.py\u001b[0m in \u001b[0;36m<listcomp>\u001b[0;34m(.0)\u001b[0m\n\u001b[1;32m     42\u001b[0m     \u001b[0;32mdef\u001b[0m \u001b[0mfetch\u001b[0m\u001b[0;34m(\u001b[0m\u001b[0mself\u001b[0m\u001b[0;34m,\u001b[0m \u001b[0mpossibly_batched_index\u001b[0m\u001b[0;34m)\u001b[0m\u001b[0;34m:\u001b[0m\u001b[0;34m\u001b[0m\u001b[0;34m\u001b[0m\u001b[0m\n\u001b[1;32m     43\u001b[0m         \u001b[0;32mif\u001b[0m \u001b[0mself\u001b[0m\u001b[0;34m.\u001b[0m\u001b[0mauto_collation\u001b[0m\u001b[0;34m:\u001b[0m\u001b[0;34m\u001b[0m\u001b[0;34m\u001b[0m\u001b[0m\n\u001b[0;32m---> 44\u001b[0;31m             \u001b[0mdata\u001b[0m \u001b[0;34m=\u001b[0m \u001b[0;34m[\u001b[0m\u001b[0mself\u001b[0m\u001b[0;34m.\u001b[0m\u001b[0mdataset\u001b[0m\u001b[0;34m[\u001b[0m\u001b[0midx\u001b[0m\u001b[0;34m]\u001b[0m \u001b[0;32mfor\u001b[0m \u001b[0midx\u001b[0m \u001b[0;32min\u001b[0m \u001b[0mpossibly_batched_index\u001b[0m\u001b[0;34m]\u001b[0m\u001b[0;34m\u001b[0m\u001b[0;34m\u001b[0m\u001b[0m\n\u001b[0m\u001b[1;32m     45\u001b[0m         \u001b[0;32melse\u001b[0m\u001b[0;34m:\u001b[0m\u001b[0;34m\u001b[0m\u001b[0;34m\u001b[0m\u001b[0m\n\u001b[1;32m     46\u001b[0m             \u001b[0mdata\u001b[0m \u001b[0;34m=\u001b[0m \u001b[0mself\u001b[0m\u001b[0;34m.\u001b[0m\u001b[0mdataset\u001b[0m\u001b[0;34m[\u001b[0m\u001b[0mpossibly_batched_index\u001b[0m\u001b[0;34m]\u001b[0m\u001b[0;34m\u001b[0m\u001b[0;34m\u001b[0m\u001b[0m\n",
      "\u001b[0;32m/home/nslab/miniconda3/envs/pytorch/lib/python3.8/site-packages/torch/utils/data/dataset.py\u001b[0m in \u001b[0;36m__getitem__\u001b[0;34m(self, index)\u001b[0m\n\u001b[1;32m    207\u001b[0m \u001b[0;34m\u001b[0m\u001b[0m\n\u001b[1;32m    208\u001b[0m     \u001b[0;32mdef\u001b[0m \u001b[0m__getitem__\u001b[0m\u001b[0;34m(\u001b[0m\u001b[0mself\u001b[0m\u001b[0;34m,\u001b[0m \u001b[0mindex\u001b[0m\u001b[0;34m)\u001b[0m\u001b[0;34m:\u001b[0m\u001b[0;34m\u001b[0m\u001b[0;34m\u001b[0m\u001b[0m\n\u001b[0;32m--> 209\u001b[0;31m         \u001b[0;32mreturn\u001b[0m \u001b[0mtuple\u001b[0m\u001b[0;34m(\u001b[0m\u001b[0mtensor\u001b[0m\u001b[0;34m[\u001b[0m\u001b[0mindex\u001b[0m\u001b[0;34m]\u001b[0m \u001b[0;32mfor\u001b[0m \u001b[0mtensor\u001b[0m \u001b[0;32min\u001b[0m \u001b[0mself\u001b[0m\u001b[0;34m.\u001b[0m\u001b[0mtensors\u001b[0m\u001b[0;34m)\u001b[0m\u001b[0;34m\u001b[0m\u001b[0;34m\u001b[0m\u001b[0m\n\u001b[0m\u001b[1;32m    210\u001b[0m \u001b[0;34m\u001b[0m\u001b[0m\n\u001b[1;32m    211\u001b[0m     \u001b[0;32mdef\u001b[0m \u001b[0m__len__\u001b[0m\u001b[0;34m(\u001b[0m\u001b[0mself\u001b[0m\u001b[0;34m)\u001b[0m\u001b[0;34m:\u001b[0m\u001b[0;34m\u001b[0m\u001b[0;34m\u001b[0m\u001b[0m\n",
      "\u001b[0;32m/home/nslab/miniconda3/envs/pytorch/lib/python3.8/site-packages/torch/utils/data/dataset.py\u001b[0m in \u001b[0;36m<genexpr>\u001b[0;34m(.0)\u001b[0m\n\u001b[1;32m    207\u001b[0m \u001b[0;34m\u001b[0m\u001b[0m\n\u001b[1;32m    208\u001b[0m     \u001b[0;32mdef\u001b[0m \u001b[0m__getitem__\u001b[0m\u001b[0;34m(\u001b[0m\u001b[0mself\u001b[0m\u001b[0;34m,\u001b[0m \u001b[0mindex\u001b[0m\u001b[0;34m)\u001b[0m\u001b[0;34m:\u001b[0m\u001b[0;34m\u001b[0m\u001b[0;34m\u001b[0m\u001b[0m\n\u001b[0;32m--> 209\u001b[0;31m         \u001b[0;32mreturn\u001b[0m \u001b[0mtuple\u001b[0m\u001b[0;34m(\u001b[0m\u001b[0mtensor\u001b[0m\u001b[0;34m[\u001b[0m\u001b[0mindex\u001b[0m\u001b[0;34m]\u001b[0m \u001b[0;32mfor\u001b[0m \u001b[0mtensor\u001b[0m \u001b[0;32min\u001b[0m \u001b[0mself\u001b[0m\u001b[0;34m.\u001b[0m\u001b[0mtensors\u001b[0m\u001b[0;34m)\u001b[0m\u001b[0;34m\u001b[0m\u001b[0;34m\u001b[0m\u001b[0m\n\u001b[0m\u001b[1;32m    210\u001b[0m \u001b[0;34m\u001b[0m\u001b[0m\n\u001b[1;32m    211\u001b[0m     \u001b[0;32mdef\u001b[0m \u001b[0m__len__\u001b[0m\u001b[0;34m(\u001b[0m\u001b[0mself\u001b[0m\u001b[0;34m)\u001b[0m\u001b[0;34m:\u001b[0m\u001b[0;34m\u001b[0m\u001b[0;34m\u001b[0m\u001b[0m\n",
      "\u001b[0;31mKeyboardInterrupt\u001b[0m: "
     ]
    }
   ],
   "source": [
    "random_seed_set(42)\n",
    "records = run_model_hpo()"
   ]
  },
  {
   "cell_type": "markdown",
   "id": "1873795b",
   "metadata": {
    "ExecuteTime": {
     "end_time": "2021-12-22T08:52:06.844501Z",
     "start_time": "2021-12-22T08:52:06.830928Z"
    }
   },
   "source": [
    "## find the best hyper-parameters"
   ]
  },
  {
   "cell_type": "code",
   "execution_count": 43,
   "id": "ef026640",
   "metadata": {
    "ExecuteTime": {
     "end_time": "2021-12-27T08:45:33.576222Z",
     "start_time": "2021-12-27T08:45:33.550299Z"
    }
   },
   "outputs": [
    {
     "data": {
      "text/html": [
       "<div>\n",
       "<style scoped>\n",
       "    .dataframe tbody tr th:only-of-type {\n",
       "        vertical-align: middle;\n",
       "    }\n",
       "\n",
       "    .dataframe tbody tr th {\n",
       "        vertical-align: top;\n",
       "    }\n",
       "\n",
       "    .dataframe thead th {\n",
       "        text-align: right;\n",
       "    }\n",
       "</style>\n",
       "<table border=\"1\" class=\"dataframe\">\n",
       "  <thead>\n",
       "    <tr style=\"text-align: right;\">\n",
       "      <th></th>\n",
       "      <th>batch_size</th>\n",
       "      <th>lr</th>\n",
       "      <th>number_epoch</th>\n",
       "      <th>hidden_dim</th>\n",
       "      <th>n_layers</th>\n",
       "      <th>drop_prob</th>\n",
       "      <th>weight_decay</th>\n",
       "      <th>valid_loss</th>\n",
       "    </tr>\n",
       "  </thead>\n",
       "  <tbody>\n",
       "    <tr>\n",
       "      <th>2</th>\n",
       "      <td>512</td>\n",
       "      <td>0.01</td>\n",
       "      <td>40</td>\n",
       "      <td>100</td>\n",
       "      <td>1</td>\n",
       "      <td>0.2</td>\n",
       "      <td>1.000000e-06</td>\n",
       "      <td>0.005230</td>\n",
       "    </tr>\n",
       "    <tr>\n",
       "      <th>1</th>\n",
       "      <td>512</td>\n",
       "      <td>0.01</td>\n",
       "      <td>40</td>\n",
       "      <td>100</td>\n",
       "      <td>1</td>\n",
       "      <td>0.2</td>\n",
       "      <td>1.000000e-08</td>\n",
       "      <td>0.005269</td>\n",
       "    </tr>\n",
       "    <tr>\n",
       "      <th>0</th>\n",
       "      <td>512</td>\n",
       "      <td>0.01</td>\n",
       "      <td>40</td>\n",
       "      <td>100</td>\n",
       "      <td>1</td>\n",
       "      <td>0.2</td>\n",
       "      <td>1.000000e-07</td>\n",
       "      <td>0.006334</td>\n",
       "    </tr>\n",
       "    <tr>\n",
       "      <th>3</th>\n",
       "      <td>512</td>\n",
       "      <td>0.01</td>\n",
       "      <td>40</td>\n",
       "      <td>100</td>\n",
       "      <td>1</td>\n",
       "      <td>0.2</td>\n",
       "      <td>1.000000e-09</td>\n",
       "      <td>0.007510</td>\n",
       "    </tr>\n",
       "  </tbody>\n",
       "</table>\n",
       "</div>"
      ],
      "text/plain": [
       "   batch_size    lr  number_epoch  hidden_dim  n_layers  drop_prob  \\\n",
       "2         512  0.01            40         100         1        0.2   \n",
       "1         512  0.01            40         100         1        0.2   \n",
       "0         512  0.01            40         100         1        0.2   \n",
       "3         512  0.01            40         100         1        0.2   \n",
       "\n",
       "   weight_decay  valid_loss  \n",
       "2  1.000000e-06    0.005230  \n",
       "1  1.000000e-08    0.005269  \n",
       "0  1.000000e-07    0.006334  \n",
       "3  1.000000e-09    0.007510  "
      ]
     },
     "execution_count": 43,
     "metadata": {},
     "output_type": "execute_result"
    }
   ],
   "source": [
    "records = pd.DataFrame(records).sort_values(by='valid_loss')\n",
    "records.to_csv('./records/Seq2Seq_records.csv', mode='a', index=False, header=False)\n",
    "records"
   ]
  },
  {
   "cell_type": "markdown",
   "id": "53aa2fab",
   "metadata": {},
   "source": [
    "## retrain a model"
   ]
  },
  {
   "cell_type": "code",
   "execution_count": 33,
   "id": "4bf178d1",
   "metadata": {
    "ExecuteTime": {
     "end_time": "2021-12-26T11:19:51.396421Z",
     "start_time": "2021-12-26T11:19:51.364657Z"
    },
    "code_folding": []
   },
   "outputs": [],
   "source": [
    "def train_model(train_x,\n",
    "                train_y,\n",
    "                valid_x,\n",
    "                valid_y,\n",
    "                input_size,\n",
    "                seq_len,\n",
    "                target_len,\n",
    "                mse_thresh,\n",
    "                hidden_dim,\n",
    "                n_layers,\n",
    "                number_epoch,\n",
    "                batch_size,\n",
    "                lr,\n",
    "                drop_prob,\n",
    "                weight_decay,\n",
    "                teacher_forcing_ratio=0.5,\n",
    "                training_prediction='teacher_forcing'):\n",
    "    while (1):\n",
    "        encoder = LSTMEncoder(input_size, hidden_dim, n_layers, drop_prob)\n",
    "        decoder = AttnLSTMDecoder(input_size, seq_len, hidden_dim, n_layers,\n",
    "                                  drop_prob)\n",
    "        encoder = encoder.to(device)\n",
    "        decoder = decoder.to(device)\n",
    "        criterion = nn.MSELoss()\n",
    "        encoder_optimizer = torch.optim.Adam(encoder.parameters(), lr=lr, weight_decay=weight_decay)\n",
    "        decoder_optimizer = torch.optim.Adam(decoder.parameters(), lr=lr, weight_decay=weight_decay)\n",
    "        encoder_scheduler = torch.optim.lr_scheduler.StepLR(encoder_optimizer, 1, gamma=0.98)\n",
    "        decoder_scheduler = torch.optim.lr_scheduler.StepLR(decoder_optimizer, 1, gamma=0.98)\n",
    "        valid_loss_min = np.Inf\n",
    "        train_dataset = TensorDataset(torch.FloatTensor(train_x),\n",
    "                                      torch.FloatTensor(train_y))\n",
    "        valid_dataset = TensorDataset(torch.FloatTensor(valid_x),\n",
    "                                      torch.FloatTensor(valid_y))\n",
    "\n",
    "        train_loader = DataLoader(dataset=train_dataset,\n",
    "                                  batch_size=batch_size,\n",
    "                                  shuffle=True,\n",
    "                                  drop_last=True)\n",
    "        valid_loader = DataLoader(dataset=valid_dataset,\n",
    "                                  batch_size=batch_size,\n",
    "                                  shuffle=True,\n",
    "                                  drop_last=True)\n",
    "        train_losses = list()\n",
    "\n",
    "        num_without_imp = 0\n",
    "        \n",
    "        train_loss_list = []\n",
    "        valid_loss_list = []\n",
    "        #train\n",
    "        for epoch in range(1, number_epoch + 1):\n",
    "            loop = tqdm(enumerate(train_loader),\n",
    "                        total=len(train_loader),\n",
    "                        leave=True)\n",
    "            for i, (inputs, labels) in loop:\n",
    "                inputs = inputs.to(device)\n",
    "                labels = labels.to(device)\n",
    "                outputs = torch.zeros(batch_size, target_len).to(device)\n",
    "                encoder_optimizer.zero_grad()\n",
    "                decoder_optimizer.zero_grad()\n",
    "                # encoder\n",
    "                input_tensor = inputs[:, 0:seq_len, :]\n",
    "                target_tensor = inputs[:, seq_len:, :]\n",
    "                encoder_outputs, encoder_hidden = encoder(input_tensor)\n",
    "                # decoder\n",
    "                decoder_input = inputs[:, seq_len - 1, :].unsqueeze(1)\n",
    "                decoder_hidden = encoder_hidden\n",
    "\n",
    "                if training_prediction == 'recursive':\n",
    "                    for t in range(target_len):\n",
    "                        decoder_output, decoder_hidden = decoder(\n",
    "                            decoder_input, decoder_hidden, encoder_outputs)\n",
    "                        outputs[:, t] = decoder_output.squeeze()\n",
    "                        decoder_input = torch.cat(\n",
    "                            (target_tensor[:, t, :-1].unsqueeze(1),\n",
    "                             decoder_output.detach()), 2)\n",
    "\n",
    "                if training_prediction == 'teacher_forcing':\n",
    "                    # use teacher forcing\n",
    "                    if random.random() < teacher_forcing_ratio:\n",
    "                        for t in range(target_len):\n",
    "                            decoder_output, decoder_hidden = decoder(\n",
    "                                decoder_input, decoder_hidden, encoder_outputs)\n",
    "                            outputs[:, t] = decoder_output.squeeze()\n",
    "                            decoder_input = target_tensor[:, t, :].unsqueeze(1)\n",
    "                    # predict recurisively\n",
    "                    else:\n",
    "                        for t in range(target_len):\n",
    "                            decoder_output, decoder_hidden = decoder(\n",
    "                                decoder_input, decoder_hidden, encoder_outputs)\n",
    "                            outputs[:, t] = decoder_output.squeeze()\n",
    "                            decoder_input = torch.cat(\n",
    "                                (target_tensor[:, t, :-1].unsqueeze(1),\n",
    "                                 decoder_output.detach()), 2)\n",
    "\n",
    "                loss = criterion(outputs, labels)\n",
    "                train_losses.append(loss.item)\n",
    "                loss.backward()\n",
    "                encoder_optimizer.step()\n",
    "                decoder_optimizer.step()\n",
    "\n",
    "                # eval\n",
    "                if i % 5 == 0:\n",
    "                    num_without_imp = num_without_imp + 1\n",
    "                    valid_losses = list()\n",
    "                    encoder.eval()\n",
    "                    decoder.eval()\n",
    "                    for inp, lab in valid_loader:\n",
    "                        inp = inp.to(device)\n",
    "                        lab = lab.to(device)\n",
    "                        out = torch.zeros(batch_size, target_len).to(device)\n",
    "                        # encoder\n",
    "                        input_tensor = inp[:, 0:seq_len, :]\n",
    "                        target_tensor = inp[:, seq_len:, 0:-1]\n",
    "                        encoder_outputs, encoder_hidden = encoder(input_tensor)\n",
    "                        # decoder\n",
    "                        decoder_input = inp[:, seq_len - 1, :].unsqueeze(1)\n",
    "                        decoder_hidden = encoder_hidden\n",
    "                        # predict recuisively\n",
    "                        for t in range(target_len):\n",
    "                            decoder_output, decoder_hidden = decoder(\n",
    "                                decoder_input, decoder_hidden, encoder_outputs)\n",
    "                            out[:, t] = decoder_output.squeeze()\n",
    "                            decoder_input = torch.cat(\n",
    "                                (target_tensor[:, t, :].unsqueeze(1),\n",
    "                                 decoder_output.detach()), 2)\n",
    "                        valid_loss = criterion(out, lab)\n",
    "                        valid_losses.append(valid_loss.item())\n",
    "                    encoder.train()\n",
    "                    decoder.train()\n",
    "                    loop.set_description(\"Epoch: {}/{}...\".format(\n",
    "                        epoch, number_epoch))\n",
    "                    loop.set_postfix(train_loss=loss.item(),\n",
    "                                     valid_loss=np.mean(valid_losses))\n",
    "                    train_loss_list.append(loss.item())\n",
    "                    valid_loss_list.append(np.mean(valid_losses))\n",
    "                    if np.mean(valid_losses) < valid_loss_min:\n",
    "                        num_without_imp = 0\n",
    "                        torch.save(encoder.state_dict(),\n",
    "                                   \"./model/encoder_state_dict.pt\")\n",
    "                        torch.save(decoder.state_dict(),\n",
    "                                   \"./model/decoder_state_dict.pt\")\n",
    "                        valid_loss_min = np.mean(valid_losses)\n",
    "            encoder_scheduler.step()\n",
    "            decoder_scheduler.step()\n",
    "        if valid_loss_min < mse_thresh:\n",
    "            break\n",
    "    return encoder, decoder, train_loss_list, valid_loss_list"
   ]
  },
  {
   "cell_type": "markdown",
   "id": "14acb611",
   "metadata": {},
   "source": [
    "## test results"
   ]
  },
  {
   "cell_type": "code",
   "execution_count": 30,
   "id": "0315ad5c",
   "metadata": {
    "ExecuteTime": {
     "end_time": "2021-12-26T11:15:42.620266Z",
     "start_time": "2021-12-26T11:15:42.602891Z"
    },
    "code_folding": []
   },
   "outputs": [],
   "source": [
    "def test_model(encoder, decoder, test_x, test_y, scaler_y, seq_len, target_len,\n",
    "               batch_size):\n",
    "    test_dataset = TensorDataset(torch.FloatTensor(test_x),\n",
    "                                 torch.FloatTensor(test_y))\n",
    "    test_loader = DataLoader(dataset=test_dataset,\n",
    "                             batch_size=batch_size,\n",
    "                             shuffle=False,\n",
    "                             drop_last=True)\n",
    "    encoder.load_state_dict(torch.load('./model/encoder_state_dict.pt'))\n",
    "    decoder.load_state_dict(torch.load('./model/decoder_state_dict.pt'))\n",
    "    y_pred = []\n",
    "    y_true = []\n",
    "    with torch.no_grad():\n",
    "        for inputs, labels in test_loader:\n",
    "            inputs = inputs.to(device=device)\n",
    "            labels = labels.to(device=device)\n",
    "            outputs = torch.zeros(batch_size, target_len).to(device)\n",
    "            # encoder\n",
    "            input_tensor = inputs[:, 0:seq_len, :]\n",
    "            target_tensor = inputs[:, seq_len:, :]\n",
    "            encoder_outputs, encoder_hidden = encoder(input_tensor)\n",
    "            # decoder\n",
    "            decoder_input = inputs[:, seq_len-1, :].unsqueeze(1)\n",
    "            decoder_hidden = encoder_hidden\n",
    "            # predict recursively\n",
    "            for t in range(target_len):\n",
    "                decoder_output, decoder_hidden = decoder(decoder_input, decoder_hidden, encoder_outputs)\n",
    "                outputs[:, t] = decoder_output.squeeze()\n",
    "                decoder_input = torch.cat((target_tensor[:, t, :-1].unsqueeze(1), decoder_output.detach()), 2)\n",
    "            y_pred += outputs.cpu().numpy().flatten().tolist()\n",
    "            y_true += labels.cpu().numpy().flatten().tolist()\n",
    "    y_pred = np.array(y_pred).reshape(-1, 1)\n",
    "    y_true = np.array(y_true).reshape(-1, 1)\n",
    "    #     pdb.set_trace()\n",
    "    load_pred = scaler_y.inverse_transform(y_pred)\n",
    "    load_true = scaler_y.inverse_transform(y_true)\n",
    "    MAPE = np.mean(np.abs(load_true - load_pred) / load_true)\n",
    "    MAE = np.mean(np.abs(load_true - load_pred))\n",
    "    RMSE = np.sqrt(np.mean(np.square(load_true - load_pred)))\n",
    "    return MAPE, MAE, RMSE, load_pred, load_true"
   ]
  },
  {
   "cell_type": "markdown",
   "id": "4fea87ae",
   "metadata": {},
   "source": [
    "## run model retraining"
   ]
  },
  {
   "cell_type": "code",
   "execution_count": 35,
   "id": "666f9649",
   "metadata": {
    "ExecuteTime": {
     "end_time": "2021-12-26T11:26:08.402096Z",
     "start_time": "2021-12-26T11:26:08.385951Z"
    }
   },
   "outputs": [],
   "source": [
    "def run_model_retraining(seq_len=seq_len,\n",
    "                         target_len=target_len,\n",
    "                         mse_thresh=mse_thresh):\n",
    "    train_data = data[:int(0.8 * len(data))]\n",
    "    train_data, scaler, scaler_y = normalization(train_data)\n",
    "    train_x, train_y = series_to_supervise(train_data, seq_len, target_len)\n",
    "\n",
    "    valid_x = train_x[int(0.8 * len(train_x)):]\n",
    "    valid_y = train_y[int(0.8 * len(train_y)):]\n",
    "    train_x = train_x[:int(0.8 * len(train_x))]\n",
    "    train_y = train_y[:int(0.8 * len(train_y))]\n",
    "    input_size = train_x.shape[2]\n",
    "\n",
    "    #     hyper-parameters define\n",
    "    batch_size = 512\n",
    "    lr = 0.01\n",
    "    number_epoch = 80\n",
    "    hidden_dim = 100\n",
    "    n_layers = 1\n",
    "    drop_prob = 0.5\n",
    "    weight_decay = 1e-7\n",
    "    mse_thresh = 0.01\n",
    "\n",
    "    encoder, decoder, train_loss_list, valid_loss_list = train_model(\n",
    "        train_x, train_y, valid_x, valid_y, input_size, seq_len, target_len,\n",
    "        mse_thresh, hidden_dim, n_layers, number_epoch, batch_size, lr,\n",
    "        drop_prob, weight_decay)\n",
    "\n",
    "    # plot training process\n",
    "    plt.plot(train_loss_list, 'm', label='train_loss')\n",
    "    plt.plot(valid_loss_list, 'g', label='valid_loss')\n",
    "    plt.grid('both')\n",
    "    plt.legend()\n",
    "    # test\n",
    "\n",
    "    test_data = data[int(0.8 * len(data)):]\n",
    "    test_data = scaler.transform(test_data)\n",
    "    test_x, test_y = series_to_supervise(test_data, seq_len, target_len)\n",
    "    MAPE, MAE, RMSE, load_pred, load_true = test_model(encoder, decoder,\n",
    "                                                       test_x, test_y,\n",
    "                                                       scaler_y, seq_len,\n",
    "                                                       target_len, batch_size)\n",
    "    return MAPE, MAE, RMSE, load_pred, load_true"
   ]
  },
  {
   "cell_type": "code",
   "execution_count": 36,
   "id": "49b60809",
   "metadata": {
    "ExecuteTime": {
     "end_time": "2021-12-26T11:32:03.629387Z",
     "start_time": "2021-12-26T11:26:10.022698Z"
    }
   },
   "outputs": [
    {
     "name": "stdout",
     "output_type": "stream",
     "text": [
      "supervised data: shape of x: (25232, 96, 16), shape of y: (25232, 24)\n"
     ]
    },
    {
     "name": "stderr",
     "output_type": "stream",
     "text": [
      "Epoch: 1/80...: 100%|██████████| 39/39 [00:03<00:00,  9.86it/s, train_loss=0.0263, valid_loss=0.0296]\n",
      "Epoch: 2/80...: 100%|██████████| 39/39 [00:05<00:00,  6.94it/s, train_loss=0.0211, valid_loss=0.0258]\n",
      "Epoch: 3/80...: 100%|██████████| 39/39 [00:04<00:00,  9.30it/s, train_loss=0.0091, valid_loss=0.00844]\n",
      "Epoch: 4/80...: 100%|██████████| 39/39 [00:04<00:00,  9.42it/s, train_loss=0.00446, valid_loss=0.00813]\n",
      "Epoch: 5/80...: 100%|██████████| 39/39 [00:04<00:00,  8.75it/s, train_loss=0.00317, valid_loss=0.00478]\n",
      "Epoch: 6/80...: 100%|██████████| 39/39 [00:04<00:00,  9.14it/s, train_loss=0.00255, valid_loss=0.00738]\n",
      "Epoch: 7/80...: 100%|██████████| 39/39 [00:04<00:00,  8.89it/s, train_loss=0.00227, valid_loss=0.00352]\n",
      "Epoch: 8/80...: 100%|██████████| 39/39 [00:04<00:00,  9.28it/s, train_loss=0.00188, valid_loss=0.0029] \n",
      "Epoch: 9/80...: 100%|██████████| 39/39 [00:04<00:00,  9.29it/s, train_loss=0.00335, valid_loss=0.00374]\n",
      "Epoch: 10/80...: 100%|██████████| 39/39 [00:04<00:00,  9.11it/s, train_loss=0.00156, valid_loss=0.00243]\n",
      "Epoch: 11/80...: 100%|██████████| 39/39 [00:04<00:00,  9.25it/s, train_loss=0.00269, valid_loss=0.00328]\n",
      "Epoch: 12/80...: 100%|██████████| 39/39 [00:04<00:00,  8.39it/s, train_loss=0.00353, valid_loss=0.00392]\n",
      "Epoch: 13/80...: 100%|██████████| 39/39 [00:04<00:00,  8.60it/s, train_loss=0.00273, valid_loss=0.00216]\n",
      "Epoch: 14/80...: 100%|██████████| 39/39 [00:04<00:00,  8.59it/s, train_loss=0.00219, valid_loss=0.002]  \n",
      "Epoch: 15/80...: 100%|██████████| 39/39 [00:04<00:00,  8.54it/s, train_loss=0.00123, valid_loss=0.00217]\n",
      "Epoch: 16/80...: 100%|██████████| 39/39 [00:04<00:00,  8.54it/s, train_loss=0.00202, valid_loss=0.00189]\n",
      "Epoch: 17/80...: 100%|██████████| 39/39 [00:04<00:00,  8.23it/s, train_loss=0.00199, valid_loss=0.00275]\n",
      "Epoch: 18/80...: 100%|██████████| 39/39 [00:04<00:00,  8.88it/s, train_loss=0.00187, valid_loss=0.00166]\n",
      "Epoch: 19/80...: 100%|██████████| 39/39 [00:04<00:00,  8.89it/s, train_loss=0.000965, valid_loss=0.00156]\n",
      "Epoch: 20/80...: 100%|██████████| 39/39 [00:04<00:00,  9.12it/s, train_loss=0.00173, valid_loss=0.00157] \n",
      "Epoch: 21/80...: 100%|██████████| 39/39 [00:04<00:00,  9.19it/s, train_loss=0.00183, valid_loss=0.00152] \n",
      "Epoch: 22/80...: 100%|██████████| 39/39 [00:05<00:00,  7.78it/s, train_loss=0.000935, valid_loss=0.00147]\n",
      "Epoch: 23/80...: 100%|██████████| 39/39 [00:04<00:00,  8.34it/s, train_loss=0.00173, valid_loss=0.00192] \n",
      "Epoch: 24/80...: 100%|██████████| 39/39 [00:05<00:00,  6.92it/s, train_loss=0.00148, valid_loss=0.00138] \n",
      "Epoch: 25/80...: 100%|██████████| 39/39 [00:04<00:00,  8.19it/s, train_loss=0.00154, valid_loss=0.00204] \n",
      "Epoch: 26/80...: 100%|██████████| 39/39 [00:04<00:00,  8.18it/s, train_loss=0.00138, valid_loss=0.00136] \n",
      "Epoch: 27/80...: 100%|██████████| 39/39 [00:04<00:00,  8.65it/s, train_loss=0.00177, valid_loss=0.00234] \n",
      "Epoch: 28/80...: 100%|██████████| 39/39 [00:04<00:00,  9.24it/s, train_loss=0.000912, valid_loss=0.00394]\n",
      "Epoch: 29/80...: 100%|██████████| 39/39 [00:04<00:00,  9.19it/s, train_loss=0.00142, valid_loss=0.00181] \n",
      "Epoch: 30/80...: 100%|██████████| 39/39 [00:04<00:00,  9.25it/s, train_loss=0.000832, valid_loss=0.00134]\n",
      "Epoch: 31/80...: 100%|██████████| 39/39 [00:04<00:00,  8.96it/s, train_loss=0.00145, valid_loss=0.00139] \n",
      "Epoch: 32/80...: 100%|██████████| 39/39 [00:04<00:00,  9.27it/s, train_loss=0.000825, valid_loss=0.0012] \n",
      "Epoch: 33/80...: 100%|██████████| 39/39 [00:04<00:00,  9.26it/s, train_loss=0.00133, valid_loss=0.002]   \n",
      "Epoch: 34/80...: 100%|██████████| 39/39 [00:04<00:00,  9.27it/s, train_loss=0.00124, valid_loss=0.0012]  \n",
      "Epoch: 35/80...: 100%|██████████| 39/39 [00:04<00:00,  8.93it/s, train_loss=0.000727, valid_loss=0.00129]\n",
      "Epoch: 36/80...: 100%|██████████| 39/39 [00:04<00:00,  9.25it/s, train_loss=0.000698, valid_loss=0.00122]\n",
      "Epoch: 37/80...: 100%|██████████| 39/39 [00:04<00:00,  9.12it/s, train_loss=0.00166, valid_loss=0.00151]\n",
      "Epoch: 38/80...: 100%|██████████| 39/39 [00:04<00:00,  8.91it/s, train_loss=0.000646, valid_loss=0.00111]\n",
      "Epoch: 39/80...: 100%|██████████| 39/39 [00:04<00:00,  9.25it/s, train_loss=0.00075, valid_loss=0.00136] \n",
      "Epoch: 40/80...: 100%|██████████| 39/39 [00:04<00:00,  9.27it/s, train_loss=0.00133, valid_loss=0.00122] \n",
      "Epoch: 41/80...: 100%|██████████| 39/39 [00:04<00:00,  8.86it/s, train_loss=0.000659, valid_loss=0.00132]\n",
      "Epoch: 42/80...: 100%|██████████| 39/39 [00:04<00:00,  9.24it/s, train_loss=0.00125, valid_loss=0.00123] \n",
      "Epoch: 43/80...: 100%|██████████| 39/39 [00:04<00:00,  9.20it/s, train_loss=0.00126, valid_loss=0.00124] \n",
      "Epoch: 44/80...: 100%|██████████| 39/39 [00:04<00:00,  9.28it/s, train_loss=0.00176, valid_loss=0.00305] \n",
      "Epoch: 45/80...: 100%|██████████| 39/39 [00:04<00:00,  9.19it/s, train_loss=0.000629, valid_loss=0.00119]\n",
      "Epoch: 46/80...: 100%|██████████| 39/39 [00:04<00:00,  9.46it/s, train_loss=0.00118, valid_loss=0.00134] \n",
      "Epoch: 47/80...: 100%|██████████| 39/39 [00:04<00:00,  9.41it/s, train_loss=0.00123, valid_loss=0.00157] \n",
      "Epoch: 48/80...: 100%|██████████| 39/39 [00:03<00:00,  9.88it/s, train_loss=0.00117, valid_loss=0.00118]\n",
      "Epoch: 49/80...: 100%|██████████| 39/39 [00:03<00:00, 11.80it/s, train_loss=0.00108, valid_loss=0.00111] \n",
      "Epoch: 50/80...: 100%|██████████| 39/39 [00:03<00:00, 11.81it/s, train_loss=0.000607, valid_loss=0.00156]\n",
      "Epoch: 51/80...: 100%|██████████| 39/39 [00:03<00:00, 11.83it/s, train_loss=0.000975, valid_loss=0.00114]\n",
      "Epoch: 52/80...: 100%|██████████| 39/39 [00:03<00:00, 11.83it/s, train_loss=0.00062, valid_loss=0.00112] \n",
      "Epoch: 53/80...: 100%|██████████| 39/39 [00:03<00:00, 10.98it/s, train_loss=0.000723, valid_loss=0.00151]\n",
      "Epoch: 54/80...: 100%|██████████| 39/39 [00:04<00:00,  8.96it/s, train_loss=0.000617, valid_loss=0.00116]\n",
      "Epoch: 55/80...: 100%|██████████| 39/39 [00:04<00:00,  8.61it/s, train_loss=0.00107, valid_loss=0.00126] \n",
      "Epoch: 56/80...: 100%|██████████| 39/39 [00:04<00:00,  8.33it/s, train_loss=0.00387, valid_loss=0.00155] \n",
      "Epoch: 57/80...: 100%|██████████| 39/39 [00:04<00:00,  8.61it/s, train_loss=0.00108, valid_loss=0.0012]  \n",
      "Epoch: 58/80...: 100%|██████████| 39/39 [00:04<00:00,  8.58it/s, train_loss=0.00103, valid_loss=0.00113] \n",
      "Epoch: 59/80...: 100%|██████████| 39/39 [00:04<00:00,  8.25it/s, train_loss=0.000999, valid_loss=0.0011] \n",
      "Epoch: 60/80...: 100%|██████████| 39/39 [00:04<00:00,  8.38it/s, train_loss=0.00102, valid_loss=0.00113] \n",
      "Epoch: 61/80...: 100%|██████████| 39/39 [00:04<00:00,  8.64it/s, train_loss=0.000975, valid_loss=0.00109]\n",
      "Epoch: 62/80...: 100%|██████████| 39/39 [00:04<00:00,  9.20it/s, train_loss=0.00107, valid_loss=0.00107] \n",
      "Epoch: 63/80...: 100%|██████████| 39/39 [00:04<00:00,  8.87it/s, train_loss=0.000981, valid_loss=0.00133]\n",
      "Epoch: 64/80...: 100%|██████████| 39/39 [00:04<00:00,  9.25it/s, train_loss=0.000631, valid_loss=0.00133]\n",
      "Epoch: 65/80...: 100%|██████████| 39/39 [00:04<00:00,  9.19it/s, train_loss=0.000649, valid_loss=0.00171]\n",
      "Epoch: 66/80...: 100%|██████████| 39/39 [00:04<00:00,  7.99it/s, train_loss=0.000931, valid_loss=0.00114]\n",
      "Epoch: 67/80...: 100%|██████████| 39/39 [00:05<00:00,  7.57it/s, train_loss=0.00123, valid_loss=0.00163] \n",
      "Epoch: 68/80...: 100%|██████████| 39/39 [00:04<00:00,  8.37it/s, train_loss=0.000989, valid_loss=0.0014] \n",
      "Epoch: 69/80...: 100%|██████████| 39/39 [00:04<00:00,  7.92it/s, train_loss=0.000652, valid_loss=0.00117]\n",
      "Epoch: 70/80...: 100%|██████████| 39/39 [00:05<00:00,  7.28it/s, train_loss=0.000584, valid_loss=0.00113]\n",
      "Epoch: 71/80...: 100%|██████████| 39/39 [00:04<00:00,  8.94it/s, train_loss=0.000992, valid_loss=0.00103]\n",
      "Epoch: 72/80...: 100%|██████████| 39/39 [00:04<00:00,  9.08it/s, train_loss=0.000964, valid_loss=0.00104]\n",
      "Epoch: 73/80...: 100%|██████████| 39/39 [00:04<00:00,  8.76it/s, train_loss=0.00106, valid_loss=0.00102] \n",
      "Epoch: 74/80...: 100%|██████████| 39/39 [00:04<00:00,  9.05it/s, train_loss=0.000935, valid_loss=0.00109]\n",
      "Epoch: 75/80...: 100%|██████████| 39/39 [00:04<00:00,  8.94it/s, train_loss=0.001, valid_loss=0.00106]   \n",
      "Epoch: 76/80...: 100%|██████████| 39/39 [00:04<00:00,  9.01it/s, train_loss=0.000942, valid_loss=0.00106]\n",
      "Epoch: 77/80...: 100%|██████████| 39/39 [00:04<00:00,  8.71it/s, train_loss=0.000545, valid_loss=0.00102] \n",
      "Epoch: 78/80...: 100%|██████████| 39/39 [00:04<00:00,  8.54it/s, train_loss=0.000932, valid_loss=0.00104]\n",
      "Epoch: 79/80...: 100%|██████████| 39/39 [00:05<00:00,  7.62it/s, train_loss=0.000554, valid_loss=0.00104]\n",
      "Epoch: 80/80...: 100%|██████████| 39/39 [00:04<00:00,  8.63it/s, train_loss=0.000548, valid_loss=0.00104]\n"
     ]
    },
    {
     "name": "stdout",
     "output_type": "stream",
     "text": [
      "supervised data: shape of x: (6237, 96, 16), shape of y: (6237, 24)\n",
      "MAPE:0.05126781691203182, MAE:627.2263009467655, RMSE:801.8935127532716\n"
     ]
    },
    {
     "data": {
      "image/png": "[encoded data removed]",
      "text/plain": [
       "<Figure size 432x288 with 1 Axes>"
      ]
     },
     "metadata": {
      "needs_background": "light"
     },
     "output_type": "display_data"
    }
   ],
   "source": [
    "MAPE, MAE, RMSE, load_pred, load_true = run_model_retraining()\n",
    "print('MAPE:{}, MAE:{}, RMSE:{}'.format(MAPE, MAE, RMSE))"
   ]
  },
  {
   "cell_type": "code",
   "execution_count": 26,
   "id": "a9eda9e9",
   "metadata": {
    "ExecuteTime": {
     "end_time": "2021-12-26T05:13:40.380862Z",
     "start_time": "2021-12-26T05:13:40.374910Z"
    }
   },
   "outputs": [
    {
     "name": "stdout",
     "output_type": "stream",
     "text": [
      "MAPE:0.04836698921080043, MAE:599.5696311037949, RMSE:767.4749507188473\n"
     ]
    }
   ],
   "source": [
    "print('MAPE:{}, MAE:{}, RMSE:{}'.format(MAPE, MAE, RMSE))"
   ]
  },
  {
   "cell_type": "markdown",
   "id": "b5cb5705",
   "metadata": {},
   "source": [
    "## figure plot"
   ]
  },
  {
   "cell_type": "code",
   "execution_count": 27,
   "id": "d9db9fd9",
   "metadata": {
    "ExecuteTime": {
     "end_time": "2021-12-26T05:14:58.804838Z",
     "start_time": "2021-12-26T05:14:58.629335Z"
    }
   },
   "outputs": [
    {
     "data": {
      "text/plain": [
       "[<matplotlib.lines.Line2D at 0x7f7290069400>]"
      ]
     },
     "execution_count": 27,
     "metadata": {},
     "output_type": "execute_result"
    },
    {
     "data": {
      "image/png": "[encoded data removed]",
      "text/plain": [
       "<Figure size 1440x720 with 1 Axes>"
      ]
     },
     "metadata": {
      "needs_background": "light"
     },
     "output_type": "display_data"
    }
   ],
   "source": [
    "plt.figure(figsize=(20, 10))\n",
    "load_pred = load_pred.reshape(-1, 24)\n",
    "load_true = load_true.reshape(-1, 24)\n",
    "plt.plot(load_pred[:240, 0], 'r')\n",
    "plt.plot(load_true[:240, 0], 'g')"
   ]
  }
 ],
 "metadata": {
  "kernelspec": {
   "display_name": "Python 3 (ipykernel)",
   "language": "python",
   "name": "python3"
  },
  "language_info": {
   "codemirror_mode": {
    "name": "ipython",
    "version": 3
   },
   "file_extension": ".py",
   "mimetype": "text/x-python",
   "name": "python",
   "nbconvert_exporter": "python",
   "pygments_lexer": "ipython3",
   "version": "3.8.12"
  },
  "toc": {
   "base_numbering": 1,
   "nav_menu": {},
   "number_sections": true,
   "sideBar": true,
   "skip_h1_title": false,
   "title_cell": "Table of Contents",
   "title_sidebar": "Contents",
   "toc_cell": false,
   "toc_position": {
    "height": "calc(100% - 180px)",
    "left": "10px",
    "top": "150px",
    "width": "374.386px"
   },
   "toc_section_display": true,
   "toc_window_display": false
  },
  "varInspector": {
   "cols": {
    "lenName": 16,
    "lenType": 16,
    "lenVar": 40
   },
   "kernels_config": {
    "python": {
     "delete_cmd_postfix": "",
     "delete_cmd_prefix": "del ",
     "library": "var_list.py",
     "varRefreshCmd": "print(var_dic_list())"
    },
    "r": {
     "delete_cmd_postfix": ") ",
     "delete_cmd_prefix": "rm(",
     "library": "var_list.r",
     "varRefreshCmd": "cat(var_dic_list()) "
    }
   },
   "types_to_exclude": [
    "module",
    "function",
    "builtin_function_or_method",
    "instance",
    "_Feature"
   ],
   "window_display": false
  }
 },
 "nbformat": 4,
 "nbformat_minor": 5
}
