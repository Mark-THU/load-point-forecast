{
 "cells": [
  {
   "cell_type": "markdown",
   "id": "7251abcf",
   "metadata": {},
   "source": [
    "# Seq2Seq-Bahdanau for forecast"
   ]
  },
  {
   "cell_type": "code",
   "execution_count": 1,
   "id": "e53cb1aa",
   "metadata": {
    "ExecuteTime": {
     "end_time": "2022-01-09T08:46:12.669571Z",
     "start_time": "2022-01-09T08:46:11.625748Z"
    }
   },
   "outputs": [],
   "source": [
    "import pandas as pd\n",
    "import numpy as np\n",
    "import matplotlib.pyplot as plt\n",
    "import pdb\n",
    "import torch\n",
    "import torch.nn as nn\n",
    "import torch.nn.functional as F\n",
    "import random\n",
    "import math\n",
    "\n",
    "from sklearn.preprocessing import MinMaxScaler\n",
    "from sklearn.model_selection import train_test_split, TimeSeriesSplit\n",
    "from torch.autograd import Variable\n",
    "from torch.utils.data import TensorDataset, DataLoader\n",
    "from tqdm import tqdm\n",
    "from xgboost import XGBRegressor\n",
    "if torch.cuda.is_available():  \n",
    "    dev = \"cuda:0\" \n",
    "else:  \n",
    "    dev = \"cpu\"\n",
    "device = torch.device(dev)"
   ]
  },
  {
   "cell_type": "code",
   "execution_count": 2,
   "id": "ead3769f",
   "metadata": {
    "ExecuteTime": {
     "end_time": "2022-01-09T08:46:12.675103Z",
     "start_time": "2022-01-09T08:46:12.671716Z"
    }
   },
   "outputs": [],
   "source": [
    "def random_seed_set(seed):\n",
    "    np.random.seed(seed)\n",
    "    torch.random.manual_seed(seed)\n",
    "    torch.cuda.random.manual_seed(seed)\n",
    "    torch.backends.cudnn.benchmark = False\n",
    "    torch.backends.cudnn.deterministic = True"
   ]
  },
  {
   "cell_type": "markdown",
   "id": "6a753a99",
   "metadata": {},
   "source": [
    "## load data"
   ]
  },
  {
   "cell_type": "code",
   "execution_count": 3,
   "id": "4d579b31",
   "metadata": {
    "ExecuteTime": {
     "end_time": "2022-01-09T08:46:12.722053Z",
     "start_time": "2022-01-09T08:46:12.676272Z"
    }
   },
   "outputs": [],
   "source": [
    "url = '../data/beijing.csv'\n",
    "data = pd.read_csv(url, sep=',', index_col='time')"
   ]
  },
  {
   "cell_type": "markdown",
   "id": "e37bb7c0",
   "metadata": {},
   "source": [
    "## normalization"
   ]
  },
  {
   "cell_type": "code",
   "execution_count": 4,
   "id": "a4d6b5b7",
   "metadata": {
    "ExecuteTime": {
     "end_time": "2022-01-09T08:46:12.727505Z",
     "start_time": "2022-01-09T08:46:12.724092Z"
    }
   },
   "outputs": [],
   "source": [
    "def normalization(data):\n",
    "    \"\"\"\n",
    "    data: original data with load\n",
    "    return: normalized data, scaler of load\n",
    "    \"\"\"\n",
    "    scaler = MinMaxScaler()\n",
    "    normalized_data = scaler.fit_transform(data)\n",
    "    scaler_y = MinMaxScaler()\n",
    "    scaler_y.fit_transform(data[[data.columns[-1]]])\n",
    "    return normalized_data, scaler, scaler_y"
   ]
  },
  {
   "cell_type": "markdown",
   "id": "983bc349",
   "metadata": {
    "ExecuteTime": {
     "end_time": "2021-12-22T07:45:44.192666Z",
     "start_time": "2021-12-22T07:45:44.188985Z"
    }
   },
   "source": [
    "## build supervised dataset"
   ]
  },
  {
   "cell_type": "code",
   "execution_count": 5,
   "id": "1e9b4d29",
   "metadata": {
    "ExecuteTime": {
     "end_time": "2022-01-09T08:46:12.733217Z",
     "start_time": "2022-01-09T08:46:12.728672Z"
    }
   },
   "outputs": [],
   "source": [
    "def series_to_supervise(data, seq_len, target_len):\n",
    "    \"\"\"\n",
    "    convert series data to supervised data\n",
    "    :param data: original data\n",
    "    :param seq_len: length of input sequence\n",
    "    :param target_len: length of ouput sequence\n",
    "    :return: return two ndarrays-- input and output in format suitable to feed to RNN\n",
    "    \"\"\"\n",
    "    dim_0 = data.shape[0] - seq_len - target_len + 1\n",
    "    dim_1 = data.shape[1]\n",
    "    x = np.zeros((dim_0, seq_len, dim_1))\n",
    "    y = np.zeros((dim_0, target_len, dim_1))\n",
    "    for i in range(dim_0):\n",
    "        x[i] = data[i:i + seq_len]\n",
    "        y[i] = data[i + seq_len:i + seq_len + target_len]\n",
    "    print(\"supervised data: shape of x: {}, shape of y: {}\".format(\n",
    "        x.shape, y.shape))\n",
    "    return x, y"
   ]
  },
  {
   "cell_type": "markdown",
   "id": "65e22e22",
   "metadata": {},
   "source": [
    "## 5-folds TimeSeriesSplit"
   ]
  },
  {
   "cell_type": "code",
   "execution_count": 6,
   "id": "9a98cadf",
   "metadata": {
    "ExecuteTime": {
     "end_time": "2022-01-09T08:46:12.738079Z",
     "start_time": "2022-01-09T08:46:12.734443Z"
    }
   },
   "outputs": [],
   "source": [
    "def time_series_split(X, Y, n_split=5):\n",
    "    \"\"\"\n",
    "    X: features, size * seq_len * feature_num\n",
    "    Y: labels, size * target_len\n",
    "    return: list of train_x, test_x, train_y, test_y\n",
    "    \"\"\"\n",
    "    tscv = TimeSeriesSplit(n_splits=n_split)\n",
    "    train_x_list = list()\n",
    "    valid_x_list = list()\n",
    "    train_y_list = list()\n",
    "    valid_y_list = list()\n",
    "    for train_index, valid_index in tscv.split(X):\n",
    "        train_x_list.append(X[train_index])\n",
    "        train_y_list.append(Y[train_index])\n",
    "        valid_x_list.append(X[valid_index])\n",
    "        valid_y_list.append(Y[valid_index])\n",
    "    return train_x_list, train_y_list, valid_x_list, valid_y_list"
   ]
  },
  {
   "cell_type": "markdown",
   "id": "48cecf93",
   "metadata": {},
   "source": [
    "## Seq2Seq model"
   ]
  },
  {
   "cell_type": "markdown",
   "id": "722fd0e4",
   "metadata": {},
   "source": [
    "### Encoder"
   ]
  },
  {
   "cell_type": "code",
   "execution_count": 7,
   "id": "eb07c00a",
   "metadata": {
    "ExecuteTime": {
     "end_time": "2022-01-09T08:46:12.743080Z",
     "start_time": "2022-01-09T08:46:12.739412Z"
    }
   },
   "outputs": [],
   "source": [
    "class Encoder(nn.Module):\n",
    "    def __init__(self, input_size, hidden_dim, n_layers, drop_prob):\n",
    "        super(Encoder, self).__init__()\n",
    "        # 初始化hidden_state参数\n",
    "        self.hidden_dim = hidden_dim\n",
    "        self.n_layers = n_layers\n",
    "        # 定义层\n",
    "        self.rnn = nn.GRU(input_size,\n",
    "                           hidden_dim,\n",
    "                           n_layers,\n",
    "                           bidirectional=False,\n",
    "                           dropout=drop_prob)\n",
    "\n",
    "    def forward(self, x):\n",
    "        # 输入'X'的形状：(`batch_size`, `num_steps`, `input_size`)\n",
    "        # RNN中，第一个维度对应时间步\n",
    "        x = torch.transpose(x, 0, 1)\n",
    "        rnn_out, state = self.rnn(x)\n",
    "        return rnn_out, state"
   ]
  },
  {
   "cell_type": "markdown",
   "id": "24706dbe",
   "metadata": {
    "ExecuteTime": {
     "end_time": "2021-12-31T13:15:30.991666Z",
     "start_time": "2021-12-31T13:15:30.987285Z"
    }
   },
   "source": [
    "### Additive Attention"
   ]
  },
  {
   "cell_type": "code",
   "execution_count": 8,
   "id": "105e7208",
   "metadata": {
    "ExecuteTime": {
     "end_time": "2022-01-09T08:46:12.750224Z",
     "start_time": "2022-01-09T08:46:12.744319Z"
    }
   },
   "outputs": [],
   "source": [
    "class AdditiveAttention(nn.Module):\n",
    "    \"\"\"加性注意力\"\"\"\n",
    "    def __init__(self, key_size, query_size, num_hiddens, dropout, **kwargs):\n",
    "        super(AdditiveAttention, self).__init__(**kwargs)\n",
    "        self.W_k = nn.Linear(key_size, num_hiddens, bias=False)\n",
    "        self.W_q = nn.Linear(query_size, num_hiddens, bias=False)\n",
    "        self.w_v = nn.Linear(num_hiddens, 1, bias=False)\n",
    "        self.dropout = nn.Dropout(dropout)\n",
    "\n",
    "    def forward(self, queries, keys, values):\n",
    "        queries, keys = self.W_q(queries), self.W_k(keys)\n",
    "        # 在维度扩展后，\n",
    "        # `queries` 的形状：(`batch_size`，查询的个数，1，`num_hidden`)\n",
    "        # `key` 的形状：(`batch_size`，1，“键－值”对的个数，`num_hiddens`)\n",
    "        # 使用广播方式进行求和\n",
    "        features = queries.unsqueeze(2) + keys.unsqueeze(1)\n",
    "        features = torch.tanh(features)\n",
    "        # `self.w_v` 仅有一个输出，因此从形状中移除最后那个维度。\n",
    "        # `scores` 的形状：(`batch_size`，查询的个数，“键-值”对的个数)\n",
    "        scores = self.w_v(features).squeeze(-1)\n",
    "        self.attention_weights = nn.functional.softmax(scores, dim=-1)\n",
    "        # `values` 的形状：(`batch_size`，“键－值”对的个数，值的维度)\n",
    "        return torch.bmm(self.dropout(self.attention_weights), values)"
   ]
  },
  {
   "cell_type": "markdown",
   "id": "48224154",
   "metadata": {},
   "source": [
    "### DotProductAttentioin"
   ]
  },
  {
   "cell_type": "code",
   "execution_count": 9,
   "id": "8aa320a5",
   "metadata": {
    "ExecuteTime": {
     "end_time": "2022-01-09T08:46:12.756502Z",
     "start_time": "2022-01-09T08:46:12.751548Z"
    }
   },
   "outputs": [],
   "source": [
    "class DotProductAttention(nn.Module):\n",
    "    \"\"\"缩放点积注意力\"\"\"\n",
    "    def __init__(self, dropout, **kwargs):\n",
    "        super(DotProductAttention, self).__init__(**kwargs)\n",
    "        self.dropout = nn.Dropout(dropout)\n",
    "\n",
    "    # `queries` 的形状：(`batch_size`，查询的个数，`d`)\n",
    "    # `keys` 的形状：(`batch_size`，“键－值”对的个数，`d`)\n",
    "    # `values` 的形状：(`batch_size`，“键－值”对的个数，值的维度)\n",
    "    # `valid_lens` 的形状: (`batch_size`，) 或者 (`batch_size`，查询的个数)\n",
    "    def forward(self, queries, keys, values):\n",
    "        d = queries.shape[-1]\n",
    "        # 设置 `transpose_b=True` 为了交换 `keys` 的最后两个维度\n",
    "        scores = torch.bmm(queries, keys.transpose(1,2)) / math.sqrt(d)\n",
    "        self.attention_weights = nn.functional.softmax(scores, dim=-1)\n",
    "        return torch.bmm(self.dropout(self.attention_weights), values)"
   ]
  },
  {
   "cell_type": "markdown",
   "id": "8986f3be",
   "metadata": {},
   "source": [
    "### Decoder"
   ]
  },
  {
   "cell_type": "code",
   "execution_count": 10,
   "id": "f5a7659e",
   "metadata": {
    "ExecuteTime": {
     "end_time": "2022-01-09T08:46:12.768433Z",
     "start_time": "2022-01-09T08:46:12.759103Z"
    }
   },
   "outputs": [],
   "source": [
    "class AttnDecoder(nn.Module):\n",
    "    def __init__(self, input_size, hidden_dim, n_layers, drop_prob):\n",
    "        super(AttnDecoder, self).__init__()\n",
    "        \n",
    "        self.attention = AdditiveAttention(hidden_dim, hidden_dim, hidden_dim, drop_prob)\n",
    "        self.rnn = nn.GRU(input_size + hidden_dim, hidden_dim, n_layers, dropout=drop_prob)\n",
    "        self.fc = nn.Sequential()\n",
    "        \n",
    "        input_size = hidden_dim\n",
    "        i = 0\n",
    "        while (input_size > 8):\n",
    "            self.fc.add_module('linear{}'.format(i),\n",
    "                               nn.Linear(input_size, round(input_size / 2)))\n",
    "            self.fc.add_module('relu{}'.format(i), nn.ReLU())\n",
    "            input_size = round(input_size / 2)\n",
    "            i += 1\n",
    "        self.fc.add_module('linear{}'.format(i), nn.Linear(input_size, 1))\n",
    "        \n",
    "    \n",
    "    def forward(self, inputs, encoder_outputs, encoder_state):\n",
    "        \"\"\"\n",
    "        :inputs 形状为(batch_size, target_len, input_size)\n",
    "        :encoder_outputs 形状为(seq_len, batch_size, hidden_dim)\n",
    "        :encoder_state 形状为(n_layers, batch_size, hidden_dim)\n",
    "        \"\"\"\n",
    "        # inputs 变形为（target_len, batch_size, input_size）\n",
    "        inputs = torch.transpose(inputs, 0, 1)\n",
    "        # encoder_outputs 变形为 (batch_size, seq_len, hidden_dim)\n",
    "        encoder_outputs = torch.transpose(encoder_outputs, 0, 1)\n",
    "        # decoder_state 需要用encoder_state初始化\n",
    "        decoder_state = encoder_state\n",
    "        outputs = []\n",
    "        \n",
    "        for i, x in enumerate(inputs):\n",
    "            # query shape is (batch_size, 1, hidden_dim)\n",
    "            query = torch.unsqueeze(decoder_state[-1], dim=1)\n",
    "            context = self.attention(query, encoder_outputs, encoder_outputs)\n",
    "            # training process is different from eval process\n",
    "            # if i and not self.training:\n",
    "            if i:\n",
    "                x[:, -1] = out.detach().flatten()\n",
    "            # x shape is (batch_size, 1, hidden_dim + input_size)\n",
    "            x = torch.cat((context, torch.unsqueeze(x, dim=1)), dim=-1)\n",
    "            # x reshape to (1, batch_size, hidden_dim + input_size)\n",
    "            x = torch.transpose(x, 0, 1)\n",
    "            # out shape (1, batch_size, hidden_dim)\n",
    "            out, decoder_state = self.rnn(x, decoder_state)\n",
    "            # out shape (batch_size, 1)\n",
    "            out = self.fc(out.squeeze(dim=0))\n",
    "            outputs.append(out)\n",
    "        # outputs shape (batch_size, target_len)\n",
    "        outputs = torch.cat(outputs, dim=1)\n",
    "        return outputs"
   ]
  },
  {
   "cell_type": "markdown",
   "id": "2f269f90",
   "metadata": {},
   "source": [
    "### Seq2Seq_Attn"
   ]
  },
  {
   "cell_type": "code",
   "execution_count": 11,
   "id": "0295b0e8",
   "metadata": {
    "ExecuteTime": {
     "end_time": "2022-01-09T08:46:12.774358Z",
     "start_time": "2022-01-09T08:46:12.769733Z"
    }
   },
   "outputs": [],
   "source": [
    "class Seq2Seq_Attn(nn.Module):\n",
    "    def __init__(self, input_size, hidden_dim, n_layers, drop_prob):\n",
    "        super(Seq2Seq_Attn, self).__init__()\n",
    "        self.encoder = Encoder(input_size, hidden_dim, n_layers, drop_prob)\n",
    "        self.decoder = AttnDecoder(input_size, hidden_dim, n_layers, drop_prob)\n",
    "    \n",
    "    def forward(self, encoder_inputs, decoder_inputs):\n",
    "        # encoder_inputs shape (batch_size, seq_len, input_size)\n",
    "        # decoder_inputs shape (batch_size, target_len, input_size)\n",
    "        encoder_outputs, encoder_state = self.encoder(encoder_inputs)\n",
    "        outputs = self.decoder(decoder_inputs, encoder_outputs, encoder_state)\n",
    "        return outputs"
   ]
  },
  {
   "cell_type": "markdown",
   "id": "6650590d",
   "metadata": {
    "ExecuteTime": {
     "end_time": "2021-12-22T08:30:19.661769Z",
     "start_time": "2021-12-22T08:30:19.656770Z"
    }
   },
   "source": [
    "## model training for HPO"
   ]
  },
  {
   "cell_type": "code",
   "execution_count": 12,
   "id": "499b2afc",
   "metadata": {
    "ExecuteTime": {
     "end_time": "2022-01-09T08:46:12.787688Z",
     "start_time": "2022-01-09T08:46:12.775933Z"
    },
    "code_folding": []
   },
   "outputs": [],
   "source": [
    "def train_model_hpo(train_x_list,\n",
    "                    train_y_list,\n",
    "                    valid_x_list,\n",
    "                    valid_y_list,\n",
    "                    input_size,\n",
    "                    seq_len,\n",
    "                    target_len,\n",
    "                    mse_thresh,\n",
    "                    hidden_dim,\n",
    "                    n_layers,\n",
    "                    number_epoch,\n",
    "                    batch_size,\n",
    "                    lr,\n",
    "                    drop_prob,\n",
    "                    weight_decay):\n",
    "    valid_loss_list = []\n",
    "    for num in range(len(train_x_list)):\n",
    "        while (1):\n",
    "            model = Seq2Seq_Attn(input_size, hidden_dim, n_layers, drop_prob)\n",
    "            model = model.to(device)\n",
    "            criterion = nn.MSELoss()\n",
    "            optimizer = torch.optim.Adam(model.parameters(), lr=lr, weight_decay=weight_decay)\n",
    "            scheduler = torch.optim.lr_scheduler.StepLR(optimizer, 1, gamma=0.98)\n",
    "            valid_loss_min = np.Inf\n",
    "            print('train dataset {}'.format(num))\n",
    "            train_x = train_x_list[num]\n",
    "            train_y = train_y_list[num]\n",
    "            valid_x = valid_x_list[num]\n",
    "            valid_y = valid_y_list[num]\n",
    "            train_dataset = TensorDataset(torch.FloatTensor(train_x),\n",
    "                                          torch.FloatTensor(train_y))\n",
    "            valid_dataset = TensorDataset(torch.FloatTensor(valid_x),\n",
    "                                          torch.FloatTensor(valid_y))\n",
    "\n",
    "            train_loader = DataLoader(dataset=train_dataset,\n",
    "                                      batch_size=batch_size,\n",
    "                                      shuffle=True,\n",
    "                                      drop_last=True)\n",
    "            valid_loader = DataLoader(dataset=valid_dataset,\n",
    "                                      batch_size=batch_size,\n",
    "                                      shuffle=True,\n",
    "                                      drop_last=True)\n",
    "            train_losses = list()\n",
    "\n",
    "            num_without_imp = 0\n",
    "\n",
    "            #train\n",
    "            for epoch in range(1, number_epoch + 1):\n",
    "                loop = tqdm(enumerate(train_loader),\n",
    "                            total=len(train_loader),\n",
    "                            leave=True, ncols=100)\n",
    "                for i, (inputs, labels) in loop:\n",
    "                    inputs = inputs.to(device)\n",
    "                    labels = labels.to(device)\n",
    "                    optimizer.zero_grad()\n",
    "                    encoder_inputs = inputs\n",
    "                    decoder_inputs = torch.cat((inputs[:, -1:, :], labels[:, :-1, :]), dim=1)\n",
    "                    outputs = model(encoder_inputs, decoder_inputs)                                \n",
    "                    loss = criterion(outputs, labels[:, :, -1])\n",
    "                    train_losses.append(loss.item)\n",
    "                    loss.backward()\n",
    "                    optimizer.step()\n",
    "\n",
    "                    # eval\n",
    "                    if i % 5 == 0:\n",
    "                        num_without_imp = num_without_imp + 1\n",
    "                        valid_losses = list()\n",
    "                        model.eval()\n",
    "                        for inp, lab in valid_loader:\n",
    "                            inp = inp.to(device)\n",
    "                            lab = lab.to(device)\n",
    "                            encoder_inp = inp\n",
    "                            decoder_inp = torch.cat((inp[:, -1:, :], lab[:, :-1, :]), dim=1)\n",
    "                            out = model(encoder_inp, decoder_inp)\n",
    "                            valid_loss = criterion(out, lab[:, :, -1])\n",
    "                            valid_losses.append(valid_loss.item())\n",
    "                        model.train()\n",
    "                        loop.set_description(\"Epoch: {}/{}...\".format(\n",
    "                            epoch, number_epoch))\n",
    "                        loop.set_postfix(train_loss=loss.item(),\n",
    "                                         valid_loss=np.mean(valid_losses))\n",
    "                        if np.mean(valid_losses) < valid_loss_min:\n",
    "                            num_without_imp = 0\n",
    "                            valid_loss_min = np.mean(valid_losses)\n",
    "                if num_without_imp > 50:\n",
    "                    pass\n",
    "#                     break\n",
    "                scheduler.step()\n",
    "            if valid_loss_min < mse_thresh:\n",
    "                valid_loss_list.append(valid_loss_min)\n",
    "                break\n",
    "    return np.mean(valid_loss_list)"
   ]
  },
  {
   "cell_type": "markdown",
   "id": "6b5af386",
   "metadata": {},
   "source": [
    "## hyper-parameters config"
   ]
  },
  {
   "cell_type": "code",
   "execution_count": 13,
   "id": "2cba83da",
   "metadata": {
    "ExecuteTime": {
     "end_time": "2022-01-09T08:46:12.793870Z",
     "start_time": "2022-01-09T08:46:12.788878Z"
    }
   },
   "outputs": [],
   "source": [
    "seq_len = 72\n",
    "target_len = 24\n",
    "mse_thresh = 0.05\n",
    "\n",
    "\n",
    "def model_config():\n",
    "    batch_sizes = [256, 512]\n",
    "    lrs = [0.01]\n",
    "    number_epochs = [40]\n",
    "    hidden_dims = [64, 128]\n",
    "    n_layers = [2, 3]\n",
    "    drop_prob = [0]\n",
    "    weight_decays = [0]\n",
    "    configs = list()\n",
    "    for i in batch_sizes:\n",
    "        for j in lrs:\n",
    "            for k in number_epochs:\n",
    "                for l in hidden_dims:\n",
    "                    for m in n_layers:\n",
    "                        for n in drop_prob:\n",
    "                            for o in weight_decays:\n",
    "                                configs.append({\n",
    "                                    'batch_size': i,\n",
    "                                    'lr': j,\n",
    "                                    'number_epoch': k,\n",
    "                                    'hidden_dim': l,\n",
    "                                    'n_layers': m,\n",
    "                                    'drop_prob': n,\n",
    "                                    'weight_decay': o\n",
    "                                })\n",
    "    return configs"
   ]
  },
  {
   "cell_type": "markdown",
   "id": "8637bf2b",
   "metadata": {},
   "source": [
    "## random search for HPO"
   ]
  },
  {
   "cell_type": "code",
   "execution_count": 14,
   "id": "9e2a1b4c",
   "metadata": {
    "ExecuteTime": {
     "end_time": "2022-01-09T08:46:12.801484Z",
     "start_time": "2022-01-09T08:46:12.795292Z"
    }
   },
   "outputs": [],
   "source": [
    "def run_model_hpo(seq_len=seq_len,\n",
    "                  target_len=target_len,\n",
    "                  mse_thresh=mse_thresh):\n",
    "    train_data = data[:int(0.8 * len(data))]\n",
    "    train_data, _, _ = normalization(train_data)\n",
    "    train_x, train_y = series_to_supervise(train_data, seq_len, target_len)\n",
    "    train_x_list, train_y_list, valid_x_list, valid_y_list = time_series_split(\n",
    "        train_x, train_y)\n",
    "    #         with enough data\n",
    "    train_x_list = train_x_list[-1:]\n",
    "    train_y_list = train_y_list[-1:]\n",
    "    valid_x_list = valid_x_list[-1:]\n",
    "    valid_y_list = valid_y_list[-1:]\n",
    "\n",
    "    configs = model_config()\n",
    "    records = []\n",
    "    input_size = train_x.shape[2]\n",
    "    for i in range(6):\n",
    "        config = random.choice(configs)\n",
    "        configs.remove(config)\n",
    "        batch_size = config['batch_size']\n",
    "        lr = config['lr']\n",
    "        number_epoch = config['number_epoch']\n",
    "        hidden_dim = config['hidden_dim']\n",
    "        n_layers = config['n_layers']\n",
    "        drop_prob = config['drop_prob']\n",
    "        weight_decay = config['weight_decay']\n",
    "        print(\n",
    "            \"model config: batch_size-{}, lr-{}, number_epoch-{}, hidden_dim-{}, n_layers-{},drop_prob-{},weight_decay-{}\"\n",
    "            .format(batch_size, lr, number_epoch, hidden_dim, n_layers,\n",
    "                    drop_prob, weight_decay))\n",
    "        valid_loss = train_model_hpo(\n",
    "            train_x_list,\n",
    "            train_y_list,\n",
    "            valid_x_list,\n",
    "            valid_y_list,\n",
    "            input_size,\n",
    "            seq_len,\n",
    "            target_len,\n",
    "            mse_thresh,\n",
    "            hidden_dim,\n",
    "            n_layers,\n",
    "            number_epoch,\n",
    "            batch_size,\n",
    "            lr,\n",
    "            drop_prob,\n",
    "            weight_decay,\n",
    "        )\n",
    "        records.append({\n",
    "            'batch_size': batch_size,\n",
    "            'lr': lr,\n",
    "            'number_epoch': number_epoch,\n",
    "            'hidden_dim': hidden_dim,\n",
    "            'n_layers': n_layers,\n",
    "            'drop_prob': drop_prob,\n",
    "            'weight_decay': weight_decay,\n",
    "            'valid_loss': valid_loss\n",
    "        })\n",
    "    return records"
   ]
  },
  {
   "cell_type": "markdown",
   "id": "f6468211",
   "metadata": {},
   "source": [
    "## run random search"
   ]
  },
  {
   "cell_type": "code",
   "execution_count": 93,
   "id": "0cb828e0",
   "metadata": {
    "ExecuteTime": {
     "end_time": "2021-12-31T16:12:34.816784Z",
     "start_time": "2021-12-31T15:48:30.451961Z"
    },
    "scrolled": true
   },
   "outputs": [
    {
     "name": "stdout",
     "output_type": "stream",
     "text": [
      "supervised data: shape of x: (25232, 72, 16), shape of y: (25232, 24, 16)\n",
      "model config: batch_size-512, lr-0.01, number_epoch-40, hidden_dim-128, n_layers-2,drop_prob-0,weight_decay-0\n",
      "train dataset 0\n"
     ]
    },
    {
     "name": "stderr",
     "output_type": "stream",
     "text": [
      "Epoch: 1/40...: 100%|█████████| 41/41 [00:03<00:00, 10.39it/s, train_loss=0.0321, valid_loss=0.0354]\n",
      "Epoch: 2/40...: 100%|█████████| 41/41 [00:03<00:00, 10.52it/s, train_loss=0.0335, valid_loss=0.0349]\n",
      "Epoch: 3/40...: 100%|█████████| 41/41 [00:03<00:00, 10.30it/s, train_loss=0.0332, valid_loss=0.0345]\n",
      "Epoch: 4/40...: 100%|█████████| 41/41 [00:04<00:00,  9.99it/s, train_loss=0.0298, valid_loss=0.0349]\n",
      "Epoch: 5/40...: 100%|█████████| 41/41 [00:04<00:00, 10.24it/s, train_loss=0.0207, valid_loss=0.0364]\n",
      "Epoch: 6/40...: 100%|█████████| 41/41 [00:03<00:00, 10.26it/s, train_loss=0.0181, valid_loss=0.0312]\n",
      "Epoch: 7/40...: 100%|█████████| 41/41 [00:04<00:00, 10.23it/s, train_loss=0.0201, valid_loss=0.0311]\n",
      "Epoch: 8/40...: 100%|█████████| 41/41 [00:04<00:00,  9.95it/s, train_loss=0.0148, valid_loss=0.0256]\n",
      "Epoch: 9/40...: 100%|█████████| 41/41 [00:03<00:00, 10.41it/s, train_loss=0.0133, valid_loss=0.0251]\n",
      "Epoch: 10/40...: 100%|████████| 41/41 [00:03<00:00, 10.26it/s, train_loss=0.0129, valid_loss=0.0229]\n",
      "Epoch: 11/40...: 100%|████████| 41/41 [00:03<00:00, 10.26it/s, train_loss=0.0142, valid_loss=0.0241]\n",
      "Epoch: 12/40...: 100%|████████| 41/41 [00:03<00:00, 10.41it/s, train_loss=0.0121, valid_loss=0.0217]\n",
      "Epoch: 13/40...: 100%|████████| 41/41 [00:04<00:00, 10.16it/s, train_loss=0.0117, valid_loss=0.0212]\n",
      "Epoch: 14/40...: 100%|████████| 41/41 [00:04<00:00, 10.12it/s, train_loss=0.0115, valid_loss=0.0212]\n",
      "Epoch: 15/40...: 100%|████████| 41/41 [00:04<00:00,  9.68it/s, train_loss=0.0141, valid_loss=0.0236]\n",
      "Epoch: 16/40...: 100%|█████████| 41/41 [00:04<00:00, 10.06it/s, train_loss=0.012, valid_loss=0.0214]\n",
      "Epoch: 17/40...: 100%|████████| 41/41 [00:03<00:00, 10.28it/s, train_loss=0.0113, valid_loss=0.0198]\n",
      "Epoch: 18/40...: 100%|████████| 41/41 [00:04<00:00, 10.11it/s, train_loss=0.0117, valid_loss=0.0203]\n",
      "Epoch: 19/40...: 100%|████████| 41/41 [00:04<00:00,  9.96it/s, train_loss=0.0107, valid_loss=0.0189]\n",
      "Epoch: 20/40...: 100%|███████| 41/41 [00:04<00:00, 10.18it/s, train_loss=0.00952, valid_loss=0.0169]\n",
      "Epoch: 21/40...: 100%|███████| 41/41 [00:04<00:00, 10.18it/s, train_loss=0.00938, valid_loss=0.0183]\n",
      "Epoch: 22/40...: 100%|████████| 41/41 [00:04<00:00, 10.17it/s, train_loss=0.0117, valid_loss=0.0186]\n",
      "Epoch: 23/40...: 100%|███████| 41/41 [00:04<00:00,  9.75it/s, train_loss=0.00827, valid_loss=0.0159]\n",
      "Epoch: 24/40...: 100%|███████| 41/41 [00:04<00:00, 10.14it/s, train_loss=0.00914, valid_loss=0.0192]\n",
      "Epoch: 25/40...: 100%|███████| 41/41 [00:04<00:00, 10.11it/s, train_loss=0.00637, valid_loss=0.0123]\n",
      "Epoch: 26/40...: 100%|███████| 41/41 [00:04<00:00, 10.09it/s, train_loss=0.00688, valid_loss=0.0134]\n",
      "Epoch: 27/40...: 100%|███████| 41/41 [00:04<00:00, 10.16it/s, train_loss=0.00606, valid_loss=0.0115]\n",
      "Epoch: 28/40...: 100%|████████| 41/41 [00:04<00:00, 10.11it/s, train_loss=0.0057, valid_loss=0.0109]\n",
      "Epoch: 29/40...: 100%|███████| 41/41 [00:04<00:00, 10.13it/s, train_loss=0.00465, valid_loss=0.0092]\n",
      "Epoch: 30/40...: 100%|███████| 41/41 [00:04<00:00,  9.86it/s, train_loss=0.0056, valid_loss=0.00853]\n",
      "Epoch: 31/40...: 100%|██████| 41/41 [00:04<00:00, 10.16it/s, train_loss=0.00348, valid_loss=0.00979]\n",
      "Epoch: 32/40...: 100%|██████| 41/41 [00:04<00:00, 10.11it/s, train_loss=0.00369, valid_loss=0.00655]\n",
      "Epoch: 33/40...: 100%|██████| 41/41 [00:04<00:00, 10.19it/s, train_loss=0.00276, valid_loss=0.00563]\n",
      "Epoch: 34/40...: 100%|██████| 41/41 [00:04<00:00, 10.08it/s, train_loss=0.00309, valid_loss=0.00687]\n",
      "Epoch: 35/40...: 100%|██████| 41/41 [00:04<00:00, 10.17it/s, train_loss=0.00227, valid_loss=0.00481]\n",
      "Epoch: 36/40...: 100%|███████| 41/41 [00:04<00:00, 10.15it/s, train_loss=0.0025, valid_loss=0.00617]\n",
      "Epoch: 37/40...: 100%|███████| 41/41 [00:04<00:00, 10.07it/s, train_loss=0.00222, valid_loss=0.0048]\n",
      "Epoch: 38/40...: 100%|██████| 41/41 [00:04<00:00,  9.85it/s, train_loss=0.00246, valid_loss=0.00626]\n",
      "Epoch: 39/40...: 100%|██████| 41/41 [00:04<00:00, 10.10it/s, train_loss=0.00191, valid_loss=0.00454]\n",
      "Epoch: 40/40...: 100%|██████| 41/41 [00:04<00:00, 10.10it/s, train_loss=0.00173, valid_loss=0.00555]\n"
     ]
    },
    {
     "name": "stdout",
     "output_type": "stream",
     "text": [
      "model config: batch_size-256, lr-0.01, number_epoch-40, hidden_dim-64, n_layers-2,drop_prob-0,weight_decay-0\n",
      "train dataset 0\n"
     ]
    },
    {
     "name": "stderr",
     "output_type": "stream",
     "text": [
      "Epoch: 1/40...: 100%|█████████| 82/82 [00:08<00:00,  9.26it/s, train_loss=0.0287, valid_loss=0.0354]\n",
      "Epoch: 2/40...: 100%|█████████| 82/82 [00:09<00:00,  9.05it/s, train_loss=0.0178, valid_loss=0.0316]\n",
      "Epoch: 3/40...: 100%|█████████| 82/82 [00:09<00:00,  8.93it/s, train_loss=0.0122, valid_loss=0.0211]\n",
      "Epoch: 4/40...: 100%|████████| 82/82 [00:09<00:00,  9.06it/s, train_loss=0.00431, valid_loss=0.0117]\n",
      "Epoch: 5/40...: 100%|███████| 82/82 [00:09<00:00,  8.99it/s, train_loss=0.00132, valid_loss=0.00718]\n",
      "Epoch: 6/40...: 100%|████████| 82/82 [00:09<00:00,  8.95it/s, train_loss=0.00208, valid_loss=0.0155]\n",
      "Epoch: 7/40...: 100%|███████| 82/82 [00:09<00:00,  8.97it/s, train_loss=0.00073, valid_loss=0.00632]\n",
      "Epoch: 8/40...: 100%|██████| 82/82 [00:09<00:00,  8.78it/s, train_loss=0.000619, valid_loss=0.00927]\n",
      "Epoch: 9/40...: 100%|████████| 82/82 [00:09<00:00,  9.00it/s, train_loss=0.00209, valid_loss=0.0419]\n",
      "Epoch: 10/40...: 100%|██████| 82/82 [00:09<00:00,  8.95it/s, train_loss=0.000803, valid_loss=0.0162]\n",
      "Epoch: 11/40...: 100%|█████| 82/82 [00:09<00:00,  9.01it/s, train_loss=0.000533, valid_loss=0.00753]\n",
      "Epoch: 12/40...: 100%|█████| 82/82 [00:08<00:00,  9.12it/s, train_loss=0.000473, valid_loss=0.00685]\n",
      "Epoch: 13/40...: 100%|█████| 82/82 [00:09<00:00,  8.73it/s, train_loss=0.000488, valid_loss=0.00712]\n",
      "Epoch: 14/40...: 100%|█████| 82/82 [00:09<00:00,  9.00it/s, train_loss=0.000381, valid_loss=0.00652]\n",
      "Epoch: 15/40...: 100%|█████| 82/82 [00:09<00:00,  9.01it/s, train_loss=0.000362, valid_loss=0.00419]\n",
      "Epoch: 16/40...: 100%|███████| 82/82 [00:09<00:00,  8.99it/s, train_loss=0.000651, valid_loss=0.012]\n",
      "Epoch: 17/40...: 100%|██████| 82/82 [00:09<00:00,  9.07it/s, train_loss=0.000302, valid_loss=0.0036]\n",
      "Epoch: 18/40...: 100%|██████| 82/82 [00:09<00:00,  8.85it/s, train_loss=0.000293, valid_loss=0.0039]\n",
      "Epoch: 19/40...: 100%|█████| 82/82 [00:09<00:00,  9.01it/s, train_loss=0.000337, valid_loss=0.00548]\n",
      "Epoch: 20/40...: 100%|█████| 82/82 [00:09<00:00,  9.01it/s, train_loss=0.000386, valid_loss=0.00541]\n",
      "Epoch: 21/40...: 100%|█████| 82/82 [00:09<00:00,  9.03it/s, train_loss=0.000351, valid_loss=0.00304]\n",
      "Epoch: 22/40...: 100%|██████| 82/82 [00:09<00:00,  8.80it/s, train_loss=0.00033, valid_loss=0.00332]\n",
      "Epoch: 23/40...: 100%|█████| 82/82 [00:09<00:00,  9.06it/s, train_loss=0.000363, valid_loss=0.00486]\n",
      "Epoch: 24/40...: 100%|█████| 82/82 [00:09<00:00,  8.98it/s, train_loss=0.000228, valid_loss=0.00287]\n",
      "Epoch: 25/40...: 100%|█████| 82/82 [00:09<00:00,  9.00it/s, train_loss=0.000268, valid_loss=0.00476]\n",
      "Epoch: 26/40...: 100%|█████| 82/82 [00:09<00:00,  8.99it/s, train_loss=0.000224, valid_loss=0.00232]\n",
      "Epoch: 27/40...: 100%|██████| 82/82 [00:09<00:00,  8.96it/s, train_loss=0.00027, valid_loss=0.00395]\n",
      "Epoch: 28/40...: 100%|█████| 82/82 [00:09<00:00,  8.91it/s, train_loss=0.000342, valid_loss=0.00297]\n",
      "Epoch: 29/40...: 100%|█████| 82/82 [00:09<00:00,  9.02it/s, train_loss=0.000306, valid_loss=0.00789]\n",
      "Epoch: 30/40...: 100%|█████| 82/82 [00:09<00:00,  9.02it/s, train_loss=0.000218, valid_loss=0.00276]\n",
      "Epoch: 31/40...: 100%|█████| 82/82 [00:09<00:00,  9.08it/s, train_loss=0.000217, valid_loss=0.00304]\n",
      "Epoch: 32/40...: 100%|█████| 82/82 [00:09<00:00,  8.87it/s, train_loss=0.000262, valid_loss=0.00678]\n",
      "Epoch: 33/40...: 100%|█████| 82/82 [00:09<00:00,  8.91it/s, train_loss=0.000208, valid_loss=0.00332]\n",
      "Epoch: 34/40...: 100%|█████| 82/82 [00:08<00:00,  9.14it/s, train_loss=0.000167, valid_loss=0.00485]\n",
      "Epoch: 35/40...: 100%|█████| 82/82 [00:08<00:00,  9.11it/s, train_loss=0.000176, valid_loss=0.00213]\n",
      "Epoch: 36/40...: 100%|█████| 82/82 [00:09<00:00,  9.01it/s, train_loss=0.000147, valid_loss=0.00278]\n",
      "Epoch: 37/40...: 100%|██████| 82/82 [00:09<00:00,  8.91it/s, train_loss=0.000301, valid_loss=0.0106]\n",
      "Epoch: 38/40...: 100%|██████| 82/82 [00:09<00:00,  9.01it/s, train_loss=0.000148, valid_loss=0.0023]\n",
      "Epoch: 39/40...: 100%|█████| 82/82 [00:09<00:00,  8.96it/s, train_loss=0.000151, valid_loss=0.00195]\n",
      "Epoch: 40/40...: 100%|█████| 82/82 [00:09<00:00,  8.93it/s, train_loss=0.000143, valid_loss=0.00426]\n"
     ]
    },
    {
     "name": "stdout",
     "output_type": "stream",
     "text": [
      "model config: batch_size-512, lr-0.01, number_epoch-40, hidden_dim-64, n_layers-3,drop_prob-0,weight_decay-0\n",
      "train dataset 0\n"
     ]
    },
    {
     "name": "stderr",
     "output_type": "stream",
     "text": [
      "Epoch: 1/40...: 100%|██████████| 41/41 [00:03<00:00, 10.28it/s, train_loss=0.032, valid_loss=0.0347]\n",
      "Epoch: 2/40...: 100%|█████████| 41/41 [00:04<00:00, 10.11it/s, train_loss=0.0294, valid_loss=0.0352]\n",
      "Epoch: 3/40...: 100%|█████████| 41/41 [00:03<00:00, 10.25it/s, train_loss=0.0309, valid_loss=0.0351]\n",
      "Epoch: 4/40...: 100%|█████████| 41/41 [00:04<00:00, 10.21it/s, train_loss=0.0309, valid_loss=0.0353]\n",
      "Epoch: 5/40...: 100%|█████████| 41/41 [00:03<00:00, 10.31it/s, train_loss=0.0298, valid_loss=0.0352]\n",
      "Epoch: 6/40...: 100%|██████████| 41/41 [00:04<00:00, 10.07it/s, train_loss=0.0318, valid_loss=0.035]\n",
      "Epoch: 7/40...: 100%|█████████| 41/41 [00:04<00:00, 10.23it/s, train_loss=0.0321, valid_loss=0.0352]\n",
      "Epoch: 8/40...: 100%|█████████| 41/41 [00:03<00:00, 10.31it/s, train_loss=0.0309, valid_loss=0.0351]\n",
      "Epoch: 9/40...: 100%|█████████| 41/41 [00:03<00:00, 10.25it/s, train_loss=0.0305, valid_loss=0.0351]\n",
      "Epoch: 10/40...: 100%|████████| 41/41 [00:04<00:00,  9.94it/s, train_loss=0.0316, valid_loss=0.0352]\n",
      "Epoch: 11/40...: 100%|█████████| 41/41 [00:04<00:00, 10.22it/s, train_loss=0.031, valid_loss=0.0352]\n",
      "Epoch: 12/40...: 100%|████████| 41/41 [00:04<00:00, 10.10it/s, train_loss=0.0315, valid_loss=0.0352]\n",
      "Epoch: 13/40...: 100%|████████| 41/41 [00:03<00:00, 10.38it/s, train_loss=0.0292, valid_loss=0.0351]\n",
      "Epoch: 14/40...: 100%|████████| 41/41 [00:04<00:00, 10.14it/s, train_loss=0.0314, valid_loss=0.0351]\n",
      "Epoch: 15/40...: 100%|█████████| 41/41 [00:04<00:00, 10.07it/s, train_loss=0.0318, valid_loss=0.035]\n",
      "Epoch: 16/40...: 100%|████████| 41/41 [00:03<00:00, 10.29it/s, train_loss=0.0304, valid_loss=0.0353]\n",
      "Epoch: 17/40...: 100%|████████| 41/41 [00:04<00:00,  9.97it/s, train_loss=0.0311, valid_loss=0.0352]\n",
      "Epoch: 18/40...: 100%|█████████| 41/41 [00:03<00:00, 10.26it/s, train_loss=0.0343, valid_loss=0.035]\n",
      "Epoch: 19/40...: 100%|██████████| 41/41 [00:03<00:00, 10.33it/s, train_loss=0.03, valid_loss=0.0352]\n",
      "Epoch: 20/40...: 100%|████████| 41/41 [00:03<00:00, 10.25it/s, train_loss=0.0314, valid_loss=0.0352]\n",
      "Epoch: 21/40...: 100%|████████| 41/41 [00:04<00:00,  9.87it/s, train_loss=0.0305, valid_loss=0.0349]\n",
      "Epoch: 22/40...: 100%|█████████| 41/41 [00:03<00:00, 10.43it/s, train_loss=0.0299, valid_loss=0.035]\n",
      "Epoch: 23/40...: 100%|█████████| 41/41 [00:04<00:00, 10.24it/s, train_loss=0.032, valid_loss=0.0352]\n",
      "Epoch: 24/40...: 100%|████████| 41/41 [00:04<00:00, 10.07it/s, train_loss=0.0302, valid_loss=0.0354]\n",
      "Epoch: 25/40...: 100%|█████████| 41/41 [00:04<00:00, 10.12it/s, train_loss=0.0311, valid_loss=0.035]\n",
      "Epoch: 26/40...: 100%|█████████| 41/41 [00:04<00:00, 10.20it/s, train_loss=0.031, valid_loss=0.0352]\n",
      "Epoch: 27/40...: 100%|████████| 41/41 [00:03<00:00, 10.37it/s, train_loss=0.0295, valid_loss=0.0351]\n",
      "Epoch: 28/40...: 100%|████████| 41/41 [00:04<00:00,  9.75it/s, train_loss=0.0316, valid_loss=0.0352]\n",
      "Epoch: 29/40...: 100%|████████| 41/41 [00:04<00:00, 10.19it/s, train_loss=0.0298, valid_loss=0.0351]\n",
      "Epoch: 30/40...: 100%|████████| 41/41 [00:03<00:00, 10.33it/s, train_loss=0.0326, valid_loss=0.0353]\n",
      "Epoch: 31/40...: 100%|████████| 41/41 [00:03<00:00, 10.27it/s, train_loss=0.0307, valid_loss=0.0352]\n",
      "Epoch: 32/40...: 100%|████████| 41/41 [00:04<00:00,  9.98it/s, train_loss=0.0307, valid_loss=0.0351]\n",
      "Epoch: 33/40...: 100%|██████████| 41/41 [00:04<00:00, 10.24it/s, train_loss=0.029, valid_loss=0.035]\n",
      "Epoch: 34/40...: 100%|████████| 41/41 [00:04<00:00, 10.23it/s, train_loss=0.0312, valid_loss=0.0351]\n",
      "Epoch: 35/40...: 100%|█████████| 41/41 [00:03<00:00, 10.31it/s, train_loss=0.031, valid_loss=0.0353]\n",
      "Epoch: 36/40...: 100%|████████| 41/41 [00:04<00:00, 10.15it/s, train_loss=0.0319, valid_loss=0.0353]\n",
      "Epoch: 37/40...: 100%|████████| 41/41 [00:04<00:00, 10.24it/s, train_loss=0.0318, valid_loss=0.0351]\n",
      "Epoch: 38/40...: 100%|████████| 41/41 [00:04<00:00, 10.23it/s, train_loss=0.0319, valid_loss=0.0354]\n",
      "Epoch: 39/40...: 100%|████████| 41/41 [00:04<00:00,  9.96it/s, train_loss=0.0309, valid_loss=0.0351]\n",
      "Epoch: 40/40...: 100%|████████| 41/41 [00:04<00:00, 10.24it/s, train_loss=0.0306, valid_loss=0.0351]\n"
     ]
    },
    {
     "name": "stdout",
     "output_type": "stream",
     "text": [
      "model config: batch_size-256, lr-0.01, number_epoch-40, hidden_dim-128, n_layers-3,drop_prob-0,weight_decay-0\n",
      "train dataset 0\n"
     ]
    },
    {
     "name": "stderr",
     "output_type": "stream",
     "text": [
      "Epoch: 1/40...: 100%|█████████| 82/82 [00:10<00:00,  7.71it/s, train_loss=0.0287, valid_loss=0.0349]\n",
      "Epoch: 2/40...: 100%|█████████| 82/82 [00:10<00:00,  7.74it/s, train_loss=0.0303, valid_loss=0.0348]\n",
      "Epoch: 3/40...: 100%|█████████| 82/82 [00:10<00:00,  7.74it/s, train_loss=0.0258, valid_loss=0.0335]\n",
      "Epoch: 4/40...: 100%|█████████| 82/82 [00:10<00:00,  7.67it/s, train_loss=0.0165, valid_loss=0.0237]\n",
      "Epoch: 5/40...: 100%|████████| 82/82 [00:10<00:00,  7.74it/s, train_loss=0.00498, valid_loss=0.0168]\n",
      "Epoch: 6/40...: 100%|█████████| 82/82 [00:10<00:00,  7.72it/s, train_loss=0.00372, valid_loss=0.011]\n",
      "Epoch: 7/40...: 100%|████████| 82/82 [00:10<00:00,  7.67it/s, train_loss=0.0029, valid_loss=0.00967]\n",
      "Epoch: 8/40...: 100%|███████| 82/82 [00:10<00:00,  7.73it/s, train_loss=0.00213, valid_loss=0.00929]\n",
      "Epoch: 9/40...: 100%|████████| 82/82 [00:10<00:00,  7.60it/s, train_loss=0.00195, valid_loss=0.0096]\n",
      "Epoch: 10/40...: 100%|███████| 82/82 [00:10<00:00,  7.69it/s, train_loss=0.00149, valid_loss=0.0148]\n",
      "Epoch: 11/40...: 100%|███████| 82/82 [00:10<00:00,  7.71it/s, train_loss=0.000832, valid_loss=0.012]\n",
      "Epoch: 12/40...: 100%|██████| 82/82 [00:10<00:00,  7.73it/s, train_loss=0.000858, valid_loss=0.0111]\n",
      "Epoch: 13/40...: 100%|██████| 82/82 [00:10<00:00,  7.73it/s, train_loss=0.00235, valid_loss=0.00696]\n",
      "Epoch: 14/40...: 100%|█████| 82/82 [00:10<00:00,  7.50it/s, train_loss=0.000462, valid_loss=0.00942]\n",
      "Epoch: 15/40...: 100%|█████| 82/82 [00:10<00:00,  7.69it/s, train_loss=0.000462, valid_loss=0.00911]\n",
      "Epoch: 16/40...: 100%|█████| 82/82 [00:10<00:00,  7.74it/s, train_loss=0.000391, valid_loss=0.00695]\n",
      "Epoch: 17/40...: 100%|█████| 82/82 [00:10<00:00,  7.75it/s, train_loss=0.000536, valid_loss=0.00942]\n",
      "Epoch: 18/40...: 100%|██████| 82/82 [00:10<00:00,  7.69it/s, train_loss=0.00123, valid_loss=0.00567]\n",
      "Epoch: 19/40...: 100%|█████| 82/82 [00:10<00:00,  7.62it/s, train_loss=0.000341, valid_loss=0.00971]\n",
      "Epoch: 20/40...: 100%|█████| 82/82 [00:10<00:00,  7.74it/s, train_loss=0.000351, valid_loss=0.00601]\n",
      "Epoch: 21/40...: 100%|█████| 82/82 [00:10<00:00,  7.67it/s, train_loss=0.000289, valid_loss=0.00528]\n",
      "Epoch: 22/40...: 100%|██████| 82/82 [00:10<00:00,  7.72it/s, train_loss=0.00032, valid_loss=0.00475]\n",
      "Epoch: 23/40...: 100%|█████| 82/82 [00:10<00:00,  7.58it/s, train_loss=0.000438, valid_loss=0.00625]\n",
      "Epoch: 24/40...: 100%|█████| 82/82 [00:10<00:00,  7.67it/s, train_loss=0.000288, valid_loss=0.00499]\n",
      "Epoch: 25/40...: 100%|██████| 82/82 [00:10<00:00,  7.63it/s, train_loss=0.000301, valid_loss=0.0039]\n",
      "Epoch: 26/40...: 100%|██████| 82/82 [00:10<00:00,  7.72it/s, train_loss=0.00026, valid_loss=0.00393]\n",
      "Epoch: 27/40...: 100%|█████| 82/82 [00:10<00:00,  7.72it/s, train_loss=0.000238, valid_loss=0.00558]\n",
      "Epoch: 28/40...: 100%|█████| 82/82 [00:10<00:00,  7.59it/s, train_loss=0.000252, valid_loss=0.00377]\n",
      "Epoch: 29/40...: 100%|█████| 82/82 [00:10<00:00,  7.71it/s, train_loss=0.000262, valid_loss=0.00663]\n",
      "Epoch: 30/40...: 100%|██████| 82/82 [00:10<00:00,  7.70it/s, train_loss=0.000223, valid_loss=0.0039]\n",
      "Epoch: 31/40...: 100%|█████| 82/82 [00:10<00:00,  7.69it/s, train_loss=0.000517, valid_loss=0.00967]\n",
      "Epoch: 32/40...: 100%|█████| 82/82 [00:10<00:00,  7.64it/s, train_loss=0.000228, valid_loss=0.00486]\n",
      "Epoch: 33/40...: 100%|█████| 82/82 [00:10<00:00,  7.61it/s, train_loss=0.000274, valid_loss=0.00392]\n",
      "Epoch: 34/40...: 100%|█████| 82/82 [00:10<00:00,  7.74it/s, train_loss=0.000226, valid_loss=0.00344]\n",
      "Epoch: 35/40...: 100%|█████| 82/82 [00:10<00:00,  7.55it/s, train_loss=0.000281, valid_loss=0.00804]\n",
      "Epoch: 36/40...: 100%|█████| 82/82 [00:10<00:00,  7.66it/s, train_loss=0.000219, valid_loss=0.00656]\n",
      "Epoch: 37/40...: 100%|██████| 82/82 [00:10<00:00,  7.74it/s, train_loss=0.00018, valid_loss=0.00306]\n",
      "Epoch: 38/40...: 100%|██████| 82/82 [00:10<00:00,  7.68it/s, train_loss=0.000205, valid_loss=0.0028]\n",
      "Epoch: 39/40...: 100%|█████| 82/82 [00:10<00:00,  7.72it/s, train_loss=0.000228, valid_loss=0.00866]\n",
      "Epoch: 40/40...: 100%|██████| 82/82 [00:10<00:00,  7.68it/s, train_loss=0.000195, valid_loss=0.0055]\n"
     ]
    },
    {
     "name": "stdout",
     "output_type": "stream",
     "text": [
      "model config: batch_size-512, lr-0.01, number_epoch-40, hidden_dim-64, n_layers-2,drop_prob-0,weight_decay-0\n",
      "train dataset 0\n"
     ]
    },
    {
     "name": "stderr",
     "output_type": "stream",
     "text": [
      "Epoch: 1/40...: 100%|█████████| 41/41 [00:03<00:00, 11.01it/s, train_loss=0.0295, valid_loss=0.0371]\n",
      "Epoch: 2/40...: 100%|████████| 41/41 [00:03<00:00, 11.10it/s, train_loss=0.00787, valid_loss=0.0143]\n",
      "Epoch: 3/40...: 100%|████████| 41/41 [00:03<00:00, 11.18it/s, train_loss=0.00185, valid_loss=0.0072]\n",
      "Epoch: 4/40...: 100%|██████| 41/41 [00:03<00:00, 10.55it/s, train_loss=0.000768, valid_loss=0.00693]\n",
      "Epoch: 5/40...: 100%|███████| 41/41 [00:03<00:00, 10.88it/s, train_loss=0.000538, valid_loss=0.0117]\n",
      "Epoch: 6/40...: 100%|████████| 41/41 [00:03<00:00, 11.04it/s, train_loss=0.000461, valid_loss=0.011]\n",
      "Epoch: 7/40...: 100%|██████| 41/41 [00:03<00:00, 10.88it/s, train_loss=0.000376, valid_loss=0.00746]\n",
      "Epoch: 8/40...: 100%|███████| 41/41 [00:03<00:00, 10.52it/s, train_loss=0.000634, valid_loss=0.0293]\n",
      "Epoch: 9/40...: 100%|██████| 41/41 [00:03<00:00, 11.05it/s, train_loss=0.000315, valid_loss=0.00605]\n",
      "Epoch: 10/40...: 100%|█████| 41/41 [00:03<00:00, 10.97it/s, train_loss=0.000454, valid_loss=0.00752]\n",
      "Epoch: 11/40...: 100%|███████| 41/41 [00:03<00:00, 10.93it/s, train_loss=0.00102, valid_loss=0.0203]\n",
      "Epoch: 12/40...: 100%|█████| 41/41 [00:03<00:00, 10.88it/s, train_loss=0.000273, valid_loss=0.00492]\n",
      "Epoch: 13/40...: 100%|██████| 41/41 [00:03<00:00, 10.92it/s, train_loss=0.000233, valid_loss=0.0046]\n",
      "Epoch: 14/40...: 100%|█████| 41/41 [00:03<00:00, 10.92it/s, train_loss=0.000326, valid_loss=0.00906]\n",
      "Epoch: 15/40...: 100%|█████| 41/41 [00:03<00:00, 10.47it/s, train_loss=0.000236, valid_loss=0.00542]\n",
      "Epoch: 16/40...: 100%|█████| 41/41 [00:03<00:00, 10.90it/s, train_loss=0.000262, valid_loss=0.00828]\n",
      "Epoch: 17/40...: 100%|█████| 41/41 [00:03<00:00, 11.16it/s, train_loss=0.000305, valid_loss=0.00868]\n",
      "Epoch: 18/40...: 100%|█████| 41/41 [00:03<00:00, 10.77it/s, train_loss=0.000244, valid_loss=0.00435]\n",
      "Epoch: 19/40...: 100%|█████| 41/41 [00:03<00:00, 10.52it/s, train_loss=0.000202, valid_loss=0.00287]\n",
      "Epoch: 20/40...: 100%|█████| 41/41 [00:03<00:00, 10.91it/s, train_loss=0.000165, valid_loss=0.00295]\n",
      "Epoch: 21/40...: 100%|█████| 41/41 [00:03<00:00, 11.01it/s, train_loss=0.000167, valid_loss=0.00331]\n",
      "Epoch: 22/40...: 100%|█████| 41/41 [00:03<00:00, 11.05it/s, train_loss=0.000175, valid_loss=0.00451]\n",
      "Epoch: 23/40...: 100%|█████| 41/41 [00:03<00:00, 11.00it/s, train_loss=0.000161, valid_loss=0.00245]\n",
      "Epoch: 24/40...: 100%|█████| 41/41 [00:03<00:00, 10.93it/s, train_loss=0.000177, valid_loss=0.00525]\n",
      "Epoch: 25/40...: 100%|██████| 41/41 [00:03<00:00, 10.46it/s, train_loss=0.000217, valid_loss=0.0049]\n",
      "Epoch: 26/40...: 100%|██████| 41/41 [00:03<00:00, 10.92it/s, train_loss=0.00019, valid_loss=0.00348]\n",
      "Epoch: 27/40...: 100%|█████| 41/41 [00:03<00:00, 10.95it/s, train_loss=0.000143, valid_loss=0.00261]\n",
      "Epoch: 28/40...: 100%|█████| 41/41 [00:03<00:00, 11.07it/s, train_loss=0.000156, valid_loss=0.00256]\n",
      "Epoch: 29/40...: 100%|█████| 41/41 [00:03<00:00, 10.75it/s, train_loss=0.000134, valid_loss=0.00283]\n",
      "Epoch: 30/40...: 100%|█████| 41/41 [00:03<00:00, 11.00it/s, train_loss=0.000125, valid_loss=0.00303]\n",
      "Epoch: 31/40...: 100%|█████| 41/41 [00:03<00:00, 10.98it/s, train_loss=0.000124, valid_loss=0.00201]\n",
      "Epoch: 32/40...: 100%|██████| 41/41 [00:03<00:00, 10.83it/s, train_loss=0.000127, valid_loss=0.0026]\n",
      "Epoch: 33/40...: 100%|███████| 41/41 [00:03<00:00, 10.66it/s, train_loss=0.00012, valid_loss=0.0021]\n",
      "Epoch: 34/40...: 100%|█████| 41/41 [00:03<00:00, 11.11it/s, train_loss=0.000136, valid_loss=0.00274]\n",
      "Epoch: 35/40...: 100%|██████| 41/41 [00:03<00:00, 11.24it/s, train_loss=0.000128, valid_loss=0.0044]\n",
      "Epoch: 36/40...: 100%|██████| 41/41 [00:03<00:00, 11.11it/s, train_loss=0.000119, valid_loss=0.0034]\n",
      "Epoch: 37/40...: 100%|█████| 41/41 [00:03<00:00, 10.66it/s, train_loss=0.000111, valid_loss=0.00242]\n",
      "Epoch: 38/40...: 100%|█████| 41/41 [00:03<00:00, 11.24it/s, train_loss=0.000106, valid_loss=0.00202]\n",
      "Epoch: 39/40...: 100%|█████| 41/41 [00:03<00:00, 11.00it/s, train_loss=0.000131, valid_loss=0.00355]\n",
      "Epoch: 40/40...: 100%|██████| 41/41 [00:03<00:00, 10.98it/s, train_loss=0.00017, valid_loss=0.00741]\n"
     ]
    },
    {
     "name": "stdout",
     "output_type": "stream",
     "text": [
      "model config: batch_size-512, lr-0.01, number_epoch-40, hidden_dim-128, n_layers-3,drop_prob-0,weight_decay-0\n",
      "train dataset 0\n"
     ]
    },
    {
     "name": "stderr",
     "output_type": "stream",
     "text": [
      "Epoch: 1/40...: 100%|█████████| 41/41 [00:04<00:00,  9.61it/s, train_loss=0.0331, valid_loss=0.0346]\n",
      "Epoch: 2/40...: 100%|██████████| 41/41 [00:04<00:00,  9.59it/s, train_loss=0.0309, valid_loss=0.035]\n",
      "Epoch: 3/40...: 100%|█████████| 41/41 [00:04<00:00,  9.58it/s, train_loss=0.0312, valid_loss=0.0348]\n",
      "Epoch: 4/40...: 100%|█████████| 41/41 [00:04<00:00,  9.37it/s, train_loss=0.0307, valid_loss=0.0354]\n",
      "Epoch: 5/40...: 100%|█████████| 41/41 [00:04<00:00,  9.62it/s, train_loss=0.0309, valid_loss=0.0351]\n",
      "Epoch: 6/40...: 100%|█████████| 41/41 [00:04<00:00,  9.63it/s, train_loss=0.0314, valid_loss=0.0351]\n",
      "Epoch: 7/40...: 100%|█████████| 41/41 [00:04<00:00,  9.49it/s, train_loss=0.0323, valid_loss=0.0353]\n",
      "Epoch: 8/40...: 100%|█████████| 41/41 [00:04<00:00,  9.62it/s, train_loss=0.0306, valid_loss=0.0353]\n",
      "Epoch: 9/40...: 100%|█████████| 41/41 [00:04<00:00,  9.71it/s, train_loss=0.0241, valid_loss=0.0337]\n",
      "Epoch: 10/40...: 100%|████████| 41/41 [00:04<00:00,  9.25it/s, train_loss=0.0176, valid_loss=0.0315]\n",
      "Epoch: 11/40...: 100%|████████| 41/41 [00:04<00:00,  9.56it/s, train_loss=0.0179, valid_loss=0.0313]\n",
      "Epoch: 12/40...: 100%|████████| 41/41 [00:04<00:00,  9.64it/s, train_loss=0.0168, valid_loss=0.0297]\n",
      "Epoch: 13/40...: 100%|█████████| 41/41 [00:04<00:00,  9.73it/s, train_loss=0.0151, valid_loss=0.026]\n",
      "Epoch: 14/40...: 100%|████████| 41/41 [00:04<00:00,  9.74it/s, train_loss=0.0126, valid_loss=0.0229]\n",
      "Epoch: 15/40...: 100%|███████| 41/41 [00:04<00:00,  9.77it/s, train_loss=0.00634, valid_loss=0.0119]\n",
      "Epoch: 16/40...: 100%|██████| 41/41 [00:04<00:00,  9.78it/s, train_loss=0.00395, valid_loss=0.00825]\n",
      "Epoch: 17/40...: 100%|██████| 41/41 [00:04<00:00,  9.65it/s, train_loss=0.00254, valid_loss=0.00541]\n",
      "Epoch: 18/40...: 100%|██████| 41/41 [00:04<00:00,  9.52it/s, train_loss=0.00214, valid_loss=0.00535]\n",
      "Epoch: 19/40...: 100%|██████| 41/41 [00:04<00:00,  9.62it/s, train_loss=0.00144, valid_loss=0.00441]\n",
      "Epoch: 20/40...: 100%|████████| 41/41 [00:04<00:00,  9.71it/s, train_loss=0.0012, valid_loss=0.0142]\n",
      "Epoch: 21/40...: 100%|█████| 41/41 [00:04<00:00,  9.60it/s, train_loss=0.000523, valid_loss=0.00354]\n",
      "Epoch: 22/40...: 100%|█████| 41/41 [00:04<00:00,  9.35it/s, train_loss=0.000719, valid_loss=0.00429]\n",
      "Epoch: 23/40...: 100%|█████| 41/41 [00:04<00:00,  9.64it/s, train_loss=0.000466, valid_loss=0.00405]\n",
      "Epoch: 24/40...: 100%|█████| 41/41 [00:04<00:00,  9.72it/s, train_loss=0.000517, valid_loss=0.00745]\n",
      "Epoch: 25/40...: 100%|██████| 41/41 [00:04<00:00,  9.67it/s, train_loss=0.000439, valid_loss=0.0034]\n",
      "Epoch: 26/40...: 100%|█████| 41/41 [00:04<00:00,  9.39it/s, train_loss=0.000274, valid_loss=0.00277]\n",
      "Epoch: 27/40...: 100%|█████| 41/41 [00:04<00:00,  9.72it/s, train_loss=0.000248, valid_loss=0.00267]\n",
      "Epoch: 28/40...: 100%|█████| 41/41 [00:04<00:00,  9.64it/s, train_loss=0.000392, valid_loss=0.00849]\n",
      "Epoch: 29/40...: 100%|█████| 41/41 [00:04<00:00,  9.56it/s, train_loss=0.000322, valid_loss=0.00262]\n",
      "Epoch: 30/40...: 100%|█████| 41/41 [00:04<00:00,  9.63it/s, train_loss=0.000189, valid_loss=0.00246]\n",
      "Epoch: 31/40...: 100%|███████| 41/41 [00:04<00:00,  9.64it/s, train_loss=0.000237, valid_loss=0.004]\n",
      "Epoch: 32/40...: 100%|█████| 41/41 [00:04<00:00,  9.76it/s, train_loss=0.000182, valid_loss=0.00255]\n",
      "Epoch: 33/40...: 100%|█████| 41/41 [00:04<00:00,  9.22it/s, train_loss=0.000204, valid_loss=0.00302]\n",
      "Epoch: 34/40...: 100%|█████| 41/41 [00:04<00:00,  9.60it/s, train_loss=0.000155, valid_loss=0.00218]\n",
      "Epoch: 35/40...: 100%|█████| 41/41 [00:04<00:00,  9.70it/s, train_loss=0.000148, valid_loss=0.00221]\n",
      "Epoch: 36/40...: 100%|█████| 41/41 [00:04<00:00,  9.78it/s, train_loss=0.000159, valid_loss=0.00257]\n",
      "Epoch: 37/40...: 100%|█████| 41/41 [00:04<00:00,  9.38it/s, train_loss=0.000139, valid_loss=0.00245]\n",
      "Epoch: 38/40...: 100%|██████| 41/41 [00:04<00:00,  9.73it/s, train_loss=0.000134, valid_loss=0.0034]\n",
      "Epoch: 39/40...: 100%|█████| 41/41 [00:04<00:00,  9.75it/s, train_loss=0.000132, valid_loss=0.00201]\n",
      "Epoch: 40/40...: 100%|█████| 41/41 [00:04<00:00,  9.71it/s, train_loss=0.000141, valid_loss=0.00221]\n"
     ]
    }
   ],
   "source": [
    "random_seed_set(42)\n",
    "records = run_model_hpo()"
   ]
  },
  {
   "cell_type": "markdown",
   "id": "007a1ab3",
   "metadata": {
    "ExecuteTime": {
     "end_time": "2021-12-22T08:52:06.844501Z",
     "start_time": "2021-12-22T08:52:06.830928Z"
    }
   },
   "source": [
    "## find the best hyper-parameters"
   ]
  },
  {
   "cell_type": "code",
   "execution_count": 95,
   "id": "e75e110a",
   "metadata": {
    "ExecuteTime": {
     "end_time": "2021-12-31T16:14:28.117919Z",
     "start_time": "2021-12-31T16:14:28.091365Z"
    }
   },
   "outputs": [
    {
     "data": {
      "text/html": [
       "<div>\n",
       "<style scoped>\n",
       "    .dataframe tbody tr th:only-of-type {\n",
       "        vertical-align: middle;\n",
       "    }\n",
       "\n",
       "    .dataframe tbody tr th {\n",
       "        vertical-align: top;\n",
       "    }\n",
       "\n",
       "    .dataframe thead th {\n",
       "        text-align: right;\n",
       "    }\n",
       "</style>\n",
       "<table border=\"1\" class=\"dataframe\">\n",
       "  <thead>\n",
       "    <tr style=\"text-align: right;\">\n",
       "      <th></th>\n",
       "      <th>batch_size</th>\n",
       "      <th>lr</th>\n",
       "      <th>number_epoch</th>\n",
       "      <th>hidden_dim</th>\n",
       "      <th>n_layers</th>\n",
       "      <th>drop_prob</th>\n",
       "      <th>weight_decay</th>\n",
       "      <th>valid_loss</th>\n",
       "    </tr>\n",
       "  </thead>\n",
       "  <tbody>\n",
       "    <tr>\n",
       "      <th>4</th>\n",
       "      <td>512</td>\n",
       "      <td>0.01</td>\n",
       "      <td>40</td>\n",
       "      <td>64</td>\n",
       "      <td>2</td>\n",
       "      <td>0</td>\n",
       "      <td>0</td>\n",
       "      <td>0.001827</td>\n",
       "    </tr>\n",
       "    <tr>\n",
       "      <th>1</th>\n",
       "      <td>256</td>\n",
       "      <td>0.01</td>\n",
       "      <td>40</td>\n",
       "      <td>64</td>\n",
       "      <td>2</td>\n",
       "      <td>0</td>\n",
       "      <td>0</td>\n",
       "      <td>0.001947</td>\n",
       "    </tr>\n",
       "    <tr>\n",
       "      <th>5</th>\n",
       "      <td>512</td>\n",
       "      <td>0.01</td>\n",
       "      <td>40</td>\n",
       "      <td>128</td>\n",
       "      <td>3</td>\n",
       "      <td>0</td>\n",
       "      <td>0</td>\n",
       "      <td>0.001976</td>\n",
       "    </tr>\n",
       "    <tr>\n",
       "      <th>3</th>\n",
       "      <td>256</td>\n",
       "      <td>0.01</td>\n",
       "      <td>40</td>\n",
       "      <td>128</td>\n",
       "      <td>3</td>\n",
       "      <td>0</td>\n",
       "      <td>0</td>\n",
       "      <td>0.002802</td>\n",
       "    </tr>\n",
       "    <tr>\n",
       "      <th>0</th>\n",
       "      <td>512</td>\n",
       "      <td>0.01</td>\n",
       "      <td>40</td>\n",
       "      <td>128</td>\n",
       "      <td>2</td>\n",
       "      <td>0</td>\n",
       "      <td>0</td>\n",
       "      <td>0.003939</td>\n",
       "    </tr>\n",
       "    <tr>\n",
       "      <th>2</th>\n",
       "      <td>512</td>\n",
       "      <td>0.01</td>\n",
       "      <td>40</td>\n",
       "      <td>64</td>\n",
       "      <td>3</td>\n",
       "      <td>0</td>\n",
       "      <td>0</td>\n",
       "      <td>0.034462</td>\n",
       "    </tr>\n",
       "  </tbody>\n",
       "</table>\n",
       "</div>"
      ],
      "text/plain": [
       "   batch_size    lr  number_epoch  hidden_dim  n_layers  drop_prob  \\\n",
       "4         512  0.01            40          64         2          0   \n",
       "1         256  0.01            40          64         2          0   \n",
       "5         512  0.01            40         128         3          0   \n",
       "3         256  0.01            40         128         3          0   \n",
       "0         512  0.01            40         128         2          0   \n",
       "2         512  0.01            40          64         3          0   \n",
       "\n",
       "   weight_decay  valid_loss  \n",
       "4             0    0.001827  \n",
       "1             0    0.001947  \n",
       "5             0    0.001976  \n",
       "3             0    0.002802  \n",
       "0             0    0.003939  \n",
       "2             0    0.034462  "
      ]
     },
     "execution_count": 95,
     "metadata": {},
     "output_type": "execute_result"
    }
   ],
   "source": [
    "records = pd.DataFrame(records).sort_values(by='valid_loss')\n",
    "records.to_csv('./records/Seq2Seq_bahdanau_records.csv', mode='a', index=False, header=False)\n",
    "records"
   ]
  },
  {
   "cell_type": "markdown",
   "id": "5f9968e2",
   "metadata": {},
   "source": [
    "## retrain a model"
   ]
  },
  {
   "cell_type": "code",
   "execution_count": 15,
   "id": "b82e9fd9",
   "metadata": {
    "ExecuteTime": {
     "end_time": "2022-01-09T08:46:17.570984Z",
     "start_time": "2022-01-09T08:46:17.546268Z"
    },
    "code_folding": []
   },
   "outputs": [],
   "source": [
    "def train_model(train_x,\n",
    "                train_y,\n",
    "                valid_x,\n",
    "                valid_y,\n",
    "                input_size,\n",
    "                seq_len,\n",
    "                target_len,\n",
    "                mse_thresh,\n",
    "                hidden_dim,\n",
    "                n_layers,\n",
    "                number_epoch,\n",
    "                batch_size,\n",
    "                lr,\n",
    "                drop_prob,\n",
    "                weight_decay):\n",
    "    while (1):\n",
    "        model = Seq2Seq_Attn(input_size, hidden_dim, n_layers, drop_prob)\n",
    "        model = model.to(device)\n",
    "        criterion = nn.MSELoss()\n",
    "        optimizer = torch.optim.Adam(model.parameters(), lr=lr, weight_decay=weight_decay)\n",
    "        scheduler = torch.optim.lr_scheduler.StepLR(optimizer, 1, gamma=0.98)\n",
    "        valid_loss_min = np.Inf\n",
    "        train_dataset = TensorDataset(torch.FloatTensor(train_x),\n",
    "                                      torch.FloatTensor(train_y))\n",
    "        valid_dataset = TensorDataset(torch.FloatTensor(valid_x),\n",
    "                                      torch.FloatTensor(valid_y))\n",
    "\n",
    "        train_loader = DataLoader(dataset=train_dataset,\n",
    "                                  batch_size=batch_size,\n",
    "                                  shuffle=True,\n",
    "                                  drop_last=True)\n",
    "        valid_loader = DataLoader(dataset=valid_dataset,\n",
    "                                  batch_size=batch_size,\n",
    "                                  shuffle=True,\n",
    "                                  drop_last=True)\n",
    "        train_losses = list()\n",
    "\n",
    "        num_without_imp = 0\n",
    "        \n",
    "        train_loss_list = []\n",
    "        valid_loss_list = []\n",
    "        #train\n",
    "        for epoch in range(1, number_epoch + 1):\n",
    "            loop = tqdm(enumerate(train_loader),\n",
    "                        total=len(train_loader),\n",
    "                        leave=True, ncols=100)\n",
    "            for i, (inputs, labels) in loop:\n",
    "                inputs = inputs.to(device)\n",
    "                labels = labels.to(device)\n",
    "                optimizer.zero_grad()\n",
    "                encoder_inputs = inputs\n",
    "                decoder_inputs = torch.cat((inputs[:, -1:, :], labels[:, :-1, :]), dim=1)\n",
    "                outputs = model(encoder_inputs, decoder_inputs)                                \n",
    "                loss = criterion(outputs, labels[:, :, -1])\n",
    "                train_losses.append(loss.item)\n",
    "                loss.backward()\n",
    "                optimizer.step()\n",
    "\n",
    "                # eval\n",
    "                if i % 5 == 0:\n",
    "                    num_without_imp = num_without_imp + 1\n",
    "                    valid_losses = list()\n",
    "                    model.eval()\n",
    "                    for inp, lab in valid_loader:\n",
    "                        inp = inp.to(device)\n",
    "                        lab = lab.to(device)\n",
    "                        encoder_inp = inp\n",
    "                        decoder_inp = torch.cat((inp[:, -1:, :], lab[:, :-1, :]), dim=1)\n",
    "                        out = model(encoder_inp, decoder_inp)\n",
    "                        valid_loss = criterion(out, lab[:, :, -1])\n",
    "                        valid_losses.append(valid_loss.item())\n",
    "                    model.train()\n",
    "                    loop.set_description(\"Epoch: {}/{}...\".format(\n",
    "                        epoch, number_epoch))\n",
    "                    loop.set_postfix(train_loss=loss.item(),\n",
    "                                     valid_loss=np.mean(valid_losses))\n",
    "                    train_loss_list.append(loss.item())\n",
    "                    valid_loss_list.append(np.mean(valid_losses))\n",
    "                    if np.mean(valid_losses) < valid_loss_min:\n",
    "                        num_without_imp = 0\n",
    "                        torch.save(model.state_dict(),\n",
    "                                   \"./model/seq2seq_bahdanau_state_dict.pt\")\n",
    "                        valid_loss_min = np.mean(valid_losses)\n",
    "            scheduler.step()\n",
    "        if valid_loss_min < mse_thresh:\n",
    "            break\n",
    "    return model, train_loss_list, valid_loss_list"
   ]
  },
  {
   "cell_type": "markdown",
   "id": "1471fd36",
   "metadata": {},
   "source": [
    "## test results"
   ]
  },
  {
   "cell_type": "code",
   "execution_count": 16,
   "id": "be1f2ac6",
   "metadata": {
    "ExecuteTime": {
     "end_time": "2022-01-09T08:46:17.583868Z",
     "start_time": "2022-01-09T08:46:17.573746Z"
    },
    "code_folding": []
   },
   "outputs": [],
   "source": [
    "def test_model(model, test_x, test_y, scaler_y, seq_len, target_len,\n",
    "               batch_size):\n",
    "    test_dataset = TensorDataset(torch.FloatTensor(test_x),\n",
    "                                 torch.FloatTensor(test_y))\n",
    "    test_loader = DataLoader(dataset=test_dataset,\n",
    "                             batch_size=batch_size,\n",
    "                             shuffle=False,\n",
    "                             drop_last=True)\n",
    "    model.load_state_dict(torch.load('./model/seq2seq_bahdanau_state_dict.pt'))\n",
    "    y_pred = []\n",
    "    y_true = []\n",
    "    with torch.no_grad():\n",
    "        model.eval()\n",
    "        for inputs, labels in test_loader:\n",
    "            inputs = inputs.to(device)\n",
    "            labels = labels.to(device)\n",
    "            encoder_inputs = inputs\n",
    "            decoder_inputs = torch.cat((inputs[:, -1:, :], labels[:, :-1, :]),\n",
    "                                       dim=1)\n",
    "            outputs = model(encoder_inputs, decoder_inputs)\n",
    "            y_pred += outputs.cpu().numpy().flatten().tolist()\n",
    "            y_true += labels[:, :, -1].cpu().numpy().flatten().tolist()\n",
    "    y_pred = np.array(y_pred).reshape(-1, 1)\n",
    "    y_true = np.array(y_true).reshape(-1, 1)\n",
    "    #     pdb.set_trace()\n",
    "    load_pred = scaler_y.inverse_transform(y_pred)\n",
    "    load_true = scaler_y.inverse_transform(y_true)\n",
    "    mean_pred = np.mean(load_pred)\n",
    "    mean_true = np.mean(load_true)\n",
    "    MAPE = np.mean(np.abs(load_true - load_pred) / load_true)\n",
    "    SMAPE = 2 * np.mean(\n",
    "        np.abs(load_true - load_pred) / (load_true + load_pred))\n",
    "    MAE = np.mean(np.abs(load_true - load_pred))\n",
    "    RMSE = np.sqrt(np.mean(np.square(load_true - load_pred)))\n",
    "    RRSE = np.sqrt(np.sum(np.square(load_true - load_pred))) / np.sqrt(\n",
    "        np.sum(np.square(load_true - mean_true)))\n",
    "    CORR = np.mean(\n",
    "        np.sum((load_true - mean_true) * (load_pred - mean_pred)) /\n",
    "        np.sqrt(np.sum(\n",
    "            (load_true - mean_true)**2 * (load_pred - mean_pred)**2)))\n",
    "    return MAPE, SMAPE, MAE, RMSE, RRSE, CORR, load_pred, load_true"
   ]
  },
  {
   "cell_type": "markdown",
   "id": "e23c3f22",
   "metadata": {},
   "source": [
    "## run model retraining"
   ]
  },
  {
   "cell_type": "code",
   "execution_count": 17,
   "id": "d12357d8",
   "metadata": {
    "ExecuteTime": {
     "end_time": "2022-01-09T08:46:17.593567Z",
     "start_time": "2022-01-09T08:46:17.585555Z"
    }
   },
   "outputs": [],
   "source": [
    "def run_model_retraining(seq_len=seq_len,\n",
    "                         target_len=target_len,\n",
    "                         mse_thresh=mse_thresh):\n",
    "    train_data = data[:int(0.8 * len(data))]\n",
    "    train_data, scaler, scaler_y = normalization(train_data)\n",
    "    train_x, train_y = series_to_supervise(train_data, seq_len, target_len)\n",
    "\n",
    "    valid_x = train_x[int(0.8 * len(train_x)):]\n",
    "    valid_y = train_y[int(0.8 * len(train_y)):]\n",
    "    train_x = train_x[:int(0.8 * len(train_x))]\n",
    "    train_y = train_y[:int(0.8 * len(train_y))]\n",
    "    input_size = train_x.shape[2]\n",
    "\n",
    "    #     hyper-parameters define\n",
    "    batch_size = 256\n",
    "    lr = 0.01\n",
    "    number_epoch = 80\n",
    "    hidden_dim = 64\n",
    "    n_layers = 2\n",
    "    drop_prob = 0\n",
    "    weight_decay = 0\n",
    "    mse_thresh = 0.01\n",
    "\n",
    "    model, train_loss_list, valid_loss_list = train_model(\n",
    "        train_x, train_y, valid_x, valid_y, input_size, seq_len, target_len,\n",
    "        mse_thresh, hidden_dim, n_layers, number_epoch, batch_size, lr,\n",
    "        drop_prob, weight_decay)\n",
    "\n",
    "    # plot training process\n",
    "    plt.plot(train_loss_list[10:], 'm', label='train_loss')\n",
    "    plt.plot(valid_loss_list[10:], 'g', label='valid_loss')\n",
    "    plt.grid('both')\n",
    "    plt.legend()\n",
    "    # test\n",
    "\n",
    "    test_data = data[int(0.8 * len(data)):]\n",
    "    test_data = scaler.transform(test_data)\n",
    "    test_x, test_y = series_to_supervise(test_data, seq_len, target_len)\n",
    "    MAPE, SMAPE, MAE, RMSE, RRSE, CORR, load_pred, load_true = test_model(model, test_x, test_y,\n",
    "                                                       scaler_y, seq_len,\n",
    "                                                       target_len, batch_size)\n",
    "    return MAPE, SMAPE, MAE, RMSE, RRSE, CORR, load_pred, load_true"
   ]
  },
  {
   "cell_type": "code",
   "execution_count": 18,
   "id": "3dec796f",
   "metadata": {
    "ExecuteTime": {
     "end_time": "2022-01-09T08:59:40.781512Z",
     "start_time": "2022-01-09T08:46:17.595538Z"
    }
   },
   "outputs": [
    {
     "name": "stdout",
     "output_type": "stream",
     "text": [
      "supervised data: shape of x: (25232, 72, 16), shape of y: (25232, 24, 16)\n"
     ]
    },
    {
     "name": "stderr",
     "output_type": "stream",
     "text": [
      "Epoch: 1/80...: 100%|█████████| 78/78 [00:10<00:00,  7.16it/s, train_loss=0.0278, valid_loss=0.0334]\n",
      "Epoch: 2/80...: 100%|█████████| 78/78 [00:10<00:00,  7.54it/s, train_loss=0.0133, valid_loss=0.0169]\n",
      "Epoch: 3/80...: 100%|███████| 78/78 [00:09<00:00,  8.28it/s, train_loss=0.00535, valid_loss=0.00965]\n",
      "Epoch: 4/80...: 100%|███████| 78/78 [00:09<00:00,  8.13it/s, train_loss=0.00438, valid_loss=0.00505]\n",
      "Epoch: 5/80...: 100%|████████| 78/78 [00:09<00:00,  8.04it/s, train_loss=0.0024, valid_loss=0.00281]\n",
      "Epoch: 6/80...: 100%|████████| 78/78 [00:09<00:00,  7.99it/s, train_loss=0.00254, valid_loss=0.0028]\n",
      "Epoch: 7/80...: 100%|███████| 78/78 [00:09<00:00,  8.07it/s, train_loss=0.00168, valid_loss=0.00193]\n",
      "Epoch: 8/80...: 100%|███████| 78/78 [00:09<00:00,  7.85it/s, train_loss=0.00165, valid_loss=0.00311]\n",
      "Epoch: 9/80...: 100%|███████| 78/78 [00:09<00:00,  8.03it/s, train_loss=0.00109, valid_loss=0.00161]\n",
      "Epoch: 10/80...: 100%|██████| 78/78 [00:09<00:00,  8.22it/s, train_loss=0.00101, valid_loss=0.00155]\n",
      "Epoch: 11/80...: 100%|█████| 78/78 [00:09<00:00,  8.30it/s, train_loss=0.000887, valid_loss=0.00152]\n",
      "Epoch: 12/80...: 100%|█████| 78/78 [00:09<00:00,  8.30it/s, train_loss=0.000676, valid_loss=0.00139]\n",
      "Epoch: 13/80...: 100%|█████| 78/78 [00:09<00:00,  8.28it/s, train_loss=0.000582, valid_loss=0.00146]\n",
      "Epoch: 14/80...: 100%|██████| 78/78 [00:09<00:00,  8.21it/s, train_loss=0.000751, valid_loss=0.0018]\n",
      "Epoch: 15/80...: 100%|█████| 78/78 [00:09<00:00,  8.32it/s, train_loss=0.000751, valid_loss=0.00124]\n",
      "Epoch: 16/80...: 100%|█████| 78/78 [00:09<00:00,  8.01it/s, train_loss=0.000455, valid_loss=0.00122]\n",
      "Epoch: 17/80...: 100%|█████| 78/78 [00:09<00:00,  8.14it/s, train_loss=0.000784, valid_loss=0.00165]\n",
      "Epoch: 18/80...: 100%|█████| 78/78 [00:10<00:00,  7.63it/s, train_loss=0.000613, valid_loss=0.00134]\n",
      "Epoch: 19/80...: 100%|█████| 78/78 [00:09<00:00,  8.13it/s, train_loss=0.000521, valid_loss=0.00119]\n",
      "Epoch: 20/80...: 100%|█████| 78/78 [00:08<00:00,  9.19it/s, train_loss=0.000566, valid_loss=0.00113]\n",
      "Epoch: 21/80...: 100%|█████| 78/78 [00:08<00:00,  9.26it/s, train_loss=0.000558, valid_loss=0.00118]\n",
      "Epoch: 22/80...: 100%|█████| 78/78 [00:08<00:00,  9.20it/s, train_loss=0.000458, valid_loss=0.00113]\n",
      "Epoch: 23/80...: 100%|██████| 78/78 [00:08<00:00,  9.27it/s, train_loss=0.00047, valid_loss=0.00111]\n",
      "Epoch: 24/80...: 100%|█████| 78/78 [00:08<00:00,  9.19it/s, train_loss=0.000432, valid_loss=0.00136]\n",
      "Epoch: 25/80...: 100%|█████| 78/78 [00:08<00:00,  9.20it/s, train_loss=0.000418, valid_loss=0.00112]\n",
      "Epoch: 26/80...: 100%|█████| 78/78 [00:08<00:00,  9.04it/s, train_loss=0.000427, valid_loss=0.00116]\n",
      "Epoch: 27/80...: 100%|██████| 78/78 [00:08<00:00,  8.74it/s, train_loss=0.000473, valid_loss=0.0012]\n",
      "Epoch: 28/80...: 100%|█████| 78/78 [00:08<00:00,  8.84it/s, train_loss=0.000471, valid_loss=0.00102]\n",
      "Epoch: 29/80...: 100%|█████| 78/78 [00:08<00:00,  8.97it/s, train_loss=0.000399, valid_loss=0.00117]\n",
      "Epoch: 30/80...: 100%|████| 78/78 [00:08<00:00,  9.12it/s, train_loss=0.000415, valid_loss=0.000999]\n",
      "Epoch: 31/80...: 100%|█████| 78/78 [00:08<00:00,  9.05it/s, train_loss=0.000375, valid_loss=0.00108]\n",
      "Epoch: 32/80...: 100%|█████| 78/78 [00:08<00:00,  9.12it/s, train_loss=0.000458, valid_loss=0.00113]\n",
      "Epoch: 33/80...: 100%|██████| 78/78 [00:08<00:00,  8.94it/s, train_loss=0.00038, valid_loss=0.00117]\n",
      "Epoch: 34/80...: 100%|█████| 78/78 [00:08<00:00,  8.67it/s, train_loss=0.000323, valid_loss=0.00112]\n",
      "Epoch: 35/80...: 100%|█████| 78/78 [00:09<00:00,  8.52it/s, train_loss=0.000301, valid_loss=0.00105]\n",
      "Epoch: 36/80...: 100%|█████| 78/78 [00:09<00:00,  8.63it/s, train_loss=0.000406, valid_loss=0.00117]\n",
      "Epoch: 37/80...: 100%|██████| 78/78 [00:09<00:00,  8.60it/s, train_loss=0.000371, valid_loss=0.0011]\n",
      "Epoch: 38/80...: 100%|████| 78/78 [00:09<00:00,  8.65it/s, train_loss=0.000283, valid_loss=0.000984]\n",
      "Epoch: 39/80...: 100%|█████| 78/78 [00:09<00:00,  8.60it/s, train_loss=0.000322, valid_loss=0.00102]\n",
      "Epoch: 40/80...: 100%|█████| 78/78 [00:08<00:00,  8.73it/s, train_loss=0.000301, valid_loss=0.00103]\n",
      "Epoch: 41/80...: 100%|█████| 78/78 [00:09<00:00,  8.61it/s, train_loss=0.000275, valid_loss=0.00114]\n",
      "Epoch: 42/80...: 100%|█████| 78/78 [00:09<00:00,  8.59it/s, train_loss=0.000269, valid_loss=0.00109]\n",
      "Epoch: 43/80...: 100%|█████| 78/78 [00:09<00:00,  8.61it/s, train_loss=0.000322, valid_loss=0.00108]\n",
      "Epoch: 44/80...: 100%|█████| 78/78 [00:08<00:00,  8.81it/s, train_loss=0.000274, valid_loss=0.00101]\n",
      "Epoch: 45/80...: 100%|█████| 78/78 [00:08<00:00,  8.76it/s, train_loss=0.000217, valid_loss=0.00109]\n",
      "Epoch: 46/80...: 100%|█████| 78/78 [00:08<00:00,  8.78it/s, train_loss=0.000319, valid_loss=0.00142]\n",
      "Epoch: 47/80...: 100%|██████| 78/78 [00:09<00:00,  8.66it/s, train_loss=0.000215, valid_loss=0.0011]\n",
      "Epoch: 48/80...: 100%|█████| 78/78 [00:08<00:00,  8.85it/s, train_loss=0.000274, valid_loss=0.00109]\n",
      "Epoch: 49/80...: 100%|██████| 78/78 [00:08<00:00,  8.81it/s, train_loss=0.00024, valid_loss=0.00114]\n",
      "Epoch: 50/80...: 100%|█████| 78/78 [00:08<00:00,  8.86it/s, train_loss=0.000213, valid_loss=0.00108]\n",
      "Epoch: 51/80...: 100%|██████| 78/78 [00:08<00:00,  8.85it/s, train_loss=0.000194, valid_loss=0.0011]\n",
      "Epoch: 52/80...: 100%|█████| 78/78 [00:08<00:00,  8.76it/s, train_loss=0.000233, valid_loss=0.00109]\n",
      "Epoch: 53/80...: 100%|█████| 78/78 [00:09<00:00,  8.42it/s, train_loss=0.000195, valid_loss=0.00115]\n",
      "Epoch: 54/80...: 100%|█████| 78/78 [00:09<00:00,  8.49it/s, train_loss=0.000252, valid_loss=0.00111]\n",
      "Epoch: 55/80...: 100%|███████| 78/78 [00:09<00:00,  8.47it/s, train_loss=0.00019, valid_loss=0.0011]\n",
      "Epoch: 56/80...: 100%|██████| 78/78 [00:09<00:00,  8.44it/s, train_loss=0.00022, valid_loss=0.00109]\n",
      "Epoch: 57/80...: 100%|█████| 78/78 [00:09<00:00,  8.49it/s, train_loss=0.000213, valid_loss=0.00105]\n",
      "Epoch: 58/80...: 100%|█████| 78/78 [00:09<00:00,  8.46it/s, train_loss=0.000185, valid_loss=0.00106]\n",
      "Epoch: 59/80...: 100%|█████| 78/78 [00:09<00:00,  8.55it/s, train_loss=0.000167, valid_loss=0.00109]\n",
      "Epoch: 60/80...: 100%|█████| 78/78 [00:09<00:00,  8.43it/s, train_loss=0.000194, valid_loss=0.00114]\n",
      "Epoch: 61/80...: 100%|██████| 78/78 [00:09<00:00,  8.48it/s, train_loss=0.000209, valid_loss=0.0012]\n",
      "Epoch: 62/80...: 100%|██████| 78/78 [00:10<00:00,  7.63it/s, train_loss=0.000158, valid_loss=0.0011]\n",
      "Epoch: 63/80...: 100%|██████| 78/78 [00:11<00:00,  6.89it/s, train_loss=0.000179, valid_loss=0.0011]\n",
      "Epoch: 64/80...: 100%|█████| 78/78 [00:11<00:00,  6.74it/s, train_loss=0.000173, valid_loss=0.00113]\n",
      "Epoch: 65/80...: 100%|█████| 78/78 [00:11<00:00,  6.96it/s, train_loss=0.000153, valid_loss=0.00108]\n",
      "Epoch: 66/80...: 100%|██████| 78/78 [00:11<00:00,  6.89it/s, train_loss=0.000169, valid_loss=0.0011]\n",
      "Epoch: 67/80...: 100%|█████| 78/78 [00:11<00:00,  6.75it/s, train_loss=0.000185, valid_loss=0.00114]\n",
      "Epoch: 68/80...: 100%|█████| 78/78 [00:11<00:00,  6.81it/s, train_loss=0.000141, valid_loss=0.00114]\n",
      "Epoch: 69/80...: 100%|█████| 78/78 [00:12<00:00,  6.21it/s, train_loss=0.000155, valid_loss=0.00113]\n",
      "Epoch: 70/80...: 100%|██████| 78/78 [00:13<00:00,  5.90it/s, train_loss=0.00013, valid_loss=0.00114]\n",
      "Epoch: 71/80...: 100%|█████| 78/78 [00:13<00:00,  5.91it/s, train_loss=0.000195, valid_loss=0.00115]\n",
      "Epoch: 72/80...: 100%|█████| 78/78 [00:13<00:00,  5.91it/s, train_loss=0.000133, valid_loss=0.00113]\n",
      "Epoch: 73/80...: 100%|█████| 78/78 [00:13<00:00,  5.76it/s, train_loss=0.000155, valid_loss=0.00113]\n",
      "Epoch: 74/80...: 100%|█████| 78/78 [00:13<00:00,  5.90it/s, train_loss=0.000161, valid_loss=0.00112]\n",
      "Epoch: 75/80...: 100%|█████| 78/78 [00:13<00:00,  5.90it/s, train_loss=0.000145, valid_loss=0.00116]\n",
      "Epoch: 76/80...: 100%|█████| 78/78 [00:13<00:00,  5.81it/s, train_loss=0.000149, valid_loss=0.00116]\n",
      "Epoch: 77/80...: 100%|██████| 78/78 [00:13<00:00,  5.76it/s, train_loss=0.00013, valid_loss=0.00111]\n",
      "Epoch: 78/80...: 100%|█████| 78/78 [00:13<00:00,  5.90it/s, train_loss=0.000131, valid_loss=0.00116]\n",
      "Epoch: 79/80...: 100%|█████| 78/78 [00:13<00:00,  5.97it/s, train_loss=0.000124, valid_loss=0.00115]\n",
      "Epoch: 80/80...: 100%|█████| 78/78 [00:13<00:00,  5.77it/s, train_loss=0.000123, valid_loss=0.00112]\n"
     ]
    },
    {
     "name": "stdout",
     "output_type": "stream",
     "text": [
      "supervised data: shape of x: (6237, 72, 16), shape of y: (6237, 24, 16)\n",
      "MAPE:0.034496,SMAPE:0.034402,MAE:433.208968,RMSE:581.669614,RRSE:0.180573,CORR:257.579837\n"
     ]
    },
    {
     "data": {
      "image/png": "[encoded data removed]",
      "text/plain": [
       "<Figure size 432x288 with 1 Axes>"
      ]
     },
     "metadata": {
      "needs_background": "light"
     },
     "output_type": "display_data"
    }
   ],
   "source": [
    "random_seed_set(42)\n",
    "MAPE, SMAPE, MAE, RMSE, RRSE, CORR, load_pred, load_true = run_model_retraining()\n",
    "print('MAPE:{:.6f},SMAPE:{:.6f},MAE:{:.6f},RMSE:{:.6f},RRSE:{:.6f},CORR:{:.6f}'.format(MAPE, SMAPE, MAE, RMSE, RRSE, CORR))"
   ]
  },
  {
   "cell_type": "code",
   "execution_count": 19,
   "id": "ffdd3b2e",
   "metadata": {
    "ExecuteTime": {
     "end_time": "2022-01-09T08:59:40.786237Z",
     "start_time": "2022-01-09T08:59:40.782833Z"
    }
   },
   "outputs": [
    {
     "name": "stdout",
     "output_type": "stream",
     "text": [
      "MAPE:0.034496,SMAPE:0.034402,MAE:433.208968,RMSE:581.669614,RRSE:0.180573,CORR:257.579837\n"
     ]
    }
   ],
   "source": [
    "print('MAPE:{:.6f},SMAPE:{:.6f},MAE:{:.6f},RMSE:{:.6f},RRSE:{:.6f},CORR:{:.6f}'.format(MAPE, SMAPE, MAE, RMSE, RRSE, CORR))"
   ]
  },
  {
   "cell_type": "markdown",
   "id": "b306d565",
   "metadata": {},
   "source": [
    "## figure plot"
   ]
  },
  {
   "cell_type": "code",
   "execution_count": 20,
   "id": "a8f0a18e",
   "metadata": {
    "ExecuteTime": {
     "end_time": "2022-01-09T08:59:40.933138Z",
     "start_time": "2022-01-09T08:59:40.787388Z"
    }
   },
   "outputs": [
    {
     "data": {
      "text/plain": [
       "(0.0, 19507.38067825785)"
      ]
     },
     "execution_count": 20,
     "metadata": {},
     "output_type": "execute_result"
    },
    {
     "data": {
      "image/png": "[encoded data removed]",
      "text/plain": [
       "<Figure size 1440x720 with 1 Axes>"
      ]
     },
     "metadata": {
      "needs_background": "light"
     },
     "output_type": "display_data"
    }
   ],
   "source": [
    "plt.figure(figsize=(20, 10))\n",
    "load_pred = load_pred.reshape(-1, 24)\n",
    "load_true = load_true.reshape(-1, 24)\n",
    "plt.plot(load_pred[:240, 23], 'm')\n",
    "plt.plot(load_true[:240, 23], 'g')\n",
    "plt.ylim(ymin=0)"
   ]
  }
 ],
 "metadata": {
  "kernelspec": {
   "display_name": "Python 3 (ipykernel)",
   "language": "python",
   "name": "python3"
  },
  "language_info": {
   "codemirror_mode": {
    "name": "ipython",
    "version": 3
   },
   "file_extension": ".py",
   "mimetype": "text/x-python",
   "name": "python",
   "nbconvert_exporter": "python",
   "pygments_lexer": "ipython3",
   "version": "3.8.12"
  },
  "toc": {
   "base_numbering": 1,
   "nav_menu": {},
   "number_sections": true,
   "sideBar": true,
   "skip_h1_title": false,
   "title_cell": "Table of Contents",
   "title_sidebar": "Contents",
   "toc_cell": false,
   "toc_position": {
    "height": "calc(100% - 180px)",
    "left": "10px",
    "top": "150px",
    "width": "374.386px"
   },
   "toc_section_display": true,
   "toc_window_display": true
  },
  "varInspector": {
   "cols": {
    "lenName": 16,
    "lenType": 16,
    "lenVar": 40
   },
   "kernels_config": {
    "python": {
     "delete_cmd_postfix": "",
     "delete_cmd_prefix": "del ",
     "library": "var_list.py",
     "varRefreshCmd": "print(var_dic_list())"
    },
    "r": {
     "delete_cmd_postfix": ") ",
     "delete_cmd_prefix": "rm(",
     "library": "var_list.r",
     "varRefreshCmd": "cat(var_dic_list()) "
    }
   },
   "types_to_exclude": [
    "module",
    "function",
    "builtin_function_or_method",
    "instance",
    "_Feature"
   ],
   "window_display": false
  }
 },
 "nbformat": 4,
 "nbformat_minor": 5
}
