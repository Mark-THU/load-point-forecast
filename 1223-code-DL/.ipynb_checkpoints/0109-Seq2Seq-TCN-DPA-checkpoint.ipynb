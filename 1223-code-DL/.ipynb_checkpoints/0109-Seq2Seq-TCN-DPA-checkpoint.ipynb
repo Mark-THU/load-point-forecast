{
 "cells": [
  {
   "cell_type": "markdown",
   "id": "6210c310",
   "metadata": {},
   "source": [
    "# Seq2Seq by TCN and DPAttention for forecast"
   ]
  },
  {
   "cell_type": "markdown",
   "id": "497dbe00",
   "metadata": {},
   "source": [
    "- [x] 实现\n",
    "- [x] 每个timeseries使用均值归一化`效果未提升`\n",
    "- [x] Decoder使用Dense\n",
    "- [x] Decoder中h加到输入中`效果一般`\n",
    "- [x] Decoder使用Conv`有一定提升`\n",
    "- [x] Decoder使用RNN`有所提升`\n",
    "- [x] 加入BatchNorm`有所提升`\n",
    "- [x] 加入LayerNorm`验证集效果提升，但是测试集效果下降`\n",
    "- [x] 换加性注意力`效果变差`\n",
    "- [] 换多头注意力\n",
    "- [x] 残差预测`效果变差`"
   ]
  },
  {
   "cell_type": "code",
   "execution_count": 1,
   "id": "dbaaa556",
   "metadata": {
    "ExecuteTime": {
     "end_time": "2022-01-09T14:34:03.387747Z",
     "start_time": "2022-01-09T14:34:02.409300Z"
    }
   },
   "outputs": [],
   "source": [
    "import pandas as pd\n",
    "import numpy as np\n",
    "import matplotlib.pyplot as plt\n",
    "import pdb\n",
    "import torch\n",
    "import torch.nn as nn\n",
    "import torch.nn.functional as F\n",
    "import random\n",
    "import math\n",
    "\n",
    "from sklearn.preprocessing import MinMaxScaler\n",
    "from sklearn.model_selection import train_test_split, TimeSeriesSplit\n",
    "from torch.autograd import Variable\n",
    "from torch.utils.data import TensorDataset, DataLoader\n",
    "from tqdm import tqdm\n",
    "from torch.nn.utils import weight_norm\n",
    "from torchsummary import summary\n",
    "if torch.cuda.is_available():  \n",
    "    dev = \"cuda:0\" \n",
    "else:  \n",
    "    dev = \"cpu\"\n",
    "device = torch.device(dev)"
   ]
  },
  {
   "cell_type": "markdown",
   "id": "457d4275",
   "metadata": {
    "ExecuteTime": {
     "end_time": "2022-01-09T14:33:23.485910Z",
     "start_time": "2022-01-09T14:33:23.481096Z"
    }
   },
   "source": [
    "## random seed"
   ]
  },
  {
   "cell_type": "code",
   "execution_count": 2,
   "id": "6a48fb06",
   "metadata": {
    "ExecuteTime": {
     "end_time": "2022-01-09T14:34:03.393330Z",
     "start_time": "2022-01-09T14:34:03.390053Z"
    }
   },
   "outputs": [],
   "source": [
    "def random_seed_set(seed):\n",
    "    np.random.seed(seed)\n",
    "    torch.random.manual_seed(seed)\n",
    "    torch.cuda.random.manual_seed(seed)\n",
    "#     torch.backends.cudnn.benchmark = False\n",
    "#     torch.backends.cudnn.deterministic = True"
   ]
  },
  {
   "cell_type": "markdown",
   "id": "b6d6cb62",
   "metadata": {},
   "source": [
    "## load data"
   ]
  },
  {
   "cell_type": "code",
   "execution_count": 3,
   "id": "ba489706",
   "metadata": {
    "ExecuteTime": {
     "end_time": "2022-01-09T14:34:03.440826Z",
     "start_time": "2022-01-09T14:34:03.394635Z"
    }
   },
   "outputs": [],
   "source": [
    "url = '../data/beijing.csv'\n",
    "data = pd.read_csv(url, sep=',', index_col='time')"
   ]
  },
  {
   "cell_type": "markdown",
   "id": "c99431b5",
   "metadata": {},
   "source": [
    "## normalization"
   ]
  },
  {
   "cell_type": "code",
   "execution_count": 4,
   "id": "a3081c8f",
   "metadata": {
    "ExecuteTime": {
     "end_time": "2022-01-09T14:34:03.446323Z",
     "start_time": "2022-01-09T14:34:03.442886Z"
    }
   },
   "outputs": [],
   "source": [
    "def normalization(data):\n",
    "    \"\"\"\n",
    "    data: original data with load\n",
    "    return: normalized data, scaler of load\n",
    "    \"\"\"\n",
    "    scaler = MinMaxScaler()\n",
    "    normalized_data = scaler.fit_transform(data)\n",
    "    scaler_y = MinMaxScaler()\n",
    "    scaler_y.fit_transform(data[[data.columns[-1]]])\n",
    "    return normalized_data, scaler, scaler_y"
   ]
  },
  {
   "cell_type": "markdown",
   "id": "15650a81",
   "metadata": {
    "ExecuteTime": {
     "end_time": "2021-12-22T07:45:44.192666Z",
     "start_time": "2021-12-22T07:45:44.188985Z"
    }
   },
   "source": [
    "## build supervised dataset"
   ]
  },
  {
   "cell_type": "code",
   "execution_count": 5,
   "id": "4eff9fe7",
   "metadata": {
    "ExecuteTime": {
     "end_time": "2022-01-09T14:34:03.452248Z",
     "start_time": "2022-01-09T14:34:03.447807Z"
    }
   },
   "outputs": [],
   "source": [
    "def series_to_supervise(data, seq_len, target_len):\n",
    "    \"\"\"\n",
    "    convert series data to supervised data\n",
    "    :param data: original data\n",
    "    :param seq_len: length of input sequence\n",
    "    :param target_len: length of ouput sequence\n",
    "    :return: return two ndarrays-- input and output in format suitable to feed to RNN\n",
    "    \"\"\"\n",
    "    dim_0 = data.shape[0] - seq_len - target_len + 1\n",
    "    dim_1 = data.shape[1]\n",
    "    x = np.zeros((dim_0, seq_len, dim_1))\n",
    "    y = np.zeros((dim_0, target_len, dim_1))\n",
    "    for i in range(dim_0):\n",
    "        x[i] = data[i:i + seq_len]\n",
    "        y[i] = data[i + seq_len:i + seq_len + target_len]\n",
    "    print(\"supervised data: shape of x: {}, shape of y: {}\".format(\n",
    "        x.shape, y.shape))\n",
    "    return x, y"
   ]
  },
  {
   "cell_type": "markdown",
   "id": "03794ff6",
   "metadata": {},
   "source": [
    "## 5-folds TimeSeriesSplit"
   ]
  },
  {
   "cell_type": "code",
   "execution_count": 6,
   "id": "0df9a8b6",
   "metadata": {
    "ExecuteTime": {
     "end_time": "2022-01-09T14:34:03.457670Z",
     "start_time": "2022-01-09T14:34:03.453434Z"
    }
   },
   "outputs": [],
   "source": [
    "def time_series_split(X, Y, n_split=5):\n",
    "    \"\"\"\n",
    "    X: features, size * seq_len * feature_num\n",
    "    Y: labels, size * target_len\n",
    "    return: list of train_x, test_x, train_y, test_y\n",
    "    \"\"\"\n",
    "    tscv = TimeSeriesSplit(n_splits=n_split)\n",
    "    train_x_list = list()\n",
    "    valid_x_list = list()\n",
    "    train_y_list = list()\n",
    "    valid_y_list = list()\n",
    "    for train_index, valid_index in tscv.split(X):\n",
    "        train_x_list.append(X[train_index])\n",
    "        train_y_list.append(Y[train_index])\n",
    "        valid_x_list.append(X[valid_index])\n",
    "        valid_y_list.append(Y[valid_index])\n",
    "    return train_x_list, train_y_list, valid_x_list, valid_y_list"
   ]
  },
  {
   "cell_type": "markdown",
   "id": "f7a3f74a",
   "metadata": {},
   "source": [
    "## Seq2Seq model"
   ]
  },
  {
   "cell_type": "markdown",
   "id": "b45dd894",
   "metadata": {},
   "source": [
    "### Encoder"
   ]
  },
  {
   "cell_type": "code",
   "execution_count": 104,
   "id": "a0fd30be",
   "metadata": {
    "ExecuteTime": {
     "end_time": "2022-01-10T15:13:02.175241Z",
     "start_time": "2022-01-10T15:13:02.149194Z"
    }
   },
   "outputs": [],
   "source": [
    "class Chomp1d(nn.Module):\n",
    "    \"\"\"\n",
    "    保证卷积输入输出维度一致\n",
    "    \"\"\"\n",
    "    def __init__(self, chomp_size):\n",
    "        super(Chomp1d, self).__init__()\n",
    "        self.chomp_size = chomp_size\n",
    "\n",
    "    def forward(self, x):\n",
    "        return x[:, :, :-self.chomp_size].contiguous()\n",
    "\n",
    "\n",
    "class TemporalBlock(nn.Module):\n",
    "    def __init__(self,\n",
    "                 n_inputs,\n",
    "                 n_outputs,\n",
    "                 kernel_size,\n",
    "                 stride,\n",
    "                 dilation,\n",
    "                 padding,\n",
    "                 dropout=0.2):\n",
    "        super(TemporalBlock, self).__init__()\n",
    "        self.conv1 = weight_norm(\n",
    "            nn.Conv1d(n_inputs,\n",
    "                      n_outputs,\n",
    "                      kernel_size,\n",
    "                      stride=stride,\n",
    "                      padding=padding,\n",
    "                      dilation=dilation))\n",
    "        self.chomp1 = Chomp1d(padding)\n",
    "        self.bn1 = nn.BatchNorm1d(n_outputs)\n",
    "        # self.bn1 = nn.LayerNorm((n_outputs, 72))\n",
    "        self.relu1 = nn.ReLU()\n",
    "        self.dropout1 = nn.Dropout(dropout)\n",
    "\n",
    "        self.conv2 = weight_norm(\n",
    "            nn.Conv1d(n_outputs,\n",
    "                      n_outputs,\n",
    "                      kernel_size,\n",
    "                      stride=stride,\n",
    "                      padding=padding,\n",
    "                      dilation=dilation))\n",
    "        self.chomp2 = Chomp1d(padding)\n",
    "        self.bn2 = nn.BatchNorm1d(n_outputs)\n",
    "        #self.bn2 = nn.LayerNorm((n_outputs, 72))\n",
    "        self.relu2 = nn.ReLU()\n",
    "        self.dropout2 = nn.Dropout(dropout)\n",
    "\n",
    "        self.net = nn.Sequential(self.conv1, self.chomp1, self.bn1, self.relu1,\n",
    "                                 self.dropout1, self.conv2, self.chomp2,\n",
    "                                 self.bn2, self.relu2, self.dropout2)\n",
    "        self.downsample = nn.Conv1d(n_inputs, n_outputs,\n",
    "                                    1) if n_inputs != n_outputs else None\n",
    "        self.relu = nn.ReLU()\n",
    "        self.init_weights()\n",
    "\n",
    "    def init_weights(self):\n",
    "        self.conv1.weight.data.normal_(0, 0.01)\n",
    "        self.conv2.weight.data.normal_(0, 0.01)\n",
    "        if self.downsample is not None:\n",
    "            self.downsample.weight.data.normal_(0, 0.01)\n",
    "\n",
    "    def forward(self, x):\n",
    "        out = self.net(x)\n",
    "        res = x if self.downsample is None else self.downsample(x)\n",
    "        return self.relu(out + res)\n",
    "\n",
    "\n",
    "class Encoder(nn.Module):\n",
    "    def __init__(self, num_inputs, num_channels, kernel_size=2, dropout=0.2):\n",
    "        super(Encoder, self).__init__()\n",
    "        layers = []\n",
    "        num_levels = len(num_channels)\n",
    "        for i in range(num_levels):\n",
    "            dilation_size = 2**i\n",
    "            in_channels = num_inputs if i == 0 else num_channels[i - 1]\n",
    "            out_channels = num_channels[i]\n",
    "            layers += [\n",
    "                TemporalBlock(in_channels,\n",
    "                              out_channels,\n",
    "                              kernel_size,\n",
    "                              stride=1,\n",
    "                              dilation=dilation_size,\n",
    "                              padding=(kernel_size - 1) * dilation_size,\n",
    "                              dropout=dropout)\n",
    "            ]\n",
    "\n",
    "        self.network = nn.Sequential(*layers)\n",
    "\n",
    "    def forward(self, x):\n",
    "        # x shape (batch_size, seq_len, input_size)\n",
    "        # out shape (batch_size, seq_len, output_size)\n",
    "\n",
    "        x = x.permute(0, 2, 1)\n",
    "        out = self.network(x)\n",
    "        out = out.permute(0, 2, 1)\n",
    "        # out shape (batch_size, num_steps, output_size)\n",
    "        return out"
   ]
  },
  {
   "cell_type": "markdown",
   "id": "4b39cfb4",
   "metadata": {
    "ExecuteTime": {
     "end_time": "2021-12-31T13:15:30.991666Z",
     "start_time": "2021-12-31T13:15:30.987285Z"
    }
   },
   "source": [
    "### Additive Attention"
   ]
  },
  {
   "cell_type": "code",
   "execution_count": 8,
   "id": "561a01f9",
   "metadata": {
    "ExecuteTime": {
     "end_time": "2022-01-09T14:34:03.477164Z",
     "start_time": "2022-01-09T14:34:03.471804Z"
    }
   },
   "outputs": [],
   "source": [
    "class AdditiveAttention(nn.Module):\n",
    "    \"\"\"加性注意力\"\"\"\n",
    "    def __init__(self, key_size, query_size, num_hiddens, dropout, **kwargs):\n",
    "        super(AdditiveAttention, self).__init__(**kwargs)\n",
    "        self.W_k = nn.Linear(key_size, num_hiddens, bias=False)\n",
    "        self.W_q = nn.Linear(query_size, num_hiddens, bias=False)\n",
    "        self.w_v = nn.Linear(num_hiddens, 1, bias=False)\n",
    "        self.dropout = nn.Dropout(dropout)\n",
    "\n",
    "    def forward(self, queries, keys, values):\n",
    "        queries, keys = self.W_q(queries), self.W_k(keys)\n",
    "        # 在维度扩展后，\n",
    "        # `queries` 的形状：(`batch_size`，查询的个数，1，`num_hidden`)\n",
    "        # `key` 的形状：(`batch_size`，1，“键－值”对的个数，`num_hiddens`)\n",
    "        # 使用广播方式进行求和\n",
    "        features = queries.unsqueeze(2) + keys.unsqueeze(1)\n",
    "        features = torch.tanh(features)\n",
    "        # `self.w_v` 仅有一个输出，因此从形状中移除最后那个维度。\n",
    "        # `scores` 的形状：(`batch_size`，查询的个数，“键-值”对的个数)\n",
    "        scores = self.w_v(features).squeeze(-1)\n",
    "        self.attention_weights = nn.functional.softmax(scores, dim=-1)\n",
    "        # `values` 的形状：(`batch_size`，“键－值”对的个数，值的维度)\n",
    "        return torch.bmm(self.dropout(self.attention_weights), values)"
   ]
  },
  {
   "cell_type": "markdown",
   "id": "750adfde",
   "metadata": {},
   "source": [
    "### DotProductAttentioin"
   ]
  },
  {
   "cell_type": "code",
   "execution_count": 9,
   "id": "fc70506c",
   "metadata": {
    "ExecuteTime": {
     "end_time": "2022-01-09T14:34:03.482759Z",
     "start_time": "2022-01-09T14:34:03.478407Z"
    }
   },
   "outputs": [],
   "source": [
    "class DotProductAttention(nn.Module):\n",
    "    \"\"\"缩放点积注意力\"\"\"\n",
    "    def __init__(self, dropout, **kwargs):\n",
    "        super(DotProductAttention, self).__init__(**kwargs)\n",
    "        self.dropout = nn.Dropout(dropout)\n",
    "\n",
    "    # `queries` 的形状：(`batch_size`，查询的个数，`d`)\n",
    "    # `keys` 的形状：(`batch_size`，“键－值”对的个数，`d`)\n",
    "    # `values` 的形状：(`batch_size`，“键－值”对的个数，值的维度)\n",
    "    # `valid_lens` 的形状: (`batch_size`，) 或者 (`batch_size`，查询的个数)\n",
    "    def forward(self, queries, keys, values):\n",
    "        d = queries.shape[-1]\n",
    "        # 设置 `transpose_b=True` 为了交换 `keys` 的最后两个维度\n",
    "        scores = torch.bmm(queries, keys.transpose(1,2)) / math.sqrt(d)\n",
    "        self.attention_weights = nn.functional.softmax(scores, dim=-1)\n",
    "        return torch.bmm(self.dropout(self.attention_weights), values)"
   ]
  },
  {
   "cell_type": "markdown",
   "id": "7cf2acfa",
   "metadata": {},
   "source": [
    "### MultiHeadAttention"
   ]
  },
  {
   "cell_type": "code",
   "execution_count": 10,
   "id": "423501b2",
   "metadata": {
    "ExecuteTime": {
     "end_time": "2022-01-09T14:34:03.493582Z",
     "start_time": "2022-01-09T14:34:03.485344Z"
    }
   },
   "outputs": [],
   "source": [
    "class MultiHeadAttention(nn.Module):\n",
    "    \"\"\"多头注意力\"\"\"\n",
    "    def __init__(self,\n",
    "                 key_size,\n",
    "                 query_size,\n",
    "                 value_size,\n",
    "                 num_hiddens,\n",
    "                 num_heads,\n",
    "                 dropout,\n",
    "                 bias=False,\n",
    "                 **kwargs):\n",
    "        super(MultiHeadAttention, self).__init__(**kwargs)\n",
    "        self.num_heads = num_heads\n",
    "        self.attention = DotProductAttention(dropout)\n",
    "        self.W_q = nn.Linear(query_size, num_hiddens, bias=bias)\n",
    "        self.W_k = nn.Linear(key_size, num_hiddens, bias=bias)\n",
    "        self.W_v = nn.Linear(value_size, num_hiddens, bias=bias)\n",
    "        self.W_o = nn.Linear(num_hiddens, num_hiddens, bias=bias)\n",
    "\n",
    "    def forward(self, queries, keys, values, valid_lens=None):\n",
    "        # `queries`，`keys`，`values` 的形状:\n",
    "        # (`batch_size`，查询或者“键－值”对的个数，`num_hiddens`)\n",
    "        # `valid_lens`　的形状:\n",
    "        # (`batch_size`，) 或 (`batch_size`，查询的个数)\n",
    "        # 经过变换后，输出的 `queries`，`keys`，`values`　的形状:\n",
    "        # (`batch_size` * `num_heads`，查询或者“键－值”对的个数，\n",
    "        # `num_hiddens` / `num_heads`)\n",
    "        queries = transpose_qkv(queries, self.num_heads)\n",
    "        keys = transpose_qkv(keys, self.num_heads)\n",
    "        values = transpose_qkv(values, self.num_heads)\n",
    "\n",
    "        if valid_lens is not None:\n",
    "            # 在轴 0，将第一项（标量或者矢量）复制 `num_heads` 次，\n",
    "            # 然后如此复制第二项，然后诸如此类。\n",
    "            valid_lens = torch.repeat_interleave(valid_lens,\n",
    "                                                 repeats=self.num_heads,\n",
    "                                                 dim=0)\n",
    "\n",
    "        # `output` 的形状: (`batch_size` * `num_heads`，查询的个数，\n",
    "        # `num_hiddens` / `num_heads`)\n",
    "        output = self.attention(queries, keys, values)\n",
    "\n",
    "        # `output_concat` 的形状: (`batch_size`，查询的个数，`num_hiddens`)\n",
    "        output_concat = transpose_output(output, self.num_heads)\n",
    "        return self.W_o(output_concat)\n",
    "\n",
    "\n",
    "def transpose_qkv(X, num_heads):\n",
    "    \"\"\"为了多注意力头的并行计算而变换形状。\"\"\"\n",
    "    # 输入 `X` 的形状: (`batch_size`，查询或者“键－值”对的个数，`num_hiddens`)\n",
    "    # 输出 `X` 的形状: (`batch_size`，查询或者“键－值”对的个数，`num_heads`，\n",
    "    # `num_hiddens` / `num_heads`)\n",
    "    X = X.reshape(X.shape[0], X.shape[1], num_heads, -1)\n",
    "\n",
    "    # 输出 `X` 的形状: (`batch_size`，`num_heads`，查询或者“键－值”对的个数,\n",
    "    # `num_hiddens` / `num_heads`)\n",
    "    X = X.permute(0, 2, 1, 3)\n",
    "\n",
    "    # 最终输出的形状: (`batch_size` * `num_heads`, 查询或者“键－值”对的个数,\n",
    "    # `num_hiddens` / `num_heads`)\n",
    "    return X.reshape(-1, X.shape[2], X.shape[3])\n",
    "\n",
    "\n",
    "def transpose_output(X, num_heads):\n",
    "    \"\"\"逆转 `transpose_qkv` 函数的操作。\"\"\"\n",
    "    X = X.reshape(-1, num_heads, X.shape[1], X.shape[2])\n",
    "    X = X.permute(0, 2, 1, 3)\n",
    "    return X.reshape(X.shape[0], X.shape[1], -1)"
   ]
  },
  {
   "cell_type": "markdown",
   "id": "5788a21f",
   "metadata": {},
   "source": [
    "### Decoder"
   ]
  },
  {
   "cell_type": "code",
   "execution_count": 105,
   "id": "dbe44c04",
   "metadata": {
    "ExecuteTime": {
     "end_time": "2022-01-10T15:13:50.893001Z",
     "start_time": "2022-01-10T15:13:50.872579Z"
    }
   },
   "outputs": [],
   "source": [
    "class AttnDecoder(nn.Module):\n",
    "    def __init__(self, input_size, hidden_dim, drop_prob, n_layers=2):\n",
    "        super(AttnDecoder, self).__init__()\n",
    "\n",
    "        # param\n",
    "        self.n_layers = n_layers\n",
    "\n",
    "        self.attention = DotProductAttention(drop_prob)\n",
    "        # self.attention = AdditiveAttention(hidden_dim, hidden_dim, hidden_dim, drop_prob)\n",
    "        '''\n",
    "        self.dense = nn.Sequential(\n",
    "            nn.Conv1d(input_size + hidden_dim, hidden_dim, kernel_size=1),\n",
    "            nn.BatchNorm1d(hidden_dim),\n",
    "            # nn.LayerNorm((hidden_dim, 1)),\n",
    "            nn.ReLU(), nn.Conv1d(hidden_dim, hidden_dim, kernel_size=1),\n",
    "            nn.BatchNorm1d(hidden_dim),\n",
    "            # nn.LayerNorm((hidden_dim, 1)),\n",
    "            nn.ReLU())\n",
    "        '''\n",
    "        self.rnn = nn.GRU(input_size + hidden_dim,\n",
    "                          hidden_dim,\n",
    "                          num_layers=n_layers,\n",
    "                          batch_first=True)\n",
    "        self.fc = nn.Sequential()\n",
    "\n",
    "        input_size = hidden_dim\n",
    "        i = 0\n",
    "        while (input_size > 6):\n",
    "            self.fc.add_module('linear{}'.format(i),\n",
    "                               nn.Linear(input_size, round(input_size / 2)))\n",
    "            self.fc.add_module('relu{}'.format(i), nn.ReLU())\n",
    "            input_size = round(input_size / 2)\n",
    "            i += 1\n",
    "        self.fc.add_module('linear{}'.format(i), nn.Linear(input_size, 1))\n",
    "\n",
    "    def forward(self, inputs, encoder_outputs):\n",
    "        '''\n",
    "        :inputs shape (batch_size, target_len, input_size)\n",
    "        :encoder_outputs shape (batch_size, seq_len, hidden_dim)\n",
    "        '''\n",
    "\n",
    "        h = encoder_outputs[:, -1:, :]\n",
    "        # h shape (batch_size, 1, hidden_dim)\n",
    "        h = h.permute(1, 0, 2).repeat(self.n_layers, 1, 1)\n",
    "        # h shape (n_layers, batch_size, hidden_dim)\n",
    "        outputs = []\n",
    "\n",
    "        for i in range(inputs.shape[1]):\n",
    "            query = h[-1].unsqueeze(1)\n",
    "            # query shape (batch_size, 1, hidden_dim)\n",
    "            context = self.attention(query, encoder_outputs, encoder_outputs)\n",
    "            # context shape (batch_size, 1, hidden_dim)\n",
    "            if i:\n",
    "                x = torch.cat((inputs[:, i:i + 1, :-1], out.detach()), dim=-1)\n",
    "                # x shape (batch_size, 1, input_size)\n",
    "            else:\n",
    "                x = inputs[:, i:i + 1, :]\n",
    "            dense_input = torch.cat((x, context), dim=-1)\n",
    "            # dense_input shape (batch_size, 1, hidden_dim + input_size)\n",
    "            out, h = self.rnn(dense_input, h)\n",
    "            # out shape (batch_size, 1, hidden_dim)\n",
    "\n",
    "            out = self.fc(out)\n",
    "            # out shape (batch_size, 1, 1)\n",
    "            outputs.append(out)\n",
    "\n",
    "        outputs = torch.cat(outputs, dim=1).squeeze(-1)\n",
    "        # outputs shape (batch_size, tar_len)\n",
    "        return outputs"
   ]
  },
  {
   "cell_type": "markdown",
   "id": "dee806dd",
   "metadata": {},
   "source": [
    "### Seq2Seq_TCN"
   ]
  },
  {
   "cell_type": "code",
   "execution_count": 42,
   "id": "6136b350",
   "metadata": {
    "ExecuteTime": {
     "end_time": "2022-01-10T02:48:17.065732Z",
     "start_time": "2022-01-10T02:48:17.056476Z"
    }
   },
   "outputs": [],
   "source": [
    "class Seq2Seq_TCN(nn.Module):\n",
    "    def __init__(self, input_size, hidden_dim, drop_prob):\n",
    "        super(Seq2Seq_TCN, self).__init__()\n",
    "        self.encoder = Encoder(input_size, num_channels=[24, 32, 40, 48, 56, 64], dropout=drop_prob)\n",
    "        self.decoder = AttnDecoder(input_size, hidden_dim, drop_prob)\n",
    "    \n",
    "    def forward(self, encoder_inputs, decoder_inputs):\n",
    "        # encoder_inputs shape (batch_size, seq_len, input_size)\n",
    "        # decoder_inputs shape (batch_size, target_len, input_size)\n",
    "        \n",
    "        encoder_outputs = self.encoder(encoder_inputs)\n",
    "        \n",
    "        outputs = self.decoder(decoder_inputs, encoder_outputs)\n",
    "        \n",
    "        return outputs"
   ]
  },
  {
   "cell_type": "markdown",
   "id": "9020249f",
   "metadata": {
    "ExecuteTime": {
     "end_time": "2022-01-09T05:28:23.899303Z",
     "start_time": "2022-01-09T05:28:23.895065Z"
    }
   },
   "source": [
    "### test model"
   ]
  },
  {
   "cell_type": "code",
   "execution_count": 106,
   "id": "bc371bda",
   "metadata": {
    "ExecuteTime": {
     "end_time": "2022-01-10T15:13:54.022777Z",
     "start_time": "2022-01-10T15:13:53.945738Z"
    }
   },
   "outputs": [
    {
     "data": {
      "text/plain": [
       "torch.Size([10, 24])"
      ]
     },
     "execution_count": 106,
     "metadata": {},
     "output_type": "execute_result"
    }
   ],
   "source": [
    "model = Seq2Seq_TCN(16, 64, 0.2)\n",
    "enc_input = torch.randn(10, 72, 16)\n",
    "dec_input = torch.randn(10, 24, 16)\n",
    "output = model(enc_input, dec_input)\n",
    "output.shape"
   ]
  },
  {
   "cell_type": "markdown",
   "id": "84baa974",
   "metadata": {
    "ExecuteTime": {
     "end_time": "2021-12-22T08:30:19.661769Z",
     "start_time": "2021-12-22T08:30:19.656770Z"
    }
   },
   "source": [
    "## model training for HPO"
   ]
  },
  {
   "cell_type": "code",
   "execution_count": 14,
   "id": "6753056d",
   "metadata": {
    "ExecuteTime": {
     "end_time": "2022-01-09T14:34:04.008751Z",
     "start_time": "2022-01-09T14:34:03.998199Z"
    },
    "code_folding": []
   },
   "outputs": [],
   "source": [
    "def train_model_hpo(train_x_list,\n",
    "                    train_y_list,\n",
    "                    valid_x_list,\n",
    "                    valid_y_list,\n",
    "                    input_size,\n",
    "                    seq_len,\n",
    "                    target_len,\n",
    "                    mse_thresh,\n",
    "                    hidden_dim,\n",
    "                    n_layers,\n",
    "                    number_epoch,\n",
    "                    batch_size,\n",
    "                    lr,\n",
    "                    drop_prob,\n",
    "                    weight_decay):\n",
    "    valid_loss_list = []\n",
    "    for num in range(len(train_x_list)):\n",
    "        while (1):\n",
    "            model = Seq2Seq_TCN(input_size, hidden_dim, drop_prob)\n",
    "            model = model.to(device)\n",
    "            criterion = nn.MSELoss()\n",
    "            optimizer = torch.optim.Adam(model.parameters(), lr=lr, weight_decay=weight_decay)\n",
    "            scheduler = torch.optim.lr_scheduler.StepLR(optimizer, 1, gamma=0.98)\n",
    "            valid_loss_min = np.Inf\n",
    "            print('train dataset {}'.format(num))\n",
    "            train_x = train_x_list[num]\n",
    "            train_y = train_y_list[num]\n",
    "            valid_x = valid_x_list[num]\n",
    "            valid_y = valid_y_list[num]\n",
    "            train_dataset = TensorDataset(torch.FloatTensor(train_x),\n",
    "                                          torch.FloatTensor(train_y))\n",
    "            valid_dataset = TensorDataset(torch.FloatTensor(valid_x),\n",
    "                                          torch.FloatTensor(valid_y))\n",
    "\n",
    "            train_loader = DataLoader(dataset=train_dataset,\n",
    "                                      batch_size=batch_size,\n",
    "                                      shuffle=True,\n",
    "                                      drop_last=True)\n",
    "            valid_loader = DataLoader(dataset=valid_dataset,\n",
    "                                      batch_size=batch_size,\n",
    "                                      shuffle=True,\n",
    "                                      drop_last=True)\n",
    "            train_losses = list()\n",
    "\n",
    "            num_without_imp = 0\n",
    "\n",
    "            #train\n",
    "            for epoch in range(1, number_epoch + 1):\n",
    "                loop = tqdm(enumerate(train_loader),\n",
    "                            total=len(train_loader),\n",
    "                            leave=True, ncols=100)\n",
    "                for i, (inputs, labels) in loop:\n",
    "                    inputs = inputs.to(device)\n",
    "                    labels = labels.to(device)\n",
    "                    optimizer.zero_grad()\n",
    "                    encoder_inputs = inputs\n",
    "                    # decoder_inputs = torch.cat((inputs[:, -1:, :], labels[:, :-1, :]), dim=1)\n",
    "                    decoder_inputs = labels\n",
    "                    outputs = model(encoder_inputs, decoder_inputs)                                \n",
    "                    loss = criterion(outputs, labels[:, :, -1])\n",
    "                    train_losses.append(loss.item)\n",
    "                    loss.backward()\n",
    "                    optimizer.step()\n",
    "\n",
    "                    # eval\n",
    "                    if i % 5 == 0:\n",
    "                        num_without_imp = num_without_imp + 1\n",
    "                        valid_losses = list()\n",
    "                        model.eval()\n",
    "                        for inp, lab in valid_loader:\n",
    "                            inp = inp.to(device)\n",
    "                            lab = lab.to(device)\n",
    "                            encoder_inp = inp\n",
    "                            # decoder_inp = torch.cat((inp[:, -1:, :], lab[:, :-1, :]), dim=1)\n",
    "                            decoder_inp = lab\n",
    "                            out = model(encoder_inp, decoder_inp)\n",
    "                            valid_loss = criterion(out, lab[:, :, -1])\n",
    "                            valid_losses.append(valid_loss.item())\n",
    "                        model.train()\n",
    "                        loop.set_description(\"Epoch: {}/{}...\".format(\n",
    "                            epoch, number_epoch))\n",
    "                        loop.set_postfix(train_loss=loss.item(),\n",
    "                                         valid_loss=np.mean(valid_losses))\n",
    "                        if np.mean(valid_losses) < valid_loss_min:\n",
    "                            num_without_imp = 0\n",
    "                            valid_loss_min = np.mean(valid_losses)\n",
    "                if num_without_imp > 50:\n",
    "                    pass\n",
    "#                     break\n",
    "                scheduler.step()\n",
    "            if valid_loss_min < mse_thresh:\n",
    "                valid_loss_list.append(valid_loss_min)\n",
    "                break\n",
    "    return np.mean(valid_loss_list)"
   ]
  },
  {
   "cell_type": "markdown",
   "id": "998735df",
   "metadata": {},
   "source": [
    "## hyper-parameters config"
   ]
  },
  {
   "cell_type": "code",
   "execution_count": 15,
   "id": "3f747e56",
   "metadata": {
    "ExecuteTime": {
     "end_time": "2022-01-09T14:34:04.015011Z",
     "start_time": "2022-01-09T14:34:04.010029Z"
    }
   },
   "outputs": [],
   "source": [
    "seq_len = 72\n",
    "target_len = 24\n",
    "mse_thresh = 0.05\n",
    "\n",
    "\n",
    "def model_config():\n",
    "    batch_sizes = [256, 512]\n",
    "    lrs = [0.01]\n",
    "    number_epochs = [40]\n",
    "    hidden_dims = [64, 128]\n",
    "    n_layers = [2, 3]\n",
    "    drop_prob = [0]\n",
    "    weight_decays = [0]\n",
    "    configs = list()\n",
    "    for i in batch_sizes:\n",
    "        for j in lrs:\n",
    "            for k in number_epochs:\n",
    "                for l in hidden_dims:\n",
    "                    for m in n_layers:\n",
    "                        for n in drop_prob:\n",
    "                            for o in weight_decays:\n",
    "                                configs.append({\n",
    "                                    'batch_size': i,\n",
    "                                    'lr': j,\n",
    "                                    'number_epoch': k,\n",
    "                                    'hidden_dim': l,\n",
    "                                    'n_layers': m,\n",
    "                                    'drop_prob': n,\n",
    "                                    'weight_decay': o\n",
    "                                })\n",
    "    return configs"
   ]
  },
  {
   "cell_type": "markdown",
   "id": "073677ff",
   "metadata": {},
   "source": [
    "## random search for HPO"
   ]
  },
  {
   "cell_type": "code",
   "execution_count": 16,
   "id": "25244a38",
   "metadata": {
    "ExecuteTime": {
     "end_time": "2022-01-09T14:34:04.023397Z",
     "start_time": "2022-01-09T14:34:04.016620Z"
    }
   },
   "outputs": [],
   "source": [
    "def run_model_hpo(seq_len=seq_len,\n",
    "                  target_len=target_len,\n",
    "                  mse_thresh=mse_thresh):\n",
    "    train_data = data[:int(0.8 * len(data))]\n",
    "    train_data, _, _ = normalization(train_data)\n",
    "    train_x, train_y = series_to_supervise(train_data, seq_len, target_len)\n",
    "    train_x_list, train_y_list, valid_x_list, valid_y_list = time_series_split(\n",
    "        train_x, train_y)\n",
    "    #         with enough data\n",
    "    train_x_list = train_x_list[-1:]\n",
    "    train_y_list = train_y_list[-1:]\n",
    "    valid_x_list = valid_x_list[-1:]\n",
    "    valid_y_list = valid_y_list[-1:]\n",
    "\n",
    "    configs = model_config()\n",
    "    records = []\n",
    "    input_size = train_x.shape[2]\n",
    "    for i in range(6):\n",
    "        config = random.choice(configs)\n",
    "        configs.remove(config)\n",
    "        batch_size = config['batch_size']\n",
    "        lr = config['lr']\n",
    "        number_epoch = config['number_epoch']\n",
    "        hidden_dim = config['hidden_dim']\n",
    "        n_layers = config['n_layers']\n",
    "        drop_prob = config['drop_prob']\n",
    "        weight_decay = config['weight_decay']\n",
    "        print(\n",
    "            \"model config: batch_size-{}, lr-{}, number_epoch-{}, hidden_dim-{}, n_layers-{},drop_prob-{},weight_decay-{}\"\n",
    "            .format(batch_size, lr, number_epoch, hidden_dim, n_layers,\n",
    "                    drop_prob, weight_decay))\n",
    "        valid_loss = train_model_hpo(\n",
    "            train_x_list,\n",
    "            train_y_list,\n",
    "            valid_x_list,\n",
    "            valid_y_list,\n",
    "            input_size,\n",
    "            seq_len,\n",
    "            target_len,\n",
    "            mse_thresh,\n",
    "            hidden_dim,\n",
    "            n_layers,\n",
    "            number_epoch,\n",
    "            batch_size,\n",
    "            lr,\n",
    "            drop_prob,\n",
    "            weight_decay,\n",
    "        )\n",
    "        records.append({\n",
    "            'batch_size': batch_size,\n",
    "            'lr': lr,\n",
    "            'number_epoch': number_epoch,\n",
    "            'hidden_dim': hidden_dim,\n",
    "            'n_layers': n_layers,\n",
    "            'drop_prob': drop_prob,\n",
    "            'weight_decay': weight_decay,\n",
    "            'valid_loss': valid_loss\n",
    "        })\n",
    "    return records"
   ]
  },
  {
   "cell_type": "markdown",
   "id": "60dbd3cc",
   "metadata": {},
   "source": [
    "## RUN random search"
   ]
  },
  {
   "cell_type": "code",
   "execution_count": 15,
   "id": "ab4503a5",
   "metadata": {
    "ExecuteTime": {
     "end_time": "2022-01-02T12:26:31.556573Z",
     "start_time": "2022-01-02T12:00:41.289789Z"
    },
    "scrolled": true
   },
   "outputs": [
    {
     "name": "stdout",
     "output_type": "stream",
     "text": [
      "supervised data: shape of x: (25232, 72, 16), shape of y: (25232, 24, 16)\n",
      "model config: batch_size-256, lr-0.01, number_epoch-40, hidden_dim-64, n_layers-3,drop_prob-0,weight_decay-0\n",
      "train dataset 0\n"
     ]
    },
    {
     "name": "stderr",
     "output_type": "stream",
     "text": [
      "Epoch: 1/40...: 100%|█████████| 82/82 [00:10<00:00,  7.65it/s, train_loss=0.0282, valid_loss=0.0361]\n",
      "Epoch: 2/40...: 100%|█████████| 82/82 [00:09<00:00,  8.32it/s, train_loss=0.0298, valid_loss=0.0357]\n",
      "Epoch: 3/40...: 100%|█████████| 82/82 [00:09<00:00,  8.29it/s, train_loss=0.0188, valid_loss=0.0273]\n",
      "Epoch: 4/40...: 100%|█████████| 82/82 [00:09<00:00,  8.96it/s, train_loss=0.0106, valid_loss=0.0161]\n",
      "Epoch: 5/40...: 100%|███████| 82/82 [00:09<00:00,  9.04it/s, train_loss=0.00452, valid_loss=0.00758]\n",
      "Epoch: 6/40...: 100%|███████| 82/82 [00:09<00:00,  8.96it/s, train_loss=0.00266, valid_loss=0.00319]\n",
      "Epoch: 7/40...: 100%|███████| 82/82 [00:09<00:00,  8.86it/s, train_loss=0.00266, valid_loss=0.00265]\n",
      "Epoch: 8/40...: 100%|███████| 82/82 [00:09<00:00,  8.96it/s, train_loss=0.00222, valid_loss=0.00263]\n",
      "Epoch: 9/40...: 100%|███████| 82/82 [00:09<00:00,  8.93it/s, train_loss=0.00269, valid_loss=0.00279]\n",
      "Epoch: 10/40...: 100%|██████| 82/82 [00:09<00:00,  8.90it/s, train_loss=0.00138, valid_loss=0.00224]\n",
      "Epoch: 11/40...: 100%|███████| 82/82 [00:09<00:00,  8.85it/s, train_loss=0.0011, valid_loss=0.00186]\n",
      "Epoch: 12/40...: 100%|██████| 82/82 [00:09<00:00,  8.76it/s, train_loss=0.00105, valid_loss=0.00184]\n",
      "Epoch: 13/40...: 100%|█████| 82/82 [00:09<00:00,  8.62it/s, train_loss=0.000665, valid_loss=0.00196]\n",
      "Epoch: 14/40...: 100%|█████| 82/82 [00:09<00:00,  8.85it/s, train_loss=0.000854, valid_loss=0.00183]\n",
      "Epoch: 15/40...: 100%|█████| 82/82 [00:09<00:00,  8.81it/s, train_loss=0.000569, valid_loss=0.00219]\n",
      "Epoch: 16/40...: 100%|█████| 82/82 [00:09<00:00,  8.75it/s, train_loss=0.000641, valid_loss=0.00188]\n",
      "Epoch: 17/40...: 100%|█████| 82/82 [00:09<00:00,  8.83it/s, train_loss=0.000661, valid_loss=0.00181]\n",
      "Epoch: 18/40...: 100%|█████| 82/82 [00:09<00:00,  8.95it/s, train_loss=0.000769, valid_loss=0.00204]\n",
      "Epoch: 19/40...: 100%|█████| 82/82 [00:09<00:00,  8.66it/s, train_loss=0.000533, valid_loss=0.00172]\n",
      "Epoch: 20/40...: 100%|█████| 82/82 [00:09<00:00,  8.72it/s, train_loss=0.000462, valid_loss=0.00171]\n",
      "Epoch: 21/40...: 100%|██████| 82/82 [00:09<00:00,  8.97it/s, train_loss=0.00038, valid_loss=0.00153]\n",
      "Epoch: 22/40...: 100%|█████| 82/82 [00:09<00:00,  8.85it/s, train_loss=0.000508, valid_loss=0.00192]\n",
      "Epoch: 23/40...: 100%|█████| 82/82 [00:09<00:00,  8.90it/s, train_loss=0.000432, valid_loss=0.00197]\n",
      "Epoch: 24/40...: 100%|██████| 82/82 [00:09<00:00,  8.78it/s, train_loss=0.00038, valid_loss=0.00153]\n",
      "Epoch: 25/40...: 100%|█████| 82/82 [00:09<00:00,  8.88it/s, train_loss=0.000371, valid_loss=0.00151]\n",
      "Epoch: 26/40...: 100%|█████| 82/82 [00:09<00:00,  8.80it/s, train_loss=0.000408, valid_loss=0.00168]\n",
      "Epoch: 27/40...: 100%|█████| 82/82 [00:09<00:00,  8.80it/s, train_loss=0.000423, valid_loss=0.00153]\n",
      "Epoch: 28/40...: 100%|███████| 82/82 [00:09<00:00,  8.95it/s, train_loss=0.00032, valid_loss=0.0015]\n",
      "Epoch: 29/40...: 100%|█████| 82/82 [00:09<00:00,  8.84it/s, train_loss=0.000327, valid_loss=0.00166]\n",
      "Epoch: 30/40...: 100%|█████| 82/82 [00:09<00:00,  8.94it/s, train_loss=0.000451, valid_loss=0.00148]\n",
      "Epoch: 31/40...: 100%|█████| 82/82 [00:09<00:00,  9.06it/s, train_loss=0.000297, valid_loss=0.00168]\n",
      "Epoch: 32/40...: 100%|█████| 82/82 [00:09<00:00,  9.01it/s, train_loss=0.000285, valid_loss=0.00147]\n",
      "Epoch: 33/40...: 100%|█████| 82/82 [00:09<00:00,  8.81it/s, train_loss=0.000386, valid_loss=0.00153]\n",
      "Epoch: 34/40...: 100%|█████| 82/82 [00:09<00:00,  8.92it/s, train_loss=0.000348, valid_loss=0.00169]\n",
      "Epoch: 35/40...: 100%|█████| 82/82 [00:09<00:00,  8.94it/s, train_loss=0.000337, valid_loss=0.00156]\n",
      "Epoch: 36/40...: 100%|█████| 82/82 [00:09<00:00,  8.84it/s, train_loss=0.000327, valid_loss=0.00183]\n",
      "Epoch: 37/40...: 100%|█████| 82/82 [00:09<00:00,  8.98it/s, train_loss=0.000534, valid_loss=0.00169]\n",
      "Epoch: 38/40...: 100%|█████| 82/82 [00:09<00:00,  8.91it/s, train_loss=0.000237, valid_loss=0.00185]\n",
      "Epoch: 39/40...: 100%|█████| 82/82 [00:09<00:00,  8.90it/s, train_loss=0.000281, valid_loss=0.00204]\n",
      "Epoch: 40/40...: 100%|█████| 82/82 [00:09<00:00,  8.94it/s, train_loss=0.000281, valid_loss=0.00152]\n"
     ]
    },
    {
     "name": "stdout",
     "output_type": "stream",
     "text": [
      "model config: batch_size-256, lr-0.01, number_epoch-40, hidden_dim-128, n_layers-2,drop_prob-0,weight_decay-0\n",
      "train dataset 0\n"
     ]
    },
    {
     "name": "stderr",
     "output_type": "stream",
     "text": [
      "Epoch: 1/40...: 100%|█████████| 82/82 [00:09<00:00,  8.91it/s, train_loss=0.0319, valid_loss=0.0351]\n",
      "Epoch: 2/40...: 100%|█████████| 82/82 [00:09<00:00,  8.81it/s, train_loss=0.0313, valid_loss=0.0336]\n",
      "Epoch: 3/40...: 100%|██████████| 82/82 [00:09<00:00,  8.95it/s, train_loss=0.0161, valid_loss=0.023]\n",
      "Epoch: 4/40...: 100%|████████| 82/82 [00:09<00:00,  9.04it/s, train_loss=0.00593, valid_loss=0.0106]\n",
      "Epoch: 5/40...: 100%|███████| 82/82 [00:09<00:00,  8.96it/s, train_loss=0.00508, valid_loss=0.00753]\n",
      "Epoch: 6/40...: 100%|███████| 82/82 [00:09<00:00,  9.03it/s, train_loss=0.00549, valid_loss=0.00825]\n",
      "Epoch: 7/40...: 100%|███████| 82/82 [00:09<00:00,  8.94it/s, train_loss=0.00387, valid_loss=0.00607]\n",
      "Epoch: 8/40...: 100%|███████| 82/82 [00:09<00:00,  8.88it/s, train_loss=0.00557, valid_loss=0.00595]\n",
      "Epoch: 9/40...: 100%|███████| 82/82 [00:09<00:00,  8.84it/s, train_loss=0.00328, valid_loss=0.00528]\n",
      "Epoch: 10/40...: 100%|██████| 82/82 [00:09<00:00,  8.80it/s, train_loss=0.00335, valid_loss=0.00513]\n",
      "Epoch: 11/40...: 100%|██████| 82/82 [00:09<00:00,  8.74it/s, train_loss=0.00678, valid_loss=0.00711]\n",
      "Epoch: 12/40...: 100%|██████| 82/82 [00:09<00:00,  8.90it/s, train_loss=0.00309, valid_loss=0.00447]\n",
      "Epoch: 13/40...: 100%|██████| 82/82 [00:09<00:00,  8.89it/s, train_loss=0.00233, valid_loss=0.00388]\n",
      "Epoch: 14/40...: 100%|██████| 82/82 [00:09<00:00,  8.83it/s, train_loss=0.00233, valid_loss=0.00366]\n",
      "Epoch: 15/40...: 100%|██████| 82/82 [00:09<00:00,  8.82it/s, train_loss=0.00226, valid_loss=0.00325]\n",
      "Epoch: 16/40...: 100%|██████| 82/82 [00:09<00:00,  8.81it/s, train_loss=0.00218, valid_loss=0.00381]\n",
      "Epoch: 17/40...: 100%|██████| 82/82 [00:09<00:00,  8.71it/s, train_loss=0.00198, valid_loss=0.00286]\n",
      "Epoch: 18/40...: 100%|███████| 82/82 [00:09<00:00,  8.64it/s, train_loss=0.0024, valid_loss=0.00304]\n",
      "Epoch: 19/40...: 100%|██████| 82/82 [00:09<00:00,  8.65it/s, train_loss=0.00117, valid_loss=0.00268]\n",
      "Epoch: 20/40...: 100%|██████| 82/82 [00:09<00:00,  8.59it/s, train_loss=0.00131, valid_loss=0.00274]\n",
      "Epoch: 21/40...: 100%|██████| 82/82 [00:09<00:00,  8.67it/s, train_loss=0.00122, valid_loss=0.00233]\n",
      "Epoch: 22/40...: 100%|██████| 82/82 [00:09<00:00,  8.64it/s, train_loss=0.00104, valid_loss=0.00263]\n",
      "Epoch: 23/40...: 100%|█████| 82/82 [00:09<00:00,  8.58it/s, train_loss=0.000934, valid_loss=0.00222]\n",
      "Epoch: 24/40...: 100%|██████| 82/82 [00:09<00:00,  8.72it/s, train_loss=0.00116, valid_loss=0.00259]\n",
      "Epoch: 25/40...: 100%|██████| 82/82 [00:09<00:00,  8.56it/s, train_loss=0.00129, valid_loss=0.00273]\n",
      "Epoch: 26/40...: 100%|█████| 82/82 [00:09<00:00,  8.49it/s, train_loss=0.000817, valid_loss=0.00229]\n",
      "Epoch: 27/40...: 100%|█████| 82/82 [00:09<00:00,  8.83it/s, train_loss=0.000984, valid_loss=0.00279]\n",
      "Epoch: 28/40...: 100%|█████| 82/82 [00:08<00:00,  9.33it/s, train_loss=0.000758, valid_loss=0.00229]\n",
      "Epoch: 29/40...: 100%|██████| 82/82 [00:08<00:00,  9.28it/s, train_loss=0.00107, valid_loss=0.00274]\n",
      "Epoch: 30/40...: 100%|█████| 82/82 [00:08<00:00,  9.42it/s, train_loss=0.000521, valid_loss=0.00229]\n",
      "Epoch: 31/40...: 100%|█████| 82/82 [00:08<00:00,  9.62it/s, train_loss=0.000699, valid_loss=0.00251]\n",
      "Epoch: 32/40...: 100%|█████| 82/82 [00:08<00:00,  9.68it/s, train_loss=0.000651, valid_loss=0.00238]\n",
      "Epoch: 33/40...: 100%|██████| 82/82 [00:08<00:00,  9.69it/s, train_loss=0.00063, valid_loss=0.00219]\n",
      "Epoch: 34/40...: 100%|█████| 82/82 [00:08<00:00,  9.57it/s, train_loss=0.000472, valid_loss=0.00233]\n",
      "Epoch: 35/40...: 100%|█████| 82/82 [00:08<00:00,  9.51it/s, train_loss=0.000699, valid_loss=0.00233]\n",
      "Epoch: 36/40...: 100%|█████| 82/82 [00:08<00:00,  9.28it/s, train_loss=0.000461, valid_loss=0.00238]\n",
      "Epoch: 37/40...: 100%|█████| 82/82 [00:08<00:00,  9.29it/s, train_loss=0.000531, valid_loss=0.00283]\n",
      "Epoch: 38/40...: 100%|█████| 82/82 [00:08<00:00,  9.43it/s, train_loss=0.000488, valid_loss=0.00249]\n",
      "Epoch: 39/40...: 100%|█████| 82/82 [00:08<00:00,  9.37it/s, train_loss=0.000635, valid_loss=0.00257]\n",
      "Epoch: 40/40...: 100%|█████| 82/82 [00:08<00:00,  9.22it/s, train_loss=0.000456, valid_loss=0.00262]\n"
     ]
    },
    {
     "name": "stdout",
     "output_type": "stream",
     "text": [
      "model config: batch_size-512, lr-0.01, number_epoch-40, hidden_dim-128, n_layers-3,drop_prob-0,weight_decay-0\n",
      "train dataset 0\n"
     ]
    },
    {
     "name": "stderr",
     "output_type": "stream",
     "text": [
      "Epoch: 1/40...: 100%|█████████| 41/41 [00:03<00:00, 10.91it/s, train_loss=0.0307, valid_loss=0.0347]\n",
      "Epoch: 2/40...: 100%|█████████| 41/41 [00:03<00:00, 10.77it/s, train_loss=0.0313, valid_loss=0.0356]\n",
      "Epoch: 3/40...: 100%|█████████| 41/41 [00:03<00:00, 10.76it/s, train_loss=0.0305, valid_loss=0.0396]\n",
      "Epoch: 4/40...: 100%|█████████| 41/41 [00:03<00:00, 10.79it/s, train_loss=0.0158, valid_loss=0.0274]\n",
      "Epoch: 5/40...: 100%|█████████| 41/41 [00:03<00:00, 10.61it/s, train_loss=0.0128, valid_loss=0.0227]\n",
      "Epoch: 6/40...: 100%|█████████| 41/41 [00:03<00:00, 10.78it/s, train_loss=0.0118, valid_loss=0.0211]\n",
      "Epoch: 7/40...: 100%|█████████| 41/41 [00:03<00:00, 10.68it/s, train_loss=0.0114, valid_loss=0.0283]\n",
      "Epoch: 8/40...: 100%|█████████| 41/41 [00:03<00:00, 10.67it/s, train_loss=0.0151, valid_loss=0.0234]\n",
      "Epoch: 9/40...: 100%|█████████| 41/41 [00:03<00:00, 10.74it/s, train_loss=0.0116, valid_loss=0.0188]\n",
      "Epoch: 10/40...: 100%|███████| 41/41 [00:03<00:00, 10.41it/s, train_loss=0.00862, valid_loss=0.0168]\n",
      "Epoch: 11/40...: 100%|████████| 41/41 [00:03<00:00, 10.82it/s, train_loss=0.0073, valid_loss=0.0124]\n",
      "Epoch: 12/40...: 100%|███████| 41/41 [00:03<00:00, 10.84it/s, train_loss=0.00846, valid_loss=0.0142]\n",
      "Epoch: 13/40...: 100%|██████| 41/41 [00:03<00:00, 10.75it/s, train_loss=0.00345, valid_loss=0.00546]\n",
      "Epoch: 14/40...: 100%|███████| 41/41 [00:03<00:00, 10.48it/s, train_loss=0.00362, valid_loss=0.0048]\n",
      "Epoch: 15/40...: 100%|██████| 41/41 [00:03<00:00, 10.96it/s, train_loss=0.00211, valid_loss=0.00312]\n",
      "Epoch: 16/40...: 100%|██████| 41/41 [00:03<00:00, 10.72it/s, train_loss=0.00214, valid_loss=0.00292]\n",
      "Epoch: 17/40...: 100%|███████| 41/41 [00:03<00:00, 10.83it/s, train_loss=0.0018, valid_loss=0.00311]\n",
      "Epoch: 18/40...: 100%|██████| 41/41 [00:03<00:00, 10.60it/s, train_loss=0.00169, valid_loss=0.00287]\n",
      "Epoch: 19/40...: 100%|██████| 41/41 [00:03<00:00, 10.73it/s, train_loss=0.00123, valid_loss=0.00255]\n",
      "Epoch: 20/40...: 100%|███████| 41/41 [00:03<00:00, 10.85it/s, train_loss=0.0014, valid_loss=0.00266]\n",
      "Epoch: 21/40...: 100%|██████| 41/41 [00:03<00:00, 10.46it/s, train_loss=0.00186, valid_loss=0.00269]\n",
      "Epoch: 22/40...: 100%|██████| 41/41 [00:03<00:00, 10.68it/s, train_loss=0.00128, valid_loss=0.00235]\n",
      "Epoch: 23/40...: 100%|██████| 41/41 [00:03<00:00, 10.82it/s, train_loss=0.00147, valid_loss=0.00251]\n",
      "Epoch: 24/40...: 100%|█████| 41/41 [00:03<00:00, 10.60it/s, train_loss=0.000991, valid_loss=0.00272]\n",
      "Epoch: 25/40...: 100%|██████| 41/41 [00:03<00:00, 10.51it/s, train_loss=0.00102, valid_loss=0.00219]\n",
      "Epoch: 26/40...: 100%|██████| 41/41 [00:03<00:00, 10.64it/s, train_loss=0.00112, valid_loss=0.00236]\n",
      "Epoch: 27/40...: 100%|██████| 41/41 [00:03<00:00, 10.37it/s, train_loss=0.00127, valid_loss=0.00231]\n",
      "Epoch: 28/40...: 100%|███████| 41/41 [00:03<00:00, 10.50it/s, train_loss=0.00085, valid_loss=0.0023]\n",
      "Epoch: 29/40...: 100%|██████| 41/41 [00:03<00:00, 10.89it/s, train_loss=0.000941, valid_loss=0.0026]\n",
      "Epoch: 30/40...: 100%|█████| 41/41 [00:03<00:00, 10.37it/s, train_loss=0.000709, valid_loss=0.00239]\n",
      "Epoch: 31/40...: 100%|█████| 41/41 [00:03<00:00, 10.83it/s, train_loss=0.000909, valid_loss=0.00263]\n",
      "Epoch: 32/40...: 100%|██████| 41/41 [00:03<00:00, 10.46it/s, train_loss=0.00104, valid_loss=0.00231]\n",
      "Epoch: 33/40...: 100%|█████| 41/41 [00:03<00:00, 10.51it/s, train_loss=0.000904, valid_loss=0.00236]\n",
      "Epoch: 34/40...: 100%|█████| 41/41 [00:03<00:00, 10.48it/s, train_loss=0.000915, valid_loss=0.00241]\n",
      "Epoch: 35/40...: 100%|█████| 41/41 [00:03<00:00, 10.89it/s, train_loss=0.000767, valid_loss=0.00235]\n",
      "Epoch: 36/40...: 100%|█████| 41/41 [00:03<00:00, 10.91it/s, train_loss=0.000725, valid_loss=0.00223]\n",
      "Epoch: 37/40...: 100%|█████| 41/41 [00:03<00:00, 10.71it/s, train_loss=0.000844, valid_loss=0.00265]\n",
      "Epoch: 38/40...: 100%|██████| 41/41 [00:03<00:00, 11.12it/s, train_loss=0.00068, valid_loss=0.00231]\n",
      "Epoch: 39/40...: 100%|█████| 41/41 [00:03<00:00, 10.67it/s, train_loss=0.000613, valid_loss=0.00239]\n",
      "Epoch: 40/40...: 100%|█████| 41/41 [00:03<00:00, 10.95it/s, train_loss=0.000634, valid_loss=0.00254]\n"
     ]
    },
    {
     "name": "stdout",
     "output_type": "stream",
     "text": [
      "model config: batch_size-512, lr-0.01, number_epoch-40, hidden_dim-64, n_layers-2,drop_prob-0,weight_decay-0\n",
      "train dataset 0\n"
     ]
    },
    {
     "name": "stderr",
     "output_type": "stream",
     "text": [
      "Epoch: 1/40...: 100%|█████████| 41/41 [00:03<00:00, 12.69it/s, train_loss=0.0332, valid_loss=0.0346]\n",
      "Epoch: 2/40...: 100%|█████████| 41/41 [00:03<00:00, 11.98it/s, train_loss=0.0303, valid_loss=0.0352]\n",
      "Epoch: 3/40...: 100%|█████████| 41/41 [00:03<00:00, 12.63it/s, train_loss=0.0321, valid_loss=0.0346]\n",
      "Epoch: 4/40...: 100%|█████████| 41/41 [00:03<00:00, 12.23it/s, train_loss=0.0205, valid_loss=0.0298]\n",
      "Epoch: 5/40...: 100%|█████████| 41/41 [00:03<00:00, 12.53it/s, train_loss=0.0161, valid_loss=0.0287]\n",
      "Epoch: 6/40...: 100%|██████████| 41/41 [00:03<00:00, 12.24it/s, train_loss=0.015, valid_loss=0.0182]\n",
      "Epoch: 7/40...: 100%|████████| 41/41 [00:03<00:00, 12.30it/s, train_loss=0.00685, valid_loss=0.0131]\n",
      "Epoch: 8/40...: 100%|████████| 41/41 [00:03<00:00, 12.25it/s, train_loss=0.00607, valid_loss=0.0104]\n",
      "Epoch: 9/40...: 100%|███████| 41/41 [00:03<00:00, 12.10it/s, train_loss=0.00489, valid_loss=0.00798]\n",
      "Epoch: 10/40...: 100%|██████| 41/41 [00:03<00:00, 12.42it/s, train_loss=0.00525, valid_loss=0.00726]\n",
      "Epoch: 11/40...: 100%|██████| 41/41 [00:03<00:00, 11.99it/s, train_loss=0.00407, valid_loss=0.00601]\n",
      "Epoch: 12/40...: 100%|██████| 41/41 [00:03<00:00, 12.57it/s, train_loss=0.00337, valid_loss=0.00523]\n",
      "Epoch: 13/40...: 100%|██████| 41/41 [00:03<00:00, 12.26it/s, train_loss=0.00294, valid_loss=0.00425]\n",
      "Epoch: 14/40...: 100%|██████| 41/41 [00:03<00:00, 12.61it/s, train_loss=0.00343, valid_loss=0.00384]\n",
      "Epoch: 15/40...: 100%|██████| 41/41 [00:03<00:00, 12.63it/s, train_loss=0.00253, valid_loss=0.00396]\n",
      "Epoch: 16/40...: 100%|██████| 41/41 [00:03<00:00, 11.79it/s, train_loss=0.00237, valid_loss=0.00312]\n",
      "Epoch: 17/40...: 100%|██████| 41/41 [00:03<00:00, 12.48it/s, train_loss=0.00207, valid_loss=0.00274]\n",
      "Epoch: 18/40...: 100%|███████| 41/41 [00:03<00:00, 12.57it/s, train_loss=0.00197, valid_loss=0.0023]\n",
      "Epoch: 19/40...: 100%|██████| 41/41 [00:03<00:00, 13.17it/s, train_loss=0.00198, valid_loss=0.00271]\n",
      "Epoch: 20/40...: 100%|███████| 41/41 [00:03<00:00, 13.08it/s, train_loss=0.00171, valid_loss=0.0023]\n",
      "Epoch: 21/40...: 100%|██████| 41/41 [00:03<00:00, 12.60it/s, train_loss=0.00152, valid_loss=0.00214]\n",
      "Epoch: 22/40...: 100%|███████| 41/41 [00:03<00:00, 12.78it/s, train_loss=0.00142, valid_loss=0.0022]\n",
      "Epoch: 23/40...: 100%|████████| 41/41 [00:03<00:00, 13.02it/s, train_loss=0.00139, valid_loss=0.002]\n",
      "Epoch: 24/40...: 100%|██████| 41/41 [00:03<00:00, 12.97it/s, train_loss=0.00149, valid_loss=0.00197]\n",
      "Epoch: 25/40...: 100%|██████| 41/41 [00:03<00:00, 12.57it/s, train_loss=0.00141, valid_loss=0.00239]\n",
      "Epoch: 26/40...: 100%|███████| 41/41 [00:03<00:00, 12.72it/s, train_loss=0.0014, valid_loss=0.00176]\n",
      "Epoch: 27/40...: 100%|██████| 41/41 [00:03<00:00, 12.64it/s, train_loss=0.00161, valid_loss=0.00185]\n",
      "Epoch: 28/40...: 100%|██████| 41/41 [00:03<00:00, 12.79it/s, train_loss=0.00112, valid_loss=0.00194]\n",
      "Epoch: 29/40...: 100%|█████| 41/41 [00:03<00:00, 13.04it/s, train_loss=0.000981, valid_loss=0.00204]\n",
      "Epoch: 30/40...: 100%|██████| 41/41 [00:03<00:00, 13.13it/s, train_loss=0.00226, valid_loss=0.00238]\n",
      "Epoch: 31/40...: 100%|█████| 41/41 [00:03<00:00, 13.23it/s, train_loss=0.000895, valid_loss=0.00154]\n",
      "Epoch: 32/40...: 100%|██████| 41/41 [00:03<00:00, 12.81it/s, train_loss=0.000986, valid_loss=0.0016]\n",
      "Epoch: 33/40...: 100%|███████| 41/41 [00:03<00:00, 12.77it/s, train_loss=0.000964, valid_loss=0.002]\n",
      "Epoch: 34/40...: 100%|█████| 41/41 [00:03<00:00, 12.30it/s, train_loss=0.000905, valid_loss=0.00157]\n",
      "Epoch: 35/40...: 100%|█████| 41/41 [00:03<00:00, 13.11it/s, train_loss=0.000857, valid_loss=0.00151]\n",
      "Epoch: 36/40...: 100%|█████| 41/41 [00:03<00:00, 12.74it/s, train_loss=0.000922, valid_loss=0.00153]\n",
      "Epoch: 37/40...: 100%|█████| 41/41 [00:03<00:00, 12.63it/s, train_loss=0.000773, valid_loss=0.00149]\n",
      "Epoch: 38/40...: 100%|█████| 41/41 [00:03<00:00, 13.11it/s, train_loss=0.000848, valid_loss=0.00148]\n",
      "Epoch: 39/40...: 100%|█████| 41/41 [00:03<00:00, 12.68it/s, train_loss=0.000937, valid_loss=0.00158]\n",
      "Epoch: 40/40...: 100%|█████| 41/41 [00:03<00:00, 12.95it/s, train_loss=0.000854, valid_loss=0.00168]\n"
     ]
    },
    {
     "name": "stdout",
     "output_type": "stream",
     "text": [
      "model config: batch_size-512, lr-0.01, number_epoch-40, hidden_dim-128, n_layers-2,drop_prob-0,weight_decay-0\n",
      "train dataset 0\n"
     ]
    },
    {
     "name": "stderr",
     "output_type": "stream",
     "text": [
      "Epoch: 1/40...: 100%|█████████| 41/41 [00:03<00:00, 12.15it/s, train_loss=0.0312, valid_loss=0.0344]\n",
      "Epoch: 2/40...: 100%|█████████| 41/41 [00:03<00:00, 12.13it/s, train_loss=0.0307, valid_loss=0.0361]\n",
      "Epoch: 3/40...: 100%|█████████| 41/41 [00:03<00:00, 11.95it/s, train_loss=0.0213, valid_loss=0.0377]\n",
      "Epoch: 4/40...: 100%|█████████| 41/41 [00:03<00:00, 12.43it/s, train_loss=0.0159, valid_loss=0.0252]\n",
      "Epoch: 5/40...: 100%|██████████| 41/41 [00:03<00:00, 12.16it/s, train_loss=0.0189, valid_loss=0.032]\n",
      "Epoch: 6/40...: 100%|█████████| 41/41 [00:03<00:00, 12.11it/s, train_loss=0.0138, valid_loss=0.0248]\n",
      "Epoch: 7/40...: 100%|█████████| 41/41 [00:03<00:00, 12.14it/s, train_loss=0.0137, valid_loss=0.0242]\n",
      "Epoch: 8/40...: 100%|█████████| 41/41 [00:03<00:00, 12.17it/s, train_loss=0.0133, valid_loss=0.0233]\n",
      "Epoch: 9/40...: 100%|█████████| 41/41 [00:03<00:00, 12.29it/s, train_loss=0.0147, valid_loss=0.0225]\n",
      "Epoch: 10/40...: 100%|████████| 41/41 [00:03<00:00, 12.16it/s, train_loss=0.0079, valid_loss=0.0149]\n",
      "Epoch: 11/40...: 100%|██████| 41/41 [00:03<00:00, 11.86it/s, train_loss=0.00443, valid_loss=0.00719]\n",
      "Epoch: 12/40...: 100%|███████| 41/41 [00:03<00:00, 12.43it/s, train_loss=0.00379, valid_loss=0.0067]\n",
      "Epoch: 13/40...: 100%|███████| 41/41 [00:03<00:00, 11.98it/s, train_loss=0.00301, valid_loss=0.0058]\n",
      "Epoch: 14/40...: 100%|██████| 41/41 [00:03<00:00, 12.26it/s, train_loss=0.00308, valid_loss=0.00403]\n",
      "Epoch: 15/40...: 100%|██████| 41/41 [00:03<00:00, 12.05it/s, train_loss=0.00235, valid_loss=0.00291]\n",
      "Epoch: 16/40...: 100%|██████| 41/41 [00:03<00:00, 11.89it/s, train_loss=0.00274, valid_loss=0.00378]\n",
      "Epoch: 17/40...: 100%|███████| 41/41 [00:03<00:00, 12.31it/s, train_loss=0.0027, valid_loss=0.00312]\n",
      "Epoch: 18/40...: 100%|███████| 41/41 [00:03<00:00, 12.11it/s, train_loss=0.0016, valid_loss=0.00238]\n",
      "Epoch: 19/40...: 100%|██████| 41/41 [00:03<00:00, 12.34it/s, train_loss=0.00143, valid_loss=0.00224]\n",
      "Epoch: 20/40...: 100%|███████| 41/41 [00:03<00:00, 11.89it/s, train_loss=0.00114, valid_loss=0.0023]\n",
      "Epoch: 21/40...: 100%|██████| 41/41 [00:03<00:00, 12.27it/s, train_loss=0.00124, valid_loss=0.00204]\n",
      "Epoch: 22/40...: 100%|███████| 41/41 [00:03<00:00, 12.20it/s, train_loss=0.00128, valid_loss=0.0018]\n",
      "Epoch: 23/40...: 100%|██████| 41/41 [00:03<00:00, 12.29it/s, train_loss=0.00113, valid_loss=0.00205]\n",
      "Epoch: 24/40...: 100%|███████| 41/41 [00:03<00:00, 12.09it/s, train_loss=0.0014, valid_loss=0.00176]\n",
      "Epoch: 25/40...: 100%|██████| 41/41 [00:03<00:00, 11.92it/s, train_loss=0.00106, valid_loss=0.00198]\n",
      "Epoch: 26/40...: 100%|█████| 41/41 [00:03<00:00, 11.77it/s, train_loss=0.000983, valid_loss=0.00166]\n",
      "Epoch: 27/40...: 100%|█████| 41/41 [00:03<00:00, 12.13it/s, train_loss=0.000856, valid_loss=0.00136]\n",
      "Epoch: 28/40...: 100%|██████| 41/41 [00:03<00:00, 12.24it/s, train_loss=0.00125, valid_loss=0.00235]\n",
      "Epoch: 29/40...: 100%|█████| 41/41 [00:03<00:00, 11.97it/s, train_loss=0.000824, valid_loss=0.00133]\n",
      "Epoch: 30/40...: 100%|█████| 41/41 [00:03<00:00, 12.18it/s, train_loss=0.000784, valid_loss=0.00163]\n",
      "Epoch: 31/40...: 100%|█████| 41/41 [00:03<00:00, 11.60it/s, train_loss=0.000634, valid_loss=0.00136]\n",
      "Epoch: 32/40...: 100%|█████| 41/41 [00:03<00:00, 12.22it/s, train_loss=0.000795, valid_loss=0.00169]\n",
      "Epoch: 33/40...: 100%|█████| 41/41 [00:03<00:00, 12.08it/s, train_loss=0.000648, valid_loss=0.00124]\n",
      "Epoch: 34/40...: 100%|█████| 41/41 [00:03<00:00, 11.77it/s, train_loss=0.000632, valid_loss=0.00123]\n",
      "Epoch: 35/40...: 100%|█████| 41/41 [00:03<00:00, 12.07it/s, train_loss=0.000703, valid_loss=0.00129]\n",
      "Epoch: 36/40...: 100%|█████| 41/41 [00:03<00:00, 11.72it/s, train_loss=0.000729, valid_loss=0.00145]\n",
      "Epoch: 37/40...: 100%|██████| 41/41 [00:03<00:00, 12.05it/s, train_loss=0.00055, valid_loss=0.00137]\n",
      "Epoch: 38/40...: 100%|█████| 41/41 [00:03<00:00, 12.40it/s, train_loss=0.000549, valid_loss=0.00127]\n",
      "Epoch: 39/40...: 100%|█████| 41/41 [00:03<00:00, 12.04it/s, train_loss=0.000577, valid_loss=0.00136]\n",
      "Epoch: 40/40...: 100%|█████| 41/41 [00:03<00:00, 12.12it/s, train_loss=0.000514, valid_loss=0.00128]\n"
     ]
    },
    {
     "name": "stdout",
     "output_type": "stream",
     "text": [
      "model config: batch_size-256, lr-0.01, number_epoch-40, hidden_dim-128, n_layers-3,drop_prob-0,weight_decay-0\n",
      "train dataset 0\n"
     ]
    },
    {
     "name": "stderr",
     "output_type": "stream",
     "text": [
      "Epoch: 1/40...: 100%|██████████| 82/82 [00:09<00:00,  9.01it/s, train_loss=0.031, valid_loss=0.0345]\n",
      "Epoch: 2/40...: 100%|██████████| 82/82 [00:09<00:00,  9.10it/s, train_loss=0.0297, valid_loss=0.035]\n",
      "Epoch: 3/40...: 100%|█████████| 82/82 [00:09<00:00,  8.95it/s, train_loss=0.0139, valid_loss=0.0246]\n",
      "Epoch: 4/40...: 100%|█████████| 82/82 [00:09<00:00,  8.94it/s, train_loss=0.0127, valid_loss=0.0221]\n",
      "Epoch: 5/40...: 100%|█████████| 82/82 [00:09<00:00,  9.09it/s, train_loss=0.0144, valid_loss=0.0212]\n",
      "Epoch: 6/40...: 100%|████████| 82/82 [00:09<00:00,  8.98it/s, train_loss=0.00845, valid_loss=0.0144]\n",
      "Epoch: 7/40...: 100%|████████| 82/82 [00:09<00:00,  8.97it/s, train_loss=0.00749, valid_loss=0.0127]\n",
      "Epoch: 8/40...: 100%|███████| 82/82 [00:09<00:00,  9.04it/s, train_loss=0.00297, valid_loss=0.00619]\n",
      "Epoch: 9/40...: 100%|███████| 82/82 [00:09<00:00,  9.05it/s, train_loss=0.00331, valid_loss=0.00506]\n",
      "Epoch: 10/40...: 100%|██████| 82/82 [00:08<00:00,  9.13it/s, train_loss=0.00347, valid_loss=0.00518]\n",
      "Epoch: 11/40...: 100%|██████| 82/82 [00:08<00:00,  9.12it/s, train_loss=0.00204, valid_loss=0.00312]\n",
      "Epoch: 12/40...: 100%|██████| 82/82 [00:09<00:00,  9.03it/s, train_loss=0.00246, valid_loss=0.00322]\n",
      "Epoch: 13/40...: 100%|██████| 82/82 [00:09<00:00,  9.01it/s, train_loss=0.00196, valid_loss=0.00295]\n",
      "Epoch: 14/40...: 100%|██████| 82/82 [00:08<00:00,  9.12it/s, train_loss=0.00187, valid_loss=0.00301]\n",
      "Epoch: 15/40...: 100%|██████| 82/82 [00:10<00:00,  7.91it/s, train_loss=0.00144, valid_loss=0.00294]\n",
      "Epoch: 16/40...: 100%|████████| 82/82 [00:10<00:00,  7.99it/s, train_loss=0.002, valid_loss=0.00294]\n",
      "Epoch: 17/40...: 100%|██████| 82/82 [00:10<00:00,  7.97it/s, train_loss=0.00199, valid_loss=0.00331]\n",
      "Epoch: 18/40...: 100%|██████| 82/82 [00:10<00:00,  7.92it/s, train_loss=0.00158, valid_loss=0.00264]\n",
      "Epoch: 19/40...: 100%|██████| 82/82 [00:10<00:00,  8.00it/s, train_loss=0.00228, valid_loss=0.00512]\n",
      "Epoch: 20/40...: 100%|██████| 82/82 [00:10<00:00,  8.02it/s, train_loss=0.00211, valid_loss=0.00275]\n",
      "Epoch: 21/40...: 100%|██████| 82/82 [00:10<00:00,  7.93it/s, train_loss=0.00153, valid_loss=0.00331]\n",
      "Epoch: 22/40...: 100%|██████| 82/82 [00:10<00:00,  7.94it/s, train_loss=0.00102, valid_loss=0.00235]\n",
      "Epoch: 23/40...: 100%|██████| 82/82 [00:10<00:00,  7.99it/s, train_loss=0.00131, valid_loss=0.00246]\n",
      "Epoch: 24/40...: 100%|██████| 82/82 [00:10<00:00,  7.89it/s, train_loss=0.000978, valid_loss=0.0023]\n",
      "Epoch: 25/40...: 100%|█████| 82/82 [00:10<00:00,  7.97it/s, train_loss=0.000793, valid_loss=0.00234]\n",
      "Epoch: 26/40...: 100%|█████| 82/82 [00:10<00:00,  7.95it/s, train_loss=0.000799, valid_loss=0.00227]\n",
      "Epoch: 27/40...: 100%|█████| 82/82 [00:10<00:00,  7.89it/s, train_loss=0.000802, valid_loss=0.00228]\n",
      "Epoch: 28/40...: 100%|█████| 82/82 [00:10<00:00,  7.97it/s, train_loss=0.000706, valid_loss=0.00236]\n",
      "Epoch: 29/40...: 100%|██████| 82/82 [00:10<00:00,  7.95it/s, train_loss=0.000554, valid_loss=0.0024]\n",
      "Epoch: 30/40...: 100%|█████| 82/82 [00:10<00:00,  7.88it/s, train_loss=0.000586, valid_loss=0.00241]\n",
      "Epoch: 31/40...: 100%|█████| 82/82 [00:10<00:00,  7.94it/s, train_loss=0.000525, valid_loss=0.00237]\n",
      "Epoch: 32/40...: 100%|█████| 82/82 [00:09<00:00,  8.75it/s, train_loss=0.000476, valid_loss=0.00244]\n",
      "Epoch: 33/40...: 100%|█████| 82/82 [00:09<00:00,  9.03it/s, train_loss=0.000444, valid_loss=0.00248]\n",
      "Epoch: 34/40...: 100%|█████| 82/82 [00:08<00:00,  9.18it/s, train_loss=0.000612, valid_loss=0.00254]\n",
      "Epoch: 35/40...: 100%|█████| 82/82 [00:09<00:00,  9.06it/s, train_loss=0.000483, valid_loss=0.00253]\n",
      "Epoch: 36/40...: 100%|█████| 82/82 [00:08<00:00,  9.12it/s, train_loss=0.000538, valid_loss=0.00282]\n",
      "Epoch: 37/40...: 100%|█████| 82/82 [00:09<00:00,  8.98it/s, train_loss=0.000354, valid_loss=0.00254]\n",
      "Epoch: 38/40...: 100%|██████| 82/82 [00:08<00:00,  9.14it/s, train_loss=0.000332, valid_loss=0.0026]\n",
      "Epoch: 39/40...: 100%|█████| 82/82 [00:09<00:00,  8.91it/s, train_loss=0.000367, valid_loss=0.00261]\n",
      "Epoch: 40/40...: 100%|█████| 82/82 [00:09<00:00,  9.09it/s, train_loss=0.000365, valid_loss=0.00258]\n"
     ]
    }
   ],
   "source": [
    "random_seed_set(42)\n",
    "records = run_model_hpo()"
   ]
  },
  {
   "cell_type": "markdown",
   "id": "ded7d0d6",
   "metadata": {
    "ExecuteTime": {
     "end_time": "2021-12-22T08:52:06.844501Z",
     "start_time": "2021-12-22T08:52:06.830928Z"
    }
   },
   "source": [
    "## find the best hyper-parameters"
   ]
  },
  {
   "cell_type": "code",
   "execution_count": 16,
   "id": "f33e0fe0",
   "metadata": {
    "ExecuteTime": {
     "end_time": "2022-01-02T12:33:58.056176Z",
     "start_time": "2022-01-02T12:33:58.027117Z"
    }
   },
   "outputs": [
    {
     "data": {
      "text/html": [
       "<div>\n",
       "<style scoped>\n",
       "    .dataframe tbody tr th:only-of-type {\n",
       "        vertical-align: middle;\n",
       "    }\n",
       "\n",
       "    .dataframe tbody tr th {\n",
       "        vertical-align: top;\n",
       "    }\n",
       "\n",
       "    .dataframe thead th {\n",
       "        text-align: right;\n",
       "    }\n",
       "</style>\n",
       "<table border=\"1\" class=\"dataframe\">\n",
       "  <thead>\n",
       "    <tr style=\"text-align: right;\">\n",
       "      <th></th>\n",
       "      <th>batch_size</th>\n",
       "      <th>lr</th>\n",
       "      <th>number_epoch</th>\n",
       "      <th>hidden_dim</th>\n",
       "      <th>n_layers</th>\n",
       "      <th>drop_prob</th>\n",
       "      <th>weight_decay</th>\n",
       "      <th>valid_loss</th>\n",
       "    </tr>\n",
       "  </thead>\n",
       "  <tbody>\n",
       "    <tr>\n",
       "      <th>4</th>\n",
       "      <td>512</td>\n",
       "      <td>0.01</td>\n",
       "      <td>40</td>\n",
       "      <td>128</td>\n",
       "      <td>2</td>\n",
       "      <td>0</td>\n",
       "      <td>0</td>\n",
       "      <td>0.001191</td>\n",
       "    </tr>\n",
       "    <tr>\n",
       "      <th>3</th>\n",
       "      <td>512</td>\n",
       "      <td>0.01</td>\n",
       "      <td>40</td>\n",
       "      <td>64</td>\n",
       "      <td>2</td>\n",
       "      <td>0</td>\n",
       "      <td>0</td>\n",
       "      <td>0.001380</td>\n",
       "    </tr>\n",
       "    <tr>\n",
       "      <th>0</th>\n",
       "      <td>256</td>\n",
       "      <td>0.01</td>\n",
       "      <td>40</td>\n",
       "      <td>64</td>\n",
       "      <td>3</td>\n",
       "      <td>0</td>\n",
       "      <td>0</td>\n",
       "      <td>0.001387</td>\n",
       "    </tr>\n",
       "    <tr>\n",
       "      <th>1</th>\n",
       "      <td>256</td>\n",
       "      <td>0.01</td>\n",
       "      <td>40</td>\n",
       "      <td>128</td>\n",
       "      <td>2</td>\n",
       "      <td>0</td>\n",
       "      <td>0</td>\n",
       "      <td>0.002047</td>\n",
       "    </tr>\n",
       "    <tr>\n",
       "      <th>2</th>\n",
       "      <td>512</td>\n",
       "      <td>0.01</td>\n",
       "      <td>40</td>\n",
       "      <td>128</td>\n",
       "      <td>3</td>\n",
       "      <td>0</td>\n",
       "      <td>0</td>\n",
       "      <td>0.002170</td>\n",
       "    </tr>\n",
       "    <tr>\n",
       "      <th>5</th>\n",
       "      <td>256</td>\n",
       "      <td>0.01</td>\n",
       "      <td>40</td>\n",
       "      <td>128</td>\n",
       "      <td>3</td>\n",
       "      <td>0</td>\n",
       "      <td>0</td>\n",
       "      <td>0.002215</td>\n",
       "    </tr>\n",
       "  </tbody>\n",
       "</table>\n",
       "</div>"
      ],
      "text/plain": [
       "   batch_size    lr  number_epoch  hidden_dim  n_layers  drop_prob  \\\n",
       "4         512  0.01            40         128         2          0   \n",
       "3         512  0.01            40          64         2          0   \n",
       "0         256  0.01            40          64         3          0   \n",
       "1         256  0.01            40         128         2          0   \n",
       "2         512  0.01            40         128         3          0   \n",
       "5         256  0.01            40         128         3          0   \n",
       "\n",
       "   weight_decay  valid_loss  \n",
       "4             0    0.001191  \n",
       "3             0    0.001380  \n",
       "0             0    0.001387  \n",
       "1             0    0.002047  \n",
       "2             0    0.002170  \n",
       "5             0    0.002215  "
      ]
     },
     "execution_count": 16,
     "metadata": {},
     "output_type": "execute_result"
    }
   ],
   "source": [
    "records = pd.DataFrame(records).sort_values(by='valid_loss')\n",
    "records.to_csv('./records/Seq2Seq_TCN_records.csv', mode='a', index=False, header=False)\n",
    "records"
   ]
  },
  {
   "cell_type": "markdown",
   "id": "ded47372",
   "metadata": {},
   "source": [
    "## retrain a model"
   ]
  },
  {
   "cell_type": "code",
   "execution_count": 17,
   "id": "19f91de3",
   "metadata": {
    "ExecuteTime": {
     "end_time": "2022-01-09T14:34:16.764256Z",
     "start_time": "2022-01-09T14:34:16.740284Z"
    },
    "code_folding": []
   },
   "outputs": [],
   "source": [
    "def train_model(train_x,\n",
    "                train_y,\n",
    "                valid_x,\n",
    "                valid_y,\n",
    "                input_size,\n",
    "                seq_len,\n",
    "                target_len,\n",
    "                mse_thresh,\n",
    "                hidden_dim,\n",
    "                n_layers,\n",
    "                number_epoch,\n",
    "                batch_size,\n",
    "                lr,\n",
    "                drop_prob,\n",
    "                weight_decay):\n",
    "    while (1):\n",
    "        model = Seq2Seq_TCN(input_size, hidden_dim, drop_prob)\n",
    "        model = model.to(device)\n",
    "        criterion = nn.MSELoss()\n",
    "        optimizer = torch.optim.Adam(model.parameters(), lr=lr, weight_decay=weight_decay)\n",
    "        scheduler = torch.optim.lr_scheduler.StepLR(optimizer, 1, gamma=0.98)\n",
    "        valid_loss_min = np.Inf\n",
    "        train_dataset = TensorDataset(torch.FloatTensor(train_x),\n",
    "                                      torch.FloatTensor(train_y))\n",
    "        valid_dataset = TensorDataset(torch.FloatTensor(valid_x),\n",
    "                                      torch.FloatTensor(valid_y))\n",
    "\n",
    "        train_loader = DataLoader(dataset=train_dataset,\n",
    "                                  batch_size=batch_size,\n",
    "                                  shuffle=True,\n",
    "                                  drop_last=True)\n",
    "        valid_loader = DataLoader(dataset=valid_dataset,\n",
    "                                  batch_size=batch_size,\n",
    "                                  shuffle=True,\n",
    "                                  drop_last=True)\n",
    "        train_losses = list()\n",
    "\n",
    "        num_without_imp = 0\n",
    "        \n",
    "        train_loss_list = []\n",
    "        valid_loss_list = []\n",
    "        #train\n",
    "        for epoch in range(1, number_epoch + 1):\n",
    "            loop = tqdm(enumerate(train_loader),\n",
    "                        total=len(train_loader),\n",
    "                        leave=True, ncols=100)\n",
    "            for i, (inputs, labels) in loop:\n",
    "                inputs = inputs.to(device)\n",
    "                labels = labels.to(device)\n",
    "                optimizer.zero_grad()\n",
    "                encoder_inputs = inputs\n",
    "                # decoder_inputs = torch.cat((inputs[:, -1:, :], labels[:, :-1, :]), dim=1)\n",
    "                decoder_inputs = labels\n",
    "                outputs = model(encoder_inputs, decoder_inputs)                                \n",
    "                loss = criterion(outputs, labels[:, :, -1])\n",
    "                train_losses.append(loss.item)\n",
    "                loss.backward()\n",
    "                optimizer.step()\n",
    "\n",
    "                # eval\n",
    "                if i % 5 == 0:\n",
    "                    num_without_imp = num_without_imp + 1\n",
    "                    valid_losses = list()\n",
    "                    model.eval()\n",
    "                    for inp, lab in valid_loader:\n",
    "                        inp = inp.to(device)\n",
    "                        lab = lab.to(device)\n",
    "                        encoder_inp = inp\n",
    "                        # decoder_inp = torch.cat((inp[:, -1:, :], lab[:, :-1, :]), dim=1)\n",
    "                        decoder_inp = lab\n",
    "                        out = model(encoder_inp, decoder_inp)\n",
    "                        valid_loss = criterion(out, lab[:, :, -1])\n",
    "                        valid_losses.append(valid_loss.item())\n",
    "                    model.train()\n",
    "                    loop.set_description(\"Epoch: {}/{}...\".format(\n",
    "                        epoch, number_epoch))\n",
    "                    loop.set_postfix(train_loss=loss.item(),\n",
    "                                     valid_loss=np.mean(valid_losses))\n",
    "                    train_loss_list.append(loss.item())\n",
    "                    valid_loss_list.append(np.mean(valid_losses))\n",
    "                    if np.mean(valid_losses) < valid_loss_min:\n",
    "                        num_without_imp = 0\n",
    "                        torch.save(model.state_dict(),\n",
    "                                   \"./model/seq2seq_TCN_state_dict.pt\")\n",
    "                        valid_loss_min = np.mean(valid_losses)\n",
    "            scheduler.step()\n",
    "        if valid_loss_min < mse_thresh:\n",
    "            break\n",
    "    return model, train_loss_list, valid_loss_list"
   ]
  },
  {
   "cell_type": "markdown",
   "id": "64cb8fc2",
   "metadata": {},
   "source": [
    "## test results"
   ]
  },
  {
   "cell_type": "code",
   "execution_count": 18,
   "id": "978a8b73",
   "metadata": {
    "ExecuteTime": {
     "end_time": "2022-01-09T14:34:18.186811Z",
     "start_time": "2022-01-09T14:34:18.168785Z"
    },
    "code_folding": []
   },
   "outputs": [],
   "source": [
    "def test_model(model, test_x, test_y, scaler_y, seq_len, target_len,\n",
    "               batch_size):\n",
    "    test_dataset = TensorDataset(torch.FloatTensor(test_x),\n",
    "                                 torch.FloatTensor(test_y))\n",
    "    test_loader = DataLoader(dataset=test_dataset,\n",
    "                             batch_size=batch_size,\n",
    "                             shuffle=False,\n",
    "                             drop_last=True)\n",
    "    model.load_state_dict(torch.load('./model/seq2seq_TCN_state_dict.pt'))\n",
    "    y_pred = []\n",
    "    y_true = []\n",
    "    with torch.no_grad():\n",
    "        model.eval()\n",
    "        for inputs, labels in test_loader:\n",
    "            inputs = inputs.to(device)\n",
    "            labels = labels.to(device)\n",
    "            encoder_inputs = inputs\n",
    "            # decoder_inputs = torch.cat((inputs[:, -1:, :], labels[:, :-1, :]),\n",
    "            #                           dim=1)\n",
    "            decoder_inputs = labels\n",
    "            outputs = model(encoder_inputs, decoder_inputs)\n",
    "            y_pred += outputs.cpu().numpy().flatten().tolist()\n",
    "            y_true += labels[:, :, -1].cpu().numpy().flatten().tolist()\n",
    "    y_pred = np.array(y_pred).reshape(-1, 1)\n",
    "    y_true = np.array(y_true).reshape(-1, 1)\n",
    "    #     pdb.set_trace()\n",
    "    load_pred = scaler_y.inverse_transform(y_pred)\n",
    "    load_true = scaler_y.inverse_transform(y_true)\n",
    "    mean_pred = np.mean(load_pred)\n",
    "    mean_true = np.mean(load_true)\n",
    "    MAPE = np.mean(np.abs(load_true - load_pred) / load_true)\n",
    "    SMAPE = 2 * np.mean(\n",
    "        np.abs(load_true - load_pred) / (load_true + load_pred))\n",
    "    MAE = np.mean(np.abs(load_true - load_pred))\n",
    "    RMSE = np.sqrt(np.mean(np.square(load_true - load_pred)))\n",
    "    RRSE = np.sqrt(np.sum(np.square(load_true - load_pred))) / np.sqrt(\n",
    "        np.sum(np.square(load_true - mean_true)))\n",
    "    CORR = np.mean(\n",
    "        np.sum((load_true - mean_true) * (load_pred - mean_pred)) /\n",
    "        np.sqrt(np.sum(\n",
    "            (load_true - mean_true)**2 * (load_pred - mean_pred)**2)))\n",
    "    return MAPE, SMAPE, MAE, RMSE, RRSE, CORR, load_pred, load_true"
   ]
  },
  {
   "cell_type": "markdown",
   "id": "75c46ae7",
   "metadata": {},
   "source": [
    "## RUN model retraining"
   ]
  },
  {
   "cell_type": "code",
   "execution_count": 70,
   "id": "f1770307",
   "metadata": {
    "ExecuteTime": {
     "end_time": "2022-01-10T07:57:54.400824Z",
     "start_time": "2022-01-10T07:57:54.383894Z"
    }
   },
   "outputs": [],
   "source": [
    "def run_model_retraining(seq_len=seq_len,\n",
    "                         target_len=target_len,\n",
    "                         mse_thresh=mse_thresh):\n",
    "    train_data = data[:int(0.8 * len(data))]\n",
    "    train_data, scaler, scaler_y = normalization(train_data)\n",
    "    train_x, train_y = series_to_supervise(train_data, seq_len, target_len)\n",
    "\n",
    "    valid_x = train_x[int(0.8 * len(train_x)):]\n",
    "    valid_y = train_y[int(0.8 * len(train_y)):]\n",
    "    train_x = train_x[:int(0.8 * len(train_x))]\n",
    "    train_y = train_y[:int(0.8 * len(train_y))]\n",
    "    input_size = train_x.shape[2]\n",
    "\n",
    "    #     hyper-parameters define\n",
    "    batch_size = 256\n",
    "    lr = 0.01\n",
    "    number_epoch = 80\n",
    "    hidden_dim = 64\n",
    "    n_layers = 2\n",
    "    drop_prob = 0.5\n",
    "    weight_decay = 0\n",
    "    mse_thresh = 0.01\n",
    "\n",
    "    model, train_loss_list, valid_loss_list = train_model(\n",
    "        train_x, train_y, valid_x, valid_y, input_size, seq_len, target_len,\n",
    "        mse_thresh, hidden_dim, n_layers, number_epoch, batch_size, lr,\n",
    "        drop_prob, weight_decay)\n",
    "\n",
    "    # plot training process\n",
    "    plt.plot(train_loss_list[10:], 'm', label='train_loss')\n",
    "    plt.plot(valid_loss_list[10:], 'g', label='valid_loss')\n",
    "    plt.grid('both')\n",
    "    plt.legend()\n",
    "    # test\n",
    "\n",
    "    test_data = data[int(0.8 * len(data)):]\n",
    "    test_data = scaler.transform(test_data)\n",
    "    test_x, test_y = series_to_supervise(test_data, seq_len, target_len)\n",
    "    MAPE, SMAPE, MAE, RMSE, RRSE, CORR, load_pred, load_true = test_model(\n",
    "        model, test_x, test_y, scaler_y, seq_len, target_len, batch_size)\n",
    "    return MAPE, SMAPE, MAE, RMSE, RRSE, CORR, load_pred, load_true"
   ]
  },
  {
   "cell_type": "code",
   "execution_count": 107,
   "id": "e9c3e349",
   "metadata": {
    "ExecuteTime": {
     "end_time": "2022-01-10T15:28:41.055769Z",
     "start_time": "2022-01-10T15:13:57.986478Z"
    },
    "scrolled": false
   },
   "outputs": [
    {
     "name": "stdout",
     "output_type": "stream",
     "text": [
      "supervised data: shape of x: (25232, 72, 16), shape of y: (25232, 24, 16)\n"
     ]
    },
    {
     "name": "stderr",
     "output_type": "stream",
     "text": [
      "Epoch: 1/80...: 100%|█████████| 78/78 [00:11<00:00,  7.06it/s, train_loss=0.0152, valid_loss=0.0304]\n",
      "Epoch: 2/80...: 100%|█████████| 78/78 [00:10<00:00,  7.10it/s, train_loss=0.0062, valid_loss=0.0181]\n",
      "Epoch: 3/80...: 100%|███████| 78/78 [00:11<00:00,  7.01it/s, train_loss=0.00526, valid_loss=0.00898]\n",
      "Epoch: 4/80...: 100%|███████| 78/78 [00:10<00:00,  7.13it/s, train_loss=0.00318, valid_loss=0.00752]\n",
      "Epoch: 5/80...: 100%|███████| 78/78 [00:11<00:00,  7.06it/s, train_loss=0.00389, valid_loss=0.00656]\n",
      "Epoch: 6/80...: 100%|███████| 78/78 [00:11<00:00,  7.06it/s, train_loss=0.00304, valid_loss=0.00363]\n",
      "Epoch: 7/80...: 100%|███████| 78/78 [00:11<00:00,  7.04it/s, train_loss=0.00319, valid_loss=0.00294]\n",
      "Epoch: 8/80...: 100%|███████| 78/78 [00:10<00:00,  7.13it/s, train_loss=0.00221, valid_loss=0.00242]\n",
      "Epoch: 9/80...: 100%|████████| 78/78 [00:10<00:00,  7.18it/s, train_loss=0.00208, valid_loss=0.0034]\n",
      "Epoch: 10/80...: 100%|██████| 78/78 [00:11<00:00,  7.07it/s, train_loss=0.00199, valid_loss=0.00247]\n",
      "Epoch: 11/80...: 100%|███████| 78/78 [00:10<00:00,  7.13it/s, train_loss=0.00161, valid_loss=0.0026]\n",
      "Epoch: 12/80...: 100%|██████| 78/78 [00:10<00:00,  7.12it/s, train_loss=0.00126, valid_loss=0.00209]\n",
      "Epoch: 13/80...: 100%|██████| 78/78 [00:10<00:00,  7.15it/s, train_loss=0.00145, valid_loss=0.00241]\n",
      "Epoch: 14/80...: 100%|██████| 78/78 [00:11<00:00,  7.07it/s, train_loss=0.00133, valid_loss=0.00246]\n",
      "Epoch: 15/80...: 100%|██████| 78/78 [00:10<00:00,  7.15it/s, train_loss=0.00172, valid_loss=0.00306]\n",
      "Epoch: 16/80...: 100%|██████| 78/78 [00:10<00:00,  7.11it/s, train_loss=0.00133, valid_loss=0.00197]\n",
      "Epoch: 17/80...: 100%|█████| 78/78 [00:11<00:00,  7.09it/s, train_loss=0.000974, valid_loss=0.00211]\n",
      "Epoch: 18/80...: 100%|█████| 78/78 [00:11<00:00,  7.00it/s, train_loss=0.000935, valid_loss=0.00193]\n",
      "Epoch: 19/80...: 100%|█████| 78/78 [00:10<00:00,  7.13it/s, train_loss=0.000765, valid_loss=0.00176]\n",
      "Epoch: 20/80...: 100%|██████| 78/78 [00:11<00:00,  7.08it/s, train_loss=0.00111, valid_loss=0.00181]\n",
      "Epoch: 21/80...: 100%|██████| 78/78 [00:10<00:00,  7.10it/s, train_loss=0.00064, valid_loss=0.00179]\n",
      "Epoch: 22/80...: 100%|██████| 78/78 [00:10<00:00,  7.15it/s, train_loss=0.00066, valid_loss=0.00161]\n",
      "Epoch: 23/80...: 100%|█████| 78/78 [00:10<00:00,  7.14it/s, train_loss=0.000589, valid_loss=0.00228]\n",
      "Epoch: 24/80...: 100%|█████| 78/78 [00:10<00:00,  7.12it/s, train_loss=0.000627, valid_loss=0.00147]\n",
      "Epoch: 25/80...: 100%|█████| 78/78 [00:10<00:00,  7.11it/s, train_loss=0.000794, valid_loss=0.00265]\n",
      "Epoch: 26/80...: 100%|██████| 78/78 [00:10<00:00,  7.15it/s, train_loss=0.00102, valid_loss=0.00278]\n",
      "Epoch: 27/80...: 100%|█████| 78/78 [00:10<00:00,  7.18it/s, train_loss=0.000448, valid_loss=0.00204]\n",
      "Epoch: 28/80...: 100%|█████| 78/78 [00:11<00:00,  7.07it/s, train_loss=0.000547, valid_loss=0.00208]\n",
      "Epoch: 29/80...: 100%|█████| 78/78 [00:10<00:00,  7.16it/s, train_loss=0.000684, valid_loss=0.00208]\n",
      "Epoch: 30/80...: 100%|██████| 78/78 [00:10<00:00,  7.20it/s, train_loss=0.000526, valid_loss=0.0019]\n",
      "Epoch: 31/80...: 100%|█████| 78/78 [00:10<00:00,  7.13it/s, train_loss=0.000523, valid_loss=0.00211]\n",
      "Epoch: 32/80...: 100%|█████| 78/78 [00:10<00:00,  7.12it/s, train_loss=0.000516, valid_loss=0.00201]\n",
      "Epoch: 33/80...: 100%|███████| 78/78 [00:10<00:00,  7.15it/s, train_loss=0.0008, valid_loss=0.00164]\n",
      "Epoch: 34/80...: 100%|█████| 78/78 [00:10<00:00,  7.17it/s, train_loss=0.000381, valid_loss=0.00179]\n",
      "Epoch: 35/80...: 100%|█████| 78/78 [00:10<00:00,  7.11it/s, train_loss=0.000398, valid_loss=0.00181]\n",
      "Epoch: 36/80...: 100%|█████| 78/78 [00:11<00:00,  7.06it/s, train_loss=0.000538, valid_loss=0.00212]\n",
      "Epoch: 37/80...: 100%|█████| 78/78 [00:10<00:00,  7.19it/s, train_loss=0.000572, valid_loss=0.00187]\n",
      "Epoch: 38/80...: 100%|█████| 78/78 [00:10<00:00,  7.17it/s, train_loss=0.000429, valid_loss=0.00204]\n",
      "Epoch: 39/80...: 100%|█████| 78/78 [00:10<00:00,  7.20it/s, train_loss=0.000414, valid_loss=0.00233]\n",
      "Epoch: 40/80...: 100%|█████| 78/78 [00:11<00:00,  7.07it/s, train_loss=0.000391, valid_loss=0.00219]\n",
      "Epoch: 41/80...: 100%|██████| 78/78 [00:10<00:00,  7.25it/s, train_loss=0.00073, valid_loss=0.00232]\n",
      "Epoch: 42/80...: 100%|█████| 78/78 [00:10<00:00,  7.19it/s, train_loss=0.000637, valid_loss=0.00214]\n",
      "Epoch: 43/80...: 100%|█████| 78/78 [00:11<00:00,  7.02it/s, train_loss=0.000425, valid_loss=0.00204]\n",
      "Epoch: 44/80...: 100%|██████| 78/78 [00:10<00:00,  7.14it/s, train_loss=0.000609, valid_loss=0.0022]\n",
      "Epoch: 45/80...: 100%|█████| 78/78 [00:10<00:00,  7.18it/s, train_loss=0.000467, valid_loss=0.00189]\n",
      "Epoch: 46/80...: 100%|██████| 78/78 [00:10<00:00,  7.16it/s, train_loss=0.000464, valid_loss=0.0022]\n",
      "Epoch: 47/80...: 100%|██████| 78/78 [00:11<00:00,  7.01it/s, train_loss=0.00034, valid_loss=0.00205]\n",
      "Epoch: 48/80...: 100%|█████| 78/78 [00:10<00:00,  7.15it/s, train_loss=0.000333, valid_loss=0.00221]\n",
      "Epoch: 49/80...: 100%|█████| 78/78 [00:10<00:00,  7.16it/s, train_loss=0.000276, valid_loss=0.00192]\n",
      "Epoch: 50/80...: 100%|█████| 78/78 [00:10<00:00,  7.14it/s, train_loss=0.000508, valid_loss=0.00203]\n",
      "Epoch: 51/80...: 100%|██████| 78/78 [00:11<00:00,  7.06it/s, train_loss=0.000295, valid_loss=0.0022]\n",
      "Epoch: 52/80...: 100%|██████| 78/78 [00:10<00:00,  7.16it/s, train_loss=0.000422, valid_loss=0.0021]\n",
      "Epoch: 53/80...: 100%|█████| 78/78 [00:10<00:00,  7.17it/s, train_loss=0.000271, valid_loss=0.00208]\n",
      "Epoch: 54/80...: 100%|█████| 78/78 [00:11<00:00,  7.07it/s, train_loss=0.000289, valid_loss=0.00203]\n",
      "Epoch: 55/80...: 100%|█████| 78/78 [00:10<00:00,  7.15it/s, train_loss=0.000392, valid_loss=0.00219]\n",
      "Epoch: 56/80...: 100%|█████| 78/78 [00:10<00:00,  7.11it/s, train_loss=0.000465, valid_loss=0.00208]\n",
      "Epoch: 57/80...: 100%|█████| 78/78 [00:10<00:00,  7.17it/s, train_loss=0.000262, valid_loss=0.00229]\n",
      "Epoch: 58/80...: 100%|███████| 78/78 [00:11<00:00,  7.07it/s, train_loss=0.0003, valid_loss=0.00215]\n",
      "Epoch: 59/80...: 100%|█████| 78/78 [00:10<00:00,  7.19it/s, train_loss=0.000247, valid_loss=0.00184]\n",
      "Epoch: 60/80...: 100%|█████| 78/78 [00:10<00:00,  7.16it/s, train_loss=0.000262, valid_loss=0.00189]\n",
      "Epoch: 61/80...: 100%|█████| 78/78 [00:10<00:00,  7.12it/s, train_loss=0.000411, valid_loss=0.00183]\n",
      "Epoch: 62/80...: 100%|█████| 78/78 [00:10<00:00,  7.10it/s, train_loss=0.000269, valid_loss=0.00187]\n",
      "Epoch: 63/80...: 100%|█████| 78/78 [00:10<00:00,  7.13it/s, train_loss=0.000246, valid_loss=0.00183]\n",
      "Epoch: 64/80...: 100%|█████| 78/78 [00:10<00:00,  7.14it/s, train_loss=0.000306, valid_loss=0.00207]\n",
      "Epoch: 65/80...: 100%|█████| 78/78 [00:11<00:00,  7.09it/s, train_loss=0.000394, valid_loss=0.00186]\n",
      "Epoch: 66/80...: 100%|█████| 78/78 [00:10<00:00,  7.13it/s, train_loss=0.000293, valid_loss=0.00185]\n",
      "Epoch: 67/80...: 100%|█████| 78/78 [00:11<00:00,  7.08it/s, train_loss=0.000324, valid_loss=0.00208]\n",
      "Epoch: 68/80...: 100%|█████| 78/78 [00:10<00:00,  7.14it/s, train_loss=0.000251, valid_loss=0.00188]\n",
      "Epoch: 69/80...: 100%|██████| 78/78 [00:11<00:00,  7.03it/s, train_loss=0.00023, valid_loss=0.00174]\n",
      "Epoch: 70/80...: 100%|█████| 78/78 [00:10<00:00,  7.14it/s, train_loss=0.000259, valid_loss=0.00193]\n",
      "Epoch: 71/80...: 100%|██████| 78/78 [00:10<00:00,  7.10it/s, train_loss=0.00025, valid_loss=0.00195]\n",
      "Epoch: 72/80...: 100%|█████| 78/78 [00:10<00:00,  7.13it/s, train_loss=0.000301, valid_loss=0.00188]\n",
      "Epoch: 73/80...: 100%|█████| 78/78 [00:11<00:00,  7.03it/s, train_loss=0.000233, valid_loss=0.00186]\n",
      "Epoch: 74/80...: 100%|█████| 78/78 [00:11<00:00,  7.04it/s, train_loss=0.000268, valid_loss=0.00193]\n",
      "Epoch: 75/80...: 100%|██████| 78/78 [00:11<00:00,  7.09it/s, train_loss=0.00022, valid_loss=0.00187]\n",
      "Epoch: 76/80...: 100%|██████| 78/78 [00:10<00:00,  7.12it/s, train_loss=0.00021, valid_loss=0.00177]\n",
      "Epoch: 77/80...: 100%|█████| 78/78 [00:11<00:00,  7.06it/s, train_loss=0.000199, valid_loss=0.00188]\n",
      "Epoch: 78/80...: 100%|██████| 78/78 [00:10<00:00,  7.09it/s, train_loss=0.00029, valid_loss=0.00184]\n",
      "Epoch: 79/80...: 100%|█████| 78/78 [00:11<00:00,  7.08it/s, train_loss=0.000188, valid_loss=0.00179]\n",
      "Epoch: 80/80...: 100%|█████| 78/78 [00:11<00:00,  7.05it/s, train_loss=0.000188, valid_loss=0.00177]\n"
     ]
    },
    {
     "name": "stdout",
     "output_type": "stream",
     "text": [
      "supervised data: shape of x: (6237, 72, 16), shape of y: (6237, 24, 16)\n",
      "MAPE:0.061048,SMAPE:0.058863,MAE:721.996039,RMSE:877.192080,RRSE:0.272315,CORR:254.056793\n"
     ]
    },
    {
     "data": {
      "image/png": "[encoded data removed]",
      "text/plain": [
       "<Figure size 432x288 with 1 Axes>"
      ]
     },
     "metadata": {
      "needs_background": "light"
     },
     "output_type": "display_data"
    }
   ],
   "source": [
    "random_seed_set(16)\n",
    "MAPE, SMAPE, MAE, RMSE, RRSE, CORR, load_pred, load_true = run_model_retraining()\n",
    "print('MAPE:{:.6f},SMAPE:{:.6f},MAE:{:.6f},RMSE:{:.6f},RRSE:{:.6f},CORR:{:.6f}'.format(MAPE, SMAPE, MAE, RMSE, RRSE, CORR))"
   ]
  },
  {
   "cell_type": "code",
   "execution_count": 66,
   "id": "86bd05c1",
   "metadata": {
    "ExecuteTime": {
     "end_time": "2022-01-10T07:55:02.173952Z",
     "start_time": "2022-01-10T07:55:02.167514Z"
    }
   },
   "outputs": [
    {
     "name": "stdout",
     "output_type": "stream",
     "text": [
      "MAPE:0.035625,SMAPE:0.036491,MAE:385.089901,RMSE:506.826653,RRSE:0.146971,CORR:242.283983\n"
     ]
    }
   ],
   "source": [
    "print('MAPE:{:.6f},SMAPE:{:.6f},MAE:{:.6f},RMSE:{:.6f},RRSE:{:.6f},CORR:{:.6f}'.format(MAPE, SMAPE, MAE, RMSE, RRSE, CORR))"
   ]
  },
  {
   "cell_type": "markdown",
   "id": "7aa7590f",
   "metadata": {},
   "source": [
    "## figure plot"
   ]
  },
  {
   "cell_type": "code",
   "execution_count": 33,
   "id": "51226973",
   "metadata": {
    "ExecuteTime": {
     "end_time": "2022-01-09T15:51:47.284312Z",
     "start_time": "2022-01-09T15:51:47.118110Z"
    }
   },
   "outputs": [
    {
     "data": {
      "text/plain": [
       "(0.0, 20037.616642814995)"
      ]
     },
     "execution_count": 33,
     "metadata": {},
     "output_type": "execute_result"
    },
    {
     "data": {
      "image/png": "[encoded data removed]",
      "text/plain": [
       "<Figure size 1440x720 with 1 Axes>"
      ]
     },
     "metadata": {
      "needs_background": "light"
     },
     "output_type": "display_data"
    }
   ],
   "source": [
    "plt.figure(figsize=(20, 10))\n",
    "load_pred = load_pred.reshape(-1, 24)\n",
    "load_true = load_true.reshape(-1, 24)\n",
    "plt.plot(load_pred[:240, 23], 'm')\n",
    "plt.plot(load_true[:240, 23], 'g')\n",
    "plt.ylim(ymin=0)"
   ]
  }
 ],
 "metadata": {
  "kernelspec": {
   "display_name": "Python 3 (ipykernel)",
   "language": "python",
   "name": "python3"
  },
  "language_info": {
   "codemirror_mode": {
    "name": "ipython",
    "version": 3
   },
   "file_extension": ".py",
   "mimetype": "text/x-python",
   "name": "python",
   "nbconvert_exporter": "python",
   "pygments_lexer": "ipython3",
   "version": "3.8.12"
  },
  "toc": {
   "base_numbering": 1,
   "nav_menu": {},
   "number_sections": true,
   "sideBar": true,
   "skip_h1_title": false,
   "title_cell": "Table of Contents",
   "title_sidebar": "Contents",
   "toc_cell": false,
   "toc_position": {
    "height": "757px",
    "left": "58px",
    "top": "225.125px",
    "width": "374.344px"
   },
   "toc_section_display": true,
   "toc_window_display": true
  },
  "varInspector": {
   "cols": {
    "lenName": 16,
    "lenType": 16,
    "lenVar": 40
   },
   "kernels_config": {
    "python": {
     "delete_cmd_postfix": "",
     "delete_cmd_prefix": "del ",
     "library": "var_list.py",
     "varRefreshCmd": "print(var_dic_list())"
    },
    "r": {
     "delete_cmd_postfix": ") ",
     "delete_cmd_prefix": "rm(",
     "library": "var_list.r",
     "varRefreshCmd": "cat(var_dic_list()) "
    }
   },
   "types_to_exclude": [
    "module",
    "function",
    "builtin_function_or_method",
    "instance",
    "_Feature"
   ],
   "window_display": false
  }
 },
 "nbformat": 4,
 "nbformat_minor": 5
}
