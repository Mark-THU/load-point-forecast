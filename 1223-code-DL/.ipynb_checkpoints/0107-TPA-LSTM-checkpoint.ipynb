{
 "cells": [
  {
   "cell_type": "markdown",
   "id": "7251abcf",
   "metadata": {},
   "source": [
    "# TPA-LSTM for forecast"
   ]
  },
  {
   "cell_type": "markdown",
   "id": "6019829c",
   "metadata": {},
   "source": [
    "**modified versions**\n",
    "1. 实现\n",
    "- 残差版本"
   ]
  },
  {
   "cell_type": "code",
   "execution_count": 1,
   "id": "e53cb1aa",
   "metadata": {
    "ExecuteTime": {
     "end_time": "2022-01-07T14:12:39.442006Z",
     "start_time": "2022-01-07T14:12:38.449288Z"
    }
   },
   "outputs": [],
   "source": [
    "import pandas as pd\n",
    "import numpy as np\n",
    "import matplotlib.pyplot as plt\n",
    "import pdb\n",
    "import torch\n",
    "import torch.nn as nn\n",
    "import torch.nn.functional as F\n",
    "import random\n",
    "import math\n",
    "\n",
    "from sklearn.preprocessing import MinMaxScaler\n",
    "from sklearn.model_selection import train_test_split, TimeSeriesSplit\n",
    "from torch.autograd import Variable\n",
    "from torch.utils.data import TensorDataset, DataLoader\n",
    "from tqdm import tqdm\n",
    "from xgboost import XGBRegressor\n",
    "if torch.cuda.is_available():  \n",
    "    dev = \"cuda:0\" \n",
    "else:  \n",
    "    dev = \"cpu\"\n",
    "device = torch.device(dev)"
   ]
  },
  {
   "cell_type": "code",
   "execution_count": 2,
   "id": "ead3769f",
   "metadata": {
    "ExecuteTime": {
     "end_time": "2022-01-07T14:12:39.451054Z",
     "start_time": "2022-01-07T14:12:39.445422Z"
    }
   },
   "outputs": [],
   "source": [
    "def random_seed_set(seed):\n",
    "    np.random.seed(seed)\n",
    "    torch.random.manual_seed(seed)\n",
    "    torch.cuda.random.manual_seed(seed)\n",
    "    torch.backends.cudnn.benchmark = False\n",
    "    torch.backends.cudnn.deterministic = True"
   ]
  },
  {
   "cell_type": "markdown",
   "id": "6a753a99",
   "metadata": {},
   "source": [
    "## load data"
   ]
  },
  {
   "cell_type": "code",
   "execution_count": 3,
   "id": "4d579b31",
   "metadata": {
    "ExecuteTime": {
     "end_time": "2022-01-07T14:12:39.542773Z",
     "start_time": "2022-01-07T14:12:39.454027Z"
    }
   },
   "outputs": [],
   "source": [
    "url = '../data/beijing.csv'\n",
    "data = pd.read_csv(url, sep=',', index_col='time')"
   ]
  },
  {
   "cell_type": "markdown",
   "id": "e37bb7c0",
   "metadata": {},
   "source": [
    "## normalization"
   ]
  },
  {
   "cell_type": "code",
   "execution_count": 4,
   "id": "a4d6b5b7",
   "metadata": {
    "ExecuteTime": {
     "end_time": "2022-01-07T14:12:39.548972Z",
     "start_time": "2022-01-07T14:12:39.544895Z"
    }
   },
   "outputs": [],
   "source": [
    "def normalization(data):\n",
    "    \"\"\"\n",
    "    data: original data with load\n",
    "    return: normalized data, scaler of load\n",
    "    \"\"\"\n",
    "    scaler = MinMaxScaler()\n",
    "    normalized_data = scaler.fit_transform(data)\n",
    "    scaler_y = MinMaxScaler()\n",
    "    scaler_y.fit_transform(data[[data.columns[-1]]])\n",
    "    return normalized_data, scaler, scaler_y"
   ]
  },
  {
   "cell_type": "markdown",
   "id": "983bc349",
   "metadata": {
    "ExecuteTime": {
     "end_time": "2021-12-22T07:45:44.192666Z",
     "start_time": "2021-12-22T07:45:44.188985Z"
    }
   },
   "source": [
    "## build supervised dataset"
   ]
  },
  {
   "cell_type": "code",
   "execution_count": 5,
   "id": "1e9b4d29",
   "metadata": {
    "ExecuteTime": {
     "end_time": "2022-01-07T14:12:39.555705Z",
     "start_time": "2022-01-07T14:12:39.551155Z"
    }
   },
   "outputs": [],
   "source": [
    "def series_to_supervise(data, seq_len, target_len):\n",
    "    \"\"\"\n",
    "    convert series data to supervised data\n",
    "    :param data: original data\n",
    "    :param seq_len: length of input sequence\n",
    "    :param target_len: length of ouput sequence\n",
    "    :return: return two ndarrays-- input and output in format suitable to feed to RNN\n",
    "    \"\"\"\n",
    "    dim_0 = data.shape[0] - seq_len - target_len + 1\n",
    "    dim_1 = data.shape[1]\n",
    "    x = np.zeros((dim_0, seq_len, dim_1))\n",
    "    y = np.zeros((dim_0, target_len, dim_1))\n",
    "    for i in range(dim_0):\n",
    "        x[i] = data[i:i + seq_len]\n",
    "        y[i] = data[i + seq_len:i + seq_len + target_len]\n",
    "    print(\"supervised data: shape of x: {}, shape of y: {}\".format(\n",
    "        x.shape, y.shape))\n",
    "    return x, y"
   ]
  },
  {
   "cell_type": "markdown",
   "id": "65e22e22",
   "metadata": {},
   "source": [
    "## 5-folds TimeSeriesSplit"
   ]
  },
  {
   "cell_type": "code",
   "execution_count": 6,
   "id": "9a98cadf",
   "metadata": {
    "ExecuteTime": {
     "end_time": "2022-01-07T14:12:39.566852Z",
     "start_time": "2022-01-07T14:12:39.558733Z"
    }
   },
   "outputs": [],
   "source": [
    "def time_series_split(X, Y, n_split=5):\n",
    "    \"\"\"\n",
    "    X: features, size * seq_len * feature_num\n",
    "    Y: labels, size * target_len\n",
    "    return: list of train_x, test_x, train_y, test_y\n",
    "    \"\"\"\n",
    "    tscv = TimeSeriesSplit(n_splits=n_split)\n",
    "    train_x_list = list()\n",
    "    valid_x_list = list()\n",
    "    train_y_list = list()\n",
    "    valid_y_list = list()\n",
    "    for train_index, valid_index in tscv.split(X):\n",
    "        train_x_list.append(X[train_index])\n",
    "        train_y_list.append(Y[train_index])\n",
    "        valid_x_list.append(X[valid_index])\n",
    "        valid_y_list.append(Y[valid_index])\n",
    "    return train_x_list, train_y_list, valid_x_list, valid_y_list"
   ]
  },
  {
   "cell_type": "markdown",
   "id": "48cecf93",
   "metadata": {},
   "source": [
    "## TPA-LSTM"
   ]
  },
  {
   "cell_type": "markdown",
   "id": "722fd0e4",
   "metadata": {},
   "source": [
    "### Encoder"
   ]
  },
  {
   "cell_type": "code",
   "execution_count": 7,
   "id": "eb07c00a",
   "metadata": {
    "ExecuteTime": {
     "end_time": "2022-01-07T14:12:39.577729Z",
     "start_time": "2022-01-07T14:12:39.569548Z"
    }
   },
   "outputs": [],
   "source": [
    "class Encoder(nn.Module):\n",
    "    def __init__(self, input_size, hidden_dim, n_layers, drop_prob):\n",
    "        super(Encoder, self).__init__()\n",
    "        # 初始化hidden_state参数\n",
    "        self.hidden_dim = hidden_dim\n",
    "        self.n_layers = n_layers\n",
    "        # 定义层\n",
    "        self.rnn = nn.GRU(input_size,\n",
    "                           hidden_dim,\n",
    "                           n_layers,\n",
    "                           bidirectional=False,\n",
    "                           dropout=drop_prob)\n",
    "\n",
    "    def forward(self, x):\n",
    "        # 输入'X'的形状：(`batch_size`, `num_steps`, `input_size`)\n",
    "        # RNN中，第一个维度对应时间步\n",
    "        x = torch.transpose(x, 0, 1)\n",
    "        # x shape (num_steps, batch_size, input_size)\n",
    "        \n",
    "        rnn_out, state = self.rnn(x)\n",
    "        # rnn_out shape (num_steps, batch_size, hidden_size)\n",
    "        # state shape (n_layers, batch_size, hidden_state)\n",
    "        return rnn_out, state"
   ]
  },
  {
   "cell_type": "markdown",
   "id": "24706dbe",
   "metadata": {
    "ExecuteTime": {
     "end_time": "2021-12-31T13:15:30.991666Z",
     "start_time": "2021-12-31T13:15:30.987285Z"
    }
   },
   "source": [
    "### Additive Attention"
   ]
  },
  {
   "cell_type": "code",
   "execution_count": 8,
   "id": "105e7208",
   "metadata": {
    "ExecuteTime": {
     "end_time": "2022-01-07T14:12:39.590571Z",
     "start_time": "2022-01-07T14:12:39.580384Z"
    }
   },
   "outputs": [],
   "source": [
    "class AdditiveAttention(nn.Module):\n",
    "    \"\"\"加性注意力\"\"\"\n",
    "    def __init__(self, key_size, query_size, num_hiddens, dropout, **kwargs):\n",
    "        super(AdditiveAttention, self).__init__(**kwargs)\n",
    "        self.W_k = nn.Linear(key_size, num_hiddens, bias=False)\n",
    "        self.W_q = nn.Linear(query_size, num_hiddens, bias=False)\n",
    "        self.w_v = nn.Linear(num_hiddens, 1, bias=False)\n",
    "        self.dropout = nn.Dropout(dropout)\n",
    "\n",
    "    def forward(self, queries, keys, values):\n",
    "        queries, keys = self.W_q(queries), self.W_k(keys)\n",
    "        #pdb.set_trace()\n",
    "        # 在维度扩展后，\n",
    "        # `queries` 的形状：(`batch_size`，查询的个数，1，`num_hidden`)\n",
    "        # `key` 的形状：(`batch_size`，1，“键－值”对的个数，`num_hiddens`)\n",
    "        # 使用广播方式进行求和\n",
    "        features = queries.unsqueeze(2) + keys.unsqueeze(1)\n",
    "        features = torch.tanh(features)\n",
    "        # `self.w_v` 仅有一个输出，因此从形状中移除最后那个维度。\n",
    "        # `scores` 的形状：(`batch_size`，查询的个数，“键-值”对的个数)\n",
    "        scores = self.w_v(features).squeeze(-1)\n",
    "        self.attention_weights = nn.functional.softmax(scores, dim=-1)\n",
    "        # `values` 的形状：(`batch_size`，“键－值”对的个数，值的维度)\n",
    "        return torch.bmm(self.dropout(self.attention_weights), values)"
   ]
  },
  {
   "cell_type": "markdown",
   "id": "48224154",
   "metadata": {},
   "source": [
    "### DotProductAttentioin"
   ]
  },
  {
   "cell_type": "code",
   "execution_count": 9,
   "id": "8aa320a5",
   "metadata": {
    "ExecuteTime": {
     "end_time": "2022-01-07T14:12:39.600244Z",
     "start_time": "2022-01-07T14:12:39.593036Z"
    }
   },
   "outputs": [],
   "source": [
    "class DotProductAttention(nn.Module):\n",
    "    \"\"\"缩放点积注意力\"\"\"\n",
    "    def __init__(self, dropout, **kwargs):\n",
    "        super(DotProductAttention, self).__init__(**kwargs)\n",
    "        self.dropout = nn.Dropout(dropout)\n",
    "\n",
    "    # `queries` 的形状：(`batch_size`，查询的个数，`d`)\n",
    "    # `keys` 的形状：(`batch_size`，“键－值”对的个数，`d`)\n",
    "    # `values` 的形状：(`batch_size`，“键－值”对的个数，值的维度)\n",
    "    # `valid_lens` 的形状: (`batch_size`，) 或者 (`batch_size`，查询的个数)\n",
    "    def forward(self, queries, keys, values):\n",
    "        d = queries.shape[-1]\n",
    "        # 设置 `transpose_b=True` 为了交换 `keys` 的最后两个维度\n",
    "        scores = torch.bmm(queries, keys.transpose(1,2)) / math.sqrt(d)\n",
    "        self.attention_weights = nn.functional.softmax(scores, dim=-1)\n",
    "        return torch.bmm(self.dropout(self.attention_weights), values)"
   ]
  },
  {
   "cell_type": "markdown",
   "id": "8986f3be",
   "metadata": {},
   "source": [
    "### Decoder"
   ]
  },
  {
   "cell_type": "code",
   "execution_count": 26,
   "id": "f5a7659e",
   "metadata": {
    "ExecuteTime": {
     "end_time": "2022-01-07T15:47:38.053228Z",
     "start_time": "2022-01-07T15:47:38.030155Z"
    }
   },
   "outputs": [],
   "source": [
    "class AttnDecoder(nn.Module):\n",
    "    def __init__(self,\n",
    "                 input_size,\n",
    "                 hidden_dim,\n",
    "                 n_layers,\n",
    "                 drop_prob,\n",
    "                 num_kernel=32):\n",
    "        super(AttnDecoder, self).__init__()\n",
    "\n",
    "        # parameter\n",
    "        self.hidden_dim = hidden_dim\n",
    "        self.num_kernel = num_kernel\n",
    "\n",
    "        self.cnn = nn.Conv2d(1, num_kernel, kernel_size=(72, 1))\n",
    "        self.attention = AdditiveAttention(num_kernel, hidden_dim, hidden_dim,\n",
    "                                           drop_prob)\n",
    "        self.rnn = nn.GRU(input_size, hidden_dim, n_layers, dropout=drop_prob)\n",
    "        self.fc = nn.Sequential()\n",
    "\n",
    "        input_size = hidden_dim + num_kernel\n",
    "        i = 0\n",
    "        while (input_size > 8):\n",
    "            self.fc.add_module('linear{}'.format(i),\n",
    "                               nn.Linear(input_size, round(input_size / 2)))\n",
    "            self.fc.add_module('relu{}'.format(i), nn.ReLU())\n",
    "            input_size = round(input_size / 2)\n",
    "            i += 1\n",
    "        self.fc.add_module('linear{}'.format(i), nn.Linear(input_size, 1))\n",
    "\n",
    "    def forward(self, inputs, encoder_outputs, encoder_state):\n",
    "        \"\"\"\n",
    "        :inputs shape (batch_size, target_len, input_size)\n",
    "        :encoder_outputs shape (seq_len, batch_size, hidden_dim)\n",
    "        :encoder_state shape(n_layers, batch_size, hidden_dim)\n",
    "        \"\"\"\n",
    "        inputs = torch.transpose(inputs, 0, 1)\n",
    "        # inputs shape（target_len, batch_size, input_size）\n",
    "\n",
    "        encoder_outputs = torch.transpose(encoder_outputs, 0, 1)\n",
    "        # encoder_outputs shape (batch_size, seq_len, hidden_dim)\n",
    "\n",
    "        encoder_outputs = self.cnn(encoder_outputs.unsqueeze(1))\n",
    "        # encoder_outputs shape (batch_size, num_kernel, 1, hidden_dim)\n",
    "\n",
    "        encoder_outputs = encoder_outputs.reshape(-1, self.hidden_dim,\n",
    "                                                  self.num_kernel)\n",
    "        # encoder_output shape (batch_size, hidden_dim, num_kernel)\n",
    "\n",
    "        decoder_state = encoder_state\n",
    "        # decoder_state 需要用 encoder_state初始化\n",
    "\n",
    "        outputs = []\n",
    "\n",
    "        for i in range(inputs.shape[0]):\n",
    "            query = decoder_state[-1].unsqueeze(1)\n",
    "            # query shape is (batch_size, 1, hidden_dim)\n",
    "\n",
    "            context = self.attention(query, encoder_outputs, encoder_outputs)\n",
    "            # context shape (batch_size, 1, num_kernel)\n",
    "\n",
    "            # training process is different from eval process\n",
    "            # if i and not self.training:\n",
    "            if i:\n",
    "                x = torch.cat((inputs[i:i + 1, :, :-1], output.detach()),\n",
    "                              dim=2)\n",
    "                # x shape (1, batch_size, input_size)\n",
    "\n",
    "            else:\n",
    "                x = inputs[i:i + 1, :, :]\n",
    "                # x shape (1, batch_size, input_size)\n",
    "\n",
    "            out, decoder_state = self.rnn(x, decoder_state)\n",
    "            # out shape (1, batch_size, hidden_dim)\n",
    "\n",
    "            fc_input = torch.cat((out, context.permute(1, 0, 2)), dim=2)\n",
    "            # fc_input shape (1, batch_size, hidden_dim + num_kernel)\n",
    "\n",
    "            output = self.fc(fc_input)\n",
    "            # output shape (1, batch_size, 1)\n",
    "            outputs.append(output)\n",
    "        \n",
    "        outputs = torch.cat(outputs, dim=2)\n",
    "        # outputs shape (1, batch_size, target_len)\n",
    "        return outputs.squeeze(0)"
   ]
  },
  {
   "cell_type": "markdown",
   "id": "2f269f90",
   "metadata": {},
   "source": [
    "### TPA-LSTM"
   ]
  },
  {
   "cell_type": "code",
   "execution_count": 11,
   "id": "0295b0e8",
   "metadata": {
    "ExecuteTime": {
     "end_time": "2022-01-07T14:12:39.628928Z",
     "start_time": "2022-01-07T14:12:39.623783Z"
    }
   },
   "outputs": [],
   "source": [
    "class Seq2Seq_Attn(nn.Module):\n",
    "    def __init__(self, input_size, hidden_dim, n_layers, drop_prob):\n",
    "        super(Seq2Seq_Attn, self).__init__()\n",
    "        self.encoder = Encoder(input_size, hidden_dim, n_layers, drop_prob)\n",
    "        self.decoder = AttnDecoder(input_size, hidden_dim, n_layers, drop_prob)\n",
    "    \n",
    "    def forward(self, encoder_inputs, decoder_inputs):\n",
    "        # encoder_inputs shape (batch_size, seq_len, input_size)\n",
    "        # decoder_inputs shape (batch_size, target_len, input_size)\n",
    "        encoder_outputs, encoder_state = self.encoder(encoder_inputs)\n",
    "        outputs = self.decoder(decoder_inputs, encoder_outputs, encoder_state)\n",
    "        return outputs"
   ]
  },
  {
   "cell_type": "markdown",
   "id": "b8bc80d1",
   "metadata": {},
   "source": [
    "### test model"
   ]
  },
  {
   "cell_type": "code",
   "execution_count": 12,
   "id": "14165a0f",
   "metadata": {
    "ExecuteTime": {
     "end_time": "2022-01-07T14:12:40.322305Z",
     "start_time": "2022-01-07T14:12:39.631308Z"
    }
   },
   "outputs": [
    {
     "data": {
      "text/plain": [
       "torch.Size([10, 24])"
      ]
     },
     "execution_count": 12,
     "metadata": {},
     "output_type": "execute_result"
    }
   ],
   "source": [
    "model = Seq2Seq_Attn(16, 64, 3, 0.1)\n",
    "encoder_inputs = torch.randn(10, 72, 16)\n",
    "decoder_inputs = torch.randn(10, 24, 16)\n",
    "labels = torch.randn(10, 24)\n",
    "outputs = model(encoder_inputs, decoder_inputs)\n",
    "criterion = nn.MSELoss()\n",
    "loss = criterion(outputs, labels)\n",
    "loss.backward()\n",
    "outputs.shape"
   ]
  },
  {
   "cell_type": "markdown",
   "id": "6650590d",
   "metadata": {
    "ExecuteTime": {
     "end_time": "2021-12-22T08:30:19.661769Z",
     "start_time": "2021-12-22T08:30:19.656770Z"
    }
   },
   "source": [
    "## model training for HPO"
   ]
  },
  {
   "cell_type": "code",
   "execution_count": 13,
   "id": "499b2afc",
   "metadata": {
    "ExecuteTime": {
     "end_time": "2022-01-07T14:12:40.333736Z",
     "start_time": "2022-01-07T14:12:40.323754Z"
    },
    "code_folding": []
   },
   "outputs": [],
   "source": [
    "def train_model_hpo(train_x_list,\n",
    "                    train_y_list,\n",
    "                    valid_x_list,\n",
    "                    valid_y_list,\n",
    "                    input_size,\n",
    "                    seq_len,\n",
    "                    target_len,\n",
    "                    mse_thresh,\n",
    "                    hidden_dim,\n",
    "                    n_layers,\n",
    "                    number_epoch,\n",
    "                    batch_size,\n",
    "                    lr,\n",
    "                    drop_prob,\n",
    "                    weight_decay):\n",
    "    valid_loss_list = []\n",
    "    for num in range(len(train_x_list)):\n",
    "        while (1):\n",
    "            model = Seq2Seq_Attn(input_size, hidden_dim, n_layers, drop_prob)\n",
    "            model = model.to(device)\n",
    "            criterion = nn.MSELoss()\n",
    "            optimizer = torch.optim.Adam(model.parameters(), lr=lr, weight_decay=weight_decay)\n",
    "            scheduler = torch.optim.lr_scheduler.StepLR(optimizer, 1, gamma=0.98)\n",
    "            valid_loss_min = np.Inf\n",
    "            print('train dataset {}'.format(num))\n",
    "            train_x = train_x_list[num]\n",
    "            train_y = train_y_list[num]\n",
    "            valid_x = valid_x_list[num]\n",
    "            valid_y = valid_y_list[num]\n",
    "            train_dataset = TensorDataset(torch.FloatTensor(train_x),\n",
    "                                          torch.FloatTensor(train_y))\n",
    "            valid_dataset = TensorDataset(torch.FloatTensor(valid_x),\n",
    "                                          torch.FloatTensor(valid_y))\n",
    "\n",
    "            train_loader = DataLoader(dataset=train_dataset,\n",
    "                                      batch_size=batch_size,\n",
    "                                      shuffle=True,\n",
    "                                      drop_last=True)\n",
    "            valid_loader = DataLoader(dataset=valid_dataset,\n",
    "                                      batch_size=batch_size,\n",
    "                                      shuffle=True,\n",
    "                                      drop_last=True)\n",
    "            train_losses = list()\n",
    "\n",
    "            num_without_imp = 0\n",
    "\n",
    "            #train\n",
    "            for epoch in range(1, number_epoch + 1):\n",
    "                loop = tqdm(enumerate(train_loader),\n",
    "                            total=len(train_loader),\n",
    "                            leave=True, ncols=100)\n",
    "                for i, (inputs, labels) in loop:\n",
    "                    inputs = inputs.to(device)\n",
    "                    labels = labels.to(device)\n",
    "                    optimizer.zero_grad()\n",
    "                    encoder_inputs = inputs\n",
    "                    decoder_inputs = torch.cat((inputs[:, -1:, :], labels[:, :-1, :]), dim=1)\n",
    "                    outputs = model(encoder_inputs, decoder_inputs)                                \n",
    "                    loss = criterion(outputs, labels[:, :, -1])\n",
    "                    train_losses.append(loss.item)\n",
    "                    loss.backward()\n",
    "                    optimizer.step()\n",
    "\n",
    "                    # eval\n",
    "                    if i % 5 == 0:\n",
    "                        num_without_imp = num_without_imp + 1\n",
    "                        valid_losses = list()\n",
    "                        model.eval()\n",
    "                        for inp, lab in valid_loader:\n",
    "                            inp = inp.to(device)\n",
    "                            lab = lab.to(device)\n",
    "                            encoder_inp = inp\n",
    "                            decoder_inp = torch.cat((inp[:, -1:, :], lab[:, :-1, :]), dim=1)\n",
    "                            out = model(encoder_inp, decoder_inp)\n",
    "                            valid_loss = criterion(out, lab[:, :, -1])\n",
    "                            valid_losses.append(valid_loss.item())\n",
    "                        model.train()\n",
    "                        loop.set_description(\"Epoch: {}/{}...\".format(\n",
    "                            epoch, number_epoch))\n",
    "                        loop.set_postfix(train_loss=loss.item(),\n",
    "                                         valid_loss=np.mean(valid_losses))\n",
    "                        if np.mean(valid_losses) < valid_loss_min:\n",
    "                            num_without_imp = 0\n",
    "                            valid_loss_min = np.mean(valid_losses)\n",
    "                if num_without_imp > 50:\n",
    "                    pass\n",
    "#                     break\n",
    "                scheduler.step()\n",
    "            if valid_loss_min < mse_thresh:\n",
    "                valid_loss_list.append(valid_loss_min)\n",
    "                break\n",
    "    return np.mean(valid_loss_list)"
   ]
  },
  {
   "cell_type": "markdown",
   "id": "6b5af386",
   "metadata": {},
   "source": [
    "## hyper-parameters config"
   ]
  },
  {
   "cell_type": "code",
   "execution_count": 14,
   "id": "2cba83da",
   "metadata": {
    "ExecuteTime": {
     "end_time": "2022-01-07T14:12:40.338462Z",
     "start_time": "2022-01-07T14:12:40.334714Z"
    }
   },
   "outputs": [],
   "source": [
    "seq_len = 72\n",
    "target_len = 24\n",
    "mse_thresh = 0.05\n",
    "\n",
    "\n",
    "def model_config():\n",
    "    batch_sizes = [256, 512]\n",
    "    lrs = [0.01]\n",
    "    number_epochs = [40]\n",
    "    hidden_dims = [64, 128]\n",
    "    n_layers = [2, 3]\n",
    "    drop_prob = [0]\n",
    "    weight_decays = [0]\n",
    "    configs = list()\n",
    "    for i in batch_sizes:\n",
    "        for j in lrs:\n",
    "            for k in number_epochs:\n",
    "                for l in hidden_dims:\n",
    "                    for m in n_layers:\n",
    "                        for n in drop_prob:\n",
    "                            for o in weight_decays:\n",
    "                                configs.append({\n",
    "                                    'batch_size': i,\n",
    "                                    'lr': j,\n",
    "                                    'number_epoch': k,\n",
    "                                    'hidden_dim': l,\n",
    "                                    'n_layers': m,\n",
    "                                    'drop_prob': n,\n",
    "                                    'weight_decay': o\n",
    "                                })\n",
    "    return configs"
   ]
  },
  {
   "cell_type": "markdown",
   "id": "8637bf2b",
   "metadata": {},
   "source": [
    "## random search for HPO"
   ]
  },
  {
   "cell_type": "code",
   "execution_count": 15,
   "id": "9e2a1b4c",
   "metadata": {
    "ExecuteTime": {
     "end_time": "2022-01-07T14:12:40.344643Z",
     "start_time": "2022-01-07T14:12:40.339470Z"
    }
   },
   "outputs": [],
   "source": [
    "def run_model_hpo(seq_len=seq_len,\n",
    "                  target_len=target_len,\n",
    "                  mse_thresh=mse_thresh):\n",
    "    train_data = data[:int(0.8 * len(data))]\n",
    "    train_data, _, _ = normalization(train_data)\n",
    "    train_x, train_y = series_to_supervise(train_data, seq_len, target_len)\n",
    "    train_x_list, train_y_list, valid_x_list, valid_y_list = time_series_split(\n",
    "        train_x, train_y)\n",
    "    #         with enough data\n",
    "    train_x_list = train_x_list[-1:]\n",
    "    train_y_list = train_y_list[-1:]\n",
    "    valid_x_list = valid_x_list[-1:]\n",
    "    valid_y_list = valid_y_list[-1:]\n",
    "\n",
    "    configs = model_config()\n",
    "    records = []\n",
    "    input_size = train_x.shape[2]\n",
    "    for i in range(6):\n",
    "        config = random.choice(configs)\n",
    "        configs.remove(config)\n",
    "        batch_size = config['batch_size']\n",
    "        lr = config['lr']\n",
    "        number_epoch = config['number_epoch']\n",
    "        hidden_dim = config['hidden_dim']\n",
    "        n_layers = config['n_layers']\n",
    "        drop_prob = config['drop_prob']\n",
    "        weight_decay = config['weight_decay']\n",
    "        print(\n",
    "            \"model config: batch_size-{}, lr-{}, number_epoch-{}, hidden_dim-{}, n_layers-{},drop_prob-{},weight_decay-{}\"\n",
    "            .format(batch_size, lr, number_epoch, hidden_dim, n_layers,\n",
    "                    drop_prob, weight_decay))\n",
    "        valid_loss = train_model_hpo(\n",
    "            train_x_list,\n",
    "            train_y_list,\n",
    "            valid_x_list,\n",
    "            valid_y_list,\n",
    "            input_size,\n",
    "            seq_len,\n",
    "            target_len,\n",
    "            mse_thresh,\n",
    "            hidden_dim,\n",
    "            n_layers,\n",
    "            number_epoch,\n",
    "            batch_size,\n",
    "            lr,\n",
    "            drop_prob,\n",
    "            weight_decay,\n",
    "        )\n",
    "        records.append({\n",
    "            'batch_size': batch_size,\n",
    "            'lr': lr,\n",
    "            'number_epoch': number_epoch,\n",
    "            'hidden_dim': hidden_dim,\n",
    "            'n_layers': n_layers,\n",
    "            'drop_prob': drop_prob,\n",
    "            'weight_decay': weight_decay,\n",
    "            'valid_loss': valid_loss\n",
    "        })\n",
    "    return records"
   ]
  },
  {
   "cell_type": "markdown",
   "id": "f6468211",
   "metadata": {},
   "source": [
    "## run random search"
   ]
  },
  {
   "cell_type": "code",
   "execution_count": 28,
   "id": "0cb828e0",
   "metadata": {
    "ExecuteTime": {
     "end_time": "2022-01-07T13:51:12.814094Z",
     "start_time": "2022-01-07T13:51:12.139260Z"
    },
    "collapsed": true
   },
   "outputs": [
    {
     "name": "stdout",
     "output_type": "stream",
     "text": [
      "supervised data: shape of x: (25232, 72, 16), shape of y: (25232, 24, 16)\n",
      "model config: batch_size-256, lr-0.01, number_epoch-40, hidden_dim-64, n_layers-3,drop_prob-0,weight_decay-0\n",
      "train dataset 0\n"
     ]
    },
    {
     "name": "stderr",
     "output_type": "stream",
     "text": [
      "  0%|                                                                        | 0/82 [00:00<?, ?it/s]\n"
     ]
    },
    {
     "ename": "RuntimeError",
     "evalue": "one of the variables needed for gradient computation has been modified by an inplace operation: [torch.cuda.FloatTensor [1, 256, 16]] is at version 23; expected version 22 instead. Hint: enable anomaly detection to find the operation that failed to compute its gradient, with torch.autograd.set_detect_anomaly(True).",
     "output_type": "error",
     "traceback": [
      "\u001b[0;31m---------------------------------------------------------------------------\u001b[0m",
      "\u001b[0;31mRuntimeError\u001b[0m                              Traceback (most recent call last)",
      "\u001b[0;32m/tmp/ipykernel_51699/1238912210.py\u001b[0m in \u001b[0;36m<module>\u001b[0;34m\u001b[0m\n\u001b[1;32m      1\u001b[0m \u001b[0mrandom_seed_set\u001b[0m\u001b[0;34m(\u001b[0m\u001b[0;36m42\u001b[0m\u001b[0;34m)\u001b[0m\u001b[0;34m\u001b[0m\u001b[0;34m\u001b[0m\u001b[0m\n\u001b[0;32m----> 2\u001b[0;31m \u001b[0mrecords\u001b[0m \u001b[0;34m=\u001b[0m \u001b[0mrun_model_hpo\u001b[0m\u001b[0;34m(\u001b[0m\u001b[0;34m)\u001b[0m\u001b[0;34m\u001b[0m\u001b[0;34m\u001b[0m\u001b[0m\n\u001b[0m",
      "\u001b[0;32m/tmp/ipykernel_51699/262438788.py\u001b[0m in \u001b[0;36mrun_model_hpo\u001b[0;34m(seq_len, target_len, mse_thresh)\u001b[0m\n\u001b[1;32m     30\u001b[0m             .format(batch_size, lr, number_epoch, hidden_dim, n_layers,\n\u001b[1;32m     31\u001b[0m                     drop_prob, weight_decay))\n\u001b[0;32m---> 32\u001b[0;31m         valid_loss = train_model_hpo(\n\u001b[0m\u001b[1;32m     33\u001b[0m             \u001b[0mtrain_x_list\u001b[0m\u001b[0;34m,\u001b[0m\u001b[0;34m\u001b[0m\u001b[0;34m\u001b[0m\u001b[0m\n\u001b[1;32m     34\u001b[0m             \u001b[0mtrain_y_list\u001b[0m\u001b[0;34m,\u001b[0m\u001b[0;34m\u001b[0m\u001b[0;34m\u001b[0m\u001b[0m\n",
      "\u001b[0;32m/tmp/ipykernel_51699/2273817174.py\u001b[0m in \u001b[0;36mtrain_model_hpo\u001b[0;34m(train_x_list, train_y_list, valid_x_list, valid_y_list, input_size, seq_len, target_len, mse_thresh, hidden_dim, n_layers, number_epoch, batch_size, lr, drop_prob, weight_decay)\u001b[0m\n\u001b[1;32m     59\u001b[0m                     \u001b[0mloss\u001b[0m \u001b[0;34m=\u001b[0m \u001b[0mcriterion\u001b[0m\u001b[0;34m(\u001b[0m\u001b[0moutputs\u001b[0m\u001b[0;34m,\u001b[0m \u001b[0mlabels\u001b[0m\u001b[0;34m[\u001b[0m\u001b[0;34m:\u001b[0m\u001b[0;34m,\u001b[0m \u001b[0;34m:\u001b[0m\u001b[0;34m,\u001b[0m \u001b[0;34m-\u001b[0m\u001b[0;36m1\u001b[0m\u001b[0;34m]\u001b[0m\u001b[0;34m)\u001b[0m\u001b[0;34m\u001b[0m\u001b[0;34m\u001b[0m\u001b[0m\n\u001b[1;32m     60\u001b[0m                     \u001b[0mtrain_losses\u001b[0m\u001b[0;34m.\u001b[0m\u001b[0mappend\u001b[0m\u001b[0;34m(\u001b[0m\u001b[0mloss\u001b[0m\u001b[0;34m.\u001b[0m\u001b[0mitem\u001b[0m\u001b[0;34m)\u001b[0m\u001b[0;34m\u001b[0m\u001b[0;34m\u001b[0m\u001b[0m\n\u001b[0;32m---> 61\u001b[0;31m                     \u001b[0mloss\u001b[0m\u001b[0;34m.\u001b[0m\u001b[0mbackward\u001b[0m\u001b[0;34m(\u001b[0m\u001b[0;34m)\u001b[0m\u001b[0;34m\u001b[0m\u001b[0;34m\u001b[0m\u001b[0m\n\u001b[0m\u001b[1;32m     62\u001b[0m                     \u001b[0moptimizer\u001b[0m\u001b[0;34m.\u001b[0m\u001b[0mstep\u001b[0m\u001b[0;34m(\u001b[0m\u001b[0;34m)\u001b[0m\u001b[0;34m\u001b[0m\u001b[0;34m\u001b[0m\u001b[0m\n\u001b[1;32m     63\u001b[0m \u001b[0;34m\u001b[0m\u001b[0m\n",
      "\u001b[0;32m/home/nslab/miniconda3/envs/pytorch/lib/python3.8/site-packages/torch/_tensor.py\u001b[0m in \u001b[0;36mbackward\u001b[0;34m(self, gradient, retain_graph, create_graph, inputs)\u001b[0m\n\u001b[1;32m    253\u001b[0m                 \u001b[0mcreate_graph\u001b[0m\u001b[0;34m=\u001b[0m\u001b[0mcreate_graph\u001b[0m\u001b[0;34m,\u001b[0m\u001b[0;34m\u001b[0m\u001b[0;34m\u001b[0m\u001b[0m\n\u001b[1;32m    254\u001b[0m                 inputs=inputs)\n\u001b[0;32m--> 255\u001b[0;31m         \u001b[0mtorch\u001b[0m\u001b[0;34m.\u001b[0m\u001b[0mautograd\u001b[0m\u001b[0;34m.\u001b[0m\u001b[0mbackward\u001b[0m\u001b[0;34m(\u001b[0m\u001b[0mself\u001b[0m\u001b[0;34m,\u001b[0m \u001b[0mgradient\u001b[0m\u001b[0;34m,\u001b[0m \u001b[0mretain_graph\u001b[0m\u001b[0;34m,\u001b[0m \u001b[0mcreate_graph\u001b[0m\u001b[0;34m,\u001b[0m \u001b[0minputs\u001b[0m\u001b[0;34m=\u001b[0m\u001b[0minputs\u001b[0m\u001b[0;34m)\u001b[0m\u001b[0;34m\u001b[0m\u001b[0;34m\u001b[0m\u001b[0m\n\u001b[0m\u001b[1;32m    256\u001b[0m \u001b[0;34m\u001b[0m\u001b[0m\n\u001b[1;32m    257\u001b[0m     \u001b[0;32mdef\u001b[0m \u001b[0mregister_hook\u001b[0m\u001b[0;34m(\u001b[0m\u001b[0mself\u001b[0m\u001b[0;34m,\u001b[0m \u001b[0mhook\u001b[0m\u001b[0;34m)\u001b[0m\u001b[0;34m:\u001b[0m\u001b[0;34m\u001b[0m\u001b[0;34m\u001b[0m\u001b[0m\n",
      "\u001b[0;32m/home/nslab/miniconda3/envs/pytorch/lib/python3.8/site-packages/torch/autograd/__init__.py\u001b[0m in \u001b[0;36mbackward\u001b[0;34m(tensors, grad_tensors, retain_graph, create_graph, grad_variables, inputs)\u001b[0m\n\u001b[1;32m    145\u001b[0m         \u001b[0mretain_graph\u001b[0m \u001b[0;34m=\u001b[0m \u001b[0mcreate_graph\u001b[0m\u001b[0;34m\u001b[0m\u001b[0;34m\u001b[0m\u001b[0m\n\u001b[1;32m    146\u001b[0m \u001b[0;34m\u001b[0m\u001b[0m\n\u001b[0;32m--> 147\u001b[0;31m     Variable._execution_engine.run_backward(\n\u001b[0m\u001b[1;32m    148\u001b[0m         \u001b[0mtensors\u001b[0m\u001b[0;34m,\u001b[0m \u001b[0mgrad_tensors_\u001b[0m\u001b[0;34m,\u001b[0m \u001b[0mretain_graph\u001b[0m\u001b[0;34m,\u001b[0m \u001b[0mcreate_graph\u001b[0m\u001b[0;34m,\u001b[0m \u001b[0minputs\u001b[0m\u001b[0;34m,\u001b[0m\u001b[0;34m\u001b[0m\u001b[0;34m\u001b[0m\u001b[0m\n\u001b[1;32m    149\u001b[0m         allow_unreachable=True, accumulate_grad=True)  # allow_unreachable flag\n",
      "\u001b[0;31mRuntimeError\u001b[0m: one of the variables needed for gradient computation has been modified by an inplace operation: [torch.cuda.FloatTensor [1, 256, 16]] is at version 23; expected version 22 instead. Hint: enable anomaly detection to find the operation that failed to compute its gradient, with torch.autograd.set_detect_anomaly(True)."
     ]
    }
   ],
   "source": [
    "random_seed_set(42)\n",
    "records = run_model_hpo()"
   ]
  },
  {
   "cell_type": "markdown",
   "id": "007a1ab3",
   "metadata": {
    "ExecuteTime": {
     "end_time": "2021-12-22T08:52:06.844501Z",
     "start_time": "2021-12-22T08:52:06.830928Z"
    }
   },
   "source": [
    "## find the best hyper-parameters"
   ]
  },
  {
   "cell_type": "code",
   "execution_count": 95,
   "id": "e75e110a",
   "metadata": {
    "ExecuteTime": {
     "end_time": "2021-12-31T16:14:28.117919Z",
     "start_time": "2021-12-31T16:14:28.091365Z"
    }
   },
   "outputs": [
    {
     "data": {
      "text/html": [
       "<div>\n",
       "<style scoped>\n",
       "    .dataframe tbody tr th:only-of-type {\n",
       "        vertical-align: middle;\n",
       "    }\n",
       "\n",
       "    .dataframe tbody tr th {\n",
       "        vertical-align: top;\n",
       "    }\n",
       "\n",
       "    .dataframe thead th {\n",
       "        text-align: right;\n",
       "    }\n",
       "</style>\n",
       "<table border=\"1\" class=\"dataframe\">\n",
       "  <thead>\n",
       "    <tr style=\"text-align: right;\">\n",
       "      <th></th>\n",
       "      <th>batch_size</th>\n",
       "      <th>lr</th>\n",
       "      <th>number_epoch</th>\n",
       "      <th>hidden_dim</th>\n",
       "      <th>n_layers</th>\n",
       "      <th>drop_prob</th>\n",
       "      <th>weight_decay</th>\n",
       "      <th>valid_loss</th>\n",
       "    </tr>\n",
       "  </thead>\n",
       "  <tbody>\n",
       "    <tr>\n",
       "      <th>4</th>\n",
       "      <td>512</td>\n",
       "      <td>0.01</td>\n",
       "      <td>40</td>\n",
       "      <td>64</td>\n",
       "      <td>2</td>\n",
       "      <td>0</td>\n",
       "      <td>0</td>\n",
       "      <td>0.001827</td>\n",
       "    </tr>\n",
       "    <tr>\n",
       "      <th>1</th>\n",
       "      <td>256</td>\n",
       "      <td>0.01</td>\n",
       "      <td>40</td>\n",
       "      <td>64</td>\n",
       "      <td>2</td>\n",
       "      <td>0</td>\n",
       "      <td>0</td>\n",
       "      <td>0.001947</td>\n",
       "    </tr>\n",
       "    <tr>\n",
       "      <th>5</th>\n",
       "      <td>512</td>\n",
       "      <td>0.01</td>\n",
       "      <td>40</td>\n",
       "      <td>128</td>\n",
       "      <td>3</td>\n",
       "      <td>0</td>\n",
       "      <td>0</td>\n",
       "      <td>0.001976</td>\n",
       "    </tr>\n",
       "    <tr>\n",
       "      <th>3</th>\n",
       "      <td>256</td>\n",
       "      <td>0.01</td>\n",
       "      <td>40</td>\n",
       "      <td>128</td>\n",
       "      <td>3</td>\n",
       "      <td>0</td>\n",
       "      <td>0</td>\n",
       "      <td>0.002802</td>\n",
       "    </tr>\n",
       "    <tr>\n",
       "      <th>0</th>\n",
       "      <td>512</td>\n",
       "      <td>0.01</td>\n",
       "      <td>40</td>\n",
       "      <td>128</td>\n",
       "      <td>2</td>\n",
       "      <td>0</td>\n",
       "      <td>0</td>\n",
       "      <td>0.003939</td>\n",
       "    </tr>\n",
       "    <tr>\n",
       "      <th>2</th>\n",
       "      <td>512</td>\n",
       "      <td>0.01</td>\n",
       "      <td>40</td>\n",
       "      <td>64</td>\n",
       "      <td>3</td>\n",
       "      <td>0</td>\n",
       "      <td>0</td>\n",
       "      <td>0.034462</td>\n",
       "    </tr>\n",
       "  </tbody>\n",
       "</table>\n",
       "</div>"
      ],
      "text/plain": [
       "   batch_size    lr  number_epoch  hidden_dim  n_layers  drop_prob  \\\n",
       "4         512  0.01            40          64         2          0   \n",
       "1         256  0.01            40          64         2          0   \n",
       "5         512  0.01            40         128         3          0   \n",
       "3         256  0.01            40         128         3          0   \n",
       "0         512  0.01            40         128         2          0   \n",
       "2         512  0.01            40          64         3          0   \n",
       "\n",
       "   weight_decay  valid_loss  \n",
       "4             0    0.001827  \n",
       "1             0    0.001947  \n",
       "5             0    0.001976  \n",
       "3             0    0.002802  \n",
       "0             0    0.003939  \n",
       "2             0    0.034462  "
      ]
     },
     "execution_count": 95,
     "metadata": {},
     "output_type": "execute_result"
    }
   ],
   "source": [
    "records = pd.DataFrame(records).sort_values(by='valid_loss')\n",
    "records.to_csv('./records/TPA_LSTM_records.csv', mode='a', index=False, header=False)\n",
    "records"
   ]
  },
  {
   "cell_type": "markdown",
   "id": "5f9968e2",
   "metadata": {},
   "source": [
    "## retrain a model"
   ]
  },
  {
   "cell_type": "code",
   "execution_count": 16,
   "id": "b82e9fd9",
   "metadata": {
    "ExecuteTime": {
     "end_time": "2022-01-07T14:12:45.338091Z",
     "start_time": "2022-01-07T14:12:45.314586Z"
    },
    "code_folding": []
   },
   "outputs": [],
   "source": [
    "def train_model(train_x,\n",
    "                train_y,\n",
    "                valid_x,\n",
    "                valid_y,\n",
    "                input_size,\n",
    "                seq_len,\n",
    "                target_len,\n",
    "                mse_thresh,\n",
    "                hidden_dim,\n",
    "                n_layers,\n",
    "                number_epoch,\n",
    "                batch_size,\n",
    "                lr,\n",
    "                drop_prob,\n",
    "                weight_decay):\n",
    "    while (1):\n",
    "        model = Seq2Seq_Attn(input_size, hidden_dim, n_layers, drop_prob)\n",
    "        model = model.to(device)\n",
    "        criterion = nn.MSELoss()\n",
    "        optimizer = torch.optim.Adam(model.parameters(), lr=lr, weight_decay=weight_decay)\n",
    "        scheduler = torch.optim.lr_scheduler.StepLR(optimizer, 1, gamma=0.98)\n",
    "        valid_loss_min = np.Inf\n",
    "        train_dataset = TensorDataset(torch.FloatTensor(train_x),\n",
    "                                      torch.FloatTensor(train_y))\n",
    "        valid_dataset = TensorDataset(torch.FloatTensor(valid_x),\n",
    "                                      torch.FloatTensor(valid_y))\n",
    "\n",
    "        train_loader = DataLoader(dataset=train_dataset,\n",
    "                                  batch_size=batch_size,\n",
    "                                  shuffle=True,\n",
    "                                  drop_last=True)\n",
    "        valid_loader = DataLoader(dataset=valid_dataset,\n",
    "                                  batch_size=batch_size,\n",
    "                                  shuffle=True,\n",
    "                                  drop_last=True)\n",
    "        train_losses = list()\n",
    "\n",
    "        num_without_imp = 0\n",
    "        \n",
    "        train_loss_list = []\n",
    "        valid_loss_list = []\n",
    "        #train\n",
    "        for epoch in range(1, number_epoch + 1):\n",
    "            loop = tqdm(enumerate(train_loader),\n",
    "                        total=len(train_loader),\n",
    "                        leave=True, ncols=100)\n",
    "            for i, (inputs, labels) in loop:\n",
    "                inputs = inputs.to(device)\n",
    "                labels = labels.to(device)\n",
    "                optimizer.zero_grad()\n",
    "                encoder_inputs = inputs\n",
    "                decoder_inputs = torch.cat((inputs[:, -1:, :], labels[:, :-1, :]), dim=1)\n",
    "                outputs = model(encoder_inputs, decoder_inputs)                                \n",
    "                loss = criterion(outputs, labels[:, :, -1])\n",
    "                train_losses.append(loss.item)\n",
    "                loss.backward()\n",
    "                optimizer.step()\n",
    "\n",
    "                # eval\n",
    "                if i % 5 == 0:\n",
    "                    num_without_imp = num_without_imp + 1\n",
    "                    valid_losses = list()\n",
    "                    model.eval()\n",
    "                    for inp, lab in valid_loader:\n",
    "                        inp = inp.to(device)\n",
    "                        lab = lab.to(device)\n",
    "                        encoder_inp = inp\n",
    "                        decoder_inp = torch.cat((inp[:, -1:, :], lab[:, :-1, :]), dim=1)\n",
    "                        out = model(encoder_inp, decoder_inp)\n",
    "                        valid_loss = criterion(out, lab[:, :, -1])\n",
    "                        valid_losses.append(valid_loss.item())\n",
    "                    model.train()\n",
    "                    loop.set_description(\"Epoch: {}/{}...\".format(\n",
    "                        epoch, number_epoch))\n",
    "                    loop.set_postfix(train_loss=loss.item(),\n",
    "                                     valid_loss=np.mean(valid_losses))\n",
    "                    train_loss_list.append(loss.item())\n",
    "                    valid_loss_list.append(np.mean(valid_losses))\n",
    "                    if np.mean(valid_losses) < valid_loss_min:\n",
    "                        num_without_imp = 0\n",
    "                        torch.save(model.state_dict(),\n",
    "                                   \"./model/TPA_LSTM_state_dict.pt\")\n",
    "                        valid_loss_min = np.mean(valid_losses)\n",
    "            scheduler.step()\n",
    "        if valid_loss_min < mse_thresh:\n",
    "            break\n",
    "    return model, train_loss_list, valid_loss_list"
   ]
  },
  {
   "cell_type": "markdown",
   "id": "1471fd36",
   "metadata": {},
   "source": [
    "## test results"
   ]
  },
  {
   "cell_type": "code",
   "execution_count": 17,
   "id": "be1f2ac6",
   "metadata": {
    "ExecuteTime": {
     "end_time": "2022-01-07T14:12:47.858625Z",
     "start_time": "2022-01-07T14:12:47.842020Z"
    },
    "code_folding": []
   },
   "outputs": [],
   "source": [
    "def test_model(model, test_x, test_y, scaler_y, seq_len, target_len,\n",
    "               batch_size):\n",
    "    test_dataset = TensorDataset(torch.FloatTensor(test_x),\n",
    "                                 torch.FloatTensor(test_y))\n",
    "    test_loader = DataLoader(dataset=test_dataset,\n",
    "                             batch_size=batch_size,\n",
    "                             shuffle=False,\n",
    "                             drop_last=True)\n",
    "    model.load_state_dict(torch.load('./model/TPA_LSTM_state_dict.pt'))\n",
    "    y_pred = []\n",
    "    y_true = []\n",
    "    with torch.no_grad():\n",
    "        model.eval()\n",
    "        for inputs, labels in test_loader:\n",
    "            inputs = inputs.to(device)\n",
    "            labels = labels.to(device)\n",
    "            encoder_inputs = inputs\n",
    "            decoder_inputs = torch.cat((inputs[:, -1:, :], labels[:, :-1, :]),\n",
    "                                       dim=1)\n",
    "            outputs = model(encoder_inputs, decoder_inputs)\n",
    "            y_pred += outputs.cpu().numpy().flatten().tolist()\n",
    "            y_true += labels[:, :, -1].cpu().numpy().flatten().tolist()\n",
    "    y_pred = np.array(y_pred).reshape(-1, 1)\n",
    "    y_true = np.array(y_true).reshape(-1, 1)\n",
    "    #     pdb.set_trace()\n",
    "    load_pred = scaler_y.inverse_transform(y_pred)\n",
    "    load_true = scaler_y.inverse_transform(y_true)\n",
    "    MAPE = np.mean(np.abs(load_true - load_pred) / load_true)\n",
    "    MAE = np.mean(np.abs(load_true - load_pred))\n",
    "    RMSE = np.sqrt(np.mean(np.square(load_true - load_pred)))\n",
    "    return MAPE, MAE, RMSE, load_pred, load_true"
   ]
  },
  {
   "cell_type": "markdown",
   "id": "e23c3f22",
   "metadata": {},
   "source": [
    "## run model retraining"
   ]
  },
  {
   "cell_type": "code",
   "execution_count": 18,
   "id": "d12357d8",
   "metadata": {
    "ExecuteTime": {
     "end_time": "2022-01-07T14:12:49.696264Z",
     "start_time": "2022-01-07T14:12:49.680710Z"
    }
   },
   "outputs": [],
   "source": [
    "def run_model_retraining(seq_len=seq_len,\n",
    "                         target_len=target_len,\n",
    "                         mse_thresh=mse_thresh):\n",
    "    train_data = data[:int(0.8 * len(data))]\n",
    "    train_data, scaler, scaler_y = normalization(train_data)\n",
    "    train_x, train_y = series_to_supervise(train_data, seq_len, target_len)\n",
    "\n",
    "    valid_x = train_x[int(0.8 * len(train_x)):]\n",
    "    valid_y = train_y[int(0.8 * len(train_y)):]\n",
    "    train_x = train_x[:int(0.8 * len(train_x))]\n",
    "    train_y = train_y[:int(0.8 * len(train_y))]\n",
    "    input_size = train_x.shape[2]\n",
    "\n",
    "    #     hyper-parameters define\n",
    "    batch_size = 256\n",
    "    lr = 0.01\n",
    "    number_epoch = 80\n",
    "    hidden_dim = 64\n",
    "    n_layers = 2\n",
    "    drop_prob = 0\n",
    "    weight_decay = 0\n",
    "    mse_thresh = 0.01\n",
    "\n",
    "    model, train_loss_list, valid_loss_list = train_model(\n",
    "        train_x, train_y, valid_x, valid_y, input_size, seq_len, target_len,\n",
    "        mse_thresh, hidden_dim, n_layers, number_epoch, batch_size, lr,\n",
    "        drop_prob, weight_decay)\n",
    "\n",
    "    # plot training process\n",
    "    plt.plot(train_loss_list[10:], 'm', label='train_loss')\n",
    "    plt.plot(valid_loss_list[10:], 'g', label='valid_loss')\n",
    "    plt.grid('both')\n",
    "    plt.legend()\n",
    "    # test\n",
    "\n",
    "    test_data = data[int(0.8 * len(data)):]\n",
    "    test_data = scaler.transform(test_data)\n",
    "    test_x, test_y = series_to_supervise(test_data, seq_len, target_len)\n",
    "    MAPE, MAE, RMSE, load_pred, load_true = test_model(model, test_x, test_y,\n",
    "                                                       scaler_y, seq_len,\n",
    "                                                       target_len, batch_size)\n",
    "    return MAPE, MAE, RMSE, load_pred, load_true"
   ]
  },
  {
   "cell_type": "code",
   "execution_count": 27,
   "id": "3dec796f",
   "metadata": {
    "ExecuteTime": {
     "end_time": "2022-01-07T16:04:18.317962Z",
     "start_time": "2022-01-07T15:47:44.506515Z"
    }
   },
   "outputs": [
    {
     "name": "stdout",
     "output_type": "stream",
     "text": [
      "supervised data: shape of x: (25232, 72, 16), shape of y: (25232, 24, 16)\n"
     ]
    },
    {
     "name": "stderr",
     "output_type": "stream",
     "text": [
      "Epoch: 1/80...: 100%|███████| 78/78 [00:12<00:00,  6.44it/s, train_loss=0.00468, valid_loss=0.00618]\n",
      "Epoch: 2/80...: 100%|███████| 78/78 [00:12<00:00,  6.42it/s, train_loss=0.00217, valid_loss=0.00262]\n",
      "Epoch: 3/80...: 100%|██████| 78/78 [00:12<00:00,  6.43it/s, train_loss=0.000982, valid_loss=0.00146]\n",
      "Epoch: 4/80...: 100%|██████| 78/78 [00:12<00:00,  6.42it/s, train_loss=0.000668, valid_loss=0.00132]\n",
      "Epoch: 5/80...: 100%|██████| 78/78 [00:12<00:00,  6.41it/s, train_loss=0.000781, valid_loss=0.00123]\n",
      "Epoch: 6/80...: 100%|███████| 78/78 [00:12<00:00,  6.42it/s, train_loss=0.00124, valid_loss=0.00152]\n",
      "Epoch: 7/80...: 100%|███████| 78/78 [00:12<00:00,  6.35it/s, train_loss=0.000648, valid_loss=0.0014]\n",
      "Epoch: 8/80...: 100%|██████| 78/78 [00:12<00:00,  6.39it/s, train_loss=0.000748, valid_loss=0.00114]\n",
      "Epoch: 9/80...: 100%|███████| 78/78 [00:12<00:00,  6.38it/s, train_loss=0.000374, valid_loss=0.0012]\n",
      "Epoch: 10/80...: 100%|█████| 78/78 [00:12<00:00,  6.41it/s, train_loss=0.000311, valid_loss=0.00106]\n",
      "Epoch: 11/80...: 100%|█████| 78/78 [00:12<00:00,  6.43it/s, train_loss=0.000337, valid_loss=0.00106]\n",
      "Epoch: 12/80...: 100%|█████| 78/78 [00:12<00:00,  6.44it/s, train_loss=0.000337, valid_loss=0.00119]\n",
      "Epoch: 13/80...: 100%|█████| 78/78 [00:12<00:00,  6.40it/s, train_loss=0.000295, valid_loss=0.00113]\n",
      "Epoch: 14/80...: 100%|█████| 78/78 [00:12<00:00,  6.39it/s, train_loss=0.000325, valid_loss=0.00115]\n",
      "Epoch: 15/80...: 100%|█████| 78/78 [00:12<00:00,  6.36it/s, train_loss=0.000376, valid_loss=0.00125]\n",
      "Epoch: 16/80...: 100%|█████| 78/78 [00:12<00:00,  6.40it/s, train_loss=0.000207, valid_loss=0.00114]\n",
      "Epoch: 17/80...: 100%|█████| 78/78 [00:12<00:00,  6.36it/s, train_loss=0.000155, valid_loss=0.00117]\n",
      "Epoch: 18/80...: 100%|█████| 78/78 [00:12<00:00,  6.39it/s, train_loss=0.000162, valid_loss=0.00132]\n",
      "Epoch: 19/80...: 100%|█████| 78/78 [00:12<00:00,  6.40it/s, train_loss=0.000196, valid_loss=0.00141]\n",
      "Epoch: 20/80...: 100%|█████| 78/78 [00:12<00:00,  6.36it/s, train_loss=0.000156, valid_loss=0.00136]\n",
      "Epoch: 21/80...: 100%|█████| 78/78 [00:12<00:00,  6.36it/s, train_loss=0.000197, valid_loss=0.00153]\n",
      "Epoch: 22/80...: 100%|██████| 78/78 [00:12<00:00,  6.31it/s, train_loss=0.00021, valid_loss=0.00141]\n",
      "Epoch: 23/80...: 100%|█████| 78/78 [00:12<00:00,  6.36it/s, train_loss=0.000126, valid_loss=0.00123]\n",
      "Epoch: 24/80...: 100%|██████| 78/78 [00:12<00:00,  6.35it/s, train_loss=0.000127, valid_loss=0.0013]\n",
      "Epoch: 25/80...: 100%|█████| 78/78 [00:12<00:00,  6.30it/s, train_loss=0.000105, valid_loss=0.00136]\n",
      "Epoch: 26/80...: 100%|█████| 78/78 [00:12<00:00,  6.39it/s, train_loss=0.000107, valid_loss=0.00128]\n",
      "Epoch: 27/80...: 100%|█████| 78/78 [00:12<00:00,  6.39it/s, train_loss=0.000231, valid_loss=0.00147]\n",
      "Epoch: 28/80...: 100%|██████| 78/78 [00:12<00:00,  6.28it/s, train_loss=9.46e-5, valid_loss=0.00129]\n",
      "Epoch: 29/80...: 100%|██████| 78/78 [00:12<00:00,  6.30it/s, train_loss=9.45e-5, valid_loss=0.00135]\n",
      "Epoch: 30/80...: 100%|██████| 78/78 [00:12<00:00,  6.31it/s, train_loss=8.72e-5, valid_loss=0.00129]\n",
      "Epoch: 31/80...: 100%|███████| 78/78 [00:12<00:00,  6.35it/s, train_loss=9.94e-5, valid_loss=0.0013]\n",
      "Epoch: 32/80...: 100%|██████| 78/78 [00:12<00:00,  6.40it/s, train_loss=8.79e-5, valid_loss=0.00129]\n",
      "Epoch: 33/80...: 100%|███████| 78/78 [00:12<00:00,  6.40it/s, train_loss=8.8e-5, valid_loss=0.00129]\n",
      "Epoch: 34/80...: 100%|██████| 78/78 [00:12<00:00,  6.33it/s, train_loss=8.01e-5, valid_loss=0.00132]\n",
      "Epoch: 35/80...: 100%|██████| 78/78 [00:12<00:00,  6.24it/s, train_loss=8.48e-5, valid_loss=0.00122]\n",
      "Epoch: 36/80...: 100%|██████| 78/78 [00:12<00:00,  6.30it/s, train_loss=7.94e-5, valid_loss=0.00134]\n",
      "Epoch: 37/80...: 100%|██████| 78/78 [00:12<00:00,  6.27it/s, train_loss=0.000117, valid_loss=0.0013]\n",
      "Epoch: 38/80...: 100%|██████| 78/78 [00:12<00:00,  6.24it/s, train_loss=6.15e-5, valid_loss=0.00128]\n",
      "Epoch: 39/80...: 100%|██████| 78/78 [00:12<00:00,  6.34it/s, train_loss=8.42e-5, valid_loss=0.00131]\n",
      "Epoch: 40/80...: 100%|██████| 78/78 [00:12<00:00,  6.30it/s, train_loss=7.86e-5, valid_loss=0.00133]\n",
      "Epoch: 41/80...: 100%|██████| 78/78 [00:12<00:00,  6.21it/s, train_loss=6.06e-5, valid_loss=0.00127]\n",
      "Epoch: 42/80...: 100%|███████| 78/78 [00:12<00:00,  6.31it/s, train_loss=7.19e-5, valid_loss=0.0013]\n",
      "Epoch: 43/80...: 100%|██████| 78/78 [00:12<00:00,  6.22it/s, train_loss=6.39e-5, valid_loss=0.00126]\n",
      "Epoch: 44/80...: 100%|███████| 78/78 [00:12<00:00,  6.28it/s, train_loss=5.72e-5, valid_loss=0.0013]\n",
      "Epoch: 45/80...: 100%|██████| 78/78 [00:12<00:00,  6.28it/s, train_loss=8.91e-5, valid_loss=0.00151]\n",
      "Epoch: 46/80...: 100%|██████| 78/78 [00:12<00:00,  6.20it/s, train_loss=5.55e-5, valid_loss=0.00131]\n",
      "Epoch: 47/80...: 100%|██████| 78/78 [00:12<00:00,  6.24it/s, train_loss=7.03e-5, valid_loss=0.00134]\n",
      "Epoch: 48/80...: 100%|██████| 78/78 [00:12<00:00,  6.28it/s, train_loss=5.99e-5, valid_loss=0.00127]\n",
      "Epoch: 49/80...: 100%|██████| 78/78 [00:12<00:00,  6.20it/s, train_loss=6.15e-5, valid_loss=0.00128]\n",
      "Epoch: 50/80...: 100%|██████| 78/78 [00:12<00:00,  6.33it/s, train_loss=7.65e-5, valid_loss=0.00126]\n",
      "Epoch: 51/80...: 100%|██████| 78/78 [00:12<00:00,  6.28it/s, train_loss=5.51e-5, valid_loss=0.00131]\n",
      "Epoch: 52/80...: 100%|██████| 78/78 [00:12<00:00,  6.31it/s, train_loss=5.15e-5, valid_loss=0.00131]\n",
      "Epoch: 53/80...: 100%|██████| 78/78 [00:12<00:00,  6.31it/s, train_loss=7.34e-5, valid_loss=0.00136]\n",
      "Epoch: 54/80...: 100%|██████| 78/78 [00:12<00:00,  6.25it/s, train_loss=8.84e-5, valid_loss=0.00132]\n",
      "Epoch: 55/80...: 100%|██████| 78/78 [00:12<00:00,  6.41it/s, train_loss=5.28e-5, valid_loss=0.00131]\n",
      "Epoch: 56/80...: 100%|██████| 78/78 [00:12<00:00,  6.27it/s, train_loss=4.83e-5, valid_loss=0.00126]\n",
      "Epoch: 57/80...: 100%|██████| 78/78 [00:12<00:00,  6.31it/s, train_loss=4.23e-5, valid_loss=0.00127]\n",
      "Epoch: 58/80...: 100%|██████| 78/78 [00:12<00:00,  6.28it/s, train_loss=4.65e-5, valid_loss=0.00126]\n",
      "Epoch: 59/80...: 100%|██████| 78/78 [00:12<00:00,  6.26it/s, train_loss=4.72e-5, valid_loss=0.00128]\n",
      "Epoch: 60/80...: 100%|██████| 78/78 [00:12<00:00,  6.33it/s, train_loss=4.84e-5, valid_loss=0.00129]\n",
      "Epoch: 61/80...: 100%|██████| 78/78 [00:12<00:00,  6.30it/s, train_loss=5.11e-5, valid_loss=0.00129]\n",
      "Epoch: 62/80...: 100%|██████| 78/78 [00:12<00:00,  6.32it/s, train_loss=4.29e-5, valid_loss=0.00127]\n",
      "Epoch: 63/80...: 100%|██████| 78/78 [00:12<00:00,  6.38it/s, train_loss=4.73e-5, valid_loss=0.00124]\n",
      "Epoch: 64/80...: 100%|██████| 78/78 [00:12<00:00,  6.26it/s, train_loss=5.96e-5, valid_loss=0.00131]\n",
      "Epoch: 65/80...: 100%|██████| 78/78 [00:12<00:00,  6.31it/s, train_loss=6.09e-5, valid_loss=0.00129]\n",
      "Epoch: 66/80...: 100%|██████| 78/78 [00:12<00:00,  6.40it/s, train_loss=4.16e-5, valid_loss=0.00127]\n",
      "Epoch: 67/80...: 100%|██████| 78/78 [00:12<00:00,  6.33it/s, train_loss=3.94e-5, valid_loss=0.00129]\n",
      "Epoch: 68/80...: 100%|██████| 78/78 [00:12<00:00,  6.24it/s, train_loss=3.93e-5, valid_loss=0.00127]\n",
      "Epoch: 69/80...: 100%|██████| 78/78 [00:12<00:00,  6.24it/s, train_loss=3.94e-5, valid_loss=0.00128]\n",
      "Epoch: 70/80...: 100%|██████| 78/78 [00:12<00:00,  6.21it/s, train_loss=3.84e-5, valid_loss=0.00126]\n",
      "Epoch: 71/80...: 100%|██████| 78/78 [00:12<00:00,  6.21it/s, train_loss=3.78e-5, valid_loss=0.00127]\n",
      "Epoch: 72/80...: 100%|██████| 78/78 [00:12<00:00,  6.27it/s, train_loss=3.66e-5, valid_loss=0.00129]\n",
      "Epoch: 73/80...: 100%|██████| 78/78 [00:12<00:00,  6.21it/s, train_loss=3.88e-5, valid_loss=0.00123]\n",
      "Epoch: 74/80...: 100%|██████| 78/78 [00:12<00:00,  6.28it/s, train_loss=4.09e-5, valid_loss=0.00129]\n",
      "Epoch: 75/80...: 100%|██████| 78/78 [00:12<00:00,  6.24it/s, train_loss=3.93e-5, valid_loss=0.00128]\n",
      "Epoch: 76/80...: 100%|███████| 78/78 [00:12<00:00,  6.22it/s, train_loss=3.66e-5, valid_loss=0.0013]\n",
      "Epoch: 77/80...: 100%|█████████| 78/78 [00:12<00:00,  6.26it/s, train_loss=4e-5, valid_loss=0.00129]\n",
      "Epoch: 78/80...: 100%|██████| 78/78 [00:12<00:00,  6.23it/s, train_loss=3.42e-5, valid_loss=0.00127]\n",
      "Epoch: 79/80...: 100%|███████| 78/78 [00:12<00:00,  6.27it/s, train_loss=3.31e-5, valid_loss=0.0013]\n",
      "Epoch: 80/80...: 100%|███████| 78/78 [00:12<00:00,  6.29it/s, train_loss=3.36e-5, valid_loss=0.0013]\n"
     ]
    },
    {
     "name": "stdout",
     "output_type": "stream",
     "text": [
      "supervised data: shape of x: (6237, 72, 16), shape of y: (6237, 24, 16)\n",
      "MAPE:0.03285355571167501, MAE:412.0651185313937, RMSE:550.3326863306827\n"
     ]
    },
    {
     "data": {
      "image/png": "[encoded data removed]",
      "text/plain": [
       "<Figure size 432x288 with 1 Axes>"
      ]
     },
     "metadata": {
      "needs_background": "light"
     },
     "output_type": "display_data"
    }
   ],
   "source": [
    "random_seed_set(42)\n",
    "MAPE, MAE, RMSE, load_pred, load_true = run_model_retraining()\n",
    "print('MAPE:{}, MAE:{}, RMSE:{}'.format(MAPE, MAE, RMSE))"
   ]
  },
  {
   "cell_type": "code",
   "execution_count": 28,
   "id": "ffdd3b2e",
   "metadata": {
    "ExecuteTime": {
     "end_time": "2022-01-07T16:11:26.147935Z",
     "start_time": "2022-01-07T16:11:26.141323Z"
    }
   },
   "outputs": [
    {
     "name": "stdout",
     "output_type": "stream",
     "text": [
      "MAPE:0.03285355571167501, MAE:412.0651185313937, RMSE:550.3326863306827\n"
     ]
    }
   ],
   "source": [
    "print('MAPE:{}, MAE:{}, RMSE:{}'.format(MAPE, MAE, RMSE))"
   ]
  },
  {
   "cell_type": "markdown",
   "id": "b306d565",
   "metadata": {},
   "source": [
    "## figure plot"
   ]
  },
  {
   "cell_type": "code",
   "execution_count": 29,
   "id": "a8f0a18e",
   "metadata": {
    "ExecuteTime": {
     "end_time": "2022-01-07T16:11:28.160907Z",
     "start_time": "2022-01-07T16:11:28.001480Z"
    }
   },
   "outputs": [
    {
     "data": {
      "text/plain": [
       "(0.0, 19631.065742367326)"
      ]
     },
     "execution_count": 29,
     "metadata": {},
     "output_type": "execute_result"
    },
    {
     "data": {
      "image/png": "[encoded data removed]",
      "text/plain": [
       "<Figure size 1440x720 with 1 Axes>"
      ]
     },
     "metadata": {
      "needs_background": "light"
     },
     "output_type": "display_data"
    }
   ],
   "source": [
    "plt.figure(figsize=(20, 10))\n",
    "load_pred = load_pred.reshape(-1, 24)\n",
    "load_true = load_true.reshape(-1, 24)\n",
    "plt.plot(load_pred[:240, 23], 'm')\n",
    "plt.plot(load_true[:240, 23], 'g')\n",
    "plt.ylim(ymin=0)"
   ]
  }
 ],
 "metadata": {
  "kernelspec": {
   "display_name": "Python 3 (ipykernel)",
   "language": "python",
   "name": "python3"
  },
  "language_info": {
   "codemirror_mode": {
    "name": "ipython",
    "version": 3
   },
   "file_extension": ".py",
   "mimetype": "text/x-python",
   "name": "python",
   "nbconvert_exporter": "python",
   "pygments_lexer": "ipython3",
   "version": "3.8.12"
  },
  "toc": {
   "base_numbering": 1,
   "nav_menu": {},
   "number_sections": true,
   "sideBar": true,
   "skip_h1_title": false,
   "title_cell": "Table of Contents",
   "title_sidebar": "Contents",
   "toc_cell": false,
   "toc_position": {
    "height": "calc(100% - 180px)",
    "left": "10px",
    "top": "150px",
    "width": "374.373px"
   },
   "toc_section_display": true,
   "toc_window_display": true
  },
  "varInspector": {
   "cols": {
    "lenName": 16,
    "lenType": 16,
    "lenVar": 40
   },
   "kernels_config": {
    "python": {
     "delete_cmd_postfix": "",
     "delete_cmd_prefix": "del ",
     "library": "var_list.py",
     "varRefreshCmd": "print(var_dic_list())"
    },
    "r": {
     "delete_cmd_postfix": ") ",
     "delete_cmd_prefix": "rm(",
     "library": "var_list.r",
     "varRefreshCmd": "cat(var_dic_list()) "
    }
   },
   "types_to_exclude": [
    "module",
    "function",
    "builtin_function_or_method",
    "instance",
    "_Feature"
   ],
   "window_display": false
  }
 },
 "nbformat": 4,
 "nbformat_minor": 5
}
