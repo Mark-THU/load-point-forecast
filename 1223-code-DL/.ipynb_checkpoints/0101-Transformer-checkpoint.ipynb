{
 "cells": [
  {
   "cell_type": "markdown",
   "id": "6ec896a2",
   "metadata": {},
   "source": [
    "# Transformer for forecast"
   ]
  },
  {
   "cell_type": "code",
   "execution_count": 1,
   "id": "62f7c4dc",
   "metadata": {
    "ExecuteTime": {
     "end_time": "2022-01-02T08:27:49.246286Z",
     "start_time": "2022-01-02T08:27:48.318282Z"
    }
   },
   "outputs": [],
   "source": [
    "import pandas as pd\n",
    "import numpy as np\n",
    "import matplotlib.pyplot as plt\n",
    "import pdb\n",
    "import torch\n",
    "import torch.nn as nn\n",
    "import torch.nn.functional as F\n",
    "import random\n",
    "import math\n",
    "\n",
    "from sklearn.preprocessing import MinMaxScaler\n",
    "from sklearn.model_selection import train_test_split, TimeSeriesSplit\n",
    "from torch.autograd import Variable\n",
    "from torch.utils.data import TensorDataset, DataLoader\n",
    "from tqdm import tqdm\n",
    "from xgboost import XGBRegressor\n",
    "if torch.cuda.is_available():  \n",
    "    dev = \"cuda:0\" \n",
    "else:  \n",
    "    dev = \"cpu\"\n",
    "device = torch.device(dev)"
   ]
  },
  {
   "cell_type": "code",
   "execution_count": 2,
   "id": "d88da881",
   "metadata": {
    "ExecuteTime": {
     "end_time": "2022-01-02T08:27:49.251045Z",
     "start_time": "2022-01-02T08:27:49.247999Z"
    }
   },
   "outputs": [],
   "source": [
    "def random_seed_set(seed):\n",
    "    np.random.seed(seed)\n",
    "    torch.random.manual_seed(seed)\n",
    "    torch.cuda.random.manual_seed(seed)\n",
    "    torch.backends.cudnn.benchmark = False\n",
    "    torch.backends.cudnn.deterministic = True"
   ]
  },
  {
   "cell_type": "markdown",
   "id": "efa1d649",
   "metadata": {},
   "source": [
    "## load data"
   ]
  },
  {
   "cell_type": "code",
   "execution_count": 3,
   "id": "410061d9",
   "metadata": {
    "ExecuteTime": {
     "end_time": "2022-01-02T08:27:49.338757Z",
     "start_time": "2022-01-02T08:27:49.252271Z"
    }
   },
   "outputs": [],
   "source": [
    "url = '../data/beijing.csv'\n",
    "data = pd.read_csv(url, sep=',', index_col='time')"
   ]
  },
  {
   "cell_type": "markdown",
   "id": "9e106cda",
   "metadata": {},
   "source": [
    "## normalization"
   ]
  },
  {
   "cell_type": "code",
   "execution_count": 4,
   "id": "2c702662",
   "metadata": {
    "ExecuteTime": {
     "end_time": "2022-01-02T08:27:49.343880Z",
     "start_time": "2022-01-02T08:27:49.340637Z"
    }
   },
   "outputs": [],
   "source": [
    "def normalization(data):\n",
    "    \"\"\"\n",
    "    data: original data with load\n",
    "    return: normalized data, scaler of load\n",
    "    \"\"\"\n",
    "    scaler = MinMaxScaler()\n",
    "    normalized_data = scaler.fit_transform(data)\n",
    "    scaler_y = MinMaxScaler()\n",
    "    scaler_y.fit_transform(data[[data.columns[-1]]])\n",
    "    return normalized_data, scaler, scaler_y"
   ]
  },
  {
   "cell_type": "markdown",
   "id": "8fd0f417",
   "metadata": {
    "ExecuteTime": {
     "end_time": "2021-12-22T07:45:44.192666Z",
     "start_time": "2021-12-22T07:45:44.188985Z"
    }
   },
   "source": [
    "## build supervised dataset"
   ]
  },
  {
   "cell_type": "code",
   "execution_count": 5,
   "id": "1de9f436",
   "metadata": {
    "ExecuteTime": {
     "end_time": "2022-01-02T08:27:49.349238Z",
     "start_time": "2022-01-02T08:27:49.345314Z"
    }
   },
   "outputs": [],
   "source": [
    "def series_to_supervise(data, seq_len, target_len):\n",
    "    \"\"\"\n",
    "    convert series data to supervised data\n",
    "    :param data: original data\n",
    "    :param seq_len: length of input sequence\n",
    "    :param target_len: length of ouput sequence\n",
    "    :return: return two ndarrays-- input and output in format suitable to feed to LSTM\n",
    "    \"\"\"\n",
    "    dim_0 = data.shape[0] - seq_len - target_len + 1\n",
    "    dim_1 = data.shape[1]\n",
    "    x = np.zeros((dim_0, seq_len, dim_1))\n",
    "    y = np.zeros((dim_0, target_len, dim_1))\n",
    "    for i in range(dim_0):\n",
    "        x[i] = data[i:i + seq_len]\n",
    "        y[i] = data[i + seq_len:i + seq_len + target_len, :]\n",
    "    print(\"supervised data: shape of x: {}, shape of y: {}\".format(\n",
    "        x.shape, y.shape))\n",
    "    return x, y"
   ]
  },
  {
   "cell_type": "markdown",
   "id": "9d05ec43",
   "metadata": {},
   "source": [
    "## 5-folds TimeSeriesSplit"
   ]
  },
  {
   "cell_type": "code",
   "execution_count": 6,
   "id": "037d4490",
   "metadata": {
    "ExecuteTime": {
     "end_time": "2022-01-02T08:27:49.354363Z",
     "start_time": "2022-01-02T08:27:49.350901Z"
    }
   },
   "outputs": [],
   "source": [
    "def time_series_split(X, Y, n_split=5):\n",
    "    \"\"\"\n",
    "    X: features, size * seq_len * feature_num\n",
    "    Y: labels, size * target_len\n",
    "    return: list of train_x, test_x, train_y, test_y\n",
    "    \"\"\"\n",
    "    tscv = TimeSeriesSplit(n_splits=n_split)\n",
    "    train_x_list = list()\n",
    "    valid_x_list = list()\n",
    "    train_y_list = list()\n",
    "    valid_y_list = list()\n",
    "    for train_index, valid_index in tscv.split(X):\n",
    "        train_x_list.append(X[train_index])\n",
    "        train_y_list.append(Y[train_index])\n",
    "        valid_x_list.append(X[valid_index])\n",
    "        valid_y_list.append(Y[valid_index])\n",
    "    return train_x_list, train_y_list, valid_x_list, valid_y_list"
   ]
  },
  {
   "cell_type": "markdown",
   "id": "31f1611a",
   "metadata": {},
   "source": [
    "## Transform model"
   ]
  },
  {
   "cell_type": "markdown",
   "id": "516ec144",
   "metadata": {},
   "source": [
    "### PositionalEncoding"
   ]
  },
  {
   "cell_type": "code",
   "execution_count": 7,
   "id": "65426329",
   "metadata": {
    "ExecuteTime": {
     "end_time": "2022-01-02T08:27:49.360731Z",
     "start_time": "2022-01-02T08:27:49.355699Z"
    }
   },
   "outputs": [],
   "source": [
    "class PositionalEncoding(nn.Module):\n",
    "    \"\"\"位置编码\"\"\"\n",
    "    def __init__(self, num_hiddens, dropout, max_len=500):\n",
    "        super(PositionalEncoding, self).__init__()\n",
    "        self.dropout = nn.Dropout(dropout)\n",
    "        # 创建一个足够长的 `P`\n",
    "        self.P = torch.zeros((1, max_len, num_hiddens))\n",
    "        X = torch.arange(max_len, dtype=torch.float32).reshape(\n",
    "            -1, 1) / torch.pow(10000, torch.arange(\n",
    "            0, num_hiddens, 2, dtype=torch.float32) / num_hiddens)\n",
    "        self.P[:, :, 0::2] = torch.sin(X)\n",
    "        self.P[:, :, 1::2] = torch.cos(X)\n",
    "\n",
    "    def forward(self, X):\n",
    "        X = X + self.P[:, :X.shape[1], :].to(X.device)\n",
    "        return self.dropout(X)"
   ]
  },
  {
   "cell_type": "markdown",
   "id": "527fbc06",
   "metadata": {},
   "source": [
    "### DotProduct Attention"
   ]
  },
  {
   "cell_type": "code",
   "execution_count": 8,
   "id": "14db4c1c",
   "metadata": {
    "ExecuteTime": {
     "end_time": "2022-01-02T08:27:49.369620Z",
     "start_time": "2022-01-02T08:27:49.362235Z"
    }
   },
   "outputs": [],
   "source": [
    "def sequence_mask(X, valid_len, value=0):\n",
    "    \"\"\"在序列中屏蔽不相关的项\"\"\"\n",
    "    maxlen = X.size(1)\n",
    "    mask = torch.arange((maxlen), dtype=torch.float32,\n",
    "                        device=X.device)[None, :] < valid_len[:, None]\n",
    "    X[~mask] = value\n",
    "    return X\n",
    "\n",
    "\n",
    "def masked_softmax(X, valid_lens):\n",
    "    \"\"\"通过在最后一个轴上掩蔽元素来执行 softmax 操作\"\"\"\n",
    "    # `X`: 3D张量，`valid_lens`: 1D或2D 张量\n",
    "    # valid_lens 为 None 正常softmax\n",
    "    if valid_lens is None:\n",
    "        return nn.functional.softmax(X, dim=-1)\n",
    "    else:\n",
    "        shape = X.shape\n",
    "        if valid_lens.dim() == 1:\n",
    "            valid_lens = torch.repeat_interleave(valid_lens, shape[1])\n",
    "        else:\n",
    "            valid_lens = valid_lens.reshape(-1)\n",
    "        # 最后一轴上被掩蔽的元素使用一个非常大的负值替换，从而其softmax输出为0\n",
    "        X = sequence_mask(X.reshape(-1, shape[-1]), valid_lens, value=-1e6)\n",
    "        return nn.functional.softmax(X.reshape(shape), dim=-1)\n",
    "\n",
    "\n",
    "class DotProductAttention(nn.Module):\n",
    "    \"\"\"缩放点积注意力\"\"\"\n",
    "    def __init__(self, dropout, **kwargs):\n",
    "        super(DotProductAttention, self).__init__(**kwargs)\n",
    "        self.dropout = nn.Dropout(dropout)\n",
    "\n",
    "    # `queries` 的形状：(`batch_size`，查询的个数，`d`)\n",
    "    # `keys` 的形状：(`batch_size`，“键－值”对的个数，`d`)\n",
    "    # `values` 的形状：(`batch_size`，“键－值”对的个数，值的维度)\n",
    "    # `valid_lens` 的形状: (`batch_size`，) 或者 (`batch_size`，查询的个数)\n",
    "\n",
    "    def forward(self, queries, keys, values, valid_lens=None):\n",
    "        d = queries.shape[-1]\n",
    "        # 设置 `transpose_b=True` 为了交换 `keys` 的最后两个维度\n",
    "        scores = torch.bmm(queries, keys.transpose(1, 2)) / math.sqrt(d)\n",
    "        self.attention_weights = masked_softmax(scores, valid_lens)\n",
    "        return torch.bmm(self.dropout(self.attention_weights), values)"
   ]
  },
  {
   "cell_type": "markdown",
   "id": "efb4591a",
   "metadata": {},
   "source": [
    "### MultiHead Attention"
   ]
  },
  {
   "cell_type": "code",
   "execution_count": 9,
   "id": "eabdc148",
   "metadata": {
    "ExecuteTime": {
     "end_time": "2022-01-02T08:27:49.379430Z",
     "start_time": "2022-01-02T08:27:49.371035Z"
    }
   },
   "outputs": [],
   "source": [
    "class MultiHeadAttention(nn.Module):\n",
    "    \"\"\"多头注意力\"\"\"\n",
    "    def __init__(self,\n",
    "                 key_size,\n",
    "                 query_size,\n",
    "                 value_size,\n",
    "                 num_hiddens,\n",
    "                 num_heads,\n",
    "                 dropout,\n",
    "                 bias=False,\n",
    "                 **kwargs):\n",
    "        super(MultiHeadAttention, self).__init__(**kwargs)\n",
    "        self.num_heads = num_heads\n",
    "        self.attention = DotProductAttention(dropout)\n",
    "        self.W_q = nn.Linear(query_size, num_hiddens, bias=bias)\n",
    "        self.W_k = nn.Linear(key_size, num_hiddens, bias=bias)\n",
    "        self.W_v = nn.Linear(value_size, num_hiddens, bias=bias)\n",
    "        self.W_o = nn.Linear(num_hiddens, num_hiddens, bias=bias)\n",
    "\n",
    "    def forward(self, queries, keys, values, valid_lens=None):\n",
    "        # `queries`，`keys`，`values` 的形状:\n",
    "        # (`batch_size`，查询或者“键－值”对的个数，`num_hiddens`)\n",
    "        # `valid_lens`　的形状:\n",
    "        # (`batch_size`，) 或 (`batch_size`，查询的个数)\n",
    "        # 经过变换后，输出的 `queries`，`keys`，`values`　的形状:\n",
    "        # (`batch_size` * `num_heads`，查询或者“键－值”对的个数，\n",
    "        # `num_hiddens` / `num_heads`)\n",
    "        queries = transpose_qkv(self.W_q(queries), self.num_heads)\n",
    "        keys = transpose_qkv(self.W_k(keys), self.num_heads)\n",
    "        values = transpose_qkv(self.W_v(values), self.num_heads)\n",
    "\n",
    "        if valid_lens is not None:\n",
    "            # 在轴 0，将第一项（标量或者矢量）复制 `num_heads` 次，\n",
    "            # 然后如此复制第二项，然后诸如此类。\n",
    "            valid_lens = torch.repeat_interleave(valid_lens,\n",
    "                                                 repeats=self.num_heads,\n",
    "                                                 dim=0)\n",
    "\n",
    "        # `output` 的形状: (`batch_size` * `num_heads`，查询的个数，\n",
    "        # `num_hiddens` / `num_heads`)\n",
    "        output = self.attention(queries, keys, values, valid_lens)\n",
    "\n",
    "        # `output_concat` 的形状: (`batch_size`，查询的个数，`num_hiddens`)\n",
    "        output_concat = transpose_output(output, self.num_heads)\n",
    "        return self.W_o(output_concat)\n",
    "\n",
    "\n",
    "def transpose_qkv(X, num_heads):\n",
    "    \"\"\"为了多注意力头的并行计算而变换形状。\"\"\"\n",
    "    # 输入 `X` 的形状: (`batch_size`，查询或者“键－值”对的个数，`num_hiddens`)\n",
    "    # 输出 `X` 的形状: (`batch_size`，查询或者“键－值”对的个数，`num_heads`，\n",
    "    # `num_hiddens` / `num_heads`)\n",
    "    X = X.reshape(X.shape[0], X.shape[1], num_heads, -1)\n",
    "\n",
    "    # 输出 `X` 的形状: (`batch_size`，`num_heads`，查询或者“键－值”对的个数,\n",
    "    # `num_hiddens` / `num_heads`)\n",
    "    X = X.permute(0, 2, 1, 3)\n",
    "\n",
    "    # 最终输出的形状: (`batch_size` * `num_heads`, 查询或者“键－值”对的个数,\n",
    "    # `num_hiddens` / `num_heads`)\n",
    "    return X.reshape(-1, X.shape[2], X.shape[3])\n",
    "\n",
    "\n",
    "def transpose_output(X, num_heads):\n",
    "    \"\"\"逆转 `transpose_qkv` 函数的操作。\"\"\"\n",
    "    X = X.reshape(-1, num_heads, X.shape[1], X.shape[2])\n",
    "    X = X.permute(0, 2, 1, 3)\n",
    "    return X.reshape(X.shape[0], X.shape[1], -1)"
   ]
  },
  {
   "cell_type": "markdown",
   "id": "20102dc4",
   "metadata": {},
   "source": [
    "### PositionWiseFFN"
   ]
  },
  {
   "cell_type": "code",
   "execution_count": 10,
   "id": "63b9a9c9",
   "metadata": {
    "ExecuteTime": {
     "end_time": "2022-01-02T08:27:49.385237Z",
     "start_time": "2022-01-02T08:27:49.381794Z"
    }
   },
   "outputs": [],
   "source": [
    "class PositionWiseFFN(nn.Module):\n",
    "    \"\"\"基于位置的前馈网络\"\"\"\n",
    "    def __init__(self, ffn_num_input, ffn_num_hiddens, ffn_num_outputs,\n",
    "                 **kwargs):\n",
    "        super(PositionWiseFFN, self).__init__(**kwargs)\n",
    "        self.dense1 = nn.Linear(ffn_num_input, ffn_num_hiddens)\n",
    "        self.relu = nn.ReLU()\n",
    "        self.dense2 = nn.Linear(ffn_num_hiddens, ffn_num_outputs)\n",
    "\n",
    "    def forward(self, X):\n",
    "        return self.dense2(self.relu(self.dense1(X)))"
   ]
  },
  {
   "cell_type": "markdown",
   "id": "b7f3f6ac",
   "metadata": {
    "ExecuteTime": {
     "end_time": "2022-01-01T11:19:45.611064Z",
     "start_time": "2022-01-01T11:19:45.606777Z"
    }
   },
   "source": [
    "### Add&Norm"
   ]
  },
  {
   "cell_type": "code",
   "execution_count": 11,
   "id": "ff40c13f",
   "metadata": {
    "ExecuteTime": {
     "end_time": "2022-01-02T08:27:49.389762Z",
     "start_time": "2022-01-02T08:27:49.386327Z"
    }
   },
   "outputs": [],
   "source": [
    "class AddNorm(nn.Module):\n",
    "    \"\"\"残差连接后进行层规范化\"\"\"\n",
    "    def __init__(self, normalized_shape, dropout, **kwargs):\n",
    "        super(AddNorm, self).__init__(**kwargs)\n",
    "        self.dropout = nn.Dropout(dropout)\n",
    "        self.ln = nn.LayerNorm(normalized_shape)\n",
    "\n",
    "    def forward(self, X, Y):\n",
    "        return self.ln(self.dropout(Y) + X)"
   ]
  },
  {
   "cell_type": "markdown",
   "id": "5f1c496d",
   "metadata": {},
   "source": [
    "### Encoder"
   ]
  },
  {
   "cell_type": "code",
   "execution_count": 12,
   "id": "f3be6471",
   "metadata": {
    "ExecuteTime": {
     "end_time": "2022-01-02T08:27:49.398917Z",
     "start_time": "2022-01-02T08:27:49.391057Z"
    }
   },
   "outputs": [],
   "source": [
    "class EncoderBlock(nn.Module):\n",
    "    \"\"\"transformer编码器块\"\"\"\n",
    "    def __init__(self,\n",
    "                 key_size,\n",
    "                 query_size,\n",
    "                 value_size,\n",
    "                 num_hiddens,\n",
    "                 norm_shape,\n",
    "                 ffn_num_input,\n",
    "                 ffn_num_hiddens,\n",
    "                 num_heads,\n",
    "                 dropout,\n",
    "                 use_bias=False,\n",
    "                 **kwargs):\n",
    "        super(EncoderBlock, self).__init__(**kwargs)\n",
    "        self.attention = MultiHeadAttention(key_size, query_size, value_size,\n",
    "                                            num_hiddens, num_heads, dropout,\n",
    "                                            use_bias)\n",
    "        self.addnorm1 = AddNorm(norm_shape, dropout)\n",
    "        self.ffn = PositionWiseFFN(ffn_num_input, ffn_num_hiddens, num_hiddens)\n",
    "        self.addnorm2 = AddNorm(norm_shape, dropout)\n",
    "\n",
    "    def forward(self, X, valid_lens):\n",
    "        Y = self.addnorm1(X, self.attention(X, X, X, valid_lens))\n",
    "        return self.addnorm2(Y, self.ffn(Y))\n",
    "    \n",
    "    \n",
    "class TransformerEncoder(nn.Module):\n",
    "    \"\"\"transformer编码器\"\"\"\n",
    "    def __init__(self, input_size, key_size, query_size, value_size,\n",
    "                 num_hiddens, norm_shape, ffn_num_input, ffn_num_hiddens,\n",
    "                 num_heads, num_layers, dropout, use_bias=False, **kwargs):\n",
    "        super(TransformerEncoder, self).__init__(**kwargs)\n",
    "        self.num_hiddens = num_hiddens\n",
    "        self.embedding = nn.Linear(input_size, num_hiddens)\n",
    "        self.pos_encoding = PositionalEncoding(num_hiddens, dropout)\n",
    "        self.blks = nn.Sequential()\n",
    "        for i in range(num_layers):\n",
    "            self.blks.add_module(\"block\"+str(i),\n",
    "                EncoderBlock(key_size, query_size, value_size, num_hiddens,\n",
    "                             norm_shape, ffn_num_input, ffn_num_hiddens,\n",
    "                             num_heads, dropout, use_bias))\n",
    "\n",
    "    def forward(self, X, valid_lens=None, *args):\n",
    "        # 因为位置编码值在 -1 和 1 之间，\n",
    "        # 因此嵌入值乘以嵌入维度的平方根进行缩放，\n",
    "        # 然后再与位置编码相加。\n",
    "        # pdb.set_trace()\n",
    "        # X shape (batch_size, num_steps, input_size)\n",
    "        X = self.pos_encoding(self.embedding(X) * math.sqrt(self.num_hiddens))\n",
    "        for i, blk in enumerate(self.blks):\n",
    "            X = blk(X, valid_lens)\n",
    "        return X"
   ]
  },
  {
   "cell_type": "markdown",
   "id": "191e1b28",
   "metadata": {},
   "source": [
    "### Decoder"
   ]
  },
  {
   "cell_type": "code",
   "execution_count": 13,
   "id": "e871687a",
   "metadata": {
    "ExecuteTime": {
     "end_time": "2022-01-02T08:27:49.409776Z",
     "start_time": "2022-01-02T08:27:49.400233Z"
    }
   },
   "outputs": [],
   "source": [
    "class DecoderBlock(nn.Module):\n",
    "    \"\"\"解码器中第 i 个块\"\"\"\n",
    "    def __init__(self, key_size, query_size, value_size, num_hiddens,\n",
    "                 norm_shape, ffn_num_input, ffn_num_hiddens, num_heads,\n",
    "                 dropout, i, **kwargs):\n",
    "        super(DecoderBlock, self).__init__(**kwargs)\n",
    "        self.i = i\n",
    "        self.attention1 = MultiHeadAttention(\n",
    "            key_size, query_size, value_size, num_hiddens, num_heads, dropout)\n",
    "        self.addnorm1 = AddNorm(norm_shape, dropout)\n",
    "        self.attention2 = MultiHeadAttention(\n",
    "            key_size, query_size, value_size, num_hiddens, num_heads, dropout)\n",
    "        self.addnorm2 = AddNorm(norm_shape, dropout)\n",
    "        self.ffn = PositionWiseFFN(ffn_num_input, ffn_num_hiddens,\n",
    "                                   num_hiddens)\n",
    "        self.addnorm3 = AddNorm(norm_shape, dropout)\n",
    "\n",
    "    def forward(self, X, state):\n",
    "        enc_outputs, enc_valid_lens = state[0], state[1]\n",
    "        # 训练阶段，输出序列的所有词元都在同一时间处理，\n",
    "        # 因此 `state[2][self.i]` 初始化为 `None`。\n",
    "        # 预测阶段，输出序列是通过词元一个接着一个解码的，\n",
    "        # 因此 `state[2][self.i]` 包含着直到当前时间步第 `i` 个块解码的输出表示\n",
    "        if state[2][self.i] is None:\n",
    "            key_values = X\n",
    "        else:\n",
    "            key_values = torch.cat((state[2][self.i], X), axis=1)\n",
    "        state[2][self.i] = key_values\n",
    "        if self.training:\n",
    "            batch_size, num_steps, _ = X.shape\n",
    "            # `dec_valid_lens` 的开头: (`batch_size`, `num_steps`),\n",
    "            # 其中每一行是 [1, 2, ..., `num_steps`]\n",
    "            dec_valid_lens = torch.arange(\n",
    "                1, num_steps + 1, device=X.device).repeat(batch_size, 1)\n",
    "        else:\n",
    "            dec_valid_lens = None\n",
    "\n",
    "        # 自注意力\n",
    "        X2 = self.attention1(X, key_values, key_values, dec_valid_lens)\n",
    "        Y = self.addnorm1(X, X2)\n",
    "        # 编码器－解码器注意力。\n",
    "        # `enc_outputs` 的开头: (`batch_size`, `num_steps`, `num_hiddens`)\n",
    "        Y2 = self.attention2(Y, enc_outputs, enc_outputs)\n",
    "        Z = self.addnorm2(Y, Y2)\n",
    "        return self.addnorm3(Z, self.ffn(Z)), state\n",
    "\n",
    "    \n",
    "class TransformerDecoder(nn.Module):\n",
    "    \"\"\"transformer解码器\"\"\"\n",
    "    def __init__(self, input_size, key_size, query_size, value_size,\n",
    "                 num_hiddens, norm_shape, ffn_num_input, ffn_num_hiddens,\n",
    "                 num_heads, num_layers, dropout, **kwargs):\n",
    "        super(TransformerDecoder, self).__init__(**kwargs)\n",
    "        self.num_hiddens = num_hiddens\n",
    "        self.num_layers = num_layers\n",
    "        self.embedding = nn.Linear(input_size, num_hiddens)\n",
    "        self.pos_encoding = PositionalEncoding(num_hiddens, dropout)\n",
    "        self.blks = nn.Sequential()\n",
    "        for i in range(num_layers):\n",
    "            self.blks.add_module(\"block\"+str(i),\n",
    "                DecoderBlock(key_size, query_size, value_size, num_hiddens,\n",
    "                             norm_shape, ffn_num_input, ffn_num_hiddens,\n",
    "                             num_heads, dropout, i))\n",
    "        self.dense = nn.Linear(num_hiddens, 1)\n",
    "\n",
    "\n",
    "    def forward(self, X, state):\n",
    "        # X shape (batch_size, num_steps, input_size)\n",
    "        X = self.pos_encoding(self.embedding(X) * math.sqrt(self.num_hiddens))\n",
    "        for i, blk in enumerate(self.blks):\n",
    "            X, state = blk(X, state)\n",
    "        return self.dense(X), state"
   ]
  },
  {
   "cell_type": "markdown",
   "id": "2750815d",
   "metadata": {
    "ExecuteTime": {
     "end_time": "2021-12-22T13:06:00.226758Z",
     "start_time": "2021-12-22T13:06:00.223732Z"
    }
   },
   "source": [
    "### Transformer"
   ]
  },
  {
   "cell_type": "code",
   "execution_count": 14,
   "id": "c6caef9b",
   "metadata": {
    "ExecuteTime": {
     "end_time": "2022-01-02T08:27:49.416774Z",
     "start_time": "2022-01-02T08:27:49.410885Z"
    }
   },
   "outputs": [],
   "source": [
    "class Transformer(nn.Module):\n",
    "    \"\"\"完整transformer模型\"\"\"\n",
    "    def __init__(self, input_size, key_size, query_size, value_size,\n",
    "                 num_hiddens, norm_shape, ffn_num_input, ffn_num_hiddens,\n",
    "                 num_heads, num_layers, dropout, **kwargs):\n",
    "        super(Transformer, self).__init__(**kwargs)\n",
    "        self.num_layers = num_layers\n",
    "        self.encoder = TransformerEncoder(input_size, key_size, query_size,\n",
    "                                          value_size, num_hiddens,\n",
    "                                          norm_shape[0], ffn_num_input,\n",
    "                                          ffn_num_hiddens, num_heads,\n",
    "                                          num_layers, dropout)\n",
    "        self.decoder = TransformerDecoder(input_size, key_size, query_size,\n",
    "                                          value_size, num_hiddens,\n",
    "                                          norm_shape[1], ffn_num_input,\n",
    "                                          ffn_num_hiddens, num_heads,\n",
    "                                          num_layers, dropout)\n",
    "\n",
    "    def forward(self, enc_inputs, dec_inputs):\n",
    "        enc_outputs = self.encoder(enc_inputs)\n",
    "        state = [enc_outputs, None, [None] * self.num_layers]\n",
    "\n",
    "        outputs = []\n",
    "        if self.training:\n",
    "            outputs, state = self.decoder(dec_inputs, state)\n",
    "        else:\n",
    "            for i in range(dec_inputs.shape[1]):\n",
    "                if i:\n",
    "                    x = torch.cat((dec_inputs[:, i:i + 1, :-1], out.detach()),\n",
    "                                  dim=-1)\n",
    "                else:\n",
    "                    x = dec_inputs[:, i:i+1, :]\n",
    "                out, state = self.decoder(x, state)\n",
    "                outputs.append(out)\n",
    "            outputs = torch.cat(outputs, dim=1)\n",
    "        return outputs.reshape(outputs.shape[0], -1)"
   ]
  },
  {
   "cell_type": "markdown",
   "id": "90987730",
   "metadata": {
    "ExecuteTime": {
     "end_time": "2022-01-02T07:13:57.924618Z",
     "start_time": "2022-01-02T07:13:57.920233Z"
    }
   },
   "source": [
    "### model tets"
   ]
  },
  {
   "cell_type": "code",
   "execution_count": 15,
   "id": "06c58093",
   "metadata": {
    "ExecuteTime": {
     "end_time": "2022-01-02T08:27:49.523097Z",
     "start_time": "2022-01-02T08:27:49.417954Z"
    }
   },
   "outputs": [
    {
     "data": {
      "text/plain": [
       "torch.Size([10, 24])"
      ]
     },
     "execution_count": 15,
     "metadata": {},
     "output_type": "execute_result"
    }
   ],
   "source": [
    "transformer = Transformer(16, 32, 32, 32, 32, ([32], [32]), 32, 64, 4, 2, 0.1)\n",
    "# decoder = TransformerDecoder(16, 32, 32, 32, 32, [24, 32], 32, 64, 4, 2, 0.1)\n",
    "enc_inputs = torch.randn(10, 72, 16)\n",
    "dec_inputs = torch.randn(10, 24, 16)\n",
    "# enc_outputs = torch.randn(10, 72, 32)\n",
    "# state = [enc_outputs, None, [None] * 2]\n",
    "transformer.eval()\n",
    "outputs = transformer(enc_inputs, dec_inputs)\n",
    "outputs.shape"
   ]
  },
  {
   "cell_type": "markdown",
   "id": "ce6964af",
   "metadata": {
    "ExecuteTime": {
     "end_time": "2021-12-22T08:30:19.661769Z",
     "start_time": "2021-12-22T08:30:19.656770Z"
    }
   },
   "source": [
    "## model training for HPO"
   ]
  },
  {
   "cell_type": "code",
   "execution_count": 16,
   "id": "fa252f71",
   "metadata": {
    "ExecuteTime": {
     "end_time": "2022-01-02T08:27:49.535216Z",
     "start_time": "2022-01-02T08:27:49.524751Z"
    },
    "code_folding": []
   },
   "outputs": [],
   "source": [
    "def train_model_hpo(train_x_list, train_y_list, valid_x_list, valid_y_list,\n",
    "                    input_size, seq_len, target_len, mse_thresh, d_model,\n",
    "                    nhead, n_layers, number_epoch, batch_size, lr, drop_prob):\n",
    "    \"\"\"寻找超参数的训练函数，有early stop\"\"\"\n",
    "    valid_loss_list = []\n",
    "    for num in range(len(train_x_list)):\n",
    "        while (1):\n",
    "            model = Transformer(input_size, d_model, d_model, d_model, d_model,\n",
    "                                ([d_model], [d_model]),\n",
    "                                d_model, 2 * d_model, nhead, n_layers,\n",
    "                                drop_prob)\n",
    "            model = model.to(device)\n",
    "            criterion = nn.MSELoss()\n",
    "            optimizer = torch.optim.Adam(model.parameters(),\n",
    "                                         lr=lr,\n",
    "                                         betas=(0.9, 0.98),\n",
    "                                         eps=1e-9)\n",
    "            scheduler = torch.optim.lr_scheduler.StepLR(optimizer,\n",
    "                                                        step_size=1,\n",
    "                                                        gamma=0.98)\n",
    "            valid_loss_min = np.Inf\n",
    "            print('train dataset {}'.format(num))\n",
    "            train_x = train_x_list[num]\n",
    "            train_y = train_y_list[num]\n",
    "            valid_x = valid_x_list[num]\n",
    "            valid_y = valid_y_list[num]\n",
    "            train_dataset = TensorDataset(torch.FloatTensor(train_x),\n",
    "                                          torch.FloatTensor(train_y))\n",
    "            valid_dataset = TensorDataset(torch.FloatTensor(valid_x),\n",
    "                                          torch.FloatTensor(valid_y))\n",
    "\n",
    "            train_loader = DataLoader(dataset=train_dataset,\n",
    "                                      batch_size=batch_size,\n",
    "                                      shuffle=True,\n",
    "                                      drop_last=True)\n",
    "            valid_loader = DataLoader(dataset=valid_dataset,\n",
    "                                      batch_size=batch_size,\n",
    "                                      shuffle=True,\n",
    "                                      drop_last=True)\n",
    "            train_losses = list()\n",
    "\n",
    "            num_without_imp = 0\n",
    "\n",
    "            #train\n",
    "            for epoch in range(1, number_epoch + 1):\n",
    "                loop = tqdm(enumerate(train_loader),\n",
    "                            total=len(train_loader),\n",
    "                            leave=True, ncols=100)\n",
    "                for i, (inputs, labels) in loop:\n",
    "                    inputs = inputs.to(device)\n",
    "                    labels = labels.to(device)\n",
    "                    optimizer.zero_grad()\n",
    "                    # train                    \n",
    "                    model.train()\n",
    "                    enc_inputs = inputs\n",
    "                    dec_inputs = torch.cat((inputs[:, -1:, :], labels[:, :-1, :]), dim=1)\n",
    "                    outputs = model(enc_inputs, dec_inputs)\n",
    "                    loss = criterion(outputs, labels[:, :, -1])\n",
    "                    train_losses.append(loss.item)\n",
    "                    loss.backward()\n",
    "                    optimizer.step()\n",
    "\n",
    "                    # eval\n",
    "                    if i % 5 == 0:\n",
    "                        num_without_imp = num_without_imp + 1\n",
    "                        valid_losses = list()\n",
    "                        model.eval()\n",
    "                        for inp, lab in valid_loader:\n",
    "                            inp = inp.to(device)\n",
    "                            lab = lab.to(device)\n",
    "                            enc_inputs = inp\n",
    "                            dec_inputs = torch.cat((inp[:, -1:, :], lab[:, :-1, :]), dim=1)\n",
    "                            out = model(enc_inputs, dec_inputs)\n",
    "                            valid_loss = criterion(out, lab[:, :, -1])\n",
    "                            valid_losses.append(valid_loss.item())\n",
    "                        loop.set_description(\"Epoch: {}/{}...\".format(\n",
    "                            epoch, number_epoch))\n",
    "                        loop.set_postfix(train_loss=loss.item(),\n",
    "                                         valid_loss=np.mean(valid_losses))\n",
    "                        if np.mean(valid_losses) < valid_loss_min:\n",
    "                            num_without_imp = 0\n",
    "                            valid_loss_min = np.mean(valid_losses)\n",
    "                scheduler.step()\n",
    "                if num_without_imp > 50:\n",
    "                    pass\n",
    "                    # break\n",
    "            if valid_loss_min < mse_thresh:\n",
    "                valid_loss_list.append(valid_loss_min)\n",
    "                break\n",
    "    return np.mean(valid_loss_list)"
   ]
  },
  {
   "cell_type": "markdown",
   "id": "fe5e20e3",
   "metadata": {},
   "source": [
    "## hyper-parameters config"
   ]
  },
  {
   "cell_type": "code",
   "execution_count": 17,
   "id": "d946cca5",
   "metadata": {
    "ExecuteTime": {
     "end_time": "2022-01-02T08:27:49.541296Z",
     "start_time": "2022-01-02T08:27:49.536643Z"
    }
   },
   "outputs": [],
   "source": [
    "seq_len = 72\n",
    "target_len = 24\n",
    "mse_thresh = 0.05\n",
    "\n",
    "\n",
    "def model_config():\n",
    "    batch_sizes = [256, 512]\n",
    "    lrs = [0.01, 0.05]\n",
    "    number_epochs = [40]\n",
    "    d_models = [32, 16]\n",
    "    n_layers = [2, 1, 3]\n",
    "    drop_prob = [0]\n",
    "    nhead = [4, 8]\n",
    "    configs = list()\n",
    "    for i in batch_sizes:\n",
    "        for j in lrs:\n",
    "            for k in number_epochs:\n",
    "                for l in d_models:\n",
    "                    for m in n_layers:\n",
    "                        for n in drop_prob:\n",
    "                            for o in nhead:\n",
    "                                configs.append({\n",
    "                                    'batch_size': i,\n",
    "                                    'lr': j,\n",
    "                                    'number_epoch': k,\n",
    "                                    'd_model': l,\n",
    "                                    'n_layers': m,\n",
    "                                    'drop_prob': n,\n",
    "                                    'nhead': o\n",
    "                                })\n",
    "    return configs"
   ]
  },
  {
   "cell_type": "markdown",
   "id": "30072b9d",
   "metadata": {},
   "source": [
    "## random search for HPO"
   ]
  },
  {
   "cell_type": "code",
   "execution_count": 18,
   "id": "36909288",
   "metadata": {
    "ExecuteTime": {
     "end_time": "2022-01-02T08:27:49.548425Z",
     "start_time": "2022-01-02T08:27:49.542446Z"
    }
   },
   "outputs": [],
   "source": [
    "def run_model_hpo(seq_len=seq_len,\n",
    "                  target_len=target_len,\n",
    "                  mse_thresh=mse_thresh):\n",
    "    train_data = data[:int(0.8 * len(data))]\n",
    "    train_data, _, _ = normalization(train_data)\n",
    "    train_x, train_y = series_to_supervise(train_data, seq_len, target_len)\n",
    "    train_x_list, train_y_list, valid_x_list, valid_y_list = time_series_split(\n",
    "        train_x, train_y)\n",
    "    #         with enough data\n",
    "    train_x_list = train_x_list[-1:]\n",
    "    train_y_list = train_y_list[-1:]\n",
    "    valid_x_list = valid_x_list[-1:]\n",
    "    valid_y_list = valid_y_list[-1:]\n",
    "\n",
    "    configs = model_config()\n",
    "    records = []\n",
    "    input_size = train_x.shape[2]\n",
    "    for i in range(24):\n",
    "        config = random.choice(configs)\n",
    "        configs.remove(config)\n",
    "        batch_size = config['batch_size']\n",
    "        lr = config['lr']\n",
    "        number_epoch = config['number_epoch']\n",
    "        d_model = config['d_model']\n",
    "        n_layers = config['n_layers']\n",
    "        drop_prob = config['drop_prob']\n",
    "        nhead = config['nhead']\n",
    "        print(\n",
    "            \"model config: batch_size-{}, lr-{}, number_epoch-{}, d_model-{}, n_layers-{},drop_prob-{},nhead-{}\"\n",
    "            .format(batch_size, lr, number_epoch, d_model, n_layers, drop_prob,\n",
    "                    nhead))\n",
    "        valid_loss = train_model_hpo(train_x_list, train_y_list, valid_x_list,\n",
    "                                     valid_y_list, input_size, seq_len,\n",
    "                                     target_len, mse_thresh, d_model, nhead,\n",
    "                                     n_layers, number_epoch, batch_size, lr,\n",
    "                                     drop_prob)\n",
    "        records.append({\n",
    "            'batch_size': batch_size,\n",
    "            'lr': lr,\n",
    "            'number_epoch': number_epoch,\n",
    "            'd_model': d_model,\n",
    "            'n_layers': n_layers,\n",
    "            'drop_prob': drop_prob,            \n",
    "            'nhead': nhead,\n",
    "            'valid_loss': valid_loss,\n",
    "        })\n",
    "    return records"
   ]
  },
  {
   "cell_type": "markdown",
   "id": "56a4a131",
   "metadata": {},
   "source": [
    "## run random search"
   ]
  },
  {
   "cell_type": "code",
   "execution_count": 19,
   "id": "b9a8a9e2",
   "metadata": {
    "ExecuteTime": {
     "end_time": "2022-01-02T08:56:22.877801Z",
     "start_time": "2022-01-02T08:27:51.267929Z"
    }
   },
   "outputs": [
    {
     "name": "stdout",
     "output_type": "stream",
     "text": [
      "supervised data: shape of x: (25232, 72, 16), shape of y: (25232, 24, 16)\n",
      "model config: batch_size-512, lr-0.01, number_epoch-40, d_model-32, n_layers-3,drop_prob-0,nhead-8\n",
      "train dataset 0\n"
     ]
    },
    {
     "name": "stderr",
     "output_type": "stream",
     "text": [
      "Epoch: 1/40...: 100%|█████████| 41/41 [00:09<00:00,  4.26it/s, train_loss=0.0319, valid_loss=0.0348]\n",
      "Epoch: 2/40...: 100%|█████████| 41/41 [00:08<00:00,  4.60it/s, train_loss=0.0312, valid_loss=0.0353]\n",
      "Epoch: 3/40...: 100%|███████████| 41/41 [00:08<00:00,  4.56it/s, train_loss=0.03, valid_loss=0.0354]\n",
      "Epoch: 4/40...: 100%|█████████| 41/41 [00:08<00:00,  4.57it/s, train_loss=0.0313, valid_loss=0.0356]\n",
      "Epoch: 5/40...: 100%|█████████| 41/41 [00:08<00:00,  4.58it/s, train_loss=0.0305, valid_loss=0.0354]\n",
      "Epoch: 6/40...: 100%|██████████| 41/41 [00:09<00:00,  4.55it/s, train_loss=0.033, valid_loss=0.0346]\n",
      "Epoch: 7/40...: 100%|██████████| 41/41 [00:08<00:00,  4.57it/s, train_loss=0.029, valid_loss=0.0345]\n",
      "Epoch: 8/40...: 100%|█████████| 41/41 [00:09<00:00,  4.54it/s, train_loss=0.0322, valid_loss=0.0364]\n",
      "Epoch: 9/40...: 100%|█████████| 41/41 [00:08<00:00,  4.56it/s, train_loss=0.0321, valid_loss=0.0346]\n",
      "Epoch: 10/40...: 100%|████████| 41/41 [00:08<00:00,  4.56it/s, train_loss=0.0303, valid_loss=0.0365]\n",
      "Epoch: 11/40...: 100%|████████| 41/41 [00:09<00:00,  4.53it/s, train_loss=0.0108, valid_loss=0.0288]\n",
      "Epoch: 12/40...: 100%|███████| 41/41 [00:08<00:00,  4.67it/s, train_loss=0.00242, valid_loss=0.0318]\n",
      "Epoch: 13/40...: 100%|███████| 41/41 [00:08<00:00,  4.58it/s, train_loss=0.00149, valid_loss=0.0571]\n",
      "Epoch: 14/40...: 100%|███████| 41/41 [00:08<00:00,  4.62it/s, train_loss=0.00184, valid_loss=0.0851]\n",
      "Epoch: 15/40...: 100%|███████| 41/41 [00:08<00:00,  4.57it/s, train_loss=0.00174, valid_loss=0.0272]\n",
      "Epoch: 16/40...: 100%|███████| 41/41 [00:08<00:00,  4.59it/s, train_loss=0.00144, valid_loss=0.0639]\n",
      "Epoch: 17/40...: 100%|████████| 41/41 [00:08<00:00,  4.58it/s, train_loss=0.000783, valid_loss=0.07]\n",
      "Epoch: 18/40...: 100%|███████| 41/41 [00:08<00:00,  4.56it/s, train_loss=0.00118, valid_loss=0.0682]\n",
      "Epoch: 19/40...: 100%|███████| 41/41 [00:08<00:00,  4.58it/s, train_loss=0.00142, valid_loss=0.0918]\n",
      "Epoch: 20/40...: 100%|██████████| 41/41 [00:08<00:00,  4.59it/s, train_loss=0.00104, valid_loss=0.1]\n",
      "Epoch: 21/40...: 100%|███████| 41/41 [00:08<00:00,  4.59it/s, train_loss=0.000584, valid_loss=0.034]\n",
      "Epoch: 22/40...: 100%|██████| 41/41 [00:09<00:00,  4.55it/s, train_loss=0.000495, valid_loss=0.0648]\n",
      "Epoch: 23/40...: 100%|██████████| 41/41 [00:08<00:00,  4.59it/s, train_loss=0.001, valid_loss=0.033]\n",
      "Epoch: 24/40...: 100%|██████| 41/41 [00:09<00:00,  4.54it/s, train_loss=0.000638, valid_loss=0.0289]\n",
      "Epoch: 25/40...: 100%|██████| 41/41 [00:08<00:00,  4.60it/s, train_loss=0.000424, valid_loss=0.0637]\n",
      "Epoch: 26/40...: 100%|██████| 41/41 [00:08<00:00,  4.58it/s, train_loss=0.000876, valid_loss=0.0756]\n",
      "Epoch: 27/40...: 100%|██████| 41/41 [00:08<00:00,  4.57it/s, train_loss=0.000357, valid_loss=0.0365]\n",
      "Epoch: 28/40...: 100%|██████| 41/41 [00:08<00:00,  4.57it/s, train_loss=0.000345, valid_loss=0.0708]\n",
      "Epoch: 29/40...: 100%|███████| 41/41 [00:08<00:00,  4.58it/s, train_loss=0.00035, valid_loss=0.0331]\n",
      "Epoch: 30/40...: 100%|███████| 41/41 [00:08<00:00,  4.57it/s, train_loss=0.000305, valid_loss=0.043]\n",
      "Epoch: 31/40...: 100%|██████| 41/41 [00:08<00:00,  4.59it/s, train_loss=0.000282, valid_loss=0.0585]\n",
      "Epoch: 32/40...: 100%|██████| 41/41 [00:08<00:00,  4.59it/s, train_loss=0.000414, valid_loss=0.0807]\n",
      "Epoch: 33/40...: 100%|█████████| 41/41 [00:08<00:00,  4.58it/s, train_loss=0.0005, valid_loss=0.025]\n",
      "Epoch: 34/40...: 100%|██████| 41/41 [00:09<00:00,  4.53it/s, train_loss=0.000218, valid_loss=0.0532]\n",
      "Epoch: 35/40...: 100%|██████| 41/41 [00:08<00:00,  4.57it/s, train_loss=0.000264, valid_loss=0.0664]\n",
      "Epoch: 36/40...: 100%|████████| 41/41 [00:08<00:00,  4.56it/s, train_loss=0.000217, valid_loss=0.06]\n",
      "Epoch: 37/40...: 100%|██████| 41/41 [00:09<00:00,  4.53it/s, train_loss=0.000305, valid_loss=0.0651]\n",
      "Epoch: 38/40...: 100%|██████| 41/41 [00:08<00:00,  4.58it/s, train_loss=0.000203, valid_loss=0.0416]\n",
      "Epoch: 39/40...: 100%|██████| 41/41 [00:09<00:00,  4.53it/s, train_loss=0.000224, valid_loss=0.0547]\n",
      "Epoch: 40/40...: 100%|████████| 41/41 [00:09<00:00,  4.56it/s, train_loss=0.00025, valid_loss=0.043]\n"
     ]
    },
    {
     "name": "stdout",
     "output_type": "stream",
     "text": [
      "model config: batch_size-512, lr-0.01, number_epoch-40, d_model-32, n_layers-1,drop_prob-0,nhead-4\n",
      "train dataset 0\n"
     ]
    },
    {
     "name": "stderr",
     "output_type": "stream",
     "text": [
      "Epoch: 1/40...: 100%|█████████| 41/41 [00:03<00:00, 11.80it/s, train_loss=0.0313, valid_loss=0.0345]\n",
      "Epoch: 2/40...: 100%|█████████| 41/41 [00:03<00:00, 11.50it/s, train_loss=0.0293, valid_loss=0.0343]\n",
      "Epoch: 3/40...: 100%|█████████| 41/41 [00:03<00:00, 11.69it/s, train_loss=0.0193, valid_loss=0.0305]\n",
      "Epoch: 4/40...: 100%|████████| 41/41 [00:03<00:00, 11.57it/s, train_loss=0.00491, valid_loss=0.0265]\n",
      "Epoch: 5/40...: 100%|████████| 41/41 [00:03<00:00, 13.13it/s, train_loss=0.00466, valid_loss=0.0835]\n",
      "Epoch: 6/40...: 100%|████████| 41/41 [00:03<00:00, 13.12it/s, train_loss=0.00169, valid_loss=0.0225]\n",
      "Epoch: 7/40...: 100%|████████| 41/41 [00:03<00:00, 12.84it/s, train_loss=0.00185, valid_loss=0.0359]\n",
      "Epoch: 8/40...: 100%|███████████| 41/41 [00:03<00:00, 13.12it/s, train_loss=0.00229, valid_loss=0.1]\n",
      "Epoch: 9/40...: 100%|█████████| 41/41 [00:03<00:00, 12.87it/s, train_loss=0.0025, valid_loss=0.0632]\n",
      "Epoch: 10/40...: 100%|████████| 41/41 [00:03<00:00, 13.08it/s, train_loss=0.00126, valid_loss=0.122]\n",
      "Epoch: 11/40...: 100%|██████| 41/41 [00:03<00:00, 13.15it/s, train_loss=0.000862, valid_loss=0.0594]\n",
      "Epoch: 12/40...: 100%|███████| 41/41 [00:03<00:00, 12.84it/s, train_loss=0.00105, valid_loss=0.0232]\n",
      "Epoch: 13/40...: 100%|███████| 41/41 [00:03<00:00, 13.20it/s, train_loss=0.000872, valid_loss=0.117]\n",
      "Epoch: 14/40...: 100%|█████████| 41/41 [00:03<00:00, 13.18it/s, train_loss=0.0024, valid_loss=0.146]\n",
      "Epoch: 15/40...: 100%|███████| 41/41 [00:03<00:00, 12.89it/s, train_loss=0.00068, valid_loss=0.0466]\n",
      "Epoch: 16/40...: 100%|███████| 41/41 [00:03<00:00, 13.13it/s, train_loss=0.000779, valid_loss=0.069]\n",
      "Epoch: 17/40...: 100%|██████| 41/41 [00:03<00:00, 13.12it/s, train_loss=0.000596, valid_loss=0.0356]\n",
      "Epoch: 18/40...: 100%|███████| 41/41 [00:03<00:00, 13.02it/s, train_loss=0.000534, valid_loss=0.029]\n",
      "Epoch: 19/40...: 100%|██████| 41/41 [00:03<00:00, 12.89it/s, train_loss=0.000525, valid_loss=0.0346]\n",
      "Epoch: 20/40...: 100%|████████| 41/41 [00:03<00:00, 13.21it/s, train_loss=0.00112, valid_loss=0.156]\n",
      "Epoch: 21/40...: 100%|██████| 41/41 [00:03<00:00, 12.82it/s, train_loss=0.000477, valid_loss=0.0336]\n",
      "Epoch: 22/40...: 100%|████████| 41/41 [00:03<00:00, 13.07it/s, train_loss=0.0008, valid_loss=0.0239]\n",
      "Epoch: 23/40...: 100%|██████| 41/41 [00:03<00:00, 12.78it/s, train_loss=0.000392, valid_loss=0.0241]\n",
      "Epoch: 24/40...: 100%|██████| 41/41 [00:03<00:00, 13.06it/s, train_loss=0.000406, valid_loss=0.0199]\n",
      "Epoch: 25/40...: 100%|██████| 41/41 [00:03<00:00, 12.83it/s, train_loss=0.000285, valid_loss=0.0243]\n",
      "Epoch: 26/40...: 100%|██████| 41/41 [00:03<00:00, 13.19it/s, train_loss=0.000305, valid_loss=0.0319]\n",
      "Epoch: 27/40...: 100%|███████| 41/41 [00:03<00:00, 13.14it/s, train_loss=0.000373, valid_loss=0.048]\n",
      "Epoch: 28/40...: 100%|██████| 41/41 [00:03<00:00, 12.77it/s, train_loss=0.000235, valid_loss=0.0276]\n",
      "Epoch: 29/40...: 100%|██████| 41/41 [00:03<00:00, 13.17it/s, train_loss=0.000271, valid_loss=0.0204]\n",
      "Epoch: 30/40...: 100%|██████| 41/41 [00:03<00:00, 12.78it/s, train_loss=0.000377, valid_loss=0.0339]\n",
      "Epoch: 31/40...: 100%|██████| 41/41 [00:03<00:00, 13.22it/s, train_loss=0.000218, valid_loss=0.0309]\n",
      "Epoch: 32/40...: 100%|███████| 41/41 [00:03<00:00, 13.47it/s, train_loss=0.00028, valid_loss=0.0499]\n",
      "Epoch: 33/40...: 100%|██████| 41/41 [00:03<00:00, 12.95it/s, train_loss=0.000335, valid_loss=0.0277]\n",
      "Epoch: 34/40...: 100%|██████| 41/41 [00:03<00:00, 12.83it/s, train_loss=0.000674, valid_loss=0.0259]\n",
      "Epoch: 35/40...: 100%|██████| 41/41 [00:03<00:00, 12.66it/s, train_loss=0.000187, valid_loss=0.0245]\n",
      "Epoch: 36/40...: 100%|███████| 41/41 [00:03<00:00, 12.71it/s, train_loss=0.00021, valid_loss=0.0236]\n",
      "Epoch: 37/40...: 100%|███████| 41/41 [00:03<00:00, 12.69it/s, train_loss=0.00046, valid_loss=0.0439]\n",
      "Epoch: 38/40...: 100%|███████| 41/41 [00:03<00:00, 12.68it/s, train_loss=0.00016, valid_loss=0.0241]\n",
      "Epoch: 39/40...: 100%|██████| 41/41 [00:03<00:00, 12.52it/s, train_loss=0.000152, valid_loss=0.0219]\n",
      "Epoch: 40/40...: 100%|██████| 41/41 [00:03<00:00, 12.79it/s, train_loss=0.000149, valid_loss=0.0284]\n"
     ]
    },
    {
     "name": "stdout",
     "output_type": "stream",
     "text": [
      "model config: batch_size-512, lr-0.01, number_epoch-40, d_model-32, n_layers-3,drop_prob-0,nhead-4\n",
      "train dataset 0\n"
     ]
    },
    {
     "name": "stderr",
     "output_type": "stream",
     "text": [
      "Epoch: 1/40...: 100%|█████████| 41/41 [00:07<00:00,  5.61it/s, train_loss=0.0294, valid_loss=0.0361]\n",
      "Epoch: 2/40...: 100%|█████████| 41/41 [00:07<00:00,  5.52it/s, train_loss=0.0324, valid_loss=0.0354]\n",
      "Epoch: 3/40...: 100%|█████████| 41/41 [00:07<00:00,  5.53it/s, train_loss=0.0315, valid_loss=0.0351]\n",
      "Epoch: 4/40...: 100%|█████████| 41/41 [00:07<00:00,  5.44it/s, train_loss=0.0294, valid_loss=0.0375]\n",
      "Epoch: 5/40...: 100%|█████████| 41/41 [00:07<00:00,  5.47it/s, train_loss=0.0304, valid_loss=0.0357]\n",
      "Epoch: 6/40...: 100%|█████████| 41/41 [00:07<00:00,  5.47it/s, train_loss=0.0294, valid_loss=0.0381]\n",
      "Epoch: 7/40...: 100%|█████████| 41/41 [00:07<00:00,  5.43it/s, train_loss=0.0321, valid_loss=0.0354]\n",
      "Epoch: 8/40...: 100%|█████████| 41/41 [00:07<00:00,  5.46it/s, train_loss=0.0312, valid_loss=0.0356]\n",
      "Epoch: 9/40...: 100%|█████████| 41/41 [00:07<00:00,  5.41it/s, train_loss=0.0323, valid_loss=0.0346]\n",
      "Epoch: 10/40...: 100%|████████| 41/41 [00:07<00:00,  5.46it/s, train_loss=0.0318, valid_loss=0.0353]\n",
      "Epoch: 11/40...: 100%|█████████| 41/41 [00:07<00:00,  5.47it/s, train_loss=0.033, valid_loss=0.0358]\n",
      "Epoch: 12/40...: 100%|████████| 41/41 [00:07<00:00,  5.40it/s, train_loss=0.0301, valid_loss=0.0346]\n",
      "Epoch: 13/40...: 100%|████████| 41/41 [00:07<00:00,  5.46it/s, train_loss=0.0308, valid_loss=0.0351]\n",
      "Epoch: 14/40...: 100%|████████| 41/41 [00:07<00:00,  5.41it/s, train_loss=0.0316, valid_loss=0.0348]\n",
      "Epoch: 15/40...: 100%|████████| 41/41 [00:07<00:00,  5.41it/s, train_loss=0.0318, valid_loss=0.0369]\n",
      "Epoch: 16/40...: 100%|█████████| 41/41 [00:07<00:00,  5.38it/s, train_loss=0.0306, valid_loss=0.035]\n",
      "Epoch: 17/40...: 100%|████████| 41/41 [00:07<00:00,  5.43it/s, train_loss=0.0311, valid_loss=0.0351]\n",
      "Epoch: 18/40...: 100%|████████| 41/41 [00:07<00:00,  5.42it/s, train_loss=0.0304, valid_loss=0.0349]\n",
      "Epoch: 19/40...: 100%|████████| 41/41 [00:07<00:00,  5.37it/s, train_loss=0.0258, valid_loss=0.0326]\n",
      "Epoch: 20/40...: 100%|████████| 41/41 [00:07<00:00,  5.42it/s, train_loss=0.0134, valid_loss=0.0244]\n",
      "Epoch: 21/40...: 100%|███████| 41/41 [00:07<00:00,  5.36it/s, train_loss=0.00558, valid_loss=0.0175]\n",
      "Epoch: 22/40...: 100%|███████| 41/41 [00:07<00:00,  5.41it/s, train_loss=0.00455, valid_loss=0.0314]\n",
      "Epoch: 23/40...: 100%|███████| 41/41 [00:07<00:00,  5.42it/s, train_loss=0.00402, valid_loss=0.0211]\n",
      "Epoch: 24/40...: 100%|███████| 41/41 [00:07<00:00,  5.38it/s, train_loss=0.00406, valid_loss=0.0204]\n",
      "Epoch: 25/40...: 100%|████████| 41/41 [00:07<00:00,  5.42it/s, train_loss=0.00242, valid_loss=0.034]\n",
      "Epoch: 26/40...: 100%|███████| 41/41 [00:07<00:00,  5.34it/s, train_loss=0.00112, valid_loss=0.0344]\n",
      "Epoch: 27/40...: 100%|██████| 41/41 [00:07<00:00,  5.37it/s, train_loss=0.000686, valid_loss=0.0327]\n",
      "Epoch: 28/40...: 100%|██████| 41/41 [00:07<00:00,  5.37it/s, train_loss=0.000533, valid_loss=0.0332]\n",
      "Epoch: 29/40...: 100%|██████| 41/41 [00:07<00:00,  5.39it/s, train_loss=0.000652, valid_loss=0.0243]\n",
      "Epoch: 30/40...: 100%|██████| 41/41 [00:07<00:00,  5.39it/s, train_loss=0.000353, valid_loss=0.0237]\n",
      "Epoch: 31/40...: 100%|██████| 41/41 [00:07<00:00,  5.35it/s, train_loss=0.000386, valid_loss=0.0206]\n",
      "Epoch: 32/40...: 100%|███████| 41/41 [00:07<00:00,  5.42it/s, train_loss=0.00121, valid_loss=0.0292]\n",
      "Epoch: 33/40...: 100%|███████| 41/41 [00:07<00:00,  5.40it/s, train_loss=0.000281, valid_loss=0.018]\n",
      "Epoch: 34/40...: 100%|███████| 41/41 [00:07<00:00,  5.35it/s, train_loss=0.00036, valid_loss=0.0164]\n",
      "Epoch: 35/40...: 100%|██████| 41/41 [00:07<00:00,  5.42it/s, train_loss=0.000416, valid_loss=0.0226]\n",
      "Epoch: 36/40...: 100%|███████| 41/41 [00:07<00:00,  5.35it/s, train_loss=0.000218, valid_loss=0.017]\n",
      "Epoch: 37/40...: 100%|██████| 41/41 [00:07<00:00,  5.40it/s, train_loss=0.000278, valid_loss=0.0222]\n",
      "Epoch: 38/40...: 100%|██████| 41/41 [00:07<00:00,  5.31it/s, train_loss=0.000179, valid_loss=0.0141]\n",
      "Epoch: 39/40...: 100%|██████| 41/41 [00:07<00:00,  5.41it/s, train_loss=0.000171, valid_loss=0.0172]\n",
      "Epoch: 40/40...: 100%|██████| 41/41 [00:07<00:00,  5.38it/s, train_loss=0.000221, valid_loss=0.0199]\n"
     ]
    },
    {
     "name": "stdout",
     "output_type": "stream",
     "text": [
      "model config: batch_size-256, lr-0.05, number_epoch-40, d_model-16, n_layers-2,drop_prob-0,nhead-8\n",
      "train dataset 0\n"
     ]
    },
    {
     "name": "stderr",
     "output_type": "stream",
     "text": [
      "Epoch: 1/40...: 100%|██████████| 82/82 [00:15<00:00,  5.16it/s, train_loss=0.029, valid_loss=0.0353]\n",
      "Epoch: 2/40...: 100%|█████████| 82/82 [00:16<00:00,  5.12it/s, train_loss=0.0303, valid_loss=0.0365]\n",
      "Epoch: 3/40...: 100%|█████████| 82/82 [00:16<00:00,  5.08it/s, train_loss=0.0304, valid_loss=0.0345]\n",
      "Epoch: 4/40...: 100%|█████████| 82/82 [00:16<00:00,  5.07it/s, train_loss=0.0308, valid_loss=0.0351]\n",
      "Epoch: 5/40...: 100%|█████████| 82/82 [00:16<00:00,  4.94it/s, train_loss=0.0317, valid_loss=0.0353]\n",
      "Epoch: 6/40...: 100%|█████████| 82/82 [00:16<00:00,  4.93it/s, train_loss=0.0294, valid_loss=0.0354]\n",
      "Epoch: 7/40...: 100%|█████████| 82/82 [00:16<00:00,  4.93it/s, train_loss=0.0282, valid_loss=0.0348]\n",
      "Epoch: 8/40...: 100%|█████████| 82/82 [00:16<00:00,  4.93it/s, train_loss=0.0275, valid_loss=0.0365]\n",
      "Epoch: 9/40...: 100%|█████████| 82/82 [00:16<00:00,  4.94it/s, train_loss=0.0291, valid_loss=0.0357]\n",
      "Epoch: 10/40...: 100%|████████| 82/82 [00:16<00:00,  4.92it/s, train_loss=0.0331, valid_loss=0.0347]\n",
      "Epoch: 11/40...: 100%|████████| 82/82 [00:16<00:00,  4.92it/s, train_loss=0.0325, valid_loss=0.0345]\n",
      "Epoch: 12/40...: 100%|█████████| 82/82 [00:16<00:00,  4.93it/s, train_loss=0.0314, valid_loss=0.035]\n",
      "Epoch: 13/40...: 100%|██████████| 82/82 [00:16<00:00,  4.94it/s, train_loss=0.03, valid_loss=0.0362]\n",
      "Epoch: 14/40...: 100%|████████| 82/82 [00:16<00:00,  4.89it/s, train_loss=0.0328, valid_loss=0.0351]\n",
      "Epoch: 15/40...: 100%|█████████| 82/82 [00:16<00:00,  4.91it/s, train_loss=0.0282, valid_loss=0.036]\n",
      "Epoch: 16/40...: 100%|████████| 82/82 [00:16<00:00,  4.90it/s, train_loss=0.0305, valid_loss=0.0345]\n",
      "Epoch: 17/40...: 100%|████████| 82/82 [00:16<00:00,  5.02it/s, train_loss=0.0304, valid_loss=0.0351]\n",
      "Epoch: 18/40...: 100%|████████| 82/82 [00:16<00:00,  5.01it/s, train_loss=0.0334, valid_loss=0.0348]\n",
      "Epoch: 19/40...: 100%|████████| 82/82 [00:16<00:00,  5.01it/s, train_loss=0.0315, valid_loss=0.0346]\n",
      "Epoch: 20/40...: 100%|█████████| 82/82 [00:16<00:00,  5.03it/s, train_loss=0.032, valid_loss=0.0345]\n",
      "Epoch: 21/40...: 100%|████████| 82/82 [00:16<00:00,  5.00it/s, train_loss=0.0312, valid_loss=0.0354]\n",
      "Epoch: 22/40...: 100%|████████| 82/82 [00:16<00:00,  4.86it/s, train_loss=0.0323, valid_loss=0.0374]\n",
      "Epoch: 23/40...: 100%|████████| 82/82 [00:17<00:00,  4.77it/s, train_loss=0.0292, valid_loss=0.0351]\n",
      "Epoch: 24/40...: 100%|█████████| 82/82 [00:17<00:00,  4.80it/s, train_loss=0.0292, valid_loss=0.035]\n",
      "Epoch: 25/40...: 100%|████████| 82/82 [00:16<00:00,  4.94it/s, train_loss=0.0286, valid_loss=0.0352]\n",
      "Epoch: 26/40...: 100%|████████| 82/82 [00:16<00:00,  4.96it/s, train_loss=0.0329, valid_loss=0.0346]\n",
      "Epoch: 27/40...: 100%|████████| 82/82 [00:16<00:00,  4.94it/s, train_loss=0.0316, valid_loss=0.0357]\n",
      "Epoch: 28/40...: 100%|████████| 82/82 [00:16<00:00,  4.98it/s, train_loss=0.0309, valid_loss=0.0359]\n",
      "Epoch: 29/40...: 100%|████████| 82/82 [00:15<00:00,  5.28it/s, train_loss=0.0292, valid_loss=0.0349]\n",
      "Epoch: 30/40...: 100%|█████████| 82/82 [00:15<00:00,  5.32it/s, train_loss=0.031, valid_loss=0.0353]\n",
      "Epoch: 31/40...: 100%|████████| 82/82 [00:15<00:00,  5.36it/s, train_loss=0.0313, valid_loss=0.0348]\n",
      "Epoch: 32/40...: 100%|████████| 82/82 [00:15<00:00,  5.35it/s, train_loss=0.0318, valid_loss=0.0347]\n",
      "Epoch: 33/40...: 100%|█████████| 82/82 [00:15<00:00,  5.34it/s, train_loss=0.0294, valid_loss=0.036]\n",
      "Epoch: 34/40...: 100%|█████████| 82/82 [00:15<00:00,  5.35it/s, train_loss=0.0336, valid_loss=0.035]\n",
      "Epoch: 35/40...: 100%|████████| 82/82 [00:15<00:00,  5.37it/s, train_loss=0.0303, valid_loss=0.0352]\n",
      "Epoch: 36/40...: 100%|████████| 82/82 [00:15<00:00,  5.37it/s, train_loss=0.0289, valid_loss=0.0357]\n",
      "Epoch: 37/40...: 100%|████████| 82/82 [00:15<00:00,  5.34it/s, train_loss=0.0311, valid_loss=0.0348]\n",
      "Epoch: 38/40...: 100%|████████| 82/82 [00:15<00:00,  5.38it/s, train_loss=0.0301, valid_loss=0.0345]\n",
      "Epoch: 39/40...: 100%|█████████| 82/82 [00:15<00:00,  5.33it/s, train_loss=0.0332, valid_loss=0.035]\n",
      "Epoch: 40/40...: 100%|████████| 82/82 [00:15<00:00,  5.37it/s, train_loss=0.0307, valid_loss=0.0352]\n"
     ]
    },
    {
     "name": "stdout",
     "output_type": "stream",
     "text": [
      "model config: batch_size-512, lr-0.05, number_epoch-40, d_model-16, n_layers-1,drop_prob-0,nhead-4\n",
      "train dataset 0\n"
     ]
    },
    {
     "name": "stderr",
     "output_type": "stream",
     "text": [
      "Epoch: 1/40...: 100%|█████████| 41/41 [00:02<00:00, 14.38it/s, train_loss=0.0335, valid_loss=0.0351]\n",
      "Epoch: 2/40...: 100%|█████████| 41/41 [00:02<00:00, 14.56it/s, train_loss=0.0299, valid_loss=0.0352]\n",
      "Epoch: 3/40...: 100%|██████████| 41/41 [00:02<00:00, 14.10it/s, train_loss=0.0285, valid_loss=0.036]\n",
      "Epoch: 4/40...: 100%|█████████| 41/41 [00:02<00:00, 14.49it/s, train_loss=0.0314, valid_loss=0.0361]\n",
      "Epoch: 5/40...: 100%|█████████| 41/41 [00:02<00:00, 14.14it/s, train_loss=0.0293, valid_loss=0.0352]\n",
      "Epoch: 6/40...: 100%|█████████| 41/41 [00:02<00:00, 14.44it/s, train_loss=0.0308, valid_loss=0.0357]\n",
      "Epoch: 7/40...: 100%|█████████| 41/41 [00:02<00:00, 14.43it/s, train_loss=0.0316, valid_loss=0.0349]\n",
      "Epoch: 8/40...: 100%|█████████| 41/41 [00:02<00:00, 14.17it/s, train_loss=0.0299, valid_loss=0.0347]\n",
      "Epoch: 9/40...: 100%|███████████| 41/41 [00:02<00:00, 14.47it/s, train_loss=0.03, valid_loss=0.0354]\n",
      "Epoch: 10/40...: 100%|████████| 41/41 [00:02<00:00, 14.09it/s, train_loss=0.0319, valid_loss=0.0347]\n",
      "Epoch: 11/40...: 100%|████████| 41/41 [00:02<00:00, 14.31it/s, train_loss=0.0303, valid_loss=0.0345]\n",
      "Epoch: 12/40...: 100%|████████| 41/41 [00:02<00:00, 14.42it/s, train_loss=0.0319, valid_loss=0.0349]\n",
      "Epoch: 13/40...: 100%|████████| 41/41 [00:02<00:00, 14.18it/s, train_loss=0.0313, valid_loss=0.0347]\n",
      "Epoch: 14/40...: 100%|████████| 41/41 [00:02<00:00, 14.41it/s, train_loss=0.0322, valid_loss=0.0346]\n",
      "Epoch: 15/40...: 100%|██████████| 41/41 [00:02<00:00, 14.07it/s, train_loss=0.03, valid_loss=0.0348]\n",
      "Epoch: 16/40...: 100%|████████| 41/41 [00:02<00:00, 14.27it/s, train_loss=0.0297, valid_loss=0.0364]\n",
      "Epoch: 17/40...: 100%|████████| 41/41 [00:02<00:00, 14.30it/s, train_loss=0.0306, valid_loss=0.0348]\n",
      "Epoch: 18/40...: 100%|████████| 41/41 [00:02<00:00, 14.12it/s, train_loss=0.0131, valid_loss=0.0558]\n",
      "Epoch: 19/40...: 100%|███████| 41/41 [00:02<00:00, 14.38it/s, train_loss=0.00476, valid_loss=0.0428]\n",
      "Epoch: 20/40...: 100%|███████| 41/41 [00:02<00:00, 14.11it/s, train_loss=0.00217, valid_loss=0.0269]\n",
      "Epoch: 21/40...: 100%|███████| 41/41 [00:02<00:00, 14.32it/s, train_loss=0.00141, valid_loss=0.0238]\n",
      "Epoch: 22/40...: 100%|███████| 41/41 [00:02<00:00, 14.32it/s, train_loss=0.00118, valid_loss=0.0272]\n",
      "Epoch: 23/40...: 100%|███████| 41/41 [00:02<00:00, 14.00it/s, train_loss=0.00125, valid_loss=0.0495]\n",
      "Epoch: 24/40...: 100%|████████| 41/41 [00:02<00:00, 14.42it/s, train_loss=0.00187, valid_loss=0.117]\n",
      "Epoch: 25/40...: 100%|██████| 41/41 [00:02<00:00, 14.13it/s, train_loss=0.000828, valid_loss=0.0509]\n",
      "Epoch: 26/40...: 100%|███████| 41/41 [00:02<00:00, 14.42it/s, train_loss=0.00185, valid_loss=0.0492]\n",
      "Epoch: 27/40...: 100%|████████| 41/41 [00:02<00:00, 14.02it/s, train_loss=0.000709, valid_loss=0.08]\n",
      "Epoch: 28/40...: 100%|██████| 41/41 [00:02<00:00, 14.30it/s, train_loss=0.000956, valid_loss=0.0484]\n",
      "Epoch: 29/40...: 100%|██████| 41/41 [00:02<00:00, 14.43it/s, train_loss=0.000719, valid_loss=0.0774]\n",
      "Epoch: 30/40...: 100%|██████| 41/41 [00:02<00:00, 14.08it/s, train_loss=0.000631, valid_loss=0.0496]\n",
      "Epoch: 31/40...: 100%|███████| 41/41 [00:02<00:00, 14.36it/s, train_loss=0.000702, valid_loss=0.068]\n",
      "Epoch: 32/40...: 100%|████████| 41/41 [00:02<00:00, 13.93it/s, train_loss=0.00107, valid_loss=0.107]\n",
      "Epoch: 33/40...: 100%|██████| 41/41 [00:02<00:00, 14.43it/s, train_loss=0.000682, valid_loss=0.0528]\n",
      "Epoch: 34/40...: 100%|██████| 41/41 [00:02<00:00, 14.05it/s, train_loss=0.000602, valid_loss=0.0475]\n",
      "Epoch: 35/40...: 100%|██████| 41/41 [00:02<00:00, 14.47it/s, train_loss=0.000632, valid_loss=0.0728]\n",
      "Epoch: 36/40...: 100%|███████| 41/41 [00:02<00:00, 14.38it/s, train_loss=0.00115, valid_loss=0.0737]\n",
      "Epoch: 37/40...: 100%|██████| 41/41 [00:02<00:00, 14.07it/s, train_loss=0.000563, valid_loss=0.0544]\n",
      "Epoch: 38/40...: 100%|██████| 41/41 [00:02<00:00, 14.40it/s, train_loss=0.000613, valid_loss=0.0434]\n",
      "Epoch: 39/40...: 100%|███████| 41/41 [00:02<00:00, 14.08it/s, train_loss=0.000577, valid_loss=0.119]\n",
      "Epoch: 40/40...: 100%|██████| 41/41 [00:02<00:00, 14.42it/s, train_loss=0.000638, valid_loss=0.0658]\n"
     ]
    },
    {
     "name": "stdout",
     "output_type": "stream",
     "text": [
      "model config: batch_size-512, lr-0.05, number_epoch-40, d_model-32, n_layers-2,drop_prob-0,nhead-8\n",
      "train dataset 0\n"
     ]
    },
    {
     "name": "stderr",
     "output_type": "stream",
     "text": [
      "Epoch: 1/40...: 100%|█████████| 41/41 [00:04<00:00,  8.44it/s, train_loss=0.0302, valid_loss=0.0351]\n",
      "Epoch: 2/40...: 100%|█████████| 41/41 [00:04<00:00,  8.40it/s, train_loss=0.0318, valid_loss=0.0345]\n",
      "Epoch: 3/40...: 100%|█████████| 41/41 [00:04<00:00,  8.38it/s, train_loss=0.0315, valid_loss=0.0345]\n",
      "Epoch: 4/40...: 100%|█████████| 41/41 [00:04<00:00,  8.23it/s, train_loss=0.0293, valid_loss=0.0367]\n",
      "Epoch: 5/40...: 100%|█████████| 41/41 [00:05<00:00,  8.15it/s, train_loss=0.0325, valid_loss=0.0373]\n",
      "Epoch: 6/40...: 100%|█████████| 41/41 [00:04<00:00,  8.21it/s, train_loss=0.0308, valid_loss=0.0353]\n",
      "Epoch: 7/40...: 100%|█████████| 41/41 [00:04<00:00,  8.25it/s, train_loss=0.0364, valid_loss=0.0356]\n",
      "Epoch: 8/40...: 100%|█████████| 41/41 [00:05<00:00,  8.12it/s, train_loss=0.0306, valid_loss=0.0347]\n",
      "Epoch: 9/40...: 100%|█████████| 41/41 [00:04<00:00,  8.27it/s, train_loss=0.0354, valid_loss=0.0357]\n",
      "Epoch: 10/40...: 100%|████████| 41/41 [00:04<00:00,  8.22it/s, train_loss=0.0333, valid_loss=0.0346]\n",
      "Epoch: 11/40...: 100%|████████| 41/41 [00:05<00:00,  8.10it/s, train_loss=0.0324, valid_loss=0.0367]\n",
      "Epoch: 12/40...: 100%|████████| 41/41 [00:04<00:00,  8.24it/s, train_loss=0.0315, valid_loss=0.0356]\n",
      "Epoch: 13/40...: 100%|████████| 41/41 [00:04<00:00,  8.25it/s, train_loss=0.0313, valid_loss=0.0349]\n",
      "Epoch: 14/40...: 100%|████████| 41/41 [00:04<00:00,  8.23it/s, train_loss=0.0323, valid_loss=0.0358]\n",
      "Epoch: 15/40...: 100%|████████| 41/41 [00:05<00:00,  8.10it/s, train_loss=0.0321, valid_loss=0.0347]\n",
      "Epoch: 16/40...: 100%|██████████| 41/41 [00:04<00:00,  8.23it/s, train_loss=0.03, valid_loss=0.0348]\n",
      "Epoch: 17/40...: 100%|████████| 41/41 [00:05<00:00,  8.16it/s, train_loss=0.0318, valid_loss=0.0351]\n",
      "Epoch: 18/40...: 100%|████████| 41/41 [00:05<00:00,  8.15it/s, train_loss=0.0309, valid_loss=0.0378]\n",
      "Epoch: 19/40...: 100%|████████| 41/41 [00:04<00:00,  8.22it/s, train_loss=0.0313, valid_loss=0.0348]\n",
      "Epoch: 20/40...: 100%|█████████| 41/41 [00:05<00:00,  8.06it/s, train_loss=0.0301, valid_loss=0.037]\n",
      "Epoch: 21/40...: 100%|████████| 41/41 [00:05<00:00,  7.21it/s, train_loss=0.0317, valid_loss=0.0373]\n",
      "Epoch: 22/40...: 100%|████████| 41/41 [00:05<00:00,  7.15it/s, train_loss=0.0321, valid_loss=0.0359]\n",
      "Epoch: 23/40...: 100%|████████| 41/41 [00:05<00:00,  7.07it/s, train_loss=0.0306, valid_loss=0.0353]\n",
      "Epoch: 24/40...: 100%|████████| 41/41 [00:05<00:00,  7.14it/s, train_loss=0.0307, valid_loss=0.0368]\n",
      "Epoch: 25/40...: 100%|████████| 41/41 [00:05<00:00,  7.10it/s, train_loss=0.0323, valid_loss=0.0354]\n",
      "Epoch: 26/40...: 100%|████████| 41/41 [00:05<00:00,  7.20it/s, train_loss=0.0322, valid_loss=0.0346]\n",
      "Epoch: 27/40...: 100%|████████| 41/41 [00:05<00:00,  7.05it/s, train_loss=0.0287, valid_loss=0.0354]\n",
      "Epoch: 28/40...: 100%|████████| 41/41 [00:05<00:00,  7.22it/s, train_loss=0.0299, valid_loss=0.0347]\n",
      "Epoch: 29/40...: 100%|████████| 41/41 [00:05<00:00,  7.17it/s, train_loss=0.0311, valid_loss=0.0357]\n",
      "Epoch: 30/40...:  49%|███▉    | 20/41 [00:02<00:02,  7.24it/s, train_loss=0.0301, valid_loss=0.0348]\n"
     ]
    },
    {
     "ename": "KeyboardInterrupt",
     "evalue": "",
     "output_type": "error",
     "traceback": [
      "\u001b[0;31m---------------------------------------------------------------------------\u001b[0m",
      "\u001b[0;31mKeyboardInterrupt\u001b[0m                         Traceback (most recent call last)",
      "\u001b[0;32m/tmp/ipykernel_74135/1238912210.py\u001b[0m in \u001b[0;36m<module>\u001b[0;34m\u001b[0m\n\u001b[1;32m      1\u001b[0m \u001b[0mrandom_seed_set\u001b[0m\u001b[0;34m(\u001b[0m\u001b[0;36m42\u001b[0m\u001b[0;34m)\u001b[0m\u001b[0;34m\u001b[0m\u001b[0;34m\u001b[0m\u001b[0m\n\u001b[0;32m----> 2\u001b[0;31m \u001b[0mrecords\u001b[0m \u001b[0;34m=\u001b[0m \u001b[0mrun_model_hpo\u001b[0m\u001b[0;34m(\u001b[0m\u001b[0;34m)\u001b[0m\u001b[0;34m\u001b[0m\u001b[0;34m\u001b[0m\u001b[0m\n\u001b[0m",
      "\u001b[0;32m/tmp/ipykernel_74135/481318446.py\u001b[0m in \u001b[0;36mrun_model_hpo\u001b[0;34m(seq_len, target_len, mse_thresh)\u001b[0m\n\u001b[1;32m     30\u001b[0m             .format(batch_size, lr, number_epoch, d_model, n_layers, drop_prob,\n\u001b[1;32m     31\u001b[0m                     nhead))\n\u001b[0;32m---> 32\u001b[0;31m         valid_loss = train_model_hpo(train_x_list, train_y_list, valid_x_list,\n\u001b[0m\u001b[1;32m     33\u001b[0m                                      \u001b[0mvalid_y_list\u001b[0m\u001b[0;34m,\u001b[0m \u001b[0minput_size\u001b[0m\u001b[0;34m,\u001b[0m \u001b[0mseq_len\u001b[0m\u001b[0;34m,\u001b[0m\u001b[0;34m\u001b[0m\u001b[0;34m\u001b[0m\u001b[0m\n\u001b[1;32m     34\u001b[0m                                      \u001b[0mtarget_len\u001b[0m\u001b[0;34m,\u001b[0m \u001b[0mmse_thresh\u001b[0m\u001b[0;34m,\u001b[0m \u001b[0md_model\u001b[0m\u001b[0;34m,\u001b[0m \u001b[0mnhead\u001b[0m\u001b[0;34m,\u001b[0m\u001b[0;34m\u001b[0m\u001b[0;34m\u001b[0m\u001b[0m\n",
      "\u001b[0;32m/tmp/ipykernel_74135/2171062768.py\u001b[0m in \u001b[0;36mtrain_model_hpo\u001b[0;34m(train_x_list, train_y_list, valid_x_list, valid_y_list, input_size, seq_len, target_len, mse_thresh, d_model, nhead, n_layers, number_epoch, batch_size, lr, drop_prob)\u001b[0m\n\u001b[1;32m     66\u001b[0m                         \u001b[0mvalid_losses\u001b[0m \u001b[0;34m=\u001b[0m \u001b[0mlist\u001b[0m\u001b[0;34m(\u001b[0m\u001b[0;34m)\u001b[0m\u001b[0;34m\u001b[0m\u001b[0;34m\u001b[0m\u001b[0m\n\u001b[1;32m     67\u001b[0m                         \u001b[0mmodel\u001b[0m\u001b[0;34m.\u001b[0m\u001b[0meval\u001b[0m\u001b[0;34m(\u001b[0m\u001b[0;34m)\u001b[0m\u001b[0;34m\u001b[0m\u001b[0;34m\u001b[0m\u001b[0m\n\u001b[0;32m---> 68\u001b[0;31m                         \u001b[0;32mfor\u001b[0m \u001b[0minp\u001b[0m\u001b[0;34m,\u001b[0m \u001b[0mlab\u001b[0m \u001b[0;32min\u001b[0m \u001b[0mvalid_loader\u001b[0m\u001b[0;34m:\u001b[0m\u001b[0;34m\u001b[0m\u001b[0;34m\u001b[0m\u001b[0m\n\u001b[0m\u001b[1;32m     69\u001b[0m                             \u001b[0minp\u001b[0m \u001b[0;34m=\u001b[0m \u001b[0minp\u001b[0m\u001b[0;34m.\u001b[0m\u001b[0mto\u001b[0m\u001b[0;34m(\u001b[0m\u001b[0mdevice\u001b[0m\u001b[0;34m)\u001b[0m\u001b[0;34m\u001b[0m\u001b[0;34m\u001b[0m\u001b[0m\n\u001b[1;32m     70\u001b[0m                             \u001b[0mlab\u001b[0m \u001b[0;34m=\u001b[0m \u001b[0mlab\u001b[0m\u001b[0;34m.\u001b[0m\u001b[0mto\u001b[0m\u001b[0;34m(\u001b[0m\u001b[0mdevice\u001b[0m\u001b[0;34m)\u001b[0m\u001b[0;34m\u001b[0m\u001b[0;34m\u001b[0m\u001b[0m\n",
      "\u001b[0;32m/home/nslab/miniconda3/envs/pytorch/lib/python3.8/site-packages/torch/utils/data/dataloader.py\u001b[0m in \u001b[0;36m__next__\u001b[0;34m(self)\u001b[0m\n\u001b[1;32m    519\u001b[0m             \u001b[0;32mif\u001b[0m \u001b[0mself\u001b[0m\u001b[0;34m.\u001b[0m\u001b[0m_sampler_iter\u001b[0m \u001b[0;32mis\u001b[0m \u001b[0;32mNone\u001b[0m\u001b[0;34m:\u001b[0m\u001b[0;34m\u001b[0m\u001b[0;34m\u001b[0m\u001b[0m\n\u001b[1;32m    520\u001b[0m                 \u001b[0mself\u001b[0m\u001b[0;34m.\u001b[0m\u001b[0m_reset\u001b[0m\u001b[0;34m(\u001b[0m\u001b[0;34m)\u001b[0m\u001b[0;34m\u001b[0m\u001b[0;34m\u001b[0m\u001b[0m\n\u001b[0;32m--> 521\u001b[0;31m             \u001b[0mdata\u001b[0m \u001b[0;34m=\u001b[0m \u001b[0mself\u001b[0m\u001b[0;34m.\u001b[0m\u001b[0m_next_data\u001b[0m\u001b[0;34m(\u001b[0m\u001b[0;34m)\u001b[0m\u001b[0;34m\u001b[0m\u001b[0;34m\u001b[0m\u001b[0m\n\u001b[0m\u001b[1;32m    522\u001b[0m             \u001b[0mself\u001b[0m\u001b[0;34m.\u001b[0m\u001b[0m_num_yielded\u001b[0m \u001b[0;34m+=\u001b[0m \u001b[0;36m1\u001b[0m\u001b[0;34m\u001b[0m\u001b[0;34m\u001b[0m\u001b[0m\n\u001b[1;32m    523\u001b[0m             \u001b[0;32mif\u001b[0m \u001b[0mself\u001b[0m\u001b[0;34m.\u001b[0m\u001b[0m_dataset_kind\u001b[0m \u001b[0;34m==\u001b[0m \u001b[0m_DatasetKind\u001b[0m\u001b[0;34m.\u001b[0m\u001b[0mIterable\u001b[0m \u001b[0;32mand\u001b[0m\u001b[0;31m \u001b[0m\u001b[0;31m\\\u001b[0m\u001b[0;34m\u001b[0m\u001b[0;34m\u001b[0m\u001b[0m\n",
      "\u001b[0;32m/home/nslab/miniconda3/envs/pytorch/lib/python3.8/site-packages/torch/utils/data/dataloader.py\u001b[0m in \u001b[0;36m_next_data\u001b[0;34m(self)\u001b[0m\n\u001b[1;32m    558\u001b[0m \u001b[0;34m\u001b[0m\u001b[0m\n\u001b[1;32m    559\u001b[0m     \u001b[0;32mdef\u001b[0m \u001b[0m_next_data\u001b[0m\u001b[0;34m(\u001b[0m\u001b[0mself\u001b[0m\u001b[0;34m)\u001b[0m\u001b[0;34m:\u001b[0m\u001b[0;34m\u001b[0m\u001b[0;34m\u001b[0m\u001b[0m\n\u001b[0;32m--> 560\u001b[0;31m         \u001b[0mindex\u001b[0m \u001b[0;34m=\u001b[0m \u001b[0mself\u001b[0m\u001b[0;34m.\u001b[0m\u001b[0m_next_index\u001b[0m\u001b[0;34m(\u001b[0m\u001b[0;34m)\u001b[0m  \u001b[0;31m# may raise StopIteration\u001b[0m\u001b[0;34m\u001b[0m\u001b[0;34m\u001b[0m\u001b[0m\n\u001b[0m\u001b[1;32m    561\u001b[0m         \u001b[0mdata\u001b[0m \u001b[0;34m=\u001b[0m \u001b[0mself\u001b[0m\u001b[0;34m.\u001b[0m\u001b[0m_dataset_fetcher\u001b[0m\u001b[0;34m.\u001b[0m\u001b[0mfetch\u001b[0m\u001b[0;34m(\u001b[0m\u001b[0mindex\u001b[0m\u001b[0;34m)\u001b[0m  \u001b[0;31m# may raise StopIteration\u001b[0m\u001b[0;34m\u001b[0m\u001b[0;34m\u001b[0m\u001b[0m\n\u001b[1;32m    562\u001b[0m         \u001b[0;32mif\u001b[0m \u001b[0mself\u001b[0m\u001b[0;34m.\u001b[0m\u001b[0m_pin_memory\u001b[0m\u001b[0;34m:\u001b[0m\u001b[0;34m\u001b[0m\u001b[0;34m\u001b[0m\u001b[0m\n",
      "\u001b[0;32m/home/nslab/miniconda3/envs/pytorch/lib/python3.8/site-packages/torch/utils/data/dataloader.py\u001b[0m in \u001b[0;36m_next_index\u001b[0;34m(self)\u001b[0m\n\u001b[1;32m    510\u001b[0m \u001b[0;34m\u001b[0m\u001b[0m\n\u001b[1;32m    511\u001b[0m     \u001b[0;32mdef\u001b[0m \u001b[0m_next_index\u001b[0m\u001b[0;34m(\u001b[0m\u001b[0mself\u001b[0m\u001b[0;34m)\u001b[0m\u001b[0;34m:\u001b[0m\u001b[0;34m\u001b[0m\u001b[0;34m\u001b[0m\u001b[0m\n\u001b[0;32m--> 512\u001b[0;31m         \u001b[0;32mreturn\u001b[0m \u001b[0mnext\u001b[0m\u001b[0;34m(\u001b[0m\u001b[0mself\u001b[0m\u001b[0;34m.\u001b[0m\u001b[0m_sampler_iter\u001b[0m\u001b[0;34m)\u001b[0m  \u001b[0;31m# may raise StopIteration\u001b[0m\u001b[0;34m\u001b[0m\u001b[0;34m\u001b[0m\u001b[0m\n\u001b[0m\u001b[1;32m    513\u001b[0m \u001b[0;34m\u001b[0m\u001b[0m\n\u001b[1;32m    514\u001b[0m     \u001b[0;32mdef\u001b[0m \u001b[0m_next_data\u001b[0m\u001b[0;34m(\u001b[0m\u001b[0mself\u001b[0m\u001b[0;34m)\u001b[0m\u001b[0;34m:\u001b[0m\u001b[0;34m\u001b[0m\u001b[0;34m\u001b[0m\u001b[0m\n",
      "\u001b[0;32m/home/nslab/miniconda3/envs/pytorch/lib/python3.8/site-packages/torch/utils/data/sampler.py\u001b[0m in \u001b[0;36m__iter__\u001b[0;34m(self)\u001b[0m\n\u001b[1;32m    225\u001b[0m         \u001b[0mbatch\u001b[0m \u001b[0;34m=\u001b[0m \u001b[0;34m[\u001b[0m\u001b[0;34m]\u001b[0m\u001b[0;34m\u001b[0m\u001b[0;34m\u001b[0m\u001b[0m\n\u001b[1;32m    226\u001b[0m         \u001b[0;32mfor\u001b[0m \u001b[0midx\u001b[0m \u001b[0;32min\u001b[0m \u001b[0mself\u001b[0m\u001b[0;34m.\u001b[0m\u001b[0msampler\u001b[0m\u001b[0;34m:\u001b[0m\u001b[0;34m\u001b[0m\u001b[0;34m\u001b[0m\u001b[0m\n\u001b[0;32m--> 227\u001b[0;31m             \u001b[0mbatch\u001b[0m\u001b[0;34m.\u001b[0m\u001b[0mappend\u001b[0m\u001b[0;34m(\u001b[0m\u001b[0midx\u001b[0m\u001b[0;34m)\u001b[0m\u001b[0;34m\u001b[0m\u001b[0;34m\u001b[0m\u001b[0m\n\u001b[0m\u001b[1;32m    228\u001b[0m             \u001b[0;32mif\u001b[0m \u001b[0mlen\u001b[0m\u001b[0;34m(\u001b[0m\u001b[0mbatch\u001b[0m\u001b[0;34m)\u001b[0m \u001b[0;34m==\u001b[0m \u001b[0mself\u001b[0m\u001b[0;34m.\u001b[0m\u001b[0mbatch_size\u001b[0m\u001b[0;34m:\u001b[0m\u001b[0;34m\u001b[0m\u001b[0;34m\u001b[0m\u001b[0m\n\u001b[1;32m    229\u001b[0m                 \u001b[0;32myield\u001b[0m \u001b[0mbatch\u001b[0m\u001b[0;34m\u001b[0m\u001b[0;34m\u001b[0m\u001b[0m\n",
      "\u001b[0;31mKeyboardInterrupt\u001b[0m: "
     ]
    }
   ],
   "source": [
    "random_seed_set(42)\n",
    "records = run_model_hpo()"
   ]
  },
  {
   "cell_type": "markdown",
   "id": "f566d456",
   "metadata": {
    "ExecuteTime": {
     "end_time": "2021-12-22T08:52:06.844501Z",
     "start_time": "2021-12-22T08:52:06.830928Z"
    }
   },
   "source": [
    "## find the best hyper-parameters"
   ]
  },
  {
   "cell_type": "code",
   "execution_count": 16,
   "id": "2f83a4f8",
   "metadata": {
    "ExecuteTime": {
     "end_time": "2021-12-26T04:57:20.210109Z",
     "start_time": "2021-12-26T04:57:20.189331Z"
    }
   },
   "outputs": [
    {
     "data": {
      "text/html": [
       "<div>\n",
       "<style scoped>\n",
       "    .dataframe tbody tr th:only-of-type {\n",
       "        vertical-align: middle;\n",
       "    }\n",
       "\n",
       "    .dataframe tbody tr th {\n",
       "        vertical-align: top;\n",
       "    }\n",
       "\n",
       "    .dataframe thead th {\n",
       "        text-align: right;\n",
       "    }\n",
       "</style>\n",
       "<table border=\"1\" class=\"dataframe\">\n",
       "  <thead>\n",
       "    <tr style=\"text-align: right;\">\n",
       "      <th></th>\n",
       "      <th>batch_size</th>\n",
       "      <th>lr</th>\n",
       "      <th>number_epoch</th>\n",
       "      <th>d_model</th>\n",
       "      <th>n_layers</th>\n",
       "      <th>drop_prob</th>\n",
       "      <th>nhead</th>\n",
       "      <th>valid_loss</th>\n",
       "    </tr>\n",
       "  </thead>\n",
       "  <tbody>\n",
       "    <tr>\n",
       "      <th>7</th>\n",
       "      <td>256</td>\n",
       "      <td>0.10</td>\n",
       "      <td>40</td>\n",
       "      <td>64</td>\n",
       "      <td>1</td>\n",
       "      <td>0.5</td>\n",
       "      <td>8</td>\n",
       "      <td>0.033100</td>\n",
       "    </tr>\n",
       "    <tr>\n",
       "      <th>2</th>\n",
       "      <td>256</td>\n",
       "      <td>0.05</td>\n",
       "      <td>40</td>\n",
       "      <td>128</td>\n",
       "      <td>2</td>\n",
       "      <td>0.2</td>\n",
       "      <td>2</td>\n",
       "      <td>0.033140</td>\n",
       "    </tr>\n",
       "    <tr>\n",
       "      <th>0</th>\n",
       "      <td>256</td>\n",
       "      <td>0.01</td>\n",
       "      <td>40</td>\n",
       "      <td>256</td>\n",
       "      <td>3</td>\n",
       "      <td>0.4</td>\n",
       "      <td>2</td>\n",
       "      <td>0.033247</td>\n",
       "    </tr>\n",
       "    <tr>\n",
       "      <th>4</th>\n",
       "      <td>256</td>\n",
       "      <td>0.05</td>\n",
       "      <td>40</td>\n",
       "      <td>64</td>\n",
       "      <td>2</td>\n",
       "      <td>0.5</td>\n",
       "      <td>8</td>\n",
       "      <td>0.033285</td>\n",
       "    </tr>\n",
       "    <tr>\n",
       "      <th>8</th>\n",
       "      <td>512</td>\n",
       "      <td>0.10</td>\n",
       "      <td>40</td>\n",
       "      <td>64</td>\n",
       "      <td>1</td>\n",
       "      <td>0.2</td>\n",
       "      <td>8</td>\n",
       "      <td>0.033293</td>\n",
       "    </tr>\n",
       "    <tr>\n",
       "      <th>5</th>\n",
       "      <td>512</td>\n",
       "      <td>0.05</td>\n",
       "      <td>40</td>\n",
       "      <td>128</td>\n",
       "      <td>1</td>\n",
       "      <td>0.2</td>\n",
       "      <td>2</td>\n",
       "      <td>0.033314</td>\n",
       "    </tr>\n",
       "    <tr>\n",
       "      <th>3</th>\n",
       "      <td>512</td>\n",
       "      <td>0.10</td>\n",
       "      <td>40</td>\n",
       "      <td>64</td>\n",
       "      <td>2</td>\n",
       "      <td>0.5</td>\n",
       "      <td>8</td>\n",
       "      <td>0.033779</td>\n",
       "    </tr>\n",
       "    <tr>\n",
       "      <th>6</th>\n",
       "      <td>512</td>\n",
       "      <td>0.01</td>\n",
       "      <td>40</td>\n",
       "      <td>128</td>\n",
       "      <td>3</td>\n",
       "      <td>0.5</td>\n",
       "      <td>8</td>\n",
       "      <td>0.033783</td>\n",
       "    </tr>\n",
       "    <tr>\n",
       "      <th>1</th>\n",
       "      <td>512</td>\n",
       "      <td>0.05</td>\n",
       "      <td>40</td>\n",
       "      <td>128</td>\n",
       "      <td>2</td>\n",
       "      <td>0.2</td>\n",
       "      <td>8</td>\n",
       "      <td>0.033976</td>\n",
       "    </tr>\n",
       "    <tr>\n",
       "      <th>9</th>\n",
       "      <td>256</td>\n",
       "      <td>0.10</td>\n",
       "      <td>40</td>\n",
       "      <td>128</td>\n",
       "      <td>3</td>\n",
       "      <td>0.5</td>\n",
       "      <td>4</td>\n",
       "      <td>0.036417</td>\n",
       "    </tr>\n",
       "  </tbody>\n",
       "</table>\n",
       "</div>"
      ],
      "text/plain": [
       "   batch_size    lr  number_epoch  d_model  n_layers  drop_prob  nhead  \\\n",
       "7         256  0.10            40       64         1        0.5      8   \n",
       "2         256  0.05            40      128         2        0.2      2   \n",
       "0         256  0.01            40      256         3        0.4      2   \n",
       "4         256  0.05            40       64         2        0.5      8   \n",
       "8         512  0.10            40       64         1        0.2      8   \n",
       "5         512  0.05            40      128         1        0.2      2   \n",
       "3         512  0.10            40       64         2        0.5      8   \n",
       "6         512  0.01            40      128         3        0.5      8   \n",
       "1         512  0.05            40      128         2        0.2      8   \n",
       "9         256  0.10            40      128         3        0.5      4   \n",
       "\n",
       "   valid_loss  \n",
       "7    0.033100  \n",
       "2    0.033140  \n",
       "0    0.033247  \n",
       "4    0.033285  \n",
       "8    0.033293  \n",
       "5    0.033314  \n",
       "3    0.033779  \n",
       "6    0.033783  \n",
       "1    0.033976  \n",
       "9    0.036417  "
      ]
     },
     "execution_count": 16,
     "metadata": {},
     "output_type": "execute_result"
    }
   ],
   "source": [
    "records = pd.DataFrame(records).sort_values(by='valid_loss')\n",
    "records.to_csv('./records/transformer_records.csv', mode='a', index=False, header=False)\n",
    "records"
   ]
  },
  {
   "cell_type": "markdown",
   "id": "a61fbf92",
   "metadata": {},
   "source": [
    "## retrain a model"
   ]
  },
  {
   "cell_type": "code",
   "execution_count": 22,
   "id": "6794cd46",
   "metadata": {
    "ExecuteTime": {
     "end_time": "2022-01-02T09:14:55.583795Z",
     "start_time": "2022-01-02T09:14:55.557071Z"
    },
    "code_folding": [
     4
    ]
   },
   "outputs": [],
   "source": [
    "def train_model(train_x, train_y, valid_x, valid_y, input_size, seq_len,\n",
    "                target_len, mse_thresh, d_model, nhead, n_layers, number_epoch,\n",
    "                batch_size, lr, drop_prob):\n",
    "    while (1):\n",
    "        model = Transformer(input_size, d_model, d_model, d_model, d_model,\n",
    "                                ([d_model], [d_model]),\n",
    "                                d_model, 2 * d_model, nhead, n_layers,\n",
    "                                drop_prob)\n",
    "        model = model.to(device)\n",
    "        criterion = nn.MSELoss()\n",
    "        optimizer = torch.optim.Adam(model.parameters(),\n",
    "                                     lr=lr,\n",
    "                                     betas=(0.9, 0.98),\n",
    "                                     eps=1e-9)\n",
    "        scheduler = torch.optim.lr_scheduler.StepLR(optimizer,\n",
    "                                                    step_size=1,\n",
    "                                                    gamma=0.98)\n",
    "        valid_loss_min = np.Inf\n",
    "        train_dataset = TensorDataset(torch.FloatTensor(train_x),\n",
    "                                      torch.FloatTensor(train_y))\n",
    "        valid_dataset = TensorDataset(torch.FloatTensor(valid_x),\n",
    "                                      torch.FloatTensor(valid_y))\n",
    "\n",
    "        train_loader = DataLoader(dataset=train_dataset,\n",
    "                                  batch_size=batch_size,\n",
    "                                  shuffle=True,\n",
    "                                  drop_last=True)\n",
    "        valid_loader = DataLoader(dataset=valid_dataset,\n",
    "                                  batch_size=batch_size,\n",
    "                                  shuffle=True,\n",
    "                                  drop_last=True)\n",
    "        train_loss_list = []\n",
    "        valid_loss_list = []\n",
    "        num_without_imp = 0\n",
    "\n",
    "        #train\n",
    "        for epoch in range(1, number_epoch + 1):\n",
    "            loop = tqdm(enumerate(train_loader),\n",
    "                        total=len(train_loader),\n",
    "                        leave=True, ncols=100)\n",
    "            for i, (inputs, labels) in loop:\n",
    "                model.train()\n",
    "                inputs = inputs.to(device)\n",
    "                labels = labels.to(device)\n",
    "                optimizer.zero_grad()\n",
    "                # train\n",
    "                # pdb.set_trace()\n",
    "                enc_inputs = inputs\n",
    "                dec_inputs = torch.cat((inputs[:, -1:, :], labels[:, :-1, :]), dim=1)\n",
    "                outputs = model(enc_inputs, dec_inputs)\n",
    "                loss = criterion(outputs, labels[:, :, -1])\n",
    "                loss.backward()\n",
    "                optimizer.step()\n",
    "\n",
    "                # eval\n",
    "                if i % 5 == 0:\n",
    "                    num_without_imp = num_without_imp + 1\n",
    "                    valid_losses = list()\n",
    "                    model.eval()\n",
    "                    for inp, lab in valid_loader:\n",
    "                        inp = inp.to(device)\n",
    "                        lab = lab.to(device)\n",
    "                        enc_inputs = inp\n",
    "                        dec_inputs = torch.cat((inp[:, -1:, :], lab[:, :-1, :]), dim=1)\n",
    "                        out = model(enc_inputs, dec_inputs)\n",
    "                        valid_loss = criterion(out, lab[:, :, -1])\n",
    "                        valid_losses.append(valid_loss.item())\n",
    "                    loop.set_description(\"Epoch: {}/{}...\".format(\n",
    "                        epoch, number_epoch))\n",
    "                    loop.set_postfix(train_loss=loss.item(),\n",
    "                                     valid_loss=np.mean(valid_losses))\n",
    "                    train_loss_list.append(loss.item())\n",
    "                    valid_loss_list.append(np.mean(valid_losses))\n",
    "                    if np.mean(valid_losses) < valid_loss_min:\n",
    "                        num_without_imp = 0\n",
    "                        torch.save(model.state_dict(),\n",
    "                                   \"./model/transformer_state_dict.pt\")\n",
    "                        valid_loss_min = np.mean(valid_losses)\n",
    "            scheduler.step()\n",
    "        if valid_loss_min < mse_thresh:\n",
    "            break\n",
    "    return model, train_loss_list, valid_loss_list"
   ]
  },
  {
   "cell_type": "markdown",
   "id": "8286088f",
   "metadata": {},
   "source": [
    "## test results"
   ]
  },
  {
   "cell_type": "code",
   "execution_count": 23,
   "id": "e0154c0a",
   "metadata": {
    "ExecuteTime": {
     "end_time": "2022-01-02T09:14:57.878277Z",
     "start_time": "2022-01-02T09:14:57.862502Z"
    },
    "code_folding": []
   },
   "outputs": [],
   "source": [
    "def test_model(model, test_x, test_y, scaler_y, seq_len, target_len,\n",
    "               batch_size):\n",
    "    test_dataset = TensorDataset(torch.FloatTensor(test_x),\n",
    "                                 torch.FloatTensor(test_y))\n",
    "    test_loader = DataLoader(dataset=test_dataset,\n",
    "                             batch_size=batch_size,\n",
    "                             shuffle=False,\n",
    "                             drop_last=True)\n",
    "    model.load_state_dict(torch.load('./model/transformer_state_dict.pt'))\n",
    "    y_pred = []\n",
    "    y_true = []\n",
    "    with torch.no_grad():\n",
    "        model.eval()\n",
    "        for inp, lab in test_loader:\n",
    "            inp = inp.to(device)\n",
    "            lab = lab.to(device)\n",
    "            enc_inputs = inp\n",
    "            dec_inputs = torch.cat((inp[:, -1:, :], lab[:, :-1, :]), dim=1)\n",
    "            out = model(enc_inputs, dec_inputs)\n",
    "            y_pred += out.cpu().numpy().flatten().tolist()\n",
    "            y_true += lab[:, :, -1].cpu().numpy().flatten().tolist()\n",
    "    y_pred = np.array(y_pred).reshape(-1, 1)\n",
    "    y_true = np.array(y_true).reshape(-1, 1)\n",
    "    load_pred = scaler_y.inverse_transform(y_pred)\n",
    "    load_true = scaler_y.inverse_transform(y_true)\n",
    "    MAPE = np.mean(np.abs(load_true - load_pred) / load_true)\n",
    "    MAE = np.mean(np.abs(load_true - load_pred))\n",
    "    RMSE = np.sqrt(np.mean(np.square(load_true - load_pred)))\n",
    "    return MAPE, MAE, RMSE, load_pred, load_true"
   ]
  },
  {
   "cell_type": "markdown",
   "id": "5f12a6dc",
   "metadata": {},
   "source": [
    "## run model retraining"
   ]
  },
  {
   "cell_type": "code",
   "execution_count": 37,
   "id": "b2402738",
   "metadata": {
    "ExecuteTime": {
     "end_time": "2022-01-02T10:38:52.932812Z",
     "start_time": "2022-01-02T10:38:52.916055Z"
    }
   },
   "outputs": [],
   "source": [
    "def run_model_retraining(seq_len=seq_len,\n",
    "                         target_len=target_len,\n",
    "                         mse_thresh=mse_thresh):\n",
    "    train_data = data[:int(0.8 * len(data))]\n",
    "    train_data, scaler, scaler_y = normalization(train_data)\n",
    "    train_x, train_y = series_to_supervise(train_data, seq_len, target_len)\n",
    "\n",
    "    valid_x = train_x[int(0.8 * len(train_x)):]\n",
    "    valid_y = train_y[int(0.8 * len(train_y)):]\n",
    "    train_x = train_x[:int(0.8 * len(train_x))]\n",
    "    train_y = train_y[:int(0.8 * len(train_y))]\n",
    "    input_size = train_x.shape[2]\n",
    "\n",
    "    #     hyper-parameters define\n",
    "    batch_size = 512\n",
    "    lr = 0.005\n",
    "    number_epoch = 40\n",
    "    d_model = 32\n",
    "    n_layers = 3\n",
    "    drop_prob = 0.5\n",
    "    nhead = 4\n",
    "    mse_thresh = 0.1\n",
    "\n",
    "    model, train_loss_list, valid_loss_list = train_model(\n",
    "        train_x, train_y, valid_x, valid_y, input_size, seq_len, target_len,\n",
    "        mse_thresh, d_model, nhead, n_layers, number_epoch, batch_size, lr,\n",
    "        drop_prob)\n",
    "    # plot training process\n",
    "    plt.plot(train_loss_list[10:], 'm', label='train_loss')\n",
    "    plt.plot(valid_loss_list[10:], 'g', label='valid_loss')\n",
    "    plt.grid('both')\n",
    "    plt.legend()\n",
    "    # test\n",
    "    test_data = data[int(0.8 * len(data)):]\n",
    "    test_data = scaler.transform(test_data)\n",
    "    test_x, test_y = series_to_supervise(test_data, seq_len, target_len)\n",
    "    MAPE, MAE, RMSE, load_pred, load_true = test_model(model, test_x, test_y,\n",
    "                                                       scaler_y, seq_len,\n",
    "                                                       target_len, batch_size)\n",
    "    return MAPE, MAE, RMSE, load_pred, load_true"
   ]
  },
  {
   "cell_type": "code",
   "execution_count": null,
   "id": "eb681a59",
   "metadata": {
    "ExecuteTime": {
     "start_time": "2022-01-02T10:39:11.827Z"
    }
   },
   "outputs": [
    {
     "name": "stdout",
     "output_type": "stream",
     "text": [
      "supervised data: shape of x: (25232, 72, 16), shape of y: (25232, 24, 16)\n"
     ]
    },
    {
     "name": "stderr",
     "output_type": "stream",
     "text": [
      "Epoch: 1/40...: 100%|█████████| 39/39 [00:06<00:00,  5.88it/s, train_loss=0.0378, valid_loss=0.0392]\n",
      "Epoch: 2/40...: 100%|█████████| 39/39 [00:06<00:00,  5.88it/s, train_loss=0.0333, valid_loss=0.0376]\n",
      "Epoch: 3/40...:  62%|█████▌   | 24/39 [00:04<00:02,  7.08it/s, train_loss=0.0308, valid_loss=0.0387]"
     ]
    }
   ],
   "source": [
    "random_seed_set(42)\n",
    "MAPE, MAE, RMSE, load_pred, load_true = run_model_retraining()\n",
    "print('MAPE:{}, MAE:{}, RMSE:{}'.format(MAPE, MAE, RMSE))"
   ]
  },
  {
   "cell_type": "code",
   "execution_count": 31,
   "id": "6d260d2a",
   "metadata": {
    "ExecuteTime": {
     "end_time": "2022-01-02T10:27:54.780780Z",
     "start_time": "2022-01-02T10:27:54.774791Z"
    }
   },
   "outputs": [
    {
     "name": "stdout",
     "output_type": "stream",
     "text": [
      "MAPE:0.06708295069008105, MAE:878.4440883061797, RMSE:1155.4618945349062\n"
     ]
    }
   ],
   "source": [
    "print('MAPE:{}, MAE:{}, RMSE:{}'.format(MAPE, MAE, RMSE))"
   ]
  },
  {
   "cell_type": "markdown",
   "id": "14605f64",
   "metadata": {},
   "source": [
    "## figure plot"
   ]
  },
  {
   "cell_type": "code",
   "execution_count": 29,
   "id": "37909d4f",
   "metadata": {
    "ExecuteTime": {
     "end_time": "2021-12-26T05:30:27.214323Z",
     "start_time": "2021-12-26T05:30:27.061265Z"
    }
   },
   "outputs": [
    {
     "data": {
      "text/plain": [
       "[<matplotlib.lines.Line2D at 0x7fd11b7daac0>]"
      ]
     },
     "execution_count": 29,
     "metadata": {},
     "output_type": "execute_result"
    },
    {
     "data": {
      "image/png": "[encoded data removed]",
      "text/plain": [
       "<Figure size 1440x720 with 1 Axes>"
      ]
     },
     "metadata": {
      "needs_background": "light"
     },
     "output_type": "display_data"
    }
   ],
   "source": [
    "plt.figure(figsize=(20, 10))\n",
    "load_pred = load_pred.reshape(-1, 24)\n",
    "load_true = load_true.reshape(-1, 24)\n",
    "plt.plot(load_pred[:240, 0], 'm')\n",
    "plt.plot(load_true[:240, 0], 'g')\n",
    "plt.ylim(ymin=0)"
   ]
  }
 ],
 "metadata": {
  "kernelspec": {
   "display_name": "Python 3 (ipykernel)",
   "language": "python",
   "name": "python3"
  },
  "language_info": {
   "codemirror_mode": {
    "name": "ipython",
    "version": 3
   },
   "file_extension": ".py",
   "mimetype": "text/x-python",
   "name": "python",
   "nbconvert_exporter": "python",
   "pygments_lexer": "ipython3",
   "version": "3.8.12"
  },
  "toc": {
   "base_numbering": 1,
   "nav_menu": {},
   "number_sections": true,
   "sideBar": true,
   "skip_h1_title": false,
   "title_cell": "Table of Contents",
   "title_sidebar": "Contents",
   "toc_cell": false,
   "toc_position": {
    "height": "calc(100% - 180px)",
    "left": "10px",
    "top": "150px",
    "width": "215.375px"
   },
   "toc_section_display": true,
   "toc_window_display": true
  },
  "varInspector": {
   "cols": {
    "lenName": 16,
    "lenType": 16,
    "lenVar": 40
   },
   "kernels_config": {
    "python": {
     "delete_cmd_postfix": "",
     "delete_cmd_prefix": "del ",
     "library": "var_list.py",
     "varRefreshCmd": "print(var_dic_list())"
    },
    "r": {
     "delete_cmd_postfix": ") ",
     "delete_cmd_prefix": "rm(",
     "library": "var_list.r",
     "varRefreshCmd": "cat(var_dic_list()) "
    }
   },
   "types_to_exclude": [
    "module",
    "function",
    "builtin_function_or_method",
    "instance",
    "_Feature"
   ],
   "window_display": false
  }
 },
 "nbformat": 4,
 "nbformat_minor": 5
}
