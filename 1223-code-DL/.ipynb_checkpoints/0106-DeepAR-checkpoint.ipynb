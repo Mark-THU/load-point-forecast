{
 "cells": [
  {
   "cell_type": "markdown",
   "id": "b6760fcb",
   "metadata": {},
   "source": [
    "# DeepAR forecast"
   ]
  },
  {
   "cell_type": "markdown",
   "id": "1b99add5",
   "metadata": {},
   "source": [
    "**modified versions**\n",
    "1. 实现\n",
    "2. 预测值选择多次随机均值"
   ]
  },
  {
   "cell_type": "code",
   "execution_count": 1,
   "id": "ab701777",
   "metadata": {
    "ExecuteTime": {
     "end_time": "2022-01-09T08:54:11.077090Z",
     "start_time": "2022-01-09T08:54:09.987683Z"
    }
   },
   "outputs": [],
   "source": [
    "import pandas as pd\n",
    "import numpy as np\n",
    "import matplotlib.pyplot as plt\n",
    "import pdb\n",
    "import torch\n",
    "import torch.nn as nn\n",
    "import random\n",
    "\n",
    "from sklearn.preprocessing import MinMaxScaler\n",
    "from sklearn.model_selection import train_test_split, TimeSeriesSplit\n",
    "from torch.autograd import Variable\n",
    "from torch.utils.data import TensorDataset, DataLoader\n",
    "from tqdm import tqdm\n",
    "from xgboost import XGBRegressor\n",
    "from torchsummary import summary\n",
    "\n",
    "if torch.cuda.is_available():\n",
    "    dev = \"cuda:0\"\n",
    "else:\n",
    "    dev = \"cpu\"\n",
    "device = torch.device(dev)"
   ]
  },
  {
   "cell_type": "code",
   "execution_count": 2,
   "id": "a74c7ce0",
   "metadata": {
    "ExecuteTime": {
     "end_time": "2022-01-09T08:54:11.081681Z",
     "start_time": "2022-01-09T08:54:11.078842Z"
    }
   },
   "outputs": [],
   "source": [
    "def random_seed_set(seed):\n",
    "    np.random.seed(seed)\n",
    "    torch.random.manual_seed(seed)\n",
    "    torch.cuda.random.manual_seed(seed)\n",
    "\n",
    "\n",
    "#     torch.backends.cudnn.benchmark = False\n",
    "#     torch.backends.cudnn.deterministic = True"
   ]
  },
  {
   "cell_type": "markdown",
   "id": "1b1e141f",
   "metadata": {},
   "source": [
    "## load data"
   ]
  },
  {
   "cell_type": "code",
   "execution_count": 3,
   "id": "5c50b0c3",
   "metadata": {
    "ExecuteTime": {
     "end_time": "2022-01-09T08:54:11.133978Z",
     "start_time": "2022-01-09T08:54:11.082920Z"
    }
   },
   "outputs": [],
   "source": [
    "url = '../data/beijing.csv'\n",
    "data = pd.read_csv(url, sep=',', index_col='time')\n",
    "data.index = pd.to_datetime(data.index)"
   ]
  },
  {
   "cell_type": "markdown",
   "id": "5983b6c6",
   "metadata": {},
   "source": [
    "## normalization"
   ]
  },
  {
   "cell_type": "code",
   "execution_count": 4,
   "id": "5d83e76f",
   "metadata": {
    "ExecuteTime": {
     "end_time": "2022-01-09T08:54:11.139232Z",
     "start_time": "2022-01-09T08:54:11.135852Z"
    }
   },
   "outputs": [],
   "source": [
    "def normalization(data):\n",
    "    \"\"\"\n",
    "    data: original data with load\n",
    "    return: normalized data, scaler of load\n",
    "    \"\"\"\n",
    "    scaler = MinMaxScaler()\n",
    "    normalized_data = scaler.fit_transform(data)\n",
    "    scaler_y = MinMaxScaler()\n",
    "    scaler_y.fit_transform(data[[data.columns[-1]]])\n",
    "    return normalized_data, scaler, scaler_y"
   ]
  },
  {
   "cell_type": "markdown",
   "id": "77586dff",
   "metadata": {
    "ExecuteTime": {
     "end_time": "2021-12-22T07:45:44.192666Z",
     "start_time": "2021-12-22T07:45:44.188985Z"
    }
   },
   "source": [
    "## build supervised dataset"
   ]
  },
  {
   "cell_type": "code",
   "execution_count": 5,
   "id": "28cb7301",
   "metadata": {
    "ExecuteTime": {
     "end_time": "2022-01-09T08:54:11.144466Z",
     "start_time": "2022-01-09T08:54:11.140462Z"
    }
   },
   "outputs": [],
   "source": [
    "def series_to_supervise(data, seq_len, target_len):\n",
    "    \"\"\"\n",
    "    convert series data to supervised data\n",
    "    :param data: original data\n",
    "    :param seq_len: length of input sequence\n",
    "    :param target_len: length of ouput sequence\n",
    "    :return: return two ndarrays-- input and output in format suitable to feed to RNN\n",
    "    \"\"\"\n",
    "    dim_0 = data.shape[0] - seq_len - target_len + 1\n",
    "    dim_1 = data.shape[1]\n",
    "    x = np.zeros((dim_0, seq_len, dim_1))\n",
    "    y = np.zeros((dim_0, target_len, dim_1))\n",
    "    for i in range(dim_0):\n",
    "        x[i] = data[i:i + seq_len]\n",
    "        y[i] = data[i + seq_len:i + seq_len + target_len]\n",
    "    print(\"supervised data: shape of x: {}, shape of y: {}\".format(\n",
    "        x.shape, y.shape))\n",
    "    return x, y"
   ]
  },
  {
   "cell_type": "markdown",
   "id": "17ae28dc",
   "metadata": {},
   "source": [
    "## 5-folds TimeSeriesSplit"
   ]
  },
  {
   "cell_type": "code",
   "execution_count": 6,
   "id": "c5ecff68",
   "metadata": {
    "ExecuteTime": {
     "end_time": "2022-01-09T08:54:11.149439Z",
     "start_time": "2022-01-09T08:54:11.145683Z"
    }
   },
   "outputs": [],
   "source": [
    "def time_series_split(X, Y, n_split=5):\n",
    "    \"\"\"\n",
    "    X: features, size * seq_len * feature_num\n",
    "    Y: labels, size * target_len\n",
    "    return: list of train_x, test_x, train_y, test_y\n",
    "    \"\"\"\n",
    "    tscv = TimeSeriesSplit(n_splits=n_split)\n",
    "    train_x_list = list()\n",
    "    valid_x_list = list()\n",
    "    train_y_list = list()\n",
    "    valid_y_list = list()\n",
    "    for train_index, valid_index in tscv.split(X):\n",
    "        train_x_list.append(X[train_index])\n",
    "        train_y_list.append(Y[train_index])\n",
    "        valid_x_list.append(X[valid_index])\n",
    "        valid_y_list.append(Y[valid_index])\n",
    "    return train_x_list, train_y_list, valid_x_list, valid_y_list"
   ]
  },
  {
   "cell_type": "markdown",
   "id": "51f73225",
   "metadata": {},
   "source": [
    "## DeepAR model"
   ]
  },
  {
   "cell_type": "markdown",
   "id": "31fab893",
   "metadata": {},
   "source": [
    "### Gaussian model"
   ]
  },
  {
   "cell_type": "code",
   "execution_count": 7,
   "id": "5da20379",
   "metadata": {
    "ExecuteTime": {
     "end_time": "2022-01-09T08:54:11.154456Z",
     "start_time": "2022-01-09T08:54:11.150696Z"
    }
   },
   "outputs": [],
   "source": [
    "class Gaussian(nn.Module):\n",
    "    def __init__(self, hidden_size, output_size):\n",
    "        \"\"\"\n",
    "        hidden_size: size of hidden_size\n",
    "        output_size: number of time series\n",
    "        \"\"\"\n",
    "        super(Gaussian, self).__init__()\n",
    "        self.mu_layer = nn.Linear(hidden_size, output_size)\n",
    "        self.sigma_layer = nn.Linear(hidden_size, output_size)\n",
    "\n",
    "    def forward(self, h):\n",
    "        # h shape (batch_size, len, hidden_size)\n",
    "        mu = self.mu_layer(h)\n",
    "\n",
    "        sigma = torch.log(1 + torch.exp(self.sigma_layer(h)))\n",
    "        # ***这里需要加1e-6?***\n",
    "\n",
    "        return mu.squeeze(-1), sigma.squeeze(-1)"
   ]
  },
  {
   "cell_type": "markdown",
   "id": "3801c282",
   "metadata": {},
   "source": [
    "### generate samples"
   ]
  },
  {
   "cell_type": "code",
   "execution_count": 8,
   "id": "99e38aff",
   "metadata": {
    "ExecuteTime": {
     "end_time": "2022-01-09T08:54:11.158780Z",
     "start_time": "2022-01-09T08:54:11.155838Z"
    }
   },
   "outputs": [],
   "source": [
    "def gaussian_sample(mu, sigma):\n",
    "    # mu shape (batch_size, len)\n",
    "    # sigma shape (batch_size, len)\n",
    "    gaussian = torch.distributions.normal.Normal(mu, sigma)\n",
    "    sample = gaussian.sample((20, 20))\n",
    "    # sample shape (20, 20, batch_size, len)\n",
    "    return sample.mean(dim=(0, 1))"
   ]
  },
  {
   "cell_type": "markdown",
   "id": "e56fb48f",
   "metadata": {},
   "source": [
    "### DeepAR"
   ]
  },
  {
   "cell_type": "code",
   "execution_count": 9,
   "id": "502df3a5",
   "metadata": {
    "ExecuteTime": {
     "end_time": "2022-01-09T08:54:11.168672Z",
     "start_time": "2022-01-09T08:54:11.160094Z"
    }
   },
   "outputs": [],
   "source": [
    "class DeepAR(nn.Module):\n",
    "    def __init__(self, input_size, embedding_size, hidden_size, n_layes,\n",
    "                 drop_out):\n",
    "        \"\"\"\n",
    "        input_size: size of covariants\n",
    "        embedding_size: size of value embedding\n",
    "        \"\"\"\n",
    "        super(DeepAR, self).__init__()\n",
    "\n",
    "        # layers\n",
    "        self.embedding = nn.Linear(1, embedding_size)\n",
    "        self.rnn = nn.GRU(input_size=input_size + embedding_size,\n",
    "                          hidden_size=hidden_size,\n",
    "                          num_layers=n_layes,\n",
    "                          dropout=drop_out,\n",
    "                          bias=True,\n",
    "                          batch_first=True)\n",
    "        self.gaussian_layer = Gaussian(hidden_size, 1)\n",
    "\n",
    "    def forward(self, X, y, Xf):\n",
    "        \"\"\"\n",
    "        X shape (batch_size, seq_len, cov_num)\n",
    "        y shape (batch_size, seq_len, 1)\n",
    "        Xf shape (batch_size, tar_len, cov_num)\n",
    "        \"\"\"\n",
    "        y_pred = []\n",
    "        mu_list = []\n",
    "        sigma_list = []\n",
    "\n",
    "        y_embedded = self.embedding(y)\n",
    "        # y_embedded shape (batch_size, seq_len, embedding_size)\n",
    "\n",
    "        inputs = torch.cat((X, y_embedded), dim=2)\n",
    "        # inputs shape (batch_size, seq_len, cov_num + embedding_size)\n",
    "\n",
    "        rnn_out, hidden = self.rnn(inputs)\n",
    "        # rnn_out shape (batch_size, seq_len, hidden_size)\n",
    "        # hidden shape (n_layers, batch_size, hidden_size)\n",
    "\n",
    "        rnn_out = nn.functional.relu(rnn_out)\n",
    "        mu, sigma = self.gaussian_layer(rnn_out)\n",
    "        # mu, sigma shape (batch_size, seq_len)\n",
    "\n",
    "        mu_list.append(mu)\n",
    "        sigma_list.append(sigma)\n",
    "\n",
    "        y_next = gaussian_sample(mu[:, -1:], sigma[:, -1:])\n",
    "        # y_next shape (batch_size, 1)\n",
    "        y_pred.append(y_next)\n",
    "\n",
    "        for i in range(Xf.shape[1] - 1):\n",
    "            input = torch.cat(\n",
    "                (Xf[:, i:i + 1, :], self.embedding(y_next.unsqueeze(2))),\n",
    "                dim=2)\n",
    "            # input shape (batch_size, 1, num_cov + embedding_size)\n",
    "\n",
    "            rnn_out, hidden = self.rnn(input, hidden)\n",
    "            # rnn_out shape (batch_size, 1, hidden_size)\n",
    "            rnn_out = nn.functional.relu(rnn_out)\n",
    "            mu, sigma = self.gaussian_layer(rnn_out)\n",
    "            # mu, sigma shape (batch_size, 1)\n",
    "            mu_list.append(mu)\n",
    "            sigma_list.append(sigma)\n",
    "\n",
    "            y_next = gaussian_sample(mu, sigma)\n",
    "            y_pred.append(y_next)\n",
    "        y_pred = torch.cat(y_pred, dim=-1)\n",
    "        mu = torch.cat(mu_list, dim=-1)\n",
    "        sigma = torch.cat(sigma_list, dim=-1)\n",
    "\n",
    "        return y_pred, mu, sigma"
   ]
  },
  {
   "cell_type": "markdown",
   "id": "59f8916d",
   "metadata": {},
   "source": [
    "### test model"
   ]
  },
  {
   "cell_type": "code",
   "execution_count": 10,
   "id": "6e6d302b",
   "metadata": {
    "ExecuteTime": {
     "end_time": "2022-01-09T08:54:11.247168Z",
     "start_time": "2022-01-09T08:54:11.170939Z"
    }
   },
   "outputs": [
    {
     "data": {
      "text/plain": [
       "torch.Size([10, 95])"
      ]
     },
     "execution_count": 10,
     "metadata": {},
     "output_type": "execute_result"
    }
   ],
   "source": [
    "model = DeepAR(15, 5, 32, 2, 0.1)\n",
    "X = torch.rand(10, 72, 15)\n",
    "y = torch.rand(10, 72, 1)\n",
    "Xf = torch.rand(10, 24, 15)\n",
    "y_pred, mu, sigma = model(X, y, Xf)\n",
    "mu.shape"
   ]
  },
  {
   "cell_type": "markdown",
   "id": "4641dc1d",
   "metadata": {},
   "source": [
    "## loss function"
   ]
  },
  {
   "cell_type": "code",
   "execution_count": 11,
   "id": "3ac2707a",
   "metadata": {
    "ExecuteTime": {
     "end_time": "2022-01-09T08:54:11.250877Z",
     "start_time": "2022-01-09T08:54:11.248417Z"
    }
   },
   "outputs": [],
   "source": [
    "def gaussian_log_likelihood_loss(y, mu, sigma):\n",
    "    loss = torch.log(sigma + 1) + (y - mu)**2 / (2 * sigma**2) + 0.9\n",
    "    return torch.mean(loss)"
   ]
  },
  {
   "cell_type": "markdown",
   "id": "94cc1a61",
   "metadata": {
    "ExecuteTime": {
     "end_time": "2021-12-22T08:30:19.661769Z",
     "start_time": "2021-12-22T08:30:19.656770Z"
    }
   },
   "source": [
    "## model training for HPO"
   ]
  },
  {
   "cell_type": "code",
   "execution_count": 12,
   "id": "30a2ecb3",
   "metadata": {
    "ExecuteTime": {
     "end_time": "2022-01-09T08:54:11.263525Z",
     "start_time": "2022-01-09T08:54:11.251927Z"
    }
   },
   "outputs": [],
   "source": [
    "def train_model_hpo(train_x_list, train_y_list, valid_x_list, valid_y_list,\n",
    "                    input_size, embedding_size, mse_thresh, batch_size, lr,\n",
    "                    number_epoch, hidden_dim, n_layers, drop_prob,\n",
    "                    weight_decay):\n",
    "    valid_loss_list = []\n",
    "    for num in range(len(train_x_list)):\n",
    "        while (1):\n",
    "            model = DeepAR(input_size, embedding_size, hidden_dim, n_layers,\n",
    "                           drop_prob)\n",
    "            model.to(device=device)\n",
    "            criterion = gaussian_log_likelihood_loss\n",
    "            optimizer = torch.optim.Adam(model.parameters(),\n",
    "                                         lr=lr,\n",
    "                                         weight_decay=weight_decay)\n",
    "            scheduler = torch.optim.lr_scheduler.StepLR(optimizer,\n",
    "                                                        1,\n",
    "                                                        gamma=0.98)\n",
    "            valid_loss_min = np.Inf\n",
    "            print('cross-validation dataset {}'.format(num))\n",
    "            train_x = train_x_list[num]\n",
    "            train_y = train_y_list[num]\n",
    "            valid_x = valid_x_list[num]\n",
    "            valid_y = valid_y_list[num]\n",
    "            train_dataset = TensorDataset(torch.FloatTensor(train_x),\n",
    "                                          torch.FloatTensor(train_y))\n",
    "            valid_dataset = TensorDataset(torch.FloatTensor(valid_x),\n",
    "                                          torch.FloatTensor(valid_y))\n",
    "            train_loader = DataLoader(dataset=train_dataset,\n",
    "                                      batch_size=batch_size,\n",
    "                                      shuffle=True,\n",
    "                                      drop_last=False)\n",
    "            valid_loader = DataLoader(dataset=valid_dataset,\n",
    "                                      batch_size=batch_size,\n",
    "                                      shuffle=True,\n",
    "                                      drop_last=False)\n",
    "            num_without_imp = 0\n",
    "            # training process\n",
    "            for epoch in range(1, number_epoch + 1):\n",
    "                loop = tqdm(enumerate(train_loader),\n",
    "                            total=len(train_loader),\n",
    "                            leave=True,\n",
    "                            ncols=100)\n",
    "                for i, (inputs, labels) in loop:\n",
    "                    inputs = inputs.to(device=device)\n",
    "                    labels = labels.to(device=device)\n",
    "                    optimizer.zero_grad()\n",
    "                    _, mu, sigma = model(inputs[:, :, :-1], inputs[:, :, -1:],\n",
    "                                         labels[:, :, :-1])\n",
    "                    # mu, sigma shape(batch_size, seq_len + tar_len - 1)\n",
    "                    y = torch.cat((inputs[:, 1:, -1], labels[:, :, -1]), dim=1)\n",
    "                    loss = criterion(y, mu, sigma)\n",
    "                    loss.backward()\n",
    "                    optimizer.step()\n",
    "                    if i % 5 == 0:\n",
    "                        num_without_imp = num_without_imp + 1\n",
    "                        valid_losses = list()\n",
    "                        model.eval()\n",
    "                        for inp, lab in valid_loader:\n",
    "                            inp = inp.to(device)\n",
    "                            lab = lab.to(device)\n",
    "                            _, mu, sigma = model(inp[:, :, :-1], inp[:, :,\n",
    "                                                                     -1:],\n",
    "                                                 lab[:, :, :-1])\n",
    "                            y = torch.cat((inp[:, 1:, -1], lab[:, :, -1]),\n",
    "                                          dim=1)\n",
    "                            valid_loss = criterion(y, mu, sigma)\n",
    "                            valid_losses.append(valid_loss.item())\n",
    "\n",
    "                        model.train()\n",
    "                        loop.set_description(\"Epoch: {}/{}\".format(\n",
    "                            epoch, number_epoch))\n",
    "                        loop.set_postfix(train_loss=loss.item(),\n",
    "                                         valid_loss=np.mean(valid_losses))\n",
    "                        if np.mean(valid_losses) < valid_loss_min:\n",
    "                            num_without_imp = 0\n",
    "                            valid_loss_min = np.mean(valid_losses)\n",
    "                scheduler.step()\n",
    "                if num_without_imp >= 50:\n",
    "                    #                     break\n",
    "                    pass\n",
    "            if valid_loss_min < mse_thresh:\n",
    "                valid_loss_list.append(valid_loss_min)\n",
    "                break\n",
    "    return np.mean(valid_loss_list)"
   ]
  },
  {
   "cell_type": "markdown",
   "id": "17c26b2c",
   "metadata": {},
   "source": [
    "## hyper-parameters config"
   ]
  },
  {
   "cell_type": "code",
   "execution_count": 13,
   "id": "5891f3b2",
   "metadata": {
    "ExecuteTime": {
     "end_time": "2022-01-09T08:54:11.269823Z",
     "start_time": "2022-01-09T08:54:11.264719Z"
    }
   },
   "outputs": [],
   "source": [
    "seq_len = 72\n",
    "target_len = 24\n",
    "embedding_size = 5  # 突出历史负荷重要性\n",
    "mse_thresh = 1.5\n",
    "\n",
    "\n",
    "def model_config():\n",
    "    batch_sizes = [256]\n",
    "    lrs = [0.01]\n",
    "    number_epochs = [30]\n",
    "    hidden_dims = [64, 128, 256]\n",
    "    n_layers = [2, 3]\n",
    "    drop_prob = [0]\n",
    "    weight_decays = [0]\n",
    "    configs = list()\n",
    "    for i in batch_sizes:\n",
    "        for j in lrs:\n",
    "            for k in number_epochs:\n",
    "                for l in hidden_dims:\n",
    "                    for m in n_layers:\n",
    "                        for n in drop_prob:\n",
    "                            for o in weight_decays:\n",
    "                                configs.append({\n",
    "                                    'batch_size': i,\n",
    "                                    'lr': j,\n",
    "                                    'number_epoch': k,\n",
    "                                    'hidden_dim': l,\n",
    "                                    'n_layers': m,\n",
    "                                    'drop_prob': n,\n",
    "                                    'weight_decay': o,\n",
    "                                })\n",
    "    return configs"
   ]
  },
  {
   "cell_type": "markdown",
   "id": "29df6927",
   "metadata": {},
   "source": [
    "## random search for HPO"
   ]
  },
  {
   "cell_type": "code",
   "execution_count": 14,
   "id": "34117c1a",
   "metadata": {
    "ExecuteTime": {
     "end_time": "2022-01-09T08:54:11.277495Z",
     "start_time": "2022-01-09T08:54:11.271291Z"
    }
   },
   "outputs": [],
   "source": [
    "def run_model_hpo(seq_len=seq_len,\n",
    "                  target_len=target_len,\n",
    "                  mse_thresh=mse_thresh):\n",
    "    train_data = data[:int(0.8 * len(data))]\n",
    "    train_data, _, _ = normalization(train_data)\n",
    "    train_x, train_y = series_to_supervise(train_data, seq_len, target_len)\n",
    "    train_x_list, train_y_list, valid_x_list, valid_y_list = time_series_split(\n",
    "        train_x, train_y)\n",
    "    #     with enough data\n",
    "    train_x_list = train_x_list[-1:]\n",
    "    train_y_list = train_y_list[-1:]\n",
    "    valid_x_list = valid_x_list[-1:]\n",
    "    valid_y_list = valid_y_list[-1:]\n",
    "\n",
    "    configs = model_config()\n",
    "    records = []\n",
    "    input_size = train_x.shape[2] - 1  # 输入方式改变了\n",
    "    for i in range(6):\n",
    "        config = random.choice(configs)\n",
    "        configs.remove(config)\n",
    "        batch_size = config['batch_size']\n",
    "        lr = config['lr']\n",
    "        number_epoch = config['number_epoch']\n",
    "        hidden_dim = config['hidden_dim']\n",
    "        n_layers = config['n_layers']\n",
    "        drop_prob = config['drop_prob']\n",
    "        weight_decay = config['weight_decay']\n",
    "        print(\n",
    "            \"model config: batch_size-{}, lr-{}, number_epoch-{}, hidden_dim-{}, n_layers-{},drop_prob-{},weight_decay-{}\"\n",
    "            .format(batch_size, lr, number_epoch, hidden_dim, n_layers,\n",
    "                    drop_prob, weight_decay))\n",
    "        valid_loss = train_model_hpo(train_x_list, train_y_list, valid_x_list,\n",
    "                                     valid_y_list, input_size, embedding_size,\n",
    "                                     mse_thresh, batch_size, lr, number_epoch,\n",
    "                                     hidden_dim, n_layers, drop_prob,\n",
    "                                     weight_decay)\n",
    "        records.append({\n",
    "            'batch_size': batch_size,\n",
    "            'lr': lr,\n",
    "            'number_epoch': number_epoch,\n",
    "            'hidden_dim': hidden_dim,\n",
    "            'n_layers': n_layers,\n",
    "            'drop_prob': drop_prob,\n",
    "            'weight_decay': weight_decay,\n",
    "            'valid_loss': valid_loss\n",
    "        })\n",
    "    return records"
   ]
  },
  {
   "cell_type": "markdown",
   "id": "a20d5656",
   "metadata": {},
   "source": [
    "## run random search"
   ]
  },
  {
   "cell_type": "code",
   "execution_count": 20,
   "id": "127efbf4",
   "metadata": {
    "ExecuteTime": {
     "end_time": "2022-01-07T07:01:31.326350Z",
     "start_time": "2022-01-07T06:29:12.863071Z"
    }
   },
   "outputs": [
    {
     "name": "stdout",
     "output_type": "stream",
     "text": [
      "supervised data: shape of x: (25232, 72, 16), shape of y: (25232, 24, 16)\n",
      "model config: batch_size-256, lr-0.01, number_epoch-30, hidden_dim-256, n_layers-2,drop_prob-0,weight_decay-0\n",
      "cross-validation dataset 0\n"
     ]
    },
    {
     "name": "stderr",
     "output_type": "stream",
     "text": [
      "Epoch: 1/30: 100%|█████████████████| 83/83 [00:10<00:00,  8.10it/s, train_loss=1.18, valid_loss=1.3]\n",
      "Epoch: 2/30: 100%|████████████████| 83/83 [00:10<00:00,  8.07it/s, train_loss=1.08, valid_loss=1.07]\n",
      "Epoch: 3/30: 100%|████████████████| 83/83 [00:10<00:00,  8.20it/s, train_loss=1.05, valid_loss=1.04]\n",
      "Epoch: 4/30: 100%|████████████████| 83/83 [00:09<00:00,  8.30it/s, train_loss=1.05, valid_loss=1.06]\n",
      "Epoch: 5/30: 100%|████████████████| 83/83 [00:10<00:00,  8.18it/s, train_loss=1.04, valid_loss=1.08]\n",
      "Epoch: 6/30: 100%|████████████████| 83/83 [00:10<00:00,  8.28it/s, train_loss=1.04, valid_loss=1.06]\n",
      "Epoch: 7/30: 100%|████████████████| 83/83 [00:10<00:00,  8.23it/s, train_loss=1.05, valid_loss=1.08]\n",
      "Epoch: 8/30: 100%|████████████████| 83/83 [00:10<00:00,  8.27it/s, train_loss=1.03, valid_loss=1.06]\n",
      "Epoch: 9/30: 100%|████████████████| 83/83 [00:10<00:00,  8.28it/s, train_loss=1.06, valid_loss=1.08]\n",
      "Epoch: 10/30: 100%|███████████████| 83/83 [00:09<00:00,  8.33it/s, train_loss=1.03, valid_loss=1.05]\n",
      "Epoch: 11/30: 100%|███████████████| 83/83 [00:09<00:00,  8.92it/s, train_loss=1.01, valid_loss=1.11]\n",
      "Epoch: 12/30: 100%|█████████████████| 83/83 [00:08<00:00,  9.40it/s, train_loss=0.994, valid_loss=1]\n",
      "Epoch: 13/30: 100%|███████████████| 83/83 [00:08<00:00,  9.41it/s, train_loss=1.05, valid_loss=1.04]\n",
      "Epoch: 14/30: 100%|██████████████████| 83/83 [00:08<00:00,  9.49it/s, train_loss=0.99, valid_loss=1]\n",
      "Epoch: 15/30: 100%|███████████████| 83/83 [00:08<00:00,  9.49it/s, train_loss=1.01, valid_loss=1.02]\n",
      "Epoch: 16/30: 100%|██████████████| 83/83 [00:08<00:00,  9.49it/s, train_loss=0.996, valid_loss=1.02]\n",
      "Epoch: 17/30: 100%|███████████████| 83/83 [00:08<00:00,  9.53it/s, train_loss=1.03, valid_loss=1.03]\n",
      "Epoch: 18/30: 100%|█████████████████| 83/83 [00:08<00:00,  9.45it/s, train_loss=0.991, valid_loss=1]\n",
      "Epoch: 19/30: 100%|███████████████| 83/83 [00:08<00:00,  9.23it/s, train_loss=1.01, valid_loss=1.03]\n",
      "Epoch: 20/30: 100%|███████████████| 83/83 [00:14<00:00,  5.75it/s, train_loss=1.18, valid_loss=1.19]\n",
      "Epoch: 21/30: 100%|███████████████| 83/83 [00:13<00:00,  6.30it/s, train_loss=1.02, valid_loss=1.03]\n",
      "Epoch: 22/30: 100%|███████████████| 83/83 [00:13<00:00,  6.00it/s, train_loss=1.02, valid_loss=1.05]\n",
      "Epoch: 23/30: 100%|█████████████████| 83/83 [00:13<00:00,  5.98it/s, train_loss=0.986, valid_loss=1]\n",
      "Epoch: 24/30: 100%|██████████████| 83/83 [00:13<00:00,  6.16it/s, train_loss=0.986, valid_loss=1.01]\n",
      "Epoch: 25/30: 100%|█████████████| 83/83 [00:12<00:00,  6.82it/s, train_loss=0.986, valid_loss=0.997]\n",
      "Epoch: 26/30: 100%|██████████████| 83/83 [00:09<00:00,  9.13it/s, train_loss=0.978, valid_loss=1.02]\n",
      "Epoch: 27/30: 100%|██████████████████| 83/83 [00:09<00:00,  9.08it/s, train_loss=0.98, valid_loss=1]\n",
      "Epoch: 28/30: 100%|██████████████| 83/83 [00:09<00:00,  9.07it/s, train_loss=0.974, valid_loss=1.03]\n",
      "Epoch: 29/30: 100%|██████████████████| 83/83 [00:09<00:00,  8.96it/s, train_loss=0.97, valid_loss=1]\n",
      "Epoch: 30/30: 100%|██████████████| 83/83 [00:08<00:00,  9.24it/s, train_loss=0.969, valid_loss=1.01]\n"
     ]
    },
    {
     "name": "stdout",
     "output_type": "stream",
     "text": [
      "model config: batch_size-256, lr-0.01, number_epoch-30, hidden_dim-256, n_layers-3,drop_prob-0,weight_decay-0\n",
      "cross-validation dataset 0\n"
     ]
    },
    {
     "name": "stderr",
     "output_type": "stream",
     "text": [
      "Epoch: 1/30: 100%|████████████████| 83/83 [00:09<00:00,  8.67it/s, train_loss=1.33, valid_loss=1.35]\n",
      "Epoch: 2/30: 100%|████████████████| 83/83 [00:09<00:00,  8.76it/s, train_loss=1.32, valid_loss=1.35]\n",
      "Epoch: 3/30: 100%|████████████████| 83/83 [00:09<00:00,  8.70it/s, train_loss=1.32, valid_loss=1.34]\n",
      "Epoch: 4/30: 100%|████████████████| 83/83 [00:09<00:00,  8.75it/s, train_loss=1.32, valid_loss=1.34]\n",
      "Epoch: 5/30: 100%|████████████████| 83/83 [00:09<00:00,  8.67it/s, train_loss=1.32, valid_loss=1.34]\n",
      "Epoch: 6/30: 100%|████████████████| 83/83 [00:09<00:00,  8.55it/s, train_loss=1.34, valid_loss=1.34]\n",
      "Epoch: 7/30: 100%|████████████████| 83/83 [00:09<00:00,  8.70it/s, train_loss=1.32, valid_loss=1.34]\n",
      "Epoch: 8/30: 100%|████████████████| 83/83 [00:09<00:00,  8.68it/s, train_loss=1.32, valid_loss=1.34]\n",
      "Epoch: 9/30: 100%|████████████████| 83/83 [00:09<00:00,  8.64it/s, train_loss=1.33, valid_loss=1.35]\n",
      "Epoch: 10/30: 100%|███████████████| 83/83 [00:09<00:00,  8.64it/s, train_loss=1.32, valid_loss=1.33]\n",
      "Epoch: 11/30: 100%|███████████████| 83/83 [00:09<00:00,  8.76it/s, train_loss=1.32, valid_loss=1.34]\n",
      "Epoch: 12/30: 100%|███████████████| 83/83 [00:09<00:00,  8.68it/s, train_loss=1.33, valid_loss=1.34]\n",
      "Epoch: 13/30: 100%|███████████████| 83/83 [00:09<00:00,  8.69it/s, train_loss=1.31, valid_loss=1.33]\n",
      "Epoch: 14/30: 100%|███████████████| 83/83 [00:09<00:00,  8.61it/s, train_loss=1.31, valid_loss=1.34]\n",
      "Epoch: 15/30: 100%|███████████████| 83/83 [00:09<00:00,  8.83it/s, train_loss=1.34, valid_loss=1.33]\n",
      "Epoch: 16/30: 100%|███████████████| 83/83 [00:09<00:00,  8.77it/s, train_loss=1.31, valid_loss=1.34]\n",
      "Epoch: 17/30: 100%|███████████████| 83/83 [00:09<00:00,  8.69it/s, train_loss=1.31, valid_loss=1.33]\n",
      "Epoch: 18/30: 100%|███████████████| 83/83 [00:09<00:00,  8.66it/s, train_loss=1.31, valid_loss=1.34]\n",
      "Epoch: 19/30: 100%|███████████████| 83/83 [00:09<00:00,  8.81it/s, train_loss=1.32, valid_loss=1.33]\n",
      "Epoch: 20/30: 100%|███████████████| 83/83 [00:09<00:00,  8.77it/s, train_loss=1.32, valid_loss=1.33]\n",
      "Epoch: 21/30: 100%|███████████████| 83/83 [00:09<00:00,  8.79it/s, train_loss=1.31, valid_loss=1.34]\n",
      "Epoch: 22/30: 100%|███████████████| 83/83 [00:09<00:00,  8.83it/s, train_loss=1.31, valid_loss=1.34]\n",
      "Epoch: 23/30: 100%|███████████████| 83/83 [00:09<00:00,  8.78it/s, train_loss=1.31, valid_loss=1.34]\n",
      "Epoch: 24/30: 100%|███████████████| 83/83 [00:09<00:00,  8.79it/s, train_loss=1.32, valid_loss=1.33]\n",
      "Epoch: 25/30: 100%|███████████████| 83/83 [00:09<00:00,  8.78it/s, train_loss=1.31, valid_loss=1.33]\n",
      "Epoch: 26/30: 100%|███████████████| 83/83 [00:09<00:00,  8.78it/s, train_loss=1.32, valid_loss=1.34]\n",
      "Epoch: 27/30: 100%|███████████████| 83/83 [00:09<00:00,  8.76it/s, train_loss=1.32, valid_loss=1.33]\n",
      "Epoch: 28/30: 100%|███████████████| 83/83 [00:09<00:00,  8.61it/s, train_loss=1.32, valid_loss=1.33]\n",
      "Epoch: 29/30: 100%|████████████████| 83/83 [00:09<00:00,  8.76it/s, train_loss=1.3, valid_loss=1.33]\n",
      "Epoch: 30/30: 100%|███████████████| 83/83 [00:09<00:00,  8.63it/s, train_loss=1.32, valid_loss=1.33]\n"
     ]
    },
    {
     "name": "stdout",
     "output_type": "stream",
     "text": [
      "model config: batch_size-256, lr-0.01, number_epoch-30, hidden_dim-64, n_layers-3,drop_prob-0,weight_decay-0\n",
      "cross-validation dataset 0\n"
     ]
    },
    {
     "name": "stderr",
     "output_type": "stream",
     "text": [
      "Epoch: 1/30: 100%|████████████████| 83/83 [00:08<00:00,  9.23it/s, train_loss=1.15, valid_loss=1.17]\n",
      "Epoch: 2/30: 100%|████████████████| 83/83 [00:08<00:00,  9.38it/s, train_loss=1.14, valid_loss=1.13]\n",
      "Epoch: 3/30: 100%|████████████████| 83/83 [00:08<00:00,  9.30it/s, train_loss=1.15, valid_loss=1.22]\n",
      "Epoch: 4/30: 100%|█████████████████| 83/83 [00:09<00:00,  9.18it/s, train_loss=1.09, valid_loss=1.1]\n",
      "Epoch: 5/30: 100%|████████████████| 83/83 [00:08<00:00,  9.32it/s, train_loss=1.05, valid_loss=1.06]\n",
      "Epoch: 6/30: 100%|████████████████| 83/83 [00:09<00:00,  9.21it/s, train_loss=1.05, valid_loss=1.06]\n",
      "Epoch: 7/30: 100%|████████████████| 83/83 [00:10<00:00,  7.96it/s, train_loss=1.03, valid_loss=1.05]\n",
      "Epoch: 8/30: 100%|████████████████| 83/83 [00:14<00:00,  5.88it/s, train_loss=1.15, valid_loss=1.17]\n",
      "Epoch: 9/30: 100%|████████████████| 83/83 [00:11<00:00,  7.11it/s, train_loss=1.02, valid_loss=1.05]\n",
      "Epoch: 10/30: 100%|███████████████| 83/83 [00:14<00:00,  5.79it/s, train_loss=1.01, valid_loss=1.02]\n",
      "Epoch: 11/30: 100%|██████████████████| 83/83 [00:12<00:00,  6.72it/s, train_loss=1, valid_loss=1.01]\n",
      "Epoch: 12/30: 100%|███████████████| 83/83 [00:14<00:00,  5.93it/s, train_loss=1.01, valid_loss=1.01]\n",
      "Epoch: 13/30: 100%|█████████████████| 83/83 [00:12<00:00,  6.54it/s, train_loss=0.997, valid_loss=1]\n",
      "Epoch: 14/30: 100%|██████████████████| 83/83 [00:11<00:00,  6.98it/s, train_loss=1, valid_loss=1.01]\n",
      "Epoch: 15/30: 100%|███████████████| 83/83 [00:09<00:00,  9.08it/s, train_loss=1.02, valid_loss=1.03]\n",
      "Epoch: 16/30: 100%|██████████████| 83/83 [00:08<00:00,  9.25it/s, train_loss=0.999, valid_loss=1.01]\n",
      "Epoch: 17/30: 100%|████████████████| 83/83 [00:09<00:00,  9.06it/s, train_loss=1.15, valid_loss=1.1]\n",
      "Epoch: 18/30: 100%|██████████████| 83/83 [00:09<00:00,  9.12it/s, train_loss=0.998, valid_loss=1.01]\n",
      "Epoch: 19/30: 100%|██████████████| 83/83 [00:09<00:00,  9.16it/s, train_loss=0.993, valid_loss=1.01]\n",
      "Epoch: 20/30: 100%|██████████████████| 83/83 [00:09<00:00,  9.11it/s, train_loss=1, valid_loss=1.01]\n",
      "Epoch: 21/30: 100%|███████████████| 83/83 [00:08<00:00,  9.23it/s, train_loss=0.99, valid_loss=1.02]\n",
      "Epoch: 22/30: 100%|█████████████| 83/83 [00:09<00:00,  9.08it/s, train_loss=0.978, valid_loss=0.996]\n",
      "Epoch: 23/30: 100%|█████████████████| 83/83 [00:09<00:00,  9.18it/s, train_loss=0.985, valid_loss=1]\n",
      "Epoch: 24/30: 100%|█████████████| 83/83 [00:09<00:00,  9.09it/s, train_loss=0.984, valid_loss=0.993]\n",
      "Epoch: 25/30: 100%|█████████████| 83/83 [00:08<00:00,  9.22it/s, train_loss=0.976, valid_loss=0.993]\n",
      "Epoch: 26/30: 100%|█████████████| 83/83 [00:08<00:00,  9.22it/s, train_loss=0.975, valid_loss=0.992]\n",
      "Epoch: 27/30: 100%|█████████████| 83/83 [00:09<00:00,  9.15it/s, train_loss=0.973, valid_loss=0.991]\n",
      "Epoch: 28/30: 100%|██████████████| 83/83 [00:09<00:00,  9.18it/s, train_loss=0.978, valid_loss=1.02]\n",
      "Epoch: 29/30: 100%|██████████████| 83/83 [00:09<00:00,  9.21it/s, train_loss=0.98, valid_loss=0.996]\n",
      "Epoch: 30/30: 100%|█████████████████| 83/83 [00:09<00:00,  9.22it/s, train_loss=0.977, valid_loss=1]\n"
     ]
    },
    {
     "name": "stdout",
     "output_type": "stream",
     "text": [
      "model config: batch_size-256, lr-0.01, number_epoch-30, hidden_dim-128, n_layers-3,drop_prob-0,weight_decay-0\n",
      "cross-validation dataset 0\n"
     ]
    },
    {
     "name": "stderr",
     "output_type": "stream",
     "text": [
      "Epoch: 1/30: 100%|████████████████| 83/83 [00:09<00:00,  8.61it/s, train_loss=1.15, valid_loss=1.23]\n",
      "Epoch: 2/30: 100%|█████████████████| 83/83 [00:09<00:00,  8.62it/s, train_loss=1.09, valid_loss=1.1]\n",
      "Epoch: 3/30: 100%|████████████████| 83/83 [00:09<00:00,  8.58it/s, train_loss=1.17, valid_loss=1.18]\n",
      "Epoch: 4/30: 100%|████████████████| 83/83 [00:09<00:00,  8.67it/s, train_loss=1.07, valid_loss=1.08]\n",
      "Epoch: 5/30: 100%|████████████████| 83/83 [00:09<00:00,  8.58it/s, train_loss=1.07, valid_loss=1.33]\n",
      "Epoch: 6/30: 100%|████████████████| 83/83 [00:09<00:00,  8.68it/s, train_loss=1.01, valid_loss=1.03]\n",
      "Epoch: 7/30: 100%|█████████████████| 83/83 [00:09<00:00,  8.60it/s, train_loss=1.1, valid_loss=1.14]\n",
      "Epoch: 8/30: 100%|████████████████| 83/83 [00:09<00:00,  8.72it/s, train_loss=1.02, valid_loss=1.08]\n",
      "Epoch: 9/30: 100%|████████████████| 83/83 [00:09<00:00,  8.68it/s, train_loss=1.03, valid_loss=1.04]\n",
      "Epoch: 10/30: 100%|███████████████| 83/83 [00:09<00:00,  8.54it/s, train_loss=1.01, valid_loss=1.01]\n",
      "Epoch: 11/30: 100%|██████████████| 83/83 [00:09<00:00,  8.71it/s, train_loss=0.999, valid_loss=1.01]\n",
      "Epoch: 12/30: 100%|██████████████| 83/83 [00:09<00:00,  8.62it/s, train_loss=0.995, valid_loss=1.02]\n",
      "Epoch: 13/30: 100%|█████████████████| 83/83 [00:09<00:00,  8.65it/s, train_loss=0.988, valid_loss=1]\n",
      "Epoch: 14/30: 100%|██████████████| 83/83 [00:09<00:00,  8.67it/s, train_loss=0.985, valid_loss=1.01]\n",
      "Epoch: 15/30: 100%|██████████████| 83/83 [00:09<00:00,  8.61it/s, train_loss=0.988, valid_loss=1.01]\n",
      "Epoch: 16/30: 100%|██████████████| 83/83 [00:09<00:00,  8.64it/s, train_loss=0.987, valid_loss=1.01]\n",
      "Epoch: 17/30: 100%|██████████████| 83/83 [00:09<00:00,  8.71it/s, train_loss=0.989, valid_loss=1.01]\n",
      "Epoch: 18/30: 100%|██████████████| 83/83 [00:12<00:00,  6.68it/s, train_loss=0.978, valid_loss=1.02]\n",
      "Epoch: 19/30: 100%|██████████████| 83/83 [00:15<00:00,  5.51it/s, train_loss=0.983, valid_loss=1.01]\n",
      "Epoch: 20/30: 100%|█████████████| 83/83 [00:14<00:00,  5.83it/s, train_loss=0.976, valid_loss=0.997]\n",
      "Epoch: 21/30: 100%|██████████████| 83/83 [00:14<00:00,  5.63it/s, train_loss=0.975, valid_loss=1.01]\n",
      "Epoch: 22/30: 100%|██████████████| 83/83 [00:13<00:00,  6.03it/s, train_loss=0.996, valid_loss=1.02]\n",
      "Epoch: 23/30: 100%|██████████████| 83/83 [00:14<00:00,  5.57it/s, train_loss=0.978, valid_loss=1.04]\n",
      "Epoch: 24/30: 100%|██████████████| 83/83 [00:14<00:00,  5.69it/s, train_loss=0.965, valid_loss=1.01]\n",
      "Epoch: 25/30: 100%|███████████████| 83/83 [00:14<00:00,  5.59it/s, train_loss=0.97, valid_loss=1.02]\n",
      "Epoch: 26/30: 100%|██████████████| 83/83 [00:14<00:00,  5.58it/s, train_loss=0.971, valid_loss=1.01]\n",
      "Epoch: 27/30: 100%|██████████████| 83/83 [00:14<00:00,  5.73it/s, train_loss=0.963, valid_loss=1.02]\n",
      "Epoch: 28/30: 100%|██████████████| 83/83 [00:14<00:00,  5.66it/s, train_loss=0.966, valid_loss=1.02]\n",
      "Epoch: 29/30: 100%|███████████████| 83/83 [00:14<00:00,  5.82it/s, train_loss=1.05, valid_loss=1.06]\n",
      "Epoch: 30/30: 100%|██████████████| 83/83 [00:15<00:00,  5.49it/s, train_loss=0.985, valid_loss=1.01]\n"
     ]
    },
    {
     "name": "stdout",
     "output_type": "stream",
     "text": [
      "model config: batch_size-256, lr-0.01, number_epoch-30, hidden_dim-64, n_layers-2,drop_prob-0,weight_decay-0\n",
      "cross-validation dataset 0\n"
     ]
    },
    {
     "name": "stderr",
     "output_type": "stream",
     "text": [
      "Epoch: 1/30: 100%|████████████████| 83/83 [00:12<00:00,  6.83it/s, train_loss=1.11, valid_loss=1.15]\n",
      "Epoch: 2/30: 100%|████████████████| 83/83 [00:13<00:00,  6.12it/s, train_loss=1.09, valid_loss=1.11]\n",
      "Epoch: 3/30: 100%|████████████████| 83/83 [00:12<00:00,  6.67it/s, train_loss=1.06, valid_loss=1.06]\n",
      "Epoch: 4/30: 100%|█████████████████| 83/83 [00:12<00:00,  6.46it/s, train_loss=1.1, valid_loss=1.09]\n",
      "Epoch: 5/30: 100%|████████████████| 83/83 [00:12<00:00,  6.50it/s, train_loss=1.04, valid_loss=1.03]\n",
      "Epoch: 6/30: 100%|████████████████| 83/83 [00:12<00:00,  6.46it/s, train_loss=1.32, valid_loss=1.22]\n",
      "Epoch: 7/30: 100%|████████████████| 83/83 [00:13<00:00,  6.33it/s, train_loss=1.05, valid_loss=1.06]\n",
      "Epoch: 8/30: 100%|████████████████| 83/83 [00:12<00:00,  6.63it/s, train_loss=1.03, valid_loss=1.04]\n",
      "Epoch: 9/30: 100%|████████████████| 83/83 [00:13<00:00,  6.20it/s, train_loss=1.11, valid_loss=1.09]\n",
      "Epoch: 10/30: 100%|███████████████| 83/83 [00:12<00:00,  6.81it/s, train_loss=1.01, valid_loss=1.02]\n",
      "Epoch: 11/30: 100%|██████████████████| 83/83 [00:13<00:00,  6.11it/s, train_loss=1, valid_loss=1.01]\n",
      "Epoch: 12/30: 100%|███████████████| 83/83 [00:12<00:00,  6.72it/s, train_loss=1.02, valid_loss=1.03]\n",
      "Epoch: 13/30: 100%|███████████████| 83/83 [00:13<00:00,  5.98it/s, train_loss=1.01, valid_loss=1.03]\n",
      "Epoch: 14/30: 100%|███████████████| 83/83 [00:11<00:00,  6.94it/s, train_loss=1.02, valid_loss=1.03]\n",
      "Epoch: 15/30: 100%|███████████████| 83/83 [00:14<00:00,  5.88it/s, train_loss=1.05, valid_loss=1.06]\n",
      "Epoch: 16/30: 100%|███████████████| 83/83 [00:12<00:00,  6.90it/s, train_loss=0.99, valid_loss=1.01]\n",
      "Epoch: 17/30: 100%|███████████████| 83/83 [00:13<00:00,  5.95it/s, train_loss=1.01, valid_loss=1.02]\n",
      "Epoch: 18/30: 100%|██████████████| 83/83 [00:11<00:00,  7.01it/s, train_loss=0.991, valid_loss=1.01]\n",
      "Epoch: 19/30: 100%|███████████████| 83/83 [00:13<00:00,  6.14it/s, train_loss=1.03, valid_loss=1.08]\n",
      "Epoch: 20/30: 100%|██████████████| 83/83 [00:11<00:00,  6.94it/s, train_loss=0.992, valid_loss=1.02]\n",
      "Epoch: 21/30: 100%|█████████████████| 83/83 [00:14<00:00,  5.89it/s, train_loss=0.984, valid_loss=1]\n",
      "Epoch: 22/30: 100%|███████████████| 83/83 [00:11<00:00,  6.92it/s, train_loss=1.02, valid_loss=1.06]\n",
      "Epoch: 23/30: 100%|██████████████| 83/83 [00:13<00:00,  5.96it/s, train_loss=0.992, valid_loss=1.01]\n",
      "Epoch: 24/30: 100%|██████████████| 83/83 [00:12<00:00,  6.73it/s, train_loss=0.98, valid_loss=0.999]\n",
      "Epoch: 25/30: 100%|█████████████████| 83/83 [00:14<00:00,  5.91it/s, train_loss=0.984, valid_loss=1]\n",
      "Epoch: 26/30: 100%|██████████████| 83/83 [00:12<00:00,  6.83it/s, train_loss=0.988, valid_loss=1.02]\n",
      "Epoch: 27/30: 100%|█████████████| 83/83 [00:13<00:00,  5.94it/s, train_loss=0.983, valid_loss=0.994]\n",
      "Epoch: 28/30: 100%|██████████████| 83/83 [00:12<00:00,  6.73it/s, train_loss=0.979, valid_loss=1.02]\n",
      "Epoch: 29/30: 100%|██████████████| 83/83 [00:13<00:00,  6.32it/s, train_loss=0.976, valid_loss=0.99]\n",
      "Epoch: 30/30: 100%|█████████████| 83/83 [00:12<00:00,  6.58it/s, train_loss=0.985, valid_loss=0.996]\n"
     ]
    },
    {
     "name": "stdout",
     "output_type": "stream",
     "text": [
      "model config: batch_size-256, lr-0.01, number_epoch-30, hidden_dim-128, n_layers-2,drop_prob-0,weight_decay-0\n",
      "cross-validation dataset 0\n"
     ]
    },
    {
     "name": "stderr",
     "output_type": "stream",
     "text": [
      "Epoch: 1/30: 100%|████████████████| 83/83 [00:14<00:00,  5.86it/s, train_loss=1.18, valid_loss=1.31]\n",
      "Epoch: 2/30: 100%|████████████████| 83/83 [00:13<00:00,  6.14it/s, train_loss=1.18, valid_loss=1.17]\n",
      "Epoch: 3/30: 100%|████████████████| 83/83 [00:14<00:00,  5.79it/s, train_loss=1.06, valid_loss=1.09]\n",
      "Epoch: 4/30: 100%|████████████████| 83/83 [00:13<00:00,  6.18it/s, train_loss=1.04, valid_loss=1.05]\n",
      "Epoch: 5/30: 100%|████████████████| 83/83 [00:14<00:00,  5.74it/s, train_loss=1.09, valid_loss=1.11]\n",
      "Epoch: 6/30: 100%|█████████████████| 83/83 [00:13<00:00,  6.16it/s, train_loss=1.09, valid_loss=1.1]\n",
      "Epoch: 7/30: 100%|████████████████| 83/83 [00:09<00:00,  8.86it/s, train_loss=1.03, valid_loss=1.03]\n",
      "Epoch: 8/30: 100%|████████████████| 83/83 [00:09<00:00,  9.03it/s, train_loss=1.01, valid_loss=1.04]\n",
      "Epoch: 9/30: 100%|████████████████| 83/83 [00:09<00:00,  9.03it/s, train_loss=1.01, valid_loss=1.01]\n",
      "Epoch: 10/30: 100%|███████████████| 83/83 [00:09<00:00,  8.95it/s, train_loss=1.01, valid_loss=1.01]\n",
      "Epoch: 11/30: 100%|███████████████| 83/83 [00:09<00:00,  8.88it/s, train_loss=1.02, valid_loss=1.02]\n",
      "Epoch: 12/30: 100%|█████████████████| 83/83 [00:09<00:00,  9.07it/s, train_loss=1.1, valid_loss=1.1]\n",
      "Epoch: 13/30: 100%|███████████████| 83/83 [00:09<00:00,  9.06it/s, train_loss=1.07, valid_loss=1.03]\n",
      "Epoch: 14/30: 100%|███████████████| 83/83 [00:09<00:00,  8.96it/s, train_loss=1.02, valid_loss=1.02]\n",
      "Epoch: 15/30: 100%|███████████████| 83/83 [00:09<00:00,  9.01it/s, train_loss=1.01, valid_loss=1.02]\n",
      "Epoch: 16/30: 100%|███████████████| 83/83 [00:09<00:00,  8.92it/s, train_loss=1.03, valid_loss=1.05]\n",
      "Epoch: 17/30: 100%|███████████████| 83/83 [00:09<00:00,  8.99it/s, train_loss=1.12, valid_loss=1.14]\n",
      "Epoch: 18/30: 100%|█████████████████| 83/83 [00:09<00:00,  8.93it/s, train_loss=0.988, valid_loss=1]\n",
      "Epoch: 19/30: 100%|█████████████████████| 83/83 [00:09<00:00,  9.03it/s, train_loss=1, valid_loss=1]\n",
      "Epoch: 20/30: 100%|██████████████| 83/83 [00:09<00:00,  9.02it/s, train_loss=0.993, valid_loss=1.01]\n",
      "Epoch: 21/30: 100%|██████████████| 83/83 [00:09<00:00,  8.99it/s, train_loss=0.996, valid_loss=1.01]\n",
      "Epoch: 22/30: 100%|███████████████| 83/83 [00:09<00:00,  8.87it/s, train_loss=1.02, valid_loss=1.06]\n",
      "Epoch: 23/30: 100%|██████████████████| 83/83 [00:09<00:00,  9.00it/s, train_loss=1, valid_loss=1.01]\n",
      "Epoch: 24/30: 100%|██████████████| 83/83 [00:09<00:00,  8.93it/s, train_loss=0.985, valid_loss=1.01]\n",
      "Epoch: 25/30: 100%|█████████████| 83/83 [00:09<00:00,  9.03it/s, train_loss=0.976, valid_loss=0.995]\n",
      "Epoch: 26/30: 100%|█████████████████| 83/83 [00:09<00:00,  8.95it/s, train_loss=0.977, valid_loss=1]\n",
      "Epoch: 27/30: 100%|█████████████████████| 83/83 [00:09<00:00,  8.96it/s, train_loss=1, valid_loss=1]\n",
      "Epoch: 28/30: 100%|█████████████████| 83/83 [00:09<00:00,  9.11it/s, train_loss=0.981, valid_loss=1]\n",
      "Epoch: 29/30: 100%|█████████████| 83/83 [00:09<00:00,  9.00it/s, train_loss=0.982, valid_loss=0.996]\n",
      "Epoch: 30/30: 100%|██████████████| 83/83 [00:09<00:00,  9.06it/s, train_loss=0.97, valid_loss=0.993]\n"
     ]
    }
   ],
   "source": [
    "random_seed_set(16)\n",
    "records = run_model_hpo()"
   ]
  },
  {
   "cell_type": "markdown",
   "id": "12970fa1",
   "metadata": {
    "ExecuteTime": {
     "end_time": "2021-12-22T08:52:06.844501Z",
     "start_time": "2021-12-22T08:52:06.830928Z"
    }
   },
   "source": [
    "## find the best hyper-parameters"
   ]
  },
  {
   "cell_type": "code",
   "execution_count": 21,
   "id": "c7c6d0c6",
   "metadata": {
    "ExecuteTime": {
     "end_time": "2022-01-07T07:14:35.355136Z",
     "start_time": "2022-01-07T07:14:35.340851Z"
    }
   },
   "outputs": [
    {
     "data": {
      "text/html": [
       "<div>\n",
       "<style scoped>\n",
       "    .dataframe tbody tr th:only-of-type {\n",
       "        vertical-align: middle;\n",
       "    }\n",
       "\n",
       "    .dataframe tbody tr th {\n",
       "        vertical-align: top;\n",
       "    }\n",
       "\n",
       "    .dataframe thead th {\n",
       "        text-align: right;\n",
       "    }\n",
       "</style>\n",
       "<table border=\"1\" class=\"dataframe\">\n",
       "  <thead>\n",
       "    <tr style=\"text-align: right;\">\n",
       "      <th></th>\n",
       "      <th>batch_size</th>\n",
       "      <th>lr</th>\n",
       "      <th>number_epoch</th>\n",
       "      <th>hidden_dim</th>\n",
       "      <th>n_layers</th>\n",
       "      <th>drop_prob</th>\n",
       "      <th>weight_decay</th>\n",
       "      <th>valid_loss</th>\n",
       "    </tr>\n",
       "  </thead>\n",
       "  <tbody>\n",
       "    <tr>\n",
       "      <th>4</th>\n",
       "      <td>256</td>\n",
       "      <td>0.01</td>\n",
       "      <td>30</td>\n",
       "      <td>64</td>\n",
       "      <td>2</td>\n",
       "      <td>0</td>\n",
       "      <td>0</td>\n",
       "      <td>0.989962</td>\n",
       "    </tr>\n",
       "    <tr>\n",
       "      <th>2</th>\n",
       "      <td>256</td>\n",
       "      <td>0.01</td>\n",
       "      <td>30</td>\n",
       "      <td>64</td>\n",
       "      <td>3</td>\n",
       "      <td>0</td>\n",
       "      <td>0</td>\n",
       "      <td>0.990612</td>\n",
       "    </tr>\n",
       "    <tr>\n",
       "      <th>5</th>\n",
       "      <td>256</td>\n",
       "      <td>0.01</td>\n",
       "      <td>30</td>\n",
       "      <td>128</td>\n",
       "      <td>2</td>\n",
       "      <td>0</td>\n",
       "      <td>0</td>\n",
       "      <td>0.991844</td>\n",
       "    </tr>\n",
       "    <tr>\n",
       "      <th>0</th>\n",
       "      <td>256</td>\n",
       "      <td>0.01</td>\n",
       "      <td>30</td>\n",
       "      <td>256</td>\n",
       "      <td>2</td>\n",
       "      <td>0</td>\n",
       "      <td>0</td>\n",
       "      <td>0.994218</td>\n",
       "    </tr>\n",
       "    <tr>\n",
       "      <th>3</th>\n",
       "      <td>256</td>\n",
       "      <td>0.01</td>\n",
       "      <td>30</td>\n",
       "      <td>128</td>\n",
       "      <td>3</td>\n",
       "      <td>0</td>\n",
       "      <td>0</td>\n",
       "      <td>0.995287</td>\n",
       "    </tr>\n",
       "    <tr>\n",
       "      <th>1</th>\n",
       "      <td>256</td>\n",
       "      <td>0.01</td>\n",
       "      <td>30</td>\n",
       "      <td>256</td>\n",
       "      <td>3</td>\n",
       "      <td>0</td>\n",
       "      <td>0</td>\n",
       "      <td>1.329731</td>\n",
       "    </tr>\n",
       "  </tbody>\n",
       "</table>\n",
       "</div>"
      ],
      "text/plain": [
       "   batch_size    lr  number_epoch  hidden_dim  n_layers  drop_prob  \\\n",
       "4         256  0.01            30          64         2          0   \n",
       "2         256  0.01            30          64         3          0   \n",
       "5         256  0.01            30         128         2          0   \n",
       "0         256  0.01            30         256         2          0   \n",
       "3         256  0.01            30         128         3          0   \n",
       "1         256  0.01            30         256         3          0   \n",
       "\n",
       "   weight_decay  valid_loss  \n",
       "4             0    0.989962  \n",
       "2             0    0.990612  \n",
       "5             0    0.991844  \n",
       "0             0    0.994218  \n",
       "3             0    0.995287  \n",
       "1             0    1.329731  "
      ]
     },
     "execution_count": 21,
     "metadata": {},
     "output_type": "execute_result"
    }
   ],
   "source": [
    "records = pd.DataFrame(records).sort_values(by='valid_loss')\n",
    "records.to_csv('./records/Deep_AR_records.csv',\n",
    "               mode='a',\n",
    "               index=False,\n",
    "               header=False)\n",
    "records"
   ]
  },
  {
   "cell_type": "markdown",
   "id": "c206c377",
   "metadata": {},
   "source": [
    "## retrain a model"
   ]
  },
  {
   "cell_type": "code",
   "execution_count": 15,
   "id": "c7dcd186",
   "metadata": {
    "ExecuteTime": {
     "end_time": "2022-01-09T08:54:16.514645Z",
     "start_time": "2022-01-09T08:54:16.487963Z"
    }
   },
   "outputs": [],
   "source": [
    "def train_model(train_x, train_y, valid_x, valid_y, input_size, embedding_size,\n",
    "                mse_thresh, batch_size, lr, number_epoch, hidden_dim, n_layers,\n",
    "                drop_prob, weight_decay):\n",
    "    while (1):\n",
    "        model = DeepAR(input_size, embedding_size, hidden_dim, n_layers,\n",
    "                       drop_prob)\n",
    "        model.to(device=device)\n",
    "        criterion = gaussian_log_likelihood_loss\n",
    "        optimizer = torch.optim.Adam(model.parameters(),\n",
    "                                     lr=lr,\n",
    "                                     weight_decay=weight_decay)\n",
    "        scheduler = torch.optim.lr_scheduler.StepLR(optimizer, 1, gamma=0.98)\n",
    "        valid_loss_min = np.Inf\n",
    "        train_dataset = TensorDataset(torch.FloatTensor(train_x),\n",
    "                                      torch.FloatTensor(train_y))\n",
    "        valid_dataset = TensorDataset(torch.FloatTensor(valid_x),\n",
    "                                      torch.FloatTensor(valid_y))\n",
    "        train_loader = DataLoader(dataset=train_dataset,\n",
    "                                  batch_size=batch_size,\n",
    "                                  shuffle=True,\n",
    "                                  drop_last=False)\n",
    "        valid_loader = DataLoader(dataset=valid_dataset,\n",
    "                                  batch_size=batch_size,\n",
    "                                  shuffle=True,\n",
    "                                  drop_last=False)\n",
    "        num_without_imp = 0\n",
    "        train_loss_list = []\n",
    "        valid_loss_list = []\n",
    "        # training process\n",
    "        for epoch in range(1, number_epoch + 1):\n",
    "            loop = tqdm(enumerate(train_loader),\n",
    "                        total=len(train_loader),\n",
    "                        leave=True,\n",
    "                        ncols=100)\n",
    "            for i, (inputs, labels) in loop:\n",
    "                inputs = inputs.to(device=device)\n",
    "                labels = labels.to(device=device)\n",
    "                optimizer.zero_grad()\n",
    "                _, mu, sigma = model(inputs[:, :, :-1], inputs[:, :, -1:],\n",
    "                                     labels[:, :, :-1])\n",
    "                y = torch.cat((inputs[:, 1:, -1], labels[:, :, -1]), dim=-1)\n",
    "                loss = criterion(y, mu, sigma)\n",
    "                loss.backward()\n",
    "                optimizer.step()\n",
    "                if i % 5 == 0:\n",
    "                    num_without_imp = num_without_imp + 1\n",
    "                    valid_losses = list()\n",
    "                    model.eval()\n",
    "                    for inp, lab in valid_loader:\n",
    "                        inp = inp.to(device)\n",
    "                        lab = lab.to(device)\n",
    "                        _, mu, sigma = model(inp[:, :, :-1], inp[:, :, -1:],\n",
    "                                             lab[:, :, :-1])\n",
    "                        y = torch.cat((inp[:, 1:, -1], lab[:, :, -1]), dim=1)\n",
    "                        valid_loss = criterion(y, mu, sigma)\n",
    "                        valid_losses.append(valid_loss.item())\n",
    "\n",
    "                    model.train()\n",
    "                    loop.set_description(\"Epoch: {}/{}\".format(\n",
    "                        epoch, number_epoch))\n",
    "                    loop.set_postfix(train_loss=loss.item(),\n",
    "                                     valid_loss=np.mean(valid_losses))\n",
    "\n",
    "                    train_loss_list.append(loss.item())\n",
    "                    valid_loss_list.append(np.mean(valid_losses))\n",
    "                    if np.mean(valid_losses) < valid_loss_min:\n",
    "                        num_without_imp = 0\n",
    "                        torch.save(model.state_dict(),\n",
    "                                   './model/GRU_AR_state_dict.pt')\n",
    "                        valid_loss_min = np.mean(valid_losses)\n",
    "            scheduler.step()\n",
    "        if valid_loss_min < mse_thresh:\n",
    "            break\n",
    "    return model, train_loss_list, valid_loss_list"
   ]
  },
  {
   "cell_type": "markdown",
   "id": "b77552fb",
   "metadata": {},
   "source": [
    "## test results"
   ]
  },
  {
   "cell_type": "code",
   "execution_count": 16,
   "id": "fcebcc0f",
   "metadata": {
    "ExecuteTime": {
     "end_time": "2022-01-09T08:54:16.527216Z",
     "start_time": "2022-01-09T08:54:16.516717Z"
    }
   },
   "outputs": [],
   "source": [
    "def test_model(model, test_x, test_y, target_len, scaler_y, batch_size):\n",
    "    test_dataset = TensorDataset(torch.FloatTensor(test_x),\n",
    "                                 torch.FloatTensor(test_y))\n",
    "    test_loader = DataLoader(dataset=test_dataset,\n",
    "                             batch_size=batch_size,\n",
    "                             shuffle=False,\n",
    "                             drop_last=True)\n",
    "    model.load_state_dict(torch.load('./model/GRU_AR_state_dict.pt'))\n",
    "    y_pred = []\n",
    "    y_true = []\n",
    "    with torch.no_grad():\n",
    "        model.eval()\n",
    "        for inputs, labels in test_loader:\n",
    "            inputs = inputs.to(device)\n",
    "            labels = labels.to(device)\n",
    "            outputs, _, _ = model(inputs[:, :, :-1], inputs[:, :, -1:],\n",
    "                                  labels[:, :, :-1])\n",
    "            # outputs.shape (batch_size, tar_len)\n",
    "            y_pred += outputs.cpu().numpy().flatten().tolist()\n",
    "            y_true += labels[:, :, -1].cpu().numpy().flatten().tolist()\n",
    "\n",
    "    y_pred = np.array(y_pred).reshape(-1, 1)\n",
    "    y_true = np.array(y_true).reshape(-1, 1)\n",
    "    #     pdb.set_trace()\n",
    "    load_pred = scaler_y.inverse_transform(y_pred)\n",
    "    load_true = scaler_y.inverse_transform(y_true)\n",
    "    mean_pred = np.mean(load_pred)\n",
    "    mean_true = np.mean(load_true)\n",
    "    MAPE = np.mean(np.abs(load_true - load_pred) / load_true)\n",
    "    SMAPE = 2 * np.mean(\n",
    "        np.abs(load_true - load_pred) / (load_true + load_pred))\n",
    "    MAE = np.mean(np.abs(load_true - load_pred))\n",
    "    RMSE = np.sqrt(np.mean(np.square(load_true - load_pred)))\n",
    "    RRSE = np.sqrt(np.sum(np.square(load_true - load_pred))) / np.sqrt(\n",
    "        np.sum(np.square(load_true - mean_true)))\n",
    "    CORR = np.mean(\n",
    "        np.sum((load_true - mean_true) * (load_pred - mean_pred)) /\n",
    "        np.sqrt(np.sum(\n",
    "            (load_true - mean_true)**2 * (load_pred - mean_pred)**2)))\n",
    "    return MAPE, SMAPE, MAE, RMSE, RRSE, CORR, load_pred, load_true"
   ]
  },
  {
   "cell_type": "markdown",
   "id": "fb86c804",
   "metadata": {},
   "source": [
    "## run model retraining"
   ]
  },
  {
   "cell_type": "code",
   "execution_count": 17,
   "id": "503e4d78",
   "metadata": {
    "ExecuteTime": {
     "end_time": "2022-01-09T08:54:16.536183Z",
     "start_time": "2022-01-09T08:54:16.529014Z"
    }
   },
   "outputs": [],
   "source": [
    "def run_model_retraining(seq_len=seq_len,\n",
    "                         target_len=target_len,\n",
    "                         mse_thresh=mse_thresh):\n",
    "    train_data = data[:int(0.8 * len(data))]\n",
    "    #     train_data = data[:-800]\n",
    "    train_data, scaler, scaler_y = normalization(train_data)\n",
    "    train_x, train_y = series_to_supervise(train_data, seq_len, target_len)\n",
    "\n",
    "    valid_x = train_x[int(0.8 * len(train_x)):]\n",
    "    valid_y = train_y[int(0.8 * len(train_y)):]\n",
    "    train_x = train_x[:int(0.8 * len(train_x))]\n",
    "    train_y = train_y[:int(0.8 * len(train_y))]\n",
    "    input_size = train_x.shape[2] - 1\n",
    "\n",
    "    #     hyper-parameters define\n",
    "    batch_size = 256\n",
    "    lr = 0.001\n",
    "    number_epoch = 80\n",
    "    hidden_dim = 64  # 64\n",
    "    n_layers = 2  # 2\n",
    "    drop_prob = 0\n",
    "    weight_decay = 0\n",
    "    mse_thresh = 10  # 0.01\n",
    "\n",
    "    model, train_loss_list, valid_loss_list = train_model(\n",
    "        train_x, train_y, valid_x, valid_y, input_size, embedding_size,\n",
    "        mse_thresh, batch_size, lr, number_epoch, hidden_dim, n_layers,\n",
    "        drop_prob, weight_decay)\n",
    "\n",
    "    # plot training process\n",
    "    plt.plot(train_loss_list[10:], 'm', label='train_loss')\n",
    "    plt.plot(valid_loss_list[10:], 'g', label='valid_loss')\n",
    "    plt.grid('both')\n",
    "    plt.legend()\n",
    "\n",
    "    # test\n",
    "    test_data = data[int(0.8 * len(data)):]\n",
    "    #     test_data = data[-800:]\n",
    "    test_data = scaler.transform(test_data)\n",
    "    test_x, test_y = series_to_supervise(test_data, seq_len, target_len)\n",
    "    MAPE, SMAPE, MAE, RMSE, RRSE, CORR, load_pred, load_true = test_model(\n",
    "        model, test_x, test_y, target_len, scaler_y, batch_size)\n",
    "    return MAPE, SMAPE, MAE, RMSE, RRSE, CORR, load_pred, load_true"
   ]
  },
  {
   "cell_type": "code",
   "execution_count": 18,
   "id": "87166bbc",
   "metadata": {
    "ExecuteTime": {
     "end_time": "2022-01-09T09:38:23.041288Z",
     "start_time": "2022-01-09T08:54:16.538099Z"
    }
   },
   "outputs": [
    {
     "name": "stdout",
     "output_type": "stream",
     "text": [
      "supervised data: shape of x: (25232, 72, 16), shape of y: (25232, 24, 16)\n"
     ]
    },
    {
     "name": "stderr",
     "output_type": "stream",
     "text": [
      "Epoch: 1/80: 100%|████████████████| 79/79 [00:54<00:00,  1.45it/s, train_loss=1.19, valid_loss=1.24]\n",
      "Epoch: 2/80: 100%|█████████████████| 79/79 [01:24<00:00,  1.07s/it, train_loss=1.1, valid_loss=1.12]\n",
      "Epoch: 3/80: 100%|████████████████| 79/79 [03:31<00:00,  2.68s/it, train_loss=1.07, valid_loss=1.11]\n",
      "Epoch: 4/80: 100%|████████████████| 79/79 [03:17<00:00,  2.51s/it, train_loss=1.07, valid_loss=1.12]\n",
      "Epoch: 5/80: 100%|████████████████| 79/79 [03:17<00:00,  2.50s/it, train_loss=1.05, valid_loss=1.07]\n",
      "Epoch: 6/80: 100%|████████████████| 79/79 [01:06<00:00,  1.18it/s, train_loss=1.05, valid_loss=1.06]\n",
      "Epoch: 7/80: 100%|████████████████| 79/79 [01:00<00:00,  1.30it/s, train_loss=1.04, valid_loss=1.05]\n",
      "Epoch: 8/80: 100%|████████████████| 79/79 [00:50<00:00,  1.57it/s, train_loss=1.04, valid_loss=1.06]\n",
      "Epoch: 9/80: 100%|████████████████| 79/79 [00:31<00:00,  2.48it/s, train_loss=1.11, valid_loss=1.09]\n",
      "Epoch: 10/80: 100%|███████████████| 79/79 [00:32<00:00,  2.45it/s, train_loss=1.03, valid_loss=1.05]\n",
      "Epoch: 11/80: 100%|███████████████| 79/79 [00:27<00:00,  2.91it/s, train_loss=1.03, valid_loss=1.04]\n",
      "Epoch: 12/80: 100%|███████████████| 79/79 [00:22<00:00,  3.53it/s, train_loss=1.02, valid_loss=1.03]\n",
      "Epoch: 13/80: 100%|███████████████| 79/79 [00:21<00:00,  3.64it/s, train_loss=1.02, valid_loss=1.02]\n",
      "Epoch: 14/80: 100%|███████████████| 79/79 [00:21<00:00,  3.75it/s, train_loss=1.02, valid_loss=1.02]\n",
      "Epoch: 15/80: 100%|███████████████| 79/79 [00:21<00:00,  3.67it/s, train_loss=1.02, valid_loss=1.01]\n",
      "Epoch: 16/80: 100%|███████████████| 79/79 [00:21<00:00,  3.68it/s, train_loss=1.01, valid_loss=1.01]\n",
      "Epoch: 17/80: 100%|██████████████████| 79/79 [00:22<00:00,  3.52it/s, train_loss=1, valid_loss=1.01]\n",
      "Epoch: 18/80: 100%|██████████████████| 79/79 [00:21<00:00,  3.70it/s, train_loss=1, valid_loss=1.01]\n",
      "Epoch: 19/80: 100%|███████████████| 79/79 [00:20<00:00,  3.85it/s, train_loss=1.01, valid_loss=1.01]\n",
      "Epoch: 20/80: 100%|██████████████████| 79/79 [00:21<00:00,  3.73it/s, train_loss=1.01, valid_loss=1]\n",
      "Epoch: 21/80: 100%|█████████████████████| 79/79 [00:21<00:00,  3.60it/s, train_loss=1, valid_loss=1]\n",
      "Epoch: 22/80: 100%|██████████████████| 79/79 [00:21<00:00,  3.62it/s, train_loss=1.01, valid_loss=1]\n",
      "Epoch: 23/80: 100%|██████████████████| 79/79 [00:22<00:00,  3.59it/s, train_loss=1, valid_loss=1.01]\n",
      "Epoch: 24/80: 100%|██████████████████| 79/79 [00:22<00:00,  3.55it/s, train_loss=1, valid_loss=1.01]\n",
      "Epoch: 25/80: 100%|█████████████████| 79/79 [00:21<00:00,  3.68it/s, train_loss=1, valid_loss=0.997]\n",
      "Epoch: 26/80: 100%|█████████████| 79/79 [00:22<00:00,  3.52it/s, train_loss=0.997, valid_loss=0.997]\n",
      "Epoch: 27/80: 100%|█████████████| 79/79 [00:22<00:00,  3.51it/s, train_loss=0.994, valid_loss=0.996]\n",
      "Epoch: 28/80: 100%|█████████████| 79/79 [00:22<00:00,  3.47it/s, train_loss=0.993, valid_loss=0.999]\n",
      "Epoch: 29/80: 100%|█████████████| 79/79 [00:22<00:00,  3.44it/s, train_loss=0.995, valid_loss=0.997]\n",
      "Epoch: 30/80: 100%|█████████████| 79/79 [00:21<00:00,  3.59it/s, train_loss=0.992, valid_loss=0.995]\n",
      "Epoch: 31/80: 100%|█████████████| 79/79 [00:22<00:00,  3.54it/s, train_loss=0.995, valid_loss=0.998]\n",
      "Epoch: 32/80: 100%|█████████████████| 79/79 [00:21<00:00,  3.60it/s, train_loss=0.998, valid_loss=1]\n",
      "Epoch: 33/80: 100%|█████████████| 79/79 [00:22<00:00,  3.51it/s, train_loss=0.993, valid_loss=0.996]\n",
      "Epoch: 34/80: 100%|██████████████| 79/79 [00:22<00:00,  3.44it/s, train_loss=0.99, valid_loss=0.995]\n",
      "Epoch: 35/80: 100%|█████████████| 79/79 [00:23<00:00,  3.39it/s, train_loss=0.989, valid_loss=0.994]\n",
      "Epoch: 36/80: 100%|██████████████| 79/79 [00:23<00:00,  3.41it/s, train_loss=0.99, valid_loss=0.996]\n",
      "Epoch: 37/80: 100%|█████████████| 79/79 [00:22<00:00,  3.54it/s, train_loss=0.989, valid_loss=0.992]\n",
      "Epoch: 38/80: 100%|█████████████| 79/79 [00:22<00:00,  3.58it/s, train_loss=0.988, valid_loss=0.998]\n",
      "Epoch: 39/80: 100%|█████████████| 79/79 [00:21<00:00,  3.63it/s, train_loss=0.991, valid_loss=0.998]\n",
      "Epoch: 40/80: 100%|█████████████| 79/79 [00:22<00:00,  3.53it/s, train_loss=0.989, valid_loss=0.995]\n",
      "Epoch: 41/80: 100%|██████████████| 79/79 [00:22<00:00,  3.57it/s, train_loss=0.99, valid_loss=0.996]\n",
      "Epoch: 42/80: 100%|█████████████| 79/79 [00:22<00:00,  3.45it/s, train_loss=0.989, valid_loss=0.993]\n",
      "Epoch: 43/80: 100%|█████████████| 79/79 [00:22<00:00,  3.46it/s, train_loss=0.989, valid_loss=0.993]\n",
      "Epoch: 44/80: 100%|██████████████| 79/79 [00:22<00:00,  3.48it/s, train_loss=0.99, valid_loss=0.991]\n",
      "Epoch: 45/80: 100%|█████████████| 79/79 [00:21<00:00,  3.63it/s, train_loss=0.986, valid_loss=0.992]\n",
      "Epoch: 46/80: 100%|█████████████| 79/79 [00:21<00:00,  3.67it/s, train_loss=0.985, valid_loss=0.991]\n",
      "Epoch: 47/80: 100%|█████████████| 79/79 [00:21<00:00,  3.66it/s, train_loss=0.987, valid_loss=0.993]\n",
      "Epoch: 48/80: 100%|█████████████| 79/79 [00:22<00:00,  3.54it/s, train_loss=0.987, valid_loss=0.994]\n",
      "Epoch: 49/80: 100%|█████████████| 79/79 [00:22<00:00,  3.47it/s, train_loss=0.988, valid_loss=0.991]\n",
      "Epoch: 50/80: 100%|█████████████| 79/79 [00:22<00:00,  3.55it/s, train_loss=0.984, valid_loss=0.993]\n",
      "Epoch: 51/80: 100%|█████████████| 79/79 [00:21<00:00,  3.61it/s, train_loss=0.982, valid_loss=0.989]\n",
      "Epoch: 52/80: 100%|██████████████| 79/79 [00:21<00:00,  3.65it/s, train_loss=0.981, valid_loss=0.99]\n",
      "Epoch: 53/80: 100%|█████████████| 79/79 [00:21<00:00,  3.61it/s, train_loss=0.983, valid_loss=0.991]\n",
      "Epoch: 54/80: 100%|██████████████| 79/79 [00:22<00:00,  3.56it/s, train_loss=0.984, valid_loss=0.99]\n",
      "Epoch: 55/80: 100%|█████████████| 79/79 [00:21<00:00,  3.75it/s, train_loss=0.983, valid_loss=0.991]\n",
      "Epoch: 56/80: 100%|██████████████| 79/79 [00:19<00:00,  4.02it/s, train_loss=0.982, valid_loss=0.99]\n",
      "Epoch: 57/80: 100%|██████████████| 79/79 [00:19<00:00,  4.06it/s, train_loss=0.983, valid_loss=0.99]\n",
      "Epoch: 58/80: 100%|█████████████| 79/79 [00:19<00:00,  4.02it/s, train_loss=0.982, valid_loss=0.989]\n",
      "Epoch: 59/80: 100%|█████████████████| 79/79 [00:20<00:00,  3.80it/s, train_loss=0.989, valid_loss=1]\n",
      "Epoch: 60/80: 100%|█████████████| 79/79 [00:19<00:00,  3.95it/s, train_loss=0.982, valid_loss=0.989]\n",
      "Epoch: 61/80: 100%|█████████████| 79/79 [00:19<00:00,  4.15it/s, train_loss=0.982, valid_loss=0.992]\n",
      "Epoch: 62/80: 100%|██████████████| 79/79 [00:21<00:00,  3.69it/s, train_loss=0.98, valid_loss=0.989]\n",
      "Epoch: 63/80: 100%|█████████████| 79/79 [00:30<00:00,  2.59it/s, train_loss=0.982, valid_loss=0.989]\n",
      "Epoch: 64/80: 100%|██████████████| 79/79 [00:32<00:00,  2.44it/s, train_loss=0.983, valid_loss=0.99]\n",
      "Epoch: 65/80: 100%|█████████████| 79/79 [00:32<00:00,  2.41it/s, train_loss=0.981, valid_loss=0.993]\n",
      "Epoch: 66/80: 100%|█████████████| 79/79 [00:31<00:00,  2.54it/s, train_loss=0.981, valid_loss=0.988]\n",
      "Epoch: 67/80: 100%|█████████████| 79/79 [00:31<00:00,  2.48it/s, train_loss=0.981, valid_loss=0.989]\n",
      "Epoch: 68/80: 100%|█████████████| 79/79 [00:31<00:00,  2.51it/s, train_loss=0.982, valid_loss=0.989]\n",
      "Epoch: 69/80: 100%|█████████████| 79/79 [00:31<00:00,  2.51it/s, train_loss=0.981, valid_loss=0.989]\n",
      "Epoch: 70/80: 100%|█████████████| 79/79 [00:31<00:00,  2.52it/s, train_loss=0.983, valid_loss=0.989]\n",
      "Epoch: 71/80: 100%|██████████████| 79/79 [00:31<00:00,  2.53it/s, train_loss=0.98, valid_loss=0.988]\n",
      "Epoch: 72/80: 100%|█████████████| 79/79 [00:31<00:00,  2.53it/s, train_loss=0.979, valid_loss=0.991]\n",
      "Epoch: 73/80: 100%|███████████████| 79/79 [00:31<00:00,  2.51it/s, train_loss=0.98, valid_loss=0.99]\n",
      "Epoch: 74/80: 100%|█████████████| 79/79 [00:31<00:00,  2.52it/s, train_loss=0.979, valid_loss=0.989]\n",
      "Epoch: 75/80: 100%|██████████████| 79/79 [00:29<00:00,  2.66it/s, train_loss=0.977, valid_loss=0.99]\n",
      "Epoch: 76/80: 100%|█████████████| 79/79 [00:21<00:00,  3.60it/s, train_loss=0.979, valid_loss=0.989]\n",
      "Epoch: 77/80: 100%|██████████████| 79/79 [00:21<00:00,  3.69it/s, train_loss=0.98, valid_loss=0.989]\n",
      "Epoch: 78/80: 100%|█████████████| 79/79 [00:20<00:00,  3.79it/s, train_loss=0.977, valid_loss=0.988]\n",
      "Epoch: 79/80: 100%|█████████████| 79/79 [00:21<00:00,  3.76it/s, train_loss=0.979, valid_loss=0.989]\n",
      "Epoch: 80/80: 100%|█████████████| 79/79 [00:22<00:00,  3.55it/s, train_loss=0.978, valid_loss=0.989]\n"
     ]
    },
    {
     "name": "stdout",
     "output_type": "stream",
     "text": [
      "supervised data: shape of x: (6237, 72, 16), shape of y: (6237, 24, 16)\n",
      "MAPE:0.034120,SMAPE:0.034180,MAE:422.864296,RMSE:564.459415,RRSE:0.175230,CORR:253.256666\n"
     ]
    },
    {
     "data": {
      "image/png": "[encoded data removed]",
      "text/plain": [
       "<Figure size 432x288 with 1 Axes>"
      ]
     },
     "metadata": {
      "needs_background": "light"
     },
     "output_type": "display_data"
    }
   ],
   "source": [
    "random_seed_set(16)\n",
    "MAPE, SMAPE, MAE, RMSE, RRSE, CORR, load_pred, load_true = run_model_retraining()\n",
    "print('MAPE:{:.6f},SMAPE:{:.6f},MAE:{:.6f},RMSE:{:.6f},RRSE:{:.6f},CORR:{:.6f}'.format(MAPE, SMAPE, MAE, RMSE, RRSE, CORR))"
   ]
  },
  {
   "cell_type": "code",
   "execution_count": 19,
   "id": "ea981bee",
   "metadata": {
    "ExecuteTime": {
     "end_time": "2022-01-09T09:38:23.049016Z",
     "start_time": "2022-01-09T09:38:23.043656Z"
    }
   },
   "outputs": [
    {
     "name": "stdout",
     "output_type": "stream",
     "text": [
      "MAPE:0.034120,SMAPE:0.034180,MAE:422.864296,RMSE:564.459415,RRSE:0.175230,CORR:253.256666\n"
     ]
    }
   ],
   "source": [
    "print('MAPE:{:.6f},SMAPE:{:.6f},MAE:{:.6f},RMSE:{:.6f},RRSE:{:.6f},CORR:{:.6f}'.format(MAPE, SMAPE, MAE, RMSE, RRSE, CORR))"
   ]
  },
  {
   "cell_type": "markdown",
   "id": "b8158e63",
   "metadata": {},
   "source": [
    "## figure plot"
   ]
  },
  {
   "cell_type": "code",
   "execution_count": 20,
   "id": "4b9c51c7",
   "metadata": {
    "ExecuteTime": {
     "end_time": "2022-01-09T09:38:23.207604Z",
     "start_time": "2022-01-09T09:38:23.051389Z"
    }
   },
   "outputs": [
    {
     "data": {
      "text/plain": [
       "(0.0, 19467.382392655076)"
      ]
     },
     "execution_count": 20,
     "metadata": {},
     "output_type": "execute_result"
    },
    {
     "data": {
      "image/png": "[encoded data removed]",
      "text/plain": [
       "<Figure size 1440x720 with 1 Axes>"
      ]
     },
     "metadata": {
      "needs_background": "light"
     },
     "output_type": "display_data"
    }
   ],
   "source": [
    "plt.figure(figsize=(20, 10))\n",
    "load_pred = load_pred.reshape(-1, target_len)\n",
    "load_true = load_true.reshape(-1, target_len)\n",
    "plt.plot(load_pred[:240, 23], 'm')\n",
    "plt.plot(load_true[:240, 23], 'g')\n",
    "plt.ylim(0)"
   ]
  }
 ],
 "metadata": {
  "kernelspec": {
   "display_name": "Python 3 (ipykernel)",
   "language": "python",
   "name": "python3"
  },
  "language_info": {
   "codemirror_mode": {
    "name": "ipython",
    "version": 3
   },
   "file_extension": ".py",
   "mimetype": "text/x-python",
   "name": "python",
   "nbconvert_exporter": "python",
   "pygments_lexer": "ipython3",
   "version": "3.8.12"
  },
  "toc": {
   "base_numbering": 1,
   "nav_menu": {},
   "number_sections": true,
   "sideBar": true,
   "skip_h1_title": false,
   "title_cell": "Table of Contents",
   "title_sidebar": "Contents",
   "toc_cell": false,
   "toc_position": {
    "height": "calc(100% - 180px)",
    "left": "10px",
    "top": "150px",
    "width": "374.391px"
   },
   "toc_section_display": true,
   "toc_window_display": true
  },
  "varInspector": {
   "cols": {
    "lenName": 16,
    "lenType": 16,
    "lenVar": 40
   },
   "kernels_config": {
    "python": {
     "delete_cmd_postfix": "",
     "delete_cmd_prefix": "del ",
     "library": "var_list.py",
     "varRefreshCmd": "print(var_dic_list())"
    },
    "r": {
     "delete_cmd_postfix": ") ",
     "delete_cmd_prefix": "rm(",
     "library": "var_list.r",
     "varRefreshCmd": "cat(var_dic_list()) "
    }
   },
   "oldHeight": 320.844,
   "position": {
    "height": "342.844px",
    "left": "1482px",
    "right": "20px",
    "top": "127px",
    "width": "350px"
   },
   "types_to_exclude": [
    "module",
    "function",
    "builtin_function_or_method",
    "instance",
    "_Feature"
   ],
   "varInspector_section_display": "block",
   "window_display": false
  }
 },
 "nbformat": 4,
 "nbformat_minor": 5
}
