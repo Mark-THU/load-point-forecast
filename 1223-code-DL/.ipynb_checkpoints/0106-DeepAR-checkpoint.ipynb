{
 "cells": [
  {
   "cell_type": "markdown",
   "id": "b6760fcb",
   "metadata": {},
   "source": [
    "# DeepAR forecast"
   ]
  },
  {
   "cell_type": "markdown",
   "id": "1b99add5",
   "metadata": {},
   "source": [
    "**modified versions**\n",
    "1. 实现"
   ]
  },
  {
   "cell_type": "code",
   "execution_count": 1,
   "id": "ab701777",
   "metadata": {
    "ExecuteTime": {
     "end_time": "2022-01-06T06:21:20.874351Z",
     "start_time": "2022-01-06T06:21:19.924079Z"
    }
   },
   "outputs": [],
   "source": [
    "import pandas as pd\n",
    "import numpy as np\n",
    "import matplotlib.pyplot as plt\n",
    "import pdb\n",
    "import torch\n",
    "import torch.nn as nn\n",
    "import random\n",
    "\n",
    "from sklearn.preprocessing import MinMaxScaler\n",
    "from sklearn.model_selection import train_test_split, TimeSeriesSplit\n",
    "from torch.autograd import Variable\n",
    "from torch.utils.data import TensorDataset, DataLoader\n",
    "from tqdm import tqdm\n",
    "from xgboost import XGBRegressor\n",
    "from torchsummary import summary\n",
    "\n",
    "if torch.cuda.is_available():  \n",
    "    dev = \"cuda:0\" \n",
    "else:  \n",
    "    dev = \"cpu\"\n",
    "device = torch.device(dev)"
   ]
  },
  {
   "cell_type": "code",
   "execution_count": 2,
   "id": "a74c7ce0",
   "metadata": {
    "ExecuteTime": {
     "end_time": "2022-01-06T06:21:20.879004Z",
     "start_time": "2022-01-06T06:21:20.876200Z"
    }
   },
   "outputs": [],
   "source": [
    "def random_seed_set(seed):\n",
    "    np.random.seed(seed)\n",
    "    torch.random.manual_seed(seed)\n",
    "    torch.cuda.random.manual_seed(seed)\n",
    "#     torch.backends.cudnn.benchmark = False\n",
    "#     torch.backends.cudnn.deterministic = True"
   ]
  },
  {
   "cell_type": "markdown",
   "id": "1b1e141f",
   "metadata": {},
   "source": [
    "## load data"
   ]
  },
  {
   "cell_type": "code",
   "execution_count": 3,
   "id": "5c50b0c3",
   "metadata": {
    "ExecuteTime": {
     "end_time": "2022-01-06T06:21:20.950101Z",
     "start_time": "2022-01-06T06:21:20.880218Z"
    }
   },
   "outputs": [],
   "source": [
    "url = '../data/beijing.csv'\n",
    "data = pd.read_csv(url, sep=',', index_col='time')\n",
    "data.index = pd.to_datetime(data.index)"
   ]
  },
  {
   "cell_type": "markdown",
   "id": "5983b6c6",
   "metadata": {},
   "source": [
    "## normalization"
   ]
  },
  {
   "cell_type": "code",
   "execution_count": 4,
   "id": "5d83e76f",
   "metadata": {
    "ExecuteTime": {
     "end_time": "2022-01-06T06:21:20.955396Z",
     "start_time": "2022-01-06T06:21:20.952145Z"
    }
   },
   "outputs": [],
   "source": [
    "def normalization(data):\n",
    "    \"\"\"\n",
    "    data: original data with load\n",
    "    return: normalized data, scaler of load\n",
    "    \"\"\"\n",
    "    scaler = MinMaxScaler()\n",
    "    normalized_data = scaler.fit_transform(data)\n",
    "    scaler_y = MinMaxScaler()\n",
    "    scaler_y.fit_transform(data[[data.columns[-1]]])\n",
    "    return normalized_data, scaler, scaler_y"
   ]
  },
  {
   "cell_type": "markdown",
   "id": "77586dff",
   "metadata": {
    "ExecuteTime": {
     "end_time": "2021-12-22T07:45:44.192666Z",
     "start_time": "2021-12-22T07:45:44.188985Z"
    }
   },
   "source": [
    "## build supervised dataset"
   ]
  },
  {
   "cell_type": "code",
   "execution_count": 5,
   "id": "28cb7301",
   "metadata": {
    "ExecuteTime": {
     "end_time": "2022-01-06T06:21:20.960585Z",
     "start_time": "2022-01-06T06:21:20.956640Z"
    }
   },
   "outputs": [],
   "source": [
    "def series_to_supervise(data, seq_len, target_len):\n",
    "    \"\"\"\n",
    "    convert series data to supervised data\n",
    "    :param data: original data\n",
    "    :param seq_len: length of input sequence\n",
    "    :param target_len: length of ouput sequence\n",
    "    :return: return two ndarrays-- input and output in format suitable to feed to RNN\n",
    "    \"\"\"\n",
    "    dim_0 = data.shape[0] - seq_len - target_len + 1\n",
    "    dim_1 = data.shape[1]\n",
    "    x = np.zeros((dim_0, seq_len, dim_1))\n",
    "    y = np.zeros((dim_0, target_len, dim_1))\n",
    "    for i in range(dim_0):\n",
    "        x[i] = data[i:i + seq_len]\n",
    "        y[i] = data[i + seq_len:i + seq_len + target_len]\n",
    "    print(\"supervised data: shape of x: {}, shape of y: {}\".format(x.shape, y.shape))\n",
    "    return x, y"
   ]
  },
  {
   "cell_type": "markdown",
   "id": "17ae28dc",
   "metadata": {},
   "source": [
    "## 5-folds TimeSeriesSplit"
   ]
  },
  {
   "cell_type": "code",
   "execution_count": 6,
   "id": "c5ecff68",
   "metadata": {
    "ExecuteTime": {
     "end_time": "2022-01-06T06:21:20.965566Z",
     "start_time": "2022-01-06T06:21:20.961930Z"
    }
   },
   "outputs": [],
   "source": [
    "def time_series_split(X, Y, n_split=5):\n",
    "    \"\"\"\n",
    "    X: features, size * seq_len * feature_num\n",
    "    Y: labels, size * target_len\n",
    "    return: list of train_x, test_x, train_y, test_y\n",
    "    \"\"\"\n",
    "    tscv = TimeSeriesSplit(n_splits=n_split)\n",
    "    train_x_list = list()\n",
    "    valid_x_list = list()\n",
    "    train_y_list = list()\n",
    "    valid_y_list = list()\n",
    "    for train_index, valid_index in tscv.split(X):\n",
    "        train_x_list.append(X[train_index])\n",
    "        train_y_list.append(Y[train_index])\n",
    "        valid_x_list.append(X[valid_index])\n",
    "        valid_y_list.append(Y[valid_index])\n",
    "    return train_x_list, train_y_list, valid_x_list, valid_y_list"
   ]
  },
  {
   "cell_type": "markdown",
   "id": "51f73225",
   "metadata": {},
   "source": [
    "## DeepAR model"
   ]
  },
  {
   "cell_type": "markdown",
   "id": "31fab893",
   "metadata": {},
   "source": [
    "### Gaussian model"
   ]
  },
  {
   "cell_type": "code",
   "execution_count": 70,
   "id": "b80b3c26",
   "metadata": {
    "ExecuteTime": {
     "end_time": "2022-01-06T08:44:00.338991Z",
     "start_time": "2022-01-06T08:44:00.329057Z"
    }
   },
   "outputs": [],
   "source": [
    "class Gaussian(nn.Module):\n",
    "    def __init__(self, hidden_size, output_size):\n",
    "        \"\"\"\n",
    "        hidden_size: size of hidden_size\n",
    "        output_size: number of time series\n",
    "        \"\"\"\n",
    "        super(Gaussian, self).__init__()\n",
    "        self.mu_layer = nn.Linear(hidden_size, output_size)\n",
    "        self.sigma_layer = nn.Linear(hidden_size, output_size)\n",
    "    \n",
    "    def forward(self, h):\n",
    "        # h shape (batch_size, len, hidden_size)\n",
    "        mu = self.mu_layer(h)\n",
    "        \n",
    "        sigma = torch.log(1 + torch.exp(self.sigma_layer(h))) + 1e-6\n",
    "        # ***这里需要加1e-6?***\n",
    "        \n",
    "        return mu.squeeze(-1), sigma.squeeze(-1)    "
   ]
  },
  {
   "cell_type": "markdown",
   "id": "87cf4ca1",
   "metadata": {},
   "source": [
    "### generate samples"
   ]
  },
  {
   "cell_type": "code",
   "execution_count": 47,
   "id": "df2ff825",
   "metadata": {
    "ExecuteTime": {
     "end_time": "2022-01-06T08:11:00.187371Z",
     "start_time": "2022-01-06T08:11:00.181740Z"
    }
   },
   "outputs": [],
   "source": [
    "def gaussian_sample(mu, sigma):\n",
    "    # mu shape (batch_size, 1)\n",
    "    # sigma shape (batch_size, 1)\n",
    "    gaussian = torch.distributions.normal.Normal(mu, sigma)\n",
    "    sample = gaussian.sample()\n",
    "    return sample"
   ]
  },
  {
   "cell_type": "markdown",
   "id": "b064da9e",
   "metadata": {},
   "source": [
    "### DeepAR"
   ]
  },
  {
   "cell_type": "code",
   "execution_count": 48,
   "id": "a98ff5e0",
   "metadata": {
    "ExecuteTime": {
     "end_time": "2022-01-06T08:11:01.618026Z",
     "start_time": "2022-01-06T08:11:01.598850Z"
    }
   },
   "outputs": [],
   "source": [
    "class DeepAR(nn.Module):\n",
    "    def __init__(self, input_size, embedding_size, hidden_size, n_layes,\n",
    "                 drop_out):\n",
    "        \"\"\"\n",
    "        input_size: size of covariants\n",
    "        embedding_size: size of value embedding\n",
    "        \"\"\"\n",
    "        super(DeepAR, self).__init__()\n",
    "\n",
    "        # layers\n",
    "        self.embedding = nn.Linear(1, embedding_size)\n",
    "        self.rnn = nn.GRU(input_size=input_size + embedding_size,\n",
    "                          hidden_size=hidden_size,\n",
    "                          num_layers=n_layes,\n",
    "                          dropout=drop_out,\n",
    "                          bias=True,\n",
    "                          batch_first=True)\n",
    "        self.gaussian_layer = Gaussian(hidden_size, 1)\n",
    "\n",
    "    def forward(self, X, y, Xf):\n",
    "        \"\"\"\n",
    "        X shape (batch_size, seq_len, cov_num)\n",
    "        y shape (batch_size, seq_len, 1)\n",
    "        Xf shape (batch_size, tar_len, cov_num)\n",
    "        \"\"\"\n",
    "        y_pred = []\n",
    "        mu_list = []\n",
    "        sigma_list = []\n",
    "\n",
    "        y_embedded = self.embedding(y)\n",
    "        # y_embedded shape (batch_size, seq_len, embedding_size)\n",
    "\n",
    "        inputs = torch.cat((X, y_embedded), dim=2)\n",
    "        # inputs shape (batch_size, seq_len, cov_num + embedding_size)\n",
    "\n",
    "        rnn_out, hidden = self.rnn(inputs)\n",
    "        # rnn_out shape (batch_size, seq_len, hidden_size)\n",
    "        # hidden shape (n_layers, batch_size, hidden_size)\n",
    "\n",
    "        rnn_out = nn.functional.relu(rnn_out)\n",
    "        mu, sigma = self.gaussian_layer(rnn_out)\n",
    "        # mu, sigma shape (batch_size, seq_len)\n",
    "\n",
    "        mu_list.append(mu)\n",
    "        sigma_list.append(sigma)\n",
    "\n",
    "        y_next = gaussian_sample(mu[:, -1:], sigma[:, -1:])\n",
    "        # y_next shape (batch_size, 1)\n",
    "        y_pred.append(y_next)\n",
    "\n",
    "        for i in range(Xf.shape[1] - 1):\n",
    "            input = torch.cat(\n",
    "                (Xf[:, i:i + 1, :], self.embedding(y_next.unsqueeze(2))),\n",
    "                dim=2)\n",
    "            # input shape (batch_size, 1, num_cov + embedding_size)\n",
    "\n",
    "            rnn_out, hidden = self.rnn(input, hidden)\n",
    "            # rnn_out shape (batch_size, 1, hidden_size)\n",
    "            rnn_out = nn.functional.relu(rnn_out)\n",
    "            mu, sigma = self.gaussian_layer(rnn_out)\n",
    "            # mu, sigma shape (batch_size, 1)\n",
    "            mu_list.append(mu)\n",
    "            sigma_list.append(sigma)\n",
    "\n",
    "            y_next = gaussian_sample(mu, sigma)\n",
    "            y_pred.append(y_next)\n",
    "        y_pred = torch.cat(y_pred, dim=-1)\n",
    "        mu = torch.cat(mu_list, dim=-1)\n",
    "        sigma = torch.cat(sigma_list, dim=-1)\n",
    "\n",
    "        return y_pred, mu, sigma"
   ]
  },
  {
   "cell_type": "markdown",
   "id": "17880f95",
   "metadata": {},
   "source": [
    "### test model"
   ]
  },
  {
   "cell_type": "code",
   "execution_count": 56,
   "id": "2bd810aa",
   "metadata": {
    "ExecuteTime": {
     "end_time": "2022-01-06T08:30:08.591542Z",
     "start_time": "2022-01-06T08:30:08.530246Z"
    }
   },
   "outputs": [
    {
     "data": {
      "text/plain": [
       "torch.Size([10, 95])"
      ]
     },
     "execution_count": 56,
     "metadata": {},
     "output_type": "execute_result"
    }
   ],
   "source": [
    "model = DeepAR(15, 5, 32, 2, 0.1)\n",
    "X = torch.rand(10, 72, 15)\n",
    "y = torch.rand(10, 72, 1)\n",
    "Xf = torch.rand(10, 24, 15)\n",
    "y_pred, mu, sigma = model(X, y, Xf)\n",
    "mu.shape"
   ]
  },
  {
   "cell_type": "markdown",
   "id": "694d06e5",
   "metadata": {},
   "source": [
    "## loss function"
   ]
  },
  {
   "cell_type": "code",
   "execution_count": 104,
   "id": "2f6ae8ef",
   "metadata": {
    "ExecuteTime": {
     "end_time": "2022-01-06T12:45:21.567711Z",
     "start_time": "2022-01-06T12:45:21.560767Z"
    }
   },
   "outputs": [],
   "source": [
    "def gaussian_log_likelihood_loss(y, mu, sigma):\n",
    "    loss = torch.log(sigma + 1) + (y - mu) ** 2 / (2 * sigma **2) + 0.9\n",
    "    return torch.mean(loss)"
   ]
  },
  {
   "cell_type": "markdown",
   "id": "94cc1a61",
   "metadata": {
    "ExecuteTime": {
     "end_time": "2021-12-22T08:30:19.661769Z",
     "start_time": "2021-12-22T08:30:19.656770Z"
    }
   },
   "source": [
    "## model training for HPO"
   ]
  },
  {
   "cell_type": "code",
   "execution_count": 57,
   "id": "30a2ecb3",
   "metadata": {
    "ExecuteTime": {
     "end_time": "2022-01-06T08:35:02.017500Z",
     "start_time": "2022-01-06T08:35:01.989148Z"
    }
   },
   "outputs": [],
   "source": [
    "def train_model_hpo(train_x_list, train_y_list, valid_x_list, valid_y_list,\n",
    "                    input_size, embedding_size, mse_thresh, batch_size, lr,\n",
    "                    number_epoch, hidden_dim, n_layers, drop_prob, weight_decay):\n",
    "    valid_loss_list = []\n",
    "    for num in range(len(train_x_list)):\n",
    "        while (1):\n",
    "            model = DeepAR(input_size, embedding_size, hidden_dim, n_layers,\n",
    "                           drop_prob)\n",
    "            model.to(device=device)\n",
    "            criterion = gaussian_log_likelihood_loss\n",
    "            optimizer = torch.optim.Adam(model.parameters(), lr=lr, weight_decay=weight_decay)\n",
    "            scheduler = torch.optim.lr_scheduler.StepLR(optimizer, 1, gamma=0.98)\n",
    "            valid_loss_min = np.Inf\n",
    "            print('cross-validation dataset {}'.format(num))\n",
    "            train_x = train_x_list[num]\n",
    "            train_y = train_y_list[num]\n",
    "            valid_x = valid_x_list[num]\n",
    "            valid_y = valid_y_list[num]\n",
    "            train_dataset = TensorDataset(torch.FloatTensor(train_x),\n",
    "                                          torch.FloatTensor(train_y))\n",
    "            valid_dataset = TensorDataset(torch.FloatTensor(valid_x),\n",
    "                                          torch.FloatTensor(valid_y))\n",
    "            train_loader = DataLoader(dataset=train_dataset,\n",
    "                                      batch_size=batch_size,\n",
    "                                      shuffle=True,\n",
    "                                      drop_last=False)\n",
    "            valid_loader = DataLoader(dataset=valid_dataset,\n",
    "                                      batch_size=batch_size,\n",
    "                                      shuffle=True,\n",
    "                                      drop_last=False)\n",
    "            num_without_imp = 0\n",
    "            # training process\n",
    "            for epoch in range(1, number_epoch + 1):\n",
    "                loop = tqdm(enumerate(train_loader),\n",
    "                            total=len(train_loader),\n",
    "                            leave=True, ncols=100)\n",
    "                for i, (inputs, labels) in loop:\n",
    "                    inputs = inputs.to(device=device)\n",
    "                    labels = labels.to(device=device)\n",
    "                    optimizer.zero_grad()\n",
    "                    _, mu, sigma = model(inputs[:, :, :-1], inputs[:, :, -1:], labels[:, :, :-1])\n",
    "                    # mu, sigma shape(batch_size, seq_len + tar_len - 1)\n",
    "                    y = torch.cat((inputs[:, 1:, -1], labels[:, :, -1]), dim=1)\n",
    "                    loss = criterion(y, mu, sigma)\n",
    "                    loss.backward()\n",
    "                    optimizer.step()\n",
    "                    if i % 5 == 0:\n",
    "                        num_without_imp = num_without_imp + 1\n",
    "                        valid_losses = list()\n",
    "                        model.eval()\n",
    "                        for inp, lab in valid_loader:\n",
    "                            inp = inp.to(device)\n",
    "                            lab = lab.to(device)\n",
    "                            _, mu, sigma = model(inp[:, :, :-1], inp[:, :, -1:], lab[:, :, :-1])\n",
    "                            y = torch.cat((inp[:, 1:, -1], lab[:, :, -1]), dim=1)\n",
    "                            valid_loss = criterion(y, mu, sigma)\n",
    "                            valid_losses.append(valid_loss.item())\n",
    "\n",
    "                        model.train()\n",
    "                        loop.set_description(\"Epoch: {}/{}\".format(\n",
    "                            epoch, number_epoch))\n",
    "                        loop.set_postfix(train_loss=loss.item(),\n",
    "                                         valid_loss=np.mean(valid_losses))\n",
    "                        if np.mean(valid_losses) < valid_loss_min:\n",
    "                            num_without_imp = 0\n",
    "                            valid_loss_min = np.mean(valid_losses)\n",
    "                scheduler.step()\n",
    "                if num_without_imp >= 50:\n",
    "#                     break\n",
    "                    pass\n",
    "            if valid_loss_min < mse_thresh:\n",
    "                valid_loss_list.append(valid_loss_min)\n",
    "                break\n",
    "    return np.mean(valid_loss_list)"
   ]
  },
  {
   "cell_type": "markdown",
   "id": "17c26b2c",
   "metadata": {},
   "source": [
    "## hyper-parameters config"
   ]
  },
  {
   "cell_type": "code",
   "execution_count": 74,
   "id": "5891f3b2",
   "metadata": {
    "ExecuteTime": {
     "end_time": "2022-01-06T09:01:09.965039Z",
     "start_time": "2022-01-06T09:01:09.952621Z"
    }
   },
   "outputs": [],
   "source": [
    "seq_len = 72\n",
    "target_len = 24\n",
    "embedding_size = 5 # 突出历史负荷重要性\n",
    "n_samples = 100\n",
    "mse_thresh = 0.05\n",
    "\n",
    "\n",
    "def model_config():\n",
    "    batch_sizes = [256]\n",
    "    lrs = [0.01]\n",
    "    number_epochs = [30]\n",
    "    hidden_dims = [64, 128, 256]\n",
    "    n_layers = [2, 3]\n",
    "    drop_prob = [0]\n",
    "    weight_decays = [0]\n",
    "    configs = list()\n",
    "    for i in batch_sizes:\n",
    "        for j in lrs:\n",
    "            for k in number_epochs:\n",
    "                for l in hidden_dims:\n",
    "                    for m in n_layers:\n",
    "                        for n in drop_prob:\n",
    "                            for o in weight_decays:\n",
    "                                configs.append({\n",
    "                                    'batch_size': i,\n",
    "                                    'lr': j,\n",
    "                                    'number_epoch': k,\n",
    "                                    'hidden_dim': l,\n",
    "                                    'n_layers': m,\n",
    "                                    'drop_prob': n,\n",
    "                                    'weight_decay': o,\n",
    "                                })\n",
    "    return configs"
   ]
  },
  {
   "cell_type": "markdown",
   "id": "29df6927",
   "metadata": {},
   "source": [
    "## random search for HPO"
   ]
  },
  {
   "cell_type": "code",
   "execution_count": 72,
   "id": "34117c1a",
   "metadata": {
    "ExecuteTime": {
     "end_time": "2022-01-06T08:54:01.069608Z",
     "start_time": "2022-01-06T08:54:01.052310Z"
    }
   },
   "outputs": [],
   "source": [
    "def run_model_hpo(seq_len=seq_len,\n",
    "                  target_len=target_len,\n",
    "                  mse_thresh=mse_thresh):\n",
    "    train_data = data[:int(0.8 * len(data))]\n",
    "    train_data, _, _ = normalization(train_data)\n",
    "    train_x, train_y = series_to_supervise(train_data, seq_len, target_len)\n",
    "    train_x_list, train_y_list, valid_x_list, valid_y_list = time_series_split(\n",
    "        train_x, train_y)\n",
    "    #     with enough data\n",
    "    train_x_list = train_x_list[-1:]\n",
    "    train_y_list = train_y_list[-1:]\n",
    "    valid_x_list = valid_x_list[-1:]\n",
    "    valid_y_list = valid_y_list[-1:]\n",
    "\n",
    "    configs = model_config()\n",
    "    records = []\n",
    "    input_size = train_x.shape[2] - 1 # 输入方式改变了 \n",
    "    for i in range(6):\n",
    "        config = random.choice(configs)\n",
    "        configs.remove(config)\n",
    "        batch_size = config['batch_size']\n",
    "        lr = config['lr']\n",
    "        number_epoch = config['number_epoch']\n",
    "        hidden_dim = config['hidden_dim']\n",
    "        n_layers = config['n_layers']\n",
    "        drop_prob = config['drop_prob']\n",
    "        weight_decay = config['weight_decay']\n",
    "        print(\n",
    "            \"model config: batch_size-{}, lr-{}, number_epoch-{}, hidden_dim-{}, n_layers-{},drop_prob-{},weight_decay-{}\"\n",
    "            .format(batch_size, lr, number_epoch, hidden_dim, n_layers,\n",
    "                    drop_prob, weight_decay))\n",
    "        valid_loss = train_model_hpo(train_x_list, train_y_list, valid_x_list,\n",
    "                                     valid_y_list, input_size, embedding_size,\n",
    "                                     mse_thresh, batch_size, lr, number_epoch,\n",
    "                                     hidden_dim, n_layers, drop_prob, weight_decay)\n",
    "        records.append({\n",
    "            'batch_size': batch_size,\n",
    "            'lr': lr,\n",
    "            'number_epoch': number_epoch,\n",
    "            'hidden_dim': hidden_dim,\n",
    "            'n_layers': n_layers,\n",
    "            'drop_prob': drop_prob,\n",
    "            'weight_decay': weight_decay,\n",
    "            'valid_loss': valid_loss\n",
    "        })\n",
    "    return records"
   ]
  },
  {
   "cell_type": "markdown",
   "id": "a20d5656",
   "metadata": {},
   "source": [
    "## run random search"
   ]
  },
  {
   "cell_type": "code",
   "execution_count": 60,
   "id": "127efbf4",
   "metadata": {
    "ExecuteTime": {
     "end_time": "2022-01-06T08:38:42.858591Z",
     "start_time": "2022-01-06T08:37:17.631865Z"
    }
   },
   "outputs": [
    {
     "name": "stdout",
     "output_type": "stream",
     "text": [
      "supervised data: shape of x: (25232, 72, 16), shape of y: (25232, 24, 16)\n",
      "model config: batch_size-256, lr-0.01, number_epoch-30, hidden_dim-256, n_layers-3,drop_prob-0,weight_decay-0\n",
      "cross-validation dataset 0\n"
     ]
    },
    {
     "name": "stderr",
     "output_type": "stream",
     "text": [
      "Epoch: 1/30: 100%|████████████████| 83/83 [00:09<00:00,  8.37it/s, train_loss=1.37, valid_loss=1.43]\n",
      "Epoch: 2/30: 100%|████████████████| 83/83 [00:08<00:00,  9.24it/s, train_loss=1.46, valid_loss=1.46]\n",
      "Epoch: 3/30: 100%|████████████████| 83/83 [00:09<00:00,  9.22it/s, train_loss=1.35, valid_loss=1.44]\n",
      "Epoch: 4/30: 100%|████████████████| 83/83 [00:09<00:00,  9.14it/s, train_loss=1.35, valid_loss=1.43]\n",
      "Epoch: 5/30: 100%|████████████████| 83/83 [00:09<00:00,  9.10it/s, train_loss=1.34, valid_loss=1.44]\n",
      "Epoch: 6/30: 100%|████████████████| 83/83 [00:08<00:00,  9.29it/s, train_loss=1.34, valid_loss=1.41]\n",
      "Epoch: 7/30: 100%|█████████████████| 83/83 [00:08<00:00,  9.46it/s, train_loss=1.3, valid_loss=1.39]\n",
      "Epoch: 8/30: 100%|████████████████| 83/83 [00:08<00:00,  9.38it/s, train_loss=1.29, valid_loss=1.33]\n",
      "Epoch: 9/30: 100%|████████████████| 83/83 [00:08<00:00,  9.40it/s, train_loss=1.27, valid_loss=1.32]\n",
      "Epoch: 10/30:  12%|█▊             | 10/83 [00:01<00:08,  8.58it/s, train_loss=1.29, valid_loss=1.35]\n"
     ]
    },
    {
     "ename": "KeyboardInterrupt",
     "evalue": "",
     "output_type": "error",
     "traceback": [
      "\u001b[0;31m---------------------------------------------------------------------------\u001b[0m",
      "\u001b[0;31mKeyboardInterrupt\u001b[0m                         Traceback (most recent call last)",
      "\u001b[0;32m/tmp/ipykernel_74363/3333526162.py\u001b[0m in \u001b[0;36m<module>\u001b[0;34m\u001b[0m\n\u001b[1;32m      1\u001b[0m \u001b[0mrandom_seed_set\u001b[0m\u001b[0;34m(\u001b[0m\u001b[0;36m16\u001b[0m\u001b[0;34m)\u001b[0m\u001b[0;34m\u001b[0m\u001b[0;34m\u001b[0m\u001b[0m\n\u001b[0;32m----> 2\u001b[0;31m \u001b[0mrecords\u001b[0m \u001b[0;34m=\u001b[0m \u001b[0mrun_model_hpo\u001b[0m\u001b[0;34m(\u001b[0m\u001b[0;34m)\u001b[0m\u001b[0;34m\u001b[0m\u001b[0;34m\u001b[0m\u001b[0m\n\u001b[0m",
      "\u001b[0;32m/tmp/ipykernel_74363/2401976714.py\u001b[0m in \u001b[0;36mrun_model_hpo\u001b[0;34m(seq_len, target_len, mse_thresh)\u001b[0m\n\u001b[1;32m     31\u001b[0m             .format(batch_size, lr, number_epoch, hidden_dim, n_layers,\n\u001b[1;32m     32\u001b[0m                     drop_prob, weight_decay))\n\u001b[0;32m---> 33\u001b[0;31m         valid_loss = train_model_hpo(train_x_list, train_y_list, valid_x_list,\n\u001b[0m\u001b[1;32m     34\u001b[0m                                      \u001b[0mvalid_y_list\u001b[0m\u001b[0;34m,\u001b[0m \u001b[0minput_size\u001b[0m\u001b[0;34m,\u001b[0m \u001b[0membedding_size\u001b[0m\u001b[0;34m,\u001b[0m\u001b[0;34m\u001b[0m\u001b[0;34m\u001b[0m\u001b[0m\n\u001b[1;32m     35\u001b[0m                                      \u001b[0mmse_thresh\u001b[0m\u001b[0;34m,\u001b[0m \u001b[0mbatch_size\u001b[0m\u001b[0;34m,\u001b[0m \u001b[0mlr\u001b[0m\u001b[0;34m,\u001b[0m \u001b[0mnumber_epoch\u001b[0m\u001b[0;34m,\u001b[0m\u001b[0;34m\u001b[0m\u001b[0;34m\u001b[0m\u001b[0m\n",
      "\u001b[0;32m/tmp/ipykernel_74363/2019679877.py\u001b[0m in \u001b[0;36mtrain_model_hpo\u001b[0;34m(train_x_list, train_y_list, valid_x_list, valid_y_list, input_size, embedding_size, mse_thresh, batch_size, lr, number_epoch, hidden_dim, n_layers, drop_prob, weight_decay)\u001b[0m\n\u001b[1;32m     52\u001b[0m                             \u001b[0minp\u001b[0m \u001b[0;34m=\u001b[0m \u001b[0minp\u001b[0m\u001b[0;34m.\u001b[0m\u001b[0mto\u001b[0m\u001b[0;34m(\u001b[0m\u001b[0mdevice\u001b[0m\u001b[0;34m)\u001b[0m\u001b[0;34m\u001b[0m\u001b[0;34m\u001b[0m\u001b[0m\n\u001b[1;32m     53\u001b[0m                             \u001b[0mlab\u001b[0m \u001b[0;34m=\u001b[0m \u001b[0mlab\u001b[0m\u001b[0;34m.\u001b[0m\u001b[0mto\u001b[0m\u001b[0;34m(\u001b[0m\u001b[0mdevice\u001b[0m\u001b[0;34m)\u001b[0m\u001b[0;34m\u001b[0m\u001b[0;34m\u001b[0m\u001b[0m\n\u001b[0;32m---> 54\u001b[0;31m                             \u001b[0m_\u001b[0m\u001b[0;34m,\u001b[0m \u001b[0mmu\u001b[0m\u001b[0;34m,\u001b[0m \u001b[0msigma\u001b[0m \u001b[0;34m=\u001b[0m \u001b[0mmodel\u001b[0m\u001b[0;34m(\u001b[0m\u001b[0minp\u001b[0m\u001b[0;34m[\u001b[0m\u001b[0;34m:\u001b[0m\u001b[0;34m,\u001b[0m \u001b[0;34m:\u001b[0m\u001b[0;34m,\u001b[0m \u001b[0;34m:\u001b[0m\u001b[0;34m-\u001b[0m\u001b[0;36m1\u001b[0m\u001b[0;34m]\u001b[0m\u001b[0;34m,\u001b[0m \u001b[0minp\u001b[0m\u001b[0;34m[\u001b[0m\u001b[0;34m:\u001b[0m\u001b[0;34m,\u001b[0m \u001b[0;34m:\u001b[0m\u001b[0;34m,\u001b[0m \u001b[0;34m-\u001b[0m\u001b[0;36m1\u001b[0m\u001b[0;34m:\u001b[0m\u001b[0;34m]\u001b[0m\u001b[0;34m,\u001b[0m \u001b[0mlab\u001b[0m\u001b[0;34m[\u001b[0m\u001b[0;34m:\u001b[0m\u001b[0;34m,\u001b[0m \u001b[0;34m:\u001b[0m\u001b[0;34m,\u001b[0m \u001b[0;34m:\u001b[0m\u001b[0;34m-\u001b[0m\u001b[0;36m1\u001b[0m\u001b[0;34m]\u001b[0m\u001b[0;34m)\u001b[0m\u001b[0;34m\u001b[0m\u001b[0;34m\u001b[0m\u001b[0m\n\u001b[0m\u001b[1;32m     55\u001b[0m                             \u001b[0my\u001b[0m \u001b[0;34m=\u001b[0m \u001b[0mtorch\u001b[0m\u001b[0;34m.\u001b[0m\u001b[0mcat\u001b[0m\u001b[0;34m(\u001b[0m\u001b[0;34m(\u001b[0m\u001b[0minp\u001b[0m\u001b[0;34m[\u001b[0m\u001b[0;34m:\u001b[0m\u001b[0;34m,\u001b[0m \u001b[0;36m1\u001b[0m\u001b[0;34m:\u001b[0m\u001b[0;34m,\u001b[0m \u001b[0;34m-\u001b[0m\u001b[0;36m1\u001b[0m\u001b[0;34m]\u001b[0m\u001b[0;34m,\u001b[0m \u001b[0mlab\u001b[0m\u001b[0;34m[\u001b[0m\u001b[0;34m:\u001b[0m\u001b[0;34m,\u001b[0m \u001b[0;34m:\u001b[0m\u001b[0;34m,\u001b[0m \u001b[0;34m-\u001b[0m\u001b[0;36m1\u001b[0m\u001b[0;34m]\u001b[0m\u001b[0;34m)\u001b[0m\u001b[0;34m,\u001b[0m \u001b[0mdim\u001b[0m\u001b[0;34m=\u001b[0m\u001b[0;36m1\u001b[0m\u001b[0;34m)\u001b[0m\u001b[0;34m\u001b[0m\u001b[0;34m\u001b[0m\u001b[0m\n\u001b[1;32m     56\u001b[0m                             \u001b[0mvalid_loss\u001b[0m \u001b[0;34m=\u001b[0m \u001b[0mcriterion\u001b[0m\u001b[0;34m(\u001b[0m\u001b[0my\u001b[0m\u001b[0;34m,\u001b[0m \u001b[0mmu\u001b[0m\u001b[0;34m,\u001b[0m \u001b[0msigma\u001b[0m\u001b[0;34m)\u001b[0m\u001b[0;34m\u001b[0m\u001b[0;34m\u001b[0m\u001b[0m\n",
      "\u001b[0;32m/home/nslab/miniconda3/envs/pytorch/lib/python3.8/site-packages/torch/nn/modules/module.py\u001b[0m in \u001b[0;36m_call_impl\u001b[0;34m(self, *input, **kwargs)\u001b[0m\n\u001b[1;32m   1049\u001b[0m         if not (self._backward_hooks or self._forward_hooks or self._forward_pre_hooks or _global_backward_hooks\n\u001b[1;32m   1050\u001b[0m                 or _global_forward_hooks or _global_forward_pre_hooks):\n\u001b[0;32m-> 1051\u001b[0;31m             \u001b[0;32mreturn\u001b[0m \u001b[0mforward_call\u001b[0m\u001b[0;34m(\u001b[0m\u001b[0;34m*\u001b[0m\u001b[0minput\u001b[0m\u001b[0;34m,\u001b[0m \u001b[0;34m**\u001b[0m\u001b[0mkwargs\u001b[0m\u001b[0;34m)\u001b[0m\u001b[0;34m\u001b[0m\u001b[0;34m\u001b[0m\u001b[0m\n\u001b[0m\u001b[1;32m   1052\u001b[0m         \u001b[0;31m# Do not call functions when jit is used\u001b[0m\u001b[0;34m\u001b[0m\u001b[0;34m\u001b[0m\u001b[0;34m\u001b[0m\u001b[0m\n\u001b[1;32m   1053\u001b[0m         \u001b[0mfull_backward_hooks\u001b[0m\u001b[0;34m,\u001b[0m \u001b[0mnon_full_backward_hooks\u001b[0m \u001b[0;34m=\u001b[0m \u001b[0;34m[\u001b[0m\u001b[0;34m]\u001b[0m\u001b[0;34m,\u001b[0m \u001b[0;34m[\u001b[0m\u001b[0;34m]\u001b[0m\u001b[0;34m\u001b[0m\u001b[0;34m\u001b[0m\u001b[0m\n",
      "\u001b[0;32m/tmp/ipykernel_74363/4186772119.py\u001b[0m in \u001b[0;36mforward\u001b[0;34m(self, X, y, Xf)\u001b[0m\n\u001b[1;32m     58\u001b[0m             \u001b[0;31m# rnn_out shape (batch_size, 1, hidden_size)\u001b[0m\u001b[0;34m\u001b[0m\u001b[0;34m\u001b[0m\u001b[0;34m\u001b[0m\u001b[0m\n\u001b[1;32m     59\u001b[0m             \u001b[0mrnn_out\u001b[0m \u001b[0;34m=\u001b[0m \u001b[0mnn\u001b[0m\u001b[0;34m.\u001b[0m\u001b[0mfunctional\u001b[0m\u001b[0;34m.\u001b[0m\u001b[0mrelu\u001b[0m\u001b[0;34m(\u001b[0m\u001b[0mrnn_out\u001b[0m\u001b[0;34m)\u001b[0m\u001b[0;34m\u001b[0m\u001b[0;34m\u001b[0m\u001b[0m\n\u001b[0;32m---> 60\u001b[0;31m             \u001b[0mmu\u001b[0m\u001b[0;34m,\u001b[0m \u001b[0msigma\u001b[0m \u001b[0;34m=\u001b[0m \u001b[0mself\u001b[0m\u001b[0;34m.\u001b[0m\u001b[0mgaussian_layer\u001b[0m\u001b[0;34m(\u001b[0m\u001b[0mrnn_out\u001b[0m\u001b[0;34m)\u001b[0m\u001b[0;34m\u001b[0m\u001b[0;34m\u001b[0m\u001b[0m\n\u001b[0m\u001b[1;32m     61\u001b[0m             \u001b[0;31m# mu, sigma shape (batch_size, 1)\u001b[0m\u001b[0;34m\u001b[0m\u001b[0;34m\u001b[0m\u001b[0;34m\u001b[0m\u001b[0m\n\u001b[1;32m     62\u001b[0m             \u001b[0mmu_list\u001b[0m\u001b[0;34m.\u001b[0m\u001b[0mappend\u001b[0m\u001b[0;34m(\u001b[0m\u001b[0mmu\u001b[0m\u001b[0;34m)\u001b[0m\u001b[0;34m\u001b[0m\u001b[0;34m\u001b[0m\u001b[0m\n",
      "\u001b[0;32m/home/nslab/miniconda3/envs/pytorch/lib/python3.8/site-packages/torch/nn/modules/module.py\u001b[0m in \u001b[0;36m_call_impl\u001b[0;34m(self, *input, **kwargs)\u001b[0m\n\u001b[1;32m   1049\u001b[0m         if not (self._backward_hooks or self._forward_hooks or self._forward_pre_hooks or _global_backward_hooks\n\u001b[1;32m   1050\u001b[0m                 or _global_forward_hooks or _global_forward_pre_hooks):\n\u001b[0;32m-> 1051\u001b[0;31m             \u001b[0;32mreturn\u001b[0m \u001b[0mforward_call\u001b[0m\u001b[0;34m(\u001b[0m\u001b[0;34m*\u001b[0m\u001b[0minput\u001b[0m\u001b[0;34m,\u001b[0m \u001b[0;34m**\u001b[0m\u001b[0mkwargs\u001b[0m\u001b[0;34m)\u001b[0m\u001b[0;34m\u001b[0m\u001b[0;34m\u001b[0m\u001b[0m\n\u001b[0m\u001b[1;32m   1052\u001b[0m         \u001b[0;31m# Do not call functions when jit is used\u001b[0m\u001b[0;34m\u001b[0m\u001b[0;34m\u001b[0m\u001b[0;34m\u001b[0m\u001b[0m\n\u001b[1;32m   1053\u001b[0m         \u001b[0mfull_backward_hooks\u001b[0m\u001b[0;34m,\u001b[0m \u001b[0mnon_full_backward_hooks\u001b[0m \u001b[0;34m=\u001b[0m \u001b[0;34m[\u001b[0m\u001b[0;34m]\u001b[0m\u001b[0;34m,\u001b[0m \u001b[0;34m[\u001b[0m\u001b[0;34m]\u001b[0m\u001b[0;34m\u001b[0m\u001b[0;34m\u001b[0m\u001b[0m\n",
      "\u001b[0;32m/tmp/ipykernel_74363/3721684664.py\u001b[0m in \u001b[0;36mforward\u001b[0;34m(self, h)\u001b[0m\n\u001b[1;32m     13\u001b[0m         \u001b[0mmu\u001b[0m \u001b[0;34m=\u001b[0m \u001b[0mself\u001b[0m\u001b[0;34m.\u001b[0m\u001b[0mmu_layer\u001b[0m\u001b[0;34m(\u001b[0m\u001b[0mh\u001b[0m\u001b[0;34m)\u001b[0m\u001b[0;34m\u001b[0m\u001b[0;34m\u001b[0m\u001b[0m\n\u001b[1;32m     14\u001b[0m \u001b[0;34m\u001b[0m\u001b[0m\n\u001b[0;32m---> 15\u001b[0;31m         \u001b[0msigma\u001b[0m \u001b[0;34m=\u001b[0m \u001b[0mtorch\u001b[0m\u001b[0;34m.\u001b[0m\u001b[0mlog\u001b[0m\u001b[0;34m(\u001b[0m\u001b[0;36m1\u001b[0m \u001b[0;34m+\u001b[0m \u001b[0mtorch\u001b[0m\u001b[0;34m.\u001b[0m\u001b[0mexp\u001b[0m\u001b[0;34m(\u001b[0m\u001b[0mself\u001b[0m\u001b[0;34m.\u001b[0m\u001b[0msigma_layer\u001b[0m\u001b[0;34m(\u001b[0m\u001b[0mh\u001b[0m\u001b[0;34m)\u001b[0m\u001b[0;34m)\u001b[0m\u001b[0;34m)\u001b[0m\u001b[0;34m\u001b[0m\u001b[0;34m\u001b[0m\u001b[0m\n\u001b[0m\u001b[1;32m     16\u001b[0m         \u001b[0;31m# ***这里需要加1e-6?***\u001b[0m\u001b[0;34m\u001b[0m\u001b[0;34m\u001b[0m\u001b[0;34m\u001b[0m\u001b[0m\n\u001b[1;32m     17\u001b[0m \u001b[0;34m\u001b[0m\u001b[0m\n",
      "\u001b[0;31mKeyboardInterrupt\u001b[0m: "
     ]
    }
   ],
   "source": [
    "random_seed_set(16)\n",
    "records = run_model_hpo()"
   ]
  },
  {
   "cell_type": "markdown",
   "id": "12970fa1",
   "metadata": {
    "ExecuteTime": {
     "end_time": "2021-12-22T08:52:06.844501Z",
     "start_time": "2021-12-22T08:52:06.830928Z"
    }
   },
   "source": [
    "## find the best hyper-parameters"
   ]
  },
  {
   "cell_type": "code",
   "execution_count": 24,
   "id": "c7c6d0c6",
   "metadata": {
    "ExecuteTime": {
     "end_time": "2022-01-06T03:34:28.347414Z",
     "start_time": "2022-01-06T03:34:28.317066Z"
    }
   },
   "outputs": [
    {
     "data": {
      "text/html": [
       "<div>\n",
       "<style scoped>\n",
       "    .dataframe tbody tr th:only-of-type {\n",
       "        vertical-align: middle;\n",
       "    }\n",
       "\n",
       "    .dataframe tbody tr th {\n",
       "        vertical-align: top;\n",
       "    }\n",
       "\n",
       "    .dataframe thead th {\n",
       "        text-align: right;\n",
       "    }\n",
       "</style>\n",
       "<table border=\"1\" class=\"dataframe\">\n",
       "  <thead>\n",
       "    <tr style=\"text-align: right;\">\n",
       "      <th></th>\n",
       "      <th>batch_size</th>\n",
       "      <th>lr</th>\n",
       "      <th>number_epoch</th>\n",
       "      <th>hidden_dim</th>\n",
       "      <th>n_layers</th>\n",
       "      <th>drop_prob</th>\n",
       "      <th>weight_decay</th>\n",
       "      <th>valid_loss</th>\n",
       "    </tr>\n",
       "  </thead>\n",
       "  <tbody>\n",
       "    <tr>\n",
       "      <th>1</th>\n",
       "      <td>256</td>\n",
       "      <td>0.01</td>\n",
       "      <td>30</td>\n",
       "      <td>64</td>\n",
       "      <td>2</td>\n",
       "      <td>0</td>\n",
       "      <td>0</td>\n",
       "      <td>0.001116</td>\n",
       "    </tr>\n",
       "    <tr>\n",
       "      <th>4</th>\n",
       "      <td>256</td>\n",
       "      <td>0.01</td>\n",
       "      <td>30</td>\n",
       "      <td>64</td>\n",
       "      <td>3</td>\n",
       "      <td>0</td>\n",
       "      <td>0</td>\n",
       "      <td>0.001196</td>\n",
       "    </tr>\n",
       "    <tr>\n",
       "      <th>0</th>\n",
       "      <td>256</td>\n",
       "      <td>0.01</td>\n",
       "      <td>30</td>\n",
       "      <td>128</td>\n",
       "      <td>3</td>\n",
       "      <td>0</td>\n",
       "      <td>0</td>\n",
       "      <td>0.001244</td>\n",
       "    </tr>\n",
       "    <tr>\n",
       "      <th>2</th>\n",
       "      <td>256</td>\n",
       "      <td>0.01</td>\n",
       "      <td>30</td>\n",
       "      <td>128</td>\n",
       "      <td>2</td>\n",
       "      <td>0</td>\n",
       "      <td>0</td>\n",
       "      <td>0.001301</td>\n",
       "    </tr>\n",
       "    <tr>\n",
       "      <th>3</th>\n",
       "      <td>256</td>\n",
       "      <td>0.01</td>\n",
       "      <td>30</td>\n",
       "      <td>256</td>\n",
       "      <td>3</td>\n",
       "      <td>0</td>\n",
       "      <td>0</td>\n",
       "      <td>0.002440</td>\n",
       "    </tr>\n",
       "    <tr>\n",
       "      <th>5</th>\n",
       "      <td>256</td>\n",
       "      <td>0.01</td>\n",
       "      <td>30</td>\n",
       "      <td>256</td>\n",
       "      <td>2</td>\n",
       "      <td>0</td>\n",
       "      <td>0</td>\n",
       "      <td>0.034524</td>\n",
       "    </tr>\n",
       "  </tbody>\n",
       "</table>\n",
       "</div>"
      ],
      "text/plain": [
       "   batch_size    lr  number_epoch  hidden_dim  n_layers  drop_prob  \\\n",
       "1         256  0.01            30          64         2          0   \n",
       "4         256  0.01            30          64         3          0   \n",
       "0         256  0.01            30         128         3          0   \n",
       "2         256  0.01            30         128         2          0   \n",
       "3         256  0.01            30         256         3          0   \n",
       "5         256  0.01            30         256         2          0   \n",
       "\n",
       "   weight_decay  valid_loss  \n",
       "1             0    0.001116  \n",
       "4             0    0.001196  \n",
       "0             0    0.001244  \n",
       "2             0    0.001301  \n",
       "3             0    0.002440  \n",
       "5             0    0.034524  "
      ]
     },
     "execution_count": 24,
     "metadata": {},
     "output_type": "execute_result"
    }
   ],
   "source": [
    "records = pd.DataFrame(records).sort_values(by='valid_loss')\n",
    "records.to_csv('./records/Deep_AR_records.csv', mode='a', index=False, header=False)\n",
    "records"
   ]
  },
  {
   "cell_type": "markdown",
   "id": "c206c377",
   "metadata": {},
   "source": [
    "## retrain a model"
   ]
  },
  {
   "cell_type": "code",
   "execution_count": 73,
   "id": "c7dcd186",
   "metadata": {
    "ExecuteTime": {
     "end_time": "2022-01-06T08:58:25.144459Z",
     "start_time": "2022-01-06T08:58:25.117090Z"
    }
   },
   "outputs": [],
   "source": [
    "def train_model(train_x, train_y, valid_x, valid_y, input_size, embedding_size,\n",
    "                mse_thresh, batch_size, lr, number_epoch, hidden_dim, n_layers,\n",
    "                drop_prob, weight_decay):\n",
    "    while (1):\n",
    "        model = DeepAR(input_size, embedding_size, hidden_dim, n_layers,\n",
    "                       drop_prob)\n",
    "        model.to(device=device)\n",
    "        criterion = gaussian_log_likelihood_loss\n",
    "        optimizer = torch.optim.Adam(model.parameters(),\n",
    "                                     lr=lr,\n",
    "                                     weight_decay=weight_decay)\n",
    "        scheduler = torch.optim.lr_scheduler.StepLR(optimizer, 1, gamma=0.98)\n",
    "        valid_loss_min = np.Inf\n",
    "        train_dataset = TensorDataset(torch.FloatTensor(train_x),\n",
    "                                      torch.FloatTensor(train_y))\n",
    "        valid_dataset = TensorDataset(torch.FloatTensor(valid_x),\n",
    "                                      torch.FloatTensor(valid_y))\n",
    "        train_loader = DataLoader(dataset=train_dataset,\n",
    "                                  batch_size=batch_size,\n",
    "                                  shuffle=True,\n",
    "                                  drop_last=False)\n",
    "        valid_loader = DataLoader(dataset=valid_dataset,\n",
    "                                  batch_size=batch_size,\n",
    "                                  shuffle=True,\n",
    "                                  drop_last=False)\n",
    "        num_without_imp = 0\n",
    "        train_loss_list = []\n",
    "        valid_loss_list = []\n",
    "        # training process\n",
    "        for epoch in range(1, number_epoch + 1):\n",
    "            loop = tqdm(enumerate(train_loader),\n",
    "                        total=len(train_loader),\n",
    "                        leave=True,\n",
    "                        ncols=100)\n",
    "            for i, (inputs, labels) in loop:\n",
    "                inputs = inputs.to(device=device)\n",
    "                labels = labels.to(device=device)\n",
    "                optimizer.zero_grad()\n",
    "                _, mu, sigma = model(inputs[:, :, :-1], inputs[:, :, -1:], labels[:, :, :-1])\n",
    "                y = torch.cat((inputs[:, 1:, -1], labels[:, :, -1]), dim=-1)\n",
    "                loss = criterion(y, mu, sigma)\n",
    "                loss.backward()\n",
    "                optimizer.step()\n",
    "                if i % 5 == 0:\n",
    "                    num_without_imp = num_without_imp + 1\n",
    "                    valid_losses = list()\n",
    "                    model.eval()\n",
    "                    for inp, lab in valid_loader:\n",
    "                        inp = inp.to(device)\n",
    "                        lab = lab.to(device)\n",
    "                        _, mu, sigma = model(inp[:, :, :-1], inp[:, :, -1:], lab[:, :, :-1])\n",
    "                        y = torch.cat((inp[:, 1:, -1], lab[:, :, -1]), dim=1)\n",
    "                        valid_loss = criterion(y, mu, sigma)\n",
    "                        valid_losses.append(valid_loss.item())\n",
    "\n",
    "                    model.train()\n",
    "                    loop.set_description(\"Epoch: {}/{}\".format(\n",
    "                        epoch, number_epoch))\n",
    "                    loop.set_postfix(train_loss=loss.item(),\n",
    "                                     valid_loss=np.mean(valid_losses))\n",
    "\n",
    "                    train_loss_list.append(loss.item())\n",
    "                    valid_loss_list.append(np.mean(valid_losses))\n",
    "                    if np.mean(valid_losses) < valid_loss_min:\n",
    "                        num_without_imp = 0\n",
    "                        torch.save(model.state_dict(),\n",
    "                                   './model/GRU_AR_state_dict.pt')\n",
    "                        valid_loss_min = np.mean(valid_losses)\n",
    "            scheduler.step()\n",
    "        if valid_loss_min < mse_thresh:\n",
    "            break\n",
    "    return model, train_loss_list, valid_loss_list"
   ]
  },
  {
   "cell_type": "markdown",
   "id": "b77552fb",
   "metadata": {},
   "source": [
    "## test results"
   ]
  },
  {
   "cell_type": "code",
   "execution_count": 97,
   "id": "fcebcc0f",
   "metadata": {
    "ExecuteTime": {
     "end_time": "2022-01-06T09:19:29.146807Z",
     "start_time": "2022-01-06T09:19:29.128612Z"
    }
   },
   "outputs": [],
   "source": [
    "def test_model(model, test_x, test_y, target_len, scaler_y, batch_size):\n",
    "    test_dataset = TensorDataset(torch.FloatTensor(test_x),\n",
    "                                 torch.FloatTensor(test_y))\n",
    "    test_loader = DataLoader(dataset=test_dataset,\n",
    "                             batch_size=batch_size,\n",
    "                             shuffle=False,\n",
    "                             drop_last=True)\n",
    "    model.load_state_dict(torch.load('./model/GRU_AR_state_dict.pt'))\n",
    "    y_pred = []\n",
    "    y_true = []\n",
    "    with torch.no_grad():\n",
    "        model.eval()\n",
    "        for inputs, labels in test_loader:\n",
    "            inputs = inputs.to(device)\n",
    "            labels = labels.to(device)\n",
    "            for i in range(n_samples):\n",
    "                outputs, _, _ = model(inputs[:, :, :-1], inputs[:, :, -1:], labels[:, :, :-1])\n",
    "                # outputs.shape (batch_size, tar_len)\n",
    "                y_pred.append(np.expand_dims(outputs.cpu().numpy(), axis=2))        \n",
    "        y_true += labels[:, :, -1].cpu().numpy().flatten().tolist()\n",
    "        \n",
    "    y_pred = np.concatenate(y_pred, axis=2)\n",
    "    # y_pred shape (batch_size, tar_len, n_samples)\n",
    "    \n",
    "    y_pred = np.quantile(y_pred, 0.5, axis=2).reshape(-1, 1)\n",
    "    y_true = np.array(y_true).reshape(-1, 1)\n",
    "    #     pdb.set_trace()\n",
    "    load_pred = scaler_y.inverse_transform(y_pred)\n",
    "    load_true = scaler_y.inverse_transform(y_true)\n",
    "    MAPE = np.mean(np.abs(load_true - load_pred) / load_true)\n",
    "    MAE = np.mean(np.abs(load_true - load_pred))\n",
    "    RMSE = np.sqrt(np.mean(np.square(load_true - load_pred)))\n",
    "    return MAPE, MAE, RMSE, load_pred, load_true"
   ]
  },
  {
   "cell_type": "markdown",
   "id": "fb86c804",
   "metadata": {},
   "source": [
    "## run model retraining"
   ]
  },
  {
   "cell_type": "code",
   "execution_count": 106,
   "id": "503e4d78",
   "metadata": {
    "ExecuteTime": {
     "end_time": "2022-01-06T12:45:54.039449Z",
     "start_time": "2022-01-06T12:45:54.022257Z"
    }
   },
   "outputs": [],
   "source": [
    "def run_model_retraining(seq_len=seq_len,\n",
    "                         target_len=target_len,\n",
    "                         mse_thresh=mse_thresh):\n",
    "    train_data = data[:int(0.8 * len(data))]\n",
    "    #     train_data = data[:-800]\n",
    "    train_data, scaler, scaler_y = normalization(train_data)\n",
    "    train_x, train_y = series_to_supervise(train_data, seq_len, target_len)\n",
    "\n",
    "    valid_x = train_x[int(0.8 * len(train_x)):]\n",
    "    valid_y = train_y[int(0.8 * len(train_y)):]\n",
    "    train_x = train_x[:int(0.8 * len(train_x))]\n",
    "    train_y = train_y[:int(0.8 * len(train_y))]\n",
    "    input_size = train_x.shape[2] - 1\n",
    "\n",
    "    #     hyper-parameters define\n",
    "    batch_size = 256\n",
    "    lr = 0.001\n",
    "    number_epoch = 80\n",
    "    hidden_dim = 64 # 128\n",
    "    n_layers = 2 # 3\n",
    "    drop_prob = 0\n",
    "    weight_decay = 0\n",
    "    mse_thresh = 10 # 0.01\n",
    "\n",
    "    model, train_loss_list, valid_loss_list = train_model(\n",
    "        train_x, train_y, valid_x, valid_y, input_size, embedding_size,\n",
    "        mse_thresh, batch_size, lr, number_epoch, hidden_dim, n_layers,\n",
    "        drop_prob, weight_decay)\n",
    "\n",
    "    # plot training process\n",
    "    plt.plot(train_loss_list[10:], 'm', label='train_loss')\n",
    "    plt.plot(valid_loss_list[10:], 'g', label='valid_loss')\n",
    "    plt.grid('both')\n",
    "    plt.legend()\n",
    "\n",
    "    # test\n",
    "    test_data = data[int(0.8 * len(data)):]\n",
    "    #     test_data = data[-800:]\n",
    "    test_data = scaler.transform(test_data)\n",
    "    test_x, test_y = series_to_supervise(test_data, seq_len, target_len)\n",
    "    MAPE, MAE, RMSE, load_pred, load_true = test_model(model, test_x, test_y,\n",
    "                                                       target_len, scaler_y,\n",
    "                                                       batch_size)\n",
    "    return MAPE, MAE, RMSE, load_pred, load_true"
   ]
  },
  {
   "cell_type": "code",
   "execution_count": 107,
   "id": "87166bbc",
   "metadata": {
    "ExecuteTime": {
     "end_time": "2022-01-06T12:57:26.922375Z",
     "start_time": "2022-01-06T12:45:55.886386Z"
    }
   },
   "outputs": [
    {
     "name": "stdout",
     "output_type": "stream",
     "text": [
      "supervised data: shape of x: (25232, 72, 16), shape of y: (25232, 24, 16)\n"
     ]
    },
    {
     "name": "stderr",
     "output_type": "stream",
     "text": [
      "Epoch: 1/80: 100%|████████████████| 79/79 [00:08<00:00,  9.78it/s, train_loss=1.21, valid_loss=1.25]\n",
      "Epoch: 2/80: 100%|████████████████| 79/79 [00:08<00:00,  9.57it/s, train_loss=1.13, valid_loss=1.15]\n",
      "Epoch: 3/80: 100%|████████████████| 79/79 [00:08<00:00,  9.69it/s, train_loss=1.11, valid_loss=1.15]\n",
      "Epoch: 4/80: 100%|█████████████████| 79/79 [00:08<00:00,  9.47it/s, train_loss=1.1, valid_loss=1.11]\n",
      "Epoch: 5/80: 100%|████████████████| 79/79 [00:08<00:00,  9.70it/s, train_loss=1.08, valid_loss=1.09]\n",
      "Epoch: 6/80: 100%|████████████████| 79/79 [00:08<00:00,  9.56it/s, train_loss=1.07, valid_loss=1.08]\n",
      "Epoch: 7/80: 100%|████████████████| 79/79 [00:08<00:00,  9.67it/s, train_loss=1.05, valid_loss=1.06]\n",
      "Epoch: 8/80: 100%|████████████████| 79/79 [00:08<00:00,  9.38it/s, train_loss=1.04, valid_loss=1.05]\n",
      "Epoch: 9/80: 100%|████████████████| 79/79 [00:08<00:00,  9.69it/s, train_loss=1.05, valid_loss=1.05]\n",
      "Epoch: 10/80: 100%|███████████████| 79/79 [00:08<00:00,  9.55it/s, train_loss=1.04, valid_loss=1.04]\n",
      "Epoch: 11/80: 100%|███████████████| 79/79 [00:08<00:00,  9.47it/s, train_loss=1.03, valid_loss=1.04]\n",
      "Epoch: 12/80: 100%|███████████████| 79/79 [00:08<00:00,  9.46it/s, train_loss=1.02, valid_loss=1.04]\n",
      "Epoch: 13/80: 100%|███████████████| 79/79 [00:08<00:00,  9.56it/s, train_loss=1.02, valid_loss=1.03]\n",
      "Epoch: 14/80: 100%|███████████████| 79/79 [00:08<00:00,  9.67it/s, train_loss=1.02, valid_loss=1.04]\n",
      "Epoch: 15/80: 100%|███████████████| 79/79 [00:08<00:00,  9.54it/s, train_loss=1.01, valid_loss=1.03]\n",
      "Epoch: 16/80: 100%|███████████████| 79/79 [00:08<00:00,  9.50it/s, train_loss=1.01, valid_loss=1.02]\n",
      "Epoch: 17/80: 100%|███████████████| 79/79 [00:08<00:00,  9.55it/s, train_loss=1.01, valid_loss=1.03]\n",
      "Epoch: 18/80: 100%|███████████████| 79/79 [00:08<00:00,  9.64it/s, train_loss=1.01, valid_loss=1.02]\n",
      "Epoch: 19/80: 100%|███████████████| 79/79 [00:08<00:00,  9.41it/s, train_loss=1.01, valid_loss=1.02]\n",
      "Epoch: 20/80: 100%|███████████████| 79/79 [00:08<00:00,  9.77it/s, train_loss=1.01, valid_loss=1.02]\n",
      "Epoch: 21/80: 100%|███████████████| 79/79 [00:08<00:00,  9.66it/s, train_loss=1.01, valid_loss=1.02]\n",
      "Epoch: 22/80: 100%|██████████████████| 79/79 [00:08<00:00,  9.59it/s, train_loss=1, valid_loss=1.01]\n",
      "Epoch: 23/80: 100%|██████████████| 79/79 [00:08<00:00,  9.41it/s, train_loss=0.999, valid_loss=1.01]\n",
      "Epoch: 24/80: 100%|██████████████████| 79/79 [00:08<00:00,  9.55it/s, train_loss=1, valid_loss=1.01]\n",
      "Epoch: 25/80: 100%|██████████████████| 79/79 [00:08<00:00,  9.61it/s, train_loss=1, valid_loss=1.01]\n",
      "Epoch: 26/80: 100%|██████████████████| 79/79 [00:08<00:00,  9.36it/s, train_loss=1, valid_loss=1.01]\n",
      "Epoch: 27/80: 100%|██████████████| 79/79 [00:08<00:00,  9.33it/s, train_loss=0.998, valid_loss=1.01]\n",
      "Epoch: 28/80: 100%|██████████████| 79/79 [00:08<00:00,  9.67it/s, train_loss=0.996, valid_loss=1.01]\n",
      "Epoch: 29/80: 100%|██████████████████| 79/79 [00:08<00:00,  9.63it/s, train_loss=1, valid_loss=1.01]\n",
      "Epoch: 30/80: 100%|██████████████| 79/79 [00:08<00:00,  9.48it/s, train_loss=0.995, valid_loss=1.01]\n",
      "Epoch: 31/80: 100%|██████████████| 79/79 [00:08<00:00,  9.41it/s, train_loss=0.995, valid_loss=1.01]\n",
      "Epoch: 32/80: 100%|██████████████| 79/79 [00:08<00:00,  9.59it/s, train_loss=0.997, valid_loss=1.01]\n",
      "Epoch: 33/80: 100%|██████████████| 79/79 [00:08<00:00,  9.52it/s, train_loss=0.995, valid_loss=1.01]\n",
      "Epoch: 34/80: 100%|█████████████████| 79/79 [00:08<00:00,  9.73it/s, train_loss=0.992, valid_loss=1]\n",
      "Epoch: 35/80: 100%|█████████████████| 79/79 [00:08<00:00,  9.43it/s, train_loss=0.995, valid_loss=1]\n",
      "Epoch: 36/80: 100%|█████████████████| 79/79 [00:08<00:00,  9.78it/s, train_loss=0.992, valid_loss=1]\n",
      "Epoch: 37/80: 100%|█████████████████| 79/79 [00:08<00:00,  9.79it/s, train_loss=0.991, valid_loss=1]\n",
      "Epoch: 38/80: 100%|█████████████████| 79/79 [00:08<00:00,  9.73it/s, train_loss=0.991, valid_loss=1]\n",
      "Epoch: 39/80: 100%|█████████████████| 79/79 [00:08<00:00,  9.48it/s, train_loss=0.994, valid_loss=1]\n",
      "Epoch: 40/80: 100%|█████████████████| 79/79 [00:08<00:00,  9.84it/s, train_loss=0.991, valid_loss=1]\n",
      "Epoch: 41/80: 100%|█████████████| 79/79 [00:08<00:00,  9.53it/s, train_loss=0.993, valid_loss=0.998]\n",
      "Epoch: 42/80: 100%|██████████████████| 79/79 [00:08<00:00,  9.51it/s, train_loss=0.99, valid_loss=1]\n",
      "Epoch: 43/80: 100%|█████████████████| 79/79 [00:08<00:00,  9.50it/s, train_loss=0.991, valid_loss=1]\n",
      "Epoch: 44/80: 100%|█████████████| 79/79 [00:08<00:00,  9.46it/s, train_loss=0.991, valid_loss=0.998]\n",
      "Epoch: 45/80: 100%|█████████████████| 79/79 [00:08<00:00,  9.62it/s, train_loss=0.989, valid_loss=1]\n",
      "Epoch: 46/80: 100%|█████████████| 79/79 [00:08<00:00,  9.41it/s, train_loss=0.988, valid_loss=0.997]\n",
      "Epoch: 47/80: 100%|██████████████| 79/79 [00:08<00:00,  9.62it/s, train_loss=0.99, valid_loss=0.998]\n",
      "Epoch: 48/80: 100%|██████████████| 79/79 [00:08<00:00,  9.58it/s, train_loss=0.99, valid_loss=0.999]\n",
      "Epoch: 49/80: 100%|██████████████| 79/79 [00:08<00:00,  9.69it/s, train_loss=0.99, valid_loss=0.996]\n",
      "Epoch: 50/80: 100%|█████████████| 79/79 [00:08<00:00,  9.40it/s, train_loss=0.988, valid_loss=0.997]\n",
      "Epoch: 51/80: 100%|█████████████| 79/79 [00:08<00:00,  9.53it/s, train_loss=0.986, valid_loss=0.997]\n",
      "Epoch: 52/80: 100%|█████████████| 79/79 [00:08<00:00,  9.59it/s, train_loss=0.985, valid_loss=0.995]\n",
      "Epoch: 53/80: 100%|█████████████| 79/79 [00:08<00:00,  9.47it/s, train_loss=0.987, valid_loss=0.996]\n",
      "Epoch: 54/80: 100%|█████████████| 79/79 [00:08<00:00,  9.25it/s, train_loss=0.989, valid_loss=0.995]\n",
      "Epoch: 55/80: 100%|█████████████| 79/79 [00:08<00:00,  9.45it/s, train_loss=0.988, valid_loss=0.997]\n",
      "Epoch: 56/80: 100%|█████████████| 79/79 [00:08<00:00,  9.44it/s, train_loss=0.987, valid_loss=0.995]\n",
      "Epoch: 57/80: 100%|█████████████| 79/79 [00:08<00:00,  9.58it/s, train_loss=0.985, valid_loss=0.995]\n",
      "Epoch: 58/80: 100%|█████████████| 79/79 [00:08<00:00,  9.29it/s, train_loss=0.986, valid_loss=0.996]\n",
      "Epoch: 59/80: 100%|█████████████| 79/79 [00:08<00:00,  9.50it/s, train_loss=0.987, valid_loss=0.996]\n",
      "Epoch: 60/80: 100%|█████████████| 79/79 [00:08<00:00,  9.61it/s, train_loss=0.985, valid_loss=0.995]\n",
      "Epoch: 61/80: 100%|█████████████| 79/79 [00:08<00:00,  9.62it/s, train_loss=0.986, valid_loss=0.994]\n",
      "Epoch: 62/80: 100%|█████████████| 79/79 [00:08<00:00,  9.57it/s, train_loss=0.985, valid_loss=0.995]\n",
      "Epoch: 63/80: 100%|█████████████| 79/79 [00:08<00:00,  9.63it/s, train_loss=0.985, valid_loss=0.995]\n",
      "Epoch: 64/80: 100%|█████████████| 79/79 [00:08<00:00,  9.54it/s, train_loss=0.986, valid_loss=0.994]\n",
      "Epoch: 65/80: 100%|█████████████| 79/79 [00:08<00:00,  9.50it/s, train_loss=0.984, valid_loss=0.994]\n",
      "Epoch: 66/80: 100%|█████████████| 79/79 [00:08<00:00,  9.36it/s, train_loss=0.984, valid_loss=0.994]\n",
      "Epoch: 67/80: 100%|█████████████| 79/79 [00:08<00:00,  9.60it/s, train_loss=0.985, valid_loss=0.992]\n",
      "Epoch: 68/80: 100%|█████████████| 79/79 [00:08<00:00,  9.68it/s, train_loss=0.984, valid_loss=0.993]\n",
      "Epoch: 69/80: 100%|█████████████| 79/79 [00:08<00:00,  9.72it/s, train_loss=0.984, valid_loss=0.993]\n",
      "Epoch: 70/80: 100%|█████████████| 79/79 [00:08<00:00,  9.45it/s, train_loss=0.985, valid_loss=0.993]\n",
      "Epoch: 71/80: 100%|█████████████| 79/79 [00:08<00:00,  9.63it/s, train_loss=0.984, valid_loss=0.992]\n",
      "Epoch: 72/80: 100%|█████████████| 79/79 [00:08<00:00,  9.46it/s, train_loss=0.983, valid_loss=0.994]\n",
      "Epoch: 73/80: 100%|█████████████| 79/79 [00:08<00:00,  9.51it/s, train_loss=0.984, valid_loss=0.992]\n",
      "Epoch: 74/80: 100%|█████████████| 79/79 [00:08<00:00,  9.44it/s, train_loss=0.982, valid_loss=0.992]\n",
      "Epoch: 75/80: 100%|█████████████| 79/79 [00:08<00:00,  9.54it/s, train_loss=0.981, valid_loss=0.992]\n",
      "Epoch: 76/80: 100%|█████████████| 79/79 [00:08<00:00,  9.57it/s, train_loss=0.984, valid_loss=0.992]\n",
      "Epoch: 77/80: 100%|█████████████| 79/79 [00:08<00:00,  9.31it/s, train_loss=0.982, valid_loss=0.994]\n",
      "Epoch: 78/80: 100%|█████████████| 79/79 [00:08<00:00,  9.50it/s, train_loss=0.982, valid_loss=0.992]\n",
      "Epoch: 79/80: 100%|█████████████| 79/79 [00:08<00:00,  9.39it/s, train_loss=0.983, valid_loss=0.992]\n",
      "Epoch: 80/80: 100%|█████████████| 79/79 [00:08<00:00,  9.44it/s, train_loss=0.983, valid_loss=0.991]\n"
     ]
    },
    {
     "name": "stdout",
     "output_type": "stream",
     "text": [
      "supervised data: shape of x: (6237, 72, 16), shape of y: (6237, 24, 16)\n",
      "MAPE:0.21841700482538529, MAE:3515.0726682061854, RMSE:4056.7792133253884\n"
     ]
    },
    {
     "data": {
      "image/png": "[encoded data removed]",
      "text/plain": [
       "<Figure size 432x288 with 1 Axes>"
      ]
     },
     "metadata": {
      "needs_background": "light"
     },
     "output_type": "display_data"
    }
   ],
   "source": [
    "random_seed_set(16)\n",
    "MAPE, MAE, RMSE, load_pred, load_true = run_model_retraining()\n",
    "print('MAPE:{}, MAE:{}, RMSE:{}'.format(MAPE, MAE, RMSE))"
   ]
  },
  {
   "cell_type": "code",
   "execution_count": 102,
   "id": "ea981bee",
   "metadata": {
    "ExecuteTime": {
     "end_time": "2022-01-06T09:34:07.421005Z",
     "start_time": "2022-01-06T09:34:07.415073Z"
    }
   },
   "outputs": [
    {
     "name": "stdout",
     "output_type": "stream",
     "text": [
      "MAPE:0.2179517298546966, MAE:3492.5660761520007, RMSE:4019.7727873249155\n"
     ]
    }
   ],
   "source": [
    "print('MAPE:{}, MAE:{}, RMSE:{}'.format(MAPE, MAE, RMSE))"
   ]
  },
  {
   "cell_type": "markdown",
   "id": "b8158e63",
   "metadata": {},
   "source": [
    "## figure plot"
   ]
  },
  {
   "cell_type": "code",
   "execution_count": 103,
   "id": "4b9c51c7",
   "metadata": {
    "ExecuteTime": {
     "end_time": "2022-01-06T09:34:09.287489Z",
     "start_time": "2022-01-06T09:34:09.125214Z"
    }
   },
   "outputs": [
    {
     "data": {
      "text/plain": [
       "(0.0, 20593.280584043205)"
      ]
     },
     "execution_count": 103,
     "metadata": {},
     "output_type": "execute_result"
    },
    {
     "data": {
      "image/png": "[encoded data removed]",
      "text/plain": [
       "<Figure size 1440x720 with 1 Axes>"
      ]
     },
     "metadata": {
      "needs_background": "light"
     },
     "output_type": "display_data"
    }
   ],
   "source": [
    "\n",
    "plt.figure(figsize=(20, 10))\n",
    "load_pred = load_pred.reshape(-1, target_len)\n",
    "load_true = load_true.reshape(-1, target_len)\n",
    "plt.plot(load_pred[:240,23], 'm')\n",
    "plt.plot(load_true[:240,23], 'g')\n",
    "plt.ylim(0)"
   ]
  }
 ],
 "metadata": {
  "kernelspec": {
   "display_name": "Python 3 (ipykernel)",
   "language": "python",
   "name": "python3"
  },
  "language_info": {
   "codemirror_mode": {
    "name": "ipython",
    "version": 3
   },
   "file_extension": ".py",
   "mimetype": "text/x-python",
   "name": "python",
   "nbconvert_exporter": "python",
   "pygments_lexer": "ipython3",
   "version": "3.8.12"
  },
  "toc": {
   "base_numbering": 1,
   "nav_menu": {},
   "number_sections": true,
   "sideBar": true,
   "skip_h1_title": false,
   "title_cell": "Table of Contents",
   "title_sidebar": "Contents",
   "toc_cell": false,
   "toc_position": {
    "height": "calc(100% - 180px)",
    "left": "10px",
    "top": "150px",
    "width": "374.391px"
   },
   "toc_section_display": true,
   "toc_window_display": true
  },
  "varInspector": {
   "cols": {
    "lenName": 16,
    "lenType": 16,
    "lenVar": 40
   },
   "kernels_config": {
    "python": {
     "delete_cmd_postfix": "",
     "delete_cmd_prefix": "del ",
     "library": "var_list.py",
     "varRefreshCmd": "print(var_dic_list())"
    },
    "r": {
     "delete_cmd_postfix": ") ",
     "delete_cmd_prefix": "rm(",
     "library": "var_list.r",
     "varRefreshCmd": "cat(var_dic_list()) "
    }
   },
   "oldHeight": 320.844,
   "position": {
    "height": "342.844px",
    "left": "1482px",
    "right": "20px",
    "top": "127px",
    "width": "350px"
   },
   "types_to_exclude": [
    "module",
    "function",
    "builtin_function_or_method",
    "instance",
    "_Feature"
   ],
   "varInspector_section_display": "block",
   "window_display": false
  }
 },
 "nbformat": 4,
 "nbformat_minor": 5
}
