{
 "cells": [
  {
   "cell_type": "markdown",
   "id": "4f563853",
   "metadata": {},
   "source": [
    "# CNN-RNN for forecast"
   ]
  },
  {
   "cell_type": "markdown",
   "id": "8c41dd79",
   "metadata": {},
   "source": [
    "**modified versions**\n",
    "1. 实现\n",
    "2. 均值归一化（MAPE与MAE有所提升）"
   ]
  },
  {
   "cell_type": "code",
   "execution_count": 26,
   "id": "d6e0b393",
   "metadata": {
    "ExecuteTime": {
     "end_time": "2022-01-09T07:45:51.145238Z",
     "start_time": "2022-01-09T07:45:51.136171Z"
    }
   },
   "outputs": [],
   "source": [
    "import pandas as pd\n",
    "import numpy as np\n",
    "import matplotlib.pyplot as plt\n",
    "import pdb\n",
    "import torch\n",
    "import torch.nn as nn\n",
    "import random\n",
    "\n",
    "from sklearn.preprocessing import MinMaxScaler\n",
    "from sklearn.model_selection import train_test_split, TimeSeriesSplit\n",
    "from torch.autograd import Variable\n",
    "from torch.utils.data import TensorDataset, DataLoader\n",
    "from tqdm import tqdm\n",
    "from torchsummary import summary\n",
    "\n",
    "if torch.cuda.is_available():  \n",
    "    dev = \"cuda:0\" \n",
    "else:  \n",
    "    dev = \"cpu\"\n",
    "device = torch.device(dev)"
   ]
  },
  {
   "cell_type": "code",
   "execution_count": 27,
   "id": "f25886a3",
   "metadata": {
    "ExecuteTime": {
     "end_time": "2022-01-09T07:45:51.154341Z",
     "start_time": "2022-01-09T07:45:51.148559Z"
    }
   },
   "outputs": [],
   "source": [
    "def random_seed_set(seed):\n",
    "    np.random.seed(seed)\n",
    "    torch.random.manual_seed(seed)\n",
    "    torch.cuda.random.manual_seed(seed)\n",
    "    torch.backends.cudnn.benchmark = False\n",
    "    torch.backends.cudnn.deterministic = True"
   ]
  },
  {
   "cell_type": "markdown",
   "id": "0fda0c1c",
   "metadata": {},
   "source": [
    "## load data"
   ]
  },
  {
   "cell_type": "code",
   "execution_count": 28,
   "id": "9ff14f66",
   "metadata": {
    "ExecuteTime": {
     "end_time": "2022-01-09T07:45:51.219868Z",
     "start_time": "2022-01-09T07:45:51.157148Z"
    }
   },
   "outputs": [],
   "source": [
    "url = '../data/beijing.csv'\n",
    "data = pd.read_csv(url, sep=',', index_col='time')\n",
    "data.index = pd.to_datetime(data.index)"
   ]
  },
  {
   "cell_type": "markdown",
   "id": "56e6e021",
   "metadata": {},
   "source": [
    "## normalization"
   ]
  },
  {
   "cell_type": "code",
   "execution_count": 29,
   "id": "ff1f7918",
   "metadata": {
    "ExecuteTime": {
     "end_time": "2022-01-09T07:45:51.224853Z",
     "start_time": "2022-01-09T07:45:51.221632Z"
    }
   },
   "outputs": [],
   "source": [
    "def normalization(data):\n",
    "    \"\"\"\n",
    "    data: original data with load\n",
    "    return: normalized data, scaler of load\n",
    "    \"\"\"\n",
    "    scaler = MinMaxScaler()\n",
    "    normalized_data = scaler.fit_transform(data)\n",
    "    scaler_y = MinMaxScaler()\n",
    "    scaler_y.fit_transform(data[[data.columns[-1]]])\n",
    "    return normalized_data, scaler, scaler_y"
   ]
  },
  {
   "cell_type": "markdown",
   "id": "c4f12627",
   "metadata": {
    "ExecuteTime": {
     "end_time": "2021-12-22T07:45:44.192666Z",
     "start_time": "2021-12-22T07:45:44.188985Z"
    }
   },
   "source": [
    "## build supervised dataset"
   ]
  },
  {
   "cell_type": "code",
   "execution_count": 30,
   "id": "dadd2b0a",
   "metadata": {
    "ExecuteTime": {
     "end_time": "2022-01-09T07:45:51.230563Z",
     "start_time": "2022-01-09T07:45:51.226767Z"
    }
   },
   "outputs": [],
   "source": [
    "def series_to_supervise(data, seq_len, target_len):\n",
    "    \"\"\"\n",
    "    convert series data to supervised data\n",
    "    :param data: original data\n",
    "    :param seq_len: length of input sequence\n",
    "    :param target_len: length of ouput sequence\n",
    "    :return: return two ndarrays-- input and output in format suitable to feed to RNN\n",
    "    \"\"\"\n",
    "    dim_0 = data.shape[0] - seq_len - target_len + 1\n",
    "    dim_1 = data.shape[1]\n",
    "    x = np.zeros((dim_0, seq_len, dim_1))\n",
    "    y = np.zeros((dim_0, target_len))\n",
    "    for i in range(dim_0):\n",
    "        x[i] = data[i:i + seq_len]\n",
    "        y[i] = data[i + seq_len:i + seq_len + target_len, -1]\n",
    "    print(\"supervised data: shape of x: {}, shape of y: {}\".format(x.shape, y.shape))\n",
    "    return x, y"
   ]
  },
  {
   "cell_type": "markdown",
   "id": "9fa981ab",
   "metadata": {},
   "source": [
    "## 5-folds TimeSeriesSplit"
   ]
  },
  {
   "cell_type": "code",
   "execution_count": 31,
   "id": "d506b01c",
   "metadata": {
    "ExecuteTime": {
     "end_time": "2022-01-09T07:45:51.235686Z",
     "start_time": "2022-01-09T07:45:51.231901Z"
    }
   },
   "outputs": [],
   "source": [
    "def time_series_split(X, Y, n_split=5):\n",
    "    \"\"\"\n",
    "    X: features, size * seq_len * feature_num\n",
    "    Y: labels, size * target_len\n",
    "    return: list of train_x, test_x, train_y, test_y\n",
    "    \"\"\"\n",
    "    tscv = TimeSeriesSplit(n_splits=n_split)\n",
    "    train_x_list = list()\n",
    "    valid_x_list = list()\n",
    "    train_y_list = list()\n",
    "    valid_y_list = list()\n",
    "    for train_index, valid_index in tscv.split(X):\n",
    "        train_x_list.append(X[train_index])\n",
    "        train_y_list.append(Y[train_index])\n",
    "        valid_x_list.append(X[valid_index])\n",
    "        valid_y_list.append(Y[valid_index])\n",
    "    return train_x_list, train_y_list, valid_x_list, valid_y_list"
   ]
  },
  {
   "cell_type": "markdown",
   "id": "3b2b96dc",
   "metadata": {},
   "source": [
    "## CNN-RNN model"
   ]
  },
  {
   "cell_type": "markdown",
   "id": "48c4af67",
   "metadata": {},
   "source": [
    "### define model"
   ]
  },
  {
   "cell_type": "code",
   "execution_count": 32,
   "id": "567ad111",
   "metadata": {
    "ExecuteTime": {
     "end_time": "2022-01-09T07:45:51.244845Z",
     "start_time": "2022-01-09T07:45:51.236968Z"
    }
   },
   "outputs": [],
   "source": [
    "class CNN_RNN(nn.Module):\n",
    "    def __init__(self, input_size, output_size, hidden_dim, n_layers,\n",
    "                 drop_prob):\n",
    "        super(CNN_RNN, self).__init__()\n",
    "        # layers\n",
    "        cnn_1 = nn.Conv1d(input_size, 16, kernel_size=5)\n",
    "        cnn_1 = nn.Conv1d(16, 16, kernel_size=5, padding=1)\n",
    "        cnn_2 = nn.Conv1d(16, 32, kernel_size=5, stride=2)\n",
    "        cnn_3 = nn.Conv1d(32, 32, kernel_size=3)\n",
    "        cnn_4 = nn.Conv1d(32, 64, kernel_size=3, stride=2)\n",
    "                          \n",
    "        self.cnn = nn.Sequential(cnn_1, nn.ReLU(), cnn_2, nn.ReLU(), cnn_3, nn.ReLU(), cnn_4, nn.ReLU())\n",
    "        self.dropout = nn.Dropout(drop_prob)\n",
    "        self.rnn = nn.GRU(input_size=64, hidden_size=hidden_dim, num_layers=n_layers, dropout=drop_prob)\n",
    "        self.dense = nn.Sequential()\n",
    "        \n",
    "        input_size = hidden_dim\n",
    "        i = 0\n",
    "        while (input_size > 32):\n",
    "            self.dense.add_module('linear{}'.format(i),\n",
    "                               nn.Linear(input_size, round(input_size / 2)))\n",
    "            self.dense.add_module('relu{}'.format(i), nn.ReLU())\n",
    "            input_size = round(input_size / 2)\n",
    "            i += 1\n",
    "        self.dense.add_module('linear{}'.format(i), nn.Linear(input_size, output_size))\n",
    "        \n",
    "    def forward(self, X):\n",
    "        # X shape (batch_size, num_steps, input_size)\n",
    "        mean = X[:, :, -1].mean(dim=-1, keepdim=True)\n",
    "        X[:,:,-1] /= mean\n",
    "        X = X.permute(0, 2, 1)\n",
    "        # X shape (batch_size, input_size, num_steps)\n",
    "        cnn_out = self.cnn(X)\n",
    "        # cnn_out shape (batch_size, 64, 15)\n",
    "        cnn_out = cnn_out.permute(2, 0, 1)\n",
    "        cnn_out = self.dropout(cnn_out)\n",
    "        # cnn_out shape (15, batch_size, 64)\n",
    "        rnn_out, _ = self.rnn(cnn_out)\n",
    "        # rnn_out shape (15, batch_size, hidden_dim)\n",
    "        rnn_out = rnn_out[-1, :, :]\n",
    "        # rnn_out shape (batch_size, hidden_dim)\n",
    "        out = self.dense(rnn_out) * mean\n",
    "        # out shape (batch_size, output_size)\n",
    "        return out"
   ]
  },
  {
   "cell_type": "markdown",
   "id": "fcacdff0",
   "metadata": {},
   "source": [
    "### test model"
   ]
  },
  {
   "cell_type": "code",
   "execution_count": 33,
   "id": "ecc71a5b",
   "metadata": {
    "ExecuteTime": {
     "end_time": "2022-01-09T07:45:51.270319Z",
     "start_time": "2022-01-09T07:45:51.245918Z"
    }
   },
   "outputs": [
    {
     "name": "stdout",
     "output_type": "stream",
     "text": [
      "torch.Size([10, 24])\n",
      "----------------------------------------------------------------\n",
      "        Layer (type)               Output Shape         Param #\n",
      "================================================================\n",
      "            Conv1d-1               [-1, 16, 70]           1,296\n",
      "              ReLU-2               [-1, 16, 70]               0\n",
      "            Conv1d-3               [-1, 32, 33]           2,592\n",
      "              ReLU-4               [-1, 32, 33]               0\n",
      "            Conv1d-5               [-1, 32, 31]           3,104\n",
      "              ReLU-6               [-1, 32, 31]               0\n",
      "            Conv1d-7               [-1, 64, 15]           6,208\n",
      "              ReLU-8               [-1, 64, 15]               0\n",
      "           Dropout-9                [-1, 2, 64]               0\n",
      "              GRU-10  [[-1, 2, 128], [-1, 2, 128]]               0\n",
      "           Linear-11                   [-1, 64]           8,256\n",
      "             ReLU-12                   [-1, 64]               0\n",
      "           Linear-13                   [-1, 32]           2,080\n",
      "             ReLU-14                   [-1, 32]               0\n",
      "           Linear-15                   [-1, 24]             792\n",
      "================================================================\n",
      "Total params: 24,328\n",
      "Trainable params: 24,328\n",
      "Non-trainable params: 0\n",
      "----------------------------------------------------------------\n",
      "Input size (MB): 0.00\n",
      "Forward/backward pass size (MB): 0.43\n",
      "Params size (MB): 0.09\n",
      "Estimated Total Size (MB): 0.53\n",
      "----------------------------------------------------------------\n"
     ]
    }
   ],
   "source": [
    "model = CNN_RNN(16, 24, 128, 2, 0.5).to(device)\n",
    "X = torch.randn(10, 72, 16).to(device)\n",
    "out = model(X)\n",
    "print(out.shape)\n",
    "summary(model, (72, 16))"
   ]
  },
  {
   "cell_type": "markdown",
   "id": "11257392",
   "metadata": {
    "ExecuteTime": {
     "end_time": "2021-12-22T08:30:19.661769Z",
     "start_time": "2021-12-22T08:30:19.656770Z"
    }
   },
   "source": [
    "## model training for HPO"
   ]
  },
  {
   "cell_type": "code",
   "execution_count": 34,
   "id": "93f13f09",
   "metadata": {
    "ExecuteTime": {
     "end_time": "2022-01-09T07:45:51.281619Z",
     "start_time": "2022-01-09T07:45:51.271696Z"
    }
   },
   "outputs": [],
   "source": [
    "def train_model_hpo(train_x_list, train_y_list, valid_x_list, valid_y_list,\n",
    "                    input_size, output_size, mse_thresh, batch_size, lr,\n",
    "                    number_epoch, hidden_dim, n_layers, drop_prob, weight_decay):\n",
    "    valid_loss_list = []\n",
    "    for num in range(len(train_x_list)):\n",
    "        while (1):\n",
    "            model = CNN_RNN(input_size, output_size, hidden_dim, n_layers,\n",
    "                           drop_prob)\n",
    "            model.to(device=device)\n",
    "            criterion = nn.MSELoss()\n",
    "            optimizer = torch.optim.Adam(model.parameters(), lr=lr, weight_decay=weight_decay)\n",
    "            scheduler = torch.optim.lr_scheduler.StepLR(optimizer, 1, gamma=0.98)\n",
    "            valid_loss_min = np.Inf\n",
    "            print('cross-validation dataset {}'.format(num))\n",
    "            train_x = train_x_list[num]\n",
    "            train_y = train_y_list[num]\n",
    "            valid_x = valid_x_list[num]\n",
    "            valid_y = valid_y_list[num]\n",
    "            train_dataset = TensorDataset(torch.FloatTensor(train_x),\n",
    "                                          torch.FloatTensor(train_y))\n",
    "            valid_dataset = TensorDataset(torch.FloatTensor(valid_x),\n",
    "                                          torch.FloatTensor(valid_y))\n",
    "            train_loader = DataLoader(dataset=train_dataset,\n",
    "                                      batch_size=batch_size,\n",
    "                                      shuffle=True,\n",
    "                                      drop_last=False)\n",
    "            valid_loader = DataLoader(dataset=valid_dataset,\n",
    "                                      batch_size=batch_size,\n",
    "                                      shuffle=True,\n",
    "                                      drop_last=False)\n",
    "            num_without_imp = 0\n",
    "            # training process\n",
    "            for epoch in range(1, number_epoch + 1):\n",
    "                loop = tqdm(enumerate(train_loader),\n",
    "                            total=len(train_loader),\n",
    "                            leave=True, ncols=100)\n",
    "                for i, (inputs, labels) in loop:\n",
    "                    inputs = inputs.to(device=device)\n",
    "                    labels = labels.to(device=device)\n",
    "                    optimizer.zero_grad()\n",
    "                    outputs = model(inputs)\n",
    "                    loss = criterion(outputs, labels)\n",
    "                    loss.backward()\n",
    "                    optimizer.step()\n",
    "                    if i % 5 == 0:\n",
    "                        num_without_imp = num_without_imp + 1\n",
    "                        valid_losses = list()\n",
    "                        model.eval()\n",
    "                        for inp, lab in valid_loader:\n",
    "                            inp = inp.to(device)\n",
    "                            lab = lab.to(device)\n",
    "                            out = model(inp)\n",
    "                            valid_loss = criterion(out, lab)\n",
    "                            valid_losses.append(valid_loss.item())\n",
    "\n",
    "                        model.train()\n",
    "                        loop.set_description(\"Epoch: {}/{}\".format(\n",
    "                            epoch, number_epoch))\n",
    "                        loop.set_postfix(train_loss=loss.item(),\n",
    "                                         valid_loss=np.mean(valid_losses))\n",
    "                        if np.mean(valid_losses) < valid_loss_min:\n",
    "                            num_without_imp = 0\n",
    "                            valid_loss_min = np.mean(valid_losses)\n",
    "                scheduler.step()\n",
    "                if num_without_imp >= 50:\n",
    "#                     break\n",
    "                    pass\n",
    "            if valid_loss_min < mse_thresh:\n",
    "                valid_loss_list.append(valid_loss_min)\n",
    "                break\n",
    "    return np.mean(valid_loss_list)"
   ]
  },
  {
   "cell_type": "markdown",
   "id": "31edce7f",
   "metadata": {},
   "source": [
    "## hyper-parameters config"
   ]
  },
  {
   "cell_type": "code",
   "execution_count": 35,
   "id": "22dcc335",
   "metadata": {
    "ExecuteTime": {
     "end_time": "2022-01-09T07:45:51.288405Z",
     "start_time": "2022-01-09T07:45:51.284061Z"
    }
   },
   "outputs": [],
   "source": [
    "seq_len = 72\n",
    "target_len = 24\n",
    "mse_thresh = 0.05\n",
    "\n",
    "\n",
    "def model_config():\n",
    "    batch_sizes = [256]\n",
    "    lrs = [0.01]\n",
    "    number_epochs = [30]\n",
    "    hidden_dims = [128]\n",
    "    n_layers = [2]\n",
    "    drop_prob = [0]\n",
    "    weight_decays = [0]\n",
    "    configs = list()\n",
    "    for i in batch_sizes:\n",
    "        for j in lrs:\n",
    "            for k in number_epochs:\n",
    "                for l in hidden_dims:\n",
    "                    for m in n_layers:\n",
    "                        for n in drop_prob:\n",
    "                            for o in weight_decays:\n",
    "                                configs.append({\n",
    "                                    'batch_size': i,\n",
    "                                    'lr': j,\n",
    "                                    'number_epoch': k,\n",
    "                                    'hidden_dim': l,\n",
    "                                    'n_layers': m,\n",
    "                                    'drop_prob': n,\n",
    "                                    'weight_decay': o,\n",
    "                                })\n",
    "    return configs"
   ]
  },
  {
   "cell_type": "markdown",
   "id": "c1977a7a",
   "metadata": {},
   "source": [
    "## random search for HPO"
   ]
  },
  {
   "cell_type": "code",
   "execution_count": 36,
   "id": "755e5caa",
   "metadata": {
    "ExecuteTime": {
     "end_time": "2022-01-09T07:45:51.295847Z",
     "start_time": "2022-01-09T07:45:51.289784Z"
    }
   },
   "outputs": [],
   "source": [
    "def run_model_hpo(seq_len=seq_len,\n",
    "                  target_len=target_len,\n",
    "                  mse_thresh=mse_thresh):\n",
    "    train_data = data[:int(0.8 * len(data))]\n",
    "    train_data, _, _ = normalization(train_data)\n",
    "    train_x, train_y = series_to_supervise(train_data, seq_len, target_len)\n",
    "    train_x_list, train_y_list, valid_x_list, valid_y_list = time_series_split(\n",
    "        train_x, train_y)\n",
    "    #     with enough data\n",
    "    train_x_list = train_x_list[-1:]\n",
    "    train_y_list = train_y_list[-1:]\n",
    "    valid_x_list = valid_x_list[-1:]\n",
    "    valid_y_list = valid_y_list[-1:]\n",
    "\n",
    "    configs = model_config()\n",
    "    records = []\n",
    "    input_size = train_x.shape[2]\n",
    "    output_size = target_len\n",
    "    for i in range(1):\n",
    "        config = random.choice(configs)\n",
    "        configs.remove(config)\n",
    "        batch_size = config['batch_size']\n",
    "        lr = config['lr']\n",
    "        number_epoch = config['number_epoch']\n",
    "        hidden_dim = config['hidden_dim']\n",
    "        n_layers = config['n_layers']\n",
    "        drop_prob = config['drop_prob']\n",
    "        weight_decay = config['weight_decay']\n",
    "        print(\n",
    "            \"model config: batch_size-{}, lr-{}, number_epoch-{}, hidden_dim-{}, n_layers-{},drop_prob-{},weight_decay-{}\"\n",
    "            .format(batch_size, lr, number_epoch, hidden_dim, n_layers,\n",
    "                    drop_prob, weight_decay))\n",
    "        valid_loss = train_model_hpo(train_x_list, train_y_list, valid_x_list,\n",
    "                                     valid_y_list, input_size, output_size,\n",
    "                                     mse_thresh, batch_size, lr, number_epoch,\n",
    "                                     hidden_dim, n_layers, drop_prob, weight_decay)\n",
    "        records.append({\n",
    "            'batch_size': batch_size,\n",
    "            'lr': lr,\n",
    "            'number_epoch': number_epoch,\n",
    "            'hidden_dim': hidden_dim,\n",
    "            'n_layers': n_layers,\n",
    "            'drop_prob': drop_prob,\n",
    "            'weight_decay': weight_decay,\n",
    "            'valid_loss': valid_loss\n",
    "        })\n",
    "    return records"
   ]
  },
  {
   "cell_type": "markdown",
   "id": "2995a30c",
   "metadata": {},
   "source": [
    "## run random search"
   ]
  },
  {
   "cell_type": "code",
   "execution_count": 23,
   "id": "c529ce1a",
   "metadata": {
    "ExecuteTime": {
     "end_time": "2022-01-02T11:42:14.894838Z",
     "start_time": "2022-01-02T11:41:11.658334Z"
    }
   },
   "outputs": [
    {
     "name": "stdout",
     "output_type": "stream",
     "text": [
      "supervised data: shape of x: (25232, 72, 16), shape of y: (25232, 24)\n",
      "model config: batch_size-256, lr-0.01, number_epoch-30, hidden_dim-128, n_layers-2,drop_prob-0,weight_decay-0\n",
      "cross-validation dataset 0\n"
     ]
    },
    {
     "name": "stderr",
     "output_type": "stream",
     "text": [
      "Epoch: 1/30: 100%|████████████| 83/83 [00:02<00:00, 40.93it/s, train_loss=0.0377, valid_loss=0.0428]\n",
      "Epoch: 2/30: 100%|█████████████| 83/83 [00:02<00:00, 38.04it/s, train_loss=0.0303, valid_loss=0.035]\n",
      "Epoch: 3/30: 100%|████████████| 83/83 [00:02<00:00, 40.82it/s, train_loss=0.0163, valid_loss=0.0267]\n",
      "Epoch: 4/30: 100%|████████████| 83/83 [00:02<00:00, 39.29it/s, train_loss=0.0119, valid_loss=0.0191]\n",
      "Epoch: 5/30: 100%|██████████| 83/83 [00:02<00:00, 40.61it/s, train_loss=0.00492, valid_loss=0.00736]\n",
      "Epoch: 6/30: 100%|███████████| 83/83 [00:02<00:00, 39.89it/s, train_loss=0.0032, valid_loss=0.00449]\n",
      "Epoch: 7/30: 100%|███████████| 83/83 [00:02<00:00, 40.49it/s, train_loss=0.0024, valid_loss=0.00368]\n",
      "Epoch: 8/30: 100%|██████████| 83/83 [00:02<00:00, 38.91it/s, train_loss=0.00277, valid_loss=0.00446]\n",
      "Epoch: 9/30: 100%|██████████| 83/83 [00:02<00:00, 39.73it/s, train_loss=0.00266, valid_loss=0.00343]\n",
      "Epoch: 10/30: 100%|█████████| 83/83 [00:02<00:00, 40.84it/s, train_loss=0.00223, valid_loss=0.00363]\n",
      "Epoch: 11/30: 100%|█████████| 83/83 [00:02<00:00, 39.07it/s, train_loss=0.00191, valid_loss=0.00317]\n",
      "Epoch: 12/30: 100%|██████████| 83/83 [00:02<00:00, 40.79it/s, train_loss=0.0028, valid_loss=0.00346]\n",
      "Epoch: 13/30: 100%|█████████| 83/83 [00:02<00:00, 39.91it/s, train_loss=0.00197, valid_loss=0.00323]\n",
      "Epoch: 14/30: 100%|█████████| 83/83 [00:02<00:00, 40.95it/s, train_loss=0.00198, valid_loss=0.00283]\n",
      "Epoch: 15/30: 100%|█████████| 83/83 [00:02<00:00, 39.18it/s, train_loss=0.00187, valid_loss=0.00321]\n",
      "Epoch: 16/30: 100%|█████████| 83/83 [00:02<00:00, 40.23it/s, train_loss=0.00193, valid_loss=0.00271]\n",
      "Epoch: 17/30: 100%|█████████| 83/83 [00:02<00:00, 39.43it/s, train_loss=0.00219, valid_loss=0.00279]\n",
      "Epoch: 18/30: 100%|█████████| 83/83 [00:02<00:00, 40.57it/s, train_loss=0.00209, valid_loss=0.00272]\n",
      "Epoch: 19/30: 100%|█████████| 83/83 [00:02<00:00, 39.45it/s, train_loss=0.00189, valid_loss=0.00263]\n",
      "Epoch: 20/30: 100%|█████████| 83/83 [00:02<00:00, 40.94it/s, train_loss=0.00201, valid_loss=0.00243]\n",
      "Epoch: 21/30: 100%|█████████| 83/83 [00:02<00:00, 41.17it/s, train_loss=0.00179, valid_loss=0.00313]\n",
      "Epoch: 22/30: 100%|█████████| 83/83 [00:02<00:00, 39.96it/s, train_loss=0.00174, valid_loss=0.00276]\n",
      "Epoch: 23/30: 100%|█████████| 83/83 [00:02<00:00, 41.26it/s, train_loss=0.00162, valid_loss=0.00279]\n",
      "Epoch: 24/30: 100%|██████████| 83/83 [00:02<00:00, 40.15it/s, train_loss=0.0015, valid_loss=0.00339]\n",
      "Epoch: 25/30: 100%|█████████| 83/83 [00:02<00:00, 37.78it/s, train_loss=0.00155, valid_loss=0.00284]\n",
      "Epoch: 26/30: 100%|█████████| 83/83 [00:02<00:00, 34.97it/s, train_loss=0.00175, valid_loss=0.00268]\n",
      "Epoch: 27/30: 100%|█████████| 83/83 [00:02<00:00, 39.81it/s, train_loss=0.00145, valid_loss=0.00235]\n",
      "Epoch: 28/30: 100%|█████████| 83/83 [00:02<00:00, 39.39it/s, train_loss=0.00157, valid_loss=0.00228]\n",
      "Epoch: 29/30: 100%|█████████| 83/83 [00:02<00:00, 40.47it/s, train_loss=0.00164, valid_loss=0.00234]\n",
      "Epoch: 30/30: 100%|█████████| 83/83 [00:02<00:00, 39.19it/s, train_loss=0.00146, valid_loss=0.00227]\n"
     ]
    }
   ],
   "source": [
    "random_seed_set(16)\n",
    "records = run_model_hpo()"
   ]
  },
  {
   "cell_type": "markdown",
   "id": "c0aeb78f",
   "metadata": {
    "ExecuteTime": {
     "end_time": "2021-12-22T08:52:06.844501Z",
     "start_time": "2021-12-22T08:52:06.830928Z"
    }
   },
   "source": [
    "## find the best hyper-parameters"
   ]
  },
  {
   "cell_type": "code",
   "execution_count": 24,
   "id": "23875dc6",
   "metadata": {
    "ExecuteTime": {
     "end_time": "2022-01-02T11:43:24.981530Z",
     "start_time": "2022-01-02T11:43:24.955644Z"
    }
   },
   "outputs": [
    {
     "data": {
      "text/html": [
       "<div>\n",
       "<style scoped>\n",
       "    .dataframe tbody tr th:only-of-type {\n",
       "        vertical-align: middle;\n",
       "    }\n",
       "\n",
       "    .dataframe tbody tr th {\n",
       "        vertical-align: top;\n",
       "    }\n",
       "\n",
       "    .dataframe thead th {\n",
       "        text-align: right;\n",
       "    }\n",
       "</style>\n",
       "<table border=\"1\" class=\"dataframe\">\n",
       "  <thead>\n",
       "    <tr style=\"text-align: right;\">\n",
       "      <th></th>\n",
       "      <th>batch_size</th>\n",
       "      <th>lr</th>\n",
       "      <th>number_epoch</th>\n",
       "      <th>hidden_dim</th>\n",
       "      <th>n_layers</th>\n",
       "      <th>drop_prob</th>\n",
       "      <th>weight_decay</th>\n",
       "      <th>valid_loss</th>\n",
       "    </tr>\n",
       "  </thead>\n",
       "  <tbody>\n",
       "    <tr>\n",
       "      <th>0</th>\n",
       "      <td>256</td>\n",
       "      <td>0.01</td>\n",
       "      <td>30</td>\n",
       "      <td>128</td>\n",
       "      <td>2</td>\n",
       "      <td>0</td>\n",
       "      <td>0</td>\n",
       "      <td>0.002251</td>\n",
       "    </tr>\n",
       "  </tbody>\n",
       "</table>\n",
       "</div>"
      ],
      "text/plain": [
       "   batch_size    lr  number_epoch  hidden_dim  n_layers  drop_prob  \\\n",
       "0         256  0.01            30         128         2          0   \n",
       "\n",
       "   weight_decay  valid_loss  \n",
       "0             0    0.002251  "
      ]
     },
     "execution_count": 24,
     "metadata": {},
     "output_type": "execute_result"
    }
   ],
   "source": [
    "records = pd.DataFrame(records).sort_values(by='valid_loss')\n",
    "records.to_csv('./records/cnn_rnn_records.csv', mode='a', index=False, header=False)\n",
    "records"
   ]
  },
  {
   "cell_type": "markdown",
   "id": "e5ef26ab",
   "metadata": {},
   "source": [
    "## retrain a model"
   ]
  },
  {
   "cell_type": "code",
   "execution_count": 37,
   "id": "01b388de",
   "metadata": {
    "ExecuteTime": {
     "end_time": "2022-01-09T07:45:54.524444Z",
     "start_time": "2022-01-09T07:45:54.502148Z"
    }
   },
   "outputs": [],
   "source": [
    "def train_model(train_x, train_y, valid_x, valid_y, input_size, output_size,\n",
    "                mse_thresh, batch_size, lr, number_epoch, hidden_dim, n_layers,\n",
    "                drop_prob, weight_decay):\n",
    "    while (1):\n",
    "        model = CNN_RNN(input_size, output_size, hidden_dim, n_layers,\n",
    "                       drop_prob)\n",
    "        model.to(device=device)\n",
    "        criterion = nn.MSELoss()\n",
    "        optimizer = torch.optim.Adam(model.parameters(), lr=lr, weight_decay=weight_decay)\n",
    "        scheduler = torch.optim.lr_scheduler.StepLR(optimizer, 1, gamma=0.98)\n",
    "        valid_loss_min = np.Inf\n",
    "        train_dataset = TensorDataset(torch.FloatTensor(train_x),\n",
    "                                      torch.FloatTensor(train_y))\n",
    "        valid_dataset = TensorDataset(torch.FloatTensor(valid_x),\n",
    "                                      torch.FloatTensor(valid_y))\n",
    "        train_loader = DataLoader(dataset=train_dataset,\n",
    "                                  batch_size=batch_size,\n",
    "                                  shuffle=True,\n",
    "                                  drop_last=False)\n",
    "        valid_loader = DataLoader(dataset=valid_dataset,\n",
    "                                  batch_size=batch_size,\n",
    "                                  shuffle=True,\n",
    "                                  drop_last=False)\n",
    "        num_without_imp = 0\n",
    "        train_loss_list = []\n",
    "        valid_loss_list = []\n",
    "        # training process\n",
    "        for epoch in range(1, number_epoch + 1):\n",
    "            loop = tqdm(enumerate(train_loader),\n",
    "                        total=len(train_loader),\n",
    "                        leave=True, ncols=100)\n",
    "            for i, (inputs, labels) in loop:\n",
    "                inputs = inputs.to(device=device)\n",
    "                labels = labels.to(device=device)\n",
    "                optimizer.zero_grad()\n",
    "                outputs = model(inputs)\n",
    "                loss = criterion(outputs, labels)\n",
    "                loss.backward()\n",
    "                optimizer.step()\n",
    "                if i % 5 == 0:\n",
    "                    num_without_imp = num_without_imp + 1\n",
    "                    valid_losses = list()\n",
    "                    model.eval()\n",
    "                    for inp, lab in valid_loader:\n",
    "                        inp = inp.to(device)\n",
    "                        lab = lab.to(device)\n",
    "                        out = model(inp)\n",
    "                        valid_loss = criterion(out, lab)\n",
    "                        valid_losses.append(valid_loss.item())\n",
    "\n",
    "                    model.train()\n",
    "                    loop.set_description(\"Epoch: {}/{}\".format(\n",
    "                        epoch, number_epoch))\n",
    "                    loop.set_postfix(train_loss=loss.item(),\n",
    "                                     valid_loss=np.mean(valid_losses))\n",
    "                    \n",
    "                    train_loss_list.append(loss.item())\n",
    "                    valid_loss_list.append(np.mean(valid_losses))\n",
    "                    if np.mean(valid_losses) < valid_loss_min:\n",
    "                        num_without_imp = 0\n",
    "                        torch.save(model.state_dict(),\n",
    "                                   './model/CNN_RNN_state_dict.pt')\n",
    "                        valid_loss_min = np.mean(valid_losses)\n",
    "            scheduler.step()\n",
    "        if valid_loss_min < mse_thresh:\n",
    "            break\n",
    "    return model, train_loss_list, valid_loss_list"
   ]
  },
  {
   "cell_type": "markdown",
   "id": "29f13a22",
   "metadata": {},
   "source": [
    "## test results"
   ]
  },
  {
   "cell_type": "code",
   "execution_count": 38,
   "id": "79883eb6",
   "metadata": {
    "ExecuteTime": {
     "end_time": "2022-01-09T07:45:55.774357Z",
     "start_time": "2022-01-09T07:45:55.755949Z"
    }
   },
   "outputs": [],
   "source": [
    "def test_model(model, test_x, test_y, scaler_y, batch_size):\n",
    "    test_dataset = TensorDataset(torch.FloatTensor(test_x),\n",
    "                                 torch.FloatTensor(test_y))\n",
    "    test_loader = DataLoader(dataset=test_dataset,\n",
    "                             batch_size=batch_size,\n",
    "                             shuffle=False,\n",
    "                             drop_last=False)\n",
    "    model.load_state_dict(torch.load('./model/CNN_RNN_state_dict.pt'))\n",
    "    y_pred = []\n",
    "    y_true = []\n",
    "    with torch.no_grad():\n",
    "        for inputs, label in test_loader:\n",
    "            inputs = inputs.to(device)\n",
    "            label = label.to(device)\n",
    "            outputs = model(inputs)\n",
    "            y_pred += outputs.cpu().numpy().flatten().tolist()\n",
    "            y_true += label.cpu().numpy().flatten().tolist()\n",
    "    y_pred = np.array(y_pred).reshape(-1, 1)\n",
    "    y_true = np.array(y_true).reshape(-1, 1)\n",
    "#     pdb.set_trace()\n",
    "    load_pred = scaler_y.inverse_transform(y_pred)\n",
    "    load_true = scaler_y.inverse_transform(y_true)\n",
    "    mean_pred = np.mean(load_pred)\n",
    "    mean_true = np.mean(load_true)\n",
    "    MAPE = np.mean(np.abs(load_true - load_pred) / load_true)\n",
    "    SMAPE = 2 * np.mean(\n",
    "        np.abs(load_true - load_pred) / (load_true + load_pred))\n",
    "    MAE = np.mean(np.abs(load_true - load_pred))\n",
    "    RMSE = np.sqrt(np.mean(np.square(load_true - load_pred)))\n",
    "    RRSE = np.sqrt(np.sum(np.square(load_true - load_pred))) / np.sqrt(\n",
    "        np.sum(np.square(load_true - mean_true)))\n",
    "    CORR = np.mean(\n",
    "        np.sum((load_true - mean_true) * (load_pred - mean_pred)) /\n",
    "        np.sqrt(np.sum(\n",
    "            (load_true - mean_true)**2 * (load_pred - mean_pred)**2)))\n",
    "    return MAPE, SMAPE, MAE, RMSE, RRSE, CORR, load_pred, load_true"
   ]
  },
  {
   "cell_type": "markdown",
   "id": "787f3e04",
   "metadata": {},
   "source": [
    "## run model retraining"
   ]
  },
  {
   "cell_type": "code",
   "execution_count": 39,
   "id": "17568d80",
   "metadata": {
    "ExecuteTime": {
     "end_time": "2022-01-09T07:45:56.759686Z",
     "start_time": "2022-01-09T07:45:56.743131Z"
    }
   },
   "outputs": [],
   "source": [
    "def run_model_retraining(seq_len=seq_len,\n",
    "                         target_len=target_len,\n",
    "                         mse_thresh=mse_thresh):\n",
    "    train_data = data[:int(0.8 * len(data))]\n",
    "    #     train_data = data[:-800]\n",
    "    train_data, scaler, scaler_y = normalization(train_data)\n",
    "    train_x, train_y = series_to_supervise(train_data, seq_len, target_len)\n",
    "\n",
    "    valid_x = train_x[int(0.8 * len(train_x)):]\n",
    "    valid_y = train_y[int(0.8 * len(train_y)):]\n",
    "    train_x = train_x[:int(0.8 * len(train_x))]\n",
    "    train_y = train_y[:int(0.8 * len(train_y))]\n",
    "    input_size = train_x.shape[2]\n",
    "    output_size = target_len\n",
    "\n",
    "    #     hyper-parameters define\n",
    "    batch_size = 256\n",
    "    lr = 0.01\n",
    "    number_epoch = 80\n",
    "    hidden_dim = 128\n",
    "    n_layers = 1\n",
    "    drop_prob = 0\n",
    "    weight_decay = 1e-5\n",
    "    mse_thresh = 0.01\n",
    "\n",
    "    model, train_loss_list, valid_loss_list = train_model(\n",
    "        train_x, train_y, valid_x, valid_y, input_size, output_size,\n",
    "        mse_thresh, batch_size, lr, number_epoch, hidden_dim, n_layers,\n",
    "        drop_prob, weight_decay)\n",
    "    \n",
    "    # plot training process\n",
    "    plt.plot(train_loss_list[10:], 'm', label='train_loss')\n",
    "    plt.plot(valid_loss_list[10:], 'g', label='valid_loss')\n",
    "    plt.grid('both')\n",
    "    plt.legend()\n",
    "    \n",
    "    # test\n",
    "    test_data = data[int(0.8 * len(data)):]\n",
    "    #     test_data = data[-800:]\n",
    "    test_data = scaler.transform(test_data)\n",
    "    test_x, test_y = series_to_supervise(test_data, seq_len, target_len)\n",
    "    MAPE, SMAPE, MAE, RMSE, RRSE, CORR, load_pred, load_true = test_model(model, test_x, test_y,\n",
    "                                                       scaler_y, batch_size)\n",
    "    return MAPE, SMAPE, MAE, RMSE, RRSE, CORR, load_pred, load_true"
   ]
  },
  {
   "cell_type": "code",
   "execution_count": 40,
   "id": "56484460",
   "metadata": {
    "ExecuteTime": {
     "end_time": "2022-01-09T07:48:56.426726Z",
     "start_time": "2022-01-09T07:45:59.063034Z"
    }
   },
   "outputs": [
    {
     "name": "stdout",
     "output_type": "stream",
     "text": [
      "supervised data: shape of x: (25232, 72, 16), shape of y: (25232, 24)\n"
     ]
    },
    {
     "name": "stderr",
     "output_type": "stream",
     "text": [
      "Epoch: 1/80: 100%|████████████| 79/79 [00:02<00:00, 33.39it/s, train_loss=0.0135, valid_loss=0.0214]\n",
      "Epoch: 2/80: 100%|██████████| 79/79 [00:02<00:00, 34.12it/s, train_loss=0.00486, valid_loss=0.00596]\n",
      "Epoch: 3/80: 100%|██████████| 79/79 [00:02<00:00, 33.09it/s, train_loss=0.00299, valid_loss=0.00328]\n",
      "Epoch: 4/80: 100%|██████████| 79/79 [00:02<00:00, 34.02it/s, train_loss=0.00227, valid_loss=0.00289]\n",
      "Epoch: 5/80: 100%|██████████| 79/79 [00:02<00:00, 33.40it/s, train_loss=0.00246, valid_loss=0.00281]\n",
      "Epoch: 6/80: 100%|██████████| 79/79 [00:02<00:00, 34.12it/s, train_loss=0.00163, valid_loss=0.00266]\n",
      "Epoch: 7/80: 100%|██████████| 79/79 [00:02<00:00, 33.97it/s, train_loss=0.00183, valid_loss=0.00281]\n",
      "Epoch: 8/80: 100%|██████████| 79/79 [00:02<00:00, 35.80it/s, train_loss=0.00218, valid_loss=0.00267]\n",
      "Epoch: 9/80: 100%|██████████| 79/79 [00:02<00:00, 35.09it/s, train_loss=0.00196, valid_loss=0.00255]\n",
      "Epoch: 10/80: 100%|█████████| 79/79 [00:02<00:00, 36.29it/s, train_loss=0.00171, valid_loss=0.00224]\n",
      "Epoch: 11/80: 100%|█████████| 79/79 [00:02<00:00, 35.21it/s, train_loss=0.00168, valid_loss=0.00221]\n",
      "Epoch: 12/80: 100%|█████████| 79/79 [00:02<00:00, 36.23it/s, train_loss=0.00136, valid_loss=0.00227]\n",
      "Epoch: 13/80: 100%|█████████| 79/79 [00:02<00:00, 35.53it/s, train_loss=0.00179, valid_loss=0.00234]\n",
      "Epoch: 14/80: 100%|█████████| 79/79 [00:02<00:00, 36.31it/s, train_loss=0.00155, valid_loss=0.00208]\n",
      "Epoch: 15/80: 100%|█████████| 79/79 [00:02<00:00, 35.38it/s, train_loss=0.00167, valid_loss=0.00207]\n",
      "Epoch: 16/80: 100%|█████████| 79/79 [00:02<00:00, 36.45it/s, train_loss=0.00136, valid_loss=0.00238]\n",
      "Epoch: 17/80: 100%|██████████| 79/79 [00:02<00:00, 35.19it/s, train_loss=0.0016, valid_loss=0.00221]\n",
      "Epoch: 18/80: 100%|█████████| 79/79 [00:02<00:00, 35.78it/s, train_loss=0.00139, valid_loss=0.00209]\n",
      "Epoch: 19/80: 100%|█████████| 79/79 [00:02<00:00, 35.27it/s, train_loss=0.00135, valid_loss=0.00245]\n",
      "Epoch: 20/80: 100%|█████████| 79/79 [00:02<00:00, 36.45it/s, train_loss=0.00135, valid_loss=0.00213]\n",
      "Epoch: 21/80: 100%|█████████| 79/79 [00:02<00:00, 35.32it/s, train_loss=0.00145, valid_loss=0.00235]\n",
      "Epoch: 22/80: 100%|█████████| 79/79 [00:02<00:00, 36.03it/s, train_loss=0.00126, valid_loss=0.00215]\n",
      "Epoch: 23/80: 100%|█████████| 79/79 [00:02<00:00, 35.58it/s, train_loss=0.00127, valid_loss=0.00197]\n",
      "Epoch: 24/80: 100%|█████████| 79/79 [00:02<00:00, 36.31it/s, train_loss=0.00136, valid_loss=0.00201]\n",
      "Epoch: 25/80: 100%|█████████| 79/79 [00:02<00:00, 35.51it/s, train_loss=0.00122, valid_loss=0.00224]\n",
      "Epoch: 26/80: 100%|█████████| 79/79 [00:02<00:00, 36.41it/s, train_loss=0.00102, valid_loss=0.00212]\n",
      "Epoch: 27/80: 100%|█████████| 79/79 [00:02<00:00, 35.71it/s, train_loss=0.00132, valid_loss=0.00217]\n",
      "Epoch: 28/80: 100%|██████████| 79/79 [00:02<00:00, 36.41it/s, train_loss=0.0015, valid_loss=0.00199]\n",
      "Epoch: 29/80: 100%|█████████| 79/79 [00:02<00:00, 35.72it/s, train_loss=0.00118, valid_loss=0.00212]\n",
      "Epoch: 30/80: 100%|██████████| 79/79 [00:02<00:00, 36.53it/s, train_loss=0.00132, valid_loss=0.0021]\n",
      "Epoch: 31/80: 100%|██████████| 79/79 [00:02<00:00, 35.30it/s, train_loss=0.00127, valid_loss=0.0022]\n",
      "Epoch: 32/80: 100%|█████████| 79/79 [00:02<00:00, 36.14it/s, train_loss=0.00121, valid_loss=0.00205]\n",
      "Epoch: 33/80: 100%|█████████| 79/79 [00:02<00:00, 35.68it/s, train_loss=0.00101, valid_loss=0.00219]\n",
      "Epoch: 34/80: 100%|█████████| 79/79 [00:02<00:00, 36.29it/s, train_loss=0.00118, valid_loss=0.00211]\n",
      "Epoch: 35/80: 100%|████████| 79/79 [00:02<00:00, 35.65it/s, train_loss=0.000936, valid_loss=0.00202]\n",
      "Epoch: 36/80: 100%|█████████| 79/79 [00:02<00:00, 35.95it/s, train_loss=0.00114, valid_loss=0.00203]\n",
      "Epoch: 37/80: 100%|█████████| 79/79 [00:02<00:00, 35.56it/s, train_loss=0.00101, valid_loss=0.00231]\n",
      "Epoch: 38/80: 100%|████████| 79/79 [00:02<00:00, 36.47it/s, train_loss=0.000969, valid_loss=0.00222]\n",
      "Epoch: 39/80: 100%|████████| 79/79 [00:02<00:00, 35.26it/s, train_loss=0.000987, valid_loss=0.00203]\n",
      "Epoch: 40/80: 100%|█████████| 79/79 [00:02<00:00, 36.36it/s, train_loss=0.00105, valid_loss=0.00218]\n",
      "Epoch: 41/80: 100%|████████| 79/79 [00:02<00:00, 35.64it/s, train_loss=0.000816, valid_loss=0.00213]\n",
      "Epoch: 42/80: 100%|█████████| 79/79 [00:02<00:00, 36.20it/s, train_loss=0.00112, valid_loss=0.00235]\n",
      "Epoch: 43/80: 100%|████████| 79/79 [00:02<00:00, 35.22it/s, train_loss=0.000987, valid_loss=0.00203]\n",
      "Epoch: 44/80: 100%|█████████| 79/79 [00:02<00:00, 35.87it/s, train_loss=0.00106, valid_loss=0.00222]\n",
      "Epoch: 45/80: 100%|█████████| 79/79 [00:02<00:00, 36.52it/s, train_loss=0.00116, valid_loss=0.00222]\n",
      "Epoch: 46/80: 100%|████████| 79/79 [00:02<00:00, 35.59it/s, train_loss=0.000939, valid_loss=0.00201]\n",
      "Epoch: 47/80: 100%|████████| 79/79 [00:02<00:00, 36.43it/s, train_loss=0.000998, valid_loss=0.00207]\n",
      "Epoch: 48/80: 100%|███████████| 79/79 [00:02<00:00, 35.52it/s, train_loss=0.001, valid_loss=0.00215]\n",
      "Epoch: 49/80: 100%|█████████| 79/79 [00:02<00:00, 36.36it/s, train_loss=0.000858, valid_loss=0.0021]\n",
      "Epoch: 50/80: 100%|████████| 79/79 [00:02<00:00, 35.19it/s, train_loss=0.000966, valid_loss=0.00231]\n",
      "Epoch: 51/80: 100%|█████████| 79/79 [00:02<00:00, 36.70it/s, train_loss=0.000844, valid_loss=0.0021]\n",
      "Epoch: 52/80: 100%|████████| 79/79 [00:02<00:00, 35.55it/s, train_loss=0.000888, valid_loss=0.00194]\n",
      "Epoch: 53/80: 100%|████████| 79/79 [00:02<00:00, 36.51it/s, train_loss=0.000914, valid_loss=0.00229]\n",
      "Epoch: 54/80: 100%|█████████| 79/79 [00:01<00:00, 42.70it/s, train_loss=0.00102, valid_loss=0.00202]\n",
      "Epoch: 55/80: 100%|██████████| 79/79 [00:01<00:00, 44.85it/s, train_loss=0.0009, valid_loss=0.00215]\n",
      "Epoch: 56/80: 100%|████████| 79/79 [00:02<00:00, 36.00it/s, train_loss=0.000945, valid_loss=0.00216]\n",
      "Epoch: 57/80: 100%|████████| 79/79 [00:02<00:00, 36.42it/s, train_loss=0.000861, valid_loss=0.00209]\n",
      "Epoch: 58/80: 100%|████████| 79/79 [00:02<00:00, 35.39it/s, train_loss=0.000839, valid_loss=0.00196]\n",
      "Epoch: 59/80: 100%|████████| 79/79 [00:02<00:00, 36.09it/s, train_loss=0.000879, valid_loss=0.00195]\n",
      "Epoch: 60/80: 100%|█████████| 79/79 [00:02<00:00, 35.33it/s, train_loss=0.00114, valid_loss=0.00196]\n",
      "Epoch: 61/80: 100%|████████| 79/79 [00:02<00:00, 35.89it/s, train_loss=0.000816, valid_loss=0.00204]\n",
      "Epoch: 62/80: 100%|████████| 79/79 [00:02<00:00, 35.33it/s, train_loss=0.000814, valid_loss=0.00216]\n",
      "Epoch: 63/80: 100%|████████| 79/79 [00:02<00:00, 36.35it/s, train_loss=0.000828, valid_loss=0.00195]\n",
      "Epoch: 64/80: 100%|████████| 79/79 [00:02<00:00, 35.43it/s, train_loss=0.000838, valid_loss=0.00237]\n",
      "Epoch: 65/80: 100%|████████| 79/79 [00:02<00:00, 36.19it/s, train_loss=0.000808, valid_loss=0.00249]\n",
      "Epoch: 66/80: 100%|████████| 79/79 [00:02<00:00, 35.53it/s, train_loss=0.000769, valid_loss=0.00194]\n",
      "Epoch: 67/80: 100%|████████| 79/79 [00:02<00:00, 36.04it/s, train_loss=0.000797, valid_loss=0.00221]\n",
      "Epoch: 68/80: 100%|████████| 79/79 [00:02<00:00, 35.33it/s, train_loss=0.000852, valid_loss=0.00201]\n",
      "Epoch: 69/80: 100%|█████████| 79/79 [00:02<00:00, 36.08it/s, train_loss=0.000923, valid_loss=0.0019]\n",
      "Epoch: 70/80: 100%|█████████| 79/79 [00:02<00:00, 35.34it/s, train_loss=0.00081, valid_loss=0.00228]\n",
      "Epoch: 71/80: 100%|████████| 79/79 [00:02<00:00, 36.19it/s, train_loss=0.000906, valid_loss=0.00209]\n",
      "Epoch: 72/80: 100%|████████| 79/79 [00:02<00:00, 35.20it/s, train_loss=0.000814, valid_loss=0.00198]\n",
      "Epoch: 73/80: 100%|████████| 79/79 [00:02<00:00, 35.99it/s, train_loss=0.000882, valid_loss=0.00203]\n",
      "Epoch: 74/80: 100%|████████| 79/79 [00:02<00:00, 35.49it/s, train_loss=0.000855, valid_loss=0.00237]\n",
      "Epoch: 75/80: 100%|████████| 79/79 [00:02<00:00, 36.08it/s, train_loss=0.000761, valid_loss=0.00229]\n",
      "Epoch: 76/80: 100%|████████| 79/79 [00:02<00:00, 35.28it/s, train_loss=0.000718, valid_loss=0.00228]\n",
      "Epoch: 77/80: 100%|████████| 79/79 [00:02<00:00, 35.88it/s, train_loss=0.000903, valid_loss=0.00199]\n",
      "Epoch: 78/80: 100%|█████████| 79/79 [00:02<00:00, 35.29it/s, train_loss=0.00081, valid_loss=0.00206]\n",
      "Epoch: 79/80: 100%|█████████| 79/79 [00:02<00:00, 36.15it/s, train_loss=0.000939, valid_loss=0.0025]\n",
      "Epoch: 80/80: 100%|████████| 79/79 [00:02<00:00, 35.18it/s, train_loss=0.000744, valid_loss=0.00197]\n"
     ]
    },
    {
     "name": "stdout",
     "output_type": "stream",
     "text": [
      "supervised data: shape of x: (6237, 72, 16), shape of y: (6237, 24)\n",
      "MAPE:0.033658,SMAPE:0.033439,MAE:441.830892,RMSE:655.306964,RRSE:0.202755,CORR:259.319800\n"
     ]
    },
    {
     "data": {
      "image/png": "[encoded data removed]",
      "text/plain": [
       "<Figure size 432x288 with 1 Axes>"
      ]
     },
     "metadata": {
      "needs_background": "light"
     },
     "output_type": "display_data"
    }
   ],
   "source": [
    "random_seed_set(16)\n",
    "MAPE, SMAPE, MAE, RMSE, RRSE, CORR, load_pred, load_true = run_model_retraining()\n",
    "print('MAPE:{:.6f},SMAPE:{:.6f},MAE:{:.6f},RMSE:{:.6f},RRSE:{:.6f},CORR:{:.6f}'.format(MAPE, SMAPE, MAE, RMSE, RRSE, CORR))"
   ]
  },
  {
   "cell_type": "code",
   "execution_count": 41,
   "id": "d6efa334",
   "metadata": {
    "ExecuteTime": {
     "end_time": "2022-01-09T07:51:29.832371Z",
     "start_time": "2022-01-09T07:51:29.826262Z"
    }
   },
   "outputs": [
    {
     "name": "stdout",
     "output_type": "stream",
     "text": [
      "MAPE:0.033658,SMAPE:0.033439,MAE:441.830892,RMSE:655.306964,RRSE:0.202755,CORR:259.319800\n"
     ]
    }
   ],
   "source": [
    "print('MAPE:{:.6f},SMAPE:{:.6f},MAE:{:.6f},RMSE:{:.6f},RRSE:{:.6f},CORR:{:.6f}'.format(MAPE, SMAPE, MAE, RMSE, RRSE, CORR))"
   ]
  },
  {
   "cell_type": "markdown",
   "id": "596163c8",
   "metadata": {},
   "source": [
    "## figure plot"
   ]
  },
  {
   "cell_type": "code",
   "execution_count": 42,
   "id": "196fae4d",
   "metadata": {
    "ExecuteTime": {
     "end_time": "2022-01-09T07:51:34.315485Z",
     "start_time": "2022-01-09T07:51:34.154340Z"
    }
   },
   "outputs": [
    {
     "data": {
      "text/plain": [
       "(0.0, 20026.868924376722)"
      ]
     },
     "execution_count": 42,
     "metadata": {},
     "output_type": "execute_result"
    },
    {
     "data": {
      "image/png": "[encoded data removed]",
      "text/plain": [
       "<Figure size 1440x720 with 1 Axes>"
      ]
     },
     "metadata": {
      "needs_background": "light"
     },
     "output_type": "display_data"
    }
   ],
   "source": [
    "plt.figure(figsize=(20, 10))\n",
    "load_pred = load_pred.reshape(-1, target_len)\n",
    "load_true = load_true.reshape(-1, target_len)\n",
    "plt.plot(load_pred[:240,0], 'm')\n",
    "plt.plot(load_true[:240,0], 'g')\n",
    "plt.ylim(0)"
   ]
  }
 ],
 "metadata": {
  "kernelspec": {
   "display_name": "Python 3 (ipykernel)",
   "language": "python",
   "name": "python3"
  },
  "language_info": {
   "codemirror_mode": {
    "name": "ipython",
    "version": 3
   },
   "file_extension": ".py",
   "mimetype": "text/x-python",
   "name": "python",
   "nbconvert_exporter": "python",
   "pygments_lexer": "ipython3",
   "version": "3.8.12"
  },
  "toc": {
   "base_numbering": 1,
   "nav_menu": {},
   "number_sections": true,
   "sideBar": true,
   "skip_h1_title": false,
   "title_cell": "Table of Contents",
   "title_sidebar": "Contents",
   "toc_cell": false,
   "toc_position": {
    "height": "calc(100% - 180px)",
    "left": "10px",
    "top": "150px",
    "width": "374.391px"
   },
   "toc_section_display": true,
   "toc_window_display": true
  },
  "varInspector": {
   "cols": {
    "lenName": 16,
    "lenType": 16,
    "lenVar": 40
   },
   "kernels_config": {
    "python": {
     "delete_cmd_postfix": "",
     "delete_cmd_prefix": "del ",
     "library": "var_list.py",
     "varRefreshCmd": "print(var_dic_list())"
    },
    "r": {
     "delete_cmd_postfix": ") ",
     "delete_cmd_prefix": "rm(",
     "library": "var_list.r",
     "varRefreshCmd": "cat(var_dic_list()) "
    }
   },
   "oldHeight": 320.844,
   "position": {
    "height": "342.844px",
    "left": "1482px",
    "right": "20px",
    "top": "127px",
    "width": "350px"
   },
   "types_to_exclude": [
    "module",
    "function",
    "builtin_function_or_method",
    "instance",
    "_Feature"
   ],
   "varInspector_section_display": "block",
   "window_display": false
  }
 },
 "nbformat": 4,
 "nbformat_minor": 5
}
