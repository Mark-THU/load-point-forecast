{
 "cells": [
  {
   "cell_type": "markdown",
   "id": "650fa2ef",
   "metadata": {},
   "source": [
    "# CNN for forecast"
   ]
  },
  {
   "cell_type": "code",
   "execution_count": 2,
   "id": "353a5a79",
   "metadata": {
    "ExecuteTime": {
     "end_time": "2022-01-09T08:36:05.416204Z",
     "start_time": "2022-01-09T08:36:04.372772Z"
    }
   },
   "outputs": [],
   "source": [
    "import pandas as pd\n",
    "import numpy as np\n",
    "import matplotlib.pyplot as plt\n",
    "import pdb\n",
    "import torch\n",
    "import torch.nn as nn\n",
    "import random\n",
    "\n",
    "from sklearn.preprocessing import MinMaxScaler\n",
    "from sklearn.model_selection import train_test_split, TimeSeriesSplit\n",
    "from torch.autograd import Variable\n",
    "from torch.utils.data import TensorDataset, DataLoader\n",
    "from tqdm import tqdm\n",
    "from xgboost import XGBRegressor\n",
    "from torchsummary import summary\n",
    "\n",
    "\n",
    "if torch.cuda.is_available():  \n",
    "    dev = \"cuda:0\" \n",
    "else:  \n",
    "    dev = \"cpu\"\n",
    "device = torch.device(dev)"
   ]
  },
  {
   "cell_type": "markdown",
   "id": "acffcfdd",
   "metadata": {},
   "source": [
    "## random seed"
   ]
  },
  {
   "cell_type": "code",
   "execution_count": 3,
   "id": "a1e45229",
   "metadata": {
    "ExecuteTime": {
     "end_time": "2022-01-09T08:36:05.420938Z",
     "start_time": "2022-01-09T08:36:05.417941Z"
    }
   },
   "outputs": [],
   "source": [
    "def random_seed_set(seed):\n",
    "    np.random.seed(seed)\n",
    "    torch.random.manual_seed(seed)\n",
    "    torch.cuda.random.manual_seed(seed)\n",
    "    torch.backends.cudnn.benchmark = False\n",
    "    torch.backends.cudnn.deterministic = True"
   ]
  },
  {
   "cell_type": "markdown",
   "id": "a181ecfb",
   "metadata": {},
   "source": [
    "## load data"
   ]
  },
  {
   "cell_type": "code",
   "execution_count": 4,
   "id": "62d56eea",
   "metadata": {
    "ExecuteTime": {
     "end_time": "2022-01-09T08:36:05.473103Z",
     "start_time": "2022-01-09T08:36:05.422077Z"
    }
   },
   "outputs": [],
   "source": [
    "url = '../data/beijing.csv'\n",
    "data = pd.read_csv(url, sep=',', index_col='time')\n",
    "data.index = pd.to_datetime(data.index)"
   ]
  },
  {
   "cell_type": "markdown",
   "id": "64421cbc",
   "metadata": {},
   "source": [
    "## normalization"
   ]
  },
  {
   "cell_type": "code",
   "execution_count": 5,
   "id": "9deee9dd",
   "metadata": {
    "ExecuteTime": {
     "end_time": "2022-01-09T08:36:05.478241Z",
     "start_time": "2022-01-09T08:36:05.474936Z"
    }
   },
   "outputs": [],
   "source": [
    "def normalization(data):\n",
    "    \"\"\"\n",
    "    data: original data with load\n",
    "    return: normalized data, scaler of load\n",
    "    \"\"\"\n",
    "    scaler = MinMaxScaler()\n",
    "    normalized_data = scaler.fit_transform(data)\n",
    "    scaler_y = MinMaxScaler()\n",
    "    scaler_y.fit_transform(data[[data.columns[-1]]])\n",
    "    return normalized_data, scaler, scaler_y"
   ]
  },
  {
   "cell_type": "markdown",
   "id": "85f332b0",
   "metadata": {
    "ExecuteTime": {
     "end_time": "2021-12-22T07:45:44.192666Z",
     "start_time": "2021-12-22T07:45:44.188985Z"
    }
   },
   "source": [
    "## build supervised dataset"
   ]
  },
  {
   "cell_type": "code",
   "execution_count": 6,
   "id": "6cf51fa9",
   "metadata": {
    "ExecuteTime": {
     "end_time": "2022-01-09T08:36:05.483365Z",
     "start_time": "2022-01-09T08:36:05.479755Z"
    }
   },
   "outputs": [],
   "source": [
    "def series_to_supervise(data, seq_len, target_len):\n",
    "    \"\"\"\n",
    "    convert series data to supervised data\n",
    "    :param data: original data\n",
    "    :param seq_len: length of input sequence\n",
    "    :param target_len: length of ouput sequence\n",
    "    :return: return two ndarrays-- input and output in format suitable to feed to LSTM\n",
    "    \"\"\"\n",
    "    dim_0 = data.shape[0] - seq_len - target_len + 1\n",
    "    dim_1 = data.shape[1]\n",
    "    x = np.zeros((dim_0, seq_len, dim_1))\n",
    "    y = np.zeros((dim_0, target_len))\n",
    "    for i in range(dim_0):\n",
    "        x[i] = data[i:i + seq_len]\n",
    "        y[i] = data[i + seq_len:i + seq_len + target_len, -1]\n",
    "    print(\"supervised data: shape of x: {}, shape of y: {}\".format(x.shape, y.shape))\n",
    "    return x, y"
   ]
  },
  {
   "cell_type": "markdown",
   "id": "f1645852",
   "metadata": {},
   "source": [
    "## 5-folds TimeSeriesSplit"
   ]
  },
  {
   "cell_type": "code",
   "execution_count": 7,
   "id": "80041062",
   "metadata": {
    "ExecuteTime": {
     "end_time": "2022-01-09T08:36:05.488160Z",
     "start_time": "2022-01-09T08:36:05.484833Z"
    }
   },
   "outputs": [],
   "source": [
    "def time_series_split(X, Y, n_split=5):\n",
    "    \"\"\"\n",
    "    X: features, size * seq_len * feature_num\n",
    "    Y: labels, size * target_len\n",
    "    return: list of train_x, test_x, train_y, test_y\n",
    "    \"\"\"\n",
    "    tscv = TimeSeriesSplit(n_splits=n_split)\n",
    "    train_x_list = list()\n",
    "    valid_x_list = list()\n",
    "    train_y_list = list()\n",
    "    valid_y_list = list()\n",
    "    for train_index, valid_index in tscv.split(X):\n",
    "        train_x_list.append(X[train_index])\n",
    "        train_y_list.append(Y[train_index])\n",
    "        valid_x_list.append(X[valid_index])\n",
    "        valid_y_list.append(Y[valid_index])\n",
    "    return train_x_list, train_y_list, valid_x_list, valid_y_list"
   ]
  },
  {
   "cell_type": "markdown",
   "id": "caf6beb6",
   "metadata": {},
   "source": [
    "## CNN model"
   ]
  },
  {
   "cell_type": "code",
   "execution_count": 8,
   "id": "adc7f84d",
   "metadata": {
    "ExecuteTime": {
     "end_time": "2022-01-09T08:36:05.494786Z",
     "start_time": "2022-01-09T08:36:05.489194Z"
    }
   },
   "outputs": [],
   "source": [
    "class CNN_2D(nn.Module):\n",
    "    def __init__(self, output_size, drop_prob):\n",
    "        super(CNN_2D, self).__init__()\n",
    "\n",
    "        # model parameters\n",
    "        self.output_size = output_size\n",
    "        self.drop_prob = drop_prob\n",
    "        # layes\n",
    "        cnn_1 = nn.Conv2d(1, 6, kernel_size=(11, 7), padding=1)\n",
    "        max_pool_1 = nn.MaxPool2d(kernel_size=(4, 2))\n",
    "        cnn_2 = nn.Conv2d(6, 16, kernel_size=(5, 3))\n",
    "        max_pool_2 = nn.MaxPool2d(kernel_size=(2, 2))\n",
    "        self.fc = nn.Sequential(cnn_1, \n",
    "                                nn.ReLU(), \n",
    "                                max_pool_1,\n",
    "                                cnn_2, \n",
    "                                nn.ReLU(), \n",
    "                                max_pool_2,\n",
    "                                nn.Flatten(), \n",
    "                                nn.Linear(192, 128), \n",
    "                                nn.ReLU(),\n",
    "                                nn.Dropout(self.drop_prob), \n",
    "                                nn.Linear(128, 64),\n",
    "                                nn.ReLU(), \n",
    "                                nn.Dropout(self.drop_prob),\n",
    "                                nn.Linear(64, self.output_size))\n",
    "\n",
    "    def forward(self, x):\n",
    "        x = torch.unsqueeze(x, 1)\n",
    "        out = self.fc(x)\n",
    "\n",
    "        return out"
   ]
  },
  {
   "cell_type": "code",
   "execution_count": 9,
   "id": "171c5a09",
   "metadata": {
    "ExecuteTime": {
     "end_time": "2022-01-09T08:36:05.502506Z",
     "start_time": "2022-01-09T08:36:05.496087Z"
    }
   },
   "outputs": [],
   "source": [
    "class CNN_1D(nn.Module):\n",
    "    def __init__(self, output_size, drop_prob):\n",
    "        super(CNN_1D, self).__init__()\n",
    "\n",
    "        # model parameters\n",
    "        self.output_size = output_size\n",
    "        self.drop_prob = drop_prob\n",
    "        # layes\n",
    "        cnn_1 = nn.Conv1d(16, 16, kernel_size=5, padding=1)\n",
    "        cnn_2 = nn.Conv1d(16, 32, kernel_size=5, stride=2)\n",
    "        max_pool_1 = nn.MaxPool1d(kernel_size=2)\n",
    "        cnn_3 = nn.Conv1d(32, 32, kernel_size=5)\n",
    "        cnn_4 = nn.Conv1d(32, 64, kernel_size=5, stride=2)\n",
    "        max_pool_2 = nn.MaxPool1d(kernel_size=2)\n",
    "        cnn_5 = nn.Conv1d(64, 64, kernel_size=3)\n",
    "        cnn_6 = nn.Conv1d(64, 128, kernel_size=3, stride=2)\n",
    "        max_pool_3 = nn.MaxPool1d(kernel_size=2)\n",
    "        \n",
    "        self.fc = nn.Sequential(cnn_1, \n",
    "                                nn.ReLU(),\n",
    "                                cnn_2, \n",
    "                                nn.ReLU(),                                 \n",
    "#                                 max_pool_1,\n",
    "                                cnn_3,\n",
    "                                nn.ReLU(),\n",
    "                                cnn_4,\n",
    "                                nn.ReLU(),\n",
    "#                                 max_pool_2,\n",
    "                                cnn_5, \n",
    "                                nn.ReLU(),\n",
    "                                cnn_6,\n",
    "                                nn.ReLU(),\n",
    "#                                 max_pool_3,\n",
    "                                nn.Flatten(), \n",
    "                                nn.Linear(640, 256),\n",
    "                                nn.ReLU(), \n",
    "                                nn.Dropout(self.drop_prob),\n",
    "                                nn.Linear(256, 128),\n",
    "                                nn.ReLU(),\n",
    "                                nn.Linear(128, 64),\n",
    "                                nn.ReLU(),\n",
    "                                nn.Linear(64, self.output_size))\n",
    "\n",
    "    def forward(self, x):\n",
    "        x = torch.transpose(x, 1, 2)\n",
    "        out = self.fc(x)\n",
    "\n",
    "        return out"
   ]
  },
  {
   "cell_type": "markdown",
   "id": "a73ea9eb",
   "metadata": {
    "ExecuteTime": {
     "end_time": "2021-12-22T08:30:19.661769Z",
     "start_time": "2021-12-22T08:30:19.656770Z"
    }
   },
   "source": [
    "## model training for HPO"
   ]
  },
  {
   "cell_type": "code",
   "execution_count": 24,
   "id": "ee5b6cd6",
   "metadata": {
    "ExecuteTime": {
     "end_time": "2022-01-09T08:48:44.638995Z",
     "start_time": "2022-01-09T08:48:44.616753Z"
    }
   },
   "outputs": [],
   "source": [
    "def train_model_hpo(train_x_list, train_y_list, valid_x_list, valid_y_list,\n",
    "                    input_size, output_size, mse_thresh, batch_size, lr,\n",
    "                    number_epoch, drop_prob, weight_decay):\n",
    "    valid_loss_list = []\n",
    "    for num in range(len(train_x_list)):\n",
    "        while (1):\n",
    "            model = CNN_1D(output_size, drop_prob)\n",
    "            model.to(device=device)\n",
    "            criterion = nn.MSELoss()\n",
    "            optimizer = torch.optim.Adam(model.parameters(),\n",
    "                                         lr=lr,\n",
    "                                         weight_decay=weight_decay)\n",
    "            scheduler = torch.optim.lr_scheduler.StepLR(optimizer,\n",
    "                                                        1,\n",
    "                                                        gamma=0.98)\n",
    "            valid_loss_min = np.Inf\n",
    "            print('cross-validation dataset {}'.format(num))\n",
    "            train_x = train_x_list[num]\n",
    "            train_y = train_y_list[num]\n",
    "            valid_x = valid_x_list[num]\n",
    "            valid_y = valid_y_list[num]\n",
    "            train_dataset = TensorDataset(torch.FloatTensor(train_x),\n",
    "                                          torch.FloatTensor(train_y))\n",
    "            valid_dataset = TensorDataset(torch.FloatTensor(valid_x),\n",
    "                                          torch.FloatTensor(valid_y))\n",
    "            train_loader = DataLoader(dataset=train_dataset,\n",
    "                                      batch_size=batch_size,\n",
    "                                      shuffle=True,\n",
    "                                      drop_last=False)\n",
    "            valid_loader = DataLoader(dataset=valid_dataset,\n",
    "                                      batch_size=batch_size,\n",
    "                                      shuffle=True,\n",
    "                                      drop_last=False)\n",
    "            num_without_imp = 0\n",
    "            # training process\n",
    "            for epoch in range(1, number_epoch + 1):\n",
    "                loop = tqdm(enumerate(train_loader),\n",
    "                            total=len(train_loader),\n",
    "                            leave=True)\n",
    "                for i, (inputs, labels) in loop:\n",
    "                    inputs = inputs.to(device=device)\n",
    "                    labels = labels.to(device=device)\n",
    "                    optimizer.zero_grad()\n",
    "                    outputs = model(inputs)\n",
    "                    loss = criterion(outputs, labels)\n",
    "                    loss.backward()\n",
    "                    optimizer.step()\n",
    "                    if i % 5 == 0:\n",
    "                        num_without_imp = num_without_imp + 1\n",
    "                        valid_losses = list()\n",
    "                        model.eval()\n",
    "                        for inp, lab in valid_loader:\n",
    "                            inp = inp.to(device)\n",
    "                            lab = lab.to(device)\n",
    "                            out = model(inp)\n",
    "                            valid_loss = criterion(out, lab)\n",
    "                            valid_losses.append(valid_loss.item())\n",
    "\n",
    "                        model.train()\n",
    "                        loop.set_description(\"Epoch: {}/{}\".format(\n",
    "                            epoch, number_epoch))\n",
    "                        loop.set_postfix(train_loss=loss.item(),\n",
    "                                         valid_loss=np.mean(valid_losses))\n",
    "                        if np.mean(valid_losses) < valid_loss_min:\n",
    "                            num_without_imp = 0\n",
    "                            valid_loss_min = np.mean(valid_losses)\n",
    "                scheduler.step()\n",
    "                if num_without_imp >= 50:\n",
    "                    #                     break\n",
    "                    pass\n",
    "            if valid_loss_min < mse_thresh:\n",
    "                valid_loss_list.append(valid_loss_min)\n",
    "                break\n",
    "    return np.mean(valid_loss_list)"
   ]
  },
  {
   "cell_type": "markdown",
   "id": "df3a7801",
   "metadata": {},
   "source": [
    "## hyper-parameters config"
   ]
  },
  {
   "cell_type": "code",
   "execution_count": 11,
   "id": "a955771f",
   "metadata": {
    "ExecuteTime": {
     "end_time": "2022-01-09T08:36:05.519723Z",
     "start_time": "2022-01-09T08:36:05.516008Z"
    }
   },
   "outputs": [],
   "source": [
    "seq_len = 72\n",
    "target_len = 24\n",
    "mse_thresh = 0.05\n",
    "\n",
    "\n",
    "def model_config():\n",
    "    batch_sizes = [256, 512]\n",
    "    lrs = [0.01, 0.005, 0.001]\n",
    "    number_epochs = [30]\n",
    "    drop_prob = [0]\n",
    "    weight_decays = [0]\n",
    "    configs = list()\n",
    "    for i in batch_sizes:\n",
    "        for j in lrs:\n",
    "            for k in number_epochs:\n",
    "                for n in drop_prob:\n",
    "                    for o in weight_decays:\n",
    "                        configs.append({\n",
    "                            'batch_size': i,\n",
    "                            'lr': j,\n",
    "                            'number_epoch': k,\n",
    "                            'drop_prob': n,\n",
    "                            'weight_decay': o,\n",
    "                        })\n",
    "    return configs"
   ]
  },
  {
   "cell_type": "markdown",
   "id": "b1f3de3b",
   "metadata": {},
   "source": [
    "## random search for HPO"
   ]
  },
  {
   "cell_type": "code",
   "execution_count": 12,
   "id": "e6c81dc5",
   "metadata": {
    "ExecuteTime": {
     "end_time": "2022-01-09T08:36:05.526694Z",
     "start_time": "2022-01-09T08:36:05.520895Z"
    }
   },
   "outputs": [],
   "source": [
    "def run_model_hpo(seq_len=seq_len,\n",
    "                  target_len=target_len,\n",
    "                  mse_thresh=mse_thresh):\n",
    "    train_data = data[:int(0.8 * len(data))]\n",
    "    train_data, _, _ = normalization(train_data)\n",
    "    train_x, train_y = series_to_supervise(train_data, seq_len, target_len)\n",
    "    train_x_list, train_y_list, valid_x_list, valid_y_list = time_series_split(\n",
    "        train_x, train_y)\n",
    "    #     with enough data\n",
    "    train_x_list = train_x_list[-1:]\n",
    "    train_y_list = train_y_list[-1:]\n",
    "    valid_x_list = valid_x_list[-1:]\n",
    "    valid_y_list = valid_y_list[-1:]\n",
    "\n",
    "    configs = model_config()\n",
    "    records = []\n",
    "    input_size = train_x.shape[2]\n",
    "    output_size = target_len\n",
    "    for i in range(6):\n",
    "        config = random.choice(configs)\n",
    "        configs.remove(config)\n",
    "        batch_size = config['batch_size']\n",
    "        lr = config['lr']\n",
    "        number_epoch = config['number_epoch']\n",
    "        drop_prob = config['drop_prob']\n",
    "        weight_decay = config['weight_decay']\n",
    "        print(\n",
    "            \"model config: batch_size-{}, lr-{}, number_epoch-{},drop_prob-{},weight_decay-{}\"\n",
    "            .format(batch_size, lr, number_epoch, drop_prob, weight_decay))\n",
    "        valid_loss = train_model_hpo(train_x_list, train_y_list, valid_x_list,\n",
    "                                     valid_y_list, input_size, output_size,\n",
    "                                     mse_thresh, batch_size, lr, number_epoch,\n",
    "                                     drop_prob, weight_decay)\n",
    "        records.append({\n",
    "            'batch_size': batch_size,\n",
    "            'lr': lr,\n",
    "            'number_epoch': number_epoch,\n",
    "            'drop_prob': drop_prob,\n",
    "            'weight_decay': weight_decay,\n",
    "            'valid_loss': valid_loss\n",
    "        })\n",
    "    return records"
   ]
  },
  {
   "cell_type": "markdown",
   "id": "cc1f7b7f",
   "metadata": {},
   "source": [
    "## run random search"
   ]
  },
  {
   "cell_type": "code",
   "execution_count": 145,
   "id": "953b5798",
   "metadata": {
    "ExecuteTime": {
     "end_time": "2021-12-30T07:14:32.774241Z",
     "start_time": "2021-12-30T07:09:47.928703Z"
    },
    "scrolled": true
   },
   "outputs": [
    {
     "name": "stdout",
     "output_type": "stream",
     "text": [
      "supervised data: shape of x: (25232, 72, 16), shape of y: (25232, 24)\n",
      "model config: batch_size-512, lr-0.005, number_epoch-30,drop_prob-0,weight_decay-0\n",
      "cross-validation dataset 0\n"
     ]
    },
    {
     "name": "stderr",
     "output_type": "stream",
     "text": [
      "Epoch: 1/30: 100%|██████████| 42/42 [00:01<00:00, 36.42it/s, train_loss=0.0325, valid_loss=0.0353]\n",
      "Epoch: 2/30: 100%|██████████| 42/42 [00:01<00:00, 36.55it/s, train_loss=0.0313, valid_loss=0.0344]\n",
      "Epoch: 3/30: 100%|██████████| 42/42 [00:01<00:00, 30.28it/s, train_loss=0.0191, valid_loss=0.0275]\n",
      "Epoch: 4/30: 100%|██████████| 42/42 [00:00<00:00, 42.59it/s, train_loss=0.0133, valid_loss=0.024] \n",
      "Epoch: 5/30: 100%|██████████| 42/42 [00:00<00:00, 44.19it/s, train_loss=0.0131, valid_loss=0.0243]\n",
      "Epoch: 6/30: 100%|██████████| 42/42 [00:00<00:00, 43.86it/s, train_loss=0.0111, valid_loss=0.0185]\n",
      "Epoch: 7/30: 100%|██████████| 42/42 [00:01<00:00, 37.68it/s, train_loss=0.00654, valid_loss=0.00913]\n",
      "Epoch: 8/30: 100%|██████████| 42/42 [00:00<00:00, 44.24it/s, train_loss=0.0047, valid_loss=0.00638] \n",
      "Epoch: 9/30: 100%|██████████| 42/42 [00:00<00:00, 44.20it/s, train_loss=0.00429, valid_loss=0.00545]\n",
      "Epoch: 10/30: 100%|██████████| 42/42 [00:00<00:00, 43.30it/s, train_loss=0.0034, valid_loss=0.00493] \n",
      "Epoch: 11/30: 100%|██████████| 42/42 [00:00<00:00, 44.31it/s, train_loss=0.00321, valid_loss=0.00454]\n",
      "Epoch: 12/30: 100%|██████████| 42/42 [00:00<00:00, 43.68it/s, train_loss=0.00291, valid_loss=0.00433]\n",
      "Epoch: 13/30: 100%|██████████| 42/42 [00:01<00:00, 39.22it/s, train_loss=0.00343, valid_loss=0.00448]\n",
      "Epoch: 14/30: 100%|██████████| 42/42 [00:00<00:00, 44.33it/s, train_loss=0.00271, valid_loss=0.00433]\n",
      "Epoch: 15/30: 100%|██████████| 42/42 [00:00<00:00, 42.24it/s, train_loss=0.00299, valid_loss=0.00431]\n",
      "Epoch: 16/30: 100%|██████████| 42/42 [00:00<00:00, 43.09it/s, train_loss=0.00303, valid_loss=0.00401]\n",
      "Epoch: 17/30: 100%|██████████| 42/42 [00:00<00:00, 43.99it/s, train_loss=0.00232, valid_loss=0.00397]\n",
      "Epoch: 18/30: 100%|██████████| 42/42 [00:01<00:00, 41.98it/s, train_loss=0.00262, valid_loss=0.00391]\n",
      "Epoch: 19/30: 100%|██████████| 42/42 [00:01<00:00, 41.88it/s, train_loss=0.00294, valid_loss=0.00391]\n",
      "Epoch: 20/30: 100%|██████████| 42/42 [00:01<00:00, 38.03it/s, train_loss=0.00258, valid_loss=0.00371]\n",
      "Epoch: 21/30: 100%|██████████| 42/42 [00:00<00:00, 42.24it/s, train_loss=0.00218, valid_loss=0.00375]\n",
      "Epoch: 22/30: 100%|██████████| 42/42 [00:00<00:00, 42.73it/s, train_loss=0.00253, valid_loss=0.00358]\n",
      "Epoch: 23/30: 100%|██████████| 42/42 [00:01<00:00, 37.98it/s, train_loss=0.00239, valid_loss=0.00375]\n",
      "Epoch: 24/30: 100%|██████████| 42/42 [00:00<00:00, 42.97it/s, train_loss=0.00218, valid_loss=0.00347]\n",
      "Epoch: 25/30: 100%|██████████| 42/42 [00:00<00:00, 42.45it/s, train_loss=0.00224, valid_loss=0.00362]\n",
      "Epoch: 26/30: 100%|██████████| 42/42 [00:00<00:00, 42.26it/s, train_loss=0.00207, valid_loss=0.00354]\n",
      "Epoch: 27/30: 100%|██████████| 42/42 [00:01<00:00, 37.35it/s, train_loss=0.00234, valid_loss=0.00349]\n",
      "Epoch: 28/30: 100%|██████████| 42/42 [00:00<00:00, 42.11it/s, train_loss=0.00233, valid_loss=0.00338]\n",
      "Epoch: 29/30: 100%|██████████| 42/42 [00:00<00:00, 42.53it/s, train_loss=0.00212, valid_loss=0.00346]\n",
      "Epoch: 30/30: 100%|██████████| 42/42 [00:01<00:00, 38.05it/s, train_loss=0.00191, valid_loss=0.00326]\n"
     ]
    },
    {
     "name": "stdout",
     "output_type": "stream",
     "text": [
      "model config: batch_size-256, lr-0.005, number_epoch-30,drop_prob-0,weight_decay-0\n",
      "cross-validation dataset 0\n"
     ]
    },
    {
     "name": "stderr",
     "output_type": "stream",
     "text": [
      "Epoch: 1/30: 100%|██████████| 83/83 [00:02<00:00, 37.42it/s, train_loss=0.0145, valid_loss=0.024] \n",
      "Epoch: 2/30: 100%|██████████| 83/83 [00:02<00:00, 37.82it/s, train_loss=0.0105, valid_loss=0.0183]\n",
      "Epoch: 3/30: 100%|██████████| 83/83 [00:02<00:00, 38.54it/s, train_loss=0.00376, valid_loss=0.00643]\n",
      "Epoch: 4/30: 100%|██████████| 83/83 [00:02<00:00, 35.86it/s, train_loss=0.00335, valid_loss=0.00417]\n",
      "Epoch: 5/30: 100%|██████████| 83/83 [00:02<00:00, 38.07it/s, train_loss=0.00224, valid_loss=0.00385]\n",
      "Epoch: 6/30: 100%|██████████| 83/83 [00:02<00:00, 37.55it/s, train_loss=0.00183, valid_loss=0.00346]\n",
      "Epoch: 7/30: 100%|██████████| 83/83 [00:02<00:00, 37.43it/s, train_loss=0.00159, valid_loss=0.00339]\n",
      "Epoch: 8/30: 100%|██████████| 83/83 [00:02<00:00, 37.82it/s, train_loss=0.0018, valid_loss=0.00391] \n",
      "Epoch: 9/30: 100%|██████████| 83/83 [00:02<00:00, 35.84it/s, train_loss=0.00204, valid_loss=0.00326]\n",
      "Epoch: 10/30: 100%|██████████| 83/83 [00:02<00:00, 37.97it/s, train_loss=0.00175, valid_loss=0.00316]\n",
      "Epoch: 11/30: 100%|██████████| 83/83 [00:02<00:00, 37.90it/s, train_loss=0.00147, valid_loss=0.0038] \n",
      "Epoch: 12/30: 100%|██████████| 83/83 [00:02<00:00, 37.69it/s, train_loss=0.00207, valid_loss=0.00331]\n",
      "Epoch: 13/30: 100%|██████████| 83/83 [00:02<00:00, 35.85it/s, train_loss=0.00144, valid_loss=0.00421]\n",
      "Epoch: 14/30: 100%|██████████| 83/83 [00:02<00:00, 37.89it/s, train_loss=0.00124, valid_loss=0.0032] \n",
      "Epoch: 15/30: 100%|██████████| 83/83 [00:02<00:00, 38.05it/s, train_loss=0.00144, valid_loss=0.00346]\n",
      "Epoch: 16/30: 100%|██████████| 83/83 [00:02<00:00, 38.35it/s, train_loss=0.00123, valid_loss=0.0032] \n",
      "Epoch: 17/30: 100%|██████████| 83/83 [00:02<00:00, 35.99it/s, train_loss=0.00102, valid_loss=0.00505] \n",
      "Epoch: 18/30: 100%|██████████| 83/83 [00:02<00:00, 36.94it/s, train_loss=0.00136, valid_loss=0.00349] \n",
      "Epoch: 19/30: 100%|██████████| 83/83 [00:02<00:00, 37.98it/s, train_loss=0.000866, valid_loss=0.00397]\n",
      "Epoch: 20/30: 100%|██████████| 83/83 [00:02<00:00, 37.87it/s, train_loss=0.001, valid_loss=0.00351]   \n",
      "Epoch: 21/30: 100%|██████████| 83/83 [00:02<00:00, 36.21it/s, train_loss=0.00111, valid_loss=0.00333] \n",
      "Epoch: 22/30: 100%|██████████| 83/83 [00:02<00:00, 37.45it/s, train_loss=0.000916, valid_loss=0.00338]\n",
      "Epoch: 23/30: 100%|██████████| 83/83 [00:02<00:00, 37.78it/s, train_loss=0.000776, valid_loss=0.00332]\n",
      "Epoch: 24/30: 100%|██████████| 83/83 [00:02<00:00, 38.01it/s, train_loss=0.000671, valid_loss=0.00352]\n",
      "Epoch: 25/30: 100%|██████████| 83/83 [00:02<00:00, 35.70it/s, train_loss=0.000886, valid_loss=0.004]  \n",
      "Epoch: 26/30: 100%|██████████| 83/83 [00:02<00:00, 38.06it/s, train_loss=0.00076, valid_loss=0.00408] \n",
      "Epoch: 27/30: 100%|██████████| 83/83 [00:02<00:00, 37.93it/s, train_loss=0.000666, valid_loss=0.00356]\n",
      "Epoch: 28/30: 100%|██████████| 83/83 [00:02<00:00, 38.25it/s, train_loss=0.000849, valid_loss=0.00333]\n",
      "Epoch: 29/30: 100%|██████████| 83/83 [00:02<00:00, 38.41it/s, train_loss=0.00075, valid_loss=0.0037]  \n",
      "Epoch: 30/30: 100%|██████████| 83/83 [00:02<00:00, 36.23it/s, train_loss=0.000601, valid_loss=0.00359]\n"
     ]
    },
    {
     "name": "stdout",
     "output_type": "stream",
     "text": [
      "model config: batch_size-256, lr-0.001, number_epoch-30,drop_prob-0,weight_decay-0\n",
      "cross-validation dataset 0\n"
     ]
    },
    {
     "name": "stderr",
     "output_type": "stream",
     "text": [
      "Epoch: 1/30: 100%|██████████| 83/83 [00:02<00:00, 40.66it/s, train_loss=0.0148, valid_loss=0.0247]\n",
      "Epoch: 2/30: 100%|██████████| 83/83 [00:02<00:00, 41.02it/s, train_loss=0.0133, valid_loss=0.0225]\n",
      "Epoch: 3/30: 100%|██████████| 83/83 [00:02<00:00, 40.99it/s, train_loss=0.00542, valid_loss=0.00754]\n",
      "Epoch: 4/30: 100%|██████████| 83/83 [00:02<00:00, 38.81it/s, train_loss=0.00448, valid_loss=0.00597]\n",
      "Epoch: 5/30: 100%|██████████| 83/83 [00:02<00:00, 40.50it/s, train_loss=0.00349, valid_loss=0.0053] \n",
      "Epoch: 6/30: 100%|██████████| 83/83 [00:02<00:00, 40.97it/s, train_loss=0.00297, valid_loss=0.00435]\n",
      "Epoch: 7/30: 100%|██████████| 83/83 [00:02<00:00, 40.76it/s, train_loss=0.00255, valid_loss=0.00418]\n",
      "Epoch: 8/30: 100%|██████████| 83/83 [00:02<00:00, 38.94it/s, train_loss=0.00237, valid_loss=0.0041] \n",
      "Epoch: 9/30: 100%|██████████| 83/83 [00:02<00:00, 40.84it/s, train_loss=0.00269, valid_loss=0.00414]\n",
      "Epoch: 10/30: 100%|██████████| 83/83 [00:02<00:00, 40.83it/s, train_loss=0.0022, valid_loss=0.00441] \n",
      "Epoch: 11/30: 100%|██████████| 83/83 [00:02<00:00, 40.77it/s, train_loss=0.0016, valid_loss=0.00402] \n",
      "Epoch: 12/30: 100%|██████████| 83/83 [00:02<00:00, 38.66it/s, train_loss=0.0022, valid_loss=0.00332] \n",
      "Epoch: 13/30: 100%|██████████| 83/83 [00:02<00:00, 40.79it/s, train_loss=0.00161, valid_loss=0.00348]\n",
      "Epoch: 14/30: 100%|██████████| 83/83 [00:02<00:00, 40.77it/s, train_loss=0.00215, valid_loss=0.00327]\n",
      "Epoch: 15/30: 100%|██████████| 83/83 [00:02<00:00, 41.20it/s, train_loss=0.0017, valid_loss=0.00323] \n",
      "Epoch: 16/30: 100%|██████████| 83/83 [00:02<00:00, 39.15it/s, train_loss=0.00184, valid_loss=0.00384]\n",
      "Epoch: 17/30: 100%|██████████| 83/83 [00:02<00:00, 40.34it/s, train_loss=0.00152, valid_loss=0.00418]\n",
      "Epoch: 18/30: 100%|██████████| 83/83 [00:02<00:00, 40.57it/s, train_loss=0.00167, valid_loss=0.00304]\n",
      "Epoch: 19/30: 100%|██████████| 83/83 [00:02<00:00, 41.01it/s, train_loss=0.00145, valid_loss=0.00301]\n",
      "Epoch: 20/30: 100%|██████████| 83/83 [00:02<00:00, 40.77it/s, train_loss=0.00158, valid_loss=0.00325]\n",
      "Epoch: 21/30: 100%|██████████| 83/83 [00:02<00:00, 38.10it/s, train_loss=0.00149, valid_loss=0.00335]\n",
      "Epoch: 22/30: 100%|██████████| 83/83 [00:02<00:00, 39.65it/s, train_loss=0.00159, valid_loss=0.00315]\n",
      "Epoch: 23/30: 100%|██████████| 83/83 [00:02<00:00, 37.92it/s, train_loss=0.00112, valid_loss=0.00305]\n",
      "Epoch: 24/30: 100%|██████████| 83/83 [00:02<00:00, 38.28it/s, train_loss=0.00149, valid_loss=0.00303]\n",
      "Epoch: 25/30: 100%|██████████| 83/83 [00:02<00:00, 36.68it/s, train_loss=0.0014, valid_loss=0.00298] \n",
      "Epoch: 26/30: 100%|██████████| 83/83 [00:02<00:00, 38.13it/s, train_loss=0.000952, valid_loss=0.00296]\n",
      "Epoch: 27/30: 100%|██████████| 83/83 [00:02<00:00, 39.03it/s, train_loss=0.00138, valid_loss=0.00332]\n",
      "Epoch: 28/30: 100%|██████████| 83/83 [00:02<00:00, 38.32it/s, train_loss=0.00174, valid_loss=0.0033] \n",
      "Epoch: 29/30: 100%|██████████| 83/83 [00:02<00:00, 36.59it/s, train_loss=0.00104, valid_loss=0.00338]\n",
      "Epoch: 30/30: 100%|██████████| 83/83 [00:02<00:00, 38.95it/s, train_loss=0.00107, valid_loss=0.00297]\n"
     ]
    },
    {
     "name": "stdout",
     "output_type": "stream",
     "text": [
      "model config: batch_size-512, lr-0.01, number_epoch-30,drop_prob-0,weight_decay-0\n",
      "cross-validation dataset 0\n"
     ]
    },
    {
     "name": "stderr",
     "output_type": "stream",
     "text": [
      "Epoch: 1/30: 100%|██████████| 42/42 [00:01<00:00, 41.36it/s, train_loss=0.0324, valid_loss=0.0375]\n",
      "Epoch: 2/30: 100%|██████████| 42/42 [00:00<00:00, 42.22it/s, train_loss=0.0314, valid_loss=0.035] \n",
      "Epoch: 3/30: 100%|██████████| 42/42 [00:00<00:00, 42.03it/s, train_loss=0.0297, valid_loss=0.0357]\n",
      "Epoch: 4/30: 100%|██████████| 42/42 [00:00<00:00, 42.90it/s, train_loss=0.0308, valid_loss=0.0347]\n",
      "Epoch: 5/30: 100%|██████████| 42/42 [00:01<00:00, 38.21it/s, train_loss=0.0336, valid_loss=0.0356]\n",
      "Epoch: 6/30: 100%|██████████| 42/42 [00:00<00:00, 43.20it/s, train_loss=0.0329, valid_loss=0.0356]\n",
      "Epoch: 7/30: 100%|██████████| 42/42 [00:00<00:00, 43.41it/s, train_loss=0.0312, valid_loss=0.0353]\n",
      "Epoch: 8/30: 100%|██████████| 42/42 [00:00<00:00, 42.72it/s, train_loss=0.0309, valid_loss=0.0354]\n",
      "Epoch: 9/30: 100%|██████████| 42/42 [00:00<00:00, 43.13it/s, train_loss=0.032, valid_loss=0.0349] \n",
      "Epoch: 10/30: 100%|██████████| 42/42 [00:00<00:00, 42.68it/s, train_loss=0.0319, valid_loss=0.0358]\n",
      "Epoch: 11/30: 100%|██████████| 42/42 [00:01<00:00, 38.35it/s, train_loss=0.0339, valid_loss=0.0346]\n",
      "Epoch: 12/30: 100%|██████████| 42/42 [00:00<00:00, 42.35it/s, train_loss=0.0307, valid_loss=0.0355]\n",
      "Epoch: 13/30: 100%|██████████| 42/42 [00:00<00:00, 42.79it/s, train_loss=0.0309, valid_loss=0.0352]\n",
      "Epoch: 14/30: 100%|██████████| 42/42 [00:00<00:00, 42.57it/s, train_loss=0.0309, valid_loss=0.035] \n",
      "Epoch: 15/30: 100%|██████████| 42/42 [00:00<00:00, 42.82it/s, train_loss=0.0322, valid_loss=0.0357]\n",
      "Epoch: 16/30: 100%|██████████| 42/42 [00:01<00:00, 41.37it/s, train_loss=0.0304, valid_loss=0.0349]\n",
      "Epoch: 17/30: 100%|██████████| 42/42 [00:00<00:00, 42.74it/s, train_loss=0.0309, valid_loss=0.0353]\n",
      "Epoch: 18/30: 100%|██████████| 42/42 [00:01<00:00, 38.20it/s, train_loss=0.0314, valid_loss=0.0351]\n",
      "Epoch: 19/30: 100%|██████████| 42/42 [00:00<00:00, 42.59it/s, train_loss=0.0307, valid_loss=0.0351]\n",
      "Epoch: 20/30: 100%|██████████| 42/42 [00:01<00:00, 41.99it/s, train_loss=0.0301, valid_loss=0.0358]\n",
      "Epoch: 21/30: 100%|██████████| 42/42 [00:01<00:00, 38.93it/s, train_loss=0.0307, valid_loss=0.035] \n",
      "Epoch: 22/30: 100%|██████████| 42/42 [00:00<00:00, 42.50it/s, train_loss=0.0317, valid_loss=0.0351]\n",
      "Epoch: 23/30: 100%|██████████| 42/42 [00:00<00:00, 42.22it/s, train_loss=0.0332, valid_loss=0.0346]\n",
      "Epoch: 24/30: 100%|██████████| 42/42 [00:00<00:00, 42.48it/s, train_loss=0.0305, valid_loss=0.0358]\n",
      "Epoch: 25/30: 100%|██████████| 42/42 [00:01<00:00, 41.91it/s, train_loss=0.0297, valid_loss=0.0351]\n",
      "Epoch: 26/30: 100%|██████████| 42/42 [00:00<00:00, 42.39it/s, train_loss=0.0317, valid_loss=0.035] \n",
      "Epoch: 27/30: 100%|██████████| 42/42 [00:01<00:00, 41.76it/s, train_loss=0.0311, valid_loss=0.035] \n",
      "Epoch: 28/30: 100%|██████████| 42/42 [00:01<00:00, 38.58it/s, train_loss=0.0323, valid_loss=0.0353]\n",
      "Epoch: 29/30: 100%|██████████| 42/42 [00:00<00:00, 42.50it/s, train_loss=0.0302, valid_loss=0.0357]\n",
      "Epoch: 30/30: 100%|██████████| 42/42 [00:00<00:00, 42.21it/s, train_loss=0.032, valid_loss=0.0353] \n"
     ]
    },
    {
     "name": "stdout",
     "output_type": "stream",
     "text": [
      "model config: batch_size-512, lr-0.001, number_epoch-30,drop_prob-0,weight_decay-0\n",
      "cross-validation dataset 0\n"
     ]
    },
    {
     "name": "stderr",
     "output_type": "stream",
     "text": [
      "Epoch: 1/30: 100%|██████████| 42/42 [00:01<00:00, 41.21it/s, train_loss=0.0303, valid_loss=0.0376]\n",
      "Epoch: 2/30: 100%|██████████| 42/42 [00:00<00:00, 42.14it/s, train_loss=0.019, valid_loss=0.029]  \n",
      "Epoch: 3/30: 100%|██████████| 42/42 [00:01<00:00, 41.83it/s, train_loss=0.0144, valid_loss=0.0242]\n",
      "Epoch: 4/30: 100%|██████████| 42/42 [00:01<00:00, 38.26it/s, train_loss=0.0141, valid_loss=0.0235]\n",
      "Epoch: 5/30: 100%|██████████| 42/42 [00:00<00:00, 42.56it/s, train_loss=0.00869, valid_loss=0.0137]\n",
      "Epoch: 6/30: 100%|██████████| 42/42 [00:01<00:00, 41.93it/s, train_loss=0.00484, valid_loss=0.0067] \n",
      "Epoch: 7/30: 100%|██████████| 42/42 [00:00<00:00, 42.15it/s, train_loss=0.00383, valid_loss=0.0057] \n",
      "Epoch: 8/30: 100%|██████████| 42/42 [00:00<00:00, 42.55it/s, train_loss=0.00333, valid_loss=0.00483]\n",
      "Epoch: 9/30: 100%|██████████| 42/42 [00:00<00:00, 42.70it/s, train_loss=0.00274, valid_loss=0.00444]\n",
      "Epoch: 10/30: 100%|██████████| 42/42 [00:00<00:00, 42.53it/s, train_loss=0.00253, valid_loss=0.0045] \n",
      "Epoch: 11/30: 100%|██████████| 42/42 [00:01<00:00, 37.34it/s, train_loss=0.00263, valid_loss=0.00391]\n",
      "Epoch: 12/30: 100%|██████████| 42/42 [00:00<00:00, 42.77it/s, train_loss=0.00224, valid_loss=0.00376]\n",
      "Epoch: 13/30: 100%|██████████| 42/42 [00:00<00:00, 42.16it/s, train_loss=0.00225, valid_loss=0.0037] \n",
      "Epoch: 14/30: 100%|██████████| 42/42 [00:00<00:00, 42.71it/s, train_loss=0.00187, valid_loss=0.00359]\n",
      "Epoch: 15/30: 100%|██████████| 42/42 [00:01<00:00, 38.46it/s, train_loss=0.00183, valid_loss=0.00332]\n",
      "Epoch: 16/30: 100%|██████████| 42/42 [00:00<00:00, 42.84it/s, train_loss=0.00185, valid_loss=0.0033] \n",
      "Epoch: 17/30: 100%|██████████| 42/42 [00:00<00:00, 42.81it/s, train_loss=0.00159, valid_loss=0.00333]\n",
      "Epoch: 18/30: 100%|██████████| 42/42 [00:01<00:00, 37.74it/s, train_loss=0.00168, valid_loss=0.00314]\n",
      "Epoch: 19/30: 100%|██████████| 42/42 [00:00<00:00, 42.07it/s, train_loss=0.00189, valid_loss=0.00325]\n",
      "Epoch: 20/30: 100%|██████████| 42/42 [00:00<00:00, 42.44it/s, train_loss=0.00145, valid_loss=0.00313]\n",
      "Epoch: 21/30: 100%|██████████| 42/42 [00:00<00:00, 42.75it/s, train_loss=0.00151, valid_loss=0.00305]\n",
      "Epoch: 22/30: 100%|██████████| 42/42 [00:01<00:00, 41.65it/s, train_loss=0.00134, valid_loss=0.00361]\n",
      "Epoch: 23/30: 100%|██████████| 42/42 [00:01<00:00, 41.12it/s, train_loss=0.00168, valid_loss=0.00317]\n",
      "Epoch: 24/30: 100%|██████████| 42/42 [00:00<00:00, 43.38it/s, train_loss=0.00134, valid_loss=0.0037] \n",
      "Epoch: 25/30: 100%|██████████| 42/42 [00:01<00:00, 37.80it/s, train_loss=0.00144, valid_loss=0.00325]\n",
      "Epoch: 26/30: 100%|██████████| 42/42 [00:00<00:00, 43.42it/s, train_loss=0.00144, valid_loss=0.0034] \n",
      "Epoch: 27/30: 100%|██████████| 42/42 [00:01<00:00, 41.64it/s, train_loss=0.00126, valid_loss=0.00312]\n",
      "Epoch: 28/30: 100%|██████████| 42/42 [00:00<00:00, 43.11it/s, train_loss=0.0014, valid_loss=0.00367] \n",
      "Epoch: 29/30: 100%|██████████| 42/42 [00:00<00:00, 42.32it/s, train_loss=0.00127, valid_loss=0.00325]\n",
      "Epoch: 30/30: 100%|██████████| 42/42 [00:00<00:00, 43.34it/s, train_loss=0.00117, valid_loss=0.00374]\n"
     ]
    },
    {
     "name": "stdout",
     "output_type": "stream",
     "text": [
      "model config: batch_size-256, lr-0.01, number_epoch-30,drop_prob-0,weight_decay-0\n",
      "cross-validation dataset 0\n"
     ]
    },
    {
     "name": "stderr",
     "output_type": "stream",
     "text": [
      "Epoch: 1/30: 100%|██████████| 83/83 [00:02<00:00, 36.36it/s, train_loss=0.0303, valid_loss=0.0355]\n",
      "Epoch: 2/30: 100%|██████████| 83/83 [00:02<00:00, 38.33it/s, train_loss=0.0292, valid_loss=0.0353]\n",
      "Epoch: 3/30: 100%|██████████| 83/83 [00:02<00:00, 37.98it/s, train_loss=0.0298, valid_loss=0.0355]\n",
      "Epoch: 4/30: 100%|██████████| 83/83 [00:02<00:00, 38.55it/s, train_loss=0.0311, valid_loss=0.0358]\n",
      "Epoch: 5/30: 100%|██████████| 83/83 [00:02<00:00, 36.84it/s, train_loss=0.0313, valid_loss=0.0349]\n",
      "Epoch: 6/30: 100%|██████████| 83/83 [00:02<00:00, 38.54it/s, train_loss=0.0317, valid_loss=0.0351]\n",
      "Epoch: 7/30: 100%|██████████| 83/83 [00:02<00:00, 38.98it/s, train_loss=0.028, valid_loss=0.0352] \n",
      "Epoch: 8/30: 100%|██████████| 83/83 [00:02<00:00, 39.04it/s, train_loss=0.0327, valid_loss=0.0345]\n",
      "Epoch: 9/30: 100%|██████████| 83/83 [00:02<00:00, 36.53it/s, train_loss=0.0326, valid_loss=0.0359]\n",
      "Epoch: 10/30: 100%|██████████| 83/83 [00:02<00:00, 40.88it/s, train_loss=0.0317, valid_loss=0.0355]\n",
      "Epoch: 11/30: 100%|██████████| 83/83 [00:02<00:00, 40.64it/s, train_loss=0.0313, valid_loss=0.0352]\n",
      "Epoch: 12/30: 100%|██████████| 83/83 [00:02<00:00, 40.93it/s, train_loss=0.0301, valid_loss=0.0351]\n",
      "Epoch: 13/30: 100%|██████████| 83/83 [00:02<00:00, 40.97it/s, train_loss=0.0304, valid_loss=0.0353]\n",
      "Epoch: 14/30: 100%|██████████| 83/83 [00:02<00:00, 38.85it/s, train_loss=0.0297, valid_loss=0.0348]\n",
      "Epoch: 15/30: 100%|██████████| 83/83 [00:02<00:00, 41.00it/s, train_loss=0.0323, valid_loss=0.0349]\n",
      "Epoch: 16/30: 100%|██████████| 83/83 [00:02<00:00, 41.16it/s, train_loss=0.028, valid_loss=0.035]  \n",
      "Epoch: 17/30: 100%|██████████| 83/83 [00:02<00:00, 40.81it/s, train_loss=0.0295, valid_loss=0.0351]\n",
      "Epoch: 18/30: 100%|██████████| 83/83 [00:02<00:00, 39.12it/s, train_loss=0.0333, valid_loss=0.0349]\n",
      "Epoch: 19/30: 100%|██████████| 83/83 [00:02<00:00, 41.00it/s, train_loss=0.0291, valid_loss=0.0354]\n",
      "Epoch: 20/30: 100%|██████████| 83/83 [00:02<00:00, 40.90it/s, train_loss=0.0288, valid_loss=0.0355]\n",
      "Epoch: 21/30: 100%|██████████| 83/83 [00:02<00:00, 40.94it/s, train_loss=0.032, valid_loss=0.0349] \n",
      "Epoch: 22/30: 100%|██████████| 83/83 [00:02<00:00, 39.30it/s, train_loss=0.0319, valid_loss=0.0348]\n",
      "Epoch: 23/30: 100%|██████████| 83/83 [00:02<00:00, 40.74it/s, train_loss=0.0312, valid_loss=0.0356]\n",
      "Epoch: 24/30: 100%|██████████| 83/83 [00:02<00:00, 40.64it/s, train_loss=0.0297, valid_loss=0.0364]\n",
      "Epoch: 25/30: 100%|██████████| 83/83 [00:02<00:00, 40.88it/s, train_loss=0.0289, valid_loss=0.0352]\n",
      "Epoch: 26/30: 100%|██████████| 83/83 [00:02<00:00, 38.68it/s, train_loss=0.0298, valid_loss=0.0357]\n",
      "Epoch: 27/30: 100%|██████████| 83/83 [00:02<00:00, 40.53it/s, train_loss=0.033, valid_loss=0.0351] \n",
      "Epoch: 28/30: 100%|██████████| 83/83 [00:02<00:00, 41.38it/s, train_loss=0.0304, valid_loss=0.0357]\n",
      "Epoch: 29/30: 100%|██████████| 83/83 [00:02<00:00, 40.33it/s, train_loss=0.0302, valid_loss=0.0353]\n",
      "Epoch: 30/30: 100%|██████████| 83/83 [00:02<00:00, 38.40it/s, train_loss=0.03, valid_loss=0.0348]  \n"
     ]
    }
   ],
   "source": [
    "random_seed_set(42)\n",
    "records = run_model_hpo()"
   ]
  },
  {
   "cell_type": "markdown",
   "id": "e6ea5bf8",
   "metadata": {
    "ExecuteTime": {
     "end_time": "2021-12-22T08:52:06.844501Z",
     "start_time": "2021-12-22T08:52:06.830928Z"
    }
   },
   "source": [
    "## find the best hyper-parameters"
   ]
  },
  {
   "cell_type": "code",
   "execution_count": 146,
   "id": "6b65d130",
   "metadata": {
    "ExecuteTime": {
     "end_time": "2021-12-30T07:14:35.554037Z",
     "start_time": "2021-12-30T07:14:35.532131Z"
    }
   },
   "outputs": [
    {
     "data": {
      "text/html": [
       "<div>\n",
       "<style scoped>\n",
       "    .dataframe tbody tr th:only-of-type {\n",
       "        vertical-align: middle;\n",
       "    }\n",
       "\n",
       "    .dataframe tbody tr th {\n",
       "        vertical-align: top;\n",
       "    }\n",
       "\n",
       "    .dataframe thead th {\n",
       "        text-align: right;\n",
       "    }\n",
       "</style>\n",
       "<table border=\"1\" class=\"dataframe\">\n",
       "  <thead>\n",
       "    <tr style=\"text-align: right;\">\n",
       "      <th></th>\n",
       "      <th>batch_size</th>\n",
       "      <th>lr</th>\n",
       "      <th>number_epoch</th>\n",
       "      <th>drop_prob</th>\n",
       "      <th>weight_decay</th>\n",
       "      <th>valid_loss</th>\n",
       "    </tr>\n",
       "  </thead>\n",
       "  <tbody>\n",
       "    <tr>\n",
       "      <th>2</th>\n",
       "      <td>256</td>\n",
       "      <td>0.001</td>\n",
       "      <td>30</td>\n",
       "      <td>0</td>\n",
       "      <td>0</td>\n",
       "      <td>0.002885</td>\n",
       "    </tr>\n",
       "    <tr>\n",
       "      <th>4</th>\n",
       "      <td>512</td>\n",
       "      <td>0.001</td>\n",
       "      <td>30</td>\n",
       "      <td>0</td>\n",
       "      <td>0</td>\n",
       "      <td>0.002920</td>\n",
       "    </tr>\n",
       "    <tr>\n",
       "      <th>1</th>\n",
       "      <td>256</td>\n",
       "      <td>0.005</td>\n",
       "      <td>30</td>\n",
       "      <td>0</td>\n",
       "      <td>0</td>\n",
       "      <td>0.002975</td>\n",
       "    </tr>\n",
       "    <tr>\n",
       "      <th>0</th>\n",
       "      <td>512</td>\n",
       "      <td>0.005</td>\n",
       "      <td>30</td>\n",
       "      <td>0</td>\n",
       "      <td>0</td>\n",
       "      <td>0.003245</td>\n",
       "    </tr>\n",
       "    <tr>\n",
       "      <th>3</th>\n",
       "      <td>512</td>\n",
       "      <td>0.010</td>\n",
       "      <td>30</td>\n",
       "      <td>0</td>\n",
       "      <td>0</td>\n",
       "      <td>0.034286</td>\n",
       "    </tr>\n",
       "    <tr>\n",
       "      <th>5</th>\n",
       "      <td>256</td>\n",
       "      <td>0.010</td>\n",
       "      <td>30</td>\n",
       "      <td>0</td>\n",
       "      <td>0</td>\n",
       "      <td>0.034443</td>\n",
       "    </tr>\n",
       "  </tbody>\n",
       "</table>\n",
       "</div>"
      ],
      "text/plain": [
       "   batch_size     lr  number_epoch  drop_prob  weight_decay  valid_loss\n",
       "2         256  0.001            30          0             0    0.002885\n",
       "4         512  0.001            30          0             0    0.002920\n",
       "1         256  0.005            30          0             0    0.002975\n",
       "0         512  0.005            30          0             0    0.003245\n",
       "3         512  0.010            30          0             0    0.034286\n",
       "5         256  0.010            30          0             0    0.034443"
      ]
     },
     "execution_count": 146,
     "metadata": {},
     "output_type": "execute_result"
    }
   ],
   "source": [
    "records = pd.DataFrame(records).sort_values(by='valid_loss')\n",
    "records.to_csv('./records/CNN_records.csv', mode='a', index=False, header=False)\n",
    "records"
   ]
  },
  {
   "cell_type": "markdown",
   "id": "e0ab5001",
   "metadata": {},
   "source": [
    "## retrain a model"
   ]
  },
  {
   "cell_type": "code",
   "execution_count": 23,
   "id": "d091e555",
   "metadata": {
    "ExecuteTime": {
     "end_time": "2022-01-09T08:48:37.165541Z",
     "start_time": "2022-01-09T08:48:37.143450Z"
    }
   },
   "outputs": [],
   "source": [
    "def train_model(train_x, train_y, valid_x, valid_y, input_size, output_size,\n",
    "                mse_thresh, batch_size, lr, number_epoch, drop_prob,\n",
    "                weight_decay):\n",
    "    while (1):\n",
    "        model = CNN_1D(output_size, drop_prob)\n",
    "        model.to(device=device)\n",
    "        criterion = nn.MSELoss()\n",
    "        optimizer = torch.optim.Adam(model.parameters(),\n",
    "                                     lr=lr,\n",
    "                                     weight_decay=weight_decay)\n",
    "        scheduler = torch.optim.lr_scheduler.StepLR(optimizer, 1, gamma=0.98)\n",
    "        valid_loss_min = np.Inf\n",
    "        train_dataset = TensorDataset(torch.FloatTensor(train_x),\n",
    "                                      torch.FloatTensor(train_y))\n",
    "        valid_dataset = TensorDataset(torch.FloatTensor(valid_x),\n",
    "                                      torch.FloatTensor(valid_y))\n",
    "        train_loader = DataLoader(dataset=train_dataset,\n",
    "                                  batch_size=batch_size,\n",
    "                                  shuffle=True,\n",
    "                                  drop_last=False)\n",
    "        valid_loader = DataLoader(dataset=valid_dataset,\n",
    "                                  batch_size=batch_size,\n",
    "                                  shuffle=True,\n",
    "                                  drop_last=False)\n",
    "        num_without_imp = 0\n",
    "        train_loss_list = []\n",
    "        valid_loss_list = []\n",
    "        # training process\n",
    "        for epoch in range(1, number_epoch + 1):\n",
    "            loop = tqdm(enumerate(train_loader),\n",
    "                        total=len(train_loader),\n",
    "                        leave=True, ncols=100)\n",
    "            for i, (inputs, labels) in loop:\n",
    "                inputs = inputs.to(device=device)\n",
    "                labels = labels.to(device=device)\n",
    "                optimizer.zero_grad()\n",
    "                outputs = model(inputs)\n",
    "                loss = criterion(outputs, labels)\n",
    "                loss.backward()\n",
    "                optimizer.step()\n",
    "                if i % 5 == 0:\n",
    "                    num_without_imp = num_without_imp + 1\n",
    "                    valid_losses = list()\n",
    "                    model.eval()\n",
    "                    for inp, lab in valid_loader:\n",
    "                        inp = inp.to(device)\n",
    "                        lab = lab.to(device)\n",
    "                        out = model(inp)\n",
    "                        valid_loss = criterion(out, lab)\n",
    "                        valid_losses.append(valid_loss.item())\n",
    "\n",
    "                    model.train()\n",
    "                    loop.set_description(\"Epoch: {}/{}\".format(\n",
    "                        epoch, number_epoch))\n",
    "                    loop.set_postfix(train_loss=loss.item(),\n",
    "                                     valid_loss=np.mean(valid_losses))\n",
    "\n",
    "                    train_loss_list.append(loss.item())\n",
    "                    valid_loss_list.append(np.mean(valid_losses))\n",
    "                    if np.mean(valid_losses) < valid_loss_min:\n",
    "                        num_without_imp = 0\n",
    "                        torch.save(model.state_dict(),\n",
    "                                   './model/CNN_state_dict.pt')\n",
    "                        valid_loss_min = np.mean(valid_losses)\n",
    "            scheduler.step()\n",
    "        if valid_loss_min < mse_thresh:\n",
    "            break\n",
    "    return model, train_loss_list, valid_loss_list"
   ]
  },
  {
   "cell_type": "markdown",
   "id": "c9192123",
   "metadata": {},
   "source": [
    "## test results"
   ]
  },
  {
   "cell_type": "code",
   "execution_count": 14,
   "id": "b0e0e501",
   "metadata": {
    "ExecuteTime": {
     "end_time": "2022-01-09T08:36:10.438703Z",
     "start_time": "2022-01-09T08:36:10.421374Z"
    }
   },
   "outputs": [],
   "source": [
    "def test_model(model, test_x, test_y, scaler_y, batch_size):\n",
    "    test_dataset = TensorDataset(torch.FloatTensor(test_x),\n",
    "                                 torch.FloatTensor(test_y))\n",
    "    test_loader = DataLoader(dataset=test_dataset,\n",
    "                             batch_size=batch_size,\n",
    "                             shuffle=False,\n",
    "                             drop_last=False)\n",
    "    model.load_state_dict(torch.load('./model/CNN_state_dict.pt'))\n",
    "    y_pred = []\n",
    "    y_true = []\n",
    "    with torch.no_grad():\n",
    "        for inputs, label in test_loader:\n",
    "            inputs = inputs.to(device)\n",
    "            label = label.to(device)\n",
    "            outputs = model(inputs)\n",
    "            y_pred += outputs.cpu().numpy().flatten().tolist()\n",
    "            y_true += label.cpu().numpy().flatten().tolist()\n",
    "    y_pred = np.array(y_pred).reshape(-1, 1)\n",
    "    y_true = np.array(y_true).reshape(-1, 1)\n",
    "    #     pdb.set_trace()\n",
    "    load_pred = scaler_y.inverse_transform(y_pred)\n",
    "    load_true = scaler_y.inverse_transform(y_true)\n",
    "    mean_pred = np.mean(load_pred)\n",
    "    mean_true = np.mean(load_true)\n",
    "    MAPE = np.mean(np.abs(load_true - load_pred) / load_true)\n",
    "    SMAPE = 2 * np.mean(\n",
    "        np.abs(load_true - load_pred) / (load_true + load_pred))\n",
    "    MAE = np.mean(np.abs(load_true - load_pred))\n",
    "    RMSE = np.sqrt(np.mean(np.square(load_true - load_pred)))\n",
    "    RRSE = np.sqrt(np.sum(np.square(load_true - load_pred))) / np.sqrt(\n",
    "        np.sum(np.square(load_true - mean_true)))\n",
    "    CORR = np.mean(\n",
    "        np.sum((load_true - mean_true) * (load_pred - mean_pred)) /\n",
    "        np.sqrt(np.sum(\n",
    "            (load_true - mean_true)**2 * (load_pred - mean_pred)**2)))\n",
    "    return MAPE, SMAPE, MAE, RMSE, RRSE, CORR, load_pred, load_true"
   ]
  },
  {
   "cell_type": "markdown",
   "id": "e3272f80",
   "metadata": {},
   "source": [
    "## run model retraining"
   ]
  },
  {
   "cell_type": "code",
   "execution_count": 15,
   "id": "e26f9069",
   "metadata": {
    "ExecuteTime": {
     "end_time": "2022-01-09T08:36:13.853386Z",
     "start_time": "2022-01-09T08:36:13.837005Z"
    }
   },
   "outputs": [],
   "source": [
    "def run_model_retraining(seq_len=seq_len,\n",
    "                         target_len=target_len,\n",
    "                         mse_thresh=mse_thresh):\n",
    "    train_data = data[:int(0.8 * len(data))]\n",
    "    #     train_data = data[:-800]\n",
    "    train_data, scaler, scaler_y = normalization(train_data)\n",
    "    train_x, train_y = series_to_supervise(train_data, seq_len, target_len)\n",
    "\n",
    "    valid_x = train_x[int(0.8 * len(train_x)):]\n",
    "    valid_y = train_y[int(0.8 * len(train_y)):]\n",
    "    train_x = train_x[:int(0.8 * len(train_x))]\n",
    "    train_y = train_y[:int(0.8 * len(train_y))]\n",
    "    input_size = train_x.shape[2]\n",
    "    output_size = target_len\n",
    "\n",
    "    #     hyper-parameters define\n",
    "    batch_size = 256\n",
    "    lr = 0.001\n",
    "    number_epoch = 100\n",
    "    drop_prob = 0\n",
    "    weight_decay = 0\n",
    "    mse_thresh = 0.01\n",
    "\n",
    "    model, train_loss_list, valid_loss_list = train_model(\n",
    "        train_x, train_y, valid_x, valid_y, input_size, output_size,\n",
    "        mse_thresh, batch_size, lr, number_epoch, drop_prob, weight_decay)\n",
    "\n",
    "    # plot training process\n",
    "    plt.plot(train_loss_list[10:], 'm', label='train_loss')\n",
    "    plt.plot(valid_loss_list[10:], 'g', label='valid_loss')\n",
    "    plt.grid('both')\n",
    "    plt.legend()\n",
    "\n",
    "    # test\n",
    "    test_data = data[int(0.8 * len(data)):]\n",
    "    #     test_data = data[-800:]\n",
    "    test_data = scaler.transform(test_data)\n",
    "    test_x, test_y = series_to_supervise(test_data, seq_len, target_len)\n",
    "    MAPE, SMAPE, MAE, RMSE, RRSE, CORR, load_pred, load_true = test_model(model, test_x, test_y,\n",
    "                                                       scaler_y, batch_size)\n",
    "    return MAPE, SMAPE, MAE, RMSE, RRSE, CORR, load_pred, load_true"
   ]
  },
  {
   "cell_type": "code",
   "execution_count": 26,
   "id": "c5adafae",
   "metadata": {
    "ExecuteTime": {
     "end_time": "2022-01-09T08:52:52.515398Z",
     "start_time": "2022-01-09T08:48:54.683351Z"
    },
    "scrolled": true
   },
   "outputs": [
    {
     "name": "stdout",
     "output_type": "stream",
     "text": [
      "supervised data: shape of x: (25232, 72, 16), shape of y: (25232, 24)\n"
     ]
    },
    {
     "name": "stderr",
     "output_type": "stream",
     "text": [
      "Epoch: 1/100: 100%|███████████| 79/79 [00:02<00:00, 35.58it/s, train_loss=0.0183, valid_loss=0.0284]\n",
      "Epoch: 2/100: 100%|████████████| 79/79 [00:02<00:00, 33.70it/s, train_loss=0.0143, valid_loss=0.022]\n",
      "Epoch: 3/100: 100%|█████████| 79/79 [00:02<00:00, 34.52it/s, train_loss=0.00638, valid_loss=0.00968]\n",
      "Epoch: 4/100: 100%|█████████| 79/79 [00:02<00:00, 34.09it/s, train_loss=0.00441, valid_loss=0.00578]\n",
      "Epoch: 5/100: 100%|██████████| 79/79 [00:02<00:00, 35.32it/s, train_loss=0.00293, valid_loss=0.0043]\n",
      "Epoch: 6/100: 100%|█████████| 79/79 [00:02<00:00, 34.11it/s, train_loss=0.00357, valid_loss=0.00386]\n",
      "Epoch: 7/100: 100%|█████████| 79/79 [00:02<00:00, 34.61it/s, train_loss=0.00307, valid_loss=0.00362]\n",
      "Epoch: 8/100: 100%|█████████| 79/79 [00:02<00:00, 34.15it/s, train_loss=0.00331, valid_loss=0.00432]\n",
      "Epoch: 9/100: 100%|█████████| 79/79 [00:02<00:00, 34.74it/s, train_loss=0.00213, valid_loss=0.00341]\n",
      "Epoch: 10/100: 100%|█████████| 79/79 [00:02<00:00, 34.32it/s, train_loss=0.0023, valid_loss=0.00333]\n",
      "Epoch: 11/100: 100%|████████| 79/79 [00:02<00:00, 35.50it/s, train_loss=0.00206, valid_loss=0.00322]\n",
      "Epoch: 12/100: 100%|█████████| 79/79 [00:02<00:00, 34.66it/s, train_loss=0.00255, valid_loss=0.0032]\n",
      "Epoch: 13/100: 100%|█████████| 79/79 [00:02<00:00, 35.79it/s, train_loss=0.0025, valid_loss=0.00319]\n",
      "Epoch: 14/100: 100%|████████| 79/79 [00:02<00:00, 36.47it/s, train_loss=0.00169, valid_loss=0.00302]\n",
      "Epoch: 15/100: 100%|█████████| 79/79 [00:02<00:00, 37.52it/s, train_loss=0.0018, valid_loss=0.00304]\n",
      "Epoch: 16/100: 100%|████████| 79/79 [00:02<00:00, 36.30it/s, train_loss=0.00192, valid_loss=0.00293]\n",
      "Epoch: 17/100: 100%|██████████| 79/79 [00:02<00:00, 37.36it/s, train_loss=0.00174, valid_loss=0.003]\n",
      "Epoch: 18/100: 100%|████████| 79/79 [00:02<00:00, 36.77it/s, train_loss=0.00145, valid_loss=0.00286]\n",
      "Epoch: 19/100: 100%|████████| 79/79 [00:02<00:00, 37.13it/s, train_loss=0.00185, valid_loss=0.00281]\n",
      "Epoch: 20/100: 100%|████████| 79/79 [00:02<00:00, 36.55it/s, train_loss=0.00169, valid_loss=0.00282]\n",
      "Epoch: 21/100: 100%|████████| 79/79 [00:02<00:00, 37.53it/s, train_loss=0.00149, valid_loss=0.00269]\n",
      "Epoch: 22/100: 100%|████████| 79/79 [00:02<00:00, 36.41it/s, train_loss=0.00153, valid_loss=0.00268]\n",
      "Epoch: 23/100: 100%|████████| 79/79 [00:02<00:00, 37.32it/s, train_loss=0.00138, valid_loss=0.00288]\n",
      "Epoch: 24/100: 100%|████████| 79/79 [00:02<00:00, 36.45it/s, train_loss=0.00155, valid_loss=0.00308]\n",
      "Epoch: 25/100: 100%|████████| 79/79 [00:02<00:00, 37.79it/s, train_loss=0.00132, valid_loss=0.00265]\n",
      "Epoch: 26/100: 100%|████████| 79/79 [00:02<00:00, 36.28it/s, train_loss=0.00124, valid_loss=0.00277]\n",
      "Epoch: 27/100: 100%|████████| 79/79 [00:02<00:00, 37.50it/s, train_loss=0.00148, valid_loss=0.00253]\n",
      "Epoch: 28/100: 100%|████████| 79/79 [00:02<00:00, 36.78it/s, train_loss=0.00123, valid_loss=0.00269]\n",
      "Epoch: 29/100: 100%|████████| 79/79 [00:02<00:00, 37.47it/s, train_loss=0.00138, valid_loss=0.00257]\n",
      "Epoch: 30/100: 100%|████████| 79/79 [00:02<00:00, 36.41it/s, train_loss=0.00105, valid_loss=0.00262]\n",
      "Epoch: 31/100: 100%|████████| 79/79 [00:02<00:00, 37.53it/s, train_loss=0.00107, valid_loss=0.00284]\n",
      "Epoch: 32/100: 100%|████████| 79/79 [00:02<00:00, 36.76it/s, train_loss=0.00118, valid_loss=0.00253]\n",
      "Epoch: 33/100: 100%|█████████| 79/79 [00:02<00:00, 37.43it/s, train_loss=0.0012, valid_loss=0.00278]\n",
      "Epoch: 34/100: 100%|███████| 79/79 [00:02<00:00, 36.48it/s, train_loss=0.000969, valid_loss=0.00275]\n",
      "Epoch: 35/100: 100%|███████| 79/79 [00:02<00:00, 37.49it/s, train_loss=0.000959, valid_loss=0.00261]\n",
      "Epoch: 36/100: 100%|████████| 79/79 [00:02<00:00, 36.50it/s, train_loss=0.00109, valid_loss=0.00256]\n",
      "Epoch: 37/100: 100%|███████| 79/79 [00:02<00:00, 37.68it/s, train_loss=0.000941, valid_loss=0.00247]\n",
      "Epoch: 38/100: 100%|████████| 79/79 [00:02<00:00, 36.52it/s, train_loss=0.00131, valid_loss=0.00267]\n",
      "Epoch: 39/100: 100%|███████| 79/79 [00:02<00:00, 37.71it/s, train_loss=0.000972, valid_loss=0.00259]\n",
      "Epoch: 40/100: 100%|█████████| 79/79 [00:02<00:00, 36.51it/s, train_loss=0.000909, valid_loss=0.003]\n",
      "Epoch: 41/100: 100%|████████| 79/79 [00:02<00:00, 37.53it/s, train_loss=0.00108, valid_loss=0.00253]\n",
      "Epoch: 42/100: 100%|██████████| 79/79 [00:02<00:00, 36.49it/s, train_loss=0.001, valid_loss=0.00247]\n",
      "Epoch: 43/100: 100%|████████| 79/79 [00:02<00:00, 37.51it/s, train_loss=0.00123, valid_loss=0.00253]\n",
      "Epoch: 44/100: 100%|███████| 79/79 [00:02<00:00, 35.39it/s, train_loss=0.000954, valid_loss=0.00268]\n",
      "Epoch: 45/100: 100%|███████| 79/79 [00:02<00:00, 35.80it/s, train_loss=0.000964, valid_loss=0.00265]\n",
      "Epoch: 46/100: 100%|████████| 79/79 [00:02<00:00, 34.29it/s, train_loss=0.00114, valid_loss=0.00257]\n",
      "Epoch: 47/100: 100%|███████| 79/79 [00:02<00:00, 35.39it/s, train_loss=0.000803, valid_loss=0.00274]\n",
      "Epoch: 48/100: 100%|███████| 79/79 [00:02<00:00, 34.66it/s, train_loss=0.000913, valid_loss=0.00262]\n",
      "Epoch: 49/100: 100%|███████| 79/79 [00:02<00:00, 35.82it/s, train_loss=0.000831, valid_loss=0.00255]\n",
      "Epoch: 50/100: 100%|███████| 79/79 [00:02<00:00, 34.57it/s, train_loss=0.000896, valid_loss=0.00264]\n",
      "Epoch: 51/100: 100%|████████| 79/79 [00:02<00:00, 35.48it/s, train_loss=0.00089, valid_loss=0.00268]\n",
      "Epoch: 52/100: 100%|████████| 79/79 [00:02<00:00, 34.17it/s, train_loss=0.000915, valid_loss=0.0026]\n",
      "Epoch: 53/100: 100%|███████| 79/79 [00:02<00:00, 35.49it/s, train_loss=0.000742, valid_loss=0.00266]\n",
      "Epoch: 54/100: 100%|███████| 79/79 [00:02<00:00, 34.56it/s, train_loss=0.000799, valid_loss=0.00271]\n",
      "Epoch: 55/100: 100%|███████| 79/79 [00:02<00:00, 35.18it/s, train_loss=0.000747, valid_loss=0.00271]\n",
      "Epoch: 56/100: 100%|███████| 79/79 [00:02<00:00, 34.82it/s, train_loss=0.000749, valid_loss=0.00291]\n",
      "Epoch: 57/100: 100%|███████| 79/79 [00:02<00:00, 35.44it/s, train_loss=0.000965, valid_loss=0.00262]\n",
      "Epoch: 58/100: 100%|████████| 79/79 [00:02<00:00, 34.18it/s, train_loss=0.00082, valid_loss=0.00264]\n",
      "Epoch: 59/100: 100%|███████| 79/79 [00:02<00:00, 35.40it/s, train_loss=0.000779, valid_loss=0.00263]\n",
      "Epoch: 60/100: 100%|███████| 79/79 [00:02<00:00, 34.42it/s, train_loss=0.000829, valid_loss=0.00265]\n",
      "Epoch: 61/100: 100%|████████| 79/79 [00:02<00:00, 35.22it/s, train_loss=0.00078, valid_loss=0.00267]\n",
      "Epoch: 62/100: 100%|███████| 79/79 [00:02<00:00, 34.35it/s, train_loss=0.000781, valid_loss=0.00263]\n",
      "Epoch: 63/100: 100%|███████| 79/79 [00:02<00:00, 35.52it/s, train_loss=0.000769, valid_loss=0.00262]\n",
      "Epoch: 64/100: 100%|███████| 79/79 [00:02<00:00, 34.57it/s, train_loss=0.000793, valid_loss=0.00267]\n",
      "Epoch: 65/100: 100%|███████| 79/79 [00:02<00:00, 35.63it/s, train_loss=0.000715, valid_loss=0.00278]\n",
      "Epoch: 66/100: 100%|████████| 79/79 [00:02<00:00, 34.52it/s, train_loss=0.00085, valid_loss=0.00267]\n",
      "Epoch: 67/100: 100%|███████| 79/79 [00:02<00:00, 35.35it/s, train_loss=0.000766, valid_loss=0.00273]\n",
      "Epoch: 68/100: 100%|████████| 79/79 [00:02<00:00, 34.68it/s, train_loss=0.00088, valid_loss=0.00271]\n",
      "Epoch: 69/100: 100%|████████| 79/79 [00:02<00:00, 35.13it/s, train_loss=0.000754, valid_loss=0.0027]\n",
      "Epoch: 70/100: 100%|███████| 79/79 [00:02<00:00, 34.28it/s, train_loss=0.000672, valid_loss=0.00285]\n",
      "Epoch: 71/100: 100%|███████| 79/79 [00:02<00:00, 35.54it/s, train_loss=0.000702, valid_loss=0.00284]\n",
      "Epoch: 72/100: 100%|███████| 79/79 [00:02<00:00, 29.84it/s, train_loss=0.000785, valid_loss=0.00282]\n",
      "Epoch: 73/100: 100%|███████| 79/79 [00:02<00:00, 28.62it/s, train_loss=0.000718, valid_loss=0.00298]\n",
      "Epoch: 74/100: 100%|█████████| 79/79 [00:02<00:00, 27.67it/s, train_loss=0.000705, valid_loss=0.003]\n",
      "Epoch: 75/100: 100%|███████| 79/79 [00:02<00:00, 28.70it/s, train_loss=0.000725, valid_loss=0.00289]\n",
      "Epoch: 76/100: 100%|███████| 79/79 [00:02<00:00, 28.43it/s, train_loss=0.000654, valid_loss=0.00302]\n",
      "Epoch: 77/100: 100%|████████| 79/79 [00:02<00:00, 28.58it/s, train_loss=0.000647, valid_loss=0.0029]\n",
      "Epoch: 78/100: 100%|███████| 79/79 [00:02<00:00, 27.66it/s, train_loss=0.000721, valid_loss=0.00288]\n",
      "Epoch: 79/100: 100%|███████| 79/79 [00:02<00:00, 29.32it/s, train_loss=0.000783, valid_loss=0.00298]\n",
      "Epoch: 80/100: 100%|███████| 79/79 [00:02<00:00, 28.11it/s, train_loss=0.000836, valid_loss=0.00302]\n",
      "Epoch: 81/100: 100%|███████| 79/79 [00:02<00:00, 28.93it/s, train_loss=0.000599, valid_loss=0.00295]\n"
     ]
    },
    {
     "name": "stderr",
     "output_type": "stream",
     "text": [
      "Epoch: 82/100: 100%|███████| 79/79 [00:02<00:00, 28.13it/s, train_loss=0.000602, valid_loss=0.00303]\n",
      "Epoch: 83/100: 100%|███████| 79/79 [00:02<00:00, 29.36it/s, train_loss=0.000688, valid_loss=0.00298]\n",
      "Epoch: 84/100: 100%|███████| 79/79 [00:02<00:00, 28.97it/s, train_loss=0.000577, valid_loss=0.00294]\n",
      "Epoch: 85/100: 100%|███████| 79/79 [00:02<00:00, 28.75it/s, train_loss=0.000545, valid_loss=0.00298]\n",
      "Epoch: 86/100: 100%|███████| 79/79 [00:02<00:00, 28.32it/s, train_loss=0.000679, valid_loss=0.00304]\n",
      "Epoch: 87/100: 100%|███████| 79/79 [00:02<00:00, 28.37it/s, train_loss=0.000649, valid_loss=0.00312]\n",
      "Epoch: 88/100: 100%|███████| 79/79 [00:02<00:00, 28.63it/s, train_loss=0.000533, valid_loss=0.00308]\n",
      "Epoch: 89/100: 100%|███████| 79/79 [00:02<00:00, 29.03it/s, train_loss=0.000639, valid_loss=0.00309]\n",
      "Epoch: 90/100: 100%|███████| 79/79 [00:02<00:00, 28.61it/s, train_loss=0.000629, valid_loss=0.00318]\n",
      "Epoch: 91/100: 100%|███████| 79/79 [00:02<00:00, 29.50it/s, train_loss=0.000566, valid_loss=0.00306]\n",
      "Epoch: 92/100: 100%|███████| 79/79 [00:02<00:00, 29.09it/s, train_loss=0.000619, valid_loss=0.00314]\n",
      "Epoch: 93/100: 100%|███████| 79/79 [00:02<00:00, 28.68it/s, train_loss=0.000624, valid_loss=0.00327]\n",
      "Epoch: 94/100: 100%|███████| 79/79 [00:02<00:00, 28.19it/s, train_loss=0.000694, valid_loss=0.00326]\n",
      "Epoch: 95/100: 100%|███████| 79/79 [00:02<00:00, 28.95it/s, train_loss=0.000548, valid_loss=0.00311]\n",
      "Epoch: 96/100: 100%|███████| 79/79 [00:02<00:00, 27.85it/s, train_loss=0.000583, valid_loss=0.00311]\n",
      "Epoch: 97/100: 100%|███████| 79/79 [00:02<00:00, 28.32it/s, train_loss=0.000607, valid_loss=0.00311]\n",
      "Epoch: 98/100: 100%|███████| 79/79 [00:02<00:00, 28.20it/s, train_loss=0.000628, valid_loss=0.00329]\n",
      "Epoch: 99/100: 100%|███████| 79/79 [00:02<00:00, 28.71it/s, train_loss=0.000653, valid_loss=0.00329]\n",
      "Epoch: 100/100: 100%|██████| 79/79 [00:02<00:00, 28.53it/s, train_loss=0.000538, valid_loss=0.00316]\n"
     ]
    },
    {
     "name": "stdout",
     "output_type": "stream",
     "text": [
      "supervised data: shape of x: (6237, 72, 16), shape of y: (6237, 24)\n",
      "MAPE:0.042845,SMAPE:0.042324,MAE:551.054255,RMSE:781.632228,RRSE:0.241841,CORR:259.153314\n"
     ]
    },
    {
     "data": {
      "image/png": "[encoded data removed]",
      "text/plain": [
       "<Figure size 432x288 with 1 Axes>"
      ]
     },
     "metadata": {
      "needs_background": "light"
     },
     "output_type": "display_data"
    }
   ],
   "source": [
    "random_seed_set(42)\n",
    "MAPE, SMAPE, MAE, RMSE, RRSE, CORR, load_pred, load_true = run_model_retraining()\n",
    "print('MAPE:{:.6f},SMAPE:{:.6f},MAE:{:.6f},RMSE:{:.6f},RRSE:{:.6f},CORR:{:.6f}'.format(MAPE, SMAPE, MAE, RMSE, RRSE, CORR))"
   ]
  },
  {
   "cell_type": "code",
   "execution_count": 27,
   "id": "0e6359fb",
   "metadata": {
    "ExecuteTime": {
     "end_time": "2022-01-09T08:52:52.520951Z",
     "start_time": "2022-01-09T08:52:52.517317Z"
    }
   },
   "outputs": [
    {
     "name": "stdout",
     "output_type": "stream",
     "text": [
      "MAPE:0.042845,SMAPE:0.042324,MAE:551.054255,RMSE:781.632228,RRSE:0.241841,CORR:259.153314\n"
     ]
    }
   ],
   "source": [
    "print('MAPE:{:.6f},SMAPE:{:.6f},MAE:{:.6f},RMSE:{:.6f},RRSE:{:.6f},CORR:{:.6f}'.format(MAPE, SMAPE, MAE, RMSE, RRSE, CORR))"
   ]
  },
  {
   "cell_type": "markdown",
   "id": "b6690078",
   "metadata": {},
   "source": [
    "## figure plot"
   ]
  },
  {
   "cell_type": "code",
   "execution_count": 28,
   "id": "43ec21e0",
   "metadata": {
    "ExecuteTime": {
     "end_time": "2022-01-09T08:52:52.669222Z",
     "start_time": "2022-01-09T08:52:52.522368Z"
    }
   },
   "outputs": [
    {
     "data": {
      "text/plain": [
       "(0.0, 19545.93276525831)"
      ]
     },
     "execution_count": 28,
     "metadata": {},
     "output_type": "execute_result"
    },
    {
     "data": {
      "image/png": "[encoded data removed]",
      "text/plain": [
       "<Figure size 1440x720 with 1 Axes>"
      ]
     },
     "metadata": {
      "needs_background": "light"
     },
     "output_type": "display_data"
    }
   ],
   "source": [
    "plt.figure(figsize=(20, 10))\n",
    "load_pred = load_pred.reshape(-1, target_len)\n",
    "load_true = load_true.reshape(-1, target_len)\n",
    "plt.plot(load_pred[:240,0], 'm')\n",
    "plt.plot(load_true[:240,0], 'g')\n",
    "plt.ylim(0)"
   ]
  }
 ],
 "metadata": {
  "kernelspec": {
   "display_name": "Python 3 (ipykernel)",
   "language": "python",
   "name": "python3"
  },
  "language_info": {
   "codemirror_mode": {
    "name": "ipython",
    "version": 3
   },
   "file_extension": ".py",
   "mimetype": "text/x-python",
   "name": "python",
   "nbconvert_exporter": "python",
   "pygments_lexer": "ipython3",
   "version": "3.8.12"
  },
  "toc": {
   "base_numbering": 1,
   "nav_menu": {},
   "number_sections": true,
   "sideBar": true,
   "skip_h1_title": false,
   "title_cell": "Table of Contents",
   "title_sidebar": "Contents",
   "toc_cell": false,
   "toc_position": {
    "height": "calc(100% - 180px)",
    "left": "10px",
    "top": "150px",
    "width": "374.391px"
   },
   "toc_section_display": true,
   "toc_window_display": true
  },
  "varInspector": {
   "cols": {
    "lenName": 16,
    "lenType": 16,
    "lenVar": 40
   },
   "kernels_config": {
    "python": {
     "delete_cmd_postfix": "",
     "delete_cmd_prefix": "del ",
     "library": "var_list.py",
     "varRefreshCmd": "print(var_dic_list())"
    },
    "r": {
     "delete_cmd_postfix": ") ",
     "delete_cmd_prefix": "rm(",
     "library": "var_list.r",
     "varRefreshCmd": "cat(var_dic_list()) "
    }
   },
   "oldHeight": 320.844,
   "position": {
    "height": "342.844px",
    "left": "1482px",
    "right": "20px",
    "top": "127px",
    "width": "350px"
   },
   "types_to_exclude": [
    "module",
    "function",
    "builtin_function_or_method",
    "instance",
    "_Feature"
   ],
   "varInspector_section_display": "block",
   "window_display": false
  }
 },
 "nbformat": 4,
 "nbformat_minor": 5
}
