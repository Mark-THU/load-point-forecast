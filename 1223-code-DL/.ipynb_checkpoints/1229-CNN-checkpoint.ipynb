{
 "cells": [
  {
   "cell_type": "markdown",
   "id": "048d2f91",
   "metadata": {},
   "source": [
    "# CNN for forecast"
   ]
  },
  {
   "cell_type": "code",
   "execution_count": 95,
   "id": "bf01b33f",
   "metadata": {
    "ExecuteTime": {
     "end_time": "2021-12-30T02:58:17.794763Z",
     "start_time": "2021-12-30T02:58:17.785989Z"
    }
   },
   "outputs": [],
   "source": [
    "import pandas as pd\n",
    "import numpy as np\n",
    "import matplotlib.pyplot as plt\n",
    "import pdb\n",
    "import torch\n",
    "import torch.nn as nn\n",
    "import random\n",
    "\n",
    "from sklearn.preprocessing import MinMaxScaler\n",
    "from sklearn.model_selection import train_test_split, TimeSeriesSplit\n",
    "from torch.autograd import Variable\n",
    "from torch.utils.data import TensorDataset, DataLoader\n",
    "from tqdm import tqdm\n",
    "from xgboost import XGBRegressor\n",
    "from torchsummary import summary\n",
    "\n",
    "\n",
    "if torch.cuda.is_available():  \n",
    "    dev = \"cuda:0\" \n",
    "else:  \n",
    "    dev = \"cpu\"\n",
    "device = torch.device(dev)"
   ]
  },
  {
   "cell_type": "markdown",
   "id": "fdd0603a",
   "metadata": {},
   "source": [
    "## random seed"
   ]
  },
  {
   "cell_type": "code",
   "execution_count": 94,
   "id": "5a48d8cb",
   "metadata": {
    "ExecuteTime": {
     "end_time": "2021-12-30T02:58:11.683033Z",
     "start_time": "2021-12-30T02:58:11.676784Z"
    }
   },
   "outputs": [],
   "source": [
    "def random_seed_set(seed):\n",
    "    np.random.seed(seed)\n",
    "    torch.random.manual_seed(seed)\n",
    "    torch.cuda.random.manual_seed(seed)\n",
    "    torch.backends.cudnn.benchmark = False\n",
    "    torch.backends.cudnn.deterministic = True"
   ]
  },
  {
   "cell_type": "markdown",
   "id": "07bb69e4",
   "metadata": {},
   "source": [
    "## load data"
   ]
  },
  {
   "cell_type": "code",
   "execution_count": 34,
   "id": "7762617c",
   "metadata": {
    "ExecuteTime": {
     "end_time": "2021-12-30T01:21:02.436411Z",
     "start_time": "2021-12-30T01:21:02.366247Z"
    }
   },
   "outputs": [],
   "source": [
    "url = '../data/beijing.csv'\n",
    "data = pd.read_csv(url, sep=',', index_col='time')\n",
    "data.index = pd.to_datetime(data.index)"
   ]
  },
  {
   "cell_type": "markdown",
   "id": "c277956d",
   "metadata": {},
   "source": [
    "## normalization"
   ]
  },
  {
   "cell_type": "code",
   "execution_count": 35,
   "id": "38a06677",
   "metadata": {
    "ExecuteTime": {
     "end_time": "2021-12-30T01:21:04.148696Z",
     "start_time": "2021-12-30T01:21:04.142403Z"
    }
   },
   "outputs": [],
   "source": [
    "def normalization(data):\n",
    "    \"\"\"\n",
    "    data: original data with load\n",
    "    return: normalized data, scaler of load\n",
    "    \"\"\"\n",
    "    scaler = MinMaxScaler()\n",
    "    normalized_data = scaler.fit_transform(data)\n",
    "    scaler_y = MinMaxScaler()\n",
    "    scaler_y.fit_transform(data[[data.columns[-1]]])\n",
    "    return normalized_data, scaler, scaler_y"
   ]
  },
  {
   "cell_type": "markdown",
   "id": "ed5fc015",
   "metadata": {
    "ExecuteTime": {
     "end_time": "2021-12-22T07:45:44.192666Z",
     "start_time": "2021-12-22T07:45:44.188985Z"
    }
   },
   "source": [
    "## build supervised dataset"
   ]
  },
  {
   "cell_type": "code",
   "execution_count": 36,
   "id": "1917e45f",
   "metadata": {
    "ExecuteTime": {
     "end_time": "2021-12-30T01:21:05.598426Z",
     "start_time": "2021-12-30T01:21:05.589944Z"
    }
   },
   "outputs": [],
   "source": [
    "def series_to_supervise(data, seq_len, target_len):\n",
    "    \"\"\"\n",
    "    convert series data to supervised data\n",
    "    :param data: original data\n",
    "    :param seq_len: length of input sequence\n",
    "    :param target_len: length of ouput sequence\n",
    "    :return: return two ndarrays-- input and output in format suitable to feed to LSTM\n",
    "    \"\"\"\n",
    "    dim_0 = data.shape[0] - seq_len - target_len + 1\n",
    "    dim_1 = data.shape[1]\n",
    "    x = np.zeros((dim_0, seq_len, dim_1))\n",
    "    y = np.zeros((dim_0, target_len))\n",
    "    for i in range(dim_0):\n",
    "        x[i] = data[i:i + seq_len]\n",
    "        y[i] = data[i + seq_len:i + seq_len + target_len, -1]\n",
    "    print(\"supervised data: shape of x: {}, shape of y: {}\".format(x.shape, y.shape))\n",
    "    return x, y"
   ]
  },
  {
   "cell_type": "markdown",
   "id": "b1b7852c",
   "metadata": {},
   "source": [
    "## 5-folds TimeSeriesSplit"
   ]
  },
  {
   "cell_type": "code",
   "execution_count": 37,
   "id": "234ea6a0",
   "metadata": {
    "ExecuteTime": {
     "end_time": "2021-12-30T01:21:07.061467Z",
     "start_time": "2021-12-30T01:21:07.053810Z"
    }
   },
   "outputs": [],
   "source": [
    "def time_series_split(X, Y, n_split=5):\n",
    "    \"\"\"\n",
    "    X: features, size * seq_len * feature_num\n",
    "    Y: labels, size * target_len\n",
    "    return: list of train_x, test_x, train_y, test_y\n",
    "    \"\"\"\n",
    "    tscv = TimeSeriesSplit(n_splits=n_split)\n",
    "    train_x_list = list()\n",
    "    valid_x_list = list()\n",
    "    train_y_list = list()\n",
    "    valid_y_list = list()\n",
    "    for train_index, valid_index in tscv.split(X):\n",
    "        train_x_list.append(X[train_index])\n",
    "        train_y_list.append(Y[train_index])\n",
    "        valid_x_list.append(X[valid_index])\n",
    "        valid_y_list.append(Y[valid_index])\n",
    "    return train_x_list, train_y_list, valid_x_list, valid_y_list"
   ]
  },
  {
   "cell_type": "markdown",
   "id": "e56f2550",
   "metadata": {},
   "source": [
    "## CNN model"
   ]
  },
  {
   "cell_type": "code",
   "execution_count": 57,
   "id": "9446c498",
   "metadata": {
    "ExecuteTime": {
     "end_time": "2021-12-30T02:13:04.838193Z",
     "start_time": "2021-12-30T02:13:04.825735Z"
    }
   },
   "outputs": [],
   "source": [
    "class CNN_2D(nn.Module):\n",
    "    def __init__(self, output_size, drop_prob):\n",
    "        super(CNN_2D, self).__init__()\n",
    "\n",
    "        # model parameters\n",
    "        self.output_size = output_size\n",
    "        self.drop_prob = drop_prob\n",
    "        # layes\n",
    "        cnn_1 = nn.Conv2d(1, 6, kernel_size=(11, 7), padding=1)\n",
    "        max_pool_1 = nn.MaxPool2d(kernel_size=(4, 2))\n",
    "        cnn_2 = nn.Conv2d(6, 16, kernel_size=(5, 3))\n",
    "        max_pool_2 = nn.MaxPool2d(kernel_size=(2, 2))\n",
    "        self.fc = nn.Sequential(cnn_1, \n",
    "                                nn.ReLU(), \n",
    "                                max_pool_1,\n",
    "                                cnn_2, \n",
    "                                nn.ReLU(), \n",
    "                                max_pool_2,\n",
    "                                nn.Flatten(), \n",
    "                                nn.Linear(192, 128), \n",
    "                                nn.ReLU(),\n",
    "                                nn.Dropout(self.drop_prob), \n",
    "                                nn.Linear(128, 64),\n",
    "                                nn.ReLU(), \n",
    "                                nn.Dropout(self.drop_prob),\n",
    "                                nn.Linear(64, self.output_size))\n",
    "\n",
    "    def forward(self, x):\n",
    "        x = torch.unsqueeze(x, 1)\n",
    "        out = self.fc(x)\n",
    "\n",
    "        return out"
   ]
  },
  {
   "cell_type": "code",
   "execution_count": 51,
   "id": "1f6a3397",
   "metadata": {
    "ExecuteTime": {
     "end_time": "2021-12-30T02:10:06.131864Z",
     "start_time": "2021-12-30T02:10:06.118657Z"
    }
   },
   "outputs": [],
   "source": [
    "class CNN_1D(nn.Module):\n",
    "    def __init__(self, input_size, output_size, hidden_dim, n_layers,\n",
    "                 drop_prob):\n",
    "        super(CNN_2D, self).__init__()\n",
    "        # model parameters\n",
    "        self.hidden_dim = hidden_dim\n",
    "        self.n_layers = n_layers\n",
    "        self.output_size = output_size\n",
    "        # layes\n",
    "        self.lstm = nn.LSTM(input_size=input_size,\n",
    "                            hidden_size=hidden_dim,\n",
    "                            num_layers=n_layers,\n",
    "                            batch_first=True,\n",
    "                            dropout=drop_prob)\n",
    "        self.fc = nn.Sequential()\n",
    "        \n",
    "        input_size = hidden_dim\n",
    "        i = 0\n",
    "        while (input_size > 8):\n",
    "            self.fc.add_module('linear{}'.format(i), nn.Linear(input_size, round(input_size / 2)))\n",
    "            self.fc.add_module('relu{}'.format(i), nn.ReLU())\n",
    "            input_size = round(input_size / 2)\n",
    "            i += 1\n",
    "        self.fc.add_module('linear{}'.format(i), nn.Linear(input_size, 1))\n",
    "\n",
    "    # predict using outputs of the last 24 steps\n",
    "    def forward(self, x):\n",
    "        lstm_out = self.lstm(x)\n",
    "        lstm_out = lstm_out[:, -self.output_size:, :]\n",
    "\n",
    "        out = self.fc(lstm_out)\n",
    "\n",
    "        out = out.reshape(x.shape[0], -1)\n",
    "\n",
    "        return out"
   ]
  },
  {
   "cell_type": "markdown",
   "id": "086717d0",
   "metadata": {
    "ExecuteTime": {
     "end_time": "2021-12-22T08:30:19.661769Z",
     "start_time": "2021-12-22T08:30:19.656770Z"
    }
   },
   "source": [
    "## model training for HPO"
   ]
  },
  {
   "cell_type": "code",
   "execution_count": 59,
   "id": "1c2e99de",
   "metadata": {
    "ExecuteTime": {
     "end_time": "2021-12-30T02:14:11.460708Z",
     "start_time": "2021-12-30T02:14:11.438212Z"
    }
   },
   "outputs": [],
   "source": [
    "def train_model_hpo(train_x_list, train_y_list, valid_x_list, valid_y_list,\n",
    "                    input_size, output_size, mse_thresh, batch_size, lr,\n",
    "                    number_epoch, drop_prob, weight_decay):\n",
    "    valid_loss_list = []\n",
    "    for num in range(len(train_x_list)):\n",
    "        while (1):\n",
    "            model = CNN_2D(output_size, drop_prob)\n",
    "            model.to(device=device)\n",
    "            criterion = nn.MSELoss()\n",
    "            optimizer = torch.optim.Adam(model.parameters(),\n",
    "                                         lr=lr,\n",
    "                                         weight_decay=weight_decay)\n",
    "            scheduler = torch.optim.lr_scheduler.StepLR(optimizer,\n",
    "                                                        1,\n",
    "                                                        gamma=0.98)\n",
    "            valid_loss_min = np.Inf\n",
    "            print('cross-validation dataset {}'.format(num))\n",
    "            train_x = train_x_list[num]\n",
    "            train_y = train_y_list[num]\n",
    "            valid_x = valid_x_list[num]\n",
    "            valid_y = valid_y_list[num]\n",
    "            train_dataset = TensorDataset(torch.FloatTensor(train_x),\n",
    "                                          torch.FloatTensor(train_y))\n",
    "            valid_dataset = TensorDataset(torch.FloatTensor(valid_x),\n",
    "                                          torch.FloatTensor(valid_y))\n",
    "            train_loader = DataLoader(dataset=train_dataset,\n",
    "                                      batch_size=batch_size,\n",
    "                                      shuffle=True,\n",
    "                                      drop_last=False)\n",
    "            valid_loader = DataLoader(dataset=valid_dataset,\n",
    "                                      batch_size=batch_size,\n",
    "                                      shuffle=True,\n",
    "                                      drop_last=False)\n",
    "            num_without_imp = 0\n",
    "            # training process\n",
    "            for epoch in range(1, number_epoch + 1):\n",
    "                loop = tqdm(enumerate(train_loader),\n",
    "                            total=len(train_loader),\n",
    "                            leave=True)\n",
    "                for i, (inputs, labels) in loop:\n",
    "                    inputs = inputs.to(device=device)\n",
    "                    labels = labels.to(device=device)\n",
    "                    optimizer.zero_grad()\n",
    "                    outputs = model(inputs)\n",
    "                    loss = criterion(outputs, labels)\n",
    "                    loss.backward()\n",
    "                    optimizer.step()\n",
    "                    if i % 5 == 0:\n",
    "                        num_without_imp = num_without_imp + 1\n",
    "                        valid_losses = list()\n",
    "                        model.eval()\n",
    "                        for inp, lab in valid_loader:\n",
    "                            inp = inp.to(device)\n",
    "                            lab = lab.to(device)\n",
    "                            out = model(inp)\n",
    "                            valid_loss = criterion(out, lab)\n",
    "                            valid_losses.append(valid_loss.item())\n",
    "\n",
    "                        model.train()\n",
    "                        loop.set_description(\"Epoch: {}/{}\".format(\n",
    "                            epoch, number_epoch))\n",
    "                        loop.set_postfix(train_loss=loss.item(),\n",
    "                                         valid_loss=np.mean(valid_losses))\n",
    "                        if np.mean(valid_losses) < valid_loss_min:\n",
    "                            num_without_imp = 0\n",
    "                            valid_loss_min = np.mean(valid_losses)\n",
    "                scheduler.step()\n",
    "                if num_without_imp >= 50:\n",
    "                    #                     break\n",
    "                    pass\n",
    "            if valid_loss_min < mse_thresh:\n",
    "                valid_loss_list.append(valid_loss_min)\n",
    "                break\n",
    "    return np.mean(valid_loss_list)"
   ]
  },
  {
   "cell_type": "markdown",
   "id": "7a0a855f",
   "metadata": {},
   "source": [
    "## hyper-parameters config"
   ]
  },
  {
   "cell_type": "code",
   "execution_count": 64,
   "id": "59f34814",
   "metadata": {
    "ExecuteTime": {
     "end_time": "2021-12-30T02:17:36.944237Z",
     "start_time": "2021-12-30T02:17:36.934754Z"
    }
   },
   "outputs": [],
   "source": [
    "seq_len = 72\n",
    "target_len = 24\n",
    "mse_thresh = 0.05\n",
    "\n",
    "\n",
    "def model_config():\n",
    "    batch_sizes = [256, 512]\n",
    "    lrs = [0.01, 0.005, 0.001]\n",
    "    number_epochs = [30]\n",
    "    drop_prob = [0]\n",
    "    weight_decays = [0]\n",
    "    configs = list()\n",
    "    for i in batch_sizes:\n",
    "        for j in lrs:\n",
    "            for k in number_epochs:\n",
    "                for n in drop_prob:\n",
    "                    for o in weight_decays:\n",
    "                        configs.append({\n",
    "                            'batch_size': i,\n",
    "                            'lr': j,\n",
    "                            'number_epoch': k,\n",
    "                            'drop_prob': n,\n",
    "                            'weight_decay': o,\n",
    "                        })\n",
    "    return configs"
   ]
  },
  {
   "cell_type": "markdown",
   "id": "de82d3da",
   "metadata": {},
   "source": [
    "## random search for HPO"
   ]
  },
  {
   "cell_type": "code",
   "execution_count": 65,
   "id": "4ca2236a",
   "metadata": {
    "ExecuteTime": {
     "end_time": "2021-12-30T02:17:40.816307Z",
     "start_time": "2021-12-30T02:17:40.803185Z"
    }
   },
   "outputs": [],
   "source": [
    "def run_model_hpo(seq_len=seq_len,\n",
    "                  target_len=target_len,\n",
    "                  mse_thresh=mse_thresh):\n",
    "    train_data = data[:int(0.8 * len(data))]\n",
    "    train_data, _, _ = normalization(train_data)\n",
    "    train_x, train_y = series_to_supervise(train_data, seq_len, target_len)\n",
    "    train_x_list, train_y_list, valid_x_list, valid_y_list = time_series_split(\n",
    "        train_x, train_y)\n",
    "    #     with enough data\n",
    "    train_x_list = train_x_list[-1:]\n",
    "    train_y_list = train_y_list[-1:]\n",
    "    valid_x_list = valid_x_list[-1:]\n",
    "    valid_y_list = valid_y_list[-1:]\n",
    "\n",
    "    configs = model_config()\n",
    "    records = []\n",
    "    input_size = train_x.shape[2]\n",
    "    output_size = target_len\n",
    "    for i in range(6):\n",
    "        config = random.choice(configs)\n",
    "        configs.remove(config)\n",
    "        batch_size = config['batch_size']\n",
    "        lr = config['lr']\n",
    "        number_epoch = config['number_epoch']\n",
    "        drop_prob = config['drop_prob']\n",
    "        weight_decay = config['weight_decay']\n",
    "        print(\n",
    "            \"model config: batch_size-{}, lr-{}, number_epoch-{},drop_prob-{},weight_decay-{}\"\n",
    "            .format(batch_size, lr, number_epoch, drop_prob, weight_decay))\n",
    "        valid_loss = train_model_hpo(train_x_list, train_y_list, valid_x_list,\n",
    "                                     valid_y_list, input_size, output_size,\n",
    "                                     mse_thresh, batch_size, lr, number_epoch,\n",
    "                                     drop_prob, weight_decay)\n",
    "        records.append({\n",
    "            'batch_size': batch_size,\n",
    "            'lr': lr,\n",
    "            'number_epoch': number_epoch,\n",
    "            'drop_prob': drop_prob,\n",
    "            'weight_decay': weight_decay,\n",
    "            'valid_loss': valid_loss\n",
    "        })\n",
    "    return records"
   ]
  },
  {
   "cell_type": "markdown",
   "id": "1bca8a1b",
   "metadata": {},
   "source": [
    "## run random search"
   ]
  },
  {
   "cell_type": "code",
   "execution_count": 97,
   "id": "5f18d678",
   "metadata": {
    "ExecuteTime": {
     "end_time": "2021-12-30T03:01:29.410771Z",
     "start_time": "2021-12-30T02:58:52.161753Z"
    },
    "scrolled": true
   },
   "outputs": [
    {
     "name": "stdout",
     "output_type": "stream",
     "text": [
      "supervised data: shape of x: (25232, 72, 16), shape of y: (25232, 24)\n",
      "model config: batch_size-256, lr-0.01, number_epoch-30,drop_prob-0,weight_decay-0\n",
      "cross-validation dataset 0\n"
     ]
    },
    {
     "name": "stderr",
     "output_type": "stream",
     "text": [
      "Epoch: 1/30: 100%|██████████| 83/83 [00:01<00:00, 69.07it/s, train_loss=0.0309, valid_loss=0.035] \n",
      "Epoch: 2/30: 100%|██████████| 83/83 [00:01<00:00, 72.50it/s, train_loss=0.031, valid_loss=0.0348] \n",
      "Epoch: 3/30: 100%|██████████| 83/83 [00:01<00:00, 74.15it/s, train_loss=0.0324, valid_loss=0.0351]\n",
      "Epoch: 4/30: 100%|██████████| 83/83 [00:01<00:00, 64.90it/s, train_loss=0.0289, valid_loss=0.0354]\n",
      "Epoch: 5/30: 100%|██████████| 83/83 [00:01<00:00, 71.05it/s, train_loss=0.0268, valid_loss=0.0366]\n",
      "Epoch: 6/30: 100%|██████████| 83/83 [00:01<00:00, 73.18it/s, train_loss=0.0259, valid_loss=0.0367]\n",
      "Epoch: 7/30: 100%|██████████| 83/83 [00:01<00:00, 72.10it/s, train_loss=0.0244, valid_loss=0.0386]\n",
      "Epoch: 8/30: 100%|██████████| 83/83 [00:01<00:00, 65.24it/s, train_loss=0.0262, valid_loss=0.0388]\n",
      "Epoch: 9/30: 100%|██████████| 83/83 [00:01<00:00, 72.38it/s, train_loss=0.0159, valid_loss=0.0412]\n",
      "Epoch: 10/30: 100%|██████████| 83/83 [00:01<00:00, 72.86it/s, train_loss=0.00811, valid_loss=0.0136]\n",
      "Epoch: 11/30: 100%|██████████| 83/83 [00:01<00:00, 72.12it/s, train_loss=0.00607, valid_loss=0.00884]\n",
      "Epoch: 12/30: 100%|██████████| 83/83 [00:01<00:00, 64.99it/s, train_loss=0.00444, valid_loss=0.00682]\n",
      "Epoch: 13/30: 100%|██████████| 83/83 [00:01<00:00, 72.33it/s, train_loss=0.00429, valid_loss=0.00619]\n",
      "Epoch: 14/30: 100%|██████████| 83/83 [00:01<00:00, 71.77it/s, train_loss=0.00403, valid_loss=0.00607]\n",
      "Epoch: 15/30: 100%|██████████| 83/83 [00:01<00:00, 70.43it/s, train_loss=0.00387, valid_loss=0.00575]\n",
      "Epoch: 16/30: 100%|██████████| 83/83 [00:01<00:00, 65.63it/s, train_loss=0.0039, valid_loss=0.00567] \n",
      "Epoch: 17/30: 100%|██████████| 83/83 [00:01<00:00, 71.46it/s, train_loss=0.00407, valid_loss=0.00546]\n",
      "Epoch: 18/30: 100%|██████████| 83/83 [00:01<00:00, 72.23it/s, train_loss=0.00445, valid_loss=0.00606]\n",
      "Epoch: 19/30: 100%|██████████| 83/83 [00:01<00:00, 71.78it/s, train_loss=0.00324, valid_loss=0.0052] \n",
      "Epoch: 20/30: 100%|██████████| 83/83 [00:01<00:00, 64.46it/s, train_loss=0.00293, valid_loss=0.00503]\n",
      "Epoch: 21/30: 100%|██████████| 83/83 [00:01<00:00, 70.95it/s, train_loss=0.00314, valid_loss=0.00509]\n",
      "Epoch: 22/30: 100%|██████████| 83/83 [00:01<00:00, 73.19it/s, train_loss=0.0033, valid_loss=0.00491] \n",
      "Epoch: 23/30: 100%|██████████| 83/83 [00:01<00:00, 72.50it/s, train_loss=0.00335, valid_loss=0.00491]\n",
      "Epoch: 24/30: 100%|██████████| 83/83 [00:01<00:00, 65.43it/s, train_loss=0.00305, valid_loss=0.0053] \n",
      "Epoch: 25/30: 100%|██████████| 83/83 [00:01<00:00, 72.29it/s, train_loss=0.00281, valid_loss=0.00469]\n",
      "Epoch: 26/30: 100%|██████████| 83/83 [00:01<00:00, 71.95it/s, train_loss=0.00346, valid_loss=0.00503]\n",
      "Epoch: 27/30: 100%|██████████| 83/83 [00:01<00:00, 73.25it/s, train_loss=0.00344, valid_loss=0.00472]\n",
      "Epoch: 28/30: 100%|██████████| 83/83 [00:01<00:00, 65.85it/s, train_loss=0.00283, valid_loss=0.00478]\n",
      "Epoch: 29/30: 100%|██████████| 83/83 [00:01<00:00, 72.82it/s, train_loss=0.00371, valid_loss=0.00461]\n",
      "Epoch: 30/30: 100%|██████████| 83/83 [00:01<00:00, 73.99it/s, train_loss=0.00328, valid_loss=0.00515]\n"
     ]
    },
    {
     "name": "stdout",
     "output_type": "stream",
     "text": [
      "model config: batch_size-256, lr-0.001, number_epoch-30,drop_prob-0,weight_decay-0\n",
      "cross-validation dataset 0\n"
     ]
    },
    {
     "name": "stderr",
     "output_type": "stream",
     "text": [
      "Epoch: 1/30: 100%|██████████| 83/83 [00:01<00:00, 71.64it/s, train_loss=0.0263, valid_loss=0.0347]\n",
      "Epoch: 2/30: 100%|██████████| 83/83 [00:01<00:00, 67.75it/s, train_loss=0.0184, valid_loss=0.0387]\n",
      "Epoch: 3/30: 100%|██████████| 83/83 [00:01<00:00, 73.50it/s, train_loss=0.0116, valid_loss=0.0227]\n",
      "Epoch: 4/30: 100%|██████████| 83/83 [00:01<00:00, 72.51it/s, train_loss=0.00565, valid_loss=0.00946]\n",
      "Epoch: 5/30: 100%|██████████| 83/83 [00:01<00:00, 74.16it/s, train_loss=0.00483, valid_loss=0.0074] \n",
      "Epoch: 6/30: 100%|██████████| 83/83 [00:01<00:00, 70.33it/s, train_loss=0.00408, valid_loss=0.0064] \n",
      "Epoch: 7/30: 100%|██████████| 83/83 [00:01<00:00, 67.31it/s, train_loss=0.00323, valid_loss=0.00541]\n",
      "Epoch: 8/30: 100%|██████████| 83/83 [00:01<00:00, 73.48it/s, train_loss=0.00304, valid_loss=0.00498]\n",
      "Epoch: 9/30: 100%|██████████| 83/83 [00:01<00:00, 74.35it/s, train_loss=0.00285, valid_loss=0.00485]\n",
      "Epoch: 10/30: 100%|██████████| 83/83 [00:01<00:00, 72.74it/s, train_loss=0.00239, valid_loss=0.00485]\n",
      "Epoch: 11/30: 100%|██████████| 83/83 [00:01<00:00, 67.20it/s, train_loss=0.0025, valid_loss=0.00441] \n",
      "Epoch: 12/30: 100%|██████████| 83/83 [00:01<00:00, 73.80it/s, train_loss=0.00208, valid_loss=0.00425]\n",
      "Epoch: 13/30: 100%|██████████| 83/83 [00:01<00:00, 73.49it/s, train_loss=0.00197, valid_loss=0.00415]\n",
      "Epoch: 14/30: 100%|██████████| 83/83 [00:01<00:00, 73.88it/s, train_loss=0.00252, valid_loss=0.00414]\n",
      "Epoch: 15/30: 100%|██████████| 83/83 [00:01<00:00, 66.08it/s, train_loss=0.00241, valid_loss=0.00401]\n",
      "Epoch: 16/30: 100%|██████████| 83/83 [00:01<00:00, 74.11it/s, train_loss=0.00182, valid_loss=0.0039] \n",
      "Epoch: 17/30: 100%|██████████| 83/83 [00:01<00:00, 73.19it/s, train_loss=0.00192, valid_loss=0.00386]\n",
      "Epoch: 18/30: 100%|██████████| 83/83 [00:01<00:00, 73.17it/s, train_loss=0.00185, valid_loss=0.00376]\n",
      "Epoch: 19/30: 100%|██████████| 83/83 [00:01<00:00, 67.88it/s, train_loss=0.00228, valid_loss=0.00377]\n",
      "Epoch: 20/30: 100%|██████████| 83/83 [00:01<00:00, 71.87it/s, train_loss=0.00197, valid_loss=0.0037] \n",
      "Epoch: 21/30: 100%|██████████| 83/83 [00:01<00:00, 72.15it/s, train_loss=0.00174, valid_loss=0.00371]\n",
      "Epoch: 22/30: 100%|██████████| 83/83 [00:01<00:00, 73.87it/s, train_loss=0.00222, valid_loss=0.00369]\n",
      "Epoch: 23/30: 100%|██████████| 83/83 [00:01<00:00, 65.48it/s, train_loss=0.00215, valid_loss=0.00373]\n",
      "Epoch: 24/30: 100%|██████████| 83/83 [00:01<00:00, 73.62it/s, train_loss=0.00205, valid_loss=0.00361]\n",
      "Epoch: 25/30: 100%|██████████| 83/83 [00:01<00:00, 73.83it/s, train_loss=0.0017, valid_loss=0.00381] \n",
      "Epoch: 26/30: 100%|██████████| 83/83 [00:01<00:00, 72.58it/s, train_loss=0.0018, valid_loss=0.00363] \n",
      "Epoch: 27/30: 100%|██████████| 83/83 [00:01<00:00, 64.79it/s, train_loss=0.00178, valid_loss=0.0036] \n",
      "Epoch: 28/30: 100%|██████████| 83/83 [00:01<00:00, 73.48it/s, train_loss=0.00234, valid_loss=0.0035] \n",
      "Epoch: 29/30: 100%|██████████| 83/83 [00:01<00:00, 73.84it/s, train_loss=0.00141, valid_loss=0.00387]\n",
      "Epoch: 30/30: 100%|██████████| 83/83 [00:01<00:00, 72.60it/s, train_loss=0.00139, valid_loss=0.00353]\n"
     ]
    },
    {
     "name": "stdout",
     "output_type": "stream",
     "text": [
      "model config: batch_size-512, lr-0.005, number_epoch-30,drop_prob-0,weight_decay-0\n",
      "cross-validation dataset 0\n"
     ]
    },
    {
     "name": "stderr",
     "output_type": "stream",
     "text": [
      "Epoch: 1/30: 100%|██████████| 42/42 [00:00<00:00, 58.51it/s, train_loss=0.0264, valid_loss=0.0402]\n",
      "Epoch: 2/30: 100%|██████████| 42/42 [00:00<00:00, 72.58it/s, train_loss=0.0187, valid_loss=0.0384]\n",
      "Epoch: 3/30: 100%|██████████| 42/42 [00:00<00:00, 74.34it/s, train_loss=0.0159, valid_loss=0.0356]\n",
      "Epoch: 4/30: 100%|██████████| 42/42 [00:00<00:00, 62.04it/s, train_loss=0.0133, valid_loss=0.0351]\n",
      "Epoch: 5/30: 100%|██████████| 42/42 [00:00<00:00, 73.04it/s, train_loss=0.00722, valid_loss=0.0234]\n",
      "Epoch: 6/30: 100%|██████████| 42/42 [00:00<00:00, 74.50it/s, train_loss=0.00584, valid_loss=0.0189]\n",
      "Epoch: 7/30: 100%|██████████| 42/42 [00:00<00:00, 73.86it/s, train_loss=0.00459, valid_loss=0.0169]\n",
      "Epoch: 8/30: 100%|██████████| 42/42 [00:00<00:00, 71.24it/s, train_loss=0.00377, valid_loss=0.0154]\n",
      "Epoch: 9/30: 100%|██████████| 42/42 [00:00<00:00, 76.89it/s, train_loss=0.00325, valid_loss=0.0144]\n",
      "Epoch: 10/30: 100%|██████████| 42/42 [00:00<00:00, 77.95it/s, train_loss=0.00309, valid_loss=0.014] \n",
      "Epoch: 11/30: 100%|██████████| 42/42 [00:00<00:00, 64.70it/s, train_loss=0.0029, valid_loss=0.0143] \n",
      "Epoch: 12/30: 100%|██████████| 42/42 [00:00<00:00, 77.32it/s, train_loss=0.00289, valid_loss=0.0143]\n",
      "Epoch: 13/30: 100%|██████████| 42/42 [00:00<00:00, 77.47it/s, train_loss=0.00276, valid_loss=0.0133]\n",
      "Epoch: 14/30: 100%|██████████| 42/42 [00:00<00:00, 64.94it/s, train_loss=0.00266, valid_loss=0.0126]\n",
      "Epoch: 15/30: 100%|██████████| 42/42 [00:00<00:00, 77.95it/s, train_loss=0.00232, valid_loss=0.0129]\n",
      "Epoch: 16/30: 100%|██████████| 42/42 [00:00<00:00, 74.58it/s, train_loss=0.00265, valid_loss=0.0114]\n",
      "Epoch: 17/30: 100%|██████████| 42/42 [00:00<00:00, 63.07it/s, train_loss=0.0023, valid_loss=0.0125] \n",
      "Epoch: 18/30: 100%|██████████| 42/42 [00:00<00:00, 74.54it/s, train_loss=0.00233, valid_loss=0.0114]\n",
      "Epoch: 19/30: 100%|██████████| 42/42 [00:00<00:00, 75.87it/s, train_loss=0.0022, valid_loss=0.0122] \n",
      "Epoch: 20/30: 100%|██████████| 42/42 [00:00<00:00, 75.71it/s, train_loss=0.00238, valid_loss=0.0111]\n",
      "Epoch: 21/30: 100%|██████████| 42/42 [00:00<00:00, 78.19it/s, train_loss=0.00246, valid_loss=0.0119]\n",
      "Epoch: 22/30: 100%|██████████| 42/42 [00:00<00:00, 77.65it/s, train_loss=0.00188, valid_loss=0.012] \n",
      "Epoch: 23/30: 100%|██████████| 42/42 [00:00<00:00, 63.88it/s, train_loss=0.0021, valid_loss=0.0147] \n",
      "Epoch: 24/30: 100%|██████████| 42/42 [00:00<00:00, 77.06it/s, train_loss=0.00194, valid_loss=0.0128]\n",
      "Epoch: 25/30: 100%|██████████| 42/42 [00:00<00:00, 77.60it/s, train_loss=0.00177, valid_loss=0.0131]\n",
      "Epoch: 26/30: 100%|██████████| 42/42 [00:00<00:00, 74.90it/s, train_loss=0.00198, valid_loss=0.0144]\n",
      "Epoch: 27/30: 100%|██████████| 42/42 [00:00<00:00, 64.49it/s, train_loss=0.00177, valid_loss=0.0127]\n",
      "Epoch: 28/30: 100%|██████████| 42/42 [00:00<00:00, 78.04it/s, train_loss=0.002, valid_loss=0.0125]  \n",
      "Epoch: 29/30: 100%|██████████| 42/42 [00:00<00:00, 77.61it/s, train_loss=0.0016, valid_loss=0.0133] \n",
      "Epoch: 30/30: 100%|██████████| 42/42 [00:00<00:00, 64.92it/s, train_loss=0.00164, valid_loss=0.0136]\n"
     ]
    },
    {
     "name": "stdout",
     "output_type": "stream",
     "text": [
      "model config: batch_size-256, lr-0.005, number_epoch-30,drop_prob-0,weight_decay-0\n",
      "cross-validation dataset 0\n"
     ]
    },
    {
     "name": "stderr",
     "output_type": "stream",
     "text": [
      "Epoch: 1/30: 100%|██████████| 83/83 [00:01<00:00, 70.23it/s, train_loss=0.0195, valid_loss=0.0305]\n",
      "Epoch: 2/30: 100%|██████████| 83/83 [00:01<00:00, 76.42it/s, train_loss=0.00838, valid_loss=0.0147]\n",
      "Epoch: 3/30: 100%|██████████| 83/83 [00:01<00:00, 75.97it/s, train_loss=0.00535, valid_loss=0.0103] \n",
      "Epoch: 4/30: 100%|██████████| 83/83 [00:01<00:00, 70.03it/s, train_loss=0.00448, valid_loss=0.00854]\n",
      "Epoch: 5/30: 100%|██████████| 83/83 [00:01<00:00, 75.62it/s, train_loss=0.00323, valid_loss=0.0063] \n",
      "Epoch: 6/30: 100%|██████████| 83/83 [00:01<00:00, 78.03it/s, train_loss=0.0034, valid_loss=0.00647] \n",
      "Epoch: 7/30: 100%|██████████| 83/83 [00:01<00:00, 76.77it/s, train_loss=0.00305, valid_loss=0.00506]\n",
      "Epoch: 8/30: 100%|██████████| 83/83 [00:01<00:00, 70.62it/s, train_loss=0.00214, valid_loss=0.00543]\n",
      "Epoch: 9/30: 100%|██████████| 83/83 [00:01<00:00, 77.36it/s, train_loss=0.00291, valid_loss=0.00501]\n",
      "Epoch: 10/30: 100%|██████████| 83/83 [00:01<00:00, 77.57it/s, train_loss=0.00226, valid_loss=0.00463]\n",
      "Epoch: 11/30: 100%|██████████| 83/83 [00:01<00:00, 76.29it/s, train_loss=0.0019, valid_loss=0.00471] \n",
      "Epoch: 12/30: 100%|██████████| 83/83 [00:01<00:00, 69.44it/s, train_loss=0.00216, valid_loss=0.00449]\n",
      "Epoch: 13/30: 100%|██████████| 83/83 [00:01<00:00, 74.11it/s, train_loss=0.00204, valid_loss=0.00446]\n",
      "Epoch: 14/30: 100%|██████████| 83/83 [00:01<00:00, 76.42it/s, train_loss=0.00179, valid_loss=0.00436]\n",
      "Epoch: 15/30: 100%|██████████| 83/83 [00:01<00:00, 78.35it/s, train_loss=0.00189, valid_loss=0.00424]\n",
      "Epoch: 16/30: 100%|██████████| 83/83 [00:01<00:00, 70.25it/s, train_loss=0.00176, valid_loss=0.00451]\n",
      "Epoch: 17/30: 100%|██████████| 83/83 [00:01<00:00, 76.20it/s, train_loss=0.00178, valid_loss=0.00409]\n",
      "Epoch: 18/30: 100%|██████████| 83/83 [00:01<00:00, 77.05it/s, train_loss=0.00194, valid_loss=0.00418]\n",
      "Epoch: 19/30: 100%|██████████| 83/83 [00:01<00:00, 74.83it/s, train_loss=0.00178, valid_loss=0.0041] \n",
      "Epoch: 20/30: 100%|██████████| 83/83 [00:01<00:00, 70.42it/s, train_loss=0.00166, valid_loss=0.00423]\n",
      "Epoch: 21/30: 100%|██████████| 83/83 [00:01<00:00, 77.23it/s, train_loss=0.00182, valid_loss=0.00413]\n",
      "Epoch: 22/30: 100%|██████████| 83/83 [00:01<00:00, 77.10it/s, train_loss=0.00175, valid_loss=0.0041] \n",
      "Epoch: 23/30: 100%|██████████| 83/83 [00:01<00:00, 77.12it/s, train_loss=0.0015, valid_loss=0.00418] \n",
      "Epoch: 24/30: 100%|██████████| 83/83 [00:01<00:00, 70.83it/s, train_loss=0.00167, valid_loss=0.00463]\n",
      "Epoch: 25/30: 100%|██████████| 83/83 [00:01<00:00, 77.55it/s, train_loss=0.00144, valid_loss=0.00427]\n",
      "Epoch: 26/30: 100%|██████████| 83/83 [00:01<00:00, 77.25it/s, train_loss=0.00157, valid_loss=0.00416]\n",
      "Epoch: 27/30: 100%|██████████| 83/83 [00:01<00:00, 77.38it/s, train_loss=0.00147, valid_loss=0.00414]\n",
      "Epoch: 28/30: 100%|██████████| 83/83 [00:01<00:00, 69.26it/s, train_loss=0.00121, valid_loss=0.0043] \n",
      "Epoch: 29/30: 100%|██████████| 83/83 [00:01<00:00, 77.17it/s, train_loss=0.00155, valid_loss=0.00453]\n",
      "Epoch: 30/30: 100%|██████████| 83/83 [00:01<00:00, 77.05it/s, train_loss=0.00125, valid_loss=0.00426]\n"
     ]
    },
    {
     "name": "stdout",
     "output_type": "stream",
     "text": [
      "model config: batch_size-512, lr-0.01, number_epoch-30,drop_prob-0,weight_decay-0\n",
      "cross-validation dataset 0\n"
     ]
    },
    {
     "name": "stderr",
     "output_type": "stream",
     "text": [
      "Epoch: 1/30: 100%|██████████| 42/42 [00:00<00:00, 66.24it/s, train_loss=0.0265, valid_loss=0.0375]\n",
      "Epoch: 2/30: 100%|██████████| 42/42 [00:00<00:00, 69.49it/s, train_loss=0.0268, valid_loss=0.0372]\n",
      "Epoch: 3/30: 100%|██████████| 42/42 [00:00<00:00, 71.95it/s, train_loss=0.0253, valid_loss=0.0394]\n",
      "Epoch: 4/30: 100%|██████████| 42/42 [00:00<00:00, 60.47it/s, train_loss=0.023, valid_loss=0.0415] \n",
      "Epoch: 5/30: 100%|██████████| 42/42 [00:00<00:00, 71.26it/s, train_loss=0.019, valid_loss=0.0395] \n",
      "Epoch: 6/30: 100%|██████████| 42/42 [00:00<00:00, 71.46it/s, train_loss=0.0173, valid_loss=0.0371]\n",
      "Epoch: 7/30: 100%|██████████| 42/42 [00:00<00:00, 70.67it/s, train_loss=0.0125, valid_loss=0.0351]\n",
      "Epoch: 8/30: 100%|██████████| 42/42 [00:00<00:00, 71.19it/s, train_loss=0.00977, valid_loss=0.0329]\n",
      "Epoch: 9/30: 100%|██████████| 42/42 [00:00<00:00, 71.12it/s, train_loss=0.00708, valid_loss=0.0348]\n",
      "Epoch: 10/30: 100%|██████████| 42/42 [00:00<00:00, 60.33it/s, train_loss=0.00632, valid_loss=0.0285]\n",
      "Epoch: 11/30: 100%|██████████| 42/42 [00:00<00:00, 71.26it/s, train_loss=0.00561, valid_loss=0.0295]\n",
      "Epoch: 12/30: 100%|██████████| 42/42 [00:00<00:00, 68.51it/s, train_loss=0.00485, valid_loss=0.0287]\n",
      "Epoch: 13/30: 100%|██████████| 42/42 [00:00<00:00, 70.94it/s, train_loss=0.00513, valid_loss=0.0319]\n",
      "Epoch: 14/30: 100%|██████████| 42/42 [00:00<00:00, 58.23it/s, train_loss=0.00522, valid_loss=0.0322]\n",
      "Epoch: 15/30: 100%|██████████| 42/42 [00:00<00:00, 74.00it/s, train_loss=0.00478, valid_loss=0.0306]\n",
      "Epoch: 16/30: 100%|██████████| 42/42 [00:00<00:00, 77.43it/s, train_loss=0.00433, valid_loss=0.0288]\n",
      "Epoch: 17/30: 100%|██████████| 42/42 [00:00<00:00, 64.36it/s, train_loss=0.00436, valid_loss=0.0288]\n",
      "Epoch: 18/30: 100%|██████████| 42/42 [00:00<00:00, 75.00it/s, train_loss=0.00411, valid_loss=0.0307]\n",
      "Epoch: 19/30: 100%|██████████| 42/42 [00:00<00:00, 77.54it/s, train_loss=0.00437, valid_loss=0.0297]\n",
      "Epoch: 20/30: 100%|██████████| 42/42 [00:00<00:00, 63.43it/s, train_loss=0.00407, valid_loss=0.0306]\n",
      "Epoch: 21/30: 100%|██████████| 42/42 [00:00<00:00, 77.59it/s, train_loss=0.00361, valid_loss=0.0269]\n",
      "Epoch: 22/30: 100%|██████████| 42/42 [00:00<00:00, 77.53it/s, train_loss=0.00341, valid_loss=0.0271]\n",
      "Epoch: 23/30: 100%|██████████| 42/42 [00:00<00:00, 75.50it/s, train_loss=0.00337, valid_loss=0.028] \n",
      "Epoch: 24/30: 100%|██████████| 42/42 [00:00<00:00, 64.87it/s, train_loss=0.00382, valid_loss=0.0276]\n",
      "Epoch: 25/30: 100%|██████████| 42/42 [00:00<00:00, 77.77it/s, train_loss=0.00325, valid_loss=0.0275]\n",
      "Epoch: 26/30: 100%|██████████| 42/42 [00:00<00:00, 77.53it/s, train_loss=0.00346, valid_loss=0.0292]\n",
      "Epoch: 27/30: 100%|██████████| 42/42 [00:00<00:00, 64.68it/s, train_loss=0.0028, valid_loss=0.028]  \n",
      "Epoch: 28/30: 100%|██████████| 42/42 [00:00<00:00, 76.95it/s, train_loss=0.00284, valid_loss=0.0274]\n",
      "Epoch: 29/30: 100%|██████████| 42/42 [00:00<00:00, 75.32it/s, train_loss=0.00305, valid_loss=0.0275]\n",
      "Epoch: 30/30: 100%|██████████| 42/42 [00:00<00:00, 77.56it/s, train_loss=0.00274, valid_loss=0.0274]\n"
     ]
    },
    {
     "name": "stdout",
     "output_type": "stream",
     "text": [
      "model config: batch_size-512, lr-0.001, number_epoch-30,drop_prob-0,weight_decay-0\n",
      "cross-validation dataset 0\n"
     ]
    },
    {
     "name": "stderr",
     "output_type": "stream",
     "text": [
      "Epoch: 1/30: 100%|██████████| 42/42 [00:00<00:00, 71.32it/s, train_loss=0.0315, valid_loss=0.0354]\n",
      "Epoch: 2/30: 100%|██████████| 42/42 [00:00<00:00, 77.79it/s, train_loss=0.0265, valid_loss=0.0363]\n",
      "Epoch: 3/30: 100%|██████████| 42/42 [00:00<00:00, 63.29it/s, train_loss=0.0221, valid_loss=0.0366]\n",
      "Epoch: 4/30: 100%|██████████| 42/42 [00:00<00:00, 77.88it/s, train_loss=0.0178, valid_loss=0.0376]\n",
      "Epoch: 5/30: 100%|██████████| 42/42 [00:00<00:00, 77.87it/s, train_loss=0.0174, valid_loss=0.0394]\n",
      "Epoch: 6/30: 100%|██████████| 42/42 [00:00<00:00, 75.24it/s, train_loss=0.0151, valid_loss=0.0383]\n",
      "Epoch: 7/30: 100%|██████████| 42/42 [00:00<00:00, 77.62it/s, train_loss=0.0103, valid_loss=0.0308]\n",
      "Epoch: 8/30: 100%|██████████| 42/42 [00:00<00:00, 75.33it/s, train_loss=0.00788, valid_loss=0.0301]\n",
      "Epoch: 9/30: 100%|██████████| 42/42 [00:00<00:00, 61.95it/s, train_loss=0.00639, valid_loss=0.0263]\n",
      "Epoch: 10/30: 100%|██████████| 42/42 [00:00<00:00, 77.69it/s, train_loss=0.00602, valid_loss=0.0257]\n",
      "Epoch: 11/30: 100%|██████████| 42/42 [00:00<00:00, 75.16it/s, train_loss=0.005, valid_loss=0.0239]  \n",
      "Epoch: 12/30: 100%|██████████| 42/42 [00:00<00:00, 76.67it/s, train_loss=0.00401, valid_loss=0.0239]\n",
      "Epoch: 13/30: 100%|██████████| 42/42 [00:00<00:00, 61.84it/s, train_loss=0.00382, valid_loss=0.0245]\n",
      "Epoch: 14/30: 100%|██████████| 42/42 [00:00<00:00, 76.87it/s, train_loss=0.0038, valid_loss=0.0232] \n",
      "Epoch: 15/30: 100%|██████████| 42/42 [00:00<00:00, 75.67it/s, train_loss=0.00337, valid_loss=0.0225]\n",
      "Epoch: 16/30: 100%|██████████| 42/42 [00:00<00:00, 62.89it/s, train_loss=0.00342, valid_loss=0.0229]\n",
      "Epoch: 17/30: 100%|██████████| 42/42 [00:00<00:00, 76.20it/s, train_loss=0.0029, valid_loss=0.0219] \n",
      "Epoch: 18/30: 100%|██████████| 42/42 [00:00<00:00, 74.14it/s, train_loss=0.0029, valid_loss=0.0215] \n",
      "Epoch: 19/30: 100%|██████████| 42/42 [00:00<00:00, 63.81it/s, train_loss=0.00283, valid_loss=0.0222]\n",
      "Epoch: 20/30: 100%|██████████| 42/42 [00:00<00:00, 76.68it/s, train_loss=0.00302, valid_loss=0.0221]\n",
      "Epoch: 21/30: 100%|██████████| 42/42 [00:00<00:00, 76.71it/s, train_loss=0.00253, valid_loss=0.0203]\n",
      "Epoch: 22/30: 100%|██████████| 42/42 [00:00<00:00, 77.10it/s, train_loss=0.00255, valid_loss=0.0218]\n",
      "Epoch: 23/30: 100%|██████████| 42/42 [00:00<00:00, 77.27it/s, train_loss=0.00233, valid_loss=0.0206]\n",
      "Epoch: 24/30: 100%|██████████| 42/42 [00:00<00:00, 76.20it/s, train_loss=0.00242, valid_loss=0.0211]\n",
      "Epoch: 25/30: 100%|██████████| 42/42 [00:00<00:00, 76.63it/s, train_loss=0.00248, valid_loss=0.0212]\n",
      "Epoch: 26/30: 100%|██████████| 42/42 [00:00<00:00, 62.40it/s, train_loss=0.0022, valid_loss=0.0205] \n",
      "Epoch: 27/30: 100%|██████████| 42/42 [00:00<00:00, 76.63it/s, train_loss=0.00218, valid_loss=0.0206]\n",
      "Epoch: 28/30: 100%|██████████| 42/42 [00:00<00:00, 77.14it/s, train_loss=0.00224, valid_loss=0.0201]\n",
      "Epoch: 29/30: 100%|██████████| 42/42 [00:00<00:00, 75.27it/s, train_loss=0.00197, valid_loss=0.0204]\n",
      "Epoch: 30/30: 100%|██████████| 42/42 [00:00<00:00, 76.41it/s, train_loss=0.00228, valid_loss=0.0205]\n"
     ]
    }
   ],
   "source": [
    "random_seed_set(42)\n",
    "records = run_model_hpo()"
   ]
  },
  {
   "cell_type": "markdown",
   "id": "aa937311",
   "metadata": {
    "ExecuteTime": {
     "end_time": "2021-12-22T08:52:06.844501Z",
     "start_time": "2021-12-22T08:52:06.830928Z"
    }
   },
   "source": [
    "## find the best hyper-parameters"
   ]
  },
  {
   "cell_type": "code",
   "execution_count": 98,
   "id": "590e90bb",
   "metadata": {
    "ExecuteTime": {
     "end_time": "2021-12-30T03:03:00.702963Z",
     "start_time": "2021-12-30T03:03:00.679863Z"
    }
   },
   "outputs": [
    {
     "data": {
      "text/html": [
       "<div>\n",
       "<style scoped>\n",
       "    .dataframe tbody tr th:only-of-type {\n",
       "        vertical-align: middle;\n",
       "    }\n",
       "\n",
       "    .dataframe tbody tr th {\n",
       "        vertical-align: top;\n",
       "    }\n",
       "\n",
       "    .dataframe thead th {\n",
       "        text-align: right;\n",
       "    }\n",
       "</style>\n",
       "<table border=\"1\" class=\"dataframe\">\n",
       "  <thead>\n",
       "    <tr style=\"text-align: right;\">\n",
       "      <th></th>\n",
       "      <th>batch_size</th>\n",
       "      <th>lr</th>\n",
       "      <th>number_epoch</th>\n",
       "      <th>drop_prob</th>\n",
       "      <th>weight_decay</th>\n",
       "      <th>valid_loss</th>\n",
       "    </tr>\n",
       "  </thead>\n",
       "  <tbody>\n",
       "    <tr>\n",
       "      <th>1</th>\n",
       "      <td>256</td>\n",
       "      <td>0.001</td>\n",
       "      <td>30</td>\n",
       "      <td>0</td>\n",
       "      <td>0</td>\n",
       "      <td>0.003476</td>\n",
       "    </tr>\n",
       "    <tr>\n",
       "      <th>3</th>\n",
       "      <td>256</td>\n",
       "      <td>0.005</td>\n",
       "      <td>30</td>\n",
       "      <td>0</td>\n",
       "      <td>0</td>\n",
       "      <td>0.003937</td>\n",
       "    </tr>\n",
       "    <tr>\n",
       "      <th>0</th>\n",
       "      <td>256</td>\n",
       "      <td>0.010</td>\n",
       "      <td>30</td>\n",
       "      <td>0</td>\n",
       "      <td>0</td>\n",
       "      <td>0.004612</td>\n",
       "    </tr>\n",
       "    <tr>\n",
       "      <th>2</th>\n",
       "      <td>512</td>\n",
       "      <td>0.005</td>\n",
       "      <td>30</td>\n",
       "      <td>0</td>\n",
       "      <td>0</td>\n",
       "      <td>0.010827</td>\n",
       "    </tr>\n",
       "    <tr>\n",
       "      <th>5</th>\n",
       "      <td>512</td>\n",
       "      <td>0.001</td>\n",
       "      <td>30</td>\n",
       "      <td>0</td>\n",
       "      <td>0</td>\n",
       "      <td>0.019301</td>\n",
       "    </tr>\n",
       "    <tr>\n",
       "      <th>4</th>\n",
       "      <td>512</td>\n",
       "      <td>0.010</td>\n",
       "      <td>30</td>\n",
       "      <td>0</td>\n",
       "      <td>0</td>\n",
       "      <td>0.024764</td>\n",
       "    </tr>\n",
       "  </tbody>\n",
       "</table>\n",
       "</div>"
      ],
      "text/plain": [
       "   batch_size     lr  number_epoch  drop_prob  weight_decay  valid_loss\n",
       "1         256  0.001            30          0             0    0.003476\n",
       "3         256  0.005            30          0             0    0.003937\n",
       "0         256  0.010            30          0             0    0.004612\n",
       "2         512  0.005            30          0             0    0.010827\n",
       "5         512  0.001            30          0             0    0.019301\n",
       "4         512  0.010            30          0             0    0.024764"
      ]
     },
     "execution_count": 98,
     "metadata": {},
     "output_type": "execute_result"
    }
   ],
   "source": [
    "records = pd.DataFrame(records).sort_values(by='valid_loss')\n",
    "records.to_csv('./records/CNN_records.csv', mode='a', index=False, header=False)\n",
    "records"
   ]
  },
  {
   "cell_type": "markdown",
   "id": "7d58d8b0",
   "metadata": {},
   "source": [
    "## retrain a model"
   ]
  },
  {
   "cell_type": "code",
   "execution_count": 73,
   "id": "926d940b",
   "metadata": {
    "ExecuteTime": {
     "end_time": "2021-12-30T02:29:16.966660Z",
     "start_time": "2021-12-30T02:29:16.944660Z"
    }
   },
   "outputs": [],
   "source": [
    "def train_model(train_x, train_y, valid_x, valid_y, input_size, output_size,\n",
    "                mse_thresh, batch_size, lr, number_epoch, drop_prob,\n",
    "                weight_decay):\n",
    "    while (1):\n",
    "        model = CNN_2D(output_size, drop_prob)\n",
    "        model.to(device=device)\n",
    "        criterion = nn.MSELoss()\n",
    "        optimizer = torch.optim.Adam(model.parameters(),\n",
    "                                     lr=lr,\n",
    "                                     weight_decay=weight_decay)\n",
    "        scheduler = torch.optim.lr_scheduler.StepLR(optimizer, 1, gamma=0.98)\n",
    "        valid_loss_min = np.Inf\n",
    "        train_dataset = TensorDataset(torch.FloatTensor(train_x),\n",
    "                                      torch.FloatTensor(train_y))\n",
    "        valid_dataset = TensorDataset(torch.FloatTensor(valid_x),\n",
    "                                      torch.FloatTensor(valid_y))\n",
    "        train_loader = DataLoader(dataset=train_dataset,\n",
    "                                  batch_size=batch_size,\n",
    "                                  shuffle=True,\n",
    "                                  drop_last=False)\n",
    "        valid_loader = DataLoader(dataset=valid_dataset,\n",
    "                                  batch_size=batch_size,\n",
    "                                  shuffle=True,\n",
    "                                  drop_last=False)\n",
    "        num_without_imp = 0\n",
    "        train_loss_list = []\n",
    "        valid_loss_list = []\n",
    "        # training process\n",
    "        for epoch in range(1, number_epoch + 1):\n",
    "            loop = tqdm(enumerate(train_loader),\n",
    "                        total=len(train_loader),\n",
    "                        leave=True)\n",
    "            for i, (inputs, labels) in loop:\n",
    "                inputs = inputs.to(device=device)\n",
    "                labels = labels.to(device=device)\n",
    "                optimizer.zero_grad()\n",
    "                outputs = model(inputs)\n",
    "                loss = criterion(outputs, labels)\n",
    "                loss.backward()\n",
    "                optimizer.step()\n",
    "                if i % 5 == 0:\n",
    "                    num_without_imp = num_without_imp + 1\n",
    "                    valid_losses = list()\n",
    "                    model.eval()\n",
    "                    for inp, lab in valid_loader:\n",
    "                        inp = inp.to(device)\n",
    "                        lab = lab.to(device)\n",
    "                        out = model(inp)\n",
    "                        valid_loss = criterion(out, lab)\n",
    "                        valid_losses.append(valid_loss.item())\n",
    "\n",
    "                    model.train()\n",
    "                    loop.set_description(\"Epoch: {}/{}\".format(\n",
    "                        epoch, number_epoch))\n",
    "                    loop.set_postfix(train_loss=loss.item(),\n",
    "                                     valid_loss=np.mean(valid_losses))\n",
    "\n",
    "                    train_loss_list.append(loss.item())\n",
    "                    valid_loss_list.append(np.mean(valid_losses))\n",
    "                    if np.mean(valid_losses) < valid_loss_min:\n",
    "                        num_without_imp = 0\n",
    "                        torch.save(model.state_dict(),\n",
    "                                   './model/CNN_state_dict.pt')\n",
    "                        valid_loss_min = np.mean(valid_losses)\n",
    "            scheduler.step()\n",
    "        if valid_loss_min < mse_thresh:\n",
    "            break\n",
    "    return model, train_loss_list, valid_loss_list"
   ]
  },
  {
   "cell_type": "markdown",
   "id": "b8fdfa6b",
   "metadata": {},
   "source": [
    "## test results"
   ]
  },
  {
   "cell_type": "code",
   "execution_count": 69,
   "id": "59c410c2",
   "metadata": {
    "ExecuteTime": {
     "end_time": "2021-12-30T02:20:47.510477Z",
     "start_time": "2021-12-30T02:20:47.497916Z"
    }
   },
   "outputs": [],
   "source": [
    "def test_model(model, test_x, test_y, scaler_y, batch_size):\n",
    "    test_dataset = TensorDataset(torch.FloatTensor(test_x),\n",
    "                                 torch.FloatTensor(test_y))\n",
    "    test_loader = DataLoader(dataset=test_dataset,\n",
    "                             batch_size=batch_size,\n",
    "                             shuffle=False,\n",
    "                             drop_last=False)\n",
    "    model.load_state_dict(torch.load('./model/CNN_state_dict.pt'))\n",
    "    y_pred = []\n",
    "    y_true = []\n",
    "    with torch.no_grad():\n",
    "        for inputs, label in test_loader:\n",
    "            inputs = inputs.to(device)\n",
    "            label = label.to(device)\n",
    "            outputs = model(inputs)\n",
    "            y_pred += outputs.cpu().numpy().flatten().tolist()\n",
    "            y_true += label.cpu().numpy().flatten().tolist()\n",
    "    y_pred = np.array(y_pred).reshape(-1, 1)\n",
    "    y_true = np.array(y_true).reshape(-1, 1)\n",
    "    #     pdb.set_trace()\n",
    "    load_pred = scaler_y.inverse_transform(y_pred)\n",
    "    load_true = scaler_y.inverse_transform(y_true)\n",
    "    MAPE = np.mean(np.abs(load_true - load_pred) / load_true)\n",
    "    MAE = np.mean(np.abs(load_true - load_pred))\n",
    "    RMSE = np.sqrt(np.mean(np.square(load_true - load_pred)))\n",
    "    return MAPE, MAE, RMSE, load_pred, load_true"
   ]
  },
  {
   "cell_type": "markdown",
   "id": "22633379",
   "metadata": {},
   "source": [
    "## run model retraining"
   ]
  },
  {
   "cell_type": "code",
   "execution_count": 106,
   "id": "82f72a2a",
   "metadata": {
    "ExecuteTime": {
     "end_time": "2021-12-30T03:11:54.474851Z",
     "start_time": "2021-12-30T03:11:54.459509Z"
    }
   },
   "outputs": [],
   "source": [
    "def run_model_retraining(seq_len=seq_len,\n",
    "                         target_len=target_len,\n",
    "                         mse_thresh=mse_thresh):\n",
    "    train_data = data[:int(0.8 * len(data))]\n",
    "    #     train_data = data[:-800]\n",
    "    train_data, scaler, scaler_y = normalization(train_data)\n",
    "    train_x, train_y = series_to_supervise(train_data, seq_len, target_len)\n",
    "\n",
    "    valid_x = train_x[int(0.8 * len(train_x)):]\n",
    "    valid_y = train_y[int(0.8 * len(train_y)):]\n",
    "    train_x = train_x[:int(0.8 * len(train_x))]\n",
    "    train_y = train_y[:int(0.8 * len(train_y))]\n",
    "    input_size = train_x.shape[2]\n",
    "    output_size = target_len\n",
    "\n",
    "    #     hyper-parameters define\n",
    "    batch_size = 256\n",
    "    lr = 0.01\n",
    "    number_epoch = 100\n",
    "    drop_prob = 0\n",
    "    weight_decay = 0\n",
    "    mse_thresh = 0.01\n",
    "\n",
    "    model, train_loss_list, valid_loss_list = train_model(\n",
    "        train_x, train_y, valid_x, valid_y, input_size, output_size,\n",
    "        mse_thresh, batch_size, lr, number_epoch, drop_prob, weight_decay)\n",
    "\n",
    "    # plot training process\n",
    "    plt.plot(train_loss_list[10:], 'm', label='train_loss')\n",
    "    plt.plot(valid_loss_list[10:], 'g', label='valid_loss')\n",
    "    plt.grid('both')\n",
    "    plt.legend()\n",
    "\n",
    "    # test\n",
    "    test_data = data[int(0.8 * len(data)):]\n",
    "    #     test_data = data[-800:]\n",
    "    test_data = scaler.transform(test_data)\n",
    "    test_x, test_y = series_to_supervise(test_data, seq_len, target_len)\n",
    "    MAPE, MAE, RMSE, load_pred, load_true = test_model(model, test_x, test_y,\n",
    "                                                       scaler_y, batch_size)\n",
    "    return MAPE, MAE, RMSE, load_pred, load_true"
   ]
  },
  {
   "cell_type": "code",
   "execution_count": 107,
   "id": "c8857a1d",
   "metadata": {
    "ExecuteTime": {
     "end_time": "2021-12-30T03:12:54.601886Z",
     "start_time": "2021-12-30T03:11:56.289561Z"
    },
    "scrolled": true
   },
   "outputs": [
    {
     "name": "stdout",
     "output_type": "stream",
     "text": [
      "supervised data: shape of x: (25232, 72, 16), shape of y: (25232, 24)\n"
     ]
    },
    {
     "name": "stderr",
     "output_type": "stream",
     "text": [
      "Epoch: 1/100: 100%|██████████| 40/40 [00:00<00:00, 57.74it/s, train_loss=0.0331, valid_loss=0.0356]\n",
      "Epoch: 2/100: 100%|██████████| 40/40 [00:00<00:00, 72.83it/s, train_loss=0.0292, valid_loss=0.0345]\n",
      "Epoch: 3/100: 100%|██████████| 40/40 [00:00<00:00, 73.16it/s, train_loss=0.0286, valid_loss=0.035] \n",
      "Epoch: 4/100: 100%|██████████| 40/40 [00:00<00:00, 73.86it/s, train_loss=0.0289, valid_loss=0.0344]\n",
      "Epoch: 5/100: 100%|██████████| 40/40 [00:00<00:00, 74.13it/s, train_loss=0.0291, valid_loss=0.0347]\n",
      "Epoch: 6/100: 100%|██████████| 40/40 [00:00<00:00, 61.37it/s, train_loss=0.0279, valid_loss=0.035] \n",
      "Epoch: 7/100: 100%|██████████| 40/40 [00:00<00:00, 73.13it/s, train_loss=0.0284, valid_loss=0.0342]\n",
      "Epoch: 8/100: 100%|██████████| 40/40 [00:00<00:00, 71.65it/s, train_loss=0.0277, valid_loss=0.0348]\n",
      "Epoch: 9/100: 100%|██████████| 40/40 [00:00<00:00, 73.55it/s, train_loss=0.0263, valid_loss=0.0356]\n",
      "Epoch: 10/100: 100%|██████████| 40/40 [00:00<00:00, 61.17it/s, train_loss=0.0251, valid_loss=0.0353]\n",
      "Epoch: 11/100: 100%|██████████| 40/40 [00:00<00:00, 72.99it/s, train_loss=0.0258, valid_loss=0.0349]\n",
      "Epoch: 12/100: 100%|██████████| 40/40 [00:00<00:00, 73.79it/s, train_loss=0.0259, valid_loss=0.0349]\n",
      "Epoch: 13/100: 100%|██████████| 40/40 [00:00<00:00, 70.97it/s, train_loss=0.0233, valid_loss=0.0342]\n",
      "Epoch: 14/100: 100%|██████████| 40/40 [00:00<00:00, 61.34it/s, train_loss=0.0234, valid_loss=0.0341]\n",
      "Epoch: 15/100: 100%|██████████| 40/40 [00:00<00:00, 73.82it/s, train_loss=0.0257, valid_loss=0.0342]\n",
      "Epoch: 16/100: 100%|██████████| 40/40 [00:00<00:00, 70.94it/s, train_loss=0.0235, valid_loss=0.0344]\n",
      "Epoch: 17/100: 100%|██████████| 40/40 [00:00<00:00, 72.48it/s, train_loss=0.0203, valid_loss=0.0309]\n",
      "Epoch: 18/100: 100%|██████████| 40/40 [00:00<00:00, 59.93it/s, train_loss=0.0177, valid_loss=0.0318]\n",
      "Epoch: 19/100: 100%|██████████| 40/40 [00:00<00:00, 73.06it/s, train_loss=0.0119, valid_loss=0.0164]\n",
      "Epoch: 20/100: 100%|██████████| 40/40 [00:00<00:00, 73.81it/s, train_loss=0.0106, valid_loss=0.014] \n",
      "Epoch: 21/100: 100%|██████████| 40/40 [00:00<00:00, 72.58it/s, train_loss=0.00804, valid_loss=0.0115]\n",
      "Epoch: 22/100: 100%|██████████| 40/40 [00:00<00:00, 71.77it/s, train_loss=0.00834, valid_loss=0.0216]\n",
      "Epoch: 23/100: 100%|██████████| 40/40 [00:00<00:00, 60.06it/s, train_loss=0.00919, valid_loss=0.0095] \n",
      "Epoch: 24/100: 100%|██████████| 40/40 [00:00<00:00, 73.13it/s, train_loss=0.00719, valid_loss=0.00976]\n",
      "Epoch: 25/100: 100%|██████████| 40/40 [00:00<00:00, 72.00it/s, train_loss=0.00703, valid_loss=0.00968]\n",
      "Epoch: 26/100: 100%|██████████| 40/40 [00:00<00:00, 73.65it/s, train_loss=0.0061, valid_loss=0.00881] \n",
      "Epoch: 27/100: 100%|██████████| 40/40 [00:00<00:00, 62.02it/s, train_loss=0.00591, valid_loss=0.00975]\n",
      "Epoch: 28/100: 100%|██████████| 40/40 [00:00<00:00, 71.50it/s, train_loss=0.00581, valid_loss=0.00733]\n",
      "Epoch: 29/100: 100%|██████████| 40/40 [00:00<00:00, 73.27it/s, train_loss=0.00504, valid_loss=0.00703]\n",
      "Epoch: 30/100: 100%|██████████| 40/40 [00:00<00:00, 70.80it/s, train_loss=0.00539, valid_loss=0.00638]\n",
      "Epoch: 31/100: 100%|██████████| 40/40 [00:00<00:00, 62.07it/s, train_loss=0.00535, valid_loss=0.00656]\n",
      "Epoch: 32/100: 100%|██████████| 40/40 [00:00<00:00, 73.93it/s, train_loss=0.00523, valid_loss=0.00819]\n",
      "Epoch: 33/100: 100%|██████████| 40/40 [00:00<00:00, 73.74it/s, train_loss=0.00442, valid_loss=0.00675]\n",
      "Epoch: 34/100: 100%|██████████| 40/40 [00:00<00:00, 73.72it/s, train_loss=0.00483, valid_loss=0.00571]\n",
      "Epoch: 35/100: 100%|██████████| 40/40 [00:00<00:00, 60.19it/s, train_loss=0.0046, valid_loss=0.00591] \n",
      "Epoch: 36/100: 100%|██████████| 40/40 [00:00<00:00, 72.78it/s, train_loss=0.0051, valid_loss=0.00565] \n",
      "Epoch: 37/100: 100%|██████████| 40/40 [00:00<00:00, 73.29it/s, train_loss=0.00423, valid_loss=0.00586]\n",
      "Epoch: 38/100: 100%|██████████| 40/40 [00:00<00:00, 73.79it/s, train_loss=0.00435, valid_loss=0.00572]\n",
      "Epoch: 39/100: 100%|██████████| 40/40 [00:00<00:00, 60.97it/s, train_loss=0.00432, valid_loss=0.00552]\n",
      "Epoch: 40/100: 100%|██████████| 40/40 [00:00<00:00, 73.51it/s, train_loss=0.00396, valid_loss=0.00624]\n",
      "Epoch: 41/100: 100%|██████████| 40/40 [00:00<00:00, 73.91it/s, train_loss=0.00414, valid_loss=0.00528]\n",
      "Epoch: 42/100: 100%|██████████| 40/40 [00:00<00:00, 73.71it/s, train_loss=0.00448, valid_loss=0.00522]\n",
      "Epoch: 43/100: 100%|██████████| 40/40 [00:00<00:00, 62.06it/s, train_loss=0.00458, valid_loss=0.00582]\n",
      "Epoch: 44/100: 100%|██████████| 40/40 [00:00<00:00, 72.39it/s, train_loss=0.00397, valid_loss=0.00506]\n",
      "Epoch: 45/100: 100%|██████████| 40/40 [00:00<00:00, 73.90it/s, train_loss=0.00439, valid_loss=0.00511]\n",
      "Epoch: 46/100: 100%|██████████| 40/40 [00:00<00:00, 74.15it/s, train_loss=0.00435, valid_loss=0.00515]\n",
      "Epoch: 47/100: 100%|██████████| 40/40 [00:00<00:00, 61.45it/s, train_loss=0.00369, valid_loss=0.00549]\n",
      "Epoch: 48/100: 100%|██████████| 40/40 [00:00<00:00, 68.76it/s, train_loss=0.00376, valid_loss=0.00527]\n",
      "Epoch: 49/100: 100%|██████████| 40/40 [00:00<00:00, 73.72it/s, train_loss=0.00422, valid_loss=0.0054] \n",
      "Epoch: 50/100: 100%|██████████| 40/40 [00:00<00:00, 73.80it/s, train_loss=0.00393, valid_loss=0.0053] \n",
      "Epoch: 51/100: 100%|██████████| 40/40 [00:00<00:00, 61.80it/s, train_loss=0.00451, valid_loss=0.00488]\n",
      "Epoch: 52/100: 100%|██████████| 40/40 [00:00<00:00, 71.41it/s, train_loss=0.00399, valid_loss=0.00486]\n",
      "Epoch: 53/100: 100%|██████████| 40/40 [00:00<00:00, 73.63it/s, train_loss=0.00385, valid_loss=0.00484]\n",
      "Epoch: 54/100: 100%|██████████| 40/40 [00:00<00:00, 73.34it/s, train_loss=0.00423, valid_loss=0.00479]\n",
      "Epoch: 55/100: 100%|██████████| 40/40 [00:00<00:00, 74.57it/s, train_loss=0.00351, valid_loss=0.00503]\n",
      "Epoch: 56/100: 100%|██████████| 40/40 [00:00<00:00, 59.73it/s, train_loss=0.0039, valid_loss=0.00469] \n",
      "Epoch: 57/100: 100%|██████████| 40/40 [00:00<00:00, 71.84it/s, train_loss=0.0033, valid_loss=0.00473] \n",
      "Epoch: 58/100: 100%|██████████| 40/40 [00:00<00:00, 74.09it/s, train_loss=0.00351, valid_loss=0.00458]\n",
      "Epoch: 59/100: 100%|██████████| 40/40 [00:00<00:00, 71.39it/s, train_loss=0.00362, valid_loss=0.00472]\n",
      "Epoch: 60/100: 100%|██████████| 40/40 [00:00<00:00, 61.64it/s, train_loss=0.00337, valid_loss=0.00447]\n",
      "Epoch: 61/100: 100%|██████████| 40/40 [00:00<00:00, 74.14it/s, train_loss=0.00354, valid_loss=0.00508]\n",
      "Epoch: 62/100: 100%|██████████| 40/40 [00:00<00:00, 73.98it/s, train_loss=0.0035, valid_loss=0.00438] \n",
      "Epoch: 63/100: 100%|██████████| 40/40 [00:00<00:00, 72.51it/s, train_loss=0.00354, valid_loss=0.00574]\n",
      "Epoch: 64/100: 100%|██████████| 40/40 [00:00<00:00, 61.17it/s, train_loss=0.00343, valid_loss=0.00442]\n",
      "Epoch: 65/100: 100%|██████████| 40/40 [00:00<00:00, 74.32it/s, train_loss=0.00337, valid_loss=0.00481]\n",
      "Epoch: 66/100: 100%|██████████| 40/40 [00:00<00:00, 73.62it/s, train_loss=0.0034, valid_loss=0.00455] \n",
      "Epoch: 67/100: 100%|██████████| 40/40 [00:00<00:00, 73.65it/s, train_loss=0.00314, valid_loss=0.00432]\n",
      "Epoch: 68/100: 100%|██████████| 40/40 [00:00<00:00, 61.40it/s, train_loss=0.00334, valid_loss=0.00449]\n",
      "Epoch: 69/100: 100%|██████████| 40/40 [00:00<00:00, 73.39it/s, train_loss=0.00325, valid_loss=0.00427]\n",
      "Epoch: 70/100: 100%|██████████| 40/40 [00:00<00:00, 73.58it/s, train_loss=0.00308, valid_loss=0.00427]\n",
      "Epoch: 71/100: 100%|██████████| 40/40 [00:00<00:00, 73.71it/s, train_loss=0.00323, valid_loss=0.00432]\n",
      "Epoch: 72/100: 100%|██████████| 40/40 [00:00<00:00, 60.45it/s, train_loss=0.00335, valid_loss=0.00431]\n",
      "Epoch: 73/100: 100%|██████████| 40/40 [00:00<00:00, 73.89it/s, train_loss=0.00326, valid_loss=0.00419]\n",
      "Epoch: 74/100: 100%|██████████| 40/40 [00:00<00:00, 73.04it/s, train_loss=0.003, valid_loss=0.00423]  \n",
      "Epoch: 75/100: 100%|██████████| 40/40 [00:00<00:00, 73.99it/s, train_loss=0.00315, valid_loss=0.00417]\n",
      "Epoch: 76/100: 100%|██████████| 40/40 [00:00<00:00, 60.10it/s, train_loss=0.0035, valid_loss=0.00431] \n",
      "Epoch: 77/100: 100%|██████████| 40/40 [00:00<00:00, 73.83it/s, train_loss=0.00321, valid_loss=0.00414]\n",
      "Epoch: 78/100: 100%|██████████| 40/40 [00:00<00:00, 73.38it/s, train_loss=0.00326, valid_loss=0.00411]\n",
      "Epoch: 79/100: 100%|██████████| 40/40 [00:00<00:00, 72.67it/s, train_loss=0.00309, valid_loss=0.00425]\n",
      "Epoch: 80/100: 100%|██████████| 40/40 [00:00<00:00, 62.03it/s, train_loss=0.00329, valid_loss=0.0044] \n"
     ]
    },
    {
     "name": "stderr",
     "output_type": "stream",
     "text": [
      "Epoch: 81/100: 100%|██████████| 40/40 [00:00<00:00, 73.68it/s, train_loss=0.003, valid_loss=0.00426]  \n",
      "Epoch: 82/100: 100%|██████████| 40/40 [00:00<00:00, 71.51it/s, train_loss=0.00285, valid_loss=0.00405]\n",
      "Epoch: 83/100: 100%|██████████| 40/40 [00:00<00:00, 69.84it/s, train_loss=0.00257, valid_loss=0.00427]\n",
      "Epoch: 84/100: 100%|██████████| 40/40 [00:00<00:00, 60.06it/s, train_loss=0.00325, valid_loss=0.00409]\n",
      "Epoch: 85/100: 100%|██████████| 40/40 [00:00<00:00, 70.97it/s, train_loss=0.00263, valid_loss=0.00438]\n",
      "Epoch: 86/100: 100%|██████████| 40/40 [00:00<00:00, 73.23it/s, train_loss=0.00274, valid_loss=0.00396]\n",
      "Epoch: 87/100: 100%|██████████| 40/40 [00:00<00:00, 72.64it/s, train_loss=0.00272, valid_loss=0.00412]\n",
      "Epoch: 88/100: 100%|██████████| 40/40 [00:00<00:00, 61.33it/s, train_loss=0.00287, valid_loss=0.00404]\n",
      "Epoch: 89/100: 100%|██████████| 40/40 [00:00<00:00, 72.68it/s, train_loss=0.00302, valid_loss=0.00406]\n",
      "Epoch: 90/100: 100%|██████████| 40/40 [00:00<00:00, 73.16it/s, train_loss=0.00275, valid_loss=0.00395]\n",
      "Epoch: 91/100: 100%|██████████| 40/40 [00:00<00:00, 73.67it/s, train_loss=0.00298, valid_loss=0.004]  \n",
      "Epoch: 92/100: 100%|██████████| 40/40 [00:00<00:00, 61.06it/s, train_loss=0.00266, valid_loss=0.00418]\n",
      "Epoch: 93/100: 100%|██████████| 40/40 [00:00<00:00, 69.89it/s, train_loss=0.00266, valid_loss=0.00403]\n",
      "Epoch: 94/100: 100%|██████████| 40/40 [00:00<00:00, 74.06it/s, train_loss=0.00308, valid_loss=0.00394]\n",
      "Epoch: 95/100: 100%|██████████| 40/40 [00:00<00:00, 73.83it/s, train_loss=0.00256, valid_loss=0.00393]\n",
      "Epoch: 96/100: 100%|██████████| 40/40 [00:00<00:00, 61.58it/s, train_loss=0.00321, valid_loss=0.00409]\n",
      "Epoch: 97/100: 100%|██████████| 40/40 [00:00<00:00, 72.51it/s, train_loss=0.00252, valid_loss=0.00416]\n",
      "Epoch: 98/100: 100%|██████████| 40/40 [00:00<00:00, 73.79it/s, train_loss=0.00257, valid_loss=0.00395]\n",
      "Epoch: 99/100: 100%|██████████| 40/40 [00:00<00:00, 73.74it/s, train_loss=0.00278, valid_loss=0.00384]\n",
      "Epoch: 100/100: 100%|██████████| 40/40 [00:00<00:00, 73.56it/s, train_loss=0.00261, valid_loss=0.00383]\n"
     ]
    },
    {
     "name": "stdout",
     "output_type": "stream",
     "text": [
      "supervised data: shape of x: (6237, 72, 16), shape of y: (6237, 24)\n",
      "MAPE:0.058478919812317204, MAE:762.913598213558, RMSE:1035.4119634630215\n"
     ]
    },
    {
     "data": {
      "image/png": "[encoded data removed]",
      "text/plain": [
       "<Figure size 432x288 with 1 Axes>"
      ]
     },
     "metadata": {
      "needs_background": "light"
     },
     "output_type": "display_data"
    }
   ],
   "source": [
    "random_seed_set(42)\n",
    "MAPE, MAE, RMSE, load_pred, load_true = run_model_retraining()\n",
    "print('MAPE:{}, MAE:{}, RMSE:{}'.format(MAPE, MAE, RMSE))"
   ]
  },
  {
   "cell_type": "code",
   "execution_count": 102,
   "id": "d094d278",
   "metadata": {
    "ExecuteTime": {
     "end_time": "2021-12-30T03:05:49.940920Z",
     "start_time": "2021-12-30T03:05:49.935378Z"
    }
   },
   "outputs": [
    {
     "name": "stdout",
     "output_type": "stream",
     "text": [
      "MAPE:0.04671596747236541, MAE:609.7593788635545, RMSE:859.9062131687855\n"
     ]
    }
   ],
   "source": [
    "print('MAPE:{}, MAE:{}, RMSE:{}'.format(MAPE, MAE, RMSE))"
   ]
  },
  {
   "cell_type": "markdown",
   "id": "c5fa6de8",
   "metadata": {},
   "source": [
    "## figure plot"
   ]
  },
  {
   "cell_type": "code",
   "execution_count": 26,
   "id": "c0739162",
   "metadata": {
    "ExecuteTime": {
     "end_time": "2021-12-29T12:42:42.203451Z",
     "start_time": "2021-12-29T12:42:42.056841Z"
    }
   },
   "outputs": [
    {
     "data": {
      "text/plain": [
       "(0.0, 19444.053340139002)"
      ]
     },
     "execution_count": 26,
     "metadata": {},
     "output_type": "execute_result"
    },
    {
     "data": {
      "image/png": "[encoded data removed]",
      "text/plain": [
       "<Figure size 1440x720 with 1 Axes>"
      ]
     },
     "metadata": {
      "needs_background": "light"
     },
     "output_type": "display_data"
    }
   ],
   "source": [
    "plt.figure(figsize=(20, 10))\n",
    "load_pred = load_pred.reshape(-1, target_len)\n",
    "load_true = load_true.reshape(-1, target_len)\n",
    "plt.plot(load_pred[:240,0], 'r')\n",
    "plt.plot(load_true[:240,0], 'g')\n",
    "plt.ylim(0)"
   ]
  }
 ],
 "metadata": {
  "kernelspec": {
   "display_name": "Python 3",
   "language": "python",
   "name": "python3"
  },
  "language_info": {
   "codemirror_mode": {
    "name": "ipython",
    "version": 3
   },
   "file_extension": ".py",
   "mimetype": "text/x-python",
   "name": "python",
   "nbconvert_exporter": "python",
   "pygments_lexer": "ipython3",
   "version": "3.8.12"
  },
  "toc": {
   "base_numbering": 1,
   "nav_menu": {},
   "number_sections": true,
   "sideBar": true,
   "skip_h1_title": false,
   "title_cell": "Table of Contents",
   "title_sidebar": "Contents",
   "toc_cell": false,
   "toc_position": {
    "height": "calc(100% - 180px)",
    "left": "10px",
    "top": "150px",
    "width": "374.391px"
   },
   "toc_section_display": true,
   "toc_window_display": true
  },
  "varInspector": {
   "cols": {
    "lenName": 16,
    "lenType": 16,
    "lenVar": 40
   },
   "kernels_config": {
    "python": {
     "delete_cmd_postfix": "",
     "delete_cmd_prefix": "del ",
     "library": "var_list.py",
     "varRefreshCmd": "print(var_dic_list())"
    },
    "r": {
     "delete_cmd_postfix": ") ",
     "delete_cmd_prefix": "rm(",
     "library": "var_list.r",
     "varRefreshCmd": "cat(var_dic_list()) "
    }
   },
   "oldHeight": 320.844,
   "position": {
    "height": "342.844px",
    "left": "1482px",
    "right": "20px",
    "top": "127px",
    "width": "350px"
   },
   "types_to_exclude": [
    "module",
    "function",
    "builtin_function_or_method",
    "instance",
    "_Feature"
   ],
   "varInspector_section_display": "block",
   "window_display": false
  }
 },
 "nbformat": 4,
 "nbformat_minor": 5
}
