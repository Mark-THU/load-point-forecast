{
 "cells": [
  {
   "cell_type": "markdown",
   "id": "325580d3",
   "metadata": {},
   "source": [
    "# GRU for forecast"
   ]
  },
  {
   "cell_type": "markdown",
   "id": "ec6d14db",
   "metadata": {},
   "source": [
    "**modified versions**\n",
    "1. Adjusting for Autocorrelated Errors"
   ]
  },
  {
   "cell_type": "code",
   "execution_count": 1,
   "id": "86368e32",
   "metadata": {
    "ExecuteTime": {
     "end_time": "2022-01-04T13:19:50.005607Z",
     "start_time": "2022-01-04T13:19:49.039010Z"
    }
   },
   "outputs": [],
   "source": [
    "import pandas as pd\n",
    "import numpy as np\n",
    "import matplotlib.pyplot as plt\n",
    "import pdb\n",
    "import torch\n",
    "import torch.nn as nn\n",
    "import random\n",
    "\n",
    "from sklearn.preprocessing import MinMaxScaler\n",
    "from sklearn.model_selection import train_test_split, TimeSeriesSplit\n",
    "from torch.autograd import Variable\n",
    "from torch.utils.data import TensorDataset, DataLoader\n",
    "from tqdm import tqdm\n",
    "from xgboost import XGBRegressor\n",
    "\n",
    "if torch.cuda.is_available():  \n",
    "    dev = \"cuda:0\" \n",
    "else:  \n",
    "    dev = \"cpu\"\n",
    "device = torch.device(dev)"
   ]
  },
  {
   "cell_type": "code",
   "execution_count": 2,
   "id": "bda1d2bd",
   "metadata": {
    "ExecuteTime": {
     "end_time": "2022-01-04T13:19:50.010380Z",
     "start_time": "2022-01-04T13:19:50.007478Z"
    }
   },
   "outputs": [],
   "source": [
    "def random_seed_set(seed):\n",
    "    np.random.seed(seed)\n",
    "    torch.random.manual_seed(seed)\n",
    "    torch.cuda.random.manual_seed(seed)\n",
    "#     torch.backends.cudnn.benchmark = False\n",
    "#     torch.backends.cudnn.deterministic = True"
   ]
  },
  {
   "cell_type": "markdown",
   "id": "386bfe2e",
   "metadata": {},
   "source": [
    "## load data"
   ]
  },
  {
   "cell_type": "code",
   "execution_count": 3,
   "id": "6af4b136",
   "metadata": {
    "ExecuteTime": {
     "end_time": "2022-01-04T13:19:50.094509Z",
     "start_time": "2022-01-04T13:19:50.011660Z"
    }
   },
   "outputs": [],
   "source": [
    "url = '../data/beijing.csv'\n",
    "data = pd.read_csv(url, sep=',', index_col='time')\n",
    "data.index = pd.to_datetime(data.index)"
   ]
  },
  {
   "cell_type": "markdown",
   "id": "b4a0749c",
   "metadata": {},
   "source": [
    "## normalization"
   ]
  },
  {
   "cell_type": "code",
   "execution_count": 4,
   "id": "5abf6b7c",
   "metadata": {
    "ExecuteTime": {
     "end_time": "2022-01-04T13:19:50.099695Z",
     "start_time": "2022-01-04T13:19:50.096467Z"
    }
   },
   "outputs": [],
   "source": [
    "def normalization(data):\n",
    "    \"\"\"\n",
    "    data: original data with load\n",
    "    return: normalized data, scaler of load\n",
    "    \"\"\"\n",
    "    scaler = MinMaxScaler()\n",
    "    normalized_data = scaler.fit_transform(data)\n",
    "    scaler_y = MinMaxScaler()\n",
    "    scaler_y.fit_transform(data[[data.columns[-1]]])\n",
    "    return normalized_data, scaler, scaler_y"
   ]
  },
  {
   "cell_type": "markdown",
   "id": "b1fc7632",
   "metadata": {
    "ExecuteTime": {
     "end_time": "2021-12-22T07:45:44.192666Z",
     "start_time": "2021-12-22T07:45:44.188985Z"
    }
   },
   "source": [
    "## build supervised dataset"
   ]
  },
  {
   "cell_type": "code",
   "execution_count": 5,
   "id": "4eec02b1",
   "metadata": {
    "ExecuteTime": {
     "end_time": "2022-01-04T13:19:50.104696Z",
     "start_time": "2022-01-04T13:19:50.100866Z"
    }
   },
   "outputs": [],
   "source": [
    "def series_to_supervise(data, seq_len, target_len):\n",
    "    \"\"\"\n",
    "    convert series data to supervised data\n",
    "    :param data: original data\n",
    "    :param seq_len: length of input sequence\n",
    "    :param target_len: length of ouput sequence\n",
    "    :return: return two ndarrays-- input and output in format suitable to feed to RNN\n",
    "    \"\"\"\n",
    "    dim_0 = data.shape[0] - seq_len - target_len + 1\n",
    "    dim_1 = data.shape[1]\n",
    "    x = np.zeros((dim_0, seq_len, dim_1))\n",
    "    y = np.zeros((dim_0, target_len))\n",
    "    for i in range(dim_0):\n",
    "        x[i] = data[i:i + seq_len]\n",
    "        y[i] = data[i + seq_len:i + seq_len + target_len, -1]\n",
    "    print(\"supervised data: shape of x: {}, shape of y: {}\".format(x.shape, y.shape))\n",
    "    return x, y"
   ]
  },
  {
   "cell_type": "markdown",
   "id": "4b25699f",
   "metadata": {},
   "source": [
    "## 5-folds TimeSeriesSplit"
   ]
  },
  {
   "cell_type": "code",
   "execution_count": 6,
   "id": "1d901eb5",
   "metadata": {
    "ExecuteTime": {
     "end_time": "2022-01-04T13:19:50.109391Z",
     "start_time": "2022-01-04T13:19:50.106137Z"
    }
   },
   "outputs": [],
   "source": [
    "def time_series_split(X, Y, n_split=5):\n",
    "    \"\"\"\n",
    "    X: features, size * seq_len * feature_num\n",
    "    Y: labels, size * target_len\n",
    "    return: list of train_x, test_x, train_y, test_y\n",
    "    \"\"\"\n",
    "    tscv = TimeSeriesSplit(n_splits=n_split)\n",
    "    train_x_list = list()\n",
    "    valid_x_list = list()\n",
    "    train_y_list = list()\n",
    "    valid_y_list = list()\n",
    "    for train_index, valid_index in tscv.split(X):\n",
    "        train_x_list.append(X[train_index])\n",
    "        train_y_list.append(Y[train_index])\n",
    "        valid_x_list.append(X[valid_index])\n",
    "        valid_y_list.append(Y[valid_index])\n",
    "    return train_x_list, train_y_list, valid_x_list, valid_y_list"
   ]
  },
  {
   "cell_type": "markdown",
   "id": "7d2d0e6e",
   "metadata": {},
   "source": [
    "## GRU model"
   ]
  },
  {
   "cell_type": "markdown",
   "id": "755d803b",
   "metadata": {},
   "source": [
    "### define model"
   ]
  },
  {
   "cell_type": "code",
   "execution_count": 9,
   "id": "f0168f5a",
   "metadata": {
    "ExecuteTime": {
     "end_time": "2022-01-04T13:31:13.155630Z",
     "start_time": "2022-01-04T13:31:13.135813Z"
    }
   },
   "outputs": [],
   "source": [
    "class GRU(nn.Module):\n",
    "    def __init__(self, input_size, output_size, hidden_dim, n_layers,\n",
    "                 drop_prob):\n",
    "        super(GRU, self).__init__()\n",
    "        # model parameters\n",
    "        self.hidden_dim = hidden_dim\n",
    "        self.n_layers = n_layers\n",
    "        self.output_size = output_size\n",
    "        # layes\n",
    "        self.gru = nn.GRU(input_size=input_size,\n",
    "                           hidden_size=hidden_dim,\n",
    "                           num_layers=n_layers,\n",
    "                           dropout=drop_prob,\n",
    "                           bidirectional=False)\n",
    "        self.fc = nn.Sequential()\n",
    "        self.rho = nn.Parameter(torch.ones(1), requires_grad=True)\n",
    "\n",
    "        input_size = hidden_dim\n",
    "        i = 0\n",
    "        while (input_size > 8):\n",
    "            self.fc.add_module('linear{}'.format(i),\n",
    "                               nn.Linear(input_size, round(input_size / 2)))\n",
    "            self.fc.add_module('relu{}'.format(i), nn.ReLU())\n",
    "            input_size = round(input_size / 2)\n",
    "            i += 1\n",
    "        self.fc.add_module('linear{}'.format(i), nn.Linear(input_size, 1))\n",
    "\n",
    "    # predict using outputs of the last 24 steps\n",
    "    def forward(self, x):\n",
    "        \n",
    "        rho = torch.tanh(self.rho)\n",
    "        y_ = x[:, -self.output_size:, -1]\n",
    "        # y shape (batch_size, output_size)\n",
    "        # x shape (batch_size, num_steps, input_size)\n",
    "        \n",
    "        features = x[:, :, :-1]\n",
    "        values = x[:, :, -1]\n",
    "        # features shape (batch_szie, num_steps, input_size -1)\n",
    "        # values shape (batch_size, num_steps)\n",
    "        \n",
    "        values_mean = torch.mean(values, dim=1)\n",
    "        # values_mean shape (batch_size)\n",
    "        \n",
    "        values = torch.cat((values_mean.unsqueeze(1), values), dim=1)\n",
    "        # values shape (batch_size, num_steps + 1)\n",
    "        \n",
    "        values = values[:, 1:] - rho * values[:, :-1]\n",
    "        # values shape (batch_size, num_steps)\n",
    "        \n",
    "        inp = torch.cat((features, values.unsqueeze(2)), dim=2)\n",
    "        # inp shape (batch_size, num_steps, input_size)\n",
    "        \n",
    "        inp = torch.transpose(inp, 0, 1)\n",
    "        # inp shape (num_steps, batch_size, input_size)\n",
    "        \n",
    "        gru_out, _ = self.gru(inp)\n",
    "        # gru_out shape (num_steps, batch_size, hidden_dim)\n",
    "        \n",
    "        gru_out = gru_out[-self.output_size:,:,:]\n",
    "        gru_out = self.fc(gru_out.permute(1, 0, 2))\n",
    "        # gru_out shape (batch_size, output_size, 1)\n",
    "        out = gru_out.squeeze() + rho * y_\n",
    "\n",
    "        return out"
   ]
  },
  {
   "cell_type": "markdown",
   "id": "20000b6b",
   "metadata": {},
   "source": [
    "### test model"
   ]
  },
  {
   "cell_type": "code",
   "execution_count": 12,
   "id": "31a7391c",
   "metadata": {
    "ExecuteTime": {
     "end_time": "2022-01-04T13:32:00.093780Z",
     "start_time": "2022-01-04T13:32:00.063297Z"
    }
   },
   "outputs": [
    {
     "name": "stdout",
     "output_type": "stream",
     "text": [
      "output shape: torch.Size([10, 24])\n",
      "rho torch.Size([1])\n",
      "gru.weight_ih_l0 torch.Size([96, 16])\n",
      "gru.weight_hh_l0 torch.Size([96, 32])\n",
      "gru.bias_ih_l0 torch.Size([96])\n",
      "gru.bias_hh_l0 torch.Size([96])\n",
      "gru.weight_ih_l1 torch.Size([96, 32])\n",
      "gru.weight_hh_l1 torch.Size([96, 32])\n",
      "gru.bias_ih_l1 torch.Size([96])\n",
      "gru.bias_hh_l1 torch.Size([96])\n",
      "fc.linear0.weight torch.Size([16, 32])\n",
      "fc.linear0.bias torch.Size([16])\n",
      "fc.linear1.weight torch.Size([8, 16])\n",
      "fc.linear1.bias torch.Size([8])\n",
      "fc.linear2.weight torch.Size([1, 8])\n",
      "fc.linear2.bias torch.Size([1])\n"
     ]
    }
   ],
   "source": [
    "model = GRU(16, 24, 32, 2, 0.1)\n",
    "X = torch.randn(10, 72, 16)\n",
    "output = model(X)\n",
    "print(\"output shape: {}\".format(output.shape))\n",
    "for name, param in model.named_parameters():\n",
    "    print(name, param.shape)"
   ]
  },
  {
   "cell_type": "markdown",
   "id": "f3976b67",
   "metadata": {
    "ExecuteTime": {
     "end_time": "2021-12-22T08:30:19.661769Z",
     "start_time": "2021-12-22T08:30:19.656770Z"
    }
   },
   "source": [
    "## model training for HPO"
   ]
  },
  {
   "cell_type": "code",
   "execution_count": 14,
   "id": "74e47fef",
   "metadata": {
    "ExecuteTime": {
     "end_time": "2022-01-04T13:32:43.488226Z",
     "start_time": "2022-01-04T13:32:43.460794Z"
    }
   },
   "outputs": [],
   "source": [
    "def train_model_hpo(train_x_list, train_y_list, valid_x_list, valid_y_list,\n",
    "                    input_size, output_size, mse_thresh, batch_size, lr,\n",
    "                    number_epoch, hidden_dim, n_layers, drop_prob, weight_decay):\n",
    "    valid_loss_list = []\n",
    "    for num in range(len(train_x_list)):\n",
    "        while (1):\n",
    "            model = GRU(input_size, output_size, hidden_dim, n_layers,\n",
    "                           drop_prob)\n",
    "            model.to(device=device)\n",
    "            criterion = nn.MSELoss()\n",
    "            params_base = [\n",
    "                param for name, param in model.named_parameters()\n",
    "                if name != 'rho'\n",
    "            ]\n",
    "            optimizer = torch.optim.Adam([{\n",
    "                'params': params_base\n",
    "            }, {\n",
    "                'params': model.rho,\n",
    "                'lr': 10 * lr\n",
    "            }],\n",
    "                                         lr=lr,\n",
    "                                         weight_decay=weight_decay)\n",
    "            scheduler = torch.optim.lr_scheduler.StepLR(optimizer, 1, gamma=0.98)\n",
    "            valid_loss_min = np.Inf\n",
    "            print('cross-validation dataset {}'.format(num))\n",
    "            train_x = train_x_list[num]\n",
    "            train_y = train_y_list[num]\n",
    "            valid_x = valid_x_list[num]\n",
    "            valid_y = valid_y_list[num]\n",
    "            train_dataset = TensorDataset(torch.FloatTensor(train_x),\n",
    "                                          torch.FloatTensor(train_y))\n",
    "            valid_dataset = TensorDataset(torch.FloatTensor(valid_x),\n",
    "                                          torch.FloatTensor(valid_y))\n",
    "            train_loader = DataLoader(dataset=train_dataset,\n",
    "                                      batch_size=batch_size,\n",
    "                                      shuffle=True,\n",
    "                                      drop_last=False)\n",
    "            valid_loader = DataLoader(dataset=valid_dataset,\n",
    "                                      batch_size=batch_size,\n",
    "                                      shuffle=True,\n",
    "                                      drop_last=False)\n",
    "            num_without_imp = 0\n",
    "            # training process\n",
    "            for epoch in range(1, number_epoch + 1):\n",
    "                loop = tqdm(enumerate(train_loader),\n",
    "                            total=len(train_loader),\n",
    "                            leave=True, ncols=100)\n",
    "                for i, (inputs, labels) in loop:\n",
    "                    inputs = inputs.to(device=device)\n",
    "                    labels = labels.to(device=device)\n",
    "                    optimizer.zero_grad()\n",
    "                    outputs = model(inputs)\n",
    "                    loss = criterion(outputs, labels)\n",
    "                    loss.backward()\n",
    "                    optimizer.step()\n",
    "                    if i % 5 == 0:\n",
    "                        num_without_imp = num_without_imp + 1\n",
    "                        valid_losses = list()\n",
    "                        model.eval()\n",
    "                        for inp, lab in valid_loader:\n",
    "                            inp = inp.to(device)\n",
    "                            lab = lab.to(device)\n",
    "                            out = model(inp)\n",
    "                            valid_loss = criterion(out, lab)\n",
    "                            valid_losses.append(valid_loss.item())\n",
    "\n",
    "                        model.train()\n",
    "                        loop.set_description(\"Epoch: {}/{}\".format(\n",
    "                            epoch, number_epoch))\n",
    "                        loop.set_postfix(train_loss=loss.item(),\n",
    "                                         valid_loss=np.mean(valid_losses))\n",
    "                        if np.mean(valid_losses) < valid_loss_min:\n",
    "                            num_without_imp = 0\n",
    "                            valid_loss_min = np.mean(valid_losses)\n",
    "                scheduler.step()\n",
    "                if num_without_imp >= 50:\n",
    "#                     break\n",
    "                    pass\n",
    "            if valid_loss_min < mse_thresh:\n",
    "                valid_loss_list.append(valid_loss_min)\n",
    "                break\n",
    "    return np.mean(valid_loss_list)"
   ]
  },
  {
   "cell_type": "markdown",
   "id": "3e460c24",
   "metadata": {},
   "source": [
    "## hyper-parameters config"
   ]
  },
  {
   "cell_type": "code",
   "execution_count": 18,
   "id": "27b5baff",
   "metadata": {
    "ExecuteTime": {
     "end_time": "2022-01-04T13:33:29.614708Z",
     "start_time": "2022-01-04T13:33:29.603329Z"
    }
   },
   "outputs": [],
   "source": [
    "seq_len = 72\n",
    "target_len = 24\n",
    "mse_thresh = 0.05\n",
    "\n",
    "\n",
    "def model_config():\n",
    "    batch_sizes = [256]\n",
    "    lrs = [0.01]\n",
    "    number_epochs = [30]\n",
    "    hidden_dims = [64, 128, 256]\n",
    "    n_layers = [2, 3]\n",
    "    drop_prob = [0]\n",
    "    weight_decays = [0]\n",
    "    configs = list()\n",
    "    for i in batch_sizes:\n",
    "        for j in lrs:\n",
    "            for k in number_epochs:\n",
    "                for l in hidden_dims:\n",
    "                    for m in n_layers:\n",
    "                        for n in drop_prob:\n",
    "                            for o in weight_decays:\n",
    "                                configs.append({\n",
    "                                    'batch_size': i,\n",
    "                                    'lr': j,\n",
    "                                    'number_epoch': k,\n",
    "                                    'hidden_dim': l,\n",
    "                                    'n_layers': m,\n",
    "                                    'drop_prob': n,\n",
    "                                    'weight_decay': o,\n",
    "                                })\n",
    "    return configs"
   ]
  },
  {
   "cell_type": "markdown",
   "id": "a4078433",
   "metadata": {},
   "source": [
    "## random search for HPO"
   ]
  },
  {
   "cell_type": "code",
   "execution_count": 10,
   "id": "316530cf",
   "metadata": {
    "ExecuteTime": {
     "end_time": "2021-12-31T07:46:31.988952Z",
     "start_time": "2021-12-31T07:46:31.972524Z"
    }
   },
   "outputs": [],
   "source": [
    "def run_model_hpo(seq_len=seq_len,\n",
    "                  target_len=target_len,\n",
    "                  mse_thresh=mse_thresh):\n",
    "    train_data = data[:int(0.8 * len(data))]\n",
    "    train_data, _, _ = normalization(train_data)\n",
    "    train_x, train_y = series_to_supervise(train_data, seq_len, target_len)\n",
    "    train_x_list, train_y_list, valid_x_list, valid_y_list = time_series_split(\n",
    "        train_x, train_y)\n",
    "    #     with enough data\n",
    "    train_x_list = train_x_list[-1:]\n",
    "    train_y_list = train_y_list[-1:]\n",
    "    valid_x_list = valid_x_list[-1:]\n",
    "    valid_y_list = valid_y_list[-1:]\n",
    "\n",
    "    configs = model_config()\n",
    "    records = []\n",
    "    input_size = train_x.shape[2]\n",
    "    output_size = target_len\n",
    "    for i in range(6):\n",
    "        config = random.choice(configs)\n",
    "        configs.remove(config)\n",
    "        batch_size = config['batch_size']\n",
    "        lr = config['lr']\n",
    "        number_epoch = config['number_epoch']\n",
    "        hidden_dim = config['hidden_dim']\n",
    "        n_layers = config['n_layers']\n",
    "        drop_prob = config['drop_prob']\n",
    "        weight_decay = config['weight_decay']\n",
    "        print(\n",
    "            \"model config: batch_size-{}, lr-{}, number_epoch-{}, hidden_dim-{}, n_layers-{},drop_prob-{},weight_decay-{}\"\n",
    "            .format(batch_size, lr, number_epoch, hidden_dim, n_layers,\n",
    "                    drop_prob, weight_decay))\n",
    "        valid_loss = train_model_hpo(train_x_list, train_y_list, valid_x_list,\n",
    "                                     valid_y_list, input_size, output_size,\n",
    "                                     mse_thresh, batch_size, lr, number_epoch,\n",
    "                                     hidden_dim, n_layers, drop_prob, weight_decay)\n",
    "        records.append({\n",
    "            'batch_size': batch_size,\n",
    "            'lr': lr,\n",
    "            'number_epoch': number_epoch,\n",
    "            'hidden_dim': hidden_dim,\n",
    "            'n_layers': n_layers,\n",
    "            'drop_prob': drop_prob,\n",
    "            'weight_decay': weight_decay,\n",
    "            'valid_loss': valid_loss\n",
    "        })\n",
    "    return records"
   ]
  },
  {
   "cell_type": "markdown",
   "id": "f98232b5",
   "metadata": {},
   "source": [
    "## run random search"
   ]
  },
  {
   "cell_type": "code",
   "execution_count": 15,
   "id": "fe9f85ea",
   "metadata": {
    "ExecuteTime": {
     "end_time": "2021-12-29T12:30:40.887308Z",
     "start_time": "2021-12-29T12:21:41.768493Z"
    }
   },
   "outputs": [
    {
     "name": "stdout",
     "output_type": "stream",
     "text": [
      "supervised data: shape of x: (25232, 72, 16), shape of y: (25232, 24)\n",
      "model config: batch_size-256, lr-0.01, number_epoch-30, hidden_dim-64, n_layers-2,drop_prob-0,weight_decay-0\n",
      "cross-validation dataset 0\n"
     ]
    },
    {
     "name": "stderr",
     "output_type": "stream",
     "text": [
      "Epoch: 1/30: 100%|██████████| 83/83 [00:03<00:00, 22.58it/s, train_loss=0.00635, valid_loss=0.00776]\n",
      "Epoch: 2/30: 100%|██████████| 83/83 [00:02<00:00, 32.64it/s, train_loss=0.00163, valid_loss=0.00317]\n",
      "Epoch: 3/30: 100%|██████████| 83/83 [00:02<00:00, 35.80it/s, train_loss=0.00163, valid_loss=0.0035] \n",
      "Epoch: 4/30: 100%|██████████| 83/83 [00:01<00:00, 51.87it/s, train_loss=0.00212, valid_loss=0.00273]\n",
      "Epoch: 5/30: 100%|██████████| 83/83 [00:01<00:00, 52.00it/s, train_loss=0.00154, valid_loss=0.00284]\n",
      "Epoch: 6/30: 100%|██████████| 83/83 [00:01<00:00, 49.68it/s, train_loss=0.00153, valid_loss=0.00272]\n",
      "Epoch: 7/30: 100%|██████████| 83/83 [00:01<00:00, 51.54it/s, train_loss=0.00148, valid_loss=0.00264]\n",
      "Epoch: 8/30: 100%|██████████| 83/83 [00:01<00:00, 49.53it/s, train_loss=0.00123, valid_loss=0.0027] \n",
      "Epoch: 9/30: 100%|██████████| 83/83 [00:01<00:00, 51.76it/s, train_loss=0.00122, valid_loss=0.00254] \n",
      "Epoch: 10/30: 100%|██████████| 83/83 [00:01<00:00, 51.80it/s, train_loss=0.00154, valid_loss=0.00283]\n",
      "Epoch: 11/30: 100%|██████████| 83/83 [00:01<00:00, 49.76it/s, train_loss=0.00185, valid_loss=0.00256]\n",
      "Epoch: 12/30: 100%|██████████| 83/83 [00:01<00:00, 51.89it/s, train_loss=0.00106, valid_loss=0.00256]\n",
      "Epoch: 13/30: 100%|██████████| 83/83 [00:01<00:00, 51.87it/s, train_loss=0.00114, valid_loss=0.00283] \n",
      "Epoch: 14/30: 100%|██████████| 83/83 [00:01<00:00, 49.35it/s, train_loss=0.000897, valid_loss=0.00262]\n",
      "Epoch: 15/30: 100%|██████████| 83/83 [00:01<00:00, 51.98it/s, train_loss=0.00136, valid_loss=0.00262]\n",
      "Epoch: 16/30: 100%|██████████| 83/83 [00:01<00:00, 49.86it/s, train_loss=0.00132, valid_loss=0.0027] \n",
      "Epoch: 17/30: 100%|██████████| 83/83 [00:01<00:00, 51.84it/s, train_loss=0.000985, valid_loss=0.00262]\n",
      "Epoch: 18/30: 100%|██████████| 83/83 [00:01<00:00, 52.07it/s, train_loss=0.00131, valid_loss=0.00269] \n",
      "Epoch: 19/30: 100%|██████████| 83/83 [00:01<00:00, 49.93it/s, train_loss=0.000943, valid_loss=0.00275]\n",
      "Epoch: 20/30: 100%|██████████| 83/83 [00:01<00:00, 51.97it/s, train_loss=0.000884, valid_loss=0.00292]\n",
      "Epoch: 21/30: 100%|██████████| 83/83 [00:01<00:00, 49.97it/s, train_loss=0.000757, valid_loss=0.0031] \n",
      "Epoch: 22/30: 100%|██████████| 83/83 [00:01<00:00, 51.88it/s, train_loss=0.000791, valid_loss=0.00335]\n",
      "Epoch: 23/30: 100%|██████████| 83/83 [00:01<00:00, 52.10it/s, train_loss=0.000537, valid_loss=0.00341]\n",
      "Epoch: 24/30: 100%|██████████| 83/83 [00:01<00:00, 49.81it/s, train_loss=0.000535, valid_loss=0.00355]\n",
      "Epoch: 25/30: 100%|██████████| 83/83 [00:01<00:00, 52.00it/s, train_loss=0.000475, valid_loss=0.00326]\n",
      "Epoch: 26/30: 100%|██████████| 83/83 [00:01<00:00, 51.85it/s, train_loss=0.000379, valid_loss=0.00356]\n",
      "Epoch: 27/30: 100%|██████████| 83/83 [00:01<00:00, 49.60it/s, train_loss=0.000376, valid_loss=0.00344]\n",
      "Epoch: 28/30: 100%|██████████| 83/83 [00:01<00:00, 51.68it/s, train_loss=0.000337, valid_loss=0.00354]\n",
      "Epoch: 29/30: 100%|██████████| 83/83 [00:01<00:00, 49.60it/s, train_loss=0.000328, valid_loss=0.00348]\n",
      "Epoch: 30/30: 100%|██████████| 83/83 [00:01<00:00, 51.96it/s, train_loss=0.000328, valid_loss=0.00378]\n"
     ]
    },
    {
     "name": "stdout",
     "output_type": "stream",
     "text": [
      "model config: batch_size-256, lr-0.01, number_epoch-30, hidden_dim-128, n_layers-2,drop_prob-0,weight_decay-0\n",
      "cross-validation dataset 0\n"
     ]
    },
    {
     "name": "stderr",
     "output_type": "stream",
     "text": [
      "Epoch: 1/30: 100%|██████████| 83/83 [00:02<00:00, 33.46it/s, train_loss=0.00394, valid_loss=0.00464]\n",
      "Epoch: 2/30: 100%|██████████| 83/83 [00:02<00:00, 32.62it/s, train_loss=0.00166, valid_loss=0.00333]\n",
      "Epoch: 3/30: 100%|██████████| 83/83 [00:02<00:00, 33.56it/s, train_loss=0.00164, valid_loss=0.00351]\n",
      "Epoch: 4/30: 100%|██████████| 83/83 [00:02<00:00, 32.53it/s, train_loss=0.00138, valid_loss=0.0029] \n",
      "Epoch: 5/30: 100%|██████████| 83/83 [00:02<00:00, 33.60it/s, train_loss=0.00188, valid_loss=0.00254]\n",
      "Epoch: 6/30: 100%|██████████| 83/83 [00:02<00:00, 32.50it/s, train_loss=0.00131, valid_loss=0.00271]\n",
      "Epoch: 7/30: 100%|██████████| 83/83 [00:02<00:00, 31.32it/s, train_loss=0.00145, valid_loss=0.00257]\n",
      "Epoch: 8/30: 100%|██████████| 83/83 [00:02<00:00, 32.26it/s, train_loss=0.00113, valid_loss=0.00262] \n",
      "Epoch: 9/30: 100%|██████████| 83/83 [00:02<00:00, 31.51it/s, train_loss=0.000925, valid_loss=0.00309]\n",
      "Epoch: 10/30: 100%|██████████| 83/83 [00:02<00:00, 32.34it/s, train_loss=0.000905, valid_loss=0.00311]\n",
      "Epoch: 11/30: 100%|██████████| 83/83 [00:02<00:00, 32.11it/s, train_loss=0.000969, valid_loss=0.00286]\n",
      "Epoch: 12/30: 100%|██████████| 83/83 [00:02<00:00, 31.79it/s, train_loss=0.0006, valid_loss=0.00289]  \n",
      "Epoch: 13/30: 100%|██████████| 83/83 [00:02<00:00, 32.28it/s, train_loss=0.000593, valid_loss=0.00293]\n",
      "Epoch: 14/30: 100%|██████████| 83/83 [00:02<00:00, 32.23it/s, train_loss=0.000459, valid_loss=0.00315]\n",
      "Epoch: 15/30: 100%|██████████| 83/83 [00:02<00:00, 31.52it/s, train_loss=0.000269, valid_loss=0.00325]\n",
      "Epoch: 16/30: 100%|██████████| 83/83 [00:02<00:00, 32.00it/s, train_loss=0.000267, valid_loss=0.00327]\n",
      "Epoch: 17/30: 100%|██████████| 83/83 [00:02<00:00, 31.30it/s, train_loss=0.00034, valid_loss=0.00312] \n",
      "Epoch: 18/30: 100%|██████████| 83/83 [00:02<00:00, 32.12it/s, train_loss=0.000172, valid_loss=0.00328]\n",
      "Epoch: 19/30: 100%|██████████| 83/83 [00:02<00:00, 32.29it/s, train_loss=0.000143, valid_loss=0.00345]\n",
      "Epoch: 20/30: 100%|██████████| 83/83 [00:02<00:00, 31.38it/s, train_loss=0.000133, valid_loss=0.0035] \n",
      "Epoch: 21/30: 100%|██████████| 83/83 [00:02<00:00, 32.37it/s, train_loss=0.000109, valid_loss=0.00361]\n",
      "Epoch: 22/30: 100%|██████████| 83/83 [00:02<00:00, 31.58it/s, train_loss=8.26e-5, valid_loss=0.00358] \n",
      "Epoch: 23/30: 100%|██████████| 83/83 [00:02<00:00, 32.61it/s, train_loss=7.45e-5, valid_loss=0.00356] \n",
      "Epoch: 24/30: 100%|██████████| 83/83 [00:02<00:00, 32.28it/s, train_loss=6.86e-5, valid_loss=0.00348]\n",
      "Epoch: 25/30: 100%|██████████| 83/83 [00:02<00:00, 31.67it/s, train_loss=5.7e-5, valid_loss=0.00359] \n",
      "Epoch: 26/30: 100%|██████████| 83/83 [00:02<00:00, 32.69it/s, train_loss=5.43e-5, valid_loss=0.0036] \n",
      "Epoch: 27/30: 100%|██████████| 83/83 [00:02<00:00, 31.60it/s, train_loss=5.11e-5, valid_loss=0.00366]\n",
      "Epoch: 28/30: 100%|██████████| 83/83 [00:02<00:00, 32.44it/s, train_loss=4.8e-5, valid_loss=0.00358] \n",
      "Epoch: 29/30: 100%|██████████| 83/83 [00:02<00:00, 32.06it/s, train_loss=4.63e-5, valid_loss=0.00362]\n",
      "Epoch: 30/30: 100%|██████████| 83/83 [00:02<00:00, 31.52it/s, train_loss=5.55e-5, valid_loss=0.00364]\n"
     ]
    },
    {
     "name": "stdout",
     "output_type": "stream",
     "text": [
      "model config: batch_size-256, lr-0.01, number_epoch-30, hidden_dim-256, n_layers-3,drop_prob-0,weight_decay-0\n",
      "cross-validation dataset 0\n"
     ]
    },
    {
     "name": "stderr",
     "output_type": "stream",
     "text": [
      "Epoch: 1/30: 100%|██████████| 83/83 [00:03<00:00, 23.22it/s, train_loss=0.0328, valid_loss=0.035] \n",
      "Epoch: 2/30: 100%|██████████| 83/83 [00:03<00:00, 23.19it/s, train_loss=0.0309, valid_loss=0.0353]\n",
      "Epoch: 3/30: 100%|██████████| 83/83 [00:03<00:00, 22.87it/s, train_loss=0.0298, valid_loss=0.0357]\n",
      "Epoch: 4/30: 100%|██████████| 83/83 [00:03<00:00, 23.17it/s, train_loss=0.0319, valid_loss=0.0351]\n",
      "Epoch: 5/30: 100%|██████████| 83/83 [00:03<00:00, 22.73it/s, train_loss=0.032, valid_loss=0.0355] \n",
      "Epoch: 6/30: 100%|██████████| 83/83 [00:03<00:00, 23.72it/s, train_loss=0.0299, valid_loss=0.0357]\n",
      "Epoch: 7/30: 100%|██████████| 83/83 [00:03<00:00, 23.36it/s, train_loss=0.0304, valid_loss=0.0351]\n",
      "Epoch: 8/30: 100%|██████████| 83/83 [00:03<00:00, 22.48it/s, train_loss=0.0309, valid_loss=0.036] \n",
      "Epoch: 9/30: 100%|██████████| 83/83 [00:03<00:00, 23.33it/s, train_loss=0.0287, valid_loss=0.0351]\n",
      "Epoch: 10/30: 100%|██████████| 83/83 [00:03<00:00, 21.00it/s, train_loss=0.0325, valid_loss=0.0351]\n",
      "Epoch: 11/30: 100%|██████████| 83/83 [00:04<00:00, 19.23it/s, train_loss=0.0314, valid_loss=0.0351]\n",
      "Epoch: 12/30: 100%|██████████| 83/83 [00:04<00:00, 19.18it/s, train_loss=0.0329, valid_loss=0.0353]\n",
      "Epoch: 13/30: 100%|██████████| 83/83 [00:04<00:00, 19.14it/s, train_loss=0.0297, valid_loss=0.0349]\n",
      "Epoch: 14/30: 100%|██████████| 83/83 [00:04<00:00, 19.37it/s, train_loss=0.0329, valid_loss=0.0349]\n",
      "Epoch: 15/30: 100%|██████████| 83/83 [00:04<00:00, 19.28it/s, train_loss=0.0306, valid_loss=0.0357]\n",
      "Epoch: 16/30: 100%|██████████| 83/83 [00:04<00:00, 18.93it/s, train_loss=0.0292, valid_loss=0.0349]\n",
      "Epoch: 17/30: 100%|██████████| 83/83 [00:04<00:00, 19.38it/s, train_loss=0.0316, valid_loss=0.0348]\n",
      "Epoch: 18/30: 100%|██████████| 83/83 [00:04<00:00, 19.13it/s, train_loss=0.0302, valid_loss=0.0349]\n",
      "Epoch: 19/30: 100%|██████████| 83/83 [00:04<00:00, 19.52it/s, train_loss=0.033, valid_loss=0.035]  \n",
      "Epoch: 20/30: 100%|██████████| 83/83 [00:04<00:00, 19.39it/s, train_loss=0.0295, valid_loss=0.0352]\n",
      "Epoch: 21/30: 100%|██████████| 83/83 [00:04<00:00, 19.04it/s, train_loss=0.0303, valid_loss=0.0348]\n",
      "Epoch: 22/30: 100%|██████████| 83/83 [00:04<00:00, 19.10it/s, train_loss=0.0304, valid_loss=0.0355]\n",
      "Epoch: 23/30: 100%|██████████| 83/83 [00:04<00:00, 19.30it/s, train_loss=0.0299, valid_loss=0.0348]\n",
      "Epoch: 24/30: 100%|██████████| 83/83 [00:04<00:00, 19.60it/s, train_loss=0.0282, valid_loss=0.0357]\n",
      "Epoch: 25/30: 100%|██████████| 83/83 [00:04<00:00, 19.40it/s, train_loss=0.0305, valid_loss=0.035] \n",
      "Epoch: 26/30: 100%|██████████| 83/83 [00:04<00:00, 19.09it/s, train_loss=0.0311, valid_loss=0.0356]\n",
      "Epoch: 27/30: 100%|██████████| 83/83 [00:04<00:00, 19.45it/s, train_loss=0.0288, valid_loss=0.0353]\n",
      "Epoch: 28/30: 100%|██████████| 83/83 [00:04<00:00, 19.21it/s, train_loss=0.0307, valid_loss=0.0352]\n",
      "Epoch: 29/30: 100%|██████████| 83/83 [00:04<00:00, 19.12it/s, train_loss=0.03, valid_loss=0.0352]  \n",
      "Epoch: 30/30: 100%|██████████| 83/83 [00:04<00:00, 19.48it/s, train_loss=0.031, valid_loss=0.035]  \n"
     ]
    },
    {
     "name": "stdout",
     "output_type": "stream",
     "text": [
      "model config: batch_size-256, lr-0.01, number_epoch-30, hidden_dim-128, n_layers-3,drop_prob-0,weight_decay-0\n",
      "cross-validation dataset 0\n"
     ]
    },
    {
     "name": "stderr",
     "output_type": "stream",
     "text": [
      "Epoch: 1/30: 100%|██████████| 83/83 [00:03<00:00, 22.51it/s, train_loss=0.0331, valid_loss=0.0354]\n",
      "Epoch: 2/30: 100%|██████████| 83/83 [00:03<00:00, 23.11it/s, train_loss=0.0304, valid_loss=0.0353]\n",
      "Epoch: 3/30: 100%|██████████| 83/83 [00:03<00:00, 23.02it/s, train_loss=0.0309, valid_loss=0.0355]\n",
      "Epoch: 4/30: 100%|██████████| 83/83 [00:03<00:00, 22.68it/s, train_loss=0.0334, valid_loss=0.0355]\n",
      "Epoch: 5/30: 100%|██████████| 83/83 [00:03<00:00, 23.29it/s, train_loss=0.0315, valid_loss=0.0348]\n",
      "Epoch: 6/30: 100%|██████████| 83/83 [00:03<00:00, 22.46it/s, train_loss=0.031, valid_loss=0.0352] \n",
      "Epoch: 7/30: 100%|██████████| 83/83 [00:03<00:00, 22.76it/s, train_loss=0.0313, valid_loss=0.0359]\n",
      "Epoch: 8/30: 100%|██████████| 83/83 [00:03<00:00, 23.12it/s, train_loss=0.0309, valid_loss=0.0358]\n",
      "Epoch: 9/30: 100%|██████████| 83/83 [00:03<00:00, 22.64it/s, train_loss=0.03, valid_loss=0.0346]  \n",
      "Epoch: 10/30: 100%|██████████| 83/83 [00:03<00:00, 23.26it/s, train_loss=0.0317, valid_loss=0.0351]\n",
      "Epoch: 11/30: 100%|██████████| 83/83 [00:03<00:00, 22.79it/s, train_loss=0.0293, valid_loss=0.035] \n",
      "Epoch: 12/30: 100%|██████████| 83/83 [00:03<00:00, 23.24it/s, train_loss=0.0299, valid_loss=0.0351]\n",
      "Epoch: 13/30: 100%|██████████| 83/83 [00:03<00:00, 23.42it/s, train_loss=0.0297, valid_loss=0.0351]\n",
      "Epoch: 14/30: 100%|██████████| 83/83 [00:03<00:00, 22.60it/s, train_loss=0.0328, valid_loss=0.035] \n",
      "Epoch: 15/30: 100%|██████████| 83/83 [00:03<00:00, 23.16it/s, train_loss=0.0315, valid_loss=0.0356]\n",
      "Epoch: 16/30: 100%|██████████| 83/83 [00:03<00:00, 23.06it/s, train_loss=0.0329, valid_loss=0.0357]\n",
      "Epoch: 17/30: 100%|██████████| 83/83 [00:03<00:00, 22.91it/s, train_loss=0.0297, valid_loss=0.035] \n",
      "Epoch: 18/30: 100%|██████████| 83/83 [00:03<00:00, 22.93it/s, train_loss=0.0337, valid_loss=0.0354]\n",
      "Epoch: 19/30: 100%|██████████| 83/83 [00:03<00:00, 22.70it/s, train_loss=0.029, valid_loss=0.0351] \n",
      "Epoch: 20/30: 100%|██████████| 83/83 [00:03<00:00, 22.74it/s, train_loss=0.0297, valid_loss=0.0351]\n",
      "Epoch: 21/30: 100%|██████████| 83/83 [00:03<00:00, 23.26it/s, train_loss=0.0326, valid_loss=0.0347]\n",
      "Epoch: 22/30: 100%|██████████| 83/83 [00:03<00:00, 22.78it/s, train_loss=0.0298, valid_loss=0.0352]\n",
      "Epoch: 23/30: 100%|██████████| 83/83 [00:03<00:00, 23.57it/s, train_loss=0.0317, valid_loss=0.0353]\n",
      "Epoch: 24/30: 100%|██████████| 83/83 [00:03<00:00, 22.67it/s, train_loss=0.034, valid_loss=0.0351] \n",
      "Epoch: 25/30: 100%|██████████| 83/83 [00:03<00:00, 23.64it/s, train_loss=0.034, valid_loss=0.0354] \n",
      "Epoch: 26/30: 100%|██████████| 83/83 [00:03<00:00, 25.71it/s, train_loss=0.0327, valid_loss=0.0354]\n",
      "Epoch: 27/30: 100%|██████████| 83/83 [00:03<00:00, 25.56it/s, train_loss=0.0307, valid_loss=0.0348]\n",
      "Epoch: 28/30: 100%|██████████| 83/83 [00:03<00:00, 26.05it/s, train_loss=0.0299, valid_loss=0.0354]\n",
      "Epoch: 29/30: 100%|██████████| 83/83 [00:03<00:00, 26.02it/s, train_loss=0.0288, valid_loss=0.0355]\n",
      "Epoch: 30/30: 100%|██████████| 83/83 [00:03<00:00, 25.40it/s, train_loss=0.0307, valid_loss=0.0356]\n"
     ]
    },
    {
     "name": "stdout",
     "output_type": "stream",
     "text": [
      "model config: batch_size-256, lr-0.01, number_epoch-30, hidden_dim-64, n_layers-3,drop_prob-0,weight_decay-0\n",
      "cross-validation dataset 0\n"
     ]
    },
    {
     "name": "stderr",
     "output_type": "stream",
     "text": [
      "Epoch: 1/30: 100%|██████████| 83/83 [00:03<00:00, 25.70it/s, train_loss=0.0317, valid_loss=0.0348]\n",
      "Epoch: 2/30: 100%|██████████| 83/83 [00:03<00:00, 25.26it/s, train_loss=0.0323, valid_loss=0.0353]\n",
      "Epoch: 3/30: 100%|██████████| 83/83 [00:03<00:00, 25.53it/s, train_loss=0.0317, valid_loss=0.0353]\n",
      "Epoch: 4/30: 100%|██████████| 83/83 [00:03<00:00, 25.50it/s, train_loss=0.032, valid_loss=0.0352] \n",
      "Epoch: 5/30: 100%|██████████| 83/83 [00:03<00:00, 25.36it/s, train_loss=0.0317, valid_loss=0.0358]\n",
      "Epoch: 6/30: 100%|██████████| 83/83 [00:03<00:00, 25.70it/s, train_loss=0.00658, valid_loss=0.00795]\n",
      "Epoch: 7/30: 100%|██████████| 83/83 [00:03<00:00, 25.18it/s, train_loss=0.00283, valid_loss=0.00332]\n",
      "Epoch: 8/30: 100%|██████████| 83/83 [00:03<00:00, 25.67it/s, train_loss=0.00202, valid_loss=0.00333]\n",
      "Epoch: 9/30: 100%|██████████| 83/83 [00:03<00:00, 25.59it/s, train_loss=0.00182, valid_loss=0.00302]\n",
      "Epoch: 10/30: 100%|██████████| 83/83 [00:03<00:00, 24.72it/s, train_loss=0.0015, valid_loss=0.00266] \n",
      "Epoch: 11/30: 100%|██████████| 83/83 [00:03<00:00, 25.61it/s, train_loss=0.00189, valid_loss=0.00257]\n",
      "Epoch: 12/30: 100%|██████████| 83/83 [00:03<00:00, 26.20it/s, train_loss=0.00156, valid_loss=0.0027] \n",
      "Epoch: 13/30: 100%|██████████| 83/83 [00:03<00:00, 25.07it/s, train_loss=0.00134, valid_loss=0.00261]\n",
      "Epoch: 14/30: 100%|██████████| 83/83 [00:03<00:00, 25.74it/s, train_loss=0.00202, valid_loss=0.00255]\n",
      "Epoch: 15/30: 100%|██████████| 83/83 [00:03<00:00, 25.22it/s, train_loss=0.0014, valid_loss=0.00261] \n",
      "Epoch: 16/30: 100%|██████████| 83/83 [00:03<00:00, 25.59it/s, train_loss=0.00123, valid_loss=0.00253]\n",
      "Epoch: 17/30: 100%|██████████| 83/83 [00:03<00:00, 26.01it/s, train_loss=0.0013, valid_loss=0.0025]  \n",
      "Epoch: 18/30: 100%|██████████| 83/83 [00:03<00:00, 25.01it/s, train_loss=0.00177, valid_loss=0.00254]\n",
      "Epoch: 19/30: 100%|██████████| 83/83 [00:03<00:00, 25.64it/s, train_loss=0.0013, valid_loss=0.00257] \n",
      "Epoch: 20/30: 100%|██████████| 83/83 [00:03<00:00, 25.39it/s, train_loss=0.00157, valid_loss=0.00254]\n",
      "Epoch: 21/30: 100%|██████████| 83/83 [00:03<00:00, 25.77it/s, train_loss=0.00142, valid_loss=0.00282]\n",
      "Epoch: 22/30: 100%|██████████| 83/83 [00:03<00:00, 25.50it/s, train_loss=0.00122, valid_loss=0.00266]\n",
      "Epoch: 23/30: 100%|██████████| 83/83 [00:03<00:00, 25.19it/s, train_loss=0.00113, valid_loss=0.00278]\n",
      "Epoch: 24/30: 100%|██████████| 83/83 [00:03<00:00, 25.73it/s, train_loss=0.00116, valid_loss=0.0025]  \n",
      "Epoch: 25/30: 100%|██████████| 83/83 [00:03<00:00, 25.55it/s, train_loss=0.0014, valid_loss=0.00276]  \n",
      "Epoch: 26/30: 100%|██████████| 83/83 [00:03<00:00, 25.40it/s, train_loss=0.00116, valid_loss=0.00277]\n",
      "Epoch: 27/30: 100%|██████████| 83/83 [00:03<00:00, 25.72it/s, train_loss=0.00102, valid_loss=0.00281]\n",
      "Epoch: 28/30: 100%|██████████| 83/83 [00:03<00:00, 25.09it/s, train_loss=0.00112, valid_loss=0.0026]  \n",
      "Epoch: 29/30: 100%|██████████| 83/83 [00:03<00:00, 25.40it/s, train_loss=0.00108, valid_loss=0.0028]  \n",
      "Epoch: 30/30: 100%|██████████| 83/83 [00:03<00:00, 25.71it/s, train_loss=0.00113, valid_loss=0.0028]  \n"
     ]
    },
    {
     "name": "stdout",
     "output_type": "stream",
     "text": [
      "model config: batch_size-256, lr-0.01, number_epoch-30, hidden_dim-256, n_layers-2,drop_prob-0,weight_decay-0\n",
      "cross-validation dataset 0\n"
     ]
    },
    {
     "name": "stderr",
     "output_type": "stream",
     "text": [
      "Epoch: 1/30: 100%|██████████| 83/83 [00:02<00:00, 30.04it/s, train_loss=0.0341, valid_loss=0.0347]\n",
      "Epoch: 2/30: 100%|██████████| 83/83 [00:02<00:00, 31.30it/s, train_loss=0.0302, valid_loss=0.0355]\n",
      "Epoch: 3/30: 100%|██████████| 83/83 [00:02<00:00, 30.40it/s, train_loss=0.0304, valid_loss=0.0353]\n",
      "Epoch: 4/30: 100%|██████████| 83/83 [00:02<00:00, 32.12it/s, train_loss=0.0292, valid_loss=0.0364]\n",
      "Epoch: 5/30: 100%|██████████| 83/83 [00:02<00:00, 32.23it/s, train_loss=0.0313, valid_loss=0.0352]\n",
      "Epoch: 6/30: 100%|██████████| 83/83 [00:02<00:00, 30.45it/s, train_loss=0.0311, valid_loss=0.0363]\n",
      "Epoch: 7/30: 100%|██████████| 83/83 [00:02<00:00, 32.01it/s, train_loss=0.0305, valid_loss=0.0357]\n",
      "Epoch: 8/30: 100%|██████████| 83/83 [00:02<00:00, 27.68it/s, train_loss=0.0336, valid_loss=0.0396]\n",
      "Epoch: 9/30: 100%|██████████| 83/83 [00:02<00:00, 31.59it/s, train_loss=0.0291, valid_loss=0.0348]\n",
      "Epoch: 10/30: 100%|██████████| 83/83 [00:02<00:00, 29.25it/s, train_loss=0.0296, valid_loss=0.0355]\n",
      "Epoch: 11/30: 100%|██████████| 83/83 [00:02<00:00, 30.85it/s, train_loss=0.032, valid_loss=0.0357] \n",
      "Epoch: 12/30: 100%|██████████| 83/83 [00:02<00:00, 30.79it/s, train_loss=0.0315, valid_loss=0.0351]\n",
      "Epoch: 13/30: 100%|██████████| 83/83 [00:02<00:00, 32.49it/s, train_loss=0.0302, valid_loss=0.0353]\n",
      "Epoch: 14/30: 100%|██████████| 83/83 [00:02<00:00, 29.80it/s, train_loss=0.0303, valid_loss=0.0352]\n",
      "Epoch: 15/30: 100%|██████████| 83/83 [00:02<00:00, 30.74it/s, train_loss=0.0326, valid_loss=0.035] \n",
      "Epoch: 16/30: 100%|██████████| 83/83 [00:02<00:00, 31.38it/s, train_loss=0.0312, valid_loss=0.0356]\n",
      "Epoch: 17/30: 100%|██████████| 83/83 [00:02<00:00, 32.58it/s, train_loss=0.031, valid_loss=0.0333] \n",
      "Epoch: 18/30: 100%|██████████| 83/83 [00:02<00:00, 32.25it/s, train_loss=0.0313, valid_loss=0.0361]\n",
      "Epoch: 19/30: 100%|██████████| 83/83 [00:02<00:00, 31.44it/s, train_loss=0.0291, valid_loss=0.0347]\n",
      "Epoch: 20/30: 100%|██████████| 83/83 [00:02<00:00, 32.25it/s, train_loss=0.0294, valid_loss=0.035] \n",
      "Epoch: 21/30: 100%|██████████| 83/83 [00:02<00:00, 31.47it/s, train_loss=0.0314, valid_loss=0.0354]\n",
      "Epoch: 22/30: 100%|██████████| 83/83 [00:02<00:00, 32.06it/s, train_loss=0.0277, valid_loss=0.0354]\n",
      "Epoch: 23/30: 100%|██████████| 83/83 [00:02<00:00, 32.70it/s, train_loss=0.0306, valid_loss=0.0347]\n",
      "Epoch: 24/30: 100%|██████████| 83/83 [00:02<00:00, 31.46it/s, train_loss=0.031, valid_loss=0.0355] \n",
      "Epoch: 25/30: 100%|██████████| 83/83 [00:02<00:00, 32.51it/s, train_loss=0.0316, valid_loss=0.0351]\n",
      "Epoch: 26/30: 100%|██████████| 83/83 [00:02<00:00, 31.42it/s, train_loss=0.0304, valid_loss=0.0351]\n",
      "Epoch: 27/30: 100%|██████████| 83/83 [00:02<00:00, 32.37it/s, train_loss=0.0328, valid_loss=0.0352]\n",
      "Epoch: 28/30: 100%|██████████| 83/83 [00:02<00:00, 31.91it/s, train_loss=0.0344, valid_loss=0.0351]\n",
      "Epoch: 29/30: 100%|██████████| 83/83 [00:02<00:00, 31.45it/s, train_loss=0.0312, valid_loss=0.0358]\n",
      "Epoch: 30/30: 100%|██████████| 83/83 [00:02<00:00, 32.20it/s, train_loss=0.0296, valid_loss=0.0349]\n"
     ]
    }
   ],
   "source": [
    "random_seed_set(16)\n",
    "records = run_model_hpo()"
   ]
  },
  {
   "cell_type": "markdown",
   "id": "1b696954",
   "metadata": {
    "ExecuteTime": {
     "end_time": "2021-12-22T08:52:06.844501Z",
     "start_time": "2021-12-22T08:52:06.830928Z"
    }
   },
   "source": [
    "## find the best hyper-parameters"
   ]
  },
  {
   "cell_type": "code",
   "execution_count": 16,
   "id": "6b016369",
   "metadata": {
    "ExecuteTime": {
     "end_time": "2021-12-29T12:31:38.253463Z",
     "start_time": "2021-12-29T12:31:38.225481Z"
    }
   },
   "outputs": [
    {
     "data": {
      "text/html": [
       "<div>\n",
       "<style scoped>\n",
       "    .dataframe tbody tr th:only-of-type {\n",
       "        vertical-align: middle;\n",
       "    }\n",
       "\n",
       "    .dataframe tbody tr th {\n",
       "        vertical-align: top;\n",
       "    }\n",
       "\n",
       "    .dataframe thead th {\n",
       "        text-align: right;\n",
       "    }\n",
       "</style>\n",
       "<table border=\"1\" class=\"dataframe\">\n",
       "  <thead>\n",
       "    <tr style=\"text-align: right;\">\n",
       "      <th></th>\n",
       "      <th>batch_size</th>\n",
       "      <th>lr</th>\n",
       "      <th>number_epoch</th>\n",
       "      <th>hidden_dim</th>\n",
       "      <th>n_layers</th>\n",
       "      <th>drop_prob</th>\n",
       "      <th>weight_decay</th>\n",
       "      <th>valid_loss</th>\n",
       "    </tr>\n",
       "  </thead>\n",
       "  <tbody>\n",
       "    <tr>\n",
       "      <th>1</th>\n",
       "      <td>256</td>\n",
       "      <td>0.01</td>\n",
       "      <td>30</td>\n",
       "      <td>128</td>\n",
       "      <td>2</td>\n",
       "      <td>0</td>\n",
       "      <td>0</td>\n",
       "      <td>0.002356</td>\n",
       "    </tr>\n",
       "    <tr>\n",
       "      <th>0</th>\n",
       "      <td>256</td>\n",
       "      <td>0.01</td>\n",
       "      <td>30</td>\n",
       "      <td>64</td>\n",
       "      <td>2</td>\n",
       "      <td>0</td>\n",
       "      <td>0</td>\n",
       "      <td>0.002439</td>\n",
       "    </tr>\n",
       "    <tr>\n",
       "      <th>4</th>\n",
       "      <td>256</td>\n",
       "      <td>0.01</td>\n",
       "      <td>30</td>\n",
       "      <td>64</td>\n",
       "      <td>3</td>\n",
       "      <td>0</td>\n",
       "      <td>0</td>\n",
       "      <td>0.002467</td>\n",
       "    </tr>\n",
       "    <tr>\n",
       "      <th>5</th>\n",
       "      <td>256</td>\n",
       "      <td>0.01</td>\n",
       "      <td>30</td>\n",
       "      <td>256</td>\n",
       "      <td>2</td>\n",
       "      <td>0</td>\n",
       "      <td>0</td>\n",
       "      <td>0.019121</td>\n",
       "    </tr>\n",
       "    <tr>\n",
       "      <th>3</th>\n",
       "      <td>256</td>\n",
       "      <td>0.01</td>\n",
       "      <td>30</td>\n",
       "      <td>128</td>\n",
       "      <td>3</td>\n",
       "      <td>0</td>\n",
       "      <td>0</td>\n",
       "      <td>0.034462</td>\n",
       "    </tr>\n",
       "    <tr>\n",
       "      <th>2</th>\n",
       "      <td>256</td>\n",
       "      <td>0.01</td>\n",
       "      <td>30</td>\n",
       "      <td>256</td>\n",
       "      <td>3</td>\n",
       "      <td>0</td>\n",
       "      <td>0</td>\n",
       "      <td>0.034503</td>\n",
       "    </tr>\n",
       "  </tbody>\n",
       "</table>\n",
       "</div>"
      ],
      "text/plain": [
       "   batch_size    lr  number_epoch  hidden_dim  n_layers  drop_prob  \\\n",
       "1         256  0.01            30         128         2          0   \n",
       "0         256  0.01            30          64         2          0   \n",
       "4         256  0.01            30          64         3          0   \n",
       "5         256  0.01            30         256         2          0   \n",
       "3         256  0.01            30         128         3          0   \n",
       "2         256  0.01            30         256         3          0   \n",
       "\n",
       "   weight_decay  valid_loss  \n",
       "1             0    0.002356  \n",
       "0             0    0.002439  \n",
       "4             0    0.002467  \n",
       "5             0    0.019121  \n",
       "3             0    0.034462  \n",
       "2             0    0.034503  "
      ]
     },
     "execution_count": 16,
     "metadata": {},
     "output_type": "execute_result"
    }
   ],
   "source": [
    "records = pd.DataFrame(records).sort_values(by='valid_loss')\n",
    "records.to_csv('./records/GRU_records.csv', mode='a', index=False, header=False)\n",
    "records"
   ]
  },
  {
   "cell_type": "markdown",
   "id": "f2555319",
   "metadata": {},
   "source": [
    "## retrain a model"
   ]
  },
  {
   "cell_type": "code",
   "execution_count": 16,
   "id": "3e92dcf2",
   "metadata": {
    "ExecuteTime": {
     "end_time": "2022-01-04T13:33:20.555448Z",
     "start_time": "2022-01-04T13:33:20.532842Z"
    }
   },
   "outputs": [],
   "source": [
    "def train_model(train_x, train_y, valid_x, valid_y, input_size, output_size,\n",
    "                mse_thresh, batch_size, lr, number_epoch, hidden_dim, n_layers,\n",
    "                drop_prob, weight_decay):\n",
    "    while (1):\n",
    "        model = GRU(input_size, output_size, hidden_dim, n_layers,\n",
    "                       drop_prob)\n",
    "        model.to(device=device)\n",
    "        criterion = nn.MSELoss()\n",
    "        params_base = [\n",
    "            param for name, param in model.named_parameters()\n",
    "            if name != 'rho'\n",
    "        ]\n",
    "        optimizer = torch.optim.Adam([{\n",
    "            'params': params_base\n",
    "        }, {\n",
    "            'params': model.rho,\n",
    "            'lr': 10 * lr\n",
    "        }],\n",
    "                                     lr=lr,\n",
    "                                     weight_decay=weight_decay)\n",
    "        scheduler = torch.optim.lr_scheduler.StepLR(optimizer, 1, gamma=0.98)\n",
    "        valid_loss_min = np.Inf\n",
    "        train_dataset = TensorDataset(torch.FloatTensor(train_x),\n",
    "                                      torch.FloatTensor(train_y))\n",
    "        valid_dataset = TensorDataset(torch.FloatTensor(valid_x),\n",
    "                                      torch.FloatTensor(valid_y))\n",
    "        train_loader = DataLoader(dataset=train_dataset,\n",
    "                                  batch_size=batch_size,\n",
    "                                  shuffle=True,\n",
    "                                  drop_last=False)\n",
    "        valid_loader = DataLoader(dataset=valid_dataset,\n",
    "                                  batch_size=batch_size,\n",
    "                                  shuffle=True,\n",
    "                                  drop_last=False)\n",
    "        num_without_imp = 0\n",
    "        train_loss_list = []\n",
    "        valid_loss_list = []\n",
    "        # training process\n",
    "        for epoch in range(1, number_epoch + 1):\n",
    "            loop = tqdm(enumerate(train_loader),\n",
    "                        total=len(train_loader),\n",
    "                        leave=True, ncols=100)\n",
    "            for i, (inputs, labels) in loop:\n",
    "                inputs = inputs.to(device=device)\n",
    "                labels = labels.to(device=device)\n",
    "                optimizer.zero_grad()\n",
    "                outputs = model(inputs)\n",
    "                loss = criterion(outputs, labels)\n",
    "                loss.backward()\n",
    "                optimizer.step()\n",
    "                if i % 5 == 0:\n",
    "                    num_without_imp = num_without_imp + 1\n",
    "                    valid_losses = list()\n",
    "                    model.eval()\n",
    "                    for inp, lab in valid_loader:\n",
    "                        inp = inp.to(device)\n",
    "                        lab = lab.to(device)\n",
    "                        out = model(inp)\n",
    "                        valid_loss = criterion(out, lab)\n",
    "                        valid_losses.append(valid_loss.item())\n",
    "\n",
    "                    model.train()\n",
    "                    loop.set_description(\"Epoch: {}/{}\".format(\n",
    "                        epoch, number_epoch))\n",
    "                    loop.set_postfix(train_loss=loss.item(),\n",
    "                                     valid_loss=np.mean(valid_losses))\n",
    "                    \n",
    "                    train_loss_list.append(loss.item())\n",
    "                    valid_loss_list.append(np.mean(valid_losses))\n",
    "                    if np.mean(valid_losses) < valid_loss_min:\n",
    "                        num_without_imp = 0\n",
    "                        torch.save(model.state_dict(),\n",
    "                                   './model/GRU_state_dict.pt')\n",
    "                        valid_loss_min = np.mean(valid_losses)\n",
    "            scheduler.step()\n",
    "        if valid_loss_min < mse_thresh:\n",
    "            break\n",
    "    return model, train_loss_list, valid_loss_list"
   ]
  },
  {
   "cell_type": "markdown",
   "id": "c47b0675",
   "metadata": {},
   "source": [
    "## test results"
   ]
  },
  {
   "cell_type": "code",
   "execution_count": 17,
   "id": "9ff612f6",
   "metadata": {
    "ExecuteTime": {
     "end_time": "2022-01-04T13:33:24.177924Z",
     "start_time": "2022-01-04T13:33:24.163511Z"
    }
   },
   "outputs": [],
   "source": [
    "def test_model(model, test_x, test_y, scaler_y, batch_size):\n",
    "    test_dataset = TensorDataset(torch.FloatTensor(test_x),\n",
    "                                 torch.FloatTensor(test_y))\n",
    "    test_loader = DataLoader(dataset=test_dataset,\n",
    "                             batch_size=batch_size,\n",
    "                             shuffle=False,\n",
    "                             drop_last=False)\n",
    "    model.load_state_dict(torch.load('./model/GRU_state_dict.pt'))\n",
    "    y_pred = []\n",
    "    y_true = []\n",
    "    with torch.no_grad():\n",
    "        for inputs, label in test_loader:\n",
    "            inputs = inputs.to(device)\n",
    "            label = label.to(device)\n",
    "            outputs = model(inputs)\n",
    "            y_pred += outputs.cpu().numpy().flatten().tolist()\n",
    "            y_true += label.cpu().numpy().flatten().tolist()\n",
    "    y_pred = np.array(y_pred).reshape(-1, 1)\n",
    "    y_true = np.array(y_true).reshape(-1, 1)\n",
    "#     pdb.set_trace()\n",
    "    load_pred = scaler_y.inverse_transform(y_pred)\n",
    "    load_true = scaler_y.inverse_transform(y_true)\n",
    "    MAPE = np.mean(np.abs(load_true - load_pred) / load_true)\n",
    "    MAE = np.mean(np.abs(load_true - load_pred))\n",
    "    RMSE = np.sqrt(np.mean(np.square(load_true - load_pred)))\n",
    "    return MAPE, MAE, RMSE, load_pred, load_true"
   ]
  },
  {
   "cell_type": "markdown",
   "id": "9cc1b56f",
   "metadata": {},
   "source": [
    "## run model retraining"
   ]
  },
  {
   "cell_type": "code",
   "execution_count": 24,
   "id": "c7b44965",
   "metadata": {
    "ExecuteTime": {
     "end_time": "2022-01-04T13:38:47.924900Z",
     "start_time": "2022-01-04T13:38:47.909004Z"
    }
   },
   "outputs": [],
   "source": [
    "def run_model_retraining(seq_len=seq_len,\n",
    "                         target_len=target_len,\n",
    "                         mse_thresh=mse_thresh):\n",
    "    train_data = data[:int(0.8 * len(data))]\n",
    "    #     train_data = data[:-800]\n",
    "    train_data, scaler, scaler_y = normalization(train_data)\n",
    "    train_x, train_y = series_to_supervise(train_data, seq_len, target_len)\n",
    "\n",
    "    valid_x = train_x[int(0.8 * len(train_x)):]\n",
    "    valid_y = train_y[int(0.8 * len(train_y)):]\n",
    "    train_x = train_x[:int(0.8 * len(train_x))]\n",
    "    train_y = train_y[:int(0.8 * len(train_y))]\n",
    "    input_size = train_x.shape[2]\n",
    "    output_size = target_len\n",
    "\n",
    "    #     hyper-parameters define\n",
    "    batch_size = 256\n",
    "    lr = 0.01\n",
    "    number_epoch = 80\n",
    "    hidden_dim = 128\n",
    "    n_layers = 2\n",
    "    drop_prob = 0.5\n",
    "    weight_decay = 0\n",
    "    mse_thresh = 0.01\n",
    "\n",
    "    model, train_loss_list, valid_loss_list = train_model(\n",
    "        train_x, train_y, valid_x, valid_y, input_size, output_size,\n",
    "        mse_thresh, batch_size, lr, number_epoch, hidden_dim, n_layers,\n",
    "        drop_prob, weight_decay)\n",
    "    \n",
    "    # plot training process\n",
    "    plt.plot(train_loss_list[10:], 'm', label='train_loss')\n",
    "    plt.plot(valid_loss_list[10:], 'g', label='valid_loss')\n",
    "    plt.grid('both')\n",
    "    plt.legend()\n",
    "    \n",
    "    # test\n",
    "    test_data = data[int(0.8 * len(data)):]\n",
    "    #     test_data = data[-800:]\n",
    "    test_data = scaler.transform(test_data)\n",
    "    test_x, test_y = series_to_supervise(test_data, seq_len, target_len)\n",
    "    MAPE, MAE, RMSE, load_pred, load_true = test_model(model, test_x, test_y,\n",
    "                                                       scaler_y, batch_size)\n",
    "    return MAPE, MAE, RMSE, load_pred, load_true"
   ]
  },
  {
   "cell_type": "code",
   "execution_count": 25,
   "id": "13473417",
   "metadata": {
    "ExecuteTime": {
     "end_time": "2022-01-04T13:42:11.172138Z",
     "start_time": "2022-01-04T13:38:49.467998Z"
    }
   },
   "outputs": [
    {
     "name": "stdout",
     "output_type": "stream",
     "text": [
      "supervised data: shape of x: (25232, 72, 16), shape of y: (25232, 24)\n"
     ]
    },
    {
     "name": "stderr",
     "output_type": "stream",
     "text": [
      "Epoch: 1/80: 100%|██████████| 79/79 [00:02<00:00, 28.88it/s, train_loss=0.00218, valid_loss=0.00283]\n",
      "Epoch: 2/80: 100%|██████████| 79/79 [00:02<00:00, 28.78it/s, train_loss=0.00172, valid_loss=0.00253]\n",
      "Epoch: 3/80: 100%|██████████| 79/79 [00:02<00:00, 28.05it/s, train_loss=0.00159, valid_loss=0.00245]\n",
      "Epoch: 4/80: 100%|██████████| 79/79 [00:02<00:00, 28.75it/s, train_loss=0.00135, valid_loss=0.00263]\n",
      "Epoch: 5/80: 100%|██████████| 79/79 [00:02<00:00, 28.90it/s, train_loss=0.00133, valid_loss=0.00254]\n",
      "Epoch: 6/80: 100%|██████████| 79/79 [00:02<00:00, 27.68it/s, train_loss=0.00117, valid_loss=0.00275]\n",
      "Epoch: 7/80: 100%|██████████| 79/79 [00:02<00:00, 28.65it/s, train_loss=0.000816, valid_loss=0.0033]\n",
      "Epoch: 8/80: 100%|█████████| 79/79 [00:02<00:00, 28.47it/s, train_loss=0.000616, valid_loss=0.00267]\n",
      "Epoch: 9/80: 100%|█████████| 79/79 [00:02<00:00, 27.45it/s, train_loss=0.000343, valid_loss=0.00292]\n",
      "Epoch: 10/80: 100%|█████████| 79/79 [00:02<00:00, 28.80it/s, train_loss=0.000305, valid_loss=0.0029]\n",
      "Epoch: 11/80: 100%|████████| 79/79 [00:02<00:00, 28.52it/s, train_loss=0.000256, valid_loss=0.00299]\n",
      "Epoch: 12/80: 100%|████████| 79/79 [00:02<00:00, 29.25it/s, train_loss=0.000219, valid_loss=0.00288]\n",
      "Epoch: 13/80: 100%|████████| 79/79 [00:01<00:00, 44.64it/s, train_loss=0.000207, valid_loss=0.00296]\n",
      "Epoch: 14/80: 100%|████████| 79/79 [00:01<00:00, 44.77it/s, train_loss=0.000175, valid_loss=0.00303]\n",
      "Epoch: 15/80: 100%|█████████| 79/79 [00:01<00:00, 42.47it/s, train_loss=0.00017, valid_loss=0.00287]\n",
      "Epoch: 16/80: 100%|████████| 79/79 [00:01<00:00, 44.40it/s, train_loss=0.000142, valid_loss=0.00292]\n",
      "Epoch: 17/80: 100%|████████| 79/79 [00:01<00:00, 44.46it/s, train_loss=0.000141, valid_loss=0.00284]\n",
      "Epoch: 18/80: 100%|████████| 79/79 [00:01<00:00, 42.49it/s, train_loss=0.000128, valid_loss=0.00287]\n",
      "Epoch: 19/80: 100%|████████| 79/79 [00:01<00:00, 44.43it/s, train_loss=0.000124, valid_loss=0.00291]\n",
      "Epoch: 20/80: 100%|█████████| 79/79 [00:01<00:00, 44.43it/s, train_loss=0.000121, valid_loss=0.0028]\n",
      "Epoch: 21/80: 100%|████████| 79/79 [00:01<00:00, 44.61it/s, train_loss=0.000117, valid_loss=0.00284]\n",
      "Epoch: 22/80: 100%|████████| 79/79 [00:01<00:00, 42.43it/s, train_loss=0.000104, valid_loss=0.00282]\n",
      "Epoch: 23/80: 100%|█████████| 79/79 [00:01<00:00, 44.07it/s, train_loss=9.85e-5, valid_loss=0.00274]\n",
      "Epoch: 24/80: 100%|█████████| 79/79 [00:01<00:00, 44.46it/s, train_loss=9.32e-5, valid_loss=0.00279]\n",
      "Epoch: 25/80: 100%|█████████| 79/79 [00:01<00:00, 42.38it/s, train_loss=9.54e-5, valid_loss=0.00282]\n",
      "Epoch: 26/80: 100%|████████| 79/79 [00:01<00:00, 44.41it/s, train_loss=0.000105, valid_loss=0.00281]\n",
      "Epoch: 27/80: 100%|█████████| 79/79 [00:01<00:00, 44.66it/s, train_loss=8.84e-5, valid_loss=0.00273]\n",
      "Epoch: 28/80: 100%|█████████| 79/79 [00:01<00:00, 41.93it/s, train_loss=8.52e-5, valid_loss=0.00272]\n",
      "Epoch: 29/80: 100%|█████████| 79/79 [00:01<00:00, 44.56it/s, train_loss=8.49e-5, valid_loss=0.00277]\n",
      "Epoch: 30/80: 100%|██████████| 79/79 [00:01<00:00, 44.64it/s, train_loss=8.6e-5, valid_loss=0.00269]\n",
      "Epoch: 31/80: 100%|█████████| 79/79 [00:01<00:00, 42.21it/s, train_loss=7.62e-5, valid_loss=0.00278]\n",
      "Epoch: 32/80: 100%|█████████| 79/79 [00:01<00:00, 44.35it/s, train_loss=7.83e-5, valid_loss=0.00274]\n",
      "Epoch: 33/80: 100%|█████████| 79/79 [00:01<00:00, 44.31it/s, train_loss=7.55e-5, valid_loss=0.00273]\n",
      "Epoch: 34/80: 100%|█████████| 79/79 [00:01<00:00, 42.49it/s, train_loss=7.34e-5, valid_loss=0.00276]\n",
      "Epoch: 35/80: 100%|█████████| 79/79 [00:01<00:00, 44.60it/s, train_loss=7.09e-5, valid_loss=0.00273]\n",
      "Epoch: 36/80: 100%|█████████| 79/79 [00:01<00:00, 42.02it/s, train_loss=7.42e-5, valid_loss=0.00275]\n",
      "Epoch: 37/80: 100%|██████████| 79/79 [00:02<00:00, 27.63it/s, train_loss=6.85e-5, valid_loss=0.0027]\n",
      "Epoch: 38/80: 100%|██████████| 79/79 [00:02<00:00, 27.94it/s, train_loss=6.79e-5, valid_loss=0.0028]\n",
      "Epoch: 39/80: 100%|██████████| 79/79 [00:02<00:00, 28.45it/s, train_loss=6.5e-5, valid_loss=0.00268]\n",
      "Epoch: 40/80: 100%|█████████| 79/79 [00:02<00:00, 27.41it/s, train_loss=6.33e-5, valid_loss=0.00274]\n",
      "Epoch: 41/80: 100%|████████████| 79/79 [00:02<00:00, 28.50it/s, train_loss=6e-5, valid_loss=0.00276]\n",
      "Epoch: 42/80: 100%|██████████| 79/79 [00:02<00:00, 28.81it/s, train_loss=6.61e-5, valid_loss=0.0027]\n",
      "Epoch: 43/80: 100%|█████████| 79/79 [00:02<00:00, 27.65it/s, train_loss=5.57e-5, valid_loss=0.00274]\n",
      "Epoch: 44/80: 100%|█████████| 79/79 [00:02<00:00, 27.78it/s, train_loss=5.81e-5, valid_loss=0.00275]\n",
      "Epoch: 45/80: 100%|█████████| 79/79 [00:02<00:00, 27.93it/s, train_loss=6.49e-5, valid_loss=0.00269]\n",
      "Epoch: 46/80: 100%|█████████| 79/79 [00:02<00:00, 27.41it/s, train_loss=5.38e-5, valid_loss=0.00274]\n",
      "Epoch: 47/80: 100%|█████████| 79/79 [00:02<00:00, 28.63it/s, train_loss=5.81e-5, valid_loss=0.00272]\n",
      "Epoch: 48/80: 100%|█████████| 79/79 [00:02<00:00, 28.26it/s, train_loss=5.44e-5, valid_loss=0.00274]\n",
      "Epoch: 49/80: 100%|█████████| 79/79 [00:02<00:00, 27.48it/s, train_loss=5.73e-5, valid_loss=0.00271]\n",
      "Epoch: 50/80: 100%|█████████| 79/79 [00:02<00:00, 27.93it/s, train_loss=5.59e-5, valid_loss=0.00272]\n",
      "Epoch: 51/80: 100%|█████████| 79/79 [00:02<00:00, 28.80it/s, train_loss=5.24e-5, valid_loss=0.00269]\n",
      "Epoch: 52/80: 100%|█████████| 79/79 [00:02<00:00, 27.68it/s, train_loss=5.32e-5, valid_loss=0.00271]\n",
      "Epoch: 53/80: 100%|█████████| 79/79 [00:02<00:00, 28.32it/s, train_loss=4.97e-5, valid_loss=0.00273]\n",
      "Epoch: 54/80: 100%|█████████| 79/79 [00:02<00:00, 28.09it/s, train_loss=4.97e-5, valid_loss=0.00272]\n",
      "Epoch: 55/80: 100%|██████████| 79/79 [00:02<00:00, 27.28it/s, train_loss=4.6e-5, valid_loss=0.00275]\n",
      "Epoch: 56/80: 100%|█████████| 79/79 [00:02<00:00, 28.52it/s, train_loss=5.39e-5, valid_loss=0.00267]\n",
      "Epoch: 57/80: 100%|█████████| 79/79 [00:02<00:00, 28.00it/s, train_loss=4.94e-5, valid_loss=0.00269]\n",
      "Epoch: 58/80: 100%|█████████| 79/79 [00:02<00:00, 28.25it/s, train_loss=5.35e-5, valid_loss=0.00275]\n",
      "Epoch: 59/80: 100%|██████████| 79/79 [00:02<00:00, 27.30it/s, train_loss=4.92e-5, valid_loss=0.0027]\n",
      "Epoch: 60/80: 100%|█████████| 79/79 [00:02<00:00, 28.44it/s, train_loss=4.57e-5, valid_loss=0.00269]\n",
      "Epoch: 61/80: 100%|█████████| 79/79 [00:02<00:00, 28.17it/s, train_loss=4.55e-5, valid_loss=0.00273]\n",
      "Epoch: 62/80: 100%|█████████| 79/79 [00:02<00:00, 27.66it/s, train_loss=4.64e-5, valid_loss=0.00273]\n",
      "Epoch: 63/80: 100%|█████████| 79/79 [00:02<00:00, 28.84it/s, train_loss=4.29e-5, valid_loss=0.00274]\n",
      "Epoch: 64/80: 100%|██████████| 79/79 [00:02<00:00, 28.28it/s, train_loss=4.37e-5, valid_loss=0.0027]\n",
      "Epoch: 65/80: 100%|█████████| 79/79 [00:02<00:00, 27.40it/s, train_loss=4.54e-5, valid_loss=0.00268]\n",
      "Epoch: 66/80: 100%|█████████| 79/79 [00:02<00:00, 28.53it/s, train_loss=4.17e-5, valid_loss=0.00265]\n",
      "Epoch: 67/80: 100%|██████████| 79/79 [00:02<00:00, 27.97it/s, train_loss=4.3e-5, valid_loss=0.00275]\n",
      "Epoch: 68/80: 100%|█████████| 79/79 [00:02<00:00, 26.64it/s, train_loss=4.23e-5, valid_loss=0.00268]\n",
      "Epoch: 69/80: 100%|█████████| 79/79 [00:02<00:00, 27.92it/s, train_loss=4.68e-5, valid_loss=0.00266]\n",
      "Epoch: 70/80: 100%|█████████| 79/79 [00:02<00:00, 28.42it/s, train_loss=3.99e-5, valid_loss=0.00272]\n",
      "Epoch: 71/80: 100%|█████████| 79/79 [00:02<00:00, 27.14it/s, train_loss=4.28e-5, valid_loss=0.00264]\n",
      "Epoch: 72/80: 100%|█████████| 79/79 [00:02<00:00, 28.71it/s, train_loss=3.93e-5, valid_loss=0.00268]\n",
      "Epoch: 73/80: 100%|█████████| 79/79 [00:02<00:00, 27.97it/s, train_loss=4.13e-5, valid_loss=0.00266]\n",
      "Epoch: 74/80: 100%|█████████| 79/79 [00:02<00:00, 27.60it/s, train_loss=3.78e-5, valid_loss=0.00269]\n",
      "Epoch: 75/80: 100%|█████████| 79/79 [00:02<00:00, 28.15it/s, train_loss=4.05e-5, valid_loss=0.00271]\n",
      "Epoch: 76/80: 100%|█████████| 79/79 [00:02<00:00, 28.04it/s, train_loss=4.07e-5, valid_loss=0.00268]\n",
      "Epoch: 77/80: 100%|█████████| 79/79 [00:02<00:00, 27.49it/s, train_loss=3.72e-5, valid_loss=0.00268]\n",
      "Epoch: 78/80: 100%|█████████| 79/79 [00:02<00:00, 27.86it/s, train_loss=3.56e-5, valid_loss=0.00271]\n",
      "Epoch: 79/80: 100%|█████████| 79/79 [00:02<00:00, 28.13it/s, train_loss=3.76e-5, valid_loss=0.00274]\n",
      "Epoch: 80/80: 100%|█████████| 79/79 [00:02<00:00, 27.39it/s, train_loss=3.66e-5, valid_loss=0.00267]\n"
     ]
    },
    {
     "name": "stdout",
     "output_type": "stream",
     "text": [
      "supervised data: shape of x: (6237, 72, 16), shape of y: (6237, 24)\n",
      "MAPE:0.03655147646152821, MAE:476.3543231237952, RMSE:706.2007855699175\n"
     ]
    },
    {
     "data": {
      "image/png": "[encoded data removed]",
      "text/plain": [
       "<Figure size 432x288 with 1 Axes>"
      ]
     },
     "metadata": {
      "needs_background": "light"
     },
     "output_type": "display_data"
    }
   ],
   "source": [
    "random_seed_set(16)\n",
    "MAPE, MAE, RMSE, load_pred, load_true = run_model_retraining()\n",
    "print('MAPE:{}, MAE:{}, RMSE:{}'.format(MAPE, MAE, RMSE))"
   ]
  },
  {
   "cell_type": "code",
   "execution_count": 26,
   "id": "e25f441e",
   "metadata": {
    "ExecuteTime": {
     "end_time": "2022-01-04T13:44:38.479552Z",
     "start_time": "2022-01-04T13:44:38.473555Z"
    }
   },
   "outputs": [
    {
     "name": "stdout",
     "output_type": "stream",
     "text": [
      "MAPE:0.03655147646152821, MAE:476.3543231237952, RMSE:706.2007855699175\n"
     ]
    }
   ],
   "source": [
    "print('MAPE:{}, MAE:{}, RMSE:{}'.format(MAPE, MAE, RMSE))"
   ]
  },
  {
   "cell_type": "markdown",
   "id": "5cb12437",
   "metadata": {},
   "source": [
    "## figure plot"
   ]
  },
  {
   "cell_type": "code",
   "execution_count": 27,
   "id": "d6b3688f",
   "metadata": {
    "ExecuteTime": {
     "end_time": "2022-01-04T13:45:06.517402Z",
     "start_time": "2022-01-04T13:45:06.357291Z"
    }
   },
   "outputs": [
    {
     "data": {
      "text/plain": [
       "(0.0, 19447.558887343705)"
      ]
     },
     "execution_count": 27,
     "metadata": {},
     "output_type": "execute_result"
    },
    {
     "data": {
      "image/png": "[encoded data removed]",
      "text/plain": [
       "<Figure size 1440x720 with 1 Axes>"
      ]
     },
     "metadata": {
      "needs_background": "light"
     },
     "output_type": "display_data"
    }
   ],
   "source": [
    "plt.figure(figsize=(20, 10))\n",
    "load_pred = load_pred.reshape(-1, target_len)\n",
    "load_true = load_true.reshape(-1, target_len)\n",
    "plt.plot(load_pred[:240,0], 'm')\n",
    "plt.plot(load_true[:240,0], 'g')\n",
    "plt.ylim(0)"
   ]
  }
 ],
 "metadata": {
  "kernelspec": {
   "display_name": "Python 3 (ipykernel)",
   "language": "python",
   "name": "python3"
  },
  "language_info": {
   "codemirror_mode": {
    "name": "ipython",
    "version": 3
   },
   "file_extension": ".py",
   "mimetype": "text/x-python",
   "name": "python",
   "nbconvert_exporter": "python",
   "pygments_lexer": "ipython3",
   "version": "3.8.12"
  },
  "toc": {
   "base_numbering": 1,
   "nav_menu": {},
   "number_sections": true,
   "sideBar": true,
   "skip_h1_title": false,
   "title_cell": "Table of Contents",
   "title_sidebar": "Contents",
   "toc_cell": false,
   "toc_position": {
    "height": "calc(100% - 180px)",
    "left": "10px",
    "top": "150px",
    "width": "374.391px"
   },
   "toc_section_display": true,
   "toc_window_display": true
  },
  "varInspector": {
   "cols": {
    "lenName": 16,
    "lenType": 16,
    "lenVar": 40
   },
   "kernels_config": {
    "python": {
     "delete_cmd_postfix": "",
     "delete_cmd_prefix": "del ",
     "library": "var_list.py",
     "varRefreshCmd": "print(var_dic_list())"
    },
    "r": {
     "delete_cmd_postfix": ") ",
     "delete_cmd_prefix": "rm(",
     "library": "var_list.r",
     "varRefreshCmd": "cat(var_dic_list()) "
    }
   },
   "oldHeight": 320.844,
   "position": {
    "height": "342.844px",
    "left": "1482px",
    "right": "20px",
    "top": "127px",
    "width": "350px"
   },
   "types_to_exclude": [
    "module",
    "function",
    "builtin_function_or_method",
    "instance",
    "_Feature"
   ],
   "varInspector_section_display": "block",
   "window_display": false
  }
 },
 "nbformat": 4,
 "nbformat_minor": 5
}
