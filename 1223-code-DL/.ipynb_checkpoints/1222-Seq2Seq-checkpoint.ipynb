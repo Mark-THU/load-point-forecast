{
 "cells": [
  {
   "cell_type": "markdown",
   "id": "776cf3d0",
   "metadata": {},
   "source": [
    "# Seq2Seq for forecast"
   ]
  },
  {
   "cell_type": "code",
   "execution_count": 1,
   "id": "e3802dee",
   "metadata": {
    "ExecuteTime": {
     "end_time": "2021-12-22T12:18:20.363050Z",
     "start_time": "2021-12-22T12:18:19.034892Z"
    }
   },
   "outputs": [],
   "source": [
    "import pandas as pd\n",
    "import numpy as np\n",
    "import matplotlib.pyplot as plt\n",
    "import pdb\n",
    "import torch\n",
    "import torch.nn as nn\n",
    "import torch.nn.functional as F\n",
    "import random\n",
    "\n",
    "from sklearn.preprocessing import MinMaxScaler\n",
    "from sklearn.model_selection import train_test_split, TimeSeriesSplit\n",
    "from torch.autograd import Variable\n",
    "from torch.utils.data import TensorDataset, DataLoader\n",
    "from tqdm import tqdm\n",
    "from xgboost import XGBRegressor\n",
    "if torch.cuda.is_available():  \n",
    "    dev = \"cuda:0\" \n",
    "else:  \n",
    "    dev = \"cpu\"\n",
    "device = torch.device(dev)"
   ]
  },
  {
   "cell_type": "markdown",
   "id": "d645b9c6",
   "metadata": {},
   "source": [
    "## load data"
   ]
  },
  {
   "cell_type": "code",
   "execution_count": 2,
   "id": "0a345857",
   "metadata": {
    "ExecuteTime": {
     "end_time": "2021-12-22T12:18:20.416294Z",
     "start_time": "2021-12-22T12:18:20.364361Z"
    }
   },
   "outputs": [],
   "source": [
    "url = '../data/beijing.csv'\n",
    "data = pd.read_csv(url, sep=',', index_col='time')"
   ]
  },
  {
   "cell_type": "markdown",
   "id": "4da70382",
   "metadata": {},
   "source": [
    "## normalization"
   ]
  },
  {
   "cell_type": "code",
   "execution_count": 3,
   "id": "ecf93911",
   "metadata": {
    "ExecuteTime": {
     "end_time": "2021-12-22T12:18:20.420242Z",
     "start_time": "2021-12-22T12:18:20.417604Z"
    }
   },
   "outputs": [],
   "source": [
    "def normalization(data):\n",
    "    \"\"\"\n",
    "    data: original data with load\n",
    "    return: normalized data, scaler of load\n",
    "    \"\"\"\n",
    "    scaler = MinMaxScaler()\n",
    "    normalized_data = scaler.fit_transform(data)\n",
    "    scaler_y = MinMaxScaler()\n",
    "    scaler_y.fit_transform(data[[data.columns[-1]]])\n",
    "    return normalized_data, scaler, scaler_y"
   ]
  },
  {
   "cell_type": "markdown",
   "id": "af2b5f89",
   "metadata": {
    "ExecuteTime": {
     "end_time": "2021-12-22T07:45:44.192666Z",
     "start_time": "2021-12-22T07:45:44.188985Z"
    }
   },
   "source": [
    "## build supervised dataset"
   ]
  },
  {
   "cell_type": "code",
   "execution_count": 4,
   "id": "2dd8c4bf",
   "metadata": {
    "ExecuteTime": {
     "end_time": "2021-12-22T12:18:20.424852Z",
     "start_time": "2021-12-22T12:18:20.421652Z"
    }
   },
   "outputs": [],
   "source": [
    "def series_to_supervise(data, seq_len, target_len):\n",
    "    \"\"\"\n",
    "    convert series data to supervised data\n",
    "    :param data: original data\n",
    "    :param seq_len: length of input sequence\n",
    "    :param target_len: length of ouput sequence\n",
    "    :return: return two ndarrays-- input and output in format suitable to feed to LSTM\n",
    "    \"\"\"\n",
    "    dim_0 = data.shape[0] - seq_len - target_len + 1\n",
    "    dim_1 = data.shape[1]\n",
    "    x = np.zeros((dim_0, seq_len + target_len, dim_1))\n",
    "    y = np.zeros((dim_0, target_len))\n",
    "    for i in range(dim_0):\n",
    "        x[i] = data[i:i + seq_len + target_len]\n",
    "        y[i] = data[i + seq_len:i + seq_len + target_len, -1]\n",
    "    print(\"supervised data: shape of x: {}, shape of y: {}\".format(\n",
    "        x.shape, y.shape))\n",
    "    return x, y"
   ]
  },
  {
   "cell_type": "markdown",
   "id": "509876f1",
   "metadata": {},
   "source": [
    "## 5-folds TimeSeriesSplit"
   ]
  },
  {
   "cell_type": "code",
   "execution_count": 5,
   "id": "a83beb8c",
   "metadata": {
    "ExecuteTime": {
     "end_time": "2021-12-22T12:18:20.428765Z",
     "start_time": "2021-12-22T12:18:20.425899Z"
    }
   },
   "outputs": [],
   "source": [
    "def time_series_split(X, Y, n_split=5):\n",
    "    \"\"\"\n",
    "    X: features, size * seq_len * feature_num\n",
    "    Y: labels, size * target_len\n",
    "    return: list of train_x, test_x, train_y, test_y\n",
    "    \"\"\"\n",
    "    tscv = TimeSeriesSplit(n_splits=n_split)\n",
    "    train_x_list = list()\n",
    "    valid_x_list = list()\n",
    "    train_y_list = list()\n",
    "    valid_y_list = list()\n",
    "    for train_index, valid_index in tscv.split(X):\n",
    "        train_x_list.append(X[train_index])\n",
    "        train_y_list.append(Y[train_index])\n",
    "        valid_x_list.append(X[valid_index])\n",
    "        valid_y_list.append(Y[valid_index])\n",
    "    return train_x_list, train_y_list, valid_x_list, valid_y_list"
   ]
  },
  {
   "cell_type": "markdown",
   "id": "24caa40a",
   "metadata": {},
   "source": [
    "## Seq2Seq model"
   ]
  },
  {
   "cell_type": "markdown",
   "id": "c14c7c92",
   "metadata": {},
   "source": [
    "### Encoder"
   ]
  },
  {
   "cell_type": "code",
   "execution_count": 6,
   "id": "4843bd53",
   "metadata": {
    "ExecuteTime": {
     "end_time": "2021-12-22T12:18:20.433711Z",
     "start_time": "2021-12-22T12:18:20.429820Z"
    }
   },
   "outputs": [],
   "source": [
    "class LSTMEncoder(nn.Module):\n",
    "    def __init__(self, input_size, hidden_dim, n_layers, drop_prob):\n",
    "        super(LSTMEncoder, self).__init__()\n",
    "        # 初始化hidden_state参数\n",
    "        self.hidden_dim = hidden_dim\n",
    "        self.n_layers = n_layers\n",
    "        # 定义层\n",
    "        self.lstm = nn.LSTM(input_size, hidden_dim, n_layers, batch_first=True)\n",
    "        self.dropout = nn.Dropout(drop_prob)\n",
    "    \n",
    "    def forward(self, x):\n",
    "        batch_size = x.size(0)\n",
    "        hidden = self.init_hidden(batch_size)\n",
    "        \n",
    "        lstm_out, hidden = self.lstm(x, hidden)\n",
    "        lstm_out = self.dropout(lstm_out)\n",
    "        return lstm_out, hidden\n",
    "    \n",
    "    def init_hidden(self, batch_size):\n",
    "        hidden = (torch.zeros(self.n_layers, batch_size, self.hidden_dim).to(device),\n",
    "                      torch.zeros(self.n_layers, batch_size, self.hidden_dim).to(device))\n",
    "        return hidden"
   ]
  },
  {
   "cell_type": "markdown",
   "id": "c3f1194d",
   "metadata": {},
   "source": [
    "### Decoder"
   ]
  },
  {
   "cell_type": "code",
   "execution_count": 7,
   "id": "9476286c",
   "metadata": {
    "ExecuteTime": {
     "end_time": "2021-12-22T12:18:20.440637Z",
     "start_time": "2021-12-22T12:18:20.434772Z"
    }
   },
   "outputs": [],
   "source": [
    "# define attn_lstm_decoder\n",
    "class AttnLSTMDecoder(nn.Module):\n",
    "    def __init__(self, input_size, seq_len, hidden_dim, n_layers, drop_prob, output_size=1):\n",
    "        super(AttnLSTMDecoder, self).__init__()\n",
    "        self.input_size = input_size\n",
    "        self.hidden_dim = hidden_dim\n",
    "        self.output_size = output_size\n",
    "        self.n_layers = n_layers\n",
    "        self.drop_prob = drop_prob\n",
    "        # attention calculate\n",
    "        self.seq_len = seq_len\n",
    "        \n",
    "        self.embedding = nn.Linear(self.input_size, self.hidden_dim * self.n_layers)\n",
    "        self.attn = nn.Linear(self.hidden_dim * self.n_layers * 2, self.seq_len)\n",
    "        self.attn_combine = nn.Linear(self.hidden_dim * (self.n_layers + 1), self.hidden_dim)\n",
    "        self.lstm = nn.LSTM(self.hidden_dim, self.hidden_dim, self.n_layers, batch_first=True)\n",
    "        self.dropout = nn.Dropout(drop_prob)\n",
    "        self.out = nn.Linear(self.hidden_dim, self.output_size)\n",
    "    \n",
    "    def forward(self, inputs, hidden, encoder_outputs):\n",
    "        \"\"\"\n",
    "        :input size(batch_size, 1, input_size)\n",
    "        :hidden size(batch_size, 1, hidden_dim)\n",
    "        :encoder_outputs size(batch_size, seq_len, hidden_dim)\n",
    "        \"\"\"\n",
    "        embedded = self.embedding(inputs)\n",
    "        \n",
    "        # flat hidden to calculte weights\n",
    "        # pdb.set_trace()\n",
    "        hidden_flat = hidden[0].transpose(0, 1)\n",
    "        hidden_flat = hidden_flat.contiguous().view(hidden_flat.shape[0], 1, -1)\n",
    "        \n",
    "        attn_weights = F.softmax(self.attn(torch.cat((embedded, hidden_flat), 2)), dim=2)\n",
    "        attn_applied = torch.bmm(attn_weights, encoder_outputs)\n",
    "        \n",
    "        output = torch.cat((embedded, attn_applied), 2)\n",
    "        output = self.attn_combine(output)\n",
    "        output = F.relu(output)\n",
    "        \n",
    "        output, hidden = self.lstm(output, hidden)\n",
    "        output = self.dropout(output)\n",
    "        \n",
    "        output = self.out(output)      \n",
    "        \n",
    "        return output, hidden        "
   ]
  },
  {
   "cell_type": "markdown",
   "id": "1f2f3855",
   "metadata": {
    "ExecuteTime": {
     "end_time": "2021-12-22T08:30:19.661769Z",
     "start_time": "2021-12-22T08:30:19.656770Z"
    }
   },
   "source": [
    "## model training for HPO"
   ]
  },
  {
   "cell_type": "code",
   "execution_count": 8,
   "id": "23d4db0b",
   "metadata": {
    "ExecuteTime": {
     "end_time": "2021-12-22T12:18:20.456934Z",
     "start_time": "2021-12-22T12:18:20.442374Z"
    },
    "code_folding": [
     52
    ]
   },
   "outputs": [],
   "source": [
    "def train_model_hpo(train_x_list,\n",
    "                    train_y_list,\n",
    "                    valid_x_list,\n",
    "                    valid_y_list,\n",
    "                    input_size,\n",
    "                    seq_len,\n",
    "                    target_len,\n",
    "                    mse_thresh,\n",
    "                    hidden_dim,\n",
    "                    n_layers,\n",
    "                    number_epoch,\n",
    "                    batch_size,\n",
    "                    lr,\n",
    "                    drop_prob,\n",
    "                    teacher_forcing_ratio=0.5,\n",
    "                    training_prediction='teacher_forcing'):\n",
    "    valid_loss_list = []\n",
    "    for num in range(len(train_x_list)):\n",
    "        while (1):\n",
    "            encoder = LSTMEncoder(input_size, hidden_dim, n_layers, drop_prob)\n",
    "            decoder = AttnLSTMDecoder(input_size, seq_len, hidden_dim,\n",
    "                                      n_layers, drop_prob)\n",
    "            encoder = encoder.to(device)\n",
    "            decoder = decoder.to(device)\n",
    "            criterion = nn.MSELoss()\n",
    "            encoder_optimizer = torch.optim.Adam(encoder.parameters(), lr=lr)\n",
    "            decoder_optimizer = torch.optim.Adam(decoder.parameters(), lr=lr)\n",
    "            valid_loss_min = np.Inf\n",
    "            print('train dataset {}'.format(num))\n",
    "            train_x = train_x_list[num]\n",
    "            train_y = train_y_list[num]\n",
    "            valid_x = valid_x_list[num]\n",
    "            valid_y = valid_y_list[num]\n",
    "            train_dataset = TensorDataset(torch.FloatTensor(train_x),\n",
    "                                          torch.FloatTensor(train_y))\n",
    "            valid_dataset = TensorDataset(torch.FloatTensor(valid_x),\n",
    "                                          torch.FloatTensor(valid_y))\n",
    "\n",
    "            train_loader = DataLoader(dataset=train_dataset,\n",
    "                                      batch_size=batch_size,\n",
    "                                      shuffle=True,\n",
    "                                      drop_last=True)\n",
    "            valid_loader = DataLoader(dataset=valid_dataset,\n",
    "                                      batch_size=batch_size,\n",
    "                                      shuffle=True,\n",
    "                                      drop_last=True)\n",
    "            train_losses = list()\n",
    "\n",
    "            num_without_imp = 0\n",
    "\n",
    "            #train\n",
    "            for epoch in range(1, number_epoch + 1):\n",
    "                loop = tqdm(enumerate(train_loader),\n",
    "                            total=len(train_loader),\n",
    "                            leave=True)\n",
    "                for i, (inputs, labels) in loop:\n",
    "                    inputs = inputs.to(device)\n",
    "                    labels = labels.to(device)\n",
    "                    outputs = torch.zeros(batch_size, target_len).to(device)\n",
    "                    encoder_optimizer.zero_grad()\n",
    "                    decoder_optimizer.zero_grad()\n",
    "                    # encoder\n",
    "                    input_tensor = inputs[:, 0:seq_len, :]\n",
    "                    target_tensor = inputs[:, seq_len:, :]\n",
    "                    encoder_outputs, encoder_hidden = encoder(input_tensor)\n",
    "                    # decoder\n",
    "                    decoder_input = inputs[:, seq_len - 1, :].unsqueeze(1)\n",
    "                    decoder_hidden = encoder_hidden\n",
    "\n",
    "                    if training_prediction == 'recursive':\n",
    "                        for t in range(target_len):\n",
    "                            decoder_output, decoder_hidden = decoder(\n",
    "                                decoder_input, decoder_hidden, encoder_outputs)\n",
    "                            outputs[:, t] = decoder_output.squeeze()\n",
    "                            decoder_input = torch.cat(\n",
    "                                (target_tensor[:, t, :-1].unsqueeze(1),\n",
    "                                 decoder_output.detach()), 2)\n",
    "\n",
    "                    if training_prediction == 'teacher_forcing':\n",
    "                        # use teacher forcing\n",
    "                        if random.random() < teacher_forcing_ratio:\n",
    "                            for t in range(target_len):\n",
    "                                decoder_output, decoder_hidden = decoder(\n",
    "                                    decoder_input, decoder_hidden,\n",
    "                                    encoder_outputs)\n",
    "                                outputs[:, t] = decoder_output.squeeze()\n",
    "                                decoder_input = target_tensor[:, t, :].unsqueeze(1)\n",
    "                        # predict recurisively\n",
    "                        else:\n",
    "                            for t in range(target_len):\n",
    "                                decoder_output, decoder_hidden = decoder(\n",
    "                                    decoder_input, decoder_hidden,\n",
    "                                    encoder_outputs)\n",
    "                                outputs[:, t] = decoder_output.squeeze()\n",
    "                                decoder_input = torch.cat(\n",
    "                                    (target_tensor[:, t, :-1].unsqueeze(1),\n",
    "                                     decoder_output.detach()), 2)\n",
    "                                \n",
    "                    loss = criterion(outputs, labels)\n",
    "                    train_losses.append(loss.item)\n",
    "                    loss.backward()\n",
    "                    encoder_optimizer.step()\n",
    "                    decoder_optimizer.step()\n",
    "\n",
    "                    # eval\n",
    "                    if i % 5 == 0:\n",
    "                        num_without_imp = num_without_imp + 1\n",
    "                        valid_losses = list()\n",
    "                        encoder.eval()\n",
    "                        decoder.eval()\n",
    "                        for inp, lab in valid_loader:\n",
    "                            inp = inp.to(device)\n",
    "                            lab = lab.to(device)\n",
    "                            out = torch.zeros(batch_size,\n",
    "                                              target_len).to(device)\n",
    "                            # encoder\n",
    "                            input_tensor = inp[:, 0:seq_len, :]\n",
    "                            target_tensor = inp[:, seq_len:, 0:-1]\n",
    "                            encoder_outputs, encoder_hidden = encoder(\n",
    "                                input_tensor)\n",
    "                            # decoder\n",
    "                            decoder_input = inp[:, seq_len - 1, :].unsqueeze(1)\n",
    "                            decoder_hidden = encoder_hidden\n",
    "                            # predict recuisively\n",
    "                            for t in range(target_len):\n",
    "                                decoder_output, decoder_hidden = decoder(\n",
    "                                    decoder_input, decoder_hidden,\n",
    "                                    encoder_outputs)\n",
    "                                out[:, t] = decoder_output.squeeze()\n",
    "                                decoder_input = torch.cat(\n",
    "                                    (target_tensor[:, t, :].unsqueeze(1),\n",
    "                                     decoder_output.detach()), 2)\n",
    "                            valid_loss = criterion(out, lab)\n",
    "                            valid_losses.append(valid_loss.item())\n",
    "                        encoder.train()\n",
    "                        decoder.train()\n",
    "                        loop.set_description(\"Epoch: {}/{}...\".format(\n",
    "                            epoch, number_epoch))\n",
    "                        loop.set_postfix(train_loss=loss.item(),\n",
    "                                         valid_loss=np.mean(valid_losses))\n",
    "                        if np.mean(valid_losses) < valid_loss_min:\n",
    "                            num_without_imp = 0\n",
    "                            valid_loss_min = np.mean(valid_losses)\n",
    "                if num_without_imp > 50:\n",
    "                    break\n",
    "            if valid_loss_min < mse_thresh:\n",
    "                valid_loss_list.append(valid_loss_min)\n",
    "                break\n",
    "    return np.mean(valid_loss_list)"
   ]
  },
  {
   "cell_type": "markdown",
   "id": "d1142351",
   "metadata": {},
   "source": [
    "## hyper-parameters config"
   ]
  },
  {
   "cell_type": "code",
   "execution_count": 9,
   "id": "a1d098d8",
   "metadata": {
    "ExecuteTime": {
     "end_time": "2021-12-22T12:18:20.461738Z",
     "start_time": "2021-12-22T12:18:20.458293Z"
    }
   },
   "outputs": [],
   "source": [
    "seq_len = 72\n",
    "target_len = 24\n",
    "mse_thresh = 0.05\n",
    "\n",
    "\n",
    "def model_config():\n",
    "    batch_sizes = [512, 256]\n",
    "    lrs = [0.01, 0.05, 0.1]\n",
    "    number_epochs = [40]\n",
    "    hidden_dims = [100, 120, 150]\n",
    "    n_layers = [1, 2, 3]\n",
    "    drop_prob = [0.2, 0.4, 0.5]\n",
    "    configs = list()\n",
    "    for i in batch_sizes:\n",
    "        for j in lrs:\n",
    "            for k in number_epochs:\n",
    "                for l in hidden_dims:\n",
    "                    for m in n_layers:\n",
    "                        for n in drop_prob:\n",
    "                            configs.append({\n",
    "                                'batch_size': i,\n",
    "                                'lr': j,\n",
    "                                'number_epoch': k,\n",
    "                                'hidden_dim': l,\n",
    "                                'n_layers': m,\n",
    "                                'drop_prob': n\n",
    "                            })\n",
    "    return configs"
   ]
  },
  {
   "cell_type": "markdown",
   "id": "71e5b440",
   "metadata": {},
   "source": [
    "## random search for HPO"
   ]
  },
  {
   "cell_type": "code",
   "execution_count": 10,
   "id": "6b6c0a37",
   "metadata": {
    "ExecuteTime": {
     "end_time": "2021-12-22T12:18:20.467518Z",
     "start_time": "2021-12-22T12:18:20.462834Z"
    }
   },
   "outputs": [],
   "source": [
    "def run_model_hpo(seq_len=seq_len,\n",
    "                  target_len=target_len,\n",
    "                  mse_thresh=mse_thresh):\n",
    "    train_data = data[:int(0.8 * len(data))]\n",
    "    train_data, _, _ = normalization(train_data)\n",
    "    train_x, train_y = series_to_supervise(train_data, seq_len, target_len)\n",
    "    train_x_list, train_y_list, valid_x_list, valid_y_list = time_series_split(\n",
    "        train_x, train_y)\n",
    "#         with enough data\n",
    "#     train_x_list = train_x_list[-1:]\n",
    "#     train_y_list = train_y_list[-1:]\n",
    "#     valid_x_list = valid_x_list[-1:]\n",
    "#     valid_y_list = valid_y_list[-1:]\n",
    "\n",
    "    configs = model_config()\n",
    "    records = []\n",
    "    input_size = train_x.shape[2]\n",
    "    for i in range(10):\n",
    "        config = random.choice(configs)\n",
    "        configs.remove(config)\n",
    "        batch_size = config['batch_size']\n",
    "        lr = config['lr']\n",
    "        number_epoch = config['number_epoch']\n",
    "        hidden_dim = config['hidden_dim']\n",
    "        n_layers = config['n_layers']\n",
    "        drop_prob = config['drop_prob']\n",
    "        print(\n",
    "            \"model config: batch_size-{}, lr-{}, number_epoch-{}, hidden_dim-{}, n_layers-{},drop_prob-{}\"\n",
    "            .format(batch_size, lr, number_epoch, hidden_dim, n_layers,\n",
    "                    drop_prob))\n",
    "        valid_loss = train_model_hpo(\n",
    "            train_x_list,\n",
    "            train_y_list,\n",
    "            valid_x_list,\n",
    "            valid_y_list,\n",
    "            input_size,\n",
    "            seq_len,\n",
    "            target_len,\n",
    "            mse_thresh,\n",
    "            hidden_dim,\n",
    "            n_layers,\n",
    "            number_epoch,\n",
    "            batch_size,\n",
    "            lr,\n",
    "            drop_prob,\n",
    "        )\n",
    "        records.append({\n",
    "            'batch_size': batch_size,\n",
    "            'lr': lr,\n",
    "            'number_epoch': number_epoch,\n",
    "            'hidden_dim': hidden_dim,\n",
    "            'n_layers': n_layers,\n",
    "            'drop_prob': drop_prob,\n",
    "            'valid_loss': valid_loss\n",
    "        })\n",
    "    return records"
   ]
  },
  {
   "cell_type": "markdown",
   "id": "17b412de",
   "metadata": {},
   "source": [
    "## run random search"
   ]
  },
  {
   "cell_type": "code",
   "execution_count": 11,
   "id": "368186d0",
   "metadata": {
    "ExecuteTime": {
     "end_time": "2021-12-22T13:29:32.872078Z",
     "start_time": "2021-12-22T12:18:22.538816Z"
    }
   },
   "outputs": [
    {
     "name": "stdout",
     "output_type": "stream",
     "text": [
      "supervised data: shape of x: (25232, 96, 16), shape of y: (25232, 24)\n",
      "model config: batch_size-256, lr-0.05, number_epoch-40, hidden_dim-150, n_layers-3,drop_prob-0.2\n",
      "train dataset 0\n"
     ]
    },
    {
     "name": "stderr",
     "output_type": "stream",
     "text": [
      "Epoch: 1/40...: 100%|██████████| 16/16 [00:03<00:00,  4.40it/s, train_loss=0.0702, valid_loss=0.0394]\n",
      "Epoch: 2/40...: 100%|██████████| 16/16 [00:03<00:00,  4.74it/s, train_loss=0.0519, valid_loss=0.0367]\n",
      "Epoch: 3/40...: 100%|██████████| 16/16 [00:03<00:00,  4.73it/s, train_loss=0.0432, valid_loss=0.0398]\n",
      "Epoch: 4/40...: 100%|██████████| 16/16 [00:03<00:00,  4.76it/s, train_loss=0.0331, valid_loss=0.0416]\n",
      "Epoch: 5/40...: 100%|██████████| 16/16 [00:03<00:00,  4.58it/s, train_loss=0.0261, valid_loss=0.0473]\n",
      "Epoch: 6/40...: 100%|██████████| 16/16 [00:03<00:00,  4.68it/s, train_loss=0.0232, valid_loss=0.0482]\n",
      "Epoch: 7/40...: 100%|██████████| 16/16 [00:03<00:00,  4.73it/s, train_loss=0.0219, valid_loss=0.0469]\n",
      "Epoch: 8/40...: 100%|██████████| 16/16 [00:03<00:00,  4.73it/s, train_loss=0.0185, valid_loss=0.0467]\n",
      "Epoch: 9/40...: 100%|██████████| 16/16 [00:03<00:00,  4.68it/s, train_loss=0.0198, valid_loss=0.0358]\n",
      "Epoch: 10/40...: 100%|██████████| 16/16 [00:03<00:00,  4.67it/s, train_loss=0.0165, valid_loss=0.0468]\n",
      "Epoch: 11/40...: 100%|██████████| 16/16 [00:04<00:00,  3.99it/s, train_loss=0.018, valid_loss=0.0464] \n",
      "Epoch: 12/40...: 100%|██████████| 16/16 [00:04<00:00,  3.73it/s, train_loss=0.0163, valid_loss=0.0495]\n",
      "Epoch: 13/40...: 100%|██████████| 16/16 [00:04<00:00,  3.65it/s, train_loss=0.0166, valid_loss=0.042] \n",
      "Epoch: 14/40...: 100%|██████████| 16/16 [00:04<00:00,  3.69it/s, train_loss=0.0162, valid_loss=0.0495]\n"
     ]
    },
    {
     "name": "stdout",
     "output_type": "stream",
     "text": [
      "train dataset 1\n"
     ]
    },
    {
     "name": "stderr",
     "output_type": "stream",
     "text": [
      "Epoch: 1/40...: 100%|██████████| 32/32 [00:08<00:00,  3.96it/s, train_loss=0.315, valid_loss=0.0375]\n",
      "Epoch: 2/40...: 100%|██████████| 32/32 [00:08<00:00,  3.90it/s, train_loss=0.168, valid_loss=0.0282]\n",
      "Epoch: 3/40...: 100%|██████████| 32/32 [00:07<00:00,  4.50it/s, train_loss=0.069, valid_loss=0.0335] \n",
      "Epoch: 4/40...: 100%|██████████| 32/32 [00:06<00:00,  5.07it/s, train_loss=0.0358, valid_loss=0.0282]\n",
      "Epoch: 5/40...: 100%|██████████| 32/32 [00:06<00:00,  5.15it/s, train_loss=0.0286, valid_loss=0.0282]\n",
      "Epoch: 6/40...: 100%|██████████| 32/32 [00:06<00:00,  5.15it/s, train_loss=0.0285, valid_loss=0.029] \n",
      "Epoch: 7/40...: 100%|██████████| 32/32 [00:06<00:00,  5.03it/s, train_loss=0.0293, valid_loss=0.0277]\n",
      "Epoch: 8/40...: 100%|██████████| 32/32 [00:06<00:00,  5.16it/s, train_loss=0.0288, valid_loss=0.0284]\n",
      "Epoch: 9/40...: 100%|██████████| 32/32 [00:06<00:00,  5.08it/s, train_loss=0.0273, valid_loss=0.0278]\n",
      "Epoch: 10/40...: 100%|██████████| 32/32 [00:06<00:00,  5.05it/s, train_loss=0.0291, valid_loss=0.0335]\n",
      "Epoch: 11/40...: 100%|██████████| 32/32 [00:06<00:00,  5.05it/s, train_loss=0.0286, valid_loss=0.0277]\n",
      "Epoch: 12/40...: 100%|██████████| 32/32 [00:06<00:00,  5.07it/s, train_loss=0.0343, valid_loss=0.0509]\n",
      "Epoch: 13/40...: 100%|██████████| 32/32 [00:06<00:00,  5.18it/s, train_loss=0.0293, valid_loss=0.0284]\n",
      "Epoch: 14/40...: 100%|██████████| 32/32 [00:06<00:00,  5.04it/s, train_loss=0.0284, valid_loss=0.0279]\n",
      "Epoch: 15/40...: 100%|██████████| 32/32 [00:06<00:00,  5.07it/s, train_loss=0.0252, valid_loss=0.0305]\n",
      "Epoch: 16/40...: 100%|██████████| 32/32 [00:06<00:00,  5.07it/s, train_loss=0.0278, valid_loss=0.0284]\n",
      "Epoch: 17/40...: 100%|██████████| 32/32 [00:06<00:00,  5.18it/s, train_loss=0.0281, valid_loss=0.0301]\n",
      "Epoch: 18/40...: 100%|██████████| 32/32 [00:06<00:00,  5.19it/s, train_loss=0.0291, valid_loss=0.0311]\n"
     ]
    },
    {
     "name": "stdout",
     "output_type": "stream",
     "text": [
      "train dataset 2\n"
     ]
    },
    {
     "name": "stderr",
     "output_type": "stream",
     "text": [
      "Epoch: 1/40...: 100%|██████████| 49/49 [00:09<00:00,  5.26it/s, train_loss=0.0458, valid_loss=0.0378]\n",
      "Epoch: 2/40...: 100%|██████████| 49/49 [00:09<00:00,  5.31it/s, train_loss=0.0332, valid_loss=0.0404]\n",
      "Epoch: 3/40...: 100%|██████████| 49/49 [00:09<00:00,  5.32it/s, train_loss=0.0302, valid_loss=0.043] \n",
      "Epoch: 4/40...: 100%|██████████| 49/49 [00:09<00:00,  5.29it/s, train_loss=0.0282, valid_loss=0.0394]\n",
      "Epoch: 5/40...: 100%|██████████| 49/49 [00:10<00:00,  4.84it/s, train_loss=0.029, valid_loss=0.0419] \n",
      "Epoch: 6/40...: 100%|██████████| 49/49 [00:10<00:00,  4.74it/s, train_loss=0.0294, valid_loss=0.0388]\n",
      "Epoch: 7/40...: 100%|██████████| 49/49 [00:09<00:00,  5.26it/s, train_loss=0.0252, valid_loss=0.0449]\n",
      "Epoch: 8/40...: 100%|██████████| 49/49 [00:09<00:00,  5.39it/s, train_loss=0.0277, valid_loss=0.0389]\n"
     ]
    },
    {
     "name": "stdout",
     "output_type": "stream",
     "text": [
      "train dataset 3\n"
     ]
    },
    {
     "name": "stderr",
     "output_type": "stream",
     "text": [
      "Epoch: 1/40...: 100%|██████████| 65/65 [00:13<00:00,  4.90it/s, train_loss=0.0687, valid_loss=0.0379]\n",
      "Epoch: 2/40...: 100%|██████████| 65/65 [00:12<00:00,  5.40it/s, train_loss=0.0389, valid_loss=0.0342]\n",
      "Epoch: 3/40...: 100%|██████████| 65/65 [00:11<00:00,  5.42it/s, train_loss=0.0343, valid_loss=0.0342]\n",
      "Epoch: 4/40...: 100%|██████████| 65/65 [00:12<00:00,  5.37it/s, train_loss=0.0312, valid_loss=0.0401]\n",
      "Epoch: 5/40...: 100%|██████████| 65/65 [00:11<00:00,  5.43it/s, train_loss=0.0386, valid_loss=0.0367]\n",
      "Epoch: 6/40...: 100%|██████████| 65/65 [00:12<00:00,  5.09it/s, train_loss=0.0294, valid_loss=0.0459]\n",
      "Epoch: 7/40...: 100%|██████████| 65/65 [00:13<00:00,  4.80it/s, train_loss=0.0362, valid_loss=0.0342]\n",
      "Epoch: 8/40...: 100%|██████████| 65/65 [00:12<00:00,  5.09it/s, train_loss=0.0407, valid_loss=0.036] \n",
      "Epoch: 9/40...: 100%|██████████| 65/65 [00:12<00:00,  5.35it/s, train_loss=0.0296, valid_loss=0.0453]\n",
      "Epoch: 10/40...: 100%|██████████| 65/65 [00:12<00:00,  5.37it/s, train_loss=0.0318, valid_loss=0.0387]\n"
     ]
    },
    {
     "name": "stdout",
     "output_type": "stream",
     "text": [
      "train dataset 4\n"
     ]
    },
    {
     "name": "stderr",
     "output_type": "stream",
     "text": [
      "Epoch: 1/40...: 100%|██████████| 82/82 [00:15<00:00,  5.27it/s, train_loss=0.0373, valid_loss=0.0366]\n",
      "Epoch: 2/40...: 100%|██████████| 82/82 [00:15<00:00,  5.15it/s, train_loss=0.031, valid_loss=0.0353] \n",
      "Epoch: 3/40...: 100%|██████████| 82/82 [00:15<00:00,  5.25it/s, train_loss=0.0346, valid_loss=0.0353]\n",
      "Epoch: 4/40...: 100%|██████████| 82/82 [00:15<00:00,  5.26it/s, train_loss=0.0337, valid_loss=0.0355]\n",
      "Epoch: 5/40...: 100%|██████████| 82/82 [00:15<00:00,  5.15it/s, train_loss=0.0292, valid_loss=0.0393]\n",
      "Epoch: 6/40...: 100%|██████████| 82/82 [00:19<00:00,  4.14it/s, train_loss=0.0338, valid_loss=0.0351]\n",
      "Epoch: 7/40...: 100%|██████████| 82/82 [00:20<00:00,  4.05it/s, train_loss=0.0321, valid_loss=0.035] \n",
      "Epoch: 8/40...: 100%|██████████| 82/82 [00:20<00:00,  4.05it/s, train_loss=0.0296, valid_loss=0.0347]\n"
     ]
    },
    {
     "name": "stdout",
     "output_type": "stream",
     "text": [
      "model config: batch_size-256, lr-0.01, number_epoch-40, hidden_dim-150, n_layers-2,drop_prob-0.4\n",
      "train dataset 0\n"
     ]
    },
    {
     "name": "stderr",
     "output_type": "stream",
     "text": [
      "Epoch: 1/40...: 100%|██████████| 16/16 [00:03<00:00,  4.08it/s, train_loss=0.0146, valid_loss=0.0437]\n",
      "Epoch: 2/40...: 100%|██████████| 16/16 [00:03<00:00,  4.30it/s, train_loss=0.0148, valid_loss=0.0389]\n",
      "Epoch: 3/40...: 100%|██████████| 16/16 [00:03<00:00,  4.03it/s, train_loss=0.00991, valid_loss=0.0538]\n",
      "Epoch: 4/40...: 100%|██████████| 16/16 [00:03<00:00,  4.07it/s, train_loss=0.00651, valid_loss=0.0266]\n",
      "Epoch: 5/40...: 100%|██████████| 16/16 [00:03<00:00,  4.04it/s, train_loss=0.00774, valid_loss=0.0302]\n",
      "Epoch: 6/40...: 100%|██████████| 16/16 [00:03<00:00,  4.03it/s, train_loss=0.00311, valid_loss=0.0318]\n",
      "Epoch: 7/40...: 100%|██████████| 16/16 [00:03<00:00,  4.11it/s, train_loss=0.00562, valid_loss=0.0347]\n",
      "Epoch: 8/40...: 100%|██████████| 16/16 [00:04<00:00,  3.94it/s, train_loss=0.00693, valid_loss=0.0331]\n",
      "Epoch: 9/40...: 100%|██████████| 16/16 [00:03<00:00,  4.04it/s, train_loss=0.00418, valid_loss=0.038] \n",
      "Epoch: 10/40...: 100%|██████████| 16/16 [00:03<00:00,  4.10it/s, train_loss=0.00243, valid_loss=0.0586]\n",
      "Epoch: 11/40...: 100%|██████████| 16/16 [00:03<00:00,  4.02it/s, train_loss=0.00312, valid_loss=0.0592]\n",
      "Epoch: 12/40...: 100%|██████████| 16/16 [00:03<00:00,  4.02it/s, train_loss=0.00392, valid_loss=0.046] \n",
      "Epoch: 13/40...: 100%|██████████| 16/16 [00:03<00:00,  4.09it/s, train_loss=0.00255, valid_loss=0.0357]\n",
      "Epoch: 14/40...: 100%|██████████| 16/16 [00:03<00:00,  4.08it/s, train_loss=0.00204, valid_loss=0.0432]\n",
      "Epoch: 15/40...: 100%|██████████| 16/16 [00:04<00:00,  3.93it/s, train_loss=0.00219, valid_loss=0.0476]\n",
      "Epoch: 16/40...: 100%|██████████| 16/16 [00:03<00:00,  4.04it/s, train_loss=0.00207, valid_loss=0.0386]\n",
      "Epoch: 17/40...: 100%|██████████| 16/16 [00:03<00:00,  4.02it/s, train_loss=0.00102, valid_loss=0.0449]\n",
      "Epoch: 18/40...: 100%|██████████| 16/16 [00:03<00:00,  4.04it/s, train_loss=0.00261, valid_loss=0.0528]\n",
      "Epoch: 19/40...: 100%|██████████| 16/16 [00:03<00:00,  4.01it/s, train_loss=0.00195, valid_loss=0.0421]\n",
      "Epoch: 20/40...: 100%|██████████| 16/16 [00:03<00:00,  4.07it/s, train_loss=0.00172, valid_loss=0.0471]\n",
      "Epoch: 21/40...: 100%|██████████| 16/16 [00:03<00:00,  4.04it/s, train_loss=0.00115, valid_loss=0.0399] \n",
      "Epoch: 22/40...: 100%|██████████| 16/16 [00:03<00:00,  4.07it/s, train_loss=0.00162, valid_loss=0.0484] \n"
     ]
    },
    {
     "name": "stdout",
     "output_type": "stream",
     "text": [
      "train dataset 1\n"
     ]
    },
    {
     "name": "stderr",
     "output_type": "stream",
     "text": [
      "Epoch: 1/40...: 100%|██████████| 32/32 [00:06<00:00,  4.97it/s, train_loss=0.0207, valid_loss=0.0279]\n",
      "Epoch: 2/40...: 100%|██████████| 32/32 [00:07<00:00,  4.38it/s, train_loss=0.00814, valid_loss=0.0268]\n",
      "Epoch: 3/40...: 100%|██████████| 32/32 [00:07<00:00,  4.28it/s, train_loss=0.0184, valid_loss=0.0229]\n",
      "Epoch: 4/40...: 100%|██████████| 32/32 [00:07<00:00,  4.35it/s, train_loss=0.0185, valid_loss=0.0225] \n",
      "Epoch: 5/40...: 100%|██████████| 32/32 [00:05<00:00,  5.63it/s, train_loss=0.00627, valid_loss=0.0163]\n",
      "Epoch: 6/40...: 100%|██████████| 32/32 [00:05<00:00,  5.73it/s, train_loss=0.00462, valid_loss=0.0155] \n",
      "Epoch: 7/40...: 100%|██████████| 32/32 [00:05<00:00,  5.57it/s, train_loss=0.00269, valid_loss=0.00854]\n",
      "Epoch: 8/40...: 100%|██████████| 32/32 [00:05<00:00,  5.66it/s, train_loss=0.00194, valid_loss=0.00977]\n",
      "Epoch: 9/40...: 100%|██████████| 32/32 [00:05<00:00,  5.47it/s, train_loss=0.0071, valid_loss=0.0165]  \n",
      "Epoch: 10/40...: 100%|██████████| 32/32 [00:05<00:00,  5.74it/s, train_loss=0.00376, valid_loss=0.00683]\n",
      "Epoch: 11/40...: 100%|██████████| 32/32 [00:05<00:00,  5.79it/s, train_loss=0.00257, valid_loss=0.00337]\n",
      "Epoch: 12/40...: 100%|██████████| 32/32 [00:05<00:00,  5.70it/s, train_loss=0.00269, valid_loss=0.0058] \n",
      "Epoch: 13/40...: 100%|██████████| 32/32 [00:05<00:00,  5.57it/s, train_loss=0.00134, valid_loss=0.00613]\n",
      "Epoch: 14/40...: 100%|██████████| 32/32 [00:05<00:00,  5.75it/s, train_loss=0.00129, valid_loss=0.00548]\n",
      "Epoch: 15/40...: 100%|██████████| 32/32 [00:05<00:00,  5.64it/s, train_loss=0.00124, valid_loss=0.00529]\n",
      "Epoch: 16/40...: 100%|██████████| 32/32 [00:06<00:00,  5.24it/s, train_loss=0.00141, valid_loss=0.00339]\n",
      "Epoch: 17/40...: 100%|██████████| 32/32 [00:05<00:00,  5.56it/s, train_loss=0.00109, valid_loss=0.0066] \n",
      "Epoch: 18/40...: 100%|██████████| 32/32 [00:05<00:00,  5.67it/s, train_loss=0.00185, valid_loss=0.00648] \n",
      "Epoch: 19/40...: 100%|██████████| 32/32 [00:05<00:00,  5.68it/s, train_loss=0.00142, valid_loss=0.00352] \n",
      "Epoch: 20/40...: 100%|██████████| 32/32 [00:05<00:00,  5.58it/s, train_loss=0.00132, valid_loss=0.00422] \n",
      "Epoch: 21/40...: 100%|██████████| 32/32 [00:06<00:00,  5.19it/s, train_loss=0.000847, valid_loss=0.00548]\n",
      "Epoch: 22/40...: 100%|██████████| 32/32 [00:06<00:00,  5.30it/s, train_loss=0.00144, valid_loss=0.0072] \n",
      "Epoch: 23/40...: 100%|██████████| 32/32 [00:06<00:00,  5.26it/s, train_loss=0.000946, valid_loss=0.00359]\n",
      "Epoch: 24/40...: 100%|██████████| 32/32 [00:06<00:00,  5.27it/s, train_loss=0.00125, valid_loss=0.00311] \n",
      "Epoch: 25/40...: 100%|██████████| 32/32 [00:06<00:00,  5.21it/s, train_loss=0.000877, valid_loss=0.00352]\n",
      "Epoch: 26/40...: 100%|██████████| 32/32 [00:05<00:00,  5.54it/s, train_loss=0.000842, valid_loss=0.00547]\n"
     ]
    },
    {
     "name": "stdout",
     "output_type": "stream",
     "text": [
      "train dataset 2\n"
     ]
    },
    {
     "name": "stderr",
     "output_type": "stream",
     "text": [
      "Epoch: 1/40...: 100%|██████████| 49/49 [00:08<00:00,  5.99it/s, train_loss=0.023, valid_loss=0.0367] \n",
      "Epoch: 2/40...: 100%|██████████| 49/49 [00:08<00:00,  5.96it/s, train_loss=0.00936, valid_loss=0.0326]\n",
      "Epoch: 3/40...: 100%|██████████| 49/49 [00:08<00:00,  5.97it/s, train_loss=0.0273, valid_loss=0.0409] \n",
      "Epoch: 4/40...: 100%|██████████| 49/49 [00:08<00:00,  5.98it/s, train_loss=0.0258, valid_loss=0.0406]\n",
      "Epoch: 5/40...: 100%|██████████| 49/49 [00:08<00:00,  5.94it/s, train_loss=0.0267, valid_loss=0.0409]\n",
      "Epoch: 6/40...: 100%|██████████| 49/49 [00:08<00:00,  5.92it/s, train_loss=0.0282, valid_loss=0.0402]\n",
      "Epoch: 7/40...: 100%|██████████| 49/49 [00:08<00:00,  5.97it/s, train_loss=0.0243, valid_loss=0.0399]\n",
      "Epoch: 8/40...: 100%|██████████| 49/49 [00:08<00:00,  5.87it/s, train_loss=0.0269, valid_loss=0.0398]\n"
     ]
    },
    {
     "name": "stdout",
     "output_type": "stream",
     "text": [
      "train dataset 3\n"
     ]
    },
    {
     "name": "stderr",
     "output_type": "stream",
     "text": [
      "Epoch: 1/40...: 100%|██████████| 65/65 [00:10<00:00,  6.05it/s, train_loss=0.0228, valid_loss=0.0287] \n",
      "Epoch: 2/40...: 100%|██████████| 65/65 [00:10<00:00,  6.01it/s, train_loss=0.00928, valid_loss=0.00842]\n",
      "Epoch: 3/40...: 100%|██████████| 65/65 [00:10<00:00,  6.06it/s, train_loss=0.0103, valid_loss=0.0277]  \n",
      "Epoch: 4/40...: 100%|██████████| 65/65 [00:10<00:00,  5.92it/s, train_loss=0.00444, valid_loss=0.0203]\n",
      "Epoch: 5/40...: 100%|██████████| 65/65 [00:10<00:00,  5.92it/s, train_loss=0.00164, valid_loss=0.015]  \n",
      "Epoch: 6/40...: 100%|██████████| 65/65 [00:10<00:00,  6.06it/s, train_loss=0.00247, valid_loss=0.0238]\n",
      "Epoch: 7/40...: 100%|██████████| 65/65 [00:11<00:00,  5.70it/s, train_loss=0.00186, valid_loss=0.0146] \n"
     ]
    },
    {
     "name": "stdout",
     "output_type": "stream",
     "text": [
      "train dataset 4\n"
     ]
    },
    {
     "name": "stderr",
     "output_type": "stream",
     "text": [
      "Epoch: 1/40...: 100%|██████████| 82/82 [00:13<00:00,  5.90it/s, train_loss=0.0243, valid_loss=0.0328]\n",
      "Epoch: 2/40...: 100%|██████████| 82/82 [00:13<00:00,  5.89it/s, train_loss=0.0143, valid_loss=0.0132] \n",
      "Epoch: 3/40...: 100%|██████████| 82/82 [00:14<00:00,  5.83it/s, train_loss=0.00686, valid_loss=0.0111] \n",
      "Epoch: 4/40...: 100%|██████████| 82/82 [00:13<00:00,  5.88it/s, train_loss=0.00548, valid_loss=0.00445]\n",
      "Epoch: 5/40...: 100%|██████████| 82/82 [00:13<00:00,  5.89it/s, train_loss=0.00286, valid_loss=0.00444]\n",
      "Epoch: 6/40...: 100%|██████████| 82/82 [00:14<00:00,  5.85it/s, train_loss=0.00296, valid_loss=0.0101] \n",
      "Epoch: 7/40...: 100%|██████████| 82/82 [00:14<00:00,  5.77it/s, train_loss=0.00633, valid_loss=0.0059] \n",
      "Epoch: 8/40...: 100%|██████████| 82/82 [00:14<00:00,  5.81it/s, train_loss=0.00328, valid_loss=0.0061] \n",
      "Epoch: 9/40...: 100%|██████████| 82/82 [00:16<00:00,  5.06it/s, train_loss=0.00158, valid_loss=0.00358]\n",
      "Epoch: 10/40...: 100%|██████████| 82/82 [00:17<00:00,  4.79it/s, train_loss=0.00277, valid_loss=0.00682]\n",
      "Epoch: 11/40...: 100%|██████████| 82/82 [00:14<00:00,  5.60it/s, train_loss=0.00116, valid_loss=0.0023] \n",
      "Epoch: 12/40...: 100%|██████████| 82/82 [00:14<00:00,  5.85it/s, train_loss=0.00388, valid_loss=0.0051]  \n",
      "Epoch: 13/40...: 100%|██████████| 82/82 [00:14<00:00,  5.68it/s, train_loss=0.00156, valid_loss=0.00325] \n",
      "Epoch: 14/40...: 100%|██████████| 82/82 [00:14<00:00,  5.78it/s, train_loss=0.00177, valid_loss=0.00235] \n",
      "Epoch: 15/40...: 100%|██████████| 82/82 [00:14<00:00,  5.63it/s, train_loss=0.00146, valid_loss=0.0021]  \n",
      "Epoch: 16/40...: 100%|██████████| 82/82 [00:15<00:00,  5.24it/s, train_loss=0.00076, valid_loss=0.00204] \n",
      "Epoch: 17/40...: 100%|██████████| 82/82 [00:15<00:00,  5.42it/s, train_loss=0.000744, valid_loss=0.0026] \n",
      "Epoch: 18/40...: 100%|██████████| 82/82 [00:14<00:00,  5.68it/s, train_loss=0.00105, valid_loss=0.00168] \n",
      "Epoch: 19/40...: 100%|██████████| 82/82 [00:14<00:00,  5.70it/s, train_loss=0.0016, valid_loss=0.00162]  \n",
      "Epoch: 20/40...: 100%|██████████| 82/82 [00:14<00:00,  5.68it/s, train_loss=0.000728, valid_loss=0.00333]\n",
      "Epoch: 21/40...: 100%|██████████| 82/82 [00:14<00:00,  5.53it/s, train_loss=0.0005, valid_loss=0.00161]  \n",
      "Epoch: 22/40...: 100%|██████████| 82/82 [00:14<00:00,  5.52it/s, train_loss=0.000869, valid_loss=0.00184]\n",
      "Epoch: 23/40...: 100%|██████████| 82/82 [00:16<00:00,  5.03it/s, train_loss=0.000588, valid_loss=0.00319]\n"
     ]
    },
    {
     "name": "stdout",
     "output_type": "stream",
     "text": [
      "model config: batch_size-512, lr-0.05, number_epoch-40, hidden_dim-100, n_layers-3,drop_prob-0.4\n",
      "train dataset 0\n"
     ]
    },
    {
     "name": "stderr",
     "output_type": "stream",
     "text": [
      "Epoch: 1/40...: 100%|██████████| 8/8 [00:01<00:00,  5.44it/s, train_loss=0.494, valid_loss=0.911]\n",
      "Epoch: 2/40...: 100%|██████████| 8/8 [00:01<00:00,  5.43it/s, train_loss=0.0774, valid_loss=0.0423]\n",
      "Epoch: 3/40...: 100%|██████████| 8/8 [00:01<00:00,  6.05it/s, train_loss=0.0537, valid_loss=0.0485]\n",
      "Epoch: 4/40...: 100%|██████████| 8/8 [00:01<00:00,  6.31it/s, train_loss=0.0393, valid_loss=0.0513]\n",
      "Epoch: 5/40...: 100%|██████████| 8/8 [00:01<00:00,  6.49it/s, train_loss=0.0303, valid_loss=0.0332]\n",
      "Epoch: 6/40...: 100%|██████████| 8/8 [00:01<00:00,  6.34it/s, train_loss=0.0267, valid_loss=0.0506]\n",
      "Epoch: 7/40...: 100%|██████████| 8/8 [00:01<00:00,  6.01it/s, train_loss=0.0244, valid_loss=0.0347]\n",
      "Epoch: 8/40...: 100%|██████████| 8/8 [00:01<00:00,  6.38it/s, train_loss=0.0224, valid_loss=0.0435]\n",
      "Epoch: 9/40...: 100%|██████████| 8/8 [00:01<00:00,  6.47it/s, train_loss=0.0208, valid_loss=0.0381]\n",
      "Epoch: 10/40...: 100%|██████████| 8/8 [00:01<00:00,  6.43it/s, train_loss=0.0197, valid_loss=0.0397]\n",
      "Epoch: 11/40...: 100%|██████████| 8/8 [00:01<00:00,  6.43it/s, train_loss=0.0196, valid_loss=0.0409]\n",
      "Epoch: 12/40...: 100%|██████████| 8/8 [00:01<00:00,  6.39it/s, train_loss=0.0193, valid_loss=0.0381]\n",
      "Epoch: 13/40...: 100%|██████████| 8/8 [00:01<00:00,  6.44it/s, train_loss=0.0192, valid_loss=0.0402]\n",
      "Epoch: 14/40...: 100%|██████████| 8/8 [00:01<00:00,  6.35it/s, train_loss=0.0196, valid_loss=0.0403]\n",
      "Epoch: 15/40...: 100%|██████████| 8/8 [00:01<00:00,  6.32it/s, train_loss=0.0188, valid_loss=0.0391]\n",
      "Epoch: 16/40...: 100%|██████████| 8/8 [00:01<00:00,  6.20it/s, train_loss=0.0192, valid_loss=0.0402]\n",
      "Epoch: 17/40...: 100%|██████████| 8/8 [00:01<00:00,  6.24it/s, train_loss=0.0188, valid_loss=0.0393]\n",
      "Epoch: 18/40...: 100%|██████████| 8/8 [00:01<00:00,  6.39it/s, train_loss=0.0181, valid_loss=0.038] \n",
      "Epoch: 19/40...: 100%|██████████| 8/8 [00:01<00:00,  5.89it/s, train_loss=0.0193, valid_loss=0.0401]\n",
      "Epoch: 20/40...: 100%|██████████| 8/8 [00:01<00:00,  6.23it/s, train_loss=0.0182, valid_loss=0.0393]\n",
      "Epoch: 21/40...: 100%|██████████| 8/8 [00:01<00:00,  6.26it/s, train_loss=0.0182, valid_loss=0.0389]\n",
      "Epoch: 22/40...: 100%|██████████| 8/8 [00:01<00:00,  6.22it/s, train_loss=0.0172, valid_loss=0.0385]\n",
      "Epoch: 23/40...: 100%|██████████| 8/8 [00:01<00:00,  6.22it/s, train_loss=0.0174, valid_loss=0.0391]\n",
      "Epoch: 24/40...: 100%|██████████| 8/8 [00:01<00:00,  6.39it/s, train_loss=0.0175, valid_loss=0.0396]\n",
      "Epoch: 25/40...: 100%|██████████| 8/8 [00:01<00:00,  6.27it/s, train_loss=0.0176, valid_loss=0.0387]\n",
      "Epoch: 26/40...: 100%|██████████| 8/8 [00:01<00:00,  5.92it/s, train_loss=0.0175, valid_loss=0.0388]\n",
      "Epoch: 27/40...: 100%|██████████| 8/8 [00:01<00:00,  6.26it/s, train_loss=0.0185, valid_loss=0.0382]\n",
      "Epoch: 28/40...: 100%|██████████| 8/8 [00:01<00:00,  6.22it/s, train_loss=0.017, valid_loss=0.0382]\n",
      "Epoch: 29/40...: 100%|██████████| 8/8 [00:01<00:00,  6.18it/s, train_loss=0.0173, valid_loss=0.0387]\n",
      "Epoch: 30/40...: 100%|██████████| 8/8 [00:01<00:00,  6.26it/s, train_loss=0.0177, valid_loss=0.0396]\n"
     ]
    },
    {
     "name": "stdout",
     "output_type": "stream",
     "text": [
      "train dataset 1\n"
     ]
    },
    {
     "name": "stderr",
     "output_type": "stream",
     "text": [
      "Epoch: 1/40...: 100%|██████████| 16/16 [00:02<00:00,  6.29it/s, train_loss=0.083, valid_loss=0.0412] \n",
      "Epoch: 2/40...: 100%|██████████| 16/16 [00:02<00:00,  6.33it/s, train_loss=0.0604, valid_loss=0.0301]\n",
      "Epoch: 3/40...: 100%|██████████| 16/16 [00:02<00:00,  6.12it/s, train_loss=0.0462, valid_loss=0.0293]\n",
      "Epoch: 4/40...: 100%|██████████| 16/16 [00:02<00:00,  6.36it/s, train_loss=0.0429, valid_loss=0.0318]\n",
      "Epoch: 5/40...: 100%|██████████| 16/16 [00:02<00:00,  6.26it/s, train_loss=0.0401, valid_loss=0.0297]\n",
      "Epoch: 6/40...: 100%|██████████| 16/16 [00:02<00:00,  6.15it/s, train_loss=0.0348, valid_loss=0.0303]\n",
      "Epoch: 7/40...: 100%|██████████| 16/16 [00:02<00:00,  6.35it/s, train_loss=0.0322, valid_loss=0.0324]\n",
      "Epoch: 8/40...: 100%|██████████| 16/16 [00:02<00:00,  6.35it/s, train_loss=0.0316, valid_loss=0.0282]\n",
      "Epoch: 9/40...: 100%|██████████| 16/16 [00:02<00:00,  6.41it/s, train_loss=0.0328, valid_loss=0.0299]\n",
      "Epoch: 10/40...: 100%|██████████| 16/16 [00:02<00:00,  6.17it/s, train_loss=0.0273, valid_loss=0.0301]\n",
      "Epoch: 11/40...: 100%|██████████| 16/16 [00:02<00:00,  6.28it/s, train_loss=0.0293, valid_loss=0.0296]\n",
      "Epoch: 12/40...: 100%|██████████| 16/16 [00:02<00:00,  6.24it/s, train_loss=0.0292, valid_loss=0.0306]\n",
      "Epoch: 13/40...: 100%|██████████| 16/16 [00:02<00:00,  6.32it/s, train_loss=0.0283, valid_loss=0.0282]\n",
      "Epoch: 14/40...: 100%|██████████| 16/16 [00:02<00:00,  6.36it/s, train_loss=0.0279, valid_loss=0.0281]\n",
      "Epoch: 15/40...: 100%|██████████| 16/16 [00:02<00:00,  6.37it/s, train_loss=0.0275, valid_loss=0.029] \n",
      "Epoch: 16/40...: 100%|██████████| 16/16 [00:02<00:00,  6.11it/s, train_loss=0.0281, valid_loss=0.0294]\n"
     ]
    },
    {
     "name": "stdout",
     "output_type": "stream",
     "text": [
      "train dataset 2\n"
     ]
    },
    {
     "name": "stderr",
     "output_type": "stream",
     "text": [
      "Epoch: 1/40...: 100%|██████████| 24/24 [00:03<00:00,  6.97it/s, train_loss=0.258, valid_loss=0.126]\n",
      "Epoch: 2/40...: 100%|██████████| 24/24 [00:03<00:00,  6.94it/s, train_loss=0.0422, valid_loss=0.0598]\n",
      "Epoch: 3/40...: 100%|██████████| 24/24 [00:03<00:00,  6.69it/s, train_loss=0.0319, valid_loss=0.0418]\n",
      "Epoch: 4/40...: 100%|██████████| 24/24 [00:03<00:00,  6.84it/s, train_loss=0.031, valid_loss=0.0388] \n",
      "Epoch: 5/40...: 100%|██████████| 24/24 [00:03<00:00,  6.85it/s, train_loss=0.0299, valid_loss=0.0412]\n",
      "Epoch: 6/40...: 100%|██████████| 24/24 [00:03<00:00,  6.63it/s, train_loss=0.0288, valid_loss=0.0409]\n",
      "Epoch: 7/40...: 100%|██████████| 24/24 [00:03<00:00,  7.00it/s, train_loss=0.0295, valid_loss=0.0398]\n",
      "Epoch: 8/40...: 100%|██████████| 24/24 [00:03<00:00,  6.79it/s, train_loss=0.0282, valid_loss=0.0401]\n",
      "Epoch: 9/40...: 100%|██████████| 24/24 [00:03<00:00,  6.92it/s, train_loss=0.0288, valid_loss=0.0384]\n",
      "Epoch: 10/40...: 100%|██████████| 24/24 [00:03<00:00,  7.04it/s, train_loss=0.0285, valid_loss=0.0392]\n",
      "Epoch: 11/40...: 100%|██████████| 24/24 [00:03<00:00,  6.81it/s, train_loss=0.0295, valid_loss=0.0399]\n",
      "Epoch: 12/40...: 100%|██████████| 24/24 [00:03<00:00,  6.98it/s, train_loss=0.0266, valid_loss=0.0415]\n",
      "Epoch: 13/40...: 100%|██████████| 24/24 [00:03<00:00,  6.79it/s, train_loss=0.0271, valid_loss=0.0395]\n"
     ]
    },
    {
     "name": "stdout",
     "output_type": "stream",
     "text": [
      "train dataset 3\n"
     ]
    },
    {
     "name": "stderr",
     "output_type": "stream",
     "text": [
      "Epoch: 1/40...: 100%|██████████| 32/32 [00:04<00:00,  6.70it/s, train_loss=0.0842, valid_loss=0.0523]\n",
      "Epoch: 2/40...: 100%|██████████| 32/32 [00:04<00:00,  6.84it/s, train_loss=0.0422, valid_loss=0.0384]\n",
      "Epoch: 3/40...: 100%|██████████| 32/32 [00:04<00:00,  6.88it/s, train_loss=0.0348, valid_loss=0.038] \n",
      "Epoch: 4/40...: 100%|██████████| 32/32 [00:04<00:00,  6.73it/s, train_loss=0.0314, valid_loss=0.0378]\n",
      "Epoch: 5/40...: 100%|██████████| 32/32 [00:04<00:00,  6.81it/s, train_loss=0.0302, valid_loss=0.0362]\n",
      "Epoch: 6/40...: 100%|██████████| 32/32 [00:04<00:00,  6.75it/s, train_loss=0.0306, valid_loss=0.0349]\n",
      "Epoch: 7/40...: 100%|██████████| 32/32 [00:04<00:00,  6.59it/s, train_loss=0.0304, valid_loss=0.0361]\n",
      "Epoch: 8/40...: 100%|██████████| 32/32 [00:04<00:00,  6.72it/s, train_loss=0.0311, valid_loss=0.0355]\n"
     ]
    },
    {
     "name": "stdout",
     "output_type": "stream",
     "text": [
      "train dataset 4\n"
     ]
    },
    {
     "name": "stderr",
     "output_type": "stream",
     "text": [
      "Epoch: 1/40...: 100%|██████████| 41/41 [00:06<00:00,  6.73it/s, train_loss=0.0445, valid_loss=0.0372]\n",
      "Epoch: 2/40...: 100%|██████████| 41/41 [00:07<00:00,  5.82it/s, train_loss=0.0341, valid_loss=0.0366]\n",
      "Epoch: 3/40...: 100%|██████████| 41/41 [00:08<00:00,  5.10it/s, train_loss=0.0339, valid_loss=0.0349]\n",
      "Epoch: 4/40...: 100%|██████████| 41/41 [00:08<00:00,  5.10it/s, train_loss=0.0345, valid_loss=0.0356]\n",
      "Epoch: 5/40...: 100%|██████████| 41/41 [00:07<00:00,  5.16it/s, train_loss=0.0338, valid_loss=0.0352]\n",
      "Epoch: 6/40...: 100%|██████████| 41/41 [00:08<00:00,  5.01it/s, train_loss=0.0319, valid_loss=0.0345]\n",
      "Epoch: 7/40...: 100%|██████████| 41/41 [00:08<00:00,  5.09it/s, train_loss=0.0319, valid_loss=0.037] \n",
      "Epoch: 8/40...: 100%|██████████| 41/41 [00:07<00:00,  5.24it/s, train_loss=0.032, valid_loss=0.0417] \n",
      "Epoch: 9/40...: 100%|██████████| 41/41 [00:07<00:00,  5.18it/s, train_loss=0.0323, valid_loss=0.0377]\n",
      "Epoch: 10/40...: 100%|██████████| 41/41 [00:07<00:00,  5.26it/s, train_loss=0.0325, valid_loss=0.0345]\n",
      "Epoch: 11/40...: 100%|██████████| 41/41 [00:07<00:00,  5.31it/s, train_loss=0.032, valid_loss=0.0355] \n"
     ]
    },
    {
     "name": "stdout",
     "output_type": "stream",
     "text": [
      "model config: batch_size-256, lr-0.05, number_epoch-40, hidden_dim-150, n_layers-3,drop_prob-0.4\n",
      "train dataset 0\n"
     ]
    },
    {
     "name": "stderr",
     "output_type": "stream",
     "text": [
      "Epoch: 1/40...: 100%|██████████| 16/16 [00:03<00:00,  4.81it/s, train_loss=0.301, valid_loss=0.0326]\n",
      "Epoch: 2/40...: 100%|██████████| 16/16 [00:03<00:00,  4.74it/s, train_loss=0.141, valid_loss=0.0799]\n",
      "Epoch: 3/40...: 100%|██████████| 16/16 [00:03<00:00,  4.72it/s, train_loss=0.0438, valid_loss=0.0555]\n",
      "Epoch: 4/40...: 100%|██████████| 16/16 [00:03<00:00,  4.73it/s, train_loss=0.0219, valid_loss=0.0371]\n",
      "Epoch: 5/40...: 100%|██████████| 16/16 [00:03<00:00,  4.75it/s, train_loss=0.0196, valid_loss=0.0405]\n",
      "Epoch: 6/40...: 100%|██████████| 16/16 [00:03<00:00,  4.78it/s, train_loss=0.0186, valid_loss=0.0388]\n",
      "Epoch: 7/40...: 100%|██████████| 16/16 [00:03<00:00,  4.68it/s, train_loss=0.0195, valid_loss=0.039] \n",
      "Epoch: 8/40...: 100%|██████████| 16/16 [00:03<00:00,  4.82it/s, train_loss=0.0186, valid_loss=0.0387]\n",
      "Epoch: 9/40...: 100%|██████████| 16/16 [00:03<00:00,  4.85it/s, train_loss=0.0191, valid_loss=0.0389]\n",
      "Epoch: 10/40...: 100%|██████████| 16/16 [00:03<00:00,  4.85it/s, train_loss=0.0179, valid_loss=0.0411]\n",
      "Epoch: 11/40...: 100%|██████████| 16/16 [00:03<00:00,  4.81it/s, train_loss=0.0187, valid_loss=0.0407]\n",
      "Epoch: 12/40...: 100%|██████████| 16/16 [00:03<00:00,  4.78it/s, train_loss=0.0185, valid_loss=0.0363]\n",
      "Epoch: 13/40...: 100%|██████████| 16/16 [00:03<00:00,  4.50it/s, train_loss=0.0177, valid_loss=0.0365]\n",
      "Epoch: 14/40...: 100%|██████████| 16/16 [00:04<00:00,  3.62it/s, train_loss=0.0191, valid_loss=0.0363]\n"
     ]
    },
    {
     "name": "stdout",
     "output_type": "stream",
     "text": [
      "train dataset 1\n"
     ]
    },
    {
     "name": "stderr",
     "output_type": "stream",
     "text": [
      "Epoch: 1/40...: 100%|██████████| 32/32 [00:08<00:00,  3.92it/s, train_loss=0.0958, valid_loss=0.0316]\n",
      "Epoch: 2/40...: 100%|██████████| 32/32 [00:08<00:00,  3.95it/s, train_loss=0.0327, valid_loss=0.0326]\n",
      "Epoch: 3/40...: 100%|██████████| 32/32 [00:08<00:00,  4.00it/s, train_loss=0.0282, valid_loss=0.0319]\n",
      "Epoch: 4/40...: 100%|██████████| 32/32 [00:08<00:00,  3.87it/s, train_loss=0.0304, valid_loss=0.029] \n",
      "Epoch: 5/40...: 100%|██████████| 32/32 [00:08<00:00,  3.99it/s, train_loss=0.0305, valid_loss=0.0278]\n",
      "Epoch: 6/40...: 100%|██████████| 32/32 [00:08<00:00,  3.94it/s, train_loss=0.03, valid_loss=0.0302]  \n",
      "Epoch: 7/40...: 100%|██████████| 32/32 [00:07<00:00,  4.46it/s, train_loss=0.0262, valid_loss=0.0329]\n",
      "Epoch: 8/40...: 100%|██████████| 32/32 [00:08<00:00,  3.83it/s, train_loss=0.0285, valid_loss=0.029] \n",
      "Epoch: 9/40...: 100%|██████████| 32/32 [00:07<00:00,  4.01it/s, train_loss=0.0279, valid_loss=0.0285]\n",
      "Epoch: 10/40...: 100%|██████████| 32/32 [00:08<00:00,  3.92it/s, train_loss=0.0286, valid_loss=0.0282]\n",
      "Epoch: 11/40...: 100%|██████████| 32/32 [00:08<00:00,  3.98it/s, train_loss=0.0268, valid_loss=0.0279]\n",
      "Epoch: 12/40...: 100%|██████████| 32/32 [00:08<00:00,  3.93it/s, train_loss=0.0265, valid_loss=0.0277]\n",
      "Epoch: 13/40...: 100%|██████████| 32/32 [00:08<00:00,  3.94it/s, train_loss=0.027, valid_loss=0.0282] \n",
      "Epoch: 14/40...: 100%|██████████| 32/32 [00:07<00:00,  4.03it/s, train_loss=0.0259, valid_loss=0.0282]\n"
     ]
    },
    {
     "name": "stdout",
     "output_type": "stream",
     "text": [
      "train dataset 2\n"
     ]
    },
    {
     "name": "stderr",
     "output_type": "stream",
     "text": [
      "Epoch: 1/40...: 100%|██████████| 49/49 [00:11<00:00,  4.10it/s, train_loss=0.0398, valid_loss=0.0395]\n",
      "Epoch: 2/40...: 100%|██████████| 49/49 [00:11<00:00,  4.10it/s, train_loss=0.0317, valid_loss=0.0397]\n",
      "Epoch: 3/40...: 100%|██████████| 49/49 [00:10<00:00,  4.46it/s, train_loss=0.0291, valid_loss=0.0401]\n",
      "Epoch: 4/40...: 100%|██████████| 49/49 [00:09<00:00,  5.32it/s, train_loss=0.0292, valid_loss=0.038] \n",
      "Epoch: 5/40...: 100%|██████████| 49/49 [00:09<00:00,  5.29it/s, train_loss=0.0283, valid_loss=0.0391]\n",
      "Epoch: 6/40...: 100%|██████████| 49/49 [00:09<00:00,  5.26it/s, train_loss=0.0281, valid_loss=0.0376]\n",
      "Epoch: 7/40...: 100%|██████████| 49/49 [00:09<00:00,  5.25it/s, train_loss=0.0273, valid_loss=0.0447]\n"
     ]
    },
    {
     "name": "stdout",
     "output_type": "stream",
     "text": [
      "train dataset 3\n"
     ]
    },
    {
     "name": "stderr",
     "output_type": "stream",
     "text": [
      "Epoch: 1/40...: 100%|██████████| 65/65 [00:12<00:00,  5.34it/s, train_loss=0.0388, valid_loss=0.0389]\n",
      "Epoch: 2/40...: 100%|██████████| 65/65 [00:12<00:00,  5.35it/s, train_loss=0.0323, valid_loss=0.0367]\n",
      "Epoch: 3/40...: 100%|██████████| 65/65 [00:12<00:00,  5.38it/s, train_loss=0.0313, valid_loss=0.0353]\n",
      "Epoch: 4/40...: 100%|██████████| 65/65 [00:11<00:00,  5.42it/s, train_loss=0.0305, valid_loss=0.0375]\n",
      "Epoch: 5/40...: 100%|██████████| 65/65 [00:12<00:00,  5.40it/s, train_loss=0.0296, valid_loss=0.038] \n"
     ]
    },
    {
     "name": "stdout",
     "output_type": "stream",
     "text": [
      "train dataset 4\n"
     ]
    },
    {
     "name": "stderr",
     "output_type": "stream",
     "text": [
      "Epoch: 1/40...: 100%|██████████| 82/82 [00:15<00:00,  5.25it/s, train_loss=0.0382, valid_loss=0.0368]\n",
      "Epoch: 2/40...: 100%|██████████| 82/82 [00:15<00:00,  5.18it/s, train_loss=0.0312, valid_loss=0.0363]\n",
      "Epoch: 3/40...: 100%|██████████| 82/82 [00:15<00:00,  5.28it/s, train_loss=0.0308, valid_loss=0.037] \n",
      "Epoch: 4/40...: 100%|██████████| 82/82 [00:15<00:00,  5.23it/s, train_loss=0.0319, valid_loss=0.0346]\n",
      "Epoch: 5/40...: 100%|██████████| 82/82 [00:15<00:00,  5.25it/s, train_loss=0.0327, valid_loss=0.0345]\n",
      "Epoch: 6/40...: 100%|██████████| 82/82 [00:15<00:00,  5.31it/s, train_loss=0.0329, valid_loss=0.0346]\n",
      "Epoch: 7/40...: 100%|██████████| 82/82 [00:15<00:00,  5.26it/s, train_loss=0.0302, valid_loss=0.0352]\n"
     ]
    },
    {
     "name": "stdout",
     "output_type": "stream",
     "text": [
      "model config: batch_size-256, lr-0.05, number_epoch-40, hidden_dim-100, n_layers-2,drop_prob-0.2\n",
      "train dataset 0\n"
     ]
    },
    {
     "name": "stderr",
     "output_type": "stream",
     "text": [
      "Epoch: 1/40...: 100%|██████████| 16/16 [00:02<00:00,  5.42it/s, train_loss=0.0994, valid_loss=0.0363]\n",
      "Epoch: 2/40...: 100%|██████████| 16/16 [00:02<00:00,  5.35it/s, train_loss=0.0754, valid_loss=0.0488]\n",
      "Epoch: 3/40...: 100%|██████████| 16/16 [00:02<00:00,  5.35it/s, train_loss=0.0353, valid_loss=0.0499]\n",
      "Epoch: 4/40...: 100%|██████████| 16/16 [00:03<00:00,  5.22it/s, train_loss=0.0221, valid_loss=0.0408]\n",
      "Epoch: 5/40...: 100%|██████████| 16/16 [00:02<00:00,  5.39it/s, train_loss=0.0183, valid_loss=0.0366]\n",
      "Epoch: 6/40...: 100%|██████████| 16/16 [00:03<00:00,  5.30it/s, train_loss=0.0193, valid_loss=0.0386]\n",
      "Epoch: 7/40...: 100%|██████████| 16/16 [00:03<00:00,  4.95it/s, train_loss=0.0188, valid_loss=0.0398]\n",
      "Epoch: 8/40...: 100%|██████████| 16/16 [00:02<00:00,  5.38it/s, train_loss=0.02, valid_loss=0.0382] \n",
      "Epoch: 9/40...: 100%|██████████| 16/16 [00:02<00:00,  5.38it/s, train_loss=0.018, valid_loss=0.0381] \n",
      "Epoch: 10/40...: 100%|██████████| 16/16 [00:03<00:00,  5.31it/s, train_loss=0.0178, valid_loss=0.0399]\n",
      "Epoch: 11/40...: 100%|██████████| 16/16 [00:02<00:00,  5.38it/s, train_loss=0.0183, valid_loss=0.0382]\n",
      "Epoch: 12/40...: 100%|██████████| 16/16 [00:03<00:00,  5.23it/s, train_loss=0.0188, valid_loss=0.0376]\n",
      "Epoch: 13/40...: 100%|██████████| 16/16 [00:02<00:00,  5.35it/s, train_loss=0.0173, valid_loss=0.0399]\n",
      "Epoch: 14/40...: 100%|██████████| 16/16 [00:03<00:00,  4.57it/s, train_loss=0.0179, valid_loss=0.0375]\n",
      "Epoch: 15/40...: 100%|██████████| 16/16 [00:03<00:00,  5.01it/s, train_loss=0.0169, valid_loss=0.039] \n"
     ]
    },
    {
     "name": "stdout",
     "output_type": "stream",
     "text": [
      "train dataset 1\n"
     ]
    },
    {
     "name": "stderr",
     "output_type": "stream",
     "text": [
      "Epoch: 1/40...: 100%|██████████| 32/32 [00:05<00:00,  5.73it/s, train_loss=0.0352, valid_loss=0.0251]\n",
      "Epoch: 2/40...: 100%|██████████| 32/32 [00:05<00:00,  5.69it/s, train_loss=0.0263, valid_loss=0.0263]\n",
      "Epoch: 3/40...: 100%|██████████| 32/32 [00:05<00:00,  5.81it/s, train_loss=0.0188, valid_loss=0.0238]\n",
      "Epoch: 4/40...: 100%|██████████| 32/32 [00:05<00:00,  5.38it/s, train_loss=0.0309, valid_loss=0.0296]\n",
      "Epoch: 5/40...: 100%|██████████| 32/32 [00:05<00:00,  5.77it/s, train_loss=0.0308, valid_loss=0.0286]\n",
      "Epoch: 6/40...: 100%|██████████| 32/32 [00:05<00:00,  5.64it/s, train_loss=0.0155, valid_loss=0.0245]\n",
      "Epoch: 7/40...: 100%|██████████| 32/32 [00:05<00:00,  5.87it/s, train_loss=0.0179, valid_loss=0.0285] \n",
      "Epoch: 8/40...: 100%|██████████| 32/32 [00:05<00:00,  5.86it/s, train_loss=0.00939, valid_loss=0.0259]\n",
      "Epoch: 9/40...: 100%|██████████| 32/32 [00:05<00:00,  5.85it/s, train_loss=0.0102, valid_loss=0.0279]\n",
      "Epoch: 10/40...: 100%|██████████| 32/32 [00:05<00:00,  5.87it/s, train_loss=0.0092, valid_loss=0.0242]\n",
      "Epoch: 11/40...: 100%|██████████| 32/32 [00:05<00:00,  5.71it/s, train_loss=0.0205, valid_loss=0.027] \n",
      "Epoch: 12/40...: 100%|██████████| 32/32 [00:05<00:00,  5.77it/s, train_loss=0.0251, valid_loss=0.0247]\n",
      "Epoch: 13/40...: 100%|██████████| 32/32 [00:05<00:00,  5.65it/s, train_loss=0.0293, valid_loss=0.0374]\n",
      "Epoch: 14/40...: 100%|██████████| 32/32 [00:05<00:00,  5.69it/s, train_loss=0.0126, valid_loss=0.0339] \n"
     ]
    },
    {
     "name": "stdout",
     "output_type": "stream",
     "text": [
      "train dataset 2\n"
     ]
    },
    {
     "name": "stderr",
     "output_type": "stream",
     "text": [
      "Epoch: 1/40...: 100%|██████████| 49/49 [00:09<00:00,  5.19it/s, train_loss=0.0624, valid_loss=0.0398]\n",
      "Epoch: 2/40...: 100%|██████████| 49/49 [00:08<00:00,  6.12it/s, train_loss=0.0283, valid_loss=0.0387]\n",
      "Epoch: 3/40...: 100%|██████████| 49/49 [00:08<00:00,  5.94it/s, train_loss=0.0271, valid_loss=0.0399]\n",
      "Epoch: 4/40...: 100%|██████████| 49/49 [00:08<00:00,  6.05it/s, train_loss=0.0275, valid_loss=0.0399]\n",
      "Epoch: 5/40...: 100%|██████████| 49/49 [00:08<00:00,  5.92it/s, train_loss=0.0268, valid_loss=0.0397]\n",
      "Epoch: 6/40...: 100%|██████████| 49/49 [00:10<00:00,  4.62it/s, train_loss=0.0265, valid_loss=0.0445]\n",
      "Epoch: 7/40...: 100%|██████████| 49/49 [00:10<00:00,  4.88it/s, train_loss=0.0267, valid_loss=0.0404]\n"
     ]
    },
    {
     "name": "stdout",
     "output_type": "stream",
     "text": [
      "train dataset 3\n"
     ]
    },
    {
     "name": "stderr",
     "output_type": "stream",
     "text": [
      "Epoch: 1/40...: 100%|██████████| 65/65 [00:11<00:00,  5.44it/s, train_loss=0.0596, valid_loss=0.0379]\n",
      "Epoch: 2/40...: 100%|██████████| 65/65 [00:13<00:00,  4.82it/s, train_loss=0.029, valid_loss=0.0362] \n",
      "Epoch: 3/40...: 100%|██████████| 65/65 [00:11<00:00,  5.48it/s, train_loss=0.0319, valid_loss=0.0366]\n",
      "Epoch: 4/40...: 100%|██████████| 65/65 [00:14<00:00,  4.64it/s, train_loss=0.0287, valid_loss=0.0372]\n",
      "Epoch: 5/40...: 100%|██████████| 65/65 [00:13<00:00,  4.74it/s, train_loss=0.0329, valid_loss=0.0346]\n",
      "Epoch: 6/40...: 100%|██████████| 65/65 [00:14<00:00,  4.64it/s, train_loss=0.0293, valid_loss=0.0366]\n",
      "Epoch: 7/40...: 100%|██████████| 65/65 [00:13<00:00,  4.88it/s, train_loss=0.0318, valid_loss=0.0351]\n",
      "Epoch: 8/40...: 100%|██████████| 65/65 [00:13<00:00,  4.72it/s, train_loss=0.0343, valid_loss=0.0343]\n",
      "Epoch: 9/40...: 100%|██████████| 65/65 [00:14<00:00,  4.64it/s, train_loss=0.0299, valid_loss=0.0357]\n"
     ]
    },
    {
     "name": "stdout",
     "output_type": "stream",
     "text": [
      "train dataset 4\n"
     ]
    },
    {
     "name": "stderr",
     "output_type": "stream",
     "text": [
      "Epoch: 1/40...: 100%|██████████| 82/82 [00:17<00:00,  4.59it/s, train_loss=0.0383, valid_loss=0.0368]\n",
      "Epoch: 2/40...: 100%|██████████| 82/82 [00:17<00:00,  4.58it/s, train_loss=0.0333, valid_loss=0.0358]\n",
      "Epoch: 3/40...: 100%|██████████| 82/82 [00:14<00:00,  5.56it/s, train_loss=0.0305, valid_loss=0.0353]\n",
      "Epoch: 4/40...: 100%|██████████| 82/82 [00:13<00:00,  5.99it/s, train_loss=0.0307, valid_loss=0.0353]\n",
      "Epoch: 5/40...: 100%|██████████| 82/82 [00:13<00:00,  6.01it/s, train_loss=0.032, valid_loss=0.0354] \n",
      "Epoch: 6/40...: 100%|██████████| 82/82 [00:13<00:00,  5.97it/s, train_loss=0.0301, valid_loss=0.0354]\n",
      "Epoch: 7/40...: 100%|██████████| 82/82 [00:13<00:00,  6.02it/s, train_loss=0.0312, valid_loss=0.035] \n",
      "Epoch: 8/40...: 100%|██████████| 82/82 [00:13<00:00,  6.02it/s, train_loss=0.0266, valid_loss=0.0351]\n",
      "Epoch: 9/40...: 100%|██████████| 82/82 [00:13<00:00,  5.99it/s, train_loss=0.0311, valid_loss=0.035] \n",
      "Epoch: 10/40...: 100%|██████████| 82/82 [00:13<00:00,  6.01it/s, train_loss=0.0344, valid_loss=0.0354]\n"
     ]
    },
    {
     "name": "stdout",
     "output_type": "stream",
     "text": [
      "model config: batch_size-512, lr-0.1, number_epoch-40, hidden_dim-100, n_layers-3,drop_prob-0.5\n",
      "train dataset 0\n"
     ]
    },
    {
     "name": "stderr",
     "output_type": "stream",
     "text": [
      "Epoch: 1/40...: 100%|██████████| 8/8 [00:01<00:00,  6.47it/s, train_loss=0.275, valid_loss=0.121]\n",
      "Epoch: 2/40...: 100%|██████████| 8/8 [00:01<00:00,  6.31it/s, train_loss=0.7, valid_loss=0.114]   \n",
      "Epoch: 3/40...: 100%|██████████| 8/8 [00:01<00:00,  5.89it/s, train_loss=0.48, valid_loss=0.0403] \n",
      "Epoch: 4/40...: 100%|██████████| 8/8 [00:01<00:00,  6.34it/s, train_loss=0.202, valid_loss=0.0744]\n",
      "Epoch: 5/40...: 100%|██████████| 8/8 [00:01<00:00,  6.26it/s, train_loss=0.0445, valid_loss=0.0333]\n",
      "Epoch: 6/40...: 100%|██████████| 8/8 [00:01<00:00,  6.40it/s, train_loss=0.0336, valid_loss=0.0458]\n",
      "Epoch: 7/40...: 100%|██████████| 8/8 [00:01<00:00,  6.32it/s, train_loss=0.0379, valid_loss=0.0411]\n",
      "Epoch: 8/40...: 100%|██████████| 8/8 [00:01<00:00,  6.35it/s, train_loss=0.0276, valid_loss=0.0391]\n",
      "Epoch: 9/40...: 100%|██████████| 8/8 [00:01<00:00,  6.37it/s, train_loss=0.0217, valid_loss=0.0445]\n",
      "Epoch: 10/40...: 100%|██████████| 8/8 [00:01<00:00,  6.34it/s, train_loss=0.0221, valid_loss=0.0391]\n",
      "Epoch: 11/40...: 100%|██████████| 8/8 [00:01<00:00,  6.24it/s, train_loss=0.0208, valid_loss=0.041] \n",
      "Epoch: 12/40...: 100%|██████████| 8/8 [00:01<00:00,  6.25it/s, train_loss=0.0192, valid_loss=0.0413]\n",
      "Epoch: 13/40...: 100%|██████████| 8/8 [00:01<00:00,  6.30it/s, train_loss=0.0193, valid_loss=0.039] \n",
      "Epoch: 14/40...: 100%|██████████| 8/8 [00:01<00:00,  5.20it/s, train_loss=0.0183, valid_loss=0.0395]\n",
      "Epoch: 15/40...: 100%|██████████| 8/8 [00:01<00:00,  4.70it/s, train_loss=0.0182, valid_loss=0.0403]\n",
      "Epoch: 16/40...: 100%|██████████| 8/8 [00:01<00:00,  4.85it/s, train_loss=0.0182, valid_loss=0.039]\n",
      "Epoch: 17/40...: 100%|██████████| 8/8 [00:01<00:00,  4.87it/s, train_loss=0.018, valid_loss=0.0393] \n",
      "Epoch: 18/40...: 100%|██████████| 8/8 [00:01<00:00,  4.94it/s, train_loss=0.0175, valid_loss=0.0394]\n",
      "Epoch: 19/40...: 100%|██████████| 8/8 [00:01<00:00,  4.90it/s, train_loss=0.017, valid_loss=0.0392]\n",
      "Epoch: 20/40...: 100%|██████████| 8/8 [00:01<00:00,  4.93it/s, train_loss=0.0174, valid_loss=0.0377]\n",
      "Epoch: 21/40...: 100%|██████████| 8/8 [00:01<00:00,  4.97it/s, train_loss=0.0173, valid_loss=0.0378]\n",
      "Epoch: 22/40...: 100%|██████████| 8/8 [00:01<00:00,  4.56it/s, train_loss=0.0172, valid_loss=0.0396]\n",
      "Epoch: 23/40...: 100%|██████████| 8/8 [00:01<00:00,  4.81it/s, train_loss=0.0172, valid_loss=0.0394]\n",
      "Epoch: 24/40...: 100%|██████████| 8/8 [00:01<00:00,  4.88it/s, train_loss=0.018, valid_loss=0.0399] \n",
      "Epoch: 25/40...: 100%|██████████| 8/8 [00:01<00:00,  4.87it/s, train_loss=0.0175, valid_loss=0.0396]\n",
      "Epoch: 26/40...: 100%|██████████| 8/8 [00:01<00:00,  4.89it/s, train_loss=0.0177, valid_loss=0.0368]\n",
      "Epoch: 27/40...: 100%|██████████| 8/8 [00:01<00:00,  4.88it/s, train_loss=0.0168, valid_loss=0.0382]\n",
      "Epoch: 28/40...: 100%|██████████| 8/8 [00:01<00:00,  4.88it/s, train_loss=0.0171, valid_loss=0.0388]\n",
      "Epoch: 29/40...: 100%|██████████| 8/8 [00:01<00:00,  4.62it/s, train_loss=0.0165, valid_loss=0.0382]\n",
      "Epoch: 30/40...: 100%|██████████| 8/8 [00:01<00:00,  4.90it/s, train_loss=0.0174, valid_loss=0.0375]\n",
      "Epoch: 31/40...: 100%|██████████| 8/8 [00:01<00:00,  4.90it/s, train_loss=0.0165, valid_loss=0.0378]\n"
     ]
    },
    {
     "name": "stdout",
     "output_type": "stream",
     "text": [
      "train dataset 1\n"
     ]
    },
    {
     "name": "stderr",
     "output_type": "stream",
     "text": [
      "Epoch: 1/40...: 100%|██████████| 16/16 [00:03<00:00,  4.92it/s, train_loss=0.719, valid_loss=0.204]\n",
      "Epoch: 2/40...: 100%|██████████| 16/16 [00:03<00:00,  4.83it/s, train_loss=0.122, valid_loss=0.0292]\n",
      "Epoch: 3/40...: 100%|██████████| 16/16 [00:03<00:00,  4.91it/s, train_loss=0.0632, valid_loss=0.0332]\n",
      "Epoch: 4/40...: 100%|██████████| 16/16 [00:03<00:00,  4.91it/s, train_loss=0.0452, valid_loss=0.0332]\n",
      "Epoch: 5/40...: 100%|██████████| 16/16 [00:03<00:00,  4.78it/s, train_loss=0.0421, valid_loss=0.0325]\n",
      "Epoch: 6/40...: 100%|██████████| 16/16 [00:03<00:00,  4.84it/s, train_loss=0.0355, valid_loss=0.0325]\n",
      "Epoch: 7/40...: 100%|██████████| 16/16 [00:03<00:00,  4.87it/s, train_loss=0.0357, valid_loss=0.0306]\n",
      "Epoch: 8/40...: 100%|██████████| 16/16 [00:03<00:00,  4.88it/s, train_loss=0.0335, valid_loss=0.0293]\n",
      "Epoch: 9/40...: 100%|██████████| 16/16 [00:03<00:00,  4.88it/s, train_loss=0.0312, valid_loss=0.0301]\n",
      "Epoch: 10/40...: 100%|██████████| 16/16 [00:03<00:00,  4.84it/s, train_loss=0.0299, valid_loss=0.03]  \n",
      "Epoch: 11/40...: 100%|██████████| 16/16 [00:03<00:00,  4.82it/s, train_loss=0.0297, valid_loss=0.0291]\n",
      "Epoch: 12/40...: 100%|██████████| 16/16 [00:03<00:00,  4.82it/s, train_loss=0.029, valid_loss=0.0286] \n",
      "Epoch: 13/40...: 100%|██████████| 16/16 [00:03<00:00,  4.64it/s, train_loss=0.0278, valid_loss=0.0287]\n",
      "Epoch: 14/40...: 100%|██████████| 16/16 [00:03<00:00,  5.04it/s, train_loss=0.0263, valid_loss=0.029] \n",
      "Epoch: 15/40...: 100%|██████████| 16/16 [00:03<00:00,  4.88it/s, train_loss=0.027, valid_loss=0.0314] \n",
      "Epoch: 16/40...: 100%|██████████| 16/16 [00:03<00:00,  4.92it/s, train_loss=0.0258, valid_loss=0.0284]\n",
      "Epoch: 17/40...: 100%|██████████| 16/16 [00:03<00:00,  4.91it/s, train_loss=0.0264, valid_loss=0.0284]\n",
      "Epoch: 18/40...: 100%|██████████| 16/16 [00:03<00:00,  4.80it/s, train_loss=0.0271, valid_loss=0.0303]\n",
      "Epoch: 19/40...: 100%|██████████| 16/16 [00:03<00:00,  4.91it/s, train_loss=0.0266, valid_loss=0.0281]\n",
      "Epoch: 20/40...: 100%|██████████| 16/16 [00:03<00:00,  4.82it/s, train_loss=0.0261, valid_loss=0.0281]\n",
      "Epoch: 21/40...: 100%|██████████| 16/16 [00:03<00:00,  5.06it/s, train_loss=0.0259, valid_loss=0.0276]\n",
      "Epoch: 22/40...: 100%|██████████| 16/16 [00:03<00:00,  5.02it/s, train_loss=0.0259, valid_loss=0.0286]\n",
      "Epoch: 23/40...: 100%|██████████| 16/16 [00:03<00:00,  4.87it/s, train_loss=0.0268, valid_loss=0.0278]\n",
      "Epoch: 24/40...: 100%|██████████| 16/16 [00:03<00:00,  4.67it/s, train_loss=0.026, valid_loss=0.0277] \n",
      "Epoch: 25/40...: 100%|██████████| 16/16 [00:03<00:00,  4.78it/s, train_loss=0.0287, valid_loss=0.0289]\n",
      "Epoch: 26/40...: 100%|██████████| 16/16 [00:03<00:00,  4.96it/s, train_loss=0.0262, valid_loss=0.0296]\n",
      "Epoch: 27/40...: 100%|██████████| 16/16 [00:03<00:00,  4.98it/s, train_loss=0.0251, valid_loss=0.0283]\n",
      "Epoch: 28/40...: 100%|██████████| 16/16 [00:03<00:00,  4.77it/s, train_loss=0.0259, valid_loss=0.0294]\n",
      "Epoch: 29/40...: 100%|██████████| 16/16 [00:03<00:00,  4.70it/s, train_loss=0.0277, valid_loss=0.028] \n",
      "Epoch: 30/40...: 100%|██████████| 16/16 [00:02<00:00,  5.51it/s, train_loss=0.0259, valid_loss=0.0278]\n",
      "Epoch: 31/40...: 100%|██████████| 16/16 [00:02<00:00,  6.12it/s, train_loss=0.0259, valid_loss=0.0295]\n",
      "Epoch: 32/40...: 100%|██████████| 16/16 [00:02<00:00,  6.12it/s, train_loss=0.0272, valid_loss=0.0286]\n",
      "Epoch: 33/40...: 100%|██████████| 16/16 [00:02<00:00,  6.16it/s, train_loss=0.0269, valid_loss=0.0281]\n",
      "Epoch: 34/40...: 100%|██████████| 16/16 [00:02<00:00,  6.12it/s, train_loss=0.0259, valid_loss=0.0287]\n"
     ]
    },
    {
     "name": "stdout",
     "output_type": "stream",
     "text": [
      "train dataset 2\n"
     ]
    },
    {
     "name": "stderr",
     "output_type": "stream",
     "text": [
      "Epoch: 1/40...: 100%|██████████| 24/24 [00:03<00:00,  6.50it/s, train_loss=0.264, valid_loss=0.0389]\n",
      "Epoch: 2/40...: 100%|██████████| 24/24 [00:03<00:00,  6.67it/s, train_loss=0.0493, valid_loss=0.0474]\n",
      "Epoch: 3/40...: 100%|██████████| 24/24 [00:03<00:00,  6.73it/s, train_loss=0.0386, valid_loss=0.0459]\n",
      "Epoch: 4/40...: 100%|██████████| 24/24 [00:03<00:00,  6.58it/s, train_loss=0.0349, valid_loss=0.0428]\n",
      "Epoch: 5/40...: 100%|██████████| 24/24 [00:03<00:00,  6.74it/s, train_loss=0.0333, valid_loss=0.0407]\n",
      "Epoch: 6/40...: 100%|██████████| 24/24 [00:03<00:00,  6.26it/s, train_loss=0.0294, valid_loss=0.0419]\n",
      "Epoch: 7/40...: 100%|██████████| 24/24 [00:03<00:00,  6.38it/s, train_loss=0.0275, valid_loss=0.041] \n",
      "Epoch: 8/40...: 100%|██████████| 24/24 [00:03<00:00,  6.59it/s, train_loss=0.0282, valid_loss=0.0415]\n",
      "Epoch: 9/40...: 100%|██████████| 24/24 [00:03<00:00,  6.48it/s, train_loss=0.0281, valid_loss=0.0402]\n",
      "Epoch: 10/40...: 100%|██████████| 24/24 [00:03<00:00,  6.67it/s, train_loss=0.027, valid_loss=0.0406] \n",
      "Epoch: 11/40...: 100%|██████████| 24/24 [00:03<00:00,  6.57it/s, train_loss=0.0291, valid_loss=0.0392]\n",
      "Epoch: 12/40...: 100%|██████████| 24/24 [00:03<00:00,  6.48it/s, train_loss=0.0266, valid_loss=0.04]  \n",
      "Epoch: 13/40...: 100%|██████████| 24/24 [00:03<00:00,  6.54it/s, train_loss=0.0269, valid_loss=0.0419]\n",
      "Epoch: 14/40...: 100%|██████████| 24/24 [00:03<00:00,  6.62it/s, train_loss=0.0252, valid_loss=0.0394]\n",
      "Epoch: 15/40...: 100%|██████████| 24/24 [00:03<00:00,  6.03it/s, train_loss=0.026, valid_loss=0.0398] \n",
      "Epoch: 16/40...: 100%|██████████| 24/24 [00:03<00:00,  6.56it/s, train_loss=0.0258, valid_loss=0.0411]\n",
      "Epoch: 17/40...: 100%|██████████| 24/24 [00:03<00:00,  6.56it/s, train_loss=0.0267, valid_loss=0.0432]\n"
     ]
    },
    {
     "name": "stdout",
     "output_type": "stream",
     "text": [
      "train dataset 3\n"
     ]
    },
    {
     "name": "stderr",
     "output_type": "stream",
     "text": [
      "Epoch: 1/40...: 100%|██████████| 32/32 [00:05<00:00,  6.36it/s, train_loss=0.105, valid_loss=0.0943] \n",
      "Epoch: 2/40...: 100%|██████████| 32/32 [00:04<00:00,  6.47it/s, train_loss=0.0511, valid_loss=0.0342]\n",
      "Epoch: 3/40...: 100%|██████████| 32/32 [00:04<00:00,  6.42it/s, train_loss=0.0459, valid_loss=0.0347]\n",
      "Epoch: 4/40...: 100%|██████████| 32/32 [00:04<00:00,  6.41it/s, train_loss=0.0407, valid_loss=0.0364]\n",
      "Epoch: 5/40...: 100%|██████████| 32/32 [00:04<00:00,  6.56it/s, train_loss=0.0369, valid_loss=0.0342]\n",
      "Epoch: 6/40...: 100%|██████████| 32/32 [00:04<00:00,  6.53it/s, train_loss=0.0322, valid_loss=0.0388]\n",
      "Epoch: 7/40...: 100%|██████████| 32/32 [00:05<00:00,  6.34it/s, train_loss=0.0327, valid_loss=0.0369]\n",
      "Epoch: 8/40...: 100%|██████████| 32/32 [00:04<00:00,  6.45it/s, train_loss=0.0303, valid_loss=0.0356]\n",
      "Epoch: 9/40...: 100%|██████████| 32/32 [00:04<00:00,  6.42it/s, train_loss=0.0306, valid_loss=0.0364]\n",
      "Epoch: 10/40...: 100%|██████████| 32/32 [00:04<00:00,  6.51it/s, train_loss=0.0303, valid_loss=0.0376]\n"
     ]
    },
    {
     "name": "stdout",
     "output_type": "stream",
     "text": [
      "train dataset 4\n"
     ]
    },
    {
     "name": "stderr",
     "output_type": "stream",
     "text": [
      "Epoch: 1/40...: 100%|██████████| 41/41 [00:06<00:00,  6.48it/s, train_loss=0.0894, valid_loss=0.0375]\n",
      "Epoch: 2/40...: 100%|██████████| 41/41 [00:06<00:00,  6.47it/s, train_loss=0.0347, valid_loss=0.0369]\n",
      "Epoch: 3/40...: 100%|██████████| 41/41 [00:06<00:00,  6.40it/s, train_loss=0.0312, valid_loss=0.0354]\n",
      "Epoch: 4/40...: 100%|██████████| 41/41 [00:06<00:00,  6.23it/s, train_loss=0.0302, valid_loss=0.0354]\n",
      "Epoch: 5/40...: 100%|██████████| 41/41 [00:06<00:00,  6.35it/s, train_loss=0.0319, valid_loss=0.0352]\n",
      "Epoch: 6/40...: 100%|██████████| 41/41 [00:06<00:00,  6.52it/s, train_loss=0.0294, valid_loss=0.0352]\n",
      "Epoch: 7/40...: 100%|██████████| 41/41 [00:06<00:00,  6.48it/s, train_loss=0.0323, valid_loss=0.0352]\n",
      "Epoch: 8/40...: 100%|██████████| 41/41 [00:06<00:00,  6.57it/s, train_loss=0.0304, valid_loss=0.0351]\n",
      "Epoch: 9/40...: 100%|██████████| 41/41 [00:06<00:00,  6.48it/s, train_loss=0.0313, valid_loss=0.0353]\n",
      "Epoch: 10/40...: 100%|██████████| 41/41 [00:06<00:00,  6.21it/s, train_loss=0.0315, valid_loss=0.0352]\n",
      "Epoch: 11/40...: 100%|██████████| 41/41 [00:06<00:00,  6.61it/s, train_loss=0.0328, valid_loss=0.0352]\n",
      "Epoch: 12/40...: 100%|██████████| 41/41 [00:06<00:00,  6.42it/s, train_loss=0.0313, valid_loss=0.0351]\n",
      "Epoch: 13/40...: 100%|██████████| 41/41 [00:06<00:00,  6.43it/s, train_loss=0.0312, valid_loss=0.0354]\n",
      "Epoch: 14/40...: 100%|██████████| 41/41 [00:06<00:00,  6.45it/s, train_loss=0.0318, valid_loss=0.035] \n",
      "Epoch: 15/40...: 100%|██████████| 41/41 [00:07<00:00,  5.65it/s, train_loss=0.0294, valid_loss=0.0352]\n",
      "Epoch: 16/40...: 100%|██████████| 41/41 [00:08<00:00,  4.94it/s, train_loss=0.0313, valid_loss=0.035] \n",
      "Epoch: 17/40...: 100%|██████████| 41/41 [00:07<00:00,  5.18it/s, train_loss=0.0318, valid_loss=0.0354]\n",
      "Epoch: 18/40...: 100%|██████████| 41/41 [00:07<00:00,  5.82it/s, train_loss=0.0315, valid_loss=0.0353]\n",
      "Epoch: 19/40...: 100%|██████████| 41/41 [00:06<00:00,  6.31it/s, train_loss=0.0327, valid_loss=0.0351]\n",
      "Epoch: 20/40...: 100%|██████████| 41/41 [00:06<00:00,  6.46it/s, train_loss=0.0324, valid_loss=0.0349]\n",
      "Epoch: 21/40...: 100%|██████████| 41/41 [00:06<00:00,  6.26it/s, train_loss=0.0307, valid_loss=0.0352]\n",
      "Epoch: 22/40...: 100%|██████████| 41/41 [00:06<00:00,  6.28it/s, train_loss=0.0309, valid_loss=0.035] \n",
      "Epoch: 23/40...: 100%|██████████| 41/41 [00:06<00:00,  6.39it/s, train_loss=0.0309, valid_loss=0.0352]\n",
      "Epoch: 24/40...: 100%|██████████| 41/41 [00:06<00:00,  6.38it/s, train_loss=0.0314, valid_loss=0.0351]\n",
      "Epoch: 25/40...: 100%|██████████| 41/41 [00:06<00:00,  6.33it/s, train_loss=0.0309, valid_loss=0.0352]\n",
      "Epoch: 26/40...: 100%|██████████| 41/41 [00:06<00:00,  6.49it/s, train_loss=0.0313, valid_loss=0.0352]\n",
      "Epoch: 27/40...: 100%|██████████| 41/41 [00:06<00:00,  6.30it/s, train_loss=0.0302, valid_loss=0.0352]\n",
      "Epoch: 28/40...: 100%|██████████| 41/41 [00:06<00:00,  6.57it/s, train_loss=0.0298, valid_loss=0.0354]\n",
      "Epoch: 29/40...: 100%|██████████| 41/41 [00:07<00:00,  5.68it/s, train_loss=0.0306, valid_loss=0.0352]\n",
      "Epoch: 30/40...: 100%|██████████| 41/41 [00:06<00:00,  6.46it/s, train_loss=0.031, valid_loss=0.0351] \n",
      "Epoch: 31/40...: 100%|██████████| 41/41 [00:06<00:00,  6.55it/s, train_loss=0.0293, valid_loss=0.0353]\n",
      "Epoch: 32/40...: 100%|██████████| 41/41 [00:06<00:00,  6.46it/s, train_loss=0.0317, valid_loss=0.0348]\n",
      "Epoch: 33/40...: 100%|██████████| 41/41 [00:06<00:00,  6.38it/s, train_loss=0.0342, valid_loss=0.0352]\n",
      "Epoch: 34/40...: 100%|██████████| 41/41 [00:06<00:00,  6.52it/s, train_loss=0.0317, valid_loss=0.0352]\n",
      "Epoch: 35/40...: 100%|██████████| 41/41 [00:06<00:00,  6.37it/s, train_loss=0.0294, valid_loss=0.0353]\n",
      "Epoch: 36/40...: 100%|██████████| 41/41 [00:06<00:00,  6.40it/s, train_loss=0.032, valid_loss=0.0353] \n"
     ]
    },
    {
     "name": "stdout",
     "output_type": "stream",
     "text": [
      "model config: batch_size-512, lr-0.1, number_epoch-40, hidden_dim-100, n_layers-1,drop_prob-0.4\n",
      "train dataset 0\n"
     ]
    },
    {
     "name": "stderr",
     "output_type": "stream",
     "text": [
      "Epoch: 1/40...: 100%|██████████| 8/8 [00:00<00:00,  8.38it/s, train_loss=13.3, valid_loss=7.11] \n",
      "Epoch: 2/40...: 100%|██████████| 8/8 [00:00<00:00,  8.37it/s, train_loss=1.04, valid_loss=0.798]\n",
      "Epoch: 3/40...: 100%|██████████| 8/8 [00:00<00:00,  8.15it/s, train_loss=2.35, valid_loss=1.74]\n",
      "Epoch: 4/40...: 100%|██████████| 8/8 [00:00<00:00,  8.26it/s, train_loss=1.2, valid_loss=0.225]  \n",
      "Epoch: 5/40...: 100%|██████████| 8/8 [00:01<00:00,  7.92it/s, train_loss=0.401, valid_loss=0.396]\n",
      "Epoch: 6/40...: 100%|██████████| 8/8 [00:00<00:00,  8.00it/s, train_loss=0.301, valid_loss=0.0479]\n",
      "Epoch: 7/40...: 100%|██████████| 8/8 [00:01<00:00,  7.74it/s, train_loss=0.0932, valid_loss=0.0657]\n",
      "Epoch: 8/40...: 100%|██████████| 8/8 [00:00<00:00,  8.10it/s, train_loss=0.0342, valid_loss=0.0346]\n",
      "Epoch: 9/40...: 100%|██████████| 8/8 [00:00<00:00,  8.12it/s, train_loss=0.0342, valid_loss=0.0599]\n",
      "Epoch: 10/40...: 100%|██████████| 8/8 [00:00<00:00,  8.03it/s, train_loss=0.0234, valid_loss=0.0566]\n",
      "Epoch: 11/40...: 100%|██████████| 8/8 [00:00<00:00,  8.03it/s, train_loss=0.0196, valid_loss=0.0459]\n",
      "Epoch: 12/40...: 100%|██████████| 8/8 [00:01<00:00,  6.54it/s, train_loss=0.02, valid_loss=0.0403]  \n",
      "Epoch: 13/40...: 100%|██████████| 8/8 [00:01<00:00,  7.94it/s, train_loss=0.0187, valid_loss=0.0389]\n",
      "Epoch: 14/40...: 100%|██████████| 8/8 [00:00<00:00,  8.10it/s, train_loss=0.0185, valid_loss=0.0389]\n",
      "Epoch: 15/40...: 100%|██████████| 8/8 [00:00<00:00,  8.16it/s, train_loss=0.018, valid_loss=0.0389] \n",
      "Epoch: 16/40...: 100%|██████████| 8/8 [00:00<00:00,  8.16it/s, train_loss=0.0184, valid_loss=0.039] \n",
      "Epoch: 17/40...: 100%|██████████| 8/8 [00:01<00:00,  7.92it/s, train_loss=0.0193, valid_loss=0.0401]\n",
      "Epoch: 18/40...: 100%|██████████| 8/8 [00:01<00:00,  7.87it/s, train_loss=0.0184, valid_loss=0.0411]\n",
      "Epoch: 19/40...: 100%|██████████| 8/8 [00:00<00:00,  8.10it/s, train_loss=0.0182, valid_loss=0.0417]\n",
      "Epoch: 20/40...: 100%|██████████| 8/8 [00:00<00:00,  8.00it/s, train_loss=0.0182, valid_loss=0.0431]\n",
      "Epoch: 21/40...: 100%|██████████| 8/8 [00:01<00:00,  7.97it/s, train_loss=0.0186, valid_loss=0.0414]\n",
      "Epoch: 22/40...: 100%|██████████| 8/8 [00:01<00:00,  7.98it/s, train_loss=0.0174, valid_loss=0.0416]\n",
      "Epoch: 23/40...: 100%|██████████| 8/8 [00:01<00:00,  7.98it/s, train_loss=0.0188, valid_loss=0.0404]\n",
      "Epoch: 24/40...: 100%|██████████| 8/8 [00:01<00:00,  7.35it/s, train_loss=0.0179, valid_loss=0.0385]\n",
      "Epoch: 25/40...: 100%|██████████| 8/8 [00:00<00:00,  8.10it/s, train_loss=0.0182, valid_loss=0.0378]\n",
      "Epoch: 26/40...: 100%|██████████| 8/8 [00:00<00:00,  8.13it/s, train_loss=0.0179, valid_loss=0.0401]\n",
      "Epoch: 27/40...: 100%|██████████| 8/8 [00:00<00:00,  8.07it/s, train_loss=0.0178, valid_loss=0.0386]\n",
      "Epoch: 28/40...: 100%|██████████| 8/8 [00:01<00:00,  7.93it/s, train_loss=0.0182, valid_loss=0.0387]\n",
      "Epoch: 29/40...: 100%|██████████| 8/8 [00:01<00:00,  6.91it/s, train_loss=0.0184, valid_loss=0.0384]\n",
      "Epoch: 30/40...: 100%|██████████| 8/8 [00:00<00:00,  8.07it/s, train_loss=0.0183, valid_loss=0.0392]\n",
      "Epoch: 31/40...: 100%|██████████| 8/8 [00:00<00:00,  8.06it/s, train_loss=0.0173, valid_loss=0.039] \n",
      "Epoch: 32/40...: 100%|██████████| 8/8 [00:00<00:00,  8.01it/s, train_loss=0.0173, valid_loss=0.04]  \n",
      "Epoch: 33/40...: 100%|██████████| 8/8 [00:00<00:00,  8.07it/s, train_loss=0.0171, valid_loss=0.0391]\n",
      "Epoch: 34/40...: 100%|██████████| 8/8 [00:01<00:00,  7.99it/s, train_loss=0.0178, valid_loss=0.0396]\n",
      "Epoch: 35/40...: 100%|██████████| 8/8 [00:00<00:00,  8.09it/s, train_loss=0.0184, valid_loss=0.0396]\n"
     ]
    },
    {
     "name": "stdout",
     "output_type": "stream",
     "text": [
      "train dataset 1\n"
     ]
    },
    {
     "name": "stderr",
     "output_type": "stream",
     "text": [
      "Epoch: 1/40...: 100%|██████████| 16/16 [00:02<00:00,  7.72it/s, train_loss=2.08, valid_loss=2.46]\n",
      "Epoch: 2/40...: 100%|██████████| 16/16 [00:01<00:00,  8.10it/s, train_loss=0.239, valid_loss=0.0752]\n",
      "Epoch: 3/40...: 100%|██████████| 16/16 [00:02<00:00,  7.99it/s, train_loss=0.0929, valid_loss=0.0299]\n",
      "Epoch: 4/40...: 100%|██████████| 16/16 [00:02<00:00,  7.86it/s, train_loss=0.0285, valid_loss=0.0293]\n",
      "Epoch: 5/40...: 100%|██████████| 16/16 [00:01<00:00,  8.20it/s, train_loss=0.0285, valid_loss=0.0362]\n",
      "Epoch: 6/40...: 100%|██████████| 16/16 [00:01<00:00,  8.17it/s, train_loss=0.0278, valid_loss=0.0294]\n",
      "Epoch: 7/40...: 100%|██████████| 16/16 [00:01<00:00,  8.04it/s, train_loss=0.0285, valid_loss=0.0286]\n",
      "Epoch: 8/40...: 100%|██████████| 16/16 [00:02<00:00,  7.60it/s, train_loss=0.0261, valid_loss=0.0282]\n",
      "Epoch: 9/40...: 100%|██████████| 16/16 [00:02<00:00,  7.91it/s, train_loss=0.026, valid_loss=0.0293] \n",
      "Epoch: 10/40...: 100%|██████████| 16/16 [00:02<00:00,  7.94it/s, train_loss=0.0264, valid_loss=0.029] \n",
      "Epoch: 11/40...: 100%|██████████| 16/16 [00:02<00:00,  7.89it/s, train_loss=0.0274, valid_loss=0.0285]\n",
      "Epoch: 12/40...: 100%|██████████| 16/16 [00:02<00:00,  7.87it/s, train_loss=0.0266, valid_loss=0.0281]\n",
      "Epoch: 13/40...: 100%|██████████| 16/16 [00:02<00:00,  7.94it/s, train_loss=0.0264, valid_loss=0.0285]\n",
      "Epoch: 14/40...: 100%|██████████| 16/16 [00:02<00:00,  7.27it/s, train_loss=0.0271, valid_loss=0.029] \n",
      "Epoch: 15/40...: 100%|██████████| 16/16 [00:02<00:00,  7.19it/s, train_loss=0.0266, valid_loss=0.0279]\n",
      "Epoch: 16/40...: 100%|██████████| 16/16 [00:02<00:00,  7.98it/s, train_loss=0.028, valid_loss=0.0313] \n",
      "Epoch: 17/40...: 100%|██████████| 16/16 [00:01<00:00,  8.01it/s, train_loss=0.0256, valid_loss=0.029] \n",
      "Epoch: 18/40...: 100%|██████████| 16/16 [00:01<00:00,  8.17it/s, train_loss=0.0269, valid_loss=0.0294]\n",
      "Epoch: 19/40...: 100%|██████████| 16/16 [00:02<00:00,  7.99it/s, train_loss=0.0269, valid_loss=0.0282]\n",
      "Epoch: 20/40...: 100%|██████████| 16/16 [00:02<00:00,  7.70it/s, train_loss=0.0255, valid_loss=0.0306]\n",
      "Epoch: 21/40...: 100%|██████████| 16/16 [00:02<00:00,  7.91it/s, train_loss=0.0269, valid_loss=0.0278]\n",
      "Epoch: 22/40...: 100%|██████████| 16/16 [00:02<00:00,  7.83it/s, train_loss=0.0257, valid_loss=0.0285]\n",
      "Epoch: 23/40...: 100%|██████████| 16/16 [00:01<00:00,  8.10it/s, train_loss=0.0259, valid_loss=0.0286]\n",
      "Epoch: 24/40...: 100%|██████████| 16/16 [00:01<00:00,  8.16it/s, train_loss=0.0271, valid_loss=0.0302]\n",
      "Epoch: 25/40...: 100%|██████████| 16/16 [00:01<00:00,  8.17it/s, train_loss=0.0263, valid_loss=0.0287]\n",
      "Epoch: 26/40...: 100%|██████████| 16/16 [00:02<00:00,  7.82it/s, train_loss=0.0279, valid_loss=0.0289]\n",
      "Epoch: 27/40...: 100%|██████████| 16/16 [00:01<00:00,  8.13it/s, train_loss=0.0254, valid_loss=0.0294]\n",
      "Epoch: 28/40...: 100%|██████████| 16/16 [00:02<00:00,  7.88it/s, train_loss=0.025, valid_loss=0.0285] \n",
      "Epoch: 29/40...: 100%|██████████| 16/16 [00:02<00:00,  7.89it/s, train_loss=0.0277, valid_loss=0.0287]\n",
      "Epoch: 30/40...: 100%|██████████| 16/16 [00:02<00:00,  7.90it/s, train_loss=0.0255, valid_loss=0.0309]\n",
      "Epoch: 31/40...: 100%|██████████| 16/16 [00:01<00:00,  8.05it/s, train_loss=0.027, valid_loss=0.0311]\n",
      "Epoch: 32/40...: 100%|██████████| 16/16 [00:02<00:00,  7.83it/s, train_loss=0.0265, valid_loss=0.0295]\n",
      "Epoch: 33/40...: 100%|██████████| 16/16 [00:01<00:00,  8.08it/s, train_loss=0.0266, valid_loss=0.0291]\n",
      "Epoch: 34/40...: 100%|██████████| 16/16 [00:01<00:00,  8.09it/s, train_loss=0.0252, valid_loss=0.0277]\n",
      "Epoch: 35/40...: 100%|██████████| 16/16 [00:01<00:00,  8.13it/s, train_loss=0.0271, valid_loss=0.028] \n",
      "Epoch: 36/40...: 100%|██████████| 16/16 [00:01<00:00,  8.07it/s, train_loss=0.0274, valid_loss=0.028] \n",
      "Epoch: 37/40...: 100%|██████████| 16/16 [00:01<00:00,  8.01it/s, train_loss=0.0252, valid_loss=0.028] \n",
      "Epoch: 38/40...: 100%|██████████| 16/16 [00:02<00:00,  7.52it/s, train_loss=0.0256, valid_loss=0.0277]\n",
      "Epoch: 39/40...: 100%|██████████| 16/16 [00:02<00:00,  7.97it/s, train_loss=0.0255, valid_loss=0.029] \n",
      "Epoch: 40/40...: 100%|██████████| 16/16 [00:01<00:00,  8.00it/s, train_loss=0.0272, valid_loss=0.0282]\n"
     ]
    },
    {
     "name": "stdout",
     "output_type": "stream",
     "text": [
      "train dataset 2\n"
     ]
    },
    {
     "name": "stderr",
     "output_type": "stream",
     "text": [
      "Epoch: 1/40...: 100%|██████████| 24/24 [00:02<00:00,  8.94it/s, train_loss=1.67, valid_loss=1.42]\n",
      "Epoch: 2/40...: 100%|██████████| 24/24 [00:02<00:00,  8.64it/s, train_loss=0.114, valid_loss=0.0434]\n",
      "Epoch: 3/40...: 100%|██████████| 24/24 [00:02<00:00,  8.89it/s, train_loss=0.0376, valid_loss=0.039] \n",
      "Epoch: 4/40...: 100%|██████████| 24/24 [00:02<00:00,  8.91it/s, train_loss=0.0299, valid_loss=0.0457]\n",
      "Epoch: 5/40...: 100%|██████████| 24/24 [00:02<00:00,  8.58it/s, train_loss=0.0272, valid_loss=0.0423]\n",
      "Epoch: 6/40...: 100%|██████████| 24/24 [00:02<00:00,  8.41it/s, train_loss=0.0286, valid_loss=0.0404]\n",
      "Epoch: 7/40...: 100%|██████████| 24/24 [00:02<00:00,  8.67it/s, train_loss=0.0293, valid_loss=0.0421]\n",
      "Epoch: 8/40...: 100%|██████████| 24/24 [00:02<00:00,  8.47it/s, train_loss=0.0289, valid_loss=0.0393]\n",
      "Epoch: 9/40...: 100%|██████████| 24/24 [00:02<00:00,  8.68it/s, train_loss=0.0276, valid_loss=0.0392]\n",
      "Epoch: 10/40...: 100%|██████████| 24/24 [00:02<00:00,  8.54it/s, train_loss=0.0269, valid_loss=0.0398]\n",
      "Epoch: 11/40...: 100%|██████████| 24/24 [00:02<00:00,  8.58it/s, train_loss=0.0264, valid_loss=0.0389]\n",
      "Epoch: 12/40...: 100%|██████████| 24/24 [00:02<00:00,  8.11it/s, train_loss=0.0277, valid_loss=0.0411]\n"
     ]
    },
    {
     "name": "stdout",
     "output_type": "stream",
     "text": [
      "train dataset 3\n"
     ]
    },
    {
     "name": "stderr",
     "output_type": "stream",
     "text": [
      "Epoch: 1/40...: 100%|██████████| 32/32 [00:03<00:00,  8.54it/s, train_loss=0.513, valid_loss=0.0374]\n",
      "Epoch: 2/40...: 100%|██████████| 32/32 [00:03<00:00,  8.64it/s, train_loss=0.046, valid_loss=0.0348] \n",
      "Epoch: 3/40...: 100%|██████████| 32/32 [00:03<00:00,  8.58it/s, train_loss=0.0337, valid_loss=0.037] \n",
      "Epoch: 4/40...: 100%|██████████| 32/32 [00:03<00:00,  8.34it/s, train_loss=0.0326, valid_loss=0.0357]\n",
      "Epoch: 5/40...: 100%|██████████| 32/32 [00:03<00:00,  8.69it/s, train_loss=0.0341, valid_loss=0.0364]\n",
      "Epoch: 6/40...: 100%|██████████| 32/32 [00:03<00:00,  8.66it/s, train_loss=0.0316, valid_loss=0.0355]\n",
      "Epoch: 7/40...: 100%|██████████| 32/32 [00:03<00:00,  8.31it/s, train_loss=0.0307, valid_loss=0.0358]\n",
      "Epoch: 8/40...: 100%|██████████| 32/32 [00:03<00:00,  8.45it/s, train_loss=0.0295, valid_loss=0.0352]\n",
      "Epoch: 9/40...: 100%|██████████| 32/32 [00:04<00:00,  7.85it/s, train_loss=0.0308, valid_loss=0.0353]\n",
      "Epoch: 10/40...: 100%|██████████| 32/32 [00:03<00:00,  8.42it/s, train_loss=0.031, valid_loss=0.0343] \n",
      "Epoch: 11/40...: 100%|██████████| 32/32 [00:03<00:00,  8.58it/s, train_loss=0.0301, valid_loss=0.0366]\n",
      "Epoch: 12/40...: 100%|██████████| 32/32 [00:03<00:00,  8.38it/s, train_loss=0.0304, valid_loss=0.0356]\n",
      "Epoch: 13/40...: 100%|██████████| 32/32 [00:03<00:00,  8.42it/s, train_loss=0.0311, valid_loss=0.0341]\n",
      "Epoch: 14/40...: 100%|██████████| 32/32 [00:03<00:00,  8.42it/s, train_loss=0.0314, valid_loss=0.0351]\n",
      "Epoch: 15/40...: 100%|██████████| 32/32 [00:03<00:00,  8.49it/s, train_loss=0.0299, valid_loss=0.0364]\n",
      "Epoch: 16/40...: 100%|██████████| 32/32 [00:03<00:00,  8.38it/s, train_loss=0.0282, valid_loss=0.0399]\n",
      "Epoch: 17/40...: 100%|██████████| 32/32 [00:03<00:00,  8.49it/s, train_loss=0.0303, valid_loss=0.0371]\n",
      "Epoch: 18/40...: 100%|██████████| 32/32 [00:03<00:00,  8.34it/s, train_loss=0.03, valid_loss=0.0344]  \n",
      "Epoch: 19/40...: 100%|██████████| 32/32 [00:03<00:00,  8.51it/s, train_loss=0.0317, valid_loss=0.035] \n",
      "Epoch: 20/40...: 100%|██████████| 32/32 [00:03<00:00,  8.21it/s, train_loss=0.031, valid_loss=0.0344] \n",
      "Epoch: 21/40...: 100%|██████████| 32/32 [00:03<00:00,  8.43it/s, train_loss=0.0311, valid_loss=0.0344]\n",
      "Epoch: 22/40...: 100%|██████████| 32/32 [00:03<00:00,  8.28it/s, train_loss=0.031, valid_loss=0.0369] \n",
      "Epoch: 23/40...: 100%|██████████| 32/32 [00:03<00:00,  8.53it/s, train_loss=0.0309, valid_loss=0.0343]\n"
     ]
    },
    {
     "name": "stdout",
     "output_type": "stream",
     "text": [
      "train dataset 4\n"
     ]
    },
    {
     "name": "stderr",
     "output_type": "stream",
     "text": [
      "Epoch: 1/40...: 100%|██████████| 41/41 [00:04<00:00,  8.58it/s, train_loss=0.293, valid_loss=0.161]\n",
      "Epoch: 2/40...: 100%|██████████| 41/41 [00:04<00:00,  8.43it/s, train_loss=0.0332, valid_loss=0.0421]\n",
      "Epoch: 3/40...: 100%|██████████| 41/41 [00:05<00:00,  8.19it/s, train_loss=0.0318, valid_loss=0.0359]\n",
      "Epoch: 4/40...: 100%|██████████| 41/41 [00:04<00:00,  8.60it/s, train_loss=0.0314, valid_loss=0.0353]\n",
      "Epoch: 5/40...: 100%|██████████| 41/41 [00:04<00:00,  8.35it/s, train_loss=0.0322, valid_loss=0.0357]\n",
      "Epoch: 6/40...: 100%|██████████| 41/41 [00:04<00:00,  8.40it/s, train_loss=0.0319, valid_loss=0.0361]\n",
      "Epoch: 7/40...: 100%|██████████| 41/41 [00:05<00:00,  7.96it/s, train_loss=0.0325, valid_loss=0.0344]\n",
      "Epoch: 8/40...: 100%|██████████| 41/41 [00:04<00:00,  8.35it/s, train_loss=0.0319, valid_loss=0.0354]\n",
      "Epoch: 9/40...: 100%|██████████| 41/41 [00:04<00:00,  8.39it/s, train_loss=0.0321, valid_loss=0.0347]\n",
      "Epoch: 10/40...: 100%|██████████| 41/41 [00:04<00:00,  8.32it/s, train_loss=0.0319, valid_loss=0.0346]\n",
      "Epoch: 11/40...: 100%|██████████| 41/41 [00:04<00:00,  8.42it/s, train_loss=0.0309, valid_loss=0.0358]\n",
      "Epoch: 12/40...: 100%|██████████| 41/41 [00:04<00:00,  8.64it/s, train_loss=0.0301, valid_loss=0.0355]\n",
      "Epoch: 13/40...: 100%|██████████| 41/41 [00:04<00:00,  8.93it/s, train_loss=0.0307, valid_loss=0.0348]\n"
     ]
    },
    {
     "name": "stdout",
     "output_type": "stream",
     "text": [
      "model config: batch_size-512, lr-0.05, number_epoch-40, hidden_dim-150, n_layers-2,drop_prob-0.2\n",
      "train dataset 0\n"
     ]
    },
    {
     "name": "stderr",
     "output_type": "stream",
     "text": [
      "Epoch: 1/40...: 100%|██████████| 8/8 [00:01<00:00,  6.62it/s, train_loss=0.053, valid_loss=0.104]\n",
      "Epoch: 2/40...: 100%|██████████| 8/8 [00:01<00:00,  6.91it/s, train_loss=0.104, valid_loss=0.0443] \n",
      "Epoch: 3/40...: 100%|██████████| 8/8 [00:01<00:00,  7.19it/s, train_loss=0.125, valid_loss=0.0468]\n",
      "Epoch: 4/40...: 100%|██████████| 8/8 [00:01<00:00,  7.18it/s, train_loss=0.123, valid_loss=0.0479]\n",
      "Epoch: 5/40...: 100%|██████████| 8/8 [00:01<00:00,  7.14it/s, train_loss=0.102, valid_loss=0.0351]\n",
      "Epoch: 6/40...: 100%|██████████| 8/8 [00:01<00:00,  7.15it/s, train_loss=0.0734, valid_loss=0.0386]\n",
      "Epoch: 7/40...: 100%|██████████| 8/8 [00:01<00:00,  7.17it/s, train_loss=0.0582, valid_loss=0.0402]\n",
      "Epoch: 8/40...: 100%|██████████| 8/8 [00:01<00:00,  7.18it/s, train_loss=0.0496, valid_loss=0.0409]\n",
      "Epoch: 9/40...: 100%|██████████| 8/8 [00:01<00:00,  6.75it/s, train_loss=0.0415, valid_loss=0.0385]\n",
      "Epoch: 10/40...: 100%|██████████| 8/8 [00:01<00:00,  7.11it/s, train_loss=0.0358, valid_loss=0.0387]\n",
      "Epoch: 11/40...: 100%|██████████| 8/8 [00:01<00:00,  7.15it/s, train_loss=0.0311, valid_loss=0.0392]\n",
      "Epoch: 12/40...: 100%|██████████| 8/8 [00:01<00:00,  7.15it/s, train_loss=0.0279, valid_loss=0.0401]\n",
      "Epoch: 13/40...: 100%|██████████| 8/8 [00:01<00:00,  7.17it/s, train_loss=0.0262, valid_loss=0.038] \n",
      "Epoch: 14/40...: 100%|██████████| 8/8 [00:01<00:00,  7.20it/s, train_loss=0.0244, valid_loss=0.0404]\n",
      "Epoch: 15/40...: 100%|██████████| 8/8 [00:01<00:00,  7.18it/s, train_loss=0.0236, valid_loss=0.0408]\n",
      "Epoch: 16/40...: 100%|██████████| 8/8 [00:01<00:00,  6.51it/s, train_loss=0.0221, valid_loss=0.0386]\n",
      "Epoch: 17/40...: 100%|██████████| 8/8 [00:01<00:00,  7.15it/s, train_loss=0.0203, valid_loss=0.0393]\n",
      "Epoch: 18/40...: 100%|██████████| 8/8 [00:01<00:00,  7.14it/s, train_loss=0.021, valid_loss=0.0358] \n",
      "Epoch: 19/40...: 100%|██████████| 8/8 [00:01<00:00,  7.14it/s, train_loss=0.0198, valid_loss=0.0388]\n",
      "Epoch: 20/40...: 100%|██████████| 8/8 [00:01<00:00,  7.15it/s, train_loss=0.0198, valid_loss=0.0383]\n",
      "Epoch: 21/40...: 100%|██████████| 8/8 [00:01<00:00,  7.16it/s, train_loss=0.0204, valid_loss=0.041] \n",
      "Epoch: 22/40...: 100%|██████████| 8/8 [00:01<00:00,  7.15it/s, train_loss=0.0199, valid_loss=0.0385]\n",
      "Epoch: 23/40...: 100%|██████████| 8/8 [00:01<00:00,  6.57it/s, train_loss=0.0193, valid_loss=0.038] \n",
      "Epoch: 24/40...: 100%|██████████| 8/8 [00:01<00:00,  6.98it/s, train_loss=0.0184, valid_loss=0.0406]\n",
      "Epoch: 25/40...: 100%|██████████| 8/8 [00:01<00:00,  6.87it/s, train_loss=0.0193, valid_loss=0.0383]\n",
      "Epoch: 26/40...: 100%|██████████| 8/8 [00:01<00:00,  7.03it/s, train_loss=0.0185, valid_loss=0.039] \n",
      "Epoch: 27/40...: 100%|██████████| 8/8 [00:01<00:00,  6.93it/s, train_loss=0.0194, valid_loss=0.0402]\n",
      "Epoch: 28/40...: 100%|██████████| 8/8 [00:01<00:00,  7.02it/s, train_loss=0.0192, valid_loss=0.0356]\n"
     ]
    },
    {
     "name": "stdout",
     "output_type": "stream",
     "text": [
      "train dataset 1\n"
     ]
    },
    {
     "name": "stderr",
     "output_type": "stream",
     "text": [
      "Epoch: 1/40...: 100%|██████████| 16/16 [00:02<00:00,  7.02it/s, train_loss=0.188, valid_loss=0.0807]\n",
      "Epoch: 2/40...: 100%|██████████| 16/16 [00:02<00:00,  6.71it/s, train_loss=0.141, valid_loss=0.0351]\n",
      "Epoch: 3/40...: 100%|██████████| 16/16 [00:02<00:00,  6.92it/s, train_loss=0.108, valid_loss=0.031] \n",
      "Epoch: 4/40...: 100%|██████████| 16/16 [00:02<00:00,  7.03it/s, train_loss=0.0796, valid_loss=0.0323]\n",
      "Epoch: 5/40...: 100%|██████████| 16/16 [00:02<00:00,  6.90it/s, train_loss=0.0586, valid_loss=0.0312]\n",
      "Epoch: 6/40...: 100%|██████████| 16/16 [00:02<00:00,  6.88it/s, train_loss=0.0438, valid_loss=0.0303]\n",
      "Epoch: 7/40...: 100%|██████████| 16/16 [00:02<00:00,  7.07it/s, train_loss=0.0357, valid_loss=0.0298]\n",
      "Epoch: 8/40...: 100%|██████████| 16/16 [00:02<00:00,  6.50it/s, train_loss=0.0309, valid_loss=0.0303]\n",
      "Epoch: 9/40...: 100%|██████████| 16/16 [00:02<00:00,  6.90it/s, train_loss=0.0296, valid_loss=0.0323]\n",
      "Epoch: 10/40...: 100%|██████████| 16/16 [00:02<00:00,  6.95it/s, train_loss=0.028, valid_loss=0.0302]\n",
      "Epoch: 11/40...: 100%|██████████| 16/16 [00:02<00:00,  7.00it/s, train_loss=0.0267, valid_loss=0.0294]\n",
      "Epoch: 12/40...: 100%|██████████| 16/16 [00:02<00:00,  6.95it/s, train_loss=0.026, valid_loss=0.0302] \n",
      "Epoch: 13/40...: 100%|██████████| 16/16 [00:02<00:00,  6.87it/s, train_loss=0.0259, valid_loss=0.0302]\n",
      "Epoch: 14/40...: 100%|██████████| 16/16 [00:02<00:00,  6.78it/s, train_loss=0.025, valid_loss=0.0297] \n",
      "Epoch: 15/40...: 100%|██████████| 16/16 [00:02<00:00,  6.89it/s, train_loss=0.0238, valid_loss=0.0304]\n",
      "Epoch: 16/40...: 100%|██████████| 16/16 [00:02<00:00,  5.92it/s, train_loss=0.0243, valid_loss=0.0298]\n",
      "Epoch: 17/40...: 100%|██████████| 16/16 [00:03<00:00,  5.32it/s, train_loss=0.026, valid_loss=0.03]   \n",
      "Epoch: 18/40...: 100%|██████████| 16/16 [00:03<00:00,  5.32it/s, train_loss=0.0253, valid_loss=0.0299]\n",
      "Epoch: 19/40...: 100%|██████████| 16/16 [00:02<00:00,  5.37it/s, train_loss=0.0261, valid_loss=0.0287]\n",
      "Epoch: 20/40...: 100%|██████████| 16/16 [00:03<00:00,  5.26it/s, train_loss=0.0245, valid_loss=0.0287]\n",
      "Epoch: 21/40...: 100%|██████████| 16/16 [00:03<00:00,  5.30it/s, train_loss=0.0238, valid_loss=0.0298]\n",
      "Epoch: 22/40...: 100%|██████████| 16/16 [00:03<00:00,  5.27it/s, train_loss=0.0239, valid_loss=0.0306]\n",
      "Epoch: 23/40...: 100%|██████████| 16/16 [00:02<00:00,  6.39it/s, train_loss=0.0238, valid_loss=0.0292]\n",
      "Epoch: 24/40...: 100%|██████████| 16/16 [00:02<00:00,  6.14it/s, train_loss=0.0258, valid_loss=0.0305]\n",
      "Epoch: 25/40...: 100%|██████████| 16/16 [00:02<00:00,  5.41it/s, train_loss=0.0238, valid_loss=0.0288]\n",
      "Epoch: 26/40...: 100%|██████████| 16/16 [00:03<00:00,  5.28it/s, train_loss=0.0235, valid_loss=0.0305]\n",
      "Epoch: 27/40...: 100%|██████████| 16/16 [00:03<00:00,  5.17it/s, train_loss=0.024, valid_loss=0.0292] \n",
      "Epoch: 28/40...: 100%|██████████| 16/16 [00:02<00:00,  5.42it/s, train_loss=0.023, valid_loss=0.0318] \n",
      "Epoch: 29/40...: 100%|██████████| 16/16 [00:02<00:00,  5.41it/s, train_loss=0.0239, valid_loss=0.0292]\n",
      "Epoch: 30/40...: 100%|██████████| 16/16 [00:02<00:00,  5.46it/s, train_loss=0.024, valid_loss=0.0307] \n",
      "Epoch: 31/40...: 100%|██████████| 16/16 [00:03<00:00,  5.13it/s, train_loss=0.0238, valid_loss=0.0303]\n",
      "Epoch: 32/40...: 100%|██████████| 16/16 [00:02<00:00,  5.34it/s, train_loss=0.0236, valid_loss=0.0297]\n",
      "Epoch: 33/40...: 100%|██████████| 16/16 [00:03<00:00,  5.33it/s, train_loss=0.024, valid_loss=0.029]  \n",
      "Epoch: 34/40...: 100%|██████████| 16/16 [00:03<00:00,  5.32it/s, train_loss=0.0228, valid_loss=0.0292]\n",
      "Epoch: 35/40...: 100%|██████████| 16/16 [00:03<00:00,  5.24it/s, train_loss=0.023, valid_loss=0.0296]\n",
      "Epoch: 36/40...: 100%|██████████| 16/16 [00:02<00:00,  5.60it/s, train_loss=0.0231, valid_loss=0.0287]\n",
      "Epoch: 37/40...: 100%|██████████| 16/16 [00:02<00:00,  5.46it/s, train_loss=0.0235, valid_loss=0.0287]\n",
      "Epoch: 38/40...: 100%|██████████| 16/16 [00:02<00:00,  5.43it/s, train_loss=0.0239, valid_loss=0.0295]\n",
      "Epoch: 39/40...: 100%|██████████| 16/16 [00:03<00:00,  5.28it/s, train_loss=0.023, valid_loss=0.0281] \n",
      "Epoch: 40/40...: 100%|██████████| 16/16 [00:03<00:00,  5.32it/s, train_loss=0.023, valid_loss=0.0282] \n"
     ]
    },
    {
     "name": "stdout",
     "output_type": "stream",
     "text": [
      "train dataset 2\n"
     ]
    },
    {
     "name": "stderr",
     "output_type": "stream",
     "text": [
      "Epoch: 1/40...: 100%|██████████| 24/24 [00:04<00:00,  5.63it/s, train_loss=0.306, valid_loss=0.192] \n",
      "Epoch: 2/40...: 100%|██████████| 24/24 [00:04<00:00,  5.79it/s, train_loss=0.171, valid_loss=0.0394]\n",
      "Epoch: 3/40...: 100%|██████████| 24/24 [00:04<00:00,  5.80it/s, train_loss=0.0965, valid_loss=0.0388]\n",
      "Epoch: 4/40...: 100%|██████████| 24/24 [00:04<00:00,  5.97it/s, train_loss=0.0549, valid_loss=0.0405]\n",
      "Epoch: 5/40...: 100%|██████████| 24/24 [00:04<00:00,  5.95it/s, train_loss=0.0393, valid_loss=0.0394]\n",
      "Epoch: 6/40...: 100%|██████████| 24/24 [00:04<00:00,  5.86it/s, train_loss=0.0328, valid_loss=0.0394]\n",
      "Epoch: 7/40...: 100%|██████████| 24/24 [00:04<00:00,  5.84it/s, train_loss=0.0289, valid_loss=0.0401]\n",
      "Epoch: 8/40...: 100%|██████████| 24/24 [00:04<00:00,  5.72it/s, train_loss=0.0287, valid_loss=0.0392]\n",
      "Epoch: 9/40...: 100%|██████████| 24/24 [00:04<00:00,  5.82it/s, train_loss=0.0293, valid_loss=0.0394]\n",
      "Epoch: 10/40...: 100%|██████████| 24/24 [00:04<00:00,  5.78it/s, train_loss=0.0296, valid_loss=0.0413]\n",
      "Epoch: 11/40...: 100%|██████████| 24/24 [00:04<00:00,  5.66it/s, train_loss=0.0297, valid_loss=0.0416]\n",
      "Epoch: 12/40...: 100%|██████████| 24/24 [00:03<00:00,  6.08it/s, train_loss=0.0273, valid_loss=0.0407]\n",
      "Epoch: 13/40...: 100%|██████████| 24/24 [00:03<00:00,  7.35it/s, train_loss=0.0278, valid_loss=0.0397]\n",
      "Epoch: 14/40...: 100%|██████████| 24/24 [00:03<00:00,  7.57it/s, train_loss=0.0281, valid_loss=0.0387]\n",
      "Epoch: 15/40...: 100%|██████████| 24/24 [00:03<00:00,  7.56it/s, train_loss=0.0283, valid_loss=0.0395]\n",
      "Epoch: 16/40...: 100%|██████████| 24/24 [00:03<00:00,  7.42it/s, train_loss=0.028, valid_loss=0.0406] \n",
      "Epoch: 17/40...: 100%|██████████| 24/24 [00:03<00:00,  7.65it/s, train_loss=0.0279, valid_loss=0.0388]\n",
      "Epoch: 18/40...: 100%|██████████| 24/24 [00:03<00:00,  7.18it/s, train_loss=0.0288, valid_loss=0.0403]\n",
      "Epoch: 19/40...: 100%|██████████| 24/24 [00:03<00:00,  7.25it/s, train_loss=0.0272, valid_loss=0.0426]\n",
      "Epoch: 20/40...: 100%|██████████| 24/24 [00:03<00:00,  7.56it/s, train_loss=0.0283, valid_loss=0.0392]\n",
      "Epoch: 21/40...: 100%|██████████| 24/24 [00:03<00:00,  7.27it/s, train_loss=0.0264, valid_loss=0.043] \n",
      "Epoch: 22/40...: 100%|██████████| 24/24 [00:03<00:00,  7.54it/s, train_loss=0.0271, valid_loss=0.0402]\n",
      "Epoch: 23/40...: 100%|██████████| 24/24 [00:03<00:00,  7.47it/s, train_loss=0.0285, valid_loss=0.0401]\n",
      "Epoch: 24/40...: 100%|██████████| 24/24 [00:03<00:00,  7.55it/s, train_loss=0.0285, valid_loss=0.0392]\n",
      "Epoch: 25/40...: 100%|██████████| 24/24 [00:03<00:00,  7.59it/s, train_loss=0.0282, valid_loss=0.0395]\n",
      "Epoch: 26/40...: 100%|██████████| 24/24 [00:03<00:00,  7.38it/s, train_loss=0.0273, valid_loss=0.0395]\n",
      "Epoch: 27/40...: 100%|██████████| 24/24 [00:03<00:00,  7.60it/s, train_loss=0.027, valid_loss=0.0403] \n",
      "Epoch: 28/40...: 100%|██████████| 24/24 [00:03<00:00,  7.57it/s, train_loss=0.0273, valid_loss=0.0406]\n",
      "Epoch: 29/40...: 100%|██████████| 24/24 [00:03<00:00,  7.32it/s, train_loss=0.0275, valid_loss=0.0383]\n",
      "Epoch: 30/40...: 100%|██████████| 24/24 [00:03<00:00,  7.55it/s, train_loss=0.0275, valid_loss=0.0409]\n",
      "Epoch: 31/40...: 100%|██████████| 24/24 [00:03<00:00,  6.98it/s, train_loss=0.0275, valid_loss=0.0394]\n",
      "Epoch: 32/40...: 100%|██████████| 24/24 [00:03<00:00,  6.69it/s, train_loss=0.0284, valid_loss=0.0394]\n",
      "Epoch: 33/40...: 100%|██████████| 24/24 [00:03<00:00,  6.38it/s, train_loss=0.027, valid_loss=0.0415] \n",
      "Epoch: 34/40...: 100%|██████████| 24/24 [00:03<00:00,  6.54it/s, train_loss=0.0263, valid_loss=0.043] \n",
      "Epoch: 35/40...: 100%|██████████| 24/24 [00:04<00:00,  5.88it/s, train_loss=0.0265, valid_loss=0.0425]\n",
      "Epoch: 36/40...: 100%|██████████| 24/24 [00:04<00:00,  5.77it/s, train_loss=0.0256, valid_loss=0.0407]\n",
      "Epoch: 37/40...: 100%|██████████| 24/24 [00:04<00:00,  5.88it/s, train_loss=0.0249, valid_loss=0.0401]\n",
      "Epoch: 38/40...: 100%|██████████| 24/24 [00:03<00:00,  6.20it/s, train_loss=0.0277, valid_loss=0.0387]\n"
     ]
    },
    {
     "name": "stdout",
     "output_type": "stream",
     "text": [
      "train dataset 3\n"
     ]
    },
    {
     "name": "stderr",
     "output_type": "stream",
     "text": [
      "Epoch: 1/40...: 100%|██████████| 32/32 [00:05<00:00,  5.47it/s, train_loss=0.14, valid_loss=0.0347]  \n",
      "Epoch: 2/40...: 100%|██████████| 32/32 [00:04<00:00,  6.84it/s, train_loss=0.0702, valid_loss=0.0344]\n",
      "Epoch: 3/40...: 100%|██████████| 32/32 [00:04<00:00,  6.54it/s, train_loss=0.0447, valid_loss=0.0356]\n",
      "Epoch: 4/40...: 100%|██████████| 32/32 [00:04<00:00,  7.35it/s, train_loss=0.039, valid_loss=0.0355] \n",
      "Epoch: 5/40...: 100%|██████████| 32/32 [00:04<00:00,  7.37it/s, train_loss=0.0318, valid_loss=0.0362]\n",
      "Epoch: 6/40...: 100%|██████████| 32/32 [00:04<00:00,  7.51it/s, train_loss=0.0341, valid_loss=0.0362]\n",
      "Epoch: 7/40...: 100%|██████████| 32/32 [00:04<00:00,  7.38it/s, train_loss=0.0329, valid_loss=0.0363]\n",
      "Epoch: 8/40...: 100%|██████████| 32/32 [00:04<00:00,  7.15it/s, train_loss=0.0313, valid_loss=0.0357]\n",
      "Epoch: 9/40...: 100%|██████████| 32/32 [00:04<00:00,  7.36it/s, train_loss=0.0326, valid_loss=0.0376]\n"
     ]
    },
    {
     "name": "stdout",
     "output_type": "stream",
     "text": [
      "train dataset 4\n"
     ]
    },
    {
     "name": "stderr",
     "output_type": "stream",
     "text": [
      "Epoch: 1/40...: 100%|██████████| 41/41 [00:05<00:00,  7.05it/s, train_loss=0.0992, valid_loss=0.0354]\n",
      "Epoch: 2/40...: 100%|██████████| 41/41 [00:05<00:00,  7.42it/s, train_loss=0.0493, valid_loss=0.0362]\n",
      "Epoch: 3/40...: 100%|██████████| 41/41 [00:05<00:00,  7.31it/s, train_loss=0.0363, valid_loss=0.0352]\n",
      "Epoch: 4/40...: 100%|██████████| 41/41 [00:05<00:00,  7.36it/s, train_loss=0.0355, valid_loss=0.0362]\n",
      "Epoch: 5/40...: 100%|██████████| 41/41 [00:05<00:00,  7.19it/s, train_loss=0.0349, valid_loss=0.0347]\n",
      "Epoch: 6/40...: 100%|██████████| 41/41 [00:05<00:00,  7.33it/s, train_loss=0.031, valid_loss=0.0352] \n",
      "Epoch: 7/40...: 100%|██████████| 41/41 [00:05<00:00,  7.31it/s, train_loss=0.0328, valid_loss=0.0348]\n"
     ]
    },
    {
     "name": "stdout",
     "output_type": "stream",
     "text": [
      "model config: batch_size-512, lr-0.05, number_epoch-40, hidden_dim-150, n_layers-3,drop_prob-0.2\n",
      "train dataset 0\n"
     ]
    },
    {
     "name": "stderr",
     "output_type": "stream",
     "text": [
      "Epoch: 1/40...: 100%|██████████| 8/8 [00:01<00:00,  4.99it/s, train_loss=0.219, valid_loss=0.151]\n",
      "Epoch: 2/40...: 100%|██████████| 8/8 [00:01<00:00,  5.87it/s, train_loss=0.0495, valid_loss=0.11]\n",
      "Epoch: 3/40...: 100%|██████████| 8/8 [00:01<00:00,  6.27it/s, train_loss=0.0637, valid_loss=0.0429]\n",
      "Epoch: 4/40...: 100%|██████████| 8/8 [00:01<00:00,  6.26it/s, train_loss=0.0453, valid_loss=0.0324]\n",
      "Epoch: 5/40...: 100%|██████████| 8/8 [00:01<00:00,  6.39it/s, train_loss=0.033, valid_loss=0.0491] \n",
      "Epoch: 6/40...: 100%|██████████| 8/8 [00:01<00:00,  6.43it/s, train_loss=0.03, valid_loss=0.0389] \n",
      "Epoch: 7/40...: 100%|██████████| 8/8 [00:01<00:00,  6.30it/s, train_loss=0.0273, valid_loss=0.0378]\n",
      "Epoch: 8/40...: 100%|██████████| 8/8 [00:01<00:00,  6.33it/s, train_loss=0.0257, valid_loss=0.0372]\n",
      "Epoch: 9/40...: 100%|██████████| 8/8 [00:01<00:00,  6.36it/s, train_loss=0.0227, valid_loss=0.0458]\n",
      "Epoch: 10/40...: 100%|██████████| 8/8 [00:01<00:00,  6.36it/s, train_loss=0.0227, valid_loss=0.033]\n",
      "Epoch: 11/40...: 100%|██████████| 8/8 [00:01<00:00,  6.40it/s, train_loss=0.0238, valid_loss=0.0376]\n",
      "Epoch: 12/40...: 100%|██████████| 8/8 [00:01<00:00,  6.40it/s, train_loss=0.0194, valid_loss=0.0473]\n",
      "Epoch: 13/40...: 100%|██████████| 8/8 [00:01<00:00,  6.33it/s, train_loss=0.0198, valid_loss=0.0416]\n",
      "Epoch: 14/40...: 100%|██████████| 8/8 [00:01<00:00,  5.94it/s, train_loss=0.0194, valid_loss=0.0381]\n",
      "Epoch: 15/40...: 100%|██████████| 8/8 [00:01<00:00,  6.22it/s, train_loss=0.0184, valid_loss=0.0423]\n",
      "Epoch: 16/40...: 100%|██████████| 8/8 [00:01<00:00,  6.24it/s, train_loss=0.0188, valid_loss=0.0412]\n",
      "Epoch: 17/40...: 100%|██████████| 8/8 [00:01<00:00,  6.15it/s, train_loss=0.0188, valid_loss=0.0422]\n",
      "Epoch: 18/40...: 100%|██████████| 8/8 [00:01<00:00,  6.25it/s, train_loss=0.0184, valid_loss=0.0432]\n",
      "Epoch: 19/40...: 100%|██████████| 8/8 [00:01<00:00,  6.31it/s, train_loss=0.0185, valid_loss=0.04]  \n",
      "Epoch: 20/40...: 100%|██████████| 8/8 [00:01<00:00,  6.23it/s, train_loss=0.018, valid_loss=0.0369]\n",
      "Epoch: 21/40...: 100%|██████████| 8/8 [00:01<00:00,  5.81it/s, train_loss=0.019, valid_loss=0.0335] \n",
      "Epoch: 22/40...: 100%|██████████| 8/8 [00:01<00:00,  6.29it/s, train_loss=0.0195, valid_loss=0.0365]\n",
      "Epoch: 23/40...: 100%|██████████| 8/8 [00:01<00:00,  6.32it/s, train_loss=0.0188, valid_loss=0.0416]\n",
      "Epoch: 24/40...: 100%|██████████| 8/8 [00:01<00:00,  6.30it/s, train_loss=0.0187, valid_loss=0.0414]\n",
      "Epoch: 25/40...: 100%|██████████| 8/8 [00:01<00:00,  6.27it/s, train_loss=0.0192, valid_loss=0.0369]\n",
      "Epoch: 26/40...: 100%|██████████| 8/8 [00:01<00:00,  6.30it/s, train_loss=0.0193, valid_loss=0.0358]\n",
      "Epoch: 27/40...: 100%|██████████| 8/8 [00:01<00:00,  6.29it/s, train_loss=0.0181, valid_loss=0.0374]\n",
      "Epoch: 28/40...: 100%|██████████| 8/8 [00:01<00:00,  6.22it/s, train_loss=0.0183, valid_loss=0.0443]\n",
      "Epoch: 29/40...: 100%|██████████| 8/8 [00:01<00:00,  6.27it/s, train_loss=0.0197, valid_loss=0.0364]\n",
      "Epoch: 30/40...: 100%|██████████| 8/8 [00:01<00:00,  6.30it/s, train_loss=0.0195, valid_loss=0.0368]\n"
     ]
    },
    {
     "name": "stdout",
     "output_type": "stream",
     "text": [
      "train dataset 1\n"
     ]
    },
    {
     "name": "stderr",
     "output_type": "stream",
     "text": [
      "Epoch: 1/40...: 100%|██████████| 16/16 [00:02<00:00,  6.05it/s, train_loss=0.0641, valid_loss=0.0689]\n",
      "Epoch: 2/40...: 100%|██████████| 16/16 [00:02<00:00,  6.33it/s, train_loss=0.0473, valid_loss=0.0301]\n",
      "Epoch: 3/40...: 100%|██████████| 16/16 [00:02<00:00,  6.26it/s, train_loss=0.0407, valid_loss=0.0339]\n",
      "Epoch: 4/40...: 100%|██████████| 16/16 [00:02<00:00,  6.32it/s, train_loss=0.0344, valid_loss=0.0287]\n",
      "Epoch: 5/40...: 100%|██████████| 16/16 [00:02<00:00,  6.18it/s, train_loss=0.0307, valid_loss=0.0285]\n",
      "Epoch: 6/40...: 100%|██████████| 16/16 [00:02<00:00,  6.38it/s, train_loss=0.0284, valid_loss=0.0297]\n",
      "Epoch: 7/40...: 100%|██████████| 16/16 [00:02<00:00,  6.41it/s, train_loss=0.0292, valid_loss=0.0296]\n",
      "Epoch: 8/40...: 100%|██████████| 16/16 [00:02<00:00,  6.30it/s, train_loss=0.0282, valid_loss=0.0293]\n",
      "Epoch: 9/40...: 100%|██████████| 16/16 [00:02<00:00,  6.13it/s, train_loss=0.0292, valid_loss=0.028] \n",
      "Epoch: 10/40...: 100%|██████████| 16/16 [00:02<00:00,  6.35it/s, train_loss=0.0273, valid_loss=0.0305]\n",
      "Epoch: 11/40...: 100%|██████████| 16/16 [00:02<00:00,  6.30it/s, train_loss=0.03, valid_loss=0.028]   \n",
      "Epoch: 12/40...: 100%|██████████| 16/16 [00:02<00:00,  6.31it/s, train_loss=0.0263, valid_loss=0.0294]\n",
      "Epoch: 13/40...: 100%|██████████| 16/16 [00:02<00:00,  6.33it/s, train_loss=0.0272, valid_loss=0.029] \n",
      "Epoch: 14/40...: 100%|██████████| 16/16 [00:02<00:00,  6.32it/s, train_loss=0.0282, valid_loss=0.0283]\n",
      "Epoch: 15/40...: 100%|██████████| 16/16 [00:02<00:00,  6.09it/s, train_loss=0.0259, valid_loss=0.0295]\n",
      "Epoch: 16/40...: 100%|██████████| 16/16 [00:02<00:00,  6.39it/s, train_loss=0.0277, valid_loss=0.0288]\n",
      "Epoch: 17/40...: 100%|██████████| 16/16 [00:02<00:00,  6.38it/s, train_loss=0.027, valid_loss=0.0304] \n",
      "Epoch: 18/40...: 100%|██████████| 16/16 [00:02<00:00,  6.34it/s, train_loss=0.0269, valid_loss=0.0286]\n",
      "Epoch: 19/40...: 100%|██████████| 16/16 [00:02<00:00,  5.78it/s, train_loss=0.0267, valid_loss=0.0287]\n",
      "Epoch: 20/40...: 100%|██████████| 16/16 [00:02<00:00,  6.39it/s, train_loss=0.0276, valid_loss=0.0278]\n",
      "Epoch: 21/40...: 100%|██████████| 16/16 [00:02<00:00,  6.05it/s, train_loss=0.027, valid_loss=0.0281] \n",
      "Epoch: 22/40...: 100%|██████████| 16/16 [00:02<00:00,  6.29it/s, train_loss=0.0292, valid_loss=0.029] \n",
      "Epoch: 23/40...: 100%|██████████| 16/16 [00:02<00:00,  6.29it/s, train_loss=0.0272, valid_loss=0.0278]\n",
      "Epoch: 24/40...: 100%|██████████| 16/16 [00:02<00:00,  6.19it/s, train_loss=0.0277, valid_loss=0.0279]\n",
      "Epoch: 25/40...: 100%|██████████| 16/16 [00:02<00:00,  6.30it/s, train_loss=0.0281, valid_loss=0.0286]\n",
      "Epoch: 26/40...: 100%|██████████| 16/16 [00:02<00:00,  6.32it/s, train_loss=0.0257, valid_loss=0.0292]\n",
      "Epoch: 27/40...: 100%|██████████| 16/16 [00:02<00:00,  6.15it/s, train_loss=0.0265, valid_loss=0.0286]\n",
      "Epoch: 28/40...: 100%|██████████| 16/16 [00:02<00:00,  6.34it/s, train_loss=0.0269, valid_loss=0.0278]\n",
      "Epoch: 29/40...: 100%|██████████| 16/16 [00:02<00:00,  6.33it/s, train_loss=0.0277, valid_loss=0.0284]\n",
      "Epoch: 30/40...: 100%|██████████| 16/16 [00:02<00:00,  6.36it/s, train_loss=0.0257, valid_loss=0.0279]\n",
      "Epoch: 31/40...: 100%|██████████| 16/16 [00:02<00:00,  6.35it/s, train_loss=0.0276, valid_loss=0.0277]\n",
      "Epoch: 32/40...: 100%|██████████| 16/16 [00:02<00:00,  6.29it/s, train_loss=0.0283, valid_loss=0.0289]\n",
      "Epoch: 33/40...: 100%|██████████| 16/16 [00:02<00:00,  6.13it/s, train_loss=0.0282, valid_loss=0.028] \n",
      "Epoch: 34/40...: 100%|██████████| 16/16 [00:02<00:00,  6.43it/s, train_loss=0.0253, valid_loss=0.0282]\n",
      "Epoch: 35/40...: 100%|██████████| 16/16 [00:02<00:00,  6.43it/s, train_loss=0.0261, valid_loss=0.03]  \n",
      "Epoch: 36/40...: 100%|██████████| 16/16 [00:02<00:00,  6.41it/s, train_loss=0.0268, valid_loss=0.0279]\n",
      "Epoch: 37/40...: 100%|██████████| 16/16 [00:02<00:00,  6.42it/s, train_loss=0.0251, valid_loss=0.0323]\n",
      "Epoch: 38/40...: 100%|██████████| 16/16 [00:02<00:00,  6.31it/s, train_loss=0.0264, valid_loss=0.028] \n",
      "Epoch: 39/40...: 100%|██████████| 16/16 [00:02<00:00,  6.10it/s, train_loss=0.0268, valid_loss=0.0292]\n",
      "Epoch: 40/40...: 100%|██████████| 16/16 [00:02<00:00,  6.28it/s, train_loss=0.0267, valid_loss=0.0277]\n"
     ]
    },
    {
     "name": "stdout",
     "output_type": "stream",
     "text": [
      "train dataset 2\n"
     ]
    },
    {
     "name": "stderr",
     "output_type": "stream",
     "text": [
      "Epoch: 1/40...: 100%|██████████| 24/24 [00:03<00:00,  6.93it/s, train_loss=0.207, valid_loss=0.048]  \n",
      "Epoch: 2/40...: 100%|██████████| 24/24 [00:03<00:00,  6.96it/s, train_loss=0.0616, valid_loss=0.0403]\n",
      "Epoch: 3/40...: 100%|██████████| 24/24 [00:03<00:00,  6.79it/s, train_loss=0.0295, valid_loss=0.0402]\n",
      "Epoch: 4/40...: 100%|██████████| 24/24 [00:03<00:00,  6.86it/s, train_loss=0.0282, valid_loss=0.0405]\n",
      "Epoch: 5/40...: 100%|██████████| 24/24 [00:03<00:00,  6.69it/s, train_loss=0.0287, valid_loss=0.0404]\n",
      "Epoch: 6/40...: 100%|██████████| 24/24 [00:03<00:00,  6.96it/s, train_loss=0.0281, valid_loss=0.0402]\n",
      "Epoch: 7/40...: 100%|██████████| 24/24 [00:03<00:00,  6.92it/s, train_loss=0.0291, valid_loss=0.0394]\n",
      "Epoch: 8/40...: 100%|██████████| 24/24 [00:03<00:00,  6.69it/s, train_loss=0.0279, valid_loss=0.0397]\n",
      "Epoch: 9/40...: 100%|██████████| 24/24 [00:03<00:00,  6.85it/s, train_loss=0.0274, valid_loss=0.0406]\n",
      "Epoch: 10/40...: 100%|██████████| 24/24 [00:03<00:00,  6.79it/s, train_loss=0.028, valid_loss=0.0403] \n",
      "Epoch: 11/40...: 100%|██████████| 24/24 [00:03<00:00,  6.57it/s, train_loss=0.0271, valid_loss=0.0394]\n",
      "Epoch: 12/40...: 100%|██████████| 24/24 [00:03<00:00,  6.72it/s, train_loss=0.029, valid_loss=0.0418] \n",
      "Epoch: 13/40...: 100%|██████████| 24/24 [00:03<00:00,  6.69it/s, train_loss=0.0276, valid_loss=0.0386]\n",
      "Epoch: 14/40...: 100%|██████████| 24/24 [00:04<00:00,  5.90it/s, train_loss=0.0274, valid_loss=0.0392]\n",
      "Epoch: 15/40...: 100%|██████████| 24/24 [00:04<00:00,  5.70it/s, train_loss=0.028, valid_loss=0.0391] \n",
      "Epoch: 16/40...: 100%|██████████| 24/24 [00:04<00:00,  5.50it/s, train_loss=0.0267, valid_loss=0.0434]\n",
      "Epoch: 17/40...: 100%|██████████| 24/24 [00:04<00:00,  5.42it/s, train_loss=0.0283, valid_loss=0.04]  \n",
      "Epoch: 18/40...: 100%|██████████| 24/24 [00:04<00:00,  5.24it/s, train_loss=0.0274, valid_loss=0.0395]\n",
      "Epoch: 19/40...: 100%|██████████| 24/24 [00:04<00:00,  5.40it/s, train_loss=0.0277, valid_loss=0.0404]\n",
      "Epoch: 20/40...: 100%|██████████| 24/24 [00:03<00:00,  6.93it/s, train_loss=0.0267, valid_loss=0.0399]\n",
      "Epoch: 21/40...: 100%|██████████| 24/24 [00:03<00:00,  6.66it/s, train_loss=0.0285, valid_loss=0.0395]\n",
      "Epoch: 22/40...: 100%|██████████| 24/24 [00:03<00:00,  6.81it/s, train_loss=0.0265, valid_loss=0.0396]\n",
      "Epoch: 23/40...: 100%|██████████| 24/24 [00:03<00:00,  6.73it/s, train_loss=0.0263, valid_loss=0.0404]\n",
      "Epoch: 24/40...: 100%|██████████| 24/24 [00:03<00:00,  6.94it/s, train_loss=0.0259, valid_loss=0.0424]\n",
      "Epoch: 25/40...: 100%|██████████| 24/24 [00:03<00:00,  6.85it/s, train_loss=0.0271, valid_loss=0.0407]\n",
      "Epoch: 26/40...: 100%|██████████| 24/24 [00:03<00:00,  6.75it/s, train_loss=0.0271, valid_loss=0.039] \n",
      "Epoch: 27/40...: 100%|██████████| 24/24 [00:03<00:00,  6.78it/s, train_loss=0.0276, valid_loss=0.0448]\n"
     ]
    },
    {
     "name": "stdout",
     "output_type": "stream",
     "text": [
      "train dataset 3\n"
     ]
    },
    {
     "name": "stderr",
     "output_type": "stream",
     "text": [
      "Epoch: 1/40...: 100%|██████████| 32/32 [00:07<00:00,  4.09it/s, train_loss=0.104, valid_loss=0.0392] \n",
      "Epoch: 2/40...: 100%|██████████| 32/32 [00:06<00:00,  5.11it/s, train_loss=0.0624, valid_loss=0.0402]\n",
      "Epoch: 3/40...: 100%|██████████| 32/32 [00:04<00:00,  6.70it/s, train_loss=0.0446, valid_loss=0.0365]\n",
      "Epoch: 4/40...: 100%|██████████| 32/32 [00:04<00:00,  6.68it/s, train_loss=0.0362, valid_loss=0.0356]\n",
      "Epoch: 5/40...: 100%|██████████| 32/32 [00:04<00:00,  6.50it/s, train_loss=0.0337, valid_loss=0.0373]\n",
      "Epoch: 6/40...: 100%|██████████| 32/32 [00:04<00:00,  6.74it/s, train_loss=0.0316, valid_loss=0.0383]\n",
      "Epoch: 7/40...: 100%|██████████| 32/32 [00:04<00:00,  6.68it/s, train_loss=0.0332, valid_loss=0.0354]\n",
      "Epoch: 8/40...: 100%|██████████| 32/32 [00:04<00:00,  6.79it/s, train_loss=0.0313, valid_loss=0.0366]\n"
     ]
    },
    {
     "name": "stdout",
     "output_type": "stream",
     "text": [
      "train dataset 4\n"
     ]
    },
    {
     "name": "stderr",
     "output_type": "stream",
     "text": [
      "Epoch: 1/40...: 100%|██████████| 41/41 [00:06<00:00,  6.83it/s, train_loss=0.115, valid_loss=0.0576]\n",
      "Epoch: 2/40...: 100%|██████████| 41/41 [00:06<00:00,  6.71it/s, train_loss=0.0323, valid_loss=0.035] \n",
      "Epoch: 3/40...: 100%|██████████| 41/41 [00:06<00:00,  6.68it/s, train_loss=0.0331, valid_loss=0.0346]\n",
      "Epoch: 4/40...: 100%|██████████| 41/41 [00:06<00:00,  6.40it/s, train_loss=0.0346, valid_loss=0.0346]\n",
      "Epoch: 5/40...: 100%|██████████| 41/41 [00:06<00:00,  6.78it/s, train_loss=0.0319, valid_loss=0.0357]\n",
      "Epoch: 6/40...: 100%|██████████| 41/41 [00:06<00:00,  6.42it/s, train_loss=0.031, valid_loss=0.0368] \n",
      "Epoch: 7/40...: 100%|██████████| 41/41 [00:06<00:00,  6.42it/s, train_loss=0.0324, valid_loss=0.0349]\n",
      "Epoch: 8/40...: 100%|██████████| 41/41 [00:06<00:00,  6.64it/s, train_loss=0.033, valid_loss=0.0346] \n",
      "Epoch: 9/40...: 100%|██████████| 41/41 [00:05<00:00,  7.24it/s, train_loss=0.0309, valid_loss=0.0359]\n"
     ]
    },
    {
     "name": "stdout",
     "output_type": "stream",
     "text": [
      "model config: batch_size-256, lr-0.1, number_epoch-40, hidden_dim-120, n_layers-3,drop_prob-0.2\n",
      "train dataset 0\n"
     ]
    },
    {
     "name": "stderr",
     "output_type": "stream",
     "text": [
      "Epoch: 1/40...: 100%|██████████| 16/16 [00:02<00:00,  5.68it/s, train_loss=0.372, valid_loss=0.0701]\n",
      "Epoch: 2/40...: 100%|██████████| 16/16 [00:02<00:00,  5.66it/s, train_loss=0.414, valid_loss=0.0547]\n",
      "Epoch: 3/40...: 100%|██████████| 16/16 [00:02<00:00,  6.14it/s, train_loss=0.265, valid_loss=0.0399]\n",
      "Epoch: 4/40...: 100%|██████████| 16/16 [00:02<00:00,  6.44it/s, train_loss=0.133, valid_loss=0.0378]\n",
      "Epoch: 5/40...: 100%|██████████| 16/16 [00:02<00:00,  6.44it/s, train_loss=0.0722, valid_loss=0.0411]\n",
      "Epoch: 6/40...: 100%|██████████| 16/16 [00:02<00:00,  6.44it/s, train_loss=0.04, valid_loss=0.0415]  \n",
      "Epoch: 7/40...: 100%|██████████| 16/16 [00:02<00:00,  6.23it/s, train_loss=0.0282, valid_loss=0.0391]\n",
      "Epoch: 8/40...: 100%|██████████| 16/16 [00:02<00:00,  6.42it/s, train_loss=0.022, valid_loss=0.0397] \n",
      "Epoch: 9/40...: 100%|██████████| 16/16 [00:02<00:00,  6.42it/s, train_loss=0.0198, valid_loss=0.0401]\n",
      "Epoch: 10/40...: 100%|██████████| 16/16 [00:02<00:00,  6.39it/s, train_loss=0.019, valid_loss=0.0379]\n",
      "Epoch: 11/40...: 100%|██████████| 16/16 [00:02<00:00,  6.40it/s, train_loss=0.0177, valid_loss=0.0394]\n",
      "Epoch: 12/40...: 100%|██████████| 16/16 [00:02<00:00,  6.41it/s, train_loss=0.0183, valid_loss=0.0373]\n",
      "Epoch: 13/40...: 100%|██████████| 16/16 [00:02<00:00,  6.41it/s, train_loss=0.0191, valid_loss=0.0368]\n",
      "Epoch: 14/40...: 100%|██████████| 16/16 [00:02<00:00,  6.41it/s, train_loss=0.0194, valid_loss=0.0404]\n",
      "Epoch: 15/40...: 100%|██████████| 16/16 [00:02<00:00,  6.20it/s, train_loss=0.0181, valid_loss=0.0389]\n"
     ]
    },
    {
     "name": "stdout",
     "output_type": "stream",
     "text": [
      "train dataset 1\n"
     ]
    },
    {
     "name": "stderr",
     "output_type": "stream",
     "text": [
      "Epoch: 1/40...: 100%|██████████| 32/32 [00:05<00:00,  6.20it/s, train_loss=0.0997, valid_loss=0.0377]\n",
      "Epoch: 2/40...: 100%|██████████| 32/32 [00:05<00:00,  6.25it/s, train_loss=0.0533, valid_loss=0.0301]\n",
      "Epoch: 3/40...: 100%|██████████| 32/32 [00:05<00:00,  6.23it/s, train_loss=0.0353, valid_loss=0.0287]\n",
      "Epoch: 4/40...: 100%|██████████| 32/32 [00:05<00:00,  6.07it/s, train_loss=0.031, valid_loss=0.0295] \n",
      "Epoch: 5/40...: 100%|██████████| 32/32 [00:05<00:00,  6.21it/s, train_loss=0.0317, valid_loss=0.0279]\n",
      "Epoch: 6/40...: 100%|██████████| 32/32 [00:05<00:00,  6.10it/s, train_loss=0.0305, valid_loss=0.0303]\n",
      "Epoch: 7/40...: 100%|██████████| 32/32 [00:05<00:00,  5.89it/s, train_loss=0.0323, valid_loss=0.0279]\n",
      "Epoch: 8/40...: 100%|██████████| 32/32 [00:05<00:00,  5.80it/s, train_loss=0.0295, valid_loss=0.0293]\n",
      "Epoch: 9/40...: 100%|██████████| 32/32 [00:05<00:00,  6.12it/s, train_loss=0.0292, valid_loss=0.0297]\n"
     ]
    },
    {
     "name": "stdout",
     "output_type": "stream",
     "text": [
      "train dataset 2\n"
     ]
    },
    {
     "name": "stderr",
     "output_type": "stream",
     "text": [
      "Epoch: 1/40...: 100%|██████████| 49/49 [00:07<00:00,  6.82it/s, train_loss=0.112, valid_loss=0.147] \n",
      "Epoch: 2/40...: 100%|██████████| 49/49 [00:07<00:00,  6.21it/s, train_loss=0.0297, valid_loss=0.0378]\n",
      "Epoch: 3/40...: 100%|██████████| 49/49 [00:07<00:00,  6.29it/s, train_loss=0.0285, valid_loss=0.0392]\n",
      "Epoch: 4/40...: 100%|██████████| 49/49 [00:09<00:00,  5.38it/s, train_loss=0.0286, valid_loss=0.0387]\n",
      "Epoch: 5/40...: 100%|██████████| 49/49 [00:09<00:00,  5.42it/s, train_loss=0.0289, valid_loss=0.0383]\n",
      "Epoch: 6/40...: 100%|██████████| 49/49 [00:09<00:00,  5.44it/s, train_loss=0.0293, valid_loss=0.0378]\n",
      "Epoch: 7/40...: 100%|██████████| 49/49 [00:09<00:00,  5.29it/s, train_loss=0.028, valid_loss=0.0383] \n",
      "Epoch: 8/40...: 100%|██████████| 49/49 [00:08<00:00,  5.45it/s, train_loss=0.0296, valid_loss=0.0384]\n",
      "Epoch: 9/40...: 100%|██████████| 49/49 [00:08<00:00,  5.50it/s, train_loss=0.0285, valid_loss=0.039] \n",
      "Epoch: 10/40...: 100%|██████████| 49/49 [00:09<00:00,  5.40it/s, train_loss=0.0322, valid_loss=0.0376]\n",
      "Epoch: 11/40...: 100%|██████████| 49/49 [00:09<00:00,  5.30it/s, train_loss=0.0259, valid_loss=0.0378]\n",
      "Epoch: 12/40...: 100%|██████████| 49/49 [00:08<00:00,  5.50it/s, train_loss=0.0276, valid_loss=0.0376]\n",
      "Epoch: 13/40...: 100%|██████████| 49/49 [00:08<00:00,  5.48it/s, train_loss=0.0305, valid_loss=0.0469]\n"
     ]
    },
    {
     "name": "stdout",
     "output_type": "stream",
     "text": [
      "train dataset 3\n"
     ]
    },
    {
     "name": "stderr",
     "output_type": "stream",
     "text": [
      "Epoch: 1/40...: 100%|██████████| 65/65 [00:11<00:00,  5.51it/s, train_loss=0.155, valid_loss=0.0363]\n",
      "Epoch: 2/40...: 100%|██████████| 65/65 [00:11<00:00,  5.49it/s, train_loss=0.035, valid_loss=0.0353] \n",
      "Epoch: 3/40...: 100%|██████████| 65/65 [00:12<00:00,  5.39it/s, train_loss=0.0313, valid_loss=0.036] \n",
      "Epoch: 4/40...: 100%|██████████| 65/65 [00:11<00:00,  5.55it/s, train_loss=0.0337, valid_loss=0.0393]\n",
      "Epoch: 5/40...: 100%|██████████| 65/65 [00:11<00:00,  5.43it/s, train_loss=0.029, valid_loss=0.035]  \n",
      "Epoch: 6/40...: 100%|██████████| 65/65 [00:11<00:00,  5.44it/s, train_loss=0.0297, valid_loss=0.0348]\n",
      "Epoch: 7/40...: 100%|██████████| 65/65 [00:12<00:00,  5.40it/s, train_loss=0.0321, valid_loss=0.0387]\n",
      "Epoch: 8/40...: 100%|██████████| 65/65 [00:12<00:00,  5.37it/s, train_loss=0.0323, valid_loss=0.0347]\n",
      "Epoch: 9/40...: 100%|██████████| 65/65 [00:12<00:00,  5.41it/s, train_loss=0.0305, valid_loss=0.0342]\n"
     ]
    },
    {
     "name": "stdout",
     "output_type": "stream",
     "text": [
      "train dataset 4\n"
     ]
    },
    {
     "name": "stderr",
     "output_type": "stream",
     "text": [
      "Epoch: 1/40...: 100%|██████████| 82/82 [00:13<00:00,  6.06it/s, train_loss=0.0442, valid_loss=0.0385]\n",
      "Epoch: 2/40...: 100%|██████████| 82/82 [00:13<00:00,  6.14it/s, train_loss=0.0372, valid_loss=0.0393]\n",
      "Epoch: 3/40...: 100%|██████████| 82/82 [00:13<00:00,  6.23it/s, train_loss=0.0355, valid_loss=0.0346]\n",
      "Epoch: 4/40...: 100%|██████████| 82/82 [00:12<00:00,  6.33it/s, train_loss=0.0324, valid_loss=0.0565]\n",
      "Epoch: 5/40...: 100%|██████████| 82/82 [00:12<00:00,  6.37it/s, train_loss=0.0432, valid_loss=0.0384]\n",
      "Epoch: 6/40...: 100%|██████████| 82/82 [00:12<00:00,  6.40it/s, train_loss=0.0353, valid_loss=0.0397]\n",
      "Epoch: 7/40...: 100%|██████████| 82/82 [00:12<00:00,  6.36it/s, train_loss=0.0386, valid_loss=0.0346]\n",
      "Epoch: 8/40...: 100%|██████████| 82/82 [00:12<00:00,  6.41it/s, train_loss=0.0553, valid_loss=0.0353]\n"
     ]
    }
   ],
   "source": [
    "records = run_model_hpo()"
   ]
  },
  {
   "cell_type": "markdown",
   "id": "1533b4a2",
   "metadata": {
    "ExecuteTime": {
     "end_time": "2021-12-22T08:52:06.844501Z",
     "start_time": "2021-12-22T08:52:06.830928Z"
    }
   },
   "source": [
    "## find the best hyper-parameters"
   ]
  },
  {
   "cell_type": "code",
   "execution_count": 12,
   "id": "f68d7a43",
   "metadata": {
    "ExecuteTime": {
     "end_time": "2021-12-22T14:42:59.134201Z",
     "start_time": "2021-12-22T14:42:59.112140Z"
    }
   },
   "outputs": [
    {
     "data": {
      "text/html": [
       "<div>\n",
       "<style scoped>\n",
       "    .dataframe tbody tr th:only-of-type {\n",
       "        vertical-align: middle;\n",
       "    }\n",
       "\n",
       "    .dataframe tbody tr th {\n",
       "        vertical-align: top;\n",
       "    }\n",
       "\n",
       "    .dataframe thead th {\n",
       "        text-align: right;\n",
       "    }\n",
       "</style>\n",
       "<table border=\"1\" class=\"dataframe\">\n",
       "  <thead>\n",
       "    <tr style=\"text-align: right;\">\n",
       "      <th></th>\n",
       "      <th>batch_size</th>\n",
       "      <th>lr</th>\n",
       "      <th>number_epoch</th>\n",
       "      <th>hidden_dim</th>\n",
       "      <th>n_layers</th>\n",
       "      <th>drop_prob</th>\n",
       "      <th>valid_loss</th>\n",
       "    </tr>\n",
       "  </thead>\n",
       "  <tbody>\n",
       "    <tr>\n",
       "      <th>1</th>\n",
       "      <td>256</td>\n",
       "      <td>0.01</td>\n",
       "      <td>40</td>\n",
       "      <td>150</td>\n",
       "      <td>2</td>\n",
       "      <td>0.4</td>\n",
       "      <td>0.013901</td>\n",
       "    </tr>\n",
       "    <tr>\n",
       "      <th>4</th>\n",
       "      <td>256</td>\n",
       "      <td>0.05</td>\n",
       "      <td>40</td>\n",
       "      <td>100</td>\n",
       "      <td>2</td>\n",
       "      <td>0.2</td>\n",
       "      <td>0.032303</td>\n",
       "    </tr>\n",
       "    <tr>\n",
       "      <th>6</th>\n",
       "      <td>512</td>\n",
       "      <td>0.10</td>\n",
       "      <td>40</td>\n",
       "      <td>100</td>\n",
       "      <td>1</td>\n",
       "      <td>0.4</td>\n",
       "      <td>0.033229</td>\n",
       "    </tr>\n",
       "    <tr>\n",
       "      <th>7</th>\n",
       "      <td>512</td>\n",
       "      <td>0.05</td>\n",
       "      <td>40</td>\n",
       "      <td>150</td>\n",
       "      <td>2</td>\n",
       "      <td>0.2</td>\n",
       "      <td>0.033285</td>\n",
       "    </tr>\n",
       "    <tr>\n",
       "      <th>8</th>\n",
       "      <td>512</td>\n",
       "      <td>0.05</td>\n",
       "      <td>40</td>\n",
       "      <td>150</td>\n",
       "      <td>3</td>\n",
       "      <td>0.2</td>\n",
       "      <td>0.033309</td>\n",
       "    </tr>\n",
       "    <tr>\n",
       "      <th>9</th>\n",
       "      <td>256</td>\n",
       "      <td>0.10</td>\n",
       "      <td>40</td>\n",
       "      <td>120</td>\n",
       "      <td>3</td>\n",
       "      <td>0.2</td>\n",
       "      <td>0.033325</td>\n",
       "    </tr>\n",
       "    <tr>\n",
       "      <th>3</th>\n",
       "      <td>256</td>\n",
       "      <td>0.05</td>\n",
       "      <td>40</td>\n",
       "      <td>150</td>\n",
       "      <td>3</td>\n",
       "      <td>0.4</td>\n",
       "      <td>0.033356</td>\n",
       "    </tr>\n",
       "    <tr>\n",
       "      <th>2</th>\n",
       "      <td>512</td>\n",
       "      <td>0.05</td>\n",
       "      <td>40</td>\n",
       "      <td>100</td>\n",
       "      <td>3</td>\n",
       "      <td>0.4</td>\n",
       "      <td>0.033361</td>\n",
       "    </tr>\n",
       "    <tr>\n",
       "      <th>0</th>\n",
       "      <td>256</td>\n",
       "      <td>0.05</td>\n",
       "      <td>40</td>\n",
       "      <td>150</td>\n",
       "      <td>3</td>\n",
       "      <td>0.2</td>\n",
       "      <td>0.033414</td>\n",
       "    </tr>\n",
       "    <tr>\n",
       "      <th>5</th>\n",
       "      <td>512</td>\n",
       "      <td>0.10</td>\n",
       "      <td>40</td>\n",
       "      <td>100</td>\n",
       "      <td>3</td>\n",
       "      <td>0.5</td>\n",
       "      <td>0.033637</td>\n",
       "    </tr>\n",
       "  </tbody>\n",
       "</table>\n",
       "</div>"
      ],
      "text/plain": [
       "   batch_size    lr  number_epoch  hidden_dim  n_layers  drop_prob  valid_loss\n",
       "1         256  0.01            40         150         2        0.4    0.013901\n",
       "4         256  0.05            40         100         2        0.2    0.032303\n",
       "6         512  0.10            40         100         1        0.4    0.033229\n",
       "7         512  0.05            40         150         2        0.2    0.033285\n",
       "8         512  0.05            40         150         3        0.2    0.033309\n",
       "9         256  0.10            40         120         3        0.2    0.033325\n",
       "3         256  0.05            40         150         3        0.4    0.033356\n",
       "2         512  0.05            40         100         3        0.4    0.033361\n",
       "0         256  0.05            40         150         3        0.2    0.033414\n",
       "5         512  0.10            40         100         3        0.5    0.033637"
      ]
     },
     "execution_count": 12,
     "metadata": {},
     "output_type": "execute_result"
    }
   ],
   "source": [
    "records = pd.DataFrame(records).sort_values(by='valid_loss')\n",
    "records.to_csv('./records/Seq2Seq_records.csv', mode='a', index=False, header=False)\n",
    "records"
   ]
  },
  {
   "cell_type": "markdown",
   "id": "176b134e",
   "metadata": {},
   "source": [
    "## retrain a model"
   ]
  },
  {
   "cell_type": "code",
   "execution_count": 16,
   "id": "d2a6e99c",
   "metadata": {
    "ExecuteTime": {
     "end_time": "2021-12-22T14:44:44.976912Z",
     "start_time": "2021-12-22T14:44:44.956157Z"
    },
    "code_folding": [
     46
    ]
   },
   "outputs": [],
   "source": [
    "def train_model(train_x,\n",
    "                train_y,\n",
    "                valid_x,\n",
    "                valid_y,\n",
    "                input_size,\n",
    "                seq_len,\n",
    "                target_len,\n",
    "                mse_thresh,\n",
    "                hidden_dim,\n",
    "                n_layers,\n",
    "                number_epoch,\n",
    "                batch_size,\n",
    "                lr,\n",
    "                drop_prob,\n",
    "                teacher_forcing_ratio=0.5,\n",
    "                training_prediction='teacher_forcing'):\n",
    "    while (1):\n",
    "        encoder = LSTMEncoder(input_size, hidden_dim, n_layers, drop_prob)\n",
    "        decoder = AttnLSTMDecoder(input_size, seq_len, hidden_dim, n_layers,\n",
    "                                  drop_prob)\n",
    "        encoder = encoder.to(device)\n",
    "        decoder = decoder.to(device)\n",
    "        criterion = nn.MSELoss()\n",
    "        encoder_optimizer = torch.optim.Adam(encoder.parameters(), lr=lr)\n",
    "        decoder_optimizer = torch.optim.Adam(decoder.parameters(), lr=lr)\n",
    "        encoder_scheduler = torch.optim.lr_scheduler.StepLR(optimizer, 1, gamma=0.98)\n",
    "        decoder_scheduler = torch.optim.lr_scheduler.StepLR(optimizer, 1, gamma=0.98)\n",
    "        valid_loss_min = np.Inf\n",
    "        train_dataset = TensorDataset(torch.FloatTensor(train_x),\n",
    "                                      torch.FloatTensor(train_y))\n",
    "        valid_dataset = TensorDataset(torch.FloatTensor(valid_x),\n",
    "                                      torch.FloatTensor(valid_y))\n",
    "\n",
    "        train_loader = DataLoader(dataset=train_dataset,\n",
    "                                  batch_size=batch_size,\n",
    "                                  shuffle=True,\n",
    "                                  drop_last=True)\n",
    "        valid_loader = DataLoader(dataset=valid_dataset,\n",
    "                                  batch_size=batch_size,\n",
    "                                  shuffle=True,\n",
    "                                  drop_last=True)\n",
    "        train_losses = list()\n",
    "\n",
    "        num_without_imp = 0\n",
    "\n",
    "        #train\n",
    "        for epoch in range(1, number_epoch + 1):\n",
    "            loop = tqdm(enumerate(train_loader),\n",
    "                        total=len(train_loader),\n",
    "                        leave=True)\n",
    "            for i, (inputs, labels) in loop:\n",
    "                inputs = inputs.to(device)\n",
    "                labels = labels.to(device)\n",
    "                outputs = torch.zeros(batch_size, target_len).to(device)\n",
    "                encoder_optimizer.zero_grad()\n",
    "                decoder_optimizer.zero_grad()\n",
    "                # encoder\n",
    "                input_tensor = inputs[:, 0:seq_len, :]\n",
    "                target_tensor = inputs[:, seq_len:, :]\n",
    "                encoder_outputs, encoder_hidden = encoder(input_tensor)\n",
    "                # decoder\n",
    "                decoder_input = inputs[:, seq_len - 1, :].unsqueeze(1)\n",
    "                decoder_hidden = encoder_hidden\n",
    "\n",
    "                if training_prediction == 'recursive':\n",
    "                    for t in range(target_len):\n",
    "                        decoder_output, decoder_hidden = decoder(\n",
    "                            decoder_input, decoder_hidden, encoder_outputs)\n",
    "                        outputs[:, t] = decoder_output.squeeze()\n",
    "                        decoder_input = torch.cat(\n",
    "                            (target_tensor[:, t, :-1].unsqueeze(1),\n",
    "                             decoder_output.detach()), 2)\n",
    "\n",
    "                if training_prediction == 'teacher_forcing':\n",
    "                    # use teacher forcing\n",
    "                    if random.random() < teacher_forcing_ratio:\n",
    "                        for t in range(target_len):\n",
    "                            decoder_output, decoder_hidden = decoder(\n",
    "                                decoder_input, decoder_hidden, encoder_outputs)\n",
    "                            outputs[:, t] = decoder_output.squeeze()\n",
    "                            decoder_input = target_tensor[:, t, :].unsqueeze(1)\n",
    "                    # predict recurisively\n",
    "                    else:\n",
    "                        for t in range(target_len):\n",
    "                            decoder_output, decoder_hidden = decoder(\n",
    "                                decoder_input, decoder_hidden, encoder_outputs)\n",
    "                            outputs[:, t] = decoder_output.squeeze()\n",
    "                            decoder_input = torch.cat(\n",
    "                                (target_tensor[:, t, :-1].unsqueeze(1),\n",
    "                                 decoder_output.detach()), 2)\n",
    "\n",
    "                loss = criterion(outputs, labels)\n",
    "                train_losses.append(loss.item)\n",
    "                loss.backward()\n",
    "                encoder_optimizer.step()\n",
    "                decoder_optimizer.step()\n",
    "\n",
    "                # eval\n",
    "                if i % 5 == 0:\n",
    "                    num_without_imp = num_without_imp + 1\n",
    "                    valid_losses = list()\n",
    "                    encoder.eval()\n",
    "                    decoder.eval()\n",
    "                    for inp, lab in valid_loader:\n",
    "                        inp = inp.to(device)\n",
    "                        lab = lab.to(device)\n",
    "                        out = torch.zeros(batch_size, target_len).to(device)\n",
    "                        # encoder\n",
    "                        input_tensor = inp[:, 0:seq_len, :]\n",
    "                        target_tensor = inp[:, seq_len:, 0:-1]\n",
    "                        encoder_outputs, encoder_hidden = encoder(input_tensor)\n",
    "                        # decoder\n",
    "                        decoder_input = inp[:, seq_len - 1, :].unsqueeze(1)\n",
    "                        decoder_hidden = encoder_hidden\n",
    "                        # predict recuisively\n",
    "                        for t in range(target_len):\n",
    "                            decoder_output, decoder_hidden = decoder(\n",
    "                                decoder_input, decoder_hidden, encoder_outputs)\n",
    "                            out[:, t] = decoder_output.squeeze()\n",
    "                            decoder_input = torch.cat(\n",
    "                                (target_tensor[:, t, :].unsqueeze(1),\n",
    "                                 decoder_output.detach()), 2)\n",
    "                        valid_loss = criterion(out, lab)\n",
    "                        valid_losses.append(valid_loss.item())\n",
    "                    encoder.train()\n",
    "                    decoder.train()\n",
    "                    loop.set_description(\"Epoch: {}/{}...\".format(\n",
    "                        epoch, number_epoch))\n",
    "                    loop.set_postfix(train_loss=loss.item(),\n",
    "                                     valid_loss=np.mean(valid_losses))\n",
    "                    if np.mean(valid_losses) < valid_loss_min:\n",
    "                        num_without_imp = 0\n",
    "                        torch.save(encoder.state_dict(),\n",
    "                                   \"./model/encoder_state_dict.pt\")\n",
    "                        torch.save(decoder.state_dict(),\n",
    "                                   \"./model/decoder_state_dict.pt\")\n",
    "                        valid_loss_min = np.mean(valid_losses)\n",
    "            encoder_scheduler.step()\n",
    "            decoder_scheduler.step()\n",
    "        if valid_loss_min < mse_thresh:\n",
    "            break\n",
    "    return encoder, decoder"
   ]
  },
  {
   "cell_type": "markdown",
   "id": "293d593d",
   "metadata": {},
   "source": [
    "## test results"
   ]
  },
  {
   "cell_type": "code",
   "execution_count": 17,
   "id": "3080022e",
   "metadata": {
    "ExecuteTime": {
     "end_time": "2021-12-22T14:44:46.955231Z",
     "start_time": "2021-12-22T14:44:46.939541Z"
    },
    "code_folding": []
   },
   "outputs": [],
   "source": [
    "def test_model(encoder, decoder, test_x, test_y, scaler_y, seq_len, target_len,\n",
    "               batch_size):\n",
    "    test_dataset = TensorDataset(torch.FloatTensor(test_x),\n",
    "                                 torch.FloatTensor(test_y))\n",
    "    test_loader = DataLoader(dataset=test_dataset,\n",
    "                             batch_size=batch_size,\n",
    "                             shuffle=False,\n",
    "                             drop_last=True)\n",
    "    encoder.load_state_dict(torch.load('./model/encoder_state_dict.pt'))\n",
    "    decoder.load_state_dict(torch.load('./model/decoder_state_dict.pt'))\n",
    "    y_pred = []\n",
    "    y_true = []\n",
    "    with torch.no_grad():\n",
    "        for inputs, labels in test_loader:\n",
    "            inputs = inputs.to(device=device)\n",
    "            labels = labels.to(device=device)\n",
    "            outputs = torch.zeros(batch_size, target_len).to(device)\n",
    "            # encoder\n",
    "            input_tensor = inputs[:, 0:seq_len, :]\n",
    "            target_tensor = inputs[:, seq_len:, :]\n",
    "            encoder_outputs, encoder_hidden = encoder(input_tensor)\n",
    "            # decoder\n",
    "            decoder_input = inputs[:, seq_len-1, :].unsqueeze(1)\n",
    "            decoder_hidden = encoder_hidden\n",
    "            # predict recursively\n",
    "            for t in range(target_len):\n",
    "                decoder_output, decoder_hidden = decoder(decoder_input, decoder_hidden, encoder_outputs)\n",
    "                outputs[:, t] = decoder_output.squeeze()\n",
    "                decoder_input = torch.cat((target_tensor[:, t, :-1].unsqueeze(1), decoder_output.detach()), 2)\n",
    "            y_pred += outputs.cpu().numpy().flatten().tolist()\n",
    "            y_true += labels.cpu().numpy().flatten().tolist()\n",
    "    y_pred = np.array(y_pred).reshape(-1, 1)\n",
    "    y_true = np.array(y_true).reshape(-1, 1)\n",
    "    #     pdb.set_trace()\n",
    "    load_pred = scaler_y.inverse_transform(y_pred)\n",
    "    load_true = scaler_y.inverse_transform(y_true)\n",
    "    MAPE = np.mean(np.abs(load_true - load_pred) / load_true)\n",
    "    MAE = np.mean(np.abs(load_true - load_pred))\n",
    "    RMSE = np.sqrt(np.mean(np.square(load_true - load_pred)))\n",
    "    return MAPE, MAE, RMSE, load_pred, load_true"
   ]
  },
  {
   "cell_type": "markdown",
   "id": "a8ffeeb3",
   "metadata": {},
   "source": [
    "## run model retraining"
   ]
  },
  {
   "cell_type": "code",
   "execution_count": 14,
   "id": "6592f918",
   "metadata": {
    "ExecuteTime": {
     "end_time": "2021-12-22T14:44:37.123432Z",
     "start_time": "2021-12-22T14:44:37.110288Z"
    }
   },
   "outputs": [],
   "source": [
    "def run_model_retraining(seq_len=seq_len,\n",
    "                         target_len=target_len,\n",
    "                         mse_thresh=mse_thresh):\n",
    "    train_data = data[:int(0.8 * len(data))]\n",
    "    train_data, scaler, scaler_y = normalization(train_data)\n",
    "    train_x, train_y = series_to_supervise(train_data, seq_len, target_len)\n",
    "\n",
    "    valid_x = train_x[int(0.8 * len(train_x)):]\n",
    "    valid_y = train_y[int(0.8 * len(train_y)):]\n",
    "    train_x = train_x[:int(0.8 * len(train_x))]\n",
    "    train_y = train_y[:int(0.8 * len(train_y))]\n",
    "    input_size = train_x.shape[2]\n",
    "\n",
    "    #     hyper-parameters define\n",
    "    batch_size = 512\n",
    "    lr = 0.01\n",
    "    number_epoch = 80\n",
    "    hidden_dim = 150\n",
    "    n_layers = 2\n",
    "    drop_prob = 0.4\n",
    "    mse_thresh = 0.01\n",
    "\n",
    "    encoder, decoder = train_model(train_x, train_y, valid_x, valid_y,\n",
    "                                   input_size, seq_len, target_len, mse_thresh,\n",
    "                                   hidden_dim, n_layers, number_epoch,\n",
    "                                   batch_size, lr, drop_prob)\n",
    "    test_data = data[int(0.8 * len(data)):]\n",
    "    test_data = scaler.transform(test_data)\n",
    "    test_x, test_y = series_to_supervise(test_data, seq_len, target_len)\n",
    "    MAPE, MAE, RMSE, load_pred, load_true = test_model(encoder, decoder,\n",
    "                                                       test_x, test_y,\n",
    "                                                       scaler_y, seq_len,\n",
    "                                                       target_len, batch_size)\n",
    "    return MAPE, MAE, RMSE, load_pred, load_true"
   ]
  },
  {
   "cell_type": "code",
   "execution_count": 18,
   "id": "27a979cd",
   "metadata": {
    "ExecuteTime": {
     "end_time": "2021-12-22T14:51:47.568746Z",
     "start_time": "2021-12-22T14:44:50.531224Z"
    }
   },
   "outputs": [
    {
     "name": "stdout",
     "output_type": "stream",
     "text": [
      "supervised data: shape of x: (25232, 96, 16), shape of y: (25232, 24)\n"
     ]
    },
    {
     "name": "stderr",
     "output_type": "stream",
     "text": [
      "Epoch: 1/80...: 100%|██████████| 39/39 [00:05<00:00,  6.98it/s, train_loss=0.00964, valid_loss=0.0213]\n",
      "Epoch: 2/80...: 100%|██████████| 39/39 [00:05<00:00,  6.72it/s, train_loss=0.0119, valid_loss=0.0136]\n",
      "Epoch: 3/80...: 100%|██████████| 39/39 [00:05<00:00,  6.92it/s, train_loss=0.0177, valid_loss=0.038]   \n",
      "Epoch: 4/80...: 100%|██████████| 39/39 [00:05<00:00,  7.17it/s, train_loss=0.00371, valid_loss=0.0105] \n",
      "Epoch: 5/80...: 100%|██████████| 39/39 [00:05<00:00,  7.11it/s, train_loss=0.00438, valid_loss=0.00435]\n",
      "Epoch: 6/80...: 100%|██████████| 39/39 [00:05<00:00,  6.89it/s, train_loss=0.0135, valid_loss=0.013]   \n",
      "Epoch: 7/80...: 100%|██████████| 39/39 [00:05<00:00,  7.28it/s, train_loss=0.00385, valid_loss=0.00432]\n",
      "Epoch: 8/80...: 100%|██████████| 39/39 [00:04<00:00,  7.92it/s, train_loss=0.00293, valid_loss=0.00272]\n",
      "Epoch: 9/80...: 100%|██████████| 39/39 [00:04<00:00,  8.02it/s, train_loss=0.00175, valid_loss=0.00254]\n",
      "Epoch: 10/80...: 100%|██████████| 39/39 [00:04<00:00,  8.28it/s, train_loss=0.00194, valid_loss=0.00603]\n",
      "Epoch: 11/80...: 100%|██████████| 39/39 [00:04<00:00,  8.01it/s, train_loss=0.00217, valid_loss=0.00203]\n",
      "Epoch: 12/80...: 100%|██████████| 39/39 [00:04<00:00,  8.20it/s, train_loss=0.00116, valid_loss=0.00178]\n",
      "Epoch: 13/80...: 100%|██████████| 39/39 [00:04<00:00,  8.30it/s, train_loss=0.00103, valid_loss=0.00146] \n",
      "Epoch: 14/80...: 100%|██████████| 39/39 [00:05<00:00,  7.68it/s, train_loss=0.00147, valid_loss=0.00316] \n",
      "Epoch: 15/80...: 100%|██████████| 39/39 [00:04<00:00,  8.26it/s, train_loss=0.00166, valid_loss=0.00194]\n",
      "Epoch: 16/80...: 100%|██████████| 39/39 [00:04<00:00,  8.23it/s, train_loss=0.00124, valid_loss=0.00209] \n",
      "Epoch: 17/80...: 100%|██████████| 39/39 [00:05<00:00,  7.69it/s, train_loss=0.00112, valid_loss=0.0017]  \n",
      "Epoch: 18/80...: 100%|██████████| 39/39 [00:04<00:00,  8.18it/s, train_loss=0.000763, valid_loss=0.00201]\n",
      "Epoch: 19/80...: 100%|██████████| 39/39 [00:04<00:00,  7.99it/s, train_loss=0.00104, valid_loss=0.00176] \n",
      "Epoch: 20/80...: 100%|██████████| 39/39 [00:04<00:00,  8.19it/s, train_loss=0.00108, valid_loss=0.00207] \n",
      "Epoch: 21/80...: 100%|██████████| 39/39 [00:04<00:00,  9.28it/s, train_loss=0.000726, valid_loss=0.00189]\n",
      "Epoch: 22/80...: 100%|██████████| 39/39 [00:04<00:00,  9.53it/s, train_loss=0.00109, valid_loss=0.00459] \n",
      "Epoch: 23/80...: 100%|██████████| 39/39 [00:04<00:00,  9.25it/s, train_loss=0.000993, valid_loss=0.00143]\n",
      "Epoch: 24/80...: 100%|██████████| 39/39 [00:04<00:00,  9.46it/s, train_loss=0.000884, valid_loss=0.0047] \n",
      "Epoch: 25/80...: 100%|██████████| 39/39 [00:04<00:00,  9.39it/s, train_loss=0.000583, valid_loss=0.00209]\n",
      "Epoch: 26/80...: 100%|██████████| 39/39 [00:04<00:00,  8.72it/s, train_loss=0.000607, valid_loss=0.00272]\n",
      "Epoch: 27/80...: 100%|██████████| 39/39 [00:04<00:00,  8.14it/s, train_loss=0.00149, valid_loss=0.00686] \n",
      "Epoch: 28/80...: 100%|██████████| 39/39 [00:05<00:00,  7.64it/s, train_loss=0.000832, valid_loss=0.00203]\n",
      "Epoch: 29/80...: 100%|██████████| 39/39 [00:06<00:00,  6.46it/s, train_loss=0.000973, valid_loss=0.00315]\n",
      "Epoch: 30/80...: 100%|██████████| 39/39 [00:05<00:00,  7.13it/s, train_loss=0.00077, valid_loss=0.00218] \n",
      "Epoch: 31/80...: 100%|██████████| 39/39 [00:04<00:00,  8.06it/s, train_loss=0.000657, valid_loss=0.00331]\n",
      "Epoch: 32/80...: 100%|██████████| 39/39 [00:04<00:00,  8.24it/s, train_loss=0.000793, valid_loss=0.00217]\n",
      "Epoch: 33/80...: 100%|██████████| 39/39 [00:04<00:00,  7.93it/s, train_loss=0.000662, valid_loss=0.00454]\n",
      "Epoch: 34/80...: 100%|██████████| 39/39 [00:04<00:00,  8.03it/s, train_loss=0.00186, valid_loss=0.00308] \n",
      "Epoch: 35/80...: 100%|██████████| 39/39 [00:04<00:00,  8.36it/s, train_loss=0.000989, valid_loss=0.00512]\n",
      "Epoch: 36/80...: 100%|██████████| 39/39 [00:04<00:00,  8.40it/s, train_loss=0.000504, valid_loss=0.0025] \n",
      "Epoch: 37/80...: 100%|██████████| 39/39 [00:04<00:00,  8.47it/s, train_loss=0.000626, valid_loss=0.00365]\n",
      "Epoch: 38/80...: 100%|██████████| 39/39 [00:04<00:00,  8.24it/s, train_loss=0.000958, valid_loss=0.00344]\n",
      "Epoch: 39/80...: 100%|██████████| 39/39 [00:04<00:00,  8.38it/s, train_loss=0.000393, valid_loss=0.00208]\n",
      "Epoch: 40/80...: 100%|██████████| 39/39 [00:04<00:00,  7.99it/s, train_loss=0.000464, valid_loss=0.00655]\n",
      "Epoch: 41/80...: 100%|██████████| 39/39 [00:04<00:00,  8.30it/s, train_loss=0.000567, valid_loss=0.00351]\n",
      "Epoch: 42/80...: 100%|██████████| 39/39 [00:04<00:00,  8.17it/s, train_loss=0.00054, valid_loss=0.00216] \n",
      "Epoch: 43/80...: 100%|██████████| 39/39 [00:04<00:00,  8.18it/s, train_loss=0.000577, valid_loss=0.00291]\n",
      "Epoch: 44/80...: 100%|██████████| 39/39 [00:04<00:00,  8.09it/s, train_loss=0.000602, valid_loss=0.0034] \n",
      "Epoch: 45/80...: 100%|██████████| 39/39 [00:05<00:00,  7.52it/s, train_loss=0.000405, valid_loss=0.0041] \n",
      "Epoch: 46/80...: 100%|██████████| 39/39 [00:05<00:00,  6.95it/s, train_loss=0.00061, valid_loss=0.00218] \n",
      "Epoch: 47/80...: 100%|██████████| 39/39 [00:05<00:00,  6.95it/s, train_loss=0.000513, valid_loss=0.00322]\n",
      "Epoch: 48/80...: 100%|██████████| 39/39 [00:05<00:00,  7.49it/s, train_loss=0.000543, valid_loss=0.00255]\n",
      "Epoch: 49/80...: 100%|██████████| 39/39 [00:05<00:00,  7.27it/s, train_loss=0.000345, valid_loss=0.00322]\n",
      "Epoch: 50/80...: 100%|██████████| 39/39 [00:04<00:00,  7.88it/s, train_loss=0.000304, valid_loss=0.00341]\n",
      "Epoch: 51/80...: 100%|██████████| 39/39 [00:04<00:00,  8.19it/s, train_loss=0.000341, valid_loss=0.00346]\n",
      "Epoch: 52/80...: 100%|██████████| 39/39 [00:04<00:00,  8.36it/s, train_loss=0.000444, valid_loss=0.00511]\n",
      "Epoch: 53/80...: 100%|██████████| 39/39 [00:04<00:00,  8.10it/s, train_loss=0.000345, valid_loss=0.0025] \n",
      "Epoch: 54/80...: 100%|██████████| 39/39 [00:04<00:00,  8.44it/s, train_loss=0.000464, valid_loss=0.00368]\n",
      "Epoch: 55/80...: 100%|██████████| 39/39 [00:04<00:00,  8.09it/s, train_loss=0.000366, valid_loss=0.00394]\n",
      "Epoch: 56/80...: 100%|██████████| 39/39 [00:04<00:00,  8.33it/s, train_loss=0.000552, valid_loss=0.00411]\n",
      "Epoch: 57/80...: 100%|██████████| 39/39 [00:04<00:00,  7.94it/s, train_loss=0.000798, valid_loss=0.0072] \n",
      "Epoch: 58/80...: 100%|██████████| 39/39 [00:05<00:00,  6.93it/s, train_loss=0.000753, valid_loss=0.00396]\n",
      "Epoch: 59/80...: 100%|██████████| 39/39 [00:05<00:00,  6.63it/s, train_loss=0.000459, valid_loss=0.00267]\n",
      "Epoch: 60/80...: 100%|██████████| 39/39 [00:05<00:00,  6.71it/s, train_loss=0.000336, valid_loss=0.00284]\n",
      "Epoch: 61/80...: 100%|██████████| 39/39 [00:05<00:00,  6.60it/s, train_loss=0.000351, valid_loss=0.00224]\n",
      "Epoch: 62/80...: 100%|██████████| 39/39 [00:06<00:00,  6.44it/s, train_loss=0.000314, valid_loss=0.00307]\n",
      "Epoch: 63/80...: 100%|██████████| 39/39 [00:05<00:00,  6.91it/s, train_loss=0.000315, valid_loss=0.00248]\n",
      "Epoch: 64/80...: 100%|██████████| 39/39 [00:05<00:00,  6.72it/s, train_loss=0.000272, valid_loss=0.00317]\n",
      "Epoch: 65/80...: 100%|██████████| 39/39 [00:05<00:00,  6.68it/s, train_loss=0.000471, valid_loss=0.00376]\n",
      "Epoch: 66/80...: 100%|██████████| 39/39 [00:05<00:00,  7.05it/s, train_loss=0.000328, valid_loss=0.00389]\n",
      "Epoch: 67/80...: 100%|██████████| 39/39 [00:05<00:00,  6.82it/s, train_loss=0.000333, valid_loss=0.00327]\n",
      "Epoch: 68/80...: 100%|██████████| 39/39 [00:05<00:00,  6.82it/s, train_loss=0.000351, valid_loss=0.00319]\n",
      "Epoch: 69/80...: 100%|██████████| 39/39 [00:05<00:00,  6.73it/s, train_loss=0.000264, valid_loss=0.00308]\n",
      "Epoch: 70/80...: 100%|██████████| 39/39 [00:06<00:00,  6.44it/s, train_loss=0.000264, valid_loss=0.00306]\n",
      "Epoch: 71/80...: 100%|██████████| 39/39 [00:05<00:00,  6.53it/s, train_loss=0.000272, valid_loss=0.00266]\n",
      "Epoch: 72/80...: 100%|██████████| 39/39 [00:05<00:00,  6.91it/s, train_loss=0.000325, valid_loss=0.00307]\n",
      "Epoch: 73/80...: 100%|██████████| 39/39 [00:05<00:00,  6.75it/s, train_loss=0.000341, valid_loss=0.0033] \n",
      "Epoch: 74/80...: 100%|██████████| 39/39 [00:05<00:00,  6.51it/s, train_loss=0.000267, valid_loss=0.00287]\n",
      "Epoch: 75/80...: 100%|██████████| 39/39 [00:05<00:00,  7.09it/s, train_loss=0.000434, valid_loss=0.00366]\n",
      "Epoch: 76/80...: 100%|██████████| 39/39 [00:05<00:00,  6.55it/s, train_loss=0.000337, valid_loss=0.00294]\n",
      "Epoch: 77/80...: 100%|██████████| 39/39 [00:06<00:00,  6.46it/s, train_loss=0.000287, valid_loss=0.00281]\n",
      "Epoch: 78/80...: 100%|██████████| 39/39 [00:06<00:00,  6.48it/s, train_loss=0.000481, valid_loss=0.0045] \n",
      "Epoch: 79/80...: 100%|██████████| 39/39 [00:06<00:00,  6.45it/s, train_loss=0.000948, valid_loss=0.00349]\n",
      "Epoch: 80/80...: 100%|██████████| 39/39 [00:05<00:00,  6.57it/s, train_loss=0.000437, valid_loss=0.00347]\n"
     ]
    },
    {
     "name": "stdout",
     "output_type": "stream",
     "text": [
      "supervised data: shape of x: (6237, 96, 16), shape of y: (6237, 24)\n"
     ]
    }
   ],
   "source": [
    "MAPE, MAE, RMSE, load_pred, load_true = run_model_retraining()"
   ]
  },
  {
   "cell_type": "code",
   "execution_count": 1,
   "id": "8ce04a8a",
   "metadata": {
    "ExecuteTime": {
     "end_time": "2021-12-23T03:27:59.467451Z",
     "start_time": "2021-12-23T03:27:59.420141Z"
    }
   },
   "outputs": [
    {
     "ename": "NameError",
     "evalue": "name 'MAPE' is not defined",
     "output_type": "error",
     "traceback": [
      "\u001b[0;31m---------------------------------------------------------------------------\u001b[0m",
      "\u001b[0;31mNameError\u001b[0m                                 Traceback (most recent call last)",
      "\u001b[0;32m<ipython-input-1-716d6c927a8b>\u001b[0m in \u001b[0;36m<module>\u001b[0;34m\u001b[0m\n\u001b[0;32m----> 1\u001b[0;31m \u001b[0mprint\u001b[0m\u001b[0;34m(\u001b[0m\u001b[0;34m'MAPE:{}, MAE:{}, RMSE:{}'\u001b[0m\u001b[0;34m.\u001b[0m\u001b[0mformat\u001b[0m\u001b[0;34m(\u001b[0m\u001b[0mMAPE\u001b[0m\u001b[0;34m,\u001b[0m \u001b[0mMAE\u001b[0m\u001b[0;34m,\u001b[0m \u001b[0mRMSE\u001b[0m\u001b[0;34m)\u001b[0m\u001b[0;34m)\u001b[0m\u001b[0;34m\u001b[0m\u001b[0;34m\u001b[0m\u001b[0m\n\u001b[0m",
      "\u001b[0;31mNameError\u001b[0m: name 'MAPE' is not defined"
     ]
    }
   ],
   "source": [
    "print('MAPE:{}, MAE:{}, RMSE:{}'.format(MAPE, MAE, RMSE))"
   ]
  },
  {
   "cell_type": "markdown",
   "id": "fdfaecb5",
   "metadata": {},
   "source": [
    "## figure plot"
   ]
  },
  {
   "cell_type": "code",
   "execution_count": 21,
   "id": "d36fc83e",
   "metadata": {
    "ExecuteTime": {
     "end_time": "2021-12-22T14:51:57.151188Z",
     "start_time": "2021-12-22T14:51:56.999250Z"
    }
   },
   "outputs": [
    {
     "data": {
      "text/plain": [
       "[<matplotlib.lines.Line2D at 0x7fb457c2b4f0>]"
      ]
     },
     "execution_count": 21,
     "metadata": {},
     "output_type": "execute_result"
    },
    {
     "data": {
      "image/png": "[encoded data removed]",
      "text/plain": [
       "<Figure size 1440x720 with 1 Axes>"
      ]
     },
     "metadata": {
      "needs_background": "light"
     },
     "output_type": "display_data"
    }
   ],
   "source": [
    "plt.figure(figsize=(20, 10))\n",
    "load_pred = load_pred.reshape(-1, 24)\n",
    "load_true = load_true.reshape(-1, 24)\n",
    "plt.plot(load_pred[:240, 0], 'r')\n",
    "plt.plot(load_true[:240, 0], 'g')"
   ]
  }
 ],
 "metadata": {
  "kernelspec": {
   "display_name": "Python 3",
   "language": "python",
   "name": "python3"
  },
  "language_info": {
   "codemirror_mode": {
    "name": "ipython",
    "version": 3
   },
   "file_extension": ".py",
   "mimetype": "text/x-python",
   "name": "python",
   "nbconvert_exporter": "python",
   "pygments_lexer": "ipython3",
   "version": "3.8.12"
  },
  "toc": {
   "base_numbering": 1,
   "nav_menu": {},
   "number_sections": true,
   "sideBar": true,
   "skip_h1_title": false,
   "title_cell": "Table of Contents",
   "title_sidebar": "Contents",
   "toc_cell": false,
   "toc_position": {
    "height": "calc(100% - 180px)",
    "left": "10px",
    "top": "150px",
    "width": "374.391px"
   },
   "toc_section_display": true,
   "toc_window_display": true
  },
  "varInspector": {
   "cols": {
    "lenName": 16,
    "lenType": 16,
    "lenVar": 40
   },
   "kernels_config": {
    "python": {
     "delete_cmd_postfix": "",
     "delete_cmd_prefix": "del ",
     "library": "var_list.py",
     "varRefreshCmd": "print(var_dic_list())"
    },
    "r": {
     "delete_cmd_postfix": ") ",
     "delete_cmd_prefix": "rm(",
     "library": "var_list.r",
     "varRefreshCmd": "cat(var_dic_list()) "
    }
   },
   "types_to_exclude": [
    "module",
    "function",
    "builtin_function_or_method",
    "instance",
    "_Feature"
   ],
   "window_display": false
  }
 },
 "nbformat": 4,
 "nbformat_minor": 5
}
