{
 "cells": [
  {
   "cell_type": "markdown",
   "id": "dead00a8",
   "metadata": {},
   "source": [
    "# FNN for forecast"
   ]
  },
  {
   "cell_type": "code",
   "execution_count": 1,
   "id": "71f82885",
   "metadata": {
    "ExecuteTime": {
     "end_time": "2022-01-09T07:49:02.356167Z",
     "start_time": "2022-01-09T07:49:01.394165Z"
    }
   },
   "outputs": [],
   "source": [
    "import pandas as pd\n",
    "import numpy as np\n",
    "import matplotlib.pyplot as plt\n",
    "import pdb\n",
    "import torch\n",
    "import torch.nn as nn\n",
    "import random\n",
    "\n",
    "from sklearn.preprocessing import MinMaxScaler\n",
    "from sklearn.model_selection import train_test_split, TimeSeriesSplit\n",
    "from torch.autograd import Variable\n",
    "from torch.utils.data import TensorDataset, DataLoader\n",
    "from tqdm import tqdm\n",
    "from torchsummary import summary\n",
    "\n",
    "\n",
    "if torch.cuda.is_available():  \n",
    "    dev = \"cuda:0\" \n",
    "else:  \n",
    "    dev = \"cpu\"\n",
    "device = torch.device(dev)"
   ]
  },
  {
   "cell_type": "code",
   "execution_count": 2,
   "id": "ebfe5abe",
   "metadata": {
    "ExecuteTime": {
     "end_time": "2022-01-09T07:49:02.361095Z",
     "start_time": "2022-01-09T07:49:02.358023Z"
    }
   },
   "outputs": [],
   "source": [
    "def random_seed_set(seed):\n",
    "    np.random.seed(seed)\n",
    "    torch.random.manual_seed(seed)\n",
    "    torch.cuda.random.manual_seed(seed)\n",
    "    torch.backends.cudnn.benchmark = False\n",
    "    torch.backends.cudnn.deterministic = True"
   ]
  },
  {
   "cell_type": "markdown",
   "id": "0ab8b53b",
   "metadata": {},
   "source": [
    "## load data"
   ]
  },
  {
   "cell_type": "code",
   "execution_count": 3,
   "id": "4456a696",
   "metadata": {
    "ExecuteTime": {
     "end_time": "2022-01-09T07:49:02.407902Z",
     "start_time": "2022-01-09T07:49:02.362347Z"
    }
   },
   "outputs": [],
   "source": [
    "url = '../data/beijing.csv'\n",
    "data = pd.read_csv(url, sep=',', index_col='time')"
   ]
  },
  {
   "cell_type": "markdown",
   "id": "ed452645",
   "metadata": {
    "ExecuteTime": {
     "end_time": "2021-12-21T13:42:50.888600Z",
     "start_time": "2021-12-21T13:42:50.852752Z"
    }
   },
   "source": [
    "## normalization"
   ]
  },
  {
   "cell_type": "code",
   "execution_count": 4,
   "id": "e2dffdc3",
   "metadata": {
    "ExecuteTime": {
     "end_time": "2022-01-09T07:49:02.412589Z",
     "start_time": "2022-01-09T07:49:02.409152Z"
    }
   },
   "outputs": [],
   "source": [
    "def normalization(data):\n",
    "    \"\"\"\n",
    "    data: original data with load\n",
    "    return: normalized data, scaler of load\n",
    "    \"\"\"\n",
    "    scaler = MinMaxScaler()\n",
    "    normalized_data = scaler.fit_transform(data)\n",
    "    scaler_y = MinMaxScaler()\n",
    "    scaler_y.fit_transform(data[[data.columns[-1]]])\n",
    "    return normalized_data, scaler, scaler_y"
   ]
  },
  {
   "cell_type": "markdown",
   "id": "1300569f",
   "metadata": {},
   "source": [
    "## build supervised dataset"
   ]
  },
  {
   "cell_type": "code",
   "execution_count": 5,
   "id": "6de57763",
   "metadata": {
    "ExecuteTime": {
     "end_time": "2022-01-09T07:49:02.418970Z",
     "start_time": "2022-01-09T07:49:02.414409Z"
    }
   },
   "outputs": [],
   "source": [
    "def Series_To_Supervise(data, seq_len, target_len):\n",
    "    \"\"\"\n",
    "    convert series data to supervised data\n",
    "    :param data: original data\n",
    "    :param seq_len: length of input sequence\n",
    "    :param target_len: length of ouput sequence\n",
    "    :return: return two ndarrays-- input and output in format suitable to feed to LSTM\n",
    "    \"\"\"\n",
    "    dim_0 = data.shape[0] - seq_len - target_len + 1\n",
    "    dim_1 = data.shape[1]\n",
    "    x = np.zeros((dim_0, seq_len, dim_1))\n",
    "    y = np.zeros((dim_0, target_len))\n",
    "    for i in range(dim_0):\n",
    "        x[i] = data[i:i + seq_len]\n",
    "        y[i] = data[i + seq_len:i + seq_len + target_len, -1]\n",
    "    print(\"Supervised Data: Shape of x: {}, Shape of y: {}\".format(x.shape, y.shape))\n",
    "    return x, y"
   ]
  },
  {
   "cell_type": "markdown",
   "id": "a9d9f7b2",
   "metadata": {},
   "source": [
    "## feature seletion"
   ]
  },
  {
   "cell_type": "code",
   "execution_count": 6,
   "id": "eeccd86b",
   "metadata": {
    "ExecuteTime": {
     "end_time": "2022-01-09T07:49:02.423198Z",
     "start_time": "2022-01-09T07:49:02.420155Z"
    }
   },
   "outputs": [],
   "source": [
    "def select_feature(X, Y, feature_num=100):\n",
    "    \"\"\"\n",
    "    X: features\n",
    "    Y: labels\n",
    "    feature_num: num of selected features\n",
    "    return: index of selected features\n",
    "    \"\"\"\n",
    "    X = X.reshape(X.shape[0], -1)\n",
    "    model = XGBRegressor()\n",
    "    model.fit(X, Y)\n",
    "    model.importance_type = 'weight'\n",
    "    ind = (-model.feature_importances_).argsort()[0:feature_num]\n",
    "    return ind"
   ]
  },
  {
   "cell_type": "markdown",
   "id": "781d9a1b",
   "metadata": {},
   "source": [
    "## 5-folds TimeSeriesSplit"
   ]
  },
  {
   "cell_type": "code",
   "execution_count": 7,
   "id": "ef9144cf",
   "metadata": {
    "ExecuteTime": {
     "end_time": "2022-01-09T07:49:02.428025Z",
     "start_time": "2022-01-09T07:49:02.424611Z"
    }
   },
   "outputs": [],
   "source": [
    "def time_series_split(X, Y, n_split=5):\n",
    "    \"\"\"\n",
    "    X: features, size * seq_len * feature_num\n",
    "    Y: labels, size * target_len\n",
    "    return: list of train_x, test_x, train_y, test_y\n",
    "    \"\"\"\n",
    "    tscv = TimeSeriesSplit(n_splits=n_split)\n",
    "    train_x_list = list()\n",
    "    valid_x_list = list()\n",
    "    train_y_list = list()\n",
    "    valid_y_list = list()\n",
    "    for train_index, valid_index in tscv.split(X):\n",
    "        train_x_list.append(X[train_index])\n",
    "        train_y_list.append(Y[train_index])\n",
    "        valid_x_list.append(X[valid_index])\n",
    "        valid_y_list.append(Y[valid_index])\n",
    "    return train_x_list, train_y_list, valid_x_list, valid_y_list"
   ]
  },
  {
   "cell_type": "markdown",
   "id": "c4ffb484",
   "metadata": {
    "ExecuteTime": {
     "end_time": "2021-12-21T14:02:51.856018Z",
     "start_time": "2021-12-21T14:02:51.852675Z"
    }
   },
   "source": [
    "## FNN model"
   ]
  },
  {
   "cell_type": "markdown",
   "id": "37b44ae7",
   "metadata": {},
   "source": [
    "### define model"
   ]
  },
  {
   "cell_type": "code",
   "execution_count": 8,
   "id": "212e8481",
   "metadata": {
    "ExecuteTime": {
     "end_time": "2022-01-09T07:49:02.434011Z",
     "start_time": "2022-01-09T07:49:02.429381Z"
    }
   },
   "outputs": [],
   "source": [
    "class FNN(nn.Module):\n",
    "    \"\"\"\n",
    "    A fnn neural network\n",
    "    \"\"\"\n",
    "    def __init__(self, input_size, output_size, hidden_dim, drop_prob):\n",
    "        super(FNN, self).__init__()\n",
    "        \n",
    "        self.fnn = nn.Sequential(\n",
    "            nn.Flatten(),\n",
    "            nn.Linear(input_size, 1024),\n",
    "#             nn.BatchNorm1d(1024),\n",
    "            nn.ReLU(),\n",
    "            nn.Dropout(drop_prob),\n",
    "            nn.Linear(1024, 512),\n",
    "#             nn.BatchNorm1d(512),\n",
    "            nn.ReLU(),\n",
    "            nn.Dropout(drop_prob),\n",
    "            nn.Linear(512, 256),\n",
    "            nn.ReLU(),\n",
    "            nn.Dropout(drop_prob),\n",
    "            nn.Linear(256, 128),\n",
    "            nn.ReLU(),\n",
    "            nn.Dropout(drop_prob),\n",
    "            nn.Linear(128, 64),\n",
    "            nn.ReLU(),\n",
    "            nn.Linear(64, hidden_dim),\n",
    "            nn.ReLU(),\n",
    "            nn.Linear(hidden_dim,output_size)\n",
    "        )\n",
    "    \n",
    "    def forward(self, x):\n",
    "        out = self.fnn(x)\n",
    "        return out"
   ]
  },
  {
   "cell_type": "markdown",
   "id": "e31d6ef0",
   "metadata": {},
   "source": [
    "### test model"
   ]
  },
  {
   "cell_type": "code",
   "execution_count": 9,
   "id": "461ddec9",
   "metadata": {
    "ExecuteTime": {
     "end_time": "2022-01-09T07:49:04.962160Z",
     "start_time": "2022-01-09T07:49:02.435443Z"
    }
   },
   "outputs": [
    {
     "name": "stdout",
     "output_type": "stream",
     "text": [
      "torch.Size([10, 24])\n",
      "----------------------------------------------------------------\n",
      "        Layer (type)               Output Shape         Param #\n",
      "================================================================\n",
      "           Flatten-1                 [-1, 1152]               0\n",
      "            Linear-2                 [-1, 1024]       1,180,672\n",
      "              ReLU-3                 [-1, 1024]               0\n",
      "           Dropout-4                 [-1, 1024]               0\n",
      "            Linear-5                  [-1, 512]         524,800\n",
      "              ReLU-6                  [-1, 512]               0\n",
      "           Dropout-7                  [-1, 512]               0\n",
      "            Linear-8                  [-1, 256]         131,328\n",
      "              ReLU-9                  [-1, 256]               0\n",
      "          Dropout-10                  [-1, 256]               0\n",
      "           Linear-11                  [-1, 128]          32,896\n",
      "             ReLU-12                  [-1, 128]               0\n",
      "          Dropout-13                  [-1, 128]               0\n",
      "           Linear-14                   [-1, 64]           8,256\n",
      "             ReLU-15                   [-1, 64]               0\n",
      "           Linear-16                   [-1, 32]           2,080\n",
      "             ReLU-17                   [-1, 32]               0\n",
      "           Linear-18                   [-1, 24]             792\n",
      "================================================================\n",
      "Total params: 1,880,824\n",
      "Trainable params: 1,880,824\n",
      "Non-trainable params: 0\n",
      "----------------------------------------------------------------\n",
      "Input size (MB): 0.00\n",
      "Forward/backward pass size (MB): 0.05\n",
      "Params size (MB): 7.17\n",
      "Estimated Total Size (MB): 7.23\n",
      "----------------------------------------------------------------\n"
     ]
    }
   ],
   "source": [
    "fnn = FNN(72 * 16, 24, 32, 0.1)\n",
    "X = torch.randn(10, 72, 16)\n",
    "out = fnn(X)\n",
    "print(out.shape)\n",
    "summary(fnn.to(device), (72, 16))"
   ]
  },
  {
   "cell_type": "markdown",
   "id": "7f4bde6d",
   "metadata": {},
   "source": [
    "## model training for  hyper-parameters optimization"
   ]
  },
  {
   "cell_type": "code",
   "execution_count": 10,
   "id": "c4b30b77",
   "metadata": {
    "ExecuteTime": {
     "end_time": "2022-01-09T07:49:04.972941Z",
     "start_time": "2022-01-09T07:49:04.963541Z"
    },
    "code_folding": []
   },
   "outputs": [],
   "source": [
    "def train_model_hpo(train_x_list, train_y_list, valid_x_list, valid_y_list,\n",
    "                    input_size, output_size, mse_thresh, batch_size, lr,\n",
    "                    number_epoch, hidden_dim, drop_prob, weight_decay):\n",
    "    valid_loss_list = []\n",
    "    for num in range(len(train_x_list)):\n",
    "        while (1):\n",
    "            model_fnn = FNN(input_size, output_size, hidden_dim, drop_prob)\n",
    "            model_fnn.to(device=device)\n",
    "            criterion = nn.MSELoss()\n",
    "            optimizer = torch.optim.Adam(model_fnn.parameters(), lr=lr, weight_decay=weight_decay)\n",
    "            scheduler = torch.optim.lr_scheduler.StepLR(optimizer,\n",
    "                                                        step_size=1,\n",
    "                                                        gamma=0.98)\n",
    "            valid_loss_min = np.Inf\n",
    "            print('cross-validation dataset {}'.format(num))\n",
    "            train_x = train_x_list[num]\n",
    "            train_y = train_y_list[num]\n",
    "            valid_x = valid_x_list[num]\n",
    "            valid_y = valid_y_list[num]\n",
    "            train_dataset = TensorDataset(torch.FloatTensor(train_x),\n",
    "                                          torch.FloatTensor(train_y))\n",
    "            valid_dataset = TensorDataset(torch.FloatTensor(valid_x),\n",
    "                                          torch.FloatTensor(valid_y))\n",
    "            train_loader = DataLoader(dataset=train_dataset,\n",
    "                                      batch_size=batch_size,\n",
    "                                      shuffle=True,\n",
    "                                      drop_last=False)\n",
    "            valid_loader = DataLoader(dataset=valid_dataset,\n",
    "                                      batch_size=batch_size,\n",
    "                                      shuffle=True,\n",
    "                                      drop_last=False)\n",
    "            num_without_imp = 0\n",
    "            # training process\n",
    "            for epoch in range(1, number_epoch + 1):\n",
    "                loop = tqdm(enumerate(train_loader),\n",
    "                            total=len(train_loader),\n",
    "                            leave=True, ncols=100)\n",
    "                for i, (inputs, labels) in loop:\n",
    "                    inputs = inputs.to(device=device)\n",
    "                    labels = labels.to(device=device)\n",
    "                    optimizer.zero_grad()\n",
    "                    outputs = model_fnn(inputs)\n",
    "                    loss = criterion(outputs, labels)\n",
    "                    loss.backward()\n",
    "                    optimizer.step()\n",
    "                    if i % 5 == 0:\n",
    "                        num_without_imp = num_without_imp + 1\n",
    "                        valid_losses = list()\n",
    "                        model_fnn.eval()\n",
    "                        for inp, lab in valid_loader:\n",
    "                            inp = inp.to(device)\n",
    "                            lab = lab.to(device)\n",
    "                            out = model_fnn(inp)\n",
    "                            valid_loss = criterion(out, lab)\n",
    "                            valid_losses.append(valid_loss.item())\n",
    "\n",
    "                        model_fnn.train()\n",
    "                        loop.set_description(\"Epoch: {}/{}\".format(\n",
    "                            epoch, number_epoch))\n",
    "                        loop.set_postfix(train_loss=loss.item(),\n",
    "                                         valid_loss=np.mean(valid_losses))\n",
    "                        if np.mean(valid_losses) < valid_loss_min:\n",
    "                            num_without_imp = 0\n",
    "                            valid_loss_min = np.mean(valid_losses)\n",
    "                scheduler.step()\n",
    "                if num_without_imp >= 80:\n",
    "                    break\n",
    "            if valid_loss_min < mse_thresh:\n",
    "                valid_loss_list.append(valid_loss_min)\n",
    "                break\n",
    "    return np.mean(valid_loss_list)"
   ]
  },
  {
   "cell_type": "markdown",
   "id": "21cbe96e",
   "metadata": {},
   "source": [
    "## hyper-parameters config"
   ]
  },
  {
   "cell_type": "code",
   "execution_count": 11,
   "id": "2f705e09",
   "metadata": {
    "ExecuteTime": {
     "end_time": "2022-01-09T07:49:04.978614Z",
     "start_time": "2022-01-09T07:49:04.974246Z"
    }
   },
   "outputs": [],
   "source": [
    "seq_len = 72\n",
    "target_len = 24\n",
    "feature_num = 100\n",
    "mse_thresh = 0.01\n",
    "\n",
    "\n",
    "def model_config():\n",
    "    batch_sizes = [256]\n",
    "    lrs = [0.01]\n",
    "    number_epochs = [50]\n",
    "    hidden_dims = [32]\n",
    "    drop_probs = [0]\n",
    "    weight_decays = [0]\n",
    "    configs = list()\n",
    "    for i in batch_sizes:\n",
    "        for j in lrs:\n",
    "            for k in number_epochs:\n",
    "                for l in hidden_dims:\n",
    "                    for m in drop_probs:\n",
    "                        for n in weight_decays:\n",
    "                            configs.append({\n",
    "                                'batch_size': i,\n",
    "                                'lr': j,\n",
    "                                'number_epoch': k,\n",
    "                                'hidden_dim': l,\n",
    "                                'drop_prob': m,\n",
    "                                'weight_decay': n\n",
    "                            })\n",
    "    return configs"
   ]
  },
  {
   "cell_type": "markdown",
   "id": "f186d4b5",
   "metadata": {},
   "source": [
    "## random search for HPO"
   ]
  },
  {
   "cell_type": "code",
   "execution_count": 12,
   "id": "d7e64283",
   "metadata": {
    "ExecuteTime": {
     "end_time": "2022-01-09T07:49:04.985927Z",
     "start_time": "2022-01-09T07:49:04.979986Z"
    }
   },
   "outputs": [],
   "source": [
    "def run_model_hpo(seq_len=seq_len,\n",
    "                  target_len=target_len,\n",
    "                  feature_num=feature_num,\n",
    "                  mse_thresh=mse_thresh):\n",
    "    train_data = data[:int(0.7 * len(data))]\n",
    "    train_data, _, _ = normalization(train_data)\n",
    "    train_x, train_y = Series_To_Supervise(train_data, seq_len, target_len)\n",
    "    #     ind = select_feature(train_x, train_y, feature_num=feature_num)\n",
    "    train_x = train_x.reshape(train_x.shape[0], -1)\n",
    "    train_x_list, train_y_list, valid_x_list, valid_y_list = time_series_split(\n",
    "        train_x, train_y)\n",
    "#     with enough data\n",
    "    train_x_list = train_x_list[-1:]\n",
    "    train_y_list = train_y_list[-1:]\n",
    "    valid_x_list = valid_x_list[-1:]\n",
    "    valid_y_list = valid_y_list[-1:]\n",
    "    \n",
    "    configs = model_config()\n",
    "    records = []\n",
    "    input_size = train_x.shape[1]\n",
    "    output_size = target_len\n",
    "    for i in range(1):\n",
    "        config = random.choice(configs)\n",
    "        configs.remove(config)\n",
    "        batch_size = config['batch_size']\n",
    "        lr = config['lr']\n",
    "        number_epoch = config['number_epoch']\n",
    "        hidden_dim = config['hidden_dim']\n",
    "        drop_prob = config['drop_prob']\n",
    "        weight_decay = config['weight_decay']\n",
    "        print(\n",
    "            \"model config: batch_size--{}, lr--{}, number_epoch--{}, hidden_dim--{},drop_prob-{},weight_decay-{}\"\n",
    "            .format(batch_size, lr, number_epoch, hidden_dim, drop_prob, weight_decay))\n",
    "        valid_loss = train_model_hpo(train_x_list, train_y_list, valid_x_list,\n",
    "                                     valid_y_list, input_size, output_size,\n",
    "                                     mse_thresh, batch_size, lr, number_epoch,\n",
    "                                     hidden_dim, drop_prob, weight_decay)\n",
    "        records.append({\n",
    "            'batch_size': batch_size,\n",
    "            'lr': lr,\n",
    "            'number_epoch': number_epoch,\n",
    "            'hidden_dim': hidden_dim,\n",
    "            'drop_prob': drop_prob,\n",
    "            'weight_decay': weight_decay,\n",
    "            'valid_loss': valid_loss\n",
    "        })\n",
    "    return records"
   ]
  },
  {
   "cell_type": "markdown",
   "id": "035b857d",
   "metadata": {},
   "source": [
    "## run random search"
   ]
  },
  {
   "cell_type": "code",
   "execution_count": 18,
   "id": "1685196d",
   "metadata": {
    "ExecuteTime": {
     "end_time": "2022-01-04T03:35:26.219058Z",
     "start_time": "2022-01-04T03:34:59.611162Z"
    }
   },
   "outputs": [
    {
     "name": "stdout",
     "output_type": "stream",
     "text": [
      "Supervised Data: Shape of x: (22066, 72, 16), Shape of y: (22066, 24)\n",
      "model config: batch_size--256, lr--0.01, number_epoch--50, hidden_dim--32,drop_prob-0,weight_decay-0\n",
      "cross-validation dataset 0\n"
     ]
    },
    {
     "name": "stderr",
     "output_type": "stream",
     "text": [
      "Epoch: 1/50: 100%|████████████| 72/72 [00:00<00:00, 79.82it/s, train_loss=0.0137, valid_loss=0.0169]\n",
      "Epoch: 2/50: 100%|█████████████| 72/72 [00:00<00:00, 79.19it/s, train_loss=0.014, valid_loss=0.0161]\n",
      "Epoch: 3/50: 100%|████████████| 72/72 [00:00<00:00, 79.20it/s, train_loss=0.0091, valid_loss=0.0106]\n",
      "Epoch: 4/50: 100%|███████████| 72/72 [00:01<00:00, 69.68it/s, train_loss=0.00706, valid_loss=0.0116]\n",
      "Epoch: 5/50: 100%|███████████| 72/72 [00:00<00:00, 78.73it/s, train_loss=0.00853, valid_loss=0.0113]\n",
      "Epoch: 6/50: 100%|██████████| 72/72 [00:00<00:00, 77.48it/s, train_loss=0.00794, valid_loss=0.00968]\n",
      "Epoch: 7/50: 100%|██████████| 72/72 [00:00<00:00, 75.31it/s, train_loss=0.00668, valid_loss=0.00932]\n",
      "Epoch: 8/50: 100%|██████████| 72/72 [00:00<00:00, 76.99it/s, train_loss=0.00277, valid_loss=0.00395]\n",
      "Epoch: 9/50: 100%|██████████| 72/72 [00:01<00:00, 71.71it/s, train_loss=0.00253, valid_loss=0.00409]\n",
      "Epoch: 10/50: 100%|██████████| 72/72 [00:00<00:00, 78.85it/s, train_loss=0.0035, valid_loss=0.00416]\n",
      "Epoch: 11/50: 100%|█████████| 72/72 [00:00<00:00, 79.24it/s, train_loss=0.00129, valid_loss=0.00242]\n",
      "Epoch: 12/50: 100%|█████████| 72/72 [00:00<00:00, 77.98it/s, train_loss=0.00177, valid_loss=0.00224]\n",
      "Epoch: 13/50: 100%|██████████| 72/72 [00:01<00:00, 67.95it/s, train_loss=0.0011, valid_loss=0.00529]\n",
      "Epoch: 14/50: 100%|█████████| 72/72 [00:00<00:00, 80.63it/s, train_loss=0.00142, valid_loss=0.00314]\n",
      "Epoch: 15/50: 100%|█████████| 72/72 [00:00<00:00, 81.15it/s, train_loss=0.00119, valid_loss=0.00183]\n",
      "Epoch: 16/50: 100%|████████| 72/72 [00:00<00:00, 79.17it/s, train_loss=0.000916, valid_loss=0.00321]\n",
      "Epoch: 17/50: 100%|█████████| 72/72 [00:01<00:00, 70.44it/s, train_loss=0.000837, valid_loss=0.0032]\n",
      "Epoch: 18/50: 100%|████████| 72/72 [00:00<00:00, 79.72it/s, train_loss=0.000964, valid_loss=0.00292]\n",
      "Epoch: 19/50: 100%|█████████| 72/72 [00:00<00:00, 80.36it/s, train_loss=0.00158, valid_loss=0.00327]\n",
      "Epoch: 20/50: 100%|███████████| 72/72 [00:00<00:00, 81.02it/s, train_loss=0.00105, valid_loss=0.002]\n",
      "Epoch: 21/50: 100%|████████| 72/72 [00:00<00:00, 73.53it/s, train_loss=0.000948, valid_loss=0.00372]\n",
      "Epoch: 22/50: 100%|████████| 72/72 [00:00<00:00, 79.31it/s, train_loss=0.000774, valid_loss=0.00177]\n",
      "Epoch: 23/50: 100%|████████| 72/72 [00:00<00:00, 80.23it/s, train_loss=0.000933, valid_loss=0.00269]\n",
      "Epoch: 24/50: 100%|████████| 72/72 [00:00<00:00, 80.66it/s, train_loss=0.000969, valid_loss=0.00314]\n",
      "Epoch: 25/50: 100%|██████████| 72/72 [00:00<00:00, 79.01it/s, train_loss=0.0015, valid_loss=0.00207]\n",
      "Epoch: 26/50: 100%|█████████| 72/72 [00:00<00:00, 73.21it/s, train_loss=0.00137, valid_loss=0.00204]\n",
      "Epoch: 27/50: 100%|█████████| 72/72 [00:00<00:00, 80.65it/s, train_loss=0.00163, valid_loss=0.00217]\n",
      "Epoch: 28/50: 100%|█████████| 72/72 [00:00<00:00, 79.23it/s, train_loss=0.00127, valid_loss=0.00203]\n"
     ]
    }
   ],
   "source": [
    "random_seed_set(0)\n",
    "records = run_model_hpo()"
   ]
  },
  {
   "cell_type": "markdown",
   "id": "c5bbf272",
   "metadata": {},
   "source": [
    "## find the best hyper-parameters"
   ]
  },
  {
   "cell_type": "code",
   "execution_count": 19,
   "id": "531376ea",
   "metadata": {
    "ExecuteTime": {
     "end_time": "2022-01-04T03:42:24.475826Z",
     "start_time": "2022-01-04T03:42:24.447772Z"
    }
   },
   "outputs": [
    {
     "data": {
      "text/html": [
       "<div>\n",
       "<style scoped>\n",
       "    .dataframe tbody tr th:only-of-type {\n",
       "        vertical-align: middle;\n",
       "    }\n",
       "\n",
       "    .dataframe tbody tr th {\n",
       "        vertical-align: top;\n",
       "    }\n",
       "\n",
       "    .dataframe thead th {\n",
       "        text-align: right;\n",
       "    }\n",
       "</style>\n",
       "<table border=\"1\" class=\"dataframe\">\n",
       "  <thead>\n",
       "    <tr style=\"text-align: right;\">\n",
       "      <th></th>\n",
       "      <th>batch_size</th>\n",
       "      <th>lr</th>\n",
       "      <th>number_epoch</th>\n",
       "      <th>hidden_dim</th>\n",
       "      <th>drop_prob</th>\n",
       "      <th>weight_decay</th>\n",
       "      <th>valid_loss</th>\n",
       "    </tr>\n",
       "  </thead>\n",
       "  <tbody>\n",
       "    <tr>\n",
       "      <th>0</th>\n",
       "      <td>256</td>\n",
       "      <td>0.01</td>\n",
       "      <td>50</td>\n",
       "      <td>32</td>\n",
       "      <td>0</td>\n",
       "      <td>0</td>\n",
       "      <td>0.001695</td>\n",
       "    </tr>\n",
       "  </tbody>\n",
       "</table>\n",
       "</div>"
      ],
      "text/plain": [
       "   batch_size    lr  number_epoch  hidden_dim  drop_prob  weight_decay  \\\n",
       "0         256  0.01            50          32          0             0   \n",
       "\n",
       "   valid_loss  \n",
       "0    0.001695  "
      ]
     },
     "execution_count": 19,
     "metadata": {},
     "output_type": "execute_result"
    }
   ],
   "source": [
    "records = pd.DataFrame(records).sort_values(by='valid_loss')\n",
    "records.to_csv('./records/fnn_records.csv', mode='a', index=False, header=False)\n",
    "records"
   ]
  },
  {
   "cell_type": "markdown",
   "id": "732d1cf6",
   "metadata": {
    "ExecuteTime": {
     "end_time": "2021-12-22T03:14:37.931135Z",
     "start_time": "2021-12-22T03:14:37.875320Z"
    }
   },
   "source": [
    "## retrain a model"
   ]
  },
  {
   "cell_type": "code",
   "execution_count": 13,
   "id": "0822e154",
   "metadata": {
    "ExecuteTime": {
     "end_time": "2022-01-09T07:49:08.181951Z",
     "start_time": "2022-01-09T07:49:08.158956Z"
    },
    "code_folding": []
   },
   "outputs": [],
   "source": [
    "def train_model(train_x, train_y, valid_x, valid_y, input_size, output_size,\n",
    "                mse_thresh, batch_size, lr, number_epoch, hidden_dim, drop_prob, weight_decay):\n",
    "    while (1):\n",
    "        model_fnn = FNN(input_size, output_size, hidden_dim, drop_prob)\n",
    "        model_fnn.to(device=device)\n",
    "        criterion = nn.MSELoss()\n",
    "        optimizer = torch.optim.Adam(model_fnn.parameters(), lr=lr, weight_decay=weight_decay)\n",
    "        scheduler = torch.optim.lr_scheduler.StepLR(optimizer, 1, gamma=0.98)\n",
    "        valid_loss_min = np.Inf\n",
    "        train_dataset = TensorDataset(torch.FloatTensor(train_x),\n",
    "                                      torch.FloatTensor(train_y))\n",
    "        valid_dataset = TensorDataset(torch.FloatTensor(valid_x),\n",
    "                                      torch.FloatTensor(valid_y))\n",
    "        train_loader = DataLoader(dataset=train_dataset,\n",
    "                                  batch_size=batch_size,\n",
    "                                  shuffle=True,\n",
    "                                  drop_last=False)\n",
    "        valid_loader = DataLoader(dataset=valid_dataset,\n",
    "                                  batch_size=batch_size,\n",
    "                                  shuffle=True,\n",
    "                                  drop_last=False)\n",
    "        num_without_imp = 0\n",
    "        train_loss_list = []\n",
    "        valid_loss_list = []\n",
    "        # training process\n",
    "        for epoch in range(1, number_epoch + 1):\n",
    "            loop = tqdm(enumerate(train_loader),\n",
    "                        total=len(train_loader),\n",
    "                        leave=True, ncols=100)\n",
    "            for i, (inputs, labels) in loop:\n",
    "                inputs = inputs.to(device=device)\n",
    "                labels = labels.to(device=device)\n",
    "                optimizer.zero_grad()\n",
    "                outputs = model_fnn(inputs)\n",
    "                loss = criterion(outputs, labels)\n",
    "                loss.backward()\n",
    "                optimizer.step()\n",
    "                if i % 5 == 0:\n",
    "                    num_without_imp = num_without_imp + 1\n",
    "                    valid_losses = list()\n",
    "                    model_fnn.eval()\n",
    "                    for inp, lab in valid_loader:\n",
    "                        inp = inp.to(device)\n",
    "                        lab = lab.to(device)\n",
    "                        out = model_fnn(inp)\n",
    "                        valid_loss = criterion(out, lab)\n",
    "                        valid_losses.append(valid_loss.item())\n",
    "\n",
    "                    model_fnn.train()\n",
    "                    loop.set_description(\"Epoch: {}/{}\".format(\n",
    "                        epoch, number_epoch))\n",
    "                    loop.set_postfix(train_loss=loss.item(),\n",
    "                                     valid_loss=np.mean(valid_losses))\n",
    "                    train_loss_list.append(loss.item())\n",
    "                    valid_loss_list.append(np.mean(valid_losses))\n",
    "                    if np.mean(valid_losses) < valid_loss_min:\n",
    "                        num_without_imp = 0\n",
    "                        torch.save(model_fnn.state_dict(),\n",
    "                                   './model/fnn_state_dict.pt')\n",
    "                        valid_loss_min = np.mean(valid_losses)\n",
    "            scheduler.step()\n",
    "        if valid_loss_min < mse_thresh:\n",
    "            break\n",
    "    return model_fnn, train_loss_list, valid_loss_list"
   ]
  },
  {
   "cell_type": "markdown",
   "id": "51f98b25",
   "metadata": {},
   "source": [
    "## test the results"
   ]
  },
  {
   "cell_type": "code",
   "execution_count": 14,
   "id": "3c542241",
   "metadata": {
    "ExecuteTime": {
     "end_time": "2022-01-09T07:49:09.233255Z",
     "start_time": "2022-01-09T07:49:09.214190Z"
    }
   },
   "outputs": [],
   "source": [
    "def test_model(model, test_x, test_y, scaler_y, batch_size):\n",
    "    test_dataset = TensorDataset(torch.FloatTensor(test_x),\n",
    "                                 torch.FloatTensor(test_y))\n",
    "    test_loader = DataLoader(dataset=test_dataset,\n",
    "                             batch_size=batch_size,\n",
    "                             shuffle=False,\n",
    "                             drop_last=False)\n",
    "    model.load_state_dict(torch.load('./model/fnn_state_dict.pt'))\n",
    "    y_pred = []\n",
    "    y_true = []\n",
    "    model.eval()\n",
    "    with torch.no_grad():\n",
    "        for inputs, label in test_loader:\n",
    "            inputs = inputs.to(device)\n",
    "            label = label.to(device)\n",
    "            outputs = model(inputs)\n",
    "            y_pred += outputs.cpu().numpy().flatten().tolist()\n",
    "            y_true += label.cpu().numpy().flatten().tolist()\n",
    "    y_pred = np.array(y_pred).reshape(-1, 1)\n",
    "    y_true = np.array(y_true).reshape(-1, 1)\n",
    "#     pdb.set_trace()\n",
    "    load_pred = scaler_y.inverse_transform(y_pred)\n",
    "    load_true = scaler_y.inverse_transform(y_true)\n",
    "    mean_pred = np.mean(load_pred)\n",
    "    mean_true = np.mean(load_true)\n",
    "    MAPE = np.mean(np.abs(load_true - load_pred) / load_true)\n",
    "    SMAPE = 2 * np.mean(\n",
    "        np.abs(load_true - load_pred) / (load_true + load_pred))\n",
    "    MAE = np.mean(np.abs(load_true - load_pred))\n",
    "    RMSE = np.sqrt(np.mean(np.square(load_true - load_pred)))\n",
    "    RRSE = np.sqrt(np.sum(np.square(load_true - load_pred))) / np.sqrt(\n",
    "        np.sum(np.square(load_true - mean_true)))\n",
    "    CORR = np.mean(\n",
    "        np.sum((load_true - mean_true) * (load_pred - mean_pred)) /\n",
    "        np.sqrt(np.sum(\n",
    "            (load_true - mean_true)**2 * (load_pred - mean_pred)**2)))\n",
    "    return MAPE, SMAPE, MAE, RMSE, RRSE, CORR, load_pred, load_true"
   ]
  },
  {
   "cell_type": "markdown",
   "id": "32a69c4a",
   "metadata": {},
   "source": [
    "## run model retraining"
   ]
  },
  {
   "cell_type": "code",
   "execution_count": 15,
   "id": "f2073e7c",
   "metadata": {
    "ExecuteTime": {
     "end_time": "2022-01-09T07:49:10.330464Z",
     "start_time": "2022-01-09T07:49:10.315463Z"
    }
   },
   "outputs": [],
   "source": [
    "def run_model_retraining(seq_len=seq_len,\n",
    "                         target_len=target_len,\n",
    "                         feature_num=feature_num,\n",
    "                         mse_thresh=mse_thresh):\n",
    "    train_data = data[:int(0.8 * len(data))]\n",
    "    train_data, scaler, scaler_y = normalization(train_data)\n",
    "    train_x, train_y = Series_To_Supervise(train_data, seq_len, target_len)\n",
    "    #     ind = select_feature(train_x, train_y, feature_num=feature_num)\n",
    "    #     train_x = train_x.reshape(train_x.shape[0], -1)\n",
    "    valid_x = train_x[int(0.8 * len(train_x)):]\n",
    "    valid_y = train_y[int(0.8 * len(train_y)):]\n",
    "    train_x = train_x[:int(0.8 * len(train_x))]\n",
    "    train_y = train_y[:int(0.8 * len(train_y))]\n",
    "    #     input_size = train_x.shape[1]\n",
    "    input_size = train_x.shape[1] * train_x.shape[2]\n",
    "    output_size = target_len\n",
    "\n",
    "    #     hyper-parameters define\n",
    "    batch_size = 512\n",
    "    lr = 0.01\n",
    "    number_epoch = 100\n",
    "    hidden_dim = 32\n",
    "    drop_prob = 0\n",
    "    weight_decay = 0\n",
    "    mse_thresh = 0.01\n",
    "\n",
    "    model, train_loss_list, valid_loss_list = train_model(\n",
    "        train_x, train_y, valid_x, valid_y, input_size, output_size,\n",
    "        mse_thresh, batch_size, lr, number_epoch, hidden_dim, drop_prob,\n",
    "        weight_decay)\n",
    "    # plot training process\n",
    "    plt.plot(train_loss_list[20:], 'm', label='train_loss')\n",
    "    plt.plot(valid_loss_list[20:], 'g', label='valid_loss')\n",
    "    plt.grid('both')\n",
    "    plt.legend()\n",
    "    # test\n",
    "    test_data = data[int(0.8 * len(data)):]\n",
    "    test_data = scaler.transform(test_data)\n",
    "    test_x, test_y = Series_To_Supervise(test_data, seq_len, target_len)\n",
    "    test_x = test_x.reshape(test_x.shape[0], -1)\n",
    "    MAPE, SMAPE, MAE, RMSE, RRSE, CORR, load_pred, load_true = test_model(\n",
    "        model, test_x, test_y, scaler_y, batch_size)\n",
    "    return MAPE, SMAPE, MAE, RMSE, RRSE, CORR, load_pred, load_true"
   ]
  },
  {
   "cell_type": "code",
   "execution_count": 17,
   "id": "08078286",
   "metadata": {
    "ExecuteTime": {
     "end_time": "2022-01-09T07:50:18.885752Z",
     "start_time": "2022-01-09T07:49:15.427166Z"
    }
   },
   "outputs": [
    {
     "name": "stdout",
     "output_type": "stream",
     "text": [
      "Supervised Data: Shape of x: (25232, 72, 16), Shape of y: (25232, 24)\n"
     ]
    },
    {
     "name": "stderr",
     "output_type": "stream",
     "text": [
      "Epoch: 1/100: 100%|███████████| 40/40 [00:00<00:00, 57.15it/s, train_loss=0.0301, valid_loss=0.0348]\n",
      "Epoch: 2/100: 100%|███████████| 40/40 [00:00<00:00, 52.95it/s, train_loss=0.0147, valid_loss=0.0235]\n",
      "Epoch: 3/100: 100%|████████████| 40/40 [00:00<00:00, 58.25it/s, train_loss=0.014, valid_loss=0.0225]\n",
      "Epoch: 4/100: 100%|███████████| 40/40 [00:00<00:00, 55.63it/s, train_loss=0.0138, valid_loss=0.0223]\n",
      "Epoch: 5/100: 100%|███████████| 40/40 [00:00<00:00, 58.15it/s, train_loss=0.0141, valid_loss=0.0201]\n",
      "Epoch: 6/100: 100%|███████████| 40/40 [00:00<00:00, 52.89it/s, train_loss=0.0102, valid_loss=0.0163]\n",
      "Epoch: 7/100: 100%|██████████| 40/40 [00:00<00:00, 58.80it/s, train_loss=0.00938, valid_loss=0.0144]\n",
      "Epoch: 8/100: 100%|██████████| 40/40 [00:00<00:00, 56.32it/s, train_loss=0.00873, valid_loss=0.0148]\n",
      "Epoch: 9/100: 100%|██████████| 40/40 [00:00<00:00, 62.41it/s, train_loss=0.00858, valid_loss=0.0139]\n",
      "Epoch: 10/100: 100%|███████████| 40/40 [00:00<00:00, 56.76it/s, train_loss=0.008, valid_loss=0.0134]\n",
      "Epoch: 11/100: 100%|█████████| 40/40 [00:00<00:00, 64.94it/s, train_loss=0.00804, valid_loss=0.0135]\n",
      "Epoch: 12/100: 100%|█████████| 40/40 [00:00<00:00, 56.41it/s, train_loss=0.00835, valid_loss=0.0132]\n",
      "Epoch: 13/100: 100%|██████████| 40/40 [00:00<00:00, 61.85it/s, train_loss=0.0085, valid_loss=0.0132]\n",
      "Epoch: 14/100: 100%|█████████| 40/40 [00:00<00:00, 63.04it/s, train_loss=0.00887, valid_loss=0.0131]\n",
      "Epoch: 15/100: 100%|██████████| 40/40 [00:00<00:00, 59.21it/s, train_loss=0.00843, valid_loss=0.014]\n",
      "Epoch: 16/100: 100%|██████████| 40/40 [00:00<00:00, 63.35it/s, train_loss=0.00795, valid_loss=0.013]\n",
      "Epoch: 17/100: 100%|██████████| 40/40 [00:00<00:00, 55.88it/s, train_loss=0.00892, valid_loss=0.015]\n",
      "Epoch: 18/100: 100%|█████████| 40/40 [00:00<00:00, 65.39it/s, train_loss=0.00775, valid_loss=0.0132]\n",
      "Epoch: 19/100: 100%|█████████| 40/40 [00:00<00:00, 54.96it/s, train_loss=0.00786, valid_loss=0.0128]\n",
      "Epoch: 20/100: 100%|██████████| 40/40 [00:00<00:00, 61.82it/s, train_loss=0.0081, valid_loss=0.0125]\n",
      "Epoch: 21/100: 100%|█████████| 40/40 [00:00<00:00, 58.50it/s, train_loss=0.00754, valid_loss=0.0125]\n",
      "Epoch: 22/100: 100%|█████████| 40/40 [00:00<00:00, 62.34it/s, train_loss=0.00764, valid_loss=0.0123]\n",
      "Epoch: 23/100: 100%|██████████| 40/40 [00:00<00:00, 57.18it/s, train_loss=0.0079, valid_loss=0.0124]\n",
      "Epoch: 24/100: 100%|█████████| 40/40 [00:00<00:00, 58.97it/s, train_loss=0.00697, valid_loss=0.0116]\n",
      "Epoch: 25/100: 100%|█████████| 40/40 [00:00<00:00, 59.27it/s, train_loss=0.00702, valid_loss=0.0112]\n",
      "Epoch: 26/100: 100%|████████| 40/40 [00:00<00:00, 53.86it/s, train_loss=0.00636, valid_loss=0.00976]\n",
      "Epoch: 27/100: 100%|████████| 40/40 [00:00<00:00, 56.58it/s, train_loss=0.00449, valid_loss=0.00655]\n",
      "Epoch: 28/100: 100%|████████| 40/40 [00:00<00:00, 53.82it/s, train_loss=0.00362, valid_loss=0.00497]\n",
      "Epoch: 29/100: 100%|████████| 40/40 [00:00<00:00, 62.77it/s, train_loss=0.00316, valid_loss=0.00446]\n",
      "Epoch: 30/100: 100%|████████| 40/40 [00:00<00:00, 55.87it/s, train_loss=0.00297, valid_loss=0.00451]\n",
      "Epoch: 31/100: 100%|████████| 40/40 [00:00<00:00, 61.99it/s, train_loss=0.00319, valid_loss=0.00431]\n",
      "Epoch: 32/100: 100%|████████| 40/40 [00:00<00:00, 63.71it/s, train_loss=0.00331, valid_loss=0.00407]\n",
      "Epoch: 33/100: 100%|████████| 40/40 [00:00<00:00, 54.92it/s, train_loss=0.00267, valid_loss=0.00396]\n",
      "Epoch: 34/100: 100%|████████| 40/40 [00:00<00:00, 60.19it/s, train_loss=0.00264, valid_loss=0.00345]\n",
      "Epoch: 35/100: 100%|████████| 40/40 [00:00<00:00, 57.23it/s, train_loss=0.00207, valid_loss=0.00371]\n",
      "Epoch: 36/100: 100%|████████| 40/40 [00:00<00:00, 59.42it/s, train_loss=0.00205, valid_loss=0.00299]\n",
      "Epoch: 37/100: 100%|████████| 40/40 [00:00<00:00, 55.17it/s, train_loss=0.00194, valid_loss=0.00279]\n",
      "Epoch: 38/100: 100%|████████| 40/40 [00:00<00:00, 63.38it/s, train_loss=0.00181, valid_loss=0.00273]\n",
      "Epoch: 39/100: 100%|████████| 40/40 [00:00<00:00, 57.63it/s, train_loss=0.00179, valid_loss=0.00278]\n",
      "Epoch: 40/100: 100%|████████| 40/40 [00:00<00:00, 63.47it/s, train_loss=0.00282, valid_loss=0.00348]\n",
      "Epoch: 41/100: 100%|█████████| 40/40 [00:00<00:00, 61.69it/s, train_loss=0.0018, valid_loss=0.00273]\n",
      "Epoch: 42/100: 100%|████████| 40/40 [00:00<00:00, 60.97it/s, train_loss=0.00175, valid_loss=0.00251]\n",
      "Epoch: 43/100: 100%|████████| 40/40 [00:00<00:00, 64.45it/s, train_loss=0.00176, valid_loss=0.00251]\n",
      "Epoch: 44/100: 100%|████████| 40/40 [00:00<00:00, 70.83it/s, train_loss=0.00177, valid_loss=0.00289]\n",
      "Epoch: 45/100: 100%|████████| 40/40 [00:00<00:00, 71.57it/s, train_loss=0.00192, valid_loss=0.00253]\n",
      "Epoch: 46/100: 100%|████████| 40/40 [00:00<00:00, 61.64it/s, train_loss=0.00181, valid_loss=0.00286]\n",
      "Epoch: 47/100: 100%|████████| 40/40 [00:00<00:00, 71.45it/s, train_loss=0.00165, valid_loss=0.00249]\n",
      "Epoch: 48/100: 100%|████████| 40/40 [00:00<00:00, 63.13it/s, train_loss=0.00167, valid_loss=0.00251]\n",
      "Epoch: 49/100: 100%|████████| 40/40 [00:00<00:00, 70.69it/s, train_loss=0.00161, valid_loss=0.00252]\n",
      "Epoch: 50/100: 100%|████████| 40/40 [00:00<00:00, 64.30it/s, train_loss=0.00151, valid_loss=0.00259]\n",
      "Epoch: 51/100: 100%|████████| 40/40 [00:00<00:00, 64.17it/s, train_loss=0.00144, valid_loss=0.00238]\n",
      "Epoch: 52/100: 100%|████████| 40/40 [00:00<00:00, 62.78it/s, train_loss=0.00171, valid_loss=0.00241]\n",
      "Epoch: 53/100: 100%|████████| 40/40 [00:00<00:00, 71.13it/s, train_loss=0.00144, valid_loss=0.00255]\n",
      "Epoch: 54/100: 100%|████████| 40/40 [00:00<00:00, 71.36it/s, train_loss=0.00163, valid_loss=0.00237]\n",
      "Epoch: 55/100: 100%|████████| 40/40 [00:00<00:00, 64.69it/s, train_loss=0.00162, valid_loss=0.00259]\n",
      "Epoch: 56/100: 100%|████████| 40/40 [00:00<00:00, 70.36it/s, train_loss=0.00159, valid_loss=0.00243]\n",
      "Epoch: 57/100: 100%|████████| 40/40 [00:00<00:00, 64.22it/s, train_loss=0.00148, valid_loss=0.00242]\n",
      "Epoch: 58/100: 100%|████████| 40/40 [00:00<00:00, 71.53it/s, train_loss=0.00159, valid_loss=0.00236]\n",
      "Epoch: 59/100: 100%|████████| 40/40 [00:00<00:00, 71.21it/s, train_loss=0.00137, valid_loss=0.00241]\n",
      "Epoch: 60/100: 100%|████████| 40/40 [00:00<00:00, 64.32it/s, train_loss=0.00133, valid_loss=0.00239]\n",
      "Epoch: 61/100: 100%|████████| 40/40 [00:00<00:00, 72.47it/s, train_loss=0.00144, valid_loss=0.00244]\n",
      "Epoch: 62/100: 100%|████████| 40/40 [00:00<00:00, 65.09it/s, train_loss=0.00138, valid_loss=0.00263]\n",
      "Epoch: 63/100: 100%|████████| 40/40 [00:00<00:00, 68.15it/s, train_loss=0.00148, valid_loss=0.00244]\n",
      "Epoch: 64/100: 100%|████████| 40/40 [00:00<00:00, 65.20it/s, train_loss=0.00152, valid_loss=0.00244]\n",
      "Epoch: 65/100: 100%|█████████| 40/40 [00:00<00:00, 72.59it/s, train_loss=0.0014, valid_loss=0.00239]\n",
      "Epoch: 66/100: 100%|████████| 40/40 [00:00<00:00, 64.86it/s, train_loss=0.00134, valid_loss=0.00232]\n",
      "Epoch: 67/100: 100%|████████| 40/40 [00:00<00:00, 69.72it/s, train_loss=0.00153, valid_loss=0.00237]\n",
      "Epoch: 68/100: 100%|█████████| 40/40 [00:00<00:00, 72.34it/s, train_loss=0.00125, valid_loss=0.0027]\n",
      "Epoch: 69/100: 100%|█████████| 40/40 [00:00<00:00, 65.66it/s, train_loss=0.0015, valid_loss=0.00235]\n",
      "Epoch: 70/100: 100%|█████████| 40/40 [00:00<00:00, 71.73it/s, train_loss=0.0016, valid_loss=0.00251]\n",
      "Epoch: 71/100: 100%|█████████| 40/40 [00:00<00:00, 65.51it/s, train_loss=0.00148, valid_loss=0.0024]\n",
      "Epoch: 72/100: 100%|████████| 40/40 [00:00<00:00, 69.39it/s, train_loss=0.00136, valid_loss=0.00245]\n",
      "Epoch: 73/100: 100%|████████| 40/40 [00:00<00:00, 69.07it/s, train_loss=0.00139, valid_loss=0.00247]\n",
      "Epoch: 74/100: 100%|████████| 40/40 [00:00<00:00, 65.14it/s, train_loss=0.00123, valid_loss=0.00249]\n",
      "Epoch: 75/100: 100%|████████| 40/40 [00:00<00:00, 72.23it/s, train_loss=0.00136, valid_loss=0.00239]\n",
      "Epoch: 76/100: 100%|████████| 40/40 [00:00<00:00, 65.20it/s, train_loss=0.00141, valid_loss=0.00229]\n",
      "Epoch: 77/100: 100%|████████| 40/40 [00:00<00:00, 71.49it/s, train_loss=0.00155, valid_loss=0.00248]\n",
      "Epoch: 78/100: 100%|████████| 40/40 [00:00<00:00, 65.06it/s, train_loss=0.00134, valid_loss=0.00233]\n",
      "Epoch: 79/100: 100%|█████████| 40/40 [00:00<00:00, 72.41it/s, train_loss=0.00147, valid_loss=0.0025]\n",
      "Epoch: 80/100: 100%|█████████| 40/40 [00:00<00:00, 71.55it/s, train_loss=0.00129, valid_loss=0.0023]\n",
      "Epoch: 81/100: 100%|████████| 40/40 [00:00<00:00, 65.52it/s, train_loss=0.00126, valid_loss=0.00236]\n"
     ]
    },
    {
     "name": "stderr",
     "output_type": "stream",
     "text": [
      "Epoch: 82/100: 100%|█████████| 40/40 [00:00<00:00, 63.47it/s, train_loss=0.0012, valid_loss=0.00238]\n",
      "Epoch: 83/100: 100%|████████| 40/40 [00:00<00:00, 67.25it/s, train_loss=0.00127, valid_loss=0.00251]\n",
      "Epoch: 84/100: 100%|████████| 40/40 [00:00<00:00, 72.34it/s, train_loss=0.00144, valid_loss=0.00231]\n",
      "Epoch: 85/100: 100%|████████| 40/40 [00:00<00:00, 64.28it/s, train_loss=0.00136, valid_loss=0.00233]\n",
      "Epoch: 86/100: 100%|█████████| 40/40 [00:00<00:00, 72.10it/s, train_loss=0.00145, valid_loss=0.0024]\n",
      "Epoch: 87/100: 100%|██████████| 40/40 [00:00<00:00, 63.51it/s, train_loss=0.0015, valid_loss=0.0023]\n",
      "Epoch: 88/100: 100%|█████████| 40/40 [00:00<00:00, 70.32it/s, train_loss=0.0014, valid_loss=0.00234]\n",
      "Epoch: 89/100: 100%|████████| 40/40 [00:00<00:00, 72.20it/s, train_loss=0.00132, valid_loss=0.00229]\n",
      "Epoch: 90/100: 100%|████████| 40/40 [00:00<00:00, 65.33it/s, train_loss=0.00139, valid_loss=0.00233]\n",
      "Epoch: 91/100: 100%|████████| 40/40 [00:00<00:00, 70.25it/s, train_loss=0.00128, valid_loss=0.00226]\n",
      "Epoch: 92/100: 100%|████████| 40/40 [00:00<00:00, 65.61it/s, train_loss=0.00134, valid_loss=0.00227]\n",
      "Epoch: 93/100: 100%|█████████| 40/40 [00:00<00:00, 72.50it/s, train_loss=0.00126, valid_loss=0.0023]\n",
      "Epoch: 94/100: 100%|█████████| 40/40 [00:00<00:00, 64.88it/s, train_loss=0.00138, valid_loss=0.0023]\n",
      "Epoch: 95/100: 100%|████████| 40/40 [00:00<00:00, 72.41it/s, train_loss=0.00133, valid_loss=0.00224]\n",
      "Epoch: 96/100: 100%|████████| 40/40 [00:00<00:00, 65.29it/s, train_loss=0.00124, valid_loss=0.00229]\n",
      "Epoch: 97/100: 100%|████████| 40/40 [00:00<00:00, 71.72it/s, train_loss=0.00131, valid_loss=0.00227]\n",
      "Epoch: 98/100: 100%|████████| 40/40 [00:00<00:00, 71.72it/s, train_loss=0.00131, valid_loss=0.00242]\n",
      "Epoch: 99/100: 100%|████████| 40/40 [00:00<00:00, 65.78it/s, train_loss=0.00126, valid_loss=0.00231]\n",
      "Epoch: 100/100: 100%|███████| 40/40 [00:00<00:00, 73.07it/s, train_loss=0.00141, valid_loss=0.00226]\n"
     ]
    },
    {
     "name": "stdout",
     "output_type": "stream",
     "text": [
      "Supervised Data: Shape of x: (6237, 72, 16), Shape of y: (6237, 24)\n",
      "MAPE:0.042339,SMAPE:0.041954,MAE:538.288641,RMSE:732.454241,RRSE:0.226625,CORR:258.708396\n"
     ]
    },
    {
     "data": {
      "image/png": "[encoded data removed]",
      "text/plain": [
       "<Figure size 432x288 with 1 Axes>"
      ]
     },
     "metadata": {
      "needs_background": "light"
     },
     "output_type": "display_data"
    }
   ],
   "source": [
    "random_seed_set(0)\n",
    "MAPE, SMAPE, MAE, RMSE, RRSE, CORR, load_pred, load_true = run_model_retraining()\n",
    "print('MAPE:{:.6f},SMAPE:{:.6f},MAE:{:.6f},RMSE:{:.6f},RRSE:{:.6f},CORR:{:.6f}'.format(MAPE, SMAPE, MAE, RMSE, RRSE, CORR))"
   ]
  },
  {
   "cell_type": "code",
   "execution_count": 18,
   "id": "9743c216",
   "metadata": {
    "ExecuteTime": {
     "end_time": "2022-01-09T07:52:16.677141Z",
     "start_time": "2022-01-09T07:52:16.670936Z"
    }
   },
   "outputs": [
    {
     "name": "stdout",
     "output_type": "stream",
     "text": [
      "MAPE:0.042339,SMAPE:0.041954,MAE:538.288641,RMSE:732.454241,RRSE:0.226625,CORR:258.708396\n"
     ]
    }
   ],
   "source": [
    "print('MAPE:{:.6f},SMAPE:{:.6f},MAE:{:.6f},RMSE:{:.6f},RRSE:{:.6f},CORR:{:.6f}'.format(MAPE, SMAPE, MAE, RMSE, RRSE, CORR))"
   ]
  },
  {
   "cell_type": "markdown",
   "id": "a6dd9181",
   "metadata": {},
   "source": [
    "## figure plot"
   ]
  },
  {
   "cell_type": "code",
   "execution_count": 51,
   "id": "e7014942",
   "metadata": {
    "ExecuteTime": {
     "end_time": "2022-01-04T05:15:16.775375Z",
     "start_time": "2022-01-04T05:15:16.611201Z"
    }
   },
   "outputs": [
    {
     "data": {
      "text/plain": [
       "(0.0, 19886.5212101981)"
      ]
     },
     "execution_count": 51,
     "metadata": {},
     "output_type": "execute_result"
    },
    {
     "data": {
      "image/png": "[encoded data removed]",
      "text/plain": [
       "<Figure size 1440x720 with 1 Axes>"
      ]
     },
     "metadata": {
      "needs_background": "light"
     },
     "output_type": "display_data"
    }
   ],
   "source": [
    "plt.figure(figsize=(20, 10))\n",
    "load_pred = load_pred.reshape(-1, 24)\n",
    "load_true = load_true.reshape(-1, 24)\n",
    "plt.plot(load_pred[:240, 23], 'm')\n",
    "plt.plot(load_true[:240, 23], 'g')\n",
    "plt.ylim(ymin=0)"
   ]
  }
 ],
 "metadata": {
  "kernelspec": {
   "display_name": "Python 3 (ipykernel)",
   "language": "python",
   "name": "python3"
  },
  "language_info": {
   "codemirror_mode": {
    "name": "ipython",
    "version": 3
   },
   "file_extension": ".py",
   "mimetype": "text/x-python",
   "name": "python",
   "nbconvert_exporter": "python",
   "pygments_lexer": "ipython3",
   "version": "3.8.12"
  },
  "toc": {
   "base_numbering": 1,
   "nav_menu": {},
   "number_sections": true,
   "sideBar": true,
   "skip_h1_title": false,
   "title_cell": "Table of Contents",
   "title_sidebar": "Contents",
   "toc_cell": false,
   "toc_position": {
    "height": "calc(100% - 180px)",
    "left": "10px",
    "top": "150px",
    "width": "332.797px"
   },
   "toc_section_display": true,
   "toc_window_display": true
  },
  "varInspector": {
   "cols": {
    "lenName": 16,
    "lenType": 16,
    "lenVar": 40
   },
   "kernels_config": {
    "python": {
     "delete_cmd_postfix": "",
     "delete_cmd_prefix": "del ",
     "library": "var_list.py",
     "varRefreshCmd": "print(var_dic_list())"
    },
    "r": {
     "delete_cmd_postfix": ") ",
     "delete_cmd_prefix": "rm(",
     "library": "var_list.r",
     "varRefreshCmd": "cat(var_dic_list()) "
    }
   },
   "types_to_exclude": [
    "module",
    "function",
    "builtin_function_or_method",
    "instance",
    "_Feature"
   ],
   "window_display": false
  }
 },
 "nbformat": 4,
 "nbformat_minor": 5
}
