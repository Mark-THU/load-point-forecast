{
 "cells": [
  {
   "cell_type": "markdown",
   "id": "623e08ff",
   "metadata": {},
   "source": [
    "# FNN for forecast"
   ]
  },
  {
   "cell_type": "code",
   "execution_count": 1,
   "id": "e1ed1ff5",
   "metadata": {
    "ExecuteTime": {
     "end_time": "2021-12-24T09:57:04.693917Z",
     "start_time": "2021-12-24T09:57:03.639445Z"
    }
   },
   "outputs": [],
   "source": [
    "import pandas as pd\n",
    "import numpy as np\n",
    "import matplotlib.pyplot as plt\n",
    "import pdb\n",
    "import torch\n",
    "import torch.nn as nn\n",
    "import random\n",
    "\n",
    "from sklearn.preprocessing import MinMaxScaler\n",
    "from sklearn.model_selection import train_test_split, TimeSeriesSplit\n",
    "from torch.autograd import Variable\n",
    "from torch.utils.data import TensorDataset, DataLoader\n",
    "from tqdm import tqdm\n",
    "from xgboost import XGBRegressor\n",
    "if torch.cuda.is_available():  \n",
    "    dev = \"cuda:0\" \n",
    "else:  \n",
    "    dev = \"cpu\"\n",
    "device = torch.device(dev)"
   ]
  },
  {
   "cell_type": "markdown",
   "id": "7bf193be",
   "metadata": {},
   "source": [
    "## load data"
   ]
  },
  {
   "cell_type": "code",
   "execution_count": 2,
   "id": "0d04f85d",
   "metadata": {
    "ExecuteTime": {
     "end_time": "2021-12-24T09:57:04.738582Z",
     "start_time": "2021-12-24T09:57:04.696066Z"
    }
   },
   "outputs": [],
   "source": [
    "url = '../data/beijing.csv'\n",
    "data = pd.read_csv(url, sep=',', index_col='time')"
   ]
  },
  {
   "cell_type": "markdown",
   "id": "09de303a",
   "metadata": {
    "ExecuteTime": {
     "end_time": "2021-12-21T13:42:50.888600Z",
     "start_time": "2021-12-21T13:42:50.852752Z"
    }
   },
   "source": [
    "## normalization"
   ]
  },
  {
   "cell_type": "code",
   "execution_count": 3,
   "id": "154831f3",
   "metadata": {
    "ExecuteTime": {
     "end_time": "2021-12-24T09:57:04.743794Z",
     "start_time": "2021-12-24T09:57:04.740822Z"
    }
   },
   "outputs": [],
   "source": [
    "def normalization(data):\n",
    "    \"\"\"\n",
    "    data: original data with load\n",
    "    return: normalized data, scaler of load\n",
    "    \"\"\"\n",
    "    scaler = MinMaxScaler()\n",
    "    normalized_data = scaler.fit_transform(data)\n",
    "    scaler_y = MinMaxScaler()\n",
    "    scaler_y.fit_transform(data[[data.columns[-1]]])\n",
    "    return normalized_data, scaler, scaler_y"
   ]
  },
  {
   "cell_type": "markdown",
   "id": "fc693233",
   "metadata": {},
   "source": [
    "## build supervised dataset"
   ]
  },
  {
   "cell_type": "code",
   "execution_count": 4,
   "id": "8547bb0d",
   "metadata": {
    "ExecuteTime": {
     "end_time": "2021-12-24T09:57:04.749405Z",
     "start_time": "2021-12-24T09:57:04.745833Z"
    }
   },
   "outputs": [],
   "source": [
    "def Series_To_Supervise(data, seq_len, target_len):\n",
    "    \"\"\"\n",
    "    convert series data to supervised data\n",
    "    :param data: original data\n",
    "    :param seq_len: length of input sequence\n",
    "    :param target_len: length of ouput sequence\n",
    "    :return: return two ndarrays-- input and output in format suitable to feed to LSTM\n",
    "    \"\"\"\n",
    "    dim_0 = data.shape[0] - seq_len - target_len + 1\n",
    "    dim_1 = data.shape[1]\n",
    "    x = np.zeros((dim_0, seq_len, dim_1))\n",
    "    y = np.zeros((dim_0, target_len))\n",
    "    for i in range(dim_0):\n",
    "        x[i] = data[i:i + seq_len]\n",
    "        y[i] = data[i + seq_len:i + seq_len + target_len, -1]\n",
    "    print(\"Supervised Data: Shape of x: {}, Shape of y: {}\".format(x.shape, y.shape))\n",
    "    return x, y"
   ]
  },
  {
   "cell_type": "markdown",
   "id": "60238a8a",
   "metadata": {},
   "source": [
    "## feature seletion"
   ]
  },
  {
   "cell_type": "code",
   "execution_count": 5,
   "id": "99db66f0",
   "metadata": {
    "ExecuteTime": {
     "end_time": "2021-12-24T09:57:04.754374Z",
     "start_time": "2021-12-24T09:57:04.751555Z"
    }
   },
   "outputs": [],
   "source": [
    "def select_feature(X, Y, feature_num=100):\n",
    "    \"\"\"\n",
    "    X: features\n",
    "    Y: labels\n",
    "    feature_num: num of selected features\n",
    "    return: index of selected features\n",
    "    \"\"\"\n",
    "    X = X.reshape(X.shape[0], -1)\n",
    "    model = XGBRegressor()\n",
    "    model.fit(X, Y)\n",
    "    model.importance_type = 'weight'\n",
    "    ind = (-model.feature_importances_).argsort()[0:feature_num]\n",
    "    return ind"
   ]
  },
  {
   "cell_type": "markdown",
   "id": "cae0d44b",
   "metadata": {},
   "source": [
    "## 5-folds TimeSeriesSplit"
   ]
  },
  {
   "cell_type": "code",
   "execution_count": 6,
   "id": "2e779c82",
   "metadata": {
    "ExecuteTime": {
     "end_time": "2021-12-24T09:57:04.760545Z",
     "start_time": "2021-12-24T09:57:04.756976Z"
    }
   },
   "outputs": [],
   "source": [
    "def time_series_split(X, Y, n_split=5):\n",
    "    \"\"\"\n",
    "    X: features, size * seq_len * feature_num\n",
    "    Y: labels, size * target_len\n",
    "    return: list of train_x, test_x, train_y, test_y\n",
    "    \"\"\"\n",
    "    tscv = TimeSeriesSplit(n_splits=n_split)\n",
    "    train_x_list = list()\n",
    "    valid_x_list = list()\n",
    "    train_y_list = list()\n",
    "    valid_y_list = list()\n",
    "    for train_index, valid_index in tscv.split(X):\n",
    "        train_x_list.append(X[train_index])\n",
    "        train_y_list.append(Y[train_index])\n",
    "        valid_x_list.append(X[valid_index])\n",
    "        valid_y_list.append(Y[valid_index])\n",
    "    return train_x_list, train_y_list, valid_x_list, valid_y_list"
   ]
  },
  {
   "cell_type": "markdown",
   "id": "6ab599cc",
   "metadata": {
    "ExecuteTime": {
     "end_time": "2021-12-21T14:02:51.856018Z",
     "start_time": "2021-12-21T14:02:51.852675Z"
    }
   },
   "source": [
    "## model define"
   ]
  },
  {
   "cell_type": "code",
   "execution_count": 7,
   "id": "5c16a122",
   "metadata": {
    "ExecuteTime": {
     "end_time": "2021-12-24T09:57:04.766228Z",
     "start_time": "2021-12-24T09:57:04.762822Z"
    }
   },
   "outputs": [],
   "source": [
    "class FNN(nn.Module):\n",
    "    \"\"\"\n",
    "    A fnn neural network\n",
    "    \"\"\"\n",
    "    def __init__(self, input_size, output_size, hidden_dim):\n",
    "        super(FNN, self).__init__()\n",
    "        \n",
    "        self.fnn = nn.Sequential(\n",
    "            nn.Linear(input_size, 500),\n",
    "            nn.ReLU(),\n",
    "            nn.Linear(500, 250),\n",
    "            nn.ReLU(),\n",
    "            nn.Linear(250, hidden_dim),\n",
    "            nn.ReLU(),\n",
    "            nn.Linear(hidden_dim,output_size),\n",
    "            nn.ReLU(),\n",
    "        )\n",
    "    \n",
    "    def forward(self, x):\n",
    "        out = self.fnn(x)\n",
    "        return out"
   ]
  },
  {
   "cell_type": "markdown",
   "id": "01c52dd7",
   "metadata": {},
   "source": [
    "## model training for  hyper-parameters optimization"
   ]
  },
  {
   "cell_type": "code",
   "execution_count": 8,
   "id": "cb366980",
   "metadata": {
    "ExecuteTime": {
     "end_time": "2021-12-24T09:57:04.775683Z",
     "start_time": "2021-12-24T09:57:04.768304Z"
    },
    "code_folding": []
   },
   "outputs": [],
   "source": [
    "def train_model_hpo(train_x_list, train_y_list, valid_x_list, valid_y_list,\n",
    "                    input_size, output_size, mse_thresh, batch_size, lr,\n",
    "                    number_epoch, hidden_dim):\n",
    "    valid_loss_list = []\n",
    "    for num in range(len(train_x_list)):\n",
    "        while (1):\n",
    "            model_fnn = FNN(input_size, output_size, hidden_dim)\n",
    "            model_fnn.to(device=device)\n",
    "            criterion = nn.MSELoss()\n",
    "            optimizer = torch.optim.Adam(model_fnn.parameters(), lr=lr)\n",
    "            scheduler = torch.optim.lr_scheduler.StepLR(optimizer,\n",
    "                                                        step_size=20,\n",
    "                                                        gamma=0.5)\n",
    "            valid_loss_min = np.Inf\n",
    "            print('cross-validation dataset {}'.format(num))\n",
    "            train_x = train_x_list[num]\n",
    "            train_y = train_y_list[num]\n",
    "            valid_x = valid_x_list[num]\n",
    "            valid_y = valid_y_list[num]\n",
    "            train_dataset = TensorDataset(torch.FloatTensor(train_x),\n",
    "                                          torch.FloatTensor(train_y))\n",
    "            valid_dataset = TensorDataset(torch.FloatTensor(valid_x),\n",
    "                                          torch.FloatTensor(valid_y))\n",
    "            train_loader = DataLoader(dataset=train_dataset,\n",
    "                                      batch_size=batch_size,\n",
    "                                      shuffle=True,\n",
    "                                      drop_last=False)\n",
    "            valid_loader = DataLoader(dataset=valid_dataset,\n",
    "                                      batch_size=batch_size,\n",
    "                                      shuffle=True,\n",
    "                                      drop_last=False)\n",
    "            num_without_imp = 0\n",
    "            # training process\n",
    "            for epoch in range(1, number_epoch + 1):\n",
    "                loop = tqdm(enumerate(train_loader),\n",
    "                            total=len(train_loader),\n",
    "                            leave=True)\n",
    "                for i, (inputs, labels) in loop:\n",
    "                    inputs = inputs.to(device=device)\n",
    "                    labels = labels.to(device=device)\n",
    "                    optimizer.zero_grad()\n",
    "                    outputs = model_fnn(inputs)\n",
    "                    loss = criterion(outputs, labels)\n",
    "                    loss.backward()\n",
    "                    optimizer.step()\n",
    "                    if i % 5 == 0:\n",
    "                        num_without_imp = num_without_imp + 1\n",
    "                        valid_losses = list()\n",
    "                        model_fnn.eval()\n",
    "                        for inp, lab in valid_loader:\n",
    "                            inp = inp.to(device)\n",
    "                            lab = lab.to(device)\n",
    "                            out = model_fnn(inp)\n",
    "                            valid_loss = criterion(out, lab)\n",
    "                            valid_losses.append(valid_loss.item())\n",
    "\n",
    "                        model_fnn.train()\n",
    "                        loop.set_description(\"Epoch: {}/{}\".format(\n",
    "                            epoch, number_epoch))\n",
    "                        loop.set_postfix(train_loss=loss.item(),\n",
    "                                         valid_loss=np.mean(valid_losses))\n",
    "                        if np.mean(valid_losses) < valid_loss_min:\n",
    "                            num_without_imp = 0\n",
    "                            valid_loss_min = np.mean(valid_losses)\n",
    "                scheduler.step()\n",
    "                if num_without_imp >= 80:\n",
    "                    break\n",
    "            if valid_loss_min < mse_thresh:\n",
    "                valid_loss_list.append(valid_loss_min)\n",
    "                break\n",
    "    return np.mean(valid_loss_list)"
   ]
  },
  {
   "cell_type": "markdown",
   "id": "76d16c6f",
   "metadata": {},
   "source": [
    "## hyper-parameters config"
   ]
  },
  {
   "cell_type": "code",
   "execution_count": 9,
   "id": "a5707a49",
   "metadata": {
    "ExecuteTime": {
     "end_time": "2021-12-24T09:57:04.781377Z",
     "start_time": "2021-12-24T09:57:04.777997Z"
    }
   },
   "outputs": [],
   "source": [
    "seq_len = 72\n",
    "target_len = 24\n",
    "feature_num = 100\n",
    "mse_thresh = 0.05\n",
    "\n",
    "\n",
    "def model_config():\n",
    "    batch_sizes = [512, 256]\n",
    "    lrs = [0.01, 0.005, 0.001]\n",
    "    number_epochs = [50]\n",
    "    hidden_dims = [100, 120, 150]\n",
    "    configs = list()\n",
    "    for i in batch_sizes:\n",
    "        for j in lrs:\n",
    "            for k in number_epochs:\n",
    "                for l in hidden_dims:\n",
    "                    configs.append({\n",
    "                        'batch_size': i,\n",
    "                        'lr': j,\n",
    "                        'number_epoch': k,\n",
    "                        'hidden_dim': l\n",
    "                    })\n",
    "    return configs"
   ]
  },
  {
   "cell_type": "markdown",
   "id": "32b63827",
   "metadata": {},
   "source": [
    "## random search for HPO"
   ]
  },
  {
   "cell_type": "code",
   "execution_count": 10,
   "id": "4d4bd937",
   "metadata": {
    "ExecuteTime": {
     "end_time": "2021-12-24T09:57:04.787536Z",
     "start_time": "2021-12-24T09:57:04.782877Z"
    }
   },
   "outputs": [],
   "source": [
    "def run_model_hpo(seq_len=seq_len,\n",
    "                  target_len=target_len,\n",
    "                  feature_num=feature_num,\n",
    "                  mse_thresh=mse_thresh):\n",
    "    train_data = data[:int(0.7 * len(data))]\n",
    "    train_data, _, _ = normalization(train_data)\n",
    "    train_x, train_y = Series_To_Supervise(train_data, seq_len, target_len)\n",
    "    #     ind = select_feature(train_x, train_y, feature_num=feature_num)\n",
    "    train_x = train_x.reshape(train_x.shape[0], -1)\n",
    "    train_x_list, train_y_list, valid_x_list, valid_y_list = time_series_split(\n",
    "        train_x, train_y)\n",
    "#     with enough data\n",
    "#     train_x_list = train_x_list[-1:]\n",
    "#     train_y_list = train_y_list[-1:]\n",
    "#     valid_x_list = valid_x_list[-1:]\n",
    "#     valid_y_list = valid_y_list[-1:]\n",
    "    \n",
    "    configs = model_config()\n",
    "    records = []\n",
    "    input_size = train_x.shape[1]\n",
    "    output_size = target_len\n",
    "    for i in range(10):\n",
    "        config = random.choice(configs)\n",
    "        configs.remove(config)\n",
    "        batch_size = config['batch_size']\n",
    "        lr = config['lr']\n",
    "        number_epoch = config['number_epoch']\n",
    "        hidden_dim = config['hidden_dim']\n",
    "        print(\n",
    "            \"model config: batch_size--{}, lr--{}, number_epoch--{}, hidden_dim--{}\"\n",
    "            .format(batch_size, lr, number_epoch, hidden_dim))\n",
    "        valid_loss = train_model_hpo(train_x_list, train_y_list, valid_x_list,\n",
    "                                     valid_y_list, input_size, output_size,\n",
    "                                     mse_thresh, batch_size, lr, number_epoch,\n",
    "                                     hidden_dim)\n",
    "        records.append({\n",
    "            'batch_size': batch_size,\n",
    "            'lr': lr,\n",
    "            'number_epoch': number_epoch,\n",
    "            'hidden_dim': hidden_dim,\n",
    "            'valid_loss': valid_loss\n",
    "        })\n",
    "    return records"
   ]
  },
  {
   "cell_type": "markdown",
   "id": "708c0f96",
   "metadata": {},
   "source": [
    "## run random search"
   ]
  },
  {
   "cell_type": "code",
   "execution_count": 12,
   "id": "a10bf1c1",
   "metadata": {
    "ExecuteTime": {
     "end_time": "2021-12-24T09:57:24.100434Z",
     "start_time": "2021-12-24T09:57:12.100522Z"
    },
    "scrolled": true
   },
   "outputs": [
    {
     "name": "stdout",
     "output_type": "stream",
     "text": [
      "Supervised Data: Shape of x: (22066, 72, 16), Shape of y: (22066, 24)\n",
      "model config: batch_size--256, lr--0.01, number_epoch--50, hidden_dim--120\n",
      "cross-validation dataset 0\n"
     ]
    },
    {
     "name": "stderr",
     "output_type": "stream",
     "text": [
      "Epoch: 1/50: 100%|██████████| 15/15 [00:00<00:00, 16.45it/s, train_loss=0.061, valid_loss=0.0926]\n",
      "Epoch: 2/50: 100%|██████████| 15/15 [00:00<00:00, 99.91it/s, train_loss=0.0435, valid_loss=0.0742]\n",
      "Epoch: 3/50: 100%|██████████| 15/15 [00:00<00:00, 112.16it/s, train_loss=0.0403, valid_loss=0.0746]\n",
      "Epoch: 4/50: 100%|██████████| 15/15 [00:00<00:00, 104.73it/s, train_loss=0.0397, valid_loss=0.0719]\n",
      "Epoch: 5/50: 100%|██████████| 15/15 [00:00<00:00, 99.70it/s, train_loss=0.0387, valid_loss=0.0685]\n",
      "Epoch: 6/50: 100%|██████████| 15/15 [00:00<00:00, 96.00it/s, train_loss=0.0374, valid_loss=0.0648]\n",
      "Epoch: 7/50: 100%|██████████| 15/15 [00:00<00:00, 110.76it/s, train_loss=0.0356, valid_loss=0.0617]\n",
      "Epoch: 8/50: 100%|██████████| 15/15 [00:00<00:00, 111.90it/s, train_loss=0.0339, valid_loss=0.0579]\n",
      "Epoch: 9/50: 100%|██████████| 15/15 [00:00<00:00, 102.49it/s, train_loss=0.0347, valid_loss=0.0569]\n",
      "Epoch: 10/50: 100%|██████████| 15/15 [00:00<00:00, 67.50it/s, train_loss=0.0329, valid_loss=0.058]\n",
      "Epoch: 11/50: 100%|██████████| 15/15 [00:00<00:00, 105.97it/s, train_loss=0.0315, valid_loss=0.0564]\n",
      "Epoch: 12/50: 100%|██████████| 15/15 [00:00<00:00, 88.45it/s, train_loss=0.0318, valid_loss=0.0553]\n",
      "Epoch: 13/50: 100%|██████████| 15/15 [00:00<00:00, 99.48it/s, train_loss=0.0331, valid_loss=0.0535]\n",
      "Epoch: 14/50: 100%|██████████| 15/15 [00:00<00:00, 110.30it/s, train_loss=0.0348, valid_loss=0.055]\n",
      "Epoch: 15/50: 100%|██████████| 15/15 [00:00<00:00, 97.99it/s, train_loss=0.0325, valid_loss=0.053]\n",
      "Epoch: 16/50: 100%|██████████| 15/15 [00:00<00:00, 101.76it/s, train_loss=0.031, valid_loss=0.053]\n",
      "Epoch: 17/50: 100%|██████████| 15/15 [00:00<00:00, 86.81it/s, train_loss=0.0316, valid_loss=0.0524]\n",
      "Epoch: 18/50: 100%|██████████| 15/15 [00:00<00:00, 86.15it/s, train_loss=0.0297, valid_loss=0.0509]\n",
      "Epoch: 19/50: 100%|██████████| 15/15 [00:00<00:00, 107.62it/s, train_loss=0.0276, valid_loss=0.0479]\n",
      "Epoch: 20/50: 100%|██████████| 15/15 [00:00<00:00, 102.50it/s, train_loss=0.0266, valid_loss=0.0458]\n",
      "Epoch: 21/50: 100%|██████████| 15/15 [00:00<00:00, 111.68it/s, train_loss=0.0262, valid_loss=0.0466]\n",
      "Epoch: 22/50: 100%|██████████| 15/15 [00:00<00:00, 101.92it/s, train_loss=0.028, valid_loss=0.0466]\n",
      "Epoch: 23/50: 100%|██████████| 15/15 [00:00<00:00, 69.82it/s, train_loss=0.0256, valid_loss=0.0465]\n",
      "Epoch: 24/50: 100%|██████████| 15/15 [00:00<00:00, 110.83it/s, train_loss=0.0263, valid_loss=0.047]\n",
      "Epoch: 25/50: 100%|██████████| 15/15 [00:00<00:00, 112.07it/s, train_loss=0.0269, valid_loss=0.0469]\n",
      "Epoch: 26/50: 100%|██████████| 15/15 [00:00<00:00, 113.02it/s, train_loss=0.0259, valid_loss=0.0469]\n",
      "Epoch: 27/50: 100%|██████████| 15/15 [00:00<00:00, 99.98it/s, train_loss=0.0275, valid_loss=0.0479]\n",
      "Epoch: 28/50: 100%|██████████| 15/15 [00:00<00:00, 92.36it/s, train_loss=0.0283, valid_loss=0.0468]\n",
      "Epoch: 29/50: 100%|██████████| 15/15 [00:00<00:00, 105.76it/s, train_loss=0.0275, valid_loss=0.0474]\n",
      "Epoch: 30/50: 100%|██████████| 15/15 [00:00<00:00, 105.83it/s, train_loss=0.027, valid_loss=0.0478]\n",
      "Epoch: 31/50: 100%|██████████| 15/15 [00:00<00:00, 111.72it/s, train_loss=0.0264, valid_loss=0.0472]\n",
      "Epoch: 32/50: 100%|██████████| 15/15 [00:00<00:00, 112.64it/s, train_loss=0.026, valid_loss=0.0477]\n",
      "Epoch: 33/50: 100%|██████████| 15/15 [00:00<00:00, 104.65it/s, train_loss=0.027, valid_loss=0.0488]\n",
      "Epoch: 34/50: 100%|██████████| 15/15 [00:00<00:00, 103.18it/s, train_loss=0.0266, valid_loss=0.0482]\n",
      "Epoch: 35/50: 100%|██████████| 15/15 [00:00<00:00, 105.93it/s, train_loss=0.0258, valid_loss=0.0474]\n",
      "Epoch: 36/50: 100%|██████████| 15/15 [00:00<00:00, 96.41it/s, train_loss=0.0274, valid_loss=0.0488]\n",
      "Epoch: 37/50: 100%|██████████| 15/15 [00:00<00:00, 80.54it/s, train_loss=0.0262, valid_loss=0.0481]\n",
      "Epoch: 38/50: 100%|██████████| 15/15 [00:00<00:00, 98.95it/s, train_loss=0.0221, valid_loss=0.0439]\n",
      "Epoch: 39/50: 100%|██████████| 15/15 [00:00<00:00, 105.45it/s, train_loss=0.0208, valid_loss=0.0438]\n",
      "Epoch: 40/50: 100%|██████████| 15/15 [00:00<00:00, 102.29it/s, train_loss=0.0232, valid_loss=0.0435]\n",
      "Epoch: 41/50: 100%|██████████| 15/15 [00:00<00:00, 107.70it/s, train_loss=0.0215, valid_loss=0.0442]\n",
      "Epoch: 42/50: 100%|██████████| 15/15 [00:00<00:00, 103.03it/s, train_loss=0.0224, valid_loss=0.0443]\n",
      "Epoch: 43/50: 100%|██████████| 15/15 [00:00<00:00, 100.05it/s, train_loss=0.0223, valid_loss=0.0449]\n",
      "Epoch: 44/50: 100%|██████████| 15/15 [00:00<00:00, 111.81it/s, train_loss=0.0236, valid_loss=0.0443]\n",
      "Epoch: 45/50: 100%|██████████| 15/15 [00:00<00:00, 99.52it/s, train_loss=0.0214, valid_loss=0.0439]\n",
      "Epoch: 46/50: 100%|██████████| 15/15 [00:00<00:00, 112.63it/s, train_loss=0.0233, valid_loss=0.0444]\n",
      "Epoch: 47/50: 100%|██████████| 15/15 [00:00<00:00, 91.39it/s, train_loss=0.0216, valid_loss=0.0441]\n",
      "Epoch: 48/50: 100%|██████████| 15/15 [00:00<00:00, 112.94it/s, train_loss=0.0236, valid_loss=0.0438]\n",
      "Epoch: 49/50: 100%|██████████| 15/15 [00:00<00:00, 111.84it/s, train_loss=0.0227, valid_loss=0.0443]\n",
      "Epoch: 50/50: 100%|██████████| 15/15 [00:00<00:00, 80.98it/s, train_loss=0.0216, valid_loss=0.0443]\n"
     ]
    },
    {
     "name": "stdout",
     "output_type": "stream",
     "text": [
      "cross-validation dataset 1\n"
     ]
    },
    {
     "name": "stderr",
     "output_type": "stream",
     "text": [
      "Epoch: 1/50: 100%|██████████| 29/29 [00:00<00:00, 86.22it/s, train_loss=0.0865, valid_loss=0.143]\n",
      "Epoch: 2/50: 100%|██████████| 29/29 [00:00<00:00, 102.11it/s, train_loss=0.0772, valid_loss=0.134]\n",
      "Epoch: 3/50: 100%|██████████| 29/29 [00:00<00:00, 108.75it/s, train_loss=0.0816, valid_loss=0.134]\n",
      "Epoch: 4/50: 100%|██████████| 29/29 [00:00<00:00, 103.06it/s, train_loss=0.0559, valid_loss=0.088]\n",
      "Epoch: 5/50: 100%|██████████| 29/29 [00:00<00:00, 107.63it/s, train_loss=0.0392, valid_loss=0.0644]\n",
      "Epoch: 6/50:  76%|███████▌  | 22/29 [00:00<00:00, 92.25it/s, train_loss=0.0375, valid_loss=0.061] \n"
     ]
    },
    {
     "ename": "KeyboardInterrupt",
     "evalue": "",
     "output_type": "error",
     "traceback": [
      "\u001b[0;31m---------------------------------------------------------------------------\u001b[0m",
      "\u001b[0;31mKeyboardInterrupt\u001b[0m                         Traceback (most recent call last)",
      "\u001b[0;32m<ipython-input-12-b2cb3025ad10>\u001b[0m in \u001b[0;36m<module>\u001b[0;34m\u001b[0m\n\u001b[0;32m----> 1\u001b[0;31m \u001b[0mrecords\u001b[0m \u001b[0;34m=\u001b[0m \u001b[0mrun_model_hpo\u001b[0m\u001b[0;34m(\u001b[0m\u001b[0;34m)\u001b[0m\u001b[0;34m\u001b[0m\u001b[0;34m\u001b[0m\u001b[0m\n\u001b[0m",
      "\u001b[0;32m<ipython-input-10-5a283ad4d445>\u001b[0m in \u001b[0;36mrun_model_hpo\u001b[0;34m(seq_len, target_len, feature_num, mse_thresh)\u001b[0m\n\u001b[1;32m     30\u001b[0m             \u001b[0;34m\"model config: batch_size--{}, lr--{}, number_epoch--{}, hidden_dim--{}\"\u001b[0m\u001b[0;34m\u001b[0m\u001b[0;34m\u001b[0m\u001b[0m\n\u001b[1;32m     31\u001b[0m             .format(batch_size, lr, number_epoch, hidden_dim))\n\u001b[0;32m---> 32\u001b[0;31m         valid_loss = train_model_hpo(train_x_list, train_y_list, valid_x_list,\n\u001b[0m\u001b[1;32m     33\u001b[0m                                      \u001b[0mvalid_y_list\u001b[0m\u001b[0;34m,\u001b[0m \u001b[0minput_size\u001b[0m\u001b[0;34m,\u001b[0m \u001b[0moutput_size\u001b[0m\u001b[0;34m,\u001b[0m\u001b[0;34m\u001b[0m\u001b[0;34m\u001b[0m\u001b[0m\n\u001b[1;32m     34\u001b[0m                                      \u001b[0mmse_thresh\u001b[0m\u001b[0;34m,\u001b[0m \u001b[0mbatch_size\u001b[0m\u001b[0;34m,\u001b[0m \u001b[0mlr\u001b[0m\u001b[0;34m,\u001b[0m \u001b[0mnumber_epoch\u001b[0m\u001b[0;34m,\u001b[0m\u001b[0;34m\u001b[0m\u001b[0;34m\u001b[0m\u001b[0m\n",
      "\u001b[0;32m<ipython-input-8-4fc1b8c2d661>\u001b[0m in \u001b[0;36mtrain_model_hpo\u001b[0;34m(train_x_list, train_y_list, valid_x_list, valid_y_list, input_size, output_size, mse_thresh, batch_size, lr, number_epoch, hidden_dim)\u001b[0m\n\u001b[1;32m     42\u001b[0m                     \u001b[0moutputs\u001b[0m \u001b[0;34m=\u001b[0m \u001b[0mmodel_fnn\u001b[0m\u001b[0;34m(\u001b[0m\u001b[0minputs\u001b[0m\u001b[0;34m)\u001b[0m\u001b[0;34m\u001b[0m\u001b[0;34m\u001b[0m\u001b[0m\n\u001b[1;32m     43\u001b[0m                     \u001b[0mloss\u001b[0m \u001b[0;34m=\u001b[0m \u001b[0mcriterion\u001b[0m\u001b[0;34m(\u001b[0m\u001b[0moutputs\u001b[0m\u001b[0;34m,\u001b[0m \u001b[0mlabels\u001b[0m\u001b[0;34m)\u001b[0m\u001b[0;34m\u001b[0m\u001b[0;34m\u001b[0m\u001b[0m\n\u001b[0;32m---> 44\u001b[0;31m                     \u001b[0mloss\u001b[0m\u001b[0;34m.\u001b[0m\u001b[0mbackward\u001b[0m\u001b[0;34m(\u001b[0m\u001b[0;34m)\u001b[0m\u001b[0;34m\u001b[0m\u001b[0;34m\u001b[0m\u001b[0m\n\u001b[0m\u001b[1;32m     45\u001b[0m                     \u001b[0moptimizer\u001b[0m\u001b[0;34m.\u001b[0m\u001b[0mstep\u001b[0m\u001b[0;34m(\u001b[0m\u001b[0;34m)\u001b[0m\u001b[0;34m\u001b[0m\u001b[0;34m\u001b[0m\u001b[0m\n\u001b[1;32m     46\u001b[0m                     \u001b[0;32mif\u001b[0m \u001b[0mi\u001b[0m \u001b[0;34m%\u001b[0m \u001b[0;36m5\u001b[0m \u001b[0;34m==\u001b[0m \u001b[0;36m0\u001b[0m\u001b[0;34m:\u001b[0m\u001b[0;34m\u001b[0m\u001b[0;34m\u001b[0m\u001b[0m\n",
      "\u001b[0;32m~/miniconda3/envs/pytorch/lib/python3.8/site-packages/torch/_tensor.py\u001b[0m in \u001b[0;36mbackward\u001b[0;34m(self, gradient, retain_graph, create_graph, inputs)\u001b[0m\n\u001b[1;32m    253\u001b[0m                 \u001b[0mcreate_graph\u001b[0m\u001b[0;34m=\u001b[0m\u001b[0mcreate_graph\u001b[0m\u001b[0;34m,\u001b[0m\u001b[0;34m\u001b[0m\u001b[0;34m\u001b[0m\u001b[0m\n\u001b[1;32m    254\u001b[0m                 inputs=inputs)\n\u001b[0;32m--> 255\u001b[0;31m         \u001b[0mtorch\u001b[0m\u001b[0;34m.\u001b[0m\u001b[0mautograd\u001b[0m\u001b[0;34m.\u001b[0m\u001b[0mbackward\u001b[0m\u001b[0;34m(\u001b[0m\u001b[0mself\u001b[0m\u001b[0;34m,\u001b[0m \u001b[0mgradient\u001b[0m\u001b[0;34m,\u001b[0m \u001b[0mretain_graph\u001b[0m\u001b[0;34m,\u001b[0m \u001b[0mcreate_graph\u001b[0m\u001b[0;34m,\u001b[0m \u001b[0minputs\u001b[0m\u001b[0;34m=\u001b[0m\u001b[0minputs\u001b[0m\u001b[0;34m)\u001b[0m\u001b[0;34m\u001b[0m\u001b[0;34m\u001b[0m\u001b[0m\n\u001b[0m\u001b[1;32m    256\u001b[0m \u001b[0;34m\u001b[0m\u001b[0m\n\u001b[1;32m    257\u001b[0m     \u001b[0;32mdef\u001b[0m \u001b[0mregister_hook\u001b[0m\u001b[0;34m(\u001b[0m\u001b[0mself\u001b[0m\u001b[0;34m,\u001b[0m \u001b[0mhook\u001b[0m\u001b[0;34m)\u001b[0m\u001b[0;34m:\u001b[0m\u001b[0;34m\u001b[0m\u001b[0;34m\u001b[0m\u001b[0m\n",
      "\u001b[0;32m~/miniconda3/envs/pytorch/lib/python3.8/site-packages/torch/autograd/__init__.py\u001b[0m in \u001b[0;36mbackward\u001b[0;34m(tensors, grad_tensors, retain_graph, create_graph, grad_variables, inputs)\u001b[0m\n\u001b[1;32m    145\u001b[0m         \u001b[0mretain_graph\u001b[0m \u001b[0;34m=\u001b[0m \u001b[0mcreate_graph\u001b[0m\u001b[0;34m\u001b[0m\u001b[0;34m\u001b[0m\u001b[0m\n\u001b[1;32m    146\u001b[0m \u001b[0;34m\u001b[0m\u001b[0m\n\u001b[0;32m--> 147\u001b[0;31m     Variable._execution_engine.run_backward(\n\u001b[0m\u001b[1;32m    148\u001b[0m         \u001b[0mtensors\u001b[0m\u001b[0;34m,\u001b[0m \u001b[0mgrad_tensors_\u001b[0m\u001b[0;34m,\u001b[0m \u001b[0mretain_graph\u001b[0m\u001b[0;34m,\u001b[0m \u001b[0mcreate_graph\u001b[0m\u001b[0;34m,\u001b[0m \u001b[0minputs\u001b[0m\u001b[0;34m,\u001b[0m\u001b[0;34m\u001b[0m\u001b[0;34m\u001b[0m\u001b[0m\n\u001b[1;32m    149\u001b[0m         allow_unreachable=True, accumulate_grad=True)  # allow_unreachable flag\n",
      "\u001b[0;31mKeyboardInterrupt\u001b[0m: "
     ]
    }
   ],
   "source": [
    "records = run_model_hpo()"
   ]
  },
  {
   "cell_type": "markdown",
   "id": "ad940166",
   "metadata": {},
   "source": [
    "## find the best hyper-parameters"
   ]
  },
  {
   "cell_type": "code",
   "execution_count": 401,
   "id": "06848c02",
   "metadata": {
    "ExecuteTime": {
     "end_time": "2021-12-22T09:17:30.906710Z",
     "start_time": "2021-12-22T09:17:30.886171Z"
    }
   },
   "outputs": [
    {
     "data": {
      "text/html": [
       "<div>\n",
       "<style scoped>\n",
       "    .dataframe tbody tr th:only-of-type {\n",
       "        vertical-align: middle;\n",
       "    }\n",
       "\n",
       "    .dataframe tbody tr th {\n",
       "        vertical-align: top;\n",
       "    }\n",
       "\n",
       "    .dataframe thead th {\n",
       "        text-align: right;\n",
       "    }\n",
       "</style>\n",
       "<table border=\"1\" class=\"dataframe\">\n",
       "  <thead>\n",
       "    <tr style=\"text-align: right;\">\n",
       "      <th></th>\n",
       "      <th>batch_size</th>\n",
       "      <th>lr</th>\n",
       "      <th>number_epoch</th>\n",
       "      <th>hidden_dim</th>\n",
       "      <th>valid_loss</th>\n",
       "    </tr>\n",
       "  </thead>\n",
       "  <tbody>\n",
       "    <tr>\n",
       "      <th>1</th>\n",
       "      <td>256</td>\n",
       "      <td>0.001</td>\n",
       "      <td>50</td>\n",
       "      <td>150</td>\n",
       "      <td>0.017432</td>\n",
       "    </tr>\n",
       "    <tr>\n",
       "      <th>4</th>\n",
       "      <td>256</td>\n",
       "      <td>0.001</td>\n",
       "      <td>50</td>\n",
       "      <td>100</td>\n",
       "      <td>0.018418</td>\n",
       "    </tr>\n",
       "    <tr>\n",
       "      <th>5</th>\n",
       "      <td>512</td>\n",
       "      <td>0.001</td>\n",
       "      <td>50</td>\n",
       "      <td>120</td>\n",
       "      <td>0.019044</td>\n",
       "    </tr>\n",
       "    <tr>\n",
       "      <th>3</th>\n",
       "      <td>512</td>\n",
       "      <td>0.005</td>\n",
       "      <td>50</td>\n",
       "      <td>100</td>\n",
       "      <td>0.021698</td>\n",
       "    </tr>\n",
       "    <tr>\n",
       "      <th>9</th>\n",
       "      <td>256</td>\n",
       "      <td>0.001</td>\n",
       "      <td>50</td>\n",
       "      <td>120</td>\n",
       "      <td>0.021714</td>\n",
       "    </tr>\n",
       "    <tr>\n",
       "      <th>6</th>\n",
       "      <td>256</td>\n",
       "      <td>0.005</td>\n",
       "      <td>50</td>\n",
       "      <td>150</td>\n",
       "      <td>0.024561</td>\n",
       "    </tr>\n",
       "    <tr>\n",
       "      <th>8</th>\n",
       "      <td>256</td>\n",
       "      <td>0.010</td>\n",
       "      <td>50</td>\n",
       "      <td>100</td>\n",
       "      <td>0.029873</td>\n",
       "    </tr>\n",
       "    <tr>\n",
       "      <th>0</th>\n",
       "      <td>512</td>\n",
       "      <td>0.010</td>\n",
       "      <td>50</td>\n",
       "      <td>100</td>\n",
       "      <td>0.032858</td>\n",
       "    </tr>\n",
       "    <tr>\n",
       "      <th>2</th>\n",
       "      <td>512</td>\n",
       "      <td>0.010</td>\n",
       "      <td>50</td>\n",
       "      <td>150</td>\n",
       "      <td>0.035382</td>\n",
       "    </tr>\n",
       "    <tr>\n",
       "      <th>7</th>\n",
       "      <td>256</td>\n",
       "      <td>0.010</td>\n",
       "      <td>50</td>\n",
       "      <td>150</td>\n",
       "      <td>0.035735</td>\n",
       "    </tr>\n",
       "  </tbody>\n",
       "</table>\n",
       "</div>"
      ],
      "text/plain": [
       "   batch_size     lr  number_epoch  hidden_dim  valid_loss\n",
       "1         256  0.001            50         150    0.017432\n",
       "4         256  0.001            50         100    0.018418\n",
       "5         512  0.001            50         120    0.019044\n",
       "3         512  0.005            50         100    0.021698\n",
       "9         256  0.001            50         120    0.021714\n",
       "6         256  0.005            50         150    0.024561\n",
       "8         256  0.010            50         100    0.029873\n",
       "0         512  0.010            50         100    0.032858\n",
       "2         512  0.010            50         150    0.035382\n",
       "7         256  0.010            50         150    0.035735"
      ]
     },
     "execution_count": 401,
     "metadata": {},
     "output_type": "execute_result"
    }
   ],
   "source": [
    "records = pd.DataFrame(records).sort_values(by='valid_loss')\n",
    "records.to_csv('./records/fnn_records.csv', mode='a', index=False, header=False)\n",
    "records"
   ]
  },
  {
   "cell_type": "markdown",
   "id": "aee82162",
   "metadata": {
    "ExecuteTime": {
     "end_time": "2021-12-22T03:14:37.931135Z",
     "start_time": "2021-12-22T03:14:37.875320Z"
    }
   },
   "source": [
    "## retrain a model"
   ]
  },
  {
   "cell_type": "code",
   "execution_count": 15,
   "id": "58d855d9",
   "metadata": {
    "ExecuteTime": {
     "end_time": "2021-12-24T09:59:12.569840Z",
     "start_time": "2021-12-24T09:59:12.550651Z"
    },
    "code_folding": []
   },
   "outputs": [],
   "source": [
    "def train_model(train_x, train_y, valid_x, valid_y, input_size, output_size,\n",
    "                mse_thresh, batch_size, lr, number_epoch, hidden_dim):\n",
    "    while (1):\n",
    "        model_fnn = FNN(input_size, output_size, hidden_dim)\n",
    "        model_fnn.to(device=device)\n",
    "        criterion = nn.MSELoss()\n",
    "        optimizer = torch.optim.Adam(model_fnn.parameters(), lr=lr)\n",
    "        scheduler = torch.optim.lr_scheduler.StepLR(optimizer, 1, gamma=0.98)\n",
    "        valid_loss_min = np.Inf\n",
    "        train_dataset = TensorDataset(torch.FloatTensor(train_x),\n",
    "                                      torch.FloatTensor(train_y))\n",
    "        valid_dataset = TensorDataset(torch.FloatTensor(valid_x),\n",
    "                                      torch.FloatTensor(valid_y))\n",
    "        train_loader = DataLoader(dataset=train_dataset,\n",
    "                                  batch_size=batch_size,\n",
    "                                  shuffle=True,\n",
    "                                  drop_last=False)\n",
    "        valid_loader = DataLoader(dataset=valid_dataset,\n",
    "                                  batch_size=batch_size,\n",
    "                                  shuffle=True,\n",
    "                                  drop_last=False)\n",
    "        num_without_imp = 0\n",
    "        train_loss_list = []\n",
    "        valid_loss_list = []\n",
    "        # training process\n",
    "        for epoch in range(1, number_epoch + 1):\n",
    "            loop = tqdm(enumerate(train_loader),\n",
    "                        total=len(train_loader),\n",
    "                        leave=True)\n",
    "            for i, (inputs, labels) in loop:\n",
    "                inputs = inputs.to(device=device)\n",
    "                labels = labels.to(device=device)\n",
    "                optimizer.zero_grad()\n",
    "                outputs = model_fnn(inputs)\n",
    "                loss = criterion(outputs, labels)\n",
    "                loss.backward()\n",
    "                optimizer.step()\n",
    "                if i % 5 == 0:\n",
    "                    num_without_imp = num_without_imp + 1\n",
    "                    valid_losses = list()\n",
    "                    model_fnn.eval()\n",
    "                    for inp, lab in valid_loader:\n",
    "                        inp = inp.to(device)\n",
    "                        lab = lab.to(device)\n",
    "                        out = model_fnn(inp)\n",
    "                        valid_loss = criterion(out, lab)\n",
    "                        valid_losses.append(valid_loss.item())\n",
    "\n",
    "                    model_fnn.train()\n",
    "                    loop.set_description(\"Epoch: {}/{}\".format(\n",
    "                        epoch, number_epoch))\n",
    "                    loop.set_postfix(train_loss=loss.item(),\n",
    "                                     valid_loss=np.mean(valid_losses))\n",
    "                    train_loss_list.append(loss.item())\n",
    "                    valid_loss_list.append(np.mean(valid_losses))\n",
    "                    if np.mean(valid_losses) < valid_loss_min:\n",
    "                        num_without_imp = 0\n",
    "                        torch.save(model_fnn.state_dict(),\n",
    "                                   './model/fnn_state_dict.pt')\n",
    "                        valid_loss_min = np.mean(valid_losses)\n",
    "            scheduler.step()\n",
    "        if valid_loss_min < mse_thresh:\n",
    "            break\n",
    "    return model_fnn, train_loss_list, valid_loss_list"
   ]
  },
  {
   "cell_type": "markdown",
   "id": "cd95e561",
   "metadata": {},
   "source": [
    "## test the results"
   ]
  },
  {
   "cell_type": "code",
   "execution_count": 16,
   "id": "505cd934",
   "metadata": {
    "ExecuteTime": {
     "end_time": "2021-12-24T09:59:14.168675Z",
     "start_time": "2021-12-24T09:59:14.155527Z"
    }
   },
   "outputs": [],
   "source": [
    "def test_model(model, test_x, test_y, scaler_y, batch_size):\n",
    "    test_dataset = TensorDataset(torch.FloatTensor(test_x),\n",
    "                                 torch.FloatTensor(test_y))\n",
    "    test_loader = DataLoader(dataset=test_dataset,\n",
    "                             batch_size=batch_size,\n",
    "                             shuffle=False,\n",
    "                             drop_last=False)\n",
    "    model.load_state_dict(torch.load('./model/fnn_state_dict.pt'))\n",
    "    y_pred = []\n",
    "    y_true = []\n",
    "    with torch.no_grad():\n",
    "        for inputs, label in test_loader:\n",
    "            inputs = inputs.to(device)\n",
    "            label = label.to(device)\n",
    "            outputs = model(inputs)\n",
    "            y_pred += outputs.cpu().numpy().flatten().tolist()\n",
    "            y_true += label.cpu().numpy().flatten().tolist()\n",
    "    y_pred = np.array(y_pred).reshape(-1, 1)\n",
    "    y_true = np.array(y_true).reshape(-1, 1)\n",
    "#     pdb.set_trace()\n",
    "    load_pred = scaler_y.inverse_transform(y_pred)\n",
    "    load_true = scaler_y.inverse_transform(y_true)\n",
    "    MAPE = np.mean(np.abs(load_true - load_pred) / load_true)\n",
    "    MAE = np.mean(np.abs(load_true - load_pred))\n",
    "    RMSE = np.sqrt(np.mean(np.square(load_true - load_pred)))\n",
    "    return MAPE, MAE, RMSE, load_pred, load_true"
   ]
  },
  {
   "cell_type": "markdown",
   "id": "481ee05a",
   "metadata": {},
   "source": [
    "## run model retraining"
   ]
  },
  {
   "cell_type": "code",
   "execution_count": 17,
   "id": "cba03eb0",
   "metadata": {
    "ExecuteTime": {
     "end_time": "2021-12-24T09:59:15.449502Z",
     "start_time": "2021-12-24T09:59:15.435859Z"
    }
   },
   "outputs": [],
   "source": [
    "def run_model_retraining(seq_len=seq_len,\n",
    "                         target_len=target_len,\n",
    "                         feature_num=feature_num,\n",
    "                         mse_thresh=mse_thresh):\n",
    "    train_data = data[:int(0.8 * len(data))]\n",
    "    train_data, scaler, scaler_y = normalization(train_data)\n",
    "    train_x, train_y = Series_To_Supervise(train_data, seq_len, target_len)\n",
    "    #     ind = select_feature(train_x, train_y, feature_num=feature_num)\n",
    "    train_x = train_x.reshape(train_x.shape[0], -1)\n",
    "    valid_x = train_x[int(0.8 * len(train_x)):]\n",
    "    valid_y = train_y[int(0.8 * len(train_y)):]\n",
    "    train_x = train_x[:int(0.8 * len(train_x))]\n",
    "    train_y = train_y[:int(0.8 * len(train_y))]\n",
    "    input_size = train_x.shape[1]\n",
    "    output_size = target_len\n",
    "\n",
    "    #     hyper-parameters define\n",
    "    batch_size = 256\n",
    "    lr = 0.001\n",
    "    number_epoch = 100\n",
    "    hidden_dim = 150\n",
    "    mse_thresh = 0.01\n",
    "\n",
    "    model, train_loss_list, valid_loss_list = train_model(\n",
    "        train_x, train_y, valid_x, valid_y, input_size, output_size,\n",
    "        mse_thresh, batch_size, lr, number_epoch, hidden_dim)\n",
    "    # plot training process\n",
    "    plt.plot(train_loss_list, 'm', label='train_loss')\n",
    "    plt.plot(valid_loss_list, 'g', label='valid_loss')\n",
    "    plt.grid('both')\n",
    "    plt.legend()\n",
    "    # test\n",
    "    test_data = data[int(0.8 * len(data)):]\n",
    "    test_data = scaler.transform(test_data)\n",
    "    test_x, test_y = Series_To_Supervise(test_data, seq_len, target_len)\n",
    "    test_x = test_x.reshape(test_x.shape[0], -1)\n",
    "    MAPE, MAE, RMSE, load_pred, load_true = test_model(model, test_x, test_y,\n",
    "                                                       scaler_y, batch_size)\n",
    "    return MAPE, MAE, RMSE, load_pred, load_true"
   ]
  },
  {
   "cell_type": "code",
   "execution_count": 18,
   "id": "9f880afc",
   "metadata": {
    "ExecuteTime": {
     "end_time": "2021-12-24T10:01:27.392207Z",
     "start_time": "2021-12-24T09:59:17.889007Z"
    }
   },
   "outputs": [
    {
     "name": "stdout",
     "output_type": "stream",
     "text": [
      "Supervised Data: Shape of x: (30764, 72, 16), Shape of y: (30764, 24)\n"
     ]
    },
    {
     "name": "stderr",
     "output_type": "stream",
     "text": [
      "Epoch: 1/100: 100%|██████████| 97/97 [00:01<00:00, 67.10it/s, train_loss=0.019, valid_loss=0.0185] \n",
      "Epoch: 2/100: 100%|██████████| 97/97 [00:01<00:00, 71.17it/s, train_loss=0.0167, valid_loss=0.0166]\n",
      "Epoch: 3/100: 100%|██████████| 97/97 [00:01<00:00, 73.13it/s, train_loss=0.0102, valid_loss=0.00946] \n",
      "Epoch: 4/100: 100%|██████████| 97/97 [00:01<00:00, 72.44it/s, train_loss=0.00938, valid_loss=0.00938]\n",
      "Epoch: 5/100: 100%|██████████| 97/97 [00:01<00:00, 73.22it/s, train_loss=0.00874, valid_loss=0.0089] \n",
      "Epoch: 6/100: 100%|██████████| 97/97 [00:01<00:00, 70.52it/s, train_loss=0.0084, valid_loss=0.00866] \n",
      "Epoch: 7/100: 100%|██████████| 97/97 [00:01<00:00, 74.29it/s, train_loss=0.00908, valid_loss=0.00859]\n",
      "Epoch: 8/100: 100%|██████████| 97/97 [00:01<00:00, 71.69it/s, train_loss=0.0089, valid_loss=0.00916] \n",
      "Epoch: 9/100: 100%|██████████| 97/97 [00:01<00:00, 77.70it/s, train_loss=0.00875, valid_loss=0.00896]\n",
      "Epoch: 10/100: 100%|██████████| 97/97 [00:01<00:00, 70.69it/s, train_loss=0.00907, valid_loss=0.00872]\n",
      "Epoch: 11/100: 100%|██████████| 97/97 [00:01<00:00, 73.60it/s, train_loss=0.00824, valid_loss=0.00865]\n",
      "Epoch: 12/100: 100%|██████████| 97/97 [00:01<00:00, 73.32it/s, train_loss=0.00849, valid_loss=0.00892]\n",
      "Epoch: 13/100: 100%|██████████| 97/97 [00:01<00:00, 75.56it/s, train_loss=0.00803, valid_loss=0.00867]\n",
      "Epoch: 14/100: 100%|██████████| 97/97 [00:01<00:00, 72.99it/s, train_loss=0.00771, valid_loss=0.00873]\n",
      "Epoch: 15/100: 100%|██████████| 97/97 [00:01<00:00, 73.16it/s, train_loss=0.00715, valid_loss=0.00839]\n",
      "Epoch: 16/100: 100%|██████████| 97/97 [00:01<00:00, 71.84it/s, train_loss=0.00817, valid_loss=0.00893]\n",
      "Epoch: 17/100: 100%|██████████| 97/97 [00:01<00:00, 76.45it/s, train_loss=0.00768, valid_loss=0.00854]\n",
      "Epoch: 18/100: 100%|██████████| 97/97 [00:01<00:00, 73.04it/s, train_loss=0.0084, valid_loss=0.00937] \n",
      "Epoch: 19/100: 100%|██████████| 97/97 [00:01<00:00, 72.48it/s, train_loss=0.00836, valid_loss=0.00852]\n",
      "Epoch: 20/100: 100%|██████████| 97/97 [00:01<00:00, 71.98it/s, train_loss=0.00832, valid_loss=0.00878]\n",
      "Epoch: 21/100: 100%|██████████| 97/97 [00:01<00:00, 76.37it/s, train_loss=0.00852, valid_loss=0.00872]\n",
      "Epoch: 22/100: 100%|██████████| 97/97 [00:01<00:00, 75.06it/s, train_loss=0.00771, valid_loss=0.00862]\n",
      "Epoch: 23/100: 100%|██████████| 97/97 [00:01<00:00, 74.41it/s, train_loss=0.00772, valid_loss=0.00859]\n",
      "Epoch: 24/100: 100%|██████████| 97/97 [00:01<00:00, 72.00it/s, train_loss=0.00768, valid_loss=0.00868]\n",
      "Epoch: 25/100: 100%|██████████| 97/97 [00:01<00:00, 75.66it/s, train_loss=0.00723, valid_loss=0.00858]\n",
      "Epoch: 26/100: 100%|██████████| 97/97 [00:01<00:00, 74.43it/s, train_loss=0.00763, valid_loss=0.00852]\n",
      "Epoch: 27/100: 100%|██████████| 97/97 [00:01<00:00, 72.13it/s, train_loss=0.00699, valid_loss=0.00868]\n",
      "Epoch: 28/100: 100%|██████████| 97/97 [00:01<00:00, 72.71it/s, train_loss=0.008, valid_loss=0.00863]  \n",
      "Epoch: 29/100: 100%|██████████| 97/97 [00:01<00:00, 74.26it/s, train_loss=0.00736, valid_loss=0.00869]\n",
      "Epoch: 30/100: 100%|██████████| 97/97 [00:01<00:00, 77.53it/s, train_loss=0.00759, valid_loss=0.00851]\n",
      "Epoch: 31/100: 100%|██████████| 97/97 [00:01<00:00, 73.52it/s, train_loss=0.00715, valid_loss=0.00879]\n",
      "Epoch: 32/100: 100%|██████████| 97/97 [00:01<00:00, 73.51it/s, train_loss=0.00782, valid_loss=0.00861]\n",
      "Epoch: 33/100: 100%|██████████| 97/97 [00:01<00:00, 74.68it/s, train_loss=0.00789, valid_loss=0.00855]\n",
      "Epoch: 34/100: 100%|██████████| 97/97 [00:01<00:00, 76.18it/s, train_loss=0.00756, valid_loss=0.00886]\n",
      "Epoch: 35/100: 100%|██████████| 97/97 [00:01<00:00, 71.16it/s, train_loss=0.00827, valid_loss=0.00872]\n",
      "Epoch: 36/100: 100%|██████████| 97/97 [00:01<00:00, 74.77it/s, train_loss=0.00769, valid_loss=0.0085] \n",
      "Epoch: 37/100: 100%|██████████| 97/97 [00:01<00:00, 73.54it/s, train_loss=0.0076, valid_loss=0.00857] \n",
      "Epoch: 38/100: 100%|██████████| 97/97 [00:01<00:00, 76.58it/s, train_loss=0.00816, valid_loss=0.00859]\n",
      "Epoch: 39/100: 100%|██████████| 97/97 [00:01<00:00, 73.80it/s, train_loss=0.00808, valid_loss=0.00872]\n",
      "Epoch: 40/100: 100%|██████████| 97/97 [00:01<00:00, 73.79it/s, train_loss=0.00841, valid_loss=0.00857]\n",
      "Epoch: 41/100: 100%|██████████| 97/97 [00:01<00:00, 70.61it/s, train_loss=0.00784, valid_loss=0.00847]\n",
      "Epoch: 42/100: 100%|██████████| 97/97 [00:01<00:00, 76.71it/s, train_loss=0.00736, valid_loss=0.00871]\n",
      "Epoch: 43/100: 100%|██████████| 97/97 [00:01<00:00, 73.08it/s, train_loss=0.00751, valid_loss=0.00876]\n",
      "Epoch: 44/100: 100%|██████████| 97/97 [00:01<00:00, 74.50it/s, train_loss=0.00791, valid_loss=0.00875]\n",
      "Epoch: 45/100: 100%|██████████| 97/97 [00:01<00:00, 72.73it/s, train_loss=0.00747, valid_loss=0.00871]\n",
      "Epoch: 46/100: 100%|██████████| 97/97 [00:01<00:00, 76.39it/s, train_loss=0.00753, valid_loss=0.00849]\n",
      "Epoch: 47/100: 100%|██████████| 97/97 [00:01<00:00, 73.14it/s, train_loss=0.0076, valid_loss=0.0087]  \n",
      "Epoch: 48/100: 100%|██████████| 97/97 [00:01<00:00, 74.98it/s, train_loss=0.00734, valid_loss=0.00886]\n",
      "Epoch: 49/100: 100%|██████████| 97/97 [00:01<00:00, 74.79it/s, train_loss=0.00719, valid_loss=0.00853]\n",
      "Epoch: 50/100: 100%|██████████| 97/97 [00:01<00:00, 75.45it/s, train_loss=0.00845, valid_loss=0.0089] \n",
      "Epoch: 51/100: 100%|██████████| 97/97 [00:01<00:00, 79.73it/s, train_loss=0.00688, valid_loss=0.00855]\n",
      "Epoch: 52/100: 100%|██████████| 97/97 [00:01<00:00, 75.71it/s, train_loss=0.00735, valid_loss=0.00874]\n",
      "Epoch: 53/100: 100%|██████████| 97/97 [00:01<00:00, 76.33it/s, train_loss=0.0076, valid_loss=0.00877] \n",
      "Epoch: 54/100: 100%|██████████| 97/97 [00:01<00:00, 76.54it/s, train_loss=0.00696, valid_loss=0.00874]\n",
      "Epoch: 55/100: 100%|██████████| 97/97 [00:01<00:00, 80.05it/s, train_loss=0.00681, valid_loss=0.00853]\n",
      "Epoch: 56/100: 100%|██████████| 97/97 [00:01<00:00, 76.80it/s, train_loss=0.00751, valid_loss=0.00866]\n",
      "Epoch: 57/100: 100%|██████████| 97/97 [00:01<00:00, 76.56it/s, train_loss=0.00746, valid_loss=0.00884]\n",
      "Epoch: 58/100: 100%|██████████| 97/97 [00:01<00:00, 75.72it/s, train_loss=0.00704, valid_loss=0.00868]\n",
      "Epoch: 59/100: 100%|██████████| 97/97 [00:01<00:00, 78.71it/s, train_loss=0.00688, valid_loss=0.00877]\n",
      "Epoch: 60/100: 100%|██████████| 97/97 [00:01<00:00, 76.44it/s, train_loss=0.00765, valid_loss=0.00861]\n",
      "Epoch: 61/100: 100%|██████████| 97/97 [00:01<00:00, 76.46it/s, train_loss=0.00703, valid_loss=0.00884]\n",
      "Epoch: 62/100: 100%|██████████| 97/97 [00:01<00:00, 76.75it/s, train_loss=0.00697, valid_loss=0.00872]\n",
      "Epoch: 63/100: 100%|██████████| 97/97 [00:01<00:00, 79.86it/s, train_loss=0.00771, valid_loss=0.00866]\n",
      "Epoch: 64/100: 100%|██████████| 97/97 [00:01<00:00, 75.58it/s, train_loss=0.00669, valid_loss=0.00858]\n",
      "Epoch: 65/100: 100%|██████████| 97/97 [00:01<00:00, 76.69it/s, train_loss=0.0074, valid_loss=0.00888] \n",
      "Epoch: 66/100: 100%|██████████| 97/97 [00:01<00:00, 76.55it/s, train_loss=0.00764, valid_loss=0.00868]\n",
      "Epoch: 67/100: 100%|██████████| 97/97 [00:01<00:00, 76.83it/s, train_loss=0.00651, valid_loss=0.00874]\n",
      "Epoch: 68/100: 100%|██████████| 97/97 [00:01<00:00, 75.83it/s, train_loss=0.00665, valid_loss=0.0087] \n",
      "Epoch: 69/100: 100%|██████████| 97/97 [00:01<00:00, 76.83it/s, train_loss=0.00761, valid_loss=0.00862]\n",
      "Epoch: 70/100: 100%|██████████| 97/97 [00:01<00:00, 76.51it/s, train_loss=0.00729, valid_loss=0.00878]\n",
      "Epoch: 71/100: 100%|██████████| 97/97 [00:01<00:00, 79.69it/s, train_loss=0.00723, valid_loss=0.00881]\n",
      "Epoch: 72/100: 100%|██████████| 97/97 [00:01<00:00, 76.55it/s, train_loss=0.00736, valid_loss=0.00869]\n",
      "Epoch: 73/100: 100%|██████████| 97/97 [00:01<00:00, 75.55it/s, train_loss=0.00706, valid_loss=0.00872]\n",
      "Epoch: 74/100: 100%|██████████| 97/97 [00:01<00:00, 76.71it/s, train_loss=0.00667, valid_loss=0.00884]\n",
      "Epoch: 75/100: 100%|██████████| 97/97 [00:01<00:00, 76.69it/s, train_loss=0.00709, valid_loss=0.00857]\n",
      "Epoch: 76/100: 100%|██████████| 97/97 [00:01<00:00, 79.78it/s, train_loss=0.00789, valid_loss=0.00879]\n",
      "Epoch: 77/100: 100%|██████████| 97/97 [00:01<00:00, 76.60it/s, train_loss=0.00693, valid_loss=0.00879]\n",
      "Epoch: 78/100: 100%|██████████| 97/97 [00:01<00:00, 76.82it/s, train_loss=0.00777, valid_loss=0.00892]\n",
      "Epoch: 79/100: 100%|██████████| 97/97 [00:01<00:00, 76.55it/s, train_loss=0.00695, valid_loss=0.00855]\n",
      "Epoch: 80/100: 100%|██████████| 97/97 [00:01<00:00, 79.60it/s, train_loss=0.00729, valid_loss=0.00869]\n",
      "Epoch: 81/100: 100%|██████████| 97/97 [00:01<00:00, 76.03it/s, train_loss=0.00718, valid_loss=0.0088] \n",
      "Epoch: 82/100: 100%|██████████| 97/97 [00:01<00:00, 76.58it/s, train_loss=0.00773, valid_loss=0.00865]\n",
      "Epoch: 83/100: 100%|██████████| 97/97 [00:01<00:00, 76.73it/s, train_loss=0.0074, valid_loss=0.00885] \n",
      "Epoch: 84/100: 100%|██████████| 97/97 [00:01<00:00, 79.61it/s, train_loss=0.00742, valid_loss=0.00876]\n",
      "Epoch: 85/100: 100%|██████████| 97/97 [00:01<00:00, 76.42it/s, train_loss=0.00738, valid_loss=0.00871]\n",
      "Epoch: 86/100: 100%|██████████| 97/97 [00:01<00:00, 75.52it/s, train_loss=0.00675, valid_loss=0.00869]\n",
      "Epoch: 87/100: 100%|██████████| 97/97 [00:01<00:00, 76.69it/s, train_loss=0.00703, valid_loss=0.00881]\n",
      "Epoch: 88/100: 100%|██████████| 97/97 [00:01<00:00, 78.33it/s, train_loss=0.00722, valid_loss=0.00878]\n",
      "Epoch: 89/100: 100%|██████████| 97/97 [00:01<00:00, 74.82it/s, train_loss=0.00737, valid_loss=0.00879]\n",
      "Epoch: 90/100: 100%|██████████| 97/97 [00:01<00:00, 75.90it/s, train_loss=0.00764, valid_loss=0.00871]\n",
      "Epoch: 91/100: 100%|██████████| 97/97 [00:01<00:00, 76.62it/s, train_loss=0.00659, valid_loss=0.00863]\n",
      "Epoch: 92/100: 100%|██████████| 97/97 [00:01<00:00, 79.90it/s, train_loss=0.00729, valid_loss=0.00888]\n",
      "Epoch: 93/100: 100%|██████████| 97/97 [00:01<00:00, 76.10it/s, train_loss=0.00694, valid_loss=0.00888]\n",
      "Epoch: 94/100: 100%|██████████| 97/97 [00:01<00:00, 75.92it/s, train_loss=0.00764, valid_loss=0.00881]\n",
      "Epoch: 95/100: 100%|██████████| 97/97 [00:01<00:00, 75.64it/s, train_loss=0.00732, valid_loss=0.00862]\n",
      "Epoch: 96/100: 100%|██████████| 97/97 [00:01<00:00, 75.93it/s, train_loss=0.00712, valid_loss=0.00871]\n",
      "Epoch: 97/100: 100%|██████████| 97/97 [00:01<00:00, 77.98it/s, train_loss=0.00719, valid_loss=0.00883]\n",
      "Epoch: 98/100: 100%|██████████| 97/97 [00:01<00:00, 76.49it/s, train_loss=0.00745, valid_loss=0.0086] \n",
      "Epoch: 99/100: 100%|██████████| 97/97 [00:01<00:00, 74.17it/s, train_loss=0.00734, valid_loss=0.00869]\n",
      "Epoch: 100/100: 100%|██████████| 97/97 [00:01<00:00, 76.56it/s, train_loss=0.00723, valid_loss=0.00876]\n"
     ]
    },
    {
     "name": "stdout",
     "output_type": "stream",
     "text": [
      "Supervised Data: Shape of x: (705, 72, 16), Shape of y: (705, 24)\n",
      "MAPE:0.08497200858046905, MAE:1256.479929338489, RMSE:2207.361606605584\n"
     ]
    }
   ],
   "source": [
    "MAPE, MAE, RMSE, load_pred, load_true = run_model_retraining()\n",
    "print('MAPE:{}, MAE:{}, RMSE:{}'.format(MAPE, MAE, RMSE))"
   ]
  },
  {
   "cell_type": "code",
   "execution_count": 396,
   "id": "66716b72",
   "metadata": {
    "ExecuteTime": {
     "end_time": "2021-12-22T07:37:44.316553Z",
     "start_time": "2021-12-22T07:37:44.311035Z"
    }
   },
   "outputs": [
    {
     "name": "stdout",
     "output_type": "stream",
     "text": [
      "MAPE:0.06717416533236623, MAE:874.4779669495742, RMSE:1737.0919477135044\n"
     ]
    }
   ],
   "source": [
    "print('MAPE:{}, MAE:{}, RMSE:{}'.format(MAPE, MAE, RMSE))"
   ]
  },
  {
   "cell_type": "markdown",
   "id": "16b92325",
   "metadata": {},
   "source": [
    "## figure plot"
   ]
  },
  {
   "cell_type": "code",
   "execution_count": 395,
   "id": "960d96e9",
   "metadata": {
    "ExecuteTime": {
     "end_time": "2021-12-22T07:14:05.173436Z",
     "start_time": "2021-12-22T07:14:05.032263Z"
    }
   },
   "outputs": [
    {
     "data": {
      "text/plain": [
       "[<matplotlib.lines.Line2D at 0x7f3be848ce80>]"
      ]
     },
     "execution_count": 395,
     "metadata": {},
     "output_type": "execute_result"
    },
    {
     "data": {
      "image/png": "[encoded data removed]",
      "text/plain": [
       "<Figure size 1440x720 with 1 Axes>"
      ]
     },
     "metadata": {
      "needs_background": "light"
     },
     "output_type": "display_data"
    }
   ],
   "source": [
    "plt.figure(figsize=(20, 10))\n",
    "load_pred = load_pred.reshape(-1, 24)\n",
    "load_true = load_true.reshape(-1, 24)\n",
    "plt.plot(load_pred[:240, 0], 'r')\n",
    "plt.plot(load_true[:240, 0], 'g')"
   ]
  }
 ],
 "metadata": {
  "kernelspec": {
   "display_name": "Python 3",
   "language": "python",
   "name": "python3"
  },
  "language_info": {
   "codemirror_mode": {
    "name": "ipython",
    "version": 3
   },
   "file_extension": ".py",
   "mimetype": "text/x-python",
   "name": "python",
   "nbconvert_exporter": "python",
   "pygments_lexer": "ipython3",
   "version": "3.8.12"
  },
  "toc": {
   "base_numbering": 1,
   "nav_menu": {},
   "number_sections": true,
   "sideBar": true,
   "skip_h1_title": false,
   "title_cell": "Table of Contents",
   "title_sidebar": "Contents",
   "toc_cell": false,
   "toc_position": {
    "height": "calc(100% - 180px)",
    "left": "10px",
    "top": "150px",
    "width": "332.797px"
   },
   "toc_section_display": true,
   "toc_window_display": true
  },
  "varInspector": {
   "cols": {
    "lenName": 16,
    "lenType": 16,
    "lenVar": 40
   },
   "kernels_config": {
    "python": {
     "delete_cmd_postfix": "",
     "delete_cmd_prefix": "del ",
     "library": "var_list.py",
     "varRefreshCmd": "print(var_dic_list())"
    },
    "r": {
     "delete_cmd_postfix": ") ",
     "delete_cmd_prefix": "rm(",
     "library": "var_list.r",
     "varRefreshCmd": "cat(var_dic_list()) "
    }
   },
   "types_to_exclude": [
    "module",
    "function",
    "builtin_function_or_method",
    "instance",
    "_Feature"
   ],
   "window_display": false
  }
 },
 "nbformat": 4,
 "nbformat_minor": 5
}
