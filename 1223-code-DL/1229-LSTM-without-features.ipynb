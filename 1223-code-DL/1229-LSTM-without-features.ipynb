{
 "cells": [
  {
   "cell_type": "markdown",
   "id": "60e73e73",
   "metadata": {},
   "source": [
    "# LSTM for forecast without features"
   ]
  },
  {
   "cell_type": "code",
   "execution_count": 1,
   "id": "1293826f",
   "metadata": {
    "ExecuteTime": {
     "end_time": "2021-12-29T12:37:35.545273Z",
     "start_time": "2021-12-29T12:37:34.499623Z"
    }
   },
   "outputs": [],
   "source": [
    "import pandas as pd\n",
    "import numpy as np\n",
    "import matplotlib.pyplot as plt\n",
    "import pdb\n",
    "import torch\n",
    "import torch.nn as nn\n",
    "import random\n",
    "\n",
    "from sklearn.preprocessing import MinMaxScaler\n",
    "from sklearn.model_selection import train_test_split, TimeSeriesSplit\n",
    "from torch.autograd import Variable\n",
    "from torch.utils.data import TensorDataset, DataLoader\n",
    "from tqdm import tqdm\n",
    "from xgboost import XGBRegressor\n",
    "\n",
    "np.random.seed(0)\n",
    "torch.manual_seed(0)\n",
    "torch.cuda.manual_seed(0)\n",
    "if torch.cuda.is_available():  \n",
    "    dev = \"cuda:0\" \n",
    "else:  \n",
    "    dev = \"cpu\"\n",
    "device = torch.device(dev)"
   ]
  },
  {
   "cell_type": "markdown",
   "id": "12d492d0",
   "metadata": {},
   "source": [
    "## load data"
   ]
  },
  {
   "cell_type": "code",
   "execution_count": 2,
   "id": "a716e9d9",
   "metadata": {
    "ExecuteTime": {
     "end_time": "2021-12-29T12:37:36.318543Z",
     "start_time": "2021-12-29T12:37:36.255758Z"
    }
   },
   "outputs": [],
   "source": [
    "url = '../data/beijing.csv'\n",
    "data = pd.read_csv(url, sep=',', index_col='time')\n",
    "data.index = pd.to_datetime(data.index)\n",
    "data = data[['load']]"
   ]
  },
  {
   "cell_type": "markdown",
   "id": "fcc89c50",
   "metadata": {},
   "source": [
    "## normalization"
   ]
  },
  {
   "cell_type": "code",
   "execution_count": 3,
   "id": "6739640e",
   "metadata": {
    "ExecuteTime": {
     "end_time": "2021-12-29T12:37:37.701302Z",
     "start_time": "2021-12-29T12:37:37.695131Z"
    }
   },
   "outputs": [],
   "source": [
    "def normalization(data):\n",
    "    \"\"\"\n",
    "    data: original data with load\n",
    "    return: normalized data, scaler of load\n",
    "    \"\"\"\n",
    "    scaler = MinMaxScaler()\n",
    "    normalized_data = scaler.fit_transform(data)\n",
    "    scaler_y = MinMaxScaler()\n",
    "    scaler_y.fit_transform(data[[data.columns[-1]]])\n",
    "    return normalized_data, scaler, scaler_y"
   ]
  },
  {
   "cell_type": "markdown",
   "id": "013ae526",
   "metadata": {
    "ExecuteTime": {
     "end_time": "2021-12-22T07:45:44.192666Z",
     "start_time": "2021-12-22T07:45:44.188985Z"
    }
   },
   "source": [
    "## build supervised dataset"
   ]
  },
  {
   "cell_type": "code",
   "execution_count": 4,
   "id": "a385ff4a",
   "metadata": {
    "ExecuteTime": {
     "end_time": "2021-12-29T12:37:39.305004Z",
     "start_time": "2021-12-29T12:37:39.296721Z"
    }
   },
   "outputs": [],
   "source": [
    "def series_to_supervise(data, seq_len, target_len):\n",
    "    \"\"\"\n",
    "    convert series data to supervised data\n",
    "    :param data: original data\n",
    "    :param seq_len: length of input sequence\n",
    "    :param target_len: length of ouput sequence\n",
    "    :return: return two ndarrays-- input and output in format suitable to feed to LSTM\n",
    "    \"\"\"\n",
    "    dim_0 = data.shape[0] - seq_len - target_len + 1\n",
    "    dim_1 = data.shape[1]\n",
    "    x = np.zeros((dim_0, seq_len, dim_1))\n",
    "    y = np.zeros((dim_0, target_len))\n",
    "    for i in range(dim_0):\n",
    "        x[i] = data[i:i + seq_len]\n",
    "        y[i] = data[i + seq_len:i + seq_len + target_len, -1]\n",
    "    print(\"supervised data: shape of x: {}, shape of y: {}\".format(x.shape, y.shape))\n",
    "    return x, y"
   ]
  },
  {
   "cell_type": "markdown",
   "id": "d882859d",
   "metadata": {},
   "source": [
    "## 5-folds TimeSeriesSplit"
   ]
  },
  {
   "cell_type": "code",
   "execution_count": 5,
   "id": "d1873d8c",
   "metadata": {
    "ExecuteTime": {
     "end_time": "2021-12-29T12:37:40.885747Z",
     "start_time": "2021-12-29T12:37:40.878319Z"
    }
   },
   "outputs": [],
   "source": [
    "def time_series_split(X, Y, n_split=5):\n",
    "    \"\"\"\n",
    "    X: features, size * seq_len * feature_num\n",
    "    Y: labels, size * target_len\n",
    "    return: list of train_x, test_x, train_y, test_y\n",
    "    \"\"\"\n",
    "    tscv = TimeSeriesSplit(n_splits=n_split)\n",
    "    train_x_list = list()\n",
    "    valid_x_list = list()\n",
    "    train_y_list = list()\n",
    "    valid_y_list = list()\n",
    "    for train_index, valid_index in tscv.split(X):\n",
    "        train_x_list.append(X[train_index])\n",
    "        train_y_list.append(Y[train_index])\n",
    "        valid_x_list.append(X[valid_index])\n",
    "        valid_y_list.append(Y[valid_index])\n",
    "    return train_x_list, train_y_list, valid_x_list, valid_y_list"
   ]
  },
  {
   "cell_type": "markdown",
   "id": "31f79113",
   "metadata": {},
   "source": [
    "## LSTM model"
   ]
  },
  {
   "cell_type": "code",
   "execution_count": 6,
   "id": "02a7959a",
   "metadata": {
    "ExecuteTime": {
     "end_time": "2021-12-29T12:38:04.100617Z",
     "start_time": "2021-12-29T12:38:04.087111Z"
    }
   },
   "outputs": [],
   "source": [
    "class LSTM(nn.Module):\n",
    "    def __init__(self, input_size, output_size, hidden_dim, n_layers,\n",
    "                 drop_prob):\n",
    "        super(LSTM, self).__init__()\n",
    "        # model parameters\n",
    "        self.hidden_dim = hidden_dim\n",
    "        self.n_layers = n_layers\n",
    "        self.output_size = output_size\n",
    "        # layes\n",
    "        self.lstm = nn.LSTM(input_size=input_size,\n",
    "                            hidden_size=hidden_dim,\n",
    "                            num_layers=n_layers,\n",
    "                            batch_first=True,\n",
    "                            dropout=drop_prob)\n",
    "        self.fc = nn.Sequential()\n",
    "        \n",
    "        input_size = hidden_dim\n",
    "        i = 0\n",
    "        while(input_size > 8):\n",
    "            self.fc.add_module('linear{}'.format(i), nn.Linear(input_size, round(input_size / 2)))\n",
    "            self.fc.add_module('relu{}'.format(i), nn.ReLU())\n",
    "            input_size = round(input_size / 2)\n",
    "            i += 1\n",
    "        self.fc.add_module('linear{}'.format(i), nn.Linear(input_size, 1))\n",
    "\n",
    "    def forward(self, x):\n",
    "\n",
    "        lstm_out, hidden = self.lstm(x)\n",
    "        lstm_out = lstm_out[:, -self.output_size:, :]\n",
    "\n",
    "        out = self.fc(lstm_out)\n",
    "\n",
    "        out = out.reshape(x.shape[0], -1)\n",
    "\n",
    "        return out"
   ]
  },
  {
   "cell_type": "markdown",
   "id": "cc1651bf",
   "metadata": {
    "ExecuteTime": {
     "end_time": "2021-12-22T08:30:19.661769Z",
     "start_time": "2021-12-22T08:30:19.656770Z"
    }
   },
   "source": [
    "## model training for HPO"
   ]
  },
  {
   "cell_type": "code",
   "execution_count": 7,
   "id": "e1b116dd",
   "metadata": {
    "ExecuteTime": {
     "end_time": "2021-12-29T12:38:10.077565Z",
     "start_time": "2021-12-29T12:38:10.056848Z"
    }
   },
   "outputs": [],
   "source": [
    "def train_model_hpo(train_x_list, train_y_list, valid_x_list, valid_y_list,\n",
    "                    input_size, output_size, mse_thresh, batch_size, lr,\n",
    "                    number_epoch, hidden_dim, n_layers, drop_prob, weight_decay):\n",
    "    valid_loss_list = []\n",
    "    for num in range(len(train_x_list)):\n",
    "        while (1):\n",
    "            model = LSTM(input_size, output_size, hidden_dim, n_layers,\n",
    "                           drop_prob)\n",
    "            model.to(device=device)\n",
    "            criterion = nn.MSELoss()\n",
    "            optimizer = torch.optim.Adam(model.parameters(), lr=lr, weight_decay=weight_decay)\n",
    "            scheduler = torch.optim.lr_scheduler.StepLR(optimizer, 1, gamma=0.98)\n",
    "            valid_loss_min = np.Inf\n",
    "            print('cross-validation dataset {}'.format(num))\n",
    "            train_x = train_x_list[num]\n",
    "            train_y = train_y_list[num]\n",
    "            valid_x = valid_x_list[num]\n",
    "            valid_y = valid_y_list[num]\n",
    "            train_dataset = TensorDataset(torch.FloatTensor(train_x),\n",
    "                                          torch.FloatTensor(train_y))\n",
    "            valid_dataset = TensorDataset(torch.FloatTensor(valid_x),\n",
    "                                          torch.FloatTensor(valid_y))\n",
    "            train_loader = DataLoader(dataset=train_dataset,\n",
    "                                      batch_size=batch_size,\n",
    "                                      shuffle=True,\n",
    "                                      drop_last=False)\n",
    "            valid_loader = DataLoader(dataset=valid_dataset,\n",
    "                                      batch_size=batch_size,\n",
    "                                      shuffle=True,\n",
    "                                      drop_last=False)\n",
    "            num_without_imp = 0\n",
    "            # training process\n",
    "            for epoch in range(1, number_epoch + 1):\n",
    "                loop = tqdm(enumerate(train_loader),\n",
    "                            total=len(train_loader),\n",
    "                            leave=True)\n",
    "                for i, (inputs, labels) in loop:\n",
    "                    inputs = inputs.to(device=device)\n",
    "                    labels = labels.to(device=device)\n",
    "                    optimizer.zero_grad()\n",
    "                    outputs = model(inputs)\n",
    "                    loss = criterion(outputs, labels)\n",
    "                    loss.backward()\n",
    "                    optimizer.step()\n",
    "                    if i % 5 == 0:\n",
    "                        num_without_imp = num_without_imp + 1\n",
    "                        valid_losses = list()\n",
    "                        model.eval()\n",
    "                        for inp, lab in valid_loader:\n",
    "                            inp = inp.to(device)\n",
    "                            lab = lab.to(device)\n",
    "                            out = model(inp)\n",
    "                            valid_loss = criterion(out, lab)\n",
    "                            valid_losses.append(valid_loss.item())\n",
    "\n",
    "                        model.train()\n",
    "                        loop.set_description(\"Epoch: {}/{}\".format(\n",
    "                            epoch, number_epoch))\n",
    "                        loop.set_postfix(train_loss=loss.item(),\n",
    "                                         valid_loss=np.mean(valid_losses))\n",
    "                        if np.mean(valid_losses) < valid_loss_min:\n",
    "                            num_without_imp = 0\n",
    "                            valid_loss_min = np.mean(valid_losses)\n",
    "                scheduler.step()\n",
    "                if num_without_imp >= 50:\n",
    "                    pass\n",
    "#                     break\n",
    "\n",
    "            if valid_loss_min < mse_thresh:\n",
    "                valid_loss_list.append(valid_loss_min)\n",
    "                break\n",
    "    return np.mean(valid_loss_list)"
   ]
  },
  {
   "cell_type": "markdown",
   "id": "f9e01e8f",
   "metadata": {},
   "source": [
    "## hyper-parameters config"
   ]
  },
  {
   "cell_type": "code",
   "execution_count": 22,
   "id": "46d148b1",
   "metadata": {
    "ExecuteTime": {
     "end_time": "2021-12-29T12:57:14.499515Z",
     "start_time": "2021-12-29T12:57:14.489765Z"
    }
   },
   "outputs": [],
   "source": [
    "seq_len = 72\n",
    "target_len = 24\n",
    "mse_thresh = 0.01\n",
    "\n",
    "\n",
    "def model_config():\n",
    "    batch_sizes = [512]\n",
    "    lrs = [0.01]\n",
    "    number_epochs = [30]\n",
    "    hidden_dims = [16, 32]\n",
    "    n_layers = [1, 2, 3]\n",
    "    drop_prob = [0]\n",
    "    weight_decays = [0]\n",
    "    configs = list()\n",
    "    for i in batch_sizes:\n",
    "        for j in lrs:\n",
    "            for k in number_epochs:\n",
    "                for l in hidden_dims:\n",
    "                    for m in n_layers:\n",
    "                        for n in drop_prob:\n",
    "                            for o in weight_decays:\n",
    "                                configs.append({\n",
    "                                    'batch_size': i,\n",
    "                                    'lr': j,\n",
    "                                    'number_epoch': k,\n",
    "                                    'hidden_dim': l,\n",
    "                                    'n_layers': m,\n",
    "                                    'drop_prob': n,\n",
    "                                    'weight_decay': o,\n",
    "                                })\n",
    "    return configs"
   ]
  },
  {
   "cell_type": "markdown",
   "id": "b6afcd39",
   "metadata": {},
   "source": [
    "## random search for HPO"
   ]
  },
  {
   "cell_type": "code",
   "execution_count": 19,
   "id": "8b584ed0",
   "metadata": {
    "ExecuteTime": {
     "end_time": "2021-12-29T12:50:24.072817Z",
     "start_time": "2021-12-29T12:50:24.057258Z"
    }
   },
   "outputs": [],
   "source": [
    "def run_model_hpo(seq_len=seq_len,\n",
    "                  target_len=target_len,\n",
    "                  mse_thresh=mse_thresh):\n",
    "    train_data = data[:int(0.8 * len(data))]\n",
    "    train_data, _, _ = normalization(train_data)\n",
    "    train_x, train_y = series_to_supervise(train_data, seq_len, target_len)\n",
    "    train_x_list, train_y_list, valid_x_list, valid_y_list = time_series_split(\n",
    "        train_x, train_y)\n",
    "    #     with enough data\n",
    "    train_x_list = train_x_list[-1:]\n",
    "    train_y_list = train_y_list[-1:]\n",
    "    valid_x_list = valid_x_list[-1:]\n",
    "    valid_y_list = valid_y_list[-1:]\n",
    "\n",
    "    configs = model_config()\n",
    "    records = []\n",
    "    input_size = train_x.shape[2]\n",
    "    output_size = target_len\n",
    "    for i in range(6):\n",
    "        config = random.choice(configs)\n",
    "        configs.remove(config)\n",
    "        batch_size = config['batch_size']\n",
    "        lr = config['lr']\n",
    "        number_epoch = config['number_epoch']\n",
    "        hidden_dim = config['hidden_dim']\n",
    "        n_layers = config['n_layers']\n",
    "        drop_prob = config['drop_prob']\n",
    "        weight_decay = config['weight_decay']\n",
    "        print(\n",
    "            \"model config: batch_size-{}, lr-{}, number_epoch-{}, hidden_dim-{}, n_layers-{},drop_prob-{},weight_decay-{}\"\n",
    "            .format(batch_size, lr, number_epoch, hidden_dim, n_layers,\n",
    "                    drop_prob, weight_decay))\n",
    "        valid_loss = train_model_hpo(train_x_list, train_y_list, valid_x_list,\n",
    "                                     valid_y_list, input_size, output_size,\n",
    "                                     mse_thresh, batch_size, lr, number_epoch,\n",
    "                                     hidden_dim, n_layers, drop_prob, weight_decay)\n",
    "        records.append({\n",
    "            'batch_size': batch_size,\n",
    "            'lr': lr,\n",
    "            'number_epoch': number_epoch,\n",
    "            'hidden_dim': hidden_dim,\n",
    "            'n_layers': n_layers,\n",
    "            'drop_prob': drop_prob,\n",
    "            'weight_decay': weight_decay,\n",
    "            'valid_loss': valid_loss\n",
    "        })\n",
    "    return records"
   ]
  },
  {
   "cell_type": "markdown",
   "id": "871416ee",
   "metadata": {},
   "source": [
    "## run random search"
   ]
  },
  {
   "cell_type": "code",
   "execution_count": 23,
   "id": "2234458e",
   "metadata": {
    "ExecuteTime": {
     "end_time": "2021-12-29T13:00:15.956451Z",
     "start_time": "2021-12-29T12:57:17.994528Z"
    },
    "scrolled": true
   },
   "outputs": [
    {
     "name": "stdout",
     "output_type": "stream",
     "text": [
      "supervised data: shape of x: (25232, 72, 1), shape of y: (25232, 24)\n",
      "model config: batch_size-512, lr-0.01, number_epoch-30, hidden_dim-16, n_layers-3,drop_prob-0,weight_decay-0\n",
      "cross-validation dataset 0\n"
     ]
    },
    {
     "name": "stderr",
     "output_type": "stream",
     "text": [
      "Epoch: 1/30: 100%|██████████| 42/42 [00:01<00:00, 34.96it/s, train_loss=0.0302, valid_loss=0.0352]\n",
      "Epoch: 2/30: 100%|██████████| 42/42 [00:01<00:00, 34.92it/s, train_loss=0.0311, valid_loss=0.0351]\n",
      "Epoch: 3/30: 100%|██████████| 42/42 [00:01<00:00, 35.72it/s, train_loss=0.0256, valid_loss=0.032] \n",
      "Epoch: 4/30: 100%|██████████| 42/42 [00:01<00:00, 35.27it/s, train_loss=0.0134, valid_loss=0.0216]\n",
      "Epoch: 5/30: 100%|██████████| 42/42 [00:01<00:00, 34.76it/s, train_loss=0.00252, valid_loss=0.00468]\n",
      "Epoch: 6/30: 100%|██████████| 42/42 [00:01<00:00, 34.42it/s, train_loss=0.00238, valid_loss=0.00347]\n",
      "Epoch: 7/30: 100%|██████████| 42/42 [00:01<00:00, 35.41it/s, train_loss=0.00233, valid_loss=0.00346]\n",
      "Epoch: 8/30: 100%|██████████| 42/42 [00:01<00:00, 35.13it/s, train_loss=0.00207, valid_loss=0.00337]\n",
      "Epoch: 9/30: 100%|██████████| 42/42 [00:01<00:00, 35.52it/s, train_loss=0.00201, valid_loss=0.00332]\n",
      "Epoch: 10/30: 100%|██████████| 42/42 [00:01<00:00, 33.55it/s, train_loss=0.00219, valid_loss=0.00339]\n",
      "Epoch: 11/30: 100%|██████████| 42/42 [00:01<00:00, 34.37it/s, train_loss=0.0023, valid_loss=0.00338] \n",
      "Epoch: 12/30: 100%|██████████| 42/42 [00:01<00:00, 35.79it/s, train_loss=0.00225, valid_loss=0.00331]\n",
      "Epoch: 13/30: 100%|██████████| 42/42 [00:01<00:00, 36.73it/s, train_loss=0.00233, valid_loss=0.00333]\n",
      "Epoch: 14/30: 100%|██████████| 42/42 [00:01<00:00, 35.88it/s, train_loss=0.00224, valid_loss=0.00364]\n",
      "Epoch: 15/30: 100%|██████████| 42/42 [00:01<00:00, 34.78it/s, train_loss=0.0023, valid_loss=0.00333] \n",
      "Epoch: 16/30: 100%|██████████| 42/42 [00:01<00:00, 36.08it/s, train_loss=0.00192, valid_loss=0.00345]\n",
      "Epoch: 17/30: 100%|██████████| 42/42 [00:01<00:00, 33.93it/s, train_loss=0.00209, valid_loss=0.00335]\n",
      "Epoch: 18/30: 100%|██████████| 42/42 [00:01<00:00, 35.68it/s, train_loss=0.00229, valid_loss=0.00344]\n",
      "Epoch: 19/30: 100%|██████████| 42/42 [00:01<00:00, 35.55it/s, train_loss=0.00192, valid_loss=0.00328]\n",
      "Epoch: 20/30: 100%|██████████| 42/42 [00:01<00:00, 33.38it/s, train_loss=0.00198, valid_loss=0.00327]\n",
      "Epoch: 21/30: 100%|██████████| 42/42 [00:01<00:00, 35.49it/s, train_loss=0.002, valid_loss=0.00336]  \n",
      "Epoch: 22/30: 100%|██████████| 42/42 [00:01<00:00, 34.42it/s, train_loss=0.00227, valid_loss=0.00335]\n",
      "Epoch: 23/30: 100%|██████████| 42/42 [00:01<00:00, 34.43it/s, train_loss=0.00204, valid_loss=0.00328]\n",
      "Epoch: 24/30: 100%|██████████| 42/42 [00:01<00:00, 35.14it/s, train_loss=0.0021, valid_loss=0.00327] \n",
      "Epoch: 25/30: 100%|██████████| 42/42 [00:01<00:00, 35.14it/s, train_loss=0.00241, valid_loss=0.0033] \n",
      "Epoch: 26/30: 100%|██████████| 42/42 [00:01<00:00, 35.36it/s, train_loss=0.00223, valid_loss=0.0033] \n",
      "Epoch: 27/30: 100%|██████████| 42/42 [00:01<00:00, 35.19it/s, train_loss=0.00224, valid_loss=0.00329]\n",
      "Epoch: 28/30: 100%|██████████| 42/42 [00:01<00:00, 35.86it/s, train_loss=0.00206, valid_loss=0.0033] \n",
      "Epoch: 29/30: 100%|██████████| 42/42 [00:01<00:00, 33.02it/s, train_loss=0.00193, valid_loss=0.00338]\n",
      "Epoch: 30/30: 100%|██████████| 42/42 [00:01<00:00, 35.57it/s, train_loss=0.00255, valid_loss=0.0033] \n"
     ]
    },
    {
     "name": "stdout",
     "output_type": "stream",
     "text": [
      "model config: batch_size-512, lr-0.01, number_epoch-30, hidden_dim-16, n_layers-1,drop_prob-0,weight_decay-0\n",
      "cross-validation dataset 0\n"
     ]
    },
    {
     "name": "stderr",
     "output_type": "stream",
     "text": [
      "Epoch: 1/30: 100%|██████████| 42/42 [00:00<00:00, 66.88it/s, train_loss=0.0043, valid_loss=0.00577] \n",
      "Epoch: 2/30: 100%|██████████| 42/42 [00:00<00:00, 62.70it/s, train_loss=0.00216, valid_loss=0.00357]\n",
      "Epoch: 3/30: 100%|██████████| 42/42 [00:00<00:00, 65.24it/s, train_loss=0.00227, valid_loss=0.00346]\n",
      "Epoch: 4/30: 100%|██████████| 42/42 [00:00<00:00, 70.58it/s, train_loss=0.00245, valid_loss=0.00335]\n",
      "Epoch: 5/30: 100%|██████████| 42/42 [00:00<00:00, 65.95it/s, train_loss=0.00244, valid_loss=0.00332]\n",
      "Epoch: 6/30: 100%|██████████| 42/42 [00:00<00:00, 73.60it/s, train_loss=0.00265, valid_loss=0.00338]\n",
      "Epoch: 7/30: 100%|██████████| 42/42 [00:00<00:00, 67.13it/s, train_loss=0.0022, valid_loss=0.00339] \n",
      "Epoch: 8/30: 100%|██████████| 42/42 [00:00<00:00, 73.40it/s, train_loss=0.00212, valid_loss=0.00333]\n",
      "Epoch: 9/30: 100%|██████████| 42/42 [00:00<00:00, 72.87it/s, train_loss=0.00207, valid_loss=0.00339]\n",
      "Epoch: 10/30: 100%|██████████| 42/42 [00:00<00:00, 66.77it/s, train_loss=0.0019, valid_loss=0.00341] \n",
      "Epoch: 11/30: 100%|██████████| 42/42 [00:00<00:00, 70.99it/s, train_loss=0.00221, valid_loss=0.00334]\n",
      "Epoch: 12/30: 100%|██████████| 42/42 [00:00<00:00, 72.64it/s, train_loss=0.00204, valid_loss=0.00357]\n",
      "Epoch: 13/30: 100%|██████████| 42/42 [00:00<00:00, 67.47it/s, train_loss=0.00202, valid_loss=0.00335]\n",
      "Epoch: 14/30: 100%|██████████| 42/42 [00:00<00:00, 71.29it/s, train_loss=0.00211, valid_loss=0.00338]\n",
      "Epoch: 15/30: 100%|██████████| 42/42 [00:00<00:00, 73.11it/s, train_loss=0.00205, valid_loss=0.00339]\n",
      "Epoch: 16/30: 100%|██████████| 42/42 [00:00<00:00, 73.52it/s, train_loss=0.00219, valid_loss=0.00328]\n",
      "Epoch: 17/30: 100%|██████████| 42/42 [00:00<00:00, 66.08it/s, train_loss=0.00199, valid_loss=0.00324]\n",
      "Epoch: 18/30: 100%|██████████| 42/42 [00:00<00:00, 71.22it/s, train_loss=0.00228, valid_loss=0.00333]\n",
      "Epoch: 19/30: 100%|██████████| 42/42 [00:00<00:00, 73.62it/s, train_loss=0.00224, valid_loss=0.00332]\n",
      "Epoch: 20/30: 100%|██████████| 42/42 [00:00<00:00, 65.92it/s, train_loss=0.00198, valid_loss=0.00328]\n",
      "Epoch: 21/30: 100%|██████████| 42/42 [00:00<00:00, 73.24it/s, train_loss=0.00197, valid_loss=0.00337]\n",
      "Epoch: 22/30: 100%|██████████| 42/42 [00:00<00:00, 67.99it/s, train_loss=0.00179, valid_loss=0.00329]\n",
      "Epoch: 23/30: 100%|██████████| 42/42 [00:00<00:00, 68.79it/s, train_loss=0.00221, valid_loss=0.00325]\n",
      "Epoch: 24/30: 100%|██████████| 42/42 [00:00<00:00, 73.85it/s, train_loss=0.00204, valid_loss=0.00329]\n",
      "Epoch: 25/30: 100%|██████████| 42/42 [00:00<00:00, 68.52it/s, train_loss=0.00202, valid_loss=0.0034] \n",
      "Epoch: 26/30: 100%|██████████| 42/42 [00:00<00:00, 70.41it/s, train_loss=0.00226, valid_loss=0.00334]\n",
      "Epoch: 27/30: 100%|██████████| 42/42 [00:00<00:00, 73.95it/s, train_loss=0.00205, valid_loss=0.00332]\n",
      "Epoch: 28/30: 100%|██████████| 42/42 [00:00<00:00, 67.45it/s, train_loss=0.00199, valid_loss=0.00337]\n",
      "Epoch: 29/30: 100%|██████████| 42/42 [00:00<00:00, 73.82it/s, train_loss=0.00178, valid_loss=0.00335]\n",
      "Epoch: 30/30: 100%|██████████| 42/42 [00:00<00:00, 68.15it/s, train_loss=0.00222, valid_loss=0.00331]\n"
     ]
    },
    {
     "name": "stdout",
     "output_type": "stream",
     "text": [
      "model config: batch_size-512, lr-0.01, number_epoch-30, hidden_dim-16, n_layers-2,drop_prob-0,weight_decay-0\n",
      "cross-validation dataset 0\n"
     ]
    },
    {
     "name": "stderr",
     "output_type": "stream",
     "text": [
      "Epoch: 1/30: 100%|██████████| 42/42 [00:00<00:00, 44.62it/s, train_loss=0.0132, valid_loss=0.0228]\n",
      "Epoch: 2/30: 100%|██████████| 42/42 [00:01<00:00, 37.80it/s, train_loss=0.00207, valid_loss=0.00336]\n",
      "Epoch: 3/30: 100%|██████████| 42/42 [00:00<00:00, 42.97it/s, train_loss=0.00225, valid_loss=0.00342]\n",
      "Epoch: 4/30: 100%|██████████| 42/42 [00:00<00:00, 42.35it/s, train_loss=0.00218, valid_loss=0.00331]\n",
      "Epoch: 5/30: 100%|██████████| 42/42 [00:00<00:00, 42.50it/s, train_loss=0.00196, valid_loss=0.00329]\n",
      "Epoch: 6/30: 100%|██████████| 42/42 [00:00<00:00, 42.04it/s, train_loss=0.00214, valid_loss=0.00326]\n",
      "Epoch: 7/30: 100%|██████████| 42/42 [00:01<00:00, 37.64it/s, train_loss=0.00216, valid_loss=0.00334]\n",
      "Epoch: 8/30: 100%|██████████| 42/42 [00:01<00:00, 37.71it/s, train_loss=0.00201, valid_loss=0.00344]\n",
      "Epoch: 9/30: 100%|██████████| 42/42 [00:01<00:00, 41.80it/s, train_loss=0.00214, valid_loss=0.00334]\n",
      "Epoch: 10/30: 100%|██████████| 42/42 [00:00<00:00, 43.99it/s, train_loss=0.00216, valid_loss=0.00321]\n",
      "Epoch: 11/30: 100%|██████████| 42/42 [00:01<00:00, 40.33it/s, train_loss=0.00206, valid_loss=0.00332]\n",
      "Epoch: 12/30: 100%|██████████| 42/42 [00:00<00:00, 42.64it/s, train_loss=0.00197, valid_loss=0.00349]\n",
      "Epoch: 13/30: 100%|██████████| 42/42 [00:01<00:00, 41.24it/s, train_loss=0.00223, valid_loss=0.00331]\n",
      "Epoch: 14/30: 100%|██████████| 42/42 [00:00<00:00, 43.77it/s, train_loss=0.00194, valid_loss=0.0033] \n",
      "Epoch: 15/30: 100%|██████████| 42/42 [00:01<00:00, 40.94it/s, train_loss=0.00227, valid_loss=0.00326]\n",
      "Epoch: 16/30: 100%|██████████| 42/42 [00:00<00:00, 42.85it/s, train_loss=0.00237, valid_loss=0.00333]\n",
      "Epoch: 17/30: 100%|██████████| 42/42 [00:01<00:00, 39.97it/s, train_loss=0.00233, valid_loss=0.00328]\n",
      "Epoch: 18/30: 100%|██████████| 42/42 [00:01<00:00, 39.77it/s, train_loss=0.00209, valid_loss=0.00329]\n",
      "Epoch: 19/30: 100%|██████████| 42/42 [00:00<00:00, 44.23it/s, train_loss=0.00215, valid_loss=0.00322]\n",
      "Epoch: 20/30: 100%|██████████| 42/42 [00:00<00:00, 44.80it/s, train_loss=0.00205, valid_loss=0.0034] \n",
      "Epoch: 21/30: 100%|██████████| 42/42 [00:00<00:00, 42.87it/s, train_loss=0.00219, valid_loss=0.00334]\n",
      "Epoch: 22/30: 100%|██████████| 42/42 [00:00<00:00, 44.77it/s, train_loss=0.00186, valid_loss=0.0033] \n",
      "Epoch: 23/30: 100%|██████████| 42/42 [00:00<00:00, 45.28it/s, train_loss=0.00215, valid_loss=0.00342]\n",
      "Epoch: 24/30: 100%|██████████| 42/42 [00:00<00:00, 42.46it/s, train_loss=0.00213, valid_loss=0.00336]\n",
      "Epoch: 25/30: 100%|██████████| 42/42 [00:00<00:00, 44.76it/s, train_loss=0.00203, valid_loss=0.00333]\n",
      "Epoch: 26/30: 100%|██████████| 42/42 [00:00<00:00, 44.52it/s, train_loss=0.002, valid_loss=0.00342]  \n",
      "Epoch: 27/30: 100%|██████████| 42/42 [00:00<00:00, 42.87it/s, train_loss=0.002, valid_loss=0.00333]  \n",
      "Epoch: 28/30: 100%|██████████| 42/42 [00:00<00:00, 44.19it/s, train_loss=0.00179, valid_loss=0.00323]\n",
      "Epoch: 29/30: 100%|██████████| 42/42 [00:00<00:00, 45.29it/s, train_loss=0.00192, valid_loss=0.00323]\n",
      "Epoch: 30/30: 100%|██████████| 42/42 [00:00<00:00, 43.42it/s, train_loss=0.00232, valid_loss=0.00334]\n"
     ]
    },
    {
     "name": "stdout",
     "output_type": "stream",
     "text": [
      "model config: batch_size-512, lr-0.01, number_epoch-30, hidden_dim-32, n_layers-1,drop_prob-0,weight_decay-0\n",
      "cross-validation dataset 0\n"
     ]
    },
    {
     "name": "stderr",
     "output_type": "stream",
     "text": [
      "Epoch: 1/30: 100%|██████████| 42/42 [00:00<00:00, 63.79it/s, train_loss=0.028, valid_loss=0.0309] \n",
      "Epoch: 2/30: 100%|██████████| 42/42 [00:00<00:00, 62.81it/s, train_loss=0.00803, valid_loss=0.0159]\n",
      "Epoch: 3/30: 100%|██████████| 42/42 [00:00<00:00, 60.73it/s, train_loss=0.00247, valid_loss=0.00375]\n",
      "Epoch: 4/30: 100%|██████████| 42/42 [00:00<00:00, 64.47it/s, train_loss=0.0025, valid_loss=0.00353] \n",
      "Epoch: 5/30: 100%|██████████| 42/42 [00:00<00:00, 65.11it/s, train_loss=0.00206, valid_loss=0.00341]\n",
      "Epoch: 6/30: 100%|██████████| 42/42 [00:00<00:00, 61.09it/s, train_loss=0.00196, valid_loss=0.00351]\n",
      "Epoch: 7/30: 100%|██████████| 42/42 [00:00<00:00, 64.98it/s, train_loss=0.00214, valid_loss=0.00345]\n",
      "Epoch: 8/30: 100%|██████████| 42/42 [00:00<00:00, 61.86it/s, train_loss=0.00235, valid_loss=0.00334]\n",
      "Epoch: 9/30: 100%|██████████| 42/42 [00:00<00:00, 60.96it/s, train_loss=0.00213, valid_loss=0.00328]\n",
      "Epoch: 10/30: 100%|██████████| 42/42 [00:00<00:00, 63.63it/s, train_loss=0.00205, valid_loss=0.00335]\n",
      "Epoch: 11/30: 100%|██████████| 42/42 [00:00<00:00, 65.44it/s, train_loss=0.00206, valid_loss=0.00344]\n",
      "Epoch: 12/30: 100%|██████████| 42/42 [00:00<00:00, 64.94it/s, train_loss=0.00199, valid_loss=0.00338]\n",
      "Epoch: 13/30: 100%|██████████| 42/42 [00:00<00:00, 61.72it/s, train_loss=0.00216, valid_loss=0.00327]\n",
      "Epoch: 14/30: 100%|██████████| 42/42 [00:00<00:00, 65.69it/s, train_loss=0.0021, valid_loss=0.00328] \n",
      "Epoch: 15/30: 100%|██████████| 42/42 [00:00<00:00, 63.57it/s, train_loss=0.00216, valid_loss=0.00327]\n",
      "Epoch: 16/30: 100%|██████████| 42/42 [00:00<00:00, 61.76it/s, train_loss=0.00213, valid_loss=0.00337]\n",
      "Epoch: 17/30: 100%|██████████| 42/42 [00:00<00:00, 63.93it/s, train_loss=0.00206, valid_loss=0.00329]\n",
      "Epoch: 18/30: 100%|██████████| 42/42 [00:00<00:00, 60.88it/s, train_loss=0.00214, valid_loss=0.00332]\n",
      "Epoch: 19/30: 100%|██████████| 42/42 [00:00<00:00, 65.17it/s, train_loss=0.00209, valid_loss=0.00326]\n",
      "Epoch: 20/30: 100%|██████████| 42/42 [00:00<00:00, 61.32it/s, train_loss=0.00213, valid_loss=0.00328]\n",
      "Epoch: 21/30: 100%|██████████| 42/42 [00:00<00:00, 64.81it/s, train_loss=0.00203, valid_loss=0.00328]\n",
      "Epoch: 22/30: 100%|██████████| 42/42 [00:00<00:00, 60.16it/s, train_loss=0.00224, valid_loss=0.00333]\n",
      "Epoch: 23/30: 100%|██████████| 42/42 [00:00<00:00, 61.64it/s, train_loss=0.0019, valid_loss=0.00319] \n",
      "Epoch: 24/30: 100%|██████████| 42/42 [00:00<00:00, 63.88it/s, train_loss=0.00211, valid_loss=0.00328]\n",
      "Epoch: 25/30: 100%|██████████| 42/42 [00:00<00:00, 61.13it/s, train_loss=0.00209, valid_loss=0.00325]\n",
      "Epoch: 26/30: 100%|██████████| 42/42 [00:00<00:00, 63.02it/s, train_loss=0.00199, valid_loss=0.00332]\n",
      "Epoch: 27/30: 100%|██████████| 42/42 [00:00<00:00, 59.38it/s, train_loss=0.00219, valid_loss=0.00324]\n",
      "Epoch: 28/30: 100%|██████████| 42/42 [00:00<00:00, 64.69it/s, train_loss=0.00227, valid_loss=0.00343]\n",
      "Epoch: 29/30: 100%|██████████| 42/42 [00:00<00:00, 61.67it/s, train_loss=0.00212, valid_loss=0.00327]\n",
      "Epoch: 30/30: 100%|██████████| 42/42 [00:00<00:00, 60.81it/s, train_loss=0.00204, valid_loss=0.00324]\n"
     ]
    },
    {
     "name": "stdout",
     "output_type": "stream",
     "text": [
      "model config: batch_size-512, lr-0.01, number_epoch-30, hidden_dim-32, n_layers-3,drop_prob-0,weight_decay-0\n",
      "cross-validation dataset 0\n"
     ]
    },
    {
     "name": "stderr",
     "output_type": "stream",
     "text": [
      "Epoch: 1/30: 100%|██████████| 42/42 [00:01<00:00, 31.47it/s, train_loss=0.0303, valid_loss=0.0351]\n",
      "Epoch: 2/30: 100%|██████████| 42/42 [00:01<00:00, 30.06it/s, train_loss=0.0323, valid_loss=0.0352]\n",
      "Epoch: 3/30: 100%|██████████| 42/42 [00:01<00:00, 30.54it/s, train_loss=0.0292, valid_loss=0.0358]\n",
      "Epoch: 4/30: 100%|██████████| 42/42 [00:01<00:00, 31.65it/s, train_loss=0.031, valid_loss=0.0355] \n",
      "Epoch: 5/30: 100%|██████████| 42/42 [00:01<00:00, 29.98it/s, train_loss=0.0317, valid_loss=0.0347]\n",
      "Epoch: 6/30: 100%|██████████| 42/42 [00:01<00:00, 31.25it/s, train_loss=0.0307, valid_loss=0.0355]\n",
      "Epoch: 7/30: 100%|██████████| 42/42 [00:01<00:00, 30.15it/s, train_loss=0.0182, valid_loss=0.0211]\n",
      "Epoch: 8/30: 100%|██████████| 42/42 [00:01<00:00, 30.85it/s, train_loss=0.00267, valid_loss=0.00419]\n",
      "Epoch: 9/30: 100%|██████████| 42/42 [00:01<00:00, 31.87it/s, train_loss=0.00192, valid_loss=0.00343]\n",
      "Epoch: 10/30: 100%|██████████| 42/42 [00:01<00:00, 30.02it/s, train_loss=0.00229, valid_loss=0.00334]\n",
      "Epoch: 11/30: 100%|██████████| 42/42 [00:01<00:00, 30.58it/s, train_loss=0.00218, valid_loss=0.00335]\n",
      "Epoch: 12/30: 100%|██████████| 42/42 [00:01<00:00, 30.28it/s, train_loss=0.00214, valid_loss=0.00323]\n",
      "Epoch: 13/30: 100%|██████████| 42/42 [00:01<00:00, 31.04it/s, train_loss=0.00211, valid_loss=0.00325]\n",
      "Epoch: 14/30: 100%|██████████| 42/42 [00:01<00:00, 29.89it/s, train_loss=0.00233, valid_loss=0.00336]\n",
      "Epoch: 15/30: 100%|██████████| 42/42 [00:01<00:00, 31.10it/s, train_loss=0.00207, valid_loss=0.00335]\n",
      "Epoch: 16/30: 100%|██████████| 42/42 [00:01<00:00, 30.83it/s, train_loss=0.00197, valid_loss=0.00326]\n",
      "Epoch: 17/30: 100%|██████████| 42/42 [00:01<00:00, 30.84it/s, train_loss=0.00211, valid_loss=0.00333]\n",
      "Epoch: 18/30: 100%|██████████| 42/42 [00:01<00:00, 30.09it/s, train_loss=0.00215, valid_loss=0.00338]\n",
      "Epoch: 19/30: 100%|██████████| 42/42 [00:01<00:00, 31.03it/s, train_loss=0.0022, valid_loss=0.00325] \n",
      "Epoch: 20/30: 100%|██████████| 42/42 [00:01<00:00, 29.93it/s, train_loss=0.00198, valid_loss=0.00327]\n",
      "Epoch: 21/30: 100%|██████████| 42/42 [00:01<00:00, 31.55it/s, train_loss=0.00235, valid_loss=0.0034] \n",
      "Epoch: 22/30: 100%|██████████| 42/42 [00:01<00:00, 30.73it/s, train_loss=0.0023, valid_loss=0.00331] \n",
      "Epoch: 23/30: 100%|██████████| 42/42 [00:01<00:00, 30.14it/s, train_loss=0.00178, valid_loss=0.00325]\n",
      "Epoch: 24/30: 100%|██████████| 42/42 [00:01<00:00, 30.86it/s, train_loss=0.00207, valid_loss=0.00331]\n",
      "Epoch: 25/30: 100%|██████████| 42/42 [00:01<00:00, 30.81it/s, train_loss=0.00236, valid_loss=0.00326]\n",
      "Epoch: 26/30: 100%|██████████| 42/42 [00:01<00:00, 30.37it/s, train_loss=0.00188, valid_loss=0.00334]\n",
      "Epoch: 27/30: 100%|██████████| 42/42 [00:01<00:00, 30.72it/s, train_loss=0.0025, valid_loss=0.00327] \n",
      "Epoch: 28/30: 100%|██████████| 42/42 [00:01<00:00, 29.52it/s, train_loss=0.00214, valid_loss=0.00328]\n",
      "Epoch: 29/30: 100%|██████████| 42/42 [00:01<00:00, 30.61it/s, train_loss=0.00202, valid_loss=0.0033] \n",
      "Epoch: 30/30: 100%|██████████| 42/42 [00:01<00:00, 30.86it/s, train_loss=0.00212, valid_loss=0.00344]\n"
     ]
    },
    {
     "name": "stdout",
     "output_type": "stream",
     "text": [
      "model config: batch_size-512, lr-0.01, number_epoch-30, hidden_dim-32, n_layers-2,drop_prob-0,weight_decay-0\n",
      "cross-validation dataset 0\n"
     ]
    },
    {
     "name": "stderr",
     "output_type": "stream",
     "text": [
      "Epoch: 1/30: 100%|██████████| 42/42 [00:01<00:00, 38.90it/s, train_loss=0.0289, valid_loss=0.0333]\n",
      "Epoch: 2/30: 100%|██████████| 42/42 [00:01<00:00, 40.19it/s, train_loss=0.0128, valid_loss=0.0217]\n",
      "Epoch: 3/30: 100%|██████████| 42/42 [00:01<00:00, 38.19it/s, train_loss=0.00309, valid_loss=0.00379]\n",
      "Epoch: 4/30: 100%|██████████| 42/42 [00:01<00:00, 37.38it/s, train_loss=0.00223, valid_loss=0.00341]\n",
      "Epoch: 5/30: 100%|██████████| 42/42 [00:01<00:00, 39.26it/s, train_loss=0.00221, valid_loss=0.00337]\n",
      "Epoch: 6/30: 100%|██████████| 42/42 [00:01<00:00, 38.59it/s, train_loss=0.00184, valid_loss=0.00328]\n",
      "Epoch: 7/30: 100%|██████████| 42/42 [00:01<00:00, 38.44it/s, train_loss=0.00207, valid_loss=0.00334]\n",
      "Epoch: 8/30: 100%|██████████| 42/42 [00:01<00:00, 39.58it/s, train_loss=0.00211, valid_loss=0.00331]\n",
      "Epoch: 9/30: 100%|██████████| 42/42 [00:01<00:00, 38.08it/s, train_loss=0.002, valid_loss=0.00323]  \n",
      "Epoch: 10/30: 100%|██████████| 42/42 [00:01<00:00, 40.01it/s, train_loss=0.00208, valid_loss=0.0034] \n",
      "Epoch: 11/30: 100%|██████████| 42/42 [00:01<00:00, 40.51it/s, train_loss=0.00214, valid_loss=0.00327]\n",
      "Epoch: 12/30: 100%|██████████| 42/42 [00:01<00:00, 37.77it/s, train_loss=0.00223, valid_loss=0.00335]\n",
      "Epoch: 13/30: 100%|██████████| 42/42 [00:01<00:00, 39.10it/s, train_loss=0.00212, valid_loss=0.0032] \n",
      "Epoch: 14/30: 100%|██████████| 42/42 [00:01<00:00, 37.88it/s, train_loss=0.00187, valid_loss=0.00339]\n",
      "Epoch: 15/30: 100%|██████████| 42/42 [00:01<00:00, 39.65it/s, train_loss=0.0022, valid_loss=0.00332] \n",
      "Epoch: 16/30: 100%|██████████| 42/42 [00:01<00:00, 37.75it/s, train_loss=0.00216, valid_loss=0.00334]\n",
      "Epoch: 17/30: 100%|██████████| 42/42 [00:01<00:00, 39.97it/s, train_loss=0.00224, valid_loss=0.00327]\n",
      "Epoch: 18/30: 100%|██████████| 42/42 [00:01<00:00, 39.06it/s, train_loss=0.00284, valid_loss=0.00335]\n",
      "Epoch: 19/30: 100%|██████████| 42/42 [00:01<00:00, 39.97it/s, train_loss=0.00226, valid_loss=0.00328]\n",
      "Epoch: 20/30: 100%|██████████| 42/42 [00:01<00:00, 40.03it/s, train_loss=0.00205, valid_loss=0.00324]\n",
      "Epoch: 21/30: 100%|██████████| 42/42 [00:01<00:00, 38.90it/s, train_loss=0.00193, valid_loss=0.00329]\n",
      "Epoch: 22/30: 100%|██████████| 42/42 [00:01<00:00, 39.79it/s, train_loss=0.00209, valid_loss=0.00327]\n",
      "Epoch: 23/30: 100%|██████████| 42/42 [00:01<00:00, 38.48it/s, train_loss=0.00195, valid_loss=0.00329]\n",
      "Epoch: 24/30: 100%|██████████| 42/42 [00:01<00:00, 40.35it/s, train_loss=0.00193, valid_loss=0.00325]\n",
      "Epoch: 25/30: 100%|██████████| 42/42 [00:01<00:00, 39.36it/s, train_loss=0.00235, valid_loss=0.00333]\n",
      "Epoch: 26/30: 100%|██████████| 42/42 [00:01<00:00, 39.48it/s, train_loss=0.00206, valid_loss=0.00325]\n",
      "Epoch: 27/30: 100%|██████████| 42/42 [00:01<00:00, 37.78it/s, train_loss=0.00227, valid_loss=0.00328]\n",
      "Epoch: 28/30: 100%|██████████| 42/42 [00:01<00:00, 37.85it/s, train_loss=0.00234, valid_loss=0.00325]\n",
      "Epoch: 29/30: 100%|██████████| 42/42 [00:01<00:00, 40.03it/s, train_loss=0.00212, valid_loss=0.00326]\n",
      "Epoch: 30/30: 100%|██████████| 42/42 [00:01<00:00, 38.66it/s, train_loss=0.00216, valid_loss=0.00334]\n"
     ]
    }
   ],
   "source": [
    "torch.random.manual_seed(0)\n",
    "torch.cuda.random.manual_seed(0)\n",
    "records = run_model_hpo()"
   ]
  },
  {
   "cell_type": "markdown",
   "id": "4315ea0b",
   "metadata": {
    "ExecuteTime": {
     "end_time": "2021-12-22T08:52:06.844501Z",
     "start_time": "2021-12-22T08:52:06.830928Z"
    }
   },
   "source": [
    "## find the best hyper-parameters"
   ]
  },
  {
   "cell_type": "code",
   "execution_count": 24,
   "id": "b01e7bf3",
   "metadata": {
    "ExecuteTime": {
     "end_time": "2021-12-29T13:01:39.185865Z",
     "start_time": "2021-12-29T13:01:39.161741Z"
    }
   },
   "outputs": [
    {
     "data": {
      "text/html": [
       "<div>\n",
       "<style scoped>\n",
       "    .dataframe tbody tr th:only-of-type {\n",
       "        vertical-align: middle;\n",
       "    }\n",
       "\n",
       "    .dataframe tbody tr th {\n",
       "        vertical-align: top;\n",
       "    }\n",
       "\n",
       "    .dataframe thead th {\n",
       "        text-align: right;\n",
       "    }\n",
       "</style>\n",
       "<table border=\"1\" class=\"dataframe\">\n",
       "  <thead>\n",
       "    <tr style=\"text-align: right;\">\n",
       "      <th></th>\n",
       "      <th>batch_size</th>\n",
       "      <th>lr</th>\n",
       "      <th>number_epoch</th>\n",
       "      <th>hidden_dim</th>\n",
       "      <th>n_layers</th>\n",
       "      <th>drop_prob</th>\n",
       "      <th>weight_decay</th>\n",
       "      <th>valid_loss</th>\n",
       "    </tr>\n",
       "  </thead>\n",
       "  <tbody>\n",
       "    <tr>\n",
       "      <th>4</th>\n",
       "      <td>512</td>\n",
       "      <td>0.01</td>\n",
       "      <td>30</td>\n",
       "      <td>32</td>\n",
       "      <td>3</td>\n",
       "      <td>0</td>\n",
       "      <td>0</td>\n",
       "      <td>0.003172</td>\n",
       "    </tr>\n",
       "    <tr>\n",
       "      <th>2</th>\n",
       "      <td>512</td>\n",
       "      <td>0.01</td>\n",
       "      <td>30</td>\n",
       "      <td>16</td>\n",
       "      <td>2</td>\n",
       "      <td>0</td>\n",
       "      <td>0</td>\n",
       "      <td>0.003172</td>\n",
       "    </tr>\n",
       "    <tr>\n",
       "      <th>5</th>\n",
       "      <td>512</td>\n",
       "      <td>0.01</td>\n",
       "      <td>30</td>\n",
       "      <td>32</td>\n",
       "      <td>2</td>\n",
       "      <td>0</td>\n",
       "      <td>0</td>\n",
       "      <td>0.003189</td>\n",
       "    </tr>\n",
       "    <tr>\n",
       "      <th>3</th>\n",
       "      <td>512</td>\n",
       "      <td>0.01</td>\n",
       "      <td>30</td>\n",
       "      <td>32</td>\n",
       "      <td>1</td>\n",
       "      <td>0</td>\n",
       "      <td>0</td>\n",
       "      <td>0.003190</td>\n",
       "    </tr>\n",
       "    <tr>\n",
       "      <th>0</th>\n",
       "      <td>512</td>\n",
       "      <td>0.01</td>\n",
       "      <td>30</td>\n",
       "      <td>16</td>\n",
       "      <td>3</td>\n",
       "      <td>0</td>\n",
       "      <td>0</td>\n",
       "      <td>0.003198</td>\n",
       "    </tr>\n",
       "    <tr>\n",
       "      <th>1</th>\n",
       "      <td>512</td>\n",
       "      <td>0.01</td>\n",
       "      <td>30</td>\n",
       "      <td>16</td>\n",
       "      <td>1</td>\n",
       "      <td>0</td>\n",
       "      <td>0</td>\n",
       "      <td>0.003235</td>\n",
       "    </tr>\n",
       "  </tbody>\n",
       "</table>\n",
       "</div>"
      ],
      "text/plain": [
       "   batch_size    lr  number_epoch  hidden_dim  n_layers  drop_prob  \\\n",
       "4         512  0.01            30          32         3          0   \n",
       "2         512  0.01            30          16         2          0   \n",
       "5         512  0.01            30          32         2          0   \n",
       "3         512  0.01            30          32         1          0   \n",
       "0         512  0.01            30          16         3          0   \n",
       "1         512  0.01            30          16         1          0   \n",
       "\n",
       "   weight_decay  valid_loss  \n",
       "4             0    0.003172  \n",
       "2             0    0.003172  \n",
       "5             0    0.003189  \n",
       "3             0    0.003190  \n",
       "0             0    0.003198  \n",
       "1             0    0.003235  "
      ]
     },
     "execution_count": 24,
     "metadata": {},
     "output_type": "execute_result"
    }
   ],
   "source": [
    "records = pd.DataFrame(records).sort_values(by='valid_loss')\n",
    "records.to_csv('./records/LSTM_records_without_features.csv', mode='a', index=False, header=False)\n",
    "records"
   ]
  },
  {
   "cell_type": "markdown",
   "id": "244519a9",
   "metadata": {},
   "source": [
    "## retrain a model"
   ]
  },
  {
   "cell_type": "code",
   "execution_count": 15,
   "id": "51a014e2",
   "metadata": {
    "ExecuteTime": {
     "end_time": "2021-12-29T12:44:56.564138Z",
     "start_time": "2021-12-29T12:44:56.544535Z"
    }
   },
   "outputs": [],
   "source": [
    "def train_model(train_x, train_y, valid_x, valid_y, input_size, output_size,\n",
    "                mse_thresh, batch_size, lr, number_epoch, hidden_dim, n_layers,\n",
    "                drop_prob, weight_decay):\n",
    "    while (1):\n",
    "        model = LSTM(input_size, output_size, hidden_dim, n_layers,\n",
    "                       drop_prob)\n",
    "        model.to(device=device)\n",
    "        criterion = nn.MSELoss()\n",
    "        optimizer = torch.optim.Adam(model.parameters(), lr=lr, weight_decay=weight_decay)\n",
    "        scheduler = torch.optim.lr_scheduler.StepLR(optimizer, 1, gamma=0.98)\n",
    "        valid_loss_min = np.Inf\n",
    "        train_dataset = TensorDataset(torch.FloatTensor(train_x),\n",
    "                                      torch.FloatTensor(train_y))\n",
    "        valid_dataset = TensorDataset(torch.FloatTensor(valid_x),\n",
    "                                      torch.FloatTensor(valid_y))\n",
    "        train_loader = DataLoader(dataset=train_dataset,\n",
    "                                  batch_size=batch_size,\n",
    "                                  shuffle=True,\n",
    "                                  drop_last=False)\n",
    "        valid_loader = DataLoader(dataset=valid_dataset,\n",
    "                                  batch_size=batch_size,\n",
    "                                  shuffle=True,\n",
    "                                  drop_last=False)\n",
    "        num_without_imp = 0\n",
    "        train_loss_list = []\n",
    "        valid_loss_list = []\n",
    "        # training process\n",
    "        for epoch in range(1, number_epoch + 1):\n",
    "            loop = tqdm(enumerate(train_loader),\n",
    "                        total=len(train_loader),\n",
    "                        leave=True)\n",
    "            for i, (inputs, labels) in loop:\n",
    "                inputs = inputs.to(device=device)\n",
    "                labels = labels.to(device=device)\n",
    "                optimizer.zero_grad()\n",
    "                outputs = model(inputs)\n",
    "                loss = criterion(outputs, labels)\n",
    "                loss.backward()\n",
    "                optimizer.step()\n",
    "                if i % 5 == 0:\n",
    "                    num_without_imp = num_without_imp + 1\n",
    "                    valid_losses = list()\n",
    "                    model.eval()\n",
    "                    for inp, lab in valid_loader:\n",
    "                        inp = inp.to(device)\n",
    "                        lab = lab.to(device)\n",
    "                        out = model(inp)\n",
    "                        valid_loss = criterion(out, lab)\n",
    "                        valid_losses.append(valid_loss.item())\n",
    "\n",
    "                    model.train()\n",
    "                    loop.set_description(\"Epoch: {}/{}\".format(\n",
    "                        epoch, number_epoch))\n",
    "                    loop.set_postfix(train_loss=loss.item(),\n",
    "                                     valid_loss=np.mean(valid_losses))\n",
    "                    \n",
    "                    train_loss_list.append(loss.item())\n",
    "                    valid_loss_list.append(np.mean(valid_losses))\n",
    "                    if np.mean(valid_losses) < valid_loss_min:\n",
    "                        num_without_imp = 0\n",
    "                        torch.save(model.state_dict(),\n",
    "                                   './model/LSTM_without_features_state_dict.pt')\n",
    "                        valid_loss_min = np.mean(valid_losses)\n",
    "            scheduler.step()\n",
    "        if valid_loss_min < mse_thresh:\n",
    "            break\n",
    "    return model, train_loss_list, valid_loss_list"
   ]
  },
  {
   "cell_type": "markdown",
   "id": "5b060d77",
   "metadata": {},
   "source": [
    "## test results"
   ]
  },
  {
   "cell_type": "code",
   "execution_count": 16,
   "id": "de6b0834",
   "metadata": {
    "ExecuteTime": {
     "end_time": "2021-12-29T12:44:58.154686Z",
     "start_time": "2021-12-29T12:44:58.141861Z"
    }
   },
   "outputs": [],
   "source": [
    "def test_model(model, test_x, test_y, scaler_y, batch_size):\n",
    "    test_dataset = TensorDataset(torch.FloatTensor(test_x),\n",
    "                                 torch.FloatTensor(test_y))\n",
    "    test_loader = DataLoader(dataset=test_dataset,\n",
    "                             batch_size=batch_size,\n",
    "                             shuffle=False,\n",
    "                             drop_last=False)\n",
    "    model.load_state_dict(torch.load('./model/LSTM_without_features_state_dict.pt'))\n",
    "    y_pred = []\n",
    "    y_true = []\n",
    "    with torch.no_grad():\n",
    "        for inputs, label in test_loader:\n",
    "            inputs = inputs.to(device)\n",
    "            label = label.to(device)\n",
    "            outputs = model(inputs)\n",
    "            y_pred += outputs.cpu().numpy().flatten().tolist()\n",
    "            y_true += label.cpu().numpy().flatten().tolist()\n",
    "    y_pred = np.array(y_pred).reshape(-1, 1)\n",
    "    y_true = np.array(y_true).reshape(-1, 1)\n",
    "#     pdb.set_trace()\n",
    "    load_pred = scaler_y.inverse_transform(y_pred)\n",
    "    load_true = scaler_y.inverse_transform(y_true)\n",
    "    MAPE = np.mean(np.abs(load_true - load_pred) / load_true)\n",
    "    MAE = np.mean(np.abs(load_true - load_pred))\n",
    "    RMSE = np.sqrt(np.mean(np.square(load_true - load_pred)))\n",
    "    return MAPE, MAE, RMSE, load_pred, load_true"
   ]
  },
  {
   "cell_type": "markdown",
   "id": "65fac6ca",
   "metadata": {},
   "source": [
    "## run model retraining"
   ]
  },
  {
   "cell_type": "code",
   "execution_count": 17,
   "id": "09bd6183",
   "metadata": {
    "ExecuteTime": {
     "end_time": "2021-12-29T12:45:02.436574Z",
     "start_time": "2021-12-29T12:45:02.422273Z"
    }
   },
   "outputs": [],
   "source": [
    "def run_model_retraining(seq_len=seq_len,\n",
    "                         target_len=target_len,\n",
    "                         mse_thresh=mse_thresh):\n",
    "    train_data = data[:int(0.8 * len(data))]\n",
    "    #     train_data = data[:-800]\n",
    "    train_data, scaler, scaler_y = normalization(train_data)\n",
    "    train_x, train_y = series_to_supervise(train_data, seq_len, target_len)\n",
    "\n",
    "    valid_x = train_x[int(0.8 * len(train_x)):]\n",
    "    valid_y = train_y[int(0.8 * len(train_y)):]\n",
    "    train_x = train_x[:int(0.8 * len(train_x))]\n",
    "    train_y = train_y[:int(0.8 * len(train_y))]\n",
    "    input_size = train_x.shape[2]\n",
    "    output_size = target_len\n",
    "\n",
    "    #     hyper-parameters define\n",
    "    batch_size = 512\n",
    "    lr = 0.01\n",
    "    number_epoch = 80\n",
    "    hidden_dim = 32\n",
    "    n_layers = 4\n",
    "    drop_prob = 0\n",
    "    weight_decay = 0\n",
    "    mse_thresh = 0.01\n",
    "\n",
    "    model, train_loss_list, valid_loss_list = train_model(\n",
    "        train_x, train_y, valid_x, valid_y, input_size, output_size,\n",
    "        mse_thresh, batch_size, lr, number_epoch, hidden_dim, n_layers,\n",
    "        drop_prob, weight_decay)\n",
    "    \n",
    "    # plot training process\n",
    "    plt.plot(train_loss_list[10:], 'm', label='train_loss')\n",
    "    plt.plot(valid_loss_list[10:], 'g', label='valid_loss')\n",
    "    plt.grid('both')\n",
    "    plt.legend()\n",
    "    \n",
    "    # test\n",
    "    test_data = data[int(0.8 * len(data)):]\n",
    "    #     test_data = data[-800:]\n",
    "    test_data = scaler.transform(test_data)\n",
    "    test_x, test_y = series_to_supervise(test_data, seq_len, target_len)\n",
    "    MAPE, MAE, RMSE, load_pred, load_true = test_model(model, test_x, test_y,\n",
    "                                                       scaler_y, batch_size)\n",
    "    return MAPE, MAE, RMSE, load_pred, load_true"
   ]
  },
  {
   "cell_type": "code",
   "execution_count": 29,
   "id": "b912cd40",
   "metadata": {
    "ExecuteTime": {
     "end_time": "2021-12-29T13:06:03.737468Z",
     "start_time": "2021-12-29T13:03:58.234855Z"
    }
   },
   "outputs": [
    {
     "name": "stdout",
     "output_type": "stream",
     "text": [
      "supervised data: shape of x: (25232, 72, 1), shape of y: (25232, 24)\n"
     ]
    },
    {
     "name": "stderr",
     "output_type": "stream",
     "text": [
      "Epoch: 1/80: 100%|██████████| 40/40 [00:01<00:00, 26.67it/s, train_loss=0.0298, valid_loss=0.0354]\n",
      "Epoch: 2/80: 100%|██████████| 40/40 [00:01<00:00, 28.91it/s, train_loss=0.0313, valid_loss=0.0341]\n",
      "Epoch: 3/80: 100%|██████████| 40/40 [00:01<00:00, 25.31it/s, train_loss=0.0304, valid_loss=0.0338]\n",
      "Epoch: 4/80: 100%|██████████| 40/40 [00:01<00:00, 24.96it/s, train_loss=0.0134, valid_loss=0.0216]\n",
      "Epoch: 5/80: 100%|██████████| 40/40 [00:01<00:00, 25.98it/s, train_loss=0.00311, valid_loss=0.00436]\n",
      "Epoch: 6/80: 100%|██████████| 40/40 [00:01<00:00, 25.41it/s, train_loss=0.00254, valid_loss=0.00327]\n",
      "Epoch: 7/80: 100%|██████████| 40/40 [00:01<00:00, 25.05it/s, train_loss=0.00215, valid_loss=0.00312]\n",
      "Epoch: 8/80: 100%|██████████| 40/40 [00:01<00:00, 25.18it/s, train_loss=0.00219, valid_loss=0.00304]\n",
      "Epoch: 9/80: 100%|██████████| 40/40 [00:01<00:00, 26.09it/s, train_loss=0.00207, valid_loss=0.00305]\n",
      "Epoch: 10/80: 100%|██████████| 40/40 [00:01<00:00, 26.70it/s, train_loss=0.00203, valid_loss=0.003]  \n",
      "Epoch: 11/80: 100%|██████████| 40/40 [00:01<00:00, 26.34it/s, train_loss=0.00273, valid_loss=0.00309]\n",
      "Epoch: 12/80: 100%|██████████| 40/40 [00:01<00:00, 24.87it/s, train_loss=0.00209, valid_loss=0.003]  \n",
      "Epoch: 13/80: 100%|██████████| 40/40 [00:01<00:00, 24.47it/s, train_loss=0.00198, valid_loss=0.00299]\n",
      "Epoch: 14/80: 100%|██████████| 40/40 [00:01<00:00, 24.87it/s, train_loss=0.0021, valid_loss=0.00304] \n",
      "Epoch: 15/80: 100%|██████████| 40/40 [00:01<00:00, 24.88it/s, train_loss=0.00195, valid_loss=0.00302]\n",
      "Epoch: 16/80: 100%|██████████| 40/40 [00:01<00:00, 25.69it/s, train_loss=0.00215, valid_loss=0.00299]\n",
      "Epoch: 17/80: 100%|██████████| 40/40 [00:01<00:00, 29.01it/s, train_loss=0.00206, valid_loss=0.00303]\n",
      "Epoch: 18/80: 100%|██████████| 40/40 [00:01<00:00, 24.24it/s, train_loss=0.00216, valid_loss=0.003]  \n",
      "Epoch: 19/80: 100%|██████████| 40/40 [00:01<00:00, 25.34it/s, train_loss=0.00202, valid_loss=0.00304]\n",
      "Epoch: 20/80: 100%|██████████| 40/40 [00:01<00:00, 24.86it/s, train_loss=0.00211, valid_loss=0.00301]\n",
      "Epoch: 21/80: 100%|██████████| 40/40 [00:01<00:00, 25.50it/s, train_loss=0.00187, valid_loss=0.00302]\n",
      "Epoch: 22/80: 100%|██████████| 40/40 [00:01<00:00, 26.91it/s, train_loss=0.00216, valid_loss=0.00319]\n",
      "Epoch: 23/80: 100%|██████████| 40/40 [00:01<00:00, 25.13it/s, train_loss=0.00205, valid_loss=0.00296]\n",
      "Epoch: 24/80: 100%|██████████| 40/40 [00:01<00:00, 25.06it/s, train_loss=0.00197, valid_loss=0.00302]\n",
      "Epoch: 25/80: 100%|██████████| 40/40 [00:01<00:00, 25.40it/s, train_loss=0.00228, valid_loss=0.003]  \n",
      "Epoch: 26/80: 100%|██████████| 40/40 [00:01<00:00, 24.73it/s, train_loss=0.0021, valid_loss=0.00297] \n",
      "Epoch: 27/80: 100%|██████████| 40/40 [00:01<00:00, 25.59it/s, train_loss=0.00201, valid_loss=0.00297]\n",
      "Epoch: 28/80: 100%|██████████| 40/40 [00:01<00:00, 25.19it/s, train_loss=0.00212, valid_loss=0.00295]\n",
      "Epoch: 29/80: 100%|██████████| 40/40 [00:01<00:00, 25.09it/s, train_loss=0.00223, valid_loss=0.00297]\n",
      "Epoch: 30/80: 100%|██████████| 40/40 [00:01<00:00, 24.76it/s, train_loss=0.00197, valid_loss=0.00304]\n",
      "Epoch: 31/80: 100%|██████████| 40/40 [00:01<00:00, 27.13it/s, train_loss=0.00208, valid_loss=0.00299]\n",
      "Epoch: 32/80: 100%|██████████| 40/40 [00:01<00:00, 25.19it/s, train_loss=0.00211, valid_loss=0.00302]\n",
      "Epoch: 33/80: 100%|██████████| 40/40 [00:01<00:00, 24.47it/s, train_loss=0.00193, valid_loss=0.00295]\n",
      "Epoch: 34/80: 100%|██████████| 40/40 [00:01<00:00, 26.31it/s, train_loss=0.00217, valid_loss=0.00307]\n",
      "Epoch: 35/80: 100%|██████████| 40/40 [00:01<00:00, 24.58it/s, train_loss=0.00228, valid_loss=0.00295]\n",
      "Epoch: 36/80: 100%|██████████| 40/40 [00:01<00:00, 26.47it/s, train_loss=0.00197, valid_loss=0.00301]\n",
      "Epoch: 37/80: 100%|██████████| 40/40 [00:01<00:00, 25.82it/s, train_loss=0.00194, valid_loss=0.00298]\n",
      "Epoch: 38/80: 100%|██████████| 40/40 [00:01<00:00, 27.55it/s, train_loss=0.00221, valid_loss=0.00295]\n",
      "Epoch: 39/80: 100%|██████████| 40/40 [00:01<00:00, 25.54it/s, train_loss=0.00223, valid_loss=0.00297]\n",
      "Epoch: 40/80: 100%|██████████| 40/40 [00:01<00:00, 25.56it/s, train_loss=0.002, valid_loss=0.00295]  \n",
      "Epoch: 41/80: 100%|██████████| 40/40 [00:01<00:00, 25.15it/s, train_loss=0.00194, valid_loss=0.00305]\n",
      "Epoch: 42/80: 100%|██████████| 40/40 [00:01<00:00, 27.11it/s, train_loss=0.00233, valid_loss=0.00303]\n",
      "Epoch: 43/80: 100%|██████████| 40/40 [00:01<00:00, 26.62it/s, train_loss=0.00231, valid_loss=0.00296]\n",
      "Epoch: 44/80: 100%|██████████| 40/40 [00:01<00:00, 25.00it/s, train_loss=0.00189, valid_loss=0.0032] \n",
      "Epoch: 45/80: 100%|██████████| 40/40 [00:01<00:00, 25.12it/s, train_loss=0.00219, valid_loss=0.00297]\n",
      "Epoch: 46/80: 100%|██████████| 40/40 [00:01<00:00, 25.04it/s, train_loss=0.00197, valid_loss=0.00298]\n",
      "Epoch: 47/80: 100%|██████████| 40/40 [00:01<00:00, 24.91it/s, train_loss=0.00218, valid_loss=0.00299]\n",
      "Epoch: 48/80: 100%|██████████| 40/40 [00:01<00:00, 26.38it/s, train_loss=0.00208, valid_loss=0.00299]\n",
      "Epoch: 49/80: 100%|██████████| 40/40 [00:01<00:00, 24.82it/s, train_loss=0.00178, valid_loss=0.00302]\n",
      "Epoch: 50/80: 100%|██████████| 40/40 [00:01<00:00, 25.49it/s, train_loss=0.00245, valid_loss=0.00309]\n",
      "Epoch: 51/80: 100%|██████████| 40/40 [00:01<00:00, 25.22it/s, train_loss=0.00244, valid_loss=0.003]  \n",
      "Epoch: 52/80: 100%|██████████| 40/40 [00:01<00:00, 24.98it/s, train_loss=0.00227, valid_loss=0.00306]\n",
      "Epoch: 53/80: 100%|██████████| 40/40 [00:01<00:00, 25.23it/s, train_loss=0.00213, valid_loss=0.003]  \n",
      "Epoch: 54/80: 100%|██████████| 40/40 [00:01<00:00, 26.82it/s, train_loss=0.00234, valid_loss=0.00295]\n",
      "Epoch: 55/80: 100%|██████████| 40/40 [00:01<00:00, 25.01it/s, train_loss=0.00268, valid_loss=0.00297]\n",
      "Epoch: 56/80: 100%|██████████| 40/40 [00:01<00:00, 24.21it/s, train_loss=0.00206, valid_loss=0.00291]\n",
      "Epoch: 57/80: 100%|██████████| 40/40 [00:01<00:00, 26.24it/s, train_loss=0.00175, valid_loss=0.00303]\n",
      "Epoch: 58/80: 100%|██████████| 40/40 [00:01<00:00, 24.73it/s, train_loss=0.00218, valid_loss=0.00296]\n",
      "Epoch: 59/80: 100%|██████████| 40/40 [00:01<00:00, 26.42it/s, train_loss=0.00199, valid_loss=0.00291]\n",
      "Epoch: 60/80: 100%|██████████| 40/40 [00:01<00:00, 27.26it/s, train_loss=0.00203, valid_loss=0.00291]\n",
      "Epoch: 61/80: 100%|██████████| 40/40 [00:01<00:00, 26.79it/s, train_loss=0.00224, valid_loss=0.00293]\n",
      "Epoch: 62/80: 100%|██████████| 40/40 [00:01<00:00, 24.73it/s, train_loss=0.00191, valid_loss=0.00296]\n",
      "Epoch: 63/80: 100%|██████████| 40/40 [00:01<00:00, 25.39it/s, train_loss=0.00225, valid_loss=0.00293]\n",
      "Epoch: 64/80: 100%|██████████| 40/40 [00:01<00:00, 26.48it/s, train_loss=0.00214, valid_loss=0.00294]\n",
      "Epoch: 65/80: 100%|██████████| 40/40 [00:01<00:00, 25.86it/s, train_loss=0.00194, valid_loss=0.00293]\n",
      "Epoch: 66/80: 100%|██████████| 40/40 [00:01<00:00, 25.92it/s, train_loss=0.00195, valid_loss=0.00294]\n",
      "Epoch: 67/80: 100%|██████████| 40/40 [00:01<00:00, 26.88it/s, train_loss=0.00221, valid_loss=0.00296]\n",
      "Epoch: 68/80: 100%|██████████| 40/40 [00:01<00:00, 23.88it/s, train_loss=0.0025, valid_loss=0.00294] \n",
      "Epoch: 69/80: 100%|██████████| 40/40 [00:01<00:00, 26.63it/s, train_loss=0.00197, valid_loss=0.00294]\n",
      "Epoch: 70/80: 100%|██████████| 40/40 [00:01<00:00, 25.65it/s, train_loss=0.00214, valid_loss=0.00303]\n",
      "Epoch: 71/80: 100%|██████████| 40/40 [00:01<00:00, 27.60it/s, train_loss=0.00241, valid_loss=0.00291]\n",
      "Epoch: 72/80: 100%|██████████| 40/40 [00:01<00:00, 25.03it/s, train_loss=0.00217, valid_loss=0.00292]\n",
      "Epoch: 73/80: 100%|██████████| 40/40 [00:01<00:00, 25.25it/s, train_loss=0.00177, valid_loss=0.00296]\n",
      "Epoch: 74/80: 100%|██████████| 40/40 [00:01<00:00, 24.73it/s, train_loss=0.00217, valid_loss=0.00294]\n",
      "Epoch: 75/80: 100%|██████████| 40/40 [00:01<00:00, 24.79it/s, train_loss=0.00223, valid_loss=0.00292]\n",
      "Epoch: 76/80: 100%|██████████| 40/40 [00:01<00:00, 25.25it/s, train_loss=0.00223, valid_loss=0.00293]\n",
      "Epoch: 77/80: 100%|██████████| 40/40 [00:01<00:00, 25.76it/s, train_loss=0.00192, valid_loss=0.00292]\n",
      "Epoch: 78/80: 100%|██████████| 40/40 [00:01<00:00, 25.83it/s, train_loss=0.00175, valid_loss=0.00305]\n",
      "Epoch: 79/80: 100%|██████████| 40/40 [00:01<00:00, 24.55it/s, train_loss=0.00232, valid_loss=0.00305]\n",
      "Epoch: 80/80: 100%|██████████| 40/40 [00:01<00:00, 28.21it/s, train_loss=0.00201, valid_loss=0.00308]\n"
     ]
    },
    {
     "name": "stdout",
     "output_type": "stream",
     "text": [
      "supervised data: shape of x: (6237, 72, 1), shape of y: (6237, 24)\n",
      "MAPE:0.04161610209234594, MAE:547.0203073794029, RMSE:794.7943229939739\n"
     ]
    },
    {
     "data": {
      "image/png": "[encoded data removed]",
      "text/plain": [
       "<Figure size 432x288 with 1 Axes>"
      ]
     },
     "metadata": {
      "needs_background": "light"
     },
     "output_type": "display_data"
    }
   ],
   "source": [
    "torch.random.manual_seed(0)\n",
    "torch.cuda.random.manual_seed(0)\n",
    "MAPE, MAE, RMSE, load_pred, load_true = run_model_retraining()\n",
    "print('MAPE:{}, MAE:{}, RMSE:{}'.format(MAPE, MAE, RMSE))"
   ]
  },
  {
   "cell_type": "code",
   "execution_count": 27,
   "id": "89ab54df",
   "metadata": {
    "ExecuteTime": {
     "end_time": "2021-12-29T13:03:48.999667Z",
     "start_time": "2021-12-29T13:03:48.994604Z"
    }
   },
   "outputs": [
    {
     "name": "stdout",
     "output_type": "stream",
     "text": [
      "MAPE:0.04161610209234594, MAE:547.0203073794029, RMSE:794.7943229939739\n"
     ]
    }
   ],
   "source": [
    "print('MAPE:{}, MAE:{}, RMSE:{}'.format(MAPE, MAE, RMSE))"
   ]
  },
  {
   "cell_type": "markdown",
   "id": "2cb53c49",
   "metadata": {},
   "source": [
    "## figure plot"
   ]
  },
  {
   "cell_type": "code",
   "execution_count": 28,
   "id": "97a19531",
   "metadata": {
    "ExecuteTime": {
     "end_time": "2021-12-29T13:03:50.638571Z",
     "start_time": "2021-12-29T13:03:50.506784Z"
    }
   },
   "outputs": [
    {
     "data": {
      "text/plain": [
       "(0.0, 19444.974575360775)"
      ]
     },
     "execution_count": 28,
     "metadata": {},
     "output_type": "execute_result"
    },
    {
     "data": {
      "image/png": "[encoded data removed]",
      "text/plain": [
       "<Figure size 1440x720 with 1 Axes>"
      ]
     },
     "metadata": {
      "needs_background": "light"
     },
     "output_type": "display_data"
    }
   ],
   "source": [
    "plt.figure(figsize=(20, 10))\n",
    "load_pred = load_pred.reshape(-1, target_len)\n",
    "load_true = load_true.reshape(-1, target_len)\n",
    "plt.plot(load_pred[:240,0], 'r')\n",
    "plt.plot(load_true[:240,0], 'g')\n",
    "plt.ylim(0)"
   ]
  }
 ],
 "metadata": {
  "kernelspec": {
   "display_name": "Python 3",
   "language": "python",
   "name": "python3"
  },
  "language_info": {
   "codemirror_mode": {
    "name": "ipython",
    "version": 3
   },
   "file_extension": ".py",
   "mimetype": "text/x-python",
   "name": "python",
   "nbconvert_exporter": "python",
   "pygments_lexer": "ipython3",
   "version": "3.8.12"
  },
  "toc": {
   "base_numbering": 1,
   "nav_menu": {},
   "number_sections": true,
   "sideBar": true,
   "skip_h1_title": false,
   "title_cell": "Table of Contents",
   "title_sidebar": "Contents",
   "toc_cell": false,
   "toc_position": {
    "height": "calc(100% - 180px)",
    "left": "10px",
    "top": "150px",
    "width": "374.391px"
   },
   "toc_section_display": true,
   "toc_window_display": true
  },
  "varInspector": {
   "cols": {
    "lenName": 16,
    "lenType": 16,
    "lenVar": 40
   },
   "kernels_config": {
    "python": {
     "delete_cmd_postfix": "",
     "delete_cmd_prefix": "del ",
     "library": "var_list.py",
     "varRefreshCmd": "print(var_dic_list())"
    },
    "r": {
     "delete_cmd_postfix": ") ",
     "delete_cmd_prefix": "rm(",
     "library": "var_list.r",
     "varRefreshCmd": "cat(var_dic_list()) "
    }
   },
   "oldHeight": 320.844,
   "position": {
    "height": "342.844px",
    "left": "1482px",
    "right": "20px",
    "top": "127px",
    "width": "350px"
   },
   "types_to_exclude": [
    "module",
    "function",
    "builtin_function_or_method",
    "instance",
    "_Feature"
   ],
   "varInspector_section_display": "block",
   "window_display": false
  }
 },
 "nbformat": 4,
 "nbformat_minor": 5
}
