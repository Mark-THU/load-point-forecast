{
 "cells": [
  {
   "cell_type": "markdown",
   "id": "60e73e73",
   "metadata": {},
   "source": [
    "# LSTM for forecast without features"
   ]
  },
  {
   "cell_type": "markdown",
   "id": "ca76438f",
   "metadata": {},
   "source": [
    "1. 实现"
   ]
  },
  {
   "cell_type": "code",
   "execution_count": 1,
   "id": "1293826f",
   "metadata": {
    "ExecuteTime": {
     "end_time": "2022-01-09T08:16:47.502363Z",
     "start_time": "2022-01-09T08:16:46.479251Z"
    }
   },
   "outputs": [],
   "source": [
    "import pandas as pd\n",
    "import numpy as np\n",
    "import matplotlib.pyplot as plt\n",
    "import pdb\n",
    "import torch\n",
    "import torch.nn as nn\n",
    "import random\n",
    "\n",
    "from sklearn.preprocessing import MinMaxScaler\n",
    "from sklearn.model_selection import train_test_split, TimeSeriesSplit\n",
    "from torch.autograd import Variable\n",
    "from torch.utils.data import TensorDataset, DataLoader\n",
    "from tqdm import tqdm\n",
    "from xgboost import XGBRegressor\n",
    "\n",
    "np.random.seed(0)\n",
    "torch.manual_seed(0)\n",
    "torch.cuda.manual_seed(0)\n",
    "if torch.cuda.is_available():  \n",
    "    dev = \"cuda:0\" \n",
    "else:  \n",
    "    dev = \"cpu\"\n",
    "device = torch.device(dev)"
   ]
  },
  {
   "cell_type": "markdown",
   "id": "12d492d0",
   "metadata": {},
   "source": [
    "## load data"
   ]
  },
  {
   "cell_type": "code",
   "execution_count": 2,
   "id": "a716e9d9",
   "metadata": {
    "ExecuteTime": {
     "end_time": "2022-01-09T08:16:47.554553Z",
     "start_time": "2022-01-09T08:16:47.504534Z"
    }
   },
   "outputs": [],
   "source": [
    "url = '../data/beijing.csv'\n",
    "data = pd.read_csv(url, sep=',', index_col='time')\n",
    "data.index = pd.to_datetime(data.index)\n",
    "data = data[['load']]"
   ]
  },
  {
   "cell_type": "markdown",
   "id": "fcc89c50",
   "metadata": {},
   "source": [
    "## normalization"
   ]
  },
  {
   "cell_type": "code",
   "execution_count": 3,
   "id": "6739640e",
   "metadata": {
    "ExecuteTime": {
     "end_time": "2022-01-09T08:16:47.559786Z",
     "start_time": "2022-01-09T08:16:47.556260Z"
    }
   },
   "outputs": [],
   "source": [
    "def normalization(data):\n",
    "    \"\"\"\n",
    "    data: original data with load\n",
    "    return: normalized data, scaler of load\n",
    "    \"\"\"\n",
    "    scaler = MinMaxScaler()\n",
    "    normalized_data = scaler.fit_transform(data)\n",
    "    scaler_y = MinMaxScaler()\n",
    "    scaler_y.fit_transform(data[[data.columns[-1]]])\n",
    "    return normalized_data, scaler, scaler_y"
   ]
  },
  {
   "cell_type": "markdown",
   "id": "013ae526",
   "metadata": {
    "ExecuteTime": {
     "end_time": "2021-12-22T07:45:44.192666Z",
     "start_time": "2021-12-22T07:45:44.188985Z"
    }
   },
   "source": [
    "## build supervised dataset"
   ]
  },
  {
   "cell_type": "code",
   "execution_count": 4,
   "id": "a385ff4a",
   "metadata": {
    "ExecuteTime": {
     "end_time": "2022-01-09T08:16:47.565865Z",
     "start_time": "2022-01-09T08:16:47.562119Z"
    }
   },
   "outputs": [],
   "source": [
    "def series_to_supervise(data, seq_len, target_len):\n",
    "    \"\"\"\n",
    "    convert series data to supervised data\n",
    "    :param data: original data\n",
    "    :param seq_len: length of input sequence\n",
    "    :param target_len: length of ouput sequence\n",
    "    :return: return two ndarrays-- input and output in format suitable to feed to LSTM\n",
    "    \"\"\"\n",
    "    dim_0 = data.shape[0] - seq_len - target_len + 1\n",
    "    dim_1 = data.shape[1]\n",
    "    x = np.zeros((dim_0, seq_len, dim_1))\n",
    "    y = np.zeros((dim_0, target_len))\n",
    "    for i in range(dim_0):\n",
    "        x[i] = data[i:i + seq_len]\n",
    "        y[i] = data[i + seq_len:i + seq_len + target_len, -1]\n",
    "    print(\"supervised data: shape of x: {}, shape of y: {}\".format(x.shape, y.shape))\n",
    "    return x, y"
   ]
  },
  {
   "cell_type": "markdown",
   "id": "d882859d",
   "metadata": {},
   "source": [
    "## 5-folds TimeSeriesSplit"
   ]
  },
  {
   "cell_type": "code",
   "execution_count": 5,
   "id": "d1873d8c",
   "metadata": {
    "ExecuteTime": {
     "end_time": "2022-01-09T08:16:47.571209Z",
     "start_time": "2022-01-09T08:16:47.567136Z"
    }
   },
   "outputs": [],
   "source": [
    "def time_series_split(X, Y, n_split=5):\n",
    "    \"\"\"\n",
    "    X: features, size * seq_len * feature_num\n",
    "    Y: labels, size * target_len\n",
    "    return: list of train_x, test_x, train_y, test_y\n",
    "    \"\"\"\n",
    "    tscv = TimeSeriesSplit(n_splits=n_split)\n",
    "    train_x_list = list()\n",
    "    valid_x_list = list()\n",
    "    train_y_list = list()\n",
    "    valid_y_list = list()\n",
    "    for train_index, valid_index in tscv.split(X):\n",
    "        train_x_list.append(X[train_index])\n",
    "        train_y_list.append(Y[train_index])\n",
    "        valid_x_list.append(X[valid_index])\n",
    "        valid_y_list.append(Y[valid_index])\n",
    "    return train_x_list, train_y_list, valid_x_list, valid_y_list"
   ]
  },
  {
   "cell_type": "markdown",
   "id": "31f79113",
   "metadata": {},
   "source": [
    "## LSTM model"
   ]
  },
  {
   "cell_type": "code",
   "execution_count": 6,
   "id": "02a7959a",
   "metadata": {
    "ExecuteTime": {
     "end_time": "2022-01-09T08:16:47.578491Z",
     "start_time": "2022-01-09T08:16:47.572578Z"
    }
   },
   "outputs": [],
   "source": [
    "class LSTM(nn.Module):\n",
    "    def __init__(self, input_size, output_size, hidden_dim, n_layers,\n",
    "                 drop_prob):\n",
    "        super(LSTM, self).__init__()\n",
    "        # model parameters\n",
    "        self.hidden_dim = hidden_dim\n",
    "        self.n_layers = n_layers\n",
    "        self.output_size = output_size\n",
    "        # layes\n",
    "        self.lstm = nn.LSTM(input_size=input_size,\n",
    "                            hidden_size=hidden_dim,\n",
    "                            num_layers=n_layers,\n",
    "                            batch_first=True,\n",
    "                            dropout=drop_prob)\n",
    "        self.fc = nn.Sequential()\n",
    "        \n",
    "        input_size = hidden_dim\n",
    "        i = 0\n",
    "        while(input_size > 8):\n",
    "            self.fc.add_module('linear{}'.format(i), nn.Linear(input_size, round(input_size / 2)))\n",
    "            self.fc.add_module('relu{}'.format(i), nn.ReLU())\n",
    "            input_size = round(input_size / 2)\n",
    "            i += 1\n",
    "        self.fc.add_module('linear{}'.format(i), nn.Linear(input_size, 1))\n",
    "\n",
    "    def forward(self, x):\n",
    "\n",
    "        lstm_out, hidden = self.lstm(x)\n",
    "        lstm_out = lstm_out[:, -self.output_size:, :]\n",
    "\n",
    "        out = self.fc(lstm_out)\n",
    "\n",
    "        out = out.reshape(x.shape[0], -1)\n",
    "\n",
    "        return out"
   ]
  },
  {
   "cell_type": "markdown",
   "id": "cc1651bf",
   "metadata": {
    "ExecuteTime": {
     "end_time": "2021-12-22T08:30:19.661769Z",
     "start_time": "2021-12-22T08:30:19.656770Z"
    }
   },
   "source": [
    "## model training for HPO"
   ]
  },
  {
   "cell_type": "code",
   "execution_count": 7,
   "id": "e1b116dd",
   "metadata": {
    "ExecuteTime": {
     "end_time": "2022-01-09T08:16:47.590339Z",
     "start_time": "2022-01-09T08:16:47.579775Z"
    }
   },
   "outputs": [],
   "source": [
    "def train_model_hpo(train_x_list, train_y_list, valid_x_list, valid_y_list,\n",
    "                    input_size, output_size, mse_thresh, batch_size, lr,\n",
    "                    number_epoch, hidden_dim, n_layers, drop_prob, weight_decay):\n",
    "    valid_loss_list = []\n",
    "    for num in range(len(train_x_list)):\n",
    "        while (1):\n",
    "            model = LSTM(input_size, output_size, hidden_dim, n_layers,\n",
    "                           drop_prob)\n",
    "            model.to(device=device)\n",
    "            criterion = nn.MSELoss()\n",
    "            optimizer = torch.optim.Adam(model.parameters(), lr=lr, weight_decay=weight_decay)\n",
    "            scheduler = torch.optim.lr_scheduler.StepLR(optimizer, 1, gamma=0.98)\n",
    "            valid_loss_min = np.Inf\n",
    "            print('cross-validation dataset {}'.format(num))\n",
    "            train_x = train_x_list[num]\n",
    "            train_y = train_y_list[num]\n",
    "            valid_x = valid_x_list[num]\n",
    "            valid_y = valid_y_list[num]\n",
    "            train_dataset = TensorDataset(torch.FloatTensor(train_x),\n",
    "                                          torch.FloatTensor(train_y))\n",
    "            valid_dataset = TensorDataset(torch.FloatTensor(valid_x),\n",
    "                                          torch.FloatTensor(valid_y))\n",
    "            train_loader = DataLoader(dataset=train_dataset,\n",
    "                                      batch_size=batch_size,\n",
    "                                      shuffle=True,\n",
    "                                      drop_last=False)\n",
    "            valid_loader = DataLoader(dataset=valid_dataset,\n",
    "                                      batch_size=batch_size,\n",
    "                                      shuffle=True,\n",
    "                                      drop_last=False)\n",
    "            num_without_imp = 0\n",
    "            # training process\n",
    "            for epoch in range(1, number_epoch + 1):\n",
    "                loop = tqdm(enumerate(train_loader),\n",
    "                            total=len(train_loader),\n",
    "                            leave=True)\n",
    "                for i, (inputs, labels) in loop:\n",
    "                    inputs = inputs.to(device=device)\n",
    "                    labels = labels.to(device=device)\n",
    "                    optimizer.zero_grad()\n",
    "                    outputs = model(inputs)\n",
    "                    loss = criterion(outputs, labels)\n",
    "                    loss.backward()\n",
    "                    optimizer.step()\n",
    "                    if i % 5 == 0:\n",
    "                        num_without_imp = num_without_imp + 1\n",
    "                        valid_losses = list()\n",
    "                        model.eval()\n",
    "                        for inp, lab in valid_loader:\n",
    "                            inp = inp.to(device)\n",
    "                            lab = lab.to(device)\n",
    "                            out = model(inp)\n",
    "                            valid_loss = criterion(out, lab)\n",
    "                            valid_losses.append(valid_loss.item())\n",
    "\n",
    "                        model.train()\n",
    "                        loop.set_description(\"Epoch: {}/{}\".format(\n",
    "                            epoch, number_epoch))\n",
    "                        loop.set_postfix(train_loss=loss.item(),\n",
    "                                         valid_loss=np.mean(valid_losses))\n",
    "                        if np.mean(valid_losses) < valid_loss_min:\n",
    "                            num_without_imp = 0\n",
    "                            valid_loss_min = np.mean(valid_losses)\n",
    "                scheduler.step()\n",
    "                if num_without_imp >= 50:\n",
    "                    pass\n",
    "#                     break\n",
    "\n",
    "            if valid_loss_min < mse_thresh:\n",
    "                valid_loss_list.append(valid_loss_min)\n",
    "                break\n",
    "    return np.mean(valid_loss_list)"
   ]
  },
  {
   "cell_type": "markdown",
   "id": "f9e01e8f",
   "metadata": {},
   "source": [
    "## hyper-parameters config"
   ]
  },
  {
   "cell_type": "code",
   "execution_count": 8,
   "id": "46d148b1",
   "metadata": {
    "ExecuteTime": {
     "end_time": "2022-01-09T08:16:47.596445Z",
     "start_time": "2022-01-09T08:16:47.591716Z"
    }
   },
   "outputs": [],
   "source": [
    "seq_len = 72\n",
    "target_len = 24\n",
    "mse_thresh = 0.01\n",
    "\n",
    "\n",
    "def model_config():\n",
    "    batch_sizes = [512]\n",
    "    lrs = [0.01]\n",
    "    number_epochs = [30]\n",
    "    hidden_dims = [16, 32]\n",
    "    n_layers = [1, 2, 3]\n",
    "    drop_prob = [0]\n",
    "    weight_decays = [0]\n",
    "    configs = list()\n",
    "    for i in batch_sizes:\n",
    "        for j in lrs:\n",
    "            for k in number_epochs:\n",
    "                for l in hidden_dims:\n",
    "                    for m in n_layers:\n",
    "                        for n in drop_prob:\n",
    "                            for o in weight_decays:\n",
    "                                configs.append({\n",
    "                                    'batch_size': i,\n",
    "                                    'lr': j,\n",
    "                                    'number_epoch': k,\n",
    "                                    'hidden_dim': l,\n",
    "                                    'n_layers': m,\n",
    "                                    'drop_prob': n,\n",
    "                                    'weight_decay': o,\n",
    "                                })\n",
    "    return configs"
   ]
  },
  {
   "cell_type": "markdown",
   "id": "b6afcd39",
   "metadata": {},
   "source": [
    "## random search for HPO"
   ]
  },
  {
   "cell_type": "code",
   "execution_count": 9,
   "id": "8b584ed0",
   "metadata": {
    "ExecuteTime": {
     "end_time": "2022-01-09T08:16:47.604788Z",
     "start_time": "2022-01-09T08:16:47.597987Z"
    }
   },
   "outputs": [],
   "source": [
    "def run_model_hpo(seq_len=seq_len,\n",
    "                  target_len=target_len,\n",
    "                  mse_thresh=mse_thresh):\n",
    "    train_data = data[:int(0.8 * len(data))]\n",
    "    train_data, _, _ = normalization(train_data)\n",
    "    train_x, train_y = series_to_supervise(train_data, seq_len, target_len)\n",
    "    train_x_list, train_y_list, valid_x_list, valid_y_list = time_series_split(\n",
    "        train_x, train_y)\n",
    "    #     with enough data\n",
    "    train_x_list = train_x_list[-1:]\n",
    "    train_y_list = train_y_list[-1:]\n",
    "    valid_x_list = valid_x_list[-1:]\n",
    "    valid_y_list = valid_y_list[-1:]\n",
    "\n",
    "    configs = model_config()\n",
    "    records = []\n",
    "    input_size = train_x.shape[2]\n",
    "    output_size = target_len\n",
    "    for i in range(6):\n",
    "        config = random.choice(configs)\n",
    "        configs.remove(config)\n",
    "        batch_size = config['batch_size']\n",
    "        lr = config['lr']\n",
    "        number_epoch = config['number_epoch']\n",
    "        hidden_dim = config['hidden_dim']\n",
    "        n_layers = config['n_layers']\n",
    "        drop_prob = config['drop_prob']\n",
    "        weight_decay = config['weight_decay']\n",
    "        print(\n",
    "            \"model config: batch_size-{}, lr-{}, number_epoch-{}, hidden_dim-{}, n_layers-{},drop_prob-{},weight_decay-{}\"\n",
    "            .format(batch_size, lr, number_epoch, hidden_dim, n_layers,\n",
    "                    drop_prob, weight_decay))\n",
    "        valid_loss = train_model_hpo(train_x_list, train_y_list, valid_x_list,\n",
    "                                     valid_y_list, input_size, output_size,\n",
    "                                     mse_thresh, batch_size, lr, number_epoch,\n",
    "                                     hidden_dim, n_layers, drop_prob, weight_decay)\n",
    "        records.append({\n",
    "            'batch_size': batch_size,\n",
    "            'lr': lr,\n",
    "            'number_epoch': number_epoch,\n",
    "            'hidden_dim': hidden_dim,\n",
    "            'n_layers': n_layers,\n",
    "            'drop_prob': drop_prob,\n",
    "            'weight_decay': weight_decay,\n",
    "            'valid_loss': valid_loss\n",
    "        })\n",
    "    return records"
   ]
  },
  {
   "cell_type": "markdown",
   "id": "871416ee",
   "metadata": {},
   "source": [
    "## run random search"
   ]
  },
  {
   "cell_type": "code",
   "execution_count": 10,
   "id": "2234458e",
   "metadata": {
    "ExecuteTime": {
     "end_time": "2022-01-09T08:16:54.504712Z",
     "start_time": "2022-01-09T08:16:47.607555Z"
    },
    "collapsed": true
   },
   "outputs": [
    {
     "name": "stdout",
     "output_type": "stream",
     "text": [
      "supervised data: shape of x: (25232, 72, 1), shape of y: (25232, 24)\n",
      "model config: batch_size-512, lr-0.01, number_epoch-30, hidden_dim-32, n_layers-2,drop_prob-0,weight_decay-0\n",
      "cross-validation dataset 0\n"
     ]
    },
    {
     "name": "stderr",
     "output_type": "stream",
     "text": [
      "Epoch: 1/30: 100%|██████████████████████████████████████████████████████████████████████████████████████████████████████████████████████████████████████████████████████| 42/42 [00:02<00:00, 18.36it/s, train_loss=0.0277, valid_loss=0.0314]\n",
      "Epoch: 2/30: 100%|████████████████████████████████████████████████████████████████████████████████████████████████████████████████████████████████████████████████████| 42/42 [00:01<00:00, 37.35it/s, train_loss=0.00666, valid_loss=0.00941]\n",
      "Epoch: 3/30:  95%|████████████████████████████████████████████████████████████████████████████████████████████████████████████████████████████████████████████▉       | 40/42 [00:01<00:00, 33.99it/s, train_loss=0.00218, valid_loss=0.00339]\n"
     ]
    },
    {
     "ename": "KeyboardInterrupt",
     "evalue": "",
     "output_type": "error",
     "traceback": [
      "\u001b[0;31m---------------------------------------------------------------------------\u001b[0m",
      "\u001b[0;31mKeyboardInterrupt\u001b[0m                         Traceback (most recent call last)",
      "\u001b[0;32m/tmp/ipykernel_39310/2555981697.py\u001b[0m in \u001b[0;36m<module>\u001b[0;34m\u001b[0m\n\u001b[1;32m      1\u001b[0m \u001b[0mtorch\u001b[0m\u001b[0;34m.\u001b[0m\u001b[0mrandom\u001b[0m\u001b[0;34m.\u001b[0m\u001b[0mmanual_seed\u001b[0m\u001b[0;34m(\u001b[0m\u001b[0;36m0\u001b[0m\u001b[0;34m)\u001b[0m\u001b[0;34m\u001b[0m\u001b[0;34m\u001b[0m\u001b[0m\n\u001b[1;32m      2\u001b[0m \u001b[0mtorch\u001b[0m\u001b[0;34m.\u001b[0m\u001b[0mcuda\u001b[0m\u001b[0;34m.\u001b[0m\u001b[0mrandom\u001b[0m\u001b[0;34m.\u001b[0m\u001b[0mmanual_seed\u001b[0m\u001b[0;34m(\u001b[0m\u001b[0;36m0\u001b[0m\u001b[0;34m)\u001b[0m\u001b[0;34m\u001b[0m\u001b[0;34m\u001b[0m\u001b[0m\n\u001b[0;32m----> 3\u001b[0;31m \u001b[0mrecords\u001b[0m \u001b[0;34m=\u001b[0m \u001b[0mrun_model_hpo\u001b[0m\u001b[0;34m(\u001b[0m\u001b[0;34m)\u001b[0m\u001b[0;34m\u001b[0m\u001b[0;34m\u001b[0m\u001b[0m\n\u001b[0m",
      "\u001b[0;32m/tmp/ipykernel_39310/441034625.py\u001b[0m in \u001b[0;36mrun_model_hpo\u001b[0;34m(seq_len, target_len, mse_thresh)\u001b[0m\n\u001b[1;32m     31\u001b[0m             .format(batch_size, lr, number_epoch, hidden_dim, n_layers,\n\u001b[1;32m     32\u001b[0m                     drop_prob, weight_decay))\n\u001b[0;32m---> 33\u001b[0;31m         valid_loss = train_model_hpo(train_x_list, train_y_list, valid_x_list,\n\u001b[0m\u001b[1;32m     34\u001b[0m                                      \u001b[0mvalid_y_list\u001b[0m\u001b[0;34m,\u001b[0m \u001b[0minput_size\u001b[0m\u001b[0;34m,\u001b[0m \u001b[0moutput_size\u001b[0m\u001b[0;34m,\u001b[0m\u001b[0;34m\u001b[0m\u001b[0;34m\u001b[0m\u001b[0m\n\u001b[1;32m     35\u001b[0m                                      \u001b[0mmse_thresh\u001b[0m\u001b[0;34m,\u001b[0m \u001b[0mbatch_size\u001b[0m\u001b[0;34m,\u001b[0m \u001b[0mlr\u001b[0m\u001b[0;34m,\u001b[0m \u001b[0mnumber_epoch\u001b[0m\u001b[0;34m,\u001b[0m\u001b[0;34m\u001b[0m\u001b[0;34m\u001b[0m\u001b[0m\n",
      "\u001b[0;32m/tmp/ipykernel_39310/2562682056.py\u001b[0m in \u001b[0;36mtrain_model_hpo\u001b[0;34m(train_x_list, train_y_list, valid_x_list, valid_y_list, input_size, output_size, mse_thresh, batch_size, lr, number_epoch, hidden_dim, n_layers, drop_prob, weight_decay)\u001b[0m\n\u001b[1;32m     42\u001b[0m                     \u001b[0mloss\u001b[0m \u001b[0;34m=\u001b[0m \u001b[0mcriterion\u001b[0m\u001b[0;34m(\u001b[0m\u001b[0moutputs\u001b[0m\u001b[0;34m,\u001b[0m \u001b[0mlabels\u001b[0m\u001b[0;34m)\u001b[0m\u001b[0;34m\u001b[0m\u001b[0;34m\u001b[0m\u001b[0m\n\u001b[1;32m     43\u001b[0m                     \u001b[0mloss\u001b[0m\u001b[0;34m.\u001b[0m\u001b[0mbackward\u001b[0m\u001b[0;34m(\u001b[0m\u001b[0;34m)\u001b[0m\u001b[0;34m\u001b[0m\u001b[0;34m\u001b[0m\u001b[0m\n\u001b[0;32m---> 44\u001b[0;31m                     \u001b[0moptimizer\u001b[0m\u001b[0;34m.\u001b[0m\u001b[0mstep\u001b[0m\u001b[0;34m(\u001b[0m\u001b[0;34m)\u001b[0m\u001b[0;34m\u001b[0m\u001b[0;34m\u001b[0m\u001b[0m\n\u001b[0m\u001b[1;32m     45\u001b[0m                     \u001b[0;32mif\u001b[0m \u001b[0mi\u001b[0m \u001b[0;34m%\u001b[0m \u001b[0;36m5\u001b[0m \u001b[0;34m==\u001b[0m \u001b[0;36m0\u001b[0m\u001b[0;34m:\u001b[0m\u001b[0;34m\u001b[0m\u001b[0;34m\u001b[0m\u001b[0m\n\u001b[1;32m     46\u001b[0m                         \u001b[0mnum_without_imp\u001b[0m \u001b[0;34m=\u001b[0m \u001b[0mnum_without_imp\u001b[0m \u001b[0;34m+\u001b[0m \u001b[0;36m1\u001b[0m\u001b[0;34m\u001b[0m\u001b[0;34m\u001b[0m\u001b[0m\n",
      "\u001b[0;32m/home/nslab/miniconda3/envs/pytorch/lib/python3.8/site-packages/torch/optim/lr_scheduler.py\u001b[0m in \u001b[0;36mwrapper\u001b[0;34m(*args, **kwargs)\u001b[0m\n\u001b[1;32m     63\u001b[0m                 \u001b[0minstance\u001b[0m\u001b[0;34m.\u001b[0m\u001b[0m_step_count\u001b[0m \u001b[0;34m+=\u001b[0m \u001b[0;36m1\u001b[0m\u001b[0;34m\u001b[0m\u001b[0;34m\u001b[0m\u001b[0m\n\u001b[1;32m     64\u001b[0m                 \u001b[0mwrapped\u001b[0m \u001b[0;34m=\u001b[0m \u001b[0mfunc\u001b[0m\u001b[0;34m.\u001b[0m\u001b[0m__get__\u001b[0m\u001b[0;34m(\u001b[0m\u001b[0minstance\u001b[0m\u001b[0;34m,\u001b[0m \u001b[0mcls\u001b[0m\u001b[0;34m)\u001b[0m\u001b[0;34m\u001b[0m\u001b[0;34m\u001b[0m\u001b[0m\n\u001b[0;32m---> 65\u001b[0;31m                 \u001b[0;32mreturn\u001b[0m \u001b[0mwrapped\u001b[0m\u001b[0;34m(\u001b[0m\u001b[0;34m*\u001b[0m\u001b[0margs\u001b[0m\u001b[0;34m,\u001b[0m \u001b[0;34m**\u001b[0m\u001b[0mkwargs\u001b[0m\u001b[0;34m)\u001b[0m\u001b[0;34m\u001b[0m\u001b[0;34m\u001b[0m\u001b[0m\n\u001b[0m\u001b[1;32m     66\u001b[0m \u001b[0;34m\u001b[0m\u001b[0m\n\u001b[1;32m     67\u001b[0m             \u001b[0;31m# Note that the returned function here is no longer a bound method,\u001b[0m\u001b[0;34m\u001b[0m\u001b[0;34m\u001b[0m\u001b[0;34m\u001b[0m\u001b[0m\n",
      "\u001b[0;32m/home/nslab/miniconda3/envs/pytorch/lib/python3.8/site-packages/torch/optim/optimizer.py\u001b[0m in \u001b[0;36mwrapper\u001b[0;34m(*args, **kwargs)\u001b[0m\n\u001b[1;32m     86\u001b[0m                 \u001b[0mprofile_name\u001b[0m \u001b[0;34m=\u001b[0m \u001b[0;34m\"Optimizer.step#{}.step\"\u001b[0m\u001b[0;34m.\u001b[0m\u001b[0mformat\u001b[0m\u001b[0;34m(\u001b[0m\u001b[0mobj\u001b[0m\u001b[0;34m.\u001b[0m\u001b[0m__class__\u001b[0m\u001b[0;34m.\u001b[0m\u001b[0m__name__\u001b[0m\u001b[0;34m)\u001b[0m\u001b[0;34m\u001b[0m\u001b[0;34m\u001b[0m\u001b[0m\n\u001b[1;32m     87\u001b[0m                 \u001b[0;32mwith\u001b[0m \u001b[0mtorch\u001b[0m\u001b[0;34m.\u001b[0m\u001b[0mautograd\u001b[0m\u001b[0;34m.\u001b[0m\u001b[0mprofiler\u001b[0m\u001b[0;34m.\u001b[0m\u001b[0mrecord_function\u001b[0m\u001b[0;34m(\u001b[0m\u001b[0mprofile_name\u001b[0m\u001b[0;34m)\u001b[0m\u001b[0;34m:\u001b[0m\u001b[0;34m\u001b[0m\u001b[0;34m\u001b[0m\u001b[0m\n\u001b[0;32m---> 88\u001b[0;31m                     \u001b[0;32mreturn\u001b[0m \u001b[0mfunc\u001b[0m\u001b[0;34m(\u001b[0m\u001b[0;34m*\u001b[0m\u001b[0margs\u001b[0m\u001b[0;34m,\u001b[0m \u001b[0;34m**\u001b[0m\u001b[0mkwargs\u001b[0m\u001b[0;34m)\u001b[0m\u001b[0;34m\u001b[0m\u001b[0;34m\u001b[0m\u001b[0m\n\u001b[0m\u001b[1;32m     89\u001b[0m             \u001b[0;32mreturn\u001b[0m \u001b[0mwrapper\u001b[0m\u001b[0;34m\u001b[0m\u001b[0;34m\u001b[0m\u001b[0m\n\u001b[1;32m     90\u001b[0m \u001b[0;34m\u001b[0m\u001b[0m\n",
      "\u001b[0;32m/home/nslab/miniconda3/envs/pytorch/lib/python3.8/site-packages/torch/autograd/grad_mode.py\u001b[0m in \u001b[0;36mdecorate_context\u001b[0;34m(*args, **kwargs)\u001b[0m\n\u001b[1;32m     26\u001b[0m         \u001b[0;32mdef\u001b[0m \u001b[0mdecorate_context\u001b[0m\u001b[0;34m(\u001b[0m\u001b[0;34m*\u001b[0m\u001b[0margs\u001b[0m\u001b[0;34m,\u001b[0m \u001b[0;34m**\u001b[0m\u001b[0mkwargs\u001b[0m\u001b[0;34m)\u001b[0m\u001b[0;34m:\u001b[0m\u001b[0;34m\u001b[0m\u001b[0;34m\u001b[0m\u001b[0m\n\u001b[1;32m     27\u001b[0m             \u001b[0;32mwith\u001b[0m \u001b[0mself\u001b[0m\u001b[0;34m.\u001b[0m\u001b[0m__class__\u001b[0m\u001b[0;34m(\u001b[0m\u001b[0;34m)\u001b[0m\u001b[0;34m:\u001b[0m\u001b[0;34m\u001b[0m\u001b[0;34m\u001b[0m\u001b[0m\n\u001b[0;32m---> 28\u001b[0;31m                 \u001b[0;32mreturn\u001b[0m \u001b[0mfunc\u001b[0m\u001b[0;34m(\u001b[0m\u001b[0;34m*\u001b[0m\u001b[0margs\u001b[0m\u001b[0;34m,\u001b[0m \u001b[0;34m**\u001b[0m\u001b[0mkwargs\u001b[0m\u001b[0;34m)\u001b[0m\u001b[0;34m\u001b[0m\u001b[0;34m\u001b[0m\u001b[0m\n\u001b[0m\u001b[1;32m     29\u001b[0m         \u001b[0;32mreturn\u001b[0m \u001b[0mcast\u001b[0m\u001b[0;34m(\u001b[0m\u001b[0mF\u001b[0m\u001b[0;34m,\u001b[0m \u001b[0mdecorate_context\u001b[0m\u001b[0;34m)\u001b[0m\u001b[0;34m\u001b[0m\u001b[0;34m\u001b[0m\u001b[0m\n\u001b[1;32m     30\u001b[0m \u001b[0;34m\u001b[0m\u001b[0m\n",
      "\u001b[0;32m/home/nslab/miniconda3/envs/pytorch/lib/python3.8/site-packages/torch/optim/adam.py\u001b[0m in \u001b[0;36mstep\u001b[0;34m(self, closure)\u001b[0m\n\u001b[1;32m    105\u001b[0m                     \u001b[0mstate_steps\u001b[0m\u001b[0;34m.\u001b[0m\u001b[0mappend\u001b[0m\u001b[0;34m(\u001b[0m\u001b[0mstate\u001b[0m\u001b[0;34m[\u001b[0m\u001b[0;34m'step'\u001b[0m\u001b[0;34m]\u001b[0m\u001b[0;34m)\u001b[0m\u001b[0;34m\u001b[0m\u001b[0;34m\u001b[0m\u001b[0m\n\u001b[1;32m    106\u001b[0m \u001b[0;34m\u001b[0m\u001b[0m\n\u001b[0;32m--> 107\u001b[0;31m             F.adam(params_with_grad,\n\u001b[0m\u001b[1;32m    108\u001b[0m                    \u001b[0mgrads\u001b[0m\u001b[0;34m,\u001b[0m\u001b[0;34m\u001b[0m\u001b[0;34m\u001b[0m\u001b[0m\n\u001b[1;32m    109\u001b[0m                    \u001b[0mexp_avgs\u001b[0m\u001b[0;34m,\u001b[0m\u001b[0;34m\u001b[0m\u001b[0;34m\u001b[0m\u001b[0m\n",
      "\u001b[0;32m/home/nslab/miniconda3/envs/pytorch/lib/python3.8/site-packages/torch/optim/_functional.py\u001b[0m in \u001b[0;36madam\u001b[0;34m(params, grads, exp_avgs, exp_avg_sqs, max_exp_avg_sqs, state_steps, amsgrad, beta1, beta2, lr, weight_decay, eps)\u001b[0m\n\u001b[1;32m     92\u001b[0m             \u001b[0mdenom\u001b[0m \u001b[0;34m=\u001b[0m \u001b[0;34m(\u001b[0m\u001b[0mmax_exp_avg_sqs\u001b[0m\u001b[0;34m[\u001b[0m\u001b[0mi\u001b[0m\u001b[0;34m]\u001b[0m\u001b[0;34m.\u001b[0m\u001b[0msqrt\u001b[0m\u001b[0;34m(\u001b[0m\u001b[0;34m)\u001b[0m \u001b[0;34m/\u001b[0m \u001b[0mmath\u001b[0m\u001b[0;34m.\u001b[0m\u001b[0msqrt\u001b[0m\u001b[0;34m(\u001b[0m\u001b[0mbias_correction2\u001b[0m\u001b[0;34m)\u001b[0m\u001b[0;34m)\u001b[0m\u001b[0;34m.\u001b[0m\u001b[0madd_\u001b[0m\u001b[0;34m(\u001b[0m\u001b[0meps\u001b[0m\u001b[0;34m)\u001b[0m\u001b[0;34m\u001b[0m\u001b[0;34m\u001b[0m\u001b[0m\n\u001b[1;32m     93\u001b[0m         \u001b[0;32melse\u001b[0m\u001b[0;34m:\u001b[0m\u001b[0;34m\u001b[0m\u001b[0;34m\u001b[0m\u001b[0m\n\u001b[0;32m---> 94\u001b[0;31m             \u001b[0mdenom\u001b[0m \u001b[0;34m=\u001b[0m \u001b[0;34m(\u001b[0m\u001b[0mexp_avg_sq\u001b[0m\u001b[0;34m.\u001b[0m\u001b[0msqrt\u001b[0m\u001b[0;34m(\u001b[0m\u001b[0;34m)\u001b[0m \u001b[0;34m/\u001b[0m \u001b[0mmath\u001b[0m\u001b[0;34m.\u001b[0m\u001b[0msqrt\u001b[0m\u001b[0;34m(\u001b[0m\u001b[0mbias_correction2\u001b[0m\u001b[0;34m)\u001b[0m\u001b[0;34m)\u001b[0m\u001b[0;34m.\u001b[0m\u001b[0madd_\u001b[0m\u001b[0;34m(\u001b[0m\u001b[0meps\u001b[0m\u001b[0;34m)\u001b[0m\u001b[0;34m\u001b[0m\u001b[0;34m\u001b[0m\u001b[0m\n\u001b[0m\u001b[1;32m     95\u001b[0m \u001b[0;34m\u001b[0m\u001b[0m\n\u001b[1;32m     96\u001b[0m         \u001b[0mstep_size\u001b[0m \u001b[0;34m=\u001b[0m \u001b[0mlr\u001b[0m \u001b[0;34m/\u001b[0m \u001b[0mbias_correction1\u001b[0m\u001b[0;34m\u001b[0m\u001b[0;34m\u001b[0m\u001b[0m\n",
      "\u001b[0;31mKeyboardInterrupt\u001b[0m: "
     ]
    }
   ],
   "source": [
    "torch.random.manual_seed(0)\n",
    "torch.cuda.random.manual_seed(0)\n",
    "records = run_model_hpo()"
   ]
  },
  {
   "cell_type": "markdown",
   "id": "4315ea0b",
   "metadata": {
    "ExecuteTime": {
     "end_time": "2021-12-22T08:52:06.844501Z",
     "start_time": "2021-12-22T08:52:06.830928Z"
    }
   },
   "source": [
    "## find the best hyper-parameters"
   ]
  },
  {
   "cell_type": "code",
   "execution_count": 24,
   "id": "b01e7bf3",
   "metadata": {
    "ExecuteTime": {
     "end_time": "2021-12-29T13:01:39.185865Z",
     "start_time": "2021-12-29T13:01:39.161741Z"
    }
   },
   "outputs": [
    {
     "data": {
      "text/html": [
       "<div>\n",
       "<style scoped>\n",
       "    .dataframe tbody tr th:only-of-type {\n",
       "        vertical-align: middle;\n",
       "    }\n",
       "\n",
       "    .dataframe tbody tr th {\n",
       "        vertical-align: top;\n",
       "    }\n",
       "\n",
       "    .dataframe thead th {\n",
       "        text-align: right;\n",
       "    }\n",
       "</style>\n",
       "<table border=\"1\" class=\"dataframe\">\n",
       "  <thead>\n",
       "    <tr style=\"text-align: right;\">\n",
       "      <th></th>\n",
       "      <th>batch_size</th>\n",
       "      <th>lr</th>\n",
       "      <th>number_epoch</th>\n",
       "      <th>hidden_dim</th>\n",
       "      <th>n_layers</th>\n",
       "      <th>drop_prob</th>\n",
       "      <th>weight_decay</th>\n",
       "      <th>valid_loss</th>\n",
       "    </tr>\n",
       "  </thead>\n",
       "  <tbody>\n",
       "    <tr>\n",
       "      <th>4</th>\n",
       "      <td>512</td>\n",
       "      <td>0.01</td>\n",
       "      <td>30</td>\n",
       "      <td>32</td>\n",
       "      <td>3</td>\n",
       "      <td>0</td>\n",
       "      <td>0</td>\n",
       "      <td>0.003172</td>\n",
       "    </tr>\n",
       "    <tr>\n",
       "      <th>2</th>\n",
       "      <td>512</td>\n",
       "      <td>0.01</td>\n",
       "      <td>30</td>\n",
       "      <td>16</td>\n",
       "      <td>2</td>\n",
       "      <td>0</td>\n",
       "      <td>0</td>\n",
       "      <td>0.003172</td>\n",
       "    </tr>\n",
       "    <tr>\n",
       "      <th>5</th>\n",
       "      <td>512</td>\n",
       "      <td>0.01</td>\n",
       "      <td>30</td>\n",
       "      <td>32</td>\n",
       "      <td>2</td>\n",
       "      <td>0</td>\n",
       "      <td>0</td>\n",
       "      <td>0.003189</td>\n",
       "    </tr>\n",
       "    <tr>\n",
       "      <th>3</th>\n",
       "      <td>512</td>\n",
       "      <td>0.01</td>\n",
       "      <td>30</td>\n",
       "      <td>32</td>\n",
       "      <td>1</td>\n",
       "      <td>0</td>\n",
       "      <td>0</td>\n",
       "      <td>0.003190</td>\n",
       "    </tr>\n",
       "    <tr>\n",
       "      <th>0</th>\n",
       "      <td>512</td>\n",
       "      <td>0.01</td>\n",
       "      <td>30</td>\n",
       "      <td>16</td>\n",
       "      <td>3</td>\n",
       "      <td>0</td>\n",
       "      <td>0</td>\n",
       "      <td>0.003198</td>\n",
       "    </tr>\n",
       "    <tr>\n",
       "      <th>1</th>\n",
       "      <td>512</td>\n",
       "      <td>0.01</td>\n",
       "      <td>30</td>\n",
       "      <td>16</td>\n",
       "      <td>1</td>\n",
       "      <td>0</td>\n",
       "      <td>0</td>\n",
       "      <td>0.003235</td>\n",
       "    </tr>\n",
       "  </tbody>\n",
       "</table>\n",
       "</div>"
      ],
      "text/plain": [
       "   batch_size    lr  number_epoch  hidden_dim  n_layers  drop_prob  \\\n",
       "4         512  0.01            30          32         3          0   \n",
       "2         512  0.01            30          16         2          0   \n",
       "5         512  0.01            30          32         2          0   \n",
       "3         512  0.01            30          32         1          0   \n",
       "0         512  0.01            30          16         3          0   \n",
       "1         512  0.01            30          16         1          0   \n",
       "\n",
       "   weight_decay  valid_loss  \n",
       "4             0    0.003172  \n",
       "2             0    0.003172  \n",
       "5             0    0.003189  \n",
       "3             0    0.003190  \n",
       "0             0    0.003198  \n",
       "1             0    0.003235  "
      ]
     },
     "execution_count": 24,
     "metadata": {},
     "output_type": "execute_result"
    }
   ],
   "source": [
    "records = pd.DataFrame(records).sort_values(by='valid_loss')\n",
    "records.to_csv('./records/LSTM_records_without_features.csv', mode='a', index=False, header=False)\n",
    "records"
   ]
  },
  {
   "cell_type": "markdown",
   "id": "244519a9",
   "metadata": {},
   "source": [
    "## retrain a model"
   ]
  },
  {
   "cell_type": "code",
   "execution_count": 13,
   "id": "51a014e2",
   "metadata": {
    "ExecuteTime": {
     "end_time": "2022-01-09T08:17:20.702645Z",
     "start_time": "2022-01-09T08:17:20.681208Z"
    }
   },
   "outputs": [],
   "source": [
    "def train_model(train_x, train_y, valid_x, valid_y, input_size, output_size,\n",
    "                mse_thresh, batch_size, lr, number_epoch, hidden_dim, n_layers,\n",
    "                drop_prob, weight_decay):\n",
    "    while (1):\n",
    "        model = LSTM(input_size, output_size, hidden_dim, n_layers,\n",
    "                       drop_prob)\n",
    "        model.to(device=device)\n",
    "        criterion = nn.MSELoss()\n",
    "        optimizer = torch.optim.Adam(model.parameters(), lr=lr, weight_decay=weight_decay)\n",
    "        scheduler = torch.optim.lr_scheduler.StepLR(optimizer, 1, gamma=0.98)\n",
    "        valid_loss_min = np.Inf\n",
    "        train_dataset = TensorDataset(torch.FloatTensor(train_x),\n",
    "                                      torch.FloatTensor(train_y))\n",
    "        valid_dataset = TensorDataset(torch.FloatTensor(valid_x),\n",
    "                                      torch.FloatTensor(valid_y))\n",
    "        train_loader = DataLoader(dataset=train_dataset,\n",
    "                                  batch_size=batch_size,\n",
    "                                  shuffle=True,\n",
    "                                  drop_last=False)\n",
    "        valid_loader = DataLoader(dataset=valid_dataset,\n",
    "                                  batch_size=batch_size,\n",
    "                                  shuffle=True,\n",
    "                                  drop_last=False)\n",
    "        num_without_imp = 0\n",
    "        train_loss_list = []\n",
    "        valid_loss_list = []\n",
    "        # training process\n",
    "        for epoch in range(1, number_epoch + 1):\n",
    "            loop = tqdm(enumerate(train_loader),\n",
    "                        total=len(train_loader),\n",
    "                        leave=True, ncols=100)\n",
    "            for i, (inputs, labels) in loop:\n",
    "                inputs = inputs.to(device=device)\n",
    "                labels = labels.to(device=device)\n",
    "                optimizer.zero_grad()\n",
    "                outputs = model(inputs)\n",
    "                loss = criterion(outputs, labels)\n",
    "                loss.backward()\n",
    "                optimizer.step()\n",
    "                if i % 5 == 0:\n",
    "                    num_without_imp = num_without_imp + 1\n",
    "                    valid_losses = list()\n",
    "                    model.eval()\n",
    "                    for inp, lab in valid_loader:\n",
    "                        inp = inp.to(device)\n",
    "                        lab = lab.to(device)\n",
    "                        out = model(inp)\n",
    "                        valid_loss = criterion(out, lab)\n",
    "                        valid_losses.append(valid_loss.item())\n",
    "\n",
    "                    model.train()\n",
    "                    loop.set_description(\"Epoch: {}/{}\".format(\n",
    "                        epoch, number_epoch))\n",
    "                    loop.set_postfix(train_loss=loss.item(),\n",
    "                                     valid_loss=np.mean(valid_losses))\n",
    "                    \n",
    "                    train_loss_list.append(loss.item())\n",
    "                    valid_loss_list.append(np.mean(valid_losses))\n",
    "                    if np.mean(valid_losses) < valid_loss_min:\n",
    "                        num_without_imp = 0\n",
    "                        torch.save(model.state_dict(),\n",
    "                                   './model/LSTM_without_features_state_dict.pt')\n",
    "                        valid_loss_min = np.mean(valid_losses)\n",
    "            scheduler.step()\n",
    "        if valid_loss_min < mse_thresh:\n",
    "            break\n",
    "    return model, train_loss_list, valid_loss_list"
   ]
  },
  {
   "cell_type": "markdown",
   "id": "5b060d77",
   "metadata": {},
   "source": [
    "## test results"
   ]
  },
  {
   "cell_type": "code",
   "execution_count": 18,
   "id": "de6b0834",
   "metadata": {
    "ExecuteTime": {
     "end_time": "2022-01-09T08:20:31.370855Z",
     "start_time": "2022-01-09T08:20:31.351311Z"
    }
   },
   "outputs": [],
   "source": [
    "def test_model(model, test_x, test_y, scaler_y, batch_size):\n",
    "    test_dataset = TensorDataset(torch.FloatTensor(test_x),\n",
    "                                 torch.FloatTensor(test_y))\n",
    "    test_loader = DataLoader(dataset=test_dataset,\n",
    "                             batch_size=batch_size,\n",
    "                             shuffle=False,\n",
    "                             drop_last=False)\n",
    "    model.load_state_dict(torch.load('./model/LSTM_without_features_state_dict.pt'))\n",
    "    y_pred = []\n",
    "    y_true = []\n",
    "    with torch.no_grad():\n",
    "        for inputs, label in test_loader:\n",
    "            inputs = inputs.to(device)\n",
    "            label = label.to(device)\n",
    "            outputs = model(inputs)\n",
    "            y_pred += outputs.cpu().numpy().flatten().tolist()\n",
    "            y_true += label.cpu().numpy().flatten().tolist()\n",
    "    y_pred = np.array(y_pred).reshape(-1, 1)\n",
    "    y_true = np.array(y_true).reshape(-1, 1)\n",
    "#     pdb.set_trace()\n",
    "    load_pred = scaler_y.inverse_transform(y_pred)\n",
    "    load_true = scaler_y.inverse_transform(y_true)\n",
    "    \n",
    "    mean_pred = np.mean(load_pred)\n",
    "    mean_true = np.mean(load_true)\n",
    "    MAPE = np.mean(np.abs(load_true - load_pred) / load_true)\n",
    "    SMAPE = 2 * np.mean(\n",
    "        np.abs(load_true - load_pred) / (load_true + load_pred))\n",
    "    MAE = np.mean(np.abs(load_true - load_pred))\n",
    "    RMSE = np.sqrt(np.mean(np.square(load_true - load_pred)))\n",
    "    RRSE = np.sqrt(np.sum(np.square(load_true - load_pred))) / np.sqrt(\n",
    "        np.sum(np.square(load_true - mean_true)))\n",
    "    CORR = np.mean(\n",
    "        np.sum((load_true - mean_true) * (load_pred - mean_pred)) /\n",
    "        np.sqrt(np.sum(\n",
    "            (load_true - mean_true)**2 * (load_pred - mean_pred)**2)))\n",
    "    return MAPE, SMAPE, MAE, RMSE, RRSE, CORR, load_pred, load_true"
   ]
  },
  {
   "cell_type": "markdown",
   "id": "65fac6ca",
   "metadata": {},
   "source": [
    "## run model retraining"
   ]
  },
  {
   "cell_type": "code",
   "execution_count": 15,
   "id": "09bd6183",
   "metadata": {
    "ExecuteTime": {
     "end_time": "2022-01-09T08:17:23.538250Z",
     "start_time": "2022-01-09T08:17:23.522418Z"
    }
   },
   "outputs": [],
   "source": [
    "def run_model_retraining(seq_len=seq_len,\n",
    "                         target_len=target_len,\n",
    "                         mse_thresh=mse_thresh):\n",
    "    train_data = data[:int(0.8 * len(data))]\n",
    "    #     train_data = data[:-800]\n",
    "    train_data, scaler, scaler_y = normalization(train_data)\n",
    "    train_x, train_y = series_to_supervise(train_data, seq_len, target_len)\n",
    "\n",
    "    valid_x = train_x[int(0.8 * len(train_x)):]\n",
    "    valid_y = train_y[int(0.8 * len(train_y)):]\n",
    "    train_x = train_x[:int(0.8 * len(train_x))]\n",
    "    train_y = train_y[:int(0.8 * len(train_y))]\n",
    "    input_size = train_x.shape[2]\n",
    "    output_size = target_len\n",
    "\n",
    "    #     hyper-parameters define\n",
    "    batch_size = 512\n",
    "    lr = 0.01\n",
    "    number_epoch = 80\n",
    "    hidden_dim = 32\n",
    "    n_layers = 4\n",
    "    drop_prob = 0\n",
    "    weight_decay = 0\n",
    "    mse_thresh = 0.01\n",
    "\n",
    "    model, train_loss_list, valid_loss_list = train_model(\n",
    "        train_x, train_y, valid_x, valid_y, input_size, output_size,\n",
    "        mse_thresh, batch_size, lr, number_epoch, hidden_dim, n_layers,\n",
    "        drop_prob, weight_decay)\n",
    "\n",
    "    # plot training process\n",
    "    plt.plot(train_loss_list[10:], 'm', label='train_loss')\n",
    "    plt.plot(valid_loss_list[10:], 'g', label='valid_loss')\n",
    "    plt.grid('both')\n",
    "    plt.legend()\n",
    "\n",
    "    # test\n",
    "    test_data = data[int(0.8 * len(data)):]\n",
    "    #     test_data = data[-800:]\n",
    "    test_data = scaler.transform(test_data)\n",
    "    test_x, test_y = series_to_supervise(test_data, seq_len, target_len)\n",
    "    MAPE, SMAPE, MAE, RMSE, RRSE, CORR, load_pred, load_true = test_model(\n",
    "        model, test_x, test_y, scaler_y, batch_size)\n",
    "    return MAPE, SMAPE, MAE, RMSE, RRSE, CORR, load_pred, load_true"
   ]
  },
  {
   "cell_type": "code",
   "execution_count": 20,
   "id": "b912cd40",
   "metadata": {
    "ExecuteTime": {
     "end_time": "2022-01-09T08:23:08.866725Z",
     "start_time": "2022-01-09T08:20:41.502417Z"
    }
   },
   "outputs": [
    {
     "name": "stdout",
     "output_type": "stream",
     "text": [
      "supervised data: shape of x: (25232, 72, 1), shape of y: (25232, 24)\n"
     ]
    },
    {
     "name": "stderr",
     "output_type": "stream",
     "text": [
      "Epoch: 1/80: 100%|████████████| 40/40 [00:01<00:00, 22.39it/s, train_loss=0.0298, valid_loss=0.0354]\n",
      "Epoch: 2/80: 100%|████████████| 40/40 [00:01<00:00, 21.69it/s, train_loss=0.0313, valid_loss=0.0341]\n",
      "Epoch: 3/80: 100%|████████████| 40/40 [00:01<00:00, 22.38it/s, train_loss=0.0304, valid_loss=0.0338]\n",
      "Epoch: 4/80: 100%|████████████| 40/40 [00:01<00:00, 21.35it/s, train_loss=0.0134, valid_loss=0.0216]\n",
      "Epoch: 5/80: 100%|██████████| 40/40 [00:01<00:00, 22.13it/s, train_loss=0.00311, valid_loss=0.00436]\n",
      "Epoch: 6/80: 100%|██████████| 40/40 [00:01<00:00, 21.58it/s, train_loss=0.00254, valid_loss=0.00327]\n",
      "Epoch: 7/80: 100%|██████████| 40/40 [00:01<00:00, 21.09it/s, train_loss=0.00215, valid_loss=0.00312]\n",
      "Epoch: 8/80: 100%|██████████| 40/40 [00:01<00:00, 21.54it/s, train_loss=0.00219, valid_loss=0.00304]\n",
      "Epoch: 9/80: 100%|██████████| 40/40 [00:01<00:00, 21.26it/s, train_loss=0.00207, valid_loss=0.00305]\n",
      "Epoch: 10/80: 100%|███████████| 40/40 [00:01<00:00, 22.27it/s, train_loss=0.00203, valid_loss=0.003]\n",
      "Epoch: 11/80: 100%|█████████| 40/40 [00:01<00:00, 22.31it/s, train_loss=0.00273, valid_loss=0.00309]\n",
      "Epoch: 12/80: 100%|███████████| 40/40 [00:01<00:00, 21.61it/s, train_loss=0.00209, valid_loss=0.003]\n",
      "Epoch: 13/80: 100%|█████████| 40/40 [00:01<00:00, 22.46it/s, train_loss=0.00198, valid_loss=0.00299]\n",
      "Epoch: 14/80: 100%|██████████| 40/40 [00:01<00:00, 22.14it/s, train_loss=0.0021, valid_loss=0.00304]\n",
      "Epoch: 15/80: 100%|█████████| 40/40 [00:01<00:00, 21.73it/s, train_loss=0.00195, valid_loss=0.00302]\n",
      "Epoch: 16/80: 100%|█████████| 40/40 [00:01<00:00, 21.07it/s, train_loss=0.00215, valid_loss=0.00299]\n",
      "Epoch: 17/80: 100%|█████████| 40/40 [00:01<00:00, 21.71it/s, train_loss=0.00206, valid_loss=0.00303]\n",
      "Epoch: 18/80: 100%|███████████| 40/40 [00:01<00:00, 22.23it/s, train_loss=0.00216, valid_loss=0.003]\n",
      "Epoch: 19/80: 100%|█████████| 40/40 [00:01<00:00, 21.65it/s, train_loss=0.00202, valid_loss=0.00304]\n",
      "Epoch: 20/80: 100%|█████████| 40/40 [00:01<00:00, 21.82it/s, train_loss=0.00211, valid_loss=0.00301]\n",
      "Epoch: 21/80: 100%|█████████| 40/40 [00:01<00:00, 21.36it/s, train_loss=0.00187, valid_loss=0.00302]\n",
      "Epoch: 22/80: 100%|█████████| 40/40 [00:01<00:00, 21.89it/s, train_loss=0.00216, valid_loss=0.00319]\n",
      "Epoch: 23/80: 100%|█████████| 40/40 [00:01<00:00, 22.14it/s, train_loss=0.00205, valid_loss=0.00296]\n",
      "Epoch: 24/80: 100%|█████████| 40/40 [00:01<00:00, 21.28it/s, train_loss=0.00197, valid_loss=0.00302]\n",
      "Epoch: 25/80: 100%|███████████| 40/40 [00:01<00:00, 21.86it/s, train_loss=0.00228, valid_loss=0.003]\n",
      "Epoch: 26/80: 100%|██████████| 40/40 [00:01<00:00, 21.15it/s, train_loss=0.0021, valid_loss=0.00297]\n",
      "Epoch: 27/80: 100%|█████████| 40/40 [00:01<00:00, 21.94it/s, train_loss=0.00201, valid_loss=0.00297]\n",
      "Epoch: 28/80: 100%|█████████| 40/40 [00:01<00:00, 21.04it/s, train_loss=0.00212, valid_loss=0.00295]\n",
      "Epoch: 29/80: 100%|█████████| 40/40 [00:01<00:00, 21.72it/s, train_loss=0.00223, valid_loss=0.00297]\n",
      "Epoch: 30/80: 100%|█████████| 40/40 [00:01<00:00, 21.89it/s, train_loss=0.00197, valid_loss=0.00304]\n",
      "Epoch: 31/80: 100%|█████████| 40/40 [00:01<00:00, 21.34it/s, train_loss=0.00208, valid_loss=0.00299]\n",
      "Epoch: 32/80: 100%|█████████| 40/40 [00:01<00:00, 22.06it/s, train_loss=0.00211, valid_loss=0.00302]\n",
      "Epoch: 33/80: 100%|█████████| 40/40 [00:01<00:00, 21.06it/s, train_loss=0.00193, valid_loss=0.00295]\n",
      "Epoch: 34/80: 100%|█████████| 40/40 [00:01<00:00, 21.60it/s, train_loss=0.00217, valid_loss=0.00307]\n",
      "Epoch: 35/80: 100%|█████████| 40/40 [00:01<00:00, 21.43it/s, train_loss=0.00228, valid_loss=0.00295]\n",
      "Epoch: 36/80: 100%|█████████| 40/40 [00:01<00:00, 22.13it/s, train_loss=0.00197, valid_loss=0.00301]\n",
      "Epoch: 37/80: 100%|█████████| 40/40 [00:01<00:00, 21.86it/s, train_loss=0.00194, valid_loss=0.00298]\n",
      "Epoch: 38/80: 100%|█████████| 40/40 [00:01<00:00, 21.48it/s, train_loss=0.00221, valid_loss=0.00295]\n",
      "Epoch: 39/80: 100%|█████████| 40/40 [00:01<00:00, 21.98it/s, train_loss=0.00223, valid_loss=0.00297]\n",
      "Epoch: 40/80: 100%|███████████| 40/40 [00:01<00:00, 20.97it/s, train_loss=0.002, valid_loss=0.00295]\n",
      "Epoch: 41/80: 100%|█████████| 40/40 [00:01<00:00, 22.00it/s, train_loss=0.00194, valid_loss=0.00305]\n",
      "Epoch: 42/80: 100%|█████████| 40/40 [00:01<00:00, 21.04it/s, train_loss=0.00233, valid_loss=0.00303]\n",
      "Epoch: 43/80: 100%|█████████| 40/40 [00:01<00:00, 22.20it/s, train_loss=0.00231, valid_loss=0.00296]\n",
      "Epoch: 44/80: 100%|██████████| 40/40 [00:01<00:00, 22.02it/s, train_loss=0.00189, valid_loss=0.0032]\n",
      "Epoch: 45/80: 100%|█████████| 40/40 [00:01<00:00, 21.74it/s, train_loss=0.00219, valid_loss=0.00297]\n",
      "Epoch: 46/80: 100%|█████████| 40/40 [00:01<00:00, 22.16it/s, train_loss=0.00197, valid_loss=0.00298]\n",
      "Epoch: 47/80: 100%|█████████| 40/40 [00:01<00:00, 21.40it/s, train_loss=0.00218, valid_loss=0.00299]\n",
      "Epoch: 48/80: 100%|█████████| 40/40 [00:01<00:00, 22.04it/s, train_loss=0.00208, valid_loss=0.00299]\n",
      "Epoch: 49/80: 100%|█████████| 40/40 [00:01<00:00, 21.10it/s, train_loss=0.00178, valid_loss=0.00302]\n",
      "Epoch: 50/80: 100%|█████████| 40/40 [00:01<00:00, 21.86it/s, train_loss=0.00245, valid_loss=0.00309]\n",
      "Epoch: 51/80: 100%|███████████| 40/40 [00:01<00:00, 21.85it/s, train_loss=0.00244, valid_loss=0.003]\n",
      "Epoch: 52/80: 100%|█████████| 40/40 [00:01<00:00, 21.52it/s, train_loss=0.00227, valid_loss=0.00306]\n",
      "Epoch: 53/80: 100%|███████████| 40/40 [00:01<00:00, 22.18it/s, train_loss=0.00213, valid_loss=0.003]\n",
      "Epoch: 54/80: 100%|█████████| 40/40 [00:01<00:00, 21.33it/s, train_loss=0.00234, valid_loss=0.00295]\n",
      "Epoch: 55/80: 100%|█████████| 40/40 [00:01<00:00, 22.10it/s, train_loss=0.00268, valid_loss=0.00297]\n",
      "Epoch: 56/80: 100%|█████████| 40/40 [00:01<00:00, 21.23it/s, train_loss=0.00206, valid_loss=0.00291]\n",
      "Epoch: 57/80: 100%|█████████| 40/40 [00:01<00:00, 22.08it/s, train_loss=0.00175, valid_loss=0.00303]\n",
      "Epoch: 58/80: 100%|█████████| 40/40 [00:01<00:00, 22.15it/s, train_loss=0.00218, valid_loss=0.00296]\n",
      "Epoch: 59/80: 100%|█████████| 40/40 [00:01<00:00, 21.61it/s, train_loss=0.00199, valid_loss=0.00291]\n",
      "Epoch: 60/80: 100%|█████████| 40/40 [00:01<00:00, 21.53it/s, train_loss=0.00203, valid_loss=0.00291]\n",
      "Epoch: 61/80: 100%|█████████| 40/40 [00:01<00:00, 21.41it/s, train_loss=0.00224, valid_loss=0.00293]\n",
      "Epoch: 62/80: 100%|█████████| 40/40 [00:01<00:00, 22.03it/s, train_loss=0.00191, valid_loss=0.00296]\n",
      "Epoch: 63/80: 100%|█████████| 40/40 [00:01<00:00, 21.34it/s, train_loss=0.00225, valid_loss=0.00293]\n",
      "Epoch: 64/80: 100%|█████████| 40/40 [00:01<00:00, 22.10it/s, train_loss=0.00214, valid_loss=0.00294]\n",
      "Epoch: 65/80: 100%|█████████| 40/40 [00:01<00:00, 21.82it/s, train_loss=0.00194, valid_loss=0.00293]\n",
      "Epoch: 66/80: 100%|█████████| 40/40 [00:01<00:00, 21.70it/s, train_loss=0.00195, valid_loss=0.00294]\n",
      "Epoch: 67/80: 100%|█████████| 40/40 [00:01<00:00, 22.28it/s, train_loss=0.00221, valid_loss=0.00296]\n",
      "Epoch: 68/80: 100%|██████████| 40/40 [00:01<00:00, 21.21it/s, train_loss=0.0025, valid_loss=0.00294]\n",
      "Epoch: 69/80: 100%|█████████| 40/40 [00:01<00:00, 22.08it/s, train_loss=0.00197, valid_loss=0.00294]\n",
      "Epoch: 70/80: 100%|█████████| 40/40 [00:01<00:00, 21.95it/s, train_loss=0.00214, valid_loss=0.00303]\n",
      "Epoch: 71/80: 100%|█████████| 40/40 [00:01<00:00, 22.36it/s, train_loss=0.00241, valid_loss=0.00291]\n",
      "Epoch: 72/80: 100%|█████████| 40/40 [00:01<00:00, 23.48it/s, train_loss=0.00217, valid_loss=0.00292]\n",
      "Epoch: 73/80: 100%|█████████| 40/40 [00:01<00:00, 22.49it/s, train_loss=0.00177, valid_loss=0.00296]\n",
      "Epoch: 74/80: 100%|█████████| 40/40 [00:01<00:00, 22.12it/s, train_loss=0.00217, valid_loss=0.00294]\n",
      "Epoch: 75/80: 100%|█████████| 40/40 [00:01<00:00, 20.77it/s, train_loss=0.00223, valid_loss=0.00292]\n",
      "Epoch: 76/80: 100%|█████████| 40/40 [00:01<00:00, 21.83it/s, train_loss=0.00223, valid_loss=0.00293]\n",
      "Epoch: 77/80: 100%|█████████| 40/40 [00:01<00:00, 22.43it/s, train_loss=0.00192, valid_loss=0.00292]\n",
      "Epoch: 78/80: 100%|█████████| 40/40 [00:01<00:00, 23.61it/s, train_loss=0.00175, valid_loss=0.00305]\n",
      "Epoch: 79/80: 100%|█████████| 40/40 [00:01<00:00, 22.24it/s, train_loss=0.00232, valid_loss=0.00305]\n",
      "Epoch: 80/80: 100%|█████████| 40/40 [00:01<00:00, 23.17it/s, train_loss=0.00201, valid_loss=0.00308]\n"
     ]
    },
    {
     "name": "stdout",
     "output_type": "stream",
     "text": [
      "supervised data: shape of x: (6237, 72, 1), shape of y: (6237, 24)\n",
      "MAPE:0.041616,SMAPE:0.041255,MAE:547.020307,RMSE:794.794323,RRSE:0.245913,CORR:259.384920\n"
     ]
    },
    {
     "data": {
      "image/png": "[encoded data removed]",
      "text/plain": [
       "<Figure size 432x288 with 1 Axes>"
      ]
     },
     "metadata": {
      "needs_background": "light"
     },
     "output_type": "display_data"
    }
   ],
   "source": [
    "torch.random.manual_seed(0)\n",
    "torch.cuda.random.manual_seed(0)\n",
    "MAPE, SMAPE, MAE, RMSE, RRSE, CORR, load_pred, load_true = run_model_retraining()\n",
    "print('MAPE:{:.6f},SMAPE:{:.6f},MAE:{:.6f},RMSE:{:.6f},RRSE:{:.6f},CORR:{:.6f}'.format(MAPE, SMAPE, MAE, RMSE, RRSE, CORR))"
   ]
  },
  {
   "cell_type": "code",
   "execution_count": 21,
   "id": "89ab54df",
   "metadata": {
    "ExecuteTime": {
     "end_time": "2022-01-09T08:23:08.873521Z",
     "start_time": "2022-01-09T08:23:08.868975Z"
    }
   },
   "outputs": [
    {
     "name": "stdout",
     "output_type": "stream",
     "text": [
      "MAPE:0.041616,SMAPE:0.041255,MAE:547.020307,RMSE:794.794323,RRSE:0.245913,CORR:259.384920\n"
     ]
    }
   ],
   "source": [
    "print('MAPE:{:.6f},SMAPE:{:.6f},MAE:{:.6f},RMSE:{:.6f},RRSE:{:.6f},CORR:{:.6f}'.format(MAPE, SMAPE, MAE, RMSE, RRSE, CORR))"
   ]
  },
  {
   "cell_type": "markdown",
   "id": "2cb53c49",
   "metadata": {},
   "source": [
    "## figure plot"
   ]
  },
  {
   "cell_type": "code",
   "execution_count": 22,
   "id": "97a19531",
   "metadata": {
    "ExecuteTime": {
     "end_time": "2022-01-09T08:23:09.020616Z",
     "start_time": "2022-01-09T08:23:08.874863Z"
    }
   },
   "outputs": [
    {
     "data": {
      "text/plain": [
       "(0.0, 19444.974575360775)"
      ]
     },
     "execution_count": 22,
     "metadata": {},
     "output_type": "execute_result"
    },
    {
     "data": {
      "image/png": "[encoded data removed]",
      "text/plain": [
       "<Figure size 1440x720 with 1 Axes>"
      ]
     },
     "metadata": {
      "needs_background": "light"
     },
     "output_type": "display_data"
    }
   ],
   "source": [
    "plt.figure(figsize=(20, 10))\n",
    "load_pred = load_pred.reshape(-1, target_len)\n",
    "load_true = load_true.reshape(-1, target_len)\n",
    "plt.plot(load_pred[:240,0], 'r')\n",
    "plt.plot(load_true[:240,0], 'g')\n",
    "plt.ylim(0)"
   ]
  }
 ],
 "metadata": {
  "kernelspec": {
   "display_name": "Python 3 (ipykernel)",
   "language": "python",
   "name": "python3"
  },
  "language_info": {
   "codemirror_mode": {
    "name": "ipython",
    "version": 3
   },
   "file_extension": ".py",
   "mimetype": "text/x-python",
   "name": "python",
   "nbconvert_exporter": "python",
   "pygments_lexer": "ipython3",
   "version": "3.8.12"
  },
  "toc": {
   "base_numbering": 1,
   "nav_menu": {},
   "number_sections": true,
   "sideBar": true,
   "skip_h1_title": false,
   "title_cell": "Table of Contents",
   "title_sidebar": "Contents",
   "toc_cell": false,
   "toc_position": {
    "height": "calc(100% - 180px)",
    "left": "10px",
    "top": "150px",
    "width": "374.391px"
   },
   "toc_section_display": true,
   "toc_window_display": true
  },
  "varInspector": {
   "cols": {
    "lenName": 16,
    "lenType": 16,
    "lenVar": 40
   },
   "kernels_config": {
    "python": {
     "delete_cmd_postfix": "",
     "delete_cmd_prefix": "del ",
     "library": "var_list.py",
     "varRefreshCmd": "print(var_dic_list())"
    },
    "r": {
     "delete_cmd_postfix": ") ",
     "delete_cmd_prefix": "rm(",
     "library": "var_list.r",
     "varRefreshCmd": "cat(var_dic_list()) "
    }
   },
   "oldHeight": 320.844,
   "position": {
    "height": "342.844px",
    "left": "1482px",
    "right": "20px",
    "top": "127px",
    "width": "350px"
   },
   "types_to_exclude": [
    "module",
    "function",
    "builtin_function_or_method",
    "instance",
    "_Feature"
   ],
   "varInspector_section_display": "block",
   "window_display": false
  }
 },
 "nbformat": 4,
 "nbformat_minor": 5
}
