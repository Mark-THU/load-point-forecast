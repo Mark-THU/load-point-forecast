{
 "cells": [
  {
   "cell_type": "markdown",
   "id": "4442a777",
   "metadata": {},
   "source": [
    "# CNN-RNN for forecast"
   ]
  },
  {
   "cell_type": "code",
   "execution_count": 61,
   "id": "1dbe00a9",
   "metadata": {
    "ExecuteTime": {
     "end_time": "2022-01-02T13:26:36.283287Z",
     "start_time": "2022-01-02T13:26:36.274281Z"
    }
   },
   "outputs": [],
   "source": [
    "import pandas as pd\n",
    "import numpy as np\n",
    "import matplotlib.pyplot as plt\n",
    "import pdb\n",
    "import torch\n",
    "import torch.nn as nn\n",
    "import random\n",
    "\n",
    "from sklearn.preprocessing import MinMaxScaler\n",
    "from sklearn.model_selection import train_test_split, TimeSeriesSplit\n",
    "from torch.autograd import Variable\n",
    "from torch.utils.data import TensorDataset, DataLoader\n",
    "from tqdm import tqdm\n",
    "from torchsummary import summary\n",
    "\n",
    "if torch.cuda.is_available():  \n",
    "    dev = \"cuda:0\" \n",
    "else:  \n",
    "    dev = \"cpu\"\n",
    "device = torch.device(dev)"
   ]
  },
  {
   "cell_type": "code",
   "execution_count": 62,
   "id": "979cbf95",
   "metadata": {
    "ExecuteTime": {
     "end_time": "2022-01-02T13:26:36.291638Z",
     "start_time": "2022-01-02T13:26:36.286526Z"
    }
   },
   "outputs": [],
   "source": [
    "def random_seed_set(seed):\n",
    "    np.random.seed(seed)\n",
    "    torch.random.manual_seed(seed)\n",
    "    torch.cuda.random.manual_seed(seed)\n",
    "    torch.backends.cudnn.benchmark = False\n",
    "    torch.backends.cudnn.deterministic = True"
   ]
  },
  {
   "cell_type": "markdown",
   "id": "a84bdbe3",
   "metadata": {},
   "source": [
    "## load data"
   ]
  },
  {
   "cell_type": "code",
   "execution_count": 63,
   "id": "19f66d16",
   "metadata": {
    "ExecuteTime": {
     "end_time": "2022-01-02T13:26:36.354293Z",
     "start_time": "2022-01-02T13:26:36.293943Z"
    }
   },
   "outputs": [],
   "source": [
    "url = '../data/beijing.csv'\n",
    "data = pd.read_csv(url, sep=',', index_col='time')\n",
    "data.index = pd.to_datetime(data.index)"
   ]
  },
  {
   "cell_type": "markdown",
   "id": "e7544d42",
   "metadata": {},
   "source": [
    "## normalization"
   ]
  },
  {
   "cell_type": "code",
   "execution_count": 64,
   "id": "ca02a630",
   "metadata": {
    "ExecuteTime": {
     "end_time": "2022-01-02T13:26:36.359448Z",
     "start_time": "2022-01-02T13:26:36.356185Z"
    }
   },
   "outputs": [],
   "source": [
    "def normalization(data):\n",
    "    \"\"\"\n",
    "    data: original data with load\n",
    "    return: normalized data, scaler of load\n",
    "    \"\"\"\n",
    "    scaler = MinMaxScaler()\n",
    "    normalized_data = scaler.fit_transform(data)\n",
    "    scaler_y = MinMaxScaler()\n",
    "    scaler_y.fit_transform(data[[data.columns[-1]]])\n",
    "    return normalized_data, scaler, scaler_y"
   ]
  },
  {
   "cell_type": "markdown",
   "id": "e6693afc",
   "metadata": {
    "ExecuteTime": {
     "end_time": "2021-12-22T07:45:44.192666Z",
     "start_time": "2021-12-22T07:45:44.188985Z"
    }
   },
   "source": [
    "## build supervised dataset"
   ]
  },
  {
   "cell_type": "code",
   "execution_count": 65,
   "id": "5dc147a4",
   "metadata": {
    "ExecuteTime": {
     "end_time": "2022-01-02T13:26:36.364970Z",
     "start_time": "2022-01-02T13:26:36.361034Z"
    }
   },
   "outputs": [],
   "source": [
    "def series_to_supervise(data, seq_len, target_len):\n",
    "    \"\"\"\n",
    "    convert series data to supervised data\n",
    "    :param data: original data\n",
    "    :param seq_len: length of input sequence\n",
    "    :param target_len: length of ouput sequence\n",
    "    :return: return two ndarrays-- input and output in format suitable to feed to RNN\n",
    "    \"\"\"\n",
    "    dim_0 = data.shape[0] - seq_len - target_len + 1\n",
    "    dim_1 = data.shape[1]\n",
    "    x = np.zeros((dim_0, seq_len, dim_1))\n",
    "    y = np.zeros((dim_0, target_len))\n",
    "    for i in range(dim_0):\n",
    "        x[i] = data[i:i + seq_len]\n",
    "        y[i] = data[i + seq_len:i + seq_len + target_len, -1]\n",
    "    print(\"supervised data: shape of x: {}, shape of y: {}\".format(x.shape, y.shape))\n",
    "    return x, y"
   ]
  },
  {
   "cell_type": "markdown",
   "id": "27ce793a",
   "metadata": {},
   "source": [
    "## 5-folds TimeSeriesSplit"
   ]
  },
  {
   "cell_type": "code",
   "execution_count": 66,
   "id": "20382348",
   "metadata": {
    "ExecuteTime": {
     "end_time": "2022-01-02T13:26:36.370048Z",
     "start_time": "2022-01-02T13:26:36.366231Z"
    }
   },
   "outputs": [],
   "source": [
    "def time_series_split(X, Y, n_split=5):\n",
    "    \"\"\"\n",
    "    X: features, size * seq_len * feature_num\n",
    "    Y: labels, size * target_len\n",
    "    return: list of train_x, test_x, train_y, test_y\n",
    "    \"\"\"\n",
    "    tscv = TimeSeriesSplit(n_splits=n_split)\n",
    "    train_x_list = list()\n",
    "    valid_x_list = list()\n",
    "    train_y_list = list()\n",
    "    valid_y_list = list()\n",
    "    for train_index, valid_index in tscv.split(X):\n",
    "        train_x_list.append(X[train_index])\n",
    "        train_y_list.append(Y[train_index])\n",
    "        valid_x_list.append(X[valid_index])\n",
    "        valid_y_list.append(Y[valid_index])\n",
    "    return train_x_list, train_y_list, valid_x_list, valid_y_list"
   ]
  },
  {
   "cell_type": "markdown",
   "id": "4eed53d9",
   "metadata": {},
   "source": [
    "## CNN-RNN model"
   ]
  },
  {
   "cell_type": "markdown",
   "id": "d3e5f754",
   "metadata": {},
   "source": [
    "### define model"
   ]
  },
  {
   "cell_type": "code",
   "execution_count": 92,
   "id": "86160711",
   "metadata": {
    "ExecuteTime": {
     "end_time": "2022-01-03T03:31:33.696665Z",
     "start_time": "2022-01-03T03:31:33.677598Z"
    }
   },
   "outputs": [],
   "source": [
    "class CNN_RNN(nn.Module):\n",
    "    def __init__(self, input_size, output_size, hidden_dim, n_layers,\n",
    "                 drop_prob):\n",
    "        super(CNN_RNN, self).__init__()\n",
    "        # layers\n",
    "        cnn_1 = nn.Conv1d(input_size, 16, kernel_size=5)\n",
    "        cnn_1 = nn.Conv1d(16, 16, kernel_size=5, padding=1)\n",
    "        cnn_2 = nn.Conv1d(16, 32, kernel_size=5, stride=2)\n",
    "        cnn_3 = nn.Conv1d(32, 32, kernel_size=3)\n",
    "        cnn_4 = nn.Conv1d(32, 64, kernel_size=3, stride=2)\n",
    "                          \n",
    "        self.cnn = nn.Sequential(cnn_1, nn.ReLU(), cnn_2, nn.ReLU(), cnn_3, nn.ReLU(), cnn_4, nn.ReLU())\n",
    "        self.dropout = nn.Dropout(drop_prob)\n",
    "        self.rnn = nn.GRU(input_size=64, hidden_size=hidden_dim, num_layers=n_layers, dropout=drop_prob)\n",
    "        self.dense = nn.Sequential()\n",
    "        \n",
    "        input_size = hidden_dim\n",
    "        i = 0\n",
    "        while (input_size > 32):\n",
    "            self.dense.add_module('linear{}'.format(i),\n",
    "                               nn.Linear(input_size, round(input_size / 2)))\n",
    "            self.dense.add_module('relu{}'.format(i), nn.ReLU())\n",
    "            input_size = round(input_size / 2)\n",
    "            i += 1\n",
    "        self.dense.add_module('linear{}'.format(i), nn.Linear(input_size, output_size))\n",
    "        \n",
    "    def forward(self, X):\n",
    "        # X shape (batch_size, num_steps, input_size)\n",
    "        X = X.permute(0, 2, 1)\n",
    "        # X shape (batch_size, input_size, num_steps)\n",
    "        cnn_out = self.cnn(X)\n",
    "        # cnn_out shape (batch_size, 64, 15)\n",
    "        cnn_out = cnn_out.permute(2, 0, 1)\n",
    "        cnn_out = self.dropout(cnn_out)\n",
    "        # cnn_out shape (15, batch_size, 64)\n",
    "        rnn_out, _ = self.rnn(cnn_out)\n",
    "        # rnn_out shape (15, batch_size, hidden_dim)\n",
    "        rnn_out = rnn_out[-1, :, :]\n",
    "        # rnn_out shape (batch_size, hidden_dim)\n",
    "        out = self.dense(rnn_out)\n",
    "        # out shape (batch_size, output_size)\n",
    "        return out"
   ]
  },
  {
   "cell_type": "markdown",
   "id": "59ad0a79",
   "metadata": {},
   "source": [
    "### test model"
   ]
  },
  {
   "cell_type": "code",
   "execution_count": 86,
   "id": "76d291b1",
   "metadata": {
    "ExecuteTime": {
     "end_time": "2022-01-03T03:17:11.537350Z",
     "start_time": "2022-01-03T03:17:11.505412Z"
    }
   },
   "outputs": [
    {
     "name": "stdout",
     "output_type": "stream",
     "text": [
      "torch.Size([10, 24])\n",
      "----------------------------------------------------------------\n",
      "        Layer (type)               Output Shape         Param #\n",
      "================================================================\n",
      "            Conv1d-1               [-1, 16, 70]           1,296\n",
      "              ReLU-2               [-1, 16, 70]               0\n",
      "            Conv1d-3               [-1, 32, 33]           2,592\n",
      "              ReLU-4               [-1, 32, 33]               0\n",
      "            Conv1d-5               [-1, 32, 31]           3,104\n",
      "              ReLU-6               [-1, 32, 31]               0\n",
      "            Conv1d-7               [-1, 64, 15]           6,208\n",
      "              ReLU-8               [-1, 64, 15]               0\n",
      "           Dropout-9                [-1, 2, 64]               0\n",
      "              GRU-10  [[-1, 2, 128], [-1, 2, 128]]               0\n",
      "           Linear-11                   [-1, 64]           8,256\n",
      "             ReLU-12                   [-1, 64]               0\n",
      "           Linear-13                   [-1, 32]           2,080\n",
      "             ReLU-14                   [-1, 32]               0\n",
      "           Linear-15                   [-1, 24]             792\n",
      "================================================================\n",
      "Total params: 24,328\n",
      "Trainable params: 24,328\n",
      "Non-trainable params: 0\n",
      "----------------------------------------------------------------\n",
      "Input size (MB): 0.00\n",
      "Forward/backward pass size (MB): 0.43\n",
      "Params size (MB): 0.09\n",
      "Estimated Total Size (MB): 0.53\n",
      "----------------------------------------------------------------\n"
     ]
    }
   ],
   "source": [
    "model = CNN_RNN(16, 24, 128, 2, 0.5).to(device)\n",
    "X = torch.randn(10, 72, 16).to(device)\n",
    "out = model(X)\n",
    "print(out.shape)\n",
    "summary(model, (72, 16))"
   ]
  },
  {
   "cell_type": "markdown",
   "id": "17ae9e7c",
   "metadata": {
    "ExecuteTime": {
     "end_time": "2021-12-22T08:30:19.661769Z",
     "start_time": "2021-12-22T08:30:19.656770Z"
    }
   },
   "source": [
    "## model training for HPO"
   ]
  },
  {
   "cell_type": "code",
   "execution_count": 69,
   "id": "a22ef6fd",
   "metadata": {
    "ExecuteTime": {
     "end_time": "2022-01-02T13:26:36.413879Z",
     "start_time": "2022-01-02T13:26:36.403447Z"
    }
   },
   "outputs": [],
   "source": [
    "def train_model_hpo(train_x_list, train_y_list, valid_x_list, valid_y_list,\n",
    "                    input_size, output_size, mse_thresh, batch_size, lr,\n",
    "                    number_epoch, hidden_dim, n_layers, drop_prob, weight_decay):\n",
    "    valid_loss_list = []\n",
    "    for num in range(len(train_x_list)):\n",
    "        while (1):\n",
    "            model = CNN_RNN(input_size, output_size, hidden_dim, n_layers,\n",
    "                           drop_prob)\n",
    "            model.to(device=device)\n",
    "            criterion = nn.MSELoss()\n",
    "            optimizer = torch.optim.Adam(model.parameters(), lr=lr, weight_decay=weight_decay)\n",
    "            scheduler = torch.optim.lr_scheduler.StepLR(optimizer, 1, gamma=0.98)\n",
    "            valid_loss_min = np.Inf\n",
    "            print('cross-validation dataset {}'.format(num))\n",
    "            train_x = train_x_list[num]\n",
    "            train_y = train_y_list[num]\n",
    "            valid_x = valid_x_list[num]\n",
    "            valid_y = valid_y_list[num]\n",
    "            train_dataset = TensorDataset(torch.FloatTensor(train_x),\n",
    "                                          torch.FloatTensor(train_y))\n",
    "            valid_dataset = TensorDataset(torch.FloatTensor(valid_x),\n",
    "                                          torch.FloatTensor(valid_y))\n",
    "            train_loader = DataLoader(dataset=train_dataset,\n",
    "                                      batch_size=batch_size,\n",
    "                                      shuffle=True,\n",
    "                                      drop_last=False)\n",
    "            valid_loader = DataLoader(dataset=valid_dataset,\n",
    "                                      batch_size=batch_size,\n",
    "                                      shuffle=True,\n",
    "                                      drop_last=False)\n",
    "            num_without_imp = 0\n",
    "            # training process\n",
    "            for epoch in range(1, number_epoch + 1):\n",
    "                loop = tqdm(enumerate(train_loader),\n",
    "                            total=len(train_loader),\n",
    "                            leave=True, ncols=100)\n",
    "                for i, (inputs, labels) in loop:\n",
    "                    inputs = inputs.to(device=device)\n",
    "                    labels = labels.to(device=device)\n",
    "                    optimizer.zero_grad()\n",
    "                    outputs = model(inputs)\n",
    "                    loss = criterion(outputs, labels)\n",
    "                    loss.backward()\n",
    "                    optimizer.step()\n",
    "                    if i % 5 == 0:\n",
    "                        num_without_imp = num_without_imp + 1\n",
    "                        valid_losses = list()\n",
    "                        model.eval()\n",
    "                        for inp, lab in valid_loader:\n",
    "                            inp = inp.to(device)\n",
    "                            lab = lab.to(device)\n",
    "                            out = model(inp)\n",
    "                            valid_loss = criterion(out, lab)\n",
    "                            valid_losses.append(valid_loss.item())\n",
    "\n",
    "                        model.train()\n",
    "                        loop.set_description(\"Epoch: {}/{}\".format(\n",
    "                            epoch, number_epoch))\n",
    "                        loop.set_postfix(train_loss=loss.item(),\n",
    "                                         valid_loss=np.mean(valid_losses))\n",
    "                        if np.mean(valid_losses) < valid_loss_min:\n",
    "                            num_without_imp = 0\n",
    "                            valid_loss_min = np.mean(valid_losses)\n",
    "                scheduler.step()\n",
    "                if num_without_imp >= 50:\n",
    "#                     break\n",
    "                    pass\n",
    "            if valid_loss_min < mse_thresh:\n",
    "                valid_loss_list.append(valid_loss_min)\n",
    "                break\n",
    "    return np.mean(valid_loss_list)"
   ]
  },
  {
   "cell_type": "markdown",
   "id": "bc575da5",
   "metadata": {},
   "source": [
    "## hyper-parameters config"
   ]
  },
  {
   "cell_type": "code",
   "execution_count": 70,
   "id": "69c5b4e2",
   "metadata": {
    "ExecuteTime": {
     "end_time": "2022-01-02T13:26:36.420918Z",
     "start_time": "2022-01-02T13:26:36.416374Z"
    }
   },
   "outputs": [],
   "source": [
    "seq_len = 72\n",
    "target_len = 24\n",
    "mse_thresh = 0.05\n",
    "\n",
    "\n",
    "def model_config():\n",
    "    batch_sizes = [256]\n",
    "    lrs = [0.01]\n",
    "    number_epochs = [30]\n",
    "    hidden_dims = [128]\n",
    "    n_layers = [2]\n",
    "    drop_prob = [0]\n",
    "    weight_decays = [0]\n",
    "    configs = list()\n",
    "    for i in batch_sizes:\n",
    "        for j in lrs:\n",
    "            for k in number_epochs:\n",
    "                for l in hidden_dims:\n",
    "                    for m in n_layers:\n",
    "                        for n in drop_prob:\n",
    "                            for o in weight_decays:\n",
    "                                configs.append({\n",
    "                                    'batch_size': i,\n",
    "                                    'lr': j,\n",
    "                                    'number_epoch': k,\n",
    "                                    'hidden_dim': l,\n",
    "                                    'n_layers': m,\n",
    "                                    'drop_prob': n,\n",
    "                                    'weight_decay': o,\n",
    "                                })\n",
    "    return configs"
   ]
  },
  {
   "cell_type": "markdown",
   "id": "4e25ea21",
   "metadata": {},
   "source": [
    "## random search for HPO"
   ]
  },
  {
   "cell_type": "code",
   "execution_count": 71,
   "id": "71e669f8",
   "metadata": {
    "ExecuteTime": {
     "end_time": "2022-01-02T13:26:36.428719Z",
     "start_time": "2022-01-02T13:26:36.422405Z"
    }
   },
   "outputs": [],
   "source": [
    "def run_model_hpo(seq_len=seq_len,\n",
    "                  target_len=target_len,\n",
    "                  mse_thresh=mse_thresh):\n",
    "    train_data = data[:int(0.8 * len(data))]\n",
    "    train_data, _, _ = normalization(train_data)\n",
    "    train_x, train_y = series_to_supervise(train_data, seq_len, target_len)\n",
    "    train_x_list, train_y_list, valid_x_list, valid_y_list = time_series_split(\n",
    "        train_x, train_y)\n",
    "    #     with enough data\n",
    "    train_x_list = train_x_list[-1:]\n",
    "    train_y_list = train_y_list[-1:]\n",
    "    valid_x_list = valid_x_list[-1:]\n",
    "    valid_y_list = valid_y_list[-1:]\n",
    "\n",
    "    configs = model_config()\n",
    "    records = []\n",
    "    input_size = train_x.shape[2]\n",
    "    output_size = target_len\n",
    "    for i in range(1):\n",
    "        config = random.choice(configs)\n",
    "        configs.remove(config)\n",
    "        batch_size = config['batch_size']\n",
    "        lr = config['lr']\n",
    "        number_epoch = config['number_epoch']\n",
    "        hidden_dim = config['hidden_dim']\n",
    "        n_layers = config['n_layers']\n",
    "        drop_prob = config['drop_prob']\n",
    "        weight_decay = config['weight_decay']\n",
    "        print(\n",
    "            \"model config: batch_size-{}, lr-{}, number_epoch-{}, hidden_dim-{}, n_layers-{},drop_prob-{},weight_decay-{}\"\n",
    "            .format(batch_size, lr, number_epoch, hidden_dim, n_layers,\n",
    "                    drop_prob, weight_decay))\n",
    "        valid_loss = train_model_hpo(train_x_list, train_y_list, valid_x_list,\n",
    "                                     valid_y_list, input_size, output_size,\n",
    "                                     mse_thresh, batch_size, lr, number_epoch,\n",
    "                                     hidden_dim, n_layers, drop_prob, weight_decay)\n",
    "        records.append({\n",
    "            'batch_size': batch_size,\n",
    "            'lr': lr,\n",
    "            'number_epoch': number_epoch,\n",
    "            'hidden_dim': hidden_dim,\n",
    "            'n_layers': n_layers,\n",
    "            'drop_prob': drop_prob,\n",
    "            'weight_decay': weight_decay,\n",
    "            'valid_loss': valid_loss\n",
    "        })\n",
    "    return records"
   ]
  },
  {
   "cell_type": "markdown",
   "id": "341a151d",
   "metadata": {},
   "source": [
    "## run random search"
   ]
  },
  {
   "cell_type": "code",
   "execution_count": 23,
   "id": "c4a2bbd2",
   "metadata": {
    "ExecuteTime": {
     "end_time": "2022-01-02T11:42:14.894838Z",
     "start_time": "2022-01-02T11:41:11.658334Z"
    }
   },
   "outputs": [
    {
     "name": "stdout",
     "output_type": "stream",
     "text": [
      "supervised data: shape of x: (25232, 72, 16), shape of y: (25232, 24)\n",
      "model config: batch_size-256, lr-0.01, number_epoch-30, hidden_dim-128, n_layers-2,drop_prob-0,weight_decay-0\n",
      "cross-validation dataset 0\n"
     ]
    },
    {
     "name": "stderr",
     "output_type": "stream",
     "text": [
      "Epoch: 1/30: 100%|████████████| 83/83 [00:02<00:00, 40.93it/s, train_loss=0.0377, valid_loss=0.0428]\n",
      "Epoch: 2/30: 100%|█████████████| 83/83 [00:02<00:00, 38.04it/s, train_loss=0.0303, valid_loss=0.035]\n",
      "Epoch: 3/30: 100%|████████████| 83/83 [00:02<00:00, 40.82it/s, train_loss=0.0163, valid_loss=0.0267]\n",
      "Epoch: 4/30: 100%|████████████| 83/83 [00:02<00:00, 39.29it/s, train_loss=0.0119, valid_loss=0.0191]\n",
      "Epoch: 5/30: 100%|██████████| 83/83 [00:02<00:00, 40.61it/s, train_loss=0.00492, valid_loss=0.00736]\n",
      "Epoch: 6/30: 100%|███████████| 83/83 [00:02<00:00, 39.89it/s, train_loss=0.0032, valid_loss=0.00449]\n",
      "Epoch: 7/30: 100%|███████████| 83/83 [00:02<00:00, 40.49it/s, train_loss=0.0024, valid_loss=0.00368]\n",
      "Epoch: 8/30: 100%|██████████| 83/83 [00:02<00:00, 38.91it/s, train_loss=0.00277, valid_loss=0.00446]\n",
      "Epoch: 9/30: 100%|██████████| 83/83 [00:02<00:00, 39.73it/s, train_loss=0.00266, valid_loss=0.00343]\n",
      "Epoch: 10/30: 100%|█████████| 83/83 [00:02<00:00, 40.84it/s, train_loss=0.00223, valid_loss=0.00363]\n",
      "Epoch: 11/30: 100%|█████████| 83/83 [00:02<00:00, 39.07it/s, train_loss=0.00191, valid_loss=0.00317]\n",
      "Epoch: 12/30: 100%|██████████| 83/83 [00:02<00:00, 40.79it/s, train_loss=0.0028, valid_loss=0.00346]\n",
      "Epoch: 13/30: 100%|█████████| 83/83 [00:02<00:00, 39.91it/s, train_loss=0.00197, valid_loss=0.00323]\n",
      "Epoch: 14/30: 100%|█████████| 83/83 [00:02<00:00, 40.95it/s, train_loss=0.00198, valid_loss=0.00283]\n",
      "Epoch: 15/30: 100%|█████████| 83/83 [00:02<00:00, 39.18it/s, train_loss=0.00187, valid_loss=0.00321]\n",
      "Epoch: 16/30: 100%|█████████| 83/83 [00:02<00:00, 40.23it/s, train_loss=0.00193, valid_loss=0.00271]\n",
      "Epoch: 17/30: 100%|█████████| 83/83 [00:02<00:00, 39.43it/s, train_loss=0.00219, valid_loss=0.00279]\n",
      "Epoch: 18/30: 100%|█████████| 83/83 [00:02<00:00, 40.57it/s, train_loss=0.00209, valid_loss=0.00272]\n",
      "Epoch: 19/30: 100%|█████████| 83/83 [00:02<00:00, 39.45it/s, train_loss=0.00189, valid_loss=0.00263]\n",
      "Epoch: 20/30: 100%|█████████| 83/83 [00:02<00:00, 40.94it/s, train_loss=0.00201, valid_loss=0.00243]\n",
      "Epoch: 21/30: 100%|█████████| 83/83 [00:02<00:00, 41.17it/s, train_loss=0.00179, valid_loss=0.00313]\n",
      "Epoch: 22/30: 100%|█████████| 83/83 [00:02<00:00, 39.96it/s, train_loss=0.00174, valid_loss=0.00276]\n",
      "Epoch: 23/30: 100%|█████████| 83/83 [00:02<00:00, 41.26it/s, train_loss=0.00162, valid_loss=0.00279]\n",
      "Epoch: 24/30: 100%|██████████| 83/83 [00:02<00:00, 40.15it/s, train_loss=0.0015, valid_loss=0.00339]\n",
      "Epoch: 25/30: 100%|█████████| 83/83 [00:02<00:00, 37.78it/s, train_loss=0.00155, valid_loss=0.00284]\n",
      "Epoch: 26/30: 100%|█████████| 83/83 [00:02<00:00, 34.97it/s, train_loss=0.00175, valid_loss=0.00268]\n",
      "Epoch: 27/30: 100%|█████████| 83/83 [00:02<00:00, 39.81it/s, train_loss=0.00145, valid_loss=0.00235]\n",
      "Epoch: 28/30: 100%|█████████| 83/83 [00:02<00:00, 39.39it/s, train_loss=0.00157, valid_loss=0.00228]\n",
      "Epoch: 29/30: 100%|█████████| 83/83 [00:02<00:00, 40.47it/s, train_loss=0.00164, valid_loss=0.00234]\n",
      "Epoch: 30/30: 100%|█████████| 83/83 [00:02<00:00, 39.19it/s, train_loss=0.00146, valid_loss=0.00227]\n"
     ]
    }
   ],
   "source": [
    "random_seed_set(16)\n",
    "records = run_model_hpo()"
   ]
  },
  {
   "cell_type": "markdown",
   "id": "6f62091c",
   "metadata": {
    "ExecuteTime": {
     "end_time": "2021-12-22T08:52:06.844501Z",
     "start_time": "2021-12-22T08:52:06.830928Z"
    }
   },
   "source": [
    "## find the best hyper-parameters"
   ]
  },
  {
   "cell_type": "code",
   "execution_count": 24,
   "id": "574900cc",
   "metadata": {
    "ExecuteTime": {
     "end_time": "2022-01-02T11:43:24.981530Z",
     "start_time": "2022-01-02T11:43:24.955644Z"
    }
   },
   "outputs": [
    {
     "data": {
      "text/html": [
       "<div>\n",
       "<style scoped>\n",
       "    .dataframe tbody tr th:only-of-type {\n",
       "        vertical-align: middle;\n",
       "    }\n",
       "\n",
       "    .dataframe tbody tr th {\n",
       "        vertical-align: top;\n",
       "    }\n",
       "\n",
       "    .dataframe thead th {\n",
       "        text-align: right;\n",
       "    }\n",
       "</style>\n",
       "<table border=\"1\" class=\"dataframe\">\n",
       "  <thead>\n",
       "    <tr style=\"text-align: right;\">\n",
       "      <th></th>\n",
       "      <th>batch_size</th>\n",
       "      <th>lr</th>\n",
       "      <th>number_epoch</th>\n",
       "      <th>hidden_dim</th>\n",
       "      <th>n_layers</th>\n",
       "      <th>drop_prob</th>\n",
       "      <th>weight_decay</th>\n",
       "      <th>valid_loss</th>\n",
       "    </tr>\n",
       "  </thead>\n",
       "  <tbody>\n",
       "    <tr>\n",
       "      <th>0</th>\n",
       "      <td>256</td>\n",
       "      <td>0.01</td>\n",
       "      <td>30</td>\n",
       "      <td>128</td>\n",
       "      <td>2</td>\n",
       "      <td>0</td>\n",
       "      <td>0</td>\n",
       "      <td>0.002251</td>\n",
       "    </tr>\n",
       "  </tbody>\n",
       "</table>\n",
       "</div>"
      ],
      "text/plain": [
       "   batch_size    lr  number_epoch  hidden_dim  n_layers  drop_prob  \\\n",
       "0         256  0.01            30         128         2          0   \n",
       "\n",
       "   weight_decay  valid_loss  \n",
       "0             0    0.002251  "
      ]
     },
     "execution_count": 24,
     "metadata": {},
     "output_type": "execute_result"
    }
   ],
   "source": [
    "records = pd.DataFrame(records).sort_values(by='valid_loss')\n",
    "records.to_csv('./records/cnn_rnn_records.csv', mode='a', index=False, header=False)\n",
    "records"
   ]
  },
  {
   "cell_type": "markdown",
   "id": "8ecf6a9d",
   "metadata": {},
   "source": [
    "## retrain a model"
   ]
  },
  {
   "cell_type": "code",
   "execution_count": 72,
   "id": "6c37d9a7",
   "metadata": {
    "ExecuteTime": {
     "end_time": "2022-01-02T13:26:52.205256Z",
     "start_time": "2022-01-02T13:26:52.183331Z"
    }
   },
   "outputs": [],
   "source": [
    "def train_model(train_x, train_y, valid_x, valid_y, input_size, output_size,\n",
    "                mse_thresh, batch_size, lr, number_epoch, hidden_dim, n_layers,\n",
    "                drop_prob, weight_decay):\n",
    "    while (1):\n",
    "        model = CNN_RNN(input_size, output_size, hidden_dim, n_layers,\n",
    "                       drop_prob)\n",
    "        model.to(device=device)\n",
    "        criterion = nn.MSELoss()\n",
    "        optimizer = torch.optim.Adam(model.parameters(), lr=lr, weight_decay=weight_decay)\n",
    "        scheduler = torch.optim.lr_scheduler.StepLR(optimizer, 1, gamma=0.98)\n",
    "        valid_loss_min = np.Inf\n",
    "        train_dataset = TensorDataset(torch.FloatTensor(train_x),\n",
    "                                      torch.FloatTensor(train_y))\n",
    "        valid_dataset = TensorDataset(torch.FloatTensor(valid_x),\n",
    "                                      torch.FloatTensor(valid_y))\n",
    "        train_loader = DataLoader(dataset=train_dataset,\n",
    "                                  batch_size=batch_size,\n",
    "                                  shuffle=True,\n",
    "                                  drop_last=False)\n",
    "        valid_loader = DataLoader(dataset=valid_dataset,\n",
    "                                  batch_size=batch_size,\n",
    "                                  shuffle=True,\n",
    "                                  drop_last=False)\n",
    "        num_without_imp = 0\n",
    "        train_loss_list = []\n",
    "        valid_loss_list = []\n",
    "        # training process\n",
    "        for epoch in range(1, number_epoch + 1):\n",
    "            loop = tqdm(enumerate(train_loader),\n",
    "                        total=len(train_loader),\n",
    "                        leave=True, ncols=100)\n",
    "            for i, (inputs, labels) in loop:\n",
    "                inputs = inputs.to(device=device)\n",
    "                labels = labels.to(device=device)\n",
    "                optimizer.zero_grad()\n",
    "                outputs = model(inputs)\n",
    "                loss = criterion(outputs, labels)\n",
    "                loss.backward()\n",
    "                optimizer.step()\n",
    "                if i % 5 == 0:\n",
    "                    num_without_imp = num_without_imp + 1\n",
    "                    valid_losses = list()\n",
    "                    model.eval()\n",
    "                    for inp, lab in valid_loader:\n",
    "                        inp = inp.to(device)\n",
    "                        lab = lab.to(device)\n",
    "                        out = model(inp)\n",
    "                        valid_loss = criterion(out, lab)\n",
    "                        valid_losses.append(valid_loss.item())\n",
    "\n",
    "                    model.train()\n",
    "                    loop.set_description(\"Epoch: {}/{}\".format(\n",
    "                        epoch, number_epoch))\n",
    "                    loop.set_postfix(train_loss=loss.item(),\n",
    "                                     valid_loss=np.mean(valid_losses))\n",
    "                    \n",
    "                    train_loss_list.append(loss.item())\n",
    "                    valid_loss_list.append(np.mean(valid_losses))\n",
    "                    if np.mean(valid_losses) < valid_loss_min:\n",
    "                        num_without_imp = 0\n",
    "                        torch.save(model.state_dict(),\n",
    "                                   './model/CNN_RNN_state_dict.pt')\n",
    "                        valid_loss_min = np.mean(valid_losses)\n",
    "            scheduler.step()\n",
    "        if valid_loss_min < mse_thresh:\n",
    "            break\n",
    "    return model, train_loss_list, valid_loss_list"
   ]
  },
  {
   "cell_type": "markdown",
   "id": "91a664af",
   "metadata": {},
   "source": [
    "## test results"
   ]
  },
  {
   "cell_type": "code",
   "execution_count": 73,
   "id": "42823aaa",
   "metadata": {
    "ExecuteTime": {
     "end_time": "2022-01-02T13:26:59.885124Z",
     "start_time": "2022-01-02T13:26:59.871069Z"
    }
   },
   "outputs": [],
   "source": [
    "def test_model(model, test_x, test_y, scaler_y, batch_size):\n",
    "    test_dataset = TensorDataset(torch.FloatTensor(test_x),\n",
    "                                 torch.FloatTensor(test_y))\n",
    "    test_loader = DataLoader(dataset=test_dataset,\n",
    "                             batch_size=batch_size,\n",
    "                             shuffle=False,\n",
    "                             drop_last=False)\n",
    "    model.load_state_dict(torch.load('./model/CNN_RNN_state_dict.pt'))\n",
    "    y_pred = []\n",
    "    y_true = []\n",
    "    with torch.no_grad():\n",
    "        for inputs, label in test_loader:\n",
    "            inputs = inputs.to(device)\n",
    "            label = label.to(device)\n",
    "            outputs = model(inputs)\n",
    "            y_pred += outputs.cpu().numpy().flatten().tolist()\n",
    "            y_true += label.cpu().numpy().flatten().tolist()\n",
    "    y_pred = np.array(y_pred).reshape(-1, 1)\n",
    "    y_true = np.array(y_true).reshape(-1, 1)\n",
    "#     pdb.set_trace()\n",
    "    load_pred = scaler_y.inverse_transform(y_pred)\n",
    "    load_true = scaler_y.inverse_transform(y_true)\n",
    "    MAPE = np.mean(np.abs(load_true - load_pred) / load_true)\n",
    "    MAE = np.mean(np.abs(load_true - load_pred))\n",
    "    RMSE = np.sqrt(np.mean(np.square(load_true - load_pred)))\n",
    "    return MAPE, MAE, RMSE, load_pred, load_true"
   ]
  },
  {
   "cell_type": "markdown",
   "id": "5fda50ee",
   "metadata": {},
   "source": [
    "## run model retraining"
   ]
  },
  {
   "cell_type": "code",
   "execution_count": 97,
   "id": "7ce20f55",
   "metadata": {
    "ExecuteTime": {
     "end_time": "2022-01-03T03:41:39.794274Z",
     "start_time": "2022-01-03T03:41:39.776339Z"
    }
   },
   "outputs": [],
   "source": [
    "def run_model_retraining(seq_len=seq_len,\n",
    "                         target_len=target_len,\n",
    "                         mse_thresh=mse_thresh):\n",
    "    train_data = data[:int(0.8 * len(data))]\n",
    "    #     train_data = data[:-800]\n",
    "    train_data, scaler, scaler_y = normalization(train_data)\n",
    "    train_x, train_y = series_to_supervise(train_data, seq_len, target_len)\n",
    "\n",
    "    valid_x = train_x[int(0.8 * len(train_x)):]\n",
    "    valid_y = train_y[int(0.8 * len(train_y)):]\n",
    "    train_x = train_x[:int(0.8 * len(train_x))]\n",
    "    train_y = train_y[:int(0.8 * len(train_y))]\n",
    "    input_size = train_x.shape[2]\n",
    "    output_size = target_len\n",
    "\n",
    "    #     hyper-parameters define\n",
    "    batch_size = 256\n",
    "    lr = 0.01\n",
    "    number_epoch = 80\n",
    "    hidden_dim = 128\n",
    "    n_layers = 1\n",
    "    drop_prob = 0\n",
    "    weight_decay = 0\n",
    "    mse_thresh = 0.01\n",
    "\n",
    "    model, train_loss_list, valid_loss_list = train_model(\n",
    "        train_x, train_y, valid_x, valid_y, input_size, output_size,\n",
    "        mse_thresh, batch_size, lr, number_epoch, hidden_dim, n_layers,\n",
    "        drop_prob, weight_decay)\n",
    "    \n",
    "    # plot training process\n",
    "    plt.plot(train_loss_list[10:], 'm', label='train_loss')\n",
    "    plt.plot(valid_loss_list[10:], 'g', label='valid_loss')\n",
    "    plt.grid('both')\n",
    "    plt.legend()\n",
    "    \n",
    "    # test\n",
    "    test_data = data[int(0.8 * len(data)):]\n",
    "    #     test_data = data[-800:]\n",
    "    test_data = scaler.transform(test_data)\n",
    "    test_x, test_y = series_to_supervise(test_data, seq_len, target_len)\n",
    "    MAPE, MAE, RMSE, load_pred, load_true = test_model(model, test_x, test_y,\n",
    "                                                       scaler_y, batch_size)\n",
    "    return MAPE, MAE, RMSE, load_pred, load_true"
   ]
  },
  {
   "cell_type": "code",
   "execution_count": 98,
   "id": "0f5a1395",
   "metadata": {
    "ExecuteTime": {
     "end_time": "2022-01-03T03:44:17.986473Z",
     "start_time": "2022-01-03T03:41:43.233550Z"
    }
   },
   "outputs": [
    {
     "name": "stdout",
     "output_type": "stream",
     "text": [
      "supervised data: shape of x: (25232, 72, 16), shape of y: (25232, 24)\n"
     ]
    },
    {
     "name": "stderr",
     "output_type": "stream",
     "text": [
      "Epoch: 1/80: 100%|████████████| 79/79 [00:01<00:00, 41.35it/s, train_loss=0.0132, valid_loss=0.0223]\n",
      "Epoch: 2/80: 100%|██████████| 79/79 [00:02<00:00, 39.12it/s, train_loss=0.00397, valid_loss=0.00428]\n",
      "Epoch: 3/80: 100%|██████████| 79/79 [00:01<00:00, 41.57it/s, train_loss=0.00252, valid_loss=0.00314]\n",
      "Epoch: 4/80: 100%|██████████| 79/79 [00:01<00:00, 39.75it/s, train_loss=0.00209, valid_loss=0.00255]\n",
      "Epoch: 5/80: 100%|████████████| 79/79 [00:01<00:00, 41.63it/s, train_loss=0.002, valid_loss=0.00257]\n",
      "Epoch: 6/80: 100%|██████████| 79/79 [00:01<00:00, 41.27it/s, train_loss=0.00309, valid_loss=0.00713]\n",
      "Epoch: 7/80: 100%|██████████| 79/79 [00:01<00:00, 39.87it/s, train_loss=0.00172, valid_loss=0.00251]\n",
      "Epoch: 8/80: 100%|██████████| 79/79 [00:01<00:00, 41.19it/s, train_loss=0.00243, valid_loss=0.00318]\n",
      "Epoch: 9/80: 100%|██████████| 79/79 [00:01<00:00, 41.02it/s, train_loss=0.00151, valid_loss=0.00219]\n",
      "Epoch: 10/80: 100%|█████████| 79/79 [00:01<00:00, 40.08it/s, train_loss=0.00135, valid_loss=0.00209]\n",
      "Epoch: 11/80: 100%|██████████| 79/79 [00:01<00:00, 41.12it/s, train_loss=0.00116, valid_loss=0.0022]\n",
      "Epoch: 12/80: 100%|█████████| 79/79 [00:01<00:00, 41.64it/s, train_loss=0.00115, valid_loss=0.00207]\n",
      "Epoch: 13/80: 100%|█████████| 79/79 [00:02<00:00, 39.44it/s, train_loss=0.00155, valid_loss=0.00203]\n",
      "Epoch: 14/80: 100%|██████████| 79/79 [00:01<00:00, 41.74it/s, train_loss=0.00138, valid_loss=0.0023]\n",
      "Epoch: 15/80: 100%|█████████| 79/79 [00:01<00:00, 41.42it/s, train_loss=0.00166, valid_loss=0.00282]\n",
      "Epoch: 16/80: 100%|█████████| 79/79 [00:02<00:00, 39.42it/s, train_loss=0.00167, valid_loss=0.00237]\n",
      "Epoch: 17/80: 100%|█████████| 79/79 [00:01<00:00, 41.69it/s, train_loss=0.00126, valid_loss=0.00205]\n",
      "Epoch: 18/80: 100%|█████████| 79/79 [00:01<00:00, 40.24it/s, train_loss=0.00129, valid_loss=0.00235]\n",
      "Epoch: 19/80: 100%|██████████| 79/79 [00:01<00:00, 41.86it/s, train_loss=0.00154, valid_loss=0.0027]\n",
      "Epoch: 20/80: 100%|█████████| 79/79 [00:01<00:00, 41.49it/s, train_loss=0.00129, valid_loss=0.00218]\n",
      "Epoch: 21/80: 100%|████████| 79/79 [00:01<00:00, 39.70it/s, train_loss=0.000948, valid_loss=0.00211]\n",
      "Epoch: 22/80: 100%|█████████| 79/79 [00:01<00:00, 41.53it/s, train_loss=0.00105, valid_loss=0.00216]\n",
      "Epoch: 23/80: 100%|█████████| 79/79 [00:01<00:00, 41.75it/s, train_loss=0.00127, valid_loss=0.00227]\n",
      "Epoch: 24/80: 100%|████████| 79/79 [00:01<00:00, 39.56it/s, train_loss=0.000908, valid_loss=0.00241]\n",
      "Epoch: 25/80: 100%|█████████| 79/79 [00:01<00:00, 41.16it/s, train_loss=0.00132, valid_loss=0.00236]\n",
      "Epoch: 26/80: 100%|████████| 79/79 [00:01<00:00, 41.50it/s, train_loss=0.000832, valid_loss=0.00228]\n",
      "Epoch: 27/80: 100%|█████████| 79/79 [00:01<00:00, 39.86it/s, train_loss=0.00101, valid_loss=0.00251]\n",
      "Epoch: 28/80: 100%|████████| 79/79 [00:01<00:00, 41.92it/s, train_loss=0.000795, valid_loss=0.00239]\n",
      "Epoch: 29/80: 100%|████████| 79/79 [00:01<00:00, 39.85it/s, train_loss=0.000799, valid_loss=0.00249]\n",
      "Epoch: 30/80: 100%|█████████| 79/79 [00:01<00:00, 41.64it/s, train_loss=0.000657, valid_loss=0.0024]\n",
      "Epoch: 31/80: 100%|█████████| 79/79 [00:01<00:00, 41.82it/s, train_loss=0.00066, valid_loss=0.00249]\n",
      "Epoch: 32/80: 100%|████████| 79/79 [00:01<00:00, 40.00it/s, train_loss=0.000669, valid_loss=0.00259]\n",
      "Epoch: 33/80: 100%|████████| 79/79 [00:01<00:00, 41.13it/s, train_loss=0.000764, valid_loss=0.00255]\n",
      "Epoch: 34/80: 100%|████████| 79/79 [00:01<00:00, 41.62it/s, train_loss=0.000606, valid_loss=0.00251]\n",
      "Epoch: 35/80: 100%|████████| 79/79 [00:01<00:00, 39.96it/s, train_loss=0.000577, valid_loss=0.00257]\n",
      "Epoch: 36/80: 100%|████████| 79/79 [00:01<00:00, 41.69it/s, train_loss=0.000536, valid_loss=0.00263]\n",
      "Epoch: 37/80: 100%|████████| 79/79 [00:01<00:00, 41.35it/s, train_loss=0.000482, valid_loss=0.00272]\n",
      "Epoch: 38/80: 100%|████████| 79/79 [00:01<00:00, 39.77it/s, train_loss=0.000491, valid_loss=0.00274]\n",
      "Epoch: 39/80: 100%|████████| 79/79 [00:01<00:00, 41.64it/s, train_loss=0.000509, valid_loss=0.00254]\n",
      "Epoch: 40/80: 100%|████████| 79/79 [00:01<00:00, 39.82it/s, train_loss=0.000483, valid_loss=0.00241]\n",
      "Epoch: 41/80: 100%|████████| 79/79 [00:01<00:00, 41.19it/s, train_loss=0.000415, valid_loss=0.00249]\n",
      "Epoch: 42/80: 100%|████████| 79/79 [00:01<00:00, 41.59it/s, train_loss=0.000437, valid_loss=0.00269]\n",
      "Epoch: 43/80: 100%|████████| 79/79 [00:01<00:00, 40.09it/s, train_loss=0.000414, valid_loss=0.00269]\n",
      "Epoch: 44/80: 100%|████████| 79/79 [00:01<00:00, 41.70it/s, train_loss=0.000418, valid_loss=0.00246]\n",
      "Epoch: 45/80: 100%|████████| 79/79 [00:01<00:00, 41.58it/s, train_loss=0.000408, valid_loss=0.00249]\n",
      "Epoch: 46/80: 100%|████████| 79/79 [00:01<00:00, 39.98it/s, train_loss=0.000381, valid_loss=0.00258]\n",
      "Epoch: 47/80: 100%|████████| 79/79 [00:01<00:00, 41.77it/s, train_loss=0.000489, valid_loss=0.00266]\n",
      "Epoch: 48/80: 100%|████████| 79/79 [00:01<00:00, 41.95it/s, train_loss=0.000412, valid_loss=0.00259]\n",
      "Epoch: 49/80: 100%|█████████| 79/79 [00:01<00:00, 39.60it/s, train_loss=0.000362, valid_loss=0.0026]\n",
      "Epoch: 50/80: 100%|████████| 79/79 [00:01<00:00, 41.48it/s, train_loss=0.000364, valid_loss=0.00266]\n",
      "Epoch: 51/80: 100%|████████| 79/79 [00:01<00:00, 41.10it/s, train_loss=0.000386, valid_loss=0.00263]\n",
      "Epoch: 52/80: 100%|████████| 79/79 [00:01<00:00, 40.22it/s, train_loss=0.000293, valid_loss=0.00271]\n",
      "Epoch: 53/80: 100%|████████| 79/79 [00:01<00:00, 41.43it/s, train_loss=0.000317, valid_loss=0.00262]\n",
      "Epoch: 54/80: 100%|████████| 79/79 [00:01<00:00, 39.97it/s, train_loss=0.000363, valid_loss=0.00261]\n",
      "Epoch: 55/80: 100%|████████| 79/79 [00:01<00:00, 40.97it/s, train_loss=0.000314, valid_loss=0.00266]\n",
      "Epoch: 56/80: 100%|█████████| 79/79 [00:01<00:00, 41.40it/s, train_loss=0.00032, valid_loss=0.00263]\n",
      "Epoch: 57/80: 100%|█████████| 79/79 [00:01<00:00, 39.83it/s, train_loss=0.000296, valid_loss=0.0026]\n",
      "Epoch: 58/80: 100%|████████| 79/79 [00:01<00:00, 41.52it/s, train_loss=0.000274, valid_loss=0.00267]\n",
      "Epoch: 59/80: 100%|████████| 79/79 [00:01<00:00, 41.54it/s, train_loss=0.000275, valid_loss=0.00271]\n",
      "Epoch: 60/80: 100%|████████| 79/79 [00:01<00:00, 39.70it/s, train_loss=0.000351, valid_loss=0.00275]\n",
      "Epoch: 61/80: 100%|████████| 79/79 [00:01<00:00, 41.36it/s, train_loss=0.000276, valid_loss=0.00266]\n",
      "Epoch: 62/80: 100%|████████| 79/79 [00:01<00:00, 42.55it/s, train_loss=0.000306, valid_loss=0.00273]\n",
      "Epoch: 63/80: 100%|█████████| 79/79 [00:01<00:00, 40.68it/s, train_loss=0.00027, valid_loss=0.00274]\n",
      "Epoch: 64/80: 100%|████████| 79/79 [00:01<00:00, 41.75it/s, train_loss=0.000273, valid_loss=0.00274]\n",
      "Epoch: 65/80: 100%|████████| 79/79 [00:01<00:00, 40.22it/s, train_loss=0.000272, valid_loss=0.00275]\n",
      "Epoch: 66/80: 100%|████████| 79/79 [00:01<00:00, 41.99it/s, train_loss=0.000251, valid_loss=0.00281]\n",
      "Epoch: 67/80: 100%|████████| 79/79 [00:01<00:00, 42.26it/s, train_loss=0.000259, valid_loss=0.00266]\n",
      "Epoch: 68/80: 100%|█████████| 79/79 [00:01<00:00, 40.72it/s, train_loss=0.00025, valid_loss=0.00266]\n",
      "Epoch: 69/80: 100%|████████| 79/79 [00:01<00:00, 42.33it/s, train_loss=0.000299, valid_loss=0.00274]\n",
      "Epoch: 70/80: 100%|█████████| 79/79 [00:01<00:00, 42.57it/s, train_loss=0.00023, valid_loss=0.00277]\n",
      "Epoch: 71/80: 100%|████████| 79/79 [00:01<00:00, 40.04it/s, train_loss=0.000246, valid_loss=0.00279]\n",
      "Epoch: 72/80: 100%|████████| 79/79 [00:01<00:00, 42.22it/s, train_loss=0.000242, valid_loss=0.00281]\n",
      "Epoch: 73/80: 100%|████████| 79/79 [00:01<00:00, 41.66it/s, train_loss=0.000253, valid_loss=0.00289]\n",
      "Epoch: 74/80: 100%|████████| 79/79 [00:01<00:00, 40.83it/s, train_loss=0.000221, valid_loss=0.00272]\n",
      "Epoch: 75/80: 100%|████████| 79/79 [00:01<00:00, 42.25it/s, train_loss=0.000221, valid_loss=0.00279]\n",
      "Epoch: 76/80: 100%|████████| 79/79 [00:01<00:00, 40.63it/s, train_loss=0.000207, valid_loss=0.00275]\n",
      "Epoch: 77/80: 100%|████████| 79/79 [00:01<00:00, 42.24it/s, train_loss=0.000204, valid_loss=0.00281]\n",
      "Epoch: 78/80: 100%|████████| 79/79 [00:01<00:00, 41.66it/s, train_loss=0.000201, valid_loss=0.00277]\n",
      "Epoch: 79/80: 100%|█████████| 79/79 [00:01<00:00, 40.16it/s, train_loss=0.00023, valid_loss=0.00276]\n",
      "Epoch: 80/80: 100%|████████| 79/79 [00:01<00:00, 42.49it/s, train_loss=0.000209, valid_loss=0.00276]\n"
     ]
    },
    {
     "name": "stdout",
     "output_type": "stream",
     "text": [
      "supervised data: shape of x: (6237, 72, 16), shape of y: (6237, 24)\n",
      "MAPE:0.0362139090970598, MAE:475.2368734501593, RMSE:686.1082329523067\n"
     ]
    },
    {
     "data": {
      "image/png": "[encoded data removed]",
      "text/plain": [
       "<Figure size 432x288 with 1 Axes>"
      ]
     },
     "metadata": {
      "needs_background": "light"
     },
     "output_type": "display_data"
    }
   ],
   "source": [
    "random_seed_set(16)\n",
    "MAPE, MAE, RMSE, load_pred, load_true = run_model_retraining()\n",
    "print('MAPE:{}, MAE:{}, RMSE:{}'.format(MAPE, MAE, RMSE))"
   ]
  },
  {
   "cell_type": "code",
   "execution_count": 99,
   "id": "162df33b",
   "metadata": {
    "ExecuteTime": {
     "end_time": "2022-01-03T03:45:03.979219Z",
     "start_time": "2022-01-03T03:45:03.972917Z"
    }
   },
   "outputs": [
    {
     "name": "stdout",
     "output_type": "stream",
     "text": [
      "MAPE:0.0362139090970598, MAE:475.2368734501593, RMSE:686.1082329523067\n"
     ]
    }
   ],
   "source": [
    "print('MAPE:{}, MAE:{}, RMSE:{}'.format(MAPE, MAE, RMSE))"
   ]
  },
  {
   "cell_type": "markdown",
   "id": "2c6d655f",
   "metadata": {},
   "source": [
    "## figure plot"
   ]
  },
  {
   "cell_type": "code",
   "execution_count": 100,
   "id": "6fe5edbf",
   "metadata": {
    "ExecuteTime": {
     "end_time": "2022-01-03T03:45:06.226762Z",
     "start_time": "2022-01-03T03:45:06.069643Z"
    }
   },
   "outputs": [
    {
     "data": {
      "text/plain": [
       "(0.0, 19949.75194576126)"
      ]
     },
     "execution_count": 100,
     "metadata": {},
     "output_type": "execute_result"
    },
    {
     "data": {
      "image/png": "[encoded data removed]",
      "text/plain": [
       "<Figure size 1440x720 with 1 Axes>"
      ]
     },
     "metadata": {
      "needs_background": "light"
     },
     "output_type": "display_data"
    }
   ],
   "source": [
    "plt.figure(figsize=(20, 10))\n",
    "load_pred = load_pred.reshape(-1, target_len)\n",
    "load_true = load_true.reshape(-1, target_len)\n",
    "plt.plot(load_pred[:240,0], 'm')\n",
    "plt.plot(load_true[:240,0], 'g')\n",
    "plt.ylim(0)"
   ]
  }
 ],
 "metadata": {
  "kernelspec": {
   "display_name": "Python 3 (ipykernel)",
   "language": "python",
   "name": "python3"
  },
  "language_info": {
   "codemirror_mode": {
    "name": "ipython",
    "version": 3
   },
   "file_extension": ".py",
   "mimetype": "text/x-python",
   "name": "python",
   "nbconvert_exporter": "python",
   "pygments_lexer": "ipython3",
   "version": "3.8.12"
  },
  "toc": {
   "base_numbering": 1,
   "nav_menu": {},
   "number_sections": true,
   "sideBar": true,
   "skip_h1_title": false,
   "title_cell": "Table of Contents",
   "title_sidebar": "Contents",
   "toc_cell": false,
   "toc_position": {
    "height": "calc(100% - 180px)",
    "left": "10px",
    "top": "150px",
    "width": "374.391px"
   },
   "toc_section_display": true,
   "toc_window_display": true
  },
  "varInspector": {
   "cols": {
    "lenName": 16,
    "lenType": 16,
    "lenVar": 40
   },
   "kernels_config": {
    "python": {
     "delete_cmd_postfix": "",
     "delete_cmd_prefix": "del ",
     "library": "var_list.py",
     "varRefreshCmd": "print(var_dic_list())"
    },
    "r": {
     "delete_cmd_postfix": ") ",
     "delete_cmd_prefix": "rm(",
     "library": "var_list.r",
     "varRefreshCmd": "cat(var_dic_list()) "
    }
   },
   "oldHeight": 320.844,
   "position": {
    "height": "342.844px",
    "left": "1482px",
    "right": "20px",
    "top": "127px",
    "width": "350px"
   },
   "types_to_exclude": [
    "module",
    "function",
    "builtin_function_or_method",
    "instance",
    "_Feature"
   ],
   "varInspector_section_display": "block",
   "window_display": false
  }
 },
 "nbformat": 4,
 "nbformat_minor": 5
}
