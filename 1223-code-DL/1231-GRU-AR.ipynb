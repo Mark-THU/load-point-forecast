{
 "cells": [
  {
   "cell_type": "markdown",
   "id": "b6760fcb",
   "metadata": {},
   "source": [
    "# GRU for AutoRegression forecast"
   ]
  },
  {
   "cell_type": "code",
   "execution_count": 1,
   "id": "ab701777",
   "metadata": {
    "ExecuteTime": {
     "end_time": "2021-12-31T10:22:14.096486Z",
     "start_time": "2021-12-31T10:22:13.100045Z"
    }
   },
   "outputs": [],
   "source": [
    "import pandas as pd\n",
    "import numpy as np\n",
    "import matplotlib.pyplot as plt\n",
    "import pdb\n",
    "import torch\n",
    "import torch.nn as nn\n",
    "import random\n",
    "\n",
    "from sklearn.preprocessing import MinMaxScaler\n",
    "from sklearn.model_selection import train_test_split, TimeSeriesSplit\n",
    "from torch.autograd import Variable\n",
    "from torch.utils.data import TensorDataset, DataLoader\n",
    "from tqdm import tqdm\n",
    "from xgboost import XGBRegressor\n",
    "from torchsummary import summary\n",
    "\n",
    "if torch.cuda.is_available():  \n",
    "    dev = \"cuda:0\" \n",
    "else:  \n",
    "    dev = \"cpu\"\n",
    "device = torch.device(dev)"
   ]
  },
  {
   "cell_type": "code",
   "execution_count": 2,
   "id": "a74c7ce0",
   "metadata": {
    "ExecuteTime": {
     "end_time": "2021-12-31T10:22:17.136658Z",
     "start_time": "2021-12-31T10:22:17.130863Z"
    }
   },
   "outputs": [],
   "source": [
    "def random_seed_set(seed):\n",
    "    np.random.seed(seed)\n",
    "    torch.random.manual_seed(seed)\n",
    "    torch.cuda.random.manual_seed(seed)\n",
    "#     torch.backends.cudnn.benchmark = False\n",
    "#     torch.backends.cudnn.deterministic = True"
   ]
  },
  {
   "cell_type": "markdown",
   "id": "1b1e141f",
   "metadata": {},
   "source": [
    "## load data"
   ]
  },
  {
   "cell_type": "code",
   "execution_count": 3,
   "id": "5c50b0c3",
   "metadata": {
    "ExecuteTime": {
     "end_time": "2021-12-31T10:22:33.899765Z",
     "start_time": "2021-12-31T10:22:33.826198Z"
    }
   },
   "outputs": [],
   "source": [
    "url = '../data/beijing.csv'\n",
    "data = pd.read_csv(url, sep=',', index_col='time')\n",
    "data.index = pd.to_datetime(data.index)"
   ]
  },
  {
   "cell_type": "markdown",
   "id": "5983b6c6",
   "metadata": {},
   "source": [
    "## normalization"
   ]
  },
  {
   "cell_type": "code",
   "execution_count": 4,
   "id": "5d83e76f",
   "metadata": {
    "ExecuteTime": {
     "end_time": "2021-12-31T10:22:35.247816Z",
     "start_time": "2021-12-31T10:22:35.240630Z"
    }
   },
   "outputs": [],
   "source": [
    "def normalization(data):\n",
    "    \"\"\"\n",
    "    data: original data with load\n",
    "    return: normalized data, scaler of load\n",
    "    \"\"\"\n",
    "    scaler = MinMaxScaler()\n",
    "    normalized_data = scaler.fit_transform(data)\n",
    "    scaler_y = MinMaxScaler()\n",
    "    scaler_y.fit_transform(data[[data.columns[-1]]])\n",
    "    return normalized_data, scaler, scaler_y"
   ]
  },
  {
   "cell_type": "markdown",
   "id": "77586dff",
   "metadata": {
    "ExecuteTime": {
     "end_time": "2021-12-22T07:45:44.192666Z",
     "start_time": "2021-12-22T07:45:44.188985Z"
    }
   },
   "source": [
    "## build supervised dataset"
   ]
  },
  {
   "cell_type": "code",
   "execution_count": 5,
   "id": "28cb7301",
   "metadata": {
    "ExecuteTime": {
     "end_time": "2021-12-31T10:22:37.478153Z",
     "start_time": "2021-12-31T10:22:37.468343Z"
    }
   },
   "outputs": [],
   "source": [
    "def series_to_supervise(data, seq_len, target_len):\n",
    "    \"\"\"\n",
    "    convert series data to supervised data\n",
    "    :param data: original data\n",
    "    :param seq_len: length of input sequence\n",
    "    :param target_len: length of ouput sequence\n",
    "    :return: return two ndarrays-- input and output in format suitable to feed to RNN\n",
    "    \"\"\"\n",
    "    dim_0 = data.shape[0] - seq_len - target_len + 1\n",
    "    dim_1 = data.shape[1]\n",
    "    x = np.zeros((dim_0, seq_len, dim_1))\n",
    "    y = np.zeros((dim_0, target_len, dim_1))\n",
    "    for i in range(dim_0):\n",
    "        x[i] = data[i:i + seq_len]\n",
    "        y[i] = data[i + seq_len:i + seq_len + target_len]\n",
    "    print(\"supervised data: shape of x: {}, shape of y: {}\".format(x.shape, y.shape))\n",
    "    return x, y"
   ]
  },
  {
   "cell_type": "markdown",
   "id": "17ae28dc",
   "metadata": {},
   "source": [
    "## 5-folds TimeSeriesSplit"
   ]
  },
  {
   "cell_type": "code",
   "execution_count": 6,
   "id": "c5ecff68",
   "metadata": {
    "ExecuteTime": {
     "end_time": "2021-12-31T10:22:41.684428Z",
     "start_time": "2021-12-31T10:22:41.675803Z"
    }
   },
   "outputs": [],
   "source": [
    "def time_series_split(X, Y, n_split=5):\n",
    "    \"\"\"\n",
    "    X: features, size * seq_len * feature_num\n",
    "    Y: labels, size * target_len\n",
    "    return: list of train_x, test_x, train_y, test_y\n",
    "    \"\"\"\n",
    "    tscv = TimeSeriesSplit(n_splits=n_split)\n",
    "    train_x_list = list()\n",
    "    valid_x_list = list()\n",
    "    train_y_list = list()\n",
    "    valid_y_list = list()\n",
    "    for train_index, valid_index in tscv.split(X):\n",
    "        train_x_list.append(X[train_index])\n",
    "        train_y_list.append(Y[train_index])\n",
    "        valid_x_list.append(X[valid_index])\n",
    "        valid_y_list.append(Y[valid_index])\n",
    "    return train_x_list, train_y_list, valid_x_list, valid_y_list"
   ]
  },
  {
   "cell_type": "markdown",
   "id": "51f73225",
   "metadata": {},
   "source": [
    "## GRU model"
   ]
  },
  {
   "cell_type": "code",
   "execution_count": 7,
   "id": "a1164820",
   "metadata": {
    "ExecuteTime": {
     "end_time": "2021-12-31T10:22:46.544491Z",
     "start_time": "2021-12-31T10:22:46.529935Z"
    }
   },
   "outputs": [],
   "source": [
    "class GRU(nn.Module):\n",
    "    def __init__(self, input_size, output_size, hidden_dim, n_layers,\n",
    "                 drop_prob):\n",
    "        super(GRU, self).__init__()\n",
    "        # model parameters\n",
    "        self.hidden_dim = hidden_dim\n",
    "        self.n_layers = n_layers\n",
    "        self.output_size = output_size\n",
    "        # layes\n",
    "        self.gru = nn.GRU(input_size=input_size,\n",
    "                           hidden_size=hidden_dim,\n",
    "                           num_layers=n_layers,\n",
    "                           dropout=drop_prob,\n",
    "                           bidirectional=False)\n",
    "        self.fc = nn.Sequential()\n",
    "\n",
    "        input_size = hidden_dim\n",
    "        i = 0\n",
    "        while (input_size > 8):\n",
    "            self.fc.add_module('linear{}'.format(i),\n",
    "                               nn.Linear(input_size, round(input_size / 2)))\n",
    "            self.fc.add_module('relu{}'.format(i), nn.ReLU())\n",
    "            input_size = round(input_size / 2)\n",
    "            i += 1\n",
    "        self.fc.add_module('linear{}'.format(i), nn.Linear(input_size, 1))\n",
    "\n",
    "    # predict using outputs of the last 24 steps\n",
    "    def forward(self, x):\n",
    "        x = torch.transpose(x, 0, 1)\n",
    "        gru_out, hidden = self.gru(x)\n",
    "        gru_out = gru_out[-1, :, :]\n",
    "\n",
    "        out = self.fc(gru_out)\n",
    "\n",
    "        return out"
   ]
  },
  {
   "cell_type": "markdown",
   "id": "94cc1a61",
   "metadata": {
    "ExecuteTime": {
     "end_time": "2021-12-22T08:30:19.661769Z",
     "start_time": "2021-12-22T08:30:19.656770Z"
    }
   },
   "source": [
    "## model training for HPO"
   ]
  },
  {
   "cell_type": "code",
   "execution_count": 8,
   "id": "30a2ecb3",
   "metadata": {
    "ExecuteTime": {
     "end_time": "2021-12-31T10:22:48.948195Z",
     "start_time": "2021-12-31T10:22:48.922740Z"
    }
   },
   "outputs": [],
   "source": [
    "def train_model_hpo(train_x_list, train_y_list, valid_x_list, valid_y_list,\n",
    "                    input_size, output_size, mse_thresh, batch_size, lr,\n",
    "                    number_epoch, hidden_dim, n_layers, drop_prob, weight_decay):\n",
    "    valid_loss_list = []\n",
    "    for num in range(len(train_x_list)):\n",
    "        while (1):\n",
    "            model = GRU(input_size, output_size, hidden_dim, n_layers,\n",
    "                           drop_prob)\n",
    "            model.to(device=device)\n",
    "            criterion = nn.MSELoss()\n",
    "            optimizer = torch.optim.Adam(model.parameters(), lr=lr, weight_decay=weight_decay)\n",
    "            scheduler = torch.optim.lr_scheduler.StepLR(optimizer, 1, gamma=0.98)\n",
    "            valid_loss_min = np.Inf\n",
    "            print('cross-validation dataset {}'.format(num))\n",
    "            train_x = train_x_list[num]\n",
    "            train_y = train_y_list[num]\n",
    "            valid_x = valid_x_list[num]\n",
    "            valid_y = valid_y_list[num]\n",
    "            train_dataset = TensorDataset(torch.FloatTensor(train_x),\n",
    "                                          torch.FloatTensor(train_y))\n",
    "            valid_dataset = TensorDataset(torch.FloatTensor(valid_x),\n",
    "                                          torch.FloatTensor(valid_y))\n",
    "            train_loader = DataLoader(dataset=train_dataset,\n",
    "                                      batch_size=batch_size,\n",
    "                                      shuffle=True,\n",
    "                                      drop_last=False)\n",
    "            valid_loader = DataLoader(dataset=valid_dataset,\n",
    "                                      batch_size=batch_size,\n",
    "                                      shuffle=True,\n",
    "                                      drop_last=False)\n",
    "            num_without_imp = 0\n",
    "            # training process\n",
    "            for epoch in range(1, number_epoch + 1):\n",
    "                loop = tqdm(enumerate(train_loader),\n",
    "                            total=len(train_loader),\n",
    "                            leave=True, ncols=100)\n",
    "                for i, (inputs, labels) in loop:\n",
    "                    inputs = inputs.to(device=device)\n",
    "                    labels = labels[:, 0, -1:].to(device=device)\n",
    "                    optimizer.zero_grad()\n",
    "                    outputs = model(inputs)\n",
    "                    loss = criterion(outputs, labels)\n",
    "                    loss.backward()\n",
    "                    optimizer.step()\n",
    "                    if i % 5 == 0:\n",
    "                        num_without_imp = num_without_imp + 1\n",
    "                        valid_losses = list()\n",
    "                        model.eval()\n",
    "                        for inp, lab in valid_loader:\n",
    "                            inp = inp.to(device)\n",
    "                            lab = lab[:, 0, -1:].to(device)\n",
    "                            out = model(inp)\n",
    "                            valid_loss = criterion(out, lab)\n",
    "                            valid_losses.append(valid_loss.item())\n",
    "\n",
    "                        model.train()\n",
    "                        loop.set_description(\"Epoch: {}/{}\".format(\n",
    "                            epoch, number_epoch))\n",
    "                        loop.set_postfix(train_loss=loss.item(),\n",
    "                                         valid_loss=np.mean(valid_losses))\n",
    "                        if np.mean(valid_losses) < valid_loss_min:\n",
    "                            num_without_imp = 0\n",
    "                            valid_loss_min = np.mean(valid_losses)\n",
    "                scheduler.step()\n",
    "                if num_without_imp >= 50:\n",
    "#                     break\n",
    "                    pass\n",
    "            if valid_loss_min < mse_thresh:\n",
    "                valid_loss_list.append(valid_loss_min)\n",
    "                break\n",
    "    return np.mean(valid_loss_list)"
   ]
  },
  {
   "cell_type": "markdown",
   "id": "17c26b2c",
   "metadata": {},
   "source": [
    "## hyper-parameters config"
   ]
  },
  {
   "cell_type": "code",
   "execution_count": 9,
   "id": "5891f3b2",
   "metadata": {
    "ExecuteTime": {
     "end_time": "2021-12-31T10:22:57.064464Z",
     "start_time": "2021-12-31T10:22:57.053449Z"
    }
   },
   "outputs": [],
   "source": [
    "seq_len = 72\n",
    "target_len = 24\n",
    "mse_thresh = 0.05\n",
    "\n",
    "\n",
    "def model_config():\n",
    "    batch_sizes = [256]\n",
    "    lrs = [0.01]\n",
    "    number_epochs = [30]\n",
    "    hidden_dims = [64, 128, 256]\n",
    "    n_layers = [2, 3]\n",
    "    drop_prob = [0]\n",
    "    weight_decays = [0]\n",
    "    configs = list()\n",
    "    for i in batch_sizes:\n",
    "        for j in lrs:\n",
    "            for k in number_epochs:\n",
    "                for l in hidden_dims:\n",
    "                    for m in n_layers:\n",
    "                        for n in drop_prob:\n",
    "                            for o in weight_decays:\n",
    "                                configs.append({\n",
    "                                    'batch_size': i,\n",
    "                                    'lr': j,\n",
    "                                    'number_epoch': k,\n",
    "                                    'hidden_dim': l,\n",
    "                                    'n_layers': m,\n",
    "                                    'drop_prob': n,\n",
    "                                    'weight_decay': o,\n",
    "                                })\n",
    "    return configs"
   ]
  },
  {
   "cell_type": "markdown",
   "id": "29df6927",
   "metadata": {},
   "source": [
    "## random search for HPO"
   ]
  },
  {
   "cell_type": "code",
   "execution_count": 10,
   "id": "34117c1a",
   "metadata": {
    "ExecuteTime": {
     "end_time": "2021-12-31T10:23:01.728978Z",
     "start_time": "2021-12-31T10:23:01.712128Z"
    }
   },
   "outputs": [],
   "source": [
    "def run_model_hpo(seq_len=seq_len,\n",
    "                  target_len=target_len,\n",
    "                  mse_thresh=mse_thresh):\n",
    "    train_data = data[:int(0.8 * len(data))]\n",
    "    train_data, _, _ = normalization(train_data)\n",
    "    train_x, train_y = series_to_supervise(train_data, seq_len, target_len)\n",
    "    train_x_list, train_y_list, valid_x_list, valid_y_list = time_series_split(\n",
    "        train_x, train_y)\n",
    "    #     with enough data\n",
    "    train_x_list = train_x_list[-1:]\n",
    "    train_y_list = train_y_list[-1:]\n",
    "    valid_x_list = valid_x_list[-1:]\n",
    "    valid_y_list = valid_y_list[-1:]\n",
    "\n",
    "    configs = model_config()\n",
    "    records = []\n",
    "    input_size = train_x.shape[2]\n",
    "    output_size = target_len\n",
    "    for i in range(6):\n",
    "        config = random.choice(configs)\n",
    "        configs.remove(config)\n",
    "        batch_size = config['batch_size']\n",
    "        lr = config['lr']\n",
    "        number_epoch = config['number_epoch']\n",
    "        hidden_dim = config['hidden_dim']\n",
    "        n_layers = config['n_layers']\n",
    "        drop_prob = config['drop_prob']\n",
    "        weight_decay = config['weight_decay']\n",
    "        print(\n",
    "            \"model config: batch_size-{}, lr-{}, number_epoch-{}, hidden_dim-{}, n_layers-{},drop_prob-{},weight_decay-{}\"\n",
    "            .format(batch_size, lr, number_epoch, hidden_dim, n_layers,\n",
    "                    drop_prob, weight_decay))\n",
    "        valid_loss = train_model_hpo(train_x_list, train_y_list, valid_x_list,\n",
    "                                     valid_y_list, input_size, output_size,\n",
    "                                     mse_thresh, batch_size, lr, number_epoch,\n",
    "                                     hidden_dim, n_layers, drop_prob, weight_decay)\n",
    "        records.append({\n",
    "            'batch_size': batch_size,\n",
    "            'lr': lr,\n",
    "            'number_epoch': number_epoch,\n",
    "            'hidden_dim': hidden_dim,\n",
    "            'n_layers': n_layers,\n",
    "            'drop_prob': drop_prob,\n",
    "            'weight_decay': weight_decay,\n",
    "            'valid_loss': valid_loss\n",
    "        })\n",
    "    return records"
   ]
  },
  {
   "cell_type": "markdown",
   "id": "a20d5656",
   "metadata": {},
   "source": [
    "## run random search"
   ]
  },
  {
   "cell_type": "code",
   "execution_count": 12,
   "id": "127efbf4",
   "metadata": {
    "ExecuteTime": {
     "end_time": "2021-12-31T10:32:18.117509Z",
     "start_time": "2021-12-31T10:23:20.791687Z"
    }
   },
   "outputs": [
    {
     "name": "stdout",
     "output_type": "stream",
     "text": [
      "supervised data: shape of x: (25232, 72, 16), shape of y: (25232, 24, 16)\n",
      "model config: batch_size-256, lr-0.01, number_epoch-30, hidden_dim-64, n_layers-2,drop_prob-0,weight_decay-0\n",
      "cross-validation dataset 0\n"
     ]
    },
    {
     "name": "stderr",
     "output_type": "stream",
     "text": [
      "Epoch: 1/30: 100%|████████████| 83/83 [00:03<00:00, 22.75it/s, train_loss=0.0327, valid_loss=0.0353]\n",
      "Epoch: 2/30: 100%|███████████| 83/83 [00:02<00:00, 29.24it/s, train_loss=0.0034, valid_loss=0.00569]\n",
      "Epoch: 3/30: 100%|██████████| 83/83 [00:02<00:00, 32.74it/s, train_loss=0.00124, valid_loss=0.00193]\n",
      "Epoch: 4/30: 100%|████████| 83/83 [00:02<00:00, 30.87it/s, train_loss=0.000818, valid_loss=0.000955]\n",
      "Epoch: 5/30: 100%|████████| 83/83 [00:02<00:00, 33.30it/s, train_loss=0.000733, valid_loss=0.000761]\n",
      "Epoch: 6/30: 100%|█████████| 83/83 [00:02<00:00, 31.54it/s, train_loss=0.000744, valid_loss=0.00048]\n",
      "Epoch: 7/30: 100%|████████| 83/83 [00:02<00:00, 33.65it/s, train_loss=0.000593, valid_loss=0.000517]\n",
      "Epoch: 8/30: 100%|████████| 83/83 [00:02<00:00, 30.49it/s, train_loss=0.000321, valid_loss=0.000426]\n",
      "Epoch: 9/30: 100%|████████| 83/83 [00:02<00:00, 33.77it/s, train_loss=0.000506, valid_loss=0.000324]\n",
      "Epoch: 10/30: 100%|███████| 83/83 [00:02<00:00, 33.90it/s, train_loss=0.000302, valid_loss=0.000236]\n",
      "Epoch: 11/30: 100%|███████| 83/83 [00:02<00:00, 32.13it/s, train_loss=0.000275, valid_loss=0.000272]\n",
      "Epoch: 12/30: 100%|███████| 83/83 [00:02<00:00, 32.16it/s, train_loss=0.000431, valid_loss=0.000204]\n",
      "Epoch: 13/30: 100%|███████| 83/83 [00:02<00:00, 31.67it/s, train_loss=0.000279, valid_loss=0.000212]\n",
      "Epoch: 14/30: 100%|████████| 83/83 [00:02<00:00, 32.57it/s, train_loss=0.000262, valid_loss=0.00021]\n",
      "Epoch: 15/30: 100%|████████| 83/83 [00:02<00:00, 31.66it/s, train_loss=0.00039, valid_loss=0.000183]\n",
      "Epoch: 16/30: 100%|███████| 83/83 [00:02<00:00, 33.41it/s, train_loss=0.000255, valid_loss=0.000191]\n",
      "Epoch: 17/30: 100%|███████| 83/83 [00:02<00:00, 32.57it/s, train_loss=0.000206, valid_loss=0.000179]\n",
      "Epoch: 18/30: 100%|███████| 83/83 [00:02<00:00, 32.21it/s, train_loss=0.000224, valid_loss=0.000178]\n",
      "Epoch: 19/30: 100%|███████| 83/83 [00:02<00:00, 33.95it/s, train_loss=0.000172, valid_loss=0.000182]\n",
      "Epoch: 20/30: 100%|███████| 83/83 [00:02<00:00, 33.71it/s, train_loss=0.000516, valid_loss=0.000382]\n",
      "Epoch: 21/30: 100%|███████| 83/83 [00:02<00:00, 34.75it/s, train_loss=0.000312, valid_loss=0.000182]\n",
      "Epoch: 22/30: 100%|███████| 83/83 [00:02<00:00, 34.29it/s, train_loss=0.000202, valid_loss=0.000169]\n",
      "Epoch: 23/30: 100%|███████| 83/83 [00:02<00:00, 33.46it/s, train_loss=0.000202, valid_loss=0.000186]\n",
      "Epoch: 24/30: 100%|███████| 83/83 [00:02<00:00, 33.87it/s, train_loss=0.000181, valid_loss=0.000165]\n",
      "Epoch: 25/30: 100%|███████| 83/83 [00:02<00:00, 32.79it/s, train_loss=0.000164, valid_loss=0.000143]\n",
      "Epoch: 26/30: 100%|████████| 83/83 [00:02<00:00, 33.55it/s, train_loss=0.00019, valid_loss=0.000157]\n",
      "Epoch: 27/30: 100%|████████| 83/83 [00:02<00:00, 33.14it/s, train_loss=0.00019, valid_loss=0.000162]\n",
      "Epoch: 28/30: 100%|███████| 83/83 [00:02<00:00, 33.67it/s, train_loss=0.000223, valid_loss=0.000176]\n",
      "Epoch: 29/30: 100%|███████| 83/83 [00:02<00:00, 31.15it/s, train_loss=0.000199, valid_loss=0.000153]\n",
      "Epoch: 30/30: 100%|███████| 83/83 [00:02<00:00, 29.88it/s, train_loss=0.000305, valid_loss=0.000156]\n"
     ]
    },
    {
     "name": "stdout",
     "output_type": "stream",
     "text": [
      "model config: batch_size-256, lr-0.01, number_epoch-30, hidden_dim-256, n_layers-2,drop_prob-0,weight_decay-0\n",
      "cross-validation dataset 0\n"
     ]
    },
    {
     "name": "stderr",
     "output_type": "stream",
     "text": [
      "Epoch: 1/30: 100%|████████████| 83/83 [00:02<00:00, 30.35it/s, train_loss=0.0294, valid_loss=0.0347]\n",
      "Epoch: 2/30: 100%|██████████| 83/83 [00:02<00:00, 29.49it/s, train_loss=0.00546, valid_loss=0.00645]\n",
      "Epoch: 3/30: 100%|███████████| 83/83 [00:02<00:00, 28.36it/s, train_loss=0.0048, valid_loss=0.00609]\n",
      "Epoch: 4/30: 100%|██████████| 83/83 [00:02<00:00, 29.14it/s, train_loss=0.00411, valid_loss=0.00669]\n",
      "Epoch: 5/30: 100%|██████████| 83/83 [00:02<00:00, 29.40it/s, train_loss=0.00398, valid_loss=0.00596]\n",
      "Epoch: 6/30: 100%|██████████| 83/83 [00:02<00:00, 29.21it/s, train_loss=0.00335, valid_loss=0.00586]\n",
      "Epoch: 7/30: 100%|██████████| 83/83 [00:02<00:00, 29.03it/s, train_loss=0.00381, valid_loss=0.00633]\n",
      "Epoch: 8/30: 100%|██████████| 83/83 [00:02<00:00, 30.65it/s, train_loss=0.00355, valid_loss=0.00737]\n",
      "Epoch: 9/30: 100%|██████████| 83/83 [00:02<00:00, 29.11it/s, train_loss=0.00278, valid_loss=0.00583]\n",
      "Epoch: 10/30: 100%|█████████| 83/83 [00:02<00:00, 29.90it/s, train_loss=0.00457, valid_loss=0.00626]\n",
      "Epoch: 11/30: 100%|██████████| 83/83 [00:02<00:00, 28.70it/s, train_loss=0.00342, valid_loss=0.0062]\n",
      "Epoch: 12/30: 100%|█████████| 83/83 [00:02<00:00, 29.77it/s, train_loss=0.00408, valid_loss=0.00571]\n",
      "Epoch: 13/30: 100%|█████████| 83/83 [00:02<00:00, 29.60it/s, train_loss=0.00315, valid_loss=0.00572]\n",
      "Epoch: 14/30: 100%|█████████| 83/83 [00:02<00:00, 28.23it/s, train_loss=0.00333, valid_loss=0.00531]\n",
      "Epoch: 15/30: 100%|██████████| 83/83 [00:02<00:00, 29.29it/s, train_loss=0.00269, valid_loss=0.0051]\n",
      "Epoch: 16/30: 100%|██████████| 83/83 [00:02<00:00, 29.82it/s, train_loss=0.0016, valid_loss=0.00292]\n",
      "Epoch: 17/30: 100%|█████████| 83/83 [00:02<00:00, 30.49it/s, train_loss=0.00153, valid_loss=0.00266]\n",
      "Epoch: 18/30: 100%|█████████| 83/83 [00:02<00:00, 30.02it/s, train_loss=0.00246, valid_loss=0.00398]\n",
      "Epoch: 19/30: 100%|████████| 83/83 [00:02<00:00, 30.53it/s, train_loss=0.000871, valid_loss=0.00201]\n",
      "Epoch: 20/30: 100%|█████████| 83/83 [00:02<00:00, 29.79it/s, train_loss=0.00114, valid_loss=0.00191]\n",
      "Epoch: 21/30: 100%|████████| 83/83 [00:02<00:00, 30.35it/s, train_loss=0.000925, valid_loss=0.00151]\n",
      "Epoch: 22/30: 100%|██████████| 83/83 [00:02<00:00, 30.67it/s, train_loss=0.0013, valid_loss=0.00183]\n",
      "Epoch: 23/30: 100%|████████| 83/83 [00:02<00:00, 29.78it/s, train_loss=0.000776, valid_loss=0.00165]\n",
      "Epoch: 24/30: 100%|█████████| 83/83 [00:02<00:00, 30.81it/s, train_loss=0.000882, valid_loss=0.0017]\n",
      "Epoch: 25/30: 100%|████████| 83/83 [00:02<00:00, 30.14it/s, train_loss=0.000589, valid_loss=0.00129]\n",
      "Epoch: 26/30: 100%|████████| 83/83 [00:02<00:00, 30.06it/s, train_loss=0.000578, valid_loss=0.00108]\n",
      "Epoch: 27/30: 100%|██████████| 83/83 [00:02<00:00, 29.94it/s, train_loss=0.00052, valid_loss=0.0014]\n",
      "Epoch: 28/30: 100%|███████| 83/83 [00:02<00:00, 30.78it/s, train_loss=0.000369, valid_loss=0.000751]\n",
      "Epoch: 29/30: 100%|████████| 83/83 [00:02<00:00, 30.05it/s, train_loss=0.000618, valid_loss=0.00083]\n",
      "Epoch: 30/30: 100%|███████| 83/83 [00:02<00:00, 30.23it/s, train_loss=0.000341, valid_loss=0.000756]\n"
     ]
    },
    {
     "name": "stdout",
     "output_type": "stream",
     "text": [
      "model config: batch_size-256, lr-0.01, number_epoch-30, hidden_dim-128, n_layers-2,drop_prob-0,weight_decay-0\n",
      "cross-validation dataset 0\n"
     ]
    },
    {
     "name": "stderr",
     "output_type": "stream",
     "text": [
      "Epoch: 1/30: 100%|██████████| 83/83 [00:02<00:00, 29.88it/s, train_loss=0.00164, valid_loss=0.00149]\n",
      "Epoch: 2/30: 100%|████████| 83/83 [00:02<00:00, 29.63it/s, train_loss=0.000456, valid_loss=0.000324]\n",
      "Epoch: 3/30: 100%|████████| 83/83 [00:02<00:00, 30.30it/s, train_loss=0.000292, valid_loss=0.000371]\n",
      "Epoch: 4/30: 100%|████████| 83/83 [00:02<00:00, 29.72it/s, train_loss=0.000366, valid_loss=0.000223]\n",
      "Epoch: 5/30: 100%|████████| 83/83 [00:02<00:00, 30.48it/s, train_loss=0.000205, valid_loss=0.000177]\n",
      "Epoch: 6/30: 100%|████████| 83/83 [00:02<00:00, 29.88it/s, train_loss=0.000199, valid_loss=0.000165]\n",
      "Epoch: 7/30: 100%|████████| 83/83 [00:02<00:00, 30.59it/s, train_loss=0.000378, valid_loss=0.000253]\n",
      "Epoch: 8/30: 100%|████████| 83/83 [00:02<00:00, 29.31it/s, train_loss=0.000208, valid_loss=0.000184]\n",
      "Epoch: 9/30: 100%|████████| 83/83 [00:02<00:00, 30.21it/s, train_loss=0.000302, valid_loss=0.000337]\n",
      "Epoch: 10/30: 100%|███████| 83/83 [00:02<00:00, 29.64it/s, train_loss=0.000327, valid_loss=0.000137]\n",
      "Epoch: 11/30: 100%|███████| 83/83 [00:02<00:00, 29.95it/s, train_loss=0.000306, valid_loss=0.000302]\n",
      "Epoch: 12/30: 100%|███████| 83/83 [00:02<00:00, 29.57it/s, train_loss=0.000361, valid_loss=0.000497]\n",
      "Epoch: 13/30: 100%|███████| 83/83 [00:02<00:00, 30.19it/s, train_loss=0.000155, valid_loss=0.000198]\n",
      "Epoch: 14/30: 100%|███████| 83/83 [00:02<00:00, 30.28it/s, train_loss=0.000134, valid_loss=0.000129]\n",
      "Epoch: 15/30: 100%|███████| 83/83 [00:02<00:00, 29.92it/s, train_loss=0.000195, valid_loss=0.000114]\n",
      "Epoch: 16/30: 100%|███████| 83/83 [00:02<00:00, 30.49it/s, train_loss=0.000319, valid_loss=0.000279]\n",
      "Epoch: 17/30: 100%|███████| 83/83 [00:02<00:00, 29.55it/s, train_loss=0.000127, valid_loss=0.000107]\n",
      "Epoch: 18/30: 100%|████████| 83/83 [00:02<00:00, 30.42it/s, train_loss=0.000119, valid_loss=0.00011]\n",
      "Epoch: 19/30: 100%|████████| 83/83 [00:02<00:00, 29.73it/s, train_loss=0.00013, valid_loss=0.000138]\n",
      "Epoch: 20/30: 100%|███████| 83/83 [00:02<00:00, 30.02it/s, train_loss=0.000114, valid_loss=0.000155]\n",
      "Epoch: 21/30: 100%|████████| 83/83 [00:02<00:00, 29.75it/s, train_loss=0.000209, valid_loss=9.38e-5]\n",
      "Epoch: 22/30: 100%|███████| 83/83 [00:02<00:00, 30.37it/s, train_loss=0.000128, valid_loss=0.000166]\n",
      "Epoch: 23/30: 100%|████████| 83/83 [00:02<00:00, 29.40it/s, train_loss=7.97e-5, valid_loss=0.000139]\n",
      "Epoch: 24/30: 100%|████████| 83/83 [00:02<00:00, 30.05it/s, train_loss=8.98e-5, valid_loss=0.000156]\n",
      "Epoch: 25/30: 100%|███████| 83/83 [00:02<00:00, 30.33it/s, train_loss=0.000101, valid_loss=0.000103]\n",
      "Epoch: 26/30: 100%|████████| 83/83 [00:02<00:00, 29.41it/s, train_loss=0.00018, valid_loss=0.000111]\n",
      "Epoch: 27/30: 100%|███████| 83/83 [00:02<00:00, 29.99it/s, train_loss=0.000102, valid_loss=0.000116]\n",
      "Epoch: 28/30: 100%|█████████| 83/83 [00:02<00:00, 30.06it/s, train_loss=9.11e-5, valid_loss=8.34e-5]\n",
      "Epoch: 29/30: 100%|█████████| 83/83 [00:02<00:00, 30.20it/s, train_loss=9.19e-5, valid_loss=0.00013]\n",
      "Epoch: 30/30: 100%|███████| 83/83 [00:02<00:00, 29.84it/s, train_loss=0.000146, valid_loss=0.000291]\n"
     ]
    },
    {
     "name": "stdout",
     "output_type": "stream",
     "text": [
      "model config: batch_size-256, lr-0.01, number_epoch-30, hidden_dim-64, n_layers-3,drop_prob-0,weight_decay-0\n",
      "cross-validation dataset 0\n"
     ]
    },
    {
     "name": "stderr",
     "output_type": "stream",
     "text": [
      "Epoch: 1/30: 100%|████████████| 83/83 [00:03<00:00, 26.02it/s, train_loss=0.0269, valid_loss=0.0337]\n",
      "Epoch: 2/30: 100%|██████████| 83/83 [00:03<00:00, 25.28it/s, train_loss=0.00224, valid_loss=0.00336]\n",
      "Epoch: 3/30: 100%|█████████| 83/83 [00:03<00:00, 25.00it/s, train_loss=0.000831, valid_loss=0.00125]\n",
      "Epoch: 4/30: 100%|██████████| 83/83 [00:03<00:00, 24.85it/s, train_loss=0.00112, valid_loss=0.00115]\n",
      "Epoch: 5/30: 100%|█████████| 83/83 [00:03<00:00, 25.78it/s, train_loss=0.00045, valid_loss=0.000772]\n",
      "Epoch: 6/30: 100%|████████| 83/83 [00:03<00:00, 25.79it/s, train_loss=0.000572, valid_loss=0.000603]\n",
      "Epoch: 7/30: 100%|████████| 83/83 [00:03<00:00, 24.66it/s, train_loss=0.000491, valid_loss=0.000347]\n",
      "Epoch: 8/30: 100%|█████████| 83/83 [00:03<00:00, 25.48it/s, train_loss=0.000352, valid_loss=0.00029]\n",
      "Epoch: 9/30: 100%|████████| 83/83 [00:03<00:00, 24.93it/s, train_loss=0.000346, valid_loss=0.000465]\n",
      "Epoch: 10/30: 100%|████████| 83/83 [00:03<00:00, 25.27it/s, train_loss=0.00026, valid_loss=0.000322]\n",
      "Epoch: 11/30: 100%|███████| 83/83 [00:03<00:00, 26.77it/s, train_loss=0.000365, valid_loss=0.000345]\n",
      "Epoch: 12/30: 100%|████████| 83/83 [00:02<00:00, 28.30it/s, train_loss=0.000319, valid_loss=0.00024]\n",
      "Epoch: 13/30: 100%|███████| 83/83 [00:02<00:00, 27.87it/s, train_loss=0.000341, valid_loss=0.000292]\n",
      "Epoch: 14/30: 100%|███████| 83/83 [00:02<00:00, 27.87it/s, train_loss=0.000293, valid_loss=0.000252]\n",
      "Epoch: 15/30: 100%|███████| 83/83 [00:03<00:00, 26.84it/s, train_loss=0.000327, valid_loss=0.000266]\n",
      "Epoch: 16/30: 100%|████████| 83/83 [00:02<00:00, 28.01it/s, train_loss=0.000326, valid_loss=0.00021]\n",
      "Epoch: 17/30: 100%|███████| 83/83 [00:02<00:00, 28.45it/s, train_loss=0.000279, valid_loss=0.000337]\n",
      "Epoch: 18/30: 100%|███████| 83/83 [00:03<00:00, 27.20it/s, train_loss=0.000232, valid_loss=0.000603]\n",
      "Epoch: 19/30: 100%|███████| 83/83 [00:02<00:00, 28.40it/s, train_loss=0.000341, valid_loss=0.000718]\n",
      "Epoch: 20/30: 100%|████████| 83/83 [00:02<00:00, 27.67it/s, train_loss=0.000249, valid_loss=0.00027]\n",
      "Epoch: 21/30: 100%|███████| 83/83 [00:03<00:00, 27.33it/s, train_loss=0.000221, valid_loss=0.000168]\n",
      "Epoch: 22/30: 100%|███████| 83/83 [00:02<00:00, 27.73it/s, train_loss=0.000307, valid_loss=0.000467]\n",
      "Epoch: 23/30: 100%|███████| 83/83 [00:02<00:00, 27.79it/s, train_loss=0.000212, valid_loss=0.000189]\n",
      "Epoch: 24/30: 100%|███████| 83/83 [00:03<00:00, 27.53it/s, train_loss=0.000587, valid_loss=0.000299]\n",
      "Epoch: 25/30: 100%|███████| 83/83 [00:03<00:00, 27.64it/s, train_loss=0.000183, valid_loss=0.000186]\n",
      "Epoch: 26/30: 100%|████████| 83/83 [00:03<00:00, 27.04it/s, train_loss=0.00021, valid_loss=0.000188]\n",
      "Epoch: 27/30: 100%|███████| 83/83 [00:02<00:00, 28.58it/s, train_loss=0.000199, valid_loss=0.000164]\n",
      "Epoch: 28/30: 100%|████████| 83/83 [00:02<00:00, 28.25it/s, train_loss=0.000259, valid_loss=0.00015]\n",
      "Epoch: 29/30: 100%|███████| 83/83 [00:03<00:00, 27.32it/s, train_loss=0.000218, valid_loss=0.000255]\n",
      "Epoch: 30/30: 100%|███████| 83/83 [00:02<00:00, 28.09it/s, train_loss=0.000237, valid_loss=0.000156]\n"
     ]
    },
    {
     "name": "stdout",
     "output_type": "stream",
     "text": [
      "model config: batch_size-256, lr-0.01, number_epoch-30, hidden_dim-128, n_layers-3,drop_prob-0,weight_decay-0\n",
      "cross-validation dataset 0\n"
     ]
    },
    {
     "name": "stderr",
     "output_type": "stream",
     "text": [
      "Epoch: 1/30: 100%|████████████| 83/83 [00:03<00:00, 25.06it/s, train_loss=0.0307, valid_loss=0.0352]\n",
      "Epoch: 2/30: 100%|█████████████| 83/83 [00:03<00:00, 25.02it/s, train_loss=0.0289, valid_loss=0.035]\n",
      "Epoch: 3/30: 100%|████████████| 83/83 [00:03<00:00, 24.88it/s, train_loss=0.0318, valid_loss=0.0354]\n",
      "Epoch: 4/30: 100%|████████████| 83/83 [00:03<00:00, 25.38it/s, train_loss=0.0316, valid_loss=0.0351]\n",
      "Epoch: 5/30: 100%|████████████| 83/83 [00:03<00:00, 24.63it/s, train_loss=0.0356, valid_loss=0.0355]\n",
      "Epoch: 6/30: 100%|████████████| 83/83 [00:03<00:00, 25.02it/s, train_loss=0.0305, valid_loss=0.0347]\n",
      "Epoch: 7/30: 100%|████████████| 83/83 [00:03<00:00, 24.93it/s, train_loss=0.0319, valid_loss=0.0348]\n",
      "Epoch: 8/30: 100%|████████████| 83/83 [00:03<00:00, 25.16it/s, train_loss=0.0345, valid_loss=0.0352]\n",
      "Epoch: 9/30: 100%|█████████████| 83/83 [00:03<00:00, 25.37it/s, train_loss=0.0277, valid_loss=0.035]\n",
      "Epoch: 10/30: 100%|███████████| 83/83 [00:03<00:00, 25.02it/s, train_loss=0.0286, valid_loss=0.0354]\n",
      "Epoch: 11/30: 100%|████████████| 83/83 [00:03<00:00, 24.77it/s, train_loss=0.0266, valid_loss=0.035]\n",
      "Epoch: 12/30: 100%|███████████| 83/83 [00:03<00:00, 25.01it/s, train_loss=0.0316, valid_loss=0.0355]\n",
      "Epoch: 13/30: 100%|███████████| 83/83 [00:03<00:00, 25.26it/s, train_loss=0.0343, valid_loss=0.0349]\n",
      "Epoch: 14/30: 100%|███████████| 83/83 [00:03<00:00, 25.08it/s, train_loss=0.0304, valid_loss=0.0354]\n",
      "Epoch: 15/30: 100%|███████████| 83/83 [00:03<00:00, 25.00it/s, train_loss=0.0248, valid_loss=0.0353]\n",
      "Epoch: 16/30: 100%|████████████| 83/83 [00:03<00:00, 24.63it/s, train_loss=0.032, valid_loss=0.0351]\n",
      "Epoch: 17/30: 100%|███████████| 83/83 [00:03<00:00, 25.28it/s, train_loss=0.0274, valid_loss=0.0352]\n",
      "Epoch: 18/30: 100%|███████████| 83/83 [00:03<00:00, 24.75it/s, train_loss=0.0307, valid_loss=0.0349]\n",
      "Epoch: 19/30: 100%|███████████| 83/83 [00:03<00:00, 24.90it/s, train_loss=0.0285, valid_loss=0.0348]\n",
      "Epoch: 20/30: 100%|███████████| 83/83 [00:03<00:00, 24.71it/s, train_loss=0.0349, valid_loss=0.0345]\n",
      "Epoch: 21/30: 100%|███████████| 83/83 [00:03<00:00, 24.24it/s, train_loss=0.0316, valid_loss=0.0351]\n",
      "Epoch: 22/30: 100%|███████████| 83/83 [00:03<00:00, 25.07it/s, train_loss=0.0362, valid_loss=0.0355]\n",
      "Epoch: 23/30: 100%|████████████| 83/83 [00:03<00:00, 24.70it/s, train_loss=0.0318, valid_loss=0.035]\n",
      "Epoch: 24/30: 100%|████████████| 83/83 [00:03<00:00, 24.70it/s, train_loss=0.032, valid_loss=0.0349]\n",
      "Epoch: 25/30: 100%|███████████| 83/83 [00:03<00:00, 24.78it/s, train_loss=0.0303, valid_loss=0.0352]\n",
      "Epoch: 26/30: 100%|████████████| 83/83 [00:03<00:00, 25.36it/s, train_loss=0.0349, valid_loss=0.035]\n",
      "Epoch: 27/30: 100%|███████████| 83/83 [00:03<00:00, 24.55it/s, train_loss=0.0353, valid_loss=0.0349]\n",
      "Epoch: 28/30: 100%|███████████| 83/83 [00:03<00:00, 25.51it/s, train_loss=0.0327, valid_loss=0.0348]\n",
      "Epoch: 29/30: 100%|███████████| 83/83 [00:03<00:00, 25.11it/s, train_loss=0.0269, valid_loss=0.0351]\n",
      "Epoch: 30/30: 100%|███████████| 83/83 [00:03<00:00, 24.49it/s, train_loss=0.0269, valid_loss=0.0352]\n"
     ]
    },
    {
     "name": "stdout",
     "output_type": "stream",
     "text": [
      "model config: batch_size-256, lr-0.01, number_epoch-30, hidden_dim-256, n_layers-3,drop_prob-0,weight_decay-0\n",
      "cross-validation dataset 0\n"
     ]
    },
    {
     "name": "stderr",
     "output_type": "stream",
     "text": [
      "Epoch: 1/30: 100%|████████████| 83/83 [00:03<00:00, 26.32it/s, train_loss=0.0302, valid_loss=0.0353]\n",
      "Epoch: 2/30: 100%|████████████| 83/83 [00:03<00:00, 25.03it/s, train_loss=0.0362, valid_loss=0.0349]\n",
      "Epoch: 3/30: 100%|████████████| 83/83 [00:03<00:00, 25.87it/s, train_loss=0.0317, valid_loss=0.0347]\n",
      "Epoch: 4/30: 100%|████████████| 83/83 [00:03<00:00, 25.48it/s, train_loss=0.0297, valid_loss=0.0349]\n",
      "Epoch: 5/30: 100%|████████████| 83/83 [00:03<00:00, 25.63it/s, train_loss=0.0295, valid_loss=0.0354]\n",
      "Epoch: 6/30: 100%|████████████| 83/83 [00:03<00:00, 25.28it/s, train_loss=0.0305, valid_loss=0.0355]\n",
      "Epoch: 7/30: 100%|█████████████| 83/83 [00:03<00:00, 25.74it/s, train_loss=0.0275, valid_loss=0.035]\n",
      "Epoch: 8/30: 100%|████████████| 83/83 [00:03<00:00, 25.22it/s, train_loss=0.0325, valid_loss=0.0355]\n",
      "Epoch: 9/30: 100%|████████████| 83/83 [00:03<00:00, 25.42it/s, train_loss=0.0276, valid_loss=0.0347]\n",
      "Epoch: 10/30: 100%|███████████| 83/83 [00:03<00:00, 25.32it/s, train_loss=0.0325, valid_loss=0.0348]\n",
      "Epoch: 11/30: 100%|███████████| 83/83 [00:03<00:00, 25.68it/s, train_loss=0.0286, valid_loss=0.0359]\n",
      "Epoch: 12/30: 100%|████████████| 83/83 [00:03<00:00, 25.48it/s, train_loss=0.0329, valid_loss=0.035]\n",
      "Epoch: 13/30: 100%|████████████| 83/83 [00:03<00:00, 25.63it/s, train_loss=0.0356, valid_loss=0.035]\n",
      "Epoch: 14/30: 100%|███████████| 83/83 [00:03<00:00, 25.86it/s, train_loss=0.0303, valid_loss=0.0358]\n",
      "Epoch: 15/30: 100%|███████████| 83/83 [00:03<00:00, 25.80it/s, train_loss=0.0279, valid_loss=0.0359]\n",
      "Epoch: 16/30: 100%|███████████| 83/83 [00:03<00:00, 26.14it/s, train_loss=0.0312, valid_loss=0.0355]\n",
      "Epoch: 17/30: 100%|████████████| 83/83 [00:03<00:00, 25.44it/s, train_loss=0.0278, valid_loss=0.035]\n",
      "Epoch: 18/30: 100%|███████████| 83/83 [00:03<00:00, 26.15it/s, train_loss=0.0306, valid_loss=0.0355]\n",
      "Epoch: 19/30: 100%|███████████| 83/83 [00:03<00:00, 25.71it/s, train_loss=0.0323, valid_loss=0.0355]\n",
      "Epoch: 20/30: 100%|████████████| 83/83 [00:03<00:00, 25.97it/s, train_loss=0.0313, valid_loss=0.035]\n",
      "Epoch: 21/30: 100%|███████████| 83/83 [00:03<00:00, 25.91it/s, train_loss=0.0291, valid_loss=0.0352]\n",
      "Epoch: 22/30: 100%|███████████| 83/83 [00:03<00:00, 25.66it/s, train_loss=0.0314, valid_loss=0.0349]\n",
      "Epoch: 23/30: 100%|███████████| 83/83 [00:03<00:00, 26.31it/s, train_loss=0.0322, valid_loss=0.0357]\n",
      "Epoch: 24/30: 100%|█████████████| 83/83 [00:03<00:00, 25.99it/s, train_loss=0.027, valid_loss=0.036]\n",
      "Epoch: 25/30: 100%|███████████| 83/83 [00:03<00:00, 25.72it/s, train_loss=0.0325, valid_loss=0.0347]\n",
      "Epoch: 26/30: 100%|████████████| 83/83 [00:03<00:00, 25.65it/s, train_loss=0.0319, valid_loss=0.035]\n",
      "Epoch: 27/30: 100%|███████████| 83/83 [00:03<00:00, 25.56it/s, train_loss=0.0287, valid_loss=0.0351]\n",
      "Epoch: 28/30: 100%|███████████| 83/83 [00:03<00:00, 25.16it/s, train_loss=0.0339, valid_loss=0.0351]\n",
      "Epoch: 29/30: 100%|███████████| 83/83 [00:03<00:00, 25.58it/s, train_loss=0.0342, valid_loss=0.0352]\n",
      "Epoch: 30/30: 100%|███████████| 83/83 [00:03<00:00, 25.09it/s, train_loss=0.0273, valid_loss=0.0352]\n"
     ]
    }
   ],
   "source": [
    "random_seed_set(16)\n",
    "records = run_model_hpo()"
   ]
  },
  {
   "cell_type": "markdown",
   "id": "12970fa1",
   "metadata": {
    "ExecuteTime": {
     "end_time": "2021-12-22T08:52:06.844501Z",
     "start_time": "2021-12-22T08:52:06.830928Z"
    }
   },
   "source": [
    "## find the best hyper-parameters"
   ]
  },
  {
   "cell_type": "code",
   "execution_count": 13,
   "id": "c7c6d0c6",
   "metadata": {
    "ExecuteTime": {
     "end_time": "2021-12-31T10:34:15.496797Z",
     "start_time": "2021-12-31T10:34:15.464473Z"
    }
   },
   "outputs": [
    {
     "data": {
      "text/html": [
       "<div>\n",
       "<style scoped>\n",
       "    .dataframe tbody tr th:only-of-type {\n",
       "        vertical-align: middle;\n",
       "    }\n",
       "\n",
       "    .dataframe tbody tr th {\n",
       "        vertical-align: top;\n",
       "    }\n",
       "\n",
       "    .dataframe thead th {\n",
       "        text-align: right;\n",
       "    }\n",
       "</style>\n",
       "<table border=\"1\" class=\"dataframe\">\n",
       "  <thead>\n",
       "    <tr style=\"text-align: right;\">\n",
       "      <th></th>\n",
       "      <th>batch_size</th>\n",
       "      <th>lr</th>\n",
       "      <th>number_epoch</th>\n",
       "      <th>hidden_dim</th>\n",
       "      <th>n_layers</th>\n",
       "      <th>drop_prob</th>\n",
       "      <th>weight_decay</th>\n",
       "      <th>valid_loss</th>\n",
       "    </tr>\n",
       "  </thead>\n",
       "  <tbody>\n",
       "    <tr>\n",
       "      <th>2</th>\n",
       "      <td>256</td>\n",
       "      <td>0.01</td>\n",
       "      <td>30</td>\n",
       "      <td>128</td>\n",
       "      <td>2</td>\n",
       "      <td>0</td>\n",
       "      <td>0</td>\n",
       "      <td>0.000080</td>\n",
       "    </tr>\n",
       "    <tr>\n",
       "      <th>0</th>\n",
       "      <td>256</td>\n",
       "      <td>0.01</td>\n",
       "      <td>30</td>\n",
       "      <td>64</td>\n",
       "      <td>2</td>\n",
       "      <td>0</td>\n",
       "      <td>0</td>\n",
       "      <td>0.000136</td>\n",
       "    </tr>\n",
       "    <tr>\n",
       "      <th>3</th>\n",
       "      <td>256</td>\n",
       "      <td>0.01</td>\n",
       "      <td>30</td>\n",
       "      <td>64</td>\n",
       "      <td>3</td>\n",
       "      <td>0</td>\n",
       "      <td>0</td>\n",
       "      <td>0.000150</td>\n",
       "    </tr>\n",
       "    <tr>\n",
       "      <th>1</th>\n",
       "      <td>256</td>\n",
       "      <td>0.01</td>\n",
       "      <td>30</td>\n",
       "      <td>256</td>\n",
       "      <td>2</td>\n",
       "      <td>0</td>\n",
       "      <td>0</td>\n",
       "      <td>0.000631</td>\n",
       "    </tr>\n",
       "    <tr>\n",
       "      <th>5</th>\n",
       "      <td>256</td>\n",
       "      <td>0.01</td>\n",
       "      <td>30</td>\n",
       "      <td>256</td>\n",
       "      <td>3</td>\n",
       "      <td>0</td>\n",
       "      <td>0</td>\n",
       "      <td>0.034359</td>\n",
       "    </tr>\n",
       "    <tr>\n",
       "      <th>4</th>\n",
       "      <td>256</td>\n",
       "      <td>0.01</td>\n",
       "      <td>30</td>\n",
       "      <td>128</td>\n",
       "      <td>3</td>\n",
       "      <td>0</td>\n",
       "      <td>0</td>\n",
       "      <td>0.034402</td>\n",
       "    </tr>\n",
       "  </tbody>\n",
       "</table>\n",
       "</div>"
      ],
      "text/plain": [
       "   batch_size    lr  number_epoch  hidden_dim  n_layers  drop_prob  \\\n",
       "2         256  0.01            30         128         2          0   \n",
       "0         256  0.01            30          64         2          0   \n",
       "3         256  0.01            30          64         3          0   \n",
       "1         256  0.01            30         256         2          0   \n",
       "5         256  0.01            30         256         3          0   \n",
       "4         256  0.01            30         128         3          0   \n",
       "\n",
       "   weight_decay  valid_loss  \n",
       "2             0    0.000080  \n",
       "0             0    0.000136  \n",
       "3             0    0.000150  \n",
       "1             0    0.000631  \n",
       "5             0    0.034359  \n",
       "4             0    0.034402  "
      ]
     },
     "execution_count": 13,
     "metadata": {},
     "output_type": "execute_result"
    }
   ],
   "source": [
    "records = pd.DataFrame(records).sort_values(by='valid_loss')\n",
    "records.to_csv('./records/GRU_records.csv', mode='a', index=False, header=False)\n",
    "records"
   ]
  },
  {
   "cell_type": "markdown",
   "id": "c206c377",
   "metadata": {},
   "source": [
    "## retrain a model"
   ]
  },
  {
   "cell_type": "code",
   "execution_count": 82,
   "id": "c7dcd186",
   "metadata": {
    "ExecuteTime": {
     "end_time": "2021-12-31T11:53:34.887844Z",
     "start_time": "2021-12-31T11:53:34.860632Z"
    }
   },
   "outputs": [],
   "source": [
    "def train_model(train_x, train_y, valid_x, valid_y, input_size, output_size,\n",
    "                mse_thresh, batch_size, lr, number_epoch, hidden_dim, n_layers,\n",
    "                drop_prob, weight_decay):\n",
    "    while (1):\n",
    "        model = GRU(input_size, output_size, hidden_dim, n_layers,\n",
    "                       drop_prob)\n",
    "        model.to(device=device)\n",
    "        criterion = nn.MSELoss()\n",
    "        optimizer = torch.optim.Adam(model.parameters(), lr=lr, weight_decay=weight_decay)\n",
    "        scheduler = torch.optim.lr_scheduler.StepLR(optimizer, 1, gamma=0.98)\n",
    "        valid_loss_min = np.Inf\n",
    "        train_dataset = TensorDataset(torch.FloatTensor(train_x),\n",
    "                                      torch.FloatTensor(train_y))\n",
    "        valid_dataset = TensorDataset(torch.FloatTensor(valid_x),\n",
    "                                      torch.FloatTensor(valid_y))\n",
    "        train_loader = DataLoader(dataset=train_dataset,\n",
    "                                  batch_size=batch_size,\n",
    "                                  shuffle=True,\n",
    "                                  drop_last=False)\n",
    "        valid_loader = DataLoader(dataset=valid_dataset,\n",
    "                                  batch_size=batch_size,\n",
    "                                  shuffle=True,\n",
    "                                  drop_last=False)\n",
    "        num_without_imp = 0\n",
    "        train_loss_list = []\n",
    "        valid_loss_list = []\n",
    "        # training process\n",
    "        for epoch in range(1, number_epoch + 1):\n",
    "            loop = tqdm(enumerate(train_loader),\n",
    "                        total=len(train_loader),\n",
    "                        leave=True, ncols=100)\n",
    "            for i, (inputs, labels) in loop:\n",
    "                inputs = inputs.to(device=device)\n",
    "                labels = labels.to(device=device)\n",
    "                optimizer.zero_grad()\n",
    "                outputs = torch.zeros_like(labels[:, :, -1]).to(device)\n",
    "                # training using teacher-forcing\n",
    "                for j in range(target_len):\n",
    "                    output = model(inputs)\n",
    "                    inputs_add = labels[:, j, :]\n",
    "                    inputs = torch.cat((inputs[:, j:, :], torch.unsqueeze(inputs_add, dim=1)), dim=1)\n",
    "                    outputs[:, j] = output.squeeze()\n",
    "                loss = criterion(outputs, labels[:, :, -1])\n",
    "                loss.backward()\n",
    "                optimizer.step()\n",
    "                if i % 5 == 0:\n",
    "                    num_without_imp = num_without_imp + 1\n",
    "                    valid_losses = list()\n",
    "                    model.eval()\n",
    "                    for inp, lab in valid_loader:\n",
    "                        inp = inp.to(device)\n",
    "                        lab = lab.to(device)\n",
    "                        outs = torch.zeros_like(lab[:, :, -1]).to(device)\n",
    "                        # evaluating using autoregression\n",
    "                        for j in range(target_len):\n",
    "                            out = model(inp)\n",
    "                            inp_add = torch.cat((lab[:, j, :-1], out.detach()), dim=1)\n",
    "                            inp = torch.cat((inp[:, j:, :], torch.unsqueeze(inp_add, dim=1)), dim=1)\n",
    "                            outs[:, j] = out.squeeze()\n",
    "                        valid_loss = criterion(outs, lab[:, :, -1])\n",
    "                        valid_losses.append(valid_loss.item())\n",
    "\n",
    "                    model.train()\n",
    "                    loop.set_description(\"Epoch: {}/{}\".format(\n",
    "                        epoch, number_epoch))\n",
    "                    loop.set_postfix(train_loss=loss.item(),\n",
    "                                     valid_loss=np.mean(valid_losses))\n",
    "                    \n",
    "                    train_loss_list.append(loss.item())\n",
    "                    valid_loss_list.append(np.mean(valid_losses))\n",
    "                    if np.mean(valid_losses) < valid_loss_min:\n",
    "                        num_without_imp = 0\n",
    "                        torch.save(model.state_dict(),\n",
    "                                   './model/GRU_state_dict.pt')\n",
    "                        valid_loss_min = np.mean(valid_losses)\n",
    "            scheduler.step()\n",
    "        if valid_loss_min < mse_thresh:\n",
    "            break\n",
    "    return model, train_loss_list, valid_loss_list"
   ]
  },
  {
   "cell_type": "markdown",
   "id": "b77552fb",
   "metadata": {},
   "source": [
    "## test results"
   ]
  },
  {
   "cell_type": "code",
   "execution_count": 61,
   "id": "fcebcc0f",
   "metadata": {
    "ExecuteTime": {
     "end_time": "2021-12-31T11:22:58.211063Z",
     "start_time": "2021-12-31T11:22:58.193865Z"
    }
   },
   "outputs": [],
   "source": [
    "def test_model(model, test_x, test_y, target_len, scaler_y, batch_size):\n",
    "    test_dataset = TensorDataset(torch.FloatTensor(test_x),\n",
    "                                 torch.FloatTensor(test_y))\n",
    "    test_loader = DataLoader(dataset=test_dataset,\n",
    "                             batch_size=batch_size,\n",
    "                             shuffle=False,\n",
    "                             drop_last=False)\n",
    "    model.load_state_dict(torch.load('./model/GRU_state_dict.pt'))\n",
    "    y_pred = []\n",
    "    y_true = []\n",
    "    with torch.no_grad():\n",
    "        for inputs, label in test_loader:\n",
    "            inputs = inputs.to(device)\n",
    "            output = np.zeros_like(label[:, :, -1])\n",
    "            label = label.to(device)\n",
    "            for i in range(target_len):\n",
    "                outputs = model(inputs)\n",
    "                inputs_add = torch.cat((label[:, i, :-1], outputs), dim=1)\n",
    "                inputs = torch.cat((inputs[:, i:, :], torch.unsqueeze(inputs_add, dim=1)), dim=1)\n",
    "                output[:, i] = outputs.cpu().numpy().flatten()\n",
    "            y_pred += output.flatten().tolist()\n",
    "            y_true += label[:, :, -1].cpu().numpy().flatten().tolist()\n",
    "    y_pred = np.array(y_pred).reshape(-1, 1)\n",
    "    y_true = np.array(y_true).reshape(-1, 1)\n",
    "    #     pdb.set_trace()\n",
    "    load_pred = scaler_y.inverse_transform(y_pred)\n",
    "    load_true = scaler_y.inverse_transform(y_true)\n",
    "    MAPE = np.mean(np.abs(load_true - load_pred) / load_true)\n",
    "    MAE = np.mean(np.abs(load_true - load_pred))\n",
    "    RMSE = np.sqrt(np.mean(np.square(load_true - load_pred)))\n",
    "    return MAPE, MAE, RMSE, load_pred, load_true"
   ]
  },
  {
   "cell_type": "markdown",
   "id": "fb86c804",
   "metadata": {},
   "source": [
    "## run model retraining"
   ]
  },
  {
   "cell_type": "code",
   "execution_count": 88,
   "id": "503e4d78",
   "metadata": {
    "ExecuteTime": {
     "end_time": "2021-12-31T12:10:02.147740Z",
     "start_time": "2021-12-31T12:10:02.131027Z"
    }
   },
   "outputs": [],
   "source": [
    "def run_model_retraining(seq_len=seq_len,\n",
    "                         target_len=target_len,\n",
    "                         mse_thresh=mse_thresh):\n",
    "    train_data = data[:int(0.8 * len(data))]\n",
    "    #     train_data = data[:-800]\n",
    "    train_data, scaler, scaler_y = normalization(train_data)\n",
    "    train_x, train_y = series_to_supervise(train_data, seq_len, target_len)\n",
    "\n",
    "    valid_x = train_x[int(0.8 * len(train_x)):]\n",
    "    valid_y = train_y[int(0.8 * len(train_y)):]\n",
    "    train_x = train_x[:int(0.8 * len(train_x))]\n",
    "    train_y = train_y[:int(0.8 * len(train_y))]\n",
    "    input_size = train_x.shape[2]\n",
    "    output_size = target_len\n",
    "\n",
    "    #     hyper-parameters define\n",
    "    batch_size = 256\n",
    "    lr = 0.01\n",
    "    number_epoch = 80\n",
    "    hidden_dim = 128\n",
    "    n_layers = 2\n",
    "    drop_prob = 0\n",
    "    weight_decay = 0\n",
    "    mse_thresh = 0.01\n",
    "\n",
    "    model, train_loss_list, valid_loss_list = train_model(\n",
    "        train_x, train_y, valid_x, valid_y, input_size, output_size,\n",
    "        mse_thresh, batch_size, lr, number_epoch, hidden_dim, n_layers,\n",
    "        drop_prob, weight_decay)\n",
    "\n",
    "    # plot training process\n",
    "    plt.plot(train_loss_list[10:], 'm', label='train_loss')\n",
    "    plt.plot(valid_loss_list[10:], 'g', label='valid_loss')\n",
    "    plt.grid('both')\n",
    "    plt.legend()\n",
    "\n",
    "    # test\n",
    "    test_data = data[int(0.8 * len(data)):]\n",
    "    #     test_data = data[-800:]\n",
    "    test_data = scaler.transform(test_data)\n",
    "    test_x, test_y = series_to_supervise(test_data, seq_len, target_len)\n",
    "    MAPE, MAE, RMSE, load_pred, load_true = test_model(model, test_x, test_y,\n",
    "                                                       target_len, scaler_y,\n",
    "                                                       batch_size)\n",
    "    return MAPE, MAE, RMSE, load_pred, load_true"
   ]
  },
  {
   "cell_type": "code",
   "execution_count": 89,
   "id": "87166bbc",
   "metadata": {
    "ExecuteTime": {
     "end_time": "2021-12-31T12:30:14.381088Z",
     "start_time": "2021-12-31T12:10:22.135457Z"
    }
   },
   "outputs": [
    {
     "name": "stdout",
     "output_type": "stream",
     "text": [
      "supervised data: shape of x: (25232, 72, 16), shape of y: (25232, 24, 16)\n"
     ]
    },
    {
     "name": "stderr",
     "output_type": "stream",
     "text": [
      "Epoch: 1/80: 100%|███████████| 79/79 [00:14<00:00,  5.29it/s, train_loss=0.00668, valid_loss=0.0499]\n",
      "Epoch: 2/80: 100%|███████████| 79/79 [00:14<00:00,  5.33it/s, train_loss=0.00102, valid_loss=0.0131]\n",
      "Epoch: 3/80: 100%|██████████| 79/79 [00:14<00:00,  5.30it/s, train_loss=0.000807, valid_loss=0.0172]\n",
      "Epoch: 4/80: 100%|██████████| 79/79 [00:14<00:00,  5.33it/s, train_loss=0.000793, valid_loss=0.0254]\n",
      "Epoch: 5/80: 100%|██████████| 79/79 [00:14<00:00,  5.27it/s, train_loss=0.000719, valid_loss=0.0318]\n",
      "Epoch: 6/80: 100%|███████████| 79/79 [00:14<00:00,  5.34it/s, train_loss=0.000522, valid_loss=0.014]\n",
      "Epoch: 7/80: 100%|█████████| 79/79 [00:14<00:00,  5.32it/s, train_loss=0.000451, valid_loss=0.00744]\n",
      "Epoch: 8/80: 100%|█████████| 79/79 [00:14<00:00,  5.29it/s, train_loss=0.000403, valid_loss=0.00517]\n",
      "Epoch: 9/80: 100%|██████████| 79/79 [00:14<00:00,  5.32it/s, train_loss=0.000413, valid_loss=0.0123]\n",
      "Epoch: 10/80: 100%|█████████| 79/79 [00:14<00:00,  5.35it/s, train_loss=0.000405, valid_loss=0.0125]\n",
      "Epoch: 11/80: 100%|█████████| 79/79 [00:14<00:00,  5.30it/s, train_loss=0.000447, valid_loss=0.0273]\n",
      "Epoch: 12/80: 100%|████████| 79/79 [00:14<00:00,  5.34it/s, train_loss=0.000481, valid_loss=0.00493]\n",
      "Epoch: 13/80: 100%|████████| 79/79 [00:14<00:00,  5.31it/s, train_loss=0.000389, valid_loss=0.00968]\n",
      "Epoch: 14/80: 100%|███████████| 79/79 [00:14<00:00,  5.30it/s, train_loss=0.000411, valid_loss=0.01]\n",
      "Epoch: 15/80: 100%|████████| 79/79 [00:14<00:00,  5.30it/s, train_loss=0.000362, valid_loss=0.00521]\n",
      "Epoch: 16/80: 100%|█████████| 79/79 [00:14<00:00,  5.35it/s, train_loss=0.000793, valid_loss=0.0384]\n",
      "Epoch: 17/80: 100%|████████| 79/79 [00:14<00:00,  5.29it/s, train_loss=0.000293, valid_loss=0.00476]\n",
      "Epoch: 18/80: 100%|█████████| 79/79 [00:14<00:00,  5.30it/s, train_loss=0.000354, valid_loss=0.0293]\n",
      "Epoch: 19/80: 100%|█████████| 79/79 [00:14<00:00,  5.28it/s, train_loss=0.000282, valid_loss=0.0219]\n",
      "Epoch: 20/80: 100%|████████| 79/79 [00:14<00:00,  5.29it/s, train_loss=0.000175, valid_loss=0.00315]\n",
      "Epoch: 21/80: 100%|█████████| 79/79 [00:15<00:00,  5.26it/s, train_loss=0.000186, valid_loss=0.0256]\n",
      "Epoch: 22/80: 100%|████████| 79/79 [00:14<00:00,  5.29it/s, train_loss=0.000151, valid_loss=0.00245]\n",
      "Epoch: 23/80: 100%|█████████| 79/79 [00:14<00:00,  5.30it/s, train_loss=0.000165, valid_loss=0.0161]\n",
      "Epoch: 24/80: 100%|████████| 79/79 [00:14<00:00,  5.31it/s, train_loss=0.000151, valid_loss=0.00262]\n",
      "Epoch: 25/80: 100%|████████| 79/79 [00:14<00:00,  5.29it/s, train_loss=0.000135, valid_loss=0.00232]\n",
      "Epoch: 26/80: 100%|████████| 79/79 [00:14<00:00,  5.31it/s, train_loss=0.000144, valid_loss=0.00773]\n",
      "Epoch: 27/80: 100%|█████████| 79/79 [00:14<00:00,  5.30it/s, train_loss=0.000208, valid_loss=0.0163]\n",
      "Epoch: 28/80: 100%|████████| 79/79 [00:15<00:00,  5.26it/s, train_loss=0.000136, valid_loss=0.00493]\n",
      "Epoch: 29/80: 100%|████████| 79/79 [00:14<00:00,  5.29it/s, train_loss=0.000142, valid_loss=0.00626]\n",
      "Epoch: 30/80: 100%|████████| 79/79 [00:14<00:00,  5.30it/s, train_loss=0.000124, valid_loss=0.00363]\n",
      "Epoch: 31/80: 100%|████████| 79/79 [00:14<00:00,  5.29it/s, train_loss=0.000121, valid_loss=0.00207]\n",
      "Epoch: 32/80: 100%|████████| 79/79 [00:14<00:00,  5.31it/s, train_loss=0.000123, valid_loss=0.00182]\n",
      "Epoch: 33/80: 100%|█████████| 79/79 [00:14<00:00,  5.35it/s, train_loss=0.00012, valid_loss=0.00192]\n",
      "Epoch: 34/80: 100%|████████| 79/79 [00:14<00:00,  5.33it/s, train_loss=0.000159, valid_loss=0.00917]\n",
      "Epoch: 35/80: 100%|█████████| 79/79 [00:14<00:00,  5.28it/s, train_loss=0.000129, valid_loss=0.0042]\n",
      "Epoch: 36/80: 100%|████████| 79/79 [00:14<00:00,  5.32it/s, train_loss=0.000115, valid_loss=0.00205]\n",
      "Epoch: 37/80: 100%|████████| 79/79 [00:14<00:00,  5.32it/s, train_loss=0.000114, valid_loss=0.00211]\n",
      "Epoch: 38/80: 100%|████████| 79/79 [00:14<00:00,  5.29it/s, train_loss=0.000112, valid_loss=0.00418]\n",
      "Epoch: 39/80: 100%|████████| 79/79 [00:14<00:00,  5.31it/s, train_loss=0.000106, valid_loss=0.00321]\n",
      "Epoch: 40/80: 100%|█████████| 79/79 [00:14<00:00,  5.31it/s, train_loss=0.00012, valid_loss=0.00982]\n",
      "Epoch: 41/80: 100%|████████| 79/79 [00:15<00:00,  5.26it/s, train_loss=0.000122, valid_loss=0.00459]\n",
      "Epoch: 42/80: 100%|████████| 79/79 [00:14<00:00,  5.30it/s, train_loss=0.000101, valid_loss=0.00672]\n",
      "Epoch: 43/80: 100%|████████| 79/79 [00:14<00:00,  5.34it/s, train_loss=0.000101, valid_loss=0.00247]\n",
      "Epoch: 44/80: 100%|████████| 79/79 [00:14<00:00,  5.28it/s, train_loss=0.000148, valid_loss=0.00865]\n",
      "Epoch: 45/80: 100%|██████████| 79/79 [00:14<00:00,  5.34it/s, train_loss=0.0001, valid_loss=0.00471]\n",
      "Epoch: 46/80: 100%|█████████| 79/79 [00:14<00:00,  5.31it/s, train_loss=9.44e-5, valid_loss=0.00381]\n",
      "Epoch: 47/80: 100%|████████| 79/79 [00:14<00:00,  5.33it/s, train_loss=0.000158, valid_loss=0.00402]\n",
      "Epoch: 48/80: 100%|████████| 79/79 [00:14<00:00,  5.30it/s, train_loss=0.000118, valid_loss=0.00435]\n",
      "Epoch: 49/80: 100%|██████████| 79/79 [00:14<00:00,  5.32it/s, train_loss=9.5e-5, valid_loss=0.00186]\n",
      "Epoch: 50/80: 100%|██████████| 79/79 [00:14<00:00,  5.29it/s, train_loss=9.5e-5, valid_loss=0.00161]\n",
      "Epoch: 51/80: 100%|████████| 79/79 [00:14<00:00,  5.27it/s, train_loss=0.000102, valid_loss=0.00254]\n",
      "Epoch: 52/80: 100%|███████████| 79/79 [00:15<00:00,  5.24it/s, train_loss=9.2e-5, valid_loss=0.0019]\n",
      "Epoch: 53/80: 100%|█████████| 79/79 [00:15<00:00,  5.12it/s, train_loss=8.62e-5, valid_loss=0.00167]\n",
      "Epoch: 54/80: 100%|█████████| 79/79 [00:15<00:00,  5.22it/s, train_loss=9.64e-5, valid_loss=0.00209]\n",
      "Epoch: 55/80: 100%|█████████| 79/79 [00:14<00:00,  5.29it/s, train_loss=0.000116, valid_loss=0.0127]\n",
      "Epoch: 56/80: 100%|█████████| 79/79 [00:14<00:00,  5.30it/s, train_loss=8.38e-5, valid_loss=0.00222]\n",
      "Epoch: 57/80: 100%|█████████| 79/79 [00:14<00:00,  5.31it/s, train_loss=7.83e-5, valid_loss=0.00182]\n",
      "Epoch: 58/80: 100%|██████████| 79/79 [00:14<00:00,  5.31it/s, train_loss=8.09e-5, valid_loss=0.0018]\n",
      "Epoch: 59/80: 100%|█████████| 79/79 [00:14<00:00,  5.30it/s, train_loss=7.94e-5, valid_loss=0.00211]\n",
      "Epoch: 60/80: 100%|█████████| 79/79 [00:14<00:00,  5.31it/s, train_loss=9.59e-5, valid_loss=0.00356]\n",
      "Epoch: 61/80: 100%|█████████| 79/79 [00:14<00:00,  5.29it/s, train_loss=9.04e-5, valid_loss=0.00718]\n",
      "Epoch: 62/80: 100%|█████████| 79/79 [00:14<00:00,  5.34it/s, train_loss=8.16e-5, valid_loss=0.00236]\n",
      "Epoch: 63/80: 100%|█████████| 79/79 [00:14<00:00,  5.34it/s, train_loss=7.66e-5, valid_loss=0.00576]\n",
      "Epoch: 64/80: 100%|█████████| 79/79 [00:14<00:00,  5.27it/s, train_loss=7.47e-5, valid_loss=0.00198]\n",
      "Epoch: 65/80: 100%|██████████| 79/79 [00:14<00:00,  5.32it/s, train_loss=7.55e-5, valid_loss=0.0018]\n",
      "Epoch: 66/80: 100%|█████████| 79/79 [00:14<00:00,  5.34it/s, train_loss=7.24e-5, valid_loss=0.00192]\n",
      "Epoch: 67/80: 100%|██████████| 79/79 [00:14<00:00,  5.34it/s, train_loss=7.7e-5, valid_loss=0.00248]\n",
      "Epoch: 68/80: 100%|█████████| 79/79 [00:14<00:00,  5.30it/s, train_loss=7.55e-5, valid_loss=0.00206]\n",
      "Epoch: 69/80: 100%|█████████| 79/79 [00:14<00:00,  5.35it/s, train_loss=7.32e-5, valid_loss=0.00284]\n",
      "Epoch: 70/80: 100%|█████████| 79/79 [00:14<00:00,  5.35it/s, train_loss=7.02e-5, valid_loss=0.00295]\n",
      "Epoch: 71/80: 100%|█████████| 79/79 [00:14<00:00,  5.33it/s, train_loss=7.72e-5, valid_loss=0.00244]\n",
      "Epoch: 72/80: 100%|█████████| 79/79 [00:14<00:00,  5.35it/s, train_loss=8.94e-5, valid_loss=0.00194]\n",
      "Epoch: 73/80: 100%|█████████| 79/79 [00:14<00:00,  5.34it/s, train_loss=7.41e-5, valid_loss=0.00357]\n",
      "Epoch: 74/80: 100%|█████████| 79/79 [00:14<00:00,  5.29it/s, train_loss=6.73e-5, valid_loss=0.00324]\n",
      "Epoch: 75/80: 100%|█████████| 79/79 [00:14<00:00,  5.37it/s, train_loss=6.86e-5, valid_loss=0.00218]\n",
      "Epoch: 76/80: 100%|█████████| 79/79 [00:14<00:00,  5.35it/s, train_loss=9.05e-5, valid_loss=0.00526]\n",
      "Epoch: 77/80: 100%|█████████| 79/79 [00:14<00:00,  5.35it/s, train_loss=6.83e-5, valid_loss=0.00219]\n",
      "Epoch: 78/80: 100%|██████████| 79/79 [00:14<00:00,  5.34it/s, train_loss=6.4e-5, valid_loss=0.00443]\n",
      "Epoch: 79/80: 100%|██████████| 79/79 [00:14<00:00,  5.33it/s, train_loss=7.11e-5, valid_loss=0.0018]\n",
      "Epoch: 80/80: 100%|█████████| 79/79 [00:14<00:00,  5.33it/s, train_loss=6.64e-5, valid_loss=0.00342]\n"
     ]
    },
    {
     "name": "stdout",
     "output_type": "stream",
     "text": [
      "supervised data: shape of x: (6237, 72, 16), shape of y: (6237, 24, 16)\n",
      "MAPE:0.04962846922631217, MAE:622.386874782715, RMSE:869.5138865454369\n"
     ]
    },
    {
     "data": {
      "image/png": "[encoded data removed]",
      "text/plain": [
       "<Figure size 432x288 with 1 Axes>"
      ]
     },
     "metadata": {
      "needs_background": "light"
     },
     "output_type": "display_data"
    }
   ],
   "source": [
    "random_seed_set(16)\n",
    "MAPE, MAE, RMSE, load_pred, load_true = run_model_retraining()\n",
    "print('MAPE:{}, MAE:{}, RMSE:{}'.format(MAPE, MAE, RMSE))"
   ]
  },
  {
   "cell_type": "code",
   "execution_count": 90,
   "id": "ea981bee",
   "metadata": {
    "ExecuteTime": {
     "end_time": "2021-12-31T12:30:51.530848Z",
     "start_time": "2021-12-31T12:30:51.524788Z"
    }
   },
   "outputs": [
    {
     "name": "stdout",
     "output_type": "stream",
     "text": [
      "MAPE:0.04962846922631217, MAE:622.386874782715, RMSE:869.5138865454369\n"
     ]
    }
   ],
   "source": [
    "print('MAPE:{}, MAE:{}, RMSE:{}'.format(MAPE, MAE, RMSE))"
   ]
  },
  {
   "cell_type": "markdown",
   "id": "b8158e63",
   "metadata": {},
   "source": [
    "## figure plot"
   ]
  },
  {
   "cell_type": "code",
   "execution_count": 92,
   "id": "4b9c51c7",
   "metadata": {
    "ExecuteTime": {
     "end_time": "2021-12-31T12:33:53.894681Z",
     "start_time": "2021-12-31T12:33:53.730035Z"
    }
   },
   "outputs": [
    {
     "data": {
      "text/plain": [
       "\"\\nplt.figure(figsize=(20, 10))\\nload_pred = load_pred.flatten()\\nload_true = load_true.flatten()\\nplt.plot(load_pred[:240], 'm')\\nplt.plot(load_true[:240], 'g')\\nplt.ylim(0)\\n\""
      ]
     },
     "execution_count": 92,
     "metadata": {},
     "output_type": "execute_result"
    },
    {
     "data": {
      "image/png": "[encoded data removed]",
      "text/plain": [
       "<Figure size 1440x720 with 1 Axes>"
      ]
     },
     "metadata": {
      "needs_background": "light"
     },
     "output_type": "display_data"
    }
   ],
   "source": [
    "\n",
    "plt.figure(figsize=(20, 10))\n",
    "load_pred = load_pred.reshape(-1, target_len)\n",
    "load_true = load_true.reshape(-1, target_len)\n",
    "plt.plot(load_pred[:240,23], 'm')\n",
    "plt.plot(load_true[:240,23], 'g')\n",
    "plt.ylim(0)\n",
    "\"\"\"\n",
    "plt.figure(figsize=(20, 10))\n",
    "load_pred = load_pred.flatten()\n",
    "load_true = load_true.flatten()\n",
    "plt.plot(load_pred[:240], 'm')\n",
    "plt.plot(load_true[:240], 'g')\n",
    "plt.ylim(0)\n",
    "\"\"\""
   ]
  }
 ],
 "metadata": {
  "kernelspec": {
   "display_name": "Python 3 (ipykernel)",
   "language": "python",
   "name": "python3"
  },
  "language_info": {
   "codemirror_mode": {
    "name": "ipython",
    "version": 3
   },
   "file_extension": ".py",
   "mimetype": "text/x-python",
   "name": "python",
   "nbconvert_exporter": "python",
   "pygments_lexer": "ipython3",
   "version": "3.8.12"
  },
  "toc": {
   "base_numbering": 1,
   "nav_menu": {},
   "number_sections": true,
   "sideBar": true,
   "skip_h1_title": false,
   "title_cell": "Table of Contents",
   "title_sidebar": "Contents",
   "toc_cell": false,
   "toc_position": {
    "height": "calc(100% - 180px)",
    "left": "10px",
    "top": "150px",
    "width": "374.391px"
   },
   "toc_section_display": true,
   "toc_window_display": true
  },
  "varInspector": {
   "cols": {
    "lenName": 16,
    "lenType": 16,
    "lenVar": 40
   },
   "kernels_config": {
    "python": {
     "delete_cmd_postfix": "",
     "delete_cmd_prefix": "del ",
     "library": "var_list.py",
     "varRefreshCmd": "print(var_dic_list())"
    },
    "r": {
     "delete_cmd_postfix": ") ",
     "delete_cmd_prefix": "rm(",
     "library": "var_list.r",
     "varRefreshCmd": "cat(var_dic_list()) "
    }
   },
   "oldHeight": 320.844,
   "position": {
    "height": "342.844px",
    "left": "1482px",
    "right": "20px",
    "top": "127px",
    "width": "350px"
   },
   "types_to_exclude": [
    "module",
    "function",
    "builtin_function_or_method",
    "instance",
    "_Feature"
   ],
   "varInspector_section_display": "block",
   "window_display": false
  }
 },
 "nbformat": 4,
 "nbformat_minor": 5
}
