{
 "cells": [
  {
   "cell_type": "markdown",
   "id": "5c1e5edb",
   "metadata": {},
   "source": [
    "# Seq2Seq-Bahdanau-BiRNN for forecast"
   ]
  },
  {
   "cell_type": "code",
   "execution_count": 38,
   "id": "209c59e2",
   "metadata": {
    "ExecuteTime": {
     "end_time": "2022-01-01T05:21:03.159645Z",
     "start_time": "2022-01-01T05:21:02.022009Z"
    }
   },
   "outputs": [],
   "source": [
    "import pandas as pd\n",
    "import numpy as np\n",
    "import matplotlib.pyplot as plt\n",
    "import pdb\n",
    "import torch\n",
    "import torch.nn as nn\n",
    "import torch.nn.functional as F\n",
    "import random\n",
    "import math\n",
    "\n",
    "from sklearn.preprocessing import MinMaxScaler\n",
    "from sklearn.model_selection import train_test_split, TimeSeriesSplit\n",
    "from torch.autograd import Variable\n",
    "from torch.utils.data import TensorDataset, DataLoader\n",
    "from tqdm import tqdm\n",
    "from xgboost import XGBRegressor\n",
    "if torch.cuda.is_available():  \n",
    "    dev = \"cuda:0\" \n",
    "else:  \n",
    "    dev = \"cpu\"\n",
    "device = torch.device(dev)"
   ]
  },
  {
   "cell_type": "code",
   "execution_count": 39,
   "id": "0d6e3117",
   "metadata": {
    "ExecuteTime": {
     "end_time": "2022-01-01T05:21:03.165881Z",
     "start_time": "2022-01-01T05:21:03.162378Z"
    }
   },
   "outputs": [],
   "source": [
    "def random_seed_set(seed):\n",
    "    np.random.seed(seed)\n",
    "    torch.random.manual_seed(seed)\n",
    "    torch.cuda.random.manual_seed(seed)\n",
    "    torch.backends.cudnn.benchmark = False\n",
    "    torch.backends.cudnn.deterministic = True"
   ]
  },
  {
   "cell_type": "markdown",
   "id": "0383d096",
   "metadata": {},
   "source": [
    "## load data"
   ]
  },
  {
   "cell_type": "code",
   "execution_count": 40,
   "id": "d32451bb",
   "metadata": {
    "ExecuteTime": {
     "end_time": "2022-01-01T05:21:03.214638Z",
     "start_time": "2022-01-01T05:21:03.167587Z"
    }
   },
   "outputs": [],
   "source": [
    "url = '../data/beijing.csv'\n",
    "data = pd.read_csv(url, sep=',', index_col='time')"
   ]
  },
  {
   "cell_type": "markdown",
   "id": "ea9731db",
   "metadata": {},
   "source": [
    "## normalization"
   ]
  },
  {
   "cell_type": "code",
   "execution_count": 41,
   "id": "8ecbfd6c",
   "metadata": {
    "ExecuteTime": {
     "end_time": "2022-01-01T05:21:03.219956Z",
     "start_time": "2022-01-01T05:21:03.216780Z"
    }
   },
   "outputs": [],
   "source": [
    "def normalization(data):\n",
    "    \"\"\"\n",
    "    data: original data with load\n",
    "    return: normalized data, scaler of load\n",
    "    \"\"\"\n",
    "    scaler = MinMaxScaler()\n",
    "    normalized_data = scaler.fit_transform(data)\n",
    "    scaler_y = MinMaxScaler()\n",
    "    scaler_y.fit_transform(data[[data.columns[-1]]])\n",
    "    return normalized_data, scaler, scaler_y"
   ]
  },
  {
   "cell_type": "markdown",
   "id": "0fe041fd",
   "metadata": {
    "ExecuteTime": {
     "end_time": "2021-12-22T07:45:44.192666Z",
     "start_time": "2021-12-22T07:45:44.188985Z"
    }
   },
   "source": [
    "## build supervised dataset"
   ]
  },
  {
   "cell_type": "code",
   "execution_count": 42,
   "id": "16cbcf72",
   "metadata": {
    "ExecuteTime": {
     "end_time": "2022-01-01T05:21:03.226505Z",
     "start_time": "2022-01-01T05:21:03.222596Z"
    }
   },
   "outputs": [],
   "source": [
    "def series_to_supervise(data, seq_len, target_len):\n",
    "    \"\"\"\n",
    "    convert series data to supervised data\n",
    "    :param data: original data\n",
    "    :param seq_len: length of input sequence\n",
    "    :param target_len: length of ouput sequence\n",
    "    :return: return two ndarrays-- input and output in format suitable to feed to RNN\n",
    "    \"\"\"\n",
    "    dim_0 = data.shape[0] - seq_len - target_len + 1\n",
    "    dim_1 = data.shape[1]\n",
    "    x = np.zeros((dim_0, seq_len, dim_1))\n",
    "    y = np.zeros((dim_0, target_len, dim_1))\n",
    "    for i in range(dim_0):\n",
    "        x[i] = data[i:i + seq_len]\n",
    "        y[i] = data[i + seq_len:i + seq_len + target_len]\n",
    "    print(\"supervised data: shape of x: {}, shape of y: {}\".format(\n",
    "        x.shape, y.shape))\n",
    "    return x, y"
   ]
  },
  {
   "cell_type": "markdown",
   "id": "e92db115",
   "metadata": {},
   "source": [
    "## 5-folds TimeSeriesSplit"
   ]
  },
  {
   "cell_type": "code",
   "execution_count": 43,
   "id": "519490e6",
   "metadata": {
    "ExecuteTime": {
     "end_time": "2022-01-01T05:21:03.232849Z",
     "start_time": "2022-01-01T05:21:03.227680Z"
    }
   },
   "outputs": [],
   "source": [
    "def time_series_split(X, Y, n_split=5):\n",
    "    \"\"\"\n",
    "    X: features, size * seq_len * feature_num\n",
    "    Y: labels, size * target_len\n",
    "    return: list of train_x, test_x, train_y, test_y\n",
    "    \"\"\"\n",
    "    tscv = TimeSeriesSplit(n_splits=n_split)\n",
    "    train_x_list = list()\n",
    "    valid_x_list = list()\n",
    "    train_y_list = list()\n",
    "    valid_y_list = list()\n",
    "    for train_index, valid_index in tscv.split(X):\n",
    "        train_x_list.append(X[train_index])\n",
    "        train_y_list.append(Y[train_index])\n",
    "        valid_x_list.append(X[valid_index])\n",
    "        valid_y_list.append(Y[valid_index])\n",
    "    return train_x_list, train_y_list, valid_x_list, valid_y_list"
   ]
  },
  {
   "cell_type": "markdown",
   "id": "d7f63f88",
   "metadata": {},
   "source": [
    "## Seq2Seq model"
   ]
  },
  {
   "cell_type": "markdown",
   "id": "3541c0f1",
   "metadata": {},
   "source": [
    "### Encoder"
   ]
  },
  {
   "cell_type": "code",
   "execution_count": 92,
   "id": "8675e6d7",
   "metadata": {
    "ExecuteTime": {
     "end_time": "2022-01-01T07:59:39.949713Z",
     "start_time": "2022-01-01T07:59:39.935204Z"
    }
   },
   "outputs": [],
   "source": [
    "class Encoder(nn.Module):\n",
    "    def __init__(self, input_size, hidden_dim, n_layers, drop_prob):\n",
    "        super(Encoder, self).__init__()\n",
    "        # 初始化hidden_state参数\n",
    "        self.hidden_dim = hidden_dim\n",
    "        self.n_layers = n_layers\n",
    "        # 定义层\n",
    "        self.rnn = nn.GRU(input_size,\n",
    "                          hidden_dim,\n",
    "                          n_layers,\n",
    "                          bidirectional=True,\n",
    "                          dropout=drop_prob)\n",
    "        self.dense = nn.Linear(hidden_dim * 2, hidden_dim)\n",
    "\n",
    "    def forward(self, x):\n",
    "        batch_size = x.shape[0]\n",
    "        # 输入'X'的形状：(`batch_size`, `num_steps`, `input_size`)\n",
    "        # RNN中，第一个维度对应时间步\n",
    "        x = torch.transpose(x, 0, 1)\n",
    "        # run_out shape (num_steps, batch_size, 2 * hidden_dim)\n",
    "        # state shape (n_layers*2, batch_size, hidden_dim)\n",
    "        rnn_out, state = self.rnn(x)\n",
    "        # state is stacked [forward_1, backward_1, forward_2, backward_2, ...]\n",
    "        # concat hidden state\n",
    "        hidden = torch.zeros(self.n_layers, batch_size,\n",
    "                             self.hidden_dim).to(device)\n",
    "        for i in range(self.n_layers):\n",
    "            hidden[i, :, :] = torch.tanh(\n",
    "                self.dense(\n",
    "                    torch.cat((state[i, :, :], state[i + 1, :, :]), dim=1)))\n",
    "        # state shape (batch_size, hidden_dim)\n",
    "        # state = state.repeat(self.n_layers, 1, 1)\n",
    "        # state shape (n_layers, batch_size, hidden_dim)\n",
    "\n",
    "        # rnn_out = self.dense(rnn_out)\n",
    "\n",
    "        # rnn_out shape (num_steps, batch_size, hidden_dim)\n",
    "        return rnn_out, hidden"
   ]
  },
  {
   "cell_type": "markdown",
   "id": "d4611fdc",
   "metadata": {
    "ExecuteTime": {
     "end_time": "2021-12-31T13:15:30.991666Z",
     "start_time": "2021-12-31T13:15:30.987285Z"
    }
   },
   "source": [
    "### Additive Attention"
   ]
  },
  {
   "cell_type": "code",
   "execution_count": 71,
   "id": "77c8a203",
   "metadata": {
    "ExecuteTime": {
     "end_time": "2022-01-01T06:54:01.560415Z",
     "start_time": "2022-01-01T06:54:01.547146Z"
    }
   },
   "outputs": [],
   "source": [
    "class AdditiveAttention(nn.Module):\n",
    "    \"\"\"加性注意力\"\"\"\n",
    "    def __init__(self, key_size, query_size, num_hiddens, dropout, **kwargs):\n",
    "        super(AdditiveAttention, self).__init__(**kwargs)\n",
    "        self.W_k = nn.Linear(key_size, num_hiddens, bias=False)\n",
    "        self.W_q = nn.Linear(query_size, num_hiddens, bias=False)\n",
    "        self.w_v = nn.Linear(num_hiddens, 1, bias=False)\n",
    "        self.dropout = nn.Dropout(dropout)\n",
    "\n",
    "    def forward(self, queries, keys, values):\n",
    "        queries, keys = self.W_q(queries), self.W_k(keys)\n",
    "        # 在维度扩展后，\n",
    "        # `queries` 的形状：(`batch_size`，查询的个数，1，`num_hidden`)\n",
    "        # `key` 的形状：(`batch_size`，1，“键－值”对的个数，`num_hiddens`)\n",
    "        # 使用广播方式进行求和\n",
    "        features = queries.unsqueeze(2) + keys.unsqueeze(1)\n",
    "        features = torch.tanh(features)\n",
    "        # `self.w_v` 仅有一个输出，因此从形状中移除最后那个维度。\n",
    "        # `scores` 的形状：(`batch_size`，查询的个数，“键-值”对的个数)\n",
    "        scores = self.w_v(features).squeeze(-1)\n",
    "        self.attention_weights = nn.functional.softmax(scores, dim=-1)\n",
    "        # `values` 的形状：(`batch_size`，“键－值”对的个数，值的维度)\n",
    "        return torch.bmm(self.dropout(self.attention_weights), values)"
   ]
  },
  {
   "cell_type": "markdown",
   "id": "9fbe8ddf",
   "metadata": {},
   "source": [
    "### DotProductAttentioin"
   ]
  },
  {
   "cell_type": "code",
   "execution_count": 46,
   "id": "45f80550",
   "metadata": {
    "ExecuteTime": {
     "end_time": "2022-01-01T05:21:03.271220Z",
     "start_time": "2022-01-01T05:21:03.262487Z"
    }
   },
   "outputs": [],
   "source": [
    "class DotProductAttention(nn.Module):\n",
    "    \"\"\"缩放点积注意力\"\"\"\n",
    "    def __init__(self, dropout, **kwargs):\n",
    "        super(DotProductAttention, self).__init__(**kwargs)\n",
    "        self.dropout = nn.Dropout(dropout)\n",
    "\n",
    "    # `queries` 的形状：(`batch_size`，查询的个数，`d`)\n",
    "    # `keys` 的形状：(`batch_size`，“键－值”对的个数，`d`)\n",
    "    # `values` 的形状：(`batch_size`，“键－值”对的个数，值的维度)\n",
    "    # `valid_lens` 的形状: (`batch_size`，) 或者 (`batch_size`，查询的个数)\n",
    "    def forward(self, queries, keys, values):\n",
    "        d = queries.shape[-1]\n",
    "        # 设置 `transpose_b=True` 为了交换 `keys` 的最后两个维度\n",
    "        scores = torch.bmm(queries, keys.transpose(1,2)) / math.sqrt(d)\n",
    "        self.attention_weights = nn.functional.softmax(scores, dim=-1)\n",
    "        return torch.bmm(self.dropout(self.attention_weights), values)"
   ]
  },
  {
   "cell_type": "markdown",
   "id": "59247d15",
   "metadata": {},
   "source": [
    "### Decoder"
   ]
  },
  {
   "cell_type": "code",
   "execution_count": 94,
   "id": "1bbf8480",
   "metadata": {
    "ExecuteTime": {
     "end_time": "2022-01-01T08:00:04.972667Z",
     "start_time": "2022-01-01T08:00:04.953320Z"
    }
   },
   "outputs": [],
   "source": [
    "class AttnDecoder(nn.Module):\n",
    "    def __init__(self, input_size, hidden_dim, n_layers, drop_prob):\n",
    "        super(AttnDecoder, self).__init__()\n",
    "\n",
    "        self.attention = AdditiveAttention(2 * hidden_dim, hidden_dim,\n",
    "                                           hidden_dim, drop_prob)\n",
    "        self.rnn = nn.GRU(input_size + 2 * hidden_dim,\n",
    "                          hidden_dim,\n",
    "                          n_layers,\n",
    "                          dropout=drop_prob)\n",
    "        self.fc = nn.Sequential()\n",
    "\n",
    "        input_size = hidden_dim\n",
    "        i = 0\n",
    "        while (input_size > 8):\n",
    "            self.fc.add_module('linear{}'.format(i),\n",
    "                               nn.Linear(input_size, round(input_size / 2)))\n",
    "            self.fc.add_module('relu{}'.format(i), nn.ReLU())\n",
    "            input_size = round(input_size / 2)\n",
    "            i += 1\n",
    "        self.fc.add_module('linear{}'.format(i), nn.Linear(input_size, 1))\n",
    "\n",
    "    def forward(self, inputs, encoder_outputs, encoder_state):\n",
    "        \"\"\"\n",
    "        :inputs shape (batch_size, target_len, input_size)\n",
    "        :encoder_outputs shape (seq_len, batch_size, 2 * hidden_dim)\n",
    "        :encoder_state shape (n_layers, batch_size, hidden_dim)\n",
    "        \"\"\"\n",
    "        # inputs shape to（target_len, batch_size, input_size）\n",
    "        inputs = torch.transpose(inputs, 0, 1)\n",
    "        # encoder_outputs shape to (batch_size, seq_len, 2 * hidden_dim)\n",
    "        encoder_outputs = torch.transpose(encoder_outputs, 0, 1)\n",
    "        # decoder_state 需要用encoder_state初始化\n",
    "        decoder_state = encoder_state\n",
    "        outputs = []\n",
    "\n",
    "        for i, x in enumerate(inputs):\n",
    "            # query shape is (batch_size, 1, hidden_dim)\n",
    "            query = torch.unsqueeze(decoder_state[-1], dim=1)\n",
    "            context = self.attention(query, encoder_outputs, encoder_outputs)\n",
    "            # training process is different from eval process\n",
    "            # if i and not self.training:\n",
    "            if i:\n",
    "                x[:, -1] = out.detach().flatten()\n",
    "            # x shape is (batch_size, 1, 2 * hidden_dim + input_size)\n",
    "            x = torch.cat((context, torch.unsqueeze(x, dim=1)), dim=-1)\n",
    "            # x reshape to (1, batch_size, 2 * hidden_dim + input_size)\n",
    "            x = torch.transpose(x, 0, 1)\n",
    "            # out shape (1, batch_size, hidden_dim)\n",
    "            out, decoder_state = self.rnn(x, decoder_state)\n",
    "            # out shape (batch_size, 1)\n",
    "            out = self.fc(out.squeeze(dim=0))\n",
    "            outputs.append(out)\n",
    "        # outputs shape (batch_size, target_len)\n",
    "        outputs = torch.cat(outputs, dim=1)\n",
    "        return outputs"
   ]
  },
  {
   "cell_type": "markdown",
   "id": "63dc5542",
   "metadata": {},
   "source": [
    "### Seq2Seq_Attn"
   ]
  },
  {
   "cell_type": "code",
   "execution_count": 73,
   "id": "4b7d056f",
   "metadata": {
    "ExecuteTime": {
     "end_time": "2022-01-01T06:54:22.050803Z",
     "start_time": "2022-01-01T06:54:22.041603Z"
    }
   },
   "outputs": [],
   "source": [
    "class Seq2Seq_Attn(nn.Module):\n",
    "    def __init__(self, input_size, hidden_dim, n_layers, drop_prob):\n",
    "        super(Seq2Seq_Attn, self).__init__()\n",
    "        self.encoder = Encoder(input_size, hidden_dim, n_layers, drop_prob)\n",
    "        self.decoder = AttnDecoder(input_size, hidden_dim, n_layers, drop_prob)\n",
    "    \n",
    "    def forward(self, encoder_inputs, decoder_inputs):\n",
    "        # encoder_inputs shape (batch_size, seq_len, input_size)\n",
    "        # decoder_inputs shape (batch_size, target_len, input_size)\n",
    "        encoder_outputs, encoder_state = self.encoder(encoder_inputs)\n",
    "        outputs = self.decoder(decoder_inputs, encoder_outputs, encoder_state)\n",
    "        return outputs"
   ]
  },
  {
   "cell_type": "markdown",
   "id": "6d30b407",
   "metadata": {
    "ExecuteTime": {
     "end_time": "2021-12-22T08:30:19.661769Z",
     "start_time": "2021-12-22T08:30:19.656770Z"
    }
   },
   "source": [
    "## model training for HPO"
   ]
  },
  {
   "cell_type": "code",
   "execution_count": 49,
   "id": "f4591c97",
   "metadata": {
    "ExecuteTime": {
     "end_time": "2022-01-01T05:21:03.314024Z",
     "start_time": "2022-01-01T05:21:03.298976Z"
    },
    "code_folding": []
   },
   "outputs": [],
   "source": [
    "def train_model_hpo(train_x_list,\n",
    "                    train_y_list,\n",
    "                    valid_x_list,\n",
    "                    valid_y_list,\n",
    "                    input_size,\n",
    "                    seq_len,\n",
    "                    target_len,\n",
    "                    mse_thresh,\n",
    "                    hidden_dim,\n",
    "                    n_layers,\n",
    "                    number_epoch,\n",
    "                    batch_size,\n",
    "                    lr,\n",
    "                    drop_prob,\n",
    "                    weight_decay):\n",
    "    valid_loss_list = []\n",
    "    for num in range(len(train_x_list)):\n",
    "        while (1):\n",
    "            model = Seq2Seq_Attn(input_size, hidden_dim, n_layers, drop_prob)\n",
    "            model = model.to(device)\n",
    "            criterion = nn.MSELoss()\n",
    "            optimizer = torch.optim.Adam(model.parameters(), lr=lr, weight_decay=weight_decay)\n",
    "            scheduler = torch.optim.lr_scheduler.StepLR(optimizer, 1, gamma=0.98)\n",
    "            valid_loss_min = np.Inf\n",
    "            print('train dataset {}'.format(num))\n",
    "            train_x = train_x_list[num]\n",
    "            train_y = train_y_list[num]\n",
    "            valid_x = valid_x_list[num]\n",
    "            valid_y = valid_y_list[num]\n",
    "            train_dataset = TensorDataset(torch.FloatTensor(train_x),\n",
    "                                          torch.FloatTensor(train_y))\n",
    "            valid_dataset = TensorDataset(torch.FloatTensor(valid_x),\n",
    "                                          torch.FloatTensor(valid_y))\n",
    "\n",
    "            train_loader = DataLoader(dataset=train_dataset,\n",
    "                                      batch_size=batch_size,\n",
    "                                      shuffle=True,\n",
    "                                      drop_last=True)\n",
    "            valid_loader = DataLoader(dataset=valid_dataset,\n",
    "                                      batch_size=batch_size,\n",
    "                                      shuffle=True,\n",
    "                                      drop_last=True)\n",
    "            train_losses = list()\n",
    "\n",
    "            num_without_imp = 0\n",
    "\n",
    "            #train\n",
    "            for epoch in range(1, number_epoch + 1):\n",
    "                loop = tqdm(enumerate(train_loader),\n",
    "                            total=len(train_loader),\n",
    "                            leave=True, ncols=100)\n",
    "                for i, (inputs, labels) in loop:\n",
    "                    inputs = inputs.to(device)\n",
    "                    labels = labels.to(device)\n",
    "                    optimizer.zero_grad()\n",
    "                    encoder_inputs = inputs\n",
    "                    decoder_inputs = torch.cat((inputs[:, -1:, :], labels[:, :-1, :]), dim=1)\n",
    "                    outputs = model(encoder_inputs, decoder_inputs)                                \n",
    "                    loss = criterion(outputs, labels[:, :, -1])\n",
    "                    train_losses.append(loss.item)\n",
    "                    loss.backward()\n",
    "                    optimizer.step()\n",
    "\n",
    "                    # eval\n",
    "                    if i % 5 == 0:\n",
    "                        num_without_imp = num_without_imp + 1\n",
    "                        valid_losses = list()\n",
    "                        model.eval()\n",
    "                        for inp, lab in valid_loader:\n",
    "                            inp = inp.to(device)\n",
    "                            lab = lab.to(device)\n",
    "                            encoder_inp = inp\n",
    "                            decoder_inp = torch.cat((inp[:, -1:, :], lab[:, :-1, :]), dim=1)\n",
    "                            out = model(encoder_inp, decoder_inp)\n",
    "                            valid_loss = criterion(out, lab[:, :, -1])\n",
    "                            valid_losses.append(valid_loss.item())\n",
    "                        model.train()\n",
    "                        loop.set_description(\"Epoch: {}/{}...\".format(\n",
    "                            epoch, number_epoch))\n",
    "                        loop.set_postfix(train_loss=loss.item(),\n",
    "                                         valid_loss=np.mean(valid_losses))\n",
    "                        if np.mean(valid_losses) < valid_loss_min:\n",
    "                            num_without_imp = 0\n",
    "                            valid_loss_min = np.mean(valid_losses)\n",
    "                if num_without_imp > 50:\n",
    "                    pass\n",
    "#                     break\n",
    "                scheduler.step()\n",
    "            if valid_loss_min < mse_thresh:\n",
    "                valid_loss_list.append(valid_loss_min)\n",
    "                break\n",
    "    return np.mean(valid_loss_list)"
   ]
  },
  {
   "cell_type": "markdown",
   "id": "083f31d7",
   "metadata": {},
   "source": [
    "## hyper-parameters config"
   ]
  },
  {
   "cell_type": "code",
   "execution_count": 108,
   "id": "7248d38a",
   "metadata": {
    "ExecuteTime": {
     "end_time": "2022-01-02T07:48:31.862336Z",
     "start_time": "2022-01-02T07:48:31.850379Z"
    }
   },
   "outputs": [],
   "source": [
    "seq_len = 72\n",
    "target_len = 24\n",
    "mse_thresh = 0.05\n",
    "\n",
    "\n",
    "def model_config():\n",
    "    batch_sizes = [256, 512]\n",
    "    lrs = [0.01, 0.05]\n",
    "    number_epochs = [40]\n",
    "    hidden_dims = [64, 32]\n",
    "    n_layers = [2, 3, 4]\n",
    "    drop_prob = [0]\n",
    "    weight_decays = [0]\n",
    "    configs = list()\n",
    "    for i in batch_sizes:\n",
    "        for j in lrs:\n",
    "            for k in number_epochs:\n",
    "                for l in hidden_dims:\n",
    "                    for m in n_layers:\n",
    "                        for n in drop_prob:\n",
    "                            for o in weight_decays:\n",
    "                                configs.append({\n",
    "                                    'batch_size': i,\n",
    "                                    'lr': j,\n",
    "                                    'number_epoch': k,\n",
    "                                    'hidden_dim': l,\n",
    "                                    'n_layers': m,\n",
    "                                    'drop_prob': n,\n",
    "                                    'weight_decay': o\n",
    "                                })\n",
    "    return configs"
   ]
  },
  {
   "cell_type": "markdown",
   "id": "0c245b41",
   "metadata": {},
   "source": [
    "## random search for HPO"
   ]
  },
  {
   "cell_type": "code",
   "execution_count": 109,
   "id": "9922314b",
   "metadata": {
    "ExecuteTime": {
     "end_time": "2022-01-02T07:48:42.243657Z",
     "start_time": "2022-01-02T07:48:42.226082Z"
    }
   },
   "outputs": [],
   "source": [
    "def run_model_hpo(seq_len=seq_len,\n",
    "                  target_len=target_len,\n",
    "                  mse_thresh=mse_thresh):\n",
    "    train_data = data[:int(0.8 * len(data))]\n",
    "    train_data, _, _ = normalization(train_data)\n",
    "    train_x, train_y = series_to_supervise(train_data, seq_len, target_len)\n",
    "    train_x_list, train_y_list, valid_x_list, valid_y_list = time_series_split(\n",
    "        train_x, train_y)\n",
    "    #         with enough data\n",
    "    train_x_list = train_x_list[-1:]\n",
    "    train_y_list = train_y_list[-1:]\n",
    "    valid_x_list = valid_x_list[-1:]\n",
    "    valid_y_list = valid_y_list[-1:]\n",
    "\n",
    "    configs = model_config()\n",
    "    records = []\n",
    "    input_size = train_x.shape[2]\n",
    "    for i in range(12):\n",
    "        config = random.choice(configs)\n",
    "        configs.remove(config)\n",
    "        batch_size = config['batch_size']\n",
    "        lr = config['lr']\n",
    "        number_epoch = config['number_epoch']\n",
    "        hidden_dim = config['hidden_dim']\n",
    "        n_layers = config['n_layers']\n",
    "        drop_prob = config['drop_prob']\n",
    "        weight_decay = config['weight_decay']\n",
    "        print(\n",
    "            \"model config: batch_size-{}, lr-{}, number_epoch-{}, hidden_dim-{}, n_layers-{},drop_prob-{},weight_decay-{}\"\n",
    "            .format(batch_size, lr, number_epoch, hidden_dim, n_layers,\n",
    "                    drop_prob, weight_decay))\n",
    "        valid_loss = train_model_hpo(\n",
    "            train_x_list,\n",
    "            train_y_list,\n",
    "            valid_x_list,\n",
    "            valid_y_list,\n",
    "            input_size,\n",
    "            seq_len,\n",
    "            target_len,\n",
    "            mse_thresh,\n",
    "            hidden_dim,\n",
    "            n_layers,\n",
    "            number_epoch,\n",
    "            batch_size,\n",
    "            lr,\n",
    "            drop_prob,\n",
    "            weight_decay,\n",
    "        )\n",
    "        records.append({\n",
    "            'batch_size': batch_size,\n",
    "            'lr': lr,\n",
    "            'number_epoch': number_epoch,\n",
    "            'hidden_dim': hidden_dim,\n",
    "            'n_layers': n_layers,\n",
    "            'drop_prob': drop_prob,\n",
    "            'weight_decay': weight_decay,\n",
    "            'valid_loss': valid_loss\n",
    "        })\n",
    "    return records"
   ]
  },
  {
   "cell_type": "markdown",
   "id": "a2d5af45",
   "metadata": {},
   "source": [
    "## run random search"
   ]
  },
  {
   "cell_type": "code",
   "execution_count": null,
   "id": "d37f4ed2",
   "metadata": {
    "ExecuteTime": {
     "start_time": "2022-01-02T07:49:01.524Z"
    },
    "scrolled": true
   },
   "outputs": [
    {
     "name": "stdout",
     "output_type": "stream",
     "text": [
      "supervised data: shape of x: (25232, 72, 16), shape of y: (25232, 24, 16)\n",
      "model config: batch_size-512, lr-0.05, number_epoch-40, hidden_dim-32, n_layers-2,drop_prob-0,weight_decay-0\n",
      "train dataset 0\n"
     ]
    },
    {
     "name": "stderr",
     "output_type": "stream",
     "text": [
      "Epoch: 1/40...: 100%|█████████| 41/41 [00:03<00:00, 11.37it/s, train_loss=0.0311, valid_loss=0.0364]\n",
      "Epoch: 2/40...: 100%|█████████| 41/41 [00:03<00:00, 11.08it/s, train_loss=0.0321, valid_loss=0.0352]\n",
      "Epoch: 3/40...: 100%|█████████| 41/41 [00:03<00:00, 11.42it/s, train_loss=0.0242, valid_loss=0.0362]\n",
      "Epoch: 4/40...: 100%|██████████| 41/41 [00:03<00:00, 11.21it/s, train_loss=0.015, valid_loss=0.0249]\n",
      "Epoch: 5/40...: 100%|█████████| 41/41 [00:03<00:00, 11.11it/s, train_loss=0.0133, valid_loss=0.0229]\n",
      "Epoch: 6/40...: 100%|█████████| 41/41 [00:03<00:00, 11.52it/s, train_loss=0.0132, valid_loss=0.0227]\n",
      "Epoch: 7/40...: 100%|██████████| 41/41 [00:03<00:00, 11.46it/s, train_loss=0.0127, valid_loss=0.023]\n",
      "Epoch: 8/40...: 100%|█████████| 41/41 [00:03<00:00, 11.41it/s, train_loss=0.0119, valid_loss=0.0227]\n",
      "Epoch: 9/40...: 100%|█████████| 41/41 [00:03<00:00, 11.38it/s, train_loss=0.0119, valid_loss=0.0226]\n",
      "Epoch: 10/40...: 100%|████████| 41/41 [00:03<00:00, 12.51it/s, train_loss=0.0132, valid_loss=0.0228]\n",
      "Epoch: 11/40...: 100%|█████████| 41/41 [00:03<00:00, 13.19it/s, train_loss=0.0129, valid_loss=0.023]\n",
      "Epoch: 12/40...: 100%|████████| 41/41 [00:03<00:00, 12.60it/s, train_loss=0.0128, valid_loss=0.0225]\n",
      "Epoch: 13/40...: 100%|████████| 41/41 [00:03<00:00, 13.13it/s, train_loss=0.0119, valid_loss=0.0226]\n",
      "Epoch: 14/40...: 100%|████████| 41/41 [00:03<00:00, 13.16it/s, train_loss=0.0125, valid_loss=0.0225]\n",
      "Epoch: 15/40...: 100%|████████| 41/41 [00:03<00:00, 12.64it/s, train_loss=0.0121, valid_loss=0.0225]\n",
      "Epoch: 16/40...: 100%|████████| 41/41 [00:03<00:00, 13.14it/s, train_loss=0.0124, valid_loss=0.0226]\n",
      "Epoch: 17/40...: 100%|████████| 41/41 [00:03<00:00, 13.12it/s, train_loss=0.0121, valid_loss=0.0226]\n",
      "Epoch: 18/40...: 100%|████████| 41/41 [00:03<00:00, 13.12it/s, train_loss=0.0126, valid_loss=0.0226]\n",
      "Epoch: 19/40...: 100%|████████| 41/41 [00:03<00:00, 13.11it/s, train_loss=0.0126, valid_loss=0.0226]\n",
      "Epoch: 20/40...: 100%|████████| 41/41 [00:03<00:00, 13.16it/s, train_loss=0.0125, valid_loss=0.0229]\n",
      "Epoch: 21/40...: 100%|████████| 41/41 [00:03<00:00, 13.09it/s, train_loss=0.0127, valid_loss=0.0229]\n",
      "Epoch: 22/40...: 100%|█████████| 41/41 [00:03<00:00, 12.66it/s, train_loss=0.0127, valid_loss=0.023]\n",
      "Epoch: 23/40...: 100%|████████| 41/41 [00:03<00:00, 13.10it/s, train_loss=0.0118, valid_loss=0.0229]\n",
      "Epoch: 24/40...: 100%|████████| 41/41 [00:03<00:00, 13.11it/s, train_loss=0.0123, valid_loss=0.0228]\n",
      "Epoch: 25/40...: 100%|████████| 41/41 [00:03<00:00, 12.68it/s, train_loss=0.0118, valid_loss=0.0227]\n",
      "Epoch: 26/40...: 100%|████████| 41/41 [00:03<00:00, 13.06it/s, train_loss=0.0123, valid_loss=0.0226]\n",
      "Epoch: 27/40...: 100%|████████| 41/41 [00:03<00:00, 13.11it/s, train_loss=0.0116, valid_loss=0.0228]\n",
      "Epoch: 28/40...: 100%|████████| 41/41 [00:03<00:00, 13.10it/s, train_loss=0.0124, valid_loss=0.0226]\n",
      "Epoch: 29/40...: 100%|████████| 41/41 [00:03<00:00, 13.08it/s, train_loss=0.0116, valid_loss=0.0226]\n",
      "Epoch: 30/40...: 100%|█████████| 41/41 [00:03<00:00, 13.08it/s, train_loss=0.012, valid_loss=0.0226]\n",
      "Epoch: 31/40...: 100%|████████| 41/41 [00:03<00:00, 13.08it/s, train_loss=0.0123, valid_loss=0.0229]\n",
      "Epoch: 32/40...: 100%|████████| 41/41 [00:03<00:00, 12.66it/s, train_loss=0.0128, valid_loss=0.0229]\n",
      "Epoch: 33/40...: 100%|████████| 41/41 [00:03<00:00, 13.12it/s, train_loss=0.0122, valid_loss=0.0231]\n",
      "Epoch: 34/40...: 100%|████████| 41/41 [00:03<00:00, 13.16it/s, train_loss=0.0114, valid_loss=0.0225]\n",
      "Epoch: 35/40...: 100%|████████| 41/41 [00:03<00:00, 12.61it/s, train_loss=0.0117, valid_loss=0.0214]\n",
      "Epoch: 36/40...: 100%|████████| 41/41 [00:03<00:00, 13.18it/s, train_loss=0.0131, valid_loss=0.0232]\n",
      "Epoch: 37/40...: 100%|████████| 41/41 [00:03<00:00, 13.16it/s, train_loss=0.0123, valid_loss=0.0227]\n",
      "Epoch: 38/40...: 100%|████████| 41/41 [00:03<00:00, 13.19it/s, train_loss=0.0117, valid_loss=0.0228]\n",
      "Epoch: 39/40...: 100%|████████| 41/41 [00:03<00:00, 12.70it/s, train_loss=0.0121, valid_loss=0.0229]\n",
      "Epoch: 40/40...: 100%|████████| 41/41 [00:03<00:00, 13.12it/s, train_loss=0.0115, valid_loss=0.0223]\n"
     ]
    },
    {
     "name": "stdout",
     "output_type": "stream",
     "text": [
      "model config: batch_size-512, lr-0.01, number_epoch-40, hidden_dim-64, n_layers-2,drop_prob-0,weight_decay-0\n",
      "train dataset 0\n"
     ]
    },
    {
     "name": "stderr",
     "output_type": "stream",
     "text": [
      "Epoch: 1/40...: 100%|███████████| 41/41 [00:04<00:00,  8.30it/s, train_loss=0.031, valid_loss=0.035]\n",
      "Epoch: 2/40...: 100%|██████████| 41/41 [00:05<00:00,  8.07it/s, train_loss=0.032, valid_loss=0.0358]\n",
      "Epoch: 3/40...: 100%|█████████| 41/41 [00:04<00:00,  8.48it/s, train_loss=0.0299, valid_loss=0.0355]\n",
      "Epoch: 4/40...: 100%|█████████| 41/41 [00:04<00:00,  8.51it/s, train_loss=0.0312, valid_loss=0.0357]\n",
      "Epoch: 5/40...: 100%|█████████| 41/41 [00:04<00:00,  8.52it/s, train_loss=0.0295, valid_loss=0.0346]\n",
      "Epoch: 6/40...: 100%|██████████| 41/41 [00:04<00:00,  8.29it/s, train_loss=0.0327, valid_loss=0.035]\n",
      "Epoch: 7/40...: 100%|███████████| 41/41 [00:04<00:00,  8.44it/s, train_loss=0.03, valid_loss=0.0355]\n",
      "Epoch: 8/40...: 100%|█████████| 41/41 [00:04<00:00,  8.53it/s, train_loss=0.0314, valid_loss=0.0353]\n",
      "Epoch: 9/40...: 100%|█████████| 41/41 [00:05<00:00,  7.62it/s, train_loss=0.0237, valid_loss=0.0329]\n",
      "Epoch: 10/40...: 100%|████████| 41/41 [00:05<00:00,  7.84it/s, train_loss=0.0154, valid_loss=0.0242]\n",
      "Epoch: 11/40...: 100%|████████| 41/41 [00:05<00:00,  7.91it/s, train_loss=0.0107, valid_loss=0.0214]\n",
      "Epoch: 12/40...: 100%|████████| 41/41 [00:05<00:00,  7.87it/s, train_loss=0.0067, valid_loss=0.0123]\n",
      "Epoch: 13/40...: 100%|███████| 41/41 [00:05<00:00,  7.99it/s, train_loss=0.00572, valid_loss=0.0102]\n",
      "Epoch: 14/40...: 100%|███████| 41/41 [00:04<00:00,  8.36it/s, train_loss=0.00676, valid_loss=0.0122]\n",
      "Epoch: 15/40...: 100%|██████| 41/41 [00:05<00:00,  7.51it/s, train_loss=0.00506, valid_loss=0.00856]\n",
      "Epoch: 16/40...: 100%|██████| 41/41 [00:05<00:00,  7.94it/s, train_loss=0.00475, valid_loss=0.00784]\n",
      "Epoch: 17/40...: 100%|███████| 41/41 [00:05<00:00,  7.94it/s, train_loss=0.00473, valid_loss=0.0077]\n",
      "Epoch: 18/40...: 100%|███████| 41/41 [00:05<00:00,  7.87it/s, train_loss=0.00981, valid_loss=0.0105]\n",
      "Epoch: 19/40...: 100%|██████| 41/41 [00:05<00:00,  7.73it/s, train_loss=0.00464, valid_loss=0.00756]\n",
      "Epoch: 20/40...: 100%|██████| 41/41 [00:05<00:00,  7.69it/s, train_loss=0.00384, valid_loss=0.00627]\n",
      "Epoch: 21/40...: 100%|██████| 41/41 [00:05<00:00,  7.51it/s, train_loss=0.00388, valid_loss=0.00641]\n",
      "Epoch: 22/40...: 100%|██████| 41/41 [00:05<00:00,  7.47it/s, train_loss=0.00379, valid_loss=0.00644]\n",
      "Epoch: 23/40...: 100%|██████| 41/41 [00:05<00:00,  7.65it/s, train_loss=0.00291, valid_loss=0.00475]\n",
      "Epoch: 24/40...: 100%|██████| 41/41 [00:05<00:00,  7.75it/s, train_loss=0.00292, valid_loss=0.00439]\n",
      "Epoch: 25/40...: 100%|██████| 41/41 [00:04<00:00,  8.31it/s, train_loss=0.00229, valid_loss=0.00377]\n",
      "Epoch: 26/40...: 100%|██████| 41/41 [00:05<00:00,  7.75it/s, train_loss=0.00205, valid_loss=0.00356]\n",
      "Epoch: 27/40...: 100%|██████| 41/41 [00:05<00:00,  7.75it/s, train_loss=0.00195, valid_loss=0.00326]\n",
      "Epoch: 28/40...: 100%|██████| 41/41 [00:05<00:00,  7.39it/s, train_loss=0.00167, valid_loss=0.00321]\n",
      "Epoch: 29/40...: 100%|███████| 41/41 [00:05<00:00,  7.58it/s, train_loss=0.00196, valid_loss=0.0033]\n",
      "Epoch: 30/40...: 100%|███████| 41/41 [00:05<00:00,  7.82it/s, train_loss=0.00145, valid_loss=0.0033]\n",
      "Epoch: 31/40...: 100%|████████| 41/41 [00:05<00:00,  7.75it/s, train_loss=0.00135, valid_loss=0.003]\n",
      "Epoch: 32/40...: 100%|██████| 41/41 [00:05<00:00,  7.57it/s, train_loss=0.00152, valid_loss=0.00309]\n",
      "Epoch: 33/40...: 100%|██████| 41/41 [00:05<00:00,  7.70it/s, train_loss=0.00135, valid_loss=0.00358]\n",
      "Epoch: 34/40...: 100%|███████| 41/41 [00:05<00:00,  7.59it/s, train_loss=0.0014, valid_loss=0.00339]\n",
      "Epoch: 35/40...: 100%|█████| 41/41 [00:05<00:00,  7.60it/s, train_loss=0.000957, valid_loss=0.00314]\n",
      "Epoch: 36/40...: 100%|█████| 41/41 [00:05<00:00,  7.82it/s, train_loss=0.000958, valid_loss=0.00293]\n",
      "Epoch: 37/40...: 100%|██████| 41/41 [00:05<00:00,  7.74it/s, train_loss=0.00103, valid_loss=0.00341]\n",
      "Epoch: 38/40...: 100%|█████| 41/41 [00:04<00:00,  8.41it/s, train_loss=0.000788, valid_loss=0.00293]\n",
      "Epoch: 39/40...: 100%|██████| 41/41 [00:04<00:00,  8.45it/s, train_loss=0.00122, valid_loss=0.00283]\n",
      "Epoch: 40/40...: 100%|█████| 41/41 [00:04<00:00,  8.42it/s, train_loss=0.000723, valid_loss=0.00291]\n"
     ]
    },
    {
     "name": "stdout",
     "output_type": "stream",
     "text": [
      "model config: batch_size-256, lr-0.05, number_epoch-40, hidden_dim-64, n_layers-4,drop_prob-0,weight_decay-0\n",
      "train dataset 0\n"
     ]
    },
    {
     "name": "stderr",
     "output_type": "stream",
     "text": [
      "Epoch: 1/40...: 100%|█████████| 82/82 [00:15<00:00,  5.25it/s, train_loss=0.0301, valid_loss=0.0352]\n",
      "Epoch: 2/40...: 100%|██████████| 82/82 [00:14<00:00,  5.59it/s, train_loss=0.029, valid_loss=0.0354]\n",
      "Epoch: 3/40...: 100%|█████████| 82/82 [00:13<00:00,  5.87it/s, train_loss=0.0291, valid_loss=0.0362]\n",
      "Epoch: 4/40...: 100%|█████████| 82/82 [00:14<00:00,  5.73it/s, train_loss=0.0315, valid_loss=0.0348]\n",
      "Epoch: 5/40...: 100%|█████████| 82/82 [00:14<00:00,  5.81it/s, train_loss=0.0318, valid_loss=0.0368]\n",
      "Epoch: 6/40...: 100%|█████████| 82/82 [00:14<00:00,  5.77it/s, train_loss=0.0308, valid_loss=0.0357]\n",
      "Epoch: 7/40...: 100%|█████████| 82/82 [00:14<00:00,  5.59it/s, train_loss=0.0294, valid_loss=0.0353]\n",
      "Epoch: 8/40...: 100%|█████████| 82/82 [00:14<00:00,  5.48it/s, train_loss=0.0318, valid_loss=0.0346]\n",
      "Epoch: 9/40...: 100%|█████████| 82/82 [00:14<00:00,  5.58it/s, train_loss=0.0358, valid_loss=0.0351]\n",
      "Epoch: 10/40...: 100%|████████| 82/82 [00:14<00:00,  5.64it/s, train_loss=0.0304, valid_loss=0.0354]\n",
      "Epoch: 11/40...: 100%|████████| 82/82 [00:14<00:00,  5.69it/s, train_loss=0.0288, valid_loss=0.0352]\n",
      "Epoch: 12/40...: 100%|████████| 82/82 [00:14<00:00,  5.61it/s, train_loss=0.0309, valid_loss=0.0351]\n",
      "Epoch: 13/40...: 100%|████████| 82/82 [00:14<00:00,  5.85it/s, train_loss=0.0331, valid_loss=0.0347]\n",
      "Epoch: 14/40...: 100%|████████| 82/82 [00:12<00:00,  6.81it/s, train_loss=0.0306, valid_loss=0.0348]\n",
      "Epoch: 15/40...: 100%|████████| 82/82 [00:12<00:00,  6.60it/s, train_loss=0.0305, valid_loss=0.0349]\n",
      "Epoch: 16/40...: 100%|████████| 82/82 [00:12<00:00,  6.49it/s, train_loss=0.0316, valid_loss=0.0361]\n",
      "Epoch: 17/40...: 100%|████████| 82/82 [00:12<00:00,  6.36it/s, train_loss=0.0313, valid_loss=0.0359]\n",
      "Epoch: 18/40...: 100%|████████| 82/82 [00:12<00:00,  6.44it/s, train_loss=0.0286, valid_loss=0.0348]\n",
      "Epoch: 19/40...: 100%|████████| 82/82 [00:12<00:00,  6.57it/s, train_loss=0.0293, valid_loss=0.0347]\n",
      "Epoch: 20/40...: 100%|████████| 82/82 [00:12<00:00,  6.56it/s, train_loss=0.0304, valid_loss=0.0357]\n",
      "Epoch: 21/40...: 100%|████████| 82/82 [00:12<00:00,  6.46it/s, train_loss=0.0298, valid_loss=0.0365]\n",
      "Epoch: 22/40...: 100%|████████| 82/82 [00:13<00:00,  6.14it/s, train_loss=0.0327, valid_loss=0.0347]\n",
      "Epoch: 23/40...: 100%|████████| 82/82 [00:15<00:00,  5.15it/s, train_loss=0.0298, valid_loss=0.0352]\n",
      "Epoch: 24/40...: 100%|████████| 82/82 [00:16<00:00,  4.91it/s, train_loss=0.0287, valid_loss=0.0352]\n",
      "Epoch: 25/40...: 100%|████████| 82/82 [00:16<00:00,  4.94it/s, train_loss=0.0349, valid_loss=0.0354]\n",
      "Epoch: 26/40...: 100%|████████| 82/82 [00:15<00:00,  5.46it/s, train_loss=0.0293, valid_loss=0.0348]\n",
      "Epoch: 27/40...: 100%|██████████| 82/82 [00:13<00:00,  6.15it/s, train_loss=0.03, valid_loss=0.0351]\n",
      "Epoch: 28/40...: 100%|█████████| 82/82 [00:13<00:00,  5.98it/s, train_loss=0.031, valid_loss=0.0349]\n",
      "Epoch: 29/40...: 100%|████████| 82/82 [00:13<00:00,  5.95it/s, train_loss=0.0286, valid_loss=0.0355]\n",
      "Epoch: 30/40...: 100%|████████| 82/82 [00:14<00:00,  5.70it/s, train_loss=0.0297, valid_loss=0.0352]\n",
      "Epoch: 31/40...: 100%|█████████| 82/82 [00:15<00:00,  5.22it/s, train_loss=0.031, valid_loss=0.0355]\n",
      "Epoch: 32/40...: 100%|████████| 82/82 [00:13<00:00,  5.89it/s, train_loss=0.0315, valid_loss=0.0348]\n",
      "Epoch: 33/40...: 100%|████████| 82/82 [00:15<00:00,  5.37it/s, train_loss=0.0304, valid_loss=0.0346]\n",
      "Epoch: 34/40...: 100%|████████| 82/82 [00:12<00:00,  6.38it/s, train_loss=0.0282, valid_loss=0.0351]\n",
      "Epoch: 35/40...: 100%|██████████| 82/82 [00:13<00:00,  6.08it/s, train_loss=0.03, valid_loss=0.0349]\n",
      "Epoch: 36/40...: 100%|█████████| 82/82 [00:12<00:00,  6.45it/s, train_loss=0.032, valid_loss=0.0353]\n",
      "Epoch: 37/40...: 100%|████████| 82/82 [00:15<00:00,  5.35it/s, train_loss=0.0321, valid_loss=0.0352]\n",
      "Epoch: 38/40...: 100%|████████| 82/82 [00:13<00:00,  6.07it/s, train_loss=0.0298, valid_loss=0.0354]\n",
      "Epoch: 39/40...: 100%|████████| 82/82 [00:12<00:00,  6.69it/s, train_loss=0.0315, valid_loss=0.0351]\n",
      "Epoch: 40/40...: 100%|████████| 82/82 [00:12<00:00,  6.62it/s, train_loss=0.0334, valid_loss=0.0359]\n"
     ]
    },
    {
     "name": "stdout",
     "output_type": "stream",
     "text": [
      "model config: batch_size-256, lr-0.01, number_epoch-40, hidden_dim-32, n_layers-2,drop_prob-0,weight_decay-0\n",
      "train dataset 0\n"
     ]
    },
    {
     "name": "stderr",
     "output_type": "stream",
     "text": [
      "Epoch: 1/40...: 100%|█████████| 82/82 [00:08<00:00,  9.29it/s, train_loss=0.0335, valid_loss=0.0345]\n",
      "Epoch: 2/40...: 100%|█████████| 82/82 [00:08<00:00,  9.18it/s, train_loss=0.0111, valid_loss=0.0213]\n",
      "Epoch: 3/40...: 100%|████████| 82/82 [00:08<00:00,  9.12it/s, train_loss=0.00647, valid_loss=0.0107]\n",
      "Epoch: 4/40...: 100%|████████| 82/82 [00:08<00:00,  9.18it/s, train_loss=0.00403, valid_loss=0.0063]\n",
      "Epoch: 5/40...: 100%|████████| 82/82 [00:08<00:00,  9.18it/s, train_loss=0.0033, valid_loss=0.00435]\n",
      "Epoch: 6/40...: 100%|███████| 82/82 [00:09<00:00,  9.10it/s, train_loss=0.00222, valid_loss=0.00358]\n",
      "Epoch: 7/40...: 100%|███████| 82/82 [00:08<00:00,  9.24it/s, train_loss=0.00206, valid_loss=0.00319]\n",
      "Epoch: 8/40...: 100%|███████| 82/82 [00:08<00:00,  9.35it/s, train_loss=0.00171, valid_loss=0.00215]\n",
      "Epoch: 9/40...: 100%|███████| 82/82 [00:09<00:00,  9.11it/s, train_loss=0.00105, valid_loss=0.00181]\n",
      "Epoch: 10/40...: 100%|█████| 82/82 [00:08<00:00,  9.28it/s, train_loss=0.000859, valid_loss=0.00157]\n",
      "Epoch: 11/40...: 100%|██████| 82/82 [00:08<00:00,  9.14it/s, train_loss=0.000888, valid_loss=0.0015]\n",
      "Epoch: 12/40...: 100%|█████| 82/82 [00:08<00:00,  9.32it/s, train_loss=0.000912, valid_loss=0.00179]\n",
      "Epoch: 13/40...: 100%|█████| 82/82 [00:08<00:00,  9.32it/s, train_loss=0.000987, valid_loss=0.00132]\n",
      "Epoch: 14/40...: 100%|█████| 82/82 [00:08<00:00,  9.46it/s, train_loss=0.000939, valid_loss=0.00267]\n",
      "Epoch: 15/40...: 100%|█████| 82/82 [00:08<00:00,  9.18it/s, train_loss=0.000868, valid_loss=0.00139]\n",
      "Epoch: 16/40...: 100%|█████| 82/82 [00:08<00:00,  9.24it/s, train_loss=0.000839, valid_loss=0.00146]\n",
      "Epoch: 17/40...: 100%|██████| 82/82 [00:08<00:00,  9.17it/s, train_loss=0.00063, valid_loss=0.00202]\n",
      "Epoch: 18/40...: 100%|█████| 82/82 [00:08<00:00,  9.25it/s, train_loss=0.000525, valid_loss=0.00141]\n",
      "Epoch: 19/40...: 100%|█████| 82/82 [00:09<00:00,  9.11it/s, train_loss=0.000648, valid_loss=0.00155]\n",
      "Epoch: 20/40...: 100%|█████| 82/82 [00:08<00:00,  9.21it/s, train_loss=0.000493, valid_loss=0.00146]\n",
      "Epoch: 21/40...: 100%|██████| 82/82 [00:08<00:00,  9.25it/s, train_loss=0.000537, valid_loss=0.0017]\n",
      "Epoch: 22/40...: 100%|█████| 82/82 [00:08<00:00,  9.14it/s, train_loss=0.000614, valid_loss=0.00128]\n",
      "Epoch: 23/40...: 100%|█████| 82/82 [00:09<00:00,  9.01it/s, train_loss=0.000513, valid_loss=0.00156]\n",
      "Epoch: 24/40...: 100%|█████| 82/82 [00:08<00:00,  9.29it/s, train_loss=0.000623, valid_loss=0.00136]\n",
      "Epoch: 25/40...: 100%|██████| 82/82 [00:08<00:00,  9.31it/s, train_loss=0.00048, valid_loss=0.00144]\n",
      "Epoch: 26/40...: 100%|██████| 82/82 [00:08<00:00,  9.28it/s, train_loss=0.000535, valid_loss=0.0014]\n",
      "Epoch: 27/40...: 100%|██████| 82/82 [00:08<00:00,  9.22it/s, train_loss=0.000557, valid_loss=0.0017]\n",
      "Epoch: 28/40...: 100%|█████| 82/82 [00:08<00:00,  9.32it/s, train_loss=0.000427, valid_loss=0.00174]\n",
      "Epoch: 29/40...: 100%|█████| 82/82 [00:08<00:00,  9.29it/s, train_loss=0.000487, valid_loss=0.00179]\n",
      "Epoch: 30/40...: 100%|█████| 82/82 [00:08<00:00,  9.33it/s, train_loss=0.000548, valid_loss=0.00188]\n",
      "Epoch: 31/40...: 100%|███████| 82/82 [00:09<00:00,  9.04it/s, train_loss=0.000492, valid_loss=0.002]\n",
      "Epoch: 32/40...: 100%|██████| 82/82 [00:09<00:00,  9.07it/s, train_loss=0.000338, valid_loss=0.0015]\n",
      "Epoch: 33/40...: 100%|█████| 82/82 [00:08<00:00,  9.12it/s, train_loss=0.000453, valid_loss=0.00183]\n",
      "Epoch: 34/40...: 100%|█████| 82/82 [00:09<00:00,  9.01it/s, train_loss=0.000475, valid_loss=0.00171]\n",
      "Epoch: 35/40...: 100%|█████| 82/82 [00:09<00:00,  8.94it/s, train_loss=0.000386, valid_loss=0.00144]\n",
      "Epoch: 36/40...: 100%|█████| 82/82 [00:09<00:00,  9.05it/s, train_loss=0.000357, valid_loss=0.00163]\n",
      "Epoch: 37/40...: 100%|█████| 82/82 [00:08<00:00,  9.24it/s, train_loss=0.000381, valid_loss=0.00165]\n",
      "Epoch: 38/40...: 100%|█████| 82/82 [00:08<00:00,  9.39it/s, train_loss=0.000347, valid_loss=0.00217]\n",
      "Epoch: 39/40...: 100%|██████| 82/82 [00:08<00:00,  9.40it/s, train_loss=0.000371, valid_loss=0.0015]\n",
      "Epoch: 40/40...: 100%|█████| 82/82 [00:08<00:00,  9.25it/s, train_loss=0.000542, valid_loss=0.00213]\n"
     ]
    },
    {
     "name": "stdout",
     "output_type": "stream",
     "text": [
      "model config: batch_size-512, lr-0.05, number_epoch-40, hidden_dim-64, n_layers-3,drop_prob-0,weight_decay-0\n",
      "train dataset 0\n"
     ]
    },
    {
     "name": "stderr",
     "output_type": "stream",
     "text": [
      "Epoch: 1/40...: 100%|█████████| 41/41 [00:05<00:00,  7.10it/s, train_loss=0.0305, valid_loss=0.0367]\n",
      "Epoch: 2/40...: 100%|██████████| 41/41 [00:06<00:00,  6.71it/s, train_loss=0.0292, valid_loss=0.035]\n",
      "Epoch: 3/40...: 100%|█████████| 41/41 [00:05<00:00,  7.01it/s, train_loss=0.0287, valid_loss=0.0344]\n",
      "Epoch: 4/40...: 100%|███████████| 41/41 [00:05<00:00,  7.76it/s, train_loss=0.029, valid_loss=0.034]\n",
      "Epoch: 5/40...: 100%|█████████| 41/41 [00:05<00:00,  7.74it/s, train_loss=0.0174, valid_loss=0.0387]\n",
      "Epoch: 6/40...: 100%|█████████| 41/41 [00:05<00:00,  7.60it/s, train_loss=0.0175, valid_loss=0.0282]\n",
      "Epoch: 7/40...: 100%|█████████| 41/41 [00:05<00:00,  7.75it/s, train_loss=0.0144, valid_loss=0.0245]\n",
      "Epoch: 8/40...: 100%|██████████| 41/41 [00:05<00:00,  7.75it/s, train_loss=0.015, valid_loss=0.0294]\n",
      "Epoch: 9/40...: 100%|█████████| 41/41 [00:05<00:00,  7.56it/s, train_loss=0.0133, valid_loss=0.0233]\n",
      "Epoch: 10/40...: 100%|█████████| 41/41 [00:05<00:00,  7.54it/s, train_loss=0.0141, valid_loss=0.022]\n",
      "Epoch: 11/40...: 100%|████████| 41/41 [00:05<00:00,  7.46it/s, train_loss=0.0121, valid_loss=0.0233]\n",
      "Epoch: 12/40...: 100%|████████| 41/41 [00:05<00:00,  7.49it/s, train_loss=0.0116, valid_loss=0.0201]\n",
      "Epoch: 13/40...: 100%|████████| 41/41 [00:05<00:00,  7.33it/s, train_loss=0.0111, valid_loss=0.0207]\n",
      "Epoch: 14/40...: 100%|████████| 41/41 [00:05<00:00,  7.65it/s, train_loss=0.0119, valid_loss=0.0187]\n",
      "Epoch: 15/40...: 100%|████████| 41/41 [00:05<00:00,  7.78it/s, train_loss=0.0105, valid_loss=0.0185]\n",
      "Epoch: 16/40...: 100%|█████████| 41/41 [00:05<00:00,  7.60it/s, train_loss=0.0105, valid_loss=0.019]\n",
      "Epoch: 17/40...: 100%|████████| 41/41 [00:05<00:00,  7.82it/s, train_loss=0.0105, valid_loss=0.0174]\n",
      "Epoch: 18/40...: 100%|████████| 41/41 [00:05<00:00,  7.82it/s, train_loss=0.0114, valid_loss=0.0195]\n",
      "Epoch: 19/40...: 100%|██████████| 41/41 [00:05<00:00,  7.61it/s, train_loss=0.012, valid_loss=0.021]\n",
      "Epoch: 20/40...: 100%|████████| 41/41 [00:05<00:00,  7.77it/s, train_loss=0.0108, valid_loss=0.0167]\n",
      "Epoch: 21/40...: 100%|████████| 41/41 [00:05<00:00,  7.68it/s, train_loss=0.0118, valid_loss=0.0209]\n",
      "Epoch: 22/40...: 100%|████████| 41/41 [00:05<00:00,  7.83it/s, train_loss=0.0133, valid_loss=0.0256]\n",
      "Epoch: 23/40...: 100%|████████| 41/41 [00:05<00:00,  7.81it/s, train_loss=0.0107, valid_loss=0.0193]\n",
      "Epoch: 24/40...: 100%|████████| 41/41 [00:05<00:00,  7.83it/s, train_loss=0.0115, valid_loss=0.0214]\n",
      "Epoch: 25/40...: 100%|████████| 41/41 [00:05<00:00,  7.50it/s, train_loss=0.0105, valid_loss=0.0185]\n",
      "Epoch: 26/40...: 100%|████████| 41/41 [00:05<00:00,  7.86it/s, train_loss=0.0104, valid_loss=0.0195]\n",
      "Epoch: 27/40...: 100%|█████████| 41/41 [00:05<00:00,  7.49it/s, train_loss=0.0102, valid_loss=0.019]\n",
      "Epoch: 28/40...: 100%|████████| 41/41 [00:05<00:00,  7.46it/s, train_loss=0.0116, valid_loss=0.0209]\n",
      "Epoch: 29/40...: 100%|████████| 41/41 [00:05<00:00,  7.27it/s, train_loss=0.0111, valid_loss=0.0191]\n",
      "Epoch: 30/40...: 100%|████████| 41/41 [00:05<00:00,  7.39it/s, train_loss=0.0105, valid_loss=0.0187]\n",
      "Epoch: 31/40...: 100%|████████| 41/41 [00:05<00:00,  7.26it/s, train_loss=0.0106, valid_loss=0.0185]\n",
      "Epoch: 32/40...: 100%|████████| 41/41 [00:05<00:00,  7.28it/s, train_loss=0.0102, valid_loss=0.0183]\n",
      "Epoch: 33/40...: 100%|████████| 41/41 [00:05<00:00,  7.22it/s, train_loss=0.0107, valid_loss=0.0184]\n",
      "Epoch: 34/40...: 100%|███████| 41/41 [00:05<00:00,  7.15it/s, train_loss=0.00977, valid_loss=0.0169]\n",
      "Epoch: 35/40...: 100%|█████████| 41/41 [00:05<00:00,  7.17it/s, train_loss=0.0106, valid_loss=0.019]\n",
      "Epoch: 36/40...: 100%|████████| 41/41 [00:05<00:00,  7.30it/s, train_loss=0.0137, valid_loss=0.0234]\n",
      "Epoch: 37/40...: 100%|████████| 41/41 [00:05<00:00,  7.20it/s, train_loss=0.0114, valid_loss=0.0201]\n",
      "Epoch: 38/40...: 100%|████████| 41/41 [00:06<00:00,  6.69it/s, train_loss=0.0112, valid_loss=0.0212]\n",
      "Epoch: 39/40...: 100%|████████| 41/41 [00:05<00:00,  7.03it/s, train_loss=0.0121, valid_loss=0.0224]\n",
      "Epoch: 40/40...: 100%|█████████| 41/41 [00:05<00:00,  7.21it/s, train_loss=0.0112, valid_loss=0.019]\n"
     ]
    },
    {
     "name": "stdout",
     "output_type": "stream",
     "text": [
      "model config: batch_size-512, lr-0.01, number_epoch-40, hidden_dim-32, n_layers-2,drop_prob-0,weight_decay-0\n",
      "train dataset 0\n"
     ]
    },
    {
     "name": "stderr",
     "output_type": "stream",
     "text": [
      "Epoch: 1/40...: 100%|█████████| 41/41 [00:04<00:00,  8.63it/s, train_loss=0.0125, valid_loss=0.0202]\n",
      "Epoch: 2/40...: 100%|███████| 41/41 [00:03<00:00, 10.75it/s, train_loss=0.00403, valid_loss=0.00569]\n",
      "Epoch: 3/40...: 100%|████████| 41/41 [00:03<00:00, 11.41it/s, train_loss=0.0028, valid_loss=0.00405]\n",
      "Epoch: 4/40...: 100%|███████| 41/41 [00:03<00:00, 11.24it/s, train_loss=0.00256, valid_loss=0.00297]\n",
      "Epoch: 5/40...: 100%|███████| 41/41 [00:03<00:00, 11.73it/s, train_loss=0.00169, valid_loss=0.00262]\n",
      "Epoch: 6/40...: 100%|███████| 41/41 [00:03<00:00, 11.34it/s, train_loss=0.00185, valid_loss=0.00261]\n",
      "Epoch: 7/40...: 100%|██████| 41/41 [00:03<00:00, 11.79it/s, train_loss=0.000886, valid_loss=0.00154]\n",
      "Epoch: 8/40...: 100%|██████| 41/41 [00:03<00:00, 11.48it/s, train_loss=0.000881, valid_loss=0.00157]\n",
      "Epoch: 9/40...: 100%|██████| 41/41 [00:03<00:00, 11.68it/s, train_loss=0.000688, valid_loss=0.00177]\n",
      "Epoch: 10/40...: 100%|█████| 41/41 [00:03<00:00, 11.17it/s, train_loss=0.000619, valid_loss=0.00147]\n",
      "Epoch: 11/40...: 100%|█████| 41/41 [00:03<00:00, 11.61it/s, train_loss=0.000607, valid_loss=0.00141]\n",
      "Epoch: 12/40...: 100%|██████| 41/41 [00:03<00:00, 11.44it/s, train_loss=0.000568, valid_loss=0.0012]\n",
      "Epoch: 13/40...: 100%|█████| 41/41 [00:03<00:00, 11.44it/s, train_loss=0.000585, valid_loss=0.00135]\n",
      "Epoch: 14/40...: 100%|█████| 41/41 [00:03<00:00, 11.11it/s, train_loss=0.000552, valid_loss=0.00155]\n",
      "Epoch: 15/40...: 100%|█████| 41/41 [00:03<00:00, 11.14it/s, train_loss=0.000619, valid_loss=0.00152]\n",
      "Epoch: 16/40...: 100%|█████| 41/41 [00:03<00:00, 11.16it/s, train_loss=0.000711, valid_loss=0.00132]\n",
      "Epoch: 17/40...: 100%|█████| 41/41 [00:03<00:00, 11.51it/s, train_loss=0.000584, valid_loss=0.00137]\n",
      "Epoch: 18/40...: 100%|█████| 41/41 [00:03<00:00, 11.47it/s, train_loss=0.000629, valid_loss=0.00131]\n",
      "Epoch: 19/40...: 100%|█████| 41/41 [00:03<00:00, 11.51it/s, train_loss=0.000393, valid_loss=0.00146]\n",
      "Epoch: 20/40...: 100%|█████| 41/41 [00:03<00:00, 11.03it/s, train_loss=0.000616, valid_loss=0.00138]\n",
      "Epoch: 21/40...: 100%|█████| 41/41 [00:03<00:00, 11.49it/s, train_loss=0.000365, valid_loss=0.00143]\n",
      "Epoch: 22/40...: 100%|█████| 41/41 [00:03<00:00, 11.31it/s, train_loss=0.000349, valid_loss=0.00133]\n",
      "Epoch: 23/40...: 100%|█████| 41/41 [00:03<00:00, 11.03it/s, train_loss=0.000339, valid_loss=0.00134]\n",
      "Epoch: 24/40...: 100%|█████| 41/41 [00:03<00:00, 11.43it/s, train_loss=0.000323, valid_loss=0.00144]\n",
      "Epoch: 25/40...: 100%|███████| 41/41 [00:03<00:00, 11.53it/s, train_loss=0.00034, valid_loss=0.0018]\n",
      "Epoch: 26/40...: 100%|█████| 41/41 [00:03<00:00, 11.46it/s, train_loss=0.000307, valid_loss=0.00147]\n",
      "Epoch: 27/40...: 100%|█████| 41/41 [00:03<00:00, 11.43it/s, train_loss=0.000306, valid_loss=0.00163]\n",
      "Epoch: 28/40...: 100%|█████| 41/41 [00:03<00:00, 11.60it/s, train_loss=0.000377, valid_loss=0.00151]\n",
      "Epoch: 29/40...: 100%|█████| 41/41 [00:03<00:00, 11.33it/s, train_loss=0.000347, valid_loss=0.00175]\n",
      "Epoch: 30/40...: 100%|█████| 41/41 [00:03<00:00, 11.04it/s, train_loss=0.000293, valid_loss=0.00158]\n",
      "Epoch: 31/40...: 100%|█████| 41/41 [00:03<00:00, 11.29it/s, train_loss=0.000252, valid_loss=0.00145]\n",
      "Epoch: 32/40...: 100%|█████| 41/41 [00:03<00:00, 11.44it/s, train_loss=0.000258, valid_loss=0.00144]\n",
      "Epoch: 33/40...: 100%|█████| 41/41 [00:03<00:00, 10.93it/s, train_loss=0.000359, valid_loss=0.00166]\n",
      "Epoch: 34/40...: 100%|█████| 41/41 [00:03<00:00, 11.35it/s, train_loss=0.000362, valid_loss=0.00188]\n",
      "Epoch: 35/40...: 100%|███████| 41/41 [00:03<00:00, 11.25it/s, train_loss=0.00022, valid_loss=0.0016]\n",
      "Epoch: 36/40...: 100%|█████| 41/41 [00:03<00:00, 11.34it/s, train_loss=0.000228, valid_loss=0.00163]\n",
      "Epoch: 37/40...: 100%|█████| 41/41 [00:03<00:00, 11.26it/s, train_loss=0.000241, valid_loss=0.00162]\n",
      "Epoch: 38/40...: 100%|█████| 41/41 [00:03<00:00, 11.20it/s, train_loss=0.000268, valid_loss=0.00175]\n",
      "Epoch: 39/40...: 100%|█████| 41/41 [00:03<00:00, 11.28it/s, train_loss=0.000231, valid_loss=0.00172]\n",
      "Epoch: 40/40...: 100%|█████| 41/41 [00:03<00:00, 10.96it/s, train_loss=0.000201, valid_loss=0.00157]\n"
     ]
    },
    {
     "name": "stdout",
     "output_type": "stream",
     "text": [
      "model config: batch_size-256, lr-0.05, number_epoch-40, hidden_dim-32, n_layers-4,drop_prob-0,weight_decay-0\n",
      "train dataset 0\n"
     ]
    },
    {
     "name": "stderr",
     "output_type": "stream",
     "text": [
      "Epoch: 1/40...: 100%|█████████| 82/82 [00:10<00:00,  7.61it/s, train_loss=0.0293, valid_loss=0.0352]\n",
      "Epoch: 2/40...: 100%|█████████| 82/82 [00:10<00:00,  7.59it/s, train_loss=0.0154, valid_loss=0.0261]\n",
      "Epoch: 3/40...: 100%|█████████| 82/82 [00:10<00:00,  7.60it/s, train_loss=0.0144, valid_loss=0.0259]\n",
      "Epoch: 4/40...: 100%|█████████| 82/82 [00:10<00:00,  7.52it/s, train_loss=0.0135, valid_loss=0.0245]\n",
      "Epoch: 5/40...: 100%|██████████| 82/82 [00:10<00:00,  7.60it/s, train_loss=0.012, valid_loss=0.0213]\n",
      "Epoch: 6/40...: 100%|█████████| 82/82 [00:10<00:00,  7.54it/s, train_loss=0.0123, valid_loss=0.0233]\n",
      "Epoch: 7/40...: 100%|█████████| 82/82 [00:10<00:00,  7.60it/s, train_loss=0.0123, valid_loss=0.0211]\n",
      "Epoch: 8/40...: 100%|█████████| 82/82 [00:10<00:00,  7.56it/s, train_loss=0.0131, valid_loss=0.0241]\n",
      "Epoch: 9/40...: 100%|█████████| 82/82 [00:10<00:00,  7.55it/s, train_loss=0.0144, valid_loss=0.0222]\n",
      "Epoch: 10/40...: 100%|█████████| 82/82 [00:10<00:00,  7.59it/s, train_loss=0.0121, valid_loss=0.023]\n",
      "Epoch: 11/40...: 100%|████████| 82/82 [00:10<00:00,  7.60it/s, train_loss=0.0124, valid_loss=0.0239]\n",
      "Epoch: 12/40...: 100%|████████| 82/82 [00:10<00:00,  7.56it/s, train_loss=0.0124, valid_loss=0.0217]\n",
      "Epoch: 13/40...: 100%|█████████| 82/82 [00:10<00:00,  7.58it/s, train_loss=0.013, valid_loss=0.0214]\n",
      "Epoch: 14/40...: 100%|████████| 82/82 [00:10<00:00,  7.62it/s, train_loss=0.0124, valid_loss=0.0227]\n",
      "Epoch: 15/40...: 100%|████████| 82/82 [00:10<00:00,  7.63it/s, train_loss=0.0123, valid_loss=0.0213]\n",
      "Epoch: 16/40...: 100%|████████| 82/82 [00:10<00:00,  7.60it/s, train_loss=0.0121, valid_loss=0.0218]\n",
      "Epoch: 17/40...: 100%|████████| 82/82 [00:10<00:00,  7.51it/s, train_loss=0.0132, valid_loss=0.0266]\n",
      "Epoch: 18/40...: 100%|████████| 82/82 [00:10<00:00,  7.66it/s, train_loss=0.0113, valid_loss=0.0213]\n",
      "Epoch: 19/40...: 100%|████████| 82/82 [00:10<00:00,  7.63it/s, train_loss=0.0155, valid_loss=0.0254]\n",
      "Epoch: 20/40...: 100%|█████████| 82/82 [00:10<00:00,  7.74it/s, train_loss=0.012, valid_loss=0.0211]\n",
      "Epoch: 21/40...: 100%|█████████| 82/82 [00:10<00:00,  7.62it/s, train_loss=0.0149, valid_loss=0.024]\n",
      "Epoch: 22/40...: 100%|████████| 82/82 [00:10<00:00,  7.71it/s, train_loss=0.0137, valid_loss=0.0227]\n",
      "Epoch: 23/40...: 100%|████████| 82/82 [00:10<00:00,  7.67it/s, train_loss=0.0132, valid_loss=0.0225]\n",
      "Epoch: 24/40...: 100%|████████| 82/82 [00:10<00:00,  7.68it/s, train_loss=0.0127, valid_loss=0.0228]\n",
      "Epoch: 25/40...: 100%|████████| 82/82 [00:10<00:00,  7.65it/s, train_loss=0.0141, valid_loss=0.0231]\n",
      "Epoch: 26/40...: 100%|█████████| 82/82 [00:10<00:00,  7.78it/s, train_loss=0.0131, valid_loss=0.023]\n",
      "Epoch: 27/40...: 100%|████████| 82/82 [00:10<00:00,  7.77it/s, train_loss=0.0124, valid_loss=0.0223]\n",
      "Epoch: 28/40...: 100%|████████| 82/82 [00:10<00:00,  7.75it/s, train_loss=0.0128, valid_loss=0.0224]\n",
      "Epoch: 29/40...: 100%|████████| 82/82 [00:10<00:00,  7.71it/s, train_loss=0.0135, valid_loss=0.0228]\n",
      "Epoch: 30/40...: 100%|████████| 82/82 [00:10<00:00,  7.76it/s, train_loss=0.0126, valid_loss=0.0225]\n",
      "Epoch: 31/40...: 100%|████████| 82/82 [00:10<00:00,  7.85it/s, train_loss=0.0129, valid_loss=0.0253]\n",
      "Epoch: 32/40...: 100%|████████| 82/82 [00:10<00:00,  7.83it/s, train_loss=0.0122, valid_loss=0.0218]\n",
      "Epoch: 33/40...: 100%|████████| 82/82 [00:10<00:00,  7.63it/s, train_loss=0.0123, valid_loss=0.0218]\n",
      "Epoch: 34/40...: 100%|█████████| 82/82 [00:10<00:00,  7.84it/s, train_loss=0.013, valid_loss=0.0225]\n",
      "Epoch: 35/40...: 100%|████████| 82/82 [00:10<00:00,  7.84it/s, train_loss=0.0113, valid_loss=0.0221]\n",
      "Epoch: 36/40...: 100%|████████| 82/82 [00:10<00:00,  7.84it/s, train_loss=0.0125, valid_loss=0.0211]\n",
      "Epoch: 37/40...: 100%|████████| 82/82 [00:10<00:00,  7.76it/s, train_loss=0.0119, valid_loss=0.0213]\n",
      "Epoch: 38/40...: 100%|████████| 82/82 [00:10<00:00,  7.77it/s, train_loss=0.0117, valid_loss=0.0216]\n",
      "Epoch: 39/40...: 100%|████████| 82/82 [00:10<00:00,  7.72it/s, train_loss=0.0122, valid_loss=0.0209]\n",
      "Epoch: 40/40...: 100%|████████| 82/82 [00:10<00:00,  7.76it/s, train_loss=0.0111, valid_loss=0.0206]\n"
     ]
    },
    {
     "name": "stdout",
     "output_type": "stream",
     "text": [
      "model config: batch_size-256, lr-0.01, number_epoch-40, hidden_dim-32, n_layers-3,drop_prob-0,weight_decay-0\n",
      "train dataset 0\n"
     ]
    },
    {
     "name": "stderr",
     "output_type": "stream",
     "text": [
      "Epoch: 1/40...: 100%|██████████| 82/82 [00:09<00:00,  8.41it/s, train_loss=0.0115, valid_loss=0.019]\n",
      "Epoch: 2/40...: 100%|████████| 82/82 [00:09<00:00,  8.32it/s, train_loss=0.00243, valid_loss=0.0035]\n",
      "Epoch: 3/40...: 100%|███████| 82/82 [00:09<00:00,  8.43it/s, train_loss=0.00195, valid_loss=0.00289]\n",
      "Epoch: 4/40...:  62%|████▎  | 51/82 [00:06<00:04,  7.30it/s, train_loss=0.00125, valid_loss=0.00298]"
     ]
    }
   ],
   "source": [
    "random_seed_set(42)\n",
    "records = run_model_hpo()"
   ]
  },
  {
   "cell_type": "markdown",
   "id": "6b81e878",
   "metadata": {
    "ExecuteTime": {
     "end_time": "2021-12-22T08:52:06.844501Z",
     "start_time": "2021-12-22T08:52:06.830928Z"
    }
   },
   "source": [
    "## find the best hyper-parameters"
   ]
  },
  {
   "cell_type": "code",
   "execution_count": 106,
   "id": "06a0c525",
   "metadata": {
    "ExecuteTime": {
     "end_time": "2022-01-02T07:46:47.805656Z",
     "start_time": "2022-01-02T07:46:47.776572Z"
    }
   },
   "outputs": [
    {
     "ename": "NameError",
     "evalue": "name 'records' is not defined",
     "output_type": "error",
     "traceback": [
      "\u001b[0;31m---------------------------------------------------------------------------\u001b[0m",
      "\u001b[0;31mNameError\u001b[0m                                 Traceback (most recent call last)",
      "\u001b[0;32m/tmp/ipykernel_29496/2776335218.py\u001b[0m in \u001b[0;36m<module>\u001b[0;34m\u001b[0m\n\u001b[0;32m----> 1\u001b[0;31m \u001b[0mrecords\u001b[0m \u001b[0;34m=\u001b[0m \u001b[0mpd\u001b[0m\u001b[0;34m.\u001b[0m\u001b[0mDataFrame\u001b[0m\u001b[0;34m(\u001b[0m\u001b[0mrecords\u001b[0m\u001b[0;34m)\u001b[0m\u001b[0;34m.\u001b[0m\u001b[0msort_values\u001b[0m\u001b[0;34m(\u001b[0m\u001b[0mby\u001b[0m\u001b[0;34m=\u001b[0m\u001b[0;34m'valid_loss'\u001b[0m\u001b[0;34m)\u001b[0m\u001b[0;34m\u001b[0m\u001b[0;34m\u001b[0m\u001b[0m\n\u001b[0m\u001b[1;32m      2\u001b[0m \u001b[0mrecords\u001b[0m\u001b[0;34m.\u001b[0m\u001b[0mto_csv\u001b[0m\u001b[0;34m(\u001b[0m\u001b[0;34m'./records/Seq2Seq_bahdanau_birnn_records.csv'\u001b[0m\u001b[0;34m,\u001b[0m \u001b[0mmode\u001b[0m\u001b[0;34m=\u001b[0m\u001b[0;34m'a'\u001b[0m\u001b[0;34m,\u001b[0m \u001b[0mindex\u001b[0m\u001b[0;34m=\u001b[0m\u001b[0;32mFalse\u001b[0m\u001b[0;34m,\u001b[0m \u001b[0mheader\u001b[0m\u001b[0;34m=\u001b[0m\u001b[0;32mFalse\u001b[0m\u001b[0;34m)\u001b[0m\u001b[0;34m\u001b[0m\u001b[0;34m\u001b[0m\u001b[0m\n\u001b[1;32m      3\u001b[0m \u001b[0mrecords\u001b[0m\u001b[0;34m\u001b[0m\u001b[0;34m\u001b[0m\u001b[0m\n",
      "\u001b[0;31mNameError\u001b[0m: name 'records' is not defined"
     ]
    }
   ],
   "source": [
    "records = pd.DataFrame(records).sort_values(by='valid_loss')\n",
    "records.to_csv('./records/Seq2Seq_bahdanau_birnn_records.csv', mode='a', index=False, header=False)\n",
    "records"
   ]
  },
  {
   "cell_type": "markdown",
   "id": "7f4a8b18",
   "metadata": {},
   "source": [
    "## retrain a model"
   ]
  },
  {
   "cell_type": "code",
   "execution_count": 75,
   "id": "4449995d",
   "metadata": {
    "ExecuteTime": {
     "end_time": "2022-01-01T06:58:38.715134Z",
     "start_time": "2022-01-01T06:58:38.687382Z"
    },
    "code_folding": []
   },
   "outputs": [],
   "source": [
    "def train_model(train_x,\n",
    "                train_y,\n",
    "                valid_x,\n",
    "                valid_y,\n",
    "                input_size,\n",
    "                seq_len,\n",
    "                target_len,\n",
    "                mse_thresh,\n",
    "                hidden_dim,\n",
    "                n_layers,\n",
    "                number_epoch,\n",
    "                batch_size,\n",
    "                lr,\n",
    "                drop_prob,\n",
    "                weight_decay):\n",
    "    while (1):\n",
    "        model = Seq2Seq_Attn(input_size, hidden_dim, n_layers, drop_prob)\n",
    "        model = model.to(device)\n",
    "        criterion = nn.MSELoss()\n",
    "        optimizer = torch.optim.Adam(model.parameters(), lr=lr, weight_decay=weight_decay)\n",
    "        scheduler = torch.optim.lr_scheduler.StepLR(optimizer, 1, gamma=0.98)\n",
    "        valid_loss_min = np.Inf\n",
    "        train_dataset = TensorDataset(torch.FloatTensor(train_x),\n",
    "                                      torch.FloatTensor(train_y))\n",
    "        valid_dataset = TensorDataset(torch.FloatTensor(valid_x),\n",
    "                                      torch.FloatTensor(valid_y))\n",
    "\n",
    "        train_loader = DataLoader(dataset=train_dataset,\n",
    "                                  batch_size=batch_size,\n",
    "                                  shuffle=True,\n",
    "                                  drop_last=True)\n",
    "        valid_loader = DataLoader(dataset=valid_dataset,\n",
    "                                  batch_size=batch_size,\n",
    "                                  shuffle=True,\n",
    "                                  drop_last=True)\n",
    "        train_losses = list()\n",
    "\n",
    "        num_without_imp = 0\n",
    "        \n",
    "        train_loss_list = []\n",
    "        valid_loss_list = []\n",
    "        #train\n",
    "        for epoch in range(1, number_epoch + 1):\n",
    "            loop = tqdm(enumerate(train_loader),\n",
    "                        total=len(train_loader),\n",
    "                        leave=True, ncols=100)\n",
    "            for i, (inputs, labels) in loop:\n",
    "                inputs = inputs.to(device)\n",
    "                labels = labels.to(device)\n",
    "                optimizer.zero_grad()\n",
    "                encoder_inputs = inputs\n",
    "                decoder_inputs = torch.cat((inputs[:, -1:, :], labels[:, :-1, :]), dim=1)\n",
    "                outputs = model(encoder_inputs, decoder_inputs)                                \n",
    "                loss = criterion(outputs, labels[:, :, -1])\n",
    "                train_losses.append(loss.item)\n",
    "                loss.backward()\n",
    "                optimizer.step()\n",
    "\n",
    "                # eval\n",
    "                if i % 5 == 0:\n",
    "                    num_without_imp = num_without_imp + 1\n",
    "                    valid_losses = list()\n",
    "                    model.eval()\n",
    "                    for inp, lab in valid_loader:\n",
    "                        inp = inp.to(device)\n",
    "                        lab = lab.to(device)\n",
    "                        encoder_inp = inp\n",
    "                        decoder_inp = torch.cat((inp[:, -1:, :], lab[:, :-1, :]), dim=1)\n",
    "                        out = model(encoder_inp, decoder_inp)\n",
    "                        valid_loss = criterion(out, lab[:, :, -1])\n",
    "                        valid_losses.append(valid_loss.item())\n",
    "                    model.train()\n",
    "                    loop.set_description(\"Epoch: {}/{}...\".format(\n",
    "                        epoch, number_epoch))\n",
    "                    loop.set_postfix(train_loss=loss.item(),\n",
    "                                     valid_loss=np.mean(valid_losses))\n",
    "                    train_loss_list.append(loss.item())\n",
    "                    valid_loss_list.append(np.mean(valid_losses))\n",
    "                    if np.mean(valid_losses) < valid_loss_min:\n",
    "                        num_without_imp = 0\n",
    "                        torch.save(model.state_dict(),\n",
    "                                   \"./model/seq2seq_bahdanau_birnn_state_dict.pt\")\n",
    "                        valid_loss_min = np.mean(valid_losses)\n",
    "            scheduler.step()\n",
    "        if valid_loss_min < mse_thresh:\n",
    "            break\n",
    "    return model, train_loss_list, valid_loss_list"
   ]
  },
  {
   "cell_type": "markdown",
   "id": "7220c9fe",
   "metadata": {},
   "source": [
    "## test results"
   ]
  },
  {
   "cell_type": "code",
   "execution_count": 76,
   "id": "a99ccf98",
   "metadata": {
    "ExecuteTime": {
     "end_time": "2022-01-01T06:58:40.741159Z",
     "start_time": "2022-01-01T06:58:40.724736Z"
    },
    "code_folding": []
   },
   "outputs": [],
   "source": [
    "def test_model(model, test_x, test_y, scaler_y, seq_len, target_len,\n",
    "               batch_size):\n",
    "    test_dataset = TensorDataset(torch.FloatTensor(test_x),\n",
    "                                 torch.FloatTensor(test_y))\n",
    "    test_loader = DataLoader(dataset=test_dataset,\n",
    "                             batch_size=batch_size,\n",
    "                             shuffle=False,\n",
    "                             drop_last=True)\n",
    "    model.load_state_dict(torch.load('./model/seq2seq_bahdanau_birnn_state_dict.pt'))\n",
    "    y_pred = []\n",
    "    y_true = []\n",
    "    with torch.no_grad():\n",
    "        model.eval()\n",
    "        for inputs, labels in test_loader:\n",
    "            inputs = inputs.to(device)\n",
    "            labels = labels.to(device)\n",
    "            encoder_inputs = inputs\n",
    "            decoder_inputs = torch.cat((inputs[:, -1:, :], labels[:, :-1, :]),\n",
    "                                       dim=1)\n",
    "            outputs = model(encoder_inputs, decoder_inputs)\n",
    "            y_pred += outputs.cpu().numpy().flatten().tolist()\n",
    "            y_true += labels[:, :, -1].cpu().numpy().flatten().tolist()\n",
    "    y_pred = np.array(y_pred).reshape(-1, 1)\n",
    "    y_true = np.array(y_true).reshape(-1, 1)\n",
    "    #     pdb.set_trace()\n",
    "    load_pred = scaler_y.inverse_transform(y_pred)\n",
    "    load_true = scaler_y.inverse_transform(y_true)\n",
    "    MAPE = np.mean(np.abs(load_true - load_pred) / load_true)\n",
    "    MAE = np.mean(np.abs(load_true - load_pred))\n",
    "    RMSE = np.sqrt(np.mean(np.square(load_true - load_pred)))\n",
    "    return MAPE, MAE, RMSE, load_pred, load_true"
   ]
  },
  {
   "cell_type": "markdown",
   "id": "eaed527d",
   "metadata": {},
   "source": [
    "## run model retraining"
   ]
  },
  {
   "cell_type": "code",
   "execution_count": 107,
   "id": "09b9b1b9",
   "metadata": {
    "ExecuteTime": {
     "end_time": "2022-01-02T07:47:28.033379Z",
     "start_time": "2022-01-02T07:47:28.016245Z"
    }
   },
   "outputs": [],
   "source": [
    "def run_model_retraining(seq_len=seq_len,\n",
    "                         target_len=target_len,\n",
    "                         mse_thresh=mse_thresh):\n",
    "    train_data = data[:int(0.8 * len(data))]\n",
    "    train_data, scaler, scaler_y = normalization(train_data)\n",
    "    train_x, train_y = series_to_supervise(train_data, seq_len, target_len)\n",
    "\n",
    "    valid_x = train_x[int(0.8 * len(train_x)):]\n",
    "    valid_y = train_y[int(0.8 * len(train_y)):]\n",
    "    train_x = train_x[:int(0.8 * len(train_x))]\n",
    "    train_y = train_y[:int(0.8 * len(train_y))]\n",
    "    input_size = train_x.shape[2]\n",
    "\n",
    "    #     hyper-parameters define\n",
    "    batch_size = 256\n",
    "    lr = 0.01\n",
    "    number_epoch = 80\n",
    "    hidden_dim = 32\n",
    "    n_layers = 3\n",
    "    drop_prob = 0\n",
    "    weight_decay = 0\n",
    "    mse_thresh = 0.01\n",
    "\n",
    "    model, train_loss_list, valid_loss_list = train_model(\n",
    "        train_x, train_y, valid_x, valid_y, input_size, seq_len, target_len,\n",
    "        mse_thresh, hidden_dim, n_layers, number_epoch, batch_size, lr,\n",
    "        drop_prob, weight_decay)\n",
    "\n",
    "    # plot training process\n",
    "    plt.plot(train_loss_list[10:], 'm', label='train_loss')\n",
    "    plt.plot(valid_loss_list[10:], 'g', label='valid_loss')\n",
    "    plt.grid('both')\n",
    "    plt.legend()\n",
    "    # test\n",
    "\n",
    "    test_data = data[int(0.8 * len(data)):]\n",
    "    test_data = scaler.transform(test_data)\n",
    "    test_x, test_y = series_to_supervise(test_data, seq_len, target_len)\n",
    "    MAPE, MAE, RMSE, load_pred, load_true = test_model(model, test_x, test_y,\n",
    "                                                       scaler_y, seq_len,\n",
    "                                                       target_len, batch_size)\n",
    "    return MAPE, MAE, RMSE, load_pred, load_true"
   ]
  },
  {
   "cell_type": "code",
   "execution_count": 105,
   "id": "e939b4c9",
   "metadata": {
    "ExecuteTime": {
     "end_time": "2022-01-01T11:44:39.074136Z",
     "start_time": "2022-01-01T11:30:52.110221Z"
    }
   },
   "outputs": [
    {
     "name": "stdout",
     "output_type": "stream",
     "text": [
      "supervised data: shape of x: (25232, 72, 16), shape of y: (25232, 24, 16)\n"
     ]
    },
    {
     "name": "stderr",
     "output_type": "stream",
     "text": [
      "Epoch: 1/80...: 100%|█████████| 78/78 [00:10<00:00,  7.38it/s, train_loss=0.0149, valid_loss=0.0252]\n",
      "Epoch: 2/80...: 100%|████████| 78/78 [00:10<00:00,  7.60it/s, train_loss=0.00996, valid_loss=0.0176]\n",
      "Epoch: 3/80...: 100%|███████| 78/78 [00:10<00:00,  7.57it/s, train_loss=0.00405, valid_loss=0.00654]\n",
      "Epoch: 4/80...: 100%|███████| 78/78 [00:10<00:00,  7.58it/s, train_loss=0.00265, valid_loss=0.00333]\n",
      "Epoch: 5/80...: 100%|███████| 78/78 [00:10<00:00,  7.48it/s, train_loss=0.00268, valid_loss=0.00311]\n",
      "Epoch: 6/80...: 100%|███████| 78/78 [00:10<00:00,  7.58it/s, train_loss=0.00215, valid_loss=0.00233]\n",
      "Epoch: 7/80...: 100%|███████| 78/78 [00:10<00:00,  7.49it/s, train_loss=0.00175, valid_loss=0.00237]\n",
      "Epoch: 8/80...: 100%|████████| 78/78 [00:10<00:00,  7.48it/s, train_loss=0.0019, valid_loss=0.00217]\n",
      "Epoch: 9/80...: 100%|███████| 78/78 [00:10<00:00,  7.43it/s, train_loss=0.00186, valid_loss=0.00209]\n",
      "Epoch: 10/80...: 100%|██████| 78/78 [00:10<00:00,  7.49it/s, train_loss=0.00133, valid_loss=0.00219]\n",
      "Epoch: 11/80...: 100%|███████| 78/78 [00:10<00:00,  7.51it/s, train_loss=0.00128, valid_loss=0.0022]\n",
      "Epoch: 12/80...: 100%|██████| 78/78 [00:10<00:00,  7.53it/s, train_loss=0.00144, valid_loss=0.00219]\n",
      "Epoch: 13/80...: 100%|██████| 78/78 [00:10<00:00,  7.43it/s, train_loss=0.00111, valid_loss=0.00224]\n",
      "Epoch: 14/80...: 100%|██████| 78/78 [00:10<00:00,  7.47it/s, train_loss=0.00115, valid_loss=0.00225]\n",
      "Epoch: 15/80...: 100%|█████| 78/78 [00:10<00:00,  7.47it/s, train_loss=0.000929, valid_loss=0.00214]\n",
      "Epoch: 16/80...: 100%|██████| 78/78 [00:10<00:00,  7.42it/s, train_loss=0.000833, valid_loss=0.0019]\n",
      "Epoch: 17/80...: 100%|█████| 78/78 [00:10<00:00,  7.49it/s, train_loss=0.000782, valid_loss=0.00208]\n",
      "Epoch: 18/80...: 100%|█████| 78/78 [00:10<00:00,  7.44it/s, train_loss=0.000846, valid_loss=0.00262]\n",
      "Epoch: 19/80...: 100%|█████| 78/78 [00:10<00:00,  7.40it/s, train_loss=0.000965, valid_loss=0.00194]\n",
      "Epoch: 20/80...: 100%|█████| 78/78 [00:10<00:00,  7.41it/s, train_loss=0.000738, valid_loss=0.00237]\n",
      "Epoch: 21/80...: 100%|█████| 78/78 [00:10<00:00,  7.51it/s, train_loss=0.000689, valid_loss=0.00373]\n",
      "Epoch: 22/80...: 100%|█████| 78/78 [00:10<00:00,  7.56it/s, train_loss=0.000872, valid_loss=0.00249]\n",
      "Epoch: 23/80...: 100%|█████| 78/78 [00:10<00:00,  7.50it/s, train_loss=0.000595, valid_loss=0.00283]\n",
      "Epoch: 24/80...: 100%|█████| 78/78 [00:10<00:00,  7.55it/s, train_loss=0.000556, valid_loss=0.00258]\n",
      "Epoch: 25/80...: 100%|█████| 78/78 [00:10<00:00,  7.63it/s, train_loss=0.000466, valid_loss=0.00251]\n",
      "Epoch: 26/80...: 100%|█████| 78/78 [00:10<00:00,  7.60it/s, train_loss=0.000572, valid_loss=0.00298]\n",
      "Epoch: 27/80...: 100%|█████| 78/78 [00:10<00:00,  7.63it/s, train_loss=0.000657, valid_loss=0.00221]\n",
      "Epoch: 28/80...: 100%|█████| 78/78 [00:10<00:00,  7.57it/s, train_loss=0.000478, valid_loss=0.00293]\n",
      "Epoch: 29/80...: 100%|██████| 78/78 [00:10<00:00,  7.62it/s, train_loss=0.00049, valid_loss=0.00255]\n",
      "Epoch: 30/80...: 100%|█████| 78/78 [00:10<00:00,  7.64it/s, train_loss=0.000652, valid_loss=0.00221]\n",
      "Epoch: 31/80...: 100%|█████| 78/78 [00:10<00:00,  7.69it/s, train_loss=0.000469, valid_loss=0.00234]\n",
      "Epoch: 32/80...: 100%|█████| 78/78 [00:10<00:00,  7.51it/s, train_loss=0.000418, valid_loss=0.00201]\n",
      "Epoch: 33/80...: 100%|█████| 78/78 [00:10<00:00,  7.66it/s, train_loss=0.000415, valid_loss=0.00252]\n",
      "Epoch: 34/80...: 100%|██████| 78/78 [00:10<00:00,  7.72it/s, train_loss=0.000455, valid_loss=0.0027]\n",
      "Epoch: 35/80...: 100%|██████| 78/78 [00:10<00:00,  7.63it/s, train_loss=0.00041, valid_loss=0.00229]\n",
      "Epoch: 36/80...: 100%|██████| 78/78 [00:10<00:00,  7.59it/s, train_loss=0.000429, valid_loss=0.0026]\n",
      "Epoch: 37/80...: 100%|█████| 78/78 [00:10<00:00,  7.61it/s, train_loss=0.000391, valid_loss=0.00278]\n",
      "Epoch: 38/80...: 100%|█████| 78/78 [00:10<00:00,  7.67it/s, train_loss=0.000424, valid_loss=0.00228]\n",
      "Epoch: 39/80...: 100%|███████| 78/78 [00:10<00:00,  7.69it/s, train_loss=0.0004, valid_loss=0.00312]\n",
      "Epoch: 40/80...: 100%|█████| 78/78 [00:10<00:00,  7.55it/s, train_loss=0.000388, valid_loss=0.00218]\n",
      "Epoch: 41/80...: 100%|█████| 78/78 [00:10<00:00,  7.66it/s, train_loss=0.000375, valid_loss=0.00221]\n",
      "Epoch: 42/80...: 100%|█████| 78/78 [00:10<00:00,  7.69it/s, train_loss=0.000373, valid_loss=0.00217]\n",
      "Epoch: 43/80...: 100%|█████| 78/78 [00:10<00:00,  7.57it/s, train_loss=0.000318, valid_loss=0.00263]\n",
      "Epoch: 44/80...: 100%|█████| 78/78 [00:10<00:00,  7.64it/s, train_loss=0.000351, valid_loss=0.00236]\n",
      "Epoch: 45/80...: 100%|█████| 78/78 [00:10<00:00,  7.64it/s, train_loss=0.000343, valid_loss=0.00243]\n",
      "Epoch: 46/80...: 100%|█████| 78/78 [00:10<00:00,  7.66it/s, train_loss=0.000336, valid_loss=0.00201]\n",
      "Epoch: 47/80...: 100%|█████| 78/78 [00:10<00:00,  7.53it/s, train_loss=0.000317, valid_loss=0.00236]\n",
      "Epoch: 48/80...: 100%|██████| 78/78 [00:10<00:00,  7.62it/s, train_loss=0.00028, valid_loss=0.00255]\n",
      "Epoch: 49/80...: 100%|█████| 78/78 [00:10<00:00,  7.55it/s, train_loss=0.000292, valid_loss=0.00284]\n",
      "Epoch: 50/80...: 100%|█████| 78/78 [00:10<00:00,  7.57it/s, train_loss=0.000323, valid_loss=0.00234]\n",
      "Epoch: 51/80...: 100%|█████| 78/78 [00:10<00:00,  7.52it/s, train_loss=0.000289, valid_loss=0.00231]\n",
      "Epoch: 52/80...: 100%|█████| 78/78 [00:10<00:00,  7.65it/s, train_loss=0.000308, valid_loss=0.00217]\n",
      "Epoch: 53/80...: 100%|█████| 78/78 [00:10<00:00,  7.65it/s, train_loss=0.000334, valid_loss=0.00237]\n",
      "Epoch: 54/80...: 100%|█████| 78/78 [00:10<00:00,  7.70it/s, train_loss=0.000275, valid_loss=0.00231]\n",
      "Epoch: 55/80...: 100%|███████| 78/78 [00:10<00:00,  7.58it/s, train_loss=0.0003, valid_loss=0.00264]\n",
      "Epoch: 56/80...: 100%|██████| 78/78 [00:10<00:00,  7.60it/s, train_loss=0.00031, valid_loss=0.00225]\n",
      "Epoch: 57/80...: 100%|█████| 78/78 [00:10<00:00,  7.60it/s, train_loss=0.000264, valid_loss=0.00206]\n",
      "Epoch: 58/80...: 100%|█████| 78/78 [00:10<00:00,  7.62it/s, train_loss=0.000251, valid_loss=0.00227]\n",
      "Epoch: 59/80...: 100%|█████| 78/78 [00:10<00:00,  7.53it/s, train_loss=0.000311, valid_loss=0.00211]\n",
      "Epoch: 60/80...: 100%|█████| 78/78 [00:10<00:00,  7.71it/s, train_loss=0.000255, valid_loss=0.00221]\n",
      "Epoch: 61/80...: 100%|█████| 78/78 [00:10<00:00,  7.69it/s, train_loss=0.000256, valid_loss=0.00221]\n",
      "Epoch: 62/80...: 100%|██████| 78/78 [00:10<00:00,  7.60it/s, train_loss=0.00025, valid_loss=0.00221]\n",
      "Epoch: 63/80...: 100%|██████| 78/78 [00:10<00:00,  7.59it/s, train_loss=0.00024, valid_loss=0.00199]\n",
      "Epoch: 64/80...: 100%|█████| 78/78 [00:10<00:00,  7.71it/s, train_loss=0.000252, valid_loss=0.00229]\n",
      "Epoch: 65/80...: 100%|█████| 78/78 [00:10<00:00,  7.72it/s, train_loss=0.000252, valid_loss=0.00224]\n",
      "Epoch: 66/80...: 100%|█████| 78/78 [00:10<00:00,  7.64it/s, train_loss=0.000301, valid_loss=0.00236]\n",
      "Epoch: 67/80...: 100%|█████| 78/78 [00:10<00:00,  7.50it/s, train_loss=0.000273, valid_loss=0.00207]\n",
      "Epoch: 68/80...: 100%|██████| 78/78 [00:10<00:00,  7.63it/s, train_loss=0.00025, valid_loss=0.00242]\n",
      "Epoch: 69/80...: 100%|█████| 78/78 [00:10<00:00,  7.69it/s, train_loss=0.000247, valid_loss=0.00207]\n",
      "Epoch: 70/80...: 100%|█████| 78/78 [00:10<00:00,  7.68it/s, train_loss=0.000234, valid_loss=0.00233]\n",
      "Epoch: 71/80...: 100%|█████| 78/78 [00:10<00:00,  7.59it/s, train_loss=0.000226, valid_loss=0.00222]\n",
      "Epoch: 72/80...: 100%|█████| 78/78 [00:10<00:00,  7.65it/s, train_loss=0.000224, valid_loss=0.00234]\n",
      "Epoch: 73/80...: 100%|█████| 78/78 [00:10<00:00,  7.72it/s, train_loss=0.000232, valid_loss=0.00206]\n",
      "Epoch: 74/80...: 100%|█████| 78/78 [00:10<00:00,  7.65it/s, train_loss=0.000212, valid_loss=0.00232]\n",
      "Epoch: 75/80...: 100%|█████| 78/78 [00:10<00:00,  7.66it/s, train_loss=0.000225, valid_loss=0.00228]\n",
      "Epoch: 76/80...: 100%|██████| 78/78 [00:10<00:00,  7.71it/s, train_loss=0.00023, valid_loss=0.00208]\n",
      "Epoch: 77/80...: 100%|█████| 78/78 [00:10<00:00,  7.80it/s, train_loss=0.000235, valid_loss=0.00221]\n",
      "Epoch: 78/80...: 100%|█████| 78/78 [00:10<00:00,  7.70it/s, train_loss=0.000216, valid_loss=0.00204]\n",
      "Epoch: 79/80...: 100%|█████| 78/78 [00:10<00:00,  7.63it/s, train_loss=0.000212, valid_loss=0.00218]\n",
      "Epoch: 80/80...: 100%|██████| 78/78 [00:10<00:00,  7.72it/s, train_loss=0.00022, valid_loss=0.00213]\n"
     ]
    },
    {
     "name": "stdout",
     "output_type": "stream",
     "text": [
      "supervised data: shape of x: (6237, 72, 16), shape of y: (6237, 24, 16)\n",
      "MAPE:0.04163963423306335, MAE:529.7476608235945, RMSE:749.5551398122467\n"
     ]
    },
    {
     "data": {
      "image/png": "[encoded data removed]",
      "text/plain": [
       "<Figure size 432x288 with 1 Axes>"
      ]
     },
     "metadata": {
      "needs_background": "light"
     },
     "output_type": "display_data"
    }
   ],
   "source": [
    "random_seed_set(42)\n",
    "MAPE, MAE, RMSE, load_pred, load_true = run_model_retraining()\n",
    "print('MAPE:{}, MAE:{}, RMSE:{}'.format(MAPE, MAE, RMSE))"
   ]
  },
  {
   "cell_type": "code",
   "execution_count": 103,
   "id": "8febbcad",
   "metadata": {
    "ExecuteTime": {
     "end_time": "2022-01-01T08:57:07.702418Z",
     "start_time": "2022-01-01T08:57:07.696122Z"
    }
   },
   "outputs": [
    {
     "name": "stdout",
     "output_type": "stream",
     "text": [
      "MAPE:0.036775157718295565, MAE:463.7839873814547, RMSE:634.6422835738961\n"
     ]
    }
   ],
   "source": [
    "print('MAPE:{}, MAE:{}, RMSE:{}'.format(MAPE, MAE, RMSE))"
   ]
  },
  {
   "cell_type": "markdown",
   "id": "72280b25",
   "metadata": {},
   "source": [
    "## figure plot"
   ]
  },
  {
   "cell_type": "code",
   "execution_count": 99,
   "id": "3d0c94fc",
   "metadata": {
    "ExecuteTime": {
     "end_time": "2022-01-01T08:39:48.156300Z",
     "start_time": "2022-01-01T08:39:47.995118Z"
    }
   },
   "outputs": [
    {
     "data": {
      "text/plain": [
       "(0.0, 19456.098248640985)"
      ]
     },
     "execution_count": 99,
     "metadata": {},
     "output_type": "execute_result"
    },
    {
     "data": {
      "image/png": "[encoded data removed]",
      "text/plain": [
       "<Figure size 1440x720 with 1 Axes>"
      ]
     },
     "metadata": {
      "needs_background": "light"
     },
     "output_type": "display_data"
    }
   ],
   "source": [
    "plt.figure(figsize=(20, 10))\n",
    "load_pred = load_pred.reshape(-1, 24)\n",
    "load_true = load_true.reshape(-1, 24)\n",
    "plt.plot(load_pred[:240, 0], 'm')\n",
    "plt.plot(load_true[:240, 0], 'g')\n",
    "plt.ylim(ymin=0)"
   ]
  }
 ],
 "metadata": {
  "kernelspec": {
   "display_name": "Python 3 (ipykernel)",
   "language": "python",
   "name": "python3"
  },
  "language_info": {
   "codemirror_mode": {
    "name": "ipython",
    "version": 3
   },
   "file_extension": ".py",
   "mimetype": "text/x-python",
   "name": "python",
   "nbconvert_exporter": "python",
   "pygments_lexer": "ipython3",
   "version": "3.8.12"
  },
  "toc": {
   "base_numbering": 1,
   "nav_menu": {},
   "number_sections": true,
   "sideBar": true,
   "skip_h1_title": false,
   "title_cell": "Table of Contents",
   "title_sidebar": "Contents",
   "toc_cell": false,
   "toc_position": {
    "height": "calc(100% - 180px)",
    "left": "10px",
    "top": "150px",
    "width": "374.344px"
   },
   "toc_section_display": true,
   "toc_window_display": true
  },
  "varInspector": {
   "cols": {
    "lenName": 16,
    "lenType": 16,
    "lenVar": 40
   },
   "kernels_config": {
    "python": {
     "delete_cmd_postfix": "",
     "delete_cmd_prefix": "del ",
     "library": "var_list.py",
     "varRefreshCmd": "print(var_dic_list())"
    },
    "r": {
     "delete_cmd_postfix": ") ",
     "delete_cmd_prefix": "rm(",
     "library": "var_list.r",
     "varRefreshCmd": "cat(var_dic_list()) "
    }
   },
   "types_to_exclude": [
    "module",
    "function",
    "builtin_function_or_method",
    "instance",
    "_Feature"
   ],
   "window_display": false
  }
 },
 "nbformat": 4,
 "nbformat_minor": 5
}
