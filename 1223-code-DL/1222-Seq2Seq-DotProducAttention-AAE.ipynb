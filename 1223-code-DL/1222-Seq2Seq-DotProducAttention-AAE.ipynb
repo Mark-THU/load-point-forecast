{
 "cells": [
  {
   "cell_type": "markdown",
   "id": "6210c310",
   "metadata": {},
   "source": [
    "# Seq2Seq-DotProductAttention-AAE for forecast"
   ]
  },
  {
   "cell_type": "markdown",
   "id": "c23e8376",
   "metadata": {},
   "source": [
    "**modified versions**\n",
    "1. Adjusting for autocorrelated errors"
   ]
  },
  {
   "cell_type": "code",
   "execution_count": 1,
   "id": "dbaaa556",
   "metadata": {
    "ExecuteTime": {
     "end_time": "2022-01-09T07:42:19.841382Z",
     "start_time": "2022-01-09T07:42:18.773790Z"
    }
   },
   "outputs": [],
   "source": [
    "import pandas as pd\n",
    "import numpy as np\n",
    "import matplotlib.pyplot as plt\n",
    "import pdb\n",
    "import torch\n",
    "import torch.nn as nn\n",
    "import torch.nn.functional as F\n",
    "import random\n",
    "import math\n",
    "\n",
    "from sklearn.preprocessing import MinMaxScaler\n",
    "from sklearn.model_selection import train_test_split, TimeSeriesSplit\n",
    "from torch.autograd import Variable\n",
    "from torch.utils.data import TensorDataset, DataLoader\n",
    "from tqdm import tqdm\n",
    "from xgboost import XGBRegressor\n",
    "if torch.cuda.is_available():  \n",
    "    dev = \"cuda:0\" \n",
    "else:  \n",
    "    dev = \"cpu\"\n",
    "device = torch.device(dev)"
   ]
  },
  {
   "cell_type": "code",
   "execution_count": 2,
   "id": "6a48fb06",
   "metadata": {
    "ExecuteTime": {
     "end_time": "2022-01-09T07:42:19.846546Z",
     "start_time": "2022-01-09T07:42:19.843248Z"
    }
   },
   "outputs": [],
   "source": [
    "def random_seed_set(seed):\n",
    "    np.random.seed(seed)\n",
    "    torch.random.manual_seed(seed)\n",
    "    torch.cuda.random.manual_seed(seed)\n",
    "    torch.backends.cudnn.benchmark = False\n",
    "    torch.backends.cudnn.deterministic = True"
   ]
  },
  {
   "cell_type": "markdown",
   "id": "b6d6cb62",
   "metadata": {},
   "source": [
    "## load data"
   ]
  },
  {
   "cell_type": "code",
   "execution_count": 3,
   "id": "ba489706",
   "metadata": {
    "ExecuteTime": {
     "end_time": "2022-01-09T07:42:19.894916Z",
     "start_time": "2022-01-09T07:42:19.847911Z"
    }
   },
   "outputs": [],
   "source": [
    "url = '../data/beijing.csv'\n",
    "data = pd.read_csv(url, sep=',', index_col='time')"
   ]
  },
  {
   "cell_type": "markdown",
   "id": "c99431b5",
   "metadata": {},
   "source": [
    "## normalization"
   ]
  },
  {
   "cell_type": "code",
   "execution_count": 4,
   "id": "a3081c8f",
   "metadata": {
    "ExecuteTime": {
     "end_time": "2022-01-09T07:42:19.900420Z",
     "start_time": "2022-01-09T07:42:19.896854Z"
    }
   },
   "outputs": [],
   "source": [
    "def normalization(data):\n",
    "    \"\"\"\n",
    "    data: original data with load\n",
    "    return: normalized data, scaler of load\n",
    "    \"\"\"\n",
    "    scaler = MinMaxScaler()\n",
    "    normalized_data = scaler.fit_transform(data)\n",
    "    scaler_y = MinMaxScaler()\n",
    "    scaler_y.fit_transform(data[[data.columns[-1]]])\n",
    "    return normalized_data, scaler, scaler_y"
   ]
  },
  {
   "cell_type": "markdown",
   "id": "15650a81",
   "metadata": {
    "ExecuteTime": {
     "end_time": "2021-12-22T07:45:44.192666Z",
     "start_time": "2021-12-22T07:45:44.188985Z"
    }
   },
   "source": [
    "## build supervised dataset"
   ]
  },
  {
   "cell_type": "code",
   "execution_count": 5,
   "id": "4eff9fe7",
   "metadata": {
    "ExecuteTime": {
     "end_time": "2022-01-09T07:42:19.905824Z",
     "start_time": "2022-01-09T07:42:19.901539Z"
    }
   },
   "outputs": [],
   "source": [
    "def series_to_supervise(data, seq_len, target_len):\n",
    "    \"\"\"\n",
    "    convert series data to supervised data\n",
    "    :param data: original data\n",
    "    :param seq_len: length of input sequence\n",
    "    :param target_len: length of ouput sequence\n",
    "    :return: return two ndarrays-- input and output in format suitable to feed to RNN\n",
    "    \"\"\"\n",
    "    dim_0 = data.shape[0] - seq_len - target_len + 1\n",
    "    dim_1 = data.shape[1]\n",
    "    x = np.zeros((dim_0, seq_len, dim_1))\n",
    "    y = np.zeros((dim_0, target_len, dim_1))\n",
    "    for i in range(dim_0):\n",
    "        x[i] = data[i:i + seq_len]\n",
    "        y[i] = data[i + seq_len:i + seq_len + target_len]\n",
    "    print(\"supervised data: shape of x: {}, shape of y: {}\".format(\n",
    "        x.shape, y.shape))\n",
    "    return x, y"
   ]
  },
  {
   "cell_type": "markdown",
   "id": "03794ff6",
   "metadata": {},
   "source": [
    "## 5-folds TimeSeriesSplit"
   ]
  },
  {
   "cell_type": "code",
   "execution_count": 6,
   "id": "0df9a8b6",
   "metadata": {
    "ExecuteTime": {
     "end_time": "2022-01-09T07:42:19.910873Z",
     "start_time": "2022-01-09T07:42:19.906884Z"
    }
   },
   "outputs": [],
   "source": [
    "def time_series_split(X, Y, n_split=5):\n",
    "    \"\"\"\n",
    "    X: features, size * seq_len * feature_num\n",
    "    Y: labels, size * target_len\n",
    "    return: list of train_x, test_x, train_y, test_y\n",
    "    \"\"\"\n",
    "    tscv = TimeSeriesSplit(n_splits=n_split)\n",
    "    train_x_list = list()\n",
    "    valid_x_list = list()\n",
    "    train_y_list = list()\n",
    "    valid_y_list = list()\n",
    "    for train_index, valid_index in tscv.split(X):\n",
    "        train_x_list.append(X[train_index])\n",
    "        train_y_list.append(Y[train_index])\n",
    "        valid_x_list.append(X[valid_index])\n",
    "        valid_y_list.append(Y[valid_index])\n",
    "    return train_x_list, train_y_list, valid_x_list, valid_y_list"
   ]
  },
  {
   "cell_type": "markdown",
   "id": "f7a3f74a",
   "metadata": {},
   "source": [
    "## Seq2Seq model"
   ]
  },
  {
   "cell_type": "markdown",
   "id": "b45dd894",
   "metadata": {},
   "source": [
    "### Encoder"
   ]
  },
  {
   "cell_type": "code",
   "execution_count": 7,
   "id": "a804b52e",
   "metadata": {
    "ExecuteTime": {
     "end_time": "2022-01-09T07:42:19.917952Z",
     "start_time": "2022-01-09T07:42:19.911956Z"
    }
   },
   "outputs": [],
   "source": [
    "class Encoder(nn.Module):\n",
    "    def __init__(self, input_size, hidden_dim, n_layers, drop_prob):\n",
    "        super(Encoder, self).__init__()\n",
    "        # 初始化hidden_state参数\n",
    "        self.hidden_dim = hidden_dim\n",
    "        self.n_layers = n_layers\n",
    "        # 定义层\n",
    "        self.rnn = nn.GRU(input_size,\n",
    "                           hidden_dim,\n",
    "                           n_layers,\n",
    "                           bidirectional=False,\n",
    "                           dropout=drop_prob)\n",
    "\n",
    "    def forward(self, x, rho):\n",
    "        # 输入'X'的形状：(`batch_size`, `num_steps`, `input_size`)\n",
    "        \n",
    "        features = x[:, :, :-1]\n",
    "        values = x[:, :, -1]\n",
    "        # features shape (batch_size, num_steps, input_size -1)\n",
    "        # values shape (batch_size, num_steps)\n",
    "\n",
    "        values_mean = torch.mean(values, dim=1)\n",
    "        # values_mean shape (batch_size)\n",
    "\n",
    "        values = torch.cat((values_mean.unsqueeze(1), values), dim=1)\n",
    "        # values shape (batch_size, num_steps + 1)\n",
    "\n",
    "        values = values[:, 1:] - rho * values[:, :-1]\n",
    "        # values shape (batch_size, num_steps)\n",
    "\n",
    "        inp = torch.cat((features, values.unsqueeze(2)), dim=2)\n",
    "        # inp shape (batch_size, num_steps, input_size)\n",
    "        # RNN中，第一个维度对应时间步\n",
    "        inp = torch.transpose(inp, 0, 1)\n",
    "        rnn_out, state = self.rnn(inp)\n",
    "        # rnn_out shape (num_steps, batch_size, hidden_dim)\n",
    "        # state shape (n_layers, batch_size, hidden_dim)\n",
    "        return rnn_out, state"
   ]
  },
  {
   "cell_type": "code",
   "execution_count": 8,
   "id": "6e68af3f",
   "metadata": {
    "ExecuteTime": {
     "end_time": "2022-01-09T07:42:19.959450Z",
     "start_time": "2022-01-09T07:42:19.919098Z"
    }
   },
   "outputs": [
    {
     "name": "stdout",
     "output_type": "stream",
     "text": [
      "torch.Size([72, 10, 32]) torch.Size([2, 10, 32])\n"
     ]
    }
   ],
   "source": [
    "encoder = Encoder(16, 32, 2, 0.1)\n",
    "X = torch.randn(10, 72, 16)\n",
    "output, state = encoder(X, 1)\n",
    "print(output.shape, state.shape)"
   ]
  },
  {
   "cell_type": "markdown",
   "id": "4b39cfb4",
   "metadata": {
    "ExecuteTime": {
     "end_time": "2021-12-31T13:15:30.991666Z",
     "start_time": "2021-12-31T13:15:30.987285Z"
    }
   },
   "source": [
    "### Additive Attention"
   ]
  },
  {
   "cell_type": "code",
   "execution_count": 9,
   "id": "561a01f9",
   "metadata": {
    "ExecuteTime": {
     "end_time": "2022-01-09T07:42:19.966677Z",
     "start_time": "2022-01-09T07:42:19.960822Z"
    }
   },
   "outputs": [],
   "source": [
    "class AdditiveAttention(nn.Module):\n",
    "    \"\"\"加性注意力\"\"\"\n",
    "    def __init__(self, key_size, query_size, num_hiddens, dropout, **kwargs):\n",
    "        super(AdditiveAttention, self).__init__(**kwargs)\n",
    "        self.W_k = nn.Linear(key_size, num_hiddens, bias=False)\n",
    "        self.W_q = nn.Linear(query_size, num_hiddens, bias=False)\n",
    "        self.w_v = nn.Linear(num_hiddens, 1, bias=False)\n",
    "        self.dropout = nn.Dropout(dropout)\n",
    "\n",
    "    def forward(self, queries, keys, values):\n",
    "        queries, keys = self.W_q(queries), self.W_k(keys)\n",
    "        # 在维度扩展后，\n",
    "        # `queries` 的形状：(`batch_size`，查询的个数，1，`num_hidden`)\n",
    "        # `key` 的形状：(`batch_size`，1，“键－值”对的个数，`num_hiddens`)\n",
    "        # 使用广播方式进行求和\n",
    "        features = queries.unsqueeze(2) + keys.unsqueeze(1)\n",
    "        features = torch.tanh(features)\n",
    "        # `self.w_v` 仅有一个输出，因此从形状中移除最后那个维度。\n",
    "        # `scores` 的形状：(`batch_size`，查询的个数，“键-值”对的个数)\n",
    "        scores = self.w_v(features).squeeze(-1)\n",
    "        self.attention_weights = nn.functional.softmax(scores, dim=-1)\n",
    "        # `values` 的形状：(`batch_size`，“键－值”对的个数，值的维度)\n",
    "        return torch.bmm(self.dropout(self.attention_weights), values)"
   ]
  },
  {
   "cell_type": "markdown",
   "id": "750adfde",
   "metadata": {},
   "source": [
    "### DotProductAttentioin"
   ]
  },
  {
   "cell_type": "code",
   "execution_count": 10,
   "id": "fc70506c",
   "metadata": {
    "ExecuteTime": {
     "end_time": "2022-01-09T07:42:19.973210Z",
     "start_time": "2022-01-09T07:42:19.968991Z"
    }
   },
   "outputs": [],
   "source": [
    "class DotProductAttention(nn.Module):\n",
    "    \"\"\"缩放点积注意力\"\"\"\n",
    "    def __init__(self, dropout, **kwargs):\n",
    "        super(DotProductAttention, self).__init__(**kwargs)\n",
    "        self.dropout = nn.Dropout(dropout)\n",
    "\n",
    "    # `queries` 的形状：(`batch_size`，查询的个数，`d`)\n",
    "    # `keys` 的形状：(`batch_size`，“键－值”对的个数，`d`)\n",
    "    # `values` 的形状：(`batch_size`，“键－值”对的个数，值的维度)\n",
    "    # `valid_lens` 的形状: (`batch_size`，) 或者 (`batch_size`，查询的个数)\n",
    "    def forward(self, queries, keys, values):\n",
    "        d = queries.shape[-1]\n",
    "        # 设置 `transpose_b=True` 为了交换 `keys` 的最后两个维度\n",
    "        scores = torch.bmm(queries, keys.transpose(1,2)) / math.sqrt(d)\n",
    "        self.attention_weights = nn.functional.softmax(scores, dim=-1)\n",
    "        return torch.bmm(self.dropout(self.attention_weights), values)"
   ]
  },
  {
   "cell_type": "markdown",
   "id": "5788a21f",
   "metadata": {},
   "source": [
    "### Decoder"
   ]
  },
  {
   "cell_type": "code",
   "execution_count": 11,
   "id": "dbe44c04",
   "metadata": {
    "ExecuteTime": {
     "end_time": "2022-01-09T07:42:19.983815Z",
     "start_time": "2022-01-09T07:42:19.974427Z"
    }
   },
   "outputs": [],
   "source": [
    "class AttnDecoder(nn.Module):\n",
    "    def __init__(self, input_size, hidden_dim, n_layers, drop_prob):\n",
    "        super(AttnDecoder, self).__init__()\n",
    "\n",
    "        self.attention = DotProductAttention(drop_prob)\n",
    "        self.rnn = nn.GRU(input_size + hidden_dim,\n",
    "                          hidden_dim,\n",
    "                          n_layers,\n",
    "                          dropout=drop_prob)\n",
    "        self.fc = nn.Sequential()\n",
    "\n",
    "        input_size = hidden_dim\n",
    "        i = 0\n",
    "        while (input_size > 8):\n",
    "            self.fc.add_module('linear{}'.format(i),\n",
    "                               nn.Linear(input_size, round(input_size / 2)))\n",
    "            self.fc.add_module('relu{}'.format(i), nn.ReLU())\n",
    "            input_size = round(input_size / 2)\n",
    "            i += 1\n",
    "        self.fc.add_module('linear{}'.format(i), nn.Linear(input_size, 1))\n",
    "\n",
    "    def forward(self, inputs, encoder_outputs, encoder_state, rho):\n",
    "        \"\"\"\n",
    "        :inputs shape (batch_size, target_len, input_size)\n",
    "        :encoder_outputs shape (seq_len, batch_size, hidden_dim)\n",
    "        :encoder_state shape (n_layers, batch_size, hidden_dim)\n",
    "        \"\"\"\n",
    "        y_ = inputs[:, :1, -1].clone()\n",
    "        # y_ shape (batch_size, 1)\n",
    "        inputs[:, :1, -1] = inputs[:, :1, -1] - rho.detach() * torch.mean(\n",
    "            inputs[:, :, -1], dim=-1, keepdim=True)\n",
    "\n",
    "        # inputs 变形为（target_len, batch_size, input_size）\n",
    "        inputs = torch.transpose(inputs, 0, 1)\n",
    "\n",
    "        # encoder_outputs 变形为 (batch_size, seq_len, hidden_dim)\n",
    "        encoder_outputs = torch.transpose(encoder_outputs, 0, 1)\n",
    "\n",
    "        # decoder_state 需要用encoder_state初始化\n",
    "        decoder_state = encoder_state\n",
    "\n",
    "        outputs = []\n",
    "\n",
    "        for i, x in enumerate(inputs):\n",
    "            # query shape is (batch_size, 1, hidden_dim)\n",
    "            query = torch.unsqueeze(decoder_state[-1], dim=1)\n",
    "            context = self.attention(query, encoder_outputs, encoder_outputs)\n",
    "            # training process is different from eval process\n",
    "            # if i and not self.training:\n",
    "            if i:\n",
    "                x[:, -1] = out.detach().flatten()\n",
    "            # x shape is (batch_size, 1, hidden_dim + input_size)\n",
    "            x = torch.cat((context, torch.unsqueeze(x, dim=1)), dim=-1)\n",
    "            # x reshape to (1, batch_size, hidden_dim + input_size)\n",
    "            x = torch.transpose(x, 0, 1)\n",
    "            # out shape (1, batch_size, hidden_dim)\n",
    "            out, decoder_state = self.rnn(x, decoder_state)\n",
    "            # out shape (batch_size, 1)\n",
    "            out = self.fc(out.squeeze(dim=0))\n",
    "            # out 预测的是与初始y_的残差，这里设计有点不合理\n",
    "            # 如果out是预测与上一步的残差逻辑会合理一些\n",
    "            # 但是这样在计算真实值的时候会误差累积\n",
    "            y = y_ + rho * out\n",
    "            outputs.append(y)\n",
    "        # outputs shape (batch_size, target_len)\n",
    "        outputs = torch.cat(outputs, dim=1)\n",
    "        return outputs"
   ]
  },
  {
   "cell_type": "markdown",
   "id": "dee806dd",
   "metadata": {},
   "source": [
    "### Seq2Seq_Attn"
   ]
  },
  {
   "cell_type": "code",
   "execution_count": 12,
   "id": "6136b350",
   "metadata": {
    "ExecuteTime": {
     "end_time": "2022-01-09T07:42:19.989512Z",
     "start_time": "2022-01-09T07:42:19.985089Z"
    }
   },
   "outputs": [],
   "source": [
    "class Seq2Seq_Attn(nn.Module):\n",
    "    def __init__(self, input_size, hidden_dim, n_layers, drop_prob):\n",
    "        super(Seq2Seq_Attn, self).__init__()\n",
    "        self.encoder = Encoder(input_size, hidden_dim, n_layers, drop_prob)\n",
    "        self.decoder = AttnDecoder(input_size, hidden_dim, n_layers, drop_prob)\n",
    "        # 其实没有对rho进行梯度更新\n",
    "        self.rho = nn.Parameter(torch.ones(1), requires_grad=True)\n",
    "    \n",
    "    def forward(self, encoder_inputs, decoder_inputs):\n",
    "        # encoder_inputs shape (batch_size, seq_len, input_size)\n",
    "        # decoder_inputs shape (batch_size, target_len, input_size)\n",
    "        # rho = torch.tanh(self.rho)\n",
    "        rho = torch.ones(1, device=device)\n",
    "        encoder_outputs, encoder_state = self.encoder(encoder_inputs, rho)\n",
    "        outputs = self.decoder(decoder_inputs, encoder_outputs, encoder_state, rho)\n",
    "        return outputs"
   ]
  },
  {
   "cell_type": "markdown",
   "id": "15c0caec",
   "metadata": {},
   "source": [
    "### test model"
   ]
  },
  {
   "cell_type": "code",
   "execution_count": 13,
   "id": "4bec054b",
   "metadata": {
    "ExecuteTime": {
     "end_time": "2022-01-09T07:42:23.518374Z",
     "start_time": "2022-01-09T07:42:19.990796Z"
    }
   },
   "outputs": [
    {
     "name": "stdout",
     "output_type": "stream",
     "text": [
      "torch.Size([10, 24])\n"
     ]
    }
   ],
   "source": [
    "model = Seq2Seq_Attn(16, 32, 2, 0.1).to(device)\n",
    "enc_inputs = torch.randn(10, 72, 16).to(device)\n",
    "dec_inputs = torch.randn(10, 24, 16).to(device)\n",
    "outputs = model(enc_inputs, dec_inputs)\n",
    "print(outputs.shape)"
   ]
  },
  {
   "cell_type": "markdown",
   "id": "84baa974",
   "metadata": {
    "ExecuteTime": {
     "end_time": "2021-12-22T08:30:19.661769Z",
     "start_time": "2021-12-22T08:30:19.656770Z"
    }
   },
   "source": [
    "## model training for HPO"
   ]
  },
  {
   "cell_type": "code",
   "execution_count": 14,
   "id": "6753056d",
   "metadata": {
    "ExecuteTime": {
     "end_time": "2022-01-09T07:42:23.534581Z",
     "start_time": "2022-01-09T07:42:23.521813Z"
    },
    "code_folding": []
   },
   "outputs": [],
   "source": [
    "def train_model_hpo(train_x_list, train_y_list, valid_x_list, valid_y_list,\n",
    "                    input_size, seq_len, target_len, mse_thresh, hidden_dim,\n",
    "                    n_layers, number_epoch, batch_size, lr, drop_prob,\n",
    "                    weight_decay):\n",
    "    valid_loss_list = []\n",
    "    for num in range(len(train_x_list)):\n",
    "        while (1):\n",
    "            model = Seq2Seq_Attn(input_size, hidden_dim, n_layers, drop_prob)\n",
    "            model = model.to(device)\n",
    "            criterion = nn.MSELoss()\n",
    "            params_base = [\n",
    "                param for name, param in model.named_parameters()\n",
    "                if name != 'rho'\n",
    "            ]\n",
    "            optimizer = torch.optim.Adam([{\n",
    "                'params': params_base\n",
    "            }, {\n",
    "                'params': model.rho,\n",
    "                'lr': 10 * lr\n",
    "            }],\n",
    "                                         lr=lr,\n",
    "                                         weight_decay=weight_decay)\n",
    "            scheduler = torch.optim.lr_scheduler.StepLR(optimizer,\n",
    "                                                        1,\n",
    "                                                        gamma=0.98)\n",
    "            valid_loss_min = np.Inf\n",
    "            print('train dataset {}'.format(num))\n",
    "            train_x = train_x_list[num]\n",
    "            train_y = train_y_list[num]\n",
    "            valid_x = valid_x_list[num]\n",
    "            valid_y = valid_y_list[num]\n",
    "            train_dataset = TensorDataset(torch.FloatTensor(train_x),\n",
    "                                          torch.FloatTensor(train_y))\n",
    "            valid_dataset = TensorDataset(torch.FloatTensor(valid_x),\n",
    "                                          torch.FloatTensor(valid_y))\n",
    "\n",
    "            train_loader = DataLoader(dataset=train_dataset,\n",
    "                                      batch_size=batch_size,\n",
    "                                      shuffle=True,\n",
    "                                      drop_last=True)\n",
    "            valid_loader = DataLoader(dataset=valid_dataset,\n",
    "                                      batch_size=batch_size,\n",
    "                                      shuffle=True,\n",
    "                                      drop_last=True)\n",
    "            train_losses = list()\n",
    "\n",
    "            num_without_imp = 0\n",
    "\n",
    "            #train\n",
    "            for epoch in range(1, number_epoch + 1):\n",
    "                loop = tqdm(enumerate(train_loader),\n",
    "                            total=len(train_loader),\n",
    "                            leave=True,\n",
    "                            ncols=100)\n",
    "                for i, (inputs, labels) in loop:\n",
    "                    inputs = inputs.to(device)\n",
    "                    labels = labels.to(device)\n",
    "                    optimizer.zero_grad()\n",
    "                    encoder_inputs = inputs\n",
    "                    decoder_inputs = torch.cat(\n",
    "                        (inputs[:, -1:, :], labels[:, :-1, :]), dim=1)\n",
    "                    outputs = model(encoder_inputs, decoder_inputs)\n",
    "                    loss = criterion(outputs, labels[:, :, -1])\n",
    "                    train_losses.append(loss.item)\n",
    "                    loss.backward()\n",
    "                    optimizer.step()\n",
    "\n",
    "                    # eval\n",
    "                    if i % 5 == 0:\n",
    "                        num_without_imp = num_without_imp + 1\n",
    "                        valid_losses = list()\n",
    "                        model.eval()\n",
    "                        for inp, lab in valid_loader:\n",
    "                            inp = inp.to(device)\n",
    "                            lab = lab.to(device)\n",
    "                            encoder_inp = inp\n",
    "                            decoder_inp = torch.cat(\n",
    "                                (inp[:, -1:, :], lab[:, :-1, :]), dim=1)\n",
    "                            out = model(encoder_inp, decoder_inp)\n",
    "                            valid_loss = criterion(out, lab[:, :, -1])\n",
    "                            valid_losses.append(valid_loss.item())\n",
    "                        model.train()\n",
    "                        loop.set_description(\"Epoch: {}/{}...\".format(\n",
    "                            epoch, number_epoch))\n",
    "                        loop.set_postfix(train_loss=loss.item(),\n",
    "                                         valid_loss=np.mean(valid_losses))\n",
    "                        if np.mean(valid_losses) < valid_loss_min:\n",
    "                            num_without_imp = 0\n",
    "                            valid_loss_min = np.mean(valid_losses)\n",
    "                if num_without_imp > 50:\n",
    "                    pass\n",
    "\n",
    "\n",
    "#                     break\n",
    "                scheduler.step()\n",
    "            if valid_loss_min < mse_thresh:\n",
    "                valid_loss_list.append(valid_loss_min)\n",
    "                break\n",
    "    return np.mean(valid_loss_list)"
   ]
  },
  {
   "cell_type": "markdown",
   "id": "998735df",
   "metadata": {},
   "source": [
    "## hyper-parameters config"
   ]
  },
  {
   "cell_type": "code",
   "execution_count": 15,
   "id": "3f747e56",
   "metadata": {
    "ExecuteTime": {
     "end_time": "2022-01-09T07:42:23.540856Z",
     "start_time": "2022-01-09T07:42:23.536027Z"
    }
   },
   "outputs": [],
   "source": [
    "seq_len = 72\n",
    "target_len = 24\n",
    "mse_thresh = 0.05\n",
    "\n",
    "\n",
    "def model_config():\n",
    "    batch_sizes = [256, 512]\n",
    "    lrs = [0.01]\n",
    "    number_epochs = [40]\n",
    "    hidden_dims = [64, 128]\n",
    "    n_layers = [2, 3]\n",
    "    drop_prob = [0]\n",
    "    weight_decays = [0]\n",
    "    configs = list()\n",
    "    for i in batch_sizes:\n",
    "        for j in lrs:\n",
    "            for k in number_epochs:\n",
    "                for l in hidden_dims:\n",
    "                    for m in n_layers:\n",
    "                        for n in drop_prob:\n",
    "                            for o in weight_decays:\n",
    "                                configs.append({\n",
    "                                    'batch_size': i,\n",
    "                                    'lr': j,\n",
    "                                    'number_epoch': k,\n",
    "                                    'hidden_dim': l,\n",
    "                                    'n_layers': m,\n",
    "                                    'drop_prob': n,\n",
    "                                    'weight_decay': o\n",
    "                                })\n",
    "    return configs"
   ]
  },
  {
   "cell_type": "markdown",
   "id": "073677ff",
   "metadata": {},
   "source": [
    "## random search for HPO"
   ]
  },
  {
   "cell_type": "code",
   "execution_count": 16,
   "id": "25244a38",
   "metadata": {
    "ExecuteTime": {
     "end_time": "2022-01-09T07:42:23.548367Z",
     "start_time": "2022-01-09T07:42:23.542211Z"
    }
   },
   "outputs": [],
   "source": [
    "def run_model_hpo(seq_len=seq_len,\n",
    "                  target_len=target_len,\n",
    "                  mse_thresh=mse_thresh):\n",
    "    train_data = data[:int(0.8 * len(data))]\n",
    "    train_data, _, _ = normalization(train_data)\n",
    "    train_x, train_y = series_to_supervise(train_data, seq_len, target_len)\n",
    "    train_x_list, train_y_list, valid_x_list, valid_y_list = time_series_split(\n",
    "        train_x, train_y)\n",
    "    #         with enough data\n",
    "    train_x_list = train_x_list[-1:]\n",
    "    train_y_list = train_y_list[-1:]\n",
    "    valid_x_list = valid_x_list[-1:]\n",
    "    valid_y_list = valid_y_list[-1:]\n",
    "\n",
    "    configs = model_config()\n",
    "    records = []\n",
    "    input_size = train_x.shape[2]\n",
    "    for i in range(6):\n",
    "        config = random.choice(configs)\n",
    "        configs.remove(config)\n",
    "        batch_size = config['batch_size']\n",
    "        lr = config['lr']\n",
    "        number_epoch = config['number_epoch']\n",
    "        hidden_dim = config['hidden_dim']\n",
    "        n_layers = config['n_layers']\n",
    "        drop_prob = config['drop_prob']\n",
    "        weight_decay = config['weight_decay']\n",
    "        print(\n",
    "            \"model config: batch_size-{}, lr-{}, number_epoch-{}, hidden_dim-{}, n_layers-{},drop_prob-{},weight_decay-{}\"\n",
    "            .format(batch_size, lr, number_epoch, hidden_dim, n_layers,\n",
    "                    drop_prob, weight_decay))\n",
    "        valid_loss = train_model_hpo(\n",
    "            train_x_list,\n",
    "            train_y_list,\n",
    "            valid_x_list,\n",
    "            valid_y_list,\n",
    "            input_size,\n",
    "            seq_len,\n",
    "            target_len,\n",
    "            mse_thresh,\n",
    "            hidden_dim,\n",
    "            n_layers,\n",
    "            number_epoch,\n",
    "            batch_size,\n",
    "            lr,\n",
    "            drop_prob,\n",
    "            weight_decay,\n",
    "        )\n",
    "        records.append({\n",
    "            'batch_size': batch_size,\n",
    "            'lr': lr,\n",
    "            'number_epoch': number_epoch,\n",
    "            'hidden_dim': hidden_dim,\n",
    "            'n_layers': n_layers,\n",
    "            'drop_prob': drop_prob,\n",
    "            'weight_decay': weight_decay,\n",
    "            'valid_loss': valid_loss\n",
    "        })\n",
    "    return records"
   ]
  },
  {
   "cell_type": "markdown",
   "id": "60dbd3cc",
   "metadata": {},
   "source": [
    "## run random search"
   ]
  },
  {
   "cell_type": "code",
   "execution_count": 19,
   "id": "ab4503a5",
   "metadata": {
    "ExecuteTime": {
     "end_time": "2022-01-05T09:35:59.754572Z",
     "start_time": "2022-01-05T09:07:18.790644Z"
    }
   },
   "outputs": [
    {
     "name": "stdout",
     "output_type": "stream",
     "text": [
      "supervised data: shape of x: (25232, 72, 16), shape of y: (25232, 24, 16)\n",
      "model config: batch_size-512, lr-0.01, number_epoch-40, hidden_dim-128, n_layers-3,drop_prob-0,weight_decay-0\n",
      "train dataset 0\n"
     ]
    },
    {
     "name": "stderr",
     "output_type": "stream",
     "text": [
      "Epoch: 1/40...: 100%|█████████| 41/41 [00:04<00:00,  9.67it/s, train_loss=0.0219, valid_loss=0.0426]\n",
      "Epoch: 2/40...: 100%|█████████| 41/41 [00:03<00:00, 10.28it/s, train_loss=0.0239, valid_loss=0.0417]\n",
      "Epoch: 3/40...: 100%|██████████| 41/41 [00:04<00:00,  9.91it/s, train_loss=0.014, valid_loss=0.0243]\n",
      "Epoch: 4/40...: 100%|████████████| 41/41 [00:04<00:00,  9.99it/s, train_loss=0.011, valid_loss=0.02]\n",
      "Epoch: 5/40...: 100%|█████████| 41/41 [00:04<00:00,  9.92it/s, train_loss=0.00944, valid_loss=0.016]\n",
      "Epoch: 6/40...: 100%|████████| 41/41 [00:04<00:00,  9.83it/s, train_loss=0.00826, valid_loss=0.0153]\n",
      "Epoch: 7/40...: 100%|███████| 41/41 [00:04<00:00,  9.88it/s, train_loss=0.00361, valid_loss=0.00528]\n",
      "Epoch: 8/40...: 100%|███████| 41/41 [00:04<00:00, 10.21it/s, train_loss=0.00285, valid_loss=0.00387]\n",
      "Epoch: 9/40...: 100%|█████████| 41/41 [00:04<00:00, 10.09it/s, train_loss=0.00207, valid_loss=0.003]\n",
      "Epoch: 10/40...: 100%|██████| 41/41 [00:04<00:00,  9.70it/s, train_loss=0.00198, valid_loss=0.00361]\n",
      "Epoch: 11/40...: 100%|██████| 41/41 [00:04<00:00, 10.09it/s, train_loss=0.00213, valid_loss=0.00362]\n",
      "Epoch: 12/40...: 100%|██████| 41/41 [00:04<00:00,  9.75it/s, train_loss=0.00169, valid_loss=0.00322]\n",
      "Epoch: 13/40...: 100%|██████| 41/41 [00:04<00:00,  9.85it/s, train_loss=0.00189, valid_loss=0.00235]\n",
      "Epoch: 14/40...: 100%|██████| 41/41 [00:04<00:00, 10.00it/s, train_loss=0.00173, valid_loss=0.00247]\n",
      "Epoch: 15/40...: 100%|██████| 41/41 [00:04<00:00,  9.97it/s, train_loss=0.00173, valid_loss=0.00329]\n",
      "Epoch: 16/40...: 100%|██████| 41/41 [00:04<00:00, 10.25it/s, train_loss=0.00125, valid_loss=0.00256]\n",
      "Epoch: 17/40...: 100%|███████| 41/41 [00:04<00:00, 10.10it/s, train_loss=0.0018, valid_loss=0.00227]\n",
      "Epoch: 18/40...: 100%|██████| 41/41 [00:04<00:00, 10.08it/s, train_loss=0.00136, valid_loss=0.00231]\n",
      "Epoch: 19/40...: 100%|██████| 41/41 [00:04<00:00, 10.01it/s, train_loss=0.00151, valid_loss=0.00264]\n",
      "Epoch: 20/40...: 100%|██████| 41/41 [00:04<00:00,  9.96it/s, train_loss=0.00194, valid_loss=0.00313]\n",
      "Epoch: 21/40...: 100%|██████| 41/41 [00:04<00:00, 10.08it/s, train_loss=0.00112, valid_loss=0.00201]\n",
      "Epoch: 22/40...: 100%|█████| 41/41 [00:04<00:00,  9.93it/s, train_loss=0.000903, valid_loss=0.00172]\n",
      "Epoch: 23/40...: 100%|██████| 41/41 [00:04<00:00, 10.24it/s, train_loss=0.00109, valid_loss=0.00179]\n",
      "Epoch: 24/40...: 100%|█████| 41/41 [00:04<00:00,  9.80it/s, train_loss=0.000911, valid_loss=0.00174]\n",
      "Epoch: 25/40...: 100%|██████| 41/41 [00:04<00:00,  9.68it/s, train_loss=0.000788, valid_loss=0.0017]\n",
      "Epoch: 26/40...: 100%|█████| 41/41 [00:04<00:00, 10.12it/s, train_loss=0.000992, valid_loss=0.00183]\n",
      "Epoch: 27/40...: 100%|█████| 41/41 [00:04<00:00,  9.79it/s, train_loss=0.000748, valid_loss=0.00132]\n",
      "Epoch: 28/40...: 100%|█████| 41/41 [00:04<00:00, 10.09it/s, train_loss=0.000996, valid_loss=0.00145]\n",
      "Epoch: 29/40...: 100%|█████| 41/41 [00:04<00:00,  9.99it/s, train_loss=0.000765, valid_loss=0.00165]\n",
      "Epoch: 30/40...: 100%|██████| 41/41 [00:04<00:00,  9.56it/s, train_loss=0.00129, valid_loss=0.00326]\n",
      "Epoch: 31/40...: 100%|█████| 41/41 [00:04<00:00,  9.49it/s, train_loss=0.000535, valid_loss=0.00132]\n",
      "Epoch: 32/40...: 100%|█████| 41/41 [00:04<00:00,  9.47it/s, train_loss=0.000547, valid_loss=0.00114]\n",
      "Epoch: 33/40...: 100%|████| 41/41 [00:04<00:00,  9.75it/s, train_loss=0.000459, valid_loss=0.000865]\n",
      "Epoch: 34/40...: 100%|█████| 41/41 [00:04<00:00,  9.65it/s, train_loss=0.000544, valid_loss=0.00102]\n",
      "Epoch: 35/40...: 100%|█████| 41/41 [00:04<00:00,  9.55it/s, train_loss=0.00041, valid_loss=0.000807]\n",
      "Epoch: 36/40...: 100%|█████| 41/41 [00:04<00:00,  9.60it/s, train_loss=0.000426, valid_loss=0.00107]\n",
      "Epoch: 37/40...: 100%|████| 41/41 [00:04<00:00,  9.82it/s, train_loss=0.000364, valid_loss=0.000823]\n",
      "Epoch: 38/40...: 100%|█████| 41/41 [00:04<00:00,  9.90it/s, train_loss=0.000629, valid_loss=0.00124]\n",
      "Epoch: 39/40...: 100%|████| 41/41 [00:04<00:00, 10.05it/s, train_loss=0.000395, valid_loss=0.000808]\n",
      "Epoch: 40/40...: 100%|████| 41/41 [00:04<00:00, 10.06it/s, train_loss=0.000378, valid_loss=0.000778]\n"
     ]
    },
    {
     "name": "stdout",
     "output_type": "stream",
     "text": [
      "model config: batch_size-256, lr-0.01, number_epoch-40, hidden_dim-64, n_layers-2,drop_prob-0,weight_decay-0\n",
      "train dataset 0\n"
     ]
    },
    {
     "name": "stderr",
     "output_type": "stream",
     "text": [
      "Epoch: 1/40...: 100%|███████| 82/82 [00:08<00:00,  9.62it/s, train_loss=0.00376, valid_loss=0.00473]\n",
      "Epoch: 2/40...: 100%|███████| 82/82 [00:08<00:00,  9.47it/s, train_loss=0.00148, valid_loss=0.00249]\n",
      "Epoch: 3/40...: 100%|███████| 82/82 [00:08<00:00,  9.60it/s, train_loss=0.00145, valid_loss=0.00198]\n",
      "Epoch: 4/40...: 100%|███████| 82/82 [00:08<00:00,  9.64it/s, train_loss=0.00106, valid_loss=0.00167]\n",
      "Epoch: 5/40...: 100%|██████| 82/82 [00:08<00:00,  9.72it/s, train_loss=0.000806, valid_loss=0.00139]\n",
      "Epoch: 6/40...: 100%|███████| 82/82 [00:08<00:00,  9.60it/s, train_loss=0.00063, valid_loss=0.00121]\n",
      "Epoch: 7/40...: 100%|█████| 82/82 [00:08<00:00,  9.63it/s, train_loss=0.000475, valid_loss=0.000731]\n",
      "Epoch: 8/40...: 100%|█████| 82/82 [00:08<00:00,  9.68it/s, train_loss=0.000531, valid_loss=0.000657]\n",
      "Epoch: 9/40...: 100%|█████| 82/82 [00:08<00:00,  9.53it/s, train_loss=0.000314, valid_loss=0.000552]\n",
      "Epoch: 10/40...: 100%|████| 82/82 [00:08<00:00,  9.48it/s, train_loss=0.000294, valid_loss=0.000577]\n",
      "Epoch: 11/40...: 100%|████| 82/82 [00:08<00:00,  9.43it/s, train_loss=0.000337, valid_loss=0.000495]\n",
      "Epoch: 12/40...: 100%|████| 82/82 [00:08<00:00,  9.57it/s, train_loss=0.000275, valid_loss=0.000488]\n",
      "Epoch: 13/40...: 100%|████| 82/82 [00:08<00:00,  9.56it/s, train_loss=0.000243, valid_loss=0.000442]\n",
      "Epoch: 14/40...: 100%|████| 82/82 [00:08<00:00,  9.48it/s, train_loss=0.000332, valid_loss=0.000513]\n",
      "Epoch: 15/40...: 100%|████| 82/82 [00:08<00:00,  9.64it/s, train_loss=0.000222, valid_loss=0.000502]\n",
      "Epoch: 16/40...: 100%|████| 82/82 [00:08<00:00, 10.03it/s, train_loss=0.000215, valid_loss=0.000447]\n",
      "Epoch: 17/40...: 100%|████| 82/82 [00:08<00:00,  9.96it/s, train_loss=0.000225, valid_loss=0.000449]\n",
      "Epoch: 18/40...: 100%|████| 82/82 [00:08<00:00, 10.16it/s, train_loss=0.000232, valid_loss=0.000435]\n",
      "Epoch: 19/40...: 100%|████| 82/82 [00:08<00:00,  9.98it/s, train_loss=0.000253, valid_loss=0.000414]\n",
      "Epoch: 20/40...: 100%|████| 82/82 [00:08<00:00, 10.19it/s, train_loss=0.000176, valid_loss=0.000469]\n",
      "Epoch: 21/40...: 100%|████| 82/82 [00:08<00:00, 10.04it/s, train_loss=0.000238, valid_loss=0.000428]\n",
      "Epoch: 22/40...: 100%|████| 82/82 [00:08<00:00, 10.01it/s, train_loss=0.000219, valid_loss=0.000435]\n",
      "Epoch: 23/40...: 100%|████| 82/82 [00:07<00:00, 10.47it/s, train_loss=0.000182, valid_loss=0.000482]\n",
      "Epoch: 24/40...: 100%|████| 82/82 [00:07<00:00, 10.47it/s, train_loss=0.000191, valid_loss=0.000452]\n",
      "Epoch: 25/40...: 100%|████| 82/82 [00:07<00:00, 10.41it/s, train_loss=0.000169, valid_loss=0.000417]\n",
      "Epoch: 26/40...: 100%|████| 82/82 [00:08<00:00, 10.17it/s, train_loss=0.000193, valid_loss=0.000542]\n",
      "Epoch: 27/40...: 100%|████| 82/82 [00:07<00:00, 10.34it/s, train_loss=0.000165, valid_loss=0.000464]\n",
      "Epoch: 28/40...: 100%|████| 82/82 [00:07<00:00, 10.36it/s, train_loss=0.000165, valid_loss=0.000427]\n",
      "Epoch: 29/40...: 100%|████| 82/82 [00:07<00:00, 10.36it/s, train_loss=0.000135, valid_loss=0.000451]\n",
      "Epoch: 30/40...: 100%|█████| 82/82 [00:07<00:00, 10.43it/s, train_loss=0.00014, valid_loss=0.000416]\n",
      "Epoch: 31/40...: 100%|████| 82/82 [00:07<00:00, 10.27it/s, train_loss=0.000194, valid_loss=0.000458]\n",
      "Epoch: 32/40...: 100%|████| 82/82 [00:07<00:00, 10.34it/s, train_loss=0.000127, valid_loss=0.000475]\n",
      "Epoch: 33/40...: 100%|█████| 82/82 [00:07<00:00, 10.44it/s, train_loss=0.00019, valid_loss=0.000436]\n",
      "Epoch: 34/40...: 100%|████| 82/82 [00:07<00:00, 10.51it/s, train_loss=0.000134, valid_loss=0.000484]\n",
      "Epoch: 35/40...: 100%|█████| 82/82 [00:07<00:00, 10.34it/s, train_loss=0.000153, valid_loss=0.00044]\n",
      "Epoch: 36/40...: 100%|████| 82/82 [00:07<00:00, 10.56it/s, train_loss=0.000168, valid_loss=0.000483]\n",
      "Epoch: 37/40...: 100%|████| 82/82 [00:07<00:00, 10.48it/s, train_loss=0.000146, valid_loss=0.000514]\n",
      "Epoch: 38/40...: 100%|████| 82/82 [00:08<00:00, 10.24it/s, train_loss=0.000115, valid_loss=0.000477]\n",
      "Epoch: 39/40...: 100%|████| 82/82 [00:07<00:00, 10.54it/s, train_loss=0.000127, valid_loss=0.000429]\n",
      "Epoch: 40/40...: 100%|████| 82/82 [00:07<00:00, 10.32it/s, train_loss=0.000111, valid_loss=0.000448]\n"
     ]
    },
    {
     "name": "stdout",
     "output_type": "stream",
     "text": [
      "model config: batch_size-512, lr-0.01, number_epoch-40, hidden_dim-64, n_layers-2,drop_prob-0,weight_decay-0\n",
      "train dataset 0\n"
     ]
    },
    {
     "name": "stderr",
     "output_type": "stream",
     "text": [
      "Epoch: 1/40...: 100%|█████████| 41/41 [00:03<00:00, 12.91it/s, train_loss=0.0227, valid_loss=0.0425]\n",
      "Epoch: 2/40...: 100%|█████████| 41/41 [00:03<00:00, 12.64it/s, train_loss=0.0239, valid_loss=0.0426]\n",
      "Epoch: 3/40...: 100%|█████████| 41/41 [00:03<00:00, 13.07it/s, train_loss=0.0237, valid_loss=0.0426]\n",
      "Epoch: 4/40...: 100%|█████████| 41/41 [00:03<00:00, 12.63it/s, train_loss=0.0243, valid_loss=0.0427]\n",
      "Epoch: 5/40...: 100%|█████████| 41/41 [00:03<00:00, 12.47it/s, train_loss=0.0247, valid_loss=0.0426]\n",
      "Epoch: 6/40...: 100%|█████████| 41/41 [00:03<00:00, 12.84it/s, train_loss=0.0223, valid_loss=0.0426]\n",
      "Epoch: 7/40...: 100%|█████████| 41/41 [00:03<00:00, 12.91it/s, train_loss=0.0239, valid_loss=0.0427]\n",
      "Epoch: 8/40...: 100%|█████████| 41/41 [00:03<00:00, 12.86it/s, train_loss=0.0226, valid_loss=0.0426]\n",
      "Epoch: 9/40...: 100%|█████████| 41/41 [00:03<00:00, 12.29it/s, train_loss=0.0253, valid_loss=0.0425]\n",
      "Epoch: 10/40...: 100%|████████| 41/41 [00:03<00:00, 12.60it/s, train_loss=0.0238, valid_loss=0.0426]\n",
      "Epoch: 11/40...: 100%|████████| 41/41 [00:03<00:00, 12.90it/s, train_loss=0.0237, valid_loss=0.0425]\n",
      "Epoch: 12/40...: 100%|████████| 41/41 [00:03<00:00, 12.95it/s, train_loss=0.0239, valid_loss=0.0424]\n",
      "Epoch: 13/40...: 100%|████████| 41/41 [00:03<00:00, 12.48it/s, train_loss=0.0257, valid_loss=0.0427]\n",
      "Epoch: 14/40...: 100%|████████| 41/41 [00:03<00:00, 12.54it/s, train_loss=0.0243, valid_loss=0.0425]\n",
      "Epoch: 15/40...: 100%|████████| 41/41 [00:03<00:00, 12.71it/s, train_loss=0.0253, valid_loss=0.0425]\n",
      "Epoch: 16/40...: 100%|████████| 41/41 [00:03<00:00, 12.66it/s, train_loss=0.0232, valid_loss=0.0427]\n",
      "Epoch: 17/40...: 100%|████████| 41/41 [00:03<00:00, 12.65it/s, train_loss=0.0243, valid_loss=0.0426]\n",
      "Epoch: 18/40...: 100%|████████| 41/41 [00:03<00:00, 12.75it/s, train_loss=0.0232, valid_loss=0.0426]\n",
      "Epoch: 19/40...: 100%|████████| 41/41 [00:03<00:00, 12.31it/s, train_loss=0.0244, valid_loss=0.0426]\n",
      "Epoch: 20/40...: 100%|████████| 41/41 [00:03<00:00, 12.86it/s, train_loss=0.0238, valid_loss=0.0424]\n",
      "Epoch: 21/40...: 100%|████████| 41/41 [00:03<00:00, 12.98it/s, train_loss=0.0247, valid_loss=0.0424]\n",
      "Epoch: 22/40...: 100%|████████| 41/41 [00:03<00:00, 12.33it/s, train_loss=0.0235, valid_loss=0.0425]\n",
      "Epoch: 23/40...: 100%|████████| 41/41 [00:03<00:00, 12.53it/s, train_loss=0.0231, valid_loss=0.0426]\n",
      "Epoch: 24/40...: 100%|████████| 41/41 [00:03<00:00, 12.84it/s, train_loss=0.0235, valid_loss=0.0425]\n",
      "Epoch: 25/40...: 100%|████████| 41/41 [00:03<00:00, 12.47it/s, train_loss=0.0242, valid_loss=0.0426]\n",
      "Epoch: 26/40...: 100%|████████| 41/41 [00:03<00:00, 12.97it/s, train_loss=0.0238, valid_loss=0.0425]\n",
      "Epoch: 27/40...: 100%|████████| 41/41 [00:03<00:00, 12.50it/s, train_loss=0.0226, valid_loss=0.0427]\n",
      "Epoch: 28/40...: 100%|████████| 41/41 [00:03<00:00, 12.76it/s, train_loss=0.0241, valid_loss=0.0424]\n",
      "Epoch: 29/40...: 100%|████████| 41/41 [00:03<00:00, 12.43it/s, train_loss=0.0239, valid_loss=0.0425]\n",
      "Epoch: 30/40...: 100%|████████| 41/41 [00:03<00:00, 12.65it/s, train_loss=0.0244, valid_loss=0.0427]\n",
      "Epoch: 31/40...: 100%|█████████| 41/41 [00:03<00:00, 12.30it/s, train_loss=0.023, valid_loss=0.0425]\n",
      "Epoch: 32/40...: 100%|████████| 41/41 [00:03<00:00, 12.34it/s, train_loss=0.0242, valid_loss=0.0424]\n",
      "Epoch: 33/40...: 100%|████████| 41/41 [00:03<00:00, 12.84it/s, train_loss=0.0232, valid_loss=0.0426]\n",
      "Epoch: 34/40...: 100%|████████| 41/41 [00:03<00:00, 12.76it/s, train_loss=0.0236, valid_loss=0.0424]\n",
      "Epoch: 35/40...: 100%|████████| 41/41 [00:03<00:00, 12.51it/s, train_loss=0.0232, valid_loss=0.0427]\n",
      "Epoch: 36/40...: 100%|████████| 41/41 [00:03<00:00, 12.43it/s, train_loss=0.0228, valid_loss=0.0426]\n",
      "Epoch: 37/40...: 100%|████████| 41/41 [00:03<00:00, 12.24it/s, train_loss=0.0234, valid_loss=0.0426]\n",
      "Epoch: 38/40...: 100%|████████| 41/41 [00:03<00:00, 12.51it/s, train_loss=0.0231, valid_loss=0.0426]\n",
      "Epoch: 39/40...: 100%|████████| 41/41 [00:03<00:00, 12.43it/s, train_loss=0.0248, valid_loss=0.0426]\n",
      "Epoch: 40/40...: 100%|████████| 41/41 [00:03<00:00, 12.79it/s, train_loss=0.0233, valid_loss=0.0426]\n"
     ]
    },
    {
     "name": "stdout",
     "output_type": "stream",
     "text": [
      "model config: batch_size-256, lr-0.01, number_epoch-40, hidden_dim-128, n_layers-3,drop_prob-0,weight_decay-0\n",
      "train dataset 0\n"
     ]
    },
    {
     "name": "stderr",
     "output_type": "stream",
     "text": [
      "Epoch: 1/40...: 100%|█████████| 82/82 [00:09<00:00,  8.63it/s, train_loss=0.0247, valid_loss=0.0427]\n",
      "Epoch: 2/40...: 100%|█████████| 82/82 [00:09<00:00,  8.52it/s, train_loss=0.0131, valid_loss=0.0219]\n",
      "Epoch: 3/40...: 100%|█████████| 82/82 [00:09<00:00,  8.65it/s, train_loss=0.0179, valid_loss=0.0307]\n",
      "Epoch: 4/40...: 100%|█████████| 82/82 [00:09<00:00,  8.65it/s, train_loss=0.0133, valid_loss=0.0223]\n",
      "Epoch: 5/40...: 100%|██████████| 82/82 [00:09<00:00,  8.63it/s, train_loss=0.0102, valid_loss=0.019]\n",
      "Epoch: 6/40...: 100%|████████| 82/82 [00:09<00:00,  8.70it/s, train_loss=0.0046, valid_loss=0.00762]\n",
      "Epoch: 7/40...: 100%|███████| 82/82 [00:09<00:00,  8.73it/s, train_loss=0.00328, valid_loss=0.00444]\n",
      "Epoch: 8/40...: 100%|███████| 82/82 [00:09<00:00,  8.62it/s, train_loss=0.00264, valid_loss=0.00357]\n",
      "Epoch: 9/40...: 100%|███████| 82/82 [00:09<00:00,  8.67it/s, train_loss=0.00211, valid_loss=0.00351]\n",
      "Epoch: 10/40...: 100%|██████| 82/82 [00:09<00:00,  8.61it/s, train_loss=0.00325, valid_loss=0.00434]\n",
      "Epoch: 11/40...: 100%|██████| 82/82 [00:09<00:00,  8.64it/s, train_loss=0.00201, valid_loss=0.00291]\n",
      "Epoch: 12/40...: 100%|██████| 82/82 [00:09<00:00,  8.60it/s, train_loss=0.00181, valid_loss=0.00289]\n",
      "Epoch: 13/40...: 100%|███████| 82/82 [00:09<00:00,  8.64it/s, train_loss=0.00178, valid_loss=0.0024]\n",
      "Epoch: 14/40...: 100%|██████| 82/82 [00:09<00:00,  8.58it/s, train_loss=0.00168, valid_loss=0.00275]\n",
      "Epoch: 15/40...: 100%|██████| 82/82 [00:09<00:00,  8.58it/s, train_loss=0.00161, valid_loss=0.00275]\n",
      "Epoch: 16/40...: 100%|██████| 82/82 [00:09<00:00,  8.59it/s, train_loss=0.00192, valid_loss=0.00303]\n",
      "Epoch: 17/40...: 100%|██████| 82/82 [00:09<00:00,  8.47it/s, train_loss=0.00176, valid_loss=0.00319]\n",
      "Epoch: 18/40...: 100%|██████| 82/82 [00:09<00:00,  8.59it/s, train_loss=0.00153, valid_loss=0.00289]\n",
      "Epoch: 19/40...: 100%|██████| 82/82 [00:09<00:00,  8.57it/s, train_loss=0.00191, valid_loss=0.00261]\n",
      "Epoch: 20/40...: 100%|███████| 82/82 [00:09<00:00,  8.72it/s, train_loss=0.00131, valid_loss=0.0027]\n",
      "Epoch: 21/40...: 100%|██████| 82/82 [00:09<00:00,  8.57it/s, train_loss=0.00144, valid_loss=0.00215]\n",
      "Epoch: 22/40...: 100%|██████| 82/82 [00:09<00:00,  8.56it/s, train_loss=0.00151, valid_loss=0.00279]\n",
      "Epoch: 23/40...: 100%|███████| 82/82 [00:09<00:00,  8.64it/s, train_loss=0.0015, valid_loss=0.00263]\n",
      "Epoch: 24/40...: 100%|███████| 82/82 [00:09<00:00,  8.56it/s, train_loss=0.00109, valid_loss=0.0023]\n",
      "Epoch: 25/40...: 100%|█████| 82/82 [00:09<00:00,  8.67it/s, train_loss=0.000889, valid_loss=0.00183]\n",
      "Epoch: 26/40...: 100%|██████| 82/82 [00:09<00:00,  8.52it/s, train_loss=0.00116, valid_loss=0.00185]\n",
      "Epoch: 27/40...: 100%|██████| 82/82 [00:09<00:00,  8.45it/s, train_loss=0.00113, valid_loss=0.00128]\n",
      "Epoch: 28/40...: 100%|█████| 82/82 [00:09<00:00,  8.51it/s, train_loss=0.000798, valid_loss=0.00126]\n",
      "Epoch: 29/40...: 100%|█████| 82/82 [00:09<00:00,  8.55it/s, train_loss=0.000697, valid_loss=0.00107]\n",
      "Epoch: 30/40...: 100%|████| 82/82 [00:09<00:00,  8.52it/s, train_loss=0.000629, valid_loss=0.000881]\n",
      "Epoch: 31/40...: 100%|████| 82/82 [00:09<00:00,  8.60it/s, train_loss=0.000681, valid_loss=0.000969]\n",
      "Epoch: 32/40...: 100%|████| 82/82 [00:09<00:00,  8.52it/s, train_loss=0.000547, valid_loss=0.000911]\n",
      "Epoch: 33/40...: 100%|████| 82/82 [00:09<00:00,  8.58it/s, train_loss=0.000461, valid_loss=0.000862]\n",
      "Epoch: 34/40...: 100%|████| 82/82 [00:09<00:00,  8.53it/s, train_loss=0.000389, valid_loss=0.000816]\n",
      "Epoch: 35/40...: 100%|█████| 82/82 [00:09<00:00,  8.37it/s, train_loss=0.00046, valid_loss=0.000693]\n",
      "Epoch: 36/40...: 100%|████| 82/82 [00:09<00:00,  8.51it/s, train_loss=0.000393, valid_loss=0.000755]\n",
      "Epoch: 37/40...: 100%|████| 82/82 [00:09<00:00,  8.51it/s, train_loss=0.000422, valid_loss=0.000649]\n",
      "Epoch: 38/40...: 100%|████| 82/82 [00:09<00:00,  8.64it/s, train_loss=0.000357, valid_loss=0.000687]\n",
      "Epoch: 39/40...: 100%|████| 82/82 [00:09<00:00,  8.62it/s, train_loss=0.000407, valid_loss=0.000688]\n",
      "Epoch: 40/40...: 100%|████| 82/82 [00:09<00:00,  8.58it/s, train_loss=0.000351, valid_loss=0.000621]\n"
     ]
    },
    {
     "name": "stdout",
     "output_type": "stream",
     "text": [
      "model config: batch_size-256, lr-0.01, number_epoch-40, hidden_dim-128, n_layers-2,drop_prob-0,weight_decay-0\n",
      "train dataset 0\n"
     ]
    },
    {
     "name": "stderr",
     "output_type": "stream",
     "text": [
      "Epoch: 1/40...: 100%|█████████| 82/82 [00:09<00:00,  9.10it/s, train_loss=0.0151, valid_loss=0.0281]\n",
      "Epoch: 2/40...: 100%|████████| 82/82 [00:08<00:00,  9.14it/s, train_loss=0.00722, valid_loss=0.0132]\n",
      "Epoch: 3/40...: 100%|███████| 82/82 [00:09<00:00,  9.04it/s, train_loss=0.00217, valid_loss=0.00312]\n",
      "Epoch: 4/40...: 100%|███████| 82/82 [00:08<00:00,  9.11it/s, train_loss=0.00155, valid_loss=0.00309]\n",
      "Epoch: 5/40...: 100%|███████| 82/82 [00:08<00:00,  9.14it/s, train_loss=0.00124, valid_loss=0.00283]\n",
      "Epoch: 6/40...: 100%|███████| 82/82 [00:08<00:00,  9.12it/s, train_loss=0.00107, valid_loss=0.00213]\n",
      "Epoch: 7/40...: 100%|██████| 82/82 [00:08<00:00,  9.18it/s, train_loss=0.000996, valid_loss=0.00208]\n",
      "Epoch: 8/40...: 100%|██████| 82/82 [00:09<00:00,  9.05it/s, train_loss=0.000968, valid_loss=0.00211]\n",
      "Epoch: 9/40...: 100%|████████| 82/82 [00:08<00:00,  9.13it/s, train_loss=0.000708, valid_loss=0.002]\n",
      "Epoch: 10/40...: 100%|█████| 82/82 [00:09<00:00,  9.00it/s, train_loss=0.000664, valid_loss=0.00231]\n",
      "Epoch: 11/40...: 100%|█████| 82/82 [00:09<00:00,  9.05it/s, train_loss=0.000633, valid_loss=0.00211]\n",
      "Epoch: 12/40...: 100%|█████| 82/82 [00:09<00:00,  9.06it/s, train_loss=0.000587, valid_loss=0.00236]\n",
      "Epoch: 13/40...: 100%|██████| 82/82 [00:09<00:00,  8.99it/s, train_loss=0.000454, valid_loss=0.0022]\n",
      "Epoch: 14/40...: 100%|██████| 82/82 [00:09<00:00,  9.01it/s, train_loss=0.00044, valid_loss=0.00202]\n",
      "Epoch: 15/40...: 100%|██████| 82/82 [00:09<00:00,  9.04it/s, train_loss=0.00032, valid_loss=0.00206]\n",
      "Epoch: 16/40...: 100%|█████| 82/82 [00:09<00:00,  9.04it/s, train_loss=0.000414, valid_loss=0.00207]\n",
      "Epoch: 17/40...: 100%|█████| 82/82 [00:08<00:00,  9.17it/s, train_loss=0.000299, valid_loss=0.00229]\n",
      "Epoch: 18/40...: 100%|█████| 82/82 [00:08<00:00,  9.14it/s, train_loss=0.000296, valid_loss=0.00227]\n",
      "Epoch: 19/40...: 100%|█████| 82/82 [00:09<00:00,  9.02it/s, train_loss=0.000271, valid_loss=0.00218]\n",
      "Epoch: 20/40...: 100%|█████| 82/82 [00:08<00:00,  9.13it/s, train_loss=0.000236, valid_loss=0.00203]\n",
      "Epoch: 21/40...: 100%|█████| 82/82 [00:09<00:00,  9.08it/s, train_loss=0.000208, valid_loss=0.00212]\n",
      "Epoch: 22/40...: 100%|█████| 82/82 [00:09<00:00,  9.10it/s, train_loss=0.000281, valid_loss=0.00199]\n",
      "Epoch: 23/40...: 100%|█████| 82/82 [00:09<00:00,  8.97it/s, train_loss=0.000229, valid_loss=0.00216]\n",
      "Epoch: 24/40...: 100%|█████| 82/82 [00:09<00:00,  8.98it/s, train_loss=0.000188, valid_loss=0.00197]\n",
      "Epoch: 25/40...: 100%|█████| 82/82 [00:09<00:00,  9.04it/s, train_loss=0.000211, valid_loss=0.00215]\n",
      "Epoch: 26/40...: 100%|█████| 82/82 [00:08<00:00,  9.41it/s, train_loss=0.000193, valid_loss=0.00216]\n",
      "Epoch: 27/40...: 100%|█████| 82/82 [00:08<00:00,  9.36it/s, train_loss=0.000193, valid_loss=0.00219]\n",
      "Epoch: 28/40...: 100%|█████| 82/82 [00:08<00:00,  9.32it/s, train_loss=0.000191, valid_loss=0.00209]\n",
      "Epoch: 29/40...: 100%|█████| 82/82 [00:08<00:00,  9.31it/s, train_loss=0.000226, valid_loss=0.00214]\n",
      "Epoch: 30/40...: 100%|█████| 82/82 [00:08<00:00,  9.28it/s, train_loss=0.000276, valid_loss=0.00232]\n",
      "Epoch: 31/40...: 100%|█████| 82/82 [00:08<00:00,  9.30it/s, train_loss=0.000166, valid_loss=0.00217]\n",
      "Epoch: 32/40...: 100%|█████| 82/82 [00:08<00:00,  9.41it/s, train_loss=0.000164, valid_loss=0.00204]\n",
      "Epoch: 33/40...: 100%|█████| 82/82 [00:08<00:00,  9.19it/s, train_loss=0.000148, valid_loss=0.00194]\n",
      "Epoch: 34/40...: 100%|██████| 82/82 [00:08<00:00,  9.31it/s, train_loss=0.00015, valid_loss=0.00209]\n",
      "Epoch: 35/40...: 100%|██████| 82/82 [00:08<00:00,  9.27it/s, train_loss=0.000139, valid_loss=0.0021]\n",
      "Epoch: 36/40...: 100%|█████| 82/82 [00:08<00:00,  9.22it/s, train_loss=0.000182, valid_loss=0.00224]\n",
      "Epoch: 37/40...: 100%|██████| 82/82 [00:09<00:00,  9.08it/s, train_loss=0.00012, valid_loss=0.00208]\n",
      "Epoch: 38/40...: 100%|█████| 82/82 [00:08<00:00,  9.18it/s, train_loss=0.000112, valid_loss=0.00207]\n",
      "Epoch: 39/40...: 100%|█████| 82/82 [00:09<00:00,  9.10it/s, train_loss=0.000133, valid_loss=0.00201]\n",
      "Epoch: 40/40...: 100%|█████| 82/82 [00:08<00:00,  9.22it/s, train_loss=0.000127, valid_loss=0.00206]\n"
     ]
    },
    {
     "name": "stdout",
     "output_type": "stream",
     "text": [
      "model config: batch_size-256, lr-0.01, number_epoch-40, hidden_dim-64, n_layers-3,drop_prob-0,weight_decay-0\n",
      "train dataset 0\n"
     ]
    },
    {
     "name": "stderr",
     "output_type": "stream",
     "text": [
      "Epoch: 1/40...: 100%|█████████| 82/82 [00:08<00:00,  9.38it/s, train_loss=0.0101, valid_loss=0.0123]\n",
      "Epoch: 2/40...: 100%|████████| 82/82 [00:08<00:00,  9.42it/s, train_loss=0.0024, valid_loss=0.00311]\n",
      "Epoch: 3/40...: 100%|███████| 82/82 [00:08<00:00,  9.39it/s, train_loss=0.00167, valid_loss=0.00319]\n",
      "Epoch: 4/40...: 100%|████████| 82/82 [00:08<00:00,  9.34it/s, train_loss=0.0012, valid_loss=0.00211]\n",
      "Epoch: 5/40...: 100%|███████| 82/82 [00:08<00:00,  9.39it/s, train_loss=0.00108, valid_loss=0.00185]\n",
      "Epoch: 6/40...: 100%|███████| 82/82 [00:08<00:00,  9.35it/s, train_loss=0.00127, valid_loss=0.00216]\n",
      "Epoch: 7/40...: 100%|██████| 82/82 [00:08<00:00,  9.44it/s, train_loss=0.000893, valid_loss=0.00157]\n",
      "Epoch: 8/40...: 100%|██████| 82/82 [00:08<00:00,  9.34it/s, train_loss=0.000758, valid_loss=0.00105]\n",
      "Epoch: 9/40...: 100%|██████| 82/82 [00:08<00:00,  9.39it/s, train_loss=0.000665, valid_loss=0.00116]\n",
      "Epoch: 10/40...: 100%|█████| 82/82 [00:08<00:00,  9.28it/s, train_loss=0.000498, valid_loss=0.00115]\n",
      "Epoch: 11/40...: 100%|████| 82/82 [00:08<00:00,  9.31it/s, train_loss=0.000449, valid_loss=0.000673]\n",
      "Epoch: 12/40...: 100%|████| 82/82 [00:08<00:00,  9.38it/s, train_loss=0.000588, valid_loss=0.000755]\n",
      "Epoch: 13/40...: 100%|████| 82/82 [00:08<00:00,  9.35it/s, train_loss=0.000378, valid_loss=0.000624]\n",
      "Epoch: 14/40...: 100%|████| 82/82 [00:08<00:00,  9.29it/s, train_loss=0.000313, valid_loss=0.000569]\n",
      "Epoch: 15/40...: 100%|████| 82/82 [00:08<00:00,  9.26it/s, train_loss=0.000292, valid_loss=0.000467]\n",
      "Epoch: 16/40...: 100%|████| 82/82 [00:08<00:00,  9.41it/s, train_loss=0.000256, valid_loss=0.000481]\n",
      "Epoch: 17/40...: 100%|████| 82/82 [00:08<00:00,  9.26it/s, train_loss=0.000277, valid_loss=0.000503]\n",
      "Epoch: 18/40...: 100%|████| 82/82 [00:08<00:00,  9.58it/s, train_loss=0.000307, valid_loss=0.000567]\n",
      "Epoch: 19/40...: 100%|█████| 82/82 [00:08<00:00,  9.26it/s, train_loss=0.000294, valid_loss=0.00049]\n",
      "Epoch: 20/40...: 100%|█████| 82/82 [00:08<00:00,  9.54it/s, train_loss=0.00023, valid_loss=0.000582]\n",
      "Epoch: 21/40...: 100%|████| 82/82 [00:08<00:00,  9.52it/s, train_loss=0.000235, valid_loss=0.000525]\n",
      "Epoch: 22/40...: 100%|████| 82/82 [00:08<00:00,  9.54it/s, train_loss=0.000396, valid_loss=0.000624]\n",
      "Epoch: 23/40...: 100%|████| 82/82 [00:08<00:00,  9.35it/s, train_loss=0.000323, valid_loss=0.000499]\n",
      "Epoch: 24/40...: 100%|████| 82/82 [00:08<00:00,  9.47it/s, train_loss=0.000205, valid_loss=0.000542]\n",
      "Epoch: 25/40...: 100%|████| 82/82 [00:08<00:00,  9.37it/s, train_loss=0.000247, valid_loss=0.000545]\n",
      "Epoch: 26/40...: 100%|████| 82/82 [00:08<00:00,  9.44it/s, train_loss=0.000226, valid_loss=0.000446]\n",
      "Epoch: 27/40...: 100%|████| 82/82 [00:08<00:00,  9.34it/s, train_loss=0.000185, valid_loss=0.000478]\n",
      "Epoch: 28/40...: 100%|████| 82/82 [00:08<00:00,  9.47it/s, train_loss=0.000181, valid_loss=0.000529]\n",
      "Epoch: 29/40...: 100%|████| 82/82 [00:08<00:00,  9.51it/s, train_loss=0.000171, valid_loss=0.000538]\n",
      "Epoch: 30/40...: 100%|████| 82/82 [00:08<00:00,  9.37it/s, train_loss=0.000201, valid_loss=0.000451]\n",
      "Epoch: 31/40...: 100%|████| 82/82 [00:08<00:00,  9.49it/s, train_loss=0.000249, valid_loss=0.000611]\n",
      "Epoch: 32/40...: 100%|████| 82/82 [00:08<00:00,  9.34it/s, train_loss=0.000182, valid_loss=0.000461]\n",
      "Epoch: 33/40...: 100%|█████| 82/82 [00:08<00:00,  9.35it/s, train_loss=0.00021, valid_loss=0.000473]\n",
      "Epoch: 34/40...: 100%|████| 82/82 [00:08<00:00,  9.49it/s, train_loss=0.000156, valid_loss=0.000514]\n",
      "Epoch: 35/40...: 100%|████| 82/82 [00:08<00:00,  9.37it/s, train_loss=0.000189, valid_loss=0.000507]\n",
      "Epoch: 36/40...: 100%|████| 82/82 [00:08<00:00,  9.52it/s, train_loss=0.000165, valid_loss=0.000536]\n",
      "Epoch: 37/40...: 100%|█████| 82/82 [00:08<00:00,  9.46it/s, train_loss=0.00016, valid_loss=0.000464]\n",
      "Epoch: 38/40...: 100%|████| 82/82 [00:08<00:00,  9.45it/s, train_loss=0.000142, valid_loss=0.000495]\n",
      "Epoch: 39/40...: 100%|████| 82/82 [00:08<00:00,  9.44it/s, train_loss=0.000154, valid_loss=0.000468]\n",
      "Epoch: 40/40...: 100%|████| 82/82 [00:08<00:00,  9.38it/s, train_loss=0.000175, valid_loss=0.000488]\n"
     ]
    }
   ],
   "source": [
    "random_seed_set(42)\n",
    "records = run_model_hpo()"
   ]
  },
  {
   "cell_type": "markdown",
   "id": "ded7d0d6",
   "metadata": {
    "ExecuteTime": {
     "end_time": "2021-12-22T08:52:06.844501Z",
     "start_time": "2021-12-22T08:52:06.830928Z"
    }
   },
   "source": [
    "## find the best hyper-parameters"
   ]
  },
  {
   "cell_type": "code",
   "execution_count": 20,
   "id": "f33e0fe0",
   "metadata": {
    "ExecuteTime": {
     "end_time": "2022-01-05T09:36:03.795921Z",
     "start_time": "2022-01-05T09:36:03.765758Z"
    }
   },
   "outputs": [
    {
     "data": {
      "text/html": [
       "<div>\n",
       "<style scoped>\n",
       "    .dataframe tbody tr th:only-of-type {\n",
       "        vertical-align: middle;\n",
       "    }\n",
       "\n",
       "    .dataframe tbody tr th {\n",
       "        vertical-align: top;\n",
       "    }\n",
       "\n",
       "    .dataframe thead th {\n",
       "        text-align: right;\n",
       "    }\n",
       "</style>\n",
       "<table border=\"1\" class=\"dataframe\">\n",
       "  <thead>\n",
       "    <tr style=\"text-align: right;\">\n",
       "      <th></th>\n",
       "      <th>batch_size</th>\n",
       "      <th>lr</th>\n",
       "      <th>number_epoch</th>\n",
       "      <th>hidden_dim</th>\n",
       "      <th>n_layers</th>\n",
       "      <th>drop_prob</th>\n",
       "      <th>weight_decay</th>\n",
       "      <th>valid_loss</th>\n",
       "    </tr>\n",
       "  </thead>\n",
       "  <tbody>\n",
       "    <tr>\n",
       "      <th>1</th>\n",
       "      <td>256</td>\n",
       "      <td>0.01</td>\n",
       "      <td>40</td>\n",
       "      <td>64</td>\n",
       "      <td>2</td>\n",
       "      <td>0</td>\n",
       "      <td>0</td>\n",
       "      <td>0.000390</td>\n",
       "    </tr>\n",
       "    <tr>\n",
       "      <th>5</th>\n",
       "      <td>256</td>\n",
       "      <td>0.01</td>\n",
       "      <td>40</td>\n",
       "      <td>64</td>\n",
       "      <td>3</td>\n",
       "      <td>0</td>\n",
       "      <td>0</td>\n",
       "      <td>0.000417</td>\n",
       "    </tr>\n",
       "    <tr>\n",
       "      <th>3</th>\n",
       "      <td>256</td>\n",
       "      <td>0.01</td>\n",
       "      <td>40</td>\n",
       "      <td>128</td>\n",
       "      <td>3</td>\n",
       "      <td>0</td>\n",
       "      <td>0</td>\n",
       "      <td>0.000559</td>\n",
       "    </tr>\n",
       "    <tr>\n",
       "      <th>0</th>\n",
       "      <td>512</td>\n",
       "      <td>0.01</td>\n",
       "      <td>40</td>\n",
       "      <td>128</td>\n",
       "      <td>3</td>\n",
       "      <td>0</td>\n",
       "      <td>0</td>\n",
       "      <td>0.000695</td>\n",
       "    </tr>\n",
       "    <tr>\n",
       "      <th>4</th>\n",
       "      <td>256</td>\n",
       "      <td>0.01</td>\n",
       "      <td>40</td>\n",
       "      <td>128</td>\n",
       "      <td>2</td>\n",
       "      <td>0</td>\n",
       "      <td>0</td>\n",
       "      <td>0.001726</td>\n",
       "    </tr>\n",
       "    <tr>\n",
       "      <th>2</th>\n",
       "      <td>512</td>\n",
       "      <td>0.01</td>\n",
       "      <td>40</td>\n",
       "      <td>64</td>\n",
       "      <td>2</td>\n",
       "      <td>0</td>\n",
       "      <td>0</td>\n",
       "      <td>0.042352</td>\n",
       "    </tr>\n",
       "  </tbody>\n",
       "</table>\n",
       "</div>"
      ],
      "text/plain": [
       "   batch_size    lr  number_epoch  hidden_dim  n_layers  drop_prob  \\\n",
       "1         256  0.01            40          64         2          0   \n",
       "5         256  0.01            40          64         3          0   \n",
       "3         256  0.01            40         128         3          0   \n",
       "0         512  0.01            40         128         3          0   \n",
       "4         256  0.01            40         128         2          0   \n",
       "2         512  0.01            40          64         2          0   \n",
       "\n",
       "   weight_decay  valid_loss  \n",
       "1             0    0.000390  \n",
       "5             0    0.000417  \n",
       "3             0    0.000559  \n",
       "0             0    0.000695  \n",
       "4             0    0.001726  \n",
       "2             0    0.042352  "
      ]
     },
     "execution_count": 20,
     "metadata": {},
     "output_type": "execute_result"
    }
   ],
   "source": [
    "records = pd.DataFrame(records).sort_values(by='valid_loss')\n",
    "records.to_csv('./records/Seq2Seq_DPA_AAE_records.csv', mode='a', index=False, header=False)\n",
    "records"
   ]
  },
  {
   "cell_type": "markdown",
   "id": "ded47372",
   "metadata": {},
   "source": [
    "## retrain a model"
   ]
  },
  {
   "cell_type": "code",
   "execution_count": 17,
   "id": "19f91de3",
   "metadata": {
    "ExecuteTime": {
     "end_time": "2022-01-09T07:42:27.039161Z",
     "start_time": "2022-01-09T07:42:27.013563Z"
    },
    "code_folding": []
   },
   "outputs": [],
   "source": [
    "def train_model(train_x, train_y, valid_x, valid_y, input_size, seq_len,\n",
    "                target_len, mse_thresh, hidden_dim, n_layers, number_epoch,\n",
    "                batch_size, lr, drop_prob, weight_decay):\n",
    "    while (1):\n",
    "        model = Seq2Seq_Attn(input_size, hidden_dim, n_layers, drop_prob)\n",
    "        model = model.to(device)\n",
    "        criterion = nn.MSELoss()\n",
    "        params_base = [\n",
    "            param for name, param in model.named_parameters() if name != 'rho'\n",
    "        ]\n",
    "        optimizer = torch.optim.Adam([{\n",
    "            'params': params_base\n",
    "        }, {\n",
    "            'params': model.rho,\n",
    "            'lr': 10 * lr\n",
    "        }],\n",
    "                                     lr=lr,\n",
    "                                     weight_decay=weight_decay)\n",
    "        scheduler = torch.optim.lr_scheduler.StepLR(optimizer, 1, gamma=0.98)\n",
    "        valid_loss_min = np.Inf\n",
    "        train_dataset = TensorDataset(torch.FloatTensor(train_x),\n",
    "                                      torch.FloatTensor(train_y))\n",
    "        valid_dataset = TensorDataset(torch.FloatTensor(valid_x),\n",
    "                                      torch.FloatTensor(valid_y))\n",
    "\n",
    "        train_loader = DataLoader(dataset=train_dataset,\n",
    "                                  batch_size=batch_size,\n",
    "                                  shuffle=True,\n",
    "                                  drop_last=True)\n",
    "        valid_loader = DataLoader(dataset=valid_dataset,\n",
    "                                  batch_size=batch_size,\n",
    "                                  shuffle=True,\n",
    "                                  drop_last=True)\n",
    "        train_losses = list()\n",
    "\n",
    "        num_without_imp = 0\n",
    "\n",
    "        train_loss_list = []\n",
    "        valid_loss_list = []\n",
    "        #train\n",
    "        for epoch in range(1, number_epoch + 1):\n",
    "            loop = tqdm(enumerate(train_loader),\n",
    "                        total=len(train_loader),\n",
    "                        leave=True,\n",
    "                        ncols=100)\n",
    "            for i, (inputs, labels) in loop:\n",
    "                inputs = inputs.to(device)\n",
    "                labels = labels.to(device)\n",
    "                optimizer.zero_grad()\n",
    "                encoder_inputs = inputs\n",
    "                decoder_inputs = torch.cat(\n",
    "                    (inputs[:, -1:, :], labels[:, :-1, :]), dim=1)\n",
    "                outputs = model(encoder_inputs, decoder_inputs)\n",
    "                loss = criterion(outputs, labels[:, :, -1])\n",
    "                train_losses.append(loss.item)\n",
    "                loss.backward()\n",
    "                optimizer.step()\n",
    "\n",
    "                # eval\n",
    "                if i % 5 == 0:\n",
    "                    num_without_imp = num_without_imp + 1\n",
    "                    valid_losses = list()\n",
    "                    model.eval()\n",
    "                    for inp, lab in valid_loader:\n",
    "                        inp = inp.to(device)\n",
    "                        lab = lab.to(device)\n",
    "                        encoder_inp = inp\n",
    "                        decoder_inp = torch.cat(\n",
    "                            (inp[:, -1:, :], lab[:, :-1, :]), dim=1)\n",
    "                        out = model(encoder_inp, decoder_inp)\n",
    "                        valid_loss = criterion(out, lab[:, :, -1])\n",
    "                        valid_losses.append(valid_loss.item())\n",
    "                    model.train()\n",
    "                    loop.set_description(\"Epoch: {}/{}...\".format(\n",
    "                        epoch, number_epoch))\n",
    "                    loop.set_postfix(train_loss=loss.item(),\n",
    "                                     valid_loss=np.mean(valid_losses))\n",
    "                    train_loss_list.append(loss.item())\n",
    "                    valid_loss_list.append(np.mean(valid_losses))\n",
    "                    if np.mean(valid_losses) < valid_loss_min:\n",
    "                        num_without_imp = 0\n",
    "                        torch.save(model.state_dict(),\n",
    "                                   \"./model/seq2seq_DPA_AAE_state_dict.pt\")\n",
    "                        valid_loss_min = np.mean(valid_losses)\n",
    "            scheduler.step()\n",
    "        if valid_loss_min < mse_thresh:\n",
    "            break\n",
    "    return model, train_loss_list, valid_loss_list"
   ]
  },
  {
   "cell_type": "markdown",
   "id": "64cb8fc2",
   "metadata": {},
   "source": [
    "## test results"
   ]
  },
  {
   "cell_type": "code",
   "execution_count": 18,
   "id": "978a8b73",
   "metadata": {
    "ExecuteTime": {
     "end_time": "2022-01-09T07:42:29.167015Z",
     "start_time": "2022-01-09T07:42:29.149083Z"
    },
    "code_folding": []
   },
   "outputs": [],
   "source": [
    "def test_model(model, test_x, test_y, scaler_y, seq_len, target_len,\n",
    "               batch_size):\n",
    "    test_dataset = TensorDataset(torch.FloatTensor(test_x),\n",
    "                                 torch.FloatTensor(test_y))\n",
    "    test_loader = DataLoader(dataset=test_dataset,\n",
    "                             batch_size=batch_size,\n",
    "                             shuffle=False,\n",
    "                             drop_last=True)\n",
    "    model.load_state_dict(torch.load('./model/seq2seq_DPA_AAE_state_dict.pt'))\n",
    "    y_pred = []\n",
    "    y_true = []\n",
    "    with torch.no_grad():\n",
    "        model.eval()\n",
    "        for inputs, labels in test_loader:\n",
    "            inputs = inputs.to(device)\n",
    "            labels = labels.to(device)\n",
    "            encoder_inputs = inputs\n",
    "            decoder_inputs = torch.cat((inputs[:, -1:, :], labels[:, :-1, :]),\n",
    "                                       dim=1)\n",
    "            outputs = model(encoder_inputs, decoder_inputs)\n",
    "            y_pred += outputs.cpu().numpy().flatten().tolist()\n",
    "            y_true += labels[:, :, -1].cpu().numpy().flatten().tolist()\n",
    "    y_pred = np.array(y_pred).reshape(-1, 1)\n",
    "    y_true = np.array(y_true).reshape(-1, 1)\n",
    "    #     pdb.set_trace()\n",
    "    load_pred = scaler_y.inverse_transform(y_pred)\n",
    "    load_true = scaler_y.inverse_transform(y_true)\n",
    "    mean_pred = np.mean(load_pred)\n",
    "    mean_true = np.mean(load_true)\n",
    "    MAPE = np.mean(np.abs(load_true - load_pred) / load_true)\n",
    "    SMAPE = 2 * np.mean(\n",
    "        np.abs(load_true - load_pred) / (load_true + load_pred))\n",
    "    MAE = np.mean(np.abs(load_true - load_pred))\n",
    "    RMSE = np.sqrt(np.mean(np.square(load_true - load_pred)))\n",
    "    RRSE = np.sqrt(np.sum(np.square(load_true - load_pred))) / np.sqrt(\n",
    "        np.sum(np.square(load_true - mean_true)))\n",
    "    CORR = np.mean(\n",
    "        np.sum((load_true - mean_true) * (load_pred - mean_pred)) /\n",
    "        np.sqrt(np.sum(\n",
    "            (load_true - mean_true)**2 * (load_pred - mean_pred)**2)))\n",
    "    return MAPE, SMAPE, MAE, RMSE, RRSE, CORR, load_pred, load_true"
   ]
  },
  {
   "cell_type": "markdown",
   "id": "75c46ae7",
   "metadata": {},
   "source": [
    "## run model retraining"
   ]
  },
  {
   "cell_type": "code",
   "execution_count": 21,
   "id": "f1770307",
   "metadata": {
    "ExecuteTime": {
     "end_time": "2022-01-09T07:57:07.215539Z",
     "start_time": "2022-01-09T07:57:07.197173Z"
    }
   },
   "outputs": [],
   "source": [
    "def run_model_retraining(seq_len=seq_len,\n",
    "                         target_len=target_len,\n",
    "                         mse_thresh=mse_thresh):\n",
    "    train_data = data[:int(0.8 * len(data))]\n",
    "    train_data, scaler, scaler_y = normalization(train_data)\n",
    "    train_x, train_y = series_to_supervise(train_data, seq_len, target_len)\n",
    "\n",
    "    valid_x = train_x[int(0.8 * len(train_x)):]\n",
    "    valid_y = train_y[int(0.8 * len(train_y)):]\n",
    "    train_x = train_x[:int(0.8 * len(train_x))]\n",
    "    train_y = train_y[:int(0.8 * len(train_y))]\n",
    "    input_size = train_x.shape[2]\n",
    "\n",
    "    #     hyper-parameters define\n",
    "    batch_size = 256\n",
    "    lr = 0.01\n",
    "    number_epoch = 80\n",
    "    hidden_dim = 64\n",
    "    n_layers = 2\n",
    "    drop_prob = 0.5\n",
    "    weight_decay = 0\n",
    "    mse_thresh = 0.01\n",
    "\n",
    "    model, train_loss_list, valid_loss_list = train_model(\n",
    "        train_x, train_y, valid_x, valid_y, input_size, seq_len, target_len,\n",
    "        mse_thresh, hidden_dim, n_layers, number_epoch, batch_size, lr,\n",
    "        drop_prob, weight_decay)\n",
    "\n",
    "    # plot training process\n",
    "    plt.plot(train_loss_list[10:], 'm', label='train_loss')\n",
    "    plt.plot(valid_loss_list[10:], 'g', label='valid_loss')\n",
    "    plt.grid('both')\n",
    "    plt.legend()\n",
    "    # test\n",
    "\n",
    "    test_data = data[int(0.8 * len(data)):]\n",
    "    test_data = scaler.transform(test_data)\n",
    "    test_x, test_y = series_to_supervise(test_data, seq_len, target_len)\n",
    "    MAPE, SMAPE, MAE, RMSE, RRSE, CORR, load_pred, load_true = test_model(\n",
    "        model, test_x, test_y, scaler_y, seq_len, target_len, batch_size)\n",
    "    return MAPE, SMAPE, MAE, RMSE, RRSE, CORR, load_pred, load_true"
   ]
  },
  {
   "cell_type": "code",
   "execution_count": 22,
   "id": "e9c3e349",
   "metadata": {
    "ExecuteTime": {
     "end_time": "2022-01-09T08:09:18.394148Z",
     "start_time": "2022-01-09T07:57:09.650152Z"
    },
    "scrolled": false
   },
   "outputs": [
    {
     "name": "stdout",
     "output_type": "stream",
     "text": [
      "supervised data: shape of x: (25232, 72, 16), shape of y: (25232, 24, 16)\n"
     ]
    },
    {
     "name": "stderr",
     "output_type": "stream",
     "text": [
      "Epoch: 1/80...: 100%|███████| 78/78 [00:09<00:00,  8.64it/s, train_loss=0.00474, valid_loss=0.00588]\n",
      "Epoch: 2/80...: 100%|████████| 78/78 [00:08<00:00,  8.81it/s, train_loss=0.00293, valid_loss=0.0026]\n",
      "Epoch: 3/80...: 100%|███████| 78/78 [00:08<00:00,  8.70it/s, train_loss=0.00132, valid_loss=0.00213]\n",
      "Epoch: 4/80...: 100%|███████| 78/78 [00:08<00:00,  8.79it/s, train_loss=0.00107, valid_loss=0.00164]\n",
      "Epoch: 5/80...: 100%|███████| 78/78 [00:09<00:00,  8.64it/s, train_loss=0.00104, valid_loss=0.00159]\n",
      "Epoch: 6/80...: 100%|██████| 78/78 [00:08<00:00,  8.73it/s, train_loss=0.000931, valid_loss=0.00171]\n",
      "Epoch: 7/80...: 100%|██████| 78/78 [00:09<00:00,  8.58it/s, train_loss=0.000692, valid_loss=0.00108]\n",
      "Epoch: 8/80...: 100%|█████| 78/78 [00:09<00:00,  8.65it/s, train_loss=0.000582, valid_loss=0.000921]\n",
      "Epoch: 9/80...: 100%|█████| 78/78 [00:08<00:00,  8.70it/s, train_loss=0.000579, valid_loss=0.000725]\n",
      "Epoch: 10/80...: 100%|████| 78/78 [00:08<00:00,  8.68it/s, train_loss=0.000728, valid_loss=0.000642]\n",
      "Epoch: 11/80...: 100%|█████| 78/78 [00:08<00:00,  8.76it/s, train_loss=0.00055, valid_loss=0.000627]\n",
      "Epoch: 12/80...: 100%|████| 78/78 [00:09<00:00,  8.55it/s, train_loss=0.000586, valid_loss=0.000692]\n",
      "Epoch: 13/80...: 100%|████| 78/78 [00:08<00:00,  8.83it/s, train_loss=0.000357, valid_loss=0.000477]\n",
      "Epoch: 14/80...: 100%|████| 78/78 [00:09<00:00,  8.49it/s, train_loss=0.000335, valid_loss=0.000493]\n",
      "Epoch: 15/80...: 100%|████| 78/78 [00:09<00:00,  8.55it/s, train_loss=0.000298, valid_loss=0.000449]\n",
      "Epoch: 16/80...: 100%|████| 78/78 [00:09<00:00,  8.49it/s, train_loss=0.000337, valid_loss=0.000635]\n",
      "Epoch: 17/80...: 100%|████| 78/78 [00:09<00:00,  8.63it/s, train_loss=0.000423, valid_loss=0.000586]\n",
      "Epoch: 18/80...: 100%|████| 78/78 [00:09<00:00,  8.62it/s, train_loss=0.000317, valid_loss=0.000554]\n",
      "Epoch: 19/80...: 100%|████| 78/78 [00:09<00:00,  8.65it/s, train_loss=0.000274, valid_loss=0.000575]\n",
      "Epoch: 20/80...: 100%|█████| 78/78 [00:09<00:00,  8.66it/s, train_loss=0.000286, valid_loss=0.00041]\n",
      "Epoch: 21/80...: 100%|████| 78/78 [00:09<00:00,  8.65it/s, train_loss=0.000326, valid_loss=0.000388]\n",
      "Epoch: 22/80...: 100%|████| 78/78 [00:09<00:00,  8.56it/s, train_loss=0.000341, valid_loss=0.000549]\n",
      "Epoch: 23/80...: 100%|████| 78/78 [00:09<00:00,  8.59it/s, train_loss=0.000403, valid_loss=0.000546]\n",
      "Epoch: 24/80...: 100%|█████| 78/78 [00:09<00:00,  8.57it/s, train_loss=0.000339, valid_loss=0.00058]\n",
      "Epoch: 25/80...: 100%|████| 78/78 [00:09<00:00,  8.61it/s, train_loss=0.000252, valid_loss=0.000526]\n",
      "Epoch: 26/80...: 100%|████| 78/78 [00:09<00:00,  8.53it/s, train_loss=0.000234, valid_loss=0.000415]\n",
      "Epoch: 27/80...: 100%|████| 78/78 [00:09<00:00,  8.58it/s, train_loss=0.000313, valid_loss=0.000508]\n",
      "Epoch: 28/80...: 100%|████| 78/78 [00:09<00:00,  8.65it/s, train_loss=0.000238, valid_loss=0.000501]\n",
      "Epoch: 29/80...: 100%|█████| 78/78 [00:09<00:00,  8.48it/s, train_loss=0.00031, valid_loss=0.000591]\n",
      "Epoch: 30/80...: 100%|████| 78/78 [00:09<00:00,  8.62it/s, train_loss=0.000241, valid_loss=0.000529]\n",
      "Epoch: 31/80...: 100%|█████| 78/78 [00:09<00:00,  8.53it/s, train_loss=0.000201, valid_loss=0.00041]\n",
      "Epoch: 32/80...: 100%|████| 78/78 [00:09<00:00,  8.56it/s, train_loss=0.000213, valid_loss=0.000517]\n",
      "Epoch: 33/80...: 100%|████| 78/78 [00:09<00:00,  8.50it/s, train_loss=0.000226, valid_loss=0.000439]\n",
      "Epoch: 34/80...: 100%|████| 78/78 [00:09<00:00,  8.56it/s, train_loss=0.000217, valid_loss=0.000448]\n",
      "Epoch: 35/80...: 100%|████| 78/78 [00:09<00:00,  8.41it/s, train_loss=0.000239, valid_loss=0.000686]\n",
      "Epoch: 36/80...: 100%|█████| 78/78 [00:09<00:00,  8.57it/s, train_loss=0.000213, valid_loss=0.00044]\n",
      "Epoch: 37/80...: 100%|████| 78/78 [00:09<00:00,  8.53it/s, train_loss=0.000174, valid_loss=0.000527]\n",
      "Epoch: 38/80...: 100%|████| 78/78 [00:09<00:00,  8.54it/s, train_loss=0.000279, valid_loss=0.000459]\n",
      "Epoch: 39/80...: 100%|█████| 78/78 [00:09<00:00,  8.49it/s, train_loss=0.000253, valid_loss=0.00056]\n",
      "Epoch: 40/80...: 100%|████| 78/78 [00:09<00:00,  8.48it/s, train_loss=0.000174, valid_loss=0.000547]\n",
      "Epoch: 41/80...: 100%|████| 78/78 [00:09<00:00,  8.64it/s, train_loss=0.000264, valid_loss=0.000479]\n",
      "Epoch: 42/80...: 100%|████| 78/78 [00:09<00:00,  8.54it/s, train_loss=0.000204, valid_loss=0.000447]\n",
      "Epoch: 43/80...: 100%|████| 78/78 [00:09<00:00,  8.54it/s, train_loss=0.000186, valid_loss=0.000521]\n",
      "Epoch: 44/80...: 100%|█████| 78/78 [00:09<00:00,  8.57it/s, train_loss=0.00033, valid_loss=0.000536]\n",
      "Epoch: 45/80...: 100%|██████| 78/78 [00:09<00:00,  8.62it/s, train_loss=0.0002, valid_loss=0.000545]\n",
      "Epoch: 46/80...: 100%|████| 78/78 [00:09<00:00,  8.62it/s, train_loss=0.000276, valid_loss=0.000557]\n",
      "Epoch: 47/80...: 100%|████| 78/78 [00:09<00:00,  8.65it/s, train_loss=0.000215, valid_loss=0.000572]\n",
      "Epoch: 48/80...: 100%|█████| 78/78 [00:09<00:00,  8.49it/s, train_loss=0.000198, valid_loss=0.00052]\n",
      "Epoch: 49/80...: 100%|████| 78/78 [00:09<00:00,  8.55it/s, train_loss=0.000189, valid_loss=0.000548]\n",
      "Epoch: 50/80...: 100%|████| 78/78 [00:09<00:00,  8.55it/s, train_loss=0.000165, valid_loss=0.000437]\n",
      "Epoch: 51/80...: 100%|████| 78/78 [00:08<00:00,  8.75it/s, train_loss=0.000165, valid_loss=0.000428]\n",
      "Epoch: 52/80...: 100%|████| 78/78 [00:08<00:00,  8.70it/s, train_loss=0.000166, valid_loss=0.000496]\n",
      "Epoch: 53/80...: 100%|█████| 78/78 [00:09<00:00,  8.64it/s, train_loss=0.00018, valid_loss=0.000442]\n",
      "Epoch: 54/80...: 100%|████| 78/78 [00:09<00:00,  8.51it/s, train_loss=0.000156, valid_loss=0.000435]\n",
      "Epoch: 55/80...: 100%|████| 78/78 [00:09<00:00,  8.55it/s, train_loss=0.000196, valid_loss=0.000598]\n",
      "Epoch: 56/80...: 100%|████| 78/78 [00:09<00:00,  8.62it/s, train_loss=0.000217, valid_loss=0.000589]\n",
      "Epoch: 57/80...: 100%|█████| 78/78 [00:09<00:00,  8.44it/s, train_loss=0.00017, valid_loss=0.000513]\n",
      "Epoch: 58/80...: 100%|████| 78/78 [00:09<00:00,  8.65it/s, train_loss=0.000165, valid_loss=0.000453]\n",
      "Epoch: 59/80...: 100%|████| 78/78 [00:09<00:00,  8.50it/s, train_loss=0.000136, valid_loss=0.000454]\n",
      "Epoch: 60/80...: 100%|█████| 78/78 [00:09<00:00,  8.59it/s, train_loss=0.00014, valid_loss=0.000507]\n",
      "Epoch: 61/80...: 100%|█████| 78/78 [00:09<00:00,  8.45it/s, train_loss=0.000145, valid_loss=0.00043]\n",
      "Epoch: 62/80...: 100%|████| 78/78 [00:09<00:00,  8.60it/s, train_loss=0.000141, valid_loss=0.000417]\n",
      "Epoch: 63/80...: 100%|████| 78/78 [00:09<00:00,  8.50it/s, train_loss=0.000142, valid_loss=0.000459]\n",
      "Epoch: 64/80...: 100%|█████| 78/78 [00:09<00:00,  8.55it/s, train_loss=0.00017, valid_loss=0.000429]\n",
      "Epoch: 65/80...: 100%|█████| 78/78 [00:09<00:00,  8.62it/s, train_loss=0.00015, valid_loss=0.000459]\n",
      "Epoch: 66/80...: 100%|████| 78/78 [00:09<00:00,  8.48it/s, train_loss=0.000125, valid_loss=0.000473]\n",
      "Epoch: 67/80...: 100%|████| 78/78 [00:09<00:00,  8.62it/s, train_loss=0.000132, valid_loss=0.000473]\n",
      "Epoch: 68/80...: 100%|██████| 78/78 [00:09<00:00,  8.55it/s, train_loss=0.00015, valid_loss=0.00046]\n",
      "Epoch: 69/80...: 100%|█████| 78/78 [00:09<00:00,  8.48it/s, train_loss=0.00015, valid_loss=0.000483]\n",
      "Epoch: 70/80...: 100%|████| 78/78 [00:09<00:00,  8.52it/s, train_loss=0.000145, valid_loss=0.000607]\n",
      "Epoch: 71/80...: 100%|████| 78/78 [00:09<00:00,  8.47it/s, train_loss=0.000132, valid_loss=0.000503]\n",
      "Epoch: 72/80...: 100%|████| 78/78 [00:09<00:00,  8.47it/s, train_loss=0.000169, valid_loss=0.000554]\n",
      "Epoch: 73/80...: 100%|████| 78/78 [00:08<00:00,  8.80it/s, train_loss=0.000132, valid_loss=0.000453]\n",
      "Epoch: 74/80...: 100%|████| 78/78 [00:08<00:00,  8.86it/s, train_loss=0.000131, valid_loss=0.000478]\n",
      "Epoch: 75/80...: 100%|████| 78/78 [00:08<00:00,  8.93it/s, train_loss=0.000131, valid_loss=0.000531]\n",
      "Epoch: 76/80...: 100%|████| 78/78 [00:08<00:00,  8.80it/s, train_loss=0.000128, valid_loss=0.000541]\n",
      "Epoch: 77/80...: 100%|████| 78/78 [00:08<00:00,  8.73it/s, train_loss=0.000167, valid_loss=0.000497]\n",
      "Epoch: 78/80...: 100%|█████| 78/78 [00:08<00:00,  8.76it/s, train_loss=0.000117, valid_loss=0.00048]\n",
      "Epoch: 79/80...: 100%|█████| 78/78 [00:08<00:00,  8.68it/s, train_loss=0.000109, valid_loss=0.00052]\n",
      "Epoch: 80/80...: 100%|████| 78/78 [00:09<00:00,  8.52it/s, train_loss=0.000141, valid_loss=0.000512]\n"
     ]
    },
    {
     "name": "stdout",
     "output_type": "stream",
     "text": [
      "supervised data: shape of x: (6237, 72, 16), shape of y: (6237, 24, 16)\n",
      "MAPE:0.023190,SMAPE:0.023056,MAE:281.805870,RMSE:376.635932,RRSE:0.116922,CORR:257.250294\n"
     ]
    },
    {
     "data": {
      "image/png": "[encoded data removed]",
      "text/plain": [
       "<Figure size 432x288 with 1 Axes>"
      ]
     },
     "metadata": {
      "needs_background": "light"
     },
     "output_type": "display_data"
    }
   ],
   "source": [
    "random_seed_set(42)\n",
    "MAPE, SMAPE, MAE, RMSE, RRSE, CORR, load_pred, load_true = run_model_retraining()\n",
    "print('MAPE:{:.6f},SMAPE:{:.6f},MAE:{:.6f},RMSE:{:.6f},RRSE:{:.6f},CORR:{:.6f}'.format(MAPE, SMAPE, MAE, RMSE, RRSE, CORR))"
   ]
  },
  {
   "cell_type": "code",
   "execution_count": 23,
   "id": "86bd05c1",
   "metadata": {
    "ExecuteTime": {
     "end_time": "2022-01-09T08:11:44.868126Z",
     "start_time": "2022-01-09T08:11:44.857097Z"
    }
   },
   "outputs": [
    {
     "name": "stdout",
     "output_type": "stream",
     "text": [
      "MAPE:0.023190,SMAPE:0.023056,MAE:281.805870,RMSE:376.635932,RRSE:0.116922,CORR:257.250294\n"
     ]
    }
   ],
   "source": [
    "print('MAPE:{:.6f},SMAPE:{:.6f},MAE:{:.6f},RMSE:{:.6f},RRSE:{:.6f},CORR:{:.6f}'.format(MAPE, SMAPE, MAE, RMSE, RRSE, CORR))"
   ]
  },
  {
   "cell_type": "markdown",
   "id": "7aa7590f",
   "metadata": {},
   "source": [
    "## figure plot"
   ]
  },
  {
   "cell_type": "code",
   "execution_count": 28,
   "id": "51226973",
   "metadata": {
    "ExecuteTime": {
     "end_time": "2022-01-05T10:41:48.177257Z",
     "start_time": "2022-01-05T10:41:48.021880Z"
    }
   },
   "outputs": [
    {
     "data": {
      "text/plain": [
       "(0.0, 19543.948566319108)"
      ]
     },
     "execution_count": 28,
     "metadata": {},
     "output_type": "execute_result"
    },
    {
     "data": {
      "image/png": "[encoded data removed]",
      "text/plain": [
       "<Figure size 1440x720 with 1 Axes>"
      ]
     },
     "metadata": {
      "needs_background": "light"
     },
     "output_type": "display_data"
    }
   ],
   "source": [
    "plt.figure(figsize=(20, 10))\n",
    "load_pred = load_pred.reshape(-1, 24)\n",
    "load_true = load_true.reshape(-1, 24)\n",
    "plt.plot(load_pred[:240, 0], 'm')\n",
    "plt.plot(load_true[:240, 0], 'g')\n",
    "plt.ylim(ymin=0)"
   ]
  }
 ],
 "metadata": {
  "kernelspec": {
   "display_name": "Python 3 (ipykernel)",
   "language": "python",
   "name": "python3"
  },
  "language_info": {
   "codemirror_mode": {
    "name": "ipython",
    "version": 3
   },
   "file_extension": ".py",
   "mimetype": "text/x-python",
   "name": "python",
   "nbconvert_exporter": "python",
   "pygments_lexer": "ipython3",
   "version": "3.8.12"
  },
  "toc": {
   "base_numbering": 1,
   "nav_menu": {},
   "number_sections": true,
   "sideBar": true,
   "skip_h1_title": false,
   "title_cell": "Table of Contents",
   "title_sidebar": "Contents",
   "toc_cell": false,
   "toc_position": {
    "height": "calc(100% - 180px)",
    "left": "10px",
    "top": "150px",
    "width": "374.375px"
   },
   "toc_section_display": true,
   "toc_window_display": true
  },
  "varInspector": {
   "cols": {
    "lenName": 16,
    "lenType": 16,
    "lenVar": 40
   },
   "kernels_config": {
    "python": {
     "delete_cmd_postfix": "",
     "delete_cmd_prefix": "del ",
     "library": "var_list.py",
     "varRefreshCmd": "print(var_dic_list())"
    },
    "r": {
     "delete_cmd_postfix": ") ",
     "delete_cmd_prefix": "rm(",
     "library": "var_list.r",
     "varRefreshCmd": "cat(var_dic_list()) "
    }
   },
   "types_to_exclude": [
    "module",
    "function",
    "builtin_function_or_method",
    "instance",
    "_Feature"
   ],
   "window_display": false
  }
 },
 "nbformat": 4,
 "nbformat_minor": 5
}
