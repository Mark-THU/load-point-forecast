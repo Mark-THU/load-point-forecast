{
 "cells": [
  {
   "cell_type": "markdown",
   "id": "f136fbae",
   "metadata": {},
   "source": [
    "# BiLSTM for forecast"
   ]
  },
  {
   "cell_type": "code",
   "execution_count": 1,
   "id": "0f020743",
   "metadata": {
    "ExecuteTime": {
     "end_time": "2021-12-29T11:45:32.394618Z",
     "start_time": "2021-12-29T11:45:31.324800Z"
    }
   },
   "outputs": [],
   "source": [
    "import pandas as pd\n",
    "import numpy as np\n",
    "import matplotlib.pyplot as plt\n",
    "import pdb\n",
    "import torch\n",
    "import torch.nn as nn\n",
    "import random\n",
    "\n",
    "from sklearn.preprocessing import MinMaxScaler\n",
    "from sklearn.model_selection import train_test_split, TimeSeriesSplit\n",
    "from torch.autograd import Variable\n",
    "from torch.utils.data import TensorDataset, DataLoader\n",
    "from tqdm import tqdm\n",
    "from xgboost import XGBRegressor\n",
    "\n",
    "np.random.seed(0)\n",
    "torch.cuda.manual_seed(0)\n",
    "torch.manual_seed(0)\n",
    "if torch.cuda.is_available():  \n",
    "    dev = \"cuda:0\" \n",
    "else:  \n",
    "    dev = \"cpu\"\n",
    "device = torch.device(dev)"
   ]
  },
  {
   "cell_type": "markdown",
   "id": "bfcfdc41",
   "metadata": {},
   "source": [
    "## load data"
   ]
  },
  {
   "cell_type": "code",
   "execution_count": 2,
   "id": "d604fbd4",
   "metadata": {
    "ExecuteTime": {
     "end_time": "2021-12-29T11:45:32.454153Z",
     "start_time": "2021-12-29T11:45:32.397678Z"
    }
   },
   "outputs": [],
   "source": [
    "url = '../data/beijing.csv'\n",
    "data = pd.read_csv(url, sep=',', index_col='time')\n",
    "data.index = pd.to_datetime(data.index)"
   ]
  },
  {
   "cell_type": "markdown",
   "id": "44e1a6dc",
   "metadata": {},
   "source": [
    "## normalization"
   ]
  },
  {
   "cell_type": "code",
   "execution_count": 3,
   "id": "30dd4f9c",
   "metadata": {
    "ExecuteTime": {
     "end_time": "2021-12-29T11:45:32.458981Z",
     "start_time": "2021-12-29T11:45:32.456007Z"
    }
   },
   "outputs": [],
   "source": [
    "def normalization(data):\n",
    "    \"\"\"\n",
    "    data: original data with load\n",
    "    return: normalized data, scaler of load\n",
    "    \"\"\"\n",
    "    scaler = MinMaxScaler()\n",
    "    normalized_data = scaler.fit_transform(data)\n",
    "    scaler_y = MinMaxScaler()\n",
    "    scaler_y.fit_transform(data[[data.columns[-1]]])\n",
    "    return normalized_data, scaler, scaler_y"
   ]
  },
  {
   "cell_type": "markdown",
   "id": "5c007ed9",
   "metadata": {
    "ExecuteTime": {
     "end_time": "2021-12-22T07:45:44.192666Z",
     "start_time": "2021-12-22T07:45:44.188985Z"
    }
   },
   "source": [
    "## build supervised dataset"
   ]
  },
  {
   "cell_type": "code",
   "execution_count": 4,
   "id": "bdb0ff9a",
   "metadata": {
    "ExecuteTime": {
     "end_time": "2021-12-29T11:45:32.464023Z",
     "start_time": "2021-12-29T11:45:32.460464Z"
    }
   },
   "outputs": [],
   "source": [
    "def series_to_supervise(data, seq_len, target_len):\n",
    "    \"\"\"\n",
    "    convert series data to supervised data\n",
    "    :param data: original data\n",
    "    :param seq_len: length of input sequence\n",
    "    :param target_len: length of ouput sequence\n",
    "    :return: return two ndarrays-- input and output in format suitable to feed to LSTM\n",
    "    \"\"\"\n",
    "    dim_0 = data.shape[0] - seq_len - target_len + 1\n",
    "    dim_1 = data.shape[1]\n",
    "    x = np.zeros((dim_0, seq_len, dim_1))\n",
    "    y = np.zeros((dim_0, target_len))\n",
    "    for i in range(dim_0):\n",
    "        x[i] = data[i:i + seq_len]\n",
    "        y[i] = data[i + seq_len:i + seq_len + target_len, -1]\n",
    "    print(\"supervised data: shape of x: {}, shape of y: {}\".format(x.shape, y.shape))\n",
    "    return x, y"
   ]
  },
  {
   "cell_type": "markdown",
   "id": "29d78127",
   "metadata": {},
   "source": [
    "## 5-folds TimeSeriesSplit"
   ]
  },
  {
   "cell_type": "code",
   "execution_count": 5,
   "id": "dabff125",
   "metadata": {
    "ExecuteTime": {
     "end_time": "2021-12-29T11:45:32.474005Z",
     "start_time": "2021-12-29T11:45:32.466740Z"
    }
   },
   "outputs": [],
   "source": [
    "def time_series_split(X, Y, n_split=5):\n",
    "    \"\"\"\n",
    "    X: features, size * seq_len * feature_num\n",
    "    Y: labels, size * target_len\n",
    "    return: list of train_x, test_x, train_y, test_y\n",
    "    \"\"\"\n",
    "    tscv = TimeSeriesSplit(n_splits=n_split)\n",
    "    train_x_list = list()\n",
    "    valid_x_list = list()\n",
    "    train_y_list = list()\n",
    "    valid_y_list = list()\n",
    "    for train_index, valid_index in tscv.split(X):\n",
    "        train_x_list.append(X[train_index])\n",
    "        train_y_list.append(Y[train_index])\n",
    "        valid_x_list.append(X[valid_index])\n",
    "        valid_y_list.append(Y[valid_index])\n",
    "    return train_x_list, train_y_list, valid_x_list, valid_y_list"
   ]
  },
  {
   "cell_type": "markdown",
   "id": "28c87231",
   "metadata": {},
   "source": [
    "## BiLSTM model"
   ]
  },
  {
   "cell_type": "code",
   "execution_count": 6,
   "id": "7fa59c44",
   "metadata": {
    "ExecuteTime": {
     "end_time": "2021-12-29T11:45:32.494417Z",
     "start_time": "2021-12-29T11:45:32.476829Z"
    }
   },
   "outputs": [
    {
     "data": {
      "text/plain": [
       "\"\\n# pytorch nn.LSTM's input default to zeros if (h_0, c_0) is not provided.\\n    def init_hidden(self, batch_size):\\n        hidden = (torch.zeros(self.n_layers * 2, batch_size,\\n                              self.hidden_dim).to(device),\\n                  torch.zeros(self.n_layers * 2, batch_size,\\n                              self.hidden_dim).to(device))\\n        return hidden\\n\""
      ]
     },
     "execution_count": 6,
     "metadata": {},
     "output_type": "execute_result"
    }
   ],
   "source": [
    "class BiLSTM(nn.Module):\n",
    "    def __init__(self, input_size, output_size, hidden_dim, n_layers,\n",
    "                 drop_prob):\n",
    "        super(BiLSTM, self).__init__()\n",
    "        # model parameters\n",
    "        self.hidden_dim = hidden_dim\n",
    "        self.n_layers = n_layers\n",
    "        self.output_size = output_size\n",
    "        # layes\n",
    "        self.lstm = nn.LSTM(input_size=input_size,\n",
    "                            hidden_size=hidden_dim,\n",
    "                            num_layers=n_layers,\n",
    "                            batch_first=True,\n",
    "                            dropout=drop_prob,\n",
    "                            bidirectional=True)\n",
    "        self.fc = nn.Sequential()\n",
    "        \n",
    "        input_size = hidden_dim * 2\n",
    "        i = 0\n",
    "        while (input_size > 8):\n",
    "            self.fc.add_module('linear{}'.format(i), nn.Linear(input_size, round(input_size / 2)))\n",
    "            self.fc.add_module('relu{}'.format(i), nn.ReLU())\n",
    "            input_size = round(input_size / 2)\n",
    "            i += 1\n",
    "        self.fc.add_module('linear{}'.format(i), nn.Linear(input_size, 1))\n",
    "\n",
    "    # predict using outputs of the last 24 steps\n",
    "    def forward(self, x):\n",
    "\n",
    "        lstm_out, hidden = self.lstm(x)\n",
    "        lstm_out = lstm_out[:, -self.output_size:, :]\n",
    "\n",
    "        out = self.fc(lstm_out)\n",
    "\n",
    "        out = out.reshape(x.shape[0], -1)\n",
    "\n",
    "        return out\n",
    "\n",
    "\n",
    "\"\"\"\n",
    "# pytorch nn.LSTM's input default to zeros if (h_0, c_0) is not provided.\n",
    "    def init_hidden(self, batch_size):\n",
    "        hidden = (torch.zeros(self.n_layers * 2, batch_size,\n",
    "                              self.hidden_dim).to(device),\n",
    "                  torch.zeros(self.n_layers * 2, batch_size,\n",
    "                              self.hidden_dim).to(device))\n",
    "        return hidden\n",
    "\"\"\""
   ]
  },
  {
   "cell_type": "markdown",
   "id": "717a4ea1",
   "metadata": {
    "ExecuteTime": {
     "end_time": "2021-12-22T08:30:19.661769Z",
     "start_time": "2021-12-22T08:30:19.656770Z"
    }
   },
   "source": [
    "## model training for HPO"
   ]
  },
  {
   "cell_type": "code",
   "execution_count": 7,
   "id": "3c35c8ef",
   "metadata": {
    "ExecuteTime": {
     "end_time": "2021-12-29T11:45:32.513910Z",
     "start_time": "2021-12-29T11:45:32.496840Z"
    }
   },
   "outputs": [],
   "source": [
    "def train_model_hpo(train_x_list, train_y_list, valid_x_list, valid_y_list,\n",
    "                    input_size, output_size, mse_thresh, batch_size, lr,\n",
    "                    number_epoch, hidden_dim, n_layers, drop_prob, weight_decay):\n",
    "    valid_loss_list = []\n",
    "    for num in range(len(train_x_list)):\n",
    "        while (1):\n",
    "            model = BiLSTM(input_size, output_size, hidden_dim, n_layers,\n",
    "                           drop_prob)\n",
    "            model.to(device=device)\n",
    "            criterion = nn.MSELoss()\n",
    "            optimizer = torch.optim.Adam(model.parameters(), lr=lr, weight_decay=weight_decay)\n",
    "            scheduler = torch.optim.lr_scheduler.StepLR(optimizer, 1, gamma=0.98)\n",
    "            valid_loss_min = np.Inf\n",
    "            print('cross-validation dataset {}'.format(num))\n",
    "            train_x = train_x_list[num]\n",
    "            train_y = train_y_list[num]\n",
    "            valid_x = valid_x_list[num]\n",
    "            valid_y = valid_y_list[num]\n",
    "            train_dataset = TensorDataset(torch.FloatTensor(train_x),\n",
    "                                          torch.FloatTensor(train_y))\n",
    "            valid_dataset = TensorDataset(torch.FloatTensor(valid_x),\n",
    "                                          torch.FloatTensor(valid_y))\n",
    "            train_loader = DataLoader(dataset=train_dataset,\n",
    "                                      batch_size=batch_size,\n",
    "                                      shuffle=True,\n",
    "                                      drop_last=False)\n",
    "            valid_loader = DataLoader(dataset=valid_dataset,\n",
    "                                      batch_size=batch_size,\n",
    "                                      shuffle=True,\n",
    "                                      drop_last=False)\n",
    "            num_without_imp = 0\n",
    "            # training process\n",
    "            for epoch in range(1, number_epoch + 1):\n",
    "                loop = tqdm(enumerate(train_loader),\n",
    "                            total=len(train_loader),\n",
    "                            leave=True)\n",
    "                for i, (inputs, labels) in loop:\n",
    "                    inputs = inputs.to(device=device)\n",
    "                    labels = labels.to(device=device)\n",
    "                    optimizer.zero_grad()\n",
    "                    outputs = model(inputs)\n",
    "                    loss = criterion(outputs, labels)\n",
    "                    loss.backward()\n",
    "                    optimizer.step()\n",
    "                    if i % 5 == 0:\n",
    "                        num_without_imp = num_without_imp + 1\n",
    "                        valid_losses = list()\n",
    "                        model.eval()\n",
    "                        for inp, lab in valid_loader:\n",
    "                            inp = inp.to(device)\n",
    "                            lab = lab.to(device)\n",
    "                            out = model(inp)\n",
    "                            valid_loss = criterion(out, lab)\n",
    "                            valid_losses.append(valid_loss.item())\n",
    "\n",
    "                        model.train()\n",
    "                        loop.set_description(\"Epoch: {}/{}\".format(\n",
    "                            epoch, number_epoch))\n",
    "                        loop.set_postfix(train_loss=loss.item(),\n",
    "                                         valid_loss=np.mean(valid_losses))\n",
    "                        if np.mean(valid_losses) < valid_loss_min:\n",
    "                            num_without_imp = 0\n",
    "                            valid_loss_min = np.mean(valid_losses)\n",
    "                scheduler.step()\n",
    "                if num_without_imp >= 50:\n",
    "#                     break\n",
    "                    pass\n",
    "            if valid_loss_min < mse_thresh:\n",
    "                valid_loss_list.append(valid_loss_min)\n",
    "                break\n",
    "    return np.mean(valid_loss_list)"
   ]
  },
  {
   "cell_type": "markdown",
   "id": "0ebbd931",
   "metadata": {},
   "source": [
    "## hyper-parameters config"
   ]
  },
  {
   "cell_type": "code",
   "execution_count": 8,
   "id": "20ee3309",
   "metadata": {
    "ExecuteTime": {
     "end_time": "2021-12-29T11:45:32.522595Z",
     "start_time": "2021-12-29T11:45:32.517307Z"
    }
   },
   "outputs": [],
   "source": [
    "seq_len = 72\n",
    "target_len = 24\n",
    "mse_thresh = 0.05\n",
    "\n",
    "\n",
    "def model_config():\n",
    "    batch_sizes = [256]\n",
    "    lrs = [0.01]\n",
    "    number_epochs = [30]\n",
    "    hidden_dims = [32, 64, 16]\n",
    "    n_layers = [2, 3]\n",
    "    drop_prob = [0]\n",
    "    weight_decays = [0]\n",
    "    configs = list()\n",
    "    for i in batch_sizes:\n",
    "        for j in lrs:\n",
    "            for k in number_epochs:\n",
    "                for l in hidden_dims:\n",
    "                    for m in n_layers:\n",
    "                        for n in drop_prob:\n",
    "                            for o in weight_decays:\n",
    "                                configs.append({\n",
    "                                    'batch_size': i,\n",
    "                                    'lr': j,\n",
    "                                    'number_epoch': k,\n",
    "                                    'hidden_dim': l,\n",
    "                                    'n_layers': m,\n",
    "                                    'drop_prob': n,\n",
    "                                    'weight_decay': o,\n",
    "                                })\n",
    "    return configs"
   ]
  },
  {
   "cell_type": "markdown",
   "id": "88abd2f2",
   "metadata": {},
   "source": [
    "## random search for HPO"
   ]
  },
  {
   "cell_type": "code",
   "execution_count": 9,
   "id": "9a5fdfa2",
   "metadata": {
    "ExecuteTime": {
     "end_time": "2021-12-29T11:45:32.532451Z",
     "start_time": "2021-12-29T11:45:32.525585Z"
    }
   },
   "outputs": [],
   "source": [
    "def run_model_hpo(seq_len=seq_len,\n",
    "                  target_len=target_len,\n",
    "                  mse_thresh=mse_thresh):\n",
    "    train_data = data[:int(0.8 * len(data))]\n",
    "    train_data, _, _ = normalization(train_data)\n",
    "    train_x, train_y = series_to_supervise(train_data, seq_len, target_len)\n",
    "    train_x_list, train_y_list, valid_x_list, valid_y_list = time_series_split(\n",
    "        train_x, train_y)\n",
    "    #     with enough data\n",
    "    train_x_list = train_x_list[-1:]\n",
    "    train_y_list = train_y_list[-1:]\n",
    "    valid_x_list = valid_x_list[-1:]\n",
    "    valid_y_list = valid_y_list[-1:]\n",
    "\n",
    "    configs = model_config()\n",
    "    records = []\n",
    "    input_size = train_x.shape[2]\n",
    "    output_size = target_len\n",
    "    for i in range(6):\n",
    "        config = random.choice(configs)\n",
    "        configs.remove(config)\n",
    "        batch_size = config['batch_size']\n",
    "        lr = config['lr']\n",
    "        number_epoch = config['number_epoch']\n",
    "        hidden_dim = config['hidden_dim']\n",
    "        n_layers = config['n_layers']\n",
    "        drop_prob = config['drop_prob']\n",
    "        weight_decay = config['weight_decay']\n",
    "        print(\n",
    "            \"model config: batch_size-{}, lr-{}, number_epoch-{}, hidden_dim-{}, n_layers-{},drop_prob-{},weight_decay-{}\"\n",
    "            .format(batch_size, lr, number_epoch, hidden_dim, n_layers,\n",
    "                    drop_prob, weight_decay))\n",
    "        valid_loss = train_model_hpo(train_x_list, train_y_list, valid_x_list,\n",
    "                                     valid_y_list, input_size, output_size,\n",
    "                                     mse_thresh, batch_size, lr, number_epoch,\n",
    "                                     hidden_dim, n_layers, drop_prob, weight_decay)\n",
    "        records.append({\n",
    "            'batch_size': batch_size,\n",
    "            'lr': lr,\n",
    "            'number_epoch': number_epoch,\n",
    "            'hidden_dim': hidden_dim,\n",
    "            'n_layers': n_layers,\n",
    "            'drop_prob': drop_prob,\n",
    "            'weight_decay': weight_decay,\n",
    "            'valid_loss': valid_loss\n",
    "        })\n",
    "    return records"
   ]
  },
  {
   "cell_type": "markdown",
   "id": "cdce3919",
   "metadata": {},
   "source": [
    "## run random search"
   ]
  },
  {
   "cell_type": "code",
   "execution_count": 37,
   "id": "255f4dd8",
   "metadata": {
    "ExecuteTime": {
     "end_time": "2021-12-29T11:12:37.699471Z",
     "start_time": "2021-12-29T11:01:42.591051Z"
    }
   },
   "outputs": [
    {
     "name": "stdout",
     "output_type": "stream",
     "text": [
      "supervised data: shape of x: (25232, 72, 16), shape of y: (25232, 24)\n",
      "model config: batch_size-256, lr-0.01, number_epoch-30, hidden_dim-16, n_layers-2,drop_prob-0,weight_decay-0\n",
      "cross-validation dataset 0\n"
     ]
    },
    {
     "name": "stderr",
     "output_type": "stream",
     "text": [
      "Epoch: 1/30: 100%|██████████| 83/83 [00:02<00:00, 28.87it/s, train_loss=0.00194, valid_loss=0.00331]\n",
      "Epoch: 2/30: 100%|██████████| 83/83 [00:02<00:00, 28.79it/s, train_loss=0.00204, valid_loss=0.00297]\n",
      "Epoch: 3/30: 100%|██████████| 83/83 [00:02<00:00, 27.91it/s, train_loss=0.00192, valid_loss=0.00371]\n",
      "Epoch: 4/30: 100%|██████████| 83/83 [00:02<00:00, 28.23it/s, train_loss=0.00184, valid_loss=0.00342]\n",
      "Epoch: 5/30: 100%|██████████| 83/83 [00:02<00:00, 28.90it/s, train_loss=0.00122, valid_loss=0.00269]\n",
      "Epoch: 6/30: 100%|██████████| 83/83 [00:02<00:00, 28.08it/s, train_loss=0.0015, valid_loss=0.0027]  \n",
      "Epoch: 7/30: 100%|██████████| 83/83 [00:02<00:00, 28.94it/s, train_loss=0.00101, valid_loss=0.00248]\n",
      "Epoch: 8/30: 100%|██████████| 83/83 [00:02<00:00, 28.28it/s, train_loss=0.00131, valid_loss=0.00255]\n",
      "Epoch: 9/30: 100%|██████████| 83/83 [00:02<00:00, 28.15it/s, train_loss=0.00119, valid_loss=0.00264] \n",
      "Epoch: 10/30: 100%|██████████| 83/83 [00:02<00:00, 28.70it/s, train_loss=0.00108, valid_loss=0.00262] \n",
      "Epoch: 11/30: 100%|██████████| 83/83 [00:02<00:00, 28.75it/s, train_loss=0.00102, valid_loss=0.00317] \n",
      "Epoch: 12/30: 100%|██████████| 83/83 [00:02<00:00, 28.00it/s, train_loss=0.000913, valid_loss=0.00291]\n",
      "Epoch: 13/30: 100%|██████████| 83/83 [00:02<00:00, 28.58it/s, train_loss=0.000845, valid_loss=0.00301]\n",
      "Epoch: 14/30: 100%|██████████| 83/83 [00:02<00:00, 28.71it/s, train_loss=0.00076, valid_loss=0.00289] \n",
      "Epoch: 15/30: 100%|██████████| 83/83 [00:02<00:00, 27.87it/s, train_loss=0.000772, valid_loss=0.003]  \n",
      "Epoch: 16/30: 100%|██████████| 83/83 [00:02<00:00, 28.39it/s, train_loss=0.000826, valid_loss=0.00316]\n",
      "Epoch: 17/30: 100%|██████████| 83/83 [00:02<00:00, 28.87it/s, train_loss=0.0006, valid_loss=0.00339]  \n",
      "Epoch: 18/30: 100%|██████████| 83/83 [00:02<00:00, 27.98it/s, train_loss=0.000624, valid_loss=0.00315]\n",
      "Epoch: 19/30: 100%|██████████| 83/83 [00:02<00:00, 29.02it/s, train_loss=0.00058, valid_loss=0.0031]  \n",
      "Epoch: 20/30: 100%|██████████| 83/83 [00:02<00:00, 28.10it/s, train_loss=0.000572, valid_loss=0.00346]\n",
      "Epoch: 21/30: 100%|██████████| 83/83 [00:02<00:00, 28.13it/s, train_loss=0.000512, valid_loss=0.00363]\n",
      "Epoch: 22/30: 100%|██████████| 83/83 [00:02<00:00, 28.59it/s, train_loss=0.00046, valid_loss=0.00317] \n",
      "Epoch: 23/30: 100%|██████████| 83/83 [00:02<00:00, 28.50it/s, train_loss=0.000477, valid_loss=0.00334]\n",
      "Epoch: 24/30: 100%|██████████| 83/83 [00:02<00:00, 27.90it/s, train_loss=0.000538, valid_loss=0.0033] \n",
      "Epoch: 25/30: 100%|██████████| 83/83 [00:02<00:00, 28.67it/s, train_loss=0.00037, valid_loss=0.00337] \n",
      "Epoch: 26/30: 100%|██████████| 83/83 [00:02<00:00, 28.45it/s, train_loss=0.000384, valid_loss=0.00334]\n",
      "Epoch: 27/30: 100%|██████████| 83/83 [00:02<00:00, 27.70it/s, train_loss=0.000341, valid_loss=0.00348]\n",
      "Epoch: 28/30: 100%|██████████| 83/83 [00:02<00:00, 28.65it/s, train_loss=0.000382, valid_loss=0.00337]\n",
      "Epoch: 29/30: 100%|██████████| 83/83 [00:02<00:00, 28.60it/s, train_loss=0.000544, valid_loss=0.00305]\n",
      "Epoch: 30/30: 100%|██████████| 83/83 [00:02<00:00, 27.94it/s, train_loss=0.000397, valid_loss=0.00339]\n"
     ]
    },
    {
     "name": "stdout",
     "output_type": "stream",
     "text": [
      "model config: batch_size-256, lr-0.01, number_epoch-30, hidden_dim-64, n_layers-3,drop_prob-0,weight_decay-0\n",
      "cross-validation dataset 0\n"
     ]
    },
    {
     "name": "stderr",
     "output_type": "stream",
     "text": [
      "Epoch: 1/30: 100%|██████████| 83/83 [00:04<00:00, 17.71it/s, train_loss=0.00233, valid_loss=0.00383]\n",
      "Epoch: 2/30: 100%|██████████| 83/83 [00:04<00:00, 17.78it/s, train_loss=0.00166, valid_loss=0.00298]\n",
      "Epoch: 3/30: 100%|██████████| 83/83 [00:04<00:00, 17.41it/s, train_loss=0.0017, valid_loss=0.003]   \n",
      "Epoch: 4/30: 100%|██████████| 83/83 [00:04<00:00, 17.78it/s, train_loss=0.00154, valid_loss=0.00252]\n",
      "Epoch: 5/30: 100%|██████████| 83/83 [00:04<00:00, 17.84it/s, train_loss=0.00121, valid_loss=0.00265]\n",
      "Epoch: 6/30: 100%|██████████| 83/83 [00:04<00:00, 17.53it/s, train_loss=0.00125, valid_loss=0.00229] \n",
      "Epoch: 7/30: 100%|██████████| 83/83 [00:04<00:00, 17.79it/s, train_loss=0.00103, valid_loss=0.00249]\n",
      "Epoch: 8/30: 100%|██████████| 83/83 [00:04<00:00, 17.78it/s, train_loss=0.000942, valid_loss=0.00305]\n",
      "Epoch: 9/30: 100%|██████████| 83/83 [00:04<00:00, 17.58it/s, train_loss=0.00104, valid_loss=0.00303] \n",
      "Epoch: 10/30: 100%|██████████| 83/83 [00:04<00:00, 17.79it/s, train_loss=0.000805, valid_loss=0.00298]\n",
      "Epoch: 11/30: 100%|██████████| 83/83 [00:04<00:00, 17.85it/s, train_loss=0.000526, valid_loss=0.00345]\n",
      "Epoch: 12/30: 100%|██████████| 83/83 [00:04<00:00, 17.55it/s, train_loss=0.000364, valid_loss=0.00357]\n",
      "Epoch: 13/30: 100%|██████████| 83/83 [00:04<00:00, 17.66it/s, train_loss=0.000326, valid_loss=0.00374]\n",
      "Epoch: 14/30: 100%|██████████| 83/83 [00:04<00:00, 17.77it/s, train_loss=0.000236, valid_loss=0.00379]\n",
      "Epoch: 15/30: 100%|██████████| 83/83 [00:04<00:00, 17.58it/s, train_loss=0.000169, valid_loss=0.00388]\n",
      "Epoch: 16/30: 100%|██████████| 83/83 [00:04<00:00, 17.89it/s, train_loss=0.000164, valid_loss=0.0039] \n",
      "Epoch: 17/30: 100%|██████████| 83/83 [00:04<00:00, 17.90it/s, train_loss=0.000109, valid_loss=0.00387]\n",
      "Epoch: 18/30: 100%|██████████| 83/83 [00:04<00:00, 17.62it/s, train_loss=0.000166, valid_loss=0.00354]\n",
      "Epoch: 19/30: 100%|██████████| 83/83 [00:04<00:00, 17.83it/s, train_loss=9.74e-5, valid_loss=0.0037]  \n",
      "Epoch: 20/30: 100%|██████████| 83/83 [00:04<00:00, 17.83it/s, train_loss=8.12e-5, valid_loss=0.00382]\n",
      "Epoch: 21/30: 100%|██████████| 83/83 [00:04<00:00, 17.57it/s, train_loss=7.69e-5, valid_loss=0.00379]\n",
      "Epoch: 22/30: 100%|██████████| 83/83 [00:04<00:00, 17.86it/s, train_loss=6.09e-5, valid_loss=0.00384]\n",
      "Epoch: 23/30: 100%|██████████| 83/83 [00:04<00:00, 17.83it/s, train_loss=5.65e-5, valid_loss=0.00394]\n",
      "Epoch: 24/30: 100%|██████████| 83/83 [00:04<00:00, 17.50it/s, train_loss=4.77e-5, valid_loss=0.00395]\n",
      "Epoch: 25/30: 100%|██████████| 83/83 [00:04<00:00, 17.77it/s, train_loss=4.65e-5, valid_loss=0.00394]\n",
      "Epoch: 26/30: 100%|██████████| 83/83 [00:04<00:00, 17.91it/s, train_loss=4.65e-5, valid_loss=0.004]  \n",
      "Epoch: 27/30: 100%|██████████| 83/83 [00:04<00:00, 17.63it/s, train_loss=4.49e-5, valid_loss=0.00399]\n",
      "Epoch: 28/30: 100%|██████████| 83/83 [00:04<00:00, 17.81it/s, train_loss=3.63e-5, valid_loss=0.00396]\n",
      "Epoch: 29/30: 100%|██████████| 83/83 [00:04<00:00, 17.97it/s, train_loss=3.35e-5, valid_loss=0.00405]\n",
      "Epoch: 30/30: 100%|██████████| 83/83 [00:04<00:00, 17.54it/s, train_loss=3.28e-5, valid_loss=0.00399]\n"
     ]
    },
    {
     "name": "stdout",
     "output_type": "stream",
     "text": [
      "model config: batch_size-256, lr-0.01, number_epoch-30, hidden_dim-32, n_layers-3,drop_prob-0,weight_decay-0\n",
      "cross-validation dataset 0\n"
     ]
    },
    {
     "name": "stderr",
     "output_type": "stream",
     "text": [
      "Epoch: 1/30: 100%|██████████| 83/83 [00:03<00:00, 21.41it/s, train_loss=0.03, valid_loss=0.0354]  \n",
      "Epoch: 2/30: 100%|██████████| 83/83 [00:03<00:00, 21.59it/s, train_loss=0.0313, valid_loss=0.035] \n",
      "Epoch: 3/30: 100%|██████████| 83/83 [00:03<00:00, 21.01it/s, train_loss=0.0333, valid_loss=0.0353]\n",
      "Epoch: 4/30: 100%|██████████| 83/83 [00:03<00:00, 22.18it/s, train_loss=0.0311, valid_loss=0.0347]\n",
      "Epoch: 5/30: 100%|██████████| 83/83 [00:03<00:00, 21.98it/s, train_loss=0.0305, valid_loss=0.035] \n",
      "Epoch: 6/30: 100%|██████████| 83/83 [00:03<00:00, 22.05it/s, train_loss=0.03, valid_loss=0.0352]  \n",
      "Epoch: 7/30: 100%|██████████| 83/83 [00:03<00:00, 23.01it/s, train_loss=0.0326, valid_loss=0.0352]\n",
      "Epoch: 8/30: 100%|██████████| 83/83 [00:03<00:00, 21.75it/s, train_loss=0.0315, valid_loss=0.0358]\n",
      "Epoch: 9/30: 100%|██████████| 83/83 [00:03<00:00, 22.09it/s, train_loss=0.0333, valid_loss=0.0354]\n",
      "Epoch: 10/30: 100%|██████████| 83/83 [00:03<00:00, 21.65it/s, train_loss=0.0296, valid_loss=0.0352]\n",
      "Epoch: 11/30: 100%|██████████| 83/83 [00:03<00:00, 22.91it/s, train_loss=0.0292, valid_loss=0.0358]\n",
      "Epoch: 12/30: 100%|██████████| 83/83 [00:03<00:00, 21.77it/s, train_loss=0.0339, valid_loss=0.0355]\n",
      "Epoch: 13/30: 100%|██████████| 83/83 [00:03<00:00, 21.82it/s, train_loss=0.0328, valid_loss=0.0357]\n",
      "Epoch: 14/30: 100%|██████████| 83/83 [00:03<00:00, 22.85it/s, train_loss=0.0313, valid_loss=0.0346]\n",
      "Epoch: 15/30: 100%|██████████| 83/83 [00:03<00:00, 21.24it/s, train_loss=0.0278, valid_loss=0.0351]\n",
      "Epoch: 16/30: 100%|██████████| 83/83 [00:03<00:00, 21.68it/s, train_loss=0.0292, valid_loss=0.0351]\n",
      "Epoch: 17/30: 100%|██████████| 83/83 [00:03<00:00, 21.80it/s, train_loss=0.034, valid_loss=0.0351] \n",
      "Epoch: 18/30: 100%|██████████| 83/83 [00:03<00:00, 21.54it/s, train_loss=0.0299, valid_loss=0.0351]\n",
      "Epoch: 19/30: 100%|██████████| 83/83 [00:03<00:00, 21.28it/s, train_loss=0.0301, valid_loss=0.0357]\n",
      "Epoch: 20/30: 100%|██████████| 83/83 [00:03<00:00, 21.31it/s, train_loss=0.0331, valid_loss=0.0347]\n",
      "Epoch: 21/30: 100%|██████████| 83/83 [00:03<00:00, 21.61it/s, train_loss=0.033, valid_loss=0.035]  \n",
      "Epoch: 22/30: 100%|██████████| 83/83 [00:03<00:00, 22.46it/s, train_loss=0.0322, valid_loss=0.0349]\n",
      "Epoch: 23/30: 100%|██████████| 83/83 [00:03<00:00, 22.10it/s, train_loss=0.032, valid_loss=0.0351] \n",
      "Epoch: 24/30: 100%|██████████| 83/83 [00:03<00:00, 21.27it/s, train_loss=0.0295, valid_loss=0.0355]\n",
      "Epoch: 25/30: 100%|██████████| 83/83 [00:03<00:00, 22.31it/s, train_loss=0.0336, valid_loss=0.0351]\n",
      "Epoch: 26/30: 100%|██████████| 83/83 [00:03<00:00, 21.38it/s, train_loss=0.0312, valid_loss=0.035] \n",
      "Epoch: 27/30: 100%|██████████| 83/83 [00:03<00:00, 21.61it/s, train_loss=0.0301, valid_loss=0.0353]\n",
      "Epoch: 28/30: 100%|██████████| 83/83 [00:03<00:00, 22.32it/s, train_loss=0.0297, valid_loss=0.0356]\n",
      "Epoch: 29/30: 100%|██████████| 83/83 [00:03<00:00, 21.71it/s, train_loss=0.0325, valid_loss=0.0352]\n",
      "Epoch: 30/30: 100%|██████████| 83/83 [00:03<00:00, 22.49it/s, train_loss=0.0324, valid_loss=0.0349]\n"
     ]
    },
    {
     "name": "stdout",
     "output_type": "stream",
     "text": [
      "model config: batch_size-256, lr-0.01, number_epoch-30, hidden_dim-32, n_layers-2,drop_prob-0,weight_decay-0\n",
      "cross-validation dataset 0\n"
     ]
    },
    {
     "name": "stderr",
     "output_type": "stream",
     "text": [
      "Epoch: 1/30: 100%|██████████| 83/83 [00:02<00:00, 28.89it/s, train_loss=0.0151, valid_loss=0.0144]\n",
      "Epoch: 2/30: 100%|██████████| 83/83 [00:02<00:00, 27.74it/s, train_loss=0.00292, valid_loss=0.00346]\n",
      "Epoch: 3/30: 100%|██████████| 83/83 [00:02<00:00, 28.76it/s, train_loss=0.00205, valid_loss=0.00308]\n",
      "Epoch: 4/30: 100%|██████████| 83/83 [00:02<00:00, 28.57it/s, train_loss=0.00185, valid_loss=0.00323]\n",
      "Epoch: 5/30: 100%|██████████| 83/83 [00:03<00:00, 27.45it/s, train_loss=0.00218, valid_loss=0.00291]\n",
      "Epoch: 6/30: 100%|██████████| 83/83 [00:02<00:00, 28.57it/s, train_loss=0.00193, valid_loss=0.00274]\n",
      "Epoch: 7/30: 100%|██████████| 83/83 [00:02<00:00, 27.78it/s, train_loss=0.00193, valid_loss=0.00288]\n",
      "Epoch: 8/30: 100%|██████████| 83/83 [00:02<00:00, 27.67it/s, train_loss=0.00144, valid_loss=0.00276]\n",
      "Epoch: 9/30: 100%|██████████| 83/83 [00:02<00:00, 28.22it/s, train_loss=0.00137, valid_loss=0.00268]\n",
      "Epoch: 10/30: 100%|██████████| 83/83 [00:02<00:00, 28.61it/s, train_loss=0.0013, valid_loss=0.00267] \n",
      "Epoch: 11/30: 100%|██████████| 83/83 [00:03<00:00, 27.44it/s, train_loss=0.00143, valid_loss=0.00248]\n",
      "Epoch: 12/30: 100%|██████████| 83/83 [00:02<00:00, 28.31it/s, train_loss=0.00134, valid_loss=0.00241] \n",
      "Epoch: 13/30: 100%|██████████| 83/83 [00:02<00:00, 28.47it/s, train_loss=0.00113, valid_loss=0.00243]\n",
      "Epoch: 14/30: 100%|██████████| 83/83 [00:03<00:00, 27.23it/s, train_loss=0.00144, valid_loss=0.00259]\n",
      "Epoch: 15/30: 100%|██████████| 83/83 [00:02<00:00, 28.45it/s, train_loss=0.00126, valid_loss=0.00251]\n",
      "Epoch: 16/30: 100%|██████████| 83/83 [00:02<00:00, 28.16it/s, train_loss=0.00126, valid_loss=0.00235] \n",
      "Epoch: 17/30: 100%|██████████| 83/83 [00:02<00:00, 27.81it/s, train_loss=0.00114, valid_loss=0.00291]\n",
      "Epoch: 18/30: 100%|██████████| 83/83 [00:02<00:00, 28.37it/s, train_loss=0.00139, valid_loss=0.00236] \n",
      "Epoch: 19/30: 100%|██████████| 83/83 [00:02<00:00, 28.86it/s, train_loss=0.00117, valid_loss=0.00262]\n",
      "Epoch: 20/30: 100%|██████████| 83/83 [00:03<00:00, 27.40it/s, train_loss=0.00137, valid_loss=0.00247] \n",
      "Epoch: 21/30: 100%|██████████| 83/83 [00:02<00:00, 28.39it/s, train_loss=0.00131, valid_loss=0.00237] \n",
      "Epoch: 22/30: 100%|██████████| 83/83 [00:02<00:00, 27.84it/s, train_loss=0.00114, valid_loss=0.00239] \n",
      "Epoch: 23/30: 100%|██████████| 83/83 [00:03<00:00, 27.39it/s, train_loss=0.0013, valid_loss=0.00252]  \n",
      "Epoch: 24/30: 100%|██████████| 83/83 [00:02<00:00, 28.47it/s, train_loss=0.00097, valid_loss=0.00268] \n",
      "Epoch: 25/30: 100%|██████████| 83/83 [00:02<00:00, 28.74it/s, train_loss=0.00104, valid_loss=0.00246] \n",
      "Epoch: 26/30: 100%|██████████| 83/83 [00:03<00:00, 27.61it/s, train_loss=0.000968, valid_loss=0.00267]\n",
      "Epoch: 27/30: 100%|██████████| 83/83 [00:02<00:00, 28.28it/s, train_loss=0.000959, valid_loss=0.00263]\n",
      "Epoch: 28/30: 100%|██████████| 83/83 [00:02<00:00, 28.38it/s, train_loss=0.00107, valid_loss=0.00253] \n",
      "Epoch: 29/30: 100%|██████████| 83/83 [00:02<00:00, 27.91it/s, train_loss=0.00104, valid_loss=0.00253] \n",
      "Epoch: 30/30: 100%|██████████| 83/83 [00:02<00:00, 28.14it/s, train_loss=0.000879, valid_loss=0.00288]\n"
     ]
    },
    {
     "name": "stdout",
     "output_type": "stream",
     "text": [
      "model config: batch_size-256, lr-0.01, number_epoch-30, hidden_dim-16, n_layers-3,drop_prob-0,weight_decay-0\n",
      "cross-validation dataset 0\n"
     ]
    },
    {
     "name": "stderr",
     "output_type": "stream",
     "text": [
      "Epoch: 1/30: 100%|██████████| 83/83 [00:03<00:00, 22.43it/s, train_loss=0.00319, valid_loss=0.00476]\n",
      "Epoch: 2/30: 100%|██████████| 83/83 [00:03<00:00, 21.67it/s, train_loss=0.00222, valid_loss=0.00344]\n",
      "Epoch: 3/30: 100%|██████████| 83/83 [00:03<00:00, 22.27it/s, train_loss=0.00159, valid_loss=0.00274]\n",
      "Epoch: 4/30: 100%|██████████| 83/83 [00:03<00:00, 21.25it/s, train_loss=0.0017, valid_loss=0.0028]  \n",
      "Epoch: 5/30: 100%|██████████| 83/83 [00:03<00:00, 22.31it/s, train_loss=0.00146, valid_loss=0.00275]\n",
      "Epoch: 6/30: 100%|██████████| 83/83 [00:03<00:00, 21.77it/s, train_loss=0.0018, valid_loss=0.00276] \n",
      "Epoch: 7/30: 100%|██████████| 83/83 [00:03<00:00, 21.89it/s, train_loss=0.00149, valid_loss=0.00281]\n",
      "Epoch: 8/30: 100%|██████████| 83/83 [00:03<00:00, 21.76it/s, train_loss=0.00127, valid_loss=0.00318]\n",
      "Epoch: 9/30: 100%|██████████| 83/83 [00:03<00:00, 21.65it/s, train_loss=0.00107, valid_loss=0.00286] \n",
      "Epoch: 10/30: 100%|██████████| 83/83 [00:03<00:00, 22.76it/s, train_loss=0.00123, valid_loss=0.00297]\n",
      "Epoch: 11/30: 100%|██████████| 83/83 [00:03<00:00, 21.50it/s, train_loss=0.000924, valid_loss=0.00296]\n",
      "Epoch: 12/30: 100%|██████████| 83/83 [00:03<00:00, 22.33it/s, train_loss=0.00109, valid_loss=0.00329] \n",
      "Epoch: 13/30: 100%|██████████| 83/83 [00:03<00:00, 22.01it/s, train_loss=0.00105, valid_loss=0.00314] \n",
      "Epoch: 14/30: 100%|██████████| 83/83 [00:03<00:00, 22.00it/s, train_loss=0.00101, valid_loss=0.00318] \n",
      "Epoch: 15/30: 100%|██████████| 83/83 [00:03<00:00, 21.45it/s, train_loss=0.000937, valid_loss=0.00367]\n",
      "Epoch: 16/30: 100%|██████████| 83/83 [00:03<00:00, 21.36it/s, train_loss=0.000674, valid_loss=0.00348]\n",
      "Epoch: 17/30: 100%|██████████| 83/83 [00:03<00:00, 21.98it/s, train_loss=0.000631, valid_loss=0.00353]\n",
      "Epoch: 18/30: 100%|██████████| 83/83 [00:03<00:00, 21.66it/s, train_loss=0.000577, valid_loss=0.00341]\n",
      "Epoch: 19/30: 100%|██████████| 83/83 [00:03<00:00, 22.58it/s, train_loss=0.00048, valid_loss=0.00364] \n",
      "Epoch: 20/30: 100%|██████████| 83/83 [00:03<00:00, 21.50it/s, train_loss=0.000486, valid_loss=0.00336]\n",
      "Epoch: 21/30: 100%|██████████| 83/83 [00:03<00:00, 21.40it/s, train_loss=0.00041, valid_loss=0.00377] \n",
      "Epoch: 22/30: 100%|██████████| 83/83 [00:03<00:00, 22.09it/s, train_loss=0.000375, valid_loss=0.00346]\n",
      "Epoch: 23/30: 100%|██████████| 83/83 [00:03<00:00, 21.72it/s, train_loss=0.000377, valid_loss=0.00365]\n",
      "Epoch: 24/30: 100%|██████████| 83/83 [00:03<00:00, 21.66it/s, train_loss=0.000374, valid_loss=0.00343]\n",
      "Epoch: 25/30: 100%|██████████| 83/83 [00:03<00:00, 21.77it/s, train_loss=0.000348, valid_loss=0.0037] \n",
      "Epoch: 26/30: 100%|██████████| 83/83 [00:04<00:00, 20.74it/s, train_loss=0.000309, valid_loss=0.00368]\n",
      "Epoch: 27/30: 100%|██████████| 83/83 [00:03<00:00, 21.71it/s, train_loss=0.000288, valid_loss=0.00383]\n",
      "Epoch: 28/30: 100%|██████████| 83/83 [00:03<00:00, 22.53it/s, train_loss=0.000248, valid_loss=0.00387]\n",
      "Epoch: 29/30: 100%|██████████| 83/83 [00:03<00:00, 21.26it/s, train_loss=0.000263, valid_loss=0.00382]\n",
      "Epoch: 30/30: 100%|██████████| 83/83 [00:03<00:00, 21.67it/s, train_loss=0.000238, valid_loss=0.0038] \n"
     ]
    },
    {
     "name": "stdout",
     "output_type": "stream",
     "text": [
      "model config: batch_size-256, lr-0.01, number_epoch-30, hidden_dim-64, n_layers-2,drop_prob-0,weight_decay-0\n",
      "cross-validation dataset 0\n"
     ]
    },
    {
     "name": "stderr",
     "output_type": "stream",
     "text": [
      "Epoch: 1/30: 100%|██████████| 83/83 [00:03<00:00, 23.39it/s, train_loss=0.00223, valid_loss=0.00326]\n",
      "Epoch: 2/30: 100%|██████████| 83/83 [00:03<00:00, 22.30it/s, train_loss=0.00193, valid_loss=0.00302]\n",
      "Epoch: 3/30: 100%|██████████| 83/83 [00:03<00:00, 24.16it/s, train_loss=0.00139, valid_loss=0.00261]\n",
      "Epoch: 4/30: 100%|██████████| 83/83 [00:03<00:00, 22.81it/s, train_loss=0.00129, valid_loss=0.00255]\n",
      "Epoch: 5/30: 100%|██████████| 83/83 [00:03<00:00, 22.32it/s, train_loss=0.00107, valid_loss=0.00248]\n",
      "Epoch: 6/30: 100%|██████████| 83/83 [00:03<00:00, 22.42it/s, train_loss=0.00135, valid_loss=0.00242] \n",
      "Epoch: 7/30: 100%|██████████| 83/83 [00:03<00:00, 24.69it/s, train_loss=0.00102, valid_loss=0.00263] \n",
      "Epoch: 8/30: 100%|██████████| 83/83 [00:03<00:00, 22.40it/s, train_loss=0.000956, valid_loss=0.00241]\n",
      "Epoch: 9/30: 100%|██████████| 83/83 [00:03<00:00, 22.10it/s, train_loss=0.000732, valid_loss=0.0027] \n",
      "Epoch: 10/30: 100%|██████████| 83/83 [00:03<00:00, 22.61it/s, train_loss=0.000795, valid_loss=0.0027] \n",
      "Epoch: 11/30: 100%|██████████| 83/83 [00:03<00:00, 22.34it/s, train_loss=0.000557, valid_loss=0.00277]\n",
      "Epoch: 12/30: 100%|██████████| 83/83 [00:03<00:00, 23.21it/s, train_loss=0.000429, valid_loss=0.00272]\n",
      "Epoch: 13/30: 100%|██████████| 83/83 [00:03<00:00, 23.53it/s, train_loss=0.000301, valid_loss=0.00309]\n",
      "Epoch: 14/30: 100%|██████████| 83/83 [00:03<00:00, 22.02it/s, train_loss=0.000298, valid_loss=0.00317]\n",
      "Epoch: 15/30: 100%|██████████| 83/83 [00:03<00:00, 22.81it/s, train_loss=0.000242, valid_loss=0.00325]\n",
      "Epoch: 16/30: 100%|██████████| 83/83 [00:03<00:00, 23.26it/s, train_loss=0.00018, valid_loss=0.0032]  \n",
      "Epoch: 17/30: 100%|██████████| 83/83 [00:03<00:00, 21.85it/s, train_loss=0.000141, valid_loss=0.00308]\n",
      "Epoch: 18/30: 100%|██████████| 83/83 [00:03<00:00, 22.70it/s, train_loss=0.00013, valid_loss=0.00337] \n",
      "Epoch: 19/30: 100%|██████████| 83/83 [00:03<00:00, 22.23it/s, train_loss=0.000125, valid_loss=0.00329]\n",
      "Epoch: 20/30: 100%|██████████| 83/83 [00:03<00:00, 21.85it/s, train_loss=0.000102, valid_loss=0.00339]\n",
      "Epoch: 21/30: 100%|██████████| 83/83 [00:03<00:00, 24.00it/s, train_loss=8.64e-5, valid_loss=0.0033]  \n",
      "Epoch: 22/30: 100%|██████████| 83/83 [00:03<00:00, 24.30it/s, train_loss=9.72e-5, valid_loss=0.00337] \n",
      "Epoch: 23/30: 100%|██████████| 83/83 [00:03<00:00, 22.85it/s, train_loss=7.66e-5, valid_loss=0.00335]\n",
      "Epoch: 24/30: 100%|██████████| 83/83 [00:03<00:00, 23.51it/s, train_loss=6.85e-5, valid_loss=0.00344]\n",
      "Epoch: 25/30: 100%|██████████| 83/83 [00:03<00:00, 22.50it/s, train_loss=6.37e-5, valid_loss=0.00338] \n",
      "Epoch: 26/30: 100%|██████████| 83/83 [00:03<00:00, 22.43it/s, train_loss=6.15e-5, valid_loss=0.00342]\n",
      "Epoch: 27/30: 100%|██████████| 83/83 [00:03<00:00, 22.99it/s, train_loss=5.73e-5, valid_loss=0.00331]\n",
      "Epoch: 28/30: 100%|██████████| 83/83 [00:03<00:00, 22.91it/s, train_loss=6.45e-5, valid_loss=0.00337] \n",
      "Epoch: 29/30: 100%|██████████| 83/83 [00:03<00:00, 22.19it/s, train_loss=4.44e-5, valid_loss=0.00335]\n",
      "Epoch: 30/30: 100%|██████████| 83/83 [00:03<00:00, 22.65it/s, train_loss=4.2e-5, valid_loss=0.00342] \n"
     ]
    }
   ],
   "source": [
    "records = run_model_hpo()"
   ]
  },
  {
   "cell_type": "markdown",
   "id": "0efe739c",
   "metadata": {
    "ExecuteTime": {
     "end_time": "2021-12-22T08:52:06.844501Z",
     "start_time": "2021-12-22T08:52:06.830928Z"
    }
   },
   "source": [
    "## find the best hyper-parameters"
   ]
  },
  {
   "cell_type": "code",
   "execution_count": 39,
   "id": "5ad4280f",
   "metadata": {
    "ExecuteTime": {
     "end_time": "2021-12-29T11:12:43.207545Z",
     "start_time": "2021-12-29T11:12:43.186777Z"
    }
   },
   "outputs": [
    {
     "data": {
      "text/html": [
       "<div>\n",
       "<style scoped>\n",
       "    .dataframe tbody tr th:only-of-type {\n",
       "        vertical-align: middle;\n",
       "    }\n",
       "\n",
       "    .dataframe tbody tr th {\n",
       "        vertical-align: top;\n",
       "    }\n",
       "\n",
       "    .dataframe thead th {\n",
       "        text-align: right;\n",
       "    }\n",
       "</style>\n",
       "<table border=\"1\" class=\"dataframe\">\n",
       "  <thead>\n",
       "    <tr style=\"text-align: right;\">\n",
       "      <th></th>\n",
       "      <th>batch_size</th>\n",
       "      <th>lr</th>\n",
       "      <th>number_epoch</th>\n",
       "      <th>hidden_dim</th>\n",
       "      <th>n_layers</th>\n",
       "      <th>drop_prob</th>\n",
       "      <th>weight_decay</th>\n",
       "      <th>valid_loss</th>\n",
       "    </tr>\n",
       "  </thead>\n",
       "  <tbody>\n",
       "    <tr>\n",
       "      <th>1</th>\n",
       "      <td>256</td>\n",
       "      <td>0.01</td>\n",
       "      <td>30</td>\n",
       "      <td>64</td>\n",
       "      <td>3</td>\n",
       "      <td>0</td>\n",
       "      <td>0</td>\n",
       "      <td>0.002202</td>\n",
       "    </tr>\n",
       "    <tr>\n",
       "      <th>5</th>\n",
       "      <td>256</td>\n",
       "      <td>0.01</td>\n",
       "      <td>30</td>\n",
       "      <td>64</td>\n",
       "      <td>2</td>\n",
       "      <td>0</td>\n",
       "      <td>0</td>\n",
       "      <td>0.002270</td>\n",
       "    </tr>\n",
       "    <tr>\n",
       "      <th>0</th>\n",
       "      <td>256</td>\n",
       "      <td>0.01</td>\n",
       "      <td>30</td>\n",
       "      <td>16</td>\n",
       "      <td>2</td>\n",
       "      <td>0</td>\n",
       "      <td>0</td>\n",
       "      <td>0.002321</td>\n",
       "    </tr>\n",
       "    <tr>\n",
       "      <th>3</th>\n",
       "      <td>256</td>\n",
       "      <td>0.01</td>\n",
       "      <td>30</td>\n",
       "      <td>32</td>\n",
       "      <td>2</td>\n",
       "      <td>0</td>\n",
       "      <td>0</td>\n",
       "      <td>0.002328</td>\n",
       "    </tr>\n",
       "    <tr>\n",
       "      <th>4</th>\n",
       "      <td>256</td>\n",
       "      <td>0.01</td>\n",
       "      <td>30</td>\n",
       "      <td>16</td>\n",
       "      <td>3</td>\n",
       "      <td>0</td>\n",
       "      <td>0</td>\n",
       "      <td>0.002528</td>\n",
       "    </tr>\n",
       "    <tr>\n",
       "      <th>2</th>\n",
       "      <td>256</td>\n",
       "      <td>0.01</td>\n",
       "      <td>30</td>\n",
       "      <td>32</td>\n",
       "      <td>3</td>\n",
       "      <td>0</td>\n",
       "      <td>0</td>\n",
       "      <td>0.029758</td>\n",
       "    </tr>\n",
       "  </tbody>\n",
       "</table>\n",
       "</div>"
      ],
      "text/plain": [
       "   batch_size    lr  number_epoch  hidden_dim  n_layers  drop_prob  \\\n",
       "1         256  0.01            30          64         3          0   \n",
       "5         256  0.01            30          64         2          0   \n",
       "0         256  0.01            30          16         2          0   \n",
       "3         256  0.01            30          32         2          0   \n",
       "4         256  0.01            30          16         3          0   \n",
       "2         256  0.01            30          32         3          0   \n",
       "\n",
       "   weight_decay  valid_loss  \n",
       "1             0    0.002202  \n",
       "5             0    0.002270  \n",
       "0             0    0.002321  \n",
       "3             0    0.002328  \n",
       "4             0    0.002528  \n",
       "2             0    0.029758  "
      ]
     },
     "execution_count": 39,
     "metadata": {},
     "output_type": "execute_result"
    }
   ],
   "source": [
    "records = pd.DataFrame(records).sort_values(by='valid_loss')\n",
    "records.to_csv('./records/BiLSTM_records.csv', mode='a', index=False, header=False)\n",
    "records"
   ]
  },
  {
   "cell_type": "markdown",
   "id": "d08d88f8",
   "metadata": {},
   "source": [
    "## retrain a model"
   ]
  },
  {
   "cell_type": "code",
   "execution_count": 10,
   "id": "adad54a9",
   "metadata": {
    "ExecuteTime": {
     "end_time": "2021-12-29T11:45:35.473300Z",
     "start_time": "2021-12-29T11:45:35.452910Z"
    }
   },
   "outputs": [],
   "source": [
    "def train_model(train_x, train_y, valid_x, valid_y, input_size, output_size,\n",
    "                mse_thresh, batch_size, lr, number_epoch, hidden_dim, n_layers,\n",
    "                drop_prob, weight_decay):\n",
    "    while (1):\n",
    "        model = BiLSTM(input_size, output_size, hidden_dim, n_layers,\n",
    "                       drop_prob)\n",
    "        model.to(device=device)\n",
    "        criterion = nn.MSELoss()\n",
    "        optimizer = torch.optim.Adam(model.parameters(), lr=lr, weight_decay=weight_decay)\n",
    "        scheduler = torch.optim.lr_scheduler.StepLR(optimizer, 1, gamma=0.98)\n",
    "        valid_loss_min = np.Inf\n",
    "        train_dataset = TensorDataset(torch.FloatTensor(train_x),\n",
    "                                      torch.FloatTensor(train_y))\n",
    "        valid_dataset = TensorDataset(torch.FloatTensor(valid_x),\n",
    "                                      torch.FloatTensor(valid_y))\n",
    "        train_loader = DataLoader(dataset=train_dataset,\n",
    "                                  batch_size=batch_size,\n",
    "                                  shuffle=True,\n",
    "                                  drop_last=False)\n",
    "        valid_loader = DataLoader(dataset=valid_dataset,\n",
    "                                  batch_size=batch_size,\n",
    "                                  shuffle=True,\n",
    "                                  drop_last=False)\n",
    "        num_without_imp = 0\n",
    "        train_loss_list = []\n",
    "        valid_loss_list = []\n",
    "        # training process\n",
    "        for epoch in range(1, number_epoch + 1):\n",
    "            loop = tqdm(enumerate(train_loader),\n",
    "                        total=len(train_loader),\n",
    "                        leave=True)\n",
    "            for i, (inputs, labels) in loop:\n",
    "                inputs = inputs.to(device=device)\n",
    "                labels = labels.to(device=device)\n",
    "                optimizer.zero_grad()\n",
    "                outputs = model(inputs)\n",
    "                loss = criterion(outputs, labels)\n",
    "                loss.backward()\n",
    "                optimizer.step()\n",
    "                if i % 5 == 0:\n",
    "                    num_without_imp = num_without_imp + 1\n",
    "                    valid_losses = list()\n",
    "                    model.eval()\n",
    "                    for inp, lab in valid_loader:\n",
    "                        inp = inp.to(device)\n",
    "                        lab = lab.to(device)\n",
    "                        out = model(inp)\n",
    "                        valid_loss = criterion(out, lab)\n",
    "                        valid_losses.append(valid_loss.item())\n",
    "\n",
    "                    model.train()\n",
    "                    loop.set_description(\"Epoch: {}/{}\".format(\n",
    "                        epoch, number_epoch))\n",
    "                    loop.set_postfix(train_loss=loss.item(),\n",
    "                                     valid_loss=np.mean(valid_losses))\n",
    "                    \n",
    "                    train_loss_list.append(loss.item())\n",
    "                    valid_loss_list.append(np.mean(valid_losses))\n",
    "                    if np.mean(valid_losses) < valid_loss_min:\n",
    "                        num_without_imp = 0\n",
    "                        torch.save(model.state_dict(),\n",
    "                                   './model/BiLSTM_state_dict.pt')\n",
    "                        valid_loss_min = np.mean(valid_losses)\n",
    "            scheduler.step()\n",
    "        if valid_loss_min < mse_thresh:\n",
    "            break\n",
    "    return model, train_loss_list, valid_loss_list"
   ]
  },
  {
   "cell_type": "markdown",
   "id": "b1fa1997",
   "metadata": {},
   "source": [
    "## test results"
   ]
  },
  {
   "cell_type": "code",
   "execution_count": 18,
   "id": "cb1f353c",
   "metadata": {
    "ExecuteTime": {
     "end_time": "2021-12-29T12:07:10.641611Z",
     "start_time": "2021-12-29T12:07:10.628637Z"
    }
   },
   "outputs": [],
   "source": [
    "def test_model(model, test_x, test_y, scaler_y, batch_size):\n",
    "    test_dataset = TensorDataset(torch.FloatTensor(test_x),\n",
    "                                 torch.FloatTensor(test_y))\n",
    "    test_loader = DataLoader(dataset=test_dataset,\n",
    "                             batch_size=batch_size,\n",
    "                             shuffle=False,\n",
    "                             drop_last=False)\n",
    "    model.load_state_dict(torch.load('./model/BiLSTM_state_dict.pt'))\n",
    "    y_pred = []\n",
    "    y_true = []\n",
    "    with torch.no_grad():\n",
    "        for inputs, label in test_loader:\n",
    "            inputs = inputs.to(device)\n",
    "            label = label.to(device)\n",
    "            outputs = model(inputs)\n",
    "            y_pred += outputs.cpu().numpy().flatten().tolist()\n",
    "            y_true += label.cpu().numpy().flatten().tolist()\n",
    "    y_pred = np.array(y_pred).reshape(-1, 1)\n",
    "    y_true = np.array(y_true).reshape(-1, 1)\n",
    "#     pdb.set_trace()\n",
    "    load_pred = scaler_y.inverse_transform(y_pred)\n",
    "    load_true = scaler_y.inverse_transform(y_true)\n",
    "    MAPE = np.mean(np.abs(load_true - load_pred) / load_true)\n",
    "    MAE = np.mean(np.abs(load_true - load_pred))\n",
    "    RMSE = np.sqrt(np.mean(np.square(load_true - load_pred)))\n",
    "    return MAPE, MAE, RMSE, load_pred, load_true"
   ]
  },
  {
   "cell_type": "markdown",
   "id": "9e586529",
   "metadata": {},
   "source": [
    "## run model retraining"
   ]
  },
  {
   "cell_type": "code",
   "execution_count": 32,
   "id": "cf19542c",
   "metadata": {
    "ExecuteTime": {
     "end_time": "2021-12-29T12:39:52.585708Z",
     "start_time": "2021-12-29T12:39:52.570164Z"
    }
   },
   "outputs": [],
   "source": [
    "def run_model_retraining(seq_len=seq_len,\n",
    "                         target_len=target_len,\n",
    "                         mse_thresh=mse_thresh):\n",
    "    train_data = data[:int(0.8 * len(data))]\n",
    "    #     train_data = data[:-800]\n",
    "    train_data, scaler, scaler_y = normalization(train_data)\n",
    "    train_x, train_y = series_to_supervise(train_data, seq_len, target_len)\n",
    "\n",
    "    valid_x = train_x[int(0.8 * len(train_x)):]\n",
    "    valid_y = train_y[int(0.8 * len(train_y)):]\n",
    "    train_x = train_x[:int(0.8 * len(train_x))]\n",
    "    train_y = train_y[:int(0.8 * len(train_y))]\n",
    "    input_size = train_x.shape[2]\n",
    "    output_size = target_len\n",
    "\n",
    "    #     hyper-parameters define\n",
    "    batch_size = 256\n",
    "    lr = 0.01\n",
    "    number_epoch = 80\n",
    "    hidden_dim = 64\n",
    "    n_layers = 3\n",
    "    drop_prob = 0\n",
    "    weight_decay = 0\n",
    "    mse_thresh = 0.01\n",
    "\n",
    "    model, train_loss_list, valid_loss_list = train_model(\n",
    "        train_x, train_y, valid_x, valid_y, input_size, output_size,\n",
    "        mse_thresh, batch_size, lr, number_epoch, hidden_dim, n_layers,\n",
    "        drop_prob, weight_decay)\n",
    "    \n",
    "    # plot training process\n",
    "    plt.plot(train_loss_list[10:], 'm', label='train_loss')\n",
    "    plt.plot(valid_loss_list[10:], 'g', label='valid_loss')\n",
    "    plt.grid('both')\n",
    "    plt.legend()\n",
    "    \n",
    "    # test\n",
    "    test_data = data[int(0.8 * len(data)):]\n",
    "    #     test_data = data[-800:]\n",
    "    test_data = scaler.transform(test_data)\n",
    "    test_x, test_y = series_to_supervise(test_data, seq_len, target_len)\n",
    "    MAPE, MAE, RMSE, load_pred, load_true = test_model(model, test_x, test_y,\n",
    "                                                       scaler_y, batch_size)\n",
    "    return MAPE, MAE, RMSE, load_pred, load_true"
   ]
  },
  {
   "cell_type": "code",
   "execution_count": 33,
   "id": "424e4d23",
   "metadata": {
    "ExecuteTime": {
     "end_time": "2021-12-29T12:46:11.812748Z",
     "start_time": "2021-12-29T12:39:54.387828Z"
    }
   },
   "outputs": [
    {
     "name": "stdout",
     "output_type": "stream",
     "text": [
      "supervised data: shape of x: (25232, 72, 16), shape of y: (25232, 24)\n"
     ]
    },
    {
     "name": "stderr",
     "output_type": "stream",
     "text": [
      "Epoch: 1/80: 100%|██████████| 79/79 [00:05<00:00, 15.59it/s, train_loss=0.0301, valid_loss=0.0342]\n",
      "Epoch: 2/80: 100%|██████████| 79/79 [00:04<00:00, 15.88it/s, train_loss=0.0317, valid_loss=0.0341]\n",
      "Epoch: 3/80: 100%|██████████| 79/79 [00:05<00:00, 15.74it/s, train_loss=0.0315, valid_loss=0.034] \n",
      "Epoch: 4/80: 100%|██████████| 79/79 [00:04<00:00, 15.91it/s, train_loss=0.026, valid_loss=0.0283] \n",
      "Epoch: 5/80: 100%|██████████| 79/79 [00:05<00:00, 15.41it/s, train_loss=0.00465, valid_loss=0.00425]\n",
      "Epoch: 6/80: 100%|██████████| 79/79 [00:04<00:00, 15.88it/s, train_loss=0.00319, valid_loss=0.00313]\n",
      "Epoch: 7/80: 100%|██████████| 79/79 [00:04<00:00, 15.84it/s, train_loss=0.00207, valid_loss=0.0027] \n",
      "Epoch: 8/80: 100%|██████████| 79/79 [00:05<00:00, 15.63it/s, train_loss=0.0019, valid_loss=0.00241] \n",
      "Epoch: 9/80: 100%|██████████| 79/79 [00:04<00:00, 16.07it/s, train_loss=0.00218, valid_loss=0.00257]\n",
      "Epoch: 10/80: 100%|██████████| 79/79 [00:05<00:00, 15.79it/s, train_loss=0.0018, valid_loss=0.00229] \n",
      "Epoch: 11/80: 100%|██████████| 79/79 [00:04<00:00, 16.00it/s, train_loss=0.00131, valid_loss=0.00222]\n",
      "Epoch: 12/80: 100%|██████████| 79/79 [00:05<00:00, 15.67it/s, train_loss=0.00122, valid_loss=0.00201]\n",
      "Epoch: 13/80: 100%|██████████| 79/79 [00:04<00:00, 16.82it/s, train_loss=0.000877, valid_loss=0.0019]\n",
      "Epoch: 14/80: 100%|██████████| 79/79 [00:04<00:00, 16.94it/s, train_loss=0.00134, valid_loss=0.00197]\n",
      "Epoch: 15/80: 100%|██████████| 79/79 [00:04<00:00, 16.58it/s, train_loss=0.000988, valid_loss=0.00184]\n",
      "Epoch: 16/80: 100%|██████████| 79/79 [00:04<00:00, 16.69it/s, train_loss=0.00123, valid_loss=0.00187] \n",
      "Epoch: 17/80: 100%|██████████| 79/79 [00:04<00:00, 16.58it/s, train_loss=0.00147, valid_loss=0.00196] \n",
      "Epoch: 18/80: 100%|██████████| 79/79 [00:04<00:00, 17.02it/s, train_loss=0.0023, valid_loss=0.0019]   \n",
      "Epoch: 19/80: 100%|██████████| 79/79 [00:04<00:00, 16.80it/s, train_loss=0.00102, valid_loss=0.00196] \n",
      "Epoch: 20/80: 100%|██████████| 79/79 [00:04<00:00, 16.97it/s, train_loss=0.000848, valid_loss=0.0018] \n",
      "Epoch: 21/80: 100%|██████████| 79/79 [00:04<00:00, 16.92it/s, train_loss=0.00086, valid_loss=0.00213] \n",
      "Epoch: 22/80: 100%|██████████| 79/79 [00:04<00:00, 16.75it/s, train_loss=0.00124, valid_loss=0.00202] \n",
      "Epoch: 23/80: 100%|██████████| 79/79 [00:04<00:00, 16.88it/s, train_loss=0.000846, valid_loss=0.00219]\n",
      "Epoch: 24/80: 100%|██████████| 79/79 [00:04<00:00, 16.69it/s, train_loss=0.000783, valid_loss=0.00188]\n",
      "Epoch: 25/80: 100%|██████████| 79/79 [00:04<00:00, 17.00it/s, train_loss=0.000916, valid_loss=0.00214]\n",
      "Epoch: 26/80: 100%|██████████| 79/79 [00:04<00:00, 16.73it/s, train_loss=0.000986, valid_loss=0.00194]\n",
      "Epoch: 27/80: 100%|██████████| 79/79 [00:04<00:00, 16.85it/s, train_loss=0.00087, valid_loss=0.00202] \n",
      "Epoch: 28/80: 100%|██████████| 79/79 [00:04<00:00, 16.92it/s, train_loss=0.000937, valid_loss=0.00206]\n",
      "Epoch: 29/80: 100%|██████████| 79/79 [00:04<00:00, 16.26it/s, train_loss=0.000833, valid_loss=0.00214]\n",
      "Epoch: 30/80: 100%|██████████| 79/79 [00:04<00:00, 16.72it/s, train_loss=0.00076, valid_loss=0.00195] \n",
      "Epoch: 31/80: 100%|██████████| 79/79 [00:04<00:00, 16.95it/s, train_loss=0.000631, valid_loss=0.00198]\n",
      "Epoch: 32/80: 100%|██████████| 79/79 [00:04<00:00, 17.20it/s, train_loss=0.000757, valid_loss=0.00197]\n",
      "Epoch: 33/80: 100%|██████████| 79/79 [00:04<00:00, 17.18it/s, train_loss=0.000695, valid_loss=0.00209]\n",
      "Epoch: 34/80: 100%|██████████| 79/79 [00:04<00:00, 16.99it/s, train_loss=0.000606, valid_loss=0.00211]\n",
      "Epoch: 35/80: 100%|██████████| 79/79 [00:04<00:00, 17.26it/s, train_loss=0.000693, valid_loss=0.00214]\n",
      "Epoch: 36/80: 100%|██████████| 79/79 [00:04<00:00, 17.08it/s, train_loss=0.000524, valid_loss=0.00209]\n",
      "Epoch: 37/80: 100%|██████████| 79/79 [00:04<00:00, 17.23it/s, train_loss=0.000694, valid_loss=0.00243]\n",
      "Epoch: 38/80: 100%|██████████| 79/79 [00:04<00:00, 16.95it/s, train_loss=0.000479, valid_loss=0.00221]\n",
      "Epoch: 39/80: 100%|██████████| 79/79 [00:04<00:00, 17.18it/s, train_loss=0.00101, valid_loss=0.00241] \n",
      "Epoch: 40/80: 100%|██████████| 79/79 [00:04<00:00, 17.26it/s, train_loss=0.00044, valid_loss=0.00217] \n",
      "Epoch: 41/80: 100%|██████████| 79/79 [00:04<00:00, 16.90it/s, train_loss=0.000465, valid_loss=0.00254]\n",
      "Epoch: 42/80: 100%|██████████| 79/79 [00:04<00:00, 17.17it/s, train_loss=0.000404, valid_loss=0.00227]\n",
      "Epoch: 43/80: 100%|██████████| 79/79 [00:04<00:00, 17.01it/s, train_loss=0.000401, valid_loss=0.00239]\n",
      "Epoch: 44/80: 100%|██████████| 79/79 [00:04<00:00, 17.26it/s, train_loss=0.000424, valid_loss=0.00227]\n",
      "Epoch: 45/80: 100%|██████████| 79/79 [00:04<00:00, 16.91it/s, train_loss=0.000403, valid_loss=0.00248]\n",
      "Epoch: 46/80: 100%|██████████| 79/79 [00:04<00:00, 17.00it/s, train_loss=0.00044, valid_loss=0.00237] \n",
      "Epoch: 47/80: 100%|██████████| 79/79 [00:04<00:00, 17.30it/s, train_loss=0.000386, valid_loss=0.00244]\n",
      "Epoch: 48/80: 100%|██████████| 79/79 [00:04<00:00, 17.04it/s, train_loss=0.000414, valid_loss=0.00237]\n",
      "Epoch: 49/80: 100%|██████████| 79/79 [00:04<00:00, 17.21it/s, train_loss=0.000303, valid_loss=0.0025] \n",
      "Epoch: 50/80: 100%|██████████| 79/79 [00:04<00:00, 17.05it/s, train_loss=0.000336, valid_loss=0.00241]\n",
      "Epoch: 51/80: 100%|██████████| 79/79 [00:04<00:00, 17.19it/s, train_loss=0.000359, valid_loss=0.0024] \n",
      "Epoch: 52/80: 100%|██████████| 79/79 [00:04<00:00, 17.07it/s, train_loss=0.000322, valid_loss=0.00257]\n",
      "Epoch: 53/80: 100%|██████████| 79/79 [00:04<00:00, 17.33it/s, train_loss=0.000345, valid_loss=0.00257]\n",
      "Epoch: 54/80: 100%|██████████| 79/79 [00:04<00:00, 17.27it/s, train_loss=0.000322, valid_loss=0.00257]\n",
      "Epoch: 55/80: 100%|██████████| 79/79 [00:04<00:00, 16.93it/s, train_loss=0.0003, valid_loss=0.00245]  \n",
      "Epoch: 56/80: 100%|██████████| 79/79 [00:04<00:00, 17.32it/s, train_loss=0.000326, valid_loss=0.00252]\n",
      "Epoch: 57/80: 100%|██████████| 79/79 [00:04<00:00, 17.11it/s, train_loss=0.000263, valid_loss=0.0025] \n",
      "Epoch: 58/80: 100%|██████████| 79/79 [00:04<00:00, 17.30it/s, train_loss=0.000275, valid_loss=0.00252]\n",
      "Epoch: 59/80: 100%|██████████| 79/79 [00:04<00:00, 17.00it/s, train_loss=0.000324, valid_loss=0.00254]\n",
      "Epoch: 60/80: 100%|██████████| 79/79 [00:04<00:00, 16.82it/s, train_loss=0.000285, valid_loss=0.00254]\n",
      "Epoch: 61/80: 100%|██████████| 79/79 [00:04<00:00, 16.94it/s, train_loss=0.00026, valid_loss=0.00267] \n",
      "Epoch: 62/80: 100%|██████████| 79/79 [00:04<00:00, 16.59it/s, train_loss=0.000228, valid_loss=0.0026] \n",
      "Epoch: 63/80: 100%|██████████| 79/79 [00:04<00:00, 16.96it/s, train_loss=0.000254, valid_loss=0.00274]\n",
      "Epoch: 64/80: 100%|██████████| 79/79 [00:04<00:00, 16.67it/s, train_loss=0.000221, valid_loss=0.00271]\n",
      "Epoch: 65/80: 100%|██████████| 79/79 [00:04<00:00, 16.92it/s, train_loss=0.000236, valid_loss=0.00262]\n",
      "Epoch: 66/80: 100%|██████████| 79/79 [00:04<00:00, 16.61it/s, train_loss=0.000227, valid_loss=0.00264]\n",
      "Epoch: 67/80: 100%|██████████| 79/79 [00:04<00:00, 17.14it/s, train_loss=0.000223, valid_loss=0.00266]\n",
      "Epoch: 68/80: 100%|██████████| 79/79 [00:04<00:00, 17.21it/s, train_loss=0.000298, valid_loss=0.00271]\n",
      "Epoch: 69/80: 100%|██████████| 79/79 [00:04<00:00, 16.96it/s, train_loss=0.000213, valid_loss=0.00271]\n",
      "Epoch: 70/80: 100%|██████████| 79/79 [00:04<00:00, 17.25it/s, train_loss=0.000205, valid_loss=0.00268]\n",
      "Epoch: 71/80: 100%|██████████| 79/79 [00:04<00:00, 16.90it/s, train_loss=0.000199, valid_loss=0.00262]\n",
      "Epoch: 72/80: 100%|██████████| 79/79 [00:04<00:00, 17.05it/s, train_loss=0.000217, valid_loss=0.00271]\n",
      "Epoch: 73/80: 100%|██████████| 79/79 [00:04<00:00, 16.76it/s, train_loss=0.000201, valid_loss=0.00265]\n",
      "Epoch: 74/80: 100%|██████████| 79/79 [00:04<00:00, 17.13it/s, train_loss=0.000203, valid_loss=0.0027] \n",
      "Epoch: 75/80: 100%|██████████| 79/79 [00:04<00:00, 17.14it/s, train_loss=0.000173, valid_loss=0.00271]\n",
      "Epoch: 76/80: 100%|██████████| 79/79 [00:04<00:00, 16.91it/s, train_loss=0.000189, valid_loss=0.00275]\n",
      "Epoch: 77/80: 100%|██████████| 79/79 [00:04<00:00, 17.16it/s, train_loss=0.00024, valid_loss=0.00276] \n",
      "Epoch: 78/80: 100%|██████████| 79/79 [00:04<00:00, 16.66it/s, train_loss=0.000195, valid_loss=0.00271]\n",
      "Epoch: 79/80: 100%|██████████| 79/79 [00:04<00:00, 17.14it/s, train_loss=0.000193, valid_loss=0.00269]\n"
     ]
    },
    {
     "name": "stderr",
     "output_type": "stream",
     "text": [
      "Epoch: 80/80: 100%|██████████| 79/79 [00:04<00:00, 16.96it/s, train_loss=0.000181, valid_loss=0.00269]\n"
     ]
    },
    {
     "name": "stdout",
     "output_type": "stream",
     "text": [
      "supervised data: shape of x: (6237, 72, 16), shape of y: (6237, 24)\n",
      "MAPE:0.035135122574479254, MAE:459.5412708206288, RMSE:670.5349418102807\n"
     ]
    },
    {
     "data": {
      "image/png": "[encoded data removed]",
      "text/plain": [
       "<Figure size 432x288 with 1 Axes>"
      ]
     },
     "metadata": {
      "needs_background": "light"
     },
     "output_type": "display_data"
    }
   ],
   "source": [
    "torch.random.manual_seed(0)\n",
    "torch.cuda.random.manual_seed(0)\n",
    "MAPE, MAE, RMSE, load_pred, load_true = run_model_retraining()\n",
    "print('MAPE:{}, MAE:{}, RMSE:{}'.format(MAPE, MAE, RMSE))"
   ]
  },
  {
   "cell_type": "code",
   "execution_count": 34,
   "id": "6ee9e305",
   "metadata": {
    "ExecuteTime": {
     "end_time": "2021-12-29T12:49:51.449720Z",
     "start_time": "2021-12-29T12:49:51.443868Z"
    }
   },
   "outputs": [
    {
     "name": "stdout",
     "output_type": "stream",
     "text": [
      "MAPE:0.035135122574479254, MAE:459.5412708206288, RMSE:670.5349418102807\n"
     ]
    }
   ],
   "source": [
    "print('MAPE:{}, MAE:{}, RMSE:{}'.format(MAPE, MAE, RMSE))"
   ]
  },
  {
   "cell_type": "markdown",
   "id": "5490f716",
   "metadata": {},
   "source": [
    "## figure plot"
   ]
  },
  {
   "cell_type": "code",
   "execution_count": 35,
   "id": "59746520",
   "metadata": {
    "ExecuteTime": {
     "end_time": "2021-12-29T12:49:53.108368Z",
     "start_time": "2021-12-29T12:49:52.976817Z"
    }
   },
   "outputs": [
    {
     "data": {
      "text/plain": [
       "(0.0, 19464.770406182648)"
      ]
     },
     "execution_count": 35,
     "metadata": {},
     "output_type": "execute_result"
    },
    {
     "data": {
      "image/png": "[encoded data removed]",
      "text/plain": [
       "<Figure size 1440x720 with 1 Axes>"
      ]
     },
     "metadata": {
      "needs_background": "light"
     },
     "output_type": "display_data"
    }
   ],
   "source": [
    "plt.figure(figsize=(20, 10))\n",
    "load_pred = load_pred.reshape(-1, target_len)\n",
    "load_true = load_true.reshape(-1, target_len)\n",
    "plt.plot(load_pred[:240, 0], 'r')\n",
    "plt.plot(load_true[:240, 0], 'g')\n",
    "plt.ylim(0)"
   ]
  }
 ],
 "metadata": {
  "kernelspec": {
   "display_name": "Python 3",
   "language": "python",
   "name": "python3"
  },
  "language_info": {
   "codemirror_mode": {
    "name": "ipython",
    "version": 3
   },
   "file_extension": ".py",
   "mimetype": "text/x-python",
   "name": "python",
   "nbconvert_exporter": "python",
   "pygments_lexer": "ipython3",
   "version": "3.8.12"
  },
  "toc": {
   "base_numbering": 1,
   "nav_menu": {},
   "number_sections": true,
   "sideBar": true,
   "skip_h1_title": false,
   "title_cell": "Table of Contents",
   "title_sidebar": "Contents",
   "toc_cell": false,
   "toc_position": {
    "height": "calc(100% - 180px)",
    "left": "10px",
    "top": "150px",
    "width": "374.391px"
   },
   "toc_section_display": true,
   "toc_window_display": true
  },
  "varInspector": {
   "cols": {
    "lenName": 16,
    "lenType": 16,
    "lenVar": 40
   },
   "kernels_config": {
    "python": {
     "delete_cmd_postfix": "",
     "delete_cmd_prefix": "del ",
     "library": "var_list.py",
     "varRefreshCmd": "print(var_dic_list())"
    },
    "r": {
     "delete_cmd_postfix": ") ",
     "delete_cmd_prefix": "rm(",
     "library": "var_list.r",
     "varRefreshCmd": "cat(var_dic_list()) "
    }
   },
   "oldHeight": 320.844,
   "position": {
    "height": "342.844px",
    "left": "1482px",
    "right": "20px",
    "top": "127px",
    "width": "350px"
   },
   "types_to_exclude": [
    "module",
    "function",
    "builtin_function_or_method",
    "instance",
    "_Feature"
   ],
   "varInspector_section_display": "block",
   "window_display": false
  }
 },
 "nbformat": 4,
 "nbformat_minor": 5
}
