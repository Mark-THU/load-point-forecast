{
 "cells": [
  {
   "cell_type": "markdown",
   "id": "f136fbae",
   "metadata": {},
   "source": [
    "# BiLSTM for forecast"
   ]
  },
  {
   "cell_type": "code",
   "execution_count": 1,
   "id": "0f020743",
   "metadata": {
    "ExecuteTime": {
     "end_time": "2022-01-22T02:19:12.390465Z",
     "start_time": "2022-01-22T02:19:11.408347Z"
    }
   },
   "outputs": [],
   "source": [
    "import pandas as pd\n",
    "import numpy as np\n",
    "import matplotlib.pyplot as plt\n",
    "import pdb\n",
    "import torch\n",
    "import torch.nn as nn\n",
    "import random\n",
    "\n",
    "from sklearn.preprocessing import MinMaxScaler\n",
    "from sklearn.model_selection import train_test_split, TimeSeriesSplit\n",
    "from torch.autograd import Variable\n",
    "from torch.utils.data import TensorDataset, DataLoader\n",
    "from tqdm import tqdm\n",
    "from xgboost import XGBRegressor\n",
    "\n",
    "np.random.seed(0)\n",
    "torch.cuda.manual_seed(0)\n",
    "torch.manual_seed(0)\n",
    "if torch.cuda.is_available():\n",
    "    dev = \"cuda:0\"\n",
    "else:\n",
    "    dev = \"cpu\"\n",
    "device = torch.device(dev)"
   ]
  },
  {
   "cell_type": "code",
   "execution_count": 16,
   "id": "25c56ab6",
   "metadata": {
    "ExecuteTime": {
     "end_time": "2022-01-23T02:03:30.516196Z",
     "start_time": "2022-01-23T02:03:30.509932Z"
    }
   },
   "outputs": [],
   "source": [
    "def random_seed_set(seed):\n",
    "    np.random.seed(seed)\n",
    "    torch.random.manual_seed(seed)\n",
    "    torch.cuda.random.manual_seed(seed)\n",
    "    torch.backends.cudnn.benchmark = False\n",
    "    torch.backends.cudnn.deterministic = True"
   ]
  },
  {
   "cell_type": "markdown",
   "id": "bfcfdc41",
   "metadata": {},
   "source": [
    "## load data"
   ]
  },
  {
   "cell_type": "code",
   "execution_count": 29,
   "id": "d604fbd4",
   "metadata": {
    "ExecuteTime": {
     "end_time": "2022-01-23T07:35:06.152693Z",
     "start_time": "2022-01-23T07:35:06.090625Z"
    }
   },
   "outputs": [],
   "source": [
    "url = '../data/chongqing.csv'\n",
    "data = pd.read_csv(url, sep=',', index_col='time')\n",
    "data.index = pd.to_datetime(data.index)"
   ]
  },
  {
   "cell_type": "markdown",
   "id": "44e1a6dc",
   "metadata": {},
   "source": [
    "## normalization"
   ]
  },
  {
   "cell_type": "code",
   "execution_count": 3,
   "id": "30dd4f9c",
   "metadata": {
    "ExecuteTime": {
     "end_time": "2022-01-22T02:19:12.479327Z",
     "start_time": "2022-01-22T02:19:12.475766Z"
    }
   },
   "outputs": [],
   "source": [
    "def normalization(data):\n",
    "    \"\"\"\n",
    "    data: original data with load\n",
    "    return: normalized data, scaler of load\n",
    "    \"\"\"\n",
    "    scaler = MinMaxScaler()\n",
    "    normalized_data = scaler.fit_transform(data)\n",
    "    scaler_y = MinMaxScaler()\n",
    "    scaler_y.fit_transform(data[[data.columns[-1]]])\n",
    "    return normalized_data, scaler, scaler_y"
   ]
  },
  {
   "cell_type": "markdown",
   "id": "5c007ed9",
   "metadata": {
    "ExecuteTime": {
     "end_time": "2021-12-22T07:45:44.192666Z",
     "start_time": "2021-12-22T07:45:44.188985Z"
    }
   },
   "source": [
    "## build supervised dataset"
   ]
  },
  {
   "cell_type": "code",
   "execution_count": 4,
   "id": "bdb0ff9a",
   "metadata": {
    "ExecuteTime": {
     "end_time": "2022-01-22T02:19:12.484925Z",
     "start_time": "2022-01-22T02:19:12.481082Z"
    }
   },
   "outputs": [],
   "source": [
    "def series_to_supervise(data, seq_len, target_len):\n",
    "    \"\"\"\n",
    "    convert series data to supervised data\n",
    "    :param data: original data\n",
    "    :param seq_len: length of input sequence\n",
    "    :param target_len: length of ouput sequence\n",
    "    :return: return two ndarrays-- input and output in format suitable to feed to LSTM\n",
    "    \"\"\"\n",
    "    dim_0 = data.shape[0] - seq_len - target_len + 1\n",
    "    dim_1 = data.shape[1]\n",
    "    x = np.zeros((dim_0, seq_len, dim_1))\n",
    "    y = np.zeros((dim_0, target_len))\n",
    "    for i in range(dim_0):\n",
    "        x[i] = data[i:i + seq_len]\n",
    "        y[i] = data[i + seq_len:i + seq_len + target_len, -1]\n",
    "    print(\"supervised data: shape of x: {}, shape of y: {}\".format(\n",
    "        x.shape, y.shape))\n",
    "    return x, y"
   ]
  },
  {
   "cell_type": "markdown",
   "id": "29d78127",
   "metadata": {},
   "source": [
    "## 5-folds TimeSeriesSplit"
   ]
  },
  {
   "cell_type": "code",
   "execution_count": 5,
   "id": "dabff125",
   "metadata": {
    "ExecuteTime": {
     "end_time": "2022-01-22T02:19:12.489724Z",
     "start_time": "2022-01-22T02:19:12.486140Z"
    }
   },
   "outputs": [],
   "source": [
    "def time_series_split(X, Y, n_split=5):\n",
    "    \"\"\"\n",
    "    X: features, size * seq_len * feature_num\n",
    "    Y: labels, size * target_len\n",
    "    return: list of train_x, test_x, train_y, test_y\n",
    "    \"\"\"\n",
    "    tscv = TimeSeriesSplit(n_splits=n_split)\n",
    "    train_x_list = list()\n",
    "    valid_x_list = list()\n",
    "    train_y_list = list()\n",
    "    valid_y_list = list()\n",
    "    for train_index, valid_index in tscv.split(X):\n",
    "        train_x_list.append(X[train_index])\n",
    "        train_y_list.append(Y[train_index])\n",
    "        valid_x_list.append(X[valid_index])\n",
    "        valid_y_list.append(Y[valid_index])\n",
    "    return train_x_list, train_y_list, valid_x_list, valid_y_list"
   ]
  },
  {
   "cell_type": "markdown",
   "id": "28c87231",
   "metadata": {},
   "source": [
    "## BiLSTM model"
   ]
  },
  {
   "cell_type": "code",
   "execution_count": 6,
   "id": "7fa59c44",
   "metadata": {
    "ExecuteTime": {
     "end_time": "2022-01-22T02:19:12.500087Z",
     "start_time": "2022-01-22T02:19:12.490923Z"
    }
   },
   "outputs": [
    {
     "data": {
      "text/plain": [
       "\"\\n# pytorch nn.LSTM's input default to zeros if (h_0, c_0) is not provided.\\n    def init_hidden(self, batch_size):\\n        hidden = (torch.zeros(self.n_layers * 2, batch_size,\\n                              self.hidden_dim).to(device),\\n                  torch.zeros(self.n_layers * 2, batch_size,\\n                              self.hidden_dim).to(device))\\n        return hidden\\n\""
      ]
     },
     "execution_count": 6,
     "metadata": {},
     "output_type": "execute_result"
    }
   ],
   "source": [
    "class BiLSTM(nn.Module):\n",
    "    def __init__(self, input_size, output_size, hidden_dim, n_layers,\n",
    "                 drop_prob):\n",
    "        super(BiLSTM, self).__init__()\n",
    "        # model parameters\n",
    "        self.hidden_dim = hidden_dim\n",
    "        self.n_layers = n_layers\n",
    "        self.output_size = output_size\n",
    "        # layes\n",
    "        self.lstm = nn.LSTM(input_size=input_size,\n",
    "                            hidden_size=hidden_dim,\n",
    "                            num_layers=n_layers,\n",
    "                            batch_first=True,\n",
    "                            dropout=drop_prob,\n",
    "                            bidirectional=True)\n",
    "        self.fc = nn.Sequential()\n",
    "\n",
    "        input_size = hidden_dim * 2\n",
    "        i = 0\n",
    "        while (input_size > 8):\n",
    "            self.fc.add_module('linear{}'.format(i),\n",
    "                               nn.Linear(input_size, round(input_size / 2)))\n",
    "            self.fc.add_module('relu{}'.format(i), nn.ReLU())\n",
    "            input_size = round(input_size / 2)\n",
    "            i += 1\n",
    "        self.fc.add_module('linear{}'.format(i), nn.Linear(input_size, 1))\n",
    "\n",
    "    # predict using outputs of the last 24 steps\n",
    "    def forward(self, x):\n",
    "\n",
    "        lstm_out, hidden = self.lstm(x)\n",
    "        lstm_out = lstm_out[:, -self.output_size:, :]\n",
    "\n",
    "        out = self.fc(lstm_out)\n",
    "\n",
    "        out = out.reshape(x.shape[0], -1)\n",
    "\n",
    "        return out\n",
    "\n",
    "\n",
    "\"\"\"\n",
    "# pytorch nn.LSTM's input default to zeros if (h_0, c_0) is not provided.\n",
    "    def init_hidden(self, batch_size):\n",
    "        hidden = (torch.zeros(self.n_layers * 2, batch_size,\n",
    "                              self.hidden_dim).to(device),\n",
    "                  torch.zeros(self.n_layers * 2, batch_size,\n",
    "                              self.hidden_dim).to(device))\n",
    "        return hidden\n",
    "\"\"\""
   ]
  },
  {
   "cell_type": "markdown",
   "id": "717a4ea1",
   "metadata": {
    "ExecuteTime": {
     "end_time": "2021-12-22T08:30:19.661769Z",
     "start_time": "2021-12-22T08:30:19.656770Z"
    }
   },
   "source": [
    "## model training for HPO"
   ]
  },
  {
   "cell_type": "code",
   "execution_count": 35,
   "id": "3c35c8ef",
   "metadata": {
    "ExecuteTime": {
     "end_time": "2022-01-23T07:49:15.246642Z",
     "start_time": "2022-01-23T07:49:15.223639Z"
    }
   },
   "outputs": [],
   "source": [
    "def train_model_hpo(train_x_list, train_y_list, valid_x_list, valid_y_list,\n",
    "                    input_size, output_size, mse_thresh, batch_size, lr,\n",
    "                    number_epoch, hidden_dim, n_layers, drop_prob,\n",
    "                    weight_decay):\n",
    "    valid_loss_list = []\n",
    "    for num in range(len(train_x_list)):\n",
    "        while (1):\n",
    "            model = BiLSTM(input_size, output_size, hidden_dim, n_layers,\n",
    "                           drop_prob)\n",
    "            model.to(device=device)\n",
    "            criterion = nn.MSELoss()\n",
    "            optimizer = torch.optim.Adam(model.parameters(),\n",
    "                                         lr=lr,\n",
    "                                         weight_decay=weight_decay)\n",
    "            scheduler = torch.optim.lr_scheduler.StepLR(optimizer,\n",
    "                                                        1,\n",
    "                                                        gamma=0.98)\n",
    "            valid_loss_min = np.Inf\n",
    "            print('cross-validation dataset {}'.format(num))\n",
    "            train_x = train_x_list[num]\n",
    "            train_y = train_y_list[num]\n",
    "            valid_x = valid_x_list[num]\n",
    "            valid_y = valid_y_list[num]\n",
    "            train_dataset = TensorDataset(torch.FloatTensor(train_x),\n",
    "                                          torch.FloatTensor(train_y))\n",
    "            valid_dataset = TensorDataset(torch.FloatTensor(valid_x),\n",
    "                                          torch.FloatTensor(valid_y))\n",
    "            train_loader = DataLoader(dataset=train_dataset,\n",
    "                                      batch_size=batch_size,\n",
    "                                      shuffle=True,\n",
    "                                      drop_last=False)\n",
    "            valid_loader = DataLoader(dataset=valid_dataset,\n",
    "                                      batch_size=batch_size,\n",
    "                                      shuffle=True,\n",
    "                                      drop_last=False)\n",
    "            num_without_imp = 0\n",
    "            # training process\n",
    "            for epoch in range(1, number_epoch + 1):\n",
    "                loop = tqdm(enumerate(train_loader),\n",
    "                            total=len(train_loader),\n",
    "                            leave=True, ncols=100)\n",
    "                for i, (inputs, labels) in loop:\n",
    "                    inputs = inputs.to(device=device)\n",
    "                    labels = labels.to(device=device)\n",
    "                    optimizer.zero_grad()\n",
    "                    outputs = model(inputs)\n",
    "                    loss = criterion(outputs, labels)\n",
    "                    loss.backward()\n",
    "                    optimizer.step()\n",
    "                    if i % 5 == 0:\n",
    "                        num_without_imp = num_without_imp + 1\n",
    "                        valid_losses = list()\n",
    "                        model.eval()\n",
    "                        for inp, lab in valid_loader:\n",
    "                            inp = inp.to(device)\n",
    "                            lab = lab.to(device)\n",
    "                            out = model(inp)\n",
    "                            valid_loss = criterion(out, lab)\n",
    "                            valid_losses.append(valid_loss.item())\n",
    "\n",
    "                        model.train()\n",
    "                        loop.set_description(\"Epoch: {}/{}\".format(\n",
    "                            epoch, number_epoch))\n",
    "                        loop.set_postfix(train_loss=loss.item(),\n",
    "                                         valid_loss=np.mean(valid_losses))\n",
    "                        if np.mean(valid_losses) < valid_loss_min:\n",
    "                            num_without_imp = 0\n",
    "                            valid_loss_min = np.mean(valid_losses)\n",
    "                scheduler.step()\n",
    "                if num_without_imp >= 50:\n",
    "                    #                     break\n",
    "                    pass\n",
    "            if valid_loss_min < mse_thresh:\n",
    "                valid_loss_list.append(valid_loss_min)\n",
    "                break\n",
    "    return np.mean(valid_loss_list)"
   ]
  },
  {
   "cell_type": "markdown",
   "id": "0ebbd931",
   "metadata": {},
   "source": [
    "## hyper-parameters config"
   ]
  },
  {
   "cell_type": "code",
   "execution_count": 7,
   "id": "20ee3309",
   "metadata": {
    "ExecuteTime": {
     "end_time": "2022-01-22T02:19:17.539020Z",
     "start_time": "2022-01-22T02:19:17.528172Z"
    }
   },
   "outputs": [],
   "source": [
    "seq_len = 72\n",
    "target_len = 24\n",
    "mse_thresh = 0.05\n",
    "\n",
    "\n",
    "def model_config():\n",
    "    batch_sizes = [256]\n",
    "    lrs = [0.01]\n",
    "    number_epochs = [30]\n",
    "    hidden_dims = [32, 64, 16]\n",
    "    n_layers = [2, 3]\n",
    "    drop_prob = [0]\n",
    "    weight_decays = [0]\n",
    "    configs = list()\n",
    "    for i in batch_sizes:\n",
    "        for j in lrs:\n",
    "            for k in number_epochs:\n",
    "                for l in hidden_dims:\n",
    "                    for m in n_layers:\n",
    "                        for n in drop_prob:\n",
    "                            for o in weight_decays:\n",
    "                                configs.append({\n",
    "                                    'batch_size': i,\n",
    "                                    'lr': j,\n",
    "                                    'number_epoch': k,\n",
    "                                    'hidden_dim': l,\n",
    "                                    'n_layers': m,\n",
    "                                    'drop_prob': n,\n",
    "                                    'weight_decay': o,\n",
    "                                })\n",
    "    return configs"
   ]
  },
  {
   "cell_type": "markdown",
   "id": "88abd2f2",
   "metadata": {},
   "source": [
    "## random search for HPO"
   ]
  },
  {
   "cell_type": "code",
   "execution_count": 33,
   "id": "9a5fdfa2",
   "metadata": {
    "ExecuteTime": {
     "end_time": "2022-01-23T07:48:49.061610Z",
     "start_time": "2022-01-23T07:48:49.046548Z"
    }
   },
   "outputs": [],
   "source": [
    "def run_model_hpo(seq_len=seq_len,\n",
    "                  target_len=target_len,\n",
    "                  mse_thresh=mse_thresh):\n",
    "    train_data = data[:int(0.8 * len(data))]\n",
    "    train_data, _, _ = normalization(train_data)\n",
    "    train_x, train_y = series_to_supervise(train_data, seq_len, target_len)\n",
    "    train_x_list, train_y_list, valid_x_list, valid_y_list = time_series_split(\n",
    "        train_x, train_y)\n",
    "    #     with enough data\n",
    "    train_x_list = train_x_list[-1:]\n",
    "    train_y_list = train_y_list[-1:]\n",
    "    valid_x_list = valid_x_list[-1:]\n",
    "    valid_y_list = valid_y_list[-1:]\n",
    "\n",
    "    configs = model_config()\n",
    "    records = []\n",
    "    input_size = train_x.shape[2]\n",
    "    output_size = target_len\n",
    "    for i in range(6):\n",
    "        config = random.choice(configs)\n",
    "        configs.remove(config)\n",
    "        batch_size = config['batch_size']\n",
    "        lr = config['lr']\n",
    "        number_epoch = config['number_epoch']\n",
    "        hidden_dim = config['hidden_dim']\n",
    "        n_layers = config['n_layers']\n",
    "        drop_prob = config['drop_prob']\n",
    "        weight_decay = config['weight_decay']\n",
    "        print(\n",
    "            \"model config: batch_size-{}, lr-{}, number_epoch-{}, hidden_dim-{}, n_layers-{},drop_prob-{},weight_decay-{}\"\n",
    "            .format(batch_size, lr, number_epoch, hidden_dim, n_layers,\n",
    "                    drop_prob, weight_decay))\n",
    "        valid_loss = train_model_hpo(train_x_list, train_y_list, valid_x_list,\n",
    "                                     valid_y_list, input_size, output_size,\n",
    "                                     mse_thresh, batch_size, lr, number_epoch,\n",
    "                                     hidden_dim, n_layers, drop_prob,\n",
    "                                     weight_decay)\n",
    "        records.append({\n",
    "            'batch_size': batch_size,\n",
    "            'lr': lr,\n",
    "            'number_epoch': number_epoch,\n",
    "            'hidden_dim': hidden_dim,\n",
    "            'n_layers': n_layers,\n",
    "            'drop_prob': drop_prob,\n",
    "            'weight_decay': weight_decay,\n",
    "            'valid_loss': valid_loss\n",
    "        })\n",
    "    return records"
   ]
  },
  {
   "cell_type": "markdown",
   "id": "cdce3919",
   "metadata": {},
   "source": [
    "## run random search"
   ]
  },
  {
   "cell_type": "code",
   "execution_count": 36,
   "id": "255f4dd8",
   "metadata": {
    "ExecuteTime": {
     "end_time": "2022-01-23T08:00:41.698251Z",
     "start_time": "2022-01-23T07:49:19.077114Z"
    }
   },
   "outputs": [
    {
     "name": "stdout",
     "output_type": "stream",
     "text": [
      "supervised data: shape of x: (25090, 72, 16), shape of y: (25090, 24)\n",
      "model config: batch_size-256, lr-0.01, number_epoch-30, hidden_dim-64, n_layers-3,drop_prob-0,weight_decay-0\n",
      "cross-validation dataset 0\n"
     ]
    },
    {
     "name": "stderr",
     "output_type": "stream",
     "text": [
      "Epoch: 1/30: 100%|██████████| 82/82 [00:05<00:00, 15.24it/s, train_loss=0.00359, valid_loss=0.00596]\n",
      "Epoch: 2/30: 100%|██████████| 82/82 [00:05<00:00, 15.17it/s, train_loss=0.00135, valid_loss=0.00284]\n",
      "Epoch: 3/30: 100%|██████████| 82/82 [00:05<00:00, 14.80it/s, train_loss=0.00185, valid_loss=0.00331]\n",
      "Epoch: 4/30: 100%|██████████| 82/82 [00:05<00:00, 15.38it/s, train_loss=0.00107, valid_loss=0.00246]\n",
      "Epoch: 5/30: 100%|██████████| 82/82 [00:05<00:00, 14.98it/s, train_loss=0.00135, valid_loss=0.00251]\n",
      "Epoch: 6/30: 100%|██████████| 82/82 [00:05<00:00, 15.06it/s, train_loss=0.00192, valid_loss=0.00285]\n",
      "Epoch: 7/30: 100%|█████████| 82/82 [00:05<00:00, 14.88it/s, train_loss=0.000891, valid_loss=0.00261]\n",
      "Epoch: 8/30: 100%|█████████| 82/82 [00:05<00:00, 15.34it/s, train_loss=0.000784, valid_loss=0.00275]\n",
      "Epoch: 9/30: 100%|█████████| 82/82 [00:05<00:00, 15.34it/s, train_loss=0.000686, valid_loss=0.00264]\n",
      "Epoch: 10/30: 100%|█████████| 82/82 [00:05<00:00, 14.79it/s, train_loss=0.00062, valid_loss=0.00318]\n",
      "Epoch: 11/30: 100%|█████████| 82/82 [00:05<00:00, 14.87it/s, train_loss=0.000462, valid_loss=0.0032]\n",
      "Epoch: 12/30: 100%|████████| 82/82 [00:05<00:00, 14.44it/s, train_loss=0.000323, valid_loss=0.00408]\n",
      "Epoch: 13/30: 100%|█████████| 82/82 [00:05<00:00, 14.77it/s, train_loss=0.00041, valid_loss=0.00277]\n",
      "Epoch: 14/30: 100%|████████| 82/82 [00:05<00:00, 14.52it/s, train_loss=0.000312, valid_loss=0.00326]\n",
      "Epoch: 15/30: 100%|████████| 82/82 [00:05<00:00, 14.89it/s, train_loss=0.000183, valid_loss=0.00319]\n",
      "Epoch: 16/30: 100%|█████████| 82/82 [00:05<00:00, 14.89it/s, train_loss=0.00016, valid_loss=0.00324]\n",
      "Epoch: 17/30: 100%|████████| 82/82 [00:05<00:00, 14.94it/s, train_loss=0.000142, valid_loss=0.00328]\n",
      "Epoch: 18/30: 100%|████████| 82/82 [00:05<00:00, 15.18it/s, train_loss=0.000128, valid_loss=0.00326]\n",
      "Epoch: 19/30: 100%|█████████| 82/82 [00:05<00:00, 15.07it/s, train_loss=9.56e-5, valid_loss=0.00333]\n",
      "Epoch: 20/30: 100%|█████████| 82/82 [00:05<00:00, 14.96it/s, train_loss=9.01e-5, valid_loss=0.00323]\n",
      "Epoch: 21/30: 100%|████████| 82/82 [00:05<00:00, 15.41it/s, train_loss=0.000105, valid_loss=0.00326]\n",
      "Epoch: 22/30: 100%|█████████| 82/82 [00:05<00:00, 15.15it/s, train_loss=6.31e-5, valid_loss=0.00325]\n",
      "Epoch: 23/30: 100%|█████████| 82/82 [00:05<00:00, 15.02it/s, train_loss=5.44e-5, valid_loss=0.00347]\n",
      "Epoch: 24/30: 100%|█████████| 82/82 [00:05<00:00, 15.09it/s, train_loss=4.62e-5, valid_loss=0.00338]\n",
      "Epoch: 25/30: 100%|██████████| 82/82 [00:05<00:00, 15.01it/s, train_loss=6.4e-5, valid_loss=0.00333]\n",
      "Epoch: 26/30: 100%|█████████| 82/82 [00:05<00:00, 14.75it/s, train_loss=5.69e-5, valid_loss=0.00344]\n",
      "Epoch: 27/30: 100%|██████████| 82/82 [00:05<00:00, 15.17it/s, train_loss=4.2e-5, valid_loss=0.00346]\n",
      "Epoch: 28/30: 100%|█████████| 82/82 [00:05<00:00, 15.07it/s, train_loss=3.34e-5, valid_loss=0.00331]\n",
      "Epoch: 29/30: 100%|█████████| 82/82 [00:05<00:00, 14.58it/s, train_loss=5.84e-5, valid_loss=0.00338]\n",
      "Epoch: 30/30: 100%|█████████| 82/82 [00:05<00:00, 15.30it/s, train_loss=3.28e-5, valid_loss=0.00344]\n"
     ]
    },
    {
     "name": "stdout",
     "output_type": "stream",
     "text": [
      "model config: batch_size-256, lr-0.01, number_epoch-30, hidden_dim-64, n_layers-2,drop_prob-0,weight_decay-0\n",
      "cross-validation dataset 0\n"
     ]
    },
    {
     "name": "stderr",
     "output_type": "stream",
     "text": [
      "Epoch: 1/30: 100%|████████████| 82/82 [00:04<00:00, 19.91it/s, train_loss=0.0252, valid_loss=0.0334]\n",
      "Epoch: 2/30: 100%|████████████| 82/82 [00:04<00:00, 19.31it/s, train_loss=0.0233, valid_loss=0.0316]\n",
      "Epoch: 3/30: 100%|██████████| 82/82 [00:03<00:00, 20.55it/s, train_loss=0.00502, valid_loss=0.00712]\n",
      "Epoch: 4/30: 100%|██████████| 82/82 [00:04<00:00, 20.11it/s, train_loss=0.00221, valid_loss=0.00363]\n",
      "Epoch: 5/30: 100%|██████████| 82/82 [00:04<00:00, 19.61it/s, train_loss=0.00175, valid_loss=0.00284]\n",
      "Epoch: 6/30: 100%|██████████| 82/82 [00:04<00:00, 19.81it/s, train_loss=0.00169, valid_loss=0.00293]\n",
      "Epoch: 7/30: 100%|████████████| 82/82 [00:04<00:00, 20.24it/s, train_loss=0.002, valid_loss=0.00275]\n",
      "Epoch: 8/30: 100%|██████████| 82/82 [00:04<00:00, 19.61it/s, train_loss=0.00124, valid_loss=0.00256]\n",
      "Epoch: 9/30: 100%|█████████| 82/82 [00:04<00:00, 19.65it/s, train_loss=0.000658, valid_loss=0.00244]\n",
      "Epoch: 10/30: 100%|█████████| 82/82 [00:04<00:00, 19.83it/s, train_loss=0.00116, valid_loss=0.00263]\n",
      "Epoch: 11/30: 100%|██████████| 82/82 [00:04<00:00, 19.52it/s, train_loss=0.00157, valid_loss=0.0025]\n",
      "Epoch: 12/30: 100%|█████████| 82/82 [00:04<00:00, 19.80it/s, train_loss=0.00132, valid_loss=0.00276]\n",
      "Epoch: 13/30: 100%|█████████| 82/82 [00:04<00:00, 19.64it/s, train_loss=0.00138, valid_loss=0.00266]\n",
      "Epoch: 14/30: 100%|████████| 82/82 [00:04<00:00, 19.67it/s, train_loss=0.000931, valid_loss=0.00235]\n",
      "Epoch: 15/30: 100%|██████████| 82/82 [00:04<00:00, 19.35it/s, train_loss=0.0012, valid_loss=0.00266]\n",
      "Epoch: 16/30: 100%|████████| 82/82 [00:04<00:00, 19.96it/s, train_loss=0.000655, valid_loss=0.00258]\n",
      "Epoch: 17/30: 100%|████████| 82/82 [00:03<00:00, 22.32it/s, train_loss=0.000885, valid_loss=0.00243]\n",
      "Epoch: 18/30: 100%|████████| 82/82 [00:03<00:00, 23.02it/s, train_loss=0.000691, valid_loss=0.00256]\n",
      "Epoch: 19/30: 100%|█████████| 82/82 [00:03<00:00, 21.79it/s, train_loss=0.00075, valid_loss=0.00251]\n",
      "Epoch: 20/30: 100%|████████| 82/82 [00:03<00:00, 20.88it/s, train_loss=0.000643, valid_loss=0.00272]\n",
      "Epoch: 21/30: 100%|████████| 82/82 [00:03<00:00, 22.47it/s, train_loss=0.000601, valid_loss=0.00242]\n",
      "Epoch: 22/30: 100%|█████████| 82/82 [00:03<00:00, 21.87it/s, train_loss=0.000543, valid_loss=0.0026]\n",
      "Epoch: 23/30: 100%|████████| 82/82 [00:04<00:00, 20.45it/s, train_loss=0.000648, valid_loss=0.00266]\n",
      "Epoch: 24/30: 100%|████████| 82/82 [00:03<00:00, 22.41it/s, train_loss=0.000633, valid_loss=0.00279]\n",
      "Epoch: 25/30: 100%|██████████| 82/82 [00:03<00:00, 21.67it/s, train_loss=0.0005, valid_loss=0.00275]\n",
      "Epoch: 26/30: 100%|█████████| 82/82 [00:03<00:00, 23.16it/s, train_loss=0.00045, valid_loss=0.00276]\n",
      "Epoch: 27/30: 100%|████████| 82/82 [00:03<00:00, 22.78it/s, train_loss=0.000473, valid_loss=0.00282]\n",
      "Epoch: 28/30: 100%|█████████| 82/82 [00:03<00:00, 22.90it/s, train_loss=0.000478, valid_loss=0.0028]\n",
      "Epoch: 29/30: 100%|████████| 82/82 [00:03<00:00, 22.76it/s, train_loss=0.000434, valid_loss=0.00298]\n",
      "Epoch: 30/30: 100%|████████| 82/82 [00:03<00:00, 22.83it/s, train_loss=0.000331, valid_loss=0.00293]\n"
     ]
    },
    {
     "name": "stdout",
     "output_type": "stream",
     "text": [
      "model config: batch_size-256, lr-0.01, number_epoch-30, hidden_dim-32, n_layers-3,drop_prob-0,weight_decay-0\n",
      "cross-validation dataset 0\n"
     ]
    },
    {
     "name": "stderr",
     "output_type": "stream",
     "text": [
      "Epoch: 1/30: 100%|██████████| 82/82 [00:03<00:00, 20.71it/s, train_loss=0.00307, valid_loss=0.00507]\n",
      "Epoch: 2/30: 100%|██████████| 82/82 [00:03<00:00, 22.09it/s, train_loss=0.00133, valid_loss=0.00285]\n",
      "Epoch: 3/30: 100%|██████████| 82/82 [00:03<00:00, 21.73it/s, train_loss=0.00127, valid_loss=0.00297]\n",
      "Epoch: 4/30: 100%|██████████| 82/82 [00:03<00:00, 21.57it/s, train_loss=0.00131, valid_loss=0.00231]\n",
      "Epoch: 5/30: 100%|█████████| 82/82 [00:03<00:00, 21.57it/s, train_loss=0.000995, valid_loss=0.00236]\n",
      "Epoch: 6/30: 100%|██████████| 82/82 [00:03<00:00, 21.69it/s, train_loss=0.00104, valid_loss=0.00242]\n",
      "Epoch: 7/30: 100%|██████████| 82/82 [00:03<00:00, 20.92it/s, train_loss=0.00115, valid_loss=0.00228]\n",
      "Epoch: 8/30: 100%|███████████| 82/82 [00:03<00:00, 21.70it/s, train_loss=0.00102, valid_loss=0.0029]\n",
      "Epoch: 9/30: 100%|█████████| 82/82 [00:03<00:00, 22.33it/s, train_loss=0.000641, valid_loss=0.00249]\n",
      "Epoch: 10/30: 100%|████████| 82/82 [00:03<00:00, 21.05it/s, train_loss=0.000553, valid_loss=0.00255]\n",
      "Epoch: 11/30: 100%|████████| 82/82 [00:03<00:00, 22.40it/s, train_loss=0.000587, valid_loss=0.00236]\n",
      "Epoch: 12/30: 100%|████████| 82/82 [00:03<00:00, 22.12it/s, train_loss=0.000493, valid_loss=0.00243]\n",
      "Epoch: 13/30: 100%|█████████| 82/82 [00:03<00:00, 21.69it/s, train_loss=0.000437, valid_loss=0.0026]\n",
      "Epoch: 14/30: 100%|████████| 82/82 [00:03<00:00, 21.96it/s, train_loss=0.000453, valid_loss=0.00297]\n",
      "Epoch: 15/30: 100%|████████| 82/82 [00:03<00:00, 21.91it/s, train_loss=0.000803, valid_loss=0.00251]\n",
      "Epoch: 16/30: 100%|████████| 82/82 [00:03<00:00, 21.35it/s, train_loss=0.000395, valid_loss=0.00287]\n",
      "Epoch: 17/30: 100%|████████| 82/82 [00:03<00:00, 22.24it/s, train_loss=0.000287, valid_loss=0.00285]\n",
      "Epoch: 18/30: 100%|████████| 82/82 [00:03<00:00, 22.31it/s, train_loss=0.000244, valid_loss=0.00284]\n",
      "Epoch: 19/30: 100%|█████████| 82/82 [00:03<00:00, 21.84it/s, train_loss=0.00023, valid_loss=0.00294]\n",
      "Epoch: 20/30: 100%|████████| 82/82 [00:03<00:00, 22.00it/s, train_loss=0.000184, valid_loss=0.00282]\n",
      "Epoch: 21/30: 100%|████████| 82/82 [00:03<00:00, 22.03it/s, train_loss=0.000205, valid_loss=0.00305]\n",
      "Epoch: 22/30: 100%|████████| 82/82 [00:03<00:00, 21.55it/s, train_loss=0.000189, valid_loss=0.00278]\n",
      "Epoch: 23/30: 100%|████████| 82/82 [00:03<00:00, 21.74it/s, train_loss=0.000155, valid_loss=0.00293]\n",
      "Epoch: 24/30: 100%|████████| 82/82 [00:03<00:00, 22.20it/s, train_loss=0.000142, valid_loss=0.00294]\n",
      "Epoch: 25/30: 100%|████████| 82/82 [00:03<00:00, 22.14it/s, train_loss=0.000132, valid_loss=0.00297]\n",
      "Epoch: 26/30: 100%|█████████| 82/82 [00:03<00:00, 22.43it/s, train_loss=0.00012, valid_loss=0.00313]\n",
      "Epoch: 27/30: 100%|████████| 82/82 [00:03<00:00, 22.00it/s, train_loss=0.000103, valid_loss=0.00315]\n",
      "Epoch: 28/30: 100%|█████████| 82/82 [00:03<00:00, 22.43it/s, train_loss=8.79e-5, valid_loss=0.00317]\n",
      "Epoch: 29/30: 100%|████████| 82/82 [00:03<00:00, 22.08it/s, train_loss=0.000101, valid_loss=0.00315]\n",
      "Epoch: 30/30: 100%|████████| 82/82 [00:03<00:00, 21.34it/s, train_loss=0.000113, valid_loss=0.00325]\n"
     ]
    },
    {
     "name": "stdout",
     "output_type": "stream",
     "text": [
      "model config: batch_size-256, lr-0.01, number_epoch-30, hidden_dim-32, n_layers-2,drop_prob-0,weight_decay-0\n",
      "cross-validation dataset 0\n"
     ]
    },
    {
     "name": "stderr",
     "output_type": "stream",
     "text": [
      "Epoch: 1/30: 100%|██████████| 82/82 [00:02<00:00, 28.02it/s, train_loss=0.00198, valid_loss=0.00296]\n",
      "Epoch: 2/30: 100%|██████████| 82/82 [00:03<00:00, 27.15it/s, train_loss=0.00172, valid_loss=0.00264]\n",
      "Epoch: 3/30: 100%|██████████| 82/82 [00:03<00:00, 26.73it/s, train_loss=0.00148, valid_loss=0.00229]\n",
      "Epoch: 4/30: 100%|██████████| 82/82 [00:02<00:00, 27.80it/s, train_loss=0.00105, valid_loss=0.00216]\n",
      "Epoch: 5/30: 100%|█████████| 82/82 [00:02<00:00, 29.04it/s, train_loss=0.000833, valid_loss=0.00214]\n",
      "Epoch: 6/30: 100%|█████████| 82/82 [00:02<00:00, 27.78it/s, train_loss=0.000995, valid_loss=0.00242]\n",
      "Epoch: 7/30: 100%|█████████| 82/82 [00:02<00:00, 27.83it/s, train_loss=0.000854, valid_loss=0.00366]\n",
      "Epoch: 8/30: 100%|█████████| 82/82 [00:02<00:00, 27.94it/s, train_loss=0.000572, valid_loss=0.00337]\n",
      "Epoch: 9/30: 100%|██████████| 82/82 [00:03<00:00, 27.10it/s, train_loss=0.00077, valid_loss=0.00258]\n",
      "Epoch: 10/30: 100%|████████| 82/82 [00:02<00:00, 28.58it/s, train_loss=0.000464, valid_loss=0.00272]\n",
      "Epoch: 11/30: 100%|████████| 82/82 [00:02<00:00, 28.84it/s, train_loss=0.000517, valid_loss=0.00261]\n",
      "Epoch: 12/30: 100%|████████| 82/82 [00:02<00:00, 27.36it/s, train_loss=0.000771, valid_loss=0.00236]\n",
      "Epoch: 13/30: 100%|████████| 82/82 [00:02<00:00, 28.36it/s, train_loss=0.000391, valid_loss=0.00257]\n",
      "Epoch: 14/30: 100%|████████| 82/82 [00:02<00:00, 28.02it/s, train_loss=0.000281, valid_loss=0.00268]\n",
      "Epoch: 15/30: 100%|████████| 82/82 [00:03<00:00, 27.28it/s, train_loss=0.000323, valid_loss=0.00292]\n",
      "Epoch: 16/30: 100%|█████████| 82/82 [00:02<00:00, 28.09it/s, train_loss=0.00026, valid_loss=0.00272]\n",
      "Epoch: 17/30: 100%|████████| 82/82 [00:02<00:00, 28.41it/s, train_loss=0.000261, valid_loss=0.00261]\n",
      "Epoch: 18/30: 100%|████████| 82/82 [00:02<00:00, 27.58it/s, train_loss=0.000183, valid_loss=0.00272]\n",
      "Epoch: 19/30: 100%|█████████| 82/82 [00:02<00:00, 28.72it/s, train_loss=0.000146, valid_loss=0.0027]\n",
      "Epoch: 20/30: 100%|█████████| 82/82 [00:02<00:00, 28.60it/s, train_loss=0.00013, valid_loss=0.00271]\n",
      "Epoch: 21/30: 100%|████████| 82/82 [00:02<00:00, 27.47it/s, train_loss=0.000132, valid_loss=0.00261]\n",
      "Epoch: 22/30: 100%|████████| 82/82 [00:02<00:00, 28.57it/s, train_loss=0.000121, valid_loss=0.00261]\n",
      "Epoch: 23/30: 100%|█████████| 82/82 [00:02<00:00, 28.60it/s, train_loss=0.00011, valid_loss=0.00276]\n",
      "Epoch: 24/30: 100%|█████████| 82/82 [00:02<00:00, 27.60it/s, train_loss=9.42e-5, valid_loss=0.00275]\n",
      "Epoch: 25/30: 100%|█████████| 82/82 [00:02<00:00, 27.97it/s, train_loss=8.16e-5, valid_loss=0.00268]\n",
      "Epoch: 26/30: 100%|█████████| 82/82 [00:02<00:00, 28.35it/s, train_loss=0.00011, valid_loss=0.00271]\n",
      "Epoch: 27/30: 100%|██████████| 82/82 [00:02<00:00, 27.78it/s, train_loss=8.83e-5, valid_loss=0.0027]\n",
      "Epoch: 28/30: 100%|█████████| 82/82 [00:02<00:00, 28.52it/s, train_loss=8.69e-5, valid_loss=0.00265]\n",
      "Epoch: 29/30: 100%|████████████| 82/82 [00:02<00:00, 28.41it/s, train_loss=8e-5, valid_loss=0.00264]\n",
      "Epoch: 30/30: 100%|█████████| 82/82 [00:02<00:00, 27.39it/s, train_loss=6.46e-5, valid_loss=0.00268]\n"
     ]
    },
    {
     "name": "stdout",
     "output_type": "stream",
     "text": [
      "model config: batch_size-256, lr-0.01, number_epoch-30, hidden_dim-16, n_layers-2,drop_prob-0,weight_decay-0\n",
      "cross-validation dataset 0\n"
     ]
    },
    {
     "name": "stderr",
     "output_type": "stream",
     "text": [
      "Epoch: 1/30: 100%|██████████████| 82/82 [00:02<00:00, 28.95it/s, train_loss=0.02, valid_loss=0.0239]\n",
      "Epoch: 2/30: 100%|██████████| 82/82 [00:02<00:00, 28.23it/s, train_loss=0.00269, valid_loss=0.00368]\n",
      "Epoch: 3/30: 100%|██████████| 82/82 [00:02<00:00, 28.11it/s, train_loss=0.00179, valid_loss=0.00337]\n",
      "Epoch: 4/30: 100%|██████████| 82/82 [00:02<00:00, 28.58it/s, train_loss=0.00145, valid_loss=0.00272]\n",
      "Epoch: 5/30: 100%|██████████| 82/82 [00:02<00:00, 28.50it/s, train_loss=0.00151, valid_loss=0.00275]\n",
      "Epoch: 6/30: 100%|██████████| 82/82 [00:02<00:00, 27.89it/s, train_loss=0.00167, valid_loss=0.00277]\n",
      "Epoch: 7/30: 100%|██████████| 82/82 [00:02<00:00, 28.44it/s, train_loss=0.00154, valid_loss=0.00295]\n",
      "Epoch: 8/30: 100%|██████████| 82/82 [00:02<00:00, 28.75it/s, train_loss=0.00122, valid_loss=0.00273]\n",
      "Epoch: 9/30: 100%|██████████| 82/82 [00:02<00:00, 27.51it/s, train_loss=0.00106, valid_loss=0.00245]\n",
      "Epoch: 10/30: 100%|█████████| 82/82 [00:02<00:00, 28.49it/s, train_loss=0.00125, valid_loss=0.00263]\n",
      "Epoch: 11/30: 100%|█████████| 82/82 [00:02<00:00, 28.37it/s, train_loss=0.000899, valid_loss=0.0024]\n",
      "Epoch: 12/30: 100%|█████████| 82/82 [00:02<00:00, 28.18it/s, train_loss=0.00119, valid_loss=0.00241]\n",
      "Epoch: 13/30: 100%|█████████| 82/82 [00:02<00:00, 28.57it/s, train_loss=0.00105, valid_loss=0.00224]\n",
      "Epoch: 14/30: 100%|████████| 82/82 [00:02<00:00, 27.52it/s, train_loss=0.000932, valid_loss=0.00249]\n",
      "Epoch: 15/30: 100%|█████████| 82/82 [00:02<00:00, 28.78it/s, train_loss=0.00088, valid_loss=0.00232]\n",
      "Epoch: 16/30: 100%|█████████| 82/82 [00:02<00:00, 28.51it/s, train_loss=0.00107, valid_loss=0.00253]\n",
      "Epoch: 17/30: 100%|█████████| 82/82 [00:02<00:00, 28.02it/s, train_loss=0.000901, valid_loss=0.0025]\n",
      "Epoch: 18/30: 100%|█████████| 82/82 [00:02<00:00, 28.66it/s, train_loss=0.00109, valid_loss=0.00248]\n",
      "Epoch: 19/30: 100%|████████| 82/82 [00:02<00:00, 28.63it/s, train_loss=0.000715, valid_loss=0.00237]\n",
      "Epoch: 20/30: 100%|████████| 82/82 [00:02<00:00, 28.07it/s, train_loss=0.000572, valid_loss=0.00242]\n",
      "Epoch: 21/30: 100%|████████| 82/82 [00:02<00:00, 28.65it/s, train_loss=0.000853, valid_loss=0.00256]\n",
      "Epoch: 22/30: 100%|████████| 82/82 [00:02<00:00, 28.58it/s, train_loss=0.000696, valid_loss=0.00289]\n",
      "Epoch: 23/30: 100%|█████████| 82/82 [00:02<00:00, 28.21it/s, train_loss=0.00067, valid_loss=0.00236]\n",
      "Epoch: 24/30: 100%|████████| 82/82 [00:02<00:00, 28.78it/s, train_loss=0.000723, valid_loss=0.00258]\n",
      "Epoch: 25/30: 100%|████████| 82/82 [00:02<00:00, 28.36it/s, train_loss=0.000816, valid_loss=0.00251]\n",
      "Epoch: 26/30: 100%|█████████| 82/82 [00:02<00:00, 27.76it/s, train_loss=0.000728, valid_loss=0.0026]\n",
      "Epoch: 27/30: 100%|█████████| 82/82 [00:02<00:00, 28.46it/s, train_loss=0.000695, valid_loss=0.0026]\n",
      "Epoch: 28/30: 100%|████████| 82/82 [00:02<00:00, 28.21it/s, train_loss=0.000576, valid_loss=0.00274]\n",
      "Epoch: 29/30: 100%|████████| 82/82 [00:02<00:00, 27.81it/s, train_loss=0.000831, valid_loss=0.00263]\n",
      "Epoch: 30/30: 100%|████████| 82/82 [00:02<00:00, 28.51it/s, train_loss=0.000623, valid_loss=0.00283]\n"
     ]
    },
    {
     "name": "stdout",
     "output_type": "stream",
     "text": [
      "model config: batch_size-256, lr-0.01, number_epoch-30, hidden_dim-16, n_layers-3,drop_prob-0,weight_decay-0\n",
      "cross-validation dataset 0\n"
     ]
    },
    {
     "name": "stderr",
     "output_type": "stream",
     "text": [
      "Epoch: 1/30: 100%|███████████| 82/82 [00:03<00:00, 22.58it/s, train_loss=0.0025, valid_loss=0.00366]\n",
      "Epoch: 2/30: 100%|██████████| 82/82 [00:03<00:00, 22.10it/s, train_loss=0.00192, valid_loss=0.00294]\n",
      "Epoch: 3/30: 100%|██████████| 82/82 [00:03<00:00, 22.30it/s, train_loss=0.00144, valid_loss=0.00277]\n",
      "Epoch: 4/30: 100%|██████████| 82/82 [00:03<00:00, 21.86it/s, train_loss=0.00161, valid_loss=0.00285]\n",
      "Epoch: 5/30: 100%|██████████| 82/82 [00:03<00:00, 22.37it/s, train_loss=0.00132, valid_loss=0.00272]\n",
      "Epoch: 6/30: 100%|███████████| 82/82 [00:03<00:00, 22.10it/s, train_loss=0.00117, valid_loss=0.0026]\n",
      "Epoch: 7/30: 100%|██████████| 82/82 [00:03<00:00, 22.25it/s, train_loss=0.00176, valid_loss=0.00273]\n",
      "Epoch: 8/30: 100%|███████████| 82/82 [00:03<00:00, 21.79it/s, train_loss=0.0011, valid_loss=0.00282]\n",
      "Epoch: 9/30: 100%|██████████| 82/82 [00:03<00:00, 22.42it/s, train_loss=0.00105, valid_loss=0.00285]\n",
      "Epoch: 10/30: 100%|█████████| 82/82 [00:03<00:00, 21.15it/s, train_loss=0.000657, valid_loss=0.0027]\n",
      "Epoch: 11/30: 100%|█████████| 82/82 [00:03<00:00, 22.22it/s, train_loss=0.000913, valid_loss=0.0027]\n",
      "Epoch: 12/30: 100%|████████| 82/82 [00:03<00:00, 22.86it/s, train_loss=0.000749, valid_loss=0.00259]\n",
      "Epoch: 13/30: 100%|████████| 82/82 [00:03<00:00, 22.13it/s, train_loss=0.000766, valid_loss=0.00297]\n",
      "Epoch: 14/30: 100%|█████████| 82/82 [00:03<00:00, 22.11it/s, train_loss=0.00069, valid_loss=0.00315]\n",
      "Epoch: 15/30: 100%|████████| 82/82 [00:03<00:00, 22.33it/s, train_loss=0.000646, valid_loss=0.00279]\n",
      "Epoch: 16/30: 100%|██████████| 82/82 [00:03<00:00, 22.16it/s, train_loss=0.0011, valid_loss=0.00262]\n",
      "Epoch: 17/30: 100%|█████████| 82/82 [00:03<00:00, 21.29it/s, train_loss=0.00094, valid_loss=0.00252]\n",
      "Epoch: 18/30: 100%|█████████| 82/82 [00:03<00:00, 22.25it/s, train_loss=0.00153, valid_loss=0.00327]\n",
      "Epoch: 19/30: 100%|██████████| 82/82 [00:03<00:00, 22.07it/s, train_loss=0.00102, valid_loss=0.0023]\n",
      "Epoch: 20/30: 100%|████████| 82/82 [00:03<00:00, 22.31it/s, train_loss=0.000776, valid_loss=0.00234]\n",
      "Epoch: 21/30: 100%|████████| 82/82 [00:03<00:00, 21.44it/s, train_loss=0.000854, valid_loss=0.00273]\n",
      "Epoch: 22/30: 100%|████████| 82/82 [00:03<00:00, 22.53it/s, train_loss=0.000827, valid_loss=0.00234]\n",
      "Epoch: 23/30: 100%|████████| 82/82 [00:03<00:00, 21.48it/s, train_loss=0.000685, valid_loss=0.00228]\n",
      "Epoch: 24/30: 100%|████████| 82/82 [00:03<00:00, 21.67it/s, train_loss=0.000594, valid_loss=0.00244]\n",
      "Epoch: 25/30: 100%|████████| 82/82 [00:03<00:00, 21.57it/s, train_loss=0.000841, valid_loss=0.00224]\n",
      "Epoch: 26/30: 100%|████████| 82/82 [00:03<00:00, 21.00it/s, train_loss=0.000843, valid_loss=0.00249]\n",
      "Epoch: 27/30: 100%|████████| 82/82 [00:03<00:00, 22.24it/s, train_loss=0.000643, valid_loss=0.00234]\n",
      "Epoch: 28/30: 100%|████████| 82/82 [00:03<00:00, 21.82it/s, train_loss=0.000761, valid_loss=0.00251]\n",
      "Epoch: 29/30: 100%|████████| 82/82 [00:03<00:00, 21.60it/s, train_loss=0.000536, valid_loss=0.00255]\n",
      "Epoch: 30/30: 100%|████████| 82/82 [00:03<00:00, 22.46it/s, train_loss=0.000536, valid_loss=0.00259]\n"
     ]
    }
   ],
   "source": [
    "records = run_model_hpo()"
   ]
  },
  {
   "cell_type": "markdown",
   "id": "0efe739c",
   "metadata": {
    "ExecuteTime": {
     "end_time": "2021-12-22T08:52:06.844501Z",
     "start_time": "2021-12-22T08:52:06.830928Z"
    }
   },
   "source": [
    "## find the best hyper-parameters"
   ]
  },
  {
   "cell_type": "code",
   "execution_count": 37,
   "id": "5ad4280f",
   "metadata": {
    "ExecuteTime": {
     "end_time": "2022-01-23T08:01:29.758195Z",
     "start_time": "2022-01-23T08:01:29.728671Z"
    }
   },
   "outputs": [
    {
     "data": {
      "text/html": [
       "<div>\n",
       "<style scoped>\n",
       "    .dataframe tbody tr th:only-of-type {\n",
       "        vertical-align: middle;\n",
       "    }\n",
       "\n",
       "    .dataframe tbody tr th {\n",
       "        vertical-align: top;\n",
       "    }\n",
       "\n",
       "    .dataframe thead th {\n",
       "        text-align: right;\n",
       "    }\n",
       "</style>\n",
       "<table border=\"1\" class=\"dataframe\">\n",
       "  <thead>\n",
       "    <tr style=\"text-align: right;\">\n",
       "      <th></th>\n",
       "      <th>batch_size</th>\n",
       "      <th>lr</th>\n",
       "      <th>number_epoch</th>\n",
       "      <th>hidden_dim</th>\n",
       "      <th>n_layers</th>\n",
       "      <th>drop_prob</th>\n",
       "      <th>weight_decay</th>\n",
       "      <th>valid_loss</th>\n",
       "    </tr>\n",
       "  </thead>\n",
       "  <tbody>\n",
       "    <tr>\n",
       "      <th>3</th>\n",
       "      <td>256</td>\n",
       "      <td>0.01</td>\n",
       "      <td>30</td>\n",
       "      <td>32</td>\n",
       "      <td>2</td>\n",
       "      <td>0</td>\n",
       "      <td>0</td>\n",
       "      <td>0.002103</td>\n",
       "    </tr>\n",
       "    <tr>\n",
       "      <th>2</th>\n",
       "      <td>256</td>\n",
       "      <td>0.01</td>\n",
       "      <td>30</td>\n",
       "      <td>32</td>\n",
       "      <td>3</td>\n",
       "      <td>0</td>\n",
       "      <td>0</td>\n",
       "      <td>0.002118</td>\n",
       "    </tr>\n",
       "    <tr>\n",
       "      <th>5</th>\n",
       "      <td>256</td>\n",
       "      <td>0.01</td>\n",
       "      <td>30</td>\n",
       "      <td>16</td>\n",
       "      <td>3</td>\n",
       "      <td>0</td>\n",
       "      <td>0</td>\n",
       "      <td>0.002153</td>\n",
       "    </tr>\n",
       "    <tr>\n",
       "      <th>0</th>\n",
       "      <td>256</td>\n",
       "      <td>0.01</td>\n",
       "      <td>30</td>\n",
       "      <td>64</td>\n",
       "      <td>3</td>\n",
       "      <td>0</td>\n",
       "      <td>0</td>\n",
       "      <td>0.002204</td>\n",
       "    </tr>\n",
       "    <tr>\n",
       "      <th>4</th>\n",
       "      <td>256</td>\n",
       "      <td>0.01</td>\n",
       "      <td>30</td>\n",
       "      <td>16</td>\n",
       "      <td>2</td>\n",
       "      <td>0</td>\n",
       "      <td>0</td>\n",
       "      <td>0.002212</td>\n",
       "    </tr>\n",
       "    <tr>\n",
       "      <th>1</th>\n",
       "      <td>256</td>\n",
       "      <td>0.01</td>\n",
       "      <td>30</td>\n",
       "      <td>64</td>\n",
       "      <td>2</td>\n",
       "      <td>0</td>\n",
       "      <td>0</td>\n",
       "      <td>0.002271</td>\n",
       "    </tr>\n",
       "  </tbody>\n",
       "</table>\n",
       "</div>"
      ],
      "text/plain": [
       "   batch_size    lr  number_epoch  hidden_dim  n_layers  drop_prob  \\\n",
       "3         256  0.01            30          32         2          0   \n",
       "2         256  0.01            30          32         3          0   \n",
       "5         256  0.01            30          16         3          0   \n",
       "0         256  0.01            30          64         3          0   \n",
       "4         256  0.01            30          16         2          0   \n",
       "1         256  0.01            30          64         2          0   \n",
       "\n",
       "   weight_decay  valid_loss  \n",
       "3             0    0.002103  \n",
       "2             0    0.002118  \n",
       "5             0    0.002153  \n",
       "0             0    0.002204  \n",
       "4             0    0.002212  \n",
       "1             0    0.002271  "
      ]
     },
     "execution_count": 37,
     "metadata": {},
     "output_type": "execute_result"
    }
   ],
   "source": [
    "records = pd.DataFrame(records).sort_values(by='valid_loss')\n",
    "records.to_csv('./records/BiLSTM_records.csv',\n",
    "               mode='a',\n",
    "               index=False,\n",
    "               header=False)\n",
    "records"
   ]
  },
  {
   "cell_type": "markdown",
   "id": "d08d88f8",
   "metadata": {},
   "source": [
    "## retrain a model"
   ]
  },
  {
   "cell_type": "code",
   "execution_count": 8,
   "id": "adad54a9",
   "metadata": {
    "ExecuteTime": {
     "end_time": "2022-01-22T02:19:24.877015Z",
     "start_time": "2022-01-22T02:19:24.854750Z"
    }
   },
   "outputs": [],
   "source": [
    "def train_model(train_x, train_y, valid_x, valid_y, input_size, output_size,\n",
    "                mse_thresh, batch_size, lr, number_epoch, hidden_dim, n_layers,\n",
    "                drop_prob, weight_decay):\n",
    "    while (1):\n",
    "        model = BiLSTM(input_size, output_size, hidden_dim, n_layers,\n",
    "                       drop_prob)\n",
    "        model.to(device=device)\n",
    "        criterion = nn.MSELoss()\n",
    "        optimizer = torch.optim.Adam(model.parameters(),\n",
    "                                     lr=lr,\n",
    "                                     weight_decay=weight_decay)\n",
    "        scheduler = torch.optim.lr_scheduler.StepLR(optimizer, 1, gamma=0.98)\n",
    "        valid_loss_min = np.Inf\n",
    "        train_dataset = TensorDataset(torch.FloatTensor(train_x),\n",
    "                                      torch.FloatTensor(train_y))\n",
    "        valid_dataset = TensorDataset(torch.FloatTensor(valid_x),\n",
    "                                      torch.FloatTensor(valid_y))\n",
    "        train_loader = DataLoader(dataset=train_dataset,\n",
    "                                  batch_size=batch_size,\n",
    "                                  shuffle=True,\n",
    "                                  drop_last=False)\n",
    "        valid_loader = DataLoader(dataset=valid_dataset,\n",
    "                                  batch_size=batch_size,\n",
    "                                  shuffle=True,\n",
    "                                  drop_last=False)\n",
    "        num_without_imp = 0\n",
    "        train_loss_list = []\n",
    "        valid_loss_list = []\n",
    "        # training process\n",
    "        for epoch in range(1, number_epoch + 1):\n",
    "            loop = tqdm(enumerate(train_loader),\n",
    "                        total=len(train_loader),\n",
    "                        leave=True, ncols=100)\n",
    "            for i, (inputs, labels) in loop:\n",
    "                inputs = inputs.to(device=device)\n",
    "                labels = labels.to(device=device)\n",
    "                optimizer.zero_grad()\n",
    "                outputs = model(inputs)\n",
    "                loss = criterion(outputs, labels)\n",
    "                loss.backward()\n",
    "                optimizer.step()\n",
    "                if i % 5 == 0:\n",
    "                    num_without_imp = num_without_imp + 1\n",
    "                    valid_losses = list()\n",
    "                    model.eval()\n",
    "                    for inp, lab in valid_loader:\n",
    "                        inp = inp.to(device)\n",
    "                        lab = lab.to(device)\n",
    "                        out = model(inp)\n",
    "                        valid_loss = criterion(out, lab)\n",
    "                        valid_losses.append(valid_loss.item())\n",
    "\n",
    "                    model.train()\n",
    "                    loop.set_description(\"Epoch: {}/{}\".format(\n",
    "                        epoch, number_epoch))\n",
    "                    loop.set_postfix(train_loss=loss.item(),\n",
    "                                     valid_loss=np.mean(valid_losses))\n",
    "\n",
    "                    train_loss_list.append(loss.item())\n",
    "                    valid_loss_list.append(np.mean(valid_losses))\n",
    "                    if np.mean(valid_losses) < valid_loss_min:\n",
    "                        num_without_imp = 0\n",
    "                        torch.save(model.state_dict(),\n",
    "                                   './model/BiLSTM_state_dict.pt')\n",
    "                        valid_loss_min = np.mean(valid_losses)\n",
    "            scheduler.step()\n",
    "        if valid_loss_min < mse_thresh:\n",
    "            break\n",
    "    return model, train_loss_list, valid_loss_list"
   ]
  },
  {
   "cell_type": "markdown",
   "id": "b1fa1997",
   "metadata": {},
   "source": [
    "## test results"
   ]
  },
  {
   "cell_type": "code",
   "execution_count": 9,
   "id": "cb1f353c",
   "metadata": {
    "ExecuteTime": {
     "end_time": "2022-01-22T02:19:26.833213Z",
     "start_time": "2022-01-22T02:19:26.816723Z"
    }
   },
   "outputs": [],
   "source": [
    "def test_model(model, test_x, test_y, scaler_y, batch_size):\n",
    "    test_dataset = TensorDataset(torch.FloatTensor(test_x),\n",
    "                                 torch.FloatTensor(test_y))\n",
    "    test_loader = DataLoader(dataset=test_dataset,\n",
    "                             batch_size=batch_size,\n",
    "                             shuffle=False,\n",
    "                             drop_last=False)\n",
    "    model.load_state_dict(torch.load('./model/BiLSTM_state_dict.pt'))\n",
    "    y_pred = []\n",
    "    y_true = []\n",
    "    with torch.no_grad():\n",
    "        for inputs, label in test_loader:\n",
    "            inputs = inputs.to(device)\n",
    "            label = label.to(device)\n",
    "            outputs = model(inputs)\n",
    "            y_pred += outputs.cpu().numpy().flatten().tolist()\n",
    "            y_true += label.cpu().numpy().flatten().tolist()\n",
    "    y_pred = np.array(y_pred).reshape(-1, 1)\n",
    "    y_true = np.array(y_true).reshape(-1, 1)\n",
    "    #     pdb.set_trace()\n",
    "    load_pred = scaler_y.inverse_transform(y_pred)\n",
    "    load_true = scaler_y.inverse_transform(y_true)\n",
    "    mean_pred = np.mean(load_pred)\n",
    "    mean_true = np.mean(load_true)\n",
    "    MAPE = np.mean(np.abs(load_true - load_pred) / load_true)\n",
    "    SMAPE = 2 * np.mean(\n",
    "        np.abs(load_true - load_pred) / (load_true + load_pred))\n",
    "    MAE = np.mean(np.abs(load_true - load_pred))\n",
    "    RMSE = np.sqrt(np.mean(np.square(load_true - load_pred)))\n",
    "    RRSE = np.sqrt(np.sum(np.square(load_true - load_pred))) / np.sqrt(\n",
    "        np.sum(np.square(load_true - mean_true)))\n",
    "    CORR = np.mean(\n",
    "        np.sum((load_true - mean_true) * (load_pred - mean_pred)) /\n",
    "        np.sqrt(np.sum(\n",
    "            (load_true - mean_true)**2 * (load_pred - mean_pred)**2)))\n",
    "    return MAPE, SMAPE, MAE, RMSE, RRSE, CORR, load_pred, load_true"
   ]
  },
  {
   "cell_type": "markdown",
   "id": "9e586529",
   "metadata": {},
   "source": [
    "## run model retraining"
   ]
  },
  {
   "cell_type": "code",
   "execution_count": 38,
   "id": "cf19542c",
   "metadata": {
    "ExecuteTime": {
     "end_time": "2022-01-23T08:02:44.784056Z",
     "start_time": "2022-01-23T08:02:44.766642Z"
    }
   },
   "outputs": [],
   "source": [
    "def run_model_retraining(seq_len=seq_len,\n",
    "                         target_len=target_len,\n",
    "                         mse_thresh=mse_thresh):\n",
    "    train_data = data[:int(0.8 * len(data))]\n",
    "    #     train_data = data[:-800]\n",
    "    train_data, scaler, scaler_y = normalization(train_data)\n",
    "    train_x, train_y = series_to_supervise(train_data, seq_len, target_len)\n",
    "\n",
    "    valid_x = train_x[int(0.8 * len(train_x)):]\n",
    "    valid_y = train_y[int(0.8 * len(train_y)):]\n",
    "    train_x = train_x[:int(0.8 * len(train_x))]\n",
    "    train_y = train_y[:int(0.8 * len(train_y))]\n",
    "    input_size = train_x.shape[2]\n",
    "    output_size = target_len\n",
    "\n",
    "    #     hyper-parameters define\n",
    "    batch_size = 256\n",
    "    lr = 0.01\n",
    "    number_epoch = 80\n",
    "    hidden_dim = 32\n",
    "    n_layers = 2\n",
    "    drop_prob = 0\n",
    "    weight_decay = 0\n",
    "    mse_thresh = 0.01\n",
    "\n",
    "    model, train_loss_list, valid_loss_list = train_model(\n",
    "        train_x, train_y, valid_x, valid_y, input_size, output_size,\n",
    "        mse_thresh, batch_size, lr, number_epoch, hidden_dim, n_layers,\n",
    "        drop_prob, weight_decay)\n",
    "\n",
    "    # plot training process\n",
    "    plt.plot(train_loss_list[10:], 'm', label='train_loss')\n",
    "    plt.plot(valid_loss_list[10:], 'g', label='valid_loss')\n",
    "    plt.grid('both')\n",
    "    plt.legend()\n",
    "\n",
    "    # test\n",
    "    test_data = data[int(0.8 * len(data)):]\n",
    "    #     test_data = data[-800:]\n",
    "    test_data = scaler.transform(test_data)\n",
    "    test_x, test_y = series_to_supervise(test_data, seq_len, target_len)\n",
    "    MAPE, SMAPE, MAE, RMSE, RRSE, CORR, load_pred, load_true = test_model(\n",
    "        model, test_x, test_y, scaler_y, batch_size)\n",
    "    return MAPE, SMAPE, MAE, RMSE, RRSE, CORR, load_pred, load_true"
   ]
  },
  {
   "cell_type": "code",
   "execution_count": null,
   "id": "424e4d23",
   "metadata": {
    "ExecuteTime": {
     "start_time": "2022-01-23T08:03:02.195Z"
    },
    "scrolled": false
   },
   "outputs": [
    {
     "name": "stdout",
     "output_type": "stream",
     "text": [
      "supervised data: shape of x: (25090, 72, 16), shape of y: (25090, 24)\n"
     ]
    },
    {
     "name": "stderr",
     "output_type": "stream",
     "text": [
      "Epoch: 1/80: 100%|██████████| 79/79 [00:03<00:00, 25.35it/s, train_loss=0.00293, valid_loss=0.00268]\n",
      "Epoch: 2/80: 100%|██████████| 79/79 [00:03<00:00, 25.77it/s, train_loss=0.00134, valid_loss=0.00254]\n",
      "Epoch: 3/80: 100%|██████████| 79/79 [00:03<00:00, 26.16it/s, train_loss=0.00145, valid_loss=0.00234]\n",
      "Epoch: 4/80: 100%|█████████| 79/79 [00:03<00:00, 24.92it/s, train_loss=0.000873, valid_loss=0.00234]\n",
      "Epoch: 5/80: 100%|██████████| 79/79 [00:03<00:00, 26.25it/s, train_loss=0.00103, valid_loss=0.00262]\n",
      "Epoch: 6/80: 100%|█████████| 79/79 [00:03<00:00, 25.62it/s, train_loss=0.000843, valid_loss=0.00243]\n",
      "Epoch: 7/80: 100%|█████████| 79/79 [00:03<00:00, 25.55it/s, train_loss=0.000715, valid_loss=0.00214]\n",
      "Epoch: 8/80: 100%|█████████| 79/79 [00:03<00:00, 25.40it/s, train_loss=0.000614, valid_loss=0.00228]\n",
      "Epoch: 9/80: 100%|█████████| 79/79 [00:03<00:00, 25.05it/s, train_loss=0.000673, valid_loss=0.00255]\n",
      "Epoch: 10/80: 100%|█████████| 79/79 [00:03<00:00, 25.72it/s, train_loss=0.00049, valid_loss=0.00226]\n",
      "Epoch: 11/80: 100%|████████| 79/79 [00:03<00:00, 25.84it/s, train_loss=0.000614, valid_loss=0.00228]\n",
      "Epoch: 12/80: 100%|████████| 79/79 [00:03<00:00, 25.07it/s, train_loss=0.000386, valid_loss=0.00254]\n",
      "Epoch: 13/80: 100%|████████| 79/79 [00:03<00:00, 25.69it/s, train_loss=0.000609, valid_loss=0.00274]\n",
      "Epoch: 14/80: 100%|████████| 79/79 [00:03<00:00, 25.58it/s, train_loss=0.000295, valid_loss=0.00261]\n",
      "Epoch: 15/80: 100%|████████| 79/79 [00:03<00:00, 25.10it/s, train_loss=0.000234, valid_loss=0.00283]\n",
      "Epoch: 16/80: 100%|████████| 79/79 [00:03<00:00, 26.11it/s, train_loss=0.000194, valid_loss=0.00287]\n",
      "Epoch: 17/80: 100%|████████| 79/79 [00:03<00:00, 26.28it/s, train_loss=0.000184, valid_loss=0.00308]\n",
      "Epoch: 18/80: 100%|█████████| 79/79 [00:03<00:00, 24.82it/s, train_loss=0.000279, valid_loss=0.0027]\n",
      "Epoch: 19/80: 100%|████████| 79/79 [00:03<00:00, 26.13it/s, train_loss=0.000133, valid_loss=0.00312]\n",
      "Epoch: 20/80: 100%|████████| 79/79 [00:03<00:00, 24.82it/s, train_loss=0.000135, valid_loss=0.00327]\n",
      "Epoch: 21/80: 100%|████████| 79/79 [00:03<00:00, 25.42it/s, train_loss=0.000104, valid_loss=0.00338]\n",
      "Epoch: 22/80: 100%|████████| 79/79 [00:03<00:00, 25.73it/s, train_loss=0.000139, valid_loss=0.00332]\n",
      "Epoch: 23/80: 100%|█████████| 79/79 [00:03<00:00, 24.85it/s, train_loss=9.99e-5, valid_loss=0.00333]\n",
      "Epoch: 24/80: 100%|█████████| 79/79 [00:03<00:00, 25.73it/s, train_loss=8.93e-5, valid_loss=0.00328]\n",
      "Epoch: 25/80: 100%|█████████| 79/79 [00:03<00:00, 25.53it/s, train_loss=8.94e-5, valid_loss=0.00324]\n",
      "Epoch: 26/80: 100%|█████████| 79/79 [00:03<00:00, 25.55it/s, train_loss=8.41e-5, valid_loss=0.00325]\n",
      "Epoch: 27/80: 100%|██████████| 79/79 [00:03<00:00, 25.88it/s, train_loss=8.45e-5, valid_loss=0.0034]\n",
      "Epoch: 28/80: 100%|█████████| 79/79 [00:03<00:00, 25.60it/s, train_loss=8.25e-5, valid_loss=0.00317]\n",
      "Epoch: 29/80: 100%|██████████| 79/79 [00:03<00:00, 25.15it/s, train_loss=7.72e-5, valid_loss=0.0033]\n",
      "Epoch: 30/80: 100%|█████████| 79/79 [00:03<00:00, 25.64it/s, train_loss=6.88e-5, valid_loss=0.00317]\n",
      "Epoch: 31/80: 100%|█████████| 79/79 [00:03<00:00, 25.31it/s, train_loss=6.93e-5, valid_loss=0.00343]\n",
      "Epoch: 32/80:  46%|████     | 36/79 [00:01<00:01, 25.17it/s, train_loss=6.08e-5, valid_loss=0.00315]"
     ]
    }
   ],
   "source": [
    "random_seed_set(0)\n",
    "MAPE, SMAPE, MAE, RMSE, RRSE, CORR, load_pred, load_true = run_model_retraining()\n",
    "print('MAPE:{:.6f},SMAPE:{:.6f},MAE:{:.6f},RMSE:{:.6f},RRSE:{:.6f},CORR:{:.6f}'.format(MAPE, SMAPE, MAE, RMSE, RRSE, CORR))"
   ]
  },
  {
   "cell_type": "code",
   "execution_count": 27,
   "id": "6ee9e305",
   "metadata": {
    "ExecuteTime": {
     "end_time": "2022-01-23T07:34:48.042185Z",
     "start_time": "2022-01-23T07:34:48.031230Z"
    }
   },
   "outputs": [
    {
     "name": "stdout",
     "output_type": "stream",
     "text": [
      "MAPE:0.041851,SMAPE:0.041705,MAE:740.260220,RMSE:1125.024057,RRSE:0.295798,CORR:209.207797\n"
     ]
    }
   ],
   "source": [
    "print('MAPE:{:.6f},SMAPE:{:.6f},MAE:{:.6f},RMSE:{:.6f},RRSE:{:.6f},CORR:{:.6f}'.format(MAPE, SMAPE, MAE, RMSE, RRSE, CORR))\n",
    "np.save('./results/BiLSTM-CQ-72-24-TRUE.npy', load_true)\n",
    "np.save('./results/BiLSTM-CQ-72-24-PRED.npy', load_pred)"
   ]
  },
  {
   "cell_type": "markdown",
   "id": "5490f716",
   "metadata": {},
   "source": [
    "## figure plot"
   ]
  },
  {
   "cell_type": "code",
   "execution_count": 31,
   "id": "59746520",
   "metadata": {
    "ExecuteTime": {
     "end_time": "2022-01-23T07:46:35.939892Z",
     "start_time": "2022-01-23T07:46:35.783462Z"
    }
   },
   "outputs": [
    {
     "data": {
      "text/plain": [
       "(0.0, 14532.459852029011)"
      ]
     },
     "execution_count": 31,
     "metadata": {},
     "output_type": "execute_result"
    },
    {
     "data": {
      "image/png": "[encoded data removed]",
      "text/plain": [
       "<Figure size 1440x720 with 1 Axes>"
      ]
     },
     "metadata": {
      "needs_background": "light"
     },
     "output_type": "display_data"
    }
   ],
   "source": [
    "plt.figure(figsize=(20, 10))\n",
    "load_pred = load_pred.reshape(-1, target_len)\n",
    "load_true = load_true.reshape(-1, target_len)\n",
    "plt.plot(load_pred[:240, 0], 'm')\n",
    "plt.plot(load_true[:240, 0], 'g')\n",
    "plt.ylim(0)"
   ]
  }
 ],
 "metadata": {
  "kernelspec": {
   "display_name": "Python 3 (ipykernel)",
   "language": "python",
   "name": "python3"
  },
  "language_info": {
   "codemirror_mode": {
    "name": "ipython",
    "version": 3
   },
   "file_extension": ".py",
   "mimetype": "text/x-python",
   "name": "python",
   "nbconvert_exporter": "python",
   "pygments_lexer": "ipython3",
   "version": "3.8.12"
  },
  "toc": {
   "base_numbering": 1,
   "nav_menu": {},
   "number_sections": true,
   "sideBar": true,
   "skip_h1_title": false,
   "title_cell": "Table of Contents",
   "title_sidebar": "Contents",
   "toc_cell": false,
   "toc_position": {
    "height": "calc(100% - 180px)",
    "left": "10px",
    "top": "150px",
    "width": "374.391px"
   },
   "toc_section_display": true,
   "toc_window_display": true
  },
  "varInspector": {
   "cols": {
    "lenName": 16,
    "lenType": 16,
    "lenVar": 40
   },
   "kernels_config": {
    "python": {
     "delete_cmd_postfix": "",
     "delete_cmd_prefix": "del ",
     "library": "var_list.py",
     "varRefreshCmd": "print(var_dic_list())"
    },
    "r": {
     "delete_cmd_postfix": ") ",
     "delete_cmd_prefix": "rm(",
     "library": "var_list.r",
     "varRefreshCmd": "cat(var_dic_list()) "
    }
   },
   "oldHeight": 320.844,
   "position": {
    "height": "342.844px",
    "left": "1482px",
    "right": "20px",
    "top": "127px",
    "width": "350px"
   },
   "types_to_exclude": [
    "module",
    "function",
    "builtin_function_or_method",
    "instance",
    "_Feature"
   ],
   "varInspector_section_display": "block",
   "window_display": false
  }
 },
 "nbformat": 4,
 "nbformat_minor": 5
}
