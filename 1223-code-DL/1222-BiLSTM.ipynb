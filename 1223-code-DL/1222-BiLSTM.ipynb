{
 "cells": [
  {
   "cell_type": "markdown",
   "id": "4aed4a4e",
   "metadata": {},
   "source": [
    "# BiLSTM for forecast"
   ]
  },
  {
   "cell_type": "code",
   "execution_count": 2,
   "id": "e2c5af50",
   "metadata": {
    "ExecuteTime": {
     "end_time": "2021-12-25T15:35:17.817356Z",
     "start_time": "2021-12-25T15:35:17.806569Z"
    }
   },
   "outputs": [],
   "source": [
    "import pandas as pd\n",
    "import numpy as np\n",
    "import matplotlib.pyplot as plt\n",
    "import pdb\n",
    "import torch\n",
    "import torch.nn as nn\n",
    "import random\n",
    "\n",
    "from sklearn.preprocessing import MinMaxScaler\n",
    "from sklearn.model_selection import train_test_split, TimeSeriesSplit\n",
    "from torch.autograd import Variable\n",
    "from torch.utils.data import TensorDataset, DataLoader\n",
    "from tqdm import tqdm\n",
    "from xgboost import XGBRegressor\n",
    "\n",
    "np.random.seed(0)\n",
    "torch.cuda.manual_seed(0)\n",
    "torch.manual_seed(0)\n",
    "if torch.cuda.is_available():  \n",
    "    dev = \"cuda:0\" \n",
    "else:  \n",
    "    dev = \"cpu\"\n",
    "device = torch.device(dev)"
   ]
  },
  {
   "cell_type": "markdown",
   "id": "8bf96ac4",
   "metadata": {},
   "source": [
    "## load data"
   ]
  },
  {
   "cell_type": "code",
   "execution_count": 16,
   "id": "a5d48b9c",
   "metadata": {
    "ExecuteTime": {
     "end_time": "2021-12-25T15:36:36.360807Z",
     "start_time": "2021-12-25T15:36:36.295709Z"
    }
   },
   "outputs": [],
   "source": [
    "url = '../data/beijing.csv'\n",
    "data = pd.read_csv(url, sep=',', index_col='time')\n",
    "data.index = pd.to_datetime(data.index)"
   ]
  },
  {
   "cell_type": "markdown",
   "id": "f6e3a3ad",
   "metadata": {},
   "source": [
    "## normalization"
   ]
  },
  {
   "cell_type": "code",
   "execution_count": 4,
   "id": "f40f01bb",
   "metadata": {
    "ExecuteTime": {
     "end_time": "2021-12-25T15:35:17.896592Z",
     "start_time": "2021-12-25T15:35:17.893728Z"
    }
   },
   "outputs": [],
   "source": [
    "def normalization(data):\n",
    "    \"\"\"\n",
    "    data: original data with load\n",
    "    return: normalized data, scaler of load\n",
    "    \"\"\"\n",
    "    scaler = MinMaxScaler()\n",
    "    normalized_data = scaler.fit_transform(data)\n",
    "    scaler_y = MinMaxScaler()\n",
    "    scaler_y.fit_transform(data[[data.columns[-1]]])\n",
    "    return normalized_data, scaler, scaler_y"
   ]
  },
  {
   "cell_type": "markdown",
   "id": "ff34f477",
   "metadata": {
    "ExecuteTime": {
     "end_time": "2021-12-22T07:45:44.192666Z",
     "start_time": "2021-12-22T07:45:44.188985Z"
    }
   },
   "source": [
    "## build supervised dataset"
   ]
  },
  {
   "cell_type": "code",
   "execution_count": 5,
   "id": "18dde22f",
   "metadata": {
    "ExecuteTime": {
     "end_time": "2021-12-25T15:35:17.901243Z",
     "start_time": "2021-12-25T15:35:17.897875Z"
    }
   },
   "outputs": [],
   "source": [
    "def series_to_supervise(data, seq_len, target_len):\n",
    "    \"\"\"\n",
    "    convert series data to supervised data\n",
    "    :param data: original data\n",
    "    :param seq_len: length of input sequence\n",
    "    :param target_len: length of ouput sequence\n",
    "    :return: return two ndarrays-- input and output in format suitable to feed to LSTM\n",
    "    \"\"\"\n",
    "    dim_0 = data.shape[0] - seq_len - target_len + 1\n",
    "    dim_1 = data.shape[1]\n",
    "    x = np.zeros((dim_0, seq_len, dim_1))\n",
    "    y = np.zeros((dim_0, target_len))\n",
    "    for i in range(dim_0):\n",
    "        x[i] = data[i:i + seq_len]\n",
    "        y[i] = data[i + seq_len:i + seq_len + target_len, -1]\n",
    "    print(\"supervised data: shape of x: {}, shape of y: {}\".format(x.shape, y.shape))\n",
    "    return x, y"
   ]
  },
  {
   "cell_type": "markdown",
   "id": "4e290a29",
   "metadata": {},
   "source": [
    "## 5-folds TimeSeriesSplit"
   ]
  },
  {
   "cell_type": "code",
   "execution_count": 6,
   "id": "1918acc5",
   "metadata": {
    "ExecuteTime": {
     "end_time": "2021-12-25T15:35:17.905560Z",
     "start_time": "2021-12-25T15:35:17.902283Z"
    }
   },
   "outputs": [],
   "source": [
    "def time_series_split(X, Y, n_split=5):\n",
    "    \"\"\"\n",
    "    X: features, size * seq_len * feature_num\n",
    "    Y: labels, size * target_len\n",
    "    return: list of train_x, test_x, train_y, test_y\n",
    "    \"\"\"\n",
    "    tscv = TimeSeriesSplit(n_splits=n_split)\n",
    "    train_x_list = list()\n",
    "    valid_x_list = list()\n",
    "    train_y_list = list()\n",
    "    valid_y_list = list()\n",
    "    for train_index, valid_index in tscv.split(X):\n",
    "        train_x_list.append(X[train_index])\n",
    "        train_y_list.append(Y[train_index])\n",
    "        valid_x_list.append(X[valid_index])\n",
    "        valid_y_list.append(Y[valid_index])\n",
    "    return train_x_list, train_y_list, valid_x_list, valid_y_list"
   ]
  },
  {
   "cell_type": "markdown",
   "id": "35fe3664",
   "metadata": {},
   "source": [
    "## BiLSTM model"
   ]
  },
  {
   "cell_type": "code",
   "execution_count": 7,
   "id": "edc351f5",
   "metadata": {
    "ExecuteTime": {
     "end_time": "2021-12-25T15:35:17.912106Z",
     "start_time": "2021-12-25T15:35:17.906651Z"
    }
   },
   "outputs": [],
   "source": [
    "class BiLSTM(nn.Module):\n",
    "    def __init__(self, input_size, output_size, hidden_dim, n_layers,\n",
    "                 drop_prob):\n",
    "        super(BiLSTM, self).__init__()\n",
    "        # model parameters\n",
    "        self.hidden_dim = hidden_dim\n",
    "        self.n_layers = n_layers\n",
    "        self.output_size = output_size\n",
    "        # layes\n",
    "        self.lstm = nn.LSTM(input_size=input_size,\n",
    "                            hidden_size=hidden_dim,\n",
    "                            num_layers=n_layers,\n",
    "                            batch_first=True,\n",
    "                            dropout=drop_prob,\n",
    "                            bidirectional=True)\n",
    "        self.fc = nn.Sequential(nn.Linear(hidden_dim * 2, 30), nn.ReLU(),\n",
    "                                nn.Linear(30, 1))\n",
    "        self.relu = nn.ReLU()\n",
    "\n",
    "    def forward(self, x):\n",
    "        batch_size = x.size(0)\n",
    "        hidden = self.init_hidden(batch_size)\n",
    "\n",
    "        lstm_out, hidden = self.lstm(x, hidden)\n",
    "        lstm_out = lstm_out[:, -self.output_size:, :]\n",
    "\n",
    "        out = self.fc(lstm_out)\n",
    "        out = self.relu(out)\n",
    "\n",
    "        out = out.view(batch_size, -1)\n",
    "\n",
    "        return out\n",
    "\n",
    "    def init_hidden(self, batch_size):\n",
    "        hidden = (torch.zeros(self.n_layers*2, batch_size,\n",
    "                              self.hidden_dim).to(device),\n",
    "                  torch.zeros(self.n_layers*2, batch_size,\n",
    "                              self.hidden_dim).to(device))\n",
    "        return hidden"
   ]
  },
  {
   "cell_type": "markdown",
   "id": "9ed9fe6a",
   "metadata": {
    "ExecuteTime": {
     "end_time": "2021-12-22T08:30:19.661769Z",
     "start_time": "2021-12-22T08:30:19.656770Z"
    }
   },
   "source": [
    "## model training for HPO"
   ]
  },
  {
   "cell_type": "code",
   "execution_count": 8,
   "id": "7d89ba77",
   "metadata": {
    "ExecuteTime": {
     "end_time": "2021-12-25T15:35:17.921512Z",
     "start_time": "2021-12-25T15:35:17.913436Z"
    }
   },
   "outputs": [],
   "source": [
    "def train_model_hpo(train_x_list, train_y_list, valid_x_list, valid_y_list,\n",
    "                    input_size, output_size, mse_thresh, batch_size, lr,\n",
    "                    number_epoch, hidden_dim, n_layers, drop_prob, weight_decay):\n",
    "    valid_loss_list = []\n",
    "    for num in range(len(train_x_list)):\n",
    "        while (1):\n",
    "            model = BiLSTM(input_size, output_size, hidden_dim, n_layers,\n",
    "                           drop_prob)\n",
    "            model.to(device=device)\n",
    "            criterion = nn.MSELoss()\n",
    "            optimizer = torch.optim.Adam(model.parameters(), lr=lr, weight_decay=weight_decay)\n",
    "            scheduler = torch.optim.lr_scheduler.StepLR(optimizer, 1, gamma=0.98)\n",
    "            valid_loss_min = np.Inf\n",
    "            print('cross-validation dataset {}'.format(num))\n",
    "            train_x = train_x_list[num]\n",
    "            train_y = train_y_list[num]\n",
    "            valid_x = valid_x_list[num]\n",
    "            valid_y = valid_y_list[num]\n",
    "            train_dataset = TensorDataset(torch.FloatTensor(train_x),\n",
    "                                          torch.FloatTensor(train_y))\n",
    "            valid_dataset = TensorDataset(torch.FloatTensor(valid_x),\n",
    "                                          torch.FloatTensor(valid_y))\n",
    "            train_loader = DataLoader(dataset=train_dataset,\n",
    "                                      batch_size=batch_size,\n",
    "                                      shuffle=True,\n",
    "                                      drop_last=False)\n",
    "            valid_loader = DataLoader(dataset=valid_dataset,\n",
    "                                      batch_size=batch_size,\n",
    "                                      shuffle=True,\n",
    "                                      drop_last=False)\n",
    "            num_without_imp = 0\n",
    "            # training process\n",
    "            for epoch in range(1, number_epoch + 1):\n",
    "                loop = tqdm(enumerate(train_loader),\n",
    "                            total=len(train_loader),\n",
    "                            leave=True)\n",
    "                for i, (inputs, labels) in loop:\n",
    "                    inputs = inputs.to(device=device)\n",
    "                    labels = labels.to(device=device)\n",
    "                    optimizer.zero_grad()\n",
    "                    outputs = model(inputs)\n",
    "                    loss = criterion(outputs, labels)\n",
    "                    loss.backward()\n",
    "                    optimizer.step()\n",
    "                    if i % 5 == 0:\n",
    "                        num_without_imp = num_without_imp + 1\n",
    "                        valid_losses = list()\n",
    "                        model.eval()\n",
    "                        for inp, lab in valid_loader:\n",
    "                            inp = inp.to(device)\n",
    "                            lab = lab.to(device)\n",
    "                            out = model(inp)\n",
    "                            valid_loss = criterion(out, lab)\n",
    "                            valid_losses.append(valid_loss.item())\n",
    "\n",
    "                        model.train()\n",
    "                        loop.set_description(\"Epoch: {}/{}\".format(\n",
    "                            epoch, number_epoch))\n",
    "                        loop.set_postfix(train_loss=loss.item(),\n",
    "                                         valid_loss=np.mean(valid_losses))\n",
    "                        if np.mean(valid_losses) < valid_loss_min:\n",
    "                            num_without_imp = 0\n",
    "                            valid_loss_min = np.mean(valid_losses)\n",
    "                scheduler.step()\n",
    "                if num_without_imp >= 50:\n",
    "                    break\n",
    "            if valid_loss_min < mse_thresh:\n",
    "                valid_loss_list.append(valid_loss_min)\n",
    "                break\n",
    "    return np.mean(valid_loss_list)"
   ]
  },
  {
   "cell_type": "markdown",
   "id": "cb1cc870",
   "metadata": {},
   "source": [
    "## hyper-parameters config"
   ]
  },
  {
   "cell_type": "code",
   "execution_count": 88,
   "id": "d754b48a",
   "metadata": {
    "ExecuteTime": {
     "end_time": "2021-12-27T09:37:39.382538Z",
     "start_time": "2021-12-27T09:37:39.377286Z"
    }
   },
   "outputs": [],
   "source": [
    "seq_len = 72\n",
    "target_len = 24\n",
    "mse_thresh = 0.05\n",
    "\n",
    "\n",
    "def model_config():\n",
    "    batch_sizes = [512, 256]\n",
    "    lrs = [0.01]\n",
    "    number_epochs = [50]\n",
    "    hidden_dims = [150, 120, 100, 80]\n",
    "    n_layers = [1, 2, 3]\n",
    "    drop_prob = [0]\n",
    "    weight_decays = [0]\n",
    "    configs = list()\n",
    "    for i in batch_sizes:\n",
    "        for j in lrs:\n",
    "            for k in number_epochs:\n",
    "                for l in hidden_dims:\n",
    "                    for m in n_layers:\n",
    "                        for n in drop_prob:\n",
    "                            for o in weight_decays:\n",
    "                                configs.append({\n",
    "                                    'batch_size': i,\n",
    "                                    'lr': j,\n",
    "                                    'number_epoch': k,\n",
    "                                    'hidden_dim': l,\n",
    "                                    'n_layers': m,\n",
    "                                    'drop_prob': n,\n",
    "                                    'weight_decay': o,\n",
    "                                })\n",
    "    return configs"
   ]
  },
  {
   "cell_type": "markdown",
   "id": "8ab089e6",
   "metadata": {},
   "source": [
    "## random search for HPO"
   ]
  },
  {
   "cell_type": "code",
   "execution_count": 89,
   "id": "802386dd",
   "metadata": {
    "ExecuteTime": {
     "end_time": "2021-12-27T09:37:47.002878Z",
     "start_time": "2021-12-27T09:37:46.992826Z"
    }
   },
   "outputs": [],
   "source": [
    "def run_model_hpo(seq_len=seq_len,\n",
    "                  target_len=target_len,\n",
    "                  mse_thresh=mse_thresh):\n",
    "    train_data = data[:int(0.8 * len(data))]\n",
    "    train_data, _, _ = normalization(train_data)\n",
    "    train_x, train_y = series_to_supervise(train_data, seq_len, target_len)\n",
    "    train_x_list, train_y_list, valid_x_list, valid_y_list = time_series_split(\n",
    "        train_x, train_y)\n",
    "    #     with enough data\n",
    "    #     train_x_list = train_x_list[-1:]\n",
    "    #     train_y_list = train_y_list[-1:]\n",
    "    #     valid_x_list = valid_x_list[-1:]\n",
    "    #     valid_y_list = valid_y_list[-1:]\n",
    "\n",
    "    configs = model_config()\n",
    "    records = []\n",
    "    input_size = train_x.shape[2]\n",
    "    output_size = target_len\n",
    "    for i in range(12):\n",
    "        config = random.choice(configs)\n",
    "        configs.remove(config)\n",
    "        batch_size = config['batch_size']\n",
    "        lr = config['lr']\n",
    "        number_epoch = config['number_epoch']\n",
    "        hidden_dim = config['hidden_dim']\n",
    "        n_layers = config['n_layers']\n",
    "        drop_prob = config['drop_prob']\n",
    "        weight_decay = config['weight_decay']\n",
    "        print(\n",
    "            \"model config: batch_size-{}, lr-{}, number_epoch-{}, hidden_dim-{}, n_layers-{},drop_prob-{},weight_decay-{}\"\n",
    "            .format(batch_size, lr, number_epoch, hidden_dim, n_layers,\n",
    "                    drop_prob, weight_decay))\n",
    "        valid_loss = train_model_hpo(train_x_list, train_y_list, valid_x_list,\n",
    "                                     valid_y_list, input_size, output_size,\n",
    "                                     mse_thresh, batch_size, lr, number_epoch,\n",
    "                                     hidden_dim, n_layers, drop_prob, weight_decay)\n",
    "        records.append({\n",
    "            'batch_size': batch_size,\n",
    "            'lr': lr,\n",
    "            'number_epoch': number_epoch,\n",
    "            'hidden_dim': hidden_dim,\n",
    "            'n_layers': n_layers,\n",
    "            'drop_prob': drop_prob,\n",
    "            'weight_decay': weight_decay,\n",
    "            'valid_loss': valid_loss\n",
    "        })\n",
    "    return records"
   ]
  },
  {
   "cell_type": "markdown",
   "id": "953a69c2",
   "metadata": {},
   "source": [
    "## run random search"
   ]
  },
  {
   "cell_type": "code",
   "execution_count": 90,
   "id": "e958cfa2",
   "metadata": {
    "ExecuteTime": {
     "end_time": "2021-12-27T10:34:14.766979Z",
     "start_time": "2021-12-27T09:37:49.464862Z"
    }
   },
   "outputs": [
    {
     "name": "stdout",
     "output_type": "stream",
     "text": [
      "supervised data: shape of x: (25232, 72, 16), shape of y: (25232, 24)\n",
      "model config: batch_size-256, lr-0.01, number_epoch-50, hidden_dim-80, n_layers-2,drop_prob-0,weight_decay-0\n",
      "cross-validation dataset 0\n"
     ]
    },
    {
     "name": "stderr",
     "output_type": "stream",
     "text": [
      "Epoch: 1/50: 100%|██████████| 17/17 [00:00<00:00, 18.13it/s, train_loss=0.11, valid_loss=0.175] \n",
      "Epoch: 2/50: 100%|██████████| 17/17 [00:00<00:00, 17.73it/s, train_loss=0.103, valid_loss=0.175]\n",
      "Epoch: 3/50: 100%|██████████| 17/17 [00:00<00:00, 18.27it/s, train_loss=0.109, valid_loss=0.175]\n",
      "Epoch: 4/50: 100%|██████████| 17/17 [00:00<00:00, 17.85it/s, train_loss=0.108, valid_loss=0.175]\n",
      "Epoch: 5/50: 100%|██████████| 17/17 [00:00<00:00, 18.55it/s, train_loss=0.108, valid_loss=0.175]\n",
      "Epoch: 6/50: 100%|██████████| 17/17 [00:00<00:00, 18.10it/s, train_loss=0.112, valid_loss=0.175]\n",
      "Epoch: 7/50: 100%|██████████| 17/17 [00:01<00:00, 12.75it/s, train_loss=0.11, valid_loss=0.175] \n",
      "Epoch: 8/50: 100%|██████████| 17/17 [00:00<00:00, 17.83it/s, train_loss=0.106, valid_loss=0.175]\n",
      "Epoch: 9/50: 100%|██████████| 17/17 [00:00<00:00, 17.13it/s, train_loss=0.106, valid_loss=0.175]\n",
      "Epoch: 10/50: 100%|██████████| 17/17 [00:01<00:00, 15.19it/s, train_loss=0.104, valid_loss=0.175]\n",
      "Epoch: 11/50: 100%|██████████| 17/17 [00:01<00:00, 14.79it/s, train_loss=0.108, valid_loss=0.176]\n",
      "Epoch: 12/50: 100%|██████████| 17/17 [00:01<00:00, 15.19it/s, train_loss=0.11, valid_loss=0.175] \n",
      "Epoch: 13/50: 100%|██████████| 17/17 [00:01<00:00, 15.28it/s, train_loss=0.105, valid_loss=0.176]\n",
      "Epoch: 14/50: 100%|██████████| 17/17 [00:01<00:00, 15.60it/s, train_loss=0.108, valid_loss=0.174]\n",
      "Epoch: 15/50: 100%|██████████| 17/17 [00:00<00:00, 18.43it/s, train_loss=0.104, valid_loss=0.175]\n",
      "Epoch: 16/50: 100%|██████████| 17/17 [00:00<00:00, 18.93it/s, train_loss=0.107, valid_loss=0.175]\n",
      "Epoch: 17/50: 100%|██████████| 17/17 [00:00<00:00, 18.82it/s, train_loss=0.102, valid_loss=0.174]\n",
      "Epoch: 18/50: 100%|██████████| 17/17 [00:00<00:00, 18.91it/s, train_loss=0.111, valid_loss=0.175]\n",
      "Epoch: 19/50: 100%|██████████| 17/17 [00:00<00:00, 18.37it/s, train_loss=0.107, valid_loss=0.175]\n",
      "Epoch: 20/50: 100%|██████████| 17/17 [00:00<00:00, 18.19it/s, train_loss=0.113, valid_loss=0.175]\n",
      "Epoch: 21/50: 100%|██████████| 17/17 [00:00<00:00, 18.39it/s, train_loss=0.101, valid_loss=0.175]\n",
      "Epoch: 22/50: 100%|██████████| 17/17 [00:00<00:00, 18.64it/s, train_loss=0.109, valid_loss=0.175]\n",
      "Epoch: 23/50: 100%|██████████| 17/17 [00:00<00:00, 18.93it/s, train_loss=0.105, valid_loss=0.175]\n",
      "Epoch: 24/50: 100%|██████████| 17/17 [00:00<00:00, 18.84it/s, train_loss=0.104, valid_loss=0.175]\n",
      "Epoch: 25/50: 100%|██████████| 17/17 [00:00<00:00, 18.86it/s, train_loss=0.105, valid_loss=0.175]\n",
      "Epoch: 26/50: 100%|██████████| 17/17 [00:00<00:00, 18.92it/s, train_loss=0.11, valid_loss=0.175] \n",
      "Epoch: 27/50: 100%|██████████| 17/17 [00:00<00:00, 18.56it/s, train_loss=0.103, valid_loss=0.176]\n"
     ]
    },
    {
     "name": "stdout",
     "output_type": "stream",
     "text": [
      "cross-validation dataset 0\n"
     ]
    },
    {
     "name": "stderr",
     "output_type": "stream",
     "text": [
      "Epoch: 1/50: 100%|██████████| 17/17 [00:01<00:00, 14.46it/s, train_loss=0.105, valid_loss=0.175]\n",
      "Epoch: 2/50: 100%|██████████| 17/17 [00:01<00:00, 14.67it/s, train_loss=0.105, valid_loss=0.175]\n",
      "Epoch: 3/50: 100%|██████████| 17/17 [00:01<00:00, 14.62it/s, train_loss=0.105, valid_loss=0.175]\n",
      "Epoch: 4/50: 100%|██████████| 17/17 [00:01<00:00, 14.32it/s, train_loss=0.103, valid_loss=0.175]\n",
      "Epoch: 5/50: 100%|██████████| 17/17 [00:00<00:00, 17.16it/s, train_loss=0.102, valid_loss=0.175]\n",
      "Epoch: 6/50: 100%|██████████| 17/17 [00:00<00:00, 18.33it/s, train_loss=0.113, valid_loss=0.175]\n",
      "Epoch: 7/50: 100%|██████████| 17/17 [00:00<00:00, 18.23it/s, train_loss=0.107, valid_loss=0.175]\n",
      "Epoch: 8/50: 100%|██████████| 17/17 [00:00<00:00, 18.04it/s, train_loss=0.115, valid_loss=0.174]\n",
      "Epoch: 9/50: 100%|██████████| 17/17 [00:00<00:00, 18.68it/s, train_loss=0.113, valid_loss=0.175]\n",
      "Epoch: 10/50: 100%|██████████| 17/17 [00:00<00:00, 18.43it/s, train_loss=0.118, valid_loss=0.175]\n",
      "Epoch: 11/50: 100%|██████████| 17/17 [00:00<00:00, 18.61it/s, train_loss=0.1, valid_loss=0.175]  \n",
      "Epoch: 12/50: 100%|██████████| 17/17 [00:00<00:00, 18.50it/s, train_loss=0.107, valid_loss=0.175]\n",
      "Epoch: 13/50: 100%|██████████| 17/17 [00:00<00:00, 18.31it/s, train_loss=0.11, valid_loss=0.175] \n",
      "Epoch: 14/50: 100%|██████████| 17/17 [00:00<00:00, 18.13it/s, train_loss=0.109, valid_loss=0.176]\n",
      "Epoch: 15/50: 100%|██████████| 17/17 [00:00<00:00, 18.41it/s, train_loss=0.109, valid_loss=0.175]\n",
      "Epoch: 16/50: 100%|██████████| 17/17 [00:00<00:00, 18.43it/s, train_loss=0.104, valid_loss=0.175]\n"
     ]
    },
    {
     "name": "stdout",
     "output_type": "stream",
     "text": [
      "cross-validation dataset 0\n"
     ]
    },
    {
     "name": "stderr",
     "output_type": "stream",
     "text": [
      "Epoch: 1/50: 100%|██████████| 17/17 [00:00<00:00, 18.26it/s, train_loss=0.0126, valid_loss=0.0417]\n",
      "Epoch: 2/50: 100%|██████████| 17/17 [00:00<00:00, 17.49it/s, train_loss=0.00534, valid_loss=0.0241]\n",
      "Epoch: 3/50: 100%|██████████| 17/17 [00:01<00:00, 15.98it/s, train_loss=0.00257, valid_loss=0.01]  \n",
      "Epoch: 4/50: 100%|██████████| 17/17 [00:00<00:00, 18.75it/s, train_loss=0.0022, valid_loss=0.00524] \n",
      "Epoch: 5/50: 100%|██████████| 17/17 [00:00<00:00, 18.29it/s, train_loss=0.00164, valid_loss=0.00397]\n",
      "Epoch: 6/50: 100%|██████████| 17/17 [00:00<00:00, 18.24it/s, train_loss=0.00143, valid_loss=0.00535]\n",
      "Epoch: 7/50: 100%|██████████| 17/17 [00:01<00:00, 12.45it/s, train_loss=0.00176, valid_loss=0.00406]\n",
      "Epoch: 8/50: 100%|██████████| 17/17 [00:00<00:00, 18.25it/s, train_loss=0.00174, valid_loss=0.00421]\n",
      "Epoch: 9/50: 100%|██████████| 17/17 [00:00<00:00, 18.39it/s, train_loss=0.00137, valid_loss=0.00471]\n",
      "Epoch: 10/50: 100%|██████████| 17/17 [00:00<00:00, 18.90it/s, train_loss=0.00122, valid_loss=0.00543]\n",
      "Epoch: 11/50: 100%|██████████| 17/17 [00:00<00:00, 18.77it/s, train_loss=0.00123, valid_loss=0.00392]\n",
      "Epoch: 12/50: 100%|██████████| 17/17 [00:00<00:00, 18.53it/s, train_loss=0.0011, valid_loss=0.00397]\n",
      "Epoch: 13/50: 100%|██████████| 17/17 [00:00<00:00, 18.33it/s, train_loss=0.00122, valid_loss=0.00611]\n",
      "Epoch: 14/50: 100%|██████████| 17/17 [00:00<00:00, 18.39it/s, train_loss=0.00108, valid_loss=0.00633]\n",
      "Epoch: 15/50: 100%|██████████| 17/17 [00:00<00:00, 18.70it/s, train_loss=0.000808, valid_loss=0.00617]\n",
      "Epoch: 16/50: 100%|██████████| 17/17 [00:00<00:00, 19.23it/s, train_loss=0.000805, valid_loss=0.0097] \n",
      "Epoch: 17/50: 100%|██████████| 17/17 [00:00<00:00, 18.36it/s, train_loss=0.000836, valid_loss=0.00888]\n",
      "Epoch: 18/50: 100%|██████████| 17/17 [00:01<00:00, 16.14it/s, train_loss=0.000911, valid_loss=0.00704]\n",
      "Epoch: 19/50: 100%|██████████| 17/17 [00:00<00:00, 17.88it/s, train_loss=0.000778, valid_loss=0.0101] \n",
      "Epoch: 20/50: 100%|██████████| 17/17 [00:00<00:00, 18.80it/s, train_loss=0.000748, valid_loss=0.0105]\n"
     ]
    },
    {
     "name": "stdout",
     "output_type": "stream",
     "text": [
      "cross-validation dataset 1\n"
     ]
    },
    {
     "name": "stderr",
     "output_type": "stream",
     "text": [
      "Epoch: 1/50: 100%|██████████| 33/33 [00:01<00:00, 19.50it/s, train_loss=0.00913, valid_loss=0.00827]\n",
      "Epoch: 2/50: 100%|██████████| 33/33 [00:01<00:00, 19.57it/s, train_loss=0.00291, valid_loss=0.00251]\n",
      "Epoch: 3/50: 100%|██████████| 33/33 [00:01<00:00, 19.54it/s, train_loss=0.00285, valid_loss=0.00226]\n",
      "Epoch: 4/50: 100%|██████████| 33/33 [00:01<00:00, 19.69it/s, train_loss=0.00233, valid_loss=0.00218]\n",
      "Epoch: 5/50: 100%|██████████| 33/33 [00:01<00:00, 19.96it/s, train_loss=0.00192, valid_loss=0.00196]\n",
      "Epoch: 6/50: 100%|██████████| 33/33 [00:01<00:00, 18.33it/s, train_loss=0.00239, valid_loss=0.00157]\n",
      "Epoch: 7/50: 100%|██████████| 33/33 [00:01<00:00, 18.60it/s, train_loss=0.00171, valid_loss=0.00161]\n",
      "Epoch: 8/50: 100%|██████████| 33/33 [00:01<00:00, 19.97it/s, train_loss=0.00195, valid_loss=0.00152]\n",
      "Epoch: 9/50: 100%|██████████| 33/33 [00:01<00:00, 19.99it/s, train_loss=0.00172, valid_loss=0.00177]\n",
      "Epoch: 10/50: 100%|██████████| 33/33 [00:01<00:00, 18.30it/s, train_loss=0.00204, valid_loss=0.00156]\n",
      "Epoch: 11/50: 100%|██████████| 33/33 [00:01<00:00, 17.51it/s, train_loss=0.00167, valid_loss=0.00147]\n",
      "Epoch: 12/50: 100%|██████████| 33/33 [00:01<00:00, 19.60it/s, train_loss=0.00164, valid_loss=0.00143]\n",
      "Epoch: 13/50: 100%|██████████| 33/33 [00:01<00:00, 19.67it/s, train_loss=0.00163, valid_loss=0.00152]\n",
      "Epoch: 14/50: 100%|██████████| 33/33 [00:01<00:00, 19.72it/s, train_loss=0.00148, valid_loss=0.00156]\n",
      "Epoch: 15/50: 100%|██████████| 33/33 [00:01<00:00, 19.96it/s, train_loss=0.00115, valid_loss=0.00131]\n",
      "Epoch: 16/50: 100%|██████████| 33/33 [00:01<00:00, 19.91it/s, train_loss=0.00115, valid_loss=0.0015] \n",
      "Epoch: 17/50: 100%|██████████| 33/33 [00:02<00:00, 15.65it/s, train_loss=0.002, valid_loss=0.00172]  \n",
      "Epoch: 18/50: 100%|██████████| 33/33 [00:01<00:00, 19.46it/s, train_loss=0.00127, valid_loss=0.00176]\n"
     ]
    },
    {
     "name": "stdout",
     "output_type": "stream",
     "text": [
      "cross-validation dataset 2\n"
     ]
    },
    {
     "name": "stderr",
     "output_type": "stream",
     "text": [
      "Epoch: 1/50: 100%|██████████| 50/50 [00:02<00:00, 20.62it/s, train_loss=0.00392, valid_loss=0.0048] \n",
      "Epoch: 2/50: 100%|██████████| 50/50 [00:02<00:00, 20.51it/s, train_loss=0.0025, valid_loss=0.00321] \n",
      "Epoch: 3/50: 100%|██████████| 50/50 [00:02<00:00, 19.33it/s, train_loss=0.00184, valid_loss=0.00354]\n",
      "Epoch: 4/50: 100%|██████████| 50/50 [00:02<00:00, 20.48it/s, train_loss=0.00149, valid_loss=0.00365]\n",
      "Epoch: 5/50: 100%|██████████| 50/50 [00:02<00:00, 20.74it/s, train_loss=0.00129, valid_loss=0.00284]\n",
      "Epoch: 6/50: 100%|██████████| 50/50 [00:02<00:00, 20.27it/s, train_loss=0.00191, valid_loss=0.00277]\n",
      "Epoch: 7/50: 100%|██████████| 50/50 [00:02<00:00, 20.54it/s, train_loss=0.00125, valid_loss=0.00268]\n",
      "Epoch: 8/50: 100%|██████████| 50/50 [00:02<00:00, 20.86it/s, train_loss=0.00134, valid_loss=0.00276]\n",
      "Epoch: 9/50: 100%|██████████| 50/50 [00:02<00:00, 20.49it/s, train_loss=0.00156, valid_loss=0.0026] \n",
      "Epoch: 10/50: 100%|██████████| 50/50 [00:02<00:00, 20.57it/s, train_loss=0.00134, valid_loss=0.00378]\n",
      "Epoch: 11/50: 100%|██████████| 50/50 [00:02<00:00, 20.49it/s, train_loss=0.0013, valid_loss=0.00313] \n",
      "Epoch: 12/50: 100%|██████████| 50/50 [00:02<00:00, 20.66it/s, train_loss=0.000935, valid_loss=0.00389]\n",
      "Epoch: 13/50: 100%|██████████| 50/50 [00:02<00:00, 19.59it/s, train_loss=0.00127, valid_loss=0.0042]  \n",
      "Epoch: 14/50: 100%|██████████| 50/50 [00:03<00:00, 16.17it/s, train_loss=0.000966, valid_loss=0.00452]\n"
     ]
    },
    {
     "name": "stdout",
     "output_type": "stream",
     "text": [
      "cross-validation dataset 3\n"
     ]
    },
    {
     "name": "stderr",
     "output_type": "stream",
     "text": [
      "Epoch: 1/50: 100%|██████████| 66/66 [00:04<00:00, 15.37it/s, train_loss=0.00391, valid_loss=0.00251]\n",
      "Epoch: 2/50: 100%|██████████| 66/66 [00:04<00:00, 15.27it/s, train_loss=0.00265, valid_loss=0.00136]\n",
      "Epoch: 3/50: 100%|██████████| 66/66 [00:03<00:00, 19.46it/s, train_loss=0.00323, valid_loss=0.00125]\n",
      "Epoch: 4/50: 100%|██████████| 66/66 [00:03<00:00, 19.61it/s, train_loss=0.0018, valid_loss=0.000893] \n",
      "Epoch: 5/50: 100%|██████████| 66/66 [00:03<00:00, 19.75it/s, train_loss=0.00139, valid_loss=0.000906]\n",
      "Epoch: 6/50: 100%|██████████| 66/66 [00:03<00:00, 19.24it/s, train_loss=0.00135, valid_loss=0.00125] \n",
      "Epoch: 7/50: 100%|██████████| 66/66 [00:04<00:00, 16.11it/s, train_loss=0.00168, valid_loss=0.00132] \n",
      "Epoch: 8/50: 100%|██████████| 66/66 [00:04<00:00, 15.24it/s, train_loss=0.00176, valid_loss=0.00124] \n",
      "Epoch: 9/50: 100%|██████████| 66/66 [00:04<00:00, 15.15it/s, train_loss=0.00159, valid_loss=0.000926]\n"
     ]
    },
    {
     "name": "stdout",
     "output_type": "stream",
     "text": [
      "cross-validation dataset 4\n"
     ]
    },
    {
     "name": "stderr",
     "output_type": "stream",
     "text": [
      "Epoch: 1/50: 100%|██████████| 83/83 [00:05<00:00, 15.41it/s, train_loss=0.171, valid_loss=0.188]\n",
      "Epoch: 2/50: 100%|██████████| 83/83 [00:05<00:00, 15.73it/s, train_loss=0.155, valid_loss=0.189]\n",
      "Epoch: 3/50: 100%|██████████| 83/83 [00:04<00:00, 16.96it/s, train_loss=0.169, valid_loss=0.188]\n",
      "Epoch: 4/50: 100%|██████████| 83/83 [00:05<00:00, 14.71it/s, train_loss=0.155, valid_loss=0.189]\n",
      "Epoch: 5/50: 100%|██████████| 83/83 [00:05<00:00, 15.68it/s, train_loss=0.171, valid_loss=0.189]\n",
      "Epoch: 6/50: 100%|██████████| 83/83 [00:05<00:00, 15.73it/s, train_loss=0.169, valid_loss=0.189]\n"
     ]
    },
    {
     "name": "stdout",
     "output_type": "stream",
     "text": [
      "cross-validation dataset 4\n"
     ]
    },
    {
     "name": "stderr",
     "output_type": "stream",
     "text": [
      "Epoch: 1/50: 100%|██████████| 83/83 [00:05<00:00, 15.43it/s, train_loss=0.178, valid_loss=0.189]\n",
      "Epoch: 2/50: 100%|██████████| 83/83 [00:05<00:00, 16.01it/s, train_loss=0.176, valid_loss=0.189]\n",
      "Epoch: 3/50: 100%|██████████| 83/83 [00:03<00:00, 21.38it/s, train_loss=0.163, valid_loss=0.189]\n",
      "Epoch: 4/50: 100%|██████████| 83/83 [00:03<00:00, 21.36it/s, train_loss=0.171, valid_loss=0.189]\n",
      "Epoch: 5/50: 100%|██████████| 83/83 [00:04<00:00, 17.24it/s, train_loss=0.156, valid_loss=0.188]\n"
     ]
    },
    {
     "name": "stdout",
     "output_type": "stream",
     "text": [
      "cross-validation dataset 4\n"
     ]
    },
    {
     "name": "stderr",
     "output_type": "stream",
     "text": [
      "Epoch: 1/50: 100%|██████████| 83/83 [00:05<00:00, 15.46it/s, train_loss=0.172, valid_loss=0.189]\n",
      "Epoch: 2/50: 100%|██████████| 83/83 [00:05<00:00, 15.84it/s, train_loss=0.163, valid_loss=0.188]\n",
      "Epoch: 3/50: 100%|██████████| 83/83 [00:04<00:00, 17.44it/s, train_loss=0.174, valid_loss=0.189]\n",
      "Epoch: 4/50: 100%|██████████| 83/83 [00:04<00:00, 20.34it/s, train_loss=0.163, valid_loss=0.189]\n",
      "Epoch: 5/50: 100%|██████████| 83/83 [00:04<00:00, 20.08it/s, train_loss=0.167, valid_loss=0.189]\n",
      "Epoch: 6/50: 100%|██████████| 83/83 [00:04<00:00, 20.53it/s, train_loss=0.156, valid_loss=0.189]\n",
      "Epoch: 7/50: 100%|██████████| 83/83 [00:04<00:00, 20.43it/s, train_loss=0.169, valid_loss=0.189]\n"
     ]
    },
    {
     "name": "stdout",
     "output_type": "stream",
     "text": [
      "cross-validation dataset 4\n"
     ]
    },
    {
     "name": "stderr",
     "output_type": "stream",
     "text": [
      "Epoch: 1/50: 100%|██████████| 83/83 [00:04<00:00, 20.25it/s, train_loss=0.164, valid_loss=0.189]\n",
      "Epoch: 2/50: 100%|██████████| 83/83 [00:04<00:00, 20.56it/s, train_loss=0.155, valid_loss=0.188]\n",
      "Epoch: 3/50: 100%|██████████| 83/83 [00:04<00:00, 20.28it/s, train_loss=0.169, valid_loss=0.189]\n"
     ]
    },
    {
     "name": "stdout",
     "output_type": "stream",
     "text": [
      "cross-validation dataset 4\n"
     ]
    },
    {
     "name": "stderr",
     "output_type": "stream",
     "text": [
      "Epoch: 1/50: 100%|██████████| 83/83 [00:04<00:00, 20.22it/s, train_loss=0.156, valid_loss=0.189]\n",
      "Epoch: 2/50: 100%|██████████| 83/83 [00:04<00:00, 19.87it/s, train_loss=0.159, valid_loss=0.188]\n",
      "Epoch: 3/50: 100%|██████████| 83/83 [00:04<00:00, 18.01it/s, train_loss=0.163, valid_loss=0.189]\n",
      "Epoch: 4/50: 100%|██████████| 83/83 [00:04<00:00, 18.98it/s, train_loss=0.165, valid_loss=0.189]\n",
      "Epoch: 5/50: 100%|██████████| 83/83 [00:05<00:00, 15.75it/s, train_loss=0.169, valid_loss=0.189]\n",
      "Epoch: 6/50: 100%|██████████| 83/83 [00:04<00:00, 18.72it/s, train_loss=0.157, valid_loss=0.189]\n",
      "Epoch: 7/50: 100%|██████████| 83/83 [00:04<00:00, 17.44it/s, train_loss=0.154, valid_loss=0.189]\n",
      "Epoch: 8/50: 100%|██████████| 83/83 [00:04<00:00, 19.72it/s, train_loss=0.168, valid_loss=0.189]\n",
      "Epoch: 9/50: 100%|██████████| 83/83 [00:04<00:00, 19.27it/s, train_loss=0.168, valid_loss=0.189]\n",
      "Epoch: 10/50: 100%|██████████| 83/83 [00:04<00:00, 20.37it/s, train_loss=0.173, valid_loss=0.189]\n"
     ]
    },
    {
     "name": "stdout",
     "output_type": "stream",
     "text": [
      "cross-validation dataset 4\n"
     ]
    },
    {
     "name": "stderr",
     "output_type": "stream",
     "text": [
      "Epoch: 1/50: 100%|██████████| 83/83 [00:04<00:00, 20.38it/s, train_loss=0.00216, valid_loss=0.00402]\n",
      "Epoch: 2/50: 100%|██████████| 83/83 [00:04<00:00, 20.58it/s, train_loss=0.00198, valid_loss=0.00311]\n",
      "Epoch: 3/50: 100%|██████████| 83/83 [00:04<00:00, 17.76it/s, train_loss=0.00148, valid_loss=0.00272]\n",
      "Epoch: 4/50: 100%|██████████| 83/83 [00:04<00:00, 20.25it/s, train_loss=0.00144, valid_loss=0.00311]\n",
      "Epoch: 5/50: 100%|██████████| 83/83 [00:04<00:00, 20.29it/s, train_loss=0.00146, valid_loss=0.00276]\n",
      "Epoch: 6/50: 100%|██████████| 83/83 [00:04<00:00, 20.37it/s, train_loss=0.00148, valid_loss=0.00294]\n",
      "Epoch: 7/50: 100%|██████████| 83/83 [00:04<00:00, 20.25it/s, train_loss=0.00109, valid_loss=0.00263]\n",
      "Epoch: 8/50: 100%|██████████| 83/83 [00:04<00:00, 20.47it/s, train_loss=0.00142, valid_loss=0.00259]\n",
      "Epoch: 9/50: 100%|██████████| 83/83 [00:04<00:00, 20.61it/s, train_loss=0.0011, valid_loss=0.00267] \n"
     ]
    },
    {
     "name": "stdout",
     "output_type": "stream",
     "text": [
      "model config: batch_size-512, lr-0.01, number_epoch-50, hidden_dim-150, n_layers-3,drop_prob-0,weight_decay-0\n",
      "cross-validation dataset 0\n"
     ]
    },
    {
     "name": "stderr",
     "output_type": "stream",
     "text": [
      "Epoch: 1/50: 100%|██████████| 9/9 [00:00<00:00, 13.80it/s, train_loss=0.104, valid_loss=0.175]\n",
      "Epoch: 2/50: 100%|██████████| 9/9 [00:00<00:00, 13.48it/s, train_loss=0.108, valid_loss=0.175]\n",
      "Epoch: 3/50: 100%|██████████| 9/9 [00:00<00:00, 13.22it/s, train_loss=0.105, valid_loss=0.175]\n",
      "Epoch: 4/50: 100%|██████████| 9/9 [00:00<00:00, 12.53it/s, train_loss=0.108, valid_loss=0.176]\n",
      "Epoch: 5/50: 100%|██████████| 9/9 [00:00<00:00, 12.52it/s, train_loss=0.108, valid_loss=0.175]\n",
      "Epoch: 6/50: 100%|██████████| 9/9 [00:00<00:00, 12.56it/s, train_loss=0.107, valid_loss=0.174]\n",
      "Epoch: 7/50: 100%|██████████| 9/9 [00:00<00:00, 14.22it/s, train_loss=0.107, valid_loss=0.174]\n",
      "Epoch: 8/50: 100%|██████████| 9/9 [00:00<00:00, 13.97it/s, train_loss=0.109, valid_loss=0.176]\n",
      "Epoch: 9/50: 100%|██████████| 9/9 [00:00<00:00, 17.84it/s, train_loss=0.104, valid_loss=0.173]\n",
      "Epoch: 10/50: 100%|██████████| 9/9 [00:00<00:00, 14.90it/s, train_loss=0.108, valid_loss=0.174]\n",
      "Epoch: 11/50: 100%|██████████| 9/9 [00:00<00:00, 14.55it/s, train_loss=0.106, valid_loss=0.175]\n",
      "Epoch: 12/50: 100%|██████████| 9/9 [00:00<00:00, 14.58it/s, train_loss=0.103, valid_loss=0.176]\n",
      "Epoch: 13/50: 100%|██████████| 9/9 [00:00<00:00, 14.22it/s, train_loss=0.105, valid_loss=0.175]\n",
      "Epoch: 14/50: 100%|██████████| 9/9 [00:00<00:00, 14.06it/s, train_loss=0.106, valid_loss=0.175]\n",
      "Epoch: 15/50: 100%|██████████| 9/9 [00:00<00:00, 14.52it/s, train_loss=0.107, valid_loss=0.176]\n",
      "Epoch: 16/50: 100%|██████████| 9/9 [00:00<00:00, 14.80it/s, train_loss=0.108, valid_loss=0.174]\n",
      "Epoch: 17/50: 100%|██████████| 9/9 [00:00<00:00, 14.26it/s, train_loss=0.111, valid_loss=0.175]\n",
      "Epoch: 18/50: 100%|██████████| 9/9 [00:00<00:00, 14.57it/s, train_loss=0.107, valid_loss=0.174] \n",
      "Epoch: 19/50: 100%|██████████| 9/9 [00:00<00:00, 15.67it/s, train_loss=0.107, valid_loss=0.176]\n",
      "Epoch: 20/50: 100%|██████████| 9/9 [00:00<00:00, 14.24it/s, train_loss=0.107, valid_loss=0.175]\n",
      "Epoch: 21/50: 100%|██████████| 9/9 [00:00<00:00, 14.31it/s, train_loss=0.104, valid_loss=0.175]\n",
      "Epoch: 22/50: 100%|██████████| 9/9 [00:00<00:00, 14.57it/s, train_loss=0.108, valid_loss=0.175]\n",
      "Epoch: 23/50: 100%|██████████| 9/9 [00:00<00:00, 14.51it/s, train_loss=0.111, valid_loss=0.174]\n",
      "Epoch: 24/50: 100%|██████████| 9/9 [00:00<00:00, 14.56it/s, train_loss=0.105, valid_loss=0.175]\n",
      "Epoch: 25/50: 100%|██████████| 9/9 [00:00<00:00, 14.02it/s, train_loss=0.104, valid_loss=0.174]\n",
      "Epoch: 26/50: 100%|██████████| 9/9 [00:01<00:00,  8.55it/s, train_loss=0.107, valid_loss=0.175]\n",
      "Epoch: 27/50: 100%|██████████| 9/9 [00:00<00:00, 13.87it/s, train_loss=0.106, valid_loss=0.174]\n",
      "Epoch: 28/50: 100%|██████████| 9/9 [00:00<00:00, 13.86it/s, train_loss=0.108, valid_loss=0.173]\n",
      "Epoch: 29/50: 100%|██████████| 9/9 [00:00<00:00, 14.10it/s, train_loss=0.103, valid_loss=0.175]\n",
      "Epoch: 30/50: 100%|██████████| 9/9 [00:00<00:00, 13.93it/s, train_loss=0.107, valid_loss=0.174]\n",
      "Epoch: 31/50: 100%|██████████| 9/9 [00:00<00:00, 14.21it/s, train_loss=0.107, valid_loss=0.175]\n",
      "Epoch: 32/50: 100%|██████████| 9/9 [00:00<00:00, 13.73it/s, train_loss=0.108, valid_loss=0.175]\n",
      "Epoch: 33/50: 100%|██████████| 9/9 [00:00<00:00, 13.96it/s, train_loss=0.104, valid_loss=0.177]\n",
      "Epoch: 34/50: 100%|██████████| 9/9 [00:00<00:00, 13.78it/s, train_loss=0.107, valid_loss=0.174]\n",
      "Epoch: 35/50: 100%|██████████| 9/9 [00:00<00:00, 13.75it/s, train_loss=0.11, valid_loss=0.175]\n",
      "Epoch: 36/50: 100%|██████████| 9/9 [00:00<00:00, 13.34it/s, train_loss=0.112, valid_loss=0.175]\n",
      "Epoch: 37/50: 100%|██████████| 9/9 [00:00<00:00, 13.13it/s, train_loss=0.109, valid_loss=0.175]\n",
      "Epoch: 38/50: 100%|██████████| 9/9 [00:00<00:00, 13.30it/s, train_loss=0.108, valid_loss=0.174]\n",
      "Epoch: 39/50: 100%|██████████| 9/9 [00:00<00:00, 13.70it/s, train_loss=0.108, valid_loss=0.174]\n",
      "Epoch: 40/50: 100%|██████████| 9/9 [00:00<00:00, 13.94it/s, train_loss=0.108, valid_loss=0.175]\n",
      "Epoch: 41/50: 100%|██████████| 9/9 [00:00<00:00, 13.47it/s, train_loss=0.106, valid_loss=0.175]\n",
      "Epoch: 42/50: 100%|██████████| 9/9 [00:00<00:00, 13.51it/s, train_loss=0.106, valid_loss=0.176]\n",
      "Epoch: 43/50: 100%|██████████| 9/9 [00:00<00:00, 13.89it/s, train_loss=0.107, valid_loss=0.175]\n",
      "Epoch: 44/50: 100%|██████████| 9/9 [00:00<00:00, 13.63it/s, train_loss=0.108, valid_loss=0.175]\n",
      "Epoch: 45/50: 100%|██████████| 9/9 [00:00<00:00, 13.45it/s, train_loss=0.107, valid_loss=0.177]\n",
      "Epoch: 46/50: 100%|██████████| 9/9 [00:00<00:00, 13.65it/s, train_loss=0.11, valid_loss=0.175]\n",
      "Epoch: 47/50: 100%|██████████| 9/9 [00:00<00:00, 13.74it/s, train_loss=0.11, valid_loss=0.174] \n",
      "Epoch: 48/50: 100%|██████████| 9/9 [00:00<00:00, 15.14it/s, train_loss=0.111, valid_loss=0.176]\n",
      "Epoch: 49/50: 100%|██████████| 9/9 [00:00<00:00, 13.97it/s, train_loss=0.108, valid_loss=0.176]\n",
      "Epoch: 50/50: 100%|██████████| 9/9 [00:00<00:00, 13.79it/s, train_loss=0.108, valid_loss=0.175]\n"
     ]
    },
    {
     "name": "stdout",
     "output_type": "stream",
     "text": [
      "cross-validation dataset 0\n"
     ]
    },
    {
     "name": "stderr",
     "output_type": "stream",
     "text": [
      "Epoch: 1/50: 100%|██████████| 9/9 [00:00<00:00, 13.73it/s, train_loss=0.103, valid_loss=0.176]\n",
      "Epoch: 2/50: 100%|██████████| 9/9 [00:00<00:00, 13.77it/s, train_loss=0.109, valid_loss=0.177]\n",
      "Epoch: 3/50: 100%|██████████| 9/9 [00:00<00:00, 14.36it/s, train_loss=0.111, valid_loss=0.174]\n",
      "Epoch: 4/50: 100%|██████████| 9/9 [00:00<00:00, 13.70it/s, train_loss=0.107, valid_loss=0.174]\n",
      "Epoch: 5/50: 100%|██████████| 9/9 [00:00<00:00, 13.71it/s, train_loss=0.108, valid_loss=0.175]\n",
      "Epoch: 6/50: 100%|██████████| 9/9 [00:00<00:00, 13.61it/s, train_loss=0.109, valid_loss=0.174]\n",
      "Epoch: 7/50: 100%|██████████| 9/9 [00:00<00:00, 13.81it/s, train_loss=0.11, valid_loss=0.176] \n",
      "Epoch: 8/50: 100%|██████████| 9/9 [00:00<00:00, 13.98it/s, train_loss=0.107, valid_loss=0.174]\n",
      "Epoch: 9/50: 100%|██████████| 9/9 [00:00<00:00, 13.87it/s, train_loss=0.106, valid_loss=0.174]\n",
      "Epoch: 10/50: 100%|██████████| 9/9 [00:00<00:00, 13.83it/s, train_loss=0.111, valid_loss=0.177]\n",
      "Epoch: 11/50: 100%|██████████| 9/9 [00:00<00:00, 13.52it/s, train_loss=0.109, valid_loss=0.176]\n",
      "Epoch: 12/50: 100%|██████████| 9/9 [00:00<00:00, 13.60it/s, train_loss=0.11, valid_loss=0.174] \n",
      "Epoch: 13/50: 100%|██████████| 9/9 [00:00<00:00, 14.18it/s, train_loss=0.104, valid_loss=0.174]\n",
      "Epoch: 14/50: 100%|██████████| 9/9 [00:00<00:00, 13.82it/s, train_loss=0.109, valid_loss=0.174]\n",
      "Epoch: 15/50: 100%|██████████| 9/9 [00:00<00:00, 13.73it/s, train_loss=0.114, valid_loss=0.175]\n",
      "Epoch: 16/50: 100%|██████████| 9/9 [00:00<00:00, 13.80it/s, train_loss=0.103, valid_loss=0.175]\n",
      "Epoch: 17/50: 100%|██████████| 9/9 [00:00<00:00, 13.99it/s, train_loss=0.112, valid_loss=0.175]\n",
      "Epoch: 18/50: 100%|██████████| 9/9 [00:00<00:00, 14.09it/s, train_loss=0.109, valid_loss=0.175]\n",
      "Epoch: 19/50: 100%|██████████| 9/9 [00:00<00:00, 14.04it/s, train_loss=0.103, valid_loss=0.175]\n",
      "Epoch: 20/50: 100%|██████████| 9/9 [00:00<00:00, 13.93it/s, train_loss=0.111, valid_loss=0.174]\n",
      "Epoch: 21/50: 100%|██████████| 9/9 [00:00<00:00, 14.36it/s, train_loss=0.108, valid_loss=0.176]\n",
      "Epoch: 22/50: 100%|██████████| 9/9 [00:00<00:00, 13.96it/s, train_loss=0.104, valid_loss=0.176]\n",
      "Epoch: 23/50: 100%|██████████| 9/9 [00:00<00:00, 10.86it/s, train_loss=0.108, valid_loss=0.175]\n",
      "Epoch: 24/50: 100%|██████████| 9/9 [00:00<00:00, 13.86it/s, train_loss=0.102, valid_loss=0.175]\n",
      "Epoch: 25/50: 100%|██████████| 9/9 [00:01<00:00,  8.52it/s, train_loss=0.109, valid_loss=0.175]\n",
      "Epoch: 26/50: 100%|██████████| 9/9 [00:00<00:00, 14.21it/s, train_loss=0.109, valid_loss=0.176]\n",
      "Epoch: 27/50: 100%|██████████| 9/9 [00:00<00:00, 14.05it/s, train_loss=0.113, valid_loss=0.175]\n",
      "Epoch: 28/50: 100%|██████████| 9/9 [00:00<00:00, 13.78it/s, train_loss=0.11, valid_loss=0.176] \n",
      "Epoch: 29/50: 100%|██████████| 9/9 [00:00<00:00, 14.10it/s, train_loss=0.108, valid_loss=0.176]\n",
      "Epoch: 30/50: 100%|██████████| 9/9 [00:00<00:00, 13.59it/s, train_loss=0.106, valid_loss=0.175]\n",
      "Epoch: 31/50: 100%|██████████| 9/9 [00:00<00:00, 13.98it/s, train_loss=0.111, valid_loss=0.175]\n",
      "Epoch: 32/50: 100%|██████████| 9/9 [00:00<00:00, 13.78it/s, train_loss=0.107, valid_loss=0.176]\n",
      "Epoch: 33/50: 100%|██████████| 9/9 [00:00<00:00, 13.59it/s, train_loss=0.11, valid_loss=0.175] \n",
      "Epoch: 34/50: 100%|██████████| 9/9 [00:00<00:00, 13.60it/s, train_loss=0.109, valid_loss=0.175]\n",
      "Epoch: 35/50: 100%|██████████| 9/9 [00:00<00:00, 13.94it/s, train_loss=0.109, valid_loss=0.176]\n",
      "Epoch: 36/50: 100%|██████████| 9/9 [00:00<00:00, 13.77it/s, train_loss=0.11, valid_loss=0.174] \n",
      "Epoch: 37/50: 100%|██████████| 9/9 [00:00<00:00, 13.62it/s, train_loss=0.107, valid_loss=0.174]\n",
      "Epoch: 38/50: 100%|██████████| 9/9 [00:00<00:00, 13.79it/s, train_loss=0.113, valid_loss=0.176]\n",
      "Epoch: 39/50: 100%|██████████| 9/9 [00:00<00:00, 13.97it/s, train_loss=0.107, valid_loss=0.174]\n",
      "Epoch: 40/50: 100%|██████████| 9/9 [00:00<00:00, 14.08it/s, train_loss=0.109, valid_loss=0.175]\n",
      "Epoch: 41/50: 100%|██████████| 9/9 [00:00<00:00, 14.07it/s, train_loss=0.108, valid_loss=0.177]\n",
      "Epoch: 42/50: 100%|██████████| 9/9 [00:00<00:00, 13.78it/s, train_loss=0.105, valid_loss=0.175]\n",
      "Epoch: 43/50: 100%|██████████| 9/9 [00:00<00:00, 13.81it/s, train_loss=0.112, valid_loss=0.176]\n",
      "Epoch: 44/50: 100%|██████████| 9/9 [00:00<00:00, 13.81it/s, train_loss=0.11, valid_loss=0.176] \n",
      "Epoch: 45/50: 100%|██████████| 9/9 [00:00<00:00, 13.81it/s, train_loss=0.113, valid_loss=0.173]\n",
      "Epoch: 46/50: 100%|██████████| 9/9 [00:00<00:00, 13.68it/s, train_loss=0.114, valid_loss=0.175]\n",
      "Epoch: 47/50: 100%|██████████| 9/9 [00:00<00:00, 13.85it/s, train_loss=0.109, valid_loss=0.175]\n",
      "Epoch: 48/50: 100%|██████████| 9/9 [00:00<00:00, 14.64it/s, train_loss=0.113, valid_loss=0.174]\n"
     ]
    },
    {
     "name": "stdout",
     "output_type": "stream",
     "text": [
      "cross-validation dataset 0\n"
     ]
    },
    {
     "name": "stderr",
     "output_type": "stream",
     "text": [
      "Epoch: 1/50: 100%|██████████| 9/9 [00:00<00:00, 13.92it/s, train_loss=0.0179, valid_loss=0.0622]\n",
      "Epoch: 2/50: 100%|██████████| 9/9 [00:00<00:00, 13.79it/s, train_loss=0.0526, valid_loss=0.155] \n",
      "Epoch: 3/50: 100%|██████████| 9/9 [00:00<00:00, 14.01it/s, train_loss=0.0101, valid_loss=0.0323]\n",
      "Epoch: 4/50: 100%|██████████| 9/9 [00:00<00:00, 13.74it/s, train_loss=0.00723, valid_loss=0.0727]\n",
      "Epoch: 5/50: 100%|██████████| 9/9 [00:00<00:00, 13.74it/s, train_loss=0.00391, valid_loss=0.0149]\n",
      "Epoch: 6/50: 100%|██████████| 9/9 [00:00<00:00, 13.98it/s, train_loss=0.00388, valid_loss=0.0106]\n",
      "Epoch: 7/50: 100%|██████████| 9/9 [00:00<00:00, 13.36it/s, train_loss=0.00217, valid_loss=0.012]  \n",
      "Epoch: 8/50: 100%|██████████| 9/9 [00:00<00:00, 13.45it/s, train_loss=0.00187, valid_loss=0.0114] \n",
      "Epoch: 9/50: 100%|██████████| 9/9 [00:00<00:00, 13.85it/s, train_loss=0.00186, valid_loss=0.022] \n",
      "Epoch: 10/50: 100%|██████████| 9/9 [00:00<00:00, 14.00it/s, train_loss=0.00167, valid_loss=0.0168]\n",
      "Epoch: 11/50: 100%|██████████| 9/9 [00:00<00:00, 13.69it/s, train_loss=0.0021, valid_loss=0.0204] \n",
      "Epoch: 12/50: 100%|██████████| 9/9 [00:00<00:00, 13.61it/s, train_loss=0.00161, valid_loss=0.0212]\n",
      "Epoch: 13/50: 100%|██████████| 9/9 [00:00<00:00, 13.59it/s, train_loss=0.00164, valid_loss=0.0299]\n",
      "Epoch: 14/50: 100%|██████████| 9/9 [00:00<00:00, 13.82it/s, train_loss=0.00144, valid_loss=0.0328]\n",
      "Epoch: 15/50: 100%|██████████| 9/9 [00:00<00:00, 13.67it/s, train_loss=0.00141, valid_loss=0.0359]\n",
      "Epoch: 16/50: 100%|██████████| 9/9 [00:00<00:00, 13.97it/s, train_loss=0.00146, valid_loss=0.0358]\n",
      "Epoch: 17/50: 100%|██████████| 9/9 [00:00<00:00, 12.55it/s, train_loss=0.00136, valid_loss=0.0402]\n",
      "Epoch: 18/50: 100%|██████████| 9/9 [00:00<00:00, 13.87it/s, train_loss=0.002, valid_loss=0.00436]  \n",
      "Epoch: 19/50: 100%|██████████| 9/9 [00:00<00:00, 14.00it/s, train_loss=0.00142, valid_loss=0.00439]\n",
      "Epoch: 20/50: 100%|██████████| 9/9 [00:00<00:00, 13.88it/s, train_loss=0.00139, valid_loss=0.00807]\n",
      "Epoch: 21/50: 100%|██████████| 9/9 [00:00<00:00, 13.82it/s, train_loss=0.00132, valid_loss=0.00616]\n",
      "Epoch: 22/50: 100%|██████████| 9/9 [00:00<00:00, 13.83it/s, train_loss=0.00128, valid_loss=0.00686]\n",
      "Epoch: 23/50: 100%|██████████| 9/9 [00:00<00:00, 13.72it/s, train_loss=0.00121, valid_loss=0.00902]\n",
      "Epoch: 24/50: 100%|██████████| 9/9 [00:00<00:00, 13.42it/s, train_loss=0.00159, valid_loss=0.00944]\n",
      "Epoch: 25/50: 100%|██████████| 9/9 [00:00<00:00, 14.19it/s, train_loss=0.0015, valid_loss=0.00713] \n",
      "Epoch: 26/50: 100%|██████████| 9/9 [00:00<00:00, 13.70it/s, train_loss=0.00128, valid_loss=0.0078]\n",
      "Epoch: 27/50: 100%|██████████| 9/9 [00:01<00:00,  8.26it/s, train_loss=0.00129, valid_loss=0.00923]\n",
      "Epoch: 28/50: 100%|██████████| 9/9 [00:00<00:00, 14.09it/s, train_loss=0.00113, valid_loss=0.0125] \n",
      "Epoch: 29/50: 100%|██████████| 9/9 [00:00<00:00, 14.83it/s, train_loss=0.00109, valid_loss=0.0119]\n",
      "Epoch: 30/50: 100%|██████████| 9/9 [00:00<00:00, 13.64it/s, train_loss=0.00117, valid_loss=0.0128]\n",
      "Epoch: 31/50: 100%|██████████| 9/9 [00:00<00:00, 13.63it/s, train_loss=0.00128, valid_loss=0.0108]\n",
      "Epoch: 32/50: 100%|██████████| 9/9 [00:00<00:00, 14.11it/s, train_loss=0.00134, valid_loss=0.0114]\n",
      "Epoch: 33/50: 100%|██████████| 9/9 [00:00<00:00, 13.65it/s, train_loss=0.00122, valid_loss=0.0195]\n",
      "Epoch: 34/50: 100%|██████████| 9/9 [00:00<00:00, 13.93it/s, train_loss=0.00101, valid_loss=0.0153]\n",
      "Epoch: 35/50: 100%|██████████| 9/9 [00:00<00:00, 13.72it/s, train_loss=0.00125, valid_loss=0.0199]\n",
      "Epoch: 36/50: 100%|██████████| 9/9 [00:00<00:00, 13.80it/s, train_loss=0.00115, valid_loss=0.0206]\n",
      "Epoch: 37/50: 100%|██████████| 9/9 [00:00<00:00, 13.63it/s, train_loss=0.0012, valid_loss=0.0198] \n",
      "Epoch: 38/50: 100%|██████████| 9/9 [00:00<00:00, 13.60it/s, train_loss=0.00126, valid_loss=0.0189]\n",
      "Epoch: 39/50: 100%|██████████| 9/9 [00:00<00:00, 13.94it/s, train_loss=0.000946, valid_loss=0.0312]\n",
      "Epoch: 40/50: 100%|██████████| 9/9 [00:00<00:00, 13.44it/s, train_loss=0.00101, valid_loss=0.0219]\n",
      "Epoch: 41/50: 100%|██████████| 9/9 [00:00<00:00, 13.91it/s, train_loss=0.000951, valid_loss=0.0261]\n",
      "Epoch: 42/50: 100%|██████████| 9/9 [00:00<00:00, 13.81it/s, train_loss=0.000896, valid_loss=0.0297]\n",
      "Epoch: 43/50: 100%|██████████| 9/9 [00:00<00:00, 13.90it/s, train_loss=0.000942, valid_loss=0.0281]\n",
      "Epoch: 44/50: 100%|██████████| 9/9 [00:00<00:00, 13.86it/s, train_loss=0.000796, valid_loss=0.0276]\n",
      "Epoch: 45/50: 100%|██████████| 9/9 [00:00<00:00, 13.80it/s, train_loss=0.00087, valid_loss=0.026] \n",
      "Epoch: 46/50: 100%|██████████| 9/9 [00:00<00:00, 13.81it/s, train_loss=0.000975, valid_loss=0.0293]\n",
      "Epoch: 47/50: 100%|██████████| 9/9 [00:00<00:00, 14.04it/s, train_loss=0.000843, valid_loss=0.0312]\n",
      "Epoch: 48/50: 100%|██████████| 9/9 [00:00<00:00, 13.59it/s, train_loss=0.000786, valid_loss=0.0299]\n"
     ]
    },
    {
     "name": "stdout",
     "output_type": "stream",
     "text": [
      "cross-validation dataset 1\n"
     ]
    },
    {
     "name": "stderr",
     "output_type": "stream",
     "text": [
      "Epoch: 1/50: 100%|██████████| 17/17 [00:01<00:00, 13.09it/s, train_loss=0.142, valid_loss=0.162]\n",
      "Epoch: 2/50: 100%|██████████| 17/17 [00:01<00:00, 13.49it/s, train_loss=0.14, valid_loss=0.164] \n",
      "Epoch: 3/50: 100%|██████████| 17/17 [00:01<00:00, 13.47it/s, train_loss=0.147, valid_loss=0.162]\n",
      "Epoch: 4/50: 100%|██████████| 17/17 [00:01<00:00, 13.42it/s, train_loss=0.143, valid_loss=0.162]\n",
      "Epoch: 5/50: 100%|██████████| 17/17 [00:01<00:00, 13.33it/s, train_loss=0.139, valid_loss=0.163]\n",
      "Epoch: 6/50: 100%|██████████| 17/17 [00:01<00:00, 13.36it/s, train_loss=0.144, valid_loss=0.161]\n",
      "Epoch: 7/50: 100%|██████████| 17/17 [00:01<00:00, 13.41it/s, train_loss=0.148, valid_loss=0.162]\n",
      "Epoch: 8/50: 100%|██████████| 17/17 [00:01<00:00, 13.40it/s, train_loss=0.137, valid_loss=0.164]\n",
      "Epoch: 9/50: 100%|██████████| 17/17 [00:01<00:00, 13.57it/s, train_loss=0.15, valid_loss=0.162]\n",
      "Epoch: 10/50: 100%|██████████| 17/17 [00:01<00:00, 13.30it/s, train_loss=0.138, valid_loss=0.163]\n",
      "Epoch: 11/50: 100%|██████████| 17/17 [00:01<00:00, 10.14it/s, train_loss=0.147, valid_loss=0.163]\n",
      "Epoch: 12/50: 100%|██████████| 17/17 [00:01<00:00, 13.71it/s, train_loss=0.134, valid_loss=0.162]\n",
      "Epoch: 13/50: 100%|██████████| 17/17 [00:01<00:00, 13.39it/s, train_loss=0.146, valid_loss=0.164]\n",
      "Epoch: 14/50: 100%|██████████| 17/17 [00:01<00:00, 13.55it/s, train_loss=0.147, valid_loss=0.163]\n",
      "Epoch: 15/50: 100%|██████████| 17/17 [00:01<00:00, 13.16it/s, train_loss=0.141, valid_loss=0.163]\n",
      "Epoch: 16/50: 100%|██████████| 17/17 [00:01<00:00, 13.45it/s, train_loss=0.143, valid_loss=0.162]\n"
     ]
    },
    {
     "name": "stdout",
     "output_type": "stream",
     "text": [
      "cross-validation dataset 1\n"
     ]
    },
    {
     "name": "stderr",
     "output_type": "stream",
     "text": [
      "Epoch: 1/50: 100%|██████████| 17/17 [00:01<00:00, 13.30it/s, train_loss=0.0383, valid_loss=0.0418]\n",
      "Epoch: 2/50: 100%|██████████| 17/17 [00:01<00:00, 13.88it/s, train_loss=0.0267, valid_loss=0.0287]\n",
      "Epoch: 3/50: 100%|██████████| 17/17 [00:01<00:00, 13.15it/s, train_loss=0.0233, valid_loss=0.0292]\n",
      "Epoch: 4/50: 100%|██████████| 17/17 [00:01<00:00, 13.02it/s, train_loss=0.0201, valid_loss=0.0276]\n",
      "Epoch: 5/50: 100%|██████████| 17/17 [00:01<00:00, 13.22it/s, train_loss=0.0556, valid_loss=0.0349] \n",
      "Epoch: 6/50: 100%|██████████| 17/17 [00:01<00:00, 13.53it/s, train_loss=0.0178, valid_loss=0.0227]\n",
      "Epoch: 7/50: 100%|██████████| 17/17 [00:01<00:00, 13.35it/s, train_loss=0.00684, valid_loss=0.00605]\n",
      "Epoch: 8/50: 100%|██████████| 17/17 [00:01<00:00, 13.31it/s, train_loss=0.00478, valid_loss=0.0038] \n",
      "Epoch: 9/50: 100%|██████████| 17/17 [00:01<00:00, 13.17it/s, train_loss=0.00379, valid_loss=0.00376]\n",
      "Epoch: 10/50: 100%|██████████| 17/17 [00:01<00:00, 13.05it/s, train_loss=0.00287, valid_loss=0.00363]\n",
      "Epoch: 11/50: 100%|██████████| 17/17 [00:01<00:00, 13.44it/s, train_loss=0.00291, valid_loss=0.00342]\n",
      "Epoch: 12/50: 100%|██████████| 17/17 [00:01<00:00, 13.52it/s, train_loss=0.00279, valid_loss=0.00299]\n",
      "Epoch: 13/50: 100%|██████████| 17/17 [00:01<00:00, 13.04it/s, train_loss=0.00249, valid_loss=0.0028]\n",
      "Epoch: 14/50: 100%|██████████| 17/17 [00:01<00:00, 13.03it/s, train_loss=0.00269, valid_loss=0.00266]\n",
      "Epoch: 15/50: 100%|██████████| 17/17 [00:01<00:00, 13.04it/s, train_loss=0.00251, valid_loss=0.0021] \n",
      "Epoch: 16/50: 100%|██████████| 17/17 [00:01<00:00, 13.18it/s, train_loss=0.00227, valid_loss=0.00245]\n",
      "Epoch: 17/50: 100%|██████████| 17/17 [00:01<00:00, 13.72it/s, train_loss=0.00236, valid_loss=0.00243]\n",
      "Epoch: 18/50: 100%|██████████| 17/17 [00:01<00:00, 13.15it/s, train_loss=0.00324, valid_loss=0.00326]\n",
      "Epoch: 19/50: 100%|██████████| 17/17 [00:01<00:00, 10.07it/s, train_loss=0.00179, valid_loss=0.00218]\n",
      "Epoch: 20/50: 100%|██████████| 17/17 [00:01<00:00, 12.81it/s, train_loss=0.00204, valid_loss=0.00176]\n",
      "Epoch: 21/50: 100%|██████████| 17/17 [00:01<00:00, 13.50it/s, train_loss=0.00201, valid_loss=0.00207]\n",
      "Epoch: 22/50: 100%|██████████| 17/17 [00:01<00:00, 13.32it/s, train_loss=0.00191, valid_loss=0.00221]\n",
      "Epoch: 23/50: 100%|██████████| 17/17 [00:01<00:00, 13.27it/s, train_loss=0.00213, valid_loss=0.00224]\n",
      "Epoch: 24/50: 100%|██████████| 17/17 [00:01<00:00, 13.20it/s, train_loss=0.00204, valid_loss=0.00274]\n",
      "Epoch: 25/50: 100%|██████████| 17/17 [00:01<00:00, 13.18it/s, train_loss=0.00187, valid_loss=0.00182]\n",
      "Epoch: 26/50: 100%|██████████| 17/17 [00:01<00:00, 13.45it/s, train_loss=0.00161, valid_loss=0.00199]\n",
      "Epoch: 27/50: 100%|██████████| 17/17 [00:01<00:00, 13.50it/s, train_loss=0.00153, valid_loss=0.00255]\n",
      "Epoch: 28/50: 100%|██████████| 17/17 [00:01<00:00, 13.40it/s, train_loss=0.00147, valid_loss=0.00168]\n",
      "Epoch: 29/50: 100%|██████████| 17/17 [00:01<00:00, 13.27it/s, train_loss=0.0014, valid_loss=0.00216] \n",
      "Epoch: 30/50: 100%|██████████| 17/17 [00:01<00:00, 15.64it/s, train_loss=0.00187, valid_loss=0.00218]\n",
      "Epoch: 31/50: 100%|██████████| 17/17 [00:01<00:00, 13.84it/s, train_loss=0.0015, valid_loss=0.00254] \n",
      "Epoch: 32/50: 100%|██████████| 17/17 [00:01<00:00, 13.90it/s, train_loss=0.00139, valid_loss=0.00199]\n",
      "Epoch: 33/50: 100%|██████████| 17/17 [00:01<00:00, 13.41it/s, train_loss=0.00162, valid_loss=0.00254]\n",
      "Epoch: 34/50: 100%|██████████| 17/17 [00:01<00:00, 13.50it/s, train_loss=0.00135, valid_loss=0.00274]\n",
      "Epoch: 35/50: 100%|██████████| 17/17 [00:01<00:00, 13.57it/s, train_loss=0.00164, valid_loss=0.0028] \n",
      "Epoch: 36/50: 100%|██████████| 17/17 [00:01<00:00, 13.67it/s, train_loss=0.00141, valid_loss=0.00273]\n",
      "Epoch: 37/50: 100%|██████████| 17/17 [00:01<00:00, 13.07it/s, train_loss=0.0012, valid_loss=0.00212] \n",
      "Epoch: 38/50: 100%|██████████| 17/17 [00:01<00:00, 13.35it/s, train_loss=0.00134, valid_loss=0.00305]\n",
      "Epoch: 39/50: 100%|██████████| 17/17 [00:01<00:00, 13.44it/s, train_loss=0.00114, valid_loss=0.00221]\n",
      "Epoch: 40/50: 100%|██████████| 17/17 [00:01<00:00, 13.30it/s, train_loss=0.00104, valid_loss=0.00209]\n",
      "Epoch: 41/50: 100%|██████████| 17/17 [00:01<00:00, 13.54it/s, train_loss=0.000975, valid_loss=0.00199]\n"
     ]
    },
    {
     "name": "stdout",
     "output_type": "stream",
     "text": [
      "cross-validation dataset 2\n"
     ]
    },
    {
     "name": "stderr",
     "output_type": "stream",
     "text": [
      "Epoch: 1/50: 100%|██████████| 25/25 [00:01<00:00, 14.23it/s, train_loss=0.152, valid_loss=0.194]\n",
      "Epoch: 2/50: 100%|██████████| 25/25 [00:02<00:00, 11.58it/s, train_loss=0.15, valid_loss=0.195] \n",
      "Epoch: 3/50: 100%|██████████| 25/25 [00:01<00:00, 12.74it/s, train_loss=0.145, valid_loss=0.193]\n",
      "Epoch: 4/50: 100%|██████████| 25/25 [00:01<00:00, 13.15it/s, train_loss=0.142, valid_loss=0.194]\n",
      "Epoch: 5/50: 100%|██████████| 25/25 [00:01<00:00, 14.33it/s, train_loss=0.155, valid_loss=0.195]\n",
      "Epoch: 6/50: 100%|██████████| 25/25 [00:01<00:00, 14.36it/s, train_loss=0.141, valid_loss=0.194]\n",
      "Epoch: 7/50: 100%|██████████| 25/25 [00:01<00:00, 14.48it/s, train_loss=0.149, valid_loss=0.194]\n",
      "Epoch: 8/50: 100%|██████████| 25/25 [00:01<00:00, 14.37it/s, train_loss=0.153, valid_loss=0.193]\n",
      "Epoch: 9/50: 100%|██████████| 25/25 [00:01<00:00, 14.18it/s, train_loss=0.142, valid_loss=0.195]\n",
      "Epoch: 10/50: 100%|██████████| 25/25 [00:01<00:00, 14.45it/s, train_loss=0.145, valid_loss=0.194]\n",
      "Epoch: 11/50: 100%|██████████| 25/25 [00:01<00:00, 13.86it/s, train_loss=0.142, valid_loss=0.194]\n",
      "Epoch: 12/50: 100%|██████████| 25/25 [00:01<00:00, 13.24it/s, train_loss=0.156, valid_loss=0.195]\n",
      "Epoch: 13/50: 100%|██████████| 25/25 [00:01<00:00, 14.65it/s, train_loss=0.148, valid_loss=0.192]\n",
      "Epoch: 14/50: 100%|██████████| 25/25 [00:01<00:00, 15.76it/s, train_loss=0.152, valid_loss=0.193]\n",
      "Epoch: 15/50: 100%|██████████| 25/25 [00:01<00:00, 16.02it/s, train_loss=0.151, valid_loss=0.194]\n",
      "Epoch: 16/50: 100%|██████████| 25/25 [00:01<00:00, 15.51it/s, train_loss=0.139, valid_loss=0.195]\n",
      "Epoch: 17/50: 100%|██████████| 25/25 [00:01<00:00, 16.09it/s, train_loss=0.145, valid_loss=0.193]\n",
      "Epoch: 18/50: 100%|██████████| 25/25 [00:01<00:00, 16.02it/s, train_loss=0.147, valid_loss=0.193]\n",
      "Epoch: 19/50: 100%|██████████| 25/25 [00:01<00:00, 16.26it/s, train_loss=0.15, valid_loss=0.193] \n",
      "Epoch: 20/50: 100%|██████████| 25/25 [00:01<00:00, 15.43it/s, train_loss=0.151, valid_loss=0.195]\n",
      "Epoch: 21/50: 100%|██████████| 25/25 [00:02<00:00, 11.83it/s, train_loss=0.148, valid_loss=0.194]\n",
      "Epoch: 22/50: 100%|██████████| 25/25 [00:01<00:00, 14.32it/s, train_loss=0.154, valid_loss=0.193]\n",
      "Epoch: 23/50: 100%|██████████| 25/25 [00:01<00:00, 14.51it/s, train_loss=0.142, valid_loss=0.193]\n"
     ]
    },
    {
     "name": "stdout",
     "output_type": "stream",
     "text": [
      "cross-validation dataset 2\n"
     ]
    },
    {
     "name": "stderr",
     "output_type": "stream",
     "text": [
      "Epoch: 1/50: 100%|██████████| 25/25 [00:01<00:00, 14.05it/s, train_loss=0.154, valid_loss=0.194]\n",
      "Epoch: 2/50: 100%|██████████| 25/25 [00:01<00:00, 13.96it/s, train_loss=0.154, valid_loss=0.194]\n",
      "Epoch: 3/50: 100%|██████████| 25/25 [00:01<00:00, 13.40it/s, train_loss=0.142, valid_loss=0.193]\n",
      "Epoch: 4/50: 100%|██████████| 25/25 [00:01<00:00, 13.35it/s, train_loss=0.146, valid_loss=0.195]\n",
      "Epoch: 5/50: 100%|██████████| 25/25 [00:01<00:00, 13.31it/s, train_loss=0.148, valid_loss=0.193]\n",
      "Epoch: 6/50: 100%|██████████| 25/25 [00:01<00:00, 13.27it/s, train_loss=0.151, valid_loss=0.197]\n",
      "Epoch: 7/50: 100%|██████████| 25/25 [00:01<00:00, 13.45it/s, train_loss=0.148, valid_loss=0.195]\n",
      "Epoch: 8/50: 100%|██████████| 25/25 [00:01<00:00, 13.40it/s, train_loss=0.154, valid_loss=0.194]\n",
      "Epoch: 9/50: 100%|██████████| 25/25 [00:01<00:00, 13.50it/s, train_loss=0.146, valid_loss=0.194]\n",
      "Epoch: 10/50: 100%|██████████| 25/25 [00:01<00:00, 13.46it/s, train_loss=0.139, valid_loss=0.192]\n",
      "Epoch: 11/50: 100%|██████████| 25/25 [00:01<00:00, 13.42it/s, train_loss=0.153, valid_loss=0.195]\n",
      "Epoch: 12/50: 100%|██████████| 25/25 [00:01<00:00, 13.49it/s, train_loss=0.152, valid_loss=0.195]\n"
     ]
    },
    {
     "name": "stdout",
     "output_type": "stream",
     "text": [
      "cross-validation dataset 2\n"
     ]
    },
    {
     "name": "stderr",
     "output_type": "stream",
     "text": [
      "Epoch: 1/50: 100%|██████████| 25/25 [00:01<00:00, 13.54it/s, train_loss=0.0307, valid_loss=0.0407]\n",
      "Epoch: 2/50: 100%|██████████| 25/25 [00:01<00:00, 13.89it/s, train_loss=0.027, valid_loss=0.0388] \n",
      "Epoch: 3/50: 100%|██████████| 25/25 [00:01<00:00, 13.61it/s, train_loss=0.0268, valid_loss=0.0396]\n",
      "Epoch: 4/50: 100%|██████████| 25/25 [00:02<00:00, 11.49it/s, train_loss=0.0262, valid_loss=0.0363]\n",
      "Epoch: 5/50: 100%|██████████| 25/25 [00:01<00:00, 14.31it/s, train_loss=0.0187, valid_loss=0.0376]\n",
      "Epoch: 6/50: 100%|██████████| 25/25 [00:01<00:00, 13.80it/s, train_loss=0.00688, valid_loss=0.0105]\n",
      "Epoch: 7/50: 100%|██████████| 25/25 [00:01<00:00, 13.36it/s, train_loss=0.00505, valid_loss=0.00503]\n",
      "Epoch: 8/50: 100%|██████████| 25/25 [00:01<00:00, 13.54it/s, train_loss=0.00254, valid_loss=0.00398]\n",
      "Epoch: 9/50: 100%|██████████| 25/25 [00:01<00:00, 13.59it/s, train_loss=0.0031, valid_loss=0.00447] \n",
      "Epoch: 10/50: 100%|██████████| 25/25 [00:01<00:00, 13.58it/s, train_loss=0.0025, valid_loss=0.00307] \n",
      "Epoch: 11/50: 100%|██████████| 25/25 [00:01<00:00, 14.15it/s, train_loss=0.00183, valid_loss=0.00385]\n",
      "Epoch: 12/50: 100%|██████████| 25/25 [00:01<00:00, 14.49it/s, train_loss=0.002, valid_loss=0.00368]  \n",
      "Epoch: 13/50: 100%|██████████| 25/25 [00:01<00:00, 14.42it/s, train_loss=0.00181, valid_loss=0.00298]\n",
      "Epoch: 14/50: 100%|██████████| 25/25 [00:01<00:00, 14.26it/s, train_loss=0.00182, valid_loss=0.00369]\n",
      "Epoch: 15/50: 100%|██████████| 25/25 [00:01<00:00, 14.39it/s, train_loss=0.00205, valid_loss=0.00445]\n",
      "Epoch: 16/50: 100%|██████████| 25/25 [00:01<00:00, 14.34it/s, train_loss=0.00198, valid_loss=0.00436]\n",
      "Epoch: 17/50: 100%|██████████| 25/25 [00:01<00:00, 14.36it/s, train_loss=0.00174, valid_loss=0.00279]\n",
      "Epoch: 18/50: 100%|██████████| 25/25 [00:01<00:00, 14.21it/s, train_loss=0.00196, valid_loss=0.00288]\n",
      "Epoch: 19/50: 100%|██████████| 25/25 [00:01<00:00, 14.50it/s, train_loss=0.00136, valid_loss=0.00296]\n",
      "Epoch: 20/50: 100%|██████████| 25/25 [00:01<00:00, 15.77it/s, train_loss=0.00182, valid_loss=0.00338]\n",
      "Epoch: 21/50: 100%|██████████| 25/25 [00:01<00:00, 15.41it/s, train_loss=0.00159, valid_loss=0.0029] \n",
      "Epoch: 22/50: 100%|██████████| 25/25 [00:01<00:00, 15.21it/s, train_loss=0.00127, valid_loss=0.00309]\n",
      "Epoch: 23/50: 100%|██████████| 25/25 [00:02<00:00, 12.43it/s, train_loss=0.00137, valid_loss=0.00267]\n",
      "Epoch: 24/50: 100%|██████████| 25/25 [00:01<00:00, 15.30it/s, train_loss=0.00131, valid_loss=0.00291]\n",
      "Epoch: 25/50: 100%|██████████| 25/25 [00:01<00:00, 15.16it/s, train_loss=0.00126, valid_loss=0.00303]\n",
      "Epoch: 26/50: 100%|██████████| 25/25 [00:01<00:00, 15.43it/s, train_loss=0.00132, valid_loss=0.0033] \n",
      "Epoch: 27/50: 100%|██████████| 25/25 [00:01<00:00, 15.30it/s, train_loss=0.0015, valid_loss=0.00455] \n",
      "Epoch: 28/50: 100%|██████████| 25/25 [00:01<00:00, 15.29it/s, train_loss=0.00128, valid_loss=0.00345]\n",
      "Epoch: 29/50: 100%|██████████| 25/25 [00:01<00:00, 15.21it/s, train_loss=0.00132, valid_loss=0.00303]\n"
     ]
    },
    {
     "name": "stdout",
     "output_type": "stream",
     "text": [
      "cross-validation dataset 3\n"
     ]
    },
    {
     "name": "stderr",
     "output_type": "stream",
     "text": [
      "Epoch: 1/50: 100%|██████████| 33/33 [00:02<00:00, 14.80it/s, train_loss=0.151, valid_loss=0.191]\n",
      "Epoch: 2/50: 100%|██████████| 33/33 [00:02<00:00, 14.28it/s, train_loss=0.162, valid_loss=0.192]\n",
      "Epoch: 3/50: 100%|██████████| 33/33 [00:02<00:00, 14.74it/s, train_loss=0.157, valid_loss=0.191]\n",
      "Epoch: 4/50: 100%|██████████| 33/33 [00:02<00:00, 14.81it/s, train_loss=0.154, valid_loss=0.192]\n",
      "Epoch: 5/50: 100%|██████████| 33/33 [00:02<00:00, 14.75it/s, train_loss=0.17, valid_loss=0.191] \n",
      "Epoch: 6/50: 100%|██████████| 33/33 [00:02<00:00, 14.89it/s, train_loss=0.151, valid_loss=0.19] \n",
      "Epoch: 7/50: 100%|██████████| 33/33 [00:02<00:00, 12.50it/s, train_loss=0.158, valid_loss=0.191]\n",
      "Epoch: 8/50: 100%|██████████| 33/33 [00:02<00:00, 14.79it/s, train_loss=0.156, valid_loss=0.192]\n",
      "Epoch: 9/50: 100%|██████████| 33/33 [00:02<00:00, 15.07it/s, train_loss=0.163, valid_loss=0.19] \n",
      "Epoch: 10/50: 100%|██████████| 33/33 [00:02<00:00, 14.55it/s, train_loss=0.159, valid_loss=0.19] \n",
      "Epoch: 11/50: 100%|██████████| 33/33 [00:02<00:00, 14.77it/s, train_loss=0.164, valid_loss=0.19] \n",
      "Epoch: 12/50: 100%|██████████| 33/33 [00:02<00:00, 14.62it/s, train_loss=0.169, valid_loss=0.189]\n",
      "Epoch: 13/50: 100%|██████████| 33/33 [00:02<00:00, 14.98it/s, train_loss=0.156, valid_loss=0.191]\n",
      "Epoch: 14/50: 100%|██████████| 33/33 [00:02<00:00, 15.16it/s, train_loss=0.154, valid_loss=0.19] \n",
      "Epoch: 15/50: 100%|██████████| 33/33 [00:02<00:00, 13.92it/s, train_loss=0.164, valid_loss=0.193]\n",
      "Epoch: 16/50: 100%|██████████| 33/33 [00:02<00:00, 14.89it/s, train_loss=0.168, valid_loss=0.188]\n",
      "Epoch: 17/50: 100%|██████████| 33/33 [00:02<00:00, 12.31it/s, train_loss=0.163, valid_loss=0.191]\n"
     ]
    },
    {
     "name": "stdout",
     "output_type": "stream",
     "text": [
      "cross-validation dataset 3\n"
     ]
    },
    {
     "name": "stderr",
     "output_type": "stream",
     "text": [
      "Epoch: 1/50: 100%|██████████| 33/33 [00:02<00:00, 15.19it/s, train_loss=0.164, valid_loss=0.192]\n",
      "Epoch: 2/50: 100%|██████████| 33/33 [00:02<00:00, 14.94it/s, train_loss=0.162, valid_loss=0.19] \n",
      "Epoch: 3/50: 100%|██████████| 33/33 [00:02<00:00, 15.01it/s, train_loss=0.157, valid_loss=0.19] \n",
      "Epoch: 4/50: 100%|██████████| 33/33 [00:02<00:00, 14.94it/s, train_loss=0.166, valid_loss=0.191]\n",
      "Epoch: 5/50: 100%|██████████| 33/33 [00:02<00:00, 15.00it/s, train_loss=0.164, valid_loss=0.191]\n",
      "Epoch: 6/50: 100%|██████████| 33/33 [00:02<00:00, 14.78it/s, train_loss=0.157, valid_loss=0.191]\n",
      "Epoch: 7/50: 100%|██████████| 33/33 [00:02<00:00, 14.73it/s, train_loss=0.16, valid_loss=0.192] \n",
      "Epoch: 8/50: 100%|██████████| 33/33 [00:02<00:00, 15.12it/s, train_loss=0.166, valid_loss=0.191]\n"
     ]
    },
    {
     "name": "stdout",
     "output_type": "stream",
     "text": [
      "cross-validation dataset 3\n"
     ]
    },
    {
     "name": "stderr",
     "output_type": "stream",
     "text": [
      "Epoch: 1/50: 100%|██████████| 33/33 [00:02<00:00, 14.76it/s, train_loss=0.0279, valid_loss=0.033] \n",
      "Epoch: 2/50: 100%|██████████| 33/33 [00:02<00:00, 14.84it/s, train_loss=0.0116, valid_loss=0.00904]\n",
      "Epoch: 3/50: 100%|██████████| 33/33 [00:02<00:00, 14.74it/s, train_loss=0.00331, valid_loss=0.00254]\n",
      "Epoch: 4/50: 100%|██████████| 33/33 [00:02<00:00, 12.27it/s, train_loss=0.00284, valid_loss=0.00165]\n",
      "Epoch: 5/50: 100%|██████████| 33/33 [00:02<00:00, 14.28it/s, train_loss=0.00245, valid_loss=0.00144]\n",
      "Epoch: 6/50: 100%|██████████| 33/33 [00:02<00:00, 14.22it/s, train_loss=0.00227, valid_loss=0.0013] \n",
      "Epoch: 7/50: 100%|██████████| 33/33 [00:02<00:00, 14.93it/s, train_loss=0.00241, valid_loss=0.00128]\n",
      "Epoch: 8/50: 100%|██████████| 33/33 [00:02<00:00, 15.14it/s, train_loss=0.00213, valid_loss=0.00147]\n",
      "Epoch: 9/50: 100%|██████████| 33/33 [00:02<00:00, 15.08it/s, train_loss=0.00252, valid_loss=0.00128]\n",
      "Epoch: 10/50: 100%|██████████| 33/33 [00:02<00:00, 15.01it/s, train_loss=0.00171, valid_loss=0.00148]\n",
      "Epoch: 11/50: 100%|██████████| 33/33 [00:02<00:00, 14.94it/s, train_loss=0.00203, valid_loss=0.00111]\n",
      "Epoch: 12/50: 100%|██████████| 33/33 [00:02<00:00, 14.78it/s, train_loss=0.00203, valid_loss=0.00109]\n",
      "Epoch: 13/50: 100%|██████████| 33/33 [00:02<00:00, 14.87it/s, train_loss=0.00194, valid_loss=0.00126]\n",
      "Epoch: 14/50: 100%|██████████| 33/33 [00:02<00:00, 14.76it/s, train_loss=0.00188, valid_loss=0.000958]\n",
      "Epoch: 15/50: 100%|██████████| 33/33 [00:02<00:00, 14.78it/s, train_loss=0.00173, valid_loss=0.000983]\n",
      "Epoch: 16/50: 100%|██████████| 33/33 [00:02<00:00, 14.76it/s, train_loss=0.00168, valid_loss=0.00134] \n",
      "Epoch: 17/50: 100%|██████████| 33/33 [00:02<00:00, 14.85it/s, train_loss=0.00151, valid_loss=0.00121] \n",
      "Epoch: 18/50: 100%|██████████| 33/33 [00:02<00:00, 14.82it/s, train_loss=0.00169, valid_loss=0.000994]\n",
      "Epoch: 19/50: 100%|██████████| 33/33 [00:02<00:00, 14.82it/s, train_loss=0.00179, valid_loss=0.000966]\n",
      "Epoch: 20/50: 100%|██████████| 33/33 [00:02<00:00, 15.04it/s, train_loss=0.0016, valid_loss=0.00141]  \n",
      "Epoch: 21/50: 100%|██████████| 33/33 [00:02<00:00, 14.76it/s, train_loss=0.00141, valid_loss=0.00131] \n",
      "Epoch: 22/50: 100%|██████████| 33/33 [00:02<00:00, 14.80it/s, train_loss=0.0016, valid_loss=0.00109] \n",
      "Epoch: 23/50: 100%|██████████| 33/33 [00:02<00:00, 14.79it/s, train_loss=0.00132, valid_loss=0.00128]\n",
      "Epoch: 24/50: 100%|██████████| 33/33 [00:02<00:00, 12.61it/s, train_loss=0.00163, valid_loss=0.000966]\n",
      "Epoch: 25/50: 100%|██████████| 33/33 [00:02<00:00, 14.73it/s, train_loss=0.00134, valid_loss=0.00112] \n",
      "Epoch: 26/50: 100%|██████████| 33/33 [00:02<00:00, 14.88it/s, train_loss=0.00146, valid_loss=0.00208] \n",
      "Epoch: 27/50: 100%|██████████| 33/33 [00:02<00:00, 15.25it/s, train_loss=0.00125, valid_loss=0.00097] \n",
      "Epoch: 28/50: 100%|██████████| 33/33 [00:02<00:00, 14.82it/s, train_loss=0.00107, valid_loss=0.00101] \n",
      "Epoch: 29/50: 100%|██████████| 33/33 [00:02<00:00, 14.70it/s, train_loss=0.00117, valid_loss=0.00186] \n",
      "Epoch: 30/50: 100%|██████████| 33/33 [00:02<00:00, 13.98it/s, train_loss=0.00104, valid_loss=0.0011]   \n",
      "Epoch: 31/50: 100%|██████████| 33/33 [00:02<00:00, 14.77it/s, train_loss=0.00116, valid_loss=0.000959]\n",
      "Epoch: 32/50: 100%|██████████| 33/33 [00:02<00:00, 14.68it/s, train_loss=0.00108, valid_loss=0.000911] \n",
      "Epoch: 33/50: 100%|██████████| 33/33 [00:02<00:00, 14.74it/s, train_loss=0.000939, valid_loss=0.0011]  \n",
      "Epoch: 34/50: 100%|██████████| 33/33 [00:02<00:00, 11.93it/s, train_loss=0.00111, valid_loss=0.000939] \n",
      "Epoch: 35/50: 100%|██████████| 33/33 [00:02<00:00, 12.26it/s, train_loss=0.000873, valid_loss=0.000959]\n",
      "Epoch: 36/50: 100%|██████████| 33/33 [00:02<00:00, 14.71it/s, train_loss=0.000967, valid_loss=0.00101] \n",
      "Epoch: 37/50: 100%|██████████| 33/33 [00:02<00:00, 15.15it/s, train_loss=0.000862, valid_loss=0.000984]\n",
      "Epoch: 38/50: 100%|██████████| 33/33 [00:02<00:00, 14.99it/s, train_loss=0.000827, valid_loss=0.00115] \n",
      "Epoch: 39/50: 100%|██████████| 33/33 [00:02<00:00, 15.26it/s, train_loss=0.001, valid_loss=0.00123]    \n",
      "Epoch: 40/50: 100%|██████████| 33/33 [00:02<00:00, 15.71it/s, train_loss=0.000652, valid_loss=0.00105] \n",
      "Epoch: 41/50: 100%|██████████| 33/33 [00:02<00:00, 16.14it/s, train_loss=0.000744, valid_loss=0.000959]\n",
      "Epoch: 42/50: 100%|██████████| 33/33 [00:02<00:00, 15.74it/s, train_loss=0.000668, valid_loss=0.000999]\n",
      "Epoch: 43/50: 100%|██████████| 33/33 [00:02<00:00, 15.22it/s, train_loss=0.000771, valid_loss=0.00136] \n"
     ]
    },
    {
     "name": "stdout",
     "output_type": "stream",
     "text": [
      "cross-validation dataset 4\n"
     ]
    },
    {
     "name": "stderr",
     "output_type": "stream",
     "text": [
      "Epoch: 1/50: 100%|██████████| 42/42 [00:02<00:00, 14.63it/s, train_loss=0.166, valid_loss=0.19] \n",
      "Epoch: 2/50: 100%|██████████| 42/42 [00:03<00:00, 12.97it/s, train_loss=0.157, valid_loss=0.19] \n",
      "Epoch: 3/50: 100%|██████████| 42/42 [00:02<00:00, 14.89it/s, train_loss=0.162, valid_loss=0.189]\n",
      "Epoch: 4/50: 100%|██████████| 42/42 [00:02<00:00, 14.61it/s, train_loss=0.167, valid_loss=0.19] \n",
      "Epoch: 5/50: 100%|██████████| 42/42 [00:02<00:00, 14.68it/s, train_loss=0.168, valid_loss=0.188]\n",
      "Epoch: 6/50: 100%|██████████| 42/42 [00:02<00:00, 14.79it/s, train_loss=0.169, valid_loss=0.189]\n",
      "Epoch: 7/50: 100%|██████████| 42/42 [00:02<00:00, 14.71it/s, train_loss=0.155, valid_loss=0.189]\n",
      "Epoch: 8/50: 100%|██████████| 42/42 [00:02<00:00, 14.84it/s, train_loss=0.17, valid_loss=0.188] \n",
      "Epoch: 9/50: 100%|██████████| 42/42 [00:02<00:00, 14.72it/s, train_loss=0.164, valid_loss=0.188]\n"
     ]
    },
    {
     "name": "stdout",
     "output_type": "stream",
     "text": [
      "cross-validation dataset 4\n"
     ]
    },
    {
     "name": "stderr",
     "output_type": "stream",
     "text": [
      "Epoch: 1/50: 100%|██████████| 42/42 [00:02<00:00, 14.72it/s, train_loss=0.159, valid_loss=0.19] \n",
      "Epoch: 2/50: 100%|██████████| 42/42 [00:02<00:00, 14.67it/s, train_loss=0.159, valid_loss=0.19] \n",
      "Epoch: 3/50: 100%|██████████| 42/42 [00:02<00:00, 14.81it/s, train_loss=0.163, valid_loss=0.19] \n",
      "Epoch: 4/50: 100%|██████████| 42/42 [00:03<00:00, 12.96it/s, train_loss=0.16, valid_loss=0.188] \n",
      "Epoch: 5/50: 100%|██████████| 42/42 [00:03<00:00, 13.69it/s, train_loss=0.163, valid_loss=0.188]\n",
      "Epoch: 6/50: 100%|██████████| 42/42 [00:02<00:00, 14.84it/s, train_loss=0.158, valid_loss=0.188]\n"
     ]
    },
    {
     "name": "stdout",
     "output_type": "stream",
     "text": [
      "model config: batch_size-256, lr-0.01, number_epoch-50, hidden_dim-80, n_layers-3,drop_prob-0,weight_decay-0\n",
      "cross-validation dataset 0\n"
     ]
    },
    {
     "name": "stderr",
     "output_type": "stream",
     "text": [
      "Epoch: 1/50: 100%|██████████| 17/17 [00:01<00:00, 14.10it/s, train_loss=0.107, valid_loss=0.175]\n",
      "Epoch: 2/50: 100%|██████████| 17/17 [00:01<00:00, 14.15it/s, train_loss=0.107, valid_loss=0.175]\n",
      "Epoch: 3/50: 100%|██████████| 17/17 [00:01<00:00, 14.15it/s, train_loss=0.105, valid_loss=0.175]\n",
      "Epoch: 4/50: 100%|██████████| 17/17 [00:01<00:00, 14.04it/s, train_loss=0.11, valid_loss=0.176] \n",
      "Epoch: 5/50: 100%|██████████| 17/17 [00:01<00:00, 13.97it/s, train_loss=0.106, valid_loss=0.175]\n",
      "Epoch: 6/50: 100%|██████████| 17/17 [00:01<00:00, 14.28it/s, train_loss=0.109, valid_loss=0.175]\n",
      "Epoch: 7/50: 100%|██████████| 17/17 [00:01<00:00, 14.08it/s, train_loss=0.109, valid_loss=0.175]\n",
      "Epoch: 8/50: 100%|██████████| 17/17 [00:01<00:00, 14.36it/s, train_loss=0.113, valid_loss=0.175]\n",
      "Epoch: 9/50: 100%|██████████| 17/17 [00:01<00:00, 14.38it/s, train_loss=0.105, valid_loss=0.175]\n",
      "Epoch: 10/50: 100%|██████████| 17/17 [00:01<00:00, 14.35it/s, train_loss=0.108, valid_loss=0.175]\n",
      "Epoch: 11/50: 100%|██████████| 17/17 [00:01<00:00, 14.31it/s, train_loss=0.0993, valid_loss=0.175]\n",
      "Epoch: 12/50: 100%|██████████| 17/17 [00:01<00:00, 14.26it/s, train_loss=0.101, valid_loss=0.175]\n",
      "Epoch: 13/50: 100%|██████████| 17/17 [00:01<00:00, 14.15it/s, train_loss=0.111, valid_loss=0.175]\n",
      "Epoch: 14/50: 100%|██████████| 17/17 [00:01<00:00, 14.24it/s, train_loss=0.102, valid_loss=0.175]\n",
      "Epoch: 15/50: 100%|██████████| 17/17 [00:01<00:00, 14.40it/s, train_loss=0.11, valid_loss=0.175] \n",
      "Epoch: 16/50: 100%|██████████| 17/17 [00:01<00:00, 14.39it/s, train_loss=0.106, valid_loss=0.175]\n",
      "Epoch: 17/50: 100%|██████████| 17/17 [00:01<00:00, 14.42it/s, train_loss=0.108, valid_loss=0.175]\n",
      "Epoch: 18/50: 100%|██████████| 17/17 [00:01<00:00, 14.27it/s, train_loss=0.102, valid_loss=0.175]\n",
      "Epoch: 19/50: 100%|██████████| 17/17 [00:01<00:00, 14.35it/s, train_loss=0.109, valid_loss=0.175]\n",
      "Epoch: 20/50: 100%|██████████| 17/17 [00:01<00:00, 14.18it/s, train_loss=0.108, valid_loss=0.174]\n",
      "Epoch: 21/50: 100%|██████████| 17/17 [00:01<00:00, 14.27it/s, train_loss=0.105, valid_loss=0.175]\n",
      "Epoch: 22/50: 100%|██████████| 17/17 [00:01<00:00, 14.21it/s, train_loss=0.11, valid_loss=0.174] \n",
      "Epoch: 23/50: 100%|██████████| 17/17 [00:01<00:00, 14.24it/s, train_loss=0.11, valid_loss=0.175] \n",
      "Epoch: 24/50: 100%|██████████| 17/17 [00:01<00:00, 13.90it/s, train_loss=0.115, valid_loss=0.175]\n",
      "Epoch: 25/50: 100%|██████████| 17/17 [00:01<00:00, 14.31it/s, train_loss=0.106, valid_loss=0.175]\n",
      "Epoch: 26/50: 100%|██████████| 17/17 [00:01<00:00, 14.36it/s, train_loss=0.107, valid_loss=0.175]\n",
      "Epoch: 27/50: 100%|██████████| 17/17 [00:01<00:00, 14.23it/s, train_loss=0.112, valid_loss=0.175]\n",
      "Epoch: 28/50: 100%|██████████| 17/17 [00:01<00:00, 14.35it/s, train_loss=0.102, valid_loss=0.175]\n",
      "Epoch: 29/50: 100%|██████████| 17/17 [00:01<00:00, 13.63it/s, train_loss=0.105, valid_loss=0.175]\n",
      "Epoch: 30/50: 100%|██████████| 17/17 [00:01<00:00, 13.89it/s, train_loss=0.11, valid_loss=0.175] \n",
      "Epoch: 31/50: 100%|██████████| 17/17 [00:01<00:00, 14.26it/s, train_loss=0.11, valid_loss=0.174] \n",
      "Epoch: 32/50: 100%|██████████| 17/17 [00:01<00:00, 14.39it/s, train_loss=0.111, valid_loss=0.175]\n",
      "Epoch: 33/50: 100%|██████████| 17/17 [00:01<00:00, 10.13it/s, train_loss=0.107, valid_loss=0.175]\n",
      "Epoch: 34/50: 100%|██████████| 17/17 [00:01<00:00, 12.10it/s, train_loss=0.107, valid_loss=0.175]\n",
      "Epoch: 35/50: 100%|██████████| 17/17 [00:01<00:00, 11.56it/s, train_loss=0.11, valid_loss=0.175] \n"
     ]
    },
    {
     "name": "stdout",
     "output_type": "stream",
     "text": [
      "cross-validation dataset 0\n"
     ]
    },
    {
     "name": "stderr",
     "output_type": "stream",
     "text": [
      "Epoch: 1/50: 100%|██████████| 17/17 [00:01<00:00, 11.09it/s, train_loss=0.0171, valid_loss=0.0438]\n",
      "Epoch: 2/50: 100%|██████████| 17/17 [00:01<00:00, 10.97it/s, train_loss=0.00666, valid_loss=0.0339]\n",
      "Epoch: 3/50: 100%|██████████| 17/17 [00:01<00:00, 11.34it/s, train_loss=0.00324, valid_loss=0.0145]\n",
      "Epoch: 4/50: 100%|██████████| 17/17 [00:01<00:00, 10.98it/s, train_loss=0.00188, valid_loss=0.0048]\n",
      "Epoch: 5/50: 100%|██████████| 17/17 [00:01<00:00, 11.58it/s, train_loss=0.00166, valid_loss=0.00469]\n",
      "Epoch: 6/50: 100%|██████████| 17/17 [00:01<00:00, 11.55it/s, train_loss=0.00141, valid_loss=0.00492]\n",
      "Epoch: 7/50: 100%|██████████| 17/17 [00:01<00:00, 14.19it/s, train_loss=0.00156, valid_loss=0.00734]\n",
      "Epoch: 8/50: 100%|██████████| 17/17 [00:01<00:00, 14.20it/s, train_loss=0.00158, valid_loss=0.00509]\n",
      "Epoch: 9/50: 100%|██████████| 17/17 [00:01<00:00, 14.17it/s, train_loss=0.00127, valid_loss=0.00648]\n",
      "Epoch: 10/50: 100%|██████████| 17/17 [00:01<00:00, 14.18it/s, train_loss=0.00175, valid_loss=0.0056] \n",
      "Epoch: 11/50: 100%|██████████| 17/17 [00:01<00:00, 14.19it/s, train_loss=0.00129, valid_loss=0.0055]\n",
      "Epoch: 12/50: 100%|██████████| 17/17 [00:01<00:00, 14.36it/s, train_loss=0.00103, valid_loss=0.0106] \n",
      "Epoch: 13/50: 100%|██████████| 17/17 [00:01<00:00, 14.52it/s, train_loss=0.000887, valid_loss=0.00915]\n",
      "Epoch: 14/50: 100%|██████████| 17/17 [00:01<00:00, 14.49it/s, train_loss=0.00108, valid_loss=0.0085] \n",
      "Epoch: 15/50: 100%|██████████| 17/17 [00:01<00:00, 14.48it/s, train_loss=0.000789, valid_loss=0.00898]\n",
      "Epoch: 16/50: 100%|██████████| 17/17 [00:01<00:00, 14.48it/s, train_loss=0.000818, valid_loss=0.0137] \n",
      "Epoch: 17/50: 100%|██████████| 17/17 [00:01<00:00, 14.46it/s, train_loss=0.00076, valid_loss=0.00822] \n",
      "Epoch: 18/50: 100%|██████████| 17/17 [00:01<00:00, 14.45it/s, train_loss=0.000633, valid_loss=0.00953]\n",
      "Epoch: 19/50: 100%|██████████| 17/17 [00:01<00:00, 14.46it/s, train_loss=0.0006, valid_loss=0.0108]   \n"
     ]
    },
    {
     "name": "stdout",
     "output_type": "stream",
     "text": [
      "cross-validation dataset 1\n"
     ]
    },
    {
     "name": "stderr",
     "output_type": "stream",
     "text": [
      "Epoch: 1/50: 100%|██████████| 33/33 [00:02<00:00, 15.33it/s, train_loss=0.142, valid_loss=0.163]\n",
      "Epoch: 2/50: 100%|██████████| 33/33 [00:02<00:00, 15.40it/s, train_loss=0.134, valid_loss=0.162]\n",
      "Epoch: 3/50: 100%|██████████| 33/33 [00:02<00:00, 15.27it/s, train_loss=0.152, valid_loss=0.162]\n",
      "Epoch: 4/50: 100%|██████████| 33/33 [00:02<00:00, 15.13it/s, train_loss=0.146, valid_loss=0.162]\n",
      "Epoch: 5/50: 100%|██████████| 33/33 [00:02<00:00, 15.05it/s, train_loss=0.144, valid_loss=0.162]\n",
      "Epoch: 6/50: 100%|██████████| 33/33 [00:02<00:00, 14.99it/s, train_loss=0.137, valid_loss=0.162]\n",
      "Epoch: 7/50: 100%|██████████| 33/33 [00:02<00:00, 15.11it/s, train_loss=0.149, valid_loss=0.162]\n",
      "Epoch: 8/50: 100%|██████████| 33/33 [00:02<00:00, 14.99it/s, train_loss=0.141, valid_loss=0.162]\n",
      "Epoch: 9/50: 100%|██████████| 33/33 [00:02<00:00, 15.12it/s, train_loss=0.146, valid_loss=0.162]\n",
      "Epoch: 10/50: 100%|██████████| 33/33 [00:02<00:00, 15.28it/s, train_loss=0.135, valid_loss=0.162]\n",
      "Epoch: 11/50: 100%|██████████| 33/33 [00:02<00:00, 15.28it/s, train_loss=0.135, valid_loss=0.162]\n"
     ]
    },
    {
     "name": "stdout",
     "output_type": "stream",
     "text": [
      "cross-validation dataset 1\n"
     ]
    },
    {
     "name": "stderr",
     "output_type": "stream",
     "text": [
      "Epoch: 1/50: 100%|██████████| 33/33 [00:02<00:00, 15.36it/s, train_loss=0.00991, valid_loss=0.0104]\n",
      "Epoch: 2/50: 100%|██████████| 33/33 [00:02<00:00, 12.90it/s, train_loss=0.00267, valid_loss=0.00227]\n",
      "Epoch: 3/50: 100%|██████████| 33/33 [00:02<00:00, 15.22it/s, train_loss=0.0022, valid_loss=0.00202] \n",
      "Epoch: 4/50: 100%|██████████| 33/33 [00:02<00:00, 15.27it/s, train_loss=0.00262, valid_loss=0.00178]\n",
      "Epoch: 5/50: 100%|██████████| 33/33 [00:02<00:00, 15.39it/s, train_loss=0.0022, valid_loss=0.00176] \n",
      "Epoch: 6/50: 100%|██████████| 33/33 [00:02<00:00, 15.35it/s, train_loss=0.00218, valid_loss=0.00161]\n",
      "Epoch: 7/50: 100%|██████████| 33/33 [00:02<00:00, 15.24it/s, train_loss=0.00171, valid_loss=0.00151]\n",
      "Epoch: 8/50: 100%|██████████| 33/33 [00:02<00:00, 14.95it/s, train_loss=0.00179, valid_loss=0.00145]\n",
      "Epoch: 9/50: 100%|██████████| 33/33 [00:02<00:00, 15.42it/s, train_loss=0.00264, valid_loss=0.00163]\n",
      "Epoch: 10/50: 100%|██████████| 33/33 [00:02<00:00, 15.13it/s, train_loss=0.00186, valid_loss=0.0014] \n",
      "Epoch: 11/50: 100%|██████████| 33/33 [00:02<00:00, 15.36it/s, train_loss=0.00198, valid_loss=0.00152]\n",
      "Epoch: 12/50: 100%|██████████| 33/33 [00:02<00:00, 15.40it/s, train_loss=0.00158, valid_loss=0.00162]\n",
      "Epoch: 13/50: 100%|██████████| 33/33 [00:02<00:00, 15.30it/s, train_loss=0.00179, valid_loss=0.00135]\n",
      "Epoch: 14/50: 100%|██████████| 33/33 [00:02<00:00, 15.44it/s, train_loss=0.00153, valid_loss=0.00175]\n",
      "Epoch: 15/50: 100%|██████████| 33/33 [00:02<00:00, 15.34it/s, train_loss=0.00151, valid_loss=0.00145]\n",
      "Epoch: 16/50: 100%|██████████| 33/33 [00:02<00:00, 15.10it/s, train_loss=0.00128, valid_loss=0.00131]\n",
      "Epoch: 17/50: 100%|██████████| 33/33 [00:02<00:00, 15.12it/s, train_loss=0.00153, valid_loss=0.00136]\n",
      "Epoch: 18/50: 100%|██████████| 33/33 [00:02<00:00, 15.13it/s, train_loss=0.00191, valid_loss=0.00164]\n",
      "Epoch: 19/50: 100%|██████████| 33/33 [00:02<00:00, 15.31it/s, train_loss=0.00144, valid_loss=0.00141]\n",
      "Epoch: 20/50: 100%|██████████| 33/33 [00:02<00:00, 15.19it/s, train_loss=0.00131, valid_loss=0.00191]\n",
      "Epoch: 21/50: 100%|██████████| 33/33 [00:02<00:00, 15.31it/s, train_loss=0.00124, valid_loss=0.00133]\n",
      "Epoch: 22/50: 100%|██████████| 33/33 [00:02<00:00, 15.30it/s, train_loss=0.00133, valid_loss=0.00158]\n",
      "Epoch: 23/50: 100%|██████████| 33/33 [00:02<00:00, 15.13it/s, train_loss=0.00137, valid_loss=0.0016] \n",
      "Epoch: 24/50: 100%|██████████| 33/33 [00:02<00:00, 15.46it/s, train_loss=0.00111, valid_loss=0.00163]\n",
      "Epoch: 25/50: 100%|██████████| 33/33 [00:02<00:00, 15.27it/s, train_loss=0.000974, valid_loss=0.00182]\n",
      "Epoch: 26/50: 100%|██████████| 33/33 [00:02<00:00, 12.96it/s, train_loss=0.00109, valid_loss=0.00169]\n"
     ]
    },
    {
     "name": "stdout",
     "output_type": "stream",
     "text": [
      "cross-validation dataset 2\n"
     ]
    },
    {
     "name": "stderr",
     "output_type": "stream",
     "text": [
      "Epoch: 1/50: 100%|██████████| 50/50 [00:03<00:00, 15.89it/s, train_loss=0.152, valid_loss=0.194]\n",
      "Epoch: 2/50: 100%|██████████| 50/50 [00:03<00:00, 15.79it/s, train_loss=0.163, valid_loss=0.194]\n",
      "Epoch: 3/50: 100%|██████████| 50/50 [00:03<00:00, 15.79it/s, train_loss=0.148, valid_loss=0.193]\n",
      "Epoch: 4/50: 100%|██████████| 50/50 [00:03<00:00, 15.76it/s, train_loss=0.145, valid_loss=0.194]\n",
      "Epoch: 5/50: 100%|██████████| 50/50 [00:03<00:00, 15.75it/s, train_loss=0.155, valid_loss=0.194]\n",
      "Epoch: 6/50: 100%|██████████| 50/50 [00:03<00:00, 15.53it/s, train_loss=0.146, valid_loss=0.194]\n",
      "Epoch: 7/50: 100%|██████████| 50/50 [00:03<00:00, 15.82it/s, train_loss=0.148, valid_loss=0.194]\n",
      "Epoch: 8/50: 100%|██████████| 50/50 [00:03<00:00, 15.79it/s, train_loss=0.154, valid_loss=0.194]\n"
     ]
    },
    {
     "name": "stdout",
     "output_type": "stream",
     "text": [
      "cross-validation dataset 2\n"
     ]
    },
    {
     "name": "stderr",
     "output_type": "stream",
     "text": [
      "Epoch: 1/50: 100%|██████████| 50/50 [00:03<00:00, 15.80it/s, train_loss=0.149, valid_loss=0.194]\n",
      "Epoch: 2/50: 100%|██████████| 50/50 [00:03<00:00, 15.86it/s, train_loss=0.142, valid_loss=0.194]\n",
      "Epoch: 3/50: 100%|██████████| 50/50 [00:03<00:00, 15.97it/s, train_loss=0.153, valid_loss=0.194]\n",
      "Epoch: 4/50: 100%|██████████| 50/50 [00:03<00:00, 15.77it/s, train_loss=0.149, valid_loss=0.194]\n",
      "Epoch: 5/50: 100%|██████████| 50/50 [00:03<00:00, 15.76it/s, train_loss=0.157, valid_loss=0.195]\n",
      "Epoch: 6/50: 100%|██████████| 50/50 [00:03<00:00, 15.77it/s, train_loss=0.149, valid_loss=0.195]\n",
      "Epoch: 7/50: 100%|██████████| 50/50 [00:03<00:00, 15.18it/s, train_loss=0.144, valid_loss=0.194]\n",
      "Epoch: 8/50: 100%|██████████| 50/50 [00:03<00:00, 15.89it/s, train_loss=0.156, valid_loss=0.194]\n"
     ]
    },
    {
     "name": "stdout",
     "output_type": "stream",
     "text": [
      "cross-validation dataset 2\n"
     ]
    },
    {
     "name": "stderr",
     "output_type": "stream",
     "text": [
      "Epoch: 1/50: 100%|██████████| 50/50 [00:03<00:00, 13.98it/s, train_loss=0.00307, valid_loss=0.0054] \n",
      "Epoch: 2/50: 100%|██████████| 50/50 [00:03<00:00, 15.79it/s, train_loss=0.00208, valid_loss=0.00297]\n",
      "Epoch: 3/50: 100%|██████████| 50/50 [00:03<00:00, 15.81it/s, train_loss=0.00165, valid_loss=0.00307]\n",
      "Epoch: 4/50: 100%|██████████| 50/50 [00:03<00:00, 15.73it/s, train_loss=0.00236, valid_loss=0.00319]\n",
      "Epoch: 5/50: 100%|██████████| 50/50 [00:03<00:00, 15.75it/s, train_loss=0.00203, valid_loss=0.00256]\n",
      "Epoch: 6/50: 100%|██████████| 50/50 [00:03<00:00, 15.84it/s, train_loss=0.00128, valid_loss=0.00292]\n",
      "Epoch: 7/50: 100%|██████████| 50/50 [00:03<00:00, 16.18it/s, train_loss=0.00123, valid_loss=0.00284]\n",
      "Epoch: 8/50: 100%|██████████| 50/50 [00:03<00:00, 15.95it/s, train_loss=0.00122, valid_loss=0.00302]\n",
      "Epoch: 9/50: 100%|██████████| 50/50 [00:03<00:00, 15.44it/s, train_loss=0.00118, valid_loss=0.00432]\n",
      "Epoch: 10/50: 100%|██████████| 50/50 [00:03<00:00, 15.57it/s, train_loss=0.00133, valid_loss=0.00392]\n"
     ]
    },
    {
     "name": "stdout",
     "output_type": "stream",
     "text": [
      "cross-validation dataset 3\n"
     ]
    },
    {
     "name": "stderr",
     "output_type": "stream",
     "text": [
      "Epoch: 1/50: 100%|██████████| 66/66 [00:04<00:00, 15.00it/s, train_loss=0.0133, valid_loss=0.0145]\n",
      "Epoch: 2/50: 100%|██████████| 66/66 [00:04<00:00, 15.19it/s, train_loss=0.00307, valid_loss=0.00169]\n",
      "Epoch: 3/50: 100%|██████████| 66/66 [00:04<00:00, 15.17it/s, train_loss=0.00221, valid_loss=0.00122]\n",
      "Epoch: 4/50: 100%|██████████| 66/66 [00:04<00:00, 15.20it/s, train_loss=0.00183, valid_loss=0.00115]\n",
      "Epoch: 5/50: 100%|██████████| 66/66 [00:04<00:00, 13.86it/s, train_loss=0.00208, valid_loss=0.000977]\n",
      "Epoch: 6/50: 100%|██████████| 66/66 [00:04<00:00, 14.63it/s, train_loss=0.00214, valid_loss=0.000906]\n",
      "Epoch: 7/50: 100%|██████████| 66/66 [00:04<00:00, 15.10it/s, train_loss=0.00136, valid_loss=0.000881]\n",
      "Epoch: 8/50: 100%|██████████| 66/66 [00:04<00:00, 15.11it/s, train_loss=0.00201, valid_loss=0.00112] \n",
      "Epoch: 9/50: 100%|██████████| 66/66 [00:04<00:00, 15.28it/s, train_loss=0.00166, valid_loss=0.0008]  \n",
      "Epoch: 10/50: 100%|██████████| 66/66 [00:04<00:00, 15.38it/s, train_loss=0.00164, valid_loss=0.000914]\n",
      "Epoch: 11/50: 100%|██████████| 66/66 [00:04<00:00, 15.20it/s, train_loss=0.00135, valid_loss=0.000835]\n",
      "Epoch: 12/50: 100%|██████████| 66/66 [00:04<00:00, 15.30it/s, train_loss=0.00169, valid_loss=0.00123] \n",
      "Epoch: 13/50: 100%|██████████| 66/66 [00:04<00:00, 15.03it/s, train_loss=0.00111, valid_loss=0.000994]\n",
      "Epoch: 14/50: 100%|██████████| 66/66 [00:04<00:00, 15.24it/s, train_loss=0.00179, valid_loss=0.00159] \n",
      "Epoch: 15/50: 100%|██████████| 66/66 [00:04<00:00, 15.15it/s, train_loss=0.00108, valid_loss=0.000953]\n",
      "Epoch: 16/50: 100%|██████████| 66/66 [00:03<00:00, 18.16it/s, train_loss=0.00124, valid_loss=0.00118] \n"
     ]
    },
    {
     "name": "stdout",
     "output_type": "stream",
     "text": [
      "cross-validation dataset 4\n"
     ]
    },
    {
     "name": "stderr",
     "output_type": "stream",
     "text": [
      "Epoch: 1/50: 100%|██████████| 83/83 [00:05<00:00, 14.40it/s, train_loss=0.0021, valid_loss=0.0035]  \n",
      "Epoch: 2/50: 100%|██████████| 83/83 [00:05<00:00, 15.46it/s, train_loss=0.0017, valid_loss=0.00377] \n",
      "Epoch: 3/50: 100%|██████████| 83/83 [00:05<00:00, 15.55it/s, train_loss=0.00223, valid_loss=0.00292]\n",
      "Epoch: 4/50: 100%|██████████| 83/83 [00:05<00:00, 15.62it/s, train_loss=0.00147, valid_loss=0.00266]\n",
      "Epoch: 5/50: 100%|██████████| 83/83 [00:05<00:00, 15.68it/s, train_loss=0.0018, valid_loss=0.00275] \n",
      "Epoch: 6/50: 100%|██████████| 83/83 [00:05<00:00, 15.73it/s, train_loss=0.00135, valid_loss=0.0029] \n",
      "Epoch: 7/50: 100%|██████████| 83/83 [00:05<00:00, 15.61it/s, train_loss=0.00159, valid_loss=0.00346]\n",
      "Epoch: 8/50: 100%|██████████| 83/83 [00:05<00:00, 15.68it/s, train_loss=0.0015, valid_loss=0.00294]  \n"
     ]
    },
    {
     "name": "stdout",
     "output_type": "stream",
     "text": [
      "model config: batch_size-512, lr-0.01, number_epoch-50, hidden_dim-80, n_layers-3,drop_prob-0,weight_decay-0\n",
      "cross-validation dataset 0\n"
     ]
    },
    {
     "name": "stderr",
     "output_type": "stream",
     "text": [
      "Epoch: 1/50: 100%|██████████| 9/9 [00:00<00:00, 17.95it/s, train_loss=0.109, valid_loss=0.175]\n",
      "Epoch: 2/50: 100%|██████████| 9/9 [00:00<00:00, 18.08it/s, train_loss=0.109, valid_loss=0.175]\n",
      "Epoch: 3/50: 100%|██████████| 9/9 [00:00<00:00, 18.17it/s, train_loss=0.109, valid_loss=0.176]\n",
      "Epoch: 4/50: 100%|██████████| 9/9 [00:00<00:00, 18.04it/s, train_loss=0.104, valid_loss=0.174]\n",
      "Epoch: 5/50: 100%|██████████| 9/9 [00:00<00:00, 18.19it/s, train_loss=0.109, valid_loss=0.175]\n",
      "Epoch: 6/50: 100%|██████████| 9/9 [00:00<00:00, 18.15it/s, train_loss=0.105, valid_loss=0.174]\n",
      "Epoch: 7/50: 100%|██████████| 9/9 [00:00<00:00, 18.00it/s, train_loss=0.106, valid_loss=0.174]\n",
      "Epoch: 8/50: 100%|██████████| 9/9 [00:00<00:00, 18.27it/s, train_loss=0.106, valid_loss=0.175]\n",
      "Epoch: 9/50: 100%|██████████| 9/9 [00:00<00:00, 18.07it/s, train_loss=0.108, valid_loss=0.174]\n",
      "Epoch: 10/50: 100%|██████████| 9/9 [00:00<00:00, 18.12it/s, train_loss=0.107, valid_loss=0.175]\n",
      "Epoch: 11/50: 100%|██████████| 9/9 [00:00<00:00, 17.44it/s, train_loss=0.11, valid_loss=0.174] \n",
      "Epoch: 12/50: 100%|██████████| 9/9 [00:00<00:00, 18.11it/s, train_loss=0.11, valid_loss=0.176] \n",
      "Epoch: 13/50: 100%|██████████| 9/9 [00:00<00:00, 18.24it/s, train_loss=0.102, valid_loss=0.176]\n",
      "Epoch: 14/50: 100%|██████████| 9/9 [00:00<00:00, 18.15it/s, train_loss=0.109, valid_loss=0.174]\n",
      "Epoch: 15/50: 100%|██████████| 9/9 [00:00<00:00, 17.99it/s, train_loss=0.108, valid_loss=0.177]\n",
      "Epoch: 16/50: 100%|██████████| 9/9 [00:00<00:00, 18.12it/s, train_loss=0.105, valid_loss=0.175]\n",
      "Epoch: 17/50: 100%|██████████| 9/9 [00:00<00:00, 18.07it/s, train_loss=0.11, valid_loss=0.176]\n",
      "Epoch: 18/50: 100%|██████████| 9/9 [00:00<00:00, 18.11it/s, train_loss=0.109, valid_loss=0.176]\n",
      "Epoch: 19/50: 100%|██████████| 9/9 [00:00<00:00, 18.03it/s, train_loss=0.109, valid_loss=0.175]\n",
      "Epoch: 20/50: 100%|██████████| 9/9 [00:00<00:00, 18.06it/s, train_loss=0.108, valid_loss=0.175]\n",
      "Epoch: 21/50: 100%|██████████| 9/9 [00:00<00:00, 10.06it/s, train_loss=0.104, valid_loss=0.176]\n",
      "Epoch: 22/50: 100%|██████████| 9/9 [00:00<00:00, 18.67it/s, train_loss=0.107, valid_loss=0.175]\n",
      "Epoch: 23/50: 100%|██████████| 9/9 [00:00<00:00, 18.27it/s, train_loss=0.11, valid_loss=0.175] \n",
      "Epoch: 24/50: 100%|██████████| 9/9 [00:00<00:00, 18.00it/s, train_loss=0.106, valid_loss=0.175]\n",
      "Epoch: 25/50: 100%|██████████| 9/9 [00:00<00:00, 18.17it/s, train_loss=0.11, valid_loss=0.174] \n",
      "Epoch: 26/50: 100%|██████████| 9/9 [00:00<00:00, 18.06it/s, train_loss=0.106, valid_loss=0.175]\n",
      "Epoch: 27/50: 100%|██████████| 9/9 [00:00<00:00, 17.86it/s, train_loss=0.108, valid_loss=0.175]\n",
      "Epoch: 28/50: 100%|██████████| 9/9 [00:00<00:00, 18.04it/s, train_loss=0.108, valid_loss=0.175]\n",
      "Epoch: 29/50: 100%|██████████| 9/9 [00:00<00:00, 18.08it/s, train_loss=0.106, valid_loss=0.176]\n",
      "Epoch: 30/50: 100%|██████████| 9/9 [00:00<00:00, 18.22it/s, train_loss=0.106, valid_loss=0.176]\n",
      "Epoch: 31/50: 100%|██████████| 9/9 [00:00<00:00, 18.02it/s, train_loss=0.105, valid_loss=0.173]\n",
      "Epoch: 32/50: 100%|██████████| 9/9 [00:00<00:00, 18.12it/s, train_loss=0.104, valid_loss=0.175]\n",
      "Epoch: 33/50: 100%|██████████| 9/9 [00:00<00:00, 18.08it/s, train_loss=0.108, valid_loss=0.176]\n",
      "Epoch: 34/50: 100%|██████████| 9/9 [00:00<00:00, 18.08it/s, train_loss=0.105, valid_loss=0.175]\n",
      "Epoch: 35/50: 100%|██████████| 9/9 [00:00<00:00, 18.33it/s, train_loss=0.107, valid_loss=0.174]\n",
      "Epoch: 36/50: 100%|██████████| 9/9 [00:00<00:00, 18.14it/s, train_loss=0.107, valid_loss=0.175]\n",
      "Epoch: 37/50: 100%|██████████| 9/9 [00:00<00:00, 18.21it/s, train_loss=0.104, valid_loss=0.176]\n",
      "Epoch: 38/50: 100%|██████████| 9/9 [00:00<00:00, 17.90it/s, train_loss=0.103, valid_loss=0.175]\n",
      "Epoch: 39/50: 100%|██████████| 9/9 [00:00<00:00, 17.70it/s, train_loss=0.115, valid_loss=0.174]\n",
      "Epoch: 40/50: 100%|██████████| 9/9 [00:00<00:00, 17.90it/s, train_loss=0.108, valid_loss=0.176]\n",
      "Epoch: 41/50: 100%|██████████| 9/9 [00:00<00:00, 18.05it/s, train_loss=0.109, valid_loss=0.176]\n",
      "Epoch: 42/50: 100%|██████████| 9/9 [00:00<00:00, 18.44it/s, train_loss=0.11, valid_loss=0.177] \n",
      "Epoch: 43/50: 100%|██████████| 9/9 [00:00<00:00, 18.17it/s, train_loss=0.107, valid_loss=0.176]\n",
      "Epoch: 44/50: 100%|██████████| 9/9 [00:00<00:00, 18.13it/s, train_loss=0.107, valid_loss=0.175]\n",
      "Epoch: 45/50: 100%|██████████| 9/9 [00:00<00:00, 18.08it/s, train_loss=0.109, valid_loss=0.177]\n",
      "Epoch: 46/50: 100%|██████████| 9/9 [00:00<00:00, 18.23it/s, train_loss=0.108, valid_loss=0.176]\n",
      "Epoch: 47/50: 100%|██████████| 9/9 [00:00<00:00, 17.49it/s, train_loss=0.11, valid_loss=0.175] \n",
      "Epoch: 48/50: 100%|██████████| 9/9 [00:00<00:00, 18.11it/s, train_loss=0.108, valid_loss=0.175]\n",
      "Epoch: 49/50: 100%|██████████| 9/9 [00:00<00:00, 17.98it/s, train_loss=0.107, valid_loss=0.174]\n",
      "Epoch: 50/50: 100%|██████████| 9/9 [00:00<00:00, 17.86it/s, train_loss=0.106, valid_loss=0.176]\n"
     ]
    },
    {
     "name": "stdout",
     "output_type": "stream",
     "text": [
      "cross-validation dataset 0\n"
     ]
    },
    {
     "name": "stderr",
     "output_type": "stream",
     "text": [
      "Epoch: 1/50: 100%|██████████| 9/9 [00:00<00:00, 17.96it/s, train_loss=0.105, valid_loss=0.175]\n",
      "Epoch: 2/50: 100%|██████████| 9/9 [00:00<00:00, 18.15it/s, train_loss=0.109, valid_loss=0.176]\n",
      "Epoch: 3/50: 100%|██████████| 9/9 [00:00<00:00, 18.25it/s, train_loss=0.106, valid_loss=0.174]\n",
      "Epoch: 4/50: 100%|██████████| 9/9 [00:00<00:00, 17.42it/s, train_loss=0.109, valid_loss=0.174]\n",
      "Epoch: 5/50: 100%|██████████| 9/9 [00:00<00:00, 18.26it/s, train_loss=0.111, valid_loss=0.175]\n",
      "Epoch: 6/50: 100%|██████████| 9/9 [00:00<00:00, 18.29it/s, train_loss=0.109, valid_loss=0.175]\n",
      "Epoch: 7/50: 100%|██████████| 9/9 [00:00<00:00, 18.09it/s, train_loss=0.107, valid_loss=0.177]\n",
      "Epoch: 8/50: 100%|██████████| 9/9 [00:00<00:00, 18.38it/s, train_loss=0.112, valid_loss=0.175]\n",
      "Epoch: 9/50: 100%|██████████| 9/9 [00:00<00:00, 18.09it/s, train_loss=0.11, valid_loss=0.174] \n",
      "Epoch: 10/50: 100%|██████████| 9/9 [00:00<00:00, 18.24it/s, train_loss=0.105, valid_loss=0.174]\n",
      "Epoch: 11/50: 100%|██████████| 9/9 [00:00<00:00, 18.24it/s, train_loss=0.112, valid_loss=0.176]\n",
      "Epoch: 12/50: 100%|██████████| 9/9 [00:00<00:00, 18.37it/s, train_loss=0.107, valid_loss=0.175]\n",
      "Epoch: 13/50: 100%|██████████| 9/9 [00:00<00:00, 18.22it/s, train_loss=0.107, valid_loss=0.175]\n",
      "Epoch: 14/50: 100%|██████████| 9/9 [00:00<00:00, 18.22it/s, train_loss=0.105, valid_loss=0.174]\n",
      "Epoch: 15/50: 100%|██████████| 9/9 [00:00<00:00, 18.25it/s, train_loss=0.104, valid_loss=0.174]\n",
      "Epoch: 16/50: 100%|██████████| 9/9 [00:00<00:00, 18.05it/s, train_loss=0.107, valid_loss=0.176]\n",
      "Epoch: 17/50: 100%|██████████| 9/9 [00:00<00:00, 18.24it/s, train_loss=0.108, valid_loss=0.176]\n",
      "Epoch: 18/50: 100%|██████████| 9/9 [00:00<00:00, 18.39it/s, train_loss=0.107, valid_loss=0.175]\n",
      "Epoch: 19/50: 100%|██████████| 9/9 [00:00<00:00, 18.34it/s, train_loss=0.111, valid_loss=0.175]\n",
      "Epoch: 20/50: 100%|██████████| 9/9 [00:00<00:00, 17.94it/s, train_loss=0.105, valid_loss=0.176]\n",
      "Epoch: 21/50: 100%|██████████| 9/9 [00:00<00:00, 18.24it/s, train_loss=0.111, valid_loss=0.177]\n",
      "Epoch: 22/50: 100%|██████████| 9/9 [00:00<00:00,  9.99it/s, train_loss=0.108, valid_loss=0.173]\n",
      "Epoch: 23/50: 100%|██████████| 9/9 [00:00<00:00, 15.99it/s, train_loss=0.107, valid_loss=0.176]\n",
      "Epoch: 24/50: 100%|██████████| 9/9 [00:00<00:00, 15.35it/s, train_loss=0.113, valid_loss=0.174]\n",
      "Epoch: 25/50: 100%|██████████| 9/9 [00:00<00:00, 14.61it/s, train_loss=0.106, valid_loss=0.175]\n",
      "Epoch: 26/50: 100%|██████████| 9/9 [00:00<00:00, 13.64it/s, train_loss=0.108, valid_loss=0.174]\n",
      "Epoch: 27/50: 100%|██████████| 9/9 [00:00<00:00, 14.89it/s, train_loss=0.107, valid_loss=0.176]\n",
      "Epoch: 28/50: 100%|██████████| 9/9 [00:00<00:00, 16.58it/s, train_loss=0.11, valid_loss=0.176] \n",
      "Epoch: 29/50: 100%|██████████| 9/9 [00:00<00:00, 16.31it/s, train_loss=0.104, valid_loss=0.175]\n",
      "Epoch: 30/50: 100%|██████████| 9/9 [00:00<00:00, 15.13it/s, train_loss=0.104, valid_loss=0.174]\n",
      "Epoch: 31/50: 100%|██████████| 9/9 [00:00<00:00, 15.60it/s, train_loss=0.11, valid_loss=0.176] \n",
      "Epoch: 32/50: 100%|██████████| 9/9 [00:00<00:00, 16.53it/s, train_loss=0.11, valid_loss=0.175] \n",
      "Epoch: 33/50: 100%|██████████| 9/9 [00:00<00:00, 16.48it/s, train_loss=0.109, valid_loss=0.176]\n",
      "Epoch: 34/50: 100%|██████████| 9/9 [00:00<00:00, 17.27it/s, train_loss=0.108, valid_loss=0.175]\n",
      "Epoch: 35/50: 100%|██████████| 9/9 [00:00<00:00, 15.57it/s, train_loss=0.104, valid_loss=0.176]\n",
      "Epoch: 36/50: 100%|██████████| 9/9 [00:00<00:00, 13.85it/s, train_loss=0.11, valid_loss=0.175] \n",
      "Epoch: 37/50: 100%|██████████| 9/9 [00:00<00:00, 17.71it/s, train_loss=0.108, valid_loss=0.175]\n",
      "Epoch: 38/50: 100%|██████████| 9/9 [00:00<00:00, 17.71it/s, train_loss=0.107, valid_loss=0.173]\n",
      "Epoch: 39/50: 100%|██████████| 9/9 [00:00<00:00, 17.87it/s, train_loss=0.108, valid_loss=0.175]\n",
      "Epoch: 40/50: 100%|██████████| 9/9 [00:00<00:00, 17.79it/s, train_loss=0.11, valid_loss=0.175] \n",
      "Epoch: 41/50: 100%|██████████| 9/9 [00:00<00:00, 17.76it/s, train_loss=0.107, valid_loss=0.176]\n",
      "Epoch: 42/50: 100%|██████████| 9/9 [00:00<00:00, 17.48it/s, train_loss=0.108, valid_loss=0.176]\n",
      "Epoch: 43/50: 100%|██████████| 9/9 [00:00<00:00, 17.70it/s, train_loss=0.108, valid_loss=0.174]\n",
      "Epoch: 44/50: 100%|██████████| 9/9 [00:00<00:00, 17.74it/s, train_loss=0.109, valid_loss=0.176]\n",
      "Epoch: 45/50: 100%|██████████| 9/9 [00:00<00:00, 17.75it/s, train_loss=0.109, valid_loss=0.175]\n",
      "Epoch: 46/50: 100%|██████████| 9/9 [00:00<00:00, 17.68it/s, train_loss=0.107, valid_loss=0.176]\n",
      "Epoch: 47/50: 100%|██████████| 9/9 [00:00<00:00, 17.05it/s, train_loss=0.106, valid_loss=0.174]\n"
     ]
    },
    {
     "name": "stdout",
     "output_type": "stream",
     "text": [
      "cross-validation dataset 0\n"
     ]
    },
    {
     "name": "stderr",
     "output_type": "stream",
     "text": [
      "Epoch: 1/50: 100%|██████████| 9/9 [00:00<00:00, 16.58it/s, train_loss=0.0272, valid_loss=0.0517]\n",
      "Epoch: 2/50: 100%|██████████| 9/9 [00:00<00:00, 16.81it/s, train_loss=0.0155, valid_loss=0.0439]\n",
      "Epoch: 3/50: 100%|██████████| 9/9 [00:00<00:00, 17.58it/s, train_loss=0.0183, valid_loss=0.0242]\n",
      "Epoch: 4/50: 100%|██████████| 9/9 [00:00<00:00, 17.75it/s, train_loss=0.0103, valid_loss=0.0273]\n",
      "Epoch: 5/50: 100%|██████████| 9/9 [00:00<00:00, 17.75it/s, train_loss=0.00695, valid_loss=0.04]  \n",
      "Epoch: 6/50: 100%|██████████| 9/9 [00:00<00:00, 17.75it/s, train_loss=0.00564, valid_loss=0.0377]\n",
      "Epoch: 7/50: 100%|██████████| 9/9 [00:00<00:00, 17.59it/s, train_loss=0.00363, valid_loss=0.0247]\n",
      "Epoch: 8/50: 100%|██████████| 9/9 [00:00<00:00, 17.75it/s, train_loss=0.00258, valid_loss=0.0102]\n",
      "Epoch: 9/50: 100%|██████████| 9/9 [00:00<00:00, 17.70it/s, train_loss=0.00259, valid_loss=0.0115]\n",
      "Epoch: 10/50: 100%|██████████| 9/9 [00:00<00:00, 17.68it/s, train_loss=0.0018, valid_loss=0.00531] \n",
      "Epoch: 11/50: 100%|██████████| 9/9 [00:00<00:00, 17.17it/s, train_loss=0.00169, valid_loss=0.00506]\n",
      "Epoch: 12/50: 100%|██████████| 9/9 [00:00<00:00, 17.72it/s, train_loss=0.00186, valid_loss=0.00757]\n",
      "Epoch: 13/50: 100%|██████████| 9/9 [00:00<00:00, 17.66it/s, train_loss=0.00162, valid_loss=0.005] \n",
      "Epoch: 14/50: 100%|██████████| 9/9 [00:00<00:00, 17.84it/s, train_loss=0.00137, valid_loss=0.0122]\n",
      "Epoch: 15/50: 100%|██████████| 9/9 [00:00<00:00, 17.90it/s, train_loss=0.0013, valid_loss=0.00943]\n",
      "Epoch: 16/50: 100%|██████████| 9/9 [00:00<00:00, 18.14it/s, train_loss=0.00134, valid_loss=0.0158]\n",
      "Epoch: 17/50: 100%|██████████| 9/9 [00:00<00:00, 18.25it/s, train_loss=0.00132, valid_loss=0.017] \n",
      "Epoch: 18/50: 100%|██████████| 9/9 [00:00<00:00, 18.23it/s, train_loss=0.00121, valid_loss=0.0121]\n",
      "Epoch: 19/50: 100%|██████████| 9/9 [00:00<00:00, 18.10it/s, train_loss=0.00108, valid_loss=0.0145]\n",
      "Epoch: 20/50: 100%|██████████| 9/9 [00:00<00:00, 17.76it/s, train_loss=0.00111, valid_loss=0.0184]\n",
      "Epoch: 21/50: 100%|██████████| 9/9 [00:00<00:00, 18.28it/s, train_loss=0.00103, valid_loss=0.0151] \n",
      "Epoch: 22/50: 100%|██████████| 9/9 [00:00<00:00, 22.17it/s, train_loss=0.000976, valid_loss=0.0139]\n",
      "Epoch: 23/50: 100%|██████████| 9/9 [00:00<00:00, 15.98it/s, train_loss=0.00102, valid_loss=0.0122]\n",
      "Epoch: 24/50: 100%|██████████| 9/9 [00:00<00:00, 18.18it/s, train_loss=0.00095, valid_loss=0.0147]\n",
      "Epoch: 25/50: 100%|██████████| 9/9 [00:00<00:00, 10.05it/s, train_loss=0.000856, valid_loss=0.0103]\n",
      "Epoch: 26/50: 100%|██████████| 9/9 [00:00<00:00, 18.71it/s, train_loss=0.000878, valid_loss=0.0118]\n",
      "Epoch: 27/50: 100%|██████████| 9/9 [00:00<00:00, 18.62it/s, train_loss=0.000973, valid_loss=0.0121]\n",
      "Epoch: 28/50: 100%|██████████| 9/9 [00:00<00:00, 18.11it/s, train_loss=0.000804, valid_loss=0.0115]\n",
      "Epoch: 29/50: 100%|██████████| 9/9 [00:00<00:00, 18.05it/s, train_loss=0.000767, valid_loss=0.0127]\n",
      "Epoch: 30/50: 100%|██████████| 9/9 [00:00<00:00, 18.11it/s, train_loss=0.000761, valid_loss=0.011] \n",
      "Epoch: 31/50: 100%|██████████| 9/9 [00:00<00:00, 17.91it/s, train_loss=0.000735, valid_loss=0.00971]\n",
      "Epoch: 32/50: 100%|██████████| 9/9 [00:00<00:00, 18.23it/s, train_loss=0.000858, valid_loss=0.0101]\n",
      "Epoch: 33/50: 100%|██████████| 9/9 [00:00<00:00, 18.17it/s, train_loss=0.000703, valid_loss=0.0129]\n",
      "Epoch: 34/50: 100%|██████████| 9/9 [00:00<00:00, 18.27it/s, train_loss=0.000835, valid_loss=0.0135]\n",
      "Epoch: 35/50: 100%|██████████| 9/9 [00:00<00:00, 17.97it/s, train_loss=0.000636, valid_loss=0.00961]\n",
      "Epoch: 36/50: 100%|██████████| 9/9 [00:00<00:00, 18.07it/s, train_loss=0.000612, valid_loss=0.00999]\n",
      "Epoch: 37/50: 100%|██████████| 9/9 [00:00<00:00, 18.09it/s, train_loss=0.000639, valid_loss=0.0117]\n",
      "Epoch: 38/50: 100%|██████████| 9/9 [00:00<00:00, 18.06it/s, train_loss=0.000602, valid_loss=0.0102] \n"
     ]
    },
    {
     "name": "stdout",
     "output_type": "stream",
     "text": [
      "cross-validation dataset 1\n"
     ]
    },
    {
     "name": "stderr",
     "output_type": "stream",
     "text": [
      "Epoch: 1/50: 100%|██████████| 17/17 [00:00<00:00, 17.49it/s, train_loss=0.0215, valid_loss=0.0221]\n",
      "Epoch: 2/50: 100%|██████████| 17/17 [00:00<00:00, 17.62it/s, train_loss=0.00989, valid_loss=0.00783]\n",
      "Epoch: 3/50: 100%|██████████| 17/17 [00:00<00:00, 17.50it/s, train_loss=0.0032, valid_loss=0.00357] \n",
      "Epoch: 4/50: 100%|██████████| 17/17 [00:00<00:00, 17.47it/s, train_loss=0.00284, valid_loss=0.00208]\n",
      "Epoch: 5/50: 100%|██████████| 17/17 [00:00<00:00, 17.52it/s, train_loss=0.00218, valid_loss=0.00199]\n",
      "Epoch: 6/50: 100%|██████████| 17/17 [00:00<00:00, 17.70it/s, train_loss=0.0024, valid_loss=0.00178]\n",
      "Epoch: 7/50: 100%|██████████| 17/17 [00:00<00:00, 17.59it/s, train_loss=0.00207, valid_loss=0.00213]\n",
      "Epoch: 8/50: 100%|██████████| 17/17 [00:00<00:00, 17.50it/s, train_loss=0.00192, valid_loss=0.00145]\n",
      "Epoch: 9/50: 100%|██████████| 17/17 [00:00<00:00, 17.56it/s, train_loss=0.00192, valid_loss=0.00162]\n",
      "Epoch: 10/50: 100%|██████████| 17/17 [00:00<00:00, 17.63it/s, train_loss=0.00219, valid_loss=0.0015] \n",
      "Epoch: 11/50: 100%|██████████| 17/17 [00:00<00:00, 17.43it/s, train_loss=0.00196, valid_loss=0.00157]\n",
      "Epoch: 12/50: 100%|██████████| 17/17 [00:00<00:00, 17.58it/s, train_loss=0.00158, valid_loss=0.00135]\n",
      "Epoch: 13/50: 100%|██████████| 17/17 [00:00<00:00, 17.12it/s, train_loss=0.00188, valid_loss=0.00159]\n",
      "Epoch: 14/50: 100%|██████████| 17/17 [00:00<00:00, 18.73it/s, train_loss=0.00151, valid_loss=0.00127]\n",
      "Epoch: 15/50: 100%|██████████| 17/17 [00:00<00:00, 22.16it/s, train_loss=0.00167, valid_loss=0.00164]\n",
      "Epoch: 16/50: 100%|██████████| 17/17 [00:01<00:00, 12.14it/s, train_loss=0.00198, valid_loss=0.00139]\n",
      "Epoch: 17/50: 100%|██████████| 17/17 [00:01<00:00, 14.08it/s, train_loss=0.00173, valid_loss=0.00123]\n",
      "Epoch: 18/50: 100%|██████████| 17/17 [00:01<00:00, 16.81it/s, train_loss=0.00137, valid_loss=0.00125]\n",
      "Epoch: 19/50: 100%|██████████| 17/17 [00:01<00:00, 16.96it/s, train_loss=0.00164, valid_loss=0.00128]\n",
      "Epoch: 20/50: 100%|██████████| 17/17 [00:01<00:00, 16.84it/s, train_loss=0.00167, valid_loss=0.0014] \n",
      "Epoch: 21/50: 100%|██████████| 17/17 [00:00<00:00, 17.10it/s, train_loss=0.00147, valid_loss=0.00139]\n",
      "Epoch: 22/50: 100%|██████████| 17/17 [00:00<00:00, 17.13it/s, train_loss=0.00174, valid_loss=0.00159]\n",
      "Epoch: 23/50: 100%|██████████| 17/17 [00:00<00:00, 17.10it/s, train_loss=0.00137, valid_loss=0.00175]\n",
      "Epoch: 24/50: 100%|██████████| 17/17 [00:00<00:00, 17.10it/s, train_loss=0.00129, valid_loss=0.00137]\n",
      "Epoch: 25/50: 100%|██████████| 17/17 [00:00<00:00, 17.17it/s, train_loss=0.00135, valid_loss=0.00143]\n",
      "Epoch: 26/50: 100%|██████████| 17/17 [00:00<00:00, 17.10it/s, train_loss=0.000933, valid_loss=0.00147]\n",
      "Epoch: 27/50: 100%|██████████| 17/17 [00:00<00:00, 17.11it/s, train_loss=0.00109, valid_loss=0.00154]\n",
      "Epoch: 28/50: 100%|██████████| 17/17 [00:00<00:00, 17.13it/s, train_loss=0.00104, valid_loss=0.00172] \n",
      "Epoch: 29/50: 100%|██████████| 17/17 [00:00<00:00, 17.07it/s, train_loss=0.00103, valid_loss=0.00152]\n"
     ]
    },
    {
     "name": "stdout",
     "output_type": "stream",
     "text": [
      "cross-validation dataset 2\n"
     ]
    },
    {
     "name": "stderr",
     "output_type": "stream",
     "text": [
      "Epoch: 1/50: 100%|██████████| 25/25 [00:01<00:00, 18.36it/s, train_loss=0.151, valid_loss=0.196] \n",
      "Epoch: 2/50: 100%|██████████| 25/25 [00:01<00:00, 18.44it/s, train_loss=0.149, valid_loss=0.196]\n",
      "Epoch: 3/50: 100%|██████████| 25/25 [00:01<00:00, 18.19it/s, train_loss=0.141, valid_loss=0.194]\n",
      "Epoch: 4/50: 100%|██████████| 25/25 [00:01<00:00, 18.49it/s, train_loss=0.147, valid_loss=0.196]\n",
      "Epoch: 5/50: 100%|██████████| 25/25 [00:01<00:00, 18.45it/s, train_loss=0.144, valid_loss=0.193]\n",
      "Epoch: 6/50: 100%|██████████| 25/25 [00:01<00:00, 18.46it/s, train_loss=0.147, valid_loss=0.195]\n",
      "Epoch: 7/50: 100%|██████████| 25/25 [00:01<00:00, 18.44it/s, train_loss=0.151, valid_loss=0.194]\n",
      "Epoch: 8/50: 100%|██████████| 25/25 [00:01<00:00, 18.48it/s, train_loss=0.14, valid_loss=0.193] \n",
      "Epoch: 9/50: 100%|██████████| 25/25 [00:01<00:00, 13.99it/s, train_loss=0.149, valid_loss=0.196]\n",
      "Epoch: 10/50: 100%|██████████| 25/25 [00:01<00:00, 18.74it/s, train_loss=0.149, valid_loss=0.193]\n",
      "Epoch: 11/50: 100%|██████████| 25/25 [00:01<00:00, 18.53it/s, train_loss=0.144, valid_loss=0.193]\n"
     ]
    },
    {
     "name": "stdout",
     "output_type": "stream",
     "text": [
      "cross-validation dataset 3\n"
     ]
    },
    {
     "name": "stderr",
     "output_type": "stream",
     "text": [
      "Epoch: 1/50: 100%|██████████| 33/33 [00:01<00:00, 18.35it/s, train_loss=0.156, valid_loss=0.191]\n",
      "Epoch: 2/50: 100%|██████████| 33/33 [00:01<00:00, 19.34it/s, train_loss=0.162, valid_loss=0.191]\n",
      "Epoch: 3/50: 100%|██████████| 33/33 [00:01<00:00, 18.35it/s, train_loss=0.162, valid_loss=0.19] \n",
      "Epoch: 4/50: 100%|██████████| 33/33 [00:01<00:00, 18.32it/s, train_loss=0.158, valid_loss=0.19] \n",
      "Epoch: 5/50: 100%|██████████| 33/33 [00:01<00:00, 18.45it/s, train_loss=0.166, valid_loss=0.191]\n",
      "Epoch: 6/50: 100%|██████████| 33/33 [00:01<00:00, 18.36it/s, train_loss=0.165, valid_loss=0.19] \n",
      "Epoch: 7/50: 100%|██████████| 33/33 [00:01<00:00, 18.37it/s, train_loss=0.164, valid_loss=0.19] \n",
      "Epoch: 8/50: 100%|██████████| 33/33 [00:01<00:00, 18.41it/s, train_loss=0.159, valid_loss=0.19] \n",
      "Epoch: 9/50: 100%|██████████| 33/33 [00:01<00:00, 18.40it/s, train_loss=0.165, valid_loss=0.189]\n",
      "Epoch: 10/50: 100%|██████████| 33/33 [00:02<00:00, 12.73it/s, train_loss=0.155, valid_loss=0.19] \n",
      "Epoch: 11/50: 100%|██████████| 33/33 [00:02<00:00, 14.23it/s, train_loss=0.166, valid_loss=0.191]\n"
     ]
    },
    {
     "name": "stdout",
     "output_type": "stream",
     "text": [
      "cross-validation dataset 3\n"
     ]
    },
    {
     "name": "stderr",
     "output_type": "stream",
     "text": [
      "Epoch: 1/50: 100%|██████████| 33/33 [00:02<00:00, 14.22it/s, train_loss=0.0114, valid_loss=0.0104]\n",
      "Epoch: 2/50: 100%|██████████| 33/33 [00:02<00:00, 15.90it/s, train_loss=0.00273, valid_loss=0.00166]\n",
      "Epoch: 3/50: 100%|██████████| 33/33 [00:01<00:00, 16.79it/s, train_loss=0.00223, valid_loss=0.00121]\n",
      "Epoch: 4/50: 100%|██████████| 33/33 [00:01<00:00, 18.50it/s, train_loss=0.00213, valid_loss=0.00136]\n",
      "Epoch: 5/50: 100%|██████████| 33/33 [00:01<00:00, 18.52it/s, train_loss=0.0018, valid_loss=0.00106] \n",
      "Epoch: 6/50: 100%|██████████| 33/33 [00:01<00:00, 18.33it/s, train_loss=0.00163, valid_loss=0.00102]\n",
      "Epoch: 7/50: 100%|██████████| 33/33 [00:01<00:00, 18.44it/s, train_loss=0.00187, valid_loss=0.00151] \n",
      "Epoch: 8/50: 100%|██████████| 33/33 [00:01<00:00, 18.44it/s, train_loss=0.00147, valid_loss=0.00112] \n",
      "Epoch: 9/50: 100%|██████████| 33/33 [00:01<00:00, 18.47it/s, train_loss=0.00162, valid_loss=0.00146] \n",
      "Epoch: 10/50: 100%|██████████| 33/33 [00:01<00:00, 18.47it/s, train_loss=0.00194, valid_loss=0.0011]  \n",
      "Epoch: 11/50: 100%|██████████| 33/33 [00:01<00:00, 18.11it/s, train_loss=0.00122, valid_loss=0.00086] \n",
      "Epoch: 12/50: 100%|██████████| 33/33 [00:01<00:00, 17.88it/s, train_loss=0.00164, valid_loss=0.000796]\n",
      "Epoch: 13/50: 100%|██████████| 33/33 [00:01<00:00, 18.20it/s, train_loss=0.00147, valid_loss=0.00104] \n",
      "Epoch: 14/50: 100%|██████████| 33/33 [00:01<00:00, 18.38it/s, train_loss=0.00136, valid_loss=0.000862]\n",
      "Epoch: 15/50: 100%|██████████| 33/33 [00:01<00:00, 18.41it/s, train_loss=0.00123, valid_loss=0.00102] \n",
      "Epoch: 16/50: 100%|██████████| 33/33 [00:01<00:00, 18.39it/s, train_loss=0.00114, valid_loss=0.00131] \n",
      "Epoch: 17/50: 100%|██████████| 33/33 [00:02<00:00, 14.84it/s, train_loss=0.00104, valid_loss=0.00171]  \n",
      "Epoch: 18/50: 100%|██████████| 33/33 [00:01<00:00, 17.88it/s, train_loss=0.00104, valid_loss=0.00101]  \n",
      "Epoch: 19/50: 100%|██████████| 33/33 [00:01<00:00, 17.89it/s, train_loss=0.000992, valid_loss=0.0016]  \n",
      "Epoch: 20/50: 100%|██████████| 33/33 [00:01<00:00, 17.93it/s, train_loss=0.000976, valid_loss=0.00128]\n"
     ]
    },
    {
     "name": "stdout",
     "output_type": "stream",
     "text": [
      "cross-validation dataset 4\n"
     ]
    },
    {
     "name": "stderr",
     "output_type": "stream",
     "text": [
      "Epoch: 1/50: 100%|██████████| 42/42 [00:02<00:00, 18.11it/s, train_loss=0.0129, valid_loss=0.0137]\n",
      "Epoch: 2/50: 100%|██████████| 42/42 [00:02<00:00, 18.35it/s, train_loss=0.00268, valid_loss=0.00363]\n",
      "Epoch: 3/50: 100%|██████████| 42/42 [00:02<00:00, 18.38it/s, train_loss=0.00213, valid_loss=0.00333]\n",
      "Epoch: 4/50: 100%|██████████| 42/42 [00:02<00:00, 17.09it/s, train_loss=0.00194, valid_loss=0.00322]\n",
      "Epoch: 5/50: 100%|██████████| 42/42 [00:02<00:00, 18.35it/s, train_loss=0.00232, valid_loss=0.00305]\n",
      "Epoch: 6/50: 100%|██████████| 42/42 [00:02<00:00, 18.30it/s, train_loss=0.00205, valid_loss=0.00296]\n",
      "Epoch: 7/50: 100%|██████████| 42/42 [00:02<00:00, 18.35it/s, train_loss=0.00231, valid_loss=0.00297]\n",
      "Epoch: 8/50: 100%|██████████| 42/42 [00:02<00:00, 18.15it/s, train_loss=0.00211, valid_loss=0.00292]\n",
      "Epoch: 9/50: 100%|██████████| 42/42 [00:02<00:00, 18.14it/s, train_loss=0.00173, valid_loss=0.00295]\n",
      "Epoch: 10/50: 100%|██████████| 42/42 [00:02<00:00, 15.48it/s, train_loss=0.00165, valid_loss=0.00291]\n",
      "Epoch: 11/50: 100%|██████████| 42/42 [00:02<00:00, 17.87it/s, train_loss=0.00205, valid_loss=0.00294]\n",
      "Epoch: 12/50: 100%|██████████| 42/42 [00:02<00:00, 17.92it/s, train_loss=0.00157, valid_loss=0.00256]\n",
      "Epoch: 13/50: 100%|██████████| 42/42 [00:02<00:00, 17.79it/s, train_loss=0.00166, valid_loss=0.00244]\n",
      "Epoch: 14/50: 100%|██████████| 42/42 [00:02<00:00, 17.86it/s, train_loss=0.00399, valid_loss=0.00426]\n",
      "Epoch: 15/50: 100%|██████████| 42/42 [00:02<00:00, 17.96it/s, train_loss=0.00169, valid_loss=0.0023] \n",
      "Epoch: 16/50: 100%|██████████| 42/42 [00:02<00:00, 18.03it/s, train_loss=0.0015, valid_loss=0.00225] \n",
      "Epoch: 17/50: 100%|██████████| 42/42 [00:02<00:00, 18.25it/s, train_loss=0.00152, valid_loss=0.00228]\n",
      "Epoch: 18/50: 100%|██████████| 42/42 [00:02<00:00, 18.21it/s, train_loss=0.00126, valid_loss=0.00238]\n",
      "Epoch: 19/50: 100%|██████████| 42/42 [00:02<00:00, 18.28it/s, train_loss=0.00125, valid_loss=0.00236]\n",
      "Epoch: 20/50: 100%|██████████| 42/42 [00:02<00:00, 18.25it/s, train_loss=0.00141, valid_loss=0.0023] \n",
      "Epoch: 21/50: 100%|██████████| 42/42 [00:02<00:00, 18.26it/s, train_loss=0.00123, valid_loss=0.00253]\n",
      "Epoch: 22/50: 100%|██████████| 42/42 [00:02<00:00, 18.34it/s, train_loss=0.00118, valid_loss=0.00279]\n",
      "Epoch: 23/50: 100%|██████████| 42/42 [00:02<00:00, 18.41it/s, train_loss=0.00118, valid_loss=0.00251]\n",
      "Epoch: 24/50: 100%|██████████| 42/42 [00:02<00:00, 18.31it/s, train_loss=0.00101, valid_loss=0.0025]  \n"
     ]
    },
    {
     "name": "stdout",
     "output_type": "stream",
     "text": [
      "model config: batch_size-512, lr-0.01, number_epoch-50, hidden_dim-100, n_layers-2,drop_prob-0,weight_decay-0\n",
      "cross-validation dataset 0\n"
     ]
    },
    {
     "name": "stderr",
     "output_type": "stream",
     "text": [
      "Epoch: 1/50: 100%|██████████| 9/9 [00:00<00:00, 22.01it/s, train_loss=0.106, valid_loss=0.174]\n",
      "Epoch: 2/50: 100%|██████████| 9/9 [00:00<00:00, 22.25it/s, train_loss=0.103, valid_loss=0.177]\n",
      "Epoch: 3/50: 100%|██████████| 9/9 [00:00<00:00, 22.70it/s, train_loss=0.104, valid_loss=0.175]\n",
      "Epoch: 4/50: 100%|██████████| 9/9 [00:00<00:00, 22.08it/s, train_loss=0.104, valid_loss=0.176]\n",
      "Epoch: 5/50: 100%|██████████| 9/9 [00:00<00:00, 22.37it/s, train_loss=0.11, valid_loss=0.173] \n",
      "Epoch: 6/50: 100%|██████████| 9/9 [00:00<00:00, 10.40it/s, train_loss=0.109, valid_loss=0.176]\n",
      "Epoch: 7/50: 100%|██████████| 9/9 [00:00<00:00, 18.71it/s, train_loss=0.108, valid_loss=0.175]\n",
      "Epoch: 8/50: 100%|██████████| 9/9 [00:00<00:00, 17.77it/s, train_loss=0.11, valid_loss=0.175]\n",
      "Epoch: 9/50: 100%|██████████| 9/9 [00:00<00:00, 17.76it/s, train_loss=0.11, valid_loss=0.175] \n",
      "Epoch: 10/50: 100%|██████████| 9/9 [00:00<00:00, 12.60it/s, train_loss=0.104, valid_loss=0.175]\n",
      "Epoch: 11/50: 100%|██████████| 9/9 [00:00<00:00, 14.23it/s, train_loss=0.108, valid_loss=0.176]\n",
      "Epoch: 12/50: 100%|██████████| 9/9 [00:00<00:00, 16.19it/s, train_loss=0.108, valid_loss=0.175]\n",
      "Epoch: 13/50: 100%|██████████| 9/9 [00:00<00:00, 14.28it/s, train_loss=0.11, valid_loss=0.174] \n",
      "Epoch: 14/50: 100%|██████████| 9/9 [00:00<00:00, 16.59it/s, train_loss=0.107, valid_loss=0.176]\n",
      "Epoch: 15/50: 100%|██████████| 9/9 [00:00<00:00, 12.72it/s, train_loss=0.108, valid_loss=0.175]\n",
      "Epoch: 16/50: 100%|██████████| 9/9 [00:00<00:00, 12.54it/s, train_loss=0.108, valid_loss=0.176]\n",
      "Epoch: 17/50: 100%|██████████| 9/9 [00:00<00:00, 16.62it/s, train_loss=0.108, valid_loss=0.175]\n",
      "Epoch: 18/50: 100%|██████████| 9/9 [00:00<00:00, 15.82it/s, train_loss=0.108, valid_loss=0.174]\n",
      "Epoch: 19/50: 100%|██████████| 9/9 [00:00<00:00, 15.22it/s, train_loss=0.107, valid_loss=0.175]\n",
      "Epoch: 20/50: 100%|██████████| 9/9 [00:00<00:00, 16.11it/s, train_loss=0.108, valid_loss=0.174]\n",
      "Epoch: 21/50: 100%|██████████| 9/9 [00:00<00:00, 17.89it/s, train_loss=0.11, valid_loss=0.174] \n",
      "Epoch: 22/50: 100%|██████████| 9/9 [00:00<00:00, 17.93it/s, train_loss=0.111, valid_loss=0.174]\n",
      "Epoch: 23/50: 100%|██████████| 9/9 [00:00<00:00, 19.74it/s, train_loss=0.108, valid_loss=0.173]\n",
      "Epoch: 24/50: 100%|██████████| 9/9 [00:00<00:00, 21.03it/s, train_loss=0.108, valid_loss=0.175]\n",
      "Epoch: 25/50: 100%|██████████| 9/9 [00:00<00:00, 21.20it/s, train_loss=0.108, valid_loss=0.175]\n",
      "Epoch: 26/50: 100%|██████████| 9/9 [00:00<00:00, 21.37it/s, train_loss=0.103, valid_loss=0.175]\n",
      "Epoch: 27/50: 100%|██████████| 9/9 [00:00<00:00, 21.26it/s, train_loss=0.112, valid_loss=0.175]\n",
      "Epoch: 28/50: 100%|██████████| 9/9 [00:00<00:00, 21.18it/s, train_loss=0.109, valid_loss=0.177]\n",
      "Epoch: 29/50: 100%|██████████| 9/9 [00:00<00:00, 21.71it/s, train_loss=0.111, valid_loss=0.174]\n",
      "Epoch: 30/50: 100%|██████████| 9/9 [00:00<00:00, 22.53it/s, train_loss=0.108, valid_loss=0.175]\n"
     ]
    },
    {
     "name": "stdout",
     "output_type": "stream",
     "text": [
      "cross-validation dataset 0\n"
     ]
    },
    {
     "name": "stderr",
     "output_type": "stream",
     "text": [
      "Epoch: 1/50: 100%|██████████| 9/9 [00:00<00:00, 22.36it/s, train_loss=0.111, valid_loss=0.176]\n",
      "Epoch: 2/50: 100%|██████████| 9/9 [00:00<00:00, 22.35it/s, train_loss=0.106, valid_loss=0.176]\n",
      "Epoch: 3/50: 100%|██████████| 9/9 [00:00<00:00, 23.27it/s, train_loss=0.106, valid_loss=0.174]\n",
      "Epoch: 4/50: 100%|██████████| 9/9 [00:00<00:00, 22.39it/s, train_loss=0.104, valid_loss=0.175]\n",
      "Epoch: 5/50: 100%|██████████| 9/9 [00:00<00:00, 23.08it/s, train_loss=0.104, valid_loss=0.176]\n",
      "Epoch: 6/50: 100%|██████████| 9/9 [00:00<00:00, 23.21it/s, train_loss=0.103, valid_loss=0.175]\n",
      "Epoch: 7/50: 100%|██████████| 9/9 [00:00<00:00, 22.77it/s, train_loss=0.105, valid_loss=0.175]\n",
      "Epoch: 8/50: 100%|██████████| 9/9 [00:00<00:00, 22.80it/s, train_loss=0.103, valid_loss=0.175]\n",
      "Epoch: 9/50: 100%|██████████| 9/9 [00:00<00:00, 22.65it/s, train_loss=0.108, valid_loss=0.175]\n",
      "Epoch: 10/50: 100%|██████████| 9/9 [00:00<00:00, 23.17it/s, train_loss=0.109, valid_loss=0.174]\n",
      "Epoch: 11/50: 100%|██████████| 9/9 [00:00<00:00, 22.93it/s, train_loss=0.108, valid_loss=0.174]\n",
      "Epoch: 12/50: 100%|██████████| 9/9 [00:00<00:00, 22.83it/s, train_loss=0.106, valid_loss=0.176]\n",
      "Epoch: 13/50: 100%|██████████| 9/9 [00:00<00:00, 23.00it/s, train_loss=0.106, valid_loss=0.175]\n",
      "Epoch: 14/50: 100%|██████████| 9/9 [00:00<00:00, 22.89it/s, train_loss=0.104, valid_loss=0.175]\n",
      "Epoch: 15/50: 100%|██████████| 9/9 [00:00<00:00, 23.04it/s, train_loss=0.112, valid_loss=0.177]\n",
      "Epoch: 16/50: 100%|██████████| 9/9 [00:00<00:00, 23.09it/s, train_loss=0.113, valid_loss=0.174]\n",
      "Epoch: 17/50: 100%|██████████| 9/9 [00:00<00:00, 22.00it/s, train_loss=0.104, valid_loss=0.175]\n",
      "Epoch: 18/50: 100%|██████████| 9/9 [00:00<00:00, 23.04it/s, train_loss=0.107, valid_loss=0.174]\n",
      "Epoch: 19/50: 100%|██████████| 9/9 [00:00<00:00, 22.49it/s, train_loss=0.108, valid_loss=0.175]\n",
      "Epoch: 20/50: 100%|██████████| 9/9 [00:00<00:00, 22.37it/s, train_loss=0.106, valid_loss=0.175]\n",
      "Epoch: 21/50: 100%|██████████| 9/9 [00:00<00:00, 23.17it/s, train_loss=0.107, valid_loss=0.174]\n",
      "Epoch: 22/50: 100%|██████████| 9/9 [00:00<00:00, 23.19it/s, train_loss=0.108, valid_loss=0.175]\n",
      "Epoch: 23/50: 100%|██████████| 9/9 [00:00<00:00, 23.06it/s, train_loss=0.112, valid_loss=0.175]\n",
      "Epoch: 24/50: 100%|██████████| 9/9 [00:00<00:00, 22.77it/s, train_loss=0.104, valid_loss=0.175]\n",
      "Epoch: 25/50: 100%|██████████| 9/9 [00:00<00:00, 11.20it/s, train_loss=0.109, valid_loss=0.176]\n",
      "Epoch: 26/50: 100%|██████████| 9/9 [00:00<00:00, 22.92it/s, train_loss=0.107, valid_loss=0.175]\n",
      "Epoch: 27/50: 100%|██████████| 9/9 [00:00<00:00, 23.35it/s, train_loss=0.105, valid_loss=0.174]\n",
      "Epoch: 28/50: 100%|██████████| 9/9 [00:00<00:00, 22.93it/s, train_loss=0.11, valid_loss=0.176] \n",
      "Epoch: 29/50: 100%|██████████| 9/9 [00:00<00:00, 23.24it/s, train_loss=0.109, valid_loss=0.174]\n",
      "Epoch: 30/50: 100%|██████████| 9/9 [00:00<00:00, 23.07it/s, train_loss=0.109, valid_loss=0.173]\n",
      "Epoch: 31/50: 100%|██████████| 9/9 [00:00<00:00, 23.07it/s, train_loss=0.105, valid_loss=0.174]\n",
      "Epoch: 32/50: 100%|██████████| 9/9 [00:00<00:00, 23.11it/s, train_loss=0.109, valid_loss=0.175]\n",
      "Epoch: 33/50: 100%|██████████| 9/9 [00:00<00:00, 23.33it/s, train_loss=0.105, valid_loss=0.176]\n",
      "Epoch: 34/50: 100%|██████████| 9/9 [00:00<00:00, 23.16it/s, train_loss=0.103, valid_loss=0.175]\n",
      "Epoch: 35/50: 100%|██████████| 9/9 [00:00<00:00, 23.07it/s, train_loss=0.108, valid_loss=0.175]\n",
      "Epoch: 36/50: 100%|██████████| 9/9 [00:00<00:00, 23.20it/s, train_loss=0.108, valid_loss=0.175]\n",
      "Epoch: 37/50: 100%|██████████| 9/9 [00:00<00:00, 23.01it/s, train_loss=0.108, valid_loss=0.174]\n",
      "Epoch: 38/50: 100%|██████████| 9/9 [00:00<00:00, 22.97it/s, train_loss=0.105, valid_loss=0.175]\n",
      "Epoch: 39/50: 100%|██████████| 9/9 [00:00<00:00, 22.99it/s, train_loss=0.107, valid_loss=0.174]\n",
      "Epoch: 40/50: 100%|██████████| 9/9 [00:00<00:00, 23.38it/s, train_loss=0.11, valid_loss=0.174] \n",
      "Epoch: 41/50: 100%|██████████| 9/9 [00:00<00:00, 22.70it/s, train_loss=0.109, valid_loss=0.176]\n",
      "Epoch: 42/50: 100%|██████████| 9/9 [00:00<00:00, 22.75it/s, train_loss=0.109, valid_loss=0.176]\n",
      "Epoch: 43/50: 100%|██████████| 9/9 [00:00<00:00, 22.42it/s, train_loss=0.108, valid_loss=0.175]\n",
      "Epoch: 44/50: 100%|██████████| 9/9 [00:00<00:00, 22.02it/s, train_loss=0.105, valid_loss=0.175]\n",
      "Epoch: 45/50: 100%|██████████| 9/9 [00:00<00:00, 22.27it/s, train_loss=0.107, valid_loss=0.175]\n",
      "Epoch: 46/50: 100%|██████████| 9/9 [00:00<00:00, 22.27it/s, train_loss=0.107, valid_loss=0.174]\n",
      "Epoch: 47/50: 100%|██████████| 9/9 [00:00<00:00, 22.37it/s, train_loss=0.11, valid_loss=0.175] \n"
     ]
    },
    {
     "name": "stdout",
     "output_type": "stream",
     "text": [
      "cross-validation dataset 0\n"
     ]
    },
    {
     "name": "stderr",
     "output_type": "stream",
     "text": [
      "Epoch: 1/50: 100%|██████████| 9/9 [00:00<00:00, 22.20it/s, train_loss=0.109, valid_loss=0.175]\n",
      "Epoch: 2/50: 100%|██████████| 9/9 [00:00<00:00, 22.25it/s, train_loss=0.114, valid_loss=0.175]\n",
      "Epoch: 3/50: 100%|██████████| 9/9 [00:00<00:00, 22.14it/s, train_loss=0.105, valid_loss=0.175]\n",
      "Epoch: 4/50: 100%|██████████| 9/9 [00:00<00:00, 22.23it/s, train_loss=0.105, valid_loss=0.175]\n",
      "Epoch: 5/50: 100%|██████████| 9/9 [00:00<00:00, 21.95it/s, train_loss=0.113, valid_loss=0.176]\n",
      "Epoch: 6/50: 100%|██████████| 9/9 [00:00<00:00, 22.74it/s, train_loss=0.106, valid_loss=0.176]\n",
      "Epoch: 7/50: 100%|██████████| 9/9 [00:00<00:00, 23.02it/s, train_loss=0.109, valid_loss=0.176]\n",
      "Epoch: 8/50: 100%|██████████| 9/9 [00:00<00:00, 22.89it/s, train_loss=0.107, valid_loss=0.174]\n",
      "Epoch: 9/50: 100%|██████████| 9/9 [00:00<00:00, 22.35it/s, train_loss=0.107, valid_loss=0.174]\n",
      "Epoch: 10/50: 100%|██████████| 9/9 [00:00<00:00, 22.33it/s, train_loss=0.11, valid_loss=0.176] \n",
      "Epoch: 11/50: 100%|██████████| 9/9 [00:00<00:00, 22.39it/s, train_loss=0.107, valid_loss=0.173]\n",
      "Epoch: 12/50: 100%|██████████| 9/9 [00:00<00:00, 22.10it/s, train_loss=0.111, valid_loss=0.175]\n",
      "Epoch: 13/50: 100%|██████████| 9/9 [00:00<00:00, 22.34it/s, train_loss=0.11, valid_loss=0.175] \n",
      "Epoch: 14/50: 100%|██████████| 9/9 [00:00<00:00, 22.44it/s, train_loss=0.106, valid_loss=0.177]\n",
      "Epoch: 15/50: 100%|██████████| 9/9 [00:00<00:00, 22.32it/s, train_loss=0.109, valid_loss=0.175]\n",
      "Epoch: 16/50: 100%|██████████| 9/9 [00:00<00:00, 22.39it/s, train_loss=0.11, valid_loss=0.176] \n",
      "Epoch: 17/50: 100%|██████████| 9/9 [00:00<00:00, 22.42it/s, train_loss=0.109, valid_loss=0.175]\n",
      "Epoch: 18/50: 100%|██████████| 9/9 [00:00<00:00, 22.33it/s, train_loss=0.109, valid_loss=0.176]\n",
      "Epoch: 19/50: 100%|██████████| 9/9 [00:00<00:00, 22.38it/s, train_loss=0.104, valid_loss=0.175]\n",
      "Epoch: 20/50: 100%|██████████| 9/9 [00:00<00:00, 22.37it/s, train_loss=0.107, valid_loss=0.175]\n",
      "Epoch: 21/50: 100%|██████████| 9/9 [00:00<00:00, 22.42it/s, train_loss=0.106, valid_loss=0.176]\n",
      "Epoch: 22/50: 100%|██████████| 9/9 [00:00<00:00, 22.33it/s, train_loss=0.105, valid_loss=0.174]\n",
      "Epoch: 23/50: 100%|██████████| 9/9 [00:00<00:00, 22.93it/s, train_loss=0.109, valid_loss=0.174]\n",
      "Epoch: 24/50: 100%|██████████| 9/9 [00:00<00:00, 22.48it/s, train_loss=0.106, valid_loss=0.176]\n",
      "Epoch: 25/50: 100%|██████████| 9/9 [00:00<00:00, 22.38it/s, train_loss=0.104, valid_loss=0.175]\n",
      "Epoch: 26/50: 100%|██████████| 9/9 [00:00<00:00, 11.15it/s, train_loss=0.108, valid_loss=0.175]\n",
      "Epoch: 27/50: 100%|██████████| 9/9 [00:00<00:00, 23.83it/s, train_loss=0.108, valid_loss=0.175]\n",
      "Epoch: 28/50: 100%|██████████| 9/9 [00:00<00:00, 23.47it/s, train_loss=0.107, valid_loss=0.175]\n",
      "Epoch: 29/50: 100%|██████████| 9/9 [00:00<00:00, 23.30it/s, train_loss=0.106, valid_loss=0.176]\n",
      "Epoch: 30/50: 100%|██████████| 9/9 [00:00<00:00, 22.26it/s, train_loss=0.109, valid_loss=0.174]\n",
      "Epoch: 31/50: 100%|██████████| 9/9 [00:00<00:00, 22.38it/s, train_loss=0.106, valid_loss=0.175]\n",
      "Epoch: 32/50: 100%|██████████| 9/9 [00:00<00:00, 22.31it/s, train_loss=0.109, valid_loss=0.176]\n",
      "Epoch: 33/50: 100%|██████████| 9/9 [00:00<00:00, 22.88it/s, train_loss=0.107, valid_loss=0.174]\n",
      "Epoch: 34/50: 100%|██████████| 9/9 [00:00<00:00, 22.73it/s, train_loss=0.106, valid_loss=0.176]\n",
      "Epoch: 35/50: 100%|██████████| 9/9 [00:00<00:00, 23.04it/s, train_loss=0.111, valid_loss=0.175]\n",
      "Epoch: 36/50: 100%|██████████| 9/9 [00:00<00:00, 22.99it/s, train_loss=0.114, valid_loss=0.175]\n"
     ]
    },
    {
     "name": "stdout",
     "output_type": "stream",
     "text": [
      "cross-validation dataset 0\n"
     ]
    },
    {
     "name": "stderr",
     "output_type": "stream",
     "text": [
      "Epoch: 1/50: 100%|██████████| 9/9 [00:00<00:00, 22.71it/s, train_loss=0.0175, valid_loss=0.0408]\n",
      "Epoch: 2/50: 100%|██████████| 9/9 [00:00<00:00, 22.90it/s, train_loss=0.0143, valid_loss=0.0315]\n",
      "Epoch: 3/50: 100%|██████████| 9/9 [00:00<00:00, 22.60it/s, train_loss=0.00778, valid_loss=0.0531]\n",
      "Epoch: 4/50: 100%|██████████| 9/9 [00:00<00:00, 22.82it/s, train_loss=0.00461, valid_loss=0.0383]\n",
      "Epoch: 5/50: 100%|██████████| 9/9 [00:00<00:00, 22.88it/s, train_loss=0.00406, valid_loss=0.0199]\n",
      "Epoch: 6/50: 100%|██████████| 9/9 [00:00<00:00, 23.09it/s, train_loss=0.00267, valid_loss=0.0102]\n",
      "Epoch: 7/50: 100%|██████████| 9/9 [00:00<00:00, 22.92it/s, train_loss=0.00238, valid_loss=0.00886]\n",
      "Epoch: 8/50: 100%|██████████| 9/9 [00:00<00:00, 22.46it/s, train_loss=0.00188, valid_loss=0.00553]\n",
      "Epoch: 9/50: 100%|██████████| 9/9 [00:00<00:00, 22.26it/s, train_loss=0.00211, valid_loss=0.00477]\n",
      "Epoch: 10/50: 100%|██████████| 9/9 [00:00<00:00, 22.26it/s, train_loss=0.00156, valid_loss=0.00434]\n",
      "Epoch: 11/50: 100%|██████████| 9/9 [00:00<00:00, 22.34it/s, train_loss=0.0015, valid_loss=0.00595] \n",
      "Epoch: 12/50: 100%|██████████| 9/9 [00:00<00:00, 22.38it/s, train_loss=0.00145, valid_loss=0.00442]\n",
      "Epoch: 13/50: 100%|██████████| 9/9 [00:00<00:00, 22.31it/s, train_loss=0.00134, valid_loss=0.00448]\n",
      "Epoch: 14/50: 100%|██████████| 9/9 [00:00<00:00, 22.42it/s, train_loss=0.00148, valid_loss=0.00494]\n",
      "Epoch: 15/50: 100%|██████████| 9/9 [00:00<00:00, 22.37it/s, train_loss=0.00132, valid_loss=0.00433]\n",
      "Epoch: 16/50: 100%|██████████| 9/9 [00:00<00:00, 22.29it/s, train_loss=0.00126, valid_loss=0.00609]\n",
      "Epoch: 17/50: 100%|██████████| 9/9 [00:00<00:00, 22.39it/s, train_loss=0.00119, valid_loss=0.00554]\n",
      "Epoch: 18/50: 100%|██████████| 9/9 [00:00<00:00, 22.42it/s, train_loss=0.0013, valid_loss=0.00593] \n",
      "Epoch: 19/50: 100%|██████████| 9/9 [00:00<00:00, 22.40it/s, train_loss=0.00105, valid_loss=0.00742]\n",
      "Epoch: 20/50: 100%|██████████| 9/9 [00:00<00:00, 22.31it/s, train_loss=0.0011, valid_loss=0.00933] \n",
      "Epoch: 21/50: 100%|██████████| 9/9 [00:00<00:00, 22.37it/s, train_loss=0.00111, valid_loss=0.0112] \n",
      "Epoch: 22/50: 100%|██████████| 9/9 [00:00<00:00, 22.27it/s, train_loss=0.00112, valid_loss=0.0102]\n",
      "Epoch: 23/50: 100%|██████████| 9/9 [00:00<00:00, 22.43it/s, train_loss=0.000883, valid_loss=0.0115]\n",
      "Epoch: 24/50: 100%|██████████| 9/9 [00:00<00:00, 22.91it/s, train_loss=0.000886, valid_loss=0.0112]\n",
      "Epoch: 25/50: 100%|██████████| 9/9 [00:00<00:00, 23.19it/s, train_loss=0.000918, valid_loss=0.0157]\n",
      "Epoch: 26/50: 100%|██████████| 9/9 [00:00<00:00, 23.14it/s, train_loss=0.000856, valid_loss=0.0139]\n",
      "Epoch: 27/50: 100%|██████████| 9/9 [00:00<00:00, 23.06it/s, train_loss=0.000924, valid_loss=0.0133]\n",
      "Epoch: 28/50: 100%|██████████| 9/9 [00:00<00:00, 22.93it/s, train_loss=0.000815, valid_loss=0.0131]\n",
      "Epoch: 29/50: 100%|██████████| 9/9 [00:00<00:00, 22.93it/s, train_loss=0.000733, valid_loss=0.0172]\n",
      "Epoch: 30/50: 100%|██████████| 9/9 [00:00<00:00, 22.35it/s, train_loss=0.000685, valid_loss=0.0191]\n",
      "Epoch: 31/50: 100%|██████████| 9/9 [00:00<00:00, 23.03it/s, train_loss=0.000796, valid_loss=0.0192]\n",
      "Epoch: 32/50: 100%|██████████| 9/9 [00:00<00:00, 10.78it/s, train_loss=0.000734, valid_loss=0.0192]\n",
      "Epoch: 33/50: 100%|██████████| 9/9 [00:00<00:00, 23.14it/s, train_loss=0.00064, valid_loss=0.0169] \n",
      "Epoch: 34/50: 100%|██████████| 9/9 [00:00<00:00, 23.56it/s, train_loss=0.00064, valid_loss=0.017]  \n",
      "Epoch: 35/50: 100%|██████████| 9/9 [00:00<00:00, 23.39it/s, train_loss=0.000584, valid_loss=0.0195]\n",
      "Epoch: 36/50: 100%|██████████| 9/9 [00:00<00:00, 22.71it/s, train_loss=0.000773, valid_loss=0.0149]\n"
     ]
    },
    {
     "name": "stdout",
     "output_type": "stream",
     "text": [
      "cross-validation dataset 1\n"
     ]
    },
    {
     "name": "stderr",
     "output_type": "stream",
     "text": [
      "Epoch: 1/50: 100%|██████████| 17/17 [00:00<00:00, 22.02it/s, train_loss=0.0181, valid_loss=0.0159]\n",
      "Epoch: 2/50: 100%|██████████| 17/17 [00:00<00:00, 21.77it/s, train_loss=0.00568, valid_loss=0.0083]\n",
      "Epoch: 3/50: 100%|██████████| 17/17 [00:00<00:00, 22.09it/s, train_loss=0.00309, valid_loss=0.00408]\n",
      "Epoch: 4/50: 100%|██████████| 17/17 [00:00<00:00, 22.00it/s, train_loss=0.00263, valid_loss=0.0025] \n",
      "Epoch: 5/50: 100%|██████████| 17/17 [00:00<00:00, 21.79it/s, train_loss=0.00247, valid_loss=0.00202]\n",
      "Epoch: 6/50: 100%|██████████| 17/17 [00:00<00:00, 22.15it/s, train_loss=0.00228, valid_loss=0.0017] \n",
      "Epoch: 7/50: 100%|██████████| 17/17 [00:00<00:00, 22.27it/s, train_loss=0.00235, valid_loss=0.00154]\n",
      "Epoch: 8/50: 100%|██████████| 17/17 [00:00<00:00, 22.23it/s, train_loss=0.00194, valid_loss=0.00142]\n",
      "Epoch: 9/50: 100%|██████████| 17/17 [00:00<00:00, 22.47it/s, train_loss=0.00147, valid_loss=0.00149]\n",
      "Epoch: 10/50: 100%|██████████| 17/17 [00:00<00:00, 21.80it/s, train_loss=0.00179, valid_loss=0.00171]\n",
      "Epoch: 11/50: 100%|██████████| 17/17 [00:00<00:00, 20.94it/s, train_loss=0.00195, valid_loss=0.00193]\n",
      "Epoch: 12/50: 100%|██████████| 17/17 [00:00<00:00, 23.07it/s, train_loss=0.00177, valid_loss=0.00165]\n",
      "Epoch: 13/50: 100%|██████████| 17/17 [00:00<00:00, 22.39it/s, train_loss=0.00157, valid_loss=0.00141]\n",
      "Epoch: 14/50: 100%|██████████| 17/17 [00:00<00:00, 22.34it/s, train_loss=0.00171, valid_loss=0.00162]\n",
      "Epoch: 15/50: 100%|██████████| 17/17 [00:00<00:00, 21.82it/s, train_loss=0.00149, valid_loss=0.00145]\n",
      "Epoch: 16/50: 100%|██████████| 17/17 [00:00<00:00, 22.52it/s, train_loss=0.0016, valid_loss=0.0016]  \n",
      "Epoch: 17/50: 100%|██████████| 17/17 [00:00<00:00, 22.36it/s, train_loss=0.00133, valid_loss=0.00166]\n",
      "Epoch: 18/50: 100%|██████████| 17/17 [00:00<00:00, 21.73it/s, train_loss=0.00143, valid_loss=0.00165]\n",
      "Epoch: 19/50: 100%|██████████| 17/17 [00:00<00:00, 21.78it/s, train_loss=0.00109, valid_loss=0.0022] \n",
      "Epoch: 20/50: 100%|██████████| 17/17 [00:00<00:00, 22.25it/s, train_loss=0.000925, valid_loss=0.00193]\n",
      "Epoch: 21/50: 100%|██████████| 17/17 [00:00<00:00, 22.49it/s, train_loss=0.00107, valid_loss=0.00177]\n",
      "Epoch: 22/50: 100%|██████████| 17/17 [00:01<00:00, 14.42it/s, train_loss=0.0011, valid_loss=0.00206] \n",
      "Epoch: 23/50: 100%|██████████| 17/17 [00:00<00:00, 22.87it/s, train_loss=0.000825, valid_loss=0.00182]\n"
     ]
    },
    {
     "name": "stdout",
     "output_type": "stream",
     "text": [
      "cross-validation dataset 2\n"
     ]
    },
    {
     "name": "stderr",
     "output_type": "stream",
     "text": [
      "Epoch: 1/50: 100%|██████████| 25/25 [00:01<00:00, 23.57it/s, train_loss=0.148, valid_loss=0.192]\n",
      "Epoch: 2/50: 100%|██████████| 25/25 [00:01<00:00, 23.45it/s, train_loss=0.148, valid_loss=0.196]\n",
      "Epoch: 3/50: 100%|██████████| 25/25 [00:01<00:00, 23.70it/s, train_loss=0.142, valid_loss=0.194]\n",
      "Epoch: 4/50: 100%|██████████| 25/25 [00:01<00:00, 23.92it/s, train_loss=0.15, valid_loss=0.194] \n",
      "Epoch: 5/50: 100%|██████████| 25/25 [00:01<00:00, 23.64it/s, train_loss=0.151, valid_loss=0.193]\n",
      "Epoch: 6/50: 100%|██████████| 25/25 [00:01<00:00, 23.59it/s, train_loss=0.145, valid_loss=0.194]\n",
      "Epoch: 7/50: 100%|██████████| 25/25 [00:01<00:00, 24.41it/s, train_loss=0.147, valid_loss=0.195]\n",
      "Epoch: 8/50: 100%|██████████| 25/25 [00:01<00:00, 23.79it/s, train_loss=0.145, valid_loss=0.194]\n",
      "Epoch: 9/50: 100%|██████████| 25/25 [00:01<00:00, 23.70it/s, train_loss=0.141, valid_loss=0.193]\n",
      "Epoch: 10/50: 100%|██████████| 25/25 [00:01<00:00, 23.54it/s, train_loss=0.143, valid_loss=0.193]\n",
      "Epoch: 11/50: 100%|██████████| 25/25 [00:01<00:00, 23.50it/s, train_loss=0.152, valid_loss=0.195]\n",
      "Epoch: 12/50: 100%|██████████| 25/25 [00:01<00:00, 23.42it/s, train_loss=0.151, valid_loss=0.195]\n",
      "Epoch: 13/50: 100%|██████████| 25/25 [00:01<00:00, 23.51it/s, train_loss=0.148, valid_loss=0.193]\n",
      "Epoch: 14/50: 100%|██████████| 25/25 [00:01<00:00, 23.54it/s, train_loss=0.146, valid_loss=0.193]\n"
     ]
    },
    {
     "name": "stdout",
     "output_type": "stream",
     "text": [
      "cross-validation dataset 2\n"
     ]
    },
    {
     "name": "stderr",
     "output_type": "stream",
     "text": [
      "Epoch: 1/50: 100%|██████████| 25/25 [00:01<00:00, 23.34it/s, train_loss=0.149, valid_loss=0.193]\n",
      "Epoch: 2/50: 100%|██████████| 25/25 [00:01<00:00, 23.62it/s, train_loss=0.153, valid_loss=0.195]\n",
      "Epoch: 3/50: 100%|██████████| 25/25 [00:01<00:00, 23.19it/s, train_loss=0.151, valid_loss=0.194]\n",
      "Epoch: 4/50: 100%|██████████| 25/25 [00:01<00:00, 24.14it/s, train_loss=0.15, valid_loss=0.194] \n",
      "Epoch: 5/50: 100%|██████████| 25/25 [00:01<00:00, 13.87it/s, train_loss=0.152, valid_loss=0.194]\n",
      "Epoch: 6/50: 100%|██████████| 25/25 [00:01<00:00, 19.20it/s, train_loss=0.151, valid_loss=0.195]\n",
      "Epoch: 7/50: 100%|██████████| 25/25 [00:01<00:00, 17.04it/s, train_loss=0.141, valid_loss=0.195]\n",
      "Epoch: 8/50: 100%|██████████| 25/25 [00:01<00:00, 23.86it/s, train_loss=0.145, valid_loss=0.195]\n",
      "Epoch: 9/50: 100%|██████████| 25/25 [00:01<00:00, 24.24it/s, train_loss=0.151, valid_loss=0.193]\n",
      "Epoch: 10/50: 100%|██████████| 25/25 [00:01<00:00, 23.82it/s, train_loss=0.144, valid_loss=0.193]\n",
      "Epoch: 11/50: 100%|██████████| 25/25 [00:01<00:00, 24.24it/s, train_loss=0.149, valid_loss=0.195]\n",
      "Epoch: 12/50: 100%|██████████| 25/25 [00:01<00:00, 24.40it/s, train_loss=0.142, valid_loss=0.193]\n",
      "Epoch: 13/50: 100%|██████████| 25/25 [00:01<00:00, 24.30it/s, train_loss=0.146, valid_loss=0.196]\n",
      "Epoch: 14/50: 100%|██████████| 25/25 [00:01<00:00, 24.07it/s, train_loss=0.151, valid_loss=0.194]\n",
      "Epoch: 15/50: 100%|██████████| 25/25 [00:01<00:00, 24.34it/s, train_loss=0.153, valid_loss=0.193]\n",
      "Epoch: 16/50: 100%|██████████| 25/25 [00:01<00:00, 24.21it/s, train_loss=0.143, valid_loss=0.193]\n",
      "Epoch: 17/50: 100%|██████████| 25/25 [00:01<00:00, 24.26it/s, train_loss=0.15, valid_loss=0.196] \n",
      "Epoch: 18/50: 100%|██████████| 25/25 [00:01<00:00, 24.09it/s, train_loss=0.147, valid_loss=0.194]\n",
      "Epoch: 19/50: 100%|██████████| 25/25 [00:01<00:00, 23.68it/s, train_loss=0.153, valid_loss=0.192]\n",
      "Epoch: 20/50: 100%|██████████| 25/25 [00:01<00:00, 23.77it/s, train_loss=0.145, valid_loss=0.195]\n",
      "Epoch: 21/50: 100%|██████████| 25/25 [00:01<00:00, 24.08it/s, train_loss=0.153, valid_loss=0.194]\n",
      "Epoch: 22/50: 100%|██████████| 25/25 [00:01<00:00, 17.25it/s, train_loss=0.142, valid_loss=0.195]\n",
      "Epoch: 23/50: 100%|██████████| 25/25 [00:01<00:00, 24.47it/s, train_loss=0.15, valid_loss=0.195] \n"
     ]
    },
    {
     "name": "stdout",
     "output_type": "stream",
     "text": [
      "cross-validation dataset 2\n"
     ]
    },
    {
     "name": "stderr",
     "output_type": "stream",
     "text": [
      "Epoch: 1/50: 100%|██████████| 25/25 [00:01<00:00, 24.11it/s, train_loss=0.15, valid_loss=0.192] \n",
      "Epoch: 2/50: 100%|██████████| 25/25 [00:01<00:00, 24.29it/s, train_loss=0.148, valid_loss=0.195]\n",
      "Epoch: 3/50: 100%|██████████| 25/25 [00:01<00:00, 24.47it/s, train_loss=0.147, valid_loss=0.192]\n",
      "Epoch: 4/50: 100%|██████████| 25/25 [00:01<00:00, 23.65it/s, train_loss=0.146, valid_loss=0.194]\n",
      "Epoch: 5/50: 100%|██████████| 25/25 [00:01<00:00, 23.58it/s, train_loss=0.156, valid_loss=0.191]\n",
      "Epoch: 6/50: 100%|██████████| 25/25 [00:01<00:00, 24.06it/s, train_loss=0.147, valid_loss=0.194]\n",
      "Epoch: 7/50: 100%|██████████| 25/25 [00:00<00:00, 25.15it/s, train_loss=0.146, valid_loss=0.195]\n",
      "Epoch: 8/50: 100%|██████████| 25/25 [00:01<00:00, 24.15it/s, train_loss=0.151, valid_loss=0.194]\n",
      "Epoch: 9/50: 100%|██████████| 25/25 [00:01<00:00, 23.83it/s, train_loss=0.154, valid_loss=0.195]\n",
      "Epoch: 10/50: 100%|██████████| 25/25 [00:01<00:00, 23.92it/s, train_loss=0.145, valid_loss=0.194]\n",
      "Epoch: 11/50: 100%|██████████| 25/25 [00:01<00:00, 23.88it/s, train_loss=0.154, valid_loss=0.195]\n",
      "Epoch: 12/50: 100%|██████████| 25/25 [00:01<00:00, 24.02it/s, train_loss=0.145, valid_loss=0.193]\n",
      "Epoch: 13/50: 100%|██████████| 25/25 [00:01<00:00, 24.20it/s, train_loss=0.152, valid_loss=0.195]\n",
      "Epoch: 14/50: 100%|██████████| 25/25 [00:01<00:00, 24.17it/s, train_loss=0.149, valid_loss=0.192]\n",
      "Epoch: 15/50: 100%|██████████| 25/25 [00:01<00:00, 23.59it/s, train_loss=0.153, valid_loss=0.195]\n",
      "Epoch: 16/50: 100%|██████████| 25/25 [00:01<00:00, 23.75it/s, train_loss=0.145, valid_loss=0.194]\n",
      "Epoch: 17/50: 100%|██████████| 25/25 [00:01<00:00, 23.92it/s, train_loss=0.145, valid_loss=0.191]\n",
      "Epoch: 18/50: 100%|██████████| 25/25 [00:01<00:00, 24.09it/s, train_loss=0.157, valid_loss=0.193]\n",
      "Epoch: 19/50: 100%|██████████| 25/25 [00:01<00:00, 17.31it/s, train_loss=0.144, valid_loss=0.192]\n",
      "Epoch: 20/50: 100%|██████████| 25/25 [00:01<00:00, 23.39it/s, train_loss=0.144, valid_loss=0.196]\n",
      "Epoch: 21/50: 100%|██████████| 25/25 [00:01<00:00, 23.46it/s, train_loss=0.145, valid_loss=0.193]\n",
      "Epoch: 22/50: 100%|██████████| 25/25 [00:01<00:00, 23.95it/s, train_loss=0.152, valid_loss=0.195]\n"
     ]
    },
    {
     "name": "stdout",
     "output_type": "stream",
     "text": [
      "cross-validation dataset 2\n"
     ]
    },
    {
     "name": "stderr",
     "output_type": "stream",
     "text": [
      "Epoch: 1/50: 100%|██████████| 25/25 [00:01<00:00, 23.24it/s, train_loss=0.0157, valid_loss=0.028] \n",
      "Epoch: 2/50: 100%|██████████| 25/25 [00:01<00:00, 23.49it/s, train_loss=0.00353, valid_loss=0.00625]\n",
      "Epoch: 3/50: 100%|██████████| 25/25 [00:01<00:00, 23.42it/s, train_loss=0.00227, valid_loss=0.00354]\n",
      "Epoch: 4/50: 100%|██████████| 25/25 [00:01<00:00, 23.40it/s, train_loss=0.00201, valid_loss=0.00302]\n",
      "Epoch: 5/50: 100%|██████████| 25/25 [00:01<00:00, 23.71it/s, train_loss=0.0015, valid_loss=0.00283] \n",
      "Epoch: 6/50: 100%|██████████| 25/25 [00:01<00:00, 23.36it/s, train_loss=0.00158, valid_loss=0.00286]\n",
      "Epoch: 7/50: 100%|██████████| 25/25 [00:01<00:00, 24.03it/s, train_loss=0.00148, valid_loss=0.00287]\n",
      "Epoch: 8/50: 100%|██████████| 25/25 [00:01<00:00, 24.19it/s, train_loss=0.00147, valid_loss=0.00298]\n",
      "Epoch: 9/50: 100%|██████████| 25/25 [00:01<00:00, 23.85it/s, train_loss=0.0016, valid_loss=0.00273] \n",
      "Epoch: 10/50: 100%|██████████| 25/25 [00:01<00:00, 23.79it/s, train_loss=0.00128, valid_loss=0.00317]\n",
      "Epoch: 11/50: 100%|██████████| 25/25 [00:01<00:00, 24.28it/s, train_loss=0.00181, valid_loss=0.00266]\n",
      "Epoch: 12/50: 100%|██████████| 25/25 [00:01<00:00, 23.71it/s, train_loss=0.00125, valid_loss=0.00299]\n",
      "Epoch: 13/50: 100%|██████████| 25/25 [00:01<00:00, 24.09it/s, train_loss=0.00166, valid_loss=0.00464]\n",
      "Epoch: 14/50: 100%|██████████| 25/25 [00:01<00:00, 24.18it/s, train_loss=0.00141, valid_loss=0.00295]\n",
      "Epoch: 15/50: 100%|██████████| 25/25 [00:01<00:00, 16.64it/s, train_loss=0.00133, valid_loss=0.00335]\n",
      "Epoch: 16/50: 100%|██████████| 25/25 [00:01<00:00, 19.89it/s, train_loss=0.00117, valid_loss=0.00326]\n",
      "Epoch: 17/50: 100%|██████████| 25/25 [00:01<00:00, 19.27it/s, train_loss=0.00115, valid_loss=0.00345]\n",
      "Epoch: 18/50: 100%|██████████| 25/25 [00:01<00:00, 20.31it/s, train_loss=0.00111, valid_loss=0.00309]\n",
      "Epoch: 19/50: 100%|██████████| 25/25 [00:01<00:00, 21.19it/s, train_loss=0.00106, valid_loss=0.00308]\n",
      "Epoch: 20/50: 100%|██████████| 25/25 [00:01<00:00, 21.35it/s, train_loss=0.001, valid_loss=0.00388]   \n"
     ]
    },
    {
     "name": "stdout",
     "output_type": "stream",
     "text": [
      "cross-validation dataset 3\n"
     ]
    },
    {
     "name": "stderr",
     "output_type": "stream",
     "text": [
      "Epoch: 1/50: 100%|██████████| 33/33 [00:01<00:00, 18.88it/s, train_loss=0.0182, valid_loss=0.00706]\n",
      "Epoch: 2/50: 100%|██████████| 33/33 [00:01<00:00, 22.75it/s, train_loss=0.00276, valid_loss=0.002]  \n",
      "Epoch: 3/50: 100%|██████████| 33/33 [00:01<00:00, 23.66it/s, train_loss=0.00239, valid_loss=0.00152]\n",
      "Epoch: 4/50: 100%|██████████| 33/33 [00:01<00:00, 23.41it/s, train_loss=0.00209, valid_loss=0.00135]\n",
      "Epoch: 5/50: 100%|██████████| 33/33 [00:01<00:00, 23.55it/s, train_loss=0.00208, valid_loss=0.000993]\n",
      "Epoch: 6/50: 100%|██████████| 33/33 [00:01<00:00, 23.45it/s, train_loss=0.00188, valid_loss=0.001]  \n",
      "Epoch: 7/50: 100%|██████████| 33/33 [00:01<00:00, 23.24it/s, train_loss=0.00157, valid_loss=0.0011]  \n",
      "Epoch: 8/50: 100%|██████████| 33/33 [00:01<00:00, 22.77it/s, train_loss=0.00176, valid_loss=0.00108] \n",
      "Epoch: 9/50: 100%|██████████| 33/33 [00:01<00:00, 22.49it/s, train_loss=0.00168, valid_loss=0.00091] \n",
      "Epoch: 10/50: 100%|██████████| 33/33 [00:01<00:00, 22.77it/s, train_loss=0.00151, valid_loss=0.000948]\n",
      "Epoch: 11/50: 100%|██████████| 33/33 [00:01<00:00, 22.95it/s, train_loss=0.0016, valid_loss=0.000782] \n",
      "Epoch: 12/50: 100%|██████████| 33/33 [00:01<00:00, 23.38it/s, train_loss=0.00141, valid_loss=0.000953]\n",
      "Epoch: 13/50: 100%|██████████| 33/33 [00:01<00:00, 23.29it/s, train_loss=0.00134, valid_loss=0.00113] \n",
      "Epoch: 14/50: 100%|██████████| 33/33 [00:01<00:00, 23.32it/s, train_loss=0.0013, valid_loss=0.000878] \n",
      "Epoch: 15/50: 100%|██████████| 33/33 [00:01<00:00, 18.33it/s, train_loss=0.0013, valid_loss=0.000792] \n",
      "Epoch: 16/50: 100%|██████████| 33/33 [00:01<00:00, 20.06it/s, train_loss=0.00122, valid_loss=0.00093] \n",
      "Epoch: 17/50: 100%|██████████| 33/33 [00:01<00:00, 17.72it/s, train_loss=0.00107, valid_loss=0.00101] \n",
      "Epoch: 18/50: 100%|██████████| 33/33 [00:01<00:00, 18.41it/s, train_loss=0.00103, valid_loss=0.000901]\n",
      "Epoch: 19/50: 100%|██████████| 33/33 [00:01<00:00, 16.77it/s, train_loss=0.000958, valid_loss=0.000856]\n",
      "Epoch: 20/50: 100%|██████████| 33/33 [00:01<00:00, 18.15it/s, train_loss=0.000843, valid_loss=0.000973]\n",
      "Epoch: 21/50: 100%|██████████| 33/33 [00:01<00:00, 23.12it/s, train_loss=0.000995, valid_loss=0.00119] \n",
      "Epoch: 22/50: 100%|██████████| 33/33 [00:01<00:00, 23.40it/s, train_loss=0.000886, valid_loss=0.00113] \n",
      "Epoch: 23/50: 100%|██████████| 33/33 [00:01<00:00, 23.06it/s, train_loss=0.000837, valid_loss=0.00105] \n"
     ]
    },
    {
     "name": "stdout",
     "output_type": "stream",
     "text": [
      "cross-validation dataset 4\n"
     ]
    },
    {
     "name": "stderr",
     "output_type": "stream",
     "text": [
      "Epoch: 1/50: 100%|██████████| 42/42 [00:01<00:00, 23.13it/s, train_loss=0.0075, valid_loss=0.0106]\n",
      "Epoch: 2/50: 100%|██████████| 42/42 [00:01<00:00, 23.34it/s, train_loss=0.00199, valid_loss=0.00322]\n",
      "Epoch: 3/50: 100%|██████████| 42/42 [00:01<00:00, 23.40it/s, train_loss=0.0019, valid_loss=0.00327] \n",
      "Epoch: 4/50: 100%|██████████| 42/42 [00:02<00:00, 19.10it/s, train_loss=0.00211, valid_loss=0.00314]\n",
      "Epoch: 5/50: 100%|██████████| 42/42 [00:01<00:00, 23.00it/s, train_loss=0.00181, valid_loss=0.00311]\n",
      "Epoch: 6/50: 100%|██████████| 42/42 [00:01<00:00, 22.74it/s, train_loss=0.0015, valid_loss=0.00257] \n",
      "Epoch: 7/50: 100%|██████████| 42/42 [00:01<00:00, 23.26it/s, train_loss=0.00153, valid_loss=0.0027] \n",
      "Epoch: 8/50: 100%|██████████| 42/42 [00:01<00:00, 23.42it/s, train_loss=0.00153, valid_loss=0.00252]\n",
      "Epoch: 9/50: 100%|██████████| 42/42 [00:01<00:00, 21.22it/s, train_loss=0.00169, valid_loss=0.00252]\n",
      "Epoch: 10/50: 100%|██████████| 42/42 [00:01<00:00, 23.19it/s, train_loss=0.00141, valid_loss=0.00289]\n",
      "Epoch: 11/50: 100%|██████████| 42/42 [00:01<00:00, 22.63it/s, train_loss=0.00142, valid_loss=0.00249]\n",
      "Epoch: 12/50: 100%|██████████| 42/42 [00:02<00:00, 18.96it/s, train_loss=0.00117, valid_loss=0.00265]\n",
      "Epoch: 13/50: 100%|██████████| 42/42 [00:01<00:00, 23.43it/s, train_loss=0.00122, valid_loss=0.00268]\n",
      "Epoch: 14/50: 100%|██████████| 42/42 [00:01<00:00, 23.54it/s, train_loss=0.00119, valid_loss=0.00248]\n"
     ]
    },
    {
     "name": "stdout",
     "output_type": "stream",
     "text": [
      "model config: batch_size-256, lr-0.01, number_epoch-50, hidden_dim-120, n_layers-2,drop_prob-0,weight_decay-0\n",
      "cross-validation dataset 0\n"
     ]
    },
    {
     "name": "stderr",
     "output_type": "stream",
     "text": [
      "Epoch: 1/50: 100%|██████████| 17/17 [00:00<00:00, 18.35it/s, train_loss=0.111, valid_loss=0.174]\n",
      "Epoch: 2/50: 100%|██████████| 17/17 [00:01<00:00, 13.06it/s, train_loss=0.108, valid_loss=0.175]\n",
      "Epoch: 3/50: 100%|██████████| 17/17 [00:01<00:00, 14.98it/s, train_loss=0.0983, valid_loss=0.175]\n",
      "Epoch: 4/50: 100%|██████████| 17/17 [00:00<00:00, 18.43it/s, train_loss=0.107, valid_loss=0.175]\n",
      "Epoch: 5/50: 100%|██████████| 17/17 [00:00<00:00, 18.46it/s, train_loss=0.112, valid_loss=0.176]\n",
      "Epoch: 6/50: 100%|██████████| 17/17 [00:00<00:00, 18.29it/s, train_loss=0.111, valid_loss=0.175]\n",
      "Epoch: 7/50: 100%|██████████| 17/17 [00:00<00:00, 18.50it/s, train_loss=0.104, valid_loss=0.175]\n",
      "Epoch: 8/50: 100%|██████████| 17/17 [00:00<00:00, 18.60it/s, train_loss=0.108, valid_loss=0.175]\n",
      "Epoch: 9/50: 100%|██████████| 17/17 [00:00<00:00, 18.77it/s, train_loss=0.108, valid_loss=0.174]\n",
      "Epoch: 10/50: 100%|██████████| 17/17 [00:00<00:00, 18.60it/s, train_loss=0.106, valid_loss=0.175]\n",
      "Epoch: 11/50: 100%|██████████| 17/17 [00:00<00:00, 18.07it/s, train_loss=0.0965, valid_loss=0.175]\n",
      "Epoch: 12/50: 100%|██████████| 17/17 [00:00<00:00, 18.37it/s, train_loss=0.107, valid_loss=0.175]\n",
      "Epoch: 13/50: 100%|██████████| 17/17 [00:00<00:00, 18.60it/s, train_loss=0.105, valid_loss=0.175]\n",
      "Epoch: 14/50: 100%|██████████| 17/17 [00:00<00:00, 18.72it/s, train_loss=0.11, valid_loss=0.175] \n"
     ]
    },
    {
     "name": "stdout",
     "output_type": "stream",
     "text": [
      "cross-validation dataset 0\n"
     ]
    },
    {
     "name": "stderr",
     "output_type": "stream",
     "text": [
      "Epoch: 1/50: 100%|██████████| 17/17 [00:00<00:00, 18.46it/s, train_loss=0.105, valid_loss=0.175]\n",
      "Epoch: 2/50: 100%|██████████| 17/17 [00:00<00:00, 18.57it/s, train_loss=0.111, valid_loss=0.174]\n",
      "Epoch: 3/50: 100%|██████████| 17/17 [00:00<00:00, 18.51it/s, train_loss=0.104, valid_loss=0.175]\n",
      "Epoch: 4/50: 100%|██████████| 17/17 [00:00<00:00, 18.71it/s, train_loss=0.104, valid_loss=0.176]\n",
      "Epoch: 5/50: 100%|██████████| 17/17 [00:00<00:00, 18.83it/s, train_loss=0.107, valid_loss=0.175]\n",
      "Epoch: 6/50: 100%|██████████| 17/17 [00:00<00:00, 18.45it/s, train_loss=0.104, valid_loss=0.176]\n",
      "Epoch: 7/50: 100%|██████████| 17/17 [00:00<00:00, 18.56it/s, train_loss=0.104, valid_loss=0.175]\n",
      "Epoch: 8/50: 100%|██████████| 17/17 [00:00<00:00, 18.49it/s, train_loss=0.102, valid_loss=0.175]\n",
      "Epoch: 9/50: 100%|██████████| 17/17 [00:00<00:00, 18.67it/s, train_loss=0.11, valid_loss=0.175] \n",
      "Epoch: 10/50: 100%|██████████| 17/17 [00:00<00:00, 18.53it/s, train_loss=0.106, valid_loss=0.175]\n",
      "Epoch: 11/50: 100%|██████████| 17/17 [00:00<00:00, 18.38it/s, train_loss=0.107, valid_loss=0.175]\n",
      "Epoch: 12/50: 100%|██████████| 17/17 [00:00<00:00, 18.55it/s, train_loss=0.106, valid_loss=0.175]\n",
      "Epoch: 13/50: 100%|██████████| 17/17 [00:00<00:00, 18.30it/s, train_loss=0.111, valid_loss=0.175]\n",
      "Epoch: 14/50: 100%|██████████| 17/17 [00:00<00:00, 18.48it/s, train_loss=0.108, valid_loss=0.175]\n",
      "Epoch: 15/50: 100%|██████████| 17/17 [00:00<00:00, 18.23it/s, train_loss=0.104, valid_loss=0.175]\n",
      "Epoch: 16/50: 100%|██████████| 17/17 [00:00<00:00, 18.74it/s, train_loss=0.105, valid_loss=0.175]\n",
      "Epoch: 17/50: 100%|██████████| 17/17 [00:00<00:00, 18.61it/s, train_loss=0.106, valid_loss=0.175]\n",
      "Epoch: 18/50: 100%|██████████| 17/17 [00:00<00:00, 18.45it/s, train_loss=0.103, valid_loss=0.175]\n",
      "Epoch: 19/50: 100%|██████████| 17/17 [00:00<00:00, 18.41it/s, train_loss=0.104, valid_loss=0.175]\n",
      "Epoch: 20/50: 100%|██████████| 17/17 [00:00<00:00, 18.58it/s, train_loss=0.105, valid_loss=0.176]\n",
      "Epoch: 21/50: 100%|██████████| 17/17 [00:00<00:00, 18.68it/s, train_loss=0.105, valid_loss=0.175]\n",
      "Epoch: 22/50: 100%|██████████| 17/17 [00:01<00:00, 12.79it/s, train_loss=0.11, valid_loss=0.175] \n"
     ]
    },
    {
     "name": "stdout",
     "output_type": "stream",
     "text": [
      "cross-validation dataset 0\n"
     ]
    },
    {
     "name": "stderr",
     "output_type": "stream",
     "text": [
      "Epoch: 1/50: 100%|██████████| 17/17 [00:00<00:00, 18.76it/s, train_loss=0.0213, valid_loss=0.0326]\n",
      "Epoch: 2/50: 100%|██████████| 17/17 [00:00<00:00, 18.65it/s, train_loss=0.0164, valid_loss=0.0354]\n",
      "Epoch: 3/50: 100%|██████████| 17/17 [00:00<00:00, 18.56it/s, train_loss=0.0145, valid_loss=0.0385]\n",
      "Epoch: 4/50: 100%|██████████| 17/17 [00:00<00:00, 18.45it/s, train_loss=0.00881, valid_loss=0.0474]\n",
      "Epoch: 5/50: 100%|██████████| 17/17 [00:00<00:00, 18.70it/s, train_loss=0.00525, valid_loss=0.0384]\n",
      "Epoch: 6/50: 100%|██████████| 17/17 [00:00<00:00, 18.21it/s, train_loss=0.00294, valid_loss=0.011] \n",
      "Epoch: 7/50: 100%|██████████| 17/17 [00:00<00:00, 18.50it/s, train_loss=0.00232, valid_loss=0.00624]\n",
      "Epoch: 8/50: 100%|██████████| 17/17 [00:00<00:00, 18.61it/s, train_loss=0.00175, valid_loss=0.00574]\n",
      "Epoch: 9/50: 100%|██████████| 17/17 [00:00<00:00, 18.78it/s, train_loss=0.00157, valid_loss=0.00777]\n",
      "Epoch: 10/50: 100%|██████████| 17/17 [00:00<00:00, 18.68it/s, train_loss=0.00141, valid_loss=0.00664]\n",
      "Epoch: 11/50: 100%|██████████| 17/17 [00:00<00:00, 18.70it/s, train_loss=0.00141, valid_loss=0.00573]\n",
      "Epoch: 12/50: 100%|██████████| 17/17 [00:00<00:00, 18.43it/s, train_loss=0.0012, valid_loss=0.00725] \n",
      "Epoch: 13/50: 100%|██████████| 17/17 [00:00<00:00, 18.59it/s, train_loss=0.00111, valid_loss=0.00655]\n",
      "Epoch: 14/50: 100%|██████████| 17/17 [00:00<00:00, 18.63it/s, train_loss=0.00121, valid_loss=0.00746]\n",
      "Epoch: 15/50: 100%|██████████| 17/17 [00:00<00:00, 18.41it/s, train_loss=0.00106, valid_loss=0.00801] \n",
      "Epoch: 16/50: 100%|██████████| 17/17 [00:00<00:00, 18.38it/s, train_loss=0.000847, valid_loss=0.00924]\n",
      "Epoch: 17/50: 100%|██████████| 17/17 [00:00<00:00, 18.53it/s, train_loss=0.000868, valid_loss=0.00997]\n",
      "Epoch: 18/50: 100%|██████████| 17/17 [00:00<00:00, 18.48it/s, train_loss=0.000728, valid_loss=0.00901]\n",
      "Epoch: 19/50: 100%|██████████| 17/17 [00:00<00:00, 18.15it/s, train_loss=0.000672, valid_loss=0.00769]\n",
      "Epoch: 20/50: 100%|██████████| 17/17 [00:00<00:00, 18.66it/s, train_loss=0.000632, valid_loss=0.00803]\n",
      "Epoch: 21/50: 100%|██████████| 17/17 [00:00<00:00, 18.07it/s, train_loss=0.000543, valid_loss=0.0105] \n"
     ]
    },
    {
     "name": "stdout",
     "output_type": "stream",
     "text": [
      "cross-validation dataset 1\n"
     ]
    },
    {
     "name": "stderr",
     "output_type": "stream",
     "text": [
      "Epoch: 1/50: 100%|██████████| 33/33 [00:01<00:00, 19.65it/s, train_loss=0.0181, valid_loss=0.019] \n",
      "Epoch: 2/50: 100%|██████████| 33/33 [00:01<00:00, 19.89it/s, train_loss=0.00384, valid_loss=0.00526]\n",
      "Epoch: 3/50: 100%|██████████| 33/33 [00:01<00:00, 19.71it/s, train_loss=0.00307, valid_loss=0.00373]\n",
      "Epoch: 4/50: 100%|██████████| 33/33 [00:01<00:00, 19.66it/s, train_loss=0.00315, valid_loss=0.00194]\n",
      "Epoch: 5/50: 100%|██████████| 33/33 [00:01<00:00, 19.80it/s, train_loss=0.00217, valid_loss=0.00205]\n",
      "Epoch: 6/50: 100%|██████████| 33/33 [00:01<00:00, 19.77it/s, train_loss=0.00177, valid_loss=0.00183]\n",
      "Epoch: 7/50: 100%|██████████| 33/33 [00:01<00:00, 19.83it/s, train_loss=0.00283, valid_loss=0.00163]\n",
      "Epoch: 8/50: 100%|██████████| 33/33 [00:01<00:00, 19.95it/s, train_loss=0.00234, valid_loss=0.00162]\n",
      "Epoch: 9/50: 100%|██████████| 33/33 [00:01<00:00, 19.83it/s, train_loss=0.002, valid_loss=0.00282]  \n",
      "Epoch: 10/50: 100%|██████████| 33/33 [00:01<00:00, 19.88it/s, train_loss=0.00207, valid_loss=0.00169]\n",
      "Epoch: 11/50: 100%|██████████| 33/33 [00:01<00:00, 19.62it/s, train_loss=0.00255, valid_loss=0.00155]\n",
      "Epoch: 12/50: 100%|██████████| 33/33 [00:02<00:00, 15.93it/s, train_loss=0.00175, valid_loss=0.00134]\n",
      "Epoch: 13/50: 100%|██████████| 33/33 [00:01<00:00, 20.16it/s, train_loss=0.00215, valid_loss=0.00219]\n",
      "Epoch: 14/50: 100%|██████████| 33/33 [00:01<00:00, 19.90it/s, train_loss=0.00175, valid_loss=0.00213]\n",
      "Epoch: 15/50: 100%|██████████| 33/33 [00:01<00:00, 20.04it/s, train_loss=0.00221, valid_loss=0.00129]\n",
      "Epoch: 16/50: 100%|██████████| 33/33 [00:01<00:00, 19.77it/s, train_loss=0.0018, valid_loss=0.00287] \n",
      "Epoch: 17/50: 100%|██████████| 33/33 [00:01<00:00, 19.87it/s, train_loss=0.00152, valid_loss=0.00141]\n",
      "Epoch: 18/50: 100%|██████████| 33/33 [00:01<00:00, 19.87it/s, train_loss=0.00158, valid_loss=0.0014] \n",
      "Epoch: 19/50: 100%|██████████| 33/33 [00:01<00:00, 19.94it/s, train_loss=0.00168, valid_loss=0.00156]\n",
      "Epoch: 20/50: 100%|██████████| 33/33 [00:01<00:00, 20.09it/s, train_loss=0.00154, valid_loss=0.00193]\n",
      "Epoch: 21/50: 100%|██████████| 33/33 [00:01<00:00, 19.81it/s, train_loss=0.00166, valid_loss=0.00173]\n",
      "Epoch: 22/50: 100%|██████████| 33/33 [00:01<00:00, 19.76it/s, train_loss=0.00157, valid_loss=0.00156]\n",
      "Epoch: 23/50: 100%|██████████| 33/33 [00:01<00:00, 19.67it/s, train_loss=0.0018, valid_loss=0.00151] \n",
      "Epoch: 24/50: 100%|██████████| 33/33 [00:01<00:00, 19.91it/s, train_loss=0.00148, valid_loss=0.00185]\n",
      "Epoch: 25/50: 100%|██████████| 33/33 [00:01<00:00, 19.65it/s, train_loss=0.00111, valid_loss=0.002]  \n"
     ]
    },
    {
     "name": "stdout",
     "output_type": "stream",
     "text": [
      "cross-validation dataset 2\n"
     ]
    },
    {
     "name": "stderr",
     "output_type": "stream",
     "text": [
      "Epoch: 1/50: 100%|██████████| 50/50 [00:02<00:00, 20.59it/s, train_loss=0.148, valid_loss=0.194]\n",
      "Epoch: 2/50: 100%|██████████| 50/50 [00:02<00:00, 20.73it/s, train_loss=0.155, valid_loss=0.193]\n",
      "Epoch: 3/50: 100%|██████████| 50/50 [00:02<00:00, 20.65it/s, train_loss=0.14, valid_loss=0.194] \n",
      "Epoch: 4/50: 100%|██████████| 50/50 [00:02<00:00, 20.70it/s, train_loss=0.152, valid_loss=0.194]\n",
      "Epoch: 5/50: 100%|██████████| 50/50 [00:02<00:00, 20.54it/s, train_loss=0.157, valid_loss=0.194]\n",
      "Epoch: 6/50: 100%|██████████| 50/50 [00:02<00:00, 19.35it/s, train_loss=0.154, valid_loss=0.194]\n",
      "Epoch: 7/50: 100%|██████████| 50/50 [00:02<00:00, 20.24it/s, train_loss=0.155, valid_loss=0.194]\n"
     ]
    },
    {
     "name": "stdout",
     "output_type": "stream",
     "text": [
      "cross-validation dataset 2\n"
     ]
    },
    {
     "name": "stderr",
     "output_type": "stream",
     "text": [
      "Epoch: 1/50: 100%|██████████| 50/50 [00:02<00:00, 18.38it/s, train_loss=0.145, valid_loss=0.194]\n",
      "Epoch: 2/50: 100%|██████████| 50/50 [00:02<00:00, 20.63it/s, train_loss=0.148, valid_loss=0.193]\n",
      "Epoch: 3/50: 100%|██████████| 50/50 [00:02<00:00, 20.53it/s, train_loss=0.144, valid_loss=0.194]\n",
      "Epoch: 4/50: 100%|██████████| 50/50 [00:02<00:00, 20.86it/s, train_loss=0.144, valid_loss=0.194]\n",
      "Epoch: 5/50: 100%|██████████| 50/50 [00:02<00:00, 20.90it/s, train_loss=0.155, valid_loss=0.195]\n",
      "Epoch: 6/50: 100%|██████████| 50/50 [00:02<00:00, 20.90it/s, train_loss=0.14, valid_loss=0.195] \n",
      "Epoch: 7/50: 100%|██████████| 50/50 [00:02<00:00, 20.78it/s, train_loss=0.149, valid_loss=0.194]\n",
      "Epoch: 8/50: 100%|██████████| 50/50 [00:02<00:00, 20.78it/s, train_loss=0.149, valid_loss=0.193]\n",
      "Epoch: 9/50: 100%|██████████| 50/50 [00:02<00:00, 20.92it/s, train_loss=0.155, valid_loss=0.195]\n",
      "Epoch: 10/50: 100%|██████████| 50/50 [00:02<00:00, 20.99it/s, train_loss=0.143, valid_loss=0.194]\n",
      "Epoch: 11/50: 100%|██████████| 50/50 [00:02<00:00, 20.76it/s, train_loss=0.142, valid_loss=0.194]\n",
      "Epoch: 12/50: 100%|██████████| 50/50 [00:02<00:00, 20.81it/s, train_loss=0.138, valid_loss=0.194]\n",
      "Epoch: 13/50: 100%|██████████| 50/50 [00:02<00:00, 20.89it/s, train_loss=0.144, valid_loss=0.194]\n"
     ]
    },
    {
     "name": "stdout",
     "output_type": "stream",
     "text": [
      "cross-validation dataset 2\n"
     ]
    },
    {
     "name": "stderr",
     "output_type": "stream",
     "text": [
      "Epoch: 1/50: 100%|██████████| 50/50 [00:02<00:00, 20.57it/s, train_loss=0.00542, valid_loss=0.00756]\n",
      "Epoch: 2/50: 100%|██████████| 50/50 [00:02<00:00, 20.51it/s, train_loss=0.00331, valid_loss=0.00393]\n",
      "Epoch: 3/50: 100%|██████████| 50/50 [00:02<00:00, 20.51it/s, train_loss=0.00299, valid_loss=0.0035] \n",
      "Epoch: 4/50: 100%|██████████| 50/50 [00:02<00:00, 20.63it/s, train_loss=0.00218, valid_loss=0.00295]\n",
      "Epoch: 5/50: 100%|██████████| 50/50 [00:02<00:00, 18.03it/s, train_loss=0.00188, valid_loss=0.00284]\n",
      "Epoch: 6/50: 100%|██████████| 50/50 [00:02<00:00, 20.66it/s, train_loss=0.00195, valid_loss=0.00325]\n",
      "Epoch: 7/50: 100%|██████████| 50/50 [00:02<00:00, 20.45it/s, train_loss=0.00175, valid_loss=0.00273]\n",
      "Epoch: 8/50: 100%|██████████| 50/50 [00:02<00:00, 20.57it/s, train_loss=0.00184, valid_loss=0.00276]\n",
      "Epoch: 9/50: 100%|██████████| 50/50 [00:02<00:00, 20.61it/s, train_loss=0.00186, valid_loss=0.00266]\n",
      "Epoch: 10/50: 100%|██████████| 50/50 [00:02<00:00, 20.51it/s, train_loss=0.00159, valid_loss=0.00255]\n",
      "Epoch: 11/50: 100%|██████████| 50/50 [00:02<00:00, 20.64it/s, train_loss=0.00145, valid_loss=0.0025] \n",
      "Epoch: 12/50: 100%|██████████| 50/50 [00:02<00:00, 20.72it/s, train_loss=0.00124, valid_loss=0.00243]\n",
      "Epoch: 13/50: 100%|██████████| 50/50 [00:02<00:00, 20.67it/s, train_loss=0.00162, valid_loss=0.00323]\n",
      "Epoch: 14/50: 100%|██████████| 50/50 [00:02<00:00, 20.71it/s, train_loss=0.0014, valid_loss=0.0027]  \n",
      "Epoch: 15/50: 100%|██████████| 50/50 [00:02<00:00, 20.52it/s, train_loss=0.00116, valid_loss=0.00289] \n",
      "Epoch: 16/50: 100%|██████████| 50/50 [00:02<00:00, 20.82it/s, train_loss=0.00103, valid_loss=0.00283] \n",
      "Epoch: 17/50: 100%|██████████| 50/50 [00:02<00:00, 20.40it/s, train_loss=0.00112, valid_loss=0.00369] \n",
      "Epoch: 18/50: 100%|██████████| 50/50 [00:02<00:00, 20.49it/s, train_loss=0.000969, valid_loss=0.00397]\n",
      "Epoch: 19/50: 100%|██████████| 50/50 [00:02<00:00, 20.68it/s, train_loss=0.000997, valid_loss=0.00372]\n"
     ]
    },
    {
     "name": "stdout",
     "output_type": "stream",
     "text": [
      "cross-validation dataset 3\n"
     ]
    },
    {
     "name": "stderr",
     "output_type": "stream",
     "text": [
      "Epoch: 1/50: 100%|██████████| 66/66 [00:03<00:00, 19.99it/s, train_loss=0.00467, valid_loss=0.00304]\n",
      "Epoch: 2/50: 100%|██████████| 66/66 [00:03<00:00, 17.80it/s, train_loss=0.00216, valid_loss=0.0014] \n",
      "Epoch: 3/50: 100%|██████████| 66/66 [00:03<00:00, 19.86it/s, train_loss=0.00195, valid_loss=0.00118]\n",
      "Epoch: 4/50: 100%|██████████| 66/66 [00:03<00:00, 19.72it/s, train_loss=0.0021, valid_loss=0.00108]  \n",
      "Epoch: 5/50: 100%|██████████| 66/66 [00:03<00:00, 19.74it/s, train_loss=0.00229, valid_loss=0.000959]\n",
      "Epoch: 6/50: 100%|██████████| 66/66 [00:03<00:00, 19.73it/s, train_loss=0.0014, valid_loss=0.00187]  \n",
      "Epoch: 7/50: 100%|██████████| 66/66 [00:03<00:00, 19.75it/s, train_loss=0.00233, valid_loss=0.000888]\n",
      "Epoch: 8/50: 100%|██████████| 66/66 [00:03<00:00, 19.93it/s, train_loss=0.00125, valid_loss=0.00105] \n"
     ]
    },
    {
     "name": "stdout",
     "output_type": "stream",
     "text": [
      "cross-validation dataset 4\n"
     ]
    },
    {
     "name": "stderr",
     "output_type": "stream",
     "text": [
      "Epoch: 1/50: 100%|██████████| 83/83 [00:04<00:00, 20.13it/s, train_loss=0.00315, valid_loss=0.00439]\n",
      "Epoch: 2/50: 100%|██████████| 83/83 [00:04<00:00, 20.20it/s, train_loss=0.00241, valid_loss=0.00335]\n",
      "Epoch: 3/50: 100%|██████████| 83/83 [00:03<00:00, 21.19it/s, train_loss=0.00166, valid_loss=0.00306]\n",
      "Epoch: 4/50: 100%|██████████| 83/83 [00:04<00:00, 19.98it/s, train_loss=0.00133, valid_loss=0.00267]\n",
      "Epoch: 5/50: 100%|██████████| 83/83 [00:04<00:00, 18.47it/s, train_loss=0.00211, valid_loss=0.00258]\n",
      "Epoch: 6/50: 100%|██████████| 83/83 [00:04<00:00, 20.37it/s, train_loss=0.00148, valid_loss=0.00259]\n",
      "Epoch: 7/50: 100%|██████████| 83/83 [00:04<00:00, 20.51it/s, train_loss=0.00164, valid_loss=0.00283]\n",
      "Epoch: 8/50: 100%|██████████| 83/83 [00:04<00:00, 20.39it/s, train_loss=0.00126, valid_loss=0.0028] \n",
      "Epoch: 9/50: 100%|██████████| 83/83 [00:04<00:00, 20.11it/s, train_loss=0.00113, valid_loss=0.00266]\n",
      "Epoch: 10/50: 100%|██████████| 83/83 [00:04<00:00, 20.10it/s, train_loss=0.00107, valid_loss=0.00236]\n",
      "Epoch: 11/50: 100%|██████████| 83/83 [00:04<00:00, 20.15it/s, train_loss=0.000981, valid_loss=0.00244]\n",
      "Epoch: 12/50: 100%|██████████| 83/83 [00:04<00:00, 20.04it/s, train_loss=0.00128, valid_loss=0.00258]\n",
      "Epoch: 13/50: 100%|██████████| 83/83 [00:04<00:00, 20.08it/s, train_loss=0.000929, valid_loss=0.00261]\n",
      "Epoch: 14/50: 100%|██████████| 83/83 [00:04<00:00, 20.18it/s, train_loss=0.00112, valid_loss=0.00277] \n",
      "Epoch: 15/50: 100%|██████████| 83/83 [00:04<00:00, 17.93it/s, train_loss=0.0012, valid_loss=0.00272]  \n"
     ]
    },
    {
     "name": "stdout",
     "output_type": "stream",
     "text": [
      "model config: batch_size-512, lr-0.01, number_epoch-50, hidden_dim-80, n_layers-2,drop_prob-0,weight_decay-0\n",
      "cross-validation dataset 0\n"
     ]
    },
    {
     "name": "stderr",
     "output_type": "stream",
     "text": [
      "Epoch: 1/50: 100%|██████████| 9/9 [00:00<00:00, 14.73it/s, train_loss=0.108, valid_loss=0.176]\n",
      "Epoch: 2/50: 100%|██████████| 9/9 [00:00<00:00, 20.67it/s, train_loss=0.107, valid_loss=0.178]\n",
      "Epoch: 3/50: 100%|██████████| 9/9 [00:00<00:00, 20.85it/s, train_loss=0.11, valid_loss=0.175] \n",
      "Epoch: 4/50: 100%|██████████| 9/9 [00:00<00:00, 17.00it/s, train_loss=0.105, valid_loss=0.176]\n",
      "Epoch: 5/50: 100%|██████████| 9/9 [00:00<00:00, 17.65it/s, train_loss=0.108, valid_loss=0.175]\n",
      "Epoch: 6/50: 100%|██████████| 9/9 [00:00<00:00, 16.99it/s, train_loss=0.108, valid_loss=0.175]\n",
      "Epoch: 7/50: 100%|██████████| 9/9 [00:00<00:00, 19.23it/s, train_loss=0.102, valid_loss=0.175]\n",
      "Epoch: 8/50: 100%|██████████| 9/9 [00:00<00:00, 18.13it/s, train_loss=0.108, valid_loss=0.176]\n",
      "Epoch: 9/50: 100%|██████████| 9/9 [00:00<00:00, 16.70it/s, train_loss=0.106, valid_loss=0.174]\n",
      "Epoch: 10/50: 100%|██████████| 9/9 [00:00<00:00, 19.60it/s, train_loss=0.11, valid_loss=0.175] \n",
      "Epoch: 11/50: 100%|██████████| 9/9 [00:00<00:00, 20.62it/s, train_loss=0.109, valid_loss=0.175]\n",
      "Epoch: 12/50: 100%|██████████| 9/9 [00:00<00:00, 16.91it/s, train_loss=0.107, valid_loss=0.175]\n",
      "Epoch: 13/50: 100%|██████████| 9/9 [00:00<00:00, 18.05it/s, train_loss=0.107, valid_loss=0.175]\n",
      "Epoch: 14/50: 100%|██████████| 9/9 [00:00<00:00, 21.63it/s, train_loss=0.111, valid_loss=0.174]\n",
      "Epoch: 15/50: 100%|██████████| 9/9 [00:00<00:00, 22.64it/s, train_loss=0.103, valid_loss=0.175]\n",
      "Epoch: 16/50: 100%|██████████| 9/9 [00:00<00:00, 22.69it/s, train_loss=0.102, valid_loss=0.175]\n",
      "Epoch: 17/50: 100%|██████████| 9/9 [00:00<00:00, 22.95it/s, train_loss=0.106, valid_loss=0.176]\n",
      "Epoch: 18/50: 100%|██████████| 9/9 [00:00<00:00, 22.97it/s, train_loss=0.11, valid_loss=0.176] \n",
      "Epoch: 19/50: 100%|██████████| 9/9 [00:00<00:00, 22.73it/s, train_loss=0.11, valid_loss=0.176] \n",
      "Epoch: 20/50: 100%|██████████| 9/9 [00:00<00:00, 22.52it/s, train_loss=0.107, valid_loss=0.176]\n",
      "Epoch: 21/50: 100%|██████████| 9/9 [00:00<00:00, 22.82it/s, train_loss=0.107, valid_loss=0.174]\n",
      "Epoch: 22/50: 100%|██████████| 9/9 [00:00<00:00, 22.51it/s, train_loss=0.107, valid_loss=0.176]\n",
      "Epoch: 23/50: 100%|██████████| 9/9 [00:00<00:00, 23.17it/s, train_loss=0.11, valid_loss=0.174] \n",
      "Epoch: 24/50: 100%|██████████| 9/9 [00:00<00:00, 23.04it/s, train_loss=0.108, valid_loss=0.175]\n",
      "Epoch: 25/50: 100%|██████████| 9/9 [00:00<00:00, 22.81it/s, train_loss=0.108, valid_loss=0.176]\n",
      "Epoch: 26/50: 100%|██████████| 9/9 [00:00<00:00, 23.26it/s, train_loss=0.11, valid_loss=0.177] \n",
      "Epoch: 27/50: 100%|██████████| 9/9 [00:00<00:00, 23.45it/s, train_loss=0.107, valid_loss=0.175]\n",
      "Epoch: 28/50: 100%|██████████| 9/9 [00:00<00:00, 23.41it/s, train_loss=0.104, valid_loss=0.174]\n",
      "Epoch: 29/50: 100%|██████████| 9/9 [00:00<00:00, 23.18it/s, train_loss=0.105, valid_loss=0.176]\n",
      "Epoch: 30/50: 100%|██████████| 9/9 [00:00<00:00, 23.60it/s, train_loss=0.105, valid_loss=0.175]\n",
      "Epoch: 31/50: 100%|██████████| 9/9 [00:00<00:00, 22.66it/s, train_loss=0.111, valid_loss=0.175]\n"
     ]
    },
    {
     "name": "stdout",
     "output_type": "stream",
     "text": [
      "cross-validation dataset 0\n"
     ]
    },
    {
     "name": "stderr",
     "output_type": "stream",
     "text": [
      "Epoch: 1/50: 100%|██████████| 9/9 [00:00<00:00, 22.16it/s, train_loss=0.111, valid_loss=0.175]\n",
      "Epoch: 2/50: 100%|██████████| 9/9 [00:00<00:00, 22.54it/s, train_loss=0.106, valid_loss=0.175]\n",
      "Epoch: 3/50: 100%|██████████| 9/9 [00:00<00:00, 22.96it/s, train_loss=0.11, valid_loss=0.175] \n",
      "Epoch: 4/50: 100%|██████████| 9/9 [00:00<00:00, 23.66it/s, train_loss=0.107, valid_loss=0.176]\n",
      "Epoch: 5/50: 100%|██████████| 9/9 [00:00<00:00, 23.09it/s, train_loss=0.107, valid_loss=0.175]\n",
      "Epoch: 6/50: 100%|██████████| 9/9 [00:00<00:00, 23.41it/s, train_loss=0.107, valid_loss=0.173]\n",
      "Epoch: 7/50: 100%|██████████| 9/9 [00:00<00:00, 23.10it/s, train_loss=0.109, valid_loss=0.176]\n",
      "Epoch: 8/50: 100%|██████████| 9/9 [00:00<00:00, 23.43it/s, train_loss=0.107, valid_loss=0.175]\n",
      "Epoch: 9/50: 100%|██████████| 9/9 [00:00<00:00, 22.55it/s, train_loss=0.104, valid_loss=0.176]\n",
      "Epoch: 10/50: 100%|██████████| 9/9 [00:00<00:00, 10.70it/s, train_loss=0.106, valid_loss=0.174]\n",
      "Epoch: 11/50: 100%|██████████| 9/9 [00:00<00:00, 23.16it/s, train_loss=0.11, valid_loss=0.174] \n",
      "Epoch: 12/50: 100%|██████████| 9/9 [00:00<00:00, 17.14it/s, train_loss=0.102, valid_loss=0.175]\n",
      "Epoch: 13/50: 100%|██████████| 9/9 [00:00<00:00, 18.03it/s, train_loss=0.109, valid_loss=0.175]\n",
      "Epoch: 14/50: 100%|██████████| 9/9 [00:00<00:00, 20.38it/s, train_loss=0.111, valid_loss=0.174]\n",
      "Epoch: 15/50: 100%|██████████| 9/9 [00:00<00:00, 20.61it/s, train_loss=0.106, valid_loss=0.175]\n",
      "Epoch: 16/50: 100%|██████████| 9/9 [00:00<00:00, 19.53it/s, train_loss=0.111, valid_loss=0.176]\n",
      "Epoch: 17/50: 100%|██████████| 9/9 [00:00<00:00, 19.20it/s, train_loss=0.11, valid_loss=0.175] \n",
      "Epoch: 18/50: 100%|██████████| 9/9 [00:00<00:00, 23.12it/s, train_loss=0.105, valid_loss=0.175]\n",
      "Epoch: 19/50: 100%|██████████| 9/9 [00:00<00:00, 23.27it/s, train_loss=0.103, valid_loss=0.175]\n",
      "Epoch: 20/50: 100%|██████████| 9/9 [00:00<00:00, 23.51it/s, train_loss=0.109, valid_loss=0.175]\n",
      "Epoch: 21/50: 100%|██████████| 9/9 [00:00<00:00, 23.13it/s, train_loss=0.104, valid_loss=0.175]\n",
      "Epoch: 22/50: 100%|██████████| 9/9 [00:00<00:00, 23.44it/s, train_loss=0.109, valid_loss=0.176]\n",
      "Epoch: 23/50: 100%|██████████| 9/9 [00:00<00:00, 23.53it/s, train_loss=0.109, valid_loss=0.176]\n",
      "Epoch: 24/50: 100%|██████████| 9/9 [00:00<00:00, 23.60it/s, train_loss=0.107, valid_loss=0.176]\n",
      "Epoch: 25/50: 100%|██████████| 9/9 [00:00<00:00, 23.44it/s, train_loss=0.11, valid_loss=0.174] \n",
      "Epoch: 26/50: 100%|██████████| 9/9 [00:00<00:00, 23.16it/s, train_loss=0.106, valid_loss=0.176]\n",
      "Epoch: 27/50: 100%|██████████| 9/9 [00:00<00:00, 23.39it/s, train_loss=0.11, valid_loss=0.175] \n"
     ]
    },
    {
     "name": "stdout",
     "output_type": "stream",
     "text": [
      "cross-validation dataset 0\n"
     ]
    },
    {
     "name": "stderr",
     "output_type": "stream",
     "text": [
      "Epoch: 1/50: 100%|██████████| 9/9 [00:00<00:00, 23.06it/s, train_loss=0.0152, valid_loss=0.0584]\n",
      "Epoch: 2/50: 100%|██████████| 9/9 [00:00<00:00, 22.86it/s, train_loss=0.011, valid_loss=0.0469] \n",
      "Epoch: 3/50: 100%|██████████| 9/9 [00:00<00:00, 23.33it/s, train_loss=0.00604, valid_loss=0.0332]\n",
      "Epoch: 4/50: 100%|██████████| 9/9 [00:00<00:00, 22.89it/s, train_loss=0.00337, valid_loss=0.0194]\n",
      "Epoch: 5/50: 100%|██████████| 9/9 [00:00<00:00, 23.33it/s, train_loss=0.00265, valid_loss=0.00837]\n",
      "Epoch: 6/50: 100%|██████████| 9/9 [00:00<00:00, 23.27it/s, train_loss=0.00216, valid_loss=0.00441]\n",
      "Epoch: 7/50: 100%|██████████| 9/9 [00:00<00:00, 23.07it/s, train_loss=0.00193, valid_loss=0.00444]\n",
      "Epoch: 8/50: 100%|██████████| 9/9 [00:00<00:00, 23.60it/s, train_loss=0.00143, valid_loss=0.00378]\n",
      "Epoch: 9/50: 100%|██████████| 9/9 [00:00<00:00, 23.10it/s, train_loss=0.00144, valid_loss=0.00519]\n",
      "Epoch: 10/50: 100%|██████████| 9/9 [00:00<00:00, 23.10it/s, train_loss=0.00129, valid_loss=0.00664]\n",
      "Epoch: 11/50: 100%|██████████| 9/9 [00:00<00:00, 23.31it/s, train_loss=0.00123, valid_loss=0.00583]\n",
      "Epoch: 12/50: 100%|██████████| 9/9 [00:00<00:00, 22.10it/s, train_loss=0.00136, valid_loss=0.00665]\n",
      "Epoch: 13/50: 100%|██████████| 9/9 [00:00<00:00, 23.57it/s, train_loss=0.00135, valid_loss=0.00834]\n",
      "Epoch: 14/50: 100%|██████████| 9/9 [00:00<00:00, 23.34it/s, train_loss=0.00149, valid_loss=0.00667]\n",
      "Epoch: 15/50: 100%|██████████| 9/9 [00:00<00:00, 23.30it/s, train_loss=0.00122, valid_loss=0.00611]\n",
      "Epoch: 16/50: 100%|██████████| 9/9 [00:00<00:00, 23.14it/s, train_loss=0.00108, valid_loss=0.00899]\n",
      "Epoch: 17/50: 100%|██████████| 9/9 [00:00<00:00, 23.16it/s, train_loss=0.00107, valid_loss=0.00703]\n",
      "Epoch: 18/50: 100%|██████████| 9/9 [00:00<00:00, 22.91it/s, train_loss=0.00102, valid_loss=0.00813]\n",
      "Epoch: 19/50: 100%|██████████| 9/9 [00:00<00:00, 22.94it/s, train_loss=0.00109, valid_loss=0.00683]\n",
      "Epoch: 20/50: 100%|██████████| 9/9 [00:00<00:00, 23.27it/s, train_loss=0.000899, valid_loss=0.00899]\n",
      "Epoch: 21/50: 100%|██████████| 9/9 [00:00<00:00, 22.84it/s, train_loss=0.00107, valid_loss=0.00888]\n",
      "Epoch: 22/50: 100%|██████████| 9/9 [00:00<00:00, 17.77it/s, train_loss=0.00116, valid_loss=0.00853]\n",
      "Epoch: 23/50: 100%|██████████| 9/9 [00:00<00:00, 21.03it/s, train_loss=0.000976, valid_loss=0.00694]\n",
      "Epoch: 24/50: 100%|██████████| 9/9 [00:00<00:00, 22.42it/s, train_loss=0.000883, valid_loss=0.0075] \n",
      "Epoch: 25/50: 100%|██████████| 9/9 [00:00<00:00, 22.44it/s, train_loss=0.000875, valid_loss=0.00849]\n",
      "Epoch: 26/50: 100%|██████████| 9/9 [00:00<00:00, 20.92it/s, train_loss=0.000869, valid_loss=0.00711]\n",
      "Epoch: 27/50: 100%|██████████| 9/9 [00:00<00:00, 19.64it/s, train_loss=0.000768, valid_loss=0.00839]\n",
      "Epoch: 28/50: 100%|██████████| 9/9 [00:00<00:00, 17.16it/s, train_loss=0.000736, valid_loss=0.0076] \n",
      "Epoch: 29/50: 100%|██████████| 9/9 [00:00<00:00,  9.65it/s, train_loss=0.000933, valid_loss=0.00864]\n",
      "Epoch: 30/50: 100%|██████████| 9/9 [00:00<00:00, 18.32it/s, train_loss=0.000701, valid_loss=0.00723]\n",
      "Epoch: 31/50: 100%|██████████| 9/9 [00:00<00:00, 16.93it/s, train_loss=0.000729, valid_loss=0.00704]\n",
      "Epoch: 32/50: 100%|██████████| 9/9 [00:00<00:00, 17.66it/s, train_loss=0.000785, valid_loss=0.00782]\n",
      "Epoch: 33/50: 100%|██████████| 9/9 [00:00<00:00, 20.35it/s, train_loss=0.000716, valid_loss=0.00928]\n"
     ]
    },
    {
     "name": "stdout",
     "output_type": "stream",
     "text": [
      "cross-validation dataset 1\n"
     ]
    },
    {
     "name": "stderr",
     "output_type": "stream",
     "text": [
      "Epoch: 1/50: 100%|██████████| 17/17 [00:00<00:00, 18.53it/s, train_loss=0.025, valid_loss=0.0266]\n",
      "Epoch: 2/50: 100%|██████████| 17/17 [00:00<00:00, 20.66it/s, train_loss=0.0172, valid_loss=0.0275]\n",
      "Epoch: 3/50: 100%|██████████| 17/17 [00:00<00:00, 21.73it/s, train_loss=0.00542, valid_loss=0.00582]\n",
      "Epoch: 4/50: 100%|██████████| 17/17 [00:00<00:00, 21.70it/s, train_loss=0.00325, valid_loss=0.00339]\n",
      "Epoch: 5/50: 100%|██████████| 17/17 [00:00<00:00, 21.79it/s, train_loss=0.00333, valid_loss=0.00348]\n",
      "Epoch: 6/50: 100%|██████████| 17/17 [00:00<00:00, 22.26it/s, train_loss=0.00263, valid_loss=0.00278]\n",
      "Epoch: 7/50: 100%|██████████| 17/17 [00:00<00:00, 22.29it/s, train_loss=0.00208, valid_loss=0.00229]\n",
      "Epoch: 8/50: 100%|██████████| 17/17 [00:00<00:00, 22.55it/s, train_loss=0.00222, valid_loss=0.00178]\n",
      "Epoch: 9/50: 100%|██████████| 17/17 [00:00<00:00, 21.99it/s, train_loss=0.00234, valid_loss=0.00289]\n",
      "Epoch: 10/50: 100%|██████████| 17/17 [00:00<00:00, 22.35it/s, train_loss=0.00241, valid_loss=0.00204]\n",
      "Epoch: 11/50: 100%|██████████| 17/17 [00:00<00:00, 22.60it/s, train_loss=0.00201, valid_loss=0.0018] \n",
      "Epoch: 12/50: 100%|██████████| 17/17 [00:00<00:00, 22.08it/s, train_loss=0.00204, valid_loss=0.00163]\n",
      "Epoch: 13/50: 100%|██████████| 17/17 [00:00<00:00, 21.66it/s, train_loss=0.00175, valid_loss=0.00153]\n",
      "Epoch: 14/50: 100%|██████████| 17/17 [00:00<00:00, 21.60it/s, train_loss=0.00167, valid_loss=0.00144]\n",
      "Epoch: 15/50: 100%|██████████| 17/17 [00:00<00:00, 21.70it/s, train_loss=0.00181, valid_loss=0.00138]\n",
      "Epoch: 16/50: 100%|██████████| 17/17 [00:00<00:00, 21.68it/s, train_loss=0.00143, valid_loss=0.0014]\n",
      "Epoch: 17/50: 100%|██████████| 17/17 [00:00<00:00, 22.38it/s, train_loss=0.00142, valid_loss=0.00131]\n",
      "Epoch: 18/50: 100%|██████████| 17/17 [00:00<00:00, 22.42it/s, train_loss=0.0014, valid_loss=0.00129]\n",
      "Epoch: 19/50: 100%|██████████| 17/17 [00:00<00:00, 21.82it/s, train_loss=0.00181, valid_loss=0.00126]\n",
      "Epoch: 20/50: 100%|██████████| 17/17 [00:00<00:00, 21.97it/s, train_loss=0.00138, valid_loss=0.00129]\n",
      "Epoch: 21/50: 100%|██████████| 17/17 [00:00<00:00, 21.98it/s, train_loss=0.00127, valid_loss=0.00133]\n",
      "Epoch: 22/50: 100%|██████████| 17/17 [00:00<00:00, 22.05it/s, train_loss=0.00137, valid_loss=0.00132]\n",
      "Epoch: 23/50: 100%|██████████| 17/17 [00:01<00:00, 14.12it/s, train_loss=0.00138, valid_loss=0.0016] \n",
      "Epoch: 24/50: 100%|██████████| 17/17 [00:00<00:00, 18.38it/s, train_loss=0.00136, valid_loss=0.00146]\n",
      "Epoch: 25/50: 100%|██████████| 17/17 [00:00<00:00, 17.69it/s, train_loss=0.00118, valid_loss=0.00129]\n",
      "Epoch: 26/50: 100%|██████████| 17/17 [00:00<00:00, 17.81it/s, train_loss=0.00119, valid_loss=0.0013] \n",
      "Epoch: 27/50: 100%|██████████| 17/17 [00:00<00:00, 17.83it/s, train_loss=0.0012, valid_loss=0.00138] \n",
      "Epoch: 28/50: 100%|██████████| 17/17 [00:00<00:00, 17.89it/s, train_loss=0.00119, valid_loss=0.00127]\n",
      "Epoch: 29/50: 100%|██████████| 17/17 [00:00<00:00, 17.88it/s, train_loss=0.00115, valid_loss=0.00136] \n",
      "Epoch: 30/50: 100%|██████████| 17/17 [00:00<00:00, 17.51it/s, train_loss=0.00115, valid_loss=0.00137]\n",
      "Epoch: 31/50: 100%|██████████| 17/17 [00:00<00:00, 17.79it/s, train_loss=0.00106, valid_loss=0.00139]\n",
      "Epoch: 32/50: 100%|██████████| 17/17 [00:00<00:00, 17.86it/s, train_loss=0.001, valid_loss=0.00168]   \n",
      "Epoch: 33/50: 100%|██████████| 17/17 [00:00<00:00, 17.82it/s, train_loss=0.000982, valid_loss=0.00144]\n",
      "Epoch: 34/50: 100%|██████████| 17/17 [00:00<00:00, 17.43it/s, train_loss=0.000877, valid_loss=0.0015] \n",
      "Epoch: 35/50: 100%|██████████| 17/17 [00:00<00:00, 17.49it/s, train_loss=0.00099, valid_loss=0.00142]\n",
      "Epoch: 36/50: 100%|██████████| 17/17 [00:00<00:00, 17.08it/s, train_loss=0.000822, valid_loss=0.00139]\n"
     ]
    },
    {
     "name": "stdout",
     "output_type": "stream",
     "text": [
      "cross-validation dataset 2\n"
     ]
    },
    {
     "name": "stderr",
     "output_type": "stream",
     "text": [
      "Epoch: 1/50: 100%|██████████| 25/25 [00:01<00:00, 18.65it/s, train_loss=0.146, valid_loss=0.195]\n",
      "Epoch: 2/50: 100%|██████████| 25/25 [00:01<00:00, 18.80it/s, train_loss=0.148, valid_loss=0.194]\n",
      "Epoch: 3/50: 100%|██████████| 25/25 [00:01<00:00, 18.76it/s, train_loss=0.154, valid_loss=0.194]\n",
      "Epoch: 4/50: 100%|██████████| 25/25 [00:01<00:00, 18.79it/s, train_loss=0.15, valid_loss=0.196] \n",
      "Epoch: 5/50: 100%|██████████| 25/25 [00:01<00:00, 18.69it/s, train_loss=0.148, valid_loss=0.194]\n",
      "Epoch: 6/50: 100%|██████████| 25/25 [00:01<00:00, 18.73it/s, train_loss=0.149, valid_loss=0.193]\n",
      "Epoch: 7/50: 100%|██████████| 25/25 [00:01<00:00, 18.93it/s, train_loss=0.147, valid_loss=0.194]\n",
      "Epoch: 8/50: 100%|██████████| 25/25 [00:01<00:00, 18.66it/s, train_loss=0.155, valid_loss=0.194]\n",
      "Epoch: 9/50: 100%|██████████| 25/25 [00:01<00:00, 18.78it/s, train_loss=0.153, valid_loss=0.194]\n",
      "Epoch: 10/50: 100%|██████████| 25/25 [00:01<00:00, 15.17it/s, train_loss=0.147, valid_loss=0.194]\n",
      "Epoch: 11/50: 100%|██████████| 25/25 [00:01<00:00, 21.96it/s, train_loss=0.147, valid_loss=0.194]\n",
      "Epoch: 12/50: 100%|██████████| 25/25 [00:01<00:00, 19.96it/s, train_loss=0.151, valid_loss=0.194]\n",
      "Epoch: 13/50: 100%|██████████| 25/25 [00:01<00:00, 18.84it/s, train_loss=0.147, valid_loss=0.194]\n",
      "Epoch: 14/50: 100%|██████████| 25/25 [00:01<00:00, 18.78it/s, train_loss=0.152, valid_loss=0.193]\n",
      "Epoch: 15/50: 100%|██████████| 25/25 [00:01<00:00, 18.78it/s, train_loss=0.143, valid_loss=0.194]\n",
      "Epoch: 16/50: 100%|██████████| 25/25 [00:01<00:00, 18.81it/s, train_loss=0.147, valid_loss=0.193]\n",
      "Epoch: 17/50: 100%|██████████| 25/25 [00:01<00:00, 18.75it/s, train_loss=0.147, valid_loss=0.193]\n",
      "Epoch: 18/50: 100%|██████████| 25/25 [00:01<00:00, 18.72it/s, train_loss=0.15, valid_loss=0.194] \n",
      "Epoch: 19/50: 100%|██████████| 25/25 [00:01<00:00, 18.64it/s, train_loss=0.152, valid_loss=0.192]\n",
      "Epoch: 20/50: 100%|██████████| 25/25 [00:01<00:00, 19.14it/s, train_loss=0.153, valid_loss=0.194]\n",
      "Epoch: 21/50: 100%|██████████| 25/25 [00:01<00:00, 20.92it/s, train_loss=0.148, valid_loss=0.193]\n",
      "Epoch: 22/50: 100%|██████████| 25/25 [00:01<00:00, 18.73it/s, train_loss=0.15, valid_loss=0.195] \n",
      "Epoch: 23/50: 100%|██████████| 25/25 [00:01<00:00, 18.72it/s, train_loss=0.143, valid_loss=0.195]\n",
      "Epoch: 24/50: 100%|██████████| 25/25 [00:01<00:00, 18.35it/s, train_loss=0.15, valid_loss=0.195] \n",
      "Epoch: 25/50: 100%|██████████| 25/25 [00:01<00:00, 18.81it/s, train_loss=0.147, valid_loss=0.194]\n",
      "Epoch: 26/50: 100%|██████████| 25/25 [00:01<00:00, 18.64it/s, train_loss=0.149, valid_loss=0.193]\n",
      "Epoch: 27/50: 100%|██████████| 25/25 [00:01<00:00, 18.79it/s, train_loss=0.148, valid_loss=0.196]\n",
      "Epoch: 28/50: 100%|██████████| 25/25 [00:01<00:00, 14.88it/s, train_loss=0.144, valid_loss=0.194]\n",
      "Epoch: 29/50: 100%|██████████| 25/25 [00:01<00:00, 19.27it/s, train_loss=0.154, valid_loss=0.195]\n",
      "Epoch: 30/50: 100%|██████████| 25/25 [00:01<00:00, 20.42it/s, train_loss=0.147, valid_loss=0.194]\n",
      "Epoch: 31/50: 100%|██████████| 25/25 [00:01<00:00, 19.72it/s, train_loss=0.143, valid_loss=0.194]\n",
      "Epoch: 32/50: 100%|██████████| 25/25 [00:01<00:00, 21.47it/s, train_loss=0.146, valid_loss=0.194]\n",
      "Epoch: 33/50: 100%|██████████| 25/25 [00:01<00:00, 22.78it/s, train_loss=0.149, valid_loss=0.196]\n",
      "Epoch: 34/50: 100%|██████████| 25/25 [00:01<00:00, 22.32it/s, train_loss=0.152, valid_loss=0.192]\n",
      "Epoch: 35/50: 100%|██████████| 25/25 [00:01<00:00, 21.05it/s, train_loss=0.145, valid_loss=0.194]\n",
      "Epoch: 36/50: 100%|██████████| 25/25 [00:01<00:00, 24.37it/s, train_loss=0.149, valid_loss=0.194]\n",
      "Epoch: 37/50: 100%|██████████| 25/25 [00:01<00:00, 24.01it/s, train_loss=0.152, valid_loss=0.194]\n",
      "Epoch: 38/50: 100%|██████████| 25/25 [00:01<00:00, 23.57it/s, train_loss=0.152, valid_loss=0.193]\n"
     ]
    },
    {
     "name": "stdout",
     "output_type": "stream",
     "text": [
      "cross-validation dataset 2\n"
     ]
    },
    {
     "name": "stderr",
     "output_type": "stream",
     "text": [
      "Epoch: 1/50: 100%|██████████| 25/25 [00:01<00:00, 24.01it/s, train_loss=0.0149, valid_loss=0.0196]\n",
      "Epoch: 2/50: 100%|██████████| 25/25 [00:01<00:00, 24.46it/s, train_loss=0.00373, valid_loss=0.00533]\n",
      "Epoch: 3/50: 100%|██████████| 25/25 [00:01<00:00, 24.53it/s, train_loss=0.00302, valid_loss=0.00361]\n",
      "Epoch: 4/50: 100%|██████████| 25/25 [00:01<00:00, 24.47it/s, train_loss=0.002, valid_loss=0.0033]   \n",
      "Epoch: 5/50: 100%|██████████| 25/25 [00:01<00:00, 24.21it/s, train_loss=0.0022, valid_loss=0.00293] \n",
      "Epoch: 6/50: 100%|██████████| 25/25 [00:01<00:00, 24.45it/s, train_loss=0.00162, valid_loss=0.00303]\n",
      "Epoch: 7/50: 100%|██████████| 25/25 [00:01<00:00, 24.52it/s, train_loss=0.0019, valid_loss=0.0029]  \n",
      "Epoch: 8/50: 100%|██████████| 25/25 [00:01<00:00, 24.62it/s, train_loss=0.00155, valid_loss=0.00317]\n",
      "Epoch: 9/50: 100%|██████████| 25/25 [00:01<00:00, 17.69it/s, train_loss=0.0019, valid_loss=0.00291] \n",
      "Epoch: 10/50: 100%|██████████| 25/25 [00:01<00:00, 24.62it/s, train_loss=0.00175, valid_loss=0.00332]\n",
      "Epoch: 11/50: 100%|██████████| 25/25 [00:01<00:00, 24.27it/s, train_loss=0.0015, valid_loss=0.00281] \n",
      "Epoch: 12/50: 100%|██████████| 25/25 [00:01<00:00, 24.58it/s, train_loss=0.00164, valid_loss=0.00331]\n",
      "Epoch: 13/50: 100%|██████████| 25/25 [00:01<00:00, 24.44it/s, train_loss=0.00138, valid_loss=0.00267]\n",
      "Epoch: 14/50: 100%|██████████| 25/25 [00:01<00:00, 23.92it/s, train_loss=0.00136, valid_loss=0.00287]\n",
      "Epoch: 15/50: 100%|██████████| 25/25 [00:01<00:00, 24.38it/s, train_loss=0.00148, valid_loss=0.00281]\n",
      "Epoch: 16/50: 100%|██████████| 25/25 [00:01<00:00, 24.49it/s, train_loss=0.00141, valid_loss=0.0024] \n",
      "Epoch: 17/50: 100%|██████████| 25/25 [00:01<00:00, 24.62it/s, train_loss=0.00125, valid_loss=0.00249] \n",
      "Epoch: 18/50: 100%|██████████| 25/25 [00:01<00:00, 24.39it/s, train_loss=0.00117, valid_loss=0.00302]\n",
      "Epoch: 19/50: 100%|██████████| 25/25 [00:01<00:00, 23.64it/s, train_loss=0.00103, valid_loss=0.00275]\n",
      "Epoch: 20/50: 100%|██████████| 25/25 [00:01<00:00, 23.49it/s, train_loss=0.00134, valid_loss=0.00347] \n",
      "Epoch: 21/50: 100%|██████████| 25/25 [00:01<00:00, 23.51it/s, train_loss=0.0011, valid_loss=0.00394]  \n",
      "Epoch: 22/50: 100%|██████████| 25/25 [00:01<00:00, 23.54it/s, train_loss=0.00131, valid_loss=0.00362]\n",
      "Epoch: 23/50: 100%|██████████| 25/25 [00:01<00:00, 23.72it/s, train_loss=0.000885, valid_loss=0.00372]\n",
      "Epoch: 24/50: 100%|██████████| 25/25 [00:01<00:00, 24.33it/s, train_loss=0.000959, valid_loss=0.00422]\n",
      "Epoch: 25/50: 100%|██████████| 25/25 [00:01<00:00, 24.40it/s, train_loss=0.000833, valid_loss=0.00492]\n",
      "Epoch: 26/50: 100%|██████████| 25/25 [00:01<00:00, 24.40it/s, train_loss=0.000806, valid_loss=0.00524]\n"
     ]
    },
    {
     "name": "stdout",
     "output_type": "stream",
     "text": [
      "cross-validation dataset 3\n"
     ]
    },
    {
     "name": "stderr",
     "output_type": "stream",
     "text": [
      "Epoch: 1/50: 100%|██████████| 33/33 [00:01<00:00, 18.14it/s, train_loss=0.163, valid_loss=0.192]\n",
      "Epoch: 2/50: 100%|██████████| 33/33 [00:01<00:00, 23.04it/s, train_loss=0.167, valid_loss=0.19] \n",
      "Epoch: 3/50: 100%|██████████| 33/33 [00:01<00:00, 22.70it/s, train_loss=0.166, valid_loss=0.19] \n",
      "Epoch: 4/50: 100%|██████████| 33/33 [00:01<00:00, 23.70it/s, train_loss=0.17, valid_loss=0.192] \n",
      "Epoch: 5/50: 100%|██████████| 33/33 [00:01<00:00, 23.47it/s, train_loss=0.163, valid_loss=0.191]\n",
      "Epoch: 6/50: 100%|██████████| 33/33 [00:01<00:00, 22.38it/s, train_loss=0.158, valid_loss=0.191]\n",
      "Epoch: 7/50: 100%|██████████| 33/33 [00:01<00:00, 22.97it/s, train_loss=0.156, valid_loss=0.19] \n",
      "Epoch: 8/50: 100%|██████████| 33/33 [00:01<00:00, 23.04it/s, train_loss=0.168, valid_loss=0.191]\n",
      "Epoch: 9/50: 100%|██████████| 33/33 [00:01<00:00, 23.77it/s, train_loss=0.166, valid_loss=0.192]\n",
      "Epoch: 10/50: 100%|██████████| 33/33 [00:01<00:00, 23.72it/s, train_loss=0.152, valid_loss=0.191]\n",
      "Epoch: 11/50: 100%|██████████| 33/33 [00:01<00:00, 18.57it/s, train_loss=0.157, valid_loss=0.19] \n",
      "Epoch: 12/50: 100%|██████████| 33/33 [00:01<00:00, 23.76it/s, train_loss=0.165, valid_loss=0.191]\n",
      "Epoch: 13/50: 100%|██████████| 33/33 [00:02<00:00, 15.37it/s, train_loss=0.16, valid_loss=0.192] \n",
      "Epoch: 14/50: 100%|██████████| 33/33 [00:02<00:00, 16.40it/s, train_loss=0.162, valid_loss=0.189]\n",
      "Epoch: 15/50: 100%|██████████| 33/33 [00:02<00:00, 14.92it/s, train_loss=0.156, valid_loss=0.192]\n",
      "Epoch: 16/50: 100%|██████████| 33/33 [00:02<00:00, 15.36it/s, train_loss=0.161, valid_loss=0.192]\n",
      "Epoch: 17/50: 100%|██████████| 33/33 [00:02<00:00, 16.30it/s, train_loss=0.171, valid_loss=0.19] \n",
      "Epoch: 18/50: 100%|██████████| 33/33 [00:01<00:00, 17.80it/s, train_loss=0.166, valid_loss=0.192]\n"
     ]
    },
    {
     "name": "stdout",
     "output_type": "stream",
     "text": [
      "cross-validation dataset 3\n"
     ]
    },
    {
     "name": "stderr",
     "output_type": "stream",
     "text": [
      "Epoch: 1/50: 100%|██████████| 33/33 [00:01<00:00, 18.44it/s, train_loss=0.00905, valid_loss=0.00654]\n",
      "Epoch: 2/50: 100%|██████████| 33/33 [00:01<00:00, 21.26it/s, train_loss=0.00237, valid_loss=0.00171]\n",
      "Epoch: 3/50: 100%|██████████| 33/33 [00:01<00:00, 23.74it/s, train_loss=0.00234, valid_loss=0.00117]\n",
      "Epoch: 4/50: 100%|██████████| 33/33 [00:01<00:00, 23.58it/s, train_loss=0.00195, valid_loss=0.00117]\n",
      "Epoch: 5/50: 100%|██████████| 33/33 [00:01<00:00, 23.08it/s, train_loss=0.00189, valid_loss=0.00111]\n",
      "Epoch: 6/50: 100%|██████████| 33/33 [00:01<00:00, 23.36it/s, train_loss=0.00189, valid_loss=0.00121]\n",
      "Epoch: 7/50: 100%|██████████| 33/33 [00:02<00:00, 15.54it/s, train_loss=0.00163, valid_loss=0.00101] \n",
      "Epoch: 8/50: 100%|██████████| 33/33 [00:01<00:00, 17.19it/s, train_loss=0.00174, valid_loss=0.000858]\n",
      "Epoch: 9/50: 100%|██████████| 33/33 [00:01<00:00, 18.33it/s, train_loss=0.00192, valid_loss=0.000873]\n",
      "Epoch: 10/50: 100%|██████████| 33/33 [00:01<00:00, 18.25it/s, train_loss=0.00208, valid_loss=0.000872]\n",
      "Epoch: 11/50: 100%|██████████| 33/33 [00:01<00:00, 18.20it/s, train_loss=0.00148, valid_loss=0.00137] \n",
      "Epoch: 12/50: 100%|██████████| 33/33 [00:01<00:00, 18.25it/s, train_loss=0.002, valid_loss=0.00128]   \n",
      "Epoch: 13/50: 100%|██████████| 33/33 [00:01<00:00, 18.21it/s, train_loss=0.00143, valid_loss=0.000968]\n",
      "Epoch: 14/50: 100%|██████████| 33/33 [00:01<00:00, 18.09it/s, train_loss=0.00132, valid_loss=0.00167]\n",
      "Epoch: 15/50: 100%|██████████| 33/33 [00:01<00:00, 21.70it/s, train_loss=0.00164, valid_loss=0.00182]\n",
      "Epoch: 16/50: 100%|██████████| 33/33 [00:01<00:00, 21.82it/s, train_loss=0.00126, valid_loss=0.00145]\n"
     ]
    },
    {
     "name": "stdout",
     "output_type": "stream",
     "text": [
      "cross-validation dataset 4\n"
     ]
    },
    {
     "name": "stderr",
     "output_type": "stream",
     "text": [
      "Epoch: 1/50: 100%|██████████| 42/42 [00:02<00:00, 18.85it/s, train_loss=0.00668, valid_loss=0.00775]\n",
      "Epoch: 2/50: 100%|██████████| 42/42 [00:01<00:00, 23.60it/s, train_loss=0.00236, valid_loss=0.00384]\n",
      "Epoch: 3/50: 100%|██████████| 42/42 [00:01<00:00, 23.04it/s, train_loss=0.00199, valid_loss=0.00301]\n",
      "Epoch: 4/50: 100%|██████████| 42/42 [00:01<00:00, 22.91it/s, train_loss=0.0018, valid_loss=0.00323] \n",
      "Epoch: 5/50: 100%|██████████| 42/42 [00:01<00:00, 22.95it/s, train_loss=0.00165, valid_loss=0.00296]\n",
      "Epoch: 6/50: 100%|██████████| 42/42 [00:01<00:00, 23.02it/s, train_loss=0.00163, valid_loss=0.00319]\n",
      "Epoch: 7/50: 100%|██████████| 42/42 [00:01<00:00, 22.84it/s, train_loss=0.00145, valid_loss=0.00256]\n",
      "Epoch: 8/50: 100%|██████████| 42/42 [00:01<00:00, 22.97it/s, train_loss=0.00186, valid_loss=0.00272]\n",
      "Epoch: 9/50: 100%|██████████| 42/42 [00:02<00:00, 19.22it/s, train_loss=0.00145, valid_loss=0.00266]\n",
      "Epoch: 10/50: 100%|██████████| 42/42 [00:02<00:00, 19.02it/s, train_loss=0.00144, valid_loss=0.00267]\n",
      "Epoch: 11/50: 100%|██████████| 42/42 [00:01<00:00, 22.32it/s, train_loss=0.00132, valid_loss=0.00259]\n",
      "Epoch: 12/50: 100%|██████████| 42/42 [00:01<00:00, 23.54it/s, train_loss=0.00135, valid_loss=0.00231]\n",
      "Epoch: 13/50: 100%|██████████| 42/42 [00:01<00:00, 23.42it/s, train_loss=0.00126, valid_loss=0.00238]\n",
      "Epoch: 14/50: 100%|██████████| 42/42 [00:01<00:00, 23.27it/s, train_loss=0.00117, valid_loss=0.00217]\n",
      "Epoch: 15/50: 100%|██████████| 42/42 [00:01<00:00, 23.56it/s, train_loss=0.00129, valid_loss=0.00246]\n",
      "Epoch: 16/50: 100%|██████████| 42/42 [00:01<00:00, 23.40it/s, train_loss=0.00116, valid_loss=0.00249]\n",
      "Epoch: 17/50: 100%|██████████| 42/42 [00:01<00:00, 23.40it/s, train_loss=0.00109, valid_loss=0.00237] \n",
      "Epoch: 18/50: 100%|██████████| 42/42 [00:01<00:00, 23.48it/s, train_loss=0.000975, valid_loss=0.0023] \n",
      "Epoch: 19/50: 100%|██████████| 42/42 [00:01<00:00, 23.51it/s, train_loss=0.00105, valid_loss=0.00228] \n",
      "Epoch: 20/50: 100%|██████████| 42/42 [00:01<00:00, 23.16it/s, train_loss=0.000908, valid_loss=0.00252]\n"
     ]
    },
    {
     "name": "stdout",
     "output_type": "stream",
     "text": [
      "model config: batch_size-256, lr-0.01, number_epoch-50, hidden_dim-120, n_layers-3,drop_prob-0,weight_decay-0\n",
      "cross-validation dataset 0\n"
     ]
    },
    {
     "name": "stderr",
     "output_type": "stream",
     "text": [
      "Epoch: 1/50: 100%|██████████| 17/17 [00:01<00:00, 14.67it/s, train_loss=0.11, valid_loss=0.174] \n",
      "Epoch: 2/50: 100%|██████████| 17/17 [00:01<00:00, 11.46it/s, train_loss=0.109, valid_loss=0.175]\n",
      "Epoch: 3/50: 100%|██████████| 17/17 [00:01<00:00, 11.55it/s, train_loss=0.113, valid_loss=0.175] \n",
      "Epoch: 4/50: 100%|██████████| 17/17 [00:01<00:00, 11.61it/s, train_loss=0.101, valid_loss=0.176]\n",
      "Epoch: 5/50: 100%|██████████| 17/17 [00:01<00:00, 11.65it/s, train_loss=0.108, valid_loss=0.175]\n",
      "Epoch: 6/50: 100%|██████████| 17/17 [00:01<00:00, 12.26it/s, train_loss=0.104, valid_loss=0.176]\n",
      "Epoch: 7/50: 100%|██████████| 17/17 [00:01<00:00, 14.45it/s, train_loss=0.106, valid_loss=0.175]\n",
      "Epoch: 8/50: 100%|██████████| 17/17 [00:01<00:00, 14.49it/s, train_loss=0.11, valid_loss=0.175] \n",
      "Epoch: 9/50: 100%|██████████| 17/17 [00:01<00:00, 14.60it/s, train_loss=0.109, valid_loss=0.175]\n",
      "Epoch: 10/50: 100%|██████████| 17/17 [00:01<00:00, 14.64it/s, train_loss=0.103, valid_loss=0.175]\n",
      "Epoch: 11/50: 100%|██████████| 17/17 [00:01<00:00, 14.64it/s, train_loss=0.107, valid_loss=0.175]\n",
      "Epoch: 12/50: 100%|██████████| 17/17 [00:01<00:00, 15.76it/s, train_loss=0.11, valid_loss=0.174] \n",
      "Epoch: 13/50: 100%|██████████| 17/17 [00:01<00:00, 11.99it/s, train_loss=0.108, valid_loss=0.175]\n",
      "Epoch: 14/50: 100%|██████████| 17/17 [00:01<00:00, 16.04it/s, train_loss=0.104, valid_loss=0.175]\n",
      "Epoch: 15/50: 100%|██████████| 17/17 [00:01<00:00, 15.45it/s, train_loss=0.115, valid_loss=0.175]\n",
      "Epoch: 16/50: 100%|██████████| 17/17 [00:01<00:00, 16.95it/s, train_loss=0.109, valid_loss=0.175]\n",
      "Epoch: 17/50: 100%|██████████| 17/17 [00:01<00:00, 15.78it/s, train_loss=0.105, valid_loss=0.175]\n",
      "Epoch: 18/50: 100%|██████████| 17/17 [00:01<00:00, 16.02it/s, train_loss=0.102, valid_loss=0.176]\n",
      "Epoch: 19/50: 100%|██████████| 17/17 [00:01<00:00, 15.99it/s, train_loss=0.106, valid_loss=0.175]\n",
      "Epoch: 20/50: 100%|██████████| 17/17 [00:01<00:00, 16.55it/s, train_loss=0.106, valid_loss=0.175]\n",
      "Epoch: 21/50: 100%|██████████| 17/17 [00:01<00:00, 15.83it/s, train_loss=0.106, valid_loss=0.175]\n",
      "Epoch: 22/50: 100%|██████████| 17/17 [00:01<00:00, 15.78it/s, train_loss=0.109, valid_loss=0.175]\n",
      "Epoch: 23/50: 100%|██████████| 17/17 [00:01<00:00, 15.65it/s, train_loss=0.107, valid_loss=0.175]\n",
      "Epoch: 24/50: 100%|██████████| 17/17 [00:01<00:00, 16.68it/s, train_loss=0.107, valid_loss=0.174]\n",
      "Epoch: 25/50: 100%|██████████| 17/17 [00:01<00:00, 15.80it/s, train_loss=0.108, valid_loss=0.175]\n",
      "Epoch: 26/50: 100%|██████████| 17/17 [00:01<00:00, 15.91it/s, train_loss=0.111, valid_loss=0.175]\n",
      "Epoch: 27/50: 100%|██████████| 17/17 [00:01<00:00, 15.74it/s, train_loss=0.107, valid_loss=0.174]\n",
      "Epoch: 28/50: 100%|██████████| 17/17 [00:01<00:00, 16.03it/s, train_loss=0.109, valid_loss=0.175]\n",
      "Epoch: 29/50: 100%|██████████| 17/17 [00:01<00:00, 16.43it/s, train_loss=0.11, valid_loss=0.175] \n",
      "Epoch: 30/50: 100%|██████████| 17/17 [00:01<00:00, 16.17it/s, train_loss=0.105, valid_loss=0.175]\n",
      "Epoch: 31/50: 100%|██████████| 17/17 [00:01<00:00, 15.96it/s, train_loss=0.11, valid_loss=0.175] \n",
      "Epoch: 32/50: 100%|██████████| 17/17 [00:01<00:00, 16.23it/s, train_loss=0.108, valid_loss=0.175]\n",
      "Epoch: 33/50: 100%|██████████| 17/17 [00:01<00:00, 16.45it/s, train_loss=0.106, valid_loss=0.175]\n",
      "Epoch: 34/50: 100%|██████████| 17/17 [00:01<00:00, 15.95it/s, train_loss=0.106, valid_loss=0.175]\n",
      "Epoch: 35/50: 100%|██████████| 17/17 [00:01<00:00, 16.83it/s, train_loss=0.108, valid_loss=0.175]\n"
     ]
    },
    {
     "name": "stdout",
     "output_type": "stream",
     "text": [
      "cross-validation dataset 0\n"
     ]
    },
    {
     "name": "stderr",
     "output_type": "stream",
     "text": [
      "Epoch: 1/50: 100%|██████████| 17/17 [00:01<00:00, 14.67it/s, train_loss=0.108, valid_loss=0.175]\n",
      "Epoch: 2/50: 100%|██████████| 17/17 [00:01<00:00, 14.67it/s, train_loss=0.103, valid_loss=0.175]\n",
      "Epoch: 3/50: 100%|██████████| 17/17 [00:01<00:00, 13.88it/s, train_loss=0.11, valid_loss=0.175] \n",
      "Epoch: 4/50: 100%|██████████| 17/17 [00:01<00:00, 15.00it/s, train_loss=0.109, valid_loss=0.176]\n",
      "Epoch: 5/50: 100%|██████████| 17/17 [00:01<00:00, 15.86it/s, train_loss=0.108, valid_loss=0.175]\n",
      "Epoch: 6/50: 100%|██████████| 17/17 [00:01<00:00, 15.82it/s, train_loss=0.112, valid_loss=0.174]\n",
      "Epoch: 7/50: 100%|██████████| 17/17 [00:01<00:00, 15.83it/s, train_loss=0.103, valid_loss=0.175]\n",
      "Epoch: 8/50: 100%|██████████| 17/17 [00:01<00:00, 16.92it/s, train_loss=0.109, valid_loss=0.175]\n",
      "Epoch: 9/50: 100%|██████████| 17/17 [00:01<00:00, 16.52it/s, train_loss=0.106, valid_loss=0.175]\n",
      "Epoch: 10/50: 100%|██████████| 17/17 [00:00<00:00, 19.48it/s, train_loss=0.11, valid_loss=0.175] \n",
      "Epoch: 11/50: 100%|██████████| 17/17 [00:00<00:00, 17.82it/s, train_loss=0.107, valid_loss=0.174]\n",
      "Epoch: 12/50: 100%|██████████| 17/17 [00:01<00:00, 16.36it/s, train_loss=0.103, valid_loss=0.176]\n",
      "Epoch: 13/50: 100%|██████████| 17/17 [00:01<00:00, 16.48it/s, train_loss=0.103, valid_loss=0.175]\n",
      "Epoch: 14/50: 100%|██████████| 17/17 [00:01<00:00, 16.50it/s, train_loss=0.101, valid_loss=0.175]\n",
      "Epoch: 15/50: 100%|██████████| 17/17 [00:01<00:00, 16.49it/s, train_loss=0.107, valid_loss=0.175]\n",
      "Epoch: 16/50: 100%|██████████| 17/17 [00:01<00:00, 16.50it/s, train_loss=0.104, valid_loss=0.174]\n",
      "Epoch: 17/50: 100%|██████████| 17/17 [00:01<00:00, 16.47it/s, train_loss=0.115, valid_loss=0.175]\n",
      "Epoch: 18/50: 100%|██████████| 17/17 [00:01<00:00, 16.63it/s, train_loss=0.114, valid_loss=0.175] \n",
      "Epoch: 19/50: 100%|██████████| 17/17 [00:01<00:00, 16.36it/s, train_loss=0.11, valid_loss=0.176] \n",
      "Epoch: 20/50: 100%|██████████| 17/17 [00:01<00:00, 16.49it/s, train_loss=0.114, valid_loss=0.175]\n",
      "Epoch: 21/50: 100%|██████████| 17/17 [00:01<00:00, 10.52it/s, train_loss=0.106, valid_loss=0.175]\n",
      "Epoch: 22/50: 100%|██████████| 17/17 [00:01<00:00, 16.45it/s, train_loss=0.102, valid_loss=0.175]\n",
      "Epoch: 23/50: 100%|██████████| 17/17 [00:01<00:00, 16.65it/s, train_loss=0.101, valid_loss=0.176]\n"
     ]
    },
    {
     "name": "stdout",
     "output_type": "stream",
     "text": [
      "cross-validation dataset 0\n"
     ]
    },
    {
     "name": "stderr",
     "output_type": "stream",
     "text": [
      "Epoch: 1/50: 100%|██████████| 17/17 [00:01<00:00, 16.48it/s, train_loss=0.105, valid_loss=0.175]\n",
      "Epoch: 2/50: 100%|██████████| 17/17 [00:01<00:00, 16.46it/s, train_loss=0.111, valid_loss=0.175]\n",
      "Epoch: 3/50: 100%|██████████| 17/17 [00:01<00:00, 16.36it/s, train_loss=0.106, valid_loss=0.175]\n",
      "Epoch: 4/50: 100%|██████████| 17/17 [00:01<00:00, 16.32it/s, train_loss=0.113, valid_loss=0.174]\n",
      "Epoch: 5/50: 100%|██████████| 17/17 [00:01<00:00, 16.48it/s, train_loss=0.11, valid_loss=0.175] \n",
      "Epoch: 6/50: 100%|██████████| 17/17 [00:01<00:00, 16.77it/s, train_loss=0.105, valid_loss=0.175]\n",
      "Epoch: 7/50: 100%|██████████| 17/17 [00:01<00:00, 16.30it/s, train_loss=0.107, valid_loss=0.175]\n",
      "Epoch: 8/50: 100%|██████████| 17/17 [00:01<00:00, 16.72it/s, train_loss=0.0987, valid_loss=0.175]\n",
      "Epoch: 9/50: 100%|██████████| 17/17 [00:01<00:00, 16.38it/s, train_loss=0.112, valid_loss=0.175]\n",
      "Epoch: 10/50: 100%|██████████| 17/17 [00:01<00:00, 16.50it/s, train_loss=0.106, valid_loss=0.175]\n",
      "Epoch: 11/50: 100%|██████████| 17/17 [00:01<00:00, 16.67it/s, train_loss=0.11, valid_loss=0.175] \n",
      "Epoch: 12/50: 100%|██████████| 17/17 [00:01<00:00, 16.45it/s, train_loss=0.105, valid_loss=0.175]\n",
      "Epoch: 13/50: 100%|██████████| 17/17 [00:01<00:00, 16.50it/s, train_loss=0.11, valid_loss=0.175] \n",
      "Epoch: 14/50: 100%|██████████| 17/17 [00:01<00:00, 16.33it/s, train_loss=0.115, valid_loss=0.175]\n",
      "Epoch: 15/50: 100%|██████████| 17/17 [00:01<00:00, 16.45it/s, train_loss=0.102, valid_loss=0.175]\n",
      "Epoch: 16/50: 100%|██████████| 17/17 [00:01<00:00, 16.60it/s, train_loss=0.107, valid_loss=0.175]\n",
      "Epoch: 17/50: 100%|██████████| 17/17 [00:01<00:00, 16.31it/s, train_loss=0.113, valid_loss=0.175]\n",
      "Epoch: 18/50: 100%|██████████| 17/17 [00:01<00:00, 16.34it/s, train_loss=0.104, valid_loss=0.176]\n",
      "Epoch: 19/50: 100%|██████████| 17/17 [00:01<00:00, 16.46it/s, train_loss=0.106, valid_loss=0.176]\n",
      "Epoch: 20/50: 100%|██████████| 17/17 [00:01<00:00, 16.46it/s, train_loss=0.109, valid_loss=0.175]\n",
      "Epoch: 21/50: 100%|██████████| 17/17 [00:01<00:00, 16.47it/s, train_loss=0.102, valid_loss=0.174]\n",
      "Epoch: 22/50: 100%|██████████| 17/17 [00:01<00:00, 16.33it/s, train_loss=0.108, valid_loss=0.175]\n",
      "Epoch: 23/50: 100%|██████████| 17/17 [00:01<00:00, 16.44it/s, train_loss=0.108, valid_loss=0.176]\n",
      "Epoch: 24/50: 100%|██████████| 17/17 [00:01<00:00, 16.49it/s, train_loss=0.107, valid_loss=0.175]\n",
      "Epoch: 25/50: 100%|██████████| 17/17 [00:01<00:00, 16.36it/s, train_loss=0.117, valid_loss=0.175]\n",
      "Epoch: 26/50: 100%|██████████| 17/17 [00:01<00:00, 16.44it/s, train_loss=0.107, valid_loss=0.175]\n",
      "Epoch: 27/50: 100%|██████████| 17/17 [00:01<00:00, 16.19it/s, train_loss=0.11, valid_loss=0.175] \n",
      "Epoch: 28/50: 100%|██████████| 17/17 [00:01<00:00, 16.84it/s, train_loss=0.112, valid_loss=0.175]\n",
      "Epoch: 29/50: 100%|██████████| 17/17 [00:01<00:00, 16.65it/s, train_loss=0.106, valid_loss=0.176]\n",
      "Epoch: 30/50: 100%|██████████| 17/17 [00:01<00:00, 16.46it/s, train_loss=0.107, valid_loss=0.175]\n"
     ]
    },
    {
     "name": "stdout",
     "output_type": "stream",
     "text": [
      "cross-validation dataset 0\n"
     ]
    },
    {
     "name": "stderr",
     "output_type": "stream",
     "text": [
      "Epoch: 1/50: 100%|██████████| 17/17 [00:01<00:00, 16.50it/s, train_loss=0.0178, valid_loss=0.0446]\n",
      "Epoch: 2/50: 100%|██████████| 17/17 [00:01<00:00, 16.47it/s, train_loss=0.014, valid_loss=0.0394] \n",
      "Epoch: 3/50: 100%|██████████| 17/17 [00:01<00:00, 16.47it/s, train_loss=0.00647, valid_loss=0.0367]\n",
      "Epoch: 4/50: 100%|██████████| 17/17 [00:01<00:00, 15.90it/s, train_loss=0.00391, valid_loss=0.0279]\n",
      "Epoch: 5/50: 100%|██████████| 17/17 [00:01<00:00, 16.71it/s, train_loss=0.00239, valid_loss=0.00586]\n",
      "Epoch: 6/50: 100%|██████████| 17/17 [00:01<00:00, 16.41it/s, train_loss=0.00277, valid_loss=0.00483]\n",
      "Epoch: 7/50: 100%|██████████| 17/17 [00:01<00:00, 16.31it/s, train_loss=0.00197, valid_loss=0.00416]\n",
      "Epoch: 8/50: 100%|██████████| 17/17 [00:01<00:00, 16.29it/s, train_loss=0.00175, valid_loss=0.00458]\n",
      "Epoch: 9/50: 100%|██████████| 17/17 [00:01<00:00, 16.29it/s, train_loss=0.00163, valid_loss=0.0036] \n",
      "Epoch: 10/50: 100%|██████████| 17/17 [00:01<00:00, 16.29it/s, train_loss=0.00193, valid_loss=0.00341]\n",
      "Epoch: 11/50: 100%|██████████| 17/17 [00:01<00:00, 10.35it/s, train_loss=0.00147, valid_loss=0.00345]\n",
      "Epoch: 12/50: 100%|██████████| 17/17 [00:01<00:00, 15.07it/s, train_loss=0.00146, valid_loss=0.00479]\n",
      "Epoch: 13/50: 100%|██████████| 17/17 [00:01<00:00, 16.31it/s, train_loss=0.00127, valid_loss=0.00472]\n",
      "Epoch: 14/50: 100%|██████████| 17/17 [00:01<00:00, 16.51it/s, train_loss=0.00177, valid_loss=0.0053] \n",
      "Epoch: 15/50: 100%|██████████| 17/17 [00:01<00:00, 16.87it/s, train_loss=0.00138, valid_loss=0.00452]\n",
      "Epoch: 16/50: 100%|██████████| 17/17 [00:01<00:00, 16.58it/s, train_loss=0.00137, valid_loss=0.00431]\n",
      "Epoch: 17/50: 100%|██████████| 17/17 [00:01<00:00, 16.68it/s, train_loss=0.0016, valid_loss=0.00396] \n",
      "Epoch: 18/50: 100%|██████████| 17/17 [00:01<00:00, 16.49it/s, train_loss=0.00165, valid_loss=0.00438]\n",
      "Epoch: 19/50: 100%|██████████| 17/17 [00:01<00:00, 16.36it/s, train_loss=0.00137, valid_loss=0.00404]\n",
      "Epoch: 20/50: 100%|██████████| 17/17 [00:01<00:00, 15.95it/s, train_loss=0.00125, valid_loss=0.00474]\n",
      "Epoch: 21/50: 100%|██████████| 17/17 [00:01<00:00, 16.27it/s, train_loss=0.00123, valid_loss=0.00688]\n",
      "Epoch: 22/50: 100%|██████████| 17/17 [00:01<00:00, 16.03it/s, train_loss=0.00125, valid_loss=0.00736]\n",
      "Epoch: 23/50: 100%|██████████| 17/17 [00:01<00:00, 14.75it/s, train_loss=0.00165, valid_loss=0.00958]\n"
     ]
    },
    {
     "name": "stdout",
     "output_type": "stream",
     "text": [
      "cross-validation dataset 1\n"
     ]
    },
    {
     "name": "stderr",
     "output_type": "stream",
     "text": [
      "Epoch: 1/50: 100%|██████████| 33/33 [00:01<00:00, 17.05it/s, train_loss=0.145, valid_loss=0.162]\n",
      "Epoch: 2/50: 100%|██████████| 33/33 [00:01<00:00, 17.27it/s, train_loss=0.143, valid_loss=0.161]\n",
      "Epoch: 3/50: 100%|██████████| 33/33 [00:01<00:00, 17.51it/s, train_loss=0.152, valid_loss=0.162]\n",
      "Epoch: 4/50: 100%|██████████| 33/33 [00:01<00:00, 17.35it/s, train_loss=0.142, valid_loss=0.162]\n",
      "Epoch: 5/50: 100%|██████████| 33/33 [00:01<00:00, 17.24it/s, train_loss=0.148, valid_loss=0.163]\n",
      "Epoch: 6/50: 100%|██████████| 33/33 [00:01<00:00, 17.32it/s, train_loss=0.131, valid_loss=0.162]\n",
      "Epoch: 7/50: 100%|██████████| 33/33 [00:01<00:00, 17.23it/s, train_loss=0.143, valid_loss=0.162]\n",
      "Epoch: 8/50: 100%|██████████| 33/33 [00:01<00:00, 17.47it/s, train_loss=0.139, valid_loss=0.162]\n",
      "Epoch: 9/50: 100%|██████████| 33/33 [00:01<00:00, 17.56it/s, train_loss=0.15, valid_loss=0.162] \n"
     ]
    },
    {
     "name": "stdout",
     "output_type": "stream",
     "text": [
      "cross-validation dataset 1\n"
     ]
    },
    {
     "name": "stderr",
     "output_type": "stream",
     "text": [
      "Epoch: 1/50: 100%|██████████| 33/33 [00:01<00:00, 17.34it/s, train_loss=0.141, valid_loss=0.162]\n",
      "Epoch: 2/50: 100%|██████████| 33/33 [00:01<00:00, 17.59it/s, train_loss=0.141, valid_loss=0.162]\n",
      "Epoch: 3/50: 100%|██████████| 33/33 [00:01<00:00, 17.29it/s, train_loss=0.15, valid_loss=0.163] \n",
      "Epoch: 4/50: 100%|██████████| 33/33 [00:01<00:00, 17.52it/s, train_loss=0.146, valid_loss=0.162]\n",
      "Epoch: 5/50: 100%|██████████| 33/33 [00:01<00:00, 17.46it/s, train_loss=0.137, valid_loss=0.162]\n",
      "Epoch: 6/50: 100%|██████████| 33/33 [00:01<00:00, 17.21it/s, train_loss=0.139, valid_loss=0.162]\n",
      "Epoch: 7/50: 100%|██████████| 33/33 [00:01<00:00, 16.94it/s, train_loss=0.14, valid_loss=0.162] \n",
      "Epoch: 8/50: 100%|██████████| 33/33 [00:01<00:00, 17.22it/s, train_loss=0.141, valid_loss=0.162]\n",
      "Epoch: 9/50: 100%|██████████| 33/33 [00:02<00:00, 13.49it/s, train_loss=0.139, valid_loss=0.162]\n",
      "Epoch: 10/50: 100%|██████████| 33/33 [00:01<00:00, 17.33it/s, train_loss=0.143, valid_loss=0.162]\n",
      "Epoch: 11/50: 100%|██████████| 33/33 [00:01<00:00, 17.40it/s, train_loss=0.136, valid_loss=0.162]\n"
     ]
    },
    {
     "name": "stdout",
     "output_type": "stream",
     "text": [
      "cross-validation dataset 1\n"
     ]
    },
    {
     "name": "stderr",
     "output_type": "stream",
     "text": [
      "Epoch: 1/50: 100%|██████████| 33/33 [00:01<00:00, 16.52it/s, train_loss=0.0275, valid_loss=0.0324]\n",
      "Epoch: 2/50: 100%|██████████| 33/33 [00:01<00:00, 16.66it/s, train_loss=0.0105, valid_loss=0.0119]\n",
      "Epoch: 3/50: 100%|██████████| 33/33 [00:02<00:00, 16.22it/s, train_loss=0.00327, valid_loss=0.00354]\n",
      "Epoch: 4/50: 100%|██████████| 33/33 [00:01<00:00, 17.17it/s, train_loss=0.00328, valid_loss=0.00339]\n",
      "Epoch: 5/50: 100%|██████████| 33/33 [00:01<00:00, 17.14it/s, train_loss=0.00222, valid_loss=0.00224]\n",
      "Epoch: 6/50: 100%|██████████| 33/33 [00:01<00:00, 17.33it/s, train_loss=0.0024, valid_loss=0.0018]  \n",
      "Epoch: 7/50: 100%|██████████| 33/33 [00:01<00:00, 17.15it/s, train_loss=0.00279, valid_loss=0.00173]\n",
      "Epoch: 8/50: 100%|██████████| 33/33 [00:01<00:00, 17.07it/s, train_loss=0.00222, valid_loss=0.0017] \n",
      "Epoch: 9/50: 100%|██████████| 33/33 [00:01<00:00, 17.19it/s, train_loss=0.00194, valid_loss=0.0016] \n",
      "Epoch: 10/50: 100%|██████████| 33/33 [00:02<00:00, 16.19it/s, train_loss=0.00153, valid_loss=0.00173]\n",
      "Epoch: 11/50: 100%|██████████| 33/33 [00:01<00:00, 16.77it/s, train_loss=0.00131, valid_loss=0.00154]\n",
      "Epoch: 12/50: 100%|██████████| 33/33 [00:01<00:00, 16.71it/s, train_loss=0.00173, valid_loss=0.00171]\n",
      "Epoch: 13/50: 100%|██████████| 33/33 [00:01<00:00, 16.78it/s, train_loss=0.00173, valid_loss=0.00198]\n",
      "Epoch: 14/50: 100%|██████████| 33/33 [00:01<00:00, 16.61it/s, train_loss=0.00156, valid_loss=0.00153]\n",
      "Epoch: 15/50: 100%|██████████| 33/33 [00:01<00:00, 16.91it/s, train_loss=0.0019, valid_loss=0.00142] \n",
      "Epoch: 16/50: 100%|██████████| 33/33 [00:01<00:00, 16.99it/s, train_loss=0.00127, valid_loss=0.00145]\n",
      "Epoch: 17/50: 100%|██████████| 33/33 [00:01<00:00, 16.88it/s, train_loss=0.00119, valid_loss=0.00137]\n",
      "Epoch: 18/50: 100%|██████████| 33/33 [00:01<00:00, 16.84it/s, train_loss=0.00117, valid_loss=0.00141]\n",
      "Epoch: 19/50: 100%|██████████| 33/33 [00:01<00:00, 17.00it/s, train_loss=0.000966, valid_loss=0.00147]\n",
      "Epoch: 20/50: 100%|██████████| 33/33 [00:01<00:00, 16.54it/s, train_loss=0.00114, valid_loss=0.00134]\n",
      "Epoch: 21/50: 100%|██████████| 33/33 [00:01<00:00, 16.99it/s, train_loss=0.000949, valid_loss=0.00154]\n",
      "Epoch: 22/50: 100%|██████████| 33/33 [00:02<00:00, 13.61it/s, train_loss=0.000872, valid_loss=0.00149]\n",
      "Epoch: 23/50: 100%|██████████| 33/33 [00:01<00:00, 17.72it/s, train_loss=0.000984, valid_loss=0.00171]\n",
      "Epoch: 24/50: 100%|██████████| 33/33 [00:01<00:00, 16.92it/s, train_loss=0.000952, valid_loss=0.0015] \n",
      "Epoch: 25/50: 100%|██████████| 33/33 [00:01<00:00, 16.93it/s, train_loss=0.000687, valid_loss=0.00136]\n",
      "Epoch: 26/50: 100%|██████████| 33/33 [00:01<00:00, 17.24it/s, train_loss=0.000559, valid_loss=0.00151]\n"
     ]
    },
    {
     "name": "stdout",
     "output_type": "stream",
     "text": [
      "cross-validation dataset 2\n"
     ]
    },
    {
     "name": "stderr",
     "output_type": "stream",
     "text": [
      "Epoch: 1/50: 100%|██████████| 50/50 [00:02<00:00, 17.40it/s, train_loss=0.132, valid_loss=0.194]\n",
      "Epoch: 2/50: 100%|██████████| 50/50 [00:02<00:00, 17.38it/s, train_loss=0.15, valid_loss=0.194] \n",
      "Epoch: 3/50: 100%|██████████| 50/50 [00:02<00:00, 17.15it/s, train_loss=0.149, valid_loss=0.194]\n",
      "Epoch: 4/50: 100%|██████████| 50/50 [00:02<00:00, 17.12it/s, train_loss=0.14, valid_loss=0.194] \n",
      "Epoch: 5/50: 100%|██████████| 50/50 [00:02<00:00, 17.65it/s, train_loss=0.163, valid_loss=0.194]\n",
      "Epoch: 6/50: 100%|██████████| 50/50 [00:02<00:00, 17.33it/s, train_loss=0.143, valid_loss=0.193]\n"
     ]
    },
    {
     "name": "stdout",
     "output_type": "stream",
     "text": [
      "cross-validation dataset 2\n"
     ]
    },
    {
     "name": "stderr",
     "output_type": "stream",
     "text": [
      "Epoch: 1/50: 100%|██████████| 50/50 [00:02<00:00, 17.29it/s, train_loss=0.159, valid_loss=0.194]\n",
      "Epoch: 2/50: 100%|██████████| 50/50 [00:02<00:00, 16.82it/s, train_loss=0.148, valid_loss=0.194]\n",
      "Epoch: 3/50: 100%|██████████| 50/50 [00:02<00:00, 17.45it/s, train_loss=0.143, valid_loss=0.194]\n",
      "Epoch: 4/50: 100%|██████████| 50/50 [00:02<00:00, 17.26it/s, train_loss=0.139, valid_loss=0.194]\n",
      "Epoch: 5/50: 100%|██████████| 50/50 [00:02<00:00, 17.05it/s, train_loss=0.151, valid_loss=0.195]\n",
      "Epoch: 6/50: 100%|██████████| 50/50 [00:02<00:00, 17.28it/s, train_loss=0.146, valid_loss=0.194]\n",
      "Epoch: 7/50: 100%|██████████| 50/50 [00:02<00:00, 17.02it/s, train_loss=0.146, valid_loss=0.194]\n"
     ]
    },
    {
     "name": "stdout",
     "output_type": "stream",
     "text": [
      "cross-validation dataset 2\n"
     ]
    },
    {
     "name": "stderr",
     "output_type": "stream",
     "text": [
      "Epoch: 1/50: 100%|██████████| 50/50 [00:03<00:00, 14.56it/s, train_loss=0.0151, valid_loss=0.0207]\n",
      "Epoch: 2/50: 100%|██████████| 50/50 [00:02<00:00, 17.00it/s, train_loss=0.00305, valid_loss=0.00443]\n",
      "Epoch: 3/50: 100%|██████████| 50/50 [00:02<00:00, 17.03it/s, train_loss=0.00202, valid_loss=0.00357]\n",
      "Epoch: 4/50: 100%|██████████| 50/50 [00:02<00:00, 17.34it/s, train_loss=0.0025, valid_loss=0.00324] \n",
      "Epoch: 5/50: 100%|██████████| 50/50 [00:02<00:00, 17.39it/s, train_loss=0.0023, valid_loss=0.00368] \n",
      "Epoch: 6/50: 100%|██████████| 50/50 [00:02<00:00, 17.39it/s, train_loss=0.00198, valid_loss=0.00298]\n",
      "Epoch: 7/50: 100%|██████████| 50/50 [00:02<00:00, 17.43it/s, train_loss=0.00185, valid_loss=0.00286]\n",
      "Epoch: 8/50: 100%|██████████| 50/50 [00:02<00:00, 17.02it/s, train_loss=0.00185, valid_loss=0.00264]\n",
      "Epoch: 9/50: 100%|██████████| 50/50 [00:02<00:00, 17.39it/s, train_loss=0.00172, valid_loss=0.0028] \n",
      "Epoch: 10/50: 100%|██████████| 50/50 [00:02<00:00, 17.25it/s, train_loss=0.00191, valid_loss=0.00299]\n",
      "Epoch: 11/50: 100%|██████████| 50/50 [00:02<00:00, 18.05it/s, train_loss=0.00127, valid_loss=0.00256]\n",
      "Epoch: 12/50: 100%|██████████| 50/50 [00:02<00:00, 21.38it/s, train_loss=0.00103, valid_loss=0.00291] \n",
      "Epoch: 13/50: 100%|██████████| 50/50 [00:02<00:00, 21.38it/s, train_loss=0.00112, valid_loss=0.00281]\n",
      "Epoch: 14/50: 100%|██████████| 50/50 [00:02<00:00, 17.78it/s, train_loss=0.00105, valid_loss=0.00347] \n",
      "Epoch: 15/50: 100%|██████████| 50/50 [00:03<00:00, 16.27it/s, train_loss=0.00104, valid_loss=0.00414] \n",
      "Epoch: 16/50: 100%|██████████| 50/50 [00:03<00:00, 16.60it/s, train_loss=0.000879, valid_loss=0.00317]\n"
     ]
    },
    {
     "name": "stdout",
     "output_type": "stream",
     "text": [
      "cross-validation dataset 3\n"
     ]
    },
    {
     "name": "stderr",
     "output_type": "stream",
     "text": [
      "Epoch: 1/50: 100%|██████████| 66/66 [00:04<00:00, 15.01it/s, train_loss=0.00278, valid_loss=0.00188]\n",
      "Epoch: 2/50: 100%|██████████| 66/66 [00:03<00:00, 16.53it/s, train_loss=0.00179, valid_loss=0.00134]\n",
      "Epoch: 3/50: 100%|██████████| 66/66 [00:03<00:00, 17.53it/s, train_loss=0.00275, valid_loss=0.00126]\n",
      "Epoch: 4/50: 100%|██████████| 66/66 [00:03<00:00, 17.26it/s, train_loss=0.00195, valid_loss=0.00297]\n",
      "Epoch: 5/50: 100%|██████████| 66/66 [00:03<00:00, 17.32it/s, train_loss=0.002, valid_loss=0.00112]  \n",
      "Epoch: 6/50: 100%|██████████| 66/66 [00:03<00:00, 17.31it/s, train_loss=0.0016, valid_loss=0.000922] \n",
      "Epoch: 7/50: 100%|██████████| 66/66 [00:03<00:00, 16.86it/s, train_loss=0.00134, valid_loss=0.00094] \n",
      "Epoch: 8/50: 100%|██████████| 66/66 [00:03<00:00, 17.19it/s, train_loss=0.00225, valid_loss=0.00102] \n",
      "Epoch: 9/50: 100%|██████████| 66/66 [00:03<00:00, 17.22it/s, train_loss=0.0013, valid_loss=0.000962] \n",
      "Epoch: 10/50: 100%|██████████| 66/66 [00:03<00:00, 17.21it/s, train_loss=0.00155, valid_loss=0.00175] \n",
      "Epoch: 11/50: 100%|██████████| 66/66 [00:03<00:00, 17.24it/s, train_loss=0.00163, valid_loss=0.0011] \n"
     ]
    },
    {
     "name": "stdout",
     "output_type": "stream",
     "text": [
      "cross-validation dataset 4\n"
     ]
    },
    {
     "name": "stderr",
     "output_type": "stream",
     "text": [
      "Epoch: 1/50: 100%|██████████| 83/83 [00:04<00:00, 17.49it/s, train_loss=0.166, valid_loss=0.189]\n",
      "Epoch: 2/50: 100%|██████████| 83/83 [00:05<00:00, 14.98it/s, train_loss=0.177, valid_loss=0.189]\n",
      "Epoch: 3/50: 100%|██████████| 83/83 [00:04<00:00, 17.57it/s, train_loss=0.156, valid_loss=0.189]\n"
     ]
    },
    {
     "name": "stdout",
     "output_type": "stream",
     "text": [
      "cross-validation dataset 4\n"
     ]
    },
    {
     "name": "stderr",
     "output_type": "stream",
     "text": [
      "Epoch: 1/50: 100%|██████████| 83/83 [00:04<00:00, 17.48it/s, train_loss=0.166, valid_loss=0.188] \n",
      "Epoch: 2/50: 100%|██████████| 83/83 [00:04<00:00, 17.23it/s, train_loss=0.161, valid_loss=0.189]\n",
      "Epoch: 3/50: 100%|██████████| 83/83 [00:04<00:00, 17.45it/s, train_loss=0.174, valid_loss=0.189]\n",
      "Epoch: 4/50: 100%|██████████| 83/83 [00:04<00:00, 17.71it/s, train_loss=0.165, valid_loss=0.188]\n"
     ]
    },
    {
     "name": "stdout",
     "output_type": "stream",
     "text": [
      "model config: batch_size-512, lr-0.01, number_epoch-50, hidden_dim-150, n_layers-2,drop_prob-0,weight_decay-0\n",
      "cross-validation dataset 0\n"
     ]
    },
    {
     "name": "stderr",
     "output_type": "stream",
     "text": [
      "Epoch: 1/50: 100%|██████████| 9/9 [00:00<00:00, 26.32it/s, train_loss=0.0185, valid_loss=0.0441]\n",
      "Epoch: 2/50: 100%|██████████| 9/9 [00:00<00:00, 25.59it/s, train_loss=0.0242, valid_loss=0.0325]\n",
      "Epoch: 3/50: 100%|██████████| 9/9 [00:00<00:00, 25.54it/s, train_loss=0.0156, valid_loss=0.0345]\n",
      "Epoch: 4/50: 100%|██████████| 9/9 [00:00<00:00, 25.68it/s, train_loss=0.013, valid_loss=0.0363] \n",
      "Epoch: 5/50: 100%|██████████| 9/9 [00:00<00:00, 25.39it/s, train_loss=0.00862, valid_loss=0.0655]\n",
      "Epoch: 6/50: 100%|██████████| 9/9 [00:00<00:00, 26.57it/s, train_loss=0.00605, valid_loss=0.0307]\n",
      "Epoch: 7/50: 100%|██████████| 9/9 [00:00<00:00, 25.46it/s, train_loss=0.00663, valid_loss=0.037] \n",
      "Epoch: 8/50: 100%|██████████| 9/9 [00:00<00:00, 25.75it/s, train_loss=0.00384, valid_loss=0.0274]\n",
      "Epoch: 9/50: 100%|██████████| 9/9 [00:00<00:00, 25.54it/s, train_loss=0.00362, valid_loss=0.0142]\n",
      "Epoch: 10/50: 100%|██████████| 9/9 [00:00<00:00, 25.61it/s, train_loss=0.00276, valid_loss=0.00967]\n",
      "Epoch: 11/50: 100%|██████████| 9/9 [00:00<00:00, 25.51it/s, train_loss=0.00233, valid_loss=0.0117]\n",
      "Epoch: 12/50: 100%|██████████| 9/9 [00:00<00:00, 26.26it/s, train_loss=0.00273, valid_loss=0.00757]\n",
      "Epoch: 13/50: 100%|██████████| 9/9 [00:00<00:00, 25.57it/s, train_loss=0.00206, valid_loss=0.00649]\n",
      "Epoch: 14/50: 100%|██████████| 9/9 [00:00<00:00, 25.47it/s, train_loss=0.00188, valid_loss=0.00666]\n",
      "Epoch: 15/50: 100%|██████████| 9/9 [00:00<00:00, 26.51it/s, train_loss=0.00184, valid_loss=0.00532]\n",
      "Epoch: 16/50: 100%|██████████| 9/9 [00:00<00:00, 25.51it/s, train_loss=0.00172, valid_loss=0.00552]\n",
      "Epoch: 17/50: 100%|██████████| 9/9 [00:00<00:00,  9.59it/s, train_loss=0.0015, valid_loss=0.00574] \n",
      "Epoch: 18/50: 100%|██████████| 9/9 [00:00<00:00, 25.62it/s, train_loss=0.00154, valid_loss=0.00566]\n",
      "Epoch: 19/50: 100%|██████████| 9/9 [00:00<00:00, 25.53it/s, train_loss=0.00147, valid_loss=0.00532]\n",
      "Epoch: 20/50: 100%|██████████| 9/9 [00:00<00:00, 25.49it/s, train_loss=0.00146, valid_loss=0.00637]\n",
      "Epoch: 21/50: 100%|██████████| 9/9 [00:00<00:00, 25.61it/s, train_loss=0.00131, valid_loss=0.00659]\n",
      "Epoch: 22/50: 100%|██████████| 9/9 [00:00<00:00, 25.72it/s, train_loss=0.00142, valid_loss=0.00805]\n",
      "Epoch: 23/50: 100%|██████████| 9/9 [00:00<00:00, 26.12it/s, train_loss=0.00152, valid_loss=0.00584]\n",
      "Epoch: 24/50: 100%|██████████| 9/9 [00:00<00:00, 25.63it/s, train_loss=0.00161, valid_loss=0.00563]\n",
      "Epoch: 25/50: 100%|██████████| 9/9 [00:00<00:00, 25.76it/s, train_loss=0.00129, valid_loss=0.00709]\n",
      "Epoch: 26/50: 100%|██████████| 9/9 [00:00<00:00, 26.07it/s, train_loss=0.00138, valid_loss=0.00707]\n",
      "Epoch: 27/50: 100%|██████████| 9/9 [00:00<00:00, 26.58it/s, train_loss=0.00132, valid_loss=0.00625]\n",
      "Epoch: 28/50: 100%|██████████| 9/9 [00:00<00:00, 26.14it/s, train_loss=0.00108, valid_loss=0.00708]\n",
      "Epoch: 29/50: 100%|██████████| 9/9 [00:00<00:00, 26.65it/s, train_loss=0.00111, valid_loss=0.00815]\n",
      "Epoch: 30/50: 100%|██████████| 9/9 [00:00<00:00, 26.48it/s, train_loss=0.00121, valid_loss=0.00772]\n",
      "Epoch: 31/50: 100%|██████████| 9/9 [00:00<00:00, 26.75it/s, train_loss=0.00111, valid_loss=0.00813]\n",
      "Epoch: 32/50: 100%|██████████| 9/9 [00:00<00:00, 26.29it/s, train_loss=0.00106, valid_loss=0.00952]\n",
      "Epoch: 33/50: 100%|██████████| 9/9 [00:00<00:00, 25.47it/s, train_loss=0.00103, valid_loss=0.0113]\n",
      "Epoch: 34/50: 100%|██████████| 9/9 [00:00<00:00, 25.57it/s, train_loss=0.000962, valid_loss=0.0112]\n",
      "Epoch: 35/50: 100%|██████████| 9/9 [00:00<00:00, 25.91it/s, train_loss=0.00101, valid_loss=0.00968]\n",
      "Epoch: 36/50: 100%|██████████| 9/9 [00:00<00:00, 25.93it/s, train_loss=0.00118, valid_loss=0.00967]\n",
      "Epoch: 37/50: 100%|██████████| 9/9 [00:00<00:00, 25.59it/s, train_loss=0.00104, valid_loss=0.0166] \n",
      "Epoch: 38/50: 100%|██████████| 9/9 [00:00<00:00, 25.65it/s, train_loss=0.00098, valid_loss=0.00944]\n",
      "Epoch: 39/50: 100%|██████████| 9/9 [00:00<00:00, 25.70it/s, train_loss=0.000995, valid_loss=0.0112]\n",
      "Epoch: 40/50: 100%|██████████| 9/9 [00:00<00:00, 25.47it/s, train_loss=0.000831, valid_loss=0.0159]\n",
      "Epoch: 41/50: 100%|██████████| 9/9 [00:00<00:00, 25.57it/s, train_loss=0.0011, valid_loss=0.0139]\n",
      "Epoch: 42/50: 100%|██████████| 9/9 [00:00<00:00, 26.69it/s, train_loss=0.000886, valid_loss=0.0118]\n",
      "Epoch: 43/50: 100%|██████████| 9/9 [00:00<00:00, 26.00it/s, train_loss=0.000863, valid_loss=0.0145]\n",
      "Epoch: 44/50: 100%|██████████| 9/9 [00:00<00:00, 25.60it/s, train_loss=0.000809, valid_loss=0.0171]\n",
      "Epoch: 45/50: 100%|██████████| 9/9 [00:00<00:00, 25.81it/s, train_loss=0.000773, valid_loss=0.0146]\n",
      "Epoch: 46/50: 100%|██████████| 9/9 [00:00<00:00, 26.07it/s, train_loss=0.000743, valid_loss=0.0132]\n"
     ]
    },
    {
     "name": "stdout",
     "output_type": "stream",
     "text": [
      "cross-validation dataset 1\n"
     ]
    },
    {
     "name": "stderr",
     "output_type": "stream",
     "text": [
      "Epoch: 1/50: 100%|██████████| 17/17 [00:00<00:00, 25.55it/s, train_loss=0.0246, valid_loss=0.0268]\n",
      "Epoch: 2/50: 100%|██████████| 17/17 [00:00<00:00, 25.04it/s, train_loss=0.0165, valid_loss=0.0167]\n",
      "Epoch: 3/50: 100%|██████████| 17/17 [00:00<00:00, 25.61it/s, train_loss=0.00496, valid_loss=0.00434]\n",
      "Epoch: 4/50: 100%|██████████| 17/17 [00:00<00:00, 25.47it/s, train_loss=0.00309, valid_loss=0.003]  \n",
      "Epoch: 5/50: 100%|██████████| 17/17 [00:00<00:00, 25.55it/s, train_loss=0.00313, valid_loss=0.00251]\n",
      "Epoch: 6/50: 100%|██████████| 17/17 [00:00<00:00, 25.91it/s, train_loss=0.00281, valid_loss=0.00199]\n",
      "Epoch: 7/50: 100%|██████████| 17/17 [00:00<00:00, 25.54it/s, train_loss=0.0021, valid_loss=0.00195] \n",
      "Epoch: 8/50: 100%|██████████| 17/17 [00:00<00:00, 23.40it/s, train_loss=0.00205, valid_loss=0.00177]\n",
      "Epoch: 9/50: 100%|██████████| 17/17 [00:00<00:00, 22.66it/s, train_loss=0.00222, valid_loss=0.00178]\n",
      "Epoch: 10/50: 100%|██████████| 17/17 [00:00<00:00, 22.72it/s, train_loss=0.0029, valid_loss=0.00184] \n",
      "Epoch: 11/50: 100%|██████████| 17/17 [00:00<00:00, 22.70it/s, train_loss=0.002, valid_loss=0.00172]  \n",
      "Epoch: 12/50: 100%|██████████| 17/17 [00:00<00:00, 22.69it/s, train_loss=0.00263, valid_loss=0.00164]\n",
      "Epoch: 13/50: 100%|██████████| 17/17 [00:00<00:00, 22.70it/s, train_loss=0.00178, valid_loss=0.00158]\n",
      "Epoch: 14/50: 100%|██████████| 17/17 [00:00<00:00, 22.61it/s, train_loss=0.00215, valid_loss=0.00157]\n",
      "Epoch: 15/50: 100%|██████████| 17/17 [00:01<00:00, 14.79it/s, train_loss=0.00181, valid_loss=0.00166]\n",
      "Epoch: 16/50: 100%|██████████| 17/17 [00:00<00:00, 22.71it/s, train_loss=0.00203, valid_loss=0.00172]\n",
      "Epoch: 17/50: 100%|██████████| 17/17 [00:00<00:00, 24.24it/s, train_loss=0.00186, valid_loss=0.00159]\n",
      "Epoch: 18/50: 100%|██████████| 17/17 [00:00<00:00, 25.48it/s, train_loss=0.00177, valid_loss=0.00164]\n",
      "Epoch: 19/50: 100%|██████████| 17/17 [00:00<00:00, 25.32it/s, train_loss=0.00185, valid_loss=0.00181]\n",
      "Epoch: 20/50: 100%|██████████| 17/17 [00:00<00:00, 27.79it/s, train_loss=0.00159, valid_loss=0.00183]\n",
      "Epoch: 21/50: 100%|██████████| 17/17 [00:00<00:00, 28.21it/s, train_loss=0.00159, valid_loss=0.00148]\n",
      "Epoch: 22/50: 100%|██████████| 17/17 [00:00<00:00, 28.28it/s, train_loss=0.00186, valid_loss=0.00137]\n",
      "Epoch: 23/50: 100%|██████████| 17/17 [00:00<00:00, 28.20it/s, train_loss=0.0018, valid_loss=0.00173] \n",
      "Epoch: 24/50: 100%|██████████| 17/17 [00:00<00:00, 28.15it/s, train_loss=0.00142, valid_loss=0.00145]\n",
      "Epoch: 25/50: 100%|██████████| 17/17 [00:00<00:00, 28.11it/s, train_loss=0.00159, valid_loss=0.00172]\n",
      "Epoch: 26/50: 100%|██████████| 17/17 [00:00<00:00, 28.08it/s, train_loss=0.00156, valid_loss=0.00159]\n",
      "Epoch: 27/50: 100%|██████████| 17/17 [00:00<00:00, 28.28it/s, train_loss=0.00146, valid_loss=0.00148]\n",
      "Epoch: 28/50: 100%|██████████| 17/17 [00:00<00:00, 28.20it/s, train_loss=0.0013, valid_loss=0.00148] \n",
      "Epoch: 29/50: 100%|██████████| 17/17 [00:00<00:00, 23.54it/s, train_loss=0.00136, valid_loss=0.00145]\n",
      "Epoch: 30/50: 100%|██████████| 17/17 [00:00<00:00, 20.55it/s, train_loss=0.00143, valid_loss=0.00158]\n",
      "Epoch: 31/50: 100%|██████████| 17/17 [00:00<00:00, 21.75it/s, train_loss=0.0013, valid_loss=0.00164] \n",
      "Epoch: 32/50: 100%|██████████| 17/17 [00:00<00:00, 25.57it/s, train_loss=0.00144, valid_loss=0.0016] \n",
      "Epoch: 33/50: 100%|██████████| 17/17 [00:00<00:00, 25.32it/s, train_loss=0.00143, valid_loss=0.00142]\n",
      "Epoch: 34/50: 100%|██████████| 17/17 [00:00<00:00, 23.87it/s, train_loss=0.00138, valid_loss=0.00162]\n",
      "Epoch: 35/50: 100%|██████████| 17/17 [00:00<00:00, 21.94it/s, train_loss=0.00149, valid_loss=0.0014] \n",
      "Epoch: 36/50: 100%|██████████| 17/17 [00:00<00:00, 25.55it/s, train_loss=0.00129, valid_loss=0.00171]\n",
      "Epoch: 37/50: 100%|██████████| 17/17 [00:00<00:00, 25.56it/s, train_loss=0.00129, valid_loss=0.00157]\n",
      "Epoch: 38/50: 100%|██████████| 17/17 [00:00<00:00, 25.49it/s, train_loss=0.00134, valid_loss=0.00203]\n",
      "Epoch: 39/50: 100%|██████████| 17/17 [00:00<00:00, 25.45it/s, train_loss=0.00158, valid_loss=0.00174]\n",
      "Epoch: 40/50: 100%|██████████| 17/17 [00:01<00:00, 16.68it/s, train_loss=0.00136, valid_loss=0.00146]\n",
      "Epoch: 41/50: 100%|██████████| 17/17 [00:00<00:00, 25.81it/s, train_loss=0.00173, valid_loss=0.00153]\n",
      "Epoch: 42/50: 100%|██████████| 17/17 [00:00<00:00, 25.54it/s, train_loss=0.00106, valid_loss=0.00154]\n",
      "Epoch: 43/50: 100%|██████████| 17/17 [00:00<00:00, 25.89it/s, train_loss=0.00139, valid_loss=0.0015] \n",
      "Epoch: 44/50: 100%|██████████| 17/17 [00:00<00:00, 25.39it/s, train_loss=0.00103, valid_loss=0.00171]\n",
      "Epoch: 45/50: 100%|██████████| 17/17 [00:00<00:00, 25.45it/s, train_loss=0.00125, valid_loss=0.0018] \n",
      "Epoch: 46/50: 100%|██████████| 17/17 [00:00<00:00, 25.50it/s, train_loss=0.00143, valid_loss=0.00148]\n",
      "Epoch: 47/50: 100%|██████████| 17/17 [00:00<00:00, 25.55it/s, train_loss=0.00115, valid_loss=0.00145]\n",
      "Epoch: 48/50: 100%|██████████| 17/17 [00:00<00:00, 25.42it/s, train_loss=0.00116, valid_loss=0.00156]\n",
      "Epoch: 49/50: 100%|██████████| 17/17 [00:00<00:00, 25.55it/s, train_loss=0.0011, valid_loss=0.00154] \n",
      "Epoch: 50/50: 100%|██████████| 17/17 [00:00<00:00, 25.40it/s, train_loss=0.00115, valid_loss=0.00168]\n"
     ]
    },
    {
     "name": "stdout",
     "output_type": "stream",
     "text": [
      "cross-validation dataset 2\n"
     ]
    },
    {
     "name": "stderr",
     "output_type": "stream",
     "text": [
      "Epoch: 1/50: 100%|██████████| 25/25 [00:00<00:00, 26.34it/s, train_loss=0.152, valid_loss=0.196]\n",
      "Epoch: 2/50: 100%|██████████| 25/25 [00:00<00:00, 27.29it/s, train_loss=0.149, valid_loss=0.194]\n",
      "Epoch: 3/50: 100%|██████████| 25/25 [00:00<00:00, 26.30it/s, train_loss=0.146, valid_loss=0.193]\n",
      "Epoch: 4/50: 100%|██████████| 25/25 [00:00<00:00, 27.11it/s, train_loss=0.151, valid_loss=0.195]\n",
      "Epoch: 5/50: 100%|██████████| 25/25 [00:01<00:00, 24.92it/s, train_loss=0.149, valid_loss=0.193]\n",
      "Epoch: 6/50: 100%|██████████| 25/25 [00:00<00:00, 26.37it/s, train_loss=0.151, valid_loss=0.195]\n",
      "Epoch: 7/50: 100%|██████████| 25/25 [00:00<00:00, 27.19it/s, train_loss=0.144, valid_loss=0.192]\n",
      "Epoch: 8/50: 100%|██████████| 25/25 [00:00<00:00, 27.50it/s, train_loss=0.151, valid_loss=0.196]\n",
      "Epoch: 9/50: 100%|██████████| 25/25 [00:00<00:00, 27.18it/s, train_loss=0.146, valid_loss=0.193]\n",
      "Epoch: 10/50: 100%|██████████| 25/25 [00:00<00:00, 27.95it/s, train_loss=0.152, valid_loss=0.194]\n",
      "Epoch: 11/50: 100%|██████████| 25/25 [00:01<00:00, 19.38it/s, train_loss=0.154, valid_loss=0.194]\n",
      "Epoch: 12/50: 100%|██████████| 25/25 [00:00<00:00, 27.48it/s, train_loss=0.151, valid_loss=0.194]\n",
      "Epoch: 13/50: 100%|██████████| 25/25 [00:00<00:00, 27.12it/s, train_loss=0.146, valid_loss=0.195]\n",
      "Epoch: 14/50: 100%|██████████| 25/25 [00:00<00:00, 27.51it/s, train_loss=0.145, valid_loss=0.192]\n",
      "Epoch: 15/50: 100%|██████████| 25/25 [00:00<00:00, 27.22it/s, train_loss=0.155, valid_loss=0.195]\n",
      "Epoch: 16/50: 100%|██████████| 25/25 [00:00<00:00, 27.53it/s, train_loss=0.149, valid_loss=0.193]\n",
      "Epoch: 17/50: 100%|██████████| 25/25 [00:00<00:00, 27.17it/s, train_loss=0.152, valid_loss=0.194]\n"
     ]
    },
    {
     "name": "stdout",
     "output_type": "stream",
     "text": [
      "cross-validation dataset 2\n"
     ]
    },
    {
     "name": "stderr",
     "output_type": "stream",
     "text": [
      "Epoch: 1/50: 100%|██████████| 25/25 [00:00<00:00, 27.31it/s, train_loss=0.0199, valid_loss=0.0314]\n",
      "Epoch: 2/50: 100%|██████████| 25/25 [00:00<00:00, 27.14it/s, train_loss=0.00954, valid_loss=0.0105]\n",
      "Epoch: 3/50: 100%|██████████| 25/25 [00:00<00:00, 27.20it/s, train_loss=0.00356, valid_loss=0.00473]\n",
      "Epoch: 4/50: 100%|██████████| 25/25 [00:00<00:00, 27.47it/s, train_loss=0.0029, valid_loss=0.00456] \n",
      "Epoch: 5/50: 100%|██████████| 25/25 [00:00<00:00, 27.24it/s, train_loss=0.00228, valid_loss=0.00318]\n",
      "Epoch: 6/50: 100%|██████████| 25/25 [00:00<00:00, 27.55it/s, train_loss=0.00188, valid_loss=0.00311]\n",
      "Epoch: 7/50: 100%|██████████| 25/25 [00:00<00:00, 27.14it/s, train_loss=0.00222, valid_loss=0.00299]\n",
      "Epoch: 8/50: 100%|██████████| 25/25 [00:00<00:00, 27.19it/s, train_loss=0.00169, valid_loss=0.00286]\n",
      "Epoch: 9/50: 100%|██████████| 25/25 [00:00<00:00, 27.23it/s, train_loss=0.0025, valid_loss=0.00348] \n",
      "Epoch: 10/50: 100%|██████████| 25/25 [00:00<00:00, 27.21it/s, train_loss=0.00157, valid_loss=0.00263]\n",
      "Epoch: 11/50: 100%|██████████| 25/25 [00:00<00:00, 27.23it/s, train_loss=0.00164, valid_loss=0.00257]\n",
      "Epoch: 12/50: 100%|██████████| 25/25 [00:01<00:00, 19.43it/s, train_loss=0.00174, valid_loss=0.00262]\n",
      "Epoch: 13/50: 100%|██████████| 25/25 [00:00<00:00, 27.17it/s, train_loss=0.00144, valid_loss=0.00279]\n",
      "Epoch: 14/50: 100%|██████████| 25/25 [00:00<00:00, 27.17it/s, train_loss=0.00164, valid_loss=0.00324]\n",
      "Epoch: 15/50: 100%|██████████| 25/25 [00:00<00:00, 27.21it/s, train_loss=0.00159, valid_loss=0.00276]\n",
      "Epoch: 16/50: 100%|██████████| 25/25 [00:00<00:00, 27.45it/s, train_loss=0.00156, valid_loss=0.00273]\n",
      "Epoch: 17/50: 100%|██████████| 25/25 [00:00<00:00, 27.25it/s, train_loss=0.00137, valid_loss=0.00261]\n",
      "Epoch: 18/50: 100%|██████████| 25/25 [00:00<00:00, 27.48it/s, train_loss=0.00156, valid_loss=0.00268]\n",
      "Epoch: 19/50: 100%|██████████| 25/25 [00:00<00:00, 27.21it/s, train_loss=0.00123, valid_loss=0.00289]\n",
      "Epoch: 20/50: 100%|██████████| 25/25 [00:00<00:00, 27.18it/s, train_loss=0.00137, valid_loss=0.00259]\n",
      "Epoch: 21/50: 100%|██████████| 25/25 [00:00<00:00, 27.24it/s, train_loss=0.00125, valid_loss=0.00302]\n",
      "Epoch: 22/50: 100%|██████████| 25/25 [00:00<00:00, 27.14it/s, train_loss=0.00157, valid_loss=0.0031] \n",
      "Epoch: 23/50: 100%|██████████| 25/25 [00:00<00:00, 27.15it/s, train_loss=0.00132, valid_loss=0.00292]\n",
      "Epoch: 24/50: 100%|██████████| 25/25 [00:00<00:00, 27.46it/s, train_loss=0.00115, valid_loss=0.00333]\n",
      "Epoch: 25/50: 100%|██████████| 25/25 [00:00<00:00, 27.18it/s, train_loss=0.00151, valid_loss=0.0031] \n",
      "Epoch: 26/50: 100%|██████████| 25/25 [00:00<00:00, 27.55it/s, train_loss=0.00109, valid_loss=0.00462]\n",
      "Epoch: 27/50: 100%|██████████| 25/25 [00:00<00:00, 27.14it/s, train_loss=0.00139, valid_loss=0.00381]\n"
     ]
    },
    {
     "name": "stdout",
     "output_type": "stream",
     "text": [
      "cross-validation dataset 3\n"
     ]
    },
    {
     "name": "stderr",
     "output_type": "stream",
     "text": [
      "Epoch: 1/50: 100%|██████████| 33/33 [00:01<00:00, 26.75it/s, train_loss=0.0163, valid_loss=0.0214]\n",
      "Epoch: 2/50: 100%|██████████| 33/33 [00:01<00:00, 26.80it/s, train_loss=0.00389, valid_loss=0.00285]\n",
      "Epoch: 3/50: 100%|██████████| 33/33 [00:01<00:00, 26.70it/s, train_loss=0.00299, valid_loss=0.00174]\n",
      "Epoch: 4/50: 100%|██████████| 33/33 [00:01<00:00, 20.82it/s, train_loss=0.00244, valid_loss=0.00142]\n",
      "Epoch: 5/50: 100%|██████████| 33/33 [00:01<00:00, 26.78it/s, train_loss=0.00215, valid_loss=0.00123]\n",
      "Epoch: 6/50: 100%|██████████| 33/33 [00:01<00:00, 26.78it/s, train_loss=0.00261, valid_loss=0.00127]\n",
      "Epoch: 7/50: 100%|██████████| 33/33 [00:01<00:00, 26.70it/s, train_loss=0.00245, valid_loss=0.00116]\n",
      "Epoch: 8/50: 100%|██████████| 33/33 [00:01<00:00, 26.76it/s, train_loss=0.00223, valid_loss=0.0011] \n",
      "Epoch: 9/50: 100%|██████████| 33/33 [00:01<00:00, 26.68it/s, train_loss=0.00215, valid_loss=0.00112]\n",
      "Epoch: 10/50: 100%|██████████| 33/33 [00:01<00:00, 26.84it/s, train_loss=0.00191, valid_loss=0.00107]\n",
      "Epoch: 11/50: 100%|██████████| 33/33 [00:01<00:00, 26.76it/s, train_loss=0.00171, valid_loss=0.00138] \n",
      "Epoch: 12/50: 100%|██████████| 33/33 [00:01<00:00, 26.75it/s, train_loss=0.00182, valid_loss=0.00121]\n",
      "Epoch: 13/50: 100%|██████████| 33/33 [00:01<00:00, 26.69it/s, train_loss=0.00176, valid_loss=0.00106] \n",
      "Epoch: 14/50: 100%|██████████| 33/33 [00:01<00:00, 26.86it/s, train_loss=0.00156, valid_loss=0.00108] \n",
      "Epoch: 15/50: 100%|██████████| 33/33 [00:01<00:00, 26.70it/s, train_loss=0.00157, valid_loss=0.00116] \n",
      "Epoch: 16/50: 100%|██████████| 33/33 [00:01<00:00, 26.78it/s, train_loss=0.00148, valid_loss=0.000862]\n",
      "Epoch: 17/50: 100%|██████████| 33/33 [00:01<00:00, 26.73it/s, train_loss=0.00172, valid_loss=0.000917]\n",
      "Epoch: 18/50: 100%|██████████| 33/33 [00:01<00:00, 26.76it/s, train_loss=0.0023, valid_loss=0.000943] \n",
      "Epoch: 19/50: 100%|██████████| 33/33 [00:01<00:00, 26.69it/s, train_loss=0.0018, valid_loss=0.000831] \n",
      "Epoch: 20/50: 100%|██████████| 33/33 [00:01<00:00, 26.79it/s, train_loss=0.00135, valid_loss=0.000962]\n",
      "Epoch: 21/50: 100%|██████████| 33/33 [00:01<00:00, 26.71it/s, train_loss=0.00124, valid_loss=0.00132] \n",
      "Epoch: 22/50: 100%|██████████| 33/33 [00:01<00:00, 26.80it/s, train_loss=0.0014, valid_loss=0.000906] \n",
      "Epoch: 23/50: 100%|██████████| 33/33 [00:01<00:00, 26.73it/s, train_loss=0.00118, valid_loss=0.00094] \n"
     ]
    },
    {
     "name": "stdout",
     "output_type": "stream",
     "text": [
      "cross-validation dataset 4\n"
     ]
    },
    {
     "name": "stderr",
     "output_type": "stream",
     "text": [
      "Epoch: 1/50: 100%|██████████| 42/42 [00:01<00:00, 21.67it/s, train_loss=0.169, valid_loss=0.189]\n",
      "Epoch: 2/50: 100%|██████████| 42/42 [00:01<00:00, 26.77it/s, train_loss=0.172, valid_loss=0.19] \n",
      "Epoch: 3/50: 100%|██████████| 42/42 [00:01<00:00, 26.67it/s, train_loss=0.159, valid_loss=0.189]\n",
      "Epoch: 4/50: 100%|██████████| 42/42 [00:01<00:00, 26.38it/s, train_loss=0.17, valid_loss=0.19]  \n",
      "Epoch: 5/50: 100%|██████████| 42/42 [00:01<00:00, 26.56it/s, train_loss=0.16, valid_loss=0.19]  \n",
      "Epoch: 6/50: 100%|██████████| 42/42 [00:01<00:00, 26.55it/s, train_loss=0.159, valid_loss=0.188]\n",
      "Epoch: 7/50: 100%|██████████| 42/42 [00:01<00:00, 26.40it/s, train_loss=0.172, valid_loss=0.188]\n",
      "Epoch: 8/50: 100%|██████████| 42/42 [00:01<00:00, 26.63it/s, train_loss=0.162, valid_loss=0.191]\n",
      "Epoch: 9/50: 100%|██████████| 42/42 [00:01<00:00, 26.61it/s, train_loss=0.175, valid_loss=0.189]\n",
      "Epoch: 10/50: 100%|██████████| 42/42 [00:01<00:00, 26.62it/s, train_loss=0.17, valid_loss=0.191] \n",
      "Epoch: 11/50: 100%|██████████| 42/42 [00:01<00:00, 26.75it/s, train_loss=0.163, valid_loss=0.188]\n",
      "Epoch: 12/50: 100%|██████████| 42/42 [00:01<00:00, 26.61it/s, train_loss=0.172, valid_loss=0.19] \n",
      "Epoch: 13/50: 100%|██████████| 42/42 [00:01<00:00, 26.71it/s, train_loss=0.164, valid_loss=0.19] \n",
      "Epoch: 14/50: 100%|██████████| 42/42 [00:01<00:00, 26.63it/s, train_loss=0.161, valid_loss=0.189]\n",
      "Epoch: 15/50: 100%|██████████| 42/42 [00:01<00:00, 26.75it/s, train_loss=0.156, valid_loss=0.189]\n"
     ]
    },
    {
     "name": "stdout",
     "output_type": "stream",
     "text": [
      "cross-validation dataset 4\n"
     ]
    },
    {
     "name": "stderr",
     "output_type": "stream",
     "text": [
      "Epoch: 1/50: 100%|██████████| 42/42 [00:01<00:00, 21.43it/s, train_loss=0.162, valid_loss=0.19] \n",
      "Epoch: 2/50: 100%|██████████| 42/42 [00:01<00:00, 26.80it/s, train_loss=0.159, valid_loss=0.188]\n",
      "Epoch: 3/50: 100%|██████████| 42/42 [00:01<00:00, 26.79it/s, train_loss=0.17, valid_loss=0.188] \n",
      "Epoch: 4/50: 100%|██████████| 42/42 [00:01<00:00, 26.71it/s, train_loss=0.166, valid_loss=0.189]\n",
      "Epoch: 5/50: 100%|██████████| 42/42 [00:01<00:00, 26.78it/s, train_loss=0.16, valid_loss=0.189] \n",
      "Epoch: 6/50: 100%|██████████| 42/42 [00:01<00:00, 26.76it/s, train_loss=0.157, valid_loss=0.189]\n",
      "Epoch: 7/50: 100%|██████████| 42/42 [00:01<00:00, 26.72it/s, train_loss=0.171, valid_loss=0.19] \n",
      "Epoch: 8/50: 100%|██████████| 42/42 [00:01<00:00, 26.80it/s, train_loss=0.17, valid_loss=0.188] \n",
      "Epoch: 9/50: 100%|██████████| 42/42 [00:01<00:00, 21.72it/s, train_loss=0.163, valid_loss=0.188]\n",
      "Epoch: 10/50: 100%|██████████| 42/42 [00:01<00:00, 26.78it/s, train_loss=0.161, valid_loss=0.189]\n",
      "Epoch: 11/50: 100%|██████████| 42/42 [00:01<00:00, 26.73it/s, train_loss=0.172, valid_loss=0.189]\n",
      "Epoch: 12/50: 100%|██████████| 42/42 [00:01<00:00, 26.59it/s, train_loss=0.168, valid_loss=0.188]\n",
      "Epoch: 13/50: 100%|██████████| 42/42 [00:01<00:00, 26.80it/s, train_loss=0.169, valid_loss=0.189]\n",
      "Epoch: 14/50: 100%|██████████| 42/42 [00:01<00:00, 26.42it/s, train_loss=0.17, valid_loss=0.188] \n",
      "Epoch: 15/50: 100%|██████████| 42/42 [00:01<00:00, 29.68it/s, train_loss=0.16, valid_loss=0.19]  \n",
      "Epoch: 16/50: 100%|██████████| 42/42 [00:01<00:00, 29.71it/s, train_loss=0.165, valid_loss=0.188]\n",
      "Epoch: 17/50: 100%|██████████| 42/42 [00:01<00:00, 22.61it/s, train_loss=0.166, valid_loss=0.189]\n"
     ]
    },
    {
     "name": "stdout",
     "output_type": "stream",
     "text": [
      "cross-validation dataset 4\n"
     ]
    },
    {
     "name": "stderr",
     "output_type": "stream",
     "text": [
      "Epoch: 1/50: 100%|██████████| 42/42 [00:01<00:00, 29.14it/s, train_loss=0.0227, valid_loss=0.0151]\n",
      "Epoch: 2/50: 100%|██████████| 42/42 [00:01<00:00, 29.38it/s, train_loss=0.00332, valid_loss=0.00467]\n",
      "Epoch: 3/50: 100%|██████████| 42/42 [00:01<00:00, 29.52it/s, train_loss=0.0023, valid_loss=0.00358] \n",
      "Epoch: 4/50: 100%|██████████| 42/42 [00:01<00:00, 29.48it/s, train_loss=0.00221, valid_loss=0.00315]\n",
      "Epoch: 5/50: 100%|██████████| 42/42 [00:01<00:00, 29.30it/s, train_loss=0.00196, valid_loss=0.0031] \n",
      "Epoch: 6/50: 100%|██████████| 42/42 [00:01<00:00, 29.43it/s, train_loss=0.00175, valid_loss=0.00278]\n",
      "Epoch: 7/50: 100%|██████████| 42/42 [00:01<00:00, 26.45it/s, train_loss=0.00147, valid_loss=0.00273]\n",
      "Epoch: 8/50: 100%|██████████| 42/42 [00:01<00:00, 21.65it/s, train_loss=0.00198, valid_loss=0.00273]\n",
      "Epoch: 9/50: 100%|██████████| 42/42 [00:01<00:00, 26.71it/s, train_loss=0.00153, valid_loss=0.00268]\n",
      "Epoch: 10/50: 100%|██████████| 42/42 [00:01<00:00, 26.98it/s, train_loss=0.00156, valid_loss=0.00265]\n",
      "Epoch: 11/50: 100%|██████████| 42/42 [00:01<00:00, 26.57it/s, train_loss=0.00163, valid_loss=0.00267]\n",
      "Epoch: 12/50: 100%|██████████| 42/42 [00:01<00:00, 26.62it/s, train_loss=0.00196, valid_loss=0.00268]\n",
      "Epoch: 13/50: 100%|██████████| 42/42 [00:01<00:00, 26.78it/s, train_loss=0.00142, valid_loss=0.00265]\n",
      "Epoch: 14/50: 100%|██████████| 42/42 [00:01<00:00, 26.82it/s, train_loss=0.00177, valid_loss=0.00256]\n",
      "Epoch: 15/50: 100%|██████████| 42/42 [00:01<00:00, 26.98it/s, train_loss=0.00133, valid_loss=0.00288]\n",
      "Epoch: 16/50: 100%|██████████| 42/42 [00:01<00:00, 26.54it/s, train_loss=0.0013, valid_loss=0.00272] \n",
      "Epoch: 17/50: 100%|██████████| 42/42 [00:01<00:00, 26.66it/s, train_loss=0.00131, valid_loss=0.00279]\n",
      "Epoch: 18/50: 100%|██████████| 42/42 [00:01<00:00, 26.71it/s, train_loss=0.00119, valid_loss=0.00245]\n",
      "Epoch: 19/50: 100%|██████████| 42/42 [00:01<00:00, 26.64it/s, train_loss=0.00125, valid_loss=0.00261]\n",
      "Epoch: 20/50: 100%|██████████| 42/42 [00:01<00:00, 26.75it/s, train_loss=0.00118, valid_loss=0.00283] \n"
     ]
    },
    {
     "name": "stdout",
     "output_type": "stream",
     "text": [
      "model config: batch_size-256, lr-0.01, number_epoch-50, hidden_dim-100, n_layers-3,drop_prob-0,weight_decay-0\n",
      "cross-validation dataset 0\n"
     ]
    },
    {
     "name": "stderr",
     "output_type": "stream",
     "text": [
      "Epoch: 1/50: 100%|██████████| 17/17 [00:01<00:00, 16.88it/s, train_loss=0.0218, valid_loss=0.0687]\n",
      "Epoch: 2/50: 100%|██████████| 17/17 [00:01<00:00, 16.62it/s, train_loss=0.0171, valid_loss=0.0365]\n",
      "Epoch: 3/50: 100%|██████████| 17/17 [00:01<00:00, 16.84it/s, train_loss=0.0172, valid_loss=0.0401]\n",
      "Epoch: 4/50: 100%|██████████| 17/17 [00:01<00:00, 16.81it/s, train_loss=0.0141, valid_loss=0.045] \n",
      "Epoch: 5/50: 100%|██████████| 17/17 [00:01<00:00, 16.80it/s, train_loss=0.0116, valid_loss=0.0443]\n",
      "Epoch: 6/50: 100%|██████████| 17/17 [00:01<00:00, 16.96it/s, train_loss=0.0118, valid_loss=0.0341]\n",
      "Epoch: 7/50: 100%|██████████| 17/17 [00:00<00:00, 17.08it/s, train_loss=0.00525, valid_loss=0.0225]\n",
      "Epoch: 8/50: 100%|██████████| 17/17 [00:01<00:00, 16.98it/s, train_loss=0.0036, valid_loss=0.0261] \n",
      "Epoch: 9/50: 100%|██████████| 17/17 [00:01<00:00, 12.33it/s, train_loss=0.00234, valid_loss=0.0153]\n",
      "Epoch: 10/50: 100%|██████████| 17/17 [00:01<00:00, 16.64it/s, train_loss=0.00207, valid_loss=0.0229]\n",
      "Epoch: 11/50: 100%|██████████| 17/17 [00:00<00:00, 17.16it/s, train_loss=0.00148, valid_loss=0.0161]\n",
      "Epoch: 12/50: 100%|██████████| 17/17 [00:01<00:00, 16.98it/s, train_loss=0.00155, valid_loss=0.021]\n",
      "Epoch: 13/50: 100%|██████████| 17/17 [00:01<00:00, 16.92it/s, train_loss=0.00116, valid_loss=0.0239]\n",
      "Epoch: 14/50: 100%|██████████| 17/17 [00:01<00:00, 16.80it/s, train_loss=0.00119, valid_loss=0.0233]\n",
      "Epoch: 15/50: 100%|██████████| 17/17 [00:01<00:00, 16.79it/s, train_loss=0.00117, valid_loss=0.0301]\n",
      "Epoch: 16/50: 100%|██████████| 17/17 [00:01<00:00, 16.80it/s, train_loss=0.00109, valid_loss=0.0265]\n",
      "Epoch: 17/50: 100%|██████████| 17/17 [00:01<00:00, 16.92it/s, train_loss=0.00116, valid_loss=0.0215]\n",
      "Epoch: 18/50: 100%|██████████| 17/17 [00:01<00:00, 16.90it/s, train_loss=0.00101, valid_loss=0.0221]\n",
      "Epoch: 19/50: 100%|██████████| 17/17 [00:01<00:00, 16.74it/s, train_loss=0.000856, valid_loss=0.0299]\n",
      "Epoch: 20/50: 100%|██████████| 17/17 [00:01<00:00, 16.66it/s, train_loss=0.000983, valid_loss=0.0259]\n",
      "Epoch: 21/50: 100%|██████████| 17/17 [00:01<00:00, 16.84it/s, train_loss=0.00109, valid_loss=0.0269]\n",
      "Epoch: 22/50: 100%|██████████| 17/17 [00:01<00:00, 16.44it/s, train_loss=0.000852, valid_loss=0.0313]\n"
     ]
    },
    {
     "name": "stdout",
     "output_type": "stream",
     "text": [
      "cross-validation dataset 1\n"
     ]
    },
    {
     "name": "stderr",
     "output_type": "stream",
     "text": [
      "Epoch: 1/50: 100%|██████████| 33/33 [00:01<00:00, 17.50it/s, train_loss=0.0186, valid_loss=0.0211]\n",
      "Epoch: 2/50: 100%|██████████| 33/33 [00:01<00:00, 17.44it/s, train_loss=0.00342, valid_loss=0.00246]\n",
      "Epoch: 3/50: 100%|██████████| 33/33 [00:01<00:00, 17.33it/s, train_loss=0.00236, valid_loss=0.003]  \n",
      "Epoch: 4/50: 100%|██████████| 33/33 [00:01<00:00, 17.43it/s, train_loss=0.00267, valid_loss=0.00201]\n",
      "Epoch: 5/50: 100%|██████████| 33/33 [00:01<00:00, 17.41it/s, train_loss=0.00259, valid_loss=0.00221]\n",
      "Epoch: 6/50: 100%|██████████| 33/33 [00:01<00:00, 17.59it/s, train_loss=0.00202, valid_loss=0.00187]\n",
      "Epoch: 7/50: 100%|██████████| 33/33 [00:01<00:00, 17.58it/s, train_loss=0.00295, valid_loss=0.00197]\n",
      "Epoch: 8/50: 100%|██████████| 33/33 [00:01<00:00, 17.44it/s, train_loss=0.0024, valid_loss=0.00188] \n",
      "Epoch: 9/50: 100%|██████████| 33/33 [00:01<00:00, 17.52it/s, train_loss=0.002, valid_loss=0.00178]  \n",
      "Epoch: 10/50: 100%|██████████| 33/33 [00:01<00:00, 17.46it/s, train_loss=0.00189, valid_loss=0.00171]\n",
      "Epoch: 11/50: 100%|██████████| 33/33 [00:01<00:00, 17.54it/s, train_loss=0.00233, valid_loss=0.00263]\n",
      "Epoch: 12/50: 100%|██████████| 33/33 [00:01<00:00, 17.62it/s, train_loss=0.00173, valid_loss=0.00184]\n",
      "Epoch: 13/50: 100%|██████████| 33/33 [00:01<00:00, 17.61it/s, train_loss=0.00138, valid_loss=0.00162]\n",
      "Epoch: 14/50: 100%|██████████| 33/33 [00:01<00:00, 17.38it/s, train_loss=0.00173, valid_loss=0.00162]\n",
      "Epoch: 15/50: 100%|██████████| 33/33 [00:01<00:00, 17.02it/s, train_loss=0.00177, valid_loss=0.00174]\n",
      "Epoch: 16/50: 100%|██████████| 33/33 [00:01<00:00, 17.24it/s, train_loss=0.00141, valid_loss=0.00207]\n",
      "Epoch: 17/50: 100%|██████████| 33/33 [00:02<00:00, 13.52it/s, train_loss=0.00131, valid_loss=0.0016] \n",
      "Epoch: 18/50: 100%|██████████| 33/33 [00:01<00:00, 17.31it/s, train_loss=0.00147, valid_loss=0.00143]\n",
      "Epoch: 19/50: 100%|██████████| 33/33 [00:01<00:00, 17.88it/s, train_loss=0.00157, valid_loss=0.00156]\n",
      "Epoch: 20/50: 100%|██████████| 33/33 [00:01<00:00, 17.63it/s, train_loss=0.00102, valid_loss=0.0019] \n",
      "Epoch: 21/50: 100%|██████████| 33/33 [00:01<00:00, 17.75it/s, train_loss=0.00126, valid_loss=0.00197]\n",
      "Epoch: 22/50: 100%|██████████| 33/33 [00:01<00:00, 17.68it/s, train_loss=0.00125, valid_loss=0.00168]\n"
     ]
    },
    {
     "name": "stdout",
     "output_type": "stream",
     "text": [
      "cross-validation dataset 2\n"
     ]
    },
    {
     "name": "stderr",
     "output_type": "stream",
     "text": [
      "Epoch: 1/50: 100%|██████████| 50/50 [00:02<00:00, 18.23it/s, train_loss=0.149, valid_loss=0.194]\n",
      "Epoch: 2/50: 100%|██████████| 50/50 [00:02<00:00, 17.90it/s, train_loss=0.148, valid_loss=0.194]\n",
      "Epoch: 3/50: 100%|██████████| 50/50 [00:02<00:00, 18.00it/s, train_loss=0.148, valid_loss=0.194]\n",
      "Epoch: 4/50: 100%|██████████| 50/50 [00:02<00:00, 17.72it/s, train_loss=0.152, valid_loss=0.194]\n",
      "Epoch: 5/50: 100%|██████████| 50/50 [00:02<00:00, 17.78it/s, train_loss=0.145, valid_loss=0.193]\n",
      "Epoch: 6/50: 100%|██████████| 50/50 [00:02<00:00, 17.64it/s, train_loss=0.152, valid_loss=0.195]\n",
      "Epoch: 7/50: 100%|██████████| 50/50 [00:02<00:00, 17.71it/s, train_loss=0.152, valid_loss=0.193]\n",
      "Epoch: 8/50: 100%|██████████| 50/50 [00:02<00:00, 17.87it/s, train_loss=0.154, valid_loss=0.194]\n",
      "Epoch: 9/50: 100%|██████████| 50/50 [00:02<00:00, 17.76it/s, train_loss=0.158, valid_loss=0.194]\n",
      "Epoch: 10/50: 100%|██████████| 50/50 [00:02<00:00, 17.81it/s, train_loss=0.155, valid_loss=0.194]\n",
      "Epoch: 11/50: 100%|██████████| 50/50 [00:02<00:00, 18.21it/s, train_loss=0.141, valid_loss=0.194]\n",
      "Epoch: 12/50: 100%|██████████| 50/50 [00:02<00:00, 18.19it/s, train_loss=0.152, valid_loss=0.193]\n"
     ]
    },
    {
     "name": "stdout",
     "output_type": "stream",
     "text": [
      "cross-validation dataset 2\n"
     ]
    },
    {
     "name": "stderr",
     "output_type": "stream",
     "text": [
      "Epoch: 1/50: 100%|██████████| 50/50 [00:02<00:00, 18.32it/s, train_loss=0.00636, valid_loss=0.00856]\n",
      "Epoch: 2/50: 100%|██████████| 50/50 [00:03<00:00, 15.84it/s, train_loss=0.00374, valid_loss=0.00456]\n",
      "Epoch: 3/50: 100%|██████████| 50/50 [00:02<00:00, 18.32it/s, train_loss=0.00211, valid_loss=0.00303]\n",
      "Epoch: 4/50: 100%|██████████| 50/50 [00:02<00:00, 18.29it/s, train_loss=0.00219, valid_loss=0.0034] \n",
      "Epoch: 5/50: 100%|██████████| 50/50 [00:02<00:00, 18.34it/s, train_loss=0.00175, valid_loss=0.00283]\n",
      "Epoch: 6/50: 100%|██████████| 50/50 [00:02<00:00, 18.17it/s, train_loss=0.00172, valid_loss=0.00297]\n",
      "Epoch: 7/50: 100%|██████████| 50/50 [00:02<00:00, 18.41it/s, train_loss=0.00152, valid_loss=0.00282]\n",
      "Epoch: 8/50: 100%|██████████| 50/50 [00:02<00:00, 19.46it/s, train_loss=0.00153, valid_loss=0.00288]\n",
      "Epoch: 9/50: 100%|██████████| 50/50 [00:02<00:00, 21.75it/s, train_loss=0.00188, valid_loss=0.00259]\n",
      "Epoch: 10/50: 100%|██████████| 50/50 [00:02<00:00, 21.66it/s, train_loss=0.00125, valid_loss=0.00305]\n",
      "Epoch: 11/50: 100%|██████████| 50/50 [00:02<00:00, 21.54it/s, train_loss=0.00179, valid_loss=0.00255]\n",
      "Epoch: 12/50: 100%|██████████| 50/50 [00:02<00:00, 21.35it/s, train_loss=0.00139, valid_loss=0.00277]\n",
      "Epoch: 13/50: 100%|██████████| 50/50 [00:02<00:00, 21.54it/s, train_loss=0.00149, valid_loss=0.00327]\n",
      "Epoch: 14/50: 100%|██████████| 50/50 [00:02<00:00, 21.47it/s, train_loss=0.00126, valid_loss=0.00269]\n",
      "Epoch: 15/50: 100%|██████████| 50/50 [00:02<00:00, 21.46it/s, train_loss=0.0014, valid_loss=0.00265] \n",
      "Epoch: 16/50: 100%|██████████| 50/50 [00:02<00:00, 21.46it/s, train_loss=0.00102, valid_loss=0.00358]\n"
     ]
    },
    {
     "name": "stdout",
     "output_type": "stream",
     "text": [
      "cross-validation dataset 3\n"
     ]
    },
    {
     "name": "stderr",
     "output_type": "stream",
     "text": [
      "Epoch: 1/50: 100%|██████████| 66/66 [00:03<00:00, 20.70it/s, train_loss=0.158, valid_loss=0.19] \n",
      "Epoch: 2/50: 100%|██████████| 66/66 [00:03<00:00, 18.74it/s, train_loss=0.164, valid_loss=0.191]\n",
      "Epoch: 3/50: 100%|██████████| 66/66 [00:03<00:00, 20.88it/s, train_loss=0.151, valid_loss=0.191]\n",
      "Epoch: 4/50: 100%|██████████| 66/66 [00:03<00:00, 20.82it/s, train_loss=0.157, valid_loss=0.192]\n",
      "Epoch: 5/50: 100%|██████████| 66/66 [00:03<00:00, 20.66it/s, train_loss=0.161, valid_loss=0.19] \n",
      "Epoch: 6/50: 100%|██████████| 66/66 [00:03<00:00, 20.75it/s, train_loss=0.16, valid_loss=0.19]  \n",
      "Epoch: 7/50: 100%|██████████| 66/66 [00:03<00:00, 20.72it/s, train_loss=0.178, valid_loss=0.191]\n",
      "Epoch: 8/50: 100%|██████████| 66/66 [00:03<00:00, 20.74it/s, train_loss=0.156, valid_loss=0.191]\n",
      "Epoch: 9/50: 100%|██████████| 66/66 [00:03<00:00, 20.72it/s, train_loss=0.156, valid_loss=0.191]\n"
     ]
    },
    {
     "name": "stdout",
     "output_type": "stream",
     "text": [
      "cross-validation dataset 3\n"
     ]
    },
    {
     "name": "stderr",
     "output_type": "stream",
     "text": [
      "Epoch: 1/50: 100%|██████████| 66/66 [00:03<00:00, 20.65it/s, train_loss=0.153, valid_loss=0.191]\n",
      "Epoch: 2/50: 100%|██████████| 66/66 [00:03<00:00, 20.71it/s, train_loss=0.164, valid_loss=0.191]\n",
      "Epoch: 3/50: 100%|██████████| 66/66 [00:03<00:00, 20.71it/s, train_loss=0.159, valid_loss=0.192]\n",
      "Epoch: 4/50: 100%|██████████| 66/66 [00:03<00:00, 20.75it/s, train_loss=0.153, valid_loss=0.19] \n",
      "Epoch: 5/50: 100%|██████████| 66/66 [00:03<00:00, 18.59it/s, train_loss=0.173, valid_loss=0.191]\n",
      "Epoch: 6/50: 100%|██████████| 66/66 [00:03<00:00, 20.93it/s, train_loss=0.161, valid_loss=0.191]\n",
      "Epoch: 7/50: 100%|██████████| 66/66 [00:03<00:00, 20.90it/s, train_loss=0.155, valid_loss=0.191]\n",
      "Epoch: 8/50: 100%|██████████| 66/66 [00:03<00:00, 20.78it/s, train_loss=0.149, valid_loss=0.192]\n",
      "Epoch: 9/50: 100%|██████████| 66/66 [00:03<00:00, 20.62it/s, train_loss=0.164, valid_loss=0.19] \n",
      "Epoch: 10/50: 100%|██████████| 66/66 [00:03<00:00, 20.66it/s, train_loss=0.167, valid_loss=0.191]\n",
      "Epoch: 11/50: 100%|██████████| 66/66 [00:03<00:00, 20.73it/s, train_loss=0.162, valid_loss=0.191]\n",
      "Epoch: 12/50: 100%|██████████| 66/66 [00:03<00:00, 20.80it/s, train_loss=0.144, valid_loss=0.191]\n"
     ]
    },
    {
     "name": "stdout",
     "output_type": "stream",
     "text": [
      "cross-validation dataset 3\n"
     ]
    },
    {
     "name": "stderr",
     "output_type": "stream",
     "text": [
      "Epoch: 1/50: 100%|██████████| 66/66 [00:03<00:00, 20.65it/s, train_loss=0.161, valid_loss=0.191]\n",
      "Epoch: 2/50: 100%|██████████| 66/66 [00:03<00:00, 20.72it/s, train_loss=0.169, valid_loss=0.19] \n",
      "Epoch: 3/50: 100%|██████████| 66/66 [00:03<00:00, 20.75it/s, train_loss=0.152, valid_loss=0.191]\n",
      "Epoch: 4/50: 100%|██████████| 66/66 [00:03<00:00, 20.72it/s, train_loss=0.156, valid_loss=0.191]\n",
      "Epoch: 5/50: 100%|██████████| 66/66 [00:03<00:00, 18.60it/s, train_loss=0.158, valid_loss=0.191]\n",
      "Epoch: 6/50: 100%|██████████| 66/66 [00:03<00:00, 21.00it/s, train_loss=0.159, valid_loss=0.191]\n",
      "Epoch: 7/50: 100%|██████████| 66/66 [00:03<00:00, 20.92it/s, train_loss=0.172, valid_loss=0.192]\n"
     ]
    },
    {
     "name": "stdout",
     "output_type": "stream",
     "text": [
      "cross-validation dataset 3\n"
     ]
    },
    {
     "name": "stderr",
     "output_type": "stream",
     "text": [
      "Epoch: 1/50: 100%|██████████| 66/66 [00:03<00:00, 20.73it/s, train_loss=0.00361, valid_loss=0.00332]\n",
      "Epoch: 2/50: 100%|██████████| 66/66 [00:03<00:00, 20.75it/s, train_loss=0.00218, valid_loss=0.00156]\n",
      "Epoch: 3/50: 100%|██████████| 66/66 [00:03<00:00, 20.72it/s, train_loss=0.00197, valid_loss=0.00108]\n",
      "Epoch: 4/50: 100%|██████████| 66/66 [00:03<00:00, 20.71it/s, train_loss=0.00145, valid_loss=0.00102] \n",
      "Epoch: 5/50: 100%|██████████| 66/66 [00:03<00:00, 20.75it/s, train_loss=0.00152, valid_loss=0.00092] \n",
      "Epoch: 6/50: 100%|██████████| 66/66 [00:03<00:00, 20.71it/s, train_loss=0.00176, valid_loss=0.00129] \n",
      "Epoch: 7/50: 100%|██████████| 66/66 [00:03<00:00, 20.71it/s, train_loss=0.00166, valid_loss=0.00118] \n",
      "Epoch: 8/50: 100%|██████████| 66/66 [00:03<00:00, 20.71it/s, train_loss=0.00145, valid_loss=0.00103] \n",
      "Epoch: 9/50: 100%|██████████| 66/66 [00:03<00:00, 20.74it/s, train_loss=0.00149, valid_loss=0.00118]\n",
      "Epoch: 10/50: 100%|██████████| 66/66 [00:03<00:00, 18.69it/s, train_loss=0.00114, valid_loss=0.00164]\n",
      "Epoch: 11/50: 100%|██████████| 66/66 [00:03<00:00, 20.98it/s, train_loss=0.00133, valid_loss=0.00197] \n"
     ]
    },
    {
     "name": "stdout",
     "output_type": "stream",
     "text": [
      "cross-validation dataset 4\n"
     ]
    },
    {
     "name": "stderr",
     "output_type": "stream",
     "text": [
      "Epoch: 1/50: 100%|██████████| 83/83 [00:03<00:00, 21.38it/s, train_loss=0.17, valid_loss=0.189] \n",
      "Epoch: 2/50: 100%|██████████| 83/83 [00:03<00:00, 21.30it/s, train_loss=0.177, valid_loss=0.189]\n",
      "Epoch: 3/50: 100%|██████████| 83/83 [00:03<00:00, 21.30it/s, train_loss=0.166, valid_loss=0.189]\n"
     ]
    },
    {
     "name": "stdout",
     "output_type": "stream",
     "text": [
      "cross-validation dataset 4\n"
     ]
    },
    {
     "name": "stderr",
     "output_type": "stream",
     "text": [
      "Epoch: 1/50: 100%|██████████| 83/83 [00:03<00:00, 21.18it/s, train_loss=0.154, valid_loss=0.188]\n",
      "Epoch: 2/50: 100%|██████████| 83/83 [00:03<00:00, 21.18it/s, train_loss=0.176, valid_loss=0.189]\n",
      "Epoch: 3/50: 100%|██████████| 83/83 [00:03<00:00, 21.19it/s, train_loss=0.173, valid_loss=0.188]\n",
      "Epoch: 4/50: 100%|██████████| 83/83 [00:03<00:00, 21.20it/s, train_loss=0.175, valid_loss=0.189]\n"
     ]
    },
    {
     "name": "stdout",
     "output_type": "stream",
     "text": [
      "cross-validation dataset 4\n"
     ]
    },
    {
     "name": "stderr",
     "output_type": "stream",
     "text": [
      "Epoch: 1/50: 100%|██████████| 83/83 [00:03<00:00, 21.19it/s, train_loss=0.165, valid_loss=0.188]\n",
      "Epoch: 2/50: 100%|██████████| 83/83 [00:04<00:00, 19.54it/s, train_loss=0.17, valid_loss=0.189] \n",
      "Epoch: 3/50: 100%|██████████| 83/83 [00:03<00:00, 21.22it/s, train_loss=0.164, valid_loss=0.189]\n",
      "Epoch: 4/50: 100%|██████████| 83/83 [00:03<00:00, 21.31it/s, train_loss=0.162, valid_loss=0.189]\n"
     ]
    },
    {
     "name": "stdout",
     "output_type": "stream",
     "text": [
      "cross-validation dataset 4\n"
     ]
    },
    {
     "name": "stderr",
     "output_type": "stream",
     "text": [
      "Epoch: 1/50: 100%|██████████| 83/83 [00:03<00:00, 21.18it/s, train_loss=0.167, valid_loss=0.189]\n",
      "Epoch: 2/50: 100%|██████████| 83/83 [00:03<00:00, 21.24it/s, train_loss=0.162, valid_loss=0.189]\n",
      "Epoch: 3/50: 100%|██████████| 83/83 [00:03<00:00, 21.17it/s, train_loss=0.153, valid_loss=0.188]\n"
     ]
    },
    {
     "name": "stdout",
     "output_type": "stream",
     "text": [
      "model config: batch_size-256, lr-0.01, number_epoch-50, hidden_dim-150, n_layers-1,drop_prob-0,weight_decay-0\n",
      "cross-validation dataset 0\n"
     ]
    },
    {
     "name": "stderr",
     "output_type": "stream",
     "text": [
      "Epoch: 1/50: 100%|██████████| 17/17 [00:00<00:00, 36.15it/s, train_loss=0.0142, valid_loss=0.0518]\n",
      "Epoch: 2/50: 100%|██████████| 17/17 [00:00<00:00, 36.47it/s, train_loss=0.00492, valid_loss=0.0391]\n",
      "Epoch: 3/50: 100%|██████████| 17/17 [00:00<00:00, 36.30it/s, train_loss=0.00303, valid_loss=0.0101]\n",
      "Epoch: 4/50: 100%|██████████| 17/17 [00:00<00:00, 36.41it/s, train_loss=0.00195, valid_loss=0.00464]\n",
      "Epoch: 5/50: 100%|██████████| 17/17 [00:00<00:00, 36.39it/s, train_loss=0.00155, valid_loss=0.00523]\n",
      "Epoch: 6/50: 100%|██████████| 17/17 [00:00<00:00, 36.34it/s, train_loss=0.00144, valid_loss=0.00728]\n",
      "Epoch: 7/50: 100%|██████████| 17/17 [00:00<00:00, 36.16it/s, train_loss=0.00153, valid_loss=0.00553]\n",
      "Epoch: 8/50: 100%|██████████| 17/17 [00:00<00:00, 36.29it/s, train_loss=0.00123, valid_loss=0.00645]\n",
      "Epoch: 9/50: 100%|██████████| 17/17 [00:00<00:00, 36.24it/s, train_loss=0.00133, valid_loss=0.0051] \n",
      "Epoch: 10/50: 100%|██████████| 17/17 [00:00<00:00, 36.41it/s, train_loss=0.00131, valid_loss=0.00791]\n",
      "Epoch: 11/50: 100%|██████████| 17/17 [00:00<00:00, 36.37it/s, train_loss=0.0013, valid_loss=0.00951] \n",
      "Epoch: 12/50: 100%|██████████| 17/17 [00:00<00:00, 36.03it/s, train_loss=0.000967, valid_loss=0.00846]\n",
      "Epoch: 13/50: 100%|██████████| 17/17 [00:00<00:00, 36.29it/s, train_loss=0.00103, valid_loss=0.00831]\n",
      "Epoch: 14/50: 100%|██████████| 17/17 [00:00<00:00, 36.29it/s, train_loss=0.000921, valid_loss=0.00977]\n",
      "Epoch: 15/50: 100%|██████████| 17/17 [00:00<00:00, 36.33it/s, train_loss=0.000881, valid_loss=0.00741]\n",
      "Epoch: 16/50: 100%|██████████| 17/17 [00:00<00:00, 36.22it/s, train_loss=0.000995, valid_loss=0.00904]\n",
      "Epoch: 17/50: 100%|██████████| 17/17 [00:00<00:00, 36.27it/s, train_loss=0.000663, valid_loss=0.0108] \n",
      "Epoch: 18/50: 100%|██████████| 17/17 [00:00<00:00, 36.22it/s, train_loss=0.000804, valid_loss=0.0088]\n"
     ]
    },
    {
     "name": "stdout",
     "output_type": "stream",
     "text": [
      "cross-validation dataset 1\n"
     ]
    },
    {
     "name": "stderr",
     "output_type": "stream",
     "text": [
      "Epoch: 1/50: 100%|██████████| 33/33 [00:00<00:00, 38.58it/s, train_loss=0.136, valid_loss=0.162]\n",
      "Epoch: 2/50: 100%|██████████| 33/33 [00:01<00:00, 26.64it/s, train_loss=0.147, valid_loss=0.162]\n",
      "Epoch: 3/50: 100%|██████████| 33/33 [00:00<00:00, 39.01it/s, train_loss=0.14, valid_loss=0.162] \n",
      "Epoch: 4/50: 100%|██████████| 33/33 [00:00<00:00, 35.36it/s, train_loss=0.138, valid_loss=0.163]\n",
      "Epoch: 5/50: 100%|██████████| 33/33 [00:00<00:00, 35.50it/s, train_loss=0.138, valid_loss=0.161]\n",
      "Epoch: 6/50: 100%|██████████| 33/33 [00:00<00:00, 36.40it/s, train_loss=0.142, valid_loss=0.162]\n",
      "Epoch: 7/50: 100%|██████████| 33/33 [00:01<00:00, 32.90it/s, train_loss=0.134, valid_loss=0.162]\n",
      "Epoch: 8/50: 100%|██████████| 33/33 [00:00<00:00, 35.17it/s, train_loss=0.14, valid_loss=0.162] \n",
      "Epoch: 9/50: 100%|██████████| 33/33 [00:00<00:00, 36.16it/s, train_loss=0.147, valid_loss=0.163]\n",
      "Epoch: 10/50: 100%|██████████| 33/33 [00:00<00:00, 38.92it/s, train_loss=0.134, valid_loss=0.163]\n",
      "Epoch: 11/50: 100%|██████████| 33/33 [00:00<00:00, 38.94it/s, train_loss=0.143, valid_loss=0.162]\n",
      "Epoch: 12/50: 100%|██████████| 33/33 [00:00<00:00, 38.77it/s, train_loss=0.141, valid_loss=0.163]\n",
      "Epoch: 13/50: 100%|██████████| 33/33 [00:00<00:00, 38.86it/s, train_loss=0.145, valid_loss=0.163]\n"
     ]
    },
    {
     "name": "stdout",
     "output_type": "stream",
     "text": [
      "cross-validation dataset 1\n"
     ]
    },
    {
     "name": "stderr",
     "output_type": "stream",
     "text": [
      "Epoch: 1/50: 100%|██████████| 33/33 [00:00<00:00, 38.64it/s, train_loss=0.143, valid_loss=0.163]\n",
      "Epoch: 2/50: 100%|██████████| 33/33 [00:00<00:00, 38.73it/s, train_loss=0.131, valid_loss=0.162]\n",
      "Epoch: 3/50: 100%|██████████| 33/33 [00:00<00:00, 38.77it/s, train_loss=0.147, valid_loss=0.162]\n",
      "Epoch: 4/50: 100%|██████████| 33/33 [00:00<00:00, 38.87it/s, train_loss=0.142, valid_loss=0.162]\n",
      "Epoch: 5/50: 100%|██████████| 33/33 [00:00<00:00, 38.84it/s, train_loss=0.137, valid_loss=0.162]\n",
      "Epoch: 6/50: 100%|██████████| 33/33 [00:00<00:00, 38.66it/s, train_loss=0.144, valid_loss=0.163]\n",
      "Epoch: 7/50: 100%|██████████| 33/33 [00:00<00:00, 38.56it/s, train_loss=0.141, valid_loss=0.162]\n",
      "Epoch: 8/50: 100%|██████████| 33/33 [00:00<00:00, 38.59it/s, train_loss=0.14, valid_loss=0.163] \n",
      "Epoch: 9/50: 100%|██████████| 33/33 [00:00<00:00, 38.57it/s, train_loss=0.141, valid_loss=0.162]\n",
      "Epoch: 10/50: 100%|██████████| 33/33 [00:00<00:00, 38.60it/s, train_loss=0.136, valid_loss=0.162]\n",
      "Epoch: 11/50: 100%|██████████| 33/33 [00:00<00:00, 38.58it/s, train_loss=0.152, valid_loss=0.162]\n",
      "Epoch: 12/50: 100%|██████████| 33/33 [00:00<00:00, 38.58it/s, train_loss=0.135, valid_loss=0.162]\n"
     ]
    },
    {
     "name": "stdout",
     "output_type": "stream",
     "text": [
      "cross-validation dataset 1\n"
     ]
    },
    {
     "name": "stderr",
     "output_type": "stream",
     "text": [
      "Epoch: 1/50: 100%|██████████| 33/33 [00:01<00:00, 27.08it/s, train_loss=0.134, valid_loss=0.163]\n",
      "Epoch: 2/50: 100%|██████████| 33/33 [00:00<00:00, 39.08it/s, train_loss=0.125, valid_loss=0.162]\n",
      "Epoch: 3/50: 100%|██████████| 33/33 [00:00<00:00, 39.05it/s, train_loss=0.139, valid_loss=0.162]\n",
      "Epoch: 4/50: 100%|██████████| 33/33 [00:00<00:00, 39.13it/s, train_loss=0.142, valid_loss=0.162]\n",
      "Epoch: 5/50: 100%|██████████| 33/33 [00:00<00:00, 39.04it/s, train_loss=0.139, valid_loss=0.163]\n",
      "Epoch: 6/50: 100%|██████████| 33/33 [00:00<00:00, 38.99it/s, train_loss=0.135, valid_loss=0.162]\n",
      "Epoch: 7/50: 100%|██████████| 33/33 [00:00<00:00, 38.95it/s, train_loss=0.133, valid_loss=0.162]\n",
      "Epoch: 8/50: 100%|██████████| 33/33 [00:00<00:00, 38.93it/s, train_loss=0.144, valid_loss=0.161]\n",
      "Epoch: 9/50: 100%|██████████| 33/33 [00:00<00:00, 38.98it/s, train_loss=0.144, valid_loss=0.163]\n",
      "Epoch: 10/50: 100%|██████████| 33/33 [00:00<00:00, 38.78it/s, train_loss=0.138, valid_loss=0.162]\n",
      "Epoch: 11/50: 100%|██████████| 33/33 [00:00<00:00, 38.70it/s, train_loss=0.146, valid_loss=0.162]\n",
      "Epoch: 12/50: 100%|██████████| 33/33 [00:00<00:00, 38.73it/s, train_loss=0.15, valid_loss=0.163] \n",
      "Epoch: 13/50: 100%|██████████| 33/33 [00:00<00:00, 38.74it/s, train_loss=0.144, valid_loss=0.163]\n",
      "Epoch: 14/50: 100%|██████████| 33/33 [00:00<00:00, 38.77it/s, train_loss=0.133, valid_loss=0.163]\n",
      "Epoch: 15/50: 100%|██████████| 33/33 [00:00<00:00, 38.85it/s, train_loss=0.137, valid_loss=0.162]\n",
      "Epoch: 16/50: 100%|██████████| 33/33 [00:00<00:00, 38.90it/s, train_loss=0.138, valid_loss=0.163]\n"
     ]
    },
    {
     "name": "stdout",
     "output_type": "stream",
     "text": [
      "cross-validation dataset 1\n"
     ]
    },
    {
     "name": "stderr",
     "output_type": "stream",
     "text": [
      "Epoch: 1/50: 100%|██████████| 33/33 [00:00<00:00, 37.94it/s, train_loss=0.02, valid_loss=0.022]   \n",
      "Epoch: 2/50: 100%|██████████| 33/33 [00:00<00:00, 38.43it/s, train_loss=0.00396, valid_loss=0.00258]\n",
      "Epoch: 3/50: 100%|██████████| 33/33 [00:00<00:00, 38.56it/s, train_loss=0.00224, valid_loss=0.00187]\n",
      "Epoch: 4/50: 100%|██████████| 33/33 [00:00<00:00, 38.26it/s, train_loss=0.00221, valid_loss=0.00179]\n",
      "Epoch: 5/50: 100%|██████████| 33/33 [00:00<00:00, 38.68it/s, train_loss=0.00247, valid_loss=0.00161]\n",
      "Epoch: 6/50: 100%|██████████| 33/33 [00:00<00:00, 38.54it/s, train_loss=0.00215, valid_loss=0.00186]\n",
      "Epoch: 7/50: 100%|██████████| 33/33 [00:00<00:00, 38.74it/s, train_loss=0.0021, valid_loss=0.00148] \n",
      "Epoch: 8/50: 100%|██████████| 33/33 [00:00<00:00, 38.63it/s, train_loss=0.00214, valid_loss=0.00151]\n",
      "Epoch: 9/50: 100%|██████████| 33/33 [00:01<00:00, 26.96it/s, train_loss=0.00186, valid_loss=0.0019] \n",
      "Epoch: 10/50: 100%|██████████| 33/33 [00:01<00:00, 32.80it/s, train_loss=0.00185, valid_loss=0.00151]\n",
      "Epoch: 11/50: 100%|██████████| 33/33 [00:01<00:00, 29.98it/s, train_loss=0.00173, valid_loss=0.00214]\n",
      "Epoch: 12/50: 100%|██████████| 33/33 [00:00<00:00, 34.27it/s, train_loss=0.00159, valid_loss=0.00162]\n",
      "Epoch: 13/50: 100%|██████████| 33/33 [00:00<00:00, 34.02it/s, train_loss=0.0014, valid_loss=0.00142] \n",
      "Epoch: 14/50: 100%|██████████| 33/33 [00:01<00:00, 29.19it/s, train_loss=0.00136, valid_loss=0.00181]\n",
      "Epoch: 15/50: 100%|██████████| 33/33 [00:01<00:00, 30.74it/s, train_loss=0.00159, valid_loss=0.00168]\n",
      "Epoch: 16/50: 100%|██████████| 33/33 [00:00<00:00, 38.78it/s, train_loss=0.00127, valid_loss=0.00164]\n",
      "Epoch: 17/50: 100%|██████████| 33/33 [00:00<00:00, 38.56it/s, train_loss=0.0013, valid_loss=0.00166] \n"
     ]
    },
    {
     "name": "stdout",
     "output_type": "stream",
     "text": [
      "cross-validation dataset 2\n"
     ]
    },
    {
     "name": "stderr",
     "output_type": "stream",
     "text": [
      "Epoch: 1/50: 100%|██████████| 50/50 [00:01<00:00, 39.65it/s, train_loss=0.00588, valid_loss=0.00784]\n",
      "Epoch: 2/50: 100%|██████████| 50/50 [00:01<00:00, 40.19it/s, train_loss=0.00219, valid_loss=0.00344]\n",
      "Epoch: 3/50: 100%|██████████| 50/50 [00:01<00:00, 39.89it/s, train_loss=0.00186, valid_loss=0.00397]\n",
      "Epoch: 4/50: 100%|██████████| 50/50 [00:01<00:00, 39.96it/s, train_loss=0.00231, valid_loss=0.00448]\n",
      "Epoch: 5/50: 100%|██████████| 50/50 [00:01<00:00, 38.07it/s, train_loss=0.00201, valid_loss=0.00293]\n",
      "Epoch: 6/50: 100%|██████████| 50/50 [00:01<00:00, 34.18it/s, train_loss=0.002, valid_loss=0.0033]   \n",
      "Epoch: 7/50: 100%|██████████| 50/50 [00:01<00:00, 32.86it/s, train_loss=0.00121, valid_loss=0.00266]\n",
      "Epoch: 8/50: 100%|██████████| 50/50 [00:01<00:00, 36.78it/s, train_loss=0.00142, valid_loss=0.00256]\n",
      "Epoch: 9/50: 100%|██████████| 50/50 [00:01<00:00, 39.87it/s, train_loss=0.00129, valid_loss=0.0029] \n",
      "Epoch: 10/50: 100%|██████████| 50/50 [00:01<00:00, 39.95it/s, train_loss=0.00119, valid_loss=0.00308]\n",
      "Epoch: 11/50: 100%|██████████| 50/50 [00:01<00:00, 31.40it/s, train_loss=0.00138, valid_loss=0.0026] \n",
      "Epoch: 12/50: 100%|██████████| 50/50 [00:01<00:00, 30.08it/s, train_loss=0.0012, valid_loss=0.0031]   \n",
      "Epoch: 13/50: 100%|██████████| 50/50 [00:01<00:00, 38.66it/s, train_loss=0.00106, valid_loss=0.00249]\n",
      "Epoch: 14/50: 100%|██████████| 50/50 [00:01<00:00, 34.20it/s, train_loss=0.0014, valid_loss=0.00331] \n",
      "Epoch: 15/50: 100%|██████████| 50/50 [00:01<00:00, 38.45it/s, train_loss=0.00121, valid_loss=0.00284] \n"
     ]
    },
    {
     "name": "stdout",
     "output_type": "stream",
     "text": [
      "cross-validation dataset 3\n"
     ]
    },
    {
     "name": "stderr",
     "output_type": "stream",
     "text": [
      "Epoch: 1/50: 100%|██████████| 66/66 [00:01<00:00, 35.13it/s, train_loss=0.00355, valid_loss=0.00248]\n",
      "Epoch: 2/50: 100%|██████████| 66/66 [00:02<00:00, 32.14it/s, train_loss=0.0021, valid_loss=0.00123] \n",
      "Epoch: 3/50: 100%|██████████| 66/66 [00:01<00:00, 35.04it/s, train_loss=0.00201, valid_loss=0.00116]\n",
      "Epoch: 4/50: 100%|██████████| 66/66 [00:02<00:00, 32.12it/s, train_loss=0.0021, valid_loss=0.00115] \n",
      "Epoch: 5/50: 100%|██████████| 66/66 [00:02<00:00, 31.72it/s, train_loss=0.00164, valid_loss=0.000982]\n",
      "Epoch: 6/50: 100%|██████████| 66/66 [00:02<00:00, 32.60it/s, train_loss=0.00157, valid_loss=0.000953]\n",
      "Epoch: 7/50: 100%|██████████| 66/66 [00:01<00:00, 33.61it/s, train_loss=0.00154, valid_loss=0.00124] \n",
      "Epoch: 8/50: 100%|██████████| 66/66 [00:01<00:00, 33.44it/s, train_loss=0.00162, valid_loss=0.000877]\n",
      "Epoch: 9/50: 100%|██████████| 66/66 [00:01<00:00, 35.19it/s, train_loss=0.00157, valid_loss=0.00108] \n",
      "Epoch: 10/50: 100%|██████████| 66/66 [00:02<00:00, 26.82it/s, train_loss=0.00119, valid_loss=0.000867]\n",
      "Epoch: 11/50: 100%|██████████| 66/66 [00:01<00:00, 34.76it/s, train_loss=0.00148, valid_loss=0.000828]\n",
      "Epoch: 12/50: 100%|██████████| 66/66 [00:01<00:00, 33.89it/s, train_loss=0.00117, valid_loss=0.00101] \n",
      "Epoch: 13/50: 100%|██████████| 66/66 [00:02<00:00, 32.09it/s, train_loss=0.00112, valid_loss=0.00107] \n"
     ]
    },
    {
     "name": "stdout",
     "output_type": "stream",
     "text": [
      "cross-validation dataset 4\n"
     ]
    },
    {
     "name": "stderr",
     "output_type": "stream",
     "text": [
      "Epoch: 1/50: 100%|██████████| 83/83 [00:02<00:00, 34.14it/s, train_loss=0.00222, valid_loss=0.00366]\n",
      "Epoch: 2/50: 100%|██████████| 83/83 [00:02<00:00, 33.94it/s, train_loss=0.002, valid_loss=0.00312]  \n",
      "Epoch: 3/50: 100%|██████████| 83/83 [00:02<00:00, 33.77it/s, train_loss=0.00163, valid_loss=0.00269]\n",
      "Epoch: 4/50: 100%|██████████| 83/83 [00:02<00:00, 37.92it/s, train_loss=0.00176, valid_loss=0.00261]\n",
      "Epoch: 5/50: 100%|██████████| 83/83 [00:02<00:00, 39.73it/s, train_loss=0.00171, valid_loss=0.00341]\n",
      "Epoch: 6/50: 100%|██████████| 83/83 [00:02<00:00, 37.66it/s, train_loss=0.00139, valid_loss=0.00319]\n",
      "Epoch: 7/50: 100%|██████████| 83/83 [00:02<00:00, 30.43it/s, train_loss=0.00115, valid_loss=0.00268]\n",
      "Epoch: 8/50: 100%|██████████| 83/83 [00:02<00:00, 33.06it/s, train_loss=0.00156, valid_loss=0.0025] \n",
      "Epoch: 9/50: 100%|██████████| 83/83 [00:02<00:00, 39.21it/s, train_loss=0.00124, valid_loss=0.00246]\n",
      "Epoch: 10/50: 100%|██████████| 83/83 [00:02<00:00, 39.19it/s, train_loss=0.00134, valid_loss=0.0029] \n",
      "Epoch: 11/50: 100%|██████████| 83/83 [00:02<00:00, 35.41it/s, train_loss=0.000958, valid_loss=0.00264]\n",
      "Epoch: 12/50: 100%|██████████| 83/83 [00:02<00:00, 39.14it/s, train_loss=0.000919, valid_loss=0.00246]\n",
      "Epoch: 13/50: 100%|██████████| 83/83 [00:02<00:00, 39.59it/s, train_loss=0.000783, valid_loss=0.00292]\n",
      "Epoch: 14/50: 100%|██████████| 83/83 [00:02<00:00, 39.62it/s, train_loss=0.000616, valid_loss=0.00312]\n",
      "Epoch: 15/50: 100%|██████████| 83/83 [00:02<00:00, 39.51it/s, train_loss=0.000685, valid_loss=0.00286]\n",
      "Epoch: 16/50: 100%|██████████| 83/83 [00:02<00:00, 39.51it/s, train_loss=0.000674, valid_loss=0.00276]\n"
     ]
    },
    {
     "name": "stdout",
     "output_type": "stream",
     "text": [
      "model config: batch_size-256, lr-0.01, number_epoch-50, hidden_dim-150, n_layers-2,drop_prob-0,weight_decay-0\n",
      "cross-validation dataset 0\n"
     ]
    },
    {
     "name": "stderr",
     "output_type": "stream",
     "text": [
      "Epoch: 1/50: 100%|██████████| 17/17 [00:00<00:00, 24.24it/s, train_loss=0.0246, valid_loss=0.033] \n",
      "Epoch: 2/50: 100%|██████████| 17/17 [00:00<00:00, 22.20it/s, train_loss=0.0167, valid_loss=0.0388]\n",
      "Epoch: 3/50: 100%|██████████| 17/17 [00:00<00:00, 24.24it/s, train_loss=0.0165, valid_loss=0.037] \n",
      "Epoch: 4/50: 100%|██████████| 17/17 [00:01<00:00, 16.07it/s, train_loss=0.0152, valid_loss=0.0391]\n",
      "Epoch: 5/50: 100%|██████████| 17/17 [00:00<00:00, 24.50it/s, train_loss=0.0117, valid_loss=0.0578]\n",
      "Epoch: 6/50: 100%|██████████| 17/17 [00:00<00:00, 24.38it/s, train_loss=0.00522, valid_loss=0.0287]\n",
      "Epoch: 7/50: 100%|██████████| 17/17 [00:00<00:00, 24.30it/s, train_loss=0.0044, valid_loss=0.0189]\n",
      "Epoch: 8/50: 100%|██████████| 17/17 [00:00<00:00, 24.47it/s, train_loss=0.00301, valid_loss=0.0105] \n",
      "Epoch: 9/50: 100%|██████████| 17/17 [00:00<00:00, 24.35it/s, train_loss=0.00245, valid_loss=0.00766]\n",
      "Epoch: 10/50: 100%|██████████| 17/17 [00:00<00:00, 22.26it/s, train_loss=0.00304, valid_loss=0.00567]\n",
      "Epoch: 11/50: 100%|██████████| 17/17 [00:00<00:00, 21.91it/s, train_loss=0.00184, valid_loss=0.00453]\n",
      "Epoch: 12/50: 100%|██████████| 17/17 [00:00<00:00, 24.48it/s, train_loss=0.00179, valid_loss=0.00484]\n",
      "Epoch: 13/50: 100%|██████████| 17/17 [00:00<00:00, 24.34it/s, train_loss=0.00177, valid_loss=0.00411]\n",
      "Epoch: 14/50: 100%|██████████| 17/17 [00:00<00:00, 24.53it/s, train_loss=0.00171, valid_loss=0.00389]\n",
      "Epoch: 15/50: 100%|██████████| 17/17 [00:00<00:00, 24.42it/s, train_loss=0.00145, valid_loss=0.00466]\n",
      "Epoch: 16/50: 100%|██████████| 17/17 [00:00<00:00, 23.11it/s, train_loss=0.00133, valid_loss=0.00404]\n",
      "Epoch: 17/50: 100%|██████████| 17/17 [00:00<00:00, 23.12it/s, train_loss=0.00135, valid_loss=0.00664]\n",
      "Epoch: 18/50: 100%|██████████| 17/17 [00:00<00:00, 24.20it/s, train_loss=0.00126, valid_loss=0.00494]\n",
      "Epoch: 19/50: 100%|██████████| 17/17 [00:00<00:00, 24.34it/s, train_loss=0.0014, valid_loss=0.0077]  \n",
      "Epoch: 20/50: 100%|██████████| 17/17 [00:00<00:00, 24.39it/s, train_loss=0.00114, valid_loss=0.00606]\n",
      "Epoch: 21/50: 100%|██████████| 17/17 [00:00<00:00, 24.30it/s, train_loss=0.00101, valid_loss=0.00865]\n",
      "Epoch: 22/50: 100%|██████████| 17/17 [00:00<00:00, 24.42it/s, train_loss=0.00104, valid_loss=0.0055] \n",
      "Epoch: 23/50: 100%|██████████| 17/17 [00:00<00:00, 24.37it/s, train_loss=0.0011, valid_loss=0.00741] \n",
      "Epoch: 24/50: 100%|██████████| 17/17 [00:00<00:00, 24.32it/s, train_loss=0.00153, valid_loss=0.00577]\n",
      "Epoch: 25/50: 100%|██████████| 17/17 [00:00<00:00, 24.30it/s, train_loss=0.001, valid_loss=0.0098]   \n",
      "Epoch: 26/50: 100%|██████████| 17/17 [00:00<00:00, 23.87it/s, train_loss=0.00108, valid_loss=0.00868]\n",
      "Epoch: 27/50: 100%|██████████| 17/17 [00:00<00:00, 24.23it/s, train_loss=0.00107, valid_loss=0.0106]\n"
     ]
    },
    {
     "name": "stdout",
     "output_type": "stream",
     "text": [
      "cross-validation dataset 1\n"
     ]
    },
    {
     "name": "stderr",
     "output_type": "stream",
     "text": [
      "Epoch: 1/50: 100%|██████████| 33/33 [00:01<00:00, 25.59it/s, train_loss=0.138, valid_loss=0.162]\n",
      "Epoch: 2/50: 100%|██████████| 33/33 [00:01<00:00, 25.78it/s, train_loss=0.131, valid_loss=0.162]\n",
      "Epoch: 3/50: 100%|██████████| 33/33 [00:01<00:00, 25.72it/s, train_loss=0.136, valid_loss=0.162]\n",
      "Epoch: 4/50: 100%|██████████| 33/33 [00:01<00:00, 25.86it/s, train_loss=0.13, valid_loss=0.162] \n",
      "Epoch: 5/50: 100%|██████████| 33/33 [00:01<00:00, 25.83it/s, train_loss=0.147, valid_loss=0.162]\n",
      "Epoch: 6/50: 100%|██████████| 33/33 [00:01<00:00, 25.78it/s, train_loss=0.15, valid_loss=0.162] \n",
      "Epoch: 7/50: 100%|██████████| 33/33 [00:01<00:00, 25.80it/s, train_loss=0.152, valid_loss=0.163]\n",
      "Epoch: 8/50: 100%|██████████| 33/33 [00:01<00:00, 25.72it/s, train_loss=0.147, valid_loss=0.162]\n"
     ]
    },
    {
     "name": "stdout",
     "output_type": "stream",
     "text": [
      "cross-validation dataset 1\n"
     ]
    },
    {
     "name": "stderr",
     "output_type": "stream",
     "text": [
      "Epoch: 1/50: 100%|██████████| 33/33 [00:01<00:00, 25.69it/s, train_loss=0.141, valid_loss=0.162]\n",
      "Epoch: 2/50: 100%|██████████| 33/33 [00:01<00:00, 25.73it/s, train_loss=0.133, valid_loss=0.163]\n",
      "Epoch: 3/50: 100%|██████████| 33/33 [00:01<00:00, 25.86it/s, train_loss=0.147, valid_loss=0.162]\n",
      "Epoch: 4/50: 100%|██████████| 33/33 [00:01<00:00, 19.91it/s, train_loss=0.137, valid_loss=0.162]\n",
      "Epoch: 5/50: 100%|██████████| 33/33 [00:01<00:00, 26.05it/s, train_loss=0.137, valid_loss=0.163]\n",
      "Epoch: 6/50: 100%|██████████| 33/33 [00:01<00:00, 25.98it/s, train_loss=0.145, valid_loss=0.162]\n",
      "Epoch: 7/50: 100%|██████████| 33/33 [00:01<00:00, 26.01it/s, train_loss=0.138, valid_loss=0.163]\n",
      "Epoch: 8/50: 100%|██████████| 33/33 [00:01<00:00, 25.98it/s, train_loss=0.143, valid_loss=0.162]\n",
      "Epoch: 9/50: 100%|██████████| 33/33 [00:01<00:00, 25.83it/s, train_loss=0.147, valid_loss=0.163]\n",
      "Epoch: 10/50: 100%|██████████| 33/33 [00:01<00:00, 25.91it/s, train_loss=0.15, valid_loss=0.162] \n",
      "Epoch: 11/50: 100%|██████████| 33/33 [00:01<00:00, 25.92it/s, train_loss=0.136, valid_loss=0.162]\n",
      "Epoch: 12/50: 100%|██████████| 33/33 [00:01<00:00, 25.92it/s, train_loss=0.148, valid_loss=0.162]\n",
      "Epoch: 13/50: 100%|██████████| 33/33 [00:01<00:00, 25.71it/s, train_loss=0.131, valid_loss=0.161]\n",
      "Epoch: 14/50: 100%|██████████| 33/33 [00:01<00:00, 25.87it/s, train_loss=0.137, valid_loss=0.162]\n",
      "Epoch: 15/50: 100%|██████████| 33/33 [00:01<00:00, 25.89it/s, train_loss=0.136, valid_loss=0.162]\n",
      "Epoch: 16/50: 100%|██████████| 33/33 [00:01<00:00, 25.70it/s, train_loss=0.142, valid_loss=0.162]\n",
      "Epoch: 17/50: 100%|██████████| 33/33 [00:01<00:00, 25.69it/s, train_loss=0.139, valid_loss=0.162]\n",
      "Epoch: 18/50: 100%|██████████| 33/33 [00:01<00:00, 25.83it/s, train_loss=0.145, valid_loss=0.162]\n",
      "Epoch: 19/50: 100%|██████████| 33/33 [00:01<00:00, 25.85it/s, train_loss=0.152, valid_loss=0.162]\n",
      "Epoch: 20/50: 100%|██████████| 33/33 [00:01<00:00, 25.83it/s, train_loss=0.141, valid_loss=0.163]\n",
      "Epoch: 21/50: 100%|██████████| 33/33 [00:01<00:00, 25.85it/s, train_loss=0.144, valid_loss=0.162]\n"
     ]
    },
    {
     "name": "stdout",
     "output_type": "stream",
     "text": [
      "cross-validation dataset 1\n"
     ]
    },
    {
     "name": "stderr",
     "output_type": "stream",
     "text": [
      "Epoch: 1/50: 100%|██████████| 33/33 [00:01<00:00, 25.69it/s, train_loss=0.0151, valid_loss=0.012] \n",
      "Epoch: 2/50: 100%|██████████| 33/33 [00:01<00:00, 25.86it/s, train_loss=0.0043, valid_loss=0.00405] \n",
      "Epoch: 3/50: 100%|██████████| 33/33 [00:01<00:00, 25.85it/s, train_loss=0.00287, valid_loss=0.00227]\n",
      "Epoch: 4/50: 100%|██████████| 33/33 [00:01<00:00, 25.72it/s, train_loss=0.0029, valid_loss=0.00198] \n",
      "Epoch: 5/50: 100%|██████████| 33/33 [00:01<00:00, 25.84it/s, train_loss=0.00234, valid_loss=0.00252]\n",
      "Epoch: 6/50: 100%|██████████| 33/33 [00:01<00:00, 25.77it/s, train_loss=0.00234, valid_loss=0.00176]\n",
      "Epoch: 7/50: 100%|██████████| 33/33 [00:01<00:00, 20.20it/s, train_loss=0.00212, valid_loss=0.00158]\n",
      "Epoch: 8/50: 100%|██████████| 33/33 [00:01<00:00, 26.23it/s, train_loss=0.00231, valid_loss=0.00173]\n",
      "Epoch: 9/50: 100%|██████████| 33/33 [00:01<00:00, 26.10it/s, train_loss=0.00184, valid_loss=0.00144]\n",
      "Epoch: 10/50: 100%|██████████| 33/33 [00:01<00:00, 25.96it/s, train_loss=0.00159, valid_loss=0.00136]\n",
      "Epoch: 11/50: 100%|██████████| 33/33 [00:01<00:00, 26.06it/s, train_loss=0.00217, valid_loss=0.00135]\n",
      "Epoch: 12/50: 100%|██████████| 33/33 [00:01<00:00, 25.91it/s, train_loss=0.00162, valid_loss=0.0014] \n",
      "Epoch: 13/50: 100%|██████████| 33/33 [00:01<00:00, 25.88it/s, train_loss=0.00165, valid_loss=0.00129]\n",
      "Epoch: 14/50: 100%|██████████| 33/33 [00:01<00:00, 26.04it/s, train_loss=0.00219, valid_loss=0.00169]\n",
      "Epoch: 15/50: 100%|██████████| 33/33 [00:01<00:00, 25.98it/s, train_loss=0.00199, valid_loss=0.00149]\n",
      "Epoch: 16/50: 100%|██████████| 33/33 [00:01<00:00, 25.95it/s, train_loss=0.00185, valid_loss=0.00137]\n",
      "Epoch: 17/50: 100%|██████████| 33/33 [00:01<00:00, 25.99it/s, train_loss=0.00161, valid_loss=0.00134]\n",
      "Epoch: 18/50: 100%|██████████| 33/33 [00:01<00:00, 25.87it/s, train_loss=0.00141, valid_loss=0.00149]\n",
      "Epoch: 19/50: 100%|██████████| 33/33 [00:01<00:00, 26.09it/s, train_loss=0.00176, valid_loss=0.00141]\n",
      "Epoch: 20/50: 100%|██████████| 33/33 [00:01<00:00, 25.85it/s, train_loss=0.00146, valid_loss=0.00125]\n",
      "Epoch: 21/50: 100%|██████████| 33/33 [00:01<00:00, 25.99it/s, train_loss=0.00148, valid_loss=0.00149]\n"
     ]
    },
    {
     "name": "stdout",
     "output_type": "stream",
     "text": [
      "cross-validation dataset 2\n"
     ]
    },
    {
     "name": "stderr",
     "output_type": "stream",
     "text": [
      "Epoch: 1/50: 100%|██████████| 50/50 [00:01<00:00, 26.67it/s, train_loss=0.0159, valid_loss=0.0217]\n",
      "Epoch: 2/50: 100%|██████████| 50/50 [00:01<00:00, 26.75it/s, train_loss=0.00339, valid_loss=0.00515]\n",
      "Epoch: 3/50: 100%|██████████| 50/50 [00:01<00:00, 26.76it/s, train_loss=0.00286, valid_loss=0.00358]\n",
      "Epoch: 4/50: 100%|██████████| 50/50 [00:01<00:00, 26.74it/s, train_loss=0.00197, valid_loss=0.00314]\n",
      "Epoch: 5/50: 100%|██████████| 50/50 [00:01<00:00, 26.58it/s, train_loss=0.00276, valid_loss=0.00476]\n",
      "Epoch: 6/50: 100%|██████████| 50/50 [00:01<00:00, 26.38it/s, train_loss=0.00147, valid_loss=0.00289]\n",
      "Epoch: 7/50: 100%|██████████| 50/50 [00:02<00:00, 20.96it/s, train_loss=0.00183, valid_loss=0.00274]\n",
      "Epoch: 8/50: 100%|██████████| 50/50 [00:02<00:00, 23.42it/s, train_loss=0.00196, valid_loss=0.0027] \n",
      "Epoch: 9/50: 100%|██████████| 50/50 [00:02<00:00, 23.51it/s, train_loss=0.00158, valid_loss=0.00319]\n",
      "Epoch: 10/50: 100%|██████████| 50/50 [00:02<00:00, 23.51it/s, train_loss=0.00131, valid_loss=0.00291]\n",
      "Epoch: 11/50: 100%|██████████| 50/50 [00:02<00:00, 23.53it/s, train_loss=0.00168, valid_loss=0.00312]\n",
      "Epoch: 12/50: 100%|██████████| 50/50 [00:02<00:00, 21.90it/s, train_loss=0.00138, valid_loss=0.00286]\n",
      "Epoch: 13/50: 100%|██████████| 50/50 [00:02<00:00, 23.37it/s, train_loss=0.00137, valid_loss=0.00271]\n",
      "Epoch: 14/50: 100%|██████████| 50/50 [00:02<00:00, 23.44it/s, train_loss=0.00102, valid_loss=0.00304]\n",
      "Epoch: 15/50: 100%|██████████| 50/50 [00:02<00:00, 23.27it/s, train_loss=0.00161, valid_loss=0.00314]\n",
      "Epoch: 16/50: 100%|██████████| 50/50 [00:02<00:00, 23.56it/s, train_loss=0.00147, valid_loss=0.00283]\n",
      "Epoch: 17/50: 100%|██████████| 50/50 [00:02<00:00, 23.41it/s, train_loss=0.00113, valid_loss=0.00293]\n",
      "Epoch: 18/50: 100%|██████████| 50/50 [00:02<00:00, 23.41it/s, train_loss=0.00129, valid_loss=0.00344]\n",
      "Epoch: 19/50: 100%|██████████| 50/50 [00:02<00:00, 23.32it/s, train_loss=0.00123, valid_loss=0.00366] \n"
     ]
    },
    {
     "name": "stdout",
     "output_type": "stream",
     "text": [
      "cross-validation dataset 3\n"
     ]
    },
    {
     "name": "stderr",
     "output_type": "stream",
     "text": [
      "Epoch: 1/50: 100%|██████████| 66/66 [00:02<00:00, 22.67it/s, train_loss=0.00268, valid_loss=0.00151]\n",
      "Epoch: 2/50: 100%|██████████| 66/66 [00:02<00:00, 22.72it/s, train_loss=0.00226, valid_loss=0.00117]\n",
      "Epoch: 3/50: 100%|██████████| 66/66 [00:02<00:00, 22.71it/s, train_loss=0.00255, valid_loss=0.0014] \n",
      "Epoch: 4/50: 100%|██████████| 66/66 [00:03<00:00, 20.02it/s, train_loss=0.0018, valid_loss=0.00109]  \n",
      "Epoch: 5/50: 100%|██████████| 66/66 [00:02<00:00, 22.74it/s, train_loss=0.00163, valid_loss=0.00128] \n",
      "Epoch: 6/50: 100%|██████████| 66/66 [00:02<00:00, 22.78it/s, train_loss=0.00179, valid_loss=0.00106] \n",
      "Epoch: 7/50: 100%|██████████| 66/66 [00:02<00:00, 22.71it/s, train_loss=0.00168, valid_loss=0.00152]\n",
      "Epoch: 8/50: 100%|██████████| 66/66 [00:02<00:00, 22.73it/s, train_loss=0.00121, valid_loss=0.00114] \n",
      "Epoch: 9/50: 100%|██████████| 66/66 [00:02<00:00, 22.79it/s, train_loss=0.00119, valid_loss=0.00203]\n"
     ]
    },
    {
     "name": "stdout",
     "output_type": "stream",
     "text": [
      "cross-validation dataset 4\n"
     ]
    },
    {
     "name": "stderr",
     "output_type": "stream",
     "text": [
      "Epoch: 1/50: 100%|██████████| 83/83 [00:03<00:00, 23.04it/s, train_loss=0.0026, valid_loss=0.0044]  \n",
      "Epoch: 2/50: 100%|██████████| 83/83 [00:03<00:00, 23.25it/s, train_loss=0.00195, valid_loss=0.00322]\n",
      "Epoch: 3/50: 100%|██████████| 83/83 [00:03<00:00, 23.28it/s, train_loss=0.00189, valid_loss=0.00326]\n",
      "Epoch: 4/50: 100%|██████████| 83/83 [00:03<00:00, 23.17it/s, train_loss=0.0022, valid_loss=0.00303] \n",
      "Epoch: 5/50: 100%|██████████| 83/83 [00:03<00:00, 23.27it/s, train_loss=0.00162, valid_loss=0.00282]\n",
      "Epoch: 6/50: 100%|██████████| 83/83 [00:03<00:00, 21.02it/s, train_loss=0.00182, valid_loss=0.00261]\n",
      "Epoch: 7/50: 100%|██████████| 83/83 [00:03<00:00, 23.12it/s, train_loss=0.00144, valid_loss=0.00262]\n",
      "Epoch: 8/50: 100%|██████████| 83/83 [00:03<00:00, 23.25it/s, train_loss=0.00142, valid_loss=0.00283]\n",
      "Epoch: 9/50: 100%|██████████| 83/83 [00:03<00:00, 23.29it/s, train_loss=0.00122, valid_loss=0.00248]\n",
      "Epoch: 10/50: 100%|██████████| 83/83 [00:03<00:00, 23.26it/s, train_loss=0.00131, valid_loss=0.00284]\n",
      "Epoch: 11/50: 100%|██████████| 83/83 [00:03<00:00, 23.21it/s, train_loss=0.00117, valid_loss=0.0029] \n",
      "Epoch: 12/50: 100%|██████████| 83/83 [00:03<00:00, 23.25it/s, train_loss=0.00218, valid_loss=0.00249] \n"
     ]
    }
   ],
   "source": [
    "records = run_model_hpo()"
   ]
  },
  {
   "cell_type": "markdown",
   "id": "e225225f",
   "metadata": {
    "ExecuteTime": {
     "end_time": "2021-12-22T08:52:06.844501Z",
     "start_time": "2021-12-22T08:52:06.830928Z"
    }
   },
   "source": [
    "## find the best hyper-parameters"
   ]
  },
  {
   "cell_type": "code",
   "execution_count": 91,
   "id": "cc7a49c9",
   "metadata": {
    "ExecuteTime": {
     "end_time": "2021-12-27T10:39:03.954053Z",
     "start_time": "2021-12-27T10:39:03.925878Z"
    }
   },
   "outputs": [
    {
     "data": {
      "text/html": [
       "<div>\n",
       "<style scoped>\n",
       "    .dataframe tbody tr th:only-of-type {\n",
       "        vertical-align: middle;\n",
       "    }\n",
       "\n",
       "    .dataframe tbody tr th {\n",
       "        vertical-align: top;\n",
       "    }\n",
       "\n",
       "    .dataframe thead th {\n",
       "        text-align: right;\n",
       "    }\n",
       "</style>\n",
       "<table border=\"1\" class=\"dataframe\">\n",
       "  <thead>\n",
       "    <tr style=\"text-align: right;\">\n",
       "      <th></th>\n",
       "      <th>batch_size</th>\n",
       "      <th>lr</th>\n",
       "      <th>number_epoch</th>\n",
       "      <th>hidden_dim</th>\n",
       "      <th>n_layers</th>\n",
       "      <th>drop_prob</th>\n",
       "      <th>weight_decay</th>\n",
       "      <th>valid_loss</th>\n",
       "    </tr>\n",
       "  </thead>\n",
       "  <tbody>\n",
       "    <tr>\n",
       "      <th>6</th>\n",
       "      <td>512</td>\n",
       "      <td>0.01</td>\n",
       "      <td>50</td>\n",
       "      <td>80</td>\n",
       "      <td>2</td>\n",
       "      <td>0</td>\n",
       "      <td>0</td>\n",
       "      <td>0.002079</td>\n",
       "    </tr>\n",
       "    <tr>\n",
       "      <th>0</th>\n",
       "      <td>256</td>\n",
       "      <td>0.01</td>\n",
       "      <td>50</td>\n",
       "      <td>80</td>\n",
       "      <td>2</td>\n",
       "      <td>0</td>\n",
       "      <td>0</td>\n",
       "      <td>0.002163</td>\n",
       "    </tr>\n",
       "    <tr>\n",
       "      <th>11</th>\n",
       "      <td>256</td>\n",
       "      <td>0.01</td>\n",
       "      <td>50</td>\n",
       "      <td>150</td>\n",
       "      <td>2</td>\n",
       "      <td>0</td>\n",
       "      <td>0</td>\n",
       "      <td>0.002194</td>\n",
       "    </tr>\n",
       "    <tr>\n",
       "      <th>10</th>\n",
       "      <td>256</td>\n",
       "      <td>0.01</td>\n",
       "      <td>50</td>\n",
       "      <td>150</td>\n",
       "      <td>1</td>\n",
       "      <td>0</td>\n",
       "      <td>0</td>\n",
       "      <td>0.002226</td>\n",
       "    </tr>\n",
       "    <tr>\n",
       "      <th>4</th>\n",
       "      <td>512</td>\n",
       "      <td>0.01</td>\n",
       "      <td>50</td>\n",
       "      <td>100</td>\n",
       "      <td>2</td>\n",
       "      <td>0</td>\n",
       "      <td>0</td>\n",
       "      <td>0.002264</td>\n",
       "    </tr>\n",
       "    <tr>\n",
       "      <th>2</th>\n",
       "      <td>256</td>\n",
       "      <td>0.01</td>\n",
       "      <td>50</td>\n",
       "      <td>80</td>\n",
       "      <td>3</td>\n",
       "      <td>0</td>\n",
       "      <td>0</td>\n",
       "      <td>0.002316</td>\n",
       "    </tr>\n",
       "    <tr>\n",
       "      <th>8</th>\n",
       "      <td>512</td>\n",
       "      <td>0.01</td>\n",
       "      <td>50</td>\n",
       "      <td>150</td>\n",
       "      <td>2</td>\n",
       "      <td>0</td>\n",
       "      <td>0</td>\n",
       "      <td>0.002429</td>\n",
       "    </tr>\n",
       "    <tr>\n",
       "      <th>5</th>\n",
       "      <td>256</td>\n",
       "      <td>0.01</td>\n",
       "      <td>50</td>\n",
       "      <td>120</td>\n",
       "      <td>2</td>\n",
       "      <td>0</td>\n",
       "      <td>0</td>\n",
       "      <td>0.002484</td>\n",
       "    </tr>\n",
       "    <tr>\n",
       "      <th>1</th>\n",
       "      <td>512</td>\n",
       "      <td>0.01</td>\n",
       "      <td>50</td>\n",
       "      <td>150</td>\n",
       "      <td>3</td>\n",
       "      <td>0</td>\n",
       "      <td>0</td>\n",
       "      <td>0.009818</td>\n",
       "    </tr>\n",
       "    <tr>\n",
       "      <th>7</th>\n",
       "      <td>256</td>\n",
       "      <td>0.01</td>\n",
       "      <td>50</td>\n",
       "      <td>120</td>\n",
       "      <td>3</td>\n",
       "      <td>0</td>\n",
       "      <td>0</td>\n",
       "      <td>0.009841</td>\n",
       "    </tr>\n",
       "    <tr>\n",
       "      <th>3</th>\n",
       "      <td>512</td>\n",
       "      <td>0.01</td>\n",
       "      <td>50</td>\n",
       "      <td>80</td>\n",
       "      <td>3</td>\n",
       "      <td>0</td>\n",
       "      <td>0</td>\n",
       "      <td>0.010668</td>\n",
       "    </tr>\n",
       "    <tr>\n",
       "      <th>9</th>\n",
       "      <td>256</td>\n",
       "      <td>0.01</td>\n",
       "      <td>50</td>\n",
       "      <td>100</td>\n",
       "      <td>3</td>\n",
       "      <td>0</td>\n",
       "      <td>0</td>\n",
       "      <td>0.012606</td>\n",
       "    </tr>\n",
       "  </tbody>\n",
       "</table>\n",
       "</div>"
      ],
      "text/plain": [
       "    batch_size    lr  number_epoch  hidden_dim  n_layers  drop_prob  \\\n",
       "6          512  0.01            50          80         2          0   \n",
       "0          256  0.01            50          80         2          0   \n",
       "11         256  0.01            50         150         2          0   \n",
       "10         256  0.01            50         150         1          0   \n",
       "4          512  0.01            50         100         2          0   \n",
       "2          256  0.01            50          80         3          0   \n",
       "8          512  0.01            50         150         2          0   \n",
       "5          256  0.01            50         120         2          0   \n",
       "1          512  0.01            50         150         3          0   \n",
       "7          256  0.01            50         120         3          0   \n",
       "3          512  0.01            50          80         3          0   \n",
       "9          256  0.01            50         100         3          0   \n",
       "\n",
       "    weight_decay  valid_loss  \n",
       "6              0    0.002079  \n",
       "0              0    0.002163  \n",
       "11             0    0.002194  \n",
       "10             0    0.002226  \n",
       "4              0    0.002264  \n",
       "2              0    0.002316  \n",
       "8              0    0.002429  \n",
       "5              0    0.002484  \n",
       "1              0    0.009818  \n",
       "7              0    0.009841  \n",
       "3              0    0.010668  \n",
       "9              0    0.012606  "
      ]
     },
     "execution_count": 91,
     "metadata": {},
     "output_type": "execute_result"
    }
   ],
   "source": [
    "records = pd.DataFrame(records).sort_values(by='valid_loss')\n",
    "records.to_csv('./records/BiLSTM_records.csv', mode='a', index=False, header=False)\n",
    "records"
   ]
  },
  {
   "cell_type": "markdown",
   "id": "785e0f7c",
   "metadata": {},
   "source": [
    "## retrain a model"
   ]
  },
  {
   "cell_type": "code",
   "execution_count": 48,
   "id": "625ee671",
   "metadata": {
    "ExecuteTime": {
     "end_time": "2021-12-26T11:19:34.574749Z",
     "start_time": "2021-12-26T11:19:34.563486Z"
    }
   },
   "outputs": [],
   "source": [
    "def train_model(train_x, train_y, valid_x, valid_y, input_size, output_size,\n",
    "                mse_thresh, batch_size, lr, number_epoch, hidden_dim, n_layers,\n",
    "                drop_prob, weight_decay):\n",
    "    while (1):\n",
    "        model = BiLSTM(input_size, output_size, hidden_dim, n_layers,\n",
    "                       drop_prob)\n",
    "        model.to(device=device)\n",
    "        criterion = nn.MSELoss()\n",
    "        optimizer = torch.optim.Adam(model.parameters(), lr=lr, weight_decay=weight_decay)\n",
    "        scheduler = torch.optim.lr_scheduler.StepLR(optimizer, 1, gamma=0.98)\n",
    "        valid_loss_min = np.Inf\n",
    "        train_dataset = TensorDataset(torch.FloatTensor(train_x),\n",
    "                                      torch.FloatTensor(train_y))\n",
    "        valid_dataset = TensorDataset(torch.FloatTensor(valid_x),\n",
    "                                      torch.FloatTensor(valid_y))\n",
    "        train_loader = DataLoader(dataset=train_dataset,\n",
    "                                  batch_size=batch_size,\n",
    "                                  shuffle=True,\n",
    "                                  drop_last=False)\n",
    "        valid_loader = DataLoader(dataset=valid_dataset,\n",
    "                                  batch_size=batch_size,\n",
    "                                  shuffle=True,\n",
    "                                  drop_last=False)\n",
    "        num_without_imp = 0\n",
    "        train_loss_list = []\n",
    "        valid_loss_list = []\n",
    "        # training process\n",
    "        for epoch in range(1, number_epoch + 1):\n",
    "            loop = tqdm(enumerate(train_loader),\n",
    "                        total=len(train_loader),\n",
    "                        leave=True)\n",
    "            for i, (inputs, labels) in loop:\n",
    "                inputs = inputs.to(device=device)\n",
    "                labels = labels.to(device=device)\n",
    "                optimizer.zero_grad()\n",
    "                outputs = model(inputs)\n",
    "                loss = criterion(outputs, labels)\n",
    "                loss.backward()\n",
    "                optimizer.step()\n",
    "                if i % 5 == 0:\n",
    "                    num_without_imp = num_without_imp + 1\n",
    "                    valid_losses = list()\n",
    "                    model.eval()\n",
    "                    for inp, lab in valid_loader:\n",
    "                        inp = inp.to(device)\n",
    "                        lab = lab.to(device)\n",
    "                        out = model(inp)\n",
    "                        valid_loss = criterion(out, lab)\n",
    "                        valid_losses.append(valid_loss.item())\n",
    "\n",
    "                    model.train()\n",
    "                    loop.set_description(\"Epoch: {}/{}\".format(\n",
    "                        epoch, number_epoch))\n",
    "                    loop.set_postfix(train_loss=loss.item(),\n",
    "                                     valid_loss=np.mean(valid_losses))\n",
    "                    \n",
    "                    train_loss_list.append(loss.item())\n",
    "                    valid_loss_list.append(np.mean(valid_losses))\n",
    "                    if np.mean(valid_losses) < valid_loss_min:\n",
    "                        num_without_imp = 0\n",
    "                        torch.save(model.state_dict(),\n",
    "                                   './model/BiLSTM_state_dict.pt')\n",
    "                        valid_loss_min = np.mean(valid_losses)\n",
    "            scheduler.step()\n",
    "        if valid_loss_min < mse_thresh:\n",
    "            break\n",
    "    return model, train_loss_list, valid_loss_list"
   ]
  },
  {
   "cell_type": "markdown",
   "id": "136130e2",
   "metadata": {},
   "source": [
    "## test results"
   ]
  },
  {
   "cell_type": "code",
   "execution_count": 24,
   "id": "31685cc5",
   "metadata": {
    "ExecuteTime": {
     "end_time": "2021-12-26T04:59:00.082506Z",
     "start_time": "2021-12-26T04:59:00.075733Z"
    }
   },
   "outputs": [],
   "source": [
    "def test_model(model, test_x, test_y, scaler_y, batch_size):\n",
    "    test_dataset = TensorDataset(torch.FloatTensor(test_x),\n",
    "                                 torch.FloatTensor(test_y))\n",
    "    test_loader = DataLoader(dataset=test_dataset,\n",
    "                             batch_size=batch_size,\n",
    "                             shuffle=False,\n",
    "                             drop_last=False)\n",
    "    model.load_state_dict(torch.load('./model/BiLSTM_state_dict.pt'))\n",
    "    y_pred = []\n",
    "    y_true = []\n",
    "    with torch.no_grad():\n",
    "        for inputs, label in test_loader:\n",
    "            inputs = inputs.to(device)\n",
    "            label = label.to(device)\n",
    "            outputs = model(inputs)\n",
    "            y_pred += outputs.cpu().numpy().flatten().tolist()\n",
    "            y_true += label.cpu().numpy().flatten().tolist()\n",
    "    y_pred = np.array(y_pred).reshape(-1, 1)\n",
    "    y_true = np.array(y_true).reshape(-1, 1)\n",
    "#     pdb.set_trace()\n",
    "    load_pred = scaler_y.inverse_transform(y_pred)\n",
    "    load_true = scaler_y.inverse_transform(y_true)\n",
    "    MAPE = np.mean(np.abs(load_true - load_pred) / load_true)\n",
    "    MAE = np.mean(np.abs(load_true - load_pred))\n",
    "    RMSE = np.sqrt(np.mean(np.square(load_true - load_pred)))\n",
    "    return MAPE, MAE, RMSE, load_pred, load_true"
   ]
  },
  {
   "cell_type": "markdown",
   "id": "d71dd030",
   "metadata": {},
   "source": [
    "## run model retraining"
   ]
  },
  {
   "cell_type": "code",
   "execution_count": 92,
   "id": "3159e93a",
   "metadata": {
    "ExecuteTime": {
     "end_time": "2021-12-27T10:39:17.137993Z",
     "start_time": "2021-12-27T10:39:17.120223Z"
    }
   },
   "outputs": [],
   "source": [
    "def run_model_retraining(seq_len=seq_len,\n",
    "                         target_len=target_len,\n",
    "                         mse_thresh=mse_thresh):\n",
    "    train_data = data[:int(0.8 * len(data))]\n",
    "    #     train_data = data[:-800]\n",
    "    train_data, scaler, scaler_y = normalization(train_data)\n",
    "    train_x, train_y = series_to_supervise(train_data, seq_len, target_len)\n",
    "\n",
    "    valid_x = train_x[int(0.8 * len(train_x)):]\n",
    "    valid_y = train_y[int(0.8 * len(train_y)):]\n",
    "    train_x = train_x[:int(0.8 * len(train_x))]\n",
    "    train_y = train_y[:int(0.8 * len(train_y))]\n",
    "    input_size = train_x.shape[2]\n",
    "    output_size = target_len\n",
    "\n",
    "    #     hyper-parameters define\n",
    "    batch_size = 512\n",
    "    lr = 0.01\n",
    "    number_epoch = 80\n",
    "    hidden_dim = 120\n",
    "    n_layers = 2\n",
    "    drop_prob = 0\n",
    "    weight_decay = 0\n",
    "    mse_thresh = 0.01\n",
    "\n",
    "    model, train_loss_list, valid_loss_list = train_model(\n",
    "        train_x, train_y, valid_x, valid_y, input_size, output_size,\n",
    "        mse_thresh, batch_size, lr, number_epoch, hidden_dim, n_layers,\n",
    "        drop_prob, weight_decay)\n",
    "    \n",
    "    # plot training process\n",
    "    plt.plot(train_loss_list, 'm', label='train_loss')\n",
    "    plt.plot(valid_loss_list, 'g', label='valid_loss')\n",
    "    plt.grid('both')\n",
    "    plt.legend()\n",
    "    \n",
    "    # test\n",
    "    test_data = data[int(0.8 * len(data)):]\n",
    "    #     test_data = data[-800:]\n",
    "    test_data = scaler.transform(test_data)\n",
    "    test_x, test_y = series_to_supervise(test_data, seq_len, target_len)\n",
    "    MAPE, MAE, RMSE, load_pred, load_true = test_model(model, test_x, test_y,\n",
    "                                                       scaler_y, batch_size)\n",
    "    return MAPE, MAE, RMSE, load_pred, load_true"
   ]
  },
  {
   "cell_type": "code",
   "execution_count": 93,
   "id": "589c0691",
   "metadata": {
    "ExecuteTime": {
     "end_time": "2021-12-27T10:45:45.087538Z",
     "start_time": "2021-12-27T10:39:26.185712Z"
    }
   },
   "outputs": [
    {
     "name": "stdout",
     "output_type": "stream",
     "text": [
      "supervised data: shape of x: (25232, 72, 16), shape of y: (25232, 24)\n"
     ]
    },
    {
     "name": "stderr",
     "output_type": "stream",
     "text": [
      "Epoch: 1/80: 100%|██████████| 40/40 [00:01<00:00, 23.33it/s, train_loss=0.164, valid_loss=0.172]\n",
      "Epoch: 2/80: 100%|██████████| 40/40 [00:01<00:00, 23.53it/s, train_loss=0.169, valid_loss=0.172]\n",
      "Epoch: 3/80: 100%|██████████| 40/40 [00:02<00:00, 18.87it/s, train_loss=0.17, valid_loss=0.172] \n",
      "Epoch: 4/80: 100%|██████████| 40/40 [00:01<00:00, 23.48it/s, train_loss=0.158, valid_loss=0.171]\n",
      "Epoch: 5/80: 100%|██████████| 40/40 [00:01<00:00, 23.71it/s, train_loss=0.165, valid_loss=0.171]\n",
      "Epoch: 6/80: 100%|██████████| 40/40 [00:01<00:00, 25.02it/s, train_loss=0.176, valid_loss=0.171]\n",
      "Epoch: 7/80: 100%|██████████| 40/40 [00:01<00:00, 24.26it/s, train_loss=0.164, valid_loss=0.171]\n",
      "Epoch: 8/80: 100%|██████████| 40/40 [00:01<00:00, 24.90it/s, train_loss=0.174, valid_loss=0.171]\n",
      "Epoch: 9/80: 100%|██████████| 40/40 [00:01<00:00, 26.38it/s, train_loss=0.165, valid_loss=0.171]\n",
      "Epoch: 10/80: 100%|██████████| 40/40 [00:01<00:00, 29.78it/s, train_loss=0.165, valid_loss=0.172]\n",
      "Epoch: 11/80: 100%|██████████| 40/40 [00:01<00:00, 30.45it/s, train_loss=0.173, valid_loss=0.172]\n",
      "Epoch: 12/80: 100%|██████████| 40/40 [00:01<00:00, 30.51it/s, train_loss=0.16, valid_loss=0.172] \n",
      "Epoch: 13/80: 100%|██████████| 40/40 [00:01<00:00, 23.90it/s, train_loss=0.158, valid_loss=0.171]\n",
      "Epoch: 14/80: 100%|██████████| 40/40 [00:01<00:00, 30.50it/s, train_loss=0.171, valid_loss=0.172]\n",
      "Epoch: 15/80: 100%|██████████| 40/40 [00:01<00:00, 30.33it/s, train_loss=0.172, valid_loss=0.171]\n",
      "Epoch: 16/80: 100%|██████████| 40/40 [00:01<00:00, 30.52it/s, train_loss=0.167, valid_loss=0.171]\n",
      "Epoch: 17/80: 100%|██████████| 40/40 [00:01<00:00, 30.65it/s, train_loss=0.164, valid_loss=0.171]\n",
      "Epoch: 18/80: 100%|██████████| 40/40 [00:01<00:00, 30.40it/s, train_loss=0.173, valid_loss=0.171]\n",
      "Epoch: 19/80: 100%|██████████| 40/40 [00:01<00:00, 29.98it/s, train_loss=0.169, valid_loss=0.171]\n",
      "Epoch: 20/80: 100%|██████████| 40/40 [00:01<00:00, 30.56it/s, train_loss=0.174, valid_loss=0.172]\n",
      "Epoch: 21/80: 100%|██████████| 40/40 [00:01<00:00, 30.72it/s, train_loss=0.174, valid_loss=0.171]\n",
      "Epoch: 22/80: 100%|██████████| 40/40 [00:01<00:00, 30.32it/s, train_loss=0.17, valid_loss=0.171] \n",
      "Epoch: 23/80: 100%|██████████| 40/40 [00:01<00:00, 24.07it/s, train_loss=0.163, valid_loss=0.171]\n",
      "Epoch: 24/80: 100%|██████████| 40/40 [00:01<00:00, 30.64it/s, train_loss=0.176, valid_loss=0.171]\n",
      "Epoch: 25/80: 100%|██████████| 40/40 [00:01<00:00, 30.45it/s, train_loss=0.172, valid_loss=0.171]\n",
      "Epoch: 26/80: 100%|██████████| 40/40 [00:01<00:00, 30.52it/s, train_loss=0.167, valid_loss=0.171]\n",
      "Epoch: 27/80: 100%|██████████| 40/40 [00:01<00:00, 30.59it/s, train_loss=0.168, valid_loss=0.171]\n",
      "Epoch: 28/80: 100%|██████████| 40/40 [00:01<00:00, 29.18it/s, train_loss=0.162, valid_loss=0.171]\n",
      "Epoch: 29/80: 100%|██████████| 40/40 [00:01<00:00, 27.19it/s, train_loss=0.171, valid_loss=0.171]\n",
      "Epoch: 30/80: 100%|██████████| 40/40 [00:01<00:00, 27.25it/s, train_loss=0.173, valid_loss=0.171]\n",
      "Epoch: 31/80: 100%|██████████| 40/40 [00:01<00:00, 27.07it/s, train_loss=0.166, valid_loss=0.172]\n",
      "Epoch: 32/80: 100%|██████████| 40/40 [00:01<00:00, 27.14it/s, train_loss=0.18, valid_loss=0.171] \n",
      "Epoch: 33/80: 100%|██████████| 40/40 [00:01<00:00, 21.80it/s, train_loss=0.175, valid_loss=0.171]\n",
      "Epoch: 34/80: 100%|██████████| 40/40 [00:01<00:00, 26.73it/s, train_loss=0.173, valid_loss=0.172]\n",
      "Epoch: 35/80: 100%|██████████| 40/40 [00:01<00:00, 27.13it/s, train_loss=0.17, valid_loss=0.171] \n",
      "Epoch: 36/80: 100%|██████████| 40/40 [00:01<00:00, 27.14it/s, train_loss=0.17, valid_loss=0.172] \n",
      "Epoch: 37/80: 100%|██████████| 40/40 [00:01<00:00, 27.21it/s, train_loss=0.167, valid_loss=0.171]\n",
      "Epoch: 38/80: 100%|██████████| 40/40 [00:01<00:00, 26.94it/s, train_loss=0.174, valid_loss=0.172]\n",
      "Epoch: 39/80: 100%|██████████| 40/40 [00:01<00:00, 26.80it/s, train_loss=0.169, valid_loss=0.171]\n",
      "Epoch: 40/80: 100%|██████████| 40/40 [00:01<00:00, 27.22it/s, train_loss=0.172, valid_loss=0.171]\n",
      "Epoch: 41/80: 100%|██████████| 40/40 [00:01<00:00, 24.96it/s, train_loss=0.162, valid_loss=0.171]\n",
      "Epoch: 42/80: 100%|██████████| 40/40 [00:01<00:00, 27.05it/s, train_loss=0.17, valid_loss=0.171] \n",
      "Epoch: 43/80: 100%|██████████| 40/40 [00:01<00:00, 21.42it/s, train_loss=0.167, valid_loss=0.172]\n",
      "Epoch: 44/80: 100%|██████████| 40/40 [00:01<00:00, 23.73it/s, train_loss=0.172, valid_loss=0.171]\n",
      "Epoch: 45/80: 100%|██████████| 40/40 [00:01<00:00, 24.52it/s, train_loss=0.165, valid_loss=0.171]\n",
      "Epoch: 46/80: 100%|██████████| 40/40 [00:01<00:00, 24.39it/s, train_loss=0.177, valid_loss=0.171]\n",
      "Epoch: 47/80: 100%|██████████| 40/40 [00:01<00:00, 25.80it/s, train_loss=0.176, valid_loss=0.172]\n",
      "Epoch: 48/80: 100%|██████████| 40/40 [00:01<00:00, 27.51it/s, train_loss=0.167, valid_loss=0.171]\n",
      "Epoch: 49/80: 100%|██████████| 40/40 [00:01<00:00, 30.62it/s, train_loss=0.169, valid_loss=0.171]\n",
      "Epoch: 50/80: 100%|██████████| 40/40 [00:01<00:00, 30.72it/s, train_loss=0.176, valid_loss=0.171]\n",
      "Epoch: 51/80: 100%|██████████| 40/40 [00:01<00:00, 30.77it/s, train_loss=0.16, valid_loss=0.171] \n",
      "Epoch: 52/80: 100%|██████████| 40/40 [00:01<00:00, 29.83it/s, train_loss=0.165, valid_loss=0.172]\n",
      "Epoch: 53/80: 100%|██████████| 40/40 [00:02<00:00, 19.55it/s, train_loss=0.17, valid_loss=0.171] \n",
      "Epoch: 54/80: 100%|██████████| 40/40 [00:01<00:00, 24.66it/s, train_loss=0.164, valid_loss=0.171]\n",
      "Epoch: 55/80: 100%|██████████| 40/40 [00:01<00:00, 26.71it/s, train_loss=0.175, valid_loss=0.171]\n",
      "Epoch: 56/80: 100%|██████████| 40/40 [00:01<00:00, 24.37it/s, train_loss=0.17, valid_loss=0.171] \n",
      "Epoch: 57/80: 100%|██████████| 40/40 [00:01<00:00, 25.22it/s, train_loss=0.169, valid_loss=0.171]\n",
      "Epoch: 58/80: 100%|██████████| 40/40 [00:01<00:00, 24.73it/s, train_loss=0.166, valid_loss=0.171]\n",
      "Epoch: 59/80: 100%|██████████| 40/40 [00:01<00:00, 25.52it/s, train_loss=0.167, valid_loss=0.172]\n",
      "Epoch: 60/80: 100%|██████████| 40/40 [00:01<00:00, 24.67it/s, train_loss=0.163, valid_loss=0.172]\n",
      "Epoch: 61/80: 100%|██████████| 40/40 [00:01<00:00, 25.08it/s, train_loss=0.167, valid_loss=0.172]\n",
      "Epoch: 62/80: 100%|██████████| 40/40 [00:01<00:00, 24.84it/s, train_loss=0.166, valid_loss=0.171]\n",
      "Epoch: 63/80: 100%|██████████| 40/40 [00:01<00:00, 20.10it/s, train_loss=0.172, valid_loss=0.171]\n",
      "Epoch: 64/80: 100%|██████████| 40/40 [00:01<00:00, 24.21it/s, train_loss=0.163, valid_loss=0.171]\n",
      "Epoch: 65/80: 100%|██████████| 40/40 [00:01<00:00, 23.02it/s, train_loss=0.168, valid_loss=0.171]\n",
      "Epoch: 66/80: 100%|██████████| 40/40 [00:01<00:00, 25.07it/s, train_loss=0.165, valid_loss=0.171]\n",
      "Epoch: 67/80: 100%|██████████| 40/40 [00:01<00:00, 24.49it/s, train_loss=0.164, valid_loss=0.171]\n",
      "Epoch: 68/80: 100%|██████████| 40/40 [00:01<00:00, 24.72it/s, train_loss=0.163, valid_loss=0.171]\n",
      "Epoch: 69/80: 100%|██████████| 40/40 [00:01<00:00, 26.09it/s, train_loss=0.169, valid_loss=0.171]\n",
      "Epoch: 70/80: 100%|██████████| 40/40 [00:01<00:00, 24.51it/s, train_loss=0.172, valid_loss=0.171]\n",
      "Epoch: 71/80: 100%|██████████| 40/40 [00:01<00:00, 25.09it/s, train_loss=0.168, valid_loss=0.171]\n",
      "Epoch: 72/80: 100%|██████████| 40/40 [00:01<00:00, 25.05it/s, train_loss=0.167, valid_loss=0.171]\n",
      "Epoch: 73/80: 100%|██████████| 40/40 [00:02<00:00, 19.58it/s, train_loss=0.166, valid_loss=0.171]\n",
      "Epoch: 74/80: 100%|██████████| 40/40 [00:01<00:00, 23.53it/s, train_loss=0.177, valid_loss=0.171]\n",
      "Epoch: 75/80: 100%|██████████| 40/40 [00:01<00:00, 27.47it/s, train_loss=0.168, valid_loss=0.171]\n",
      "Epoch: 76/80: 100%|██████████| 40/40 [00:01<00:00, 29.29it/s, train_loss=0.169, valid_loss=0.171]\n",
      "Epoch: 77/80: 100%|██████████| 40/40 [00:01<00:00, 30.16it/s, train_loss=0.171, valid_loss=0.171]\n",
      "Epoch: 78/80: 100%|██████████| 40/40 [00:01<00:00, 29.36it/s, train_loss=0.174, valid_loss=0.171]\n",
      "Epoch: 79/80: 100%|██████████| 40/40 [00:01<00:00, 26.13it/s, train_loss=0.174, valid_loss=0.171]\n",
      "Epoch: 80/80: 100%|██████████| 40/40 [00:01<00:00, 27.02it/s, train_loss=0.17, valid_loss=0.171] \n",
      "Epoch: 1/80: 100%|██████████| 40/40 [00:01<00:00, 25.95it/s, train_loss=0.163, valid_loss=0.171]\n",
      "Epoch: 2/80: 100%|██████████| 40/40 [00:01<00:00, 27.08it/s, train_loss=0.167, valid_loss=0.171]\n",
      "Epoch: 3/80: 100%|██████████| 40/40 [00:01<00:00, 23.10it/s, train_loss=0.167, valid_loss=0.171]\n",
      "Epoch: 4/80: 100%|██████████| 40/40 [00:01<00:00, 26.38it/s, train_loss=0.168, valid_loss=0.172]\n",
      "Epoch: 5/80: 100%|██████████| 40/40 [00:01<00:00, 26.19it/s, train_loss=0.167, valid_loss=0.171]\n",
      "Epoch: 6/80: 100%|██████████| 40/40 [00:01<00:00, 26.01it/s, train_loss=0.173, valid_loss=0.171]\n",
      "Epoch: 7/80: 100%|██████████| 40/40 [00:01<00:00, 26.02it/s, train_loss=0.173, valid_loss=0.172]\n",
      "Epoch: 8/80: 100%|██████████| 40/40 [00:01<00:00, 25.79it/s, train_loss=0.172, valid_loss=0.171]\n",
      "Epoch: 9/80: 100%|██████████| 40/40 [00:01<00:00, 25.86it/s, train_loss=0.168, valid_loss=0.171]\n",
      "Epoch: 10/80: 100%|██████████| 40/40 [00:01<00:00, 26.02it/s, train_loss=0.171, valid_loss=0.171]\n",
      "Epoch: 11/80: 100%|██████████| 40/40 [00:01<00:00, 26.15it/s, train_loss=0.173, valid_loss=0.172]\n",
      "Epoch: 12/80: 100%|██████████| 40/40 [00:01<00:00, 26.16it/s, train_loss=0.167, valid_loss=0.172]\n",
      "Epoch: 13/80: 100%|██████████| 40/40 [00:01<00:00, 20.91it/s, train_loss=0.169, valid_loss=0.172]\n",
      "Epoch: 14/80: 100%|██████████| 40/40 [00:01<00:00, 26.55it/s, train_loss=0.165, valid_loss=0.171]\n",
      "Epoch: 15/80: 100%|██████████| 40/40 [00:01<00:00, 26.63it/s, train_loss=0.163, valid_loss=0.171]\n",
      "Epoch: 16/80: 100%|██████████| 40/40 [00:01<00:00, 26.11it/s, train_loss=0.173, valid_loss=0.171]\n",
      "Epoch: 17/80: 100%|██████████| 40/40 [00:01<00:00, 25.77it/s, train_loss=0.173, valid_loss=0.171]\n",
      "Epoch: 18/80: 100%|██████████| 40/40 [00:01<00:00, 25.82it/s, train_loss=0.17, valid_loss=0.171] \n",
      "Epoch: 19/80: 100%|██████████| 40/40 [00:01<00:00, 25.95it/s, train_loss=0.16, valid_loss=0.171] \n",
      "Epoch: 20/80: 100%|██████████| 40/40 [00:01<00:00, 25.84it/s, train_loss=0.169, valid_loss=0.172]\n",
      "Epoch: 21/80: 100%|██████████| 40/40 [00:01<00:00, 25.84it/s, train_loss=0.169, valid_loss=0.172]\n",
      "Epoch: 22/80: 100%|██████████| 40/40 [00:01<00:00, 26.22it/s, train_loss=0.17, valid_loss=0.172] \n",
      "Epoch: 23/80: 100%|██████████| 40/40 [00:01<00:00, 20.83it/s, train_loss=0.163, valid_loss=0.171]\n",
      "Epoch: 24/80: 100%|██████████| 40/40 [00:01<00:00, 26.21it/s, train_loss=0.169, valid_loss=0.171]\n",
      "Epoch: 25/80: 100%|██████████| 40/40 [00:01<00:00, 26.59it/s, train_loss=0.173, valid_loss=0.171]\n",
      "Epoch: 26/80: 100%|██████████| 40/40 [00:01<00:00, 26.06it/s, train_loss=0.161, valid_loss=0.172]\n",
      "Epoch: 27/80: 100%|██████████| 40/40 [00:01<00:00, 26.18it/s, train_loss=0.161, valid_loss=0.171]\n",
      "Epoch: 28/80: 100%|██████████| 40/40 [00:01<00:00, 25.86it/s, train_loss=0.17, valid_loss=0.171] \n",
      "Epoch: 29/80: 100%|██████████| 40/40 [00:01<00:00, 26.63it/s, train_loss=0.174, valid_loss=0.171]\n",
      "Epoch: 30/80: 100%|██████████| 40/40 [00:01<00:00, 25.91it/s, train_loss=0.171, valid_loss=0.171]\n",
      "Epoch: 31/80: 100%|██████████| 40/40 [00:01<00:00, 24.92it/s, train_loss=0.172, valid_loss=0.171]\n",
      "Epoch: 32/80: 100%|██████████| 40/40 [00:01<00:00, 24.51it/s, train_loss=0.174, valid_loss=0.171]\n",
      "Epoch: 33/80: 100%|██████████| 40/40 [00:02<00:00, 19.24it/s, train_loss=0.163, valid_loss=0.171]\n",
      "Epoch: 34/80: 100%|██████████| 40/40 [00:01<00:00, 24.62it/s, train_loss=0.175, valid_loss=0.171]\n",
      "Epoch: 35/80: 100%|██████████| 40/40 [00:01<00:00, 25.42it/s, train_loss=0.181, valid_loss=0.172]\n",
      "Epoch: 36/80: 100%|██████████| 40/40 [00:01<00:00, 24.86it/s, train_loss=0.167, valid_loss=0.172]\n",
      "Epoch: 37/80: 100%|██████████| 40/40 [00:01<00:00, 24.08it/s, train_loss=0.169, valid_loss=0.171]\n",
      "Epoch: 38/80: 100%|██████████| 40/40 [00:01<00:00, 24.74it/s, train_loss=0.174, valid_loss=0.171]\n",
      "Epoch: 39/80: 100%|██████████| 40/40 [00:01<00:00, 26.02it/s, train_loss=0.17, valid_loss=0.171] \n",
      "Epoch: 40/80: 100%|██████████| 40/40 [00:01<00:00, 26.09it/s, train_loss=0.165, valid_loss=0.171]\n",
      "Epoch: 41/80: 100%|██████████| 40/40 [00:01<00:00, 24.02it/s, train_loss=0.166, valid_loss=0.171]\n",
      "Epoch: 42/80: 100%|██████████| 40/40 [00:01<00:00, 26.20it/s, train_loss=0.166, valid_loss=0.171]\n",
      "Epoch: 43/80: 100%|██████████| 40/40 [00:01<00:00, 20.98it/s, train_loss=0.176, valid_loss=0.172]\n",
      "Epoch: 44/80: 100%|██████████| 40/40 [00:01<00:00, 26.75it/s, train_loss=0.172, valid_loss=0.171]\n",
      "Epoch: 45/80: 100%|██████████| 40/40 [00:01<00:00, 27.05it/s, train_loss=0.175, valid_loss=0.171]\n",
      "Epoch: 46/80: 100%|██████████| 40/40 [00:01<00:00, 26.79it/s, train_loss=0.173, valid_loss=0.171]\n",
      "Epoch: 47/80: 100%|██████████| 40/40 [00:01<00:00, 25.91it/s, train_loss=0.162, valid_loss=0.171]\n",
      "Epoch: 48/80: 100%|██████████| 40/40 [00:01<00:00, 26.35it/s, train_loss=0.169, valid_loss=0.171]\n",
      "Epoch: 49/80: 100%|██████████| 40/40 [00:01<00:00, 26.15it/s, train_loss=0.172, valid_loss=0.171]\n",
      "Epoch: 50/80: 100%|██████████| 40/40 [00:01<00:00, 26.23it/s, train_loss=0.179, valid_loss=0.171]\n",
      "Epoch: 51/80: 100%|██████████| 40/40 [00:01<00:00, 25.68it/s, train_loss=0.168, valid_loss=0.171]\n",
      "Epoch: 52/80: 100%|██████████| 40/40 [00:01<00:00, 24.20it/s, train_loss=0.172, valid_loss=0.171]\n",
      "Epoch: 53/80: 100%|██████████| 40/40 [00:02<00:00, 19.99it/s, train_loss=0.174, valid_loss=0.172]\n",
      "Epoch: 54/80: 100%|██████████| 40/40 [00:01<00:00, 23.44it/s, train_loss=0.168, valid_loss=0.172]\n",
      "Epoch: 55/80: 100%|██████████| 40/40 [00:01<00:00, 24.70it/s, train_loss=0.17, valid_loss=0.171] \n",
      "Epoch: 56/80: 100%|██████████| 40/40 [00:01<00:00, 24.29it/s, train_loss=0.169, valid_loss=0.171]\n",
      "Epoch: 57/80: 100%|██████████| 40/40 [00:01<00:00, 24.66it/s, train_loss=0.165, valid_loss=0.171]\n",
      "Epoch: 58/80: 100%|██████████| 40/40 [00:01<00:00, 24.23it/s, train_loss=0.172, valid_loss=0.171]\n",
      "Epoch: 59/80: 100%|██████████| 40/40 [00:01<00:00, 24.27it/s, train_loss=0.169, valid_loss=0.171]\n",
      "Epoch: 60/80: 100%|██████████| 40/40 [00:01<00:00, 24.57it/s, train_loss=0.171, valid_loss=0.172]\n",
      "Epoch: 61/80: 100%|██████████| 40/40 [00:01<00:00, 23.88it/s, train_loss=0.164, valid_loss=0.172]\n",
      "Epoch: 62/80: 100%|██████████| 40/40 [00:01<00:00, 24.30it/s, train_loss=0.168, valid_loss=0.171]\n",
      "Epoch: 63/80: 100%|██████████| 40/40 [00:02<00:00, 19.78it/s, train_loss=0.177, valid_loss=0.171]\n",
      "Epoch: 64/80: 100%|██████████| 40/40 [00:01<00:00, 24.28it/s, train_loss=0.174, valid_loss=0.172]\n",
      "Epoch: 65/80: 100%|██████████| 40/40 [00:01<00:00, 24.29it/s, train_loss=0.166, valid_loss=0.171]\n",
      "Epoch: 66/80: 100%|██████████| 40/40 [00:01<00:00, 24.25it/s, train_loss=0.173, valid_loss=0.171]\n",
      "Epoch: 67/80: 100%|██████████| 40/40 [00:01<00:00, 30.19it/s, train_loss=0.173, valid_loss=0.171]\n",
      "Epoch: 68/80: 100%|██████████| 40/40 [00:01<00:00, 30.05it/s, train_loss=0.173, valid_loss=0.172]\n",
      "Epoch: 69/80: 100%|██████████| 40/40 [00:01<00:00, 29.92it/s, train_loss=0.167, valid_loss=0.171]\n",
      "Epoch: 70/80: 100%|██████████| 40/40 [00:01<00:00, 29.87it/s, train_loss=0.169, valid_loss=0.171]\n",
      "Epoch: 71/80: 100%|██████████| 40/40 [00:01<00:00, 24.08it/s, train_loss=0.171, valid_loss=0.171]\n",
      "Epoch: 72/80: 100%|██████████| 40/40 [00:01<00:00, 21.42it/s, train_loss=0.177, valid_loss=0.171]\n",
      "Epoch: 73/80: 100%|██████████| 40/40 [00:02<00:00, 18.48it/s, train_loss=0.173, valid_loss=0.171]\n",
      "Epoch: 74/80: 100%|██████████| 40/40 [00:01<00:00, 23.72it/s, train_loss=0.171, valid_loss=0.171]\n",
      "Epoch: 75/80: 100%|██████████| 40/40 [00:01<00:00, 30.44it/s, train_loss=0.174, valid_loss=0.171]\n",
      "Epoch: 76/80: 100%|██████████| 40/40 [00:01<00:00, 23.72it/s, train_loss=0.174, valid_loss=0.171]\n",
      "Epoch: 77/80: 100%|██████████| 40/40 [00:01<00:00, 23.95it/s, train_loss=0.168, valid_loss=0.171]\n",
      "Epoch: 78/80: 100%|██████████| 40/40 [00:01<00:00, 30.22it/s, train_loss=0.17, valid_loss=0.171] \n",
      "Epoch: 79/80: 100%|██████████| 40/40 [00:01<00:00, 30.10it/s, train_loss=0.173, valid_loss=0.171]\n",
      "Epoch: 80/80: 100%|██████████| 40/40 [00:01<00:00, 30.07it/s, train_loss=0.173, valid_loss=0.171]\n",
      "Epoch: 1/80: 100%|██████████| 40/40 [00:01<00:00, 25.29it/s, train_loss=0.0315, valid_loss=0.0351]\n",
      "Epoch: 2/80: 100%|██████████| 40/40 [00:01<00:00, 24.46it/s, train_loss=0.00315, valid_loss=0.00416]\n",
      "Epoch: 3/80: 100%|██████████| 40/40 [00:01<00:00, 24.40it/s, train_loss=0.00232, valid_loss=0.00311]\n",
      "Epoch: 4/80: 100%|██████████| 40/40 [00:02<00:00, 19.60it/s, train_loss=0.00216, valid_loss=0.00321]\n",
      "Epoch: 5/80: 100%|██████████| 40/40 [00:01<00:00, 26.36it/s, train_loss=0.00185, valid_loss=0.00278]\n",
      "Epoch: 6/80: 100%|██████████| 40/40 [00:01<00:00, 30.25it/s, train_loss=0.00185, valid_loss=0.00279]\n"
     ]
    },
    {
     "name": "stderr",
     "output_type": "stream",
     "text": [
      "Epoch: 7/80: 100%|██████████| 40/40 [00:01<00:00, 30.03it/s, train_loss=0.00137, valid_loss=0.00254]\n",
      "Epoch: 8/80: 100%|██████████| 40/40 [00:01<00:00, 30.16it/s, train_loss=0.00178, valid_loss=0.00233]\n",
      "Epoch: 9/80: 100%|██████████| 40/40 [00:01<00:00, 30.21it/s, train_loss=0.00135, valid_loss=0.00232]\n",
      "Epoch: 10/80: 100%|██████████| 40/40 [00:01<00:00, 30.19it/s, train_loss=0.00128, valid_loss=0.00236]\n",
      "Epoch: 11/80: 100%|██████████| 40/40 [00:01<00:00, 30.14it/s, train_loss=0.00113, valid_loss=0.00276]\n",
      "Epoch: 12/80: 100%|██████████| 40/40 [00:01<00:00, 30.05it/s, train_loss=0.00143, valid_loss=0.00276]\n",
      "Epoch: 13/80: 100%|██████████| 40/40 [00:01<00:00, 25.30it/s, train_loss=0.00109, valid_loss=0.0027] \n",
      "Epoch: 14/80: 100%|██████████| 40/40 [00:02<00:00, 18.94it/s, train_loss=0.00104, valid_loss=0.0036]  \n",
      "Epoch: 15/80: 100%|██████████| 40/40 [00:01<00:00, 23.55it/s, train_loss=0.000785, valid_loss=0.0033] \n",
      "Epoch: 16/80: 100%|██████████| 40/40 [00:01<00:00, 24.06it/s, train_loss=0.000732, valid_loss=0.00349]\n",
      "Epoch: 17/80: 100%|██████████| 40/40 [00:01<00:00, 24.36it/s, train_loss=0.000698, valid_loss=0.00388]\n",
      "Epoch: 18/80: 100%|██████████| 40/40 [00:01<00:00, 22.90it/s, train_loss=0.000688, valid_loss=0.00271]\n",
      "Epoch: 19/80: 100%|██████████| 40/40 [00:01<00:00, 21.51it/s, train_loss=0.000528, valid_loss=0.00315]\n",
      "Epoch: 20/80: 100%|██████████| 40/40 [00:01<00:00, 30.60it/s, train_loss=0.000451, valid_loss=0.00268]\n",
      "Epoch: 21/80: 100%|██████████| 40/40 [00:01<00:00, 30.47it/s, train_loss=0.000485, valid_loss=0.00276]\n",
      "Epoch: 22/80: 100%|██████████| 40/40 [00:01<00:00, 30.50it/s, train_loss=0.00037, valid_loss=0.00278] \n",
      "Epoch: 23/80: 100%|██████████| 40/40 [00:01<00:00, 26.96it/s, train_loss=0.000371, valid_loss=0.00312]\n",
      "Epoch: 24/80: 100%|██████████| 40/40 [00:01<00:00, 20.54it/s, train_loss=0.000313, valid_loss=0.00285]\n",
      "Epoch: 25/80: 100%|██████████| 40/40 [00:01<00:00, 24.64it/s, train_loss=0.000292, valid_loss=0.00295]\n",
      "Epoch: 26/80: 100%|██████████| 40/40 [00:01<00:00, 25.20it/s, train_loss=0.000281, valid_loss=0.00311]\n",
      "Epoch: 27/80: 100%|██████████| 40/40 [00:01<00:00, 23.24it/s, train_loss=0.000242, valid_loss=0.00289]\n",
      "Epoch: 28/80: 100%|██████████| 40/40 [00:01<00:00, 24.49it/s, train_loss=0.000238, valid_loss=0.00297]\n",
      "Epoch: 29/80: 100%|██████████| 40/40 [00:01<00:00, 24.76it/s, train_loss=0.000212, valid_loss=0.00312]\n",
      "Epoch: 30/80: 100%|██████████| 40/40 [00:01<00:00, 25.23it/s, train_loss=0.000199, valid_loss=0.00312]\n",
      "Epoch: 31/80: 100%|██████████| 40/40 [00:01<00:00, 25.35it/s, train_loss=0.00017, valid_loss=0.00306] \n",
      "Epoch: 32/80: 100%|██████████| 40/40 [00:01<00:00, 23.97it/s, train_loss=0.000198, valid_loss=0.00312]\n",
      "Epoch: 33/80: 100%|██████████| 40/40 [00:01<00:00, 25.47it/s, train_loss=0.000165, valid_loss=0.00302]\n",
      "Epoch: 34/80: 100%|██████████| 40/40 [00:02<00:00, 19.95it/s, train_loss=0.000137, valid_loss=0.00306]\n",
      "Epoch: 35/80: 100%|██████████| 40/40 [00:01<00:00, 25.45it/s, train_loss=0.000144, valid_loss=0.00297]\n",
      "Epoch: 36/80: 100%|██████████| 40/40 [00:01<00:00, 24.70it/s, train_loss=0.000133, valid_loss=0.00314]\n",
      "Epoch: 37/80: 100%|██████████| 40/40 [00:01<00:00, 24.68it/s, train_loss=0.000126, valid_loss=0.00307]\n",
      "Epoch: 38/80: 100%|██████████| 40/40 [00:01<00:00, 24.33it/s, train_loss=0.000119, valid_loss=0.00305]\n",
      "Epoch: 39/80: 100%|██████████| 40/40 [00:01<00:00, 24.21it/s, train_loss=0.000107, valid_loss=0.00301]\n",
      "Epoch: 40/80: 100%|██████████| 40/40 [00:01<00:00, 24.95it/s, train_loss=9.86e-5, valid_loss=0.003]   \n",
      "Epoch: 41/80: 100%|██████████| 40/40 [00:01<00:00, 24.31it/s, train_loss=9.69e-5, valid_loss=0.00308] \n",
      "Epoch: 42/80: 100%|██████████| 40/40 [00:01<00:00, 24.72it/s, train_loss=9.75e-5, valid_loss=0.00303] \n",
      "Epoch: 43/80: 100%|██████████| 40/40 [00:01<00:00, 25.86it/s, train_loss=9.88e-5, valid_loss=0.00296] \n",
      "Epoch: 44/80: 100%|██████████| 40/40 [00:02<00:00, 19.14it/s, train_loss=8.41e-5, valid_loss=0.00307]\n",
      "Epoch: 45/80: 100%|██████████| 40/40 [00:01<00:00, 23.58it/s, train_loss=8.36e-5, valid_loss=0.00313]\n",
      "Epoch: 46/80: 100%|██████████| 40/40 [00:01<00:00, 24.20it/s, train_loss=7.91e-5, valid_loss=0.00303]\n",
      "Epoch: 47/80: 100%|██████████| 40/40 [00:01<00:00, 25.03it/s, train_loss=7.63e-5, valid_loss=0.00302]\n",
      "Epoch: 48/80: 100%|██████████| 40/40 [00:01<00:00, 25.02it/s, train_loss=7e-5, valid_loss=0.00304]   \n",
      "Epoch: 49/80: 100%|██████████| 40/40 [00:01<00:00, 24.33it/s, train_loss=7.13e-5, valid_loss=0.00303]\n",
      "Epoch: 50/80: 100%|██████████| 40/40 [00:01<00:00, 25.22it/s, train_loss=6.88e-5, valid_loss=0.00301]\n",
      "Epoch: 51/80: 100%|██████████| 40/40 [00:01<00:00, 25.29it/s, train_loss=6.59e-5, valid_loss=0.0031] \n",
      "Epoch: 52/80: 100%|██████████| 40/40 [00:01<00:00, 25.02it/s, train_loss=5.96e-5, valid_loss=0.003]  \n",
      "Epoch: 53/80: 100%|██████████| 40/40 [00:01<00:00, 24.06it/s, train_loss=6.46e-5, valid_loss=0.00308]\n",
      "Epoch: 54/80: 100%|██████████| 40/40 [00:02<00:00, 19.30it/s, train_loss=6.09e-5, valid_loss=0.00308]\n",
      "Epoch: 55/80: 100%|██████████| 40/40 [00:01<00:00, 23.62it/s, train_loss=5.85e-5, valid_loss=0.00305]\n",
      "Epoch: 56/80: 100%|██████████| 40/40 [00:01<00:00, 23.74it/s, train_loss=6.29e-5, valid_loss=0.00307]\n",
      "Epoch: 57/80: 100%|██████████| 40/40 [00:01<00:00, 24.42it/s, train_loss=5.44e-5, valid_loss=0.00303]\n",
      "Epoch: 58/80: 100%|██████████| 40/40 [00:01<00:00, 25.22it/s, train_loss=5.25e-5, valid_loss=0.00305]\n",
      "Epoch: 59/80: 100%|██████████| 40/40 [00:01<00:00, 26.88it/s, train_loss=5.27e-5, valid_loss=0.00316]\n",
      "Epoch: 60/80: 100%|██████████| 40/40 [00:01<00:00, 26.41it/s, train_loss=5.5e-5, valid_loss=0.00309] \n",
      "Epoch: 61/80: 100%|██████████| 40/40 [00:01<00:00, 26.46it/s, train_loss=5.11e-5, valid_loss=0.00316]\n",
      "Epoch: 62/80: 100%|██████████| 40/40 [00:01<00:00, 26.47it/s, train_loss=5.07e-5, valid_loss=0.00311]\n",
      "Epoch: 63/80: 100%|██████████| 40/40 [00:01<00:00, 27.17it/s, train_loss=4.9e-5, valid_loss=0.00311] \n",
      "Epoch: 64/80: 100%|██████████| 40/40 [00:01<00:00, 21.44it/s, train_loss=4.91e-5, valid_loss=0.00312]\n",
      "Epoch: 65/80: 100%|██████████| 40/40 [00:01<00:00, 27.18it/s, train_loss=4.72e-5, valid_loss=0.00314]\n",
      "Epoch: 66/80: 100%|██████████| 40/40 [00:01<00:00, 26.95it/s, train_loss=5.08e-5, valid_loss=0.00314]\n",
      "Epoch: 67/80: 100%|██████████| 40/40 [00:01<00:00, 27.07it/s, train_loss=4.63e-5, valid_loss=0.00318]\n",
      "Epoch: 68/80: 100%|██████████| 40/40 [00:01<00:00, 26.58it/s, train_loss=4.45e-5, valid_loss=0.00317]\n",
      "Epoch: 69/80: 100%|██████████| 40/40 [00:01<00:00, 26.63it/s, train_loss=4.27e-5, valid_loss=0.00318]\n",
      "Epoch: 70/80: 100%|██████████| 40/40 [00:01<00:00, 27.21it/s, train_loss=4.36e-5, valid_loss=0.00319]\n",
      "Epoch: 71/80: 100%|██████████| 40/40 [00:01<00:00, 26.62it/s, train_loss=4.56e-5, valid_loss=0.00316]\n",
      "Epoch: 72/80: 100%|██████████| 40/40 [00:01<00:00, 26.79it/s, train_loss=4.31e-5, valid_loss=0.00316]\n",
      "Epoch: 73/80: 100%|██████████| 40/40 [00:01<00:00, 26.82it/s, train_loss=4.14e-5, valid_loss=0.00318]\n",
      "Epoch: 74/80: 100%|██████████| 40/40 [00:01<00:00, 21.09it/s, train_loss=4.32e-5, valid_loss=0.00318]\n",
      "Epoch: 75/80: 100%|██████████| 40/40 [00:01<00:00, 27.08it/s, train_loss=4e-5, valid_loss=0.00318]   \n",
      "Epoch: 76/80: 100%|██████████| 40/40 [00:01<00:00, 26.99it/s, train_loss=4.07e-5, valid_loss=0.00322]\n",
      "Epoch: 77/80: 100%|██████████| 40/40 [00:01<00:00, 26.94it/s, train_loss=3.85e-5, valid_loss=0.00317]\n",
      "Epoch: 78/80: 100%|██████████| 40/40 [00:01<00:00, 24.61it/s, train_loss=3.9e-5, valid_loss=0.00317] \n",
      "Epoch: 79/80: 100%|██████████| 40/40 [00:01<00:00, 24.22it/s, train_loss=3.69e-5, valid_loss=0.00321]\n",
      "Epoch: 80/80: 100%|██████████| 40/40 [00:01<00:00, 25.38it/s, train_loss=3.88e-5, valid_loss=0.0032] \n"
     ]
    },
    {
     "name": "stdout",
     "output_type": "stream",
     "text": [
      "supervised data: shape of x: (6237, 72, 16), shape of y: (6237, 24)\n",
      "MAPE:0.04007775766678824, MAE:524.5349470225663, RMSE:756.9138633342523\n"
     ]
    },
    {
     "data": {
      "image/png": "[encoded data removed]",
      "text/plain": [
       "<Figure size 432x288 with 1 Axes>"
      ]
     },
     "metadata": {
      "needs_background": "light"
     },
     "output_type": "display_data"
    }
   ],
   "source": [
    "MAPE, MAE, RMSE, load_pred, load_true = run_model_retraining()\n",
    "print('MAPE:{}, MAE:{}, RMSE:{}'.format(MAPE, MAE, RMSE))"
   ]
  },
  {
   "cell_type": "code",
   "execution_count": 27,
   "id": "80e7bcb9",
   "metadata": {
    "ExecuteTime": {
     "end_time": "2021-12-26T05:14:17.177690Z",
     "start_time": "2021-12-26T05:14:17.169202Z"
    }
   },
   "outputs": [
    {
     "name": "stdout",
     "output_type": "stream",
     "text": [
      "MAPE:0.0384057963665871, MAE:501.0451122660703, RMSE:738.5504601430696\n"
     ]
    }
   ],
   "source": [
    "print('MAPE:{}, MAE:{}, RMSE:{}'.format(MAPE, MAE, RMSE))"
   ]
  },
  {
   "cell_type": "markdown",
   "id": "5259f061",
   "metadata": {},
   "source": [
    "## figure plot"
   ]
  },
  {
   "cell_type": "code",
   "execution_count": 87,
   "id": "05c99288",
   "metadata": {
    "ExecuteTime": {
     "end_time": "2021-12-27T09:35:33.218610Z",
     "start_time": "2021-12-27T09:35:33.025690Z"
    }
   },
   "outputs": [
    {
     "data": {
      "text/plain": [
       "(0.0, 19463.686996387154)"
      ]
     },
     "execution_count": 87,
     "metadata": {},
     "output_type": "execute_result"
    },
    {
     "data": {
      "image/png": "[encoded data removed]",
      "text/plain": [
       "<Figure size 1440x720 with 1 Axes>"
      ]
     },
     "metadata": {
      "needs_background": "light"
     },
     "output_type": "display_data"
    }
   ],
   "source": [
    "plt.figure(figsize=(20, 10))\n",
    "load_pred = load_pred.reshape(-1, target_len)\n",
    "load_true = load_true.reshape(-1, target_len)\n",
    "plt.plot(load_pred[:240,0], 'r')\n",
    "plt.plot(load_true[:240,0], 'g')\n",
    "plt.ylim(0)"
   ]
  }
 ],
 "metadata": {
  "kernelspec": {
   "display_name": "Python 3",
   "language": "python",
   "name": "python3"
  },
  "language_info": {
   "codemirror_mode": {
    "name": "ipython",
    "version": 3
   },
   "file_extension": ".py",
   "mimetype": "text/x-python",
   "name": "python",
   "nbconvert_exporter": "python",
   "pygments_lexer": "ipython3",
   "version": "3.8.12"
  },
  "toc": {
   "base_numbering": 1,
   "nav_menu": {},
   "number_sections": true,
   "sideBar": true,
   "skip_h1_title": false,
   "title_cell": "Table of Contents",
   "title_sidebar": "Contents",
   "toc_cell": false,
   "toc_position": {
    "height": "calc(100% - 180px)",
    "left": "10px",
    "top": "150px",
    "width": "374.391px"
   },
   "toc_section_display": true,
   "toc_window_display": true
  },
  "varInspector": {
   "cols": {
    "lenName": 16,
    "lenType": 16,
    "lenVar": 40
   },
   "kernels_config": {
    "python": {
     "delete_cmd_postfix": "",
     "delete_cmd_prefix": "del ",
     "library": "var_list.py",
     "varRefreshCmd": "print(var_dic_list())"
    },
    "r": {
     "delete_cmd_postfix": ") ",
     "delete_cmd_prefix": "rm(",
     "library": "var_list.r",
     "varRefreshCmd": "cat(var_dic_list()) "
    }
   },
   "oldHeight": 320.844,
   "position": {
    "height": "342.844px",
    "left": "1482px",
    "right": "20px",
    "top": "127px",
    "width": "350px"
   },
   "types_to_exclude": [
    "module",
    "function",
    "builtin_function_or_method",
    "instance",
    "_Feature"
   ],
   "varInspector_section_display": "block",
   "window_display": false
  }
 },
 "nbformat": 4,
 "nbformat_minor": 5
}
