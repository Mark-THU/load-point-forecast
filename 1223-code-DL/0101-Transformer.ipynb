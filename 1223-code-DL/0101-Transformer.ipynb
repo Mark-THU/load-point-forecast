{
 "cells": [
  {
   "cell_type": "markdown",
   "id": "d2d7190a",
   "metadata": {},
   "source": [
    "# Transformer for forecast"
   ]
  },
  {
   "cell_type": "code",
   "execution_count": 1,
   "id": "f25fcf6c",
   "metadata": {
    "ExecuteTime": {
     "end_time": "2022-01-02T08:27:49.246286Z",
     "start_time": "2022-01-02T08:27:48.318282Z"
    }
   },
   "outputs": [],
   "source": [
    "import pandas as pd\n",
    "import numpy as np\n",
    "import matplotlib.pyplot as plt\n",
    "import pdb\n",
    "import torch\n",
    "import torch.nn as nn\n",
    "import torch.nn.functional as F\n",
    "import random\n",
    "import math\n",
    "\n",
    "from sklearn.preprocessing import MinMaxScaler\n",
    "from sklearn.model_selection import train_test_split, TimeSeriesSplit\n",
    "from torch.autograd import Variable\n",
    "from torch.utils.data import TensorDataset, DataLoader\n",
    "from tqdm import tqdm\n",
    "from xgboost import XGBRegressor\n",
    "if torch.cuda.is_available():  \n",
    "    dev = \"cuda:0\" \n",
    "else:  \n",
    "    dev = \"cpu\"\n",
    "device = torch.device(dev)"
   ]
  },
  {
   "cell_type": "code",
   "execution_count": 2,
   "id": "ed6a0cd4",
   "metadata": {
    "ExecuteTime": {
     "end_time": "2022-01-02T08:27:49.251045Z",
     "start_time": "2022-01-02T08:27:49.247999Z"
    }
   },
   "outputs": [],
   "source": [
    "def random_seed_set(seed):\n",
    "    np.random.seed(seed)\n",
    "    torch.random.manual_seed(seed)\n",
    "    torch.cuda.random.manual_seed(seed)\n",
    "    torch.backends.cudnn.benchmark = False\n",
    "    torch.backends.cudnn.deterministic = True"
   ]
  },
  {
   "cell_type": "markdown",
   "id": "70af0591",
   "metadata": {},
   "source": [
    "## load data"
   ]
  },
  {
   "cell_type": "code",
   "execution_count": 3,
   "id": "843e72e3",
   "metadata": {
    "ExecuteTime": {
     "end_time": "2022-01-02T08:27:49.338757Z",
     "start_time": "2022-01-02T08:27:49.252271Z"
    }
   },
   "outputs": [],
   "source": [
    "url = '../data/beijing.csv'\n",
    "data = pd.read_csv(url, sep=',', index_col='time')"
   ]
  },
  {
   "cell_type": "markdown",
   "id": "fca66e80",
   "metadata": {},
   "source": [
    "## normalization"
   ]
  },
  {
   "cell_type": "code",
   "execution_count": 4,
   "id": "f6195db2",
   "metadata": {
    "ExecuteTime": {
     "end_time": "2022-01-02T08:27:49.343880Z",
     "start_time": "2022-01-02T08:27:49.340637Z"
    }
   },
   "outputs": [],
   "source": [
    "def normalization(data):\n",
    "    \"\"\"\n",
    "    data: original data with load\n",
    "    return: normalized data, scaler of load\n",
    "    \"\"\"\n",
    "    scaler = MinMaxScaler()\n",
    "    normalized_data = scaler.fit_transform(data)\n",
    "    scaler_y = MinMaxScaler()\n",
    "    scaler_y.fit_transform(data[[data.columns[-1]]])\n",
    "    return normalized_data, scaler, scaler_y"
   ]
  },
  {
   "cell_type": "markdown",
   "id": "7ffb58c9",
   "metadata": {
    "ExecuteTime": {
     "end_time": "2021-12-22T07:45:44.192666Z",
     "start_time": "2021-12-22T07:45:44.188985Z"
    }
   },
   "source": [
    "## build supervised dataset"
   ]
  },
  {
   "cell_type": "code",
   "execution_count": 5,
   "id": "eafcd0f2",
   "metadata": {
    "ExecuteTime": {
     "end_time": "2022-01-02T08:27:49.349238Z",
     "start_time": "2022-01-02T08:27:49.345314Z"
    }
   },
   "outputs": [],
   "source": [
    "def series_to_supervise(data, seq_len, target_len):\n",
    "    \"\"\"\n",
    "    convert series data to supervised data\n",
    "    :param data: original data\n",
    "    :param seq_len: length of input sequence\n",
    "    :param target_len: length of ouput sequence\n",
    "    :return: return two ndarrays-- input and output in format suitable to feed to LSTM\n",
    "    \"\"\"\n",
    "    dim_0 = data.shape[0] - seq_len - target_len + 1\n",
    "    dim_1 = data.shape[1]\n",
    "    x = np.zeros((dim_0, seq_len, dim_1))\n",
    "    y = np.zeros((dim_0, target_len, dim_1))\n",
    "    for i in range(dim_0):\n",
    "        x[i] = data[i:i + seq_len]\n",
    "        y[i] = data[i + seq_len:i + seq_len + target_len, :]\n",
    "    print(\"supervised data: shape of x: {}, shape of y: {}\".format(\n",
    "        x.shape, y.shape))\n",
    "    return x, y"
   ]
  },
  {
   "cell_type": "markdown",
   "id": "b0820115",
   "metadata": {},
   "source": [
    "## 5-folds TimeSeriesSplit"
   ]
  },
  {
   "cell_type": "code",
   "execution_count": 6,
   "id": "c9388760",
   "metadata": {
    "ExecuteTime": {
     "end_time": "2022-01-02T08:27:49.354363Z",
     "start_time": "2022-01-02T08:27:49.350901Z"
    }
   },
   "outputs": [],
   "source": [
    "def time_series_split(X, Y, n_split=5):\n",
    "    \"\"\"\n",
    "    X: features, size * seq_len * feature_num\n",
    "    Y: labels, size * target_len\n",
    "    return: list of train_x, test_x, train_y, test_y\n",
    "    \"\"\"\n",
    "    tscv = TimeSeriesSplit(n_splits=n_split)\n",
    "    train_x_list = list()\n",
    "    valid_x_list = list()\n",
    "    train_y_list = list()\n",
    "    valid_y_list = list()\n",
    "    for train_index, valid_index in tscv.split(X):\n",
    "        train_x_list.append(X[train_index])\n",
    "        train_y_list.append(Y[train_index])\n",
    "        valid_x_list.append(X[valid_index])\n",
    "        valid_y_list.append(Y[valid_index])\n",
    "    return train_x_list, train_y_list, valid_x_list, valid_y_list"
   ]
  },
  {
   "cell_type": "markdown",
   "id": "717cdfdf",
   "metadata": {},
   "source": [
    "## Transform model"
   ]
  },
  {
   "cell_type": "markdown",
   "id": "cff19285",
   "metadata": {},
   "source": [
    "### PositionalEncoding"
   ]
  },
  {
   "cell_type": "code",
   "execution_count": 7,
   "id": "648945e3",
   "metadata": {
    "ExecuteTime": {
     "end_time": "2022-01-02T08:27:49.360731Z",
     "start_time": "2022-01-02T08:27:49.355699Z"
    }
   },
   "outputs": [],
   "source": [
    "class PositionalEncoding(nn.Module):\n",
    "    \"\"\"位置编码\"\"\"\n",
    "    def __init__(self, num_hiddens, dropout, max_len=500):\n",
    "        super(PositionalEncoding, self).__init__()\n",
    "        self.dropout = nn.Dropout(dropout)\n",
    "        # 创建一个足够长的 `P`\n",
    "        self.P = torch.zeros((1, max_len, num_hiddens))\n",
    "        X = torch.arange(max_len, dtype=torch.float32).reshape(\n",
    "            -1, 1) / torch.pow(10000, torch.arange(\n",
    "            0, num_hiddens, 2, dtype=torch.float32) / num_hiddens)\n",
    "        self.P[:, :, 0::2] = torch.sin(X)\n",
    "        self.P[:, :, 1::2] = torch.cos(X)\n",
    "\n",
    "    def forward(self, X):\n",
    "        X = X + self.P[:, :X.shape[1], :].to(X.device)\n",
    "        return self.dropout(X)"
   ]
  },
  {
   "cell_type": "markdown",
   "id": "d12db0ff",
   "metadata": {},
   "source": [
    "### DotProduct Attention"
   ]
  },
  {
   "cell_type": "code",
   "execution_count": 8,
   "id": "85383ccd",
   "metadata": {
    "ExecuteTime": {
     "end_time": "2022-01-02T08:27:49.369620Z",
     "start_time": "2022-01-02T08:27:49.362235Z"
    }
   },
   "outputs": [],
   "source": [
    "def sequence_mask(X, valid_len, value=0):\n",
    "    \"\"\"在序列中屏蔽不相关的项\"\"\"\n",
    "    maxlen = X.size(1)\n",
    "    mask = torch.arange((maxlen), dtype=torch.float32,\n",
    "                        device=X.device)[None, :] < valid_len[:, None]\n",
    "    X[~mask] = value\n",
    "    return X\n",
    "\n",
    "\n",
    "def masked_softmax(X, valid_lens):\n",
    "    \"\"\"通过在最后一个轴上掩蔽元素来执行 softmax 操作\"\"\"\n",
    "    # `X`: 3D张量，`valid_lens`: 1D或2D 张量\n",
    "    # valid_lens 为 None 正常softmax\n",
    "    if valid_lens is None:\n",
    "        return nn.functional.softmax(X, dim=-1)\n",
    "    else:\n",
    "        shape = X.shape\n",
    "        if valid_lens.dim() == 1:\n",
    "            valid_lens = torch.repeat_interleave(valid_lens, shape[1])\n",
    "        else:\n",
    "            valid_lens = valid_lens.reshape(-1)\n",
    "        # 最后一轴上被掩蔽的元素使用一个非常大的负值替换，从而其softmax输出为0\n",
    "        X = sequence_mask(X.reshape(-1, shape[-1]), valid_lens, value=-1e6)\n",
    "        return nn.functional.softmax(X.reshape(shape), dim=-1)\n",
    "\n",
    "\n",
    "class DotProductAttention(nn.Module):\n",
    "    \"\"\"缩放点积注意力\"\"\"\n",
    "    def __init__(self, dropout, **kwargs):\n",
    "        super(DotProductAttention, self).__init__(**kwargs)\n",
    "        self.dropout = nn.Dropout(dropout)\n",
    "\n",
    "    # `queries` 的形状：(`batch_size`，查询的个数，`d`)\n",
    "    # `keys` 的形状：(`batch_size`，“键－值”对的个数，`d`)\n",
    "    # `values` 的形状：(`batch_size`，“键－值”对的个数，值的维度)\n",
    "    # `valid_lens` 的形状: (`batch_size`，) 或者 (`batch_size`，查询的个数)\n",
    "\n",
    "    def forward(self, queries, keys, values, valid_lens=None):\n",
    "        d = queries.shape[-1]\n",
    "        # 设置 `transpose_b=True` 为了交换 `keys` 的最后两个维度\n",
    "        scores = torch.bmm(queries, keys.transpose(1, 2)) / math.sqrt(d)\n",
    "        self.attention_weights = masked_softmax(scores, valid_lens)\n",
    "        return torch.bmm(self.dropout(self.attention_weights), values)"
   ]
  },
  {
   "cell_type": "markdown",
   "id": "93aab25c",
   "metadata": {},
   "source": [
    "### MultiHead Attention"
   ]
  },
  {
   "cell_type": "code",
   "execution_count": 9,
   "id": "50ab04d9",
   "metadata": {
    "ExecuteTime": {
     "end_time": "2022-01-02T08:27:49.379430Z",
     "start_time": "2022-01-02T08:27:49.371035Z"
    }
   },
   "outputs": [],
   "source": [
    "class MultiHeadAttention(nn.Module):\n",
    "    \"\"\"多头注意力\"\"\"\n",
    "    def __init__(self,\n",
    "                 key_size,\n",
    "                 query_size,\n",
    "                 value_size,\n",
    "                 num_hiddens,\n",
    "                 num_heads,\n",
    "                 dropout,\n",
    "                 bias=False,\n",
    "                 **kwargs):\n",
    "        super(MultiHeadAttention, self).__init__(**kwargs)\n",
    "        self.num_heads = num_heads\n",
    "        self.attention = DotProductAttention(dropout)\n",
    "        self.W_q = nn.Linear(query_size, num_hiddens, bias=bias)\n",
    "        self.W_k = nn.Linear(key_size, num_hiddens, bias=bias)\n",
    "        self.W_v = nn.Linear(value_size, num_hiddens, bias=bias)\n",
    "        self.W_o = nn.Linear(num_hiddens, num_hiddens, bias=bias)\n",
    "\n",
    "    def forward(self, queries, keys, values, valid_lens=None):\n",
    "        # `queries`，`keys`，`values` 的形状:\n",
    "        # (`batch_size`，查询或者“键－值”对的个数，`num_hiddens`)\n",
    "        # `valid_lens`　的形状:\n",
    "        # (`batch_size`，) 或 (`batch_size`，查询的个数)\n",
    "        # 经过变换后，输出的 `queries`，`keys`，`values`　的形状:\n",
    "        # (`batch_size` * `num_heads`，查询或者“键－值”对的个数，\n",
    "        # `num_hiddens` / `num_heads`)\n",
    "        queries = transpose_qkv(self.W_q(queries), self.num_heads)\n",
    "        keys = transpose_qkv(self.W_k(keys), self.num_heads)\n",
    "        values = transpose_qkv(self.W_v(values), self.num_heads)\n",
    "\n",
    "        if valid_lens is not None:\n",
    "            # 在轴 0，将第一项（标量或者矢量）复制 `num_heads` 次，\n",
    "            # 然后如此复制第二项，然后诸如此类。\n",
    "            valid_lens = torch.repeat_interleave(valid_lens,\n",
    "                                                 repeats=self.num_heads,\n",
    "                                                 dim=0)\n",
    "\n",
    "        # `output` 的形状: (`batch_size` * `num_heads`，查询的个数，\n",
    "        # `num_hiddens` / `num_heads`)\n",
    "        output = self.attention(queries, keys, values, valid_lens)\n",
    "\n",
    "        # `output_concat` 的形状: (`batch_size`，查询的个数，`num_hiddens`)\n",
    "        output_concat = transpose_output(output, self.num_heads)\n",
    "        return self.W_o(output_concat)\n",
    "\n",
    "\n",
    "def transpose_qkv(X, num_heads):\n",
    "    \"\"\"为了多注意力头的并行计算而变换形状。\"\"\"\n",
    "    # 输入 `X` 的形状: (`batch_size`，查询或者“键－值”对的个数，`num_hiddens`)\n",
    "    # 输出 `X` 的形状: (`batch_size`，查询或者“键－值”对的个数，`num_heads`，\n",
    "    # `num_hiddens` / `num_heads`)\n",
    "    X = X.reshape(X.shape[0], X.shape[1], num_heads, -1)\n",
    "\n",
    "    # 输出 `X` 的形状: (`batch_size`，`num_heads`，查询或者“键－值”对的个数,\n",
    "    # `num_hiddens` / `num_heads`)\n",
    "    X = X.permute(0, 2, 1, 3)\n",
    "\n",
    "    # 最终输出的形状: (`batch_size` * `num_heads`, 查询或者“键－值”对的个数,\n",
    "    # `num_hiddens` / `num_heads`)\n",
    "    return X.reshape(-1, X.shape[2], X.shape[3])\n",
    "\n",
    "\n",
    "def transpose_output(X, num_heads):\n",
    "    \"\"\"逆转 `transpose_qkv` 函数的操作。\"\"\"\n",
    "    X = X.reshape(-1, num_heads, X.shape[1], X.shape[2])\n",
    "    X = X.permute(0, 2, 1, 3)\n",
    "    return X.reshape(X.shape[0], X.shape[1], -1)"
   ]
  },
  {
   "cell_type": "markdown",
   "id": "86499b4d",
   "metadata": {},
   "source": [
    "### PositionWiseFFN"
   ]
  },
  {
   "cell_type": "code",
   "execution_count": 10,
   "id": "820a386e",
   "metadata": {
    "ExecuteTime": {
     "end_time": "2022-01-02T08:27:49.385237Z",
     "start_time": "2022-01-02T08:27:49.381794Z"
    }
   },
   "outputs": [],
   "source": [
    "class PositionWiseFFN(nn.Module):\n",
    "    \"\"\"基于位置的前馈网络\"\"\"\n",
    "    def __init__(self, ffn_num_input, ffn_num_hiddens, ffn_num_outputs,\n",
    "                 **kwargs):\n",
    "        super(PositionWiseFFN, self).__init__(**kwargs)\n",
    "        self.dense1 = nn.Linear(ffn_num_input, ffn_num_hiddens)\n",
    "        self.relu = nn.ReLU()\n",
    "        self.dense2 = nn.Linear(ffn_num_hiddens, ffn_num_outputs)\n",
    "\n",
    "    def forward(self, X):\n",
    "        return self.dense2(self.relu(self.dense1(X)))"
   ]
  },
  {
   "cell_type": "markdown",
   "id": "e73b9899",
   "metadata": {
    "ExecuteTime": {
     "end_time": "2022-01-01T11:19:45.611064Z",
     "start_time": "2022-01-01T11:19:45.606777Z"
    }
   },
   "source": [
    "### Add&Norm"
   ]
  },
  {
   "cell_type": "code",
   "execution_count": 11,
   "id": "4fa099a2",
   "metadata": {
    "ExecuteTime": {
     "end_time": "2022-01-02T08:27:49.389762Z",
     "start_time": "2022-01-02T08:27:49.386327Z"
    }
   },
   "outputs": [],
   "source": [
    "class AddNorm(nn.Module):\n",
    "    \"\"\"残差连接后进行层规范化\"\"\"\n",
    "    def __init__(self, normalized_shape, dropout, **kwargs):\n",
    "        super(AddNorm, self).__init__(**kwargs)\n",
    "        self.dropout = nn.Dropout(dropout)\n",
    "        self.ln = nn.LayerNorm(normalized_shape)\n",
    "\n",
    "    def forward(self, X, Y):\n",
    "        return self.ln(self.dropout(Y) + X)"
   ]
  },
  {
   "cell_type": "markdown",
   "id": "2bcd4655",
   "metadata": {},
   "source": [
    "### Encoder"
   ]
  },
  {
   "cell_type": "code",
   "execution_count": 12,
   "id": "94502906",
   "metadata": {
    "ExecuteTime": {
     "end_time": "2022-01-02T08:27:49.398917Z",
     "start_time": "2022-01-02T08:27:49.391057Z"
    }
   },
   "outputs": [],
   "source": [
    "class EncoderBlock(nn.Module):\n",
    "    \"\"\"transformer编码器块\"\"\"\n",
    "    def __init__(self,\n",
    "                 key_size,\n",
    "                 query_size,\n",
    "                 value_size,\n",
    "                 num_hiddens,\n",
    "                 norm_shape,\n",
    "                 ffn_num_input,\n",
    "                 ffn_num_hiddens,\n",
    "                 num_heads,\n",
    "                 dropout,\n",
    "                 use_bias=False,\n",
    "                 **kwargs):\n",
    "        super(EncoderBlock, self).__init__(**kwargs)\n",
    "        self.attention = MultiHeadAttention(key_size, query_size, value_size,\n",
    "                                            num_hiddens, num_heads, dropout,\n",
    "                                            use_bias)\n",
    "        self.addnorm1 = AddNorm(norm_shape, dropout)\n",
    "        self.ffn = PositionWiseFFN(ffn_num_input, ffn_num_hiddens, num_hiddens)\n",
    "        self.addnorm2 = AddNorm(norm_shape, dropout)\n",
    "\n",
    "    def forward(self, X, valid_lens):\n",
    "        Y = self.addnorm1(X, self.attention(X, X, X, valid_lens))\n",
    "        return self.addnorm2(Y, self.ffn(Y))\n",
    "    \n",
    "    \n",
    "class TransformerEncoder(nn.Module):\n",
    "    \"\"\"transformer编码器\"\"\"\n",
    "    def __init__(self, input_size, key_size, query_size, value_size,\n",
    "                 num_hiddens, norm_shape, ffn_num_input, ffn_num_hiddens,\n",
    "                 num_heads, num_layers, dropout, use_bias=False, **kwargs):\n",
    "        super(TransformerEncoder, self).__init__(**kwargs)\n",
    "        self.num_hiddens = num_hiddens\n",
    "        self.embedding = nn.Linear(input_size, num_hiddens)\n",
    "        self.pos_encoding = PositionalEncoding(num_hiddens, dropout)\n",
    "        self.blks = nn.Sequential()\n",
    "        for i in range(num_layers):\n",
    "            self.blks.add_module(\"block\"+str(i),\n",
    "                EncoderBlock(key_size, query_size, value_size, num_hiddens,\n",
    "                             norm_shape, ffn_num_input, ffn_num_hiddens,\n",
    "                             num_heads, dropout, use_bias))\n",
    "\n",
    "    def forward(self, X, valid_lens=None, *args):\n",
    "        # 因为位置编码值在 -1 和 1 之间，\n",
    "        # 因此嵌入值乘以嵌入维度的平方根进行缩放，\n",
    "        # 然后再与位置编码相加。\n",
    "        # pdb.set_trace()\n",
    "        # X shape (batch_size, num_steps, input_size)\n",
    "        X = self.pos_encoding(self.embedding(X) * math.sqrt(self.num_hiddens))\n",
    "        for i, blk in enumerate(self.blks):\n",
    "            X = blk(X, valid_lens)\n",
    "        return X"
   ]
  },
  {
   "cell_type": "markdown",
   "id": "ec466448",
   "metadata": {},
   "source": [
    "### Decoder"
   ]
  },
  {
   "cell_type": "code",
   "execution_count": 13,
   "id": "00d2917e",
   "metadata": {
    "ExecuteTime": {
     "end_time": "2022-01-02T08:27:49.409776Z",
     "start_time": "2022-01-02T08:27:49.400233Z"
    }
   },
   "outputs": [],
   "source": [
    "class DecoderBlock(nn.Module):\n",
    "    \"\"\"解码器中第 i 个块\"\"\"\n",
    "    def __init__(self, key_size, query_size, value_size, num_hiddens,\n",
    "                 norm_shape, ffn_num_input, ffn_num_hiddens, num_heads,\n",
    "                 dropout, i, **kwargs):\n",
    "        super(DecoderBlock, self).__init__(**kwargs)\n",
    "        self.i = i\n",
    "        self.attention1 = MultiHeadAttention(\n",
    "            key_size, query_size, value_size, num_hiddens, num_heads, dropout)\n",
    "        self.addnorm1 = AddNorm(norm_shape, dropout)\n",
    "        self.attention2 = MultiHeadAttention(\n",
    "            key_size, query_size, value_size, num_hiddens, num_heads, dropout)\n",
    "        self.addnorm2 = AddNorm(norm_shape, dropout)\n",
    "        self.ffn = PositionWiseFFN(ffn_num_input, ffn_num_hiddens,\n",
    "                                   num_hiddens)\n",
    "        self.addnorm3 = AddNorm(norm_shape, dropout)\n",
    "\n",
    "    def forward(self, X, state):\n",
    "        enc_outputs, enc_valid_lens = state[0], state[1]\n",
    "        # 训练阶段，输出序列的所有词元都在同一时间处理，\n",
    "        # 因此 `state[2][self.i]` 初始化为 `None`。\n",
    "        # 预测阶段，输出序列是通过词元一个接着一个解码的，\n",
    "        # 因此 `state[2][self.i]` 包含着直到当前时间步第 `i` 个块解码的输出表示\n",
    "        if state[2][self.i] is None:\n",
    "            key_values = X\n",
    "        else:\n",
    "            key_values = torch.cat((state[2][self.i], X), axis=1)\n",
    "        state[2][self.i] = key_values\n",
    "        if self.training:\n",
    "            batch_size, num_steps, _ = X.shape\n",
    "            # `dec_valid_lens` 的开头: (`batch_size`, `num_steps`),\n",
    "            # 其中每一行是 [1, 2, ..., `num_steps`]\n",
    "            dec_valid_lens = torch.arange(\n",
    "                1, num_steps + 1, device=X.device).repeat(batch_size, 1)\n",
    "        else:\n",
    "            dec_valid_lens = None\n",
    "\n",
    "        # 自注意力\n",
    "        X2 = self.attention1(X, key_values, key_values, dec_valid_lens)\n",
    "        Y = self.addnorm1(X, X2)\n",
    "        # 编码器－解码器注意力。\n",
    "        # `enc_outputs` 的开头: (`batch_size`, `num_steps`, `num_hiddens`)\n",
    "        Y2 = self.attention2(Y, enc_outputs, enc_outputs)\n",
    "        Z = self.addnorm2(Y, Y2)\n",
    "        return self.addnorm3(Z, self.ffn(Z)), state\n",
    "\n",
    "    \n",
    "class TransformerDecoder(nn.Module):\n",
    "    \"\"\"transformer解码器\"\"\"\n",
    "    def __init__(self, input_size, key_size, query_size, value_size,\n",
    "                 num_hiddens, norm_shape, ffn_num_input, ffn_num_hiddens,\n",
    "                 num_heads, num_layers, dropout, **kwargs):\n",
    "        super(TransformerDecoder, self).__init__(**kwargs)\n",
    "        self.num_hiddens = num_hiddens\n",
    "        self.num_layers = num_layers\n",
    "        self.embedding = nn.Linear(input_size, num_hiddens)\n",
    "        self.pos_encoding = PositionalEncoding(num_hiddens, dropout)\n",
    "        self.blks = nn.Sequential()\n",
    "        for i in range(num_layers):\n",
    "            self.blks.add_module(\"block\"+str(i),\n",
    "                DecoderBlock(key_size, query_size, value_size, num_hiddens,\n",
    "                             norm_shape, ffn_num_input, ffn_num_hiddens,\n",
    "                             num_heads, dropout, i))\n",
    "        self.dense = nn.Linear(num_hiddens, 1)\n",
    "\n",
    "\n",
    "    def forward(self, X, state):\n",
    "        # X shape (batch_size, num_steps, input_size)\n",
    "        X = self.pos_encoding(self.embedding(X) * math.sqrt(self.num_hiddens))\n",
    "        for i, blk in enumerate(self.blks):\n",
    "            X, state = blk(X, state)\n",
    "        return self.dense(X), state"
   ]
  },
  {
   "cell_type": "markdown",
   "id": "a933819b",
   "metadata": {
    "ExecuteTime": {
     "end_time": "2021-12-22T13:06:00.226758Z",
     "start_time": "2021-12-22T13:06:00.223732Z"
    }
   },
   "source": [
    "### Transformer"
   ]
  },
  {
   "cell_type": "code",
   "execution_count": 47,
   "id": "21cfad54",
   "metadata": {
    "ExecuteTime": {
     "end_time": "2022-01-02T11:45:40.287474Z",
     "start_time": "2022-01-02T11:45:40.270375Z"
    }
   },
   "outputs": [],
   "source": [
    "class Transformer(nn.Module):\n",
    "    \"\"\"完整transformer模型\"\"\"\n",
    "    def __init__(self, input_size, key_size, query_size, value_size,\n",
    "                 num_hiddens, norm_shape, ffn_num_input, ffn_num_hiddens,\n",
    "                 num_heads, num_layers, dropout, **kwargs):\n",
    "        super(Transformer, self).__init__(**kwargs)\n",
    "        self.num_layers = num_layers\n",
    "        self.encoder = TransformerEncoder(input_size, key_size, query_size,\n",
    "                                          value_size, num_hiddens,\n",
    "                                          norm_shape[0], ffn_num_input,\n",
    "                                          ffn_num_hiddens, num_heads,\n",
    "                                          num_layers, dropout)\n",
    "        self.decoder = TransformerDecoder(input_size, key_size, query_size,\n",
    "                                          value_size, num_hiddens,\n",
    "                                          norm_shape[1], ffn_num_input,\n",
    "                                          ffn_num_hiddens, num_heads,\n",
    "                                          num_layers, dropout)\n",
    "\n",
    "    def forward(self, enc_inputs, dec_inputs):\n",
    "        enc_outputs = self.encoder(enc_inputs)\n",
    "        state = [enc_outputs, None, [None] * self.num_layers]\n",
    "\n",
    "        outputs = []\n",
    "        # without teacher forcing\n",
    "        # if self.training:\n",
    "        #    outputs, state = self.decoder(dec_inputs, state)\n",
    "        # else:\n",
    "        for i in range(dec_inputs.shape[1]):\n",
    "            if i:\n",
    "                x = torch.cat((dec_inputs[:, i:i + 1, :-1], out.detach()),\n",
    "                              dim=-1)\n",
    "            else:\n",
    "                x = dec_inputs[:, i:i+1, :]\n",
    "            out, state = self.decoder(x, state)\n",
    "            outputs.append(out)\n",
    "        outputs = torch.cat(outputs, dim=1)\n",
    "        return outputs.reshape(outputs.shape[0], -1)"
   ]
  },
  {
   "cell_type": "markdown",
   "id": "32450ab4",
   "metadata": {
    "ExecuteTime": {
     "end_time": "2022-01-02T07:13:57.924618Z",
     "start_time": "2022-01-02T07:13:57.920233Z"
    }
   },
   "source": [
    "### model tets"
   ]
  },
  {
   "cell_type": "code",
   "execution_count": 15,
   "id": "7a5025e1",
   "metadata": {
    "ExecuteTime": {
     "end_time": "2022-01-02T08:27:49.523097Z",
     "start_time": "2022-01-02T08:27:49.417954Z"
    }
   },
   "outputs": [
    {
     "data": {
      "text/plain": [
       "torch.Size([10, 24])"
      ]
     },
     "execution_count": 15,
     "metadata": {},
     "output_type": "execute_result"
    }
   ],
   "source": [
    "transformer = Transformer(16, 32, 32, 32, 32, ([32], [32]), 32, 64, 4, 2, 0.1)\n",
    "# decoder = TransformerDecoder(16, 32, 32, 32, 32, [24, 32], 32, 64, 4, 2, 0.1)\n",
    "enc_inputs = torch.randn(10, 72, 16)\n",
    "dec_inputs = torch.randn(10, 24, 16)\n",
    "# enc_outputs = torch.randn(10, 72, 32)\n",
    "# state = [enc_outputs, None, [None] * 2]\n",
    "transformer.eval()\n",
    "outputs = transformer(enc_inputs, dec_inputs)\n",
    "outputs.shape"
   ]
  },
  {
   "cell_type": "markdown",
   "id": "0aa73b30",
   "metadata": {
    "ExecuteTime": {
     "end_time": "2021-12-22T08:30:19.661769Z",
     "start_time": "2021-12-22T08:30:19.656770Z"
    }
   },
   "source": [
    "## model training for HPO"
   ]
  },
  {
   "cell_type": "code",
   "execution_count": 62,
   "id": "8272c9fd",
   "metadata": {
    "ExecuteTime": {
     "end_time": "2022-01-02T12:17:22.060821Z",
     "start_time": "2022-01-02T12:17:22.034498Z"
    },
    "code_folding": []
   },
   "outputs": [],
   "source": [
    "def train_model_hpo(train_x_list, train_y_list, valid_x_list, valid_y_list,\n",
    "                    input_size, seq_len, target_len, mse_thresh, d_model,\n",
    "                    nhead, n_layers, number_epoch, batch_size, lr, drop_prob):\n",
    "    \"\"\"寻找超参数的训练函数，有early stop\"\"\"\n",
    "    valid_steps = 5\n",
    "    valid_loss_list = []\n",
    "    for num in range(len(train_x_list)):\n",
    "        while (1):\n",
    "            model = Transformer(input_size, d_model, d_model, d_model, d_model,\n",
    "                                ([d_model], [d_model]),\n",
    "                                d_model, 2 * d_model, nhead, n_layers,\n",
    "                                drop_prob)\n",
    "            model = model.to(device)\n",
    "            criterion = nn.MSELoss()\n",
    "            optimizer = torch.optim.Adam(model.parameters(),\n",
    "                                         lr=lr,\n",
    "                                         betas=(0.9, 0.98),\n",
    "                                         eps=1e-9)\n",
    "            scheduler = torch.optim.lr_scheduler.StepLR(optimizer,\n",
    "                                                        step_size=1,\n",
    "                                                        gamma=0.98)\n",
    "            valid_loss_min = np.Inf\n",
    "            print('train dataset {}'.format(num))\n",
    "            train_x = train_x_list[num]\n",
    "            train_y = train_y_list[num]\n",
    "            valid_x = valid_x_list[num]\n",
    "            valid_y = valid_y_list[num]\n",
    "            train_dataset = TensorDataset(torch.FloatTensor(train_x),\n",
    "                                          torch.FloatTensor(train_y))\n",
    "            valid_dataset = TensorDataset(torch.FloatTensor(valid_x),\n",
    "                                          torch.FloatTensor(valid_y))\n",
    "\n",
    "            train_loader = DataLoader(dataset=train_dataset,\n",
    "                                      batch_size=batch_size,\n",
    "                                      shuffle=True,\n",
    "                                      drop_last=True)\n",
    "            valid_loader = DataLoader(dataset=valid_dataset,\n",
    "                                      batch_size=batch_size,\n",
    "                                      shuffle=True,\n",
    "                                      drop_last=True)\n",
    "            train_losses = list()\n",
    "\n",
    "            num_without_imp = 0\n",
    "\n",
    "            #train\n",
    "            for epoch in range(1, number_epoch + 1):\n",
    "                loop = tqdm(enumerate(train_loader),\n",
    "                            total=len(train_loader),\n",
    "                            leave=True, ncols=100)\n",
    "                for i, (inputs, labels) in loop:\n",
    "                    inputs = inputs.to(device)\n",
    "                    labels = labels.to(device)\n",
    "                    optimizer.zero_grad()\n",
    "                    # train                    \n",
    "                    model.train()\n",
    "                    enc_inputs = inputs\n",
    "                    dec_inputs = torch.cat((inputs[:, -1:, :], labels[:, :-1, :]), dim=1)\n",
    "                    outputs = model(enc_inputs, dec_inputs)\n",
    "                    loss = criterion(outputs, labels[:, :, -1])\n",
    "                    train_losses.append(loss.item)\n",
    "                    loss.backward()\n",
    "                    optimizer.step()\n",
    "\n",
    "                    # eval\n",
    "                    if i % valid_steps == 0:\n",
    "                        num_without_imp = num_without_imp + 1\n",
    "                        valid_losses = list()\n",
    "                        model.eval()\n",
    "                        for inp, lab in valid_loader:\n",
    "                            inp = inp.to(device)\n",
    "                            lab = lab.to(device)\n",
    "                            enc_inputs = inp\n",
    "                            dec_inputs = torch.cat((inp[:, -1:, :], lab[:, :-1, :]), dim=1)\n",
    "                            out = model(enc_inputs, dec_inputs)\n",
    "                            valid_loss = criterion(out, lab[:, :, -1])\n",
    "                            valid_losses.append(valid_loss.item())\n",
    "                        loop.set_description(\"Epoch: {}/{}...\".format(\n",
    "                            epoch, number_epoch))\n",
    "                        loop.set_postfix(train_loss=loss.item(),\n",
    "                                         valid_loss=np.mean(valid_losses))\n",
    "                        if np.mean(valid_losses) < valid_loss_min:\n",
    "                            num_without_imp = 0\n",
    "                            valid_loss_min = np.mean(valid_losses)\n",
    "                scheduler.step()\n",
    "                if num_without_imp > 50:\n",
    "                    pass\n",
    "                    # break\n",
    "            if valid_loss_min < mse_thresh:\n",
    "                valid_loss_list.append(valid_loss_min)\n",
    "                break\n",
    "    return np.mean(valid_loss_list)"
   ]
  },
  {
   "cell_type": "markdown",
   "id": "51a5bea1",
   "metadata": {},
   "source": [
    "## hyper-parameters config"
   ]
  },
  {
   "cell_type": "code",
   "execution_count": 91,
   "id": "9716d0d7",
   "metadata": {
    "ExecuteTime": {
     "end_time": "2022-01-03T08:52:23.347397Z",
     "start_time": "2022-01-03T08:52:23.335133Z"
    }
   },
   "outputs": [],
   "source": [
    "seq_len = 72\n",
    "target_len = 24\n",
    "mse_thresh = 0.05\n",
    "\n",
    "\n",
    "def model_config():\n",
    "    batch_sizes = [256]\n",
    "    lrs = [0.01, 0.005, 0.001]\n",
    "    number_epochs = [40]\n",
    "    d_models = [32, 64, 96]\n",
    "    n_layers = [2, 3]\n",
    "    drop_prob = [0.5]\n",
    "    nhead = [4, 8]\n",
    "    configs = list()\n",
    "    for i in batch_sizes:\n",
    "        for j in lrs:\n",
    "            for k in number_epochs:\n",
    "                for l in d_models:\n",
    "                    for m in n_layers:\n",
    "                        for n in drop_prob:\n",
    "                            for o in nhead:\n",
    "                                configs.append({\n",
    "                                    'batch_size': i,\n",
    "                                    'lr': j,\n",
    "                                    'number_epoch': k,\n",
    "                                    'd_model': l,\n",
    "                                    'n_layers': m,\n",
    "                                    'drop_prob': n,\n",
    "                                    'nhead': o\n",
    "                                })\n",
    "    return configs"
   ]
  },
  {
   "cell_type": "markdown",
   "id": "c5b1f9d3",
   "metadata": {},
   "source": [
    "## random search for HPO"
   ]
  },
  {
   "cell_type": "code",
   "execution_count": 92,
   "id": "7ae6ee73",
   "metadata": {
    "ExecuteTime": {
     "end_time": "2022-01-03T08:52:42.582511Z",
     "start_time": "2022-01-03T08:52:42.565727Z"
    }
   },
   "outputs": [],
   "source": [
    "def run_model_hpo(seq_len=seq_len,\n",
    "                  target_len=target_len,\n",
    "                  mse_thresh=mse_thresh):\n",
    "    train_data = data[:int(0.8 * len(data))]\n",
    "    train_data, _, _ = normalization(train_data)\n",
    "    train_x, train_y = series_to_supervise(train_data, seq_len, target_len)\n",
    "    train_x_list, train_y_list, valid_x_list, valid_y_list = time_series_split(\n",
    "        train_x, train_y)\n",
    "    #         with enough data\n",
    "    train_x_list = train_x_list[-1:]\n",
    "    train_y_list = train_y_list[-1:]\n",
    "    valid_x_list = valid_x_list[-1:]\n",
    "    valid_y_list = valid_y_list[-1:]\n",
    "\n",
    "    configs = model_config()\n",
    "    records = []\n",
    "    input_size = train_x.shape[2]\n",
    "    for i in range(18):\n",
    "        config = random.choice(configs)\n",
    "        configs.remove(config)\n",
    "        batch_size = config['batch_size']\n",
    "        lr = config['lr']\n",
    "        number_epoch = config['number_epoch']\n",
    "        d_model = config['d_model']\n",
    "        n_layers = config['n_layers']\n",
    "        drop_prob = config['drop_prob']\n",
    "        nhead = config['nhead']\n",
    "        print(\n",
    "            \"model config: batch_size-{}, lr-{}, number_epoch-{}, d_model-{}, n_layers-{},drop_prob-{},nhead-{}\"\n",
    "            .format(batch_size, lr, number_epoch, d_model, n_layers, drop_prob,\n",
    "                    nhead))\n",
    "        valid_loss = train_model_hpo(train_x_list, train_y_list, valid_x_list,\n",
    "                                     valid_y_list, input_size, seq_len,\n",
    "                                     target_len, mse_thresh, d_model, nhead,\n",
    "                                     n_layers, number_epoch, batch_size, lr,\n",
    "                                     drop_prob)\n",
    "        records.append({\n",
    "            'batch_size': batch_size,\n",
    "            'lr': lr,\n",
    "            'number_epoch': number_epoch,\n",
    "            'd_model': d_model,\n",
    "            'n_layers': n_layers,\n",
    "            'drop_prob': drop_prob,            \n",
    "            'nhead': nhead,\n",
    "            'valid_loss': valid_loss,\n",
    "        })\n",
    "    return records"
   ]
  },
  {
   "cell_type": "markdown",
   "id": "380c2090",
   "metadata": {},
   "source": [
    "## run random search"
   ]
  },
  {
   "cell_type": "code",
   "execution_count": null,
   "id": "d97319de",
   "metadata": {
    "ExecuteTime": {
     "start_time": "2022-01-03T08:50:07.279Z"
    }
   },
   "outputs": [
    {
     "name": "stdout",
     "output_type": "stream",
     "text": [
      "supervised data: shape of x: (25232, 72, 16), shape of y: (25232, 24, 16)\n",
      "model config: batch_size-256, lr-0.001, number_epoch-40, d_model-32, n_layers-2,drop_prob-0.5,nhead-8\n",
      "train dataset 0\n"
     ]
    },
    {
     "name": "stderr",
     "output_type": "stream",
     "text": [
      "Epoch: 1/40...: 100%|█████████| 82/82 [00:24<00:00,  3.34it/s, train_loss=0.0279, valid_loss=0.0315]\n",
      "Epoch: 2/40...: 100%|█████████| 82/82 [00:24<00:00,  3.33it/s, train_loss=0.0159, valid_loss=0.0266]\n",
      "Epoch: 3/40...: 100%|█████████| 82/82 [00:24<00:00,  3.30it/s, train_loss=0.0132, valid_loss=0.0242]\n",
      "Epoch: 4/40...: 100%|██████████| 82/82 [00:24<00:00,  3.29it/s, train_loss=0.0105, valid_loss=0.019]\n",
      "Epoch: 5/40...: 100%|███████████| 82/82 [00:24<00:00,  3.30it/s, train_loss=0.0082, valid_loss=0.01]\n",
      "Epoch: 6/40...: 100%|████████| 82/82 [00:24<00:00,  3.29it/s, train_loss=0.00628, valid_loss=0.0117]\n",
      "Epoch: 7/40...: 100%|███████| 82/82 [00:25<00:00,  3.24it/s, train_loss=0.00561, valid_loss=0.00902]\n",
      "Epoch: 8/40...: 100%|███████| 82/82 [00:25<00:00,  3.27it/s, train_loss=0.00506, valid_loss=0.00988]\n",
      "Epoch: 9/40...: 100%|███████| 82/82 [00:25<00:00,  3.25it/s, train_loss=0.00434, valid_loss=0.00878]\n",
      "Epoch: 10/40...: 100%|███████| 82/82 [00:24<00:00,  3.29it/s, train_loss=0.00445, valid_loss=0.0105]\n",
      "Epoch: 11/40...: 100%|██████| 82/82 [00:25<00:00,  3.24it/s, train_loss=0.00397, valid_loss=0.00809]\n",
      "Epoch: 12/40...: 100%|██████| 82/82 [00:25<00:00,  3.25it/s, train_loss=0.00385, valid_loss=0.00817]\n",
      "Epoch: 13/40...: 100%|██████| 82/82 [00:25<00:00,  3.21it/s, train_loss=0.00366, valid_loss=0.00792]\n",
      "Epoch: 14/40...: 100%|██████| 82/82 [00:25<00:00,  3.23it/s, train_loss=0.00367, valid_loss=0.00726]\n",
      "Epoch: 15/40...: 100%|████████| 82/82 [00:25<00:00,  3.23it/s, train_loss=0.00349, valid_loss=0.007]\n",
      "Epoch: 16/40...: 100%|██████| 82/82 [00:25<00:00,  3.22it/s, train_loss=0.00337, valid_loss=0.00681]\n",
      "Epoch: 17/40...: 100%|██████| 82/82 [00:25<00:00,  3.20it/s, train_loss=0.00341, valid_loss=0.00714]\n",
      "Epoch: 18/40...: 100%|██████| 82/82 [00:25<00:00,  3.19it/s, train_loss=0.00311, valid_loss=0.00644]\n",
      "Epoch: 19/40...: 100%|██████| 82/82 [00:25<00:00,  3.21it/s, train_loss=0.00316, valid_loss=0.00645]\n",
      "Epoch: 20/40...:  49%|██▉   | 40/82 [00:12<00:09,  4.44it/s, train_loss=0.00293, valid_loss=0.00607]"
     ]
    }
   ],
   "source": [
    "random_seed_set(42)\n",
    "records = run_model_hpo()"
   ]
  },
  {
   "cell_type": "markdown",
   "id": "d20ab287",
   "metadata": {
    "ExecuteTime": {
     "end_time": "2021-12-22T08:52:06.844501Z",
     "start_time": "2021-12-22T08:52:06.830928Z"
    }
   },
   "source": [
    "## find the best hyper-parameters"
   ]
  },
  {
   "cell_type": "code",
   "execution_count": 94,
   "id": "7b6ebd7e",
   "metadata": {
    "ExecuteTime": {
     "end_time": "2022-01-03T15:19:52.039442Z",
     "start_time": "2022-01-03T15:19:52.008662Z"
    }
   },
   "outputs": [
    {
     "data": {
      "text/html": [
       "<div>\n",
       "<style scoped>\n",
       "    .dataframe tbody tr th:only-of-type {\n",
       "        vertical-align: middle;\n",
       "    }\n",
       "\n",
       "    .dataframe tbody tr th {\n",
       "        vertical-align: top;\n",
       "    }\n",
       "\n",
       "    .dataframe thead th {\n",
       "        text-align: right;\n",
       "    }\n",
       "</style>\n",
       "<table border=\"1\" class=\"dataframe\">\n",
       "  <thead>\n",
       "    <tr style=\"text-align: right;\">\n",
       "      <th></th>\n",
       "      <th>batch_size</th>\n",
       "      <th>lr</th>\n",
       "      <th>number_epoch</th>\n",
       "      <th>d_model</th>\n",
       "      <th>n_layers</th>\n",
       "      <th>drop_prob</th>\n",
       "      <th>nhead</th>\n",
       "      <th>valid_loss</th>\n",
       "    </tr>\n",
       "  </thead>\n",
       "  <tbody>\n",
       "    <tr>\n",
       "      <th>6</th>\n",
       "      <td>256</td>\n",
       "      <td>0.001</td>\n",
       "      <td>40</td>\n",
       "      <td>96</td>\n",
       "      <td>3</td>\n",
       "      <td>0.5</td>\n",
       "      <td>8</td>\n",
       "      <td>0.002061</td>\n",
       "    </tr>\n",
       "    <tr>\n",
       "      <th>3</th>\n",
       "      <td>256</td>\n",
       "      <td>0.001</td>\n",
       "      <td>40</td>\n",
       "      <td>64</td>\n",
       "      <td>3</td>\n",
       "      <td>0.5</td>\n",
       "      <td>8</td>\n",
       "      <td>0.002103</td>\n",
       "    </tr>\n",
       "    <tr>\n",
       "      <th>17</th>\n",
       "      <td>256</td>\n",
       "      <td>0.010</td>\n",
       "      <td>40</td>\n",
       "      <td>32</td>\n",
       "      <td>2</td>\n",
       "      <td>0.5</td>\n",
       "      <td>4</td>\n",
       "      <td>0.002152</td>\n",
       "    </tr>\n",
       "    <tr>\n",
       "      <th>12</th>\n",
       "      <td>256</td>\n",
       "      <td>0.001</td>\n",
       "      <td>40</td>\n",
       "      <td>96</td>\n",
       "      <td>2</td>\n",
       "      <td>0.5</td>\n",
       "      <td>8</td>\n",
       "      <td>0.002181</td>\n",
       "    </tr>\n",
       "    <tr>\n",
       "      <th>8</th>\n",
       "      <td>256</td>\n",
       "      <td>0.001</td>\n",
       "      <td>40</td>\n",
       "      <td>32</td>\n",
       "      <td>2</td>\n",
       "      <td>0.5</td>\n",
       "      <td>4</td>\n",
       "      <td>0.002566</td>\n",
       "    </tr>\n",
       "    <tr>\n",
       "      <th>1</th>\n",
       "      <td>256</td>\n",
       "      <td>0.001</td>\n",
       "      <td>40</td>\n",
       "      <td>64</td>\n",
       "      <td>2</td>\n",
       "      <td>0.5</td>\n",
       "      <td>4</td>\n",
       "      <td>0.002612</td>\n",
       "    </tr>\n",
       "    <tr>\n",
       "      <th>0</th>\n",
       "      <td>256</td>\n",
       "      <td>0.001</td>\n",
       "      <td>40</td>\n",
       "      <td>32</td>\n",
       "      <td>2</td>\n",
       "      <td>0.5</td>\n",
       "      <td>8</td>\n",
       "      <td>0.003784</td>\n",
       "    </tr>\n",
       "    <tr>\n",
       "      <th>15</th>\n",
       "      <td>256</td>\n",
       "      <td>0.001</td>\n",
       "      <td>40</td>\n",
       "      <td>64</td>\n",
       "      <td>3</td>\n",
       "      <td>0.5</td>\n",
       "      <td>4</td>\n",
       "      <td>0.003925</td>\n",
       "    </tr>\n",
       "    <tr>\n",
       "      <th>5</th>\n",
       "      <td>256</td>\n",
       "      <td>0.005</td>\n",
       "      <td>40</td>\n",
       "      <td>64</td>\n",
       "      <td>3</td>\n",
       "      <td>0.5</td>\n",
       "      <td>4</td>\n",
       "      <td>0.004980</td>\n",
       "    </tr>\n",
       "    <tr>\n",
       "      <th>9</th>\n",
       "      <td>256</td>\n",
       "      <td>0.005</td>\n",
       "      <td>40</td>\n",
       "      <td>64</td>\n",
       "      <td>2</td>\n",
       "      <td>0.5</td>\n",
       "      <td>8</td>\n",
       "      <td>0.005084</td>\n",
       "    </tr>\n",
       "    <tr>\n",
       "      <th>7</th>\n",
       "      <td>256</td>\n",
       "      <td>0.010</td>\n",
       "      <td>40</td>\n",
       "      <td>32</td>\n",
       "      <td>2</td>\n",
       "      <td>0.5</td>\n",
       "      <td>8</td>\n",
       "      <td>0.006543</td>\n",
       "    </tr>\n",
       "    <tr>\n",
       "      <th>4</th>\n",
       "      <td>256</td>\n",
       "      <td>0.005</td>\n",
       "      <td>40</td>\n",
       "      <td>32</td>\n",
       "      <td>2</td>\n",
       "      <td>0.5</td>\n",
       "      <td>8</td>\n",
       "      <td>0.007178</td>\n",
       "    </tr>\n",
       "    <tr>\n",
       "      <th>13</th>\n",
       "      <td>256</td>\n",
       "      <td>0.005</td>\n",
       "      <td>40</td>\n",
       "      <td>96</td>\n",
       "      <td>2</td>\n",
       "      <td>0.5</td>\n",
       "      <td>8</td>\n",
       "      <td>0.030187</td>\n",
       "    </tr>\n",
       "    <tr>\n",
       "      <th>14</th>\n",
       "      <td>256</td>\n",
       "      <td>0.005</td>\n",
       "      <td>40</td>\n",
       "      <td>96</td>\n",
       "      <td>3</td>\n",
       "      <td>0.5</td>\n",
       "      <td>4</td>\n",
       "      <td>0.034122</td>\n",
       "    </tr>\n",
       "    <tr>\n",
       "      <th>10</th>\n",
       "      <td>256</td>\n",
       "      <td>0.010</td>\n",
       "      <td>40</td>\n",
       "      <td>64</td>\n",
       "      <td>2</td>\n",
       "      <td>0.5</td>\n",
       "      <td>8</td>\n",
       "      <td>0.034368</td>\n",
       "    </tr>\n",
       "    <tr>\n",
       "      <th>16</th>\n",
       "      <td>256</td>\n",
       "      <td>0.005</td>\n",
       "      <td>40</td>\n",
       "      <td>96</td>\n",
       "      <td>3</td>\n",
       "      <td>0.5</td>\n",
       "      <td>8</td>\n",
       "      <td>0.034370</td>\n",
       "    </tr>\n",
       "    <tr>\n",
       "      <th>2</th>\n",
       "      <td>256</td>\n",
       "      <td>0.010</td>\n",
       "      <td>40</td>\n",
       "      <td>96</td>\n",
       "      <td>2</td>\n",
       "      <td>0.5</td>\n",
       "      <td>4</td>\n",
       "      <td>0.034402</td>\n",
       "    </tr>\n",
       "    <tr>\n",
       "      <th>11</th>\n",
       "      <td>256</td>\n",
       "      <td>0.010</td>\n",
       "      <td>40</td>\n",
       "      <td>64</td>\n",
       "      <td>3</td>\n",
       "      <td>0.5</td>\n",
       "      <td>8</td>\n",
       "      <td>0.034453</td>\n",
       "    </tr>\n",
       "  </tbody>\n",
       "</table>\n",
       "</div>"
      ],
      "text/plain": [
       "    batch_size     lr  number_epoch  d_model  n_layers  drop_prob  nhead  \\\n",
       "6          256  0.001            40       96         3        0.5      8   \n",
       "3          256  0.001            40       64         3        0.5      8   \n",
       "17         256  0.010            40       32         2        0.5      4   \n",
       "12         256  0.001            40       96         2        0.5      8   \n",
       "8          256  0.001            40       32         2        0.5      4   \n",
       "1          256  0.001            40       64         2        0.5      4   \n",
       "0          256  0.001            40       32         2        0.5      8   \n",
       "15         256  0.001            40       64         3        0.5      4   \n",
       "5          256  0.005            40       64         3        0.5      4   \n",
       "9          256  0.005            40       64         2        0.5      8   \n",
       "7          256  0.010            40       32         2        0.5      8   \n",
       "4          256  0.005            40       32         2        0.5      8   \n",
       "13         256  0.005            40       96         2        0.5      8   \n",
       "14         256  0.005            40       96         3        0.5      4   \n",
       "10         256  0.010            40       64         2        0.5      8   \n",
       "16         256  0.005            40       96         3        0.5      8   \n",
       "2          256  0.010            40       96         2        0.5      4   \n",
       "11         256  0.010            40       64         3        0.5      8   \n",
       "\n",
       "    valid_loss  \n",
       "6     0.002061  \n",
       "3     0.002103  \n",
       "17    0.002152  \n",
       "12    0.002181  \n",
       "8     0.002566  \n",
       "1     0.002612  \n",
       "0     0.003784  \n",
       "15    0.003925  \n",
       "5     0.004980  \n",
       "9     0.005084  \n",
       "7     0.006543  \n",
       "4     0.007178  \n",
       "13    0.030187  \n",
       "14    0.034122  \n",
       "10    0.034368  \n",
       "16    0.034370  \n",
       "2     0.034402  \n",
       "11    0.034453  "
      ]
     },
     "execution_count": 94,
     "metadata": {},
     "output_type": "execute_result"
    }
   ],
   "source": [
    "records = pd.DataFrame(records).sort_values(by='valid_loss')\n",
    "records.to_csv('./records/transformer_records.csv', mode='a', index=False, header=False)\n",
    "records"
   ]
  },
  {
   "cell_type": "markdown",
   "id": "be35c016",
   "metadata": {},
   "source": [
    "## retrain a model"
   ]
  },
  {
   "cell_type": "code",
   "execution_count": 22,
   "id": "edc95689",
   "metadata": {
    "ExecuteTime": {
     "end_time": "2022-01-02T09:14:55.583795Z",
     "start_time": "2022-01-02T09:14:55.557071Z"
    },
    "code_folding": [
     4
    ]
   },
   "outputs": [],
   "source": [
    "def train_model(train_x, train_y, valid_x, valid_y, input_size, seq_len,\n",
    "                target_len, mse_thresh, d_model, nhead, n_layers, number_epoch,\n",
    "                batch_size, lr, drop_prob):\n",
    "    while (1):\n",
    "        model = Transformer(input_size, d_model, d_model, d_model, d_model,\n",
    "                                ([d_model], [d_model]),\n",
    "                                d_model, 2 * d_model, nhead, n_layers,\n",
    "                                drop_prob)\n",
    "        model = model.to(device)\n",
    "        criterion = nn.MSELoss()\n",
    "        optimizer = torch.optim.Adam(model.parameters(),\n",
    "                                     lr=lr,\n",
    "                                     betas=(0.9, 0.98),\n",
    "                                     eps=1e-9)\n",
    "        scheduler = torch.optim.lr_scheduler.StepLR(optimizer,\n",
    "                                                    step_size=1,\n",
    "                                                    gamma=0.98)\n",
    "        valid_loss_min = np.Inf\n",
    "        train_dataset = TensorDataset(torch.FloatTensor(train_x),\n",
    "                                      torch.FloatTensor(train_y))\n",
    "        valid_dataset = TensorDataset(torch.FloatTensor(valid_x),\n",
    "                                      torch.FloatTensor(valid_y))\n",
    "\n",
    "        train_loader = DataLoader(dataset=train_dataset,\n",
    "                                  batch_size=batch_size,\n",
    "                                  shuffle=True,\n",
    "                                  drop_last=True)\n",
    "        valid_loader = DataLoader(dataset=valid_dataset,\n",
    "                                  batch_size=batch_size,\n",
    "                                  shuffle=True,\n",
    "                                  drop_last=True)\n",
    "        train_loss_list = []\n",
    "        valid_loss_list = []\n",
    "        num_without_imp = 0\n",
    "\n",
    "        #train\n",
    "        for epoch in range(1, number_epoch + 1):\n",
    "            loop = tqdm(enumerate(train_loader),\n",
    "                        total=len(train_loader),\n",
    "                        leave=True, ncols=100)\n",
    "            for i, (inputs, labels) in loop:\n",
    "                model.train()\n",
    "                inputs = inputs.to(device)\n",
    "                labels = labels.to(device)\n",
    "                optimizer.zero_grad()\n",
    "                # train\n",
    "                # pdb.set_trace()\n",
    "                enc_inputs = inputs\n",
    "                dec_inputs = torch.cat((inputs[:, -1:, :], labels[:, :-1, :]), dim=1)\n",
    "                outputs = model(enc_inputs, dec_inputs)\n",
    "                loss = criterion(outputs, labels[:, :, -1])\n",
    "                loss.backward()\n",
    "                optimizer.step()\n",
    "\n",
    "                # eval\n",
    "                if i % 5 == 0:\n",
    "                    num_without_imp = num_without_imp + 1\n",
    "                    valid_losses = list()\n",
    "                    model.eval()\n",
    "                    for inp, lab in valid_loader:\n",
    "                        inp = inp.to(device)\n",
    "                        lab = lab.to(device)\n",
    "                        enc_inputs = inp\n",
    "                        dec_inputs = torch.cat((inp[:, -1:, :], lab[:, :-1, :]), dim=1)\n",
    "                        out = model(enc_inputs, dec_inputs)\n",
    "                        valid_loss = criterion(out, lab[:, :, -1])\n",
    "                        valid_losses.append(valid_loss.item())\n",
    "                    loop.set_description(\"Epoch: {}/{}...\".format(\n",
    "                        epoch, number_epoch))\n",
    "                    loop.set_postfix(train_loss=loss.item(),\n",
    "                                     valid_loss=np.mean(valid_losses))\n",
    "                    train_loss_list.append(loss.item())\n",
    "                    valid_loss_list.append(np.mean(valid_losses))\n",
    "                    if np.mean(valid_losses) < valid_loss_min:\n",
    "                        num_without_imp = 0\n",
    "                        torch.save(model.state_dict(),\n",
    "                                   \"./model/transformer_state_dict.pt\")\n",
    "                        valid_loss_min = np.mean(valid_losses)\n",
    "            scheduler.step()\n",
    "        if valid_loss_min < mse_thresh:\n",
    "            break\n",
    "    return model, train_loss_list, valid_loss_list"
   ]
  },
  {
   "cell_type": "markdown",
   "id": "0eff3c7e",
   "metadata": {},
   "source": [
    "## test results"
   ]
  },
  {
   "cell_type": "code",
   "execution_count": 23,
   "id": "045b28ba",
   "metadata": {
    "ExecuteTime": {
     "end_time": "2022-01-02T09:14:57.878277Z",
     "start_time": "2022-01-02T09:14:57.862502Z"
    },
    "code_folding": []
   },
   "outputs": [],
   "source": [
    "def test_model(model, test_x, test_y, scaler_y, seq_len, target_len,\n",
    "               batch_size):\n",
    "    test_dataset = TensorDataset(torch.FloatTensor(test_x),\n",
    "                                 torch.FloatTensor(test_y))\n",
    "    test_loader = DataLoader(dataset=test_dataset,\n",
    "                             batch_size=batch_size,\n",
    "                             shuffle=False,\n",
    "                             drop_last=True)\n",
    "    model.load_state_dict(torch.load('./model/transformer_state_dict.pt'))\n",
    "    y_pred = []\n",
    "    y_true = []\n",
    "    with torch.no_grad():\n",
    "        model.eval()\n",
    "        for inp, lab in test_loader:\n",
    "            inp = inp.to(device)\n",
    "            lab = lab.to(device)\n",
    "            enc_inputs = inp\n",
    "            dec_inputs = torch.cat((inp[:, -1:, :], lab[:, :-1, :]), dim=1)\n",
    "            out = model(enc_inputs, dec_inputs)\n",
    "            y_pred += out.cpu().numpy().flatten().tolist()\n",
    "            y_true += lab[:, :, -1].cpu().numpy().flatten().tolist()\n",
    "    y_pred = np.array(y_pred).reshape(-1, 1)\n",
    "    y_true = np.array(y_true).reshape(-1, 1)\n",
    "    load_pred = scaler_y.inverse_transform(y_pred)\n",
    "    load_true = scaler_y.inverse_transform(y_true)\n",
    "    MAPE = np.mean(np.abs(load_true - load_pred) / load_true)\n",
    "    MAE = np.mean(np.abs(load_true - load_pred))\n",
    "    RMSE = np.sqrt(np.mean(np.square(load_true - load_pred)))\n",
    "    return MAPE, MAE, RMSE, load_pred, load_true"
   ]
  },
  {
   "cell_type": "markdown",
   "id": "d7af9244",
   "metadata": {},
   "source": [
    "## run model retraining"
   ]
  },
  {
   "cell_type": "code",
   "execution_count": 102,
   "id": "c65355ba",
   "metadata": {
    "ExecuteTime": {
     "end_time": "2022-01-04T02:05:20.515189Z",
     "start_time": "2022-01-04T02:05:20.497092Z"
    }
   },
   "outputs": [],
   "source": [
    "def run_model_retraining(seq_len=seq_len,\n",
    "                         target_len=target_len,\n",
    "                         mse_thresh=mse_thresh):\n",
    "    train_data = data[:int(0.8 * len(data))]\n",
    "    train_data, scaler, scaler_y = normalization(train_data)\n",
    "    train_x, train_y = series_to_supervise(train_data, seq_len, target_len)\n",
    "\n",
    "    valid_x = train_x[int(0.8 * len(train_x)):]\n",
    "    valid_y = train_y[int(0.8 * len(train_y)):]\n",
    "    train_x = train_x[:int(0.8 * len(train_x))]\n",
    "    train_y = train_y[:int(0.8 * len(train_y))]\n",
    "    input_size = train_x.shape[2]\n",
    "\n",
    "    #     hyper-parameters define\n",
    "    batch_size = 256\n",
    "    lr = 0.001\n",
    "    number_epoch = 40\n",
    "    d_model = 64\n",
    "    n_layers = 2\n",
    "    drop_prob = 0.5\n",
    "    nhead = 8\n",
    "    mse_thresh = 0.1\n",
    "\n",
    "    model, train_loss_list, valid_loss_list = train_model(\n",
    "        train_x, train_y, valid_x, valid_y, input_size, seq_len, target_len,\n",
    "        mse_thresh, d_model, nhead, n_layers, number_epoch, batch_size, lr,\n",
    "        drop_prob)\n",
    "    # plot training process\n",
    "    plt.plot(train_loss_list[10:], 'm', label='train_loss')\n",
    "    plt.plot(valid_loss_list[10:], 'g', label='valid_loss')\n",
    "    plt.grid('both')\n",
    "    plt.legend()\n",
    "    # test\n",
    "    test_data = data[int(0.8 * len(data)):]\n",
    "    test_data = scaler.transform(test_data)\n",
    "    test_x, test_y = series_to_supervise(test_data, seq_len, target_len)\n",
    "    MAPE, MAE, RMSE, load_pred, load_true = test_model(model, test_x, test_y,\n",
    "                                                       scaler_y, seq_len,\n",
    "                                                       target_len, batch_size)\n",
    "    return MAPE, MAE, RMSE, load_pred, load_true"
   ]
  },
  {
   "cell_type": "code",
   "execution_count": 103,
   "id": "3d364bc4",
   "metadata": {
    "ExecuteTime": {
     "end_time": "2022-01-04T02:23:04.253467Z",
     "start_time": "2022-01-04T02:05:22.601712Z"
    },
    "scrolled": true
   },
   "outputs": [
    {
     "name": "stdout",
     "output_type": "stream",
     "text": [
      "supervised data: shape of x: (25232, 72, 16), shape of y: (25232, 24, 16)\n"
     ]
    },
    {
     "name": "stderr",
     "output_type": "stream",
     "text": [
      "Epoch: 1/40...: 100%|█████████| 78/78 [00:26<00:00,  2.93it/s, train_loss=0.0319, valid_loss=0.0337]\n",
      "Epoch: 2/40...: 100%|█████████| 78/78 [00:26<00:00,  2.93it/s, train_loss=0.0147, valid_loss=0.0191]\n",
      "Epoch: 3/40...: 100%|█████████| 78/78 [00:26<00:00,  2.94it/s, train_loss=0.0127, valid_loss=0.0163]\n",
      "Epoch: 4/40...: 100%|███████████| 78/78 [00:26<00:00,  2.93it/s, train_loss=0.01, valid_loss=0.0157]\n",
      "Epoch: 5/40...: 100%|████████| 78/78 [00:26<00:00,  2.95it/s, train_loss=0.00753, valid_loss=0.0117]\n",
      "Epoch: 6/40...: 100%|████████| 78/78 [00:26<00:00,  2.95it/s, train_loss=0.00612, valid_loss=0.0113]\n",
      "Epoch: 7/40...: 100%|███████| 78/78 [00:26<00:00,  2.94it/s, train_loss=0.00546, valid_loss=0.00851]\n",
      "Epoch: 8/40...: 100%|███████| 78/78 [00:26<00:00,  2.95it/s, train_loss=0.00469, valid_loss=0.00912]\n",
      "Epoch: 9/40...: 100%|███████| 78/78 [00:26<00:00,  2.95it/s, train_loss=0.00409, valid_loss=0.00949]\n",
      "Epoch: 10/40...: 100%|██████| 78/78 [00:26<00:00,  2.93it/s, train_loss=0.00391, valid_loss=0.00532]\n",
      "Epoch: 11/40...: 100%|██████| 78/78 [00:26<00:00,  2.95it/s, train_loss=0.00351, valid_loss=0.00812]\n",
      "Epoch: 12/40...: 100%|██████| 78/78 [00:26<00:00,  2.95it/s, train_loss=0.00316, valid_loss=0.00666]\n",
      "Epoch: 13/40...: 100%|██████| 78/78 [00:26<00:00,  2.94it/s, train_loss=0.00307, valid_loss=0.00672]\n",
      "Epoch: 14/40...: 100%|████████| 78/78 [00:26<00:00,  2.95it/s, train_loss=0.00269, valid_loss=0.004]\n",
      "Epoch: 15/40...: 100%|███████| 78/78 [00:26<00:00,  2.95it/s, train_loss=0.00245, valid_loss=0.0042]\n",
      "Epoch: 16/40...: 100%|██████| 78/78 [00:26<00:00,  2.94it/s, train_loss=0.00238, valid_loss=0.00368]\n",
      "Epoch: 17/40...: 100%|██████| 78/78 [00:26<00:00,  2.95it/s, train_loss=0.00206, valid_loss=0.00396]\n",
      "Epoch: 18/40...: 100%|███████| 78/78 [00:26<00:00,  2.95it/s, train_loss=0.00197, valid_loss=0.0037]\n",
      "Epoch: 19/40...: 100%|██████| 78/78 [00:26<00:00,  2.93it/s, train_loss=0.00197, valid_loss=0.00321]\n",
      "Epoch: 20/40...: 100%|██████| 78/78 [00:26<00:00,  2.95it/s, train_loss=0.00179, valid_loss=0.00468]\n",
      "Epoch: 21/40...: 100%|██████| 78/78 [00:26<00:00,  2.95it/s, train_loss=0.00167, valid_loss=0.00348]\n",
      "Epoch: 22/40...: 100%|██████| 78/78 [00:26<00:00,  2.92it/s, train_loss=0.00171, valid_loss=0.00652]\n",
      "Epoch: 23/40...: 100%|██████| 78/78 [00:26<00:00,  2.95it/s, train_loss=0.00145, valid_loss=0.00301]\n",
      "Epoch: 24/40...: 100%|██████| 78/78 [00:26<00:00,  2.95it/s, train_loss=0.00153, valid_loss=0.00331]\n",
      "Epoch: 25/40...: 100%|██████| 78/78 [00:26<00:00,  2.94it/s, train_loss=0.00147, valid_loss=0.00431]\n",
      "Epoch: 26/40...: 100%|██████| 78/78 [00:26<00:00,  2.95it/s, train_loss=0.00141, valid_loss=0.00333]\n",
      "Epoch: 27/40...: 100%|██████| 78/78 [00:26<00:00,  2.95it/s, train_loss=0.00138, valid_loss=0.00292]\n",
      "Epoch: 28/40...: 100%|██████| 78/78 [00:26<00:00,  2.93it/s, train_loss=0.00134, valid_loss=0.00473]\n",
      "Epoch: 29/40...: 100%|███████| 78/78 [00:26<00:00,  2.95it/s, train_loss=0.00125, valid_loss=0.0043]\n",
      "Epoch: 30/40...: 100%|██████| 78/78 [00:26<00:00,  2.96it/s, train_loss=0.00131, valid_loss=0.00348]\n",
      "Epoch: 31/40...: 100%|██████| 78/78 [00:26<00:00,  2.95it/s, train_loss=0.00117, valid_loss=0.00271]\n",
      "Epoch: 32/40...: 100%|██████| 78/78 [00:26<00:00,  2.94it/s, train_loss=0.00113, valid_loss=0.00361]\n",
      "Epoch: 33/40...: 100%|██████| 78/78 [00:26<00:00,  2.94it/s, train_loss=0.00115, valid_loss=0.00338]\n",
      "Epoch: 34/40...: 100%|██████| 78/78 [00:26<00:00,  2.95it/s, train_loss=0.00114, valid_loss=0.00338]\n",
      "Epoch: 35/40...: 100%|███████| 78/78 [00:26<00:00,  2.95it/s, train_loss=0.0012, valid_loss=0.00317]\n",
      "Epoch: 36/40...: 100%|██████| 78/78 [00:26<00:00,  2.95it/s, train_loss=0.00132, valid_loss=0.00299]\n",
      "Epoch: 37/40...: 100%|██████| 78/78 [00:26<00:00,  2.94it/s, train_loss=0.00115, valid_loss=0.00354]\n",
      "Epoch: 38/40...: 100%|██████| 78/78 [00:26<00:00,  2.93it/s, train_loss=0.00106, valid_loss=0.00294]\n",
      "Epoch: 39/40...: 100%|██████| 78/78 [00:26<00:00,  2.95it/s, train_loss=0.00106, valid_loss=0.00342]\n",
      "Epoch: 40/40...: 100%|██████| 78/78 [00:26<00:00,  2.94it/s, train_loss=0.00107, valid_loss=0.00352]\n"
     ]
    },
    {
     "name": "stdout",
     "output_type": "stream",
     "text": [
      "supervised data: shape of x: (6237, 72, 16), shape of y: (6237, 24, 16)\n",
      "MAPE:0.05084572387857614, MAE:647.523400409149, RMSE:866.8882102514918\n"
     ]
    },
    {
     "data": {
      "image/png": "[encoded data removed]",
      "text/plain": [
       "<Figure size 432x288 with 1 Axes>"
      ]
     },
     "metadata": {
      "needs_background": "light"
     },
     "output_type": "display_data"
    }
   ],
   "source": [
    "random_seed_set(42)\n",
    "MAPE, MAE, RMSE, load_pred, load_true = run_model_retraining()\n",
    "print('MAPE:{}, MAE:{}, RMSE:{}'.format(MAPE, MAE, RMSE))"
   ]
  },
  {
   "cell_type": "code",
   "execution_count": 104,
   "id": "81749911",
   "metadata": {
    "ExecuteTime": {
     "end_time": "2022-01-04T02:23:37.449958Z",
     "start_time": "2022-01-04T02:23:37.444063Z"
    }
   },
   "outputs": [
    {
     "name": "stdout",
     "output_type": "stream",
     "text": [
      "MAPE:0.05084572387857614, MAE:647.523400409149, RMSE:866.8882102514918\n"
     ]
    }
   ],
   "source": [
    "print('MAPE:{}, MAE:{}, RMSE:{}'.format(MAPE, MAE, RMSE))"
   ]
  },
  {
   "cell_type": "markdown",
   "id": "16d86b91",
   "metadata": {},
   "source": [
    "## figure plot"
   ]
  },
  {
   "cell_type": "code",
   "execution_count": null,
   "id": "6a092bf6",
   "metadata": {
    "ExecuteTime": {
     "start_time": "2022-01-04T02:24:14.719Z"
    }
   },
   "outputs": [
    {
     "data": {
      "text/plain": [
       "(0.0, 20178.594054892717)"
      ]
     },
     "execution_count": 105,
     "metadata": {},
     "output_type": "execute_result"
    }
   ],
   "source": [
    "plt.figure(figsize=(20, 10))\n",
    "load_pred = load_pred.reshape(-1, 24)\n",
    "load_true = load_true.reshape(-1, 24)\n",
    "plt.plot(load_pred[:240, 0], 'm')\n",
    "plt.plot(load_true[:240, 0], 'g')\n",
    "plt.ylim(ymin=0)"
   ]
  }
 ],
 "metadata": {
  "kernelspec": {
   "display_name": "Python 3 (ipykernel)",
   "language": "python",
   "name": "python3"
  },
  "language_info": {
   "codemirror_mode": {
    "name": "ipython",
    "version": 3
   },
   "file_extension": ".py",
   "mimetype": "text/x-python",
   "name": "python",
   "nbconvert_exporter": "python",
   "pygments_lexer": "ipython3",
   "version": "3.8.12"
  },
  "toc": {
   "base_numbering": 1,
   "nav_menu": {},
   "number_sections": true,
   "sideBar": true,
   "skip_h1_title": false,
   "title_cell": "Table of Contents",
   "title_sidebar": "Contents",
   "toc_cell": false,
   "toc_position": {
    "height": "calc(100% - 180px)",
    "left": "10px",
    "top": "150px",
    "width": "215.359px"
   },
   "toc_section_display": true,
   "toc_window_display": true
  },
  "varInspector": {
   "cols": {
    "lenName": 16,
    "lenType": 16,
    "lenVar": 40
   },
   "kernels_config": {
    "python": {
     "delete_cmd_postfix": "",
     "delete_cmd_prefix": "del ",
     "library": "var_list.py",
     "varRefreshCmd": "print(var_dic_list())"
    },
    "r": {
     "delete_cmd_postfix": ") ",
     "delete_cmd_prefix": "rm(",
     "library": "var_list.r",
     "varRefreshCmd": "cat(var_dic_list()) "
    }
   },
   "types_to_exclude": [
    "module",
    "function",
    "builtin_function_or_method",
    "instance",
    "_Feature"
   ],
   "window_display": false
  }
 },
 "nbformat": 4,
 "nbformat_minor": 5
}
